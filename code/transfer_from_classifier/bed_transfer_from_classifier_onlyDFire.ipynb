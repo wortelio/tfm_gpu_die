{
 "cells": [
  {
   "cell_type": "code",
   "execution_count": 1,
   "id": "225b20d5-15c5-4de6-b91b-228405789ed7",
   "metadata": {},
   "outputs": [],
   "source": [
    "import os\n",
    "import logging\n",
    "from pathlib import Path\n",
    "import datetime\n",
    "import xml.etree.ElementTree as ET\n",
    "\n",
    "from tqdm import tqdm\n",
    "import numpy as np\n",
    "import math\n",
    "import pandas as pd\n",
    "import random\n",
    "\n",
    "from collections import Counter # for mAP\n",
    "\n",
    "import torch\n",
    "from torch.utils.data import Dataset\n",
    "from torch.utils.data import DataLoader\n",
    "# Not needed\n",
    "# from torchvision.transforms import ToTensor \n",
    "# from torchvision.transforms.v2 import (Compose, ToImage, ToDtype, \n",
    "#                                        Normalize, RandomPhotometricDistort)\n",
    "\n",
    "import albumentations as A\n",
    "from albumentations.pytorch import ToTensorV2\n",
    "\n",
    "import matplotlib.pyplot as plt\n",
    "\n",
    "import torch.nn as nn \n",
    "from torch.nn.utils import parameters_to_vector\n",
    "import torch.optim as optim\n",
    "\n",
    "#from torchvision.ops import complete_box_iou_loss, distance_box_iou_loss\n",
    "\n",
    "import cv2"
   ]
  },
  {
   "cell_type": "code",
   "execution_count": 2,
   "id": "cbcd1701-efe7-42a5-a76e-2f511ea049c8",
   "metadata": {},
   "outputs": [],
   "source": [
    "#torch.cuda.empty_cache()"
   ]
  },
  {
   "cell_type": "markdown",
   "id": "a744c25c-0962-4cc8-986f-2ca69aca323e",
   "metadata": {},
   "source": [
    "# Logger"
   ]
  },
  {
   "cell_type": "code",
   "execution_count": 3,
   "id": "c4072248-8bb2-4cb7-a71b-7b4586d8b188",
   "metadata": {},
   "outputs": [],
   "source": [
    "log_path = 'results_DFire/'\n",
    "\n",
    "logger = logging.getLogger(\"GonLogger\")\n",
    "logger.propagate = False\n",
    "logger.setLevel(logging.INFO)\n",
    "file_handler = logging.FileHandler(log_path + 'logfile.log')\n",
    "formatter = logging.Formatter('%(message)s')\n",
    "file_handler.setFormatter(formatter)\n",
    "\n",
    "# add file handler to logger\n",
    "logger.addHandler(file_handler)\n",
    "\n",
    "logger.info('OPTIM BED final test: train with 3 objects, eval with 3. Only DFire Dataset.\\n')"
   ]
  },
  {
   "cell_type": "markdown",
   "id": "5c28235c-9cc5-4676-b2b1-c31b3c214e83",
   "metadata": {},
   "source": [
    "# Folders"
   ]
  },
  {
   "cell_type": "code",
   "execution_count": 4,
   "id": "af468cf3-f6ef-4eff-9713-3034a68830c6",
   "metadata": {},
   "outputs": [
    {
     "name": "stdout",
     "output_type": "stream",
     "text": [
      "Train dir: ['labels', '.ipynb_checkpoints', 'images']\n",
      "val dir: ['labels', '.ipynb_checkpoints', 'images']\n"
     ]
    }
   ],
   "source": [
    "ds_dir = '../../datasets/ds2fire/dfire_yolo/'\n",
    "\n",
    "train_dir = ds_dir + 'train/'\n",
    "train_imgs = train_dir + 'images/'\n",
    "train_labels = train_dir + 'labels/'\n",
    "\n",
    "#val_dir = ds_dir + 'test/'\n",
    "\n",
    "val_dir = ds_dir + 'test/'\n",
    "val_imgs = val_dir + 'images/'\n",
    "val_labels = val_dir + 'labels/'\n",
    "\n",
    "print(f'Train dir: {os.listdir(train_dir)}')\n",
    "print(f'val dir: {os.listdir(val_dir)}')"
   ]
  },
  {
   "cell_type": "markdown",
   "id": "676dbf6f-f393-4b79-8d23-bda75a58caea",
   "metadata": {},
   "source": [
    "# Config"
   ]
  },
  {
   "cell_type": "code",
   "execution_count": 5,
   "id": "f92b6578-e873-4f1b-a47e-b0788f9c612a",
   "metadata": {},
   "outputs": [],
   "source": [
    "CLASSES = [\"smoke\", \"fire\"]\n",
    "\n",
    "#IMG_DIM = {'W':88, 'H':88} # (W, H)\n",
    "IMG_DIM = {'W':224, 'H':224} # (W, H)\n",
    "\n",
    "SX = 7\n",
    "SY = 7\n",
    "B = 2 # Number of bounding boxes to predict.\n",
    "C = len(CLASSES) # Number of classes in the dataset."
   ]
  },
  {
   "cell_type": "markdown",
   "id": "8704ff2a-2926-4fc7-b2fc-ac3a3fcff843",
   "metadata": {},
   "source": [
    "# Utils"
   ]
  },
  {
   "cell_type": "code",
   "execution_count": 6,
   "id": "7b30097d-3161-4cc1-81fa-ebdf9f0c4e2a",
   "metadata": {},
   "outputs": [],
   "source": [
    "def yolo2pixel(bbox):\n",
    "    '''\n",
    "    Transforms yolo coordinates of the box to pixel coordinates. \n",
    "    \n",
    "    Arguments:\n",
    "        - bbox: yolo coordinates [xc, yc, width, height]\n",
    "    \n",
    "    Returns: \n",
    "        - pixel coordinates [xmin, xmax, ymin, ymax]\n",
    "    '''\n",
    "    xc = bbox[0]\n",
    "    yc = bbox[1]\n",
    "    width = bbox[2]\n",
    "    height = bbox[3]\n",
    "      \n",
    "    xmin = xc - (width/2)          \n",
    "    xmax = xc + (width/2)         \n",
    "    ymin = yc - (height/2)            \n",
    "    ymax = yc + (height/2)\n",
    "        \n",
    "    nbox = [xmin, ymin, xmax, ymax]\n",
    "    \n",
    "    return nbox\n",
    "\n",
    "\n",
    "def iou_tensor(\n",
    "    boxes_preds, boxes_labels, \n",
    "    box_format=\"midpoint\",\n",
    "    epsilon=1e-6\n",
    "):\n",
    "    \"\"\"\n",
    "    Calculates intersection over union for bounding boxes.\n",
    "    \n",
    "    :param boxes_preds (tensor): Bounding box predictions of shape (BATCH_SIZE, 4)\n",
    "    :param boxes_labels (tensor): Ground truth bounding box of shape (BATCH_SIZE, 4)\n",
    "    :param box_format (str): midpoint/corners, if boxes (x,y,w,h) format or (x1,y1,x2,y2) format\n",
    "    :param epsilon: Small value to prevent division by zero.\n",
    "    Returns:\n",
    "        tensor: Intersection over union for all examples\n",
    "    \"\"\"\n",
    "\n",
    "    if box_format == 'midpoint':\n",
    "        box1_x1 = boxes_preds[..., 0:1] - boxes_preds[..., 2:3] / 2\n",
    "        box1_y1 = boxes_preds[..., 1:2] - boxes_preds[..., 3:4] / 2\n",
    "        box1_x2 = boxes_preds[..., 0:1] + boxes_preds[..., 2:3] / 2\n",
    "        box1_y2 = boxes_preds[..., 1:2] + boxes_preds[..., 3:4] / 2\n",
    "        box2_x1 = boxes_labels[..., 0:1] - boxes_labels[..., 2:3] / 2\n",
    "        box2_y1 = boxes_labels[..., 1:2] - boxes_labels[..., 3:4] / 2\n",
    "        box2_x2 = boxes_labels[..., 0:1] + boxes_labels[..., 2:3] / 2\n",
    "        box2_y2 = boxes_labels[..., 1:2] + boxes_labels[..., 3:4] / 2\n",
    "\n",
    "    if box_format == 'corners':\n",
    "        box1_x1 = boxes_preds[..., 0:1]\n",
    "        box1_y1 = boxes_preds[..., 1:2]\n",
    "        box1_x2 = boxes_preds[..., 2:3]\n",
    "        box1_y2 = boxes_preds[..., 3:4] \n",
    "        box2_x1 = boxes_labels[..., 0:1]\n",
    "        box2_y1 = boxes_labels[..., 1:2]\n",
    "        box2_x2 = boxes_labels[..., 2:3]\n",
    "        box2_y2 = boxes_labels[..., 3:4]\n",
    "\n",
    "    x1 = torch.max(box1_x1, box2_x1)\n",
    "    y1 = torch.max(box1_y1, box2_y1)\n",
    "    x2 = torch.min(box1_x2, box2_x2)\n",
    "    y2 = torch.min(box1_y2, box2_y2)\n",
    "\n",
    "    intersection = (x2 - x1).clamp(0) * (y2 - y1).clamp(0)\n",
    "\n",
    "    box1_area = abs((box1_x2 - box1_x1) * (box1_y2 - box1_y1))\n",
    "    box2_area = abs((box2_x2 - box2_x1) * (box2_y2 - box2_y1))\n",
    "\n",
    "    union = (box1_area + box2_area - intersection + epsilon)\n",
    "\n",
    "    iou = intersection / union\n",
    "    #print(f'IOU is numpy: {iou.numpy()}')\n",
    "\n",
    "    return iou\n",
    "\n",
    "def nms_yv1(bboxes, iou_threshold, threshold, box_format=\"corners\"):\n",
    "    \"\"\"\n",
    "    Does Non Max Suppression given bboxes\n",
    "\n",
    "    Parameters:\n",
    "        bboxes (list): list of lists containing all bboxes with each bboxes\n",
    "        specified as [x1, y1, x2, y2, confidence, class_id] MY FORMAT VERSION       \n",
    "        iou_threshold (float): threshold where predicted bboxes is correct\n",
    "        threshold (float): threshold to remove predicted bboxes (independent of IoU) \n",
    "        box_format (str): \"midpoint\" or \"corners\" used to specify bboxes\n",
    "\n",
    "    Returns:\n",
    "        list: bboxes after performing NMS given a specific IoU threshold\n",
    "    \"\"\"\n",
    "\n",
    "    assert type(bboxes) == list\n",
    "\n",
    "    bboxes = [box for box in bboxes if box[4] > threshold]\n",
    "    bboxes = sorted(bboxes, key=lambda x: x[4], reverse=True)\n",
    "    bboxes_after_nms = []\n",
    "\n",
    "    while bboxes:\n",
    "        chosen_box = bboxes.pop(0)\n",
    "\n",
    "        bboxes = [\n",
    "            box\n",
    "            for box in bboxes\n",
    "            if box[5] != chosen_box[5]\n",
    "            or iou_tensor(\n",
    "                torch.tensor(chosen_box[:4]),\n",
    "                torch.tensor(box[:4]),\n",
    "                box_format=box_format,\n",
    "            )\n",
    "            < iou_threshold\n",
    "        ]\n",
    "\n",
    "        bboxes_after_nms.append(chosen_box)\n",
    "\n",
    "    return bboxes_after_nms\n",
    "\n",
    "def nms_yv1_getBBoxes(bboxes, iou_threshold, threshold, box_format=\"corners\"):\n",
    "    \"\"\"\n",
    "    Does Non Max Suppression given bboxes\n",
    "\n",
    "    Parameters:\n",
    "        bboxes (list): list of lists containing all bboxes with each bboxes\n",
    "        specified as [class_id, score, xc, yc, w, h] Output of outcell_2_outboxes       \n",
    "        iou_threshold (float): threshold where predicted bboxes is correct\n",
    "        threshold (float): threshold to remove predicted bboxes (independent of IoU) \n",
    "        box_format (str): \"midpoint\" or \"corners\" used to specify bboxes\n",
    "\n",
    "    Returns:\n",
    "        list: bboxes after performing NMS given a specific IoU threshold\n",
    "    \"\"\"\n",
    "\n",
    "    assert type(bboxes) == list\n",
    "\n",
    "    bboxes = [box for box in bboxes if box[1] > threshold]\n",
    "    bboxes = sorted(bboxes, key=lambda x: x[1], reverse=True)\n",
    "    bboxes_after_nms = []\n",
    "\n",
    "    while bboxes:\n",
    "        chosen_box = bboxes.pop(0)\n",
    "\n",
    "        bboxes = [\n",
    "            box\n",
    "            for box in bboxes\n",
    "            if box[0] != chosen_box[0]\n",
    "            or iou_tensor(\n",
    "                torch.tensor(chosen_box[2:6]),\n",
    "                torch.tensor(box[2:6]),\n",
    "                box_format=box_format,\n",
    "            )\n",
    "            < iou_threshold\n",
    "        ]\n",
    "\n",
    "        bboxes_after_nms.append(chosen_box)\n",
    "\n",
    "    return bboxes_after_nms\n",
    "\n",
    "\n",
    "\n",
    "def mAP(\n",
    "    pred_boxes, true_boxes, iou_threshold=0.5, box_format=\"midpoint\", num_classes=2\n",
    "):\n",
    "    \"\"\"\n",
    "    Calculates mean average precision \n",
    "\n",
    "    Parameters:\n",
    "        pred_boxes (list): list of lists containing all bboxes with each bboxes\n",
    "        specified as [train_idx, class_prediction, prob_score, x1, y1, x2, y2]\n",
    "        true_boxes (list): Similar as pred_boxes except all the correct ones \n",
    "        iou_threshold (float): threshold where predicted bboxes is correct\n",
    "        box_format (str): \"midpoint\" or \"corners\" used to specify bboxes\n",
    "        num_classes (int): number of classes\n",
    "\n",
    "    Returns:\n",
    "        float: mAP value across all classes given a specific IoU threshold \n",
    "    \"\"\"\n",
    "\n",
    "    # list storing all AP for respective classes\n",
    "    average_precisions = []\n",
    "    avg_prec = {}\n",
    "\n",
    "    # Precision and Recall for each class\n",
    "    cls_prec = {}\n",
    "    cls_rec = {}\n",
    "\n",
    "    # used for numerical stability later on\n",
    "    epsilon = 1e-6\n",
    "\n",
    "    #for c in range(num_classes):\n",
    "    for c in tqdm(range(num_classes), desc =\"mAP:@.5\"):\n",
    "        detections = []\n",
    "        ground_truths = []\n",
    "\n",
    "        # Go through all predictions and targets,\n",
    "        # and only add the ones that belong to the\n",
    "        # current class c\n",
    "        for detection in pred_boxes:\n",
    "            if detection[1] == c:\n",
    "                detections.append(detection)\n",
    "        \n",
    "        #print(f'Detections of class {c}: {detections}')\n",
    "        \n",
    "        for true_box in true_boxes:\n",
    "            if true_box[1] == c:\n",
    "                ground_truths.append(true_box)\n",
    "\n",
    "        # find the amount of bboxes for each training example\n",
    "        # Counter here finds how many ground truth bboxes we get\n",
    "        # for each training example, so let's say img 0 has 3,\n",
    "        # img 1 has 5 then we will obtain a dictionary with:\n",
    "        # amount_bboxes = {0:3, 1:5}\n",
    "        amount_bboxes = Counter([gt[0] for gt in ground_truths])\n",
    "        \n",
    "        #print(f'Amount bboxes of class {c}: {amount_bboxes}')\n",
    "\n",
    "        # We then go through each key, val in this dictionary\n",
    "        # and convert to the following (w.r.t same example):\n",
    "        # ammount_bboxes = {0:torch.tensor[0,0,0], 1:torch.tensor[0,0,0,0,0]}\n",
    "        for key, val in amount_bboxes.items():\n",
    "            amount_bboxes[key] = torch.zeros(val)\n",
    "\n",
    "        #print(f'Amount bboxes of class {c} converted: {amount_bboxes}')\n",
    "        \n",
    "        # sort by box probabilities which is index 2\n",
    "        detections.sort(key=lambda x: x[2], reverse=True)\n",
    "        TP = torch.zeros((len(detections)))\n",
    "        FP = torch.zeros((len(detections)))\n",
    "        total_true_bboxes = len(ground_truths)\n",
    "       \n",
    "        #print(f'Total true bboxes of class {c}: {total_true_bboxes}')\n",
    "        \n",
    "        # If none exists for this class then we can safely skip\n",
    "        # Maybe removing this is enough to take into account False Positives\n",
    "        # for images with no objects\n",
    "        if total_true_bboxes == 0:\n",
    "            continue\n",
    "\n",
    "        for detection_idx, detection in enumerate(detections):\n",
    "            # Only take out the ground_truths that have the same\n",
    "            # training idx as detection\n",
    "            ground_truth_img = [\n",
    "                bbox for bbox in ground_truths if bbox[0] == detection[0]\n",
    "            ]\n",
    "\n",
    "            num_gts = len(ground_truth_img)\n",
    "            best_iou = 0\n",
    "\n",
    "            for idx, gt in enumerate(ground_truth_img):\n",
    "                iou = iou_tensor(\n",
    "                    torch.tensor(detection[3:]),\n",
    "                    torch.tensor(gt[3:]),\n",
    "                    box_format=box_format,\n",
    "                )\n",
    "                # iou, _, _ = ut.iou(detection[3:], \n",
    "                #                    gt[3:]) \n",
    "\n",
    "                if iou > best_iou:\n",
    "                    best_iou = iou\n",
    "                    best_gt_idx = idx\n",
    "\n",
    "            if best_iou > iou_threshold:\n",
    "                # only detect ground truth detection once\n",
    "                if amount_bboxes[detection[0]][best_gt_idx] == 0:\n",
    "                    # true positive and add this bounding box to seen\n",
    "                    TP[detection_idx] = 1\n",
    "                    amount_bboxes[detection[0]][best_gt_idx] = 1\n",
    "                else:\n",
    "                    FP[detection_idx] = 1\n",
    "\n",
    "            # if IOU is lower then the detection is a false positive\n",
    "            else:\n",
    "                FP[detection_idx] = 1\n",
    "\n",
    "        #print(f'True Positives class {c}: {TP}')\n",
    "        #print(f'False Positives class {c}: {FP}')\n",
    "\n",
    "        TP_cumsum = torch.cumsum(TP, dim=0)\n",
    "        FP_cumsum = torch.cumsum(FP, dim=0)\n",
    "        recalls = TP_cumsum / (total_true_bboxes + epsilon)\n",
    "        precisions = TP_cumsum / (TP_cumsum + FP_cumsum + epsilon)\n",
    "\n",
    "        if precisions.numel() > 0:\n",
    "            #cls_prec.update({c: precisions[-1].numpy()})\n",
    "            cls_prec.update({c: precisions[-1].item()})\n",
    "        else:\n",
    "            cls_prec.update({c: 0.})\n",
    "        if recalls.numel() > 0:\n",
    "            #cls_rec.update({c: recalls[-1].numpy()})\n",
    "            cls_rec.update({c: recalls[-1].item()})\n",
    "        else:\n",
    "            cls_rec.update({c: 0.})\n",
    "\n",
    "        precisions = torch.cat((torch.tensor([1]), precisions))\n",
    "        recalls = torch.cat((torch.tensor([0]), recalls))\n",
    "        # torch.trapz for numerical integration\n",
    "        average_precisions.append(torch.trapz(precisions, recalls))\n",
    "        avg_prec.update({c: torch.trapz(precisions, recalls)})\n",
    "\n",
    "        if c == 0:\n",
    "            class_name = \"smoke\"\n",
    "        elif c == 1:\n",
    "            class_name = \"fire\"\n",
    "        else:\n",
    "            print(\"Wrong class\")\n",
    "            raise SystemExit(\"Wrong class in mAP\")\n",
    "        plt.plot(recalls, precisions)\n",
    "        plt.title(\"Precision-Recall Curve\")\n",
    "        plt.ylim([0,1])\n",
    "        plt.xlim([0,1])\n",
    "        plt.xlabel(\"Recall\")\n",
    "        plt.ylabel(\"Precision\")\n",
    "        plt.grid()\n",
    "        plt.savefig(log_path + class_name + \"_pre_rec_curve.png\")\n",
    "        plt.close()\n",
    "\n",
    "    mAP = sum(average_precisions) / (len(average_precisions) + epsilon)\n",
    "\n",
    "    #return mAP, average_precisions, cls_prec, cls_rec\n",
    "    return (mAP, \n",
    "            avg_prec,\n",
    "            cls_prec, \n",
    "            cls_rec)\n",
    "\n",
    "\n",
    "def get_bboxes(\n",
    "    loader,\n",
    "    model,\n",
    "    SX,\n",
    "    SY,\n",
    "    B,\n",
    "    C,\n",
    "    mask,\n",
    "    iou_threshold,\n",
    "    threshold,\n",
    "    device,\n",
    "    box_format=\"midpoint\"):\n",
    "    \n",
    "    \n",
    "    all_pred_boxes = []\n",
    "    all_true_boxes = []\n",
    "\n",
    "    # make sure model is in eval before get bboxes\n",
    "    model.eval()\n",
    "    train_idx = 0\n",
    "\n",
    "    loop = tqdm(loader, desc='Get Boxes', leave=True)\n",
    "    #for batch_idx, (imgs, labels, _, _) in enumerate(loader):\n",
    "    #for batch_idx, (imgs, labels) in enumerate(loader):\n",
    "    for batch_idx, (imgs, labels) in enumerate(loop):\n",
    "        imgs = imgs.to(device)\n",
    "        labels = labels.to(device)\n",
    "\n",
    "        with torch.no_grad():\n",
    "            predictions = model(imgs)\n",
    "\n",
    "        batch_size = imgs.shape[0]\n",
    "        true_bboxes = outcell_2_outboxes(out_cells=labels, \n",
    "                                         SX=SX, SY=SY, B=B, C=C, \n",
    "                                         mask=mask, \n",
    "                                         device='cpu', # Changed to cpu\n",
    "                                         is_pred=False)\n",
    "        bboxes = outcell_2_outboxes(out_cells=predictions, \n",
    "                                    SX=SX, SY=SY, B=B, C=C, \n",
    "                                    mask=mask, \n",
    "                                    device='cpu', # Changed to cpu\n",
    "                                    is_pred=True)\n",
    "\n",
    "        for idx in range(batch_size):\n",
    "            #nms_boxes = nms_yv1(\n",
    "            nms_boxes = nms_yv1_getBBoxes(\n",
    "                bboxes[idx],\n",
    "                iou_threshold=iou_threshold,\n",
    "                threshold=threshold,\n",
    "                box_format=box_format, # Midpoint, to use iou_tensor inside\n",
    "            )\n",
    "\n",
    "\n",
    "            #if batch_idx == 0 and idx == 0:\n",
    "            #    plot_image(x[idx].permute(1,2,0).to(\"cpu\"), nms_boxes)\n",
    "            #    print(nms_boxes)\n",
    "\n",
    "            for nms_box in nms_boxes:\n",
    "                all_pred_boxes.append([train_idx] + nms_box)\n",
    "\n",
    "            for box in true_bboxes[idx]:\n",
    "                # many will get converted to 0 pred, as bboxes have Conf = 1 and the rest are 0\n",
    "                if box[1] > threshold:\n",
    "                    all_true_boxes.append([train_idx] + box)\n",
    "\n",
    "            train_idx += 1\n",
    "\n",
    "    model.train()\n",
    "    return all_pred_boxes, all_true_boxes\n",
    "\n",
    "\n",
    "def outcell_2_outboxes(out_cells, SX, SY, B, C, mask, device, is_pred = True):\n",
    "    '''\n",
    "    Convert batch of cells to batch of boxes: out_cells must be of shape (BATCH_SIZE, SX, SY, B*5+C) \n",
    "        [xcel, ycel, w, h, conf, class_0, class_1] -> [pred_class, score, xc, yc, w, h]\n",
    "    \n",
    "    Arguments:\n",
    "        - out_cells: labels at loader output or predictions at model output\n",
    "            Format: [xcel, ycel, w, h, conf, class_0, class_1]\n",
    "    Return:\n",
    "        - all_bboxes: list of bounding boxes\n",
    "            Format: [[bboxes idx 0], [bboxes idx 1], ... [bboxes idx BATCH_SIZE-1]]\n",
    "    '''\n",
    "\n",
    "    out_cells = out_cells.to(device) # TAKE A LOOK TO CPU DECISION\n",
    "\n",
    "    out_cells[out_cells <= 0] = 0 # Zeroing all negative values. Avoid (-conf * -class_id) = +score\n",
    "    #out_cells[out_cells >= 1] = 1 # Clamping all values to 1. Avoid being out of the image. Maybe afterwards, although it does not hurt here.\n",
    "                                   # This is due to yolo2pixel transformation, which could led to out of image values, depending on (w, h)\n",
    "\n",
    "    batch_size = out_cells.shape[0]\n",
    "    if is_pred:\n",
    "        out_cells = out_cells.reshape(batch_size, SY, SX, B*5+C)\n",
    "    else:\n",
    "        out_cells = out_cells.reshape(batch_size, SY, SX, 5+C)\n",
    "    \n",
    "    # With 2 BBoxes, choose the one with highest confidence. How highest IOU, without label?\n",
    "    if (B>1 and is_pred):\n",
    "        '''\n",
    "        2 BB: [xcell, ycell, w, h, confidence_A, xcell, ycell, w, h, confidence_B, class_0, class_1]\n",
    "        '''\n",
    "        bbox1 = out_cells[..., :4]\n",
    "        bbox2 = out_cells[..., 5:9]\n",
    "        score = torch.cat((out_cells[..., 4:5],out_cells[..., 9:10]), dim=-1)\n",
    "        best_score, idx = torch.max(score, dim=-1, keepdim=True)\n",
    "\n",
    "        bestbbox = (1-idx)*bbox1 + idx*bbox2\n",
    "\n",
    "        #class_prob = a[..., 10:12] # Esto no hace falta, se hace debajo\n",
    "        #cls_pred = class_prob.argmax(dim=-1, keepdim=True)\n",
    "        out_cells = torch.cat((bestbbox, best_score, out_cells[..., 10:12]), dim=-1)\n",
    "        \n",
    "    \n",
    "    # All cells are converted to boxes. Format will be [xc, yc, w, h, conf, class_0, class_1]\n",
    "    boxes = cell2boxes(cells = out_cells, mask = mask)\n",
    "\n",
    "    # ================================================================================================================== #\n",
    "    #                                                                                                                    #\n",
    "    #     Convert [xc, yc, w, h, conf, class_0, class_1] to [pred_class, score, xc, yc, w, h]                            #\n",
    "    #         Identify class predicted: class_0 > class_1 ??? or the opposite                                            #\n",
    "    #         Multiply (conf * class_id) to get score and compare to threshold afterwards. It will be 1 for ground truth #\n",
    "    #                                                                                                                    #\n",
    "    # ================================================================================================================== #\n",
    "    classes = boxes[...,5:7].argmax(-1).unsqueeze(-1) # Indices of class predictes, matching class_id: index 0 -> smoke, class id = 0 // same for fire\n",
    "    #print(f'Tensor of classes predicted\\n {classes}')   \n",
    "    \n",
    "    # If SOFTMAX is used, there is no need to multiply conf * class_prob\n",
    "    # scores = ( boxes[...,4].unsqueeze(-1) ) * boxes[...,5:7] # score = confidence * [class_0_prob, class_1_prob]\n",
    "    # scores, _ = torch.max(scores, dim=-1, keepdim=True) # Get maximum values -> score of class predicted\n",
    "    scores = boxes[..., 4:5]\n",
    "    #print(f'Scores together\\n {scores}')     \n",
    "    \n",
    "    out_boxes = torch.concat((classes, scores, boxes[...,:4]), dim=-1) # Concat all data\n",
    "    #print(f'Final Output {out_boxes}')    \n",
    "\n",
    "    # =========================================== #\n",
    "    #                                             #\n",
    "    #             Convert boxes to List           #\n",
    "    #                                             #\n",
    "    #    [[bboxes idx 0] , [bboxes idx 1], etc]   #\n",
    "    #                                             #\n",
    "    # =========================================== #\n",
    "    all_bboxes = []\n",
    "\n",
    "    for ex_idx in range(batch_size):\n",
    "        bboxes = []\n",
    "\n",
    "#         for bbox_i in range(SX):\n",
    "#             for bbox_j in range(SY):\n",
    "#                 bboxes.append([x.item() for x in out_boxes[ex_idx, bbox_i, bbox_j, :]])\n",
    "        for bbox_i in range(SX):\n",
    "            for bbox_j in range(SY):\n",
    "                bboxes.append([x.item() for x in out_boxes[ex_idx, bbox_j, bbox_i, :]])     \n",
    "        all_bboxes.append(bboxes)\n",
    "    \n",
    "    return all_bboxes\n",
    "\n",
    "\n",
    "def cell2boxes(cells, mask):\n",
    "    '''\n",
    "    Converts cells to boxes using the cell2box_mask and broadcasting over batches\n",
    "    In targets, sum only when score = 1\n",
    "\n",
    "    Arguments:\n",
    "        - cells: cells to convert, as yield by Dataloader in batches\n",
    "        - mask: mask used for conversion\n",
    "\n",
    "    Return:\n",
    "        - cells converted to boxes\n",
    "    '''\n",
    "\n",
    "    #out_boxes = cells.clone().detach()\n",
    "    out_boxes = cells.detach().clone()\n",
    "    out_boxes[...,0:1] = (out_boxes[...,0:1] + mask[...,0:1])/SX \n",
    "    out_boxes[...,1:2] = (out_boxes[...,1:2] + mask[...,1:2])/SY \n",
    "\n",
    "    return out_boxes\n",
    "\n",
    "\n",
    "def plot_preds(ori_img, img_w, img_h, nms_preds, names, colors):\n",
    "    '''\n",
    "    It draws the bounding boxes over the image.\n",
    "\n",
    "    Arguments:\n",
    "        - ori_img: original image with no modification or letterbox\n",
    "        - nms_preds: Non Maximum Supression predictions [x0, y0, x1, y1, class_id, score]\n",
    "        - names: list of class names\n",
    "        - colors: list of colors asigned to each class in cv2 format (B,G,R)\n",
    "        - ratio: ratio of letterbox conversion\n",
    "        - dwdh: paddings of letterbox conversion\n",
    "\n",
    "    Returns:\n",
    "        - pic: picture with bounding boxes on top of original picture\n",
    "    '''\n",
    "    \n",
    "    pic = ori_img.copy()\n",
    "    \n",
    "    for i,(xc,yc,w,h,score,class_id) in enumerate(nms_preds):\n",
    "        box = np.array(yolo2pixel([xc,yc,w,h]))\n",
    "        box[0] = box[0]*img_w\n",
    "        box[1] = box[1]*img_h\n",
    "        box[2] = box[2]*img_w\n",
    "        box[3] = box[3]*img_h\n",
    "        box = box.round().astype(np.int32).tolist()\n",
    "        cls_id = int(class_id)\n",
    "        score = round(float(score),3)\n",
    "        name = names[cls_id]\n",
    "        color = colors[name]\n",
    "        name += ' '+str(score)\n",
    "        cv2.rectangle(pic,box[:2],box[2:],color,2) # 1 -> rectangle thickness\n",
    "        cv2.putText(pic,name,(box[0]+6, box[1] + 20),cv2.FONT_HERSHEY_SIMPLEX,0.4,[225, 255, 255],thickness=1)  # 0.5 -> font size\n",
    "\n",
    "    return pic\n",
    "\n",
    "def save_log(epochs, \n",
    "             train_total_loss,\n",
    "             train_box_loss,\n",
    "             train_class_loss,\n",
    "             train_confidence_loss,\n",
    "             train_noobj_loss,\n",
    "             train_mAP,\n",
    "             train_class_AP,\n",
    "             train_class_precision,\n",
    "             train_class_recall,\n",
    "             val_total_loss,\n",
    "             val_box_loss,\n",
    "             val_class_loss,\n",
    "             val_confidence_loss,\n",
    "             val_noobj_loss,\n",
    "             val_mAP,\n",
    "             val_class_AP,\n",
    "             val_class_precision,\n",
    "             val_class_recall,\n",
    "             log_file_dst):\n",
    "    \n",
    "    '''\n",
    "    Create a dictionary with all metrics\n",
    "    Save the dictionary as excel file with Pandas\n",
    "    '''\n",
    "    \n",
    "    epoch_range = range(epochs)\n",
    "    log_file = {}\n",
    "    log_file.update({\"epoch\": epoch_range})\n",
    "    \n",
    "    # Train Losses\n",
    "    log_file.update({\"train_total_loss\": train_total_loss})\n",
    "    log_file.update({\"train_box_loss\": train_box_loss})\n",
    "    log_file.update({\"train_class_loss\": train_class_loss})\n",
    "    log_file.update({\"train_confidence_loss\": train_confidence_loss})\n",
    "    log_file.update({\"train_noobj_loss\": train_noobj_loss})\n",
    "    \n",
    "    # Train mAP, Class AP, Precision, Recall\n",
    "    train_mAP_log = []\n",
    "    for e in train_mAP:\n",
    "        #train_mAP_log.append(e.numpy())\n",
    "        #train_mAP_log.append(e)\n",
    "        train_mAP_log.append(e.item())\n",
    "    log_file.update({\"train_mAP\": train_mAP_log})\n",
    "    \n",
    "    train_smk_AP = []\n",
    "    train_fire_AP = []\n",
    "    for e in train_class_AP:\n",
    "        #train_smk_AP.append(e[0].numpy())\n",
    "        #train_smk_AP.append(e[0])\n",
    "        train_smk_AP.append(e[0].item())\n",
    "        #train_fire_AP.append(e[1].numpy())\n",
    "        #train_fire_AP.append(e[1])\n",
    "        train_fire_AP.append(e[1].item())\n",
    "    log_file.update({\"train_smk_AP\": train_smk_AP})\n",
    "    log_file.update({\"train_fire_AP\": train_fire_AP})\n",
    "    \n",
    "    \n",
    "    train_smk_precision = []\n",
    "    train_fire_precision = []\n",
    "    for e in train_class_precision:\n",
    "        #train_smk_precision.append(e[0].numpy())\n",
    "        train_smk_precision.append(e[0])\n",
    "        #train_fire_precision.append(e[1].numpy())\n",
    "        train_fire_precision.append(e[1])\n",
    "    log_file.update({\"train_smk_precision\": train_smk_precision})\n",
    "    log_file.update({\"train_fire_precision\": train_fire_precision})\n",
    "        \n",
    "    train_smk_recall = []\n",
    "    train_fire_recall = []\n",
    "    for e in train_class_recall:\n",
    "        #train_smk_recall.append(e[0].numpy())\n",
    "        train_smk_recall.append(e[0])\n",
    "        #train_fire_recall.append(e[1].numpy())\n",
    "        train_fire_recall.append(e[1])\n",
    "    log_file.update({\"train_smk_recall\": train_smk_recall})\n",
    "    log_file.update({\"train_fire_recall\": train_fire_recall})\n",
    "    \n",
    "    # Validation Losses\n",
    "    log_file.update({\"val_total_loss\": val_total_loss})\n",
    "    log_file.update({\"val_box_loss\": val_box_loss})\n",
    "    log_file.update({\"val_class_loss\": val_class_loss})\n",
    "    log_file.update({\"val_confidence_loss\": val_confidence_loss})\n",
    "    log_file.update({\"val_noobj_loss\": val_noobj_loss})\n",
    "    \n",
    "    # Val mAP, Class AP, Precision, Recall\n",
    "    val_mAP_log = []\n",
    "    for e in val_mAP:\n",
    "        #val_mAP_log.append(e.numpy())\n",
    "        val_mAP_log.append(e.item())\n",
    "    log_file.update({\"val_mAP\": val_mAP_log})\n",
    "    \n",
    "    val_smk_AP = []\n",
    "    val_fire_AP = []\n",
    "    for e in val_class_AP:\n",
    "        val_smk_AP.append(e[0].item())\n",
    "        val_fire_AP.append(e[1].item())\n",
    "    log_file.update({\"val_smk_AP\": val_smk_AP})\n",
    "    log_file.update({\"val_fire_AP\": val_fire_AP})\n",
    "    \n",
    "    val_smk_precision = []\n",
    "    val_fire_precision = []\n",
    "    for e in val_class_precision:\n",
    "        val_smk_precision.append(e[0])\n",
    "        val_fire_precision.append(e[1])\n",
    "    log_file.update({\"val_smk_precision\": val_smk_precision})\n",
    "    log_file.update({\"val_fire_precision\": val_fire_precision})\n",
    "    \n",
    "    val_smk_recall = []\n",
    "    val_fire_recall = []\n",
    "    for e in val_class_recall:\n",
    "        val_smk_recall.append(e[0])\n",
    "        val_fire_recall.append(e[1])\n",
    "    log_file.update({\"val_smk_recall\": val_smk_recall})\n",
    "    log_file.update({\"val_fire_recall\": val_fire_recall})\n",
    "    \n",
    "    df = pd.DataFrame(log_file)\n",
    "    df.to_excel(log_file_dst)"
   ]
  },
  {
   "cell_type": "markdown",
   "id": "c5891d5e-3ee7-45b3-ad2a-fe9d6c1ff00b",
   "metadata": {},
   "source": [
    "# Dataset"
   ]
  },
  {
   "cell_type": "markdown",
   "id": "b76e6703-39c8-41d1-940a-91c1de8c8809",
   "metadata": {},
   "source": [
    "# DFire"
   ]
  },
  {
   "cell_type": "code",
   "execution_count": 7,
   "id": "c57d78ca-ac32-41b6-bff4-991135f5e9cc",
   "metadata": {},
   "outputs": [],
   "source": [
    "class DFireDataset(Dataset):\n",
    "    '''\n",
    "    Creates a Pytorch Dataset to train the Yolov1 Network.\n",
    "    Encodes labels to match the format [xcell, ycell, w, h, confidence, class_0 (smoke), class_1 (fire)]\n",
    "        - Final encoding format is: [xcell, ycell, w, h, conf=1, smoke?, fire?]\n",
    "\n",
    "    Discard images when there are more than 1 object in the same cell\n",
    "    \n",
    "    Arguments:\n",
    "        - img_h:            image height\n",
    "        - img_w:            image width\n",
    "        - img_dir:          path to images folder\n",
    "        - label_dir:        path to labels folder\n",
    "        - SX:               number of cells in X axis (horizontal -> width)\n",
    "        - SY:               number of cells in Y axis (vertical -> height)\n",
    "        - C:                number of classes, 2 in this case\n",
    "        - max_obj:          maximum number of objects in the picture\n",
    "        - transform:        transformation applied to input images -> Albumentations\n",
    "        - target_transform: transformation applied to labels -> nothing by default\n",
    "\n",
    "    Return:\n",
    "        - img:              1 image of the dataset\n",
    "        - target:           corresponding label encoded\n",
    "    '''\n",
    "\n",
    "    def __init__(self, img_h, img_w, img_dir, label_dir, \n",
    "                 num_imgs,\n",
    "                 SX, SY, C, max_obj,\n",
    "                 transform=None, target_transform=None):\n",
    "        self.img_h = img_h\n",
    "        self.img_w = img_w\n",
    "        self.img_dir = img_dir\n",
    "        self.label_dir = label_dir\n",
    "        self.num_imgs = num_imgs\n",
    "        self.SX = SX\n",
    "        self.SY = SY\n",
    "        self.C = C\n",
    "        self.max_obj = max_obj\n",
    "        self.transform = transform\n",
    "        self.target_transform = target_transform\n",
    "        \n",
    "        self.except_transform = A.Compose([\n",
    "                                    A.Resize(self.img_h, self.img_w, p=1),\n",
    "                                    A.Normalize(mean=(0.485, 0.456, 0.406), std=(0.229, 0.224, 0.225), p=1), \n",
    "                                    ToTensorV2(p=1)\n",
    "                                ])\n",
    "\n",
    "        self.labels_list = sorted(\n",
    "            [\n",
    "                os.path.join(self.label_dir, file_name)\n",
    "                for file_name in os.listdir(self.label_dir)\n",
    "                if file_name.endswith(\".txt\")\n",
    "            ]\n",
    "        )\n",
    "\n",
    "        # Limit to n examples\n",
    "        if self.num_imgs is not None:\n",
    "            random.seed(123)\n",
    "            random.shuffle(self.labels_list)       \n",
    "            self.images, self.bboxes, self.labels = self.__build_ds__(self.labels_list[:self.num_imgs])\n",
    "            self.num_samples = self.images.shape[0]\n",
    "        else:\n",
    "            self.images, self.bboxes, self.labels = self.__build_ds__(self.labels_list)        \n",
    "            self.num_samples = self.images.shape[0]\n",
    "\n",
    "    def __len__(self):\n",
    "        return self.num_samples\n",
    "    \n",
    "    def __bbox_check__(self, bbox):\n",
    "        eps = 1e-6\n",
    "        \n",
    "        xc, yc, w, h = bbox[0], bbox[1], bbox[2], bbox[3]\n",
    "        xmin = xc - w/2\n",
    "        ymin = yc - h/2\n",
    "        xmax = xc + w/2\n",
    "        ymax = yc + h/2\n",
    "        \n",
    "        xmin = max(xmin, 0 + eps)\n",
    "        ymin = max(ymin, 0 + eps)\n",
    "        xmax = min(xmax, 1)\n",
    "        ymax = min(ymax, 1)\n",
    "        \n",
    "        bbox = np.array([ \n",
    "                (xmin+xmax)/2,\n",
    "                (ymin+ymax)/2,\n",
    "                xmax-xmin,\n",
    "                ymax-ymin\n",
    "                 ]).astype(np.float32)\n",
    "        \n",
    "        return bbox        \n",
    "\n",
    "\n",
    "    def __build_ds__(self, labels_list):\n",
    "        bboxes = []\n",
    "        labels = []\n",
    "        images = []\n",
    "        wrong_imgs = 0\n",
    "        overlapping_rem = 0\n",
    "        more_than_x = 0\n",
    "                \n",
    "        for label in labels_list:\n",
    "            fname = Path(label).stem\n",
    "            image_path = self.img_dir + fname + '.jpg'   \n",
    "            #print(fname, image_path)\n",
    "                                   \n",
    "            if cv2.imread(image_path) is None:\n",
    "                print(f'{image_path} cannot be read by cv2 -> removed')\n",
    "                wrong_imgs += 1\n",
    "            \n",
    "            else:\n",
    "                \n",
    "                label_mtx = np.zeros((self.SY, self.SX))\n",
    "                overlapping_object = 0\n",
    "\n",
    "                one_bboxes = []\n",
    "                one_labels = []\n",
    "            \n",
    "                with open(label) as f:\n",
    "                    lines = f.readlines()\n",
    "\n",
    "                    # Restrict to max_obj boxes per sample\n",
    "                    if len(lines) > self.max_obj:\n",
    "                        more_than_x += 1\n",
    "                        continue\n",
    "                        \n",
    "                    for line in lines:\n",
    "                        class_id, x, y, w, h = line.strip().split()\n",
    "                        class_id = int(class_id)\n",
    "                        box = np.array([x, y, w, h]).astype(np.float32)\n",
    "                        x, y, w, h = box[0], box[1], box[2], box[3]\n",
    "                        box_ok = self.__bbox_check__([x, y, w, h])\n",
    "                        x, y, w, h = box_ok[0], box_ok[1], box_ok[2], box_ok[3]\n",
    "                        i, j = math.floor(y * self.SY), math.floor(x * self.SX)\n",
    "                        if label_mtx[i, j] == 1:\n",
    "                            overlapping_object = 1\n",
    "                            overlapping_rem += 1\n",
    "                            #print(f'Removed {label} due to overlapping object in cell {i, j}')\n",
    "                            break\n",
    "                        else:\n",
    "                            label_mtx[i, j] = 1\n",
    "                            one_bboxes.append([x, y, w, h])\n",
    "                            # smoke\n",
    "                            if class_id == 0:\n",
    "                                one_labels.append(0)\n",
    "                            # fire\n",
    "                            elif class_id == 1:\n",
    "                                one_labels.append(1)\n",
    "                            else:\n",
    "                                print(f'File {label} errored in cell {i, j}')\n",
    "\n",
    "                    if overlapping_object == 0:\n",
    "                        # Padding to SX*SY labels and bounding boxes, so you can store tensors\n",
    "                        # Label -1 indicates no box\n",
    "                        for idx in range(self.SX*self.SY - len(one_labels)):\n",
    "                            one_bboxes.append([0, 0, 0, 0])\n",
    "                            one_labels.append(-1)\n",
    "                        # print(f'\\nBboxes and Labels of image {image_path}')\n",
    "                        # print(\"Bboxes\")\n",
    "                        # for box in one_bboxes:\n",
    "                        #     print(box)\n",
    "                        # print(\"Labels\")\n",
    "                        # for label in one_labels:\n",
    "                        #     print(label)\n",
    "                        bboxes.append(one_bboxes)\n",
    "                        labels.append(one_labels)\n",
    "                        images.append(image_path)\n",
    "        \n",
    "        print(f'DFire Removed wrong images: {wrong_imgs}')\n",
    "        print(f'DFire Removed due to overlapping: {overlapping_rem}')\n",
    "        print(f'DFire Removed due to more than {self.max_obj}: {more_than_x}')\n",
    "        logger.info(f'DFire Removed wrong images: {wrong_imgs}')\n",
    "        logger.info(f'DFire Removed due to overlapping: {overlapping_rem}')\n",
    "        logger.info(f'DFire Removed due to more than {self.max_obj}: {more_than_x}')\n",
    "\n",
    "        labels_np = np.array(labels)\n",
    "        labels_tensor = torch.tensor(labels_np, dtype=torch.float32)\n",
    "        bboxes_np = np.array(bboxes)\n",
    "        bboxes_tensor = torch.tensor(bboxes_np, dtype=torch.float32)\n",
    "        images_array = np.array(images)\n",
    "        # print(f'Images array {images_array}')\n",
    "        # print(f'Bboxes tensor {bboxes_tensor}')\n",
    "        # print(f'Labels tensor {labels_tensor}')\n",
    "        \n",
    "        return images_array, bboxes_tensor, labels_tensor\n",
    "        #return images, bboxes, labels\n",
    "\n",
    "    def __getitem__(self, index):\n",
    "\n",
    "        # Image processing\n",
    "        img_file = self.images[index]\n",
    "        img = cv2.imread(img_file)\n",
    "        img = cv2.cvtColor(img, cv2.COLOR_BGR2RGB)   \n",
    "        #img = cv2.resize(img, (self.img_w, self.img_h), interpolation = cv2.INTER_NEAREST)\n",
    "\n",
    "        # Labels processing\n",
    "        bboxes = self.bboxes[index]\n",
    "        bboxes = bboxes[~torch.all(bboxes == torch.tensor([0,0,0,0]), dim=1)]\n",
    "        bboxes = bboxes.numpy().tolist()\n",
    "        #print(bboxes)\n",
    "        labels = self.labels[index]\n",
    "        labels = labels[labels != -1.]\n",
    "        labels = labels.numpy().tolist()\n",
    "        #print(f'Labels inside dataset {labels}')\n",
    "        \n",
    "        # Data Augmentation\n",
    "        if self.transform is not None:\n",
    "            try:\n",
    "                aug = self.transform(image=img, bboxes=bboxes, class_labels=labels)\n",
    "                img = aug['image'] \n",
    "                bboxes = aug['bboxes']\n",
    "                labels = aug['class_labels']\n",
    "            except:\n",
    "                #print(f'Error trying to augment image {img_file}')\n",
    "                aug = self.except_transform(image=img)\n",
    "                img = aug['image'] \n",
    "                # img = cv2.resize(img, (self.img_w, self.img_h), interpolation = cv2.INTER_NEAREST)\n",
    "                # img = (img / 255.0)\n",
    "                # img = torch.tensor(img, dtype=torch.float32)\n",
    "                # img = img.permute(2, 0, 1)\n",
    "        \n",
    "        label_mtx = np.zeros((self.SY, self.SX, 5+self.C))\n",
    "        \n",
    "        for box, label in zip(bboxes, labels):\n",
    "            class_id = int(label)\n",
    "            i, j = int(box[1]*self.SY), int(box[0]*self.SX)\n",
    "            xcell, ycell = box[0]*self.SX - j, box[1]*self.SY - i\n",
    "            label_mtx[i, j, :5] = [xcell, ycell, box[2], box[3], 1]\n",
    "            label_mtx[i, j, 5+class_id] = 1\n",
    "\n",
    "        label_mtx = torch.tensor(label_mtx, dtype=torch.float32)\n",
    "        \n",
    "        #return img, label_mtx, img_file\n",
    "        return img, label_mtx"
   ]
  },
  {
   "cell_type": "markdown",
   "id": "4e28f448-13cf-4365-8e46-a96e7a6ba2bd",
   "metadata": {},
   "source": [
    "# Classifier Model"
   ]
  },
  {
   "cell_type": "code",
   "execution_count": 8,
   "id": "09430e0d-4fb7-4b18-86b4-6d6ebd77203c",
   "metadata": {},
   "outputs": [],
   "source": [
    "class BED_CLASSIFIER(nn.Module):\n",
    "    def __init__(self, num_classes, in_channels=3):\n",
    "        super(BED_CLASSIFIER, self).__init__()\n",
    "        self.in_channels = in_channels\n",
    "        self.last_channels = 128\n",
    "        self.num_classes = num_classes\n",
    "        \n",
    "        self.model = self.__create_BED__()\n",
    "        \n",
    "        self.pool = nn.AdaptiveAvgPool2d((1, 1))\n",
    "        self.smoke = nn.Sequential(\n",
    "            nn.Dropout(p=0.2),\n",
    "            nn.Linear(in_features=self.last_channels, out_features=64),\n",
    "            nn.ReLU(),\n",
    "            nn.Linear(in_features=64, out_features=1)\n",
    "        )\n",
    "        self.fire = nn.Sequential(\n",
    "            nn.Dropout(p=0.2),\n",
    "            nn.Linear(in_features=self.last_channels, out_features=64),\n",
    "            nn.ReLU(),\n",
    "            nn.Linear(in_features=64, out_features=1)\n",
    "        )\n",
    "\n",
    "        \n",
    "    def __create_BED__(self):\n",
    "        BED_model = nn.Sequential(\n",
    "            # Conv2d [in_channels, out_channels, kernel_size, stride, padding, bias]\n",
    "\n",
    "            # CNNBlock 224x224\n",
    "            nn.Conv2d(self.in_channels, 64, kernel_size=3, stride=1, padding=1,  bias=False),\n",
    "            nn.BatchNorm2d(64, affine=False),\n",
    "            nn.ReLU(),\n",
    "            nn.Dropout2d(p=0.3),\n",
    "\n",
    "            # CNNBlock 112x112\n",
    "            nn.MaxPool2d(kernel_size=2, stride=2),\n",
    "            nn.Conv2d(64, 24, kernel_size=3, stride=1, padding=1,  bias=False),\n",
    "            nn.BatchNorm2d(24, affine=False),\n",
    "            nn.ReLU(),\n",
    "            nn.Dropout2d(p=0.3),\n",
    "\n",
    "            # CNNBlock 56x56\n",
    "            nn.MaxPool2d(kernel_size=2, stride=2),\n",
    "            # kernel = 1 in github\n",
    "            nn.Conv2d(24, 16, kernel_size=1, stride=1, padding=0,  bias=False),\n",
    "            nn.BatchNorm2d(16, affine=False),\n",
    "            nn.ReLU(),\n",
    "            \n",
    "            nn.Conv2d(16, 32, kernel_size=3, stride=1, padding=1,  bias=False),\n",
    "            nn.BatchNorm2d(32, affine=False),\n",
    "            nn.ReLU(),\n",
    "            \n",
    "            # kernel = 1 in github\n",
    "            nn.Conv2d(32, 32, kernel_size=1, stride=1, padding=0,  bias=False),\n",
    "            nn.BatchNorm2d(32, affine=False),\n",
    "            nn.ReLU(),\n",
    "            \n",
    "            nn.Conv2d(32, 64, kernel_size=3, stride=1, padding=1,  bias=False),\n",
    "            nn.BatchNorm2d(64, affine=False),\n",
    "            nn.ReLU(),\n",
    "\n",
    "            # CNNBlock 28x28\n",
    "            nn.MaxPool2d(kernel_size=2, stride=2),\n",
    "            nn.Conv2d(64, 32, kernel_size=1, stride=1, padding=0,  bias=False),\n",
    "            nn.BatchNorm2d(32, affine=False),\n",
    "            nn.ReLU(),\n",
    "            \n",
    "            nn.Conv2d(32, 64, kernel_size=3, stride=1, padding=1,  bias=False),\n",
    "            nn.BatchNorm2d(64, affine=False),\n",
    "            nn.ReLU(),\n",
    "            \n",
    "            nn.Conv2d(64, 32, kernel_size=1, stride=1, padding=0,  bias=False),\n",
    "            nn.BatchNorm2d(32, affine=False),\n",
    "            nn.ReLU(),\n",
    "            \n",
    "            nn.Conv2d(32, 64, kernel_size=3, stride=1, padding=1,  bias=False),\n",
    "            nn.BatchNorm2d(64, affine=False),\n",
    "            nn.ReLU(),\n",
    "            \n",
    "            nn.Conv2d(64, 32, kernel_size=1, stride=1, padding=0,  bias=False),\n",
    "            nn.BatchNorm2d(32, affine=False),\n",
    "            nn.ReLU(),\n",
    "            \n",
    "            nn.Conv2d(32, 64, kernel_size=3, stride=1, padding=1,  bias=False),\n",
    "            #nn.BatchNorm2d(64, affine=False),\n",
    "            nn.ReLU(),\n",
    "\n",
    "            # CNNBlock 14x14\n",
    "            nn.MaxPool2d(kernel_size=2, stride=2), \n",
    "            nn.Conv2d(64, 32, kernel_size=1, stride=1, padding=0,  bias=False),\n",
    "            nn.BatchNorm2d(32, affine=False),\n",
    "            nn.ReLU(),\n",
    "            \n",
    "            nn.Conv2d(32, 64, kernel_size=3, stride=1, padding=1,  bias=False),\n",
    "            nn.BatchNorm2d(64, affine=False),\n",
    "            nn.ReLU(),\n",
    "            \n",
    "            nn.Conv2d(64, 32, kernel_size=1, stride=1, padding=0,  bias=False),\n",
    "            nn.BatchNorm2d(32, affine=False),\n",
    "            nn.ReLU(),\n",
    "            \n",
    "            nn.Conv2d(32, 64, kernel_size=3, stride=1, padding=1,  bias=False),\n",
    "            nn.BatchNorm2d(64, affine=False),\n",
    "            nn.ReLU(),\n",
    "            \n",
    "            nn.Conv2d(64, 64, kernel_size=3, stride=1, padding=1,  bias=False),\n",
    "            nn.BatchNorm2d(64, affine=False),\n",
    "            nn.ReLU(),\n",
    "            \n",
    "            nn.Conv2d(64, 64, kernel_size=3, stride=1, padding=1,  bias=False),\n",
    "            nn.BatchNorm2d(64, affine=False),\n",
    "            nn.ReLU(),\n",
    "            \n",
    "            # CNNBlock 7x7\n",
    "            nn.MaxPool2d(kernel_size=2, stride=2),\n",
    "            nn.Conv2d(64, 128, kernel_size=3, stride=1, padding=1,  bias=False),\n",
    "            nn.BatchNorm2d(128, affine=False),\n",
    "            nn.ReLU(),\n",
    "            nn.Conv2d(128, self.last_channels, kernel_size=3, stride=1, padding=1,  bias=False),\n",
    "            nn.BatchNorm2d(self.last_channels, affine=False),\n",
    "            nn.ReLU(),\n",
    "            \n",
    "        )\n",
    "        return BED_model\n",
    "        \n",
    "          \n",
    "\n",
    "    # def _initialize_weights(self):\n",
    "    #     for m in self.modules():\n",
    "    #         if isinstance(m, nn.Conv2d):\n",
    "    #             nn.init.kaiming_normal_(m.weight, mode='fan_in',\n",
    "    #                 nonlinearity='relu'\n",
    "    #             )\n",
    "    #             if m.bias is not None:\n",
    "    #                     nn.init.constant_(m.bias, 0)\n",
    "    #         elif isinstance(m, nn.Linear):\n",
    "    #             nn.init.normal_(m.weight, 0, 0.01)\n",
    "    #             nn.init.constant_(m.bias, 0)\n",
    "\n",
    "\n",
    "    def forward(self, x):\n",
    "        x = self.model(x)\n",
    "        x = self.pool(x)\n",
    "        x = torch.flatten(x, start_dim=1)\n",
    "        x = torch.cat((self.smoke(x), self.fire(x)), dim=-1)\n",
    "        #x = torch.sigmoid(x) # BCE Logits\n",
    "        return x"
   ]
  },
  {
   "cell_type": "markdown",
   "id": "d9acb581-251c-4b6a-9560-8ec9cfb6b11d",
   "metadata": {},
   "source": [
    "# PRETRAINED OPTIM BED"
   ]
  },
  {
   "cell_type": "code",
   "execution_count": 9,
   "id": "d4d48bb4-614d-4294-9da3-5cc76ad1aebf",
   "metadata": {},
   "outputs": [],
   "source": [
    "class PRETRAINED_OPTIM_BED(nn.Module):\n",
    "    def __init__(self, base_model, num_classes, S, B, in_channels=3):\n",
    "        super(PRETRAINED_OPTIM_BED, self).__init__()\n",
    "        self.in_channels = in_channels\n",
    "        self.num_classes = num_classes\n",
    "        self.S = S\n",
    "        self.B = B\n",
    "        \n",
    "        self.base_model = nn.Sequential(*list(base_model.children())[:-3])\n",
    "        self.head_model = self.__create_head__()\n",
    "        \n",
    "        for m in self.head_model.modules():\n",
    "            if isinstance(m, nn.Conv2d):\n",
    "                nn.init.kaiming_normal_(m.weight, mode='fan_in',\n",
    "                    nonlinearity='relu'\n",
    "                )\n",
    "                print(f'Initialize conv {m} in head')\n",
    "                if m.bias is not None:\n",
    "                    nn.init.constant_(m.bias, 0)\n",
    "                    print(f'Initialize bias {m} in head')    \n",
    "        \n",
    "    def __create_head__(self):\n",
    "        BED_head = nn.Sequential(            \n",
    "            # CNNBlock Out\n",
    "            nn.Conv2d(128, 128, kernel_size=1, stride=1, padding=0,  bias=False),\n",
    "            nn.BatchNorm2d(128, affine=False),\n",
    "            nn.ReLU(),\n",
    "            \n",
    "            nn.Conv2d(128, 64, kernel_size=1, stride=1, padding=0,  bias=False),\n",
    "            nn.BatchNorm2d(64, affine=False),\n",
    "            nn.ReLU(),\n",
    "            \n",
    "            nn.Conv2d(64, 16, kernel_size=1, stride=1, padding=0,  bias=False),\n",
    "            nn.BatchNorm2d(16, affine=False),\n",
    "            nn.ReLU(),\n",
    "            \n",
    "            nn.Conv2d(16, self.B*5 + self.num_classes, kernel_size=1, stride=1, padding=0,  bias=False),\n",
    "            \n",
    "        )\n",
    "        return BED_head \n",
    "\n",
    "    \n",
    "    # [xc1, yc1, w1, h1, conf1, xc2, yc2, w2, h2, conf2, smoke, fire]\n",
    "    # [0 ................. 4,    5 ................ 9      10    11 ]\n",
    "    def forward(self, x):\n",
    "        x = self.base_model(x)\n",
    "        x_out = self.head_model(x)\n",
    "        x = x_out.permute(0, 2, 3, 1)\n",
    "        if self.B == 1:\n",
    "            class_softmax = torch.softmax(x[..., 5:7], dim=-1)\n",
    "            x = torch.cat((torch.sigmoid(x[..., 0:5]), class_softmax), dim=-1)  \n",
    "        else:\n",
    "            class_softmax = torch.softmax(x[..., 10:12], dim=-1)\n",
    "            x = torch.cat((torch.sigmoid(x[..., 0:10]), class_softmax), dim=-1)\n",
    "        return x "
   ]
  },
  {
   "cell_type": "markdown",
   "id": "02fea177-6d98-47b4-9cce-8981461388ab",
   "metadata": {},
   "source": [
    "# Yolo Loss 2BB"
   ]
  },
  {
   "cell_type": "code",
   "execution_count": 10,
   "id": "42606acc-7693-488f-8f8a-4609738c1739",
   "metadata": {},
   "outputs": [],
   "source": [
    "class YoloLossMSE_2BBox(nn.Module):\n",
    "    '''\n",
    "    Calculates Yolo V1 loss function, detailed in the paper\n",
    "\n",
    "    Prediction format [xcell, ycell, w, h, confidence, class_0, class_1]\n",
    "    Future update to 2 BB: [xcell, ycell, w, h, confidence_A, xcell, ycell, w, h, confidence_B, class_0, class_1]\n",
    "    '''\n",
    "\n",
    "    def __init__(self, SX, SY, B, C):\n",
    "        super(YoloLossMSE_2BBox, self).__init__()\n",
    "        \n",
    "        self.mse = nn.MSELoss(reduction=\"sum\")\n",
    "\n",
    "        self.SX = SX\n",
    "        self.SY = SY\n",
    "        self.B = B\n",
    "        self.C = C\n",
    "\n",
    "        self.lambda_coord = 5\n",
    "        self.lambda_noobj = 0.5\n",
    "        self.lambda_conf = 1.5\n",
    "              \n",
    "        self.last_box_xy = 0.0\n",
    "        self.last_box_wh = 0.0\n",
    "        self.last_obj = 0.0\n",
    "        self.last_noobj =0.0\n",
    "        self.last_class = 0.0\n",
    "\n",
    "    def forward(self, ground_truth, predictions):\n",
    "\n",
    "        #predictions = predictions.reshape(-1, self.SY, self.SX, self.B*5 + self.C)\n",
    "        assert predictions.shape == (BATCH_SIZE, self.SY, self.SX, self.B*5 + self.C) \n",
    "        assert ground_truth.shape == (BATCH_SIZE, self.SY, self.SX, 5 + self.C) \n",
    "        \n",
    "        # =========================== #\n",
    "        #        Exists Box?          #\n",
    "        # =========================== #\n",
    "        exists_box = ground_truth[..., 4:5] == 1\n",
    "        pred_box1 = exists_box*predictions[..., 0:4]\n",
    "        pred_box2 = exists_box*predictions[..., 5:9]\n",
    "        target_box = exists_box*ground_truth[..., :4]\n",
    "\n",
    "        # =========================== #\n",
    "        #            IOU              #\n",
    "        # =========================== #\n",
    "        # Calculate IoU for the two predicted bounding boxes with target bbox\n",
    "        iou1 = iou_tensor(boxes_preds=pred_box1, \n",
    "                   boxes_labels=target_box,\n",
    "                   box_format=\"midpoint\")\n",
    "        #print(f'IOU 1\\n{iou1}')\n",
    "        iou2 = iou_tensor(boxes_preds=pred_box2, \n",
    "                   boxes_labels=target_box,\n",
    "                   box_format=\"midpoint\")\n",
    "        #print(f'IOU 2\\n{iou2}')\n",
    "        ious = torch.cat([iou1, iou2], dim=-1)\n",
    "        #print(f'IOUs\\n{ious}')\n",
    "        \n",
    "        iou_maxes, best_boxes = torch.max(ious, keepdim=True, dim=-1)\n",
    "        pred_boxes = best_boxes*pred_box2[..., :4]+(1-best_boxes)*pred_box1[..., :4]\n",
    "\n",
    "        # =============== #\n",
    "        #   Center Loss   #\n",
    "        # =============== #\n",
    "        xy_loss = self.mse(pred_boxes[..., :2],\n",
    "                           target_box[..., :2])\n",
    "        self.last_box_xy = xy_loss.item()\n",
    "        #print('\\nCenter Loss', center_loss)\n",
    "\n",
    "        # ====================== #\n",
    "        #   Width, Height Loss   #\n",
    "        # ====================== #\n",
    "        # Use torch.sign to undo torch.abs and preserve gradient sign \n",
    "        wh_loss = self.mse(torch.sign(pred_boxes[..., 2:4])*torch.sqrt(torch.abs(pred_boxes[..., 2:4])+1e-6),\n",
    "                           torch.sqrt(target_box[..., 2:4]))\n",
    "        #print(f'WH Loss {wh_loss:.6f}')\n",
    "        self.last_box_wh = wh_loss.item()\n",
    "\n",
    "        # =================== #\n",
    "        #   Confidence Loss   #\n",
    "        # =================== #\n",
    "        conf_pred_box = exists_box*( best_boxes*predictions[..., 9:10] + (1-best_boxes) * predictions[..., 4:5])\n",
    "        #print(f'Conf pred boxes \\n {conf_pred_box}')\n",
    "        # conf_loss = self.mse(conf_pred_box,\n",
    "        #                      iou_maxes)\n",
    "        conf_loss = self.mse(conf_pred_box,\n",
    "                             exists_box*ground_truth[..., 4:5])\n",
    "        #print(f'Conf loss {conf_loss:.6f}')\n",
    "        self.last_obj = conf_loss.item()\n",
    "\n",
    "        # ================== #\n",
    "        #   No Object Loss   #\n",
    "        # ================== #\n",
    "        noobj_box1 = self.mse((~exists_box)*predictions[..., 4:5],\n",
    "                              (~exists_box)*ground_truth[..., 4:5])\n",
    "        noobj_box2 = self.mse((~exists_box)*predictions[..., 9:10],\n",
    "                              (~exists_box)*ground_truth[..., 4:5])    \n",
    "        noobj_loss = noobj_box1 + noobj_box2\n",
    "        #print(f'No Obj loss {noobj_loss:.6f}')\n",
    "        self.last_noobj = noobj_loss.item()\n",
    "\n",
    "        # ======================= #\n",
    "        #   Classification Loss   #\n",
    "        # ======================= #\n",
    "        class_loss = self.mse(exists_box*predictions[..., 10:12],\n",
    "                              exists_box*ground_truth[..., 5:7]) \n",
    "        #print(f'Class Loss {class_loss:.6f}')\n",
    "        self.last_class = class_loss.item()\n",
    "\n",
    "        # ============== #\n",
    "        #   Total Loss   #\n",
    "        # ============== #\n",
    "        total_loss = (\n",
    "            self.lambda_coord*(xy_loss + wh_loss)\n",
    "            + self.lambda_conf*conf_loss\n",
    "            + self.lambda_noobj*noobj_loss \n",
    "            + class_loss\n",
    "        )\n",
    "\n",
    "        return total_loss\n",
    "\n",
    "    def get_last_losses(self):     \n",
    "        return (\n",
    "            self.lambda_coord*self.last_box_xy,\n",
    "            self.lambda_coord*self.last_box_wh,\n",
    "            self.lambda_conf*self.last_obj,\n",
    "            self.lambda_noobj*self.last_noobj,\n",
    "            self.last_class\n",
    "            )"
   ]
  },
  {
   "cell_type": "markdown",
   "id": "b0707cc5-1db0-4a95-a183-cbad80adae89",
   "metadata": {},
   "source": [
    "# Train Loop Function"
   ]
  },
  {
   "cell_type": "code",
   "execution_count": 11,
   "id": "4bada441-b601-4aa1-9274-ce50c616d1f0",
   "metadata": {},
   "outputs": [],
   "source": [
    "'''\n",
    "Train function\n",
    "'''\n",
    "def get_lr(optimizer):\n",
    "    for param_group in optimizer.param_groups:\n",
    "        return param_group['lr']\n",
    "\n",
    "def train_fn(loader, model, optimizer, loss_fn, loss_l1_lambda, device):\n",
    "    \n",
    "    print(f'Learning Rate = {get_lr(optimizer=optimizer)}\\n')\n",
    "    logger.info(f'Learning Rate = {get_lr(optimizer=optimizer)}')\n",
    "\n",
    "    model.train()\n",
    "    loop = tqdm(loader, desc='Training', leave=True)\n",
    "    train_mean_loss = []\n",
    "    mean_box_loss = []\n",
    "    mean_confidence_loss = []\n",
    "    mean_noobj_loss = []\n",
    "    mean_class_loss = []\n",
    "\n",
    "    for batch_idx, (x, y) in enumerate(loop):\n",
    "        x, y = x.to(device), y.to(device)\n",
    "        out = model(x)\n",
    "        train_loss = loss_fn(ground_truth=y, \n",
    "                             predictions=out)\n",
    "\n",
    "        l1_lambda = loss_l1_lambda  # hyperparameter for L1 regularization\n",
    "        l1_norm = sum(p.abs().sum() for p in model.parameters())\n",
    "        train_loss = train_loss + l1_lambda * l1_norm\n",
    "        \n",
    "        # Gradient Descent\n",
    "        optimizer.zero_grad()\n",
    "        train_loss.backward()\n",
    "        torch.nn.utils.clip_grad_norm_(model.parameters(), max_norm=10.0)\n",
    "        optimizer.step()\n",
    "\n",
    "        # MSE Loss\n",
    "        xy_loss, wh_loss, obj_loss, noobj_loss, class_loss = loss_fn.get_last_losses()\n",
    "        # Appending each loss\n",
    "        train_mean_loss.append(train_loss.item())\n",
    "        box_loss = xy_loss + wh_loss\n",
    "        mean_box_loss.append(box_loss)\n",
    "        mean_confidence_loss.append(obj_loss)\n",
    "        mean_noobj_loss.append(noobj_loss)\n",
    "        mean_class_loss.append(class_loss)\n",
    "        \n",
    "    train_mean_loss_out = sum(train_mean_loss)/len(train_mean_loss)\n",
    "    #print(\"\\nTRAIN losses\")\n",
    "    logger.info(\"\\nTRAIN losses\")\n",
    "    mean_box_loss_out = sum(mean_box_loss)/len(mean_box_loss)\n",
    "    mean_confidence_loss_out = sum(mean_confidence_loss)/len(mean_confidence_loss)\n",
    "    mean_noobj_loss_out = sum(mean_noobj_loss)/len(mean_noobj_loss)\n",
    "    mean_class_loss_out = sum(mean_class_loss)/len(mean_class_loss)  \n",
    "\n",
    "    print(\"Total Loss\".ljust(12) + \"|\" + \n",
    "          \"Box Loss\".ljust(12) + \"|\" + \n",
    "          \"Conf Loss\".ljust(12) + \"|\" + \n",
    "          \"No Obj Loss\".ljust(12) + \"|\" + \n",
    "          \"Class Loss\".ljust(12))\n",
    "    print(\"------------\".ljust(12) + \" \" + \n",
    "          \"------------\".ljust(12) + \" \" + \n",
    "          \"------------\".ljust(12) + \" \" + \n",
    "          \"------------\".ljust(12) + \" \" + \n",
    "          \"------------\".ljust(12))\n",
    "    print(f'{train_mean_loss_out:.3f}'.ljust(12) + \"|\" +\n",
    "          f'{mean_box_loss_out:.3f}'.ljust(12) + \"|\" +\n",
    "          f'{mean_confidence_loss_out:.3f}'.ljust(12) + \"|\" +\n",
    "          f'{mean_noobj_loss_out:.3f}'.ljust(12) + \"|\" +\n",
    "          f'{mean_class_loss_out:.3f}'.ljust(12) + \"\\n\")\n",
    "    \n",
    "    logger.info(\"Total Loss\".ljust(12) + \"|\" + \n",
    "                  \"Box Loss\".ljust(12) + \"|\" + \n",
    "                  \"Conf Loss\".ljust(12) + \"|\" + \n",
    "                  \"No Obj Loss\".ljust(12) + \"|\" + \n",
    "                  \"Class Loss\".ljust(12))\n",
    "    logger.info(\"------------\".ljust(12) + \" \" + \n",
    "                  \"------------\".ljust(12) + \" \" + \n",
    "                  \"------------\".ljust(12) + \" \" + \n",
    "                  \"------------\".ljust(12) + \" \" + \n",
    "                  \"------------\".ljust(12))\n",
    "    logger.info(f'{train_mean_loss_out:.3f}'.ljust(12) + \"|\" +\n",
    "                  f'{mean_box_loss_out:.3f}'.ljust(12) + \"|\" +\n",
    "                  f'{mean_confidence_loss_out:.3f}'.ljust(12) + \"|\" +\n",
    "                  f'{mean_noobj_loss_out:.3f}'.ljust(12) + \"|\" +\n",
    "                  f'{mean_class_loss_out:.3f}'.ljust(12))\n",
    "    \n",
    "    return (train_mean_loss_out, \n",
    "            mean_box_loss_out, \n",
    "            mean_confidence_loss_out, \n",
    "            mean_noobj_loss_out, \n",
    "            mean_class_loss_out)"
   ]
  },
  {
   "cell_type": "markdown",
   "id": "ee0f4a05-7b83-45a0-8c9a-256d44095322",
   "metadata": {},
   "source": [
    "# Validation Loop Function"
   ]
  },
  {
   "cell_type": "code",
   "execution_count": 12,
   "id": "abce844b-bf71-40d1-a8e7-6a67c5e01a4b",
   "metadata": {},
   "outputs": [],
   "source": [
    "'''\n",
    "Evaluation Function\n",
    "'''\n",
    "def eval_fn(loader, model, loss_fn, device):\n",
    "    \n",
    "    model.eval()\n",
    "    loop = tqdm(loader, desc='Validating', leave=True)\n",
    "    val_mean_loss = []\n",
    "    mean_box_loss = []\n",
    "    mean_confidence_loss = []\n",
    "    mean_noobj_loss = []\n",
    "    mean_class_loss = []\n",
    "\n",
    "    for batch_idx, (x, y) in enumerate(loop):\n",
    "        x, y = x.to(device), y.to(device)\n",
    "        out = model(x)\n",
    "        val_loss = loss_fn(ground_truth=y, \n",
    "                           predictions=out)\n",
    "\n",
    "        \n",
    "        # MSE Loss\n",
    "        xy_loss, wh_loss, obj_loss, noobj_loss, class_loss = loss_fn.get_last_losses()\n",
    "        # Appending each loss\n",
    "        val_mean_loss.append(val_loss.item())\n",
    "        box_loss = xy_loss + wh_loss\n",
    "        mean_box_loss.append(box_loss)\n",
    "        mean_confidence_loss.append(obj_loss)\n",
    "        mean_noobj_loss.append(noobj_loss)\n",
    "        mean_class_loss.append(class_loss)\n",
    "        \n",
    "    val_mean_loss_out = sum(val_mean_loss)/len(val_mean_loss)\n",
    "    #print(\"\\nVAL losses\")\n",
    "    logger.info(\"\\nVAL losses\")\n",
    "    mean_box_loss_out = sum(mean_box_loss)/len(mean_box_loss)\n",
    "    mean_confidence_loss_out = sum(mean_confidence_loss)/len(mean_confidence_loss)\n",
    "    mean_noobj_loss_out = sum(mean_noobj_loss)/len(mean_noobj_loss)\n",
    "    mean_class_loss_out = sum(mean_class_loss)/len(mean_class_loss)  \n",
    "\n",
    "    print(\"Total Loss\".ljust(12) + \"|\" + \n",
    "          \"Box Loss\".ljust(12) + \"|\" + \n",
    "          \"Conf Loss\".ljust(12) + \"|\" + \n",
    "          \"No Obj Loss\".ljust(12) + \"|\" + \n",
    "          \"Class Loss\".ljust(12))\n",
    "    print(\"------------\".ljust(12) + \" \" + \n",
    "          \"------------\".ljust(12) + \" \" + \n",
    "          \"------------\".ljust(12) + \" \" + \n",
    "          \"------------\".ljust(12) + \" \" + \n",
    "          \"------------\".ljust(12))\n",
    "    print(f'{val_mean_loss_out:.3f}'.ljust(12) + \"|\" +\n",
    "          f'{mean_box_loss_out:.3f}'.ljust(12) + \"|\" +\n",
    "          f'{mean_confidence_loss_out:.3f}'.ljust(12) + \"|\" +\n",
    "          f'{mean_noobj_loss_out:.3f}'.ljust(12) + \"|\" +\n",
    "          f'{mean_class_loss_out:.3f}'.ljust(12))\n",
    "\n",
    "    logger.info(\"Total Loss\".ljust(12) + \"|\" + \n",
    "                  \"Box Loss\".ljust(12) + \"|\" + \n",
    "                  \"Conf Loss\".ljust(12) + \"|\" + \n",
    "                  \"No Obj Loss\".ljust(12) + \"|\" + \n",
    "                  \"Class Loss\".ljust(12))\n",
    "    logger.info(\"------------\".ljust(12) + \" \" + \n",
    "                  \"------------\".ljust(12) + \" \" + \n",
    "                  \"------------\".ljust(12) + \" \" + \n",
    "                  \"------------\".ljust(12) + \" \" + \n",
    "                  \"------------\".ljust(12))\n",
    "    logger.info(f'{val_mean_loss_out:.3f}'.ljust(12) + \"|\" +\n",
    "                  f'{mean_box_loss_out:.3f}'.ljust(12) + \"|\" +\n",
    "                  f'{mean_confidence_loss_out:.3f}'.ljust(12) + \"|\" +\n",
    "                  f'{mean_noobj_loss_out:.3f}'.ljust(12) + \"|\" +\n",
    "                  f'{mean_class_loss_out:.3f}'.ljust(12))\n",
    "    \n",
    "    return (val_mean_loss_out, \n",
    "            mean_box_loss_out, \n",
    "            mean_confidence_loss_out, \n",
    "            mean_noobj_loss_out, \n",
    "            mean_class_loss_out)"
   ]
  },
  {
   "cell_type": "markdown",
   "id": "a1d47f51-5c7b-434a-af27-a0e2596596bc",
   "metadata": {},
   "source": [
    "# Hyperparameters and Config"
   ]
  },
  {
   "cell_type": "code",
   "execution_count": 13,
   "id": "79142328-c910-4425-afd7-f6d38bd9baf4",
   "metadata": {},
   "outputs": [],
   "source": [
    "''' ============================\n",
    "    Hyperparameters and More\n",
    "============================ '''\n",
    "\n",
    "LEARNING_RATE = 5e-4\n",
    "#LEARNING_RATE = 1e-1\n",
    "DEVICE = \"cuda\" if torch.cuda.is_available() else \"cpu\"\n",
    "BATCH_SIZE = 64 \n",
    "WEIGHT_DECAY = 1e-5\n",
    "#WEIGHT_DECAY = 0\n",
    "EPOCHS = 115\n",
    "NUM_WORKERS = 4\n",
    "PIN_MEMORY = True\n",
    "LOAD_MODEL = False\n",
    "LOAD_MODEL_FILE = log_path + \"bed_best_2BB_mAP.pt\"\n",
    "PRETRAINED = True\n",
    "\n",
    "TRAIN_IMG_DIR = train_imgs\n",
    "TRAIN_LABEL_DIR = train_labels\n",
    "EVAL_IMG_DIR = val_imgs\n",
    "EVAL_LABEL_DIR = val_labels\n",
    "\n",
    "TRAIN_MAX_OBJ = 3\n",
    "TEST_MAX_OBJ = 3\n",
    "\n",
    "LOSS_FN = \"MSE\"\n",
    "L1_LAMBDA = 0.001 # Less regularization. From 0.001 to 0.0001\n",
    "\n",
    "LOG_FILE = \"log_file.xlsx\"\n",
    "\n",
    "IOU_mAP_THRES = 0.5\n",
    "IOU_NMS_THRES = 0.5\n",
    "THRESHOLD = 0.2\n",
    "\n",
    "''' ============================\n",
    "    Configuration\n",
    "============================ '''\n",
    "IMG_W = IMG_DIM['W']\n",
    "IMG_H = IMG_DIM['H']\n",
    "\n",
    "''' ============================\n",
    "    Metrics\n",
    "============================ '''\n",
    "# mAP output\n",
    "## Train\n",
    "train_mAP = []\n",
    "train_class_AP = []\n",
    "train_class_precision = []\n",
    "train_class_recall = []\n",
    "## Val\n",
    "val_mAP = []\n",
    "val_class_AP = []\n",
    "val_class_precision = []\n",
    "val_class_recall = []\n",
    "\n",
    "# Loss output\n",
    "## Train\n",
    "train_total_loss = []\n",
    "train_box_loss = []\n",
    "train_confidence_loss = []\n",
    "train_noobj_loss = []\n",
    "train_class_loss = []\n",
    "## Val\n",
    "val_total_loss = []\n",
    "val_box_loss = []\n",
    "val_confidence_loss = []\n",
    "val_noobj_loss = []\n",
    "val_class_loss = []\n",
    "\n",
    "epochs_plot = []"
   ]
  },
  {
   "cell_type": "markdown",
   "id": "db74193a-77c6-45e8-b522-6b3a416a4415",
   "metadata": {},
   "source": [
    "# MODEL Setup"
   ]
  },
  {
   "cell_type": "code",
   "execution_count": 14,
   "id": "fbb5facb-68cf-4002-839b-a25ba12c8164",
   "metadata": {
    "tags": []
   },
   "outputs": [
    {
     "name": "stdout",
     "output_type": "stream",
     "text": [
      "Using Pretrained OPTIM BED 224x224\n",
      "Initialize conv Conv2d(128, 128, kernel_size=(1, 1), stride=(1, 1), bias=False) in head\n",
      "Initialize conv Conv2d(128, 64, kernel_size=(1, 1), stride=(1, 1), bias=False) in head\n",
      "Initialize conv Conv2d(64, 16, kernel_size=(1, 1), stride=(1, 1), bias=False) in head\n",
      "Initialize conv Conv2d(16, 12, kernel_size=(1, 1), stride=(1, 1), bias=False) in head\n",
      "Model shape is torch.Size([4, 7, 7, 12])\n",
      "BED Model Arquitecture\n",
      "PRETRAINED_OPTIM_BED(\n",
      "  (base_model): Sequential(\n",
      "    (0): Sequential(\n",
      "      (0): Conv2d(3, 64, kernel_size=(3, 3), stride=(1, 1), padding=(1, 1), bias=False)\n",
      "      (1): BatchNorm2d(64, eps=1e-05, momentum=0.1, affine=False, track_running_stats=True)\n",
      "      (2): ReLU()\n",
      "      (3): Dropout2d(p=0.3, inplace=False)\n",
      "      (4): MaxPool2d(kernel_size=2, stride=2, padding=0, dilation=1, ceil_mode=False)\n",
      "      (5): Conv2d(64, 24, kernel_size=(3, 3), stride=(1, 1), padding=(1, 1), bias=False)\n",
      "      (6): BatchNorm2d(24, eps=1e-05, momentum=0.1, affine=False, track_running_stats=True)\n",
      "      (7): ReLU()\n",
      "      (8): Dropout2d(p=0.3, inplace=False)\n",
      "      (9): MaxPool2d(kernel_size=2, stride=2, padding=0, dilation=1, ceil_mode=False)\n",
      "      (10): Conv2d(24, 16, kernel_size=(1, 1), stride=(1, 1), bias=False)\n",
      "      (11): BatchNorm2d(16, eps=1e-05, momentum=0.1, affine=False, track_running_stats=True)\n",
      "      (12): ReLU()\n",
      "      (13): Conv2d(16, 32, kernel_size=(3, 3), stride=(1, 1), padding=(1, 1), bias=False)\n",
      "      (14): BatchNorm2d(32, eps=1e-05, momentum=0.1, affine=False, track_running_stats=True)\n",
      "      (15): ReLU()\n",
      "      (16): Conv2d(32, 32, kernel_size=(1, 1), stride=(1, 1), bias=False)\n",
      "      (17): BatchNorm2d(32, eps=1e-05, momentum=0.1, affine=False, track_running_stats=True)\n",
      "      (18): ReLU()\n",
      "      (19): Conv2d(32, 64, kernel_size=(3, 3), stride=(1, 1), padding=(1, 1), bias=False)\n",
      "      (20): BatchNorm2d(64, eps=1e-05, momentum=0.1, affine=False, track_running_stats=True)\n",
      "      (21): ReLU()\n",
      "      (22): MaxPool2d(kernel_size=2, stride=2, padding=0, dilation=1, ceil_mode=False)\n",
      "      (23): Conv2d(64, 32, kernel_size=(1, 1), stride=(1, 1), bias=False)\n",
      "      (24): BatchNorm2d(32, eps=1e-05, momentum=0.1, affine=False, track_running_stats=True)\n",
      "      (25): ReLU()\n",
      "      (26): Conv2d(32, 64, kernel_size=(3, 3), stride=(1, 1), padding=(1, 1), bias=False)\n",
      "      (27): BatchNorm2d(64, eps=1e-05, momentum=0.1, affine=False, track_running_stats=True)\n",
      "      (28): ReLU()\n",
      "      (29): Conv2d(64, 32, kernel_size=(1, 1), stride=(1, 1), bias=False)\n",
      "      (30): BatchNorm2d(32, eps=1e-05, momentum=0.1, affine=False, track_running_stats=True)\n",
      "      (31): ReLU()\n",
      "      (32): Conv2d(32, 64, kernel_size=(3, 3), stride=(1, 1), padding=(1, 1), bias=False)\n",
      "      (33): BatchNorm2d(64, eps=1e-05, momentum=0.1, affine=False, track_running_stats=True)\n",
      "      (34): ReLU()\n",
      "      (35): Conv2d(64, 32, kernel_size=(1, 1), stride=(1, 1), bias=False)\n",
      "      (36): BatchNorm2d(32, eps=1e-05, momentum=0.1, affine=False, track_running_stats=True)\n",
      "      (37): ReLU()\n",
      "      (38): Conv2d(32, 64, kernel_size=(3, 3), stride=(1, 1), padding=(1, 1), bias=False)\n",
      "      (39): ReLU()\n",
      "      (40): MaxPool2d(kernel_size=2, stride=2, padding=0, dilation=1, ceil_mode=False)\n",
      "      (41): Conv2d(64, 32, kernel_size=(1, 1), stride=(1, 1), bias=False)\n",
      "      (42): BatchNorm2d(32, eps=1e-05, momentum=0.1, affine=False, track_running_stats=True)\n",
      "      (43): ReLU()\n",
      "      (44): Conv2d(32, 64, kernel_size=(3, 3), stride=(1, 1), padding=(1, 1), bias=False)\n",
      "      (45): BatchNorm2d(64, eps=1e-05, momentum=0.1, affine=False, track_running_stats=True)\n",
      "      (46): ReLU()\n",
      "      (47): Conv2d(64, 32, kernel_size=(1, 1), stride=(1, 1), bias=False)\n",
      "      (48): BatchNorm2d(32, eps=1e-05, momentum=0.1, affine=False, track_running_stats=True)\n",
      "      (49): ReLU()\n",
      "      (50): Conv2d(32, 64, kernel_size=(3, 3), stride=(1, 1), padding=(1, 1), bias=False)\n",
      "      (51): BatchNorm2d(64, eps=1e-05, momentum=0.1, affine=False, track_running_stats=True)\n",
      "      (52): ReLU()\n",
      "      (53): Conv2d(64, 64, kernel_size=(3, 3), stride=(1, 1), padding=(1, 1), bias=False)\n",
      "      (54): BatchNorm2d(64, eps=1e-05, momentum=0.1, affine=False, track_running_stats=True)\n",
      "      (55): ReLU()\n",
      "      (56): Conv2d(64, 64, kernel_size=(3, 3), stride=(1, 1), padding=(1, 1), bias=False)\n",
      "      (57): BatchNorm2d(64, eps=1e-05, momentum=0.1, affine=False, track_running_stats=True)\n",
      "      (58): ReLU()\n",
      "      (59): MaxPool2d(kernel_size=2, stride=2, padding=0, dilation=1, ceil_mode=False)\n",
      "      (60): Conv2d(64, 128, kernel_size=(3, 3), stride=(1, 1), padding=(1, 1), bias=False)\n",
      "      (61): BatchNorm2d(128, eps=1e-05, momentum=0.1, affine=False, track_running_stats=True)\n",
      "      (62): ReLU()\n",
      "      (63): Conv2d(128, 128, kernel_size=(3, 3), stride=(1, 1), padding=(1, 1), bias=False)\n",
      "      (64): BatchNorm2d(128, eps=1e-05, momentum=0.1, affine=False, track_running_stats=True)\n",
      "      (65): ReLU()\n",
      "    )\n",
      "  )\n",
      "  (head_model): Sequential(\n",
      "    (0): Conv2d(128, 128, kernel_size=(1, 1), stride=(1, 1), bias=False)\n",
      "    (1): BatchNorm2d(128, eps=1e-05, momentum=0.1, affine=False, track_running_stats=True)\n",
      "    (2): ReLU()\n",
      "    (3): Conv2d(128, 64, kernel_size=(1, 1), stride=(1, 1), bias=False)\n",
      "    (4): BatchNorm2d(64, eps=1e-05, momentum=0.1, affine=False, track_running_stats=True)\n",
      "    (5): ReLU()\n",
      "    (6): Conv2d(64, 16, kernel_size=(1, 1), stride=(1, 1), bias=False)\n",
      "    (7): BatchNorm2d(16, eps=1e-05, momentum=0.1, affine=False, track_running_stats=True)\n",
      "    (8): ReLU()\n",
      "    (9): Conv2d(16, 12, kernel_size=(1, 1), stride=(1, 1), bias=False)\n",
      "  )\n",
      ")\n",
      "\n",
      "Trainable parameters = 463104\n",
      "Total parameters = 463104\n",
      "\n"
     ]
    }
   ],
   "source": [
    "if IMG_W == 88:\n",
    "    print(\"Using Tinyssimo 88x88\")\n",
    "    logger.info(\"Using Tinyssimo 88x88\")\n",
    "    model = Tinyssimo_fixed_88x88_BatchNorm(num_classes=C).to(DEVICE)\n",
    "elif IMG_W == 224:\n",
    "    if PRETRAINED == True:\n",
    "        print(\"Using Pretrained OPTIM BED 224x224\")\n",
    "        logger.info(\"Using Pretrained OPTIM BED 224x224\")\n",
    "        \n",
    "        base_model = BED_CLASSIFIER(num_classes=C)\n",
    "        model_file = './best_bed_classifier.pt'\n",
    "        checkpoint = torch.load(model_file, map_location=torch.device(DEVICE))\n",
    "        base_model.load_state_dict(checkpoint['model_state_dict'])\n",
    "        model = PRETRAINED_OPTIM_BED(base_model=base_model, \n",
    "                                     num_classes=C, \n",
    "                                     S=SX, \n",
    "                                     B=B, \n",
    "                                     in_channels=3).to(DEVICE)\n",
    "    else:\n",
    "        print(\"Use Pretrained in this script\")\n",
    "        logger.info(\"Use Pretrained in this script\")\n",
    "        raise SystemExit(\"Use Pretrained in this script\")        \n",
    "        \n",
    "else:\n",
    "    print(\"Wrong Model\")\n",
    "    logger.info(\"Wrong Model\")\n",
    "    raise SystemExit(\"Wrong Model\")\n",
    "\n",
    "# Check model shape\n",
    "in_rand_np = np.random.rand(4, 3, IMG_H, IMG_W)\n",
    "in_rand = torch.tensor(in_rand_np, dtype=torch.float32, device=DEVICE)\n",
    "out_test = model(in_rand)\n",
    "print(f'Model shape is {out_test.shape}')\n",
    "print(f'BED Model Arquitecture\\n{model}')\n",
    "logger.info(f'Model shape is {out_test.shape}')\n",
    "logger.info(f'BED Model Arquitecture\\n{model}')   \n",
    "\n",
    "optimizer = optim.Adam(model.parameters(), \n",
    "                       lr=LEARNING_RATE, \n",
    "                       weight_decay=WEIGHT_DECAY)\n",
    "\n",
    "scheduler = optim.lr_scheduler.ReduceLROnPlateau(optimizer, \n",
    "                                                 mode='min',\n",
    "                                                 factor=0.8, \n",
    "                                                 patience=2, \n",
    "                                                 threshold=0.1, \n",
    "                                                 threshold_mode='abs',\n",
    "                                                 min_lr=1e-6)\n",
    "\n",
    "n_trainable = sum(p.numel() for p in model.parameters() if p.requires_grad)\n",
    "print(f'\\nTrainable parameters = {n_trainable}')\n",
    "logger.info(f'\\nTrainable parameters = {n_trainable}')\n",
    "\n",
    "n_params = parameters_to_vector(model.parameters()).numel()\n",
    "print(f'Total parameters = {n_params}\\n')\n",
    "logger.info(f'Total parameters = {n_params}\\n')"
   ]
  },
  {
   "cell_type": "markdown",
   "id": "08a2c13a-f7f4-4693-86df-b19abaf14f8d",
   "metadata": {},
   "source": [
    "# Loss Function Setup"
   ]
  },
  {
   "cell_type": "code",
   "execution_count": 15,
   "id": "3a807c61-9066-4be3-b99f-6909f372b986",
   "metadata": {},
   "outputs": [
    {
     "name": "stdout",
     "output_type": "stream",
     "text": [
      "Using YoloLossMSE_2BBox\n",
      "L1 lambda: 0.001\n"
     ]
    }
   ],
   "source": [
    "if B == 1:\n",
    "    print(f'Using YoloLossMSE')\n",
    "    logger.info(f'Using YoloLossMSE')\n",
    "    loss_fn = YoloLossMSE(SX=SX, \n",
    "                          SY=SY, \n",
    "                          B=B, \n",
    "                          C=C)\n",
    "elif B == 2:\n",
    "    if LOSS_FN == \"MSE\":\n",
    "        print(f'Using YoloLossMSE_2BBox')\n",
    "        logger.info(f'Using YoloLossMSE_2BBox')\n",
    "        loss_fn = YoloLossMSE_2BBox(SX=SX, \n",
    "                                    SY=SY, \n",
    "                                    B=B, \n",
    "                                    C=C)\n",
    "    elif LOSS_FN == \"DIOU\":\n",
    "        print(f'Using YoloLossDIOU_2BBox')\n",
    "        logger.info(f'Using YoloLossDIOU_2BBox')\n",
    "        loss_fn =YoloLossCIOU_2BBox(SX=SX, \n",
    "                                    SY=SY, \n",
    "                                    B=B, \n",
    "                                    C=C)\n",
    "    else:\n",
    "        raise SystemExit(\"Wrong Loss Function\")\n",
    "    print(f'L1 lambda: {L1_LAMBDA}')\n",
    "    logger.info(f'L1 lambda: {L1_LAMBDA}')\n",
    "else:\n",
    "    print(f\"Wrong B bounding boxes configuration: {B}\")\n",
    "    logger.info(f\"Wrong B bounding boxes configuration: {B}\")\n",
    "    raise SystemExit(\"Wrong B bounding boxes configuration\")"
   ]
  },
  {
   "cell_type": "markdown",
   "id": "7e3c59be-cac6-474b-9626-0e3c0f9e95d0",
   "metadata": {},
   "source": [
    "# Dataset and DataLoaders"
   ]
  },
  {
   "cell_type": "code",
   "execution_count": 16,
   "id": "2ff14415-d282-4184-93cb-0e4794abf138",
   "metadata": {},
   "outputs": [
    {
     "name": "stdout",
     "output_type": "stream",
     "text": [
      "\n",
      "TRAIN DFIRE dataset\n",
      "DFire Removed wrong images: 0\n",
      "DFire Removed due to overlapping: 546\n",
      "DFire Removed due to more than 3: 1764\n",
      "\n",
      "TEST DFire dataset\n",
      "DFire Removed wrong images: 0\n",
      "DFire Removed due to overlapping: 118\n",
      "DFire Removed due to more than 3: 445\n"
     ]
    }
   ],
   "source": [
    "train_transform = A.Compose([\n",
    "    A.HorizontalFlip(p=0.5),\n",
    "    # If boxes are to close, it can remove some because they fall inside same cell\n",
    "    A.RandomSizedBBoxSafeCrop(height=int(1.4*IMG_H),\n",
    "                              width= int(1.4*IMG_W),\n",
    "                              erosion_rate=0.3,\n",
    "                              p=0.3),\n",
    "    A.OneOf([\n",
    "        A.RandomBrightnessContrast(p=0.4),\n",
    "        A.HueSaturationValue(hue_shift_limit=10, p=0.2),\n",
    "        A.Blur(blur_limit=(3,3), p=0.3),\n",
    "        A.CLAHE(clip_limit=2.0, p=0.3),\n",
    "    ], p=0.9),\n",
    "        # Shifting, scaling and rotation could dive 2 bbox inside same grid...\n",
    "        #A.ShiftScaleRotate(rotate_limit=10, p=0.2),\n",
    "    A.Resize(IMG_H, IMG_W, p=1),\n",
    "    A.Normalize(mean=(0.485, 0.456, 0.406), std=(0.229, 0.224, 0.225), p=1), \n",
    "    ToTensorV2(p=1),\n",
    "], bbox_params=A.BboxParams(format='yolo', \n",
    "                            min_area=16*16, \n",
    "                            min_visibility=0.1, \n",
    "                            label_fields=['class_labels']))\n",
    "# TRAIN\n",
    "print(\"\\nTRAIN DFIRE dataset\")\n",
    "logger.info(\"\\nTRAIN DFIRE dataset\")\n",
    "train_dataset = DFireDataset(img_h = IMG_H,\n",
    "                             img_w = IMG_W,\n",
    "                             img_dir = TRAIN_IMG_DIR,\n",
    "                             label_dir = TRAIN_LABEL_DIR,\n",
    "                             num_imgs = None,\n",
    "                             SX = SX,\n",
    "                             SY = SY,\n",
    "                             C = C,\n",
    "                             max_obj = TRAIN_MAX_OBJ,\n",
    "                             transform=train_transform)\n",
    "\n",
    "# VALIDATION\n",
    "val_transform = A.Compose([\n",
    "    A.Resize(IMG_H, IMG_W, p=1),\n",
    "    A.Normalize(mean=(0.485, 0.456, 0.406), std=(0.229, 0.224, 0.225), p=1), # Removed to divide by 255. in dataset\n",
    "    ToTensorV2(p=1),\n",
    "], bbox_params=A.BboxParams(format='yolo', label_fields=['class_labels']))\n",
    "\n",
    "print(\"\\nTEST DFire dataset\")\n",
    "logger.info(\"\\nTEST DFire dataset\")\n",
    "eval_dataset = DFireDataset(img_h = IMG_H,\n",
    "                            img_w = IMG_W,\n",
    "                            img_dir = EVAL_IMG_DIR,\n",
    "                            label_dir = EVAL_LABEL_DIR,\n",
    "                            num_imgs = None,\n",
    "                            SX = SX,\n",
    "                            SY = SY,\n",
    "                            C = C,\n",
    "                            max_obj = TEST_MAX_OBJ,\n",
    "                            transform=val_transform)\n",
    "\n",
    "# LOADERS\n",
    "train_loader = DataLoader(dataset=train_dataset,\n",
    "                          batch_size=BATCH_SIZE,\n",
    "                          num_workers=NUM_WORKERS,\n",
    "                          pin_memory=PIN_MEMORY,\n",
    "                          shuffle=True,\n",
    "                          drop_last=True)\n",
    "\n",
    "eval_loader = DataLoader(dataset=eval_dataset,\n",
    "                         batch_size=BATCH_SIZE,\n",
    "                         num_workers=NUM_WORKERS,\n",
    "                         pin_memory=PIN_MEMORY,\n",
    "                         shuffle=False,\n",
    "                         drop_last=True)"
   ]
  },
  {
   "cell_type": "markdown",
   "id": "ba95ccfe-a797-45cd-82bb-37bcc9af62ff",
   "metadata": {},
   "source": [
    "# Main Function"
   ]
  },
  {
   "cell_type": "code",
   "execution_count": 17,
   "id": "22ef85f5-39b7-473a-855b-0561de058bbd",
   "metadata": {},
   "outputs": [],
   "source": [
    "def main():\n",
    "\n",
    "    ''' ============================\n",
    "        Print Config Values\n",
    "    ============================ '''\n",
    "    print(f'Device: {DEVICE}')\n",
    "    print(f'Learning Rate: {LEARNING_RATE}')\n",
    "    print(f'Weight Decay: {WEIGHT_DECAY}')\n",
    "    print(f'Batch Size: {BATCH_SIZE}')\n",
    "    print(f'IMG DIMS: ({IMG_H}, {IMG_W})')\n",
    "    print(f'W: {IMG_W}\\nH: {IMG_H}')\n",
    "    print(f'SX: {SX}\\nSY: {SY}\\nB: {B}\\nC: {C}')\n",
    "    print(f'\\nConfidence Threshold: {THRESHOLD}')\n",
    "    print(f'IOU mAP Threshold: {IOU_mAP_THRES}')\n",
    "    print(f'IOU NMS Threshold: {IOU_NMS_THRES}\\n')\n",
    "    print(f'Max Train Obj per image: {TRAIN_MAX_OBJ}')\n",
    "    print(f'Max Test Obj per image: {TEST_MAX_OBJ}\\n')\n",
    "    \n",
    "    logger.info(f'Device: {DEVICE}')\n",
    "    logger.info(f'Learning Rate: {LEARNING_RATE}')\n",
    "    logger.info(f'Weight Decay: {WEIGHT_DECAY}')\n",
    "    logger.info(f'Batch Size: {BATCH_SIZE}')\n",
    "    logger.info(f'IMG DIMS: ({IMG_H}, {IMG_W})')\n",
    "    logger.info(f'W: {IMG_W}\\nH: {IMG_H}')\n",
    "    logger.info(f'SX: {SX}\\nSY: {SY}\\nB: {B}\\nC: {C}')\n",
    "    logger.info(f'\\nConfidence Threshold: {THRESHOLD}')\n",
    "    logger.info(f'IOU mAP Threshold: {IOU_mAP_THRES}')\n",
    "    logger.info(f'IOU NMS Threshold: {IOU_NMS_THRES}\\n')\n",
    "    logger.info(f'Max Train Obj per image: {TRAIN_MAX_OBJ}')\n",
    "    logger.info(f'Max Test Obj per image: {TEST_MAX_OBJ}\\n')\n",
    "\n",
    "    ''' ============================\n",
    "        Cell to Box Mask\n",
    "    ============================ '''\n",
    "    cell2box_mask = torch.zeros((SY, SX, 2))\n",
    "    for i in range(SY):\n",
    "        for j in range(SX):\n",
    "            cell2box_mask[i,j,0] = j\n",
    "            cell2box_mask[i,j,1] = i    \n",
    "\n",
    "    ''' ==============================================================\n",
    "                                TRAINING LOOP\n",
    "    ============================================================== '''\n",
    "    # Start with infinite validation loss\n",
    "    best_valid_loss = np.inf\n",
    "    best_mAP = -1\n",
    "\n",
    "    start = datetime.datetime.now()\n",
    "    start_time = start.strftime(\"%H:%M:%S\")\n",
    "    print(f'\\n***Start Training: {start_time}\\n')\n",
    "    logger.info(f'\\n***Start Training: {start_time}\\n')\n",
    "\n",
    "    start_epoch = 0\n",
    "\n",
    "    if PRETRAINED == True:\n",
    "        print(\"Using a Pretrained Model\")\n",
    "        logger.info(\"Using a Pretrained Model\")        \n",
    "    elif LOAD_MODEL == False:\n",
    "        print(\"Initializing Weights\")\n",
    "        logger.info(\"Initializing Weights\")\n",
    "        model._initialize_weights()\n",
    "    else:\n",
    "        checkpoint = torch.load(checkpoint_path)\n",
    "        model.load_state_dict(checkpoint['model_state_dict'])\n",
    "        optimizer.load_state_dict(checkpoint['optimizer_state_dict'])\n",
    "        scheduler.load_state_dict(checkpoint['scheduler_state_dict'])\n",
    "        start_epoch = checkpoint['epoch']\n",
    "        print(f\"Loading Model. Train from epoch: {start_epoch}\")\n",
    "        logger.info(f\"Loading Model. Train from epoch: {start_epoch}\")\n",
    "        \n",
    "    #for epoch in range(EPOCHS):\n",
    "    for epoch in range(start_epoch, EPOCHS):\n",
    "\n",
    "        print(f'\\n=== EPOCH {epoch}/{EPOCHS-1} ===')\n",
    "        logger.info(f'\\n=== EPOCH {epoch}/{EPOCHS-1} ===')\n",
    "        \n",
    "        # TRAINING\n",
    "        t_loss, b_loss, conf_loss, n_loss, cls_loss = train_fn(loader=train_loader, \n",
    "                                                               model=model, \n",
    "                                                               optimizer=optimizer, \n",
    "                                                               loss_fn=loss_fn,\n",
    "                                                               loss_l1_lambda=L1_LAMBDA,\n",
    "                                                               device=DEVICE)\n",
    "        # Appending Train Losses\n",
    "        train_total_loss.append(t_loss)\n",
    "        train_box_loss.append(b_loss)\n",
    "        train_confidence_loss.append(conf_loss)\n",
    "        train_noobj_loss.append(n_loss)\n",
    "        train_class_loss.append(cls_loss)\n",
    "        \n",
    "\n",
    "        # TRAIN MEAN AVERAGE PRECISION\n",
    "        if ( (epoch+1) % 15 ) == 0:\n",
    "            pred_boxes, target_boxes = get_bboxes(loader=train_loader, \n",
    "                                                  model=model,\n",
    "                                                  SX=SX,\n",
    "                                                  SY=SY,\n",
    "                                                  B=B,\n",
    "                                                  C=C,\n",
    "                                                  mask=cell2box_mask,\n",
    "                                                  iou_threshold=IOU_NMS_THRES, \n",
    "                                                  threshold=THRESHOLD,\n",
    "                                                  device=DEVICE,\n",
    "                                                  box_format=\"midpoint\")\n",
    "\n",
    "            mean_avg_prec, avg_prec, cls_prec, cls_rec = mAP(pred_boxes=pred_boxes, \n",
    "                                                             true_boxes=target_boxes, \n",
    "                                                             iou_threshold=IOU_mAP_THRES, \n",
    "                                                             box_format=\"midpoint\",\n",
    "                                                             num_classes=C)\n",
    "\n",
    "            train_mAP.append(mean_avg_prec)\n",
    "            train_class_AP.append(avg_prec)   \n",
    "            train_class_precision.append(cls_prec)\n",
    "            train_class_recall.append(cls_rec)\n",
    "            print(f\"\\nTrain mAP: {mean_avg_prec:.3f}\")\n",
    "            logger.info(f\"\\nTrain mAP: {mean_avg_prec:.3f}\")\n",
    "        \n",
    "        # VALIDATING\n",
    "        with torch.no_grad():\n",
    "            v_loss, b_loss, conf_loss, n_loss, cls_loss = eval_fn(loader=eval_loader, \n",
    "                                                                  model=model,                         \n",
    "                                                                  loss_fn=loss_fn,\n",
    "                                                                  device=DEVICE)\n",
    "            # Appending Validation Losses\n",
    "            val_total_loss.append(v_loss)\n",
    "            val_box_loss.append(b_loss)\n",
    "            val_confidence_loss.append(conf_loss)\n",
    "            val_noobj_loss.append(n_loss)\n",
    "            val_class_loss.append(cls_loss)\n",
    "            \n",
    "            scheduler.step(v_loss)\n",
    "\n",
    "            # VALIDATION MEAN AVERAGE PRECISION\n",
    "            if ( (epoch+1) % 5 ) == 0:\n",
    "                pred_boxes, target_boxes = get_bboxes(loader=eval_loader, \n",
    "                                                      model=model,\n",
    "                                                      SX=SX,\n",
    "                                                      SY=SY,\n",
    "                                                      B=B,\n",
    "                                                      C=C,\n",
    "                                                      mask=cell2box_mask,\n",
    "                                                      iou_threshold=IOU_NMS_THRES, \n",
    "                                                      threshold=THRESHOLD,\n",
    "                                                      device=DEVICE,\n",
    "                                                      box_format=\"midpoint\")\n",
    "\n",
    "                mean_avg_prec, avg_prec, cls_prec, cls_rec = mAP(pred_boxes=pred_boxes, \n",
    "                                                                 true_boxes=target_boxes, \n",
    "                                                                 iou_threshold=IOU_mAP_THRES, \n",
    "                                                                 box_format=\"midpoint\",\n",
    "                                                                 num_classes=C)\n",
    "\n",
    "                val_mAP.append(mean_avg_prec)\n",
    "                val_class_AP.append(avg_prec)   \n",
    "                val_class_precision.append(cls_prec)\n",
    "                val_class_recall.append(cls_rec)\n",
    "                print(f\"\\nValidation mAP: {mean_avg_prec:.3f}\")\n",
    "                logger.info(f\"\\nValidation mAP: {mean_avg_prec:.3f}\")\n",
    "\n",
    "                epochs_plot.append(epoch)\n",
    "                plt.plot(epochs_plot, val_mAP, label=\"Val mAP\")\n",
    "                plt.title(\"Val mAP:@.50\")\n",
    "                plt.ylim([0,1])\n",
    "                plt.xlabel(\"Epochs\")\n",
    "                plt.ylabel(\"mAP:@.50\")\n",
    "                plt.legend()\n",
    "                plt.grid()\n",
    "                plt.savefig(log_path + \"Temp_bed_mAP.png\")\n",
    "                plt.close()\n",
    "\n",
    "                if best_mAP < mean_avg_prec:\n",
    "                    best_mAP = mean_avg_prec\n",
    "                    print(f\"\\nSaving model with new best val mAP: {best_mAP:.3f}\")\n",
    "                    logger.info(f\"\\nSaving model with new best val mAP: {best_mAP:.3f}\") \n",
    "                    torch.save({\n",
    "                        'epoch': epoch,\n",
    "                        'model_state_dict': model.state_dict(),\n",
    "                        'optimizer_state_dict': optimizer.state_dict(),\n",
    "                        'scheduler_state_dict': scheduler.state_dict()}, log_path + 'bed_best_2BB_mAP.pt') \n",
    "\n",
    "        if ( (epoch+1) % 5 ) == 0:\n",
    "            torch.save(model.state_dict(), log_path + 'bed_2BB_5epoch.pt')\n",
    "            \n",
    "        if best_valid_loss > v_loss:\n",
    "            best_valid_loss = v_loss\n",
    "            print(f\"\\nSaving model with new best validation loss: {best_valid_loss:.3f}\")\n",
    "            logger.info(f\"\\nSaving model with new best validation loss: {best_valid_loss:.3f}\")\n",
    "            torch.save(model.state_dict(), log_path + 'best_2BB.pt')     \n",
    "        \n",
    "    logger.info('Saving last model')   \n",
    "    torch.save(model.state_dict(), log_path + 'last_2BB.pt') \n",
    "    \n",
    "#     save_log(epochs=EPOCHS, \n",
    "#              train_total_loss=train_total_loss,\n",
    "#              train_box_loss=train_box_loss,\n",
    "#              train_class_loss=train_class_loss,\n",
    "#              train_confidence_loss=train_confidence_loss,\n",
    "#              train_noobj_loss=train_noobj_loss,\n",
    "#              train_mAP=train_mAP,\n",
    "#              train_class_AP=train_class_AP,\n",
    "#              train_class_precision=train_class_precision,\n",
    "#              train_class_recall=train_class_recall,\n",
    "#              val_total_loss=val_total_loss,\n",
    "#              val_box_loss=val_box_loss,\n",
    "#              val_class_loss=val_class_loss,\n",
    "#              val_confidence_loss=val_confidence_loss,\n",
    "#              val_noobj_loss=val_noobj_loss,\n",
    "#              val_mAP=val_mAP,\n",
    "#              val_class_AP=val_class_AP,\n",
    "#              val_class_precision=val_class_precision,\n",
    "#              val_class_recall=val_class_recall,\n",
    "#              log_file_dst=LOG_FILE)\n",
    "\n",
    "    end = datetime.datetime.now()\n",
    "    end_time = end.strftime(\"%H:%M:%S\")\n",
    "    print(f'\\n***Script finished: {end_time}\\n')  \n",
    "    print(f'Time elapsed: {end-start}')\n",
    "    logger.info(f'\\n***Script finished: {end_time}\\n')  \n",
    "    logger.info(f'Time elapsed: {end-start}')"
   ]
  },
  {
   "cell_type": "markdown",
   "id": "0ae580f4-e175-4035-a2f7-dabd179db9a3",
   "metadata": {},
   "source": [
    "# Main Execute"
   ]
  },
  {
   "cell_type": "code",
   "execution_count": 18,
   "id": "28659625-6ba4-44ac-ad2c-576b16425dcf",
   "metadata": {},
   "outputs": [
    {
     "name": "stdout",
     "output_type": "stream",
     "text": [
      "Starting script\n",
      "\n",
      "Device: cuda\n",
      "Learning Rate: 0.0005\n",
      "Weight Decay: 1e-05\n",
      "Batch Size: 64\n",
      "IMG DIMS: (224, 224)\n",
      "W: 224\n",
      "H: 224\n",
      "SX: 7\n",
      "SY: 7\n",
      "B: 2\n",
      "C: 2\n",
      "\n",
      "Confidence Threshold: 0.2\n",
      "IOU mAP Threshold: 0.5\n",
      "IOU NMS Threshold: 0.5\n",
      "\n",
      "Max Train Obj per image: 3\n",
      "Max Test Obj per image: 3\n",
      "\n",
      "\n",
      "***Start Training: 11:16:10\n",
      "\n",
      "Using a Pretrained Model\n",
      "\n",
      "=== EPOCH 0/114 ===\n",
      "Learning Rate = 0.0005\n",
      "\n"
     ]
    },
    {
     "name": "stderr",
     "output_type": "stream",
     "text": [
      "Training: 100%|███████████████████████████████| 232/232 [00:33<00:00,  6.99it/s]\n"
     ]
    },
    {
     "name": "stdout",
     "output_type": "stream",
     "text": [
      "Total Loss  |Box Loss    |Conf Loss   |No Obj Loss |Class Loss  \n",
      "------------ ------------ ------------ ------------ ------------\n",
      "399.617     |42.946      |25.526      |292.381     |13.512      \n",
      "\n"
     ]
    },
    {
     "name": "stderr",
     "output_type": "stream",
     "text": [
      "Validating: 100%|███████████████████████████████| 58/58 [00:05<00:00, 10.76it/s]\n"
     ]
    },
    {
     "name": "stdout",
     "output_type": "stream",
     "text": [
      "Total Loss  |Box Loss    |Conf Loss   |No Obj Loss |Class Loss  \n",
      "------------ ------------ ------------ ------------ ------------\n",
      "257.454     |56.463      |34.688      |154.205     |12.098      \n",
      "\n",
      "Saving model with new best validation loss: 257.454\n",
      "\n",
      "=== EPOCH 1/114 ===\n",
      "Learning Rate = 0.0005\n",
      "\n"
     ]
    },
    {
     "name": "stderr",
     "output_type": "stream",
     "text": [
      "Training: 100%|███████████████████████████████| 232/232 [00:32<00:00,  7.07it/s]\n"
     ]
    },
    {
     "name": "stdout",
     "output_type": "stream",
     "text": [
      "Total Loss  |Box Loss    |Conf Loss   |No Obj Loss |Class Loss  \n",
      "------------ ------------ ------------ ------------ ------------\n",
      "206.482     |33.148      |32.592      |107.639     |8.258       \n",
      "\n"
     ]
    },
    {
     "name": "stderr",
     "output_type": "stream",
     "text": [
      "Validating: 100%|███████████████████████████████| 58/58 [00:05<00:00, 10.24it/s]\n"
     ]
    },
    {
     "name": "stdout",
     "output_type": "stream",
     "text": [
      "Total Loss  |Box Loss    |Conf Loss   |No Obj Loss |Class Loss  \n",
      "------------ ------------ ------------ ------------ ------------\n",
      "159.752     |43.795      |39.101      |68.908      |7.948       \n",
      "\n",
      "Saving model with new best validation loss: 159.752\n",
      "\n",
      "=== EPOCH 2/114 ===\n",
      "Learning Rate = 0.0005\n",
      "\n"
     ]
    },
    {
     "name": "stderr",
     "output_type": "stream",
     "text": [
      "Training: 100%|███████████████████████████████| 232/232 [00:32<00:00,  7.20it/s]\n"
     ]
    },
    {
     "name": "stdout",
     "output_type": "stream",
     "text": [
      "Total Loss  |Box Loss    |Conf Loss   |No Obj Loss |Class Loss  \n",
      "------------ ------------ ------------ ------------ ------------\n",
      "142.592     |28.881      |35.073      |48.661      |5.701       \n",
      "\n"
     ]
    },
    {
     "name": "stderr",
     "output_type": "stream",
     "text": [
      "Validating: 100%|███████████████████████████████| 58/58 [00:05<00:00, 10.08it/s]\n"
     ]
    },
    {
     "name": "stdout",
     "output_type": "stream",
     "text": [
      "Total Loss  |Box Loss    |Conf Loss   |No Obj Loss |Class Loss  \n",
      "------------ ------------ ------------ ------------ ------------\n",
      "120.824     |38.904      |43.316      |31.075      |7.530       \n",
      "\n",
      "Saving model with new best validation loss: 120.824\n",
      "\n",
      "=== EPOCH 3/114 ===\n",
      "Learning Rate = 0.0005\n",
      "\n"
     ]
    },
    {
     "name": "stderr",
     "output_type": "stream",
     "text": [
      "Training: 100%|███████████████████████████████| 232/232 [00:33<00:00,  7.00it/s]\n"
     ]
    },
    {
     "name": "stdout",
     "output_type": "stream",
     "text": [
      "Total Loss  |Box Loss    |Conf Loss   |No Obj Loss |Class Loss  \n",
      "------------ ------------ ------------ ------------ ------------\n",
      "116.739     |26.075      |35.743      |26.778      |4.441       \n",
      "\n"
     ]
    },
    {
     "name": "stderr",
     "output_type": "stream",
     "text": [
      "Validating: 100%|███████████████████████████████| 58/58 [00:05<00:00, 10.11it/s]\n"
     ]
    },
    {
     "name": "stdout",
     "output_type": "stream",
     "text": [
      "Total Loss  |Box Loss    |Conf Loss   |No Obj Loss |Class Loss  \n",
      "------------ ------------ ------------ ------------ ------------\n",
      "99.020      |33.312      |42.954      |17.364      |5.390       \n",
      "\n",
      "Saving model with new best validation loss: 99.020\n",
      "\n",
      "=== EPOCH 4/114 ===\n",
      "Learning Rate = 0.0005\n",
      "\n"
     ]
    },
    {
     "name": "stderr",
     "output_type": "stream",
     "text": [
      "Training: 100%|███████████████████████████████| 232/232 [00:32<00:00,  7.19it/s]\n"
     ]
    },
    {
     "name": "stdout",
     "output_type": "stream",
     "text": [
      "Total Loss  |Box Loss    |Conf Loss   |No Obj Loss |Class Loss  \n",
      "------------ ------------ ------------ ------------ ------------\n",
      "102.185     |23.464      |35.141      |16.760      |3.639       \n",
      "\n"
     ]
    },
    {
     "name": "stderr",
     "output_type": "stream",
     "text": [
      "Validating: 100%|███████████████████████████████| 58/58 [00:05<00:00, 10.27it/s]\n"
     ]
    },
    {
     "name": "stdout",
     "output_type": "stream",
     "text": [
      "Total Loss  |Box Loss    |Conf Loss   |No Obj Loss |Class Loss  \n",
      "------------ ------------ ------------ ------------ ------------\n",
      "90.008      |31.479      |40.408      |13.309      |4.812       \n"
     ]
    },
    {
     "name": "stderr",
     "output_type": "stream",
     "text": [
      "Get Boxes: 100%|████████████████████████████████| 58/58 [00:09<00:00,  6.08it/s]\n",
      "mAP:@.5: 100%|████████████████████████████████████| 2/2 [00:01<00:00,  1.99it/s]\n"
     ]
    },
    {
     "name": "stdout",
     "output_type": "stream",
     "text": [
      "\n",
      "Validation mAP: 0.090\n",
      "\n",
      "Saving model with new best val mAP: 0.090\n",
      "\n",
      "Saving model with new best validation loss: 90.008\n",
      "\n",
      "=== EPOCH 5/114 ===\n",
      "Learning Rate = 0.0005\n",
      "\n"
     ]
    },
    {
     "name": "stderr",
     "output_type": "stream",
     "text": [
      "Training: 100%|███████████████████████████████| 232/232 [00:32<00:00,  7.16it/s]\n"
     ]
    },
    {
     "name": "stdout",
     "output_type": "stream",
     "text": [
      "Total Loss  |Box Loss    |Conf Loss   |No Obj Loss |Class Loss  \n",
      "------------ ------------ ------------ ------------ ------------\n",
      "95.581      |22.637      |34.590      |12.236      |3.394       \n",
      "\n"
     ]
    },
    {
     "name": "stderr",
     "output_type": "stream",
     "text": [
      "Validating: 100%|███████████████████████████████| 58/58 [00:06<00:00,  9.62it/s]\n"
     ]
    },
    {
     "name": "stdout",
     "output_type": "stream",
     "text": [
      "Total Loss  |Box Loss    |Conf Loss   |No Obj Loss |Class Loss  \n",
      "------------ ------------ ------------ ------------ ------------\n",
      "84.297      |29.622      |40.530      |9.311       |4.835       \n",
      "\n",
      "Saving model with new best validation loss: 84.297\n",
      "\n",
      "=== EPOCH 6/114 ===\n",
      "Learning Rate = 0.0005\n",
      "\n"
     ]
    },
    {
     "name": "stderr",
     "output_type": "stream",
     "text": [
      "Training: 100%|███████████████████████████████| 232/232 [00:32<00:00,  7.19it/s]\n"
     ]
    },
    {
     "name": "stdout",
     "output_type": "stream",
     "text": [
      "Total Loss  |Box Loss    |Conf Loss   |No Obj Loss |Class Loss  \n",
      "------------ ------------ ------------ ------------ ------------\n",
      "90.735      |21.764      |33.643      |9.689       |3.304       \n",
      "\n"
     ]
    },
    {
     "name": "stderr",
     "output_type": "stream",
     "text": [
      "Validating: 100%|███████████████████████████████| 58/58 [00:05<00:00, 10.55it/s]\n"
     ]
    },
    {
     "name": "stdout",
     "output_type": "stream",
     "text": [
      "Total Loss  |Box Loss    |Conf Loss   |No Obj Loss |Class Loss  \n",
      "------------ ------------ ------------ ------------ ------------\n",
      "82.377      |29.186      |40.280      |7.709       |5.202       \n",
      "\n",
      "Saving model with new best validation loss: 82.377\n",
      "\n",
      "=== EPOCH 7/114 ===\n",
      "Learning Rate = 0.0005\n",
      "\n"
     ]
    },
    {
     "name": "stderr",
     "output_type": "stream",
     "text": [
      "Training: 100%|███████████████████████████████| 232/232 [00:32<00:00,  7.09it/s]\n"
     ]
    },
    {
     "name": "stdout",
     "output_type": "stream",
     "text": [
      "Total Loss  |Box Loss    |Conf Loss   |No Obj Loss |Class Loss  \n",
      "------------ ------------ ------------ ------------ ------------\n",
      "86.864      |20.529      |32.610      |8.719       |3.040       \n",
      "\n"
     ]
    },
    {
     "name": "stderr",
     "output_type": "stream",
     "text": [
      "Validating: 100%|███████████████████████████████| 58/58 [00:05<00:00,  9.98it/s]\n"
     ]
    },
    {
     "name": "stdout",
     "output_type": "stream",
     "text": [
      "Total Loss  |Box Loss    |Conf Loss   |No Obj Loss |Class Loss  \n",
      "------------ ------------ ------------ ------------ ------------\n",
      "81.913      |29.462      |40.996      |6.564       |4.891       \n",
      "\n",
      "Saving model with new best validation loss: 81.913\n",
      "\n",
      "=== EPOCH 8/114 ===\n",
      "Learning Rate = 0.0005\n",
      "\n"
     ]
    },
    {
     "name": "stderr",
     "output_type": "stream",
     "text": [
      "Training: 100%|███████████████████████████████| 232/232 [00:33<00:00,  6.96it/s]\n"
     ]
    },
    {
     "name": "stdout",
     "output_type": "stream",
     "text": [
      "Total Loss  |Box Loss    |Conf Loss   |No Obj Loss |Class Loss  \n",
      "------------ ------------ ------------ ------------ ------------\n",
      "84.467      |19.962      |31.657      |8.271       |2.918       \n",
      "\n"
     ]
    },
    {
     "name": "stderr",
     "output_type": "stream",
     "text": [
      "Validating: 100%|███████████████████████████████| 58/58 [00:05<00:00, 10.33it/s]\n"
     ]
    },
    {
     "name": "stdout",
     "output_type": "stream",
     "text": [
      "Total Loss  |Box Loss    |Conf Loss   |No Obj Loss |Class Loss  \n",
      "------------ ------------ ------------ ------------ ------------\n",
      "78.502      |28.466      |38.351      |6.663       |5.021       \n",
      "\n",
      "Saving model with new best validation loss: 78.502\n",
      "\n",
      "=== EPOCH 9/114 ===\n",
      "Learning Rate = 0.0005\n",
      "\n"
     ]
    },
    {
     "name": "stderr",
     "output_type": "stream",
     "text": [
      "Training: 100%|███████████████████████████████| 232/232 [00:33<00:00,  7.00it/s]\n"
     ]
    },
    {
     "name": "stdout",
     "output_type": "stream",
     "text": [
      "Total Loss  |Box Loss    |Conf Loss   |No Obj Loss |Class Loss  \n",
      "------------ ------------ ------------ ------------ ------------\n",
      "82.918      |19.514      |31.132      |7.993       |2.893       \n",
      "\n"
     ]
    },
    {
     "name": "stderr",
     "output_type": "stream",
     "text": [
      "Validating: 100%|███████████████████████████████| 58/58 [00:05<00:00, 10.02it/s]\n"
     ]
    },
    {
     "name": "stdout",
     "output_type": "stream",
     "text": [
      "Total Loss  |Box Loss    |Conf Loss   |No Obj Loss |Class Loss  \n",
      "------------ ------------ ------------ ------------ ------------\n",
      "75.654      |26.717      |36.901      |7.118       |4.918       \n"
     ]
    },
    {
     "name": "stderr",
     "output_type": "stream",
     "text": [
      "Get Boxes: 100%|████████████████████████████████| 58/58 [00:09<00:00,  6.03it/s]\n",
      "mAP:@.5: 100%|████████████████████████████████████| 2/2 [00:01<00:00,  1.46it/s]\n"
     ]
    },
    {
     "name": "stdout",
     "output_type": "stream",
     "text": [
      "\n",
      "Validation mAP: 0.131\n",
      "\n",
      "Saving model with new best val mAP: 0.131\n",
      "\n",
      "Saving model with new best validation loss: 75.654\n",
      "\n",
      "=== EPOCH 10/114 ===\n",
      "Learning Rate = 0.0005\n",
      "\n"
     ]
    },
    {
     "name": "stderr",
     "output_type": "stream",
     "text": [
      "Training: 100%|███████████████████████████████| 232/232 [00:32<00:00,  7.17it/s]\n"
     ]
    },
    {
     "name": "stdout",
     "output_type": "stream",
     "text": [
      "Total Loss  |Box Loss    |Conf Loss   |No Obj Loss |Class Loss  \n",
      "------------ ------------ ------------ ------------ ------------\n",
      "79.993      |18.194      |30.073      |7.979       |2.606       \n",
      "\n"
     ]
    },
    {
     "name": "stderr",
     "output_type": "stream",
     "text": [
      "Validating: 100%|███████████████████████████████| 58/58 [00:05<00:00, 10.21it/s]\n"
     ]
    },
    {
     "name": "stdout",
     "output_type": "stream",
     "text": [
      "Total Loss  |Box Loss    |Conf Loss   |No Obj Loss |Class Loss  \n",
      "------------ ------------ ------------ ------------ ------------\n",
      "74.558      |25.725      |36.832      |6.414       |5.586       \n",
      "\n",
      "Saving model with new best validation loss: 74.558\n",
      "\n",
      "=== EPOCH 11/114 ===\n",
      "Learning Rate = 0.0005\n",
      "\n"
     ]
    },
    {
     "name": "stderr",
     "output_type": "stream",
     "text": [
      "Training: 100%|███████████████████████████████| 232/232 [00:33<00:00,  6.97it/s]\n"
     ]
    },
    {
     "name": "stdout",
     "output_type": "stream",
     "text": [
      "Total Loss  |Box Loss    |Conf Loss   |No Obj Loss |Class Loss  \n",
      "------------ ------------ ------------ ------------ ------------\n",
      "78.779      |17.711      |29.785      |7.718       |2.638       \n",
      "\n"
     ]
    },
    {
     "name": "stderr",
     "output_type": "stream",
     "text": [
      "Validating: 100%|███████████████████████████████| 58/58 [00:05<00:00, 10.16it/s]\n"
     ]
    },
    {
     "name": "stdout",
     "output_type": "stream",
     "text": [
      "Total Loss  |Box Loss    |Conf Loss   |No Obj Loss |Class Loss  \n",
      "------------ ------------ ------------ ------------ ------------\n",
      "73.070      |25.369      |36.880      |6.185       |4.636       \n",
      "\n",
      "Saving model with new best validation loss: 73.070\n",
      "\n",
      "=== EPOCH 12/114 ===\n",
      "Learning Rate = 0.0005\n",
      "\n"
     ]
    },
    {
     "name": "stderr",
     "output_type": "stream",
     "text": [
      "Training: 100%|███████████████████████████████| 232/232 [00:32<00:00,  7.07it/s]\n"
     ]
    },
    {
     "name": "stdout",
     "output_type": "stream",
     "text": [
      "Total Loss  |Box Loss    |Conf Loss   |No Obj Loss |Class Loss  \n",
      "------------ ------------ ------------ ------------ ------------\n",
      "78.030      |17.625      |29.408      |7.647       |2.617       \n",
      "\n"
     ]
    },
    {
     "name": "stderr",
     "output_type": "stream",
     "text": [
      "Validating: 100%|███████████████████████████████| 58/58 [00:05<00:00, 10.29it/s]\n"
     ]
    },
    {
     "name": "stdout",
     "output_type": "stream",
     "text": [
      "Total Loss  |Box Loss    |Conf Loss   |No Obj Loss |Class Loss  \n",
      "------------ ------------ ------------ ------------ ------------\n",
      "71.542      |24.614      |36.603      |6.102       |4.223       \n",
      "\n",
      "Saving model with new best validation loss: 71.542\n",
      "\n",
      "=== EPOCH 13/114 ===\n",
      "Learning Rate = 0.0005\n",
      "\n"
     ]
    },
    {
     "name": "stderr",
     "output_type": "stream",
     "text": [
      "Training: 100%|███████████████████████████████| 232/232 [00:32<00:00,  7.09it/s]\n"
     ]
    },
    {
     "name": "stdout",
     "output_type": "stream",
     "text": [
      "Total Loss  |Box Loss    |Conf Loss   |No Obj Loss |Class Loss  \n",
      "------------ ------------ ------------ ------------ ------------\n",
      "77.322      |17.280      |29.598      |7.373       |2.514       \n",
      "\n"
     ]
    },
    {
     "name": "stderr",
     "output_type": "stream",
     "text": [
      "Validating: 100%|███████████████████████████████| 58/58 [00:05<00:00, 10.90it/s]\n"
     ]
    },
    {
     "name": "stdout",
     "output_type": "stream",
     "text": [
      "Total Loss  |Box Loss    |Conf Loss   |No Obj Loss |Class Loss  \n",
      "------------ ------------ ------------ ------------ ------------\n",
      "71.342      |23.600      |38.497      |4.714       |4.531       \n",
      "\n",
      "Saving model with new best validation loss: 71.342\n",
      "\n",
      "=== EPOCH 14/114 ===\n",
      "Learning Rate = 0.0005\n",
      "\n"
     ]
    },
    {
     "name": "stderr",
     "output_type": "stream",
     "text": [
      "Training: 100%|███████████████████████████████| 232/232 [00:33<00:00,  6.92it/s]\n"
     ]
    },
    {
     "name": "stdout",
     "output_type": "stream",
     "text": [
      "Total Loss  |Box Loss    |Conf Loss   |No Obj Loss |Class Loss  \n",
      "------------ ------------ ------------ ------------ ------------\n",
      "75.338      |16.635      |28.520      |7.374       |2.416       \n",
      "\n"
     ]
    },
    {
     "name": "stderr",
     "output_type": "stream",
     "text": [
      "Get Boxes: 100%|██████████████████████████████| 232/232 [00:38<00:00,  6.05it/s]\n",
      "mAP:@.5: 100%|████████████████████████████████████| 2/2 [00:03<00:00,  1.56s/it]\n"
     ]
    },
    {
     "name": "stdout",
     "output_type": "stream",
     "text": [
      "\n",
      "Train mAP: 0.257\n"
     ]
    },
    {
     "name": "stderr",
     "output_type": "stream",
     "text": [
      "Validating: 100%|███████████████████████████████| 58/58 [00:05<00:00, 10.97it/s]\n"
     ]
    },
    {
     "name": "stdout",
     "output_type": "stream",
     "text": [
      "Total Loss  |Box Loss    |Conf Loss   |No Obj Loss |Class Loss  \n",
      "------------ ------------ ------------ ------------ ------------\n",
      "72.701      |25.467      |37.247      |5.010       |4.978       \n"
     ]
    },
    {
     "name": "stderr",
     "output_type": "stream",
     "text": [
      "Get Boxes: 100%|████████████████████████████████| 58/58 [00:09<00:00,  6.04it/s]\n",
      "mAP:@.5: 100%|████████████████████████████████████| 2/2 [00:00<00:00,  4.17it/s]\n"
     ]
    },
    {
     "name": "stdout",
     "output_type": "stream",
     "text": [
      "\n",
      "Validation mAP: 0.176\n",
      "\n",
      "Saving model with new best val mAP: 0.176\n",
      "\n",
      "=== EPOCH 15/114 ===\n",
      "Learning Rate = 0.0005\n",
      "\n"
     ]
    },
    {
     "name": "stderr",
     "output_type": "stream",
     "text": [
      "Training: 100%|███████████████████████████████| 232/232 [00:33<00:00,  6.93it/s]\n"
     ]
    },
    {
     "name": "stdout",
     "output_type": "stream",
     "text": [
      "Total Loss  |Box Loss    |Conf Loss   |No Obj Loss |Class Loss  \n",
      "------------ ------------ ------------ ------------ ------------\n",
      "74.589      |16.477      |28.392      |7.170       |2.314       \n",
      "\n"
     ]
    },
    {
     "name": "stderr",
     "output_type": "stream",
     "text": [
      "Validating: 100%|███████████████████████████████| 58/58 [00:05<00:00,  9.98it/s]\n"
     ]
    },
    {
     "name": "stdout",
     "output_type": "stream",
     "text": [
      "Total Loss  |Box Loss    |Conf Loss   |No Obj Loss |Class Loss  \n",
      "------------ ------------ ------------ ------------ ------------\n",
      "71.456      |23.840      |38.440      |4.340       |4.836       \n",
      "\n",
      "=== EPOCH 16/114 ===\n",
      "Learning Rate = 0.0005\n",
      "\n"
     ]
    },
    {
     "name": "stderr",
     "output_type": "stream",
     "text": [
      "Training: 100%|███████████████████████████████| 232/232 [00:32<00:00,  7.05it/s]\n"
     ]
    },
    {
     "name": "stdout",
     "output_type": "stream",
     "text": [
      "Total Loss  |Box Loss    |Conf Loss   |No Obj Loss |Class Loss  \n",
      "------------ ------------ ------------ ------------ ------------\n",
      "73.268      |15.883      |27.882      |7.229       |2.180       \n",
      "\n"
     ]
    },
    {
     "name": "stderr",
     "output_type": "stream",
     "text": [
      "Validating: 100%|███████████████████████████████| 58/58 [00:05<00:00,  9.97it/s]\n"
     ]
    },
    {
     "name": "stdout",
     "output_type": "stream",
     "text": [
      "Total Loss  |Box Loss    |Conf Loss   |No Obj Loss |Class Loss  \n",
      "------------ ------------ ------------ ------------ ------------\n",
      "67.057      |22.314      |31.542      |8.945       |4.256       \n",
      "\n",
      "Saving model with new best validation loss: 67.057\n",
      "\n",
      "=== EPOCH 17/114 ===\n",
      "Learning Rate = 0.0005\n",
      "\n"
     ]
    },
    {
     "name": "stderr",
     "output_type": "stream",
     "text": [
      "Training: 100%|███████████████████████████████| 232/232 [00:33<00:00,  6.99it/s]\n"
     ]
    },
    {
     "name": "stdout",
     "output_type": "stream",
     "text": [
      "Total Loss  |Box Loss    |Conf Loss   |No Obj Loss |Class Loss  \n",
      "------------ ------------ ------------ ------------ ------------\n",
      "72.630      |15.800      |27.327      |7.361       |2.173       \n",
      "\n"
     ]
    },
    {
     "name": "stderr",
     "output_type": "stream",
     "text": [
      "Validating: 100%|███████████████████████████████| 58/58 [00:05<00:00, 10.26it/s]\n"
     ]
    },
    {
     "name": "stdout",
     "output_type": "stream",
     "text": [
      "Total Loss  |Box Loss    |Conf Loss   |No Obj Loss |Class Loss  \n",
      "------------ ------------ ------------ ------------ ------------\n",
      "67.763      |22.315      |35.455      |5.803       |4.190       \n",
      "\n",
      "=== EPOCH 18/114 ===\n",
      "Learning Rate = 0.0005\n",
      "\n"
     ]
    },
    {
     "name": "stderr",
     "output_type": "stream",
     "text": [
      "Training: 100%|███████████████████████████████| 232/232 [00:33<00:00,  6.97it/s]\n"
     ]
    },
    {
     "name": "stdout",
     "output_type": "stream",
     "text": [
      "Total Loss  |Box Loss    |Conf Loss   |No Obj Loss |Class Loss  \n",
      "------------ ------------ ------------ ------------ ------------\n",
      "71.382      |15.415      |26.800      |7.274       |2.047       \n",
      "\n"
     ]
    },
    {
     "name": "stderr",
     "output_type": "stream",
     "text": [
      "Validating: 100%|███████████████████████████████| 58/58 [00:05<00:00,  9.99it/s]\n"
     ]
    },
    {
     "name": "stdout",
     "output_type": "stream",
     "text": [
      "Total Loss  |Box Loss    |Conf Loss   |No Obj Loss |Class Loss  \n",
      "------------ ------------ ------------ ------------ ------------\n",
      "66.732      |22.166      |33.362      |6.375       |4.830       \n",
      "\n",
      "Saving model with new best validation loss: 66.732\n",
      "\n",
      "=== EPOCH 19/114 ===\n",
      "Learning Rate = 0.0005\n",
      "\n"
     ]
    },
    {
     "name": "stderr",
     "output_type": "stream",
     "text": [
      "Training: 100%|███████████████████████████████| 232/232 [00:32<00:00,  7.04it/s]\n"
     ]
    },
    {
     "name": "stdout",
     "output_type": "stream",
     "text": [
      "Total Loss  |Box Loss    |Conf Loss   |No Obj Loss |Class Loss  \n",
      "------------ ------------ ------------ ------------ ------------\n",
      "71.656      |15.204      |27.385      |7.112       |2.225       \n",
      "\n"
     ]
    },
    {
     "name": "stderr",
     "output_type": "stream",
     "text": [
      "Validating: 100%|███████████████████████████████| 58/58 [00:05<00:00,  9.96it/s]\n"
     ]
    },
    {
     "name": "stdout",
     "output_type": "stream",
     "text": [
      "Total Loss  |Box Loss    |Conf Loss   |No Obj Loss |Class Loss  \n",
      "------------ ------------ ------------ ------------ ------------\n",
      "68.574      |22.276      |36.082      |5.360       |4.855       \n"
     ]
    },
    {
     "name": "stderr",
     "output_type": "stream",
     "text": [
      "Get Boxes: 100%|████████████████████████████████| 58/58 [00:10<00:00,  5.74it/s]\n",
      "mAP:@.5: 100%|████████████████████████████████████| 2/2 [00:00<00:00,  2.47it/s]\n"
     ]
    },
    {
     "name": "stdout",
     "output_type": "stream",
     "text": [
      "\n",
      "Validation mAP: 0.214\n",
      "\n",
      "Saving model with new best val mAP: 0.214\n",
      "\n",
      "=== EPOCH 20/114 ===\n",
      "Learning Rate = 0.0005\n",
      "\n"
     ]
    },
    {
     "name": "stderr",
     "output_type": "stream",
     "text": [
      "Training: 100%|███████████████████████████████| 232/232 [00:33<00:00,  6.96it/s]\n"
     ]
    },
    {
     "name": "stdout",
     "output_type": "stream",
     "text": [
      "Total Loss  |Box Loss    |Conf Loss   |No Obj Loss |Class Loss  \n",
      "------------ ------------ ------------ ------------ ------------\n",
      "70.907      |15.140      |26.885      |7.158       |2.095       \n",
      "\n"
     ]
    },
    {
     "name": "stderr",
     "output_type": "stream",
     "text": [
      "Validating: 100%|███████████████████████████████| 58/58 [00:05<00:00,  9.97it/s]\n"
     ]
    },
    {
     "name": "stdout",
     "output_type": "stream",
     "text": [
      "Total Loss  |Box Loss    |Conf Loss   |No Obj Loss |Class Loss  \n",
      "------------ ------------ ------------ ------------ ------------\n",
      "65.239      |21.444      |33.245      |6.379       |4.171       \n",
      "\n",
      "Saving model with new best validation loss: 65.239\n",
      "\n",
      "=== EPOCH 21/114 ===\n",
      "Learning Rate = 0.0005\n",
      "\n"
     ]
    },
    {
     "name": "stderr",
     "output_type": "stream",
     "text": [
      "Training: 100%|███████████████████████████████| 232/232 [00:32<00:00,  7.04it/s]\n"
     ]
    },
    {
     "name": "stdout",
     "output_type": "stream",
     "text": [
      "Total Loss  |Box Loss    |Conf Loss   |No Obj Loss |Class Loss  \n",
      "------------ ------------ ------------ ------------ ------------\n",
      "70.386      |14.916      |26.556      |7.205       |2.171       \n",
      "\n"
     ]
    },
    {
     "name": "stderr",
     "output_type": "stream",
     "text": [
      "Validating: 100%|███████████████████████████████| 58/58 [00:05<00:00, 10.19it/s]\n"
     ]
    },
    {
     "name": "stdout",
     "output_type": "stream",
     "text": [
      "Total Loss  |Box Loss    |Conf Loss   |No Obj Loss |Class Loss  \n",
      "------------ ------------ ------------ ------------ ------------\n",
      "66.035      |21.278      |36.212      |4.294       |4.251       \n",
      "\n",
      "=== EPOCH 22/114 ===\n",
      "Learning Rate = 0.0005\n",
      "\n"
     ]
    },
    {
     "name": "stderr",
     "output_type": "stream",
     "text": [
      "Training: 100%|███████████████████████████████| 232/232 [00:32<00:00,  7.12it/s]\n"
     ]
    },
    {
     "name": "stdout",
     "output_type": "stream",
     "text": [
      "Total Loss  |Box Loss    |Conf Loss   |No Obj Loss |Class Loss  \n",
      "------------ ------------ ------------ ------------ ------------\n",
      "69.732      |14.658      |26.642      |6.955       |2.035       \n",
      "\n"
     ]
    },
    {
     "name": "stderr",
     "output_type": "stream",
     "text": [
      "Validating: 100%|███████████████████████████████| 58/58 [00:05<00:00,  9.83it/s]\n"
     ]
    },
    {
     "name": "stdout",
     "output_type": "stream",
     "text": [
      "Total Loss  |Box Loss    |Conf Loss   |No Obj Loss |Class Loss  \n",
      "------------ ------------ ------------ ------------ ------------\n",
      "66.539      |21.923      |31.141      |8.391       |5.084       \n",
      "\n",
      "=== EPOCH 23/114 ===\n",
      "Learning Rate = 0.0005\n",
      "\n"
     ]
    },
    {
     "name": "stderr",
     "output_type": "stream",
     "text": [
      "Training: 100%|███████████████████████████████| 232/232 [00:33<00:00,  6.93it/s]\n"
     ]
    },
    {
     "name": "stdout",
     "output_type": "stream",
     "text": [
      "Total Loss  |Box Loss    |Conf Loss   |No Obj Loss |Class Loss  \n",
      "------------ ------------ ------------ ------------ ------------\n",
      "68.802      |14.331      |25.867      |7.255       |1.991       \n",
      "\n"
     ]
    },
    {
     "name": "stderr",
     "output_type": "stream",
     "text": [
      "Validating: 100%|███████████████████████████████| 58/58 [00:05<00:00, 10.17it/s]\n"
     ]
    },
    {
     "name": "stdout",
     "output_type": "stream",
     "text": [
      "Total Loss  |Box Loss    |Conf Loss   |No Obj Loss |Class Loss  \n",
      "------------ ------------ ------------ ------------ ------------\n",
      "66.088      |22.048      |33.927      |5.573       |4.541       \n",
      "\n",
      "=== EPOCH 24/114 ===\n",
      "Learning Rate = 0.0004\n",
      "\n"
     ]
    },
    {
     "name": "stderr",
     "output_type": "stream",
     "text": [
      "Training: 100%|███████████████████████████████| 232/232 [00:32<00:00,  7.14it/s]\n"
     ]
    },
    {
     "name": "stdout",
     "output_type": "stream",
     "text": [
      "Total Loss  |Box Loss    |Conf Loss   |No Obj Loss |Class Loss  \n",
      "------------ ------------ ------------ ------------ ------------\n",
      "68.255      |14.013      |26.038      |6.989       |1.953       \n",
      "\n"
     ]
    },
    {
     "name": "stderr",
     "output_type": "stream",
     "text": [
      "Validating: 100%|███████████████████████████████| 58/58 [00:05<00:00,  9.89it/s]\n"
     ]
    },
    {
     "name": "stdout",
     "output_type": "stream",
     "text": [
      "Total Loss  |Box Loss    |Conf Loss   |No Obj Loss |Class Loss  \n",
      "------------ ------------ ------------ ------------ ------------\n",
      "64.915      |21.725      |31.475      |7.158       |4.558       \n"
     ]
    },
    {
     "name": "stderr",
     "output_type": "stream",
     "text": [
      "Get Boxes: 100%|████████████████████████████████| 58/58 [00:09<00:00,  6.13it/s]\n",
      "mAP:@.5: 100%|████████████████████████████████████| 2/2 [00:00<00:00,  2.11it/s]\n"
     ]
    },
    {
     "name": "stdout",
     "output_type": "stream",
     "text": [
      "\n",
      "Validation mAP: 0.218\n",
      "\n",
      "Saving model with new best val mAP: 0.218\n",
      "\n",
      "Saving model with new best validation loss: 64.915\n",
      "\n",
      "=== EPOCH 25/114 ===\n",
      "Learning Rate = 0.0004\n",
      "\n"
     ]
    },
    {
     "name": "stderr",
     "output_type": "stream",
     "text": [
      "Training: 100%|███████████████████████████████| 232/232 [00:32<00:00,  7.20it/s]\n"
     ]
    },
    {
     "name": "stdout",
     "output_type": "stream",
     "text": [
      "Total Loss  |Box Loss    |Conf Loss   |No Obj Loss |Class Loss  \n",
      "------------ ------------ ------------ ------------ ------------\n",
      "67.547      |13.852      |25.371      |7.210       |1.955       \n",
      "\n"
     ]
    },
    {
     "name": "stderr",
     "output_type": "stream",
     "text": [
      "Validating: 100%|███████████████████████████████| 58/58 [00:06<00:00,  9.40it/s]\n"
     ]
    },
    {
     "name": "stdout",
     "output_type": "stream",
     "text": [
      "Total Loss  |Box Loss    |Conf Loss   |No Obj Loss |Class Loss  \n",
      "------------ ------------ ------------ ------------ ------------\n",
      "65.239      |20.634      |30.841      |8.860       |4.904       \n",
      "\n",
      "=== EPOCH 26/114 ===\n",
      "Learning Rate = 0.0004\n",
      "\n"
     ]
    },
    {
     "name": "stderr",
     "output_type": "stream",
     "text": [
      "Training: 100%|███████████████████████████████| 232/232 [00:32<00:00,  7.11it/s]\n"
     ]
    },
    {
     "name": "stdout",
     "output_type": "stream",
     "text": [
      "Total Loss  |Box Loss    |Conf Loss   |No Obj Loss |Class Loss  \n",
      "------------ ------------ ------------ ------------ ------------\n",
      "67.263      |13.801      |25.166      |7.301       |1.920       \n",
      "\n"
     ]
    },
    {
     "name": "stderr",
     "output_type": "stream",
     "text": [
      "Validating: 100%|███████████████████████████████| 58/58 [00:05<00:00, 10.29it/s]\n"
     ]
    },
    {
     "name": "stdout",
     "output_type": "stream",
     "text": [
      "Total Loss  |Box Loss    |Conf Loss   |No Obj Loss |Class Loss  \n",
      "------------ ------------ ------------ ------------ ------------\n",
      "64.603      |21.746      |31.568      |6.244       |5.045       \n",
      "\n",
      "Saving model with new best validation loss: 64.603\n",
      "\n",
      "=== EPOCH 27/114 ===\n",
      "Learning Rate = 0.0004\n",
      "\n"
     ]
    },
    {
     "name": "stderr",
     "output_type": "stream",
     "text": [
      "Training: 100%|███████████████████████████████| 232/232 [00:32<00:00,  7.06it/s]\n"
     ]
    },
    {
     "name": "stdout",
     "output_type": "stream",
     "text": [
      "Total Loss  |Box Loss    |Conf Loss   |No Obj Loss |Class Loss  \n",
      "------------ ------------ ------------ ------------ ------------\n",
      "66.328      |13.349      |25.066      |7.010       |1.907       \n",
      "\n"
     ]
    },
    {
     "name": "stderr",
     "output_type": "stream",
     "text": [
      "Validating: 100%|███████████████████████████████| 58/58 [00:05<00:00, 10.00it/s]\n"
     ]
    },
    {
     "name": "stdout",
     "output_type": "stream",
     "text": [
      "Total Loss  |Box Loss    |Conf Loss   |No Obj Loss |Class Loss  \n",
      "------------ ------------ ------------ ------------ ------------\n",
      "63.676      |20.818      |33.081      |5.065       |4.712       \n",
      "\n",
      "Saving model with new best validation loss: 63.676\n",
      "\n",
      "=== EPOCH 28/114 ===\n",
      "Learning Rate = 0.0004\n",
      "\n"
     ]
    },
    {
     "name": "stderr",
     "output_type": "stream",
     "text": [
      "Training: 100%|███████████████████████████████| 232/232 [00:32<00:00,  7.07it/s]\n"
     ]
    },
    {
     "name": "stdout",
     "output_type": "stream",
     "text": [
      "Total Loss  |Box Loss    |Conf Loss   |No Obj Loss |Class Loss  \n",
      "------------ ------------ ------------ ------------ ------------\n",
      "65.983      |13.353      |24.804      |7.117       |1.780       \n",
      "\n"
     ]
    },
    {
     "name": "stderr",
     "output_type": "stream",
     "text": [
      "Validating: 100%|███████████████████████████████| 58/58 [00:05<00:00, 10.78it/s]\n"
     ]
    },
    {
     "name": "stdout",
     "output_type": "stream",
     "text": [
      "Total Loss  |Box Loss    |Conf Loss   |No Obj Loss |Class Loss  \n",
      "------------ ------------ ------------ ------------ ------------\n",
      "63.813      |20.485      |33.127      |5.683       |4.518       \n",
      "\n",
      "=== EPOCH 29/114 ===\n",
      "Learning Rate = 0.0004\n",
      "\n"
     ]
    },
    {
     "name": "stderr",
     "output_type": "stream",
     "text": [
      "Training: 100%|███████████████████████████████| 232/232 [00:32<00:00,  7.17it/s]\n"
     ]
    },
    {
     "name": "stdout",
     "output_type": "stream",
     "text": [
      "Total Loss  |Box Loss    |Conf Loss   |No Obj Loss |Class Loss  \n",
      "------------ ------------ ------------ ------------ ------------\n",
      "65.144      |13.253      |24.150      |7.136       |1.724       \n",
      "\n"
     ]
    },
    {
     "name": "stderr",
     "output_type": "stream",
     "text": [
      "Get Boxes: 100%|██████████████████████████████| 232/232 [00:38<00:00,  5.95it/s]\n",
      "mAP:@.5: 100%|████████████████████████████████████| 2/2 [00:04<00:00,  2.40s/it]\n"
     ]
    },
    {
     "name": "stdout",
     "output_type": "stream",
     "text": [
      "\n",
      "Train mAP: 0.386\n"
     ]
    },
    {
     "name": "stderr",
     "output_type": "stream",
     "text": [
      "Validating: 100%|███████████████████████████████| 58/58 [00:05<00:00, 10.05it/s]\n"
     ]
    },
    {
     "name": "stdout",
     "output_type": "stream",
     "text": [
      "Total Loss  |Box Loss    |Conf Loss   |No Obj Loss |Class Loss  \n",
      "------------ ------------ ------------ ------------ ------------\n",
      "62.272      |19.833      |31.966      |6.159       |4.313       \n"
     ]
    },
    {
     "name": "stderr",
     "output_type": "stream",
     "text": [
      "Get Boxes: 100%|████████████████████████████████| 58/58 [00:09<00:00,  6.10it/s]\n",
      "mAP:@.5: 100%|████████████████████████████████████| 2/2 [00:00<00:00,  4.06it/s]\n"
     ]
    },
    {
     "name": "stdout",
     "output_type": "stream",
     "text": [
      "\n",
      "Validation mAP: 0.285\n",
      "\n",
      "Saving model with new best val mAP: 0.285\n",
      "\n",
      "Saving model with new best validation loss: 62.272\n",
      "\n",
      "=== EPOCH 30/114 ===\n",
      "Learning Rate = 0.0004\n",
      "\n"
     ]
    },
    {
     "name": "stderr",
     "output_type": "stream",
     "text": [
      "Training: 100%|███████████████████████████████| 232/232 [00:33<00:00,  6.90it/s]\n"
     ]
    },
    {
     "name": "stdout",
     "output_type": "stream",
     "text": [
      "Total Loss  |Box Loss    |Conf Loss   |No Obj Loss |Class Loss  \n",
      "------------ ------------ ------------ ------------ ------------\n",
      "64.530      |13.008      |23.712      |7.159       |1.825       \n",
      "\n"
     ]
    },
    {
     "name": "stderr",
     "output_type": "stream",
     "text": [
      "Validating: 100%|███████████████████████████████| 58/58 [00:05<00:00, 10.27it/s]\n"
     ]
    },
    {
     "name": "stdout",
     "output_type": "stream",
     "text": [
      "Total Loss  |Box Loss    |Conf Loss   |No Obj Loss |Class Loss  \n",
      "------------ ------------ ------------ ------------ ------------\n",
      "63.317      |20.623      |31.700      |6.577       |4.417       \n",
      "\n",
      "=== EPOCH 31/114 ===\n",
      "Learning Rate = 0.0004\n",
      "\n"
     ]
    },
    {
     "name": "stderr",
     "output_type": "stream",
     "text": [
      "Training: 100%|███████████████████████████████| 232/232 [00:32<00:00,  7.09it/s]\n"
     ]
    },
    {
     "name": "stdout",
     "output_type": "stream",
     "text": [
      "Total Loss  |Box Loss    |Conf Loss   |No Obj Loss |Class Loss  \n",
      "------------ ------------ ------------ ------------ ------------\n",
      "64.583      |12.899      |24.218      |7.071       |1.625       \n",
      "\n"
     ]
    },
    {
     "name": "stderr",
     "output_type": "stream",
     "text": [
      "Validating: 100%|███████████████████████████████| 58/58 [00:05<00:00, 10.47it/s]\n"
     ]
    },
    {
     "name": "stdout",
     "output_type": "stream",
     "text": [
      "Total Loss  |Box Loss    |Conf Loss   |No Obj Loss |Class Loss  \n",
      "------------ ------------ ------------ ------------ ------------\n",
      "63.730      |20.581      |32.654      |5.841       |4.654       \n",
      "\n",
      "=== EPOCH 32/114 ===\n",
      "Learning Rate = 0.0004\n",
      "\n"
     ]
    },
    {
     "name": "stderr",
     "output_type": "stream",
     "text": [
      "Training: 100%|███████████████████████████████| 232/232 [00:33<00:00,  6.96it/s]\n"
     ]
    },
    {
     "name": "stdout",
     "output_type": "stream",
     "text": [
      "Total Loss  |Box Loss    |Conf Loss   |No Obj Loss |Class Loss  \n",
      "------------ ------------ ------------ ------------ ------------\n",
      "63.875      |12.837      |23.605      |7.041       |1.666       \n",
      "\n"
     ]
    },
    {
     "name": "stderr",
     "output_type": "stream",
     "text": [
      "Validating: 100%|███████████████████████████████| 58/58 [00:05<00:00, 10.10it/s]\n"
     ]
    },
    {
     "name": "stdout",
     "output_type": "stream",
     "text": [
      "Total Loss  |Box Loss    |Conf Loss   |No Obj Loss |Class Loss  \n",
      "------------ ------------ ------------ ------------ ------------\n",
      "62.569      |20.342      |30.663      |7.284       |4.280       \n",
      "\n",
      "=== EPOCH 33/114 ===\n",
      "Learning Rate = 0.00032\n",
      "\n"
     ]
    },
    {
     "name": "stderr",
     "output_type": "stream",
     "text": [
      "Training: 100%|███████████████████████████████| 232/232 [00:32<00:00,  7.10it/s]\n"
     ]
    },
    {
     "name": "stdout",
     "output_type": "stream",
     "text": [
      "Total Loss  |Box Loss    |Conf Loss   |No Obj Loss |Class Loss  \n",
      "------------ ------------ ------------ ------------ ------------\n",
      "62.831      |12.251      |23.356      |6.946       |1.607       \n",
      "\n"
     ]
    },
    {
     "name": "stderr",
     "output_type": "stream",
     "text": [
      "Validating: 100%|███████████████████████████████| 58/58 [00:05<00:00, 10.06it/s]\n"
     ]
    },
    {
     "name": "stdout",
     "output_type": "stream",
     "text": [
      "Total Loss  |Box Loss    |Conf Loss   |No Obj Loss |Class Loss  \n",
      "------------ ------------ ------------ ------------ ------------\n",
      "63.090      |20.705      |31.987      |5.879       |4.519       \n",
      "\n",
      "=== EPOCH 34/114 ===\n",
      "Learning Rate = 0.00032\n",
      "\n"
     ]
    },
    {
     "name": "stderr",
     "output_type": "stream",
     "text": [
      "Training: 100%|███████████████████████████████| 232/232 [00:33<00:00,  7.01it/s]\n"
     ]
    },
    {
     "name": "stdout",
     "output_type": "stream",
     "text": [
      "Total Loss  |Box Loss    |Conf Loss   |No Obj Loss |Class Loss  \n",
      "------------ ------------ ------------ ------------ ------------\n",
      "62.226      |12.249      |22.833      |7.006       |1.536       \n",
      "\n"
     ]
    },
    {
     "name": "stderr",
     "output_type": "stream",
     "text": [
      "Validating: 100%|███████████████████████████████| 58/58 [00:05<00:00,  9.92it/s]\n"
     ]
    },
    {
     "name": "stdout",
     "output_type": "stream",
     "text": [
      "Total Loss  |Box Loss    |Conf Loss   |No Obj Loss |Class Loss  \n",
      "------------ ------------ ------------ ------------ ------------\n",
      "64.706      |21.092      |32.922      |5.460       |5.231       \n"
     ]
    },
    {
     "name": "stderr",
     "output_type": "stream",
     "text": [
      "Get Boxes: 100%|████████████████████████████████| 58/58 [00:09<00:00,  6.19it/s]\n",
      "mAP:@.5: 100%|████████████████████████████████████| 2/2 [00:00<00:00,  2.62it/s]\n"
     ]
    },
    {
     "name": "stdout",
     "output_type": "stream",
     "text": [
      "\n",
      "Validation mAP: 0.257\n",
      "\n",
      "=== EPOCH 35/114 ===\n",
      "Learning Rate = 0.00032\n",
      "\n"
     ]
    },
    {
     "name": "stderr",
     "output_type": "stream",
     "text": [
      "Training: 100%|███████████████████████████████| 232/232 [00:33<00:00,  6.94it/s]\n"
     ]
    },
    {
     "name": "stdout",
     "output_type": "stream",
     "text": [
      "Total Loss  |Box Loss    |Conf Loss   |No Obj Loss |Class Loss  \n",
      "------------ ------------ ------------ ------------ ------------\n",
      "62.188      |12.137      |22.930      |7.001       |1.574       \n",
      "\n"
     ]
    },
    {
     "name": "stderr",
     "output_type": "stream",
     "text": [
      "Validating: 100%|███████████████████████████████| 58/58 [00:05<00:00, 10.11it/s]\n"
     ]
    },
    {
     "name": "stdout",
     "output_type": "stream",
     "text": [
      "Total Loss  |Box Loss    |Conf Loss   |No Obj Loss |Class Loss  \n",
      "------------ ------------ ------------ ------------ ------------\n",
      "61.669      |19.981      |29.052      |8.374       |4.260       \n",
      "\n",
      "Saving model with new best validation loss: 61.669\n",
      "\n",
      "=== EPOCH 36/114 ===\n",
      "Learning Rate = 0.00032\n",
      "\n"
     ]
    },
    {
     "name": "stderr",
     "output_type": "stream",
     "text": [
      "Training: 100%|███████████████████████████████| 232/232 [00:33<00:00,  7.03it/s]\n"
     ]
    },
    {
     "name": "stdout",
     "output_type": "stream",
     "text": [
      "Total Loss  |Box Loss    |Conf Loss   |No Obj Loss |Class Loss  \n",
      "------------ ------------ ------------ ------------ ------------\n",
      "61.508      |11.703      |22.913      |6.830       |1.571       \n",
      "\n"
     ]
    },
    {
     "name": "stderr",
     "output_type": "stream",
     "text": [
      "Validating: 100%|███████████████████████████████| 58/58 [00:05<00:00, 10.17it/s]\n"
     ]
    },
    {
     "name": "stdout",
     "output_type": "stream",
     "text": [
      "Total Loss  |Box Loss    |Conf Loss   |No Obj Loss |Class Loss  \n",
      "------------ ------------ ------------ ------------ ------------\n",
      "61.470      |19.978      |30.728      |6.435       |4.328       \n",
      "\n",
      "Saving model with new best validation loss: 61.470\n",
      "\n",
      "=== EPOCH 37/114 ===\n",
      "Learning Rate = 0.00032\n",
      "\n"
     ]
    },
    {
     "name": "stderr",
     "output_type": "stream",
     "text": [
      "Training: 100%|███████████████████████████████| 232/232 [00:32<00:00,  7.12it/s]\n"
     ]
    },
    {
     "name": "stdout",
     "output_type": "stream",
     "text": [
      "Total Loss  |Box Loss    |Conf Loss   |No Obj Loss |Class Loss  \n",
      "------------ ------------ ------------ ------------ ------------\n",
      "61.569      |12.258      |22.559      |6.874       |1.437       \n",
      "\n"
     ]
    },
    {
     "name": "stderr",
     "output_type": "stream",
     "text": [
      "Validating: 100%|███████████████████████████████| 58/58 [00:05<00:00, 10.37it/s]\n"
     ]
    },
    {
     "name": "stdout",
     "output_type": "stream",
     "text": [
      "Total Loss  |Box Loss    |Conf Loss   |No Obj Loss |Class Loss  \n",
      "------------ ------------ ------------ ------------ ------------\n",
      "61.901      |20.598      |30.006      |6.925       |4.372       \n",
      "\n",
      "=== EPOCH 38/114 ===\n",
      "Learning Rate = 0.00032\n",
      "\n"
     ]
    },
    {
     "name": "stderr",
     "output_type": "stream",
     "text": [
      "Training: 100%|███████████████████████████████| 232/232 [00:33<00:00,  6.97it/s]\n"
     ]
    },
    {
     "name": "stdout",
     "output_type": "stream",
     "text": [
      "Total Loss  |Box Loss    |Conf Loss   |No Obj Loss |Class Loss  \n",
      "------------ ------------ ------------ ------------ ------------\n",
      "60.730      |11.818      |22.224      |6.827       |1.461       \n",
      "\n"
     ]
    },
    {
     "name": "stderr",
     "output_type": "stream",
     "text": [
      "Validating: 100%|███████████████████████████████| 58/58 [00:05<00:00, 10.19it/s]\n"
     ]
    },
    {
     "name": "stdout",
     "output_type": "stream",
     "text": [
      "Total Loss  |Box Loss    |Conf Loss   |No Obj Loss |Class Loss  \n",
      "------------ ------------ ------------ ------------ ------------\n",
      "61.611      |20.143      |29.752      |7.563       |4.154       \n",
      "\n",
      "=== EPOCH 39/114 ===\n",
      "Learning Rate = 0.00032\n",
      "\n"
     ]
    },
    {
     "name": "stderr",
     "output_type": "stream",
     "text": [
      "Training: 100%|███████████████████████████████| 232/232 [00:33<00:00,  7.02it/s]\n"
     ]
    },
    {
     "name": "stdout",
     "output_type": "stream",
     "text": [
      "Total Loss  |Box Loss    |Conf Loss   |No Obj Loss |Class Loss  \n",
      "------------ ------------ ------------ ------------ ------------\n",
      "61.189      |12.027      |22.349      |6.915       |1.535       \n",
      "\n"
     ]
    },
    {
     "name": "stderr",
     "output_type": "stream",
     "text": [
      "Validating: 100%|███████████████████████████████| 58/58 [00:05<00:00, 10.36it/s]\n"
     ]
    },
    {
     "name": "stdout",
     "output_type": "stream",
     "text": [
      "Total Loss  |Box Loss    |Conf Loss   |No Obj Loss |Class Loss  \n",
      "------------ ------------ ------------ ------------ ------------\n",
      "60.639      |19.872      |29.054      |7.437       |4.276       \n"
     ]
    },
    {
     "name": "stderr",
     "output_type": "stream",
     "text": [
      "Get Boxes: 100%|████████████████████████████████| 58/58 [00:09<00:00,  5.91it/s]\n",
      "mAP:@.5: 100%|████████████████████████████████████| 2/2 [00:00<00:00,  3.49it/s]\n"
     ]
    },
    {
     "name": "stdout",
     "output_type": "stream",
     "text": [
      "\n",
      "Validation mAP: 0.296\n",
      "\n",
      "Saving model with new best val mAP: 0.296\n",
      "\n",
      "Saving model with new best validation loss: 60.639\n",
      "\n",
      "=== EPOCH 40/114 ===\n",
      "Learning Rate = 0.00032\n",
      "\n"
     ]
    },
    {
     "name": "stderr",
     "output_type": "stream",
     "text": [
      "Training: 100%|███████████████████████████████| 232/232 [00:33<00:00,  7.03it/s]\n"
     ]
    },
    {
     "name": "stdout",
     "output_type": "stream",
     "text": [
      "Total Loss  |Box Loss    |Conf Loss   |No Obj Loss |Class Loss  \n",
      "------------ ------------ ------------ ------------ ------------\n",
      "60.988      |11.976      |22.167      |6.883       |1.631       \n",
      "\n"
     ]
    },
    {
     "name": "stderr",
     "output_type": "stream",
     "text": [
      "Validating: 100%|███████████████████████████████| 58/58 [00:05<00:00, 10.36it/s]\n"
     ]
    },
    {
     "name": "stdout",
     "output_type": "stream",
     "text": [
      "Total Loss  |Box Loss    |Conf Loss   |No Obj Loss |Class Loss  \n",
      "------------ ------------ ------------ ------------ ------------\n",
      "61.670      |19.726      |32.009      |5.572       |4.363       \n",
      "\n",
      "=== EPOCH 41/114 ===\n",
      "Learning Rate = 0.00032\n",
      "\n"
     ]
    },
    {
     "name": "stderr",
     "output_type": "stream",
     "text": [
      "Training: 100%|███████████████████████████████| 232/232 [00:32<00:00,  7.06it/s]\n"
     ]
    },
    {
     "name": "stdout",
     "output_type": "stream",
     "text": [
      "Total Loss  |Box Loss    |Conf Loss   |No Obj Loss |Class Loss  \n",
      "------------ ------------ ------------ ------------ ------------\n",
      "59.812      |11.576      |21.581      |6.906       |1.452       \n",
      "\n"
     ]
    },
    {
     "name": "stderr",
     "output_type": "stream",
     "text": [
      "Validating: 100%|███████████████████████████████| 58/58 [00:05<00:00, 10.07it/s]\n"
     ]
    },
    {
     "name": "stdout",
     "output_type": "stream",
     "text": [
      "Total Loss  |Box Loss    |Conf Loss   |No Obj Loss |Class Loss  \n",
      "------------ ------------ ------------ ------------ ------------\n",
      "61.151      |19.943      |30.467      |6.333       |4.407       \n",
      "\n",
      "=== EPOCH 42/114 ===\n",
      "Learning Rate = 0.00032\n",
      "\n"
     ]
    },
    {
     "name": "stderr",
     "output_type": "stream",
     "text": [
      "Training: 100%|███████████████████████████████| 232/232 [00:32<00:00,  7.12it/s]\n"
     ]
    },
    {
     "name": "stdout",
     "output_type": "stream",
     "text": [
      "Total Loss  |Box Loss    |Conf Loss   |No Obj Loss |Class Loss  \n",
      "------------ ------------ ------------ ------------ ------------\n",
      "59.819      |11.599      |21.750      |6.702       |1.502       \n",
      "\n"
     ]
    },
    {
     "name": "stderr",
     "output_type": "stream",
     "text": [
      "Validating: 100%|███████████████████████████████| 58/58 [00:05<00:00, 10.47it/s]\n"
     ]
    },
    {
     "name": "stdout",
     "output_type": "stream",
     "text": [
      "Total Loss  |Box Loss    |Conf Loss   |No Obj Loss |Class Loss  \n",
      "------------ ------------ ------------ ------------ ------------\n",
      "61.945      |20.361      |30.731      |6.031       |4.821       \n",
      "\n",
      "=== EPOCH 43/114 ===\n",
      "Learning Rate = 0.00025600000000000004\n",
      "\n"
     ]
    },
    {
     "name": "stderr",
     "output_type": "stream",
     "text": [
      "Training: 100%|███████████████████████████████| 232/232 [00:32<00:00,  7.03it/s]\n"
     ]
    },
    {
     "name": "stdout",
     "output_type": "stream",
     "text": [
      "Total Loss  |Box Loss    |Conf Loss   |No Obj Loss |Class Loss  \n",
      "------------ ------------ ------------ ------------ ------------\n",
      "58.735      |11.394      |21.102      |6.675       |1.339       \n",
      "\n"
     ]
    },
    {
     "name": "stderr",
     "output_type": "stream",
     "text": [
      "Validating: 100%|███████████████████████████████| 58/58 [00:05<00:00, 10.23it/s]\n"
     ]
    },
    {
     "name": "stdout",
     "output_type": "stream",
     "text": [
      "Total Loss  |Box Loss    |Conf Loss   |No Obj Loss |Class Loss  \n",
      "------------ ------------ ------------ ------------ ------------\n",
      "61.115      |20.107      |30.837      |5.721       |4.450       \n",
      "\n",
      "=== EPOCH 44/114 ===\n",
      "Learning Rate = 0.00025600000000000004\n",
      "\n"
     ]
    },
    {
     "name": "stderr",
     "output_type": "stream",
     "text": [
      "Training: 100%|███████████████████████████████| 232/232 [00:33<00:00,  6.96it/s]\n"
     ]
    },
    {
     "name": "stdout",
     "output_type": "stream",
     "text": [
      "Total Loss  |Box Loss    |Conf Loss   |No Obj Loss |Class Loss  \n",
      "------------ ------------ ------------ ------------ ------------\n",
      "58.186      |11.032      |20.969      |6.714       |1.296       \n",
      "\n"
     ]
    },
    {
     "name": "stderr",
     "output_type": "stream",
     "text": [
      "Get Boxes: 100%|██████████████████████████████| 232/232 [00:38<00:00,  5.95it/s]\n",
      "mAP:@.5: 100%|████████████████████████████████████| 2/2 [00:03<00:00,  1.76s/it]\n"
     ]
    },
    {
     "name": "stdout",
     "output_type": "stream",
     "text": [
      "\n",
      "Train mAP: 0.469\n"
     ]
    },
    {
     "name": "stderr",
     "output_type": "stream",
     "text": [
      "Validating: 100%|███████████████████████████████| 58/58 [00:05<00:00, 10.33it/s]\n"
     ]
    },
    {
     "name": "stdout",
     "output_type": "stream",
     "text": [
      "Total Loss  |Box Loss    |Conf Loss   |No Obj Loss |Class Loss  \n",
      "------------ ------------ ------------ ------------ ------------\n",
      "60.678      |19.509      |30.363      |6.264       |4.542       \n"
     ]
    },
    {
     "name": "stderr",
     "output_type": "stream",
     "text": [
      "Get Boxes: 100%|████████████████████████████████| 58/58 [00:09<00:00,  6.13it/s]\n",
      "mAP:@.5: 100%|████████████████████████████████████| 2/2 [00:00<00:00,  3.65it/s]\n"
     ]
    },
    {
     "name": "stdout",
     "output_type": "stream",
     "text": [
      "\n",
      "Validation mAP: 0.313\n",
      "\n",
      "Saving model with new best val mAP: 0.313\n",
      "\n",
      "=== EPOCH 45/114 ===\n",
      "Learning Rate = 0.00025600000000000004\n",
      "\n"
     ]
    },
    {
     "name": "stderr",
     "output_type": "stream",
     "text": [
      "Training: 100%|███████████████████████████████| 232/232 [00:32<00:00,  7.07it/s]\n"
     ]
    },
    {
     "name": "stdout",
     "output_type": "stream",
     "text": [
      "Total Loss  |Box Loss    |Conf Loss   |No Obj Loss |Class Loss  \n",
      "------------ ------------ ------------ ------------ ------------\n",
      "57.873      |10.964      |20.712      |6.708       |1.356       \n",
      "\n"
     ]
    },
    {
     "name": "stderr",
     "output_type": "stream",
     "text": [
      "Validating: 100%|███████████████████████████████| 58/58 [00:05<00:00,  9.92it/s]\n"
     ]
    },
    {
     "name": "stdout",
     "output_type": "stream",
     "text": [
      "Total Loss  |Box Loss    |Conf Loss   |No Obj Loss |Class Loss  \n",
      "------------ ------------ ------------ ------------ ------------\n",
      "61.971      |20.113      |30.628      |5.911       |5.319       \n",
      "\n",
      "=== EPOCH 46/114 ===\n",
      "Learning Rate = 0.00020480000000000004\n",
      "\n"
     ]
    },
    {
     "name": "stderr",
     "output_type": "stream",
     "text": [
      "Training: 100%|███████████████████████████████| 232/232 [00:32<00:00,  7.21it/s]\n"
     ]
    },
    {
     "name": "stdout",
     "output_type": "stream",
     "text": [
      "Total Loss  |Box Loss    |Conf Loss   |No Obj Loss |Class Loss  \n",
      "------------ ------------ ------------ ------------ ------------\n",
      "56.792      |10.605      |20.266      |6.488       |1.347       \n",
      "\n"
     ]
    },
    {
     "name": "stderr",
     "output_type": "stream",
     "text": [
      "Validating: 100%|███████████████████████████████| 58/58 [00:05<00:00, 10.31it/s]\n"
     ]
    },
    {
     "name": "stdout",
     "output_type": "stream",
     "text": [
      "Total Loss  |Box Loss    |Conf Loss   |No Obj Loss |Class Loss  \n",
      "------------ ------------ ------------ ------------ ------------\n",
      "60.457      |19.736      |29.737      |6.428       |4.556       \n",
      "\n",
      "Saving model with new best validation loss: 60.457\n",
      "\n",
      "=== EPOCH 47/114 ===\n",
      "Learning Rate = 0.00020480000000000004\n",
      "\n"
     ]
    },
    {
     "name": "stderr",
     "output_type": "stream",
     "text": [
      "Training: 100%|███████████████████████████████| 232/232 [00:33<00:00,  6.98it/s]\n"
     ]
    },
    {
     "name": "stdout",
     "output_type": "stream",
     "text": [
      "Total Loss  |Box Loss    |Conf Loss   |No Obj Loss |Class Loss  \n",
      "------------ ------------ ------------ ------------ ------------\n",
      "56.795      |10.639      |20.318      |6.457       |1.340       \n",
      "\n"
     ]
    },
    {
     "name": "stderr",
     "output_type": "stream",
     "text": [
      "Validating: 100%|███████████████████████████████| 58/58 [00:05<00:00, 10.23it/s]\n"
     ]
    },
    {
     "name": "stdout",
     "output_type": "stream",
     "text": [
      "Total Loss  |Box Loss    |Conf Loss   |No Obj Loss |Class Loss  \n",
      "------------ ------------ ------------ ------------ ------------\n",
      "60.577      |19.409      |30.944      |5.594       |4.629       \n",
      "\n",
      "=== EPOCH 48/114 ===\n",
      "Learning Rate = 0.00020480000000000004\n",
      "\n"
     ]
    },
    {
     "name": "stderr",
     "output_type": "stream",
     "text": [
      "Training: 100%|███████████████████████████████| 232/232 [00:32<00:00,  7.11it/s]\n"
     ]
    },
    {
     "name": "stdout",
     "output_type": "stream",
     "text": [
      "Total Loss  |Box Loss    |Conf Loss   |No Obj Loss |Class Loss  \n",
      "------------ ------------ ------------ ------------ ------------\n",
      "56.486      |10.578      |20.142      |6.545       |1.218       \n",
      "\n"
     ]
    },
    {
     "name": "stderr",
     "output_type": "stream",
     "text": [
      "Validating: 100%|███████████████████████████████| 58/58 [00:05<00:00, 10.26it/s]\n"
     ]
    },
    {
     "name": "stdout",
     "output_type": "stream",
     "text": [
      "Total Loss  |Box Loss    |Conf Loss   |No Obj Loss |Class Loss  \n",
      "------------ ------------ ------------ ------------ ------------\n",
      "60.408      |19.577      |30.459      |6.135       |4.238       \n",
      "\n",
      "Saving model with new best validation loss: 60.408\n",
      "\n",
      "=== EPOCH 49/114 ===\n",
      "Learning Rate = 0.00020480000000000004\n",
      "\n"
     ]
    },
    {
     "name": "stderr",
     "output_type": "stream",
     "text": [
      "Training: 100%|███████████████████████████████| 232/232 [00:33<00:00,  7.02it/s]\n"
     ]
    },
    {
     "name": "stdout",
     "output_type": "stream",
     "text": [
      "Total Loss  |Box Loss    |Conf Loss   |No Obj Loss |Class Loss  \n",
      "------------ ------------ ------------ ------------ ------------\n",
      "56.592      |10.567      |20.410      |6.362       |1.291       \n",
      "\n"
     ]
    },
    {
     "name": "stderr",
     "output_type": "stream",
     "text": [
      "Validating: 100%|███████████████████████████████| 58/58 [00:05<00:00, 10.17it/s]\n"
     ]
    },
    {
     "name": "stdout",
     "output_type": "stream",
     "text": [
      "Total Loss  |Box Loss    |Conf Loss   |No Obj Loss |Class Loss  \n",
      "------------ ------------ ------------ ------------ ------------\n",
      "60.051      |19.707      |30.284      |5.866       |4.194       \n"
     ]
    },
    {
     "name": "stderr",
     "output_type": "stream",
     "text": [
      "Get Boxes: 100%|████████████████████████████████| 58/58 [00:09<00:00,  6.33it/s]\n",
      "mAP:@.5: 100%|████████████████████████████████████| 2/2 [00:00<00:00,  2.43it/s]\n"
     ]
    },
    {
     "name": "stdout",
     "output_type": "stream",
     "text": [
      "\n",
      "Validation mAP: 0.329\n",
      "\n",
      "Saving model with new best val mAP: 0.329\n",
      "\n",
      "Saving model with new best validation loss: 60.051\n",
      "\n",
      "=== EPOCH 50/114 ===\n",
      "Learning Rate = 0.00020480000000000004\n",
      "\n"
     ]
    },
    {
     "name": "stderr",
     "output_type": "stream",
     "text": [
      "Training: 100%|███████████████████████████████| 232/232 [00:33<00:00,  6.93it/s]\n"
     ]
    },
    {
     "name": "stdout",
     "output_type": "stream",
     "text": [
      "Total Loss  |Box Loss    |Conf Loss   |No Obj Loss |Class Loss  \n",
      "------------ ------------ ------------ ------------ ------------\n",
      "55.656      |10.445      |19.816      |6.309       |1.159       \n",
      "\n"
     ]
    },
    {
     "name": "stderr",
     "output_type": "stream",
     "text": [
      "Validating: 100%|███████████████████████████████| 58/58 [00:05<00:00,  9.89it/s]\n"
     ]
    },
    {
     "name": "stdout",
     "output_type": "stream",
     "text": [
      "Total Loss  |Box Loss    |Conf Loss   |No Obj Loss |Class Loss  \n",
      "------------ ------------ ------------ ------------ ------------\n",
      "57.830      |18.934      |29.464      |5.900       |3.532       \n",
      "\n",
      "Saving model with new best validation loss: 57.830\n",
      "\n",
      "=== EPOCH 51/114 ===\n",
      "Learning Rate = 0.00020480000000000004\n",
      "\n"
     ]
    },
    {
     "name": "stderr",
     "output_type": "stream",
     "text": [
      "Training: 100%|███████████████████████████████| 232/232 [00:33<00:00,  6.93it/s]\n"
     ]
    },
    {
     "name": "stdout",
     "output_type": "stream",
     "text": [
      "Total Loss  |Box Loss    |Conf Loss   |No Obj Loss |Class Loss  \n",
      "------------ ------------ ------------ ------------ ------------\n",
      "55.665      |10.403      |19.843      |6.307       |1.214       \n",
      "\n"
     ]
    },
    {
     "name": "stderr",
     "output_type": "stream",
     "text": [
      "Validating: 100%|███████████████████████████████| 58/58 [00:05<00:00, 10.44it/s]\n"
     ]
    },
    {
     "name": "stdout",
     "output_type": "stream",
     "text": [
      "Total Loss  |Box Loss    |Conf Loss   |No Obj Loss |Class Loss  \n",
      "------------ ------------ ------------ ------------ ------------\n",
      "58.551      |19.092      |28.850      |6.807       |3.802       \n",
      "\n",
      "=== EPOCH 52/114 ===\n",
      "Learning Rate = 0.00020480000000000004\n",
      "\n"
     ]
    },
    {
     "name": "stderr",
     "output_type": "stream",
     "text": [
      "Training: 100%|███████████████████████████████| 232/232 [00:32<00:00,  7.17it/s]\n"
     ]
    },
    {
     "name": "stdout",
     "output_type": "stream",
     "text": [
      "Total Loss  |Box Loss    |Conf Loss   |No Obj Loss |Class Loss  \n",
      "------------ ------------ ------------ ------------ ------------\n",
      "55.638      |10.382      |19.712      |6.451       |1.227       \n",
      "\n"
     ]
    },
    {
     "name": "stderr",
     "output_type": "stream",
     "text": [
      "Validating: 100%|███████████████████████████████| 58/58 [00:06<00:00,  9.03it/s]\n"
     ]
    },
    {
     "name": "stdout",
     "output_type": "stream",
     "text": [
      "Total Loss  |Box Loss    |Conf Loss   |No Obj Loss |Class Loss  \n",
      "------------ ------------ ------------ ------------ ------------\n",
      "60.625      |19.595      |30.340      |6.374       |4.316       \n",
      "\n",
      "=== EPOCH 53/114 ===\n",
      "Learning Rate = 0.00020480000000000004\n",
      "\n"
     ]
    },
    {
     "name": "stderr",
     "output_type": "stream",
     "text": [
      "Training: 100%|███████████████████████████████| 232/232 [00:32<00:00,  7.15it/s]\n"
     ]
    },
    {
     "name": "stdout",
     "output_type": "stream",
     "text": [
      "Total Loss  |Box Loss    |Conf Loss   |No Obj Loss |Class Loss  \n",
      "------------ ------------ ------------ ------------ ------------\n",
      "55.637      |10.659      |19.596      |6.375       |1.172       \n",
      "\n"
     ]
    },
    {
     "name": "stderr",
     "output_type": "stream",
     "text": [
      "Validating: 100%|███████████████████████████████| 58/58 [00:05<00:00,  9.78it/s]\n"
     ]
    },
    {
     "name": "stdout",
     "output_type": "stream",
     "text": [
      "Total Loss  |Box Loss    |Conf Loss   |No Obj Loss |Class Loss  \n",
      "------------ ------------ ------------ ------------ ------------\n",
      "58.115      |18.755      |28.370      |6.962       |4.026       \n",
      "\n",
      "=== EPOCH 54/114 ===\n",
      "Learning Rate = 0.00016384000000000006\n",
      "\n"
     ]
    },
    {
     "name": "stderr",
     "output_type": "stream",
     "text": [
      "Training: 100%|███████████████████████████████| 232/232 [00:32<00:00,  7.08it/s]\n"
     ]
    },
    {
     "name": "stdout",
     "output_type": "stream",
     "text": [
      "Total Loss  |Box Loss    |Conf Loss   |No Obj Loss |Class Loss  \n",
      "------------ ------------ ------------ ------------ ------------\n",
      "54.761      |9.963       |19.511      |6.285       |1.199       \n",
      "\n"
     ]
    },
    {
     "name": "stderr",
     "output_type": "stream",
     "text": [
      "Validating: 100%|███████████████████████████████| 58/58 [00:06<00:00,  9.26it/s]\n"
     ]
    },
    {
     "name": "stdout",
     "output_type": "stream",
     "text": [
      "Total Loss  |Box Loss    |Conf Loss   |No Obj Loss |Class Loss  \n",
      "------------ ------------ ------------ ------------ ------------\n",
      "59.087      |19.003      |29.983      |5.766       |4.335       \n"
     ]
    },
    {
     "name": "stderr",
     "output_type": "stream",
     "text": [
      "Get Boxes: 100%|████████████████████████████████| 58/58 [00:08<00:00,  6.51it/s]\n",
      "mAP:@.5: 100%|████████████████████████████████████| 2/2 [00:01<00:00,  1.64it/s]\n"
     ]
    },
    {
     "name": "stdout",
     "output_type": "stream",
     "text": [
      "\n",
      "Validation mAP: 0.328\n",
      "\n",
      "=== EPOCH 55/114 ===\n",
      "Learning Rate = 0.00016384000000000006\n",
      "\n"
     ]
    },
    {
     "name": "stderr",
     "output_type": "stream",
     "text": [
      "Training: 100%|███████████████████████████████| 232/232 [00:33<00:00,  6.88it/s]\n"
     ]
    },
    {
     "name": "stdout",
     "output_type": "stream",
     "text": [
      "Total Loss  |Box Loss    |Conf Loss   |No Obj Loss |Class Loss  \n",
      "------------ ------------ ------------ ------------ ------------\n",
      "54.501      |10.079      |19.238      |6.156       |1.258       \n",
      "\n"
     ]
    },
    {
     "name": "stderr",
     "output_type": "stream",
     "text": [
      "Validating: 100%|███████████████████████████████| 58/58 [00:05<00:00, 10.74it/s]\n"
     ]
    },
    {
     "name": "stdout",
     "output_type": "stream",
     "text": [
      "Total Loss  |Box Loss    |Conf Loss   |No Obj Loss |Class Loss  \n",
      "------------ ------------ ------------ ------------ ------------\n",
      "59.048      |19.182      |29.701      |6.112       |4.053       \n",
      "\n",
      "=== EPOCH 56/114 ===\n",
      "Learning Rate = 0.00016384000000000006\n",
      "\n"
     ]
    },
    {
     "name": "stderr",
     "output_type": "stream",
     "text": [
      "Training: 100%|███████████████████████████████| 232/232 [00:33<00:00,  6.95it/s]\n"
     ]
    },
    {
     "name": "stdout",
     "output_type": "stream",
     "text": [
      "Total Loss  |Box Loss    |Conf Loss   |No Obj Loss |Class Loss  \n",
      "------------ ------------ ------------ ------------ ------------\n",
      "53.504      |9.723       |18.822      |6.120       |1.096       \n",
      "\n"
     ]
    },
    {
     "name": "stderr",
     "output_type": "stream",
     "text": [
      "Validating: 100%|███████████████████████████████| 58/58 [00:05<00:00, 10.46it/s]\n"
     ]
    },
    {
     "name": "stdout",
     "output_type": "stream",
     "text": [
      "Total Loss  |Box Loss    |Conf Loss   |No Obj Loss |Class Loss  \n",
      "------------ ------------ ------------ ------------ ------------\n",
      "59.497      |19.324      |30.132      |5.678       |4.364       \n",
      "\n",
      "=== EPOCH 57/114 ===\n",
      "Learning Rate = 0.00013107200000000006\n",
      "\n"
     ]
    },
    {
     "name": "stderr",
     "output_type": "stream",
     "text": [
      "Training: 100%|███████████████████████████████| 232/232 [00:32<00:00,  7.03it/s]\n"
     ]
    },
    {
     "name": "stdout",
     "output_type": "stream",
     "text": [
      "Total Loss  |Box Loss    |Conf Loss   |No Obj Loss |Class Loss  \n",
      "------------ ------------ ------------ ------------ ------------\n",
      "53.323      |9.922       |18.549      |6.056       |1.083       \n",
      "\n"
     ]
    },
    {
     "name": "stderr",
     "output_type": "stream",
     "text": [
      "Validating: 100%|███████████████████████████████| 58/58 [00:05<00:00, 10.16it/s]\n"
     ]
    },
    {
     "name": "stdout",
     "output_type": "stream",
     "text": [
      "Total Loss  |Box Loss    |Conf Loss   |No Obj Loss |Class Loss  \n",
      "------------ ------------ ------------ ------------ ------------\n",
      "59.288      |19.150      |29.273      |6.495       |4.369       \n",
      "\n",
      "=== EPOCH 58/114 ===\n",
      "Learning Rate = 0.00013107200000000006\n",
      "\n"
     ]
    },
    {
     "name": "stderr",
     "output_type": "stream",
     "text": [
      "Training: 100%|███████████████████████████████| 232/232 [00:33<00:00,  6.97it/s]\n"
     ]
    },
    {
     "name": "stdout",
     "output_type": "stream",
     "text": [
      "Total Loss  |Box Loss    |Conf Loss   |No Obj Loss |Class Loss  \n",
      "------------ ------------ ------------ ------------ ------------\n",
      "53.252      |9.940       |18.439      |6.046       |1.141       \n",
      "\n"
     ]
    },
    {
     "name": "stderr",
     "output_type": "stream",
     "text": [
      "Validating: 100%|███████████████████████████████| 58/58 [00:06<00:00,  9.59it/s]\n"
     ]
    },
    {
     "name": "stdout",
     "output_type": "stream",
     "text": [
      "Total Loss  |Box Loss    |Conf Loss   |No Obj Loss |Class Loss  \n",
      "------------ ------------ ------------ ------------ ------------\n",
      "58.507      |18.934      |29.216      |6.324       |4.033       \n",
      "\n",
      "=== EPOCH 59/114 ===\n",
      "Learning Rate = 0.00013107200000000006\n",
      "\n"
     ]
    },
    {
     "name": "stderr",
     "output_type": "stream",
     "text": [
      "Training: 100%|███████████████████████████████| 232/232 [00:32<00:00,  7.17it/s]\n"
     ]
    },
    {
     "name": "stdout",
     "output_type": "stream",
     "text": [
      "Total Loss  |Box Loss    |Conf Loss   |No Obj Loss |Class Loss  \n",
      "------------ ------------ ------------ ------------ ------------\n",
      "52.862      |9.810       |18.229      |6.033       |1.130       \n",
      "\n"
     ]
    },
    {
     "name": "stderr",
     "output_type": "stream",
     "text": [
      "Get Boxes: 100%|██████████████████████████████| 232/232 [00:39<00:00,  5.87it/s]\n",
      "mAP:@.5: 100%|████████████████████████████████████| 2/2 [00:06<00:00,  3.00s/it]\n"
     ]
    },
    {
     "name": "stdout",
     "output_type": "stream",
     "text": [
      "\n",
      "Train mAP: 0.522\n"
     ]
    },
    {
     "name": "stderr",
     "output_type": "stream",
     "text": [
      "Validating: 100%|███████████████████████████████| 58/58 [00:05<00:00, 10.32it/s]\n"
     ]
    },
    {
     "name": "stdout",
     "output_type": "stream",
     "text": [
      "Total Loss  |Box Loss    |Conf Loss   |No Obj Loss |Class Loss  \n",
      "------------ ------------ ------------ ------------ ------------\n",
      "58.646      |19.191      |29.390      |5.940       |4.125       \n"
     ]
    },
    {
     "name": "stderr",
     "output_type": "stream",
     "text": [
      "Get Boxes: 100%|████████████████████████████████| 58/58 [00:09<00:00,  6.43it/s]\n",
      "mAP:@.5: 100%|████████████████████████████████████| 2/2 [00:01<00:00,  1.76it/s]\n"
     ]
    },
    {
     "name": "stdout",
     "output_type": "stream",
     "text": [
      "\n",
      "Validation mAP: 0.324\n",
      "\n",
      "=== EPOCH 60/114 ===\n",
      "Learning Rate = 0.00010485760000000006\n",
      "\n"
     ]
    },
    {
     "name": "stderr",
     "output_type": "stream",
     "text": [
      "Training: 100%|███████████████████████████████| 232/232 [00:32<00:00,  7.12it/s]\n"
     ]
    },
    {
     "name": "stdout",
     "output_type": "stream",
     "text": [
      "Total Loss  |Box Loss    |Conf Loss   |No Obj Loss |Class Loss  \n",
      "------------ ------------ ------------ ------------ ------------\n",
      "52.606      |9.598       |18.381      |5.841       |1.152       \n",
      "\n"
     ]
    },
    {
     "name": "stderr",
     "output_type": "stream",
     "text": [
      "Validating: 100%|███████████████████████████████| 58/58 [00:05<00:00, 10.26it/s]\n"
     ]
    },
    {
     "name": "stdout",
     "output_type": "stream",
     "text": [
      "Total Loss  |Box Loss    |Conf Loss   |No Obj Loss |Class Loss  \n",
      "------------ ------------ ------------ ------------ ------------\n",
      "58.419      |19.070      |29.248      |5.985       |4.116       \n",
      "\n",
      "=== EPOCH 61/114 ===\n",
      "Learning Rate = 0.00010485760000000006\n",
      "\n"
     ]
    },
    {
     "name": "stderr",
     "output_type": "stream",
     "text": [
      "Training: 100%|███████████████████████████████| 232/232 [00:32<00:00,  7.13it/s]\n"
     ]
    },
    {
     "name": "stdout",
     "output_type": "stream",
     "text": [
      "Total Loss  |Box Loss    |Conf Loss   |No Obj Loss |Class Loss  \n",
      "------------ ------------ ------------ ------------ ------------\n",
      "52.241      |9.686       |18.288      |5.642       |1.017       \n",
      "\n"
     ]
    },
    {
     "name": "stderr",
     "output_type": "stream",
     "text": [
      "Validating: 100%|███████████████████████████████| 58/58 [00:05<00:00, 10.59it/s]\n"
     ]
    },
    {
     "name": "stdout",
     "output_type": "stream",
     "text": [
      "Total Loss  |Box Loss    |Conf Loss   |No Obj Loss |Class Loss  \n",
      "------------ ------------ ------------ ------------ ------------\n",
      "58.517      |18.994      |29.395      |5.976       |4.152       \n",
      "\n",
      "=== EPOCH 62/114 ===\n",
      "Learning Rate = 0.00010485760000000006\n",
      "\n"
     ]
    },
    {
     "name": "stderr",
     "output_type": "stream",
     "text": [
      "Training: 100%|███████████████████████████████| 232/232 [00:33<00:00,  6.95it/s]\n"
     ]
    },
    {
     "name": "stdout",
     "output_type": "stream",
     "text": [
      "Total Loss  |Box Loss    |Conf Loss   |No Obj Loss |Class Loss  \n",
      "------------ ------------ ------------ ------------ ------------\n",
      "51.949      |9.476       |18.031      |5.732       |1.124       \n",
      "\n"
     ]
    },
    {
     "name": "stderr",
     "output_type": "stream",
     "text": [
      "Validating: 100%|███████████████████████████████| 58/58 [00:05<00:00, 10.03it/s]\n"
     ]
    },
    {
     "name": "stdout",
     "output_type": "stream",
     "text": [
      "Total Loss  |Box Loss    |Conf Loss   |No Obj Loss |Class Loss  \n",
      "------------ ------------ ------------ ------------ ------------\n",
      "57.511      |18.649      |28.854      |6.267       |3.741       \n",
      "\n",
      "Saving model with new best validation loss: 57.511\n",
      "\n",
      "=== EPOCH 63/114 ===\n",
      "Learning Rate = 0.00010485760000000006\n",
      "\n"
     ]
    },
    {
     "name": "stderr",
     "output_type": "stream",
     "text": [
      "Training: 100%|███████████████████████████████| 232/232 [00:32<00:00,  7.16it/s]\n"
     ]
    },
    {
     "name": "stdout",
     "output_type": "stream",
     "text": [
      "Total Loss  |Box Loss    |Conf Loss   |No Obj Loss |Class Loss  \n",
      "------------ ------------ ------------ ------------ ------------\n",
      "51.403      |9.360       |17.605      |5.807       |1.071       \n",
      "\n"
     ]
    },
    {
     "name": "stderr",
     "output_type": "stream",
     "text": [
      "Validating: 100%|███████████████████████████████| 58/58 [00:05<00:00, 10.25it/s]\n"
     ]
    },
    {
     "name": "stdout",
     "output_type": "stream",
     "text": [
      "Total Loss  |Box Loss    |Conf Loss   |No Obj Loss |Class Loss  \n",
      "------------ ------------ ------------ ------------ ------------\n",
      "57.540      |18.853      |28.810      |6.033       |3.843       \n",
      "\n",
      "=== EPOCH 64/114 ===\n",
      "Learning Rate = 0.00010485760000000006\n",
      "\n"
     ]
    },
    {
     "name": "stderr",
     "output_type": "stream",
     "text": [
      "Training: 100%|███████████████████████████████| 232/232 [00:32<00:00,  7.07it/s]\n"
     ]
    },
    {
     "name": "stdout",
     "output_type": "stream",
     "text": [
      "Total Loss  |Box Loss    |Conf Loss   |No Obj Loss |Class Loss  \n",
      "------------ ------------ ------------ ------------ ------------\n",
      "52.026      |9.483       |18.056      |5.853       |1.096       \n",
      "\n"
     ]
    },
    {
     "name": "stderr",
     "output_type": "stream",
     "text": [
      "Validating: 100%|███████████████████████████████| 58/58 [00:05<00:00, 10.25it/s]\n"
     ]
    },
    {
     "name": "stdout",
     "output_type": "stream",
     "text": [
      "Total Loss  |Box Loss    |Conf Loss   |No Obj Loss |Class Loss  \n",
      "------------ ------------ ------------ ------------ ------------\n",
      "58.527      |19.386      |29.683      |5.600       |3.858       \n"
     ]
    },
    {
     "name": "stderr",
     "output_type": "stream",
     "text": [
      "Get Boxes: 100%|████████████████████████████████| 58/58 [00:09<00:00,  5.92it/s]\n",
      "mAP:@.5: 100%|████████████████████████████████████| 2/2 [00:01<00:00,  1.96it/s]\n"
     ]
    },
    {
     "name": "stdout",
     "output_type": "stream",
     "text": [
      "\n",
      "Validation mAP: 0.327\n",
      "\n",
      "=== EPOCH 65/114 ===\n",
      "Learning Rate = 0.00010485760000000006\n",
      "\n"
     ]
    },
    {
     "name": "stderr",
     "output_type": "stream",
     "text": [
      "Training: 100%|███████████████████████████████| 232/232 [00:32<00:00,  7.11it/s]\n"
     ]
    },
    {
     "name": "stdout",
     "output_type": "stream",
     "text": [
      "Total Loss  |Box Loss    |Conf Loss   |No Obj Loss |Class Loss  \n",
      "------------ ------------ ------------ ------------ ------------\n",
      "52.040      |9.590       |17.975      |5.797       |1.160       \n",
      "\n"
     ]
    },
    {
     "name": "stderr",
     "output_type": "stream",
     "text": [
      "Validating: 100%|███████████████████████████████| 58/58 [00:05<00:00, 10.00it/s]\n"
     ]
    },
    {
     "name": "stdout",
     "output_type": "stream",
     "text": [
      "Total Loss  |Box Loss    |Conf Loss   |No Obj Loss |Class Loss  \n",
      "------------ ------------ ------------ ------------ ------------\n",
      "58.892      |19.240      |29.350      |6.199       |4.104       \n",
      "\n",
      "=== EPOCH 66/114 ===\n",
      "Learning Rate = 8.388608000000005e-05\n",
      "\n"
     ]
    },
    {
     "name": "stderr",
     "output_type": "stream",
     "text": [
      "Training: 100%|███████████████████████████████| 232/232 [00:32<00:00,  7.05it/s]\n"
     ]
    },
    {
     "name": "stdout",
     "output_type": "stream",
     "text": [
      "Total Loss  |Box Loss    |Conf Loss   |No Obj Loss |Class Loss  \n",
      "------------ ------------ ------------ ------------ ------------\n",
      "51.426      |9.488       |17.492      |5.830       |1.119       \n",
      "\n"
     ]
    },
    {
     "name": "stderr",
     "output_type": "stream",
     "text": [
      "Validating: 100%|███████████████████████████████| 58/58 [00:05<00:00, 10.69it/s]\n"
     ]
    },
    {
     "name": "stdout",
     "output_type": "stream",
     "text": [
      "Total Loss  |Box Loss    |Conf Loss   |No Obj Loss |Class Loss  \n",
      "------------ ------------ ------------ ------------ ------------\n",
      "57.653      |18.662      |28.087      |7.089       |3.815       \n",
      "\n",
      "=== EPOCH 67/114 ===\n",
      "Learning Rate = 8.388608000000005e-05\n",
      "\n"
     ]
    },
    {
     "name": "stderr",
     "output_type": "stream",
     "text": [
      "Training: 100%|███████████████████████████████| 232/232 [00:33<00:00,  6.90it/s]\n"
     ]
    },
    {
     "name": "stdout",
     "output_type": "stream",
     "text": [
      "Total Loss  |Box Loss    |Conf Loss   |No Obj Loss |Class Loss  \n",
      "------------ ------------ ------------ ------------ ------------\n",
      "50.976      |9.663       |17.176      |5.633       |1.025       \n",
      "\n"
     ]
    },
    {
     "name": "stderr",
     "output_type": "stream",
     "text": [
      "Validating: 100%|███████████████████████████████| 58/58 [00:05<00:00, 10.45it/s]\n"
     ]
    },
    {
     "name": "stdout",
     "output_type": "stream",
     "text": [
      "Total Loss  |Box Loss    |Conf Loss   |No Obj Loss |Class Loss  \n",
      "------------ ------------ ------------ ------------ ------------\n",
      "58.689      |18.884      |29.491      |6.096       |4.219       \n",
      "\n",
      "=== EPOCH 68/114 ===\n",
      "Learning Rate = 8.388608000000005e-05\n",
      "\n"
     ]
    },
    {
     "name": "stderr",
     "output_type": "stream",
     "text": [
      "Training: 100%|███████████████████████████████| 232/232 [00:32<00:00,  7.11it/s]\n"
     ]
    },
    {
     "name": "stdout",
     "output_type": "stream",
     "text": [
      "Total Loss  |Box Loss    |Conf Loss   |No Obj Loss |Class Loss  \n",
      "------------ ------------ ------------ ------------ ------------\n",
      "51.533      |9.654       |17.589      |5.794       |1.035       \n",
      "\n"
     ]
    },
    {
     "name": "stderr",
     "output_type": "stream",
     "text": [
      "Validating: 100%|███████████████████████████████| 58/58 [00:05<00:00, 10.18it/s]\n"
     ]
    },
    {
     "name": "stdout",
     "output_type": "stream",
     "text": [
      "Total Loss  |Box Loss    |Conf Loss   |No Obj Loss |Class Loss  \n",
      "------------ ------------ ------------ ------------ ------------\n",
      "59.302      |19.717      |29.134      |6.302       |4.150       \n",
      "\n",
      "=== EPOCH 69/114 ===\n",
      "Learning Rate = 6.710886400000004e-05\n",
      "\n"
     ]
    },
    {
     "name": "stderr",
     "output_type": "stream",
     "text": [
      "Training: 100%|███████████████████████████████| 232/232 [00:32<00:00,  7.16it/s]\n"
     ]
    },
    {
     "name": "stdout",
     "output_type": "stream",
     "text": [
      "Total Loss  |Box Loss    |Conf Loss   |No Obj Loss |Class Loss  \n",
      "------------ ------------ ------------ ------------ ------------\n",
      "50.345      |9.130       |17.319      |5.474       |0.979       \n",
      "\n"
     ]
    },
    {
     "name": "stderr",
     "output_type": "stream",
     "text": [
      "Validating: 100%|███████████████████████████████| 58/58 [00:05<00:00, 10.36it/s]\n"
     ]
    },
    {
     "name": "stdout",
     "output_type": "stream",
     "text": [
      "Total Loss  |Box Loss    |Conf Loss   |No Obj Loss |Class Loss  \n",
      "------------ ------------ ------------ ------------ ------------\n",
      "58.539      |18.901      |29.166      |6.136       |4.336       \n"
     ]
    },
    {
     "name": "stderr",
     "output_type": "stream",
     "text": [
      "Get Boxes: 100%|████████████████████████████████| 58/58 [00:09<00:00,  5.96it/s]\n",
      "mAP:@.5: 100%|████████████████████████████████████| 2/2 [00:00<00:00,  3.44it/s]\n"
     ]
    },
    {
     "name": "stdout",
     "output_type": "stream",
     "text": [
      "\n",
      "Validation mAP: 0.335\n",
      "\n",
      "Saving model with new best val mAP: 0.335\n",
      "\n",
      "=== EPOCH 70/114 ===\n",
      "Learning Rate = 6.710886400000004e-05\n",
      "\n"
     ]
    },
    {
     "name": "stderr",
     "output_type": "stream",
     "text": [
      "Training: 100%|███████████████████████████████| 232/232 [00:33<00:00,  6.93it/s]\n"
     ]
    },
    {
     "name": "stdout",
     "output_type": "stream",
     "text": [
      "Total Loss  |Box Loss    |Conf Loss   |No Obj Loss |Class Loss  \n",
      "------------ ------------ ------------ ------------ ------------\n",
      "50.138      |9.027       |17.076      |5.602       |1.007       \n",
      "\n"
     ]
    },
    {
     "name": "stderr",
     "output_type": "stream",
     "text": [
      "Validating: 100%|███████████████████████████████| 58/58 [00:05<00:00, 10.17it/s]\n"
     ]
    },
    {
     "name": "stdout",
     "output_type": "stream",
     "text": [
      "Total Loss  |Box Loss    |Conf Loss   |No Obj Loss |Class Loss  \n",
      "------------ ------------ ------------ ------------ ------------\n",
      "57.881      |19.014      |29.256      |5.642       |3.969       \n",
      "\n",
      "=== EPOCH 71/114 ===\n",
      "Learning Rate = 6.710886400000004e-05\n",
      "\n"
     ]
    },
    {
     "name": "stderr",
     "output_type": "stream",
     "text": [
      "Training: 100%|███████████████████████████████| 232/232 [00:32<00:00,  7.08it/s]\n"
     ]
    },
    {
     "name": "stdout",
     "output_type": "stream",
     "text": [
      "Total Loss  |Box Loss    |Conf Loss   |No Obj Loss |Class Loss  \n",
      "------------ ------------ ------------ ------------ ------------\n",
      "49.959      |8.988       |17.179      |5.424       |0.958       \n",
      "\n"
     ]
    },
    {
     "name": "stderr",
     "output_type": "stream",
     "text": [
      "Validating: 100%|███████████████████████████████| 58/58 [00:05<00:00, 10.59it/s]\n"
     ]
    },
    {
     "name": "stdout",
     "output_type": "stream",
     "text": [
      "Total Loss  |Box Loss    |Conf Loss   |No Obj Loss |Class Loss  \n",
      "------------ ------------ ------------ ------------ ------------\n",
      "57.796      |18.757      |28.701      |6.389       |3.948       \n",
      "\n",
      "=== EPOCH 72/114 ===\n",
      "Learning Rate = 5.3687091200000036e-05\n",
      "\n"
     ]
    },
    {
     "name": "stderr",
     "output_type": "stream",
     "text": [
      "Training: 100%|███████████████████████████████| 232/232 [00:33<00:00,  7.00it/s]\n"
     ]
    },
    {
     "name": "stdout",
     "output_type": "stream",
     "text": [
      "Total Loss  |Box Loss    |Conf Loss   |No Obj Loss |Class Loss  \n",
      "------------ ------------ ------------ ------------ ------------\n",
      "49.878      |9.094       |16.846      |5.627       |0.915       \n",
      "\n"
     ]
    },
    {
     "name": "stderr",
     "output_type": "stream",
     "text": [
      "Validating: 100%|███████████████████████████████| 58/58 [00:06<00:00,  9.08it/s]\n"
     ]
    },
    {
     "name": "stdout",
     "output_type": "stream",
     "text": [
      "Total Loss  |Box Loss    |Conf Loss   |No Obj Loss |Class Loss  \n",
      "------------ ------------ ------------ ------------ ------------\n",
      "58.264      |18.915      |29.105      |6.158       |4.087       \n",
      "\n",
      "=== EPOCH 73/114 ===\n",
      "Learning Rate = 5.3687091200000036e-05\n",
      "\n"
     ]
    },
    {
     "name": "stderr",
     "output_type": "stream",
     "text": [
      "Training: 100%|███████████████████████████████| 232/232 [00:32<00:00,  7.15it/s]\n"
     ]
    },
    {
     "name": "stdout",
     "output_type": "stream",
     "text": [
      "Total Loss  |Box Loss    |Conf Loss   |No Obj Loss |Class Loss  \n",
      "------------ ------------ ------------ ------------ ------------\n",
      "49.595      |8.970       |16.835      |5.347       |1.060       \n",
      "\n"
     ]
    },
    {
     "name": "stderr",
     "output_type": "stream",
     "text": [
      "Validating: 100%|███████████████████████████████| 58/58 [00:05<00:00, 10.24it/s]\n"
     ]
    },
    {
     "name": "stdout",
     "output_type": "stream",
     "text": [
      "Total Loss  |Box Loss    |Conf Loss   |No Obj Loss |Class Loss  \n",
      "------------ ------------ ------------ ------------ ------------\n",
      "57.659      |18.844      |28.909      |6.099       |3.807       \n",
      "\n",
      "=== EPOCH 74/114 ===\n",
      "Learning Rate = 5.3687091200000036e-05\n",
      "\n"
     ]
    },
    {
     "name": "stderr",
     "output_type": "stream",
     "text": [
      "Training: 100%|███████████████████████████████| 232/232 [00:32<00:00,  7.04it/s]\n"
     ]
    },
    {
     "name": "stdout",
     "output_type": "stream",
     "text": [
      "Total Loss  |Box Loss    |Conf Loss   |No Obj Loss |Class Loss  \n",
      "------------ ------------ ------------ ------------ ------------\n",
      "49.639      |9.066       |16.699      |5.440       |1.066       \n",
      "\n"
     ]
    },
    {
     "name": "stderr",
     "output_type": "stream",
     "text": [
      "Get Boxes: 100%|██████████████████████████████| 232/232 [00:38<00:00,  5.95it/s]\n",
      "mAP:@.5: 100%|████████████████████████████████████| 2/2 [00:08<00:00,  4.31s/it]\n"
     ]
    },
    {
     "name": "stdout",
     "output_type": "stream",
     "text": [
      "\n",
      "Train mAP: 0.580\n"
     ]
    },
    {
     "name": "stderr",
     "output_type": "stream",
     "text": [
      "Validating: 100%|███████████████████████████████| 58/58 [00:05<00:00,  9.97it/s]\n"
     ]
    },
    {
     "name": "stdout",
     "output_type": "stream",
     "text": [
      "Total Loss  |Box Loss    |Conf Loss   |No Obj Loss |Class Loss  \n",
      "------------ ------------ ------------ ------------ ------------\n",
      "57.797      |18.924      |28.941      |6.064       |3.868       \n"
     ]
    },
    {
     "name": "stderr",
     "output_type": "stream",
     "text": [
      "Get Boxes: 100%|████████████████████████████████| 58/58 [00:09<00:00,  6.27it/s]\n",
      "mAP:@.5: 100%|████████████████████████████████████| 2/2 [00:01<00:00,  1.30it/s]\n"
     ]
    },
    {
     "name": "stdout",
     "output_type": "stream",
     "text": [
      "\n",
      "Validation mAP: 0.349\n",
      "\n",
      "Saving model with new best val mAP: 0.349\n",
      "\n",
      "=== EPOCH 75/114 ===\n",
      "Learning Rate = 4.2949672960000034e-05\n",
      "\n"
     ]
    },
    {
     "name": "stderr",
     "output_type": "stream",
     "text": [
      "Training: 100%|███████████████████████████████| 232/232 [00:32<00:00,  7.11it/s]\n"
     ]
    },
    {
     "name": "stdout",
     "output_type": "stream",
     "text": [
      "Total Loss  |Box Loss    |Conf Loss   |No Obj Loss |Class Loss  \n",
      "------------ ------------ ------------ ------------ ------------\n",
      "49.282      |8.949       |16.669      |5.336       |0.971       \n",
      "\n"
     ]
    },
    {
     "name": "stderr",
     "output_type": "stream",
     "text": [
      "Validating: 100%|███████████████████████████████| 58/58 [00:05<00:00, 10.12it/s]\n"
     ]
    },
    {
     "name": "stdout",
     "output_type": "stream",
     "text": [
      "Total Loss  |Box Loss    |Conf Loss   |No Obj Loss |Class Loss  \n",
      "------------ ------------ ------------ ------------ ------------\n",
      "57.602      |18.638      |28.778      |6.237       |3.948       \n",
      "\n",
      "=== EPOCH 76/114 ===\n",
      "Learning Rate = 4.2949672960000034e-05\n",
      "\n"
     ]
    },
    {
     "name": "stderr",
     "output_type": "stream",
     "text": [
      "Training: 100%|███████████████████████████████| 232/232 [00:32<00:00,  7.09it/s]\n"
     ]
    },
    {
     "name": "stdout",
     "output_type": "stream",
     "text": [
      "Total Loss  |Box Loss    |Conf Loss   |No Obj Loss |Class Loss  \n",
      "------------ ------------ ------------ ------------ ------------\n",
      "49.023      |8.978       |16.525      |5.299       |0.876       \n",
      "\n"
     ]
    },
    {
     "name": "stderr",
     "output_type": "stream",
     "text": [
      "Validating: 100%|███████████████████████████████| 58/58 [00:06<00:00,  9.43it/s]\n"
     ]
    },
    {
     "name": "stdout",
     "output_type": "stream",
     "text": [
      "Total Loss  |Box Loss    |Conf Loss   |No Obj Loss |Class Loss  \n",
      "------------ ------------ ------------ ------------ ------------\n",
      "57.628      |18.902      |28.712      |6.032       |3.983       \n",
      "\n",
      "=== EPOCH 77/114 ===\n",
      "Learning Rate = 4.2949672960000034e-05\n",
      "\n"
     ]
    },
    {
     "name": "stderr",
     "output_type": "stream",
     "text": [
      "Training: 100%|███████████████████████████████| 232/232 [00:32<00:00,  7.03it/s]\n"
     ]
    },
    {
     "name": "stdout",
     "output_type": "stream",
     "text": [
      "Total Loss  |Box Loss    |Conf Loss   |No Obj Loss |Class Loss  \n",
      "------------ ------------ ------------ ------------ ------------\n",
      "49.500      |8.907       |16.819      |5.449       |0.991       \n",
      "\n"
     ]
    },
    {
     "name": "stderr",
     "output_type": "stream",
     "text": [
      "Validating: 100%|███████████████████████████████| 58/58 [00:05<00:00, 10.26it/s]\n"
     ]
    },
    {
     "name": "stdout",
     "output_type": "stream",
     "text": [
      "Total Loss  |Box Loss    |Conf Loss   |No Obj Loss |Class Loss  \n",
      "------------ ------------ ------------ ------------ ------------\n",
      "58.189      |19.086      |28.782      |6.239       |4.081       \n",
      "\n",
      "=== EPOCH 78/114 ===\n",
      "Learning Rate = 3.435973836800003e-05\n",
      "\n"
     ]
    },
    {
     "name": "stderr",
     "output_type": "stream",
     "text": [
      "Training: 100%|███████████████████████████████| 232/232 [00:32<00:00,  7.11it/s]\n"
     ]
    },
    {
     "name": "stdout",
     "output_type": "stream",
     "text": [
      "Total Loss  |Box Loss    |Conf Loss   |No Obj Loss |Class Loss  \n",
      "------------ ------------ ------------ ------------ ------------\n",
      "49.189      |8.881       |16.640      |5.362       |0.983       \n",
      "\n"
     ]
    },
    {
     "name": "stderr",
     "output_type": "stream",
     "text": [
      "Validating: 100%|███████████████████████████████| 58/58 [00:05<00:00, 10.52it/s]\n"
     ]
    },
    {
     "name": "stdout",
     "output_type": "stream",
     "text": [
      "Total Loss  |Box Loss    |Conf Loss   |No Obj Loss |Class Loss  \n",
      "------------ ------------ ------------ ------------ ------------\n",
      "57.725      |18.844      |29.037      |5.925       |3.919       \n",
      "\n",
      "=== EPOCH 79/114 ===\n",
      "Learning Rate = 3.435973836800003e-05\n",
      "\n"
     ]
    },
    {
     "name": "stderr",
     "output_type": "stream",
     "text": [
      "Training: 100%|███████████████████████████████| 232/232 [00:32<00:00,  7.05it/s]\n"
     ]
    },
    {
     "name": "stdout",
     "output_type": "stream",
     "text": [
      "Total Loss  |Box Loss    |Conf Loss   |No Obj Loss |Class Loss  \n",
      "------------ ------------ ------------ ------------ ------------\n",
      "48.388      |8.674       |16.240      |5.215       |0.945       \n",
      "\n"
     ]
    },
    {
     "name": "stderr",
     "output_type": "stream",
     "text": [
      "Validating: 100%|███████████████████████████████| 58/58 [00:05<00:00, 10.45it/s]\n"
     ]
    },
    {
     "name": "stdout",
     "output_type": "stream",
     "text": [
      "Total Loss  |Box Loss    |Conf Loss   |No Obj Loss |Class Loss  \n",
      "------------ ------------ ------------ ------------ ------------\n",
      "57.612      |18.843      |28.709      |6.075       |3.984       \n"
     ]
    },
    {
     "name": "stderr",
     "output_type": "stream",
     "text": [
      "Get Boxes: 100%|████████████████████████████████| 58/58 [00:08<00:00,  6.45it/s]\n",
      "mAP:@.5: 100%|████████████████████████████████████| 2/2 [00:00<00:00,  3.94it/s]\n"
     ]
    },
    {
     "name": "stdout",
     "output_type": "stream",
     "text": [
      "\n",
      "Validation mAP: 0.350\n",
      "\n",
      "Saving model with new best val mAP: 0.350\n",
      "\n",
      "=== EPOCH 80/114 ===\n",
      "Learning Rate = 3.435973836800003e-05\n",
      "\n"
     ]
    },
    {
     "name": "stderr",
     "output_type": "stream",
     "text": [
      "Training: 100%|███████████████████████████████| 232/232 [00:32<00:00,  7.14it/s]\n"
     ]
    },
    {
     "name": "stdout",
     "output_type": "stream",
     "text": [
      "Total Loss  |Box Loss    |Conf Loss   |No Obj Loss |Class Loss  \n",
      "------------ ------------ ------------ ------------ ------------\n",
      "48.892      |8.761       |16.567      |5.356       |0.904       \n",
      "\n"
     ]
    },
    {
     "name": "stderr",
     "output_type": "stream",
     "text": [
      "Validating: 100%|███████████████████████████████| 58/58 [00:05<00:00, 10.16it/s]\n"
     ]
    },
    {
     "name": "stdout",
     "output_type": "stream",
     "text": [
      "Total Loss  |Box Loss    |Conf Loss   |No Obj Loss |Class Loss  \n",
      "------------ ------------ ------------ ------------ ------------\n",
      "57.991      |18.920      |29.087      |6.030       |3.955       \n",
      "\n",
      "=== EPOCH 81/114 ===\n",
      "Learning Rate = 2.7487790694400027e-05\n",
      "\n"
     ]
    },
    {
     "name": "stderr",
     "output_type": "stream",
     "text": [
      "Training: 100%|███████████████████████████████| 232/232 [00:32<00:00,  7.14it/s]\n"
     ]
    },
    {
     "name": "stdout",
     "output_type": "stream",
     "text": [
      "Total Loss  |Box Loss    |Conf Loss   |No Obj Loss |Class Loss  \n",
      "------------ ------------ ------------ ------------ ------------\n",
      "48.750      |8.877       |16.269      |5.236       |1.072       \n",
      "\n"
     ]
    },
    {
     "name": "stderr",
     "output_type": "stream",
     "text": [
      "Validating: 100%|███████████████████████████████| 58/58 [00:05<00:00, 10.04it/s]\n"
     ]
    },
    {
     "name": "stdout",
     "output_type": "stream",
     "text": [
      "Total Loss  |Box Loss    |Conf Loss   |No Obj Loss |Class Loss  \n",
      "------------ ------------ ------------ ------------ ------------\n",
      "57.530      |18.863      |29.093      |5.678       |3.897       \n",
      "\n",
      "=== EPOCH 82/114 ===\n",
      "Learning Rate = 2.7487790694400027e-05\n",
      "\n"
     ]
    },
    {
     "name": "stderr",
     "output_type": "stream",
     "text": [
      "Training: 100%|███████████████████████████████| 232/232 [00:32<00:00,  7.06it/s]\n"
     ]
    },
    {
     "name": "stdout",
     "output_type": "stream",
     "text": [
      "Total Loss  |Box Loss    |Conf Loss   |No Obj Loss |Class Loss  \n",
      "------------ ------------ ------------ ------------ ------------\n",
      "48.777      |8.780       |16.562      |5.216       |0.931       \n",
      "\n"
     ]
    },
    {
     "name": "stderr",
     "output_type": "stream",
     "text": [
      "Validating: 100%|███████████████████████████████| 58/58 [00:05<00:00, 10.34it/s]\n"
     ]
    },
    {
     "name": "stdout",
     "output_type": "stream",
     "text": [
      "Total Loss  |Box Loss    |Conf Loss   |No Obj Loss |Class Loss  \n",
      "------------ ------------ ------------ ------------ ------------\n",
      "57.707      |18.821      |28.685      |6.354       |3.847       \n",
      "\n",
      "=== EPOCH 83/114 ===\n",
      "Learning Rate = 2.7487790694400027e-05\n",
      "\n"
     ]
    },
    {
     "name": "stderr",
     "output_type": "stream",
     "text": [
      "Training: 100%|███████████████████████████████| 232/232 [00:33<00:00,  7.03it/s]\n"
     ]
    },
    {
     "name": "stdout",
     "output_type": "stream",
     "text": [
      "Total Loss  |Box Loss    |Conf Loss   |No Obj Loss |Class Loss  \n",
      "------------ ------------ ------------ ------------ ------------\n",
      "48.610      |8.607       |16.472      |5.276       |0.974       \n",
      "\n"
     ]
    },
    {
     "name": "stderr",
     "output_type": "stream",
     "text": [
      "Validating: 100%|███████████████████████████████| 58/58 [00:05<00:00, 10.41it/s]\n"
     ]
    },
    {
     "name": "stdout",
     "output_type": "stream",
     "text": [
      "Total Loss  |Box Loss    |Conf Loss   |No Obj Loss |Class Loss  \n",
      "------------ ------------ ------------ ------------ ------------\n",
      "57.759      |18.789      |29.060      |6.108       |3.802       \n",
      "\n",
      "=== EPOCH 84/114 ===\n",
      "Learning Rate = 2.1990232555520022e-05\n",
      "\n"
     ]
    },
    {
     "name": "stderr",
     "output_type": "stream",
     "text": [
      "Training: 100%|███████████████████████████████| 232/232 [00:32<00:00,  7.12it/s]\n"
     ]
    },
    {
     "name": "stdout",
     "output_type": "stream",
     "text": [
      "Total Loss  |Box Loss    |Conf Loss   |No Obj Loss |Class Loss  \n",
      "------------ ------------ ------------ ------------ ------------\n",
      "49.379      |8.889       |16.762      |5.429       |1.027       \n",
      "\n"
     ]
    },
    {
     "name": "stderr",
     "output_type": "stream",
     "text": [
      "Validating: 100%|███████████████████████████████| 58/58 [00:05<00:00,  9.90it/s]\n"
     ]
    },
    {
     "name": "stdout",
     "output_type": "stream",
     "text": [
      "Total Loss  |Box Loss    |Conf Loss   |No Obj Loss |Class Loss  \n",
      "------------ ------------ ------------ ------------ ------------\n",
      "57.776      |18.727      |29.104      |5.940       |4.006       \n"
     ]
    },
    {
     "name": "stderr",
     "output_type": "stream",
     "text": [
      "Get Boxes: 100%|████████████████████████████████| 58/58 [00:09<00:00,  6.11it/s]\n",
      "mAP:@.5: 100%|████████████████████████████████████| 2/2 [00:01<00:00,  1.46it/s]\n"
     ]
    },
    {
     "name": "stdout",
     "output_type": "stream",
     "text": [
      "\n",
      "Validation mAP: 0.339\n",
      "\n",
      "=== EPOCH 85/114 ===\n",
      "Learning Rate = 2.1990232555520022e-05\n",
      "\n"
     ]
    },
    {
     "name": "stderr",
     "output_type": "stream",
     "text": [
      "Training: 100%|███████████████████████████████| 232/232 [00:32<00:00,  7.09it/s]\n"
     ]
    },
    {
     "name": "stdout",
     "output_type": "stream",
     "text": [
      "Total Loss  |Box Loss    |Conf Loss   |No Obj Loss |Class Loss  \n",
      "------------ ------------ ------------ ------------ ------------\n",
      "48.326      |8.743       |16.183      |5.153       |0.981       \n",
      "\n"
     ]
    },
    {
     "name": "stderr",
     "output_type": "stream",
     "text": [
      "Validating: 100%|███████████████████████████████| 58/58 [00:05<00:00, 10.33it/s]\n"
     ]
    },
    {
     "name": "stdout",
     "output_type": "stream",
     "text": [
      "Total Loss  |Box Loss    |Conf Loss   |No Obj Loss |Class Loss  \n",
      "------------ ------------ ------------ ------------ ------------\n",
      "57.262      |18.534      |29.042      |5.875       |3.811       \n",
      "\n",
      "Saving model with new best validation loss: 57.262\n",
      "\n",
      "=== EPOCH 86/114 ===\n",
      "Learning Rate = 2.1990232555520022e-05\n",
      "\n"
     ]
    },
    {
     "name": "stderr",
     "output_type": "stream",
     "text": [
      "Training: 100%|███████████████████████████████| 232/232 [00:32<00:00,  7.08it/s]\n"
     ]
    },
    {
     "name": "stdout",
     "output_type": "stream",
     "text": [
      "Total Loss  |Box Loss    |Conf Loss   |No Obj Loss |Class Loss  \n",
      "------------ ------------ ------------ ------------ ------------\n",
      "48.603      |8.727       |16.304      |5.329       |0.982       \n",
      "\n"
     ]
    },
    {
     "name": "stderr",
     "output_type": "stream",
     "text": [
      "Validating: 100%|███████████████████████████████| 58/58 [00:05<00:00, 10.14it/s]\n"
     ]
    },
    {
     "name": "stdout",
     "output_type": "stream",
     "text": [
      "Total Loss  |Box Loss    |Conf Loss   |No Obj Loss |Class Loss  \n",
      "------------ ------------ ------------ ------------ ------------\n",
      "57.466      |18.581      |28.832      |6.141       |3.911       \n",
      "\n",
      "=== EPOCH 87/114 ===\n",
      "Learning Rate = 2.1990232555520022e-05\n",
      "\n"
     ]
    },
    {
     "name": "stderr",
     "output_type": "stream",
     "text": [
      "Training: 100%|███████████████████████████████| 232/232 [00:32<00:00,  7.05it/s]\n"
     ]
    },
    {
     "name": "stdout",
     "output_type": "stream",
     "text": [
      "Total Loss  |Box Loss    |Conf Loss   |No Obj Loss |Class Loss  \n",
      "------------ ------------ ------------ ------------ ------------\n",
      "48.265      |8.846       |16.077      |5.139       |0.948       \n",
      "\n"
     ]
    },
    {
     "name": "stderr",
     "output_type": "stream",
     "text": [
      "Validating: 100%|███████████████████████████████| 58/58 [00:05<00:00, 10.22it/s]\n"
     ]
    },
    {
     "name": "stdout",
     "output_type": "stream",
     "text": [
      "Total Loss  |Box Loss    |Conf Loss   |No Obj Loss |Class Loss  \n",
      "------------ ------------ ------------ ------------ ------------\n",
      "58.111      |18.878      |29.287      |5.977       |3.969       \n",
      "\n",
      "=== EPOCH 88/114 ===\n",
      "Learning Rate = 2.1990232555520022e-05\n",
      "\n"
     ]
    },
    {
     "name": "stderr",
     "output_type": "stream",
     "text": [
      "Training: 100%|███████████████████████████████| 232/232 [00:32<00:00,  7.10it/s]\n"
     ]
    },
    {
     "name": "stdout",
     "output_type": "stream",
     "text": [
      "Total Loss  |Box Loss    |Conf Loss   |No Obj Loss |Class Loss  \n",
      "------------ ------------ ------------ ------------ ------------\n",
      "48.268      |8.717       |16.183      |5.171       |0.949       \n",
      "\n"
     ]
    },
    {
     "name": "stderr",
     "output_type": "stream",
     "text": [
      "Validating: 100%|███████████████████████████████| 58/58 [00:05<00:00, 10.43it/s]\n"
     ]
    },
    {
     "name": "stdout",
     "output_type": "stream",
     "text": [
      "Total Loss  |Box Loss    |Conf Loss   |No Obj Loss |Class Loss  \n",
      "------------ ------------ ------------ ------------ ------------\n",
      "58.526      |19.017      |29.380      |5.975       |4.154       \n",
      "\n",
      "=== EPOCH 89/114 ===\n",
      "Learning Rate = 1.7592186044416018e-05\n",
      "\n"
     ]
    },
    {
     "name": "stderr",
     "output_type": "stream",
     "text": [
      "Training: 100%|███████████████████████████████| 232/232 [00:32<00:00,  7.08it/s]\n"
     ]
    },
    {
     "name": "stdout",
     "output_type": "stream",
     "text": [
      "Total Loss  |Box Loss    |Conf Loss   |No Obj Loss |Class Loss  \n",
      "------------ ------------ ------------ ------------ ------------\n",
      "48.460      |8.768       |16.113      |5.273       |1.062       \n",
      "\n"
     ]
    },
    {
     "name": "stderr",
     "output_type": "stream",
     "text": [
      "Get Boxes: 100%|██████████████████████████████| 232/232 [00:40<00:00,  5.71it/s]\n",
      "mAP:@.5: 100%|████████████████████████████████████| 2/2 [00:04<00:00,  2.50s/it]\n"
     ]
    },
    {
     "name": "stdout",
     "output_type": "stream",
     "text": [
      "\n",
      "Train mAP: 0.586\n"
     ]
    },
    {
     "name": "stderr",
     "output_type": "stream",
     "text": [
      "Validating: 100%|███████████████████████████████| 58/58 [00:05<00:00, 10.44it/s]\n"
     ]
    },
    {
     "name": "stdout",
     "output_type": "stream",
     "text": [
      "Total Loss  |Box Loss    |Conf Loss   |No Obj Loss |Class Loss  \n",
      "------------ ------------ ------------ ------------ ------------\n",
      "58.356      |19.015      |29.457      |5.819       |4.066       \n"
     ]
    },
    {
     "name": "stderr",
     "output_type": "stream",
     "text": [
      "Get Boxes: 100%|████████████████████████████████| 58/58 [00:09<00:00,  6.08it/s]\n",
      "mAP:@.5: 100%|████████████████████████████████████| 2/2 [00:00<00:00,  3.95it/s]\n"
     ]
    },
    {
     "name": "stdout",
     "output_type": "stream",
     "text": [
      "\n",
      "Validation mAP: 0.343\n",
      "\n",
      "=== EPOCH 90/114 ===\n",
      "Learning Rate = 1.7592186044416018e-05\n",
      "\n"
     ]
    },
    {
     "name": "stderr",
     "output_type": "stream",
     "text": [
      "Training: 100%|███████████████████████████████| 232/232 [00:32<00:00,  7.11it/s]\n"
     ]
    },
    {
     "name": "stdout",
     "output_type": "stream",
     "text": [
      "Total Loss  |Box Loss    |Conf Loss   |No Obj Loss |Class Loss  \n",
      "------------ ------------ ------------ ------------ ------------\n",
      "47.817      |8.533       |15.954      |5.164       |0.927       \n",
      "\n"
     ]
    },
    {
     "name": "stderr",
     "output_type": "stream",
     "text": [
      "Validating: 100%|███████████████████████████████| 58/58 [00:05<00:00, 10.21it/s]\n"
     ]
    },
    {
     "name": "stdout",
     "output_type": "stream",
     "text": [
      "Total Loss  |Box Loss    |Conf Loss   |No Obj Loss |Class Loss  \n",
      "------------ ------------ ------------ ------------ ------------\n",
      "58.099      |18.884      |29.474      |5.742       |3.999       \n",
      "\n",
      "=== EPOCH 91/114 ===\n",
      "Learning Rate = 1.7592186044416018e-05\n",
      "\n"
     ]
    },
    {
     "name": "stderr",
     "output_type": "stream",
     "text": [
      "Training: 100%|███████████████████████████████| 232/232 [00:33<00:00,  6.94it/s]\n"
     ]
    },
    {
     "name": "stdout",
     "output_type": "stream",
     "text": [
      "Total Loss  |Box Loss    |Conf Loss   |No Obj Loss |Class Loss  \n",
      "------------ ------------ ------------ ------------ ------------\n",
      "48.518      |8.892       |16.316      |5.155       |0.921       \n",
      "\n"
     ]
    },
    {
     "name": "stderr",
     "output_type": "stream",
     "text": [
      "Validating: 100%|███████████████████████████████| 58/58 [00:05<00:00, 10.11it/s]\n"
     ]
    },
    {
     "name": "stdout",
     "output_type": "stream",
     "text": [
      "Total Loss  |Box Loss    |Conf Loss   |No Obj Loss |Class Loss  \n",
      "------------ ------------ ------------ ------------ ------------\n",
      "57.910      |18.856      |28.467      |6.642       |3.944       \n",
      "\n",
      "=== EPOCH 92/114 ===\n",
      "Learning Rate = 1.4073748835532815e-05\n",
      "\n"
     ]
    },
    {
     "name": "stderr",
     "output_type": "stream",
     "text": [
      "Training: 100%|███████████████████████████████| 232/232 [00:33<00:00,  6.93it/s]\n"
     ]
    },
    {
     "name": "stdout",
     "output_type": "stream",
     "text": [
      "Total Loss  |Box Loss    |Conf Loss   |No Obj Loss |Class Loss  \n",
      "------------ ------------ ------------ ------------ ------------\n",
      "48.092      |8.673       |16.014      |5.188       |0.986       \n",
      "\n"
     ]
    },
    {
     "name": "stderr",
     "output_type": "stream",
     "text": [
      "Validating: 100%|███████████████████████████████| 58/58 [00:05<00:00, 10.54it/s]\n"
     ]
    },
    {
     "name": "stdout",
     "output_type": "stream",
     "text": [
      "Total Loss  |Box Loss    |Conf Loss   |No Obj Loss |Class Loss  \n",
      "------------ ------------ ------------ ------------ ------------\n",
      "57.875      |18.787      |28.470      |6.631       |3.988       \n",
      "\n",
      "=== EPOCH 93/114 ===\n",
      "Learning Rate = 1.4073748835532815e-05\n",
      "\n"
     ]
    },
    {
     "name": "stderr",
     "output_type": "stream",
     "text": [
      "Training: 100%|███████████████████████████████| 232/232 [00:32<00:00,  7.13it/s]\n"
     ]
    },
    {
     "name": "stdout",
     "output_type": "stream",
     "text": [
      "Total Loss  |Box Loss    |Conf Loss   |No Obj Loss |Class Loss  \n",
      "------------ ------------ ------------ ------------ ------------\n",
      "47.954      |8.678       |16.040      |5.091       |0.919       \n",
      "\n"
     ]
    },
    {
     "name": "stderr",
     "output_type": "stream",
     "text": [
      "Validating: 100%|███████████████████████████████| 58/58 [00:05<00:00, 10.24it/s]\n"
     ]
    },
    {
     "name": "stdout",
     "output_type": "stream",
     "text": [
      "Total Loss  |Box Loss    |Conf Loss   |No Obj Loss |Class Loss  \n",
      "------------ ------------ ------------ ------------ ------------\n",
      "57.898      |18.781      |28.993      |6.147       |3.976       \n",
      "\n",
      "=== EPOCH 94/114 ===\n",
      "Learning Rate = 1.4073748835532815e-05\n",
      "\n"
     ]
    },
    {
     "name": "stderr",
     "output_type": "stream",
     "text": [
      "Training: 100%|███████████████████████████████| 232/232 [00:33<00:00,  6.95it/s]\n"
     ]
    },
    {
     "name": "stdout",
     "output_type": "stream",
     "text": [
      "Total Loss  |Box Loss    |Conf Loss   |No Obj Loss |Class Loss  \n",
      "------------ ------------ ------------ ------------ ------------\n",
      "48.085      |8.743       |15.885      |5.236       |1.000       \n",
      "\n"
     ]
    },
    {
     "name": "stderr",
     "output_type": "stream",
     "text": [
      "Validating: 100%|███████████████████████████████| 58/58 [00:05<00:00, 10.57it/s]\n"
     ]
    },
    {
     "name": "stdout",
     "output_type": "stream",
     "text": [
      "Total Loss  |Box Loss    |Conf Loss   |No Obj Loss |Class Loss  \n",
      "------------ ------------ ------------ ------------ ------------\n",
      "58.079      |18.940      |29.074      |5.986       |4.079       \n"
     ]
    },
    {
     "name": "stderr",
     "output_type": "stream",
     "text": [
      "Get Boxes: 100%|████████████████████████████████| 58/58 [00:09<00:00,  6.06it/s]\n",
      "mAP:@.5: 100%|████████████████████████████████████| 2/2 [00:00<00:00,  3.74it/s]\n"
     ]
    },
    {
     "name": "stdout",
     "output_type": "stream",
     "text": [
      "\n",
      "Validation mAP: 0.345\n",
      "\n",
      "=== EPOCH 95/114 ===\n",
      "Learning Rate = 1.1258999068426253e-05\n",
      "\n"
     ]
    },
    {
     "name": "stderr",
     "output_type": "stream",
     "text": [
      "Training: 100%|███████████████████████████████| 232/232 [00:32<00:00,  7.03it/s]\n"
     ]
    },
    {
     "name": "stdout",
     "output_type": "stream",
     "text": [
      "Total Loss  |Box Loss    |Conf Loss   |No Obj Loss |Class Loss  \n",
      "------------ ------------ ------------ ------------ ------------\n",
      "47.938      |8.594       |16.022      |5.122       |0.983       \n",
      "\n"
     ]
    },
    {
     "name": "stderr",
     "output_type": "stream",
     "text": [
      "Validating: 100%|███████████████████████████████| 58/58 [00:05<00:00, 10.37it/s]\n"
     ]
    },
    {
     "name": "stdout",
     "output_type": "stream",
     "text": [
      "Total Loss  |Box Loss    |Conf Loss   |No Obj Loss |Class Loss  \n",
      "------------ ------------ ------------ ------------ ------------\n",
      "57.912      |18.829      |29.140      |5.961       |3.982       \n",
      "\n",
      "=== EPOCH 96/114 ===\n",
      "Learning Rate = 1.1258999068426253e-05\n",
      "\n"
     ]
    },
    {
     "name": "stderr",
     "output_type": "stream",
     "text": [
      "Training: 100%|███████████████████████████████| 232/232 [00:32<00:00,  7.04it/s]\n"
     ]
    },
    {
     "name": "stdout",
     "output_type": "stream",
     "text": [
      "Total Loss  |Box Loss    |Conf Loss   |No Obj Loss |Class Loss  \n",
      "------------ ------------ ------------ ------------ ------------\n",
      "48.300      |8.828       |16.082      |5.192       |0.985       \n",
      "\n"
     ]
    },
    {
     "name": "stderr",
     "output_type": "stream",
     "text": [
      "Validating: 100%|███████████████████████████████| 58/58 [00:05<00:00,  9.82it/s]\n"
     ]
    },
    {
     "name": "stdout",
     "output_type": "stream",
     "text": [
      "Total Loss  |Box Loss    |Conf Loss   |No Obj Loss |Class Loss  \n",
      "------------ ------------ ------------ ------------ ------------\n",
      "57.748      |18.782      |28.511      |6.481       |3.974       \n",
      "\n",
      "=== EPOCH 97/114 ===\n",
      "Learning Rate = 1.1258999068426253e-05\n",
      "\n"
     ]
    },
    {
     "name": "stderr",
     "output_type": "stream",
     "text": [
      "Training: 100%|███████████████████████████████| 232/232 [00:33<00:00,  6.97it/s]\n"
     ]
    },
    {
     "name": "stdout",
     "output_type": "stream",
     "text": [
      "Total Loss  |Box Loss    |Conf Loss   |No Obj Loss |Class Loss  \n",
      "------------ ------------ ------------ ------------ ------------\n",
      "48.138      |8.605       |16.155      |5.221       |0.946       \n",
      "\n"
     ]
    },
    {
     "name": "stderr",
     "output_type": "stream",
     "text": [
      "Validating: 100%|███████████████████████████████| 58/58 [00:05<00:00, 10.04it/s]\n"
     ]
    },
    {
     "name": "stdout",
     "output_type": "stream",
     "text": [
      "Total Loss  |Box Loss    |Conf Loss   |No Obj Loss |Class Loss  \n",
      "------------ ------------ ------------ ------------ ------------\n",
      "58.019      |18.884      |29.238      |5.943       |3.953       \n",
      "\n",
      "=== EPOCH 98/114 ===\n",
      "Learning Rate = 9.007199254741003e-06\n",
      "\n"
     ]
    },
    {
     "name": "stderr",
     "output_type": "stream",
     "text": [
      "Training: 100%|███████████████████████████████| 232/232 [00:32<00:00,  7.11it/s]\n"
     ]
    },
    {
     "name": "stdout",
     "output_type": "stream",
     "text": [
      "Total Loss  |Box Loss    |Conf Loss   |No Obj Loss |Class Loss  \n",
      "------------ ------------ ------------ ------------ ------------\n",
      "48.346      |8.810       |16.263      |5.081       |0.985       \n",
      "\n"
     ]
    },
    {
     "name": "stderr",
     "output_type": "stream",
     "text": [
      "Validating: 100%|███████████████████████████████| 58/58 [00:05<00:00, 10.44it/s]\n"
     ]
    },
    {
     "name": "stdout",
     "output_type": "stream",
     "text": [
      "Total Loss  |Box Loss    |Conf Loss   |No Obj Loss |Class Loss  \n",
      "------------ ------------ ------------ ------------ ------------\n",
      "57.586      |18.772      |28.837      |6.064       |3.913       \n",
      "\n",
      "=== EPOCH 99/114 ===\n",
      "Learning Rate = 9.007199254741003e-06\n",
      "\n"
     ]
    },
    {
     "name": "stderr",
     "output_type": "stream",
     "text": [
      "Training: 100%|███████████████████████████████| 232/232 [00:33<00:00,  6.94it/s]\n"
     ]
    },
    {
     "name": "stdout",
     "output_type": "stream",
     "text": [
      "Total Loss  |Box Loss    |Conf Loss   |No Obj Loss |Class Loss  \n",
      "------------ ------------ ------------ ------------ ------------\n",
      "47.571      |8.492       |15.887      |5.112       |0.875       \n",
      "\n"
     ]
    },
    {
     "name": "stderr",
     "output_type": "stream",
     "text": [
      "Validating: 100%|███████████████████████████████| 58/58 [00:05<00:00,  9.94it/s]\n"
     ]
    },
    {
     "name": "stdout",
     "output_type": "stream",
     "text": [
      "Total Loss  |Box Loss    |Conf Loss   |No Obj Loss |Class Loss  \n",
      "------------ ------------ ------------ ------------ ------------\n",
      "57.661      |18.700      |28.730      |6.325       |3.906       \n"
     ]
    },
    {
     "name": "stderr",
     "output_type": "stream",
     "text": [
      "Get Boxes: 100%|████████████████████████████████| 58/58 [00:09<00:00,  6.36it/s]\n",
      "mAP:@.5: 100%|████████████████████████████████████| 2/2 [00:00<00:00,  2.09it/s]\n"
     ]
    },
    {
     "name": "stdout",
     "output_type": "stream",
     "text": [
      "\n",
      "Validation mAP: 0.344\n",
      "\n",
      "=== EPOCH 100/114 ===\n",
      "Learning Rate = 9.007199254741003e-06\n",
      "\n"
     ]
    },
    {
     "name": "stderr",
     "output_type": "stream",
     "text": [
      "Training: 100%|███████████████████████████████| 232/232 [00:32<00:00,  7.12it/s]\n"
     ]
    },
    {
     "name": "stdout",
     "output_type": "stream",
     "text": [
      "Total Loss  |Box Loss    |Conf Loss   |No Obj Loss |Class Loss  \n",
      "------------ ------------ ------------ ------------ ------------\n",
      "47.466      |8.542       |15.750      |5.049       |0.923       \n",
      "\n"
     ]
    },
    {
     "name": "stderr",
     "output_type": "stream",
     "text": [
      "Validating: 100%|███████████████████████████████| 58/58 [00:05<00:00, 10.43it/s]\n"
     ]
    },
    {
     "name": "stdout",
     "output_type": "stream",
     "text": [
      "Total Loss  |Box Loss    |Conf Loss   |No Obj Loss |Class Loss  \n",
      "------------ ------------ ------------ ------------ ------------\n",
      "58.022      |18.776      |29.166      |6.049       |4.031       \n",
      "\n",
      "=== EPOCH 101/114 ===\n",
      "Learning Rate = 7.205759403792802e-06\n",
      "\n"
     ]
    },
    {
     "name": "stderr",
     "output_type": "stream",
     "text": [
      "Training: 100%|███████████████████████████████| 232/232 [00:32<00:00,  7.06it/s]\n"
     ]
    },
    {
     "name": "stdout",
     "output_type": "stream",
     "text": [
      "Total Loss  |Box Loss    |Conf Loss   |No Obj Loss |Class Loss  \n",
      "------------ ------------ ------------ ------------ ------------\n",
      "47.971      |8.735       |16.120      |4.966       |0.950       \n",
      "\n"
     ]
    },
    {
     "name": "stderr",
     "output_type": "stream",
     "text": [
      "Validating: 100%|███████████████████████████████| 58/58 [00:05<00:00, 10.27it/s]\n"
     ]
    },
    {
     "name": "stdout",
     "output_type": "stream",
     "text": [
      "Total Loss  |Box Loss    |Conf Loss   |No Obj Loss |Class Loss  \n",
      "------------ ------------ ------------ ------------ ------------\n",
      "58.007      |18.813      |29.455      |5.703       |4.036       \n",
      "\n",
      "=== EPOCH 102/114 ===\n",
      "Learning Rate = 7.205759403792802e-06\n",
      "\n"
     ]
    },
    {
     "name": "stderr",
     "output_type": "stream",
     "text": [
      "Training: 100%|███████████████████████████████| 232/232 [00:33<00:00,  6.91it/s]\n"
     ]
    },
    {
     "name": "stdout",
     "output_type": "stream",
     "text": [
      "Total Loss  |Box Loss    |Conf Loss   |No Obj Loss |Class Loss  \n",
      "------------ ------------ ------------ ------------ ------------\n",
      "47.635      |8.700       |15.793      |5.071       |0.874       \n",
      "\n"
     ]
    },
    {
     "name": "stderr",
     "output_type": "stream",
     "text": [
      "Validating: 100%|███████████████████████████████| 58/58 [00:05<00:00, 10.09it/s]\n"
     ]
    },
    {
     "name": "stdout",
     "output_type": "stream",
     "text": [
      "Total Loss  |Box Loss    |Conf Loss   |No Obj Loss |Class Loss  \n",
      "------------ ------------ ------------ ------------ ------------\n",
      "57.800      |18.747      |29.200      |5.887       |3.967       \n",
      "\n",
      "=== EPOCH 103/114 ===\n",
      "Learning Rate = 7.205759403792802e-06\n",
      "\n"
     ]
    },
    {
     "name": "stderr",
     "output_type": "stream",
     "text": [
      "Training: 100%|███████████████████████████████| 232/232 [00:32<00:00,  7.11it/s]\n"
     ]
    },
    {
     "name": "stdout",
     "output_type": "stream",
     "text": [
      "Total Loss  |Box Loss    |Conf Loss   |No Obj Loss |Class Loss  \n",
      "------------ ------------ ------------ ------------ ------------\n",
      "47.577      |8.606       |15.748      |5.069       |0.959       \n",
      "\n"
     ]
    },
    {
     "name": "stderr",
     "output_type": "stream",
     "text": [
      "Validating: 100%|███████████████████████████████| 58/58 [00:05<00:00, 10.01it/s]\n"
     ]
    },
    {
     "name": "stdout",
     "output_type": "stream",
     "text": [
      "Total Loss  |Box Loss    |Conf Loss   |No Obj Loss |Class Loss  \n",
      "------------ ------------ ------------ ------------ ------------\n",
      "57.824      |18.767      |29.131      |5.984       |3.942       \n",
      "\n",
      "=== EPOCH 104/114 ===\n",
      "Learning Rate = 5.764607523034242e-06\n",
      "\n"
     ]
    },
    {
     "name": "stderr",
     "output_type": "stream",
     "text": [
      "Training: 100%|███████████████████████████████| 232/232 [00:33<00:00,  6.96it/s]\n"
     ]
    },
    {
     "name": "stdout",
     "output_type": "stream",
     "text": [
      "Total Loss  |Box Loss    |Conf Loss   |No Obj Loss |Class Loss  \n",
      "------------ ------------ ------------ ------------ ------------\n",
      "47.639      |8.705       |15.767      |5.100       |0.873       \n",
      "\n"
     ]
    },
    {
     "name": "stderr",
     "output_type": "stream",
     "text": [
      "Get Boxes: 100%|██████████████████████████████| 232/232 [00:39<00:00,  5.85it/s]\n",
      "mAP:@.5: 100%|████████████████████████████████████| 2/2 [00:03<00:00,  1.61s/it]\n"
     ]
    },
    {
     "name": "stdout",
     "output_type": "stream",
     "text": [
      "\n",
      "Train mAP: 0.583\n"
     ]
    },
    {
     "name": "stderr",
     "output_type": "stream",
     "text": [
      "Validating: 100%|███████████████████████████████| 58/58 [00:05<00:00, 10.18it/s]\n"
     ]
    },
    {
     "name": "stdout",
     "output_type": "stream",
     "text": [
      "Total Loss  |Box Loss    |Conf Loss   |No Obj Loss |Class Loss  \n",
      "------------ ------------ ------------ ------------ ------------\n",
      "57.856      |18.775      |29.211      |5.896       |3.974       \n"
     ]
    },
    {
     "name": "stderr",
     "output_type": "stream",
     "text": [
      "Get Boxes: 100%|████████████████████████████████| 58/58 [00:09<00:00,  5.97it/s]\n",
      "mAP:@.5: 100%|████████████████████████████████████| 2/2 [00:00<00:00,  2.19it/s]\n"
     ]
    },
    {
     "name": "stdout",
     "output_type": "stream",
     "text": [
      "\n",
      "Validation mAP: 0.343\n",
      "\n",
      "=== EPOCH 105/114 ===\n",
      "Learning Rate = 5.764607523034242e-06\n",
      "\n"
     ]
    },
    {
     "name": "stderr",
     "output_type": "stream",
     "text": [
      "Training: 100%|███████████████████████████████| 232/232 [00:32<00:00,  7.17it/s]\n"
     ]
    },
    {
     "name": "stdout",
     "output_type": "stream",
     "text": [
      "Total Loss  |Box Loss    |Conf Loss   |No Obj Loss |Class Loss  \n",
      "------------ ------------ ------------ ------------ ------------\n",
      "48.306      |8.746       |16.211      |5.170       |0.987       \n",
      "\n"
     ]
    },
    {
     "name": "stderr",
     "output_type": "stream",
     "text": [
      "Validating: 100%|███████████████████████████████| 58/58 [00:05<00:00, 10.03it/s]\n"
     ]
    },
    {
     "name": "stdout",
     "output_type": "stream",
     "text": [
      "Total Loss  |Box Loss    |Conf Loss   |No Obj Loss |Class Loss  \n",
      "------------ ------------ ------------ ------------ ------------\n",
      "57.893      |18.790      |29.342      |5.798       |3.963       \n",
      "\n",
      "=== EPOCH 106/114 ===\n",
      "Learning Rate = 5.764607523034242e-06\n",
      "\n"
     ]
    },
    {
     "name": "stderr",
     "output_type": "stream",
     "text": [
      "Training: 100%|███████████████████████████████| 232/232 [00:33<00:00,  6.92it/s]\n"
     ]
    },
    {
     "name": "stdout",
     "output_type": "stream",
     "text": [
      "Total Loss  |Box Loss    |Conf Loss   |No Obj Loss |Class Loss  \n",
      "------------ ------------ ------------ ------------ ------------\n",
      "47.922      |8.632       |15.987      |5.072       |1.042       \n",
      "\n"
     ]
    },
    {
     "name": "stderr",
     "output_type": "stream",
     "text": [
      "Validating: 100%|███████████████████████████████| 58/58 [00:05<00:00, 10.06it/s]\n"
     ]
    },
    {
     "name": "stdout",
     "output_type": "stream",
     "text": [
      "Total Loss  |Box Loss    |Conf Loss   |No Obj Loss |Class Loss  \n",
      "------------ ------------ ------------ ------------ ------------\n",
      "57.897      |18.715      |29.626      |5.580       |3.976       \n",
      "\n",
      "=== EPOCH 107/114 ===\n",
      "Learning Rate = 4.611686018427394e-06\n",
      "\n"
     ]
    },
    {
     "name": "stderr",
     "output_type": "stream",
     "text": [
      "Training: 100%|███████████████████████████████| 232/232 [00:32<00:00,  7.09it/s]\n"
     ]
    },
    {
     "name": "stdout",
     "output_type": "stream",
     "text": [
      "Total Loss  |Box Loss    |Conf Loss   |No Obj Loss |Class Loss  \n",
      "------------ ------------ ------------ ------------ ------------\n",
      "47.741      |8.415       |16.071      |5.175       |0.892       \n",
      "\n"
     ]
    },
    {
     "name": "stderr",
     "output_type": "stream",
     "text": [
      "Validating: 100%|███████████████████████████████| 58/58 [00:06<00:00,  9.30it/s]\n"
     ]
    },
    {
     "name": "stdout",
     "output_type": "stream",
     "text": [
      "Total Loss  |Box Loss    |Conf Loss   |No Obj Loss |Class Loss  \n",
      "------------ ------------ ------------ ------------ ------------\n",
      "57.796      |18.857      |28.787      |6.215       |3.937       \n",
      "\n",
      "=== EPOCH 108/114 ===\n",
      "Learning Rate = 4.611686018427394e-06\n",
      "\n"
     ]
    },
    {
     "name": "stderr",
     "output_type": "stream",
     "text": [
      "Training: 100%|███████████████████████████████| 232/232 [00:32<00:00,  7.06it/s]\n"
     ]
    },
    {
     "name": "stdout",
     "output_type": "stream",
     "text": [
      "Total Loss  |Box Loss    |Conf Loss   |No Obj Loss |Class Loss  \n",
      "------------ ------------ ------------ ------------ ------------\n",
      "47.712      |8.565       |15.990      |5.005       |0.965       \n",
      "\n"
     ]
    },
    {
     "name": "stderr",
     "output_type": "stream",
     "text": [
      "Validating: 100%|███████████████████████████████| 58/58 [00:05<00:00, 10.01it/s]\n"
     ]
    },
    {
     "name": "stdout",
     "output_type": "stream",
     "text": [
      "Total Loss  |Box Loss    |Conf Loss   |No Obj Loss |Class Loss  \n",
      "------------ ------------ ------------ ------------ ------------\n",
      "57.653      |18.749      |28.918      |6.116       |3.871       \n",
      "\n",
      "=== EPOCH 109/114 ===\n",
      "Learning Rate = 4.611686018427394e-06\n",
      "\n"
     ]
    },
    {
     "name": "stderr",
     "output_type": "stream",
     "text": [
      "Training: 100%|███████████████████████████████| 232/232 [00:33<00:00,  6.86it/s]\n"
     ]
    },
    {
     "name": "stdout",
     "output_type": "stream",
     "text": [
      "Total Loss  |Box Loss    |Conf Loss   |No Obj Loss |Class Loss  \n",
      "------------ ------------ ------------ ------------ ------------\n",
      "47.594      |8.635       |15.732      |5.056       |0.985       \n",
      "\n"
     ]
    },
    {
     "name": "stderr",
     "output_type": "stream",
     "text": [
      "Validating: 100%|███████████████████████████████| 58/58 [00:05<00:00, 10.37it/s]\n"
     ]
    },
    {
     "name": "stdout",
     "output_type": "stream",
     "text": [
      "Total Loss  |Box Loss    |Conf Loss   |No Obj Loss |Class Loss  \n",
      "------------ ------------ ------------ ------------ ------------\n",
      "57.691      |18.693      |28.817      |6.239       |3.942       \n"
     ]
    },
    {
     "name": "stderr",
     "output_type": "stream",
     "text": [
      "Get Boxes: 100%|████████████████████████████████| 58/58 [00:09<00:00,  5.86it/s]\n",
      "mAP:@.5: 100%|████████████████████████████████████| 2/2 [00:01<00:00,  1.32it/s]\n"
     ]
    },
    {
     "name": "stdout",
     "output_type": "stream",
     "text": [
      "\n",
      "Validation mAP: 0.342\n",
      "\n",
      "=== EPOCH 110/114 ===\n",
      "Learning Rate = 3.6893488147419155e-06\n",
      "\n"
     ]
    },
    {
     "name": "stderr",
     "output_type": "stream",
     "text": [
      "Training: 100%|███████████████████████████████| 232/232 [00:33<00:00,  6.98it/s]\n"
     ]
    },
    {
     "name": "stdout",
     "output_type": "stream",
     "text": [
      "Total Loss  |Box Loss    |Conf Loss   |No Obj Loss |Class Loss  \n",
      "------------ ------------ ------------ ------------ ------------\n",
      "47.931      |8.570       |16.005      |5.176       |0.995       \n",
      "\n"
     ]
    },
    {
     "name": "stderr",
     "output_type": "stream",
     "text": [
      "Validating: 100%|███████████████████████████████| 58/58 [00:05<00:00, 10.36it/s]\n"
     ]
    },
    {
     "name": "stdout",
     "output_type": "stream",
     "text": [
      "Total Loss  |Box Loss    |Conf Loss   |No Obj Loss |Class Loss  \n",
      "------------ ------------ ------------ ------------ ------------\n",
      "57.852      |18.722      |29.171      |6.077       |3.883       \n",
      "\n",
      "=== EPOCH 111/114 ===\n",
      "Learning Rate = 3.6893488147419155e-06\n",
      "\n"
     ]
    },
    {
     "name": "stderr",
     "output_type": "stream",
     "text": [
      "Training: 100%|███████████████████████████████| 232/232 [00:33<00:00,  6.89it/s]\n"
     ]
    },
    {
     "name": "stdout",
     "output_type": "stream",
     "text": [
      "Total Loss  |Box Loss    |Conf Loss   |No Obj Loss |Class Loss  \n",
      "------------ ------------ ------------ ------------ ------------\n",
      "48.059      |8.701       |15.973      |5.185       |1.017       \n",
      "\n"
     ]
    },
    {
     "name": "stderr",
     "output_type": "stream",
     "text": [
      "Validating: 100%|███████████████████████████████| 58/58 [00:05<00:00, 10.85it/s]\n"
     ]
    },
    {
     "name": "stdout",
     "output_type": "stream",
     "text": [
      "Total Loss  |Box Loss    |Conf Loss   |No Obj Loss |Class Loss  \n",
      "------------ ------------ ------------ ------------ ------------\n",
      "57.683      |18.732      |28.815      |6.263       |3.873       \n",
      "\n",
      "=== EPOCH 112/114 ===\n",
      "Learning Rate = 3.6893488147419155e-06\n",
      "\n"
     ]
    },
    {
     "name": "stderr",
     "output_type": "stream",
     "text": [
      "Training: 100%|███████████████████████████████| 232/232 [00:33<00:00,  6.95it/s]\n"
     ]
    },
    {
     "name": "stdout",
     "output_type": "stream",
     "text": [
      "Total Loss  |Box Loss    |Conf Loss   |No Obj Loss |Class Loss  \n",
      "------------ ------------ ------------ ------------ ------------\n",
      "47.596      |8.659       |15.839      |4.990       |0.926       \n",
      "\n"
     ]
    },
    {
     "name": "stderr",
     "output_type": "stream",
     "text": [
      "Validating: 100%|███████████████████████████████| 58/58 [00:05<00:00, 10.26it/s]\n"
     ]
    },
    {
     "name": "stdout",
     "output_type": "stream",
     "text": [
      "Total Loss  |Box Loss    |Conf Loss   |No Obj Loss |Class Loss  \n",
      "------------ ------------ ------------ ------------ ------------\n",
      "57.957      |18.642      |29.686      |5.644       |3.986       \n",
      "\n",
      "=== EPOCH 113/114 ===\n",
      "Learning Rate = 2.9514790517935326e-06\n",
      "\n"
     ]
    },
    {
     "name": "stderr",
     "output_type": "stream",
     "text": [
      "Training: 100%|███████████████████████████████| 232/232 [00:33<00:00,  7.01it/s]\n"
     ]
    },
    {
     "name": "stdout",
     "output_type": "stream",
     "text": [
      "Total Loss  |Box Loss    |Conf Loss   |No Obj Loss |Class Loss  \n",
      "------------ ------------ ------------ ------------ ------------\n",
      "47.499      |8.488       |15.781      |5.170       |0.878       \n",
      "\n"
     ]
    },
    {
     "name": "stderr",
     "output_type": "stream",
     "text": [
      "Validating: 100%|███████████████████████████████| 58/58 [00:05<00:00, 10.29it/s]\n"
     ]
    },
    {
     "name": "stdout",
     "output_type": "stream",
     "text": [
      "Total Loss  |Box Loss    |Conf Loss   |No Obj Loss |Class Loss  \n",
      "------------ ------------ ------------ ------------ ------------\n",
      "57.847      |18.638      |29.223      |6.001       |3.984       \n",
      "\n",
      "=== EPOCH 114/114 ===\n",
      "Learning Rate = 2.9514790517935326e-06\n",
      "\n"
     ]
    },
    {
     "name": "stderr",
     "output_type": "stream",
     "text": [
      "Training: 100%|███████████████████████████████| 232/232 [00:33<00:00,  7.00it/s]\n"
     ]
    },
    {
     "name": "stdout",
     "output_type": "stream",
     "text": [
      "Total Loss  |Box Loss    |Conf Loss   |No Obj Loss |Class Loss  \n",
      "------------ ------------ ------------ ------------ ------------\n",
      "47.481      |8.659       |15.636      |4.967       |1.040       \n",
      "\n"
     ]
    },
    {
     "name": "stderr",
     "output_type": "stream",
     "text": [
      "Validating: 100%|███████████████████████████████| 58/58 [00:06<00:00,  9.53it/s]\n"
     ]
    },
    {
     "name": "stdout",
     "output_type": "stream",
     "text": [
      "Total Loss  |Box Loss    |Conf Loss   |No Obj Loss |Class Loss  \n",
      "------------ ------------ ------------ ------------ ------------\n",
      "57.782      |18.744      |28.946      |6.186       |3.907       \n"
     ]
    },
    {
     "name": "stderr",
     "output_type": "stream",
     "text": [
      "Get Boxes: 100%|████████████████████████████████| 58/58 [00:10<00:00,  5.80it/s]\n",
      "mAP:@.5: 100%|████████████████████████████████████| 2/2 [00:00<00:00,  3.36it/s]\n"
     ]
    },
    {
     "name": "stdout",
     "output_type": "stream",
     "text": [
      "\n",
      "Validation mAP: 0.343\n",
      "\n",
      "***Script finished: 12:39:26\n",
      "\n",
      "Time elapsed: 1:23:15.761123\n"
     ]
    }
   ],
   "source": [
    "if __name__ == \"__main__\":\n",
    "    print(\"Starting script\\n\")\n",
    "    logger.info(\"Starting script\\n\")\n",
    "    #print(torch.cuda.is_available())\n",
    "    main()"
   ]
  },
  {
   "cell_type": "code",
   "execution_count": 19,
   "id": "ebb2ee54-7f44-4ec5-a2e7-8b0f7aa7dda7",
   "metadata": {},
   "outputs": [
    {
     "data": {
      "image/png": "[encoded data removed]",
      "text/plain": [
       "<Figure size 800x500 with 6 Axes>"
      ]
     },
     "metadata": {},
     "output_type": "display_data"
    }
   ],
   "source": [
    "#plt.figure(figsize=(8,8))\n",
    "fig, axs = plt.subplots(2,3, figsize=(8, 5))\n",
    "fig.suptitle('OPTIM BED Loss & mAP', fontsize=15)\n",
    "\n",
    "plt.subplot(2,3,1)\n",
    "plt.plot(train_total_loss, label=\"train\")\n",
    "plt.plot(val_total_loss, label=\"val\")\n",
    "plt.title(\"Total Loss\")\n",
    "plt.xlabel(\"Epochs\")\n",
    "plt.ylabel(\"Loss\")\n",
    "plt.legend()\n",
    "plt.grid()\n",
    "\n",
    "plt.subplot(2,3,2)\n",
    "plt.plot(train_box_loss, label=\"train\")\n",
    "plt.plot(val_box_loss, label=\"val\")\n",
    "plt.title(\"Box Loss\")\n",
    "plt.xlabel(\"Epochs\")\n",
    "plt.ylabel(\"Loss\")\n",
    "plt.legend()\n",
    "plt.grid()\n",
    "\n",
    "plt.subplot(2,3,3)\n",
    "plt.plot(train_confidence_loss, label=\"train\")\n",
    "plt.plot(val_confidence_loss, label=\"val\")\n",
    "plt.title(\"Confidence Loss\")\n",
    "plt.xlabel(\"Epochs\")\n",
    "plt.ylabel(\"Loss\")\n",
    "plt.legend()\n",
    "plt.grid()\n",
    "\n",
    "plt.subplot(2,3,4)\n",
    "plt.plot(train_noobj_loss, label=\"train\")\n",
    "plt.plot(val_noobj_loss, label=\"val\")\n",
    "plt.title(\"NoObj Loss\")\n",
    "plt.xlabel(\"Epochs\")\n",
    "plt.ylabel(\"Loss\")\n",
    "plt.legend()\n",
    "plt.grid()\n",
    "\n",
    "plt.subplot(2,3,5)\n",
    "plt.plot(train_class_loss, label=\"train\")\n",
    "plt.plot(val_class_loss, label=\"val\")\n",
    "plt.title(\"Class Loss\")\n",
    "plt.xlabel(\"Epochs\")\n",
    "plt.ylabel(\"Loss\")\n",
    "plt.legend()\n",
    "plt.grid()\n",
    "\n",
    "plt.subplot(2,3,6)\n",
    "plt.plot(range(0, EPOCHS+1, 5), [0]+val_mAP, label=\"val mAP\")\n",
    "plt.title(\"Val mAP\")\n",
    "plt.ylim([0,1])\n",
    "plt.xlabel(\"Epochs\")\n",
    "plt.ylabel(\"mAP:@.50\")\n",
    "plt.legend()\n",
    "plt.grid()\n",
    "\n",
    "plt.tight_layout()\n",
    "plt.savefig(log_path + \"bed_loss_ma.png\")\n",
    "plt.show()"
   ]
  },
  {
   "cell_type": "code",
   "execution_count": 20,
   "id": "f942a742-dfe5-4585-af50-f04e4bf6579f",
   "metadata": {},
   "outputs": [
    {
     "data": {
      "image/png": "[encoded data removed]",
      "text/plain": [
       "<Figure size 640x480 with 1 Axes>"
      ]
     },
     "metadata": {},
     "output_type": "display_data"
    }
   ],
   "source": [
    "plt.plot(train_total_loss, label=\"train\")\n",
    "plt.plot(val_total_loss, label=\"val\")\n",
    "plt.title(\"Total Loss\")\n",
    "plt.xlabel(\"Epochs\")\n",
    "plt.ylabel(\"Loss\")\n",
    "plt.legend()\n",
    "plt.grid()\n",
    "plt.savefig(log_path + \"bed_loss_total.png\")\n",
    "plt.show()"
   ]
  },
  {
   "cell_type": "code",
   "execution_count": 21,
   "id": "4bf82c1e-9bff-4fab-a7c4-c6753eb939f6",
   "metadata": {},
   "outputs": [
    {
     "data": {
      "image/png": "[encoded data removed]",
      "text/plain": [
       "<Figure size 640x480 with 1 Axes>"
      ]
     },
     "metadata": {},
     "output_type": "display_data"
    }
   ],
   "source": [
    "plt.plot(train_box_loss, label=\"train\")\n",
    "#plt.scatter(range(EPOCHS), train_box_loss)\n",
    "plt.plot(val_box_loss, label=\"val\")\n",
    "#plt.scatter(range(EPOCHS), val_box_loss)\n",
    "plt.title(\"Box Loss\")\n",
    "plt.xlabel(\"Epochs\")\n",
    "plt.ylabel(\"Loss\")\n",
    "plt.legend()\n",
    "plt.grid()\n",
    "plt.savefig(log_path + \"bed_loss_box.png\")\n",
    "plt.show()"
   ]
  },
  {
   "cell_type": "code",
   "execution_count": 22,
   "id": "7b3c3a27-76d5-4149-8fec-2f69d4c14958",
   "metadata": {},
   "outputs": [
    {
     "data": {
      "image/png": "[encoded data removed]",
      "text/plain": [
       "<Figure size 640x480 with 1 Axes>"
      ]
     },
     "metadata": {},
     "output_type": "display_data"
    }
   ],
   "source": [
    "plt.plot(train_confidence_loss, label=\"train\")\n",
    "plt.plot(val_confidence_loss, label=\"val\")\n",
    "plt.title(\"Confidence Loss\")\n",
    "plt.xlabel(\"Epochs\")\n",
    "plt.ylabel(\"Loss\")\n",
    "plt.legend()\n",
    "plt.grid()\n",
    "plt.savefig(log_path + \"bed_loss_conf.png\")\n",
    "plt.show()"
   ]
  },
  {
   "cell_type": "code",
   "execution_count": 23,
   "id": "07af6031-83fd-45fe-bad2-3b813cbea7e8",
   "metadata": {},
   "outputs": [
    {
     "data": {
      "image/png": "[encoded data removed]",
      "text/plain": [
       "<Figure size 640x480 with 1 Axes>"
      ]
     },
     "metadata": {},
     "output_type": "display_data"
    }
   ],
   "source": [
    "plt.plot(train_noobj_loss, label=\"train\")\n",
    "plt.plot(val_noobj_loss, label=\"val\")\n",
    "plt.title(\"NoObj Loss\")\n",
    "plt.xlabel(\"Epochs\")\n",
    "plt.ylabel(\"Loss\")\n",
    "plt.ylim([0,50])\n",
    "plt.legend()\n",
    "plt.grid()\n",
    "plt.savefig(log_path + \"bed_loss_noobj.png\")\n",
    "plt.show()"
   ]
  },
  {
   "cell_type": "code",
   "execution_count": 24,
   "id": "a07633ae-085c-4fdb-abf2-6bcad83ba733",
   "metadata": {},
   "outputs": [
    {
     "data": {
      "image/png": "[encoded data removed]",
      "text/plain": [
       "<Figure size 640x480 with 1 Axes>"
      ]
     },
     "metadata": {},
     "output_type": "display_data"
    }
   ],
   "source": [
    "plt.plot(train_class_loss, label=\"train\")\n",
    "plt.plot(val_class_loss, label=\"val\")\n",
    "plt.title(\"Class Loss\")\n",
    "plt.xlabel(\"Epochs\")\n",
    "plt.ylabel(\"Loss\")\n",
    "plt.legend()\n",
    "plt.grid()\n",
    "plt.savefig(log_path + \"bed_loss_class.png\")\n",
    "plt.show()"
   ]
  },
  {
   "cell_type": "code",
   "execution_count": 25,
   "id": "8191af27-dd22-4718-ab87-6f118df9e476",
   "metadata": {},
   "outputs": [
    {
     "data": {
      "image/png": "[encoded data removed]",
      "text/plain": [
       "<Figure size 800x300 with 3 Axes>"
      ]
     },
     "metadata": {},
     "output_type": "display_data"
    }
   ],
   "source": [
    "# val_class_AP\n",
    "# val_class_precision\n",
    "# val_class_recall\n",
    "\n",
    "smoke_prec = []\n",
    "fire_prec = []\n",
    "for prec in val_class_precision:\n",
    "    smoke_prec.append(prec[0])\n",
    "    fire_prec.append(prec[1])\n",
    "\n",
    "smoke_recall = []\n",
    "fire_recall = []\n",
    "for rec in val_class_recall:\n",
    "    smoke_recall.append(rec[0])\n",
    "    fire_recall.append(rec[1])\n",
    "\n",
    "smoke_ap = []\n",
    "fire_ap = []\n",
    "for ap in val_class_AP:\n",
    "    smoke_ap.append(ap[0])\n",
    "    fire_ap.append(ap[1])\n",
    "\n",
    "fig, axs = plt.subplots(1, 3, figsize=(8, 3))\n",
    "fig.suptitle('OPTIM BED precision, recall, class AP')\n",
    "\n",
    "plt.subplot(1, 3, 1)\n",
    "plt.plot(smoke_prec, label=\"smoke\")\n",
    "plt.plot(fire_prec, label=\"fire\")\n",
    "plt.title(\"Precision\")\n",
    "plt.ylim([0,1])\n",
    "plt.grid()\n",
    "plt.legend()\n",
    "\n",
    "plt.subplot(1, 3, 2)\n",
    "plt.plot(smoke_recall, label=\"smoke\")\n",
    "plt.plot(fire_recall, label=\"fire\")\n",
    "plt.title(\"Recall\")\n",
    "plt.ylim([0,1])\n",
    "plt.grid()\n",
    "plt.legend()\n",
    "\n",
    "plt.subplot(1, 3, 3)\n",
    "plt.plot(smoke_ap, label=\"smoke\")\n",
    "plt.plot(fire_ap, label=\"fire\")\n",
    "plt.title(\"Class AP\")\n",
    "plt.ylim([0,1])\n",
    "plt.grid()\n",
    "plt.legend()\n",
    "\n",
    "plt.tight_layout()\n",
    "plt.savefig(log_path + \"bed_precision_recall_classAP.png\")\n",
    "plt.show()"
   ]
  },
  {
   "cell_type": "code",
   "execution_count": 26,
   "id": "ab478d8e-df7f-4977-a5cb-d050b8de5d6b",
   "metadata": {},
   "outputs": [
    {
     "data": {
      "image/png": "[encoded data removed]",
      "text/plain": [
       "<Figure size 800x300 with 2 Axes>"
      ]
     },
     "metadata": {},
     "output_type": "display_data"
    }
   ],
   "source": [
    "fig, axs = plt.subplots(1, 2, figsize=(8, 3))\n",
    "fig.suptitle('Optim BED mAP')\n",
    "\n",
    "plt.subplot(1,2,1)\n",
    "plt.plot(train_mAP, label=\"train mAP\")\n",
    "plt.title(\"Train mAP\")\n",
    "plt.ylim([0,1])\n",
    "plt.xlabel(\"Epochs\")\n",
    "plt.ylabel(\"mAP:@.50\")\n",
    "plt.legend()\n",
    "plt.grid()\n",
    "\n",
    "plt.subplot(1,2,2)\n",
    "plt.plot(val_mAP, label=\"val mAP\")\n",
    "plt.title(\"Val mAP\")\n",
    "plt.ylim([0,1])\n",
    "plt.xlabel(\"Epochs\")\n",
    "plt.ylabel(\"mAP:@.50\")\n",
    "plt.legend()\n",
    "plt.grid()\n",
    "\n",
    "plt.tight_layout()\n",
    "plt.savefig(log_path + \"bed_mAP.png\")\n",
    "plt.show()"
   ]
  },
  {
   "cell_type": "code",
   "execution_count": 27,
   "id": "2503a5a7-422f-4adc-8056-32e5fb781ac0",
   "metadata": {},
   "outputs": [
    {
     "data": {
      "image/png": "[encoded data removed]",
      "text/plain": [
       "<Figure size 500x400 with 1 Axes>"
      ]
     },
     "metadata": {},
     "output_type": "display_data"
    }
   ],
   "source": [
    "fig, axs = plt.subplots(figsize=(5, 4))\n",
    "\n",
    "plt.plot(range(0, EPOCHS+1, 15), [0]+train_mAP, label=\"train mAP\")\n",
    "plt.plot(range(0, EPOCHS+1, 5), [0]+val_mAP, label=\"val mAP\")\n",
    "plt.title(\"Train vs Val mAP:@.50\")\n",
    "plt.xlim([0,EPOCHS])\n",
    "plt.ylim([0,1])\n",
    "plt.xlabel(\"Epochs\")\n",
    "plt.ylabel(\"mAP:@.50\")\n",
    "plt.legend()\n",
    "plt.grid()\n",
    "\n",
    "plt.savefig(log_path + \"bed_mAP_together.png\")\n",
    "plt.show()"
   ]
  },
  {
   "cell_type": "code",
   "execution_count": null,
   "id": "1dce1602-74b1-46c8-b653-4c1910d15251",
   "metadata": {},
   "outputs": [],
   "source": []
  }
 ],
 "metadata": {
  "kernelspec": {
   "display_name": "Python 3 (ipykernel)",
   "language": "python",
   "name": "python3"
  },
  "language_info": {
   "codemirror_mode": {
    "name": "ipython",
    "version": 3
   },
   "file_extension": ".py",
   "mimetype": "text/x-python",
   "name": "python",
   "nbconvert_exporter": "python",
   "pygments_lexer": "ipython3",
   "version": "3.10.9"
  }
 },
 "nbformat": 4,
 "nbformat_minor": 5
}
