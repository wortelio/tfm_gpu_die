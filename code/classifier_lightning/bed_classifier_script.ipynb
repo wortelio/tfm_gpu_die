{
 "cells": [
  {
   "cell_type": "code",
   "execution_count": 1,
   "id": "6e8a513a-1549-4be7-af63-4f9542994187",
   "metadata": {},
   "outputs": [],
   "source": [
    "import os\n",
    "import sys\n",
    "import logging\n",
    "from pathlib import Path\n",
    "import datetime\n",
    "#import xml.etree.ElementTree as ET\n",
    "\n",
    "import numpy as np\n",
    "import math\n",
    "#import pandas as pd\n",
    "import random\n",
    "\n",
    "import torch\n",
    "from torch.utils.data import Dataset\n",
    "from torch.utils.data import DataLoader\n",
    "\n",
    "import albumentations as A\n",
    "from albumentations.pytorch import ToTensorV2\n",
    "\n",
    "import matplotlib.pyplot as plt\n",
    "\n",
    "import torch.nn as nn \n",
    "from torch.nn.utils import parameters_to_vector\n",
    "import torch.optim as optim\n",
    "\n",
    "import lightning as L\n",
    "from lightning.pytorch.callbacks import TQDMProgressBar\n",
    "import torchmetrics\n",
    "from torchmetrics.classification import BinaryAccuracy, BinaryPrecision, BinaryRecall, BinaryF1Score\n",
    "\n",
    "import cv2"
   ]
  },
  {
   "cell_type": "code",
   "execution_count": 2,
   "id": "423ca7c6-5d21-460f-9d55-073aceab5616",
   "metadata": {},
   "outputs": [],
   "source": [
    "#torch.cuda.empty_cache()\n",
    "torch.set_float32_matmul_precision(\"medium\")"
   ]
  },
  {
   "cell_type": "markdown",
   "id": "6dfc923c-eb11-4077-88d4-82c09c17e1a1",
   "metadata": {},
   "source": [
    "# Logger"
   ]
  },
  {
   "cell_type": "code",
   "execution_count": 3,
   "id": "0b4e5f0e-110e-4319-aeb1-ea3fcc692ef9",
   "metadata": {},
   "outputs": [],
   "source": [
    "log_path = 'results/'\n",
    "\n",
    "logger = logging.getLogger(\"GonLogger\")\n",
    "logger.propagate = False\n",
    "logger.setLevel(logging.INFO)\n",
    "file_handler = logging.FileHandler(log_path + 'logfile.log')\n",
    "formatter = logging.Formatter('%(message)s')\n",
    "file_handler.setFormatter(formatter)\n",
    "\n",
    "# add file handler to logger\n",
    "logger.addHandler(file_handler)\n",
    "\n",
    "logger.info('BED Classifier with Pytorch Lightning.')"
   ]
  },
  {
   "cell_type": "markdown",
   "id": "2e26c3a8-73af-41d9-a6c7-998f379f4892",
   "metadata": {},
   "source": [
    "# Folders"
   ]
  },
  {
   "cell_type": "code",
   "execution_count": 4,
   "id": "378e5eb7-ce55-4489-a516-01789e58910e",
   "metadata": {},
   "outputs": [
    {
     "name": "stdout",
     "output_type": "stream",
     "text": [
      "Train dir: ['labels', '.ipynb_checkpoints', 'images']\n",
      "val dir: ['labels', '.ipynb_checkpoints', 'images']\n"
     ]
    }
   ],
   "source": [
    "ds_dir = '../../datasets/ds2fire/dfire_yolo/'\n",
    "\n",
    "train_dir = ds_dir + 'train/'\n",
    "train_imgs = train_dir + 'images/'\n",
    "train_labels = train_dir + 'labels/'\n",
    "\n",
    "val_dir = ds_dir + 'test/'\n",
    "val_imgs = val_dir + 'images/'\n",
    "val_labels = val_dir + 'labels/'\n",
    "\n",
    "print(f'Train dir: {os.listdir(train_dir)}')\n",
    "print(f'val dir: {os.listdir(val_dir)}')"
   ]
  },
  {
   "cell_type": "markdown",
   "id": "80118e57-7ba6-4ea3-bac9-d5c27f05863c",
   "metadata": {},
   "source": [
    "# Hyperparameters and Config"
   ]
  },
  {
   "cell_type": "code",
   "execution_count": 5,
   "id": "243f4966-29cb-45c0-84a4-8e33c37656a0",
   "metadata": {},
   "outputs": [],
   "source": [
    "CLASSES = [\"smoke\", \"fire\"]\n",
    "N_CLASSES = len(CLASSES)\n",
    "\n",
    "IMG_DIM = {'W':224, 'H':224} # (W, H)\n",
    "IMG_H = IMG_DIM['H']\n",
    "IMG_W = IMG_DIM['W']\n",
    "\n",
    "''' ============================\n",
    "    Hyperparameters and More\n",
    "============================ '''\n",
    "\n",
    "MODEL = \"BED\"\n",
    "\n",
    "LEARNING_RATE = 0.001\n",
    "DEVICE = \"cuda\" if torch.cuda.is_available() else \"cpu\"\n",
    "BATCH_SIZE = 64 \n",
    "WEIGHT_DECAY = 1e-4\n",
    "EPOCHS = 100\n",
    "NUM_WORKERS = 8\n",
    "PIN_MEMORY = True\n",
    "PRETRAINED = False\n",
    "LOAD_MODEL = False\n",
    "if MODEL == \"BED\":\n",
    "    LOAD_MODEL_FILE = log_path + \"bed_classifier_best.pt\"\n",
    "elif MODEL == \"SQUEEZE\":\n",
    "    LOAD_MODEL_FILE = log_path + \"squeeze_classifier_best.pt\"\n",
    "\n",
    "LOSS_FN = \"BCE\"\n",
    "SMOKE_PRECISION_WEIGHT = 0.7\n",
    "\n",
    "TRAIN_IMG_DIR = train_imgs\n",
    "TRAIN_LABEL_DIR = train_labels\n",
    "VAL_IMG_DIR = val_imgs\n",
    "VAL_LABEL_DIR = val_labels\n",
    "\n",
    "DS_LEN = None"
   ]
  },
  {
   "cell_type": "markdown",
   "id": "1e4b172f-2792-4ef1-b1c8-2d492ecbe197",
   "metadata": {},
   "source": [
    "# Dataset"
   ]
  },
  {
   "cell_type": "markdown",
   "id": "525abf46-8138-4808-bb69-7dbaa55807d9",
   "metadata": {},
   "source": [
    "# DFire"
   ]
  },
  {
   "cell_type": "code",
   "execution_count": 6,
   "id": "f2c01c04-ca3b-4ff1-99c6-5d2bc76f17dc",
   "metadata": {},
   "outputs": [],
   "source": [
    "class DFireDataset(Dataset):\n",
    "    '''\n",
    "    Creates a Pytorch Dataset to train the Yolov1 Network.\n",
    "    Encodes labels to match the format [xcell, ycell, w, h, confidence, class_0 (smoke), class_1 (fire)]\n",
    "        - Final encoding format is: [xcell, ycell, w, h, conf=1, smoke?, fire?]\n",
    "\n",
    "    Discard images when there are more than 1 object in the same cell\n",
    "    \n",
    "    Arguments:\n",
    "        - img_h:            image height\n",
    "        - img_w:            image width\n",
    "        - img_dir:          path to images folder\n",
    "        - label_dir:        path to labels folder\n",
    "        - num_classes:      number of classes\n",
    "        - transform:        transformation applied to input images -> Albumentations\n",
    "        - target_transform: transformation applied to labels -> nothing by default\n",
    "\n",
    "    Return:\n",
    "        - img:              1 image of the dataset\n",
    "        - target:           corresponding label encoded: [smoke, fire]\n",
    "    '''\n",
    "\n",
    "    def __init__(self, img_h, img_w, img_dir, label_dir, num_classes,\n",
    "                 ds_len,\n",
    "                 transform=None, target_transform=None):\n",
    "        self.img_h = img_h\n",
    "        self.img_w = img_w\n",
    "        self.img_dir = img_dir\n",
    "        self.label_dir = label_dir\n",
    "        self.num_classes = num_classes\n",
    "        self.ds_len = ds_len\n",
    "        self.transform = transform\n",
    "        self.target_transform = target_transform\n",
    "        \n",
    "        self.except_transform = A.Compose([\n",
    "                                    A.Resize(self.img_h, self.img_w, p=1),\n",
    "                                    ToTensorV2(p=1),\n",
    "                                    ]\n",
    "                                )\n",
    "\n",
    "        self.labels_list = sorted(\n",
    "            [\n",
    "                os.path.join(self.label_dir, file_name)\n",
    "                for file_name in os.listdir(self.label_dir)\n",
    "                if file_name.endswith(\".txt\")\n",
    "            ]\n",
    "        )\n",
    "    \n",
    "        if ds_len is not None:\n",
    "            random.seed(123)\n",
    "            random.shuffle(self.labels_list)\n",
    "            self.images_path, self.labels = self.__build_ds__(self.labels_list[:self.ds_len])\n",
    "            self.num_samples = len(self.labels_list[:self.ds_len])\n",
    "        else:\n",
    "            self.images_path, self.labels = self.__build_ds__(self.labels_list)\n",
    "            self.num_samples = len(self.labels_list)\n",
    "\n",
    "    def __len__(self):\n",
    "        return self.num_samples   \n",
    "\n",
    "    def __build_ds__(self, labels_list):\n",
    "        labels = []\n",
    "        images = []\n",
    "        wrong_imgs = 0\n",
    "        empty = 0\n",
    "        only_smoke = 0\n",
    "        only_fire = 0\n",
    "        smoke_fire = 0\n",
    "                \n",
    "        for label in labels_list:\n",
    "            fname = Path(label).stem\n",
    "            image_path = self.img_dir + fname + '.jpg'   \n",
    "            #print(fname, image_path)\n",
    "                                   \n",
    "            #if cv2.imread(image_path) is None:\n",
    "            if cv2.imread(image_path).data is None:\n",
    "                print(f'{image_path} cannot be read by cv2 -> removed')\n",
    "                wrong_imgs += 1\n",
    "            \n",
    "            else:\n",
    "                \n",
    "                label_array = np.zeros((self.num_classes))\n",
    "            \n",
    "                with open(label) as f:\n",
    "                    lines = f.readlines()\n",
    "                       \n",
    "                    for line in lines:\n",
    "                        class_id, _, _, _, _ = line.strip().split()\n",
    "                        class_id = int(class_id)\n",
    "                        if np.array_equal(label_array, np.array([1, 1])):\n",
    "                            break\n",
    "                        else:\n",
    "                            label_array[class_id] = 1.\n",
    "\n",
    "                    if np.array_equal(label_array, np.array([1, 1])):\n",
    "                        smoke_fire += 1\n",
    "                    elif np.array_equal(label_array, np.array([0, 1])):\n",
    "                        only_fire += 1\n",
    "                    elif np.array_equal(label_array, np.array([1, 0])):\n",
    "                        only_smoke += 1\n",
    "                    elif np.array_equal(label_array, np.array([0, 0])):\n",
    "                        empty += 1\n",
    "                    else:\n",
    "                        print(\"Wrong label in DFire dataset\")\n",
    "                        logger.info(\"Wrong label in DFire dataset\")\n",
    "                        \n",
    "                    labels.append(label_array)\n",
    "                    images.append(image_path)\n",
    "        \n",
    "        print(f'DFire Removed wrong images: {wrong_imgs}')\n",
    "        logger.info(f'DFire Removed wrong images: {wrong_imgs}')\n",
    "        print(f'DFire empty images: {empty}')\n",
    "        logger.info(f'DFire empty images: {empty}')\n",
    "        print(f'DFire only smoke images: {only_smoke}')\n",
    "        logger.info(f'DFire only smoke images: {only_smoke}')\n",
    "        print(f'DFire only fire images: {only_fire}')\n",
    "        logger.info(f'DFire only fire images: {only_fire}')\n",
    "        print(f'DFire smoke and fire images: {smoke_fire}')\n",
    "        logger.info(f'DFire smoke and fire images: {smoke_fire}')\n",
    "\n",
    "        labels_np = np.array(labels)\n",
    "        labels_tensor = torch.tensor(labels_np, dtype=torch.float32)\n",
    "        images_array = np.array(images)\n",
    "        \n",
    "        return images_array, labels_tensor\n",
    "\n",
    "    def __getitem__(self, index):\n",
    "\n",
    "        # Image processing\n",
    "        img_file = self.images_path[index]\n",
    "        img = cv2.imread(img_file)\n",
    "        img = cv2.cvtColor(img, cv2.COLOR_BGR2RGB)   \n",
    "\n",
    "        # Labels processing\n",
    "        label = self.labels[index]\n",
    "        \n",
    "        # Data Augmentation\n",
    "        if self.transform is not None:\n",
    "            try:\n",
    "                aug = self.transform(image=img)\n",
    "                img = aug['image'] / 255.\n",
    "            except:\n",
    "                print(f'Error trying to augment image {img_file}')\n",
    "                aug = self.except_transform(image=img)\n",
    "                img = aug['image'] / 255.\n",
    "        \n",
    "        return img, label"
   ]
  },
  {
   "cell_type": "markdown",
   "id": "d26df9f8-d9ed-4368-96c8-5a2f41a0aaf9",
   "metadata": {},
   "source": [
    "# Loss"
   ]
  },
  {
   "cell_type": "code",
   "execution_count": 10,
   "id": "1cff6a5c-3dd1-4e7c-b054-98c9e3f8b20a",
   "metadata": {},
   "outputs": [],
   "source": [
    "class BCE_LOSS(nn.Module):\n",
    "    '''\n",
    "    dataset output: (image, {smoke: x, fire: x})\n",
    "    model output: {smoke: x, fire: x}\n",
    "    '''\n",
    "\n",
    "    def __init__(self, device, smoke_precision_weight):\n",
    "        super(BCE_LOSS, self).__init__()\n",
    "        self.smoke_precision_weight = smoke_precision_weight\n",
    "        self.device = device\n",
    "        self.pos_weight = torch.tensor([self.smoke_precision_weight]).to(self.device)\n",
    "        self.bce_smoke = nn.BCEWithLogitsLoss(reduction='sum', pos_weight=self.pos_weight)\n",
    "        self.bce_fire = nn.BCEWithLogitsLoss(reduction='sum')\n",
    "        \n",
    "        self.eps = 1e-10\n",
    "        \n",
    "        self.smoke_loss = 0\n",
    "        self.fire_loss = 0\n",
    "\n",
    "    def forward(self, predictions, ground_truth):\n",
    "        \n",
    "        # print(f'Ground trunth: {ground_truth}')\n",
    "        # print(f'Predictions: {predictions}')\n",
    "        \n",
    "        # BCELoss: ALWAYS (prediction, target) -> it crashes with NaN if order is wrong\n",
    "        smoke_loss = self.bce_smoke(predictions[..., 0],\n",
    "                                    ground_truth[..., 0])\n",
    "        self.smoke_loss = smoke_loss.item()\n",
    "        fire_loss = self.bce_fire(predictions[..., 1],\n",
    "                                  ground_truth[..., 1])\n",
    "        self.fire_loss = fire_loss.item()\n",
    "        \n",
    "        total_loss = smoke_loss + fire_loss\n",
    "        \n",
    "        return total_loss\n",
    "\n",
    "    def get_last_losses(self):     \n",
    "        return {\n",
    "            'smoke_loss': self.smoke_loss,\n",
    "            'fire_loss': self.fire_loss,\n",
    "        }"
   ]
  },
  {
   "cell_type": "markdown",
   "id": "7eae5559-3305-45de-bd50-3f08b3cfbf12",
   "metadata": {},
   "source": [
    "# Model: BED Less Layers"
   ]
  },
  {
   "cell_type": "code",
   "execution_count": 11,
   "id": "898bc23b-d5c6-498c-a481-5e020468b752",
   "metadata": {},
   "outputs": [],
   "source": [
    "class BED_CLASSIFIER(L.LightningModule):\n",
    "    def __init__(self, num_classes, \n",
    "                 device, smoke_weight, learning_rate, weight_decay,\n",
    "                 Pretrained=False,\n",
    "                 in_channels=3):\n",
    "        super().__init__()\n",
    "        self.in_channels = in_channels\n",
    "        self.last_channels = 64\n",
    "        self.num_classes = num_classes\n",
    "        self.loss_fn = BCE_LOSS(device, smoke_weight)\n",
    "        self.lr = learning_rate\n",
    "        self.weight_decay = weight_decay\n",
    "        # self.accuracy = torchmetrics.classification.MultilabelAccuracy(num_labels = N_CLASSES, \n",
    "        #                                                                threshold = 0.5, \n",
    "        #                                                                average = None).to(DEVICE)\n",
    "        # self.precision = torchmetrics.classification.MultilabelPrecision(num_labels = N_CLASSES, \n",
    "        #                                                                  threshold = 0.5, \n",
    "        #                                                                  average = None).to(DEVICE)\n",
    "        # self.recall = torchmetrics.classification.MultilabelRecall(num_labels = N_CLASSES, \n",
    "        #                                                            threshold = 0.5, \n",
    "        #                                                            average = None).to(DEVICE)\n",
    "        # self.f1 = torchmetrics.classification.MultilabelF1Score(num_labels = N_CLASSES, \n",
    "        #                                                         threshold = 0.5, \n",
    "        #                                                         average = None).to(DEVICE)\n",
    "        self.smoke_acc = BinaryAccuracy()\n",
    "        self.smoke_pre = BinaryPrecision()\n",
    "        self.smoke_rec = BinaryRecall()\n",
    "        self.smoke_f1 = BinaryF1Score()\n",
    "        self.fire_acc = BinaryAccuracy()\n",
    "        self.fire_pre = BinaryPrecision()\n",
    "        self.fire_rec = BinaryRecall()\n",
    "        self.fire_f1 = BinaryF1Score()\n",
    "        \n",
    "        # Model Arquitecture and Initialization\n",
    "        self.model = self.__create_BED__()\n",
    "        \n",
    "        self.pool = nn.AdaptiveAvgPool2d((1, 1))\n",
    "        self.smoke = nn.Sequential(\n",
    "            nn.Dropout(p=0.2),\n",
    "            nn.Linear(in_features=self.last_channels, out_features=16),\n",
    "            nn.ReLU(),\n",
    "            nn.Linear(in_features=16, out_features=1)\n",
    "        )\n",
    "        self.fire = nn.Sequential(\n",
    "            nn.Dropout(p=0.2),\n",
    "            nn.Linear(in_features=self.last_channels, out_features=16),\n",
    "            nn.ReLU(),\n",
    "            nn.Linear(in_features=16, out_features=1)\n",
    "        )\n",
    "\n",
    "        if Pretrained == False:\n",
    "            for m in self.modules():\n",
    "                if isinstance(m, nn.Conv2d):\n",
    "                    nn.init.kaiming_normal_(m.weight, mode='fan_in',\n",
    "                        nonlinearity='relu'\n",
    "                    )\n",
    "                    #print(\"Initialize conv2d\")\n",
    "                    if m.bias is not None:\n",
    "                            nn.init.constant_(m.bias, 0)\n",
    "                elif isinstance(m, nn.Linear):\n",
    "                    nn.init.normal_(m.weight, 0, 0.01)\n",
    "                    nn.init.constant_(m.bias, 0)\n",
    "                    #print(\"Initialize linear\")\n",
    "        \n",
    "    def __create_BED__(self):\n",
    "        BED_model = nn.Sequential(\n",
    "            # Conv2d [in_channels, out_channels, kernel_size, stride, padding, bias]\n",
    "\n",
    "            # CNNBlock 224x224\n",
    "            nn.Conv2d(self.in_channels, 64, kernel_size=3, stride=1, padding=1,  bias=False),\n",
    "            nn.BatchNorm2d(64, affine=False),\n",
    "            nn.ReLU(),\n",
    "            nn.Dropout2d(p=0.3),\n",
    "\n",
    "            # CNNBlock 112x112\n",
    "            nn.MaxPool2d(kernel_size=2, stride=2),\n",
    "            nn.Conv2d(64, 24, kernel_size=3, stride=1, padding=1,  bias=False),\n",
    "            nn.BatchNorm2d(24, affine=False),\n",
    "            nn.ReLU(),\n",
    "            nn.Dropout2d(p=0.3),\n",
    "\n",
    "            # CNNBlock 56x56\n",
    "            nn.MaxPool2d(kernel_size=2, stride=2),\n",
    "            # kernel = 1 in github\n",
    "            nn.Conv2d(24, 16, kernel_size=1, stride=1, padding=0,  bias=False),\n",
    "            nn.BatchNorm2d(16, affine=False),\n",
    "            nn.ReLU(),\n",
    "            \n",
    "            nn.Conv2d(16, 32, kernel_size=3, stride=1, padding=1,  bias=False),\n",
    "            nn.BatchNorm2d(32, affine=False),\n",
    "            nn.ReLU(),\n",
    "            \n",
    "            # kernel = 1 in github\n",
    "            nn.Conv2d(32, 32, kernel_size=1, stride=1, padding=0,  bias=False),\n",
    "            nn.BatchNorm2d(32, affine=False),\n",
    "            nn.ReLU(),\n",
    "            \n",
    "            nn.Conv2d(32, 64, kernel_size=3, stride=1, padding=1,  bias=False),\n",
    "            nn.BatchNorm2d(64, affine=False),\n",
    "            nn.ReLU(),\n",
    "\n",
    "            # CNNBlock 28x28\n",
    "            nn.MaxPool2d(kernel_size=2, stride=2),\n",
    "            nn.Conv2d(64, 32, kernel_size=1, stride=1, padding=0,  bias=False),\n",
    "            nn.BatchNorm2d(32, affine=False),\n",
    "            nn.ReLU(),\n",
    "            \n",
    "            nn.Conv2d(32, 64, kernel_size=3, stride=1, padding=1,  bias=False),\n",
    "            nn.BatchNorm2d(64, affine=False),\n",
    "            nn.ReLU(),\n",
    "            \n",
    "            nn.Conv2d(64, 32, kernel_size=1, stride=1, padding=0,  bias=False),\n",
    "            nn.BatchNorm2d(32, affine=False),\n",
    "            nn.ReLU(),\n",
    "            \n",
    "            nn.Conv2d(32, 64, kernel_size=3, stride=1, padding=1,  bias=False),\n",
    "            nn.BatchNorm2d(64, affine=False),\n",
    "            nn.ReLU(),\n",
    "            \n",
    "            nn.Conv2d(64, 32, kernel_size=1, stride=1, padding=0,  bias=False),\n",
    "            nn.BatchNorm2d(32, affine=False),\n",
    "            nn.ReLU(),\n",
    "            \n",
    "            nn.Conv2d(32, 64, kernel_size=3, stride=1, padding=1,  bias=False),\n",
    "            nn.BatchNorm2d(64, affine=False),\n",
    "            nn.ReLU(),\n",
    "        )\n",
    "        return BED_model      \n",
    "\n",
    "    def forward(self, x):\n",
    "        x = self.model(x)\n",
    "        x = self.pool(x)\n",
    "        x = torch.flatten(x, start_dim=1)\n",
    "        x = torch.cat((self.smoke(x), self.fire(x)), dim=-1)\n",
    "        #x = torch.sigmoid(x) # BCE Logits\n",
    "        return x\n",
    "\n",
    "    def training_step(self, batch, batch_idx):\n",
    "        x, y = batch\n",
    "        yhat = self.forward(x)\n",
    "        loss = self.loss_fn(yhat, y)\n",
    "        self.log('train_loss', loss, on_step=False, on_epoch=True, prog_bar=True)\n",
    "        return loss\n",
    "\n",
    "    def validation_step(self, batch, batch_idx):\n",
    "        x, y = batch\n",
    "        yhat = self.forward(x)\n",
    "        loss = self.loss_fn(yhat, y)\n",
    "        dic_losses = self.loss_fn.get_last_losses()\n",
    "        #yhat = torch.sigmoid(yhat)\n",
    "        self.smoke_acc(yhat[..., 0], y[..., 0])\n",
    "        self.smoke_pre(yhat[..., 0], y[..., 0])\n",
    "        self.smoke_rec(yhat[..., 0], y[..., 0])\n",
    "        self.smoke_f1(yhat[..., 0], y[..., 0])\n",
    "        self.fire_acc(yhat[..., 0], y[..., 0])\n",
    "        self.fire_prec(yhat[..., 0], y[..., 0])\n",
    "        self.fire_rec(yhat[..., 0], y[..., 0])\n",
    "        self.fire_f1(yhat[..., 0], y[..., 0])\n",
    "        self.log_dict({\n",
    "            'v_loss': loss,\n",
    "            'v_smoke_loss': dic_losses['smoke_loss'],\n",
    "            'v_fire_loss': dic_losses['fire_loss'], \n",
    "            'v_smoke_acc': self.smoke_acc,\n",
    "            'v_smoke_pre': self.smoke_pre,\n",
    "            'v_smoke_rec': self.smoke_rec,\n",
    "            'v_smoke_f1': self.smoke_f1,\n",
    "            'v_fire_acc': self.fire_acc,\n",
    "            'v_fire_pre': self.fire_pre,\n",
    "            'v_fire_rec': self.fire_rec,\n",
    "            'v_fire_f1': self.fire_f1,\n",
    "        }, on_step=False, on_epoch=True, prog_bar=True)\n",
    "        return loss\n",
    "\n",
    "    def configure_optimizers(self):\n",
    "        optimizer = optim.Adam(self.parameters(), lr=self.lr, weight_decay=self.weight_decay)  \n",
    "        scheduler = optim.lr_scheduler.ReduceLROnPlateau(optimizer, \n",
    "                                                         mode='min',\n",
    "                                                         factor=0.8, \n",
    "                                                         patience=2, \n",
    "                                                         threshold=0.001, \n",
    "                                                         threshold_mode='abs',\n",
    "                                                         min_lr=1e-6)\n",
    "        # return optimizer\n",
    "        return {\"optimizer\": optimizer, \n",
    "                \"lr_scheduler\": {\n",
    "                    \"scheduler\": scheduler,\n",
    "                    \"monitor\": 'val_loss'\n",
    "                    }\n",
    "               }"
   ]
  },
  {
   "cell_type": "markdown",
   "id": "15183310-3690-45fe-a282-d67b55e9cc4c",
   "metadata": {},
   "source": [
    "# Model Setup"
   ]
  },
  {
   "cell_type": "code",
   "execution_count": 12,
   "id": "ac4fcfec-6bfb-42dd-b4b3-227a40ae8469",
   "metadata": {},
   "outputs": [
    {
     "name": "stdout",
     "output_type": "stream",
     "text": [
      "Using BED Classifier\n",
      "Model shape is tensor([[-4.7791e-04,  1.0125e-03],\n",
      "        [-1.7605e-04,  5.1691e-04],\n",
      "        [-5.6485e-04,  9.1136e-04],\n",
      "        [ 3.9111e-05,  1.6879e-03]], device='cuda:0', grad_fn=<CatBackward0>)\n",
      "BED Model Arquitecture\n",
      "BED_CLASSIFIER(\n",
      "  (loss_fn): BCE_LOSS(\n",
      "    (bce_smoke): BCEWithLogitsLoss()\n",
      "    (bce_fire): BCEWithLogitsLoss()\n",
      "  )\n",
      "  (accuracy): MultilabelAccuracy()\n",
      "  (precision): MultilabelPrecision()\n",
      "  (recall): MultilabelRecall()\n",
      "  (f1): MultilabelF1Score()\n",
      "  (model): Sequential(\n",
      "    (0): Conv2d(3, 64, kernel_size=(3, 3), stride=(1, 1), padding=(1, 1), bias=False)\n",
      "    (1): BatchNorm2d(64, eps=1e-05, momentum=0.1, affine=False, track_running_stats=True)\n",
      "    (2): ReLU()\n",
      "    (3): Dropout2d(p=0.3, inplace=False)\n",
      "    (4): MaxPool2d(kernel_size=2, stride=2, padding=0, dilation=1, ceil_mode=False)\n",
      "    (5): Conv2d(64, 24, kernel_size=(3, 3), stride=(1, 1), padding=(1, 1), bias=False)\n",
      "    (6): BatchNorm2d(24, eps=1e-05, momentum=0.1, affine=False, track_running_stats=True)\n",
      "    (7): ReLU()\n",
      "    (8): Dropout2d(p=0.3, inplace=False)\n",
      "    (9): MaxPool2d(kernel_size=2, stride=2, padding=0, dilation=1, ceil_mode=False)\n",
      "    (10): Conv2d(24, 16, kernel_size=(1, 1), stride=(1, 1), bias=False)\n",
      "    (11): BatchNorm2d(16, eps=1e-05, momentum=0.1, affine=False, track_running_stats=True)\n",
      "    (12): ReLU()\n",
      "    (13): Conv2d(16, 32, kernel_size=(3, 3), stride=(1, 1), padding=(1, 1), bias=False)\n",
      "    (14): BatchNorm2d(32, eps=1e-05, momentum=0.1, affine=False, track_running_stats=True)\n",
      "    (15): ReLU()\n",
      "    (16): Conv2d(32, 32, kernel_size=(1, 1), stride=(1, 1), bias=False)\n",
      "    (17): BatchNorm2d(32, eps=1e-05, momentum=0.1, affine=False, track_running_stats=True)\n",
      "    (18): ReLU()\n",
      "    (19): Conv2d(32, 64, kernel_size=(3, 3), stride=(1, 1), padding=(1, 1), bias=False)\n",
      "    (20): BatchNorm2d(64, eps=1e-05, momentum=0.1, affine=False, track_running_stats=True)\n",
      "    (21): ReLU()\n",
      "    (22): MaxPool2d(kernel_size=2, stride=2, padding=0, dilation=1, ceil_mode=False)\n",
      "    (23): Conv2d(64, 32, kernel_size=(1, 1), stride=(1, 1), bias=False)\n",
      "    (24): BatchNorm2d(32, eps=1e-05, momentum=0.1, affine=False, track_running_stats=True)\n",
      "    (25): ReLU()\n",
      "    (26): Conv2d(32, 64, kernel_size=(3, 3), stride=(1, 1), padding=(1, 1), bias=False)\n",
      "    (27): BatchNorm2d(64, eps=1e-05, momentum=0.1, affine=False, track_running_stats=True)\n",
      "    (28): ReLU()\n",
      "    (29): Conv2d(64, 32, kernel_size=(1, 1), stride=(1, 1), bias=False)\n",
      "    (30): BatchNorm2d(32, eps=1e-05, momentum=0.1, affine=False, track_running_stats=True)\n",
      "    (31): ReLU()\n",
      "    (32): Conv2d(32, 64, kernel_size=(3, 3), stride=(1, 1), padding=(1, 1), bias=False)\n",
      "    (33): BatchNorm2d(64, eps=1e-05, momentum=0.1, affine=False, track_running_stats=True)\n",
      "    (34): ReLU()\n",
      "    (35): Conv2d(64, 32, kernel_size=(1, 1), stride=(1, 1), bias=False)\n",
      "    (36): BatchNorm2d(32, eps=1e-05, momentum=0.1, affine=False, track_running_stats=True)\n",
      "    (37): ReLU()\n",
      "    (38): Conv2d(32, 64, kernel_size=(3, 3), stride=(1, 1), padding=(1, 1), bias=False)\n",
      "    (39): BatchNorm2d(64, eps=1e-05, momentum=0.1, affine=False, track_running_stats=True)\n",
      "    (40): ReLU()\n",
      "  )\n",
      "  (pool): AdaptiveAvgPool2d(output_size=(1, 1))\n",
      "  (smoke): Sequential(\n",
      "    (0): Dropout(p=0.2, inplace=False)\n",
      "    (1): Linear(in_features=64, out_features=16, bias=True)\n",
      "    (2): ReLU()\n",
      "    (3): Linear(in_features=16, out_features=1, bias=True)\n",
      "  )\n",
      "  (fire): Sequential(\n",
      "    (0): Dropout(p=0.2, inplace=False)\n",
      "    (1): Linear(in_features=64, out_features=16, bias=True)\n",
      "    (2): ReLU()\n",
      "    (3): Linear(in_features=16, out_features=1, bias=True)\n",
      "  )\n",
      ")\n",
      "\n",
      "Trainable parameters = 103554\n",
      "Total parameters = 103554\n",
      "\n"
     ]
    }
   ],
   "source": [
    "''' ======================================\n",
    "    SETUP: Model, Loss, Dataset, Loader\n",
    "====================================== '''\n",
    "if MODEL == \"BED\":\n",
    "    print(\"Using BED Classifier\")\n",
    "    logger.info(\"Using BED Classifier\")\n",
    "    model = BED_CLASSIFIER(device=DEVICE, \n",
    "                           smoke_weight=SMOKE_PRECISION_WEIGHT,\n",
    "                           learning_rate=LEARNING_RATE,\n",
    "                           weight_decay=WEIGHT_DECAY,\n",
    "                           num_classes=N_CLASSES).to(DEVICE)\n",
    "else:\n",
    "    print(\"Wrong Model\")\n",
    "    logger.info(\"Wrong Model\")\n",
    "    raise SystemExit(\"Wrong Model\")\n",
    "\n",
    "# Check model shape\n",
    "in_rand_np = np.random.rand(4, 3, IMG_H, IMG_W)\n",
    "in_rand = torch.tensor(in_rand_np, dtype=torch.float32, device=DEVICE)\n",
    "out_test = model(in_rand)\n",
    "print(f'Model shape is {out_test}')\n",
    "print(f'BED Model Arquitecture\\n{model}')\n",
    "logger.info(f'Model shape is {out_test}')\n",
    "logger.info(f'BED Model Arquitecture\\n{model}')\n",
    "\n",
    "# MODEL PARAMETERS\n",
    "n_trainable = sum(p.numel() for p in model.parameters() if p.requires_grad)\n",
    "print(f'\\nTrainable parameters = {n_trainable}')\n",
    "logger.info(f'\\nTrainable parameters = {n_trainable}')\n",
    "\n",
    "n_params = parameters_to_vector(model.parameters()).numel()\n",
    "print(f'Total parameters = {n_params}\\n')\n",
    "logger.info(f'Total parameters = {n_params}\\n')"
   ]
  },
  {
   "cell_type": "markdown",
   "id": "9374d99a-7746-4bd2-b6b5-548f2b6f95bd",
   "metadata": {},
   "source": [
    "# Dataset Setup"
   ]
  },
  {
   "cell_type": "code",
   "execution_count": 13,
   "id": "50319596-f4bd-499c-a063-7612aa2c641b",
   "metadata": {},
   "outputs": [
    {
     "name": "stdout",
     "output_type": "stream",
     "text": [
      "\n",
      "TRAIN DFIRE dataset\n"
     ]
    },
    {
     "name": "stderr",
     "output_type": "stream",
     "text": [
      "Corrupt JPEG data: 1 extraneous bytes before marker 0xd9\n"
     ]
    },
    {
     "name": "stdout",
     "output_type": "stream",
     "text": [
      "DFire Removed wrong images: 0\n",
      "DFire empty images: 7833\n",
      "DFire only smoke images: 4681\n",
      "DFire only fire images: 944\n",
      "DFire smoke and fire images: 3763\n",
      "Train dataset len: 17221\n",
      "\n",
      "TEST DFire dataset\n",
      "DFire Removed wrong images: 0\n",
      "DFire empty images: 2005\n",
      "DFire only smoke images: 1186\n",
      "DFire only fire images: 220\n",
      "DFire smoke and fire images: 895\n",
      "Test dataset len: 4306\n"
     ]
    }
   ],
   "source": [
    "train_transform = A.Compose([\n",
    "        A.HorizontalFlip(p=0.5),\n",
    "        A.OneOf([\n",
    "            A.RandomBrightnessContrast(p=0.4),\n",
    "            A.HueSaturationValue(hue_shift_limit=10, p=0.2),\n",
    "            A.Blur(blur_limit=(3,3), p=0.3),\n",
    "            A.CLAHE(clip_limit=2.0, p=0.3),\n",
    "            A.RGBShift(r_shift_limit=15, g_shift_limit=15, b_shift_limit=15, p=0.5),\n",
    "        ], p=0.9),\n",
    "        A.ShiftScaleRotate(shift_limit=0.05, scale_limit=0.05, rotate_limit=15, p=0.5),\n",
    "        A.Resize(IMG_H, IMG_W, p=1),\n",
    "        ToTensorV2(p=1),\n",
    "    ]\n",
    ")\n",
    "\n",
    "# TRAIN DATASET\n",
    "print(\"\\nTRAIN DFIRE dataset\")\n",
    "logger.info(\"\\nTRAIN DFIRE dataset\")\n",
    "train_dataset = DFireDataset(img_h = IMG_H,\n",
    "                             img_w = IMG_W,\n",
    "                             img_dir = TRAIN_IMG_DIR,\n",
    "                             label_dir = TRAIN_LABEL_DIR,\n",
    "                             num_classes=N_CLASSES,\n",
    "                             ds_len = DS_LEN,\n",
    "                             transform=train_transform)\n",
    "\n",
    "print(f'Train dataset len: {len(train_dataset)}')\n",
    "logger.info(f'Train dataset len: {len(train_dataset)}')\n",
    "\n",
    "\n",
    "# VALIDATION DATASET\n",
    "val_transform = A.Compose([\n",
    "    A.Resize(IMG_H, IMG_W, p=1),\n",
    "    ToTensorV2(p=1),\n",
    "    ]\n",
    ")\n",
    "\n",
    "print(\"\\nTEST DFire dataset\")\n",
    "logger.info(\"\\nTEST DFire dataset\")\n",
    "val_dataset = DFireDataset(img_h = IMG_H,\n",
    "                           img_w = IMG_W,\n",
    "                           img_dir = VAL_IMG_DIR,\n",
    "                           label_dir = VAL_LABEL_DIR,\n",
    "                           num_classes = N_CLASSES,\n",
    "                           ds_len = DS_LEN,\n",
    "                           transform=val_transform)\n",
    "\n",
    "print(f'Test dataset len: {len(val_dataset)}')\n",
    "logger.info(f'Test dataset len: {len(val_dataset)}')\n",
    "\n",
    "\n",
    "# LOADERS\n",
    "train_loader = DataLoader(dataset=train_dataset,\n",
    "                          batch_size=BATCH_SIZE,\n",
    "                          num_workers=NUM_WORKERS,\n",
    "                          pin_memory=PIN_MEMORY,\n",
    "                          shuffle=True,\n",
    "                          drop_last=True)\n",
    "\n",
    "val_loader = DataLoader(dataset=val_dataset,\n",
    "                        batch_size=BATCH_SIZE,\n",
    "                        num_workers=NUM_WORKERS,\n",
    "                        pin_memory=PIN_MEMORY,\n",
    "                        shuffle=False,\n",
    "                        drop_last=True)"
   ]
  },
  {
   "cell_type": "markdown",
   "id": "453ff6ca-4e1a-40a3-a173-1de75ba0ef11",
   "metadata": {},
   "source": [
    "# Main Function"
   ]
  },
  {
   "cell_type": "code",
   "execution_count": 14,
   "id": "2d7af57a-71f6-411a-889e-d86b81f1e3d7",
   "metadata": {},
   "outputs": [],
   "source": [
    "class MyProgressBar(TQDMProgressBar):\n",
    "    def init_validation_tqdm(self):\n",
    "        bar = super().init_validation_tqdm()\n",
    "        if not sys.stdout.isatty():\n",
    "            bar.disable = True\n",
    "        return bar\n",
    "\n",
    "    def init_predict_tqdm(self):\n",
    "        bar = super().init_predict_tqdm()\n",
    "        if not sys.stdout.isatty():\n",
    "            bar.disable = True\n",
    "        return bar\n",
    "\n",
    "    def init_test_tqdm(self):\n",
    "        bar = super().init_test_tqdm()\n",
    "        if not sys.stdout.isatty():\n",
    "            bar.disable = True\n",
    "        return bar"
   ]
  },
  {
   "cell_type": "code",
   "execution_count": 15,
   "id": "fb363166-2221-4697-a53c-4a4d0cb43e07",
   "metadata": {},
   "outputs": [
    {
     "name": "stderr",
     "output_type": "stream",
     "text": [
      "GPU available: True (cuda), used: True\n",
      "TPU available: False, using: 0 TPU cores\n",
      "IPU available: False, using: 0 IPUs\n",
      "HPU available: False, using: 0 HPUs\n",
      "/opt/conda/envs/pytorch_light/lib/python3.10/site-packages/lightning/pytorch/trainer/connectors/logger_connector/logger_connector.py:75: Starting from v1.9.0, `tensorboardX` has been removed as a dependency of the `lightning.pytorch` package, due to potential conflicts with other packages in the ML ecosystem. For this reason, `logger=True` will use `CSVLogger` as the default logger, unless the `tensorboard` or `tensorboardX` packages are found. Please `pip install lightning[extra]` or one of them to enable TensorBoard support by default\n",
      "Missing logger folder: /home/gmoreno/uav/code/classifier_lightning/lightning_logs\n",
      "LOCAL_RANK: 0 - CUDA_VISIBLE_DEVICES: [0]\n",
      "\n",
      "  | Name      | Type                | Params\n",
      "--------------------------------------------------\n",
      "0 | loss_fn   | BCE_LOSS            | 0     \n",
      "1 | accuracy  | MultilabelAccuracy  | 0     \n",
      "2 | precision | MultilabelPrecision | 0     \n",
      "3 | recall    | MultilabelRecall    | 0     \n",
      "4 | f1        | MultilabelF1Score   | 0     \n",
      "5 | model     | Sequential          | 101 K \n",
      "6 | pool      | AdaptiveAvgPool2d   | 0     \n",
      "7 | smoke     | Sequential          | 1.1 K \n",
      "8 | fire      | Sequential          | 1.1 K \n",
      "--------------------------------------------------\n",
      "103 K     Trainable params\n",
      "0         Non-trainable params\n",
      "103 K     Total params\n",
      "0.414     Total estimated model params size (MB)\n"
     ]
    },
    {
     "name": "stdout",
     "output_type": "stream",
     "text": [
      "Epoch 0:  32%|██████████████████████████████████████████                                                                                           | 85/269 [00:07<00:16, 10.91it/s, v_num=0]"
     ]
    },
    {
     "name": "stderr",
     "output_type": "stream",
     "text": [
      "Corrupt JPEG data: 1 extraneous bytes before marker 0xd9\n"
     ]
    },
    {
     "name": "stdout",
     "output_type": "stream",
     "text": [
      "Epoch 0: 100%|████████████████████████████████████████████████████████████████████████████████████████████████████████████████████████████████████| 269/269 [00:22<00:00, 11.72it/s, v_num=0]\n",
      "Epoch 1:  69%|████▏ | 185/269 [00:15<00:07, 11.81it/s, v_num=0, val_loss=61.10, val_precision_smoke=0.000, val_precision_fire=0.355, val_f1_smoke=0.000, val_f1_fire=0.214, train_loss=67.90]\u001b[A"
     ]
    },
    {
     "name": "stderr",
     "output_type": "stream",
     "text": [
      "Corrupt JPEG data: 1 extraneous bytes before marker 0xd9\n"
     ]
    },
    {
     "name": "stdout",
     "output_type": "stream",
     "text": [
      "Epoch 1: 100%|██████| 269/269 [00:22<00:00, 12.01it/s, v_num=0, val_loss=61.10, val_precision_smoke=0.000, val_precision_fire=0.355, val_f1_smoke=0.000, val_f1_fire=0.214, train_loss=67.90]\n",
      "Epoch 2:  84%|█████ | 227/269 [00:19<00:03, 11.81it/s, v_num=0, val_loss=58.50, val_precision_smoke=0.390, val_precision_fire=0.343, val_f1_smoke=0.170, val_f1_fire=0.264, train_loss=61.80]\u001b[A"
     ]
    },
    {
     "name": "stderr",
     "output_type": "stream",
     "text": [
      "Corrupt JPEG data: 1 extraneous bytes before marker 0xd9\n"
     ]
    },
    {
     "name": "stdout",
     "output_type": "stream",
     "text": [
      "Epoch 2: 100%|██████| 269/269 [00:22<00:00, 11.89it/s, v_num=0, val_loss=58.50, val_precision_smoke=0.390, val_precision_fire=0.343, val_f1_smoke=0.170, val_f1_fire=0.264, train_loss=61.80]\n",
      "Epoch 3:  43%|██▌   | 117/269 [00:10<00:13, 11.16it/s, v_num=0, val_loss=54.20, val_precision_smoke=0.375, val_precision_fire=0.377, val_f1_smoke=0.158, val_f1_fire=0.283, train_loss=59.50]\u001b[A"
     ]
    },
    {
     "name": "stderr",
     "output_type": "stream",
     "text": [
      "Corrupt JPEG data: 1 extraneous bytes before marker 0xd9\n"
     ]
    },
    {
     "name": "stdout",
     "output_type": "stream",
     "text": [
      "Epoch 3: 100%|██████| 269/269 [00:22<00:00, 11.85it/s, v_num=0, val_loss=54.20, val_precision_smoke=0.375, val_precision_fire=0.377, val_f1_smoke=0.158, val_f1_fire=0.283, train_loss=59.50]\n",
      "Epoch 4:  65%|███▉  | 175/269 [00:15<00:08, 11.54it/s, v_num=0, val_loss=50.40, val_precision_smoke=0.391, val_precision_fire=0.368, val_f1_smoke=0.229, val_f1_fire=0.320, train_loss=56.30]\u001b[A"
     ]
    },
    {
     "name": "stderr",
     "output_type": "stream",
     "text": [
      "Corrupt JPEG data: 1 extraneous bytes before marker 0xd9\n"
     ]
    },
    {
     "name": "stdout",
     "output_type": "stream",
     "text": [
      "Epoch 4: 100%|██████| 269/269 [00:22<00:00, 11.82it/s, v_num=0, val_loss=50.40, val_precision_smoke=0.391, val_precision_fire=0.368, val_f1_smoke=0.229, val_f1_fire=0.320, train_loss=56.30]\n",
      "Epoch 5:  53%|███▏  | 142/269 [00:12<00:11, 11.52it/s, v_num=0, val_loss=49.00, val_precision_smoke=0.398, val_precision_fire=0.374, val_f1_smoke=0.252, val_f1_fire=0.332, train_loss=53.70]\u001b[A"
     ]
    },
    {
     "name": "stderr",
     "output_type": "stream",
     "text": [
      "Corrupt JPEG data: 1 extraneous bytes before marker 0xd9\n"
     ]
    },
    {
     "name": "stdout",
     "output_type": "stream",
     "text": [
      "Epoch 5: 100%|██████| 269/269 [00:22<00:00, 11.88it/s, v_num=0, val_loss=49.00, val_precision_smoke=0.398, val_precision_fire=0.374, val_f1_smoke=0.252, val_f1_fire=0.332, train_loss=53.70]\n",
      "Epoch 6:  65%|███▉  | 174/269 [00:15<00:08, 11.50it/s, v_num=0, val_loss=47.00, val_precision_smoke=0.434, val_precision_fire=0.392, val_f1_smoke=0.256, val_f1_fire=0.353, train_loss=51.80]\u001b[A"
     ]
    },
    {
     "name": "stderr",
     "output_type": "stream",
     "text": [
      "Corrupt JPEG data: 1 extraneous bytes before marker 0xd9\n"
     ]
    },
    {
     "name": "stdout",
     "output_type": "stream",
     "text": [
      "Epoch 6: 100%|██████| 269/269 [00:22<00:00, 11.72it/s, v_num=0, val_loss=47.00, val_precision_smoke=0.434, val_precision_fire=0.392, val_f1_smoke=0.256, val_f1_fire=0.353, train_loss=51.80]\n",
      "Epoch 7:  72%|████▎ | 194/269 [00:16<00:06, 11.56it/s, v_num=0, val_loss=43.90, val_precision_smoke=0.502, val_precision_fire=0.394, val_f1_smoke=0.368, val_f1_fire=0.351, train_loss=50.30]\u001b[A"
     ]
    },
    {
     "name": "stderr",
     "output_type": "stream",
     "text": [
      "Corrupt JPEG data: 1 extraneous bytes before marker 0xd9\n"
     ]
    },
    {
     "name": "stdout",
     "output_type": "stream",
     "text": [
      "Epoch 7: 100%|██████| 269/269 [00:22<00:00, 11.83it/s, v_num=0, val_loss=43.90, val_precision_smoke=0.502, val_precision_fire=0.394, val_f1_smoke=0.368, val_f1_fire=0.351, train_loss=50.30]\n",
      "Epoch 8:  76%|████▌ | 204/269 [00:17<00:05, 11.74it/s, v_num=0, val_loss=42.90, val_precision_smoke=0.447, val_precision_fire=0.384, val_f1_smoke=0.346, val_f1_fire=0.354, train_loss=48.90]\u001b[A"
     ]
    },
    {
     "name": "stderr",
     "output_type": "stream",
     "text": [
      "Corrupt JPEG data: 1 extraneous bytes before marker 0xd9\n"
     ]
    },
    {
     "name": "stdout",
     "output_type": "stream",
     "text": [
      "Epoch 8: 100%|██████| 269/269 [00:22<00:00, 11.92it/s, v_num=0, val_loss=42.90, val_precision_smoke=0.447, val_precision_fire=0.384, val_f1_smoke=0.346, val_f1_fire=0.354, train_loss=48.90]\n",
      "Epoch 9:  19%|█▎     | 50/269 [00:04<00:21, 10.15it/s, v_num=0, val_loss=42.30, val_precision_smoke=0.467, val_precision_fire=0.385, val_f1_smoke=0.346, val_f1_fire=0.366, train_loss=47.90]\u001b[A"
     ]
    },
    {
     "name": "stderr",
     "output_type": "stream",
     "text": [
      "Corrupt JPEG data: 1 extraneous bytes before marker 0xd9\n"
     ]
    },
    {
     "name": "stdout",
     "output_type": "stream",
     "text": [
      "Epoch 9: 100%|██████| 269/269 [00:22<00:00, 11.90it/s, v_num=0, val_loss=42.30, val_precision_smoke=0.467, val_precision_fire=0.385, val_f1_smoke=0.346, val_f1_fire=0.366, train_loss=47.90]\n",
      "Epoch 10:  66%|███▎ | 178/269 [00:15<00:07, 11.66it/s, v_num=0, val_loss=40.00, val_precision_smoke=0.487, val_precision_fire=0.405, val_f1_smoke=0.368, val_f1_fire=0.370, train_loss=46.60]\u001b[A"
     ]
    },
    {
     "name": "stderr",
     "output_type": "stream",
     "text": [
      "Corrupt JPEG data: 1 extraneous bytes before marker 0xd9\n"
     ]
    },
    {
     "name": "stdout",
     "output_type": "stream",
     "text": [
      "Epoch 10: 100%|█████| 269/269 [00:22<00:00, 11.85it/s, v_num=0, val_loss=40.00, val_precision_smoke=0.487, val_precision_fire=0.405, val_f1_smoke=0.368, val_f1_fire=0.370, train_loss=46.60]\n",
      "Epoch 11:  23%|█▎    | 61/269 [00:05<00:19, 10.47it/s, v_num=0, val_loss=38.60, val_precision_smoke=0.516, val_precision_fire=0.406, val_f1_smoke=0.409, val_f1_fire=0.377, train_loss=45.50]\u001b[A"
     ]
    },
    {
     "name": "stderr",
     "output_type": "stream",
     "text": [
      "Corrupt JPEG data: 1 extraneous bytes before marker 0xd9\n"
     ]
    },
    {
     "name": "stdout",
     "output_type": "stream",
     "text": [
      "Epoch 11: 100%|█████| 269/269 [00:22<00:00, 11.93it/s, v_num=0, val_loss=38.60, val_precision_smoke=0.516, val_precision_fire=0.406, val_f1_smoke=0.409, val_f1_fire=0.377, train_loss=45.50]\n",
      "Epoch 12:  93%|████▋| 250/269 [00:21<00:01, 11.84it/s, v_num=0, val_loss=38.60, val_precision_smoke=0.465, val_precision_fire=0.395, val_f1_smoke=0.370, val_f1_fire=0.375, train_loss=44.70]\u001b[A"
     ]
    },
    {
     "name": "stderr",
     "output_type": "stream",
     "text": [
      "Corrupt JPEG data: 1 extraneous bytes before marker 0xd9\n"
     ]
    },
    {
     "name": "stdout",
     "output_type": "stream",
     "text": [
      "Epoch 12: 100%|█████| 269/269 [00:22<00:00, 11.90it/s, v_num=0, val_loss=38.60, val_precision_smoke=0.465, val_precision_fire=0.395, val_f1_smoke=0.370, val_f1_fire=0.375, train_loss=44.70]\n",
      "Epoch 13:  86%|████▎| 232/269 [00:19<00:03, 11.70it/s, v_num=0, val_loss=37.40, val_precision_smoke=0.509, val_precision_fire=0.408, val_f1_smoke=0.433, val_f1_fire=0.387, train_loss=43.30]\u001b[A"
     ]
    },
    {
     "name": "stderr",
     "output_type": "stream",
     "text": [
      "Corrupt JPEG data: 1 extraneous bytes before marker 0xd9\n"
     ]
    },
    {
     "name": "stdout",
     "output_type": "stream",
     "text": [
      "Epoch 13: 100%|█████| 269/269 [00:22<00:00, 11.86it/s, v_num=0, val_loss=37.40, val_precision_smoke=0.509, val_precision_fire=0.408, val_f1_smoke=0.433, val_f1_fire=0.387, train_loss=43.30]\n",
      "Epoch 14:  89%|████▍| 239/269 [00:20<00:02, 11.68it/s, v_num=0, val_loss=38.20, val_precision_smoke=0.491, val_precision_fire=0.430, val_f1_smoke=0.356, val_f1_fire=0.353, train_loss=42.90]\u001b[A"
     ]
    },
    {
     "name": "stderr",
     "output_type": "stream",
     "text": [
      "Corrupt JPEG data: 1 extraneous bytes before marker 0xd9\n"
     ]
    },
    {
     "name": "stdout",
     "output_type": "stream",
     "text": [
      "Epoch 14: 100%|█████| 269/269 [00:22<00:00, 11.80it/s, v_num=0, val_loss=38.20, val_precision_smoke=0.491, val_precision_fire=0.430, val_f1_smoke=0.356, val_f1_fire=0.353, train_loss=42.90]\n",
      "Epoch 15:  43%|██▏  | 116/269 [00:10<00:13, 11.29it/s, v_num=0, val_loss=35.60, val_precision_smoke=0.507, val_precision_fire=0.401, val_f1_smoke=0.490, val_f1_fire=0.397, train_loss=42.40]\u001b[A"
     ]
    },
    {
     "name": "stderr",
     "output_type": "stream",
     "text": [
      "Corrupt JPEG data: 1 extraneous bytes before marker 0xd9\n"
     ]
    },
    {
     "name": "stdout",
     "output_type": "stream",
     "text": [
      "Epoch 15: 100%|█████| 269/269 [00:22<00:00, 11.88it/s, v_num=0, val_loss=35.60, val_precision_smoke=0.507, val_precision_fire=0.401, val_f1_smoke=0.490, val_f1_fire=0.397, train_loss=42.40]\n",
      "Epoch 16:  79%|███▉ | 213/269 [00:18<00:04, 11.80it/s, v_num=0, val_loss=35.00, val_precision_smoke=0.511, val_precision_fire=0.395, val_f1_smoke=0.474, val_f1_fire=0.381, train_loss=41.20]\u001b[A"
     ]
    },
    {
     "name": "stderr",
     "output_type": "stream",
     "text": [
      "Corrupt JPEG data: 1 extraneous bytes before marker 0xd9\n"
     ]
    },
    {
     "name": "stdout",
     "output_type": "stream",
     "text": [
      "Epoch 16: 100%|█████| 269/269 [00:22<00:00, 11.85it/s, v_num=0, val_loss=35.00, val_precision_smoke=0.511, val_precision_fire=0.395, val_f1_smoke=0.474, val_f1_fire=0.381, train_loss=41.20]\n",
      "Epoch 17:   9%|▌     | 24/269 [00:02<00:29,  8.41it/s, v_num=0, val_loss=34.00, val_precision_smoke=0.514, val_precision_fire=0.408, val_f1_smoke=0.474, val_f1_fire=0.383, train_loss=40.80]\u001b[A"
     ]
    },
    {
     "name": "stderr",
     "output_type": "stream",
     "text": [
      "Corrupt JPEG data: 1 extraneous bytes before marker 0xd9\n"
     ]
    },
    {
     "name": "stdout",
     "output_type": "stream",
     "text": [
      "Epoch 17: 100%|█████| 269/269 [00:22<00:00, 11.82it/s, v_num=0, val_loss=34.00, val_precision_smoke=0.514, val_precision_fire=0.408, val_f1_smoke=0.474, val_f1_fire=0.383, train_loss=40.80]\n",
      "Epoch 18:  20%|█▏    | 54/269 [00:05<00:20, 10.47it/s, v_num=0, val_loss=34.10, val_precision_smoke=0.536, val_precision_fire=0.405, val_f1_smoke=0.442, val_f1_fire=0.375, train_loss=39.90]\u001b[A"
     ]
    },
    {
     "name": "stderr",
     "output_type": "stream",
     "text": [
      "Corrupt JPEG data: 1 extraneous bytes before marker 0xd9\n"
     ]
    },
    {
     "name": "stdout",
     "output_type": "stream",
     "text": [
      "Epoch 18: 100%|█████| 269/269 [00:22<00:00, 11.83it/s, v_num=0, val_loss=34.10, val_precision_smoke=0.536, val_precision_fire=0.405, val_f1_smoke=0.442, val_f1_fire=0.375, train_loss=39.90]\n",
      "Epoch 19:  94%|████▋| 252/269 [00:21<00:01, 11.73it/s, v_num=0, val_loss=32.70, val_precision_smoke=0.518, val_precision_fire=0.430, val_f1_smoke=0.461, val_f1_fire=0.387, train_loss=39.60]\u001b[A"
     ]
    },
    {
     "name": "stderr",
     "output_type": "stream",
     "text": [
      "Corrupt JPEG data: 1 extraneous bytes before marker 0xd9\n"
     ]
    },
    {
     "name": "stdout",
     "output_type": "stream",
     "text": [
      "Epoch 19: 100%|█████| 269/269 [00:22<00:00, 11.80it/s, v_num=0, val_loss=32.70, val_precision_smoke=0.518, val_precision_fire=0.430, val_f1_smoke=0.461, val_f1_fire=0.387, train_loss=39.60]\n",
      "Epoch 20:  19%|█     | 50/269 [00:04<00:21, 10.32it/s, v_num=0, val_loss=31.70, val_precision_smoke=0.534, val_precision_fire=0.401, val_f1_smoke=0.465, val_f1_fire=0.394, train_loss=39.20]\u001b[A"
     ]
    },
    {
     "name": "stderr",
     "output_type": "stream",
     "text": [
      "Corrupt JPEG data: 1 extraneous bytes before marker 0xd9\n"
     ]
    },
    {
     "name": "stdout",
     "output_type": "stream",
     "text": [
      "Epoch 20: 100%|█████| 269/269 [00:22<00:00, 11.89it/s, v_num=0, val_loss=31.70, val_precision_smoke=0.534, val_precision_fire=0.401, val_f1_smoke=0.465, val_f1_fire=0.394, train_loss=39.20]\n",
      "Epoch 21:  81%|████ | 217/269 [00:18<00:04, 11.69it/s, v_num=0, val_loss=32.10, val_precision_smoke=0.524, val_precision_fire=0.413, val_f1_smoke=0.380, val_f1_fire=0.392, train_loss=38.80]\u001b[A"
     ]
    },
    {
     "name": "stderr",
     "output_type": "stream",
     "text": [
      "Corrupt JPEG data: 1 extraneous bytes before marker 0xd9\n"
     ]
    },
    {
     "name": "stdout",
     "output_type": "stream",
     "text": [
      "Epoch 21: 100%|█████| 269/269 [00:22<00:00, 11.79it/s, v_num=0, val_loss=32.10, val_precision_smoke=0.524, val_precision_fire=0.413, val_f1_smoke=0.380, val_f1_fire=0.392, train_loss=38.80]\n",
      "Epoch 22:  41%|██   | 110/269 [00:09<00:14, 11.17it/s, v_num=0, val_loss=31.90, val_precision_smoke=0.525, val_precision_fire=0.386, val_f1_smoke=0.482, val_f1_fire=0.384, train_loss=38.50]\u001b[A"
     ]
    },
    {
     "name": "stderr",
     "output_type": "stream",
     "text": [
      "Corrupt JPEG data: 1 extraneous bytes before marker 0xd9\n"
     ]
    },
    {
     "name": "stdout",
     "output_type": "stream",
     "text": [
      "Epoch 22: 100%|█████| 269/269 [00:22<00:00, 11.82it/s, v_num=0, val_loss=31.90, val_precision_smoke=0.525, val_precision_fire=0.386, val_f1_smoke=0.482, val_f1_fire=0.384, train_loss=38.50]\n",
      "Epoch 23:  18%|█     | 48/269 [00:04<00:21, 10.10it/s, v_num=0, val_loss=31.20, val_precision_smoke=0.515, val_precision_fire=0.431, val_f1_smoke=0.492, val_f1_fire=0.389, train_loss=37.70]\u001b[A"
     ]
    },
    {
     "name": "stderr",
     "output_type": "stream",
     "text": [
      "Corrupt JPEG data: 1 extraneous bytes before marker 0xd9\n"
     ]
    },
    {
     "name": "stdout",
     "output_type": "stream",
     "text": [
      "Epoch 23: 100%|█████| 269/269 [00:22<00:00, 11.88it/s, v_num=0, val_loss=31.20, val_precision_smoke=0.515, val_precision_fire=0.431, val_f1_smoke=0.492, val_f1_fire=0.389, train_loss=37.70]\n",
      "Epoch 24:  11%|▋     | 30/269 [00:03<00:25,  9.28it/s, v_num=0, val_loss=29.90, val_precision_smoke=0.528, val_precision_fire=0.417, val_f1_smoke=0.475, val_f1_fire=0.401, train_loss=37.10]\u001b[A"
     ]
    },
    {
     "name": "stderr",
     "output_type": "stream",
     "text": [
      "Corrupt JPEG data: 1 extraneous bytes before marker 0xd9\n"
     ]
    },
    {
     "name": "stdout",
     "output_type": "stream",
     "text": [
      "Epoch 24: 100%|█████| 269/269 [00:22<00:00, 11.77it/s, v_num=0, val_loss=29.90, val_precision_smoke=0.528, val_precision_fire=0.417, val_f1_smoke=0.475, val_f1_fire=0.401, train_loss=37.10]\n",
      "Epoch 25:  29%|█▋    | 78/269 [00:07<00:17, 10.82it/s, v_num=0, val_loss=30.80, val_precision_smoke=0.540, val_precision_fire=0.436, val_f1_smoke=0.473, val_f1_fire=0.369, train_loss=36.70]\u001b[A"
     ]
    },
    {
     "name": "stderr",
     "output_type": "stream",
     "text": [
      "Corrupt JPEG data: 1 extraneous bytes before marker 0xd9\n"
     ]
    },
    {
     "name": "stdout",
     "output_type": "stream",
     "text": [
      "Epoch 25: 100%|█████| 269/269 [00:22<00:00, 11.85it/s, v_num=0, val_loss=30.80, val_precision_smoke=0.540, val_precision_fire=0.436, val_f1_smoke=0.473, val_f1_fire=0.369, train_loss=36.70]\n",
      "Epoch 26:  70%|███▍ | 187/269 [00:16<00:07, 11.63it/s, v_num=0, val_loss=29.10, val_precision_smoke=0.541, val_precision_fire=0.424, val_f1_smoke=0.493, val_f1_fire=0.396, train_loss=36.50]\u001b[A"
     ]
    },
    {
     "name": "stderr",
     "output_type": "stream",
     "text": [
      "Corrupt JPEG data: 1 extraneous bytes before marker 0xd9\n"
     ]
    },
    {
     "name": "stdout",
     "output_type": "stream",
     "text": [
      "Epoch 26: 100%|█████| 269/269 [00:22<00:00, 11.85it/s, v_num=0, val_loss=29.10, val_precision_smoke=0.541, val_precision_fire=0.424, val_f1_smoke=0.493, val_f1_fire=0.396, train_loss=36.50]\n",
      "Epoch 27:  30%|█▊    | 81/269 [00:07<00:17, 10.73it/s, v_num=0, val_loss=29.80, val_precision_smoke=0.517, val_precision_fire=0.444, val_f1_smoke=0.512, val_f1_fire=0.388, train_loss=36.40]\u001b[A"
     ]
    },
    {
     "name": "stderr",
     "output_type": "stream",
     "text": [
      "Corrupt JPEG data: 1 extraneous bytes before marker 0xd9\n"
     ]
    },
    {
     "name": "stdout",
     "output_type": "stream",
     "text": [
      "Epoch 27: 100%|█████| 269/269 [00:22<00:00, 11.86it/s, v_num=0, val_loss=29.80, val_precision_smoke=0.517, val_precision_fire=0.444, val_f1_smoke=0.512, val_f1_fire=0.388, train_loss=36.40]\n",
      "Epoch 28:  31%|█▊    | 83/269 [00:07<00:17, 10.85it/s, v_num=0, val_loss=28.40, val_precision_smoke=0.521, val_precision_fire=0.417, val_f1_smoke=0.505, val_f1_fire=0.402, train_loss=35.90]\u001b[A"
     ]
    },
    {
     "name": "stderr",
     "output_type": "stream",
     "text": [
      "Corrupt JPEG data: 1 extraneous bytes before marker 0xd9\n"
     ]
    },
    {
     "name": "stdout",
     "output_type": "stream",
     "text": [
      "Epoch 28: 100%|█████| 269/269 [00:22<00:00, 11.88it/s, v_num=0, val_loss=28.40, val_precision_smoke=0.521, val_precision_fire=0.417, val_f1_smoke=0.505, val_f1_fire=0.402, train_loss=35.90]\n",
      "Epoch 29:  67%|███▎ | 179/269 [00:15<00:07, 11.54it/s, v_num=0, val_loss=30.00, val_precision_smoke=0.524, val_precision_fire=0.419, val_f1_smoke=0.494, val_f1_fire=0.397, train_loss=35.40]\u001b[A"
     ]
    },
    {
     "name": "stderr",
     "output_type": "stream",
     "text": [
      "Corrupt JPEG data: 1 extraneous bytes before marker 0xd9\n"
     ]
    },
    {
     "name": "stdout",
     "output_type": "stream",
     "text": [
      "Epoch 29: 100%|█████| 269/269 [00:22<00:00, 11.85it/s, v_num=0, val_loss=30.00, val_precision_smoke=0.524, val_precision_fire=0.419, val_f1_smoke=0.494, val_f1_fire=0.397, train_loss=35.40]\n",
      "Epoch 30:  33%|█▉    | 89/269 [00:08<00:16, 11.12it/s, v_num=0, val_loss=28.40, val_precision_smoke=0.520, val_precision_fire=0.450, val_f1_smoke=0.474, val_f1_fire=0.393, train_loss=35.40]\u001b[A"
     ]
    },
    {
     "name": "stderr",
     "output_type": "stream",
     "text": [
      "Corrupt JPEG data: 1 extraneous bytes before marker 0xd9\n"
     ]
    },
    {
     "name": "stdout",
     "output_type": "stream",
     "text": [
      "Epoch 30: 100%|█████| 269/269 [00:22<00:00, 11.92it/s, v_num=0, val_loss=28.40, val_precision_smoke=0.520, val_precision_fire=0.450, val_f1_smoke=0.474, val_f1_fire=0.393, train_loss=35.40]\n",
      "Epoch 31:  87%|████▎| 233/269 [00:19<00:03, 11.71it/s, v_num=0, val_loss=27.20, val_precision_smoke=0.534, val_precision_fire=0.426, val_f1_smoke=0.503, val_f1_fire=0.406, train_loss=34.70]\u001b[A"
     ]
    },
    {
     "name": "stderr",
     "output_type": "stream",
     "text": [
      "Corrupt JPEG data: 1 extraneous bytes before marker 0xd9\n"
     ]
    },
    {
     "name": "stdout",
     "output_type": "stream",
     "text": [
      "Epoch 31: 100%|█████| 269/269 [00:22<00:00, 11.82it/s, v_num=0, val_loss=27.20, val_precision_smoke=0.534, val_precision_fire=0.426, val_f1_smoke=0.503, val_f1_fire=0.406, train_loss=34.70]\n",
      "Epoch 32:  45%|██▎  | 122/269 [00:10<00:12, 11.44it/s, v_num=0, val_loss=27.60, val_precision_smoke=0.523, val_precision_fire=0.436, val_f1_smoke=0.458, val_f1_fire=0.399, train_loss=34.50]\u001b[A"
     ]
    },
    {
     "name": "stderr",
     "output_type": "stream",
     "text": [
      "Corrupt JPEG data: 1 extraneous bytes before marker 0xd9\n"
     ]
    },
    {
     "name": "stdout",
     "output_type": "stream",
     "text": [
      "Epoch 32: 100%|█████| 269/269 [00:22<00:00, 11.95it/s, v_num=0, val_loss=27.60, val_precision_smoke=0.523, val_precision_fire=0.436, val_f1_smoke=0.458, val_f1_fire=0.399, train_loss=34.50]\n",
      "Epoch 33:  30%|█▊    | 80/269 [00:07<00:17, 10.85it/s, v_num=0, val_loss=28.00, val_precision_smoke=0.535, val_precision_fire=0.447, val_f1_smoke=0.456, val_f1_fire=0.405, train_loss=34.40]\u001b[A"
     ]
    },
    {
     "name": "stderr",
     "output_type": "stream",
     "text": [
      "Corrupt JPEG data: 1 extraneous bytes before marker 0xd9\n"
     ]
    },
    {
     "name": "stdout",
     "output_type": "stream",
     "text": [
      "Epoch 33: 100%|█████| 269/269 [00:22<00:00, 11.83it/s, v_num=0, val_loss=28.00, val_precision_smoke=0.535, val_precision_fire=0.447, val_f1_smoke=0.456, val_f1_fire=0.405, train_loss=34.40]\n",
      "Epoch 34:  58%|██▉  | 155/269 [00:13<00:10, 11.38it/s, v_num=0, val_loss=27.50, val_precision_smoke=0.538, val_precision_fire=0.443, val_f1_smoke=0.479, val_f1_fire=0.398, train_loss=33.90]\u001b[A"
     ]
    },
    {
     "name": "stderr",
     "output_type": "stream",
     "text": [
      "Corrupt JPEG data: 1 extraneous bytes before marker 0xd9\n"
     ]
    },
    {
     "name": "stdout",
     "output_type": "stream",
     "text": [
      "Epoch 34: 100%|█████| 269/269 [00:22<00:00, 11.82it/s, v_num=0, val_loss=27.50, val_precision_smoke=0.538, val_precision_fire=0.443, val_f1_smoke=0.479, val_f1_fire=0.398, train_loss=33.90]\n",
      "Epoch 35:  41%|██   | 111/269 [00:09<00:14, 11.11it/s, v_num=0, val_loss=26.50, val_precision_smoke=0.539, val_precision_fire=0.452, val_f1_smoke=0.493, val_f1_fire=0.400, train_loss=33.40]\u001b[A"
     ]
    },
    {
     "name": "stderr",
     "output_type": "stream",
     "text": [
      "Corrupt JPEG data: 1 extraneous bytes before marker 0xd9\n"
     ]
    },
    {
     "name": "stdout",
     "output_type": "stream",
     "text": [
      "Epoch 35: 100%|█████| 269/269 [00:22<00:00, 11.77it/s, v_num=0, val_loss=26.50, val_precision_smoke=0.539, val_precision_fire=0.452, val_f1_smoke=0.493, val_f1_fire=0.400, train_loss=33.40]\n",
      "Epoch 36:  90%|████▍| 241/269 [00:20<00:02, 11.64it/s, v_num=0, val_loss=25.90, val_precision_smoke=0.519, val_precision_fire=0.445, val_f1_smoke=0.503, val_f1_fire=0.429, train_loss=33.00]\u001b[A"
     ]
    },
    {
     "name": "stderr",
     "output_type": "stream",
     "text": [
      "Corrupt JPEG data: 1 extraneous bytes before marker 0xd9\n"
     ]
    },
    {
     "name": "stdout",
     "output_type": "stream",
     "text": [
      "Epoch 36: 100%|█████| 269/269 [00:22<00:00, 11.75it/s, v_num=0, val_loss=25.90, val_precision_smoke=0.519, val_precision_fire=0.445, val_f1_smoke=0.503, val_f1_fire=0.429, train_loss=33.00]\n",
      "Epoch 37:  71%|███▌ | 190/269 [00:16<00:06, 11.60it/s, v_num=0, val_loss=25.80, val_precision_smoke=0.533, val_precision_fire=0.450, val_f1_smoke=0.516, val_f1_fire=0.414, train_loss=32.50]\u001b[A"
     ]
    },
    {
     "name": "stderr",
     "output_type": "stream",
     "text": [
      "Corrupt JPEG data: 1 extraneous bytes before marker 0xd9\n"
     ]
    },
    {
     "name": "stdout",
     "output_type": "stream",
     "text": [
      "Epoch 37: 100%|█████| 269/269 [00:22<00:00, 11.72it/s, v_num=0, val_loss=25.80, val_precision_smoke=0.533, val_precision_fire=0.450, val_f1_smoke=0.516, val_f1_fire=0.414, train_loss=32.50]\n",
      "Epoch 38:   2%|▏      | 5/269 [00:01<01:01,  4.31it/s, v_num=0, val_loss=25.80, val_precision_smoke=0.536, val_precision_fire=0.437, val_f1_smoke=0.494, val_f1_fire=0.417, train_loss=32.60]\u001b[A"
     ]
    },
    {
     "name": "stderr",
     "output_type": "stream",
     "text": [
      "Corrupt JPEG data: 1 extraneous bytes before marker 0xd9\n"
     ]
    },
    {
     "name": "stdout",
     "output_type": "stream",
     "text": [
      "Epoch 38: 100%|█████| 269/269 [00:22<00:00, 11.86it/s, v_num=0, val_loss=25.80, val_precision_smoke=0.536, val_precision_fire=0.437, val_f1_smoke=0.494, val_f1_fire=0.417, train_loss=32.60]\n",
      "Epoch 39:  91%|████▌| 246/269 [00:21<00:01, 11.67it/s, v_num=0, val_loss=25.30, val_precision_smoke=0.521, val_precision_fire=0.438, val_f1_smoke=0.510, val_f1_fire=0.418, train_loss=32.30]\u001b[A"
     ]
    },
    {
     "name": "stderr",
     "output_type": "stream",
     "text": [
      "Corrupt JPEG data: 1 extraneous bytes before marker 0xd9\n"
     ]
    },
    {
     "name": "stdout",
     "output_type": "stream",
     "text": [
      "Epoch 39: 100%|█████| 269/269 [00:22<00:00, 11.77it/s, v_num=0, val_loss=25.30, val_precision_smoke=0.521, val_precision_fire=0.438, val_f1_smoke=0.510, val_f1_fire=0.418, train_loss=32.30]\n",
      "Epoch 40:  74%|███▋ | 198/269 [00:16<00:06, 11.67it/s, v_num=0, val_loss=23.80, val_precision_smoke=0.548, val_precision_fire=0.445, val_f1_smoke=0.526, val_f1_fire=0.416, train_loss=31.80]\u001b[A"
     ]
    },
    {
     "name": "stderr",
     "output_type": "stream",
     "text": [
      "Corrupt JPEG data: 1 extraneous bytes before marker 0xd9\n"
     ]
    },
    {
     "name": "stdout",
     "output_type": "stream",
     "text": [
      "Epoch 40: 100%|█████| 269/269 [00:22<00:00, 11.82it/s, v_num=0, val_loss=23.80, val_precision_smoke=0.548, val_precision_fire=0.445, val_f1_smoke=0.526, val_f1_fire=0.416, train_loss=31.80]\n",
      "Epoch 41:  97%|████▊| 261/269 [00:22<00:00, 11.84it/s, v_num=0, val_loss=25.60, val_precision_smoke=0.517, val_precision_fire=0.445, val_f1_smoke=0.518, val_f1_fire=0.429, train_loss=32.00]\u001b[A"
     ]
    },
    {
     "name": "stderr",
     "output_type": "stream",
     "text": [
      "Corrupt JPEG data: 1 extraneous bytes before marker 0xd9\n"
     ]
    },
    {
     "name": "stdout",
     "output_type": "stream",
     "text": [
      "Epoch 41: 100%|█████| 269/269 [00:22<00:00, 11.88it/s, v_num=0, val_loss=25.60, val_precision_smoke=0.517, val_precision_fire=0.445, val_f1_smoke=0.518, val_f1_fire=0.429, train_loss=32.00]\n",
      "Epoch 42:  72%|███▌ | 195/269 [00:16<00:06, 11.55it/s, v_num=0, val_loss=24.40, val_precision_smoke=0.525, val_precision_fire=0.444, val_f1_smoke=0.503, val_f1_fire=0.421, train_loss=31.20]\u001b[A"
     ]
    },
    {
     "name": "stderr",
     "output_type": "stream",
     "text": [
      "Corrupt JPEG data: 1 extraneous bytes before marker 0xd9\n"
     ]
    },
    {
     "name": "stdout",
     "output_type": "stream",
     "text": [
      "Epoch 42: 100%|█████| 269/269 [00:22<00:00, 11.87it/s, v_num=0, val_loss=24.40, val_precision_smoke=0.525, val_precision_fire=0.444, val_f1_smoke=0.503, val_f1_fire=0.421, train_loss=31.20]\n",
      "Epoch 43:  73%|███▋ | 197/269 [00:17<00:06, 11.57it/s, v_num=0, val_loss=23.50, val_precision_smoke=0.534, val_precision_fire=0.434, val_f1_smoke=0.509, val_f1_fire=0.422, train_loss=31.30]\u001b[A"
     ]
    },
    {
     "name": "stderr",
     "output_type": "stream",
     "text": [
      "Corrupt JPEG data: 1 extraneous bytes before marker 0xd9\n"
     ]
    },
    {
     "name": "stdout",
     "output_type": "stream",
     "text": [
      "Epoch 43: 100%|█████| 269/269 [00:22<00:00, 11.78it/s, v_num=0, val_loss=23.50, val_precision_smoke=0.534, val_precision_fire=0.434, val_f1_smoke=0.509, val_f1_fire=0.422, train_loss=31.30]\n",
      "Epoch 44:  54%|██▋  | 146/269 [00:12<00:10, 11.55it/s, v_num=0, val_loss=24.20, val_precision_smoke=0.521, val_precision_fire=0.462, val_f1_smoke=0.513, val_f1_fire=0.430, train_loss=31.70]\u001b[A"
     ]
    },
    {
     "name": "stderr",
     "output_type": "stream",
     "text": [
      "Corrupt JPEG data: 1 extraneous bytes before marker 0xd9\n"
     ]
    },
    {
     "name": "stdout",
     "output_type": "stream",
     "text": [
      "Epoch 44: 100%|█████| 269/269 [00:22<00:00, 11.87it/s, v_num=0, val_loss=24.20, val_precision_smoke=0.521, val_precision_fire=0.462, val_f1_smoke=0.513, val_f1_fire=0.430, train_loss=31.70]\n",
      "Epoch 45:  28%|█▋    | 74/269 [00:06<00:18, 10.63it/s, v_num=0, val_loss=26.00, val_precision_smoke=0.547, val_precision_fire=0.456, val_f1_smoke=0.489, val_f1_fire=0.404, train_loss=30.90]\u001b[A"
     ]
    },
    {
     "name": "stderr",
     "output_type": "stream",
     "text": [
      "Corrupt JPEG data: 1 extraneous bytes before marker 0xd9\n"
     ]
    },
    {
     "name": "stdout",
     "output_type": "stream",
     "text": [
      "Epoch 45: 100%|█████| 269/269 [00:22<00:00, 11.81it/s, v_num=0, val_loss=26.00, val_precision_smoke=0.547, val_precision_fire=0.456, val_f1_smoke=0.489, val_f1_fire=0.404, train_loss=30.90]\n",
      "Epoch 46:  70%|███▍ | 187/269 [00:16<00:07, 11.59it/s, v_num=0, val_loss=24.50, val_precision_smoke=0.529, val_precision_fire=0.443, val_f1_smoke=0.498, val_f1_fire=0.429, train_loss=30.70]\u001b[A"
     ]
    },
    {
     "name": "stderr",
     "output_type": "stream",
     "text": [
      "Corrupt JPEG data: 1 extraneous bytes before marker 0xd9\n"
     ]
    },
    {
     "name": "stdout",
     "output_type": "stream",
     "text": [
      "Epoch 46: 100%|█████| 269/269 [00:22<00:00, 11.89it/s, v_num=0, val_loss=24.50, val_precision_smoke=0.529, val_precision_fire=0.443, val_f1_smoke=0.498, val_f1_fire=0.429, train_loss=30.70]\n",
      "Epoch 47:  90%|████▍| 241/269 [00:20<00:02, 11.73it/s, v_num=0, val_loss=23.60, val_precision_smoke=0.538, val_precision_fire=0.439, val_f1_smoke=0.514, val_f1_fire=0.429, train_loss=29.90]\u001b[A"
     ]
    },
    {
     "name": "stderr",
     "output_type": "stream",
     "text": [
      "Corrupt JPEG data: 1 extraneous bytes before marker 0xd9\n"
     ]
    },
    {
     "name": "stdout",
     "output_type": "stream",
     "text": [
      "Epoch 47: 100%|█████| 269/269 [00:22<00:00, 11.84it/s, v_num=0, val_loss=23.60, val_precision_smoke=0.538, val_precision_fire=0.439, val_f1_smoke=0.514, val_f1_fire=0.429, train_loss=29.90]\n",
      "Epoch 48:  45%|██▏  | 120/269 [00:10<00:13, 11.38it/s, v_num=0, val_loss=22.70, val_precision_smoke=0.548, val_precision_fire=0.440, val_f1_smoke=0.528, val_f1_fire=0.420, train_loss=29.80]\u001b[A"
     ]
    },
    {
     "name": "stderr",
     "output_type": "stream",
     "text": [
      "Corrupt JPEG data: 1 extraneous bytes before marker 0xd9\n"
     ]
    },
    {
     "name": "stdout",
     "output_type": "stream",
     "text": [
      "Epoch 48: 100%|█████| 269/269 [00:22<00:00, 11.77it/s, v_num=0, val_loss=22.70, val_precision_smoke=0.548, val_precision_fire=0.440, val_f1_smoke=0.528, val_f1_fire=0.420, train_loss=29.80]\n",
      "Epoch 49:  30%|█▊    | 81/269 [00:07<00:16, 11.07it/s, v_num=0, val_loss=22.90, val_precision_smoke=0.531, val_precision_fire=0.443, val_f1_smoke=0.523, val_f1_fire=0.411, train_loss=29.60]\u001b[A"
     ]
    },
    {
     "name": "stderr",
     "output_type": "stream",
     "text": [
      "Corrupt JPEG data: 1 extraneous bytes before marker 0xd9\n"
     ]
    },
    {
     "name": "stdout",
     "output_type": "stream",
     "text": [
      "Epoch 49: 100%|█████| 269/269 [00:22<00:00, 11.76it/s, v_num=0, val_loss=22.90, val_precision_smoke=0.531, val_precision_fire=0.443, val_f1_smoke=0.523, val_f1_fire=0.411, train_loss=29.60]\n",
      "Epoch 50:  80%|███▉ | 214/269 [00:18<00:04, 11.70it/s, v_num=0, val_loss=23.20, val_precision_smoke=0.540, val_precision_fire=0.441, val_f1_smoke=0.516, val_f1_fire=0.421, train_loss=29.10]\u001b[A"
     ]
    },
    {
     "name": "stderr",
     "output_type": "stream",
     "text": [
      "Corrupt JPEG data: 1 extraneous bytes before marker 0xd9\n"
     ]
    },
    {
     "name": "stdout",
     "output_type": "stream",
     "text": [
      "Epoch 50: 100%|█████| 269/269 [00:22<00:00, 11.85it/s, v_num=0, val_loss=23.20, val_precision_smoke=0.540, val_precision_fire=0.441, val_f1_smoke=0.516, val_f1_fire=0.421, train_loss=29.10]\n",
      "Epoch 51:  44%|██▏  | 119/269 [00:10<00:13, 11.25it/s, v_num=0, val_loss=22.90, val_precision_smoke=0.543, val_precision_fire=0.444, val_f1_smoke=0.528, val_f1_fire=0.419, train_loss=29.50]\u001b[A"
     ]
    },
    {
     "name": "stderr",
     "output_type": "stream",
     "text": [
      "Corrupt JPEG data: 1 extraneous bytes before marker 0xd9\n"
     ]
    },
    {
     "name": "stdout",
     "output_type": "stream",
     "text": [
      "Epoch 51: 100%|█████| 269/269 [00:22<00:00, 11.81it/s, v_num=0, val_loss=22.90, val_precision_smoke=0.543, val_precision_fire=0.444, val_f1_smoke=0.528, val_f1_fire=0.419, train_loss=29.50]\n",
      "Epoch 52:  89%|████▍| 239/269 [00:20<00:02, 11.79it/s, v_num=0, val_loss=22.30, val_precision_smoke=0.536, val_precision_fire=0.448, val_f1_smoke=0.506, val_f1_fire=0.425, train_loss=28.70]\u001b[A"
     ]
    },
    {
     "name": "stderr",
     "output_type": "stream",
     "text": [
      "Corrupt JPEG data: 1 extraneous bytes before marker 0xd9\n"
     ]
    },
    {
     "name": "stdout",
     "output_type": "stream",
     "text": [
      "Epoch 52: 100%|█████| 269/269 [00:22<00:00, 11.85it/s, v_num=0, val_loss=22.30, val_precision_smoke=0.536, val_precision_fire=0.448, val_f1_smoke=0.506, val_f1_fire=0.425, train_loss=28.70]\n",
      "Epoch 53:  55%|██▊  | 148/269 [00:12<00:10, 11.49it/s, v_num=0, val_loss=22.30, val_precision_smoke=0.551, val_precision_fire=0.469, val_f1_smoke=0.533, val_f1_fire=0.417, train_loss=28.80]\u001b[A"
     ]
    },
    {
     "name": "stderr",
     "output_type": "stream",
     "text": [
      "Corrupt JPEG data: 1 extraneous bytes before marker 0xd9\n"
     ]
    },
    {
     "name": "stdout",
     "output_type": "stream",
     "text": [
      "Epoch 53: 100%|█████| 269/269 [00:22<00:00, 11.80it/s, v_num=0, val_loss=22.30, val_precision_smoke=0.551, val_precision_fire=0.469, val_f1_smoke=0.533, val_f1_fire=0.417, train_loss=28.80]\n",
      "Epoch 54:  70%|███▍ | 187/269 [00:16<00:07, 11.68it/s, v_num=0, val_loss=21.70, val_precision_smoke=0.534, val_precision_fire=0.456, val_f1_smoke=0.526, val_f1_fire=0.435, train_loss=28.80]\u001b[A"
     ]
    },
    {
     "name": "stderr",
     "output_type": "stream",
     "text": [
      "Corrupt JPEG data: 1 extraneous bytes before marker 0xd9\n"
     ]
    },
    {
     "name": "stdout",
     "output_type": "stream",
     "text": [
      "Epoch 54: 100%|█████| 269/269 [00:22<00:00, 11.88it/s, v_num=0, val_loss=21.70, val_precision_smoke=0.534, val_precision_fire=0.456, val_f1_smoke=0.526, val_f1_fire=0.435, train_loss=28.80]\n",
      "Epoch 55:  55%|██▊  | 149/269 [00:13<00:10, 11.43it/s, v_num=0, val_loss=22.20, val_precision_smoke=0.529, val_precision_fire=0.434, val_f1_smoke=0.529, val_f1_fire=0.433, train_loss=28.10]\u001b[A"
     ]
    },
    {
     "name": "stderr",
     "output_type": "stream",
     "text": [
      "Corrupt JPEG data: 1 extraneous bytes before marker 0xd9\n"
     ]
    },
    {
     "name": "stdout",
     "output_type": "stream",
     "text": [
      "Epoch 55: 100%|█████| 269/269 [00:22<00:00, 11.80it/s, v_num=0, val_loss=22.20, val_precision_smoke=0.529, val_precision_fire=0.434, val_f1_smoke=0.529, val_f1_fire=0.433, train_loss=28.10]\n",
      "Epoch 56:   0%|               | 0/269 [00:00<?, ?it/s, v_num=0, val_loss=21.60, val_precision_smoke=0.537, val_precision_fire=0.446, val_f1_smoke=0.521, val_f1_fire=0.427, train_loss=28.20]\u001b[A"
     ]
    },
    {
     "name": "stderr",
     "output_type": "stream",
     "text": [
      "Corrupt JPEG data: 1 extraneous bytes before marker 0xd9\n"
     ]
    },
    {
     "name": "stdout",
     "output_type": "stream",
     "text": [
      "Epoch 56: 100%|█████| 269/269 [00:22<00:00, 11.74it/s, v_num=0, val_loss=21.60, val_precision_smoke=0.537, val_precision_fire=0.446, val_f1_smoke=0.521, val_f1_fire=0.427, train_loss=28.20]\n",
      "Epoch 57:  77%|███▊ | 208/269 [00:17<00:05, 11.57it/s, v_num=0, val_loss=21.60, val_precision_smoke=0.548, val_precision_fire=0.454, val_f1_smoke=0.541, val_f1_fire=0.435, train_loss=27.80]\u001b[A"
     ]
    },
    {
     "name": "stderr",
     "output_type": "stream",
     "text": [
      "Corrupt JPEG data: 1 extraneous bytes before marker 0xd9\n"
     ]
    },
    {
     "name": "stdout",
     "output_type": "stream",
     "text": [
      "Epoch 57: 100%|█████| 269/269 [00:22<00:00, 11.81it/s, v_num=0, val_loss=21.60, val_precision_smoke=0.548, val_precision_fire=0.454, val_f1_smoke=0.541, val_f1_fire=0.435, train_loss=27.80]\n",
      "Epoch 58:  39%|█▉   | 104/269 [00:09<00:15, 10.99it/s, v_num=0, val_loss=22.30, val_precision_smoke=0.527, val_precision_fire=0.438, val_f1_smoke=0.518, val_f1_fire=0.434, train_loss=28.30]\u001b[A"
     ]
    },
    {
     "name": "stderr",
     "output_type": "stream",
     "text": [
      "Corrupt JPEG data: 1 extraneous bytes before marker 0xd9\n"
     ]
    },
    {
     "name": "stdout",
     "output_type": "stream",
     "text": [
      "Epoch 58: 100%|█████| 269/269 [00:22<00:00, 11.77it/s, v_num=0, val_loss=22.30, val_precision_smoke=0.527, val_precision_fire=0.438, val_f1_smoke=0.518, val_f1_fire=0.434, train_loss=28.30]\n",
      "Epoch 59:  82%|████ | 221/269 [00:18<00:04, 11.64it/s, v_num=0, val_loss=21.90, val_precision_smoke=0.533, val_precision_fire=0.461, val_f1_smoke=0.537, val_f1_fire=0.436, train_loss=27.70]\u001b[A"
     ]
    },
    {
     "name": "stderr",
     "output_type": "stream",
     "text": [
      "Corrupt JPEG data: 1 extraneous bytes before marker 0xd9\n"
     ]
    },
    {
     "name": "stdout",
     "output_type": "stream",
     "text": [
      "Epoch 59: 100%|█████| 269/269 [00:22<00:00, 11.79it/s, v_num=0, val_loss=21.90, val_precision_smoke=0.533, val_precision_fire=0.461, val_f1_smoke=0.537, val_f1_fire=0.436, train_loss=27.70]\n",
      "Epoch 60:  35%|██    | 93/269 [00:08<00:15, 11.08it/s, v_num=0, val_loss=21.60, val_precision_smoke=0.531, val_precision_fire=0.454, val_f1_smoke=0.520, val_f1_fire=0.443, train_loss=27.50]\u001b[A"
     ]
    },
    {
     "name": "stderr",
     "output_type": "stream",
     "text": [
      "Corrupt JPEG data: 1 extraneous bytes before marker 0xd9\n"
     ]
    },
    {
     "name": "stdout",
     "output_type": "stream",
     "text": [
      "Epoch 60: 100%|█████| 269/269 [00:22<00:00, 11.84it/s, v_num=0, val_loss=21.60, val_precision_smoke=0.531, val_precision_fire=0.454, val_f1_smoke=0.520, val_f1_fire=0.443, train_loss=27.50]\n",
      "Epoch 61:   5%|▎     | 13/269 [00:01<00:36,  6.93it/s, v_num=0, val_loss=21.30, val_precision_smoke=0.543, val_precision_fire=0.448, val_f1_smoke=0.532, val_f1_fire=0.430, train_loss=27.60]\u001b[A"
     ]
    },
    {
     "name": "stderr",
     "output_type": "stream",
     "text": [
      "Corrupt JPEG data: 1 extraneous bytes before marker 0xd9\n"
     ]
    },
    {
     "name": "stdout",
     "output_type": "stream",
     "text": [
      "Epoch 61: 100%|█████| 269/269 [00:22<00:00, 11.88it/s, v_num=0, val_loss=21.30, val_precision_smoke=0.543, val_precision_fire=0.448, val_f1_smoke=0.532, val_f1_fire=0.430, train_loss=27.60]\n",
      "Epoch 62:  52%|██▌  | 140/269 [00:12<00:11, 11.25it/s, v_num=0, val_loss=21.20, val_precision_smoke=0.555, val_precision_fire=0.464, val_f1_smoke=0.530, val_f1_fire=0.436, train_loss=27.60]\u001b[A"
     ]
    },
    {
     "name": "stderr",
     "output_type": "stream",
     "text": [
      "Corrupt JPEG data: 1 extraneous bytes before marker 0xd9\n"
     ]
    },
    {
     "name": "stdout",
     "output_type": "stream",
     "text": [
      "Epoch 62: 100%|█████| 269/269 [00:22<00:00, 11.80it/s, v_num=0, val_loss=21.20, val_precision_smoke=0.555, val_precision_fire=0.464, val_f1_smoke=0.530, val_f1_fire=0.436, train_loss=27.60]\n",
      "Epoch 63:  46%|██▎  | 124/269 [00:10<00:12, 11.27it/s, v_num=0, val_loss=21.50, val_precision_smoke=0.538, val_precision_fire=0.448, val_f1_smoke=0.536, val_f1_fire=0.442, train_loss=26.80]\u001b[A"
     ]
    },
    {
     "name": "stderr",
     "output_type": "stream",
     "text": [
      "Corrupt JPEG data: 1 extraneous bytes before marker 0xd9\n"
     ]
    },
    {
     "name": "stdout",
     "output_type": "stream",
     "text": [
      "Epoch 63: 100%|█████| 269/269 [00:22<00:00, 11.72it/s, v_num=0, val_loss=21.50, val_precision_smoke=0.538, val_precision_fire=0.448, val_f1_smoke=0.536, val_f1_fire=0.442, train_loss=26.80]\n",
      "Epoch 64:  70%|███▌ | 189/269 [00:16<00:06, 11.68it/s, v_num=0, val_loss=20.80, val_precision_smoke=0.548, val_precision_fire=0.456, val_f1_smoke=0.534, val_f1_fire=0.438, train_loss=26.80]\u001b[A"
     ]
    },
    {
     "name": "stderr",
     "output_type": "stream",
     "text": [
      "Corrupt JPEG data: 1 extraneous bytes before marker 0xd9\n"
     ]
    },
    {
     "name": "stdout",
     "output_type": "stream",
     "text": [
      "Epoch 64: 100%|█████| 269/269 [00:22<00:00, 11.75it/s, v_num=0, val_loss=20.80, val_precision_smoke=0.548, val_precision_fire=0.456, val_f1_smoke=0.534, val_f1_fire=0.438, train_loss=26.80]\n",
      "Epoch 65:  22%|█▎    | 60/269 [00:05<00:20, 10.36it/s, v_num=0, val_loss=21.60, val_precision_smoke=0.555, val_precision_fire=0.465, val_f1_smoke=0.518, val_f1_fire=0.434, train_loss=26.60]\u001b[A"
     ]
    },
    {
     "name": "stderr",
     "output_type": "stream",
     "text": [
      "Corrupt JPEG data: 1 extraneous bytes before marker 0xd9\n"
     ]
    },
    {
     "name": "stdout",
     "output_type": "stream",
     "text": [
      "Epoch 65: 100%|█████| 269/269 [00:22<00:00, 11.75it/s, v_num=0, val_loss=21.60, val_precision_smoke=0.555, val_precision_fire=0.465, val_f1_smoke=0.518, val_f1_fire=0.434, train_loss=26.60]\n",
      "Epoch 66:  23%|█▍    | 62/269 [00:06<00:20, 10.29it/s, v_num=0, val_loss=20.90, val_precision_smoke=0.553, val_precision_fire=0.458, val_f1_smoke=0.534, val_f1_fire=0.444, train_loss=26.60]\u001b[A"
     ]
    },
    {
     "name": "stderr",
     "output_type": "stream",
     "text": [
      "Corrupt JPEG data: 1 extraneous bytes before marker 0xd9\n"
     ]
    },
    {
     "name": "stdout",
     "output_type": "stream",
     "text": [
      "Epoch 66: 100%|█████| 269/269 [00:22<00:00, 11.80it/s, v_num=0, val_loss=20.90, val_precision_smoke=0.553, val_precision_fire=0.458, val_f1_smoke=0.534, val_f1_fire=0.444, train_loss=26.60]\n",
      "Epoch 67:  89%|████▍| 240/269 [00:20<00:02, 11.70it/s, v_num=0, val_loss=20.30, val_precision_smoke=0.541, val_precision_fire=0.456, val_f1_smoke=0.544, val_f1_fire=0.437, train_loss=26.60]\u001b[A"
     ]
    },
    {
     "name": "stderr",
     "output_type": "stream",
     "text": [
      "Corrupt JPEG data: 1 extraneous bytes before marker 0xd9\n"
     ]
    },
    {
     "name": "stdout",
     "output_type": "stream",
     "text": [
      "Epoch 67: 100%|█████| 269/269 [00:22<00:00, 11.83it/s, v_num=0, val_loss=20.30, val_precision_smoke=0.541, val_precision_fire=0.456, val_f1_smoke=0.544, val_f1_fire=0.437, train_loss=26.60]\n",
      "Epoch 68:  90%|████▍| 242/269 [00:20<00:02, 11.67it/s, v_num=0, val_loss=20.40, val_precision_smoke=0.549, val_precision_fire=0.462, val_f1_smoke=0.539, val_f1_fire=0.440, train_loss=26.30]\u001b[A"
     ]
    },
    {
     "name": "stderr",
     "output_type": "stream",
     "text": [
      "Corrupt JPEG data: 1 extraneous bytes before marker 0xd9\n"
     ]
    },
    {
     "name": "stdout",
     "output_type": "stream",
     "text": [
      "Epoch 68: 100%|█████| 269/269 [00:22<00:00, 11.76it/s, v_num=0, val_loss=20.40, val_precision_smoke=0.549, val_precision_fire=0.462, val_f1_smoke=0.539, val_f1_fire=0.440, train_loss=26.30]\n",
      "Epoch 69:   6%|▍     | 17/269 [00:02<00:32,  7.83it/s, v_num=0, val_loss=21.30, val_precision_smoke=0.548, val_precision_fire=0.466, val_f1_smoke=0.535, val_f1_fire=0.428, train_loss=26.30]\u001b[A"
     ]
    },
    {
     "name": "stderr",
     "output_type": "stream",
     "text": [
      "Corrupt JPEG data: 1 extraneous bytes before marker 0xd9\n"
     ]
    },
    {
     "name": "stdout",
     "output_type": "stream",
     "text": [
      "Epoch 69: 100%|█████| 269/269 [00:22<00:00, 11.72it/s, v_num=0, val_loss=21.30, val_precision_smoke=0.548, val_precision_fire=0.466, val_f1_smoke=0.535, val_f1_fire=0.428, train_loss=26.30]\n",
      "Epoch 70:  16%|▉     | 42/269 [00:04<00:22, 10.04it/s, v_num=0, val_loss=20.20, val_precision_smoke=0.548, val_precision_fire=0.458, val_f1_smoke=0.540, val_f1_fire=0.439, train_loss=26.60]\u001b[A"
     ]
    },
    {
     "name": "stderr",
     "output_type": "stream",
     "text": [
      "Corrupt JPEG data: 1 extraneous bytes before marker 0xd9\n"
     ]
    },
    {
     "name": "stdout",
     "output_type": "stream",
     "text": [
      "Epoch 70: 100%|█████| 269/269 [00:22<00:00, 11.83it/s, v_num=0, val_loss=20.20, val_precision_smoke=0.548, val_precision_fire=0.458, val_f1_smoke=0.540, val_f1_fire=0.439, train_loss=26.60]\n",
      "Epoch 71:  82%|████ | 221/269 [00:18<00:04, 11.71it/s, v_num=0, val_loss=22.40, val_precision_smoke=0.544, val_precision_fire=0.452, val_f1_smoke=0.499, val_f1_fire=0.431, train_loss=26.30]\u001b[A"
     ]
    },
    {
     "name": "stderr",
     "output_type": "stream",
     "text": [
      "Corrupt JPEG data: 1 extraneous bytes before marker 0xd9\n"
     ]
    },
    {
     "name": "stdout",
     "output_type": "stream",
     "text": [
      "Epoch 71: 100%|█████| 269/269 [00:22<00:00, 11.84it/s, v_num=0, val_loss=22.40, val_precision_smoke=0.544, val_precision_fire=0.452, val_f1_smoke=0.499, val_f1_fire=0.431, train_loss=26.30]\n",
      "Epoch 72:  78%|███▉ | 211/269 [00:18<00:04, 11.68it/s, v_num=0, val_loss=21.20, val_precision_smoke=0.548, val_precision_fire=0.440, val_f1_smoke=0.527, val_f1_fire=0.427, train_loss=26.20]\u001b[A"
     ]
    },
    {
     "name": "stderr",
     "output_type": "stream",
     "text": [
      "Corrupt JPEG data: 1 extraneous bytes before marker 0xd9\n"
     ]
    },
    {
     "name": "stdout",
     "output_type": "stream",
     "text": [
      "Epoch 72: 100%|█████| 269/269 [00:22<00:00, 11.82it/s, v_num=0, val_loss=21.20, val_precision_smoke=0.548, val_precision_fire=0.440, val_f1_smoke=0.527, val_f1_fire=0.427, train_loss=26.20]\n",
      "Epoch 73:   1%|       | 2/269 [00:01<02:15,  1.98it/s, v_num=0, val_loss=20.20, val_precision_smoke=0.554, val_precision_fire=0.451, val_f1_smoke=0.539, val_f1_fire=0.433, train_loss=26.30]\u001b[A"
     ]
    },
    {
     "name": "stderr",
     "output_type": "stream",
     "text": [
      "Corrupt JPEG data: 1 extraneous bytes before marker 0xd9\n"
     ]
    },
    {
     "name": "stdout",
     "output_type": "stream",
     "text": [
      "Epoch 73: 100%|█████| 269/269 [00:22<00:00, 11.76it/s, v_num=0, val_loss=20.20, val_precision_smoke=0.554, val_precision_fire=0.451, val_f1_smoke=0.539, val_f1_fire=0.433, train_loss=26.30]\n",
      "Epoch 74:  30%|█▊    | 80/269 [00:07<00:17, 10.85it/s, v_num=0, val_loss=20.80, val_precision_smoke=0.556, val_precision_fire=0.450, val_f1_smoke=0.533, val_f1_fire=0.422, train_loss=26.30]\u001b[A"
     ]
    },
    {
     "name": "stderr",
     "output_type": "stream",
     "text": [
      "Corrupt JPEG data: 1 extraneous bytes before marker 0xd9\n"
     ]
    },
    {
     "name": "stdout",
     "output_type": "stream",
     "text": [
      "Epoch 74: 100%|█████| 269/269 [00:22<00:00, 11.86it/s, v_num=0, val_loss=20.80, val_precision_smoke=0.556, val_precision_fire=0.450, val_f1_smoke=0.533, val_f1_fire=0.422, train_loss=26.30]\n",
      "Epoch 75:  47%|██▎  | 127/269 [00:11<00:12, 11.19it/s, v_num=0, val_loss=20.80, val_precision_smoke=0.549, val_precision_fire=0.461, val_f1_smoke=0.540, val_f1_fire=0.425, train_loss=26.00]\u001b[A"
     ]
    },
    {
     "name": "stderr",
     "output_type": "stream",
     "text": [
      "Corrupt JPEG data: 1 extraneous bytes before marker 0xd9\n"
     ]
    },
    {
     "name": "stdout",
     "output_type": "stream",
     "text": [
      "Epoch 75: 100%|█████| 269/269 [00:22<00:00, 11.82it/s, v_num=0, val_loss=20.80, val_precision_smoke=0.549, val_precision_fire=0.461, val_f1_smoke=0.540, val_f1_fire=0.425, train_loss=26.00]\n",
      "Epoch 76:  26%|█▌    | 70/269 [00:06<00:18, 10.84it/s, v_num=0, val_loss=20.40, val_precision_smoke=0.556, val_precision_fire=0.459, val_f1_smoke=0.536, val_f1_fire=0.431, train_loss=25.90]\u001b[A"
     ]
    },
    {
     "name": "stderr",
     "output_type": "stream",
     "text": [
      "Corrupt JPEG data: 1 extraneous bytes before marker 0xd9\n"
     ]
    },
    {
     "name": "stdout",
     "output_type": "stream",
     "text": [
      "Epoch 76: 100%|█████| 269/269 [00:22<00:00, 11.81it/s, v_num=0, val_loss=20.40, val_precision_smoke=0.556, val_precision_fire=0.459, val_f1_smoke=0.536, val_f1_fire=0.431, train_loss=25.90]\n",
      "Epoch 77:   7%|▍     | 18/269 [00:02<00:31,  8.01it/s, v_num=0, val_loss=20.80, val_precision_smoke=0.546, val_precision_fire=0.449, val_f1_smoke=0.537, val_f1_fire=0.430, train_loss=25.60]\u001b[A"
     ]
    },
    {
     "name": "stderr",
     "output_type": "stream",
     "text": [
      "Corrupt JPEG data: 1 extraneous bytes before marker 0xd9\n"
     ]
    },
    {
     "name": "stdout",
     "output_type": "stream",
     "text": [
      "Epoch 77: 100%|█████| 269/269 [00:23<00:00, 11.69it/s, v_num=0, val_loss=20.80, val_precision_smoke=0.546, val_precision_fire=0.449, val_f1_smoke=0.537, val_f1_fire=0.430, train_loss=25.60]\n",
      "Epoch 78:  87%|████▎| 234/269 [00:20<00:03, 11.63it/s, v_num=0, val_loss=19.60, val_precision_smoke=0.549, val_precision_fire=0.461, val_f1_smoke=0.543, val_f1_fire=0.435, train_loss=25.80]\u001b[A"
     ]
    },
    {
     "name": "stderr",
     "output_type": "stream",
     "text": [
      "Corrupt JPEG data: 1 extraneous bytes before marker 0xd9\n"
     ]
    },
    {
     "name": "stdout",
     "output_type": "stream",
     "text": [
      "Epoch 78: 100%|█████| 269/269 [00:23<00:00, 11.62it/s, v_num=0, val_loss=19.60, val_precision_smoke=0.549, val_precision_fire=0.461, val_f1_smoke=0.543, val_f1_fire=0.435, train_loss=25.80]\n",
      "Epoch 79:  69%|███▍ | 185/269 [00:16<00:07, 11.55it/s, v_num=0, val_loss=20.20, val_precision_smoke=0.552, val_precision_fire=0.444, val_f1_smoke=0.544, val_f1_fire=0.427, train_loss=25.30]\u001b[A"
     ]
    },
    {
     "name": "stderr",
     "output_type": "stream",
     "text": [
      "Corrupt JPEG data: 1 extraneous bytes before marker 0xd9\n"
     ]
    },
    {
     "name": "stdout",
     "output_type": "stream",
     "text": [
      "Epoch 79: 100%|█████| 269/269 [00:22<00:00, 11.86it/s, v_num=0, val_loss=20.20, val_precision_smoke=0.552, val_precision_fire=0.444, val_f1_smoke=0.544, val_f1_fire=0.427, train_loss=25.30]\n",
      "Epoch 80:  16%|▉     | 42/269 [00:04<00:22,  9.94it/s, v_num=0, val_loss=20.40, val_precision_smoke=0.549, val_precision_fire=0.445, val_f1_smoke=0.543, val_f1_fire=0.430, train_loss=25.40]\u001b[A"
     ]
    },
    {
     "name": "stderr",
     "output_type": "stream",
     "text": [
      "Corrupt JPEG data: 1 extraneous bytes before marker 0xd9\n"
     ]
    },
    {
     "name": "stdout",
     "output_type": "stream",
     "text": [
      "Epoch 80: 100%|█████| 269/269 [00:22<00:00, 11.75it/s, v_num=0, val_loss=20.40, val_precision_smoke=0.549, val_precision_fire=0.445, val_f1_smoke=0.543, val_f1_fire=0.430, train_loss=25.40]\n",
      "Epoch 81:  97%|████▊| 260/269 [00:22<00:00, 11.74it/s, v_num=0, val_loss=20.60, val_precision_smoke=0.553, val_precision_fire=0.448, val_f1_smoke=0.536, val_f1_fire=0.427, train_loss=25.40]\u001b[A"
     ]
    },
    {
     "name": "stderr",
     "output_type": "stream",
     "text": [
      "Corrupt JPEG data: 1 extraneous bytes before marker 0xd9\n"
     ]
    },
    {
     "name": "stdout",
     "output_type": "stream",
     "text": [
      "Epoch 81: 100%|█████| 269/269 [00:22<00:00, 11.79it/s, v_num=0, val_loss=20.60, val_precision_smoke=0.553, val_precision_fire=0.448, val_f1_smoke=0.536, val_f1_fire=0.427, train_loss=25.40]\n",
      "Epoch 82:  70%|███▍ | 187/269 [00:16<00:07, 11.56it/s, v_num=0, val_loss=20.20, val_precision_smoke=0.554, val_precision_fire=0.452, val_f1_smoke=0.539, val_f1_fire=0.428, train_loss=25.10]\u001b[A"
     ]
    },
    {
     "name": "stderr",
     "output_type": "stream",
     "text": [
      "Corrupt JPEG data: 1 extraneous bytes before marker 0xd9\n"
     ]
    },
    {
     "name": "stdout",
     "output_type": "stream",
     "text": [
      "Epoch 82: 100%|█████| 269/269 [00:22<00:00, 11.80it/s, v_num=0, val_loss=20.20, val_precision_smoke=0.554, val_precision_fire=0.452, val_f1_smoke=0.539, val_f1_fire=0.428, train_loss=25.10]\n",
      "Epoch 83:  91%|████▌| 246/269 [00:21<00:01, 11.69it/s, v_num=0, val_loss=19.70, val_precision_smoke=0.547, val_precision_fire=0.440, val_f1_smoke=0.545, val_f1_fire=0.430, train_loss=25.30]\u001b[A"
     ]
    },
    {
     "name": "stderr",
     "output_type": "stream",
     "text": [
      "Corrupt JPEG data: 1 extraneous bytes before marker 0xd9\n"
     ]
    },
    {
     "name": "stdout",
     "output_type": "stream",
     "text": [
      "Epoch 83: 100%|█████| 269/269 [00:23<00:00, 11.68it/s, v_num=0, val_loss=19.70, val_precision_smoke=0.547, val_precision_fire=0.440, val_f1_smoke=0.545, val_f1_fire=0.430, train_loss=25.30]\n",
      "Epoch 84:  46%|██▎  | 125/269 [00:11<00:12, 11.32it/s, v_num=0, val_loss=19.60, val_precision_smoke=0.548, val_precision_fire=0.440, val_f1_smoke=0.541, val_f1_fire=0.430, train_loss=24.50]\u001b[A"
     ]
    },
    {
     "name": "stderr",
     "output_type": "stream",
     "text": [
      "Corrupt JPEG data: 1 extraneous bytes before marker 0xd9\n"
     ]
    },
    {
     "name": "stdout",
     "output_type": "stream",
     "text": [
      "Epoch 84: 100%|█████| 269/269 [00:22<00:00, 11.75it/s, v_num=0, val_loss=19.60, val_precision_smoke=0.548, val_precision_fire=0.440, val_f1_smoke=0.541, val_f1_fire=0.430, train_loss=24.50]\n",
      "Epoch 85:  88%|████▍| 236/269 [00:20<00:02, 11.62it/s, v_num=0, val_loss=19.70, val_precision_smoke=0.550, val_precision_fire=0.445, val_f1_smoke=0.543, val_f1_fire=0.424, train_loss=25.00]\u001b[A"
     ]
    },
    {
     "name": "stderr",
     "output_type": "stream",
     "text": [
      "Corrupt JPEG data: 1 extraneous bytes before marker 0xd9\n"
     ]
    },
    {
     "name": "stdout",
     "output_type": "stream",
     "text": [
      "Epoch 85: 100%|█████| 269/269 [00:22<00:00, 11.74it/s, v_num=0, val_loss=19.70, val_precision_smoke=0.550, val_precision_fire=0.445, val_f1_smoke=0.543, val_f1_fire=0.424, train_loss=25.00]\n",
      "Epoch 86:  39%|█▉   | 105/269 [00:09<00:14, 11.14it/s, v_num=0, val_loss=19.70, val_precision_smoke=0.555, val_precision_fire=0.436, val_f1_smoke=0.535, val_f1_fire=0.428, train_loss=25.00]\u001b[A"
     ]
    },
    {
     "name": "stderr",
     "output_type": "stream",
     "text": [
      "Corrupt JPEG data: 1 extraneous bytes before marker 0xd9\n"
     ]
    },
    {
     "name": "stdout",
     "output_type": "stream",
     "text": [
      "Epoch 86: 100%|█████| 269/269 [00:22<00:00, 11.75it/s, v_num=0, val_loss=19.70, val_precision_smoke=0.555, val_precision_fire=0.436, val_f1_smoke=0.535, val_f1_fire=0.428, train_loss=25.00]\n",
      "Epoch 87:  35%|██    | 94/269 [00:08<00:15, 11.06it/s, v_num=0, val_loss=20.20, val_precision_smoke=0.553, val_precision_fire=0.447, val_f1_smoke=0.530, val_f1_fire=0.429, train_loss=24.60]\u001b[A"
     ]
    },
    {
     "name": "stderr",
     "output_type": "stream",
     "text": [
      "Corrupt JPEG data: 1 extraneous bytes before marker 0xd9\n"
     ]
    },
    {
     "name": "stdout",
     "output_type": "stream",
     "text": [
      "Epoch 87: 100%|█████| 269/269 [00:22<00:00, 11.90it/s, v_num=0, val_loss=20.20, val_precision_smoke=0.553, val_precision_fire=0.447, val_f1_smoke=0.530, val_f1_fire=0.429, train_loss=24.60]\n",
      "Epoch 88:  86%|████▎| 231/269 [00:19<00:03, 11.75it/s, v_num=0, val_loss=19.10, val_precision_smoke=0.549, val_precision_fire=0.449, val_f1_smoke=0.546, val_f1_fire=0.431, train_loss=24.40]\u001b[A"
     ]
    },
    {
     "name": "stderr",
     "output_type": "stream",
     "text": [
      "Corrupt JPEG data: 1 extraneous bytes before marker 0xd9\n"
     ]
    },
    {
     "name": "stdout",
     "output_type": "stream",
     "text": [
      "Epoch 88: 100%|█████| 269/269 [00:22<00:00, 11.81it/s, v_num=0, val_loss=19.10, val_precision_smoke=0.549, val_precision_fire=0.449, val_f1_smoke=0.546, val_f1_fire=0.431, train_loss=24.40]\n",
      "Epoch 89:  64%|███▏ | 171/269 [00:14<00:08, 11.50it/s, v_num=0, val_loss=19.40, val_precision_smoke=0.555, val_precision_fire=0.459, val_f1_smoke=0.543, val_f1_fire=0.436, train_loss=24.10]\u001b[A"
     ]
    },
    {
     "name": "stderr",
     "output_type": "stream",
     "text": [
      "Corrupt JPEG data: 1 extraneous bytes before marker 0xd9\n"
     ]
    },
    {
     "name": "stdout",
     "output_type": "stream",
     "text": [
      "Epoch 89: 100%|█████| 269/269 [00:22<00:00, 11.80it/s, v_num=0, val_loss=19.40, val_precision_smoke=0.555, val_precision_fire=0.459, val_f1_smoke=0.543, val_f1_fire=0.436, train_loss=24.10]\n",
      "Epoch 90:  87%|████▎| 235/269 [00:19<00:02, 11.83it/s, v_num=0, val_loss=20.10, val_precision_smoke=0.559, val_precision_fire=0.449, val_f1_smoke=0.534, val_f1_fire=0.426, train_loss=24.60]\u001b[A"
     ]
    },
    {
     "name": "stderr",
     "output_type": "stream",
     "text": [
      "Corrupt JPEG data: 1 extraneous bytes before marker 0xd9\n"
     ]
    },
    {
     "name": "stdout",
     "output_type": "stream",
     "text": [
      "Epoch 90: 100%|█████| 269/269 [00:22<00:00, 11.93it/s, v_num=0, val_loss=20.10, val_precision_smoke=0.559, val_precision_fire=0.449, val_f1_smoke=0.534, val_f1_fire=0.426, train_loss=24.60]\n",
      "Epoch 91:  87%|████▎| 233/269 [00:20<00:03, 11.57it/s, v_num=0, val_loss=19.70, val_precision_smoke=0.552, val_precision_fire=0.446, val_f1_smoke=0.543, val_f1_fire=0.428, train_loss=23.90]\u001b[A"
     ]
    },
    {
     "name": "stderr",
     "output_type": "stream",
     "text": [
      "Corrupt JPEG data: 1 extraneous bytes before marker 0xd9\n"
     ]
    },
    {
     "name": "stdout",
     "output_type": "stream",
     "text": [
      "Epoch 91: 100%|█████| 269/269 [00:22<00:00, 11.72it/s, v_num=0, val_loss=19.70, val_precision_smoke=0.552, val_precision_fire=0.446, val_f1_smoke=0.543, val_f1_fire=0.428, train_loss=23.90]\n",
      "Epoch 92:  33%|█▉    | 89/269 [00:08<00:16, 11.00it/s, v_num=0, val_loss=19.30, val_precision_smoke=0.553, val_precision_fire=0.449, val_f1_smoke=0.544, val_f1_fire=0.429, train_loss=24.00]\u001b[A"
     ]
    },
    {
     "name": "stderr",
     "output_type": "stream",
     "text": [
      "Corrupt JPEG data: 1 extraneous bytes before marker 0xd9\n"
     ]
    },
    {
     "name": "stdout",
     "output_type": "stream",
     "text": [
      "Epoch 92: 100%|█████| 269/269 [00:22<00:00, 11.73it/s, v_num=0, val_loss=19.30, val_precision_smoke=0.553, val_precision_fire=0.449, val_f1_smoke=0.544, val_f1_fire=0.429, train_loss=24.00]\n",
      "Epoch 93:  12%|▋     | 33/269 [00:03<00:25,  9.15it/s, v_num=0, val_loss=19.20, val_precision_smoke=0.552, val_precision_fire=0.440, val_f1_smoke=0.548, val_f1_fire=0.430, train_loss=24.10]\u001b[A"
     ]
    },
    {
     "name": "stderr",
     "output_type": "stream",
     "text": [
      "Corrupt JPEG data: 1 extraneous bytes before marker 0xd9\n"
     ]
    },
    {
     "name": "stdout",
     "output_type": "stream",
     "text": [
      "Epoch 93: 100%|█████| 269/269 [00:22<00:00, 11.91it/s, v_num=0, val_loss=19.20, val_precision_smoke=0.552, val_precision_fire=0.440, val_f1_smoke=0.548, val_f1_fire=0.430, train_loss=24.10]\n",
      "Epoch 94:  86%|████▎| 231/269 [00:19<00:03, 11.63it/s, v_num=0, val_loss=19.10, val_precision_smoke=0.553, val_precision_fire=0.442, val_f1_smoke=0.547, val_f1_fire=0.431, train_loss=23.60]\u001b[A"
     ]
    },
    {
     "name": "stderr",
     "output_type": "stream",
     "text": [
      "Corrupt JPEG data: 1 extraneous bytes before marker 0xd9\n"
     ]
    },
    {
     "name": "stdout",
     "output_type": "stream",
     "text": [
      "Epoch 94: 100%|█████| 269/269 [00:22<00:00, 11.76it/s, v_num=0, val_loss=19.10, val_precision_smoke=0.553, val_precision_fire=0.442, val_f1_smoke=0.547, val_f1_fire=0.431, train_loss=23.60]\n",
      "Epoch 95:  36%|██▏   | 97/269 [00:08<00:15, 11.24it/s, v_num=0, val_loss=19.00, val_precision_smoke=0.552, val_precision_fire=0.436, val_f1_smoke=0.547, val_f1_fire=0.432, train_loss=24.10]\u001b[A"
     ]
    },
    {
     "name": "stderr",
     "output_type": "stream",
     "text": [
      "Corrupt JPEG data: 1 extraneous bytes before marker 0xd9\n"
     ]
    },
    {
     "name": "stdout",
     "output_type": "stream",
     "text": [
      "Epoch 95: 100%|█████| 269/269 [00:22<00:00, 11.83it/s, v_num=0, val_loss=19.00, val_precision_smoke=0.552, val_precision_fire=0.436, val_f1_smoke=0.547, val_f1_fire=0.432, train_loss=24.10]\n",
      "Epoch 96:  17%|█     | 46/269 [00:04<00:21, 10.20it/s, v_num=0, val_loss=19.00, val_precision_smoke=0.554, val_precision_fire=0.442, val_f1_smoke=0.544, val_f1_fire=0.429, train_loss=24.20]\u001b[A"
     ]
    },
    {
     "name": "stderr",
     "output_type": "stream",
     "text": [
      "Corrupt JPEG data: 1 extraneous bytes before marker 0xd9\n"
     ]
    },
    {
     "name": "stdout",
     "output_type": "stream",
     "text": [
      "Epoch 96: 100%|█████| 269/269 [00:22<00:00, 11.72it/s, v_num=0, val_loss=19.00, val_precision_smoke=0.554, val_precision_fire=0.442, val_f1_smoke=0.544, val_f1_fire=0.429, train_loss=24.20]\n",
      "Epoch 97:  25%|█▍    | 66/269 [00:06<00:19, 10.58it/s, v_num=0, val_loss=19.10, val_precision_smoke=0.555, val_precision_fire=0.446, val_f1_smoke=0.544, val_f1_fire=0.433, train_loss=23.60]\u001b[A"
     ]
    },
    {
     "name": "stderr",
     "output_type": "stream",
     "text": [
      "Corrupt JPEG data: 1 extraneous bytes before marker 0xd9\n"
     ]
    },
    {
     "name": "stdout",
     "output_type": "stream",
     "text": [
      "Epoch 97: 100%|█████| 269/269 [00:22<00:00, 11.78it/s, v_num=0, val_loss=19.10, val_precision_smoke=0.555, val_precision_fire=0.446, val_f1_smoke=0.544, val_f1_fire=0.433, train_loss=23.60]\n",
      "Epoch 98:   0%|       | 1/269 [00:00<04:03,  1.10it/s, v_num=0, val_loss=18.90, val_precision_smoke=0.550, val_precision_fire=0.444, val_f1_smoke=0.548, val_f1_fire=0.431, train_loss=23.40]\u001b[A"
     ]
    },
    {
     "name": "stderr",
     "output_type": "stream",
     "text": [
      "Corrupt JPEG data: 1 extraneous bytes before marker 0xd9\n"
     ]
    },
    {
     "name": "stdout",
     "output_type": "stream",
     "text": [
      "Epoch 98: 100%|█████| 269/269 [00:22<00:00, 11.76it/s, v_num=0, val_loss=18.90, val_precision_smoke=0.550, val_precision_fire=0.444, val_f1_smoke=0.548, val_f1_fire=0.431, train_loss=23.40]\n",
      "Epoch 99:  84%|████▏| 225/269 [00:19<00:03, 11.57it/s, v_num=0, val_loss=18.80, val_precision_smoke=0.553, val_precision_fire=0.443, val_f1_smoke=0.548, val_f1_fire=0.432, train_loss=23.50]\u001b[A"
     ]
    },
    {
     "name": "stderr",
     "output_type": "stream",
     "text": [
      "Corrupt JPEG data: 1 extraneous bytes before marker 0xd9\n"
     ]
    },
    {
     "name": "stdout",
     "output_type": "stream",
     "text": [
      "Epoch 99: 100%|█████| 269/269 [00:22<00:00, 11.73it/s, v_num=0, val_loss=18.80, val_precision_smoke=0.553, val_precision_fire=0.443, val_f1_smoke=0.548, val_f1_fire=0.432, train_loss=23.50]\n",
      "Epoch 99: 100%|█████| 269/269 [00:26<00:00, 10.14it/s, v_num=0, val_loss=19.10, val_precision_smoke=0.554, val_precision_fire=0.441, val_f1_smoke=0.544, val_f1_fire=0.432, train_loss=23.70]\u001b[A"
     ]
    },
    {
     "name": "stderr",
     "output_type": "stream",
     "text": [
      "`Trainer.fit` stopped: `max_epochs=100` reached.\n"
     ]
    },
    {
     "name": "stdout",
     "output_type": "stream",
     "text": [
      "Epoch 99: 100%|█████| 269/269 [00:26<00:00, 10.13it/s, v_num=0, val_loss=19.10, val_precision_smoke=0.554, val_precision_fire=0.441, val_f1_smoke=0.544, val_f1_fire=0.432, train_loss=23.70]"
     ]
    },
    {
     "name": "stderr",
     "output_type": "stream",
     "text": [
      "LOCAL_RANK: 0 - CUDA_VISIBLE_DEVICES: [0]\n"
     ]
    },
    {
     "name": "stdout",
     "output_type": "stream",
     "text": [
      "\n",
      "Validation: |                                                                                                                                                          | 0/? [00:00<?, ?it/s]────────────────────────────────────────────────────────────────────────────────────────────────────────────────────────\n",
      "     Validate metric           DataLoader 0\n",
      "────────────────────────────────────────────────────────────────────────────────────────────────────────────────────────\n",
      "    val_accuracy_fire        0.96385258436203\n",
      "   val_accuracy_smoke       0.9071828126907349\n",
      "       val_f1_fire          0.43171003460884094\n",
      "      val_f1_smoke          0.5440025925636292\n",
      "        val_loss             19.13609504699707\n",
      "      val_loss_fire          6.595401287078857\n",
      "     val_loss_smoke         12.540695190429688\n",
      "   val_precision_fire       0.4413950443267822\n",
      "   val_precision_smoke      0.5542774200439453\n",
      "     val_recall_fire        0.4311317503452301\n",
      "    val_recall_smoke        0.5643756985664368\n",
      "────────────────────────────────────────────────────────────────────────────────────────────────────────────────────────\n"
     ]
    },
    {
     "data": {
      "text/plain": [
       "[{'val_loss': 19.13609504699707,\n",
       "  'val_precision_smoke': 0.5542774200439453,\n",
       "  'val_precision_fire': 0.4413950443267822,\n",
       "  'val_f1_smoke': 0.5440025925636292,\n",
       "  'val_f1_fire': 0.43171003460884094,\n",
       "  'val_loss_smoke': 12.540695190429688,\n",
       "  'val_loss_fire': 6.595401287078857,\n",
       "  'val_accuracy_smoke': 0.9071828126907349,\n",
       "  'val_accuracy_fire': 0.96385258436203,\n",
       "  'val_recall_smoke': 0.5643756985664368,\n",
       "  'val_recall_fire': 0.4311317503452301}]"
      ]
     },
     "execution_count": 15,
     "metadata": {},
     "output_type": "execute_result"
    }
   ],
   "source": [
    "trainer = L.Trainer(accelerator='gpu', devices=[0], max_epochs=EPOCHS, callbacks=[MyProgressBar()])"
   ]
  },
  {
   "cell_type": "code",
   "execution_count": null,
   "id": "9b9d2534-3eb2-4f1b-a516-ed26abc400f4",
   "metadata": {},
   "outputs": [],
   "source": [
    "def main():\n",
    "    trainer.fit(model, train_loader, val_loader)\n",
    "    trainer.validate(model, val_loader)"
   ]
  },
  {
   "cell_type": "code",
   "execution_count": null,
   "id": "bfda6605-cdcc-4a6c-aca6-9cf800282519",
   "metadata": {},
   "outputs": [],
   "source": [
    "if __name__ == \"__main__\":\n",
    "    print(\"Starting script\\n\")\n",
    "    logger.info(\"Starting script\\n\")\n",
    "    #print(torch.cuda.is_available())\n",
    "    main()"
   ]
  }
 ],
 "metadata": {
  "kernelspec": {
   "display_name": "Python 3 (ipykernel)",
   "language": "python",
   "name": "python3"
  },
  "language_info": {
   "codemirror_mode": {
    "name": "ipython",
    "version": 3
   },
   "file_extension": ".py",
   "mimetype": "text/x-python",
   "name": "python",
   "nbconvert_exporter": "python",
   "pygments_lexer": "ipython3",
   "version": "3.10.9"
  }
 },
 "nbformat": 4,
 "nbformat_minor": 5
}
