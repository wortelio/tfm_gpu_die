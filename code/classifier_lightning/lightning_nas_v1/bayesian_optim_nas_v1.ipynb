{
 "cells": [
  {
   "cell_type": "markdown",
   "id": "52e43b67-26c6-40fa-ba6e-bb68c831d1bc",
   "metadata": {},
   "source": [
    "# Bayesian Optimization\n",
    "# Multi-Objective NAS with Ax\n",
    "\n",
    "https://github.com/pytorch/botorch"
   ]
  },
  {
   "cell_type": "markdown",
   "id": "f0e147e8-35a4-4d5e-9aa8-112110921399",
   "metadata": {},
   "source": [
    "# Defining the TorchX App\n",
    "\n",
    "Our goal is to optimize the PyTorch Lightning training job defined in train.py. To do this using TorchX, we write a helper function that takes in the values of the architecture and hyperparameters of the training job and creates a TorchX AppDef with the appropriate settings."
   ]
  },
  {
   "cell_type": "code",
   "execution_count": 1,
   "id": "f067b908-25bf-4154-ad38-a78d5a0633f3",
   "metadata": {
    "tags": []
   },
   "outputs": [],
   "source": [
    "from pathlib import Path\n",
    "\n",
    "import torchx\n",
    "\n",
    "from torchx import specs\n",
    "from torchx.components import utils"
   ]
  },
  {
   "cell_type": "code",
   "execution_count": 2,
   "id": "1ebf3857-609c-458b-a17c-422af9e31da3",
   "metadata": {
    "tags": []
   },
   "outputs": [],
   "source": [
    "def trainer(\n",
    "    log_path: str,\n",
    "    conv10_channels: int,\n",
    "    conv20_channels: int,\n",
    "    conv31_channels: int,\n",
    "    conv32_channels: int,\n",
    "    conv33_channels: int,\n",
    "    conv34_channels: int,\n",
    "    conv41_channels: int,\n",
    "    conv42_channels: int,\n",
    "    conv43_channels: int,\n",
    "    conv44_channels: int,\n",
    "    conv45_channels: int,\n",
    "    last_channels: int,\n",
    "    head_features: int,\n",
    "    learning_rate: float,\n",
    "    dropout: float,\n",
    "    trial_idx: int = -1,\n",
    ") -> specs.AppDef:\n",
    "\n",
    "    # define the log path so we can pass it to the TorchX ``AppDef``\n",
    "    if trial_idx >= 0:\n",
    "        log_path = Path(log_path).joinpath(str(trial_idx)).absolute().as_posix()\n",
    "\n",
    "    return utils.python(\n",
    "        # command line arguments to the training script\n",
    "        \"--log_path\",\n",
    "        log_path,\n",
    "        \"--conv10_channels\",\n",
    "        str(conv10_channels),\n",
    "        \"--conv20_channels\",\n",
    "        str(conv20_channels),\n",
    "        \"--conv31_channels\",\n",
    "        str(conv31_channels),\n",
    "        \"--conv32_channels\",\n",
    "        str(conv32_channels),\n",
    "        \"--conv33_channels\",\n",
    "        str(conv33_channels),\n",
    "        \"--conv34_channels\",\n",
    "        str(conv34_channels),\n",
    "        \"--conv41_channels\",\n",
    "        str(conv41_channels),\n",
    "         \"--conv42_channels\",\n",
    "        str(conv42_channels),\n",
    "        \"--conv43_channels\",\n",
    "        str(conv43_channels),\n",
    "        \"--conv44_channels\",\n",
    "        str(conv44_channels),\n",
    "        \"--conv45_channels\",\n",
    "        str(conv45_channels),\n",
    "        \"--last_channels\",\n",
    "        str(last_channels),\n",
    "        \"--head_features\",\n",
    "        str(head_features),\n",
    "        \"--learning_rate\",\n",
    "        str(learning_rate),\n",
    "        \"--dropout\",\n",
    "        str(dropout),\n",
    "        # other config options\n",
    "        name=\"trainer\",\n",
    "        script=\"train.py\",\n",
    "        image=torchx.version.TORCHX_IMAGE,\n",
    "    )"
   ]
  },
  {
   "cell_type": "markdown",
   "id": "59bcb0cf-70dd-41a0-8ec4-0d5628f13c70",
   "metadata": {},
   "source": [
    "# Setting up the Runner\n",
    "Ax’s Runner abstraction allows writing interfaces to various backends. Ax already comes with Runner for TorchX, and so we just need to configure it. For the purpose of this tutorial we run jobs locally in a fully asynchronous fashion.\n",
    "\n",
    "In order to launch them on a cluster, you can instead specify a different TorchX scheduler and adjust the configuration appropriately. For example, if you have a Kubernetes cluster, you just need to change the scheduler from local_cwd to kubernetes)."
   ]
  },
  {
   "cell_type": "code",
   "execution_count": 3,
   "id": "37ba27b7-ec49-4fa2-978d-676fa9974323",
   "metadata": {
    "tags": []
   },
   "outputs": [],
   "source": [
    "import tempfile\n",
    "from ax.runners.torchx import TorchXRunner\n",
    "\n",
    "# Make a temporary dir to log our results into\n",
    "log_dir = tempfile.mkdtemp()\n",
    "\n",
    "ax_runner = TorchXRunner(\n",
    "    tracker_base=\"/tmp/\",\n",
    "    component=trainer,\n",
    "    # NOTE: To launch this job on a cluster instead of locally you can\n",
    "    # specify a different scheduler and adjust arguments appropriately.\n",
    "    scheduler=\"local_cwd\",\n",
    "    component_const_params={\"log_path\": log_dir},\n",
    "    cfg={},\n",
    ")"
   ]
  },
  {
   "cell_type": "markdown",
   "id": "eb26bbfe-0ea0-44a0-b262-d396a0d2b4b4",
   "metadata": {},
   "source": [
    "# Setting up the SearchSpace\n",
    "First, we define our search space. Ax supports both range parameters of type integer and float as well as choice parameters which can have non-numerical types such as strings. We will tune the hidden sizes, learning rate, dropout, and number of epochs as range parameters and tune the batch size as an ordered choice parameter to enforce it to be a power of 2."
   ]
  },
  {
   "cell_type": "code",
   "execution_count": 4,
   "id": "90bd6781-2b8e-4f60-a18a-669735914365",
   "metadata": {
    "tags": []
   },
   "outputs": [],
   "source": [
    "from ax.core import (\n",
    "    ChoiceParameter,\n",
    "    ParameterType,\n",
    "    RangeParameter,\n",
    "    SearchSpace,\n",
    "    OrderConstraint,\n",
    ")\n",
    "\n",
    "parameters = [\n",
    "    # NOTE: In a real-world setting, hidden_size_1 and hidden_size_2\n",
    "    # should probably be powers of 2, but in our simple example this\n",
    "    # would mean that ``num_params`` can't take on that many values, which\n",
    "    # in turn makes the Pareto frontier look pretty weird.\n",
    "    ChoiceParameter(  # NOTE: ``ChoiceParameters`` don't require log-scale\n",
    "        name=\"conv10_channels\",\n",
    "        values=[32, 64],\n",
    "        parameter_type=ParameterType.INT,\n",
    "        is_ordered=True,\n",
    "        sort_values=True,\n",
    "    ),\n",
    "    ChoiceParameter(  # NOTE: ``ChoiceParameters`` don't require log-scale\n",
    "        name=\"conv20_channels\",\n",
    "        values=[16, 24, 32],\n",
    "        parameter_type=ParameterType.INT,\n",
    "        is_ordered=True,\n",
    "        sort_values=True,\n",
    "    ),\n",
    "    ChoiceParameter(  # NOTE: ``ChoiceParameters`` don't require log-scale\n",
    "        name=\"conv31_channels\",\n",
    "        values=[4, 8, 16],\n",
    "        parameter_type=ParameterType.INT,\n",
    "        is_ordered=True,\n",
    "        sort_values=True,\n",
    "    ),\n",
    "    ChoiceParameter(  # NOTE: ``ChoiceParameters`` don't require log-scale\n",
    "        name=\"conv32_channels\",\n",
    "        values=[16, 32, 64],\n",
    "        parameter_type=ParameterType.INT,\n",
    "        is_ordered=True,\n",
    "        sort_values=True,\n",
    "    ),\n",
    "    ChoiceParameter(  # NOTE: ``ChoiceParameters`` don't require log-scale\n",
    "        name=\"conv33_channels\",\n",
    "        values=[16, 32, 64],\n",
    "        parameter_type=ParameterType.INT,\n",
    "        is_ordered=True,\n",
    "        sort_values=True,\n",
    "    ),\n",
    "    ChoiceParameter(  # NOTE: ``ChoiceParameters`` don't require log-scale\n",
    "        name=\"conv34_channels\",\n",
    "        values=[32, 64, 128],\n",
    "        parameter_type=ParameterType.INT,\n",
    "        is_ordered=True,\n",
    "        sort_values=True,\n",
    "    ),\n",
    "    ChoiceParameter(  # NOTE: ``ChoiceParameters`` don't require log-scale\n",
    "        name=\"conv41_channels\",\n",
    "        values=[8, 16, 32, 64],\n",
    "        parameter_type=ParameterType.INT,\n",
    "        is_ordered=True,\n",
    "        sort_values=True,\n",
    "    ),\n",
    "    ChoiceParameter(  # NOTE: ``ChoiceParameters`` don't require log-scale\n",
    "        name=\"conv42_channels\",\n",
    "        values=[32, 64, 128],\n",
    "        parameter_type=ParameterType.INT,\n",
    "        is_ordered=True,\n",
    "        sort_values=True,\n",
    "    ),\n",
    "    ChoiceParameter(  # NOTE: ``ChoiceParameters`` don't require log-scale\n",
    "        name=\"conv43_channels\",\n",
    "        values=[8, 16, 32, 64],\n",
    "        parameter_type=ParameterType.INT,\n",
    "        is_ordered=True,\n",
    "        sort_values=True,\n",
    "    ),\n",
    "    ChoiceParameter(  # NOTE: ``ChoiceParameters`` don't require log-scale\n",
    "        name=\"conv44_channels\",\n",
    "        values=[32, 64, 128, 256],\n",
    "        parameter_type=ParameterType.INT,\n",
    "        is_ordered=True,\n",
    "        sort_values=True,\n",
    "    ),\n",
    "    ChoiceParameter(  # NOTE: ``ChoiceParameters`` don't require log-scale\n",
    "        name=\"conv45_channels\",\n",
    "        values=[16, 32, 64, 128],\n",
    "        parameter_type=ParameterType.INT,\n",
    "        is_ordered=True,\n",
    "        sort_values=True,\n",
    "    ),\n",
    "    ChoiceParameter(  # NOTE: ``ChoiceParameters`` don't require log-scale\n",
    "        name=\"last_channels\",\n",
    "        values=[32, 64, 128, 256],\n",
    "        parameter_type=ParameterType.INT,\n",
    "        is_ordered=True,\n",
    "        sort_values=True,\n",
    "    ),\n",
    "    ChoiceParameter(  # NOTE: ``ChoiceParameters`` don't require log-scale\n",
    "        name=\"head_features\",\n",
    "        values=[4, 8, 16, 32],\n",
    "        parameter_type=ParameterType.INT,\n",
    "        is_ordered=True,\n",
    "        sort_values=True,\n",
    "    ),\n",
    "    RangeParameter(\n",
    "        name=\"learning_rate\",\n",
    "        lower=1e-4,\n",
    "        upper=1e-2,\n",
    "        parameter_type=ParameterType.FLOAT,\n",
    "        log_scale=True,\n",
    "    ),\n",
    "    RangeParameter(\n",
    "        name=\"dropout\",\n",
    "        lower=0.0,\n",
    "        upper=0.5,\n",
    "        parameter_type=ParameterType.FLOAT,\n",
    "    ),\n",
    "]\n",
    "\n",
    "#con_1 = OrderConstraint(lower_parameter=parameters[idx], upper_parameter=parameters[idx])\n",
    "\n",
    "\n",
    "search_space = SearchSpace(\n",
    "    parameters=parameters,\n",
    "    # NOTE: In practice, it may make sense to add a constraint\n",
    "    # hidden_size_2 <= hidden_size_1\n",
    "    #parameter_constraints=[],\n",
    ")"
   ]
  },
  {
   "cell_type": "markdown",
   "id": "a61c86bc-995b-4843-b60d-e6e27a491e0b",
   "metadata": {},
   "source": [
    "# Setting up Metrics\n",
    "Ax has the concept of a Metric that defines properties of outcomes and how observations are obtained for these outcomes. This allows e.g. encoding how data is fetched from some distributed execution backend and post-processed before being passed as input to Ax.\n",
    "\n",
    "In this tutorial we will use multi-objective optimization with the goal of maximizing the validation mean F1 Score and minimizing the number of model parameters. The latter represents a simple proxy of model latency, which is hard to estimate accurately for small ML models (in an actual application we would benchmark the latency while running the model on-device).\n",
    "\n",
    "In our example TorchX will run the training jobs in a fully asynchronous fashion locally and write the results to the log_dir based on the trial index (see the trainer() function above). We will define a metric class that is aware of that logging directory. By subclassing TensorboardCurveMetric we get the logic to read and parse the TensorBoard logs for free."
   ]
  },
  {
   "cell_type": "code",
   "execution_count": 5,
   "id": "84ea0b5b-55f8-4aba-9c86-76f9c625ac8a",
   "metadata": {
    "tags": []
   },
   "outputs": [],
   "source": [
    "from ax.metrics.tensorboard import TensorboardCurveMetric\n",
    "\n",
    "\n",
    "class MyTensorboardMetric(TensorboardCurveMetric):\n",
    "\n",
    "    # NOTE: We need to tell the new TensorBoard metric how to get the id /\n",
    "    # file handle for the TensorBoard logs from a trial. In this case\n",
    "    # our convention is to just save a separate file per trial in\n",
    "    # the prespecified log dir.\n",
    "    @classmethod\n",
    "    def get_ids_from_trials(cls, trials):\n",
    "        return {\n",
    "            trial.index: Path(log_dir).joinpath(str(trial.index)).as_posix()\n",
    "            for trial in trials\n",
    "        }\n",
    "\n",
    "    # This indicates whether the metric is queryable while the trial is\n",
    "    # still running. We don't use this in the current tutorial, but Ax\n",
    "    # utilizes this to implement trial-level early-stopping functionality.\n",
    "    @classmethod\n",
    "    def is_available_while_running(cls):\n",
    "        return False"
   ]
  },
  {
   "cell_type": "markdown",
   "id": "fd19dc5a-0d40-479f-bc48-6868c5cbf805",
   "metadata": {},
   "source": [
    "Now we can instantiate the metrics for F1 Score and the number of model parameters. Here curve_name is the name of the metric in the TensorBoard logs, while name is the metric name used internally by Ax. We also specify lower_is_better to indicate the favorable direction of the two metrics."
   ]
  },
  {
   "cell_type": "code",
   "execution_count": 6,
   "id": "76687cf5-893e-495d-8e04-ce144bf0baf4",
   "metadata": {
    "tags": []
   },
   "outputs": [],
   "source": [
    "val_mean_f1 = MyTensorboardMetric(\n",
    "    name=\"val_mean_f1\",\n",
    "    curve_name=\"val_mean_f1\",\n",
    "    lower_is_better=False,\n",
    ")\n",
    "model_num_params = MyTensorboardMetric(\n",
    "    name=\"num_params\",\n",
    "    curve_name=\"num_params\",\n",
    "    lower_is_better=True,\n",
    ")"
   ]
  },
  {
   "cell_type": "markdown",
   "id": "1995de2c-896c-45fb-b2c2-5409e30e9aec",
   "metadata": {},
   "source": [
    "# Setting up the OptimizationConfig\n",
    "The way to tell Ax what it should optimize is by means of an OptimizationConfig. Here we use a MultiObjectiveOptimizationConfig as we will be performing multi-objective optimization.\n",
    "\n",
    "Additionally, Ax supports placing constraints on the different metrics by specifying objective thresholds, which bound the region of interest in the outcome space that we want to explore. For this example, we will constrain the validation F1 Score to be at least 0.90 (90%) and the number of model parameters to be at most 200,000."
   ]
  },
  {
   "cell_type": "code",
   "execution_count": 7,
   "id": "3813d544-548d-4d3f-8897-5cdd89b017f3",
   "metadata": {
    "tags": []
   },
   "outputs": [],
   "source": [
    "from ax.core import MultiObjective, Objective, ObjectiveThreshold\n",
    "from ax.core.optimization_config import MultiObjectiveOptimizationConfig\n",
    "\n",
    "\n",
    "opt_config = MultiObjectiveOptimizationConfig(\n",
    "    objective=MultiObjective(\n",
    "        objectives=[\n",
    "            Objective(metric=val_mean_f1, minimize=False),\n",
    "            Objective(metric=model_num_params, minimize=True),\n",
    "        ],\n",
    "    ),\n",
    "    objective_thresholds=[\n",
    "        ObjectiveThreshold(metric=val_mean_f1, bound=0.90, relative=False),\n",
    "        ObjectiveThreshold(metric=model_num_params, bound=90_000, relative=False),\n",
    "    ],\n",
    ")"
   ]
  },
  {
   "cell_type": "markdown",
   "id": "5071cb7b-16b3-45c4-8acf-6bdb47f5edf1",
   "metadata": {},
   "source": [
    "# Creating the Ax Experiment\n",
    "In Ax, the Experiment object is the object that stores all the information about the problem setup."
   ]
  },
  {
   "cell_type": "code",
   "execution_count": 8,
   "id": "f8a7541d-32c5-45ba-93c6-7de2223c4eb1",
   "metadata": {
    "tags": []
   },
   "outputs": [],
   "source": [
    "from ax.core import Experiment\n",
    "\n",
    "experiment = Experiment(\n",
    "    name=\"torchx_bed\",\n",
    "    search_space=search_space,\n",
    "    optimization_config=opt_config,\n",
    "    runner=ax_runner,\n",
    ")"
   ]
  },
  {
   "cell_type": "markdown",
   "id": "71c7d4f6-c3a0-4087-b9e8-eef46b4315a8",
   "metadata": {},
   "source": [
    "# Choosing the Generation Strategy\n",
    "A GenerationStrategy is the abstract representation of how we would like to perform the optimization. While this can be customized (if you’d like to do so, see this tutorial), in most cases Ax can automatically determine an appropriate strategy based on the search space, optimization config, and the total number of trials we want to run.\n",
    "\n",
    "Typically, Ax chooses to evaluate a number of random configurations before starting a model-based Bayesian Optimization strategy."
   ]
  },
  {
   "cell_type": "code",
   "execution_count": 9,
   "id": "72f14c01-a526-4a2e-bf58-056ec26769d1",
   "metadata": {
    "tags": []
   },
   "outputs": [
    {
     "name": "stderr",
     "output_type": "stream",
     "text": [
      "[INFO 06-12 07:26:45] ax.modelbridge.dispatch_utils: Using Models.BOTORCH_MODULAR since there is at least one ordered parameter and there are no unordered categorical parameters.\n",
      "[INFO 06-12 07:26:45] ax.modelbridge.dispatch_utils: Calculating the number of remaining initialization trials based on num_initialization_trials=None max_initialization_trials=None num_tunable_parameters=15 num_trials=4 use_batch_trials=False\n",
      "[INFO 06-12 07:26:45] ax.modelbridge.dispatch_utils: calculated num_initialization_trials=5\n",
      "[INFO 06-12 07:26:45] ax.modelbridge.dispatch_utils: num_completed_initialization_trials=0 num_remaining_initialization_trials=5\n",
      "[INFO 06-12 07:26:45] ax.modelbridge.dispatch_utils: `verbose`, `disable_progbar`, and `jit_compile` are not yet supported when using `choose_generation_strategy` with ModularBoTorchModel, dropping these arguments.\n",
      "[INFO 06-12 07:26:45] ax.modelbridge.dispatch_utils: Using Bayesian Optimization generation strategy: GenerationStrategy(name='Sobol+BoTorch', steps=[Sobol for 5 trials, BoTorch for subsequent trials]). Iterations after 5 will take longer to generate due to model-fitting.\n"
     ]
    }
   ],
   "source": [
    "total_trials = 4  # total evaluation budget\n",
    "\n",
    "from ax.modelbridge.dispatch_utils import choose_generation_strategy\n",
    "\n",
    "gs = choose_generation_strategy(\n",
    "    search_space=experiment.search_space,\n",
    "    optimization_config=experiment.optimization_config,\n",
    "    num_trials=total_trials,\n",
    "  )"
   ]
  },
  {
   "cell_type": "markdown",
   "id": "85b448a9-6e6c-4cd1-bc5d-f97b96aa33bc",
   "metadata": {},
   "source": [
    "# Configuring the Scheduler\n",
    "The Scheduler acts as the loop control for the optimization. It communicates with the backend to launch trials, check their status, and retrieve results. In the case of this tutorial, it is simply reading and parsing the locally saved logs. In a remote execution setting, it would call APIs. \n",
    "\n",
    "The Scheduler requires the Experiment and the GenerationStrategy. A set of options can be passed in via SchedulerOptions. Here, we configure the number of total evaluations as well as max_pending_trials, the maximum number of trials that should run concurrently. In our local setting, this is the number of training jobs running as individual processes, while in a remote execution setting, this would be the number of machines you want to use in parallel."
   ]
  },
  {
   "cell_type": "code",
   "execution_count": 10,
   "id": "ca8ff6ee-b921-4b26-a237-622453a8df87",
   "metadata": {
    "tags": []
   },
   "outputs": [
    {
     "name": "stderr",
     "output_type": "stream",
     "text": [
      "[INFO 06-12 07:26:45] Scheduler: `Scheduler` requires experiment to have immutable search space and optimization config. Setting property immutable_search_space_and_opt_config to `True` on experiment.\n"
     ]
    }
   ],
   "source": [
    "from ax.service.scheduler import Scheduler, SchedulerOptions\n",
    "\n",
    "scheduler = Scheduler(\n",
    "    experiment=experiment,\n",
    "    generation_strategy=gs,\n",
    "    options=SchedulerOptions(\n",
    "        total_trials=total_trials, max_pending_trials=2\n",
    "    ),\n",
    ")"
   ]
  },
  {
   "cell_type": "markdown",
   "id": "5a853285-281d-41d7-8494-cc17915de6be",
   "metadata": {},
   "source": [
    "# Running the optimization\n",
    "Now that everything is configured, we can let Ax run the optimization in a fully automated fashion. The Scheduler will periodically check the logs for the status of all currently running trials, and if a trial completes the scheduler will update its status on the experiment and fetch the observations needed for the Bayesian optimization algorithm."
   ]
  },
  {
   "cell_type": "code",
   "execution_count": 11,
   "id": "2d4d10c8-ac9d-45c9-b89c-b828afcdd3ca",
   "metadata": {
    "tags": []
   },
   "outputs": [
    {
     "name": "stderr",
     "output_type": "stream",
     "text": [
      "[INFO 06-12 07:26:45] Scheduler: Fetching data for newly completed trials: [].\n",
      "[INFO 06-12 07:26:45] Scheduler: Running trials [0]...\n",
      "[INFO 06-12 07:26:46] Scheduler: Running trials [1]...\n",
      "[INFO 06-12 07:26:47] Scheduler: Fetching data for newly completed trials: [].\n",
      "[INFO 06-12 07:26:47] Scheduler: Waiting for completed trials (for 1 sec, currently running trials: 2).\n",
      "[INFO 06-12 07:26:48] Scheduler: Fetching data for newly completed trials: [].\n",
      "[INFO 06-12 07:26:48] Scheduler: Waiting for completed trials (for 1.5 sec, currently running trials: 2).\n",
      "[INFO 06-12 07:26:50] Scheduler: Fetching data for newly completed trials: [].\n",
      "[INFO 06-12 07:26:50] Scheduler: Waiting for completed trials (for 2 sec, currently running trials: 2).\n",
      "[INFO 06-12 07:26:52] Scheduler: Fetching data for newly completed trials: [].\n",
      "[INFO 06-12 07:26:52] Scheduler: Waiting for completed trials (for 3 sec, currently running trials: 2).\n",
      "[INFO 06-12 07:26:55] Scheduler: Fetching data for newly completed trials: [].\n",
      "[INFO 06-12 07:26:55] Scheduler: Waiting for completed trials (for 5 sec, currently running trials: 2).\n",
      "[INFO 06-12 07:27:00] Scheduler: Fetching data for newly completed trials: [].\n",
      "[INFO 06-12 07:27:00] Scheduler: Waiting for completed trials (for 7 sec, currently running trials: 2).\n",
      "[INFO 06-12 07:27:08] Scheduler: Fetching data for newly completed trials: [].\n",
      "[INFO 06-12 07:27:08] Scheduler: Waiting for completed trials (for 11 sec, currently running trials: 2).\n",
      "[INFO 06-12 07:27:19] Scheduler: Fetching data for newly completed trials: [].\n",
      "[INFO 06-12 07:27:19] Scheduler: Waiting for completed trials (for 17 sec, currently running trials: 2).\n",
      "[INFO 06-12 07:27:36] Scheduler: Fetching data for newly completed trials: [].\n",
      "[INFO 06-12 07:27:36] Scheduler: Waiting for completed trials (for 25 sec, currently running trials: 2).\n",
      "[INFO 06-12 07:28:02] Scheduler: Fetching data for newly completed trials: [].\n",
      "[INFO 06-12 07:28:02] Scheduler: Waiting for completed trials (for 38 sec, currently running trials: 2).\n",
      "[INFO 06-12 07:28:40] Scheduler: Fetching data for newly completed trials: [].\n",
      "[INFO 06-12 07:28:40] Scheduler: Waiting for completed trials (for 57 sec, currently running trials: 2).\n",
      "[INFO 06-12 07:29:38] Scheduler: Fetching data for newly completed trials: [].\n",
      "[INFO 06-12 07:29:38] Scheduler: Waiting for completed trials (for 86 sec, currently running trials: 2).\n",
      "[INFO 06-12 07:31:05] Scheduler: Fetching data for newly completed trials: [].\n",
      "[INFO 06-12 07:31:05] Scheduler: Waiting for completed trials (for 129 sec, currently running trials: 2).\n",
      "[INFO 06-12 07:33:15] Scheduler: Fetching data for newly completed trials: [].\n",
      "[INFO 06-12 07:33:15] Scheduler: Waiting for completed trials (for 194 sec, currently running trials: 2).\n",
      "[INFO 06-12 07:36:29] Scheduler: Fetching data for newly completed trials: [].\n",
      "[INFO 06-12 07:36:29] Scheduler: Waiting for completed trials (for 291 sec, currently running trials: 2).\n",
      "[INFO 06-12 07:41:21] Scheduler: Fetching data for newly completed trials: [].\n",
      "[INFO 06-12 07:41:21] Scheduler: Waiting for completed trials (for 437 sec, currently running trials: 2).\n",
      "[INFO 06-12 07:48:39] Scheduler: Fetching data for newly completed trials: [].\n",
      "[INFO 06-12 07:48:39] Scheduler: Fetching data for newly completed trials: [].\n",
      "[INFO 06-12 07:48:39] Scheduler: Waiting for completed trials (for 1 sec, currently running trials: 2).\n",
      "[INFO 06-12 07:48:40] Scheduler: Fetching data for newly completed trials: [].\n",
      "[INFO 06-12 07:48:40] Scheduler: Waiting for completed trials (for 1.5 sec, currently running trials: 2).\n",
      "[INFO 06-12 07:48:42] Scheduler: Fetching data for newly completed trials: [].\n",
      "[INFO 06-12 07:48:42] Scheduler: Waiting for completed trials (for 2 sec, currently running trials: 2).\n",
      "[INFO 06-12 07:48:44] Scheduler: Fetching data for newly completed trials: [].\n",
      "[INFO 06-12 07:48:44] Scheduler: Waiting for completed trials (for 3 sec, currently running trials: 2).\n",
      "[INFO 06-12 07:48:48] Scheduler: Fetching data for newly completed trials: [].\n",
      "[INFO 06-12 07:48:48] Scheduler: Waiting for completed trials (for 5 sec, currently running trials: 2).\n",
      "[INFO 06-12 07:48:53] Scheduler: Fetching data for newly completed trials: [].\n",
      "[INFO 06-12 07:48:53] Scheduler: Waiting for completed trials (for 7 sec, currently running trials: 2).\n",
      "[INFO 06-12 07:49:00] Scheduler: Fetching data for newly completed trials: [].\n",
      "[INFO 06-12 07:49:00] Scheduler: Waiting for completed trials (for 11 sec, currently running trials: 2).\n",
      "[INFO 06-12 07:49:12] Scheduler: Fetching data for newly completed trials: [].\n",
      "[INFO 06-12 07:49:12] Scheduler: Waiting for completed trials (for 17 sec, currently running trials: 2).\n",
      "[INFO 06-12 07:49:29] Scheduler: Fetching data for newly completed trials: [].\n",
      "[INFO 06-12 07:49:29] Scheduler: Waiting for completed trials (for 25 sec, currently running trials: 2).\n",
      "[INFO 06-12 07:49:54] Scheduler: Fetching data for newly completed trials: [].\n",
      "[INFO 06-12 07:49:54] Scheduler: Waiting for completed trials (for 38 sec, currently running trials: 2).\n",
      "[INFO 06-12 07:50:33] Scheduler: Fetching data for newly completed trials: [].\n",
      "[INFO 06-12 07:50:33] Scheduler: Waiting for completed trials (for 57 sec, currently running trials: 2).\n",
      "[INFO 06-12 07:51:31] Scheduler: Fetching data for newly completed trials: [].\n",
      "[INFO 06-12 07:51:31] Scheduler: Waiting for completed trials (for 86 sec, currently running trials: 2).\n",
      "[INFO 06-12 07:52:57] Scheduler: Fetching data for newly completed trials: [].\n",
      "[INFO 06-12 07:52:57] Scheduler: Waiting for completed trials (for 129 sec, currently running trials: 2).\n",
      "[INFO 06-12 07:55:07] Scheduler: Fetching data for newly completed trials: [].\n",
      "[INFO 06-12 07:55:07] Scheduler: Waiting for completed trials (for 194 sec, currently running trials: 2).\n",
      "[INFO 06-12 07:58:22] Scheduler: Fetching data for newly completed trials: [].\n",
      "[INFO 06-12 07:58:22] Scheduler: Waiting for completed trials (for 291 sec, currently running trials: 2).\n",
      "[INFO 06-12 08:03:14] Scheduler: Fetching data for newly completed trials: [].\n",
      "[INFO 06-12 08:03:14] Scheduler: Waiting for completed trials (for 437 sec, currently running trials: 2).\n",
      "[INFO 06-12 08:10:32] Scheduler: Fetching data for newly completed trials: [].\n",
      "[INFO 06-12 08:10:32] Scheduler: Fetching data for newly completed trials: [].\n",
      "[INFO 06-12 08:10:32] Scheduler: Waiting for completed trials (for 1 sec, currently running trials: 2).\n",
      "[INFO 06-12 08:10:33] Scheduler: Fetching data for newly completed trials: [].\n",
      "[INFO 06-12 08:10:33] Scheduler: Waiting for completed trials (for 1.5 sec, currently running trials: 2).\n",
      "[INFO 06-12 08:10:34] Scheduler: Fetching data for newly completed trials: [].\n",
      "[INFO 06-12 08:10:34] Scheduler: Waiting for completed trials (for 2 sec, currently running trials: 2).\n",
      "[INFO 06-12 08:10:37] Scheduler: Fetching data for newly completed trials: [].\n",
      "[INFO 06-12 08:10:37] Scheduler: Waiting for completed trials (for 3 sec, currently running trials: 2).\n",
      "[INFO 06-12 08:10:40] Scheduler: Fetching data for newly completed trials: [].\n",
      "[INFO 06-12 08:10:40] Scheduler: Waiting for completed trials (for 5 sec, currently running trials: 2).\n",
      "[INFO 06-12 08:10:45] Scheduler: Fetching data for newly completed trials: [].\n",
      "[INFO 06-12 08:10:45] Scheduler: Waiting for completed trials (for 7 sec, currently running trials: 2).\n",
      "[INFO 06-12 08:10:53] Scheduler: Fetching data for newly completed trials: [].\n",
      "[INFO 06-12 08:10:53] Scheduler: Waiting for completed trials (for 11 sec, currently running trials: 2).\n",
      "[INFO 06-12 08:11:04] Scheduler: Fetching data for newly completed trials: [].\n",
      "[INFO 06-12 08:11:04] Scheduler: Waiting for completed trials (for 17 sec, currently running trials: 2).\n",
      "[INFO 06-12 08:11:21] Scheduler: Fetching data for newly completed trials: [].\n",
      "[INFO 06-12 08:11:21] Scheduler: Waiting for completed trials (for 25 sec, currently running trials: 2).\n",
      "[INFO 06-12 08:11:47] Scheduler: Fetching data for newly completed trials: [].\n",
      "[INFO 06-12 08:11:47] Scheduler: Waiting for completed trials (for 38 sec, currently running trials: 2).\n",
      "[INFO 06-12 08:12:25] Scheduler: Fetching data for newly completed trials: [].\n",
      "[INFO 06-12 08:12:25] Scheduler: Waiting for completed trials (for 57 sec, currently running trials: 2).\n",
      "[INFO 06-12 08:13:23] Scheduler: Fetching data for newly completed trials: [].\n",
      "[INFO 06-12 08:13:23] Scheduler: Waiting for completed trials (for 86 sec, currently running trials: 2).\n",
      "[INFO 06-12 08:14:50] Scheduler: Fetching data for newly completed trials: [].\n",
      "[INFO 06-12 08:14:50] Scheduler: Waiting for completed trials (for 129 sec, currently running trials: 2).\n",
      "[INFO 06-12 08:16:59] Scheduler: Fetching data for newly completed trials: [].\n",
      "[INFO 06-12 08:16:59] Scheduler: Waiting for completed trials (for 194 sec, currently running trials: 2).\n",
      "[INFO 06-12 08:20:14] Scheduler: Fetching data for newly completed trials: [].\n",
      "[INFO 06-12 08:20:14] Scheduler: Waiting for completed trials (for 291 sec, currently running trials: 2).\n",
      "[INFO 06-12 08:25:06] Scheduler: Fetching data for newly completed trials: [].\n",
      "[INFO 06-12 08:25:06] Scheduler: Waiting for completed trials (for 437 sec, currently running trials: 2).\n",
      "[INFO 06-12 08:32:24] Scheduler: Fetching data for newly completed trials: [].\n",
      "[INFO 06-12 08:32:24] Scheduler: Fetching data for newly completed trials: [].\n",
      "[INFO 06-12 08:32:24] Scheduler: Waiting for completed trials (for 1 sec, currently running trials: 2).\n",
      "[INFO 06-12 08:32:25] Scheduler: Fetching data for newly completed trials: [].\n",
      "[INFO 06-12 08:32:25] Scheduler: Waiting for completed trials (for 1.5 sec, currently running trials: 2).\n",
      "[INFO 06-12 08:32:27] Scheduler: Fetching data for newly completed trials: [].\n",
      "[INFO 06-12 08:32:27] Scheduler: Waiting for completed trials (for 2 sec, currently running trials: 2).\n",
      "[INFO 06-12 08:32:29] Scheduler: Fetching data for newly completed trials: [].\n",
      "[INFO 06-12 08:32:29] Scheduler: Waiting for completed trials (for 3 sec, currently running trials: 2).\n",
      "[INFO 06-12 08:32:32] Scheduler: Fetching data for newly completed trials: [].\n",
      "[INFO 06-12 08:32:32] Scheduler: Waiting for completed trials (for 5 sec, currently running trials: 2).\n",
      "[INFO 06-12 08:32:37] Scheduler: Fetching data for newly completed trials: [].\n",
      "[INFO 06-12 08:32:37] Scheduler: Waiting for completed trials (for 7 sec, currently running trials: 2).\n",
      "[INFO 06-12 08:32:45] Scheduler: Fetching data for newly completed trials: [].\n",
      "[INFO 06-12 08:32:45] Scheduler: Waiting for completed trials (for 11 sec, currently running trials: 2).\n",
      "[INFO 06-12 08:32:56] Scheduler: Fetching data for newly completed trials: [].\n",
      "[INFO 06-12 08:32:56] Scheduler: Waiting for completed trials (for 17 sec, currently running trials: 2).\n",
      "[INFO 06-12 08:33:14] Scheduler: Fetching data for newly completed trials: [].\n",
      "[INFO 06-12 08:33:14] Scheduler: Waiting for completed trials (for 25 sec, currently running trials: 2).\n",
      "[INFO 06-12 08:33:39] Scheduler: Fetching data for newly completed trials: [].\n",
      "[INFO 06-12 08:33:39] Scheduler: Waiting for completed trials (for 38 sec, currently running trials: 2).\n",
      "[INFO 06-12 08:34:18] Scheduler: Fetching data for newly completed trials: [].\n",
      "[INFO 06-12 08:34:18] Scheduler: Waiting for completed trials (for 57 sec, currently running trials: 2).\n",
      "[INFO 06-12 08:35:15] Scheduler: Fetching data for newly completed trials: [].\n",
      "[INFO 06-12 08:35:15] Scheduler: Waiting for completed trials (for 86 sec, currently running trials: 2).\n",
      "[INFO 06-12 08:36:42] Scheduler: Fetching data for newly completed trials: [].\n",
      "[INFO 06-12 08:36:42] Scheduler: Waiting for completed trials (for 129 sec, currently running trials: 2).\n",
      "[INFO 06-12 08:38:52] Scheduler: Fetching data for newly completed trials: [].\n",
      "[INFO 06-12 08:38:52] Scheduler: Waiting for completed trials (for 194 sec, currently running trials: 2).\n",
      "[INFO 06-12 08:42:07] Scheduler: Fetching data for newly completed trials: [0].\n",
      "[INFO 06-12 08:42:07] Scheduler: Retrieved COMPLETED trials: [0].\n",
      "/opt/conda/envs/pytorch_light/lib/python3.10/site-packages/ax/core/map_data.py:190: FutureWarning: The behavior of DataFrame concatenation with empty or all-NA entries is deprecated. In a future version, this will no longer exclude empty or all-NA columns when determining the result dtypes. To retain the old behavior, exclude the relevant entries before the concat operation.\n",
      "  df = pd.concat(\n",
      "/opt/conda/envs/pytorch_light/lib/python3.10/site-packages/ax/core/map_data.py:190: FutureWarning: The behavior of DataFrame concatenation with empty or all-NA entries is deprecated. In a future version, this will no longer exclude empty or all-NA columns when determining the result dtypes. To retain the old behavior, exclude the relevant entries before the concat operation.\n",
      "  df = pd.concat(\n",
      "[INFO 06-12 08:42:07] Scheduler: Running trials [2]...\n",
      "[INFO 06-12 08:42:08] Scheduler: Fetching data for newly completed trials: [].\n",
      "[INFO 06-12 08:42:08] Scheduler: Waiting for completed trials (for 1 sec, currently running trials: 2).\n",
      "[INFO 06-12 08:42:09] Scheduler: Fetching data for newly completed trials: [].\n",
      "[INFO 06-12 08:42:09] Scheduler: Waiting for completed trials (for 1.5 sec, currently running trials: 2).\n",
      "[INFO 06-12 08:42:10] Scheduler: Fetching data for newly completed trials: [1].\n",
      "[INFO 06-12 08:42:10] Scheduler: Retrieved COMPLETED trials: [1].\n",
      "/opt/conda/envs/pytorch_light/lib/python3.10/site-packages/ax/core/map_data.py:190: FutureWarning: The behavior of DataFrame concatenation with empty or all-NA entries is deprecated. In a future version, this will no longer exclude empty or all-NA columns when determining the result dtypes. To retain the old behavior, exclude the relevant entries before the concat operation.\n",
      "  df = pd.concat(\n",
      "/opt/conda/envs/pytorch_light/lib/python3.10/site-packages/ax/core/map_data.py:190: FutureWarning: The behavior of DataFrame concatenation with empty or all-NA entries is deprecated. In a future version, this will no longer exclude empty or all-NA columns when determining the result dtypes. To retain the old behavior, exclude the relevant entries before the concat operation.\n",
      "  df = pd.concat(\n",
      "[INFO 06-12 08:42:10] Scheduler: Running trials [3]...\n",
      "[INFO 06-12 08:42:11] Scheduler: Fetching data for newly completed trials: [].\n",
      "[INFO 06-12 08:42:11] Scheduler: Waiting for completed trials (for 1 sec, currently running trials: 2).\n",
      "[INFO 06-12 08:42:12] Scheduler: Fetching data for newly completed trials: [].\n",
      "[INFO 06-12 08:42:12] Scheduler: Waiting for completed trials (for 1.5 sec, currently running trials: 2).\n",
      "[INFO 06-12 08:42:14] Scheduler: Fetching data for newly completed trials: [].\n",
      "[INFO 06-12 08:42:14] Scheduler: Waiting for completed trials (for 2 sec, currently running trials: 2).\n",
      "[INFO 06-12 08:42:16] Scheduler: Fetching data for newly completed trials: [].\n",
      "[INFO 06-12 08:42:16] Scheduler: Waiting for completed trials (for 3 sec, currently running trials: 2).\n",
      "[INFO 06-12 08:42:19] Scheduler: Fetching data for newly completed trials: [].\n",
      "[INFO 06-12 08:42:19] Scheduler: Waiting for completed trials (for 5 sec, currently running trials: 2).\n",
      "[INFO 06-12 08:42:25] Scheduler: Fetching data for newly completed trials: [].\n",
      "[INFO 06-12 08:42:25] Scheduler: Waiting for completed trials (for 7 sec, currently running trials: 2).\n",
      "[INFO 06-12 08:42:32] Scheduler: Fetching data for newly completed trials: [].\n",
      "[INFO 06-12 08:42:32] Scheduler: Waiting for completed trials (for 11 sec, currently running trials: 2).\n",
      "[INFO 06-12 08:42:44] Scheduler: Fetching data for newly completed trials: [].\n",
      "[INFO 06-12 08:42:44] Scheduler: Waiting for completed trials (for 17 sec, currently running trials: 2).\n",
      "[INFO 06-12 08:43:01] Scheduler: Fetching data for newly completed trials: [].\n",
      "[INFO 06-12 08:43:01] Scheduler: Waiting for completed trials (for 25 sec, currently running trials: 2).\n",
      "[INFO 06-12 08:43:26] Scheduler: Fetching data for newly completed trials: [].\n",
      "[INFO 06-12 08:43:26] Scheduler: Waiting for completed trials (for 38 sec, currently running trials: 2).\n",
      "[INFO 06-12 08:44:05] Scheduler: Fetching data for newly completed trials: [].\n",
      "[INFO 06-12 08:44:05] Scheduler: Waiting for completed trials (for 57 sec, currently running trials: 2).\n",
      "[INFO 06-12 08:45:02] Scheduler: Fetching data for newly completed trials: [].\n",
      "[INFO 06-12 08:45:02] Scheduler: Waiting for completed trials (for 86 sec, currently running trials: 2).\n",
      "[INFO 06-12 08:46:29] Scheduler: Fetching data for newly completed trials: [].\n",
      "[INFO 06-12 08:46:29] Scheduler: Waiting for completed trials (for 129 sec, currently running trials: 2).\n",
      "[INFO 06-12 08:48:39] Scheduler: Fetching data for newly completed trials: [].\n",
      "[INFO 06-12 08:48:39] Scheduler: Waiting for completed trials (for 194 sec, currently running trials: 2).\n",
      "[INFO 06-12 08:51:54] Scheduler: Fetching data for newly completed trials: [].\n",
      "[INFO 06-12 08:51:54] Scheduler: Waiting for completed trials (for 291 sec, currently running trials: 2).\n",
      "[INFO 06-12 08:56:46] Scheduler: Fetching data for newly completed trials: [].\n",
      "[INFO 06-12 08:56:46] Scheduler: Waiting for completed trials (for 437 sec, currently running trials: 2).\n",
      "[INFO 06-12 09:04:04] Scheduler: Fetching data for newly completed trials: [].\n",
      "[INFO 06-12 09:04:04] Scheduler: Done submitting trials, waiting for remaining 2 running trials...\n",
      "[INFO 06-12 09:04:04] Scheduler: Fetching data for newly completed trials: [].\n",
      "[INFO 06-12 09:04:04] Scheduler: Waiting for completed trials (for 1 sec, currently running trials: 2).\n",
      "[INFO 06-12 09:04:05] Scheduler: Fetching data for newly completed trials: [].\n",
      "[INFO 06-12 09:04:05] Scheduler: Waiting for completed trials (for 1.5 sec, currently running trials: 2).\n",
      "[INFO 06-12 09:04:06] Scheduler: Fetching data for newly completed trials: [].\n",
      "[INFO 06-12 09:04:06] Scheduler: Waiting for completed trials (for 2 sec, currently running trials: 2).\n",
      "[INFO 06-12 09:04:08] Scheduler: Fetching data for newly completed trials: [].\n",
      "[INFO 06-12 09:04:08] Scheduler: Waiting for completed trials (for 3 sec, currently running trials: 2).\n",
      "[INFO 06-12 09:04:12] Scheduler: Fetching data for newly completed trials: [].\n",
      "[INFO 06-12 09:04:12] Scheduler: Waiting for completed trials (for 5 sec, currently running trials: 2).\n",
      "[INFO 06-12 09:04:17] Scheduler: Fetching data for newly completed trials: [].\n",
      "[INFO 06-12 09:04:17] Scheduler: Waiting for completed trials (for 7 sec, currently running trials: 2).\n",
      "[INFO 06-12 09:04:25] Scheduler: Fetching data for newly completed trials: [].\n",
      "[INFO 06-12 09:04:25] Scheduler: Waiting for completed trials (for 11 sec, currently running trials: 2).\n",
      "[INFO 06-12 09:04:36] Scheduler: Fetching data for newly completed trials: [].\n",
      "[INFO 06-12 09:04:36] Scheduler: Waiting for completed trials (for 17 sec, currently running trials: 2).\n",
      "[INFO 06-12 09:04:53] Scheduler: Fetching data for newly completed trials: [].\n",
      "[INFO 06-12 09:04:53] Scheduler: Waiting for completed trials (for 25 sec, currently running trials: 2).\n",
      "[INFO 06-12 09:05:19] Scheduler: Fetching data for newly completed trials: [].\n",
      "[INFO 06-12 09:05:19] Scheduler: Waiting for completed trials (for 38 sec, currently running trials: 2).\n",
      "[INFO 06-12 09:05:57] Scheduler: Fetching data for newly completed trials: [].\n",
      "[INFO 06-12 09:05:57] Scheduler: Waiting for completed trials (for 57 sec, currently running trials: 2).\n",
      "[INFO 06-12 09:06:55] Scheduler: Fetching data for newly completed trials: [].\n",
      "[INFO 06-12 09:06:55] Scheduler: Waiting for completed trials (for 86 sec, currently running trials: 2).\n",
      "[INFO 06-12 09:08:21] Scheduler: Fetching data for newly completed trials: [].\n",
      "[INFO 06-12 09:08:21] Scheduler: Waiting for completed trials (for 129 sec, currently running trials: 2).\n",
      "[INFO 06-12 09:10:31] Scheduler: Fetching data for newly completed trials: [].\n",
      "[INFO 06-12 09:10:31] Scheduler: Waiting for completed trials (for 194 sec, currently running trials: 2).\n",
      "[INFO 06-12 09:13:46] Scheduler: Fetching data for newly completed trials: [].\n",
      "[INFO 06-12 09:13:46] Scheduler: Waiting for completed trials (for 291 sec, currently running trials: 2).\n",
      "[INFO 06-12 09:18:38] Scheduler: Fetching data for newly completed trials: [].\n",
      "[INFO 06-12 09:18:38] Scheduler: Waiting for completed trials (for 437 sec, currently running trials: 2).\n",
      "[INFO 06-12 09:25:56] Scheduler: Fetching data for newly completed trials: [].\n",
      "[INFO 06-12 09:25:56] Scheduler: Fetching data for newly completed trials: [].\n",
      "[INFO 06-12 09:25:56] Scheduler: Waiting for completed trials (for 1 sec, currently running trials: 2).\n",
      "[INFO 06-12 09:25:57] Scheduler: Fetching data for newly completed trials: [].\n",
      "[INFO 06-12 09:25:57] Scheduler: Waiting for completed trials (for 1.5 sec, currently running trials: 2).\n",
      "[INFO 06-12 09:25:59] Scheduler: Fetching data for newly completed trials: [].\n",
      "[INFO 06-12 09:25:59] Scheduler: Waiting for completed trials (for 2 sec, currently running trials: 2).\n",
      "[INFO 06-12 09:26:01] Scheduler: Fetching data for newly completed trials: [].\n",
      "[INFO 06-12 09:26:01] Scheduler: Waiting for completed trials (for 3 sec, currently running trials: 2).\n",
      "[INFO 06-12 09:26:04] Scheduler: Fetching data for newly completed trials: [].\n",
      "[INFO 06-12 09:26:04] Scheduler: Waiting for completed trials (for 5 sec, currently running trials: 2).\n",
      "[INFO 06-12 09:26:09] Scheduler: Fetching data for newly completed trials: [].\n",
      "[INFO 06-12 09:26:09] Scheduler: Waiting for completed trials (for 7 sec, currently running trials: 2).\n",
      "[INFO 06-12 09:26:17] Scheduler: Fetching data for newly completed trials: [].\n",
      "[INFO 06-12 09:26:17] Scheduler: Waiting for completed trials (for 11 sec, currently running trials: 2).\n",
      "[INFO 06-12 09:26:28] Scheduler: Fetching data for newly completed trials: [].\n",
      "[INFO 06-12 09:26:28] Scheduler: Waiting for completed trials (for 17 sec, currently running trials: 2).\n",
      "[INFO 06-12 09:26:45] Scheduler: Fetching data for newly completed trials: [].\n",
      "[INFO 06-12 09:26:45] Scheduler: Waiting for completed trials (for 25 sec, currently running trials: 2).\n",
      "[INFO 06-12 09:27:11] Scheduler: Fetching data for newly completed trials: [].\n",
      "[INFO 06-12 09:27:11] Scheduler: Waiting for completed trials (for 38 sec, currently running trials: 2).\n",
      "[INFO 06-12 09:27:50] Scheduler: Fetching data for newly completed trials: [].\n",
      "[INFO 06-12 09:27:50] Scheduler: Waiting for completed trials (for 57 sec, currently running trials: 2).\n",
      "[INFO 06-12 09:28:47] Scheduler: Fetching data for newly completed trials: [].\n",
      "[INFO 06-12 09:28:47] Scheduler: Waiting for completed trials (for 86 sec, currently running trials: 2).\n",
      "[INFO 06-12 09:30:14] Scheduler: Fetching data for newly completed trials: [].\n",
      "[INFO 06-12 09:30:14] Scheduler: Waiting for completed trials (for 129 sec, currently running trials: 2).\n",
      "[INFO 06-12 09:32:24] Scheduler: Fetching data for newly completed trials: [].\n",
      "[INFO 06-12 09:32:24] Scheduler: Waiting for completed trials (for 194 sec, currently running trials: 2).\n",
      "[INFO 06-12 09:35:38] Scheduler: Fetching data for newly completed trials: [].\n",
      "[INFO 06-12 09:35:38] Scheduler: Waiting for completed trials (for 291 sec, currently running trials: 2).\n",
      "[INFO 06-12 09:40:30] Scheduler: Fetching data for newly completed trials: [].\n",
      "[INFO 06-12 09:40:30] Scheduler: Waiting for completed trials (for 437 sec, currently running trials: 2).\n",
      "[INFO 06-12 09:47:48] Scheduler: Fetching data for newly completed trials: [].\n",
      "[INFO 06-12 09:47:48] Scheduler: Fetching data for newly completed trials: [].\n",
      "[INFO 06-12 09:47:48] Scheduler: Waiting for completed trials (for 1 sec, currently running trials: 2).\n",
      "[INFO 06-12 09:47:49] Scheduler: Fetching data for newly completed trials: [].\n",
      "[INFO 06-12 09:47:50] Scheduler: Waiting for completed trials (for 1.5 sec, currently running trials: 2).\n",
      "[INFO 06-12 09:47:51] Scheduler: Fetching data for newly completed trials: [].\n",
      "[INFO 06-12 09:47:51] Scheduler: Waiting for completed trials (for 2 sec, currently running trials: 2).\n",
      "[INFO 06-12 09:47:53] Scheduler: Fetching data for newly completed trials: [].\n",
      "[INFO 06-12 09:47:53] Scheduler: Waiting for completed trials (for 3 sec, currently running trials: 2).\n",
      "[INFO 06-12 09:47:57] Scheduler: Fetching data for newly completed trials: [].\n",
      "[INFO 06-12 09:47:57] Scheduler: Waiting for completed trials (for 5 sec, currently running trials: 2).\n",
      "[INFO 06-12 09:48:02] Scheduler: Fetching data for newly completed trials: [].\n",
      "[INFO 06-12 09:48:02] Scheduler: Waiting for completed trials (for 7 sec, currently running trials: 2).\n",
      "[INFO 06-12 09:48:09] Scheduler: Fetching data for newly completed trials: [].\n",
      "[INFO 06-12 09:48:09] Scheduler: Waiting for completed trials (for 11 sec, currently running trials: 2).\n",
      "[INFO 06-12 09:48:21] Scheduler: Fetching data for newly completed trials: [].\n",
      "[INFO 06-12 09:48:21] Scheduler: Waiting for completed trials (for 17 sec, currently running trials: 2).\n",
      "[INFO 06-12 09:48:38] Scheduler: Fetching data for newly completed trials: [].\n",
      "[INFO 06-12 09:48:38] Scheduler: Waiting for completed trials (for 25 sec, currently running trials: 2).\n",
      "[INFO 06-12 09:49:03] Scheduler: Fetching data for newly completed trials: [].\n",
      "[INFO 06-12 09:49:03] Scheduler: Waiting for completed trials (for 38 sec, currently running trials: 2).\n",
      "[INFO 06-12 09:49:42] Scheduler: Fetching data for newly completed trials: [].\n",
      "[INFO 06-12 09:49:42] Scheduler: Waiting for completed trials (for 57 sec, currently running trials: 2).\n",
      "[INFO 06-12 09:50:40] Scheduler: Fetching data for newly completed trials: [].\n",
      "[INFO 06-12 09:50:40] Scheduler: Waiting for completed trials (for 86 sec, currently running trials: 2).\n",
      "[INFO 06-12 09:52:06] Scheduler: Fetching data for newly completed trials: [].\n",
      "[INFO 06-12 09:52:06] Scheduler: Waiting for completed trials (for 129 sec, currently running trials: 2).\n",
      "[INFO 06-12 09:54:16] Scheduler: Fetching data for newly completed trials: [].\n",
      "[INFO 06-12 09:54:16] Scheduler: Waiting for completed trials (for 194 sec, currently running trials: 2).\n",
      "[INFO 06-12 09:57:31] Scheduler: Fetching data for newly completed trials: [3].\n",
      "[INFO 06-12 09:57:31] Scheduler: Retrieved COMPLETED trials: [3].\n",
      "/opt/conda/envs/pytorch_light/lib/python3.10/site-packages/ax/core/map_data.py:190: FutureWarning: The behavior of DataFrame concatenation with empty or all-NA entries is deprecated. In a future version, this will no longer exclude empty or all-NA columns when determining the result dtypes. To retain the old behavior, exclude the relevant entries before the concat operation.\n",
      "  df = pd.concat(\n",
      "[INFO 06-12 09:57:31] Scheduler: Fetching data for newly completed trials: [].\n",
      "[INFO 06-12 09:57:31] Scheduler: Waiting for completed trials (for 1 sec, currently running trials: 1).\n",
      "[INFO 06-12 09:57:32] Scheduler: Fetching data for newly completed trials: [].\n",
      "[INFO 06-12 09:57:32] Scheduler: Waiting for completed trials (for 1.5 sec, currently running trials: 1).\n",
      "[INFO 06-12 09:57:33] Scheduler: Fetching data for newly completed trials: [].\n",
      "[INFO 06-12 09:57:33] Scheduler: Waiting for completed trials (for 2 sec, currently running trials: 1).\n",
      "[INFO 06-12 09:57:36] Scheduler: Fetching data for newly completed trials: [].\n",
      "[INFO 06-12 09:57:36] Scheduler: Waiting for completed trials (for 3 sec, currently running trials: 1).\n",
      "[INFO 06-12 09:57:39] Scheduler: Fetching data for newly completed trials: [].\n",
      "[INFO 06-12 09:57:39] Scheduler: Waiting for completed trials (for 5 sec, currently running trials: 1).\n",
      "[INFO 06-12 09:57:44] Scheduler: Fetching data for newly completed trials: [].\n",
      "[INFO 06-12 09:57:44] Scheduler: Waiting for completed trials (for 7 sec, currently running trials: 1).\n",
      "[INFO 06-12 09:57:52] Scheduler: Fetching data for newly completed trials: [].\n",
      "[INFO 06-12 09:57:52] Scheduler: Waiting for completed trials (for 11 sec, currently running trials: 1).\n",
      "[INFO 06-12 09:58:03] Scheduler: Fetching data for newly completed trials: [].\n",
      "[INFO 06-12 09:58:03] Scheduler: Waiting for completed trials (for 17 sec, currently running trials: 1).\n",
      "[INFO 06-12 09:58:20] Scheduler: Fetching data for newly completed trials: [2].\n",
      "[INFO 06-12 09:58:20] Scheduler: Retrieved COMPLETED trials: [2].\n",
      "/opt/conda/envs/pytorch_light/lib/python3.10/site-packages/ax/core/map_data.py:190: FutureWarning: The behavior of DataFrame concatenation with empty or all-NA entries is deprecated. In a future version, this will no longer exclude empty or all-NA columns when determining the result dtypes. To retain the old behavior, exclude the relevant entries before the concat operation.\n",
      "  df = pd.concat(\n"
     ]
    },
    {
     "data": {
      "text/plain": [
       "OptimizationResult()"
      ]
     },
     "execution_count": 11,
     "metadata": {},
     "output_type": "execute_result"
    }
   ],
   "source": [
    "scheduler.run_all_trials()"
   ]
  },
  {
   "cell_type": "markdown",
   "id": "eb4dac51-a503-4366-bb59-5a248e5ef11e",
   "metadata": {},
   "source": [
    "# Evaluating the results\n",
    "We can now inspect the result of the optimization using helper functions and visualizations included with Ax.\n",
    "\n",
    "First, we generate a dataframe with a summary of the results of the experiment. Each row in this dataframe corresponds to a trial (that is, a training job that was run), and contains information on the status of the trial, the parameter configuration that was evaluated, and the metric values that were observed. This provides an easy way to sanity check the optimization."
   ]
  },
  {
   "cell_type": "code",
   "execution_count": 15,
   "id": "5e09b31c-11ad-4778-bf91-21199669ea04",
   "metadata": {},
   "outputs": [
    {
     "name": "stderr",
     "output_type": "stream",
     "text": [
      "/opt/conda/envs/pytorch_light/lib/python3.10/site-packages/ax/core/map_data.py:190: FutureWarning:\n",
      "\n",
      "The behavior of DataFrame concatenation with empty or all-NA entries is deprecated. In a future version, this will no longer exclude empty or all-NA columns when determining the result dtypes. To retain the old behavior, exclude the relevant entries before the concat operation.\n",
      "\n",
      "[WARNING 06-12 09:59:51] ax.service.utils.report_utils: Column reason missing for all trials. Not appending column.\n"
     ]
    },
    {
     "data": {
      "text/html": [
       "<div>\n",
       "<style scoped>\n",
       "    .dataframe tbody tr th:only-of-type {\n",
       "        vertical-align: middle;\n",
       "    }\n",
       "\n",
       "    .dataframe tbody tr th {\n",
       "        vertical-align: top;\n",
       "    }\n",
       "\n",
       "    .dataframe thead th {\n",
       "        text-align: right;\n",
       "    }\n",
       "</style>\n",
       "<table border=\"1\" class=\"dataframe\">\n",
       "  <thead>\n",
       "    <tr style=\"text-align: right;\">\n",
       "      <th></th>\n",
       "      <th>trial_index</th>\n",
       "      <th>arm_name</th>\n",
       "      <th>trial_status</th>\n",
       "      <th>generation_method</th>\n",
       "      <th>is_feasible</th>\n",
       "      <th>num_params</th>\n",
       "      <th>val_mean_f1</th>\n",
       "      <th>conv10_channels</th>\n",
       "      <th>conv20_channels</th>\n",
       "      <th>conv31_channels</th>\n",
       "      <th>...</th>\n",
       "      <th>conv34_channels</th>\n",
       "      <th>conv41_channels</th>\n",
       "      <th>conv42_channels</th>\n",
       "      <th>conv43_channels</th>\n",
       "      <th>conv44_channels</th>\n",
       "      <th>conv45_channels</th>\n",
       "      <th>last_channels</th>\n",
       "      <th>head_features</th>\n",
       "      <th>learning_rate</th>\n",
       "      <th>dropout</th>\n",
       "    </tr>\n",
       "  </thead>\n",
       "  <tbody>\n",
       "    <tr>\n",
       "      <th>0</th>\n",
       "      <td>0</td>\n",
       "      <td>0_0</td>\n",
       "      <td>COMPLETED</td>\n",
       "      <td>Sobol</td>\n",
       "      <td>False</td>\n",
       "      <td>449154.0</td>\n",
       "      <td>0.880747</td>\n",
       "      <td>32</td>\n",
       "      <td>16</td>\n",
       "      <td>16</td>\n",
       "      <td>...</td>\n",
       "      <td>128</td>\n",
       "      <td>8</td>\n",
       "      <td>128</td>\n",
       "      <td>32</td>\n",
       "      <td>256</td>\n",
       "      <td>128</td>\n",
       "      <td>256</td>\n",
       "      <td>8</td>\n",
       "      <td>0.000199</td>\n",
       "      <td>0.051839</td>\n",
       "    </tr>\n",
       "    <tr>\n",
       "      <th>1</th>\n",
       "      <td>1</td>\n",
       "      <td>1_0</td>\n",
       "      <td>COMPLETED</td>\n",
       "      <td>Sobol</td>\n",
       "      <td>False</td>\n",
       "      <td>219858.0</td>\n",
       "      <td>0.855376</td>\n",
       "      <td>64</td>\n",
       "      <td>16</td>\n",
       "      <td>8</td>\n",
       "      <td>...</td>\n",
       "      <td>64</td>\n",
       "      <td>16</td>\n",
       "      <td>32</td>\n",
       "      <td>64</td>\n",
       "      <td>256</td>\n",
       "      <td>16</td>\n",
       "      <td>256</td>\n",
       "      <td>4</td>\n",
       "      <td>0.000807</td>\n",
       "      <td>0.442896</td>\n",
       "    </tr>\n",
       "    <tr>\n",
       "      <th>2</th>\n",
       "      <td>2</td>\n",
       "      <td>2_0</td>\n",
       "      <td>COMPLETED</td>\n",
       "      <td>Sobol</td>\n",
       "      <td>False</td>\n",
       "      <td>232930.0</td>\n",
       "      <td>0.899544</td>\n",
       "      <td>64</td>\n",
       "      <td>32</td>\n",
       "      <td>8</td>\n",
       "      <td>...</td>\n",
       "      <td>64</td>\n",
       "      <td>32</td>\n",
       "      <td>128</td>\n",
       "      <td>64</td>\n",
       "      <td>128</td>\n",
       "      <td>64</td>\n",
       "      <td>64</td>\n",
       "      <td>8</td>\n",
       "      <td>0.001029</td>\n",
       "      <td>0.486576</td>\n",
       "    </tr>\n",
       "    <tr>\n",
       "      <th>3</th>\n",
       "      <td>3</td>\n",
       "      <td>3_0</td>\n",
       "      <td>COMPLETED</td>\n",
       "      <td>Sobol</td>\n",
       "      <td>False</td>\n",
       "      <td>375410.0</td>\n",
       "      <td>0.905497</td>\n",
       "      <td>32</td>\n",
       "      <td>32</td>\n",
       "      <td>16</td>\n",
       "      <td>...</td>\n",
       "      <td>128</td>\n",
       "      <td>32</td>\n",
       "      <td>128</td>\n",
       "      <td>64</td>\n",
       "      <td>256</td>\n",
       "      <td>64</td>\n",
       "      <td>128</td>\n",
       "      <td>4</td>\n",
       "      <td>0.001297</td>\n",
       "      <td>0.352927</td>\n",
       "    </tr>\n",
       "  </tbody>\n",
       "</table>\n",
       "<p>4 rows × 22 columns</p>\n",
       "</div>"
      ],
      "text/plain": [
       "   trial_index arm_name trial_status generation_method  is_feasible  \\\n",
       "0            0      0_0    COMPLETED             Sobol        False   \n",
       "1            1      1_0    COMPLETED             Sobol        False   \n",
       "2            2      2_0    COMPLETED             Sobol        False   \n",
       "3            3      3_0    COMPLETED             Sobol        False   \n",
       "\n",
       "   num_params  val_mean_f1  conv10_channels  conv20_channels  conv31_channels  \\\n",
       "0    449154.0     0.880747               32               16               16   \n",
       "1    219858.0     0.855376               64               16                8   \n",
       "2    232930.0     0.899544               64               32                8   \n",
       "3    375410.0     0.905497               32               32               16   \n",
       "\n",
       "   ...  conv34_channels  conv41_channels  conv42_channels  conv43_channels  \\\n",
       "0  ...              128                8              128               32   \n",
       "1  ...               64               16               32               64   \n",
       "2  ...               64               32              128               64   \n",
       "3  ...              128               32              128               64   \n",
       "\n",
       "   conv44_channels  conv45_channels  last_channels  head_features  \\\n",
       "0              256              128            256              8   \n",
       "1              256               16            256              4   \n",
       "2              128               64             64              8   \n",
       "3              256               64            128              4   \n",
       "\n",
       "   learning_rate   dropout  \n",
       "0       0.000199  0.051839  \n",
       "1       0.000807  0.442896  \n",
       "2       0.001029  0.486576  \n",
       "3       0.001297  0.352927  \n",
       "\n",
       "[4 rows x 22 columns]"
      ]
     },
     "execution_count": 15,
     "metadata": {},
     "output_type": "execute_result"
    }
   ],
   "source": [
    "from ax.service.utils.report_utils import exp_to_df\n",
    "\n",
    "df = exp_to_df(experiment)\n",
    "df.head(4)"
   ]
  },
  {
   "cell_type": "markdown",
   "id": "69f77334-f328-47f3-9fcf-b36b9a5b6341",
   "metadata": {},
   "source": [
    "We can also visualize the Pareto frontier of tradeoffs between the validation accuracy and the number of model parameters.\n",
    "\n",
    "Ax uses Plotly to produce interactive plots, which allow you to do things like zoom, crop, or hover in order to view details of components of the plot. Try it out, and take a look at the visualization tutorial if you’d like to learn more).\n",
    "\n",
    "The final optimization results are shown in the figure below where the color corresponds to the iteration number for each trial. We see that our method was able to successfully explore the trade-offs and found both large models with high validation accuracy as well as small models with comparatively lower validation accuracy."
   ]
  },
  {
   "cell_type": "code",
   "execution_count": 16,
   "id": "801cbe86-1aed-438c-9b2d-afb7596a647c",
   "metadata": {
    "tags": []
   },
   "outputs": [
    {
     "name": "stderr",
     "output_type": "stream",
     "text": [
      "/opt/conda/envs/pytorch_light/lib/python3.10/site-packages/ax/core/map_data.py:190: FutureWarning:\n",
      "\n",
      "The behavior of DataFrame concatenation with empty or all-NA entries is deprecated. In a future version, this will no longer exclude empty or all-NA columns when determining the result dtypes. To retain the old behavior, exclude the relevant entries before the concat operation.\n",
      "\n",
      "[WARNING 06-12 09:59:52] ax.service.utils.report_utils: Column reason missing for all trials. Not appending column.\n"
     ]
    },
    {
     "data": {
      "application/vnd.plotly.v1+json": {
       "config": {
        "plotlyServerURL": "https://plot.ly"
       },
       "data": [
        {
         "hovertemplate": "%{text}",
         "marker": {
          "color": [
           0,
           33.333333333333336,
           66.66666666666667,
           100
          ],
          "colorbar": {
           "ticktext": [
            1,
            "iteration",
            4
           ],
           "tickvals": [
            0,
            50,
            100
           ]
          },
          "colorscale": [
           [
            0,
            "#000004"
           ],
           [
            0.1111111111111111,
            "#180f3d"
           ],
           [
            0.2222222222222222,
            "#440f76"
           ],
           [
            0.3333333333333333,
            "#721f81"
           ],
           [
            0.4444444444444444,
            "#9e2f7f"
           ],
           [
            0.5555555555555556,
            "#cd4071"
           ],
           [
            0.6666666666666666,
            "#f1605d"
           ],
           [
            0.7777777777777778,
            "#fd9668"
           ],
           [
            0.8888888888888888,
            "#feca8d"
           ],
           [
            1,
            "#fcfdbf"
           ]
          ]
         },
         "mode": "markers",
         "name": "Experimental points",
         "text": [
          "Arm name: 0_0",
          "Arm name: 1_0",
          "Arm name: 2_0",
          "Arm name: 3_0"
         ],
         "type": "scatter",
         "x": [
          0.8807470202445984,
          0.8553758263587952,
          0.8995440006256104,
          0.9054973125457764
         ],
         "y": [
          449154,
          219858,
          232930,
          375410
         ]
        }
       ],
       "layout": {
        "autosize": true,
        "showlegend": false,
        "template": {
         "data": {
          "bar": [
           {
            "error_x": {
             "color": "#2a3f5f"
            },
            "error_y": {
             "color": "#2a3f5f"
            },
            "marker": {
             "line": {
              "color": "#E5ECF6",
              "width": 0.5
             },
             "pattern": {
              "fillmode": "overlay",
              "size": 10,
              "solidity": 0.2
             }
            },
            "type": "bar"
           }
          ],
          "barpolar": [
           {
            "marker": {
             "line": {
              "color": "#E5ECF6",
              "width": 0.5
             },
             "pattern": {
              "fillmode": "overlay",
              "size": 10,
              "solidity": 0.2
             }
            },
            "type": "barpolar"
           }
          ],
          "carpet": [
           {
            "aaxis": {
             "endlinecolor": "#2a3f5f",
             "gridcolor": "white",
             "linecolor": "white",
             "minorgridcolor": "white",
             "startlinecolor": "#2a3f5f"
            },
            "baxis": {
             "endlinecolor": "#2a3f5f",
             "gridcolor": "white",
             "linecolor": "white",
             "minorgridcolor": "white",
             "startlinecolor": "#2a3f5f"
            },
            "type": "carpet"
           }
          ],
          "choropleth": [
           {
            "colorbar": {
             "outlinewidth": 0,
             "ticks": ""
            },
            "type": "choropleth"
           }
          ],
          "contour": [
           {
            "colorbar": {
             "outlinewidth": 0,
             "ticks": ""
            },
            "colorscale": [
             [
              0,
              "#0d0887"
             ],
             [
              0.1111111111111111,
              "#46039f"
             ],
             [
              0.2222222222222222,
              "#7201a8"
             ],
             [
              0.3333333333333333,
              "#9c179e"
             ],
             [
              0.4444444444444444,
              "#bd3786"
             ],
             [
              0.5555555555555556,
              "#d8576b"
             ],
             [
              0.6666666666666666,
              "#ed7953"
             ],
             [
              0.7777777777777778,
              "#fb9f3a"
             ],
             [
              0.8888888888888888,
              "#fdca26"
             ],
             [
              1,
              "#f0f921"
             ]
            ],
            "type": "contour"
           }
          ],
          "contourcarpet": [
           {
            "colorbar": {
             "outlinewidth": 0,
             "ticks": ""
            },
            "type": "contourcarpet"
           }
          ],
          "heatmap": [
           {
            "colorbar": {
             "outlinewidth": 0,
             "ticks": ""
            },
            "colorscale": [
             [
              0,
              "#0d0887"
             ],
             [
              0.1111111111111111,
              "#46039f"
             ],
             [
              0.2222222222222222,
              "#7201a8"
             ],
             [
              0.3333333333333333,
              "#9c179e"
             ],
             [
              0.4444444444444444,
              "#bd3786"
             ],
             [
              0.5555555555555556,
              "#d8576b"
             ],
             [
              0.6666666666666666,
              "#ed7953"
             ],
             [
              0.7777777777777778,
              "#fb9f3a"
             ],
             [
              0.8888888888888888,
              "#fdca26"
             ],
             [
              1,
              "#f0f921"
             ]
            ],
            "type": "heatmap"
           }
          ],
          "heatmapgl": [
           {
            "colorbar": {
             "outlinewidth": 0,
             "ticks": ""
            },
            "colorscale": [
             [
              0,
              "#0d0887"
             ],
             [
              0.1111111111111111,
              "#46039f"
             ],
             [
              0.2222222222222222,
              "#7201a8"
             ],
             [
              0.3333333333333333,
              "#9c179e"
             ],
             [
              0.4444444444444444,
              "#bd3786"
             ],
             [
              0.5555555555555556,
              "#d8576b"
             ],
             [
              0.6666666666666666,
              "#ed7953"
             ],
             [
              0.7777777777777778,
              "#fb9f3a"
             ],
             [
              0.8888888888888888,
              "#fdca26"
             ],
             [
              1,
              "#f0f921"
             ]
            ],
            "type": "heatmapgl"
           }
          ],
          "histogram": [
           {
            "marker": {
             "pattern": {
              "fillmode": "overlay",
              "size": 10,
              "solidity": 0.2
             }
            },
            "type": "histogram"
           }
          ],
          "histogram2d": [
           {
            "colorbar": {
             "outlinewidth": 0,
             "ticks": ""
            },
            "colorscale": [
             [
              0,
              "#0d0887"
             ],
             [
              0.1111111111111111,
              "#46039f"
             ],
             [
              0.2222222222222222,
              "#7201a8"
             ],
             [
              0.3333333333333333,
              "#9c179e"
             ],
             [
              0.4444444444444444,
              "#bd3786"
             ],
             [
              0.5555555555555556,
              "#d8576b"
             ],
             [
              0.6666666666666666,
              "#ed7953"
             ],
             [
              0.7777777777777778,
              "#fb9f3a"
             ],
             [
              0.8888888888888888,
              "#fdca26"
             ],
             [
              1,
              "#f0f921"
             ]
            ],
            "type": "histogram2d"
           }
          ],
          "histogram2dcontour": [
           {
            "colorbar": {
             "outlinewidth": 0,
             "ticks": ""
            },
            "colorscale": [
             [
              0,
              "#0d0887"
             ],
             [
              0.1111111111111111,
              "#46039f"
             ],
             [
              0.2222222222222222,
              "#7201a8"
             ],
             [
              0.3333333333333333,
              "#9c179e"
             ],
             [
              0.4444444444444444,
              "#bd3786"
             ],
             [
              0.5555555555555556,
              "#d8576b"
             ],
             [
              0.6666666666666666,
              "#ed7953"
             ],
             [
              0.7777777777777778,
              "#fb9f3a"
             ],
             [
              0.8888888888888888,
              "#fdca26"
             ],
             [
              1,
              "#f0f921"
             ]
            ],
            "type": "histogram2dcontour"
           }
          ],
          "mesh3d": [
           {
            "colorbar": {
             "outlinewidth": 0,
             "ticks": ""
            },
            "type": "mesh3d"
           }
          ],
          "parcoords": [
           {
            "line": {
             "colorbar": {
              "outlinewidth": 0,
              "ticks": ""
             }
            },
            "type": "parcoords"
           }
          ],
          "pie": [
           {
            "automargin": true,
            "type": "pie"
           }
          ],
          "scatter": [
           {
            "fillpattern": {
             "fillmode": "overlay",
             "size": 10,
             "solidity": 0.2
            },
            "type": "scatter"
           }
          ],
          "scatter3d": [
           {
            "line": {
             "colorbar": {
              "outlinewidth": 0,
              "ticks": ""
             }
            },
            "marker": {
             "colorbar": {
              "outlinewidth": 0,
              "ticks": ""
             }
            },
            "type": "scatter3d"
           }
          ],
          "scattercarpet": [
           {
            "marker": {
             "colorbar": {
              "outlinewidth": 0,
              "ticks": ""
             }
            },
            "type": "scattercarpet"
           }
          ],
          "scattergeo": [
           {
            "marker": {
             "colorbar": {
              "outlinewidth": 0,
              "ticks": ""
             }
            },
            "type": "scattergeo"
           }
          ],
          "scattergl": [
           {
            "marker": {
             "colorbar": {
              "outlinewidth": 0,
              "ticks": ""
             }
            },
            "type": "scattergl"
           }
          ],
          "scattermapbox": [
           {
            "marker": {
             "colorbar": {
              "outlinewidth": 0,
              "ticks": ""
             }
            },
            "type": "scattermapbox"
           }
          ],
          "scatterpolar": [
           {
            "marker": {
             "colorbar": {
              "outlinewidth": 0,
              "ticks": ""
             }
            },
            "type": "scatterpolar"
           }
          ],
          "scatterpolargl": [
           {
            "marker": {
             "colorbar": {
              "outlinewidth": 0,
              "ticks": ""
             }
            },
            "type": "scatterpolargl"
           }
          ],
          "scatterternary": [
           {
            "marker": {
             "colorbar": {
              "outlinewidth": 0,
              "ticks": ""
             }
            },
            "type": "scatterternary"
           }
          ],
          "surface": [
           {
            "colorbar": {
             "outlinewidth": 0,
             "ticks": ""
            },
            "colorscale": [
             [
              0,
              "#0d0887"
             ],
             [
              0.1111111111111111,
              "#46039f"
             ],
             [
              0.2222222222222222,
              "#7201a8"
             ],
             [
              0.3333333333333333,
              "#9c179e"
             ],
             [
              0.4444444444444444,
              "#bd3786"
             ],
             [
              0.5555555555555556,
              "#d8576b"
             ],
             [
              0.6666666666666666,
              "#ed7953"
             ],
             [
              0.7777777777777778,
              "#fb9f3a"
             ],
             [
              0.8888888888888888,
              "#fdca26"
             ],
             [
              1,
              "#f0f921"
             ]
            ],
            "type": "surface"
           }
          ],
          "table": [
           {
            "cells": {
             "fill": {
              "color": "#EBF0F8"
             },
             "line": {
              "color": "white"
             }
            },
            "header": {
             "fill": {
              "color": "#C8D4E3"
             },
             "line": {
              "color": "white"
             }
            },
            "type": "table"
           }
          ]
         },
         "layout": {
          "annotationdefaults": {
           "arrowcolor": "#2a3f5f",
           "arrowhead": 0,
           "arrowwidth": 1
          },
          "autotypenumbers": "strict",
          "coloraxis": {
           "colorbar": {
            "outlinewidth": 0,
            "ticks": ""
           }
          },
          "colorscale": {
           "diverging": [
            [
             0,
             "#8e0152"
            ],
            [
             0.1,
             "#c51b7d"
            ],
            [
             0.2,
             "#de77ae"
            ],
            [
             0.3,
             "#f1b6da"
            ],
            [
             0.4,
             "#fde0ef"
            ],
            [
             0.5,
             "#f7f7f7"
            ],
            [
             0.6,
             "#e6f5d0"
            ],
            [
             0.7,
             "#b8e186"
            ],
            [
             0.8,
             "#7fbc41"
            ],
            [
             0.9,
             "#4d9221"
            ],
            [
             1,
             "#276419"
            ]
           ],
           "sequential": [
            [
             0,
             "#0d0887"
            ],
            [
             0.1111111111111111,
             "#46039f"
            ],
            [
             0.2222222222222222,
             "#7201a8"
            ],
            [
             0.3333333333333333,
             "#9c179e"
            ],
            [
             0.4444444444444444,
             "#bd3786"
            ],
            [
             0.5555555555555556,
             "#d8576b"
            ],
            [
             0.6666666666666666,
             "#ed7953"
            ],
            [
             0.7777777777777778,
             "#fb9f3a"
            ],
            [
             0.8888888888888888,
             "#fdca26"
            ],
            [
             1,
             "#f0f921"
            ]
           ],
           "sequentialminus": [
            [
             0,
             "#0d0887"
            ],
            [
             0.1111111111111111,
             "#46039f"
            ],
            [
             0.2222222222222222,
             "#7201a8"
            ],
            [
             0.3333333333333333,
             "#9c179e"
            ],
            [
             0.4444444444444444,
             "#bd3786"
            ],
            [
             0.5555555555555556,
             "#d8576b"
            ],
            [
             0.6666666666666666,
             "#ed7953"
            ],
            [
             0.7777777777777778,
             "#fb9f3a"
            ],
            [
             0.8888888888888888,
             "#fdca26"
            ],
            [
             1,
             "#f0f921"
            ]
           ]
          },
          "colorway": [
           "#636efa",
           "#EF553B",
           "#00cc96",
           "#ab63fa",
           "#FFA15A",
           "#19d3f3",
           "#FF6692",
           "#B6E880",
           "#FF97FF",
           "#FECB52"
          ],
          "font": {
           "color": "#2a3f5f"
          },
          "geo": {
           "bgcolor": "white",
           "lakecolor": "white",
           "landcolor": "#E5ECF6",
           "showlakes": true,
           "showland": true,
           "subunitcolor": "white"
          },
          "hoverlabel": {
           "align": "left"
          },
          "hovermode": "closest",
          "mapbox": {
           "style": "light"
          },
          "paper_bgcolor": "white",
          "plot_bgcolor": "#E5ECF6",
          "polar": {
           "angularaxis": {
            "gridcolor": "white",
            "linecolor": "white",
            "ticks": ""
           },
           "bgcolor": "#E5ECF6",
           "radialaxis": {
            "gridcolor": "white",
            "linecolor": "white",
            "ticks": ""
           }
          },
          "scene": {
           "xaxis": {
            "backgroundcolor": "#E5ECF6",
            "gridcolor": "white",
            "gridwidth": 2,
            "linecolor": "white",
            "showbackground": true,
            "ticks": "",
            "zerolinecolor": "white"
           },
           "yaxis": {
            "backgroundcolor": "#E5ECF6",
            "gridcolor": "white",
            "gridwidth": 2,
            "linecolor": "white",
            "showbackground": true,
            "ticks": "",
            "zerolinecolor": "white"
           },
           "zaxis": {
            "backgroundcolor": "#E5ECF6",
            "gridcolor": "white",
            "gridwidth": 2,
            "linecolor": "white",
            "showbackground": true,
            "ticks": "",
            "zerolinecolor": "white"
           }
          },
          "shapedefaults": {
           "line": {
            "color": "#2a3f5f"
           }
          },
          "ternary": {
           "aaxis": {
            "gridcolor": "white",
            "linecolor": "white",
            "ticks": ""
           },
           "baxis": {
            "gridcolor": "white",
            "linecolor": "white",
            "ticks": ""
           },
           "bgcolor": "#E5ECF6",
           "caxis": {
            "gridcolor": "white",
            "linecolor": "white",
            "ticks": ""
           }
          },
          "title": {
           "x": 0.05
          },
          "xaxis": {
           "automargin": true,
           "gridcolor": "white",
           "linecolor": "white",
           "ticks": "",
           "title": {
            "standoff": 15
           },
           "zerolinecolor": "white",
           "zerolinewidth": 2
          },
          "yaxis": {
           "automargin": true,
           "gridcolor": "white",
           "linecolor": "white",
           "ticks": "",
           "title": {
            "standoff": 15
           },
           "zerolinecolor": "white",
           "zerolinewidth": 2
          }
         }
        },
        "title": {
         "text": "Observed metric values"
        },
        "xaxis": {
         "range": [
          0.850363677740097,
          0.9105094611644745
         ],
         "title": {
          "text": "val_mean_f1"
         },
         "type": "linear"
        },
        "yaxis": {
         "range": [
          196928.4,
          472083.6
         ],
         "title": {
          "text": "num_params"
         },
         "type": "linear"
        }
       }
      },
      "image/png": "[encoded data removed]",
      "text/html": [
       "<div>                            <div id=\"d6f170ef-232c-4db5-8b87-5f6b098f6d6c\" class=\"plotly-graph-div\" style=\"height:525px; width:100%;\"></div>            <script type=\"text/javascript\">                require([\"plotly\"], function(Plotly) {                    window.PLOTLYENV=window.PLOTLYENV || {};                                    if (document.getElementById(\"d6f170ef-232c-4db5-8b87-5f6b098f6d6c\")) {                    Plotly.newPlot(                        \"d6f170ef-232c-4db5-8b87-5f6b098f6d6c\",                        [{\"hovertemplate\":\"%{text}\",\"marker\":{\"color\":[0.0,33.333333333333336,66.66666666666667,100.0],\"colorbar\":{\"ticktext\":[1,\"iteration\",4],\"tickvals\":[0,50,100]},\"colorscale\":[[0.0,\"#000004\"],[0.1111111111111111,\"#180f3d\"],[0.2222222222222222,\"#440f76\"],[0.3333333333333333,\"#721f81\"],[0.4444444444444444,\"#9e2f7f\"],[0.5555555555555556,\"#cd4071\"],[0.6666666666666666,\"#f1605d\"],[0.7777777777777778,\"#fd9668\"],[0.8888888888888888,\"#feca8d\"],[1.0,\"#fcfdbf\"]]},\"mode\":\"markers\",\"name\":\"Experimental points\",\"text\":[\"Arm name: 0_0\",\"Arm name: 1_0\",\"Arm name: 2_0\",\"Arm name: 3_0\"],\"x\":[0.8807470202445984,0.8553758263587952,0.8995440006256104,0.9054973125457764],\"y\":[449154.0,219858.0,232930.0,375410.0],\"type\":\"scatter\"}],                        {\"showlegend\":false,\"title\":{\"text\":\"Observed metric values\"},\"xaxis\":{\"range\":[0.850363677740097,0.9105094611644745],\"title\":{\"text\":\"val_mean_f1\"}},\"yaxis\":{\"range\":[196928.4,472083.6],\"title\":{\"text\":\"num_params\"}},\"template\":{\"data\":{\"histogram2dcontour\":[{\"type\":\"histogram2dcontour\",\"colorbar\":{\"outlinewidth\":0,\"ticks\":\"\"},\"colorscale\":[[0.0,\"#0d0887\"],[0.1111111111111111,\"#46039f\"],[0.2222222222222222,\"#7201a8\"],[0.3333333333333333,\"#9c179e\"],[0.4444444444444444,\"#bd3786\"],[0.5555555555555556,\"#d8576b\"],[0.6666666666666666,\"#ed7953\"],[0.7777777777777778,\"#fb9f3a\"],[0.8888888888888888,\"#fdca26\"],[1.0,\"#f0f921\"]]}],\"choropleth\":[{\"type\":\"choropleth\",\"colorbar\":{\"outlinewidth\":0,\"ticks\":\"\"}}],\"histogram2d\":[{\"type\":\"histogram2d\",\"colorbar\":{\"outlinewidth\":0,\"ticks\":\"\"},\"colorscale\":[[0.0,\"#0d0887\"],[0.1111111111111111,\"#46039f\"],[0.2222222222222222,\"#7201a8\"],[0.3333333333333333,\"#9c179e\"],[0.4444444444444444,\"#bd3786\"],[0.5555555555555556,\"#d8576b\"],[0.6666666666666666,\"#ed7953\"],[0.7777777777777778,\"#fb9f3a\"],[0.8888888888888888,\"#fdca26\"],[1.0,\"#f0f921\"]]}],\"heatmap\":[{\"type\":\"heatmap\",\"colorbar\":{\"outlinewidth\":0,\"ticks\":\"\"},\"colorscale\":[[0.0,\"#0d0887\"],[0.1111111111111111,\"#46039f\"],[0.2222222222222222,\"#7201a8\"],[0.3333333333333333,\"#9c179e\"],[0.4444444444444444,\"#bd3786\"],[0.5555555555555556,\"#d8576b\"],[0.6666666666666666,\"#ed7953\"],[0.7777777777777778,\"#fb9f3a\"],[0.8888888888888888,\"#fdca26\"],[1.0,\"#f0f921\"]]}],\"heatmapgl\":[{\"type\":\"heatmapgl\",\"colorbar\":{\"outlinewidth\":0,\"ticks\":\"\"},\"colorscale\":[[0.0,\"#0d0887\"],[0.1111111111111111,\"#46039f\"],[0.2222222222222222,\"#7201a8\"],[0.3333333333333333,\"#9c179e\"],[0.4444444444444444,\"#bd3786\"],[0.5555555555555556,\"#d8576b\"],[0.6666666666666666,\"#ed7953\"],[0.7777777777777778,\"#fb9f3a\"],[0.8888888888888888,\"#fdca26\"],[1.0,\"#f0f921\"]]}],\"contourcarpet\":[{\"type\":\"contourcarpet\",\"colorbar\":{\"outlinewidth\":0,\"ticks\":\"\"}}],\"contour\":[{\"type\":\"contour\",\"colorbar\":{\"outlinewidth\":0,\"ticks\":\"\"},\"colorscale\":[[0.0,\"#0d0887\"],[0.1111111111111111,\"#46039f\"],[0.2222222222222222,\"#7201a8\"],[0.3333333333333333,\"#9c179e\"],[0.4444444444444444,\"#bd3786\"],[0.5555555555555556,\"#d8576b\"],[0.6666666666666666,\"#ed7953\"],[0.7777777777777778,\"#fb9f3a\"],[0.8888888888888888,\"#fdca26\"],[1.0,\"#f0f921\"]]}],\"surface\":[{\"type\":\"surface\",\"colorbar\":{\"outlinewidth\":0,\"ticks\":\"\"},\"colorscale\":[[0.0,\"#0d0887\"],[0.1111111111111111,\"#46039f\"],[0.2222222222222222,\"#7201a8\"],[0.3333333333333333,\"#9c179e\"],[0.4444444444444444,\"#bd3786\"],[0.5555555555555556,\"#d8576b\"],[0.6666666666666666,\"#ed7953\"],[0.7777777777777778,\"#fb9f3a\"],[0.8888888888888888,\"#fdca26\"],[1.0,\"#f0f921\"]]}],\"mesh3d\":[{\"type\":\"mesh3d\",\"colorbar\":{\"outlinewidth\":0,\"ticks\":\"\"}}],\"scatter\":[{\"fillpattern\":{\"fillmode\":\"overlay\",\"size\":10,\"solidity\":0.2},\"type\":\"scatter\"}],\"parcoords\":[{\"type\":\"parcoords\",\"line\":{\"colorbar\":{\"outlinewidth\":0,\"ticks\":\"\"}}}],\"scatterpolargl\":[{\"type\":\"scatterpolargl\",\"marker\":{\"colorbar\":{\"outlinewidth\":0,\"ticks\":\"\"}}}],\"bar\":[{\"error_x\":{\"color\":\"#2a3f5f\"},\"error_y\":{\"color\":\"#2a3f5f\"},\"marker\":{\"line\":{\"color\":\"#E5ECF6\",\"width\":0.5},\"pattern\":{\"fillmode\":\"overlay\",\"size\":10,\"solidity\":0.2}},\"type\":\"bar\"}],\"scattergeo\":[{\"type\":\"scattergeo\",\"marker\":{\"colorbar\":{\"outlinewidth\":0,\"ticks\":\"\"}}}],\"scatterpolar\":[{\"type\":\"scatterpolar\",\"marker\":{\"colorbar\":{\"outlinewidth\":0,\"ticks\":\"\"}}}],\"histogram\":[{\"marker\":{\"pattern\":{\"fillmode\":\"overlay\",\"size\":10,\"solidity\":0.2}},\"type\":\"histogram\"}],\"scattergl\":[{\"type\":\"scattergl\",\"marker\":{\"colorbar\":{\"outlinewidth\":0,\"ticks\":\"\"}}}],\"scatter3d\":[{\"type\":\"scatter3d\",\"line\":{\"colorbar\":{\"outlinewidth\":0,\"ticks\":\"\"}},\"marker\":{\"colorbar\":{\"outlinewidth\":0,\"ticks\":\"\"}}}],\"scattermapbox\":[{\"type\":\"scattermapbox\",\"marker\":{\"colorbar\":{\"outlinewidth\":0,\"ticks\":\"\"}}}],\"scatterternary\":[{\"type\":\"scatterternary\",\"marker\":{\"colorbar\":{\"outlinewidth\":0,\"ticks\":\"\"}}}],\"scattercarpet\":[{\"type\":\"scattercarpet\",\"marker\":{\"colorbar\":{\"outlinewidth\":0,\"ticks\":\"\"}}}],\"carpet\":[{\"aaxis\":{\"endlinecolor\":\"#2a3f5f\",\"gridcolor\":\"white\",\"linecolor\":\"white\",\"minorgridcolor\":\"white\",\"startlinecolor\":\"#2a3f5f\"},\"baxis\":{\"endlinecolor\":\"#2a3f5f\",\"gridcolor\":\"white\",\"linecolor\":\"white\",\"minorgridcolor\":\"white\",\"startlinecolor\":\"#2a3f5f\"},\"type\":\"carpet\"}],\"table\":[{\"cells\":{\"fill\":{\"color\":\"#EBF0F8\"},\"line\":{\"color\":\"white\"}},\"header\":{\"fill\":{\"color\":\"#C8D4E3\"},\"line\":{\"color\":\"white\"}},\"type\":\"table\"}],\"barpolar\":[{\"marker\":{\"line\":{\"color\":\"#E5ECF6\",\"width\":0.5},\"pattern\":{\"fillmode\":\"overlay\",\"size\":10,\"solidity\":0.2}},\"type\":\"barpolar\"}],\"pie\":[{\"automargin\":true,\"type\":\"pie\"}]},\"layout\":{\"autotypenumbers\":\"strict\",\"colorway\":[\"#636efa\",\"#EF553B\",\"#00cc96\",\"#ab63fa\",\"#FFA15A\",\"#19d3f3\",\"#FF6692\",\"#B6E880\",\"#FF97FF\",\"#FECB52\"],\"font\":{\"color\":\"#2a3f5f\"},\"hovermode\":\"closest\",\"hoverlabel\":{\"align\":\"left\"},\"paper_bgcolor\":\"white\",\"plot_bgcolor\":\"#E5ECF6\",\"polar\":{\"bgcolor\":\"#E5ECF6\",\"angularaxis\":{\"gridcolor\":\"white\",\"linecolor\":\"white\",\"ticks\":\"\"},\"radialaxis\":{\"gridcolor\":\"white\",\"linecolor\":\"white\",\"ticks\":\"\"}},\"ternary\":{\"bgcolor\":\"#E5ECF6\",\"aaxis\":{\"gridcolor\":\"white\",\"linecolor\":\"white\",\"ticks\":\"\"},\"baxis\":{\"gridcolor\":\"white\",\"linecolor\":\"white\",\"ticks\":\"\"},\"caxis\":{\"gridcolor\":\"white\",\"linecolor\":\"white\",\"ticks\":\"\"}},\"coloraxis\":{\"colorbar\":{\"outlinewidth\":0,\"ticks\":\"\"}},\"colorscale\":{\"sequential\":[[0.0,\"#0d0887\"],[0.1111111111111111,\"#46039f\"],[0.2222222222222222,\"#7201a8\"],[0.3333333333333333,\"#9c179e\"],[0.4444444444444444,\"#bd3786\"],[0.5555555555555556,\"#d8576b\"],[0.6666666666666666,\"#ed7953\"],[0.7777777777777778,\"#fb9f3a\"],[0.8888888888888888,\"#fdca26\"],[1.0,\"#f0f921\"]],\"sequentialminus\":[[0.0,\"#0d0887\"],[0.1111111111111111,\"#46039f\"],[0.2222222222222222,\"#7201a8\"],[0.3333333333333333,\"#9c179e\"],[0.4444444444444444,\"#bd3786\"],[0.5555555555555556,\"#d8576b\"],[0.6666666666666666,\"#ed7953\"],[0.7777777777777778,\"#fb9f3a\"],[0.8888888888888888,\"#fdca26\"],[1.0,\"#f0f921\"]],\"diverging\":[[0,\"#8e0152\"],[0.1,\"#c51b7d\"],[0.2,\"#de77ae\"],[0.3,\"#f1b6da\"],[0.4,\"#fde0ef\"],[0.5,\"#f7f7f7\"],[0.6,\"#e6f5d0\"],[0.7,\"#b8e186\"],[0.8,\"#7fbc41\"],[0.9,\"#4d9221\"],[1,\"#276419\"]]},\"xaxis\":{\"gridcolor\":\"white\",\"linecolor\":\"white\",\"ticks\":\"\",\"title\":{\"standoff\":15},\"zerolinecolor\":\"white\",\"automargin\":true,\"zerolinewidth\":2},\"yaxis\":{\"gridcolor\":\"white\",\"linecolor\":\"white\",\"ticks\":\"\",\"title\":{\"standoff\":15},\"zerolinecolor\":\"white\",\"automargin\":true,\"zerolinewidth\":2},\"scene\":{\"xaxis\":{\"backgroundcolor\":\"#E5ECF6\",\"gridcolor\":\"white\",\"linecolor\":\"white\",\"showbackground\":true,\"ticks\":\"\",\"zerolinecolor\":\"white\",\"gridwidth\":2},\"yaxis\":{\"backgroundcolor\":\"#E5ECF6\",\"gridcolor\":\"white\",\"linecolor\":\"white\",\"showbackground\":true,\"ticks\":\"\",\"zerolinecolor\":\"white\",\"gridwidth\":2},\"zaxis\":{\"backgroundcolor\":\"#E5ECF6\",\"gridcolor\":\"white\",\"linecolor\":\"white\",\"showbackground\":true,\"ticks\":\"\",\"zerolinecolor\":\"white\",\"gridwidth\":2}},\"shapedefaults\":{\"line\":{\"color\":\"#2a3f5f\"}},\"annotationdefaults\":{\"arrowcolor\":\"#2a3f5f\",\"arrowhead\":0,\"arrowwidth\":1},\"geo\":{\"bgcolor\":\"white\",\"landcolor\":\"#E5ECF6\",\"subunitcolor\":\"white\",\"showland\":true,\"showlakes\":true,\"lakecolor\":\"white\"},\"title\":{\"x\":0.05},\"mapbox\":{\"style\":\"light\"}}}},                        {\"responsive\": true}                    ).then(function(){\n",
       "                            \n",
       "var gd = document.getElementById('d6f170ef-232c-4db5-8b87-5f6b098f6d6c');\n",
       "var x = new MutationObserver(function (mutations, observer) {{\n",
       "        var display = window.getComputedStyle(gd).display;\n",
       "        if (!display || display === 'none') {{\n",
       "            console.log([gd, 'removed!']);\n",
       "            Plotly.purge(gd);\n",
       "            observer.disconnect();\n",
       "        }}\n",
       "}});\n",
       "\n",
       "// Listen for the removal of the full notebook cells\n",
       "var notebookContainer = gd.closest('#notebook-container');\n",
       "if (notebookContainer) {{\n",
       "    x.observe(notebookContainer, {childList: true});\n",
       "}}\n",
       "\n",
       "// Listen for the clearing of the current output cell\n",
       "var outputEl = gd.closest('.output');\n",
       "if (outputEl) {{\n",
       "    x.observe(outputEl, {childList: true});\n",
       "}}\n",
       "\n",
       "                        })                };                });            </script>        </div>"
      ]
     },
     "metadata": {},
     "output_type": "display_data"
    }
   ],
   "source": [
    "from ax.service.utils.report_utils import _pareto_frontier_scatter_2d_plotly\n",
    "\n",
    "_pareto_frontier_scatter_2d_plotly(experiment)"
   ]
  },
  {
   "cell_type": "markdown",
   "id": "31fc9a43-526e-4026-b4fe-495e9e7f2335",
   "metadata": {},
   "source": [
    "To better understand what our surrogate models have learned about the black box objectives, we can take a look at the leave-one-out cross validation results. Since our models are Gaussian Processes, they not only provide point predictions but also uncertainty estimates about these predictions. A good model means that the predicted means (the points in the figure) are close to the 45 degree line and that the confidence intervals cover the 45 degree line with the expected frequency (here we use 95% confidence intervals, so we would expect them to contain the true observation 95% of the time).\n",
    "\n",
    "As the figures below show, the model size (num_params) metric is much easier to model than the validation F1 Score (f1 mean) metric."
   ]
  },
  {
   "cell_type": "code",
   "execution_count": 17,
   "id": "99d14693-d105-4be0-8575-39e0c0d93686",
   "metadata": {
    "tags": []
   },
   "outputs": [
    {
     "ename": "NotImplementedError",
     "evalue": "",
     "output_type": "error",
     "traceback": [
      "\u001b[0;31m---------------------------------------------------------------------------\u001b[0m",
      "\u001b[0;31mNotImplementedError\u001b[0m                       Traceback (most recent call last)",
      "Cell \u001b[0;32mIn[17], line 5\u001b[0m\n\u001b[1;32m      2\u001b[0m \u001b[38;5;28;01mfrom\u001b[39;00m \u001b[38;5;21;01max\u001b[39;00m\u001b[38;5;21;01m.\u001b[39;00m\u001b[38;5;21;01mplot\u001b[39;00m\u001b[38;5;21;01m.\u001b[39;00m\u001b[38;5;21;01mdiagnostic\u001b[39;00m \u001b[38;5;28;01mimport\u001b[39;00m interact_cross_validation_plotly\n\u001b[1;32m      3\u001b[0m \u001b[38;5;28;01mfrom\u001b[39;00m \u001b[38;5;21;01max\u001b[39;00m\u001b[38;5;21;01m.\u001b[39;00m\u001b[38;5;21;01mutils\u001b[39;00m\u001b[38;5;21;01m.\u001b[39;00m\u001b[38;5;21;01mnotebook\u001b[39;00m\u001b[38;5;21;01m.\u001b[39;00m\u001b[38;5;21;01mplotting\u001b[39;00m \u001b[38;5;28;01mimport\u001b[39;00m init_notebook_plotting, render\n\u001b[0;32m----> 5\u001b[0m cv \u001b[38;5;241m=\u001b[39m \u001b[43mcross_validate\u001b[49m\u001b[43m(\u001b[49m\u001b[43mmodel\u001b[49m\u001b[38;5;241;43m=\u001b[39;49m\u001b[43mgs\u001b[49m\u001b[38;5;241;43m.\u001b[39;49m\u001b[43mmodel\u001b[49m\u001b[43m)\u001b[49m  \u001b[38;5;66;03m# The surrogate model is stored on the ``GenerationStrategy``\u001b[39;00m\n\u001b[1;32m      6\u001b[0m compute_diagnostics(cv)\n\u001b[1;32m      8\u001b[0m interact_cross_validation_plotly(cv)\n",
      "File \u001b[0;32m/opt/conda/envs/pytorch_light/lib/python3.10/site-packages/ax/modelbridge/cross_validation.py:163\u001b[0m, in \u001b[0;36mcross_validate\u001b[0;34m(model, folds, test_selector, untransform)\u001b[0m\n\u001b[1;32m    161\u001b[0m \u001b[38;5;66;03m# Make the prediction\u001b[39;00m\n\u001b[1;32m    162\u001b[0m \u001b[38;5;28;01mif\u001b[39;00m untransform:\n\u001b[0;32m--> 163\u001b[0m     cv_test_predictions \u001b[38;5;241m=\u001b[39m \u001b[43mmodel\u001b[49m\u001b[38;5;241;43m.\u001b[39;49m\u001b[43mcross_validate\u001b[49m\u001b[43m(\u001b[49m\n\u001b[1;32m    164\u001b[0m \u001b[43m        \u001b[49m\u001b[43mcv_training_data\u001b[49m\u001b[38;5;241;43m=\u001b[39;49m\u001b[43mcv_training_data\u001b[49m\u001b[43m,\u001b[49m\u001b[43m \u001b[49m\u001b[43mcv_test_points\u001b[49m\u001b[38;5;241;43m=\u001b[39;49m\u001b[43mcv_test_points\u001b[49m\n\u001b[1;32m    165\u001b[0m \u001b[43m    \u001b[49m\u001b[43m)\u001b[49m\n\u001b[1;32m    166\u001b[0m \u001b[38;5;28;01melse\u001b[39;00m:\n\u001b[1;32m    167\u001b[0m     \u001b[38;5;66;03m# Get test predictions in transformed space\u001b[39;00m\n\u001b[1;32m    168\u001b[0m     (\n\u001b[1;32m    169\u001b[0m         cv_training_data,\n\u001b[1;32m    170\u001b[0m         cv_test_points,\n\u001b[0;32m   (...)\u001b[0m\n\u001b[1;32m    173\u001b[0m         cv_training_data\u001b[38;5;241m=\u001b[39mcv_training_data, cv_test_points\u001b[38;5;241m=\u001b[39mcv_test_points\n\u001b[1;32m    174\u001b[0m     )\n",
      "File \u001b[0;32m/opt/conda/envs/pytorch_light/lib/python3.10/site-packages/ax/modelbridge/base.py:915\u001b[0m, in \u001b[0;36mModelBridge.cross_validate\u001b[0;34m(self, cv_training_data, cv_test_points)\u001b[0m\n\u001b[1;32m    906\u001b[0m \u001b[38;5;28;01mwith\u001b[39;00m warnings\u001b[38;5;241m.\u001b[39mcatch_warnings():\n\u001b[1;32m    907\u001b[0m     \u001b[38;5;66;03m# Since each CV fold removes points from the training data, the remaining\u001b[39;00m\n\u001b[1;32m    908\u001b[0m     \u001b[38;5;66;03m# observations will not pass the standardization test. To avoid confusing\u001b[39;00m\n\u001b[1;32m    909\u001b[0m     \u001b[38;5;66;03m# users with this warning, we filter it out.\u001b[39;00m\n\u001b[1;32m    910\u001b[0m     warnings\u001b[38;5;241m.\u001b[39mfilterwarnings(\n\u001b[1;32m    911\u001b[0m         \u001b[38;5;124m\"\u001b[39m\u001b[38;5;124mignore\u001b[39m\u001b[38;5;124m\"\u001b[39m,\n\u001b[1;32m    912\u001b[0m         message\u001b[38;5;241m=\u001b[39m\u001b[38;5;124m\"\u001b[39m\u001b[38;5;124mInput data is not standardized.\u001b[39m\u001b[38;5;124m\"\u001b[39m,\n\u001b[1;32m    913\u001b[0m         category\u001b[38;5;241m=\u001b[39mInputDataWarning,\n\u001b[1;32m    914\u001b[0m     )\n\u001b[0;32m--> 915\u001b[0m     cv_predictions \u001b[38;5;241m=\u001b[39m \u001b[38;5;28;43mself\u001b[39;49m\u001b[38;5;241;43m.\u001b[39;49m\u001b[43m_cross_validate\u001b[49m\u001b[43m(\u001b[49m\n\u001b[1;32m    916\u001b[0m \u001b[43m        \u001b[49m\u001b[43msearch_space\u001b[49m\u001b[38;5;241;43m=\u001b[39;49m\u001b[43msearch_space\u001b[49m\u001b[43m,\u001b[49m\n\u001b[1;32m    917\u001b[0m \u001b[43m        \u001b[49m\u001b[43mcv_training_data\u001b[49m\u001b[38;5;241;43m=\u001b[39;49m\u001b[43mcv_training_data\u001b[49m\u001b[43m,\u001b[49m\n\u001b[1;32m    918\u001b[0m \u001b[43m        \u001b[49m\u001b[43mcv_test_points\u001b[49m\u001b[38;5;241;43m=\u001b[39;49m\u001b[43mcv_test_points\u001b[49m\u001b[43m,\u001b[49m\n\u001b[1;32m    919\u001b[0m \u001b[43m    \u001b[49m\u001b[43m)\u001b[49m\n\u001b[1;32m    920\u001b[0m \u001b[38;5;66;03m# Apply reverse transforms, in reverse order\u001b[39;00m\n\u001b[1;32m    921\u001b[0m cv_test_observations \u001b[38;5;241m=\u001b[39m [\n\u001b[1;32m    922\u001b[0m     Observation(features\u001b[38;5;241m=\u001b[39mobsf, data\u001b[38;5;241m=\u001b[39mcv_predictions[i])\n\u001b[1;32m    923\u001b[0m     \u001b[38;5;28;01mfor\u001b[39;00m i, obsf \u001b[38;5;129;01min\u001b[39;00m \u001b[38;5;28menumerate\u001b[39m(cv_test_points)\n\u001b[1;32m    924\u001b[0m ]\n",
      "File \u001b[0;32m/opt/conda/envs/pytorch_light/lib/python3.10/site-packages/ax/modelbridge/random.py:104\u001b[0m, in \u001b[0;36mRandomModelBridge._cross_validate\u001b[0;34m(self, search_space, cv_training_data, cv_test_points)\u001b[0m\n\u001b[1;32m     98\u001b[0m \u001b[38;5;28;01mdef\u001b[39;00m \u001b[38;5;21m_cross_validate\u001b[39m(\n\u001b[1;32m     99\u001b[0m     \u001b[38;5;28mself\u001b[39m,\n\u001b[1;32m    100\u001b[0m     search_space: SearchSpace,\n\u001b[1;32m    101\u001b[0m     cv_training_data: List[Observation],\n\u001b[1;32m    102\u001b[0m     cv_test_points: List[ObservationFeatures],\n\u001b[1;32m    103\u001b[0m ) \u001b[38;5;241m-\u001b[39m\u001b[38;5;241m>\u001b[39m List[ObservationData]:\n\u001b[0;32m--> 104\u001b[0m     \u001b[38;5;28;01mraise\u001b[39;00m \u001b[38;5;167;01mNotImplementedError\u001b[39;00m\n",
      "\u001b[0;31mNotImplementedError\u001b[0m: "
     ]
    }
   ],
   "source": [
    "from ax.modelbridge.cross_validation import compute_diagnostics, cross_validate\n",
    "from ax.plot.diagnostic import interact_cross_validation_plotly\n",
    "from ax.utils.notebook.plotting import init_notebook_plotting, render\n",
    "\n",
    "cv = cross_validate(model=gs.model)  # The surrogate model is stored on the ``GenerationStrategy``\n",
    "compute_diagnostics(cv)\n",
    "\n",
    "interact_cross_validation_plotly(cv)"
   ]
  },
  {
   "cell_type": "markdown",
   "id": "e8b730d2-5f16-4c4c-ad9f-7cd58fef2860",
   "metadata": {},
   "source": [
    "We can also make contour plots to better understand how the different objectives depend on two of the input parameters. In the figure below, we show the validation accuracy predicted by the model as a function of the two hidden sizes. The validation accuracy clearly increases as the hidden sizes increase."
   ]
  },
  {
   "cell_type": "code",
   "execution_count": 18,
   "id": "9cd378d0-faa5-4003-b450-d6822976f07a",
   "metadata": {
    "tags": []
   },
   "outputs": [
    {
     "ename": "NotImplementedError",
     "evalue": "RandomModelBridge does not support prediction.",
     "output_type": "error",
     "traceback": [
      "\u001b[0;31m---------------------------------------------------------------------------\u001b[0m",
      "\u001b[0;31mNotImplementedError\u001b[0m                       Traceback (most recent call last)",
      "Cell \u001b[0;32mIn[18], line 3\u001b[0m\n\u001b[1;32m      1\u001b[0m \u001b[38;5;28;01mfrom\u001b[39;00m \u001b[38;5;21;01max\u001b[39;00m\u001b[38;5;21;01m.\u001b[39;00m\u001b[38;5;21;01mplot\u001b[39;00m\u001b[38;5;21;01m.\u001b[39;00m\u001b[38;5;21;01mcontour\u001b[39;00m \u001b[38;5;28;01mimport\u001b[39;00m interact_contour_plotly\n\u001b[0;32m----> 3\u001b[0m \u001b[43minteract_contour_plotly\u001b[49m\u001b[43m(\u001b[49m\u001b[43mmodel\u001b[49m\u001b[38;5;241;43m=\u001b[39;49m\u001b[43mgs\u001b[49m\u001b[38;5;241;43m.\u001b[39;49m\u001b[43mmodel\u001b[49m\u001b[43m,\u001b[49m\u001b[43m \u001b[49m\u001b[43mmetric_name\u001b[49m\u001b[38;5;241;43m=\u001b[39;49m\u001b[38;5;124;43m\"\u001b[39;49m\u001b[38;5;124;43mval_mean_f1\u001b[39;49m\u001b[38;5;124;43m\"\u001b[39;49m\u001b[43m)\u001b[49m\n",
      "File \u001b[0;32m/opt/conda/envs/pytorch_light/lib/python3.10/site-packages/ax/plot/contour.py:393\u001b[0m, in \u001b[0;36minteract_contour_plotly\u001b[0;34m(model, metric_name, generator_runs_dict, relative, density, slice_values, lower_is_better, fixed_features, trial_index, parameters_to_use)\u001b[0m\n\u001b[1;32m    391\u001b[0m     range_param_name_dict \u001b[38;5;241m=\u001b[39m {p\u001b[38;5;241m.\u001b[39mname: p \u001b[38;5;28;01mfor\u001b[39;00m p \u001b[38;5;129;01min\u001b[39;00m range_parameters}\n\u001b[1;32m    392\u001b[0m     range_parameters \u001b[38;5;241m=\u001b[39m [range_param_name_dict[pname] \u001b[38;5;28;01mfor\u001b[39;00m pname \u001b[38;5;129;01min\u001b[39;00m parameters_to_use]\n\u001b[0;32m--> 393\u001b[0m plot_data, _, _ \u001b[38;5;241m=\u001b[39m \u001b[43mget_plot_data\u001b[49m\u001b[43m(\u001b[49m\n\u001b[1;32m    394\u001b[0m \u001b[43m    \u001b[49m\u001b[43mmodel\u001b[49m\u001b[43m,\u001b[49m\u001b[43m \u001b[49m\u001b[43mgenerator_runs_dict\u001b[49m\u001b[43m \u001b[49m\u001b[38;5;129;43;01mor\u001b[39;49;00m\u001b[43m \u001b[49m\u001b[43m{\u001b[49m\u001b[43m}\u001b[49m\u001b[43m,\u001b[49m\u001b[43m \u001b[49m\u001b[43m{\u001b[49m\u001b[43mmetric_name\u001b[49m\u001b[43m}\u001b[49m\u001b[43m,\u001b[49m\u001b[43m \u001b[49m\u001b[43mfixed_features\u001b[49m\u001b[38;5;241;43m=\u001b[39;49m\u001b[43mfixed_features\u001b[49m\n\u001b[1;32m    395\u001b[0m \u001b[43m\u001b[49m\u001b[43m)\u001b[49m\n\u001b[1;32m    397\u001b[0m \u001b[38;5;66;03m# TODO T38563759: Sort parameters by feature importances\u001b[39;00m\n\u001b[1;32m    398\u001b[0m param_names \u001b[38;5;241m=\u001b[39m [parameter\u001b[38;5;241m.\u001b[39mname \u001b[38;5;28;01mfor\u001b[39;00m parameter \u001b[38;5;129;01min\u001b[39;00m range_parameters]\n",
      "File \u001b[0;32m/opt/conda/envs/pytorch_light/lib/python3.10/site-packages/ax/plot/helper.py:379\u001b[0m, in \u001b[0;36mget_plot_data\u001b[0;34m(model, generator_runs_dict, metric_names, fixed_features, data_selector, scalarized_metric_config)\u001b[0m\n\u001b[1;32m    344\u001b[0m \u001b[38;5;250m\u001b[39m\u001b[38;5;124;03m\"\"\"Format data object with metrics for in-sample and out-of-sample\u001b[39;00m\n\u001b[1;32m    345\u001b[0m \u001b[38;5;124;03marms.\u001b[39;00m\n\u001b[1;32m    346\u001b[0m \n\u001b[0;32m   (...)\u001b[0m\n\u001b[1;32m    376\u001b[0m \u001b[38;5;124;03m    - Mapping from arm name to parameters.\u001b[39;00m\n\u001b[1;32m    377\u001b[0m \u001b[38;5;124;03m\"\"\"\u001b[39;00m\n\u001b[1;32m    378\u001b[0m metrics_plot \u001b[38;5;241m=\u001b[39m model\u001b[38;5;241m.\u001b[39mmetric_names \u001b[38;5;28;01mif\u001b[39;00m metric_names \u001b[38;5;129;01mis\u001b[39;00m \u001b[38;5;28;01mNone\u001b[39;00m \u001b[38;5;28;01melse\u001b[39;00m metric_names\n\u001b[0;32m--> 379\u001b[0m in_sample_plot, raw_data, cond_name_to_parameters \u001b[38;5;241m=\u001b[39m \u001b[43m_get_in_sample_arms\u001b[49m\u001b[43m(\u001b[49m\n\u001b[1;32m    380\u001b[0m \u001b[43m    \u001b[49m\u001b[43mmodel\u001b[49m\u001b[38;5;241;43m=\u001b[39;49m\u001b[43mmodel\u001b[49m\u001b[43m,\u001b[49m\n\u001b[1;32m    381\u001b[0m \u001b[43m    \u001b[49m\u001b[43mmetric_names\u001b[49m\u001b[38;5;241;43m=\u001b[39;49m\u001b[43mmetrics_plot\u001b[49m\u001b[43m,\u001b[49m\n\u001b[1;32m    382\u001b[0m \u001b[43m    \u001b[49m\u001b[43mfixed_features\u001b[49m\u001b[38;5;241;43m=\u001b[39;49m\u001b[43mfixed_features\u001b[49m\u001b[43m,\u001b[49m\n\u001b[1;32m    383\u001b[0m \u001b[43m    \u001b[49m\u001b[43mdata_selector\u001b[49m\u001b[38;5;241;43m=\u001b[39;49m\u001b[43mdata_selector\u001b[49m\u001b[43m,\u001b[49m\n\u001b[1;32m    384\u001b[0m \u001b[43m    \u001b[49m\u001b[43mscalarized_metric_config\u001b[49m\u001b[38;5;241;43m=\u001b[39;49m\u001b[43mscalarized_metric_config\u001b[49m\u001b[43m,\u001b[49m\n\u001b[1;32m    385\u001b[0m \u001b[43m\u001b[49m\u001b[43m)\u001b[49m\n\u001b[1;32m    386\u001b[0m out_of_sample_plot \u001b[38;5;241m=\u001b[39m _get_out_of_sample_arms(\n\u001b[1;32m    387\u001b[0m     model\u001b[38;5;241m=\u001b[39mmodel,\n\u001b[1;32m    388\u001b[0m     generator_runs_dict\u001b[38;5;241m=\u001b[39mgenerator_runs_dict,\n\u001b[0;32m   (...)\u001b[0m\n\u001b[1;32m    391\u001b[0m     scalarized_metric_config\u001b[38;5;241m=\u001b[39mscalarized_metric_config,\n\u001b[1;32m    392\u001b[0m )\n\u001b[1;32m    393\u001b[0m status_quo_name \u001b[38;5;241m=\u001b[39m \u001b[38;5;28;01mNone\u001b[39;00m \u001b[38;5;28;01mif\u001b[39;00m model\u001b[38;5;241m.\u001b[39mstatus_quo \u001b[38;5;129;01mis\u001b[39;00m \u001b[38;5;28;01mNone\u001b[39;00m \u001b[38;5;28;01melse\u001b[39;00m model\u001b[38;5;241m.\u001b[39mstatus_quo\u001b[38;5;241m.\u001b[39marm_name\n",
      "File \u001b[0;32m/opt/conda/envs/pytorch_light/lib/python3.10/site-packages/ax/plot/helper.py:258\u001b[0m, in \u001b[0;36m_get_in_sample_arms\u001b[0;34m(model, metric_names, fixed_features, data_selector, scalarized_metric_config)\u001b[0m\n\u001b[1;32m    256\u001b[0m         features\u001b[38;5;241m.\u001b[39mupdate_features(fixed_features)\n\u001b[1;32m    257\u001b[0m     \u001b[38;5;66;03m# Make a prediction.\u001b[39;00m\n\u001b[0;32m--> 258\u001b[0m     pred_y, pred_se \u001b[38;5;241m=\u001b[39m \u001b[43mpredict_at_point\u001b[49m\u001b[43m(\u001b[49m\n\u001b[1;32m    259\u001b[0m \u001b[43m        \u001b[49m\u001b[43mmodel\u001b[49m\u001b[43m,\u001b[49m\u001b[43m \u001b[49m\u001b[43mfeatures\u001b[49m\u001b[43m,\u001b[49m\u001b[43m \u001b[49m\u001b[43mmetric_names\u001b[49m\u001b[43m,\u001b[49m\u001b[43m \u001b[49m\u001b[43mscalarized_metric_config\u001b[49m\n\u001b[1;32m    260\u001b[0m \u001b[43m    \u001b[49m\u001b[43m)\u001b[49m\n\u001b[1;32m    261\u001b[0m \u001b[38;5;28;01melif\u001b[39;00m (trial_selector \u001b[38;5;129;01mis\u001b[39;00m \u001b[38;5;129;01mnot\u001b[39;00m \u001b[38;5;28;01mNone\u001b[39;00m) \u001b[38;5;129;01mand\u001b[39;00m (\n\u001b[1;32m    262\u001b[0m     obs\u001b[38;5;241m.\u001b[39mfeatures\u001b[38;5;241m.\u001b[39mtrial_index \u001b[38;5;241m!=\u001b[39m trial_selector\n\u001b[1;32m    263\u001b[0m ):\n\u001b[1;32m    264\u001b[0m     \u001b[38;5;66;03m# check whether the observation is from the right trial\u001b[39;00m\n\u001b[1;32m    265\u001b[0m     \u001b[38;5;66;03m# need to use raw data in the selected trial for out-of-design points\u001b[39;00m\n\u001b[1;32m    266\u001b[0m     \u001b[38;5;28;01mcontinue\u001b[39;00m\n",
      "File \u001b[0;32m/opt/conda/envs/pytorch_light/lib/python3.10/site-packages/ax/modelbridge/prediction_utils.py:44\u001b[0m, in \u001b[0;36mpredict_at_point\u001b[0;34m(model, obsf, metric_names, scalarized_metric_config)\u001b[0m\n\u001b[1;32m     18\u001b[0m \u001b[38;5;28;01mdef\u001b[39;00m \u001b[38;5;21mpredict_at_point\u001b[39m(\n\u001b[1;32m     19\u001b[0m     model: ModelBridge,\n\u001b[1;32m     20\u001b[0m     obsf: ObservationFeatures,\n\u001b[1;32m     21\u001b[0m     metric_names: Set[\u001b[38;5;28mstr\u001b[39m],\n\u001b[1;32m     22\u001b[0m     scalarized_metric_config: Optional[List[Dict[\u001b[38;5;28mstr\u001b[39m, Any]]] \u001b[38;5;241m=\u001b[39m \u001b[38;5;28;01mNone\u001b[39;00m,\n\u001b[1;32m     23\u001b[0m ) \u001b[38;5;241m-\u001b[39m\u001b[38;5;241m>\u001b[39m Tuple[Dict[\u001b[38;5;28mstr\u001b[39m, \u001b[38;5;28mfloat\u001b[39m], Dict[\u001b[38;5;28mstr\u001b[39m, \u001b[38;5;28mfloat\u001b[39m]]:\n\u001b[1;32m     24\u001b[0m \u001b[38;5;250m    \u001b[39m\u001b[38;5;124;03m\"\"\"Make a prediction at a point.\u001b[39;00m\n\u001b[1;32m     25\u001b[0m \n\u001b[1;32m     26\u001b[0m \u001b[38;5;124;03m    Returns mean and standard deviation in format expected by plotting.\u001b[39;00m\n\u001b[0;32m   (...)\u001b[0m\n\u001b[1;32m     42\u001b[0m \u001b[38;5;124;03m        - Map from metric name to standard error.\u001b[39;00m\n\u001b[1;32m     43\u001b[0m \u001b[38;5;124;03m    \"\"\"\u001b[39;00m\n\u001b[0;32m---> 44\u001b[0m     f_pred, cov_pred \u001b[38;5;241m=\u001b[39m \u001b[43mmodel\u001b[49m\u001b[38;5;241;43m.\u001b[39;49m\u001b[43mpredict\u001b[49m\u001b[43m(\u001b[49m\u001b[43m[\u001b[49m\u001b[43mobsf\u001b[49m\u001b[43m]\u001b[49m\u001b[43m)\u001b[49m\n\u001b[1;32m     45\u001b[0m     mean_pred_dict \u001b[38;5;241m=\u001b[39m {metric_name: pred[\u001b[38;5;241m0\u001b[39m] \u001b[38;5;28;01mfor\u001b[39;00m metric_name, pred \u001b[38;5;129;01min\u001b[39;00m f_pred\u001b[38;5;241m.\u001b[39mitems()}\n\u001b[1;32m     46\u001b[0m     cov_pred_dict \u001b[38;5;241m=\u001b[39m {}\n",
      "File \u001b[0;32m/opt/conda/envs/pytorch_light/lib/python3.10/site-packages/ax/modelbridge/base.py:631\u001b[0m, in \u001b[0;36mModelBridge.predict\u001b[0;34m(self, observation_features)\u001b[0m\n\u001b[1;32m    610\u001b[0m \u001b[38;5;28;01mdef\u001b[39;00m \u001b[38;5;21mpredict\u001b[39m(\u001b[38;5;28mself\u001b[39m, observation_features: List[ObservationFeatures]) \u001b[38;5;241m-\u001b[39m\u001b[38;5;241m>\u001b[39m TModelPredict:\n\u001b[1;32m    611\u001b[0m \u001b[38;5;250m    \u001b[39m\u001b[38;5;124;03m\"\"\"Make model predictions (mean and covariance) for the given\u001b[39;00m\n\u001b[1;32m    612\u001b[0m \u001b[38;5;124;03m    observation features.\u001b[39;00m\n\u001b[1;32m    613\u001b[0m \n\u001b[0;32m   (...)\u001b[0m\n\u001b[1;32m    629\u001b[0m \u001b[38;5;124;03m          cov(metric1@x, metric2@x) for x in observation_features.\u001b[39;00m\n\u001b[1;32m    630\u001b[0m \u001b[38;5;124;03m    \"\"\"\u001b[39;00m\n\u001b[0;32m--> 631\u001b[0m     observation_data \u001b[38;5;241m=\u001b[39m \u001b[38;5;28;43mself\u001b[39;49m\u001b[38;5;241;43m.\u001b[39;49m\u001b[43m_predict_observation_data\u001b[49m\u001b[43m(\u001b[49m\n\u001b[1;32m    632\u001b[0m \u001b[43m        \u001b[49m\u001b[43mobservation_features\u001b[49m\u001b[38;5;241;43m=\u001b[39;49m\u001b[43mobservation_features\u001b[49m\n\u001b[1;32m    633\u001b[0m \u001b[43m    \u001b[49m\u001b[43m)\u001b[49m\n\u001b[1;32m    634\u001b[0m     f, cov \u001b[38;5;241m=\u001b[39m unwrap_observation_data(observation_data)\n\u001b[1;32m    635\u001b[0m     \u001b[38;5;28;01mreturn\u001b[39;00m f, cov\n",
      "File \u001b[0;32m/opt/conda/envs/pytorch_light/lib/python3.10/site-packages/ax/modelbridge/base.py:604\u001b[0m, in \u001b[0;36mModelBridge._predict_observation_data\u001b[0;34m(self, observation_features)\u001b[0m\n\u001b[1;32m    602\u001b[0m \u001b[38;5;66;03m# Predict in single batch.\u001b[39;00m\n\u001b[1;32m    603\u001b[0m \u001b[38;5;28;01mtry\u001b[39;00m:\n\u001b[0;32m--> 604\u001b[0m     observation_data \u001b[38;5;241m=\u001b[39m \u001b[38;5;28;43mself\u001b[39;49m\u001b[38;5;241;43m.\u001b[39;49m\u001b[43m_batch_predict\u001b[49m\u001b[43m(\u001b[49m\u001b[43mobservation_features\u001b[49m\u001b[43m)\u001b[49m\n\u001b[1;32m    605\u001b[0m \u001b[38;5;66;03m# Predict one by one.\u001b[39;00m\n\u001b[1;32m    606\u001b[0m \u001b[38;5;28;01mexcept\u001b[39;00m (\u001b[38;5;167;01mTypeError\u001b[39;00m, \u001b[38;5;167;01mValueError\u001b[39;00m):\n",
      "File \u001b[0;32m/opt/conda/envs/pytorch_light/lib/python3.10/site-packages/ax/modelbridge/base.py:538\u001b[0m, in \u001b[0;36mModelBridge._batch_predict\u001b[0;34m(self, observation_features)\u001b[0m\n\u001b[1;32m    534\u001b[0m     observation_features \u001b[38;5;241m=\u001b[39m t\u001b[38;5;241m.\u001b[39mtransform_observation_features(\n\u001b[1;32m    535\u001b[0m         observation_features\n\u001b[1;32m    536\u001b[0m     )\n\u001b[1;32m    537\u001b[0m \u001b[38;5;66;03m# Apply terminal transform and predict\u001b[39;00m\n\u001b[0;32m--> 538\u001b[0m observation_data \u001b[38;5;241m=\u001b[39m \u001b[38;5;28;43mself\u001b[39;49m\u001b[38;5;241;43m.\u001b[39;49m\u001b[43m_predict\u001b[49m\u001b[43m(\u001b[49m\u001b[43mobservation_features\u001b[49m\u001b[43m)\u001b[49m\n\u001b[1;32m    540\u001b[0m \u001b[38;5;66;03m# Apply reverse transforms, in reverse order\u001b[39;00m\n\u001b[1;32m    541\u001b[0m pred_observations \u001b[38;5;241m=\u001b[39m recombine_observations(\n\u001b[1;32m    542\u001b[0m     observation_features\u001b[38;5;241m=\u001b[39mobservation_features, observation_data\u001b[38;5;241m=\u001b[39mobservation_data\n\u001b[1;32m    543\u001b[0m )\n",
      "File \u001b[0;32m/opt/conda/envs/pytorch_light/lib/python3.10/site-packages/ax/modelbridge/random.py:96\u001b[0m, in \u001b[0;36mRandomModelBridge._predict\u001b[0;34m(self, observation_features)\u001b[0m\n\u001b[1;32m     90\u001b[0m \u001b[38;5;28;01mdef\u001b[39;00m \u001b[38;5;21m_predict\u001b[39m(\n\u001b[1;32m     91\u001b[0m     \u001b[38;5;28mself\u001b[39m, observation_features: List[ObservationFeatures]\n\u001b[1;32m     92\u001b[0m ) \u001b[38;5;241m-\u001b[39m\u001b[38;5;241m>\u001b[39m List[ObservationData]:\n\u001b[1;32m     93\u001b[0m \u001b[38;5;250m    \u001b[39m\u001b[38;5;124;03m\"\"\"Apply terminal transform, predict, and reverse terminal transform on\u001b[39;00m\n\u001b[1;32m     94\u001b[0m \u001b[38;5;124;03m    output.\u001b[39;00m\n\u001b[1;32m     95\u001b[0m \u001b[38;5;124;03m    \"\"\"\u001b[39;00m\n\u001b[0;32m---> 96\u001b[0m     \u001b[38;5;28;01mraise\u001b[39;00m \u001b[38;5;167;01mNotImplementedError\u001b[39;00m(\u001b[38;5;124m\"\u001b[39m\u001b[38;5;124mRandomModelBridge does not support prediction.\u001b[39m\u001b[38;5;124m\"\u001b[39m)\n",
      "\u001b[0;31mNotImplementedError\u001b[0m: RandomModelBridge does not support prediction."
     ]
    }
   ],
   "source": [
    "from ax.plot.contour import interact_contour_plotly\n",
    "\n",
    "interact_contour_plotly(model=gs.model, metric_name=\"val_mean_f1\")"
   ]
  },
  {
   "cell_type": "markdown",
   "id": "02eb3967-b30b-407f-b2e3-57d0e11efe2c",
   "metadata": {},
   "source": [
    "Similarly, we show the number of model parameters as a function of the conv sizes in the figure below and see that it also increases as a function of the hidden sizes (the dependency on hidden_size_1 is much larger)."
   ]
  },
  {
   "cell_type": "code",
   "execution_count": null,
   "id": "c91f35f5-5dc9-40d9-b55f-97bae303ef1b",
   "metadata": {
    "tags": []
   },
   "outputs": [],
   "source": [
    "interact_contour_plotly(model=gs.model, metric_name=\"num_params\")"
   ]
  },
  {
   "cell_type": "markdown",
   "id": "a2ecf907-247b-45d3-9197-38deb5a451a3",
   "metadata": {},
   "source": [
    "# Save to excel"
   ]
  },
  {
   "cell_type": "code",
   "execution_count": 20,
   "id": "3de5b404-099b-4cb0-8c24-04b5ec18997c",
   "metadata": {
    "tags": []
   },
   "outputs": [],
   "source": [
    "df.to_excel(\"bop_nas_90k.xlsx\")\n",
    "df.to_csv(\"bop_nas_90k.csv\")"
   ]
  },
  {
   "cell_type": "code",
   "execution_count": null,
   "id": "1d12c3fc-27cd-48ca-85f5-ccb5513143eb",
   "metadata": {},
   "outputs": [],
   "source": []
  }
 ],
 "metadata": {
  "kernelspec": {
   "display_name": "Python 3 (ipykernel)",
   "language": "python",
   "name": "python3"
  },
  "language_info": {
   "codemirror_mode": {
    "name": "ipython",
    "version": 3
   },
   "file_extension": ".py",
   "mimetype": "text/x-python",
   "name": "python",
   "nbconvert_exporter": "python",
   "pygments_lexer": "ipython3",
   "version": "3.10.9"
  }
 },
 "nbformat": 4,
 "nbformat_minor": 5
}
