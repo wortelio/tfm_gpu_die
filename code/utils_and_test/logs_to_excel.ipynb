{
 "cells": [
  {
   "cell_type": "code",
   "execution_count": 1,
   "id": "2f6f370b-b579-44d2-8b5a-e12acafcb8d4",
   "metadata": {
    "tags": []
   },
   "outputs": [],
   "source": [
    "import pandas as pd\n",
    "import numpy as np"
   ]
  },
  {
   "cell_type": "code",
   "execution_count": 2,
   "id": "b7493a3c-19de-4f51-82b5-b2eaf4dbce57",
   "metadata": {
    "tags": []
   },
   "outputs": [],
   "source": [
    "smoke_dic = {\n",
    "    'Accuracy': 0.8,\n",
    "    'Precision': 0.7,\n",
    "    'Recall': 0.6,\n",
    "    'F1': 0.9\n",
    "}\n",
    "fire_dic = {\n",
    "    'Accuracy': 0.81,\n",
    "    'Precision': 0.71,\n",
    "    'Recall': 0.61,\n",
    "    'F1': 0.91\n",
    "}\n",
    "mean_dic = {\n",
    "    'Accuracy': 0.82,\n",
    "    'Precision': 0.72,\n",
    "    'Recall': 0.62,\n",
    "    'F1': 0.92\n",
    "}"
   ]
  },
  {
   "cell_type": "code",
   "execution_count": 3,
   "id": "439369cf-c5f6-413e-8389-3a27d0229a38",
   "metadata": {
    "tags": []
   },
   "outputs": [],
   "source": [
    "idx = ['Smoke', 'Fire', 'Mean']\n",
    "cols = ['Accuracy', 'Precision', 'Recall', 'F1']"
   ]
  },
  {
   "cell_type": "code",
   "execution_count": 4,
   "id": "a35b7d3a-8099-4015-8019-3dfd53388417",
   "metadata": {
    "tags": []
   },
   "outputs": [
    {
     "data": {
      "text/html": [
       "<div>\n",
       "<style scoped>\n",
       "    .dataframe tbody tr th:only-of-type {\n",
       "        vertical-align: middle;\n",
       "    }\n",
       "\n",
       "    .dataframe tbody tr th {\n",
       "        vertical-align: top;\n",
       "    }\n",
       "\n",
       "    .dataframe thead th {\n",
       "        text-align: right;\n",
       "    }\n",
       "</style>\n",
       "<table border=\"1\" class=\"dataframe\">\n",
       "  <thead>\n",
       "    <tr style=\"text-align: right;\">\n",
       "      <th></th>\n",
       "      <th>Accuracy</th>\n",
       "      <th>Precision</th>\n",
       "      <th>Recall</th>\n",
       "      <th>F1</th>\n",
       "    </tr>\n",
       "  </thead>\n",
       "  <tbody>\n",
       "    <tr>\n",
       "      <th>Smoke</th>\n",
       "      <td>0.80</td>\n",
       "      <td>0.70</td>\n",
       "      <td>0.60</td>\n",
       "      <td>0.90</td>\n",
       "    </tr>\n",
       "    <tr>\n",
       "      <th>Fire</th>\n",
       "      <td>0.81</td>\n",
       "      <td>0.71</td>\n",
       "      <td>0.61</td>\n",
       "      <td>0.91</td>\n",
       "    </tr>\n",
       "    <tr>\n",
       "      <th>Mean</th>\n",
       "      <td>0.82</td>\n",
       "      <td>0.72</td>\n",
       "      <td>0.62</td>\n",
       "      <td>0.92</td>\n",
       "    </tr>\n",
       "  </tbody>\n",
       "</table>\n",
       "</div>"
      ],
      "text/plain": [
       "       Accuracy  Precision  Recall    F1\n",
       "Smoke      0.80       0.70    0.60  0.90\n",
       "Fire       0.81       0.71    0.61  0.91\n",
       "Mean       0.82       0.72    0.62  0.92"
      ]
     },
     "execution_count": 4,
     "metadata": {},
     "output_type": "execute_result"
    }
   ],
   "source": [
    "df = pd.DataFrame([smoke_dic, fire_dic, mean_dic], index=idx, columns=cols)\n",
    "df"
   ]
  },
  {
   "cell_type": "code",
   "execution_count": 14,
   "id": "97bab8db-6e0a-46b1-841a-72b5fe9200a4",
   "metadata": {
    "tags": []
   },
   "outputs": [],
   "source": [
    "smoke_dic = {\n",
    "    'Accuracy': [0.8, 0.18],\n",
    "    'Precision': [0.7, 0.17],\n",
    "    'Recall': [0.6, 0.16],\n",
    "    'F1': [0.9, 0.19]\n",
    "}\n",
    "fire_dic = {\n",
    "    'Accuracy': [0.81, 0.181],\n",
    "    'Precision': [0.71, 0.171],\n",
    "    'Recall': [0.61, 0.161],\n",
    "    'F1': [0.91, 0.191]\n",
    "}\n",
    "mean_dic = {\n",
    "    'Accuracy': [0.82, 0.182],\n",
    "    'Precision': [0.72, 0.172],\n",
    "    'Recall': [0.62, 0.162],\n",
    "    'F1': [0.92, 0.192]\n",
    "}"
   ]
  },
  {
   "cell_type": "code",
   "execution_count": 15,
   "id": "975d1d2a-f675-4553-9fea-f23dfa6e26c6",
   "metadata": {
    "tags": []
   },
   "outputs": [],
   "source": [
    "idx = ['Smoke', 'Fire', 'Mean']\n",
    "cols = ['Accuracy', 'Precision', 'Recall', 'F1']"
   ]
  },
  {
   "cell_type": "code",
   "execution_count": 16,
   "id": "719d06bf-5934-45c0-98bd-7b393b1367fd",
   "metadata": {
    "tags": []
   },
   "outputs": [
    {
     "data": {
      "text/html": [
       "<div>\n",
       "<style scoped>\n",
       "    .dataframe tbody tr th:only-of-type {\n",
       "        vertical-align: middle;\n",
       "    }\n",
       "\n",
       "    .dataframe tbody tr th {\n",
       "        vertical-align: top;\n",
       "    }\n",
       "\n",
       "    .dataframe thead th {\n",
       "        text-align: right;\n",
       "    }\n",
       "</style>\n",
       "<table border=\"1\" class=\"dataframe\">\n",
       "  <thead>\n",
       "    <tr style=\"text-align: right;\">\n",
       "      <th></th>\n",
       "      <th>Accuracy</th>\n",
       "      <th>Precision</th>\n",
       "      <th>Recall</th>\n",
       "      <th>F1</th>\n",
       "    </tr>\n",
       "  </thead>\n",
       "  <tbody>\n",
       "    <tr>\n",
       "      <th>Smoke</th>\n",
       "      <td>[0.8, 0.18]</td>\n",
       "      <td>[0.7, 0.17]</td>\n",
       "      <td>[0.6, 0.16]</td>\n",
       "      <td>[0.9, 0.19]</td>\n",
       "    </tr>\n",
       "    <tr>\n",
       "      <th>Fire</th>\n",
       "      <td>[0.81, 0.181]</td>\n",
       "      <td>[0.71, 0.171]</td>\n",
       "      <td>[0.61, 0.161]</td>\n",
       "      <td>[0.91, 0.191]</td>\n",
       "    </tr>\n",
       "    <tr>\n",
       "      <th>Mean</th>\n",
       "      <td>[0.82, 0.182]</td>\n",
       "      <td>[0.72, 0.172]</td>\n",
       "      <td>[0.62, 0.162]</td>\n",
       "      <td>[0.92, 0.192]</td>\n",
       "    </tr>\n",
       "  </tbody>\n",
       "</table>\n",
       "</div>"
      ],
      "text/plain": [
       "            Accuracy      Precision         Recall             F1\n",
       "Smoke    [0.8, 0.18]    [0.7, 0.17]    [0.6, 0.16]    [0.9, 0.19]\n",
       "Fire   [0.81, 0.181]  [0.71, 0.171]  [0.61, 0.161]  [0.91, 0.191]\n",
       "Mean   [0.82, 0.182]  [0.72, 0.172]  [0.62, 0.162]  [0.92, 0.192]"
      ]
     },
     "execution_count": 16,
     "metadata": {},
     "output_type": "execute_result"
    }
   ],
   "source": [
    "df = pd.DataFrame([smoke_dic, fire_dic, mean_dic], index=idx, columns=cols)\n",
    "df"
   ]
  },
  {
   "cell_type": "code",
   "execution_count": 8,
   "id": "36d49c01-791f-4874-8629-03bb195cef2f",
   "metadata": {
    "tags": []
   },
   "outputs": [],
   "source": [
    "#df.to_csv('test.csv')"
   ]
  },
  {
   "cell_type": "code",
   "execution_count": 17,
   "id": "bab2ac61-0cf6-49c7-85a7-f68abd26ea48",
   "metadata": {
    "tags": []
   },
   "outputs": [
    {
     "data": {
      "text/plain": [
       "(2, 12)"
      ]
     },
     "execution_count": 17,
     "metadata": {},
     "output_type": "execute_result"
    }
   ],
   "source": [
    "full_dic = {\n",
    "    'Smoke': smoke_dic,\n",
    "    'Fire': fire_dic,\n",
    "    'Mean': mean_dic\n",
    "}\n",
    "n_metrics = len(smoke_dic)\n",
    "n_classes = len(full_dic)\n",
    "n_epochs = len(smoke_dic['F1'])\n",
    "data = np.zeros((n_epochs, n_metrics*n_classes))\n",
    "data.shape"
   ]
  },
  {
   "cell_type": "code",
   "execution_count": 23,
   "id": "6b0d92d3-3248-4b97-8634-46652dcde4c7",
   "metadata": {
    "tags": []
   },
   "outputs": [
    {
     "name": "stdout",
     "output_type": "stream",
     "text": [
      "kout Smoke\n",
      "kin Accuracy\n",
      "epoch 0, idx 0, values [0.8, 0.18]\n",
      "epoch 1, idx 0, values [0.8, 0.18]\n",
      "kin Precision\n",
      "epoch 0, idx 3, values [0.7, 0.17]\n",
      "epoch 1, idx 3, values [0.7, 0.17]\n",
      "kin Recall\n",
      "epoch 0, idx 6, values [0.6, 0.16]\n",
      "epoch 1, idx 6, values [0.6, 0.16]\n",
      "kin F1\n",
      "epoch 0, idx 9, values [0.9, 0.19]\n",
      "epoch 1, idx 9, values [0.9, 0.19]\n",
      "kout Fire\n",
      "kin Accuracy\n",
      "epoch 0, idx 1, values [0.81, 0.181]\n",
      "epoch 1, idx 1, values [0.81, 0.181]\n",
      "kin Precision\n",
      "epoch 0, idx 4, values [0.71, 0.171]\n",
      "epoch 1, idx 4, values [0.71, 0.171]\n",
      "kin Recall\n",
      "epoch 0, idx 7, values [0.61, 0.161]\n",
      "epoch 1, idx 7, values [0.61, 0.161]\n",
      "kin F1\n",
      "epoch 0, idx 10, values [0.91, 0.191]\n",
      "epoch 1, idx 10, values [0.91, 0.191]\n",
      "kout Mean\n",
      "kin Accuracy\n",
      "epoch 0, idx 2, values [0.82, 0.182]\n",
      "epoch 1, idx 2, values [0.82, 0.182]\n",
      "kin Precision\n",
      "epoch 0, idx 5, values [0.72, 0.172]\n",
      "epoch 1, idx 5, values [0.72, 0.172]\n",
      "kin Recall\n",
      "epoch 0, idx 8, values [0.62, 0.162]\n",
      "epoch 1, idx 8, values [0.62, 0.162]\n",
      "kin F1\n",
      "epoch 0, idx 11, values [0.92, 0.192]\n",
      "epoch 1, idx 11, values [0.92, 0.192]\n"
     ]
    }
   ],
   "source": [
    "for i, kout in enumerate(full_dic.keys()):\n",
    "    print(f'kout {kout}')\n",
    "    for j, kin in enumerate(full_dic[kout].keys()):\n",
    "        print(f'kin {kin}')\n",
    "        for epoch in range(n_epochs):\n",
    "            print(f'epoch {epoch}, idx {j*n_classes+i}, values {full_dic[kout][kin]}')\n",
    "            data[epoch, j*n_classes+i] = full_dic[kout][kin][epoch]"
   ]
  },
  {
   "cell_type": "code",
   "execution_count": 24,
   "id": "725322ac-7034-44f3-a199-4661c1532257",
   "metadata": {
    "tags": []
   },
   "outputs": [
    {
     "data": {
      "text/plain": [
       "array([[0.8  , 0.81 , 0.82 , 0.7  , 0.71 , 0.72 , 0.6  , 0.61 , 0.62 ,\n",
       "        0.9  , 0.91 , 0.92 ],\n",
       "       [0.18 , 0.181, 0.182, 0.17 , 0.171, 0.172, 0.16 , 0.161, 0.162,\n",
       "        0.19 , 0.191, 0.192]])"
      ]
     },
     "execution_count": 24,
     "metadata": {},
     "output_type": "execute_result"
    }
   ],
   "source": [
    "data"
   ]
  },
  {
   "cell_type": "code",
   "execution_count": 25,
   "id": "41cb736b-6429-458a-88b7-fb85b84994d2",
   "metadata": {
    "tags": []
   },
   "outputs": [],
   "source": [
    "cols = pd.MultiIndex.from_product([['Accuracy', 'Precision', 'Recall', 'F1'], ['Smoke', 'Fire', 'Mean']])\n",
    "df_big = pd.DataFrame(data, columns=cols)"
   ]
  },
  {
   "cell_type": "code",
   "execution_count": 26,
   "id": "d52a25ed-a7c4-46a4-81b4-96d8b3bdf285",
   "metadata": {
    "tags": []
   },
   "outputs": [
    {
     "data": {
      "text/html": [
       "<div>\n",
       "<style scoped>\n",
       "    .dataframe tbody tr th:only-of-type {\n",
       "        vertical-align: middle;\n",
       "    }\n",
       "\n",
       "    .dataframe tbody tr th {\n",
       "        vertical-align: top;\n",
       "    }\n",
       "\n",
       "    .dataframe thead tr th {\n",
       "        text-align: left;\n",
       "    }\n",
       "</style>\n",
       "<table border=\"1\" class=\"dataframe\">\n",
       "  <thead>\n",
       "    <tr>\n",
       "      <th></th>\n",
       "      <th colspan=\"3\" halign=\"left\">Accuracy</th>\n",
       "      <th colspan=\"3\" halign=\"left\">Precision</th>\n",
       "      <th colspan=\"3\" halign=\"left\">Recall</th>\n",
       "      <th colspan=\"3\" halign=\"left\">F1</th>\n",
       "    </tr>\n",
       "    <tr>\n",
       "      <th></th>\n",
       "      <th>Smoke</th>\n",
       "      <th>Fire</th>\n",
       "      <th>Mean</th>\n",
       "      <th>Smoke</th>\n",
       "      <th>Fire</th>\n",
       "      <th>Mean</th>\n",
       "      <th>Smoke</th>\n",
       "      <th>Fire</th>\n",
       "      <th>Mean</th>\n",
       "      <th>Smoke</th>\n",
       "      <th>Fire</th>\n",
       "      <th>Mean</th>\n",
       "    </tr>\n",
       "  </thead>\n",
       "  <tbody>\n",
       "    <tr>\n",
       "      <th>0</th>\n",
       "      <td>0.80</td>\n",
       "      <td>0.810</td>\n",
       "      <td>0.820</td>\n",
       "      <td>0.70</td>\n",
       "      <td>0.710</td>\n",
       "      <td>0.720</td>\n",
       "      <td>0.60</td>\n",
       "      <td>0.610</td>\n",
       "      <td>0.620</td>\n",
       "      <td>0.90</td>\n",
       "      <td>0.910</td>\n",
       "      <td>0.920</td>\n",
       "    </tr>\n",
       "    <tr>\n",
       "      <th>1</th>\n",
       "      <td>0.18</td>\n",
       "      <td>0.181</td>\n",
       "      <td>0.182</td>\n",
       "      <td>0.17</td>\n",
       "      <td>0.171</td>\n",
       "      <td>0.172</td>\n",
       "      <td>0.16</td>\n",
       "      <td>0.161</td>\n",
       "      <td>0.162</td>\n",
       "      <td>0.19</td>\n",
       "      <td>0.191</td>\n",
       "      <td>0.192</td>\n",
       "    </tr>\n",
       "  </tbody>\n",
       "</table>\n",
       "</div>"
      ],
      "text/plain": [
       "  Accuracy               Precision               Recall                  F1  \\\n",
       "     Smoke   Fire   Mean     Smoke   Fire   Mean  Smoke   Fire   Mean Smoke   \n",
       "0     0.80  0.810  0.820      0.70  0.710  0.720   0.60  0.610  0.620  0.90   \n",
       "1     0.18  0.181  0.182      0.17  0.171  0.172   0.16  0.161  0.162  0.19   \n",
       "\n",
       "                 \n",
       "    Fire   Mean  \n",
       "0  0.910  0.920  \n",
       "1  0.191  0.192  "
      ]
     },
     "execution_count": 26,
     "metadata": {},
     "output_type": "execute_result"
    }
   ],
   "source": [
    "df_big"
   ]
  },
  {
   "cell_type": "code",
   "execution_count": 27,
   "id": "4c69dcbf-2985-438b-aa8d-3a034df5bff6",
   "metadata": {
    "tags": []
   },
   "outputs": [],
   "source": [
    "df_big.to_csv('test.csv')"
   ]
  },
  {
   "cell_type": "code",
   "execution_count": null,
   "id": "01c5a03f-cebd-4ccb-8423-d25fdd74765d",
   "metadata": {},
   "outputs": [],
   "source": []
  }
 ],
 "metadata": {
  "kernelspec": {
   "display_name": "Python 3 (ipykernel)",
   "language": "python",
   "name": "python3"
  },
  "language_info": {
   "codemirror_mode": {
    "name": "ipython",
    "version": 3
   },
   "file_extension": ".py",
   "mimetype": "text/x-python",
   "name": "python",
   "nbconvert_exporter": "python",
   "pygments_lexer": "ipython3",
   "version": "3.10.13"
  }
 },
 "nbformat": 4,
 "nbformat_minor": 5
}
