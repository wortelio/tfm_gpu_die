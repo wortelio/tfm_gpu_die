{
 "cells": [
  {
   "cell_type": "code",
   "execution_count": 1,
   "id": "93aeb50b-24a7-482e-bd76-29d32060bda9",
   "metadata": {},
   "outputs": [],
   "source": [
    "import os\n",
    "import shutil"
   ]
  },
  {
   "cell_type": "code",
   "execution_count": 2,
   "id": "5524793b-5f42-4fcf-9433-0ec1eccbe305",
   "metadata": {},
   "outputs": [
    {
     "name": "stdout",
     "output_type": "stream",
     "text": [
      "/home/gmoreno/uav/code/utils_and_test\n"
     ]
    }
   ],
   "source": [
    "!pwd"
   ]
  },
  {
   "cell_type": "code",
   "execution_count": 3,
   "id": "1cee89b3-dbd1-49c7-9a16-a8aaabc4ae7e",
   "metadata": {},
   "outputs": [],
   "source": [
    "shutil.unpack_archive('../../datasets/ds2fire.zip', '../../datasets/ds2fire')"
   ]
  },
  {
   "cell_type": "code",
   "execution_count": 4,
   "id": "5c6bd5b2-6b89-41ed-b1e4-8be7d14dff6a",
   "metadata": {},
   "outputs": [
    {
     "name": "stdout",
     "output_type": "stream",
     "text": [
      "17221\n"
     ]
    }
   ],
   "source": [
    "print(len(os.listdir('../../datasets/ds2fire/dfire_yolo/train/labels')))"
   ]
  },
  {
   "cell_type": "code",
   "execution_count": null,
   "id": "92058208-19fb-4afa-9ed5-6f4c3faeae7b",
   "metadata": {},
   "outputs": [],
   "source": []
  }
 ],
 "metadata": {
  "kernelspec": {
   "display_name": "Python 3 (ipykernel)",
   "language": "python",
   "name": "python3"
  },
  "language_info": {
   "codemirror_mode": {
    "name": "ipython",
    "version": 3
   },
   "file_extension": ".py",
   "mimetype": "text/x-python",
   "name": "python",
   "nbconvert_exporter": "python",
   "pygments_lexer": "ipython3",
   "version": "3.10.14"
  }
 },
 "nbformat": 4,
 "nbformat_minor": 5
}
