{
 "cells": [
  {
   "cell_type": "code",
   "execution_count": 1,
   "id": "6e8a513a-1549-4be7-af63-4f9542994187",
   "metadata": {},
   "outputs": [],
   "source": [
    "import os\n",
    "import logging\n",
    "from pathlib import Path\n",
    "import datetime\n",
    "\n",
    "import collections\n",
    "\n",
    "import numpy as np\n",
    "import math\n",
    "import random\n",
    "import pandas as pd\n",
    "\n",
    "import torch\n",
    "from torch.utils.data import Dataset\n",
    "from torch.utils.data import DataLoader\n",
    "\n",
    "import albumentations as A\n",
    "from albumentations.pytorch import ToTensorV2\n",
    "\n",
    "import matplotlib.pyplot as plt\n",
    "\n",
    "import torch.nn as nn \n",
    "from torch.nn.utils import parameters_to_vector\n",
    "import torch.optim as optim\n",
    "\n",
    "import torchmetrics\n",
    "\n",
    "import cv2\n",
    "\n",
    "from neural_compressor.quantization import fit as fit\n",
    "from neural_compressor.config import PostTrainingQuantConfig, TuningCriterion, AccuracyCriterion"
   ]
  },
  {
   "cell_type": "code",
   "execution_count": 2,
   "id": "423ca7c6-5d21-460f-9d55-073aceab5616",
   "metadata": {},
   "outputs": [],
   "source": [
    "#torch.cuda.empty_cache()"
   ]
  },
  {
   "cell_type": "markdown",
   "id": "6dfc923c-eb11-4077-88d4-82c09c17e1a1",
   "metadata": {},
   "source": [
    "# Logger"
   ]
  },
  {
   "cell_type": "code",
   "execution_count": 3,
   "id": "0b4e5f0e-110e-4319-aeb1-ea3fcc692ef9",
   "metadata": {},
   "outputs": [],
   "source": [
    "log_path = 'results_ptq_bn_affine/'\n",
    "\n",
    "logger = logging.getLogger(\"GonLogger\")\n",
    "logger.propagate = False\n",
    "logger.setLevel(logging.INFO)\n",
    "file_handler = logging.FileHandler(log_path + 'logfile.log')\n",
    "formatter = logging.Formatter('%(message)s')\n",
    "file_handler.setFormatter(formatter)\n",
    "\n",
    "# add file handler to logger\n",
    "logger.addHandler(file_handler)\n",
    "\n",
    "logger.info('BED Classifier XS Tiny. PTQ Quant One Head. Neural Compression Quantization. BatchNorm Affine Fixed')"
   ]
  },
  {
   "cell_type": "markdown",
   "id": "80118e57-7ba6-4ea3-bac9-d5c27f05863c",
   "metadata": {},
   "source": [
    "# Config"
   ]
  },
  {
   "cell_type": "code",
   "execution_count": 4,
   "id": "243f4966-29cb-45c0-84a4-8e33c37656a0",
   "metadata": {},
   "outputs": [],
   "source": [
    "CLASSES = [\"smoke\", \"fire\"]\n",
    "N_CLASSES = len(CLASSES)\n",
    "\n",
    "IMG_DIM = {'W':224, 'H':224} # (W, H)\n",
    "IMG_H = IMG_DIM['H']\n",
    "IMG_W = IMG_DIM['W']"
   ]
  },
  {
   "cell_type": "markdown",
   "id": "1e4b172f-2792-4ef1-b1c8-2d492ecbe197",
   "metadata": {},
   "source": [
    "# Dataset"
   ]
  },
  {
   "cell_type": "markdown",
   "id": "525abf46-8138-4808-bb69-7dbaa55807d9",
   "metadata": {},
   "source": [
    "# DFire"
   ]
  },
  {
   "cell_type": "code",
   "execution_count": 5,
   "id": "f2c01c04-ca3b-4ff1-99c6-5d2bc76f17dc",
   "metadata": {},
   "outputs": [],
   "source": [
    "class DFireDataset(Dataset):\n",
    "    '''\n",
    "    Creates a Pytorch Dataset to train the Yolov1 Network.\n",
    "    Encodes labels to match the format [xcell, ycell, w, h, confidence, class_0 (smoke), class_1 (fire)]\n",
    "        - Final encoding format is: [xcell, ycell, w, h, conf=1, smoke?, fire?]\n",
    "\n",
    "    Discard images when there are more than 1 object in the same cell\n",
    "    \n",
    "    Arguments:\n",
    "        - img_h:            image height\n",
    "        - img_w:            image width\n",
    "        - img_dir:          path to images folder\n",
    "        - label_dir:        path to labels folder\n",
    "        - num_classes:      number of classes\n",
    "        - transform:        transformation applied to input images -> Albumentations\n",
    "        - target_transform: transformation applied to labels -> nothing by default\n",
    "\n",
    "    Return:\n",
    "        - img:              1 image of the dataset\n",
    "        - target:           corresponding label encoded: [smoke, fire]\n",
    "    '''\n",
    "\n",
    "    def __init__(self, img_h, img_w, img_dir, label_dir, num_classes,\n",
    "                 ds_len,\n",
    "                 transform=None, target_transform=None):\n",
    "        self.img_h = img_h\n",
    "        self.img_w = img_w\n",
    "        self.img_dir = img_dir\n",
    "        self.label_dir = label_dir\n",
    "        self.num_classes = num_classes\n",
    "        self.ds_len = ds_len\n",
    "        self.transform = transform\n",
    "        self.target_transform = target_transform\n",
    "        \n",
    "        self.except_transform = A.Compose([\n",
    "                                    A.Resize(self.img_h, self.img_w, p=1),\n",
    "                                    ToTensorV2(p=1),\n",
    "                                    ]\n",
    "                                )\n",
    "\n",
    "        self.labels_list = sorted(\n",
    "            [\n",
    "                os.path.join(self.label_dir, file_name)\n",
    "                for file_name in os.listdir(self.label_dir)\n",
    "                if file_name.endswith(\".txt\")\n",
    "            ]\n",
    "        )\n",
    "    \n",
    "        if ds_len is not None:\n",
    "            random.seed(123)\n",
    "            random.shuffle(self.labels_list)\n",
    "            self.images_path, self.labels = self.__build_ds__(self.labels_list[:self.ds_len])\n",
    "            self.num_samples = len(self.labels_list[:self.ds_len])\n",
    "        else:\n",
    "            self.images_path, self.labels = self.__build_ds__(self.labels_list)\n",
    "            self.num_samples = len(self.labels_list)\n",
    "\n",
    "    def __len__(self):\n",
    "        return self.num_samples   \n",
    "\n",
    "    def __build_ds__(self, labels_list):\n",
    "        labels = []\n",
    "        images = []\n",
    "        wrong_imgs = 0\n",
    "        empty = 0\n",
    "        only_smoke = 0\n",
    "        only_fire = 0\n",
    "        smoke_fire = 0\n",
    "                \n",
    "        for label in labels_list:\n",
    "            fname = Path(label).stem\n",
    "            image_path = self.img_dir + fname + '.jpg'   \n",
    "            #print(fname, image_path)\n",
    "                                   \n",
    "            if cv2.imread(image_path) is None:\n",
    "                print(f'{image_path} cannot be read by cv2 -> removed')\n",
    "                wrong_imgs += 1\n",
    "            \n",
    "            else:\n",
    "                \n",
    "                label_array = np.zeros((self.num_classes))\n",
    "            \n",
    "                with open(label) as f:\n",
    "                    lines = f.readlines()\n",
    "                       \n",
    "                    for line in lines:\n",
    "                        class_id, _, _, _, _ = line.strip().split()\n",
    "                        class_id = int(class_id)\n",
    "                        if np.array_equal(label_array, np.array([1, 1])):\n",
    "                            break\n",
    "                        else:\n",
    "                            label_array[class_id] = 1.\n",
    "\n",
    "                    if np.array_equal(label_array, np.array([1, 1])):\n",
    "                        smoke_fire += 1\n",
    "                    elif np.array_equal(label_array, np.array([0, 1])):\n",
    "                        only_fire += 1\n",
    "                    elif np.array_equal(label_array, np.array([1, 0])):\n",
    "                        only_smoke += 1\n",
    "                    elif np.array_equal(label_array, np.array([0, 0])):\n",
    "                        empty += 1\n",
    "                    else:\n",
    "                        print(\"Wrong label in DFire dataset\")\n",
    "                        logger.info(\"Wrong label in DFire dataset\")\n",
    "                        \n",
    "                    labels.append(label_array)\n",
    "                    images.append(image_path)\n",
    "        \n",
    "        print(f'DFire Removed wrong images: {wrong_imgs}')\n",
    "        logger.info(f'DFire Removed wrong images: {wrong_imgs}')\n",
    "        print(f'DFire empty images: {empty}')\n",
    "        logger.info(f'DFire empty images: {empty}')\n",
    "        print(f'DFire only smoke images: {only_smoke}')\n",
    "        logger.info(f'DFire only smoke images: {only_smoke}')\n",
    "        print(f'DFire only fire images: {only_fire}')\n",
    "        logger.info(f'DFire only fire images: {only_fire}')\n",
    "        print(f'DFire smoke and fire images: {smoke_fire}')\n",
    "        logger.info(f'DFire smoke and fire images: {smoke_fire}')\n",
    "\n",
    "        labels_np = np.array(labels)\n",
    "        labels_tensor = torch.tensor(labels_np, dtype=torch.float32)\n",
    "        images_array = np.array(images)\n",
    "        \n",
    "        return images_array, labels_tensor\n",
    "\n",
    "    def __getitem__(self, index):\n",
    "\n",
    "        # Image processing\n",
    "        img_file = self.images_path[index]\n",
    "        img = cv2.imread(img_file)\n",
    "        img = cv2.cvtColor(img, cv2.COLOR_BGR2RGB)   \n",
    "\n",
    "        # Labels processing\n",
    "        label = self.labels[index]\n",
    "        \n",
    "        # Data Augmentation\n",
    "        if self.transform is not None:\n",
    "            try:\n",
    "                aug = self.transform(image=img)\n",
    "                img = aug['image'] / 255.0\n",
    "            except:\n",
    "                #print(f'Error trying to augment image {img_file}')\n",
    "                aug = self.except_transform(image=img)\n",
    "                img = aug['image'] / 255.0\n",
    "        \n",
    "        return img, label"
   ]
  },
  {
   "cell_type": "markdown",
   "id": "61638d65-5686-4c76-b2ad-b1c0d82e16a3",
   "metadata": {},
   "source": [
    "# Images and Labels Folders"
   ]
  },
  {
   "cell_type": "code",
   "execution_count": 6,
   "id": "eb44e93c-b177-4c16-a4b4-c79ea28e2343",
   "metadata": {},
   "outputs": [
    {
     "name": "stdout",
     "output_type": "stream",
     "text": [
      "Val dir: ['labels', '.ipynb_checkpoints', 'images']\n"
     ]
    }
   ],
   "source": [
    "ds_dir = '../../../datasets/ds2fire/dfire_yolo/'\n",
    "\n",
    "#val_dir = ds_dir + 'test/'\n",
    "\n",
    "val_dir = ds_dir + 'test/'\n",
    "val_imgs = val_dir + 'images/'\n",
    "val_labels = val_dir + 'labels/'\n",
    "\n",
    "print(f'Val dir: {os.listdir(val_dir)}')"
   ]
  },
  {
   "cell_type": "markdown",
   "id": "542018a0-be77-4989-84e8-860a54e106ce",
   "metadata": {
    "tags": []
   },
   "source": [
    "# Hyperparameters"
   ]
  },
  {
   "cell_type": "code",
   "execution_count": 7,
   "id": "eff49d4d-b030-45df-943f-d7360278f6ab",
   "metadata": {},
   "outputs": [],
   "source": [
    "''' ============================\n",
    "    Hyperparameters and More\n",
    "============================ '''\n",
    "\n",
    "MODEL = \"BED\"\n",
    "\n",
    "DEVICE = \"cuda\" if torch.cuda.is_available() else \"cpu\"\n",
    "BATCH_SIZE = 64 \n",
    "NUM_WORKERS = 8\n",
    "PIN_MEMORY = True\n",
    "LOAD_MODEL = True\n",
    "if MODEL == \"BED\":\n",
    "    LOAD_MODEL_FILE = \"BED_classifier__smoke__precision=0.9123__recall=0.9127__epoch=133.pt\"\n",
    "\n",
    "VAL_IMG_DIR = val_imgs\n",
    "VAL_LABEL_DIR = val_labels\n",
    "\n",
    "DS_LEN = None"
   ]
  },
  {
   "cell_type": "markdown",
   "id": "9374d99a-7746-4bd2-b6b5-548f2b6f95bd",
   "metadata": {},
   "source": [
    "# Dataset Setup"
   ]
  },
  {
   "cell_type": "code",
   "execution_count": 8,
   "id": "50319596-f4bd-499c-a063-7612aa2c641b",
   "metadata": {},
   "outputs": [
    {
     "name": "stdout",
     "output_type": "stream",
     "text": [
      "\n",
      "TEST DFire dataset\n",
      "DFire Removed wrong images: 0\n",
      "DFire empty images: 2005\n",
      "DFire only smoke images: 1186\n",
      "DFire only fire images: 220\n",
      "DFire smoke and fire images: 895\n",
      "Test dataset len: 4306\n"
     ]
    }
   ],
   "source": [
    "# VALIDATION DATASET\n",
    "val_transform = A.Compose([\n",
    "    A.Resize(IMG_H, IMG_W, p=1),\n",
    "    ToTensorV2(p=1),\n",
    "    ]\n",
    ")\n",
    "\n",
    "print(\"\\nTEST DFire dataset\")\n",
    "logger.info(\"\\nTEST DFire dataset\")\n",
    "val_dataset = DFireDataset(img_h = IMG_H,\n",
    "                           img_w = IMG_W,\n",
    "                           img_dir = VAL_IMG_DIR,\n",
    "                           label_dir = VAL_LABEL_DIR,\n",
    "                           num_classes = N_CLASSES,\n",
    "                           ds_len = DS_LEN,\n",
    "                           transform=val_transform)\n",
    "\n",
    "print(f'Test dataset len: {len(val_dataset)}')\n",
    "logger.info(f'Test dataset len: {len(val_dataset)}')\n",
    "\n",
    "\n",
    "# LOADERS\n",
    "val_loader = DataLoader(dataset=val_dataset,\n",
    "                        batch_size=BATCH_SIZE,\n",
    "                        num_workers=NUM_WORKERS,\n",
    "                        pin_memory=PIN_MEMORY,\n",
    "                        shuffle=False,\n",
    "                        drop_last=True)"
   ]
  },
  {
   "cell_type": "markdown",
   "id": "7eae5559-3305-45de-bd50-3f08b3cfbf12",
   "metadata": {},
   "source": [
    "# Model: BED Less Layers"
   ]
  },
  {
   "cell_type": "code",
   "execution_count": 9,
   "id": "898bc23b-d5c6-498c-a481-5e020468b752",
   "metadata": {},
   "outputs": [],
   "source": [
    "class BED_CLASSIFIER(nn.Module):\n",
    "    def __init__(self, num_classes, in_channels=3):\n",
    "        super(BED_CLASSIFIER, self).__init__()\n",
    "        self.in_channels = in_channels\n",
    "        self.last_channels = 64\n",
    "        self.num_classes = num_classes\n",
    "        \n",
    "        self.model = self.__create_BED__()\n",
    "        \n",
    "    def __create_BED__(self):\n",
    "        BED_model = nn.Sequential(\n",
    "\n",
    "            collections.OrderedDict(\n",
    "                [\n",
    "            # Conv2d [in_channels, out_channels, kernel_size, stride, padding, bias]\n",
    "\n",
    "                    # CNNBlock 224x224\n",
    "                    (\"conv1\", nn.Conv2d(self.in_channels, 32, kernel_size=3, stride=1, padding=1,  bias=False)),\n",
    "                    (\"bn1\", nn.BatchNorm2d(32)),\n",
    "                    (\"relu1\", nn.ReLU()),\n",
    "                    (\"dropout1\", nn.Dropout2d(p=0.3)),\n",
    "        \n",
    "                    # CNNBlock 112x112\n",
    "                    (\"maxpool2\", nn.MaxPool2d(kernel_size=2, stride=2)),\n",
    "                    (\"conv2\", nn.Conv2d(32, 16, kernel_size=3, stride=1, padding=1,  bias=False)),\n",
    "                    (\"bn2\", nn.BatchNorm2d(16)),\n",
    "                    (\"relu2\", nn.ReLU()),\n",
    "                    (\"dropout2\",nn.Dropout2d(p=0.3)),\n",
    "        \n",
    "                    # CNNBlock 56x56\n",
    "                    (\"maxpool3\", nn.MaxPool2d(kernel_size=2, stride=2)),\n",
    "                    (\"conv31\", nn.Conv2d(16, 16, kernel_size=1, stride=1, padding=0,  bias=False)),\n",
    "                    (\"bn31\", nn.BatchNorm2d(16)),\n",
    "                    (\"relu31\", nn.ReLU()),\n",
    "                    \n",
    "                    (\"conv32\", nn.Conv2d(16, 32, kernel_size=3, stride=1, padding=1,  bias=False)),\n",
    "                    (\"bn32\", nn.BatchNorm2d(32)),\n",
    "                    (\"relu32\", nn.ReLU()),\n",
    "                    \n",
    "                    (\"conv33\", nn.Conv2d(32, 32, kernel_size=1, stride=1, padding=0,  bias=False)),\n",
    "                    (\"bn33\", nn.BatchNorm2d(32)),\n",
    "                    (\"relu33\", nn.ReLU()),\n",
    "                    \n",
    "                    (\"conv34\", nn.Conv2d(32, 64, kernel_size=3, stride=1, padding=1,  bias=False)),\n",
    "                    (\"bn34\", nn.BatchNorm2d(64)),\n",
    "                    (\"relu34\", nn.ReLU()),\n",
    "        \n",
    "                    # CNNBlock 28x28\n",
    "                    (\"maxpool4\", nn.MaxPool2d(kernel_size=2, stride=2)),\n",
    "                    (\"conv41\", nn.Conv2d(64, 32, kernel_size=1, stride=1, padding=0,  bias=False)),\n",
    "                    (\"bn41\", nn.BatchNorm2d(32)),\n",
    "                    (\"relu41\", nn.ReLU()),\n",
    "                    \n",
    "                    (\"conv42\", nn.Conv2d(32, 64, kernel_size=3, stride=1, padding=1,  bias=False)),\n",
    "                    (\"bn42\", nn.BatchNorm2d(64)),\n",
    "                    (\"relu42\", nn.ReLU()),\n",
    "                    \n",
    "                    (\"conv43\", nn.Conv2d(64, 32, kernel_size=1, stride=1, padding=0,  bias=False)),\n",
    "                    (\"bn43\", nn.BatchNorm2d(32)),\n",
    "                    (\"relu43\", nn.ReLU()),\n",
    "                    \n",
    "                    (\"conv44\", nn.Conv2d(32, 64, kernel_size=3, stride=1, padding=1,  bias=False)),\n",
    "                    (\"bn44\", nn.BatchNorm2d(64)),\n",
    "                    (\"relu44\", nn.ReLU()),\n",
    "                    \n",
    "                    (\"conv45\", nn.Conv2d(64, 32, kernel_size=1, stride=1, padding=0,  bias=False)),\n",
    "                    (\"bn45\", nn.BatchNorm2d(32)),\n",
    "                    (\"relu45\", nn.ReLU()),\n",
    "                    \n",
    "                    (\"conv46\", nn.Conv2d(32, self.last_channels, kernel_size=3, stride=1, padding=1,  bias=False)),\n",
    "                    (\"bn46\", nn.BatchNorm2d(self.last_channels)),\n",
    "                    (\"relu46\", nn.ReLU()),\n",
    "        \n",
    "                    # Output One Head, 2 Neurons\n",
    "                    (\"avgpool5\", nn.AdaptiveAvgPool2d((1, 1))),\n",
    "                    (\"flatten5\", nn.Flatten(start_dim=1)),\n",
    "                    (\"dropout5\", nn.Dropout(p=0.2)),\n",
    "                    (\"linear51\", nn.Linear(in_features=self.last_channels, out_features=16)),\n",
    "                    (\"relu5\", nn.ReLU()),\n",
    "                    (\"linear52\", nn.Linear(in_features=16, out_features=2)),\n",
    "                ]\n",
    "            )\n",
    "        )\n",
    "        return BED_model\n",
    "    \n",
    "\n",
    "    def __initialize_weights__(self):\n",
    "        for m in self.modules():\n",
    "            if isinstance(m, nn.Conv2d):\n",
    "                nn.init.kaiming_normal_(m.weight, mode='fan_in',\n",
    "                    nonlinearity='relu'\n",
    "                )\n",
    "                if m.bias is not None:\n",
    "                        nn.init.constant_(m.bias, 0)\n",
    "            elif isinstance(m, nn.Linear):\n",
    "                nn.init.normal_(m.weight, 0, 0.01)\n",
    "                nn.init.constant_(m.bias, 0)\n",
    "\n",
    "\n",
    "    def forward(self, x):\n",
    "        x = self.model(x)\n",
    "        return x"
   ]
  },
  {
   "cell_type": "markdown",
   "id": "15183310-3690-45fe-a282-d67b55e9cc4c",
   "metadata": {},
   "source": [
    "# Model Setup"
   ]
  },
  {
   "cell_type": "code",
   "execution_count": 10,
   "id": "ac4fcfec-6bfb-42dd-b4b3-227a40ae8469",
   "metadata": {},
   "outputs": [
    {
     "name": "stdout",
     "output_type": "stream",
     "text": [
      "Using BED Classifier\n",
      "Model shape is tensor([[-0.2023, -0.0220],\n",
      "        [-0.2023, -0.0220],\n",
      "        [-0.2023, -0.0220],\n",
      "        [-0.2023, -0.0220]], grad_fn=<AddmmBackward0>)\n",
      "BED Model Arquitecture\n",
      "BED_CLASSIFIER(\n",
      "  (model): Sequential(\n",
      "    (conv1): Conv2d(3, 32, kernel_size=(3, 3), stride=(1, 1), padding=(1, 1), bias=False)\n",
      "    (bn1): BatchNorm2d(32, eps=1e-05, momentum=0.1, affine=True, track_running_stats=True)\n",
      "    (relu1): ReLU()\n",
      "    (dropout1): Dropout2d(p=0.3, inplace=False)\n",
      "    (maxpool2): MaxPool2d(kernel_size=2, stride=2, padding=0, dilation=1, ceil_mode=False)\n",
      "    (conv2): Conv2d(32, 16, kernel_size=(3, 3), stride=(1, 1), padding=(1, 1), bias=False)\n",
      "    (bn2): BatchNorm2d(16, eps=1e-05, momentum=0.1, affine=True, track_running_stats=True)\n",
      "    (relu2): ReLU()\n",
      "    (dropout2): Dropout2d(p=0.3, inplace=False)\n",
      "    (maxpool3): MaxPool2d(kernel_size=2, stride=2, padding=0, dilation=1, ceil_mode=False)\n",
      "    (conv31): Conv2d(16, 16, kernel_size=(1, 1), stride=(1, 1), bias=False)\n",
      "    (bn31): BatchNorm2d(16, eps=1e-05, momentum=0.1, affine=True, track_running_stats=True)\n",
      "    (relu31): ReLU()\n",
      "    (conv32): Conv2d(16, 32, kernel_size=(3, 3), stride=(1, 1), padding=(1, 1), bias=False)\n",
      "    (bn32): BatchNorm2d(32, eps=1e-05, momentum=0.1, affine=True, track_running_stats=True)\n",
      "    (relu32): ReLU()\n",
      "    (conv33): Conv2d(32, 32, kernel_size=(1, 1), stride=(1, 1), bias=False)\n",
      "    (bn33): BatchNorm2d(32, eps=1e-05, momentum=0.1, affine=True, track_running_stats=True)\n",
      "    (relu33): ReLU()\n",
      "    (conv34): Conv2d(32, 64, kernel_size=(3, 3), stride=(1, 1), padding=(1, 1), bias=False)\n",
      "    (bn34): BatchNorm2d(64, eps=1e-05, momentum=0.1, affine=True, track_running_stats=True)\n",
      "    (relu34): ReLU()\n",
      "    (maxpool4): MaxPool2d(kernel_size=2, stride=2, padding=0, dilation=1, ceil_mode=False)\n",
      "    (conv41): Conv2d(64, 32, kernel_size=(1, 1), stride=(1, 1), bias=False)\n",
      "    (bn41): BatchNorm2d(32, eps=1e-05, momentum=0.1, affine=True, track_running_stats=True)\n",
      "    (relu41): ReLU()\n",
      "    (conv42): Conv2d(32, 64, kernel_size=(3, 3), stride=(1, 1), padding=(1, 1), bias=False)\n",
      "    (bn42): BatchNorm2d(64, eps=1e-05, momentum=0.1, affine=True, track_running_stats=True)\n",
      "    (relu42): ReLU()\n",
      "    (conv43): Conv2d(64, 32, kernel_size=(1, 1), stride=(1, 1), bias=False)\n",
      "    (bn43): BatchNorm2d(32, eps=1e-05, momentum=0.1, affine=True, track_running_stats=True)\n",
      "    (relu43): ReLU()\n",
      "    (conv44): Conv2d(32, 64, kernel_size=(3, 3), stride=(1, 1), padding=(1, 1), bias=False)\n",
      "    (bn44): BatchNorm2d(64, eps=1e-05, momentum=0.1, affine=True, track_running_stats=True)\n",
      "    (relu44): ReLU()\n",
      "    (conv45): Conv2d(64, 32, kernel_size=(1, 1), stride=(1, 1), bias=False)\n",
      "    (bn45): BatchNorm2d(32, eps=1e-05, momentum=0.1, affine=True, track_running_stats=True)\n",
      "    (relu45): ReLU()\n",
      "    (conv46): Conv2d(32, 64, kernel_size=(3, 3), stride=(1, 1), padding=(1, 1), bias=False)\n",
      "    (bn46): BatchNorm2d(64, eps=1e-05, momentum=0.1, affine=True, track_running_stats=True)\n",
      "    (relu46): ReLU()\n",
      "    (avgpool5): AdaptiveAvgPool2d(output_size=(1, 1))\n",
      "    (flatten5): Flatten(start_dim=1, end_dim=-1)\n",
      "    (dropout5): Dropout(p=0.2, inplace=False)\n",
      "    (linear51): Linear(in_features=64, out_features=16, bias=True)\n",
      "    (relu5): ReLU()\n",
      "    (linear52): Linear(in_features=16, out_features=2, bias=True)\n",
      "  )\n",
      ")\n",
      "\n",
      "Trainable parameters = 93266\n",
      "Total parameters = 93266\n",
      "\n"
     ]
    }
   ],
   "source": [
    "''' ======================================\n",
    "    SETUP: Model, Loss, Dataset, Loader\n",
    "====================================== '''\n",
    "if MODEL == \"BED\":\n",
    "    print(\"Using BED Classifier\")\n",
    "    logger.info(\"Using BED Classifier\")\n",
    "    model = BED_CLASSIFIER(num_classes=N_CLASSES).to('cpu') \n",
    "    model.eval()\n",
    "    quant_model = BED_CLASSIFIER(num_classes=N_CLASSES).to('cpu')\n",
    "    quant_model.eval()\n",
    "else:\n",
    "    print(\"Wrong Model\")\n",
    "    logger.info(\"Wrong Model\")\n",
    "    raise SystemExit(\"Wrong Model\")\n",
    "\n",
    "# Check model shape\n",
    "in_rand_np = np.random.rand(4, 3, IMG_H, IMG_W)\n",
    "in_rand = torch.tensor(in_rand_np, dtype=torch.float32, device='cpu')\n",
    "out_test = model(in_rand)\n",
    "print(f'Model shape is {out_test}')\n",
    "print(f'BED Model Arquitecture\\n{model}')\n",
    "logger.info(f'Model shape is {out_test}')\n",
    "logger.info(f'BED Model Arquitecture\\n{model}')\n",
    "\n",
    "# MODEL PARAMETERS\n",
    "n_trainable = sum(p.numel() for p in model.parameters() if p.requires_grad)\n",
    "print(f'\\nTrainable parameters = {n_trainable}')\n",
    "logger.info(f'\\nTrainable parameters = {n_trainable}')\n",
    "\n",
    "n_params = parameters_to_vector(model.parameters()).numel()\n",
    "print(f'Total parameters = {n_params}\\n')\n",
    "logger.info(f'Total parameters = {n_params}\\n')"
   ]
  },
  {
   "cell_type": "markdown",
   "id": "f7da4a92-783f-418e-a069-7bf680104e21",
   "metadata": {},
   "source": [
    "# Load Weights"
   ]
  },
  {
   "cell_type": "code",
   "execution_count": 11,
   "id": "7741cd3a-8b0a-4f5c-9784-17bc890028d9",
   "metadata": {},
   "outputs": [
    {
     "name": "stdout",
     "output_type": "stream",
     "text": [
      "Loading Model and Quant Model\n"
     ]
    }
   ],
   "source": [
    "if LOAD_MODEL == False:\n",
    "    print(\"Weights must be loaded before Quantization\")\n",
    "    logger.info(\"Weights must be loaded before Quantization\")\n",
    "    raise SystemExit(\"Weights must be loaded before Quantization\")\n",
    "else:\n",
    "    checkpoint = torch.load(LOAD_MODEL_FILE, map_location=torch.device('cpu'))\n",
    "    model.load_state_dict(checkpoint['model_state_dict'])\n",
    "    checkpoint_quant = torch.load(LOAD_MODEL_FILE, map_location=torch.device('cpu'))\n",
    "    quant_model.load_state_dict(checkpoint_quant['model_state_dict'])\n",
    "    print(f\"Loading Model and Quant Model\")\n",
    "    logger.info(f\"Loading Model and Quant Model\")"
   ]
  },
  {
   "cell_type": "markdown",
   "id": "453ff6ca-4e1a-40a3-a173-1de75ba0ef11",
   "metadata": {},
   "source": [
    "# Quantization PTQ"
   ]
  },
  {
   "cell_type": "markdown",
   "id": "959d9916-b283-4892-a3fb-f8fa13acb691",
   "metadata": {},
   "source": [
    "### Metrics"
   ]
  },
  {
   "cell_type": "code",
   "execution_count": 12,
   "id": "f361f524-1037-49b5-9f5b-83c0991e504d",
   "metadata": {},
   "outputs": [],
   "source": [
    "f1_metric = torchmetrics.classification.MultilabelF1Score(num_labels = N_CLASSES, \n",
    "                                                          threshold = 0.5, \n",
    "                                                          average = 'macro').to('cpu')"
   ]
  },
  {
   "cell_type": "markdown",
   "id": "54c22553-316b-43b7-a4ba-9d53db17974c",
   "metadata": {},
   "source": [
    "### Evaluation function"
   ]
  },
  {
   "cell_type": "code",
   "execution_count": 13,
   "id": "431d7a45-83f2-420c-a4d4-ddb5e4587d1f",
   "metadata": {},
   "outputs": [],
   "source": [
    "def eval_func(model):\n",
    "    model.eval()\n",
    "    with torch.no_grad():\n",
    "        for image, label in val_loader:\n",
    "            #image, label = image.to(DEVICE), label.to(DEVICE)\n",
    "            output = model(image)\n",
    "            f1_metric.update(output, label)\n",
    "        f1_res = f1_metric.compute()\n",
    "        f1_metric.reset()\n",
    "    return f1_res.item()"
   ]
  },
  {
   "cell_type": "code",
   "execution_count": 14,
   "id": "f97d5526-6945-4728-a60f-e8d0ed7bca3a",
   "metadata": {},
   "outputs": [
    {
     "name": "stdout",
     "output_type": "stream",
     "text": [
      "0.9198547601699829\n"
     ]
    }
   ],
   "source": [
    "test_f1 = eval_func(quant_model)\n",
    "print(test_f1)"
   ]
  },
  {
   "cell_type": "markdown",
   "id": "64dcfbd4-a677-4141-a90b-62353d808f79",
   "metadata": {},
   "source": [
    "### Quantization Code"
   ]
  },
  {
   "cell_type": "code",
   "execution_count": 15,
   "id": "92ce8b4c-15be-4dc7-8dfa-ede6c3150a88",
   "metadata": {
    "tags": []
   },
   "outputs": [
    {
     "name": "stderr",
     "output_type": "stream",
     "text": [
      "2024-06-25 22:06:18 [INFO] Start auto tuning.\n",
      "2024-06-25 22:06:18 [INFO] Execute the tuning process due to detect the evaluation function.\n",
      "2024-06-25 22:06:18 [INFO] Adaptor has 5 recipes.\n",
      "2024-06-25 22:06:18 [INFO] 0 recipes specified by user.\n",
      "2024-06-25 22:06:18 [INFO] 3 recipes require future tuning.\n",
      "2024-06-25 22:06:18 [INFO] *** Initialize auto tuning\n",
      "2024-06-25 22:06:18 [INFO] {\n",
      "2024-06-25 22:06:18 [INFO]     'PostTrainingQuantConfig': {\n",
      "2024-06-25 22:06:18 [INFO]         'AccuracyCriterion': {\n",
      "2024-06-25 22:06:18 [INFO]             'criterion': 'relative',\n",
      "2024-06-25 22:06:18 [INFO]             'higher_is_better': True,\n",
      "2024-06-25 22:06:18 [INFO]             'tolerable_loss': 0.01,\n",
      "2024-06-25 22:06:18 [INFO]             'absolute': None,\n",
      "2024-06-25 22:06:18 [INFO]             'keys': <bound method AccuracyCriterion.keys of <neural_compressor.config.AccuracyCriterion object at 0x7f12f4cb1db0>>,\n",
      "2024-06-25 22:06:18 [INFO]             'relative': 0.01\n",
      "2024-06-25 22:06:18 [INFO]         },\n",
      "2024-06-25 22:06:18 [INFO]         'approach': 'post_training_static_quant',\n",
      "2024-06-25 22:06:18 [INFO]         'backend': 'default',\n",
      "2024-06-25 22:06:18 [INFO]         'calibration_sampling_size': [\n",
      "2024-06-25 22:06:18 [INFO]             4288\n",
      "2024-06-25 22:06:18 [INFO]         ],\n",
      "2024-06-25 22:06:18 [INFO]         'device': 'cpu',\n",
      "2024-06-25 22:06:18 [INFO]         'diagnosis': False,\n",
      "2024-06-25 22:06:18 [INFO]         'domain': 'auto',\n",
      "2024-06-25 22:06:18 [INFO]         'example_inputs': 'Not printed here due to large size tensors...',\n",
      "2024-06-25 22:06:18 [INFO]         'excluded_precisions': [\n",
      "2024-06-25 22:06:18 [INFO]         ],\n",
      "2024-06-25 22:06:18 [INFO]         'framework': 'pytorch_fx',\n",
      "2024-06-25 22:06:18 [INFO]         'inputs': [\n",
      "2024-06-25 22:06:18 [INFO]         ],\n",
      "2024-06-25 22:06:18 [INFO]         'model_name': '',\n",
      "2024-06-25 22:06:18 [INFO]         'ni_workload_name': 'quantization',\n",
      "2024-06-25 22:06:18 [INFO]         'op_name_dict': None,\n",
      "2024-06-25 22:06:18 [INFO]         'op_type_dict': None,\n",
      "2024-06-25 22:06:18 [INFO]         'outputs': [\n",
      "2024-06-25 22:06:18 [INFO]         ],\n",
      "2024-06-25 22:06:18 [INFO]         'quant_format': 'default',\n",
      "2024-06-25 22:06:18 [INFO]         'quant_level': 'auto',\n",
      "2024-06-25 22:06:18 [INFO]         'recipes': {\n",
      "2024-06-25 22:06:18 [INFO]             'smooth_quant': False,\n",
      "2024-06-25 22:06:18 [INFO]             'smooth_quant_args': {\n",
      "2024-06-25 22:06:18 [INFO]             },\n",
      "2024-06-25 22:06:18 [INFO]             'layer_wise_quant': False,\n",
      "2024-06-25 22:06:18 [INFO]             'layer_wise_quant_args': {\n",
      "2024-06-25 22:06:18 [INFO]             },\n",
      "2024-06-25 22:06:18 [INFO]             'fast_bias_correction': False,\n",
      "2024-06-25 22:06:18 [INFO]             'weight_correction': False,\n",
      "2024-06-25 22:06:18 [INFO]             'gemm_to_matmul': True,\n",
      "2024-06-25 22:06:18 [INFO]             'graph_optimization_level': None,\n",
      "2024-06-25 22:06:18 [INFO]             'first_conv_or_matmul_quantization': True,\n",
      "2024-06-25 22:06:18 [INFO]             'last_conv_or_matmul_quantization': True,\n",
      "2024-06-25 22:06:18 [INFO]             'pre_post_process_quantization': True,\n",
      "2024-06-25 22:06:18 [INFO]             'add_qdq_pair_to_weight': False,\n",
      "2024-06-25 22:06:18 [INFO]             'optypes_to_exclude_output_quant': [\n",
      "2024-06-25 22:06:18 [INFO]             ],\n",
      "2024-06-25 22:06:18 [INFO]             'dedicated_qdq_pair': False,\n",
      "2024-06-25 22:06:18 [INFO]             'rtn_args': {\n",
      "2024-06-25 22:06:18 [INFO]             },\n",
      "2024-06-25 22:06:18 [INFO]             'awq_args': {\n",
      "2024-06-25 22:06:18 [INFO]             },\n",
      "2024-06-25 22:06:18 [INFO]             'gptq_args': {\n",
      "2024-06-25 22:06:18 [INFO]             },\n",
      "2024-06-25 22:06:18 [INFO]             'teq_args': {\n",
      "2024-06-25 22:06:18 [INFO]             },\n",
      "2024-06-25 22:06:18 [INFO]             'autoround_args': {\n",
      "2024-06-25 22:06:18 [INFO]             }\n",
      "2024-06-25 22:06:18 [INFO]         },\n",
      "2024-06-25 22:06:18 [INFO]         'reduce_range': None,\n",
      "2024-06-25 22:06:18 [INFO]         'TuningCriterion': {\n",
      "2024-06-25 22:06:18 [INFO]             'max_trials': 600,\n",
      "2024-06-25 22:06:18 [INFO]             'objective': [\n",
      "2024-06-25 22:06:18 [INFO]                 'performance'\n",
      "2024-06-25 22:06:18 [INFO]             ],\n",
      "2024-06-25 22:06:18 [INFO]             'strategy': 'basic',\n",
      "2024-06-25 22:06:18 [INFO]             'strategy_kwargs': None,\n",
      "2024-06-25 22:06:18 [INFO]             'timeout': 0\n",
      "2024-06-25 22:06:18 [INFO]         },\n",
      "2024-06-25 22:06:18 [INFO]         'use_bf16': True\n",
      "2024-06-25 22:06:18 [INFO]     }\n",
      "2024-06-25 22:06:18 [INFO] }\n",
      "2024-06-25 22:06:18 [WARNING] [Strategy] Please install `mpi4py` correctly if using distributed tuning; otherwise, ignore this warning.\n",
      "/opt/conda/envs/pytorch_light/lib/python3.10/site-packages/torch/ao/quantization/fx/fuse.py:56: UserWarning: Passing a fuse_custom_config_dict to fuse is deprecated and will not be supported in a future version. Please pass in a FuseCustomConfig instead.\n",
      "  warnings.warn(\n",
      "2024-06-25 22:06:18 [INFO] Attention Blocks: 0\n",
      "2024-06-25 22:06:18 [INFO] FFN Blocks: 0\n",
      "2024-06-25 22:06:18 [INFO] Pass query framework capability elapsed time: 27.39 ms\n",
      "2024-06-25 22:06:18 [INFO] Get FP32 model baseline.\n",
      "2024-06-25 22:06:54 [INFO] Save tuning history to /home/gmoreno/uav/code/quantization/neural_com_intel/nc_workspace/2024-06-25_22-05-31/./history.snapshot.\n",
      "2024-06-25 22:06:54 [INFO] FP32 baseline is: [Accuracy: 0.9199, Duration (seconds): 36.0966]\n",
      "2024-06-25 22:06:54 [INFO] Quantize the model with default config.\n",
      "/opt/conda/envs/pytorch_light/lib/python3.10/site-packages/torch/ao/quantization/observer.py:220: UserWarning: Please use quant_min and quant_max to specify the range for observers.                     reduce_range will be deprecated in a future release of PyTorch.\n",
      "  warnings.warn(\n",
      "2024-06-25 22:07:36 [INFO] |*********Mixed Precision Statistics********|\n",
      "2024-06-25 22:07:36 [INFO] +---------------------+-------+------+------+\n",
      "2024-06-25 22:07:36 [INFO] |       Op Type       | Total | INT8 | FP32 |\n",
      "2024-06-25 22:07:36 [INFO] +---------------------+-------+------+------+\n",
      "2024-06-25 22:07:36 [INFO] | quantize_per_tensor |   4   |  4   |  0   |\n",
      "2024-06-25 22:07:36 [INFO] |      ConvReLU2d     |   12  |  12  |  0   |\n",
      "2024-06-25 22:07:36 [INFO] |      dequantize     |   4   |  4   |  0   |\n",
      "2024-06-25 22:07:36 [INFO] |      MaxPool2d      |   3   |  3   |  0   |\n",
      "2024-06-25 22:07:36 [INFO] |  AdaptiveAvgPool2d  |   1   |  1   |  0   |\n",
      "2024-06-25 22:07:36 [INFO] |       Dropout       |   1   |  0   |  1   |\n",
      "2024-06-25 22:07:36 [INFO] |      LinearReLU     |   1   |  1   |  0   |\n",
      "2024-06-25 22:07:36 [INFO] |        Linear       |   1   |  1   |  0   |\n",
      "2024-06-25 22:07:36 [INFO] +---------------------+-------+------+------+\n",
      "2024-06-25 22:07:36 [INFO] Pass quantize model elapsed time: 41549.45 ms\n",
      "2024-06-25 22:07:48 [INFO] Tune 1 result is: [Accuracy (int8|fp32): 0.9209|0.9199, Duration (seconds) (int8|fp32): 12.4722|36.0966], Best tune result is: [Accuracy: 0.9209, Duration (seconds): 12.4722]\n",
      "2024-06-25 22:07:48 [INFO] |**********************Tune Result Statistics**********************|\n",
      "2024-06-25 22:07:48 [INFO] +--------------------+----------+---------------+------------------+\n",
      "2024-06-25 22:07:48 [INFO] |     Info Type      | Baseline | Tune 1 result | Best tune result |\n",
      "2024-06-25 22:07:48 [INFO] +--------------------+----------+---------------+------------------+\n",
      "2024-06-25 22:07:48 [INFO] |      Accuracy      | 0.9199   |    0.9209     |     0.9209       |\n",
      "2024-06-25 22:07:48 [INFO] | Duration (seconds) | 36.0966  |    12.4722    |     12.4722      |\n",
      "2024-06-25 22:07:48 [INFO] +--------------------+----------+---------------+------------------+\n",
      "2024-06-25 22:07:48 [INFO] [Strategy] Found a model that meets the accuracy requirements.\n",
      "2024-06-25 22:07:48 [INFO] Save tuning history to /home/gmoreno/uav/code/quantization/neural_com_intel/nc_workspace/2024-06-25_22-05-31/./history.snapshot.\n",
      "2024-06-25 22:07:48 [INFO] [Strategy] Found the model meets accuracy requirements, ending the tuning process.\n",
      "2024-06-25 22:07:48 [INFO] Specified timeout or max trials is reached! Found a quantized model which meet accuracy goal. Exit.\n",
      "2024-06-25 22:07:48 [INFO] Save deploy yaml to /home/gmoreno/uav/code/quantization/neural_com_intel/nc_workspace/2024-06-25_22-05-31/deploy.yaml\n"
     ]
    }
   ],
   "source": [
    "#conf = PostTrainingQuantConfig()\n",
    "\n",
    "accuracy_criterion = AccuracyCriterion(tolerable_loss=0.01)\n",
    "tuning_criterion = TuningCriterion(max_trials=600)\n",
    "conf = PostTrainingQuantConfig(\n",
    "    device='cpu',\n",
    "    approach=\"static\", \n",
    "    backend=\"default\", \n",
    "    tuning_criterion=tuning_criterion, \n",
    "    accuracy_criterion=accuracy_criterion,\n",
    "    #calibration_sampling_size=512\n",
    "    calibration_sampling_size=4288\n",
    ")\n",
    "\n",
    "q_model = fit(\n",
    "    quant_model,\n",
    "    conf,\n",
    "    calib_dataloader=val_loader,\n",
    "    eval_func=eval_func)"
   ]
  },
  {
   "cell_type": "code",
   "execution_count": 16,
   "id": "7eeca1b1-e279-49ef-a1d0-6968d7b47d0d",
   "metadata": {
    "tags": []
   },
   "outputs": [
    {
     "name": "stderr",
     "output_type": "stream",
     "text": [
      "2024-06-25 22:07:48 [INFO] Save config file and weights of quantized model to /home/gmoreno/uav/code/quantization/neural_com_intel/save6_bnAffine.\n"
     ]
    }
   ],
   "source": [
    "q_model.save(\"./save6_bnAffine\")"
   ]
  },
  {
   "cell_type": "code",
   "execution_count": 17,
   "id": "3a26a38f-e015-4e2e-8621-bd1c45731691",
   "metadata": {
    "tags": []
   },
   "outputs": [
    {
     "name": "stdout",
     "output_type": "stream",
     "text": [
      "PyTorchFXModel(\n",
      "  (_model): GraphModule(\n",
      "    (model): Module(\n",
      "      (conv1): QuantizedConvReLU2d(3, 32, kernel_size=(3, 3), stride=(1, 1), scale=0.04142693430185318, zero_point=0, padding=(1, 1))\n",
      "      (dropout1): Dropout2d(p=0.3, inplace=False)\n",
      "      (maxpool2): MaxPool2d(kernel_size=2, stride=2, padding=0, dilation=1, ceil_mode=False)\n",
      "      (conv2): QuantizedConvReLU2d(32, 16, kernel_size=(3, 3), stride=(1, 1), scale=0.06209937110543251, zero_point=0, padding=(1, 1))\n",
      "      (dropout2): Dropout2d(p=0.3, inplace=False)\n",
      "      (maxpool3): MaxPool2d(kernel_size=2, stride=2, padding=0, dilation=1, ceil_mode=False)\n",
      "      (conv31): QuantizedConvReLU2d(16, 16, kernel_size=(1, 1), stride=(1, 1), scale=0.06463534384965897, zero_point=0)\n",
      "      (conv32): QuantizedConvReLU2d(16, 32, kernel_size=(3, 3), stride=(1, 1), scale=0.04203484207391739, zero_point=0, padding=(1, 1))\n",
      "      (conv33): QuantizedConvReLU2d(32, 32, kernel_size=(1, 1), stride=(1, 1), scale=0.11149820685386658, zero_point=0)\n",
      "      (conv34): QuantizedConvReLU2d(32, 64, kernel_size=(3, 3), stride=(1, 1), scale=0.05215856805443764, zero_point=0, padding=(1, 1))\n",
      "      (maxpool4): MaxPool2d(kernel_size=2, stride=2, padding=0, dilation=1, ceil_mode=False)\n",
      "      (conv41): QuantizedConvReLU2d(64, 32, kernel_size=(1, 1), stride=(1, 1), scale=0.06581731885671616, zero_point=0)\n",
      "      (conv42): QuantizedConvReLU2d(32, 64, kernel_size=(3, 3), stride=(1, 1), scale=0.04386665299534798, zero_point=0, padding=(1, 1))\n",
      "      (conv43): QuantizedConvReLU2d(64, 32, kernel_size=(1, 1), stride=(1, 1), scale=0.08582739531993866, zero_point=0)\n",
      "      (conv44): QuantizedConvReLU2d(32, 64, kernel_size=(3, 3), stride=(1, 1), scale=0.055513426661491394, zero_point=0, padding=(1, 1))\n",
      "      (conv45): QuantizedConvReLU2d(64, 32, kernel_size=(1, 1), stride=(1, 1), scale=0.039699453860521317, zero_point=0)\n",
      "      (conv46): QuantizedConvReLU2d(32, 64, kernel_size=(3, 3), stride=(1, 1), scale=0.11571133881807327, zero_point=0, padding=(1, 1))\n",
      "      (avgpool5): AdaptiveAvgPool2d(output_size=(1, 1))\n",
      "      (flatten5): Flatten(start_dim=1, end_dim=-1)\n",
      "      (dropout5): Dropout(p=0.2, inplace=False)\n",
      "      (linear51): QuantizedLinearReLU(in_features=64, out_features=16, scale=0.055345192551612854, zero_point=0, qscheme=torch.per_channel_affine)\n",
      "      (linear52): QuantizedLinear(in_features=16, out_features=2, scale=0.24537228047847748, zero_point=68, qscheme=torch.per_channel_affine)\n",
      "    )\n",
      "  )\n",
      ")\n"
     ]
    }
   ],
   "source": [
    "print(q_model)"
   ]
  },
  {
   "cell_type": "code",
   "execution_count": 18,
   "id": "558719b5-86ff-401f-ae43-bf6f8f6a332b",
   "metadata": {
    "tags": []
   },
   "outputs": [
    {
     "data": {
      "text/plain": [
       "<matplotlib.image.AxesImage at 0x7f12e1f13c70>"
      ]
     },
     "execution_count": 18,
     "metadata": {},
     "output_type": "execute_result"
    },
    {
     "data": {
      "image/png": "[encoded data removed]",
      "text/plain": [
       "<Figure size 640x480 with 1 Axes>"
      ]
     },
     "metadata": {},
     "output_type": "display_data"
    }
   ],
   "source": [
    "for pic, tag in val_loader:\n",
    "    global img\n",
    "    img = pic[40]\n",
    "    break\n",
    "plt.imshow(img.permute(1, 2, 0))"
   ]
  },
  {
   "cell_type": "code",
   "execution_count": 19,
   "id": "d823b03f-4ae1-472b-8f06-a708e38e87a1",
   "metadata": {
    "tags": []
   },
   "outputs": [],
   "source": [
    "out = q_model(img.unsqueeze(dim=0))"
   ]
  },
  {
   "cell_type": "code",
   "execution_count": 20,
   "id": "38ddba32-fb76-41d0-959d-46ae887834f8",
   "metadata": {
    "tags": []
   },
   "outputs": [
    {
     "data": {
      "text/plain": [
       "tensor([[-4.1713, -6.6251]])"
      ]
     },
     "execution_count": 20,
     "metadata": {},
     "output_type": "execute_result"
    }
   ],
   "source": [
    "out"
   ]
  },
  {
   "cell_type": "code",
   "execution_count": 21,
   "id": "c51600c0-5638-468a-b08a-cc051280e19b",
   "metadata": {
    "tags": []
   },
   "outputs": [
    {
     "name": "stdout",
     "output_type": "stream",
     "text": [
      "PyTorchFXModel(\n",
      "  (_model): GraphModule(\n",
      "    (model): Module(\n",
      "      (conv1): QuantizedConvReLU2d(3, 32, kernel_size=(3, 3), stride=(1, 1), scale=0.04142693430185318, zero_point=0, padding=(1, 1))\n",
      "      (dropout1): Dropout2d(p=0.3, inplace=False)\n",
      "      (maxpool2): MaxPool2d(kernel_size=2, stride=2, padding=0, dilation=1, ceil_mode=False)\n",
      "      (conv2): QuantizedConvReLU2d(32, 16, kernel_size=(3, 3), stride=(1, 1), scale=0.06209937110543251, zero_point=0, padding=(1, 1))\n",
      "      (dropout2): Dropout2d(p=0.3, inplace=False)\n",
      "      (maxpool3): MaxPool2d(kernel_size=2, stride=2, padding=0, dilation=1, ceil_mode=False)\n",
      "      (conv31): QuantizedConvReLU2d(16, 16, kernel_size=(1, 1), stride=(1, 1), scale=0.06463534384965897, zero_point=0)\n",
      "      (conv32): QuantizedConvReLU2d(16, 32, kernel_size=(3, 3), stride=(1, 1), scale=0.04203484207391739, zero_point=0, padding=(1, 1))\n",
      "      (conv33): QuantizedConvReLU2d(32, 32, kernel_size=(1, 1), stride=(1, 1), scale=0.11149820685386658, zero_point=0)\n",
      "      (conv34): QuantizedConvReLU2d(32, 64, kernel_size=(3, 3), stride=(1, 1), scale=0.05215856805443764, zero_point=0, padding=(1, 1))\n",
      "      (maxpool4): MaxPool2d(kernel_size=2, stride=2, padding=0, dilation=1, ceil_mode=False)\n",
      "      (conv41): QuantizedConvReLU2d(64, 32, kernel_size=(1, 1), stride=(1, 1), scale=0.06581731885671616, zero_point=0)\n",
      "      (conv42): QuantizedConvReLU2d(32, 64, kernel_size=(3, 3), stride=(1, 1), scale=0.04386665299534798, zero_point=0, padding=(1, 1))\n",
      "      (conv43): QuantizedConvReLU2d(64, 32, kernel_size=(1, 1), stride=(1, 1), scale=0.08582739531993866, zero_point=0)\n",
      "      (conv44): QuantizedConvReLU2d(32, 64, kernel_size=(3, 3), stride=(1, 1), scale=0.055513426661491394, zero_point=0, padding=(1, 1))\n",
      "      (conv45): QuantizedConvReLU2d(64, 32, kernel_size=(1, 1), stride=(1, 1), scale=0.039699453860521317, zero_point=0)\n",
      "      (conv46): QuantizedConvReLU2d(32, 64, kernel_size=(3, 3), stride=(1, 1), scale=0.11571133881807327, zero_point=0, padding=(1, 1))\n",
      "      (avgpool5): AdaptiveAvgPool2d(output_size=(1, 1))\n",
      "      (flatten5): Flatten(start_dim=1, end_dim=-1)\n",
      "      (dropout5): Dropout(p=0.2, inplace=False)\n",
      "      (linear51): QuantizedLinearReLU(in_features=64, out_features=16, scale=0.055345192551612854, zero_point=0, qscheme=torch.per_channel_affine)\n",
      "      (linear52): QuantizedLinear(in_features=16, out_features=2, scale=0.24537228047847748, zero_point=68, qscheme=torch.per_channel_affine)\n",
      "    )\n",
      "  )\n",
      ")\n",
      "GraphModule(\n",
      "  (model): Module(\n",
      "    (conv1): QuantizedConvReLU2d(3, 32, kernel_size=(3, 3), stride=(1, 1), scale=0.04142693430185318, zero_point=0, padding=(1, 1))\n",
      "    (dropout1): Dropout2d(p=0.3, inplace=False)\n",
      "    (maxpool2): MaxPool2d(kernel_size=2, stride=2, padding=0, dilation=1, ceil_mode=False)\n",
      "    (conv2): QuantizedConvReLU2d(32, 16, kernel_size=(3, 3), stride=(1, 1), scale=0.06209937110543251, zero_point=0, padding=(1, 1))\n",
      "    (dropout2): Dropout2d(p=0.3, inplace=False)\n",
      "    (maxpool3): MaxPool2d(kernel_size=2, stride=2, padding=0, dilation=1, ceil_mode=False)\n",
      "    (conv31): QuantizedConvReLU2d(16, 16, kernel_size=(1, 1), stride=(1, 1), scale=0.06463534384965897, zero_point=0)\n",
      "    (conv32): QuantizedConvReLU2d(16, 32, kernel_size=(3, 3), stride=(1, 1), scale=0.04203484207391739, zero_point=0, padding=(1, 1))\n",
      "    (conv33): QuantizedConvReLU2d(32, 32, kernel_size=(1, 1), stride=(1, 1), scale=0.11149820685386658, zero_point=0)\n",
      "    (conv34): QuantizedConvReLU2d(32, 64, kernel_size=(3, 3), stride=(1, 1), scale=0.05215856805443764, zero_point=0, padding=(1, 1))\n",
      "    (maxpool4): MaxPool2d(kernel_size=2, stride=2, padding=0, dilation=1, ceil_mode=False)\n",
      "    (conv41): QuantizedConvReLU2d(64, 32, kernel_size=(1, 1), stride=(1, 1), scale=0.06581731885671616, zero_point=0)\n",
      "    (conv42): QuantizedConvReLU2d(32, 64, kernel_size=(3, 3), stride=(1, 1), scale=0.04386665299534798, zero_point=0, padding=(1, 1))\n",
      "    (conv43): QuantizedConvReLU2d(64, 32, kernel_size=(1, 1), stride=(1, 1), scale=0.08582739531993866, zero_point=0)\n",
      "    (conv44): QuantizedConvReLU2d(32, 64, kernel_size=(3, 3), stride=(1, 1), scale=0.055513426661491394, zero_point=0, padding=(1, 1))\n",
      "    (conv45): QuantizedConvReLU2d(64, 32, kernel_size=(1, 1), stride=(1, 1), scale=0.039699453860521317, zero_point=0)\n",
      "    (conv46): QuantizedConvReLU2d(32, 64, kernel_size=(3, 3), stride=(1, 1), scale=0.11571133881807327, zero_point=0, padding=(1, 1))\n",
      "    (avgpool5): AdaptiveAvgPool2d(output_size=(1, 1))\n",
      "    (flatten5): Flatten(start_dim=1, end_dim=-1)\n",
      "    (dropout5): Dropout(p=0.2, inplace=False)\n",
      "    (linear51): QuantizedLinearReLU(in_features=64, out_features=16, scale=0.055345192551612854, zero_point=0, qscheme=torch.per_channel_affine)\n",
      "    (linear52): QuantizedLinear(in_features=16, out_features=2, scale=0.24537228047847748, zero_point=68, qscheme=torch.per_channel_affine)\n",
      "  )\n",
      ")\n",
      "\n",
      "\n",
      "\n",
      "def forward(self, x):\n",
      "    model_conv1_input_scale_0 = self.model_conv1_input_scale_0\n",
      "    model_conv1_input_zero_point_0 = self.model_conv1_input_zero_point_0\n",
      "    quantize_per_tensor = torch.quantize_per_tensor(x, model_conv1_input_scale_0, model_conv1_input_zero_point_0, torch.quint8);  x = model_conv1_input_scale_0 = model_conv1_input_zero_point_0 = None\n",
      "    model_conv1 = self.model.conv1(quantize_per_tensor);  quantize_per_tensor = None\n",
      "    dequantize_1 = model_conv1.dequantize();  model_conv1 = None\n",
      "    model_dropout1 = self.model.dropout1(dequantize_1);  dequantize_1 = None\n",
      "    model_dropout1_scale_0 = self.model_dropout1_scale_0\n",
      "    model_dropout1_zero_point_0 = self.model_dropout1_zero_point_0\n",
      "    quantize_per_tensor_2 = torch.quantize_per_tensor(model_dropout1, model_dropout1_scale_0, model_dropout1_zero_point_0, torch.quint8);  model_dropout1 = model_dropout1_scale_0 = model_dropout1_zero_point_0 = None\n",
      "    model_maxpool2 = self.model.maxpool2(quantize_per_tensor_2);  quantize_per_tensor_2 = None\n",
      "    model_conv2 = self.model.conv2(model_maxpool2);  model_maxpool2 = None\n",
      "    dequantize_4 = model_conv2.dequantize();  model_conv2 = None\n",
      "    model_dropout2 = self.model.dropout2(dequantize_4);  dequantize_4 = None\n",
      "    model_dropout2_scale_0 = self.model_dropout2_scale_0\n",
      "    model_dropout2_zero_point_0 = self.model_dropout2_zero_point_0\n",
      "    quantize_per_tensor_5 = torch.quantize_per_tensor(model_dropout2, model_dropout2_scale_0, model_dropout2_zero_point_0, torch.quint8);  model_dropout2 = model_dropout2_scale_0 = model_dropout2_zero_point_0 = None\n",
      "    model_maxpool3 = self.model.maxpool3(quantize_per_tensor_5);  quantize_per_tensor_5 = None\n",
      "    model_conv31 = self.model.conv31(model_maxpool3);  model_maxpool3 = None\n",
      "    model_conv32 = self.model.conv32(model_conv31);  model_conv31 = None\n",
      "    model_conv33 = self.model.conv33(model_conv32);  model_conv32 = None\n",
      "    model_conv34 = self.model.conv34(model_conv33);  model_conv33 = None\n",
      "    model_maxpool4 = self.model.maxpool4(model_conv34);  model_conv34 = None\n",
      "    model_conv41 = self.model.conv41(model_maxpool4);  model_maxpool4 = None\n",
      "    model_conv42 = self.model.conv42(model_conv41);  model_conv41 = None\n",
      "    model_conv43 = self.model.conv43(model_conv42);  model_conv42 = None\n",
      "    model_conv44 = self.model.conv44(model_conv43);  model_conv43 = None\n",
      "    model_conv45 = self.model.conv45(model_conv44);  model_conv44 = None\n",
      "    model_conv46 = self.model.conv46(model_conv45);  model_conv45 = None\n",
      "    model_avgpool5 = self.model.avgpool5(model_conv46);  model_conv46 = None\n",
      "    dequantize_18 = model_avgpool5.dequantize();  model_avgpool5 = None\n",
      "    model_flatten5 = self.model.flatten5(dequantize_18);  dequantize_18 = None\n",
      "    model_dropout5 = self.model.dropout5(model_flatten5);  model_flatten5 = None\n",
      "    model_linear51_input_scale_0 = self.model_linear51_input_scale_0\n",
      "    model_linear51_input_zero_point_0 = self.model_linear51_input_zero_point_0\n",
      "    quantize_per_tensor_19 = torch.quantize_per_tensor(model_dropout5, model_linear51_input_scale_0, model_linear51_input_zero_point_0, torch.quint8);  model_dropout5 = model_linear51_input_scale_0 = model_linear51_input_zero_point_0 = None\n",
      "    model_linear51 = self.model.linear51(quantize_per_tensor_19);  quantize_per_tensor_19 = None\n",
      "    model_linear52 = self.model.linear52(model_linear51);  model_linear51 = None\n",
      "    dequantize_21 = model_linear52.dequantize();  model_linear52 = None\n",
      "    return dequantize_21\n",
      "    \n",
      "# To see more debug info, please use `graph_module.print_readable()`\n",
      "Module(\n",
      "  (conv1): QuantizedConvReLU2d(3, 32, kernel_size=(3, 3), stride=(1, 1), scale=0.04142693430185318, zero_point=0, padding=(1, 1))\n",
      "  (dropout1): Dropout2d(p=0.3, inplace=False)\n",
      "  (maxpool2): MaxPool2d(kernel_size=2, stride=2, padding=0, dilation=1, ceil_mode=False)\n",
      "  (conv2): QuantizedConvReLU2d(32, 16, kernel_size=(3, 3), stride=(1, 1), scale=0.06209937110543251, zero_point=0, padding=(1, 1))\n",
      "  (dropout2): Dropout2d(p=0.3, inplace=False)\n",
      "  (maxpool3): MaxPool2d(kernel_size=2, stride=2, padding=0, dilation=1, ceil_mode=False)\n",
      "  (conv31): QuantizedConvReLU2d(16, 16, kernel_size=(1, 1), stride=(1, 1), scale=0.06463534384965897, zero_point=0)\n",
      "  (conv32): QuantizedConvReLU2d(16, 32, kernel_size=(3, 3), stride=(1, 1), scale=0.04203484207391739, zero_point=0, padding=(1, 1))\n",
      "  (conv33): QuantizedConvReLU2d(32, 32, kernel_size=(1, 1), stride=(1, 1), scale=0.11149820685386658, zero_point=0)\n",
      "  (conv34): QuantizedConvReLU2d(32, 64, kernel_size=(3, 3), stride=(1, 1), scale=0.05215856805443764, zero_point=0, padding=(1, 1))\n",
      "  (maxpool4): MaxPool2d(kernel_size=2, stride=2, padding=0, dilation=1, ceil_mode=False)\n",
      "  (conv41): QuantizedConvReLU2d(64, 32, kernel_size=(1, 1), stride=(1, 1), scale=0.06581731885671616, zero_point=0)\n",
      "  (conv42): QuantizedConvReLU2d(32, 64, kernel_size=(3, 3), stride=(1, 1), scale=0.04386665299534798, zero_point=0, padding=(1, 1))\n",
      "  (conv43): QuantizedConvReLU2d(64, 32, kernel_size=(1, 1), stride=(1, 1), scale=0.08582739531993866, zero_point=0)\n",
      "  (conv44): QuantizedConvReLU2d(32, 64, kernel_size=(3, 3), stride=(1, 1), scale=0.055513426661491394, zero_point=0, padding=(1, 1))\n",
      "  (conv45): QuantizedConvReLU2d(64, 32, kernel_size=(1, 1), stride=(1, 1), scale=0.039699453860521317, zero_point=0)\n",
      "  (conv46): QuantizedConvReLU2d(32, 64, kernel_size=(3, 3), stride=(1, 1), scale=0.11571133881807327, zero_point=0, padding=(1, 1))\n",
      "  (avgpool5): AdaptiveAvgPool2d(output_size=(1, 1))\n",
      "  (flatten5): Flatten(start_dim=1, end_dim=-1)\n",
      "  (dropout5): Dropout(p=0.2, inplace=False)\n",
      "  (linear51): QuantizedLinearReLU(in_features=64, out_features=16, scale=0.055345192551612854, zero_point=0, qscheme=torch.per_channel_affine)\n",
      "  (linear52): QuantizedLinear(in_features=16, out_features=2, scale=0.24537228047847748, zero_point=68, qscheme=torch.per_channel_affine)\n",
      ")\n",
      "QuantizedConvReLU2d(3, 32, kernel_size=(3, 3), stride=(1, 1), scale=0.04142693430185318, zero_point=0, padding=(1, 1))\n",
      "Dropout2d(p=0.3, inplace=False)\n",
      "MaxPool2d(kernel_size=2, stride=2, padding=0, dilation=1, ceil_mode=False)\n",
      "QuantizedConvReLU2d(32, 16, kernel_size=(3, 3), stride=(1, 1), scale=0.06209937110543251, zero_point=0, padding=(1, 1))\n",
      "Dropout2d(p=0.3, inplace=False)\n",
      "MaxPool2d(kernel_size=2, stride=2, padding=0, dilation=1, ceil_mode=False)\n",
      "QuantizedConvReLU2d(16, 16, kernel_size=(1, 1), stride=(1, 1), scale=0.06463534384965897, zero_point=0)\n",
      "QuantizedConvReLU2d(16, 32, kernel_size=(3, 3), stride=(1, 1), scale=0.04203484207391739, zero_point=0, padding=(1, 1))\n",
      "QuantizedConvReLU2d(32, 32, kernel_size=(1, 1), stride=(1, 1), scale=0.11149820685386658, zero_point=0)\n",
      "QuantizedConvReLU2d(32, 64, kernel_size=(3, 3), stride=(1, 1), scale=0.05215856805443764, zero_point=0, padding=(1, 1))\n",
      "MaxPool2d(kernel_size=2, stride=2, padding=0, dilation=1, ceil_mode=False)\n",
      "QuantizedConvReLU2d(64, 32, kernel_size=(1, 1), stride=(1, 1), scale=0.06581731885671616, zero_point=0)\n",
      "QuantizedConvReLU2d(32, 64, kernel_size=(3, 3), stride=(1, 1), scale=0.04386665299534798, zero_point=0, padding=(1, 1))\n",
      "QuantizedConvReLU2d(64, 32, kernel_size=(1, 1), stride=(1, 1), scale=0.08582739531993866, zero_point=0)\n",
      "QuantizedConvReLU2d(32, 64, kernel_size=(3, 3), stride=(1, 1), scale=0.055513426661491394, zero_point=0, padding=(1, 1))\n",
      "QuantizedConvReLU2d(64, 32, kernel_size=(1, 1), stride=(1, 1), scale=0.039699453860521317, zero_point=0)\n",
      "QuantizedConvReLU2d(32, 64, kernel_size=(3, 3), stride=(1, 1), scale=0.11571133881807327, zero_point=0, padding=(1, 1))\n",
      "AdaptiveAvgPool2d(output_size=(1, 1))\n",
      "Flatten(start_dim=1, end_dim=-1)\n",
      "Dropout(p=0.2, inplace=False)\n",
      "QuantizedLinearReLU(in_features=64, out_features=16, scale=0.055345192551612854, zero_point=0, qscheme=torch.per_channel_affine)\n",
      "(tensor([[ 0.1650,  0.1870,  0.2787,  ...,  0.0037, -0.0990,  0.1723],\n",
      "        [-0.1308,  0.3238, -0.1799,  ..., -0.3172, -0.2649,  0.2158],\n",
      "        [-0.0094, -0.0036, -0.0088,  ...,  0.0067,  0.0175, -0.0011],\n",
      "        ...,\n",
      "        [ 0.0563, -0.1858, -0.0169,  ...,  0.2280,  0.2083, -0.2111],\n",
      "        [ 0.0742, -0.0194,  0.0774,  ...,  0.1935,  0.1193,  0.0290],\n",
      "        [ 0.1369, -0.0447,  0.1202,  ...,  0.1733,  0.1677, -0.0643]],\n",
      "       size=(16, 64), dtype=torch.qint8,\n",
      "       quantization_scheme=torch.per_channel_affine,\n",
      "       scale=tensor([3.6668e-03, 3.2702e-03, 1.5202e-04, 1.1921e-07, 1.1921e-07, 3.5864e-03,\n",
      "        2.5988e-03, 3.8922e-03, 2.4844e-03, 3.6985e-03, 3.0064e-03, 2.2499e-03,\n",
      "        5.4606e-03, 2.8151e-03, 3.2255e-03, 2.7949e-03], dtype=torch.float64),\n",
      "       zero_point=tensor([0, 0, 0, 0, 0, 0, 0, 0, 0, 0, 0, 0, 0, 0, 0, 0]),\n",
      "       axis=0), Parameter containing:\n",
      "tensor([ 2.8623e-01,  2.8183e-01,  9.0953e-03, -2.9568e-24, -3.4418e-10,\n",
      "         1.7456e-01,  2.3973e-01,  1.2430e-01,  2.1149e-01,  5.0208e-01,\n",
      "         3.3621e-01,  1.2087e-01,  2.4450e-01,  2.3658e-01,  1.9355e-01,\n",
      "         2.1652e-01], requires_grad=True))\n",
      "QuantizedLinear(in_features=16, out_features=2, scale=0.24537228047847748, zero_point=68, qscheme=torch.per_channel_affine)\n",
      "(tensor([[ 0.2035,  0.6025, -0.0163,  0.0000,  0.0000,  0.6106,  0.5292, -0.1710,\n",
      "          0.0814, -0.3989, -1.0421,  0.1058,  0.1221, -0.7165, -0.3501, -0.4966],\n",
      "        [-0.9505,  0.3648,  0.0288,  0.0000,  0.0000, -0.2880,  0.5472, -1.0753,\n",
      "          0.6912,  0.8545, -0.2016, -0.5568, -1.2289, -0.4992, -0.7200, -0.6528]],\n",
      "       size=(2, 16), dtype=torch.qint8,\n",
      "       quantization_scheme=torch.per_channel_affine,\n",
      "       scale=tensor([0.0081, 0.0096], dtype=torch.float64),\n",
      "       zero_point=tensor([0, 0]), axis=0), Parameter containing:\n",
      "tensor([-0.1730,  0.3417], requires_grad=True))\n",
      "BED_CLASSIFIER(\n",
      "  (model): Sequential(\n",
      "    (conv1): Conv2d(3, 32, kernel_size=(3, 3), stride=(1, 1), padding=(1, 1), bias=False)\n",
      "    (bn1): BatchNorm2d(32, eps=1e-05, momentum=0.1, affine=True, track_running_stats=True)\n",
      "    (relu1): ReLU()\n",
      "    (dropout1): Dropout2d(p=0.3, inplace=False)\n",
      "    (maxpool2): MaxPool2d(kernel_size=2, stride=2, padding=0, dilation=1, ceil_mode=False)\n",
      "    (conv2): Conv2d(32, 16, kernel_size=(3, 3), stride=(1, 1), padding=(1, 1), bias=False)\n",
      "    (bn2): BatchNorm2d(16, eps=1e-05, momentum=0.1, affine=True, track_running_stats=True)\n",
      "    (relu2): ReLU()\n",
      "    (dropout2): Dropout2d(p=0.3, inplace=False)\n",
      "    (maxpool3): MaxPool2d(kernel_size=2, stride=2, padding=0, dilation=1, ceil_mode=False)\n",
      "    (conv31): Conv2d(16, 16, kernel_size=(1, 1), stride=(1, 1), bias=False)\n",
      "    (bn31): BatchNorm2d(16, eps=1e-05, momentum=0.1, affine=True, track_running_stats=True)\n",
      "    (relu31): ReLU()\n",
      "    (conv32): Conv2d(16, 32, kernel_size=(3, 3), stride=(1, 1), padding=(1, 1), bias=False)\n",
      "    (bn32): BatchNorm2d(32, eps=1e-05, momentum=0.1, affine=True, track_running_stats=True)\n",
      "    (relu32): ReLU()\n",
      "    (conv33): Conv2d(32, 32, kernel_size=(1, 1), stride=(1, 1), bias=False)\n",
      "    (bn33): BatchNorm2d(32, eps=1e-05, momentum=0.1, affine=True, track_running_stats=True)\n",
      "    (relu33): ReLU()\n",
      "    (conv34): Conv2d(32, 64, kernel_size=(3, 3), stride=(1, 1), padding=(1, 1), bias=False)\n",
      "    (bn34): BatchNorm2d(64, eps=1e-05, momentum=0.1, affine=True, track_running_stats=True)\n",
      "    (relu34): ReLU()\n",
      "    (maxpool4): MaxPool2d(kernel_size=2, stride=2, padding=0, dilation=1, ceil_mode=False)\n",
      "    (conv41): Conv2d(64, 32, kernel_size=(1, 1), stride=(1, 1), bias=False)\n",
      "    (bn41): BatchNorm2d(32, eps=1e-05, momentum=0.1, affine=True, track_running_stats=True)\n",
      "    (relu41): ReLU()\n",
      "    (conv42): Conv2d(32, 64, kernel_size=(3, 3), stride=(1, 1), padding=(1, 1), bias=False)\n",
      "    (bn42): BatchNorm2d(64, eps=1e-05, momentum=0.1, affine=True, track_running_stats=True)\n",
      "    (relu42): ReLU()\n",
      "    (conv43): Conv2d(64, 32, kernel_size=(1, 1), stride=(1, 1), bias=False)\n",
      "    (bn43): BatchNorm2d(32, eps=1e-05, momentum=0.1, affine=True, track_running_stats=True)\n",
      "    (relu43): ReLU()\n",
      "    (conv44): Conv2d(32, 64, kernel_size=(3, 3), stride=(1, 1), padding=(1, 1), bias=False)\n",
      "    (bn44): BatchNorm2d(64, eps=1e-05, momentum=0.1, affine=True, track_running_stats=True)\n",
      "    (relu44): ReLU()\n",
      "    (conv45): Conv2d(64, 32, kernel_size=(1, 1), stride=(1, 1), bias=False)\n",
      "    (bn45): BatchNorm2d(32, eps=1e-05, momentum=0.1, affine=True, track_running_stats=True)\n",
      "    (relu45): ReLU()\n",
      "    (conv46): Conv2d(32, 64, kernel_size=(3, 3), stride=(1, 1), padding=(1, 1), bias=False)\n",
      "    (bn46): BatchNorm2d(64, eps=1e-05, momentum=0.1, affine=True, track_running_stats=True)\n",
      "    (relu46): ReLU()\n",
      "    (avgpool5): AdaptiveAvgPool2d(output_size=(1, 1))\n",
      "    (flatten5): Flatten(start_dim=1, end_dim=-1)\n",
      "    (dropout5): Dropout(p=0.2, inplace=False)\n",
      "    (linear51): Linear(in_features=64, out_features=16, bias=True)\n",
      "    (relu5): ReLU()\n",
      "    (linear52): Linear(in_features=16, out_features=2, bias=True)\n",
      "  )\n",
      ")\n",
      "Sequential(\n",
      "  (conv1): Conv2d(3, 32, kernel_size=(3, 3), stride=(1, 1), padding=(1, 1), bias=False)\n",
      "  (bn1): BatchNorm2d(32, eps=1e-05, momentum=0.1, affine=True, track_running_stats=True)\n",
      "  (relu1): ReLU()\n",
      "  (dropout1): Dropout2d(p=0.3, inplace=False)\n",
      "  (maxpool2): MaxPool2d(kernel_size=2, stride=2, padding=0, dilation=1, ceil_mode=False)\n",
      "  (conv2): Conv2d(32, 16, kernel_size=(3, 3), stride=(1, 1), padding=(1, 1), bias=False)\n",
      "  (bn2): BatchNorm2d(16, eps=1e-05, momentum=0.1, affine=True, track_running_stats=True)\n",
      "  (relu2): ReLU()\n",
      "  (dropout2): Dropout2d(p=0.3, inplace=False)\n",
      "  (maxpool3): MaxPool2d(kernel_size=2, stride=2, padding=0, dilation=1, ceil_mode=False)\n",
      "  (conv31): Conv2d(16, 16, kernel_size=(1, 1), stride=(1, 1), bias=False)\n",
      "  (bn31): BatchNorm2d(16, eps=1e-05, momentum=0.1, affine=True, track_running_stats=True)\n",
      "  (relu31): ReLU()\n",
      "  (conv32): Conv2d(16, 32, kernel_size=(3, 3), stride=(1, 1), padding=(1, 1), bias=False)\n",
      "  (bn32): BatchNorm2d(32, eps=1e-05, momentum=0.1, affine=True, track_running_stats=True)\n",
      "  (relu32): ReLU()\n",
      "  (conv33): Conv2d(32, 32, kernel_size=(1, 1), stride=(1, 1), bias=False)\n",
      "  (bn33): BatchNorm2d(32, eps=1e-05, momentum=0.1, affine=True, track_running_stats=True)\n",
      "  (relu33): ReLU()\n",
      "  (conv34): Conv2d(32, 64, kernel_size=(3, 3), stride=(1, 1), padding=(1, 1), bias=False)\n",
      "  (bn34): BatchNorm2d(64, eps=1e-05, momentum=0.1, affine=True, track_running_stats=True)\n",
      "  (relu34): ReLU()\n",
      "  (maxpool4): MaxPool2d(kernel_size=2, stride=2, padding=0, dilation=1, ceil_mode=False)\n",
      "  (conv41): Conv2d(64, 32, kernel_size=(1, 1), stride=(1, 1), bias=False)\n",
      "  (bn41): BatchNorm2d(32, eps=1e-05, momentum=0.1, affine=True, track_running_stats=True)\n",
      "  (relu41): ReLU()\n",
      "  (conv42): Conv2d(32, 64, kernel_size=(3, 3), stride=(1, 1), padding=(1, 1), bias=False)\n",
      "  (bn42): BatchNorm2d(64, eps=1e-05, momentum=0.1, affine=True, track_running_stats=True)\n",
      "  (relu42): ReLU()\n",
      "  (conv43): Conv2d(64, 32, kernel_size=(1, 1), stride=(1, 1), bias=False)\n",
      "  (bn43): BatchNorm2d(32, eps=1e-05, momentum=0.1, affine=True, track_running_stats=True)\n",
      "  (relu43): ReLU()\n",
      "  (conv44): Conv2d(32, 64, kernel_size=(3, 3), stride=(1, 1), padding=(1, 1), bias=False)\n",
      "  (bn44): BatchNorm2d(64, eps=1e-05, momentum=0.1, affine=True, track_running_stats=True)\n",
      "  (relu44): ReLU()\n",
      "  (conv45): Conv2d(64, 32, kernel_size=(1, 1), stride=(1, 1), bias=False)\n",
      "  (bn45): BatchNorm2d(32, eps=1e-05, momentum=0.1, affine=True, track_running_stats=True)\n",
      "  (relu45): ReLU()\n",
      "  (conv46): Conv2d(32, 64, kernel_size=(3, 3), stride=(1, 1), padding=(1, 1), bias=False)\n",
      "  (bn46): BatchNorm2d(64, eps=1e-05, momentum=0.1, affine=True, track_running_stats=True)\n",
      "  (relu46): ReLU()\n",
      "  (avgpool5): AdaptiveAvgPool2d(output_size=(1, 1))\n",
      "  (flatten5): Flatten(start_dim=1, end_dim=-1)\n",
      "  (dropout5): Dropout(p=0.2, inplace=False)\n",
      "  (linear51): Linear(in_features=64, out_features=16, bias=True)\n",
      "  (relu5): ReLU()\n",
      "  (linear52): Linear(in_features=16, out_features=2, bias=True)\n",
      ")\n",
      "Conv2d(3, 32, kernel_size=(3, 3), stride=(1, 1), padding=(1, 1), bias=False)\n",
      "BatchNorm2d(32, eps=1e-05, momentum=0.1, affine=True, track_running_stats=True)\n",
      "ReLU()\n",
      "Dropout2d(p=0.3, inplace=False)\n",
      "MaxPool2d(kernel_size=2, stride=2, padding=0, dilation=1, ceil_mode=False)\n",
      "Conv2d(32, 16, kernel_size=(3, 3), stride=(1, 1), padding=(1, 1), bias=False)\n",
      "BatchNorm2d(16, eps=1e-05, momentum=0.1, affine=True, track_running_stats=True)\n",
      "ReLU()\n",
      "Dropout2d(p=0.3, inplace=False)\n",
      "MaxPool2d(kernel_size=2, stride=2, padding=0, dilation=1, ceil_mode=False)\n",
      "Conv2d(16, 16, kernel_size=(1, 1), stride=(1, 1), bias=False)\n",
      "BatchNorm2d(16, eps=1e-05, momentum=0.1, affine=True, track_running_stats=True)\n",
      "ReLU()\n",
      "Conv2d(16, 32, kernel_size=(3, 3), stride=(1, 1), padding=(1, 1), bias=False)\n",
      "BatchNorm2d(32, eps=1e-05, momentum=0.1, affine=True, track_running_stats=True)\n",
      "ReLU()\n",
      "Conv2d(32, 32, kernel_size=(1, 1), stride=(1, 1), bias=False)\n",
      "BatchNorm2d(32, eps=1e-05, momentum=0.1, affine=True, track_running_stats=True)\n",
      "ReLU()\n",
      "Conv2d(32, 64, kernel_size=(3, 3), stride=(1, 1), padding=(1, 1), bias=False)\n",
      "BatchNorm2d(64, eps=1e-05, momentum=0.1, affine=True, track_running_stats=True)\n",
      "ReLU()\n",
      "MaxPool2d(kernel_size=2, stride=2, padding=0, dilation=1, ceil_mode=False)\n",
      "Conv2d(64, 32, kernel_size=(1, 1), stride=(1, 1), bias=False)\n",
      "BatchNorm2d(32, eps=1e-05, momentum=0.1, affine=True, track_running_stats=True)\n",
      "ReLU()\n",
      "Conv2d(32, 64, kernel_size=(3, 3), stride=(1, 1), padding=(1, 1), bias=False)\n",
      "BatchNorm2d(64, eps=1e-05, momentum=0.1, affine=True, track_running_stats=True)\n",
      "ReLU()\n",
      "Conv2d(64, 32, kernel_size=(1, 1), stride=(1, 1), bias=False)\n",
      "BatchNorm2d(32, eps=1e-05, momentum=0.1, affine=True, track_running_stats=True)\n",
      "ReLU()\n",
      "Conv2d(32, 64, kernel_size=(3, 3), stride=(1, 1), padding=(1, 1), bias=False)\n",
      "BatchNorm2d(64, eps=1e-05, momentum=0.1, affine=True, track_running_stats=True)\n",
      "ReLU()\n",
      "Conv2d(64, 32, kernel_size=(1, 1), stride=(1, 1), bias=False)\n",
      "BatchNorm2d(32, eps=1e-05, momentum=0.1, affine=True, track_running_stats=True)\n",
      "ReLU()\n",
      "Conv2d(32, 64, kernel_size=(3, 3), stride=(1, 1), padding=(1, 1), bias=False)\n",
      "BatchNorm2d(64, eps=1e-05, momentum=0.1, affine=True, track_running_stats=True)\n",
      "ReLU()\n",
      "AdaptiveAvgPool2d(output_size=(1, 1))\n",
      "Flatten(start_dim=1, end_dim=-1)\n",
      "Dropout(p=0.2, inplace=False)\n",
      "Linear(in_features=64, out_features=16, bias=True)\n",
      "ReLU()\n",
      "Linear(in_features=16, out_features=2, bias=True)\n"
     ]
    }
   ],
   "source": [
    "for mod in q_model.modules():\n",
    "    print(mod)"
   ]
  },
  {
   "cell_type": "code",
   "execution_count": 22,
   "id": "aecde611-a873-4729-94b1-2630606eaa5a",
   "metadata": {
    "tags": []
   },
   "outputs": [
    {
     "name": "stdout",
     "output_type": "stream",
     "text": [
      "0.9209003448486328\n"
     ]
    }
   ],
   "source": [
    "test_quant_f1 = eval_func(q_model)\n",
    "print(test_quant_f1)"
   ]
  },
  {
   "cell_type": "markdown",
   "id": "c748b0a7-7ff8-4556-8ffe-70c785130e4d",
   "metadata": {},
   "source": [
    "# Eval All Metrics\n",
    "\n",
    "## Change to average None, to see individual results for Smoke and Fire"
   ]
  },
  {
   "cell_type": "code",
   "execution_count": 23,
   "id": "39518059-f90f-4896-8d18-7d289386e7a7",
   "metadata": {
    "tags": []
   },
   "outputs": [],
   "source": [
    "precision_metric = torchmetrics.classification.MultilabelPrecision(num_labels = N_CLASSES, \n",
    "                                                                   threshold = 0.5, \n",
    "                                                                   average = None).to('cpu')\n",
    "recall_metric = torchmetrics.classification.MultilabelRecall(num_labels = N_CLASSES, \n",
    "                                                             threshold = 0.5, \n",
    "                                                             average = None).to('cpu')\n",
    "accuracy_metric = torchmetrics.classification.MultilabelAccuracy(num_labels = N_CLASSES, \n",
    "                                                                 threshold = 0.5, \n",
    "                                                                 average = None).to('cpu')\n",
    "f1_metric = torchmetrics.classification.MultilabelF1Score(num_labels = N_CLASSES, \n",
    "                                                          threshold = 0.5, \n",
    "                                                          average = None).to('cpu')"
   ]
  },
  {
   "cell_type": "code",
   "execution_count": 24,
   "id": "b3eae1a4-02e3-4347-b472-3015d3df9fd6",
   "metadata": {},
   "outputs": [],
   "source": [
    "def eval_all_metrics(model):\n",
    "    model.eval()\n",
    "    with torch.no_grad():\n",
    "        for image, label in val_loader:\n",
    "            #image, label = image.to(DEVICE), label.to(DEVICE)\n",
    "            output = model(image)\n",
    "            precision_metric.update(output, label)\n",
    "            recall_metric.update(output, label)\n",
    "            accuracy_metric.update(output, label)\n",
    "            f1_metric.update(output, label)\n",
    "        \n",
    "        pre_res = precision_metric.compute()\n",
    "        rec_res = recall_metric.compute()\n",
    "        acc_res = accuracy_metric.compute()\n",
    "        f1_res = f1_metric.compute()\n",
    "        \n",
    "        precision_metric.reset()\n",
    "        recall_metric.reset()\n",
    "        accuracy_metric.reset()\n",
    "        f1_metric.reset()\n",
    "        \n",
    "    return {\n",
    "        'Accuracy': acc_res,\n",
    "        'Precision': pre_res,\n",
    "        'Recall': rec_res,\n",
    "        'F1-score': f1_res\n",
    "    }\n",
    "        "
   ]
  },
  {
   "cell_type": "code",
   "execution_count": 25,
   "id": "e3038222-346b-4bc0-a168-0643390961aa",
   "metadata": {
    "tags": []
   },
   "outputs": [],
   "source": [
    "quant_metrics = eval_all_metrics(q_model)\n",
    "ori_metrics = eval_all_metrics(model)"
   ]
  },
  {
   "cell_type": "code",
   "execution_count": 26,
   "id": "696d8f30-f760-484d-84e2-67e501cc72c3",
   "metadata": {
    "tags": []
   },
   "outputs": [],
   "source": [
    "# for k, v in quant_metrics.items():\n",
    "#     print(f'{k}')\n",
    "#     print('\\tSmoke: '.ljust(10) + f'{100*v[0]:.3f}')\n",
    "#     print('\\tFire: '.ljust(10) + f'{100*v[1]:.3f}')\n",
    "# for k, v in ori_metrics.items():\n",
    "#     print(f'{k}')\n",
    "#     print('\\tSmoke: '.ljust(10) + f'{100*v[0]:.3f}')\n",
    "#     print('\\tFire: '.ljust(10) + f'{100*v[1]:.3f}')\n",
    "# for (kq, vq), (k, v) in zip(quant_metrics.items(), ori_metrics.items()):\n",
    "#     print('\\t\\t' + f'{k}')\n",
    "#     print(''.ljust(7) + 'Quantized'.rjust(11) + ' | Original'.ljust(11))\n",
    "#     print('Smoke: '.ljust(7) + f'{100*vq[0]:.3f}'.rjust(11) + f'{100*v[0]:.3f}'.rjust(11))\n",
    "#     print('Fire: '.ljust(7) + f'{100*vq[1]:.3f}'.rjust(11) + f'{100*v[1]:.3f}'.rjust(11))"
   ]
  },
  {
   "cell_type": "code",
   "execution_count": 27,
   "id": "b96c2366-2826-4a0a-8a40-01bf9caea1a6",
   "metadata": {
    "tags": []
   },
   "outputs": [
    {
     "data": {
      "text/plain": [
       "array([[91.58, 96.25, 91.23, 93.1 , 91.27, 92.34, 91.25, 92.72],\n",
       "       [91.42, 96.46, 91.12, 93.78, 91.03, 92.43, 91.08, 93.1 ]])"
      ]
     },
     "execution_count": 27,
     "metadata": {},
     "output_type": "execute_result"
    }
   ],
   "source": [
    "metrics_data = np.zeros((2, 8))\n",
    "for i, ((kq, vq), (k, v)) in enumerate(zip(quant_metrics.items(), ori_metrics.items())):\n",
    "    metrics_data[0, 2*i] = np.round(100*v[0].item(), decimals=2)\n",
    "    metrics_data[0, 2*i+1] = np.round(100*v[1].item(), decimals=2)\n",
    "    metrics_data[1, 2*i] = np.round(100*vq[0].item(), decimals=2)\n",
    "    metrics_data[1, 2*i+1] = np.round(100*vq[1].item(), decimals=2)\n",
    "metrics_data"
   ]
  },
  {
   "cell_type": "code",
   "execution_count": 28,
   "id": "c0290969-97d3-49aa-ad23-487ad815e646",
   "metadata": {
    "tags": []
   },
   "outputs": [],
   "source": [
    "idx = ['Original', 'Quantized']\n",
    "cols = pd.MultiIndex.from_product([['Accuracy', 'Precision', 'Recall', 'F1-Score'], ['Smoke', 'Fire']])"
   ]
  },
  {
   "cell_type": "code",
   "execution_count": 29,
   "id": "9e886056-e1f5-474b-83d3-9c8624c1bc70",
   "metadata": {
    "tags": []
   },
   "outputs": [
    {
     "data": {
      "text/html": [
       "<div>\n",
       "<style scoped>\n",
       "    .dataframe tbody tr th:only-of-type {\n",
       "        vertical-align: middle;\n",
       "    }\n",
       "\n",
       "    .dataframe tbody tr th {\n",
       "        vertical-align: top;\n",
       "    }\n",
       "\n",
       "    .dataframe thead tr th {\n",
       "        text-align: left;\n",
       "    }\n",
       "</style>\n",
       "<table border=\"1\" class=\"dataframe\">\n",
       "  <thead>\n",
       "    <tr>\n",
       "      <th></th>\n",
       "      <th colspan=\"2\" halign=\"left\">Accuracy</th>\n",
       "      <th colspan=\"2\" halign=\"left\">Precision</th>\n",
       "      <th colspan=\"2\" halign=\"left\">Recall</th>\n",
       "      <th colspan=\"2\" halign=\"left\">F1-Score</th>\n",
       "    </tr>\n",
       "    <tr>\n",
       "      <th></th>\n",
       "      <th>Smoke</th>\n",
       "      <th>Fire</th>\n",
       "      <th>Smoke</th>\n",
       "      <th>Fire</th>\n",
       "      <th>Smoke</th>\n",
       "      <th>Fire</th>\n",
       "      <th>Smoke</th>\n",
       "      <th>Fire</th>\n",
       "    </tr>\n",
       "  </thead>\n",
       "  <tbody>\n",
       "    <tr>\n",
       "      <th>Original</th>\n",
       "      <td>91.58</td>\n",
       "      <td>96.25</td>\n",
       "      <td>91.23</td>\n",
       "      <td>93.10</td>\n",
       "      <td>91.27</td>\n",
       "      <td>92.34</td>\n",
       "      <td>91.25</td>\n",
       "      <td>92.72</td>\n",
       "    </tr>\n",
       "    <tr>\n",
       "      <th>Quantized</th>\n",
       "      <td>91.42</td>\n",
       "      <td>96.46</td>\n",
       "      <td>91.12</td>\n",
       "      <td>93.78</td>\n",
       "      <td>91.03</td>\n",
       "      <td>92.43</td>\n",
       "      <td>91.08</td>\n",
       "      <td>93.10</td>\n",
       "    </tr>\n",
       "  </tbody>\n",
       "</table>\n",
       "</div>"
      ],
      "text/plain": [
       "          Accuracy        Precision        Recall        F1-Score       \n",
       "             Smoke   Fire     Smoke   Fire  Smoke   Fire    Smoke   Fire\n",
       "Original     91.58  96.25     91.23  93.10  91.27  92.34    91.25  92.72\n",
       "Quantized    91.42  96.46     91.12  93.78  91.03  92.43    91.08  93.10"
      ]
     },
     "execution_count": 29,
     "metadata": {},
     "output_type": "execute_result"
    }
   ],
   "source": [
    "df = pd.DataFrame(metrics_data, index=idx, columns=cols)\n",
    "df"
   ]
  },
  {
   "cell_type": "code",
   "execution_count": 30,
   "id": "515c03b3-6e21-4b86-ab27-b917cf54765b",
   "metadata": {
    "tags": []
   },
   "outputs": [],
   "source": [
    "#q_conv = torch.ao.quantization.convert(q_model)\n",
    "#q_conv= torch.ao.quantization.quantize_fx.convert_fx(q_model)"
   ]
  },
  {
   "cell_type": "code",
   "execution_count": 31,
   "id": "2ae69f9e-b525-498c-936c-f9bcb940fbb4",
   "metadata": {
    "tags": []
   },
   "outputs": [],
   "source": [
    "#print(q_model.state_dict())"
   ]
  },
  {
   "cell_type": "code",
   "execution_count": 32,
   "id": "12a3bced-5a7a-4e33-a120-6e264889984d",
   "metadata": {},
   "outputs": [],
   "source": [
    "graph_ex = q_model.graph_info"
   ]
  },
  {
   "cell_type": "code",
   "execution_count": 33,
   "id": "4226fc02-7666-4378-9ed7-11e9b780f752",
   "metadata": {
    "tags": []
   },
   "outputs": [
    {
     "data": {
      "text/plain": [
       "{'model.conv1': 'Conv2d',\n",
       " 'model.conv2': 'Conv2d',\n",
       " 'model.conv31': 'Conv2d',\n",
       " 'model.conv32': 'Conv2d',\n",
       " 'model.conv33': 'Conv2d',\n",
       " 'model.conv34': 'Conv2d',\n",
       " 'model.conv41': 'Conv2d',\n",
       " 'model.conv42': 'Conv2d',\n",
       " 'model.conv43': 'Conv2d',\n",
       " 'model.conv44': 'Conv2d',\n",
       " 'model.conv45': 'Conv2d',\n",
       " 'model.conv46': 'Conv2d',\n",
       " 'model.dropout5': 'Dropout',\n",
       " 'model.linear51': 'Linear',\n",
       " 'model.linear52': 'Linear'}"
      ]
     },
     "execution_count": 33,
     "metadata": {},
     "output_type": "execute_result"
    }
   ],
   "source": [
    "graph_ex"
   ]
  },
  {
   "cell_type": "code",
   "execution_count": 34,
   "id": "2b47cd4c-0311-494c-9006-abdf892c08bb",
   "metadata": {
    "tags": []
   },
   "outputs": [
    {
     "data": {
      "text/plain": [
       "{'op': OrderedDict([(('model.conv1', 'Conv2d'),\n",
       "               {'weight': {'dtype': 'int8',\n",
       "                 'scheme': 'sym',\n",
       "                 'granularity': 'per_channel',\n",
       "                 'algorithm': 'minmax'},\n",
       "                'activation': {'dtype': 'uint8',\n",
       "                 'quant_mode': 'static',\n",
       "                 'scheme': 'asym',\n",
       "                 'granularity': 'per_tensor',\n",
       "                 'algorithm': 'kl',\n",
       "                 'scale': 0.04142693430185318,\n",
       "                 'zero_point': 0}}),\n",
       "              (('model.conv2', 'Conv2d'),\n",
       "               {'weight': {'dtype': 'int8',\n",
       "                 'scheme': 'sym',\n",
       "                 'granularity': 'per_channel',\n",
       "                 'algorithm': 'minmax'},\n",
       "                'activation': {'dtype': 'uint8',\n",
       "                 'quant_mode': 'static',\n",
       "                 'scheme': 'asym',\n",
       "                 'granularity': 'per_tensor',\n",
       "                 'algorithm': 'kl',\n",
       "                 'scale': 0.06209937110543251,\n",
       "                 'zero_point': 0}}),\n",
       "              (('model.conv31', 'Conv2d'),\n",
       "               {'weight': {'dtype': 'int8',\n",
       "                 'scheme': 'sym',\n",
       "                 'granularity': 'per_channel',\n",
       "                 'algorithm': 'minmax'},\n",
       "                'activation': {'dtype': 'uint8',\n",
       "                 'quant_mode': 'static',\n",
       "                 'scheme': 'asym',\n",
       "                 'granularity': 'per_tensor',\n",
       "                 'algorithm': 'kl',\n",
       "                 'scale': 0.06463534384965897,\n",
       "                 'zero_point': 0}}),\n",
       "              (('model.conv32', 'Conv2d'),\n",
       "               {'weight': {'dtype': 'int8',\n",
       "                 'scheme': 'sym',\n",
       "                 'granularity': 'per_channel',\n",
       "                 'algorithm': 'minmax'},\n",
       "                'activation': {'dtype': 'uint8',\n",
       "                 'quant_mode': 'static',\n",
       "                 'scheme': 'asym',\n",
       "                 'granularity': 'per_tensor',\n",
       "                 'algorithm': 'kl',\n",
       "                 'scale': 0.04203484207391739,\n",
       "                 'zero_point': 0}}),\n",
       "              (('model.conv33', 'Conv2d'),\n",
       "               {'weight': {'dtype': 'int8',\n",
       "                 'scheme': 'sym',\n",
       "                 'granularity': 'per_channel',\n",
       "                 'algorithm': 'minmax'},\n",
       "                'activation': {'dtype': 'uint8',\n",
       "                 'quant_mode': 'static',\n",
       "                 'scheme': 'asym',\n",
       "                 'granularity': 'per_tensor',\n",
       "                 'algorithm': 'kl',\n",
       "                 'scale': 0.11149820685386658,\n",
       "                 'zero_point': 0}}),\n",
       "              (('model.conv34', 'Conv2d'),\n",
       "               {'weight': {'dtype': 'int8',\n",
       "                 'scheme': 'sym',\n",
       "                 'granularity': 'per_channel',\n",
       "                 'algorithm': 'minmax'},\n",
       "                'activation': {'dtype': 'uint8',\n",
       "                 'quant_mode': 'static',\n",
       "                 'scheme': 'asym',\n",
       "                 'granularity': 'per_tensor',\n",
       "                 'algorithm': 'kl',\n",
       "                 'scale': 0.05215856805443764,\n",
       "                 'zero_point': 0}}),\n",
       "              (('model.conv41', 'Conv2d'),\n",
       "               {'weight': {'dtype': 'int8',\n",
       "                 'scheme': 'sym',\n",
       "                 'granularity': 'per_channel',\n",
       "                 'algorithm': 'minmax'},\n",
       "                'activation': {'dtype': 'uint8',\n",
       "                 'quant_mode': 'static',\n",
       "                 'scheme': 'asym',\n",
       "                 'granularity': 'per_tensor',\n",
       "                 'algorithm': 'kl',\n",
       "                 'scale': 0.06581731885671616,\n",
       "                 'zero_point': 0}}),\n",
       "              (('model.conv42', 'Conv2d'),\n",
       "               {'weight': {'dtype': 'int8',\n",
       "                 'scheme': 'sym',\n",
       "                 'granularity': 'per_channel',\n",
       "                 'algorithm': 'minmax'},\n",
       "                'activation': {'dtype': 'uint8',\n",
       "                 'quant_mode': 'static',\n",
       "                 'scheme': 'asym',\n",
       "                 'granularity': 'per_tensor',\n",
       "                 'algorithm': 'kl',\n",
       "                 'scale': 0.04386665299534798,\n",
       "                 'zero_point': 0}}),\n",
       "              (('model.conv43', 'Conv2d'),\n",
       "               {'weight': {'dtype': 'int8',\n",
       "                 'scheme': 'sym',\n",
       "                 'granularity': 'per_channel',\n",
       "                 'algorithm': 'minmax'},\n",
       "                'activation': {'dtype': 'uint8',\n",
       "                 'quant_mode': 'static',\n",
       "                 'scheme': 'asym',\n",
       "                 'granularity': 'per_tensor',\n",
       "                 'algorithm': 'kl',\n",
       "                 'scale': 0.08582739531993866,\n",
       "                 'zero_point': 0}}),\n",
       "              (('model.conv44', 'Conv2d'),\n",
       "               {'weight': {'dtype': 'int8',\n",
       "                 'scheme': 'sym',\n",
       "                 'granularity': 'per_channel',\n",
       "                 'algorithm': 'minmax'},\n",
       "                'activation': {'dtype': 'uint8',\n",
       "                 'quant_mode': 'static',\n",
       "                 'scheme': 'asym',\n",
       "                 'granularity': 'per_tensor',\n",
       "                 'algorithm': 'kl',\n",
       "                 'scale': 0.055513426661491394,\n",
       "                 'zero_point': 0}}),\n",
       "              (('model.conv45', 'Conv2d'),\n",
       "               {'weight': {'dtype': 'int8',\n",
       "                 'scheme': 'sym',\n",
       "                 'granularity': 'per_channel',\n",
       "                 'algorithm': 'minmax'},\n",
       "                'activation': {'dtype': 'uint8',\n",
       "                 'quant_mode': 'static',\n",
       "                 'scheme': 'asym',\n",
       "                 'granularity': 'per_tensor',\n",
       "                 'algorithm': 'kl',\n",
       "                 'scale': 0.039699453860521317,\n",
       "                 'zero_point': 0}}),\n",
       "              (('model.conv46', 'Conv2d'),\n",
       "               {'weight': {'dtype': 'int8',\n",
       "                 'scheme': 'sym',\n",
       "                 'granularity': 'per_channel',\n",
       "                 'algorithm': 'minmax'},\n",
       "                'activation': {'dtype': 'uint8',\n",
       "                 'quant_mode': 'static',\n",
       "                 'scheme': 'asym',\n",
       "                 'granularity': 'per_tensor',\n",
       "                 'algorithm': 'kl',\n",
       "                 'scale': 0.11571133881807327,\n",
       "                 'zero_point': 0}}),\n",
       "              (('model.linear51', 'Linear'),\n",
       "               {'weight': {'dtype': 'int8',\n",
       "                 'scheme': 'sym',\n",
       "                 'granularity': 'per_channel',\n",
       "                 'algorithm': 'minmax'},\n",
       "                'activation': {'dtype': 'uint8',\n",
       "                 'quant_mode': 'static',\n",
       "                 'scheme': 'asym',\n",
       "                 'granularity': 'per_tensor',\n",
       "                 'algorithm': 'kl',\n",
       "                 'scale': 0.055345192551612854,\n",
       "                 'zero_point': 0}}),\n",
       "              (('model.linear52', 'Linear'),\n",
       "               {'weight': {'dtype': 'int8',\n",
       "                 'scheme': 'sym',\n",
       "                 'granularity': 'per_channel',\n",
       "                 'algorithm': 'minmax'},\n",
       "                'activation': {'dtype': 'uint8',\n",
       "                 'quant_mode': 'static',\n",
       "                 'scheme': 'asym',\n",
       "                 'granularity': 'per_tensor',\n",
       "                 'algorithm': 'kl',\n",
       "                 'scale': 0.24537228047847748,\n",
       "                 'zero_point': 68}}),\n",
       "              (('model.dropout5', 'Dropout'),\n",
       "               {'weight': {'dtype': 'fp32'},\n",
       "                'activation': {'dtype': 'fp32', 'quant_mode': 'precision'}})]),\n",
       " 'calib_sampling_size': 4288,\n",
       " 'calib_iteration': 67,\n",
       " 'approach': 'post_training_static_quant',\n",
       " 'recipe_cfgs': {'layer_wise_quant_args': {},\n",
       "  'first_conv_or_matmul_quantization': True,\n",
       "  'last_conv_or_matmul_quantization': True,\n",
       "  'pre_post_process_quantization': True},\n",
       " 'trial_number': 1,\n",
       " 'woq_tuning_cfg': None,\n",
       " 'reduce_range': True,\n",
       " 'framework': 'pytorch_fx',\n",
       " 'bf16_ops_list': [],\n",
       " 'fx_sub_module_list': None,\n",
       " 'get_attr': {'model_conv1_input_scale_0': 0.007870171219110489,\n",
       "  'model_conv1_input_zero_point_0': 0,\n",
       "  'model_dropout1_scale_0': 0.049875177443027496,\n",
       "  'model_dropout1_zero_point_0': 0,\n",
       "  'model_dropout2_scale_0': 0.06382561475038528,\n",
       "  'model_dropout2_zero_point_0': 0,\n",
       "  'model_linear51_input_scale_0': 0.018822915852069855,\n",
       "  'model_linear51_input_zero_point_0': 0}}"
      ]
     },
     "execution_count": 34,
     "metadata": {},
     "output_type": "execute_result"
    }
   ],
   "source": [
    "q_model.q_config"
   ]
  },
  {
   "cell_type": "code",
   "execution_count": 35,
   "id": "f4e3a444-45fa-49b1-84a7-a1bcb92a6c2a",
   "metadata": {
    "tags": []
   },
   "outputs": [
    {
     "data": {
      "text/plain": [
       "True"
      ]
     },
     "execution_count": 35,
     "metadata": {},
     "output_type": "execute_result"
    }
   ],
   "source": [
    "q_model.is_quantized"
   ]
  },
  {
   "cell_type": "code",
   "execution_count": 36,
   "id": "229f8bb3-120c-45f6-a2d7-8e76a0041ef6",
   "metadata": {
    "tags": []
   },
   "outputs": [
    {
     "data": {
      "text/plain": [
       "<bound method PyTorchBaseModel.get_all_weight_names of PyTorchFXModel(\n",
       "  (_model): GraphModule(\n",
       "    (model): Module(\n",
       "      (conv1): QuantizedConvReLU2d(3, 32, kernel_size=(3, 3), stride=(1, 1), scale=0.04142693430185318, zero_point=0, padding=(1, 1))\n",
       "      (dropout1): Dropout2d(p=0.3, inplace=False)\n",
       "      (maxpool2): MaxPool2d(kernel_size=2, stride=2, padding=0, dilation=1, ceil_mode=False)\n",
       "      (conv2): QuantizedConvReLU2d(32, 16, kernel_size=(3, 3), stride=(1, 1), scale=0.06209937110543251, zero_point=0, padding=(1, 1))\n",
       "      (dropout2): Dropout2d(p=0.3, inplace=False)\n",
       "      (maxpool3): MaxPool2d(kernel_size=2, stride=2, padding=0, dilation=1, ceil_mode=False)\n",
       "      (conv31): QuantizedConvReLU2d(16, 16, kernel_size=(1, 1), stride=(1, 1), scale=0.06463534384965897, zero_point=0)\n",
       "      (conv32): QuantizedConvReLU2d(16, 32, kernel_size=(3, 3), stride=(1, 1), scale=0.04203484207391739, zero_point=0, padding=(1, 1))\n",
       "      (conv33): QuantizedConvReLU2d(32, 32, kernel_size=(1, 1), stride=(1, 1), scale=0.11149820685386658, zero_point=0)\n",
       "      (conv34): QuantizedConvReLU2d(32, 64, kernel_size=(3, 3), stride=(1, 1), scale=0.05215856805443764, zero_point=0, padding=(1, 1))\n",
       "      (maxpool4): MaxPool2d(kernel_size=2, stride=2, padding=0, dilation=1, ceil_mode=False)\n",
       "      (conv41): QuantizedConvReLU2d(64, 32, kernel_size=(1, 1), stride=(1, 1), scale=0.06581731885671616, zero_point=0)\n",
       "      (conv42): QuantizedConvReLU2d(32, 64, kernel_size=(3, 3), stride=(1, 1), scale=0.04386665299534798, zero_point=0, padding=(1, 1))\n",
       "      (conv43): QuantizedConvReLU2d(64, 32, kernel_size=(1, 1), stride=(1, 1), scale=0.08582739531993866, zero_point=0)\n",
       "      (conv44): QuantizedConvReLU2d(32, 64, kernel_size=(3, 3), stride=(1, 1), scale=0.055513426661491394, zero_point=0, padding=(1, 1))\n",
       "      (conv45): QuantizedConvReLU2d(64, 32, kernel_size=(1, 1), stride=(1, 1), scale=0.039699453860521317, zero_point=0)\n",
       "      (conv46): QuantizedConvReLU2d(32, 64, kernel_size=(3, 3), stride=(1, 1), scale=0.11571133881807327, zero_point=0, padding=(1, 1))\n",
       "      (avgpool5): AdaptiveAvgPool2d(output_size=(1, 1))\n",
       "      (flatten5): Flatten(start_dim=1, end_dim=-1)\n",
       "      (dropout5): Dropout(p=0.2, inplace=False)\n",
       "      (linear51): QuantizedLinearReLU(in_features=64, out_features=16, scale=0.055345192551612854, zero_point=0, qscheme=torch.per_channel_affine)\n",
       "      (linear52): QuantizedLinear(in_features=16, out_features=2, scale=0.24537228047847748, zero_point=68, qscheme=torch.per_channel_affine)\n",
       "    )\n",
       "  )\n",
       ")>"
      ]
     },
     "execution_count": 36,
     "metadata": {},
     "output_type": "execute_result"
    }
   ],
   "source": [
    "q_model.get_all_weight_names"
   ]
  },
  {
   "cell_type": "code",
   "execution_count": 37,
   "id": "80a35ffa-357b-43bc-85fb-1f38b8bb6109",
   "metadata": {
    "tags": []
   },
   "outputs": [],
   "source": [
    "sparse = q_model.report_sparsity()"
   ]
  },
  {
   "cell_type": "code",
   "execution_count": 38,
   "id": "eba9a0d4-9aa1-46f1-a5ca-a752ebc83ca8",
   "metadata": {
    "tags": []
   },
   "outputs": [
    {
     "data": {
      "text/plain": [
       "(                                            Name           Shape  NNZ (dense)  \\\n",
       " 0                             model.conv1.weight   [32, 3, 3, 3]          859   \n",
       " 1                             model.conv2.weight  [16, 32, 3, 3]         4544   \n",
       " 2                            model.conv31.weight  [16, 16, 1, 1]          255   \n",
       " 3                            model.conv32.weight  [32, 16, 3, 3]         4560   \n",
       " 4                            model.conv33.weight  [32, 32, 1, 1]         1018   \n",
       " 5                            model.conv34.weight  [64, 32, 3, 3]        18237   \n",
       " 6                            model.conv41.weight  [32, 64, 1, 1]         2030   \n",
       " 7                            model.conv42.weight  [64, 32, 3, 3]        18257   \n",
       " 8                            model.conv43.weight  [32, 64, 1, 1]         2033   \n",
       " 9                            model.conv44.weight  [64, 32, 3, 3]        18251   \n",
       " 10                           model.conv45.weight  [32, 64, 1, 1]         1902   \n",
       " 11                           model.conv46.weight  [64, 32, 3, 3]        17001   \n",
       " 12  model.linear51._packed_params._packed_params        [16, 64]          892   \n",
       " 13  model.linear52._packed_params._packed_params         [2, 16]           28   \n",
       " 14                               Total sparsity:               -        92288   \n",
       " \n",
       "     NNZ (sparse)  Sparsity(%)  \n",
       " 0              5         0.58  \n",
       " 1             64         1.39  \n",
       " 2              1         0.39  \n",
       " 3             48         1.04  \n",
       " 4              6         0.59  \n",
       " 5            195         1.06  \n",
       " 6             18         0.88  \n",
       " 7            175         0.95  \n",
       " 8             15         0.73  \n",
       " 9            181         0.98  \n",
       " 10           146         7.13  \n",
       " 11          1431         7.76  \n",
       " 12           132        12.89  \n",
       " 13             4        12.50  \n",
       " 14          2421         2.62  ,\n",
       " 2.623309639389736)"
      ]
     },
     "execution_count": 38,
     "metadata": {},
     "output_type": "execute_result"
    }
   ],
   "source": [
    "sparse"
   ]
  },
  {
   "cell_type": "markdown",
   "id": "c7466a68-4dd6-4aab-b788-27f0b98aea0b",
   "metadata": {},
   "source": [
    "# ONNX Export"
   ]
  },
  {
   "cell_type": "code",
   "execution_count": 39,
   "id": "4b42c63b-87e6-4320-98f0-577b48acee03",
   "metadata": {
    "tags": []
   },
   "outputs": [
    {
     "name": "stderr",
     "output_type": "stream",
     "text": [
      "2024-06-25 22:08:52 [INFO] **************************************************************\n",
      "2024-06-25 22:08:52 [INFO] The INT8 ONNX Model exported to path: int8-model-bnAffine.onnx\n",
      "2024-06-25 22:08:52 [INFO] **************************************************************\n"
     ]
    }
   ],
   "source": [
    "from neural_compressor.config import Torch2ONNXConfig\n",
    "\n",
    "int8_onnx_config = Torch2ONNXConfig(\n",
    "    dtype=\"int8\",\n",
    "    opset_version=14,\n",
    "    quant_format=\"QOperator\",  # or QDQ\n",
    "    example_inputs=img.unsqueeze(dim=0), #torch.randn(1, 3, 224, 224),\n",
    "    input_names=[\"input\"],\n",
    "    output_names=[\"output\"],\n",
    "    dynamic_axes={\"input\": {0: \"batch_size\"}, \"output\": {0: \"batch_size\"}},\n",
    ")\n",
    "q_model.export(\"int8-model-bnAffine.onnx\", int8_onnx_config)"
   ]
  },
  {
   "cell_type": "code",
   "execution_count": 45,
   "id": "a881cf6e-376f-461f-bfd4-2f64e1dc00ed",
   "metadata": {},
   "outputs": [
    {
     "name": "stdout",
     "output_type": "stream",
     "text": [
      "tensor(0.)\n",
      "tensor(1.)\n"
     ]
    }
   ],
   "source": [
    "for pic, lab in val_loader:\n",
    "    print(torch.min(pic))\n",
    "    print(torch.max(pic))\n",
    "    break"
   ]
  },
  {
   "cell_type": "code",
   "execution_count": null,
   "id": "ab95ef87-b880-4a66-89e0-1cd699d078ec",
   "metadata": {},
   "outputs": [],
   "source": []
  }
 ],
 "metadata": {
  "kernelspec": {
   "display_name": "Python 3 (ipykernel)",
   "language": "python",
   "name": "python3"
  },
  "language_info": {
   "codemirror_mode": {
    "name": "ipython",
    "version": 3
   },
   "file_extension": ".py",
   "mimetype": "text/x-python",
   "name": "python",
   "nbconvert_exporter": "python",
   "pygments_lexer": "ipython3",
   "version": "3.10.9"
  }
 },
 "nbformat": 4,
 "nbformat_minor": 5
}
