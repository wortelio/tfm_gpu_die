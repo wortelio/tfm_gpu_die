{
 "cells": [
  {
   "cell_type": "code",
   "execution_count": 1,
   "id": "31eff477-1d09-4dca-8709-9bf629b6ea08",
   "metadata": {
    "tags": []
   },
   "outputs": [],
   "source": [
    "import os\n",
    "import logging\n",
    "from pathlib import Path\n",
    "import datetime\n",
    "\n",
    "import numpy as np\n",
    "import math\n",
    "import random\n",
    "import pandas as pd\n",
    "\n",
    "import torch\n",
    "from torch.utils.data import Dataset\n",
    "from torch.utils.data import DataLoader\n",
    "\n",
    "import albumentations as A\n",
    "from albumentations.pytorch import ToTensorV2\n",
    "\n",
    "import matplotlib.pyplot as plt\n",
    "\n",
    "import torch.nn as nn \n",
    "from torch.nn.utils import parameters_to_vector\n",
    "import torch.optim as optim\n",
    "\n",
    "import torchmetrics\n",
    "\n",
    "import cv2\n",
    "\n",
    "import onnx\n",
    "import onnxruntime as ort"
   ]
  },
  {
   "cell_type": "markdown",
   "id": "50a193aa-f04a-4765-b97c-a00dda718d26",
   "metadata": {},
   "source": [
    "# Logger"
   ]
  },
  {
   "cell_type": "code",
   "execution_count": 2,
   "id": "5cff5d8b-d094-4fb0-b7ab-f1ddcc9d73c8",
   "metadata": {},
   "outputs": [],
   "source": [
    "log_path = 'inference/'\n",
    "\n",
    "logger = logging.getLogger(\"GonLogger\")\n",
    "logger.propagate = False\n",
    "logger.setLevel(logging.INFO)\n",
    "file_handler = logging.FileHandler(log_path + 'logfile.log')\n",
    "formatter = logging.Formatter('%(message)s')\n",
    "file_handler.setFormatter(formatter)\n",
    "\n",
    "# add file handler to logger\n",
    "logger.addHandler(file_handler)\n",
    "\n",
    "logger.info('BED Classifier XS Tiny. Neural Compression Quantization INT8 Model. ONNX Inference')"
   ]
  },
  {
   "cell_type": "markdown",
   "id": "040fde2e-24fd-4df3-b414-a88934dc307c",
   "metadata": {},
   "source": [
    "# Config"
   ]
  },
  {
   "cell_type": "code",
   "execution_count": 3,
   "id": "6a6f2db0-f9ac-4bbb-9958-5e2f99107abd",
   "metadata": {},
   "outputs": [],
   "source": [
    "CLASSES = [\"smoke\", \"fire\"]\n",
    "N_CLASSES = len(CLASSES)\n",
    "\n",
    "IMG_DIM = {'W':224, 'H':224} # (W, H)\n",
    "IMG_H = IMG_DIM['H']\n",
    "IMG_W = IMG_DIM['W']"
   ]
  },
  {
   "cell_type": "markdown",
   "id": "5abdf4ee-a575-49c0-8583-2840a9303761",
   "metadata": {},
   "source": [
    "# DFire Dataset"
   ]
  },
  {
   "cell_type": "code",
   "execution_count": 4,
   "id": "f4e6a42c-9bc0-4417-8374-adb5d3c9ce36",
   "metadata": {},
   "outputs": [],
   "source": [
    "class DFireDataset(Dataset):\n",
    "    '''\n",
    "    Creates a Pytorch Dataset to train the Yolov1 Network.\n",
    "    Encodes labels to match the format [xcell, ycell, w, h, confidence, class_0 (smoke), class_1 (fire)]\n",
    "        - Final encoding format is: [xcell, ycell, w, h, conf=1, smoke?, fire?]\n",
    "\n",
    "    Discard images when there are more than 1 object in the same cell\n",
    "    \n",
    "    Arguments:\n",
    "        - img_h:            image height\n",
    "        - img_w:            image width\n",
    "        - img_dir:          path to images folder\n",
    "        - label_dir:        path to labels folder\n",
    "        - num_classes:      number of classes\n",
    "        - transform:        transformation applied to input images -> Albumentations\n",
    "        - target_transform: transformation applied to labels -> nothing by default\n",
    "\n",
    "    Return:\n",
    "        - img:              1 image of the dataset\n",
    "        - target:           corresponding label encoded: [smoke, fire]\n",
    "    '''\n",
    "\n",
    "    def __init__(self, img_h, img_w, img_dir, label_dir, num_classes,\n",
    "                 ds_len,\n",
    "                 transform=None, target_transform=None):\n",
    "        self.img_h = img_h\n",
    "        self.img_w = img_w\n",
    "        self.img_dir = img_dir\n",
    "        self.label_dir = label_dir\n",
    "        self.num_classes = num_classes\n",
    "        self.ds_len = ds_len\n",
    "        self.transform = transform\n",
    "        self.target_transform = target_transform\n",
    "        \n",
    "        self.except_transform = A.Compose([\n",
    "                                    A.Resize(self.img_h, self.img_w, p=1),\n",
    "                                    ToTensorV2(p=1),\n",
    "                                    ]\n",
    "                                )\n",
    "\n",
    "        self.labels_list = sorted(\n",
    "            [\n",
    "                os.path.join(self.label_dir, file_name)\n",
    "                for file_name in os.listdir(self.label_dir)\n",
    "                if file_name.endswith(\".txt\")\n",
    "            ]\n",
    "        )\n",
    "    \n",
    "        if ds_len is not None:\n",
    "            random.seed(123)\n",
    "            random.shuffle(self.labels_list)\n",
    "            self.images_path, self.labels = self.__build_ds__(self.labels_list[:self.ds_len])\n",
    "            self.num_samples = len(self.labels_list[:self.ds_len])\n",
    "        else:\n",
    "            self.images_path, self.labels = self.__build_ds__(self.labels_list)\n",
    "            self.num_samples = len(self.labels_list)\n",
    "\n",
    "    def __len__(self):\n",
    "        return self.num_samples   \n",
    "\n",
    "    def __build_ds__(self, labels_list):\n",
    "        labels = []\n",
    "        images = []\n",
    "        wrong_imgs = 0\n",
    "        empty = 0\n",
    "        only_smoke = 0\n",
    "        only_fire = 0\n",
    "        smoke_fire = 0\n",
    "                \n",
    "        for label in labels_list:\n",
    "            fname = Path(label).stem\n",
    "            image_path = self.img_dir + fname + '.jpg'   \n",
    "            #print(fname, image_path)\n",
    "                                   \n",
    "            if cv2.imread(image_path) is None:\n",
    "                print(f'{image_path} cannot be read by cv2 -> removed')\n",
    "                wrong_imgs += 1\n",
    "            \n",
    "            else:\n",
    "                \n",
    "                label_array = np.zeros((self.num_classes))\n",
    "            \n",
    "                with open(label) as f:\n",
    "                    lines = f.readlines()\n",
    "                       \n",
    "                    for line in lines:\n",
    "                        class_id, _, _, _, _ = line.strip().split()\n",
    "                        class_id = int(class_id)\n",
    "                        if np.array_equal(label_array, np.array([1, 1])):\n",
    "                            break\n",
    "                        else:\n",
    "                            label_array[class_id] = 1.\n",
    "\n",
    "                    if np.array_equal(label_array, np.array([1, 1])):\n",
    "                        smoke_fire += 1\n",
    "                    elif np.array_equal(label_array, np.array([0, 1])):\n",
    "                        only_fire += 1\n",
    "                    elif np.array_equal(label_array, np.array([1, 0])):\n",
    "                        only_smoke += 1\n",
    "                    elif np.array_equal(label_array, np.array([0, 0])):\n",
    "                        empty += 1\n",
    "                    else:\n",
    "                        print(\"Wrong label in DFire dataset\")\n",
    "                        logger.info(\"Wrong label in DFire dataset\")\n",
    "                        \n",
    "                    labels.append(label_array)\n",
    "                    images.append(image_path)\n",
    "        \n",
    "        print(f'DFire Removed wrong images: {wrong_imgs}')\n",
    "        logger.info(f'DFire Removed wrong images: {wrong_imgs}')\n",
    "        print(f'DFire empty images: {empty}')\n",
    "        logger.info(f'DFire empty images: {empty}')\n",
    "        print(f'DFire only smoke images: {only_smoke}')\n",
    "        logger.info(f'DFire only smoke images: {only_smoke}')\n",
    "        print(f'DFire only fire images: {only_fire}')\n",
    "        logger.info(f'DFire only fire images: {only_fire}')\n",
    "        print(f'DFire smoke and fire images: {smoke_fire}')\n",
    "        logger.info(f'DFire smoke and fire images: {smoke_fire}')\n",
    "\n",
    "        labels_np = np.array(labels)\n",
    "        labels_tensor = torch.tensor(labels_np, dtype=torch.float32)\n",
    "        images_array = np.array(images)\n",
    "        \n",
    "        return images_array, labels_tensor\n",
    "\n",
    "    def __getitem__(self, index):\n",
    "\n",
    "        # Image processing\n",
    "        img_file = self.images_path[index]\n",
    "        img = cv2.imread(img_file)\n",
    "        img = cv2.cvtColor(img, cv2.COLOR_BGR2RGB)   \n",
    "\n",
    "        # Labels processing\n",
    "        label = self.labels[index]\n",
    "        \n",
    "        # Data Augmentation\n",
    "        if self.transform is not None:\n",
    "            try:\n",
    "                aug = self.transform(image=img)\n",
    "                img = aug['image'] / 255.0\n",
    "            except:\n",
    "                #print(f'Error trying to augment image {img_file}')\n",
    "                aug = self.except_transform(image=img)\n",
    "                img = aug['image'] / 255.0\n",
    "        \n",
    "        return img, label"
   ]
  },
  {
   "cell_type": "markdown",
   "id": "678a8669-fdd9-4b35-b179-77abb4ac33d6",
   "metadata": {},
   "source": [
    "# Images and Folders"
   ]
  },
  {
   "cell_type": "code",
   "execution_count": 5,
   "id": "2f530bb0-726b-4e1d-9b28-6dd6fc5c24be",
   "metadata": {},
   "outputs": [
    {
     "name": "stdout",
     "output_type": "stream",
     "text": [
      "Val dir: ['labels', '.ipynb_checkpoints', 'images']\n"
     ]
    }
   ],
   "source": [
    "ds_dir = '../../../datasets/ds2fire/dfire_yolo/'\n",
    "\n",
    "#val_dir = ds_dir + 'test/'\n",
    "\n",
    "val_dir = ds_dir + 'test/'\n",
    "val_imgs = val_dir + 'images/'\n",
    "val_labels = val_dir + 'labels/'\n",
    "\n",
    "print(f'Val dir: {os.listdir(val_dir)}')"
   ]
  },
  {
   "cell_type": "markdown",
   "id": "9cd7e3a9-bcb6-430d-bdba-36b6b9f42155",
   "metadata": {},
   "source": [
    "# Hyperparameters"
   ]
  },
  {
   "cell_type": "code",
   "execution_count": 42,
   "id": "ab6f210c-b207-4347-bbf5-484069172ef6",
   "metadata": {},
   "outputs": [],
   "source": [
    "''' ============================\n",
    "    Hyperparameters and More\n",
    "============================ '''\n",
    "\n",
    "MODEL = \"BED\"\n",
    "\n",
    "#DEVICE = \"cuda\" if torch.cuda.is_available() else \"cpu\"\n",
    "BATCH_SIZE = 64 \n",
    "NUM_WORKERS = 8\n",
    "PIN_MEMORY = True\n",
    "LOAD_MODEL = True\n",
    "\n",
    "VAL_IMG_DIR = val_imgs\n",
    "VAL_LABEL_DIR = val_labels\n",
    "\n",
    "DS_LEN = None"
   ]
  },
  {
   "cell_type": "markdown",
   "id": "9bc34208-50f5-45fb-8799-fff607f80fdc",
   "metadata": {},
   "source": [
    "# Dataset Setup"
   ]
  },
  {
   "cell_type": "code",
   "execution_count": 43,
   "id": "f6e675b8-798f-48b1-9568-d3a3a22c53fb",
   "metadata": {
    "tags": []
   },
   "outputs": [
    {
     "name": "stdout",
     "output_type": "stream",
     "text": [
      "\n",
      "TEST DFire dataset\n",
      "DFire Removed wrong images: 0\n",
      "DFire empty images: 2005\n",
      "DFire only smoke images: 1186\n",
      "DFire only fire images: 220\n",
      "DFire smoke and fire images: 895\n",
      "Test dataset len: 4306\n"
     ]
    }
   ],
   "source": [
    "# VALIDATION DATASET\n",
    "val_transform = A.Compose([\n",
    "    A.Resize(IMG_H, IMG_W, p=1),\n",
    "    ToTensorV2(p=1),\n",
    "    ]\n",
    ")\n",
    "\n",
    "print(\"\\nTEST DFire dataset\")\n",
    "logger.info(\"\\nTEST DFire dataset\")\n",
    "val_dataset = DFireDataset(img_h = IMG_H,\n",
    "                           img_w = IMG_W,\n",
    "                           img_dir = VAL_IMG_DIR,\n",
    "                           label_dir = VAL_LABEL_DIR,\n",
    "                           num_classes = N_CLASSES,\n",
    "                           ds_len = DS_LEN,\n",
    "                           transform=val_transform)\n",
    "\n",
    "print(f'Test dataset len: {len(val_dataset)}')\n",
    "logger.info(f'Test dataset len: {len(val_dataset)}')\n",
    "\n",
    "\n",
    "# LOADERS\n",
    "val_loader = DataLoader(dataset=val_dataset,\n",
    "                        batch_size=BATCH_SIZE,\n",
    "                        num_workers=NUM_WORKERS,\n",
    "                        pin_memory=PIN_MEMORY,\n",
    "                        shuffle=False,\n",
    "                        drop_last=True)"
   ]
  },
  {
   "cell_type": "markdown",
   "id": "13daf548-cfcf-4953-a023-06f2ed74ee09",
   "metadata": {},
   "source": [
    "# Model Load"
   ]
  },
  {
   "cell_type": "code",
   "execution_count": 8,
   "id": "6dd18686-e1a8-4772-a35f-ba136ca7bc32",
   "metadata": {
    "tags": []
   },
   "outputs": [],
   "source": [
    "onnx_model = onnx.load(\"int8-model.onnx\")"
   ]
  },
  {
   "cell_type": "code",
   "execution_count": 9,
   "id": "620d5814-223c-40aa-8163-c02ceaca63b8",
   "metadata": {
    "tags": []
   },
   "outputs": [],
   "source": [
    "onnx.checker.check_model(onnx_model)"
   ]
  },
  {
   "cell_type": "markdown",
   "id": "d545d1ce-e7a0-4654-ad4f-e9efb0f18d7e",
   "metadata": {},
   "source": [
    "# Inference 1 Picture"
   ]
  },
  {
   "cell_type": "code",
   "execution_count": 16,
   "id": "dd7682b3-6c59-40c3-ae74-912b5ad3c15c",
   "metadata": {
    "tags": []
   },
   "outputs": [],
   "source": [
    "ort_sess = ort.InferenceSession('int8-model.onnx')"
   ]
  },
  {
   "cell_type": "code",
   "execution_count": 30,
   "id": "52e31940-b70b-4817-8ece-4d7f0c71929e",
   "metadata": {
    "tags": []
   },
   "outputs": [
    {
     "name": "stdout",
     "output_type": "stream",
     "text": [
      "torch.Size([4, 3, 224, 224])\n"
     ]
    }
   ],
   "source": [
    "for img, label in val_loader:\n",
    "    global pic\n",
    "    print(img.shape)\n",
    "    pic = img\n",
    "    break"
   ]
  },
  {
   "cell_type": "code",
   "execution_count": 32,
   "id": "1f937351-5eae-41df-96e3-fd6264d80703",
   "metadata": {
    "tags": []
   },
   "outputs": [
    {
     "data": {
      "text/plain": [
       "<matplotlib.image.AxesImage at 0x7f0c0c5be140>"
      ]
     },
     "execution_count": 32,
     "metadata": {},
     "output_type": "execute_result"
    },
    {
     "data": {
      "image/png": "[encoded data removed]",
      "text/plain": [
       "<Figure size 640x480 with 1 Axes>"
      ]
     },
     "metadata": {},
     "output_type": "display_data"
    }
   ],
   "source": [
    "plt.imshow(pic[3].squeeze().permute(1, 2, 0))"
   ]
  },
  {
   "cell_type": "code",
   "execution_count": 26,
   "id": "af3e04ee-4e69-4f6a-bd54-46ea8a457fc0",
   "metadata": {
    "tags": []
   },
   "outputs": [],
   "source": [
    "outputs = ort_sess.run(None, {'input': pic.numpy()})"
   ]
  },
  {
   "cell_type": "code",
   "execution_count": 27,
   "id": "2cedd43f-1a9f-4618-be2a-e8b242c53d50",
   "metadata": {
    "tags": []
   },
   "outputs": [
    {
     "name": "stdout",
     "output_type": "stream",
     "text": [
      "[array([[ -0.92927253,   2.7878177 ],\n",
      "       [ -7.6200347 , -10.407852  ],\n",
      "       [ -5.76149   , -10.036143  ],\n",
      "       [ -3.7170901 ,  -4.274654  ]], dtype=float32)]\n"
     ]
    }
   ],
   "source": [
    "print(outputs)"
   ]
  },
  {
   "cell_type": "markdown",
   "id": "d6d12061-6200-4bcb-9d2e-b966febd0d87",
   "metadata": {},
   "source": [
    "# All Metrics Evaluation"
   ]
  },
  {
   "cell_type": "code",
   "execution_count": 33,
   "id": "589762f4-0395-4eb0-9a76-10f44e9d7385",
   "metadata": {
    "tags": []
   },
   "outputs": [],
   "source": [
    "precision_metric = torchmetrics.classification.MultilabelPrecision(num_labels = N_CLASSES, \n",
    "                                                                   threshold = 0.5, \n",
    "                                                                   average = None).to('cpu')\n",
    "recall_metric = torchmetrics.classification.MultilabelRecall(num_labels = N_CLASSES, \n",
    "                                                             threshold = 0.5, \n",
    "                                                             average = None).to('cpu')\n",
    "accuracy_metric = torchmetrics.classification.MultilabelAccuracy(num_labels = N_CLASSES, \n",
    "                                                                 threshold = 0.5, \n",
    "                                                                 average = None).to('cpu')\n",
    "f1_metric = torchmetrics.classification.MultilabelF1Score(num_labels = N_CLASSES, \n",
    "                                                          threshold = 0.5, \n",
    "                                                          average = None).to('cpu')"
   ]
  },
  {
   "cell_type": "code",
   "execution_count": 40,
   "id": "3844e56a-cf94-4e5b-ae77-367a59d3d36b",
   "metadata": {
    "tags": []
   },
   "outputs": [],
   "source": [
    "def eval_all_metrics():\n",
    "               \n",
    "    for image, label in val_loader:\n",
    "        output = ort_sess.run(None, {'input': image.numpy()})\n",
    "        output = torch.tensor(np.array(output[0]))\n",
    "        precision_metric.update(output, label)\n",
    "        recall_metric.update(output, label)\n",
    "        accuracy_metric.update(output, label)\n",
    "        f1_metric.update(output, label)\n",
    "\n",
    "    pre_res = precision_metric.compute()\n",
    "    rec_res = recall_metric.compute()\n",
    "    acc_res = accuracy_metric.compute()\n",
    "    f1_res = f1_metric.compute()\n",
    "\n",
    "    precision_metric.reset()\n",
    "    recall_metric.reset()\n",
    "    accuracy_metric.reset()\n",
    "    f1_metric.reset()\n",
    "        \n",
    "    return {\n",
    "        'Accuracy': acc_res,\n",
    "        'Precision': pre_res,\n",
    "        'Recall': rec_res,\n",
    "        'F1-score': f1_res\n",
    "    }   "
   ]
  },
  {
   "cell_type": "code",
   "execution_count": 45,
   "id": "6bc9dad8-e132-480f-9819-3a321cc03a34",
   "metadata": {
    "tags": []
   },
   "outputs": [],
   "source": [
    "all_metrics = eval_all_metrics()"
   ]
  },
  {
   "cell_type": "code",
   "execution_count": 49,
   "id": "9335f19c-5c01-4b9d-82c7-f56475b8a11a",
   "metadata": {
    "tags": []
   },
   "outputs": [
    {
     "name": "stdout",
     "output_type": "stream",
     "text": [
      "{'Accuracy': tensor([0.9065, 0.9536]), 'Precision': tensor([0.9223, 0.9505]), 'Recall': tensor([0.8798, 0.8658]), 'F1-score': tensor([0.9005, 0.9062])}\n"
     ]
    }
   ],
   "source": [
    "print(all_metrics)"
   ]
  },
  {
   "cell_type": "code",
   "execution_count": 53,
   "id": "2bf9db36-ec8c-4931-b147-3c0cefdc2708",
   "metadata": {
    "tags": []
   },
   "outputs": [
    {
     "data": {
      "text/plain": [
       "array([[90.65, 92.23, 87.98, 90.05],\n",
       "       [95.36, 95.05, 86.58, 90.62]])"
      ]
     },
     "execution_count": 53,
     "metadata": {},
     "output_type": "execute_result"
    }
   ],
   "source": [
    "metrics_data = np.zeros((2, 4))\n",
    "for i, (k, v) in enumerate(all_metrics.items()):\n",
    "    metrics_data[0, i] = np.round(100*v[0].item(), decimals=2)\n",
    "    metrics_data[1, i] = np.round(100*v[1].item(), decimals=2)\n",
    "metrics_data"
   ]
  },
  {
   "cell_type": "code",
   "execution_count": 57,
   "id": "c726e918-90b8-425a-8783-f4fd1dbe701e",
   "metadata": {
    "tags": []
   },
   "outputs": [
    {
     "data": {
      "text/html": [
       "<div>\n",
       "<style scoped>\n",
       "    .dataframe tbody tr th:only-of-type {\n",
       "        vertical-align: middle;\n",
       "    }\n",
       "\n",
       "    .dataframe tbody tr th {\n",
       "        vertical-align: top;\n",
       "    }\n",
       "\n",
       "    .dataframe thead th {\n",
       "        text-align: right;\n",
       "    }\n",
       "</style>\n",
       "<table border=\"1\" class=\"dataframe\">\n",
       "  <thead>\n",
       "    <tr style=\"text-align: right;\">\n",
       "      <th></th>\n",
       "      <th>Accuracy</th>\n",
       "      <th>Precision</th>\n",
       "      <th>Recall</th>\n",
       "      <th>F1-Score</th>\n",
       "    </tr>\n",
       "  </thead>\n",
       "  <tbody>\n",
       "    <tr>\n",
       "      <th>Smoke</th>\n",
       "      <td>90.65</td>\n",
       "      <td>92.23</td>\n",
       "      <td>87.98</td>\n",
       "      <td>90.05</td>\n",
       "    </tr>\n",
       "    <tr>\n",
       "      <th>Fire</th>\n",
       "      <td>95.36</td>\n",
       "      <td>95.05</td>\n",
       "      <td>86.58</td>\n",
       "      <td>90.62</td>\n",
       "    </tr>\n",
       "  </tbody>\n",
       "</table>\n",
       "</div>"
      ],
      "text/plain": [
       "       Accuracy  Precision  Recall  F1-Score\n",
       "Smoke     90.65      92.23   87.98     90.05\n",
       "Fire      95.36      95.05   86.58     90.62"
      ]
     },
     "execution_count": 57,
     "metadata": {},
     "output_type": "execute_result"
    }
   ],
   "source": [
    "index = ['Smoke', 'Fire']\n",
    "cols = ['Accuracy', 'Precision', 'Recall', 'F1-Score']\n",
    "df = pd.DataFrame(metrics_data, index = index, columns = cols)\n",
    "df"
   ]
  },
  {
   "cell_type": "code",
   "execution_count": null,
   "id": "87ccd8ad-ee6b-4c32-898a-332f7cc60b8f",
   "metadata": {},
   "outputs": [],
   "source": []
  }
 ],
 "metadata": {
  "kernelspec": {
   "display_name": "Python 3 (ipykernel)",
   "language": "python",
   "name": "python3"
  },
  "language_info": {
   "codemirror_mode": {
    "name": "ipython",
    "version": 3
   },
   "file_extension": ".py",
   "mimetype": "text/x-python",
   "name": "python",
   "nbconvert_exporter": "python",
   "pygments_lexer": "ipython3",
   "version": "3.10.9"
  }
 },
 "nbformat": 4,
 "nbformat_minor": 5
}
