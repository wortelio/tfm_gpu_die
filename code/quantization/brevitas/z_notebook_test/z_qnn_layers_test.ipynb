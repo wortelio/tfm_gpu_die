{
 "cells": [
  {
   "cell_type": "code",
   "execution_count": 1,
   "id": "64b16d25-13fb-416b-a015-da3774df9fa6",
   "metadata": {},
   "outputs": [],
   "source": [
    "import brevitas.nn as qnn\n",
    "from brevitas.quant import Int8WeightPerTensorFloat, Uint8ActPerTensorFloat, Int8ActPerTensorFloat\n",
    "from brevitas.core.scaling import ConstScaling\n",
    "from brevitas.inject.enum import ScalingImplType, RestrictValueType, BitWidthImplType\n",
    "from brevitas.quant import Int8WeightPerTensorFixedPoint, Uint8ActPerTensorFixedPoint, Int8ActPerTensorFixedPoint\n",
    "from brevitas.quant import Int8BiasPerTensorFixedPointInternalScaling\n",
    "from brevitas.quant import Int8WeightPerChannelFixedPoint\n",
    "from brevitas.quant import Int32Bias, Int16Bias, IntBias\n",
    "\n",
    "import torch"
   ]
  },
  {
   "cell_type": "markdown",
   "id": "8cc3f404-4ad3-42de-a558-96658acdb807",
   "metadata": {},
   "source": [
    "# Two QuantIdentity\n",
    "\n",
    "- First: Float scale\n",
    "- Second: Fixed Point Scale\n",
    "\n",
    "Input belongs to [0, 256] / 256.0"
   ]
  },
  {
   "cell_type": "code",
   "execution_count": null,
   "id": "2a6856d3-a294-4bba-94a8-687d234a0536",
   "metadata": {},
   "outputs": [],
   "source": [
    "torch.manual_seed(123)\n",
    "\n",
    "q_id1_fp = qnn.QuantIdentity(act_quant=Uint8ActPerTensorFloat)\n",
    "q_id1_fixed = qnn.QuantIdentity(\n",
    "                    act_quant=Uint8ActPerTensorFixedPoint,\n",
    "                    return_quant_tensor=True)"
   ]
  },
  {
   "cell_type": "code",
   "execution_count": null,
   "id": "c9b2ac7e-43c1-4ae0-8f1d-0e5f15d7bc29",
   "metadata": {},
   "outputs": [],
   "source": [
    "inp1 = torch.randint(0, 256, (1, 3, 2, 2))\n",
    "inp1 = inp1 / 256\n",
    "inp1"
   ]
  },
  {
   "cell_type": "code",
   "execution_count": null,
   "id": "440bcdcf-7b3b-4630-a5d9-e2178c0ba55b",
   "metadata": {},
   "outputs": [],
   "source": [
    "q_out1_fp = q_id1_fp(inp1)\n",
    "q_out1_fixed = q_id1_fixed(inp1)\n",
    "\n",
    "print(f'Quant Identity Float\\n{q_out1_fp}')\n",
    "print(f'Quant Identity Fixed Point\\n{q_out1_fixed}')"
   ]
  },
  {
   "cell_type": "code",
   "execution_count": null,
   "id": "f18a67d8-e1dd-46c8-a701-1a734db5235d",
   "metadata": {},
   "outputs": [],
   "source": [
    "print(f'Float scale: {q_id1_fp.act_quant.scale()}')\n",
    "print(f'Float zero: {q_id1_fp.act_quant.zero_point()}')\n",
    "print(f'Float bits: {q_id1_fp.act_quant.bit_width()}')\n",
    "\n",
    "print(f'Fixed scale: {q_id1_fixed.act_quant.scale()}')\n",
    "print(f'Fixed zero: {q_id1_fixed.act_quant.zero_point()}')\n",
    "print(f'Fixed bits: {q_id1_fixed.act_quant.bit_width()}')"
   ]
  },
  {
   "cell_type": "markdown",
   "id": "d02565c5-735f-4e11-9158-19064eb7adef",
   "metadata": {},
   "source": [
    "# QuantIdentity with Constant Scale\n",
    "\n",
    "It seems scaling_init refers to dynamic range, although docs say it is a constant scale factor"
   ]
  },
  {
   "cell_type": "code",
   "execution_count": null,
   "id": "fe3a1649-0c1d-4b18-b329-ad1f7c55eedd",
   "metadata": {},
   "outputs": [],
   "source": [
    "class MyQuantId(Uint8ActPerTensorFloat):\n",
    "    bit_width=8\n",
    "    scaling_impl_type = ScalingImplType.CONST\n",
    "    restrict_value_impl = RestrictValueType.POWER_OF_TWO\n",
    "    scaling_init = 1 "
   ]
  },
  {
   "cell_type": "code",
   "execution_count": null,
   "id": "7bc054e3-3068-4d49-ba9d-a254bf741626",
   "metadata": {},
   "outputs": [],
   "source": [
    "q_id2_fp = qnn.QuantIdentity(act_quant=MyQuantId)"
   ]
  },
  {
   "cell_type": "code",
   "execution_count": null,
   "id": "d16c540c-f95b-4f93-a4d9-16ebef56fa4b",
   "metadata": {},
   "outputs": [],
   "source": [
    "print(f'Float scale: {q_id2_fp.act_quant.scale()}')\n",
    "print(f'Float zero: {q_id2_fp.act_quant.zero_point()}')\n",
    "print(f'Float bit: {q_id2_fp.act_quant.bit_width()}')"
   ]
  },
  {
   "cell_type": "code",
   "execution_count": null,
   "id": "31bb602a-ab51-45bf-9519-164593dbc998",
   "metadata": {},
   "outputs": [],
   "source": [
    "q_id3_fp = qnn.QuantIdentity(act_quant=Uint8ActPerTensorFloat, \n",
    "                          scaling_impl_type = ScalingImplType.CONST, \n",
    "                          restrict_value_impl = RestrictValueType.POWER_OF_TWO,\n",
    "                          scaling_init=1)"
   ]
  },
  {
   "cell_type": "code",
   "execution_count": null,
   "id": "c06d87ff-50ed-41ad-9d0f-3e8fd1691f10",
   "metadata": {},
   "outputs": [],
   "source": [
    "print(f'Float scale: {q_id3_fp.act_quant.scale()}')\n",
    "print(f'Float zero: {q_id3_fp.act_quant.zero_point()}')\n",
    "print(f'Float bit: {q_id3_fp.act_quant.bit_width()}')"
   ]
  },
  {
   "cell_type": "code",
   "execution_count": null,
   "id": "5f7a75d1-bc61-4720-a921-04b48f29b6a5",
   "metadata": {},
   "outputs": [],
   "source": [
    "q_id3_fixed = qnn.QuantIdentity(act_quant=Uint8ActPerTensorFixedPoint, \n",
    "                          scaling_impl_type = ScalingImplType.CONST, \n",
    "                          restrict_value_impl = RestrictValueType.POWER_OF_TWO,\n",
    "                          scaling_init=1)"
   ]
  },
  {
   "cell_type": "code",
   "execution_count": null,
   "id": "0e7f027a-7e36-4343-9e8b-7f05a9433805",
   "metadata": {},
   "outputs": [],
   "source": [
    "print(f'Fixed scale: {q_id3_fixed.act_quant.scale()}')\n",
    "print(f'Fixed zero: {q_id3_fixed.act_quant.zero_point()}')\n",
    "print(f'Fixed bit: {q_id3_fixed.act_quant.bit_width()}')"
   ]
  },
  {
   "cell_type": "code",
   "execution_count": null,
   "id": "98f23a4d-ff33-4fe1-aa63-517a2c0ca010",
   "metadata": {},
   "outputs": [],
   "source": [
    "class MyQuantIdFixed(Uint8ActPerTensorFixedPoint):\n",
    "    bit_width=4\n",
    "    scaling_impl_type = ScalingImplType.CONST\n",
    "    restrict_value_impl = RestrictValueType.POWER_OF_TWO\n",
    "    scaling_init = 5 "
   ]
  },
  {
   "cell_type": "code",
   "execution_count": null,
   "id": "de3fb8da-3f6d-467f-bf6a-8a4ef6e768d2",
   "metadata": {},
   "outputs": [],
   "source": [
    "q_id4_fixed = qnn.QuantIdentity(MyQuantIdFixed)"
   ]
  },
  {
   "cell_type": "code",
   "execution_count": null,
   "id": "b0ca43bb-e8ff-41ff-8aaf-755d3ce3cd7c",
   "metadata": {},
   "outputs": [],
   "source": [
    "print(f'Fixed scale: {q_id4_fixed.act_quant.scale()}')\n",
    "print(f'Fixed zero: {q_id4_fixed.act_quant.zero_point()}')\n",
    "print(f'Fixed bit: {q_id4_fixed.act_quant.bit_width()}')"
   ]
  },
  {
   "cell_type": "markdown",
   "id": "bdfd2bc5-9833-4001-8c2e-57d9e073c8f6",
   "metadata": {},
   "source": [
    "# Conv2d and Bias Test\n",
    "\n",
    "Esto no funciona, porque IntxxBias calcula la escala automáticamente, mirando la escala de la entrada y de los pesos"
   ]
  },
  {
   "cell_type": "code",
   "execution_count": null,
   "id": "33ca9455-3b9b-4286-9aea-9d4b91300776",
   "metadata": {},
   "outputs": [],
   "source": [
    "class MyBias(Int16Bias):\n",
    "    bit_witdh=16\n",
    "    restrict_value_impl = RestrictValueType.POWER_OF_TWO"
   ]
  },
  {
   "cell_type": "code",
   "execution_count": null,
   "id": "2dfa7542-034f-4a86-b2c2-db5574accb0c",
   "metadata": {},
   "outputs": [],
   "source": [
    "q_conv = qnn.QuantConv2d(\n",
    "    3, 3, 1,\n",
    "    weight_quant=Int8WeightPerTensorFixedPoint,\n",
    "    bias=True,\n",
    "    bias_quant=MyBias\n",
    ")"
   ]
  },
  {
   "cell_type": "code",
   "execution_count": null,
   "id": "4a5c521f-95ef-4aa2-a353-7db7b1f63fff",
   "metadata": {},
   "outputs": [],
   "source": [
    "q_out_conv = q_conv(q_out1_fixed)"
   ]
  },
  {
   "cell_type": "code",
   "execution_count": null,
   "id": "80ba5fee-48df-4543-8f5e-1e1245a569ad",
   "metadata": {},
   "outputs": [],
   "source": [
    "q_out_conv"
   ]
  },
  {
   "cell_type": "code",
   "execution_count": null,
   "id": "a149ffde-e644-43c6-aec7-83c5ab6948e0",
   "metadata": {},
   "outputs": [],
   "source": [
    "print(f'Conv Weights Scale: {q_conv.weight_quant.scale()}')\n",
    "print(f'Conv Weights Zero: {q_conv.weight_quant.zero_point()}')\n",
    "print(f'Conv Weights bit width: {q_conv.weight_quant.bit_width()}')"
   ]
  },
  {
   "cell_type": "code",
   "execution_count": null,
   "id": "4bd2d315-babb-4ce4-90de-b6c64bbd9af5",
   "metadata": {},
   "outputs": [],
   "source": [
    "print(f'Conv Bias: {q_conv.bias}')\n",
    "print(f'Conv Bias Scale: {q_conv.bias_quant.scale()}')\n",
    "print(f'Conv Bias zero: {q_conv.bias_quant.zero_point()}')\n",
    "print(f'Conv Bias bit width: {q_conv.bias_quant.bit_width()}')"
   ]
  },
  {
   "cell_type": "markdown",
   "id": "8593db8e-b06f-4f68-9dbe-8b2aab0df710",
   "metadata": {},
   "source": [
    "### Bias with Internal Scaling"
   ]
  },
  {
   "cell_type": "code",
   "execution_count": null,
   "id": "5bf5164d-6293-40b4-b09b-07f573a82f55",
   "metadata": {},
   "outputs": [],
   "source": [
    "q_conv_2 = qnn.QuantConv2d(\n",
    "    3, 3, 1,\n",
    "    weight_quant=Int8WeightPerTensorFixedPoint,\n",
    "    bias=True,\n",
    "    bias_quant=Int8BiasPerTensorFixedPointInternalScaling\n",
    ")"
   ]
  },
  {
   "cell_type": "code",
   "execution_count": null,
   "id": "a78df60d-afe2-4366-8424-bcf60b30c3b7",
   "metadata": {},
   "outputs": [],
   "source": [
    "q_out_conv = q_conv_2(q_out1_fixed)"
   ]
  },
  {
   "cell_type": "code",
   "execution_count": null,
   "id": "c8b164ee-61ce-4ac0-9747-581dd3d14e16",
   "metadata": {},
   "outputs": [],
   "source": [
    "print(f'Conv Weights Scale: {q_conv_2.weight_quant.scale()}')\n",
    "print(f'Conv Weights Zero: {q_conv_2.weight_quant.zero_point()}')\n",
    "print(f'Conv Weights bit width: {q_conv_2.weight_quant.bit_width()}')"
   ]
  },
  {
   "cell_type": "code",
   "execution_count": null,
   "id": "41a40e16-f45b-4874-ab9f-b3ceabce75d2",
   "metadata": {},
   "outputs": [],
   "source": [
    "print(f'Conv Bias: {q_conv_2.bias}')\n",
    "print(f'Conv Bias Scale: {q_conv_2.bias_quant.scale()}')\n",
    "print(f'Conv Bias zero: {q_conv_2.bias_quant.zero_point()}')\n",
    "print(f'Conv Bias bit width: {q_conv_2.bias_quant.bit_width()}')"
   ]
  },
  {
   "cell_type": "markdown",
   "id": "aafb39d0-f10e-4eb3-a0c0-4008d601825a",
   "metadata": {},
   "source": [
    "# Per Channel Weights"
   ]
  },
  {
   "cell_type": "code",
   "execution_count": null,
   "id": "eb1de528-701c-4600-b615-74e1ab05e1b8",
   "metadata": {},
   "outputs": [],
   "source": [
    "class MyInt8WeightPerChannelFixedPoint(Int8WeightPerTensorFixedPoint):\n",
    "    scaling_per_output_channel = True\n",
    "    #restrict_scaling_type = RestrictValueType.POWER_OF_TWO"
   ]
  },
  {
   "cell_type": "code",
   "execution_count": null,
   "id": "0111c52d-b62b-4956-a87d-fa12a0bbfafc",
   "metadata": {},
   "outputs": [],
   "source": [
    "q_conv_3 = qnn.QuantConv2d(\n",
    "    3, 3, 1,\n",
    "    weight_quant=MyInt8WeightPerChannelFixedPoint,\n",
    "    bias=True,\n",
    "    bias_quant=Int8BiasPerTensorFixedPointInternalScaling\n",
    ")"
   ]
  },
  {
   "cell_type": "code",
   "execution_count": null,
   "id": "78fd439a-3675-4683-bced-666c00906300",
   "metadata": {},
   "outputs": [],
   "source": [
    "q_out_conv_3 = q_conv_3(q_out1_fixed)"
   ]
  },
  {
   "cell_type": "code",
   "execution_count": null,
   "id": "625aa342-8cd5-4462-831a-8b386ee52f76",
   "metadata": {},
   "outputs": [],
   "source": [
    "print(f'Conv Weights Scale: {q_conv_3.weight_quant.scale()}')\n",
    "print(f'Conv Weights Zero: {q_conv_3.weight_quant.zero_point()}')\n",
    "print(f'Conv Weights bit width: {q_conv_3.weight_quant.bit_width()}')"
   ]
  },
  {
   "cell_type": "code",
   "execution_count": null,
   "id": "12d32719-2ee8-4d79-80cc-bafaf34b43dd",
   "metadata": {},
   "outputs": [],
   "source": [
    "q_conv_4 = qnn.QuantConv2d(\n",
    "    3, 3, 1,\n",
    "    weight_quant=Int8WeightPerChannelFixedPoint,\n",
    "    bias=True,\n",
    "    bias_quant=Int8BiasPerTensorFixedPointInternalScaling\n",
    ")"
   ]
  },
  {
   "cell_type": "code",
   "execution_count": null,
   "id": "2374314e-3fae-47ab-a282-baf0aef04044",
   "metadata": {},
   "outputs": [],
   "source": [
    "q_out_conv_4 = q_conv_4(q_out1_fixed)"
   ]
  },
  {
   "cell_type": "code",
   "execution_count": null,
   "id": "cc4ee5a7-25a6-4fa7-aa0b-34eaa83cd3f0",
   "metadata": {},
   "outputs": [],
   "source": [
    "print(f'Conv Weights Scale: {q_conv_4.weight_quant.scale()}')\n",
    "print(f'Conv Weights Zero: {q_conv_4.weight_quant.zero_point()}')\n",
    "print(f'Conv Weights bit width: {q_conv_4.weight_quant.bit_width()}')"
   ]
  },
  {
   "cell_type": "markdown",
   "id": "a12f6465-fa26-4a6c-bd8f-62057142b68e",
   "metadata": {},
   "source": [
    "# Per Channel with Auto Scale Bias"
   ]
  },
  {
   "cell_type": "code",
   "execution_count": null,
   "id": "fd3b85dc-4f28-4554-9570-267a4936ed14",
   "metadata": {},
   "outputs": [],
   "source": [
    "inp_channel = torch.randint(0, 256, (1, 3, 2, 2))\n",
    "inp_channel = inp_channel / 256\n",
    "inp_channel"
   ]
  },
  {
   "cell_type": "code",
   "execution_count": null,
   "id": "e4021ff8-e1aa-4209-814f-173f79b24f50",
   "metadata": {},
   "outputs": [],
   "source": [
    "class MyQuantId2(Uint8ActPerTensorFloat):\n",
    "    bit_width=8\n",
    "    scaling_impl_type = ScalingImplType.CONST\n",
    "    restrict_value_impl = RestrictValueType.POWER_OF_TWO\n",
    "    scaling_init = 1 \n",
    "    \n",
    "q_id_fixed_channel = qnn.QuantIdentity(\n",
    "                    act_quant=MyQuantId2,\n",
    "                    return_quant_tensor=True)\n",
    "q_conv_fixed_channel = qnn.QuantConv2d(\n",
    "    3, 3, 1,\n",
    "    weight_quant=Int8WeightPerChannelFixedPoint,\n",
    "    bias=True,\n",
    "    bias_quant=Int16Bias\n",
    ")"
   ]
  },
  {
   "cell_type": "code",
   "execution_count": null,
   "id": "8a4c5c6a-5612-4037-9d44-6ae7bc0bd371",
   "metadata": {},
   "outputs": [],
   "source": [
    "q_out_channel = q_conv_fixed_channel(q_id_fixed_channel(inp_channel))"
   ]
  },
  {
   "cell_type": "code",
   "execution_count": null,
   "id": "46cbc7eb-e074-4b44-92f4-505d0d328312",
   "metadata": {},
   "outputs": [],
   "source": [
    "q_out_channel"
   ]
  },
  {
   "cell_type": "markdown",
   "id": "2392c49d-a18f-44f8-b15e-380c8a3261cd",
   "metadata": {},
   "source": [
    "### Print Weights"
   ]
  },
  {
   "cell_type": "code",
   "execution_count": null,
   "id": "5a2e879c-4984-45da-b406-de632081bd46",
   "metadata": {},
   "outputs": [],
   "source": [
    "print(f'Conv Weights Scale: {q_conv_fixed_channel.weight_quant.scale()}')\n",
    "print(f'Conv Weights Zero: {q_conv_fixed_channel.weight_quant.zero_point()}')\n",
    "print(f'Conv Weights bit width: {q_conv_fixed_channel.weight_quant.bit_width()}')"
   ]
  },
  {
   "cell_type": "code",
   "execution_count": null,
   "id": "dfd66753-6ea1-4e42-b758-d3a46babf94d",
   "metadata": {},
   "outputs": [],
   "source": [
    "print(q_conv_fixed_channel.weight_quant.scale().shape)\n",
    "print(q_conv_fixed_channel.weight_quant.scale()[2, 0, 0, 0].item())"
   ]
  },
  {
   "cell_type": "markdown",
   "id": "6c99ed4a-617c-4337-ad7c-95327d5da639",
   "metadata": {},
   "source": [
    "### Print Bias"
   ]
  },
  {
   "cell_type": "code",
   "execution_count": null,
   "id": "6ef2a2b3-da64-4591-a658-3cafa57378ea",
   "metadata": {},
   "outputs": [],
   "source": [
    "print(f'Conv Weights Scale: {q_conv_fixed_channel.bias_quant.scale()}')\n",
    "print(f'Conv Weights Zero: {q_conv_fixed_channel.bias_quant.zero_point()}')\n",
    "print(f'Conv Weights bit width: {q_conv_fixed_channel.bias_quant.bit_width()}')"
   ]
  },
  {
   "cell_type": "code",
   "execution_count": null,
   "id": "54f33d02-2bc8-45b7-a783-1bf0361fff51",
   "metadata": {},
   "outputs": [],
   "source": [
    "q_conv_fixed_channel.bias"
   ]
  },
  {
   "cell_type": "code",
   "execution_count": null,
   "id": "e42b5b73-efb5-49ee-bd61-6513c5e41dc4",
   "metadata": {},
   "outputs": [],
   "source": []
  }
 ],
 "metadata": {
  "kernelspec": {
   "display_name": "Python 3 (ipykernel)",
   "language": "python",
   "name": "python3"
  },
  "language_info": {
   "codemirror_mode": {
    "name": "ipython",
    "version": 3
   },
   "file_extension": ".py",
   "mimetype": "text/x-python",
   "name": "python",
   "nbconvert_exporter": "python",
   "pygments_lexer": "ipython3",
   "version": "3.10.9"
  }
 },
 "nbformat": 4,
 "nbformat_minor": 5
}
