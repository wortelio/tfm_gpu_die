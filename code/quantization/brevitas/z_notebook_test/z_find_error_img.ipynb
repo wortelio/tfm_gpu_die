{
 "cells": [
  {
   "cell_type": "code",
   "execution_count": 1,
   "id": "0533d72c-7215-48c5-b15a-2dd32a011afc",
   "metadata": {},
   "outputs": [],
   "source": [
    "import os\n",
    "import logging\n",
    "from pathlib import Path\n",
    "import datetime\n",
    "\n",
    "from tqdm import tqdm\n",
    "import numpy as np\n",
    "import math\n",
    "import random\n",
    "\n",
    "import torch\n",
    "from torch.utils.data import DataLoader\n",
    "\n",
    "import albumentations as A\n",
    "from albumentations.pytorch import ToTensorV2\n",
    "\n",
    "import matplotlib.pyplot as plt\n",
    "\n",
    "import cv2\n",
    "\n",
    "import config\n",
    "import dataset"
   ]
  },
  {
   "cell_type": "markdown",
   "id": "5b736506-88dc-4605-a589-5d18051b1ca5",
   "metadata": {},
   "source": [
    "# Setup Warnings as Error to catch them"
   ]
  },
  {
   "cell_type": "code",
   "execution_count": 2,
   "id": "90d8d2a2-97ad-43ab-b043-afddccdc453d",
   "metadata": {},
   "outputs": [],
   "source": [
    "import warnings\n",
    "warnings.filterwarnings(\"error\")"
   ]
  },
  {
   "cell_type": "markdown",
   "id": "3c8aa298-7f68-43f4-83f6-1e478bd35c79",
   "metadata": {},
   "source": [
    "# Load Train Dataset to catch the error"
   ]
  },
  {
   "cell_type": "code",
   "execution_count": 3,
   "id": "3daa8933-98b6-4480-8e9e-c5ad812b8b6b",
   "metadata": {},
   "outputs": [],
   "source": [
    "BATCH_SIZE = 1\n",
    "NUM_WORKERS = 1"
   ]
  },
  {
   "cell_type": "code",
   "execution_count": 4,
   "id": "39716c9c-6e8f-4ffa-a1d8-70bf184e4f86",
   "metadata": {},
   "outputs": [
    {
     "name": "stdout",
     "output_type": "stream",
     "text": [
      "\n",
      "TRAIN DFIRE dataset\n"
     ]
    },
    {
     "name": "stderr",
     "output_type": "stream",
     "text": [
      "Corrupt JPEG data: 1 extraneous bytes before marker 0xd9\n"
     ]
    },
    {
     "name": "stdout",
     "output_type": "stream",
     "text": [
      "DFire Removed wrong images: 0\n",
      "DFire empty images: 7833\n",
      "DFire only smoke images: 4680\n",
      "DFire only fire images: 943\n",
      "DFire smoke and fire images: 3763\n",
      "Train dataset len: 17219\n"
     ]
    }
   ],
   "source": [
    "train_transform = A.Compose([\n",
    "        A.HorizontalFlip(p=0.5),\n",
    "        A.OneOf([\n",
    "            A.RandomBrightnessContrast(p=0.4),\n",
    "            A.HueSaturationValue(hue_shift_limit=10, p=0.2),\n",
    "            A.Blur(blur_limit=(3,3), p=0.3),\n",
    "            A.CLAHE(clip_limit=2.0, p=0.3),\n",
    "            A.RGBShift(r_shift_limit=15, g_shift_limit=15, b_shift_limit=15, p=0.5),\n",
    "        ], p=0.9),\n",
    "        A.ShiftScaleRotate(shift_limit=0.05, scale_limit=0.05, rotate_limit=15, p=0.5),\n",
    "        A.Resize(config.IMG_H, config.IMG_W, p=1),\n",
    "        #A.Normalize(mean=(0.485, 0.456, 0.406), std=(0.229, 0.224, 0.225), p=1),\n",
    "        ToTensorV2(p=1),\n",
    "    ]\n",
    ")\n",
    "\n",
    "try:\n",
    "    # TRAIN DATASET\n",
    "    print(\"\\nTRAIN DFIRE dataset\")\n",
    "    train_dataset = dataset.DFireDataset(\n",
    "        img_h = config.IMG_H,\n",
    "        img_w = config.IMG_W,\n",
    "        img_dir = config.TRAIN_IMG_DIR,\n",
    "        label_dir = config.TRAIN_LABEL_DIR,\n",
    "        num_classes=config.N_CLASSES,\n",
    "        ds_len = config.DS_LEN,\n",
    "        transform=train_transform)\n",
    "    \n",
    "    print(f'Train dataset len: {len(train_dataset)}')\n",
    "    \n",
    "    \n",
    "    # LOADERS\n",
    "    train_loader = DataLoader(dataset=train_dataset,\n",
    "                              batch_size=BATCH_SIZE,\n",
    "                              num_workers=1,\n",
    "                              pin_memory=config.PIN_MEMORY,\n",
    "                              shuffle=True,\n",
    "                              drop_last=True)\n",
    "except RuntimeWarning:\n",
    "    raise SystemExit(\"Wrong Image Found\")"
   ]
  },
  {
   "cell_type": "markdown",
   "id": "bd552ed9-f0d7-4477-be1b-4dc464190fb7",
   "metadata": {},
   "source": [
    "# Iterate trying to find wrong image"
   ]
  },
  {
   "cell_type": "code",
   "execution_count": 5,
   "id": "30a612d6-cc12-499a-97e7-7858efb239bc",
   "metadata": {},
   "outputs": [],
   "source": [
    "# i = 0\n",
    "# try:\n",
    "#     for img, label in train_loader:\n",
    "#         i += 1    \n",
    "# except RuntimeWarning:\n",
    "#     raise SystemExit(\"Wrong Image Found\")   "
   ]
  },
  {
   "cell_type": "code",
   "execution_count": null,
   "id": "d7dd9934-71e8-4b95-a7b1-233b4c832351",
   "metadata": {},
   "outputs": [],
   "source": []
  }
 ],
 "metadata": {
  "kernelspec": {
   "display_name": "Python 3 (ipykernel)",
   "language": "python",
   "name": "python3"
  },
  "language_info": {
   "codemirror_mode": {
    "name": "ipython",
    "version": 3
   },
   "file_extension": ".py",
   "mimetype": "text/x-python",
   "name": "python",
   "nbconvert_exporter": "python",
   "pygments_lexer": "ipython3",
   "version": "3.10.9"
  }
 },
 "nbformat": 4,
 "nbformat_minor": 5
}
