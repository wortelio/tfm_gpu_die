{
 "cells": [
  {
   "cell_type": "code",
   "execution_count": 23,
   "id": "cba6f86b-976b-4011-9ce7-7624ef404d89",
   "metadata": {},
   "outputs": [],
   "source": [
    "import os\n",
    "from tqdm import tqdm\n",
    "\n",
    "import utils\n",
    "import config\n",
    "import dataset_dfire\n",
    "import albumentations as A\n",
    "from albumentations.pytorch import ToTensorV2\n",
    "from torch.utils.data import DataLoader\n",
    "import validate\n",
    "\n",
    "import numpy as np\n",
    "import torch\n",
    "import torchmetrics\n",
    "\n",
    "import cv2\n",
    "import matplotlib.pyplot as plt"
   ]
  },
  {
   "cell_type": "code",
   "execution_count": 24,
   "id": "f19697c9-984a-471a-b8a0-6bde511a2bf9",
   "metadata": {},
   "outputs": [],
   "source": [
    "import onnx\n",
    "import onnxruntime"
   ]
  },
  {
   "cell_type": "markdown",
   "id": "329b168b-544e-46ee-841a-ac7fd4db5b37",
   "metadata": {},
   "source": [
    "# Load Models"
   ]
  },
  {
   "cell_type": "markdown",
   "id": "1a2afda4-6e12-4db5-b346-7bc545d6e1db",
   "metadata": {},
   "source": [
    "### No Compression"
   ]
  },
  {
   "cell_type": "code",
   "execution_count": 25,
   "id": "a4a26088-94ab-40c0-94cf-936d931dace6",
   "metadata": {},
   "outputs": [],
   "source": [
    "model_no = onnx.load('./models/onnx/no_comp_model.onnx')\n",
    "onnx.checker.check_model(model_no)"
   ]
  },
  {
   "cell_type": "markdown",
   "id": "a3abced0-5eb9-4d67-be34-bed83db0cfb9",
   "metadata": {},
   "source": [
    "### Low Compression"
   ]
  },
  {
   "cell_type": "code",
   "execution_count": 26,
   "id": "68213439-fd4f-40d5-97b7-032e7ae8f505",
   "metadata": {},
   "outputs": [],
   "source": [
    "model_low = onnx.load('./models/onnx/low_comp_model.onnx')\n",
    "onnx.checker.check_model(model_low)"
   ]
  },
  {
   "cell_type": "markdown",
   "id": "a1d95e7e-66a2-4216-9c6e-2622639cf296",
   "metadata": {},
   "source": [
    "### Medium Compression"
   ]
  },
  {
   "cell_type": "code",
   "execution_count": 27,
   "id": "69364862-fddf-46c5-a5df-39dfa7c7dc78",
   "metadata": {},
   "outputs": [],
   "source": [
    "model_med = onnx.load('./models/onnx/med_comp_model.onnx')\n",
    "onnx.checker.check_model(model_med)"
   ]
  },
  {
   "cell_type": "markdown",
   "id": "c35722f1-8f45-4027-8769-3ea48e46dd39",
   "metadata": {},
   "source": [
    "### High Compression"
   ]
  },
  {
   "cell_type": "code",
   "execution_count": 28,
   "id": "19c3413f-485d-4d4f-bfa1-232189bf06a3",
   "metadata": {},
   "outputs": [],
   "source": [
    "model_high = onnx.load('./models/onnx/high_comp_model.onnx')\n",
    "onnx.checker.check_model(model_high)"
   ]
  },
  {
   "cell_type": "markdown",
   "id": "a271ebeb-50c8-47e7-99e0-f3f04a2eae9b",
   "metadata": {},
   "source": [
    "### FASDD No Compression"
   ]
  },
  {
   "cell_type": "code",
   "execution_count": 29,
   "id": "2ab06eb5-becf-454d-a639-b3f45f2c9079",
   "metadata": {},
   "outputs": [],
   "source": [
    "model_fasdd_no_comp = onnx.load('./models/onnx/fasdd_no_comp.onnx')\n",
    "onnx.checker.check_model(model_fasdd_no_comp)"
   ]
  },
  {
   "cell_type": "markdown",
   "id": "55312cde-319a-4789-b0ae-47e7c08e80e9",
   "metadata": {},
   "source": [
    "### FASDD Medium Compression"
   ]
  },
  {
   "cell_type": "code",
   "execution_count": 30,
   "id": "3c59929c-4825-4f6e-a2a6-a86e2ac30370",
   "metadata": {},
   "outputs": [],
   "source": [
    "model_fasdd_med = onnx.load('./models/onnx/fasdd_med.onnx')\n",
    "onnx.checker.check_model(model_fasdd_med)"
   ]
  },
  {
   "cell_type": "code",
   "execution_count": 31,
   "id": "fc0b3c42-fe84-442d-835c-826c7d4bbcab",
   "metadata": {},
   "outputs": [],
   "source": [
    "model_fasdd_med_f1mean = onnx.load('./models/onnx/fasdd_med_best_f1_mean_epoch=37.onnx')\n",
    "onnx.checker.check_model(model_fasdd_med_f1mean)"
   ]
  },
  {
   "cell_type": "markdown",
   "id": "cd121080-b78c-49a0-8d49-b6cbd2cc3c3b",
   "metadata": {},
   "source": [
    "### Original FP32 Model Trained with FASDD"
   ]
  },
  {
   "cell_type": "code",
   "execution_count": 32,
   "id": "289b9a1e-aece-4873-9399-89708a23c0c4",
   "metadata": {},
   "outputs": [],
   "source": [
    "model_fp32 = onnx.load('./models/onnx/BED_classifier__fused__dfire_fasdd.onnx')\n",
    "onnx.checker.check_model(model_fp32)"
   ]
  },
  {
   "cell_type": "markdown",
   "id": "00cd2f4f-24b4-49c2-a0ea-3b58ddef593d",
   "metadata": {},
   "source": [
    "# Dataset"
   ]
  },
  {
   "cell_type": "code",
   "execution_count": 33,
   "id": "07f07076-7bac-4bc8-aa29-34d12bf9c66d",
   "metadata": {},
   "outputs": [
    {
     "name": "stdout",
     "output_type": "stream",
     "text": [
      "\n",
      "TEST DFire dataset\n",
      "DFire Removed wrong images: 0\n",
      "DFire empty images: 2005\n",
      "DFire only smoke images: 1186\n",
      "DFire only fire images: 220\n",
      "DFire smoke and fire images: 895\n",
      "Test dataset len: 4306\n"
     ]
    }
   ],
   "source": [
    "# VALIDATION DATASET\n",
    "val_transform = A.Compose([\n",
    "    A.Resize(config.IMG_H, config.IMG_W, p=1),\n",
    "    ToTensorV2(p=1),\n",
    "    ]\n",
    ")\n",
    "\n",
    "print(\"\\nTEST DFire dataset\")\n",
    "val_dataset = dataset_dfire.DFireDataset(\n",
    "    img_h = config.IMG_H,\n",
    "    img_w = config.IMG_W,\n",
    "    img_dir = config.VAL_IMG_DIR,\n",
    "    label_dir = config.VAL_LABEL_DIR,\n",
    "    num_classes = config.N_CLASSES,\n",
    "    ds_len = config.DS_LEN,\n",
    "    transform=val_transform)\n",
    "\n",
    "print(f'Test dataset len: {len(val_dataset)}')\n",
    "\n",
    "# LOADERS\n",
    "val_loader = DataLoader(dataset=val_dataset,\n",
    "                        batch_size=config.BATCH_SIZE,\n",
    "                        num_workers=config.NUM_WORKERS,\n",
    "                        pin_memory=config.PIN_MEMORY,\n",
    "                        shuffle=False,\n",
    "                        drop_last=True)"
   ]
  },
  {
   "cell_type": "markdown",
   "id": "ec7108e0-2bbd-4106-b597-cfec81cca0f6",
   "metadata": {},
   "source": [
    "# Evaluate ONNX with F1 Mean, Smoke and Fire"
   ]
  },
  {
   "cell_type": "code",
   "execution_count": 34,
   "id": "5d667e34-8352-45f1-ada8-51feefbdf4a1",
   "metadata": {},
   "outputs": [],
   "source": [
    "precision_metric = torchmetrics.classification.MultilabelPrecision(num_labels = config.N_CLASSES, \n",
    "                                                                   threshold = 0.5, \n",
    "                                                                   average = None).to('cpu')\n",
    "recall_metric = torchmetrics.classification.MultilabelRecall(num_labels = config.N_CLASSES, \n",
    "                                                             threshold = 0.5, \n",
    "                                                             average = None).to('cpu')\n",
    "accuracy_metric = torchmetrics.classification.MultilabelAccuracy(num_labels = config.N_CLASSES, \n",
    "                                                                 threshold = 0.5, \n",
    "                                                                 average = None).to('cpu')\n",
    "f1_metric = torchmetrics.classification.MultilabelF1Score(num_labels = config.N_CLASSES, \n",
    "                                                          threshold = 0.5, \n",
    "                                                          average = None).to('cpu')\n",
    "\n",
    "f1_metric_mean = torchmetrics.classification.MultilabelF1Score(num_labels = config.N_CLASSES, \n",
    "                                                               threshold = 0.5, \n",
    "                                                               average = 'macro').to('cpu')"
   ]
  },
  {
   "cell_type": "code",
   "execution_count": 35,
   "id": "71913b22-0a62-49f5-9027-3b07ec2648ea",
   "metadata": {},
   "outputs": [],
   "source": [
    "def to_numpy(tensor):\n",
    "    return tensor.detach().cpu().numpy() if tensor.requires_grad else tensor.cpu().numpy()"
   ]
  },
  {
   "cell_type": "code",
   "execution_count": 36,
   "id": "ea734538-d03d-4fcf-a812-4642894c1778",
   "metadata": {},
   "outputs": [],
   "source": [
    "def eval_onnx(loader, model_name):\n",
    "\n",
    "    ort_session = onnxruntime.InferenceSession(model_name, providers=[\"CPUExecutionProvider\"])\n",
    "\n",
    "    precision_metric.reset()\n",
    "    recall_metric.reset()\n",
    "    accuracy_metric.reset()\n",
    "    f1_metric.reset()\n",
    "    f1_metric_mean.reset()\n",
    "    \n",
    "    loop = tqdm(loader, desc='Validating', leave=True)\n",
    "\n",
    "    for batch_idx, (img, label) in enumerate(loop):\n",
    "\n",
    "        for idx in range(config.BATCH_SIZE):\n",
    "            \n",
    "            ort_inputs = {ort_session.get_inputs()[0].name: to_numpy(img[idx].unsqueeze(dim=0))}\n",
    "            yhat = ort_session.run(None, ort_inputs)\n",
    "            yhat = np.array(yhat)\n",
    "            #yhat = torch.tensor(yhat).squeeze(dim=0)\n",
    "            yhat = torch.sigmoid(torch.tensor(yhat).squeeze(dim=0))\n",
    "            target = label[idx].unsqueeze(dim=0)\n",
    "\n",
    "            precision_metric.update(yhat, target)\n",
    "            recall_metric.update(yhat, target)\n",
    "            accuracy_metric.update(yhat, target)\n",
    "            f1_metric.update(yhat, target)\n",
    "            f1_metric_mean.update(yhat, target)\n",
    "    \n",
    "    precision = precision_metric.compute()\n",
    "    recall = recall_metric.compute()\n",
    "    accuracy = accuracy_metric.compute()\n",
    "    f1 = f1_metric.compute()\n",
    "    f1_mean = f1_metric_mean.compute()\n",
    "\n",
    "    precision_metric.reset()\n",
    "    recall_metric.reset()\n",
    "    accuracy_metric.reset()\n",
    "    f1_metric.reset()\n",
    "    f1_metric_mean.reset()\n",
    "\n",
    "    print(f'SMOKE -> Precision: {precision[0]:.4f} - Recall: {recall[0]:.4f} - Accuracy: {accuracy[0]:.4f} - F1: {f1[0]:.4f}')\n",
    "    print(f'FIRE -> Precision: {precision[1]:.4f} - Recall: {recall[1]:.4f} - Accuracy: {accuracy[1]:.4f} - F1: {f1[1]:.4f}')\n",
    "    print(f'Mean F1 Score: {f1_mean.item():.4f}')\n",
    "    \n",
    "    return (\n",
    "        {\n",
    "        'Accuracy': [accuracy[0].item(), accuracy[1].item()],\n",
    "        'Precision': [precision[0].item(), precision[1].item()],\n",
    "        'Recall': [recall[0].item(), recall[1].item()],\n",
    "        'F1': [f1[0].item(), f1[1].item()],\n",
    "        'F1 mean': f1_mean.item(),\n",
    "        }\n",
    "    )"
   ]
  },
  {
   "cell_type": "code",
   "execution_count": 37,
   "id": "1d23b7a7-750e-431d-a37d-2a58b02280b1",
   "metadata": {},
   "outputs": [
    {
     "name": "stderr",
     "output_type": "stream",
     "text": [
      "Validating: 100%|██████████████████████████████████████████████████████████████████████████| 67/67 [00:12<00:00,  5.23it/s]"
     ]
    },
    {
     "name": "stdout",
     "output_type": "stream",
     "text": [
      "SMOKE -> Precision: 0.9025 - Recall: 0.9021 - Accuracy: 0.9060 - F1: 0.9023\n",
      "FIRE -> Precision: 0.9352 - Recall: 0.9099 - Accuracy: 0.9604 - F1: 0.9224\n",
      "Mean F1 Score: 0.9123\n"
     ]
    },
    {
     "name": "stderr",
     "output_type": "stream",
     "text": [
      "\n"
     ]
    }
   ],
   "source": [
    "_ = eval_onnx(val_loader, './models/onnx/no_comp_model.onnx')"
   ]
  },
  {
   "cell_type": "code",
   "execution_count": 38,
   "id": "43105225-1997-429e-a939-c2c9ba75664d",
   "metadata": {},
   "outputs": [
    {
     "name": "stderr",
     "output_type": "stream",
     "text": [
      "Validating: 100%|██████████████████████████████████████████████████████████████████████████| 67/67 [00:10<00:00,  6.30it/s]"
     ]
    },
    {
     "name": "stdout",
     "output_type": "stream",
     "text": [
      "SMOKE -> Precision: 0.9024 - Recall: 0.9011 - Accuracy: 0.9056 - F1: 0.9018\n",
      "FIRE -> Precision: 0.9216 - Recall: 0.9324 - Accuracy: 0.9620 - F1: 0.9270\n",
      "Mean F1 Score: 0.9144\n"
     ]
    },
    {
     "name": "stderr",
     "output_type": "stream",
     "text": [
      "\n"
     ]
    }
   ],
   "source": [
    "_ = eval_onnx(val_loader, './models/onnx/low_comp_model.onnx')"
   ]
  },
  {
   "cell_type": "code",
   "execution_count": 39,
   "id": "49c1f4fe-c279-4d05-8264-518ac7ffd278",
   "metadata": {},
   "outputs": [
    {
     "name": "stderr",
     "output_type": "stream",
     "text": [
      "Validating: 100%|██████████████████████████████████████████████████████████████████████████| 67/67 [00:10<00:00,  6.53it/s]"
     ]
    },
    {
     "name": "stdout",
     "output_type": "stream",
     "text": [
      "SMOKE -> Precision: 0.9028 - Recall: 0.9001 - Accuracy: 0.9053 - F1: 0.9015\n",
      "FIRE -> Precision: 0.9346 - Recall: 0.9144 - Accuracy: 0.9613 - F1: 0.9244\n",
      "Mean F1 Score: 0.9129\n"
     ]
    },
    {
     "name": "stderr",
     "output_type": "stream",
     "text": [
      "\n"
     ]
    }
   ],
   "source": [
    "_ = eval_onnx(val_loader, './models/onnx/med_comp_model.onnx')"
   ]
  },
  {
   "cell_type": "code",
   "execution_count": 40,
   "id": "4f407f48-a962-4113-9feb-5e2feec1ecfe",
   "metadata": {},
   "outputs": [
    {
     "name": "stderr",
     "output_type": "stream",
     "text": [
      "Validating: 100%|██████████████████████████████████████████████████████████████████████████| 67/67 [00:09<00:00,  6.82it/s]"
     ]
    },
    {
     "name": "stdout",
     "output_type": "stream",
     "text": [
      "SMOKE -> Precision: 0.9081 - Recall: 0.9001 - Accuracy: 0.9081 - F1: 0.9041\n",
      "FIRE -> Precision: 0.9416 - Recall: 0.9153 - Accuracy: 0.9634 - F1: 0.9283\n",
      "Mean F1 Score: 0.9162\n"
     ]
    },
    {
     "name": "stderr",
     "output_type": "stream",
     "text": [
      "\n"
     ]
    }
   ],
   "source": [
    "_ = eval_onnx(val_loader, './models/onnx/high_comp_model.onnx')"
   ]
  },
  {
   "cell_type": "markdown",
   "id": "12d1fae1-defe-4a8f-942b-bb2a89f619cb",
   "metadata": {},
   "source": [
    "# FASDD Models Evaluation"
   ]
  },
  {
   "cell_type": "markdown",
   "id": "885a7bcb-2b0c-4f07-9736-a3f3248c03c1",
   "metadata": {},
   "source": [
    "### En este model FP32 tiene que haber algo mal, quizá del onnx\n",
    "### Evaluar con load & fuse de classifier_modules_names"
   ]
  },
  {
   "cell_type": "code",
   "execution_count": 41,
   "id": "871277dd-127a-45bb-a308-c825f84a46df",
   "metadata": {},
   "outputs": [
    {
     "name": "stdout",
     "output_type": "stream",
     "text": [
      "__________________________________ FP32 ORIGINAL MODEL __________________________________\n"
     ]
    },
    {
     "name": "stderr",
     "output_type": "stream",
     "text": [
      "Validating: 100%|██████████████████████████████████████████████████████████████████████████| 67/67 [00:34<00:00,  1.92it/s]"
     ]
    },
    {
     "name": "stdout",
     "output_type": "stream",
     "text": [
      "SMOKE -> Precision: 0.9496 - Recall: 0.5846 - Accuracy: 0.7852 - F1: 0.7237\n",
      "FIRE -> Precision: 0.9629 - Recall: 0.6081 - Accuracy: 0.8925 - F1: 0.7454\n",
      "Mean F1 Score: 0.7346\n"
     ]
    },
    {
     "name": "stderr",
     "output_type": "stream",
     "text": [
      "\n"
     ]
    }
   ],
   "source": [
    "print(\"__________________________________ FP32 ORIGINAL MODEL __________________________________\")\n",
    "_ = eval_onnx(val_loader, './models/onnx/BED_classifier__fused__dfire_fasdd.onnx')"
   ]
  },
  {
   "cell_type": "code",
   "execution_count": 42,
   "id": "abef4397-928b-450f-ae2f-c27bc85fb1e5",
   "metadata": {},
   "outputs": [
    {
     "name": "stdout",
     "output_type": "stream",
     "text": [
      "__________________________________ FASDD NO COMPRESSION __________________________________\n"
     ]
    },
    {
     "name": "stderr",
     "output_type": "stream",
     "text": [
      "Validating: 100%|██████████████████████████████████████████████████████████████████████████| 67/67 [00:12<00:00,  5.28it/s]"
     ]
    },
    {
     "name": "stdout",
     "output_type": "stream",
     "text": [
      "SMOKE -> Precision: 0.9066 - Recall: 0.8982 - Accuracy: 0.9065 - F1: 0.9024\n",
      "FIRE -> Precision: 0.9163 - Recall: 0.9270 - Accuracy: 0.9592 - F1: 0.9216\n",
      "Mean F1 Score: 0.9120\n"
     ]
    },
    {
     "name": "stderr",
     "output_type": "stream",
     "text": [
      "\n"
     ]
    }
   ],
   "source": [
    "print(\"__________________________________ FASDD NO COMPRESSION __________________________________\")\n",
    "_ = eval_onnx(val_loader, './models/onnx/fasdd_no_comp.onnx')"
   ]
  },
  {
   "cell_type": "code",
   "execution_count": 43,
   "id": "66102c8a-6594-4f39-8c53-d3650af9fad8",
   "metadata": {},
   "outputs": [
    {
     "name": "stdout",
     "output_type": "stream",
     "text": [
      "________________________________ FASDD MEDIUM COMPRESSION ________________________________\n"
     ]
    },
    {
     "name": "stderr",
     "output_type": "stream",
     "text": [
      "Validating: 100%|██████████████████████████████████████████████████████████████████████████| 67/67 [00:11<00:00,  5.70it/s]"
     ]
    },
    {
     "name": "stdout",
     "output_type": "stream",
     "text": [
      "SMOKE -> Precision: 0.9108 - Recall: 0.9011 - Accuracy: 0.9100 - F1: 0.9059\n",
      "FIRE -> Precision: 0.9221 - Recall: 0.9387 - Accuracy: 0.9636 - F1: 0.9304\n",
      "Mean F1 Score: 0.9182\n"
     ]
    },
    {
     "name": "stderr",
     "output_type": "stream",
     "text": [
      "\n"
     ]
    }
   ],
   "source": [
    "print(\"________________________________ FASDD MEDIUM COMPRESSION ________________________________\")\n",
    "_ = eval_onnx(val_loader, './models/onnx/fasdd_med.onnx')"
   ]
  },
  {
   "cell_type": "code",
   "execution_count": 44,
   "id": "7cde089a-2cde-4413-9686-5568fbf1c034",
   "metadata": {},
   "outputs": [
    {
     "name": "stdout",
     "output_type": "stream",
     "text": [
      "________________________________ FASDD MEDIUM COMPRESSION ________________________________\n",
      "________________________________ BEST F1 MEAN EPOCH 37 ________________________________\n"
     ]
    },
    {
     "name": "stderr",
     "output_type": "stream",
     "text": [
      "Validating: 100%|██████████████████████████████████████████████████████████████████████████| 67/67 [00:11<00:00,  5.87it/s]"
     ]
    },
    {
     "name": "stdout",
     "output_type": "stream",
     "text": [
      "SMOKE -> Precision: 0.8942 - Recall: 0.9050 - Accuracy: 0.9028 - F1: 0.8995\n",
      "FIRE -> Precision: 0.9314 - Recall: 0.9297 - Accuracy: 0.9641 - F1: 0.9306\n",
      "Mean F1 Score: 0.9151\n"
     ]
    },
    {
     "name": "stderr",
     "output_type": "stream",
     "text": [
      "\n"
     ]
    }
   ],
   "source": [
    "print(\"________________________________ FASDD MEDIUM COMPRESSION ________________________________\")\n",
    "print(\"________________________________ BEST F1 MEAN EPOCH 37 ________________________________\")\n",
    "_ = eval_onnx(val_loader, './models/onnx/fasdd_med_best_f1_mean_epoch=37.onnx')"
   ]
  }
 ],
 "metadata": {
  "kernelspec": {
   "display_name": "Python 3 (ipykernel)",
   "language": "python",
   "name": "python3"
  },
  "language_info": {
   "codemirror_mode": {
    "name": "ipython",
    "version": 3
   },
   "file_extension": ".py",
   "mimetype": "text/x-python",
   "name": "python",
   "nbconvert_exporter": "python",
   "pygments_lexer": "ipython3",
   "version": "3.10.9"
  }
 },
 "nbformat": 4,
 "nbformat_minor": 5
}
