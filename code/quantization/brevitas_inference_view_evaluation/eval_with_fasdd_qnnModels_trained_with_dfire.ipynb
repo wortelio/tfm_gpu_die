{
 "cells": [
  {
   "cell_type": "code",
   "execution_count": 1,
   "id": "68aba757-7806-498b-a250-e4bda5db2bbd",
   "metadata": {},
   "outputs": [],
   "source": [
    "import os\n",
    "\n",
    "import utils\n",
    "\n",
    "import models\n",
    "import models_aimet_high\n",
    "import models_aimet_medium\n",
    "import models_aimet_low\n",
    "\n",
    "import config\n",
    "import dataset\n",
    "import dataset_fasdd\n",
    "import albumentations as A\n",
    "from albumentations.pytorch import ToTensorV2\n",
    "from torch.utils.data import DataLoader\n",
    "import validate\n",
    "\n",
    "import torch\n",
    "from torchinfo import summary\n",
    "\n",
    "import cv2\n",
    "import matplotlib.pyplot as plt"
   ]
  },
  {
   "cell_type": "markdown",
   "id": "4e38bbac-de94-4092-b33f-130d00b8c92f",
   "metadata": {},
   "source": [
    "# Models"
   ]
  },
  {
   "cell_type": "markdown",
   "id": "05058347-d9f6-4d01-8d7f-c4c84c4b4ffd",
   "metadata": {},
   "source": [
    "## Model No Compression"
   ]
  },
  {
   "cell_type": "code",
   "execution_count": 2,
   "id": "ace7c319-f4ac-4826-9c4f-0cdb43dadc13",
   "metadata": {},
   "outputs": [],
   "source": [
    "model_no_comp = models.QUANT_FixedPoint_NoBN_BED_CLASSIFIER(\n",
    "    weight_bw = config.NO_COMP_WEIGHTS_BIT_WIDTH,\n",
    "    big_layers_weight_bw = config.NO_COMP_BIG_LAYERS_WEIGHTS_BIT_WIDTH,\n",
    "    act_bw = config.NO_COMP_ACTIVATIONS_BIT_WIDTH,\n",
    "    bias_bw = config.NO_COMP_BIAS_BIT_WIDTH,\n",
    "    num_classes=config.N_CLASSES).to(config.DEVICE)"
   ]
  },
  {
   "cell_type": "code",
   "execution_count": 3,
   "id": "d6a9da06-72d0-4784-8db9-bbaef8175a71",
   "metadata": {},
   "outputs": [],
   "source": [
    "model_no_comp_folder = './models/'\n",
    "model_no_comp_name = 'BED_classifier__NOCOMP__smoke__precision=0.9025__recall=0.9021__epoch=35.pt'\n",
    "model_no_comp_pt = model_no_comp_folder + model_no_comp_name"
   ]
  },
  {
   "cell_type": "code",
   "execution_count": 4,
   "id": "9b181202-2d11-48f4-b551-3bb36159cc8a",
   "metadata": {},
   "outputs": [
    {
     "name": "stdout",
     "output_type": "stream",
     "text": [
      "Loading Model. Trained during 35 epochs\n"
     ]
    },
    {
     "data": {
      "text/plain": [
       "35"
      ]
     },
     "execution_count": 4,
     "metadata": {},
     "output_type": "execute_result"
    }
   ],
   "source": [
    "utils.load_checkpoint(model_path = model_no_comp_pt, \n",
    "                      model = model_no_comp, \n",
    "                      optimizer= None, \n",
    "                      scheduler= None, \n",
    "                      device = config.DEVICE)"
   ]
  },
  {
   "cell_type": "markdown",
   "id": "55593e7c-dfc9-4be4-a154-6d3b5408f3da",
   "metadata": {},
   "source": [
    "## Model Low Compression"
   ]
  },
  {
   "cell_type": "code",
   "execution_count": 5,
   "id": "9629f029-b8a0-4563-b742-8191ee19bec1",
   "metadata": {},
   "outputs": [],
   "source": [
    "model_low_comp = models_aimet_low.QUANT_SOFT_PRUNING_AFTER_SVD_CLASSIFIER(\n",
    "    weight_bw = config.LOW_COMP_WEIGHTS_BIT_WIDTH,\n",
    "    big_layers_weight_bw = config.LOW_COMP_BIG_LAYERS_WEIGHTS_BIT_WIDTH,\n",
    "    act_bw = config.LOW_COMP_ACTIVATIONS_BIT_WIDTH,\n",
    "    bias_bw = config.LOW_COMP_BIAS_BIT_WIDTH,\n",
    "    num_classes=config.N_CLASSES).to(config.DEVICE)"
   ]
  },
  {
   "cell_type": "code",
   "execution_count": 6,
   "id": "c4383ddb-3e17-48cb-b270-7e4b683199e2",
   "metadata": {},
   "outputs": [],
   "source": [
    "model_low_comp_folder = './models/'\n",
    "model_low_comp_name = 'BED_classifier__LOWCOMP__smoke__precision=0.9024__recall=0.9011__epoch=80.pt'\n",
    "model_low_comp_pt = model_low_comp_folder + model_low_comp_name"
   ]
  },
  {
   "cell_type": "code",
   "execution_count": 7,
   "id": "96e434a8-9f13-40c2-864e-a7bd7bec98f6",
   "metadata": {},
   "outputs": [
    {
     "name": "stdout",
     "output_type": "stream",
     "text": [
      "Loading Model. Trained during 80 epochs\n"
     ]
    },
    {
     "data": {
      "text/plain": [
       "80"
      ]
     },
     "execution_count": 7,
     "metadata": {},
     "output_type": "execute_result"
    }
   ],
   "source": [
    "utils.load_checkpoint(model_path = model_low_comp_pt, \n",
    "                      model = model_low_comp, \n",
    "                      optimizer= None, \n",
    "                      scheduler= None, \n",
    "                      device = config.DEVICE)"
   ]
  },
  {
   "cell_type": "markdown",
   "id": "c82660e8-a730-4f5d-8d9a-18278079652b",
   "metadata": {},
   "source": [
    "## Model Medium Compression"
   ]
  },
  {
   "cell_type": "code",
   "execution_count": 8,
   "id": "6b1a061d-78f0-45c3-9f3b-1227852cb82e",
   "metadata": {},
   "outputs": [],
   "source": [
    "model_med_comp = models_aimet_medium.QUANT_MEDIUM_PRUNING_AFTER_SVD_CLASSIFIER(\n",
    "    weight_bw = config.MED_COMP_WEIGHTS_BIT_WIDTH,\n",
    "    big_layers_weight_bw = config.MED_COMP_BIG_LAYERS_WEIGHTS_BIT_WIDTH,\n",
    "    act_bw = config.MED_COMP_ACTIVATIONS_BIT_WIDTH,\n",
    "    bias_bw = config.MED_COMP_BIAS_BIT_WIDTH,\n",
    "    num_classes=config.N_CLASSES).to(config.DEVICE)"
   ]
  },
  {
   "cell_type": "code",
   "execution_count": 9,
   "id": "5fc997b4-ac65-493c-acb3-bcfb66b207ab",
   "metadata": {},
   "outputs": [],
   "source": [
    "model_med_comp_folder = './models/'\n",
    "model_med_comp_name = 'BED_classifier__MEDCOMP__smoke__precision=0.9028__recall=0.9001__epoch=49.pt'\n",
    "model_med_comp_pt = model_med_comp_folder + model_med_comp_name"
   ]
  },
  {
   "cell_type": "code",
   "execution_count": 10,
   "id": "457d9fd6-11c1-442b-9420-d6f8e45aefee",
   "metadata": {},
   "outputs": [
    {
     "name": "stdout",
     "output_type": "stream",
     "text": [
      "Loading Model. Trained during 49 epochs\n"
     ]
    },
    {
     "data": {
      "text/plain": [
       "49"
      ]
     },
     "execution_count": 10,
     "metadata": {},
     "output_type": "execute_result"
    }
   ],
   "source": [
    "utils.load_checkpoint(model_path = model_med_comp_pt, \n",
    "                      model = model_med_comp, \n",
    "                      optimizer= None, \n",
    "                      scheduler= None, \n",
    "                      device = config.DEVICE)"
   ]
  },
  {
   "cell_type": "markdown",
   "id": "73786e27-cdbd-46c3-871b-d0d2a358682c",
   "metadata": {},
   "source": [
    "## Model High Compression"
   ]
  },
  {
   "cell_type": "code",
   "execution_count": 11,
   "id": "9f74ef3e-6671-4e72-ad53-1d71232a3c3c",
   "metadata": {},
   "outputs": [],
   "source": [
    "model_high_comp = models_aimet_high.QUANT_PRUNING_AFTER_SVD_CLASSIFIER(\n",
    "    weight_bw = config.HIGH_COMP_WEIGHTS_BIT_WIDTH,\n",
    "    big_layers_weight_bw = config.HIGH_COMP_BIG_LAYERS_WEIGHTS_BIT_WIDTH,\n",
    "    act_bw = config.HIGH_COMP_ACTIVATIONS_BIT_WIDTH,\n",
    "    bias_bw = config.HIGH_COMP_BIAS_BIT_WIDTH,\n",
    "    num_classes=config.N_CLASSES).to(config.DEVICE)"
   ]
  },
  {
   "cell_type": "code",
   "execution_count": 12,
   "id": "49ae506c-af6f-4c13-be0c-319787107ff1",
   "metadata": {},
   "outputs": [],
   "source": [
    "model_high_comp_folder = './models/'\n",
    "model_high_comp_name = 'BED_classifier__HIGHCOMP__smoke__precision=0.9081__recall=0.9006__epoch=90.pt'\n",
    "model_high_comp_pt = model_high_comp_folder + model_high_comp_name"
   ]
  },
  {
   "cell_type": "code",
   "execution_count": 13,
   "id": "b9e61941-1934-4733-9905-a1cba585e4b5",
   "metadata": {},
   "outputs": [
    {
     "name": "stdout",
     "output_type": "stream",
     "text": [
      "Loading Model. Trained during 90 epochs\n"
     ]
    },
    {
     "data": {
      "text/plain": [
       "90"
      ]
     },
     "execution_count": 13,
     "metadata": {},
     "output_type": "execute_result"
    }
   ],
   "source": [
    "utils.load_checkpoint(model_path = model_high_comp_pt, \n",
    "                      model = model_high_comp, \n",
    "                      optimizer= None, \n",
    "                      scheduler= None, \n",
    "                      device = config.DEVICE)"
   ]
  },
  {
   "cell_type": "markdown",
   "id": "d2c9b519-c0bd-4a53-b223-996823806cab",
   "metadata": {},
   "source": [
    "# DATASETS"
   ]
  },
  {
   "cell_type": "code",
   "execution_count": 14,
   "id": "0f9d5027-58fb-40aa-806f-8d62e8b32fb3",
   "metadata": {},
   "outputs": [],
   "source": [
    "# VALIDATION DATASET\n",
    "val_transform = A.Compose([\n",
    "    A.Resize(config.IMG_H, config.IMG_W, p=1),\n",
    "    ToTensorV2(p=1),\n",
    "    ]\n",
    ")"
   ]
  },
  {
   "cell_type": "markdown",
   "id": "6ef2e45a-4bfd-47f0-8021-2481c658e37c",
   "metadata": {},
   "source": [
    "## DFire Val Dataset and Loader"
   ]
  },
  {
   "cell_type": "code",
   "execution_count": 15,
   "id": "6d1141a7-7bbb-44ae-bacf-5ddbc992280f",
   "metadata": {},
   "outputs": [
    {
     "name": "stdout",
     "output_type": "stream",
     "text": [
      "\n",
      "TEST DFire dataset\n",
      "DFire Removed wrong images: 0\n",
      "DFire empty images: 2005\n",
      "DFire only smoke images: 1186\n",
      "DFire only fire images: 220\n",
      "DFire smoke and fire images: 895\n",
      "\n",
      "Dataset len: 4306\n"
     ]
    }
   ],
   "source": [
    "print(\"\\nTEST DFire dataset\")\n",
    "val_dataset = dataset.DFireDataset(\n",
    "    img_h = config.IMG_H,\n",
    "    img_w = config.IMG_W,\n",
    "    img_dir = config.VAL_IMG_DIR,\n",
    "    label_dir = config.VAL_LABEL_DIR,\n",
    "    num_classes = config.N_CLASSES,\n",
    "    ds_len = config.DS_LEN,\n",
    "    transform=val_transform)\n",
    "\n",
    "print(f'\\nDataset len: {len(val_dataset)}')\n",
    "\n",
    "# LOADERS\n",
    "val_loader = DataLoader(dataset=val_dataset,\n",
    "                        batch_size=config.BATCH_SIZE,\n",
    "                        num_workers=config.NUM_WORKERS,\n",
    "                        pin_memory=config.PIN_MEMORY,\n",
    "                        shuffle=False,\n",
    "                        drop_last=True)"
   ]
  },
  {
   "cell_type": "markdown",
   "id": "5e3d3a33-5fd7-4d60-af74-895ff194c570",
   "metadata": {},
   "source": [
    "## FASDD UAV Dataset"
   ]
  },
  {
   "cell_type": "code",
   "execution_count": 16,
   "id": "2cf3fc01-1a04-413e-9164-a49e96ff8351",
   "metadata": {},
   "outputs": [
    {
     "name": "stdout",
     "output_type": "stream",
     "text": [
      "\n",
      "TEST FASDD UAV dataset\n",
      "DFire Removed wrong images: 0\n",
      "DFire empty images: 1997\n",
      "DFire only smoke images: 846\n",
      "DFire only fire images: 35\n",
      "DFire smoke and fire images: 1303\n",
      "\n",
      "Dataset len: 4181\n"
     ]
    }
   ],
   "source": [
    "print(\"\\nTEST FASDD UAV dataset\")\n",
    "fasdd_uav_dataset = dataset_fasdd.FASDDDataset(\n",
    "    img_h = config.IMG_H,\n",
    "    img_w = config.IMG_W,\n",
    "    imgs_dir = config.FASDD_UAV_IMGS_DIR,\n",
    "    labels_file = config.FASDD_UAV_LABELS_FILE,\n",
    "    num_classes = config.N_CLASSES,\n",
    "    ds_len = config.DS_LEN,\n",
    "    transform=val_transform)\n",
    "\n",
    "print(f'\\nDataset len: {len(fasdd_uav_dataset)}')\n",
    "\n",
    "# LOADERS\n",
    "fasdd_uav_loader = DataLoader(\n",
    "    dataset=fasdd_uav_dataset,\n",
    "    batch_size=config.BATCH_SIZE,\n",
    "    num_workers=config.NUM_WORKERS,\n",
    "    pin_memory=config.PIN_MEMORY,\n",
    "    shuffle=False,\n",
    "    drop_last=True)"
   ]
  },
  {
   "cell_type": "markdown",
   "id": "d58c974e-b79a-486c-a678-53cf12362ad2",
   "metadata": {},
   "source": [
    "## FASDD CV Dataset"
   ]
  },
  {
   "cell_type": "code",
   "execution_count": 21,
   "id": "b103a85d-cfee-41cd-9159-27c7711ac893",
   "metadata": {},
   "outputs": [
    {
     "name": "stdout",
     "output_type": "stream",
     "text": [
      "\n",
      "TEST FASDD CV dataset\n",
      "DFire Removed wrong images: 0\n",
      "DFire empty images: 6533\n",
      "DFire only smoke images: 3902\n",
      "DFire only fire images: 2091\n",
      "DFire smoke and fire images: 3358\n",
      "\n",
      "Dataset len: 15884\n"
     ]
    }
   ],
   "source": [
    "print(\"\\nTEST FASDD CV dataset\")\n",
    "fasdd_cv_dataset = dataset_fasdd.FASDDDataset(\n",
    "    img_h = config.IMG_H,\n",
    "    img_w = config.IMG_W,\n",
    "    imgs_dir = config.FASDD_CV_IMGS_DIR,\n",
    "    labels_file = config.FASDD_CV_LABELS_FILE,\n",
    "    num_classes = config.N_CLASSES,\n",
    "    ds_len = config.DS_LEN,\n",
    "    transform=val_transform)\n",
    "\n",
    "print(f'\\nDataset len: {len(fasdd_cv_dataset)}')\n",
    "\n",
    "# LOADERS\n",
    "fasdd_cv_loader = DataLoader(\n",
    "    dataset=fasdd_cv_dataset,\n",
    "    batch_size=config.BATCH_SIZE,\n",
    "    num_workers=config.NUM_WORKERS,\n",
    "    pin_memory=config.PIN_MEMORY,\n",
    "    shuffle=False,\n",
    "    drop_last=True)"
   ]
  },
  {
   "cell_type": "markdown",
   "id": "50037001-df9f-4e4c-8467-0e63efd9813f",
   "metadata": {},
   "source": [
    "# Evaluate all Models"
   ]
  },
  {
   "cell_type": "markdown",
   "id": "27f92d5e-e35f-4497-837f-1f15c69a7b01",
   "metadata": {},
   "source": [
    "## Run Evaluations with DFire Dataset"
   ]
  },
  {
   "cell_type": "code",
   "execution_count": 22,
   "id": "05593ef3-fdd1-4d8e-be18-9c17f7bac67f",
   "metadata": {},
   "outputs": [
    {
     "name": "stdout",
     "output_type": "stream",
     "text": [
      "___________________________ NO COMPRESSION MODEL ___________________________\n"
     ]
    },
    {
     "name": "stderr",
     "output_type": "stream",
     "text": [
      "Validating: 100%|██████████████████████████████████████████████████████████████████████████| 67/67 [00:04<00:00, 15.49it/s]\n"
     ]
    },
    {
     "name": "stdout",
     "output_type": "stream",
     "text": [
      "SMOKE -> Precision: 0.9025 - Recall: 0.9021 - Accuracy: 0.9060 - F1: 0.9023\n",
      "FIRE -> Precision: 0.9352 - Recall: 0.9099 - Accuracy: 0.9604 - F1: 0.9224\n",
      "Mean F1 Score: 0.9123\n",
      "___________________________ LOW COMPRESSION MODEL ___________________________\n"
     ]
    },
    {
     "name": "stderr",
     "output_type": "stream",
     "text": [
      "Validating: 100%|██████████████████████████████████████████████████████████████████████████| 67/67 [00:04<00:00, 16.38it/s]\n"
     ]
    },
    {
     "name": "stdout",
     "output_type": "stream",
     "text": [
      "SMOKE -> Precision: 0.9024 - Recall: 0.9011 - Accuracy: 0.9056 - F1: 0.9018\n",
      "FIRE -> Precision: 0.9216 - Recall: 0.9324 - Accuracy: 0.9620 - F1: 0.9270\n",
      "Mean F1 Score: 0.9144\n",
      "___________________________ MEDIUM COMPRESSION MODEL ___________________________\n"
     ]
    },
    {
     "name": "stderr",
     "output_type": "stream",
     "text": [
      "Validating: 100%|██████████████████████████████████████████████████████████████████████████| 67/67 [00:03<00:00, 16.80it/s]\n"
     ]
    },
    {
     "name": "stdout",
     "output_type": "stream",
     "text": [
      "SMOKE -> Precision: 0.9028 - Recall: 0.9001 - Accuracy: 0.9053 - F1: 0.9015\n",
      "FIRE -> Precision: 0.9346 - Recall: 0.9144 - Accuracy: 0.9613 - F1: 0.9244\n",
      "Mean F1 Score: 0.9129\n",
      "___________________________ HIGH COMPRESSION MODEL ___________________________\n"
     ]
    },
    {
     "name": "stderr",
     "output_type": "stream",
     "text": [
      "Validating: 100%|██████████████████████████████████████████████████████████████████████████| 67/67 [00:04<00:00, 16.42it/s]"
     ]
    },
    {
     "name": "stdout",
     "output_type": "stream",
     "text": [
      "SMOKE -> Precision: 0.9081 - Recall: 0.9006 - Accuracy: 0.9083 - F1: 0.9044\n",
      "FIRE -> Precision: 0.9416 - Recall: 0.9144 - Accuracy: 0.9632 - F1: 0.9278\n",
      "Mean F1 Score: 0.9161\n"
     ]
    },
    {
     "name": "stderr",
     "output_type": "stream",
     "text": [
      "\n"
     ]
    }
   ],
   "source": [
    "print('___________________________ NO COMPRESSION MODEL ___________________________')\n",
    "metrics_model_no_comp = validate.eval_fn(val_loader, model_no_comp, config.DEVICE)\n",
    "print('___________________________ LOW COMPRESSION MODEL ___________________________')\n",
    "metrics_model_low_comp = validate.eval_fn(val_loader, model_low_comp, config.DEVICE)\n",
    "print('___________________________ MEDIUM COMPRESSION MODEL ___________________________')\n",
    "metrics_model_med_comp = validate.eval_fn(val_loader, model_med_comp, config.DEVICE)\n",
    "print('___________________________ HIGH COMPRESSION MODEL ___________________________')\n",
    "metrics_model_high_comp = validate.eval_fn(val_loader, model_high_comp, config.DEVICE)"
   ]
  },
  {
   "cell_type": "markdown",
   "id": "cca036a7-1254-453e-8c23-be2603ea65ea",
   "metadata": {},
   "source": [
    "## Run Evaluations with FASDD UAV Dataset"
   ]
  },
  {
   "cell_type": "code",
   "execution_count": 23,
   "id": "f9426a2b-2b42-4126-affa-9322e6063662",
   "metadata": {},
   "outputs": [
    {
     "name": "stdout",
     "output_type": "stream",
     "text": [
      "___________________________ NO COMPRESSION MODEL ___________________________\n"
     ]
    },
    {
     "name": "stderr",
     "output_type": "stream",
     "text": [
      "Validating: 100%|██████████████████████████████████████████████████████████████████████████| 65/65 [00:15<00:00,  4.10it/s]\n"
     ]
    },
    {
     "name": "stdout",
     "output_type": "stream",
     "text": [
      "SMOKE -> Precision: 0.6288 - Recall: 0.8567 - Accuracy: 0.6680 - F1: 0.7253\n",
      "FIRE -> Precision: 0.9777 - Recall: 0.8535 - Accuracy: 0.9466 - F1: 0.9114\n",
      "Mean F1 Score: 0.8183\n",
      "___________________________ LOW COMPRESSION MODEL ___________________________\n"
     ]
    },
    {
     "name": "stderr",
     "output_type": "stream",
     "text": [
      "Validating: 100%|██████████████████████████████████████████████████████████████████████████| 65/65 [00:15<00:00,  4.10it/s]\n"
     ]
    },
    {
     "name": "stdout",
     "output_type": "stream",
     "text": [
      "SMOKE -> Precision: 0.5974 - Recall: 0.8773 - Accuracy: 0.6349 - F1: 0.7108\n",
      "FIRE -> Precision: 0.9696 - Recall: 0.8595 - Accuracy: 0.9462 - F1: 0.9113\n",
      "Mean F1 Score: 0.8110\n",
      "___________________________ MEDIUM COMPRESSION MODEL ___________________________\n"
     ]
    },
    {
     "name": "stderr",
     "output_type": "stream",
     "text": [
      "Validating: 100%|██████████████████████████████████████████████████████████████████████████| 65/65 [00:15<00:00,  4.10it/s]\n"
     ]
    },
    {
     "name": "stdout",
     "output_type": "stream",
     "text": [
      "SMOKE -> Precision: 0.5958 - Recall: 0.8637 - Accuracy: 0.6305 - F1: 0.7052\n",
      "FIRE -> Precision: 0.9721 - Recall: 0.8595 - Accuracy: 0.9469 - F1: 0.9123\n",
      "Mean F1 Score: 0.8087\n",
      "___________________________ HIGH COMPRESSION MODEL ___________________________\n"
     ]
    },
    {
     "name": "stderr",
     "output_type": "stream",
     "text": [
      "Validating: 100%|██████████████████████████████████████████████████████████████████████████| 65/65 [00:15<00:00,  4.10it/s]"
     ]
    },
    {
     "name": "stdout",
     "output_type": "stream",
     "text": [
      "SMOKE -> Precision: 0.6242 - Recall: 0.8694 - Accuracy: 0.6654 - F1: 0.7266\n",
      "FIRE -> Precision: 0.9794 - Recall: 0.8520 - Accuracy: 0.9466 - F1: 0.9113\n",
      "Mean F1 Score: 0.8190\n"
     ]
    },
    {
     "name": "stderr",
     "output_type": "stream",
     "text": [
      "\n"
     ]
    }
   ],
   "source": [
    "print('___________________________ NO COMPRESSION MODEL ___________________________')\n",
    "metrics_model_no_comp = validate.eval_fn(fasdd_uav_loader, model_no_comp, config.DEVICE)\n",
    "print('___________________________ LOW COMPRESSION MODEL ___________________________')\n",
    "metrics_model_low_comp = validate.eval_fn(fasdd_uav_loader, model_low_comp, config.DEVICE)\n",
    "print('___________________________ MEDIUM COMPRESSION MODEL ___________________________')\n",
    "metrics_model_med_comp = validate.eval_fn(fasdd_uav_loader, model_med_comp, config.DEVICE)\n",
    "print('___________________________ HIGH COMPRESSION MODEL ___________________________')\n",
    "metrics_model_high_comp = validate.eval_fn(fasdd_uav_loader, model_high_comp, config.DEVICE)"
   ]
  },
  {
   "cell_type": "markdown",
   "id": "4aadb7dc-974f-4322-b007-fcf9be94440b",
   "metadata": {},
   "source": [
    "## Run Evaluations with FASDD CV Dataset"
   ]
  },
  {
   "cell_type": "code",
   "execution_count": 24,
   "id": "2ec34c49-ab9b-4489-bc55-b3d12629e278",
   "metadata": {},
   "outputs": [
    {
     "name": "stdout",
     "output_type": "stream",
     "text": [
      "___________________________ NO COMPRESSION MODEL ___________________________\n"
     ]
    },
    {
     "name": "stderr",
     "output_type": "stream",
     "text": [
      "Validating: 100%|████████████████████████████████████████████████████████████████████████| 248/248 [00:15<00:00, 16.02it/s]\n"
     ]
    },
    {
     "name": "stdout",
     "output_type": "stream",
     "text": [
      "SMOKE -> Precision: 0.5027 - Recall: 0.5928 - Accuracy: 0.5460 - F1: 0.5440\n",
      "FIRE -> Precision: 0.7078 - Recall: 0.7708 - Accuracy: 0.8124 - F1: 0.7380\n",
      "Mean F1 Score: 0.6410\n",
      "___________________________ LOW COMPRESSION MODEL ___________________________\n"
     ]
    },
    {
     "name": "stderr",
     "output_type": "stream",
     "text": [
      "Validating: 100%|████████████████████████████████████████████████████████████████████████| 248/248 [00:15<00:00, 16.34it/s]\n"
     ]
    },
    {
     "name": "stdout",
     "output_type": "stream",
     "text": [
      "SMOKE -> Precision: 0.5263 - Recall: 0.6394 - Accuracy: 0.5723 - F1: 0.5774\n",
      "FIRE -> Precision: 0.6811 - Recall: 0.8377 - Accuracy: 0.8099 - F1: 0.7513\n",
      "Mean F1 Score: 0.6643\n",
      "___________________________ MEDIUM COMPRESSION MODEL ___________________________\n"
     ]
    },
    {
     "name": "stderr",
     "output_type": "stream",
     "text": [
      "Validating: 100%|████████████████████████████████████████████████████████████████████████| 248/248 [00:15<00:00, 16.13it/s]\n"
     ]
    },
    {
     "name": "stdout",
     "output_type": "stream",
     "text": [
      "SMOKE -> Precision: 0.5706 - Recall: 0.6619 - Accuracy: 0.6179 - F1: 0.6129\n",
      "FIRE -> Precision: 0.7379 - Recall: 0.7921 - Accuracy: 0.8323 - F1: 0.7640\n",
      "Mean F1 Score: 0.6885\n",
      "___________________________ HIGH COMPRESSION MODEL ___________________________\n"
     ]
    },
    {
     "name": "stderr",
     "output_type": "stream",
     "text": [
      "Validating: 100%|████████████████████████████████████████████████████████████████████████| 248/248 [00:15<00:00, 16.32it/s]"
     ]
    },
    {
     "name": "stdout",
     "output_type": "stream",
     "text": [
      "SMOKE -> Precision: 0.5692 - Recall: 0.6617 - Accuracy: 0.6166 - F1: 0.6120\n",
      "FIRE -> Precision: 0.7264 - Recall: 0.7962 - Accuracy: 0.8273 - F1: 0.7597\n",
      "Mean F1 Score: 0.6858\n"
     ]
    },
    {
     "name": "stderr",
     "output_type": "stream",
     "text": [
      "\n"
     ]
    }
   ],
   "source": [
    "print('___________________________ NO COMPRESSION MODEL ___________________________')\n",
    "metrics_model_no_comp = validate.eval_fn(fasdd_cv_loader, model_no_comp, config.DEVICE)\n",
    "print('___________________________ LOW COMPRESSION MODEL ___________________________')\n",
    "metrics_model_low_comp = validate.eval_fn(fasdd_cv_loader, model_low_comp, config.DEVICE)\n",
    "print('___________________________ MEDIUM COMPRESSION MODEL ___________________________')\n",
    "metrics_model_med_comp = validate.eval_fn(fasdd_cv_loader, model_med_comp, config.DEVICE)\n",
    "print('___________________________ HIGH COMPRESSION MODEL ___________________________')\n",
    "metrics_model_high_comp = validate.eval_fn(fasdd_cv_loader, model_high_comp, config.DEVICE)"
   ]
  },
  {
   "cell_type": "code",
   "execution_count": null,
   "id": "b6091a81-5b52-4a8e-8309-f16dfe8af3a7",
   "metadata": {},
   "outputs": [],
   "source": []
  }
 ],
 "metadata": {
  "kernelspec": {
   "display_name": "Python 3 (ipykernel)",
   "language": "python",
   "name": "python3"
  },
  "language_info": {
   "codemirror_mode": {
    "name": "ipython",
    "version": 3
   },
   "file_extension": ".py",
   "mimetype": "text/x-python",
   "name": "python",
   "nbconvert_exporter": "python",
   "pygments_lexer": "ipython3",
   "version": "3.10.9"
  }
 },
 "nbformat": 4,
 "nbformat_minor": 5
}
