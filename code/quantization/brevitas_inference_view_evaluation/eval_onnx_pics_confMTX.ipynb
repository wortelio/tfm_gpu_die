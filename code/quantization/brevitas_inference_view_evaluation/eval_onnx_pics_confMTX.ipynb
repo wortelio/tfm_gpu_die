{
 "cells": [
  {
   "cell_type": "code",
   "execution_count": 1,
   "id": "6e8a513a-1549-4be7-af63-4f9542994187",
   "metadata": {},
   "outputs": [],
   "source": [
    "import os\n",
    "import logging\n",
    "from pathlib import Path\n",
    "import datetime\n",
    "from tqdm import tqdm\n",
    "\n",
    "import config\n",
    "import datasets\n",
    "\n",
    "import numpy as np\n",
    "import math\n",
    "import pandas as pd\n",
    "import random\n",
    "\n",
    "import torch\n",
    "\n",
    "import matplotlib.pyplot as plt\n",
    "import matplotlib.patches as patches \n",
    "\n",
    "import torchmetrics\n",
    "from sklearn.metrics import ConfusionMatrixDisplay\n",
    "from sklearn.metrics import confusion_matrix\n",
    "import seaborn as sns"
   ]
  },
  {
   "cell_type": "code",
   "execution_count": 2,
   "id": "423ca7c6-5d21-460f-9d55-073aceab5616",
   "metadata": {},
   "outputs": [],
   "source": [
    "import onnx\n",
    "import onnxruntime"
   ]
  },
  {
   "cell_type": "markdown",
   "id": "5f271310-6851-4214-971f-14c017167d1d",
   "metadata": {},
   "source": [
    "# Config Device"
   ]
  },
  {
   "cell_type": "code",
   "execution_count": 3,
   "id": "5b3e8a29-500e-44e4-8cb9-f94092708cfb",
   "metadata": {
    "tags": []
   },
   "outputs": [],
   "source": [
    "DEVICE = 'cpu'\n",
    "N_CLASSES = 2"
   ]
  },
  {
   "cell_type": "markdown",
   "id": "1e4b172f-2792-4ef1-b1c8-2d492ecbe197",
   "metadata": {},
   "source": [
    "# Validation Dataset"
   ]
  },
  {
   "cell_type": "code",
   "execution_count": 4,
   "id": "9ff4b51c-1906-4b3d-9f5e-21ee490f8c75",
   "metadata": {
    "tags": []
   },
   "outputs": [],
   "source": [
    "shuffle_val_imgs = True"
   ]
  },
  {
   "cell_type": "markdown",
   "id": "c038c64d-6a7f-4cb9-a3be-fef103b01457",
   "metadata": {},
   "source": [
    "### DFire + FASDD UAV + FASDD CV"
   ]
  },
  {
   "cell_type": "code",
   "execution_count": 5,
   "id": "f2c01c04-ca3b-4ff1-99c6-5d2bc76f17dc",
   "metadata": {},
   "outputs": [
    {
     "name": "stdout",
     "output_type": "stream",
     "text": [
      "\n",
      "TEST DFire dataset\n",
      "DFire Removed wrong images: 0\n",
      "DFire empty images: 2005\n",
      "DFire only smoke images: 1186\n",
      "DFire only fire images: 220\n",
      "DFire smoke and fire images: 895\n",
      "\n",
      "Test dataset len: 4306\n",
      "\n",
      "TEST FASDD UAV dataset\n",
      "DFire Removed wrong images: 0\n",
      "DFire empty images: 1997\n",
      "DFire only smoke images: 846\n",
      "DFire only fire images: 35\n",
      "DFire smoke and fire images: 1303\n",
      "\n",
      "Test FASDD UAV dataset len: 4181\n",
      "\n",
      "TEST FASDD CV dataset\n",
      "DFire Removed wrong images: 0\n",
      "DFire empty images: 6533\n",
      "DFire only smoke images: 3902\n",
      "DFire only fire images: 2091\n",
      "DFire smoke and fire images: 3358\n",
      "\n",
      "Test FASDD CV dataset len: 15884\n",
      "\n",
      "Concatenate Test DFire and FASDD UAV datasets\n",
      "Test dataset len: 8487\n",
      "Concatenate with FASDD CV dataset\n",
      "Test dataset len: 24371\n"
     ]
    }
   ],
   "source": [
    "val_loader = datasets.get_val_loader(shuffle=False)"
   ]
  },
  {
   "cell_type": "markdown",
   "id": "c9ae5c20-020c-4e46-8e88-3cbfe35bf58c",
   "metadata": {},
   "source": [
    "### DFire"
   ]
  },
  {
   "cell_type": "code",
   "execution_count": 6,
   "id": "fa5aedc8-cf78-4fe4-bb54-dd36facb21f9",
   "metadata": {
    "tags": []
   },
   "outputs": [
    {
     "name": "stdout",
     "output_type": "stream",
     "text": [
      "\n",
      "TEST DFire dataset\n",
      "DFire Removed wrong images: 0\n",
      "DFire empty images: 2005\n",
      "DFire only smoke images: 1186\n",
      "DFire only fire images: 220\n",
      "DFire smoke and fire images: 895\n",
      "\n",
      "Test dataset len: 4306\n"
     ]
    }
   ],
   "source": [
    "dfire_val_loader = datasets.get_dfire_val_loader(shuffle_val_imgs)"
   ]
  },
  {
   "cell_type": "markdown",
   "id": "6d442e47-6175-411f-a4e2-469906780abc",
   "metadata": {},
   "source": [
    "### FASDD UAV"
   ]
  },
  {
   "cell_type": "code",
   "execution_count": 7,
   "id": "08b35018-af60-4f91-8e20-4494dc9356d8",
   "metadata": {},
   "outputs": [
    {
     "name": "stdout",
     "output_type": "stream",
     "text": [
      "\n",
      "TEST FASDD UAV dataset\n",
      "DFire Removed wrong images: 0\n",
      "DFire empty images: 1997\n",
      "DFire only smoke images: 846\n",
      "DFire only fire images: 35\n",
      "DFire smoke and fire images: 1303\n",
      "\n",
      "Test FASDD UAV dataset len: 4181\n"
     ]
    }
   ],
   "source": [
    "fasdd_uav_val_loader = datasets.get_fasdd_uav_val_loader(shuffle_val_imgs)"
   ]
  },
  {
   "cell_type": "markdown",
   "id": "4106ef3e-9f1b-4942-9f9e-73eb35675bf6",
   "metadata": {},
   "source": [
    "### FASDD CV"
   ]
  },
  {
   "cell_type": "code",
   "execution_count": 8,
   "id": "539153b5-e9e7-40f3-a0db-4069363fe144",
   "metadata": {
    "tags": []
   },
   "outputs": [
    {
     "name": "stdout",
     "output_type": "stream",
     "text": [
      "\n",
      "TEST FASDD CV dataset\n",
      "DFire Removed wrong images: 0\n",
      "DFire empty images: 6533\n",
      "DFire only smoke images: 3902\n",
      "DFire only fire images: 2091\n",
      "DFire smoke and fire images: 3358\n",
      "\n",
      "Test FASDD CV dataset len: 15884\n"
     ]
    }
   ],
   "source": [
    "fasdd_cv_val_loader = datasets.get_fasdd_cv_val_loader(shuffle_val_imgs)"
   ]
  },
  {
   "cell_type": "markdown",
   "id": "46b8a4ea-c839-4710-b4fa-f554887d8c93",
   "metadata": {},
   "source": [
    "# Load ONNX Model"
   ]
  },
  {
   "cell_type": "code",
   "execution_count": 9,
   "id": "f582081b-1b2e-4176-ae58-11a1bbe80aad",
   "metadata": {},
   "outputs": [],
   "source": [
    "model_name = './models/onnx_fasdd/medium_fassd__conv341_big__epoch=93.onnx'\n",
    "\n",
    "# model_fasdd_med = onnx.load(model_name)\n",
    "# onnx.checker.check_model(model_fasdd_med)\n",
    "\n",
    "ort_session = onnxruntime.InferenceSession(model_name, providers=[\"CPUExecutionProvider\"])"
   ]
  },
  {
   "cell_type": "code",
   "execution_count": 10,
   "id": "060179d4-88d1-4bcb-bf75-df7db826b1a7",
   "metadata": {},
   "outputs": [],
   "source": [
    "def to_numpy(tensor):\n",
    "    return tensor.detach().cpu().numpy() if tensor.requires_grad else tensor.cpu().numpy()"
   ]
  },
  {
   "cell_type": "markdown",
   "id": "750c57d9-d4df-4306-8041-08de967af374",
   "metadata": {},
   "source": [
    "# Plot Predictions"
   ]
  },
  {
   "cell_type": "code",
   "execution_count": 11,
   "id": "39ba681a-c512-4bed-a76d-31a12ec192e1",
   "metadata": {},
   "outputs": [],
   "source": [
    "def plot_predictions(loader, n_imgs, filename):\n",
    "\n",
    "    n_imgs_plot = n_imgs\n",
    "    cols = 4\n",
    "    rows = int( n_imgs_plot / cols )\n",
    "\n",
    "    #plot_height = config.BATCH_SIZE * 5\n",
    "    fig, ax = plt.subplots(rows, cols, figsize=(9, 320)) # BATCH_SIZE*32 -> 320\n",
    "\n",
    "    for batch_idx, (img, label) in enumerate(loader):\n",
    "        for i in range(int(config.BATCH_SIZE/cols)):\n",
    "            for j in range(cols):\n",
    "\n",
    "                plot_idx = batch_idx*config.BATCH_SIZE + i*cols + j + 1\n",
    "                sample_idx = i*cols + j\n",
    "                ax_idx = batch_idx*(int(config.BATCH_SIZE/cols)) + i \n",
    "                # print(f'Plot idx: {plot_idx}')\n",
    "                # print(f'Sample idx: {sample_idx}')\n",
    "                # print(f'Ax idx: {ax_idx}')\n",
    "\n",
    "                plt.subplot(rows, cols, plot_idx)\n",
    "                plt.imshow(img[sample_idx].permute(1, 2, 0))\n",
    "\n",
    "                label_txt = \"\"\n",
    "                #print(f'Label: {label[i*cols + j]}')\n",
    "                if label[sample_idx, 0] == 1 and label[sample_idx, 1] == 1:\n",
    "                    label_txt += \"Smoke & Fire\"\n",
    "                elif label[sample_idx, 0] == 1 and label[sample_idx, 1] == 0:\n",
    "                    label_txt += \"Only Smoke\"\n",
    "                elif label[sample_idx, 0] == 0 and label[sample_idx, 1] == 1:\n",
    "                    label_txt += \"Only Fire\"\n",
    "                else:\n",
    "                    label_txt += \"Empty\"\n",
    "\n",
    "                ort_inputs = {ort_session.get_inputs()[0].name: to_numpy(img[sample_idx].unsqueeze(dim=0))}\n",
    "                yhat = ort_session.run(None, ort_inputs)\n",
    "                yhat = np.array(yhat)\n",
    "                pred = torch.sigmoid(torch.tensor(yhat).squeeze(dim=0))\n",
    "\n",
    "                #print(f'Pred: {pred}')\n",
    "                pred_txt = \"\"\n",
    "                if pred[..., 0] > 0.5 and pred[..., 1] > 0.5:\n",
    "                    pred_txt += \"Smoke & Fire\"\n",
    "                elif pred[..., 0] > 0.5 and pred[..., 1] < 0.5:\n",
    "                    pred_txt += \"Only Smoke\"\n",
    "                elif pred[..., 0] < 0.5 and pred[..., 1] > 0.5:\n",
    "                    pred_txt += \"Only Fire\"\n",
    "                else:\n",
    "                    pred_txt += \"Empty\"\n",
    "\n",
    "                if pred_txt == label_txt:\n",
    "                    rect = patches.Rectangle((1, 1), config.IMG_W-2, config.IMG_W-3, linewidth=4, edgecolor='g', facecolor=\"none\")\n",
    "                elif label_txt == \"Smoke & Fire\" and (pred_txt == \"Only Smoke\" or pred_txt == \"Only Fire\"):\n",
    "                    rect = patches.Rectangle((1, 1), config.IMG_W-2, config.IMG_W-3, linewidth=4, edgecolor='b', facecolor=\"none\")\n",
    "                elif label_txt == \"Only Smoke\" and pred_txt == \"Smoke & Fire\":\n",
    "                    rect = patches.Rectangle((1, 1), config.IMG_W-2, config.IMG_W-3, linewidth=4, edgecolor='b', facecolor=\"none\")\n",
    "                elif label_txt == \"Only Fire\" and pred_txt == \"Smoke & Fire\":\n",
    "                    rect = patches.Rectangle((1, 1), config.IMG_W-2, config.IMG_W-3, linewidth=4, edgecolor='b', facecolor=\"none\")\n",
    "                else:\n",
    "                    rect = patches.Rectangle((1, 1), config.IMG_W-2, config.IMG_H-3, linewidth=4, edgecolor='r', facecolor=\"none\")\n",
    "\n",
    "                ax[ax_idx, j].add_patch(rect)\n",
    "                ax[ax_idx, j].axis('off')\n",
    "\n",
    "                title = \"Label: \" + label_txt + \" | \" + \"Pred: \" + pred_txt\n",
    "                smoke_score = np.round(pred[..., 0].detach().numpy(), 3)\n",
    "                fire_score = np.round(pred[..., 1].detach().numpy(), 3)\n",
    "                title += \"\\n\" + \"Smoke: \" + f'{str(smoke_score)[1:-1]}' + \" - Fire: \" + f'{str(fire_score)[1:-1]}'\n",
    "                plt.title(title, fontsize=7, loc='left')\n",
    "\n",
    "        if (plot_idx == n_imgs_plot):\n",
    "            plt.tight_layout()\n",
    "            plt.savefig(filename + '.png')\n",
    "            #plt.show()\n",
    "            plt.close()\n",
    "            break"
   ]
  },
  {
   "cell_type": "markdown",
   "id": "865e970c-abbe-4b82-9a6d-30359b1aed9a",
   "metadata": {},
   "source": [
    "## Number of Images to Plot"
   ]
  },
  {
   "cell_type": "code",
   "execution_count": 12,
   "id": "2ea6cab1-e05d-4465-8d22-87a126a9d5ee",
   "metadata": {},
   "outputs": [],
   "source": [
    "n_imgs_plot = config.BATCH_SIZE * 8"
   ]
  },
  {
   "cell_type": "markdown",
   "id": "82818021-98ec-4b4b-b5d5-71e97816eb1e",
   "metadata": {},
   "source": [
    "### DFire Preds"
   ]
  },
  {
   "cell_type": "code",
   "execution_count": 13,
   "id": "27e517e5-2a56-4b2a-8038-e76cd31de0d6",
   "metadata": {
    "tags": []
   },
   "outputs": [],
   "source": [
    "plot_predictions(dfire_val_loader, n_imgs_plot, 'pred_imgs/dfire_preds')"
   ]
  },
  {
   "cell_type": "markdown",
   "id": "792bfd96-a1e3-4cee-a9fd-a4d9df1b6169",
   "metadata": {},
   "source": [
    "### FASDD UAV Preds"
   ]
  },
  {
   "cell_type": "code",
   "execution_count": 14,
   "id": "accfad0c-28e2-4067-ae94-fdb843541c3a",
   "metadata": {},
   "outputs": [],
   "source": [
    "plot_predictions(fasdd_uav_val_loader, n_imgs_plot, 'pred_imgs/fasdd_uav_preds')"
   ]
  },
  {
   "cell_type": "markdown",
   "id": "ee3d302f-979b-4035-b34f-ba1541a3e4d6",
   "metadata": {},
   "source": [
    "### FASDD CV Preds"
   ]
  },
  {
   "cell_type": "code",
   "execution_count": 15,
   "id": "11b83768-c080-4416-9795-8a94dbf013d9",
   "metadata": {},
   "outputs": [],
   "source": [
    "plot_predictions(fasdd_cv_val_loader, n_imgs_plot, 'pred_imgs/fasdd_cv_preds')"
   ]
  },
  {
   "cell_type": "markdown",
   "id": "f1d75495-a2fc-4fa2-ac17-abc77dee646b",
   "metadata": {},
   "source": [
    "# METRICS"
   ]
  },
  {
   "cell_type": "code",
   "execution_count": 16,
   "id": "31e277c5-f5ee-4021-ac52-adc58fb284a5",
   "metadata": {},
   "outputs": [],
   "source": [
    "precision_metric = torchmetrics.classification.MultilabelPrecision(num_labels = N_CLASSES, \n",
    "                                                                   threshold = 0.5, \n",
    "                                                                   average = None).to(DEVICE)\n",
    "recall_metric = torchmetrics.classification.MultilabelRecall(num_labels = N_CLASSES, \n",
    "                                                             threshold = 0.5, \n",
    "                                                             average = None).to(DEVICE)\n",
    "accuracy_metric = torchmetrics.classification.MultilabelAccuracy(num_labels = N_CLASSES, \n",
    "                                                                 threshold = 0.5, \n",
    "                                                                 average = None).to(DEVICE)\n",
    "f1_metric = torchmetrics.classification.MultilabelF1Score(num_labels = N_CLASSES, \n",
    "                                                          threshold = 0.5, \n",
    "                                                          average = None).to(DEVICE)\n",
    "smoke_conf_mtx_metric = torchmetrics.classification.BinaryConfusionMatrix(threshold = 0.5).to(DEVICE)\n",
    "fire_conf_mtx_metric = torchmetrics.classification.BinaryConfusionMatrix(threshold = 0.5).to(DEVICE)"
   ]
  },
  {
   "cell_type": "markdown",
   "id": "b08d5d0a-1079-4fbb-9d0b-991201e79a63",
   "metadata": {},
   "source": [
    "### Evaluation Loop"
   ]
  },
  {
   "cell_type": "code",
   "execution_count": 17,
   "id": "12a110f3-c479-433e-814c-790a905f17e3",
   "metadata": {},
   "outputs": [],
   "source": [
    "'''\n",
    "Evaluation Function\n",
    "'''\n",
    "def eval_fn(loader):\n",
    "    \n",
    "    # Reset all metrics before start\n",
    "    precision_metric.reset()\n",
    "    recall_metric.reset()\n",
    "    accuracy_metric.reset()\n",
    "    f1_metric.reset()\n",
    "    smoke_conf_mtx_metric.reset()\n",
    "    fire_conf_mtx_metric.reset()\n",
    "    \n",
    "\n",
    "    # Equal values to compare\n",
    "    empty = torch.tensor([[0, 0]], dtype= torch.float32).to(DEVICE)\n",
    "    smoke = torch.tensor([[1, 0]], dtype= torch.float32).to(DEVICE)\n",
    "    fire = torch.tensor([[0, 1]], dtype= torch.float32).to(DEVICE)\n",
    "    smoke_fire = torch.tensor([[1, 1]], dtype= torch.float32).to(DEVICE)\n",
    "\n",
    "    loop = tqdm(loader, desc='Validating', leave=True)\n",
    "\n",
    "    y_true = []\n",
    "    y_pred = []\n",
    "\n",
    "    for batch_idx, (x, y) in enumerate(loop):\n",
    "              \n",
    "        for idx in range(x.shape[0]):\n",
    "            \n",
    "            target = y[idx].unsqueeze(dim=0)\n",
    "            \n",
    "            ort_inputs = {ort_session.get_inputs()[0].name: to_numpy(x[idx].unsqueeze(dim=0))}\n",
    "            yhat = ort_session.run(None, ort_inputs)\n",
    "            yhat = np.array(yhat)\n",
    "            yhat = torch.sigmoid(torch.tensor(yhat).squeeze(dim=0))\n",
    "            \n",
    "            precision_metric.update(yhat, target)\n",
    "            recall_metric.update(yhat, target)\n",
    "            accuracy_metric.update(yhat, target)\n",
    "            f1_metric.update(yhat, target)\n",
    "            smoke_conf_mtx_metric.update(yhat[..., 0], target[..., 0])\n",
    "            fire_conf_mtx_metric.update(yhat[..., 1], target[..., 1])\n",
    "\n",
    "            yhat = torch.round(yhat)\n",
    "\n",
    "            # print(f'yhat: {yhat}')\n",
    "            # print(f'target: {target}')\n",
    "            # print(f'target y[idx]: {y[idx]}')\n",
    "            \n",
    "            # Predictions: yhat with sigmoid already applied\n",
    "            if torch.equal(yhat, empty):\n",
    "                y_pred.append(0)\n",
    "            elif torch.equal(yhat, smoke):\n",
    "                y_pred.append(1)\n",
    "            elif torch.equal(yhat, fire):\n",
    "                y_pred.append(2)\n",
    "            elif torch.equal(yhat, smoke_fire):\n",
    "                y_pred.append(3)\n",
    "            else:\n",
    "                print(\"Wrong Prediction\")\n",
    "                raise SystemExit(\"Wrong Prediction\")\n",
    "                \n",
    "            # Targets\n",
    "            if torch.equal(target, empty):\n",
    "                y_true.append(0)\n",
    "            elif torch.equal(target, smoke):\n",
    "                y_true.append(1)\n",
    "            elif torch.equal(target, fire):\n",
    "                y_true.append(2)\n",
    "            elif torch.equal(target, smoke_fire):\n",
    "                y_true.append(3)\n",
    "            else:\n",
    "                print(\"Wrong Target\")\n",
    "                raise SystemExit(\"Wrong Target\")\n",
    "    \n",
    "    precision = precision_metric.compute()\n",
    "    recall = recall_metric.compute()\n",
    "    accuracy = accuracy_metric.compute()\n",
    "    f1 = f1_metric.compute()\n",
    "    smoke_conf_mtx = smoke_conf_mtx_metric.compute()\n",
    "    fire_conf_mtx = fire_conf_mtx_metric.compute()\n",
    "\n",
    "    print(\"\".ljust(6) + \"|Accuracy\".ljust(10) + \"|Precision\".ljust(10) + \"|Recall\".ljust(10) + \"|F1\".ljust(10))\n",
    "    print(\"Smoke\".ljust(6) +\n",
    "          f'|{accuracy[0]:.4f}'.ljust(10) +\n",
    "          f'|{precision[0]:.4f}'.ljust(10) +\n",
    "          f'|{recall[0]:.4f}'.ljust(10) +\n",
    "          f'|{f1[0]:.4f}'.ljust(10))\n",
    "    print(\"Fire\".ljust(6) +\n",
    "          f'|{accuracy[1]:.4f}'.ljust(10) +\n",
    "          f'|{precision[1]:.4f}'.ljust(10) +\n",
    "          f'|{recall[1]:.4f}'.ljust(10) +\n",
    "          f'|{f1[1]:.4f}'.ljust(10))\n",
    "        \n",
    "    precision_metric.reset()\n",
    "    recall_metric.reset()\n",
    "    accuracy_metric.reset()\n",
    "    f1_metric.reset()\n",
    "    # smoke_conf_mtx_metric.reset()\n",
    "    # fire_conf_mtx_metric.reset()\n",
    "    \n",
    "    return {'accuracy': accuracy,\n",
    "            'precision': precision,\n",
    "            'recall': recall,\n",
    "            'f1': f1,\n",
    "            'y_true': y_true,\n",
    "            'y_hat': y_pred,\n",
    "            'smoke_conf_mtx': smoke_conf_mtx,\n",
    "            'fire_conf_mtx': fire_conf_mtx}"
   ]
  },
  {
   "cell_type": "markdown",
   "id": "0c343cc6-c731-4b3c-8d12-8abe440ae16c",
   "metadata": {},
   "source": [
    "### Whole Dataset Evaluation"
   ]
  },
  {
   "cell_type": "code",
   "execution_count": 18,
   "id": "f0703073-9190-41ca-8bb6-4f8f829e51db",
   "metadata": {},
   "outputs": [
    {
     "name": "stderr",
     "output_type": "stream",
     "text": [
      "Validating: 100%|███████████████████████████████████████████████████████████████████████████████████████████████| 380/380 [01:13<00:00,  5.15it/s]"
     ]
    },
    {
     "name": "stdout",
     "output_type": "stream",
     "text": [
      "      |Accuracy |Precision|Recall   |F1       \n",
      "Smoke |0.9084   |0.9099   |0.8943   |0.9020   \n",
      "Fire  |0.9565   |0.9032   |0.9697   |0.9353   \n"
     ]
    },
    {
     "name": "stderr",
     "output_type": "stream",
     "text": [
      "\n"
     ]
    }
   ],
   "source": [
    "metrics = eval_fn(loader=val_loader)"
   ]
  },
  {
   "cell_type": "code",
   "execution_count": 19,
   "id": "ebcc1f79-6ea6-4083-8db7-eb950ea77be7",
   "metadata": {},
   "outputs": [
    {
     "data": {
      "image/png": "[encoded data removed]",
      "text/plain": [
       "<Figure size 640x480 with 2 Axes>"
      ]
     },
     "metadata": {},
     "output_type": "display_data"
    }
   ],
   "source": [
    "fig, ax = plt.subplots()\n",
    "ConfusionMatrixDisplay.from_predictions(y_true=metrics['y_true'], \n",
    "                                        y_pred=metrics['y_hat'],\n",
    "                                        normalize='true',\n",
    "                                        display_labels=['Empty', 'Only Smoke', 'Only Fire', 'Smoke & Fire'],\n",
    "                                        cmap='viridis',\n",
    "                                        ax=ax)\n",
    "plt.title(\"Confusion Matrix\", fontsize=20)\n",
    "ax.set_xlabel(\"Predicted\", fontsize=15, labelpad=10)\n",
    "ax.set_ylabel(\"True\", fontsize=15,labelpad=10)\n",
    "#plt.style.use(\"seaborn-v0_8\")\n",
    "plt.show()"
   ]
  },
  {
   "cell_type": "code",
   "execution_count": 20,
   "id": "a5b957ed-165b-4687-9dc3-78ad410d8546",
   "metadata": {},
   "outputs": [
    {
     "data": {
      "text/plain": [
       "[<matplotlib.axis.YTick at 0x7fb341521d20>,\n",
       " <matplotlib.axis.YTick at 0x7fb3415216c0>]"
      ]
     },
     "execution_count": 20,
     "metadata": {},
     "output_type": "execute_result"
    },
    {
     "data": {
      "image/png": "[encoded data removed]",
      "text/plain": [
       "<Figure size 300x300 with 1 Axes>"
      ]
     },
     "metadata": {},
     "output_type": "display_data"
    }
   ],
   "source": [
    "fig, ax = smoke_conf_mtx_metric.plot(cmap='RdPu')\n",
    "fig.set_size_inches(3,3)\n",
    "ax.set_xticks(range(2), ['empty', 'smoke'], rotation=30)\n",
    "ax.set_yticks(range(2), ['empty', 'smoke'], rotation=30)"
   ]
  },
  {
   "cell_type": "code",
   "execution_count": 21,
   "id": "1b41bc75-c6fc-4a84-bc97-5b765da18e13",
   "metadata": {},
   "outputs": [
    {
     "data": {
      "image/png": "[encoded data removed]",
      "text/plain": [
       "<Figure size 300x300 with 1 Axes>"
      ]
     },
     "metadata": {},
     "output_type": "display_data"
    }
   ],
   "source": [
    "fig, ax = fire_conf_mtx_metric.plot(cmap='RdPu')\n",
    "fig.set_size_inches(3,3)"
   ]
  },
  {
   "cell_type": "markdown",
   "id": "28b99160-3a90-457d-ab41-c4dd4d466474",
   "metadata": {},
   "source": [
    "# Confusion Matrix with Seaborn"
   ]
  },
  {
   "cell_type": "code",
   "execution_count": 22,
   "id": "95e66395-cc2f-4269-bb07-a9e9135993e4",
   "metadata": {},
   "outputs": [
    {
     "name": "stdout",
     "output_type": "stream",
     "text": [
      "<class 'numpy.ndarray'>\n",
      "[[0.88005327 0.05612099 0.04251879 0.02130695]\n",
      " [0.08846868 0.88654398 0.00219483 0.0227925 ]\n",
      " [0.0204953  0.00469684 0.89368061 0.08112724]\n",
      " [0.00360881 0.02887044 0.11818838 0.84933237]]\n"
     ]
    }
   ],
   "source": [
    "conf_mtx = confusion_matrix(y_true=metrics['y_true'], \n",
    "                            y_pred=metrics['y_hat'],\n",
    "                            normalize='true')\n",
    "print(type(conf_mtx))\n",
    "cf_mtx_dic = {\n",
    "    'Empty': conf_mtx[: , 0],\n",
    "    'Only Smoke': conf_mtx[:, 1],\n",
    "    'Only Fire': conf_mtx[:, 2],\n",
    "    'Smoke & Fire': conf_mtx[:, 3]\n",
    "}\n",
    "print(conf_mtx)"
   ]
  },
  {
   "cell_type": "code",
   "execution_count": 23,
   "id": "53242b6b-c406-4690-80de-cb6557f1e8f7",
   "metadata": {},
   "outputs": [],
   "source": [
    "pd_cf_mtx = pd.DataFrame(cf_mtx_dic, index=['Empty', 'Only Smoke', 'Only Fire', 'Smoke & Fire'])"
   ]
  },
  {
   "cell_type": "code",
   "execution_count": 26,
   "id": "9df7a217-f16b-4cb0-8e4a-0b2eb3945e79",
   "metadata": {},
   "outputs": [
    {
     "data": {
      "text/plain": [
       "(array([0.5, 1.5, 2.5, 3.5]),\n",
       " [Text(0, 0.5, 'Empty'),\n",
       "  Text(0, 1.5, 'Only Smoke'),\n",
       "  Text(0, 2.5, 'Only Fire'),\n",
       "  Text(0, 3.5, 'Smoke & Fire')])"
      ]
     },
     "execution_count": 26,
     "metadata": {},
     "output_type": "execute_result"
    },
    {
     "data": {
      "image/png": "[encoded data removed]",
      "text/plain": [
       "<Figure size 640x480 with 2 Axes>"
      ]
     },
     "metadata": {},
     "output_type": "display_data"
    }
   ],
   "source": [
    "ax = sns.heatmap(pd_cf_mtx, annot=True)\n",
    "ax.set_title(\"Confusion Matrix\", fontsize=20)\n",
    "ax.set_xlabel(\"Predicted\", fontsize=15, labelpad=12)\n",
    "ax.set_ylabel(\"True\", fontsize=15,labelpad=12)\n",
    "plt.yticks(rotation=0)"
   ]
  },
  {
   "cell_type": "code",
   "execution_count": 25,
   "id": "143362f9-1139-45ac-ae17-2f3816b5f988",
   "metadata": {},
   "outputs": [
    {
     "data": {
      "text/html": [
       "<div>\n",
       "<style scoped>\n",
       "    .dataframe tbody tr th:only-of-type {\n",
       "        vertical-align: middle;\n",
       "    }\n",
       "\n",
       "    .dataframe tbody tr th {\n",
       "        vertical-align: top;\n",
       "    }\n",
       "\n",
       "    .dataframe thead th {\n",
       "        text-align: right;\n",
       "    }\n",
       "</style>\n",
       "<table border=\"1\" class=\"dataframe\">\n",
       "  <thead>\n",
       "    <tr style=\"text-align: right;\">\n",
       "      <th></th>\n",
       "      <th>accuracy</th>\n",
       "      <th>precision</th>\n",
       "      <th>recall</th>\n",
       "      <th>f1</th>\n",
       "    </tr>\n",
       "  </thead>\n",
       "  <tbody>\n",
       "    <tr>\n",
       "      <th>Smoke</th>\n",
       "      <td>0.9084</td>\n",
       "      <td>0.9099</td>\n",
       "      <td>0.8943</td>\n",
       "      <td>0.9020</td>\n",
       "    </tr>\n",
       "    <tr>\n",
       "      <th>Fire</th>\n",
       "      <td>0.9565</td>\n",
       "      <td>0.9032</td>\n",
       "      <td>0.9697</td>\n",
       "      <td>0.9353</td>\n",
       "    </tr>\n",
       "  </tbody>\n",
       "</table>\n",
       "</div>"
      ],
      "text/plain": [
       "       accuracy  precision  recall      f1\n",
       "Smoke    0.9084     0.9099  0.8943  0.9020\n",
       "Fire     0.9565     0.9032  0.9697  0.9353"
      ]
     },
     "execution_count": 25,
     "metadata": {},
     "output_type": "execute_result"
    }
   ],
   "source": [
    "metrics_dic = {\n",
    "    'accuracy': np.round(metrics['accuracy'].cpu().numpy().tolist(), 4),\n",
    "    'precision': np.round(metrics['precision'].cpu().numpy().tolist(), 4),\n",
    "    'recall': np.round(metrics['recall'].cpu().numpy().tolist(), 4),\n",
    "    'f1': np.round(metrics['f1'].cpu().numpy().tolist(), 4)\n",
    "}\n",
    "metrics_df = pd.DataFrame(metrics_dic, index=['Smoke', 'Fire'])\n",
    "metrics_df"
   ]
  },
  {
   "cell_type": "code",
   "execution_count": null,
   "id": "43d53cd3-9bdd-4cb9-b656-370145dc8d96",
   "metadata": {},
   "outputs": [],
   "source": []
  }
 ],
 "metadata": {
  "kernelspec": {
   "display_name": "Python 3 (ipykernel)",
   "language": "python",
   "name": "python3"
  },
  "language_info": {
   "codemirror_mode": {
    "name": "ipython",
    "version": 3
   },
   "file_extension": ".py",
   "mimetype": "text/x-python",
   "name": "python",
   "nbconvert_exporter": "python",
   "pygments_lexer": "ipython3",
   "version": "3.10.9"
  }
 },
 "nbformat": 4,
 "nbformat_minor": 5
}
