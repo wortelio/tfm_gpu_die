{
 "cells": [
  {
   "cell_type": "code",
   "execution_count": 1,
   "id": "cba6f86b-976b-4011-9ce7-7624ef404d89",
   "metadata": {},
   "outputs": [],
   "source": [
    "import os\n",
    "from tqdm import tqdm\n",
    "\n",
    "import utils\n",
    "import config\n",
    "import datasets\n",
    "import albumentations as A\n",
    "from albumentations.pytorch import ToTensorV2\n",
    "from torch.utils.data import DataLoader\n",
    "import validate\n",
    "\n",
    "import numpy as np\n",
    "import torch\n",
    "import torchmetrics\n",
    "\n",
    "import cv2\n",
    "import matplotlib.pyplot as plt"
   ]
  },
  {
   "cell_type": "code",
   "execution_count": 2,
   "id": "f19697c9-984a-471a-b8a0-6bde511a2bf9",
   "metadata": {},
   "outputs": [],
   "source": [
    "import onnx\n",
    "import onnxruntime"
   ]
  },
  {
   "cell_type": "markdown",
   "id": "329b168b-544e-46ee-841a-ac7fd4db5b37",
   "metadata": {},
   "source": [
    "# Load Models"
   ]
  },
  {
   "cell_type": "markdown",
   "id": "1a2afda4-6e12-4db5-b346-7bc545d6e1db",
   "metadata": {},
   "source": [
    "### No Compression"
   ]
  },
  {
   "cell_type": "code",
   "execution_count": 3,
   "id": "a4a26088-94ab-40c0-94cf-936d931dace6",
   "metadata": {},
   "outputs": [],
   "source": [
    "model_no = onnx.load('./models/onnx/no_comp_model.onnx')\n",
    "onnx.checker.check_model(model_no)"
   ]
  },
  {
   "cell_type": "markdown",
   "id": "a3abced0-5eb9-4d67-be34-bed83db0cfb9",
   "metadata": {},
   "source": [
    "### Low Compression"
   ]
  },
  {
   "cell_type": "code",
   "execution_count": 4,
   "id": "68213439-fd4f-40d5-97b7-032e7ae8f505",
   "metadata": {},
   "outputs": [],
   "source": [
    "model_low = onnx.load('./models/onnx/low_comp_model.onnx')\n",
    "onnx.checker.check_model(model_low)"
   ]
  },
  {
   "cell_type": "markdown",
   "id": "a1d95e7e-66a2-4216-9c6e-2622639cf296",
   "metadata": {},
   "source": [
    "### Medium Compression"
   ]
  },
  {
   "cell_type": "code",
   "execution_count": 5,
   "id": "69364862-fddf-46c5-a5df-39dfa7c7dc78",
   "metadata": {},
   "outputs": [],
   "source": [
    "model_med = onnx.load('./models/onnx/med_comp_model.onnx')\n",
    "onnx.checker.check_model(model_med)"
   ]
  },
  {
   "cell_type": "markdown",
   "id": "c35722f1-8f45-4027-8769-3ea48e46dd39",
   "metadata": {},
   "source": [
    "### High Compression"
   ]
  },
  {
   "cell_type": "code",
   "execution_count": 6,
   "id": "19c3413f-485d-4d4f-bfa1-232189bf06a3",
   "metadata": {},
   "outputs": [],
   "source": [
    "model_high = onnx.load('./models/onnx/high_comp_model.onnx')\n",
    "onnx.checker.check_model(model_high)"
   ]
  },
  {
   "cell_type": "markdown",
   "id": "a271ebeb-50c8-47e7-99e0-f3f04a2eae9b",
   "metadata": {},
   "source": [
    "### FASDD No Compression"
   ]
  },
  {
   "cell_type": "code",
   "execution_count": 7,
   "id": "2ab06eb5-becf-454d-a639-b3f45f2c9079",
   "metadata": {},
   "outputs": [],
   "source": [
    "model_fasdd_no_comp = onnx.load('./models/onnx/fasdd_no_comp.onnx')\n",
    "onnx.checker.check_model(model_fasdd_no_comp)"
   ]
  },
  {
   "cell_type": "markdown",
   "id": "55312cde-319a-4789-b0ae-47e7c08e80e9",
   "metadata": {},
   "source": [
    "### FASDD Medium Compression"
   ]
  },
  {
   "cell_type": "code",
   "execution_count": 8,
   "id": "3c59929c-4825-4f6e-a2a6-a86e2ac30370",
   "metadata": {},
   "outputs": [],
   "source": [
    "model_fasdd_med = onnx.load('./models/onnx/fasdd_med.onnx')\n",
    "onnx.checker.check_model(model_fasdd_med)"
   ]
  },
  {
   "cell_type": "code",
   "execution_count": 9,
   "id": "fc0b3c42-fe84-442d-835c-826c7d4bbcab",
   "metadata": {},
   "outputs": [],
   "source": [
    "model_fasdd_med_f1mean = onnx.load('./models/onnx/fasdd_med_best_f1_mean_epoch=37.onnx')\n",
    "onnx.checker.check_model(model_fasdd_med_f1mean)"
   ]
  },
  {
   "cell_type": "markdown",
   "id": "cd121080-b78c-49a0-8d49-b6cbd2cc3c3b",
   "metadata": {},
   "source": [
    "### Original FP32 Model Trained with FASDD"
   ]
  },
  {
   "cell_type": "code",
   "execution_count": 10,
   "id": "289b9a1e-aece-4873-9399-89708a23c0c4",
   "metadata": {},
   "outputs": [],
   "source": [
    "model_fp32 = onnx.load('./models/onnx/BED_classifier__fused__dfire_fasdd.onnx')\n",
    "onnx.checker.check_model(model_fp32)"
   ]
  },
  {
   "cell_type": "markdown",
   "id": "00cd2f4f-24b4-49c2-a0ea-3b58ddef593d",
   "metadata": {},
   "source": [
    "# Datasets"
   ]
  },
  {
   "cell_type": "code",
   "execution_count": 11,
   "id": "07f07076-7bac-4bc8-aa29-34d12bf9c66d",
   "metadata": {},
   "outputs": [
    {
     "name": "stdout",
     "output_type": "stream",
     "text": [
      "\n",
      "TEST DFire dataset\n",
      "DFire Removed wrong images: 0\n",
      "DFire empty images: 2005\n",
      "DFire only smoke images: 1186\n",
      "DFire only fire images: 220\n",
      "DFire smoke and fire images: 895\n",
      "\n",
      "Test dataset len: 4306\n",
      "\n",
      "TEST FASDD UAV dataset\n",
      "DFire Removed wrong images: 0\n",
      "DFire empty images: 1997\n",
      "DFire only smoke images: 846\n",
      "DFire only fire images: 35\n",
      "DFire smoke and fire images: 1303\n",
      "\n",
      "Test FASDD UAV dataset len: 4181\n",
      "\n",
      "TEST FASDD CV dataset\n",
      "DFire Removed wrong images: 0\n",
      "DFire empty images: 6533\n",
      "DFire only smoke images: 3902\n",
      "DFire only fire images: 2091\n",
      "DFire smoke and fire images: 3358\n",
      "\n",
      "Test FASDD CV dataset len: 15884\n",
      "\n",
      "TEST DFire dataset\n",
      "DFire Removed wrong images: 0\n",
      "DFire empty images: 2005\n",
      "DFire only smoke images: 1186\n",
      "DFire only fire images: 220\n",
      "DFire smoke and fire images: 895\n",
      "\n",
      "Test dataset len: 4306\n",
      "\n",
      "TEST FASDD UAV dataset\n",
      "DFire Removed wrong images: 0\n",
      "DFire empty images: 1997\n",
      "DFire only smoke images: 846\n",
      "DFire only fire images: 35\n",
      "DFire smoke and fire images: 1303\n",
      "\n",
      "Test FASDD UAV dataset len: 4181\n",
      "\n",
      "TEST FASDD CV dataset\n",
      "DFire Removed wrong images: 0\n",
      "DFire empty images: 6533\n",
      "DFire only smoke images: 3902\n",
      "DFire only fire images: 2091\n",
      "DFire smoke and fire images: 3358\n",
      "\n",
      "Test FASDD CV dataset len: 15884\n",
      "\n",
      "Concatenate Test DFire and FASDD UAV datasets\n",
      "Test dataset len: 8487\n",
      "Concatenate with FASDD CV dataset\n",
      "Test dataset len: 24371\n"
     ]
    }
   ],
   "source": [
    "dfire_loader = datasets.get_dfire_val_loader(shuffle=False)\n",
    "fasdd_uav_loader = datasets.get_fasdd_uav_val_loader(shuffle=False)\n",
    "fasdd_cv_loader = datasets.get_fasdd_cv_val_loader(shuffle=False)\n",
    "val_loader = datasets.get_val_loader(shuffle=False)"
   ]
  },
  {
   "cell_type": "markdown",
   "id": "ec7108e0-2bbd-4106-b597-cfec81cca0f6",
   "metadata": {},
   "source": [
    "# Evaluate ONNX with F1 Mean, Smoke and Fire"
   ]
  },
  {
   "cell_type": "code",
   "execution_count": 12,
   "id": "5d667e34-8352-45f1-ada8-51feefbdf4a1",
   "metadata": {},
   "outputs": [],
   "source": [
    "precision_metric = torchmetrics.classification.MultilabelPrecision(num_labels = config.N_CLASSES, \n",
    "                                                                   threshold = 0.5, \n",
    "                                                                   average = None).to('cpu')\n",
    "recall_metric = torchmetrics.classification.MultilabelRecall(num_labels = config.N_CLASSES, \n",
    "                                                             threshold = 0.5, \n",
    "                                                             average = None).to('cpu')\n",
    "accuracy_metric = torchmetrics.classification.MultilabelAccuracy(num_labels = config.N_CLASSES, \n",
    "                                                                 threshold = 0.5, \n",
    "                                                                 average = None).to('cpu')\n",
    "f1_metric = torchmetrics.classification.MultilabelF1Score(num_labels = config.N_CLASSES, \n",
    "                                                          threshold = 0.5, \n",
    "                                                          average = None).to('cpu')\n",
    "\n",
    "f1_metric_mean = torchmetrics.classification.MultilabelF1Score(num_labels = config.N_CLASSES, \n",
    "                                                               threshold = 0.5, \n",
    "                                                               average = 'macro').to('cpu')"
   ]
  },
  {
   "cell_type": "code",
   "execution_count": 13,
   "id": "71913b22-0a62-49f5-9027-3b07ec2648ea",
   "metadata": {},
   "outputs": [],
   "source": [
    "def to_numpy(tensor):\n",
    "    return tensor.detach().cpu().numpy() if tensor.requires_grad else tensor.cpu().numpy()"
   ]
  },
  {
   "cell_type": "code",
   "execution_count": 14,
   "id": "ea734538-d03d-4fcf-a812-4642894c1778",
   "metadata": {},
   "outputs": [],
   "source": [
    "def eval_onnx(loader, model_name):\n",
    "\n",
    "    ort_session = onnxruntime.InferenceSession(model_name, providers=[\"CPUExecutionProvider\"])\n",
    "\n",
    "    precision_metric.reset()\n",
    "    recall_metric.reset()\n",
    "    accuracy_metric.reset()\n",
    "    f1_metric.reset()\n",
    "    f1_metric_mean.reset()\n",
    "    \n",
    "    loop = tqdm(loader, desc='Validating', leave=True)\n",
    "\n",
    "    for batch_idx, (img, label) in enumerate(loop):\n",
    "\n",
    "        for idx in range(config.BATCH_SIZE):\n",
    "            \n",
    "            ort_inputs = {ort_session.get_inputs()[0].name: to_numpy(img[idx].unsqueeze(dim=0))}\n",
    "            yhat = ort_session.run(None, ort_inputs)\n",
    "            yhat = np.array(yhat)\n",
    "            #yhat = torch.tensor(yhat).squeeze(dim=0)\n",
    "            yhat = torch.sigmoid(torch.tensor(yhat).squeeze(dim=0))\n",
    "            target = label[idx].unsqueeze(dim=0)\n",
    "\n",
    "            precision_metric.update(yhat, target)\n",
    "            recall_metric.update(yhat, target)\n",
    "            accuracy_metric.update(yhat, target)\n",
    "            f1_metric.update(yhat, target)\n",
    "            f1_metric_mean.update(yhat, target)\n",
    "    \n",
    "    precision = precision_metric.compute()\n",
    "    recall = recall_metric.compute()\n",
    "    accuracy = accuracy_metric.compute()\n",
    "    f1 = f1_metric.compute()\n",
    "    f1_mean = f1_metric_mean.compute()\n",
    "\n",
    "    precision_metric.reset()\n",
    "    recall_metric.reset()\n",
    "    accuracy_metric.reset()\n",
    "    f1_metric.reset()\n",
    "    f1_metric_mean.reset()\n",
    "\n",
    "    print(f'SMOKE -> Precision: {precision[0]:.4f} - Recall: {recall[0]:.4f} - Accuracy: {accuracy[0]:.4f} - F1: {f1[0]:.4f}')\n",
    "    print(f'FIRE -> Precision: {precision[1]:.4f} - Recall: {recall[1]:.4f} - Accuracy: {accuracy[1]:.4f} - F1: {f1[1]:.4f}')\n",
    "    print(f'Mean F1 Score: {f1_mean.item():.4f}')\n",
    "    \n",
    "    return (\n",
    "        {\n",
    "        'Accuracy': [accuracy[0].item(), accuracy[1].item()],\n",
    "        'Precision': [precision[0].item(), precision[1].item()],\n",
    "        'Recall': [recall[0].item(), recall[1].item()],\n",
    "        'F1': [f1[0].item(), f1[1].item()],\n",
    "        'F1 mean': f1_mean.item(),\n",
    "        }\n",
    "    )"
   ]
  },
  {
   "cell_type": "markdown",
   "id": "5511c960-7f6a-4161-a902-9530f9c7a249",
   "metadata": {},
   "source": [
    "# Models Trained with DFire Evaluated with FASDD UAV, CV and DFire dataset"
   ]
  },
  {
   "cell_type": "code",
   "execution_count": 15,
   "id": "1d23b7a7-750e-431d-a37d-2a58b02280b1",
   "metadata": {},
   "outputs": [
    {
     "name": "stdout",
     "output_type": "stream",
     "text": [
      "__________________________________ FASDD NO COMPRESSION  __________________________________\n"
     ]
    },
    {
     "name": "stderr",
     "output_type": "stream",
     "text": [
      "Validating: 100%|██████████████████████████████████████████████████████████████████████████████████████████████████████████████████████████████████████████| 380/380 [01:18<00:00,  4.84it/s]\n"
     ]
    },
    {
     "name": "stdout",
     "output_type": "stream",
     "text": [
      "SMOKE -> Precision: 0.5922 - Recall: 0.6984 - Accuracy: 0.6311 - F1: 0.6409\n",
      "FIRE -> Precision: 0.7772 - Recall: 0.8044 - Accuracy: 0.8618 - F1: 0.7906\n",
      "Mean F1 Score: 0.7157\n",
      "\n",
      "________________________________ FASDD LOW COMPRESSION __________________________________\n"
     ]
    },
    {
     "name": "stderr",
     "output_type": "stream",
     "text": [
      "Validating: 100%|██████████████████████████████████████████████████████████████████████████████████████████████████████████████████████████████████████████| 380/380 [01:07<00:00,  5.60it/s]\n"
     ]
    },
    {
     "name": "stdout",
     "output_type": "stream",
     "text": [
      "SMOKE -> Precision: 0.5987 - Recall: 0.7312 - Accuracy: 0.6423 - F1: 0.6584\n",
      "FIRE -> Precision: 0.7499 - Recall: 0.8546 - Accuracy: 0.8605 - F1: 0.7989\n",
      "Mean F1 Score: 0.7286\n",
      "\n",
      "________________________________ FASDD MEDIUM COMPRESSION _______________________________\n"
     ]
    },
    {
     "name": "stderr",
     "output_type": "stream",
     "text": [
      "Validating: 100%|██████████████████████████████████████████████████████████████████████████████████████████████████████████████████████████████████████████| 380/380 [01:06<00:00,  5.73it/s]\n"
     ]
    },
    {
     "name": "stdout",
     "output_type": "stream",
     "text": [
      "SMOKE -> Precision: 0.6278 - Recall: 0.7426 - Accuracy: 0.6711 - F1: 0.6804\n",
      "FIRE -> Precision: 0.7985 - Recall: 0.8205 - Accuracy: 0.8747 - F1: 0.8094\n",
      "Mean F1 Score: 0.7449\n",
      "\n",
      "________________________________ FASDD HIGH COMPRESSION _________________________________\n"
     ]
    },
    {
     "name": "stderr",
     "output_type": "stream",
     "text": [
      "Validating: 100%|██████████████████████████████████████████████████████████████████████████████████████████████████████████████████████████████████████████| 380/380 [01:05<00:00,  5.81it/s]"
     ]
    },
    {
     "name": "stdout",
     "output_type": "stream",
     "text": [
      "SMOKE -> Precision: 0.6341 - Recall: 0.7438 - Accuracy: 0.6769 - F1: 0.6846\n",
      "FIRE -> Precision: 0.7909 - Recall: 0.8219 - Accuracy: 0.8718 - F1: 0.8061\n",
      "Mean F1 Score: 0.7453\n"
     ]
    },
    {
     "name": "stderr",
     "output_type": "stream",
     "text": [
      "\n"
     ]
    }
   ],
   "source": [
    "print(\"__________________________________ FASDD NO COMPRESSION  __________________________________\")\n",
    "_ = eval_onnx(val_loader, './models/onnx/no_comp_model.onnx')\n",
    "\n",
    "print(\"\\n________________________________ FASDD LOW COMPRESSION __________________________________\")\n",
    "_ = eval_onnx(val_loader, './models/onnx/low_comp_model.onnx')\n",
    "\n",
    "print(\"\\n________________________________ FASDD MEDIUM COMPRESSION _______________________________\")\n",
    "_ = eval_onnx(val_loader, './models/onnx/med_comp_model.onnx')\n",
    "\n",
    "print(\"\\n________________________________ FASDD HIGH COMPRESSION _________________________________\")\n",
    "_ = eval_onnx(val_loader, './models/onnx/high_comp_model.onnx')"
   ]
  },
  {
   "cell_type": "markdown",
   "id": "12d1fae1-defe-4a8f-942b-bb2a89f619cb",
   "metadata": {},
   "source": [
    "# Models Trained with FASDD Evaluated with FASDD UAV, CV and DFire, together and separated"
   ]
  },
  {
   "cell_type": "markdown",
   "id": "105d6d21-fdc0-4762-87ae-ad3a2c157108",
   "metadata": {},
   "source": [
    "### Whole Dataset"
   ]
  },
  {
   "cell_type": "code",
   "execution_count": 16,
   "id": "abef4397-928b-450f-ae2f-c27bc85fb1e5",
   "metadata": {},
   "outputs": [
    {
     "name": "stdout",
     "output_type": "stream",
     "text": [
      "__________________________________ FASDD NO COMPRESSION __________________________________\n"
     ]
    },
    {
     "name": "stderr",
     "output_type": "stream",
     "text": [
      "Validating: 100%|██████████████████████████████████████████████████████████████████████████████████████████████████████████████████████████████████████████| 380/380 [01:19<00:00,  4.75it/s]\n"
     ]
    },
    {
     "name": "stdout",
     "output_type": "stream",
     "text": [
      "SMOKE -> Precision: 0.9193 - Recall: 0.8669 - Accuracy: 0.9014 - F1: 0.8924\n",
      "FIRE -> Precision: 0.8839 - Recall: 0.9701 - Accuracy: 0.9490 - F1: 0.9250\n",
      "Mean F1 Score: 0.9087\n",
      "\n",
      "________________________________ FASDD MEDIUM COMPRESSION ________________________________\n"
     ]
    },
    {
     "name": "stderr",
     "output_type": "stream",
     "text": [
      "Validating: 100%|██████████████████████████████████████████████████████████████████████████████████████████████████████████████████████████████████████████| 380/380 [01:15<00:00,  5.06it/s]"
     ]
    },
    {
     "name": "stdout",
     "output_type": "stream",
     "text": [
      "SMOKE -> Precision: 0.9225 - Recall: 0.8672 - Accuracy: 0.9031 - F1: 0.8940\n",
      "FIRE -> Precision: 0.9007 - Recall: 0.9717 - Accuracy: 0.9561 - F1: 0.9348\n",
      "Mean F1 Score: 0.9144\n"
     ]
    },
    {
     "name": "stderr",
     "output_type": "stream",
     "text": [
      "\n"
     ]
    }
   ],
   "source": [
    "print(\"__________________________________ FASDD NO COMPRESSION __________________________________\")\n",
    "_ = eval_onnx(val_loader, './models/onnx/fasdd_no_comp.onnx')\n",
    "\n",
    "print(\"\\n________________________________ FASDD MEDIUM COMPRESSION ________________________________\")\n",
    "_ = eval_onnx(val_loader, './models/onnx/fasdd_med.onnx')"
   ]
  },
  {
   "cell_type": "markdown",
   "id": "cb403701-acdc-474c-8dc6-25968a5b2f30",
   "metadata": {},
   "source": [
    "### Only DFire"
   ]
  },
  {
   "cell_type": "code",
   "execution_count": 17,
   "id": "b738f41f-e79b-4e7f-9ebb-d798943450ab",
   "metadata": {},
   "outputs": [
    {
     "name": "stdout",
     "output_type": "stream",
     "text": [
      "__________________________________ FASDD NO COMPRESSION __________________________________\n"
     ]
    },
    {
     "name": "stderr",
     "output_type": "stream",
     "text": [
      "Validating: 100%|████████████████████████████████████████████████████████████████████████████████████████████████████████████████████████████████████████████| 67/67 [00:13<00:00,  5.07it/s]\n"
     ]
    },
    {
     "name": "stdout",
     "output_type": "stream",
     "text": [
      "SMOKE -> Precision: 0.9066 - Recall: 0.8982 - Accuracy: 0.9065 - F1: 0.9024\n",
      "FIRE -> Precision: 0.9163 - Recall: 0.9270 - Accuracy: 0.9592 - F1: 0.9216\n",
      "Mean F1 Score: 0.9120\n",
      "\n",
      "________________________________ FASDD MEDIUM COMPRESSION ________________________________\n"
     ]
    },
    {
     "name": "stderr",
     "output_type": "stream",
     "text": [
      "Validating: 100%|████████████████████████████████████████████████████████████████████████████████████████████████████████████████████████████████████████████| 67/67 [00:11<00:00,  5.60it/s]"
     ]
    },
    {
     "name": "stdout",
     "output_type": "stream",
     "text": [
      "SMOKE -> Precision: 0.9108 - Recall: 0.9011 - Accuracy: 0.9100 - F1: 0.9059\n",
      "FIRE -> Precision: 0.9221 - Recall: 0.9387 - Accuracy: 0.9636 - F1: 0.9304\n",
      "Mean F1 Score: 0.9182\n"
     ]
    },
    {
     "name": "stderr",
     "output_type": "stream",
     "text": [
      "\n"
     ]
    }
   ],
   "source": [
    "print(\"__________________________________ FASDD NO COMPRESSION __________________________________\")\n",
    "_ = eval_onnx(dfire_loader, './models/onnx/fasdd_no_comp.onnx')\n",
    "print(\"\\n________________________________ FASDD MEDIUM COMPRESSION ________________________________\")\n",
    "_ = eval_onnx(dfire_loader, './models/onnx/fasdd_med.onnx')"
   ]
  },
  {
   "cell_type": "markdown",
   "id": "7fe79282-116f-4ff7-b001-db21731f51f2",
   "metadata": {},
   "source": [
    "### Only FASDD UAV"
   ]
  },
  {
   "cell_type": "code",
   "execution_count": 18,
   "id": "f52e934a-91f1-44c4-aa90-14c2d90098f8",
   "metadata": {},
   "outputs": [
    {
     "name": "stdout",
     "output_type": "stream",
     "text": [
      "__________________________________ FASDD NO COMPRESSION __________________________________\n"
     ]
    },
    {
     "name": "stderr",
     "output_type": "stream",
     "text": [
      "Validating: 100%|████████████████████████████████████████████████████████████████████████████████████████████████████████████████████████████████████████████| 65/65 [00:20<00:00,  3.15it/s]\n"
     ]
    },
    {
     "name": "stdout",
     "output_type": "stream",
     "text": [
      "SMOKE -> Precision: 0.9933 - Recall: 0.8999 - Accuracy: 0.9457 - F1: 0.9443\n",
      "FIRE -> Precision: 0.9906 - Recall: 0.9484 - Accuracy: 0.9805 - F1: 0.9691\n",
      "Mean F1 Score: 0.9567\n",
      "\n",
      "________________________________ FASDD MEDIUM COMPRESSION ________________________________\n"
     ]
    },
    {
     "name": "stderr",
     "output_type": "stream",
     "text": [
      "Validating: 100%|████████████████████████████████████████████████████████████████████████████████████████████████████████████████████████████████████████████| 65/65 [00:19<00:00,  3.32it/s]"
     ]
    },
    {
     "name": "stdout",
     "output_type": "stream",
     "text": [
      "SMOKE -> Precision: 0.9878 - Recall: 0.9154 - Accuracy: 0.9510 - F1: 0.9502\n",
      "FIRE -> Precision: 0.9637 - Recall: 0.9731 - Accuracy: 0.9796 - F1: 0.9684\n",
      "Mean F1 Score: 0.9593\n"
     ]
    },
    {
     "name": "stderr",
     "output_type": "stream",
     "text": [
      "\n"
     ]
    }
   ],
   "source": [
    "print(\"__________________________________ FASDD NO COMPRESSION __________________________________\")\n",
    "_ = eval_onnx(fasdd_uav_loader, './models/onnx/fasdd_no_comp.onnx')\n",
    "print(\"\\n________________________________ FASDD MEDIUM COMPRESSION ________________________________\")\n",
    "_ = eval_onnx(fasdd_uav_loader, './models/onnx/fasdd_med.onnx')"
   ]
  },
  {
   "cell_type": "markdown",
   "id": "07568791-fefa-451c-904a-8f72f3b8226a",
   "metadata": {},
   "source": [
    "### Only FASDD CV"
   ]
  },
  {
   "cell_type": "code",
   "execution_count": 19,
   "id": "92717a1e-4576-4fbe-a91f-9f4ba4589855",
   "metadata": {
    "tags": []
   },
   "outputs": [
    {
     "name": "stdout",
     "output_type": "stream",
     "text": [
      "__________________________________ FASDD NO COMPRESSION __________________________________\n"
     ]
    },
    {
     "name": "stderr",
     "output_type": "stream",
     "text": [
      "Validating: 100%|██████████████████████████████████████████████████████████████████████████████████████████████████████████████████████████████████████████| 248/248 [00:48<00:00,  5.13it/s]\n"
     ]
    },
    {
     "name": "stdout",
     "output_type": "stream",
     "text": [
      "SMOKE -> Precision: 0.9021 - Recall: 0.8485 - Accuracy: 0.8887 - F1: 0.8744\n",
      "FIRE -> Precision: 0.8560 - Recall: 0.9842 - Accuracy: 0.9378 - F1: 0.9156\n",
      "Mean F1 Score: 0.8950\n",
      "\n",
      "________________________________ FASDD MEDIUM COMPRESSION ________________________________\n"
     ]
    },
    {
     "name": "stderr",
     "output_type": "stream",
     "text": [
      "Validating: 100%|██████████████████████████████████████████████████████████████████████████████████████████████████████████████████████████████████████████| 248/248 [00:44<00:00,  5.63it/s]"
     ]
    },
    {
     "name": "stdout",
     "output_type": "stream",
     "text": [
      "SMOKE -> Precision: 0.9066 - Recall: 0.8435 - Accuracy: 0.8888 - F1: 0.8739\n",
      "FIRE -> Precision: 0.8824 - Recall: 0.9781 - Accuracy: 0.9478 - F1: 0.9278\n",
      "Mean F1 Score: 0.9009\n"
     ]
    },
    {
     "name": "stderr",
     "output_type": "stream",
     "text": [
      "\n"
     ]
    }
   ],
   "source": [
    "print(\"__________________________________ FASDD NO COMPRESSION __________________________________\")\n",
    "_ = eval_onnx(fasdd_cv_loader, './models/onnx/fasdd_no_comp.onnx')\n",
    "print(\"\\n________________________________ FASDD MEDIUM COMPRESSION ________________________________\")\n",
    "_ = eval_onnx(fasdd_cv_loader, './models/onnx/fasdd_med.onnx')"
   ]
  }
 ],
 "metadata": {
  "kernelspec": {
   "display_name": "Python 3 (ipykernel)",
   "language": "python",
   "name": "python3"
  },
  "language_info": {
   "codemirror_mode": {
    "name": "ipython",
    "version": 3
   },
   "file_extension": ".py",
   "mimetype": "text/x-python",
   "name": "python",
   "nbconvert_exporter": "python",
   "pygments_lexer": "ipython3",
   "version": "3.10.9"
  }
 },
 "nbformat": 4,
 "nbformat_minor": 5
}
