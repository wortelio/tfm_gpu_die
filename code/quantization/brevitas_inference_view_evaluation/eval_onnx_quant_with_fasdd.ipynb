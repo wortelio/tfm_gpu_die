{
 "cells": [
  {
   "cell_type": "code",
   "execution_count": 1,
   "id": "cba6f86b-976b-4011-9ce7-7624ef404d89",
   "metadata": {},
   "outputs": [],
   "source": [
    "import os\n",
    "import logging\n",
    "from tqdm import tqdm\n",
    "\n",
    "import utils\n",
    "import config\n",
    "import datasets\n",
    "import validate\n",
    "\n",
    "import numpy as np\n",
    "import torch\n",
    "import torchmetrics"
   ]
  },
  {
   "cell_type": "code",
   "execution_count": 2,
   "id": "f19697c9-984a-471a-b8a0-6bde511a2bf9",
   "metadata": {},
   "outputs": [],
   "source": [
    "import onnx\n",
    "import onnxruntime"
   ]
  },
  {
   "cell_type": "markdown",
   "id": "62340791-7811-4713-94f9-141fc6330acf",
   "metadata": {},
   "source": [
    "# Logging for Evaluation Reports"
   ]
  },
  {
   "cell_type": "code",
   "execution_count": 14,
   "id": "0c8eff8f-805f-4f40-81b6-db7628cb7994",
   "metadata": {},
   "outputs": [],
   "source": [
    "log_path = './eval_reports_log/no_comp.log'\n",
    "\n",
    "logger = logging.getLogger(\"GonLogger\")\n",
    "logger.propagate = False\n",
    "logger.setLevel(logging.INFO)\n",
    "file_handler = logging.FileHandler(log_path)\n",
    "formatter = logging.Formatter('%(message)s')\n",
    "file_handler.setFormatter(formatter)\n",
    "\n",
    "# add file handler to logger\n",
    "logger.addHandler(file_handler)\n",
    "\n",
    "logger.info('No Compression.\\n' +  \n",
    "            #'\\tConv341 defined as big layer.\\n' +\n",
    "            f'\\tWeights bit width = {config.NO_COMP_WEIGHTS_BIT_WIDTH}.\\n' +\n",
    "            f'\\tBig Layers Weights bit width = {config.NO_COMP_BIG_LAYERS_WEIGHTS_BIT_WIDTH}.\\n' +\n",
    "            f'\\tActivations bit width = {config.NO_COMP_ACTIVATIONS_BIT_WIDTH}.\\n' +\n",
    "            f'\\tBias bit width = {config.NO_COMP_BIAS_BIT_WIDTH}.\\n')\n",
    "\n",
    "# logger.info('Medium Compression.\\n' +  \n",
    "#             #'\\tConv341 defined as big layer.\\n' +\n",
    "#             f'\\tWeights bit width = {config.MED_COMP_WEIGHTS_BIT_WIDTH}.\\n' +\n",
    "#             f'\\tBig Layers Weights bit width = {config.MED_COMP_BIG_LAYERS_WEIGHTS_BIT_WIDTH}.\\n' +\n",
    "#             f'\\tActivations bit width = {config.MED_COMP_ACTIVATIONS_BIT_WIDTH}.\\n' +\n",
    "#             f'\\tBias bit width = {config.MED_COMP_BIAS_BIT_WIDTH}.\\n')"
   ]
  },
  {
   "cell_type": "markdown",
   "id": "329b168b-544e-46ee-841a-ac7fd4db5b37",
   "metadata": {},
   "source": [
    "# Load Model"
   ]
  },
  {
   "cell_type": "code",
   "execution_count": 15,
   "id": "bafcdd7e-3f49-4de4-8263-8f527832e72a",
   "metadata": {},
   "outputs": [],
   "source": [
    "model_path = './models/onnx_fasdd/fassd_no_comp_epoch=59.onnx'\n",
    "#model_path = './models/onnx_fasdd/medium_fassd_best_f1_mean_epoch=37.onnx'\n",
    "#model_path = './models/onnx_fasdd/medium_fassd__conv341_big__epoch=93.onnx'\n",
    "\n",
    "logger.info(f'Using model: {model_path}')"
   ]
  },
  {
   "cell_type": "markdown",
   "id": "00cd2f4f-24b4-49c2-a0ea-3b58ddef593d",
   "metadata": {},
   "source": [
    "# Datasets"
   ]
  },
  {
   "cell_type": "code",
   "execution_count": 6,
   "id": "07f07076-7bac-4bc8-aa29-34d12bf9c66d",
   "metadata": {},
   "outputs": [
    {
     "name": "stdout",
     "output_type": "stream",
     "text": [
      "\n",
      "TEST DFire dataset\n",
      "DFire Removed wrong images: 0\n",
      "DFire empty images: 2005\n",
      "DFire only smoke images: 1186\n",
      "DFire only fire images: 220\n",
      "DFire smoke and fire images: 895\n",
      "\n",
      "Test dataset len: 4306\n",
      "\n",
      "TEST FASDD UAV dataset\n",
      "DFire Removed wrong images: 0\n",
      "DFire empty images: 1997\n",
      "DFire only smoke images: 846\n",
      "DFire only fire images: 35\n",
      "DFire smoke and fire images: 1303\n",
      "\n",
      "Test FASDD UAV dataset len: 4181\n",
      "\n",
      "TEST FASDD CV dataset\n",
      "DFire Removed wrong images: 0\n",
      "DFire empty images: 6533\n",
      "DFire only smoke images: 3902\n",
      "DFire only fire images: 2091\n",
      "DFire smoke and fire images: 3358\n",
      "\n",
      "Test FASDD CV dataset len: 15884\n",
      "\n",
      "TEST DFire dataset\n",
      "DFire Removed wrong images: 0\n",
      "DFire empty images: 2005\n",
      "DFire only smoke images: 1186\n",
      "DFire only fire images: 220\n",
      "DFire smoke and fire images: 895\n",
      "\n",
      "Test dataset len: 4306\n",
      "\n",
      "TEST FASDD UAV dataset\n",
      "DFire Removed wrong images: 0\n",
      "DFire empty images: 1997\n",
      "DFire only smoke images: 846\n",
      "DFire only fire images: 35\n",
      "DFire smoke and fire images: 1303\n",
      "\n",
      "Test FASDD UAV dataset len: 4181\n",
      "\n",
      "TEST FASDD CV dataset\n",
      "DFire Removed wrong images: 0\n",
      "DFire empty images: 6533\n",
      "DFire only smoke images: 3902\n",
      "DFire only fire images: 2091\n",
      "DFire smoke and fire images: 3358\n",
      "\n",
      "Test FASDD CV dataset len: 15884\n",
      "\n",
      "Concatenate Test DFire and FASDD UAV datasets\n",
      "Test dataset len: 8487\n",
      "Concatenate with FASDD CV dataset\n",
      "Test dataset len: 24371\n"
     ]
    }
   ],
   "source": [
    "dfire_loader = datasets.get_dfire_val_loader(shuffle=False)\n",
    "fasdd_uav_loader = datasets.get_fasdd_uav_val_loader(shuffle=False)\n",
    "fasdd_cv_loader = datasets.get_fasdd_cv_val_loader(shuffle=False)\n",
    "val_loader = datasets.get_val_loader(shuffle=False)"
   ]
  },
  {
   "cell_type": "markdown",
   "id": "ec7108e0-2bbd-4106-b597-cfec81cca0f6",
   "metadata": {},
   "source": [
    "# Evaluate ONNX with F1 Mean, Smoke and Fire"
   ]
  },
  {
   "cell_type": "code",
   "execution_count": 7,
   "id": "5d667e34-8352-45f1-ada8-51feefbdf4a1",
   "metadata": {},
   "outputs": [],
   "source": [
    "precision_metric = torchmetrics.classification.MultilabelPrecision(num_labels = config.N_CLASSES, \n",
    "                                                                   threshold = 0.5, \n",
    "                                                                   average = None).to('cpu')\n",
    "recall_metric = torchmetrics.classification.MultilabelRecall(num_labels = config.N_CLASSES, \n",
    "                                                             threshold = 0.5, \n",
    "                                                             average = None).to('cpu')\n",
    "accuracy_metric = torchmetrics.classification.MultilabelAccuracy(num_labels = config.N_CLASSES, \n",
    "                                                                 threshold = 0.5, \n",
    "                                                                 average = None).to('cpu')\n",
    "f1_metric = torchmetrics.classification.MultilabelF1Score(num_labels = config.N_CLASSES, \n",
    "                                                          threshold = 0.5, \n",
    "                                                          average = None).to('cpu')\n",
    "\n",
    "f1_metric_mean = torchmetrics.classification.MultilabelF1Score(num_labels = config.N_CLASSES, \n",
    "                                                               threshold = 0.5, \n",
    "                                                               average = 'macro').to('cpu')"
   ]
  },
  {
   "cell_type": "code",
   "execution_count": 8,
   "id": "71913b22-0a62-49f5-9027-3b07ec2648ea",
   "metadata": {},
   "outputs": [],
   "source": [
    "def to_numpy(tensor):\n",
    "    return tensor.detach().cpu().numpy() if tensor.requires_grad else tensor.cpu().numpy()"
   ]
  },
  {
   "cell_type": "code",
   "execution_count": 9,
   "id": "ea734538-d03d-4fcf-a812-4642894c1778",
   "metadata": {},
   "outputs": [],
   "source": [
    "def eval_onnx(loader, model_name):\n",
    "\n",
    "    ort_session = onnxruntime.InferenceSession(model_name, providers=[\"CPUExecutionProvider\"])\n",
    "\n",
    "    precision_metric.reset()\n",
    "    recall_metric.reset()\n",
    "    accuracy_metric.reset()\n",
    "    f1_metric.reset()\n",
    "    f1_metric_mean.reset()\n",
    "    \n",
    "    loop = tqdm(loader, desc='Validating', leave=True)\n",
    "\n",
    "    for batch_idx, (img, label) in enumerate(loop):\n",
    "\n",
    "        for idx in range(config.BATCH_SIZE):\n",
    "            \n",
    "            ort_inputs = {ort_session.get_inputs()[0].name: to_numpy(img[idx].unsqueeze(dim=0))}\n",
    "            yhat = ort_session.run(None, ort_inputs)\n",
    "            yhat = np.array(yhat)\n",
    "            #yhat = torch.tensor(yhat).squeeze(dim=0)\n",
    "            yhat = torch.sigmoid(torch.tensor(yhat).squeeze(dim=0))\n",
    "            target = label[idx].unsqueeze(dim=0)\n",
    "\n",
    "            precision_metric.update(yhat, target)\n",
    "            recall_metric.update(yhat, target)\n",
    "            accuracy_metric.update(yhat, target)\n",
    "            f1_metric.update(yhat, target)\n",
    "            f1_metric_mean.update(yhat, target)\n",
    "    \n",
    "    precision = precision_metric.compute()\n",
    "    recall = recall_metric.compute()\n",
    "    accuracy = accuracy_metric.compute()\n",
    "    f1 = f1_metric.compute()\n",
    "    f1_mean = f1_metric_mean.compute()\n",
    "\n",
    "    precision_metric.reset()\n",
    "    recall_metric.reset()\n",
    "    accuracy_metric.reset()\n",
    "    f1_metric.reset()\n",
    "    f1_metric_mean.reset()\n",
    "\n",
    "    print(f'SMOKE -> Precision: {precision[0]:.4f} - Recall: {recall[0]:.4f} - Accuracy: {accuracy[0]:.4f} - F1: {f1[0]:.4f}')\n",
    "    print(f'FIRE -> Precision: {precision[1]:.4f} - Recall: {recall[1]:.4f} - Accuracy: {accuracy[1]:.4f} - F1: {f1[1]:.4f}')\n",
    "    print(f'Mean F1 Score: {f1_mean.item():.4f}')\n",
    "    \n",
    "    logger.info(f'SMOKE -> Precision: {precision[0]:.4f} - Recall: {recall[0]:.4f} - Accuracy: {accuracy[0]:.4f} - F1: {f1[0]:.4f}')\n",
    "    logger.info(f'FIRE -> Precision: {precision[1]:.4f} - Recall: {recall[1]:.4f} - Accuracy: {accuracy[1]:.4f} - F1: {f1[1]:.4f}')\n",
    "    logger.info(f'Mean F1 Score: {f1_mean.item():.4f}')\n",
    "    \n",
    "    return (\n",
    "        {\n",
    "        'Accuracy': [accuracy[0].item(), accuracy[1].item()],\n",
    "        'Precision': [precision[0].item(), precision[1].item()],\n",
    "        'Recall': [recall[0].item(), recall[1].item()],\n",
    "        'F1': [f1[0].item(), f1[1].item()],\n",
    "        'F1 mean': f1_mean.item(),\n",
    "        }\n",
    "    )"
   ]
  },
  {
   "cell_type": "markdown",
   "id": "12d1fae1-defe-4a8f-942b-bb2a89f619cb",
   "metadata": {},
   "source": [
    "# Models Trained with FASDD Evaluated with FASDD UAV, CV and DFire, together and separated"
   ]
  },
  {
   "cell_type": "code",
   "execution_count": 16,
   "id": "b738f41f-e79b-4e7f-9ebb-d798943450ab",
   "metadata": {},
   "outputs": [
    {
     "name": "stdout",
     "output_type": "stream",
     "text": [
      "\n",
      "________________________________ DFire + FASDD ________________________________\n"
     ]
    },
    {
     "name": "stderr",
     "output_type": "stream",
     "text": [
      "Validating: 100%|███████████████████████████████████████████████████████████████████████████████████████████████| 380/380 [01:19<00:00,  4.77it/s]\n"
     ]
    },
    {
     "name": "stdout",
     "output_type": "stream",
     "text": [
      "SMOKE -> Precision: 0.9217 - Recall: 0.8882 - Accuracy: 0.9117 - F1: 0.9046\n",
      "FIRE -> Precision: 0.9261 - Recall: 0.9555 - Accuracy: 0.9609 - F1: 0.9406\n",
      "Mean F1 Score: 0.9226\n",
      "\n",
      "________________________________  DFIRE ________________________________\n"
     ]
    },
    {
     "name": "stderr",
     "output_type": "stream",
     "text": [
      "Validating: 100%|█████████████████████████████████████████████████████████████████████████████████████████████████| 67/67 [00:13<00:00,  5.10it/s]\n"
     ]
    },
    {
     "name": "stdout",
     "output_type": "stream",
     "text": [
      "SMOKE -> Precision: 0.9005 - Recall: 0.8997 - Accuracy: 0.9039 - F1: 0.9001\n",
      "FIRE -> Precision: 0.9514 - Recall: 0.9180 - Accuracy: 0.9667 - F1: 0.9344\n",
      "Mean F1 Score: 0.9173\n",
      "\n",
      "________________________________ FASDD UAV ________________________________\n"
     ]
    },
    {
     "name": "stderr",
     "output_type": "stream",
     "text": [
      "Validating: 100%|█████████████████████████████████████████████████████████████████████████████████████████████████| 65/65 [00:20<00:00,  3.24it/s]\n"
     ]
    },
    {
     "name": "stdout",
     "output_type": "stream",
     "text": [
      "SMOKE -> Precision: 0.9927 - Recall: 0.8905 - Accuracy: 0.9406 - F1: 0.9388\n",
      "FIRE -> Precision: 0.9694 - Recall: 0.9701 - Accuracy: 0.9805 - F1: 0.9697\n",
      "Mean F1 Score: 0.9543\n",
      "\n",
      "________________________________ FASDD CV ________________________________\n"
     ]
    },
    {
     "name": "stderr",
     "output_type": "stream",
     "text": [
      "Validating: 100%|███████████████████████████████████████████████████████████████████████████████████████████████| 248/248 [00:47<00:00,  5.23it/s]"
     ]
    },
    {
     "name": "stdout",
     "output_type": "stream",
     "text": [
      "SMOKE -> Precision: 0.9084 - Recall: 0.8847 - Accuracy: 0.9066 - F1: 0.8964\n",
      "FIRE -> Precision: 0.9112 - Recall: 0.9598 - Accuracy: 0.9541 - F1: 0.9348\n",
      "Mean F1 Score: 0.9156\n"
     ]
    },
    {
     "name": "stderr",
     "output_type": "stream",
     "text": [
      "\n"
     ]
    }
   ],
   "source": [
    "print(\"\\n________________________________ DFire + FASDD ________________________________\")\n",
    "logger.info(\"\\n________________________________ DFire + FASDD ________________________________\")\n",
    "metrics_dfire_fasdd = eval_onnx(val_loader, model_path)\n",
    "#print_metrics(metrics_dfire_fasdd)\n",
    "\n",
    "print(\"\\n________________________________  DFIRE ________________________________\")\n",
    "logger.info(\"\\n________________________________  DFIRE ________________________________\")\n",
    "metrics_dfire = eval_onnx(dfire_loader, model_path)\n",
    "\n",
    "print(\"\\n________________________________ FASDD UAV ________________________________\")\n",
    "logger.info(\"\\n________________________________ FASDD UAV ________________________________\")\n",
    "metrics_fasdd_uav = eval_onnx(fasdd_uav_loader, model_path)\n",
    "\n",
    "print(\"\\n________________________________ FASDD CV ________________________________\")\n",
    "logger.info(\"\\n________________________________ FASDD CV ________________________________\")\n",
    "metrics_fasdd_cv = eval_onnx(fasdd_cv_loader, model_path)"
   ]
  },
  {
   "cell_type": "code",
   "execution_count": null,
   "id": "535ea56f-a56a-4fa9-8dac-5bd1307712d7",
   "metadata": {},
   "outputs": [],
   "source": []
  }
 ],
 "metadata": {
  "kernelspec": {
   "display_name": "Python 3 (ipykernel)",
   "language": "python",
   "name": "python3"
  },
  "language_info": {
   "codemirror_mode": {
    "name": "ipython",
    "version": 3
   },
   "file_extension": ".py",
   "mimetype": "text/x-python",
   "name": "python",
   "nbconvert_exporter": "python",
   "pygments_lexer": "ipython3",
   "version": "3.10.9"
  }
 },
 "nbformat": 4,
 "nbformat_minor": 5
}
