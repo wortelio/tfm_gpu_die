{
 "cells": [
  {
   "cell_type": "code",
   "execution_count": 1,
   "id": "1317c2ed-dd31-4214-b084-eea10dbb5beb",
   "metadata": {
    "tags": []
   },
   "outputs": [],
   "source": [
    "import modules.models as cnv_model\n",
    "import modules.utils as utils\n",
    "import torch\n",
    "from torchinfo import summary"
   ]
  },
  {
   "cell_type": "markdown",
   "id": "9d59edbf-831b-4311-b117-cbdbf5ffd4ae",
   "metadata": {},
   "source": [
    "# Setup Model"
   ]
  },
  {
   "cell_type": "code",
   "execution_count": 2,
   "id": "dd30f917-7557-4882-88d0-5d7c4cb149dc",
   "metadata": {
    "tags": []
   },
   "outputs": [],
   "source": [
    "DEVICE = \"cuda\" if torch.cuda.is_available() else \"cpu\""
   ]
  },
  {
   "cell_type": "code",
   "execution_count": 3,
   "id": "fed445a4-9a9e-4cca-b63e-bbaa86241bae",
   "metadata": {
    "tags": []
   },
   "outputs": [
    {
     "name": "stdout",
     "output_type": "stream",
     "text": [
      "Using MOBILENETV3 Classifier\n",
      "Sequential(\n",
      "  (0): Linear(in_features=576, out_features=1024, bias=True)\n",
      "  (1): Hardswish()\n",
      "  (2): Dropout(p=0.2, inplace=True)\n",
      "  (3): Linear(in_features=1024, out_features=1000, bias=True)\n",
      ")\n",
      "Model Pretrained has 576 in features in last layer\n",
      "Using SHUFFLE Classifier\n",
      "Linear(in_features=1024, out_features=1000, bias=True)\n",
      "Model Pretrained has 1024 in features in last layer\n"
     ]
    }
   ],
   "source": [
    "mbnet_v3 = cnv_model.setup_model(\n",
    "    model_name=\"MOBILENETV3\", \n",
    "    num_classes=2, \n",
    "    device=DEVICE)\n",
    "\n",
    "shufflenet_v2 = cnv_model.setup_model(\n",
    "    model_name=\"SHUFFLENET\", \n",
    "    num_classes=2, \n",
    "    device=DEVICE)"
   ]
  },
  {
   "cell_type": "markdown",
   "id": "dcf10a64-2f3e-4bb9-82ad-cbb58906bcfb",
   "metadata": {},
   "source": [
    "### Torch Summary"
   ]
  },
  {
   "cell_type": "markdown",
   "id": "30f42e38-14a6-48b9-a020-33b0150d561e",
   "metadata": {},
   "source": [
    "### MobileNetV3"
   ]
  },
  {
   "cell_type": "code",
   "execution_count": 4,
   "id": "58295e90-685f-42e2-b166-0ec9106aabb9",
   "metadata": {
    "tags": []
   },
   "outputs": [
    {
     "name": "stdout",
     "output_type": "stream",
     "text": [
      "=========================================================================================================\n",
      "Layer (type:depth-idx)                                  Output Shape              Param #\n",
      "=========================================================================================================\n",
      "PRETRAINED_MODEL                                        [1, 2]                    --\n",
      "├─Sequential: 1-1                                       [1, 576, 1, 1]            --\n",
      "│    └─Sequential: 2-1                                  [1, 576, 7, 7]            --\n",
      "│    │    └─Conv2dNormActivation: 3-1                   [1, 16, 112, 112]         (464)\n",
      "│    │    └─InvertedResidual: 3-2                       [1, 16, 56, 56]           (744)\n",
      "│    │    └─InvertedResidual: 3-3                       [1, 24, 28, 28]           (3,864)\n",
      "│    │    └─InvertedResidual: 3-4                       [1, 24, 28, 28]           (5,416)\n",
      "│    │    └─InvertedResidual: 3-5                       [1, 40, 14, 14]           (13,736)\n",
      "│    │    └─InvertedResidual: 3-6                       [1, 40, 14, 14]           (57,264)\n",
      "│    │    └─InvertedResidual: 3-7                       [1, 40, 14, 14]           (57,264)\n",
      "│    │    └─InvertedResidual: 3-8                       [1, 48, 14, 14]           (21,968)\n",
      "│    │    └─InvertedResidual: 3-9                       [1, 48, 14, 14]           (29,800)\n",
      "│    │    └─InvertedResidual: 3-10                      [1, 96, 7, 7]             (91,848)\n",
      "│    │    └─InvertedResidual: 3-11                      [1, 96, 7, 7]             (294,096)\n",
      "│    │    └─InvertedResidual: 3-12                      [1, 96, 7, 7]             (294,096)\n",
      "│    │    └─Conv2dNormActivation: 3-13                  [1, 576, 7, 7]            (56,448)\n",
      "│    └─AdaptiveAvgPool2d: 2-2                           [1, 576, 1, 1]            --\n",
      "├─AdaptiveAvgPool2d: 1-2                                [1, 576, 1, 1]            --\n",
      "├─Sequential: 1-3                                       [1, 2]                    --\n",
      "│    └─Dropout: 2-3                                     [1, 576]                  --\n",
      "│    └─Linear: 2-4                                      [1, 32]                   18,464\n",
      "│    └─ReLU: 2-5                                        [1, 32]                   --\n",
      "│    └─Dropout: 2-6                                     [1, 32]                   --\n",
      "│    └─Linear: 2-7                                      [1, 2]                    66\n",
      "=========================================================================================================\n",
      "Total params: 945,538\n",
      "Trainable params: 18,530\n",
      "Non-trainable params: 927,008\n",
      "Total mult-adds (M): 54.93\n",
      "=========================================================================================================\n",
      "Input size (MB): 0.60\n",
      "Forward/backward pass size (MB): 22.63\n",
      "Params size (MB): 3.78\n",
      "Estimated Total Size (MB): 27.01\n",
      "=========================================================================================================\n"
     ]
    }
   ],
   "source": [
    "print(summary(mbnet_v3, input_size=(1,3, 224, 224)))"
   ]
  },
  {
   "cell_type": "markdown",
   "id": "283e7bcb-2e17-4681-9de2-937213544741",
   "metadata": {},
   "source": [
    "### ShuffleNetV2"
   ]
  },
  {
   "cell_type": "code",
   "execution_count": 5,
   "id": "b7c847da-bf2e-471b-a569-0f68a7b5bffe",
   "metadata": {},
   "outputs": [
    {
     "name": "stdout",
     "output_type": "stream",
     "text": [
      "===============================================================================================\n",
      "Layer (type:depth-idx)                        Output Shape              Param #\n",
      "===============================================================================================\n",
      "PRETRAINED_MODEL                              [1, 2]                    --\n",
      "├─Sequential: 1-1                             [1, 1024, 7, 7]           --\n",
      "│    └─Sequential: 2-1                        [1, 24, 112, 112]         --\n",
      "│    │    └─Conv2d: 3-1                       [1, 24, 112, 112]         (648)\n",
      "│    │    └─BatchNorm2d: 3-2                  [1, 24, 112, 112]         (48)\n",
      "│    │    └─ReLU: 3-3                         [1, 24, 112, 112]         --\n",
      "│    └─MaxPool2d: 2-2                         [1, 24, 56, 56]           --\n",
      "│    └─Sequential: 2-3                        [1, 48, 28, 28]           --\n",
      "│    │    └─InvertedResidual: 3-4             [1, 48, 28, 28]           (2,400)\n",
      "│    │    └─InvertedResidual: 3-5             [1, 48, 28, 28]           (1,512)\n",
      "│    │    └─InvertedResidual: 3-6             [1, 48, 28, 28]           (1,512)\n",
      "│    │    └─InvertedResidual: 3-7             [1, 48, 28, 28]           (1,512)\n",
      "│    └─Sequential: 2-4                        [1, 96, 14, 14]           --\n",
      "│    │    └─InvertedResidual: 3-8             [1, 96, 14, 14]           (8,256)\n",
      "│    │    └─InvertedResidual: 3-9             [1, 96, 14, 14]           (5,328)\n",
      "│    │    └─InvertedResidual: 3-10            [1, 96, 14, 14]           (5,328)\n",
      "│    │    └─InvertedResidual: 3-11            [1, 96, 14, 14]           (5,328)\n",
      "│    │    └─InvertedResidual: 3-12            [1, 96, 14, 14]           (5,328)\n",
      "│    │    └─InvertedResidual: 3-13            [1, 96, 14, 14]           (5,328)\n",
      "│    │    └─InvertedResidual: 3-14            [1, 96, 14, 14]           (5,328)\n",
      "│    │    └─InvertedResidual: 3-15            [1, 96, 14, 14]           (5,328)\n",
      "│    └─Sequential: 2-5                        [1, 192, 7, 7]            --\n",
      "│    │    └─InvertedResidual: 3-16            [1, 192, 7, 7]            (30,336)\n",
      "│    │    └─InvertedResidual: 3-17            [1, 192, 7, 7]            (19,872)\n",
      "│    │    └─InvertedResidual: 3-18            [1, 192, 7, 7]            (19,872)\n",
      "│    │    └─InvertedResidual: 3-19            [1, 192, 7, 7]            (19,872)\n",
      "│    └─Sequential: 2-6                        [1, 1024, 7, 7]           --\n",
      "│    │    └─Conv2d: 3-20                      [1, 1024, 7, 7]           (196,608)\n",
      "│    │    └─BatchNorm2d: 3-21                 [1, 1024, 7, 7]           (2,048)\n",
      "│    │    └─ReLU: 3-22                        [1, 1024, 7, 7]           --\n",
      "├─AdaptiveAvgPool2d: 1-2                      [1, 1024, 1, 1]           --\n",
      "├─Sequential: 1-3                             [1, 2]                    --\n",
      "│    └─Dropout: 2-7                           [1, 1024]                 --\n",
      "│    └─Linear: 2-8                            [1, 32]                   32,800\n",
      "│    └─ReLU: 2-9                              [1, 32]                   --\n",
      "│    └─Dropout: 2-10                          [1, 32]                   --\n",
      "│    └─Linear: 2-11                           [1, 2]                    66\n",
      "===============================================================================================\n",
      "Total params: 374,658\n",
      "Trainable params: 32,866\n",
      "Non-trainable params: 341,792\n",
      "Total mult-adds (M): 39.49\n",
      "===============================================================================================\n",
      "Input size (MB): 0.60\n",
      "Forward/backward pass size (MB): 16.38\n",
      "Params size (MB): 1.50\n",
      "Estimated Total Size (MB): 18.48\n",
      "===============================================================================================\n"
     ]
    }
   ],
   "source": [
    "print(summary(shufflenet_v2, input_size=(1,3, 224, 224)))"
   ]
  },
  {
   "cell_type": "markdown",
   "id": "fb48f412-abe4-4d10-983a-985cceea1a5e",
   "metadata": {},
   "source": [
    "## Load Weights and Export ONNX"
   ]
  },
  {
   "cell_type": "markdown",
   "id": "c52387ae-6fa5-4487-8bf5-9d8a0320b637",
   "metadata": {},
   "source": [
    "### MobileNetV3"
   ]
  },
  {
   "cell_type": "code",
   "execution_count": 6,
   "id": "f3c88fcb-e2fb-4276-a707-146e4b19562a",
   "metadata": {
    "tags": []
   },
   "outputs": [],
   "source": [
    "weights_path = './experiments/test_v01_mobilenetv3_full_ds/weights/MOBILENETV3_classifier__best_mean_F1.pt'"
   ]
  },
  {
   "cell_type": "code",
   "execution_count": 7,
   "id": "d79f6027-820d-4f42-b5d3-3428244cc9b8",
   "metadata": {
    "tags": []
   },
   "outputs": [
    {
     "name": "stdout",
     "output_type": "stream",
     "text": [
      "Loading Model. Trained during 95 epochs\n"
     ]
    },
    {
     "data": {
      "text/plain": [
       "95"
      ]
     },
     "execution_count": 7,
     "metadata": {},
     "output_type": "execute_result"
    }
   ],
   "source": [
    "utils.load_checkpoint(weights_path, mbnet_v3)"
   ]
  },
  {
   "cell_type": "code",
   "execution_count": 8,
   "id": "909bb1db-c536-471c-bd4f-8a34a8dde98c",
   "metadata": {},
   "outputs": [],
   "source": [
    "mbnet_v3.cpu();"
   ]
  },
  {
   "cell_type": "markdown",
   "id": "ff790aff-a3f2-4e2c-9cce-868b57ba5df8",
   "metadata": {},
   "source": [
    "#### ONNX export"
   ]
  },
  {
   "cell_type": "code",
   "execution_count": 9,
   "id": "df2c54b5-5625-42d5-a1ad-980aa923e008",
   "metadata": {
    "tags": []
   },
   "outputs": [],
   "source": [
    "torch_input = torch.randn(1, 3, 224, 224)\n",
    "# torch.onnx.export(model, torch_input, \"MobilenetV3.onnx\")"
   ]
  },
  {
   "cell_type": "code",
   "execution_count": 10,
   "id": "21660252-f4a6-4ddc-bda3-b6006053cd6e",
   "metadata": {},
   "outputs": [],
   "source": [
    "torch.onnx.export(\n",
    "    mbnet_v3,                    # The model to be exported\n",
    "    torch_input,              # The sample input tensor\n",
    "    \"MobilenetV3_Raspi.onnx\", # The output file name\n",
    "    export_params=True,       # Store the trained parameter weights inside the model file\n",
    "    do_constant_folding=True, # Whether to execute constant folding for optimization\n",
    "    input_names=['input'],    # The model's input names\n",
    "    output_names=['output'],  # The model's output names\n",
    ")"
   ]
  },
  {
   "cell_type": "markdown",
   "id": "d4dffa81-38b4-4804-8e27-a4406bce5d9e",
   "metadata": {},
   "source": [
    "### ShuffleNetV2"
   ]
  },
  {
   "cell_type": "code",
   "execution_count": 11,
   "id": "245ce8ae-4065-4336-965c-31d8db496576",
   "metadata": {},
   "outputs": [],
   "source": [
    "weights_path = './experiments/test_v03_shufflenet_full_ds/weights/SHUFFLENET_classifier__best_mean_F1.pt'"
   ]
  },
  {
   "cell_type": "code",
   "execution_count": 12,
   "id": "46ca78b5-41b3-4413-a247-1042b732ea15",
   "metadata": {},
   "outputs": [
    {
     "name": "stdout",
     "output_type": "stream",
     "text": [
      "Loading Model. Trained during 95 epochs\n"
     ]
    },
    {
     "data": {
      "text/plain": [
       "95"
      ]
     },
     "execution_count": 12,
     "metadata": {},
     "output_type": "execute_result"
    }
   ],
   "source": [
    "utils.load_checkpoint(weights_path, shufflenet_v2)"
   ]
  },
  {
   "cell_type": "code",
   "execution_count": 13,
   "id": "0bb706f6-af5f-48c5-a8b2-7a71bbb0b9db",
   "metadata": {},
   "outputs": [],
   "source": [
    "shufflenet_v2.cpu();"
   ]
  },
  {
   "cell_type": "code",
   "execution_count": 15,
   "id": "81acd7d5-b196-4bf7-a3be-22d316ea2744",
   "metadata": {
    "tags": []
   },
   "outputs": [],
   "source": [
    "torch.onnx.export(\n",
    "    shufflenet_v2,             # The model to be exported\n",
    "    torch_input,               # The sample input tensor\n",
    "    \"ShuffleNetV2_Raspi.onnx\", # The output file name\n",
    "    export_params=True,        # Store the trained parameter weights inside the model file\n",
    "    do_constant_folding=True,  # Whether to execute constant folding for optimization\n",
    "    input_names=['input'],     # The model's input names\n",
    "    output_names=['output'],   # The model's output names\n",
    ")"
   ]
  }
 ],
 "metadata": {
  "kernelspec": {
   "display_name": "Python 3 (ipykernel)",
   "language": "python",
   "name": "python3"
  },
  "language_info": {
   "codemirror_mode": {
    "name": "ipython",
    "version": 3
   },
   "file_extension": ".py",
   "mimetype": "text/x-python",
   "name": "python",
   "nbconvert_exporter": "python",
   "pygments_lexer": "ipython3",
   "version": "3.10.13"
  }
 },
 "nbformat": 4,
 "nbformat_minor": 5
}
