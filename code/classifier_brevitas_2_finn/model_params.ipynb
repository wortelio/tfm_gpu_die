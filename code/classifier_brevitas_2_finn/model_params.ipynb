{
 "cells": [
  {
   "cell_type": "code",
   "execution_count": 1,
   "id": "092fef18-538a-4db6-9fef-c19dbaad297f",
   "metadata": {
    "editable": true,
    "slideshow": {
     "slide_type": ""
    },
    "tags": []
   },
   "outputs": [],
   "source": [
    "import modules.models.model_CNV_w1a1_WIDE as cnv_model\n",
    "# import modules.models.model_CNV_w1a1 as cnv_model\n",
    "\n",
    "from torchinfo import summary\n",
    "import torch\n",
    "# from torchlop import profile"
   ]
  },
  {
   "cell_type": "code",
   "execution_count": 4,
   "id": "6a768c92-9558-4d1b-985d-33859d61995c",
   "metadata": {
    "editable": true,
    "slideshow": {
     "slide_type": ""
    },
    "tags": []
   },
   "outputs": [],
   "source": [
    "model = cnv_model.CNV_WIDE_w1a1().cuda()\n",
    "# model = cnv_model.CNV_w1a1()"
   ]
  },
  {
   "cell_type": "code",
   "execution_count": 5,
   "id": "8cac4730-60ed-4cc1-9016-0bf91e179bf0",
   "metadata": {
    "editable": true,
    "slideshow": {
     "slide_type": ""
    },
    "tags": []
   },
   "outputs": [
    {
     "name": "stdout",
     "output_type": "stream",
     "text": [
      "========================================================================================================================\n",
      "Layer (type:depth-idx)                                                 Output Shape              Param #\n",
      "========================================================================================================================\n",
      "CNV_WIDE_w1a1                                                          [1, 2]                    --\n",
      "├─ModuleList: 1-1                                                      --                        --\n",
      "│    └─QuantIdentity: 2-1                                              [1, 3, 230, 230]          --\n",
      "│    │    └─ActQuantProxyFromInjector: 3-1                             [1, 3, 230, 230]          --\n",
      "│    │    └─ActQuantProxyFromInjector: 3-2                             [1, 3, 230, 230]          --\n",
      "│    └─QuantConv2d: 2-2                                                [1, 64, 228, 228]         1,728\n",
      "│    │    └─ActQuantProxyFromInjector: 3-3                             [1, 3, 230, 230]          --\n",
      "│    │    └─WeightQuantProxyFromInjector: 3-4                          [64, 3, 3, 3]             --\n",
      "│    │    └─ActQuantProxyFromInjector: 3-5                             [1, 64, 228, 228]         --\n",
      "│    └─BatchNorm2d: 2-3                                                [1, 64, 228, 228]         128\n",
      "│    └─QuantIdentity: 2-4                                              [1, 64, 228, 228]         --\n",
      "│    │    └─ActQuantProxyFromInjector: 3-6                             [1, 64, 228, 228]         --\n",
      "│    │    └─ActQuantProxyFromInjector: 3-7                             [1, 64, 228, 228]         --\n",
      "│    └─QuantIdentity: 2-63                                             --                        --\n",
      "│    │    └─ActQuantProxyFromInjector: 3-85                            --                        --\n",
      "│    └─QuantIdentity: 2-6                                              --                        --\n",
      "│    │    └─ActQuantProxyFromInjector: 3-9                             --                        --\n",
      "│    └─MaxPool2d: 2-7                                                  [1, 64, 114, 114]         --\n",
      "│    └─QuantConv2d: 2-8                                                [1, 24, 112, 112]         13,824\n",
      "│    │    └─ActQuantProxyFromInjector: 3-10                            [1, 64, 114, 114]         --\n",
      "│    │    └─WeightQuantProxyFromInjector: 3-11                         [24, 64, 3, 3]            --\n",
      "│    │    └─ActQuantProxyFromInjector: 3-12                            [1, 24, 112, 112]         --\n",
      "│    └─BatchNorm2d: 2-9                                                [1, 24, 112, 112]         48\n",
      "│    └─QuantIdentity: 2-10                                             [1, 24, 112, 112]         --\n",
      "│    │    └─ActQuantProxyFromInjector: 3-13                            [1, 24, 112, 112]         --\n",
      "│    │    └─ActQuantProxyFromInjector: 3-14                            [1, 24, 112, 112]         --\n",
      "│    └─QuantIdentity: 2-63                                             --                        --\n",
      "│    │    └─ActQuantProxyFromInjector: 3-85                            --                        --\n",
      "│    └─QuantIdentity: 2-12                                             --                        --\n",
      "│    │    └─ActQuantProxyFromInjector: 3-16                            --                        --\n",
      "│    └─MaxPool2d: 2-13                                                 [1, 24, 56, 56]           --\n",
      "│    └─QuantConv2d: 2-14                                               [1, 16, 56, 56]           384\n",
      "│    │    └─ActQuantProxyFromInjector: 3-17                            [1, 24, 56, 56]           --\n",
      "│    │    └─WeightQuantProxyFromInjector: 3-18                         [16, 24, 1, 1]            --\n",
      "│    │    └─ActQuantProxyFromInjector: 3-19                            [1, 16, 56, 56]           --\n",
      "│    └─BatchNorm2d: 2-15                                               [1, 16, 56, 56]           32\n",
      "│    └─QuantIdentity: 2-16                                             [1, 16, 56, 56]           --\n",
      "│    │    └─ActQuantProxyFromInjector: 3-20                            [1, 16, 56, 56]           --\n",
      "│    │    └─ActQuantProxyFromInjector: 3-21                            [1, 16, 56, 56]           --\n",
      "│    └─QuantIdentity: 2-63                                             --                        --\n",
      "│    │    └─ActQuantProxyFromInjector: 3-85                            --                        --\n",
      "│    └─QuantIdentity: 2-18                                             --                        --\n",
      "│    │    └─ActQuantProxyFromInjector: 3-23                            --                        --\n",
      "│    └─QuantConv2d: 2-19                                               [1, 32, 54, 54]           4,608\n",
      "│    │    └─ActQuantProxyFromInjector: 3-24                            [1, 16, 56, 56]           --\n",
      "│    │    └─WeightQuantProxyFromInjector: 3-25                         [32, 16, 3, 3]            --\n",
      "│    │    └─ActQuantProxyFromInjector: 3-26                            [1, 32, 54, 54]           --\n",
      "│    └─BatchNorm2d: 2-20                                               [1, 32, 54, 54]           64\n",
      "│    └─QuantIdentity: 2-21                                             [1, 32, 54, 54]           --\n",
      "│    │    └─ActQuantProxyFromInjector: 3-27                            [1, 32, 54, 54]           --\n",
      "│    │    └─ActQuantProxyFromInjector: 3-28                            [1, 32, 54, 54]           --\n",
      "│    └─QuantIdentity: 2-63                                             --                        --\n",
      "│    │    └─ActQuantProxyFromInjector: 3-85                            --                        --\n",
      "│    └─QuantIdentity: 2-23                                             --                        --\n",
      "│    │    └─ActQuantProxyFromInjector: 3-30                            --                        --\n",
      "│    └─QuantConv2d: 2-24                                               [1, 32, 54, 54]           1,024\n",
      "│    │    └─ActQuantProxyFromInjector: 3-31                            [1, 32, 54, 54]           --\n",
      "│    │    └─WeightQuantProxyFromInjector: 3-32                         [32, 32, 1, 1]            --\n",
      "│    │    └─ActQuantProxyFromInjector: 3-33                            [1, 32, 54, 54]           --\n",
      "│    └─BatchNorm2d: 2-25                                               [1, 32, 54, 54]           64\n",
      "│    └─QuantIdentity: 2-26                                             [1, 32, 54, 54]           --\n",
      "│    │    └─ActQuantProxyFromInjector: 3-34                            [1, 32, 54, 54]           --\n",
      "│    │    └─ActQuantProxyFromInjector: 3-35                            [1, 32, 54, 54]           --\n",
      "│    └─QuantIdentity: 2-63                                             --                        --\n",
      "│    │    └─ActQuantProxyFromInjector: 3-85                            --                        --\n",
      "│    └─QuantIdentity: 2-28                                             --                        --\n",
      "│    │    └─ActQuantProxyFromInjector: 3-37                            --                        --\n",
      "│    └─QuantConv2d: 2-29                                               [1, 64, 52, 52]           18,432\n",
      "│    │    └─ActQuantProxyFromInjector: 3-38                            [1, 32, 54, 54]           --\n",
      "│    │    └─WeightQuantProxyFromInjector: 3-39                         [64, 32, 3, 3]            --\n",
      "│    │    └─ActQuantProxyFromInjector: 3-40                            [1, 64, 52, 52]           --\n",
      "│    └─BatchNorm2d: 2-30                                               [1, 64, 52, 52]           128\n",
      "│    └─QuantIdentity: 2-31                                             [1, 64, 52, 52]           --\n",
      "│    │    └─ActQuantProxyFromInjector: 3-41                            [1, 64, 52, 52]           --\n",
      "│    │    └─ActQuantProxyFromInjector: 3-42                            [1, 64, 52, 52]           --\n",
      "│    └─QuantIdentity: 2-63                                             --                        --\n",
      "│    │    └─ActQuantProxyFromInjector: 3-85                            --                        --\n",
      "│    └─QuantIdentity: 2-33                                             --                        --\n",
      "│    │    └─ActQuantProxyFromInjector: 3-44                            --                        --\n",
      "│    └─MaxPool2d: 2-34                                                 [1, 64, 26, 26]           --\n",
      "│    └─QuantConv2d: 2-35                                               [1, 64, 26, 26]           4,096\n",
      "│    │    └─ActQuantProxyFromInjector: 3-45                            [1, 64, 26, 26]           --\n",
      "│    │    └─WeightQuantProxyFromInjector: 3-46                         [64, 64, 1, 1]            --\n",
      "│    │    └─ActQuantProxyFromInjector: 3-47                            [1, 64, 26, 26]           --\n",
      "│    └─BatchNorm2d: 2-36                                               [1, 64, 26, 26]           128\n",
      "│    └─QuantIdentity: 2-37                                             [1, 64, 26, 26]           --\n",
      "│    │    └─ActQuantProxyFromInjector: 3-48                            [1, 64, 26, 26]           --\n",
      "│    │    └─ActQuantProxyFromInjector: 3-49                            [1, 64, 26, 26]           --\n",
      "│    └─QuantIdentity: 2-63                                             --                        --\n",
      "│    │    └─ActQuantProxyFromInjector: 3-85                            --                        --\n",
      "│    └─QuantIdentity: 2-39                                             --                        --\n",
      "│    │    └─ActQuantProxyFromInjector: 3-51                            --                        --\n",
      "│    └─QuantConv2d: 2-40                                               [1, 128, 24, 24]          73,728\n",
      "│    │    └─ActQuantProxyFromInjector: 3-52                            [1, 64, 26, 26]           --\n",
      "│    │    └─WeightQuantProxyFromInjector: 3-53                         [128, 64, 3, 3]           --\n",
      "│    │    └─ActQuantProxyFromInjector: 3-54                            [1, 128, 24, 24]          --\n",
      "│    └─BatchNorm2d: 2-41                                               [1, 128, 24, 24]          256\n",
      "│    └─QuantIdentity: 2-42                                             [1, 128, 24, 24]          --\n",
      "│    │    └─ActQuantProxyFromInjector: 3-55                            [1, 128, 24, 24]          --\n",
      "│    │    └─ActQuantProxyFromInjector: 3-56                            [1, 128, 24, 24]          --\n",
      "│    └─QuantIdentity: 2-63                                             --                        --\n",
      "│    │    └─ActQuantProxyFromInjector: 3-85                            --                        --\n",
      "│    └─QuantIdentity: 2-44                                             --                        --\n",
      "│    │    └─ActQuantProxyFromInjector: 3-58                            --                        --\n",
      "│    └─QuantConv2d: 2-45                                               [1, 64, 24, 24]           8,192\n",
      "│    │    └─ActQuantProxyFromInjector: 3-59                            [1, 128, 24, 24]          --\n",
      "│    │    └─WeightQuantProxyFromInjector: 3-60                         [64, 128, 1, 1]           --\n",
      "│    │    └─ActQuantProxyFromInjector: 3-61                            [1, 64, 24, 24]           --\n",
      "│    └─BatchNorm2d: 2-46                                               [1, 64, 24, 24]           128\n",
      "│    └─QuantIdentity: 2-47                                             [1, 64, 24, 24]           --\n",
      "│    │    └─ActQuantProxyFromInjector: 3-62                            [1, 64, 24, 24]           --\n",
      "│    │    └─ActQuantProxyFromInjector: 3-63                            [1, 64, 24, 24]           --\n",
      "│    └─QuantIdentity: 2-63                                             --                        --\n",
      "│    │    └─ActQuantProxyFromInjector: 3-85                            --                        --\n",
      "│    └─QuantIdentity: 2-49                                             --                        --\n",
      "│    │    └─ActQuantProxyFromInjector: 3-65                            --                        --\n",
      "│    └─QuantConv2d: 2-50                                               [1, 128, 22, 22]          73,728\n",
      "│    │    └─ActQuantProxyFromInjector: 3-66                            [1, 64, 24, 24]           --\n",
      "│    │    └─WeightQuantProxyFromInjector: 3-67                         [128, 64, 3, 3]           --\n",
      "│    │    └─ActQuantProxyFromInjector: 3-68                            [1, 128, 22, 22]          --\n",
      "│    └─BatchNorm2d: 2-51                                               [1, 128, 22, 22]          256\n",
      "│    └─QuantIdentity: 2-52                                             [1, 128, 22, 22]          --\n",
      "│    │    └─ActQuantProxyFromInjector: 3-69                            [1, 128, 22, 22]          --\n",
      "│    │    └─ActQuantProxyFromInjector: 3-70                            [1, 128, 22, 22]          --\n",
      "│    └─QuantIdentity: 2-63                                             --                        --\n",
      "│    │    └─ActQuantProxyFromInjector: 3-85                            --                        --\n",
      "│    └─QuantIdentity: 2-54                                             --                        --\n",
      "│    │    └─ActQuantProxyFromInjector: 3-72                            --                        --\n",
      "│    └─QuantConv2d: 2-55                                               [1, 128, 22, 22]          16,384\n",
      "│    │    └─ActQuantProxyFromInjector: 3-73                            [1, 128, 22, 22]          --\n",
      "│    │    └─WeightQuantProxyFromInjector: 3-74                         [128, 128, 1, 1]          --\n",
      "│    │    └─ActQuantProxyFromInjector: 3-75                            [1, 128, 22, 22]          --\n",
      "│    └─BatchNorm2d: 2-56                                               [1, 128, 22, 22]          256\n",
      "│    └─QuantIdentity: 2-57                                             [1, 128, 22, 22]          --\n",
      "│    │    └─ActQuantProxyFromInjector: 3-76                            [1, 128, 22, 22]          --\n",
      "│    │    └─ActQuantProxyFromInjector: 3-77                            [1, 128, 22, 22]          --\n",
      "│    └─QuantIdentity: 2-63                                             --                        --\n",
      "│    │    └─ActQuantProxyFromInjector: 3-85                            --                        --\n",
      "│    └─QuantIdentity: 2-59                                             --                        --\n",
      "│    │    └─ActQuantProxyFromInjector: 3-79                            --                        --\n",
      "│    └─QuantConv2d: 2-60                                               [1, 256, 20, 20]          294,912\n",
      "│    │    └─ActQuantProxyFromInjector: 3-80                            [1, 128, 22, 22]          --\n",
      "│    │    └─WeightQuantProxyFromInjector: 3-81                         [256, 128, 3, 3]          --\n",
      "│    │    └─ActQuantProxyFromInjector: 3-82                            [1, 256, 20, 20]          --\n",
      "│    └─BatchNorm2d: 2-61                                               [1, 256, 20, 20]          512\n",
      "│    └─QuantIdentity: 2-62                                             [1, 256, 20, 20]          --\n",
      "│    │    └─ActQuantProxyFromInjector: 3-83                            [1, 256, 20, 20]          --\n",
      "│    │    └─ActQuantProxyFromInjector: 3-84                            [1, 256, 20, 20]          --\n",
      "│    └─QuantIdentity: 2-63                                             --                        --\n",
      "│    │    └─ActQuantProxyFromInjector: 3-85                            --                        --\n",
      "│    └─QuantIdentity: 2-64                                             --                        --\n",
      "│    │    └─ActQuantProxyFromInjector: 3-86                            --                        --\n",
      "│    └─TruncAvgPool2d: 2-65                                            [1, 256, 1, 1]            --\n",
      "│    │    └─TruncQuantProxyFromInjector: 3-87                          [1, 256, 1, 1]            --\n",
      "│    └─QuantIdentity: 2-66                                             [1, 256, 1, 1]            --\n",
      "│    │    └─ActQuantProxyFromInjector: 3-88                            [1, 256, 1, 1]            --\n",
      "│    │    └─ActQuantProxyFromInjector: 3-89                            [1, 256, 1, 1]            --\n",
      "├─ModuleList: 1-2                                                      --                        --\n",
      "│    └─QuantLinear: 2-67                                               [1, 128]                  32,768\n",
      "│    │    └─ActQuantProxyFromInjector: 3-90                            [1, 256]                  --\n",
      "│    │    └─WeightQuantProxyFromInjector: 3-91                         [128, 256]                --\n",
      "│    │    └─ActQuantProxyFromInjector: 3-92                            [1, 128]                  --\n",
      "│    └─BatchNorm1d: 2-68                                               [1, 128]                  256\n",
      "│    └─QuantLinear: 2-69                                               [1, 2]                    256\n",
      "│    │    └─ActQuantProxyFromInjector: 3-93                            [1, 128]                  --\n",
      "│    │    └─WeightQuantProxyFromInjector: 3-94                         [2, 128]                  --\n",
      "│    │    └─ActQuantProxyFromInjector: 3-95                            [1, 2]                    --\n",
      "│    └─TensorNorm: 2-70                                                [1, 2]                    2\n",
      "========================================================================================================================\n",
      "Total params: 546,322\n",
      "Trainable params: 546,322\n",
      "Non-trainable params: 0\n",
      "Total mult-adds (M): 0.00\n",
      "========================================================================================================================\n",
      "Input size (MB): 0.63\n",
      "Forward/backward pass size (MB): 35.35\n",
      "Params size (MB): 0.01\n",
      "Estimated Total Size (MB): 35.99\n",
      "========================================================================================================================\n"
     ]
    }
   ],
   "source": [
    "print(summary(model, input_size=(1, 3, 230, 230)))"
   ]
  },
  {
   "cell_type": "code",
   "execution_count": 5,
   "id": "63772f36-82d0-4af6-a638-5bad05ec4c11",
   "metadata": {
    "editable": true,
    "slideshow": {
     "slide_type": ""
    },
    "tags": []
   },
   "outputs": [
    {
     "data": {
      "text/plain": [
       "2258.0"
      ]
     },
     "execution_count": 5,
     "metadata": {},
     "output_type": "execute_result"
    }
   ],
   "source": [
    "params"
   ]
  },
  {
   "cell_type": "code",
   "execution_count": null,
   "id": "7c94f7e1-764a-4732-98d5-0e534eec89ee",
   "metadata": {
    "editable": true,
    "slideshow": {
     "slide_type": ""
    },
    "tags": []
   },
   "outputs": [],
   "source": []
  }
 ],
 "metadata": {
  "kernelspec": {
   "display_name": "Python 3 (ipykernel)",
   "language": "python",
   "name": "python3"
  },
  "language_info": {
   "codemirror_mode": {
    "name": "ipython",
    "version": 3
   },
   "file_extension": ".py",
   "mimetype": "text/x-python",
   "name": "python",
   "nbconvert_exporter": "python",
   "pygments_lexer": "ipython3",
   "version": "3.10.9"
  }
 },
 "nbformat": 4,
 "nbformat_minor": 5
}
