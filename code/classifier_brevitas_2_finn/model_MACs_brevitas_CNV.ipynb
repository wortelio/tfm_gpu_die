{
 "cells": [
  {
   "cell_type": "code",
   "execution_count": 1,
   "id": "4c2d5872-f9ad-4c2b-a55a-275d8488a12b",
   "metadata": {},
   "outputs": [],
   "source": [
    "import matplotlib.pyplot as plt\n",
    "import numpy as np"
   ]
  },
  {
   "cell_type": "code",
   "execution_count": 2,
   "id": "dc98428a-62fa-4eb0-b4be-26fa2a099ec5",
   "metadata": {},
   "outputs": [],
   "source": [
    "cnv_brevitas_dict = {\n",
    "    \"conv11\": {\n",
    "        \"kernel\": 3,\n",
    "        \"in\": 3, \n",
    "        \"out\": 64,\n",
    "        \"dims\": 30\n",
    "    },  \n",
    "    \"conv12\": {\n",
    "        \"kernel\": 3,\n",
    "        \"in\": 64, \n",
    "        \"out\": 64,\n",
    "        \"dims\": 28\n",
    "    },\n",
    "    \"conv21\": {\n",
    "        \"kernel\": 3,\n",
    "        \"in\": 64, \n",
    "        \"out\": 128,\n",
    "        \"dims\": 12\n",
    "    },\n",
    "    \"conv22\": {\n",
    "        \"kernel\": 3,\n",
    "        \"in\": 128, \n",
    "        \"out\": 128,\n",
    "        \"dims\": 10\n",
    "    },\n",
    "    \"conv31\": {\n",
    "        \"kernel\": 3,\n",
    "        \"in\": 128, \n",
    "        \"out\": 256,\n",
    "        \"dims\": 3\n",
    "    },\n",
    "    \"conv32\": {\n",
    "        \"kernel\": 3,\n",
    "        \"in\": 256, \n",
    "        \"out\": 256,\n",
    "        \"dims\": 1\n",
    "    },\n",
    "    \"linear1\": { \n",
    "         \"in\": 256,\n",
    "         \"out\": 512\n",
    "    },\n",
    "    \"linear2\": { \n",
    "         \"in\": 512,\n",
    "         \"out\": 512\n",
    "    },\n",
    "    \"linear3\": { \n",
    "         \"in\": 512,\n",
    "         \"out\": 2\n",
    "    },\n",
    "}"
   ]
  },
  {
   "cell_type": "code",
   "execution_count": 3,
   "id": "1e1a541a-6c85-48ed-939d-b38a5bcee529",
   "metadata": {},
   "outputs": [],
   "source": [
    "def compute_macs_and_weights(model):\n",
    "    for k in model.keys():\n",
    "        if \"conv\" in k:\n",
    "            model[k].update({\"mac\": (model[k][\"kernel\"]**2) * model[k][\"in\"] * model[k][\"out\"] * (model[k][\"dims\"]**2)})\n",
    "            model[k].update({\"weights\": (model[k][\"kernel\"]**2) * model[k][\"in\"] * model[k][\"out\"]})\n",
    "        elif \"linear\" in k:\n",
    "            model[k].update({\"mac\": model[k][\"in\"] * model[k][\"out\"]})\n",
    "            model[k].update({\"weights\": model[k][\"in\"] * model[k][\"out\"]})\n",
    "        else:\n",
    "            print(\"Wrong layer definition\")"
   ]
  },
  {
   "cell_type": "code",
   "execution_count": 4,
   "id": "d92caba8-e1c7-4949-9bae-5deb38f942a1",
   "metadata": {},
   "outputs": [],
   "source": [
    "compute_macs_and_weights(cnv_brevitas_dict)"
   ]
  },
  {
   "cell_type": "code",
   "execution_count": 5,
   "id": "4b3c4131-df8d-44ba-921c-809d6993ea78",
   "metadata": {},
   "outputs": [
    {
     "data": {
      "text/plain": [
       "{'conv11': {'kernel': 3,\n",
       "  'in': 3,\n",
       "  'out': 64,\n",
       "  'dims': 30,\n",
       "  'mac': 1555200,\n",
       "  'weights': 1728},\n",
       " 'conv12': {'kernel': 3,\n",
       "  'in': 64,\n",
       "  'out': 64,\n",
       "  'dims': 28,\n",
       "  'mac': 28901376,\n",
       "  'weights': 36864},\n",
       " 'conv21': {'kernel': 3,\n",
       "  'in': 64,\n",
       "  'out': 128,\n",
       "  'dims': 12,\n",
       "  'mac': 10616832,\n",
       "  'weights': 73728},\n",
       " 'conv22': {'kernel': 3,\n",
       "  'in': 128,\n",
       "  'out': 128,\n",
       "  'dims': 10,\n",
       "  'mac': 14745600,\n",
       "  'weights': 147456},\n",
       " 'conv31': {'kernel': 3,\n",
       "  'in': 128,\n",
       "  'out': 256,\n",
       "  'dims': 3,\n",
       "  'mac': 2654208,\n",
       "  'weights': 294912},\n",
       " 'conv32': {'kernel': 3,\n",
       "  'in': 256,\n",
       "  'out': 256,\n",
       "  'dims': 1,\n",
       "  'mac': 589824,\n",
       "  'weights': 589824},\n",
       " 'linear1': {'in': 256, 'out': 512, 'mac': 131072, 'weights': 131072},\n",
       " 'linear2': {'in': 512, 'out': 512, 'mac': 262144, 'weights': 262144},\n",
       " 'linear3': {'in': 512, 'out': 2, 'mac': 1024, 'weights': 1024}}"
      ]
     },
     "execution_count": 5,
     "metadata": {},
     "output_type": "execute_result"
    }
   ],
   "source": [
    "cnv_brevitas_dict"
   ]
  },
  {
   "cell_type": "code",
   "execution_count": 6,
   "id": "2f43d59a-be67-4910-952d-b0c99210150a",
   "metadata": {},
   "outputs": [],
   "source": [
    "cnv_brevitas_macs = {k: cnv_brevitas_dict[k][\"mac\"]  for k in cnv_brevitas_dict.keys()}\n",
    "cnv_brevitas_weights = {k: cnv_brevitas_dict[k][\"weights\"]  for k in cnv_brevitas_dict.keys()}"
   ]
  },
  {
   "cell_type": "code",
   "execution_count": 7,
   "id": "df12b784-83cb-4418-b889-d3db374f7fc4",
   "metadata": {},
   "outputs": [
    {
     "data": {
      "text/plain": [
       "{'conv11': 1555200,\n",
       " 'conv12': 28901376,\n",
       " 'conv21': 10616832,\n",
       " 'conv22': 14745600,\n",
       " 'conv31': 2654208,\n",
       " 'conv32': 589824,\n",
       " 'linear1': 131072,\n",
       " 'linear2': 262144,\n",
       " 'linear3': 1024}"
      ]
     },
     "execution_count": 7,
     "metadata": {},
     "output_type": "execute_result"
    }
   ],
   "source": [
    "cnv_brevitas_macs"
   ]
  },
  {
   "cell_type": "code",
   "execution_count": 15,
   "id": "280b9fc4-8c3e-42b2-9d01-f2e71c1bbe1c",
   "metadata": {},
   "outputs": [
    {
     "name": "stdout",
     "output_type": "stream",
     "text": [
      "Total MACs: 59457280\n",
      "Total Weights: 1538752\n"
     ]
    },
    {
     "data": {
      "image/png": "[encoded data removed]",
      "text/plain": [
       "<Figure size 1000x300 with 2 Axes>"
      ]
     },
     "metadata": {},
     "output_type": "display_data"
    }
   ],
   "source": [
    "fp32_macs = list(cnv_brevitas_macs.values())\n",
    "fp32_weights = list(cnv_brevitas_weights.values())\n",
    "print(f'Total MACs: {np.array(fp32_macs).sum()}')\n",
    "print(f'Total Weights: {np.array(fp32_weights).sum()}')\n",
    "fp32_layers = list(cnv_brevitas_macs.keys())\n",
    "\n",
    "fig, (ax1, ax2) = plt.subplots(1, 2, figsize=(10,3))\n",
    "\n",
    "plt.subplot(1, 2, 1)\n",
    "ax1.bar(fp32_layers, fp32_macs)\n",
    "ax1.set_xticks(fp32_layers)\n",
    "ax1.set_xticklabels(fp32_layers, rotation=90)\n",
    "ax1.set_title(\"FP32 MACs Per Layer\")\n",
    "\n",
    "plt.subplot(1, 2, 2)\n",
    "# plt.axhline(y=18432, color='r', linestyle='--')\n",
    "for i in range(20):\n",
    "    plt.axhline(y=32768*i, color='r', linestyle='--', lw=0.8)\n",
    "ax2.bar(fp32_layers, fp32_weights)\n",
    "ax2.set_xticks(fp32_layers)\n",
    "ax2.set_xticklabels(fp32_layers, rotation=90)\n",
    "ax2.set_title(\"FP32 Weights Per Layer\")\n",
    "\n",
    "plt.show()"
   ]
  },
  {
   "cell_type": "code",
   "execution_count": null,
   "id": "8e6da532-b663-4bee-9ea9-11705e9ed2b3",
   "metadata": {},
   "outputs": [],
   "source": []
  }
 ],
 "metadata": {
  "kernelspec": {
   "display_name": "Python 3 (ipykernel)",
   "language": "python",
   "name": "python3"
  },
  "language_info": {
   "codemirror_mode": {
    "name": "ipython",
    "version": 3
   },
   "file_extension": ".py",
   "mimetype": "text/x-python",
   "name": "python",
   "nbconvert_exporter": "python",
   "pygments_lexer": "ipython3",
   "version": "3.10.9"
  }
 },
 "nbformat": 4,
 "nbformat_minor": 5
}
