{
 "cells": [
  {
   "cell_type": "code",
   "execution_count": 1,
   "id": "80e085cc-4dd3-4ac8-8d32-0fc09847c307",
   "metadata": {},
   "outputs": [],
   "source": [
    "import numpy as np\n",
    "import matplotlib.pyplot as plt"
   ]
  },
  {
   "cell_type": "markdown",
   "id": "b7ebf485-9f14-4647-9dbf-4e6afef6f9bb",
   "metadata": {},
   "source": [
    "# Plot MACs and Weights Per Layer"
   ]
  },
  {
   "cell_type": "code",
   "execution_count": 2,
   "id": "b288fb01-2066-4613-8411-142a574325d4",
   "metadata": {},
   "outputs": [],
   "source": [
    "def plot_nets():\n",
    "\n",
    "    fig, ax = plt.subplots(4, 2, figsize=(8,8))\n",
    "    \n",
    "    ######################## Original ########################\n",
    "    plt.subplot(4, 2, 1)\n",
    "    ax[0, 0].bar(list(original_ops[\"layers\"].keys()), list(original_ops[\"macs\"].values()))\n",
    "    ax[0, 0].set_xticks(list(original_ops[\"layers\"].keys()))\n",
    "    ax[0, 0].set_xticklabels(list(original_ops[\"layers\"].keys()), rotation=90)\n",
    "    ax[0, 0].set_title(\"Original MACs Per Layer\")\n",
    "    \n",
    "    plt.subplot(4, 2, 2)\n",
    "    plt.axhline(y=16384, color='r', linestyle='--')\n",
    "    plt.axhline(y=32768, color='r', linestyle='--')\n",
    "    plt.ylim([0, 40000])\n",
    "    ax[0, 1].bar(list(original_ops[\"layers\"].keys()), list(original_ops[\"weights\"].values()))\n",
    "    ax[0, 1].set_xticks(list(original_ops[\"layers\"].keys()))\n",
    "    ax[0, 1].set_xticklabels(list(original_ops[\"layers\"].keys()), rotation=90)\n",
    "    ax[0, 1].set_title(\"Original Weights Per Layer\")\n",
    "    \n",
    "    ######################## DOWNTO 28 ########################\n",
    "    plt.subplot(4, 2, 3)\n",
    "    ax[1, 0].bar(list(downto_28_ops[\"layers\"].keys()), list(downto_28_ops[\"macs\"].values()))\n",
    "    ax[1, 0].set_xticks(list(downto_28_ops[\"layers\"].keys()))\n",
    "    ax[1, 0].set_xticklabels(list(downto_28_ops[\"layers\"].keys()), rotation=90)\n",
    "    ax[1, 0].set_title(\"DOWNTO 28 MACs Per Layer\")\n",
    "    \n",
    "    plt.subplot(4, 2, 4)\n",
    "    plt.axhline(y=16384, color='r', linestyle='--')\n",
    "    plt.axhline(y=16384/2, color='r', linestyle='--')\n",
    "    plt.axhline(y=16384/4, color='r', linestyle='--')\n",
    "    plt.ylim([0, 20000])\n",
    "    ax[1, 1].bar(list(downto_28_ops[\"layers\"].keys()), list(downto_28_ops[\"weights\"].values()))\n",
    "    ax[1, 1].set_xticks(list(downto_28_ops[\"layers\"].keys()))\n",
    "    ax[1, 1].set_xticklabels(list(downto_28_ops[\"layers\"].keys()), rotation=90)\n",
    "    ax[1, 1].set_title(\"DOWNTO 28 Weights Per Layer\")\n",
    "    \n",
    "    ######################## AIMET ORIGINAL ########################\n",
    "    plt.subplot(4, 2, 5)\n",
    "    ax[2, 0].bar(list(aimet_original_ops[\"layers\"].keys()), list(aimet_original_ops[\"macs\"].values()))\n",
    "    ax[2, 0].set_xticks(list(aimet_original_ops[\"layers\"].keys()))\n",
    "    ax[2, 0].set_xticklabels(list(aimet_original_ops[\"layers\"].keys()), rotation=90)\n",
    "    ax[2, 0].set_title(\"AIMET Original MACs Per Layer\")\n",
    "    \n",
    "    plt.subplot(4, 2, 6)\n",
    "    plt.axhline(y=16384, color='r', linestyle='--')\n",
    "    plt.axhline(y=16384/2, color='r', linestyle='--')\n",
    "    plt.axhline(y=16384/4, color='r', linestyle='--')\n",
    "    plt.ylim([0, 20000])\n",
    "    ax[2, 1].bar(list(aimet_original_ops[\"layers\"].keys()), list(aimet_original_ops[\"weights\"].values()))\n",
    "    ax[2, 1].set_xticks(list(aimet_original_ops[\"layers\"].keys()))\n",
    "    ax[2, 1].set_xticklabels(list(aimet_original_ops[\"layers\"].keys()), rotation=90)\n",
    "    ax[2, 1].set_title(\"AIMET Original Weights Per Layer\")\n",
    "    \n",
    "    ######################## AIMET FPGA ########################\n",
    "    plt.subplot(4, 2, 7)\n",
    "    ax[3, 0].bar(list(aimet_fpga_ops[\"layers\"].keys()), list(aimet_fpga_ops[\"macs\"].values()))\n",
    "    ax[3, 0].set_xticks(list(aimet_fpga_ops[\"layers\"].keys()))\n",
    "    ax[3, 0].set_xticklabels(list(aimet_fpga_ops[\"layers\"].keys()), rotation=90)\n",
    "    ax[3, 0].set_title(\"AIMET FPGA MACs Per Layer\")\n",
    "    \n",
    "    plt.subplot(4, 2, 8)\n",
    "    plt.axhline(y=16384, color='r', linestyle='--')\n",
    "    plt.axhline(y=16384/2, color='r', linestyle='--')\n",
    "    plt.axhline(y=16384/4, color='r', linestyle='--')\n",
    "    plt.axhline(y=32768, color='r', linestyle='--')\n",
    "    plt.ylim([0, 20000])\n",
    "    ax[3, 1].bar(list(aimet_fpga_ops[\"layers\"].keys()), list(aimet_fpga_ops[\"weights\"].values()))\n",
    "    ax[3, 1].set_xticks(list(aimet_fpga_ops[\"layers\"].keys()))\n",
    "    ax[3, 1].set_xticklabels(list(aimet_fpga_ops[\"layers\"].keys()), rotation=90)\n",
    "    ax[3, 1].set_title(\"AIMET FPGA Weights Per Layer\")\n",
    "    \n",
    "    plt.tight_layout()\n",
    "    plt.show()"
   ]
  },
  {
   "cell_type": "markdown",
   "id": "feb07b97-f6cd-41e2-8f4e-741c38501e13",
   "metadata": {},
   "source": [
    "# Model Definitions"
   ]
  },
  {
   "cell_type": "markdown",
   "id": "2cb1dacd-5040-46d3-aad9-aedeaf683548",
   "metadata": {},
   "source": [
    "#### Original from the paper"
   ]
  },
  {
   "cell_type": "code",
   "execution_count": 3,
   "id": "34900bc8-c453-44ca-8406-09a8e2a70041",
   "metadata": {},
   "outputs": [],
   "source": [
    "original = {\n",
    "    \"conv1\":   {\"kernel\": 3, \"in\": 3,  \"out\": 64, \"dims\": 224},  \n",
    "    \n",
    "    \"conv2\":   {\"kernel\": 3, \"in\": 64, \"out\": 24, \"dims\": 112},\n",
    "    \n",
    "    \"conv31\":  {\"kernel\": 1, \"in\": 24, \"out\": 16, \"dims\": 56},\n",
    "    \"conv32\":  {\"kernel\": 3, \"in\": 16, \"out\": 32, \"dims\": 56},\n",
    "    \"conv33\":  {\"kernel\": 1, \"in\": 32, \"out\": 32, \"dims\": 56},\n",
    "    \"conv34\":  {\"kernel\": 3, \"in\": 32, \"out\": 64, \"dims\": 56},\n",
    "    \n",
    "    \"conv41\":  {\"kernel\": 1, \"in\": 64, \"out\": 32, \"dims\": 28},\n",
    "    \"conv42\":  {\"kernel\": 3, \"in\": 32, \"out\": 64, \"dims\": 28},\n",
    "    \"conv43\":  {\"kernel\": 1, \"in\": 64, \"out\": 32, \"dims\": 28},\n",
    "    \"conv44\":  {\"kernel\": 3, \"in\": 32, \"out\": 64, \"dims\": 28},\n",
    "    \"conv45\":  {\"kernel\": 1, \"in\": 64, \"out\": 32, \"dims\": 28},\n",
    "    \"conv46\":  {\"kernel\": 3, \"in\": 32, \"out\": 64, \"dims\": 28},\n",
    "    \n",
    "    \"conv51\":  {\"kernel\": 1, \"in\": 64, \"out\": 32, \"dims\": 14},\n",
    "    \"conv52\":  {\"kernel\": 3, \"in\": 32, \"out\": 64, \"dims\": 14},\n",
    "    \"conv53\":  {\"kernel\": 1, \"in\": 64, \"out\": 32, \"dims\": 14},\n",
    "    \"conv54\":  {\"kernel\": 3, \"in\": 32, \"out\": 64, \"dims\": 14},\n",
    "    \"conv55\":  {\"kernel\": 3, \"in\": 64, \"out\": 64, \"dims\": 14},\n",
    "    \"conv56\":  {\"kernel\": 3, \"in\": 64, \"out\": 64, \"dims\": 14},\n",
    "    \n",
    "    \"conv61\":  {\"kernel\": 3, \"in\": 64, \"out\": 64, \"dims\": 7},\n",
    "    \"conv62\":  {\"kernel\": 3, \"in\": 64, \"out\": 64, \"dims\": 7},\n",
    "    \n",
    "    \n",
    "    \"linear1\": {\"in\": 64, \"out\": 16},\n",
    "    \"linear2\": {\"in\": 16, \"out\": 2},\n",
    "}"
   ]
  },
  {
   "cell_type": "markdown",
   "id": "91797e53-191c-4b56-9099-e003eb3d6734",
   "metadata": {},
   "source": [
    "#### Manually reduced by Wortel"
   ]
  },
  {
   "cell_type": "code",
   "execution_count": 4,
   "id": "2dba1492-0327-46ed-9d42-c910fd83d46d",
   "metadata": {},
   "outputs": [],
   "source": [
    "downto_28 = {\n",
    "    \"conv1\":   {\"kernel\": 3, \"in\": 3,  \"out\": 32, \"dims\": 224},  \n",
    "    \n",
    "    \"conv2\":   {\"kernel\": 3, \"in\": 32, \"out\": 16, \"dims\": 112},\n",
    "    \n",
    "    \"conv31\":  {\"kernel\": 1, \"in\": 16, \"out\": 16, \"dims\": 56},\n",
    "    \"conv32\":  {\"kernel\": 3, \"in\": 16, \"out\": 32, \"dims\": 56},\n",
    "    \"conv33\":  {\"kernel\": 1, \"in\": 32, \"out\": 32, \"dims\": 56},\n",
    "    \"conv34\":  {\"kernel\": 3, \"in\": 32, \"out\": 64, \"dims\": 56},\n",
    "    \n",
    "    \"conv41\":  {\"kernel\": 1, \"in\": 64, \"out\": 32, \"dims\": 28},\n",
    "    \"conv42\":  {\"kernel\": 3, \"in\": 32, \"out\": 64, \"dims\": 28},\n",
    "    \"conv43\":  {\"kernel\": 1, \"in\": 64, \"out\": 32, \"dims\": 28},\n",
    "    \"conv44\":  {\"kernel\": 3, \"in\": 32, \"out\": 64, \"dims\": 28},\n",
    "    \"conv45\":  {\"kernel\": 1, \"in\": 64, \"out\": 32, \"dims\": 28},\n",
    "    \"conv46\":  {\"kernel\": 3, \"in\": 32, \"out\": 64, \"dims\": 28},  \n",
    "    \n",
    "    \"linear1\": {\"in\": 64, \"out\": 16},\n",
    "    \"linear2\": {\"in\": 16, \"out\": 2},\n",
    "}"
   ]
  },
  {
   "cell_type": "markdown",
   "id": "b6239275-3386-41a0-bb17-2761ac03fb46",
   "metadata": {},
   "source": [
    "#### After Aimet SVD and Pruning"
   ]
  },
  {
   "cell_type": "code",
   "execution_count": 5,
   "id": "890675ae-1f00-4a3e-848b-5ae5eed59e9b",
   "metadata": {},
   "outputs": [],
   "source": [
    "aimet_original = {\n",
    "    \"conv10\":  {\"kernel\": (3, 1), \"in\": 3,  \"out\": 7,  \"dims\": 224}, \n",
    "    \"conv11\":  {\"kernel\": (1, 3), \"in\": 7,  \"out\": 28, \"dims\": 224}, \n",
    "    \n",
    "    \"conv20\":  {\"kernel\": (3, 1), \"in\": 28, \"out\": 22, \"dims\": 112},\n",
    "    \"conv21\":  {\"kernel\": (1, 3), \"in\": 22, \"out\": 16, \"dims\": 112},\n",
    "    \n",
    "    \"conv31\":  {\"kernel\": 1,      \"in\": 16, \"out\": 16, \"dims\": 56},\n",
    "    \"conv32\":  {\"kernel\": 3,      \"in\": 16, \"out\": 32, \"dims\": 56},\n",
    "    \"conv33\":  {\"kernel\": 1,      \"in\": 32, \"out\": 32, \"dims\": 56},\n",
    "    \"conv340\": {\"kernel\": (3, 1), \"in\": 32, \"out\": 51, \"dims\": 56}, # ori 32, 32\n",
    "    \"conv341\": {\"kernel\": (1, 3), \"in\": 51, \"out\": 57, \"dims\": 56}, # ori 32, 64\n",
    "    \n",
    "    \"conv41\":  {\"kernel\": 1,      \"in\": 57, \"out\": 32, \"dims\": 28}, # ori 64, 32\n",
    "    \"conv420\": {\"kernel\": (3, 1), \"in\": 32, \"out\": 44, \"dims\": 28}, # ori 32, 64\n",
    "    \"conv421\": {\"kernel\": (1, 3), \"in\": 44, \"out\": 64, \"dims\": 28}, # ori 32, 64\n",
    "    \"conv43\":  {\"kernel\": 1,      \"in\": 64, \"out\": 32, \"dims\": 28}, # ori 64, 32\n",
    "    \"conv440\": {\"kernel\": (3, 1), \"in\": 32, \"out\": 32, \"dims\": 28}, # ori 32, 48\n",
    "    \"conv441\": {\"kernel\": (1, 3), \"in\": 32, \"out\": 64, \"dims\": 28}, # ori 48, 64\n",
    "    \"conv450\": {\"kernel\": 1,      \"in\": 64, \"out\": 10, \"dims\": 28}, # ori 64, 32\n",
    "    \"conv451\": {\"kernel\": 1,      \"in\": 10, \"out\": 32, \"dims\": 28}, # ori 64, 32\n",
    "    \"conv460\": {\"kernel\": (3, 1), \"in\": 32, \"out\": 6,  \"dims\": 28}, # ori 32, 16 \n",
    "    \"conv461\": {\"kernel\": (1, 3), \"in\": 6,  \"out\": 64, \"dims\": 28}, # ori 16, 64\n",
    "    \n",
    "    \"linear1\": {\"in\": 64, \"out\": 16},\n",
    "    \"linear2\": {\"in\": 16, \"out\": 2},\n",
    "}"
   ]
  },
  {
   "cell_type": "markdown",
   "id": "fccaec6d-0313-47ea-b067-6a3bcd8884e0",
   "metadata": {},
   "source": [
    "#### Adapted for FPGA"
   ]
  },
  {
   "cell_type": "code",
   "execution_count": 6,
   "id": "8676f0ec-2c71-4281-8889-6deb345ac3f6",
   "metadata": {},
   "outputs": [],
   "source": [
    "# aimet_fpga = {\n",
    "#     \"conv1\":   {\"kernel\": 3,      \"in\": 3,  \"out\": 12, \"dims\": 230},\n",
    "   \n",
    "#     \"conv20\":  {\"kernel\": (3, 1), \"in\": 12, \"out\": 20, \"dims\": 114},\n",
    "#     \"conv21\":  {\"kernel\": (1, 3), \"in\": 20, \"out\": 16, \"dims\": 114},\n",
    "    \n",
    "#     \"conv31\":  {\"kernel\": 1,      \"in\": 16, \"out\": 16, \"dims\": 56},\n",
    "#     \"conv320\": {\"kernel\": (3, 1), \"in\": 16, \"out\": 20, \"dims\": 56},\n",
    "#     \"conv321\": {\"kernel\": (1, 3), \"in\": 20, \"out\": 32, \"dims\": 56},\n",
    "#     \"conv33\":  {\"kernel\": 1,      \"in\": 32, \"out\": 32, \"dims\": 54},\n",
    "#     \"conv340\": {\"kernel\": (3, 1), \"in\": 32, \"out\": 40, \"dims\": 54}, # ori 32, 32\n",
    "#     \"conv341\": {\"kernel\": (1, 3), \"in\": 40, \"out\": 64, \"dims\": 54}, # ori 32, 64\n",
    "    \n",
    "#     \"conv41\":  {\"kernel\": 1,      \"in\": 64, \"out\": 32, \"dims\": 26}, # ori 64, 32\n",
    "#     \"conv42\":  {\"kernel\": 3,      \"in\": 32, \"out\": 56, \"dims\": 26}, # ori 62, 64\n",
    "#     \"conv43\":  {\"kernel\": 1,      \"in\": 56, \"out\": 32, \"dims\": 24}, # ori 64, 32\n",
    "#     \"conv440\": {\"kernel\": (3, 1), \"in\": 32, \"out\": 40, \"dims\": 24}, # ori 32, 48\n",
    "#     \"conv441\": {\"kernel\": (1, 3), \"in\": 40, \"out\": 56, \"dims\": 24}, # ori 48, 64\n",
    "#     \"conv45\":  {\"kernel\": 1,      \"in\": 56, \"out\": 32, \"dims\": 22}, # ori 64, 32\n",
    "#     \"conv460\": {\"kernel\": (3, 1), \"in\": 32, \"out\": 20, \"dims\": 22}, # ori 32, 16 \n",
    "#     \"conv461\": {\"kernel\": (1, 3), \"in\": 20, \"out\": 64, \"dims\": 22}, # ori 16, 64\n",
    "    \n",
    "#     \"linear1\": {\"in\": 64, \"out\": 32},\n",
    "#     \"linear2\": {\"in\": 32, \"out\": 16},\n",
    "#     \"linear3\": {\"in\": 16, \"out\": 2},\n",
    "\n",
    "#     # \"linear1\": {\"in\": 64, \"out\": 32},\n",
    "#     # \"linear2\": {\"in\": 32, \"out\": 2},\n",
    "# }\n",
    "\n",
    "# aimet_fpga = {\n",
    "#     \"conv1\":   {\"kernel\": 3,      \"in\": 3,  \"out\": 12, \"dims\": 230},\n",
    "   \n",
    "#     \"conv20\":  {\"kernel\": (3, 1), \"in\": 12, \"out\": 24, \"dims\": 114},\n",
    "#     \"conv21\":  {\"kernel\": (1, 3), \"in\": 24, \"out\": 16, \"dims\": 114},\n",
    "    \n",
    "#     \"conv31\":  {\"kernel\": 1,      \"in\": 16, \"out\": 16, \"dims\": 56},\n",
    "#     \"conv320\": {\"kernel\": (3, 1), \"in\": 16, \"out\": 16, \"dims\": 56},\n",
    "#     \"conv321\": {\"kernel\": (1, 3), \"in\": 16, \"out\": 32, \"dims\": 56},\n",
    "#     \"conv33\":  {\"kernel\": 1,      \"in\": 32, \"out\": 32, \"dims\": 54},\n",
    "#     \"conv340\": {\"kernel\": (3, 1), \"in\": 32, \"out\": 42, \"dims\": 54}, # ori 32, 32\n",
    "#     \"conv341\": {\"kernel\": (1, 3), \"in\": 42, \"out\": 64, \"dims\": 54}, # ori 32, 64\n",
    "    \n",
    "#     \"conv41\":  {\"kernel\": 1,      \"in\": 64, \"out\": 30, \"dims\": 26}, # ori 64, 32\n",
    "#     \"conv42\":  {\"kernel\": 3,      \"in\": 30, \"out\": 60, \"dims\": 26}, # ori 62, 64\n",
    "#     \"conv43\":  {\"kernel\": 1,      \"in\": 60, \"out\": 32, \"dims\": 24}, # ori 64, 32\n",
    "#     \"conv440\": {\"kernel\": (3, 1), \"in\": 32, \"out\": 42, \"dims\": 24}, # ori 32, 48\n",
    "#     \"conv441\": {\"kernel\": (1, 3), \"in\": 42, \"out\": 58, \"dims\": 24}, # ori 48, 64\n",
    "#     \"conv45\":  {\"kernel\": 1,      \"in\": 58, \"out\": 32, \"dims\": 22}, # ori 64, 32\n",
    "#     \"conv460\": {\"kernel\": (3, 1), \"in\": 32, \"out\": 20, \"dims\": 22}, # ori 32, 16 \n",
    "#     \"conv461\": {\"kernel\": (1, 3), \"in\": 20, \"out\": 64, \"dims\": 22}, # ori 16, 64\n",
    "\n",
    "#     \"linear1\": {\"in\": 64, \"out\": 32},\n",
    "#     \"linear2\": {\"in\": 32, \"out\": 2},\n",
    "# }\n",
    "\n",
    "### FINAL MODEL SMALL BIG\n",
    "aimet_fpga = {\n",
    "    \"conv1\":   {\"kernel\": 3,      \"in\": 3,  \"out\": 12, \"dims\": 230},\n",
    "   \n",
    "    \"conv20\":  {\"kernel\": (3, 1), \"in\": 12, \"out\": 24, \"dims\": 114},\n",
    "    \"conv21\":  {\"kernel\": (1, 3), \"in\": 24, \"out\": 16, \"dims\": 114},\n",
    "    \n",
    "    \"conv31\":  {\"kernel\": 1,      \"in\": 16, \"out\": 16, \"dims\": 56},\n",
    "    \"conv320\": {\"kernel\": (3, 1), \"in\": 16, \"out\": 16, \"dims\": 56},\n",
    "    \"conv321\": {\"kernel\": (1, 3), \"in\": 16, \"out\": 32, \"dims\": 56},\n",
    "    \"conv33\":  {\"kernel\": 1,      \"in\": 32, \"out\": 32, \"dims\": 54},\n",
    "    \"conv340\": {\"kernel\": (3, 1), \"in\": 32, \"out\": 44, \"dims\": 54}, # ori 32, 32\n",
    "    \"conv341\": {\"kernel\": (1, 3), \"in\": 44, \"out\": 64, \"dims\": 54}, # ori 32, 64\n",
    "    \n",
    "    \"conv41\":  {\"kernel\": 1,      \"in\": 64, \"out\": 32, \"dims\": 26}, # ori 64, 32\n",
    "    \"conv42\":  {\"kernel\": 3,      \"in\": 32, \"out\": 64, \"dims\": 26}, # ori 62, 64\n",
    "    \"conv43\":  {\"kernel\": 1,      \"in\": 64, \"out\": 32, \"dims\": 24}, # ori 64, 32\n",
    "    \"conv440\": {\"kernel\": (3, 1), \"in\": 32, \"out\": 44, \"dims\": 24}, # ori 32, 48\n",
    "    \"conv441\": {\"kernel\": (1, 3), \"in\": 44, \"out\": 60, \"dims\": 24}, # ori 48, 64\n",
    "    \"conv45\":  {\"kernel\": 1,      \"in\": 60, \"out\": 32, \"dims\": 22}, # ori 64, 32\n",
    "    \"conv460\": {\"kernel\": (3, 1), \"in\": 32, \"out\": 20, \"dims\": 22}, # ori 32, 16 \n",
    "    \"conv461\": {\"kernel\": (1, 3), \"in\": 20, \"out\": 64, \"dims\": 22}, # ori 16, 64\n",
    "\n",
    "    \"linear1\": {\"in\": 64, \"out\": 32},\n",
    "    \"linear2\": {\"in\": 32, \"out\": 2},\n",
    "}"
   ]
  },
  {
   "cell_type": "markdown",
   "id": "565620b3-d703-475d-9e2f-b5f9a232778c",
   "metadata": {},
   "source": [
    "# Function to compute MAC and Weights"
   ]
  },
  {
   "cell_type": "code",
   "execution_count": 7,
   "id": "42442063-8c23-40bd-93c4-467b0d1cbcf1",
   "metadata": {},
   "outputs": [],
   "source": [
    "def compute_macs_and_weights(model):\n",
    "    for k in model.keys():\n",
    "        if \"conv\" in k:\n",
    "            if type(model[k][\"kernel\"]) == tuple:\n",
    "                model[k].update({\"mac\": \n",
    "                    (model[k][\"kernel\"][0]*model[k][\"kernel\"][1]) * model[k][\"in\"] * model[k][\"out\"] * (model[k][\"dims\"]**2)})\n",
    "                model[k].update({\"weights\": \n",
    "                    (model[k][\"kernel\"][0]*model[k][\"kernel\"][1]) * model[k][\"in\"] * model[k][\"out\"]})\n",
    "            elif type(model[k][\"kernel\"]) == int:\n",
    "                model[k].update({\"mac\": (model[k][\"kernel\"]**2) * model[k][\"in\"] * model[k][\"out\"] * (model[k][\"dims\"]**2)})\n",
    "                model[k].update({\"weights\": (model[k][\"kernel\"]**2) * model[k][\"in\"] * model[k][\"out\"]})\n",
    "            else:\n",
    "                print(\"Wrong model definition\")\n",
    "        elif \"linear\" in k:\n",
    "            model[k].update({\"mac\": model[k][\"in\"] * model[k][\"out\"]})\n",
    "            model[k].update({\"weights\": model[k][\"in\"] * model[k][\"out\"]})\n",
    "        else:\n",
    "            print(\"Wrong layer definition\")\n",
    "\n",
    "    model_macs = {k: model[k][\"mac\"]  for k in model.keys()}\n",
    "    total_macs = np.array([v for v in model_macs.values()]).sum()\n",
    "    model_weights = {k: model[k][\"weights\"]  for k in model.keys()}\n",
    "    total_weights = np.array([v for v in model_weights.values()]).sum()\n",
    "\n",
    "    return {\n",
    "        \"layers\": model,\n",
    "        \"macs\": model_macs,\n",
    "        \"total_macs\": total_macs,\n",
    "        \"weights\": model_weights,\n",
    "        \"total_weights\": total_weights,\n",
    "    }"
   ]
  },
  {
   "cell_type": "code",
   "execution_count": 8,
   "id": "bebde230-1156-4b39-8863-be60ee77849c",
   "metadata": {},
   "outputs": [],
   "source": [
    "original_ops = compute_macs_and_weights(original)\n",
    "downto_28_ops = compute_macs_and_weights(downto_28)\n",
    "aimet_original_ops = compute_macs_and_weights(aimet_original)\n",
    "aimet_fpga_ops = compute_macs_and_weights(aimet_fpga)"
   ]
  },
  {
   "cell_type": "code",
   "execution_count": 9,
   "id": "02b1e15e-16d5-48de-8f3d-5f3493a7e1cb",
   "metadata": {},
   "outputs": [
    {
     "name": "stdout",
     "output_type": "stream",
     "text": [
      "Original model:\n",
      "\tMACs = 411042848\n",
      "\tWeights = 290912\n",
      "Downto 28 model:\n",
      "\tMACs = 225592352\n",
      "\tWeights = 92288\n",
      "Aimet original model:\n",
      "\tMACs = 152564320\n",
      "\tWeights = 52564\n",
      "Aimet FPGA model:\n",
      "\tMACs = 117043536\n",
      "\tWeights = 63060\n"
     ]
    }
   ],
   "source": [
    "print(\"Original model:\"\n",
    "      + f'\\n\\tMACs = {original_ops[\"total_macs\"]}\\n\\tWeights = {original_ops[\"total_weights\"]}')\n",
    "print(\"Downto 28 model:\" \n",
    "      + f'\\n\\tMACs = {downto_28_ops[\"total_macs\"]}\\n\\tWeights = {downto_28_ops[\"total_weights\"]}')\n",
    "print(\"Aimet original model:\"\n",
    "      + f'\\n\\tMACs = {aimet_original_ops[\"total_macs\"]}\\n\\tWeights = {aimet_original_ops[\"total_weights\"]}')\n",
    "print(\"Aimet FPGA model:\"\n",
    "      + f'\\n\\tMACs = {aimet_fpga_ops[\"total_macs\"]}\\n\\tWeights = {aimet_fpga_ops[\"total_weights\"]}')"
   ]
  },
  {
   "cell_type": "code",
   "execution_count": 10,
   "id": "c52ebd55-6160-49fa-ab3d-3c1577e27d2b",
   "metadata": {},
   "outputs": [
    {
     "data": {
      "image/png": "[encoded data removed]",
      "text/plain": [
       "<Figure size 800x800 with 8 Axes>"
      ]
     },
     "metadata": {},
     "output_type": "display_data"
    }
   ],
   "source": [
    "plot_nets()"
   ]
  },
  {
   "cell_type": "markdown",
   "id": "87bc08a5-5a47-42a7-b323-9c23c2b39b08",
   "metadata": {},
   "source": [
    "# Efficiency"
   ]
  },
  {
   "cell_type": "code",
   "execution_count": 11,
   "id": "94c6685d-a395-4017-9ba1-6245f9fb6a2a",
   "metadata": {},
   "outputs": [],
   "source": [
    "def closest_2pow(n):\n",
    "    i = 0\n",
    "    res = 0\n",
    "    while(res == 0):\n",
    "        i += 1\n",
    "        res = int(2**i / n)\n",
    "    eff = n / (2**i)\n",
    "    out = {}\n",
    "    out[\"close_2pow\"] = 2**i\n",
    "    out[\"efficiency\"] = eff\n",
    "    return out"
   ]
  },
  {
   "cell_type": "markdown",
   "id": "248aefb1-f523-4863-b9f6-7ad955781257",
   "metadata": {},
   "source": [
    "# Aimet Original EVOL"
   ]
  },
  {
   "cell_type": "code",
   "execution_count": 12,
   "id": "70574220-35c1-4b13-aabe-05d937356a29",
   "metadata": {},
   "outputs": [
    {
     "name": "stdout",
     "output_type": "stream",
     "text": [
      "conv10     63\n",
      "conv11     588\n",
      "conv20     1848\n",
      "conv21     1056\n",
      "conv31     256\n",
      "conv32     4608\n",
      "conv33     1024\n",
      "conv340    4896\n",
      "conv341    8721\n",
      "conv41     1824\n",
      "conv420    4224\n",
      "conv421    8448\n",
      "conv43     2048\n",
      "conv440    3072\n",
      "conv441    6144\n",
      "conv450    640\n",
      "conv451    320\n",
      "conv460    576\n",
      "conv461    1152\n",
      "linear1    1024\n",
      "linear2    32\n"
     ]
    }
   ],
   "source": [
    "for k, v in aimet_original_ops[\"weights\"].items():\n",
    "    print(f'{k:<10} {v}')"
   ]
  },
  {
   "cell_type": "markdown",
   "id": "e34025fc-2924-4020-b987-affb80b5bf4e",
   "metadata": {},
   "source": [
    "# Aimet FPGA"
   ]
  },
  {
   "cell_type": "code",
   "execution_count": 13,
   "id": "9dc89ad9-cbfa-4e17-9e2c-df8f407be865",
   "metadata": {},
   "outputs": [
    {
     "name": "stdout",
     "output_type": "stream",
     "text": [
      "conv1      324\n",
      "conv20     864\n",
      "conv21     1152\n",
      "conv31     256\n",
      "conv320    768\n",
      "conv321    1536\n",
      "conv33     1024\n",
      "conv340    4224\n",
      "conv341    8448\n",
      "conv41     2048\n",
      "conv42     18432\n",
      "conv43     2048\n",
      "conv440    4224\n",
      "conv441    7920\n",
      "conv45     1920\n",
      "conv460    1920\n",
      "conv461    3840\n",
      "linear1    2048\n",
      "linear2    64\n"
     ]
    }
   ],
   "source": [
    "for k, v in aimet_fpga_ops[\"weights\"].items():\n",
    "    print(f'{k:<10} {v}')"
   ]
  },
  {
   "cell_type": "code",
   "execution_count": 14,
   "id": "88c24122-1f38-4b5c-9f7a-41ed376ac08a",
   "metadata": {},
   "outputs": [
    {
     "name": "stdout",
     "output_type": "stream",
     "text": [
      "conv1      17139600\n",
      "conv20     11228544\n",
      "conv21     14971392\n",
      "conv31     802816\n",
      "conv320    2408448\n",
      "conv321    4816896\n",
      "conv33     2985984\n",
      "conv340    12317184\n",
      "conv341    24634368\n",
      "conv41     1384448\n",
      "conv42     12460032\n",
      "conv43     1179648\n",
      "conv440    2433024\n",
      "conv441    4561920\n",
      "conv45     929280\n",
      "conv460    929280\n",
      "conv461    1858560\n",
      "linear1    2048\n",
      "linear2    64\n"
     ]
    }
   ],
   "source": [
    "for k, v in aimet_fpga_ops[\"macs\"].items():\n",
    "    print(f'{k:<10} {v}')"
   ]
  },
  {
   "cell_type": "code",
   "execution_count": 15,
   "id": "eb5fdf25-b037-4813-8d81-c2149b65006e",
   "metadata": {},
   "outputs": [
    {
     "name": "stdout",
     "output_type": "stream",
     "text": [
      "conv1:     324        - closest 2 pow: 512     - efficiency: 0.63\n",
      "conv20:    864        - closest 2 pow: 1024    - efficiency: 0.84\n",
      "conv21:    1152       - closest 2 pow: 2048    - efficiency: 0.56\n",
      "conv31:    256        - closest 2 pow: 256     - efficiency: 1.00\n",
      "conv320:   768        - closest 2 pow: 1024    - efficiency: 0.75\n",
      "conv321:   1536       - closest 2 pow: 2048    - efficiency: 0.75\n",
      "conv33:    1024       - closest 2 pow: 1024    - efficiency: 1.00\n",
      "conv340:   4224       - closest 2 pow: 8192    - efficiency: 0.52\n",
      "conv341:   8448       - closest 2 pow: 16384   - efficiency: 0.52\n",
      "conv41:    2048       - closest 2 pow: 2048    - efficiency: 1.00\n",
      "conv42:    18432      - closest 2 pow: 32768   - efficiency: 0.56\n",
      "conv43:    2048       - closest 2 pow: 2048    - efficiency: 1.00\n",
      "conv440:   4224       - closest 2 pow: 8192    - efficiency: 0.52\n",
      "conv441:   7920       - closest 2 pow: 8192    - efficiency: 0.97\n",
      "conv45:    1920       - closest 2 pow: 2048    - efficiency: 0.94\n",
      "conv460:   1920       - closest 2 pow: 2048    - efficiency: 0.94\n",
      "conv461:   3840       - closest 2 pow: 4096    - efficiency: 0.94\n",
      "linear1:   2048       - closest 2 pow: 2048    - efficiency: 1.00\n",
      "linear2:   64         - closest 2 pow: 64      - efficiency: 1.00\n"
     ]
    }
   ],
   "source": [
    "for k, v in aimet_fpga_ops[\"weights\"].items():\n",
    "    two_pow_dic = closest_2pow(v)\n",
    "    str1 = \"closest 2 pow:\"\n",
    "    str2 = \"efficiency:\"\n",
    "    kstr = k + ':'\n",
    "    print(f'{kstr:<10} {v:<10} - {str1:<10} {two_pow_dic[\"close_2pow\"]:<7} - {str2:<10} {two_pow_dic[\"efficiency\"]:.2f}')"
   ]
  },
  {
   "cell_type": "code",
   "execution_count": null,
   "id": "8f1117de-befa-436f-a695-5a75e347c712",
   "metadata": {},
   "outputs": [],
   "source": []
  }
 ],
 "metadata": {
  "kernelspec": {
   "display_name": "Python 3 (ipykernel)",
   "language": "python",
   "name": "python3"
  },
  "language_info": {
   "codemirror_mode": {
    "name": "ipython",
    "version": 3
   },
   "file_extension": ".py",
   "mimetype": "text/x-python",
   "name": "python",
   "nbconvert_exporter": "python",
   "pygments_lexer": "ipython3",
   "version": "3.10.13"
  }
 },
 "nbformat": 4,
 "nbformat_minor": 5
}
