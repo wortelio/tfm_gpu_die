{
 "cells": [
  {
   "cell_type": "code",
   "execution_count": 1,
   "id": "80e085cc-4dd3-4ac8-8d32-0fc09847c307",
   "metadata": {},
   "outputs": [],
   "source": [
    "import numpy as np\n",
    "import matplotlib.pyplot as plt"
   ]
  },
  {
   "cell_type": "markdown",
   "id": "b7ebf485-9f14-4647-9dbf-4e6afef6f9bb",
   "metadata": {},
   "source": [
    "# Plot MACs and Weights Per Layer"
   ]
  },
  {
   "cell_type": "code",
   "execution_count": 2,
   "id": "b288fb01-2066-4613-8411-142a574325d4",
   "metadata": {},
   "outputs": [],
   "source": [
    "def plot_nets(model_ops_dict):\n",
    "\n",
    "    fig, ax = plt.subplots(1, 2, figsize=(8,3))\n",
    "    \n",
    "    ######################## AIMET FPGA ########################\n",
    "    plt.subplot(1, 2, 1)\n",
    "    ax[0].bar(list(model_ops_dict[\"layers\"].keys()), list(model_ops_dict[\"macs\"].values()))\n",
    "    ax[0].set_xticks(list(model_ops_dict[\"layers\"].keys()))\n",
    "    ax[0].set_xticklabels(list(model_ops_dict[\"layers\"].keys()), rotation=90)\n",
    "    ax[0].set_title(\"MACs Per Layer\")\n",
    "    \n",
    "    plt.subplot(1, 2, 2)\n",
    "    plt.axhline(y=16384, color='r', linestyle='--')\n",
    "    plt.axhline(y=16384/2, color='r', linestyle='--')\n",
    "    plt.axhline(y=16384/4, color='r', linestyle='--')\n",
    "    plt.axhline(y=32768, color='r', linestyle='--')\n",
    "    plt.ylim([0, 20000])\n",
    "    ax[1].bar(list(model_ops_dict[\"layers\"].keys()), list(model_ops_dict[\"weights\"].values()))\n",
    "    ax[1].set_xticks(list(model_ops_dict[\"layers\"].keys()))\n",
    "    ax[1].set_xticklabels(list(model_ops_dict[\"layers\"].keys()), rotation=90)\n",
    "    ax[1].set_title(\"Weights Per Layer\")\n",
    "    \n",
    "    plt.tight_layout()\n",
    "    plt.show()"
   ]
  },
  {
   "cell_type": "markdown",
   "id": "feb07b97-f6cd-41e2-8f4e-741c38501e13",
   "metadata": {},
   "source": [
    "# Model Definitions"
   ]
  },
  {
   "cell_type": "markdown",
   "id": "fccaec6d-0313-47ea-b067-6a3bcd8884e0",
   "metadata": {},
   "source": [
    "#### Adapted for FPGA"
   ]
  },
  {
   "cell_type": "code",
   "execution_count": 3,
   "id": "8676f0ec-2c71-4281-8889-6deb345ac3f6",
   "metadata": {},
   "outputs": [],
   "source": [
    "# aimet_fpga = {\n",
    "#     \"conv1\":   {\"kernel\": 3,      \"in\": 3,  \"out\": 12, \"dims\": 230},\n",
    "   \n",
    "#     \"conv20\":  {\"kernel\": (3, 1), \"in\": 12, \"out\": 20, \"dims\": 114},\n",
    "#     \"conv21\":  {\"kernel\": (1, 3), \"in\": 20, \"out\": 16, \"dims\": 114},\n",
    "    \n",
    "#     \"conv31\":  {\"kernel\": 1,      \"in\": 16, \"out\": 16, \"dims\": 56},\n",
    "#     \"conv320\": {\"kernel\": (3, 1), \"in\": 16, \"out\": 20, \"dims\": 56},\n",
    "#     \"conv321\": {\"kernel\": (1, 3), \"in\": 20, \"out\": 32, \"dims\": 56},\n",
    "#     \"conv33\":  {\"kernel\": 1,      \"in\": 32, \"out\": 32, \"dims\": 54},\n",
    "#     \"conv340\": {\"kernel\": (3, 1), \"in\": 32, \"out\": 40, \"dims\": 54}, # ori 32, 32\n",
    "#     \"conv341\": {\"kernel\": (1, 3), \"in\": 40, \"out\": 64, \"dims\": 54}, # ori 32, 64\n",
    "    \n",
    "#     \"conv41\":  {\"kernel\": 1,      \"in\": 64, \"out\": 32, \"dims\": 26}, # ori 64, 32\n",
    "#     \"conv42\":  {\"kernel\": 3,      \"in\": 32, \"out\": 56, \"dims\": 26}, # ori 62, 64\n",
    "#     \"conv43\":  {\"kernel\": 1,      \"in\": 56, \"out\": 32, \"dims\": 24}, # ori 64, 32\n",
    "#     \"conv440\": {\"kernel\": (3, 1), \"in\": 32, \"out\": 40, \"dims\": 24}, # ori 32, 48\n",
    "#     \"conv441\": {\"kernel\": (1, 3), \"in\": 40, \"out\": 56, \"dims\": 24}, # ori 48, 64\n",
    "#     \"conv45\":  {\"kernel\": 1,      \"in\": 56, \"out\": 32, \"dims\": 22}, # ori 64, 32\n",
    "#     \"conv460\": {\"kernel\": (3, 1), \"in\": 32, \"out\": 20, \"dims\": 22}, # ori 32, 16 \n",
    "#     \"conv461\": {\"kernel\": (1, 3), \"in\": 20, \"out\": 64, \"dims\": 22}, # ori 16, 64\n",
    "    \n",
    "#     \"linear1\": {\"in\": 64, \"out\": 32},\n",
    "#     \"linear2\": {\"in\": 32, \"out\": 16},\n",
    "#     \"linear3\": {\"in\": 16, \"out\": 2},\n",
    "\n",
    "#     # \"linear1\": {\"in\": 64, \"out\": 32},\n",
    "#     # \"linear2\": {\"in\": 32, \"out\": 2},\n",
    "# }\n",
    "\n",
    "# aimet_fpga = {\n",
    "#     \"conv1\":   {\"kernel\": 3,      \"in\": 3,  \"out\": 12, \"dims\": 230},\n",
    "   \n",
    "#     \"conv20\":  {\"kernel\": (3, 1), \"in\": 12, \"out\": 24, \"dims\": 114},\n",
    "#     \"conv21\":  {\"kernel\": (1, 3), \"in\": 24, \"out\": 16, \"dims\": 114},\n",
    "    \n",
    "#     \"conv31\":  {\"kernel\": 1,      \"in\": 16, \"out\": 16, \"dims\": 56},\n",
    "#     \"conv320\": {\"kernel\": (3, 1), \"in\": 16, \"out\": 16, \"dims\": 56},\n",
    "#     \"conv321\": {\"kernel\": (1, 3), \"in\": 16, \"out\": 32, \"dims\": 56},\n",
    "#     \"conv33\":  {\"kernel\": 1,      \"in\": 32, \"out\": 32, \"dims\": 54},\n",
    "#     \"conv340\": {\"kernel\": (3, 1), \"in\": 32, \"out\": 42, \"dims\": 54}, # ori 32, 32\n",
    "#     \"conv341\": {\"kernel\": (1, 3), \"in\": 42, \"out\": 64, \"dims\": 54}, # ori 32, 64\n",
    "    \n",
    "#     \"conv41\":  {\"kernel\": 1,      \"in\": 64, \"out\": 30, \"dims\": 26}, # ori 64, 32\n",
    "#     \"conv42\":  {\"kernel\": 3,      \"in\": 30, \"out\": 60, \"dims\": 26}, # ori 62, 64\n",
    "#     \"conv43\":  {\"kernel\": 1,      \"in\": 60, \"out\": 32, \"dims\": 24}, # ori 64, 32\n",
    "#     \"conv440\": {\"kernel\": (3, 1), \"in\": 32, \"out\": 42, \"dims\": 24}, # ori 32, 48\n",
    "#     \"conv441\": {\"kernel\": (1, 3), \"in\": 42, \"out\": 58, \"dims\": 24}, # ori 48, 64\n",
    "#     \"conv45\":  {\"kernel\": 1,      \"in\": 58, \"out\": 32, \"dims\": 22}, # ori 64, 32\n",
    "#     \"conv460\": {\"kernel\": (3, 1), \"in\": 32, \"out\": 20, \"dims\": 22}, # ori 32, 16 \n",
    "#     \"conv461\": {\"kernel\": (1, 3), \"in\": 20, \"out\": 64, \"dims\": 22}, # ori 16, 64\n",
    "\n",
    "#     \"linear1\": {\"in\": 64, \"out\": 32},\n",
    "#     \"linear2\": {\"in\": 32, \"out\": 2},\n",
    "# }\n",
    "\n",
    "### FINAL MODEL SMALL BIG\n",
    "aimet_fpga = {\n",
    "    \"conv1\":   {\"kernel\": 3,      \"in\": 3,  \"out\": 12, \"dims\": 230},\n",
    "   \n",
    "    \"conv20\":  {\"kernel\": (3, 1), \"in\": 12, \"out\": 24, \"dims\": 114},\n",
    "    \"conv21\":  {\"kernel\": (1, 3), \"in\": 24, \"out\": 16, \"dims\": 114},\n",
    "    \n",
    "    \"conv31\":  {\"kernel\": 1,      \"in\": 16, \"out\": 16, \"dims\": 56},\n",
    "    \"conv320\": {\"kernel\": (3, 1), \"in\": 16, \"out\": 16, \"dims\": 56},\n",
    "    \"conv321\": {\"kernel\": (1, 3), \"in\": 16, \"out\": 32, \"dims\": 56},\n",
    "    \"conv33\":  {\"kernel\": 1,      \"in\": 32, \"out\": 32, \"dims\": 54},\n",
    "    \"conv340\": {\"kernel\": (3, 1), \"in\": 32, \"out\": 44, \"dims\": 54}, # ori 32, 32\n",
    "    \"conv341\": {\"kernel\": (1, 3), \"in\": 44, \"out\": 64, \"dims\": 54}, # ori 32, 64\n",
    "    \n",
    "    \"conv41\":  {\"kernel\": 1,      \"in\": 64, \"out\": 32, \"dims\": 26}, # ori 64, 32\n",
    "    \"conv42\":  {\"kernel\": 3,      \"in\": 32, \"out\": 64, \"dims\": 26}, # ori 62, 64\n",
    "    \"conv43\":  {\"kernel\": 1,      \"in\": 64, \"out\": 32, \"dims\": 24}, # ori 64, 32\n",
    "    \"conv440\": {\"kernel\": (3, 1), \"in\": 32, \"out\": 44, \"dims\": 24}, # ori 32, 48\n",
    "    \"conv441\": {\"kernel\": (1, 3), \"in\": 44, \"out\": 60, \"dims\": 24}, # ori 48, 64\n",
    "    \"conv45\":  {\"kernel\": 1,      \"in\": 60, \"out\": 32, \"dims\": 22}, # ori 64, 32\n",
    "    \"conv460\": {\"kernel\": (3, 1), \"in\": 32, \"out\": 20, \"dims\": 22}, # ori 32, 16 \n",
    "    \"conv461\": {\"kernel\": (1, 3), \"in\": 20, \"out\": 64, \"dims\": 22}, # ori 16, 64\n",
    "\n",
    "    \"linear1\": {\"in\": 64, \"out\": 32},\n",
    "    \"linear2\": {\"in\": 32, \"out\": 2},\n",
    "}"
   ]
  },
  {
   "cell_type": "markdown",
   "id": "565620b3-d703-475d-9e2f-b5f9a232778c",
   "metadata": {},
   "source": [
    "# Function to compute MAC and Weights"
   ]
  },
  {
   "cell_type": "code",
   "execution_count": 4,
   "id": "42442063-8c23-40bd-93c4-467b0d1cbcf1",
   "metadata": {},
   "outputs": [],
   "source": [
    "def compute_macs_and_weights(model):\n",
    "    for k in model.keys():\n",
    "        if \"conv\" in k:\n",
    "            if type(model[k][\"kernel\"]) == tuple:\n",
    "                model[k].update({\"mac\": \n",
    "                    (model[k][\"kernel\"][0]*model[k][\"kernel\"][1]) * model[k][\"in\"] * model[k][\"out\"] * (model[k][\"dims\"]**2)})\n",
    "                model[k].update({\"weights\": \n",
    "                    (model[k][\"kernel\"][0]*model[k][\"kernel\"][1]) * model[k][\"in\"] * model[k][\"out\"]})\n",
    "            elif type(model[k][\"kernel\"]) == int:\n",
    "                model[k].update({\"mac\": (model[k][\"kernel\"]**2) * model[k][\"in\"] * model[k][\"out\"] * (model[k][\"dims\"]**2)})\n",
    "                model[k].update({\"weights\": (model[k][\"kernel\"]**2) * model[k][\"in\"] * model[k][\"out\"]})\n",
    "            else:\n",
    "                print(\"Wrong model definition\")\n",
    "        elif \"linear\" in k:\n",
    "            model[k].update({\"mac\": model[k][\"in\"] * model[k][\"out\"]})\n",
    "            model[k].update({\"weights\": model[k][\"in\"] * model[k][\"out\"]})\n",
    "        else:\n",
    "            print(\"Wrong layer definition\")\n",
    "\n",
    "    model_macs = {k: model[k][\"mac\"]  for k in model.keys()}\n",
    "    total_macs = np.array([v for v in model_macs.values()]).sum()\n",
    "    model_weights = {k: model[k][\"weights\"]  for k in model.keys()}\n",
    "    total_weights = np.array([v for v in model_weights.values()]).sum()\n",
    "\n",
    "    return {\n",
    "        \"layers\": model,\n",
    "        \"macs\": model_macs,\n",
    "        \"total_macs\": total_macs,\n",
    "        \"weights\": model_weights,\n",
    "        \"total_weights\": total_weights,\n",
    "    }"
   ]
  },
  {
   "cell_type": "code",
   "execution_count": 5,
   "id": "bebde230-1156-4b39-8863-be60ee77849c",
   "metadata": {},
   "outputs": [],
   "source": [
    "aimet_fpga_ops = compute_macs_and_weights(aimet_fpga)"
   ]
  },
  {
   "cell_type": "code",
   "execution_count": 6,
   "id": "02b1e15e-16d5-48de-8f3d-5f3493a7e1cb",
   "metadata": {},
   "outputs": [
    {
     "name": "stdout",
     "output_type": "stream",
     "text": [
      "Aimet FPGA model:\n",
      "\tMACs = 117043536\n",
      "\tWeights = 63060\n"
     ]
    }
   ],
   "source": [
    "print(\"Aimet FPGA model:\"\n",
    "      + f'\\n\\tMACs = {aimet_fpga_ops[\"total_macs\"]}\\n\\tWeights = {aimet_fpga_ops[\"total_weights\"]}')"
   ]
  },
  {
   "cell_type": "code",
   "execution_count": 7,
   "id": "c52ebd55-6160-49fa-ab3d-3c1577e27d2b",
   "metadata": {},
   "outputs": [
    {
     "data": {
      "image/png": "[encoded data removed]",
      "text/plain": [
       "<Figure size 800x300 with 2 Axes>"
      ]
     },
     "metadata": {},
     "output_type": "display_data"
    }
   ],
   "source": [
    "plot_nets(aimet_fpga_ops)"
   ]
  },
  {
   "cell_type": "markdown",
   "id": "87bc08a5-5a47-42a7-b323-9c23c2b39b08",
   "metadata": {},
   "source": [
    "# Efficiency"
   ]
  },
  {
   "cell_type": "code",
   "execution_count": 8,
   "id": "94c6685d-a395-4017-9ba1-6245f9fb6a2a",
   "metadata": {},
   "outputs": [],
   "source": [
    "def closest_2pow(n):\n",
    "    i = 0\n",
    "    res = 0\n",
    "    while(res == 0):\n",
    "        i += 1\n",
    "        res = int(2**i / n)\n",
    "    eff = n / (2**i)\n",
    "    out = {}\n",
    "    out[\"close_2pow\"] = 2**i\n",
    "    out[\"efficiency\"] = eff\n",
    "    return out"
   ]
  },
  {
   "cell_type": "markdown",
   "id": "e34025fc-2924-4020-b987-affb80b5bf4e",
   "metadata": {},
   "source": [
    "# Aimet FPGA"
   ]
  },
  {
   "cell_type": "code",
   "execution_count": 9,
   "id": "88c24122-1f38-4b5c-9f7a-41ed376ac08a",
   "metadata": {},
   "outputs": [
    {
     "name": "stdout",
     "output_type": "stream",
     "text": [
      "conv1      17139600\n",
      "conv20     11228544\n",
      "conv21     14971392\n",
      "conv31     802816\n",
      "conv320    2408448\n",
      "conv321    4816896\n",
      "conv33     2985984\n",
      "conv340    12317184\n",
      "conv341    24634368\n",
      "conv41     1384448\n",
      "conv42     12460032\n",
      "conv43     1179648\n",
      "conv440    2433024\n",
      "conv441    4561920\n",
      "conv45     929280\n",
      "conv460    929280\n",
      "conv461    1858560\n",
      "linear1    2048\n",
      "linear2    64\n"
     ]
    }
   ],
   "source": [
    "for k, v in aimet_fpga_ops[\"macs\"].items():\n",
    "    print(f'{k:<10} {v}')"
   ]
  },
  {
   "cell_type": "code",
   "execution_count": 10,
   "id": "eb5fdf25-b037-4813-8d81-c2149b65006e",
   "metadata": {},
   "outputs": [
    {
     "name": "stdout",
     "output_type": "stream",
     "text": [
      "conv1:     324        - closest 2 pow: 512     - efficiency: 0.63\n",
      "conv20:    864        - closest 2 pow: 1024    - efficiency: 0.84\n",
      "conv21:    1152       - closest 2 pow: 2048    - efficiency: 0.56\n",
      "conv31:    256        - closest 2 pow: 256     - efficiency: 1.00\n",
      "conv320:   768        - closest 2 pow: 1024    - efficiency: 0.75\n",
      "conv321:   1536       - closest 2 pow: 2048    - efficiency: 0.75\n",
      "conv33:    1024       - closest 2 pow: 1024    - efficiency: 1.00\n",
      "conv340:   4224       - closest 2 pow: 8192    - efficiency: 0.52\n",
      "conv341:   8448       - closest 2 pow: 16384   - efficiency: 0.52\n",
      "conv41:    2048       - closest 2 pow: 2048    - efficiency: 1.00\n",
      "conv42:    18432      - closest 2 pow: 32768   - efficiency: 0.56\n",
      "conv43:    2048       - closest 2 pow: 2048    - efficiency: 1.00\n",
      "conv440:   4224       - closest 2 pow: 8192    - efficiency: 0.52\n",
      "conv441:   7920       - closest 2 pow: 8192    - efficiency: 0.97\n",
      "conv45:    1920       - closest 2 pow: 2048    - efficiency: 0.94\n",
      "conv460:   1920       - closest 2 pow: 2048    - efficiency: 0.94\n",
      "conv461:   3840       - closest 2 pow: 4096    - efficiency: 0.94\n",
      "linear1:   2048       - closest 2 pow: 2048    - efficiency: 1.00\n",
      "linear2:   64         - closest 2 pow: 64      - efficiency: 1.00\n"
     ]
    }
   ],
   "source": [
    "for k, v in aimet_fpga_ops[\"weights\"].items():\n",
    "    two_pow_dic = closest_2pow(v)\n",
    "    str1 = \"closest 2 pow:\"\n",
    "    str2 = \"efficiency:\"\n",
    "    kstr = k + ':'\n",
    "    print(f'{kstr:<10} {v:<10} - {str1:<10} {two_pow_dic[\"close_2pow\"]:<7} - {str2:<10} {two_pow_dic[\"efficiency\"]:.2f}')"
   ]
  },
  {
   "cell_type": "code",
   "execution_count": null,
   "id": "8f1117de-befa-436f-a695-5a75e347c712",
   "metadata": {},
   "outputs": [],
   "source": []
  }
 ],
 "metadata": {
  "kernelspec": {
   "display_name": "Python 3 (ipykernel)",
   "language": "python",
   "name": "python3"
  },
  "language_info": {
   "codemirror_mode": {
    "name": "ipython",
    "version": 3
   },
   "file_extension": ".py",
   "mimetype": "text/x-python",
   "name": "python",
   "nbconvert_exporter": "python",
   "pygments_lexer": "ipython3",
   "version": "3.10.13"
  }
 },
 "nbformat": 4,
 "nbformat_minor": 5
}
