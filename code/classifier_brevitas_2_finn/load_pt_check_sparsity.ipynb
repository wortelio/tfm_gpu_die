{
 "cells": [
  {
   "cell_type": "code",
   "execution_count": 1,
   "id": "ced39284-e77a-4bb4-b4f4-1e32f8dc378b",
   "metadata": {
    "editable": true,
    "slideshow": {
     "slide_type": ""
    },
    "tags": []
   },
   "outputs": [],
   "source": [
    "import numpy as np\n",
    "import torch\n",
    "import torch.nn as nn\n",
    "from torch.nn.utils import parameters_to_vector\n",
    "from torchinfo import summary\n",
    "from brevitas.nn import QuantConv2d\n",
    "\n",
    "import matplotlib.pyplot as plt\n",
    "\n",
    "import modules.models_bed_evolution.bed_05_brevitas_fpga_old_small_big as cnv_model"
   ]
  },
  {
   "cell_type": "markdown",
   "id": "32673ea5-65c2-418d-b4bb-dc52d5fc0cb5",
   "metadata": {},
   "source": [
    "# Load Model"
   ]
  },
  {
   "cell_type": "code",
   "execution_count": 2,
   "id": "22f90589-cae1-40db-b8d5-908ffba39664",
   "metadata": {},
   "outputs": [],
   "source": [
    "device = 'cpu'"
   ]
  },
  {
   "cell_type": "code",
   "execution_count": 3,
   "id": "65f05240-0c38-4f73-b06d-bf9ceefcb369",
   "metadata": {},
   "outputs": [],
   "source": [
    "model = cnv_model.BED_AIMET_FPGA_MANUAL_OLD_SMALL_BIG().to(device)"
   ]
  },
  {
   "cell_type": "markdown",
   "id": "1d0bac02-ea2e-40b6-9f71-456b3f3cf943",
   "metadata": {},
   "source": [
    "### Parameters"
   ]
  },
  {
   "cell_type": "code",
   "execution_count": 4,
   "id": "ce30cdae-4cb8-4399-9766-49932d6a4bed",
   "metadata": {
    "editable": true,
    "slideshow": {
     "slide_type": ""
    },
    "tags": []
   },
   "outputs": [
    {
     "name": "stdout",
     "output_type": "stream",
     "text": [
      "\n",
      "Trainable parameters = 64353\n",
      "Total parameters = 64353\n",
      "\n"
     ]
    }
   ],
   "source": [
    "n_trainable = sum(p.numel() for p in model.parameters() if p.requires_grad)\n",
    "print(f'\\nTrainable parameters = {n_trainable}')\n",
    "\n",
    "n_params = parameters_to_vector(model.parameters()).numel()\n",
    "print(f'Total parameters = {n_params}\\n')"
   ]
  },
  {
   "cell_type": "markdown",
   "id": "cfb33a7e-b560-4446-bd60-8621483adfdc",
   "metadata": {},
   "source": [
    "### Check Model Shape: Random Input"
   ]
  },
  {
   "cell_type": "code",
   "execution_count": 5,
   "id": "d80f00c5-183d-431b-bf8a-26551c390cae",
   "metadata": {},
   "outputs": [
    {
     "name": "stderr",
     "output_type": "stream",
     "text": [
      "/opt/conda/envs/pytorch_brevitas/lib/python3.10/site-packages/torch/_tensor.py:1362: UserWarning: Named tensors and all their associated APIs are an experimental feature and subject to change. Please do not use them for anything important until they are released as stable. (Triggered internally at /opt/conda/conda-bld/pytorch_1702400410390/work/c10/core/TensorImpl.h:1900.)\n",
      "  return super().rename(names)\n"
     ]
    },
    {
     "name": "stdout",
     "output_type": "stream",
     "text": [
      "Model shape is tensor([[-1.3145, -1.5105],\n",
      "        [-0.1888,  0.6476],\n",
      "        [ 1.8313, -0.0123],\n",
      "        [ 0.3623,  0.1848]], grad_fn=<AddBackward0>)\n"
     ]
    }
   ],
   "source": [
    "dummy_input = np.random.rand(4, 3, 230, 230)\n",
    "dummy_input = torch.tensor(dummy_input, dtype=torch.float32, device=device)\n",
    "out_test = model(dummy_input)\n",
    "print(f'Model shape is {out_test}')"
   ]
  },
  {
   "cell_type": "markdown",
   "id": "6a769672-efb0-4727-8322-8c68795d0efb",
   "metadata": {},
   "source": [
    "### Torchinfo"
   ]
  },
  {
   "cell_type": "code",
   "execution_count": 7,
   "id": "607141f0-be35-4feb-8635-c63724d1503e",
   "metadata": {},
   "outputs": [
    {
     "name": "stdout",
     "output_type": "stream",
     "text": [
      "=============================================================================================================================\n",
      "Layer (type:depth-idx)                                                      Output Shape              Param #\n",
      "=============================================================================================================================\n",
      "BED_AIMET_FPGA_MANUAL_OLD_SMALL_BIG                                         [1, 2]                    --\n",
      "├─Sequential: 1-1                                                           [1, 64, 20, 20]           62,173\n",
      "│    └─QuantIdentity: 2-1                                                   [1, 3, 230, 230]          --\n",
      "│    │    └─ActQuantProxyFromInjector: 3-1                                  [1, 3, 230, 230]          --\n",
      "│    │    └─ActQuantProxyFromInjector: 3-2                                  [1, 3, 230, 230]          1\n",
      "├─Sequential: 1-36                                                          --                        (recursive)\n",
      "│    └─QuantReLU: 2-51                                                      --                        (recursive)\n",
      "│    │    └─ActQuantProxyFromInjector: 3-88                                 --                        (recursive)\n",
      "├─Sequential: 1-37                                                          --                        (recursive)\n",
      "│    └─QuantIdentity: 2-3                                                   --                        (recursive)\n",
      "│    │    └─ActQuantProxyFromInjector: 3-4                                  --                        (recursive)\n",
      "│    └─Sequential: 2-4                                                      [1, 12, 228, 228]         --\n",
      "│    │    └─QuantConv2d: 3-5                                                [1, 12, 228, 228]         324\n",
      "│    │    └─BatchNorm2d: 3-6                                                [1, 12, 228, 228]         24\n",
      "│    │    └─QuantReLU: 3-7                                                  [1, 12, 228, 228]         1\n",
      "├─Sequential: 1-36                                                          --                        (recursive)\n",
      "│    └─QuantReLU: 2-51                                                      --                        (recursive)\n",
      "│    │    └─ActQuantProxyFromInjector: 3-88                                 --                        (recursive)\n",
      "├─Sequential: 1-37                                                          --                        (recursive)\n",
      "│    └─Sequential: 2-6                                                      --                        (recursive)\n",
      "│    │    └─QuantReLU: 3-9                                                  --                        (recursive)\n",
      "│    └─MaxPool2d: 2-7                                                       [1, 12, 114, 114]         --\n",
      "│    └─Sequential: 2-8                                                      [1, 16, 112, 112]         1,185\n",
      "│    │    └─QuantConv2d: 3-10                                               [1, 24, 112, 114]         864\n",
      "│    │    └─BatchNorm2d: 3-11                                               [1, 24, 112, 114]         48\n",
      "│    │    └─QuantIdentity: 3-12                                             [1, 24, 112, 114]         1\n",
      "├─Sequential: 1-36                                                          --                        (recursive)\n",
      "│    └─QuantReLU: 2-51                                                      --                        (recursive)\n",
      "│    │    └─ActQuantProxyFromInjector: 3-88                                 --                        (recursive)\n",
      "├─Sequential: 1-37                                                          --                        (recursive)\n",
      "│    └─Sequential: 2-12                                                     --                        (recursive)\n",
      "│    │    └─QuantIdentity: 3-14                                             --                        (recursive)\n",
      "│    │    └─QuantConv2d: 3-15                                               [1, 16, 112, 112]         1,152\n",
      "│    │    └─BatchNorm2d: 3-16                                               [1, 16, 112, 112]         32\n",
      "│    │    └─QuantReLU: 3-17                                                 [1, 16, 112, 112]         1\n",
      "├─Sequential: 1-36                                                          --                        (recursive)\n",
      "│    └─QuantReLU: 2-51                                                      --                        (recursive)\n",
      "│    │    └─ActQuantProxyFromInjector: 3-88                                 --                        (recursive)\n",
      "├─Sequential: 1-37                                                          --                        (recursive)\n",
      "│    └─Sequential: 2-12                                                     --                        (recursive)\n",
      "│    │    └─QuantReLU: 3-19                                                 --                        (recursive)\n",
      "│    └─MaxPool2d: 2-13                                                      [1, 16, 56, 56]           --\n",
      "│    └─Sequential: 2-14                                                     [1, 16, 56, 56]           --\n",
      "│    │    └─QuantConv2d: 3-20                                               [1, 16, 56, 56]           256\n",
      "│    │    └─BatchNorm2d: 3-21                                               [1, 16, 56, 56]           32\n",
      "│    │    └─QuantReLU: 3-22                                                 [1, 16, 56, 56]           1\n",
      "├─Sequential: 1-36                                                          --                        (recursive)\n",
      "│    └─QuantReLU: 2-51                                                      --                        (recursive)\n",
      "│    │    └─ActQuantProxyFromInjector: 3-88                                 --                        (recursive)\n",
      "├─Sequential: 1-37                                                          --                        (recursive)\n",
      "│    └─Sequential: 2-16                                                     --                        (recursive)\n",
      "│    │    └─QuantReLU: 3-24                                                 --                        (recursive)\n",
      "│    └─Sequential: 2-17                                                     [1, 32, 54, 54]           1,601\n",
      "│    │    └─QuantConv2d: 3-25                                               [1, 16, 54, 56]           768\n",
      "│    │    └─BatchNorm2d: 3-26                                               [1, 16, 54, 56]           32\n",
      "│    │    └─QuantIdentity: 3-27                                             [1, 16, 54, 56]           1\n",
      "├─Sequential: 1-36                                                          --                        (recursive)\n",
      "│    └─QuantReLU: 2-51                                                      --                        (recursive)\n",
      "│    │    └─ActQuantProxyFromInjector: 3-88                                 --                        (recursive)\n",
      "├─Sequential: 1-37                                                          --                        (recursive)\n",
      "│    └─Sequential: 2-21                                                     --                        (recursive)\n",
      "│    │    └─QuantIdentity: 3-29                                             --                        (recursive)\n",
      "│    │    └─QuantConv2d: 3-30                                               [1, 32, 54, 54]           1,536\n",
      "│    │    └─BatchNorm2d: 3-31                                               [1, 32, 54, 54]           64\n",
      "│    │    └─QuantReLU: 3-32                                                 [1, 32, 54, 54]           1\n",
      "├─Sequential: 1-36                                                          --                        (recursive)\n",
      "│    └─QuantReLU: 2-51                                                      --                        (recursive)\n",
      "│    │    └─ActQuantProxyFromInjector: 3-88                                 --                        (recursive)\n",
      "├─Sequential: 1-37                                                          --                        (recursive)\n",
      "│    └─Sequential: 2-21                                                     --                        (recursive)\n",
      "│    │    └─QuantReLU: 3-34                                                 --                        (recursive)\n",
      "│    └─Sequential: 2-22                                                     [1, 32, 54, 54]           --\n",
      "│    │    └─QuantConv2d: 3-35                                               [1, 32, 54, 54]           1,024\n",
      "│    │    └─BatchNorm2d: 3-36                                               [1, 32, 54, 54]           64\n",
      "│    │    └─QuantReLU: 3-37                                                 [1, 32, 54, 54]           1\n",
      "├─Sequential: 1-36                                                          --                        (recursive)\n",
      "│    └─QuantReLU: 2-51                                                      --                        (recursive)\n",
      "│    │    └─ActQuantProxyFromInjector: 3-88                                 --                        (recursive)\n",
      "├─Sequential: 1-37                                                          --                        (recursive)\n",
      "│    └─Sequential: 2-24                                                     --                        (recursive)\n",
      "│    │    └─QuantReLU: 3-39                                                 --                        (recursive)\n",
      "│    └─Sequential: 2-25                                                     [1, 64, 52, 52]           8,577\n",
      "│    │    └─QuantConv2d: 3-40                                               [1, 44, 52, 54]           4,224\n",
      "│    │    └─BatchNorm2d: 3-41                                               [1, 44, 52, 54]           88\n",
      "│    │    └─QuantIdentity: 3-42                                             [1, 44, 52, 54]           1\n",
      "├─Sequential: 1-36                                                          --                        (recursive)\n",
      "│    └─QuantReLU: 2-51                                                      --                        (recursive)\n",
      "│    │    └─ActQuantProxyFromInjector: 3-88                                 --                        (recursive)\n",
      "├─Sequential: 1-37                                                          --                        (recursive)\n",
      "│    └─Sequential: 2-29                                                     --                        (recursive)\n",
      "│    │    └─QuantIdentity: 3-44                                             --                        (recursive)\n",
      "│    │    └─QuantConv2d: 3-45                                               [1, 64, 52, 52]           8,448\n",
      "│    │    └─BatchNorm2d: 3-46                                               [1, 64, 52, 52]           128\n",
      "│    │    └─QuantReLU: 3-47                                                 [1, 64, 52, 52]           1\n",
      "├─Sequential: 1-36                                                          --                        (recursive)\n",
      "│    └─QuantReLU: 2-51                                                      --                        (recursive)\n",
      "│    │    └─ActQuantProxyFromInjector: 3-88                                 --                        (recursive)\n",
      "├─Sequential: 1-37                                                          --                        (recursive)\n",
      "│    └─Sequential: 2-29                                                     --                        (recursive)\n",
      "│    │    └─QuantReLU: 3-49                                                 --                        (recursive)\n",
      "│    └─MaxPool2d: 2-30                                                      [1, 64, 26, 26]           --\n",
      "│    └─Sequential: 2-31                                                     [1, 32, 26, 26]           --\n",
      "│    │    └─QuantConv2d: 3-50                                               [1, 32, 26, 26]           2,048\n",
      "│    │    └─BatchNorm2d: 3-51                                               [1, 32, 26, 26]           64\n",
      "│    │    └─QuantReLU: 3-52                                                 [1, 32, 26, 26]           1\n",
      "├─Sequential: 1-36                                                          --                        (recursive)\n",
      "│    └─QuantReLU: 2-51                                                      --                        (recursive)\n",
      "│    │    └─ActQuantProxyFromInjector: 3-88                                 --                        (recursive)\n",
      "├─Sequential: 1-37                                                          --                        (recursive)\n",
      "│    └─Sequential: 2-33                                                     --                        (recursive)\n",
      "│    │    └─QuantReLU: 3-54                                                 --                        (recursive)\n",
      "│    └─Sequential: 2-34                                                     [1, 64, 24, 24]           --\n",
      "│    │    └─QuantConv2d: 3-55                                               [1, 64, 24, 24]           18,432\n",
      "│    │    └─BatchNorm2d: 3-56                                               [1, 64, 24, 24]           128\n",
      "│    │    └─QuantReLU: 3-57                                                 [1, 64, 24, 24]           1\n",
      "├─Sequential: 1-36                                                          --                        (recursive)\n",
      "│    └─QuantReLU: 2-51                                                      --                        (recursive)\n",
      "│    │    └─ActQuantProxyFromInjector: 3-88                                 --                        (recursive)\n",
      "├─Sequential: 1-37                                                          --                        (recursive)\n",
      "│    └─Sequential: 2-36                                                     --                        (recursive)\n",
      "│    │    └─QuantReLU: 3-59                                                 --                        (recursive)\n",
      "│    └─Sequential: 2-37                                                     [1, 32, 24, 24]           --\n",
      "│    │    └─QuantConv2d: 3-60                                               [1, 32, 24, 24]           2,048\n",
      "│    │    └─BatchNorm2d: 3-61                                               [1, 32, 24, 24]           64\n",
      "│    │    └─QuantReLU: 3-62                                                 [1, 32, 24, 24]           1\n",
      "├─Sequential: 1-36                                                          --                        (recursive)\n",
      "│    └─QuantReLU: 2-51                                                      --                        (recursive)\n",
      "│    │    └─ActQuantProxyFromInjector: 3-88                                 --                        (recursive)\n",
      "├─Sequential: 1-37                                                          --                        (recursive)\n",
      "│    └─Sequential: 2-39                                                     --                        (recursive)\n",
      "│    │    └─QuantReLU: 3-64                                                 --                        (recursive)\n",
      "│    └─Sequential: 2-40                                                     [1, 60, 22, 22]           8,041\n",
      "│    │    └─QuantConv2d: 3-65                                               [1, 44, 22, 24]           4,224\n",
      "│    │    └─BatchNorm2d: 3-66                                               [1, 44, 22, 24]           88\n",
      "│    │    └─QuantIdentity: 3-67                                             [1, 44, 22, 24]           1\n",
      "├─Sequential: 1-36                                                          --                        (recursive)\n",
      "│    └─QuantReLU: 2-51                                                      --                        (recursive)\n",
      "│    │    └─ActQuantProxyFromInjector: 3-88                                 --                        (recursive)\n",
      "├─Sequential: 1-37                                                          --                        (recursive)\n",
      "│    └─Sequential: 2-44                                                     --                        (recursive)\n",
      "│    │    └─QuantIdentity: 3-69                                             --                        (recursive)\n",
      "│    │    └─QuantConv2d: 3-70                                               [1, 60, 22, 22]           7,920\n",
      "│    │    └─BatchNorm2d: 3-71                                               [1, 60, 22, 22]           120\n",
      "│    │    └─QuantReLU: 3-72                                                 [1, 60, 22, 22]           1\n",
      "├─Sequential: 1-36                                                          --                        (recursive)\n",
      "│    └─QuantReLU: 2-51                                                      --                        (recursive)\n",
      "│    │    └─ActQuantProxyFromInjector: 3-88                                 --                        (recursive)\n",
      "├─Sequential: 1-37                                                          --                        (recursive)\n",
      "│    └─Sequential: 2-44                                                     --                        (recursive)\n",
      "│    │    └─QuantReLU: 3-74                                                 --                        (recursive)\n",
      "│    └─Sequential: 2-45                                                     [1, 32, 22, 22]           --\n",
      "│    │    └─QuantConv2d: 3-75                                               [1, 32, 22, 22]           1,920\n",
      "│    │    └─BatchNorm2d: 3-76                                               [1, 32, 22, 22]           64\n",
      "│    │    └─QuantReLU: 3-77                                                 [1, 32, 22, 22]           1\n",
      "├─Sequential: 1-36                                                          --                        (recursive)\n",
      "│    └─QuantReLU: 2-51                                                      --                        (recursive)\n",
      "│    │    └─ActQuantProxyFromInjector: 3-88                                 --                        (recursive)\n",
      "├─Sequential: 1-37                                                          --                        (recursive)\n",
      "│    └─Sequential: 2-47                                                     --                        (recursive)\n",
      "│    │    └─QuantReLU: 3-79                                                 --                        (recursive)\n",
      "│    └─Sequential: 2-48                                                     [1, 64, 20, 20]           3,969\n",
      "│    │    └─QuantConv2d: 3-80                                               [1, 20, 20, 22]           1,920\n",
      "│    │    └─BatchNorm2d: 3-81                                               [1, 20, 20, 22]           40\n",
      "│    │    └─QuantIdentity: 3-82                                             [1, 20, 20, 22]           1\n",
      "├─Sequential: 1-36                                                          --                        (recursive)\n",
      "│    └─QuantReLU: 2-51                                                      --                        (recursive)\n",
      "│    │    └─ActQuantProxyFromInjector: 3-88                                 --                        (recursive)\n",
      "├─Sequential: 1-37                                                          --                        (recursive)\n",
      "│    └─Sequential: 2-52                                                     --                        (recursive)\n",
      "│    │    └─QuantIdentity: 3-84                                             --                        (recursive)\n",
      "│    │    └─QuantConv2d: 3-85                                               [1, 64, 20, 20]           3,840\n",
      "│    │    └─BatchNorm2d: 3-86                                               [1, 64, 20, 20]           128\n",
      "│    │    └─QuantReLU: 3-87                                                 [1, 64, 20, 20]           1\n",
      "├─Sequential: 1-36                                                          --                        (recursive)\n",
      "│    └─QuantReLU: 2-51                                                      --                        (recursive)\n",
      "│    │    └─ActQuantProxyFromInjector: 3-88                                 --                        (recursive)\n",
      "├─Sequential: 1-37                                                          --                        (recursive)\n",
      "│    └─Sequential: 2-52                                                     --                        (recursive)\n",
      "│    │    └─QuantReLU: 3-89                                                 --                        (recursive)\n",
      "├─TruncAvgPool2d: 1-38                                                      [1, 64, 1, 1]             --\n",
      "│    └─TruncQuantProxyFromInjector: 2-53                                    [1, 64, 1, 1]             --\n",
      "│    │    └─TruncIntQuant: 3-90                                             [1, 64, 1, 1]             --\n",
      "├─Sequential: 1-39                                                          [1, 2]                    --\n",
      "│    └─QuantLinear: 2-54                                                    [1, 32]                   --\n",
      "│    │    └─ActQuantProxyFromInjector: 3-91                                 [1, 64]                   --\n",
      "│    │    └─WeightQuantProxyFromInjector: 3-92                              [32, 64]                  2,048\n",
      "│    │    └─ActQuantProxyFromInjector: 3-93                                 [1, 32]                   --\n",
      "│    └─BatchNorm1d: 2-55                                                    [1, 32]                   64\n",
      "│    └─QuantReLU: 2-56                                                      [1, 32]                   --\n",
      "│    │    └─ActQuantProxyFromInjector: 3-94                                 [1, 32]                   --\n",
      "│    │    └─ActQuantProxyFromInjector: 3-95                                 [1, 32]                   1\n",
      "│    └─QuantLinear: 2-57                                                    [1, 2]                    --\n",
      "│    │    └─ActQuantProxyFromInjector: 3-96                                 [1, 32]                   --\n",
      "│    │    └─WeightQuantProxyFromInjector: 3-97                              [2, 32]                   64\n",
      "│    │    └─ActQuantProxyFromInjector: 3-98                                 [1, 2]                    --\n",
      "│    └─TensorNorm: 2-58                                                     [1, 2]                    2\n",
      "=============================================================================================================================\n",
      "Total params: 149,899\n",
      "Trainable params: 149,899\n",
      "Non-trainable params: 0\n",
      "Total mult-adds (M): 0.00\n",
      "=============================================================================================================================\n",
      "Input size (MB): 0.63\n",
      "Forward/backward pass size (MB): 15.13\n",
      "Params size (MB): 0.01\n",
      "Estimated Total Size (MB): 15.77\n",
      "=============================================================================================================================\n"
     ]
    }
   ],
   "source": [
    "print(summary(model, input_size=(1, 3, 230, 230)))"
   ]
  },
  {
   "cell_type": "markdown",
   "id": "ab67ae6f-fc1c-42e2-9c6f-c74c781398b5",
   "metadata": {},
   "source": [
    "## Model Paths"
   ]
  },
  {
   "cell_type": "code",
   "execution_count": 8,
   "id": "6658b1c7-cba4-4828-9a01-9350186139be",
   "metadata": {},
   "outputs": [],
   "source": [
    "folder_path = './experiments_bed_evolution/71_brevitas__230_manual_old_SmallBig__full_ds/weights'\n",
    "model_path = folder_path + '/BED_FPGA_230_classifier__best_mean_F1.pt'"
   ]
  },
  {
   "cell_type": "markdown",
   "id": "547891ee-9c53-46c9-9d17-2dfc59a5c516",
   "metadata": {},
   "source": [
    "## Load Checkpoint"
   ]
  },
  {
   "cell_type": "code",
   "execution_count": 9,
   "id": "8ee29ba8-2341-4f78-afbf-ca14d98c93e0",
   "metadata": {},
   "outputs": [],
   "source": [
    "def load_checkpoint(model_path, model, optimizer=None, scheduler=None, device='cpu'):\n",
    "    checkpoint = torch.load(model_path, map_location=device)\n",
    "    model.load_state_dict(checkpoint['model_state_dict'])\n",
    "    if optimizer is not None:\n",
    "        optimizer.load_state_dict(checkpoint['optimizer_state_dict'])\n",
    "    if scheduler is not None:\n",
    "        scheduler.load_state_dict(checkpoint['scheduler_state_dict'])\n",
    "    start_epoch = checkpoint['epoch']\n",
    "    print(f\"Loading Model. Trained during {start_epoch} epochs\")\n",
    "    return start_epoch"
   ]
  },
  {
   "cell_type": "code",
   "execution_count": 10,
   "id": "6d6b1751-40cb-4778-9378-c430047775b7",
   "metadata": {
    "tags": []
   },
   "outputs": [
    {
     "name": "stdout",
     "output_type": "stream",
     "text": [
      "Loading Model. Trained during 131 epochs\n"
     ]
    },
    {
     "data": {
      "text/plain": [
       "131"
      ]
     },
     "execution_count": 10,
     "metadata": {},
     "output_type": "execute_result"
    }
   ],
   "source": [
    "load_checkpoint(model_path, model)"
   ]
  },
  {
   "cell_type": "code",
   "execution_count": 11,
   "id": "76ea21d6-7270-4d56-abe1-42d56baf3563",
   "metadata": {},
   "outputs": [],
   "source": [
    "model.cpu();\n",
    "model.eval();"
   ]
  },
  {
   "cell_type": "markdown",
   "id": "68d11482-5ab3-4616-b00c-bf09f1f6a66f",
   "metadata": {},
   "source": [
    "# Check Sparsity"
   ]
  },
  {
   "cell_type": "code",
   "execution_count": 12,
   "id": "6b339b8a-9daa-474a-89ea-1af044db2934",
   "metadata": {
    "tags": []
   },
   "outputs": [
    {
     "name": "stdout",
     "output_type": "stream",
     "text": [
      "torch.Size([1, 2, 3])\n",
      "tensor(1)\n"
     ]
    }
   ],
   "source": [
    "a = torch.tensor(np.array([[[0,1,2],[3,4,5]]]))\n",
    "print(a.shape)\n",
    "zzz = a == 0\n",
    "print(torch.sum(zzz))"
   ]
  },
  {
   "cell_type": "code",
   "execution_count": 13,
   "id": "1af664a0-7b17-4c13-b7ed-72def9e3e68a",
   "metadata": {
    "tags": []
   },
   "outputs": [
    {
     "name": "stdout",
     "output_type": "stream",
     "text": [
      "QuantConv2d features.1.0\n",
      "Layer name: features.1.0 - Layer type: conv - Number of weights: 324 - Sparsity: 0.49\n",
      "Layer name: features.1.1 - Layer type: batchnorm - Number of weights: 12 - Sparsity: 0.00\n",
      "QuantConv2d features.3.0\n",
      "Layer name: features.3.0 - Layer type: conv - Number of weights: 864 - Sparsity: 0.50\n",
      "Layer name: features.3.1 - Layer type: batchnorm - Number of weights: 24 - Sparsity: 0.00\n",
      "QuantConv2d features.3.3\n",
      "Layer name: features.3.3 - Layer type: conv - Number of weights: 1152 - Sparsity: 0.51\n",
      "Layer name: features.3.4 - Layer type: batchnorm - Number of weights: 16 - Sparsity: 0.00\n",
      "QuantConv2d features.5.0\n",
      "Layer name: features.5.0 - Layer type: conv - Number of weights: 256 - Sparsity: 0.55\n",
      "Layer name: features.5.1 - Layer type: batchnorm - Number of weights: 16 - Sparsity: 0.00\n",
      "QuantConv2d features.6.0\n",
      "Layer name: features.6.0 - Layer type: conv - Number of weights: 768 - Sparsity: 0.47\n",
      "Layer name: features.6.1 - Layer type: batchnorm - Number of weights: 16 - Sparsity: 0.00\n",
      "QuantConv2d features.6.3\n",
      "Layer name: features.6.3 - Layer type: conv - Number of weights: 1536 - Sparsity: 0.49\n",
      "Layer name: features.6.4 - Layer type: batchnorm - Number of weights: 32 - Sparsity: 0.00\n",
      "QuantConv2d features.7.0\n",
      "Layer name: features.7.0 - Layer type: conv - Number of weights: 1024 - Sparsity: 0.50\n",
      "Layer name: features.7.1 - Layer type: batchnorm - Number of weights: 32 - Sparsity: 0.00\n",
      "QuantConv2d features.8.0\n",
      "Layer name: features.8.0 - Layer type: conv - Number of weights: 4224 - Sparsity: 0.52\n",
      "Layer name: features.8.1 - Layer type: batchnorm - Number of weights: 44 - Sparsity: 0.00\n",
      "QuantConv2d features.8.3\n",
      "Layer name: features.8.3 - Layer type: conv - Number of weights: 8448 - Sparsity: 0.51\n",
      "Layer name: features.8.4 - Layer type: batchnorm - Number of weights: 64 - Sparsity: 0.02\n",
      "QuantConv2d features.10.0\n",
      "Layer name: features.10.0 - Layer type: conv - Number of weights: 2048 - Sparsity: 0.50\n",
      "Layer name: features.10.1 - Layer type: batchnorm - Number of weights: 32 - Sparsity: 0.00\n",
      "QuantConv2d features.11.0\n",
      "Layer name: features.11.0 - Layer type: conv - Number of weights: 18432 - Sparsity: 0.52\n",
      "Layer name: features.11.1 - Layer type: batchnorm - Number of weights: 64 - Sparsity: 0.00\n",
      "QuantConv2d features.12.0\n",
      "Layer name: features.12.0 - Layer type: conv - Number of weights: 2048 - Sparsity: 0.53\n",
      "Layer name: features.12.1 - Layer type: batchnorm - Number of weights: 32 - Sparsity: 0.00\n",
      "QuantConv2d features.13.0\n",
      "Layer name: features.13.0 - Layer type: conv - Number of weights: 4224 - Sparsity: 0.53\n",
      "Layer name: features.13.1 - Layer type: batchnorm - Number of weights: 44 - Sparsity: 0.05\n",
      "QuantConv2d features.13.3\n",
      "Layer name: features.13.3 - Layer type: conv - Number of weights: 7920 - Sparsity: 0.53\n",
      "Layer name: features.13.4 - Layer type: batchnorm - Number of weights: 60 - Sparsity: 0.03\n",
      "QuantConv2d features.14.0\n",
      "Layer name: features.14.0 - Layer type: conv - Number of weights: 1920 - Sparsity: 0.54\n",
      "Layer name: features.14.1 - Layer type: batchnorm - Number of weights: 32 - Sparsity: 0.00\n",
      "QuantConv2d features.15.0\n",
      "Layer name: features.15.0 - Layer type: conv - Number of weights: 1920 - Sparsity: 0.52\n",
      "Layer name: features.15.1 - Layer type: batchnorm - Number of weights: 20 - Sparsity: 0.00\n",
      "QuantConv2d features.15.3\n",
      "Layer name: features.15.3 - Layer type: conv - Number of weights: 3840 - Sparsity: 0.49\n",
      "Layer name: features.15.4 - Layer type: batchnorm - Number of weights: 64 - Sparsity: 0.02\n"
     ]
    }
   ],
   "source": [
    "zero_channels = {}\n",
    "sparsity = {}\n",
    "\n",
    "for name, mod in model.named_modules():\n",
    "    if isinstance(mod, QuantConv2d):\n",
    "        print(\"QuantConv2d\", name)\n",
    "    if isinstance(mod, nn.Conv2d) or isinstance(mod, nn.BatchNorm2d):\n",
    "        w_layer = mod.weight.detach().clone()\n",
    "        w_layer[w_layer < 1e-20] = 0\n",
    "        oup_channels = mod.weight.shape[0]\n",
    "        \n",
    "        if isinstance(mod, nn.Conv2d):\n",
    "            layer_type = \"conv\"\n",
    "        elif isinstance(mod, nn.BatchNorm2d):\n",
    "            layer_type = \"batchnorm\"\n",
    "        # Number of zeros to calculate sparsity\n",
    "        zero_idx = w_layer < 1e-20\n",
    "        zero_weights_other = torch.sum(zero_idx)\n",
    "        total_weights = torch.numel(mod.weight)\n",
    "        zero_weights = total_weights - torch.count_nonzero(w_layer)\n",
    "        assert zero_weights == zero_weights_other, \"Zeros are different\"\n",
    "        layer_sparsity = zero_weights / total_weights\n",
    "        sparsity[name] = {\"layer type\": layer_type, \"sparsity\": layer_sparsity}\n",
    "        zero_channel_list = []\n",
    "        print(f'Layer name: {name} - Layer type: {layer_type} - Number of weights: {torch.numel(mod.weight)} - Sparsity: {layer_sparsity:.2f}')\n",
    "        #print(f'\\tWeights shape: {w_layer.shape}')\n",
    "        \n",
    "        for i in range(oup_channels):\n",
    "            w = mod.weight[i].detach().clone()\n",
    "            w[w < 1e-10] = 0\n",
    "            if len(w.nonzero()) == 0:\n",
    "                zero_channel_list.append(i)\n",
    "        zero_channels[name] = {\"layer type\": layer_type, \"output channels\": oup_channels, \"zero channels\": zero_channel_list}"
   ]
  },
  {
   "cell_type": "markdown",
   "id": "b5890e2f-f156-4b10-9fee-f224ac29a004",
   "metadata": {},
   "source": [
    "## Sparse Zero Channels"
   ]
  },
  {
   "cell_type": "code",
   "execution_count": 14,
   "id": "a3f859b2-251b-49a7-b0a7-a667299203de",
   "metadata": {
    "tags": []
   },
   "outputs": [
    {
     "name": "stdout",
     "output_type": "stream",
     "text": [
      "Layer name: features.1.0         Layer type: conv       - Output channels: 12   - Zero channels: 0\n",
      "Layer name: features.1.1         Layer type: batchnorm  - Output channels: 12   - Zero channels: 0\n",
      "Layer name: features.3.0         Layer type: conv       - Output channels: 24   - Zero channels: 0\n",
      "Layer name: features.3.1         Layer type: batchnorm  - Output channels: 24   - Zero channels: 0\n",
      "Layer name: features.3.3         Layer type: conv       - Output channels: 16   - Zero channels: 0\n",
      "Layer name: features.3.4         Layer type: batchnorm  - Output channels: 16   - Zero channels: 0\n",
      "Layer name: features.5.0         Layer type: conv       - Output channels: 16   - Zero channels: 0\n",
      "Layer name: features.5.1         Layer type: batchnorm  - Output channels: 16   - Zero channels: 0\n",
      "Layer name: features.6.0         Layer type: conv       - Output channels: 16   - Zero channels: 0\n",
      "Layer name: features.6.1         Layer type: batchnorm  - Output channels: 16   - Zero channels: 0\n",
      "Layer name: features.6.3         Layer type: conv       - Output channels: 32   - Zero channels: 0\n",
      "Layer name: features.6.4         Layer type: batchnorm  - Output channels: 32   - Zero channels: 0\n",
      "Layer name: features.7.0         Layer type: conv       - Output channels: 32   - Zero channels: 0\n",
      "Layer name: features.7.1         Layer type: batchnorm  - Output channels: 32   - Zero channels: 0\n",
      "Layer name: features.8.0         Layer type: conv       - Output channels: 44   - Zero channels: 0\n",
      "Layer name: features.8.1         Layer type: batchnorm  - Output channels: 44   - Zero channels: 0\n",
      "Layer name: features.8.3         Layer type: conv       - Output channels: 64   - Zero channels: 1\n",
      "Layer name: features.8.4         Layer type: batchnorm  - Output channels: 64   - Zero channels: 1\n",
      "Layer name: features.10.0        Layer type: conv       - Output channels: 32   - Zero channels: 0\n",
      "Layer name: features.10.1        Layer type: batchnorm  - Output channels: 32   - Zero channels: 0\n",
      "Layer name: features.11.0        Layer type: conv       - Output channels: 64   - Zero channels: 0\n",
      "Layer name: features.11.1        Layer type: batchnorm  - Output channels: 64   - Zero channels: 0\n",
      "Layer name: features.12.0        Layer type: conv       - Output channels: 32   - Zero channels: 0\n",
      "Layer name: features.12.1        Layer type: batchnorm  - Output channels: 32   - Zero channels: 0\n",
      "Layer name: features.13.0        Layer type: conv       - Output channels: 44   - Zero channels: 2\n",
      "Layer name: features.13.1        Layer type: batchnorm  - Output channels: 44   - Zero channels: 2\n",
      "Layer name: features.13.3        Layer type: conv       - Output channels: 60   - Zero channels: 2\n",
      "Layer name: features.13.4        Layer type: batchnorm  - Output channels: 60   - Zero channels: 2\n",
      "Layer name: features.14.0        Layer type: conv       - Output channels: 32   - Zero channels: 0\n",
      "Layer name: features.14.1        Layer type: batchnorm  - Output channels: 32   - Zero channels: 0\n",
      "Layer name: features.15.0        Layer type: conv       - Output channels: 20   - Zero channels: 0\n",
      "Layer name: features.15.1        Layer type: batchnorm  - Output channels: 20   - Zero channels: 0\n",
      "Layer name: features.15.3        Layer type: conv       - Output channels: 64   - Zero channels: 1\n",
      "Layer name: features.15.4        Layer type: batchnorm  - Output channels: 64   - Zero channels: 1\n"
     ]
    }
   ],
   "source": [
    "for k, v in zero_channels.items():\n",
    "    #print(k, v, len(v))\n",
    "    print(f'Layer name: {k:<20} Layer type: {v[\"layer type\"]:<10} - Output channels: {v[\"output channels\"]:<4} - Zero channels: {len(v[\"zero channels\"])}')"
   ]
  },
  {
   "cell_type": "code",
   "execution_count": 15,
   "id": "d00fcbdb-9175-4601-b79d-fda2f7f034ac",
   "metadata": {
    "tags": []
   },
   "outputs": [
    {
     "data": {
      "image/png": "[encoded data removed]",
      "text/plain": [
       "<Figure size 1000x300 with 1 Axes>"
      ]
     },
     "metadata": {},
     "output_type": "display_data"
    }
   ],
   "source": [
    "zero_channel_layer = {\n",
    "    \"output channels\": list(v[\"output channels\"] for v in zero_channels.values() if v[\"layer type\"] == \"conv\"),\n",
    "    \"zero channels\": list(len(v[\"zero channels\"]) for v in zero_channels.values() if v[\"layer type\"] == \"conv\"),\n",
    "}\n",
    "\n",
    "zero_channels_layer_names = [k for k in zero_channels.keys() if zero_channels[k][\"layer type\"] == \"conv\"] \n",
    "\n",
    "x = np.arange(len(zero_channels_layer_names))  # the label locations\n",
    "width = 0.4  # the width of the bars\n",
    "multiplier = 0\n",
    "\n",
    "fig, ax = plt.subplots(layout='constrained', figsize=(10, 3))\n",
    "\n",
    "for attribute, measurement in zero_channel_layer.items():\n",
    "    offset = width * multiplier\n",
    "    rects = ax.bar(x + offset, measurement, width, label=attribute)\n",
    "    ax.bar_label(rects, padding=3, fontsize = 6)\n",
    "    multiplier += 1\n",
    "\n",
    "\n",
    "# Add some text for labels, title and custom x-axis tick labels, etc.\n",
    "ax.set_xlabel('Layers')\n",
    "ax.set_ylabel('Channels')\n",
    "ax.set_title('Zero Channels Per Layer')\n",
    "ax.set_xticks(x + width/2, zero_channels_layer_names, rotation=90, fontsize = 8)\n",
    "ax.legend(loc='upper left', ncols=3)\n",
    "ax.set_ylim(0, 148)\n",
    "\n",
    "plt.show()"
   ]
  },
  {
   "cell_type": "markdown",
   "id": "18f57c8f-a727-49eb-989a-713b4a332ec9",
   "metadata": {},
   "source": [
    "## Sparsity per layer"
   ]
  },
  {
   "cell_type": "markdown",
   "id": "cf31620b-c25d-4e6c-b089-e58cb21e97de",
   "metadata": {},
   "source": [
    "### All Layers"
   ]
  },
  {
   "cell_type": "code",
   "execution_count": 16,
   "id": "6352de13-1257-4915-a1b2-ec73168d591f",
   "metadata": {
    "tags": []
   },
   "outputs": [
    {
     "data": {
      "image/png": "[encoded data removed]",
      "text/plain": [
       "<Figure size 1000x300 with 1 Axes>"
      ]
     },
     "metadata": {},
     "output_type": "display_data"
    }
   ],
   "source": [
    "fig, ax = plt.subplots(figsize=(10,3))\n",
    "\n",
    "layers_name = [k + \"_\" + sparsity[k][\"layer type\"] for k in sparsity.keys()]\n",
    "counts = [v[\"sparsity\"] for v in sparsity.values()]\n",
    "\n",
    "ax.bar(layers_name, counts)\n",
    "\n",
    "ax.set_ylabel('Sparsity')\n",
    "ax.set_title('Sparsity per layer')\n",
    "ax.set_xticks(np.arange(len(layers_name)), layers_name, rotation=90, fontsize=8)\n",
    "\n",
    "plt.show()"
   ]
  },
  {
   "cell_type": "markdown",
   "id": "14aaa1ea-964b-464f-9918-be6f60e1035c",
   "metadata": {},
   "source": [
    "### Only Batch Norm"
   ]
  },
  {
   "cell_type": "code",
   "execution_count": 17,
   "id": "295270c5-cfcd-424d-a8b1-1ed44387dce7",
   "metadata": {
    "tags": []
   },
   "outputs": [
    {
     "data": {
      "image/png": "[encoded data removed]",
      "text/plain": [
       "<Figure size 800x300 with 1 Axes>"
      ]
     },
     "metadata": {},
     "output_type": "display_data"
    }
   ],
   "source": [
    "fig, ax = plt.subplots(figsize=(8,3))\n",
    "\n",
    "layers_name = [k + \"_\" + sparsity[k][\"layer type\"] for k in sparsity.keys() if sparsity[k][\"layer type\"] == \"batchnorm\"]\n",
    "counts = [v[\"sparsity\"] for v in sparsity.values() if v[\"layer type\"] == \"batchnorm\"]\n",
    "\n",
    "ax.bar(layers_name, counts)\n",
    "\n",
    "ax.set_ylabel('Sparsity')\n",
    "ax.set_title('Sparsity per layer: Batch Norm')\n",
    "ax.set_xticks(np.arange(len(layers_name)), layers_name, rotation=90, fontsize=8)\n",
    "\n",
    "plt.show()"
   ]
  },
  {
   "cell_type": "markdown",
   "id": "c72256e9-0975-472b-86c6-f7a168f70de3",
   "metadata": {},
   "source": [
    "### Only Convs"
   ]
  },
  {
   "cell_type": "code",
   "execution_count": 18,
   "id": "6809d83a-bff9-4230-bfc7-3c03d54bfc25",
   "metadata": {
    "tags": []
   },
   "outputs": [
    {
     "data": {
      "image/png": "[encoded data removed]",
      "text/plain": [
       "<Figure size 800x300 with 1 Axes>"
      ]
     },
     "metadata": {},
     "output_type": "display_data"
    }
   ],
   "source": [
    "fig, ax = plt.subplots(figsize=(8,3))\n",
    "\n",
    "layers_name = [k + \"_\" + sparsity[k][\"layer type\"] for k in sparsity.keys() if sparsity[k][\"layer type\"] == \"conv\"]\n",
    "counts = [v[\"sparsity\"] for v in sparsity.values() if v[\"layer type\"] == \"conv\"]\n",
    "\n",
    "ax.bar(layers_name, counts)\n",
    "\n",
    "ax.set_ylabel('Sparsity')\n",
    "ax.set_title('Sparsity per layer: CONVs')\n",
    "ax.set_xticks(np.arange(len(layers_name)), layers_name, rotation=90, fontsize=8)\n",
    "\n",
    "plt.show()"
   ]
  },
  {
   "cell_type": "code",
   "execution_count": null,
   "id": "aaff52ac-f374-40d6-b441-4fc9518079fa",
   "metadata": {},
   "outputs": [],
   "source": []
  }
 ],
 "metadata": {
  "kernelspec": {
   "display_name": "Python 3 (ipykernel)",
   "language": "python",
   "name": "python3"
  },
  "language_info": {
   "codemirror_mode": {
    "name": "ipython",
    "version": 3
   },
   "file_extension": ".py",
   "mimetype": "text/x-python",
   "name": "python",
   "nbconvert_exporter": "python",
   "pygments_lexer": "ipython3",
   "version": "3.10.9"
  }
 },
 "nbformat": 4,
 "nbformat_minor": 5
}
