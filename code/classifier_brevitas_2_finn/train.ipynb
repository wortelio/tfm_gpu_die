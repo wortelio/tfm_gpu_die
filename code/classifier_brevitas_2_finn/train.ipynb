{
 "cells": [
  {
   "cell_type": "code",
   "execution_count": 1,
   "id": "ced39284-e77a-4bb4-b4f4-1e32f8dc378b",
   "metadata": {},
   "outputs": [],
   "source": [
    "import logging\n",
    "import datetime\n",
    "\n",
    "import numpy as np\n",
    "import torch\n",
    "from torch.nn.utils import parameters_to_vector\n",
    "import torch.optim as optim\n",
    "from torchinfo import summary\n",
    "\n",
    "import matplotlib.pyplot as plt\n",
    "\n",
    "import config\n",
    "import modules.dataloaders as dataloaders\n",
    "#import modules.model_CNV as cnv_model\n",
    "import modules.model_CNV_imagenet as cnv_model\n",
    "import modules.loss as loss\n",
    "import modules.metrics as metrics\n",
    "import modules.train_epoch as train_epoch\n",
    "import modules.val_epoch as val_epoch\n",
    "import modules.utils as utils"
   ]
  },
  {
   "cell_type": "code",
   "execution_count": 2,
   "id": "8c9f1ed9-bdb0-4417-ac3d-cec7acef5117",
   "metadata": {},
   "outputs": [],
   "source": [
    "# from brevitas.export import export_onnx_qcdq\n",
    "# from brevitas.export import export_qonnx"
   ]
  },
  {
   "cell_type": "markdown",
   "id": "4e2413f4-083b-4ddd-bf51-0332c1166d47",
   "metadata": {},
   "source": [
    "# Logger"
   ]
  },
  {
   "cell_type": "code",
   "execution_count": 3,
   "id": "9006bcad-639b-4775-b5a6-2fd13420cbb2",
   "metadata": {},
   "outputs": [],
   "source": [
    "log_path = config.LOGS_FOLDER\n",
    "\n",
    "logger = logging.getLogger(\"GonLogger\")\n",
    "logger.propagate = False\n",
    "logger.setLevel(logging.INFO)\n",
    "file_handler = logging.FileHandler(log_path + 'logfile.log')\n",
    "formatter = logging.Formatter('%(message)s')\n",
    "file_handler.setFormatter(formatter)\n",
    "\n",
    "# add file handler to logger\n",
    "logger.addHandler(file_handler)\n",
    "\n",
    "logger.info('BED Classifier.\\n' +  \n",
    "            '\\tOne Head.\\n' +\n",
    "            '\\tWeighted for Precision.\\n' +\n",
    "            '\\tBrevitas Default.\\n'+ \n",
    "            '\\tDataset images divided by 255.\\n')"
   ]
  },
  {
   "cell_type": "markdown",
   "id": "3884364d-ec36-4e80-a0d5-c5d259f4b313",
   "metadata": {},
   "source": [
    "# Hyperparameters Log"
   ]
  },
  {
   "cell_type": "code",
   "execution_count": 4,
   "id": "25fe6b1d-7f69-48d4-80a2-219e19c33016",
   "metadata": {},
   "outputs": [
    {
     "name": "stdout",
     "output_type": "stream",
     "text": [
      "\n",
      "Datasets Length\n",
      "\tTrain and Val: Full\n",
      "\n",
      "Load Model: False\n",
      "Device: cuda\n",
      "Optimizer:\n",
      "\tLearning Rate: 0.001\n",
      "\tWeight Decay: 0.001\n",
      "Scheduler:\n",
      "\tScheduler factor: 0.8\n",
      "\tScheduler patience: 2\n",
      "\tScheduler threshold: 0.001\n",
      "\tScheduler min learning rate: 1e-06\n",
      "Batch Size: 64\n",
      "Num Workers: 8\n",
      "Pin Memory: True\n",
      "Epochs: 50\n",
      "\n",
      "IMG DIMS:\n",
      "\tWidth: 224\n",
      "\tHeight: 224\n",
      "\n",
      "Brevitas Config:\n",
      "\tFixed Point: True\n",
      "\tWeights Bit Width: 4\n",
      "\tBig Layers Weights Bit Width: 2\n",
      "\tBias Bit Width: 4\n",
      "\tActivations Bit Width: 4\n"
     ]
    }
   ],
   "source": [
    "''' ============================\n",
    "    Print Config Values\n",
    "============================ '''\n",
    "print('\\nDatasets Length')\n",
    "print(f'\\tTrain and Val: {\"Full\" if config.DS_LEN == None else config.DS_LEN}')\n",
    "print(f'\\nLoad Model: {config.LOAD_MODEL}')\n",
    "if (config.LOAD_MODEL == True):\n",
    "    print(f'\\tModel: {config.LOAD_MODEL_FILE}')\n",
    "print(f'Device: {config.DEVICE}')\n",
    "print('Optimizer:')\n",
    "print(f'\\tLearning Rate: {config.LEARNING_RATE}')\n",
    "print(f'\\tWeight Decay: {config.WEIGHT_DECAY}')\n",
    "print('Scheduler:')\n",
    "print(f'\\tScheduler factor: {config.FACTOR}')\n",
    "print(f'\\tScheduler patience: {config.PATIENCE}')\n",
    "print(f'\\tScheduler threshold: {config.THRES}')\n",
    "print(f'\\tScheduler min learning rate: {config.MIN_LR}')\n",
    "print(f'Batch Size: {config.BATCH_SIZE}')\n",
    "print(f'Num Workers: {config.NUM_WORKERS}')\n",
    "print(f'Pin Memory: {config.PIN_MEMORY}')\n",
    "print(f'Epochs: {config.EPOCHS}')\n",
    "print('\\nIMG DIMS:')\n",
    "print(f'\\tWidth: {config.IMG_W}\\n\\tHeight: {config.IMG_H}')\n",
    "print('\\nBrevitas Config:')\n",
    "print(f'\\tFixed Point: {config.FIXED_POINT}')\n",
    "print(f'\\tWeights Bit Width: {config.WEIGHTS_BIT_WIDTH}')\n",
    "print(f'\\tBig Layers Weights Bit Width: {config.BIG_LAYERS_WEIGHTS_BIT_WIDTH}')\n",
    "print(f'\\tBias Bit Width: {config.BIAS_BIT_WIDTH}')\n",
    "print(f'\\tActivations Bit Width: {config.ACTIVATIONS_BIT_WIDTH}')\n",
    "\n",
    "logger.info('\\nDatasets Length')\n",
    "logger.info(f'\\tTrain and Val: {\"Full\" if config.DS_LEN == None else config.DS_LEN}')\n",
    "logger.info(f'\\nLoad Model: {config.LOAD_MODEL}')\n",
    "if (config.LOAD_MODEL == True):\n",
    "    logger.info(f'\\tModel: {config.LOAD_MODEL_FILE}')\n",
    "logger.info(f'\\nDevice: {config.DEVICE}')\n",
    "logger.info('Optimizer:')\n",
    "logger.info(f'\\tLearning Rate: {config.LEARNING_RATE}')\n",
    "logger.info(f'\\tWeight Decay: {config.WEIGHT_DECAY}')\n",
    "logger.info('Scheduler:')\n",
    "logger.info(f'\\tScheduler factor: {config.FACTOR}')\n",
    "logger.info(f'\\tScheduler patience: {config.PATIENCE}')\n",
    "logger.info(f'\\tScheduler threshold: {config.THRES}')\n",
    "logger.info(f'\\tScheduler min learning rate: {config.MIN_LR}')\n",
    "logger.info(f'\\nBatch Size: {config.BATCH_SIZE}')\n",
    "logger.info(f'Num Workers: {config.NUM_WORKERS}')\n",
    "logger.info(f'Pin Memory: {config.PIN_MEMORY}')\n",
    "logger.info(f'Epochs: {config.EPOCHS}')\n",
    "logger.info('\\nIMG DIMS:')\n",
    "logger.info(f'\\tWidth: {config.IMG_W}\\n\\tHeight: {config.IMG_H}')\n",
    "logger.info('\\nBrevitas Config:')\n",
    "logger.info(f'\\tFixed Point: {config.FIXED_POINT}')\n",
    "logger.info(f'\\tWeights Bit Width: {config.WEIGHTS_BIT_WIDTH}')\n",
    "logger.info(f'\\tBig Layers Weights Bit Width: {config.BIG_LAYERS_WEIGHTS_BIT_WIDTH}')\n",
    "logger.info(f'\\tBias Bit Width: {config.BIAS_BIT_WIDTH}')\n",
    "logger.info(f'\\tActivations Bit Width: {config.ACTIVATIONS_BIT_WIDTH}')"
   ]
  },
  {
   "cell_type": "markdown",
   "id": "c48611bc-7a36-41f5-a80c-5cc442bd40fd",
   "metadata": {},
   "source": [
    "# Dataloaders"
   ]
  },
  {
   "cell_type": "code",
   "execution_count": 5,
   "id": "125fadde-618b-4a0d-8d1e-86f4b46a35a2",
   "metadata": {},
   "outputs": [
    {
     "name": "stdout",
     "output_type": "stream",
     "text": [
      "\n",
      "====================\n",
      "TRAIN DFIRE dataset\n"
     ]
    },
    {
     "name": "stderr",
     "output_type": "stream",
     "text": [
      "Corrupt JPEG data: 1 extraneous bytes before marker 0xd9\n"
     ]
    },
    {
     "name": "stdout",
     "output_type": "stream",
     "text": [
      "DFire Removed wrong images: 0\n",
      "DFire empty images: 7833\n",
      "DFire only smoke images: 4681\n",
      "DFire only fire images: 944\n",
      "DFire smoke and fire images: 3763\n",
      "\n",
      "Train DFire dataset len: 17221\n",
      "\n",
      "====================\n",
      "TRAIN FASDD UAV dataset\n",
      "FASDD Removed wrong images: 0\n",
      "FASDD empty images: 5994\n",
      "FASDD only smoke images: 2541\n",
      "FASDD only fire images: 105\n",
      "FASDD smoke and fire images: 3911\n",
      "\n",
      "Train FASDD UAV dataset len: 12551\n",
      "\n",
      "====================\n",
      "VAL FASDD UAV dataset\n",
      "FASDD Removed wrong images: 0\n",
      "FASDD empty images: 3995\n",
      "FASDD only smoke images: 1693\n",
      "FASDD only fire images: 70\n",
      "FASDD smoke and fire images: 2607\n",
      "\n",
      "Val FASDD UAV dataset len: 8365\n",
      "\n",
      "====================\n",
      "TRAIN FASDD CV dataset\n"
     ]
    },
    {
     "name": "stderr",
     "output_type": "stream",
     "text": [
      "Corrupt JPEG data: 1 extraneous bytes before marker 0xd9\n",
      "Warning: unknown JFIF revision number 32.23\n"
     ]
    },
    {
     "name": "stdout",
     "output_type": "stream",
     "text": [
      "FASDD Removed wrong images: 0\n",
      "FASDD empty images: 19600\n",
      "FASDD only smoke images: 11708\n",
      "FASDD only fire images: 6276\n",
      "FASDD smoke and fire images: 10076\n",
      "\n",
      "Train FASDD CV dataset len: 47660\n",
      "\n",
      "====================\n",
      "Val FASDD CV dataset\n"
     ]
    },
    {
     "name": "stderr",
     "output_type": "stream",
     "text": [
      "Corrupt JPEG data: 1 extraneous bytes before marker 0xd9\n",
      "Corrupt JPEG data: 1 extraneous bytes before marker 0xd9\n"
     ]
    },
    {
     "name": "stdout",
     "output_type": "stream",
     "text": [
      "FASDD Removed wrong images: 0\n",
      "FASDD empty images: 13066\n",
      "FASDD only smoke images: 7804\n",
      "FASDD only fire images: 4183\n",
      "FASDD smoke and fire images: 6717\n",
      "\n",
      "Val FASDD CV dataset len: 31770\n",
      "\n",
      "Concatenate Train DFire and Train FASDD UAV datasets\n",
      "Train dataset len: 29772\n",
      "Concatenate with Val FASDD UAV dataset\n",
      "Train dataset len: 38137\n",
      "Concatenate with Train FASDD CV dataset\n",
      "Train dataset len: 85797\n",
      "Concatenate with Val FASDD CV dataset\n",
      "Train dataset len: 117567\n",
      "\n",
      "====================\n",
      "TEST DFire dataset\n",
      "DFire Removed wrong images: 0\n",
      "DFire empty images: 2005\n",
      "DFire only smoke images: 1186\n",
      "DFire only fire images: 220\n",
      "DFire smoke and fire images: 895\n",
      "\n",
      "Test dataset len: 4306\n",
      "\n",
      "====================\n",
      "TEST FASDD UAV dataset\n",
      "FASDD Removed wrong images: 0\n",
      "FASDD empty images: 1997\n",
      "FASDD only smoke images: 846\n",
      "FASDD only fire images: 35\n",
      "FASDD smoke and fire images: 1303\n",
      "\n",
      "Test FASDD UAV dataset len: 4181\n",
      "\n",
      "====================\n",
      "TEST FASDD CV dataset\n",
      "FASDD Removed wrong images: 0\n",
      "FASDD empty images: 6533\n",
      "FASDD only smoke images: 3902\n",
      "FASDD only fire images: 2091\n",
      "FASDD smoke and fire images: 3358\n",
      "\n",
      "Test FASDD CV dataset len: 15884\n",
      "Concatenate Test DFire and FASDD UAV datasets\n",
      "Test dataset len: 8487\n",
      "Concatenate with FASDD CV dataset\n",
      "Test dataset len: 24371\n"
     ]
    }
   ],
   "source": [
    "train_loader = dataloaders.get_train_loader()\n",
    "val_loader = dataloaders.get_val_loader()"
   ]
  },
  {
   "cell_type": "markdown",
   "id": "841b4bfc-55f6-4692-a5de-8f457d17472c",
   "metadata": {},
   "source": [
    "### Plot Some Train Pictures"
   ]
  },
  {
   "cell_type": "code",
   "execution_count": 6,
   "id": "f18dab26-cb88-4c13-ad66-a5cc8176a0f0",
   "metadata": {},
   "outputs": [],
   "source": [
    "for i, (img, label) in enumerate(train_loader):\n",
    "\n",
    "    plt.subplots(8,4, figsize=(8, 16))\n",
    "    \n",
    "    for idx in range(config.BATCH_SIZE):\n",
    "        plt.subplot(8, 4, idx+1)\n",
    "        plt.imshow(img[idx].permute(1, 2, 0))\n",
    "        title = \"\"\n",
    "        if label[idx][0] == 1 and label[idx][1] == 1:\n",
    "            title += \"Smoke and Fire\"\n",
    "        elif label[idx][0] == 1 and label[idx][1] == 0:\n",
    "            title += \"Only Smoke\"\n",
    "        elif label[idx][0] == 0 and label[idx][1] == 1:\n",
    "            title += \"Only Fire\"\n",
    "        else:\n",
    "            title += \"Empty\"\n",
    "        plt.title(title)\n",
    "        \n",
    "        if (idx == 31):\n",
    "            break\n",
    "    plt.tight_layout()\n",
    "    plt.savefig(config.RUN_FOLDER + 'train_pictures.png')\n",
    "    #plt.show()\n",
    "    plt.close()\n",
    "    break"
   ]
  },
  {
   "cell_type": "markdown",
   "id": "3f38c400-7e28-46fd-8cab-fb537e5bb248",
   "metadata": {},
   "source": [
    "### Plot Some Val Pictures"
   ]
  },
  {
   "cell_type": "code",
   "execution_count": 7,
   "id": "60efe557-e316-4ec3-a850-3e671f04b1a8",
   "metadata": {},
   "outputs": [],
   "source": [
    "for i, (img, label) in enumerate(val_loader):\n",
    "\n",
    "    plt.subplots(8,4, figsize=(8, 16))\n",
    "    \n",
    "    for idx in range(config.BATCH_SIZE):\n",
    "        plt.subplot(8, 4, idx+1)\n",
    "        plt.imshow(img[idx].permute(1, 2, 0))\n",
    "        title = \"\"\n",
    "        if label[idx][0] == 1 and label[idx][1] == 1:\n",
    "            title += \"Smoke and Fire\"\n",
    "        elif label[idx][0] == 1 and label[idx][1] == 0:\n",
    "            title += \"Only Smoke\"\n",
    "        elif label[idx][0] == 0 and label[idx][1] == 1:\n",
    "            title += \"Only Fire\"\n",
    "        else:\n",
    "            title += \"Empty\"\n",
    "        plt.title(title)\n",
    "        \n",
    "        if (idx == 31):\n",
    "            break\n",
    "    plt.tight_layout()\n",
    "    plt.savefig(config.RUN_FOLDER + 'val_pictures.png')\n",
    "    plt.close()\n",
    "    break"
   ]
  },
  {
   "cell_type": "markdown",
   "id": "32673ea5-65c2-418d-b4bb-dc52d5fc0cb5",
   "metadata": {},
   "source": [
    "# Load Model"
   ]
  },
  {
   "cell_type": "code",
   "execution_count": 8,
   "id": "65f05240-0c38-4f73-b06d-bf9ceefcb369",
   "metadata": {},
   "outputs": [],
   "source": [
    "# model = cnv_model.CNV(\n",
    "#     num_classes = 2, \n",
    "#     weight_bit_width=4, \n",
    "#     act_bit_width=4, \n",
    "#     in_bit_width=8, \n",
    "# )  \n",
    "model = cnv_model.CNV().to(config.DEVICE)"
   ]
  },
  {
   "cell_type": "markdown",
   "id": "578c963b-1a73-4b8b-9646-8ad392dd4eee",
   "metadata": {},
   "source": [
    "### Optimizer and Scheduler"
   ]
  },
  {
   "cell_type": "code",
   "execution_count": 9,
   "id": "e2284272-f9fc-4adb-a7c4-81ac3956d95b",
   "metadata": {},
   "outputs": [],
   "source": [
    "optimizer = optim.Adam(model.parameters(), \n",
    "                       lr=config.LEARNING_RATE, \n",
    "                       weight_decay=config.WEIGHT_DECAY)\n",
    "\n",
    "scheduler = optim.lr_scheduler.ReduceLROnPlateau(optimizer, \n",
    "                                                 mode='min',\n",
    "                                                 factor=config.FACTOR, \n",
    "                                                 patience=config.PATIENCE, \n",
    "                                                 threshold=config.THRES, \n",
    "                                                 threshold_mode='abs',\n",
    "                                                 min_lr=config.MIN_LR)\n",
    "\n"
   ]
  },
  {
   "cell_type": "markdown",
   "id": "1d0bac02-ea2e-40b6-9f71-456b3f3cf943",
   "metadata": {},
   "source": [
    "### Parameters"
   ]
  },
  {
   "cell_type": "code",
   "execution_count": 10,
   "id": "ce30cdae-4cb8-4399-9766-49932d6a4bed",
   "metadata": {},
   "outputs": [
    {
     "name": "stdout",
     "output_type": "stream",
     "text": [
      "\n",
      "Trainable parameters = 93296\n",
      "Total parameters = 93296\n",
      "\n"
     ]
    }
   ],
   "source": [
    "n_trainable = sum(p.numel() for p in model.parameters() if p.requires_grad)\n",
    "print(f'\\nTrainable parameters = {n_trainable}')\n",
    "logger.info(f'\\nTrainable parameters = {n_trainable}')\n",
    "\n",
    "n_params = parameters_to_vector(model.parameters()).numel()\n",
    "print(f'Total parameters = {n_params}\\n')\n",
    "logger.info(f'Total parameters = {n_params}\\n')"
   ]
  },
  {
   "cell_type": "markdown",
   "id": "cfb33a7e-b560-4446-bd60-8621483adfdc",
   "metadata": {},
   "source": [
    "### Check Model Shape: Random Input"
   ]
  },
  {
   "cell_type": "code",
   "execution_count": 11,
   "id": "d80f00c5-183d-431b-bf8a-26551c390cae",
   "metadata": {},
   "outputs": [
    {
     "name": "stderr",
     "output_type": "stream",
     "text": [
      "/opt/conda/envs/pytorch_brevitas/lib/python3.10/site-packages/torch/_tensor.py:1362: UserWarning: Named tensors and all their associated APIs are an experimental feature and subject to change. Please do not use them for anything important until they are released as stable. (Triggered internally at /opt/conda/conda-bld/pytorch_1702400410390/work/c10/core/TensorImpl.h:1900.)\n",
      "  return super().rename(names)\n"
     ]
    },
    {
     "name": "stdout",
     "output_type": "stream",
     "text": [
      "Model shape is tensor([[ 0.4700,  0.1650],\n",
      "        [-0.8170,  0.9406],\n",
      "        [ 1.4428, -1.1464],\n",
      "        [ 0.5305, -1.5855]], device='cuda:0', grad_fn=<AddBackward0>)\n"
     ]
    }
   ],
   "source": [
    "dummy_input = np.random.rand(4, config.NUM_CHANNELS, config.IMG_H, config.IMG_W)\n",
    "dummy_input = torch.tensor(dummy_input, dtype=torch.float32, device=config.DEVICE)\n",
    "out_test = model(dummy_input)\n",
    "print(f'Model shape is {out_test}')\n",
    "#print(f'BED Model Arquitecture\\n{cnv_model}')"
   ]
  },
  {
   "cell_type": "markdown",
   "id": "6a769672-efb0-4727-8322-8c68795d0efb",
   "metadata": {},
   "source": [
    "### Torchinfo"
   ]
  },
  {
   "cell_type": "code",
   "execution_count": 12,
   "id": "607141f0-be35-4feb-8635-c63724d1503e",
   "metadata": {},
   "outputs": [
    {
     "name": "stdout",
     "output_type": "stream",
     "text": [
      "=============================================================================================================================\n",
      "Layer (type:depth-idx)                                                      Output Shape              Param #\n",
      "=============================================================================================================================\n",
      "CNV                                                                         [1, 2]                    --\n",
      "├─ModuleList: 1-77                                                          --                        (recursive)\n",
      "│    └─QuantIdentity: 2-1                                                   [1, 3, 224, 224]          --\n",
      "│    │    └─ActQuantProxyFromInjector: 3-1                                  [1, 3, 224, 224]          --\n",
      "│    │    └─ActQuantProxyFromInjector: 3-2                                  [1, 3, 224, 224]          1\n",
      "├─ModuleList: 1-78                                                          --                        (recursive)\n",
      "│    └─QuantLinear: 2-123                                                   --                        (recursive)\n",
      "│    │    └─WeightQuantProxyFromInjector: 3-147                             --                        (recursive)\n",
      "├─ModuleList: 1-77                                                          --                        (recursive)\n",
      "│    └─QuantIdentity: 2-5                                                   --                        (recursive)\n",
      "│    │    └─ActQuantProxyFromInjector: 3-6                                  --                        (recursive)\n",
      "├─ModuleList: 1-78                                                          --                        (recursive)\n",
      "│    └─QuantReLU: 2-124                                                     --                        (recursive)\n",
      "│    │    └─ActQuantProxyFromInjector: 3-148                                --                        (recursive)\n",
      "├─ModuleList: 1-77                                                          --                        (recursive)\n",
      "│    └─QuantIdentity: 2-5                                                   --                        (recursive)\n",
      "│    │    └─ActQuantProxyFromInjector: 3-6                                  --                        (recursive)\n",
      "│    └─QuantConv2d: 2-6                                                     [1, 32, 224, 224]         --\n",
      "│    │    └─ActQuantProxyFromInjector: 3-7                                  [1, 3, 224, 224]          --\n",
      "│    │    └─WeightQuantProxyFromInjector: 3-8                               [32, 3, 3, 3]             864\n",
      "├─ModuleList: 1-78                                                          --                        (recursive)\n",
      "│    └─QuantLinear: 2-123                                                   --                        (recursive)\n",
      "│    │    └─WeightQuantProxyFromInjector: 3-147                             --                        (recursive)\n",
      "├─ModuleList: 1-77                                                          --                        (recursive)\n",
      "│    └─QuantConv2d: 2-8                                                     --                        (recursive)\n",
      "│    │    └─WeightQuantProxyFromInjector: 3-10                              --                        (recursive)\n",
      "│    │    └─ActQuantProxyFromInjector: 3-11                                 [1, 32, 224, 224]         --\n",
      "│    └─BatchNorm2d: 2-9                                                     [1, 32, 224, 224]         64\n",
      "│    └─QuantReLU: 2-10                                                      [1, 32, 224, 224]         --\n",
      "│    │    └─ActQuantProxyFromInjector: 3-12                                 [1, 32, 224, 224]         --\n",
      "│    │    └─ActQuantProxyFromInjector: 3-13                                 [1, 32, 224, 224]         1\n",
      "├─ModuleList: 1-78                                                          --                        (recursive)\n",
      "│    └─QuantLinear: 2-123                                                   --                        (recursive)\n",
      "│    │    └─WeightQuantProxyFromInjector: 3-147                             --                        (recursive)\n",
      "├─ModuleList: 1-77                                                          --                        (recursive)\n",
      "│    └─QuantReLU: 2-14                                                      --                        (recursive)\n",
      "│    │    └─ActQuantProxyFromInjector: 3-17                                 --                        (recursive)\n",
      "├─ModuleList: 1-78                                                          --                        (recursive)\n",
      "│    └─QuantReLU: 2-124                                                     --                        (recursive)\n",
      "│    │    └─ActQuantProxyFromInjector: 3-148                                --                        (recursive)\n",
      "├─ModuleList: 1-77                                                          --                        (recursive)\n",
      "│    └─QuantReLU: 2-14                                                      --                        (recursive)\n",
      "│    │    └─ActQuantProxyFromInjector: 3-17                                 --                        (recursive)\n",
      "│    └─MaxPool2d: 2-15                                                      [1, 32, 112, 112]         --\n",
      "│    └─QuantConv2d: 2-16                                                    [1, 16, 112, 112]         --\n",
      "│    │    └─ActQuantProxyFromInjector: 3-18                                 [1, 32, 112, 112]         --\n",
      "│    │    └─WeightQuantProxyFromInjector: 3-19                              [16, 32, 3, 3]            4,608\n",
      "├─ModuleList: 1-78                                                          --                        (recursive)\n",
      "│    └─QuantLinear: 2-123                                                   --                        (recursive)\n",
      "│    │    └─WeightQuantProxyFromInjector: 3-147                             --                        (recursive)\n",
      "├─ModuleList: 1-77                                                          --                        (recursive)\n",
      "│    └─QuantConv2d: 2-18                                                    --                        (recursive)\n",
      "│    │    └─WeightQuantProxyFromInjector: 3-21                              --                        (recursive)\n",
      "│    │    └─ActQuantProxyFromInjector: 3-22                                 [1, 16, 112, 112]         --\n",
      "│    └─BatchNorm2d: 2-19                                                    [1, 16, 112, 112]         32\n",
      "│    └─QuantReLU: 2-20                                                      [1, 16, 112, 112]         --\n",
      "│    │    └─ActQuantProxyFromInjector: 3-23                                 [1, 16, 112, 112]         --\n",
      "│    │    └─ActQuantProxyFromInjector: 3-24                                 [1, 16, 112, 112]         1\n",
      "├─ModuleList: 1-78                                                          --                        (recursive)\n",
      "│    └─QuantLinear: 2-123                                                   --                        (recursive)\n",
      "│    │    └─WeightQuantProxyFromInjector: 3-147                             --                        (recursive)\n",
      "├─ModuleList: 1-77                                                          --                        (recursive)\n",
      "│    └─QuantReLU: 2-24                                                      --                        (recursive)\n",
      "│    │    └─ActQuantProxyFromInjector: 3-28                                 --                        (recursive)\n",
      "├─ModuleList: 1-78                                                          --                        (recursive)\n",
      "│    └─QuantReLU: 2-124                                                     --                        (recursive)\n",
      "│    │    └─ActQuantProxyFromInjector: 3-148                                --                        (recursive)\n",
      "├─ModuleList: 1-77                                                          --                        (recursive)\n",
      "│    └─QuantReLU: 2-24                                                      --                        (recursive)\n",
      "│    │    └─ActQuantProxyFromInjector: 3-28                                 --                        (recursive)\n",
      "│    └─MaxPool2d: 2-25                                                      [1, 16, 56, 56]           --\n",
      "│    └─QuantConv2d: 2-26                                                    [1, 16, 56, 56]           --\n",
      "│    │    └─ActQuantProxyFromInjector: 3-29                                 [1, 16, 56, 56]           --\n",
      "│    │    └─WeightQuantProxyFromInjector: 3-30                              [16, 16, 1, 1]            256\n",
      "├─ModuleList: 1-78                                                          --                        (recursive)\n",
      "│    └─QuantLinear: 2-123                                                   --                        (recursive)\n",
      "│    │    └─WeightQuantProxyFromInjector: 3-147                             --                        (recursive)\n",
      "├─ModuleList: 1-77                                                          --                        (recursive)\n",
      "│    └─QuantConv2d: 2-28                                                    --                        (recursive)\n",
      "│    │    └─WeightQuantProxyFromInjector: 3-32                              --                        (recursive)\n",
      "│    │    └─ActQuantProxyFromInjector: 3-33                                 [1, 16, 56, 56]           --\n",
      "│    └─BatchNorm2d: 2-29                                                    [1, 16, 56, 56]           32\n",
      "│    └─QuantReLU: 2-30                                                      [1, 16, 56, 56]           --\n",
      "│    │    └─ActQuantProxyFromInjector: 3-34                                 [1, 16, 56, 56]           --\n",
      "│    │    └─ActQuantProxyFromInjector: 3-35                                 [1, 16, 56, 56]           1\n",
      "├─ModuleList: 1-78                                                          --                        (recursive)\n",
      "│    └─QuantLinear: 2-123                                                   --                        (recursive)\n",
      "│    │    └─WeightQuantProxyFromInjector: 3-147                             --                        (recursive)\n",
      "├─ModuleList: 1-77                                                          --                        (recursive)\n",
      "│    └─QuantReLU: 2-34                                                      --                        (recursive)\n",
      "│    │    └─ActQuantProxyFromInjector: 3-39                                 --                        (recursive)\n",
      "├─ModuleList: 1-78                                                          --                        (recursive)\n",
      "│    └─QuantReLU: 2-124                                                     --                        (recursive)\n",
      "│    │    └─ActQuantProxyFromInjector: 3-148                                --                        (recursive)\n",
      "├─ModuleList: 1-77                                                          --                        (recursive)\n",
      "│    └─QuantReLU: 2-34                                                      --                        (recursive)\n",
      "│    │    └─ActQuantProxyFromInjector: 3-39                                 --                        (recursive)\n",
      "│    └─QuantConv2d: 2-35                                                    [1, 32, 56, 56]           --\n",
      "│    │    └─ActQuantProxyFromInjector: 3-40                                 [1, 16, 56, 56]           --\n",
      "│    │    └─WeightQuantProxyFromInjector: 3-41                              [32, 16, 3, 3]            4,608\n",
      "├─ModuleList: 1-78                                                          --                        (recursive)\n",
      "│    └─QuantLinear: 2-123                                                   --                        (recursive)\n",
      "│    │    └─WeightQuantProxyFromInjector: 3-147                             --                        (recursive)\n",
      "├─ModuleList: 1-77                                                          --                        (recursive)\n",
      "│    └─QuantConv2d: 2-37                                                    --                        (recursive)\n",
      "│    │    └─WeightQuantProxyFromInjector: 3-43                              --                        (recursive)\n",
      "│    │    └─ActQuantProxyFromInjector: 3-44                                 [1, 32, 56, 56]           --\n",
      "│    └─BatchNorm2d: 2-38                                                    [1, 32, 56, 56]           64\n",
      "│    └─QuantReLU: 2-39                                                      [1, 32, 56, 56]           --\n",
      "│    │    └─ActQuantProxyFromInjector: 3-45                                 [1, 32, 56, 56]           --\n",
      "│    │    └─ActQuantProxyFromInjector: 3-46                                 [1, 32, 56, 56]           1\n",
      "├─ModuleList: 1-78                                                          --                        (recursive)\n",
      "│    └─QuantLinear: 2-123                                                   --                        (recursive)\n",
      "│    │    └─WeightQuantProxyFromInjector: 3-147                             --                        (recursive)\n",
      "├─ModuleList: 1-77                                                          --                        (recursive)\n",
      "│    └─QuantReLU: 2-43                                                      --                        (recursive)\n",
      "│    │    └─ActQuantProxyFromInjector: 3-50                                 --                        (recursive)\n",
      "├─ModuleList: 1-78                                                          --                        (recursive)\n",
      "│    └─QuantReLU: 2-124                                                     --                        (recursive)\n",
      "│    │    └─ActQuantProxyFromInjector: 3-148                                --                        (recursive)\n",
      "├─ModuleList: 1-77                                                          --                        (recursive)\n",
      "│    └─QuantReLU: 2-43                                                      --                        (recursive)\n",
      "│    │    └─ActQuantProxyFromInjector: 3-50                                 --                        (recursive)\n",
      "│    └─QuantConv2d: 2-44                                                    [1, 32, 56, 56]           --\n",
      "│    │    └─ActQuantProxyFromInjector: 3-51                                 [1, 32, 56, 56]           --\n",
      "│    │    └─WeightQuantProxyFromInjector: 3-52                              [32, 32, 1, 1]            1,024\n",
      "├─ModuleList: 1-78                                                          --                        (recursive)\n",
      "│    └─QuantLinear: 2-123                                                   --                        (recursive)\n",
      "│    │    └─WeightQuantProxyFromInjector: 3-147                             --                        (recursive)\n",
      "├─ModuleList: 1-77                                                          --                        (recursive)\n",
      "│    └─QuantConv2d: 2-46                                                    --                        (recursive)\n",
      "│    │    └─WeightQuantProxyFromInjector: 3-54                              --                        (recursive)\n",
      "│    │    └─ActQuantProxyFromInjector: 3-55                                 [1, 32, 56, 56]           --\n",
      "│    └─BatchNorm2d: 2-47                                                    [1, 32, 56, 56]           64\n",
      "│    └─QuantReLU: 2-48                                                      [1, 32, 56, 56]           --\n",
      "│    │    └─ActQuantProxyFromInjector: 3-56                                 [1, 32, 56, 56]           --\n",
      "│    │    └─ActQuantProxyFromInjector: 3-57                                 [1, 32, 56, 56]           1\n",
      "├─ModuleList: 1-78                                                          --                        (recursive)\n",
      "│    └─QuantLinear: 2-123                                                   --                        (recursive)\n",
      "│    │    └─WeightQuantProxyFromInjector: 3-147                             --                        (recursive)\n",
      "├─ModuleList: 1-77                                                          --                        (recursive)\n",
      "│    └─QuantReLU: 2-52                                                      --                        (recursive)\n",
      "│    │    └─ActQuantProxyFromInjector: 3-61                                 --                        (recursive)\n",
      "├─ModuleList: 1-78                                                          --                        (recursive)\n",
      "│    └─QuantReLU: 2-124                                                     --                        (recursive)\n",
      "│    │    └─ActQuantProxyFromInjector: 3-148                                --                        (recursive)\n",
      "├─ModuleList: 1-77                                                          --                        (recursive)\n",
      "│    └─QuantReLU: 2-52                                                      --                        (recursive)\n",
      "│    │    └─ActQuantProxyFromInjector: 3-61                                 --                        (recursive)\n",
      "│    └─QuantConv2d: 2-53                                                    [1, 64, 56, 56]           --\n",
      "│    │    └─ActQuantProxyFromInjector: 3-62                                 [1, 32, 56, 56]           --\n",
      "│    │    └─WeightQuantProxyFromInjector: 3-63                              [64, 32, 3, 3]            18,432\n",
      "├─ModuleList: 1-78                                                          --                        (recursive)\n",
      "│    └─QuantLinear: 2-123                                                   --                        (recursive)\n",
      "│    │    └─WeightQuantProxyFromInjector: 3-147                             --                        (recursive)\n",
      "├─ModuleList: 1-77                                                          --                        (recursive)\n",
      "│    └─QuantConv2d: 2-55                                                    --                        (recursive)\n",
      "│    │    └─WeightQuantProxyFromInjector: 3-65                              --                        (recursive)\n",
      "│    │    └─ActQuantProxyFromInjector: 3-66                                 [1, 64, 56, 56]           --\n",
      "│    └─BatchNorm2d: 2-56                                                    [1, 64, 56, 56]           128\n",
      "│    └─QuantReLU: 2-57                                                      [1, 64, 56, 56]           --\n",
      "│    │    └─ActQuantProxyFromInjector: 3-67                                 [1, 64, 56, 56]           --\n",
      "│    │    └─ActQuantProxyFromInjector: 3-68                                 [1, 64, 56, 56]           1\n",
      "├─ModuleList: 1-78                                                          --                        (recursive)\n",
      "│    └─QuantLinear: 2-123                                                   --                        (recursive)\n",
      "│    │    └─WeightQuantProxyFromInjector: 3-147                             --                        (recursive)\n",
      "├─ModuleList: 1-77                                                          --                        (recursive)\n",
      "│    └─QuantReLU: 2-61                                                      --                        (recursive)\n",
      "│    │    └─ActQuantProxyFromInjector: 3-72                                 --                        (recursive)\n",
      "├─ModuleList: 1-78                                                          --                        (recursive)\n",
      "│    └─QuantReLU: 2-124                                                     --                        (recursive)\n",
      "│    │    └─ActQuantProxyFromInjector: 3-148                                --                        (recursive)\n",
      "├─ModuleList: 1-77                                                          --                        (recursive)\n",
      "│    └─QuantReLU: 2-61                                                      --                        (recursive)\n",
      "│    │    └─ActQuantProxyFromInjector: 3-72                                 --                        (recursive)\n",
      "│    └─MaxPool2d: 2-62                                                      [1, 64, 28, 28]           --\n",
      "│    └─QuantConv2d: 2-63                                                    [1, 32, 28, 28]           --\n",
      "│    │    └─ActQuantProxyFromInjector: 3-73                                 [1, 64, 28, 28]           --\n",
      "│    │    └─WeightQuantProxyFromInjector: 3-74                              [32, 64, 1, 1]            2,048\n",
      "├─ModuleList: 1-78                                                          --                        (recursive)\n",
      "│    └─QuantLinear: 2-123                                                   --                        (recursive)\n",
      "│    │    └─WeightQuantProxyFromInjector: 3-147                             --                        (recursive)\n",
      "├─ModuleList: 1-77                                                          --                        (recursive)\n",
      "│    └─QuantConv2d: 2-65                                                    --                        (recursive)\n",
      "│    │    └─WeightQuantProxyFromInjector: 3-76                              --                        (recursive)\n",
      "│    │    └─ActQuantProxyFromInjector: 3-77                                 [1, 32, 28, 28]           --\n",
      "│    └─BatchNorm2d: 2-66                                                    [1, 32, 28, 28]           64\n",
      "│    └─QuantReLU: 2-67                                                      [1, 32, 28, 28]           --\n",
      "│    │    └─ActQuantProxyFromInjector: 3-78                                 [1, 32, 28, 28]           --\n",
      "│    │    └─ActQuantProxyFromInjector: 3-79                                 [1, 32, 28, 28]           1\n",
      "├─ModuleList: 1-78                                                          --                        (recursive)\n",
      "│    └─QuantLinear: 2-123                                                   --                        (recursive)\n",
      "│    │    └─WeightQuantProxyFromInjector: 3-147                             --                        (recursive)\n",
      "├─ModuleList: 1-77                                                          --                        (recursive)\n",
      "│    └─QuantReLU: 2-71                                                      --                        (recursive)\n",
      "│    │    └─ActQuantProxyFromInjector: 3-83                                 --                        (recursive)\n",
      "├─ModuleList: 1-78                                                          --                        (recursive)\n",
      "│    └─QuantReLU: 2-124                                                     --                        (recursive)\n",
      "│    │    └─ActQuantProxyFromInjector: 3-148                                --                        (recursive)\n",
      "├─ModuleList: 1-77                                                          --                        (recursive)\n",
      "│    └─QuantReLU: 2-71                                                      --                        (recursive)\n",
      "│    │    └─ActQuantProxyFromInjector: 3-83                                 --                        (recursive)\n",
      "│    └─QuantConv2d: 2-72                                                    [1, 64, 28, 28]           --\n",
      "│    │    └─ActQuantProxyFromInjector: 3-84                                 [1, 32, 28, 28]           --\n",
      "│    │    └─WeightQuantProxyFromInjector: 3-85                              [64, 32, 3, 3]            18,432\n",
      "├─ModuleList: 1-78                                                          --                        (recursive)\n",
      "│    └─QuantLinear: 2-123                                                   --                        (recursive)\n",
      "│    │    └─WeightQuantProxyFromInjector: 3-147                             --                        (recursive)\n",
      "├─ModuleList: 1-77                                                          --                        (recursive)\n",
      "│    └─QuantConv2d: 2-74                                                    --                        (recursive)\n",
      "│    │    └─WeightQuantProxyFromInjector: 3-87                              --                        (recursive)\n",
      "│    │    └─ActQuantProxyFromInjector: 3-88                                 [1, 64, 28, 28]           --\n",
      "│    └─BatchNorm2d: 2-75                                                    [1, 64, 28, 28]           128\n",
      "│    └─QuantReLU: 2-76                                                      [1, 64, 28, 28]           --\n",
      "│    │    └─ActQuantProxyFromInjector: 3-89                                 [1, 64, 28, 28]           --\n",
      "│    │    └─ActQuantProxyFromInjector: 3-90                                 [1, 64, 28, 28]           1\n",
      "├─ModuleList: 1-78                                                          --                        (recursive)\n",
      "│    └─QuantLinear: 2-123                                                   --                        (recursive)\n",
      "│    │    └─WeightQuantProxyFromInjector: 3-147                             --                        (recursive)\n",
      "├─ModuleList: 1-77                                                          --                        (recursive)\n",
      "│    └─QuantReLU: 2-80                                                      --                        (recursive)\n",
      "│    │    └─ActQuantProxyFromInjector: 3-94                                 --                        (recursive)\n",
      "├─ModuleList: 1-78                                                          --                        (recursive)\n",
      "│    └─QuantReLU: 2-124                                                     --                        (recursive)\n",
      "│    │    └─ActQuantProxyFromInjector: 3-148                                --                        (recursive)\n",
      "├─ModuleList: 1-77                                                          --                        (recursive)\n",
      "│    └─QuantReLU: 2-80                                                      --                        (recursive)\n",
      "│    │    └─ActQuantProxyFromInjector: 3-94                                 --                        (recursive)\n",
      "│    └─QuantConv2d: 2-81                                                    [1, 32, 28, 28]           --\n",
      "│    │    └─ActQuantProxyFromInjector: 3-95                                 [1, 64, 28, 28]           --\n",
      "│    │    └─WeightQuantProxyFromInjector: 3-96                              [32, 64, 1, 1]            2,048\n",
      "├─ModuleList: 1-78                                                          --                        (recursive)\n",
      "│    └─QuantLinear: 2-123                                                   --                        (recursive)\n",
      "│    │    └─WeightQuantProxyFromInjector: 3-147                             --                        (recursive)\n",
      "├─ModuleList: 1-77                                                          --                        (recursive)\n",
      "│    └─QuantConv2d: 2-83                                                    --                        (recursive)\n",
      "│    │    └─WeightQuantProxyFromInjector: 3-98                              --                        (recursive)\n",
      "│    │    └─ActQuantProxyFromInjector: 3-99                                 [1, 32, 28, 28]           --\n",
      "│    └─BatchNorm2d: 2-84                                                    [1, 32, 28, 28]           64\n",
      "│    └─QuantReLU: 2-85                                                      [1, 32, 28, 28]           --\n",
      "│    │    └─ActQuantProxyFromInjector: 3-100                                [1, 32, 28, 28]           --\n",
      "│    │    └─ActQuantProxyFromInjector: 3-101                                [1, 32, 28, 28]           1\n",
      "├─ModuleList: 1-78                                                          --                        (recursive)\n",
      "│    └─QuantLinear: 2-123                                                   --                        (recursive)\n",
      "│    │    └─WeightQuantProxyFromInjector: 3-147                             --                        (recursive)\n",
      "├─ModuleList: 1-77                                                          --                        (recursive)\n",
      "│    └─QuantReLU: 2-89                                                      --                        (recursive)\n",
      "│    │    └─ActQuantProxyFromInjector: 3-105                                --                        (recursive)\n",
      "├─ModuleList: 1-78                                                          --                        (recursive)\n",
      "│    └─QuantReLU: 2-124                                                     --                        (recursive)\n",
      "│    │    └─ActQuantProxyFromInjector: 3-148                                --                        (recursive)\n",
      "├─ModuleList: 1-77                                                          --                        (recursive)\n",
      "│    └─QuantReLU: 2-89                                                      --                        (recursive)\n",
      "│    │    └─ActQuantProxyFromInjector: 3-105                                --                        (recursive)\n",
      "│    └─QuantConv2d: 2-90                                                    [1, 64, 28, 28]           --\n",
      "│    │    └─ActQuantProxyFromInjector: 3-106                                [1, 32, 28, 28]           --\n",
      "│    │    └─WeightQuantProxyFromInjector: 3-107                             [64, 32, 3, 3]            18,432\n",
      "├─ModuleList: 1-78                                                          --                        (recursive)\n",
      "│    └─QuantLinear: 2-123                                                   --                        (recursive)\n",
      "│    │    └─WeightQuantProxyFromInjector: 3-147                             --                        (recursive)\n",
      "├─ModuleList: 1-77                                                          --                        (recursive)\n",
      "│    └─QuantConv2d: 2-92                                                    --                        (recursive)\n",
      "│    │    └─WeightQuantProxyFromInjector: 3-109                             --                        (recursive)\n",
      "│    │    └─ActQuantProxyFromInjector: 3-110                                [1, 64, 28, 28]           --\n",
      "│    └─BatchNorm2d: 2-93                                                    [1, 64, 28, 28]           128\n",
      "│    └─QuantReLU: 2-94                                                      [1, 64, 28, 28]           --\n",
      "│    │    └─ActQuantProxyFromInjector: 3-111                                [1, 64, 28, 28]           --\n",
      "│    │    └─ActQuantProxyFromInjector: 3-112                                [1, 64, 28, 28]           1\n",
      "├─ModuleList: 1-78                                                          --                        (recursive)\n",
      "│    └─QuantLinear: 2-123                                                   --                        (recursive)\n",
      "│    │    └─WeightQuantProxyFromInjector: 3-147                             --                        (recursive)\n",
      "├─ModuleList: 1-77                                                          --                        (recursive)\n",
      "│    └─QuantReLU: 2-98                                                      --                        (recursive)\n",
      "│    │    └─ActQuantProxyFromInjector: 3-116                                --                        (recursive)\n",
      "├─ModuleList: 1-78                                                          --                        (recursive)\n",
      "│    └─QuantReLU: 2-124                                                     --                        (recursive)\n",
      "│    │    └─ActQuantProxyFromInjector: 3-148                                --                        (recursive)\n",
      "├─ModuleList: 1-77                                                          --                        (recursive)\n",
      "│    └─QuantReLU: 2-98                                                      --                        (recursive)\n",
      "│    │    └─ActQuantProxyFromInjector: 3-116                                --                        (recursive)\n",
      "│    └─QuantConv2d: 2-99                                                    [1, 32, 28, 28]           --\n",
      "│    │    └─ActQuantProxyFromInjector: 3-117                                [1, 64, 28, 28]           --\n",
      "│    │    └─WeightQuantProxyFromInjector: 3-118                             [32, 64, 1, 1]            2,048\n",
      "├─ModuleList: 1-78                                                          --                        (recursive)\n",
      "│    └─QuantLinear: 2-123                                                   --                        (recursive)\n",
      "│    │    └─WeightQuantProxyFromInjector: 3-147                             --                        (recursive)\n",
      "├─ModuleList: 1-77                                                          --                        (recursive)\n",
      "│    └─QuantConv2d: 2-101                                                   --                        (recursive)\n",
      "│    │    └─WeightQuantProxyFromInjector: 3-120                             --                        (recursive)\n",
      "│    │    └─ActQuantProxyFromInjector: 3-121                                [1, 32, 28, 28]           --\n",
      "│    └─BatchNorm2d: 2-102                                                   [1, 32, 28, 28]           64\n",
      "│    └─QuantReLU: 2-103                                                     [1, 32, 28, 28]           --\n",
      "│    │    └─ActQuantProxyFromInjector: 3-122                                [1, 32, 28, 28]           --\n",
      "│    │    └─ActQuantProxyFromInjector: 3-123                                [1, 32, 28, 28]           1\n",
      "├─ModuleList: 1-78                                                          --                        (recursive)\n",
      "│    └─QuantLinear: 2-123                                                   --                        (recursive)\n",
      "│    │    └─WeightQuantProxyFromInjector: 3-147                             --                        (recursive)\n",
      "├─ModuleList: 1-77                                                          --                        (recursive)\n",
      "│    └─QuantReLU: 2-107                                                     --                        (recursive)\n",
      "│    │    └─ActQuantProxyFromInjector: 3-127                                --                        (recursive)\n",
      "├─ModuleList: 1-78                                                          --                        (recursive)\n",
      "│    └─QuantReLU: 2-124                                                     --                        (recursive)\n",
      "│    │    └─ActQuantProxyFromInjector: 3-148                                --                        (recursive)\n",
      "├─ModuleList: 1-77                                                          --                        (recursive)\n",
      "│    └─QuantReLU: 2-107                                                     --                        (recursive)\n",
      "│    │    └─ActQuantProxyFromInjector: 3-127                                --                        (recursive)\n",
      "│    └─QuantConv2d: 2-108                                                   [1, 64, 28, 28]           --\n",
      "│    │    └─ActQuantProxyFromInjector: 3-128                                [1, 32, 28, 28]           --\n",
      "│    │    └─WeightQuantProxyFromInjector: 3-129                             [64, 32, 3, 3]            18,432\n",
      "├─ModuleList: 1-78                                                          --                        (recursive)\n",
      "│    └─QuantLinear: 2-123                                                   --                        (recursive)\n",
      "│    │    └─WeightQuantProxyFromInjector: 3-147                             --                        (recursive)\n",
      "├─ModuleList: 1-77                                                          --                        (recursive)\n",
      "│    └─QuantConv2d: 2-110                                                   --                        (recursive)\n",
      "│    │    └─WeightQuantProxyFromInjector: 3-131                             --                        (recursive)\n",
      "│    │    └─ActQuantProxyFromInjector: 3-132                                [1, 64, 28, 28]           --\n",
      "│    └─BatchNorm2d: 2-111                                                   [1, 64, 28, 28]           128\n",
      "│    └─QuantReLU: 2-112                                                     [1, 64, 28, 28]           --\n",
      "│    │    └─ActQuantProxyFromInjector: 3-133                                [1, 64, 28, 28]           --\n",
      "│    │    └─ActQuantProxyFromInjector: 3-134                                [1, 64, 28, 28]           1\n",
      "├─ModuleList: 1-78                                                          --                        (recursive)\n",
      "│    └─QuantLinear: 2-123                                                   --                        (recursive)\n",
      "│    │    └─WeightQuantProxyFromInjector: 3-147                             --                        (recursive)\n",
      "├─ModuleList: 1-77                                                          --                        (recursive)\n",
      "│    └─QuantReLU: 2-116                                                     --                        (recursive)\n",
      "│    │    └─ActQuantProxyFromInjector: 3-138                                --                        (recursive)\n",
      "├─ModuleList: 1-78                                                          --                        (recursive)\n",
      "│    └─QuantReLU: 2-124                                                     --                        (recursive)\n",
      "│    │    └─ActQuantProxyFromInjector: 3-148                                --                        (recursive)\n",
      "├─ModuleList: 1-77                                                          --                        (recursive)\n",
      "│    └─QuantReLU: 2-116                                                     --                        (recursive)\n",
      "│    │    └─ActQuantProxyFromInjector: 3-138                                --                        (recursive)\n",
      "│    └─TruncAvgPool2d: 2-117                                                [1, 64, 1, 1]             --\n",
      "│    │    └─TruncQuantProxyFromInjector: 3-139                              [1, 64, 1, 1]             --\n",
      "├─ModuleList: 1-78                                                          --                        (recursive)\n",
      "│    └─QuantLinear: 2-118                                                   [1, 16]                   --\n",
      "│    │    └─ActQuantProxyFromInjector: 3-140                                [1, 64]                   --\n",
      "│    │    └─WeightQuantProxyFromInjector: 3-141                             [16, 64]                  1,024\n",
      "│    └─QuantLinear: 2-123                                                   --                        (recursive)\n",
      "│    │    └─WeightQuantProxyFromInjector: 3-147                             --                        (recursive)\n",
      "│    └─QuantLinear: 2-120                                                   --                        (recursive)\n",
      "│    │    └─WeightQuantProxyFromInjector: 3-143                             --                        (recursive)\n",
      "│    │    └─ActQuantProxyFromInjector: 3-144                                [1, 16]                   --\n",
      "│    └─BatchNorm1d: 2-121                                                   [1, 16]                   32\n",
      "│    └─QuantReLU: 2-122                                                     [1, 16]                   --\n",
      "│    │    └─ActQuantProxyFromInjector: 3-145                                [1, 16]                   --\n",
      "│    │    └─ActQuantProxyFromInjector: 3-146                                [1, 16]                   1\n",
      "│    └─QuantLinear: 2-123                                                   --                        (recursive)\n",
      "│    │    └─WeightQuantProxyFromInjector: 3-147                             --                        (recursive)\n",
      "│    └─QuantReLU: 2-124                                                     --                        (recursive)\n",
      "│    │    └─ActQuantProxyFromInjector: 3-148                                --                        (recursive)\n",
      "│    └─QuantLinear: 2-125                                                   [1, 2]                    --\n",
      "│    │    └─ActQuantProxyFromInjector: 3-149                                [1, 16]                   --\n",
      "│    │    └─WeightQuantProxyFromInjector: 3-150                             [2, 16]                   32\n",
      "│    │    └─ActQuantProxyFromInjector: 3-151                                [1, 2]                    --\n",
      "│    └─TensorNorm: 2-126                                                    [1, 2]                    2\n",
      "=============================================================================================================================\n",
      "Total params: 93,296\n",
      "Trainable params: 93,296\n",
      "Non-trainable params: 0\n",
      "Total mult-adds (M): 0.00\n",
      "=============================================================================================================================\n",
      "Input size (MB): 0.60\n",
      "Forward/backward pass size (MB): 19.87\n",
      "Params size (MB): 0.00\n",
      "Estimated Total Size (MB): 20.48\n",
      "=============================================================================================================================\n"
     ]
    }
   ],
   "source": [
    "print(summary(model, input_size=(1, config.NUM_CHANNELS, config.IMG_H, config.IMG_W)))"
   ]
  },
  {
   "cell_type": "markdown",
   "id": "61d74ed9-984a-4f66-8121-d1152fecad98",
   "metadata": {},
   "source": [
    "# Loss Function"
   ]
  },
  {
   "cell_type": "code",
   "execution_count": 13,
   "id": "6efb3c84-4076-4694-8505-2c3c0ee9aa1e",
   "metadata": {},
   "outputs": [
    {
     "name": "stdout",
     "output_type": "stream",
     "text": [
      "Loss Function: BCE\n",
      "Smoke Precision Weight: 0.8\n"
     ]
    }
   ],
   "source": [
    "if config.LOSS_FN == \"BCE\":\n",
    "    print(f'Loss Function: BCE')\n",
    "    logger.info(f'\\nLoss Function: BCE')\n",
    "    print(f'Smoke Precision Weight: {config.SMOKE_PRECISION_WEIGHT}')\n",
    "    logger.info(f'Smoke Precision Weight: {config.SMOKE_PRECISION_WEIGHT}')\n",
    "    loss_fn = loss.BCE_LOSS(device=config.DEVICE, smoke_precision_weight=config.SMOKE_PRECISION_WEIGHT)\n",
    "else:\n",
    "    print(\"Wrong loss function\")\n",
    "    logger.info(\"Wrong loss function\")\n",
    "    raise SystemExit(\"Wrong loss function\")"
   ]
  },
  {
   "cell_type": "markdown",
   "id": "d7f25227-bbcd-43e9-a41b-70a324900a21",
   "metadata": {},
   "source": [
    "# Loggers and Plotters for Losses and Metrics"
   ]
  },
  {
   "cell_type": "code",
   "execution_count": 14,
   "id": "bb75d214-f372-4aee-a196-c43276145a66",
   "metadata": {},
   "outputs": [],
   "source": [
    "train_losses_logger = utils.LogLosses()\n",
    "train_metrics_logger = utils.LogMetrics()\n",
    "lr_logger = utils.LogLR(log_path=config.PLOTS_FOLDER)\n",
    "\n",
    "val_losses_logger = utils.LogLosses()\n",
    "val_metrics_logger = utils.LogMetrics()\n",
    "\n",
    "loss_plotter = utils.PlotMetrics(log_path=config.PLOTS_FOLDER, model_name=config.MODEL, loss_or_metric='Loss')\n",
    "metrics_plotter = utils.PlotMetrics(log_path=config.PLOTS_FOLDER, model_name=config.MODEL, loss_or_metric='Metric')"
   ]
  },
  {
   "cell_type": "markdown",
   "id": "80f38d11-6099-48cd-9f95-f5b0be87d804",
   "metadata": {},
   "source": [
    "# Main Function to Train"
   ]
  },
  {
   "cell_type": "code",
   "execution_count": 15,
   "id": "180683fc-5a55-4f1c-9d6e-c8ffa10be16a",
   "metadata": {},
   "outputs": [],
   "source": [
    "def train_loop(model, start_epoch=0, epochs_to_train=config.EPOCHS):\n",
    "\n",
    "    ''' ==============================================================\n",
    "                                TRAINING LOOP\n",
    "    ============================================================== '''\n",
    "    start = datetime.datetime.now()\n",
    "    start_time = start.strftime(\"%H:%M:%S\")\n",
    "    print(f'\\n***Start Training: {start_time}\\n')\n",
    "    logger.info(f'\\n***Start Training: {start_time}\\n')\n",
    "    \n",
    "    # Start with infinite validation loss\n",
    "    best_valid_loss = np.inf\n",
    "    best_smoke_precision = 0. #torch.tensor([0.])\n",
    "    smoke_f1_min_save = 0.9 #torch.tensor([0.9])\n",
    "    best_mean_f1 = 0.\n",
    "\n",
    "    epochs_plot = []\n",
    "\n",
    "    end_epoch = start_epoch + epochs_to_train\n",
    "        \n",
    "    for epoch in range(start_epoch, end_epoch):\n",
    "\n",
    "        print(f'\\n=== EPOCH {epoch}/{end_epoch-1} ===')\n",
    "        logger.info(f'\\n=== EPOCH {epoch}/{end_epoch-1} ===')\n",
    "        \n",
    "        #====================== TRAINING ========================#\n",
    "        current_lr = train_epoch.get_lr(optimizer=optimizer)\n",
    "        logger.info(f'Learning Rate = {current_lr}\\n')\n",
    "        lr_logger.log_lr(current_lr)\n",
    "                \n",
    "        train_losses, train_metrics = train_epoch.train_fn(\n",
    "            loader=train_loader, \n",
    "            model=model, \n",
    "            optimizer=optimizer, \n",
    "            loss_fn=loss_fn,\n",
    "            device=config.DEVICE)\n",
    "        \n",
    "        train_losses_logger.update_metrics(train_losses)\n",
    "        train_metrics_logger.update_metrics(train_metrics)\n",
    "                \n",
    "        logger.info(utils.print_metrics_to_logger(\"TRAIN Stats\", train_losses, train_metrics))\n",
    "        \n",
    "        #===================== VALIDATING =======================#\n",
    "        with torch.no_grad():\n",
    "            val_losses, val_metrics = val_epoch.eval_fn(\n",
    "                loader=val_loader, \n",
    "                model=model,                         \n",
    "                loss_fn=loss_fn,\n",
    "                device=config.DEVICE)\n",
    "            \n",
    "            scheduler.step(val_losses['Total'])\n",
    "            \n",
    "            val_losses_logger.update_metrics(val_losses)\n",
    "            val_metrics_logger.update_metrics(val_metrics)\n",
    "\n",
    "            logger.info(utils.print_metrics_to_logger(\"VAL Stats\", val_losses, val_metrics))\n",
    "            \n",
    "        epochs_plot.append(epoch)\n",
    "\n",
    "        loss_plotter.plot_all_metrics(\n",
    "            train_losses_logger.get_metrics(),\n",
    "            val_losses_logger.get_metrics(),\n",
    "            epochs_plot)\n",
    "\n",
    "        metrics_plotter.plot_all_metrics(\n",
    "            train_metrics_logger.get_metrics(),\n",
    "            val_metrics_logger.get_metrics(),\n",
    "            epochs_plot)\n",
    "\n",
    "        lr_logger.plot_lr(epochs_plot)\n",
    "        #======================= SAVING =========================#\n",
    "        if ( (epoch+1) % 5 ) == 0:\n",
    "            save_name = config.WEIGHTS_FOLDER + config.MODEL + '_classifier__5epoch.pt'\n",
    "            utils.save_checkpoint(epoch, model, optimizer, scheduler, save_name) \n",
    "            \n",
    "        if best_valid_loss > val_losses['Total']:\n",
    "            best_valid_loss = val_losses['Total']\n",
    "            print(f\"\\nSaving model with new best validation loss: {best_valid_loss:.4f}\")\n",
    "            logger.info(f\"Saving model with new best validation loss: {best_valid_loss:.4f}\")\n",
    "            save_name = config.WEIGHTS_FOLDER + config.MODEL + '_classifier__' + 'best_loss'  + '.pt'\n",
    "            utils.save_checkpoint(epoch, model, optimizer, scheduler, save_name) \n",
    "            save_onnx = config.ONNX_FOLDER + config.MODEL + '_classifier__' + 'best_loss'  #+ '.onnx'\n",
    "            utils.export_onnx(model, (1, config.NUM_CHANNELS, config.IMG_H, config.IMG_W), save_onnx, config.DEVICE)\n",
    "\n",
    "        # # Save model if precision increases and F1 > 0.9\n",
    "        # if ( best_smoke_precision < val_metrics['Precision'][0] ) and ( val_metrics['F1'][0] > smoke_f1_min_save ) :\n",
    "        #     best_smoke_precision = val_metrics['Precision'][0]\n",
    "        #     print(f\"\\nSaving model with new best smoke precision: {best_smoke_precision:.4f}\")\n",
    "        #     logger.info(f\"Saving model with new best smoke precision: {best_smoke_precision:.4f}\")\n",
    "        #     save_precision_name = f'best_smoke__precision={np.round(best_smoke_precision, decimals=4)}__epoch={epoch}'\n",
    "        #     save_name = config.WEIGHTS_FOLDER + config.MODEL + '_classifier__' + save_precision_name + '.pt'\n",
    "        #     utils.save_checkpoint(epoch, model, optimizer, scheduler, save_name)  \n",
    "        #     save_onnx = config.ONNX_FOLDER + config.MODEL + '_classifier__' + save_precision_name #+ '.onnx'\n",
    "        #     utils.export_onnx(model, (1, config.NUM_CHANNELS, config.IMG_H, config.IMG_W), save_onnx, config.DEVICE)\n",
    "            \n",
    "        # Save model if precision > 0.9 and recall > 0.9\n",
    "        if ( val_metrics['Precision'][0] > 0.9 ) and ( val_metrics['Recall'][0] > 0.9 ) :\n",
    "            print(\"\\nSaving model with precision > 0.9 and recall > 0.9\")\n",
    "            logger.info(\"Saving model with precision > 0.9 and recall > 0.9\")\n",
    "            save_pre_name = f'smoke__precision={np.round(val_metrics[\"Precision\"][0], decimals=4)}__' \n",
    "            save_rec_name = f'recall={np.round(val_metrics[\"Recall\"][0], decimals=4)}__'\n",
    "            save_pre_rec_name = save_pre_name + save_rec_name + f'epoch={epoch}'\n",
    "            save_name = config.WEIGHTS_FOLDER + config.MODEL + '_classifier__' + save_pre_rec_name + '.pt'\n",
    "            utils.save_checkpoint(epoch, model, optimizer, scheduler, save_name) \n",
    "            save_onnx = config.ONNX_FOLDER + config.MODEL + '_classifier__' + save_pre_rec_name #+ '.onnx'\n",
    "            utils.export_onnx(model, (1, config.NUM_CHANNELS, config.IMG_H, config.IMG_W), save_onnx, config.DEVICE)\n",
    "\n",
    "        # Save model if best mean F1 increases\n",
    "        val_f1_mean = (val_metrics['F1'][0] + val_metrics['F1'][1]) / 2\n",
    "        if (val_f1_mean > best_mean_f1) :\n",
    "            best_mean_f1 = val_f1_mean\n",
    "            print(f'Saving model with best Mean F1: {best_mean_f1:.4f}')\n",
    "            logger.info(f'Saving model with best Mean F1: {best_mean_f1:.4f}')\n",
    "            save_f1_name = 'best_mean_F1'\n",
    "            save_name = config.WEIGHTS_FOLDER + config.MODEL + '_classifier__' + save_f1_name + '.pt'\n",
    "            utils.save_checkpoint(epoch, model, optimizer, scheduler, save_name) \n",
    "            save_onnx = config.ONNX_FOLDER + config.MODEL + '_classifier__' + save_f1_name #+ '.onnx'\n",
    "            utils.export_onnx(model, (1, config.NUM_CHANNELS, config.IMG_H, config.IMG_W), save_onnx, config.DEVICE)\n",
    "        \n",
    "    logger.info('Saving last model')   \n",
    "    torch.save(model.state_dict(), config.WEIGHTS_FOLDER + 'last_' + config.MODEL + '_classifier.pt') \n",
    "    \n",
    "    #======================= FINISH =========================#\n",
    "    end = datetime.datetime.now()\n",
    "    end_time = end.strftime(\"%H:%M:%S\")\n",
    "    print(f'\\n***Script finished: {end_time}\\n')  \n",
    "    print(f'Time elapsed: {end-start}')\n",
    "    logger.info(f'\\n***Script finished: {end_time}\\n')  \n",
    "    logger.info(f'Time elapsed: {end-start}')\n",
    "    \n",
    "    return model"
   ]
  },
  {
   "cell_type": "markdown",
   "id": "7eb71ba5-1f21-4a7b-9ebe-6b50a5d38ed8",
   "metadata": {},
   "source": [
    "# Training Loop"
   ]
  },
  {
   "cell_type": "code",
   "execution_count": 16,
   "id": "dd3a8768-03a8-44f3-829f-58045dbfea7b",
   "metadata": {},
   "outputs": [
    {
     "name": "stdout",
     "output_type": "stream",
     "text": [
      "Starting script\n",
      "\n",
      "\n",
      "***Start Training: 13:17:05\n",
      "\n",
      "\n",
      "=== EPOCH 0/49 ===\n",
      "Learning Rate = 0.001\n",
      "\n"
     ]
    },
    {
     "name": "stderr",
     "output_type": "stream",
     "text": [
      "Training:   0%|                                                                                                                                           | 1/1836 [00:02<1:26:32,  2.83s/it]Corrupt JPEG data: 1 extraneous bytes before marker 0xd9\n",
      "Training:  59%|█████████████████████████████████████████████████████████████████████████████████▎                                                        | 1082/1836 [06:22<01:45,  7.14it/s]Corrupt JPEG data: 1 extraneous bytes before marker 0xd9\n",
      "Training:  64%|████████████████████████████████████████████████████████████████████████████████████████▊                                                 | 1181/1836 [06:39<01:22,  7.96it/s]Warning: unknown JFIF revision number 32.23\n",
      "Training:  69%|███████████████████████████████████████████████████████████████████████████████████████████████▍                                          | 1270/1836 [06:56<01:14,  7.56it/s]Corrupt JPEG data: 1 extraneous bytes before marker 0xd9\n",
      "Training:  70%|████████████████████████████████████████████████████████████████████████████████████████████████▎                                         | 1282/1836 [06:58<01:10,  7.81it/s]Corrupt JPEG data: 1 extraneous bytes before marker 0xd9\n",
      "Training: 100%|██████████████████████████████████████████████████████████████████████████████████████████████████████████████████████████████████████████| 1836/1836 [08:36<00:00,  3.55it/s]\n"
     ]
    },
    {
     "name": "stdout",
     "output_type": "stream",
     "text": [
      "Total Loss  |Smoke Loss  |Fire Loss   \n",
      "------------ ------------ ------------\n",
      "45.862      |25.574      |20.288      \n",
      "\n"
     ]
    },
    {
     "name": "stderr",
     "output_type": "stream",
     "text": [
      "Validating: 100%|██████████████████████████████████████████████████████████████████████████████████████████████████████████████████████████████████████████| 380/380 [00:39<00:00,  9.74it/s]\n"
     ]
    },
    {
     "name": "stdout",
     "output_type": "stream",
     "text": [
      "Total Loss  |Smoke Loss  |Fire Loss   \n",
      "------------ ------------ ------------\n",
      "38.118      |22.085      |16.033      \n",
      "SMOKE -> Precision: 0.8375 - Recall: 0.7930 - Accuracy: 0.8299 - F1: 0.8147\n",
      "FIRE -> Precision: 0.8258 - Recall: 0.9105 - Accuracy: 0.9087 - F1: 0.8661\n",
      "\n",
      "Saving model with new best validation loss: 38.1185\n",
      "Model exported to ONNX: experiments/test_v04__imagenetQuant__w2a4_PerChannel_FixedPoint/onnx/BED_classifier__best_loss\n",
      "Saving model with best Mean F1: 0.8404\n",
      "Model exported to ONNX: experiments/test_v04__imagenetQuant__w2a4_PerChannel_FixedPoint/onnx/BED_classifier__best_mean_F1\n",
      "\n",
      "=== EPOCH 1/49 ===\n",
      "Learning Rate = 0.001\n",
      "\n"
     ]
    },
    {
     "name": "stderr",
     "output_type": "stream",
     "text": [
      "Training:  23%|████████████████████████████████▍                                                                                                          | 429/1836 [01:23<03:11,  7.34it/s]Corrupt JPEG data: 1 extraneous bytes before marker 0xd9\n",
      "Training:  26%|████████████████████████████████████▍                                                                                                      | 481/1836 [01:33<04:21,  5.18it/s]Warning: unknown JFIF revision number 32.23\n",
      "Training:  63%|███████████████████████████████████████████████████████████████████████████████████████▏                                                  | 1160/1836 [04:01<02:59,  3.77it/s]Corrupt JPEG data: 1 extraneous bytes before marker 0xd9\n",
      "Training:  72%|███████████████████████████████████████████████████████████████████████████████████████████████████▉                                      | 1330/1836 [05:59<02:11,  3.84it/s]Corrupt JPEG data: 1 extraneous bytes before marker 0xd9\n",
      "Training:  73%|████████████████████████████████████████████████████████████████████████████████████████████████████▌                                     | 1338/1836 [06:05<01:58,  4.21it/s]Corrupt JPEG data: 1 extraneous bytes before marker 0xd9\n",
      "Training: 100%|██████████████████████████████████████████████████████████████████████████████████████████████████████████████████████████████████████████| 1836/1836 [12:04<00:00,  2.54it/s]\n"
     ]
    },
    {
     "name": "stdout",
     "output_type": "stream",
     "text": [
      "Total Loss  |Smoke Loss  |Fire Loss   \n",
      "------------ ------------ ------------\n",
      "34.224      |20.896      |13.328      \n",
      "\n"
     ]
    },
    {
     "name": "stderr",
     "output_type": "stream",
     "text": [
      "Validating: 100%|██████████████████████████████████████████████████████████████████████████████████████████████████████████████████████████████████████████| 380/380 [00:40<00:00,  9.37it/s]\n"
     ]
    },
    {
     "name": "stdout",
     "output_type": "stream",
     "text": [
      "Total Loss  |Smoke Loss  |Fire Loss   \n",
      "------------ ------------ ------------\n",
      "32.270      |19.728      |12.541      \n",
      "SMOKE -> Precision: 0.9249 - Recall: 0.7153 - Accuracy: 0.8384 - F1: 0.8067\n",
      "FIRE -> Precision: 0.9514 - Recall: 0.7851 - Accuracy: 0.9174 - F1: 0.8603\n",
      "\n",
      "Saving model with new best validation loss: 32.2697\n",
      "Model exported to ONNX: experiments/test_v04__imagenetQuant__w2a4_PerChannel_FixedPoint/onnx/BED_classifier__best_loss\n",
      "\n",
      "=== EPOCH 2/49 ===\n",
      "Learning Rate = 0.001\n",
      "\n"
     ]
    },
    {
     "name": "stderr",
     "output_type": "stream",
     "text": [
      "Training:  14%|███████████████████▍                                                                                                                       | 256/1836 [01:57<05:00,  5.26it/s]Corrupt JPEG data: 1 extraneous bytes before marker 0xd9\n",
      "Training:  26%|████████████████████████████████████                                                                                                       | 477/1836 [03:34<04:11,  5.40it/s]Corrupt JPEG data: 1 extraneous bytes before marker 0xd9\n",
      "Training:  41%|████████████████████████████████████████████████████████▋                                                                                  | 749/1836 [05:37<11:34,  1.56it/s]Warning: unknown JFIF revision number 32.23\n",
      "Training:  76%|████████████████████████████████████████████████████████████████████████████████████████████████████████▌                                 | 1391/1836 [10:27<01:08,  6.51it/s]Corrupt JPEG data: 1 extraneous bytes before marker 0xd9\n",
      "Training:  94%|██████████████████████████████████████████████████████████████████████████████████████████████████████████████████████████████████        | 1731/1836 [12:58<00:12,  8.20it/s]Corrupt JPEG data: 1 extraneous bytes before marker 0xd9\n",
      "Training: 100%|██████████████████████████████████████████████████████████████████████████████████████████████████████████████████████████████████████████| 1836/1836 [13:46<00:00,  2.22it/s]\n"
     ]
    },
    {
     "name": "stdout",
     "output_type": "stream",
     "text": [
      "Total Loss  |Smoke Loss  |Fire Loss   \n",
      "------------ ------------ ------------\n",
      "30.996      |19.260      |11.735      \n",
      "\n"
     ]
    },
    {
     "name": "stderr",
     "output_type": "stream",
     "text": [
      "Validating: 100%|██████████████████████████████████████████████████████████████████████████████████████████████████████████████████████████████████████████| 380/380 [00:39<00:00,  9.60it/s]\n"
     ]
    },
    {
     "name": "stdout",
     "output_type": "stream",
     "text": [
      "Total Loss  |Smoke Loss  |Fire Loss   \n",
      "------------ ------------ ------------\n",
      "31.767      |19.900      |11.867      \n",
      "SMOKE -> Precision: 0.8830 - Recall: 0.7635 - Accuracy: 0.8408 - F1: 0.8189\n",
      "FIRE -> Precision: 0.8419 - Recall: 0.9376 - Accuracy: 0.9227 - F1: 0.8872\n",
      "\n",
      "Saving model with new best validation loss: 31.7669\n",
      "Model exported to ONNX: experiments/test_v04__imagenetQuant__w2a4_PerChannel_FixedPoint/onnx/BED_classifier__best_loss\n",
      "Saving model with best Mean F1: 0.8530\n",
      "Model exported to ONNX: experiments/test_v04__imagenetQuant__w2a4_PerChannel_FixedPoint/onnx/BED_classifier__best_mean_F1\n",
      "\n",
      "=== EPOCH 3/49 ===\n",
      "Learning Rate = 0.001\n",
      "\n"
     ]
    },
    {
     "name": "stderr",
     "output_type": "stream",
     "text": [
      "Training:  39%|██████████████████████████████████████████████████████▋                                                                                    | 722/1836 [02:09<04:53,  3.79it/s]Corrupt JPEG data: 1 extraneous bytes before marker 0xd9\n",
      "Training:  40%|███████████████████████████████████████████████████████▋                                                                                   | 735/1836 [02:12<03:04,  5.98it/s]Warning: unknown JFIF revision number 32.23\n",
      "Training:  82%|█████████████████████████████████████████████████████████████████████████████████████████████████████████████████                         | 1505/1836 [04:28<01:06,  4.99it/s]Corrupt JPEG data: 1 extraneous bytes before marker 0xd9\n",
      "Training:  85%|█████████████████████████████████████████████████████████████████████████████████████████████████████████████████████                     | 1557/1836 [04:37<00:43,  6.43it/s]Corrupt JPEG data: 1 extraneous bytes before marker 0xd9\n",
      "Training:  95%|██████████████████████████████████████████████████████████████████████████████████████████████████████████████████████████████████▉       | 1742/1836 [05:10<00:12,  7.56it/s]Corrupt JPEG data: 1 extraneous bytes before marker 0xd9\n",
      "Training: 100%|██████████████████████████████████████████████████████████████████████████████████████████████████████████████████████████████████████████| 1836/1836 [05:26<00:00,  5.62it/s]\n"
     ]
    },
    {
     "name": "stdout",
     "output_type": "stream",
     "text": [
      "Total Loss  |Smoke Loss  |Fire Loss   \n",
      "------------ ------------ ------------\n",
      "29.044      |18.285      |10.759      \n",
      "\n"
     ]
    },
    {
     "name": "stderr",
     "output_type": "stream",
     "text": [
      "Validating: 100%|██████████████████████████████████████████████████████████████████████████████████████████████████████████████████████████████████████████| 380/380 [00:39<00:00,  9.69it/s]\n"
     ]
    },
    {
     "name": "stdout",
     "output_type": "stream",
     "text": [
      "Total Loss  |Smoke Loss  |Fire Loss   \n",
      "------------ ------------ ------------\n",
      "39.248      |24.359      |14.889      \n",
      "SMOKE -> Precision: 0.7743 - Recall: 0.8835 - Accuracy: 0.8237 - F1: 0.8253\n",
      "FIRE -> Precision: 0.8274 - Recall: 0.9512 - Accuracy: 0.9199 - F1: 0.8850\n",
      "Saving model with best Mean F1: 0.8552\n",
      "Model exported to ONNX: experiments/test_v04__imagenetQuant__w2a4_PerChannel_FixedPoint/onnx/BED_classifier__best_mean_F1\n",
      "\n",
      "=== EPOCH 4/49 ===\n",
      "Learning Rate = 0.001\n",
      "\n"
     ]
    },
    {
     "name": "stderr",
     "output_type": "stream",
     "text": [
      "Training:   3%|███▋                                                                                                                                        | 48/1836 [00:10<04:20,  6.86it/s]Warning: unknown JFIF revision number 32.23\n",
      "Training:  12%|████████████████                                                                                                                           | 212/1836 [00:38<03:35,  7.52it/s]Corrupt JPEG data: 1 extraneous bytes before marker 0xd9\n",
      "Training:  24%|█████████████████████████████████                                                                                                          | 437/1836 [01:18<02:53,  8.06it/s]Corrupt JPEG data: 1 extraneous bytes before marker 0xd9\n",
      "Training:  46%|████████████████████████████████████████████████████████████████                                                                           | 846/1836 [02:33<02:28,  6.66it/s]Corrupt JPEG data: 1 extraneous bytes before marker 0xd9\n",
      "Training:  69%|███████████████████████████████████████████████████████████████████████████████████████████████▏                                          | 1267/1836 [03:48<01:16,  7.49it/s]Corrupt JPEG data: 1 extraneous bytes before marker 0xd9\n",
      "Training: 100%|██████████████████████████████████████████████████████████████████████████████████████████████████████████████████████████████████████████| 1836/1836 [05:32<00:00,  5.53it/s]\n"
     ]
    },
    {
     "name": "stdout",
     "output_type": "stream",
     "text": [
      "Total Loss  |Smoke Loss  |Fire Loss   \n",
      "------------ ------------ ------------\n",
      "27.612      |17.543      |10.069      \n",
      "\n"
     ]
    },
    {
     "name": "stderr",
     "output_type": "stream",
     "text": [
      "Validating: 100%|██████████████████████████████████████████████████████████████████████████████████████████████████████████████████████████████████████████| 380/380 [00:39<00:00,  9.54it/s]\n"
     ]
    },
    {
     "name": "stdout",
     "output_type": "stream",
     "text": [
      "Total Loss  |Smoke Loss  |Fire Loss   \n",
      "------------ ------------ ------------\n",
      "36.937      |18.749      |18.187      \n",
      "SMOKE -> Precision: 0.8927 - Recall: 0.7928 - Accuracy: 0.8574 - F1: 0.8398\n",
      "FIRE -> Precision: 0.7623 - Recall: 0.9732 - Accuracy: 0.8929 - F1: 0.8549\n",
      "\n",
      "=== EPOCH 5/49 ===\n",
      "Learning Rate = 0.001\n",
      "\n"
     ]
    },
    {
     "name": "stderr",
     "output_type": "stream",
     "text": [
      "Training:   1%|█▋                                                                                                                                          | 22/1836 [00:05<05:28,  5.52it/s]Warning: unknown JFIF revision number 32.23\n",
      "Training:  35%|████████████████████████████████████████████████▊                                                                                          | 645/1836 [01:58<02:32,  7.83it/s]Corrupt JPEG data: 1 extraneous bytes before marker 0xd9\n",
      "Training:  58%|███████████████████████████████████████████████████████████████████████████████▋                                                          | 1060/1836 [03:14<01:50,  7.01it/s]Corrupt JPEG data: 1 extraneous bytes before marker 0xd9\n",
      "Training:  59%|█████████████████████████████████████████████████████████████████████████████████▉                                                        | 1090/1836 [03:19<02:06,  5.88it/s]Corrupt JPEG data: 1 extraneous bytes before marker 0xd9\n",
      "Training:  61%|████████████████████████████████████████████████████████████████████████████████████▎                                                     | 1122/1836 [03:24<01:28,  8.07it/s]Corrupt JPEG data: 1 extraneous bytes before marker 0xd9\n",
      "Training: 100%|██████████████████████████████████████████████████████████████████████████████████████████████████████████████████████████████████████████| 1836/1836 [05:32<00:00,  5.52it/s]\n"
     ]
    },
    {
     "name": "stdout",
     "output_type": "stream",
     "text": [
      "Total Loss  |Smoke Loss  |Fire Loss   \n",
      "------------ ------------ ------------\n",
      "26.763      |17.109      |9.654       \n",
      "\n"
     ]
    },
    {
     "name": "stderr",
     "output_type": "stream",
     "text": [
      "Validating: 100%|██████████████████████████████████████████████████████████████████████████████████████████████████████████████████████████████████████████| 380/380 [00:39<00:00,  9.65it/s]\n"
     ]
    },
    {
     "name": "stdout",
     "output_type": "stream",
     "text": [
      "Total Loss  |Smoke Loss  |Fire Loss   \n",
      "------------ ------------ ------------\n",
      "25.335      |17.556      |7.779       \n",
      "SMOKE -> Precision: 0.8811 - Recall: 0.8242 - Accuracy: 0.8647 - F1: 0.8517\n",
      "FIRE -> Precision: 0.9275 - Recall: 0.9465 - Accuracy: 0.9587 - F1: 0.9369\n",
      "\n",
      "Saving model with new best validation loss: 25.3350\n",
      "Model exported to ONNX: experiments/test_v04__imagenetQuant__w2a4_PerChannel_FixedPoint/onnx/BED_classifier__best_loss\n",
      "Saving model with best Mean F1: 0.8943\n",
      "Model exported to ONNX: experiments/test_v04__imagenetQuant__w2a4_PerChannel_FixedPoint/onnx/BED_classifier__best_mean_F1\n",
      "\n",
      "=== EPOCH 6/49 ===\n",
      "Learning Rate = 0.001\n",
      "\n"
     ]
    },
    {
     "name": "stderr",
     "output_type": "stream",
     "text": [
      "Training:  13%|█████████████████▋                                                                                                                         | 234/1836 [00:44<05:17,  5.05it/s]Corrupt JPEG data: 1 extraneous bytes before marker 0xd9\n",
      "Training:  40%|██████████████████████████████████████████████████████▉                                                                                    | 726/1836 [02:13<02:47,  6.62it/s]Warning: unknown JFIF revision number 32.23\n",
      "Training:  41%|█████████████████████████████████████████████████████████▏                                                                                 | 756/1836 [02:18<06:08,  2.93it/s]Corrupt JPEG data: 1 extraneous bytes before marker 0xd9\n",
      "Training:  66%|██████████████████████████████████████████████████████████████████████████████████████████▋                                               | 1207/1836 [03:40<01:36,  6.51it/s]Corrupt JPEG data: 1 extraneous bytes before marker 0xd9\n",
      "Training:  72%|██████████████████████████████████████████████████████████████████████████████████████████████████▉                                       | 1317/1836 [04:00<01:13,  7.05it/s]Corrupt JPEG data: 1 extraneous bytes before marker 0xd9\n",
      "Training: 100%|██████████████████████████████████████████████████████████████████████████████████████████████████████████████████████████████████████████| 1836/1836 [05:33<00:00,  5.50it/s]\n"
     ]
    },
    {
     "name": "stdout",
     "output_type": "stream",
     "text": [
      "Total Loss  |Smoke Loss  |Fire Loss   \n",
      "------------ ------------ ------------\n",
      "25.805      |16.515      |9.290       \n",
      "\n"
     ]
    },
    {
     "name": "stderr",
     "output_type": "stream",
     "text": [
      "Validating: 100%|██████████████████████████████████████████████████████████████████████████████████████████████████████████████████████████████████████████| 380/380 [00:39<00:00,  9.60it/s]\n"
     ]
    },
    {
     "name": "stdout",
     "output_type": "stream",
     "text": [
      "Total Loss  |Smoke Loss  |Fire Loss   \n",
      "------------ ------------ ------------\n",
      "26.372      |17.282      |9.090       \n",
      "SMOKE -> Precision: 0.9087 - Recall: 0.8038 - Accuracy: 0.8694 - F1: 0.8531\n",
      "FIRE -> Precision: 0.8818 - Recall: 0.9614 - Accuracy: 0.9457 - F1: 0.9199\n",
      "\n",
      "=== EPOCH 7/49 ===\n",
      "Learning Rate = 0.001\n",
      "\n"
     ]
    },
    {
     "name": "stderr",
     "output_type": "stream",
     "text": [
      "Training:   1%|█▏                                                                                                                                          | 15/1836 [00:04<05:32,  5.47it/s]Corrupt JPEG data: 1 extraneous bytes before marker 0xd9\n",
      "Training:  11%|███████████████▎                                                                                                                           | 203/1836 [00:37<04:12,  6.47it/s]Corrupt JPEG data: 1 extraneous bytes before marker 0xd9\n",
      "Training:  55%|████████████████████████████████████████████████████████████████████████████▏                                                             | 1014/1836 [03:03<01:49,  7.50it/s]Warning: unknown JFIF revision number 32.23\n",
      "Training:  75%|███████████████████████████████████████████████████████████████████████████████████████████████████████▏                                  | 1373/1836 [04:07<01:32,  4.99it/s]Corrupt JPEG data: 1 extraneous bytes before marker 0xd9\n",
      "Training:  78%|███████████████████████████████████████████████████████████████████████████████████████████████████████████▏                              | 1426/1836 [04:17<01:18,  5.25it/s]Corrupt JPEG data: 1 extraneous bytes before marker 0xd9\n",
      "Training: 100%|██████████████████████████████████████████████████████████████████████████████████████████████████████████████████████████████████████████| 1836/1836 [05:31<00:00,  5.54it/s]\n"
     ]
    },
    {
     "name": "stdout",
     "output_type": "stream",
     "text": [
      "Total Loss  |Smoke Loss  |Fire Loss   \n",
      "------------ ------------ ------------\n",
      "25.104      |16.030      |9.073       \n",
      "\n"
     ]
    },
    {
     "name": "stderr",
     "output_type": "stream",
     "text": [
      "Validating: 100%|██████████████████████████████████████████████████████████████████████████████████████████████████████████████████████████████████████████| 380/380 [00:38<00:00,  9.76it/s]\n"
     ]
    },
    {
     "name": "stdout",
     "output_type": "stream",
     "text": [
      "Total Loss  |Smoke Loss  |Fire Loss   \n",
      "------------ ------------ ------------\n",
      "24.007      |15.543      |8.465       \n",
      "SMOKE -> Precision: 0.9075 - Recall: 0.8317 - Accuracy: 0.8807 - F1: 0.8679\n",
      "FIRE -> Precision: 0.9671 - Recall: 0.8771 - Accuracy: 0.9505 - F1: 0.9199\n",
      "\n",
      "Saving model with new best validation loss: 24.0073\n",
      "Model exported to ONNX: experiments/test_v04__imagenetQuant__w2a4_PerChannel_FixedPoint/onnx/BED_classifier__best_loss\n",
      "\n",
      "=== EPOCH 8/49 ===\n",
      "Learning Rate = 0.001\n",
      "\n"
     ]
    },
    {
     "name": "stderr",
     "output_type": "stream",
     "text": [
      "Training:  20%|███████████████████████████▌                                                                                                               | 364/1836 [01:07<05:01,  4.89it/s]Corrupt JPEG data: 1 extraneous bytes before marker 0xd9\n",
      "Training:  44%|█████████████████████████████████████████████████████████████                                                                              | 806/1836 [02:28<04:04,  4.20it/s]Corrupt JPEG data: 1 extraneous bytes before marker 0xd9\n",
      "Training:  93%|████████████████████████████████████████████████████████████████████████████████████████████████████████████████████████████████▏         | 1706/1836 [05:08<00:16,  7.86it/s]Warning: unknown JFIF revision number 32.23\n",
      "Training:  95%|██████████████████████████████████████████████████████████████████████████████████████████████████████████████████████████████████▊       | 1740/1836 [05:15<00:26,  3.63it/s]Corrupt JPEG data: 1 extraneous bytes before marker 0xd9\n",
      "Training: 100%|█████████████████████████████████████████████████████████████████████████████████████████████████████████████████████████████████████████▎| 1827/1836 [05:31<00:01,  8.30it/s]Corrupt JPEG data: 1 extraneous bytes before marker 0xd9\n",
      "Training: 100%|██████████████████████████████████████████████████████████████████████████████████████████████████████████████████████████████████████████| 1836/1836 [05:32<00:00,  5.53it/s]\n"
     ]
    },
    {
     "name": "stdout",
     "output_type": "stream",
     "text": [
      "Total Loss  |Smoke Loss  |Fire Loss   \n",
      "------------ ------------ ------------\n",
      "24.639      |15.758      |8.880       \n",
      "\n"
     ]
    },
    {
     "name": "stderr",
     "output_type": "stream",
     "text": [
      "Validating: 100%|██████████████████████████████████████████████████████████████████████████████████████████████████████████████████████████████████████████| 380/380 [00:38<00:00,  9.79it/s]\n"
     ]
    },
    {
     "name": "stdout",
     "output_type": "stream",
     "text": [
      "Total Loss  |Smoke Loss  |Fire Loss   \n",
      "------------ ------------ ------------\n",
      "23.712      |15.889      |7.824       \n",
      "SMOKE -> Precision: 0.9268 - Recall: 0.8119 - Accuracy: 0.8811 - F1: 0.8656\n",
      "FIRE -> Precision: 0.9060 - Recall: 0.9619 - Accuracy: 0.9553 - F1: 0.9331\n",
      "\n",
      "Saving model with new best validation loss: 23.7124\n",
      "Model exported to ONNX: experiments/test_v04__imagenetQuant__w2a4_PerChannel_FixedPoint/onnx/BED_classifier__best_loss\n",
      "Saving model with best Mean F1: 0.8994\n",
      "Model exported to ONNX: experiments/test_v04__imagenetQuant__w2a4_PerChannel_FixedPoint/onnx/BED_classifier__best_mean_F1\n",
      "\n",
      "=== EPOCH 9/49 ===\n",
      "Learning Rate = 0.001\n",
      "\n"
     ]
    },
    {
     "name": "stderr",
     "output_type": "stream",
     "text": [
      "Training:  11%|███████████████▎                                                                                                                           | 203/1836 [00:37<05:47,  4.70it/s]Corrupt JPEG data: 1 extraneous bytes before marker 0xd9\n",
      "Training:  22%|██████████████████████████████▉                                                                                                            | 409/1836 [01:15<03:05,  7.68it/s]Corrupt JPEG data: 1 extraneous bytes before marker 0xd9\n",
      "Training:  35%|████████████████████████████████████████████████▏                                                                                          | 636/1836 [01:55<02:46,  7.21it/s]Corrupt JPEG data: 1 extraneous bytes before marker 0xd9\n",
      "Training:  79%|████████████████████████████████████████████████████████████████████████████████████████████████████████████▋                             | 1446/1836 [04:22<00:59,  6.61it/s]Warning: unknown JFIF revision number 32.23\n",
      "Training:  86%|██████████████████████████████████████████████████████████████████████████████████████████████████████████████████████▍                   | 1576/1836 [04:46<00:47,  5.48it/s]Corrupt JPEG data: 1 extraneous bytes before marker 0xd9\n",
      "Training: 100%|██████████████████████████████████████████████████████████████████████████████████████████████████████████████████████████████████████████| 1836/1836 [05:31<00:00,  5.54it/s]\n"
     ]
    },
    {
     "name": "stdout",
     "output_type": "stream",
     "text": [
      "Total Loss  |Smoke Loss  |Fire Loss   \n",
      "------------ ------------ ------------\n",
      "23.812      |15.086      |8.726       \n",
      "\n"
     ]
    },
    {
     "name": "stderr",
     "output_type": "stream",
     "text": [
      "Validating: 100%|██████████████████████████████████████████████████████████████████████████████████████████████████████████████████████████████████████████| 380/380 [00:38<00:00,  9.81it/s]\n"
     ]
    },
    {
     "name": "stdout",
     "output_type": "stream",
     "text": [
      "Total Loss  |Smoke Loss  |Fire Loss   \n",
      "------------ ------------ ------------\n",
      "23.430      |15.165      |8.265       \n",
      "SMOKE -> Precision: 0.8787 - Recall: 0.8898 - Accuracy: 0.8901 - F1: 0.8842\n",
      "FIRE -> Precision: 0.8917 - Recall: 0.9619 - Accuracy: 0.9498 - F1: 0.9255\n",
      "\n",
      "Saving model with new best validation loss: 23.4300\n",
      "Model exported to ONNX: experiments/test_v04__imagenetQuant__w2a4_PerChannel_FixedPoint/onnx/BED_classifier__best_loss\n",
      "Saving model with best Mean F1: 0.9048\n",
      "Model exported to ONNX: experiments/test_v04__imagenetQuant__w2a4_PerChannel_FixedPoint/onnx/BED_classifier__best_mean_F1\n",
      "\n",
      "=== EPOCH 10/49 ===\n",
      "Learning Rate = 0.001\n",
      "\n"
     ]
    },
    {
     "name": "stderr",
     "output_type": "stream",
     "text": [
      "Training:  25%|██████████████████████████████████▏                                                                                                        | 451/1836 [01:21<03:07,  7.39it/s]Corrupt JPEG data: 1 extraneous bytes before marker 0xd9\n",
      "Training:  64%|████████████████████████████████████████████████████████████████████████████████████████▊                                                 | 1182/1836 [03:34<01:56,  5.62it/s]Warning: unknown JFIF revision number 32.23\n",
      "Training:  67%|███████████████████████████████████████████████████████████████████████████████████████████▊                                              | 1222/1836 [03:40<02:22,  4.30it/s]Corrupt JPEG data: 1 extraneous bytes before marker 0xd9\n",
      "Training:  73%|█████████████████████████████████████████████████████████████████████████████████████████████████████                                     | 1344/1836 [04:02<01:26,  5.69it/s]Corrupt JPEG data: 1 extraneous bytes before marker 0xd9\n",
      "Training:  98%|███████████████████████████████████████████████████████████████████████████████████████████████████████████████████████████████████████▎  | 1800/1836 [05:25<00:04,  7.44it/s]Corrupt JPEG data: 1 extraneous bytes before marker 0xd9\n",
      "Training: 100%|██████████████████████████████████████████████████████████████████████████████████████████████████████████████████████████████████████████| 1836/1836 [05:30<00:00,  5.55it/s]\n"
     ]
    },
    {
     "name": "stdout",
     "output_type": "stream",
     "text": [
      "Total Loss  |Smoke Loss  |Fire Loss   \n",
      "------------ ------------ ------------\n",
      "23.279      |14.744      |8.534       \n",
      "\n"
     ]
    },
    {
     "name": "stderr",
     "output_type": "stream",
     "text": [
      "Validating: 100%|██████████████████████████████████████████████████████████████████████████████████████████████████████████████████████████████████████████| 380/380 [00:38<00:00,  9.88it/s]\n"
     ]
    },
    {
     "name": "stdout",
     "output_type": "stream",
     "text": [
      "Total Loss  |Smoke Loss  |Fire Loss   \n",
      "------------ ------------ ------------\n",
      "23.768      |15.713      |8.055       \n",
      "SMOKE -> Precision: 0.8936 - Recall: 0.8677 - Accuracy: 0.8889 - F1: 0.8804\n",
      "FIRE -> Precision: 0.9051 - Recall: 0.9555 - Accuracy: 0.9531 - F1: 0.9296\n",
      "Saving model with best Mean F1: 0.9050\n",
      "Model exported to ONNX: experiments/test_v04__imagenetQuant__w2a4_PerChannel_FixedPoint/onnx/BED_classifier__best_mean_F1\n",
      "\n",
      "=== EPOCH 11/49 ===\n",
      "Learning Rate = 0.001\n",
      "\n"
     ]
    },
    {
     "name": "stderr",
     "output_type": "stream",
     "text": [
      "Training:  15%|█████████████████████                                                                                                                      | 278/1836 [00:51<06:05,  4.26it/s]Corrupt JPEG data: 1 extraneous bytes before marker 0xd9\n",
      "Training:  21%|████████████████████████████▌                                                                                                              | 378/1836 [01:09<03:40,  6.63it/s]Corrupt JPEG data: 1 extraneous bytes before marker 0xd9\n",
      "Training:  21%|█████████████████████████████▍                                                                                                             | 389/1836 [01:11<03:07,  7.71it/s]Warning: unknown JFIF revision number 32.23\n",
      "Training:  28%|██████████████████████████████████████▌                                                                                                    | 509/1836 [01:32<02:53,  7.63it/s]Corrupt JPEG data: 1 extraneous bytes before marker 0xd9\n",
      "Training:  78%|███████████████████████████████████████████████████████████████████████████████████████████████████████████▊                              | 1434/1836 [04:21<00:55,  7.21it/s]Corrupt JPEG data: 1 extraneous bytes before marker 0xd9\n",
      "Training: 100%|██████████████████████████████████████████████████████████████████████████████████████████████████████████████████████████████████████████| 1836/1836 [05:34<00:00,  5.49it/s]\n"
     ]
    },
    {
     "name": "stdout",
     "output_type": "stream",
     "text": [
      "Total Loss  |Smoke Loss  |Fire Loss   \n",
      "------------ ------------ ------------\n",
      "22.972      |14.478      |8.494       \n",
      "\n"
     ]
    },
    {
     "name": "stderr",
     "output_type": "stream",
     "text": [
      "Validating: 100%|██████████████████████████████████████████████████████████████████████████████████████████████████████████████████████████████████████████| 380/380 [00:38<00:00,  9.78it/s]\n"
     ]
    },
    {
     "name": "stdout",
     "output_type": "stream",
     "text": [
      "Total Loss  |Smoke Loss  |Fire Loss   \n",
      "------------ ------------ ------------\n",
      "20.512      |14.099      |6.412       \n",
      "SMOKE -> Precision: 0.9120 - Recall: 0.8727 - Accuracy: 0.9003 - F1: 0.8919\n",
      "FIRE -> Precision: 0.9392 - Recall: 0.9527 - Accuracy: 0.9647 - F1: 0.9459\n",
      "\n",
      "Saving model with new best validation loss: 20.5118\n",
      "Model exported to ONNX: experiments/test_v04__imagenetQuant__w2a4_PerChannel_FixedPoint/onnx/BED_classifier__best_loss\n",
      "Saving model with best Mean F1: 0.9189\n",
      "Model exported to ONNX: experiments/test_v04__imagenetQuant__w2a4_PerChannel_FixedPoint/onnx/BED_classifier__best_mean_F1\n",
      "\n",
      "=== EPOCH 12/49 ===\n",
      "Learning Rate = 0.001\n",
      "\n"
     ]
    },
    {
     "name": "stderr",
     "output_type": "stream",
     "text": [
      "Training:  16%|██████████████████████▍                                                                                                                    | 297/1836 [00:53<03:30,  7.32it/s]Corrupt JPEG data: 1 extraneous bytes before marker 0xd9\n",
      "Training:  32%|████████████████████████████████████████████▎                                                                                              | 585/1836 [01:45<03:45,  5.56it/s]Corrupt JPEG data: 1 extraneous bytes before marker 0xd9\n",
      "Training:  40%|██████████████████████████████████████████████████████▉                                                                                    | 726/1836 [02:11<02:19,  7.98it/s]Corrupt JPEG data: 1 extraneous bytes before marker 0xd9\n",
      "Training:  72%|███████████████████████████████████████████████████████████████████████████████████████████████████▌                                      | 1325/1836 [03:58<01:39,  5.15it/s]Corrupt JPEG data: 1 extraneous bytes before marker 0xd9\n",
      "Training:  86%|██████████████████████████████████████████████████████████████████████████████████████████████████████████████████████▊                   | 1581/1836 [04:45<00:31,  8.13it/s]Warning: unknown JFIF revision number 32.23\n",
      "Training: 100%|██████████████████████████████████████████████████████████████████████████████████████████████████████████████████████████████████████████| 1836/1836 [05:28<00:00,  5.59it/s]\n"
     ]
    },
    {
     "name": "stdout",
     "output_type": "stream",
     "text": [
      "Total Loss  |Smoke Loss  |Fire Loss   \n",
      "------------ ------------ ------------\n",
      "22.735      |14.308      |8.427       \n",
      "\n"
     ]
    },
    {
     "name": "stderr",
     "output_type": "stream",
     "text": [
      "Validating: 100%|██████████████████████████████████████████████████████████████████████████████████████████████████████████████████████████████████████████| 380/380 [00:38<00:00,  9.82it/s]\n"
     ]
    },
    {
     "name": "stdout",
     "output_type": "stream",
     "text": [
      "Total Loss  |Smoke Loss  |Fire Loss   \n",
      "------------ ------------ ------------\n",
      "24.381      |15.880      |8.501       \n",
      "SMOKE -> Precision: 0.8899 - Recall: 0.8428 - Accuracy: 0.8768 - F1: 0.8657\n",
      "FIRE -> Precision: 0.9431 - Recall: 0.9025 - Accuracy: 0.9507 - F1: 0.9223\n",
      "\n",
      "=== EPOCH 13/49 ===\n",
      "Learning Rate = 0.001\n",
      "\n"
     ]
    },
    {
     "name": "stderr",
     "output_type": "stream",
     "text": [
      "Training:  13%|█████████████████▋                                                                                                                         | 234/1836 [00:44<06:13,  4.29it/s]Corrupt JPEG data: 1 extraneous bytes before marker 0xd9\n",
      "Training:  86%|██████████████████████████████████████████████████████████████████████████████████████████████████████████████████████▎                   | 1574/1836 [04:43<00:47,  5.49it/s]Corrupt JPEG data: 1 extraneous bytes before marker 0xd9\n",
      "Training:  91%|████████████████████████████████████████████████████████████████████████████████████████████████████████████████████████████▉             | 1662/1836 [04:59<00:24,  7.08it/s]Corrupt JPEG data: 1 extraneous bytes before marker 0xd9\n",
      "Training:  95%|██████████████████████████████████████████████████████████████████████████████████████████████████████████████████████████████████▋       | 1739/1836 [05:13<00:42,  2.28it/s]Corrupt JPEG data: 1 extraneous bytes before marker 0xd9\n",
      "Training:  97%|█████████████████████████████████████████████████████████████████████████████████████████████████████████████████████████████████████▉    | 1782/1836 [05:20<00:11,  4.56it/s]Warning: unknown JFIF revision number 32.23\n",
      "Training: 100%|██████████████████████████████████████████████████████████████████████████████████████████████████████████████████████████████████████████| 1836/1836 [05:29<00:00,  5.57it/s]\n"
     ]
    },
    {
     "name": "stdout",
     "output_type": "stream",
     "text": [
      "Total Loss  |Smoke Loss  |Fire Loss   \n",
      "------------ ------------ ------------\n",
      "22.484      |14.140      |8.344       \n",
      "\n"
     ]
    },
    {
     "name": "stderr",
     "output_type": "stream",
     "text": [
      "Validating: 100%|██████████████████████████████████████████████████████████████████████████████████████████████████████████████████████████████████████████| 380/380 [00:39<00:00,  9.63it/s]\n"
     ]
    },
    {
     "name": "stdout",
     "output_type": "stream",
     "text": [
      "Total Loss  |Smoke Loss  |Fire Loss   \n",
      "------------ ------------ ------------\n",
      "22.140      |14.055      |8.086       \n",
      "SMOKE -> Precision: 0.9382 - Recall: 0.8295 - Accuracy: 0.8939 - F1: 0.8805\n",
      "FIRE -> Precision: 0.8953 - Recall: 0.9688 - Accuracy: 0.9532 - F1: 0.9306\n",
      "\n",
      "=== EPOCH 14/49 ===\n",
      "Learning Rate = 0.001\n",
      "\n"
     ]
    },
    {
     "name": "stderr",
     "output_type": "stream",
     "text": [
      "Training:  17%|███████████████████████▉                                                                                                                   | 317/1836 [00:59<03:39,  6.93it/s]Corrupt JPEG data: 1 extraneous bytes before marker 0xd9\n",
      "Training:  41%|█████████████████████████████████████████████████████████▍                                                                                 | 758/1836 [02:17<04:10,  4.30it/s]Corrupt JPEG data: 1 extraneous bytes before marker 0xd9\n",
      "Training:  47%|█████████████████████████████████████████████████████████████████▌                                                                         | 866/1836 [02:37<02:02,  7.95it/s]Warning: unknown JFIF revision number 32.23\n",
      "Training:  48%|██████████████████████████████████████████████████████████████████▊                                                                        | 882/1836 [02:39<01:51,  8.57it/s]Corrupt JPEG data: 1 extraneous bytes before marker 0xd9\n",
      "Training:  72%|██████████████████████████████████████████████████████████████████████████████████████████████████▊                                       | 1315/1836 [03:57<01:37,  5.32it/s]Corrupt JPEG data: 1 extraneous bytes before marker 0xd9\n",
      "Training: 100%|██████████████████████████████████████████████████████████████████████████████████████████████████████████████████████████████████████████| 1836/1836 [05:30<00:00,  5.55it/s]\n"
     ]
    },
    {
     "name": "stdout",
     "output_type": "stream",
     "text": [
      "Total Loss  |Smoke Loss  |Fire Loss   \n",
      "------------ ------------ ------------\n",
      "22.317      |14.018      |8.300       \n",
      "\n"
     ]
    },
    {
     "name": "stderr",
     "output_type": "stream",
     "text": [
      "Validating: 100%|██████████████████████████████████████████████████████████████████████████████████████████████████████████████████████████████████████████| 380/380 [00:39<00:00,  9.74it/s]\n"
     ]
    },
    {
     "name": "stdout",
     "output_type": "stream",
     "text": [
      "Total Loss  |Smoke Loss  |Fire Loss   \n",
      "------------ ------------ ------------\n",
      "23.034      |15.798      |7.236       \n",
      "SMOKE -> Precision: 0.8646 - Recall: 0.8986 - Accuracy: 0.8859 - F1: 0.8813\n",
      "FIRE -> Precision: 0.9335 - Recall: 0.9348 - Accuracy: 0.9573 - F1: 0.9342\n",
      "\n",
      "=== EPOCH 15/49 ===\n",
      "Learning Rate = 0.0008\n",
      "\n"
     ]
    },
    {
     "name": "stderr",
     "output_type": "stream",
     "text": [
      "Training:   1%|▊                                                                                                                                           | 10/1836 [00:03<08:06,  3.75it/s]Corrupt JPEG data: 1 extraneous bytes before marker 0xd9\n",
      "Training:   1%|█▌                                                                                                                                          | 21/1836 [00:05<05:00,  6.04it/s]Corrupt JPEG data: 1 extraneous bytes before marker 0xd9\n",
      "Training:  76%|█████████████████████████████████████████████████████████████████████████████████████████████████████████▏                                | 1399/1836 [04:12<01:50,  3.95it/s]Corrupt JPEG data: 1 extraneous bytes before marker 0xd9\n",
      "Training:  94%|█████████████████████████████████████████████████████████████████████████████████████████████████████████████████████████████████▏        | 1718/1836 [05:09<00:17,  6.90it/s]Corrupt JPEG data: 1 extraneous bytes before marker 0xd9\n",
      "Training:  94%|█████████████████████████████████████████████████████████████████████████████████████████████████████████████████████████████████▉        | 1729/1836 [05:12<00:25,  4.20it/s]Warning: unknown JFIF revision number 32.23\n",
      "Training: 100%|██████████████████████████████████████████████████████████████████████████████████████████████████████████████████████████████████████████| 1836/1836 [05:30<00:00,  5.56it/s]\n"
     ]
    },
    {
     "name": "stdout",
     "output_type": "stream",
     "text": [
      "Total Loss  |Smoke Loss  |Fire Loss   \n",
      "------------ ------------ ------------\n",
      "21.289      |13.341      |7.948       \n",
      "\n"
     ]
    },
    {
     "name": "stderr",
     "output_type": "stream",
     "text": [
      "Validating: 100%|██████████████████████████████████████████████████████████████████████████████████████████████████████████████████████████████████████████| 380/380 [00:39<00:00,  9.57it/s]\n"
     ]
    },
    {
     "name": "stdout",
     "output_type": "stream",
     "text": [
      "Total Loss  |Smoke Loss  |Fire Loss   \n",
      "------------ ------------ ------------\n",
      "22.192      |14.932      |7.259       \n",
      "SMOKE -> Precision: 0.8678 - Recall: 0.9135 - Accuracy: 0.8936 - F1: 0.8900\n",
      "FIRE -> Precision: 0.9300 - Recall: 0.9475 - Accuracy: 0.9599 - F1: 0.9387\n",
      "\n",
      "=== EPOCH 16/49 ===\n",
      "Learning Rate = 0.0008\n",
      "\n"
     ]
    },
    {
     "name": "stderr",
     "output_type": "stream",
     "text": [
      "Training:  25%|██████████████████████████████████                                                                                                         | 450/1836 [01:23<03:34,  6.47it/s]Corrupt JPEG data: 1 extraneous bytes before marker 0xd9\n",
      "Training:  28%|███████████████████████████████████████▌                                                                                                   | 522/1836 [01:36<03:09,  6.94it/s]Corrupt JPEG data: 1 extraneous bytes before marker 0xd9\n",
      "Training:  46%|███████████████████████████████████████████████████████████████▋                                                                           | 841/1836 [02:35<02:13,  7.45it/s]Corrupt JPEG data: 1 extraneous bytes before marker 0xd9\n",
      "Training:  73%|█████████████████████████████████████████████████████████████████████████████████████████████████████▏                                    | 1346/1836 [04:06<01:00,  8.08it/s]Warning: unknown JFIF revision number 32.23\n",
      "Training:  89%|███████████████████████████████████████████████████████████████████████████████████████████████████████████████████████████               | 1638/1836 [05:01<00:32,  6.00it/s]Corrupt JPEG data: 1 extraneous bytes before marker 0xd9\n",
      "Training: 100%|██████████████████████████████████████████████████████████████████████████████████████████████████████████████████████████████████████████| 1836/1836 [05:39<00:00,  5.41it/s]\n"
     ]
    },
    {
     "name": "stdout",
     "output_type": "stream",
     "text": [
      "Total Loss  |Smoke Loss  |Fire Loss   \n",
      "------------ ------------ ------------\n",
      "21.182      |13.263      |7.919       \n",
      "\n"
     ]
    },
    {
     "name": "stderr",
     "output_type": "stream",
     "text": [
      "Validating: 100%|██████████████████████████████████████████████████████████████████████████████████████████████████████████████████████████████████████████| 380/380 [00:40<00:00,  9.41it/s]\n"
     ]
    },
    {
     "name": "stdout",
     "output_type": "stream",
     "text": [
      "Total Loss  |Smoke Loss  |Fire Loss   \n",
      "------------ ------------ ------------\n",
      "19.255      |12.366      |6.890       \n",
      "SMOKE -> Precision: 0.9326 - Recall: 0.8673 - Accuracy: 0.9079 - F1: 0.8988\n",
      "FIRE -> Precision: 0.9164 - Recall: 0.9608 - Accuracy: 0.9589 - F1: 0.9381\n",
      "\n",
      "Saving model with new best validation loss: 19.2552\n",
      "Model exported to ONNX: experiments/test_v04__imagenetQuant__w2a4_PerChannel_FixedPoint/onnx/BED_classifier__best_loss\n",
      "\n",
      "=== EPOCH 17/49 ===\n",
      "Learning Rate = 0.0008\n",
      "\n"
     ]
    },
    {
     "name": "stderr",
     "output_type": "stream",
     "text": [
      "Training:  14%|███████████████████▌                                                                                                                       | 259/1836 [00:48<05:36,  4.69it/s]Corrupt JPEG data: 1 extraneous bytes before marker 0xd9\n",
      "Training:  15%|████████████████████▍                                                                                                                      | 270/1836 [00:50<03:41,  7.06it/s]Corrupt JPEG data: 1 extraneous bytes before marker 0xd9\n",
      "Training:  33%|█████████████████████████████████████████████▉                                                                                             | 607/1836 [01:51<03:01,  6.76it/s]Corrupt JPEG data: 1 extraneous bytes before marker 0xd9\n",
      "Training:  71%|██████████████████████████████████████████████████████████████████████████████████████████████████▌                                       | 1311/1836 [03:57<01:54,  4.58it/s]Corrupt JPEG data: 1 extraneous bytes before marker 0xd9\n",
      "Training:  73%|████████████████████████████████████████████████████████████████████████████████████████████████████▏                                     | 1333/1836 [04:02<01:26,  5.85it/s]Warning: unknown JFIF revision number 32.23\n",
      "Training: 100%|██████████████████████████████████████████████████████████████████████████████████████████████████████████████████████████████████████████| 1836/1836 [05:32<00:00,  5.51it/s]\n"
     ]
    },
    {
     "name": "stdout",
     "output_type": "stream",
     "text": [
      "Total Loss  |Smoke Loss  |Fire Loss   \n",
      "------------ ------------ ------------\n",
      "20.713      |12.946      |7.767       \n",
      "\n"
     ]
    },
    {
     "name": "stderr",
     "output_type": "stream",
     "text": [
      "Validating: 100%|██████████████████████████████████████████████████████████████████████████████████████████████████████████████████████████████████████████| 380/380 [00:39<00:00,  9.60it/s]\n"
     ]
    },
    {
     "name": "stdout",
     "output_type": "stream",
     "text": [
      "Total Loss  |Smoke Loss  |Fire Loss   \n",
      "------------ ------------ ------------\n",
      "24.332      |14.178      |10.153      \n",
      "SMOKE -> Precision: 0.9035 - Recall: 0.8709 - Accuracy: 0.8953 - F1: 0.8869\n",
      "FIRE -> Precision: 0.8505 - Recall: 0.9788 - Accuracy: 0.9374 - F1: 0.9102\n",
      "\n",
      "=== EPOCH 18/49 ===\n",
      "Learning Rate = 0.0008\n",
      "\n"
     ]
    },
    {
     "name": "stderr",
     "output_type": "stream",
     "text": [
      "Training:  16%|█████████████████████▉                                                                                                                     | 290/1836 [00:53<05:51,  4.39it/s]Corrupt JPEG data: 1 extraneous bytes before marker 0xd9\n",
      "Training:  24%|█████████████████████████████████▍                                                                                                         | 441/1836 [01:21<04:16,  5.44it/s]Corrupt JPEG data: 1 extraneous bytes before marker 0xd9\n",
      "Training:  39%|█████████████████████████████████████████████████████▌                                                                                     | 708/1836 [02:10<03:00,  6.24it/s]Corrupt JPEG data: 1 extraneous bytes before marker 0xd9\n",
      "Training:  86%|██████████████████████████████████████████████████████████████████████████████████████████████████████████████████████                    | 1570/1836 [04:49<00:34,  7.76it/s]Warning: unknown JFIF revision number 32.23\n",
      "Training:  97%|██████████████████████████████████████████████████████████████████████████████████████████████████████████████████████████████████████▏   | 1785/1836 [05:27<00:06,  7.47it/s]Corrupt JPEG data: 1 extraneous bytes before marker 0xd9\n",
      "Training: 100%|██████████████████████████████████████████████████████████████████████████████████████████████████████████████████████████████████████████| 1836/1836 [05:36<00:00,  5.46it/s]\n"
     ]
    },
    {
     "name": "stdout",
     "output_type": "stream",
     "text": [
      "Total Loss  |Smoke Loss  |Fire Loss   \n",
      "------------ ------------ ------------\n",
      "20.660      |12.965      |7.695       \n",
      "\n"
     ]
    },
    {
     "name": "stderr",
     "output_type": "stream",
     "text": [
      "Validating: 100%|██████████████████████████████████████████████████████████████████████████████████████████████████████████████████████████████████████████| 380/380 [00:39<00:00,  9.67it/s]\n"
     ]
    },
    {
     "name": "stdout",
     "output_type": "stream",
     "text": [
      "Total Loss  |Smoke Loss  |Fire Loss   \n",
      "------------ ------------ ------------\n",
      "24.587      |15.295      |9.292       \n",
      "SMOKE -> Precision: 0.8591 - Recall: 0.9145 - Accuracy: 0.8890 - F1: 0.8859\n",
      "FIRE -> Precision: 0.8703 - Recall: 0.9734 - Accuracy: 0.9443 - F1: 0.9189\n",
      "\n",
      "=== EPOCH 19/49 ===\n",
      "Learning Rate = 0.0008\n",
      "\n"
     ]
    },
    {
     "name": "stderr",
     "output_type": "stream",
     "text": [
      "Training:   0%|▏                                                                                                                                            | 3/1836 [00:02<16:14,  1.88it/s]Corrupt JPEG data: 1 extraneous bytes before marker 0xd9\n",
      "Training:  22%|███████████████████████████████▎                                                                                                           | 413/1836 [01:16<03:05,  7.65it/s]Corrupt JPEG data: 1 extraneous bytes before marker 0xd9\n",
      "Training:  23%|████████████████████████████████▎                                                                                                          | 426/1836 [01:19<04:10,  5.62it/s]Corrupt JPEG data: 1 extraneous bytes before marker 0xd9\n",
      "Training:  71%|█████████████████████████████████████████████████████████████████████████████████████████████████▊                                        | 1302/1836 [03:58<01:15,  7.06it/s]Warning: unknown JFIF revision number 32.23\n",
      "Training:  76%|████████████████████████████████████████████████████████████████████████████████████████████████████████▋                                 | 1392/1836 [04:13<01:01,  7.19it/s]Corrupt JPEG data: 1 extraneous bytes before marker 0xd9\n",
      "Training: 100%|██████████████████████████████████████████████████████████████████████████████████████████████████████████████████████████████████████████| 1836/1836 [05:32<00:00,  5.52it/s]\n"
     ]
    },
    {
     "name": "stdout",
     "output_type": "stream",
     "text": [
      "Total Loss  |Smoke Loss  |Fire Loss   \n",
      "------------ ------------ ------------\n",
      "20.571      |12.882      |7.690       \n",
      "\n"
     ]
    },
    {
     "name": "stderr",
     "output_type": "stream",
     "text": [
      "Validating: 100%|██████████████████████████████████████████████████████████████████████████████████████████████████████████████████████████████████████████| 380/380 [00:38<00:00,  9.79it/s]\n"
     ]
    },
    {
     "name": "stdout",
     "output_type": "stream",
     "text": [
      "Total Loss  |Smoke Loss  |Fire Loss   \n",
      "------------ ------------ ------------\n",
      "20.793      |13.450      |7.343       \n",
      "SMOKE -> Precision: 0.9248 - Recall: 0.8563 - Accuracy: 0.8994 - F1: 0.8892\n",
      "FIRE -> Precision: 0.8988 - Recall: 0.9710 - Accuracy: 0.9551 - F1: 0.9335\n",
      "\n",
      "=== EPOCH 20/49 ===\n",
      "Learning Rate = 0.00064\n",
      "\n"
     ]
    },
    {
     "name": "stderr",
     "output_type": "stream",
     "text": [
      "Training:   5%|███████▍                                                                                                                                    | 97/1836 [00:19<03:53,  7.43it/s]Corrupt JPEG data: 1 extraneous bytes before marker 0xd9\n",
      "Training:   8%|██████████▍                                                                                                                                | 138/1836 [00:27<07:08,  3.97it/s]Warning: unknown JFIF revision number 32.23\n",
      "Training:  19%|██████████████████████████▋                                                                                                                | 353/1836 [01:06<06:35,  3.75it/s]Corrupt JPEG data: 1 extraneous bytes before marker 0xd9\n",
      "Training:  27%|█████████████████████████████████████▌                                                                                                     | 496/1836 [01:32<03:00,  7.43it/s]Corrupt JPEG data: 1 extraneous bytes before marker 0xd9\n",
      "Training:  56%|█████████████████████████████████████████████████████████████████████████████▏                                                            | 1027/1836 [03:05<01:44,  7.77it/s]Corrupt JPEG data: 1 extraneous bytes before marker 0xd9\n",
      "Training: 100%|██████████████████████████████████████████████████████████████████████████████████████████████████████████████████████████████████████████| 1836/1836 [05:29<00:00,  5.56it/s]\n"
     ]
    },
    {
     "name": "stdout",
     "output_type": "stream",
     "text": [
      "Total Loss  |Smoke Loss  |Fire Loss   \n",
      "------------ ------------ ------------\n",
      "19.301      |12.085      |7.216       \n",
      "\n"
     ]
    },
    {
     "name": "stderr",
     "output_type": "stream",
     "text": [
      "Validating: 100%|██████████████████████████████████████████████████████████████████████████████████████████████████████████████████████████████████████████| 380/380 [00:39<00:00,  9.71it/s]\n"
     ]
    },
    {
     "name": "stdout",
     "output_type": "stream",
     "text": [
      "Total Loss  |Smoke Loss  |Fire Loss   \n",
      "------------ ------------ ------------\n",
      "22.935      |14.280      |8.655       \n",
      "SMOKE -> Precision: 0.9103 - Recall: 0.8744 - Accuracy: 0.9002 - F1: 0.8920\n",
      "FIRE -> Precision: 0.8795 - Recall: 0.9720 - Accuracy: 0.9477 - F1: 0.9234\n",
      "\n",
      "=== EPOCH 21/49 ===\n",
      "Learning Rate = 0.00064\n",
      "\n"
     ]
    },
    {
     "name": "stderr",
     "output_type": "stream",
     "text": [
      "Training:  29%|████████████████████████████████████████                                                                                                   | 529/1836 [01:36<03:08,  6.93it/s]Corrupt JPEG data: 1 extraneous bytes before marker 0xd9\n",
      "Training:  37%|███████████████████████████████████████████████████▋                                                                                       | 683/1836 [02:04<03:12,  6.00it/s]Corrupt JPEG data: 1 extraneous bytes before marker 0xd9\n",
      "Training:  51%|███████████████████████████████████████████████████████████████████████▏                                                                   | 941/1836 [02:50<02:00,  7.41it/s]Warning: unknown JFIF revision number 32.23\n",
      "Training:  64%|████████████████████████████████████████████████████████████████████████████████████████▌                                                 | 1178/1836 [03:32<01:30,  7.28it/s]Corrupt JPEG data: 1 extraneous bytes before marker 0xd9\n",
      "Training:  65%|██████████████████████████████████████████████████████████████████████████████████████████▎                                               | 1202/1836 [03:37<01:18,  8.06it/s]Corrupt JPEG data: 1 extraneous bytes before marker 0xd9\n",
      "Training: 100%|██████████████████████████████████████████████████████████████████████████████████████████████████████████████████████████████████████████| 1836/1836 [05:29<00:00,  5.58it/s]\n"
     ]
    },
    {
     "name": "stdout",
     "output_type": "stream",
     "text": [
      "Total Loss  |Smoke Loss  |Fire Loss   \n",
      "------------ ------------ ------------\n",
      "19.194      |12.024      |7.170       \n",
      "\n"
     ]
    },
    {
     "name": "stderr",
     "output_type": "stream",
     "text": [
      "Validating: 100%|██████████████████████████████████████████████████████████████████████████████████████████████████████████████████████████████████████████| 380/380 [00:38<00:00,  9.78it/s]\n"
     ]
    },
    {
     "name": "stdout",
     "output_type": "stream",
     "text": [
      "Total Loss  |Smoke Loss  |Fire Loss   \n",
      "------------ ------------ ------------\n",
      "18.826      |12.205      |6.622       \n",
      "SMOKE -> Precision: 0.9408 - Recall: 0.8671 - Accuracy: 0.9116 - F1: 0.9025\n",
      "FIRE -> Precision: 0.9120 - Recall: 0.9756 - Accuracy: 0.9616 - F1: 0.9428\n",
      "\n",
      "Saving model with new best validation loss: 18.8261\n",
      "Model exported to ONNX: experiments/test_v04__imagenetQuant__w2a4_PerChannel_FixedPoint/onnx/BED_classifier__best_loss\n",
      "Saving model with best Mean F1: 0.9226\n",
      "Model exported to ONNX: experiments/test_v04__imagenetQuant__w2a4_PerChannel_FixedPoint/onnx/BED_classifier__best_mean_F1\n",
      "\n",
      "=== EPOCH 22/49 ===\n",
      "Learning Rate = 0.00064\n",
      "\n"
     ]
    },
    {
     "name": "stderr",
     "output_type": "stream",
     "text": [
      "Training:   3%|███▌                                                                                                                                        | 47/1836 [00:10<05:08,  5.81it/s]Warning: unknown JFIF revision number 32.23\n",
      "Training:  58%|███████████████████████████████████████████████████████████████████████████████▎                                                          | 1056/1836 [03:12<02:28,  5.26it/s]Corrupt JPEG data: 1 extraneous bytes before marker 0xd9\n",
      "Training:  61%|████████████████████████████████████████████████████████████████████████████████████                                                      | 1118/1836 [03:23<01:37,  7.39it/s]Corrupt JPEG data: 1 extraneous bytes before marker 0xd9\n",
      "Training:  66%|███████████████████████████████████████████████████████████████████████████████████████████▏                                              | 1214/1836 [03:40<01:23,  7.44it/s]Corrupt JPEG data: 1 extraneous bytes before marker 0xd9\n",
      "Training:  77%|█████████████████████████████████████████████████████████████████████████████████████████████████████████▉                                | 1409/1836 [04:15<02:02,  3.48it/s]Corrupt JPEG data: 1 extraneous bytes before marker 0xd9\n",
      "Training: 100%|██████████████████████████████████████████████████████████████████████████████████████████████████████████████████████████████████████████| 1836/1836 [05:31<00:00,  5.54it/s]\n"
     ]
    },
    {
     "name": "stdout",
     "output_type": "stream",
     "text": [
      "Total Loss  |Smoke Loss  |Fire Loss   \n",
      "------------ ------------ ------------\n",
      "18.971      |11.856      |7.115       \n",
      "\n"
     ]
    },
    {
     "name": "stderr",
     "output_type": "stream",
     "text": [
      "Validating: 100%|██████████████████████████████████████████████████████████████████████████████████████████████████████████████████████████████████████████| 380/380 [00:39<00:00,  9.62it/s]\n"
     ]
    },
    {
     "name": "stdout",
     "output_type": "stream",
     "text": [
      "Total Loss  |Smoke Loss  |Fire Loss   \n",
      "------------ ------------ ------------\n",
      "18.810      |12.744      |6.066       \n",
      "SMOKE -> Precision: 0.8969 - Recall: 0.9149 - Accuracy: 0.9103 - F1: 0.9058\n",
      "FIRE -> Precision: 0.9571 - Recall: 0.9313 - Accuracy: 0.9642 - F1: 0.9440\n",
      "\n",
      "Saving model with new best validation loss: 18.8099\n",
      "Model exported to ONNX: experiments/test_v04__imagenetQuant__w2a4_PerChannel_FixedPoint/onnx/BED_classifier__best_loss\n",
      "Saving model with best Mean F1: 0.9249\n",
      "Model exported to ONNX: experiments/test_v04__imagenetQuant__w2a4_PerChannel_FixedPoint/onnx/BED_classifier__best_mean_F1\n",
      "\n",
      "=== EPOCH 23/49 ===\n",
      "Learning Rate = 0.00064\n",
      "\n"
     ]
    },
    {
     "name": "stderr",
     "output_type": "stream",
     "text": [
      "Training:  50%|█████████████████████████████████████████████████████████████████████▌                                                                     | 919/1836 [02:48<05:06,  2.99it/s]Warning: unknown JFIF revision number 32.23\n",
      "Training:  77%|██████████████████████████████████████████████████████████████████████████████████████████████████████████▌                               | 1417/1836 [04:19<01:20,  5.21it/s]Corrupt JPEG data: 1 extraneous bytes before marker 0xd9\n",
      "Training:  79%|█████████████████████████████████████████████████████████████████████████████████████████████████████████████▎                            | 1454/1836 [04:27<01:52,  3.40it/s]Corrupt JPEG data: 1 extraneous bytes before marker 0xd9\n",
      "Training:  88%|████████████████████████████████████████████████████████████████████████████████████████████████████████████████████████▊                 | 1608/1836 [04:57<00:47,  4.77it/s]Corrupt JPEG data: 1 extraneous bytes before marker 0xd9\n",
      "Training:  96%|████████████████████████████████████████████████████████████████████████████████████████████████████████████████████████████████████▏     | 1759/1836 [05:32<00:12,  6.34it/s]Corrupt JPEG data: 1 extraneous bytes before marker 0xd9\n",
      "Training: 100%|██████████████████████████████████████████████████████████████████████████████████████████████████████████████████████████████████████████| 1836/1836 [05:54<00:00,  5.17it/s]\n"
     ]
    },
    {
     "name": "stdout",
     "output_type": "stream",
     "text": [
      "Total Loss  |Smoke Loss  |Fire Loss   \n",
      "------------ ------------ ------------\n",
      "18.911      |11.793      |7.117       \n",
      "\n"
     ]
    },
    {
     "name": "stderr",
     "output_type": "stream",
     "text": [
      "Validating: 100%|██████████████████████████████████████████████████████████████████████████████████████████████████████████████████████████████████████████| 380/380 [00:51<00:00,  7.41it/s]\n"
     ]
    },
    {
     "name": "stdout",
     "output_type": "stream",
     "text": [
      "Total Loss  |Smoke Loss  |Fire Loss   \n",
      "------------ ------------ ------------\n",
      "18.413      |11.762      |6.650       \n",
      "SMOKE -> Precision: 0.9211 - Recall: 0.9050 - Accuracy: 0.9187 - F1: 0.9130\n",
      "FIRE -> Precision: 0.9048 - Recall: 0.9810 - Accuracy: 0.9604 - F1: 0.9413\n",
      "\n",
      "Saving model with new best validation loss: 18.4126\n",
      "Model exported to ONNX: experiments/test_v04__imagenetQuant__w2a4_PerChannel_FixedPoint/onnx/BED_classifier__best_loss\n",
      "\n",
      "Saving model with precision > 0.9 and recall > 0.9\n",
      "Model exported to ONNX: experiments/test_v04__imagenetQuant__w2a4_PerChannel_FixedPoint/onnx/BED_classifier__smoke__precision=0.9211__recall=0.905__epoch=23\n",
      "Saving model with best Mean F1: 0.9272\n",
      "Model exported to ONNX: experiments/test_v04__imagenetQuant__w2a4_PerChannel_FixedPoint/onnx/BED_classifier__best_mean_F1\n",
      "\n",
      "=== EPOCH 24/49 ===\n",
      "Learning Rate = 0.00064\n",
      "\n"
     ]
    },
    {
     "name": "stderr",
     "output_type": "stream",
     "text": [
      "Training:  15%|████████████████████▌                                                                                                                      | 272/1836 [05:26<11:31,  2.26it/s]Corrupt JPEG data: 1 extraneous bytes before marker 0xd9\n",
      "Training:  55%|███████████████████████████████████████████████████████████████████████████▋                                                              | 1007/1836 [22:06<10:09,  1.36it/s]Corrupt JPEG data: 1 extraneous bytes before marker 0xd9\n",
      "Training:  61%|███████████████████████████████████████████████████████████████████████████████████▋                                                      | 1114/1836 [24:23<04:34,  2.63it/s]Corrupt JPEG data: 1 extraneous bytes before marker 0xd9\n",
      "Training:  73%|████████████████████████████████████████████████████████████████████████████████████████████████████▍                                     | 1336/1836 [29:16<05:49,  1.43it/s]Corrupt JPEG data: 1 extraneous bytes before marker 0xd9\n",
      "Training: 100%|██████████████████████████████████████████████████████████████████████████████████████████████████████████████████████████████████████████| 1836/1836 [40:07<00:00,  1.31s/it]\n"
     ]
    },
    {
     "name": "stdout",
     "output_type": "stream",
     "text": [
      "Total Loss  |Smoke Loss  |Fire Loss   \n",
      "------------ ------------ ------------\n",
      "19.017      |11.981      |7.036       \n",
      "\n"
     ]
    },
    {
     "name": "stderr",
     "output_type": "stream",
     "text": [
      "Validating: 100%|██████████████████████████████████████████████████████████████████████████████████████████████████████████████████████████████████████████| 380/380 [08:32<00:00,  1.35s/it]\n"
     ]
    },
    {
     "name": "stdout",
     "output_type": "stream",
     "text": [
      "Total Loss  |Smoke Loss  |Fire Loss   \n",
      "------------ ------------ ------------\n",
      "20.930      |13.699      |7.231       \n",
      "SMOKE -> Precision: 0.8931 - Recall: 0.8966 - Accuracy: 0.9007 - F1: 0.8949\n",
      "FIRE -> Precision: 0.9023 - Recall: 0.9721 - Accuracy: 0.9568 - F1: 0.9359\n",
      "\n",
      "=== EPOCH 25/49 ===\n",
      "Learning Rate = 0.00064\n",
      "\n"
     ]
    },
    {
     "name": "stderr",
     "output_type": "stream",
     "text": [
      "Training:  13%|██████████████████                                                                                                                         | 238/1836 [00:45<04:36,  5.78it/s]Corrupt JPEG data: 1 extraneous bytes before marker 0xd9\n",
      "Training:  45%|██████████████████████████████████████████████████████████████▌                                                                            | 826/1836 [02:35<03:22,  5.00it/s]Warning: unknown JFIF revision number 32.23\n",
      "Training:  51%|███████████████████████████████████████████████████████████████████████▍                                                                   | 944/1836 [02:59<02:28,  6.02it/s]Corrupt JPEG data: 1 extraneous bytes before marker 0xd9\n",
      "Training:  65%|██████████████████████████████████████████████████████████████████████████████████████████▎                                               | 1202/1836 [03:45<01:20,  7.91it/s]Corrupt JPEG data: 1 extraneous bytes before marker 0xd9\n",
      "Training:  70%|█████████████████████████████████████████████████████████████████████████████████████████████████                                         | 1291/1836 [04:00<01:52,  4.84it/s]Corrupt JPEG data: 1 extraneous bytes before marker 0xd9\n",
      "Training: 100%|██████████████████████████████████████████████████████████████████████████████████████████████████████████████████████████████████████████| 1836/1836 [05:41<00:00,  5.38it/s]\n"
     ]
    },
    {
     "name": "stdout",
     "output_type": "stream",
     "text": [
      "Total Loss  |Smoke Loss  |Fire Loss   \n",
      "------------ ------------ ------------\n",
      "19.011      |11.888      |7.122       \n",
      "\n"
     ]
    },
    {
     "name": "stderr",
     "output_type": "stream",
     "text": [
      "Validating: 100%|██████████████████████████████████████████████████████████████████████████████████████████████████████████████████████████████████████████| 380/380 [00:40<00:00,  9.39it/s]\n"
     ]
    },
    {
     "name": "stdout",
     "output_type": "stream",
     "text": [
      "Total Loss  |Smoke Loss  |Fire Loss   \n",
      "------------ ------------ ------------\n",
      "20.147      |12.577      |7.570       \n",
      "SMOKE -> Precision: 0.9203 - Recall: 0.8886 - Accuracy: 0.9112 - F1: 0.9042\n",
      "FIRE -> Precision: 0.9140 - Recall: 0.9594 - Accuracy: 0.9576 - F1: 0.9361\n",
      "\n",
      "=== EPOCH 26/49 ===\n",
      "Learning Rate = 0.00064\n",
      "\n"
     ]
    },
    {
     "name": "stderr",
     "output_type": "stream",
     "text": [
      "Training:  12%|████████████████▎                                                                                                                          | 216/1836 [00:48<03:34,  7.56it/s]Warning: unknown JFIF revision number 32.23\n",
      "Training:  26%|███████████████████████████████████▋                                                                                                       | 471/1836 [01:36<03:28,  6.56it/s]Corrupt JPEG data: 1 extraneous bytes before marker 0xd9\n",
      "Training:  58%|████████████████████████████████████████████████████████████████████████████████▋                                                         | 1073/1836 [03:26<01:32,  8.26it/s]Corrupt JPEG data: 1 extraneous bytes before marker 0xd9\n",
      "Training:  64%|████████████████████████████████████████████████████████████████████████████████████████▉                                                 | 1183/1836 [03:47<01:23,  7.85it/s]Corrupt JPEG data: 1 extraneous bytes before marker 0xd9\n",
      "Training:  86%|██████████████████████████████████████████████████████████████████████████████████████████████████████████████████████▊                   | 1581/1836 [05:00<00:37,  6.78it/s]Corrupt JPEG data: 1 extraneous bytes before marker 0xd9\n",
      "Training: 100%|██████████████████████████████████████████████████████████████████████████████████████████████████████████████████████████████████████████| 1836/1836 [05:46<00:00,  5.30it/s]\n"
     ]
    },
    {
     "name": "stdout",
     "output_type": "stream",
     "text": [
      "Total Loss  |Smoke Loss  |Fire Loss   \n",
      "------------ ------------ ------------\n",
      "18.666      |11.702      |6.964       \n",
      "\n"
     ]
    },
    {
     "name": "stderr",
     "output_type": "stream",
     "text": [
      "Validating: 100%|██████████████████████████████████████████████████████████████████████████████████████████████████████████████████████████████████████████| 380/380 [00:39<00:00,  9.69it/s]\n"
     ]
    },
    {
     "name": "stdout",
     "output_type": "stream",
     "text": [
      "Total Loss  |Smoke Loss  |Fire Loss   \n",
      "------------ ------------ ------------\n",
      "23.669      |13.969      |9.700       \n",
      "SMOKE -> Precision: 0.8874 - Recall: 0.9076 - Accuracy: 0.9022 - F1: 0.8974\n",
      "FIRE -> Precision: 0.8610 - Recall: 0.9755 - Accuracy: 0.9410 - F1: 0.9147\n",
      "\n",
      "=== EPOCH 27/49 ===\n",
      "Learning Rate = 0.0005120000000000001\n",
      "\n"
     ]
    },
    {
     "name": "stderr",
     "output_type": "stream",
     "text": [
      "Training:   1%|█▎                                                                                                                                          | 18/1836 [00:04<05:28,  5.54it/s]Corrupt JPEG data: 1 extraneous bytes before marker 0xd9\n",
      "Training:  16%|██████████████████████▋                                                                                                                    | 300/1836 [00:56<06:36,  3.87it/s]Warning: unknown JFIF revision number 32.23\n",
      "Training:  68%|█████████████████████████████████████████████████████████████████████████████████████████████▉                                            | 1249/1836 [03:48<01:18,  7.51it/s]Corrupt JPEG data: 1 extraneous bytes before marker 0xd9\n",
      "Training:  88%|█████████████████████████████████████████████████████████████████████████████████████████████████████████████████████████▏                | 1612/1836 [04:53<00:28,  7.97it/s]Corrupt JPEG data: 1 extraneous bytes before marker 0xd9\n",
      "Training:  89%|███████████████████████████████████████████████████████████████████████████████████████████████████████████████████████████               | 1638/1836 [04:58<00:38,  5.21it/s]Corrupt JPEG data: 1 extraneous bytes before marker 0xd9\n",
      "Training: 100%|██████████████████████████████████████████████████████████████████████████████████████████████████████████████████████████████████████████| 1836/1836 [05:33<00:00,  5.51it/s]\n"
     ]
    },
    {
     "name": "stdout",
     "output_type": "stream",
     "text": [
      "Total Loss  |Smoke Loss  |Fire Loss   \n",
      "------------ ------------ ------------\n",
      "18.034      |11.286      |6.747       \n",
      "\n"
     ]
    },
    {
     "name": "stderr",
     "output_type": "stream",
     "text": [
      "Validating: 100%|██████████████████████████████████████████████████████████████████████████████████████████████████████████████████████████████████████████| 380/380 [00:39<00:00,  9.74it/s]\n"
     ]
    },
    {
     "name": "stdout",
     "output_type": "stream",
     "text": [
      "Total Loss  |Smoke Loss  |Fire Loss   \n",
      "------------ ------------ ------------\n",
      "19.107      |12.546      |6.561       \n",
      "SMOKE -> Precision: 0.9309 - Recall: 0.8715 - Accuracy: 0.9089 - F1: 0.9002\n",
      "FIRE -> Precision: 0.9261 - Recall: 0.9644 - Accuracy: 0.9635 - F1: 0.9448\n",
      "\n",
      "=== EPOCH 28/49 ===\n",
      "Learning Rate = 0.0005120000000000001\n",
      "\n"
     ]
    },
    {
     "name": "stderr",
     "output_type": "stream",
     "text": [
      "Training:   2%|██▋                                                                                                                                         | 35/1836 [00:08<06:11,  4.84it/s]Corrupt JPEG data: 1 extraneous bytes before marker 0xd9\n",
      "Training:   5%|███████▎                                                                                                                                    | 96/1836 [00:19<04:37,  6.27it/s]Warning: unknown JFIF revision number 32.23\n",
      "Training:  48%|██████████████████████████████████████████████████████████████████▉                                                                        | 884/1836 [02:39<02:23,  6.65it/s]Corrupt JPEG data: 1 extraneous bytes before marker 0xd9\n",
      "Training:  56%|████████████████████████████████████████████████████████████████████████████▉                                                             | 1023/1836 [03:04<01:44,  7.76it/s]Corrupt JPEG data: 1 extraneous bytes before marker 0xd9\n",
      "Training:  91%|█████████████████████████████████████████████████████████████████████████████████████████████████████████████████████████████             | 1664/1836 [05:00<00:49,  3.45it/s]Corrupt JPEG data: 1 extraneous bytes before marker 0xd9\n",
      "Training: 100%|██████████████████████████████████████████████████████████████████████████████████████████████████████████████████████████████████████████| 1836/1836 [05:29<00:00,  5.57it/s]\n"
     ]
    },
    {
     "name": "stdout",
     "output_type": "stream",
     "text": [
      "Total Loss  |Smoke Loss  |Fire Loss   \n",
      "------------ ------------ ------------\n",
      "17.869      |11.146      |6.723       \n",
      "\n"
     ]
    },
    {
     "name": "stderr",
     "output_type": "stream",
     "text": [
      "Validating: 100%|██████████████████████████████████████████████████████████████████████████████████████████████████████████████████████████████████████████| 380/380 [00:38<00:00,  9.79it/s]\n"
     ]
    },
    {
     "name": "stdout",
     "output_type": "stream",
     "text": [
      "Total Loss  |Smoke Loss  |Fire Loss   \n",
      "------------ ------------ ------------\n",
      "17.877      |11.600      |6.276       \n",
      "SMOKE -> Precision: 0.9267 - Recall: 0.9005 - Accuracy: 0.9195 - F1: 0.9134\n",
      "FIRE -> Precision: 0.9189 - Recall: 0.9749 - Accuracy: 0.9640 - F1: 0.9461\n",
      "\n",
      "Saving model with new best validation loss: 17.8766\n",
      "Model exported to ONNX: experiments/test_v04__imagenetQuant__w2a4_PerChannel_FixedPoint/onnx/BED_classifier__best_loss\n",
      "\n",
      "Saving model with precision > 0.9 and recall > 0.9\n",
      "Model exported to ONNX: experiments/test_v04__imagenetQuant__w2a4_PerChannel_FixedPoint/onnx/BED_classifier__smoke__precision=0.9267__recall=0.9005__epoch=28\n",
      "Saving model with best Mean F1: 0.9297\n",
      "Model exported to ONNX: experiments/test_v04__imagenetQuant__w2a4_PerChannel_FixedPoint/onnx/BED_classifier__best_mean_F1\n",
      "\n",
      "=== EPOCH 29/49 ===\n",
      "Learning Rate = 0.0005120000000000001\n",
      "\n"
     ]
    },
    {
     "name": "stderr",
     "output_type": "stream",
     "text": [
      "Training:  57%|██████████████████████████████████████████████████████████████████████████████▌                                                           | 1046/1836 [03:11<02:20,  5.61it/s]Corrupt JPEG data: 1 extraneous bytes before marker 0xd9\n",
      "Training:  58%|███████████████████████████████████████████████████████████████████████████████▎                                                          | 1056/1836 [03:12<01:50,  7.03it/s]Corrupt JPEG data: 1 extraneous bytes before marker 0xd9\n",
      "Training:  62%|█████████████████████████████████████████████████████████████████████████████████████▏                                                    | 1134/1836 [03:27<01:37,  7.17it/s]Warning: unknown JFIF revision number 32.23\n",
      "Training:  75%|████████████████████████████████████████████████████████████████████████████████████████████████████████                                  | 1385/1836 [04:10<01:00,  7.41it/s]Corrupt JPEG data: 1 extraneous bytes before marker 0xd9\n",
      "Training:  98%|██████████████████████████████████████████████████████████████████████████████████████████████████████████████████████████████████████▋   | 1792/1836 [05:23<00:05,  8.13it/s]Corrupt JPEG data: 1 extraneous bytes before marker 0xd9\n",
      "Training: 100%|██████████████████████████████████████████████████████████████████████████████████████████████████████████████████████████████████████████| 1836/1836 [05:30<00:00,  5.55it/s]\n"
     ]
    },
    {
     "name": "stdout",
     "output_type": "stream",
     "text": [
      "Total Loss  |Smoke Loss  |Fire Loss   \n",
      "------------ ------------ ------------\n",
      "17.904      |11.215      |6.689       \n",
      "\n"
     ]
    },
    {
     "name": "stderr",
     "output_type": "stream",
     "text": [
      "Validating: 100%|██████████████████████████████████████████████████████████████████████████████████████████████████████████████████████████████████████████| 380/380 [00:39<00:00,  9.72it/s]\n"
     ]
    },
    {
     "name": "stdout",
     "output_type": "stream",
     "text": [
      "Total Loss  |Smoke Loss  |Fire Loss   \n",
      "------------ ------------ ------------\n",
      "19.345      |11.180      |8.166       \n",
      "SMOKE -> Precision: 0.9257 - Recall: 0.9034 - Accuracy: 0.9203 - F1: 0.9145\n",
      "FIRE -> Precision: 0.8804 - Recall: 0.9793 - Accuracy: 0.9502 - F1: 0.9272\n",
      "\n",
      "Saving model with precision > 0.9 and recall > 0.9\n",
      "Model exported to ONNX: experiments/test_v04__imagenetQuant__w2a4_PerChannel_FixedPoint/onnx/BED_classifier__smoke__precision=0.9257__recall=0.9034__epoch=29\n",
      "\n",
      "=== EPOCH 30/49 ===\n",
      "Learning Rate = 0.0005120000000000001\n",
      "\n"
     ]
    },
    {
     "name": "stderr",
     "output_type": "stream",
     "text": [
      "Training:  10%|██████████████▍                                                                                                                            | 191/1836 [00:35<03:39,  7.48it/s]Warning: unknown JFIF revision number 32.23\n",
      "Training:  27%|████████████████████████████████████▉                                                                                                      | 488/1836 [01:29<02:50,  7.93it/s]Corrupt JPEG data: 1 extraneous bytes before marker 0xd9\n",
      "Training:  56%|█████████████████████████████████████████████████████████████████████████████▌                                                            | 1032/1836 [03:08<01:51,  7.20it/s]Corrupt JPEG data: 1 extraneous bytes before marker 0xd9\n",
      "Training:  65%|██████████████████████████████████████████████████████████████████████████████████████████▏                                               | 1200/1836 [03:38<02:00,  5.28it/s]Corrupt JPEG data: 1 extraneous bytes before marker 0xd9\n",
      "Training:  90%|████████████████████████████████████████████████████████████████████████████████████████████████████████████████████████████▏             | 1653/1836 [04:59<00:25,  7.07it/s]Corrupt JPEG data: 1 extraneous bytes before marker 0xd9\n",
      "Training: 100%|██████████████████████████████████████████████████████████████████████████████████████████████████████████████████████████████████████████| 1836/1836 [05:32<00:00,  5.53it/s]\n"
     ]
    },
    {
     "name": "stdout",
     "output_type": "stream",
     "text": [
      "Total Loss  |Smoke Loss  |Fire Loss   \n",
      "------------ ------------ ------------\n",
      "17.586      |11.050      |6.537       \n",
      "\n"
     ]
    },
    {
     "name": "stderr",
     "output_type": "stream",
     "text": [
      "Validating: 100%|██████████████████████████████████████████████████████████████████████████████████████████████████████████████████████████████████████████| 380/380 [00:39<00:00,  9.59it/s]\n"
     ]
    },
    {
     "name": "stdout",
     "output_type": "stream",
     "text": [
      "Total Loss  |Smoke Loss  |Fire Loss   \n",
      "------------ ------------ ------------\n",
      "18.920      |11.562      |7.358       \n",
      "SMOKE -> Precision: 0.9085 - Recall: 0.9251 - Accuracy: 0.9208 - F1: 0.9167\n",
      "FIRE -> Precision: 0.8927 - Recall: 0.9841 - Accuracy: 0.9565 - F1: 0.9362\n",
      "\n",
      "Saving model with precision > 0.9 and recall > 0.9\n",
      "Model exported to ONNX: experiments/test_v04__imagenetQuant__w2a4_PerChannel_FixedPoint/onnx/BED_classifier__smoke__precision=0.9085__recall=0.9251__epoch=30\n",
      "\n",
      "=== EPOCH 31/49 ===\n",
      "Learning Rate = 0.0005120000000000001\n",
      "\n"
     ]
    },
    {
     "name": "stderr",
     "output_type": "stream",
     "text": [
      "Training:   1%|█▍                                                                                                                                          | 19/1836 [00:05<06:53,  4.39it/s]Corrupt JPEG data: 1 extraneous bytes before marker 0xd9\n",
      "Training:  12%|█████████████████▎                                                                                                                         | 228/1836 [00:42<07:45,  3.45it/s]Corrupt JPEG data: 1 extraneous bytes before marker 0xd9\n",
      "Training:  25%|██████████████████████████████████▎                                                                                                        | 453/1836 [01:23<03:26,  6.71it/s]Corrupt JPEG data: 1 extraneous bytes before marker 0xd9\n",
      "Training:  37%|████████████████████████████████████████████████████                                                                                       | 687/1836 [02:04<02:32,  7.56it/s]Corrupt JPEG data: 1 extraneous bytes before marker 0xd9\n",
      "Training:  61%|████████████████████████████████████████████████████████████████████████████████████▊                                                     | 1128/1836 [03:25<01:29,  7.90it/s]Warning: unknown JFIF revision number 32.23\n",
      "Training: 100%|██████████████████████████████████████████████████████████████████████████████████████████████████████████████████████████████████████████| 1836/1836 [05:30<00:00,  5.55it/s]\n"
     ]
    },
    {
     "name": "stdout",
     "output_type": "stream",
     "text": [
      "Total Loss  |Smoke Loss  |Fire Loss   \n",
      "------------ ------------ ------------\n",
      "17.507      |10.893      |6.614       \n",
      "\n"
     ]
    },
    {
     "name": "stderr",
     "output_type": "stream",
     "text": [
      "Validating: 100%|██████████████████████████████████████████████████████████████████████████████████████████████████████████████████████████████████████████| 380/380 [00:39<00:00,  9.69it/s]\n"
     ]
    },
    {
     "name": "stdout",
     "output_type": "stream",
     "text": [
      "Total Loss  |Smoke Loss  |Fire Loss   \n",
      "------------ ------------ ------------\n",
      "18.351      |11.221      |7.129       \n",
      "SMOKE -> Precision: 0.9342 - Recall: 0.8942 - Accuracy: 0.9204 - F1: 0.9138\n",
      "FIRE -> Precision: 0.8980 - Recall: 0.9834 - Accuracy: 0.9584 - F1: 0.9387\n",
      "\n",
      "=== EPOCH 32/49 ===\n",
      "Learning Rate = 0.0004096000000000001\n",
      "\n"
     ]
    },
    {
     "name": "stderr",
     "output_type": "stream",
     "text": [
      "Training:  25%|██████████████████████████████████▊                                                                                                        | 459/1836 [01:24<03:01,  7.57it/s]Corrupt JPEG data: 1 extraneous bytes before marker 0xd9\n",
      "Training:  51%|██████████████████████████████████████████████████████████████████████▊                                                                    | 935/1836 [02:49<01:58,  7.61it/s]Corrupt JPEG data: 1 extraneous bytes before marker 0xd9\n",
      "Training:  64%|████████████████████████████████████████████████████████████████████████████████████████▉                                                 | 1184/1836 [03:35<01:25,  7.64it/s]Warning: unknown JFIF revision number 32.23\n",
      "Training:  82%|█████████████████████████████████████████████████████████████████████████████████████████████████████████████████▋                        | 1512/1836 [04:34<00:48,  6.75it/s]Corrupt JPEG data: 1 extraneous bytes before marker 0xd9\n",
      "Training:  85%|█████████████████████████████████████████████████████████████████████████████████████████████████████████████████████▍                    | 1563/1836 [04:45<00:45,  6.04it/s]Corrupt JPEG data: 1 extraneous bytes before marker 0xd9\n",
      "Training: 100%|██████████████████████████████████████████████████████████████████████████████████████████████████████████████████████████████████████████| 1836/1836 [05:33<00:00,  5.50it/s]\n"
     ]
    },
    {
     "name": "stdout",
     "output_type": "stream",
     "text": [
      "Total Loss  |Smoke Loss  |Fire Loss   \n",
      "------------ ------------ ------------\n",
      "17.127      |10.714      |6.413       \n",
      "\n"
     ]
    },
    {
     "name": "stderr",
     "output_type": "stream",
     "text": [
      "Validating: 100%|██████████████████████████████████████████████████████████████████████████████████████████████████████████████████████████████████████████| 380/380 [00:39<00:00,  9.68it/s]\n"
     ]
    },
    {
     "name": "stdout",
     "output_type": "stream",
     "text": [
      "Total Loss  |Smoke Loss  |Fire Loss   \n",
      "------------ ------------ ------------\n",
      "16.809      |10.928      |5.880       \n",
      "SMOKE -> Precision: 0.9390 - Recall: 0.8927 - Accuracy: 0.9221 - F1: 0.9153\n",
      "FIRE -> Precision: 0.9253 - Recall: 0.9677 - Accuracy: 0.9642 - F1: 0.9460\n",
      "\n",
      "Saving model with new best validation loss: 16.8086\n",
      "Model exported to ONNX: experiments/test_v04__imagenetQuant__w2a4_PerChannel_FixedPoint/onnx/BED_classifier__best_loss\n",
      "Saving model with best Mean F1: 0.9306\n",
      "Model exported to ONNX: experiments/test_v04__imagenetQuant__w2a4_PerChannel_FixedPoint/onnx/BED_classifier__best_mean_F1\n",
      "\n",
      "=== EPOCH 33/49 ===\n",
      "Learning Rate = 0.0004096000000000001\n",
      "\n"
     ]
    },
    {
     "name": "stderr",
     "output_type": "stream",
     "text": [
      "Training:  35%|█████████████████████████████████████████████████▎                                                                                         | 651/1836 [01:58<03:04,  6.42it/s]Corrupt JPEG data: 1 extraneous bytes before marker 0xd9\n",
      "Training:  68%|█████████████████████████████████████████████████████████████████████████████████████████████▏                                            | 1240/1836 [03:45<01:18,  7.57it/s]Corrupt JPEG data: 1 extraneous bytes before marker 0xd9\n",
      "Training:  69%|███████████████████████████████████████████████████████████████████████████████████████████████▏                                          | 1266/1836 [03:50<02:21,  4.03it/s]Corrupt JPEG data: 1 extraneous bytes before marker 0xd9\n",
      "Training:  79%|█████████████████████████████████████████████████████████████████████████████████████████████████████████████▍                            | 1456/1836 [04:24<01:15,  5.01it/s]Corrupt JPEG data: 1 extraneous bytes before marker 0xd9\n",
      "Training:  89%|██████████████████████████████████████████████████████████████████████████████████████████████████████████████████████████▎               | 1628/1836 [04:56<00:33,  6.17it/s]Warning: unknown JFIF revision number 32.23\n",
      "Training: 100%|██████████████████████████████████████████████████████████████████████████████████████████████████████████████████████████████████████████| 1836/1836 [05:32<00:00,  5.52it/s]\n"
     ]
    },
    {
     "name": "stdout",
     "output_type": "stream",
     "text": [
      "Total Loss  |Smoke Loss  |Fire Loss   \n",
      "------------ ------------ ------------\n",
      "16.978      |10.623      |6.355       \n",
      "\n"
     ]
    },
    {
     "name": "stderr",
     "output_type": "stream",
     "text": [
      "Validating: 100%|██████████████████████████████████████████████████████████████████████████████████████████████████████████████████████████████████████████| 380/380 [00:39<00:00,  9.73it/s]\n"
     ]
    },
    {
     "name": "stdout",
     "output_type": "stream",
     "text": [
      "Total Loss  |Smoke Loss  |Fire Loss   \n",
      "------------ ------------ ------------\n",
      "16.764      |10.980      |5.784       \n",
      "SMOKE -> Precision: 0.9244 - Recall: 0.9105 - Accuracy: 0.9227 - F1: 0.9174\n",
      "FIRE -> Precision: 0.9411 - Recall: 0.9602 - Accuracy: 0.9676 - F1: 0.9505\n",
      "\n",
      "Saving model with new best validation loss: 16.7640\n",
      "Model exported to ONNX: experiments/test_v04__imagenetQuant__w2a4_PerChannel_FixedPoint/onnx/BED_classifier__best_loss\n",
      "\n",
      "Saving model with precision > 0.9 and recall > 0.9\n",
      "Model exported to ONNX: experiments/test_v04__imagenetQuant__w2a4_PerChannel_FixedPoint/onnx/BED_classifier__smoke__precision=0.9244__recall=0.9105__epoch=33\n",
      "Saving model with best Mean F1: 0.9340\n",
      "Model exported to ONNX: experiments/test_v04__imagenetQuant__w2a4_PerChannel_FixedPoint/onnx/BED_classifier__best_mean_F1\n",
      "\n",
      "=== EPOCH 34/49 ===\n",
      "Learning Rate = 0.0004096000000000001\n",
      "\n"
     ]
    },
    {
     "name": "stderr",
     "output_type": "stream",
     "text": [
      "Training:   1%|█▉                                                                                                                                          | 25/1836 [00:05<04:06,  7.35it/s]Corrupt JPEG data: 1 extraneous bytes before marker 0xd9\n",
      "Training:  10%|██████████████▍                                                                                                                            | 190/1836 [00:35<03:42,  7.40it/s]Corrupt JPEG data: 1 extraneous bytes before marker 0xd9\n",
      "Training:  21%|█████████████████████████████▏                                                                                                             | 385/1836 [01:10<03:09,  7.66it/s]Corrupt JPEG data: 1 extraneous bytes before marker 0xd9\n",
      "Training:  37%|███████████████████████████████████████████████████▊                                                                                       | 684/1836 [02:04<03:37,  5.30it/s]Warning: unknown JFIF revision number 32.23\n",
      "Training:  39%|██████████████████████████████████████████████████████▌                                                                                    | 720/1836 [02:11<02:32,  7.31it/s]Corrupt JPEG data: 1 extraneous bytes before marker 0xd9\n",
      "Training: 100%|██████████████████████████████████████████████████████████████████████████████████████████████████████████████████████████████████████████| 1836/1836 [05:31<00:00,  5.54it/s]\n"
     ]
    },
    {
     "name": "stdout",
     "output_type": "stream",
     "text": [
      "Total Loss  |Smoke Loss  |Fire Loss   \n",
      "------------ ------------ ------------\n",
      "17.030      |10.689      |6.341       \n",
      "\n"
     ]
    },
    {
     "name": "stderr",
     "output_type": "stream",
     "text": [
      "Validating: 100%|██████████████████████████████████████████████████████████████████████████████████████████████████████████████████████████████████████████| 380/380 [00:39<00:00,  9.63it/s]\n"
     ]
    },
    {
     "name": "stdout",
     "output_type": "stream",
     "text": [
      "Total Loss  |Smoke Loss  |Fire Loss   \n",
      "------------ ------------ ------------\n",
      "19.481      |12.964      |6.517       \n",
      "SMOKE -> Precision: 0.9579 - Recall: 0.8276 - Accuracy: 0.9016 - F1: 0.8880\n",
      "FIRE -> Precision: 0.9064 - Recall: 0.9849 - Accuracy: 0.9621 - F1: 0.9440\n",
      "\n",
      "=== EPOCH 35/49 ===\n",
      "Learning Rate = 0.0004096000000000001\n",
      "\n"
     ]
    },
    {
     "name": "stderr",
     "output_type": "stream",
     "text": [
      "Training:   3%|████▎                                                                                                                                       | 57/1836 [00:11<03:59,  7.44it/s]Corrupt JPEG data: 1 extraneous bytes before marker 0xd9\n",
      "Training:  20%|████████████████████████████                                                                                                               | 371/1836 [01:07<02:56,  8.29it/s]Warning: unknown JFIF revision number 32.23\n",
      "Training:  33%|█████████████████████████████████████████████▍                                                                                             | 600/1836 [01:49<04:57,  4.15it/s]Corrupt JPEG data: 1 extraneous bytes before marker 0xd9\n",
      "Training:  51%|███████████████████████████████████████████████████████████████████████▍                                                                   | 944/1836 [02:51<02:57,  5.02it/s]Corrupt JPEG data: 1 extraneous bytes before marker 0xd9\n",
      "Training:  75%|███████████████████████████████████████████████████████████████████████████████████████████████████████▎                                  | 1375/1836 [04:10<02:09,  3.56it/s]Corrupt JPEG data: 1 extraneous bytes before marker 0xd9\n",
      "Training: 100%|██████████████████████████████████████████████████████████████████████████████████████████████████████████████████████████████████████████| 1836/1836 [05:32<00:00,  5.51it/s]\n"
     ]
    },
    {
     "name": "stdout",
     "output_type": "stream",
     "text": [
      "Total Loss  |Smoke Loss  |Fire Loss   \n",
      "------------ ------------ ------------\n",
      "16.749      |10.542      |6.206       \n",
      "\n"
     ]
    },
    {
     "name": "stderr",
     "output_type": "stream",
     "text": [
      "Validating: 100%|██████████████████████████████████████████████████████████████████████████████████████████████████████████████████████████████████████████| 380/380 [00:39<00:00,  9.67it/s]\n"
     ]
    },
    {
     "name": "stdout",
     "output_type": "stream",
     "text": [
      "Total Loss  |Smoke Loss  |Fire Loss   \n",
      "------------ ------------ ------------\n",
      "16.027      |10.498      |5.529       \n",
      "SMOKE -> Precision: 0.9409 - Recall: 0.9020 - Accuracy: 0.9271 - F1: 0.9210\n",
      "FIRE -> Precision: 0.9428 - Recall: 0.9644 - Accuracy: 0.9695 - F1: 0.9535\n",
      "\n",
      "Saving model with new best validation loss: 16.0271\n",
      "Model exported to ONNX: experiments/test_v04__imagenetQuant__w2a4_PerChannel_FixedPoint/onnx/BED_classifier__best_loss\n",
      "\n",
      "Saving model with precision > 0.9 and recall > 0.9\n",
      "Model exported to ONNX: experiments/test_v04__imagenetQuant__w2a4_PerChannel_FixedPoint/onnx/BED_classifier__smoke__precision=0.9409__recall=0.902__epoch=35\n",
      "Saving model with best Mean F1: 0.9372\n",
      "Model exported to ONNX: experiments/test_v04__imagenetQuant__w2a4_PerChannel_FixedPoint/onnx/BED_classifier__best_mean_F1\n",
      "\n",
      "=== EPOCH 36/49 ===\n",
      "Learning Rate = 0.0004096000000000001\n",
      "\n"
     ]
    },
    {
     "name": "stderr",
     "output_type": "stream",
     "text": [
      "Training:  27%|█████████████████████████████████████▏                                                                                                     | 492/1836 [01:31<03:29,  6.42it/s]Corrupt JPEG data: 1 extraneous bytes before marker 0xd9\n",
      "Training:  28%|███████████████████████████████████████▏                                                                                                   | 518/1836 [01:36<03:38,  6.04it/s]Warning: unknown JFIF revision number 32.23\n",
      "Training:  38%|████████████████████████████████████████████████████▊                                                                                      | 697/1836 [02:08<02:28,  7.68it/s]Corrupt JPEG data: 1 extraneous bytes before marker 0xd9\n",
      "Training:  76%|█████████████████████████████████████████████████████████████████████████████████████████████████████████▌                                | 1404/1836 [04:14<01:07,  6.44it/s]Corrupt JPEG data: 1 extraneous bytes before marker 0xd9\n",
      "Training:  93%|████████████████████████████████████████████████████████████████████████████████████████████████████████████████████████████████▊         | 1714/1836 [05:11<00:25,  4.75it/s]Corrupt JPEG data: 1 extraneous bytes before marker 0xd9\n",
      "Training: 100%|██████████████████████████████████████████████████████████████████████████████████████████████████████████████████████████████████████████| 1836/1836 [05:31<00:00,  5.53it/s]\n"
     ]
    },
    {
     "name": "stdout",
     "output_type": "stream",
     "text": [
      "Total Loss  |Smoke Loss  |Fire Loss   \n",
      "------------ ------------ ------------\n",
      "16.784      |10.493      |6.291       \n",
      "\n"
     ]
    },
    {
     "name": "stderr",
     "output_type": "stream",
     "text": [
      "Validating: 100%|██████████████████████████████████████████████████████████████████████████████████████████████████████████████████████████████████████████| 380/380 [00:39<00:00,  9.73it/s]\n"
     ]
    },
    {
     "name": "stdout",
     "output_type": "stream",
     "text": [
      "Total Loss  |Smoke Loss  |Fire Loss   \n",
      "------------ ------------ ------------\n",
      "17.652      |12.670      |4.982       \n",
      "SMOKE -> Precision: 0.8987 - Recall: 0.9105 - Accuracy: 0.9094 - F1: 0.9046\n",
      "FIRE -> Precision: 0.9519 - Recall: 0.9630 - Accuracy: 0.9722 - F1: 0.9574\n",
      "\n",
      "=== EPOCH 37/49 ===\n",
      "Learning Rate = 0.0004096000000000001\n",
      "\n"
     ]
    },
    {
     "name": "stderr",
     "output_type": "stream",
     "text": [
      "Training:   9%|████████████▊                                                                                                                              | 170/1836 [00:31<04:01,  6.90it/s]Warning: unknown JFIF revision number 32.23\n",
      "Training:  45%|██████████████████████████████████████████████████████████████▉                                                                            | 832/1836 [02:32<02:41,  6.21it/s]Corrupt JPEG data: 1 extraneous bytes before marker 0xd9\n",
      "Training:  66%|███████████████████████████████████████████████████████████████████████████████████████████▏                                              | 1213/1836 [03:39<01:24,  7.42it/s]Corrupt JPEG data: 1 extraneous bytes before marker 0xd9\n",
      "Training:  71%|█████████████████████████████████████████████████████████████████████████████████████████████████▎                                        | 1295/1836 [03:54<02:03,  4.38it/s]Corrupt JPEG data: 1 extraneous bytes before marker 0xd9\n",
      "Training:  80%|██████████████████████████████████████████████████████████████████████████████████████████████████████████████▌                           | 1471/1836 [04:25<01:33,  3.89it/s]Corrupt JPEG data: 1 extraneous bytes before marker 0xd9\n",
      "Training: 100%|██████████████████████████████████████████████████████████████████████████████████████████████████████████████████████████████████████████| 1836/1836 [05:31<00:00,  5.54it/s]\n"
     ]
    },
    {
     "name": "stdout",
     "output_type": "stream",
     "text": [
      "Total Loss  |Smoke Loss  |Fire Loss   \n",
      "------------ ------------ ------------\n",
      "16.727      |10.494      |6.232       \n",
      "\n"
     ]
    },
    {
     "name": "stderr",
     "output_type": "stream",
     "text": [
      "Validating: 100%|██████████████████████████████████████████████████████████████████████████████████████████████████████████████████████████████████████████| 380/380 [00:39<00:00,  9.59it/s]\n"
     ]
    },
    {
     "name": "stdout",
     "output_type": "stream",
     "text": [
      "Total Loss  |Smoke Loss  |Fire Loss   \n",
      "------------ ------------ ------------\n",
      "16.529      |10.426      |6.104       \n",
      "SMOKE -> Precision: 0.9389 - Recall: 0.9048 - Accuracy: 0.9274 - F1: 0.9216\n",
      "FIRE -> Precision: 0.9106 - Recall: 0.9798 - Accuracy: 0.9623 - F1: 0.9440\n",
      "\n",
      "Saving model with precision > 0.9 and recall > 0.9\n",
      "Model exported to ONNX: experiments/test_v04__imagenetQuant__w2a4_PerChannel_FixedPoint/onnx/BED_classifier__smoke__precision=0.9389__recall=0.9048__epoch=37\n",
      "\n",
      "=== EPOCH 38/49 ===\n",
      "Learning Rate = 0.0004096000000000001\n",
      "\n"
     ]
    },
    {
     "name": "stderr",
     "output_type": "stream",
     "text": [
      "Training:   6%|███████▊                                                                                                                                   | 104/1836 [00:19<03:27,  8.36it/s]Corrupt JPEG data: 1 extraneous bytes before marker 0xd9\n",
      "Training:  25%|██████████████████████████████████▊                                                                                                        | 459/1836 [01:23<03:49,  6.00it/s]Warning: unknown JFIF revision number 32.23\n",
      "Training:  28%|██████████████████████████████████████▍                                                                                                    | 508/1836 [01:32<02:52,  7.71it/s]Corrupt JPEG data: 1 extraneous bytes before marker 0xd9\n",
      "Training:  54%|██████████████████████████████████████████████████████████████████████████▋                                                                | 987/1836 [03:01<01:44,  8.10it/s]Corrupt JPEG data: 1 extraneous bytes before marker 0xd9\n",
      "Training:  96%|████████████████████████████████████████████████████████████████████████████████████████████████████████████████████████████████████▋     | 1766/1836 [05:22<00:10,  6.65it/s]Corrupt JPEG data: 1 extraneous bytes before marker 0xd9\n",
      "Training: 100%|██████████████████████████████████████████████████████████████████████████████████████████████████████████████████████████████████████████| 1836/1836 [05:34<00:00,  5.50it/s]\n"
     ]
    },
    {
     "name": "stdout",
     "output_type": "stream",
     "text": [
      "Total Loss  |Smoke Loss  |Fire Loss   \n",
      "------------ ------------ ------------\n",
      "16.600      |10.410      |6.190       \n",
      "\n"
     ]
    },
    {
     "name": "stderr",
     "output_type": "stream",
     "text": [
      "Validating: 100%|██████████████████████████████████████████████████████████████████████████████████████████████████████████████████████████████████████████| 380/380 [00:38<00:00,  9.93it/s]\n"
     ]
    },
    {
     "name": "stdout",
     "output_type": "stream",
     "text": [
      "Total Loss  |Smoke Loss  |Fire Loss   \n",
      "------------ ------------ ------------\n",
      "17.828      |11.580      |6.249       \n",
      "SMOKE -> Precision: 0.9110 - Recall: 0.9096 - Accuracy: 0.9155 - F1: 0.9103\n",
      "FIRE -> Precision: 0.9243 - Recall: 0.9743 - Accuracy: 0.9658 - F1: 0.9486\n",
      "\n",
      "Saving model with precision > 0.9 and recall > 0.9\n",
      "Model exported to ONNX: experiments/test_v04__imagenetQuant__w2a4_PerChannel_FixedPoint/onnx/BED_classifier__smoke__precision=0.911__recall=0.9096__epoch=38\n",
      "\n",
      "=== EPOCH 39/49 ===\n",
      "Learning Rate = 0.0003276800000000001\n",
      "\n"
     ]
    },
    {
     "name": "stderr",
     "output_type": "stream",
     "text": [
      "Training:  22%|██████████████████████████████▉                                                                                                            | 409/1836 [01:14<03:01,  7.87it/s]Corrupt JPEG data: 1 extraneous bytes before marker 0xd9\n",
      "Training:  26%|███████████████████████████████████▌                                                                                                       | 469/1836 [01:25<03:20,  6.81it/s]Corrupt JPEG data: 1 extraneous bytes before marker 0xd9\n",
      "Training:  42%|██████████████████████████████████████████████████████████▊                                                                                | 777/1836 [02:20<02:28,  7.15it/s]Corrupt JPEG data: 1 extraneous bytes before marker 0xd9\n",
      "Training:  84%|████████████████████████████████████████████████████████████████████████████████████████████████████████████████████▍                     | 1549/1836 [04:41<00:49,  5.76it/s]Warning: unknown JFIF revision number 32.23\n",
      "Training:  98%|███████████████████████████████████████████████████████████████████████████████████████████████████████████████████████████████████████▌  | 1803/1836 [05:27<00:04,  7.08it/s]Corrupt JPEG data: 1 extraneous bytes before marker 0xd9\n",
      "Training: 100%|██████████████████████████████████████████████████████████████████████████████████████████████████████████████████████████████████████████| 1836/1836 [05:33<00:00,  5.51it/s]\n"
     ]
    },
    {
     "name": "stdout",
     "output_type": "stream",
     "text": [
      "Total Loss  |Smoke Loss  |Fire Loss   \n",
      "------------ ------------ ------------\n",
      "15.948      |10.050      |5.899       \n",
      "\n"
     ]
    },
    {
     "name": "stderr",
     "output_type": "stream",
     "text": [
      "Validating: 100%|██████████████████████████████████████████████████████████████████████████████████████████████████████████████████████████████████████████| 380/380 [00:39<00:00,  9.59it/s]\n"
     ]
    },
    {
     "name": "stdout",
     "output_type": "stream",
     "text": [
      "Total Loss  |Smoke Loss  |Fire Loss   \n",
      "------------ ------------ ------------\n",
      "19.672      |12.887      |6.785       \n",
      "SMOKE -> Precision: 0.8814 - Recall: 0.9388 - Accuracy: 0.9116 - F1: 0.9092\n",
      "FIRE -> Precision: 0.9150 - Recall: 0.9739 - Accuracy: 0.9622 - F1: 0.9435\n",
      "\n",
      "=== EPOCH 40/49 ===\n",
      "Learning Rate = 0.0003276800000000001\n",
      "\n"
     ]
    },
    {
     "name": "stderr",
     "output_type": "stream",
     "text": [
      "Training:  36%|██████████████████████████████████████████████████                                                                                         | 661/1836 [02:00<03:09,  6.20it/s]Corrupt JPEG data: 1 extraneous bytes before marker 0xd9\n",
      "Training:  44%|█████████████████████████████████████████████████████████████▏                                                                             | 809/1836 [02:27<02:16,  7.51it/s]Corrupt JPEG data: 1 extraneous bytes before marker 0xd9\n",
      "Training:  54%|██████████████████████████████████████████████████████████████████████████▍                                                                | 983/1836 [02:58<01:49,  7.77it/s]Corrupt JPEG data: 1 extraneous bytes before marker 0xd9\n",
      "Training:  82%|█████████████████████████████████████████████████████████████████████████████████████████████████████████████████▊                        | 1514/1836 [04:34<00:58,  5.52it/s]Warning: unknown JFIF revision number 32.23\n",
      "Training:  94%|█████████████████████████████████████████████████████████████████████████████████████████████████████████████████████████████████▉        | 1729/1836 [05:13<00:15,  6.71it/s]Corrupt JPEG data: 1 extraneous bytes before marker 0xd9\n",
      "Training: 100%|██████████████████████████████████████████████████████████████████████████████████████████████████████████████████████████████████████████| 1836/1836 [05:31<00:00,  5.54it/s]\n"
     ]
    },
    {
     "name": "stdout",
     "output_type": "stream",
     "text": [
      "Total Loss  |Smoke Loss  |Fire Loss   \n",
      "------------ ------------ ------------\n",
      "15.789      |9.957       |5.832       \n",
      "\n"
     ]
    },
    {
     "name": "stderr",
     "output_type": "stream",
     "text": [
      "Validating: 100%|██████████████████████████████████████████████████████████████████████████████████████████████████████████████████████████████████████████| 380/380 [00:39<00:00,  9.73it/s]\n"
     ]
    },
    {
     "name": "stdout",
     "output_type": "stream",
     "text": [
      "Total Loss  |Smoke Loss  |Fire Loss   \n",
      "------------ ------------ ------------\n",
      "17.818      |11.664      |6.154       \n",
      "SMOKE -> Precision: 0.9417 - Recall: 0.8866 - Accuracy: 0.9207 - F1: 0.9133\n",
      "FIRE -> Precision: 0.9193 - Recall: 0.9764 - Accuracy: 0.9646 - F1: 0.9470\n",
      "\n",
      "=== EPOCH 41/49 ===\n",
      "Learning Rate = 0.0003276800000000001\n",
      "\n"
     ]
    },
    {
     "name": "stderr",
     "output_type": "stream",
     "text": [
      "Training:  22%|██████████████████████████████▌                                                                                                            | 404/1836 [01:14<03:19,  7.17it/s]Warning: unknown JFIF revision number 32.23\n",
      "Training:  43%|███████████████████████████████████████████████████████████▉                                                                               | 792/1836 [02:24<02:42,  6.43it/s]Corrupt JPEG data: 1 extraneous bytes before marker 0xd9\n",
      "Training:  54%|███████████████████████████████████████████████████████████████████████████▋                                                               | 999/1836 [03:01<01:56,  7.17it/s]Corrupt JPEG data: 1 extraneous bytes before marker 0xd9\n",
      "Training:  55%|███████████████████████████████████████████████████████████████████████████▊                                                              | 1008/1836 [03:03<02:29,  5.54it/s]Corrupt JPEG data: 1 extraneous bytes before marker 0xd9\n",
      "Training:  83%|██████████████████████████████████████████████████████████████████████████████████████████████████████████████████▍                       | 1523/1836 [04:35<00:39,  7.87it/s]Corrupt JPEG data: 1 extraneous bytes before marker 0xd9\n",
      "Training: 100%|██████████████████████████████████████████████████████████████████████████████████████████████████████████████████████████████████████████| 1836/1836 [05:30<00:00,  5.56it/s]\n"
     ]
    },
    {
     "name": "stdout",
     "output_type": "stream",
     "text": [
      "Total Loss  |Smoke Loss  |Fire Loss   \n",
      "------------ ------------ ------------\n",
      "16.018      |10.049      |5.969       \n",
      "\n"
     ]
    },
    {
     "name": "stderr",
     "output_type": "stream",
     "text": [
      "Validating: 100%|██████████████████████████████████████████████████████████████████████████████████████████████████████████████████████████████████████████| 380/380 [00:39<00:00,  9.68it/s]\n"
     ]
    },
    {
     "name": "stdout",
     "output_type": "stream",
     "text": [
      "Total Loss  |Smoke Loss  |Fire Loss   \n",
      "------------ ------------ ------------\n",
      "16.126      |10.456      |5.670       \n",
      "SMOKE -> Precision: 0.9118 - Recall: 0.9434 - Accuracy: 0.9303 - F1: 0.9273\n",
      "FIRE -> Precision: 0.9246 - Recall: 0.9798 - Accuracy: 0.9676 - F1: 0.9514\n",
      "\n",
      "Saving model with precision > 0.9 and recall > 0.9\n",
      "Model exported to ONNX: experiments/test_v04__imagenetQuant__w2a4_PerChannel_FixedPoint/onnx/BED_classifier__smoke__precision=0.9118__recall=0.9434__epoch=41\n",
      "Saving model with best Mean F1: 0.9394\n",
      "Model exported to ONNX: experiments/test_v04__imagenetQuant__w2a4_PerChannel_FixedPoint/onnx/BED_classifier__best_mean_F1\n",
      "\n",
      "=== EPOCH 42/49 ===\n",
      "Learning Rate = 0.0002621440000000001\n",
      "\n"
     ]
    },
    {
     "name": "stderr",
     "output_type": "stream",
     "text": [
      "Training:   4%|██████                                                                                                                                      | 79/1836 [00:17<05:08,  5.69it/s]Corrupt JPEG data: 1 extraneous bytes before marker 0xd9\n",
      "Training:  44%|█████████████████████████████████████████████████████████████                                                                              | 807/1836 [02:28<02:16,  7.53it/s]Corrupt JPEG data: 1 extraneous bytes before marker 0xd9\n",
      "Training:  50%|████████████████████████████████████████████████████████████████████▉                                                                      | 911/1836 [02:47<03:46,  4.08it/s]Corrupt JPEG data: 1 extraneous bytes before marker 0xd9\n",
      "Training:  64%|████████████████████████████████████████████████████████████████████████████████████████▏                                                 | 1174/1836 [03:34<01:24,  7.84it/s]Warning: unknown JFIF revision number 32.23\n",
      "Training:  91%|█████████████████████████████████████████████████████████████████████████████████████████████████████████████████████████████▊            | 1674/1836 [05:04<00:25,  6.37it/s]Corrupt JPEG data: 1 extraneous bytes before marker 0xd9\n",
      "Training: 100%|██████████████████████████████████████████████████████████████████████████████████████████████████████████████████████████████████████████| 1836/1836 [05:33<00:00,  5.51it/s]\n"
     ]
    },
    {
     "name": "stdout",
     "output_type": "stream",
     "text": [
      "Total Loss  |Smoke Loss  |Fire Loss   \n",
      "------------ ------------ ------------\n",
      "15.351      |9.604       |5.746       \n",
      "\n"
     ]
    },
    {
     "name": "stderr",
     "output_type": "stream",
     "text": [
      "Validating: 100%|██████████████████████████████████████████████████████████████████████████████████████████████████████████████████████████████████████████| 380/380 [00:39<00:00,  9.58it/s]\n"
     ]
    },
    {
     "name": "stdout",
     "output_type": "stream",
     "text": [
      "Total Loss  |Smoke Loss  |Fire Loss   \n",
      "------------ ------------ ------------\n",
      "15.563      |9.996       |5.567       \n",
      "SMOKE -> Precision: 0.9459 - Recall: 0.9109 - Accuracy: 0.9334 - F1: 0.9281\n",
      "FIRE -> Precision: 0.9227 - Recall: 0.9812 - Accuracy: 0.9673 - F1: 0.9511\n",
      "\n",
      "Saving model with new best validation loss: 15.5635\n",
      "Model exported to ONNX: experiments/test_v04__imagenetQuant__w2a4_PerChannel_FixedPoint/onnx/BED_classifier__best_loss\n",
      "\n",
      "Saving model with precision > 0.9 and recall > 0.9\n",
      "Model exported to ONNX: experiments/test_v04__imagenetQuant__w2a4_PerChannel_FixedPoint/onnx/BED_classifier__smoke__precision=0.9459__recall=0.9109__epoch=42\n",
      "Saving model with best Mean F1: 0.9396\n",
      "Model exported to ONNX: experiments/test_v04__imagenetQuant__w2a4_PerChannel_FixedPoint/onnx/BED_classifier__best_mean_F1\n",
      "\n",
      "=== EPOCH 43/49 ===\n",
      "Learning Rate = 0.0002621440000000001\n",
      "\n"
     ]
    },
    {
     "name": "stderr",
     "output_type": "stream",
     "text": [
      "Training:  13%|█████████████████▊                                                                                                                         | 235/1836 [00:43<04:38,  5.75it/s]Corrupt JPEG data: 1 extraneous bytes before marker 0xd9\n",
      "Training:  13%|██████████████████▍                                                                                                                        | 243/1836 [00:45<05:31,  4.80it/s]Corrupt JPEG data: 1 extraneous bytes before marker 0xd9\n",
      "Training:  23%|███████████████████████████████▉                                                                                                           | 422/1836 [01:16<02:55,  8.07it/s]Corrupt JPEG data: 1 extraneous bytes before marker 0xd9\n",
      "Training:  42%|█████████████████████████████████████████████████████████▉                                                                                 | 766/1836 [02:19<02:35,  6.86it/s]Corrupt JPEG data: 1 extraneous bytes before marker 0xd9\n",
      "Training:  99%|█████████████████████████████████████████████████████████████████████████████████████████████████████████████████████████████████████████ | 1824/1836 [05:31<00:01,  6.76it/s]Warning: unknown JFIF revision number 32.23\n",
      "Training: 100%|██████████████████████████████████████████████████████████████████████████████████████████████████████████████████████████████████████████| 1836/1836 [05:32<00:00,  5.52it/s]\n"
     ]
    },
    {
     "name": "stdout",
     "output_type": "stream",
     "text": [
      "Total Loss  |Smoke Loss  |Fire Loss   \n",
      "------------ ------------ ------------\n",
      "15.250      |9.598       |5.652       \n",
      "\n"
     ]
    },
    {
     "name": "stderr",
     "output_type": "stream",
     "text": [
      "Validating: 100%|██████████████████████████████████████████████████████████████████████████████████████████████████████████████████████████████████████████| 380/380 [00:40<00:00,  9.45it/s]\n"
     ]
    },
    {
     "name": "stdout",
     "output_type": "stream",
     "text": [
      "Total Loss  |Smoke Loss  |Fire Loss   \n",
      "------------ ------------ ------------\n",
      "16.243      |10.823      |5.420       \n",
      "SMOKE -> Precision: 0.9352 - Recall: 0.9090 - Accuracy: 0.9274 - F1: 0.9219\n",
      "FIRE -> Precision: 0.9283 - Recall: 0.9810 - Accuracy: 0.9693 - F1: 0.9539\n",
      "\n",
      "Saving model with precision > 0.9 and recall > 0.9\n",
      "Model exported to ONNX: experiments/test_v04__imagenetQuant__w2a4_PerChannel_FixedPoint/onnx/BED_classifier__smoke__precision=0.9352__recall=0.909__epoch=43\n",
      "\n",
      "=== EPOCH 44/49 ===\n",
      "Learning Rate = 0.0002621440000000001\n",
      "\n"
     ]
    },
    {
     "name": "stderr",
     "output_type": "stream",
     "text": [
      "Training:   3%|████▎                                                                                                                                       | 56/1836 [00:11<04:27,  6.65it/s]Corrupt JPEG data: 1 extraneous bytes before marker 0xd9\n",
      "Training:  30%|█████████████████████████████████████████▌                                                                                                 | 549/1836 [01:40<03:40,  5.82it/s]Corrupt JPEG data: 1 extraneous bytes before marker 0xd9\n",
      "Training:  36%|█████████████████████████████████████████████████▋                                                                                         | 657/1836 [01:59<04:46,  4.12it/s]Corrupt JPEG data: 1 extraneous bytes before marker 0xd9\n",
      "Training:  63%|██████████████████████████████████████████████████████████████████████████████████████▌                                                   | 1152/1836 [03:29<01:33,  7.30it/s]Corrupt JPEG data: 1 extraneous bytes before marker 0xd9\n",
      "Training:  63%|███████████████████████████████████████████████████████████████████████████████████████▎                                                  | 1161/1836 [03:31<02:31,  4.46it/s]Warning: unknown JFIF revision number 32.23\n",
      "Training: 100%|██████████████████████████████████████████████████████████████████████████████████████████████████████████████████████████████████████████| 1836/1836 [05:33<00:00,  5.50it/s]\n"
     ]
    },
    {
     "name": "stdout",
     "output_type": "stream",
     "text": [
      "Total Loss  |Smoke Loss  |Fire Loss   \n",
      "------------ ------------ ------------\n",
      "15.207      |9.563       |5.644       \n",
      "\n"
     ]
    },
    {
     "name": "stderr",
     "output_type": "stream",
     "text": [
      "Validating: 100%|██████████████████████████████████████████████████████████████████████████████████████████████████████████████████████████████████████████| 380/380 [00:39<00:00,  9.53it/s]\n"
     ]
    },
    {
     "name": "stdout",
     "output_type": "stream",
     "text": [
      "Total Loss  |Smoke Loss  |Fire Loss   \n",
      "------------ ------------ ------------\n",
      "16.342      |10.650      |5.692       \n",
      "SMOKE -> Precision: 0.9344 - Recall: 0.9076 - Accuracy: 0.9264 - F1: 0.9208\n",
      "FIRE -> Precision: 0.9296 - Recall: 0.9730 - Accuracy: 0.9674 - F1: 0.9508\n",
      "\n",
      "Saving model with precision > 0.9 and recall > 0.9\n",
      "Model exported to ONNX: experiments/test_v04__imagenetQuant__w2a4_PerChannel_FixedPoint/onnx/BED_classifier__smoke__precision=0.9344__recall=0.9076__epoch=44\n",
      "\n",
      "=== EPOCH 45/49 ===\n",
      "Learning Rate = 0.0002621440000000001\n",
      "\n"
     ]
    },
    {
     "name": "stderr",
     "output_type": "stream",
     "text": [
      "Training:   8%|███████████▋                                                                                                                               | 154/1836 [00:29<03:47,  7.41it/s]Corrupt JPEG data: 1 extraneous bytes before marker 0xd9\n",
      "Training:  20%|████████████████████████████▎                                                                                                              | 374/1836 [01:08<03:10,  7.68it/s]Corrupt JPEG data: 1 extraneous bytes before marker 0xd9\n",
      "Training:  46%|████████████████████████████████████████████████████████████████▌                                                                          | 853/1836 [02:35<02:15,  7.26it/s]Warning: unknown JFIF revision number 32.23\n",
      "Training:  64%|████████████████████████████████████████████████████████████████████████████████████████                                                  | 1172/1836 [03:33<01:30,  7.34it/s]Corrupt JPEG data: 1 extraneous bytes before marker 0xd9\n",
      "Training:  81%|████████████████████████████████████████████████████████████████████████████████████████████████████████████████                          | 1491/1836 [04:30<00:48,  7.11it/s]Corrupt JPEG data: 1 extraneous bytes before marker 0xd9\n",
      "Training: 100%|██████████████████████████████████████████████████████████████████████████████████████████████████████████████████████████████████████████| 1836/1836 [05:32<00:00,  5.52it/s]\n"
     ]
    },
    {
     "name": "stdout",
     "output_type": "stream",
     "text": [
      "Total Loss  |Smoke Loss  |Fire Loss   \n",
      "------------ ------------ ------------\n",
      "15.190      |9.530       |5.659       \n",
      "\n"
     ]
    },
    {
     "name": "stderr",
     "output_type": "stream",
     "text": [
      "Validating: 100%|██████████████████████████████████████████████████████████████████████████████████████████████████████████████████████████████████████████| 380/380 [00:39<00:00,  9.59it/s]\n"
     ]
    },
    {
     "name": "stdout",
     "output_type": "stream",
     "text": [
      "Total Loss  |Smoke Loss  |Fire Loss   \n",
      "------------ ------------ ------------\n",
      "16.462      |10.760      |5.702       \n",
      "SMOKE -> Precision: 0.9560 - Recall: 0.8754 - Accuracy: 0.9223 - F1: 0.9140\n",
      "FIRE -> Precision: 0.9294 - Recall: 0.9734 - Accuracy: 0.9674 - F1: 0.9509\n",
      "\n",
      "=== EPOCH 46/49 ===\n",
      "Learning Rate = 0.00020971520000000012\n",
      "\n"
     ]
    },
    {
     "name": "stderr",
     "output_type": "stream",
     "text": [
      "Training:   5%|███████▎                                                                                                                                    | 96/1836 [00:19<04:26,  6.53it/s]Corrupt JPEG data: 1 extraneous bytes before marker 0xd9\n",
      "Training:   8%|██████████▉                                                                                                                                | 145/1836 [00:28<04:06,  6.87it/s]Corrupt JPEG data: 1 extraneous bytes before marker 0xd9\n",
      "Training:  18%|█████████████████████████▎                                                                                                                 | 335/1836 [01:02<06:05,  4.10it/s]Corrupt JPEG data: 1 extraneous bytes before marker 0xd9\n",
      "Training:  38%|████████████████████████████████████████████████████▍                                                                                      | 692/1836 [02:07<02:24,  7.91it/s]Warning: unknown JFIF revision number 32.23\n",
      "Training:  66%|███████████████████████████████████████████████████████████████████████████████████████████▏                                              | 1213/1836 [03:40<03:28,  2.99it/s]Corrupt JPEG data: 1 extraneous bytes before marker 0xd9\n",
      "Training: 100%|██████████████████████████████████████████████████████████████████████████████████████████████████████████████████████████████████████████| 1836/1836 [05:31<00:00,  5.53it/s]\n"
     ]
    },
    {
     "name": "stdout",
     "output_type": "stream",
     "text": [
      "Total Loss  |Smoke Loss  |Fire Loss   \n",
      "------------ ------------ ------------\n",
      "14.714      |9.272       |5.442       \n",
      "\n"
     ]
    },
    {
     "name": "stderr",
     "output_type": "stream",
     "text": [
      "Validating: 100%|██████████████████████████████████████████████████████████████████████████████████████████████████████████████████████████████████████████| 380/380 [00:39<00:00,  9.71it/s]\n"
     ]
    },
    {
     "name": "stdout",
     "output_type": "stream",
     "text": [
      "Total Loss  |Smoke Loss  |Fire Loss   \n",
      "------------ ------------ ------------\n",
      "15.066      |9.022       |6.045       \n",
      "SMOKE -> Precision: 0.9496 - Recall: 0.9152 - Accuracy: 0.9371 - F1: 0.9321\n",
      "FIRE -> Precision: 0.9176 - Recall: 0.9820 - Accuracy: 0.9656 - F1: 0.9487\n",
      "\n",
      "Saving model with new best validation loss: 15.0664\n",
      "Model exported to ONNX: experiments/test_v04__imagenetQuant__w2a4_PerChannel_FixedPoint/onnx/BED_classifier__best_loss\n",
      "\n",
      "Saving model with precision > 0.9 and recall > 0.9\n",
      "Model exported to ONNX: experiments/test_v04__imagenetQuant__w2a4_PerChannel_FixedPoint/onnx/BED_classifier__smoke__precision=0.9496__recall=0.9152__epoch=46\n",
      "Saving model with best Mean F1: 0.9404\n",
      "Model exported to ONNX: experiments/test_v04__imagenetQuant__w2a4_PerChannel_FixedPoint/onnx/BED_classifier__best_mean_F1\n",
      "\n",
      "=== EPOCH 47/49 ===\n",
      "Learning Rate = 0.00020971520000000012\n",
      "\n"
     ]
    },
    {
     "name": "stderr",
     "output_type": "stream",
     "text": [
      "Training:  16%|█████████████████████▋                                                                                                                     | 287/1836 [00:54<03:10,  8.13it/s]Corrupt JPEG data: 1 extraneous bytes before marker 0xd9\n",
      "Training:  23%|████████████████████████████████▍                                                                                                          | 428/1836 [01:19<03:05,  7.58it/s]Corrupt JPEG data: 1 extraneous bytes before marker 0xd9\n",
      "Training:  27%|█████████████████████████████████████▋                                                                                                     | 498/1836 [01:32<03:19,  6.70it/s]Corrupt JPEG data: 1 extraneous bytes before marker 0xd9\n",
      "Training:  60%|██████████████████████████████████████████████████████████████████████████████████▉                                                       | 1103/1836 [03:23<05:38,  2.17it/s]Corrupt JPEG data: 1 extraneous bytes before marker 0xd9\n",
      "Training:  71%|█████████████████████████████████████████████████████████████████████████████████████████████████▌                                        | 1298/1836 [03:57<01:27,  6.13it/s]Warning: unknown JFIF revision number 32.23\n",
      "Training: 100%|██████████████████████████████████████████████████████████████████████████████████████████████████████████████████████████████████████████| 1836/1836 [05:34<00:00,  5.49it/s]\n"
     ]
    },
    {
     "name": "stdout",
     "output_type": "stream",
     "text": [
      "Total Loss  |Smoke Loss  |Fire Loss   \n",
      "------------ ------------ ------------\n",
      "14.555      |9.132       |5.423       \n",
      "\n"
     ]
    },
    {
     "name": "stderr",
     "output_type": "stream",
     "text": [
      "Validating: 100%|██████████████████████████████████████████████████████████████████████████████████████████████████████████████████████████████████████████| 380/380 [00:39<00:00,  9.60it/s]\n"
     ]
    },
    {
     "name": "stdout",
     "output_type": "stream",
     "text": [
      "Total Loss  |Smoke Loss  |Fire Loss   \n",
      "------------ ------------ ------------\n",
      "13.839      |8.934       |4.905       \n",
      "SMOKE -> Precision: 0.9657 - Recall: 0.8960 - Accuracy: 0.9360 - F1: 0.9296\n",
      "FIRE -> Precision: 0.9378 - Recall: 0.9789 - Accuracy: 0.9721 - F1: 0.9579\n",
      "\n",
      "Saving model with new best validation loss: 13.8392\n",
      "Model exported to ONNX: experiments/test_v04__imagenetQuant__w2a4_PerChannel_FixedPoint/onnx/BED_classifier__best_loss\n",
      "Saving model with best Mean F1: 0.9437\n",
      "Model exported to ONNX: experiments/test_v04__imagenetQuant__w2a4_PerChannel_FixedPoint/onnx/BED_classifier__best_mean_F1\n",
      "\n",
      "=== EPOCH 48/49 ===\n",
      "Learning Rate = 0.00020971520000000012\n",
      "\n"
     ]
    },
    {
     "name": "stderr",
     "output_type": "stream",
     "text": [
      "Training:   8%|███████████▊                                                                                                                               | 156/1836 [00:28<04:58,  5.63it/s]Corrupt JPEG data: 1 extraneous bytes before marker 0xd9\n",
      "Training:  29%|████████████████████████████████████████▉                                                                                                  | 540/1836 [01:38<03:00,  7.17it/s]Corrupt JPEG data: 1 extraneous bytes before marker 0xd9\n",
      "Training:  31%|███████████████████████████████████████████▎                                                                                               | 572/1836 [01:43<02:51,  7.36it/s]Warning: unknown JFIF revision number 32.23\n",
      "Training:  61%|███████████████████████████████████████████████████████████████████████████████████▌                                                      | 1112/1836 [03:18<01:35,  7.57it/s]Corrupt JPEG data: 1 extraneous bytes before marker 0xd9\n",
      "Training:  87%|███████████████████████████████████████████████████████████████████████████████████████████████████████████████████████▌                  | 1591/1836 [04:46<01:11,  3.41it/s]Corrupt JPEG data: 1 extraneous bytes before marker 0xd9\n",
      "Training: 100%|██████████████████████████████████████████████████████████████████████████████████████████████████████████████████████████████████████████| 1836/1836 [05:29<00:00,  5.56it/s]\n"
     ]
    },
    {
     "name": "stdout",
     "output_type": "stream",
     "text": [
      "Total Loss  |Smoke Loss  |Fire Loss   \n",
      "------------ ------------ ------------\n",
      "14.712      |9.215       |5.497       \n",
      "\n"
     ]
    },
    {
     "name": "stderr",
     "output_type": "stream",
     "text": [
      "Validating: 100%|██████████████████████████████████████████████████████████████████████████████████████████████████████████████████████████████████████████| 380/380 [00:39<00:00,  9.71it/s]\n"
     ]
    },
    {
     "name": "stdout",
     "output_type": "stream",
     "text": [
      "Total Loss  |Smoke Loss  |Fire Loss   \n",
      "------------ ------------ ------------\n",
      "18.991      |11.710      |7.281       \n",
      "SMOKE -> Precision: 0.8926 - Recall: 0.9430 - Accuracy: 0.9196 - F1: 0.9171\n",
      "FIRE -> Precision: 0.8928 - Recall: 0.9872 - Accuracy: 0.9574 - F1: 0.9376\n",
      "\n",
      "=== EPOCH 49/49 ===\n",
      "Learning Rate = 0.00020971520000000012\n",
      "\n"
     ]
    },
    {
     "name": "stderr",
     "output_type": "stream",
     "text": [
      "Training:   4%|██████▏                                                                                                                                     | 81/1836 [00:16<03:43,  7.86it/s]Corrupt JPEG data: 1 extraneous bytes before marker 0xd9\n",
      "Training:  13%|█████████████████▊                                                                                                                         | 236/1836 [00:43<03:30,  7.59it/s]Corrupt JPEG data: 1 extraneous bytes before marker 0xd9\n",
      "Training:  14%|███████████████████                                                                                                                        | 252/1836 [00:46<04:05,  6.46it/s]Corrupt JPEG data: 1 extraneous bytes before marker 0xd9\n",
      "Training:  41%|█████████████████████████████████████████████████████████▌                                                                                 | 761/1836 [02:16<04:26,  4.04it/s]Corrupt JPEG data: 1 extraneous bytes before marker 0xd9\n",
      "Training:  90%|███████████████████████████████████████████████████████████████████████████████████████████████████████████████████████████▌              | 1644/1836 [04:55<00:32,  5.90it/s]Warning: unknown JFIF revision number 32.23\n",
      "Training: 100%|██████████████████████████████████████████████████████████████████████████████████████████████████████████████████████████████████████████| 1836/1836 [05:30<00:00,  5.56it/s]\n"
     ]
    },
    {
     "name": "stdout",
     "output_type": "stream",
     "text": [
      "Total Loss  |Smoke Loss  |Fire Loss   \n",
      "------------ ------------ ------------\n",
      "14.623      |9.111       |5.512       \n",
      "\n"
     ]
    },
    {
     "name": "stderr",
     "output_type": "stream",
     "text": [
      "Validating: 100%|██████████████████████████████████████████████████████████████████████████████████████████████████████████████████████████████████████████| 380/380 [00:39<00:00,  9.59it/s]\n"
     ]
    },
    {
     "name": "stdout",
     "output_type": "stream",
     "text": [
      "Total Loss  |Smoke Loss  |Fire Loss   \n",
      "------------ ------------ ------------\n",
      "14.038      |9.441       |4.597       \n",
      "SMOKE -> Precision: 0.9517 - Recall: 0.9057 - Accuracy: 0.9339 - F1: 0.9281\n",
      "FIRE -> Precision: 0.9434 - Recall: 0.9784 - Accuracy: 0.9740 - F1: 0.9606\n",
      "\n",
      "Saving model with precision > 0.9 and recall > 0.9\n",
      "Model exported to ONNX: experiments/test_v04__imagenetQuant__w2a4_PerChannel_FixedPoint/onnx/BED_classifier__smoke__precision=0.9517__recall=0.9057__epoch=49\n",
      "Saving model with best Mean F1: 0.9444\n",
      "Model exported to ONNX: experiments/test_v04__imagenetQuant__w2a4_PerChannel_FixedPoint/onnx/BED_classifier__best_mean_F1\n",
      "\n",
      "***Script finished: 19:28:46\n",
      "\n",
      "Time elapsed: 6:11:41.336878\n"
     ]
    }
   ],
   "source": [
    "if __name__ == \"__main__\":\n",
    "    \n",
    "    print(\"Starting script\\n\")\n",
    "    logger.info(\"Starting script\\n\")\n",
    "    \n",
    "    model = train_loop(model)"
   ]
  },
  {
   "cell_type": "markdown",
   "id": "6e5e0386-520e-4452-a4bd-217a39e3478f",
   "metadata": {},
   "source": [
    "# Test with DFire MINI Dataset: Train and Test"
   ]
  },
  {
   "cell_type": "code",
   "execution_count": 17,
   "id": "ab9c8bf2-dce8-4ac5-82a9-abbd30a20b08",
   "metadata": {},
   "outputs": [],
   "source": [
    "# import importlib\n",
    "# importlib.reload(config)\n",
    "# importlib.reload(dataloaders)"
   ]
  },
  {
   "cell_type": "code",
   "execution_count": 18,
   "id": "1c7cc77c-6bdf-4d83-9358-61038a8b23bb",
   "metadata": {},
   "outputs": [
    {
     "name": "stdout",
     "output_type": "stream",
     "text": [
      "\n",
      "====================\n",
      "TRAIN DFire MINI dataset\n",
      "DFire Removed wrong images: 0\n",
      "DFire empty images: 20\n",
      "DFire only smoke images: 45\n",
      "DFire only fire images: 5\n",
      "DFire smoke and fire images: 30\n",
      "\n",
      "Test dataset len: 100\n",
      "\n",
      "====================\n",
      "TEST DFire MINI dataset\n",
      "DFire Removed wrong images: 0\n",
      "DFire empty images: 6\n",
      "DFire only smoke images: 13\n",
      "DFire only fire images: 2\n",
      "DFire smoke and fire images: 9\n",
      "\n",
      "Test dataset len: 30\n"
     ]
    }
   ],
   "source": [
    "train_dfire_mini_loader = dataloaders.get_dfire_mini_train_loader()\n",
    "test_dfire_mini_loader = dataloaders.get_dfire_mini_test_loader()"
   ]
  },
  {
   "cell_type": "markdown",
   "id": "46c18474-8bc6-4f26-9479-529412e9c71d",
   "metadata": {},
   "source": [
    "### Load Checkpoint with Best F1 Mean"
   ]
  },
  {
   "cell_type": "code",
   "execution_count": 19,
   "id": "b517a297-edea-4d37-9e5b-90ca2512c9e7",
   "metadata": {},
   "outputs": [],
   "source": [
    "model_path = config.WEIGHTS_FOLDER + 'BED_classifier__best_mean_F1.pt'"
   ]
  },
  {
   "cell_type": "code",
   "execution_count": 20,
   "id": "9b0959a9-9b84-4fd6-85a3-67fb519f6b10",
   "metadata": {},
   "outputs": [
    {
     "name": "stdout",
     "output_type": "stream",
     "text": [
      "Loading Model. Trained during 49 epochs\n"
     ]
    },
    {
     "data": {
      "text/plain": [
       "49"
      ]
     },
     "execution_count": 20,
     "metadata": {},
     "output_type": "execute_result"
    }
   ],
   "source": [
    "utils.load_checkpoint(\n",
    "    model_path, \n",
    "    model=model, \n",
    "    optimizer=optimizer, \n",
    "    scheduler=scheduler, \n",
    "    device=config.DEVICE)"
   ]
  },
  {
   "cell_type": "markdown",
   "id": "c8eb53e5-0b75-4bb0-8f45-d2e104d25a13",
   "metadata": {},
   "source": [
    "### Whole Test Loader, to check it is the same as training"
   ]
  },
  {
   "cell_type": "code",
   "execution_count": 21,
   "id": "9c1ae050-a816-407d-9569-5e5b6f84af6b",
   "metadata": {},
   "outputs": [
    {
     "name": "stderr",
     "output_type": "stream",
     "text": [
      "Validating: 100%|██████████████████████████████████████████████████████████████████████████████████████████████████████████████████████████████████████████| 380/380 [00:40<00:00,  9.49it/s]"
     ]
    },
    {
     "name": "stdout",
     "output_type": "stream",
     "text": [
      "Total Loss  |Smoke Loss  |Fire Loss   \n",
      "------------ ------------ ------------\n",
      "14.038      |9.441       |4.597       \n",
      "SMOKE -> Precision: 0.9517 - Recall: 0.9057 - Accuracy: 0.9339 - F1: 0.9281\n",
      "FIRE -> Precision: 0.9434 - Recall: 0.9784 - Accuracy: 0.9740 - F1: 0.9606\n"
     ]
    },
    {
     "name": "stderr",
     "output_type": "stream",
     "text": [
      "\n"
     ]
    }
   ],
   "source": [
    "with torch.no_grad():\n",
    "    val_losses, val_metrics = val_epoch.eval_fn(\n",
    "        loader=val_loader, \n",
    "        model=model,                         \n",
    "        loss_fn=loss_fn,\n",
    "        device=config.DEVICE)"
   ]
  },
  {
   "cell_type": "code",
   "execution_count": 22,
   "id": "bf582d94-1848-4729-8816-86f1211e9904",
   "metadata": {},
   "outputs": [],
   "source": [
    "logger.info('\\nTesting with FULL TEST LOADER')  \n",
    "#logger.info(val_losses)\n",
    "logger.info(val_metrics)"
   ]
  },
  {
   "cell_type": "markdown",
   "id": "36662803-7b09-4c43-9e14-5045635f86ab",
   "metadata": {},
   "source": [
    "### Train DFire MINI"
   ]
  },
  {
   "cell_type": "code",
   "execution_count": 23,
   "id": "d40dff6c-50a6-4fa9-af36-496730a81fab",
   "metadata": {},
   "outputs": [
    {
     "name": "stderr",
     "output_type": "stream",
     "text": [
      "Validating: 100%|██████████████████████████████████████████████████████████████████████████████████████████████████████████████████████████████████████████| 100/100 [00:01<00:00, 90.57it/s]"
     ]
    },
    {
     "name": "stdout",
     "output_type": "stream",
     "text": [
      "Total Loss  |Smoke Loss  |Fire Loss   \n",
      "------------ ------------ ------------\n",
      "0.326       |0.203       |0.123       \n",
      "SMOKE -> Precision: 0.9577 - Recall: 0.9067 - Accuracy: 0.9000 - F1: 0.9315\n",
      "FIRE -> Precision: 0.9706 - Recall: 0.9429 - Accuracy: 0.9700 - F1: 0.9565\n"
     ]
    },
    {
     "name": "stderr",
     "output_type": "stream",
     "text": [
      "\n"
     ]
    }
   ],
   "source": [
    "with torch.no_grad():\n",
    "    val_losses, val_metrics = val_epoch.eval_fn(\n",
    "        loader=train_dfire_mini_loader, \n",
    "        model=model,                         \n",
    "        loss_fn=loss_fn,\n",
    "        device=config.DEVICE)"
   ]
  },
  {
   "cell_type": "code",
   "execution_count": 24,
   "id": "9f864d7c-7da2-4c7c-b99a-f1943d722b13",
   "metadata": {},
   "outputs": [],
   "source": [
    "logger.info('\\nTesting with DFire MINI TRAIN after LOADING F1 Best Mean CHECKPOINT')  \n",
    "#logger.info(val_losses)\n",
    "logger.info(val_metrics)"
   ]
  },
  {
   "cell_type": "markdown",
   "id": "17c77cd9-05ef-4771-8707-82ba5f16ef0c",
   "metadata": {},
   "source": [
    "### Test DFire MINI"
   ]
  },
  {
   "cell_type": "code",
   "execution_count": 25,
   "id": "2c237df0-9726-42e9-8ebe-d738948fb047",
   "metadata": {},
   "outputs": [
    {
     "name": "stderr",
     "output_type": "stream",
     "text": [
      "Validating: 100%|████████████████████████████████████████████████████████████████████████████████████████████████████████████████████████████████████████████| 30/30 [00:00<00:00, 70.70it/s]"
     ]
    },
    {
     "name": "stdout",
     "output_type": "stream",
     "text": [
      "Total Loss  |Smoke Loss  |Fire Loss   \n",
      "------------ ------------ ------------\n",
      "0.264       |0.185       |0.079       \n",
      "SMOKE -> Precision: 0.9524 - Recall: 0.9091 - Accuracy: 0.9000 - F1: 0.9302\n",
      "FIRE -> Precision: 0.9167 - Recall: 1.0000 - Accuracy: 0.9667 - F1: 0.9565\n"
     ]
    },
    {
     "name": "stderr",
     "output_type": "stream",
     "text": [
      "\n"
     ]
    }
   ],
   "source": [
    "with torch.no_grad():\n",
    "    val_losses, val_metrics = val_epoch.eval_fn(\n",
    "        loader=test_dfire_mini_loader, \n",
    "        model=model,                         \n",
    "        loss_fn=loss_fn,\n",
    "        device=config.DEVICE)"
   ]
  },
  {
   "cell_type": "code",
   "execution_count": 26,
   "id": "06fdf6f8-b716-4ee3-a29a-ea9972387cd8",
   "metadata": {},
   "outputs": [],
   "source": [
    "logger.info('\\nTesting with DFire MINI TEST after LOADING F1 Best Mean CHECKPOINT')  \n",
    "#logger.info(val_losses)\n",
    "logger.info(val_metrics)"
   ]
  },
  {
   "cell_type": "markdown",
   "id": "32e7e65c-f132-4cd2-bf11-8bc040f8c71d",
   "metadata": {},
   "source": [
    "# Convert the Model to BIPOLAR OUT"
   ]
  },
  {
   "cell_type": "code",
   "execution_count": 27,
   "id": "f15e359d-ec85-483b-96e3-d265ce7ec4db",
   "metadata": {},
   "outputs": [],
   "source": [
    "import brevitas.nn as qnn\n",
    "import torch.nn as nn"
   ]
  },
  {
   "cell_type": "code",
   "execution_count": 28,
   "id": "473783b9-254b-40ff-b67f-a4818f531e29",
   "metadata": {},
   "outputs": [],
   "source": [
    "class CNV_BIPOLAR_OUT(nn.Module):\n",
    "    def __init__(self, base_model):\n",
    "        super(CNV_BIPOLAR_OUT, self).__init__()\n",
    "        self.base_model = base_model\n",
    "        self.qnt_output = qnn.QuantIdentity(\n",
    "            quant_type='binary', \n",
    "            scaling_impl_type='const',\n",
    "            bit_width=1, min_val=-1.0, max_val=1.0)\n",
    "\n",
    "    def forward(self, x):\n",
    "        x = self.base_model(x)\n",
    "        x = self.qnt_output(x)\n",
    "        return x"
   ]
  },
  {
   "cell_type": "code",
   "execution_count": 29,
   "id": "c2314ef9-10ab-42ad-b61c-122ae49cf5ce",
   "metadata": {},
   "outputs": [],
   "source": [
    "cnv_bipolar_out = CNV_BIPOLAR_OUT(model).to(config.DEVICE)"
   ]
  },
  {
   "cell_type": "markdown",
   "id": "493f850e-5904-45b9-b9cc-08e4a06edaa3",
   "metadata": {},
   "source": [
    "### New Evaluation for BIPOLAR Out Model"
   ]
  },
  {
   "cell_type": "code",
   "execution_count": 30,
   "id": "cffbe14b-9375-4ed0-8355-546e5ed7d3fa",
   "metadata": {},
   "outputs": [],
   "source": [
    "from tqdm import tqdm\n",
    "\n",
    "def eval_bipolar_fn(loader, model, device):\n",
    "    \n",
    "    model.eval()\n",
    "    loop = tqdm(loader, desc='Validating', leave=True)\n",
    "\n",
    "    for batch_idx, (x, y) in enumerate(loop):\n",
    "        x, y = x.to(device), y.to(device)\n",
    "        yhat = model(x)\n",
    "\n",
    "        # print(y.shape)\n",
    "        # print(yhat.shape)\n",
    "        \n",
    "        yhat[yhat < 1] = 0\n",
    "    \n",
    "        metrics.precision_metric.update(yhat, y)\n",
    "        metrics.recall_metric.update(yhat, y)\n",
    "        metrics.accuracy_metric.update(yhat, y)\n",
    "        metrics.f1_metric.update(yhat, y)\n",
    "   \n",
    "    precision = metrics.precision_metric.compute()\n",
    "    recall = metrics.recall_metric.compute()\n",
    "    accuracy = metrics.accuracy_metric.compute()\n",
    "    f1 = metrics.f1_metric.compute()\n",
    "    \n",
    "    metrics.precision_metric.reset()\n",
    "    metrics.recall_metric.reset()\n",
    "    metrics.accuracy_metric.reset()\n",
    "    metrics.f1_metric.reset()\n",
    "\n",
    "    print(f'SMOKE -> Precision: {precision[0]:.4f} - Recall: {recall[0]:.4f} - Accuracy: {accuracy[0]:.4f} - F1: {f1[0]:.4f}')\n",
    "    print(f'FIRE -> Precision: {precision[1]:.4f} - Recall: {recall[1]:.4f} - Accuracy: {accuracy[1]:.4f} - F1: {f1[1]:.4f}')\n",
    "    \n",
    "    return (\n",
    "        {\n",
    "        'Accuracy': [accuracy[0].item(), accuracy[1].item()],\n",
    "        'Precision': [precision[0].item(), precision[1].item()],\n",
    "        'Recall': [recall[0].item(), recall[1].item()],\n",
    "        'F1': [f1[0].item(), f1[1].item()] \n",
    "        }\n",
    "    )"
   ]
  },
  {
   "cell_type": "markdown",
   "id": "f84a61d0-0d29-4776-84d3-3d521ed01a66",
   "metadata": {},
   "source": [
    "### Full DS"
   ]
  },
  {
   "cell_type": "code",
   "execution_count": 31,
   "id": "513edc21-1e27-4d6c-b130-a7d30cffb885",
   "metadata": {},
   "outputs": [
    {
     "name": "stderr",
     "output_type": "stream",
     "text": [
      "Validating: 100%|██████████████████████████████████████████████████████████████████████████████████████████████████████████████████████████████████████████| 380/380 [00:40<00:00,  9.46it/s]"
     ]
    },
    {
     "name": "stdout",
     "output_type": "stream",
     "text": [
      "SMOKE -> Precision: 0.9517 - Recall: 0.9057 - Accuracy: 0.9339 - F1: 0.9281\n",
      "FIRE -> Precision: 0.9434 - Recall: 0.9784 - Accuracy: 0.9740 - F1: 0.9606\n"
     ]
    },
    {
     "name": "stderr",
     "output_type": "stream",
     "text": [
      "\n"
     ]
    }
   ],
   "source": [
    "cnv_bipolar_out.eval()\n",
    "with torch.no_grad():\n",
    "    val_metrics = eval_bipolar_fn(\n",
    "        loader=val_loader, \n",
    "        model=cnv_bipolar_out,                         \n",
    "        device=config.DEVICE)"
   ]
  },
  {
   "cell_type": "markdown",
   "id": "6b9069b1-1d40-462e-9c97-347d412b106a",
   "metadata": {},
   "source": [
    "### Mini Train"
   ]
  },
  {
   "cell_type": "code",
   "execution_count": 32,
   "id": "c2dfba24-25b5-47c2-a7b6-735472b3ed40",
   "metadata": {},
   "outputs": [
    {
     "name": "stderr",
     "output_type": "stream",
     "text": [
      "Validating: 100%|██████████████████████████████████████████████████████████████████████████████████████████████████████████████████████████████████████████| 100/100 [00:01<00:00, 90.59it/s]"
     ]
    },
    {
     "name": "stdout",
     "output_type": "stream",
     "text": [
      "SMOKE -> Precision: 0.9577 - Recall: 0.9067 - Accuracy: 0.9000 - F1: 0.9315\n",
      "FIRE -> Precision: 0.9706 - Recall: 0.9429 - Accuracy: 0.9700 - F1: 0.9565\n"
     ]
    },
    {
     "name": "stderr",
     "output_type": "stream",
     "text": [
      "\n"
     ]
    }
   ],
   "source": [
    "with torch.no_grad():\n",
    "    val_metrics = eval_bipolar_fn(\n",
    "        loader=train_dfire_mini_loader, \n",
    "        model=cnv_bipolar_out,                         \n",
    "        device=config.DEVICE)"
   ]
  },
  {
   "cell_type": "markdown",
   "id": "23ebed5c-63bc-452f-9921-8cd95819464b",
   "metadata": {},
   "source": [
    "### Mini Test"
   ]
  },
  {
   "cell_type": "code",
   "execution_count": 33,
   "id": "c382be4b-69ad-4942-83bc-6c8bfb99564e",
   "metadata": {},
   "outputs": [
    {
     "name": "stderr",
     "output_type": "stream",
     "text": [
      "Validating: 100%|████████████████████████████████████████████████████████████████████████████████████████████████████████████████████████████████████████████| 30/30 [00:00<00:00, 72.41it/s]"
     ]
    },
    {
     "name": "stdout",
     "output_type": "stream",
     "text": [
      "SMOKE -> Precision: 0.9524 - Recall: 0.9091 - Accuracy: 0.9000 - F1: 0.9302\n",
      "FIRE -> Precision: 0.9167 - Recall: 1.0000 - Accuracy: 0.9667 - F1: 0.9565\n"
     ]
    },
    {
     "name": "stderr",
     "output_type": "stream",
     "text": [
      "\n"
     ]
    }
   ],
   "source": [
    "with torch.no_grad():\n",
    "    val_metrics = eval_bipolar_fn(\n",
    "        loader=test_dfire_mini_loader, \n",
    "        model=cnv_bipolar_out,                         \n",
    "        device=config.DEVICE)"
   ]
  },
  {
   "cell_type": "markdown",
   "id": "13f30466-81f7-49a0-a34a-01a156df9a55",
   "metadata": {},
   "source": [
    "# Export Bipolar to QONNX"
   ]
  },
  {
   "cell_type": "code",
   "execution_count": 34,
   "id": "fbde75e8-45af-49e5-b8a5-2e1fff6be869",
   "metadata": {},
   "outputs": [
    {
     "name": "stdout",
     "output_type": "stream",
     "text": [
      "Model exported to ONNX: experiments/test_v04__imagenetQuant__w2a4_PerChannel_FixedPoint/onnx/BED_classifier__best_mean_F1__BIPOLAR_Out\n"
     ]
    }
   ],
   "source": [
    "save_f1_name = 'best_mean_F1'\n",
    "save_bipolar_onnx = config.ONNX_FOLDER + config.MODEL + '_classifier__' + save_f1_name + '__BIPOLAR_Out'\n",
    "utils.export_onnx(cnv_bipolar_out, (1, config.NUM_CHANNELS, config.IMG_H, config.IMG_W), save_bipolar_onnx, config.DEVICE)"
   ]
  },
  {
   "cell_type": "code",
   "execution_count": null,
   "id": "d6e749e2-d113-4b2c-99e6-a3f59e372d3e",
   "metadata": {},
   "outputs": [],
   "source": []
  }
 ],
 "metadata": {
  "kernelspec": {
   "display_name": "Python 3 (ipykernel)",
   "language": "python",
   "name": "python3"
  },
  "language_info": {
   "codemirror_mode": {
    "name": "ipython",
    "version": 3
   },
   "file_extension": ".py",
   "mimetype": "text/x-python",
   "name": "python",
   "nbconvert_exporter": "python",
   "pygments_lexer": "ipython3",
   "version": "3.10.9"
  }
 },
 "nbformat": 4,
 "nbformat_minor": 5
}
