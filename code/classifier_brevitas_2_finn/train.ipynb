{
 "cells": [
  {
   "cell_type": "code",
   "execution_count": 1,
   "id": "ced39284-e77a-4bb4-b4f4-1e32f8dc378b",
   "metadata": {},
   "outputs": [
    {
     "name": "stderr",
     "output_type": "stream",
     "text": [
      "/opt/conda/envs/pytorch_brevitas/lib/python3.10/site-packages/onnxscript/converter.py:820: FutureWarning: 'onnxscript.values.Op.param_schemas' is deprecated in version 0.1 and will be removed in the future. Please use '.op_signature' instead.\n",
      "  param_schemas = callee.param_schemas()\n",
      "/opt/conda/envs/pytorch_brevitas/lib/python3.10/site-packages/onnxscript/converter.py:820: FutureWarning: 'onnxscript.values.OnnxFunction.param_schemas' is deprecated in version 0.1 and will be removed in the future. Please use '.op_signature' instead.\n",
      "  param_schemas = callee.param_schemas()\n"
     ]
    }
   ],
   "source": [
    "import logging\n",
    "import datetime\n",
    "\n",
    "import numpy as np\n",
    "import torch\n",
    "from torch.nn.utils import parameters_to_vector\n",
    "import torch.optim as optim\n",
    "from torchinfo import summary\n",
    "\n",
    "import matplotlib.pyplot as plt\n",
    "\n",
    "import config\n",
    "import modules.dataloaders as dataloaders\n",
    "\n",
    "#import modules.model_CNV as cnv_model\n",
    "# import modules.models.model_CNV_w1a1 as cnv_model\n",
    "# import modules.models.model_CNV_w1a1_BIG as cnv_model\n",
    "# import modules.models.model_CNV_w1a1_WIDE as cnv_model\n",
    "# import modules.models.model_CNV_w1a1_linear4 as cnv_model\n",
    "import modules.models.model_CNV_w1a1_DEEP_Resnet as cnv_model\n",
    "\n",
    "\n",
    "#import modules.models.model_CNV_imagenet as cnv_model\n",
    "# import modules.models.model_CNV_AIMET_imagenet as cnv_model\n",
    "# import modules.models.model_CNV_AIMET_NoPadding_imagenet as cnv_model\n",
    "# import modules.models.model_CNV_AIMET_NoPadding_FPGA_imagenet as cnv_model\n",
    "\n",
    "import modules.loss as loss\n",
    "import modules.metrics as metrics\n",
    "import modules.train_epoch as train_epoch\n",
    "import modules.val_epoch as val_epoch\n",
    "import modules.utils as utils"
   ]
  },
  {
   "cell_type": "code",
   "execution_count": 2,
   "id": "8c9f1ed9-bdb0-4417-ac3d-cec7acef5117",
   "metadata": {},
   "outputs": [],
   "source": [
    "# from brevitas.export import export_onnx_qcdq\n",
    "# from brevitas.export import export_qonnx"
   ]
  },
  {
   "cell_type": "code",
   "execution_count": 68,
   "id": "124ca52d-dd8c-4b94-a60d-3f1c65600e76",
   "metadata": {},
   "outputs": [
    {
     "data": {
      "text/plain": [
       "<module 'modules.train_epoch' from '/home/gmoreno/uav/code/classifier_brevitas_2_finn/modules/train_epoch.py'>"
      ]
     },
     "execution_count": 68,
     "metadata": {},
     "output_type": "execute_result"
    }
   ],
   "source": [
    "import importlib"
   ]
  },
  {
   "cell_type": "code",
   "execution_count": 124,
   "id": "5b1b35f4-e30a-4a72-bd2f-f7ab91b14252",
   "metadata": {},
   "outputs": [
    {
     "data": {
      "text/plain": [
       "<module 'config' from '/home/gmoreno/uav/code/classifier_brevitas_2_finn/config.py'>"
      ]
     },
     "execution_count": 124,
     "metadata": {},
     "output_type": "execute_result"
    }
   ],
   "source": [
    "importlib.reload(config)"
   ]
  },
  {
   "cell_type": "code",
   "execution_count": 133,
   "id": "95fef265-dc2d-40ec-a716-7fd7b316f15e",
   "metadata": {},
   "outputs": [
    {
     "data": {
      "text/plain": [
       "<module 'modules.models.model_CNV_w1a1_DEEP_Resnet' from '/home/gmoreno/uav/code/classifier_brevitas_2_finn/modules/models/model_CNV_w1a1_DEEP_Resnet.py'>"
      ]
     },
     "execution_count": 133,
     "metadata": {},
     "output_type": "execute_result"
    }
   ],
   "source": [
    "importlib.reload(cnv_model)"
   ]
  },
  {
   "cell_type": "code",
   "execution_count": 126,
   "id": "af881207-29a8-40f0-84cc-814a8529ddb4",
   "metadata": {},
   "outputs": [
    {
     "data": {
      "text/plain": [
       "<module 'modules.train_epoch' from '/home/gmoreno/uav/code/classifier_brevitas_2_finn/modules/train_epoch.py'>"
      ]
     },
     "execution_count": 126,
     "metadata": {},
     "output_type": "execute_result"
    }
   ],
   "source": [
    "importlib.reload(train_epoch)"
   ]
  },
  {
   "cell_type": "markdown",
   "id": "4e2413f4-083b-4ddd-bf51-0332c1166d47",
   "metadata": {},
   "source": [
    "# Logger"
   ]
  },
  {
   "cell_type": "code",
   "execution_count": 127,
   "id": "9006bcad-639b-4775-b5a6-2fd13420cbb2",
   "metadata": {},
   "outputs": [],
   "source": [
    "log_path = config.LOGS_FOLDER\n",
    "\n",
    "logger = logging.getLogger(\"GonLogger\")\n",
    "logger.propagate = False\n",
    "logger.setLevel(logging.INFO)\n",
    "file_handler = logging.FileHandler(log_path + 'logfile.log')\n",
    "formatter = logging.Formatter('%(message)s')\n",
    "file_handler.setFormatter(formatter)\n",
    "\n",
    "# add file handler to logger\n",
    "logger.addHandler(file_handler)\n",
    "\n",
    "logger.info('BED Classifier.\\n' +  \n",
    "            '\\tOne Head.\\n' +\n",
    "            '\\tWeighted for Precision.\\n' +\n",
    "            '\\tBrevitas Default.\\n'+ \n",
    "            '\\tDataset images divided by 255.\\n')"
   ]
  },
  {
   "cell_type": "markdown",
   "id": "3884364d-ec36-4e80-a0d5-c5d259f4b313",
   "metadata": {},
   "source": [
    "# Hyperparameters Log"
   ]
  },
  {
   "cell_type": "code",
   "execution_count": 128,
   "id": "25fe6b1d-7f69-48d4-80a2-219e19c33016",
   "metadata": {},
   "outputs": [
    {
     "name": "stdout",
     "output_type": "stream",
     "text": [
      "\n",
      "Datasets Length\n",
      "\tTrain and Val: Full\n",
      "\n",
      "Load Model: False\n",
      "Device: cuda\n",
      "Optimizer:\n",
      "\tLearning Rate: 0.001\n",
      "\tWeight Decay: 0.001\n",
      "Scheduler:\n",
      "\tScheduler factor: 0.8\n",
      "\tScheduler patience: 2\n",
      "\tScheduler threshold: 0.001\n",
      "\tScheduler min learning rate: 1e-06\n",
      "Batch Size: 64\n",
      "Num Workers: 8\n",
      "Pin Memory: True\n",
      "Epochs: 150\n",
      "\n",
      "IMG DIMS:\n",
      "\tWidth: 224\n",
      "\tHeight: 224\n",
      "\n",
      "Brevitas Config:\n",
      "\tFixed Point: True\n",
      "\tWeights Bit Width: 4\n",
      "\tBig Layers Weights Bit Width: 4\n",
      "\tBias Bit Width: 4\n",
      "\tActivations Bit Width: 4\n"
     ]
    }
   ],
   "source": [
    "''' ============================\n",
    "    Print Config Values\n",
    "============================ '''\n",
    "print('\\nDatasets Length')\n",
    "print(f'\\tTrain and Val: {\"Full\" if config.DS_LEN == None else config.DS_LEN}')\n",
    "print(f'\\nLoad Model: {config.LOAD_MODEL}')\n",
    "if (config.LOAD_MODEL == True):\n",
    "    print(f'\\tModel: {config.LOAD_MODEL_FILE}')\n",
    "print(f'Device: {config.DEVICE}')\n",
    "print('Optimizer:')\n",
    "print(f'\\tLearning Rate: {config.LEARNING_RATE}')\n",
    "print(f'\\tWeight Decay: {config.WEIGHT_DECAY}')\n",
    "print('Scheduler:')\n",
    "print(f'\\tScheduler factor: {config.FACTOR}')\n",
    "print(f'\\tScheduler patience: {config.PATIENCE}')\n",
    "print(f'\\tScheduler threshold: {config.THRES}')\n",
    "print(f'\\tScheduler min learning rate: {config.MIN_LR}')\n",
    "print(f'Batch Size: {config.BATCH_SIZE}')\n",
    "print(f'Num Workers: {config.NUM_WORKERS}')\n",
    "print(f'Pin Memory: {config.PIN_MEMORY}')\n",
    "print(f'Epochs: {config.EPOCHS}')\n",
    "print('\\nIMG DIMS:')\n",
    "print(f'\\tWidth: {config.IMG_W}\\n\\tHeight: {config.IMG_H}')\n",
    "print('\\nBrevitas Config:')\n",
    "print(f'\\tFixed Point: {config.FIXED_POINT}')\n",
    "print(f'\\tWeights Bit Width: {config.WEIGHTS_BIT_WIDTH}')\n",
    "print(f'\\tBig Layers Weights Bit Width: {config.BIG_LAYERS_WEIGHTS_BIT_WIDTH}')\n",
    "print(f'\\tBias Bit Width: {config.BIAS_BIT_WIDTH}')\n",
    "print(f'\\tActivations Bit Width: {config.ACTIVATIONS_BIT_WIDTH}')\n",
    "\n",
    "logger.info('\\nDatasets Length')\n",
    "logger.info(f'\\tTrain and Val: {\"Full\" if config.DS_LEN == None else config.DS_LEN}')\n",
    "logger.info(f'\\nLoad Model: {config.LOAD_MODEL}')\n",
    "if (config.LOAD_MODEL == True):\n",
    "    logger.info(f'\\tModel: {config.LOAD_MODEL_FILE}')\n",
    "logger.info(f'\\nDevice: {config.DEVICE}')\n",
    "logger.info('Optimizer:')\n",
    "logger.info(f'\\tLearning Rate: {config.LEARNING_RATE}')\n",
    "logger.info(f'\\tWeight Decay: {config.WEIGHT_DECAY}')\n",
    "logger.info('Scheduler:')\n",
    "logger.info(f'\\tScheduler factor: {config.FACTOR}')\n",
    "logger.info(f'\\tScheduler patience: {config.PATIENCE}')\n",
    "logger.info(f'\\tScheduler threshold: {config.THRES}')\n",
    "logger.info(f'\\tScheduler min learning rate: {config.MIN_LR}')\n",
    "logger.info(f'\\nBatch Size: {config.BATCH_SIZE}')\n",
    "logger.info(f'Num Workers: {config.NUM_WORKERS}')\n",
    "logger.info(f'Pin Memory: {config.PIN_MEMORY}')\n",
    "logger.info(f'Epochs: {config.EPOCHS}')\n",
    "logger.info('\\nIMG DIMS:')\n",
    "logger.info(f'\\tWidth: {config.IMG_W}\\n\\tHeight: {config.IMG_H}')\n",
    "logger.info('\\nBrevitas Config:')\n",
    "logger.info(f'\\tFixed Point: {config.FIXED_POINT}')\n",
    "logger.info(f'\\tWeights Bit Width: {config.WEIGHTS_BIT_WIDTH}')\n",
    "logger.info(f'\\tBig Layers Weights Bit Width: {config.BIG_LAYERS_WEIGHTS_BIT_WIDTH}')\n",
    "logger.info(f'\\tBias Bit Width: {config.BIAS_BIT_WIDTH}')\n",
    "logger.info(f'\\tActivations Bit Width: {config.ACTIVATIONS_BIT_WIDTH}')"
   ]
  },
  {
   "cell_type": "markdown",
   "id": "c48611bc-7a36-41f5-a80c-5cc442bd40fd",
   "metadata": {},
   "source": [
    "# Dataloaders"
   ]
  },
  {
   "cell_type": "code",
   "execution_count": 6,
   "id": "125fadde-618b-4a0d-8d1e-86f4b46a35a2",
   "metadata": {},
   "outputs": [
    {
     "name": "stdout",
     "output_type": "stream",
     "text": [
      "\n",
      "====================\n",
      "TRAIN DFIRE dataset\n"
     ]
    },
    {
     "name": "stderr",
     "output_type": "stream",
     "text": [
      "Corrupt JPEG data: 1 extraneous bytes before marker 0xd9\n"
     ]
    },
    {
     "name": "stdout",
     "output_type": "stream",
     "text": [
      "DFire Removed wrong images: 0\n",
      "DFire empty images: 7833\n",
      "DFire only smoke images: 4681\n",
      "DFire only fire images: 944\n",
      "DFire smoke and fire images: 3763\n",
      "\n",
      "Train DFire dataset len: 17221\n",
      "\n",
      "====================\n",
      "TRAIN FASDD UAV dataset\n",
      "FASDD Removed wrong images: 0\n",
      "FASDD empty images: 5994\n",
      "FASDD only smoke images: 2541\n",
      "FASDD only fire images: 105\n",
      "FASDD smoke and fire images: 3911\n",
      "\n",
      "Train FASDD UAV dataset len: 12551\n",
      "\n",
      "====================\n",
      "VAL FASDD UAV dataset\n",
      "FASDD Removed wrong images: 0\n",
      "FASDD empty images: 3995\n",
      "FASDD only smoke images: 1693\n",
      "FASDD only fire images: 70\n",
      "FASDD smoke and fire images: 2607\n",
      "\n",
      "Val FASDD UAV dataset len: 8365\n",
      "\n",
      "====================\n",
      "TRAIN FASDD CV dataset\n"
     ]
    },
    {
     "name": "stderr",
     "output_type": "stream",
     "text": [
      "Corrupt JPEG data: 1 extraneous bytes before marker 0xd9\n",
      "Warning: unknown JFIF revision number 32.23\n"
     ]
    },
    {
     "name": "stdout",
     "output_type": "stream",
     "text": [
      "FASDD Removed wrong images: 0\n",
      "FASDD empty images: 19600\n",
      "FASDD only smoke images: 11708\n",
      "FASDD only fire images: 6276\n",
      "FASDD smoke and fire images: 10076\n",
      "\n",
      "Train FASDD CV dataset len: 47660\n",
      "\n",
      "====================\n",
      "Val FASDD CV dataset\n"
     ]
    },
    {
     "name": "stderr",
     "output_type": "stream",
     "text": [
      "Corrupt JPEG data: 1 extraneous bytes before marker 0xd9\n",
      "Corrupt JPEG data: 1 extraneous bytes before marker 0xd9\n"
     ]
    },
    {
     "name": "stdout",
     "output_type": "stream",
     "text": [
      "FASDD Removed wrong images: 0\n",
      "FASDD empty images: 13066\n",
      "FASDD only smoke images: 7804\n",
      "FASDD only fire images: 4183\n",
      "FASDD smoke and fire images: 6717\n",
      "\n",
      "Val FASDD CV dataset len: 31770\n",
      "\n",
      "Concatenate Train DFire and Train FASDD UAV datasets\n",
      "Train dataset len: 29772\n",
      "Concatenate with Val FASDD UAV dataset\n",
      "Train dataset len: 38137\n",
      "Concatenate with Train FASDD CV dataset\n",
      "Train dataset len: 85797\n",
      "Concatenate with Val FASDD CV dataset\n",
      "Train dataset len: 117567\n",
      "\n",
      "====================\n",
      "TEST DFire dataset\n",
      "DFire Removed wrong images: 0\n",
      "DFire empty images: 2005\n",
      "DFire only smoke images: 1186\n",
      "DFire only fire images: 220\n",
      "DFire smoke and fire images: 895\n",
      "\n",
      "Test dataset len: 4306\n",
      "\n",
      "====================\n",
      "TEST FASDD UAV dataset\n",
      "FASDD Removed wrong images: 0\n",
      "FASDD empty images: 1997\n",
      "FASDD only smoke images: 846\n",
      "FASDD only fire images: 35\n",
      "FASDD smoke and fire images: 1303\n",
      "\n",
      "Test FASDD UAV dataset len: 4181\n",
      "\n",
      "====================\n",
      "TEST FASDD CV dataset\n",
      "FASDD Removed wrong images: 0\n",
      "FASDD empty images: 6533\n",
      "FASDD only smoke images: 3902\n",
      "FASDD only fire images: 2091\n",
      "FASDD smoke and fire images: 3358\n",
      "\n",
      "Test FASDD CV dataset len: 15884\n",
      "Concatenate Test DFire and FASDD UAV datasets\n",
      "Test dataset len: 8487\n",
      "Concatenate with FASDD CV dataset\n",
      "Test dataset len: 24371\n"
     ]
    }
   ],
   "source": [
    "train_loader = dataloaders.get_train_loader()\n",
    "val_loader = dataloaders.get_val_loader()"
   ]
  },
  {
   "cell_type": "markdown",
   "id": "841b4bfc-55f6-4692-a5de-8f457d17472c",
   "metadata": {},
   "source": [
    "### Plot Some Train Pictures"
   ]
  },
  {
   "cell_type": "code",
   "execution_count": 129,
   "id": "f18dab26-cb88-4c13-ad66-a5cc8176a0f0",
   "metadata": {},
   "outputs": [],
   "source": [
    "for i, (img, label) in enumerate(train_loader):\n",
    "\n",
    "    plt.subplots(8,4, figsize=(8, 16))\n",
    "    \n",
    "    for idx in range(config.BATCH_SIZE):\n",
    "        plt.subplot(8, 4, idx+1)\n",
    "        plt.imshow(img[idx].permute(1, 2, 0))\n",
    "        title = \"\"\n",
    "        if label[idx][0] == 1 and label[idx][1] == 1:\n",
    "            title += \"Smoke and Fire\"\n",
    "        elif label[idx][0] == 1 and label[idx][1] == 0:\n",
    "            title += \"Only Smoke\"\n",
    "        elif label[idx][0] == 0 and label[idx][1] == 1:\n",
    "            title += \"Only Fire\"\n",
    "        else:\n",
    "            title += \"Empty\"\n",
    "        plt.title(title)\n",
    "        \n",
    "        if (idx == 31):\n",
    "            break\n",
    "    plt.tight_layout()\n",
    "    plt.savefig(config.RUN_FOLDER + 'train_pictures.png')\n",
    "    #plt.show()\n",
    "    plt.close()\n",
    "    break"
   ]
  },
  {
   "cell_type": "markdown",
   "id": "3f38c400-7e28-46fd-8cab-fb537e5bb248",
   "metadata": {},
   "source": [
    "### Plot Some Val Pictures"
   ]
  },
  {
   "cell_type": "code",
   "execution_count": 130,
   "id": "60efe557-e316-4ec3-a850-3e671f04b1a8",
   "metadata": {},
   "outputs": [],
   "source": [
    "for i, (img, label) in enumerate(val_loader):\n",
    "\n",
    "    plt.subplots(8,4, figsize=(8, 16))\n",
    "    \n",
    "    for idx in range(config.BATCH_SIZE):\n",
    "        plt.subplot(8, 4, idx+1)\n",
    "        plt.imshow(img[idx].permute(1, 2, 0))\n",
    "        title = \"\"\n",
    "        if label[idx][0] == 1 and label[idx][1] == 1:\n",
    "            title += \"Smoke and Fire\"\n",
    "        elif label[idx][0] == 1 and label[idx][1] == 0:\n",
    "            title += \"Only Smoke\"\n",
    "        elif label[idx][0] == 0 and label[idx][1] == 1:\n",
    "            title += \"Only Fire\"\n",
    "        else:\n",
    "            title += \"Empty\"\n",
    "        plt.title(title)\n",
    "        \n",
    "        if (idx == 31):\n",
    "            break\n",
    "    plt.tight_layout()\n",
    "    plt.savefig(config.RUN_FOLDER + 'val_pictures.png')\n",
    "    plt.close()\n",
    "    break"
   ]
  },
  {
   "cell_type": "markdown",
   "id": "32673ea5-65c2-418d-b4bb-dc52d5fc0cb5",
   "metadata": {},
   "source": [
    "# Load Model"
   ]
  },
  {
   "cell_type": "code",
   "execution_count": 131,
   "id": "6b34ad38-02fd-42c5-b265-497603c933bb",
   "metadata": {},
   "outputs": [],
   "source": [
    "# import modules.models.model_CNV_w1a1_WIDE as cnv_model_big"
   ]
  },
  {
   "cell_type": "code",
   "execution_count": 134,
   "id": "65f05240-0c38-4f73-b06d-bf9ceefcb369",
   "metadata": {
    "editable": true,
    "slideshow": {
     "slide_type": ""
    },
    "tags": []
   },
   "outputs": [],
   "source": [
    "# model = cnv_model.CNV(\n",
    "#     num_classes = 2, \n",
    "#     weight_bit_width=4, \n",
    "#     act_bit_width=4, \n",
    "#     in_bit_width=8, \n",
    "# )  \n",
    "\n",
    "# Models with Brevitas Tutorials imagenet style\n",
    "# model = cnv_model.CNV().to(config.DEVICE)\n",
    "# model = cnv_model.CNV_w1a1().to(config.DEVICE)\n",
    "# model = cnv_model.CNV_w1a1_BIG().to(config.DEVICE)\n",
    "# model = cnv_model_big.CNV_w1a1_WIDE().to(config.DEVICE)\n",
    "# model = cnv_model.CNV_w1a1_linear4().to(config.DEVICE)\n",
    "model = cnv_model.CNV_w1a1_DEEP_Resnet().to(config.DEVICE)\n",
    "\n",
    "# model = cnv_model.CNV_AIMET().to(config.DEVICE)"
   ]
  },
  {
   "cell_type": "markdown",
   "id": "578c963b-1a73-4b8b-9646-8ad392dd4eee",
   "metadata": {},
   "source": [
    "### Optimizer and Scheduler"
   ]
  },
  {
   "cell_type": "code",
   "execution_count": 135,
   "id": "e2284272-f9fc-4adb-a7c4-81ac3956d95b",
   "metadata": {},
   "outputs": [],
   "source": [
    "optimizer = optim.Adam(model.parameters(), \n",
    "                       lr=config.LEARNING_RATE, \n",
    "                       weight_decay=config.WEIGHT_DECAY)\n",
    "\n",
    "scheduler = optim.lr_scheduler.ReduceLROnPlateau(optimizer, \n",
    "                                                 mode='min',\n",
    "                                                 factor=config.FACTOR, \n",
    "                                                 patience=config.PATIENCE, \n",
    "                                                 threshold=config.THRES, \n",
    "                                                 threshold_mode='abs',\n",
    "                                                 min_lr=config.MIN_LR)\n",
    "\n"
   ]
  },
  {
   "cell_type": "markdown",
   "id": "1d0bac02-ea2e-40b6-9f71-456b3f3cf943",
   "metadata": {},
   "source": [
    "### Parameters"
   ]
  },
  {
   "cell_type": "code",
   "execution_count": 136,
   "id": "ce30cdae-4cb8-4399-9766-49932d6a4bed",
   "metadata": {},
   "outputs": [
    {
     "name": "stdout",
     "output_type": "stream",
     "text": [
      "\n",
      "Trainable parameters = 302948\n",
      "Total parameters = 302948\n",
      "\n"
     ]
    }
   ],
   "source": [
    "n_trainable = sum(p.numel() for p in model.parameters() if p.requires_grad)\n",
    "print(f'\\nTrainable parameters = {n_trainable}')\n",
    "logger.info(f'\\nTrainable parameters = {n_trainable}')\n",
    "\n",
    "n_params = parameters_to_vector(model.parameters()).numel()\n",
    "print(f'Total parameters = {n_params}\\n')\n",
    "logger.info(f'Total parameters = {n_params}\\n')"
   ]
  },
  {
   "cell_type": "markdown",
   "id": "cfb33a7e-b560-4446-bd60-8621483adfdc",
   "metadata": {},
   "source": [
    "### Check Model Shape: Random Input"
   ]
  },
  {
   "cell_type": "code",
   "execution_count": 137,
   "id": "d80f00c5-183d-431b-bf8a-26551c390cae",
   "metadata": {},
   "outputs": [
    {
     "name": "stdout",
     "output_type": "stream",
     "text": [
      "Model shape is tensor([[0., 0.],\n",
      "        [0., 0.],\n",
      "        [0., 0.],\n",
      "        [0., 0.]], device='cuda:0', grad_fn=<AddBackward0>)\n"
     ]
    }
   ],
   "source": [
    "dummy_input = np.random.rand(4, config.NUM_CHANNELS, config.IMG_H, config.IMG_W)\n",
    "dummy_input = torch.tensor(dummy_input, dtype=torch.float32, device=config.DEVICE)\n",
    "out_test = model(dummy_input)\n",
    "print(f'Model shape is {out_test}')\n",
    "#print(f'BED Model Arquitecture\\n{cnv_model}')"
   ]
  },
  {
   "cell_type": "markdown",
   "id": "6a769672-efb0-4727-8322-8c68795d0efb",
   "metadata": {},
   "source": [
    "### Torchinfo"
   ]
  },
  {
   "cell_type": "code",
   "execution_count": 138,
   "id": "607141f0-be35-4feb-8635-c63724d1503e",
   "metadata": {},
   "outputs": [
    {
     "name": "stdout",
     "output_type": "stream",
     "text": [
      "========================================================================================================================\n",
      "Layer (type:depth-idx)                                                 Output Shape              Param #\n",
      "========================================================================================================================\n",
      "CNV_w1a1_DEEP_Resnet                                                   [1, 2]                    --\n",
      "├─ModuleList: 1-9                                                      --                        (recursive)\n",
      "│    └─QuantIdentity: 2-1                                              [1, 3, 224, 224]          --\n",
      "│    │    └─ActQuantProxyFromInjector: 3-1                             [1, 3, 224, 224]          --\n",
      "│    │    └─ActQuantProxyFromInjector: 3-2                             [1, 3, 224, 224]          --\n",
      "├─ModuleList: 1-64                                                     --                        (recursive)\n",
      "│    └─QuantLinear: 2-140                                              --                        (recursive)\n",
      "│    │    └─WeightQuantProxyFromInjector: 3-176                        --                        (recursive)\n",
      "├─ModuleList: 1-9                                                      --                        (recursive)\n",
      "│    └─QuantIdentity: 2-5                                              --                        --\n",
      "│    │    └─ActQuantProxyFromInjector: 3-6                             --                        --\n",
      "├─ModuleList: 1-64                                                     --                        (recursive)\n",
      "│    └─QuantReLU: 2-141                                                --                        (recursive)\n",
      "│    │    └─ActQuantProxyFromInjector: 3-177                           --                        (recursive)\n",
      "├─ModuleList: 1-9                                                      --                        (recursive)\n",
      "│    └─QuantIdentity: 2-5                                              --                        --\n",
      "│    │    └─ActQuantProxyFromInjector: 3-6                             --                        --\n",
      "│    └─QuantConv2d: 2-6                                                [1, 64, 224, 224]         1,728\n",
      "│    │    └─ActQuantProxyFromInjector: 3-7                             [1, 3, 224, 224]          --\n",
      "│    │    └─WeightQuantProxyFromInjector: 3-8                          [64, 3, 3, 3]             --\n",
      "│    │    └─ActQuantProxyFromInjector: 3-9                             [1, 64, 224, 224]         --\n",
      "│    └─BatchNorm2d: 2-7                                                [1, 64, 224, 224]         128\n",
      "│    └─QuantIdentity: 2-8                                              [1, 64, 224, 224]         --\n",
      "│    │    └─ActQuantProxyFromInjector: 3-10                            [1, 64, 224, 224]         --\n",
      "│    │    └─ActQuantProxyFromInjector: 3-11                            [1, 64, 224, 224]         --\n",
      "├─QuantIdentity: 1-60                                                  --                        --\n",
      "│    └─ActQuantProxyFromInjector: 2-121                                --                        --\n",
      "│    │    └─FusedActivationQuantProxy: 3-154                           --                        --\n",
      "├─ModuleList: 1-9                                                      --                        (recursive)\n",
      "│    └─QuantIdentity: 2-10                                             --                        --\n",
      "│    │    └─ActQuantProxyFromInjector: 3-13                            --                        --\n",
      "│    └─MaxPool2d: 2-11                                                 [1, 64, 112, 112]         --\n",
      "│    └─QuantConv2d: 2-12                                               [1, 32, 112, 112]         18,432\n",
      "│    │    └─ActQuantProxyFromInjector: 3-14                            [1, 64, 112, 112]         --\n",
      "│    │    └─WeightQuantProxyFromInjector: 3-15                         [32, 64, 3, 3]            --\n",
      "│    │    └─ActQuantProxyFromInjector: 3-16                            [1, 32, 112, 112]         --\n",
      "│    └─BatchNorm2d: 2-13                                               [1, 32, 112, 112]         64\n",
      "│    └─QuantIdentity: 2-14                                             [1, 32, 112, 112]         --\n",
      "│    │    └─ActQuantProxyFromInjector: 3-17                            [1, 32, 112, 112]         --\n",
      "│    │    └─ActQuantProxyFromInjector: 3-18                            [1, 32, 112, 112]         --\n",
      "├─QuantIdentity: 1-60                                                  --                        --\n",
      "│    └─ActQuantProxyFromInjector: 2-121                                --                        --\n",
      "│    │    └─FusedActivationQuantProxy: 3-154                           --                        --\n",
      "├─ModuleList: 1-9                                                      --                        (recursive)\n",
      "│    └─QuantIdentity: 2-16                                             --                        --\n",
      "│    │    └─ActQuantProxyFromInjector: 3-20                            --                        --\n",
      "│    └─MaxPool2d: 2-17                                                 [1, 32, 56, 56]           --\n",
      "├─ModuleList: 1-16                                                     --                        (recursive)\n",
      "│    └─QuantConv2d: 2-18                                               [1, 16, 56, 56]           512\n",
      "│    │    └─ActQuantProxyFromInjector: 3-21                            [1, 32, 56, 56]           --\n",
      "│    │    └─WeightQuantProxyFromInjector: 3-22                         [16, 32, 1, 1]            --\n",
      "│    │    └─ActQuantProxyFromInjector: 3-23                            [1, 16, 56, 56]           --\n",
      "│    └─BatchNorm2d: 2-19                                               [1, 16, 56, 56]           32\n",
      "│    └─QuantIdentity: 2-20                                             [1, 16, 56, 56]           --\n",
      "│    │    └─ActQuantProxyFromInjector: 3-24                            [1, 16, 56, 56]           --\n",
      "│    │    └─ActQuantProxyFromInjector: 3-25                            [1, 16, 56, 56]           --\n",
      "├─QuantIdentity: 1-60                                                  --                        --\n",
      "│    └─ActQuantProxyFromInjector: 2-121                                --                        --\n",
      "│    │    └─FusedActivationQuantProxy: 3-154                           --                        --\n",
      "├─ModuleList: 1-16                                                     --                        (recursive)\n",
      "│    └─QuantIdentity: 2-22                                             --                        --\n",
      "│    │    └─ActQuantProxyFromInjector: 3-27                            --                        --\n",
      "│    └─QuantConv2d: 2-23                                               [1, 32, 56, 56]           4,608\n",
      "│    │    └─ActQuantProxyFromInjector: 3-28                            [1, 16, 56, 56]           --\n",
      "│    │    └─WeightQuantProxyFromInjector: 3-29                         [32, 16, 3, 3]            --\n",
      "│    │    └─ActQuantProxyFromInjector: 3-30                            [1, 32, 56, 56]           --\n",
      "│    └─BatchNorm2d: 2-24                                               [1, 32, 56, 56]           64\n",
      "│    └─QuantIdentity: 2-25                                             [1, 32, 56, 56]           --\n",
      "│    │    └─ActQuantProxyFromInjector: 3-31                            [1, 32, 56, 56]           --\n",
      "│    │    └─ActQuantProxyFromInjector: 3-32                            [1, 32, 56, 56]           --\n",
      "├─QuantIdentity: 1-60                                                  --                        --\n",
      "│    └─ActQuantProxyFromInjector: 2-121                                --                        --\n",
      "│    │    └─FusedActivationQuantProxy: 3-154                           --                        --\n",
      "├─ModuleList: 1-16                                                     --                        (recursive)\n",
      "│    └─QuantIdentity: 2-27                                             --                        --\n",
      "│    │    └─ActQuantProxyFromInjector: 3-34                            --                        --\n",
      "│    └─QuantConv2d: 2-28                                               [1, 32, 56, 56]           1,024\n",
      "│    │    └─ActQuantProxyFromInjector: 3-35                            [1, 32, 56, 56]           --\n",
      "│    │    └─WeightQuantProxyFromInjector: 3-36                         [32, 32, 1, 1]            --\n",
      "│    │    └─ActQuantProxyFromInjector: 3-37                            [1, 32, 56, 56]           --\n",
      "│    └─BatchNorm2d: 2-29                                               [1, 32, 56, 56]           64\n",
      "│    └─QuantIdentity: 2-30                                             [1, 32, 56, 56]           --\n",
      "│    │    └─ActQuantProxyFromInjector: 3-38                            [1, 32, 56, 56]           --\n",
      "│    │    └─ActQuantProxyFromInjector: 3-39                            [1, 32, 56, 56]           --\n",
      "├─QuantIdentity: 1-60                                                  --                        --\n",
      "│    └─ActQuantProxyFromInjector: 2-121                                --                        --\n",
      "│    │    └─FusedActivationQuantProxy: 3-154                           --                        --\n",
      "├─ModuleList: 1-16                                                     --                        (recursive)\n",
      "│    └─QuantIdentity: 2-32                                             --                        --\n",
      "│    │    └─ActQuantProxyFromInjector: 3-41                            --                        --\n",
      "├─QuantIdentity: 1-17                                                  [1, 32, 56, 56]           --\n",
      "│    └─ActQuantProxyFromInjector: 2-33                                 [1, 32, 56, 56]           --\n",
      "│    └─ActQuantProxyFromInjector: 2-34                                 [1, 32, 56, 56]           --\n",
      "│    │    └─FusedActivationQuantProxy: 3-42                            [1, 32, 56, 56]           --\n",
      "├─QuantIdentity: 1-60                                                  --                        --\n",
      "│    └─ActQuantProxyFromInjector: 2-121                                --                        --\n",
      "│    │    └─FusedActivationQuantProxy: 3-154                           --                        --\n",
      "├─QuantIdentity: 1-19                                                  --                        --\n",
      "│    └─ActQuantProxyFromInjector: 2-36                                 --                        --\n",
      "│    │    └─FusedActivationQuantProxy: 3-44                            --                        --\n",
      "├─ModuleList: 1-22                                                     --                        (recursive)\n",
      "│    └─QuantConv2d: 2-37                                               [1, 64, 56, 56]           18,432\n",
      "│    │    └─ActQuantProxyFromInjector: 3-45                            [1, 32, 56, 56]           --\n",
      "│    │    └─WeightQuantProxyFromInjector: 3-46                         [64, 32, 3, 3]            --\n",
      "│    │    └─ActQuantProxyFromInjector: 3-47                            [1, 64, 56, 56]           --\n",
      "│    └─BatchNorm2d: 2-38                                               [1, 64, 56, 56]           128\n",
      "│    └─QuantIdentity: 2-39                                             [1, 64, 56, 56]           --\n",
      "│    │    └─ActQuantProxyFromInjector: 3-48                            [1, 64, 56, 56]           --\n",
      "│    │    └─ActQuantProxyFromInjector: 3-49                            [1, 64, 56, 56]           --\n",
      "├─QuantIdentity: 1-60                                                  --                        --\n",
      "│    └─ActQuantProxyFromInjector: 2-121                                --                        --\n",
      "│    │    └─FusedActivationQuantProxy: 3-154                           --                        --\n",
      "├─ModuleList: 1-22                                                     --                        (recursive)\n",
      "│    └─QuantIdentity: 2-41                                             --                        --\n",
      "│    │    └─ActQuantProxyFromInjector: 3-51                            --                        --\n",
      "│    └─MaxPool2d: 2-42                                                 [1, 64, 28, 28]           --\n",
      "├─ModuleList: 1-35                                                     --                        (recursive)\n",
      "│    └─QuantConv2d: 2-43                                               [1, 32, 28, 28]           2,048\n",
      "│    │    └─ActQuantProxyFromInjector: 3-52                            [1, 64, 28, 28]           --\n",
      "│    │    └─WeightQuantProxyFromInjector: 3-53                         [32, 64, 1, 1]            --\n",
      "│    │    └─ActQuantProxyFromInjector: 3-54                            [1, 32, 28, 28]           --\n",
      "│    └─BatchNorm2d: 2-44                                               [1, 32, 28, 28]           64\n",
      "│    └─QuantIdentity: 2-45                                             [1, 32, 28, 28]           --\n",
      "│    │    └─ActQuantProxyFromInjector: 3-55                            [1, 32, 28, 28]           --\n",
      "│    │    └─ActQuantProxyFromInjector: 3-56                            [1, 32, 28, 28]           --\n",
      "├─QuantIdentity: 1-60                                                  --                        --\n",
      "│    └─ActQuantProxyFromInjector: 2-121                                --                        --\n",
      "│    │    └─FusedActivationQuantProxy: 3-154                           --                        --\n",
      "├─ModuleList: 1-35                                                     --                        (recursive)\n",
      "│    └─QuantIdentity: 2-47                                             --                        --\n",
      "│    │    └─ActQuantProxyFromInjector: 3-58                            --                        --\n",
      "│    └─QuantConv2d: 2-48                                               [1, 64, 28, 28]           18,432\n",
      "│    │    └─ActQuantProxyFromInjector: 3-59                            [1, 32, 28, 28]           --\n",
      "│    │    └─WeightQuantProxyFromInjector: 3-60                         [64, 32, 3, 3]            --\n",
      "│    │    └─ActQuantProxyFromInjector: 3-61                            [1, 64, 28, 28]           --\n",
      "│    └─BatchNorm2d: 2-49                                               [1, 64, 28, 28]           128\n",
      "│    └─QuantIdentity: 2-50                                             [1, 64, 28, 28]           --\n",
      "│    │    └─ActQuantProxyFromInjector: 3-62                            [1, 64, 28, 28]           --\n",
      "│    │    └─ActQuantProxyFromInjector: 3-63                            [1, 64, 28, 28]           --\n",
      "├─QuantIdentity: 1-60                                                  --                        --\n",
      "│    └─ActQuantProxyFromInjector: 2-121                                --                        --\n",
      "│    │    └─FusedActivationQuantProxy: 3-154                           --                        --\n",
      "├─ModuleList: 1-35                                                     --                        (recursive)\n",
      "│    └─QuantIdentity: 2-52                                             --                        --\n",
      "│    │    └─ActQuantProxyFromInjector: 3-65                            --                        --\n",
      "│    └─QuantConv2d: 2-53                                               [1, 32, 28, 28]           2,048\n",
      "│    │    └─ActQuantProxyFromInjector: 3-66                            [1, 64, 28, 28]           --\n",
      "│    │    └─WeightQuantProxyFromInjector: 3-67                         [32, 64, 1, 1]            --\n",
      "│    │    └─ActQuantProxyFromInjector: 3-68                            [1, 32, 28, 28]           --\n",
      "│    └─BatchNorm2d: 2-54                                               [1, 32, 28, 28]           64\n",
      "│    └─QuantIdentity: 2-55                                             [1, 32, 28, 28]           --\n",
      "│    │    └─ActQuantProxyFromInjector: 3-69                            [1, 32, 28, 28]           --\n",
      "│    │    └─ActQuantProxyFromInjector: 3-70                            [1, 32, 28, 28]           --\n",
      "├─QuantIdentity: 1-60                                                  --                        --\n",
      "│    └─ActQuantProxyFromInjector: 2-121                                --                        --\n",
      "│    │    └─FusedActivationQuantProxy: 3-154                           --                        --\n",
      "├─ModuleList: 1-35                                                     --                        (recursive)\n",
      "│    └─QuantIdentity: 2-57                                             --                        --\n",
      "│    │    └─ActQuantProxyFromInjector: 3-72                            --                        --\n",
      "│    └─QuantConv2d: 2-58                                               [1, 64, 28, 28]           18,432\n",
      "│    │    └─ActQuantProxyFromInjector: 3-73                            [1, 32, 28, 28]           --\n",
      "│    │    └─WeightQuantProxyFromInjector: 3-74                         [64, 32, 3, 3]            --\n",
      "│    │    └─ActQuantProxyFromInjector: 3-75                            [1, 64, 28, 28]           --\n",
      "│    └─BatchNorm2d: 2-59                                               [1, 64, 28, 28]           128\n",
      "│    └─QuantIdentity: 2-60                                             [1, 64, 28, 28]           --\n",
      "│    │    └─ActQuantProxyFromInjector: 3-76                            [1, 64, 28, 28]           --\n",
      "│    │    └─ActQuantProxyFromInjector: 3-77                            [1, 64, 28, 28]           --\n",
      "├─QuantIdentity: 1-60                                                  --                        --\n",
      "│    └─ActQuantProxyFromInjector: 2-121                                --                        --\n",
      "│    │    └─FusedActivationQuantProxy: 3-154                           --                        --\n",
      "├─ModuleList: 1-35                                                     --                        (recursive)\n",
      "│    └─QuantIdentity: 2-62                                             --                        --\n",
      "│    │    └─ActQuantProxyFromInjector: 3-79                            --                        --\n",
      "│    └─QuantConv2d: 2-63                                               [1, 32, 28, 28]           2,048\n",
      "│    │    └─ActQuantProxyFromInjector: 3-80                            [1, 64, 28, 28]           --\n",
      "│    │    └─WeightQuantProxyFromInjector: 3-81                         [32, 64, 1, 1]            --\n",
      "│    │    └─ActQuantProxyFromInjector: 3-82                            [1, 32, 28, 28]           --\n",
      "│    └─BatchNorm2d: 2-64                                               [1, 32, 28, 28]           64\n",
      "│    └─QuantIdentity: 2-65                                             [1, 32, 28, 28]           --\n",
      "│    │    └─ActQuantProxyFromInjector: 3-83                            [1, 32, 28, 28]           --\n",
      "│    │    └─ActQuantProxyFromInjector: 3-84                            [1, 32, 28, 28]           --\n",
      "├─QuantIdentity: 1-60                                                  --                        --\n",
      "│    └─ActQuantProxyFromInjector: 2-121                                --                        --\n",
      "│    │    └─FusedActivationQuantProxy: 3-154                           --                        --\n",
      "├─ModuleList: 1-35                                                     --                        (recursive)\n",
      "│    └─QuantIdentity: 2-67                                             --                        --\n",
      "│    │    └─ActQuantProxyFromInjector: 3-86                            --                        --\n",
      "│    └─QuantConv2d: 2-68                                               [1, 64, 28, 28]           18,432\n",
      "│    │    └─ActQuantProxyFromInjector: 3-87                            [1, 32, 28, 28]           --\n",
      "│    │    └─WeightQuantProxyFromInjector: 3-88                         [64, 32, 3, 3]            --\n",
      "│    │    └─ActQuantProxyFromInjector: 3-89                            [1, 64, 28, 28]           --\n",
      "│    └─BatchNorm2d: 2-69                                               [1, 64, 28, 28]           128\n",
      "│    └─QuantIdentity: 2-70                                             [1, 64, 28, 28]           --\n",
      "│    │    └─ActQuantProxyFromInjector: 3-90                            [1, 64, 28, 28]           --\n",
      "│    │    └─ActQuantProxyFromInjector: 3-91                            [1, 64, 28, 28]           --\n",
      "├─QuantIdentity: 1-60                                                  --                        --\n",
      "│    └─ActQuantProxyFromInjector: 2-121                                --                        --\n",
      "│    │    └─FusedActivationQuantProxy: 3-154                           --                        --\n",
      "├─ModuleList: 1-35                                                     --                        (recursive)\n",
      "│    └─QuantIdentity: 2-72                                             --                        --\n",
      "│    │    └─ActQuantProxyFromInjector: 3-93                            --                        --\n",
      "├─QuantIdentity: 1-36                                                  [1, 64, 28, 28]           --\n",
      "│    └─ActQuantProxyFromInjector: 2-73                                 [1, 64, 28, 28]           --\n",
      "│    └─ActQuantProxyFromInjector: 2-74                                 [1, 64, 28, 28]           --\n",
      "│    │    └─FusedActivationQuantProxy: 3-94                            [1, 64, 28, 28]           --\n",
      "├─QuantIdentity: 1-60                                                  --                        --\n",
      "│    └─ActQuantProxyFromInjector: 2-121                                --                        --\n",
      "│    │    └─FusedActivationQuantProxy: 3-154                           --                        --\n",
      "├─QuantIdentity: 1-38                                                  --                        --\n",
      "│    └─ActQuantProxyFromInjector: 2-76                                 --                        --\n",
      "│    │    └─FusedActivationQuantProxy: 3-96                            --                        --\n",
      "├─ModuleList: 1-39                                                     --                        --\n",
      "│    └─MaxPool2d: 2-77                                                 [1, 64, 14, 14]           --\n",
      "├─ModuleList: 1-52                                                     --                        (recursive)\n",
      "│    └─QuantConv2d: 2-78                                               [1, 32, 14, 14]           2,048\n",
      "│    │    └─ActQuantProxyFromInjector: 3-97                            [1, 64, 14, 14]           --\n",
      "│    │    └─WeightQuantProxyFromInjector: 3-98                         [32, 64, 1, 1]            --\n",
      "│    │    └─ActQuantProxyFromInjector: 3-99                            [1, 32, 14, 14]           --\n",
      "│    └─BatchNorm2d: 2-79                                               [1, 32, 14, 14]           64\n",
      "│    └─QuantIdentity: 2-80                                             [1, 32, 14, 14]           --\n",
      "│    │    └─ActQuantProxyFromInjector: 3-100                           [1, 32, 14, 14]           --\n",
      "│    │    └─ActQuantProxyFromInjector: 3-101                           [1, 32, 14, 14]           --\n",
      "├─QuantIdentity: 1-60                                                  --                        --\n",
      "│    └─ActQuantProxyFromInjector: 2-121                                --                        --\n",
      "│    │    └─FusedActivationQuantProxy: 3-154                           --                        --\n",
      "├─ModuleList: 1-52                                                     --                        (recursive)\n",
      "│    └─QuantIdentity: 2-82                                             --                        --\n",
      "│    │    └─ActQuantProxyFromInjector: 3-103                           --                        --\n",
      "│    └─QuantConv2d: 2-83                                               [1, 64, 14, 14]           18,432\n",
      "│    │    └─ActQuantProxyFromInjector: 3-104                           [1, 32, 14, 14]           --\n",
      "│    │    └─WeightQuantProxyFromInjector: 3-105                        [64, 32, 3, 3]            --\n",
      "│    │    └─ActQuantProxyFromInjector: 3-106                           [1, 64, 14, 14]           --\n",
      "│    └─BatchNorm2d: 2-84                                               [1, 64, 14, 14]           128\n",
      "│    └─QuantIdentity: 2-85                                             [1, 64, 14, 14]           --\n",
      "│    │    └─ActQuantProxyFromInjector: 3-107                           [1, 64, 14, 14]           --\n",
      "│    │    └─ActQuantProxyFromInjector: 3-108                           [1, 64, 14, 14]           --\n",
      "├─QuantIdentity: 1-60                                                  --                        --\n",
      "│    └─ActQuantProxyFromInjector: 2-121                                --                        --\n",
      "│    │    └─FusedActivationQuantProxy: 3-154                           --                        --\n",
      "├─ModuleList: 1-52                                                     --                        (recursive)\n",
      "│    └─QuantIdentity: 2-87                                             --                        --\n",
      "│    │    └─ActQuantProxyFromInjector: 3-110                           --                        --\n",
      "│    └─QuantConv2d: 2-88                                               [1, 32, 14, 14]           2,048\n",
      "│    │    └─ActQuantProxyFromInjector: 3-111                           [1, 64, 14, 14]           --\n",
      "│    │    └─WeightQuantProxyFromInjector: 3-112                        [32, 64, 1, 1]            --\n",
      "│    │    └─ActQuantProxyFromInjector: 3-113                           [1, 32, 14, 14]           --\n",
      "│    └─BatchNorm2d: 2-89                                               [1, 32, 14, 14]           64\n",
      "│    └─QuantIdentity: 2-90                                             [1, 32, 14, 14]           --\n",
      "│    │    └─ActQuantProxyFromInjector: 3-114                           [1, 32, 14, 14]           --\n",
      "│    │    └─ActQuantProxyFromInjector: 3-115                           [1, 32, 14, 14]           --\n",
      "├─QuantIdentity: 1-60                                                  --                        --\n",
      "│    └─ActQuantProxyFromInjector: 2-121                                --                        --\n",
      "│    │    └─FusedActivationQuantProxy: 3-154                           --                        --\n",
      "├─ModuleList: 1-52                                                     --                        (recursive)\n",
      "│    └─QuantIdentity: 2-92                                             --                        --\n",
      "│    │    └─ActQuantProxyFromInjector: 3-117                           --                        --\n",
      "│    └─QuantConv2d: 2-93                                               [1, 64, 14, 14]           18,432\n",
      "│    │    └─ActQuantProxyFromInjector: 3-118                           [1, 32, 14, 14]           --\n",
      "│    │    └─WeightQuantProxyFromInjector: 3-119                        [64, 32, 3, 3]            --\n",
      "│    │    └─ActQuantProxyFromInjector: 3-120                           [1, 64, 14, 14]           --\n",
      "│    └─BatchNorm2d: 2-94                                               [1, 64, 14, 14]           128\n",
      "│    └─QuantIdentity: 2-95                                             [1, 64, 14, 14]           --\n",
      "│    │    └─ActQuantProxyFromInjector: 3-121                           [1, 64, 14, 14]           --\n",
      "│    │    └─ActQuantProxyFromInjector: 3-122                           [1, 64, 14, 14]           --\n",
      "├─QuantIdentity: 1-60                                                  --                        --\n",
      "│    └─ActQuantProxyFromInjector: 2-121                                --                        --\n",
      "│    │    └─FusedActivationQuantProxy: 3-154                           --                        --\n",
      "├─ModuleList: 1-52                                                     --                        (recursive)\n",
      "│    └─QuantIdentity: 2-97                                             --                        --\n",
      "│    │    └─ActQuantProxyFromInjector: 3-124                           --                        --\n",
      "│    └─QuantConv2d: 2-98                                               [1, 64, 14, 14]           36,864\n",
      "│    │    └─ActQuantProxyFromInjector: 3-125                           [1, 64, 14, 14]           --\n",
      "│    │    └─WeightQuantProxyFromInjector: 3-126                        [64, 64, 3, 3]            --\n",
      "│    │    └─ActQuantProxyFromInjector: 3-127                           [1, 64, 14, 14]           --\n",
      "│    └─BatchNorm2d: 2-99                                               [1, 64, 14, 14]           128\n",
      "│    └─QuantIdentity: 2-100                                            [1, 64, 14, 14]           --\n",
      "│    │    └─ActQuantProxyFromInjector: 3-128                           [1, 64, 14, 14]           --\n",
      "│    │    └─ActQuantProxyFromInjector: 3-129                           [1, 64, 14, 14]           --\n",
      "├─QuantIdentity: 1-60                                                  --                        --\n",
      "│    └─ActQuantProxyFromInjector: 2-121                                --                        --\n",
      "│    │    └─FusedActivationQuantProxy: 3-154                           --                        --\n",
      "├─ModuleList: 1-52                                                     --                        (recursive)\n",
      "│    └─QuantIdentity: 2-102                                            --                        --\n",
      "│    │    └─ActQuantProxyFromInjector: 3-131                           --                        --\n",
      "│    └─QuantConv2d: 2-103                                              [1, 64, 14, 14]           36,864\n",
      "│    │    └─ActQuantProxyFromInjector: 3-132                           [1, 64, 14, 14]           --\n",
      "│    │    └─WeightQuantProxyFromInjector: 3-133                        [64, 64, 3, 3]            --\n",
      "│    │    └─ActQuantProxyFromInjector: 3-134                           [1, 64, 14, 14]           --\n",
      "│    └─BatchNorm2d: 2-104                                              [1, 64, 14, 14]           128\n",
      "│    └─QuantIdentity: 2-105                                            [1, 64, 14, 14]           --\n",
      "│    │    └─ActQuantProxyFromInjector: 3-135                           [1, 64, 14, 14]           --\n",
      "│    │    └─ActQuantProxyFromInjector: 3-136                           [1, 64, 14, 14]           --\n",
      "├─QuantIdentity: 1-60                                                  --                        --\n",
      "│    └─ActQuantProxyFromInjector: 2-121                                --                        --\n",
      "│    │    └─FusedActivationQuantProxy: 3-154                           --                        --\n",
      "├─ModuleList: 1-52                                                     --                        (recursive)\n",
      "│    └─QuantIdentity: 2-107                                            --                        --\n",
      "│    │    └─ActQuantProxyFromInjector: 3-138                           --                        --\n",
      "├─QuantIdentity: 1-53                                                  [1, 64, 14, 14]           --\n",
      "│    └─ActQuantProxyFromInjector: 2-108                                [1, 64, 14, 14]           --\n",
      "│    └─ActQuantProxyFromInjector: 2-109                                [1, 64, 14, 14]           --\n",
      "│    │    └─FusedActivationQuantProxy: 3-139                           [1, 64, 14, 14]           --\n",
      "├─QuantIdentity: 1-60                                                  --                        --\n",
      "│    └─ActQuantProxyFromInjector: 2-121                                --                        --\n",
      "│    │    └─FusedActivationQuantProxy: 3-154                           --                        --\n",
      "├─QuantIdentity: 1-55                                                  --                        --\n",
      "│    └─ActQuantProxyFromInjector: 2-111                                --                        --\n",
      "│    │    └─FusedActivationQuantProxy: 3-141                           --                        --\n",
      "├─ModuleList: 1-56                                                     --                        --\n",
      "│    └─MaxPool2d: 2-112                                                [1, 64, 7, 7]             --\n",
      "├─ModuleList: 1-61                                                     --                        (recursive)\n",
      "│    └─QuantConv2d: 2-113                                              [1, 64, 7, 7]             36,864\n",
      "│    │    └─ActQuantProxyFromInjector: 3-142                           [1, 64, 7, 7]             --\n",
      "│    │    └─WeightQuantProxyFromInjector: 3-143                        [64, 64, 3, 3]            --\n",
      "│    │    └─ActQuantProxyFromInjector: 3-144                           [1, 64, 7, 7]             --\n",
      "│    └─BatchNorm2d: 2-114                                              [1, 64, 7, 7]             128\n",
      "│    └─QuantIdentity: 2-115                                            [1, 64, 7, 7]             --\n",
      "│    │    └─ActQuantProxyFromInjector: 3-145                           [1, 64, 7, 7]             --\n",
      "│    │    └─ActQuantProxyFromInjector: 3-146                           [1, 64, 7, 7]             --\n",
      "├─QuantIdentity: 1-60                                                  --                        --\n",
      "│    └─ActQuantProxyFromInjector: 2-121                                --                        --\n",
      "│    │    └─FusedActivationQuantProxy: 3-154                           --                        --\n",
      "├─ModuleList: 1-61                                                     --                        (recursive)\n",
      "│    └─QuantIdentity: 2-117                                            --                        --\n",
      "│    │    └─ActQuantProxyFromInjector: 3-148                           --                        --\n",
      "│    └─QuantConv2d: 2-118                                              [1, 64, 7, 7]             36,864\n",
      "│    │    └─ActQuantProxyFromInjector: 3-149                           [1, 64, 7, 7]             --\n",
      "│    │    └─WeightQuantProxyFromInjector: 3-150                        [64, 64, 3, 3]            --\n",
      "│    │    └─ActQuantProxyFromInjector: 3-151                           [1, 64, 7, 7]             --\n",
      "│    └─BatchNorm2d: 2-119                                              [1, 64, 7, 7]             128\n",
      "│    └─QuantIdentity: 2-120                                            [1, 64, 7, 7]             --\n",
      "│    │    └─ActQuantProxyFromInjector: 3-152                           [1, 64, 7, 7]             --\n",
      "│    │    └─ActQuantProxyFromInjector: 3-153                           [1, 64, 7, 7]             --\n",
      "├─QuantIdentity: 1-60                                                  --                        --\n",
      "│    └─ActQuantProxyFromInjector: 2-121                                --                        --\n",
      "│    │    └─FusedActivationQuantProxy: 3-154                           --                        --\n",
      "├─ModuleList: 1-61                                                     --                        (recursive)\n",
      "│    └─QuantIdentity: 2-122                                            --                        --\n",
      "│    │    └─ActQuantProxyFromInjector: 3-155                           --                        --\n",
      "├─QuantIdentity: 1-62                                                  [1, 64, 7, 7]             --\n",
      "│    └─ActQuantProxyFromInjector: 2-123                                [1, 64, 7, 7]             --\n",
      "│    └─ActQuantProxyFromInjector: 2-124                                [1, 64, 7, 7]             --\n",
      "│    │    └─FusedActivationQuantProxy: 3-156                           [1, 64, 7, 7]             --\n",
      "├─TruncAvgPool2d: 1-63                                                 [1, 64, 1, 1]             --\n",
      "│    └─TruncQuantProxyFromInjector: 2-125                              [1, 64, 1, 1]             --\n",
      "│    │    └─TruncIntQuant: 3-157                                       [1, 64, 1, 1]             --\n",
      "├─ModuleList: 1-64                                                     --                        (recursive)\n",
      "│    └─QuantLinear: 2-126                                              [1, 64]                   --\n",
      "│    │    └─ActQuantProxyFromInjector: 3-158                           [1, 64]                   --\n",
      "│    │    └─WeightQuantProxyFromInjector: 3-159                        [64, 64]                  4,096\n",
      "│    └─QuantLinear: 2-140                                              --                        (recursive)\n",
      "│    │    └─WeightQuantProxyFromInjector: 3-176                        --                        (recursive)\n",
      "│    └─QuantLinear: 2-128                                              --                        (recursive)\n",
      "│    │    └─WeightQuantProxyFromInjector: 3-161                        --                        (recursive)\n",
      "│    │    └─ActQuantProxyFromInjector: 3-162                           [1, 64]                   --\n",
      "│    └─BatchNorm1d: 2-129                                              [1, 64]                   128\n",
      "│    └─QuantReLU: 2-130                                                [1, 64]                   --\n",
      "│    │    └─ActQuantProxyFromInjector: 3-163                           [1, 64]                   --\n",
      "│    │    └─ActQuantProxyFromInjector: 3-164                           [1, 64]                   1\n",
      "│    └─QuantLinear: 2-140                                              --                        (recursive)\n",
      "│    │    └─WeightQuantProxyFromInjector: 3-176                        --                        (recursive)\n",
      "│    └─QuantReLU: 2-134                                                --                        (recursive)\n",
      "│    │    └─ActQuantProxyFromInjector: 3-168                           --                        (recursive)\n",
      "│    └─QuantReLU: 2-141                                                --                        (recursive)\n",
      "│    │    └─ActQuantProxyFromInjector: 3-177                           --                        (recursive)\n",
      "│    └─QuantReLU: 2-134                                                --                        (recursive)\n",
      "│    │    └─ActQuantProxyFromInjector: 3-168                           --                        (recursive)\n",
      "│    └─QuantLinear: 2-135                                              [1, 32]                   --\n",
      "│    │    └─ActQuantProxyFromInjector: 3-169                           [1, 64]                   --\n",
      "│    │    └─WeightQuantProxyFromInjector: 3-170                        [32, 64]                  2,048\n",
      "│    └─QuantLinear: 2-140                                              --                        (recursive)\n",
      "│    │    └─WeightQuantProxyFromInjector: 3-176                        --                        (recursive)\n",
      "│    └─QuantLinear: 2-137                                              --                        (recursive)\n",
      "│    │    └─WeightQuantProxyFromInjector: 3-172                        --                        (recursive)\n",
      "│    │    └─ActQuantProxyFromInjector: 3-173                           [1, 32]                   --\n",
      "│    └─BatchNorm1d: 2-138                                              [1, 32]                   64\n",
      "│    └─QuantReLU: 2-139                                                [1, 32]                   --\n",
      "│    │    └─ActQuantProxyFromInjector: 3-174                           [1, 32]                   --\n",
      "│    │    └─ActQuantProxyFromInjector: 3-175                           [1, 32]                   1\n",
      "│    └─QuantLinear: 2-140                                              --                        (recursive)\n",
      "│    │    └─WeightQuantProxyFromInjector: 3-176                        --                        (recursive)\n",
      "│    └─QuantReLU: 2-141                                                --                        (recursive)\n",
      "│    │    └─ActQuantProxyFromInjector: 3-177                           --                        (recursive)\n",
      "│    └─QuantLinear: 2-142                                              [1, 2]                    --\n",
      "│    │    └─ActQuantProxyFromInjector: 3-178                           [1, 32]                   --\n",
      "│    │    └─WeightQuantProxyFromInjector: 3-179                        [2, 32]                   64\n",
      "│    │    └─ActQuantProxyFromInjector: 3-180                           [1, 2]                    --\n",
      "│    └─TensorNorm: 2-143                                               [1, 2]                    2\n",
      "========================================================================================================================\n",
      "Total params: 302,948\n",
      "Trainable params: 302,948\n",
      "Non-trainable params: 0\n",
      "Total mult-adds (M): 0.00\n",
      "========================================================================================================================\n",
      "Input size (MB): 0.60\n",
      "Forward/backward pass size (MB): 34.87\n",
      "Params size (MB): 0.01\n",
      "Estimated Total Size (MB): 35.48\n",
      "========================================================================================================================\n"
     ]
    }
   ],
   "source": [
    "print(summary(model, input_size=(1, config.NUM_CHANNELS, config.IMG_H, config.IMG_W)))"
   ]
  },
  {
   "cell_type": "markdown",
   "id": "61d74ed9-984a-4f66-8121-d1152fecad98",
   "metadata": {},
   "source": [
    "# Loss Function"
   ]
  },
  {
   "cell_type": "code",
   "execution_count": 139,
   "id": "6efb3c84-4076-4694-8505-2c3c0ee9aa1e",
   "metadata": {},
   "outputs": [
    {
     "name": "stdout",
     "output_type": "stream",
     "text": [
      "Loss Function: BCE\n",
      "Smoke Precision Weight: 0.8\n"
     ]
    }
   ],
   "source": [
    "if config.LOSS_FN == \"BCE\":\n",
    "    print(f'Loss Function: BCE')\n",
    "    logger.info(f'\\nLoss Function: BCE')\n",
    "    print(f'Smoke Precision Weight: {config.SMOKE_PRECISION_WEIGHT}')\n",
    "    logger.info(f'Smoke Precision Weight: {config.SMOKE_PRECISION_WEIGHT}')\n",
    "    loss_fn = loss.BCE_LOSS(device=config.DEVICE, smoke_precision_weight=config.SMOKE_PRECISION_WEIGHT)\n",
    "else:\n",
    "    print(\"Wrong loss function\")\n",
    "    logger.info(\"Wrong loss function\")\n",
    "    raise SystemExit(\"Wrong loss function\")"
   ]
  },
  {
   "cell_type": "markdown",
   "id": "d7f25227-bbcd-43e9-a41b-70a324900a21",
   "metadata": {},
   "source": [
    "# Loggers and Plotters for Losses and Metrics"
   ]
  },
  {
   "cell_type": "code",
   "execution_count": 140,
   "id": "bb75d214-f372-4aee-a196-c43276145a66",
   "metadata": {},
   "outputs": [],
   "source": [
    "train_losses_logger = utils.LogLosses()\n",
    "train_metrics_logger = utils.LogMetrics()\n",
    "lr_logger = utils.LogLR(log_path=config.PLOTS_FOLDER)\n",
    "\n",
    "val_losses_logger = utils.LogLosses()\n",
    "val_metrics_logger = utils.LogMetrics()\n",
    "\n",
    "loss_plotter = utils.PlotMetrics(log_path=config.PLOTS_FOLDER, model_name=config.MODEL, loss_or_metric='Loss')\n",
    "metrics_plotter = utils.PlotMetrics(log_path=config.PLOTS_FOLDER, model_name=config.MODEL, loss_or_metric='Metric')"
   ]
  },
  {
   "cell_type": "markdown",
   "id": "80f38d11-6099-48cd-9f95-f5b0be87d804",
   "metadata": {},
   "source": [
    "# Main Function to Train"
   ]
  },
  {
   "cell_type": "code",
   "execution_count": 141,
   "id": "180683fc-5a55-4f1c-9d6e-c8ffa10be16a",
   "metadata": {},
   "outputs": [],
   "source": [
    "def train_loop(model, start_epoch=0, epochs_to_train=config.EPOCHS):\n",
    "\n",
    "    ''' ==============================================================\n",
    "                                TRAINING LOOP\n",
    "    ============================================================== '''\n",
    "    start = datetime.datetime.now()\n",
    "    start_time = start.strftime(\"%H:%M:%S\")\n",
    "    print(f'\\n***Start Training: {start_time}\\n')\n",
    "    logger.info(f'\\n***Start Training: {start_time}\\n')\n",
    "    \n",
    "    # Start with infinite validation loss\n",
    "    best_valid_loss = np.inf\n",
    "    best_smoke_precision = 0. #torch.tensor([0.])\n",
    "    smoke_f1_min_save = 0.9 #torch.tensor([0.9])\n",
    "    best_mean_f1 = 0.\n",
    "\n",
    "    if start_epoch == 0:\n",
    "        epochs_plot = []\n",
    "    else:\n",
    "        epochs_plot = [i for i in range(start_epoch)]    \n",
    "\n",
    "    end_epoch = start_epoch + epochs_to_train\n",
    "        \n",
    "    for epoch in range(start_epoch, end_epoch):\n",
    "\n",
    "        print(f'\\n=== EPOCH {epoch}/{end_epoch-1} ===')\n",
    "        logger.info(f'\\n=== EPOCH {epoch}/{end_epoch-1} ===')\n",
    "        \n",
    "        #====================== TRAINING ========================#\n",
    "        current_lr = train_epoch.get_lr(optimizer=optimizer)\n",
    "        logger.info(f'Learning Rate = {current_lr}\\n')\n",
    "        lr_logger.log_lr(current_lr)\n",
    "                \n",
    "        train_losses, train_metrics = train_epoch.train_fn(\n",
    "            loader=train_loader, \n",
    "            model=model, \n",
    "            optimizer=optimizer, \n",
    "            loss_fn=loss_fn,\n",
    "            device=config.DEVICE)\n",
    "        \n",
    "        train_losses_logger.update_metrics(train_losses)\n",
    "        train_metrics_logger.update_metrics(train_metrics)\n",
    "                \n",
    "        logger.info(utils.print_metrics_to_logger(\"TRAIN Stats\", train_losses, train_metrics))\n",
    "        \n",
    "        #===================== VALIDATING =======================#\n",
    "        with torch.no_grad():\n",
    "            val_losses, val_metrics = val_epoch.eval_fn(\n",
    "                loader=val_loader, \n",
    "                model=model,                         \n",
    "                loss_fn=loss_fn,\n",
    "                device=config.DEVICE)\n",
    "            \n",
    "            scheduler.step(val_losses['Total'])\n",
    "            \n",
    "            val_losses_logger.update_metrics(val_losses)\n",
    "            val_metrics_logger.update_metrics(val_metrics)\n",
    "\n",
    "            logger.info(utils.print_metrics_to_logger(\"VAL Stats\", val_losses, val_metrics))\n",
    "            \n",
    "        epochs_plot.append(epoch)\n",
    "\n",
    "        loss_plotter.plot_all_metrics(\n",
    "            train_losses_logger.get_metrics(),\n",
    "            val_losses_logger.get_metrics(),\n",
    "            epochs_plot)\n",
    "\n",
    "        metrics_plotter.plot_all_metrics(\n",
    "            train_metrics_logger.get_metrics(),\n",
    "            val_metrics_logger.get_metrics(),\n",
    "            epochs_plot)\n",
    "\n",
    "        lr_logger.plot_lr(epochs_plot)\n",
    "        #======================= SAVING =========================#\n",
    "        if ( (epoch+1) % 5 ) == 0:\n",
    "            save_name = config.WEIGHTS_FOLDER + config.MODEL + '_classifier__5epoch.pt'\n",
    "            utils.save_checkpoint(epoch, model, optimizer, scheduler, save_name) \n",
    "            \n",
    "        if best_valid_loss > val_losses['Total']:\n",
    "            best_valid_loss = val_losses['Total']\n",
    "            print(f\"\\nSaving model with new best validation loss: {best_valid_loss:.4f}\")\n",
    "            logger.info(f\"Saving model with new best validation loss: {best_valid_loss:.4f}\")\n",
    "            save_name = config.WEIGHTS_FOLDER + config.MODEL + '_classifier__' + 'best_loss'  + '.pt'\n",
    "            utils.save_checkpoint(epoch, model, optimizer, scheduler, save_name) \n",
    "            save_onnx = config.ONNX_FOLDER + config.MODEL + '_classifier__' + 'best_loss'  #+ '.onnx'\n",
    "            utils.export_onnx(model, (1, config.NUM_CHANNELS, config.IMG_H, config.IMG_W), save_onnx, config.DEVICE)\n",
    "\n",
    "        # # Save model if precision increases and F1 > 0.9\n",
    "        # if ( best_smoke_precision < val_metrics['Precision'][0] ) and ( val_metrics['F1'][0] > smoke_f1_min_save ) :\n",
    "        #     best_smoke_precision = val_metrics['Precision'][0]\n",
    "        #     print(f\"\\nSaving model with new best smoke precision: {best_smoke_precision:.4f}\")\n",
    "        #     logger.info(f\"Saving model with new best smoke precision: {best_smoke_precision:.4f}\")\n",
    "        #     save_precision_name = f'best_smoke__precision={np.round(best_smoke_precision, decimals=4)}__epoch={epoch}'\n",
    "        #     save_name = config.WEIGHTS_FOLDER + config.MODEL + '_classifier__' + save_precision_name + '.pt'\n",
    "        #     utils.save_checkpoint(epoch, model, optimizer, scheduler, save_name)  \n",
    "        #     save_onnx = config.ONNX_FOLDER + config.MODEL + '_classifier__' + save_precision_name #+ '.onnx'\n",
    "        #     utils.export_onnx(model, (1, config.NUM_CHANNELS, config.IMG_H, config.IMG_W), save_onnx, config.DEVICE)\n",
    "            \n",
    "        # Save model if precision > 0.9 and recall > 0.9\n",
    "        if ( val_metrics['Precision'][0] > 0.9 ) and ( val_metrics['Recall'][0] > 0.9 ) :\n",
    "            print(\"\\nSaving model with precision > 0.9 and recall > 0.9\")\n",
    "            logger.info(\"Saving model with precision > 0.9 and recall > 0.9\")\n",
    "            save_pre_name = f'smoke__precision={np.round(val_metrics[\"Precision\"][0], decimals=4)}__' \n",
    "            save_rec_name = f'recall={np.round(val_metrics[\"Recall\"][0], decimals=4)}__'\n",
    "            save_pre_rec_name = save_pre_name + save_rec_name + f'epoch={epoch}'\n",
    "            save_name = config.WEIGHTS_FOLDER + config.MODEL + '_classifier__' + save_pre_rec_name + '.pt'\n",
    "            utils.save_checkpoint(epoch, model, optimizer, scheduler, save_name) \n",
    "            save_onnx = config.ONNX_FOLDER + config.MODEL + '_classifier__' + save_pre_rec_name #+ '.onnx'\n",
    "            utils.export_onnx(model, (1, config.NUM_CHANNELS, config.IMG_H, config.IMG_W), save_onnx, config.DEVICE)\n",
    "\n",
    "        # Save model if best mean F1 increases\n",
    "        val_f1_mean = (val_metrics['F1'][0] + val_metrics['F1'][1]) / 2\n",
    "        if (val_f1_mean > best_mean_f1) :\n",
    "            best_mean_f1 = val_f1_mean\n",
    "            print(f'Saving model with best Mean F1: {best_mean_f1:.4f}')\n",
    "            logger.info(f'Saving model with best Mean F1: {best_mean_f1:.4f}')\n",
    "            save_f1_name = 'best_mean_F1'\n",
    "            save_name = config.WEIGHTS_FOLDER + config.MODEL + '_classifier__' + save_f1_name + '.pt'\n",
    "            utils.save_checkpoint(epoch, model, optimizer, scheduler, save_name) \n",
    "            save_onnx = config.ONNX_FOLDER + config.MODEL + '_classifier__' + save_f1_name #+ '.onnx'\n",
    "            utils.export_onnx(model, (1, config.NUM_CHANNELS, config.IMG_H, config.IMG_W), save_onnx, config.DEVICE)\n",
    "        \n",
    "    logger.info('Saving last model')   \n",
    "    torch.save(model.state_dict(), config.WEIGHTS_FOLDER + 'last_' + config.MODEL + '_classifier.pt') \n",
    "    \n",
    "    #======================= FINISH =========================#\n",
    "    end = datetime.datetime.now()\n",
    "    end_time = end.strftime(\"%H:%M:%S\")\n",
    "    print(f'\\n***Script finished: {end_time}\\n')  \n",
    "    print(f'Time elapsed: {end-start}')\n",
    "    logger.info(f'\\n***Script finished: {end_time}\\n')  \n",
    "    logger.info(f'Time elapsed: {end-start}')\n",
    "    \n",
    "    return model"
   ]
  },
  {
   "cell_type": "code",
   "execution_count": 142,
   "id": "70cfebac-da9f-4c54-98da-0fccfdf9c7e4",
   "metadata": {},
   "outputs": [],
   "source": [
    "# print(len(val_losses_logger.total))"
   ]
  },
  {
   "cell_type": "markdown",
   "id": "7eb71ba5-1f21-4a7b-9ebe-6b50a5d38ed8",
   "metadata": {},
   "source": [
    "# Training Loop"
   ]
  },
  {
   "cell_type": "code",
   "execution_count": 143,
   "id": "dd3a8768-03a8-44f3-829f-58045dbfea7b",
   "metadata": {
    "editable": true,
    "slideshow": {
     "slide_type": ""
    },
    "tags": []
   },
   "outputs": [
    {
     "name": "stdout",
     "output_type": "stream",
     "text": [
      "Starting script\n",
      "\n",
      "\n",
      "***Start Training: 02:03:01\n",
      "\n",
      "\n",
      "=== EPOCH 0/149 ===\n",
      "Learning Rate = 0.001\n",
      "\n"
     ]
    },
    {
     "name": "stderr",
     "output_type": "stream",
     "text": [
      "Training:  36%|██████████████████████████████████████████████████▍                                                                                        | 666/1836 [01:50<02:46,  7.04it/s]Corrupt JPEG data: 1 extraneous bytes before marker 0xd9\n",
      "Training:  39%|██████████████████████████████████████████████████████▊                                                                                    | 724/1836 [02:00<02:47,  6.65it/s]Warning: unknown JFIF revision number 32.23\n",
      "Training:  48%|██████████████████████████████████████████████████████████████████▍                                                                        | 877/1836 [02:24<02:10,  7.34it/s]Corrupt JPEG data: 1 extraneous bytes before marker 0xd9\n",
      "Training:  85%|█████████████████████████████████████████████████████████████████████████████████████████████████████████████████████                     | 1558/1836 [04:14<00:46,  5.95it/s]Corrupt JPEG data: 1 extraneous bytes before marker 0xd9\n",
      "Training:  85%|█████████████████████████████████████████████████████████████████████████████████████████████████████████████████████▋                    | 1566/1836 [04:15<00:47,  5.64it/s]Corrupt JPEG data: 1 extraneous bytes before marker 0xd9\n",
      "Training: 100%|██████████████████████████████████████████████████████████████████████████████████████████████████████████████████████████████████████████| 1836/1836 [04:58<00:00,  6.15it/s]\n"
     ]
    },
    {
     "name": "stdout",
     "output_type": "stream",
     "text": [
      "Total Loss  |Smoke Loss  |Fire Loss   \n",
      "------------ ------------ ------------\n",
      "71.129      |37.125      |34.004      \n",
      "\n"
     ]
    },
    {
     "name": "stderr",
     "output_type": "stream",
     "text": [
      "Validating: 100%|██████████████████████████████████████████████████████████████████████████████████████████████████████████████████████████████████████████| 380/380 [00:36<00:00, 10.27it/s]\n"
     ]
    },
    {
     "name": "stdout",
     "output_type": "stream",
     "text": [
      "Total Loss  |Smoke Loss  |Fire Loss   \n",
      "------------ ------------ ------------\n",
      "61.224      |32.081      |29.143      \n",
      "SMOKE -> Precision: 0.7391 - Recall: 0.5332 - Accuracy: 0.6912 - F1: 0.6195\n",
      "FIRE -> Precision: 0.6984 - Recall: 0.5485 - Accuracy: 0.7769 - F1: 0.6144\n",
      "\n",
      "Saving model with new best validation loss: 61.2242\n",
      "Model exported to ONNX: experiments_resnet/test_v03__w1a1__DEEP_Resnet__clip_convs_Linear4ReLU__400k_full_ds/onnx/BNN_BED_classifier__best_loss\n",
      "Saving model with best Mean F1: 0.6169\n",
      "Model exported to ONNX: experiments_resnet/test_v03__w1a1__DEEP_Resnet__clip_convs_Linear4ReLU__400k_full_ds/onnx/BNN_BED_classifier__best_mean_F1\n",
      "\n",
      "=== EPOCH 1/149 ===\n",
      "Learning Rate = 0.001\n",
      "\n"
     ]
    },
    {
     "name": "stderr",
     "output_type": "stream",
     "text": [
      "Training:  34%|██████████████████████████████████████████████▊                                                                                            | 619/1836 [01:41<02:34,  7.88it/s]Corrupt JPEG data: 1 extraneous bytes before marker 0xd9\n",
      "Training:  38%|████████████████████████████████████████████████████▏                                                                                      | 689/1836 [01:53<03:40,  5.20it/s]Corrupt JPEG data: 1 extraneous bytes before marker 0xd9\n",
      "Training:  63%|███████████████████████████████████████████████████████████████████████████████████████▎                                                  | 1162/1836 [03:08<01:45,  6.37it/s]Corrupt JPEG data: 1 extraneous bytes before marker 0xd9\n",
      "Training:  70%|████████████████████████████████████████████████████████████████████████████████████████████████▎                                         | 1282/1836 [03:28<01:20,  6.84it/s]Corrupt JPEG data: 1 extraneous bytes before marker 0xd9\n",
      "Training:  82%|████████████████████████████████████████████████████████████████████████████████████████████████████████████████▋                         | 1499/1836 [04:03<01:02,  5.38it/s]Warning: unknown JFIF revision number 32.23\n",
      "Training: 100%|██████████████████████████████████████████████████████████████████████████████████████████████████████████████████████████████████████████| 1836/1836 [04:57<00:00,  6.17it/s]\n"
     ]
    },
    {
     "name": "stdout",
     "output_type": "stream",
     "text": [
      "Total Loss  |Smoke Loss  |Fire Loss   \n",
      "------------ ------------ ------------\n",
      "61.431      |32.110      |29.320      \n",
      "\n"
     ]
    },
    {
     "name": "stderr",
     "output_type": "stream",
     "text": [
      "Validating: 100%|██████████████████████████████████████████████████████████████████████████████████████████████████████████████████████████████████████████| 380/380 [00:37<00:00, 10.26it/s]\n"
     ]
    },
    {
     "name": "stdout",
     "output_type": "stream",
     "text": [
      "Total Loss  |Smoke Loss  |Fire Loss   \n",
      "------------ ------------ ------------\n",
      "60.852      |30.161      |30.691      \n",
      "SMOKE -> Precision: 0.7081 - Recall: 0.7496 - Accuracy: 0.7363 - F1: 0.7283\n",
      "FIRE -> Precision: 0.6517 - Recall: 0.4008 - Accuracy: 0.7363 - F1: 0.4963\n",
      "\n",
      "Saving model with new best validation loss: 60.8516\n",
      "Model exported to ONNX: experiments_resnet/test_v03__w1a1__DEEP_Resnet__clip_convs_Linear4ReLU__400k_full_ds/onnx/BNN_BED_classifier__best_loss\n",
      "\n",
      "=== EPOCH 2/149 ===\n",
      "Learning Rate = 0.001\n",
      "\n"
     ]
    },
    {
     "name": "stderr",
     "output_type": "stream",
     "text": [
      "Training:  17%|███████████████████████▍                                                                                                                   | 310/1836 [00:52<03:49,  6.64it/s]Corrupt JPEG data: 1 extraneous bytes before marker 0xd9\n",
      "Training:  19%|██████████████████████████▉                                                                                                                | 355/1836 [00:59<05:35,  4.41it/s]Warning: unknown JFIF revision number 32.23\n",
      "Training:  31%|██████████████████████████████████████████▌                                                                                                | 562/1836 [01:32<02:56,  7.22it/s]Corrupt JPEG data: 1 extraneous bytes before marker 0xd9\n",
      "Training:  89%|██████████████████████████████████████████████████████████████████████████████████████████████████████████████████████████▋               | 1633/1836 [04:25<00:31,  6.41it/s]Corrupt JPEG data: 1 extraneous bytes before marker 0xd9\n",
      "Training:  92%|███████████████████████████████████████████████████████████████████████████████████████████████████████████████████████████████▎          | 1694/1836 [04:35<00:17,  7.95it/s]Corrupt JPEG data: 1 extraneous bytes before marker 0xd9\n",
      "Training: 100%|██████████████████████████████████████████████████████████████████████████████████████████████████████████████████████████████████████████| 1836/1836 [04:56<00:00,  6.19it/s]\n"
     ]
    },
    {
     "name": "stdout",
     "output_type": "stream",
     "text": [
      "Total Loss  |Smoke Loss  |Fire Loss   \n",
      "------------ ------------ ------------\n",
      "57.919      |30.551      |27.368      \n",
      "\n"
     ]
    },
    {
     "name": "stderr",
     "output_type": "stream",
     "text": [
      "Validating: 100%|██████████████████████████████████████████████████████████████████████████████████████████████████████████████████████████████████████████| 380/380 [00:37<00:00, 10.27it/s]\n"
     ]
    },
    {
     "name": "stdout",
     "output_type": "stream",
     "text": [
      "Total Loss  |Smoke Loss  |Fire Loss   \n",
      "------------ ------------ ------------\n",
      "54.740      |29.537      |25.203      \n",
      "SMOKE -> Precision: 0.7305 - Recall: 0.7224 - Accuracy: 0.7435 - F1: 0.7264\n",
      "FIRE -> Precision: 0.7092 - Recall: 0.7206 - Accuracy: 0.8137 - F1: 0.7149\n",
      "\n",
      "Saving model with new best validation loss: 54.7401\n",
      "Model exported to ONNX: experiments_resnet/test_v03__w1a1__DEEP_Resnet__clip_convs_Linear4ReLU__400k_full_ds/onnx/BNN_BED_classifier__best_loss\n",
      "Saving model with best Mean F1: 0.7206\n",
      "Model exported to ONNX: experiments_resnet/test_v03__w1a1__DEEP_Resnet__clip_convs_Linear4ReLU__400k_full_ds/onnx/BNN_BED_classifier__best_mean_F1\n",
      "\n",
      "=== EPOCH 3/149 ===\n",
      "Learning Rate = 0.001\n",
      "\n"
     ]
    },
    {
     "name": "stderr",
     "output_type": "stream",
     "text": [
      "Training:  49%|████████████████████████████████████████████████████████████████████▌                                                                      | 906/1836 [02:27<03:12,  4.83it/s]Corrupt JPEG data: 1 extraneous bytes before marker 0xd9\n",
      "Training:  57%|██████████████████████████████████████████████████████████████████████████████▏                                                           | 1040/1836 [02:50<01:49,  7.29it/s]Warning: unknown JFIF revision number 32.23\n",
      "Training:  82%|████████████████████████████████████████████████████████████████████████████████████████████████████████████████▌                         | 1498/1836 [04:01<00:42,  8.00it/s]Corrupt JPEG data: 1 extraneous bytes before marker 0xd9\n",
      "Training:  91%|█████████████████████████████████████████████████████████████████████████████████████████████████████████████████████████████             | 1664/1836 [04:28<00:29,  5.84it/s]Corrupt JPEG data: 1 extraneous bytes before marker 0xd9\n",
      "Training:  96%|███████████████████████████████████████████████████████████████████████████████████████████████████████████████████████████████████▉      | 1755/1836 [04:43<00:11,  6.91it/s]Corrupt JPEG data: 1 extraneous bytes before marker 0xd9\n",
      "Training: 100%|██████████████████████████████████████████████████████████████████████████████████████████████████████████████████████████████████████████| 1836/1836 [04:56<00:00,  6.20it/s]\n"
     ]
    },
    {
     "name": "stdout",
     "output_type": "stream",
     "text": [
      "Total Loss  |Smoke Loss  |Fire Loss   \n",
      "------------ ------------ ------------\n",
      "55.002      |29.409      |25.593      \n",
      "\n"
     ]
    },
    {
     "name": "stderr",
     "output_type": "stream",
     "text": [
      "Validating: 100%|██████████████████████████████████████████████████████████████████████████████████████████████████████████████████████████████████████████| 380/380 [00:36<00:00, 10.29it/s]\n"
     ]
    },
    {
     "name": "stdout",
     "output_type": "stream",
     "text": [
      "Total Loss  |Smoke Loss  |Fire Loss   \n",
      "------------ ------------ ------------\n",
      "53.043      |29.070      |23.973      \n",
      "SMOKE -> Precision: 0.7484 - Recall: 0.7208 - Accuracy: 0.7542 - F1: 0.7343\n",
      "FIRE -> Precision: 0.6988 - Recall: 0.8087 - Accuracy: 0.8250 - F1: 0.7498\n",
      "\n",
      "Saving model with new best validation loss: 53.0427\n",
      "Model exported to ONNX: experiments_resnet/test_v03__w1a1__DEEP_Resnet__clip_convs_Linear4ReLU__400k_full_ds/onnx/BNN_BED_classifier__best_loss\n",
      "Saving model with best Mean F1: 0.7421\n",
      "Model exported to ONNX: experiments_resnet/test_v03__w1a1__DEEP_Resnet__clip_convs_Linear4ReLU__400k_full_ds/onnx/BNN_BED_classifier__best_mean_F1\n",
      "\n",
      "=== EPOCH 4/149 ===\n",
      "Learning Rate = 0.001\n",
      "\n"
     ]
    },
    {
     "name": "stderr",
     "output_type": "stream",
     "text": [
      "Training:  30%|█████████████████████████████████████████▊                                                                                                 | 553/1836 [01:30<02:55,  7.31it/s]Warning: unknown JFIF revision number 32.23\n",
      "Training:  47%|█████████████████████████████████████████████████████████████████▊                                                                         | 869/1836 [02:21<03:00,  5.36it/s]Corrupt JPEG data: 1 extraneous bytes before marker 0xd9\n",
      "Training:  51%|██████████████████████████████████████████████████████████████████████▎                                                                    | 929/1836 [02:31<01:55,  7.84it/s]Corrupt JPEG data: 1 extraneous bytes before marker 0xd9\n",
      "Training:  53%|█████████████████████████████████████████████████████████████████████████▉                                                                 | 977/1836 [02:39<01:49,  7.88it/s]Corrupt JPEG data: 1 extraneous bytes before marker 0xd9\n",
      "Training:  55%|███████████████████████████████████████████████████████████████████████████▍                                                              | 1003/1836 [02:43<02:39,  5.23it/s]Corrupt JPEG data: 1 extraneous bytes before marker 0xd9\n",
      "Training: 100%|██████████████████████████████████████████████████████████████████████████████████████████████████████████████████████████████████████████| 1836/1836 [04:56<00:00,  6.20it/s]\n"
     ]
    },
    {
     "name": "stdout",
     "output_type": "stream",
     "text": [
      "Total Loss  |Smoke Loss  |Fire Loss   \n",
      "------------ ------------ ------------\n",
      "51.169      |27.692      |23.477      \n",
      "\n"
     ]
    },
    {
     "name": "stderr",
     "output_type": "stream",
     "text": [
      "Validating: 100%|██████████████████████████████████████████████████████████████████████████████████████████████████████████████████████████████████████████| 380/380 [00:36<00:00, 10.27it/s]\n"
     ]
    },
    {
     "name": "stdout",
     "output_type": "stream",
     "text": [
      "Total Loss  |Smoke Loss  |Fire Loss   \n",
      "------------ ------------ ------------\n",
      "48.051      |26.488      |21.563      \n",
      "SMOKE -> Precision: 0.7567 - Recall: 0.7960 - Accuracy: 0.7831 - F1: 0.7758\n",
      "FIRE -> Precision: 0.7211 - Recall: 0.8675 - Accuracy: 0.8483 - F1: 0.7875\n",
      "\n",
      "Saving model with new best validation loss: 48.0515\n",
      "Model exported to ONNX: experiments_resnet/test_v03__w1a1__DEEP_Resnet__clip_convs_Linear4ReLU__400k_full_ds/onnx/BNN_BED_classifier__best_loss\n",
      "Saving model with best Mean F1: 0.7817\n",
      "Model exported to ONNX: experiments_resnet/test_v03__w1a1__DEEP_Resnet__clip_convs_Linear4ReLU__400k_full_ds/onnx/BNN_BED_classifier__best_mean_F1\n",
      "\n",
      "=== EPOCH 5/149 ===\n",
      "Learning Rate = 0.001\n",
      "\n"
     ]
    },
    {
     "name": "stderr",
     "output_type": "stream",
     "text": [
      "Training:  25%|███████████████████████████████████                                                                                                        | 463/1836 [01:16<05:48,  3.94it/s]Corrupt JPEG data: 1 extraneous bytes before marker 0xd9\n",
      "Training:  37%|████████████████████████████████████████████████████                                                                                       | 687/1836 [01:52<02:32,  7.53it/s]Corrupt JPEG data: 1 extraneous bytes before marker 0xd9\n",
      "Training:  64%|████████████████████████████████████████████████████████████████████████████████████████▌                                                 | 1179/1836 [03:11<01:45,  6.21it/s]Corrupt JPEG data: 1 extraneous bytes before marker 0xd9\n",
      "Training:  68%|█████████████████████████████████████████████████████████████████████████████████████████████▌                                            | 1245/1836 [03:22<01:23,  7.07it/s]Warning: unknown JFIF revision number 32.23\n",
      "Training:  88%|█████████████████████████████████████████████████████████████████████████████████████████████████████████████████████████▉                | 1623/1836 [04:21<00:39,  5.44it/s]Corrupt JPEG data: 1 extraneous bytes before marker 0xd9\n",
      "Training: 100%|██████████████████████████████████████████████████████████████████████████████████████████████████████████████████████████████████████████| 1836/1836 [04:55<00:00,  6.21it/s]\n"
     ]
    },
    {
     "name": "stdout",
     "output_type": "stream",
     "text": [
      "Total Loss  |Smoke Loss  |Fire Loss   \n",
      "------------ ------------ ------------\n",
      "48.451      |26.342      |22.109      \n",
      "\n"
     ]
    },
    {
     "name": "stderr",
     "output_type": "stream",
     "text": [
      "Validating: 100%|██████████████████████████████████████████████████████████████████████████████████████████████████████████████████████████████████████████| 380/380 [00:36<00:00, 10.35it/s]\n"
     ]
    },
    {
     "name": "stdout",
     "output_type": "stream",
     "text": [
      "Total Loss  |Smoke Loss  |Fire Loss   \n",
      "------------ ------------ ------------\n",
      "45.206      |25.151      |20.055      \n",
      "SMOKE -> Precision: 0.8400 - Recall: 0.6881 - Accuracy: 0.7912 - F1: 0.7565\n",
      "FIRE -> Precision: 0.8209 - Recall: 0.7300 - Accuracy: 0.8608 - F1: 0.7727\n",
      "\n",
      "Saving model with new best validation loss: 45.2060\n",
      "Model exported to ONNX: experiments_resnet/test_v03__w1a1__DEEP_Resnet__clip_convs_Linear4ReLU__400k_full_ds/onnx/BNN_BED_classifier__best_loss\n",
      "\n",
      "=== EPOCH 6/149 ===\n",
      "Learning Rate = 0.001\n",
      "\n"
     ]
    },
    {
     "name": "stderr",
     "output_type": "stream",
     "text": [
      "Training:   8%|███████████▋                                                                                                                               | 154/1836 [00:26<05:57,  4.70it/s]Corrupt JPEG data: 1 extraneous bytes before marker 0xd9\n",
      "Training:  25%|██████████████████████████████████▌                                                                                                        | 456/1836 [01:14<03:10,  7.24it/s]Corrupt JPEG data: 1 extraneous bytes before marker 0xd9\n",
      "Training:  46%|████████████████████████████████████████████████████████████████▎                                                                          | 849/1836 [02:18<03:12,  5.12it/s]Corrupt JPEG data: 1 extraneous bytes before marker 0xd9\n",
      "Training:  49%|███████████████████████████████████████████████████████████████████▉                                                                       | 898/1836 [02:26<02:55,  5.36it/s]Corrupt JPEG data: 1 extraneous bytes before marker 0xd9\n",
      "Training:  69%|███████████████████████████████████████████████████████████████████████████████████████████████▋                                          | 1273/1836 [03:24<01:13,  7.69it/s]Warning: unknown JFIF revision number 32.23\n",
      "Training: 100%|██████████████████████████████████████████████████████████████████████████████████████████████████████████████████████████████████████████| 1836/1836 [04:54<00:00,  6.23it/s]\n"
     ]
    },
    {
     "name": "stdout",
     "output_type": "stream",
     "text": [
      "Total Loss  |Smoke Loss  |Fire Loss   \n",
      "------------ ------------ ------------\n",
      "46.579      |25.581      |20.999      \n",
      "\n"
     ]
    },
    {
     "name": "stderr",
     "output_type": "stream",
     "text": [
      "Validating: 100%|██████████████████████████████████████████████████████████████████████████████████████████████████████████████████████████████████████████| 380/380 [00:36<00:00, 10.40it/s]\n"
     ]
    },
    {
     "name": "stdout",
     "output_type": "stream",
     "text": [
      "Total Loss  |Smoke Loss  |Fire Loss   \n",
      "------------ ------------ ------------\n",
      "47.291      |25.185      |22.106      \n",
      "SMOKE -> Precision: 0.8063 - Recall: 0.7075 - Accuracy: 0.7819 - F1: 0.7536\n",
      "FIRE -> Precision: 0.7571 - Recall: 0.7059 - Accuracy: 0.8313 - F1: 0.7306\n",
      "\n",
      "=== EPOCH 7/149 ===\n",
      "Learning Rate = 0.001\n",
      "\n"
     ]
    },
    {
     "name": "stderr",
     "output_type": "stream",
     "text": [
      "Training:  21%|█████████████████████████████▊                                                                                                             | 393/1836 [01:04<03:27,  6.95it/s]Corrupt JPEG data: 1 extraneous bytes before marker 0xd9\n",
      "Training:  23%|███████████████████████████████▍                                                                                                           | 416/1836 [01:08<03:18,  7.14it/s]Corrupt JPEG data: 1 extraneous bytes before marker 0xd9\n",
      "Training:  33%|██████████████████████████████████████████████                                                                                             | 609/1836 [01:38<02:38,  7.77it/s]Warning: unknown JFIF revision number 32.23\n",
      "Training:  40%|███████████████████████████████████████████████████████▍                                                                                   | 732/1836 [01:58<02:55,  6.30it/s]Corrupt JPEG data: 1 extraneous bytes before marker 0xd9\n",
      "Training:  43%|███████████████████████████████████████████████████████████▉                                                                               | 791/1836 [02:07<02:17,  7.61it/s]Corrupt JPEG data: 1 extraneous bytes before marker 0xd9\n",
      "Training: 100%|██████████████████████████████████████████████████████████████████████████████████████████████████████████████████████████████████████████| 1836/1836 [04:54<00:00,  6.23it/s]\n"
     ]
    },
    {
     "name": "stdout",
     "output_type": "stream",
     "text": [
      "Total Loss  |Smoke Loss  |Fire Loss   \n",
      "------------ ------------ ------------\n",
      "44.938      |24.899      |20.039      \n",
      "\n"
     ]
    },
    {
     "name": "stderr",
     "output_type": "stream",
     "text": [
      "Validating: 100%|██████████████████████████████████████████████████████████████████████████████████████████████████████████████████████████████████████████| 380/380 [00:36<00:00, 10.33it/s]\n"
     ]
    },
    {
     "name": "stdout",
     "output_type": "stream",
     "text": [
      "Total Loss  |Smoke Loss  |Fire Loss   \n",
      "------------ ------------ ------------\n",
      "39.996      |23.271      |16.725      \n",
      "SMOKE -> Precision: 0.8184 - Recall: 0.7686 - Accuracy: 0.8105 - F1: 0.7927\n",
      "FIRE -> Precision: 0.8194 - Recall: 0.8584 - Accuracy: 0.8928 - F1: 0.8385\n",
      "\n",
      "Saving model with new best validation loss: 39.9963\n",
      "Model exported to ONNX: experiments_resnet/test_v03__w1a1__DEEP_Resnet__clip_convs_Linear4ReLU__400k_full_ds/onnx/BNN_BED_classifier__best_loss\n",
      "Saving model with best Mean F1: 0.8156\n",
      "Model exported to ONNX: experiments_resnet/test_v03__w1a1__DEEP_Resnet__clip_convs_Linear4ReLU__400k_full_ds/onnx/BNN_BED_classifier__best_mean_F1\n",
      "\n",
      "=== EPOCH 8/149 ===\n",
      "Learning Rate = 0.001\n",
      "\n"
     ]
    },
    {
     "name": "stderr",
     "output_type": "stream",
     "text": [
      "Training:   3%|████▎                                                                                                                                       | 56/1836 [00:10<05:30,  5.39it/s]Corrupt JPEG data: 1 extraneous bytes before marker 0xd9\n",
      "Training:  61%|████████████████████████████████████████████████████████████████████████████████████▍                                                     | 1124/1836 [03:01<03:12,  3.69it/s]Corrupt JPEG data: 1 extraneous bytes before marker 0xd9\n",
      "Training:  69%|███████████████████████████████████████████████████████████████████████████████████████████████▌                                          | 1272/1836 [03:23<01:24,  6.66it/s]Corrupt JPEG data: 1 extraneous bytes before marker 0xd9\n",
      "Training:  70%|████████████████████████████████████████████████████████████████████████████████████████████████▏                                         | 1279/1836 [03:24<01:12,  7.67it/s]Warning: unknown JFIF revision number 32.23\n",
      "Training:  73%|█████████████████████████████████████████████████████████████████████████████████████████████████████▏                                    | 1346/1836 [03:35<01:04,  7.66it/s]Corrupt JPEG data: 1 extraneous bytes before marker 0xd9\n",
      "Training: 100%|██████████████████████████████████████████████████████████████████████████████████████████████████████████████████████████████████████████| 1836/1836 [04:54<00:00,  6.23it/s]\n"
     ]
    },
    {
     "name": "stdout",
     "output_type": "stream",
     "text": [
      "Total Loss  |Smoke Loss  |Fire Loss   \n",
      "------------ ------------ ------------\n",
      "43.161      |24.153      |19.009      \n",
      "\n"
     ]
    },
    {
     "name": "stderr",
     "output_type": "stream",
     "text": [
      "Validating: 100%|██████████████████████████████████████████████████████████████████████████████████████████████████████████████████████████████████████████| 380/380 [00:36<00:00, 10.35it/s]\n"
     ]
    },
    {
     "name": "stdout",
     "output_type": "stream",
     "text": [
      "Total Loss  |Smoke Loss  |Fire Loss   \n",
      "------------ ------------ ------------\n",
      "39.753      |23.228      |16.525      \n",
      "SMOKE -> Precision: 0.8279 - Recall: 0.7705 - Accuracy: 0.8163 - F1: 0.7982\n",
      "FIRE -> Precision: 0.8489 - Recall: 0.8176 - Accuracy: 0.8937 - F1: 0.8330\n",
      "\n",
      "Saving model with new best validation loss: 39.7528\n",
      "Model exported to ONNX: experiments_resnet/test_v03__w1a1__DEEP_Resnet__clip_convs_Linear4ReLU__400k_full_ds/onnx/BNN_BED_classifier__best_loss\n",
      "\n",
      "=== EPOCH 9/149 ===\n",
      "Learning Rate = 0.001\n",
      "\n"
     ]
    },
    {
     "name": "stderr",
     "output_type": "stream",
     "text": [
      "Training:  39%|██████████████████████████████████████████████████████▏                                                                                    | 716/1836 [01:55<03:00,  6.19it/s]Corrupt JPEG data: 1 extraneous bytes before marker 0xd9\n",
      "Training:  41%|█████████████████████████████████████████████████████████▌                                                                                 | 761/1836 [02:03<02:35,  6.89it/s]Corrupt JPEG data: 1 extraneous bytes before marker 0xd9\n",
      "Training:  53%|██████████████████████████████████████████████████████████████████████████                                                                 | 979/1836 [02:38<01:57,  7.32it/s]Warning: unknown JFIF revision number 32.23\n",
      "Training:  82%|█████████████████████████████████████████████████████████████████████████████████████████████████████████████████▍                        | 1510/1836 [04:02<00:41,  7.86it/s]Corrupt JPEG data: 1 extraneous bytes before marker 0xd9\n",
      "Training:  99%|█████████████████████████████████████████████████████████████████████████████████████████████████████████████████████████████████████████ | 1824/1836 [04:52<00:01,  7.44it/s]Corrupt JPEG data: 1 extraneous bytes before marker 0xd9\n",
      "Training: 100%|██████████████████████████████████████████████████████████████████████████████████████████████████████████████████████████████████████████| 1836/1836 [04:54<00:00,  6.24it/s]\n"
     ]
    },
    {
     "name": "stdout",
     "output_type": "stream",
     "text": [
      "Total Loss  |Smoke Loss  |Fire Loss   \n",
      "------------ ------------ ------------\n",
      "42.002      |23.716      |18.286      \n",
      "\n"
     ]
    },
    {
     "name": "stderr",
     "output_type": "stream",
     "text": [
      "Validating: 100%|██████████████████████████████████████████████████████████████████████████████████████████████████████████████████████████████████████████| 380/380 [00:36<00:00, 10.32it/s]\n"
     ]
    },
    {
     "name": "stdout",
     "output_type": "stream",
     "text": [
      "Total Loss  |Smoke Loss  |Fire Loss   \n",
      "------------ ------------ ------------\n",
      "39.154      |23.072      |16.082      \n",
      "SMOKE -> Precision: 0.7976 - Recall: 0.8054 - Accuracy: 0.8119 - F1: 0.8015\n",
      "FIRE -> Precision: 0.8073 - Recall: 0.8994 - Accuracy: 0.8978 - F1: 0.8509\n",
      "\n",
      "Saving model with new best validation loss: 39.1543\n",
      "Model exported to ONNX: experiments_resnet/test_v03__w1a1__DEEP_Resnet__clip_convs_Linear4ReLU__400k_full_ds/onnx/BNN_BED_classifier__best_loss\n",
      "Saving model with best Mean F1: 0.8262\n",
      "Model exported to ONNX: experiments_resnet/test_v03__w1a1__DEEP_Resnet__clip_convs_Linear4ReLU__400k_full_ds/onnx/BNN_BED_classifier__best_mean_F1\n",
      "\n",
      "=== EPOCH 10/149 ===\n",
      "Learning Rate = 0.001\n",
      "\n"
     ]
    },
    {
     "name": "stderr",
     "output_type": "stream",
     "text": [
      "Training:   2%|██▎                                                                                                                                         | 30/1836 [00:06<06:54,  4.35it/s]Corrupt JPEG data: 1 extraneous bytes before marker 0xd9\n",
      "Training:   4%|██████                                                                                                                                      | 79/1836 [00:15<03:37,  8.06it/s]Corrupt JPEG data: 1 extraneous bytes before marker 0xd9\n",
      "Training:  39%|█████████████████████████████████████████████████████▊                                                                                     | 711/1836 [01:55<02:21,  7.96it/s]Warning: unknown JFIF revision number 32.23\n",
      "Training:  55%|████████████████████████████████████████████████████████████████████████████▌                                                             | 1018/1836 [02:45<02:48,  4.85it/s]Corrupt JPEG data: 1 extraneous bytes before marker 0xd9\n",
      "Training:  89%|██████████████████████████████████████████████████████████████████████████████████████████████████████████████████████████▏               | 1626/1836 [04:19<00:34,  6.02it/s]Corrupt JPEG data: 1 extraneous bytes before marker 0xd9\n",
      "Training: 100%|██████████████████████████████████████████████████████████████████████████████████████████████████████████████████████████████████████████| 1836/1836 [04:53<00:00,  6.26it/s]\n"
     ]
    },
    {
     "name": "stdout",
     "output_type": "stream",
     "text": [
      "Total Loss  |Smoke Loss  |Fire Loss   \n",
      "------------ ------------ ------------\n",
      "41.323      |23.474      |17.849      \n",
      "\n"
     ]
    },
    {
     "name": "stderr",
     "output_type": "stream",
     "text": [
      "Validating: 100%|██████████████████████████████████████████████████████████████████████████████████████████████████████████████████████████████████████████| 380/380 [00:36<00:00, 10.34it/s]\n"
     ]
    },
    {
     "name": "stdout",
     "output_type": "stream",
     "text": [
      "Total Loss  |Smoke Loss  |Fire Loss   \n",
      "------------ ------------ ------------\n",
      "40.003      |23.289      |16.714      \n",
      "SMOKE -> Precision: 0.8108 - Recall: 0.7915 - Accuracy: 0.8146 - F1: 0.8010\n",
      "FIRE -> Precision: 0.8173 - Recall: 0.8666 - Accuracy: 0.8940 - F1: 0.8412\n",
      "\n",
      "=== EPOCH 11/149 ===\n",
      "Learning Rate = 0.001\n",
      "\n"
     ]
    },
    {
     "name": "stderr",
     "output_type": "stream",
     "text": [
      "Training:  29%|███████████████████████████████████████▋                                                                                                   | 525/1836 [01:24<04:21,  5.02it/s]Warning: unknown JFIF revision number 32.23\n",
      "Training:  63%|██████████████████████████████████████████████████████████████████████████████████████▋                                                   | 1153/1836 [03:04<01:24,  8.05it/s]Corrupt JPEG data: 1 extraneous bytes before marker 0xd9\n",
      "Training:  71%|█████████████████████████████████████████████████████████████████████████████████████████████████▌                                        | 1298/1836 [03:27<01:06,  8.08it/s]Corrupt JPEG data: 1 extraneous bytes before marker 0xd9\n",
      "Training:  76%|█████████████████████████████████████████████████████████████████████████████████████████████████████████                                 | 1398/1836 [03:43<01:01,  7.09it/s]Corrupt JPEG data: 1 extraneous bytes before marker 0xd9\n",
      "Training:  87%|███████████████████████████████████████████████████████████████████████████████████████████████████████████████████████▌                  | 1590/1836 [04:14<00:33,  7.36it/s]Corrupt JPEG data: 1 extraneous bytes before marker 0xd9\n",
      "Training: 100%|██████████████████████████████████████████████████████████████████████████████████████████████████████████████████████████████████████████| 1836/1836 [04:52<00:00,  6.27it/s]\n"
     ]
    },
    {
     "name": "stdout",
     "output_type": "stream",
     "text": [
      "Total Loss  |Smoke Loss  |Fire Loss   \n",
      "------------ ------------ ------------\n",
      "40.492      |23.199      |17.293      \n",
      "\n"
     ]
    },
    {
     "name": "stderr",
     "output_type": "stream",
     "text": [
      "Validating: 100%|██████████████████████████████████████████████████████████████████████████████████████████████████████████████████████████████████████████| 380/380 [00:36<00:00, 10.31it/s]\n"
     ]
    },
    {
     "name": "stdout",
     "output_type": "stream",
     "text": [
      "Total Loss  |Smoke Loss  |Fire Loss   \n",
      "------------ ------------ ------------\n",
      "41.402      |25.065      |16.336      \n",
      "SMOKE -> Precision: 0.7853 - Recall: 0.7535 - Accuracy: 0.7867 - F1: 0.7691\n",
      "FIRE -> Precision: 0.7949 - Recall: 0.9129 - Accuracy: 0.8954 - F1: 0.8498\n",
      "\n",
      "=== EPOCH 12/149 ===\n",
      "Learning Rate = 0.001\n",
      "\n"
     ]
    },
    {
     "name": "stderr",
     "output_type": "stream",
     "text": [
      "Training:   8%|██████████▉                                                                                                                                | 145/1836 [00:24<03:32,  7.97it/s]Corrupt JPEG data: 1 extraneous bytes before marker 0xd9\n",
      "Training:  37%|███████████████████████████████████████████████████                                                                                        | 675/1836 [01:49<03:47,  5.10it/s]Corrupt JPEG data: 1 extraneous bytes before marker 0xd9\n",
      "Training:  57%|███████████████████████████████████████████████████████████████████████████████▏                                                          | 1053/1836 [02:50<03:15,  4.00it/s]Corrupt JPEG data: 1 extraneous bytes before marker 0xd9\n",
      "Training:  74%|██████████████████████████████████████████████████████████████████████████████████████████████████████▋                                   | 1366/1836 [03:40<01:33,  5.03it/s]Corrupt JPEG data: 1 extraneous bytes before marker 0xd9\n",
      "Training:  86%|███████████████████████████████████████████████████████████████████████████████████████████████████████████████████████▏                  | 1585/1836 [04:14<00:35,  7.15it/s]Warning: unknown JFIF revision number 32.23\n",
      "Training: 100%|██████████████████████████████████████████████████████████████████████████████████████████████████████████████████████████████████████████| 1836/1836 [04:53<00:00,  6.26it/s]\n"
     ]
    },
    {
     "name": "stdout",
     "output_type": "stream",
     "text": [
      "Total Loss  |Smoke Loss  |Fire Loss   \n",
      "------------ ------------ ------------\n",
      "40.288      |23.029      |17.259      \n",
      "\n"
     ]
    },
    {
     "name": "stderr",
     "output_type": "stream",
     "text": [
      "Validating: 100%|██████████████████████████████████████████████████████████████████████████████████████████████████████████████████████████████████████████| 380/380 [00:36<00:00, 10.35it/s]\n"
     ]
    },
    {
     "name": "stdout",
     "output_type": "stream",
     "text": [
      "Total Loss  |Smoke Loss  |Fire Loss   \n",
      "------------ ------------ ------------\n",
      "37.703      |22.707      |14.996      \n",
      "SMOKE -> Precision: 0.8125 - Recall: 0.7894 - Accuracy: 0.8148 - F1: 0.8008\n",
      "FIRE -> Precision: 0.8605 - Recall: 0.8578 - Accuracy: 0.9088 - F1: 0.8592\n",
      "\n",
      "Saving model with new best validation loss: 37.7032\n",
      "Model exported to ONNX: experiments_resnet/test_v03__w1a1__DEEP_Resnet__clip_convs_Linear4ReLU__400k_full_ds/onnx/BNN_BED_classifier__best_loss\n",
      "Saving model with best Mean F1: 0.8300\n",
      "Model exported to ONNX: experiments_resnet/test_v03__w1a1__DEEP_Resnet__clip_convs_Linear4ReLU__400k_full_ds/onnx/BNN_BED_classifier__best_mean_F1\n",
      "\n",
      "=== EPOCH 13/149 ===\n",
      "Learning Rate = 0.001\n",
      "\n"
     ]
    },
    {
     "name": "stderr",
     "output_type": "stream",
     "text": [
      "Training:   9%|████████████▌                                                                                                                              | 166/1836 [00:29<04:40,  5.95it/s]Corrupt JPEG data: 1 extraneous bytes before marker 0xd9\n",
      "Training:  17%|███████████████████████▍                                                                                                                   | 310/1836 [00:52<04:17,  5.92it/s]Corrupt JPEG data: 1 extraneous bytes before marker 0xd9\n",
      "Training:  46%|████████████████████████████████████████████████████████████████                                                                           | 847/1836 [02:17<03:34,  4.62it/s]Warning: unknown JFIF revision number 32.23\n",
      "Training:  47%|█████████████████████████████████████████████████████████████████▊                                                                         | 870/1836 [02:20<02:42,  5.93it/s]Corrupt JPEG data: 1 extraneous bytes before marker 0xd9\n",
      "Training:  88%|█████████████████████████████████████████████████████████████████████████████████████████████████████████████████████████▉                | 1623/1836 [04:18<00:31,  6.73it/s]Corrupt JPEG data: 1 extraneous bytes before marker 0xd9\n",
      "Training: 100%|██████████████████████████████████████████████████████████████████████████████████████████████████████████████████████████████████████████| 1836/1836 [04:52<00:00,  6.28it/s]\n"
     ]
    },
    {
     "name": "stdout",
     "output_type": "stream",
     "text": [
      "Total Loss  |Smoke Loss  |Fire Loss   \n",
      "------------ ------------ ------------\n",
      "39.804      |22.996      |16.808      \n",
      "\n"
     ]
    },
    {
     "name": "stderr",
     "output_type": "stream",
     "text": [
      "Validating: 100%|██████████████████████████████████████████████████████████████████████████████████████████████████████████████████████████████████████████| 380/380 [00:36<00:00, 10.35it/s]\n"
     ]
    },
    {
     "name": "stdout",
     "output_type": "stream",
     "text": [
      "Total Loss  |Smoke Loss  |Fire Loss   \n",
      "------------ ------------ ------------\n",
      "41.245      |26.375      |14.869      \n",
      "SMOKE -> Precision: 0.7461 - Recall: 0.8406 - Accuracy: 0.7900 - F1: 0.7905\n",
      "FIRE -> Precision: 0.8076 - Recall: 0.9219 - Accuracy: 0.9035 - F1: 0.8610\n",
      "\n",
      "=== EPOCH 14/149 ===\n",
      "Learning Rate = 0.001\n",
      "\n"
     ]
    },
    {
     "name": "stderr",
     "output_type": "stream",
     "text": [
      "Training:   3%|████                                                                                                                                        | 53/1836 [00:10<05:05,  5.84it/s]Corrupt JPEG data: 1 extraneous bytes before marker 0xd9\n",
      "Training:  23%|███████████████████████████████▍                                                                                                           | 415/1836 [01:07<03:14,  7.30it/s]Corrupt JPEG data: 1 extraneous bytes before marker 0xd9\n",
      "Training:  33%|██████████████████████████████████████████████                                                                                             | 608/1836 [01:37<02:35,  7.90it/s]Corrupt JPEG data: 1 extraneous bytes before marker 0xd9\n",
      "Training:  79%|█████████████████████████████████████████████████████████████████████████████████████████████████████████████▏                            | 1452/1836 [03:51<01:16,  5.00it/s]Corrupt JPEG data: 1 extraneous bytes before marker 0xd9\n",
      "Training:  99%|████████████████████████████████████████████████████████████████████████████████████████████████████████████████████████████████████████▋ | 1818/1836 [04:48<00:02,  7.93it/s]Warning: unknown JFIF revision number 32.23\n",
      "Training: 100%|██████████████████████████████████████████████████████████████████████████████████████████████████████████████████████████████████████████| 1836/1836 [04:51<00:00,  6.30it/s]\n"
     ]
    },
    {
     "name": "stdout",
     "output_type": "stream",
     "text": [
      "Total Loss  |Smoke Loss  |Fire Loss   \n",
      "------------ ------------ ------------\n",
      "39.202      |22.844      |16.358      \n",
      "\n"
     ]
    },
    {
     "name": "stderr",
     "output_type": "stream",
     "text": [
      "Validating: 100%|██████████████████████████████████████████████████████████████████████████████████████████████████████████████████████████████████████████| 380/380 [00:36<00:00, 10.38it/s]\n"
     ]
    },
    {
     "name": "stdout",
     "output_type": "stream",
     "text": [
      "Total Loss  |Smoke Loss  |Fire Loss   \n",
      "------------ ------------ ------------\n",
      "42.130      |24.532      |17.598      \n",
      "SMOKE -> Precision: 0.8559 - Recall: 0.6971 - Accuracy: 0.8019 - F1: 0.7684\n",
      "FIRE -> Precision: 0.8082 - Recall: 0.8489 - Accuracy: 0.8857 - F1: 0.8281\n",
      "\n",
      "=== EPOCH 15/149 ===\n",
      "Learning Rate = 0.001\n",
      "\n"
     ]
    },
    {
     "name": "stderr",
     "output_type": "stream",
     "text": [
      "Training:  27%|█████████████████████████████████████▊                                                                                                     | 500/1836 [01:20<02:55,  7.63it/s]Corrupt JPEG data: 1 extraneous bytes before marker 0xd9\n",
      "Training:  32%|███████████████████████████████████████████▊                                                                                               | 579/1836 [01:32<04:23,  4.77it/s]Corrupt JPEG data: 1 extraneous bytes before marker 0xd9\n",
      "Training:  59%|█████████████████████████████████████████████████████████████████████████████████▉                                                        | 1090/1836 [02:52<01:33,  8.00it/s]Corrupt JPEG data: 1 extraneous bytes before marker 0xd9\n",
      "Training:  91%|█████████████████████████████████████████████████████████████████████████████████████████████████████████████████████████████▎            | 1668/1836 [04:24<00:20,  8.02it/s]Warning: unknown JFIF revision number 32.23\n",
      "Training:  96%|███████████████████████████████████████████████████████████████████████████████████████████████████████████████████████████████████▉      | 1756/1836 [04:39<00:21,  3.69it/s]Corrupt JPEG data: 1 extraneous bytes before marker 0xd9\n",
      "Training: 100%|██████████████████████████████████████████████████████████████████████████████████████████████████████████████████████████████████████████| 1836/1836 [04:51<00:00,  6.30it/s]\n"
     ]
    },
    {
     "name": "stdout",
     "output_type": "stream",
     "text": [
      "Total Loss  |Smoke Loss  |Fire Loss   \n",
      "------------ ------------ ------------\n",
      "38.484      |22.441      |16.043      \n",
      "\n"
     ]
    },
    {
     "name": "stderr",
     "output_type": "stream",
     "text": [
      "Validating: 100%|██████████████████████████████████████████████████████████████████████████████████████████████████████████████████████████████████████████| 380/380 [00:36<00:00, 10.40it/s]\n"
     ]
    },
    {
     "name": "stdout",
     "output_type": "stream",
     "text": [
      "Total Loss  |Smoke Loss  |Fire Loss   \n",
      "------------ ------------ ------------\n",
      "37.938      |24.468      |13.470      \n",
      "SMOKE -> Precision: 0.7677 - Recall: 0.8171 - Accuracy: 0.7972 - F1: 0.7916\n",
      "FIRE -> Precision: 0.8754 - Recall: 0.8694 - Accuracy: 0.9175 - F1: 0.8723\n",
      "Saving model with best Mean F1: 0.8320\n",
      "Model exported to ONNX: experiments_resnet/test_v03__w1a1__DEEP_Resnet__clip_convs_Linear4ReLU__400k_full_ds/onnx/BNN_BED_classifier__best_mean_F1\n",
      "\n",
      "=== EPOCH 16/149 ===\n",
      "Learning Rate = 0.0008\n",
      "\n"
     ]
    },
    {
     "name": "stderr",
     "output_type": "stream",
     "text": [
      "Training:  14%|███████████████████                                                                                                                        | 252/1836 [00:42<03:31,  7.48it/s]Corrupt JPEG data: 1 extraneous bytes before marker 0xd9\n",
      "Training:  22%|███████████████████████████████                                                                                                            | 410/1836 [01:07<03:21,  7.09it/s]Corrupt JPEG data: 1 extraneous bytes before marker 0xd9\n",
      "Training:  49%|███████████████████████████████████████████████████████████████████▌                                                                       | 892/1836 [02:23<02:02,  7.72it/s]Corrupt JPEG data: 1 extraneous bytes before marker 0xd9\n",
      "Training:  76%|████████████████████████████████████████████████████████████████████████████████████████████████████████▍                                 | 1389/1836 [03:41<01:05,  6.86it/s]Warning: unknown JFIF revision number 32.23\n",
      "Training:  87%|███████████████████████████████████████████████████████████████████████████████████████████████████████████████████████▌                  | 1590/1836 [04:13<00:31,  7.88it/s]Corrupt JPEG data: 1 extraneous bytes before marker 0xd9\n",
      "Training: 100%|██████████████████████████████████████████████████████████████████████████████████████████████████████████████████████████████████████████| 1836/1836 [04:52<00:00,  6.28it/s]\n"
     ]
    },
    {
     "name": "stdout",
     "output_type": "stream",
     "text": [
      "Total Loss  |Smoke Loss  |Fire Loss   \n",
      "------------ ------------ ------------\n",
      "37.730      |22.168      |15.562      \n",
      "\n"
     ]
    },
    {
     "name": "stderr",
     "output_type": "stream",
     "text": [
      "Validating: 100%|██████████████████████████████████████████████████████████████████████████████████████████████████████████████████████████████████████████| 380/380 [00:36<00:00, 10.37it/s]\n"
     ]
    },
    {
     "name": "stdout",
     "output_type": "stream",
     "text": [
      "Total Loss  |Smoke Loss  |Fire Loss   \n",
      "------------ ------------ ------------\n",
      "44.836      |27.360      |17.477      \n",
      "SMOKE -> Precision: 0.7158 - Recall: 0.8792 - Accuracy: 0.7785 - F1: 0.7891\n",
      "FIRE -> Precision: 0.7587 - Recall: 0.9514 - Accuracy: 0.8862 - F1: 0.8442\n",
      "\n",
      "=== EPOCH 17/149 ===\n",
      "Learning Rate = 0.0008\n",
      "\n"
     ]
    },
    {
     "name": "stderr",
     "output_type": "stream",
     "text": [
      "Training:   2%|███                                                                                                                                         | 40/1836 [00:08<04:06,  7.28it/s]Corrupt JPEG data: 1 extraneous bytes before marker 0xd9\n",
      "Training:  21%|████████████████████████████▌                                                                                                              | 378/1836 [01:01<03:23,  7.15it/s]Corrupt JPEG data: 1 extraneous bytes before marker 0xd9\n",
      "Training:  39%|██████████████████████████████████████████████████████▏                                                                                    | 716/1836 [01:54<02:26,  7.62it/s]Corrupt JPEG data: 1 extraneous bytes before marker 0xd9\n",
      "Training:  42%|██████████████████████████████████████████████████████████▎                                                                                | 771/1836 [02:04<02:32,  6.98it/s]Corrupt JPEG data: 1 extraneous bytes before marker 0xd9\n",
      "Training:  99%|████████████████████████████████████████████████████████████████████████████████████████████████████████████████████████████████████████▎ | 1814/1836 [04:48<00:03,  5.91it/s]Warning: unknown JFIF revision number 32.23\n",
      "Training: 100%|██████████████████████████████████████████████████████████████████████████████████████████████████████████████████████████████████████████| 1836/1836 [04:51<00:00,  6.30it/s]\n"
     ]
    },
    {
     "name": "stdout",
     "output_type": "stream",
     "text": [
      "Total Loss  |Smoke Loss  |Fire Loss   \n",
      "------------ ------------ ------------\n",
      "37.804      |22.294      |15.510      \n",
      "\n"
     ]
    },
    {
     "name": "stderr",
     "output_type": "stream",
     "text": [
      "Validating: 100%|██████████████████████████████████████████████████████████████████████████████████████████████████████████████████████████████████████████| 380/380 [00:36<00:00, 10.35it/s]\n"
     ]
    },
    {
     "name": "stdout",
     "output_type": "stream",
     "text": [
      "Total Loss  |Smoke Loss  |Fire Loss   \n",
      "------------ ------------ ------------\n",
      "55.040      |33.150      |21.890      \n",
      "SMOKE -> Precision: 0.9867 - Recall: 0.3313 - Accuracy: 0.6826 - F1: 0.4960\n",
      "FIRE -> Precision: 0.9877 - Recall: 0.5315 - Accuracy: 0.8460 - F1: 0.6911\n",
      "\n",
      "=== EPOCH 18/149 ===\n",
      "Learning Rate = 0.0008\n",
      "\n"
     ]
    },
    {
     "name": "stderr",
     "output_type": "stream",
     "text": [
      "Training:  16%|██████████████████████▍                                                                                                                    | 297/1836 [00:49<03:15,  7.88it/s]Corrupt JPEG data: 1 extraneous bytes before marker 0xd9\n",
      "Training:  24%|█████████████████████████████████▌                                                                                                         | 443/1836 [01:13<02:56,  7.89it/s]Warning: unknown JFIF revision number 32.23\n",
      "Training:  48%|███████████████████████████████████████████████████████████████████▏                                                                       | 887/1836 [02:23<02:04,  7.63it/s]Corrupt JPEG data: 1 extraneous bytes before marker 0xd9\n",
      "Training:  62%|█████████████████████████████████████████████████████████████████████████████████████▏                                                    | 1133/1836 [03:02<01:36,  7.32it/s]Corrupt JPEG data: 1 extraneous bytes before marker 0xd9\n",
      "Training:  66%|███████████████████████████████████████████████████████████████████████████████████████████▋                                              | 1220/1836 [03:16<01:22,  7.45it/s]Corrupt JPEG data: 1 extraneous bytes before marker 0xd9\n",
      "Training: 100%|██████████████████████████████████████████████████████████████████████████████████████████████████████████████████████████████████████████| 1836/1836 [04:52<00:00,  6.27it/s]\n"
     ]
    },
    {
     "name": "stdout",
     "output_type": "stream",
     "text": [
      "Total Loss  |Smoke Loss  |Fire Loss   \n",
      "------------ ------------ ------------\n",
      "37.337      |22.181      |15.156      \n",
      "\n"
     ]
    },
    {
     "name": "stderr",
     "output_type": "stream",
     "text": [
      "Validating: 100%|██████████████████████████████████████████████████████████████████████████████████████████████████████████████████████████████████████████| 380/380 [00:36<00:00, 10.38it/s]\n"
     ]
    },
    {
     "name": "stdout",
     "output_type": "stream",
     "text": [
      "Total Loss  |Smoke Loss  |Fire Loss   \n",
      "------------ ------------ ------------\n",
      "41.420      |25.474      |15.945      \n",
      "SMOKE -> Precision: 0.8472 - Recall: 0.6577 - Accuracy: 0.7827 - F1: 0.7405\n",
      "FIRE -> Precision: 0.8656 - Recall: 0.8453 - Accuracy: 0.9073 - F1: 0.8553\n",
      "\n",
      "=== EPOCH 19/149 ===\n",
      "Learning Rate = 0.00064\n",
      "\n"
     ]
    },
    {
     "name": "stderr",
     "output_type": "stream",
     "text": [
      "Training:  22%|██████████████████████████████                                                                                                             | 397/1836 [01:05<03:38,  6.57it/s]Corrupt JPEG data: 1 extraneous bytes before marker 0xd9\n",
      "Training:  53%|█████████████████████████████████████████████████████████████████████████                                                                  | 965/1836 [02:34<01:54,  7.57it/s]Corrupt JPEG data: 1 extraneous bytes before marker 0xd9\n",
      "Training:  57%|██████████████████████████████████████████████████████████████████████████████▌                                                           | 1046/1836 [02:47<01:39,  7.95it/s]Corrupt JPEG data: 1 extraneous bytes before marker 0xd9\n",
      "Training:  81%|███████████████████████████████████████████████████████████████████████████████████████████████████████████████▏                          | 1479/1836 [03:56<01:16,  4.65it/s]Warning: unknown JFIF revision number 32.23\n",
      "Training:  88%|████████████████████████████████████████████████████████████████████████████████████████████████████████████████████████▊                 | 1607/1836 [04:16<00:30,  7.55it/s]Corrupt JPEG data: 1 extraneous bytes before marker 0xd9\n",
      "Training: 100%|██████████████████████████████████████████████████████████████████████████████████████████████████████████████████████████████████████████| 1836/1836 [04:52<00:00,  6.28it/s]\n"
     ]
    },
    {
     "name": "stdout",
     "output_type": "stream",
     "text": [
      "Total Loss  |Smoke Loss  |Fire Loss   \n",
      "------------ ------------ ------------\n",
      "36.490      |21.756      |14.734      \n",
      "\n"
     ]
    },
    {
     "name": "stderr",
     "output_type": "stream",
     "text": [
      "Validating: 100%|██████████████████████████████████████████████████████████████████████████████████████████████████████████████████████████████████████████| 380/380 [00:36<00:00, 10.39it/s]\n"
     ]
    },
    {
     "name": "stdout",
     "output_type": "stream",
     "text": [
      "Total Loss  |Smoke Loss  |Fire Loss   \n",
      "------------ ------------ ------------\n",
      "41.930      |23.211      |18.719      \n",
      "SMOKE -> Precision: 0.8287 - Recall: 0.7488 - Accuracy: 0.8086 - F1: 0.7867\n",
      "FIRE -> Precision: 0.7266 - Recall: 0.9387 - Accuracy: 0.8656 - F1: 0.8191\n",
      "\n",
      "=== EPOCH 20/149 ===\n",
      "Learning Rate = 0.00064\n",
      "\n"
     ]
    },
    {
     "name": "stderr",
     "output_type": "stream",
     "text": [
      "Training:  10%|██████████████                                                                                                                             | 186/1836 [00:31<05:51,  4.70it/s]Warning: unknown JFIF revision number 32.23\n",
      "Training:  17%|███████████████████████▉                                                                                                                   | 316/1836 [00:52<03:27,  7.31it/s]Corrupt JPEG data: 1 extraneous bytes before marker 0xd9\n",
      "Training:  42%|███████████████████████████████████████████████████████████                                                                                | 780/1836 [02:05<02:18,  7.62it/s]Corrupt JPEG data: 1 extraneous bytes before marker 0xd9\n",
      "Training:  75%|███████████████████████████████████████████████████████████████████████████████████████████████████████▎                                  | 1374/1836 [03:40<00:57,  7.98it/s]Corrupt JPEG data: 1 extraneous bytes before marker 0xd9\n",
      "Training:  95%|███████████████████████████████████████████████████████████████████████████████████████████████████████████████████████████████████▍      | 1748/1836 [04:38<00:11,  7.92it/s]Corrupt JPEG data: 1 extraneous bytes before marker 0xd9\n",
      "Training: 100%|██████████████████████████████████████████████████████████████████████████████████████████████████████████████████████████████████████████| 1836/1836 [04:51<00:00,  6.29it/s]\n"
     ]
    },
    {
     "name": "stdout",
     "output_type": "stream",
     "text": [
      "Total Loss  |Smoke Loss  |Fire Loss   \n",
      "------------ ------------ ------------\n",
      "37.066      |22.098      |14.968      \n",
      "\n"
     ]
    },
    {
     "name": "stderr",
     "output_type": "stream",
     "text": [
      "Validating: 100%|██████████████████████████████████████████████████████████████████████████████████████████████████████████████████████████████████████████| 380/380 [00:36<00:00, 10.43it/s]\n"
     ]
    },
    {
     "name": "stdout",
     "output_type": "stream",
     "text": [
      "Total Loss  |Smoke Loss  |Fire Loss   \n",
      "------------ ------------ ------------\n",
      "47.091      |28.134      |18.957      \n",
      "SMOKE -> Precision: 0.9128 - Recall: 0.5139 - Accuracy: 0.7477 - F1: 0.6576\n",
      "FIRE -> Precision: 0.9121 - Recall: 0.7017 - Accuracy: 0.8814 - F1: 0.7932\n",
      "\n",
      "=== EPOCH 21/149 ===\n",
      "Learning Rate = 0.00064\n",
      "\n"
     ]
    },
    {
     "name": "stderr",
     "output_type": "stream",
     "text": [
      "Training:   7%|█████████▎                                                                                                                                 | 123/1836 [00:21<03:41,  7.75it/s]Corrupt JPEG data: 1 extraneous bytes before marker 0xd9\n",
      "Training:  32%|████████████████████████████████████████████▎                                                                                              | 585/1836 [01:36<06:06,  3.42it/s]Corrupt JPEG data: 1 extraneous bytes before marker 0xd9\n",
      "Training:  47%|████████████████████████████████████████████████████████████████▋                                                                          | 854/1836 [02:17<02:08,  7.62it/s]Corrupt JPEG data: 1 extraneous bytes before marker 0xd9\n",
      "Training:  76%|████████████████████████████████████████████████████████████████████████████████████████████████████████▊                                 | 1395/1836 [03:41<00:55,  7.92it/s]Corrupt JPEG data: 1 extraneous bytes before marker 0xd9\n",
      "Training:  94%|█████████████████████████████████████████████████████████████████████████████████████████████████████████████████████████████████▋        | 1726/1836 [04:34<00:14,  7.86it/s]Warning: unknown JFIF revision number 32.23\n",
      "Training: 100%|██████████████████████████████████████████████████████████████████████████████████████████████████████████████████████████████████████████| 1836/1836 [04:50<00:00,  6.31it/s]\n"
     ]
    },
    {
     "name": "stdout",
     "output_type": "stream",
     "text": [
      "Total Loss  |Smoke Loss  |Fire Loss   \n",
      "------------ ------------ ------------\n",
      "36.804      |21.940      |14.864      \n",
      "\n"
     ]
    },
    {
     "name": "stderr",
     "output_type": "stream",
     "text": [
      "Validating: 100%|██████████████████████████████████████████████████████████████████████████████████████████████████████████████████████████████████████████| 380/380 [00:36<00:00, 10.38it/s]\n"
     ]
    },
    {
     "name": "stdout",
     "output_type": "stream",
     "text": [
      "Total Loss  |Smoke Loss  |Fire Loss   \n",
      "------------ ------------ ------------\n",
      "46.237      |25.074      |21.163      \n",
      "SMOKE -> Precision: 0.7517 - Recall: 0.8400 - Accuracy: 0.7938 - F1: 0.7934\n",
      "FIRE -> Precision: 0.7101 - Recall: 0.9561 - Accuracy: 0.8593 - F1: 0.8150\n",
      "\n",
      "=== EPOCH 22/149 ===\n",
      "Learning Rate = 0.0005120000000000001\n",
      "\n"
     ]
    },
    {
     "name": "stderr",
     "output_type": "stream",
     "text": [
      "Training:  46%|████████████████████████████████████████████████████████████████▌                                                                          | 853/1836 [02:17<02:23,  6.84it/s]Corrupt JPEG data: 1 extraneous bytes before marker 0xd9\n",
      "Training:  64%|████████████████████████████████████████████████████████████████████████████████████████▋                                                 | 1180/1836 [03:07<01:25,  7.67it/s]Corrupt JPEG data: 1 extraneous bytes before marker 0xd9\n",
      "Training:  69%|███████████████████████████████████████████████████████████████████████████████████████████████▉                                          | 1276/1836 [03:22<01:19,  7.08it/s]Warning: unknown JFIF revision number 32.23\n",
      "Training:  85%|█████████████████████████████████████████████████████████████████████████████████████████████████████████████████████▏                    | 1559/1836 [04:07<00:40,  6.80it/s]Corrupt JPEG data: 1 extraneous bytes before marker 0xd9\n",
      "Training:  97%|█████████████████████████████████████████████████████████████████████████████████████████████████████████████████████████████████████▊    | 1780/1836 [04:42<00:11,  5.07it/s]Corrupt JPEG data: 1 extraneous bytes before marker 0xd9\n",
      "Training: 100%|██████████████████████████████████████████████████████████████████████████████████████████████████████████████████████████████████████████| 1836/1836 [04:50<00:00,  6.33it/s]\n"
     ]
    },
    {
     "name": "stdout",
     "output_type": "stream",
     "text": [
      "Total Loss  |Smoke Loss  |Fire Loss   \n",
      "------------ ------------ ------------\n",
      "36.099      |21.604      |14.495      \n",
      "\n"
     ]
    },
    {
     "name": "stderr",
     "output_type": "stream",
     "text": [
      "Validating: 100%|██████████████████████████████████████████████████████████████████████████████████████████████████████████████████████████████████████████| 380/380 [00:36<00:00, 10.40it/s]\n"
     ]
    },
    {
     "name": "stdout",
     "output_type": "stream",
     "text": [
      "Total Loss  |Smoke Loss  |Fire Loss   \n",
      "------------ ------------ ------------\n",
      "39.602      |25.981      |13.621      \n",
      "SMOKE -> Precision: 0.9242 - Recall: 0.5337 - Accuracy: 0.7595 - F1: 0.6767\n",
      "FIRE -> Precision: 0.8852 - Recall: 0.8488 - Accuracy: 0.9153 - F1: 0.8666\n",
      "\n",
      "=== EPOCH 23/149 ===\n",
      "Learning Rate = 0.0005120000000000001\n",
      "\n"
     ]
    },
    {
     "name": "stderr",
     "output_type": "stream",
     "text": [
      "Training:   1%|▉                                                                                                                                           | 12/1836 [00:03<06:04,  5.00it/s]Corrupt JPEG data: 1 extraneous bytes before marker 0xd9\n",
      "Training:   6%|█████████                                                                                                                                  | 119/1836 [00:21<04:28,  6.39it/s]Corrupt JPEG data: 1 extraneous bytes before marker 0xd9\n",
      "Training:  38%|█████████████████████████████████████████████████████▎                                                                                     | 704/1836 [01:54<03:00,  6.28it/s]Corrupt JPEG data: 1 extraneous bytes before marker 0xd9\n",
      "Training:  76%|█████████████████████████████████████████████████████████████████████████████████████████████████████████                                 | 1397/1836 [03:44<01:20,  5.48it/s]Corrupt JPEG data: 1 extraneous bytes before marker 0xd9\n",
      "Training:  86%|███████████████████████████████████████████████████████████████████████████████████████████████████████████████████████                   | 1584/1836 [04:12<00:33,  7.45it/s]Warning: unknown JFIF revision number 32.23\n",
      "Training: 100%|██████████████████████████████████████████████████████████████████████████████████████████████████████████████████████████████████████████| 1836/1836 [04:51<00:00,  6.31it/s]\n"
     ]
    },
    {
     "name": "stdout",
     "output_type": "stream",
     "text": [
      "Total Loss  |Smoke Loss  |Fire Loss   \n",
      "------------ ------------ ------------\n",
      "35.890      |21.489      |14.401      \n",
      "\n"
     ]
    },
    {
     "name": "stderr",
     "output_type": "stream",
     "text": [
      "Validating: 100%|██████████████████████████████████████████████████████████████████████████████████████████████████████████████████████████████████████████| 380/380 [00:36<00:00, 10.41it/s]\n"
     ]
    },
    {
     "name": "stdout",
     "output_type": "stream",
     "text": [
      "Total Loss  |Smoke Loss  |Fire Loss   \n",
      "------------ ------------ ------------\n",
      "42.373      |24.491      |17.882      \n",
      "SMOKE -> Precision: 0.8849 - Recall: 0.6466 - Accuracy: 0.7937 - F1: 0.7472\n",
      "FIRE -> Precision: 0.7461 - Recall: 0.9315 - Accuracy: 0.8750 - F1: 0.8286\n",
      "\n",
      "=== EPOCH 24/149 ===\n",
      "Learning Rate = 0.0005120000000000001\n",
      "\n"
     ]
    },
    {
     "name": "stderr",
     "output_type": "stream",
     "text": [
      "Training:   0%|                                                                                                                                                     | 0/1836 [00:00<?, ?it/s]Corrupt JPEG data: 1 extraneous bytes before marker 0xd9\n",
      "Training:  14%|███████████████████▍                                                                                                                       | 257/1836 [00:42<03:24,  7.73it/s]Warning: unknown JFIF revision number 32.23\n",
      "Training:  17%|███████████████████████                                                                                                                    | 304/1836 [00:49<03:12,  7.97it/s]Corrupt JPEG data: 1 extraneous bytes before marker 0xd9\n",
      "Training:  33%|██████████████████████████████████████████████                                                                                             | 609/1836 [01:36<02:56,  6.97it/s]Corrupt JPEG data: 1 extraneous bytes before marker 0xd9\n",
      "Training:  63%|██████████████████████████████████████████████████████████████████████████████████████▎                                                   | 1149/1836 [03:01<01:36,  7.13it/s]Corrupt JPEG data: 1 extraneous bytes before marker 0xd9\n",
      "Training: 100%|██████████████████████████████████████████████████████████████████████████████████████████████████████████████████████████████████████████| 1836/1836 [04:48<00:00,  6.36it/s]\n"
     ]
    },
    {
     "name": "stdout",
     "output_type": "stream",
     "text": [
      "Total Loss  |Smoke Loss  |Fire Loss   \n",
      "------------ ------------ ------------\n",
      "36.446      |21.830      |14.617      \n",
      "\n"
     ]
    },
    {
     "name": "stderr",
     "output_type": "stream",
     "text": [
      "Validating: 100%|██████████████████████████████████████████████████████████████████████████████████████████████████████████████████████████████████████████| 380/380 [00:36<00:00, 10.42it/s]\n"
     ]
    },
    {
     "name": "stdout",
     "output_type": "stream",
     "text": [
      "Total Loss  |Smoke Loss  |Fire Loss   \n",
      "------------ ------------ ------------\n",
      "36.496      |22.051      |14.445      \n",
      "SMOKE -> Precision: 0.8692 - Recall: 0.7098 - Accuracy: 0.8128 - F1: 0.7814\n",
      "FIRE -> Precision: 0.8913 - Recall: 0.8311 - Accuracy: 0.9124 - F1: 0.8601\n",
      "\n",
      "Saving model with new best validation loss: 36.4955\n",
      "Model exported to ONNX: experiments_resnet/test_v03__w1a1__DEEP_Resnet__clip_convs_Linear4ReLU__400k_full_ds/onnx/BNN_BED_classifier__best_loss\n",
      "\n",
      "=== EPOCH 25/149 ===\n",
      "Learning Rate = 0.0005120000000000001\n",
      "\n"
     ]
    },
    {
     "name": "stderr",
     "output_type": "stream",
     "text": [
      "Training:  16%|██████████████████████▍                                                                                                                    | 296/1836 [00:48<03:27,  7.41it/s]Warning: unknown JFIF revision number 32.23\n",
      "Training:  24%|████████████████████████████████▉                                                                                                          | 435/1836 [01:09<04:23,  5.32it/s]Corrupt JPEG data: 1 extraneous bytes before marker 0xd9\n",
      "Training:  36%|█████████████████████████████████████████████████▌                                                                                         | 654/1836 [01:44<02:32,  7.76it/s]Corrupt JPEG data: 1 extraneous bytes before marker 0xd9\n",
      "Training:  57%|██████████████████████████████████████████████████████████████████████████████▏                                                           | 1041/1836 [02:46<01:43,  7.65it/s]Corrupt JPEG data: 1 extraneous bytes before marker 0xd9\n",
      "Training:  82%|████████████████████████████████████████████████████████████████████████████████████████████████████████████████▋                         | 1500/1836 [03:59<00:49,  6.81it/s]Corrupt JPEG data: 1 extraneous bytes before marker 0xd9\n",
      "Training: 100%|██████████████████████████████████████████████████████████████████████████████████████████████████████████████████████████████████████████| 1836/1836 [04:51<00:00,  6.30it/s]\n"
     ]
    },
    {
     "name": "stdout",
     "output_type": "stream",
     "text": [
      "Total Loss  |Smoke Loss  |Fire Loss   \n",
      "------------ ------------ ------------\n",
      "36.538      |21.739      |14.798      \n",
      "\n"
     ]
    },
    {
     "name": "stderr",
     "output_type": "stream",
     "text": [
      "Validating: 100%|██████████████████████████████████████████████████████████████████████████████████████████████████████████████████████████████████████████| 380/380 [00:36<00:00, 10.35it/s]\n"
     ]
    },
    {
     "name": "stdout",
     "output_type": "stream",
     "text": [
      "Total Loss  |Smoke Loss  |Fire Loss   \n",
      "------------ ------------ ------------\n",
      "45.929      |26.549      |19.381      \n",
      "SMOKE -> Precision: 0.7570 - Recall: 0.7366 - Accuracy: 0.7644 - F1: 0.7467\n",
      "FIRE -> Precision: 0.7810 - Recall: 0.8791 - Accuracy: 0.8809 - F1: 0.8271\n",
      "\n",
      "=== EPOCH 26/149 ===\n",
      "Learning Rate = 0.0005120000000000001\n",
      "\n"
     ]
    },
    {
     "name": "stderr",
     "output_type": "stream",
     "text": [
      "Training:  10%|██████████████▏                                                                                                                            | 187/1836 [00:31<04:03,  6.78it/s]Corrupt JPEG data: 1 extraneous bytes before marker 0xd9\n",
      "Training:  46%|███████████████████████████████████████████████████████████████▌                                                                           | 840/1836 [02:14<02:26,  6.80it/s]Warning: unknown JFIF revision number 32.23\n",
      "Training:  68%|█████████████████████████████████████████████████████████████████████████████████████████████▌                                            | 1244/1836 [03:17<01:18,  7.53it/s]Corrupt JPEG data: 1 extraneous bytes before marker 0xd9\n",
      "Training:  79%|█████████████████████████████████████████████████████████████████████████████████████████████████████████████▌                            | 1458/1836 [03:51<01:10,  5.35it/s]Corrupt JPEG data: 1 extraneous bytes before marker 0xd9\n",
      "Training:  88%|█████████████████████████████████████████████████████████████████████████████████████████████████████████████████████████▍                | 1616/1836 [04:16<00:28,  7.80it/s]Corrupt JPEG data: 1 extraneous bytes before marker 0xd9\n",
      "Training: 100%|██████████████████████████████████████████████████████████████████████████████████████████████████████████████████████████████████████████| 1836/1836 [04:50<00:00,  6.32it/s]\n"
     ]
    },
    {
     "name": "stdout",
     "output_type": "stream",
     "text": [
      "Total Loss  |Smoke Loss  |Fire Loss   \n",
      "------------ ------------ ------------\n",
      "36.693      |21.781      |14.911      \n",
      "\n"
     ]
    },
    {
     "name": "stderr",
     "output_type": "stream",
     "text": [
      "Validating: 100%|██████████████████████████████████████████████████████████████████████████████████████████████████████████████████████████████████████████| 380/380 [00:36<00:00, 10.37it/s]\n"
     ]
    },
    {
     "name": "stdout",
     "output_type": "stream",
     "text": [
      "Total Loss  |Smoke Loss  |Fire Loss   \n",
      "------------ ------------ ------------\n",
      "48.684      |29.854      |18.830      \n",
      "SMOKE -> Precision: 0.7002 - Recall: 0.8866 - Accuracy: 0.7676 - F1: 0.7824\n",
      "FIRE -> Precision: 0.8072 - Recall: 0.8298 - Accuracy: 0.8806 - F1: 0.8183\n",
      "\n",
      "=== EPOCH 27/149 ===\n",
      "Learning Rate = 0.0005120000000000001\n",
      "\n"
     ]
    },
    {
     "name": "stderr",
     "output_type": "stream",
     "text": [
      "Training:  12%|████████████████▉                                                                                                                          | 224/1836 [00:37<03:46,  7.12it/s]Corrupt JPEG data: 1 extraneous bytes before marker 0xd9\n",
      "Training:  63%|██████████████████████████████████████████████████████████████████████████████████████▍                                                   | 1150/1836 [03:03<02:06,  5.41it/s]Warning: unknown JFIF revision number 32.23\n",
      "Training:  67%|████████████████████████████████████████████████████████████████████████████████████████████▉                                             | 1236/1836 [03:15<01:26,  6.90it/s]Corrupt JPEG data: 1 extraneous bytes before marker 0xd9\n",
      "Training:  76%|████████████████████████████████████████████████████████████████████████████████████████████████████████▌                                 | 1391/1836 [03:39<00:56,  7.87it/s]Corrupt JPEG data: 1 extraneous bytes before marker 0xd9\n",
      "Training:  87%|████████████████████████████████████████████████████████████████████████████████████████████████████████████████████████▎                 | 1601/1836 [04:14<00:31,  7.48it/s]Corrupt JPEG data: 1 extraneous bytes before marker 0xd9\n",
      "Training: 100%|██████████████████████████████████████████████████████████████████████████████████████████████████████████████████████████████████████████| 1836/1836 [04:50<00:00,  6.31it/s]\n"
     ]
    },
    {
     "name": "stdout",
     "output_type": "stream",
     "text": [
      "Total Loss  |Smoke Loss  |Fire Loss   \n",
      "------------ ------------ ------------\n",
      "36.679      |21.757      |14.922      \n",
      "\n"
     ]
    },
    {
     "name": "stderr",
     "output_type": "stream",
     "text": [
      "Validating: 100%|██████████████████████████████████████████████████████████████████████████████████████████████████████████████████████████████████████████| 380/380 [00:36<00:00, 10.45it/s]\n"
     ]
    },
    {
     "name": "stdout",
     "output_type": "stream",
     "text": [
      "Total Loss  |Smoke Loss  |Fire Loss   \n",
      "------------ ------------ ------------\n",
      "61.307      |37.943      |23.365      \n",
      "SMOKE -> Precision: 0.8815 - Recall: 0.3115 - Accuracy: 0.6557 - F1: 0.4603\n",
      "FIRE -> Precision: 0.9595 - Recall: 0.5646 - Accuracy: 0.8511 - F1: 0.7109\n",
      "\n",
      "=== EPOCH 28/149 ===\n",
      "Learning Rate = 0.0004096000000000001\n",
      "\n"
     ]
    },
    {
     "name": "stderr",
     "output_type": "stream",
     "text": [
      "Training:  23%|███████████████████████████████▌                                                                                                           | 417/1836 [01:07<03:16,  7.24it/s]Corrupt JPEG data: 1 extraneous bytes before marker 0xd9\n",
      "Training:  24%|█████████████████████████████████▊                                                                                                         | 447/1836 [01:12<04:03,  5.71it/s]Corrupt JPEG data: 1 extraneous bytes before marker 0xd9\n",
      "Training:  67%|████████████████████████████████████████████████████████████████████████████████████████████▊                                             | 1235/1836 [03:15<01:24,  7.14it/s]Warning: unknown JFIF revision number 32.23\n",
      "Training:  79%|████████████████████████████████████████████████████████████████████████████████████████████████████████████▋                             | 1446/1836 [03:49<00:52,  7.46it/s]Corrupt JPEG data: 1 extraneous bytes before marker 0xd9\n",
      "Training:  83%|█████████████████████████████████████████████████████████████████████████████████████████████████████████████████▊                        | 1515/1836 [04:00<00:45,  7.00it/s]Corrupt JPEG data: 1 extraneous bytes before marker 0xd9\n",
      "Training: 100%|██████████████████████████████████████████████████████████████████████████████████████████████████████████████████████████████████████████| 1836/1836 [04:48<00:00,  6.36it/s]\n"
     ]
    },
    {
     "name": "stdout",
     "output_type": "stream",
     "text": [
      "Total Loss  |Smoke Loss  |Fire Loss   \n",
      "------------ ------------ ------------\n",
      "36.066      |21.542      |14.524      \n",
      "\n"
     ]
    },
    {
     "name": "stderr",
     "output_type": "stream",
     "text": [
      "Validating: 100%|██████████████████████████████████████████████████████████████████████████████████████████████████████████████████████████████████████████| 380/380 [00:36<00:00, 10.42it/s]\n"
     ]
    },
    {
     "name": "stdout",
     "output_type": "stream",
     "text": [
      "Total Loss  |Smoke Loss  |Fire Loss   \n",
      "------------ ------------ ------------\n",
      "107.219     |36.379      |70.840      \n",
      "SMOKE -> Precision: 0.6786 - Recall: 0.6820 - Accuracy: 0.6978 - F1: 0.6803\n",
      "FIRE -> Precision: 0.3862 - Recall: 0.8028 - Accuracy: 0.5225 - F1: 0.5215\n",
      "\n",
      "=== EPOCH 29/149 ===\n",
      "Learning Rate = 0.0004096000000000001\n",
      "\n"
     ]
    },
    {
     "name": "stderr",
     "output_type": "stream",
     "text": [
      "Training:   1%|█▊                                                                                                                                          | 24/1836 [00:05<03:54,  7.73it/s]Warning: unknown JFIF revision number 32.23\n",
      "Training:   6%|████████▎                                                                                                                                  | 109/1836 [00:19<04:21,  6.60it/s]Corrupt JPEG data: 1 extraneous bytes before marker 0xd9\n",
      "Training:  48%|██████████████████████████████████████████████████████████████████▍                                                                        | 878/1836 [02:20<01:58,  8.06it/s]Corrupt JPEG data: 1 extraneous bytes before marker 0xd9\n",
      "Training:  66%|██████████████████████████████████████████████████████████████████████████████████████████▊                                               | 1208/1836 [03:13<01:33,  6.70it/s]Corrupt JPEG data: 1 extraneous bytes before marker 0xd9\n",
      "Training:  77%|█████████████████████████████████████████████████████████████████████████████████████████████████████████▊                                | 1408/1836 [03:44<01:06,  6.44it/s]Corrupt JPEG data: 1 extraneous bytes before marker 0xd9\n",
      "Training: 100%|██████████████████████████████████████████████████████████████████████████████████████████████████████████████████████████████████████████| 1836/1836 [04:50<00:00,  6.33it/s]\n"
     ]
    },
    {
     "name": "stdout",
     "output_type": "stream",
     "text": [
      "Total Loss  |Smoke Loss  |Fire Loss   \n",
      "------------ ------------ ------------\n",
      "35.852      |21.531      |14.321      \n",
      "\n"
     ]
    },
    {
     "name": "stderr",
     "output_type": "stream",
     "text": [
      "Validating: 100%|██████████████████████████████████████████████████████████████████████████████████████████████████████████████████████████████████████████| 380/380 [00:36<00:00, 10.41it/s]\n"
     ]
    },
    {
     "name": "stdout",
     "output_type": "stream",
     "text": [
      "Total Loss  |Smoke Loss  |Fire Loss   \n",
      "------------ ------------ ------------\n",
      "51.648      |23.622      |28.026      \n",
      "SMOKE -> Precision: 0.8252 - Recall: 0.7331 - Accuracy: 0.8010 - F1: 0.7764\n",
      "FIRE -> Precision: 0.6105 - Recall: 0.9756 - Accuracy: 0.7903 - F1: 0.7510\n",
      "\n",
      "=== EPOCH 30/149 ===\n",
      "Learning Rate = 0.0004096000000000001\n",
      "\n"
     ]
    },
    {
     "name": "stderr",
     "output_type": "stream",
     "text": [
      "Training:  18%|█████████████████████████▌                                                                                                                 | 337/1836 [00:54<04:10,  5.98it/s]Warning: unknown JFIF revision number 32.23\n",
      "Training:  67%|████████████████████████████████████████████████████████████████████████████████████████████▍                                             | 1229/1836 [03:15<01:29,  6.80it/s]Corrupt JPEG data: 1 extraneous bytes before marker 0xd9\n",
      "Training:  70%|████████████████████████████████████████████████████████████████████████████████████████████████▉                                         | 1289/1836 [03:25<01:27,  6.27it/s]Corrupt JPEG data: 1 extraneous bytes before marker 0xd9\n",
      "Training:  84%|███████████████████████████████████████████████████████████████████████████████████████████████████████████████████▎                      | 1534/1836 [04:02<00:40,  7.43it/s]Corrupt JPEG data: 1 extraneous bytes before marker 0xd9\n",
      "Training:  85%|█████████████████████████████████████████████████████████████████████████████████████████████████████████████████████▎                    | 1561/1836 [04:06<00:47,  5.80it/s]Corrupt JPEG data: 1 extraneous bytes before marker 0xd9\n",
      "Training: 100%|██████████████████████████████████████████████████████████████████████████████████████████████████████████████████████████████████████████| 1836/1836 [04:49<00:00,  6.34it/s]\n"
     ]
    },
    {
     "name": "stdout",
     "output_type": "stream",
     "text": [
      "Total Loss  |Smoke Loss  |Fire Loss   \n",
      "------------ ------------ ------------\n",
      "35.726      |21.477      |14.249      \n",
      "\n"
     ]
    },
    {
     "name": "stderr",
     "output_type": "stream",
     "text": [
      "Validating: 100%|██████████████████████████████████████████████████████████████████████████████████████████████████████████████████████████████████████████| 380/380 [00:36<00:00, 10.41it/s]\n"
     ]
    },
    {
     "name": "stdout",
     "output_type": "stream",
     "text": [
      "Total Loss  |Smoke Loss  |Fire Loss   \n",
      "------------ ------------ ------------\n",
      "44.186      |25.315      |18.871      \n",
      "SMOKE -> Precision: 0.8286 - Recall: 0.7175 - Accuracy: 0.7968 - F1: 0.7690\n",
      "FIRE -> Precision: 0.8483 - Recall: 0.7769 - Accuracy: 0.8826 - F1: 0.8110\n",
      "\n",
      "=== EPOCH 31/149 ===\n",
      "Learning Rate = 0.0003276800000000001\n",
      "\n"
     ]
    },
    {
     "name": "stderr",
     "output_type": "stream",
     "text": [
      "Training:  49%|███████████████████████████████████████████████████████████████████▍                                                                       | 891/1836 [02:22<01:59,  7.94it/s]Corrupt JPEG data: 1 extraneous bytes before marker 0xd9\n",
      "Training:  52%|████████████████████████████████████████████████████████████████████████▍                                                                  | 957/1836 [02:32<01:59,  7.35it/s]Corrupt JPEG data: 1 extraneous bytes before marker 0xd9\n",
      "Training:  62%|█████████████████████████████████████████████████████████████████████████████████████▍                                                    | 1136/1836 [03:01<02:03,  5.69it/s]Warning: unknown JFIF revision number 32.23\n",
      "Training:  72%|██████████████████████████████████████████████████████████████████████████████████████████████████▉                                       | 1317/1836 [03:29<01:50,  4.71it/s]Corrupt JPEG data: 1 extraneous bytes before marker 0xd9\n",
      "Training:  96%|████████████████████████████████████████████████████████████████████████████████████████████████████████████████████████████████████▎     | 1761/1836 [04:38<00:10,  7.11it/s]Corrupt JPEG data: 1 extraneous bytes before marker 0xd9\n",
      "Training: 100%|██████████████████████████████████████████████████████████████████████████████████████████████████████████████████████████████████████████| 1836/1836 [04:49<00:00,  6.34it/s]\n"
     ]
    },
    {
     "name": "stdout",
     "output_type": "stream",
     "text": [
      "Total Loss  |Smoke Loss  |Fire Loss   \n",
      "------------ ------------ ------------\n",
      "35.271      |21.190      |14.082      \n",
      "\n"
     ]
    },
    {
     "name": "stderr",
     "output_type": "stream",
     "text": [
      "Validating: 100%|██████████████████████████████████████████████████████████████████████████████████████████████████████████████████████████████████████████| 380/380 [00:36<00:00, 10.47it/s]\n"
     ]
    },
    {
     "name": "stdout",
     "output_type": "stream",
     "text": [
      "Total Loss  |Smoke Loss  |Fire Loss   \n",
      "------------ ------------ ------------\n",
      "44.216      |26.066      |18.151      \n",
      "SMOKE -> Precision: 0.8005 - Recall: 0.6747 - Accuracy: 0.7674 - F1: 0.7322\n",
      "FIRE -> Precision: 0.9172 - Recall: 0.6578 - Accuracy: 0.8698 - F1: 0.7661\n",
      "\n",
      "=== EPOCH 32/149 ===\n",
      "Learning Rate = 0.0003276800000000001\n",
      "\n"
     ]
    },
    {
     "name": "stderr",
     "output_type": "stream",
     "text": [
      "Training:  19%|█████████████████████████▉                                                                                                                 | 342/1836 [00:55<03:27,  7.22it/s]Warning: unknown JFIF revision number 32.23\n",
      "Training:  36%|█████████████████████████████████████████████████▍                                                                                         | 653/1836 [01:45<03:18,  5.96it/s]Corrupt JPEG data: 1 extraneous bytes before marker 0xd9\n",
      "Training:  38%|████████████████████████████████████████████████████▊                                                                                      | 697/1836 [01:52<02:26,  7.78it/s]Corrupt JPEG data: 1 extraneous bytes before marker 0xd9\n",
      "Training:  59%|█████████████████████████████████████████████████████████████████████████████████▍                                                        | 1083/1836 [02:52<01:35,  7.91it/s]Corrupt JPEG data: 1 extraneous bytes before marker 0xd9\n",
      "Training:  86%|██████████████████████████████████████████████████████████████████████████████████████████████████████████████████████▊                   | 1580/1836 [04:10<00:31,  8.02it/s]Corrupt JPEG data: 1 extraneous bytes before marker 0xd9\n",
      "Training: 100%|██████████████████████████████████████████████████████████████████████████████████████████████████████████████████████████████████████████| 1836/1836 [04:50<00:00,  6.33it/s]\n"
     ]
    },
    {
     "name": "stdout",
     "output_type": "stream",
     "text": [
      "Total Loss  |Smoke Loss  |Fire Loss   \n",
      "------------ ------------ ------------\n",
      "35.594      |21.345      |14.249      \n",
      "\n"
     ]
    },
    {
     "name": "stderr",
     "output_type": "stream",
     "text": [
      "Validating: 100%|██████████████████████████████████████████████████████████████████████████████████████████████████████████████████████████████████████████| 380/380 [00:36<00:00, 10.44it/s]\n"
     ]
    },
    {
     "name": "stdout",
     "output_type": "stream",
     "text": [
      "Total Loss  |Smoke Loss  |Fire Loss   \n",
      "------------ ------------ ------------\n",
      "45.072      |27.686      |17.386      \n",
      "SMOKE -> Precision: 0.9227 - Recall: 0.5080 - Accuracy: 0.7480 - F1: 0.6552\n",
      "FIRE -> Precision: 0.8109 - Recall: 0.8289 - Accuracy: 0.8819 - F1: 0.8198\n",
      "\n",
      "=== EPOCH 33/149 ===\n",
      "Learning Rate = 0.0003276800000000001\n",
      "\n"
     ]
    },
    {
     "name": "stderr",
     "output_type": "stream",
     "text": [
      "Training:   1%|█▏                                                                                                                                          | 15/1836 [00:04<04:09,  7.31it/s]Warning: unknown JFIF revision number 32.23\n",
      "Training:   3%|████▊                                                                                                                                       | 63/1836 [00:11<04:05,  7.23it/s]Corrupt JPEG data: 1 extraneous bytes before marker 0xd9\n",
      "Training:  14%|███████████████████▎                                                                                                                       | 255/1836 [00:43<06:05,  4.33it/s]Corrupt JPEG data: 1 extraneous bytes before marker 0xd9\n",
      "Training:  39%|██████████████████████████████████████████████████████▉                                                                                    | 725/1836 [01:56<03:21,  5.52it/s]Corrupt JPEG data: 1 extraneous bytes before marker 0xd9\n",
      "Training:  50%|█████████████████████████████████████████████████████████████████████▋                                                                     | 920/1836 [02:26<03:21,  4.55it/s]Corrupt JPEG data: 1 extraneous bytes before marker 0xd9\n",
      "Training: 100%|██████████████████████████████████████████████████████████████████████████████████████████████████████████████████████████████████████████| 1836/1836 [04:49<00:00,  6.35it/s]\n"
     ]
    },
    {
     "name": "stdout",
     "output_type": "stream",
     "text": [
      "Total Loss  |Smoke Loss  |Fire Loss   \n",
      "------------ ------------ ------------\n",
      "35.474      |21.297      |14.177      \n",
      "\n"
     ]
    },
    {
     "name": "stderr",
     "output_type": "stream",
     "text": [
      "Validating: 100%|██████████████████████████████████████████████████████████████████████████████████████████████████████████████████████████████████████████| 380/380 [00:36<00:00, 10.40it/s]\n"
     ]
    },
    {
     "name": "stdout",
     "output_type": "stream",
     "text": [
      "Total Loss  |Smoke Loss  |Fire Loss   \n",
      "------------ ------------ ------------\n",
      "41.003      |26.180      |14.823      \n",
      "SMOKE -> Precision: 0.7998 - Recall: 0.7051 - Accuracy: 0.7778 - F1: 0.7495\n",
      "FIRE -> Precision: 0.8834 - Recall: 0.8302 - Accuracy: 0.9094 - F1: 0.8559\n",
      "\n",
      "=== EPOCH 34/149 ===\n",
      "Learning Rate = 0.0002621440000000001\n",
      "\n"
     ]
    },
    {
     "name": "stderr",
     "output_type": "stream",
     "text": [
      "Training:   9%|████████████▎                                                                                                                              | 162/1836 [00:27<03:45,  7.44it/s]Corrupt JPEG data: 1 extraneous bytes before marker 0xd9\n",
      "Training:  30%|█████████████████████████████████████████▋                                                                                                 | 551/1836 [01:28<04:50,  4.42it/s]Warning: unknown JFIF revision number 32.23\n",
      "Training:  40%|███████████████████████████████████████████████████████▌                                                                                   | 734/1836 [01:57<02:33,  7.18it/s]Corrupt JPEG data: 1 extraneous bytes before marker 0xd9\n",
      "Training:  62%|█████████████████████████████████████████████████████████████████████████████████████▉                                                    | 1144/1836 [03:01<01:34,  7.35it/s]Corrupt JPEG data: 1 extraneous bytes before marker 0xd9\n",
      "Training:  89%|██████████████████████████████████████████████████████████████████████████████████████████████████████████████████████████▍               | 1629/1836 [04:17<00:39,  5.21it/s]Corrupt JPEG data: 1 extraneous bytes before marker 0xd9\n",
      "Training: 100%|██████████████████████████████████████████████████████████████████████████████████████████████████████████████████████████████████████████| 1836/1836 [04:49<00:00,  6.34it/s]\n"
     ]
    },
    {
     "name": "stdout",
     "output_type": "stream",
     "text": [
      "Total Loss  |Smoke Loss  |Fire Loss   \n",
      "------------ ------------ ------------\n",
      "35.044      |20.965      |14.080      \n",
      "\n"
     ]
    },
    {
     "name": "stderr",
     "output_type": "stream",
     "text": [
      "Validating: 100%|██████████████████████████████████████████████████████████████████████████████████████████████████████████████████████████████████████████| 380/380 [00:36<00:00, 10.42it/s]\n"
     ]
    },
    {
     "name": "stdout",
     "output_type": "stream",
     "text": [
      "Total Loss  |Smoke Loss  |Fire Loss   \n",
      "------------ ------------ ------------\n",
      "42.181      |26.619      |15.562      \n",
      "SMOKE -> Precision: 0.9614 - Recall: 0.5003 - Accuracy: 0.7550 - F1: 0.6581\n",
      "FIRE -> Precision: 0.8311 - Recall: 0.8857 - Accuracy: 0.9046 - F1: 0.8575\n",
      "\n",
      "=== EPOCH 35/149 ===\n",
      "Learning Rate = 0.0002621440000000001\n",
      "\n"
     ]
    },
    {
     "name": "stderr",
     "output_type": "stream",
     "text": [
      "Training:  22%|██████████████████████████████▎                                                                                                            | 401/1836 [01:05<03:45,  6.36it/s]Corrupt JPEG data: 1 extraneous bytes before marker 0xd9\n",
      "Training:  53%|█████████████████████████████████████████████████████████████████████████▉                                                                 | 976/1836 [02:35<01:53,  7.61it/s]Corrupt JPEG data: 1 extraneous bytes before marker 0xd9\n",
      "Training:  76%|█████████████████████████████████████████████████████████████████████████████████████████████████████████▎                                | 1401/1836 [03:42<01:00,  7.14it/s]Corrupt JPEG data: 1 extraneous bytes before marker 0xd9\n",
      "Training:  91%|█████████████████████████████████████████████████████████████████████████████████████████████████████████████████████████████             | 1664/1836 [04:23<00:33,  5.08it/s]Corrupt JPEG data: 1 extraneous bytes before marker 0xd9\n",
      "Training:  98%|███████████████████████████████████████████████████████████████████████████████████████████████████████████████████████████████████████▌  | 1803/1836 [04:45<00:05,  6.51it/s]Warning: unknown JFIF revision number 32.23\n",
      "Training: 100%|██████████████████████████████████████████████████████████████████████████████████████████████████████████████████████████████████████████| 1836/1836 [04:49<00:00,  6.33it/s]\n"
     ]
    },
    {
     "name": "stdout",
     "output_type": "stream",
     "text": [
      "Total Loss  |Smoke Loss  |Fire Loss   \n",
      "------------ ------------ ------------\n",
      "34.886      |20.890      |13.996      \n",
      "\n"
     ]
    },
    {
     "name": "stderr",
     "output_type": "stream",
     "text": [
      "Validating: 100%|██████████████████████████████████████████████████████████████████████████████████████████████████████████████████████████████████████████| 380/380 [00:36<00:00, 10.49it/s]\n"
     ]
    },
    {
     "name": "stdout",
     "output_type": "stream",
     "text": [
      "Total Loss  |Smoke Loss  |Fire Loss   \n",
      "------------ ------------ ------------\n",
      "57.405      |33.479      |23.926      \n",
      "SMOKE -> Precision: 0.7377 - Recall: 0.5381 - Accuracy: 0.6921 - F1: 0.6223\n",
      "FIRE -> Precision: 0.8667 - Recall: 0.5022 - Accuracy: 0.8136 - F1: 0.6359\n",
      "\n",
      "=== EPOCH 36/149 ===\n",
      "Learning Rate = 0.0002621440000000001\n",
      "\n"
     ]
    },
    {
     "name": "stderr",
     "output_type": "stream",
     "text": [
      "Training:  12%|████████████████▋                                                                                                                          | 221/1836 [00:36<03:27,  7.79it/s]Warning: unknown JFIF revision number 32.23\n",
      "Training:  22%|███████████████████████████████                                                                                                            | 411/1836 [01:06<03:30,  6.76it/s]Corrupt JPEG data: 1 extraneous bytes before marker 0xd9\n",
      "Training:  60%|██████████████████████████████████████████████████████████████████████████████████▎                                                       | 1095/1836 [02:54<01:39,  7.44it/s]Corrupt JPEG data: 1 extraneous bytes before marker 0xd9\n",
      "Training:  77%|██████████████████████████████████████████████████████████████████████████████████████████████████████████                                | 1411/1836 [03:43<01:04,  6.58it/s]Corrupt JPEG data: 1 extraneous bytes before marker 0xd9\n",
      "Training:  98%|██████████████████████████████████████████████████████████████████████████████████████████████████████████████████████████████████████▊   | 1793/1836 [04:41<00:06,  7.13it/s]Corrupt JPEG data: 1 extraneous bytes before marker 0xd9\n",
      "Training: 100%|██████████████████████████████████████████████████████████████████████████████████████████████████████████████████████████████████████████| 1836/1836 [04:48<00:00,  6.36it/s]\n"
     ]
    },
    {
     "name": "stdout",
     "output_type": "stream",
     "text": [
      "Total Loss  |Smoke Loss  |Fire Loss   \n",
      "------------ ------------ ------------\n",
      "34.963      |20.907      |14.056      \n",
      "\n"
     ]
    },
    {
     "name": "stderr",
     "output_type": "stream",
     "text": [
      "Validating: 100%|██████████████████████████████████████████████████████████████████████████████████████████████████████████████████████████████████████████| 380/380 [00:36<00:00, 10.45it/s]\n"
     ]
    },
    {
     "name": "stdout",
     "output_type": "stream",
     "text": [
      "Total Loss  |Smoke Loss  |Fire Loss   \n",
      "------------ ------------ ------------\n",
      "35.846      |22.331      |13.515      \n",
      "SMOKE -> Precision: 0.8316 - Recall: 0.7510 - Accuracy: 0.8109 - F1: 0.7893\n",
      "FIRE -> Precision: 0.8895 - Recall: 0.8431 - Accuracy: 0.9152 - F1: 0.8657\n",
      "\n",
      "Saving model with new best validation loss: 35.8458\n",
      "Model exported to ONNX: experiments_resnet/test_v03__w1a1__DEEP_Resnet__clip_convs_Linear4ReLU__400k_full_ds/onnx/BNN_BED_classifier__best_loss\n",
      "\n",
      "=== EPOCH 37/149 ===\n",
      "Learning Rate = 0.0002621440000000001\n",
      "\n"
     ]
    },
    {
     "name": "stderr",
     "output_type": "stream",
     "text": [
      "Training:   2%|██▊                                                                                                                                         | 37/1836 [00:08<06:03,  4.96it/s]Warning: unknown JFIF revision number 32.23\n",
      "Training:  14%|██████████████████▊                                                                                                                        | 249/1836 [00:41<03:40,  7.20it/s]Corrupt JPEG data: 1 extraneous bytes before marker 0xd9\n",
      "Training:  74%|█████████████████████████████████████████████████████████████████████████████████████████████████████▊                                    | 1355/1836 [03:36<01:25,  5.64it/s]Corrupt JPEG data: 1 extraneous bytes before marker 0xd9\n",
      "Training:  86%|██████████████████████████████████████████████████████████████████████████████████████████████████████████████████████▍                   | 1575/1836 [04:09<00:31,  8.21it/s]Corrupt JPEG data: 1 extraneous bytes before marker 0xd9\n",
      "Training:  86%|██████████████████████████████████████████████████████████████████████████████████████████████████████████████████████▊                   | 1580/1836 [04:10<00:33,  7.69it/s]Corrupt JPEG data: 1 extraneous bytes before marker 0xd9\n",
      "Training: 100%|██████████████████████████████████████████████████████████████████████████████████████████████████████████████████████████████████████████| 1836/1836 [04:50<00:00,  6.32it/s]\n"
     ]
    },
    {
     "name": "stdout",
     "output_type": "stream",
     "text": [
      "Total Loss  |Smoke Loss  |Fire Loss   \n",
      "------------ ------------ ------------\n",
      "34.938      |21.043      |13.895      \n",
      "\n"
     ]
    },
    {
     "name": "stderr",
     "output_type": "stream",
     "text": [
      "Validating: 100%|██████████████████████████████████████████████████████████████████████████████████████████████████████████████████████████████████████████| 380/380 [00:36<00:00, 10.41it/s]\n"
     ]
    },
    {
     "name": "stdout",
     "output_type": "stream",
     "text": [
      "Total Loss  |Smoke Loss  |Fire Loss   \n",
      "------------ ------------ ------------\n",
      "37.326      |22.608      |14.717      \n",
      "SMOKE -> Precision: 0.8784 - Recall: 0.6957 - Accuracy: 0.8111 - F1: 0.7764\n",
      "FIRE -> Precision: 0.8201 - Recall: 0.9174 - Accuracy: 0.9080 - F1: 0.8660\n",
      "\n",
      "=== EPOCH 38/149 ===\n",
      "Learning Rate = 0.0002621440000000001\n",
      "\n"
     ]
    },
    {
     "name": "stderr",
     "output_type": "stream",
     "text": [
      "Training:   2%|██▏                                                                                                                                         | 29/1836 [00:06<04:57,  6.07it/s]Corrupt JPEG data: 1 extraneous bytes before marker 0xd9\n",
      "Training:  39%|█████████████████████████████████████████████████████▉                                                                                     | 712/1836 [01:53<02:35,  7.24it/s]Corrupt JPEG data: 1 extraneous bytes before marker 0xd9\n",
      "Training:  53%|█████████████████████████████████████████████████████████████████████████                                                                  | 965/1836 [02:33<01:50,  7.86it/s]Corrupt JPEG data: 1 extraneous bytes before marker 0xd9\n",
      "Training:  71%|█████████████████████████████████████████████████████████████████████████████████████████████████▍                                        | 1297/1836 [03:25<01:22,  6.55it/s]Warning: unknown JFIF revision number 32.23\n",
      "Training:  96%|███████████████████████████████████████████████████████████████████████████████████████████████████████████████████████████████████▉      | 1756/1836 [04:36<00:10,  7.71it/s]Corrupt JPEG data: 1 extraneous bytes before marker 0xd9\n",
      "Training: 100%|██████████████████████████████████████████████████████████████████████████████████████████████████████████████████████████████████████████| 1836/1836 [04:48<00:00,  6.36it/s]\n"
     ]
    },
    {
     "name": "stdout",
     "output_type": "stream",
     "text": [
      "Total Loss  |Smoke Loss  |Fire Loss   \n",
      "------------ ------------ ------------\n",
      "35.057      |21.035      |14.021      \n",
      "\n"
     ]
    },
    {
     "name": "stderr",
     "output_type": "stream",
     "text": [
      "Validating: 100%|██████████████████████████████████████████████████████████████████████████████████████████████████████████████████████████████████████████| 380/380 [00:36<00:00, 10.47it/s]\n"
     ]
    },
    {
     "name": "stdout",
     "output_type": "stream",
     "text": [
      "Total Loss  |Smoke Loss  |Fire Loss   \n",
      "------------ ------------ ------------\n",
      "53.664      |30.137      |23.527      \n",
      "SMOKE -> Precision: 0.6838 - Recall: 0.8065 - Accuracy: 0.7330 - F1: 0.7401\n",
      "FIRE -> Precision: 0.7011 - Recall: 0.9276 - Accuracy: 0.8483 - F1: 0.7986\n",
      "\n",
      "=== EPOCH 39/149 ===\n",
      "Learning Rate = 0.0002621440000000001\n",
      "\n"
     ]
    },
    {
     "name": "stderr",
     "output_type": "stream",
     "text": [
      "Training:  43%|███████████████████████████████████████████████████████████▉                                                                               | 791/1836 [02:06<02:24,  7.21it/s]Corrupt JPEG data: 1 extraneous bytes before marker 0xd9\n",
      "Training:  51%|███████████████████████████████████████████████████████████████████████▏                                                                   | 940/1836 [02:30<02:39,  5.61it/s]Corrupt JPEG data: 1 extraneous bytes before marker 0xd9\n",
      "Training:  56%|█████████████████████████████████████████████████████████████████████████████▏                                                            | 1027/1836 [02:43<02:04,  6.48it/s]Corrupt JPEG data: 1 extraneous bytes before marker 0xd9\n",
      "Training:  62%|█████████████████████████████████████████████████████████████████████████████████████▍                                                    | 1137/1836 [03:00<01:32,  7.52it/s]Corrupt JPEG data: 1 extraneous bytes before marker 0xd9\n",
      "Training:  99%|████████████████████████████████████████████████████████████████████████████████████████████████████████████████████████████████████████  | 1811/1836 [04:45<00:03,  7.02it/s]Warning: unknown JFIF revision number 32.23\n",
      "Training: 100%|██████████████████████████████████████████████████████████████████████████████████████████████████████████████████████████████████████████| 1836/1836 [04:49<00:00,  6.35it/s]\n"
     ]
    },
    {
     "name": "stdout",
     "output_type": "stream",
     "text": [
      "Total Loss  |Smoke Loss  |Fire Loss   \n",
      "------------ ------------ ------------\n",
      "35.021      |21.044      |13.977      \n",
      "\n"
     ]
    },
    {
     "name": "stderr",
     "output_type": "stream",
     "text": [
      "Validating: 100%|██████████████████████████████████████████████████████████████████████████████████████████████████████████████████████████████████████████| 380/380 [00:36<00:00, 10.39it/s]\n"
     ]
    },
    {
     "name": "stdout",
     "output_type": "stream",
     "text": [
      "Total Loss  |Smoke Loss  |Fire Loss   \n",
      "------------ ------------ ------------\n",
      "39.369      |24.193      |15.176      \n",
      "SMOKE -> Precision: 0.7770 - Recall: 0.7819 - Accuracy: 0.7914 - F1: 0.7794\n",
      "FIRE -> Precision: 0.8672 - Recall: 0.8517 - Accuracy: 0.9097 - F1: 0.8594\n",
      "\n",
      "=== EPOCH 40/149 ===\n",
      "Learning Rate = 0.00020971520000000012\n",
      "\n"
     ]
    },
    {
     "name": "stderr",
     "output_type": "stream",
     "text": [
      "Training:  34%|███████████████████████████████████████████████▌                                                                                           | 629/1836 [01:40<03:49,  5.25it/s]Corrupt JPEG data: 1 extraneous bytes before marker 0xd9\n",
      "Training:  37%|███████████████████████████████████████████████████▌                                                                                       | 681/1836 [01:48<03:01,  6.37it/s]Corrupt JPEG data: 1 extraneous bytes before marker 0xd9\n",
      "Training:  48%|██████████████████████████████████████████████████████████████████▉                                                                        | 884/1836 [02:20<02:02,  7.77it/s]Corrupt JPEG data: 1 extraneous bytes before marker 0xd9\n",
      "Training:  49%|████████████████████████████████████████████████████████████████████▏                                                                      | 901/1836 [02:23<02:15,  6.90it/s]Warning: unknown JFIF revision number 32.23\n",
      "Training:  58%|███████████████████████████████████████████████████████████████████████████████▉                                                          | 1063/1836 [02:48<02:10,  5.94it/s]Corrupt JPEG data: 1 extraneous bytes before marker 0xd9\n",
      "Training: 100%|██████████████████████████████████████████████████████████████████████████████████████████████████████████████████████████████████████████| 1836/1836 [04:50<00:00,  6.32it/s]\n"
     ]
    },
    {
     "name": "stdout",
     "output_type": "stream",
     "text": [
      "Total Loss  |Smoke Loss  |Fire Loss   \n",
      "------------ ------------ ------------\n",
      "34.449      |20.747      |13.702      \n",
      "\n"
     ]
    },
    {
     "name": "stderr",
     "output_type": "stream",
     "text": [
      "Validating: 100%|██████████████████████████████████████████████████████████████████████████████████████████████████████████████████████████████████████████| 380/380 [00:36<00:00, 10.47it/s]\n"
     ]
    },
    {
     "name": "stdout",
     "output_type": "stream",
     "text": [
      "Total Loss  |Smoke Loss  |Fire Loss   \n",
      "------------ ------------ ------------\n",
      "32.866      |21.002      |11.864      \n",
      "SMOKE -> Precision: 0.8892 - Recall: 0.7075 - Accuracy: 0.8205 - F1: 0.7880\n",
      "FIRE -> Precision: 0.9037 - Recall: 0.8771 - Accuracy: 0.9299 - F1: 0.8902\n",
      "\n",
      "Saving model with new best validation loss: 32.8657\n",
      "Model exported to ONNX: experiments_resnet/test_v03__w1a1__DEEP_Resnet__clip_convs_Linear4ReLU__400k_full_ds/onnx/BNN_BED_classifier__best_loss\n",
      "Saving model with best Mean F1: 0.8391\n",
      "Model exported to ONNX: experiments_resnet/test_v03__w1a1__DEEP_Resnet__clip_convs_Linear4ReLU__400k_full_ds/onnx/BNN_BED_classifier__best_mean_F1\n",
      "\n",
      "=== EPOCH 41/149 ===\n",
      "Learning Rate = 0.00020971520000000012\n",
      "\n"
     ]
    },
    {
     "name": "stderr",
     "output_type": "stream",
     "text": [
      "Training:  23%|████████████████████████████████▌                                                                                                          | 430/1836 [01:08<03:12,  7.31it/s]Corrupt JPEG data: 1 extraneous bytes before marker 0xd9\n",
      "Training:  49%|███████████████████████████████████████████████████████████████████▍                                                                       | 891/1836 [02:20<02:02,  7.74it/s]Corrupt JPEG data: 1 extraneous bytes before marker 0xd9\n",
      "Training:  64%|████████████████████████████████████████████████████████████████████████████████████████▉                                                 | 1183/1836 [03:07<01:27,  7.48it/s]Warning: unknown JFIF revision number 32.23\n",
      "Training:  89%|███████████████████████████████████████████████████████████████████████████████████████████████████████████████████████████▎              | 1641/1836 [04:19<00:26,  7.38it/s]Corrupt JPEG data: 1 extraneous bytes before marker 0xd9\n",
      "Training:  93%|████████████████████████████████████████████████████████████████████████████████████████████████████████████████████████████████▋         | 1712/1836 [04:30<00:17,  7.29it/s]Corrupt JPEG data: 1 extraneous bytes before marker 0xd9\n",
      "Training: 100%|██████████████████████████████████████████████████████████████████████████████████████████████████████████████████████████████████████████| 1836/1836 [04:49<00:00,  6.34it/s]\n"
     ]
    },
    {
     "name": "stdout",
     "output_type": "stream",
     "text": [
      "Total Loss  |Smoke Loss  |Fire Loss   \n",
      "------------ ------------ ------------\n",
      "34.906      |20.963      |13.944      \n",
      "\n"
     ]
    },
    {
     "name": "stderr",
     "output_type": "stream",
     "text": [
      "Validating: 100%|██████████████████████████████████████████████████████████████████████████████████████████████████████████████████████████████████████████| 380/380 [00:36<00:00, 10.40it/s]\n"
     ]
    },
    {
     "name": "stdout",
     "output_type": "stream",
     "text": [
      "Total Loss  |Smoke Loss  |Fire Loss   \n",
      "------------ ------------ ------------\n",
      "42.829      |27.211      |15.618      \n",
      "SMOKE -> Precision: 0.7237 - Recall: 0.8235 - Accuracy: 0.7686 - F1: 0.7704\n",
      "FIRE -> Precision: 0.9127 - Recall: 0.7728 - Accuracy: 0.9024 - F1: 0.8370\n",
      "\n",
      "=== EPOCH 42/149 ===\n",
      "Learning Rate = 0.00020971520000000012\n",
      "\n"
     ]
    },
    {
     "name": "stderr",
     "output_type": "stream",
     "text": [
      "Training:  17%|████████████████████████                                                                                                                   | 318/1836 [00:51<04:55,  5.14it/s]Warning: unknown JFIF revision number 32.23\n",
      "Training:  20%|████████████████████████████▍                                                                                                              | 376/1836 [01:00<04:01,  6.04it/s]Corrupt JPEG data: 1 extraneous bytes before marker 0xd9\n",
      "Training:  69%|███████████████████████████████████████████████████████████████████████████████████████████████                                           | 1265/1836 [03:18<01:17,  7.36it/s]Corrupt JPEG data: 1 extraneous bytes before marker 0xd9\n",
      "Training:  94%|█████████████████████████████████████████████████████████████████████████████████████████████████████████████████████████████████▉        | 1729/1836 [04:30<00:14,  7.63it/s]Corrupt JPEG data: 1 extraneous bytes before marker 0xd9\n",
      "Training:  95%|███████████████████████████████████████████████████████████████████████████████████████████████████████████████████████████████████▏      | 1745/1836 [04:33<00:12,  7.26it/s]Corrupt JPEG data: 1 extraneous bytes before marker 0xd9\n",
      "Training: 100%|██████████████████████████████████████████████████████████████████████████████████████████████████████████████████████████████████████████| 1836/1836 [04:47<00:00,  6.38it/s]\n"
     ]
    },
    {
     "name": "stdout",
     "output_type": "stream",
     "text": [
      "Total Loss  |Smoke Loss  |Fire Loss   \n",
      "------------ ------------ ------------\n",
      "34.912      |21.028      |13.884      \n",
      "\n"
     ]
    },
    {
     "name": "stderr",
     "output_type": "stream",
     "text": [
      "Validating: 100%|██████████████████████████████████████████████████████████████████████████████████████████████████████████████████████████████████████████| 380/380 [00:36<00:00, 10.46it/s]\n"
     ]
    },
    {
     "name": "stdout",
     "output_type": "stream",
     "text": [
      "Total Loss  |Smoke Loss  |Fire Loss   \n",
      "------------ ------------ ------------\n",
      "39.518      |22.598      |16.920      \n",
      "SMOKE -> Precision: 0.8524 - Recall: 0.7144 - Accuracy: 0.8071 - F1: 0.7774\n",
      "FIRE -> Precision: 0.7951 - Recall: 0.9049 - Accuracy: 0.8936 - F1: 0.8465\n",
      "\n",
      "=== EPOCH 43/149 ===\n",
      "Learning Rate = 0.00020971520000000012\n",
      "\n"
     ]
    },
    {
     "name": "stderr",
     "output_type": "stream",
     "text": [
      "Training:  10%|██████████████▍                                                                                                                            | 191/1836 [00:31<03:32,  7.75it/s]Corrupt JPEG data: 1 extraneous bytes before marker 0xd9\n",
      "Training:  48%|██████████████████████████████████████████████████████████████████▏                                                                        | 874/1836 [02:18<02:50,  5.66it/s]Corrupt JPEG data: 1 extraneous bytes before marker 0xd9\n",
      "Training:  49%|███████████████████████████████████████████████████████████████████▊                                                                       | 895/1836 [02:22<02:36,  6.03it/s]Corrupt JPEG data: 1 extraneous bytes before marker 0xd9\n",
      "Training:  52%|████████████████████████████████████████████████████████████████████████▍                                                                  | 956/1836 [02:31<02:05,  7.00it/s]Corrupt JPEG data: 1 extraneous bytes before marker 0xd9\n",
      "Training:  99%|████████████████████████████████████████████████████████████████████████████████████████████████████████████████████████████████████████▎ | 1813/1836 [04:45<00:06,  3.29it/s]Warning: unknown JFIF revision number 32.23\n",
      "Training: 100%|██████████████████████████████████████████████████████████████████████████████████████████████████████████████████████████████████████████| 1836/1836 [04:48<00:00,  6.36it/s]\n"
     ]
    },
    {
     "name": "stdout",
     "output_type": "stream",
     "text": [
      "Total Loss  |Smoke Loss  |Fire Loss   \n",
      "------------ ------------ ------------\n",
      "34.681      |20.880      |13.801      \n",
      "\n"
     ]
    },
    {
     "name": "stderr",
     "output_type": "stream",
     "text": [
      "Validating: 100%|██████████████████████████████████████████████████████████████████████████████████████████████████████████████████████████████████████████| 380/380 [00:36<00:00, 10.47it/s]\n"
     ]
    },
    {
     "name": "stdout",
     "output_type": "stream",
     "text": [
      "Total Loss  |Smoke Loss  |Fire Loss   \n",
      "------------ ------------ ------------\n",
      "74.738      |53.991      |20.747      \n",
      "SMOKE -> Precision: 0.9135 - Recall: 0.0543 - Accuracy: 0.5518 - F1: 0.1026\n",
      "FIRE -> Precision: 0.8454 - Recall: 0.6865 - Accuracy: 0.8576 - F1: 0.7577\n",
      "\n",
      "=== EPOCH 44/149 ===\n",
      "Learning Rate = 0.0001677721600000001\n",
      "\n"
     ]
    },
    {
     "name": "stderr",
     "output_type": "stream",
     "text": [
      "Training:   1%|█▎                                                                                                                                          | 17/1836 [00:04<05:09,  5.87it/s]Corrupt JPEG data: 1 extraneous bytes before marker 0xd9\n",
      "Training:   1%|█▊                                                                                                                                          | 24/1836 [00:05<03:49,  7.88it/s]Warning: unknown JFIF revision number 32.23\n",
      "Training:  10%|█████████████▌                                                                                                                             | 179/1836 [00:30<03:35,  7.67it/s]Corrupt JPEG data: 1 extraneous bytes before marker 0xd9\n",
      "Training:  11%|███████████████▎                                                                                                                           | 202/1836 [00:34<03:33,  7.65it/s]Corrupt JPEG data: 1 extraneous bytes before marker 0xd9\n",
      "Training:  49%|████████████████████████████████████████████████████████████████████▏                                                                      | 901/1836 [02:23<03:19,  4.68it/s]Corrupt JPEG data: 1 extraneous bytes before marker 0xd9\n",
      "Training: 100%|██████████████████████████████████████████████████████████████████████████████████████████████████████████████████████████████████████████| 1836/1836 [04:49<00:00,  6.34it/s]\n"
     ]
    },
    {
     "name": "stdout",
     "output_type": "stream",
     "text": [
      "Total Loss  |Smoke Loss  |Fire Loss   \n",
      "------------ ------------ ------------\n",
      "34.273      |20.655      |13.619      \n",
      "\n"
     ]
    },
    {
     "name": "stderr",
     "output_type": "stream",
     "text": [
      "Validating: 100%|██████████████████████████████████████████████████████████████████████████████████████████████████████████████████████████████████████████| 380/380 [00:36<00:00, 10.46it/s]\n"
     ]
    },
    {
     "name": "stdout",
     "output_type": "stream",
     "text": [
      "Total Loss  |Smoke Loss  |Fire Loss   \n",
      "------------ ------------ ------------\n",
      "44.084      |26.816      |17.268      \n",
      "SMOKE -> Precision: 0.7325 - Recall: 0.7948 - Accuracy: 0.7664 - F1: 0.7624\n",
      "FIRE -> Precision: 0.7767 - Recall: 0.9176 - Accuracy: 0.8877 - F1: 0.8413\n",
      "\n",
      "=== EPOCH 45/149 ===\n",
      "Learning Rate = 0.0001677721600000001\n",
      "\n"
     ]
    },
    {
     "name": "stderr",
     "output_type": "stream",
     "text": [
      "Training:   1%|█▏                                                                                                                                          | 16/1836 [00:03<04:29,  6.74it/s]Corrupt JPEG data: 1 extraneous bytes before marker 0xd9\n",
      "Training:   1%|█▋                                                                                                                                          | 22/1836 [00:05<04:47,  6.31it/s]Warning: unknown JFIF revision number 32.23\n",
      "Training:   8%|███████████▋                                                                                                                               | 154/1836 [00:25<04:58,  5.63it/s]Corrupt JPEG data: 1 extraneous bytes before marker 0xd9\n",
      "Training:  13%|█████████████████▊                                                                                                                         | 236/1836 [00:37<03:37,  7.37it/s]Corrupt JPEG data: 1 extraneous bytes before marker 0xd9\n",
      "Training:  53%|██████████████████████████████████████████████████████████████████████████▎                                                                | 982/1836 [02:35<01:53,  7.54it/s]Corrupt JPEG data: 1 extraneous bytes before marker 0xd9\n",
      "Training: 100%|██████████████████████████████████████████████████████████████████████████████████████████████████████████████████████████████████████████| 1836/1836 [04:48<00:00,  6.37it/s]\n"
     ]
    },
    {
     "name": "stdout",
     "output_type": "stream",
     "text": [
      "Total Loss  |Smoke Loss  |Fire Loss   \n",
      "------------ ------------ ------------\n",
      "34.363      |20.586      |13.777      \n",
      "\n"
     ]
    },
    {
     "name": "stderr",
     "output_type": "stream",
     "text": [
      "Validating: 100%|██████████████████████████████████████████████████████████████████████████████████████████████████████████████████████████████████████████| 380/380 [00:36<00:00, 10.45it/s]\n"
     ]
    },
    {
     "name": "stdout",
     "output_type": "stream",
     "text": [
      "Total Loss  |Smoke Loss  |Fire Loss   \n",
      "------------ ------------ ------------\n",
      "55.807      |39.327      |16.480      \n",
      "SMOKE -> Precision: 0.6473 - Recall: 0.9410 - Accuracy: 0.7304 - F1: 0.7670\n",
      "FIRE -> Precision: 0.8232 - Recall: 0.8862 - Accuracy: 0.9014 - F1: 0.8535\n",
      "\n",
      "=== EPOCH 46/149 ===\n",
      "Learning Rate = 0.0001677721600000001\n",
      "\n"
     ]
    },
    {
     "name": "stderr",
     "output_type": "stream",
     "text": [
      "Training:  12%|████████████████▊                                                                                                                          | 222/1836 [00:36<03:30,  7.67it/s]Corrupt JPEG data: 1 extraneous bytes before marker 0xd9\n",
      "Training:  28%|███████████████████████████████████████▎                                                                                                   | 519/1836 [01:22<02:47,  7.85it/s]Corrupt JPEG data: 1 extraneous bytes before marker 0xd9\n",
      "Training:  77%|█████████████████████████████████████████████████████████████████████████████████████████████████████████▊                                | 1407/1836 [03:40<00:57,  7.45it/s]Corrupt JPEG data: 1 extraneous bytes before marker 0xd9\n",
      "Training:  78%|███████████████████████████████████████████████████████████████████████████████████████████████████████████                               | 1425/1836 [03:43<01:50,  3.72it/s]Warning: unknown JFIF revision number 32.23\n",
      "Training:  83%|███████████████████████████████████████████████████████████████████████████████████████████████████████████████████                       | 1531/1836 [03:59<00:44,  6.79it/s]Corrupt JPEG data: 1 extraneous bytes before marker 0xd9\n",
      "Training: 100%|██████████████████████████████████████████████████████████████████████████████████████████████████████████████████████████████████████████| 1836/1836 [04:46<00:00,  6.40it/s]\n"
     ]
    },
    {
     "name": "stdout",
     "output_type": "stream",
     "text": [
      "Total Loss  |Smoke Loss  |Fire Loss   \n",
      "------------ ------------ ------------\n",
      "34.414      |20.706      |13.709      \n",
      "\n"
     ]
    },
    {
     "name": "stderr",
     "output_type": "stream",
     "text": [
      "Validating: 100%|██████████████████████████████████████████████████████████████████████████████████████████████████████████████████████████████████████████| 380/380 [00:36<00:00, 10.48it/s]\n"
     ]
    },
    {
     "name": "stdout",
     "output_type": "stream",
     "text": [
      "Total Loss  |Smoke Loss  |Fire Loss   \n",
      "------------ ------------ ------------\n",
      "34.747      |22.457      |12.290      \n",
      "SMOKE -> Precision: 0.8808 - Recall: 0.6740 - Accuracy: 0.8033 - F1: 0.7636\n",
      "FIRE -> Precision: 0.8876 - Recall: 0.8872 - Accuracy: 0.9270 - F1: 0.8874\n",
      "\n",
      "=== EPOCH 47/149 ===\n",
      "Learning Rate = 0.00013421772800000008\n",
      "\n"
     ]
    },
    {
     "name": "stderr",
     "output_type": "stream",
     "text": [
      "Training:   9%|████████████▎                                                                                                                              | 162/1836 [00:27<03:40,  7.58it/s]Corrupt JPEG data: 1 extraneous bytes before marker 0xd9\n",
      "Training:  25%|██████████████████████████████████                                                                                                         | 450/1836 [01:11<03:56,  5.87it/s]Corrupt JPEG data: 1 extraneous bytes before marker 0xd9\n",
      "Training:  28%|███████████████████████████████████████▏                                                                                                   | 517/1836 [01:21<04:01,  5.46it/s]Corrupt JPEG data: 1 extraneous bytes before marker 0xd9\n",
      "Training:  34%|███████████████████████████████████████████████▋                                                                                           | 630/1836 [01:38<02:29,  8.05it/s]Warning: unknown JFIF revision number 32.23\n",
      "Training:  50%|█████████████████████████████████████████████████████████████████████                                                                      | 913/1836 [02:23<02:19,  6.59it/s]Corrupt JPEG data: 1 extraneous bytes before marker 0xd9\n",
      "Training: 100%|██████████████████████████████████████████████████████████████████████████████████████████████████████████████████████████████████████████| 1836/1836 [04:47<00:00,  6.38it/s]\n"
     ]
    },
    {
     "name": "stdout",
     "output_type": "stream",
     "text": [
      "Total Loss  |Smoke Loss  |Fire Loss   \n",
      "------------ ------------ ------------\n",
      "33.915      |20.438      |13.476      \n",
      "\n"
     ]
    },
    {
     "name": "stderr",
     "output_type": "stream",
     "text": [
      "Validating: 100%|██████████████████████████████████████████████████████████████████████████████████████████████████████████████████████████████████████████| 380/380 [00:36<00:00, 10.41it/s]\n"
     ]
    },
    {
     "name": "stdout",
     "output_type": "stream",
     "text": [
      "Total Loss  |Smoke Loss  |Fire Loss   \n",
      "------------ ------------ ------------\n",
      "40.623      |23.371      |17.252      \n",
      "SMOKE -> Precision: 0.8138 - Recall: 0.7508 - Accuracy: 0.8016 - F1: 0.7811\n",
      "FIRE -> Precision: 0.8969 - Recall: 0.7373 - Accuracy: 0.8874 - F1: 0.8093\n",
      "\n",
      "=== EPOCH 48/149 ===\n",
      "Learning Rate = 0.00013421772800000008\n",
      "\n"
     ]
    },
    {
     "name": "stderr",
     "output_type": "stream",
     "text": [
      "Training:  17%|███████████████████████▌                                                                                                                   | 312/1836 [00:50<03:34,  7.10it/s]Corrupt JPEG data: 1 extraneous bytes before marker 0xd9\n",
      "Training:  36%|██████████████████████████████████████████████████▍                                                                                        | 667/1836 [01:46<05:09,  3.78it/s]Corrupt JPEG data: 1 extraneous bytes before marker 0xd9\n",
      "Training:  63%|██████████████████████████████████████████████████████████████████████████████████████▍                                                   | 1150/1836 [03:01<01:31,  7.49it/s]Warning: unknown JFIF revision number 32.23\n",
      "Training:  66%|███████████████████████████████████████████████████████████████████████████████████████████                                               | 1211/1836 [03:10<01:30,  6.89it/s]Corrupt JPEG data: 1 extraneous bytes before marker 0xd9\n",
      "Training:  91%|████████████████████████████████████████████████████████████████████████████████████████████████████████████████████████████▉             | 1662/1836 [04:20<00:30,  5.62it/s]Corrupt JPEG data: 1 extraneous bytes before marker 0xd9\n",
      "Training: 100%|██████████████████████████████████████████████████████████████████████████████████████████████████████████████████████████████████████████| 1836/1836 [04:47<00:00,  6.39it/s]\n"
     ]
    },
    {
     "name": "stdout",
     "output_type": "stream",
     "text": [
      "Total Loss  |Smoke Loss  |Fire Loss   \n",
      "------------ ------------ ------------\n",
      "33.908      |20.486      |13.422      \n",
      "\n"
     ]
    },
    {
     "name": "stderr",
     "output_type": "stream",
     "text": [
      "Validating: 100%|██████████████████████████████████████████████████████████████████████████████████████████████████████████████████████████████████████████| 380/380 [00:36<00:00, 10.47it/s]\n"
     ]
    },
    {
     "name": "stdout",
     "output_type": "stream",
     "text": [
      "Total Loss  |Smoke Loss  |Fire Loss   \n",
      "------------ ------------ ------------\n",
      "59.483      |30.582      |28.900      \n",
      "SMOKE -> Precision: 0.7097 - Recall: 0.6816 - Accuracy: 0.7185 - F1: 0.6954\n",
      "FIRE -> Precision: 0.5905 - Recall: 0.8758 - Accuracy: 0.7629 - F1: 0.7054\n",
      "\n",
      "=== EPOCH 49/149 ===\n",
      "Learning Rate = 0.00013421772800000008\n",
      "\n"
     ]
    },
    {
     "name": "stderr",
     "output_type": "stream",
     "text": [
      "Training:  45%|██████████████████████████████████████████████████████████████                                                                             | 819/1836 [02:09<02:21,  7.18it/s]Corrupt JPEG data: 1 extraneous bytes before marker 0xd9\n",
      "Training:  55%|████████████████████████████████████████████████████████████████████████████▌                                                             | 1018/1836 [02:41<01:54,  7.17it/s]Corrupt JPEG data: 1 extraneous bytes before marker 0xd9\n",
      "Training:  77%|██████████████████████████████████████████████████████████████████████████████████████████████████████████▌                               | 1418/1836 [03:43<00:55,  7.50it/s]Warning: unknown JFIF revision number 32.23\n",
      "Training:  79%|█████████████████████████████████████████████████████████████████████████████████████████████████████████████▎                            | 1454/1836 [03:49<00:50,  7.56it/s]Corrupt JPEG data: 1 extraneous bytes before marker 0xd9\n",
      "Training:  92%|███████████████████████████████████████████████████████████████████████████████████████████████████████████████████████████████▌          | 1697/1836 [04:26<00:17,  8.00it/s]Corrupt JPEG data: 1 extraneous bytes before marker 0xd9\n",
      "Training: 100%|██████████████████████████████████████████████████████████████████████████████████████████████████████████████████████████████████████████| 1836/1836 [04:48<00:00,  6.36it/s]\n"
     ]
    },
    {
     "name": "stdout",
     "output_type": "stream",
     "text": [
      "Total Loss  |Smoke Loss  |Fire Loss   \n",
      "------------ ------------ ------------\n",
      "33.988      |20.448      |13.539      \n",
      "\n"
     ]
    },
    {
     "name": "stderr",
     "output_type": "stream",
     "text": [
      "Validating: 100%|██████████████████████████████████████████████████████████████████████████████████████████████████████████████████████████████████████████| 380/380 [00:36<00:00, 10.45it/s]\n"
     ]
    },
    {
     "name": "stdout",
     "output_type": "stream",
     "text": [
      "Total Loss  |Smoke Loss  |Fire Loss   \n",
      "------------ ------------ ------------\n",
      "35.865      |21.007      |14.858      \n",
      "SMOKE -> Precision: 0.8867 - Recall: 0.7257 - Accuracy: 0.8270 - F1: 0.7982\n",
      "FIRE -> Precision: 0.8477 - Recall: 0.8558 - Accuracy: 0.9034 - F1: 0.8517\n",
      "\n",
      "=== EPOCH 50/149 ===\n",
      "Learning Rate = 0.00010737418240000007\n",
      "\n"
     ]
    },
    {
     "name": "stderr",
     "output_type": "stream",
     "text": [
      "Training:  23%|███████████████████████████████▍                                                                                                           | 416/1836 [01:06<03:03,  7.75it/s]Corrupt JPEG data: 1 extraneous bytes before marker 0xd9\n",
      "Training:  56%|████████████████████████████████████████████████████████████████████████████▋                                                             | 1021/1836 [02:42<01:48,  7.54it/s]Warning: unknown JFIF revision number 32.23\n",
      "Training:  67%|█████████████████████████████████████████████████████████████████████████████████████████████                                             | 1238/1836 [03:16<01:29,  6.66it/s]Corrupt JPEG data: 1 extraneous bytes before marker 0xd9\n",
      "Training:  80%|██████████████████████████████████████████████████████████████████████████████████████████████████████████████▊                           | 1474/1836 [03:53<00:47,  7.64it/s]Corrupt JPEG data: 1 extraneous bytes before marker 0xd9\n",
      "Training:  92%|██████████████████████████████████████████████████████████████████████████████████████████████████████████████████████████████▋           | 1685/1836 [04:26<00:32,  4.62it/s]Corrupt JPEG data: 1 extraneous bytes before marker 0xd9\n",
      "Training: 100%|██████████████████████████████████████████████████████████████████████████████████████████████████████████████████████████████████████████| 1836/1836 [04:49<00:00,  6.35it/s]\n"
     ]
    },
    {
     "name": "stdout",
     "output_type": "stream",
     "text": [
      "Total Loss  |Smoke Loss  |Fire Loss   \n",
      "------------ ------------ ------------\n",
      "33.340      |20.201      |13.139      \n",
      "\n"
     ]
    },
    {
     "name": "stderr",
     "output_type": "stream",
     "text": [
      "Validating: 100%|██████████████████████████████████████████████████████████████████████████████████████████████████████████████████████████████████████████| 380/380 [00:36<00:00, 10.46it/s]\n"
     ]
    },
    {
     "name": "stdout",
     "output_type": "stream",
     "text": [
      "Total Loss  |Smoke Loss  |Fire Loss   \n",
      "------------ ------------ ------------\n",
      "32.616      |19.966      |12.650      \n",
      "SMOKE -> Precision: 0.8705 - Recall: 0.7927 - Accuracy: 0.8467 - F1: 0.8298\n",
      "FIRE -> Precision: 0.9220 - Recall: 0.8354 - Accuracy: 0.9237 - F1: 0.8766\n",
      "\n",
      "Saving model with new best validation loss: 32.6162\n",
      "Model exported to ONNX: experiments_resnet/test_v03__w1a1__DEEP_Resnet__clip_convs_Linear4ReLU__400k_full_ds/onnx/BNN_BED_classifier__best_loss\n",
      "Saving model with best Mean F1: 0.8532\n",
      "Model exported to ONNX: experiments_resnet/test_v03__w1a1__DEEP_Resnet__clip_convs_Linear4ReLU__400k_full_ds/onnx/BNN_BED_classifier__best_mean_F1\n",
      "\n",
      "=== EPOCH 51/149 ===\n",
      "Learning Rate = 0.00010737418240000007\n",
      "\n"
     ]
    },
    {
     "name": "stderr",
     "output_type": "stream",
     "text": [
      "Training:  24%|████████████████████████████████▋                                                                                                          | 432/1836 [01:09<03:31,  6.62it/s]Corrupt JPEG data: 1 extraneous bytes before marker 0xd9\n",
      "Training:  33%|█████████████████████████████████████████████▌                                                                                             | 601/1836 [01:36<04:50,  4.25it/s]Corrupt JPEG data: 1 extraneous bytes before marker 0xd9\n",
      "Training:  53%|█████████████████████████████████████████████████████████████████████████                                                                  | 965/1836 [02:32<02:21,  6.17it/s]Warning: unknown JFIF revision number 32.23\n",
      "Training:  77%|██████████████████████████████████████████████████████████████████████████████████████████████████████████▋                               | 1419/1836 [03:42<00:52,  7.92it/s]Corrupt JPEG data: 1 extraneous bytes before marker 0xd9\n",
      "Training:  83%|██████████████████████████████████████████████████████████████████████████████████████████████████████████████████▍                       | 1522/1836 [03:58<00:44,  7.07it/s]Corrupt JPEG data: 1 extraneous bytes before marker 0xd9\n",
      "Training: 100%|██████████████████████████████████████████████████████████████████████████████████████████████████████████████████████████████████████████| 1836/1836 [04:47<00:00,  6.39it/s]\n"
     ]
    },
    {
     "name": "stdout",
     "output_type": "stream",
     "text": [
      "Total Loss  |Smoke Loss  |Fire Loss   \n",
      "------------ ------------ ------------\n",
      "33.630      |20.235      |13.395      \n",
      "\n"
     ]
    },
    {
     "name": "stderr",
     "output_type": "stream",
     "text": [
      "Validating: 100%|██████████████████████████████████████████████████████████████████████████████████████████████████████████████████████████████████████████| 380/380 [00:36<00:00, 10.40it/s]\n"
     ]
    },
    {
     "name": "stdout",
     "output_type": "stream",
     "text": [
      "Total Loss  |Smoke Loss  |Fire Loss   \n",
      "------------ ------------ ------------\n",
      "35.895      |21.711      |14.184      \n",
      "SMOKE -> Precision: 0.8865 - Recall: 0.7154 - Accuracy: 0.8227 - F1: 0.7918\n",
      "FIRE -> Precision: 0.8231 - Recall: 0.9291 - Accuracy: 0.9123 - F1: 0.8729\n",
      "\n",
      "=== EPOCH 52/149 ===\n",
      "Learning Rate = 0.00010737418240000007\n",
      "\n"
     ]
    },
    {
     "name": "stderr",
     "output_type": "stream",
     "text": [
      "Training:   7%|█████████▌                                                                                                                                 | 126/1836 [00:21<04:50,  5.89it/s]Corrupt JPEG data: 1 extraneous bytes before marker 0xd9\n",
      "Training:  12%|█████████████████                                                                                                                          | 226/1836 [00:37<03:24,  7.89it/s]Corrupt JPEG data: 1 extraneous bytes before marker 0xd9\n",
      "Training:  13%|██████████████████▌                                                                                                                        | 245/1836 [00:40<05:11,  5.10it/s]Corrupt JPEG data: 1 extraneous bytes before marker 0xd9\n",
      "Training:  17%|███████████████████████▊                                                                                                                   | 314/1836 [00:50<03:44,  6.79it/s]Corrupt JPEG data: 1 extraneous bytes before marker 0xd9\n",
      "Training:  39%|██████████████████████████████████████████████████████▎                                                                                    | 717/1836 [01:53<02:20,  7.97it/s]Warning: unknown JFIF revision number 32.23\n",
      "Training: 100%|██████████████████████████████████████████████████████████████████████████████████████████████████████████████████████████████████████████| 1836/1836 [04:45<00:00,  6.42it/s]\n"
     ]
    },
    {
     "name": "stdout",
     "output_type": "stream",
     "text": [
      "Total Loss  |Smoke Loss  |Fire Loss   \n",
      "------------ ------------ ------------\n",
      "33.232      |20.159      |13.073      \n",
      "\n"
     ]
    },
    {
     "name": "stderr",
     "output_type": "stream",
     "text": [
      "Validating: 100%|██████████████████████████████████████████████████████████████████████████████████████████████████████████████████████████████████████████| 380/380 [00:36<00:00, 10.46it/s]\n"
     ]
    },
    {
     "name": "stdout",
     "output_type": "stream",
     "text": [
      "Total Loss  |Smoke Loss  |Fire Loss   \n",
      "------------ ------------ ------------\n",
      "41.574      |23.278      |18.296      \n",
      "SMOKE -> Precision: 0.9322 - Recall: 0.6203 - Accuracy: 0.7998 - F1: 0.7449\n",
      "FIRE -> Precision: 0.9200 - Recall: 0.7131 - Accuracy: 0.8869 - F1: 0.8034\n",
      "\n",
      "=== EPOCH 53/149 ===\n",
      "Learning Rate = 0.00010737418240000007\n",
      "\n"
     ]
    },
    {
     "name": "stderr",
     "output_type": "stream",
     "text": [
      "Training:  44%|█████████████████████████████████████████████████████████████▍                                                                             | 812/1836 [02:08<02:11,  7.79it/s]Corrupt JPEG data: 1 extraneous bytes before marker 0xd9\n",
      "Training:  63%|██████████████████████████████████████████████████████████████████████████████████████▍                                                   | 1150/1836 [02:59<01:31,  7.52it/s]Corrupt JPEG data: 1 extraneous bytes before marker 0xd9\n",
      "Training:  75%|███████████████████████████████████████████████████████████████████████████████████████████████████████▎                                  | 1375/1836 [03:35<01:44,  4.40it/s]Corrupt JPEG data: 1 extraneous bytes before marker 0xd9\n",
      "Training:  95%|██████████████████████████████████████████████████████████████████████████████████████████████████████████████████████████████████▊       | 1740/1836 [04:30<00:12,  7.80it/s]Warning: unknown JFIF revision number 32.23\n",
      "Training:  95%|███████████████████████████████████████████████████████████████████████████████████████████████████████████████████████████████████▍      | 1749/1836 [04:32<00:18,  4.69it/s]Corrupt JPEG data: 1 extraneous bytes before marker 0xd9\n",
      "Training: 100%|██████████████████████████████████████████████████████████████████████████████████████████████████████████████████████████████████████████| 1836/1836 [04:45<00:00,  6.43it/s]\n"
     ]
    },
    {
     "name": "stdout",
     "output_type": "stream",
     "text": [
      "Total Loss  |Smoke Loss  |Fire Loss   \n",
      "------------ ------------ ------------\n",
      "33.533      |20.328      |13.205      \n",
      "\n"
     ]
    },
    {
     "name": "stderr",
     "output_type": "stream",
     "text": [
      "Validating: 100%|██████████████████████████████████████████████████████████████████████████████████████████████████████████████████████████████████████████| 380/380 [00:36<00:00, 10.43it/s]\n"
     ]
    },
    {
     "name": "stdout",
     "output_type": "stream",
     "text": [
      "Total Loss  |Smoke Loss  |Fire Loss   \n",
      "------------ ------------ ------------\n",
      "34.643      |21.723      |12.920      \n",
      "SMOKE -> Precision: 0.8706 - Recall: 0.7247 - Accuracy: 0.8194 - F1: 0.7910\n",
      "FIRE -> Precision: 0.8691 - Recall: 0.9044 - Accuracy: 0.9248 - F1: 0.8864\n",
      "\n",
      "=== EPOCH 54/149 ===\n",
      "Learning Rate = 8.589934592000007e-05\n",
      "\n"
     ]
    },
    {
     "name": "stderr",
     "output_type": "stream",
     "text": [
      "Training:  17%|███████████████████████                                                                                                                    | 304/1836 [00:49<03:16,  7.79it/s]Warning: unknown JFIF revision number 32.23\n",
      "Training:  23%|████████████████████████████████▍                                                                                                          | 428/1836 [01:09<03:51,  6.08it/s]Corrupt JPEG data: 1 extraneous bytes before marker 0xd9\n",
      "Training:  47%|████████████████████████████████████████████████████████████████▋                                                                          | 854/1836 [02:16<02:26,  6.70it/s]Corrupt JPEG data: 1 extraneous bytes before marker 0xd9\n",
      "Training:  57%|███████████████████████████████████████████████████████████████████████████████▎                                                          | 1055/1836 [02:46<01:38,  7.95it/s]Corrupt JPEG data: 1 extraneous bytes before marker 0xd9\n",
      "Training:  85%|████████████████████████████████████████████████████████████████████████████████████████████████████████████████████▉                     | 1555/1836 [04:03<00:46,  6.09it/s]Corrupt JPEG data: 1 extraneous bytes before marker 0xd9\n",
      "Training: 100%|██████████████████████████████████████████████████████████████████████████████████████████████████████████████████████████████████████████| 1836/1836 [04:46<00:00,  6.41it/s]\n"
     ]
    },
    {
     "name": "stdout",
     "output_type": "stream",
     "text": [
      "Total Loss  |Smoke Loss  |Fire Loss   \n",
      "------------ ------------ ------------\n",
      "32.926      |19.918      |13.008      \n",
      "\n"
     ]
    },
    {
     "name": "stderr",
     "output_type": "stream",
     "text": [
      "Validating: 100%|██████████████████████████████████████████████████████████████████████████████████████████████████████████████████████████████████████████| 380/380 [00:36<00:00, 10.49it/s]\n"
     ]
    },
    {
     "name": "stdout",
     "output_type": "stream",
     "text": [
      "Total Loss  |Smoke Loss  |Fire Loss   \n",
      "------------ ------------ ------------\n",
      "214.722     |30.458      |184.264     \n",
      "SMOKE -> Precision: 0.7475 - Recall: 0.7528 - Accuracy: 0.7636 - F1: 0.7501\n",
      "FIRE -> Precision: 1.0000 - Recall: 0.0011 - Accuracy: 0.6762 - F1: 0.0023\n",
      "\n",
      "=== EPOCH 55/149 ===\n",
      "Learning Rate = 8.589934592000007e-05\n",
      "\n"
     ]
    },
    {
     "name": "stderr",
     "output_type": "stream",
     "text": [
      "Training:   3%|███▉                                                                                                                                        | 51/1836 [00:09<03:55,  7.59it/s]Warning: unknown JFIF revision number 32.23\n",
      "Training:  22%|██████████████████████████████▋                                                                                                            | 405/1836 [01:04<04:40,  5.10it/s]Corrupt JPEG data: 1 extraneous bytes before marker 0xd9\n",
      "Training:  50%|████████████████████████████████████████████████████████████████████▉                                                                      | 911/1836 [02:23<01:59,  7.73it/s]Corrupt JPEG data: 1 extraneous bytes before marker 0xd9\n",
      "Training:  70%|████████████████████████████████████████████████████████████████████████████████████████████████▏                                         | 1280/1836 [03:20<01:50,  5.04it/s]Corrupt JPEG data: 1 extraneous bytes before marker 0xd9\n",
      "Training:  75%|███████████████████████████████████████████████████████████████████████████████████████████████████████▉                                  | 1383/1836 [03:36<00:56,  7.98it/s]Corrupt JPEG data: 1 extraneous bytes before marker 0xd9\n",
      "Training: 100%|██████████████████████████████████████████████████████████████████████████████████████████████████████████████████████████████████████████| 1836/1836 [04:45<00:00,  6.43it/s]\n"
     ]
    },
    {
     "name": "stdout",
     "output_type": "stream",
     "text": [
      "Total Loss  |Smoke Loss  |Fire Loss   \n",
      "------------ ------------ ------------\n",
      "33.096      |20.076      |13.021      \n",
      "\n"
     ]
    },
    {
     "name": "stderr",
     "output_type": "stream",
     "text": [
      "Validating: 100%|██████████████████████████████████████████████████████████████████████████████████████████████████████████████████████████████████████████| 380/380 [00:36<00:00, 10.47it/s]\n"
     ]
    },
    {
     "name": "stdout",
     "output_type": "stream",
     "text": [
      "Total Loss  |Smoke Loss  |Fire Loss   \n",
      "------------ ------------ ------------\n",
      "80.277      |57.343      |22.934      \n",
      "SMOKE -> Precision: 0.9961 - Recall: 0.1329 - Accuracy: 0.5910 - F1: 0.2346\n",
      "FIRE -> Precision: 0.9273 - Recall: 0.6163 - Accuracy: 0.8600 - F1: 0.7405\n",
      "\n",
      "=== EPOCH 56/149 ===\n",
      "Learning Rate = 8.589934592000007e-05\n",
      "\n"
     ]
    },
    {
     "name": "stderr",
     "output_type": "stream",
     "text": [
      "Training:  11%|██████████████▉                                                                                                                            | 198/1836 [00:32<03:39,  7.45it/s]Corrupt JPEG data: 1 extraneous bytes before marker 0xd9\n",
      "Training:  48%|██████████████████████████████████████████████████████████████████▋                                                                        | 881/1836 [02:17<02:06,  7.57it/s]Corrupt JPEG data: 1 extraneous bytes before marker 0xd9\n",
      "Training:  49%|████████████████████████████████████████████████████████████████████▌                                                                      | 905/1836 [02:21<02:01,  7.64it/s]Corrupt JPEG data: 1 extraneous bytes before marker 0xd9\n",
      "Training:  69%|███████████████████████████████████████████████████████████████████████████████████████████████▏                                          | 1267/1836 [03:17<01:16,  7.44it/s]Warning: unknown JFIF revision number 32.23\n",
      "Training:  72%|███████████████████████████████████████████████████████████████████████████████████████████████████▉                                      | 1329/1836 [03:28<01:22,  6.13it/s]Corrupt JPEG data: 1 extraneous bytes before marker 0xd9\n",
      "Training: 100%|██████████████████████████████████████████████████████████████████████████████████████████████████████████████████████████████████████████| 1836/1836 [04:46<00:00,  6.41it/s]\n"
     ]
    },
    {
     "name": "stdout",
     "output_type": "stream",
     "text": [
      "Total Loss  |Smoke Loss  |Fire Loss   \n",
      "------------ ------------ ------------\n",
      "32.787      |19.903      |12.885      \n",
      "\n"
     ]
    },
    {
     "name": "stderr",
     "output_type": "stream",
     "text": [
      "Validating: 100%|██████████████████████████████████████████████████████████████████████████████████████████████████████████████████████████████████████████| 380/380 [00:36<00:00, 10.49it/s]\n"
     ]
    },
    {
     "name": "stdout",
     "output_type": "stream",
     "text": [
      "Total Loss  |Smoke Loss  |Fire Loss   \n",
      "------------ ------------ ------------\n",
      "50.900      |34.625      |16.275      \n",
      "SMOKE -> Precision: 0.7161 - Recall: 0.8544 - Accuracy: 0.7717 - F1: 0.7792\n",
      "FIRE -> Precision: 0.8537 - Recall: 0.8143 - Accuracy: 0.8946 - F1: 0.8335\n",
      "\n",
      "=== EPOCH 57/149 ===\n",
      "Learning Rate = 6.871947673600006e-05\n",
      "\n"
     ]
    },
    {
     "name": "stderr",
     "output_type": "stream",
     "text": [
      "Training:  30%|█████████████████████████████████████████▍                                                                                                 | 547/1836 [01:27<02:46,  7.72it/s]Corrupt JPEG data: 1 extraneous bytes before marker 0xd9\n",
      "Training:  52%|████████████████████████████████████████████████████████████████████████                                                                   | 952/1836 [02:29<01:58,  7.48it/s]Corrupt JPEG data: 1 extraneous bytes before marker 0xd9\n",
      "Training:  81%|████████████████████████████████████████████████████████████████████████████████████████████████████████████████▏                         | 1493/1836 [03:51<00:43,  7.92it/s]Corrupt JPEG data: 1 extraneous bytes before marker 0xd9\n",
      "Training:  82%|████████████████████████████████████████████████████████████████████████████████████████████████████████████████▉                         | 1502/1836 [03:52<00:43,  7.67it/s]Corrupt JPEG data: 1 extraneous bytes before marker 0xd9\n",
      "Training:  91%|█████████████████████████████████████████████████████████████████████████████████████████████████████████████████████████████▋            | 1673/1836 [04:20<00:20,  8.06it/s]Warning: unknown JFIF revision number 32.23\n",
      "Training: 100%|██████████████████████████████████████████████████████████████████████████████████████████████████████████████████████████████████████████| 1836/1836 [04:45<00:00,  6.43it/s]\n"
     ]
    },
    {
     "name": "stdout",
     "output_type": "stream",
     "text": [
      "Total Loss  |Smoke Loss  |Fire Loss   \n",
      "------------ ------------ ------------\n",
      "32.750      |19.931      |12.818      \n",
      "\n"
     ]
    },
    {
     "name": "stderr",
     "output_type": "stream",
     "text": [
      "Validating: 100%|██████████████████████████████████████████████████████████████████████████████████████████████████████████████████████████████████████████| 380/380 [00:36<00:00, 10.49it/s]\n"
     ]
    },
    {
     "name": "stdout",
     "output_type": "stream",
     "text": [
      "Total Loss  |Smoke Loss  |Fire Loss   \n",
      "------------ ------------ ------------\n",
      "33.711      |20.977      |12.734      \n",
      "SMOKE -> Precision: 0.8597 - Recall: 0.7424 - Accuracy: 0.8215 - F1: 0.7968\n",
      "FIRE -> Precision: 0.8836 - Recall: 0.8981 - Accuracy: 0.9286 - F1: 0.8908\n",
      "\n",
      "=== EPOCH 58/149 ===\n",
      "Learning Rate = 6.871947673600006e-05\n",
      "\n"
     ]
    },
    {
     "name": "stderr",
     "output_type": "stream",
     "text": [
      "Training:   2%|███▎                                                                                                                                        | 43/1836 [00:08<04:08,  7.22it/s]Corrupt JPEG data: 1 extraneous bytes before marker 0xd9\n",
      "Training:  13%|██████████████████▌                                                                                                                        | 245/1836 [00:40<05:13,  5.07it/s]Warning: unknown JFIF revision number 32.23\n",
      "Training:  22%|██████████████████████████████▉                                                                                                            | 409/1836 [01:05<03:37,  6.57it/s]Corrupt JPEG data: 1 extraneous bytes before marker 0xd9\n",
      "Training:  73%|█████████████████████████████████████████████████████████████████████████████████████████████████████▏                                    | 1346/1836 [03:29<01:15,  6.48it/s]Corrupt JPEG data: 1 extraneous bytes before marker 0xd9\n",
      "Training:  86%|██████████████████████████████████████████████████████████████████████████████████████████████████████████████████████                    | 1571/1836 [04:04<00:39,  6.65it/s]Corrupt JPEG data: 1 extraneous bytes before marker 0xd9\n",
      "Training: 100%|██████████████████████████████████████████████████████████████████████████████████████████████████████████████████████████████████████████| 1836/1836 [04:45<00:00,  6.43it/s]\n"
     ]
    },
    {
     "name": "stdout",
     "output_type": "stream",
     "text": [
      "Total Loss  |Smoke Loss  |Fire Loss   \n",
      "------------ ------------ ------------\n",
      "32.850      |19.993      |12.857      \n",
      "\n"
     ]
    },
    {
     "name": "stderr",
     "output_type": "stream",
     "text": [
      "Validating: 100%|██████████████████████████████████████████████████████████████████████████████████████████████████████████████████████████████████████████| 380/380 [00:36<00:00, 10.51it/s]\n"
     ]
    },
    {
     "name": "stdout",
     "output_type": "stream",
     "text": [
      "Total Loss  |Smoke Loss  |Fire Loss   \n",
      "------------ ------------ ------------\n",
      "47.872      |24.063      |23.809      \n",
      "SMOKE -> Precision: 0.8983 - Recall: 0.6417 - Accuracy: 0.7968 - F1: 0.7486\n",
      "FIRE -> Precision: 0.9824 - Recall: 0.4739 - Accuracy: 0.8267 - F1: 0.6393\n",
      "\n",
      "=== EPOCH 59/149 ===\n",
      "Learning Rate = 6.871947673600006e-05\n",
      "\n"
     ]
    },
    {
     "name": "stderr",
     "output_type": "stream",
     "text": [
      "Training:  25%|███████████████████████████████████                                                                                                        | 463/1836 [01:14<03:12,  7.13it/s]Corrupt JPEG data: 1 extraneous bytes before marker 0xd9\n",
      "Training:  44%|█████████████████████████████████████████████████████████████▎                                                                             | 810/1836 [02:07<02:17,  7.45it/s]Warning: unknown JFIF revision number 32.23\n",
      "Training:  49%|████████████████████████████████████████████████████████████████████▋                                                                      | 908/1836 [02:22<02:24,  6.42it/s]Corrupt JPEG data: 1 extraneous bytes before marker 0xd9\n",
      "Training:  66%|███████████████████████████████████████████████████████████████████████████████████████████                                               | 1211/1836 [03:08<01:37,  6.40it/s]Corrupt JPEG data: 1 extraneous bytes before marker 0xd9\n",
      "Training:  66%|███████████████████████████████████████████████████████████████████████████████████████████▌                                              | 1218/1836 [03:09<01:21,  7.62it/s]Corrupt JPEG data: 1 extraneous bytes before marker 0xd9\n",
      "Training: 100%|██████████████████████████████████████████████████████████████████████████████████████████████████████████████████████████████████████████| 1836/1836 [04:45<00:00,  6.43it/s]\n"
     ]
    },
    {
     "name": "stdout",
     "output_type": "stream",
     "text": [
      "Total Loss  |Smoke Loss  |Fire Loss   \n",
      "------------ ------------ ------------\n",
      "32.486      |19.812      |12.674      \n",
      "\n"
     ]
    },
    {
     "name": "stderr",
     "output_type": "stream",
     "text": [
      "Validating: 100%|██████████████████████████████████████████████████████████████████████████████████████████████████████████████████████████████████████████| 380/380 [00:36<00:00, 10.46it/s]\n"
     ]
    },
    {
     "name": "stdout",
     "output_type": "stream",
     "text": [
      "Total Loss  |Smoke Loss  |Fire Loss   \n",
      "------------ ------------ ------------\n",
      "64.539      |29.819      |34.719      \n",
      "SMOKE -> Precision: 0.9445 - Recall: 0.5075 - Accuracy: 0.7537 - F1: 0.6602\n",
      "FIRE -> Precision: 0.9390 - Recall: 0.4689 - Accuracy: 0.8180 - F1: 0.6255\n",
      "\n",
      "=== EPOCH 60/149 ===\n",
      "Learning Rate = 5.497558138880005e-05\n",
      "\n"
     ]
    },
    {
     "name": "stderr",
     "output_type": "stream",
     "text": [
      "Training:  20%|███████████████████████████▍                                                                                                               | 362/1836 [00:57<03:10,  7.74it/s]Corrupt JPEG data: 1 extraneous bytes before marker 0xd9\n",
      "Training:  50%|██████████████████████████████████████████████████████████████████████                                                                     | 926/1836 [02:24<02:03,  7.39it/s]Warning: unknown JFIF revision number 32.23\n",
      "Training:  61%|███████████████████████████████████████████████████████████████████████████████████▉                                                      | 1116/1836 [02:54<01:42,  7.04it/s]Corrupt JPEG data: 1 extraneous bytes before marker 0xd9\n",
      "Training:  61%|████████████████████████████████████████████████████████████████████████████████████▎                                                     | 1121/1836 [02:55<03:43,  3.21it/s]Corrupt JPEG data: 1 extraneous bytes before marker 0xd9\n",
      "Training:  89%|██████████████████████████████████████████████████████████████████████████████████████████████████████████████████████████▎               | 1628/1836 [04:12<00:25,  8.03it/s]Corrupt JPEG data: 1 extraneous bytes before marker 0xd9\n",
      "Training: 100%|██████████████████████████████████████████████████████████████████████████████████████████████████████████████████████████████████████████| 1836/1836 [04:44<00:00,  6.44it/s]\n"
     ]
    },
    {
     "name": "stdout",
     "output_type": "stream",
     "text": [
      "Total Loss  |Smoke Loss  |Fire Loss   \n",
      "------------ ------------ ------------\n",
      "31.919      |19.473      |12.447      \n",
      "\n"
     ]
    },
    {
     "name": "stderr",
     "output_type": "stream",
     "text": [
      "Validating: 100%|██████████████████████████████████████████████████████████████████████████████████████████████████████████████████████████████████████████| 380/380 [00:36<00:00, 10.47it/s]\n"
     ]
    },
    {
     "name": "stdout",
     "output_type": "stream",
     "text": [
      "Total Loss  |Smoke Loss  |Fire Loss   \n",
      "------------ ------------ ------------\n",
      "49.672      |29.341      |20.331      \n",
      "SMOKE -> Precision: 0.6886 - Recall: 0.9195 - Accuracy: 0.7660 - F1: 0.7875\n",
      "FIRE -> Precision: 0.7212 - Recall: 0.9375 - Accuracy: 0.8623 - F1: 0.8152\n",
      "\n",
      "=== EPOCH 61/149 ===\n",
      "Learning Rate = 5.497558138880005e-05\n",
      "\n"
     ]
    },
    {
     "name": "stderr",
     "output_type": "stream",
     "text": [
      "Training:  27%|████████████████████████████████████▉                                                                                                      | 488/1836 [01:17<04:30,  4.99it/s]Corrupt JPEG data: 1 extraneous bytes before marker 0xd9\n",
      "Training:  36%|██████████████████████████████████████████████████▎                                                                                        | 664/1836 [01:44<02:39,  7.35it/s]Corrupt JPEG data: 1 extraneous bytes before marker 0xd9\n",
      "Training:  50%|█████████████████████████████████████████████████████████████████████▋                                                                     | 920/1836 [02:23<02:00,  7.58it/s]Warning: unknown JFIF revision number 32.23\n",
      "Training:  87%|████████████████████████████████████████████████████████████████████████████████████████████████████████████████████████▏                 | 1599/1836 [04:08<00:36,  6.43it/s]Corrupt JPEG data: 1 extraneous bytes before marker 0xd9\n",
      "Training:  87%|████████████████████████████████████████████████████████████████████████████████████████████████████████████████████████▋                 | 1605/1836 [04:08<00:29,  7.89it/s]Corrupt JPEG data: 1 extraneous bytes before marker 0xd9\n",
      "Training: 100%|██████████████████████████████████████████████████████████████████████████████████████████████████████████████████████████████████████████| 1836/1836 [04:44<00:00,  6.45it/s]\n"
     ]
    },
    {
     "name": "stdout",
     "output_type": "stream",
     "text": [
      "Total Loss  |Smoke Loss  |Fire Loss   \n",
      "------------ ------------ ------------\n",
      "31.905      |19.503      |12.402      \n",
      "\n"
     ]
    },
    {
     "name": "stderr",
     "output_type": "stream",
     "text": [
      "Validating: 100%|██████████████████████████████████████████████████████████████████████████████████████████████████████████████████████████████████████████| 380/380 [00:36<00:00, 10.51it/s]\n"
     ]
    },
    {
     "name": "stdout",
     "output_type": "stream",
     "text": [
      "Total Loss  |Smoke Loss  |Fire Loss   \n",
      "------------ ------------ ------------\n",
      "146.618     |55.585      |91.033      \n",
      "SMOKE -> Precision: 0.6580 - Recall: 0.9268 - Accuracy: 0.7384 - F1: 0.7696\n",
      "FIRE -> Precision: 0.9629 - Recall: 0.1480 - Accuracy: 0.7220 - F1: 0.2566\n",
      "\n",
      "=== EPOCH 62/149 ===\n",
      "Learning Rate = 5.497558138880005e-05\n",
      "\n"
     ]
    },
    {
     "name": "stderr",
     "output_type": "stream",
     "text": [
      "Training:  28%|███████████████████████████████████████                                                                                                    | 516/1836 [01:21<03:06,  7.07it/s]Corrupt JPEG data: 1 extraneous bytes before marker 0xd9\n",
      "Training:  40%|██████████████████████████████████████████████████████▉                                                                                    | 726/1836 [01:53<02:21,  7.83it/s]Corrupt JPEG data: 1 extraneous bytes before marker 0xd9\n",
      "Training:  47%|█████████████████████████████████████████████████████████████████▋                                                                         | 868/1836 [02:14<02:00,  8.03it/s]Warning: unknown JFIF revision number 32.23\n",
      "Training:  66%|███████████████████████████████████████████████████████████████████████████████████████████▏                                              | 1213/1836 [03:08<01:19,  7.86it/s]Corrupt JPEG data: 1 extraneous bytes before marker 0xd9\n",
      "Training:  71%|██████████████████████████████████████████████████████████████████████████████████████████████████▏                                       | 1307/1836 [03:22<01:06,  7.93it/s]Corrupt JPEG data: 1 extraneous bytes before marker 0xd9\n",
      "Training: 100%|██████████████████████████████████████████████████████████████████████████████████████████████████████████████████████████████████████████| 1836/1836 [04:44<00:00,  6.46it/s]\n"
     ]
    },
    {
     "name": "stdout",
     "output_type": "stream",
     "text": [
      "Total Loss  |Smoke Loss  |Fire Loss   \n",
      "------------ ------------ ------------\n",
      "31.848      |19.497      |12.351      \n",
      "\n"
     ]
    },
    {
     "name": "stderr",
     "output_type": "stream",
     "text": [
      "Validating: 100%|██████████████████████████████████████████████████████████████████████████████████████████████████████████████████████████████████████████| 380/380 [00:36<00:00, 10.50it/s]\n"
     ]
    },
    {
     "name": "stdout",
     "output_type": "stream",
     "text": [
      "Total Loss  |Smoke Loss  |Fire Loss   \n",
      "------------ ------------ ------------\n",
      "36.847      |21.280      |15.567      \n",
      "SMOKE -> Precision: 0.8473 - Recall: 0.8141 - Accuracy: 0.8432 - F1: 0.8304\n",
      "FIRE -> Precision: 0.7915 - Recall: 0.9316 - Accuracy: 0.8983 - F1: 0.8559\n",
      "\n",
      "=== EPOCH 63/149 ===\n",
      "Learning Rate = 4.3980465111040044e-05\n",
      "\n"
     ]
    },
    {
     "name": "stderr",
     "output_type": "stream",
     "text": [
      "Training:   0%|                                                                                                                                                     | 0/1836 [00:00<?, ?it/s]Corrupt JPEG data: 1 extraneous bytes before marker 0xd9\n",
      "Training:  41%|█████████████████████████████████████████████████████████▌                                                                                 | 761/1836 [01:57<04:42,  3.81it/s]Corrupt JPEG data: 1 extraneous bytes before marker 0xd9\n",
      "Training:  51%|██████████████████████████████████████████████████████████████████████▍                                                                    | 930/1836 [02:24<02:40,  5.65it/s]Warning: unknown JFIF revision number 32.23\n",
      "Training:  77%|██████████████████████████████████████████████████████████████████████████████████████████████████████████▎                               | 1414/1836 [03:38<00:57,  7.31it/s]Corrupt JPEG data: 1 extraneous bytes before marker 0xd9\n",
      "Training:  98%|██████████████████████████████████████████████████████████████████████████████████████████████████████████████████████████████████████▉   | 1796/1836 [04:38<00:05,  6.92it/s]Corrupt JPEG data: 1 extraneous bytes before marker 0xd9\n",
      "Training: 100%|██████████████████████████████████████████████████████████████████████████████████████████████████████████████████████████████████████████| 1836/1836 [04:44<00:00,  6.45it/s]\n"
     ]
    },
    {
     "name": "stdout",
     "output_type": "stream",
     "text": [
      "Total Loss  |Smoke Loss  |Fire Loss   \n",
      "------------ ------------ ------------\n",
      "31.550      |19.305      |12.245      \n",
      "\n"
     ]
    },
    {
     "name": "stderr",
     "output_type": "stream",
     "text": [
      "Validating: 100%|██████████████████████████████████████████████████████████████████████████████████████████████████████████████████████████████████████████| 380/380 [00:36<00:00, 10.51it/s]\n"
     ]
    },
    {
     "name": "stdout",
     "output_type": "stream",
     "text": [
      "Total Loss  |Smoke Loss  |Fire Loss   \n",
      "------------ ------------ ------------\n",
      "34.283      |20.662      |13.621      \n",
      "SMOKE -> Precision: 0.8866 - Recall: 0.7455 - Accuracy: 0.8351 - F1: 0.8100\n",
      "FIRE -> Precision: 0.9677 - Recall: 0.7515 - Accuracy: 0.9113 - F1: 0.8460\n",
      "\n",
      "=== EPOCH 64/149 ===\n",
      "Learning Rate = 4.3980465111040044e-05\n",
      "\n"
     ]
    },
    {
     "name": "stderr",
     "output_type": "stream",
     "text": [
      "Training:   0%|▌                                                                                                                                            | 8/1836 [00:02<05:15,  5.79it/s]Corrupt JPEG data: 1 extraneous bytes before marker 0xd9\n",
      "Training:  21%|████████████████████████████▌                                                                                                              | 378/1836 [01:01<03:11,  7.61it/s]Corrupt JPEG data: 1 extraneous bytes before marker 0xd9\n",
      "Training:  22%|██████████████████████████████▌                                                                                                            | 403/1836 [01:05<03:36,  6.63it/s]Warning: unknown JFIF revision number 32.23\n",
      "Training:  29%|████████████████████████████████████████▎                                                                                                  | 532/1836 [01:25<04:22,  4.97it/s]Corrupt JPEG data: 1 extraneous bytes before marker 0xd9\n",
      "Training:  49%|███████████████████████████████████████████████████████████████████▌                                                                       | 893/1836 [02:20<01:58,  7.93it/s]Corrupt JPEG data: 1 extraneous bytes before marker 0xd9\n",
      "Training: 100%|██████████████████████████████████████████████████████████████████████████████████████████████████████████████████████████████████████████| 1836/1836 [04:45<00:00,  6.43it/s]\n"
     ]
    },
    {
     "name": "stdout",
     "output_type": "stream",
     "text": [
      "Total Loss  |Smoke Loss  |Fire Loss   \n",
      "------------ ------------ ------------\n",
      "31.524      |19.363      |12.161      \n",
      "\n"
     ]
    },
    {
     "name": "stderr",
     "output_type": "stream",
     "text": [
      "Validating: 100%|██████████████████████████████████████████████████████████████████████████████████████████████████████████████████████████████████████████| 380/380 [00:36<00:00, 10.55it/s]\n"
     ]
    },
    {
     "name": "stdout",
     "output_type": "stream",
     "text": [
      "Total Loss  |Smoke Loss  |Fire Loss   \n",
      "------------ ------------ ------------\n",
      "31.652      |21.196      |10.456      \n",
      "SMOKE -> Precision: 0.9328 - Recall: 0.6720 - Accuracy: 0.8226 - F1: 0.7812\n",
      "FIRE -> Precision: 0.8919 - Recall: 0.9211 - Accuracy: 0.9382 - F1: 0.9063\n",
      "\n",
      "Saving model with new best validation loss: 31.6521\n",
      "Model exported to ONNX: experiments_resnet/test_v03__w1a1__DEEP_Resnet__clip_convs_Linear4ReLU__400k_full_ds/onnx/BNN_BED_classifier__best_loss\n",
      "\n",
      "=== EPOCH 65/149 ===\n",
      "Learning Rate = 4.3980465111040044e-05\n",
      "\n"
     ]
    },
    {
     "name": "stderr",
     "output_type": "stream",
     "text": [
      "Training:   2%|███▎                                                                                                                                        | 43/1836 [00:08<04:35,  6.52it/s]Corrupt JPEG data: 1 extraneous bytes before marker 0xd9\n",
      "Training:   6%|███████▋                                                                                                                                   | 101/1836 [00:17<03:45,  7.71it/s]Warning: unknown JFIF revision number 32.23\n",
      "Training:   9%|████████████▏                                                                                                                              | 161/1836 [00:26<04:24,  6.33it/s]Corrupt JPEG data: 1 extraneous bytes before marker 0xd9\n",
      "Training:  60%|██████████████████████████████████████████████████████████████████████████████████▌                                                       | 1099/1836 [02:51<01:42,  7.18it/s]Corrupt JPEG data: 1 extraneous bytes before marker 0xd9\n",
      "Training:  71%|█████████████████████████████████████████████████████████████████████████████████████████████████▋                                        | 1299/1836 [03:22<01:55,  4.65it/s]Corrupt JPEG data: 1 extraneous bytes before marker 0xd9\n",
      "Training: 100%|██████████████████████████████████████████████████████████████████████████████████████████████████████████████████████████████████████████| 1836/1836 [04:43<00:00,  6.47it/s]\n"
     ]
    },
    {
     "name": "stdout",
     "output_type": "stream",
     "text": [
      "Total Loss  |Smoke Loss  |Fire Loss   \n",
      "------------ ------------ ------------\n",
      "31.657      |19.389      |12.269      \n",
      "\n"
     ]
    },
    {
     "name": "stderr",
     "output_type": "stream",
     "text": [
      "Validating: 100%|██████████████████████████████████████████████████████████████████████████████████████████████████████████████████████████████████████████| 380/380 [00:36<00:00, 10.41it/s]\n"
     ]
    },
    {
     "name": "stdout",
     "output_type": "stream",
     "text": [
      "Total Loss  |Smoke Loss  |Fire Loss   \n",
      "------------ ------------ ------------\n",
      "73.251      |34.915      |38.336      \n",
      "SMOKE -> Precision: 0.9428 - Recall: 0.4700 - Accuracy: 0.7367 - F1: 0.6273\n",
      "FIRE -> Precision: 0.9612 - Recall: 0.4652 - Accuracy: 0.8206 - F1: 0.6270\n",
      "\n",
      "=== EPOCH 66/149 ===\n",
      "Learning Rate = 4.3980465111040044e-05\n",
      "\n"
     ]
    },
    {
     "name": "stderr",
     "output_type": "stream",
     "text": [
      "Training:   8%|██████████▋                                                                                                                                | 141/1836 [00:23<04:01,  7.01it/s]Corrupt JPEG data: 1 extraneous bytes before marker 0xd9\n",
      "Training:  21%|████████████████████████████▊                                                                                                              | 381/1836 [01:00<03:35,  6.74it/s]Warning: unknown JFIF revision number 32.23\n",
      "Training:  59%|█████████████████████████████████████████████████████████████████████████████████▋                                                        | 1086/1836 [02:48<01:36,  7.77it/s]Corrupt JPEG data: 1 extraneous bytes before marker 0xd9\n",
      "Training:  60%|███████████████████████████████████████████████████████████████████████████████████▍                                                      | 1110/1836 [02:52<01:38,  7.40it/s]Corrupt JPEG data: 1 extraneous bytes before marker 0xd9\n",
      "Training:  74%|██████████████████████████████████████████████████████████████████████████████████████████████████████▌                                   | 1365/1836 [03:32<01:12,  6.53it/s]Corrupt JPEG data: 1 extraneous bytes before marker 0xd9\n",
      "Training: 100%|██████████████████████████████████████████████████████████████████████████████████████████████████████████████████████████████████████████| 1836/1836 [04:44<00:00,  6.44it/s]\n"
     ]
    },
    {
     "name": "stdout",
     "output_type": "stream",
     "text": [
      "Total Loss  |Smoke Loss  |Fire Loss   \n",
      "------------ ------------ ------------\n",
      "31.851      |19.517      |12.334      \n",
      "\n"
     ]
    },
    {
     "name": "stderr",
     "output_type": "stream",
     "text": [
      "Validating: 100%|██████████████████████████████████████████████████████████████████████████████████████████████████████████████████████████████████████████| 380/380 [00:36<00:00, 10.50it/s]\n"
     ]
    },
    {
     "name": "stdout",
     "output_type": "stream",
     "text": [
      "Total Loss  |Smoke Loss  |Fire Loss   \n",
      "------------ ------------ ------------\n",
      "38.401      |24.137      |14.264      \n",
      "SMOKE -> Precision: 0.7606 - Recall: 0.8759 - Accuracy: 0.8115 - F1: 0.8142\n",
      "FIRE -> Precision: 0.9057 - Recall: 0.7916 - Accuracy: 0.9057 - F1: 0.8448\n",
      "\n",
      "=== EPOCH 67/149 ===\n",
      "Learning Rate = 4.3980465111040044e-05\n",
      "\n"
     ]
    },
    {
     "name": "stderr",
     "output_type": "stream",
     "text": [
      "Training:  39%|██████████████████████████████████████████████████████▋                                                                                    | 723/1836 [01:52<02:30,  7.37it/s]Corrupt JPEG data: 1 extraneous bytes before marker 0xd9\n",
      "Training:  62%|██████████████████████████████████████████████████████████████████████████████████████▏                                                   | 1147/1836 [02:58<01:27,  7.83it/s]Corrupt JPEG data: 1 extraneous bytes before marker 0xd9\n",
      "Training:  65%|█████████████████████████████████████████████████████████████████████████████████████████▋                                                | 1193/1836 [03:05<01:19,  8.10it/s]Corrupt JPEG data: 1 extraneous bytes before marker 0xd9\n",
      "Training:  66%|███████████████████████████████████████████████████████████████████████████████████████████▎                                              | 1215/1836 [03:08<01:20,  7.73it/s]Warning: unknown JFIF revision number 32.23\n",
      "Training:  93%|████████████████████████████████████████████████████████████████████████████████████████████████████████████████████████████████          | 1704/1836 [04:23<00:24,  5.39it/s]Corrupt JPEG data: 1 extraneous bytes before marker 0xd9\n",
      "Training: 100%|██████████████████████████████████████████████████████████████████████████████████████████████████████████████████████████████████████████| 1836/1836 [04:43<00:00,  6.47it/s]\n"
     ]
    },
    {
     "name": "stdout",
     "output_type": "stream",
     "text": [
      "Total Loss  |Smoke Loss  |Fire Loss   \n",
      "------------ ------------ ------------\n",
      "31.760      |19.459      |12.301      \n",
      "\n"
     ]
    },
    {
     "name": "stderr",
     "output_type": "stream",
     "text": [
      "Validating: 100%|██████████████████████████████████████████████████████████████████████████████████████████████████████████████████████████████████████████| 380/380 [00:36<00:00, 10.48it/s]\n"
     ]
    },
    {
     "name": "stdout",
     "output_type": "stream",
     "text": [
      "Total Loss  |Smoke Loss  |Fire Loss   \n",
      "------------ ------------ ------------\n",
      "39.926      |25.518      |14.407      \n",
      "SMOKE -> Precision: 0.9469 - Recall: 0.5226 - Accuracy: 0.7611 - F1: 0.6735\n",
      "FIRE -> Precision: 0.8950 - Recall: 0.8340 - Accuracy: 0.9145 - F1: 0.8634\n",
      "\n",
      "=== EPOCH 68/149 ===\n",
      "Learning Rate = 3.5184372088832036e-05\n",
      "\n"
     ]
    },
    {
     "name": "stderr",
     "output_type": "stream",
     "text": [
      "Training:   2%|███▎                                                                                                                                        | 44/1836 [00:08<04:09,  7.17it/s]Corrupt JPEG data: 1 extraneous bytes before marker 0xd9\n",
      "Training:  17%|███████████████████████▉                                                                                                                   | 316/1836 [00:50<04:08,  6.12it/s]Corrupt JPEG data: 1 extraneous bytes before marker 0xd9\n",
      "Training:  61%|████████████████████████████████████████████████████████████████████████████████████▋                                                     | 1127/1836 [02:54<01:42,  6.90it/s]Corrupt JPEG data: 1 extraneous bytes before marker 0xd9\n",
      "Training:  68%|██████████████████████████████████████████████████████████████████████████████████████████████                                            | 1252/1836 [03:14<01:36,  6.08it/s]Corrupt JPEG data: 1 extraneous bytes before marker 0xd9\n",
      "Training:  80%|██████████████████████████████████████████████████████████████████████████████████████████████████████████████▌                           | 1471/1836 [03:47<01:08,  5.36it/s]Warning: unknown JFIF revision number 32.23\n",
      "Training: 100%|██████████████████████████████████████████████████████████████████████████████████████████████████████████████████████████████████████████| 1836/1836 [04:43<00:00,  6.48it/s]\n"
     ]
    },
    {
     "name": "stdout",
     "output_type": "stream",
     "text": [
      "Total Loss  |Smoke Loss  |Fire Loss   \n",
      "------------ ------------ ------------\n",
      "31.597      |19.270      |12.327      \n",
      "\n"
     ]
    },
    {
     "name": "stderr",
     "output_type": "stream",
     "text": [
      "Validating: 100%|██████████████████████████████████████████████████████████████████████████████████████████████████████████████████████████████████████████| 380/380 [00:36<00:00, 10.52it/s]\n"
     ]
    },
    {
     "name": "stdout",
     "output_type": "stream",
     "text": [
      "Total Loss  |Smoke Loss  |Fire Loss   \n",
      "------------ ------------ ------------\n",
      "32.894      |21.148      |11.746      \n",
      "SMOKE -> Precision: 0.8165 - Recall: 0.8211 - Accuracy: 0.8287 - F1: 0.8188\n",
      "FIRE -> Precision: 0.8715 - Recall: 0.9091 - Accuracy: 0.9271 - F1: 0.8899\n",
      "Saving model with best Mean F1: 0.8543\n",
      "Model exported to ONNX: experiments_resnet/test_v03__w1a1__DEEP_Resnet__clip_convs_Linear4ReLU__400k_full_ds/onnx/BNN_BED_classifier__best_mean_F1\n",
      "\n",
      "=== EPOCH 69/149 ===\n",
      "Learning Rate = 3.5184372088832036e-05\n",
      "\n"
     ]
    },
    {
     "name": "stderr",
     "output_type": "stream",
     "text": [
      "Training:   5%|██████▌                                                                                                                                     | 86/1836 [00:15<05:02,  5.79it/s]Corrupt JPEG data: 1 extraneous bytes before marker 0xd9\n",
      "Training:  16%|██████████████████████▌                                                                                                                    | 298/1836 [00:49<06:23,  4.01it/s]Warning: unknown JFIF revision number 32.23\n",
      "Training:  19%|██████████████████████████                                                                                                                 | 344/1836 [00:56<03:12,  7.73it/s]Corrupt JPEG data: 1 extraneous bytes before marker 0xd9\n",
      "Training:  30%|██████████████████████████████████████████▏                                                                                                | 557/1836 [01:28<03:17,  6.48it/s]Corrupt JPEG data: 1 extraneous bytes before marker 0xd9\n",
      "Training:  55%|████████████████████████████████████████████████████████████████████████████                                                              | 1012/1836 [02:38<01:42,  8.00it/s]Corrupt JPEG data: 1 extraneous bytes before marker 0xd9\n",
      "Training: 100%|██████████████████████████████████████████████████████████████████████████████████████████████████████████████████████████████████████████| 1836/1836 [04:45<00:00,  6.43it/s]\n"
     ]
    },
    {
     "name": "stdout",
     "output_type": "stream",
     "text": [
      "Total Loss  |Smoke Loss  |Fire Loss   \n",
      "------------ ------------ ------------\n",
      "31.093      |19.138      |11.954      \n",
      "\n"
     ]
    },
    {
     "name": "stderr",
     "output_type": "stream",
     "text": [
      "Validating: 100%|██████████████████████████████████████████████████████████████████████████████████████████████████████████████████████████████████████████| 380/380 [00:36<00:00, 10.51it/s]\n"
     ]
    },
    {
     "name": "stdout",
     "output_type": "stream",
     "text": [
      "Total Loss  |Smoke Loss  |Fire Loss   \n",
      "------------ ------------ ------------\n",
      "39.728      |26.218      |13.510      \n",
      "SMOKE -> Precision: 0.7315 - Recall: 0.8317 - Accuracy: 0.7767 - F1: 0.7784\n",
      "FIRE -> Precision: 0.8704 - Recall: 0.8654 - Accuracy: 0.9146 - F1: 0.8679\n",
      "\n",
      "=== EPOCH 70/149 ===\n",
      "Learning Rate = 3.5184372088832036e-05\n",
      "\n"
     ]
    },
    {
     "name": "stderr",
     "output_type": "stream",
     "text": [
      "Training:  12%|████████████████▎                                                                                                                          | 216/1836 [00:36<03:55,  6.88it/s]Corrupt JPEG data: 1 extraneous bytes before marker 0xd9\n",
      "Training:  51%|███████████████████████████████████████████████████████████████████████▏                                                                   | 941/1836 [02:26<02:02,  7.32it/s]Corrupt JPEG data: 1 extraneous bytes before marker 0xd9\n",
      "Training:  83%|███████████████████████████████████████████████████████████████████████████████████████████████████████████████████                       | 1531/1836 [03:57<00:51,  5.88it/s]Corrupt JPEG data: 1 extraneous bytes before marker 0xd9\n",
      "Training:  91%|██████████████████████████████████████████████████████████████████████████████████████████████████████████████████████████████            | 1677/1836 [04:19<00:19,  7.99it/s]Corrupt JPEG data: 1 extraneous bytes before marker 0xd9\n",
      "Training:  93%|███████████████████████████████████████████████████████████████████████████████████████████████████████████████████████████████▉          | 1702/1836 [04:23<00:19,  6.77it/s]Warning: unknown JFIF revision number 32.23\n",
      "Training: 100%|██████████████████████████████████████████████████████████████████████████████████████████████████████████████████████████████████████████| 1836/1836 [04:44<00:00,  6.46it/s]\n"
     ]
    },
    {
     "name": "stdout",
     "output_type": "stream",
     "text": [
      "Total Loss  |Smoke Loss  |Fire Loss   \n",
      "------------ ------------ ------------\n",
      "31.369      |19.221      |12.148      \n",
      "\n"
     ]
    },
    {
     "name": "stderr",
     "output_type": "stream",
     "text": [
      "Validating: 100%|██████████████████████████████████████████████████████████████████████████████████████████████████████████████████████████████████████████| 380/380 [00:36<00:00, 10.54it/s]\n"
     ]
    },
    {
     "name": "stdout",
     "output_type": "stream",
     "text": [
      "Total Loss  |Smoke Loss  |Fire Loss   \n",
      "------------ ------------ ------------\n",
      "39.768      |23.179      |16.589      \n",
      "SMOKE -> Precision: 0.9204 - Recall: 0.6398 - Accuracy: 0.8041 - F1: 0.7549\n",
      "FIRE -> Precision: 0.8762 - Recall: 0.7314 - Accuracy: 0.8794 - F1: 0.7972\n",
      "\n",
      "=== EPOCH 71/149 ===\n",
      "Learning Rate = 2.814749767106563e-05\n",
      "\n"
     ]
    },
    {
     "name": "stderr",
     "output_type": "stream",
     "text": [
      "Training:   8%|███████████▌                                                                                                                               | 153/1836 [00:25<04:01,  6.96it/s]Warning: unknown JFIF revision number 32.23\n",
      "Training:  16%|██████████████████████                                                                                                                     | 291/1836 [00:46<04:18,  5.98it/s]Corrupt JPEG data: 1 extraneous bytes before marker 0xd9\n",
      "Training:  37%|██████████████████████████████████████████████████▉                                                                                        | 672/1836 [01:45<02:41,  7.22it/s]Corrupt JPEG data: 1 extraneous bytes before marker 0xd9\n",
      "Training:  40%|███████████████████████████████████████████████████████▏                                                                                   | 729/1836 [01:54<02:23,  7.72it/s]Corrupt JPEG data: 1 extraneous bytes before marker 0xd9\n",
      "Training:  53%|█████████████████████████████████████████████████████████████████████████                                                                  | 965/1836 [02:31<02:35,  5.61it/s]Corrupt JPEG data: 1 extraneous bytes before marker 0xd9\n",
      "Training: 100%|██████████████████████████████████████████████████████████████████████████████████████████████████████████████████████████████████████████| 1836/1836 [04:43<00:00,  6.48it/s]\n"
     ]
    },
    {
     "name": "stdout",
     "output_type": "stream",
     "text": [
      "Total Loss  |Smoke Loss  |Fire Loss   \n",
      "------------ ------------ ------------\n",
      "30.945      |18.979      |11.966      \n",
      "\n"
     ]
    },
    {
     "name": "stderr",
     "output_type": "stream",
     "text": [
      "Validating: 100%|██████████████████████████████████████████████████████████████████████████████████████████████████████████████████████████████████████████| 380/380 [00:36<00:00, 10.46it/s]\n"
     ]
    },
    {
     "name": "stdout",
     "output_type": "stream",
     "text": [
      "Total Loss  |Smoke Loss  |Fire Loss   \n",
      "------------ ------------ ------------\n",
      "29.919      |19.454      |10.465      \n",
      "SMOKE -> Precision: 0.8868 - Recall: 0.7740 - Accuracy: 0.8469 - F1: 0.8266\n",
      "FIRE -> Precision: 0.9507 - Recall: 0.8539 - Accuracy: 0.9383 - F1: 0.8997\n",
      "\n",
      "Saving model with new best validation loss: 29.9189\n",
      "Model exported to ONNX: experiments_resnet/test_v03__w1a1__DEEP_Resnet__clip_convs_Linear4ReLU__400k_full_ds/onnx/BNN_BED_classifier__best_loss\n",
      "Saving model with best Mean F1: 0.8631\n",
      "Model exported to ONNX: experiments_resnet/test_v03__w1a1__DEEP_Resnet__clip_convs_Linear4ReLU__400k_full_ds/onnx/BNN_BED_classifier__best_mean_F1\n",
      "\n",
      "=== EPOCH 72/149 ===\n",
      "Learning Rate = 2.814749767106563e-05\n",
      "\n"
     ]
    },
    {
     "name": "stderr",
     "output_type": "stream",
     "text": [
      "Training:   4%|█████                                                                                                                                       | 66/1836 [00:12<03:43,  7.91it/s]Corrupt JPEG data: 1 extraneous bytes before marker 0xd9\n",
      "Training:  13%|█████████████████▋                                                                                                                         | 234/1836 [00:38<04:25,  6.02it/s]Corrupt JPEG data: 1 extraneous bytes before marker 0xd9\n",
      "Training:  43%|████████████████████████████████████████████████████████████                                                                               | 793/1836 [02:03<02:15,  7.69it/s]Warning: unknown JFIF revision number 32.23\n",
      "Training:  70%|████████████████████████████████████████████████████████████████████████████████████████████████▌                                         | 1284/1836 [03:20<01:13,  7.50it/s]Corrupt JPEG data: 1 extraneous bytes before marker 0xd9\n",
      "Training:  71%|█████████████████████████████████████████████████████████████████████████████████████████████████▎                                        | 1295/1836 [03:22<01:12,  7.45it/s]Corrupt JPEG data: 1 extraneous bytes before marker 0xd9\n",
      "Training: 100%|██████████████████████████████████████████████████████████████████████████████████████████████████████████████████████████████████████████| 1836/1836 [04:44<00:00,  6.44it/s]\n"
     ]
    },
    {
     "name": "stdout",
     "output_type": "stream",
     "text": [
      "Total Loss  |Smoke Loss  |Fire Loss   \n",
      "------------ ------------ ------------\n",
      "31.315      |19.209      |12.106      \n",
      "\n"
     ]
    },
    {
     "name": "stderr",
     "output_type": "stream",
     "text": [
      "Validating: 100%|██████████████████████████████████████████████████████████████████████████████████████████████████████████████████████████████████████████| 380/380 [00:36<00:00, 10.43it/s]\n"
     ]
    },
    {
     "name": "stdout",
     "output_type": "stream",
     "text": [
      "Total Loss  |Smoke Loss  |Fire Loss   \n",
      "------------ ------------ ------------\n",
      "38.006      |23.258      |14.748      \n",
      "SMOKE -> Precision: 0.8923 - Recall: 0.6529 - Accuracy: 0.7992 - F1: 0.7540\n",
      "FIRE -> Precision: 0.8330 - Recall: 0.8850 - Accuracy: 0.9052 - F1: 0.8582\n",
      "\n",
      "=== EPOCH 73/149 ===\n",
      "Learning Rate = 2.814749767106563e-05\n",
      "\n"
     ]
    },
    {
     "name": "stderr",
     "output_type": "stream",
     "text": [
      "Training:  12%|████████████████▍                                                                                                                          | 217/1836 [00:34<03:25,  7.88it/s]Corrupt JPEG data: 1 extraneous bytes before marker 0xd9\n",
      "Training:  42%|██████████████████████████████████████████████████████████▏                                                                                | 768/1836 [02:00<03:22,  5.27it/s]Corrupt JPEG data: 1 extraneous bytes before marker 0xd9\n",
      "Training:  58%|████████████████████████████████████████████████████████████████████████████████▎                                                         | 1069/1836 [02:45<01:53,  6.75it/s]Warning: unknown JFIF revision number 32.23\n",
      "Training:  65%|█████████████████████████████████████████████████████████████████████████████████████████▎                                                | 1189/1836 [03:03<02:20,  4.60it/s]Corrupt JPEG data: 1 extraneous bytes before marker 0xd9\n",
      "Training:  89%|███████████████████████████████████████████████████████████████████████████████████████████████████████████████████████████               | 1638/1836 [04:13<00:39,  5.05it/s]Corrupt JPEG data: 1 extraneous bytes before marker 0xd9\n",
      "Training: 100%|██████████████████████████████████████████████████████████████████████████████████████████████████████████████████████████████████████████| 1836/1836 [04:43<00:00,  6.49it/s]\n"
     ]
    },
    {
     "name": "stdout",
     "output_type": "stream",
     "text": [
      "Total Loss  |Smoke Loss  |Fire Loss   \n",
      "------------ ------------ ------------\n",
      "31.059      |19.150      |11.908      \n",
      "\n"
     ]
    },
    {
     "name": "stderr",
     "output_type": "stream",
     "text": [
      "Validating: 100%|██████████████████████████████████████████████████████████████████████████████████████████████████████████████████████████████████████████| 380/380 [00:36<00:00, 10.47it/s]\n"
     ]
    },
    {
     "name": "stdout",
     "output_type": "stream",
     "text": [
      "Total Loss  |Smoke Loss  |Fire Loss   \n",
      "------------ ------------ ------------\n",
      "33.213      |21.759      |11.454      \n",
      "SMOKE -> Precision: 0.9114 - Recall: 0.6637 - Accuracy: 0.8110 - F1: 0.7680\n",
      "FIRE -> Precision: 0.8943 - Recall: 0.8940 - Accuracy: 0.9314 - F1: 0.8941\n",
      "\n",
      "=== EPOCH 74/149 ===\n",
      "Learning Rate = 2.814749767106563e-05\n",
      "\n"
     ]
    },
    {
     "name": "stderr",
     "output_type": "stream",
     "text": [
      "Training:   8%|███████████▍                                                                                                                               | 151/1836 [00:25<03:56,  7.13it/s]Corrupt JPEG data: 1 extraneous bytes before marker 0xd9\n",
      "Training:  33%|██████████████████████████████████████████████▍                                                                                            | 613/1836 [01:35<02:29,  8.17it/s]Warning: unknown JFIF revision number 32.23\n",
      "Training:  48%|███████████████████████████████████████████████████████████████████                                                                        | 886/1836 [02:17<02:02,  7.73it/s]Corrupt JPEG data: 1 extraneous bytes before marker 0xd9\n",
      "Training:  73%|████████████████████████████████████████████████████████████████████████████████████████████████████▍                                     | 1336/1836 [03:26<01:13,  6.76it/s]Corrupt JPEG data: 1 extraneous bytes before marker 0xd9\n",
      "Training:  94%|█████████████████████████████████████████████████████████████████████████████████████████████████████████████████████████████████▋        | 1725/1836 [04:26<00:13,  7.94it/s]Corrupt JPEG data: 1 extraneous bytes before marker 0xd9\n",
      "Training: 100%|██████████████████████████████████████████████████████████████████████████████████████████████████████████████████████████████████████████| 1836/1836 [04:42<00:00,  6.49it/s]\n"
     ]
    },
    {
     "name": "stdout",
     "output_type": "stream",
     "text": [
      "Total Loss  |Smoke Loss  |Fire Loss   \n",
      "------------ ------------ ------------\n",
      "31.217      |19.180      |12.038      \n",
      "\n"
     ]
    },
    {
     "name": "stderr",
     "output_type": "stream",
     "text": [
      "Validating: 100%|██████████████████████████████████████████████████████████████████████████████████████████████████████████████████████████████████████████| 380/380 [00:36<00:00, 10.50it/s]\n"
     ]
    },
    {
     "name": "stdout",
     "output_type": "stream",
     "text": [
      "Total Loss  |Smoke Loss  |Fire Loss   \n",
      "------------ ------------ ------------\n",
      "34.784      |21.296      |13.488      \n",
      "SMOKE -> Precision: 0.8347 - Recall: 0.7982 - Accuracy: 0.8303 - F1: 0.8160\n",
      "FIRE -> Precision: 0.8302 - Recall: 0.9309 - Accuracy: 0.9159 - F1: 0.8777\n",
      "\n",
      "=== EPOCH 75/149 ===\n",
      "Learning Rate = 2.2517998136852506e-05\n",
      "\n"
     ]
    },
    {
     "name": "stderr",
     "output_type": "stream",
     "text": [
      "Training:  12%|████████████████▉                                                                                                                          | 223/1836 [00:35<04:47,  5.61it/s]Corrupt JPEG data: 1 extraneous bytes before marker 0xd9\n",
      "Training:  24%|█████████████████████████████████                                                                                                          | 436/1836 [01:07<03:04,  7.61it/s]Corrupt JPEG data: 1 extraneous bytes before marker 0xd9\n",
      "Training:  58%|████████████████████████████████████████████████████████████████████████████████                                                          | 1065/1836 [02:44<01:35,  8.10it/s]Corrupt JPEG data: 1 extraneous bytes before marker 0xd9\n",
      "Training:  65%|██████████████████████████████████████████████████████████████████████████████████████████▎                                               | 1201/1836 [03:05<01:30,  7.00it/s]Corrupt JPEG data: 1 extraneous bytes before marker 0xd9\n",
      "Training:  75%|███████████████████████████████████████████████████████████████████████████████████████████████████████▊                                  | 1381/1836 [03:33<01:11,  6.36it/s]Warning: unknown JFIF revision number 32.23\n",
      "Training: 100%|██████████████████████████████████████████████████████████████████████████████████████████████████████████████████████████████████████████| 1836/1836 [04:43<00:00,  6.48it/s]\n"
     ]
    },
    {
     "name": "stdout",
     "output_type": "stream",
     "text": [
      "Total Loss  |Smoke Loss  |Fire Loss   \n",
      "------------ ------------ ------------\n",
      "30.871      |18.982      |11.888      \n",
      "\n"
     ]
    },
    {
     "name": "stderr",
     "output_type": "stream",
     "text": [
      "Validating: 100%|██████████████████████████████████████████████████████████████████████████████████████████████████████████████████████████████████████████| 380/380 [00:36<00:00, 10.51it/s]\n"
     ]
    },
    {
     "name": "stdout",
     "output_type": "stream",
     "text": [
      "Total Loss  |Smoke Loss  |Fire Loss   \n",
      "------------ ------------ ------------\n",
      "40.997      |25.004      |15.993      \n",
      "SMOKE -> Precision: 0.8007 - Recall: 0.7255 - Accuracy: 0.7855 - F1: 0.7613\n",
      "FIRE -> Precision: 0.9145 - Recall: 0.7693 - Accuracy: 0.9019 - F1: 0.8356\n",
      "\n",
      "=== EPOCH 76/149 ===\n",
      "Learning Rate = 2.2517998136852506e-05\n",
      "\n"
     ]
    },
    {
     "name": "stderr",
     "output_type": "stream",
     "text": [
      "Training:   8%|███████████▋                                                                                                                               | 155/1836 [00:25<04:35,  6.10it/s]Corrupt JPEG data: 1 extraneous bytes before marker 0xd9\n",
      "Training:  54%|███████████████████████████████████████████████████████████████████████████▏                                                               | 993/1836 [02:34<02:50,  4.96it/s]Corrupt JPEG data: 1 extraneous bytes before marker 0xd9\n",
      "Training:  57%|██████████████████████████████████████████████████████████████████████████████▉                                                           | 1051/1836 [02:43<02:08,  6.12it/s]Corrupt JPEG data: 1 extraneous bytes before marker 0xd9\n",
      "Training:  79%|████████████████████████████████████████████████████████████████████████████████████████████████████████████▋                             | 1446/1836 [03:43<00:49,  7.87it/s]Corrupt JPEG data: 1 extraneous bytes before marker 0xd9\n",
      "Training:  88%|█████████████████████████████████████████████████████████████████████████████████████████████████████████████████████████▌                | 1617/1836 [04:09<00:29,  7.45it/s]Warning: unknown JFIF revision number 32.23\n",
      "Training: 100%|██████████████████████████████████████████████████████████████████████████████████████████████████████████████████████████████████████████| 1836/1836 [04:43<00:00,  6.49it/s]\n"
     ]
    },
    {
     "name": "stdout",
     "output_type": "stream",
     "text": [
      "Total Loss  |Smoke Loss  |Fire Loss   \n",
      "------------ ------------ ------------\n",
      "30.775      |18.878      |11.897      \n",
      "\n"
     ]
    },
    {
     "name": "stderr",
     "output_type": "stream",
     "text": [
      "Validating: 100%|██████████████████████████████████████████████████████████████████████████████████████████████████████████████████████████████████████████| 380/380 [00:36<00:00, 10.50it/s]\n"
     ]
    },
    {
     "name": "stdout",
     "output_type": "stream",
     "text": [
      "Total Loss  |Smoke Loss  |Fire Loss   \n",
      "------------ ------------ ------------\n",
      "37.101      |24.389      |12.712      \n",
      "SMOKE -> Precision: 0.7664 - Recall: 0.8486 - Accuracy: 0.8067 - F1: 0.8054\n",
      "FIRE -> Precision: 0.8646 - Recall: 0.8885 - Accuracy: 0.9187 - F1: 0.8764\n",
      "\n",
      "=== EPOCH 77/149 ===\n",
      "Learning Rate = 2.2517998136852506e-05\n",
      "\n"
     ]
    },
    {
     "name": "stderr",
     "output_type": "stream",
     "text": [
      "Training:   0%|                                                                                                                                                     | 0/1836 [00:00<?, ?it/s]Warning: unknown JFIF revision number 32.23\n",
      "Training:  10%|█████████████▊                                                                                                                             | 182/1836 [00:30<05:52,  4.69it/s]Corrupt JPEG data: 1 extraneous bytes before marker 0xd9\n",
      "Training:  22%|█████████████████████████████▉                                                                                                             | 396/1836 [01:03<03:06,  7.72it/s]Corrupt JPEG data: 1 extraneous bytes before marker 0xd9\n",
      "Training:  28%|██████████████████████████████████████▍                                                                                                    | 508/1836 [01:20<03:15,  6.81it/s]Corrupt JPEG data: 1 extraneous bytes before marker 0xd9\n",
      "Training:  63%|███████████████████████████████████████████████████████████████████████████████████████▏                                                  | 1160/1836 [03:01<01:36,  7.02it/s]Corrupt JPEG data: 1 extraneous bytes before marker 0xd9\n",
      "Training: 100%|██████████████████████████████████████████████████████████████████████████████████████████████████████████████████████████████████████████| 1836/1836 [04:43<00:00,  6.49it/s]\n"
     ]
    },
    {
     "name": "stdout",
     "output_type": "stream",
     "text": [
      "Total Loss  |Smoke Loss  |Fire Loss   \n",
      "------------ ------------ ------------\n",
      "30.802      |19.014      |11.788      \n",
      "\n"
     ]
    },
    {
     "name": "stderr",
     "output_type": "stream",
     "text": [
      "Validating: 100%|██████████████████████████████████████████████████████████████████████████████████████████████████████████████████████████████████████████| 380/380 [00:36<00:00, 10.55it/s]\n"
     ]
    },
    {
     "name": "stdout",
     "output_type": "stream",
     "text": [
      "Total Loss  |Smoke Loss  |Fire Loss   \n",
      "------------ ------------ ------------\n",
      "32.004      |20.969      |11.034      \n",
      "SMOKE -> Precision: 0.8298 - Recall: 0.8126 - Accuracy: 0.8331 - F1: 0.8211\n",
      "FIRE -> Precision: 0.8717 - Recall: 0.9294 - Accuracy: 0.9328 - F1: 0.8996\n",
      "\n",
      "=== EPOCH 78/149 ===\n",
      "Learning Rate = 1.8014398509482006e-05\n",
      "\n"
     ]
    },
    {
     "name": "stderr",
     "output_type": "stream",
     "text": [
      "Training:  38%|████████████████████████████████████████████████████▋                                                                                      | 696/1836 [01:48<02:35,  7.31it/s]Corrupt JPEG data: 1 extraneous bytes before marker 0xd9\n",
      "Training:  58%|████████████████████████████████████████████████████████████████████████████████▌                                                         | 1072/1836 [02:46<02:30,  5.08it/s]Corrupt JPEG data: 1 extraneous bytes before marker 0xd9\n",
      "Training:  73%|████████████████████████████████████████████████████████████████████████████████████████████████████▎                                     | 1334/1836 [03:27<01:03,  7.85it/s]Corrupt JPEG data: 1 extraneous bytes before marker 0xd9\n",
      "Training:  75%|███████████████████████████████████████████████████████████████████████████████████████████████████████▋                                  | 1379/1836 [03:34<01:02,  7.37it/s]Corrupt JPEG data: 1 extraneous bytes before marker 0xd9\n",
      "Training:  89%|██████████████████████████████████████████████████████████████████████████████████████████████████████████████████████████▏               | 1626/1836 [04:13<00:26,  7.83it/s]Warning: unknown JFIF revision number 32.23\n",
      "Training: 100%|██████████████████████████████████████████████████████████████████████████████████████████████████████████████████████████████████████████| 1836/1836 [04:44<00:00,  6.45it/s]\n"
     ]
    },
    {
     "name": "stdout",
     "output_type": "stream",
     "text": [
      "Total Loss  |Smoke Loss  |Fire Loss   \n",
      "------------ ------------ ------------\n",
      "30.442      |18.706      |11.736      \n",
      "\n"
     ]
    },
    {
     "name": "stderr",
     "output_type": "stream",
     "text": [
      "Validating: 100%|██████████████████████████████████████████████████████████████████████████████████████████████████████████████████████████████████████████| 380/380 [00:36<00:00, 10.50it/s]\n"
     ]
    },
    {
     "name": "stdout",
     "output_type": "stream",
     "text": [
      "Total Loss  |Smoke Loss  |Fire Loss   \n",
      "------------ ------------ ------------\n",
      "45.166      |31.446      |13.720      \n",
      "SMOKE -> Precision: 0.9632 - Recall: 0.3177 - Accuracy: 0.6726 - F1: 0.4778\n",
      "FIRE -> Precision: 0.9574 - Recall: 0.7745 - Accuracy: 0.9157 - F1: 0.8563\n",
      "\n",
      "=== EPOCH 79/149 ===\n",
      "Learning Rate = 1.8014398509482006e-05\n",
      "\n"
     ]
    },
    {
     "name": "stderr",
     "output_type": "stream",
     "text": [
      "Training:   0%|▋                                                                                                                                            | 9/1836 [00:02<05:31,  5.51it/s]Warning: unknown JFIF revision number 32.23\n",
      "Training:  18%|████████████████████████▊                                                                                                                  | 328/1836 [00:52<03:35,  7.00it/s]Corrupt JPEG data: 1 extraneous bytes before marker 0xd9\n",
      "Training:  49%|███████████████████████████████████████████████████████████████████▉                                                                       | 898/1836 [02:19<02:56,  5.31it/s]Corrupt JPEG data: 1 extraneous bytes before marker 0xd9\n",
      "Training:  71%|█████████████████████████████████████████████████████████████████████████████████████████████████▊                                        | 1302/1836 [03:21<01:22,  6.51it/s]Corrupt JPEG data: 1 extraneous bytes before marker 0xd9\n",
      "Training:  97%|██████████████████████████████████████████████████████████████████████████████████████████████████████████████████████████████████████▍   | 1789/1836 [04:36<00:06,  7.19it/s]Corrupt JPEG data: 1 extraneous bytes before marker 0xd9\n",
      "Training: 100%|██████████████████████████████████████████████████████████████████████████████████████████████████████████████████████████████████████████| 1836/1836 [04:43<00:00,  6.48it/s]\n"
     ]
    },
    {
     "name": "stdout",
     "output_type": "stream",
     "text": [
      "Total Loss  |Smoke Loss  |Fire Loss   \n",
      "------------ ------------ ------------\n",
      "30.326      |18.656      |11.670      \n",
      "\n"
     ]
    },
    {
     "name": "stderr",
     "output_type": "stream",
     "text": [
      "Validating: 100%|██████████████████████████████████████████████████████████████████████████████████████████████████████████████████████████████████████████| 380/380 [00:36<00:00, 10.54it/s]\n"
     ]
    },
    {
     "name": "stdout",
     "output_type": "stream",
     "text": [
      "Total Loss  |Smoke Loss  |Fire Loss   \n",
      "------------ ------------ ------------\n",
      "29.551      |18.988      |10.563      \n",
      "SMOKE -> Precision: 0.9300 - Recall: 0.7287 - Accuracy: 0.8463 - F1: 0.8172\n",
      "FIRE -> Precision: 0.9352 - Recall: 0.8636 - Accuracy: 0.9364 - F1: 0.8980\n",
      "\n",
      "Saving model with new best validation loss: 29.5508\n",
      "Model exported to ONNX: experiments_resnet/test_v03__w1a1__DEEP_Resnet__clip_convs_Linear4ReLU__400k_full_ds/onnx/BNN_BED_classifier__best_loss\n",
      "\n",
      "=== EPOCH 80/149 ===\n",
      "Learning Rate = 1.8014398509482006e-05\n",
      "\n"
     ]
    },
    {
     "name": "stderr",
     "output_type": "stream",
     "text": [
      "Training:   4%|██████                                                                                                                                      | 80/1836 [00:13<03:35,  8.15it/s]Warning: unknown JFIF revision number 32.23\n",
      "Training:  44%|████████████████████████████████████████████████████████████▌                                                                              | 800/1836 [02:04<02:20,  7.40it/s]Corrupt JPEG data: 1 extraneous bytes before marker 0xd9\n",
      "Training:  53%|█████████████████████████████████████████████████████████████████████████▌                                                                 | 971/1836 [02:30<01:51,  7.74it/s]Corrupt JPEG data: 1 extraneous bytes before marker 0xd9\n",
      "Training:  54%|███████████████████████████████████████████████████████████████████████████▎                                                               | 994/1836 [02:33<02:13,  6.29it/s]Corrupt JPEG data: 1 extraneous bytes before marker 0xd9\n",
      "Training:  78%|████████████████████████████████████████████████████████████████████████████████████████████████████████████▎                             | 1441/1836 [03:42<00:55,  7.09it/s]Corrupt JPEG data: 1 extraneous bytes before marker 0xd9\n",
      "Training: 100%|██████████████████████████████████████████████████████████████████████████████████████████████████████████████████████████████████████████| 1836/1836 [04:44<00:00,  6.46it/s]\n"
     ]
    },
    {
     "name": "stdout",
     "output_type": "stream",
     "text": [
      "Total Loss  |Smoke Loss  |Fire Loss   \n",
      "------------ ------------ ------------\n",
      "30.811      |18.964      |11.847      \n",
      "\n"
     ]
    },
    {
     "name": "stderr",
     "output_type": "stream",
     "text": [
      "Validating: 100%|██████████████████████████████████████████████████████████████████████████████████████████████████████████████████████████████████████████| 380/380 [00:36<00:00, 10.46it/s]\n"
     ]
    },
    {
     "name": "stdout",
     "output_type": "stream",
     "text": [
      "Total Loss  |Smoke Loss  |Fire Loss   \n",
      "------------ ------------ ------------\n",
      "29.425      |18.815      |10.611      \n",
      "SMOKE -> Precision: 0.8949 - Recall: 0.7529 - Accuracy: 0.8418 - F1: 0.8178\n",
      "FIRE -> Precision: 0.9339 - Recall: 0.8714 - Accuracy: 0.9383 - F1: 0.9016\n",
      "\n",
      "Saving model with new best validation loss: 29.4254\n",
      "Model exported to ONNX: experiments_resnet/test_v03__w1a1__DEEP_Resnet__clip_convs_Linear4ReLU__400k_full_ds/onnx/BNN_BED_classifier__best_loss\n",
      "\n",
      "=== EPOCH 81/149 ===\n",
      "Learning Rate = 1.8014398509482006e-05\n",
      "\n"
     ]
    },
    {
     "name": "stderr",
     "output_type": "stream",
     "text": [
      "Training:  22%|█████████████████████████████▉                                                                                                             | 396/1836 [01:02<03:27,  6.93it/s]Corrupt JPEG data: 1 extraneous bytes before marker 0xd9\n",
      "Training:  47%|████████████████████████████████████████████████████████████████▋                                                                          | 854/1836 [02:13<02:20,  7.00it/s]Warning: unknown JFIF revision number 32.23\n",
      "Training:  47%|█████████████████████████████████████████████████████████████████▋                                                                         | 868/1836 [02:15<02:29,  6.49it/s]Corrupt JPEG data: 1 extraneous bytes before marker 0xd9\n",
      "Training:  56%|█████████████████████████████████████████████████████████████████████████████▌                                                            | 1032/1836 [02:40<01:52,  7.13it/s]Corrupt JPEG data: 1 extraneous bytes before marker 0xd9\n",
      "Training:  74%|█████████████████████████████████████████████████████████████████████████████████████████████████████▍                                    | 1350/1836 [03:29<01:02,  7.80it/s]Corrupt JPEG data: 1 extraneous bytes before marker 0xd9\n",
      "Training: 100%|██████████████████████████████████████████████████████████████████████████████████████████████████████████████████████████████████████████| 1836/1836 [04:43<00:00,  6.47it/s]\n"
     ]
    },
    {
     "name": "stdout",
     "output_type": "stream",
     "text": [
      "Total Loss  |Smoke Loss  |Fire Loss   \n",
      "------------ ------------ ------------\n",
      "31.003      |18.963      |12.040      \n",
      "\n"
     ]
    },
    {
     "name": "stderr",
     "output_type": "stream",
     "text": [
      "Validating: 100%|██████████████████████████████████████████████████████████████████████████████████████████████████████████████████████████████████████████| 380/380 [00:36<00:00, 10.51it/s]\n"
     ]
    },
    {
     "name": "stdout",
     "output_type": "stream",
     "text": [
      "Total Loss  |Smoke Loss  |Fire Loss   \n",
      "------------ ------------ ------------\n",
      "35.935      |22.859      |13.076      \n",
      "SMOKE -> Precision: 0.7906 - Recall: 0.8395 - Accuracy: 0.8195 - F1: 0.8143\n",
      "FIRE -> Precision: 0.8458 - Recall: 0.9286 - Accuracy: 0.9220 - F1: 0.8852\n",
      "\n",
      "=== EPOCH 82/149 ===\n",
      "Learning Rate = 1.8014398509482006e-05\n",
      "\n"
     ]
    },
    {
     "name": "stderr",
     "output_type": "stream",
     "text": [
      "Training:   2%|██▎                                                                                                                                         | 30/1836 [00:06<05:08,  5.86it/s]Corrupt JPEG data: 1 extraneous bytes before marker 0xd9\n",
      "Training:  43%|███████████████████████████████████████████████████████████▉                                                                               | 791/1836 [02:02<03:30,  4.96it/s]Corrupt JPEG data: 1 extraneous bytes before marker 0xd9\n",
      "Training:  56%|█████████████████████████████████████████████████████████████████████████████                                                             | 1026/1836 [02:38<01:50,  7.35it/s]Corrupt JPEG data: 1 extraneous bytes before marker 0xd9\n",
      "Training:  65%|█████████████████████████████████████████████████████████████████████████████████████████▋                                                | 1194/1836 [03:04<01:42,  6.27it/s]Warning: unknown JFIF revision number 32.23\n",
      "Training:  84%|███████████████████████████████████████████████████████████████████████████████████████████████████████████████████▎                      | 1534/1836 [03:56<00:48,  6.25it/s]Corrupt JPEG data: 1 extraneous bytes before marker 0xd9\n",
      "Training: 100%|██████████████████████████████████████████████████████████████████████████████████████████████████████████████████████████████████████████| 1836/1836 [04:42<00:00,  6.51it/s]\n"
     ]
    },
    {
     "name": "stdout",
     "output_type": "stream",
     "text": [
      "Total Loss  |Smoke Loss  |Fire Loss   \n",
      "------------ ------------ ------------\n",
      "30.899      |18.989      |11.909      \n",
      "\n"
     ]
    },
    {
     "name": "stderr",
     "output_type": "stream",
     "text": [
      "Validating: 100%|██████████████████████████████████████████████████████████████████████████████████████████████████████████████████████████████████████████| 380/380 [00:36<00:00, 10.53it/s]\n"
     ]
    },
    {
     "name": "stdout",
     "output_type": "stream",
     "text": [
      "Total Loss  |Smoke Loss  |Fire Loss   \n",
      "------------ ------------ ------------\n",
      "53.864      |34.755      |19.109      \n",
      "SMOKE -> Precision: 0.9821 - Recall: 0.3355 - Accuracy: 0.6838 - F1: 0.5001\n",
      "FIRE -> Precision: 0.9565 - Recall: 0.6918 - Accuracy: 0.8899 - F1: 0.8029\n",
      "\n",
      "=== EPOCH 83/149 ===\n",
      "Learning Rate = 1.8014398509482006e-05\n",
      "\n"
     ]
    },
    {
     "name": "stderr",
     "output_type": "stream",
     "text": [
      "Training:   3%|████▌                                                                                                                                       | 60/1836 [00:11<09:22,  3.16it/s]Corrupt JPEG data: 1 extraneous bytes before marker 0xd9\n",
      "Training:  26%|████████████████████████████████████▍                                                                                                      | 481/1836 [01:15<03:00,  7.52it/s]Warning: unknown JFIF revision number 32.23\n",
      "Training:  40%|████████████████████████████████████████████████████████▏                                                                                  | 742/1836 [01:55<02:32,  7.16it/s]Corrupt JPEG data: 1 extraneous bytes before marker 0xd9\n",
      "Training:  73%|████████████████████████████████████████████████████████████████████████████████████████████████████▎                                     | 1335/1836 [03:25<01:10,  7.08it/s]Corrupt JPEG data: 1 extraneous bytes before marker 0xd9\n",
      "Training:  90%|███████████████████████████████████████████████████████████████████████████████████████████████████████████████████████████▊              | 1648/1836 [04:13<00:26,  7.02it/s]Corrupt JPEG data: 1 extraneous bytes before marker 0xd9\n",
      "Training: 100%|██████████████████████████████████████████████████████████████████████████████████████████████████████████████████████████████████████████| 1836/1836 [04:41<00:00,  6.51it/s]\n"
     ]
    },
    {
     "name": "stdout",
     "output_type": "stream",
     "text": [
      "Total Loss  |Smoke Loss  |Fire Loss   \n",
      "------------ ------------ ------------\n",
      "31.010      |19.029      |11.981      \n",
      "\n"
     ]
    },
    {
     "name": "stderr",
     "output_type": "stream",
     "text": [
      "Validating: 100%|██████████████████████████████████████████████████████████████████████████████████████████████████████████████████████████████████████████| 380/380 [00:36<00:00, 10.46it/s]\n"
     ]
    },
    {
     "name": "stdout",
     "output_type": "stream",
     "text": [
      "Total Loss  |Smoke Loss  |Fire Loss   \n",
      "------------ ------------ ------------\n",
      "73.254      |32.899      |40.355      \n",
      "SMOKE -> Precision: 0.7390 - Recall: 0.8643 - Accuracy: 0.7921 - F1: 0.7968\n",
      "FIRE -> Precision: 0.9068 - Recall: 0.6149 - Accuracy: 0.8547 - F1: 0.7329\n",
      "\n",
      "=== EPOCH 84/149 ===\n",
      "Learning Rate = 1.4411518807585605e-05\n",
      "\n"
     ]
    },
    {
     "name": "stderr",
     "output_type": "stream",
     "text": [
      "Training:   0%|                                                                                                                                                     | 0/1836 [00:00<?, ?it/s]Corrupt JPEG data: 1 extraneous bytes before marker 0xd9\n",
      "Training:  60%|██████████████████████████████████████████████████████████████████████████████████▏                                                       | 1093/1836 [02:50<01:38,  7.56it/s]Corrupt JPEG data: 1 extraneous bytes before marker 0xd9\n",
      "Training:  66%|███████████████████████████████████████████████████████████████████████████████████████████▏                                              | 1214/1836 [03:08<01:30,  6.86it/s]Corrupt JPEG data: 1 extraneous bytes before marker 0xd9\n",
      "Training:  81%|███████████████████████████████████████████████████████████████████████████████████████████████████████████████▍                          | 1482/1836 [03:50<00:48,  7.30it/s]Warning: unknown JFIF revision number 32.23\n",
      "Training:  94%|█████████████████████████████████████████████████████████████████████████████████████████████████████████████████████████████████▎        | 1720/1836 [04:26<00:20,  5.59it/s]Corrupt JPEG data: 1 extraneous bytes before marker 0xd9\n",
      "Training: 100%|██████████████████████████████████████████████████████████████████████████████████████████████████████████████████████████████████████████| 1836/1836 [04:43<00:00,  6.47it/s]\n"
     ]
    },
    {
     "name": "stdout",
     "output_type": "stream",
     "text": [
      "Total Loss  |Smoke Loss  |Fire Loss   \n",
      "------------ ------------ ------------\n",
      "30.616      |18.874      |11.742      \n",
      "\n"
     ]
    },
    {
     "name": "stderr",
     "output_type": "stream",
     "text": [
      "Validating: 100%|██████████████████████████████████████████████████████████████████████████████████████████████████████████████████████████████████████████| 380/380 [00:36<00:00, 10.53it/s]\n"
     ]
    },
    {
     "name": "stdout",
     "output_type": "stream",
     "text": [
      "Total Loss  |Smoke Loss  |Fire Loss   \n",
      "------------ ------------ ------------\n",
      "30.301      |19.655      |10.645      \n",
      "SMOKE -> Precision: 0.8701 - Recall: 0.7809 - Accuracy: 0.8417 - F1: 0.8231\n",
      "FIRE -> Precision: 0.9041 - Recall: 0.8994 - Accuracy: 0.9365 - F1: 0.9018\n",
      "\n",
      "=== EPOCH 85/149 ===\n",
      "Learning Rate = 1.4411518807585605e-05\n",
      "\n"
     ]
    },
    {
     "name": "stderr",
     "output_type": "stream",
     "text": [
      "Training:  25%|██████████████████████████████████▋                                                                                                        | 458/1836 [01:12<03:26,  6.66it/s]Corrupt JPEG data: 1 extraneous bytes before marker 0xd9\n",
      "Training:  39%|██████████████████████████████████████████████████████▎                                                                                    | 717/1836 [01:52<02:20,  7.94it/s]Corrupt JPEG data: 1 extraneous bytes before marker 0xd9\n",
      "Training:  44%|████████████████████████████████████████████████████████████▋                                                                              | 801/1836 [02:05<02:17,  7.50it/s]Corrupt JPEG data: 1 extraneous bytes before marker 0xd9\n",
      "Training:  66%|███████████████████████████████████████████████████████████████████████████████████████████▌                                              | 1219/1836 [03:10<01:16,  8.09it/s]Warning: unknown JFIF revision number 32.23\n",
      "Training:  93%|████████████████████████████████████████████████████████████████████████████████████████████████████████████████████████████████▏         | 1706/1836 [04:23<00:23,  5.58it/s]Corrupt JPEG data: 1 extraneous bytes before marker 0xd9\n",
      "Training: 100%|██████████████████████████████████████████████████████████████████████████████████████████████████████████████████████████████████████████| 1836/1836 [04:43<00:00,  6.48it/s]\n"
     ]
    },
    {
     "name": "stdout",
     "output_type": "stream",
     "text": [
      "Total Loss  |Smoke Loss  |Fire Loss   \n",
      "------------ ------------ ------------\n",
      "30.544      |18.869      |11.675      \n",
      "\n"
     ]
    },
    {
     "name": "stderr",
     "output_type": "stream",
     "text": [
      "Validating: 100%|██████████████████████████████████████████████████████████████████████████████████████████████████████████████████████████████████████████| 380/380 [00:36<00:00, 10.50it/s]\n"
     ]
    },
    {
     "name": "stdout",
     "output_type": "stream",
     "text": [
      "Total Loss  |Smoke Loss  |Fire Loss   \n",
      "------------ ------------ ------------\n",
      "32.392      |20.989      |11.403      \n",
      "SMOKE -> Precision: 0.8353 - Recall: 0.7955 - Accuracy: 0.8296 - F1: 0.8149\n",
      "FIRE -> Precision: 0.9004 - Recall: 0.8837 - Accuracy: 0.9306 - F1: 0.8919\n",
      "\n",
      "=== EPOCH 86/149 ===\n",
      "Learning Rate = 1.4411518807585605e-05\n",
      "\n"
     ]
    },
    {
     "name": "stderr",
     "output_type": "stream",
     "text": [
      "Training:  16%|██████████████████████▊                                                                                                                    | 301/1836 [00:47<03:14,  7.89it/s]Corrupt JPEG data: 1 extraneous bytes before marker 0xd9\n",
      "Training:  26%|████████████████████████████████████                                                                                                       | 477/1836 [01:15<02:59,  7.57it/s]Corrupt JPEG data: 1 extraneous bytes before marker 0xd9\n",
      "Training:  61%|████████████████████████████████████████████████████████████████████████████████████▊                                                     | 1129/1836 [02:56<01:51,  6.34it/s]Corrupt JPEG data: 1 extraneous bytes before marker 0xd9\n",
      "Training:  63%|███████████████████████████████████████████████████████████████████████████████████████▍                                                  | 1164/1836 [03:01<01:26,  7.73it/s]Corrupt JPEG data: 1 extraneous bytes before marker 0xd9\n",
      "Training:  73%|████████████████████████████████████████████████████████████████████████████████████████████████████                                      | 1332/1836 [03:27<01:03,  7.94it/s]Warning: unknown JFIF revision number 32.23\n",
      "Training: 100%|██████████████████████████████████████████████████████████████████████████████████████████████████████████████████████████████████████████| 1836/1836 [04:45<00:00,  6.43it/s]\n"
     ]
    },
    {
     "name": "stdout",
     "output_type": "stream",
     "text": [
      "Total Loss  |Smoke Loss  |Fire Loss   \n",
      "------------ ------------ ------------\n",
      "30.461      |18.785      |11.676      \n",
      "\n"
     ]
    },
    {
     "name": "stderr",
     "output_type": "stream",
     "text": [
      "Validating: 100%|██████████████████████████████████████████████████████████████████████████████████████████████████████████████████████████████████████████| 380/380 [00:36<00:00, 10.54it/s]\n"
     ]
    },
    {
     "name": "stdout",
     "output_type": "stream",
     "text": [
      "Total Loss  |Smoke Loss  |Fire Loss   \n",
      "------------ ------------ ------------\n",
      "34.081      |22.944      |11.137      \n",
      "SMOKE -> Precision: 0.9428 - Recall: 0.6153 - Accuracy: 0.8010 - F1: 0.7446\n",
      "FIRE -> Precision: 0.9274 - Recall: 0.8687 - Accuracy: 0.9354 - F1: 0.8971\n",
      "\n",
      "=== EPOCH 87/149 ===\n",
      "Learning Rate = 1.1529215046068485e-05\n",
      "\n"
     ]
    },
    {
     "name": "stderr",
     "output_type": "stream",
     "text": [
      "Training:  14%|███████████████████▌                                                                                                                       | 259/1836 [00:42<04:18,  6.11it/s]Corrupt JPEG data: 1 extraneous bytes before marker 0xd9\n",
      "Training:  28%|██████████████████████████████████████▎                                                                                                    | 506/1836 [01:20<02:48,  7.91it/s]Warning: unknown JFIF revision number 32.23\n",
      "Training:  52%|███████████████████████████████████████████████████████████████████████▊                                                                   | 949/1836 [02:30<02:02,  7.26it/s]Corrupt JPEG data: 1 extraneous bytes before marker 0xd9\n",
      "Training:  70%|████████████████████████████████████████████████████████████████████████████████████████████████▏                                         | 1280/1836 [03:22<01:25,  6.53it/s]Corrupt JPEG data: 1 extraneous bytes before marker 0xd9\n",
      "Training:  79%|█████████████████████████████████████████████████████████████████████████████████████████████████████████████▏                            | 1452/1836 [03:48<00:48,  7.99it/s]Corrupt JPEG data: 1 extraneous bytes before marker 0xd9\n",
      "Training: 100%|██████████████████████████████████████████████████████████████████████████████████████████████████████████████████████████████████████████| 1836/1836 [04:47<00:00,  6.39it/s]\n"
     ]
    },
    {
     "name": "stdout",
     "output_type": "stream",
     "text": [
      "Total Loss  |Smoke Loss  |Fire Loss   \n",
      "------------ ------------ ------------\n",
      "30.222      |18.683      |11.539      \n",
      "\n"
     ]
    },
    {
     "name": "stderr",
     "output_type": "stream",
     "text": [
      "Validating: 100%|██████████████████████████████████████████████████████████████████████████████████████████████████████████████████████████████████████████| 380/380 [00:36<00:00, 10.51it/s]\n"
     ]
    },
    {
     "name": "stdout",
     "output_type": "stream",
     "text": [
      "Total Loss  |Smoke Loss  |Fire Loss   \n",
      "------------ ------------ ------------\n",
      "43.286      |27.571      |15.716      \n",
      "SMOKE -> Precision: 0.7184 - Recall: 0.8392 - Accuracy: 0.7691 - F1: 0.7741\n",
      "FIRE -> Precision: 0.9275 - Recall: 0.8063 - Accuracy: 0.9168 - F1: 0.8627\n",
      "\n",
      "=== EPOCH 88/149 ===\n",
      "Learning Rate = 1.1529215046068485e-05\n",
      "\n"
     ]
    },
    {
     "name": "stderr",
     "output_type": "stream",
     "text": [
      "Training:  10%|██████████████▌                                                                                                                            | 192/1836 [00:31<03:52,  7.06it/s]Corrupt JPEG data: 1 extraneous bytes before marker 0xd9\n",
      "Training:  25%|██████████████████████████████████▊                                                                                                        | 459/1836 [01:13<03:07,  7.33it/s]Corrupt JPEG data: 1 extraneous bytes before marker 0xd9\n",
      "Training:  26%|████████████████████████████████████▋                                                                                                      | 485/1836 [01:18<05:47,  3.89it/s]Corrupt JPEG data: 1 extraneous bytes before marker 0xd9\n",
      "Training:  28%|██████████████████████████████████████▊                                                                                                    | 513/1836 [01:22<03:06,  7.10it/s]Warning: unknown JFIF revision number 32.23\n",
      "Training:  55%|███████████████████████████████████████████████████████████████████████████▌                                                              | 1006/1836 [02:43<02:16,  6.10it/s]Corrupt JPEG data: 1 extraneous bytes before marker 0xd9\n",
      "Training: 100%|██████████████████████████████████████████████████████████████████████████████████████████████████████████████████████████████████████████| 1836/1836 [04:54<00:00,  6.24it/s]\n"
     ]
    },
    {
     "name": "stdout",
     "output_type": "stream",
     "text": [
      "Total Loss  |Smoke Loss  |Fire Loss   \n",
      "------------ ------------ ------------\n",
      "30.382      |18.678      |11.704      \n",
      "\n"
     ]
    },
    {
     "name": "stderr",
     "output_type": "stream",
     "text": [
      "Validating: 100%|██████████████████████████████████████████████████████████████████████████████████████████████████████████████████████████████████████████| 380/380 [00:36<00:00, 10.45it/s]\n"
     ]
    },
    {
     "name": "stdout",
     "output_type": "stream",
     "text": [
      "Total Loss  |Smoke Loss  |Fire Loss   \n",
      "------------ ------------ ------------\n",
      "32.377      |20.305      |12.072      \n",
      "SMOKE -> Precision: 0.8451 - Recall: 0.8212 - Accuracy: 0.8447 - F1: 0.8330\n",
      "FIRE -> Precision: 0.8644 - Recall: 0.9093 - Accuracy: 0.9243 - F1: 0.8863\n",
      "\n",
      "=== EPOCH 89/149 ===\n",
      "Learning Rate = 1.1529215046068485e-05\n",
      "\n"
     ]
    },
    {
     "name": "stderr",
     "output_type": "stream",
     "text": [
      "Training:  64%|████████████████████████████████████████████████████████████████████████████████████████▌                                                 | 1179/1836 [03:14<01:36,  6.81it/s]Warning: unknown JFIF revision number 32.23\n",
      "Training:  73%|█████████████████████████████████████████████████████████████████████████████████████████████████████▎                                    | 1348/1836 [03:43<02:01,  4.03it/s]Corrupt JPEG data: 1 extraneous bytes before marker 0xd9\n",
      "Training:  77%|██████████████████████████████████████████████████████████████████████████████████████████████████████████▏                               | 1413/1836 [03:53<00:53,  7.87it/s]Corrupt JPEG data: 1 extraneous bytes before marker 0xd9\n",
      "Training:  79%|████████████████████████████████████████████████████████████████████████████████████████████████████████████▊                             | 1448/1836 [03:59<01:05,  5.88it/s]Corrupt JPEG data: 1 extraneous bytes before marker 0xd9\n",
      "Training:  85%|████████████████████████████████████████████████████████████████████████████████████████████████████████████████████▋                     | 1552/1836 [04:17<00:43,  6.60it/s]Corrupt JPEG data: 1 extraneous bytes before marker 0xd9\n",
      "Training: 100%|██████████████████████████████████████████████████████████████████████████████████████████████████████████████████████████████████████████| 1836/1836 [05:05<00:00,  6.00it/s]\n"
     ]
    },
    {
     "name": "stdout",
     "output_type": "stream",
     "text": [
      "Total Loss  |Smoke Loss  |Fire Loss   \n",
      "------------ ------------ ------------\n",
      "30.437      |18.730      |11.707      \n",
      "\n"
     ]
    },
    {
     "name": "stderr",
     "output_type": "stream",
     "text": [
      "Validating: 100%|██████████████████████████████████████████████████████████████████████████████████████████████████████████████████████████████████████████| 380/380 [00:36<00:00, 10.45it/s]\n"
     ]
    },
    {
     "name": "stdout",
     "output_type": "stream",
     "text": [
      "Total Loss  |Smoke Loss  |Fire Loss   \n",
      "------------ ------------ ------------\n",
      "83.675      |41.877      |41.798      \n",
      "SMOKE -> Precision: 0.9963 - Recall: 0.1186 - Accuracy: 0.5843 - F1: 0.2120\n",
      "FIRE -> Precision: 0.9870 - Recall: 0.2697 - Accuracy: 0.7621 - F1: 0.4236\n",
      "\n",
      "=== EPOCH 90/149 ===\n",
      "Learning Rate = 9.223372036854789e-06\n",
      "\n"
     ]
    },
    {
     "name": "stderr",
     "output_type": "stream",
     "text": [
      "Training:  11%|██████████████▊                                                                                                                            | 195/1836 [00:34<04:58,  5.50it/s]Corrupt JPEG data: 1 extraneous bytes before marker 0xd9\n",
      "Training:  35%|█████████████████████████████████████████████████                                                                                          | 648/1836 [01:50<02:44,  7.22it/s]Warning: unknown JFIF revision number 32.23\n",
      "Training:  58%|████████████████████████████████████████████████████████████████████████████████▍                                                         | 1070/1836 [02:59<02:05,  6.10it/s]Corrupt JPEG data: 1 extraneous bytes before marker 0xd9\n",
      "Training:  75%|██████████████████████████████████████████████████████████████████████████████████████████████████████▉                                   | 1369/1836 [03:48<01:03,  7.37it/s]Corrupt JPEG data: 1 extraneous bytes before marker 0xd9\n",
      "Training:  81%|████████████████████████████████████████████████████████████████████████████████████████████████████████████████▍                         | 1496/1836 [04:09<00:50,  6.69it/s]Corrupt JPEG data: 1 extraneous bytes before marker 0xd9\n",
      "Training: 100%|██████████████████████████████████████████████████████████████████████████████████████████████████████████████████████████████████████████| 1836/1836 [05:05<00:00,  6.00it/s]\n"
     ]
    },
    {
     "name": "stdout",
     "output_type": "stream",
     "text": [
      "Total Loss  |Smoke Loss  |Fire Loss   \n",
      "------------ ------------ ------------\n",
      "30.188      |18.586      |11.602      \n",
      "\n"
     ]
    },
    {
     "name": "stderr",
     "output_type": "stream",
     "text": [
      "Validating: 100%|██████████████████████████████████████████████████████████████████████████████████████████████████████████████████████████████████████████| 380/380 [00:36<00:00, 10.38it/s]\n"
     ]
    },
    {
     "name": "stdout",
     "output_type": "stream",
     "text": [
      "Total Loss  |Smoke Loss  |Fire Loss   \n",
      "------------ ------------ ------------\n",
      "28.353      |19.038      |9.315       \n",
      "SMOKE -> Precision: 0.8759 - Recall: 0.7858 - Accuracy: 0.8465 - F1: 0.8284\n",
      "FIRE -> Precision: 0.9302 - Recall: 0.9028 - Accuracy: 0.9465 - F1: 0.9163\n",
      "\n",
      "Saving model with new best validation loss: 28.3531\n",
      "Model exported to ONNX: experiments_resnet/test_v03__w1a1__DEEP_Resnet__clip_convs_Linear4ReLU__400k_full_ds/onnx/BNN_BED_classifier__best_loss\n",
      "Saving model with best Mean F1: 0.8724\n",
      "Model exported to ONNX: experiments_resnet/test_v03__w1a1__DEEP_Resnet__clip_convs_Linear4ReLU__400k_full_ds/onnx/BNN_BED_classifier__best_mean_F1\n",
      "\n",
      "=== EPOCH 91/149 ===\n",
      "Learning Rate = 9.223372036854789e-06\n",
      "\n"
     ]
    },
    {
     "name": "stderr",
     "output_type": "stream",
     "text": [
      "Training:   6%|████████                                                                                                                                   | 107/1836 [00:19<04:30,  6.38it/s]Corrupt JPEG data: 1 extraneous bytes before marker 0xd9\n",
      "Training:  23%|███████████████████████████████▉                                                                                                           | 422/1836 [01:12<03:24,  6.91it/s]Corrupt JPEG data: 1 extraneous bytes before marker 0xd9\n",
      "Training:  44%|████████████████████████████████████████████████████████████▌                                                                              | 800/1836 [02:16<02:27,  7.00it/s]Corrupt JPEG data: 1 extraneous bytes before marker 0xd9\n",
      "Training:  79%|████████████████████████████████████████████████████████████████████████████████████████████████████████████▊                             | 1448/1836 [04:01<00:53,  7.23it/s]Warning: unknown JFIF revision number 32.23\n",
      "Training:  79%|█████████████████████████████████████████████████████████████████████████████████████████████████████████████▎                            | 1454/1836 [04:02<01:25,  4.48it/s]Corrupt JPEG data: 1 extraneous bytes before marker 0xd9\n",
      "Training: 100%|██████████████████████████████████████████████████████████████████████████████████████████████████████████████████████████████████████████| 1836/1836 [05:06<00:00,  5.99it/s]\n"
     ]
    },
    {
     "name": "stdout",
     "output_type": "stream",
     "text": [
      "Total Loss  |Smoke Loss  |Fire Loss   \n",
      "------------ ------------ ------------\n",
      "30.177      |18.530      |11.647      \n",
      "\n"
     ]
    },
    {
     "name": "stderr",
     "output_type": "stream",
     "text": [
      "Validating: 100%|██████████████████████████████████████████████████████████████████████████████████████████████████████████████████████████████████████████| 380/380 [00:36<00:00, 10.39it/s]\n"
     ]
    },
    {
     "name": "stdout",
     "output_type": "stream",
     "text": [
      "Total Loss  |Smoke Loss  |Fire Loss   \n",
      "------------ ------------ ------------\n",
      "37.589      |25.193      |12.396      \n",
      "SMOKE -> Precision: 0.7652 - Recall: 0.8147 - Accuracy: 0.7948 - F1: 0.7892\n",
      "FIRE -> Precision: 0.8609 - Recall: 0.9046 - Accuracy: 0.9217 - F1: 0.8822\n",
      "\n",
      "=== EPOCH 92/149 ===\n",
      "Learning Rate = 9.223372036854789e-06\n",
      "\n"
     ]
    },
    {
     "name": "stderr",
     "output_type": "stream",
     "text": [
      "Training:  13%|█████████████████▊                                                                                                                         | 235/1836 [00:41<03:47,  7.03it/s]Corrupt JPEG data: 1 extraneous bytes before marker 0xd9\n",
      "Training:  27%|█████████████████████████████████████                                                                                                      | 490/1836 [01:24<03:02,  7.39it/s]Warning: unknown JFIF revision number 32.23\n",
      "Training:  44%|█████████████████████████████████████████████████████████████▌                                                                             | 813/1836 [02:16<02:39,  6.40it/s]Corrupt JPEG data: 1 extraneous bytes before marker 0xd9\n",
      "Training:  79%|████████████████████████████████████████████████████████████████████████████████████████████████████████████▌                             | 1445/1836 [04:02<00:49,  7.96it/s]Corrupt JPEG data: 1 extraneous bytes before marker 0xd9\n",
      "Training:  84%|███████████████████████████████████████████████████████████████████████████████████████████████████████████████████▌                      | 1538/1836 [04:16<00:38,  7.71it/s]Corrupt JPEG data: 1 extraneous bytes before marker 0xd9\n",
      "Training: 100%|██████████████████████████████████████████████████████████████████████████████████████████████████████████████████████████████████████████| 1836/1836 [05:05<00:00,  6.00it/s]\n"
     ]
    },
    {
     "name": "stdout",
     "output_type": "stream",
     "text": [
      "Total Loss  |Smoke Loss  |Fire Loss   \n",
      "------------ ------------ ------------\n",
      "30.338      |18.669      |11.669      \n",
      "\n"
     ]
    },
    {
     "name": "stderr",
     "output_type": "stream",
     "text": [
      "Validating: 100%|██████████████████████████████████████████████████████████████████████████████████████████████████████████████████████████████████████████| 380/380 [00:36<00:00, 10.50it/s]\n"
     ]
    },
    {
     "name": "stdout",
     "output_type": "stream",
     "text": [
      "Total Loss  |Smoke Loss  |Fire Loss   \n",
      "------------ ------------ ------------\n",
      "29.962      |19.103      |10.859      \n",
      "SMOKE -> Precision: 0.9058 - Recall: 0.7415 - Accuracy: 0.8418 - F1: 0.8154\n",
      "FIRE -> Precision: 0.9090 - Recall: 0.8853 - Accuracy: 0.9341 - F1: 0.8970\n",
      "\n",
      "=== EPOCH 93/149 ===\n",
      "Learning Rate = 9.223372036854789e-06\n",
      "\n"
     ]
    },
    {
     "name": "stderr",
     "output_type": "stream",
     "text": [
      "Training:  27%|█████████████████████████████████████▉                                                                                                     | 501/1836 [01:24<03:03,  7.29it/s]Warning: unknown JFIF revision number 32.23\n",
      "Training:  52%|████████████████████████████████████████████████████████████████████████                                                                   | 952/1836 [02:39<02:44,  5.37it/s]Corrupt JPEG data: 1 extraneous bytes before marker 0xd9\n",
      "Training:  60%|███████████████████████████████████████████████████████████████████████████████████▎                                                      | 1109/1836 [03:05<01:38,  7.39it/s]Corrupt JPEG data: 1 extraneous bytes before marker 0xd9\n",
      "Training:  65%|█████████████████████████████████████████████████████████████████████████████████████████▌                                                | 1191/1836 [03:18<01:38,  6.57it/s]Corrupt JPEG data: 1 extraneous bytes before marker 0xd9\n",
      "Training:  90%|███████████████████████████████████████████████████████████████████████████████████████████████████████████████████████████▋              | 1645/1836 [04:34<00:38,  4.90it/s]Corrupt JPEG data: 1 extraneous bytes before marker 0xd9\n",
      "Training: 100%|██████████████████████████████████████████████████████████████████████████████████████████████████████████████████████████████████████████| 1836/1836 [05:05<00:00,  6.00it/s]\n"
     ]
    },
    {
     "name": "stdout",
     "output_type": "stream",
     "text": [
      "Total Loss  |Smoke Loss  |Fire Loss   \n",
      "------------ ------------ ------------\n",
      "30.191      |18.643      |11.548      \n",
      "\n"
     ]
    },
    {
     "name": "stderr",
     "output_type": "stream",
     "text": [
      "Validating: 100%|██████████████████████████████████████████████████████████████████████████████████████████████████████████████████████████████████████████| 380/380 [00:36<00:00, 10.45it/s]\n"
     ]
    },
    {
     "name": "stdout",
     "output_type": "stream",
     "text": [
      "Total Loss  |Smoke Loss  |Fire Loss   \n",
      "------------ ------------ ------------\n",
      "34.193      |21.811      |12.382      \n",
      "SMOKE -> Precision: 0.8801 - Recall: 0.7194 - Accuracy: 0.8215 - F1: 0.7917\n",
      "FIRE -> Precision: 0.9186 - Recall: 0.8213 - Accuracy: 0.9185 - F1: 0.8672\n",
      "\n",
      "=== EPOCH 94/149 ===\n",
      "Learning Rate = 7.378697629483831e-06\n",
      "\n"
     ]
    },
    {
     "name": "stderr",
     "output_type": "stream",
     "text": [
      "Training:  42%|██████████████████████████████████████████████████████████▊                                                                                | 777/1836 [02:12<02:19,  7.62it/s]Corrupt JPEG data: 1 extraneous bytes before marker 0xd9\n",
      "Training:  74%|█████████████████████████████████████████████████████████████████████████████████████████████████████▉                                    | 1357/1836 [03:49<01:23,  5.72it/s]Warning: unknown JFIF revision number 32.23\n",
      "Training:  84%|███████████████████████████████████████████████████████████████████████████████████████████████████████████████████▊                      | 1540/1836 [04:18<00:55,  5.30it/s]Corrupt JPEG data: 1 extraneous bytes before marker 0xd9\n",
      "Training:  87%|████████████████████████████████████████████████████████████████████████████████████████████████████████████████████████▍                 | 1603/1836 [04:28<00:32,  7.24it/s]Corrupt JPEG data: 1 extraneous bytes before marker 0xd9\n",
      "Training:  97%|█████████████████████████████████████████████████████████████████████████████████████████████████████████████████████████████████████▉    | 1782/1836 [04:58<00:14,  3.60it/s]Corrupt JPEG data: 1 extraneous bytes before marker 0xd9\n",
      "Training: 100%|██████████████████████████████████████████████████████████████████████████████████████████████████████████████████████████████████████████| 1836/1836 [05:06<00:00,  5.98it/s]\n"
     ]
    },
    {
     "name": "stdout",
     "output_type": "stream",
     "text": [
      "Total Loss  |Smoke Loss  |Fire Loss   \n",
      "------------ ------------ ------------\n",
      "29.982      |18.580      |11.402      \n",
      "\n"
     ]
    },
    {
     "name": "stderr",
     "output_type": "stream",
     "text": [
      "Validating: 100%|██████████████████████████████████████████████████████████████████████████████████████████████████████████████████████████████████████████| 380/380 [00:36<00:00, 10.47it/s]\n"
     ]
    },
    {
     "name": "stdout",
     "output_type": "stream",
     "text": [
      "Total Loss  |Smoke Loss  |Fire Loss   \n",
      "------------ ------------ ------------\n",
      "30.208      |19.930      |10.278      \n",
      "SMOKE -> Precision: 0.8180 - Recall: 0.8462 - Accuracy: 0.8388 - F1: 0.8319\n",
      "FIRE -> Precision: 0.9049 - Recall: 0.9085 - Accuracy: 0.9394 - F1: 0.9067\n",
      "\n",
      "=== EPOCH 95/149 ===\n",
      "Learning Rate = 7.378697629483831e-06\n",
      "\n"
     ]
    },
    {
     "name": "stderr",
     "output_type": "stream",
     "text": [
      "Training:  65%|█████████████████████████████████████████████████████████████████████████████████████████▌                                                | 1192/1836 [03:18<01:41,  6.35it/s]Corrupt JPEG data: 1 extraneous bytes before marker 0xd9\n",
      "Training:  71%|█████████████████████████████████████████████████████████████████████████████████████████████████▉                                        | 1303/1836 [03:36<01:19,  6.72it/s]Corrupt JPEG data: 1 extraneous bytes before marker 0xd9\n",
      "Training:  81%|███████████████████████████████████████████████████████████████████████████████████████████████████████████████▏                          | 1480/1836 [04:06<02:37,  2.27it/s]Corrupt JPEG data: 1 extraneous bytes before marker 0xd9\n",
      "Training:  81%|████████████████████████████████████████████████████████████████████████████████████████████████████████████████▏                         | 1492/1836 [04:08<00:46,  7.34it/s]Corrupt JPEG data: 1 extraneous bytes before marker 0xd9\n",
      "Training:  90%|███████████████████████████████████████████████████████████████████████████████████████████████████████████████████████████▋              | 1645/1836 [04:33<00:45,  4.23it/s]Warning: unknown JFIF revision number 32.23\n",
      "Training: 100%|██████████████████████████████████████████████████████████████████████████████████████████████████████████████████████████████████████████| 1836/1836 [05:04<00:00,  6.03it/s]\n"
     ]
    },
    {
     "name": "stdout",
     "output_type": "stream",
     "text": [
      "Total Loss  |Smoke Loss  |Fire Loss   \n",
      "------------ ------------ ------------\n",
      "29.636      |18.386      |11.250      \n",
      "\n"
     ]
    },
    {
     "name": "stderr",
     "output_type": "stream",
     "text": [
      "Validating: 100%|██████████████████████████████████████████████████████████████████████████████████████████████████████████████████████████████████████████| 380/380 [00:36<00:00, 10.43it/s]\n"
     ]
    },
    {
     "name": "stdout",
     "output_type": "stream",
     "text": [
      "Total Loss  |Smoke Loss  |Fire Loss   \n",
      "------------ ------------ ------------\n",
      "28.971      |19.257      |9.714       \n",
      "SMOKE -> Precision: 0.8543 - Recall: 0.8210 - Accuracy: 0.8496 - F1: 0.8373\n",
      "FIRE -> Precision: 0.9280 - Recall: 0.8992 - Accuracy: 0.9447 - F1: 0.9134\n",
      "Saving model with best Mean F1: 0.8753\n",
      "Model exported to ONNX: experiments_resnet/test_v03__w1a1__DEEP_Resnet__clip_convs_Linear4ReLU__400k_full_ds/onnx/BNN_BED_classifier__best_mean_F1\n",
      "\n",
      "=== EPOCH 96/149 ===\n",
      "Learning Rate = 7.378697629483831e-06\n",
      "\n"
     ]
    },
    {
     "name": "stderr",
     "output_type": "stream",
     "text": [
      "Training:   4%|████▉                                                                                                                                       | 65/1836 [00:12<04:13,  6.98it/s]Corrupt JPEG data: 1 extraneous bytes before marker 0xd9\n",
      "Training:  38%|█████████████████████████████████████████████████████                                                                                      | 701/1836 [01:57<02:45,  6.87it/s]Corrupt JPEG data: 1 extraneous bytes before marker 0xd9\n",
      "Training:  41%|█████████████████████████████████████████████████████████▏                                                                                 | 755/1836 [02:06<02:59,  6.01it/s]Corrupt JPEG data: 1 extraneous bytes before marker 0xd9\n",
      "Training:  47%|█████████████████████████████████████████████████████████████████▍                                                                         | 865/1836 [02:24<02:29,  6.51it/s]Warning: unknown JFIF revision number 32.23\n",
      "Training:  87%|███████████████████████████████████████████████████████████████████████████████████████████████████████████████████████▉                  | 1595/1836 [04:28<00:34,  7.04it/s]Corrupt JPEG data: 1 extraneous bytes before marker 0xd9\n",
      "Training: 100%|██████████████████████████████████████████████████████████████████████████████████████████████████████████████████████████████████████████| 1836/1836 [05:08<00:00,  5.95it/s]\n"
     ]
    },
    {
     "name": "stdout",
     "output_type": "stream",
     "text": [
      "Total Loss  |Smoke Loss  |Fire Loss   \n",
      "------------ ------------ ------------\n",
      "30.077      |18.621      |11.456      \n",
      "\n"
     ]
    },
    {
     "name": "stderr",
     "output_type": "stream",
     "text": [
      "Validating: 100%|██████████████████████████████████████████████████████████████████████████████████████████████████████████████████████████████████████████| 380/380 [00:36<00:00, 10.45it/s]\n"
     ]
    },
    {
     "name": "stdout",
     "output_type": "stream",
     "text": [
      "Total Loss  |Smoke Loss  |Fire Loss   \n",
      "------------ ------------ ------------\n",
      "38.658      |23.803      |14.855      \n",
      "SMOKE -> Precision: 0.9622 - Recall: 0.5536 - Accuracy: 0.7793 - F1: 0.7028\n",
      "FIRE -> Precision: 0.9669 - Recall: 0.7377 - Accuracy: 0.9068 - F1: 0.8369\n",
      "\n",
      "=== EPOCH 97/149 ===\n",
      "Learning Rate = 5.902958103587065e-06\n",
      "\n"
     ]
    },
    {
     "name": "stderr",
     "output_type": "stream",
     "text": [
      "Training:  16%|██████████████████████▋                                                                                                                    | 300/1836 [00:51<08:25,  3.04it/s]Corrupt JPEG data: 1 extraneous bytes before marker 0xd9\n",
      "Training:  47%|████████████████████████████████████████████████████████████████▊                                                                          | 856/1836 [02:23<02:26,  6.70it/s]Warning: unknown JFIF revision number 32.23\n",
      "Training:  80%|██████████████████████████████████████████████████████████████████████████████████████████████████████████████▌                           | 1471/1836 [04:05<01:29,  4.09it/s]Corrupt JPEG data: 1 extraneous bytes before marker 0xd9\n",
      "Training:  82%|████████████████████████████████████████████████████████████████████████████████████████████████████████████████▊                         | 1501/1836 [04:10<00:40,  8.21it/s]Corrupt JPEG data: 1 extraneous bytes before marker 0xd9\n",
      "Training:  95%|███████████████████████████████████████████████████████████████████████████████████████████████████████████████████████████████████▌      | 1750/1836 [04:51<00:12,  6.77it/s]Corrupt JPEG data: 1 extraneous bytes before marker 0xd9\n",
      "Training: 100%|██████████████████████████████████████████████████████████████████████████████████████████████████████████████████████████████████████████| 1836/1836 [05:05<00:00,  6.01it/s]\n"
     ]
    },
    {
     "name": "stdout",
     "output_type": "stream",
     "text": [
      "Total Loss  |Smoke Loss  |Fire Loss   \n",
      "------------ ------------ ------------\n",
      "29.616      |18.359      |11.257      \n",
      "\n"
     ]
    },
    {
     "name": "stderr",
     "output_type": "stream",
     "text": [
      "Validating: 100%|██████████████████████████████████████████████████████████████████████████████████████████████████████████████████████████████████████████| 380/380 [00:36<00:00, 10.47it/s]\n"
     ]
    },
    {
     "name": "stdout",
     "output_type": "stream",
     "text": [
      "Total Loss  |Smoke Loss  |Fire Loss   \n",
      "------------ ------------ ------------\n",
      "28.801      |19.307      |9.493       \n",
      "SMOKE -> Precision: 0.8605 - Recall: 0.8035 - Accuracy: 0.8459 - F1: 0.8310\n",
      "FIRE -> Precision: 0.8978 - Recall: 0.9248 - Accuracy: 0.9415 - F1: 0.9111\n",
      "\n",
      "=== EPOCH 98/149 ===\n",
      "Learning Rate = 5.902958103587065e-06\n",
      "\n"
     ]
    },
    {
     "name": "stderr",
     "output_type": "stream",
     "text": [
      "Training:   3%|███▋                                                                                                                                        | 49/1836 [00:10<03:56,  7.56it/s]Corrupt JPEG data: 1 extraneous bytes before marker 0xd9\n",
      "Training:  56%|████████████████████████████████████████████████████████████████████████████▋                                                             | 1021/1836 [02:54<02:30,  5.42it/s]Corrupt JPEG data: 1 extraneous bytes before marker 0xd9\n",
      "Training:  77%|██████████████████████████████████████████████████████████████████████████████████████████████████████████▌                               | 1418/1836 [03:57<01:12,  5.73it/s]Warning: unknown JFIF revision number 32.23\n",
      "Training:  82%|████████████████████████████████████████████████████████████████████████████████████████████████████████████████▊                         | 1501/1836 [04:11<00:46,  7.13it/s]Corrupt JPEG data: 1 extraneous bytes before marker 0xd9\n",
      "Training:  83%|██████████████████████████████████████████████████████████████████████████████████████████████████████████████████▊                       | 1528/1836 [04:16<01:05,  4.67it/s]Corrupt JPEG data: 1 extraneous bytes before marker 0xd9\n",
      "Training: 100%|██████████████████████████████████████████████████████████████████████████████████████████████████████████████████████████████████████████| 1836/1836 [05:04<00:00,  6.02it/s]\n"
     ]
    },
    {
     "name": "stdout",
     "output_type": "stream",
     "text": [
      "Total Loss  |Smoke Loss  |Fire Loss   \n",
      "------------ ------------ ------------\n",
      "29.735      |18.382      |11.353      \n",
      "\n"
     ]
    },
    {
     "name": "stderr",
     "output_type": "stream",
     "text": [
      "Validating: 100%|██████████████████████████████████████████████████████████████████████████████████████████████████████████████████████████████████████████| 380/380 [00:36<00:00, 10.47it/s]\n"
     ]
    },
    {
     "name": "stdout",
     "output_type": "stream",
     "text": [
      "Total Loss  |Smoke Loss  |Fire Loss   \n",
      "------------ ------------ ------------\n",
      "28.551      |18.698      |9.853       \n",
      "SMOKE -> Precision: 0.9007 - Recall: 0.7528 - Accuracy: 0.8443 - F1: 0.8201\n",
      "FIRE -> Precision: 0.9520 - Recall: 0.8661 - Accuracy: 0.9424 - F1: 0.9070\n",
      "\n",
      "=== EPOCH 99/149 ===\n",
      "Learning Rate = 5.902958103587065e-06\n",
      "\n"
     ]
    },
    {
     "name": "stderr",
     "output_type": "stream",
     "text": [
      "Training:   7%|██████████▎                                                                                                                                | 137/1836 [00:24<03:50,  7.36it/s]Corrupt JPEG data: 1 extraneous bytes before marker 0xd9\n",
      "Training:   8%|██████████▌                                                                                                                                | 139/1836 [00:25<03:41,  7.66it/s]Corrupt JPEG data: 1 extraneous bytes before marker 0xd9\n",
      "Training:  21%|████████████████████████████▊                                                                                                              | 380/1836 [01:04<06:05,  3.98it/s]Warning: unknown JFIF revision number 32.23\n",
      "Training:  54%|███████████████████████████████████████████████████████████████████████████▍                                                               | 997/1836 [02:49<01:52,  7.45it/s]Corrupt JPEG data: 1 extraneous bytes before marker 0xd9\n",
      "Training:  89%|███████████████████████████████████████████████████████████████████████████████████████████████████████████████████████████▎              | 1641/1836 [04:33<00:26,  7.48it/s]Corrupt JPEG data: 1 extraneous bytes before marker 0xd9\n",
      "Training: 100%|██████████████████████████████████████████████████████████████████████████████████████████████████████████████████████████████████████████| 1836/1836 [05:05<00:00,  6.00it/s]\n"
     ]
    },
    {
     "name": "stdout",
     "output_type": "stream",
     "text": [
      "Total Loss  |Smoke Loss  |Fire Loss   \n",
      "------------ ------------ ------------\n",
      "29.830      |18.436      |11.394      \n",
      "\n"
     ]
    },
    {
     "name": "stderr",
     "output_type": "stream",
     "text": [
      "Validating: 100%|██████████████████████████████████████████████████████████████████████████████████████████████████████████████████████████████████████████| 380/380 [00:36<00:00, 10.46it/s]\n"
     ]
    },
    {
     "name": "stdout",
     "output_type": "stream",
     "text": [
      "Total Loss  |Smoke Loss  |Fire Loss   \n",
      "------------ ------------ ------------\n",
      "28.279      |18.527      |9.752       \n",
      "SMOKE -> Precision: 0.9118 - Recall: 0.7580 - Accuracy: 0.8514 - F1: 0.8278\n",
      "FIRE -> Precision: 0.9351 - Recall: 0.8824 - Accuracy: 0.9420 - F1: 0.9080\n",
      "\n",
      "Saving model with new best validation loss: 28.2792\n",
      "Model exported to ONNX: experiments_resnet/test_v03__w1a1__DEEP_Resnet__clip_convs_Linear4ReLU__400k_full_ds/onnx/BNN_BED_classifier__best_loss\n",
      "\n",
      "=== EPOCH 100/149 ===\n",
      "Learning Rate = 5.902958103587065e-06\n",
      "\n"
     ]
    },
    {
     "name": "stderr",
     "output_type": "stream",
     "text": [
      "Training:   3%|████▏                                                                                                                                       | 55/1836 [00:10<04:06,  7.22it/s]Corrupt JPEG data: 1 extraneous bytes before marker 0xd9\n",
      "Training:  20%|████████████████████████████                                                                                                               | 371/1836 [01:03<03:28,  7.04it/s]Corrupt JPEG data: 1 extraneous bytes before marker 0xd9\n",
      "Training:  34%|███████████████████████████████████████████████▉                                                                                           | 633/1836 [01:47<04:11,  4.79it/s]Warning: unknown JFIF revision number 32.23\n",
      "Training:  67%|████████████████████████████████████████████████████████████████████████████████████████████▊                                             | 1235/1836 [03:28<02:18,  4.33it/s]Corrupt JPEG data: 1 extraneous bytes before marker 0xd9\n",
      "Training:  82%|█████████████████████████████████████████████████████████████████████████████████████████████████████████████████▎                        | 1507/1836 [04:14<00:48,  6.80it/s]Corrupt JPEG data: 1 extraneous bytes before marker 0xd9\n",
      "Training: 100%|██████████████████████████████████████████████████████████████████████████████████████████████████████████████████████████████████████████| 1836/1836 [05:08<00:00,  5.94it/s]\n"
     ]
    },
    {
     "name": "stdout",
     "output_type": "stream",
     "text": [
      "Total Loss  |Smoke Loss  |Fire Loss   \n",
      "------------ ------------ ------------\n",
      "29.539      |18.291      |11.249      \n",
      "\n"
     ]
    },
    {
     "name": "stderr",
     "output_type": "stream",
     "text": [
      "Validating: 100%|██████████████████████████████████████████████████████████████████████████████████████████████████████████████████████████████████████████| 380/380 [00:36<00:00, 10.43it/s]\n"
     ]
    },
    {
     "name": "stdout",
     "output_type": "stream",
     "text": [
      "Total Loss  |Smoke Loss  |Fire Loss   \n",
      "------------ ------------ ------------\n",
      "37.914      |24.202      |13.712      \n",
      "SMOKE -> Precision: 0.8031 - Recall: 0.7913 - Accuracy: 0.8102 - F1: 0.7972\n",
      "FIRE -> Precision: 0.9139 - Recall: 0.8160 - Accuracy: 0.9154 - F1: 0.8622\n",
      "\n",
      "=== EPOCH 101/149 ===\n",
      "Learning Rate = 5.902958103587065e-06\n",
      "\n"
     ]
    },
    {
     "name": "stderr",
     "output_type": "stream",
     "text": [
      "Training:  14%|███████████████████▍                                                                                                                       | 256/1836 [00:45<04:06,  6.41it/s]Corrupt JPEG data: 1 extraneous bytes before marker 0xd9\n",
      "Training:  33%|█████████████████████████████████████████████▉                                                                                             | 606/1836 [01:42<02:58,  6.88it/s]Warning: unknown JFIF revision number 32.23\n",
      "Training:  47%|█████████████████████████████████████████████████████████████████▎                                                                         | 863/1836 [02:24<02:07,  7.61it/s]Corrupt JPEG data: 1 extraneous bytes before marker 0xd9\n",
      "Training:  65%|██████████████████████████████████████████████████████████████████████████████████████████▎                                               | 1202/1836 [03:20<01:24,  7.51it/s]Corrupt JPEG data: 1 extraneous bytes before marker 0xd9\n",
      "Training:  95%|███████████████████████████████████████████████████████████████████████████████████████████████████████████████████████████████████▏      | 1745/1836 [04:50<00:12,  7.43it/s]Corrupt JPEG data: 1 extraneous bytes before marker 0xd9\n",
      "Training: 100%|██████████████████████████████████████████████████████████████████████████████████████████████████████████████████████████████████████████| 1836/1836 [05:04<00:00,  6.03it/s]\n"
     ]
    },
    {
     "name": "stdout",
     "output_type": "stream",
     "text": [
      "Total Loss  |Smoke Loss  |Fire Loss   \n",
      "------------ ------------ ------------\n",
      "30.027      |18.508      |11.519      \n",
      "\n"
     ]
    },
    {
     "name": "stderr",
     "output_type": "stream",
     "text": [
      "Validating: 100%|██████████████████████████████████████████████████████████████████████████████████████████████████████████████████████████████████████████| 380/380 [00:36<00:00, 10.39it/s]\n"
     ]
    },
    {
     "name": "stdout",
     "output_type": "stream",
     "text": [
      "Total Loss  |Smoke Loss  |Fire Loss   \n",
      "------------ ------------ ------------\n",
      "30.668      |20.691      |9.977       \n",
      "SMOKE -> Precision: 0.9240 - Recall: 0.6684 - Accuracy: 0.8178 - F1: 0.7757\n",
      "FIRE -> Precision: 0.9354 - Recall: 0.8686 - Accuracy: 0.9380 - F1: 0.9008\n",
      "\n",
      "=== EPOCH 102/149 ===\n",
      "Learning Rate = 5.902958103587065e-06\n",
      "\n"
     ]
    },
    {
     "name": "stderr",
     "output_type": "stream",
     "text": [
      "Training:   1%|█▉                                                                                                                                          | 26/1836 [00:06<07:38,  3.95it/s]Corrupt JPEG data: 1 extraneous bytes before marker 0xd9\n",
      "Training:  20%|███████████████████████████▍                                                                                                               | 363/1836 [01:02<05:00,  4.91it/s]Corrupt JPEG data: 1 extraneous bytes before marker 0xd9\n",
      "Training:  26%|████████████████████████████████████                                                                                                       | 477/1836 [01:21<03:21,  6.75it/s]Corrupt JPEG data: 1 extraneous bytes before marker 0xd9\n",
      "Training:  56%|████████████████████████████████████████████████████████████████████████████▉                                                             | 1024/1836 [02:51<02:29,  5.41it/s]Warning: unknown JFIF revision number 32.23\n",
      "Training:  95%|███████████████████████████████████████████████████████████████████████████████████████████████████████████████████████████████████▌      | 1750/1836 [04:52<00:11,  7.66it/s]Corrupt JPEG data: 1 extraneous bytes before marker 0xd9\n",
      "Training: 100%|██████████████████████████████████████████████████████████████████████████████████████████████████████████████████████████████████████████| 1836/1836 [05:05<00:00,  6.01it/s]\n"
     ]
    },
    {
     "name": "stdout",
     "output_type": "stream",
     "text": [
      "Total Loss  |Smoke Loss  |Fire Loss   \n",
      "------------ ------------ ------------\n",
      "29.708      |18.385      |11.324      \n",
      "\n"
     ]
    },
    {
     "name": "stderr",
     "output_type": "stream",
     "text": [
      "Validating: 100%|██████████████████████████████████████████████████████████████████████████████████████████████████████████████████████████████████████████| 380/380 [00:36<00:00, 10.47it/s]\n"
     ]
    },
    {
     "name": "stdout",
     "output_type": "stream",
     "text": [
      "Total Loss  |Smoke Loss  |Fire Loss   \n",
      "------------ ------------ ------------\n",
      "58.052      |33.441      |24.611      \n",
      "SMOKE -> Precision: 0.9455 - Recall: 0.3449 - Accuracy: 0.6818 - F1: 0.5054\n",
      "FIRE -> Precision: 0.8744 - Recall: 0.6920 - Accuracy: 0.8679 - F1: 0.7726\n",
      "\n",
      "=== EPOCH 103/149 ===\n",
      "Learning Rate = 4.722366482869652e-06\n",
      "\n"
     ]
    },
    {
     "name": "stderr",
     "output_type": "stream",
     "text": [
      "Training:   5%|███████▌                                                                                                                                   | 100/1836 [00:19<03:49,  7.55it/s]Corrupt JPEG data: 1 extraneous bytes before marker 0xd9\n",
      "Training:  11%|███████████████                                                                                                                            | 199/1836 [00:36<04:15,  6.42it/s]Corrupt JPEG data: 1 extraneous bytes before marker 0xd9\n",
      "Training:  58%|███████████████████████████████████████████████████████████████████████████████▉                                                          | 1063/1836 [02:58<01:38,  7.88it/s]Corrupt JPEG data: 1 extraneous bytes before marker 0xd9\n",
      "Training:  61%|████████████████████████████████████████████████████████████████████████████████████▋                                                     | 1126/1836 [03:08<01:43,  6.85it/s]Corrupt JPEG data: 1 extraneous bytes before marker 0xd9\n",
      "Training:  90%|████████████████████████████████████████████████████████████████████████████████████████████████████████████████████████████▌             | 1658/1836 [04:36<00:31,  5.57it/s]Warning: unknown JFIF revision number 32.23\n",
      "Training: 100%|██████████████████████████████████████████████████████████████████████████████████████████████████████████████████████████████████████████| 1836/1836 [05:05<00:00,  6.01it/s]\n"
     ]
    },
    {
     "name": "stdout",
     "output_type": "stream",
     "text": [
      "Total Loss  |Smoke Loss  |Fire Loss   \n",
      "------------ ------------ ------------\n",
      "30.226      |18.580      |11.646      \n",
      "\n"
     ]
    },
    {
     "name": "stderr",
     "output_type": "stream",
     "text": [
      "Validating: 100%|██████████████████████████████████████████████████████████████████████████████████████████████████████████████████████████████████████████| 380/380 [00:36<00:00, 10.42it/s]\n"
     ]
    },
    {
     "name": "stdout",
     "output_type": "stream",
     "text": [
      "Total Loss  |Smoke Loss  |Fire Loss   \n",
      "------------ ------------ ------------\n",
      "30.507      |19.639      |10.867      \n",
      "SMOKE -> Precision: 0.8761 - Recall: 0.7673 - Accuracy: 0.8391 - F1: 0.8181\n",
      "FIRE -> Precision: 0.9182 - Recall: 0.8746 - Accuracy: 0.9341 - F1: 0.8959\n",
      "\n",
      "=== EPOCH 104/149 ===\n",
      "Learning Rate = 4.722366482869652e-06\n",
      "\n"
     ]
    },
    {
     "name": "stderr",
     "output_type": "stream",
     "text": [
      "Training:   9%|████████████▎                                                                                                                              | 163/1836 [00:28<03:46,  7.39it/s]Corrupt JPEG data: 1 extraneous bytes before marker 0xd9\n",
      "Training:  48%|███████████████████████████████████████████████████████████████████▏                                                                       | 887/1836 [02:28<02:13,  7.13it/s]Warning: unknown JFIF revision number 32.23\n",
      "Training:  57%|███████████████████████████████████████████████████████████████████████████████▏                                                          | 1054/1836 [02:57<02:08,  6.08it/s]Corrupt JPEG data: 1 extraneous bytes before marker 0xd9\n",
      "Training:  71%|██████████████████████████████████████████████████████████████████████████████████████████████████▍                                       | 1309/1836 [03:39<01:09,  7.57it/s]Corrupt JPEG data: 1 extraneous bytes before marker 0xd9\n",
      "Training:  97%|██████████████████████████████████████████████████████████████████████████████████████████████████████████████████████████████████████    | 1784/1836 [04:57<00:07,  7.03it/s]Corrupt JPEG data: 1 extraneous bytes before marker 0xd9\n",
      "Training: 100%|██████████████████████████████████████████████████████████████████████████████████████████████████████████████████████████████████████████| 1836/1836 [05:04<00:00,  6.02it/s]\n"
     ]
    },
    {
     "name": "stdout",
     "output_type": "stream",
     "text": [
      "Total Loss  |Smoke Loss  |Fire Loss   \n",
      "------------ ------------ ------------\n",
      "29.815      |18.435      |11.380      \n",
      "\n"
     ]
    },
    {
     "name": "stderr",
     "output_type": "stream",
     "text": [
      "Validating: 100%|██████████████████████████████████████████████████████████████████████████████████████████████████████████████████████████████████████████| 380/380 [00:36<00:00, 10.47it/s]\n"
     ]
    },
    {
     "name": "stdout",
     "output_type": "stream",
     "text": [
      "Total Loss  |Smoke Loss  |Fire Loss   \n",
      "------------ ------------ ------------\n",
      "27.200      |18.090      |9.111       \n",
      "SMOKE -> Precision: 0.9265 - Recall: 0.7445 - Accuracy: 0.8517 - F1: 0.8256\n",
      "FIRE -> Precision: 0.9419 - Recall: 0.8927 - Accuracy: 0.9474 - F1: 0.9166\n",
      "\n",
      "Saving model with new best validation loss: 27.2004\n",
      "Model exported to ONNX: experiments_resnet/test_v03__w1a1__DEEP_Resnet__clip_convs_Linear4ReLU__400k_full_ds/onnx/BNN_BED_classifier__best_loss\n",
      "\n",
      "=== EPOCH 105/149 ===\n",
      "Learning Rate = 4.722366482869652e-06\n",
      "\n"
     ]
    },
    {
     "name": "stderr",
     "output_type": "stream",
     "text": [
      "Training:  37%|████████████████████████████████████████████████████                                                                                       | 688/1836 [01:57<02:57,  6.45it/s]Corrupt JPEG data: 1 extraneous bytes before marker 0xd9\n",
      "Training:  47%|████████████████████████████████████████████████████████████████▊                                                                          | 856/1836 [02:25<02:13,  7.37it/s]Corrupt JPEG data: 1 extraneous bytes before marker 0xd9\n",
      "Training:  72%|███████████████████████████████████████████████████████████████████████████████████████████████████                                       | 1318/1836 [03:41<01:10,  7.39it/s]Warning: unknown JFIF revision number 32.23\n",
      "Training:  78%|███████████████████████████████████████████████████████████████████████████████████████████████████████████▌                              | 1431/1836 [04:00<01:08,  5.91it/s]Corrupt JPEG data: 1 extraneous bytes before marker 0xd9\n",
      "Training:  88%|████████████████████████████████████████████████████████████████████████████████████████████████████████████████████████▊                 | 1608/1836 [04:29<00:31,  7.22it/s]Corrupt JPEG data: 1 extraneous bytes before marker 0xd9\n",
      "Training: 100%|██████████████████████████████████████████████████████████████████████████████████████████████████████████████████████████████████████████| 1836/1836 [05:07<00:00,  5.97it/s]\n"
     ]
    },
    {
     "name": "stdout",
     "output_type": "stream",
     "text": [
      "Total Loss  |Smoke Loss  |Fire Loss   \n",
      "------------ ------------ ------------\n",
      "29.976      |18.496      |11.480      \n",
      "\n"
     ]
    },
    {
     "name": "stderr",
     "output_type": "stream",
     "text": [
      "Validating: 100%|██████████████████████████████████████████████████████████████████████████████████████████████████████████████████████████████████████████| 380/380 [00:36<00:00, 10.37it/s]\n"
     ]
    },
    {
     "name": "stdout",
     "output_type": "stream",
     "text": [
      "Total Loss  |Smoke Loss  |Fire Loss   \n",
      "------------ ------------ ------------\n",
      "30.722      |19.401      |11.320      \n",
      "SMOKE -> Precision: 0.8660 - Recall: 0.7789 - Accuracy: 0.8389 - F1: 0.8201\n",
      "FIRE -> Precision: 0.8606 - Recall: 0.9332 - Accuracy: 0.9293 - F1: 0.8954\n",
      "\n",
      "=== EPOCH 106/149 ===\n",
      "Learning Rate = 4.722366482869652e-06\n",
      "\n"
     ]
    },
    {
     "name": "stderr",
     "output_type": "stream",
     "text": [
      "Training:   9%|█████████████▏                                                                                                                             | 174/1836 [00:31<03:56,  7.04it/s]Corrupt JPEG data: 1 extraneous bytes before marker 0xd9\n",
      "Training:  30%|█████████████████████████████████████████▌                                                                                                 | 549/1836 [01:33<03:36,  5.95it/s]Corrupt JPEG data: 1 extraneous bytes before marker 0xd9\n",
      "Training:  50%|█████████████████████████████████████████████████████████████████████▍                                                                     | 917/1836 [02:35<02:06,  7.25it/s]Warning: unknown JFIF revision number 32.23\n",
      "Training:  76%|████████████████████████████████████████████████████████████████████████████████████████████████████████▉                                 | 1396/1836 [03:53<01:07,  6.51it/s]Corrupt JPEG data: 1 extraneous bytes before marker 0xd9\n",
      "Training:  83%|██████████████████████████████████████████████████████████████████████████████████████████████████████████████████▊                       | 1528/1836 [04:15<01:01,  5.02it/s]Corrupt JPEG data: 1 extraneous bytes before marker 0xd9\n",
      "Training: 100%|██████████████████████████████████████████████████████████████████████████████████████████████████████████████████████████████████████████| 1836/1836 [05:04<00:00,  6.03it/s]\n"
     ]
    },
    {
     "name": "stdout",
     "output_type": "stream",
     "text": [
      "Total Loss  |Smoke Loss  |Fire Loss   \n",
      "------------ ------------ ------------\n",
      "29.726      |18.324      |11.402      \n",
      "\n"
     ]
    },
    {
     "name": "stderr",
     "output_type": "stream",
     "text": [
      "Validating: 100%|██████████████████████████████████████████████████████████████████████████████████████████████████████████████████████████████████████████| 380/380 [00:36<00:00, 10.45it/s]\n"
     ]
    },
    {
     "name": "stdout",
     "output_type": "stream",
     "text": [
      "Total Loss  |Smoke Loss  |Fire Loss   \n",
      "------------ ------------ ------------\n",
      "30.056      |20.094      |9.962       \n",
      "SMOKE -> Precision: 0.9004 - Recall: 0.7386 - Accuracy: 0.8382 - F1: 0.8115\n",
      "FIRE -> Precision: 0.8924 - Recall: 0.9179 - Accuracy: 0.9375 - F1: 0.9050\n",
      "\n",
      "=== EPOCH 107/149 ===\n",
      "Learning Rate = 4.722366482869652e-06\n",
      "\n"
     ]
    },
    {
     "name": "stderr",
     "output_type": "stream",
     "text": [
      "Training:  25%|██████████████████████████████████▎                                                                                                        | 454/1836 [01:16<03:03,  7.53it/s]Corrupt JPEG data: 1 extraneous bytes before marker 0xd9\n",
      "Training:  29%|████████████████████████████████████████▏                                                                                                  | 531/1836 [01:30<03:52,  5.62it/s]Corrupt JPEG data: 1 extraneous bytes before marker 0xd9\n",
      "Training:  39%|██████████████████████████████████████████████████████▌                                                                                    | 721/1836 [02:02<02:56,  6.32it/s]Warning: unknown JFIF revision number 32.23\n",
      "Training:  43%|████████████████████████████████████████████████████████████                                                                               | 794/1836 [02:14<02:19,  7.49it/s]Corrupt JPEG data: 1 extraneous bytes before marker 0xd9\n",
      "Training:  65%|██████████████████████████████████████████████████████████████████████████████████████████▎                                               | 1201/1836 [03:20<01:23,  7.56it/s]Corrupt JPEG data: 1 extraneous bytes before marker 0xd9\n",
      "Training: 100%|██████████████████████████████████████████████████████████████████████████████████████████████████████████████████████████████████████████| 1836/1836 [05:06<00:00,  5.98it/s]\n"
     ]
    },
    {
     "name": "stdout",
     "output_type": "stream",
     "text": [
      "Total Loss  |Smoke Loss  |Fire Loss   \n",
      "------------ ------------ ------------\n",
      "29.897      |18.537      |11.360      \n",
      "\n"
     ]
    },
    {
     "name": "stderr",
     "output_type": "stream",
     "text": [
      "Validating: 100%|██████████████████████████████████████████████████████████████████████████████████████████████████████████████████████████████████████████| 380/380 [00:36<00:00, 10.46it/s]\n"
     ]
    },
    {
     "name": "stdout",
     "output_type": "stream",
     "text": [
      "Total Loss  |Smoke Loss  |Fire Loss   \n",
      "------------ ------------ ------------\n",
      "30.072      |19.322      |10.749      \n",
      "SMOKE -> Precision: 0.8561 - Recall: 0.8125 - Accuracy: 0.8472 - F1: 0.8337\n",
      "FIRE -> Precision: 0.8830 - Recall: 0.9224 - Accuracy: 0.9352 - F1: 0.9022\n",
      "\n",
      "=== EPOCH 108/149 ===\n",
      "Learning Rate = 3.777893186295722e-06\n",
      "\n"
     ]
    },
    {
     "name": "stderr",
     "output_type": "stream",
     "text": [
      "Training:   6%|███████▋                                                                                                                                   | 102/1836 [00:18<04:47,  6.02it/s]Corrupt JPEG data: 1 extraneous bytes before marker 0xd9\n",
      "Training:  12%|████████████████▋                                                                                                                          | 221/1836 [00:38<06:54,  3.90it/s]Corrupt JPEG data: 1 extraneous bytes before marker 0xd9\n",
      "Training:  19%|██████████████████████████                                                                                                                 | 345/1836 [00:59<03:40,  6.76it/s]Warning: unknown JFIF revision number 32.23\n",
      "Training:  19%|██████████████████████████▌                                                                                                                | 351/1836 [01:00<05:00,  4.95it/s]Corrupt JPEG data: 1 extraneous bytes before marker 0xd9\n",
      "Training:  81%|███████████████████████████████████████████████████████████████████████████████████████████████████████████████▊                          | 1488/1836 [04:08<01:08,  5.05it/s]Corrupt JPEG data: 1 extraneous bytes before marker 0xd9\n",
      "Training: 100%|██████████████████████████████████████████████████████████████████████████████████████████████████████████████████████████████████████████| 1836/1836 [05:05<00:00,  6.00it/s]\n"
     ]
    },
    {
     "name": "stdout",
     "output_type": "stream",
     "text": [
      "Total Loss  |Smoke Loss  |Fire Loss   \n",
      "------------ ------------ ------------\n",
      "30.070      |18.556      |11.514      \n",
      "\n"
     ]
    },
    {
     "name": "stderr",
     "output_type": "stream",
     "text": [
      "Validating: 100%|██████████████████████████████████████████████████████████████████████████████████████████████████████████████████████████████████████████| 380/380 [00:36<00:00, 10.45it/s]\n"
     ]
    },
    {
     "name": "stdout",
     "output_type": "stream",
     "text": [
      "Total Loss  |Smoke Loss  |Fire Loss   \n",
      "------------ ------------ ------------\n",
      "31.514      |19.547      |11.967      \n",
      "SMOKE -> Precision: 0.8588 - Recall: 0.7980 - Accuracy: 0.8429 - F1: 0.8273\n",
      "FIRE -> Precision: 0.8464 - Recall: 0.9452 - Accuracy: 0.9266 - F1: 0.8931\n",
      "\n",
      "=== EPOCH 109/149 ===\n",
      "Learning Rate = 3.777893186295722e-06\n",
      "\n"
     ]
    },
    {
     "name": "stderr",
     "output_type": "stream",
     "text": [
      "Training:   4%|█████▉                                                                                                                                      | 78/1836 [00:14<04:18,  6.80it/s]Corrupt JPEG data: 1 extraneous bytes before marker 0xd9\n",
      "Training:  65%|██████████████████████████████████████████████████████████████████████████████████████████▏                                               | 1200/1836 [03:20<01:39,  6.37it/s]Corrupt JPEG data: 1 extraneous bytes before marker 0xd9\n",
      "Training:  70%|████████████████████████████████████████████████████████████████████████████████████████████████▏                                         | 1279/1836 [03:34<01:09,  8.01it/s]Corrupt JPEG data: 1 extraneous bytes before marker 0xd9\n",
      "Training:  77%|██████████████████████████████████████████████████████████████████████████████████████████████████████████▎                               | 1415/1836 [03:56<01:00,  6.97it/s]Corrupt JPEG data: 1 extraneous bytes before marker 0xd9\n",
      "Training:  97%|██████████████████████████████████████████████████████████████████████████████████████████████████████████████████████████████████████▍   | 1788/1836 [04:58<00:14,  3.28it/s]Warning: unknown JFIF revision number 32.23\n",
      "Training: 100%|██████████████████████████████████████████████████████████████████████████████████████████████████████████████████████████████████████████| 1836/1836 [05:05<00:00,  6.01it/s]\n"
     ]
    },
    {
     "name": "stdout",
     "output_type": "stream",
     "text": [
      "Total Loss  |Smoke Loss  |Fire Loss   \n",
      "------------ ------------ ------------\n",
      "29.988      |18.568      |11.421      \n",
      "\n"
     ]
    },
    {
     "name": "stderr",
     "output_type": "stream",
     "text": [
      "Validating: 100%|██████████████████████████████████████████████████████████████████████████████████████████████████████████████████████████████████████████| 380/380 [00:36<00:00, 10.40it/s]\n"
     ]
    },
    {
     "name": "stdout",
     "output_type": "stream",
     "text": [
      "Total Loss  |Smoke Loss  |Fire Loss   \n",
      "------------ ------------ ------------\n",
      "29.637      |18.443      |11.194      \n",
      "SMOKE -> Precision: 0.8973 - Recall: 0.7752 - Accuracy: 0.8522 - F1: 0.8318\n",
      "FIRE -> Precision: 0.8739 - Recall: 0.9202 - Accuracy: 0.9311 - F1: 0.8965\n",
      "\n",
      "=== EPOCH 110/149 ===\n",
      "Learning Rate = 3.777893186295722e-06\n",
      "\n"
     ]
    },
    {
     "name": "stderr",
     "output_type": "stream",
     "text": [
      "Training:  59%|████████████████████████████████████████████████████████████████████████████████▉                                                         | 1076/1836 [02:59<01:38,  7.70it/s]Corrupt JPEG data: 1 extraneous bytes before marker 0xd9\n",
      "Training:  66%|███████████████████████████████████████████████████████████████████████████████████████████▎                                              | 1215/1836 [03:22<02:53,  3.59it/s]Corrupt JPEG data: 1 extraneous bytes before marker 0xd9\n",
      "Training:  76%|█████████████████████████████████████████████████████████████████████████████████████████████████████████▎                                | 1401/1836 [03:54<01:03,  6.88it/s]Warning: unknown JFIF revision number 32.23\n",
      "Training:  78%|███████████████████████████████████████████████████████████████████████████████████████████████████████████                               | 1424/1836 [03:58<00:52,  7.80it/s]Corrupt JPEG data: 1 extraneous bytes before marker 0xd9\n",
      "Training:  79%|█████████████████████████████████████████████████████████████████████████████████████████████████████████████▋                            | 1459/1836 [04:04<00:49,  7.63it/s]Corrupt JPEG data: 1 extraneous bytes before marker 0xd9\n",
      "Training: 100%|██████████████████████████████████████████████████████████████████████████████████████████████████████████████████████████████████████████| 1836/1836 [05:07<00:00,  5.97it/s]\n"
     ]
    },
    {
     "name": "stdout",
     "output_type": "stream",
     "text": [
      "Total Loss  |Smoke Loss  |Fire Loss   \n",
      "------------ ------------ ------------\n",
      "29.926      |18.457      |11.469      \n",
      "\n"
     ]
    },
    {
     "name": "stderr",
     "output_type": "stream",
     "text": [
      "Validating: 100%|██████████████████████████████████████████████████████████████████████████████████████████████████████████████████████████████████████████| 380/380 [00:36<00:00, 10.46it/s]\n"
     ]
    },
    {
     "name": "stdout",
     "output_type": "stream",
     "text": [
      "Total Loss  |Smoke Loss  |Fire Loss   \n",
      "------------ ------------ ------------\n",
      "32.645      |19.914      |12.731      \n",
      "SMOKE -> Precision: 0.8506 - Recall: 0.8088 - Accuracy: 0.8429 - F1: 0.8292\n",
      "FIRE -> Precision: 0.8398 - Recall: 0.9437 - Accuracy: 0.9234 - F1: 0.8887\n",
      "\n",
      "=== EPOCH 111/149 ===\n",
      "Learning Rate = 3.022314549036578e-06\n",
      "\n"
     ]
    },
    {
     "name": "stderr",
     "output_type": "stream",
     "text": [
      "Training:  28%|██████████████████████████████████████▍                                                                                                    | 507/1836 [01:26<03:16,  6.75it/s]Corrupt JPEG data: 1 extraneous bytes before marker 0xd9\n",
      "Training:  30%|█████████████████████████████████████████▏                                                                                                 | 544/1836 [01:31<02:54,  7.41it/s]Warning: unknown JFIF revision number 32.23\n",
      "Training:  47%|█████████████████████████████████████████████████████████████████▋                                                                         | 867/1836 [02:24<02:26,  6.62it/s]Corrupt JPEG data: 1 extraneous bytes before marker 0xd9\n",
      "Training:  93%|████████████████████████████████████████████████████████████████████████████████████████████████████████████████████████████████▏         | 1705/1836 [04:42<00:16,  7.80it/s]Corrupt JPEG data: 1 extraneous bytes before marker 0xd9\n",
      "Training:  96%|███████████████████████████████████████████████████████████████████████████████████████████████████████████████████████████████████▉      | 1755/1836 [04:50<00:17,  4.66it/s]Corrupt JPEG data: 1 extraneous bytes before marker 0xd9\n",
      "Training: 100%|██████████████████████████████████████████████████████████████████████████████████████████████████████████████████████████████████████████| 1836/1836 [05:03<00:00,  6.05it/s]\n"
     ]
    },
    {
     "name": "stdout",
     "output_type": "stream",
     "text": [
      "Total Loss  |Smoke Loss  |Fire Loss   \n",
      "------------ ------------ ------------\n",
      "29.661      |18.289      |11.372      \n",
      "\n"
     ]
    },
    {
     "name": "stderr",
     "output_type": "stream",
     "text": [
      "Validating: 100%|██████████████████████████████████████████████████████████████████████████████████████████████████████████████████████████████████████████| 380/380 [00:36<00:00, 10.47it/s]\n"
     ]
    },
    {
     "name": "stdout",
     "output_type": "stream",
     "text": [
      "Total Loss  |Smoke Loss  |Fire Loss   \n",
      "------------ ------------ ------------\n",
      "31.431      |20.545      |10.886      \n",
      "SMOKE -> Precision: 0.8328 - Recall: 0.8083 - Accuracy: 0.8331 - F1: 0.8204\n",
      "FIRE -> Precision: 0.9180 - Recall: 0.8786 - Accuracy: 0.9352 - F1: 0.8979\n",
      "\n",
      "=== EPOCH 112/149 ===\n",
      "Learning Rate = 3.022314549036578e-06\n",
      "\n"
     ]
    },
    {
     "name": "stderr",
     "output_type": "stream",
     "text": [
      "Training:   0%|                                                                                                                                                     | 0/1836 [00:00<?, ?it/s]Corrupt JPEG data: 1 extraneous bytes before marker 0xd9\n",
      "Training:  26%|███████████████████████████████████▋                                                                                                       | 471/1836 [01:20<03:55,  5.79it/s]Corrupt JPEG data: 1 extraneous bytes before marker 0xd9\n",
      "Training:  40%|██████████████████████████████████████████████████████▉                                                                                    | 726/1836 [02:03<02:34,  7.16it/s]Corrupt JPEG data: 1 extraneous bytes before marker 0xd9\n",
      "Training:  59%|█████████████████████████████████████████████████████████████████████████████████▋                                                        | 1086/1836 [03:02<02:24,  5.19it/s]Warning: unknown JFIF revision number 32.23\n",
      "Training:  72%|██████████████████████████████████████████████████████████████████████████████████████████████████▊                                       | 1315/1836 [03:38<01:07,  7.76it/s]Corrupt JPEG data: 1 extraneous bytes before marker 0xd9\n",
      "Training: 100%|██████████████████████████████████████████████████████████████████████████████████████████████████████████████████████████████████████████| 1836/1836 [05:03<00:00,  6.05it/s]\n"
     ]
    },
    {
     "name": "stdout",
     "output_type": "stream",
     "text": [
      "Total Loss  |Smoke Loss  |Fire Loss   \n",
      "------------ ------------ ------------\n",
      "29.551      |18.248      |11.303      \n",
      "\n"
     ]
    },
    {
     "name": "stderr",
     "output_type": "stream",
     "text": [
      "Validating: 100%|██████████████████████████████████████████████████████████████████████████████████████████████████████████████████████████████████████████| 380/380 [00:36<00:00, 10.40it/s]\n"
     ]
    },
    {
     "name": "stdout",
     "output_type": "stream",
     "text": [
      "Total Loss  |Smoke Loss  |Fire Loss   \n",
      "------------ ------------ ------------\n",
      "29.044      |19.366      |9.678       \n",
      "SMOKE -> Precision: 0.8473 - Recall: 0.8249 - Accuracy: 0.8474 - F1: 0.8360\n",
      "FIRE -> Precision: 0.9045 - Recall: 0.9266 - Accuracy: 0.9445 - F1: 0.9154\n",
      "Saving model with best Mean F1: 0.8757\n",
      "Model exported to ONNX: experiments_resnet/test_v03__w1a1__DEEP_Resnet__clip_convs_Linear4ReLU__400k_full_ds/onnx/BNN_BED_classifier__best_mean_F1\n",
      "\n",
      "=== EPOCH 113/149 ===\n",
      "Learning Rate = 3.022314549036578e-06\n",
      "\n"
     ]
    },
    {
     "name": "stderr",
     "output_type": "stream",
     "text": [
      "Training:   4%|█████▋                                                                                                                                      | 74/1836 [00:13<04:00,  7.33it/s]Corrupt JPEG data: 1 extraneous bytes before marker 0xd9\n",
      "Training:  64%|████████████████████████████████████████████████████████████████████████████████████████▉                                                 | 1183/1836 [03:18<01:23,  7.78it/s]Corrupt JPEG data: 1 extraneous bytes before marker 0xd9\n",
      "Training:  76%|█████████████████████████████████████████████████████████████████████████████████████████████████████████                                 | 1397/1836 [03:52<01:03,  6.91it/s]Warning: unknown JFIF revision number 32.23\n",
      "Training:  82%|████████████████████████████████████████████████████████████████████████████████████████████████████████████████▌                         | 1497/1836 [04:10<00:47,  7.08it/s]Corrupt JPEG data: 1 extraneous bytes before marker 0xd9\n",
      "Training:  90%|████████████████████████████████████████████████████████████████████████████████████████████████████████████████████████████▋             | 1659/1836 [04:36<00:22,  7.71it/s]Corrupt JPEG data: 1 extraneous bytes before marker 0xd9\n",
      "Training: 100%|██████████████████████████████████████████████████████████████████████████████████████████████████████████████████████████████████████████| 1836/1836 [05:07<00:00,  5.97it/s]\n"
     ]
    },
    {
     "name": "stdout",
     "output_type": "stream",
     "text": [
      "Total Loss  |Smoke Loss  |Fire Loss   \n",
      "------------ ------------ ------------\n",
      "29.270      |18.102      |11.168      \n",
      "\n"
     ]
    },
    {
     "name": "stderr",
     "output_type": "stream",
     "text": [
      "Validating: 100%|██████████████████████████████████████████████████████████████████████████████████████████████████████████████████████████████████████████| 380/380 [00:36<00:00, 10.41it/s]\n"
     ]
    },
    {
     "name": "stdout",
     "output_type": "stream",
     "text": [
      "Total Loss  |Smoke Loss  |Fire Loss   \n",
      "------------ ------------ ------------\n",
      "27.883      |18.248      |9.636       \n",
      "SMOKE -> Precision: 0.9126 - Recall: 0.7467 - Accuracy: 0.8469 - F1: 0.8214\n",
      "FIRE -> Precision: 0.9344 - Recall: 0.8870 - Accuracy: 0.9432 - F1: 0.9101\n",
      "\n",
      "=== EPOCH 114/149 ===\n",
      "Learning Rate = 2.4178516392292624e-06\n",
      "\n"
     ]
    },
    {
     "name": "stderr",
     "output_type": "stream",
     "text": [
      "Training:  40%|███████████████████████████████████████████████████████▎                                                                                   | 731/1836 [02:04<02:21,  7.82it/s]Warning: unknown JFIF revision number 32.23\n",
      "Training:  51%|███████████████████████████████████████████████████████████████████████                                                                    | 939/1836 [02:39<02:50,  5.26it/s]Corrupt JPEG data: 1 extraneous bytes before marker 0xd9\n",
      "Training:  67%|████████████████████████████████████████████████████████████████████████████████████████████▏                                             | 1226/1836 [03:27<01:16,  8.02it/s]Corrupt JPEG data: 1 extraneous bytes before marker 0xd9\n",
      "Training:  70%|████████████████████████████████████████████████████████████████████████████████████████████████▏                                         | 1279/1836 [03:35<01:13,  7.61it/s]Corrupt JPEG data: 1 extraneous bytes before marker 0xd9\n",
      "Training:  92%|███████████████████████████████████████████████████████████████████████████████████████████████████████████████████████████████           | 1691/1836 [04:43<00:20,  6.95it/s]Corrupt JPEG data: 1 extraneous bytes before marker 0xd9\n",
      "Training: 100%|██████████████████████████████████████████████████████████████████████████████████████████████████████████████████████████████████████████| 1836/1836 [05:06<00:00,  5.99it/s]\n"
     ]
    },
    {
     "name": "stdout",
     "output_type": "stream",
     "text": [
      "Total Loss  |Smoke Loss  |Fire Loss   \n",
      "------------ ------------ ------------\n",
      "29.109      |18.017      |11.092      \n",
      "\n"
     ]
    },
    {
     "name": "stderr",
     "output_type": "stream",
     "text": [
      "Validating: 100%|██████████████████████████████████████████████████████████████████████████████████████████████████████████████████████████████████████████| 380/380 [00:36<00:00, 10.40it/s]\n"
     ]
    },
    {
     "name": "stdout",
     "output_type": "stream",
     "text": [
      "Total Loss  |Smoke Loss  |Fire Loss   \n",
      "------------ ------------ ------------\n",
      "27.446      |18.228      |9.219       \n",
      "SMOKE -> Precision: 0.8861 - Recall: 0.7952 - Accuracy: 0.8553 - F1: 0.8382\n",
      "FIRE -> Precision: 0.9202 - Recall: 0.9146 - Accuracy: 0.9466 - F1: 0.9174\n",
      "Saving model with best Mean F1: 0.8778\n",
      "Model exported to ONNX: experiments_resnet/test_v03__w1a1__DEEP_Resnet__clip_convs_Linear4ReLU__400k_full_ds/onnx/BNN_BED_classifier__best_mean_F1\n",
      "\n",
      "=== EPOCH 115/149 ===\n",
      "Learning Rate = 2.4178516392292624e-06\n",
      "\n"
     ]
    },
    {
     "name": "stderr",
     "output_type": "stream",
     "text": [
      "Training:  32%|███████████████████████████████████████████▉                                                                                               | 580/1836 [01:37<02:48,  7.45it/s]Corrupt JPEG data: 1 extraneous bytes before marker 0xd9\n",
      "Training:  43%|███████████████████████████████████████████████████████████▍                                                                               | 785/1836 [02:12<02:41,  6.51it/s]Corrupt JPEG data: 1 extraneous bytes before marker 0xd9\n",
      "Training:  58%|████████████████████████████████████████████████████████████████████████████████                                                          | 1066/1836 [02:59<01:48,  7.10it/s]Corrupt JPEG data: 1 extraneous bytes before marker 0xd9\n",
      "Training:  72%|██████████████████████████████████████████████████████████████████████████████████████████████████▋                                       | 1313/1836 [03:41<01:11,  7.29it/s]Corrupt JPEG data: 1 extraneous bytes before marker 0xd9\n",
      "Training:  90%|███████████████████████████████████████████████████████████████████████████████████████████████████████████████████████████▌              | 1644/1836 [04:37<00:28,  6.74it/s]Warning: unknown JFIF revision number 32.23\n",
      "Training: 100%|██████████████████████████████████████████████████████████████████████████████████████████████████████████████████████████████████████████| 1836/1836 [05:09<00:00,  5.93it/s]\n"
     ]
    },
    {
     "name": "stdout",
     "output_type": "stream",
     "text": [
      "Total Loss  |Smoke Loss  |Fire Loss   \n",
      "------------ ------------ ------------\n",
      "29.316      |18.137      |11.179      \n",
      "\n"
     ]
    },
    {
     "name": "stderr",
     "output_type": "stream",
     "text": [
      "Validating: 100%|██████████████████████████████████████████████████████████████████████████████████████████████████████████████████████████████████████████| 380/380 [00:36<00:00, 10.45it/s]\n"
     ]
    },
    {
     "name": "stdout",
     "output_type": "stream",
     "text": [
      "Total Loss  |Smoke Loss  |Fire Loss   \n",
      "------------ ------------ ------------\n",
      "27.483      |18.147      |9.337       \n",
      "SMOKE -> Precision: 0.9127 - Recall: 0.7587 - Accuracy: 0.8520 - F1: 0.8286\n",
      "FIRE -> Precision: 0.9212 - Recall: 0.9080 - Accuracy: 0.9450 - F1: 0.9146\n",
      "\n",
      "=== EPOCH 116/149 ===\n",
      "Learning Rate = 2.4178516392292624e-06\n",
      "\n"
     ]
    },
    {
     "name": "stderr",
     "output_type": "stream",
     "text": [
      "Training:  18%|████████████████████████▉                                                                                                                  | 330/1836 [00:58<03:17,  7.63it/s]Corrupt JPEG data: 1 extraneous bytes before marker 0xd9\n",
      "Training:  32%|███████████████████████████████████████████▉                                                                                               | 581/1836 [01:40<02:51,  7.32it/s]Warning: unknown JFIF revision number 32.23\n",
      "Training:  36%|██████████████████████████████████████████████████▏                                                                                        | 663/1836 [01:53<02:30,  7.78it/s]Corrupt JPEG data: 1 extraneous bytes before marker 0xd9\n",
      "Training:  60%|██████████████████████████████████████████████████████████████████████████████████▍                                                       | 1097/1836 [03:06<01:36,  7.65it/s]Corrupt JPEG data: 1 extraneous bytes before marker 0xd9\n",
      "Training:  84%|████████████████████████████████████████████████████████████████████████████████████████████████████████████████████▎                     | 1548/1836 [04:19<00:45,  6.33it/s]Corrupt JPEG data: 1 extraneous bytes before marker 0xd9\n",
      "Training: 100%|██████████████████████████████████████████████████████████████████████████████████████████████████████████████████████████████████████████| 1836/1836 [05:07<00:00,  5.97it/s]\n"
     ]
    },
    {
     "name": "stdout",
     "output_type": "stream",
     "text": [
      "Total Loss  |Smoke Loss  |Fire Loss   \n",
      "------------ ------------ ------------\n",
      "29.380      |18.189      |11.191      \n",
      "\n"
     ]
    },
    {
     "name": "stderr",
     "output_type": "stream",
     "text": [
      "Validating: 100%|██████████████████████████████████████████████████████████████████████████████████████████████████████████████████████████████████████████| 380/380 [00:36<00:00, 10.37it/s]\n"
     ]
    },
    {
     "name": "stdout",
     "output_type": "stream",
     "text": [
      "Total Loss  |Smoke Loss  |Fire Loss   \n",
      "------------ ------------ ------------\n",
      "32.241      |20.688      |11.553      \n",
      "SMOKE -> Precision: 0.8403 - Recall: 0.8120 - Accuracy: 0.8387 - F1: 0.8259\n",
      "FIRE -> Precision: 0.8854 - Recall: 0.8888 - Accuracy: 0.9266 - F1: 0.8871\n",
      "\n",
      "=== EPOCH 117/149 ===\n",
      "Learning Rate = 1.93428131138341e-06\n",
      "\n"
     ]
    },
    {
     "name": "stderr",
     "output_type": "stream",
     "text": [
      "Training:   2%|███▏                                                                                                                                        | 42/1836 [00:09<05:35,  5.35it/s]Corrupt JPEG data: 1 extraneous bytes before marker 0xd9\n",
      "Training:  12%|████████████████▋                                                                                                                          | 221/1836 [00:38<03:54,  6.89it/s]Warning: unknown JFIF revision number 32.23\n",
      "Training:  47%|████████████████████████████████████████████████████████████████▋                                                                          | 855/1836 [02:25<02:07,  7.68it/s]Corrupt JPEG data: 1 extraneous bytes before marker 0xd9\n",
      "Training:  60%|██████████████████████████████████████████████████████████████████████████████████▉                                                       | 1104/1836 [03:07<01:39,  7.34it/s]Corrupt JPEG data: 1 extraneous bytes before marker 0xd9\n",
      "Training:  85%|█████████████████████████████████████████████████████████████████████████████████████████████████████████████████████▏                    | 1559/1836 [04:22<00:39,  6.96it/s]Corrupt JPEG data: 1 extraneous bytes before marker 0xd9\n",
      "Training: 100%|██████████████████████████████████████████████████████████████████████████████████████████████████████████████████████████████████████████| 1836/1836 [05:06<00:00,  5.99it/s]\n"
     ]
    },
    {
     "name": "stdout",
     "output_type": "stream",
     "text": [
      "Total Loss  |Smoke Loss  |Fire Loss   \n",
      "------------ ------------ ------------\n",
      "29.032      |18.022      |11.011      \n",
      "\n"
     ]
    },
    {
     "name": "stderr",
     "output_type": "stream",
     "text": [
      "Validating: 100%|██████████████████████████████████████████████████████████████████████████████████████████████████████████████████████████████████████████| 380/380 [00:36<00:00, 10.42it/s]\n"
     ]
    },
    {
     "name": "stdout",
     "output_type": "stream",
     "text": [
      "Total Loss  |Smoke Loss  |Fire Loss   \n",
      "------------ ------------ ------------\n",
      "27.644      |18.292      |9.352       \n",
      "SMOKE -> Precision: 0.8927 - Recall: 0.7959 - Accuracy: 0.8587 - F1: 0.8415\n",
      "FIRE -> Precision: 0.9045 - Recall: 0.9236 - Accuracy: 0.9436 - F1: 0.9140\n",
      "\n",
      "=== EPOCH 118/149 ===\n",
      "Learning Rate = 1.93428131138341e-06\n",
      "\n"
     ]
    },
    {
     "name": "stderr",
     "output_type": "stream",
     "text": [
      "Training:  32%|███████████████████████████████████████████▉                                                                                               | 580/1836 [01:38<03:00,  6.97it/s]Warning: unknown JFIF revision number 32.23\n",
      "Training:  61%|███████████████████████████████████████████████████████████████████████████████████▊                                                      | 1115/1836 [03:06<01:38,  7.30it/s]Corrupt JPEG data: 1 extraneous bytes before marker 0xd9\n",
      "Training:  80%|██████████████████████████████████████████████████████████████████████████████████████████████████████████████▊                           | 1474/1836 [04:05<01:02,  5.80it/s]Corrupt JPEG data: 1 extraneous bytes before marker 0xd9\n",
      "Training:  85%|█████████████████████████████████████████████████████████████████████████████████████████████████████████████████████▍                    | 1563/1836 [04:19<00:35,  7.65it/s]Corrupt JPEG data: 1 extraneous bytes before marker 0xd9\n",
      "Training:  95%|██████████████████████████████████████████████████████████████████████████████████████████████████████████████████████████████████▍       | 1736/1836 [04:48<00:13,  7.62it/s]Corrupt JPEG data: 1 extraneous bytes before marker 0xd9\n",
      "Training: 100%|██████████████████████████████████████████████████████████████████████████████████████████████████████████████████████████████████████████| 1836/1836 [05:05<00:00,  6.02it/s]\n"
     ]
    },
    {
     "name": "stdout",
     "output_type": "stream",
     "text": [
      "Total Loss  |Smoke Loss  |Fire Loss   \n",
      "------------ ------------ ------------\n",
      "28.970      |17.983      |10.986      \n",
      "\n"
     ]
    },
    {
     "name": "stderr",
     "output_type": "stream",
     "text": [
      "Validating: 100%|██████████████████████████████████████████████████████████████████████████████████████████████████████████████████████████████████████████| 380/380 [00:36<00:00, 10.41it/s]\n"
     ]
    },
    {
     "name": "stdout",
     "output_type": "stream",
     "text": [
      "Total Loss  |Smoke Loss  |Fire Loss   \n",
      "------------ ------------ ------------\n",
      "109.729     |80.885      |28.844      \n",
      "SMOKE -> Precision: 0.8112 - Recall: 0.1053 - Accuracy: 0.5667 - F1: 0.1864\n",
      "FIRE -> Precision: 0.8122 - Recall: 0.4883 - Accuracy: 0.7975 - F1: 0.6099\n",
      "\n",
      "=== EPOCH 119/149 ===\n",
      "Learning Rate = 1.93428131138341e-06\n",
      "\n"
     ]
    },
    {
     "name": "stderr",
     "output_type": "stream",
     "text": [
      "Training:  27%|█████████████████████████████████████▍                                                                                                     | 494/1836 [01:26<03:07,  7.17it/s]Warning: unknown JFIF revision number 32.23\n",
      "Training:  41%|████████████████████████████████████████████████████████▉                                                                                  | 752/1836 [02:08<02:31,  7.15it/s]Corrupt JPEG data: 1 extraneous bytes before marker 0xd9\n",
      "Training:  60%|███████████████████████████████████████████████████████████████████████████████████▎                                                      | 1109/1836 [03:07<01:42,  7.11it/s]Corrupt JPEG data: 1 extraneous bytes before marker 0xd9\n",
      "Training:  88%|█████████████████████████████████████████████████████████████████████████████████████████████████████████████████████████▌                | 1618/1836 [04:31<00:35,  6.23it/s]Corrupt JPEG data: 1 extraneous bytes before marker 0xd9\n",
      "Training:  94%|█████████████████████████████████████████████████████████████████████████████████████████████████████████████████████████████████▏        | 1718/1836 [04:47<00:23,  5.13it/s]Corrupt JPEG data: 1 extraneous bytes before marker 0xd9\n",
      "Training: 100%|██████████████████████████████████████████████████████████████████████████████████████████████████████████████████████████████████████████| 1836/1836 [05:06<00:00,  5.99it/s]\n"
     ]
    },
    {
     "name": "stdout",
     "output_type": "stream",
     "text": [
      "Total Loss  |Smoke Loss  |Fire Loss   \n",
      "------------ ------------ ------------\n",
      "29.180      |18.184      |10.996      \n",
      "\n"
     ]
    },
    {
     "name": "stderr",
     "output_type": "stream",
     "text": [
      "Validating: 100%|██████████████████████████████████████████████████████████████████████████████████████████████████████████████████████████████████████████| 380/380 [00:36<00:00, 10.46it/s]\n"
     ]
    },
    {
     "name": "stdout",
     "output_type": "stream",
     "text": [
      "Total Loss  |Smoke Loss  |Fire Loss   \n",
      "------------ ------------ ------------\n",
      "26.293      |17.417      |8.876       \n",
      "SMOKE -> Precision: 0.9100 - Recall: 0.7717 - Accuracy: 0.8564 - F1: 0.8351\n",
      "FIRE -> Precision: 0.9283 - Recall: 0.9129 - Accuracy: 0.9489 - F1: 0.9205\n",
      "\n",
      "Saving model with new best validation loss: 26.2933\n",
      "Model exported to ONNX: experiments_resnet/test_v03__w1a1__DEEP_Resnet__clip_convs_Linear4ReLU__400k_full_ds/onnx/BNN_BED_classifier__best_loss\n",
      "Saving model with best Mean F1: 0.8778\n",
      "Model exported to ONNX: experiments_resnet/test_v03__w1a1__DEEP_Resnet__clip_convs_Linear4ReLU__400k_full_ds/onnx/BNN_BED_classifier__best_mean_F1\n",
      "\n",
      "=== EPOCH 120/149 ===\n",
      "Learning Rate = 1.93428131138341e-06\n",
      "\n"
     ]
    },
    {
     "name": "stderr",
     "output_type": "stream",
     "text": [
      "Training:   8%|███████████▋                                                                                                                               | 155/1836 [00:26<04:05,  6.85it/s]Corrupt JPEG data: 1 extraneous bytes before marker 0xd9\n",
      "Training:  18%|█████████████████████████                                                                                                                  | 331/1836 [00:56<03:35,  6.98it/s]Corrupt JPEG data: 1 extraneous bytes before marker 0xd9\n",
      "Training:  31%|███████████████████████████████████████████▋                                                                                               | 577/1836 [01:37<03:19,  6.30it/s]Corrupt JPEG data: 1 extraneous bytes before marker 0xd9\n",
      "Training:  65%|█████████████████████████████████████████████████████████████████████████████████████████▏                                                | 1186/1836 [03:18<01:29,  7.28it/s]Corrupt JPEG data: 1 extraneous bytes before marker 0xd9\n",
      "Training:  90%|████████████████████████████████████████████████████████████████████████████████████████████████████████████████████████████▌             | 1658/1836 [04:37<00:23,  7.48it/s]Warning: unknown JFIF revision number 32.23\n",
      "Training: 100%|██████████████████████████████████████████████████████████████████████████████████████████████████████████████████████████████████████████| 1836/1836 [05:06<00:00,  6.00it/s]\n"
     ]
    },
    {
     "name": "stdout",
     "output_type": "stream",
     "text": [
      "Total Loss  |Smoke Loss  |Fire Loss   \n",
      "------------ ------------ ------------\n",
      "29.205      |18.157      |11.048      \n",
      "\n"
     ]
    },
    {
     "name": "stderr",
     "output_type": "stream",
     "text": [
      "Validating: 100%|██████████████████████████████████████████████████████████████████████████████████████████████████████████████████████████████████████████| 380/380 [00:36<00:00, 10.36it/s]\n"
     ]
    },
    {
     "name": "stdout",
     "output_type": "stream",
     "text": [
      "Total Loss  |Smoke Loss  |Fire Loss   \n",
      "------------ ------------ ------------\n",
      "30.193      |19.061      |11.131      \n",
      "SMOKE -> Precision: 0.8561 - Recall: 0.8232 - Accuracy: 0.8514 - F1: 0.8393\n",
      "FIRE -> Precision: 0.8614 - Recall: 0.9437 - Accuracy: 0.9325 - F1: 0.9007\n",
      "\n",
      "=== EPOCH 121/149 ===\n",
      "Learning Rate = 1.93428131138341e-06\n",
      "\n"
     ]
    },
    {
     "name": "stderr",
     "output_type": "stream",
     "text": [
      "Training:  32%|████████████████████████████████████████████▎                                                                                              | 585/1836 [01:40<03:18,  6.29it/s]Warning: unknown JFIF revision number 32.23\n",
      "Training:  34%|██████████████████████████████████████████████▉                                                                                            | 620/1836 [01:45<02:44,  7.39it/s]Corrupt JPEG data: 1 extraneous bytes before marker 0xd9\n",
      "Training:  39%|██████████████████████████████████████████████████████▊                                                                                    | 724/1836 [02:02<02:35,  7.16it/s]Corrupt JPEG data: 1 extraneous bytes before marker 0xd9\n",
      "Training:  85%|████████████████████████████████████████████████████████████████████████████████████████████████████████████████████▉                     | 1555/1836 [04:20<00:44,  6.37it/s]Corrupt JPEG data: 1 extraneous bytes before marker 0xd9\n",
      "Training:  99%|████████████████████████████████████████████████████████████████████████████████████████████████████████████████████████████████████████▋ | 1818/1836 [05:03<00:02,  7.03it/s]Corrupt JPEG data: 1 extraneous bytes before marker 0xd9\n",
      "Training: 100%|██████████████████████████████████████████████████████████████████████████████████████████████████████████████████████████████████████████| 1836/1836 [05:06<00:00,  5.99it/s]\n"
     ]
    },
    {
     "name": "stdout",
     "output_type": "stream",
     "text": [
      "Total Loss  |Smoke Loss  |Fire Loss   \n",
      "------------ ------------ ------------\n",
      "29.447      |18.209      |11.239      \n",
      "\n"
     ]
    },
    {
     "name": "stderr",
     "output_type": "stream",
     "text": [
      "Validating: 100%|██████████████████████████████████████████████████████████████████████████████████████████████████████████████████████████████████████████| 380/380 [00:36<00:00, 10.35it/s]\n"
     ]
    },
    {
     "name": "stdout",
     "output_type": "stream",
     "text": [
      "Total Loss  |Smoke Loss  |Fire Loss   \n",
      "------------ ------------ ------------\n",
      "27.880      |18.964      |8.917       \n",
      "SMOKE -> Precision: 0.8595 - Recall: 0.8002 - Accuracy: 0.8441 - F1: 0.8288\n",
      "FIRE -> Precision: 0.9211 - Recall: 0.9192 - Accuracy: 0.9483 - F1: 0.9201\n",
      "\n",
      "=== EPOCH 122/149 ===\n",
      "Learning Rate = 1.93428131138341e-06\n",
      "\n"
     ]
    },
    {
     "name": "stderr",
     "output_type": "stream",
     "text": [
      "Training:  19%|██████████████████████████▊                                                                                                                | 354/1836 [01:02<04:19,  5.70it/s]Corrupt JPEG data: 1 extraneous bytes before marker 0xd9\n",
      "Training:  26%|███████████████████████████████████▉                                                                                                       | 474/1836 [01:23<03:20,  6.78it/s]Corrupt JPEG data: 1 extraneous bytes before marker 0xd9\n",
      "Training:  55%|████████████████████████████████████████████████████████████████████████████▌                                                             | 1018/1836 [02:52<02:04,  6.59it/s]Corrupt JPEG data: 1 extraneous bytes before marker 0xd9\n",
      "Training:  66%|███████████████████████████████████████████████████████████████████████████████████████████▋                                              | 1220/1836 [03:25<01:41,  6.06it/s]Warning: unknown JFIF revision number 32.23\n",
      "Training:  74%|█████████████████████████████████████████████████████████████████████████████████████████████████████▊                                    | 1354/1836 [03:47<01:21,  5.89it/s]Corrupt JPEG data: 1 extraneous bytes before marker 0xd9\n",
      "Training: 100%|██████████████████████████████████████████████████████████████████████████████████████████████████████████████████████████████████████████| 1836/1836 [05:06<00:00,  6.00it/s]\n"
     ]
    },
    {
     "name": "stdout",
     "output_type": "stream",
     "text": [
      "Total Loss  |Smoke Loss  |Fire Loss   \n",
      "------------ ------------ ------------\n",
      "29.376      |18.286      |11.090      \n",
      "\n"
     ]
    },
    {
     "name": "stderr",
     "output_type": "stream",
     "text": [
      "Validating: 100%|██████████████████████████████████████████████████████████████████████████████████████████████████████████████████████████████████████████| 380/380 [00:36<00:00, 10.40it/s]\n"
     ]
    },
    {
     "name": "stdout",
     "output_type": "stream",
     "text": [
      "Total Loss  |Smoke Loss  |Fire Loss   \n",
      "------------ ------------ ------------\n",
      "28.122      |18.513      |9.609       \n",
      "SMOKE -> Precision: 0.8945 - Recall: 0.7791 - Accuracy: 0.8525 - F1: 0.8328\n",
      "FIRE -> Precision: 0.8908 - Recall: 0.9306 - Accuracy: 0.9405 - F1: 0.9103\n",
      "\n",
      "=== EPOCH 123/149 ===\n",
      "Learning Rate = 1.547425049106728e-06\n",
      "\n"
     ]
    },
    {
     "name": "stderr",
     "output_type": "stream",
     "text": [
      "Training:   0%|▏                                                                                                                                            | 3/1836 [00:02<17:04,  1.79it/s]Corrupt JPEG data: 1 extraneous bytes before marker 0xd9\n",
      "Training:  14%|███████████████████▌                                                                                                                       | 258/1836 [00:44<03:27,  7.62it/s]Corrupt JPEG data: 1 extraneous bytes before marker 0xd9\n",
      "Training:  78%|███████████████████████████████████████████████████████████████████████████████████████████████████████████▎                              | 1427/1836 [03:58<01:02,  6.55it/s]Corrupt JPEG data: 1 extraneous bytes before marker 0xd9\n",
      "Training:  87%|████████████████████████████████████████████████████████████████████████████████████████████████████████████████████████▍                 | 1603/1836 [04:27<00:30,  7.65it/s]Corrupt JPEG data: 1 extraneous bytes before marker 0xd9\n",
      "Training:  88%|█████████████████████████████████████████████████████████████████████████████████████████████████████████████████████████▍                | 1616/1836 [04:29<00:33,  6.50it/s]Warning: unknown JFIF revision number 32.23\n",
      "Training: 100%|██████████████████████████████████████████████████████████████████████████████████████████████████████████████████████████████████████████| 1836/1836 [05:05<00:00,  6.01it/s]\n"
     ]
    },
    {
     "name": "stdout",
     "output_type": "stream",
     "text": [
      "Total Loss  |Smoke Loss  |Fire Loss   \n",
      "------------ ------------ ------------\n",
      "28.994      |18.048      |10.947      \n",
      "\n"
     ]
    },
    {
     "name": "stderr",
     "output_type": "stream",
     "text": [
      "Validating: 100%|██████████████████████████████████████████████████████████████████████████████████████████████████████████████████████████████████████████| 380/380 [00:36<00:00, 10.39it/s]\n"
     ]
    },
    {
     "name": "stdout",
     "output_type": "stream",
     "text": [
      "Total Loss  |Smoke Loss  |Fire Loss   \n",
      "------------ ------------ ------------\n",
      "186.383     |49.969      |136.414     \n",
      "SMOKE -> Precision: 0.6128 - Recall: 0.9678 - Accuracy: 0.6965 - F1: 0.7504\n",
      "FIRE -> Precision: 0.8500 - Recall: 0.0065 - Accuracy: 0.6775 - F1: 0.0128\n",
      "\n",
      "=== EPOCH 124/149 ===\n",
      "Learning Rate = 1.547425049106728e-06\n",
      "\n"
     ]
    },
    {
     "name": "stderr",
     "output_type": "stream",
     "text": [
      "Training:   1%|█▎                                                                                                                                          | 17/1836 [00:04<07:40,  3.95it/s]Corrupt JPEG data: 1 extraneous bytes before marker 0xd9\n",
      "Training:  14%|███████████████████▎                                                                                                                       | 255/1836 [00:44<03:29,  7.53it/s]Corrupt JPEG data: 1 extraneous bytes before marker 0xd9\n",
      "Training:  46%|███████████████████████████████████████████████████████████████▉                                                                           | 845/1836 [02:21<04:00,  4.11it/s]Warning: unknown JFIF revision number 32.23\n",
      "Training:  71%|█████████████████████████████████████████████████████████████████████████████████████████████████▍                                        | 1297/1836 [03:36<01:58,  4.54it/s]Corrupt JPEG data: 1 extraneous bytes before marker 0xd9\n",
      "Training:  82%|█████████████████████████████████████████████████████████████████████████████████████████████████████████████████                         | 1504/1836 [04:10<00:54,  6.06it/s]Corrupt JPEG data: 1 extraneous bytes before marker 0xd9\n",
      "Training: 100%|██████████████████████████████████████████████████████████████████████████████████████████████████████████████████████████████████████████| 1836/1836 [05:06<00:00,  5.99it/s]\n"
     ]
    },
    {
     "name": "stdout",
     "output_type": "stream",
     "text": [
      "Total Loss  |Smoke Loss  |Fire Loss   \n",
      "------------ ------------ ------------\n",
      "29.176      |18.008      |11.168      \n",
      "\n"
     ]
    },
    {
     "name": "stderr",
     "output_type": "stream",
     "text": [
      "Validating: 100%|██████████████████████████████████████████████████████████████████████████████████████████████████████████████████████████████████████████| 380/380 [00:36<00:00, 10.44it/s]\n"
     ]
    },
    {
     "name": "stdout",
     "output_type": "stream",
     "text": [
      "Total Loss  |Smoke Loss  |Fire Loss   \n",
      "------------ ------------ ------------\n",
      "49.922      |34.287      |15.635      \n",
      "SMOKE -> Precision: 0.9730 - Recall: 0.3487 - Accuracy: 0.6884 - F1: 0.5134\n",
      "FIRE -> Precision: 0.9294 - Recall: 0.7969 - Accuracy: 0.9146 - F1: 0.8581\n",
      "\n",
      "=== EPOCH 125/149 ===\n",
      "Learning Rate = 1.547425049106728e-06\n",
      "\n"
     ]
    },
    {
     "name": "stderr",
     "output_type": "stream",
     "text": [
      "Training:   2%|██▎                                                                                                                                         | 31/1836 [00:06<04:06,  7.31it/s]Corrupt JPEG data: 1 extraneous bytes before marker 0xd9\n",
      "Training:  42%|██████████████████████████████████████████████████████████▍                                                                                | 772/1836 [02:11<02:32,  6.99it/s]Warning: unknown JFIF revision number 32.23\n",
      "Training:  44%|█████████████████████████████████████████████████████████████▎                                                                             | 810/1836 [02:17<02:36,  6.55it/s]Corrupt JPEG data: 1 extraneous bytes before marker 0xd9\n",
      "Training:  46%|████████████████████████████████████████████████████████████████▍                                                                          | 851/1836 [02:24<02:56,  5.59it/s]Corrupt JPEG data: 1 extraneous bytes before marker 0xd9\n",
      "Training:  97%|██████████████████████████████████████████████████████████████████████████████████████████████████████████████████████████████████████    | 1784/1836 [04:56<00:09,  5.56it/s]Corrupt JPEG data: 1 extraneous bytes before marker 0xd9\n",
      "Training: 100%|██████████████████████████████████████████████████████████████████████████████████████████████████████████████████████████████████████████| 1836/1836 [05:05<00:00,  6.01it/s]\n"
     ]
    },
    {
     "name": "stdout",
     "output_type": "stream",
     "text": [
      "Total Loss  |Smoke Loss  |Fire Loss   \n",
      "------------ ------------ ------------\n",
      "29.321      |18.149      |11.171      \n",
      "\n"
     ]
    },
    {
     "name": "stderr",
     "output_type": "stream",
     "text": [
      "Validating: 100%|██████████████████████████████████████████████████████████████████████████████████████████████████████████████████████████████████████████| 380/380 [00:36<00:00, 10.40it/s]\n"
     ]
    },
    {
     "name": "stdout",
     "output_type": "stream",
     "text": [
      "Total Loss  |Smoke Loss  |Fire Loss   \n",
      "------------ ------------ ------------\n",
      "27.703      |18.228      |9.475       \n",
      "SMOKE -> Precision: 0.9174 - Recall: 0.7475 - Accuracy: 0.8492 - F1: 0.8238\n",
      "FIRE -> Precision: 0.8822 - Recall: 0.9425 - Accuracy: 0.9406 - F1: 0.9114\n",
      "\n",
      "=== EPOCH 126/149 ===\n",
      "Learning Rate = 1.2379400392853825e-06\n",
      "\n"
     ]
    },
    {
     "name": "stderr",
     "output_type": "stream",
     "text": [
      "Training:  52%|███████████████████████████████████████████████████████████████████████▉                                                                   | 950/1836 [02:40<02:01,  7.27it/s]Warning: unknown JFIF revision number 32.23\n",
      "Training:  85%|█████████████████████████████████████████████████████████████████████████████████████████████████████████████████████▉                    | 1569/1836 [04:22<00:35,  7.46it/s]Corrupt JPEG data: 1 extraneous bytes before marker 0xd9\n",
      "Training:  88%|█████████████████████████████████████████████████████████████████████████████████████████████████████████████████████████▍                | 1615/1836 [04:30<00:30,  7.33it/s]Corrupt JPEG data: 1 extraneous bytes before marker 0xd9\n",
      "Training:  91%|█████████████████████████████████████████████████████████████████████████████████████████████████████████████████████████████▋            | 1673/1836 [04:39<00:23,  6.91it/s]Corrupt JPEG data: 1 extraneous bytes before marker 0xd9\n",
      "Training:  99%|████████████████████████████████████████████████████████████████████████████████████████████████████████████████████████████████████████▌ | 1817/1836 [05:04<00:02,  6.79it/s]Corrupt JPEG data: 1 extraneous bytes before marker 0xd9\n",
      "Training: 100%|██████████████████████████████████████████████████████████████████████████████████████████████████████████████████████████████████████████| 1836/1836 [05:06<00:00,  5.98it/s]\n"
     ]
    },
    {
     "name": "stdout",
     "output_type": "stream",
     "text": [
      "Total Loss  |Smoke Loss  |Fire Loss   \n",
      "------------ ------------ ------------\n",
      "29.423      |18.235      |11.189      \n",
      "\n"
     ]
    },
    {
     "name": "stderr",
     "output_type": "stream",
     "text": [
      "Validating: 100%|██████████████████████████████████████████████████████████████████████████████████████████████████████████████████████████████████████████| 380/380 [00:36<00:00, 10.42it/s]\n"
     ]
    },
    {
     "name": "stdout",
     "output_type": "stream",
     "text": [
      "Total Loss  |Smoke Loss  |Fire Loss   \n",
      "------------ ------------ ------------\n",
      "30.016      |18.904      |11.112      \n",
      "SMOKE -> Precision: 0.8495 - Recall: 0.8250 - Accuracy: 0.8486 - F1: 0.8371\n",
      "FIRE -> Precision: 0.8523 - Recall: 0.9570 - Accuracy: 0.9323 - F1: 0.9016\n",
      "\n",
      "=== EPOCH 127/149 ===\n",
      "Learning Rate = 1.2379400392853825e-06\n",
      "\n"
     ]
    },
    {
     "name": "stderr",
     "output_type": "stream",
     "text": [
      "Training:  36%|██████████████████████████████████████████████████▍                                                                                        | 666/1836 [01:53<04:52,  4.00it/s]Corrupt JPEG data: 1 extraneous bytes before marker 0xd9\n",
      "Training:  43%|████████████████████████████████████████████████████████████▏                                                                              | 795/1836 [02:14<03:00,  5.77it/s]Corrupt JPEG data: 1 extraneous bytes before marker 0xd9\n",
      "Training:  56%|█████████████████████████████████████████████████████████████████████████████▊                                                            | 1035/1836 [02:53<02:00,  6.62it/s]Corrupt JPEG data: 1 extraneous bytes before marker 0xd9\n",
      "Training:  69%|███████████████████████████████████████████████████████████████████████████████████████████████▋                                          | 1273/1836 [03:30<01:16,  7.36it/s]Warning: unknown JFIF revision number 32.23\n",
      "Training:  95%|██████████████████████████████████████████████████████████████████████████████████████████████████████████████████████████████████▋       | 1738/1836 [04:48<00:12,  7.69it/s]Corrupt JPEG data: 1 extraneous bytes before marker 0xd9\n",
      "Training: 100%|██████████████████████████████████████████████████████████████████████████████████████████████████████████████████████████████████████████| 1836/1836 [05:03<00:00,  6.05it/s]\n"
     ]
    },
    {
     "name": "stdout",
     "output_type": "stream",
     "text": [
      "Total Loss  |Smoke Loss  |Fire Loss   \n",
      "------------ ------------ ------------\n",
      "28.786      |18.009      |10.777      \n",
      "\n"
     ]
    },
    {
     "name": "stderr",
     "output_type": "stream",
     "text": [
      "Validating: 100%|██████████████████████████████████████████████████████████████████████████████████████████████████████████████████████████████████████████| 380/380 [00:36<00:00, 10.41it/s]\n"
     ]
    },
    {
     "name": "stdout",
     "output_type": "stream",
     "text": [
      "Total Loss  |Smoke Loss  |Fire Loss   \n",
      "------------ ------------ ------------\n",
      "29.669      |19.402      |10.267      \n",
      "SMOKE -> Precision: 0.8522 - Recall: 0.8200 - Accuracy: 0.8481 - F1: 0.8358\n",
      "FIRE -> Precision: 0.8897 - Recall: 0.9282 - Accuracy: 0.9394 - F1: 0.9086\n",
      "\n",
      "=== EPOCH 128/149 ===\n",
      "Learning Rate = 1.2379400392853825e-06\n",
      "\n"
     ]
    },
    {
     "name": "stderr",
     "output_type": "stream",
     "text": [
      "Training:  35%|████████████████████████████████████████████████                                                                                           | 635/1836 [01:47<03:29,  5.72it/s]Corrupt JPEG data: 1 extraneous bytes before marker 0xd9\n",
      "Training:  36%|█████████████████████████████████████████████████▊                                                                                         | 658/1836 [01:51<07:37,  2.58it/s]Warning: unknown JFIF revision number 32.23\n",
      "Training:  50%|█████████████████████████████████████████████████████████████████████                                                                      | 913/1836 [02:32<02:12,  6.95it/s]Corrupt JPEG data: 1 extraneous bytes before marker 0xd9\n",
      "Training:  52%|████████████████████████████████████████████████████████████████████████▍                                                                  | 957/1836 [02:39<01:53,  7.76it/s]Corrupt JPEG data: 1 extraneous bytes before marker 0xd9\n",
      "Training:  61%|████████████████████████████████████████████████████████████████████████████████████▊                                                     | 1129/1836 [03:08<01:40,  7.00it/s]Corrupt JPEG data: 1 extraneous bytes before marker 0xd9\n",
      "Training: 100%|██████████████████████████████████████████████████████████████████████████████████████████████████████████████████████████████████████████| 1836/1836 [05:03<00:00,  6.04it/s]\n"
     ]
    },
    {
     "name": "stdout",
     "output_type": "stream",
     "text": [
      "Total Loss  |Smoke Loss  |Fire Loss   \n",
      "------------ ------------ ------------\n",
      "28.903      |17.962      |10.941      \n",
      "\n"
     ]
    },
    {
     "name": "stderr",
     "output_type": "stream",
     "text": [
      "Validating: 100%|██████████████████████████████████████████████████████████████████████████████████████████████████████████████████████████████████████████| 380/380 [00:36<00:00, 10.43it/s]\n"
     ]
    },
    {
     "name": "stdout",
     "output_type": "stream",
     "text": [
      "Total Loss  |Smoke Loss  |Fire Loss   \n",
      "------------ ------------ ------------\n",
      "27.840      |18.100      |9.741       \n",
      "SMOKE -> Precision: 0.8939 - Recall: 0.7869 - Accuracy: 0.8555 - F1: 0.8370\n",
      "FIRE -> Precision: 0.8946 - Recall: 0.9329 - Accuracy: 0.9426 - F1: 0.9133\n",
      "\n",
      "=== EPOCH 129/149 ===\n",
      "Learning Rate = 1e-06\n",
      "\n"
     ]
    },
    {
     "name": "stderr",
     "output_type": "stream",
     "text": [
      "Training:  41%|█████████████████████████████████████████████████████████                                                                                  | 754/1836 [02:07<02:45,  6.55it/s]Corrupt JPEG data: 1 extraneous bytes before marker 0xd9\n",
      "Training:  53%|█████████████████████████████████████████████████████████████████████████▍                                                                 | 970/1836 [02:41<01:50,  7.82it/s]Warning: unknown JFIF revision number 32.23\n",
      "Training:  72%|██████████████████████████████████████████████████████████████████████████████████████████████████▋                                       | 1313/1836 [03:40<01:20,  6.53it/s]Corrupt JPEG data: 1 extraneous bytes before marker 0xd9\n",
      "Training:  79%|████████████████████████████████████████████████████████████████████████████████████████████████████████████▍                             | 1442/1836 [04:01<01:01,  6.38it/s]Corrupt JPEG data: 1 extraneous bytes before marker 0xd9\n",
      "Training:  86%|██████████████████████████████████████████████████████████████████████████████████████████████████████████████████████▉                   | 1583/1836 [04:24<00:34,  7.43it/s]Corrupt JPEG data: 1 extraneous bytes before marker 0xd9\n",
      "Training: 100%|██████████████████████████████████████████████████████████████████████████████████████████████████████████████████████████████████████████| 1836/1836 [05:05<00:00,  6.00it/s]\n"
     ]
    },
    {
     "name": "stdout",
     "output_type": "stream",
     "text": [
      "Total Loss  |Smoke Loss  |Fire Loss   \n",
      "------------ ------------ ------------\n",
      "28.885      |17.976      |10.910      \n",
      "\n"
     ]
    },
    {
     "name": "stderr",
     "output_type": "stream",
     "text": [
      "Validating: 100%|██████████████████████████████████████████████████████████████████████████████████████████████████████████████████████████████████████████| 380/380 [00:36<00:00, 10.43it/s]\n"
     ]
    },
    {
     "name": "stdout",
     "output_type": "stream",
     "text": [
      "Total Loss  |Smoke Loss  |Fire Loss   \n",
      "------------ ------------ ------------\n",
      "28.223      |17.940      |10.283      \n",
      "SMOKE -> Precision: 0.8752 - Recall: 0.8113 - Accuracy: 0.8565 - F1: 0.8421\n",
      "FIRE -> Precision: 0.8801 - Recall: 0.9372 - Accuracy: 0.9382 - F1: 0.9077\n",
      "\n",
      "=== EPOCH 130/149 ===\n",
      "Learning Rate = 1e-06\n",
      "\n"
     ]
    },
    {
     "name": "stderr",
     "output_type": "stream",
     "text": [
      "Training:   7%|█████████▏                                                                                                                                 | 121/1836 [00:23<05:37,  5.08it/s]Corrupt JPEG data: 1 extraneous bytes before marker 0xd9\n",
      "Training:  30%|█████████████████████████████████████████▌                                                                                                 | 549/1836 [01:34<03:17,  6.51it/s]Corrupt JPEG data: 1 extraneous bytes before marker 0xd9\n",
      "Training:  40%|███████████████████████████████████████████████████████▋                                                                                   | 735/1836 [02:04<02:37,  7.01it/s]Warning: unknown JFIF revision number 32.23\n",
      "Training:  42%|█████████████████████████████████████████████████████████▉                                                                                 | 765/1836 [02:09<02:46,  6.44it/s]Corrupt JPEG data: 1 extraneous bytes before marker 0xd9\n",
      "Training:  79%|█████████████████████████████████████████████████████████████████████████████████████████████████████████████▍                            | 1456/1836 [04:01<00:54,  6.97it/s]Corrupt JPEG data: 1 extraneous bytes before marker 0xd9\n",
      "Training: 100%|██████████████████████████████████████████████████████████████████████████████████████████████████████████████████████████████████████████| 1836/1836 [05:01<00:00,  6.09it/s]\n"
     ]
    },
    {
     "name": "stdout",
     "output_type": "stream",
     "text": [
      "Total Loss  |Smoke Loss  |Fire Loss   \n",
      "------------ ------------ ------------\n",
      "29.072      |18.019      |11.053      \n",
      "\n"
     ]
    },
    {
     "name": "stderr",
     "output_type": "stream",
     "text": [
      "Validating: 100%|██████████████████████████████████████████████████████████████████████████████████████████████████████████████████████████████████████████| 380/380 [00:36<00:00, 10.37it/s]\n"
     ]
    },
    {
     "name": "stdout",
     "output_type": "stream",
     "text": [
      "Total Loss  |Smoke Loss  |Fire Loss   \n",
      "------------ ------------ ------------\n",
      "26.795      |17.741      |9.054       \n",
      "SMOKE -> Precision: 0.8779 - Recall: 0.8116 - Accuracy: 0.8580 - F1: 0.8435\n",
      "FIRE -> Precision: 0.9016 - Recall: 0.9390 - Accuracy: 0.9470 - F1: 0.9199\n",
      "Saving model with best Mean F1: 0.8817\n",
      "Model exported to ONNX: experiments_resnet/test_v03__w1a1__DEEP_Resnet__clip_convs_Linear4ReLU__400k_full_ds/onnx/BNN_BED_classifier__best_mean_F1\n",
      "\n",
      "=== EPOCH 131/149 ===\n",
      "Learning Rate = 1e-06\n",
      "\n"
     ]
    },
    {
     "name": "stderr",
     "output_type": "stream",
     "text": [
      "Training:  25%|██████████████████████████████████▊                                                                                                        | 459/1836 [01:18<03:25,  6.70it/s]Warning: unknown JFIF revision number 32.23\n",
      "Training:  25%|███████████████████████████████████▍                                                                                                       | 468/1836 [01:19<03:51,  5.90it/s]Corrupt JPEG data: 1 extraneous bytes before marker 0xd9\n",
      "Training:  49%|████████████████████████████████████████████████████████████████████▋                                                                      | 908/1836 [02:32<02:05,  7.39it/s]Corrupt JPEG data: 1 extraneous bytes before marker 0xd9\n",
      "Training:  54%|██████████████████████████████████████████████████████████████████████████▌                                                                | 985/1836 [02:45<01:57,  7.27it/s]Corrupt JPEG data: 1 extraneous bytes before marker 0xd9\n",
      "Training:  83%|██████████████████████████████████████████████████████████████████████████████████████████████████████████████████▊                       | 1528/1836 [04:16<01:04,  4.75it/s]Corrupt JPEG data: 1 extraneous bytes before marker 0xd9\n",
      "Training: 100%|██████████████████████████████████████████████████████████████████████████████████████████████████████████████████████████████████████████| 1836/1836 [05:08<00:00,  5.95it/s]\n"
     ]
    },
    {
     "name": "stdout",
     "output_type": "stream",
     "text": [
      "Total Loss  |Smoke Loss  |Fire Loss   \n",
      "------------ ------------ ------------\n",
      "29.063      |18.111      |10.952      \n",
      "\n"
     ]
    },
    {
     "name": "stderr",
     "output_type": "stream",
     "text": [
      "Validating: 100%|██████████████████████████████████████████████████████████████████████████████████████████████████████████████████████████████████████████| 380/380 [00:36<00:00, 10.41it/s]\n"
     ]
    },
    {
     "name": "stdout",
     "output_type": "stream",
     "text": [
      "Total Loss  |Smoke Loss  |Fire Loss   \n",
      "------------ ------------ ------------\n",
      "27.940      |18.315      |9.625       \n",
      "SMOKE -> Precision: 0.8722 - Recall: 0.8073 - Accuracy: 0.8534 - F1: 0.8385\n",
      "FIRE -> Precision: 0.9174 - Recall: 0.9177 - Accuracy: 0.9465 - F1: 0.9176\n",
      "\n",
      "=== EPOCH 132/149 ===\n",
      "Learning Rate = 1e-06\n",
      "\n"
     ]
    },
    {
     "name": "stderr",
     "output_type": "stream",
     "text": [
      "Training:  10%|█████████████▉                                                                                                                             | 184/1836 [00:32<03:36,  7.62it/s]Corrupt JPEG data: 1 extraneous bytes before marker 0xd9\n",
      "Training:  46%|████████████████████████████████████████████████████████████████                                                                           | 847/1836 [02:22<04:59,  3.30it/s]Corrupt JPEG data: 1 extraneous bytes before marker 0xd9\n",
      "Training:  57%|███████████████████████████████████████████████████████████████████████████████                                                           | 1052/1836 [02:55<01:49,  7.13it/s]Warning: unknown JFIF revision number 32.23\n",
      "Training:  68%|█████████████████████████████████████████████████████████████████████████████████████████████▊                                            | 1248/1836 [03:27<01:34,  6.20it/s]Corrupt JPEG data: 1 extraneous bytes before marker 0xd9\n",
      "Training:  75%|████████████████████████████████████████████████████████████████████████████████████████████████████████                                  | 1384/1836 [03:50<01:04,  6.98it/s]Corrupt JPEG data: 1 extraneous bytes before marker 0xd9\n",
      "Training: 100%|██████████████████████████████████████████████████████████████████████████████████████████████████████████████████████████████████████████| 1836/1836 [05:03<00:00,  6.05it/s]\n"
     ]
    },
    {
     "name": "stdout",
     "output_type": "stream",
     "text": [
      "Total Loss  |Smoke Loss  |Fire Loss   \n",
      "------------ ------------ ------------\n",
      "29.589      |18.326      |11.264      \n",
      "\n"
     ]
    },
    {
     "name": "stderr",
     "output_type": "stream",
     "text": [
      "Validating: 100%|██████████████████████████████████████████████████████████████████████████████████████████████████████████████████████████████████████████| 380/380 [00:36<00:00, 10.43it/s]\n"
     ]
    },
    {
     "name": "stdout",
     "output_type": "stream",
     "text": [
      "Total Loss  |Smoke Loss  |Fire Loss   \n",
      "------------ ------------ ------------\n",
      "28.996      |18.566      |10.430      \n",
      "SMOKE -> Precision: 0.8797 - Recall: 0.7999 - Accuracy: 0.8541 - F1: 0.8379\n",
      "FIRE -> Precision: 0.8808 - Recall: 0.9309 - Accuracy: 0.9368 - F1: 0.9052\n",
      "\n",
      "=== EPOCH 133/149 ===\n",
      "Learning Rate = 1e-06\n",
      "\n"
     ]
    },
    {
     "name": "stderr",
     "output_type": "stream",
     "text": [
      "Training:  11%|███████████████▎                                                                                                                           | 202/1836 [00:35<03:46,  7.21it/s]Corrupt JPEG data: 1 extraneous bytes before marker 0xd9\n",
      "Training:  23%|███████████████████████████████▍                                                                                                           | 415/1836 [01:10<03:05,  7.64it/s]Warning: unknown JFIF revision number 32.23\n",
      "Training:  27%|█████████████████████████████████████▏                                                                                                     | 491/1836 [01:23<03:08,  7.15it/s]Corrupt JPEG data: 1 extraneous bytes before marker 0xd9\n",
      "Training:  53%|█████████████████████████████████████████████████████████████████████████▉                                                                 | 976/1836 [02:44<02:12,  6.48it/s]Corrupt JPEG data: 1 extraneous bytes before marker 0xd9\n",
      "Training:  81%|███████████████████████████████████████████████████████████████████████████████████████████████████████████████▊                          | 1487/1836 [04:08<00:48,  7.25it/s]Corrupt JPEG data: 1 extraneous bytes before marker 0xd9\n",
      "Training: 100%|██████████████████████████████████████████████████████████████████████████████████████████████████████████████████████████████████████████| 1836/1836 [05:05<00:00,  6.00it/s]\n"
     ]
    },
    {
     "name": "stdout",
     "output_type": "stream",
     "text": [
      "Total Loss  |Smoke Loss  |Fire Loss   \n",
      "------------ ------------ ------------\n",
      "29.251      |18.149      |11.103      \n",
      "\n"
     ]
    },
    {
     "name": "stderr",
     "output_type": "stream",
     "text": [
      "Validating: 100%|██████████████████████████████████████████████████████████████████████████████████████████████████████████████████████████████████████████| 380/380 [00:36<00:00, 10.46it/s]\n"
     ]
    },
    {
     "name": "stdout",
     "output_type": "stream",
     "text": [
      "Total Loss  |Smoke Loss  |Fire Loss   \n",
      "------------ ------------ ------------\n",
      "28.500      |18.969      |9.531       \n",
      "SMOKE -> Precision: 0.8805 - Recall: 0.7784 - Accuracy: 0.8457 - F1: 0.8263\n",
      "FIRE -> Precision: 0.9074 - Recall: 0.9238 - Accuracy: 0.9447 - F1: 0.9155\n",
      "\n",
      "=== EPOCH 134/149 ===\n",
      "Learning Rate = 1e-06\n",
      "\n"
     ]
    },
    {
     "name": "stderr",
     "output_type": "stream",
     "text": [
      "Training:   5%|███████                                                                                                                                     | 92/1836 [00:17<05:44,  5.07it/s]Corrupt JPEG data: 1 extraneous bytes before marker 0xd9\n",
      "Training:  32%|████████████████████████████████████████████▌                                                                                              | 589/1836 [01:40<03:09,  6.58it/s]Corrupt JPEG data: 1 extraneous bytes before marker 0xd9\n",
      "Training:  79%|█████████████████████████████████████████████████████████████████████████████████████████████████████████████▌                            | 1458/1836 [04:01<00:49,  7.57it/s]Corrupt JPEG data: 1 extraneous bytes before marker 0xd9\n",
      "Training:  97%|██████████████████████████████████████████████████████████████████████████████████████████████████████████████████████████████████████    | 1783/1836 [04:56<00:06,  7.75it/s]Corrupt JPEG data: 1 extraneous bytes before marker 0xd9\n",
      "Training:  99%|████████████████████████████████████████████████████████████████████████████████████████████████████████████████████████████████████████▍ | 1816/1836 [05:01<00:02,  7.55it/s]Warning: unknown JFIF revision number 32.23\n",
      "Training: 100%|██████████████████████████████████████████████████████████████████████████████████████████████████████████████████████████████████████████| 1836/1836 [05:04<00:00,  6.04it/s]\n"
     ]
    },
    {
     "name": "stdout",
     "output_type": "stream",
     "text": [
      "Total Loss  |Smoke Loss  |Fire Loss   \n",
      "------------ ------------ ------------\n",
      "29.123      |18.036      |11.087      \n",
      "\n"
     ]
    },
    {
     "name": "stderr",
     "output_type": "stream",
     "text": [
      "Validating: 100%|██████████████████████████████████████████████████████████████████████████████████████████████████████████████████████████████████████████| 380/380 [00:36<00:00, 10.47it/s]\n"
     ]
    },
    {
     "name": "stdout",
     "output_type": "stream",
     "text": [
      "Total Loss  |Smoke Loss  |Fire Loss   \n",
      "------------ ------------ ------------\n",
      "26.810      |17.775      |9.034       \n",
      "SMOKE -> Precision: 0.8792 - Recall: 0.8050 - Accuracy: 0.8559 - F1: 0.8405\n",
      "FIRE -> Precision: 0.9005 - Recall: 0.9425 - Accuracy: 0.9476 - F1: 0.9210\n",
      "\n",
      "=== EPOCH 135/149 ===\n",
      "Learning Rate = 1e-06\n",
      "\n"
     ]
    },
    {
     "name": "stderr",
     "output_type": "stream",
     "text": [
      "Training:   6%|████████▍                                                                                                                                  | 112/1836 [00:20<04:00,  7.16it/s]Corrupt JPEG data: 1 extraneous bytes before marker 0xd9\n",
      "Training:  20%|███████████████████████████▍                                                                                                               | 363/1836 [01:02<04:38,  5.29it/s]Corrupt JPEG data: 1 extraneous bytes before marker 0xd9\n",
      "Training:  25%|██████████████████████████████████▎                                                                                                        | 454/1836 [01:17<03:37,  6.36it/s]Corrupt JPEG data: 1 extraneous bytes before marker 0xd9\n",
      "Training:  38%|████████████████████████████████████████████████████▎                                                                                      | 691/1836 [01:56<02:41,  7.07it/s]Warning: unknown JFIF revision number 32.23\n",
      "Training:  70%|█████████████████████████████████████████████████████████████████████████████████████████████████                                         | 1291/1836 [03:35<01:25,  6.37it/s]Corrupt JPEG data: 1 extraneous bytes before marker 0xd9\n",
      "Training: 100%|██████████████████████████████████████████████████████████████████████████████████████████████████████████████████████████████████████████| 1836/1836 [05:04<00:00,  6.03it/s]\n"
     ]
    },
    {
     "name": "stdout",
     "output_type": "stream",
     "text": [
      "Total Loss  |Smoke Loss  |Fire Loss   \n",
      "------------ ------------ ------------\n",
      "28.968      |18.034      |10.934      \n",
      "\n"
     ]
    },
    {
     "name": "stderr",
     "output_type": "stream",
     "text": [
      "Validating: 100%|██████████████████████████████████████████████████████████████████████████████████████████████████████████████████████████████████████████| 380/380 [00:36<00:00, 10.40it/s]\n"
     ]
    },
    {
     "name": "stdout",
     "output_type": "stream",
     "text": [
      "Total Loss  |Smoke Loss  |Fire Loss   \n",
      "------------ ------------ ------------\n",
      "29.584      |18.637      |10.947      \n",
      "SMOKE -> Precision: 0.8795 - Recall: 0.7944 - Accuracy: 0.8518 - F1: 0.8348\n",
      "FIRE -> Precision: 0.9269 - Recall: 0.8558 - Accuracy: 0.9314 - F1: 0.8899\n",
      "\n",
      "=== EPOCH 136/149 ===\n",
      "Learning Rate = 1e-06\n",
      "\n"
     ]
    },
    {
     "name": "stderr",
     "output_type": "stream",
     "text": [
      "Training:  16%|██████████████████████▊                                                                                                                    | 301/1836 [00:52<05:17,  4.83it/s]Warning: unknown JFIF revision number 32.23\n",
      "Training:  54%|███████████████████████████████████████████████████████████████████████████▎                                                               | 995/1836 [02:47<02:11,  6.40it/s]Corrupt JPEG data: 1 extraneous bytes before marker 0xd9\n",
      "Training:  55%|████████████████████████████████████████████████████████████████████████████▎                                                             | 1015/1836 [02:50<02:27,  5.56it/s]Corrupt JPEG data: 1 extraneous bytes before marker 0xd9\n",
      "Training:  77%|██████████████████████████████████████████████████████████████████████████████████████████████████████████▏                               | 1413/1836 [03:55<00:59,  7.15it/s]Corrupt JPEG data: 1 extraneous bytes before marker 0xd9\n",
      "Training:  84%|███████████████████████████████████████████████████████████████████████████████████████████████████████████████████▊                      | 1541/1836 [04:16<00:40,  7.30it/s]Corrupt JPEG data: 1 extraneous bytes before marker 0xd9\n",
      "Training: 100%|██████████████████████████████████████████████████████████████████████████████████████████████████████████████████████████████████████████| 1836/1836 [05:05<00:00,  6.02it/s]\n"
     ]
    },
    {
     "name": "stdout",
     "output_type": "stream",
     "text": [
      "Total Loss  |Smoke Loss  |Fire Loss   \n",
      "------------ ------------ ------------\n",
      "29.285      |18.192      |11.092      \n",
      "\n"
     ]
    },
    {
     "name": "stderr",
     "output_type": "stream",
     "text": [
      "Validating: 100%|██████████████████████████████████████████████████████████████████████████████████████████████████████████████████████████████████████████| 380/380 [00:36<00:00, 10.43it/s]\n"
     ]
    },
    {
     "name": "stdout",
     "output_type": "stream",
     "text": [
      "Total Loss  |Smoke Loss  |Fire Loss   \n",
      "------------ ------------ ------------\n",
      "29.601      |18.316      |11.284      \n",
      "SMOKE -> Precision: 0.8993 - Recall: 0.7802 - Accuracy: 0.8552 - F1: 0.8355\n",
      "FIRE -> Precision: 0.8633 - Recall: 0.9384 - Accuracy: 0.9319 - F1: 0.8993\n",
      "\n",
      "=== EPOCH 137/149 ===\n",
      "Learning Rate = 1e-06\n",
      "\n"
     ]
    },
    {
     "name": "stderr",
     "output_type": "stream",
     "text": [
      "Training:   8%|██████████▊                                                                                                                                | 143/1836 [00:26<06:01,  4.69it/s]Corrupt JPEG data: 1 extraneous bytes before marker 0xd9\n",
      "Training:  22%|█████████████████████████████▉                                                                                                             | 396/1836 [01:08<03:07,  7.66it/s]Corrupt JPEG data: 1 extraneous bytes before marker 0xd9\n",
      "Training:  58%|███████████████████████████████████████████████████████████████████████████████▍                                                          | 1057/1836 [02:59<01:52,  6.90it/s]Warning: unknown JFIF revision number 32.23\n",
      "Training:  85%|█████████████████████████████████████████████████████████████████████████████████████████████████████████████████████                     | 1558/1836 [04:21<00:43,  6.34it/s]Corrupt JPEG data: 1 extraneous bytes before marker 0xd9\n",
      "Training:  88%|█████████████████████████████████████████████████████████████████████████████████████████████████████████████████████████                 | 1611/1836 [04:30<00:30,  7.27it/s]Corrupt JPEG data: 1 extraneous bytes before marker 0xd9\n",
      "Training: 100%|██████████████████████████████████████████████████████████████████████████████████████████████████████████████████████████████████████████| 1836/1836 [05:07<00:00,  5.97it/s]\n"
     ]
    },
    {
     "name": "stdout",
     "output_type": "stream",
     "text": [
      "Total Loss  |Smoke Loss  |Fire Loss   \n",
      "------------ ------------ ------------\n",
      "29.502      |18.186      |11.316      \n",
      "\n"
     ]
    },
    {
     "name": "stderr",
     "output_type": "stream",
     "text": [
      "Validating: 100%|██████████████████████████████████████████████████████████████████████████████████████████████████████████████████████████████████████████| 380/380 [00:36<00:00, 10.43it/s]\n"
     ]
    },
    {
     "name": "stdout",
     "output_type": "stream",
     "text": [
      "Total Loss  |Smoke Loss  |Fire Loss   \n",
      "------------ ------------ ------------\n",
      "28.391      |18.535      |9.857       \n",
      "SMOKE -> Precision: 0.8943 - Recall: 0.7866 - Accuracy: 0.8556 - F1: 0.8370\n",
      "FIRE -> Precision: 0.9053 - Recall: 0.9162 - Accuracy: 0.9417 - F1: 0.9107\n",
      "\n",
      "=== EPOCH 138/149 ===\n",
      "Learning Rate = 1e-06\n",
      "\n"
     ]
    },
    {
     "name": "stderr",
     "output_type": "stream",
     "text": [
      "Training:   0%|                                                                                                                                                     | 0/1836 [00:00<?, ?it/s]Corrupt JPEG data: 1 extraneous bytes before marker 0xd9\n",
      "Training:  58%|███████████████████████████████████████████████████████████████████████████████▉                                                          | 1063/1836 [02:55<01:46,  7.29it/s]Corrupt JPEG data: 1 extraneous bytes before marker 0xd9\n",
      "Training:  67%|████████████████████████████████████████████████████████████████████████████████████████████▍                                             | 1230/1836 [03:22<01:20,  7.56it/s]Corrupt JPEG data: 1 extraneous bytes before marker 0xd9\n",
      "Training:  78%|███████████████████████████████████████████████████████████████████████████████████████████████████████████▉                              | 1436/1836 [03:59<02:27,  2.72it/s]Corrupt JPEG data: 1 extraneous bytes before marker 0xd9\n",
      "Training:  79%|█████████████████████████████████████████████████████████████████████████████████████████████████████████████                             | 1451/1836 [04:01<00:50,  7.59it/s]Warning: unknown JFIF revision number 32.23\n",
      "Training: 100%|██████████████████████████████████████████████████████████████████████████████████████████████████████████████████████████████████████████| 1836/1836 [05:05<00:00,  6.01it/s]\n"
     ]
    },
    {
     "name": "stdout",
     "output_type": "stream",
     "text": [
      "Total Loss  |Smoke Loss  |Fire Loss   \n",
      "------------ ------------ ------------\n",
      "29.674      |18.279      |11.395      \n",
      "\n"
     ]
    },
    {
     "name": "stderr",
     "output_type": "stream",
     "text": [
      "Validating: 100%|██████████████████████████████████████████████████████████████████████████████████████████████████████████████████████████████████████████| 380/380 [00:36<00:00, 10.46it/s]\n"
     ]
    },
    {
     "name": "stdout",
     "output_type": "stream",
     "text": [
      "Total Loss  |Smoke Loss  |Fire Loss   \n",
      "------------ ------------ ------------\n",
      "28.095      |18.325      |9.771       \n",
      "SMOKE -> Precision: 0.8980 - Recall: 0.7844 - Accuracy: 0.8563 - F1: 0.8373\n",
      "FIRE -> Precision: 0.9215 - Recall: 0.8952 - Accuracy: 0.9413 - F1: 0.9082\n",
      "\n",
      "=== EPOCH 139/149 ===\n",
      "Learning Rate = 1e-06\n",
      "\n"
     ]
    },
    {
     "name": "stderr",
     "output_type": "stream",
     "text": [
      "Training:   1%|█▌                                                                                                                                          | 20/1836 [00:05<04:41,  6.46it/s]Corrupt JPEG data: 1 extraneous bytes before marker 0xd9\n",
      "Training:  22%|██████████████████████████████▉                                                                                                            | 408/1836 [01:07<03:24,  6.97it/s]Corrupt JPEG data: 1 extraneous bytes before marker 0xd9\n",
      "Training:  42%|█████████████████████████████████████████████████████████▉                                                                                 | 765/1836 [02:09<04:14,  4.21it/s]Warning: unknown JFIF revision number 32.23\n",
      "Training:  79%|█████████████████████████████████████████████████████████████████████████████████████████████████████████████                             | 1451/1836 [04:03<00:49,  7.84it/s]Corrupt JPEG data: 1 extraneous bytes before marker 0xd9\n",
      "Training:  80%|█████████████████████████████████████████████████████████████████████████████████████████████████████████████▉                            | 1462/1836 [04:04<00:58,  6.36it/s]Corrupt JPEG data: 1 extraneous bytes before marker 0xd9\n",
      "Training: 100%|██████████████████████████████████████████████████████████████████████████████████████████████████████████████████████████████████████████| 1836/1836 [05:06<00:00,  6.00it/s]\n"
     ]
    },
    {
     "name": "stdout",
     "output_type": "stream",
     "text": [
      "Total Loss  |Smoke Loss  |Fire Loss   \n",
      "------------ ------------ ------------\n",
      "29.254      |18.177      |11.078      \n",
      "\n"
     ]
    },
    {
     "name": "stderr",
     "output_type": "stream",
     "text": [
      "Validating: 100%|██████████████████████████████████████████████████████████████████████████████████████████████████████████████████████████████████████████| 380/380 [00:36<00:00, 10.39it/s]\n"
     ]
    },
    {
     "name": "stdout",
     "output_type": "stream",
     "text": [
      "Total Loss  |Smoke Loss  |Fire Loss   \n",
      "------------ ------------ ------------\n",
      "29.195      |18.440      |10.755      \n",
      "SMOKE -> Precision: 0.8836 - Recall: 0.8009 - Accuracy: 0.8564 - F1: 0.8402\n",
      "FIRE -> Precision: 0.8607 - Recall: 0.9540 - Accuracy: 0.9350 - F1: 0.9049\n",
      "\n",
      "=== EPOCH 140/149 ===\n",
      "Learning Rate = 1e-06\n",
      "\n"
     ]
    },
    {
     "name": "stderr",
     "output_type": "stream",
     "text": [
      "Training:  30%|██████████████████████████████████████████                                                                                                 | 555/1836 [01:35<03:01,  7.05it/s]Corrupt JPEG data: 1 extraneous bytes before marker 0xd9\n",
      "Training:  35%|████████████████████████████████████████████████▊                                                                                          | 645/1836 [01:50<03:25,  5.80it/s]Corrupt JPEG data: 1 extraneous bytes before marker 0xd9\n",
      "Training:  43%|███████████████████████████████████████████████████████████▉                                                                               | 792/1836 [02:14<02:24,  7.24it/s]Warning: unknown JFIF revision number 32.23\n",
      "Training:  55%|███████████████████████████████████████████████████████████████████████████▏                                                              | 1001/1836 [02:48<01:47,  7.73it/s]Corrupt JPEG data: 1 extraneous bytes before marker 0xd9\n",
      "Training:  84%|███████████████████████████████████████████████████████████████████████████████████████████████████████████████████▌                      | 1538/1836 [04:16<00:47,  6.29it/s]Corrupt JPEG data: 1 extraneous bytes before marker 0xd9\n",
      "Training: 100%|██████████████████████████████████████████████████████████████████████████████████████████████████████████████████████████████████████████| 1836/1836 [05:05<00:00,  6.02it/s]\n"
     ]
    },
    {
     "name": "stdout",
     "output_type": "stream",
     "text": [
      "Total Loss  |Smoke Loss  |Fire Loss   \n",
      "------------ ------------ ------------\n",
      "29.309      |18.175      |11.134      \n",
      "\n"
     ]
    },
    {
     "name": "stderr",
     "output_type": "stream",
     "text": [
      "Validating: 100%|██████████████████████████████████████████████████████████████████████████████████████████████████████████████████████████████████████████| 380/380 [00:36<00:00, 10.31it/s]\n"
     ]
    },
    {
     "name": "stdout",
     "output_type": "stream",
     "text": [
      "Total Loss  |Smoke Loss  |Fire Loss   \n",
      "------------ ------------ ------------\n",
      "32.026      |20.172      |11.854      \n",
      "SMOKE -> Precision: 0.9045 - Recall: 0.7179 - Accuracy: 0.8313 - F1: 0.8005\n",
      "FIRE -> Precision: 0.8423 - Recall: 0.9504 - Accuracy: 0.9262 - F1: 0.8931\n",
      "\n",
      "=== EPOCH 141/149 ===\n",
      "Learning Rate = 1e-06\n",
      "\n"
     ]
    },
    {
     "name": "stderr",
     "output_type": "stream",
     "text": [
      "Training:   9%|████████████▊                                                                                                                              | 169/1836 [00:30<04:04,  6.83it/s]Corrupt JPEG data: 1 extraneous bytes before marker 0xd9\n",
      "Training:  30%|██████████████████████████████████████████▏                                                                                                | 557/1836 [01:37<03:12,  6.64it/s]Warning: unknown JFIF revision number 32.23\n",
      "Training:  48%|██████████████████████████████████████████████████████████████████▌                                                                        | 879/1836 [02:32<03:04,  5.20it/s]Corrupt JPEG data: 1 extraneous bytes before marker 0xd9\n",
      "Training:  77%|█████████████████████████████████████████████████████████████████████████████████████████████████████████▋                                | 1406/1836 [06:32<06:20,  1.13it/s]Corrupt JPEG data: 1 extraneous bytes before marker 0xd9\n",
      "Training:  87%|███████████████████████████████████████████████████████████████████████████████████████████████████████████████████████▍                  | 1589/1836 [09:11<01:48,  2.27it/s]Corrupt JPEG data: 1 extraneous bytes before marker 0xd9\n",
      "Training: 100%|██████████████████████████████████████████████████████████████████████████████████████████████████████████████████████████████████████████| 1836/1836 [12:36<00:00,  2.43it/s]\n"
     ]
    },
    {
     "name": "stdout",
     "output_type": "stream",
     "text": [
      "Total Loss  |Smoke Loss  |Fire Loss   \n",
      "------------ ------------ ------------\n",
      "29.556      |18.298      |11.258      \n",
      "\n"
     ]
    },
    {
     "name": "stderr",
     "output_type": "stream",
     "text": [
      "Validating: 100%|██████████████████████████████████████████████████████████████████████████████████████████████████████████████████████████████████████████| 380/380 [04:44<00:00,  1.34it/s]\n"
     ]
    },
    {
     "name": "stdout",
     "output_type": "stream",
     "text": [
      "Total Loss  |Smoke Loss  |Fire Loss   \n",
      "------------ ------------ ------------\n",
      "55.291      |37.468      |17.823      \n",
      "SMOKE -> Precision: 0.9569 - Recall: 0.3061 - Accuracy: 0.6664 - F1: 0.4638\n",
      "FIRE -> Precision: 0.9527 - Recall: 0.7428 - Accuracy: 0.9046 - F1: 0.8347\n",
      "\n",
      "=== EPOCH 142/149 ===\n",
      "Learning Rate = 1e-06\n",
      "\n"
     ]
    },
    {
     "name": "stderr",
     "output_type": "stream",
     "text": [
      "Training:  14%|████████████████████▏                                                                                                                      | 266/1836 [02:33<05:06,  5.12it/s]Corrupt JPEG data: 1 extraneous bytes before marker 0xd9\n",
      "Training:  20%|███████████████████████████▍                                                                                                               | 362/1836 [03:29<05:09,  4.76it/s]Corrupt JPEG data: 1 extraneous bytes before marker 0xd9\n",
      "Training:  52%|████████████████████████████████████████████████████████████████████████▍                                                                  | 957/1836 [09:38<06:30,  2.25it/s]Corrupt JPEG data: 1 extraneous bytes before marker 0xd9\n",
      "Training:  70%|████████████████████████████████████████████████████████████████████████████████████████████████▎                                         | 1281/1836 [13:19<09:15,  1.00s/it]Warning: unknown JFIF revision number 32.23\n",
      "Training:  96%|█████████████████████████████████████████████████████████████████████████████████████████████████████████████████████████████████████     | 1771/1836 [18:50<00:16,  4.04it/s]Corrupt JPEG data: 1 extraneous bytes before marker 0xd9\n",
      "Training: 100%|██████████████████████████████████████████████████████████████████████████████████████████████████████████████████████████████████████████| 1836/1836 [19:33<00:00,  1.56it/s]\n"
     ]
    },
    {
     "name": "stdout",
     "output_type": "stream",
     "text": [
      "Total Loss  |Smoke Loss  |Fire Loss   \n",
      "------------ ------------ ------------\n",
      "29.600      |18.305      |11.296      \n",
      "\n"
     ]
    },
    {
     "name": "stderr",
     "output_type": "stream",
     "text": [
      "Validating: 100%|██████████████████████████████████████████████████████████████████████████████████████████████████████████████████████████████████████████| 380/380 [00:36<00:00, 10.39it/s]\n"
     ]
    },
    {
     "name": "stdout",
     "output_type": "stream",
     "text": [
      "Total Loss  |Smoke Loss  |Fire Loss   \n",
      "------------ ------------ ------------\n",
      "27.385      |17.853      |9.532       \n",
      "SMOKE -> Precision: 0.8960 - Recall: 0.7913 - Accuracy: 0.8583 - F1: 0.8404\n",
      "FIRE -> Precision: 0.9035 - Recall: 0.9280 - Accuracy: 0.9445 - F1: 0.9156\n",
      "\n",
      "=== EPOCH 143/149 ===\n",
      "Learning Rate = 1e-06\n",
      "\n"
     ]
    },
    {
     "name": "stderr",
     "output_type": "stream",
     "text": [
      "Training:   3%|███▌                                                                                                                                        | 47/1836 [00:09<04:11,  7.11it/s]Corrupt JPEG data: 1 extraneous bytes before marker 0xd9\n",
      "Training:  23%|████████████████████████████████▎                                                                                                          | 427/1836 [01:13<04:05,  5.75it/s]Corrupt JPEG data: 1 extraneous bytes before marker 0xd9\n",
      "Training:  57%|██████████████████████████████████████████████████████████████████████████████                                                            | 1039/1836 [02:53<02:57,  4.50it/s]Corrupt JPEG data: 1 extraneous bytes before marker 0xd9\n",
      "Training:  79%|█████████████████████████████████████████████████████████████████████████████████████████████████████████████▏                            | 1453/1836 [03:59<00:59,  6.43it/s]Corrupt JPEG data: 1 extraneous bytes before marker 0xd9\n",
      "Training:  98%|███████████████████████████████████████████████████████████████████████████████████████████████████████████████████████████████████████▋  | 1805/1836 [04:59<00:05,  6.09it/s]Warning: unknown JFIF revision number 32.23\n",
      "Training: 100%|██████████████████████████████████████████████████████████████████████████████████████████████████████████████████████████████████████████| 1836/1836 [05:04<00:00,  6.03it/s]\n"
     ]
    },
    {
     "name": "stdout",
     "output_type": "stream",
     "text": [
      "Total Loss  |Smoke Loss  |Fire Loss   \n",
      "------------ ------------ ------------\n",
      "29.322      |18.126      |11.196      \n",
      "\n"
     ]
    },
    {
     "name": "stderr",
     "output_type": "stream",
     "text": [
      "Validating: 100%|██████████████████████████████████████████████████████████████████████████████████████████████████████████████████████████████████████████| 380/380 [00:36<00:00, 10.43it/s]\n"
     ]
    },
    {
     "name": "stdout",
     "output_type": "stream",
     "text": [
      "Total Loss  |Smoke Loss  |Fire Loss   \n",
      "------------ ------------ ------------\n",
      "26.581      |17.341      |9.240       \n",
      "SMOKE -> Precision: 0.9047 - Recall: 0.7947 - Accuracy: 0.8637 - F1: 0.8461\n",
      "FIRE -> Precision: 0.9074 - Recall: 0.9155 - Accuracy: 0.9423 - F1: 0.9114\n",
      "\n",
      "=== EPOCH 144/149 ===\n",
      "Learning Rate = 1e-06\n",
      "\n"
     ]
    },
    {
     "name": "stderr",
     "output_type": "stream",
     "text": [
      "Training:  20%|████████████████████████████▍                                                                                                              | 376/1836 [01:04<03:09,  7.68it/s]Warning: unknown JFIF revision number 32.23\n",
      "Training:  45%|██████████████████████████████████████████████████████████████▉                                                                            | 832/1836 [02:19<02:14,  7.47it/s]Corrupt JPEG data: 1 extraneous bytes before marker 0xd9\n",
      "Training:  65%|██████████████████████████████████████████████████████████████████████████████████████████                                                | 1199/1836 [03:20<01:25,  7.44it/s]Corrupt JPEG data: 1 extraneous bytes before marker 0xd9\n",
      "Training:  75%|███████████████████████████████████████████████████████████████████████████████████████████████████████                                   | 1372/1836 [03:48<01:19,  5.83it/s]Corrupt JPEG data: 1 extraneous bytes before marker 0xd9\n",
      "Training:  80%|██████████████████████████████████████████████████████████████████████████████████████████████████████████████▎                           | 1468/1836 [04:04<01:07,  5.42it/s]Corrupt JPEG data: 1 extraneous bytes before marker 0xd9\n",
      "Training: 100%|██████████████████████████████████████████████████████████████████████████████████████████████████████████████████████████████████████████| 1836/1836 [05:04<00:00,  6.03it/s]\n"
     ]
    },
    {
     "name": "stdout",
     "output_type": "stream",
     "text": [
      "Total Loss  |Smoke Loss  |Fire Loss   \n",
      "------------ ------------ ------------\n",
      "29.392      |18.188      |11.205      \n",
      "\n"
     ]
    },
    {
     "name": "stderr",
     "output_type": "stream",
     "text": [
      "Validating: 100%|██████████████████████████████████████████████████████████████████████████████████████████████████████████████████████████████████████████| 380/380 [00:36<00:00, 10.38it/s]\n"
     ]
    },
    {
     "name": "stdout",
     "output_type": "stream",
     "text": [
      "Total Loss  |Smoke Loss  |Fire Loss   \n",
      "------------ ------------ ------------\n",
      "26.868      |17.381      |9.486       \n",
      "SMOKE -> Precision: 0.9061 - Recall: 0.7893 - Accuracy: 0.8621 - F1: 0.8437\n",
      "FIRE -> Precision: 0.9035 - Recall: 0.9235 - Accuracy: 0.9432 - F1: 0.9134\n",
      "\n",
      "=== EPOCH 145/149 ===\n",
      "Learning Rate = 1e-06\n",
      "\n"
     ]
    },
    {
     "name": "stderr",
     "output_type": "stream",
     "text": [
      "Training:  31%|███████████████████████████████████████████▌                                                                                               | 575/1836 [01:36<07:00,  3.00it/s]Corrupt JPEG data: 1 extraneous bytes before marker 0xd9\n",
      "Training:  49%|████████████████████████████████████████████████████████████████████▍                                                                      | 904/1836 [02:31<02:39,  5.85it/s]Corrupt JPEG data: 1 extraneous bytes before marker 0xd9\n",
      "Training:  51%|██████████████████████████████████████████████████████████████████████▊                                                                    | 936/1836 [02:36<02:00,  7.45it/s]Corrupt JPEG data: 1 extraneous bytes before marker 0xd9\n",
      "Training:  85%|█████████████████████████████████████████████████████████████████████████████████████████████████████████████████████▊                    | 1567/1836 [04:20<00:48,  5.59it/s]Warning: unknown JFIF revision number 32.23\n",
      "Training:  94%|█████████████████████████████████████████████████████████████████████████████████████████████████████████████████████████████████▏        | 1718/1836 [04:45<00:15,  7.50it/s]Corrupt JPEG data: 1 extraneous bytes before marker 0xd9\n",
      "Training: 100%|██████████████████████████████████████████████████████████████████████████████████████████████████████████████████████████████████████████| 1836/1836 [05:04<00:00,  6.03it/s]\n"
     ]
    },
    {
     "name": "stdout",
     "output_type": "stream",
     "text": [
      "Total Loss  |Smoke Loss  |Fire Loss   \n",
      "------------ ------------ ------------\n",
      "29.274      |18.220      |11.055      \n",
      "\n"
     ]
    },
    {
     "name": "stderr",
     "output_type": "stream",
     "text": [
      "Validating: 100%|██████████████████████████████████████████████████████████████████████████████████████████████████████████████████████████████████████████| 380/380 [00:36<00:00, 10.39it/s]\n"
     ]
    },
    {
     "name": "stdout",
     "output_type": "stream",
     "text": [
      "Total Loss  |Smoke Loss  |Fire Loss   \n",
      "------------ ------------ ------------\n",
      "26.508      |17.822      |8.686       \n",
      "SMOKE -> Precision: 0.8975 - Recall: 0.7848 - Accuracy: 0.8563 - F1: 0.8374\n",
      "FIRE -> Precision: 0.9183 - Recall: 0.9290 - Accuracy: 0.9502 - F1: 0.9236\n",
      "\n",
      "=== EPOCH 146/149 ===\n",
      "Learning Rate = 1e-06\n",
      "\n"
     ]
    },
    {
     "name": "stderr",
     "output_type": "stream",
     "text": [
      "Training:  12%|█████████████████▎                                                                                                                         | 228/1836 [00:41<03:42,  7.24it/s]Corrupt JPEG data: 1 extraneous bytes before marker 0xd9\n",
      "Training:  13%|██████████████████                                                                                                                         | 238/1836 [00:42<03:24,  7.83it/s]Corrupt JPEG data: 1 extraneous bytes before marker 0xd9\n",
      "Training:  33%|██████████████████████████████████████████████▌                                                                                            | 615/1836 [01:45<02:35,  7.85it/s]Warning: unknown JFIF revision number 32.23\n",
      "Training:  78%|███████████████████████████████████████████████████████████████████████████████████████████████████████████▊                              | 1435/1836 [03:59<00:52,  7.66it/s]Corrupt JPEG data: 1 extraneous bytes before marker 0xd9\n",
      "Training:  95%|███████████████████████████████████████████████████████████████████████████████████████████████████████████████████████████████████       | 1744/1836 [04:49<00:12,  7.23it/s]Corrupt JPEG data: 1 extraneous bytes before marker 0xd9\n",
      "Training: 100%|██████████████████████████████████████████████████████████████████████████████████████████████████████████████████████████████████████████| 1836/1836 [05:05<00:00,  6.00it/s]\n"
     ]
    },
    {
     "name": "stdout",
     "output_type": "stream",
     "text": [
      "Total Loss  |Smoke Loss  |Fire Loss   \n",
      "------------ ------------ ------------\n",
      "29.399      |18.178      |11.221      \n",
      "\n"
     ]
    },
    {
     "name": "stderr",
     "output_type": "stream",
     "text": [
      "Validating: 100%|██████████████████████████████████████████████████████████████████████████████████████████████████████████████████████████████████████████| 380/380 [00:36<00:00, 10.42it/s]\n"
     ]
    },
    {
     "name": "stdout",
     "output_type": "stream",
     "text": [
      "Total Loss  |Smoke Loss  |Fire Loss   \n",
      "------------ ------------ ------------\n",
      "57.216      |30.736      |26.480      \n",
      "SMOKE -> Precision: 0.8734 - Recall: 0.4387 - Accuracy: 0.7054 - F1: 0.5841\n",
      "FIRE -> Precision: 0.9694 - Recall: 0.6640 - Accuracy: 0.8843 - F1: 0.7882\n",
      "\n",
      "=== EPOCH 147/149 ===\n",
      "Learning Rate = 1e-06\n",
      "\n"
     ]
    },
    {
     "name": "stderr",
     "output_type": "stream",
     "text": [
      "Training:   0%|                                                                                                                                                     | 0/1836 [00:00<?, ?it/s]Corrupt JPEG data: 1 extraneous bytes before marker 0xd9\n",
      "Training:  29%|███████████████████████████████████████▉                                                                                                   | 528/1836 [01:29<03:07,  6.97it/s]Corrupt JPEG data: 1 extraneous bytes before marker 0xd9\n",
      "Training:  40%|███████████████████████████████████████████████████████                                                                                    | 727/1836 [02:02<02:27,  7.54it/s]Warning: unknown JFIF revision number 32.23\n",
      "Training:  48%|██████████████████████████████████████████████████████████████████▎                                                                        | 876/1836 [02:27<02:41,  5.96it/s]Corrupt JPEG data: 1 extraneous bytes before marker 0xd9\n",
      "Training:  63%|██████████████████████████████████████████████████████████████████████████████████████▊                                                   | 1155/1836 [03:12<01:42,  6.62it/s]Corrupt JPEG data: 1 extraneous bytes before marker 0xd9\n",
      "Training: 100%|██████████████████████████████████████████████████████████████████████████████████████████████████████████████████████████████████████████| 1836/1836 [05:04<00:00,  6.04it/s]\n"
     ]
    },
    {
     "name": "stdout",
     "output_type": "stream",
     "text": [
      "Total Loss  |Smoke Loss  |Fire Loss   \n",
      "------------ ------------ ------------\n",
      "29.388      |18.200      |11.188      \n",
      "\n"
     ]
    },
    {
     "name": "stderr",
     "output_type": "stream",
     "text": [
      "Validating: 100%|██████████████████████████████████████████████████████████████████████████████████████████████████████████████████████████████████████████| 380/380 [00:36<00:00, 10.43it/s]\n"
     ]
    },
    {
     "name": "stdout",
     "output_type": "stream",
     "text": [
      "Total Loss  |Smoke Loss  |Fire Loss   \n",
      "------------ ------------ ------------\n",
      "27.957      |18.661      |9.296       \n",
      "SMOKE -> Precision: 0.8921 - Recall: 0.7780 - Accuracy: 0.8510 - F1: 0.8312\n",
      "FIRE -> Precision: 0.9008 - Recall: 0.9333 - Accuracy: 0.9451 - F1: 0.9168\n",
      "\n",
      "=== EPOCH 148/149 ===\n",
      "Learning Rate = 1e-06\n",
      "\n"
     ]
    },
    {
     "name": "stderr",
     "output_type": "stream",
     "text": [
      "Training:   9%|█████████████▏                                                                                                                             | 174/1836 [00:30<04:36,  6.00it/s]Corrupt JPEG data: 1 extraneous bytes before marker 0xd9\n",
      "Training:  15%|████████████████████▉                                                                                                                      | 276/1836 [00:47<03:39,  7.12it/s]Corrupt JPEG data: 1 extraneous bytes before marker 0xd9\n",
      "Training:  15%|█████████████████████▍                                                                                                                     | 283/1836 [00:49<03:57,  6.53it/s]Warning: unknown JFIF revision number 32.23\n",
      "Training:  40%|███████████████████████████████████████████████████████▎                                                                                   | 730/1836 [02:02<02:48,  6.57it/s]Corrupt JPEG data: 1 extraneous bytes before marker 0xd9\n",
      "Training:  68%|██████████████████████████████████████████████████████████████████████████████████████████████▎                                           | 1255/1836 [03:30<01:16,  7.56it/s]Corrupt JPEG data: 1 extraneous bytes before marker 0xd9\n",
      "Training: 100%|██████████████████████████████████████████████████████████████████████████████████████████████████████████████████████████████████████████| 1836/1836 [05:08<00:00,  5.96it/s]\n"
     ]
    },
    {
     "name": "stdout",
     "output_type": "stream",
     "text": [
      "Total Loss  |Smoke Loss  |Fire Loss   \n",
      "------------ ------------ ------------\n",
      "29.310      |18.159      |11.151      \n",
      "\n"
     ]
    },
    {
     "name": "stderr",
     "output_type": "stream",
     "text": [
      "Validating: 100%|██████████████████████████████████████████████████████████████████████████████████████████████████████████████████████████████████████████| 380/380 [00:36<00:00, 10.41it/s]\n"
     ]
    },
    {
     "name": "stdout",
     "output_type": "stream",
     "text": [
      "Total Loss  |Smoke Loss  |Fire Loss   \n",
      "------------ ------------ ------------\n",
      "27.420      |17.786      |9.634       \n",
      "SMOKE -> Precision: 0.8989 - Recall: 0.7818 - Accuracy: 0.8557 - F1: 0.8363\n",
      "FIRE -> Precision: 0.9108 - Recall: 0.9143 - Accuracy: 0.9432 - F1: 0.9125\n",
      "\n",
      "=== EPOCH 149/149 ===\n",
      "Learning Rate = 1e-06\n",
      "\n"
     ]
    },
    {
     "name": "stderr",
     "output_type": "stream",
     "text": [
      "Training:  55%|████████████████████████████████████████████████████████████████████████████▎                                                             | 1015/1836 [02:49<02:25,  5.65it/s]Corrupt JPEG data: 1 extraneous bytes before marker 0xd9\n",
      "Training:  62%|█████████████████████████████████████████████████████████████████████████████████████▊                                                    | 1141/1836 [03:10<01:53,  6.14it/s]Corrupt JPEG data: 1 extraneous bytes before marker 0xd9\n",
      "Training:  67%|█████████████████████████████████████████████████████████████████████████████████████████████▏                                            | 1239/1836 [03:26<01:41,  5.91it/s]Corrupt JPEG data: 1 extraneous bytes before marker 0xd9\n",
      "Training:  84%|███████████████████████████████████████████████████████████████████████████████████████████████████████████████████▉                      | 1543/1836 [04:18<01:14,  3.93it/s]Warning: unknown JFIF revision number 32.23\n",
      "Training:  96%|████████████████████████████████████████████████████████████████████████████████████████████████████████████████████████████████████▊     | 1767/1836 [04:54<00:09,  7.57it/s]Corrupt JPEG data: 1 extraneous bytes before marker 0xd9\n",
      "Training: 100%|██████████████████████████████████████████████████████████████████████████████████████████████████████████████████████████████████████████| 1836/1836 [05:05<00:00,  6.01it/s]\n"
     ]
    },
    {
     "name": "stdout",
     "output_type": "stream",
     "text": [
      "Total Loss  |Smoke Loss  |Fire Loss   \n",
      "------------ ------------ ------------\n",
      "29.538      |18.281      |11.258      \n",
      "\n"
     ]
    },
    {
     "name": "stderr",
     "output_type": "stream",
     "text": [
      "Validating: 100%|██████████████████████████████████████████████████████████████████████████████████████████████████████████████████████████████████████████| 380/380 [00:36<00:00, 10.38it/s]\n"
     ]
    },
    {
     "name": "stdout",
     "output_type": "stream",
     "text": [
      "Total Loss  |Smoke Loss  |Fire Loss   \n",
      "------------ ------------ ------------\n",
      "29.513      |19.163      |10.349      \n",
      "SMOKE -> Precision: 0.8533 - Recall: 0.8156 - Accuracy: 0.8470 - F1: 0.8340\n",
      "FIRE -> Precision: 0.8882 - Recall: 0.9343 - Accuracy: 0.9406 - F1: 0.9107\n",
      "\n",
      "***Script finished: 16:21:20\n",
      "\n",
      "Time elapsed: 14:18:19.094563\n"
     ]
    }
   ],
   "source": [
    "if __name__ == \"__main__\":\n",
    "    \n",
    "    print(\"Starting script\\n\")\n",
    "    logger.info(\"Starting script\\n\")\n",
    "    \n",
    "    model = train_loop(model)"
   ]
  },
  {
   "cell_type": "markdown",
   "id": "56d1f2a9-a762-45aa-bcf8-87b99a3c0a03",
   "metadata": {},
   "source": [
    "### Train MORE"
   ]
  },
  {
   "cell_type": "code",
   "execution_count": 144,
   "id": "bb0eaad5-d3f2-48e4-9922-505d025372b7",
   "metadata": {},
   "outputs": [],
   "source": [
    "# if __name__ == \"__main__\":\n",
    "    \n",
    "#     print(\"Train More script\\n\")\n",
    "#     logger.info(\"Train More\\n\")\n",
    "    \n",
    "#     model = train_loop(model, start_epoch=100, epochs_to_train=50)"
   ]
  },
  {
   "cell_type": "markdown",
   "id": "6e5e0386-520e-4452-a4bd-217a39e3478f",
   "metadata": {},
   "source": [
    "# Test with DFire MINI Dataset: Train and Test"
   ]
  },
  {
   "cell_type": "code",
   "execution_count": 145,
   "id": "ab9c8bf2-dce8-4ac5-82a9-abbd30a20b08",
   "metadata": {},
   "outputs": [],
   "source": [
    "# import importlib\n",
    "# importlib.reload(config)\n",
    "# importlib.reload(dataloaders)"
   ]
  },
  {
   "cell_type": "code",
   "execution_count": 101,
   "id": "1c7cc77c-6bdf-4d83-9358-61038a8b23bb",
   "metadata": {},
   "outputs": [
    {
     "name": "stdout",
     "output_type": "stream",
     "text": [
      "\n",
      "====================\n",
      "TRAIN DFire MINI dataset\n",
      "DFire Removed wrong images: 0\n",
      "DFire empty images: 20\n",
      "DFire only smoke images: 45\n",
      "DFire only fire images: 5\n",
      "DFire smoke and fire images: 30\n",
      "\n",
      "Test dataset len: 100\n",
      "\n",
      "====================\n",
      "TEST DFire MINI dataset\n",
      "DFire Removed wrong images: 0\n",
      "DFire empty images: 6\n",
      "DFire only smoke images: 13\n",
      "DFire only fire images: 2\n",
      "DFire smoke and fire images: 9\n",
      "\n",
      "Test dataset len: 30\n"
     ]
    }
   ],
   "source": [
    "train_dfire_mini_loader = dataloaders.get_dfire_mini_train_loader()\n",
    "test_dfire_mini_loader = dataloaders.get_dfire_mini_test_loader()"
   ]
  },
  {
   "cell_type": "markdown",
   "id": "46c18474-8bc6-4f26-9479-529412e9c71d",
   "metadata": {},
   "source": [
    "### Load Checkpoint with Best F1 Mean"
   ]
  },
  {
   "cell_type": "code",
   "execution_count": 146,
   "id": "b517a297-edea-4d37-9e5b-90ca2512c9e7",
   "metadata": {},
   "outputs": [],
   "source": [
    "model_path = config.WEIGHTS_FOLDER + config.MODEL + '_classifier__best_mean_F1.pt'"
   ]
  },
  {
   "cell_type": "code",
   "execution_count": 147,
   "id": "9b0959a9-9b84-4fd6-85a3-67fb519f6b10",
   "metadata": {},
   "outputs": [
    {
     "name": "stdout",
     "output_type": "stream",
     "text": [
      "Loading Model. Trained during 130 epochs\n"
     ]
    },
    {
     "data": {
      "text/plain": [
       "130"
      ]
     },
     "execution_count": 147,
     "metadata": {},
     "output_type": "execute_result"
    }
   ],
   "source": [
    "utils.load_checkpoint(\n",
    "    model_path, \n",
    "    model=model, \n",
    "    optimizer=optimizer, \n",
    "    scheduler=scheduler, \n",
    "    device=config.DEVICE)"
   ]
  },
  {
   "cell_type": "markdown",
   "id": "c8eb53e5-0b75-4bb0-8f45-d2e104d25a13",
   "metadata": {},
   "source": [
    "### Whole Test Loader, to check it is the same as training"
   ]
  },
  {
   "cell_type": "code",
   "execution_count": 148,
   "id": "9c1ae050-a816-407d-9569-5e5b6f84af6b",
   "metadata": {},
   "outputs": [
    {
     "name": "stderr",
     "output_type": "stream",
     "text": [
      "Validating: 100%|██████████████████████████████████████████████████████████████████████████████████████████████████████████████████████████████████████████| 380/380 [00:37<00:00, 10.25it/s]"
     ]
    },
    {
     "name": "stdout",
     "output_type": "stream",
     "text": [
      "Total Loss  |Smoke Loss  |Fire Loss   \n",
      "------------ ------------ ------------\n",
      "26.795      |17.741      |9.054       \n",
      "SMOKE -> Precision: 0.8779 - Recall: 0.8116 - Accuracy: 0.8580 - F1: 0.8435\n",
      "FIRE -> Precision: 0.9016 - Recall: 0.9390 - Accuracy: 0.9470 - F1: 0.9199\n"
     ]
    },
    {
     "name": "stderr",
     "output_type": "stream",
     "text": [
      "\n"
     ]
    }
   ],
   "source": [
    "with torch.no_grad():\n",
    "    val_losses, val_metrics = val_epoch.eval_fn(\n",
    "        loader=val_loader, \n",
    "        model=model,                         \n",
    "        loss_fn=loss_fn,\n",
    "        device=config.DEVICE)"
   ]
  },
  {
   "cell_type": "code",
   "execution_count": 149,
   "id": "bf582d94-1848-4729-8816-86f1211e9904",
   "metadata": {},
   "outputs": [],
   "source": [
    "logger.info('\\nTesting with FULL TEST LOADER')  \n",
    "#logger.info(val_losses)\n",
    "logger.info(val_metrics)"
   ]
  },
  {
   "cell_type": "markdown",
   "id": "36662803-7b09-4c43-9e14-5045635f86ab",
   "metadata": {},
   "source": [
    "### Train DFire MINI"
   ]
  },
  {
   "cell_type": "code",
   "execution_count": 150,
   "id": "d40dff6c-50a6-4fa9-af36-496730a81fab",
   "metadata": {},
   "outputs": [
    {
     "name": "stderr",
     "output_type": "stream",
     "text": [
      "Validating: 100%|██████████████████████████████████████████████████████████████████████████████████████████████████████████████████████████████████████████| 100/100 [00:02<00:00, 48.95it/s]"
     ]
    },
    {
     "name": "stdout",
     "output_type": "stream",
     "text": [
      "Total Loss  |Smoke Loss  |Fire Loss   \n",
      "------------ ------------ ------------\n",
      "0.674       |0.423       |0.251       \n",
      "SMOKE -> Precision: 0.9200 - Recall: 0.6133 - Accuracy: 0.6700 - F1: 0.7360\n",
      "FIRE -> Precision: 0.8824 - Recall: 0.8571 - Accuracy: 0.9100 - F1: 0.8696\n"
     ]
    },
    {
     "name": "stderr",
     "output_type": "stream",
     "text": [
      "\n"
     ]
    }
   ],
   "source": [
    "with torch.no_grad():\n",
    "    val_losses, val_metrics = val_epoch.eval_fn(\n",
    "        loader=train_dfire_mini_loader, \n",
    "        model=model,                         \n",
    "        loss_fn=loss_fn,\n",
    "        device=config.DEVICE)"
   ]
  },
  {
   "cell_type": "code",
   "execution_count": 151,
   "id": "9f864d7c-7da2-4c7c-b99a-f1943d722b13",
   "metadata": {},
   "outputs": [],
   "source": [
    "logger.info('\\nTesting with DFire MINI TRAIN after LOADING F1 Best Mean CHECKPOINT')  \n",
    "#logger.info(val_losses)\n",
    "logger.info(val_metrics)"
   ]
  },
  {
   "cell_type": "markdown",
   "id": "17c77cd9-05ef-4771-8707-82ba5f16ef0c",
   "metadata": {},
   "source": [
    "### Test DFire MINI"
   ]
  },
  {
   "cell_type": "code",
   "execution_count": 152,
   "id": "2c237df0-9726-42e9-8ebe-d738948fb047",
   "metadata": {},
   "outputs": [
    {
     "name": "stderr",
     "output_type": "stream",
     "text": [
      "Validating: 100%|████████████████████████████████████████████████████████████████████████████████████████████████████████████████████████████████████████████| 30/30 [00:00<00:00, 37.03it/s]"
     ]
    },
    {
     "name": "stdout",
     "output_type": "stream",
     "text": [
      "Total Loss  |Smoke Loss  |Fire Loss   \n",
      "------------ ------------ ------------\n",
      "0.600       |0.377       |0.223       \n",
      "SMOKE -> Precision: 0.8947 - Recall: 0.7727 - Accuracy: 0.7667 - F1: 0.8293\n",
      "FIRE -> Precision: 0.7857 - Recall: 1.0000 - Accuracy: 0.9000 - F1: 0.8800\n"
     ]
    },
    {
     "name": "stderr",
     "output_type": "stream",
     "text": [
      "\n"
     ]
    }
   ],
   "source": [
    "with torch.no_grad():\n",
    "    val_losses, val_metrics = val_epoch.eval_fn(\n",
    "        loader=test_dfire_mini_loader, \n",
    "        model=model,                         \n",
    "        loss_fn=loss_fn,\n",
    "        device=config.DEVICE)"
   ]
  },
  {
   "cell_type": "code",
   "execution_count": 153,
   "id": "06fdf6f8-b716-4ee3-a29a-ea9972387cd8",
   "metadata": {},
   "outputs": [],
   "source": [
    "logger.info('\\nTesting with DFire MINI TEST after LOADING F1 Best Mean CHECKPOINT')  \n",
    "#logger.info(val_losses)\n",
    "logger.info(val_metrics)"
   ]
  },
  {
   "cell_type": "markdown",
   "id": "32e7e65c-f132-4cd2-bf11-8bc040f8c71d",
   "metadata": {},
   "source": [
    "# Convert the Model to BIPOLAR OUT"
   ]
  },
  {
   "cell_type": "code",
   "execution_count": 154,
   "id": "f15e359d-ec85-483b-96e3-d265ce7ec4db",
   "metadata": {},
   "outputs": [],
   "source": [
    "import brevitas.nn as qnn\n",
    "import torch.nn as nn"
   ]
  },
  {
   "cell_type": "code",
   "execution_count": 155,
   "id": "473783b9-254b-40ff-b67f-a4818f531e29",
   "metadata": {},
   "outputs": [],
   "source": [
    "class CNV_BIPOLAR_OUT(nn.Module):\n",
    "    def __init__(self, base_model):\n",
    "        super(CNV_BIPOLAR_OUT, self).__init__()\n",
    "        self.base_model = base_model\n",
    "        self.qnt_output = qnn.QuantIdentity(\n",
    "            quant_type='binary', \n",
    "            scaling_impl_type='const',\n",
    "            bit_width=1, min_val=-1.0, max_val=1.0)\n",
    "\n",
    "    def forward(self, x):\n",
    "        x = self.base_model(x)\n",
    "        x = self.qnt_output(x)\n",
    "        return x"
   ]
  },
  {
   "cell_type": "code",
   "execution_count": 156,
   "id": "c2314ef9-10ab-42ad-b61c-122ae49cf5ce",
   "metadata": {},
   "outputs": [],
   "source": [
    "cnv_bipolar_out = CNV_BIPOLAR_OUT(model).to(config.DEVICE)"
   ]
  },
  {
   "cell_type": "markdown",
   "id": "493f850e-5904-45b9-b9cc-08e4a06edaa3",
   "metadata": {},
   "source": [
    "### New Evaluation for BIPOLAR Out Model"
   ]
  },
  {
   "cell_type": "code",
   "execution_count": 157,
   "id": "cffbe14b-9375-4ed0-8355-546e5ed7d3fa",
   "metadata": {},
   "outputs": [],
   "source": [
    "from tqdm import tqdm\n",
    "\n",
    "def eval_bipolar_fn(loader, model, device):\n",
    "    \n",
    "    model.eval()\n",
    "    loop = tqdm(loader, desc='Validating', leave=True)\n",
    "\n",
    "    for batch_idx, (x, y) in enumerate(loop):\n",
    "        x, y = x.to(device), y.to(device)\n",
    "        yhat = model(x)\n",
    "\n",
    "        # print(y.shape)\n",
    "        # print(yhat.shape)\n",
    "        \n",
    "        yhat[yhat < 1] = 0\n",
    "    \n",
    "        metrics.precision_metric.update(yhat, y)\n",
    "        metrics.recall_metric.update(yhat, y)\n",
    "        metrics.accuracy_metric.update(yhat, y)\n",
    "        metrics.f1_metric.update(yhat, y)\n",
    "   \n",
    "    precision = metrics.precision_metric.compute()\n",
    "    recall = metrics.recall_metric.compute()\n",
    "    accuracy = metrics.accuracy_metric.compute()\n",
    "    f1 = metrics.f1_metric.compute()\n",
    "    \n",
    "    metrics.precision_metric.reset()\n",
    "    metrics.recall_metric.reset()\n",
    "    metrics.accuracy_metric.reset()\n",
    "    metrics.f1_metric.reset()\n",
    "\n",
    "    print(f'SMOKE -> Precision: {precision[0]:.4f} - Recall: {recall[0]:.4f} - Accuracy: {accuracy[0]:.4f} - F1: {f1[0]:.4f}')\n",
    "    print(f'FIRE -> Precision: {precision[1]:.4f} - Recall: {recall[1]:.4f} - Accuracy: {accuracy[1]:.4f} - F1: {f1[1]:.4f}')\n",
    "    \n",
    "    return (\n",
    "        {\n",
    "        'Accuracy': [accuracy[0].item(), accuracy[1].item()],\n",
    "        'Precision': [precision[0].item(), precision[1].item()],\n",
    "        'Recall': [recall[0].item(), recall[1].item()],\n",
    "        'F1': [f1[0].item(), f1[1].item()] \n",
    "        }\n",
    "    )"
   ]
  },
  {
   "cell_type": "markdown",
   "id": "f84a61d0-0d29-4776-84d3-3d521ed01a66",
   "metadata": {},
   "source": [
    "### Full DS"
   ]
  },
  {
   "cell_type": "code",
   "execution_count": 158,
   "id": "513edc21-1e27-4d6c-b130-a7d30cffb885",
   "metadata": {},
   "outputs": [
    {
     "name": "stderr",
     "output_type": "stream",
     "text": [
      "Validating: 100%|██████████████████████████████████████████████████████████████████████████████████████████████████████████████████████████████████████████| 380/380 [00:36<00:00, 10.43it/s]"
     ]
    },
    {
     "name": "stdout",
     "output_type": "stream",
     "text": [
      "SMOKE -> Precision: 0.8779 - Recall: 0.8116 - Accuracy: 0.8580 - F1: 0.8435\n",
      "FIRE -> Precision: 0.9016 - Recall: 0.9390 - Accuracy: 0.9470 - F1: 0.9199\n"
     ]
    },
    {
     "name": "stderr",
     "output_type": "stream",
     "text": [
      "\n"
     ]
    }
   ],
   "source": [
    "cnv_bipolar_out.eval()\n",
    "with torch.no_grad():\n",
    "    val_metrics = eval_bipolar_fn(\n",
    "        loader=val_loader, \n",
    "        model=cnv_bipolar_out,                         \n",
    "        device=config.DEVICE)"
   ]
  },
  {
   "cell_type": "markdown",
   "id": "6b9069b1-1d40-462e-9c97-347d412b106a",
   "metadata": {},
   "source": [
    "### Mini Train"
   ]
  },
  {
   "cell_type": "code",
   "execution_count": 159,
   "id": "c2dfba24-25b5-47c2-a7b6-735472b3ed40",
   "metadata": {},
   "outputs": [
    {
     "name": "stderr",
     "output_type": "stream",
     "text": [
      "Validating: 100%|██████████████████████████████████████████████████████████████████████████████████████████████████████████████████████████████████████████| 100/100 [00:01<00:00, 82.77it/s]"
     ]
    },
    {
     "name": "stdout",
     "output_type": "stream",
     "text": [
      "SMOKE -> Precision: 0.9200 - Recall: 0.6133 - Accuracy: 0.6700 - F1: 0.7360\n",
      "FIRE -> Precision: 0.8824 - Recall: 0.8571 - Accuracy: 0.9100 - F1: 0.8696\n"
     ]
    },
    {
     "name": "stderr",
     "output_type": "stream",
     "text": [
      "\n"
     ]
    }
   ],
   "source": [
    "with torch.no_grad():\n",
    "    val_metrics = eval_bipolar_fn(\n",
    "        loader=train_dfire_mini_loader, \n",
    "        model=cnv_bipolar_out,                         \n",
    "        device=config.DEVICE)"
   ]
  },
  {
   "cell_type": "markdown",
   "id": "23ebed5c-63bc-452f-9921-8cd95819464b",
   "metadata": {},
   "source": [
    "### Mini Test"
   ]
  },
  {
   "cell_type": "code",
   "execution_count": 160,
   "id": "c382be4b-69ad-4942-83bc-6c8bfb99564e",
   "metadata": {},
   "outputs": [
    {
     "name": "stderr",
     "output_type": "stream",
     "text": [
      "Validating: 100%|████████████████████████████████████████████████████████████████████████████████████████████████████████████████████████████████████████████| 30/30 [00:00<00:00, 60.08it/s]"
     ]
    },
    {
     "name": "stdout",
     "output_type": "stream",
     "text": [
      "SMOKE -> Precision: 0.8947 - Recall: 0.7727 - Accuracy: 0.7667 - F1: 0.8293\n",
      "FIRE -> Precision: 0.7857 - Recall: 1.0000 - Accuracy: 0.9000 - F1: 0.8800\n"
     ]
    },
    {
     "name": "stderr",
     "output_type": "stream",
     "text": [
      "\n"
     ]
    }
   ],
   "source": [
    "with torch.no_grad():\n",
    "    val_metrics = eval_bipolar_fn(\n",
    "        loader=test_dfire_mini_loader, \n",
    "        model=cnv_bipolar_out,                         \n",
    "        device=config.DEVICE)"
   ]
  },
  {
   "cell_type": "markdown",
   "id": "13f30466-81f7-49a0-a34a-01a156df9a55",
   "metadata": {},
   "source": [
    "# Export Bipolar to QONNX"
   ]
  },
  {
   "cell_type": "code",
   "execution_count": 161,
   "id": "fbde75e8-45af-49e5-b8a5-2e1fff6be869",
   "metadata": {
    "editable": true,
    "slideshow": {
     "slide_type": ""
    },
    "tags": []
   },
   "outputs": [
    {
     "name": "stdout",
     "output_type": "stream",
     "text": [
      "Model exported to ONNX: experiments_resnet/test_v03__w1a1__DEEP_Resnet__clip_convs_Linear4ReLU__400k_full_ds/onnx/BNN_BED_classifier__best_mean_F1__BIPOLAR_Out\n"
     ]
    }
   ],
   "source": [
    "save_f1_name = 'best_mean_F1'\n",
    "save_bipolar_onnx = config.ONNX_FOLDER + config.MODEL + '_classifier__' + save_f1_name + '__BIPOLAR_Out'\n",
    "utils.export_onnx(cnv_bipolar_out, (1, config.NUM_CHANNELS, config.IMG_H, config.IMG_W), save_bipolar_onnx, config.DEVICE)"
   ]
  },
  {
   "cell_type": "markdown",
   "id": "5727ab8f-31f6-4218-8c1a-454c18ca6b70",
   "metadata": {},
   "source": [
    "# Quant INT Out"
   ]
  },
  {
   "cell_type": "code",
   "execution_count": 118,
   "id": "c6a5d6e6-8462-47c3-9fcd-9326e617c287",
   "metadata": {},
   "outputs": [],
   "source": [
    "# from brevitas.core.quant import QuantType\n",
    "# from modules.common_imagenet import CommonIntActQuant\n",
    "# from brevitas.core.restrict_val import RestrictValueType"
   ]
  },
  {
   "cell_type": "code",
   "execution_count": 119,
   "id": "fe1e38a7-734b-4f8b-aa80-4d6573f3b3cd",
   "metadata": {},
   "outputs": [],
   "source": [
    "# class CNV_QINT_OUT(nn.Module):\n",
    "#     def __init__(self, base_model):\n",
    "#         super(CNV_QINT_OUT, self).__init__()\n",
    "#         self.base_model = base_model\n",
    "#         self.qnt_output = qnn.QuantIdentity( \n",
    "#             act_quant = CommonIntActQuant,\n",
    "#             bit_width = 8,\n",
    "#             min_val = -1.0,\n",
    "#             max_val = 1.0 - 2.0 ** (-7),\n",
    "#             narrow_range = False, \n",
    "#             restrict_scaling_type = RestrictValueType.POWER_OF_TWO)\n",
    "\n",
    "#     def forward(self, x):\n",
    "#         x = self.base_model(x)\n",
    "#         x = self.qnt_output(x)\n",
    "#         return x"
   ]
  },
  {
   "cell_type": "code",
   "execution_count": 120,
   "id": "6bb012bc-08d2-490e-a439-48216ce9c58b",
   "metadata": {},
   "outputs": [],
   "source": [
    "# cnv_qint_out = CNV_QINT_OUT(model).to(config.DEVICE)"
   ]
  },
  {
   "cell_type": "code",
   "execution_count": 121,
   "id": "4ffa118d-a4fb-4a60-9b2e-92b8f8e4dc14",
   "metadata": {},
   "outputs": [],
   "source": [
    "# save_f1_name = 'best_mean_F1'\n",
    "# save_qint_onnx = config.ONNX_FOLDER + config.MODEL + '_classifier__' + save_f1_name + '__QINT_Out'\n",
    "# utils.export_onnx(cnv_qint_out, (1, config.NUM_CHANNELS, config.IMG_H, config.IMG_W), save_qint_onnx, config.DEVICE)"
   ]
  },
  {
   "cell_type": "code",
   "execution_count": 122,
   "id": "ddda99af-c026-4a3c-8696-bf118e50ad4c",
   "metadata": {
    "editable": true,
    "slideshow": {
     "slide_type": ""
    },
    "tags": []
   },
   "outputs": [],
   "source": [
    "# for param in model.parameters():\n",
    "#     print(param)"
   ]
  },
  {
   "cell_type": "code",
   "execution_count": null,
   "id": "b2b541e3-1fc3-421b-aeda-34d4dc75a74f",
   "metadata": {},
   "outputs": [],
   "source": []
  }
 ],
 "metadata": {
  "kernelspec": {
   "display_name": "Python 3 (ipykernel)",
   "language": "python",
   "name": "python3"
  },
  "language_info": {
   "codemirror_mode": {
    "name": "ipython",
    "version": 3
   },
   "file_extension": ".py",
   "mimetype": "text/x-python",
   "name": "python",
   "nbconvert_exporter": "python",
   "pygments_lexer": "ipython3",
   "version": "3.10.9"
  }
 },
 "nbformat": 4,
 "nbformat_minor": 5
}
