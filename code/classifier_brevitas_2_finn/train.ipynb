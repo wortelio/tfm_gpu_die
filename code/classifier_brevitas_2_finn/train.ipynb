{
 "cells": [
  {
   "cell_type": "code",
   "execution_count": 1,
   "id": "ced39284-e77a-4bb4-b4f4-1e32f8dc378b",
   "metadata": {},
   "outputs": [
    {
     "name": "stderr",
     "output_type": "stream",
     "text": [
      "/opt/conda/envs/pytorch_brevitas/lib/python3.10/site-packages/onnxscript/converter.py:820: FutureWarning: 'onnxscript.values.Op.param_schemas' is deprecated in version 0.1 and will be removed in the future. Please use '.op_signature' instead.\n",
      "  param_schemas = callee.param_schemas()\n",
      "/opt/conda/envs/pytorch_brevitas/lib/python3.10/site-packages/onnxscript/converter.py:820: FutureWarning: 'onnxscript.values.OnnxFunction.param_schemas' is deprecated in version 0.1 and will be removed in the future. Please use '.op_signature' instead.\n",
      "  param_schemas = callee.param_schemas()\n"
     ]
    }
   ],
   "source": [
    "import logging\n",
    "import datetime\n",
    "\n",
    "import numpy as np\n",
    "import torch\n",
    "from torch.nn.utils import parameters_to_vector\n",
    "import torch.optim as optim\n",
    "from torchinfo import summary\n",
    "\n",
    "import matplotlib.pyplot as plt\n",
    "\n",
    "import config\n",
    "import modules.dataloaders as dataloaders\n",
    "\n",
    "#import modules.model_CNV as cnv_model\n",
    "# import modules.models.model_CNV_w1a1 as cnv_model\n",
    "# import modules.models.model_CNV_w1a1_BIG as cnv_model\n",
    "# import modules.models.model_CNV_w1a1_WIDE as cnv_model\n",
    "# import modules.models.model_CNV_w1a1_linear4 as cnv_model\n",
    "# import modules.models.model_CNV_w1a1_DEEP_Resnet as cnv_model\n",
    "# import modules.models.model_torch_CNV_w1a1_Balanced_Resnet_bram as cnv_model\n",
    "# import modules.models.model_CNV_w1a1_Balanced_Resnet_bram as cnv_model\n",
    "# import modules.models.model_CNV_w1a1_DEEP_Resnet_V2 as cnv_model\n",
    "# import modules.models.model_CNV_w1a1_DEEP_Resnet_V3 as cnv_model\n",
    "# import modules.models.model_CNV_w1a1_DEEP_Resnet_V4 as cnv_model\n",
    "# import modules.models.model_CNV_w1a1_DEEP_Resnet_V5 as cnv_model\n",
    "\n",
    "import modules.models.model_CNV_w1a1_DEEP_Resnet_V51 as cnv_model\n",
    "\n",
    "# import modules.models.model_CNV_w1a1_DEEP_Resnet_V7 as cnv_model\n",
    "\n",
    "#import modules.models.model_CNV_imagenet as cnv_model\n",
    "# import modules.models.model_CNV_AIMET_imagenet as cnv_model\n",
    "# import modules.models.model_CNV_AIMET_NoPadding_imagenet as cnv_model\n",
    "# import modules.models.model_CNV_AIMET_NoPadding_FPGA_imagenet as cnv_model\n",
    "\n",
    "import modules.loss as loss\n",
    "import modules.metrics as metrics\n",
    "import modules.train_epoch as train_epoch\n",
    "import modules.val_epoch as val_epoch\n",
    "import modules.utils as utils"
   ]
  },
  {
   "cell_type": "code",
   "execution_count": 2,
   "id": "8c9f1ed9-bdb0-4417-ac3d-cec7acef5117",
   "metadata": {},
   "outputs": [],
   "source": [
    "# from brevitas.export import export_onnx_qcdq\n",
    "# from brevitas.export import export_qonnx"
   ]
  },
  {
   "cell_type": "code",
   "execution_count": 3,
   "id": "124ca52d-dd8c-4b94-a60d-3f1c65600e76",
   "metadata": {},
   "outputs": [],
   "source": [
    "# import importlib"
   ]
  },
  {
   "cell_type": "code",
   "execution_count": 4,
   "id": "5b1b35f4-e30a-4a72-bd2f-f7ab91b14252",
   "metadata": {},
   "outputs": [],
   "source": [
    "# importlib.reload(config)"
   ]
  },
  {
   "cell_type": "code",
   "execution_count": 5,
   "id": "95fef265-dc2d-40ec-a716-7fd7b316f15e",
   "metadata": {},
   "outputs": [],
   "source": [
    "# importlib.reload(cnv_model)"
   ]
  },
  {
   "cell_type": "code",
   "execution_count": 6,
   "id": "af881207-29a8-40f0-84cc-814a8529ddb4",
   "metadata": {},
   "outputs": [],
   "source": [
    "# importlib.reload(train_epoch)"
   ]
  },
  {
   "cell_type": "markdown",
   "id": "4e2413f4-083b-4ddd-bf51-0332c1166d47",
   "metadata": {},
   "source": [
    "# Logger"
   ]
  },
  {
   "cell_type": "code",
   "execution_count": 7,
   "id": "9006bcad-639b-4775-b5a6-2fd13420cbb2",
   "metadata": {},
   "outputs": [],
   "source": [
    "log_path = config.LOGS_FOLDER\n",
    "\n",
    "logger = logging.getLogger(\"GonLogger\")\n",
    "logger.propagate = False\n",
    "logger.setLevel(logging.INFO)\n",
    "file_handler = logging.FileHandler(log_path + 'logfile.log')\n",
    "formatter = logging.Formatter('%(message)s')\n",
    "file_handler.setFormatter(formatter)\n",
    "\n",
    "# add file handler to logger\n",
    "logger.addHandler(file_handler)\n",
    "\n",
    "logger.info('BED Classifier.\\n' +  \n",
    "            '\\tOne Head.\\n' +\n",
    "            '\\tWeighted for Precision.\\n' +\n",
    "            '\\tBrevitas Default.\\n'+ \n",
    "            '\\tDataset images divided by 255.\\n')"
   ]
  },
  {
   "cell_type": "markdown",
   "id": "3884364d-ec36-4e80-a0d5-c5d259f4b313",
   "metadata": {},
   "source": [
    "# Hyperparameters Log"
   ]
  },
  {
   "cell_type": "code",
   "execution_count": 8,
   "id": "25fe6b1d-7f69-48d4-80a2-219e19c33016",
   "metadata": {},
   "outputs": [
    {
     "name": "stdout",
     "output_type": "stream",
     "text": [
      "Training Brevitas Model = True\n",
      "\n",
      "Datasets Length\n",
      "\tTrain and Val: 128\n",
      "\n",
      "Load Model: False\n",
      "Device: cuda\n",
      "Optimizer:\n",
      "\tLearning Rate: 0.001\n",
      "\tWeight Decay: 0.001\n",
      "Scheduler:\n",
      "\tScheduler factor: 0.8\n",
      "\tScheduler patience: 2\n",
      "\tScheduler threshold: 0.001\n",
      "\tScheduler min learning rate: 1e-06\n",
      "Batch Size: 64\n",
      "Num Workers: 8\n",
      "Pin Memory: True\n",
      "Epochs: 5\n",
      "\n",
      "IMG DIMS:\n",
      "\tWidth: 224\n",
      "\tHeight: 224\n",
      "\n",
      "Brevitas Config:\n",
      "\tFixed Point: True\n",
      "\tWeights Bit Width: 4\n",
      "\tBig Layers Weights Bit Width: 2\n",
      "\tBias Bit Width: 4\n",
      "\tActivations Bit Width: 4\n"
     ]
    }
   ],
   "source": [
    "''' ============================\n",
    "    Print Config Values\n",
    "============================ '''\n",
    "print(f'Training Brevitas Model = {config.BREVITAS_MODEL}')\n",
    "print('\\nDatasets Length')\n",
    "print(f'\\tTrain and Val: {\"Full\" if config.DS_LEN == None else config.DS_LEN}')\n",
    "print(f'\\nLoad Model: {config.LOAD_MODEL}')\n",
    "if (config.LOAD_MODEL == True):\n",
    "    print(f'\\tModel: {config.LOAD_MODEL_FILE}')\n",
    "print(f'Device: {config.DEVICE}')\n",
    "print('Optimizer:')\n",
    "print(f'\\tLearning Rate: {config.LEARNING_RATE}')\n",
    "print(f'\\tWeight Decay: {config.WEIGHT_DECAY}')\n",
    "print('Scheduler:')\n",
    "print(f'\\tScheduler factor: {config.FACTOR}')\n",
    "print(f'\\tScheduler patience: {config.PATIENCE}')\n",
    "print(f'\\tScheduler threshold: {config.THRES}')\n",
    "print(f'\\tScheduler min learning rate: {config.MIN_LR}')\n",
    "print(f'Batch Size: {config.BATCH_SIZE}')\n",
    "print(f'Num Workers: {config.NUM_WORKERS}')\n",
    "print(f'Pin Memory: {config.PIN_MEMORY}')\n",
    "print(f'Epochs: {config.EPOCHS}')\n",
    "print('\\nIMG DIMS:')\n",
    "print(f'\\tWidth: {config.IMG_W}\\n\\tHeight: {config.IMG_H}')\n",
    "print('\\nBrevitas Config:')\n",
    "print(f'\\tFixed Point: {config.FIXED_POINT}')\n",
    "print(f'\\tWeights Bit Width: {config.WEIGHTS_BIT_WIDTH}')\n",
    "print(f'\\tBig Layers Weights Bit Width: {config.BIG_LAYERS_WEIGHTS_BIT_WIDTH}')\n",
    "print(f'\\tBias Bit Width: {config.BIAS_BIT_WIDTH}')\n",
    "print(f'\\tActivations Bit Width: {config.ACTIVATIONS_BIT_WIDTH}')\n",
    "\n",
    "logger.info(f'Training Brevitas Model = {config.BREVITAS_MODEL}')\n",
    "logger.info('\\nDatasets Length')\n",
    "logger.info(f'\\tTrain and Val: {\"Full\" if config.DS_LEN == None else config.DS_LEN}')\n",
    "logger.info(f'\\nLoad Model: {config.LOAD_MODEL}')\n",
    "if (config.LOAD_MODEL == True):\n",
    "    logger.info(f'\\tModel: {config.LOAD_MODEL_FILE}')\n",
    "logger.info(f'\\nDevice: {config.DEVICE}')\n",
    "logger.info('Optimizer:')\n",
    "logger.info(f'\\tLearning Rate: {config.LEARNING_RATE}')\n",
    "logger.info(f'\\tWeight Decay: {config.WEIGHT_DECAY}')\n",
    "logger.info('Scheduler:')\n",
    "logger.info(f'\\tScheduler factor: {config.FACTOR}')\n",
    "logger.info(f'\\tScheduler patience: {config.PATIENCE}')\n",
    "logger.info(f'\\tScheduler threshold: {config.THRES}')\n",
    "logger.info(f'\\tScheduler min learning rate: {config.MIN_LR}')\n",
    "logger.info(f'\\nBatch Size: {config.BATCH_SIZE}')\n",
    "logger.info(f'Num Workers: {config.NUM_WORKERS}')\n",
    "logger.info(f'Pin Memory: {config.PIN_MEMORY}')\n",
    "logger.info(f'Epochs: {config.EPOCHS}')\n",
    "logger.info('\\nIMG DIMS:')\n",
    "logger.info(f'\\tWidth: {config.IMG_W}\\n\\tHeight: {config.IMG_H}')\n",
    "logger.info('\\nBrevitas Config:')\n",
    "logger.info(f'\\tFixed Point: {config.FIXED_POINT}')\n",
    "logger.info(f'\\tWeights Bit Width: {config.WEIGHTS_BIT_WIDTH}')\n",
    "logger.info(f'\\tBig Layers Weights Bit Width: {config.BIG_LAYERS_WEIGHTS_BIT_WIDTH}')\n",
    "logger.info(f'\\tBias Bit Width: {config.BIAS_BIT_WIDTH}')\n",
    "logger.info(f'\\tActivations Bit Width: {config.ACTIVATIONS_BIT_WIDTH}')"
   ]
  },
  {
   "cell_type": "markdown",
   "id": "c48611bc-7a36-41f5-a80c-5cc442bd40fd",
   "metadata": {},
   "source": [
    "# Dataloaders"
   ]
  },
  {
   "cell_type": "code",
   "execution_count": 9,
   "id": "125fadde-618b-4a0d-8d1e-86f4b46a35a2",
   "metadata": {},
   "outputs": [
    {
     "name": "stdout",
     "output_type": "stream",
     "text": [
      "\n",
      "====================\n",
      "TRAIN DFIRE dataset\n",
      "DFire Removed wrong images: 0\n",
      "DFire empty images: 56\n",
      "DFire only smoke images: 37\n",
      "DFire only fire images: 8\n",
      "DFire smoke and fire images: 27\n",
      "\n",
      "Train DFire dataset len: 128\n",
      "\n",
      "====================\n",
      "TRAIN FASDD UAV dataset\n",
      "FASDD Removed wrong images: 0\n",
      "FASDD empty images: 58\n",
      "FASDD only smoke images: 22\n",
      "FASDD only fire images: 2\n",
      "FASDD smoke and fire images: 46\n",
      "\n",
      "Train FASDD UAV dataset len: 128\n",
      "\n",
      "====================\n",
      "VAL FASDD UAV dataset\n",
      "FASDD Removed wrong images: 0\n",
      "FASDD empty images: 59\n",
      "FASDD only smoke images: 26\n",
      "FASDD only fire images: 2\n",
      "FASDD smoke and fire images: 41\n",
      "\n",
      "Val FASDD UAV dataset len: 128\n",
      "\n",
      "====================\n",
      "TRAIN FASDD CV dataset\n",
      "FASDD Removed wrong images: 0\n",
      "FASDD empty images: 53\n",
      "FASDD only smoke images: 36\n",
      "FASDD only fire images: 19\n",
      "FASDD smoke and fire images: 20\n",
      "\n",
      "Train FASDD CV dataset len: 128\n",
      "\n",
      "====================\n",
      "Val FASDD CV dataset\n",
      "FASDD Removed wrong images: 0\n",
      "FASDD empty images: 50\n",
      "FASDD only smoke images: 32\n",
      "FASDD only fire images: 20\n",
      "FASDD smoke and fire images: 26\n",
      "\n",
      "Val FASDD CV dataset len: 128\n",
      "\n",
      "Concatenate Train DFire and Train FASDD UAV datasets\n",
      "Train dataset len: 256\n",
      "Concatenate with Val FASDD UAV dataset\n",
      "Train dataset len: 384\n",
      "Concatenate with Train FASDD CV dataset\n",
      "Train dataset len: 512\n",
      "Concatenate with Val FASDD CV dataset\n",
      "Train dataset len: 640\n",
      "\n",
      "====================\n",
      "TEST DFire dataset\n",
      "DFire Removed wrong images: 0\n",
      "DFire empty images: 62\n",
      "DFire only smoke images: 31\n",
      "DFire only fire images: 5\n",
      "DFire smoke and fire images: 30\n",
      "\n",
      "Test dataset len: 128\n",
      "\n",
      "====================\n",
      "TEST FASDD UAV dataset\n",
      "FASDD Removed wrong images: 0\n",
      "FASDD empty images: 57\n",
      "FASDD only smoke images: 28\n",
      "FASDD only fire images: 1\n",
      "FASDD smoke and fire images: 42\n",
      "\n",
      "Test FASDD UAV dataset len: 128\n",
      "\n",
      "====================\n",
      "TEST FASDD CV dataset\n",
      "FASDD Removed wrong images: 0\n",
      "FASDD empty images: 59\n",
      "FASDD only smoke images: 31\n",
      "FASDD only fire images: 12\n",
      "FASDD smoke and fire images: 26\n",
      "\n",
      "Test FASDD CV dataset len: 128\n",
      "Concatenate Test DFire and FASDD UAV datasets\n",
      "Test dataset len: 256\n",
      "Concatenate with FASDD CV dataset\n",
      "Test dataset len: 384\n"
     ]
    }
   ],
   "source": [
    "train_loader = dataloaders.get_train_loader()\n",
    "val_loader = dataloaders.get_val_loader()"
   ]
  },
  {
   "cell_type": "markdown",
   "id": "841b4bfc-55f6-4692-a5de-8f457d17472c",
   "metadata": {},
   "source": [
    "### Plot Some Train Pictures"
   ]
  },
  {
   "cell_type": "code",
   "execution_count": 10,
   "id": "f18dab26-cb88-4c13-ad66-a5cc8176a0f0",
   "metadata": {},
   "outputs": [],
   "source": [
    "for i, (img, label) in enumerate(train_loader):\n",
    "\n",
    "    plt.subplots(8,4, figsize=(8, 16))\n",
    "    \n",
    "    for idx in range(config.BATCH_SIZE):\n",
    "        plt.subplot(8, 4, idx+1)\n",
    "        plt.imshow(img[idx].permute(1, 2, 0))\n",
    "        title = \"\"\n",
    "        if label[idx][0] == 1 and label[idx][1] == 1:\n",
    "            title += \"Smoke and Fire\"\n",
    "        elif label[idx][0] == 1 and label[idx][1] == 0:\n",
    "            title += \"Only Smoke\"\n",
    "        elif label[idx][0] == 0 and label[idx][1] == 1:\n",
    "            title += \"Only Fire\"\n",
    "        else:\n",
    "            title += \"Empty\"\n",
    "        plt.title(title)\n",
    "        \n",
    "        if (idx == 31):\n",
    "            break\n",
    "    plt.tight_layout()\n",
    "    plt.savefig(config.RUN_FOLDER + 'train_pictures.png')\n",
    "    #plt.show()\n",
    "    plt.close()\n",
    "    break"
   ]
  },
  {
   "cell_type": "markdown",
   "id": "3f38c400-7e28-46fd-8cab-fb537e5bb248",
   "metadata": {},
   "source": [
    "### Plot Some Val Pictures"
   ]
  },
  {
   "cell_type": "code",
   "execution_count": 11,
   "id": "60efe557-e316-4ec3-a850-3e671f04b1a8",
   "metadata": {},
   "outputs": [],
   "source": [
    "for i, (img, label) in enumerate(val_loader):\n",
    "\n",
    "    plt.subplots(8,4, figsize=(8, 16))\n",
    "    \n",
    "    for idx in range(config.BATCH_SIZE):\n",
    "        plt.subplot(8, 4, idx+1)\n",
    "        plt.imshow(img[idx].permute(1, 2, 0))\n",
    "        title = \"\"\n",
    "        if label[idx][0] == 1 and label[idx][1] == 1:\n",
    "            title += \"Smoke and Fire\"\n",
    "        elif label[idx][0] == 1 and label[idx][1] == 0:\n",
    "            title += \"Only Smoke\"\n",
    "        elif label[idx][0] == 0 and label[idx][1] == 1:\n",
    "            title += \"Only Fire\"\n",
    "        else:\n",
    "            title += \"Empty\"\n",
    "        plt.title(title)\n",
    "        \n",
    "        if (idx == 31):\n",
    "            break\n",
    "    plt.tight_layout()\n",
    "    plt.savefig(config.RUN_FOLDER + 'val_pictures.png')\n",
    "    plt.close()\n",
    "    break"
   ]
  },
  {
   "cell_type": "markdown",
   "id": "32673ea5-65c2-418d-b4bb-dc52d5fc0cb5",
   "metadata": {},
   "source": [
    "# Load Model"
   ]
  },
  {
   "cell_type": "code",
   "execution_count": 12,
   "id": "6b34ad38-02fd-42c5-b265-497603c933bb",
   "metadata": {},
   "outputs": [],
   "source": [
    "# import modules.models.model_CNV_w1a1_WIDE as cnv_model_big"
   ]
  },
  {
   "cell_type": "code",
   "execution_count": 13,
   "id": "65f05240-0c38-4f73-b06d-bf9ceefcb369",
   "metadata": {
    "editable": true,
    "slideshow": {
     "slide_type": ""
    },
    "tags": []
   },
   "outputs": [],
   "source": [
    "# model = cnv_model.CNV(\n",
    "#     num_classes = 2, \n",
    "#     weight_bit_width=4, \n",
    "#     act_bit_width=4, \n",
    "#     in_bit_width=8, \n",
    "# )  \n",
    "\n",
    "# Models with Brevitas Tutorials imagenet style\n",
    "# model = cnv_model.CNV().to(config.DEVICE)\n",
    "# model = cnv_model.CNV_w1a1().to(config.DEVICE)\n",
    "# model = cnv_model.CNV_w1a1_BIG().to(config.DEVICE)\n",
    "# model = cnv_model_big.CNV_w1a1_WIDE().to(config.DEVICE)\n",
    "# model = cnv_model.CNV_w1a1_linear4().to(config.DEVICE)\n",
    "# model = cnv_model.CNV_w1a1_DEEP_Resnet().to(config.DEVICE)\n",
    "# model = cnv_model.CNV_w1a1_Balanced_Resnet_bram().to(config.DEVICE)\n",
    "\n",
    "# model = cnv_model.CNV_w1a1_DEEP_Resnet_V2().to(config.DEVICE)\n",
    "# model = cnv_model.CNV_w1a1_DEEP_Resnet_V3_NOMAXPOOL().to(config.DEVICE)\n",
    "# model = cnv_model.CNV_w1a1_DEEP_Resnet_V4().to(config.DEVICE)\n",
    "# model = cnv_model.CNV_w1a1_DEEP_Resnet_V5().to(config.DEVICE)\n",
    "\n",
    "model = cnv_model.CNV_w1a1_DEEP_Resnet_V51().to(config.DEVICE)\n",
    "\n",
    "# model = cnv_model.CNV_w1a1_DEEP_Resnet_V7().to(config.DEVICE)\n",
    "\n",
    "\n",
    "# model = cnv_model.CNV_AIMET().to(config.DEVICE)"
   ]
  },
  {
   "cell_type": "markdown",
   "id": "d8725e6a-34a0-4830-ae97-a9fca123b915",
   "metadata": {},
   "source": [
    "### Torch Model"
   ]
  },
  {
   "cell_type": "code",
   "execution_count": 14,
   "id": "604e793d-8931-40b9-8143-44996f1b24e6",
   "metadata": {},
   "outputs": [],
   "source": [
    "# model = cnv_model.Torch_CNV_w1a1_Balanced_Resnet_bram().to(config.DEVICE)"
   ]
  },
  {
   "cell_type": "markdown",
   "id": "578c963b-1a73-4b8b-9646-8ad392dd4eee",
   "metadata": {},
   "source": [
    "### Optimizer and Scheduler"
   ]
  },
  {
   "cell_type": "code",
   "execution_count": 15,
   "id": "e2284272-f9fc-4adb-a7c4-81ac3956d95b",
   "metadata": {},
   "outputs": [],
   "source": [
    "optimizer = optim.Adam(model.parameters(), \n",
    "                       lr=config.LEARNING_RATE, \n",
    "                       weight_decay=config.WEIGHT_DECAY)\n",
    "\n",
    "scheduler = optim.lr_scheduler.ReduceLROnPlateau(optimizer, \n",
    "                                                 mode='min',\n",
    "                                                 factor=config.FACTOR, \n",
    "                                                 patience=config.PATIENCE, \n",
    "                                                 threshold=config.THRES, \n",
    "                                                 threshold_mode='abs',\n",
    "                                                 min_lr=config.MIN_LR)\n",
    "\n"
   ]
  },
  {
   "cell_type": "markdown",
   "id": "1d0bac02-ea2e-40b6-9f71-456b3f3cf943",
   "metadata": {},
   "source": [
    "### Parameters"
   ]
  },
  {
   "cell_type": "code",
   "execution_count": 16,
   "id": "ce30cdae-4cb8-4399-9766-49932d6a4bed",
   "metadata": {},
   "outputs": [
    {
     "name": "stdout",
     "output_type": "stream",
     "text": [
      "\n",
      "Trainable parameters = 738918\n",
      "Total parameters = 738918\n",
      "\n"
     ]
    }
   ],
   "source": [
    "n_trainable = sum(p.numel() for p in model.parameters() if p.requires_grad)\n",
    "print(f'\\nTrainable parameters = {n_trainable}')\n",
    "logger.info(f'\\nTrainable parameters = {n_trainable}')\n",
    "\n",
    "n_params = parameters_to_vector(model.parameters()).numel()\n",
    "print(f'Total parameters = {n_params}\\n')\n",
    "logger.info(f'Total parameters = {n_params}\\n')"
   ]
  },
  {
   "cell_type": "markdown",
   "id": "cfb33a7e-b560-4446-bd60-8621483adfdc",
   "metadata": {},
   "source": [
    "### Check Model Shape: Random Input"
   ]
  },
  {
   "cell_type": "code",
   "execution_count": 17,
   "id": "d80f00c5-183d-431b-bf8a-26551c390cae",
   "metadata": {},
   "outputs": [
    {
     "name": "stderr",
     "output_type": "stream",
     "text": [
      "/opt/conda/envs/pytorch_brevitas/lib/python3.10/site-packages/torch/_tensor.py:1362: UserWarning: Named tensors and all their associated APIs are an experimental feature and subject to change. Please do not use them for anything important until they are released as stable. (Triggered internally at /opt/conda/conda-bld/pytorch_1702400410390/work/c10/core/TensorImpl.h:1900.)\n",
      "  return super().rename(names)\n"
     ]
    },
    {
     "name": "stdout",
     "output_type": "stream",
     "text": [
      "Model shape is tensor([[ 0.2301,  0.8589],\n",
      "        [ 1.0047, -1.5651],\n",
      "        [ 1.2416,  0.2028],\n",
      "        [-0.6538, -1.3191]], device='cuda:0', grad_fn=<AddBackward0>)\n"
     ]
    }
   ],
   "source": [
    "dummy_input = np.random.rand(4, config.NUM_CHANNELS, config.IMG_H, config.IMG_W)\n",
    "dummy_input = torch.tensor(dummy_input, dtype=torch.float32, device=config.DEVICE)\n",
    "out_test = model(dummy_input)\n",
    "print(f'Model shape is {out_test}')\n",
    "#print(f'BED Model Arquitecture\\n{cnv_model}')"
   ]
  },
  {
   "cell_type": "markdown",
   "id": "6a769672-efb0-4727-8322-8c68795d0efb",
   "metadata": {},
   "source": [
    "### Torchinfo"
   ]
  },
  {
   "cell_type": "code",
   "execution_count": 18,
   "id": "607141f0-be35-4feb-8635-c63724d1503e",
   "metadata": {},
   "outputs": [
    {
     "name": "stdout",
     "output_type": "stream",
     "text": [
      "========================================================================================================================\n",
      "Layer (type:depth-idx)                                                 Output Shape              Param #\n",
      "========================================================================================================================\n",
      "CNV_w1a1_DEEP_Resnet_V51                                               [1, 2]                    --\n",
      "├─ModuleList: 1-11                                                     --                        (recursive)\n",
      "│    └─QuantIdentity: 2-1                                              [1, 3, 224, 224]          --\n",
      "│    │    └─ActQuantProxyFromInjector: 3-1                             [1, 3, 224, 224]          --\n",
      "│    │    └─ActQuantProxyFromInjector: 3-2                             [1, 3, 224, 224]          --\n",
      "├─ModuleList: 1-75                                                     --                        (recursive)\n",
      "│    └─QuantLinear: 2-153                                              --                        (recursive)\n",
      "│    │    └─WeightQuantProxyFromInjector: 3-193                        --                        (recursive)\n",
      "├─ModuleList: 1-11                                                     --                        (recursive)\n",
      "│    └─QuantIdentity: 2-5                                              --                        --\n",
      "│    │    └─ActQuantProxyFromInjector: 3-6                             --                        --\n",
      "├─ModuleList: 1-75                                                     --                        (recursive)\n",
      "│    └─QuantReLU: 2-154                                                --                        (recursive)\n",
      "│    │    └─ActQuantProxyFromInjector: 3-194                           --                        (recursive)\n",
      "├─ModuleList: 1-11                                                     --                        (recursive)\n",
      "│    └─QuantIdentity: 2-5                                              --                        --\n",
      "│    │    └─ActQuantProxyFromInjector: 3-6                             --                        --\n",
      "│    └─QuantConv2d: 2-6                                                [1, 64, 224, 224]         1,728\n",
      "│    │    └─ActQuantProxyFromInjector: 3-7                             [1, 3, 224, 224]          --\n",
      "│    │    └─WeightQuantProxyFromInjector: 3-8                          [64, 3, 3, 3]             --\n",
      "│    │    └─ActQuantProxyFromInjector: 3-9                             [1, 64, 224, 224]         --\n",
      "│    └─BatchNorm2d: 2-7                                                [1, 64, 224, 224]         128\n",
      "│    └─QuantIdentity: 2-8                                              [1, 64, 224, 224]         --\n",
      "│    │    └─ActQuantProxyFromInjector: 3-10                            [1, 64, 224, 224]         --\n",
      "│    │    └─ActQuantProxyFromInjector: 3-11                            [1, 64, 224, 224]         --\n",
      "├─QuantIdentity: 1-59                                                  --                        --\n",
      "│    └─ActQuantProxyFromInjector: 2-117                                --                        --\n",
      "│    │    └─FusedActivationQuantProxy: 3-150                           --                        --\n",
      "├─ModuleList: 1-11                                                     --                        (recursive)\n",
      "│    └─QuantIdentity: 2-10                                             --                        --\n",
      "│    │    └─ActQuantProxyFromInjector: 3-13                            --                        --\n",
      "│    └─MaxPool2d: 2-11                                                 [1, 64, 112, 112]         --\n",
      "│    └─QuantConv2d: 2-12                                               [1, 32, 112, 112]         18,432\n",
      "│    │    └─ActQuantProxyFromInjector: 3-14                            [1, 64, 112, 112]         --\n",
      "│    │    └─WeightQuantProxyFromInjector: 3-15                         [32, 64, 3, 3]            --\n",
      "│    │    └─ActQuantProxyFromInjector: 3-16                            [1, 32, 112, 112]         --\n",
      "│    └─BatchNorm2d: 2-13                                               [1, 32, 112, 112]         64\n",
      "│    └─QuantIdentity: 2-14                                             [1, 32, 112, 112]         --\n",
      "│    │    └─ActQuantProxyFromInjector: 3-17                            [1, 32, 112, 112]         --\n",
      "│    │    └─ActQuantProxyFromInjector: 3-18                            [1, 32, 112, 112]         --\n",
      "├─QuantIdentity: 1-59                                                  --                        --\n",
      "│    └─ActQuantProxyFromInjector: 2-117                                --                        --\n",
      "│    │    └─FusedActivationQuantProxy: 3-150                           --                        --\n",
      "├─ModuleList: 1-11                                                     --                        (recursive)\n",
      "│    └─QuantIdentity: 2-16                                             --                        --\n",
      "│    │    └─ActQuantProxyFromInjector: 3-20                            --                        --\n",
      "│    └─MaxPool2d: 2-17                                                 [1, 32, 56, 56]           --\n",
      "│    └─QuantIdentity: 2-18                                             [1, 32, 56, 56]           --\n",
      "│    │    └─ActQuantProxyFromInjector: 3-21                            [1, 32, 56, 56]           --\n",
      "│    │    └─ActQuantProxyFromInjector: 3-22                            [1, 32, 56, 56]           --\n",
      "├─QuantIdentity: 1-59                                                  --                        --\n",
      "│    └─ActQuantProxyFromInjector: 2-117                                --                        --\n",
      "│    │    └─FusedActivationQuantProxy: 3-150                           --                        --\n",
      "├─ModuleList: 1-11                                                     --                        (recursive)\n",
      "│    └─QuantIdentity: 2-20                                             --                        --\n",
      "│    │    └─ActQuantProxyFromInjector: 3-24                            --                        --\n",
      "├─ModuleList: 1-18                                                     --                        (recursive)\n",
      "│    └─QuantConv2d: 2-21                                               [1, 16, 56, 56]           512\n",
      "│    │    └─ActQuantProxyFromInjector: 3-25                            [1, 32, 56, 56]           --\n",
      "│    │    └─WeightQuantProxyFromInjector: 3-26                         [16, 32, 1, 1]            --\n",
      "│    │    └─ActQuantProxyFromInjector: 3-27                            [1, 16, 56, 56]           --\n",
      "│    └─BatchNorm2d: 2-22                                               [1, 16, 56, 56]           32\n",
      "│    └─QuantIdentity: 2-23                                             [1, 16, 56, 56]           --\n",
      "│    │    └─ActQuantProxyFromInjector: 3-28                            [1, 16, 56, 56]           --\n",
      "│    │    └─ActQuantProxyFromInjector: 3-29                            [1, 16, 56, 56]           --\n",
      "├─QuantIdentity: 1-59                                                  --                        --\n",
      "│    └─ActQuantProxyFromInjector: 2-117                                --                        --\n",
      "│    │    └─FusedActivationQuantProxy: 3-150                           --                        --\n",
      "├─ModuleList: 1-18                                                     --                        (recursive)\n",
      "│    └─QuantIdentity: 2-25                                             --                        --\n",
      "│    │    └─ActQuantProxyFromInjector: 3-31                            --                        --\n",
      "│    └─QuantConv2d: 2-26                                               [1, 32, 56, 56]           4,608\n",
      "│    │    └─ActQuantProxyFromInjector: 3-32                            [1, 16, 56, 56]           --\n",
      "│    │    └─WeightQuantProxyFromInjector: 3-33                         [32, 16, 3, 3]            --\n",
      "│    │    └─ActQuantProxyFromInjector: 3-34                            [1, 32, 56, 56]           --\n",
      "│    └─BatchNorm2d: 2-27                                               [1, 32, 56, 56]           64\n",
      "│    └─QuantIdentity: 2-28                                             [1, 32, 56, 56]           --\n",
      "│    │    └─ActQuantProxyFromInjector: 3-35                            [1, 32, 56, 56]           --\n",
      "│    │    └─ActQuantProxyFromInjector: 3-36                            [1, 32, 56, 56]           --\n",
      "├─QuantIdentity: 1-59                                                  --                        --\n",
      "│    └─ActQuantProxyFromInjector: 2-117                                --                        --\n",
      "│    │    └─FusedActivationQuantProxy: 3-150                           --                        --\n",
      "├─ModuleList: 1-18                                                     --                        (recursive)\n",
      "│    └─QuantIdentity: 2-30                                             --                        --\n",
      "│    │    └─ActQuantProxyFromInjector: 3-38                            --                        --\n",
      "│    └─QuantConv2d: 2-31                                               [1, 32, 56, 56]           1,024\n",
      "│    │    └─ActQuantProxyFromInjector: 3-39                            [1, 32, 56, 56]           --\n",
      "│    │    └─WeightQuantProxyFromInjector: 3-40                         [32, 32, 1, 1]            --\n",
      "│    │    └─ActQuantProxyFromInjector: 3-41                            [1, 32, 56, 56]           --\n",
      "│    └─BatchNorm2d: 2-32                                               [1, 32, 56, 56]           64\n",
      "│    └─QuantIdentity: 2-33                                             [1, 32, 56, 56]           --\n",
      "│    │    └─ActQuantProxyFromInjector: 3-42                            [1, 32, 56, 56]           --\n",
      "│    │    └─ActQuantProxyFromInjector: 3-43                            [1, 32, 56, 56]           --\n",
      "├─QuantIdentity: 1-59                                                  --                        --\n",
      "│    └─ActQuantProxyFromInjector: 2-117                                --                        --\n",
      "│    │    └─FusedActivationQuantProxy: 3-150                           --                        --\n",
      "├─ModuleList: 1-18                                                     --                        (recursive)\n",
      "│    └─QuantIdentity: 2-35                                             --                        --\n",
      "│    │    └─ActQuantProxyFromInjector: 3-45                            --                        --\n",
      "├─QuantIdentity: 1-19                                                  [1, 32, 56, 56]           --\n",
      "│    └─ActQuantProxyFromInjector: 2-36                                 [1, 32, 56, 56]           --\n",
      "│    └─ActQuantProxyFromInjector: 2-37                                 [1, 32, 56, 56]           --\n",
      "│    │    └─FusedActivationQuantProxy: 3-46                            [1, 32, 56, 56]           --\n",
      "├─QuantIdentity: 1-59                                                  --                        --\n",
      "│    └─ActQuantProxyFromInjector: 2-117                                --                        --\n",
      "│    │    └─FusedActivationQuantProxy: 3-150                           --                        --\n",
      "├─QuantIdentity: 1-21                                                  --                        --\n",
      "│    └─ActQuantProxyFromInjector: 2-39                                 --                        --\n",
      "│    │    └─FusedActivationQuantProxy: 3-48                            --                        --\n",
      "├─ModuleList: 1-26                                                     --                        (recursive)\n",
      "│    └─QuantConv2d: 2-40                                               [1, 64, 56, 56]           18,432\n",
      "│    │    └─ActQuantProxyFromInjector: 3-49                            [1, 32, 56, 56]           --\n",
      "│    │    └─WeightQuantProxyFromInjector: 3-50                         [64, 32, 3, 3]            --\n",
      "│    │    └─ActQuantProxyFromInjector: 3-51                            [1, 64, 56, 56]           --\n",
      "│    └─BatchNorm2d: 2-41                                               [1, 64, 56, 56]           128\n",
      "│    └─QuantIdentity: 2-42                                             [1, 64, 56, 56]           --\n",
      "│    │    └─ActQuantProxyFromInjector: 3-52                            [1, 64, 56, 56]           --\n",
      "│    │    └─ActQuantProxyFromInjector: 3-53                            [1, 64, 56, 56]           --\n",
      "├─QuantIdentity: 1-59                                                  --                        --\n",
      "│    └─ActQuantProxyFromInjector: 2-117                                --                        --\n",
      "│    │    └─FusedActivationQuantProxy: 3-150                           --                        --\n",
      "├─ModuleList: 1-26                                                     --                        (recursive)\n",
      "│    └─QuantIdentity: 2-44                                             --                        --\n",
      "│    │    └─ActQuantProxyFromInjector: 3-55                            --                        --\n",
      "│    └─MaxPool2d: 2-45                                                 [1, 64, 28, 28]           --\n",
      "│    └─QuantIdentity: 2-46                                             [1, 64, 28, 28]           --\n",
      "│    │    └─ActQuantProxyFromInjector: 3-56                            [1, 64, 28, 28]           --\n",
      "│    │    └─ActQuantProxyFromInjector: 3-57                            [1, 64, 28, 28]           --\n",
      "├─QuantIdentity: 1-59                                                  --                        --\n",
      "│    └─ActQuantProxyFromInjector: 2-117                                --                        --\n",
      "│    │    └─FusedActivationQuantProxy: 3-150                           --                        --\n",
      "├─ModuleList: 1-26                                                     --                        (recursive)\n",
      "│    └─QuantIdentity: 2-48                                             --                        --\n",
      "│    │    └─ActQuantProxyFromInjector: 3-59                            --                        --\n",
      "├─ModuleList: 1-37                                                     --                        (recursive)\n",
      "│    └─QuantConv2d: 2-49                                               [1, 32, 28, 28]           2,048\n",
      "│    │    └─ActQuantProxyFromInjector: 3-60                            [1, 64, 28, 28]           --\n",
      "│    │    └─WeightQuantProxyFromInjector: 3-61                         [32, 64, 1, 1]            --\n",
      "│    │    └─ActQuantProxyFromInjector: 3-62                            [1, 32, 28, 28]           --\n",
      "│    └─BatchNorm2d: 2-50                                               [1, 32, 28, 28]           64\n",
      "│    └─QuantIdentity: 2-51                                             [1, 32, 28, 28]           --\n",
      "│    │    └─ActQuantProxyFromInjector: 3-63                            [1, 32, 28, 28]           --\n",
      "│    │    └─ActQuantProxyFromInjector: 3-64                            [1, 32, 28, 28]           --\n",
      "├─QuantIdentity: 1-59                                                  --                        --\n",
      "│    └─ActQuantProxyFromInjector: 2-117                                --                        --\n",
      "│    │    └─FusedActivationQuantProxy: 3-150                           --                        --\n",
      "├─ModuleList: 1-37                                                     --                        (recursive)\n",
      "│    └─QuantIdentity: 2-53                                             --                        --\n",
      "│    │    └─ActQuantProxyFromInjector: 3-66                            --                        --\n",
      "│    └─QuantConv2d: 2-54                                               [1, 64, 28, 28]           18,432\n",
      "│    │    └─ActQuantProxyFromInjector: 3-67                            [1, 32, 28, 28]           --\n",
      "│    │    └─WeightQuantProxyFromInjector: 3-68                         [64, 32, 3, 3]            --\n",
      "│    │    └─ActQuantProxyFromInjector: 3-69                            [1, 64, 28, 28]           --\n",
      "│    └─BatchNorm2d: 2-55                                               [1, 64, 28, 28]           128\n",
      "│    └─QuantIdentity: 2-56                                             [1, 64, 28, 28]           --\n",
      "│    │    └─ActQuantProxyFromInjector: 3-70                            [1, 64, 28, 28]           --\n",
      "│    │    └─ActQuantProxyFromInjector: 3-71                            [1, 64, 28, 28]           --\n",
      "├─QuantIdentity: 1-59                                                  --                        --\n",
      "│    └─ActQuantProxyFromInjector: 2-117                                --                        --\n",
      "│    │    └─FusedActivationQuantProxy: 3-150                           --                        --\n",
      "├─ModuleList: 1-37                                                     --                        (recursive)\n",
      "│    └─QuantIdentity: 2-58                                             --                        --\n",
      "│    │    └─ActQuantProxyFromInjector: 3-73                            --                        --\n",
      "│    └─QuantConv2d: 2-59                                               [1, 32, 28, 28]           2,048\n",
      "│    │    └─ActQuantProxyFromInjector: 3-74                            [1, 64, 28, 28]           --\n",
      "│    │    └─WeightQuantProxyFromInjector: 3-75                         [32, 64, 1, 1]            --\n",
      "│    │    └─ActQuantProxyFromInjector: 3-76                            [1, 32, 28, 28]           --\n",
      "│    └─BatchNorm2d: 2-60                                               [1, 32, 28, 28]           64\n",
      "│    └─QuantIdentity: 2-61                                             [1, 32, 28, 28]           --\n",
      "│    │    └─ActQuantProxyFromInjector: 3-77                            [1, 32, 28, 28]           --\n",
      "│    │    └─ActQuantProxyFromInjector: 3-78                            [1, 32, 28, 28]           --\n",
      "├─QuantIdentity: 1-59                                                  --                        --\n",
      "│    └─ActQuantProxyFromInjector: 2-117                                --                        --\n",
      "│    │    └─FusedActivationQuantProxy: 3-150                           --                        --\n",
      "├─ModuleList: 1-37                                                     --                        (recursive)\n",
      "│    └─QuantIdentity: 2-63                                             --                        --\n",
      "│    │    └─ActQuantProxyFromInjector: 3-80                            --                        --\n",
      "│    └─QuantConv2d: 2-64                                               [1, 64, 28, 28]           18,432\n",
      "│    │    └─ActQuantProxyFromInjector: 3-81                            [1, 32, 28, 28]           --\n",
      "│    │    └─WeightQuantProxyFromInjector: 3-82                         [64, 32, 3, 3]            --\n",
      "│    │    └─ActQuantProxyFromInjector: 3-83                            [1, 64, 28, 28]           --\n",
      "│    └─BatchNorm2d: 2-65                                               [1, 64, 28, 28]           128\n",
      "│    └─QuantIdentity: 2-66                                             [1, 64, 28, 28]           --\n",
      "│    │    └─ActQuantProxyFromInjector: 3-84                            [1, 64, 28, 28]           --\n",
      "│    │    └─ActQuantProxyFromInjector: 3-85                            [1, 64, 28, 28]           --\n",
      "├─QuantIdentity: 1-59                                                  --                        --\n",
      "│    └─ActQuantProxyFromInjector: 2-117                                --                        --\n",
      "│    │    └─FusedActivationQuantProxy: 3-150                           --                        --\n",
      "├─ModuleList: 1-37                                                     --                        (recursive)\n",
      "│    └─QuantIdentity: 2-68                                             --                        --\n",
      "│    │    └─ActQuantProxyFromInjector: 3-87                            --                        --\n",
      "│    └─QuantConv2d: 2-69                                               [1, 64, 28, 28]           4,096\n",
      "│    │    └─ActQuantProxyFromInjector: 3-88                            [1, 64, 28, 28]           --\n",
      "│    │    └─WeightQuantProxyFromInjector: 3-89                         [64, 64, 1, 1]            --\n",
      "│    │    └─ActQuantProxyFromInjector: 3-90                            [1, 64, 28, 28]           --\n",
      "│    └─BatchNorm2d: 2-70                                               [1, 64, 28, 28]           128\n",
      "│    └─QuantIdentity: 2-71                                             [1, 64, 28, 28]           --\n",
      "│    │    └─ActQuantProxyFromInjector: 3-91                            [1, 64, 28, 28]           --\n",
      "│    │    └─ActQuantProxyFromInjector: 3-92                            [1, 64, 28, 28]           --\n",
      "├─QuantIdentity: 1-59                                                  --                        --\n",
      "│    └─ActQuantProxyFromInjector: 2-117                                --                        --\n",
      "│    │    └─FusedActivationQuantProxy: 3-150                           --                        --\n",
      "├─ModuleList: 1-37                                                     --                        (recursive)\n",
      "│    └─QuantIdentity: 2-73                                             --                        --\n",
      "│    │    └─ActQuantProxyFromInjector: 3-94                            --                        --\n",
      "├─QuantIdentity: 1-38                                                  [1, 64, 28, 28]           --\n",
      "│    └─ActQuantProxyFromInjector: 2-74                                 [1, 64, 28, 28]           --\n",
      "│    └─ActQuantProxyFromInjector: 2-75                                 [1, 64, 28, 28]           --\n",
      "│    │    └─FusedActivationQuantProxy: 3-95                            [1, 64, 28, 28]           --\n",
      "├─QuantIdentity: 1-59                                                  --                        --\n",
      "│    └─ActQuantProxyFromInjector: 2-117                                --                        --\n",
      "│    │    └─FusedActivationQuantProxy: 3-150                           --                        --\n",
      "├─QuantIdentity: 1-40                                                  --                        --\n",
      "│    └─ActQuantProxyFromInjector: 2-77                                 --                        --\n",
      "│    │    └─FusedActivationQuantProxy: 3-97                            --                        --\n",
      "├─ModuleList: 1-45                                                     --                        (recursive)\n",
      "│    └─QuantConv2d: 2-78                                               [1, 96, 28, 28]           55,296\n",
      "│    │    └─ActQuantProxyFromInjector: 3-98                            [1, 64, 28, 28]           --\n",
      "│    │    └─WeightQuantProxyFromInjector: 3-99                         [96, 64, 3, 3]            --\n",
      "│    │    └─ActQuantProxyFromInjector: 3-100                           [1, 96, 28, 28]           --\n",
      "│    └─BatchNorm2d: 2-79                                               [1, 96, 28, 28]           192\n",
      "│    └─QuantIdentity: 2-80                                             [1, 96, 28, 28]           --\n",
      "│    │    └─ActQuantProxyFromInjector: 3-101                           [1, 96, 28, 28]           --\n",
      "│    │    └─ActQuantProxyFromInjector: 3-102                           [1, 96, 28, 28]           --\n",
      "├─QuantIdentity: 1-59                                                  --                        --\n",
      "│    └─ActQuantProxyFromInjector: 2-117                                --                        --\n",
      "│    │    └─FusedActivationQuantProxy: 3-150                           --                        --\n",
      "├─ModuleList: 1-45                                                     --                        (recursive)\n",
      "│    └─QuantIdentity: 2-82                                             --                        --\n",
      "│    │    └─ActQuantProxyFromInjector: 3-104                           --                        --\n",
      "│    └─MaxPool2d: 2-83                                                 [1, 96, 14, 14]           --\n",
      "│    └─QuantIdentity: 2-84                                             [1, 96, 14, 14]           --\n",
      "│    │    └─ActQuantProxyFromInjector: 3-105                           [1, 96, 14, 14]           --\n",
      "│    │    └─ActQuantProxyFromInjector: 3-106                           [1, 96, 14, 14]           --\n",
      "├─QuantIdentity: 1-59                                                  --                        --\n",
      "│    └─ActQuantProxyFromInjector: 2-117                                --                        --\n",
      "│    │    └─FusedActivationQuantProxy: 3-150                           --                        --\n",
      "├─ModuleList: 1-45                                                     --                        (recursive)\n",
      "│    └─QuantIdentity: 2-86                                             --                        --\n",
      "│    │    └─ActQuantProxyFromInjector: 3-108                           --                        --\n",
      "├─ModuleList: 1-56                                                     --                        (recursive)\n",
      "│    └─QuantConv2d: 2-87                                               [1, 48, 14, 14]           4,608\n",
      "│    │    └─ActQuantProxyFromInjector: 3-109                           [1, 96, 14, 14]           --\n",
      "│    │    └─WeightQuantProxyFromInjector: 3-110                        [48, 96, 1, 1]            --\n",
      "│    │    └─ActQuantProxyFromInjector: 3-111                           [1, 48, 14, 14]           --\n",
      "│    └─BatchNorm2d: 2-88                                               [1, 48, 14, 14]           96\n",
      "│    └─QuantIdentity: 2-89                                             [1, 48, 14, 14]           --\n",
      "│    │    └─ActQuantProxyFromInjector: 3-112                           [1, 48, 14, 14]           --\n",
      "│    │    └─ActQuantProxyFromInjector: 3-113                           [1, 48, 14, 14]           --\n",
      "├─QuantIdentity: 1-59                                                  --                        --\n",
      "│    └─ActQuantProxyFromInjector: 2-117                                --                        --\n",
      "│    │    └─FusedActivationQuantProxy: 3-150                           --                        --\n",
      "├─ModuleList: 1-56                                                     --                        (recursive)\n",
      "│    └─QuantIdentity: 2-91                                             --                        --\n",
      "│    │    └─ActQuantProxyFromInjector: 3-115                           --                        --\n",
      "│    └─QuantConv2d: 2-92                                               [1, 96, 14, 14]           41,472\n",
      "│    │    └─ActQuantProxyFromInjector: 3-116                           [1, 48, 14, 14]           --\n",
      "│    │    └─WeightQuantProxyFromInjector: 3-117                        [96, 48, 3, 3]            --\n",
      "│    │    └─ActQuantProxyFromInjector: 3-118                           [1, 96, 14, 14]           --\n",
      "│    └─BatchNorm2d: 2-93                                               [1, 96, 14, 14]           192\n",
      "│    └─QuantIdentity: 2-94                                             [1, 96, 14, 14]           --\n",
      "│    │    └─ActQuantProxyFromInjector: 3-119                           [1, 96, 14, 14]           --\n",
      "│    │    └─ActQuantProxyFromInjector: 3-120                           [1, 96, 14, 14]           --\n",
      "├─QuantIdentity: 1-59                                                  --                        --\n",
      "│    └─ActQuantProxyFromInjector: 2-117                                --                        --\n",
      "│    │    └─FusedActivationQuantProxy: 3-150                           --                        --\n",
      "├─ModuleList: 1-56                                                     --                        (recursive)\n",
      "│    └─QuantIdentity: 2-96                                             --                        --\n",
      "│    │    └─ActQuantProxyFromInjector: 3-122                           --                        --\n",
      "│    └─QuantConv2d: 2-97                                               [1, 48, 14, 14]           4,608\n",
      "│    │    └─ActQuantProxyFromInjector: 3-123                           [1, 96, 14, 14]           --\n",
      "│    │    └─WeightQuantProxyFromInjector: 3-124                        [48, 96, 1, 1]            --\n",
      "│    │    └─ActQuantProxyFromInjector: 3-125                           [1, 48, 14, 14]           --\n",
      "│    └─BatchNorm2d: 2-98                                               [1, 48, 14, 14]           96\n",
      "│    └─QuantIdentity: 2-99                                             [1, 48, 14, 14]           --\n",
      "│    │    └─ActQuantProxyFromInjector: 3-126                           [1, 48, 14, 14]           --\n",
      "│    │    └─ActQuantProxyFromInjector: 3-127                           [1, 48, 14, 14]           --\n",
      "├─QuantIdentity: 1-59                                                  --                        --\n",
      "│    └─ActQuantProxyFromInjector: 2-117                                --                        --\n",
      "│    │    └─FusedActivationQuantProxy: 3-150                           --                        --\n",
      "├─ModuleList: 1-56                                                     --                        (recursive)\n",
      "│    └─QuantIdentity: 2-101                                            --                        --\n",
      "│    │    └─ActQuantProxyFromInjector: 3-129                           --                        --\n",
      "│    └─QuantConv2d: 2-102                                              [1, 96, 14, 14]           41,472\n",
      "│    │    └─ActQuantProxyFromInjector: 3-130                           [1, 48, 14, 14]           --\n",
      "│    │    └─WeightQuantProxyFromInjector: 3-131                        [96, 48, 3, 3]            --\n",
      "│    │    └─ActQuantProxyFromInjector: 3-132                           [1, 96, 14, 14]           --\n",
      "│    └─BatchNorm2d: 2-103                                              [1, 96, 14, 14]           192\n",
      "│    └─QuantIdentity: 2-104                                            [1, 96, 14, 14]           --\n",
      "│    │    └─ActQuantProxyFromInjector: 3-133                           [1, 96, 14, 14]           --\n",
      "│    │    └─ActQuantProxyFromInjector: 3-134                           [1, 96, 14, 14]           --\n",
      "├─QuantIdentity: 1-59                                                  --                        --\n",
      "│    └─ActQuantProxyFromInjector: 2-117                                --                        --\n",
      "│    │    └─FusedActivationQuantProxy: 3-150                           --                        --\n",
      "├─ModuleList: 1-56                                                     --                        (recursive)\n",
      "│    └─QuantIdentity: 2-106                                            --                        --\n",
      "│    │    └─ActQuantProxyFromInjector: 3-136                           --                        --\n",
      "│    └─QuantConv2d: 2-107                                              [1, 96, 14, 14]           82,944\n",
      "│    │    └─ActQuantProxyFromInjector: 3-137                           [1, 96, 14, 14]           --\n",
      "│    │    └─WeightQuantProxyFromInjector: 3-138                        [96, 96, 3, 3]            --\n",
      "│    │    └─ActQuantProxyFromInjector: 3-139                           [1, 96, 14, 14]           --\n",
      "│    └─BatchNorm2d: 2-108                                              [1, 96, 14, 14]           192\n",
      "│    └─QuantIdentity: 2-109                                            [1, 96, 14, 14]           --\n",
      "│    │    └─ActQuantProxyFromInjector: 3-140                           [1, 96, 14, 14]           --\n",
      "│    │    └─ActQuantProxyFromInjector: 3-141                           [1, 96, 14, 14]           --\n",
      "├─QuantIdentity: 1-59                                                  --                        --\n",
      "│    └─ActQuantProxyFromInjector: 2-117                                --                        --\n",
      "│    │    └─FusedActivationQuantProxy: 3-150                           --                        --\n",
      "├─ModuleList: 1-56                                                     --                        (recursive)\n",
      "│    └─QuantIdentity: 2-111                                            --                        --\n",
      "│    │    └─ActQuantProxyFromInjector: 3-143                           --                        --\n",
      "├─QuantIdentity: 1-57                                                  [1, 96, 14, 14]           --\n",
      "│    └─ActQuantProxyFromInjector: 2-112                                [1, 96, 14, 14]           --\n",
      "│    └─ActQuantProxyFromInjector: 2-113                                [1, 96, 14, 14]           --\n",
      "│    │    └─FusedActivationQuantProxy: 3-144                           [1, 96, 14, 14]           --\n",
      "├─ModuleList: 1-60                                                     --                        (recursive)\n",
      "│    └─QuantConv2d: 2-114                                              [1, 128, 14, 14]          110,592\n",
      "│    │    └─ActQuantProxyFromInjector: 3-145                           [1, 96, 14, 14]           --\n",
      "│    │    └─WeightQuantProxyFromInjector: 3-146                        [128, 96, 3, 3]           --\n",
      "│    │    └─ActQuantProxyFromInjector: 3-147                           [1, 128, 14, 14]          --\n",
      "│    └─BatchNorm2d: 2-115                                              [1, 128, 14, 14]          256\n",
      "│    └─QuantIdentity: 2-116                                            [1, 128, 14, 14]          --\n",
      "│    │    └─ActQuantProxyFromInjector: 3-148                           [1, 128, 14, 14]          --\n",
      "│    │    └─ActQuantProxyFromInjector: 3-149                           [1, 128, 14, 14]          --\n",
      "├─QuantIdentity: 1-59                                                  --                        --\n",
      "│    └─ActQuantProxyFromInjector: 2-117                                --                        --\n",
      "│    │    └─FusedActivationQuantProxy: 3-150                           --                        --\n",
      "├─ModuleList: 1-60                                                     --                        (recursive)\n",
      "│    └─QuantIdentity: 2-118                                            --                        --\n",
      "│    │    └─ActQuantProxyFromInjector: 3-151                           --                        --\n",
      "│    └─MaxPool2d: 2-119                                                [1, 128, 7, 7]            --\n",
      "├─ModuleList: 1-73                                                     --                        (recursive)\n",
      "│    └─QuantConv2d: 2-120                                              [1, 128, 7, 7]            --\n",
      "│    │    └─ActQuantProxyFromInjector: 3-152                           [1, 128, 7, 7]            --\n",
      "│    │    └─WeightQuantProxyFromInjector: 3-153                        [128, 128, 3, 3]          147,456\n",
      "├─ModuleList: 1-75                                                     --                        (recursive)\n",
      "│    └─QuantLinear: 2-153                                              --                        (recursive)\n",
      "│    │    └─WeightQuantProxyFromInjector: 3-193                        --                        (recursive)\n",
      "├─ModuleList: 1-73                                                     --                        (recursive)\n",
      "│    └─QuantConv2d: 2-122                                              --                        (recursive)\n",
      "│    │    └─WeightQuantProxyFromInjector: 3-155                        --                        (recursive)\n",
      "│    │    └─ActQuantProxyFromInjector: 3-156                           [1, 128, 7, 7]            --\n",
      "│    └─BatchNorm2d: 2-123                                              [1, 128, 7, 7]            256\n",
      "│    └─QuantReLU: 2-124                                                [1, 128, 7, 7]            --\n",
      "│    │    └─ActQuantProxyFromInjector: 3-157                           [1, 128, 7, 7]            --\n",
      "│    │    └─ActQuantProxyFromInjector: 3-158                           [1, 128, 7, 7]            1\n",
      "├─ModuleList: 1-75                                                     --                        (recursive)\n",
      "│    └─QuantLinear: 2-153                                              --                        (recursive)\n",
      "│    │    └─WeightQuantProxyFromInjector: 3-193                        --                        (recursive)\n",
      "├─ModuleList: 1-73                                                     --                        (recursive)\n",
      "│    └─QuantReLU: 2-128                                                --                        (recursive)\n",
      "│    │    └─ActQuantProxyFromInjector: 3-162                           --                        (recursive)\n",
      "├─ModuleList: 1-75                                                     --                        (recursive)\n",
      "│    └─QuantReLU: 2-154                                                --                        (recursive)\n",
      "│    │    └─ActQuantProxyFromInjector: 3-194                           --                        (recursive)\n",
      "├─ModuleList: 1-73                                                     --                        (recursive)\n",
      "│    └─QuantReLU: 2-128                                                --                        (recursive)\n",
      "│    │    └─ActQuantProxyFromInjector: 3-162                           --                        (recursive)\n",
      "│    └─QuantConv2d: 2-129                                              [1, 128, 7, 7]            --\n",
      "│    │    └─ActQuantProxyFromInjector: 3-163                           [1, 128, 7, 7]            --\n",
      "│    │    └─WeightQuantProxyFromInjector: 3-164                        [128, 128, 3, 3]          147,456\n",
      "├─ModuleList: 1-75                                                     --                        (recursive)\n",
      "│    └─QuantLinear: 2-153                                              --                        (recursive)\n",
      "│    │    └─WeightQuantProxyFromInjector: 3-193                        --                        (recursive)\n",
      "├─ModuleList: 1-73                                                     --                        (recursive)\n",
      "│    └─QuantConv2d: 2-131                                              --                        (recursive)\n",
      "│    │    └─WeightQuantProxyFromInjector: 3-166                        --                        (recursive)\n",
      "│    │    └─ActQuantProxyFromInjector: 3-167                           [1, 128, 7, 7]            --\n",
      "│    └─BatchNorm2d: 2-132                                              [1, 128, 7, 7]            256\n",
      "│    └─QuantReLU: 2-133                                                [1, 128, 7, 7]            --\n",
      "│    │    └─ActQuantProxyFromInjector: 3-168                           [1, 128, 7, 7]            --\n",
      "│    │    └─ActQuantProxyFromInjector: 3-169                           [1, 128, 7, 7]            1\n",
      "├─ModuleList: 1-75                                                     --                        (recursive)\n",
      "│    └─QuantLinear: 2-153                                              --                        (recursive)\n",
      "│    │    └─WeightQuantProxyFromInjector: 3-193                        --                        (recursive)\n",
      "├─ModuleList: 1-73                                                     --                        (recursive)\n",
      "│    └─QuantReLU: 2-137                                                --                        (recursive)\n",
      "│    │    └─ActQuantProxyFromInjector: 3-173                           --                        (recursive)\n",
      "├─ModuleList: 1-75                                                     --                        (recursive)\n",
      "│    └─QuantReLU: 2-154                                                --                        (recursive)\n",
      "│    │    └─ActQuantProxyFromInjector: 3-194                           --                        (recursive)\n",
      "├─ModuleList: 1-73                                                     --                        (recursive)\n",
      "│    └─QuantReLU: 2-137                                                --                        (recursive)\n",
      "│    │    └─ActQuantProxyFromInjector: 3-173                           --                        (recursive)\n",
      "├─TruncAvgPool2d: 1-74                                                 [1, 128, 1, 1]            --\n",
      "│    └─TruncQuantProxyFromInjector: 2-138                              [1, 128, 1, 1]            --\n",
      "│    │    └─TruncIntQuant: 3-174                                       [1, 128, 1, 1]            --\n",
      "├─ModuleList: 1-75                                                     --                        (recursive)\n",
      "│    └─QuantLinear: 2-139                                              [1, 64]                   --\n",
      "│    │    └─ActQuantProxyFromInjector: 3-175                           [1, 128]                  --\n",
      "│    │    └─WeightQuantProxyFromInjector: 3-176                        [64, 128]                 8,192\n",
      "│    └─QuantLinear: 2-153                                              --                        (recursive)\n",
      "│    │    └─WeightQuantProxyFromInjector: 3-193                        --                        (recursive)\n",
      "│    └─QuantLinear: 2-141                                              --                        (recursive)\n",
      "│    │    └─WeightQuantProxyFromInjector: 3-178                        --                        (recursive)\n",
      "│    │    └─ActQuantProxyFromInjector: 3-179                           [1, 64]                   --\n",
      "│    └─BatchNorm1d: 2-142                                              [1, 64]                   128\n",
      "│    └─QuantReLU: 2-143                                                [1, 64]                   --\n",
      "│    │    └─ActQuantProxyFromInjector: 3-180                           [1, 64]                   --\n",
      "│    │    └─ActQuantProxyFromInjector: 3-181                           [1, 64]                   1\n",
      "│    └─QuantLinear: 2-153                                              --                        (recursive)\n",
      "│    │    └─WeightQuantProxyFromInjector: 3-193                        --                        (recursive)\n",
      "│    └─QuantReLU: 2-147                                                --                        (recursive)\n",
      "│    │    └─ActQuantProxyFromInjector: 3-185                           --                        (recursive)\n",
      "│    └─QuantReLU: 2-154                                                --                        (recursive)\n",
      "│    │    └─ActQuantProxyFromInjector: 3-194                           --                        (recursive)\n",
      "│    └─QuantReLU: 2-147                                                --                        (recursive)\n",
      "│    │    └─ActQuantProxyFromInjector: 3-185                           --                        (recursive)\n",
      "│    └─QuantLinear: 2-148                                              [1, 32]                   --\n",
      "│    │    └─ActQuantProxyFromInjector: 3-186                           [1, 64]                   --\n",
      "│    │    └─WeightQuantProxyFromInjector: 3-187                        [32, 64]                  2,048\n",
      "│    └─QuantLinear: 2-153                                              --                        (recursive)\n",
      "│    │    └─WeightQuantProxyFromInjector: 3-193                        --                        (recursive)\n",
      "│    └─QuantLinear: 2-150                                              --                        (recursive)\n",
      "│    │    └─WeightQuantProxyFromInjector: 3-189                        --                        (recursive)\n",
      "│    │    └─ActQuantProxyFromInjector: 3-190                           [1, 32]                   --\n",
      "│    └─BatchNorm1d: 2-151                                              [1, 32]                   64\n",
      "│    └─QuantReLU: 2-152                                                [1, 32]                   --\n",
      "│    │    └─ActQuantProxyFromInjector: 3-191                           [1, 32]                   --\n",
      "│    │    └─ActQuantProxyFromInjector: 3-192                           [1, 32]                   1\n",
      "│    └─QuantLinear: 2-153                                              --                        (recursive)\n",
      "│    │    └─WeightQuantProxyFromInjector: 3-193                        --                        (recursive)\n",
      "│    └─QuantReLU: 2-154                                                --                        (recursive)\n",
      "│    │    └─ActQuantProxyFromInjector: 3-194                           --                        (recursive)\n",
      "│    └─QuantLinear: 2-155                                              [1, 2]                    --\n",
      "│    │    └─ActQuantProxyFromInjector: 3-195                           [1, 32]                   --\n",
      "│    │    └─WeightQuantProxyFromInjector: 3-196                        [2, 32]                   64\n",
      "│    │    └─ActQuantProxyFromInjector: 3-197                           [1, 2]                    --\n",
      "│    └─TensorNorm: 2-156                                               [1, 2]                    2\n",
      "========================================================================================================================\n",
      "Total params: 738,918\n",
      "Trainable params: 738,918\n",
      "Non-trainable params: 0\n",
      "Total mult-adds (M): 0.00\n",
      "========================================================================================================================\n",
      "Input size (MB): 0.60\n",
      "Forward/backward pass size (MB): 35.63\n",
      "Params size (MB): 0.01\n",
      "Estimated Total Size (MB): 36.24\n",
      "========================================================================================================================\n"
     ]
    }
   ],
   "source": [
    "print(summary(model, input_size=(1, config.NUM_CHANNELS, config.IMG_H, config.IMG_W)))\n",
    "logger.info(summary(model, input_size=(1, config.NUM_CHANNELS, config.IMG_H, config.IMG_W)))"
   ]
  },
  {
   "cell_type": "markdown",
   "id": "61d74ed9-984a-4f66-8121-d1152fecad98",
   "metadata": {},
   "source": [
    "# Loss Function"
   ]
  },
  {
   "cell_type": "code",
   "execution_count": 19,
   "id": "6efb3c84-4076-4694-8505-2c3c0ee9aa1e",
   "metadata": {},
   "outputs": [
    {
     "name": "stdout",
     "output_type": "stream",
     "text": [
      "Loss Function: BCE\n",
      "Smoke Precision Weight: 0.8\n"
     ]
    }
   ],
   "source": [
    "if config.LOSS_FN == \"BCE\":\n",
    "    print(f'Loss Function: BCE')\n",
    "    logger.info(f'\\nLoss Function: BCE')\n",
    "    print(f'Smoke Precision Weight: {config.SMOKE_PRECISION_WEIGHT}')\n",
    "    logger.info(f'Smoke Precision Weight: {config.SMOKE_PRECISION_WEIGHT}')\n",
    "    loss_fn = loss.BCE_LOSS(device=config.DEVICE, smoke_precision_weight=config.SMOKE_PRECISION_WEIGHT)\n",
    "else:\n",
    "    print(\"Wrong loss function\")\n",
    "    logger.info(\"Wrong loss function\")\n",
    "    raise SystemExit(\"Wrong loss function\")"
   ]
  },
  {
   "cell_type": "markdown",
   "id": "d7f25227-bbcd-43e9-a41b-70a324900a21",
   "metadata": {},
   "source": [
    "# Loggers and Plotters for Losses and Metrics"
   ]
  },
  {
   "cell_type": "code",
   "execution_count": 20,
   "id": "bb75d214-f372-4aee-a196-c43276145a66",
   "metadata": {},
   "outputs": [],
   "source": [
    "train_losses_logger = utils.LogLosses()\n",
    "train_metrics_logger = utils.LogMetrics()\n",
    "lr_logger = utils.LogLR(log_path=config.PLOTS_FOLDER)\n",
    "\n",
    "val_losses_logger = utils.LogLosses()\n",
    "val_metrics_logger = utils.LogMetrics()\n",
    "\n",
    "loss_plotter = utils.PlotMetrics(log_path=config.PLOTS_FOLDER, model_name=config.MODEL, loss_or_metric='Loss')\n",
    "metrics_plotter = utils.PlotMetrics(log_path=config.PLOTS_FOLDER, model_name=config.MODEL, loss_or_metric='Metric')"
   ]
  },
  {
   "cell_type": "markdown",
   "id": "80f38d11-6099-48cd-9f95-f5b0be87d804",
   "metadata": {},
   "source": [
    "# Main Function to Train"
   ]
  },
  {
   "cell_type": "code",
   "execution_count": 21,
   "id": "180683fc-5a55-4f1c-9d6e-c8ffa10be16a",
   "metadata": {},
   "outputs": [],
   "source": [
    "def train_loop(model, start_epoch=0, epochs_to_train=config.EPOCHS):\n",
    "\n",
    "    ''' ==============================================================\n",
    "                                TRAINING LOOP\n",
    "    ============================================================== '''\n",
    "    start = datetime.datetime.now()\n",
    "    start_time = start.strftime(\"%H:%M:%S\")\n",
    "    print(f'\\n***Start Training: {start_time}\\n')\n",
    "    logger.info(f'\\n***Start Training: {start_time}\\n')\n",
    "    \n",
    "    # Start with infinite validation loss\n",
    "    best_valid_loss = np.inf\n",
    "    best_smoke_precision = 0. #torch.tensor([0.])\n",
    "    smoke_f1_min_save = 0.9 #torch.tensor([0.9])\n",
    "    best_mean_f1 = 0.\n",
    "\n",
    "    if start_epoch == 0:\n",
    "        epochs_plot = []\n",
    "    else:\n",
    "        epochs_plot = [i for i in range(start_epoch)]    \n",
    "\n",
    "    end_epoch = start_epoch + epochs_to_train\n",
    "        \n",
    "    for epoch in range(start_epoch, end_epoch):\n",
    "\n",
    "        print(f'\\n=== EPOCH {epoch}/{end_epoch-1} ===')\n",
    "        logger.info(f'\\n=== EPOCH {epoch}/{end_epoch-1} ===')\n",
    "        \n",
    "        #====================== TRAINING ========================#\n",
    "        current_lr = train_epoch.get_lr(optimizer=optimizer)\n",
    "        logger.info(f'Learning Rate = {current_lr}\\n')\n",
    "        lr_logger.log_lr(current_lr)\n",
    "                \n",
    "        train_losses, train_metrics = train_epoch.train_fn(\n",
    "            loader=train_loader, \n",
    "            model=model, \n",
    "            optimizer=optimizer, \n",
    "            loss_fn=loss_fn,\n",
    "            device=config.DEVICE)\n",
    "        \n",
    "        train_losses_logger.update_metrics(train_losses)\n",
    "        train_metrics_logger.update_metrics(train_metrics)\n",
    "                \n",
    "        logger.info(utils.print_metrics_to_logger(\"TRAIN Stats\", train_losses, train_metrics))\n",
    "        \n",
    "        #===================== VALIDATING =======================#\n",
    "        with torch.no_grad():\n",
    "            val_losses, val_metrics = val_epoch.eval_fn(\n",
    "                loader=val_loader, \n",
    "                model=model,                         \n",
    "                loss_fn=loss_fn,\n",
    "                device=config.DEVICE)\n",
    "            \n",
    "            scheduler.step(val_losses['Total'])\n",
    "            \n",
    "            val_losses_logger.update_metrics(val_losses)\n",
    "            val_metrics_logger.update_metrics(val_metrics)\n",
    "\n",
    "            logger.info(utils.print_metrics_to_logger(\"VAL Stats\", val_losses, val_metrics))\n",
    "            \n",
    "        epochs_plot.append(epoch)\n",
    "\n",
    "        loss_plotter.plot_all_metrics(\n",
    "            train_losses_logger.get_metrics(),\n",
    "            val_losses_logger.get_metrics(),\n",
    "            epochs_plot)\n",
    "\n",
    "        metrics_plotter.plot_all_metrics(\n",
    "            train_metrics_logger.get_metrics(),\n",
    "            val_metrics_logger.get_metrics(),\n",
    "            epochs_plot)\n",
    "\n",
    "        lr_logger.plot_lr(epochs_plot)\n",
    "        #======================= SAVING =========================#\n",
    "        if ( (epoch+1) % 5 ) == 0:\n",
    "            save_name = config.WEIGHTS_FOLDER + config.MODEL + '_classifier__5epoch.pt'\n",
    "            utils.save_checkpoint(epoch, model, optimizer, scheduler, save_name) \n",
    "            \n",
    "        if best_valid_loss > val_losses['Total']:\n",
    "            best_valid_loss = val_losses['Total']\n",
    "            print(f\"\\nSaving model with new best validation loss: {best_valid_loss:.4f}\")\n",
    "            logger.info(f\"Saving model with new best validation loss: {best_valid_loss:.4f}\")\n",
    "            save_name = config.WEIGHTS_FOLDER + config.MODEL + '_classifier__' + 'best_loss'  + '.pt'\n",
    "            utils.save_checkpoint(epoch, model, optimizer, scheduler, save_name) \n",
    "            if config.BREVITAS_MODEL == True:\n",
    "                save_onnx = config.ONNX_FOLDER + config.MODEL + '_classifier__' + 'best_loss'  #+ '.onnx'\n",
    "                utils.export_onnx(model, (1, config.NUM_CHANNELS, config.IMG_H, config.IMG_W), save_onnx, config.DEVICE)\n",
    "\n",
    "        # # Save model if precision increases and F1 > 0.9\n",
    "        # if ( best_smoke_precision < val_metrics['Precision'][0] ) and ( val_metrics['F1'][0] > smoke_f1_min_save ) :\n",
    "        #     best_smoke_precision = val_metrics['Precision'][0]\n",
    "        #     print(f\"\\nSaving model with new best smoke precision: {best_smoke_precision:.4f}\")\n",
    "        #     logger.info(f\"Saving model with new best smoke precision: {best_smoke_precision:.4f}\")\n",
    "        #     save_precision_name = f'best_smoke__precision={np.round(best_smoke_precision, decimals=4)}__epoch={epoch}'\n",
    "        #     save_name = config.WEIGHTS_FOLDER + config.MODEL + '_classifier__' + save_precision_name + '.pt'\n",
    "        #     utils.save_checkpoint(epoch, model, optimizer, scheduler, save_name)  \n",
    "        #     if config.BREVITAS_MODEL == True:\n",
    "        #         save_onnx = config.ONNX_FOLDER + config.MODEL + '_classifier__' + save_precision_name #+ '.onnx'\n",
    "        #         utils.export_onnx(model, (1, config.NUM_CHANNELS, config.IMG_H, config.IMG_W), save_onnx, config.DEVICE)\n",
    "            \n",
    "        # Save model if precision > 0.9 and recall > 0.9\n",
    "        # if ( val_metrics['Precision'][0] > 0.9 ) and ( val_metrics['Recall'][0] > 0.9 ) :\n",
    "        #     print(\"\\nSaving model with precision > 0.9 and recall > 0.9\")\n",
    "        #     logger.info(\"Saving model with precision > 0.9 and recall > 0.9\")\n",
    "        #     save_pre_name = f'smoke__precision={np.round(val_metrics[\"Precision\"][0], decimals=4)}__' \n",
    "        #     save_rec_name = f'recall={np.round(val_metrics[\"Recall\"][0], decimals=4)}__'\n",
    "        #     save_pre_rec_name = save_pre_name + save_rec_name + f'epoch={epoch}'\n",
    "        #     save_name = config.WEIGHTS_FOLDER + config.MODEL + '_classifier__' + save_pre_rec_name + '.pt'\n",
    "        #     utils.save_checkpoint(epoch, model, optimizer, scheduler, save_name) \n",
    "        #     if config.BREVITAS_MODEL == True:\n",
    "        #         save_onnx = config.ONNX_FOLDER + config.MODEL + '_classifier__' + save_pre_rec_name #+ '.onnx'\n",
    "        #         utils.export_onnx(model, (1, config.NUM_CHANNELS, config.IMG_H, config.IMG_W), save_onnx, config.DEVICE)\n",
    "\n",
    "        # Save model if best mean F1 increases\n",
    "        val_f1_mean = (val_metrics['F1'][0] + val_metrics['F1'][1]) / 2\n",
    "        if (val_f1_mean > best_mean_f1) :\n",
    "            best_mean_f1 = val_f1_mean\n",
    "            print(f'Saving model with best Mean F1: {best_mean_f1:.4f}')\n",
    "            logger.info(f'Saving model with best Mean F1: {best_mean_f1:.4f}')\n",
    "            save_f1_name = 'best_mean_F1'\n",
    "            save_name = config.WEIGHTS_FOLDER + config.MODEL + '_classifier__' + save_f1_name + '.pt'\n",
    "            utils.save_checkpoint(epoch, model, optimizer, scheduler, save_name) \n",
    "            if config.BREVITAS_MODEL == True:\n",
    "                save_onnx = config.ONNX_FOLDER + config.MODEL + '_classifier__' + save_f1_name #+ '.onnx'\n",
    "                utils.export_onnx(model, (1, config.NUM_CHANNELS, config.IMG_H, config.IMG_W), save_onnx, config.DEVICE)\n",
    "        \n",
    "    logger.info('Saving last model')   \n",
    "    torch.save(model.state_dict(), config.WEIGHTS_FOLDER + 'last_' + config.MODEL + '_classifier.pt') \n",
    "    \n",
    "    #======================= FINISH =========================#\n",
    "    end = datetime.datetime.now()\n",
    "    end_time = end.strftime(\"%H:%M:%S\")\n",
    "    print(f'\\n***Script finished: {end_time}\\n')  \n",
    "    print(f'Time elapsed: {end-start}')\n",
    "    logger.info(f'\\n***Script finished: {end_time}\\n')  \n",
    "    logger.info(f'Time elapsed: {end-start}')\n",
    "    \n",
    "    return model"
   ]
  },
  {
   "cell_type": "code",
   "execution_count": 22,
   "id": "70cfebac-da9f-4c54-98da-0fccfdf9c7e4",
   "metadata": {},
   "outputs": [],
   "source": [
    "# print(len(val_losses_logger.total))"
   ]
  },
  {
   "cell_type": "markdown",
   "id": "7eb71ba5-1f21-4a7b-9ebe-6b50a5d38ed8",
   "metadata": {},
   "source": [
    "# Training Loop"
   ]
  },
  {
   "cell_type": "code",
   "execution_count": 23,
   "id": "dd3a8768-03a8-44f3-829f-58045dbfea7b",
   "metadata": {
    "editable": true,
    "slideshow": {
     "slide_type": ""
    },
    "tags": []
   },
   "outputs": [
    {
     "name": "stdout",
     "output_type": "stream",
     "text": [
      "Starting script\n",
      "\n",
      "\n",
      "***Start Training: 10:42:31\n",
      "\n",
      "\n",
      "=== EPOCH 0/4 ===\n",
      "Learning Rate = 0.001\n",
      "\n"
     ]
    },
    {
     "name": "stderr",
     "output_type": "stream",
     "text": [
      "Training: 100%|██████████████████████████████████████████████████████████████████████████████████████████████████████████████████████████████████████████████| 10/10 [00:03<00:00,  2.94it/s]\n"
     ]
    },
    {
     "name": "stdout",
     "output_type": "stream",
     "text": [
      "Total Loss  |Smoke Loss  |Fire Loss   \n",
      "------------ ------------ ------------\n",
      "87.726      |46.086      |41.640      \n",
      "\n"
     ]
    },
    {
     "name": "stderr",
     "output_type": "stream",
     "text": [
      "Validating: 100%|██████████████████████████████████████████████████████████████████████████████████████████████████████████████████████████████████████████████| 6/6 [00:01<00:00,  3.03it/s]\n"
     ]
    },
    {
     "name": "stdout",
     "output_type": "stream",
     "text": [
      "Total Loss  |Smoke Loss  |Fire Loss   \n",
      "------------ ------------ ------------\n",
      "342.019     |64.310      |277.709     \n",
      "SMOKE -> Precision: 0.4929 - Recall: 0.9255 - Accuracy: 0.4974 - F1: 0.6433\n",
      "FIRE -> Precision: 0.3021 - Recall: 1.0000 - Accuracy: 0.3021 - F1: 0.4640\n",
      "\n",
      "Saving model with new best validation loss: 342.0186\n",
      "Model exported to ONNX: experiments_resnet/test_v38__w1a1__DEEPER_Resnet_V51__clip1__128ds/onnx/BNN_BED_Resnet_V7_classifier__best_loss\n",
      "Saving model with best Mean F1: 0.5536\n",
      "Model exported to ONNX: experiments_resnet/test_v38__w1a1__DEEPER_Resnet_V51__clip1__128ds/onnx/BNN_BED_Resnet_V7_classifier__best_mean_F1\n",
      "\n",
      "=== EPOCH 1/4 ===\n",
      "Learning Rate = 0.001\n",
      "\n"
     ]
    },
    {
     "name": "stderr",
     "output_type": "stream",
     "text": [
      "Training: 100%|██████████████████████████████████████████████████████████████████████████████████████████████████████████████████████████████████████████████| 10/10 [00:03<00:00,  3.15it/s]\n"
     ]
    },
    {
     "name": "stdout",
     "output_type": "stream",
     "text": [
      "Total Loss  |Smoke Loss  |Fire Loss   \n",
      "------------ ------------ ------------\n",
      "88.201      |46.286      |41.915      \n",
      "\n"
     ]
    },
    {
     "name": "stderr",
     "output_type": "stream",
     "text": [
      "Validating: 100%|██████████████████████████████████████████████████████████████████████████████████████████████████████████████████████████████████████████████| 6/6 [00:02<00:00,  2.95it/s]\n"
     ]
    },
    {
     "name": "stdout",
     "output_type": "stream",
     "text": [
      "Total Loss  |Smoke Loss  |Fire Loss   \n",
      "------------ ------------ ------------\n",
      "144.296     |73.883      |70.413      \n",
      "SMOKE -> Precision: 0.4908 - Recall: 0.9947 - Accuracy: 0.4922 - F1: 0.6573\n",
      "FIRE -> Precision: 0.3233 - Recall: 0.9224 - Accuracy: 0.3932 - F1: 0.4787\n",
      "\n",
      "Saving model with new best validation loss: 144.2965\n",
      "Model exported to ONNX: experiments_resnet/test_v38__w1a1__DEEPER_Resnet_V51__clip1__128ds/onnx/BNN_BED_Resnet_V7_classifier__best_loss\n",
      "Saving model with best Mean F1: 0.5680\n",
      "Model exported to ONNX: experiments_resnet/test_v38__w1a1__DEEPER_Resnet_V51__clip1__128ds/onnx/BNN_BED_Resnet_V7_classifier__best_mean_F1\n",
      "\n",
      "=== EPOCH 2/4 ===\n",
      "Learning Rate = 0.001\n",
      "\n"
     ]
    },
    {
     "name": "stderr",
     "output_type": "stream",
     "text": [
      "Training: 100%|██████████████████████████████████████████████████████████████████████████████████████████████████████████████████████████████████████████████| 10/10 [00:03<00:00,  2.77it/s]\n"
     ]
    },
    {
     "name": "stdout",
     "output_type": "stream",
     "text": [
      "Total Loss  |Smoke Loss  |Fire Loss   \n",
      "------------ ------------ ------------\n",
      "81.922      |43.573      |38.349      \n",
      "\n"
     ]
    },
    {
     "name": "stderr",
     "output_type": "stream",
     "text": [
      "Validating: 100%|██████████████████████████████████████████████████████████████████████████████████████████████████████████████████████████████████████████████| 6/6 [00:02<00:00,  2.98it/s]\n"
     ]
    },
    {
     "name": "stdout",
     "output_type": "stream",
     "text": [
      "Total Loss  |Smoke Loss  |Fire Loss   \n",
      "------------ ------------ ------------\n",
      "89.648      |44.814      |44.835      \n",
      "SMOKE -> Precision: 0.5000 - Recall: 0.8138 - Accuracy: 0.5104 - F1: 0.6194\n",
      "FIRE -> Precision: 0.4360 - Recall: 0.6466 - Accuracy: 0.6406 - F1: 0.5208\n",
      "\n",
      "Saving model with new best validation loss: 89.6483\n",
      "Model exported to ONNX: experiments_resnet/test_v38__w1a1__DEEPER_Resnet_V51__clip1__128ds/onnx/BNN_BED_Resnet_V7_classifier__best_loss\n",
      "Saving model with best Mean F1: 0.5701\n",
      "Model exported to ONNX: experiments_resnet/test_v38__w1a1__DEEPER_Resnet_V51__clip1__128ds/onnx/BNN_BED_Resnet_V7_classifier__best_mean_F1\n",
      "\n",
      "=== EPOCH 3/4 ===\n",
      "Learning Rate = 0.001\n",
      "\n"
     ]
    },
    {
     "name": "stderr",
     "output_type": "stream",
     "text": [
      "Training: 100%|██████████████████████████████████████████████████████████████████████████████████████████████████████████████████████████████████████████████| 10/10 [00:03<00:00,  2.85it/s]\n"
     ]
    },
    {
     "name": "stdout",
     "output_type": "stream",
     "text": [
      "Total Loss  |Smoke Loss  |Fire Loss   \n",
      "------------ ------------ ------------\n",
      "78.181      |41.503      |36.678      \n",
      "\n"
     ]
    },
    {
     "name": "stderr",
     "output_type": "stream",
     "text": [
      "Validating: 100%|██████████████████████████████████████████████████████████████████████████████████████████████████████████████████████████████████████████████| 6/6 [00:02<00:00,  2.94it/s]\n"
     ]
    },
    {
     "name": "stdout",
     "output_type": "stream",
     "text": [
      "Total Loss  |Smoke Loss  |Fire Loss   \n",
      "------------ ------------ ------------\n",
      "83.389      |42.561      |40.827      \n",
      "SMOKE -> Precision: 0.5112 - Recall: 0.7287 - Accuracy: 0.5260 - F1: 0.6009\n",
      "FIRE -> Precision: 0.5069 - Recall: 0.6293 - Accuracy: 0.7031 - F1: 0.5615\n",
      "\n",
      "Saving model with new best validation loss: 83.3890\n",
      "Model exported to ONNX: experiments_resnet/test_v38__w1a1__DEEPER_Resnet_V51__clip1__128ds/onnx/BNN_BED_Resnet_V7_classifier__best_loss\n",
      "Saving model with best Mean F1: 0.5812\n",
      "Model exported to ONNX: experiments_resnet/test_v38__w1a1__DEEPER_Resnet_V51__clip1__128ds/onnx/BNN_BED_Resnet_V7_classifier__best_mean_F1\n",
      "\n",
      "=== EPOCH 4/4 ===\n",
      "Learning Rate = 0.001\n",
      "\n"
     ]
    },
    {
     "name": "stderr",
     "output_type": "stream",
     "text": [
      "Training: 100%|██████████████████████████████████████████████████████████████████████████████████████████████████████████████████████████████████████████████| 10/10 [00:03<00:00,  2.86it/s]\n"
     ]
    },
    {
     "name": "stdout",
     "output_type": "stream",
     "text": [
      "Total Loss  |Smoke Loss  |Fire Loss   \n",
      "------------ ------------ ------------\n",
      "78.404      |41.007      |37.397      \n",
      "\n"
     ]
    },
    {
     "name": "stderr",
     "output_type": "stream",
     "text": [
      "Validating: 100%|██████████████████████████████████████████████████████████████████████████████████████████████████████████████████████████████████████████████| 6/6 [00:02<00:00,  2.92it/s]\n"
     ]
    },
    {
     "name": "stdout",
     "output_type": "stream",
     "text": [
      "Total Loss  |Smoke Loss  |Fire Loss   \n",
      "------------ ------------ ------------\n",
      "86.199      |43.200      |43.000      \n",
      "SMOKE -> Precision: 0.5114 - Recall: 0.8351 - Accuracy: 0.5286 - F1: 0.6343\n",
      "FIRE -> Precision: 0.5000 - Recall: 0.6552 - Accuracy: 0.6979 - F1: 0.5672\n",
      "Saving model with best Mean F1: 0.6008\n",
      "Model exported to ONNX: experiments_resnet/test_v38__w1a1__DEEPER_Resnet_V51__clip1__128ds/onnx/BNN_BED_Resnet_V7_classifier__best_mean_F1\n",
      "\n",
      "***Script finished: 10:43:07\n",
      "\n",
      "Time elapsed: 0:00:36.124740\n"
     ]
    }
   ],
   "source": [
    "if __name__ == \"__main__\":\n",
    "    \n",
    "    print(\"Starting script\\n\")\n",
    "    logger.info(\"Starting script\\n\")\n",
    "    \n",
    "    model = train_loop(model)"
   ]
  },
  {
   "cell_type": "markdown",
   "id": "56d1f2a9-a762-45aa-bcf8-87b99a3c0a03",
   "metadata": {},
   "source": [
    "### Train MORE"
   ]
  },
  {
   "cell_type": "code",
   "execution_count": 24,
   "id": "bb0eaad5-d3f2-48e4-9922-505d025372b7",
   "metadata": {},
   "outputs": [],
   "source": [
    "# if __name__ == \"__main__\":\n",
    "    \n",
    "#     print(\"Train More script\\n\")\n",
    "#     logger.info(\"Train More\\n\")\n",
    "    \n",
    "#     model = train_loop(model, start_epoch=100, epochs_to_train=50)"
   ]
  },
  {
   "cell_type": "markdown",
   "id": "6e5e0386-520e-4452-a4bd-217a39e3478f",
   "metadata": {},
   "source": [
    "# Test with DFire MINI Dataset: Train and Test"
   ]
  },
  {
   "cell_type": "code",
   "execution_count": 25,
   "id": "ab9c8bf2-dce8-4ac5-82a9-abbd30a20b08",
   "metadata": {},
   "outputs": [],
   "source": [
    "# import importlib\n",
    "# importlib.reload(config)\n",
    "# importlib.reload(dataloaders)"
   ]
  },
  {
   "cell_type": "code",
   "execution_count": 26,
   "id": "1c7cc77c-6bdf-4d83-9358-61038a8b23bb",
   "metadata": {},
   "outputs": [
    {
     "name": "stdout",
     "output_type": "stream",
     "text": [
      "\n",
      "====================\n",
      "TRAIN DFire MINI dataset\n",
      "DFire Removed wrong images: 0\n",
      "DFire empty images: 20\n",
      "DFire only smoke images: 45\n",
      "DFire only fire images: 5\n",
      "DFire smoke and fire images: 30\n",
      "\n",
      "Test dataset len: 100\n",
      "\n",
      "====================\n",
      "TEST DFire MINI dataset\n",
      "DFire Removed wrong images: 0\n",
      "DFire empty images: 6\n",
      "DFire only smoke images: 13\n",
      "DFire only fire images: 2\n",
      "DFire smoke and fire images: 9\n",
      "\n",
      "Test dataset len: 30\n"
     ]
    }
   ],
   "source": [
    "train_dfire_mini_loader = dataloaders.get_dfire_mini_train_loader()\n",
    "test_dfire_mini_loader = dataloaders.get_dfire_mini_test_loader()"
   ]
  },
  {
   "cell_type": "markdown",
   "id": "46c18474-8bc6-4f26-9479-529412e9c71d",
   "metadata": {},
   "source": [
    "### Load Checkpoint with Best F1 Mean"
   ]
  },
  {
   "cell_type": "code",
   "execution_count": 27,
   "id": "b517a297-edea-4d37-9e5b-90ca2512c9e7",
   "metadata": {},
   "outputs": [],
   "source": [
    "model_path = config.WEIGHTS_FOLDER + config.MODEL + '_classifier__best_mean_F1.pt'"
   ]
  },
  {
   "cell_type": "code",
   "execution_count": 28,
   "id": "9b0959a9-9b84-4fd6-85a3-67fb519f6b10",
   "metadata": {},
   "outputs": [
    {
     "name": "stdout",
     "output_type": "stream",
     "text": [
      "Loading Model. Trained during 4 epochs\n"
     ]
    },
    {
     "data": {
      "text/plain": [
       "4"
      ]
     },
     "execution_count": 28,
     "metadata": {},
     "output_type": "execute_result"
    }
   ],
   "source": [
    "utils.load_checkpoint(\n",
    "    model_path, \n",
    "    model=model, \n",
    "    optimizer=optimizer, \n",
    "    scheduler=scheduler, \n",
    "    device=config.DEVICE)"
   ]
  },
  {
   "cell_type": "markdown",
   "id": "c8eb53e5-0b75-4bb0-8f45-d2e104d25a13",
   "metadata": {},
   "source": [
    "### Whole Test Loader, to check it is the same as training"
   ]
  },
  {
   "cell_type": "code",
   "execution_count": 29,
   "id": "9c1ae050-a816-407d-9569-5e5b6f84af6b",
   "metadata": {},
   "outputs": [
    {
     "name": "stderr",
     "output_type": "stream",
     "text": [
      "Validating: 100%|██████████████████████████████████████████████████████████████████████████████████████████████████████████████████████████████████████████████| 6/6 [00:02<00:00,  2.94it/s]"
     ]
    },
    {
     "name": "stdout",
     "output_type": "stream",
     "text": [
      "Total Loss  |Smoke Loss  |Fire Loss   \n",
      "------------ ------------ ------------\n",
      "86.199      |43.200      |43.000      \n",
      "SMOKE -> Precision: 0.5114 - Recall: 0.8351 - Accuracy: 0.5286 - F1: 0.6343\n",
      "FIRE -> Precision: 0.5000 - Recall: 0.6552 - Accuracy: 0.6979 - F1: 0.5672\n"
     ]
    },
    {
     "name": "stderr",
     "output_type": "stream",
     "text": [
      "\n"
     ]
    }
   ],
   "source": [
    "with torch.no_grad():\n",
    "    val_losses, val_metrics = val_epoch.eval_fn(\n",
    "        loader=val_loader, \n",
    "        model=model,                         \n",
    "        loss_fn=loss_fn,\n",
    "        device=config.DEVICE)"
   ]
  },
  {
   "cell_type": "code",
   "execution_count": 30,
   "id": "bf582d94-1848-4729-8816-86f1211e9904",
   "metadata": {},
   "outputs": [],
   "source": [
    "logger.info('\\nTesting with FULL TEST LOADER')  \n",
    "#logger.info(val_losses)\n",
    "logger.info(val_metrics)"
   ]
  },
  {
   "cell_type": "markdown",
   "id": "36662803-7b09-4c43-9e14-5045635f86ab",
   "metadata": {},
   "source": [
    "### Train DFire MINI"
   ]
  },
  {
   "cell_type": "code",
   "execution_count": 31,
   "id": "d40dff6c-50a6-4fa9-af36-496730a81fab",
   "metadata": {},
   "outputs": [
    {
     "name": "stderr",
     "output_type": "stream",
     "text": [
      "Validating: 100%|██████████████████████████████████████████████████████████████████████████████████████████████████████████████████████████████████████████| 100/100 [00:01<00:00, 89.18it/s]"
     ]
    },
    {
     "name": "stdout",
     "output_type": "stream",
     "text": [
      "Total Loss  |Smoke Loss  |Fire Loss   \n",
      "------------ ------------ ------------\n",
      "1.175       |0.572       |0.603       \n",
      "SMOKE -> Precision: 0.7294 - Recall: 0.8267 - Accuracy: 0.6400 - F1: 0.7750\n",
      "FIRE -> Precision: 0.5116 - Recall: 0.6286 - Accuracy: 0.6600 - F1: 0.5641\n"
     ]
    },
    {
     "name": "stderr",
     "output_type": "stream",
     "text": [
      "\n"
     ]
    }
   ],
   "source": [
    "with torch.no_grad():\n",
    "    val_losses, val_metrics = val_epoch.eval_fn(\n",
    "        loader=train_dfire_mini_loader, \n",
    "        model=model,                         \n",
    "        loss_fn=loss_fn,\n",
    "        device=config.DEVICE)"
   ]
  },
  {
   "cell_type": "code",
   "execution_count": 32,
   "id": "9f864d7c-7da2-4c7c-b99a-f1943d722b13",
   "metadata": {},
   "outputs": [],
   "source": [
    "logger.info('\\nTesting with DFire MINI TRAIN after LOADING F1 Best Mean CHECKPOINT')  \n",
    "#logger.info(val_losses)\n",
    "logger.info(val_metrics)"
   ]
  },
  {
   "cell_type": "markdown",
   "id": "17c77cd9-05ef-4771-8707-82ba5f16ef0c",
   "metadata": {},
   "source": [
    "### Test DFire MINI"
   ]
  },
  {
   "cell_type": "code",
   "execution_count": 33,
   "id": "2c237df0-9726-42e9-8ebe-d738948fb047",
   "metadata": {},
   "outputs": [
    {
     "name": "stderr",
     "output_type": "stream",
     "text": [
      "Validating: 100%|████████████████████████████████████████████████████████████████████████████████████████████████████████████████████████████████████████████| 30/30 [00:00<00:00, 80.41it/s]"
     ]
    },
    {
     "name": "stdout",
     "output_type": "stream",
     "text": [
      "Total Loss  |Smoke Loss  |Fire Loss   \n",
      "------------ ------------ ------------\n",
      "1.424       |0.623       |0.800       \n",
      "SMOKE -> Precision: 0.7083 - Recall: 0.7727 - Accuracy: 0.6000 - F1: 0.7391\n",
      "FIRE -> Precision: 0.5333 - Recall: 0.7273 - Accuracy: 0.6667 - F1: 0.6154\n"
     ]
    },
    {
     "name": "stderr",
     "output_type": "stream",
     "text": [
      "\n"
     ]
    }
   ],
   "source": [
    "with torch.no_grad():\n",
    "    val_losses, val_metrics = val_epoch.eval_fn(\n",
    "        loader=test_dfire_mini_loader, \n",
    "        model=model,                         \n",
    "        loss_fn=loss_fn,\n",
    "        device=config.DEVICE)"
   ]
  },
  {
   "cell_type": "code",
   "execution_count": 34,
   "id": "06fdf6f8-b716-4ee3-a29a-ea9972387cd8",
   "metadata": {},
   "outputs": [],
   "source": [
    "logger.info('\\nTesting with DFire MINI TEST after LOADING F1 Best Mean CHECKPOINT')  \n",
    "#logger.info(val_losses)\n",
    "logger.info(val_metrics)"
   ]
  },
  {
   "cell_type": "markdown",
   "id": "32e7e65c-f132-4cd2-bf11-8bc040f8c71d",
   "metadata": {},
   "source": [
    "# Convert the Model to BIPOLAR OUT"
   ]
  },
  {
   "cell_type": "code",
   "execution_count": 35,
   "id": "f15e359d-ec85-483b-96e3-d265ce7ec4db",
   "metadata": {},
   "outputs": [],
   "source": [
    "import brevitas.nn as qnn\n",
    "import torch.nn as nn"
   ]
  },
  {
   "cell_type": "code",
   "execution_count": 36,
   "id": "473783b9-254b-40ff-b67f-a4818f531e29",
   "metadata": {},
   "outputs": [],
   "source": [
    "class CNV_BIPOLAR_OUT(nn.Module):\n",
    "    def __init__(self, base_model):\n",
    "        super(CNV_BIPOLAR_OUT, self).__init__()\n",
    "        self.base_model = base_model\n",
    "        self.qnt_output = qnn.QuantIdentity(\n",
    "            quant_type='binary', \n",
    "            scaling_impl_type='const',\n",
    "            bit_width=1, min_val=-1.0, max_val=1.0)\n",
    "\n",
    "    def forward(self, x):\n",
    "        x = self.base_model(x)\n",
    "        x = self.qnt_output(x)\n",
    "        return x"
   ]
  },
  {
   "cell_type": "code",
   "execution_count": 37,
   "id": "c2314ef9-10ab-42ad-b61c-122ae49cf5ce",
   "metadata": {},
   "outputs": [],
   "source": [
    "cnv_bipolar_out = CNV_BIPOLAR_OUT(model).to(config.DEVICE)"
   ]
  },
  {
   "cell_type": "markdown",
   "id": "493f850e-5904-45b9-b9cc-08e4a06edaa3",
   "metadata": {},
   "source": [
    "### New Evaluation for BIPOLAR Out Model"
   ]
  },
  {
   "cell_type": "code",
   "execution_count": 38,
   "id": "cffbe14b-9375-4ed0-8355-546e5ed7d3fa",
   "metadata": {},
   "outputs": [],
   "source": [
    "from tqdm import tqdm\n",
    "\n",
    "def eval_bipolar_fn(loader, model, device):\n",
    "    \n",
    "    model.eval()\n",
    "    loop = tqdm(loader, desc='Validating', leave=True)\n",
    "\n",
    "    for batch_idx, (x, y) in enumerate(loop):\n",
    "        x, y = x.to(device), y.to(device)\n",
    "        yhat = model(x)\n",
    "\n",
    "        # print(y.shape)\n",
    "        # print(yhat.shape)\n",
    "        \n",
    "        yhat[yhat < 1] = 0\n",
    "    \n",
    "        metrics.precision_metric.update(yhat, y)\n",
    "        metrics.recall_metric.update(yhat, y)\n",
    "        metrics.accuracy_metric.update(yhat, y)\n",
    "        metrics.f1_metric.update(yhat, y)\n",
    "   \n",
    "    precision = metrics.precision_metric.compute()\n",
    "    recall = metrics.recall_metric.compute()\n",
    "    accuracy = metrics.accuracy_metric.compute()\n",
    "    f1 = metrics.f1_metric.compute()\n",
    "    \n",
    "    metrics.precision_metric.reset()\n",
    "    metrics.recall_metric.reset()\n",
    "    metrics.accuracy_metric.reset()\n",
    "    metrics.f1_metric.reset()\n",
    "\n",
    "    print(f'SMOKE -> Precision: {precision[0]:.4f} - Recall: {recall[0]:.4f} - Accuracy: {accuracy[0]:.4f} - F1: {f1[0]:.4f}')\n",
    "    print(f'FIRE -> Precision: {precision[1]:.4f} - Recall: {recall[1]:.4f} - Accuracy: {accuracy[1]:.4f} - F1: {f1[1]:.4f}')\n",
    "    \n",
    "    return (\n",
    "        {\n",
    "        'Accuracy': [accuracy[0].item(), accuracy[1].item()],\n",
    "        'Precision': [precision[0].item(), precision[1].item()],\n",
    "        'Recall': [recall[0].item(), recall[1].item()],\n",
    "        'F1': [f1[0].item(), f1[1].item()] \n",
    "        }\n",
    "    )"
   ]
  },
  {
   "cell_type": "markdown",
   "id": "f84a61d0-0d29-4776-84d3-3d521ed01a66",
   "metadata": {},
   "source": [
    "### Full DS"
   ]
  },
  {
   "cell_type": "code",
   "execution_count": 39,
   "id": "513edc21-1e27-4d6c-b130-a7d30cffb885",
   "metadata": {},
   "outputs": [
    {
     "name": "stderr",
     "output_type": "stream",
     "text": [
      "Validating: 100%|██████████████████████████████████████████████████████████████████████████████████████████████████████████████████████████████████████████████| 6/6 [00:02<00:00,  2.95it/s]"
     ]
    },
    {
     "name": "stdout",
     "output_type": "stream",
     "text": [
      "SMOKE -> Precision: 0.5114 - Recall: 0.8351 - Accuracy: 0.5286 - F1: 0.6343\n",
      "FIRE -> Precision: 0.5000 - Recall: 0.6552 - Accuracy: 0.6979 - F1: 0.5672\n"
     ]
    },
    {
     "name": "stderr",
     "output_type": "stream",
     "text": [
      "\n"
     ]
    }
   ],
   "source": [
    "cnv_bipolar_out.eval()\n",
    "with torch.no_grad():\n",
    "    val_metrics = eval_bipolar_fn(\n",
    "        loader=val_loader, \n",
    "        model=cnv_bipolar_out,                         \n",
    "        device=config.DEVICE)"
   ]
  },
  {
   "cell_type": "markdown",
   "id": "6b9069b1-1d40-462e-9c97-347d412b106a",
   "metadata": {},
   "source": [
    "### Mini Train"
   ]
  },
  {
   "cell_type": "code",
   "execution_count": 40,
   "id": "c2dfba24-25b5-47c2-a7b6-735472b3ed40",
   "metadata": {},
   "outputs": [
    {
     "name": "stderr",
     "output_type": "stream",
     "text": [
      "Validating: 100%|██████████████████████████████████████████████████████████████████████████████████████████████████████████████████████████████████████████| 100/100 [00:01<00:00, 91.52it/s]"
     ]
    },
    {
     "name": "stdout",
     "output_type": "stream",
     "text": [
      "SMOKE -> Precision: 0.7294 - Recall: 0.8267 - Accuracy: 0.6400 - F1: 0.7750\n",
      "FIRE -> Precision: 0.5116 - Recall: 0.6286 - Accuracy: 0.6600 - F1: 0.5641\n"
     ]
    },
    {
     "name": "stderr",
     "output_type": "stream",
     "text": [
      "\n"
     ]
    }
   ],
   "source": [
    "with torch.no_grad():\n",
    "    val_metrics = eval_bipolar_fn(\n",
    "        loader=train_dfire_mini_loader, \n",
    "        model=cnv_bipolar_out,                         \n",
    "        device=config.DEVICE)"
   ]
  },
  {
   "cell_type": "markdown",
   "id": "23ebed5c-63bc-452f-9921-8cd95819464b",
   "metadata": {},
   "source": [
    "### Mini Test"
   ]
  },
  {
   "cell_type": "code",
   "execution_count": 41,
   "id": "c382be4b-69ad-4942-83bc-6c8bfb99564e",
   "metadata": {},
   "outputs": [
    {
     "name": "stderr",
     "output_type": "stream",
     "text": [
      "Validating: 100%|████████████████████████████████████████████████████████████████████████████████████████████████████████████████████████████████████████████| 30/30 [00:00<00:00, 81.20it/s]"
     ]
    },
    {
     "name": "stdout",
     "output_type": "stream",
     "text": [
      "SMOKE -> Precision: 0.7083 - Recall: 0.7727 - Accuracy: 0.6000 - F1: 0.7391\n",
      "FIRE -> Precision: 0.5333 - Recall: 0.7273 - Accuracy: 0.6667 - F1: 0.6154\n"
     ]
    },
    {
     "name": "stderr",
     "output_type": "stream",
     "text": [
      "\n"
     ]
    }
   ],
   "source": [
    "with torch.no_grad():\n",
    "    val_metrics = eval_bipolar_fn(\n",
    "        loader=test_dfire_mini_loader, \n",
    "        model=cnv_bipolar_out,                         \n",
    "        device=config.DEVICE)"
   ]
  },
  {
   "cell_type": "markdown",
   "id": "13f30466-81f7-49a0-a34a-01a156df9a55",
   "metadata": {},
   "source": [
    "# Export Bipolar to QONNX"
   ]
  },
  {
   "cell_type": "code",
   "execution_count": 42,
   "id": "fbde75e8-45af-49e5-b8a5-2e1fff6be869",
   "metadata": {
    "editable": true,
    "slideshow": {
     "slide_type": ""
    },
    "tags": []
   },
   "outputs": [
    {
     "name": "stdout",
     "output_type": "stream",
     "text": [
      "Model exported to ONNX: experiments_resnet/test_v38__w1a1__DEEPER_Resnet_V51__clip1__128ds/onnx/BNN_BED_Resnet_V7_classifier__best_mean_F1__BIPOLAR_Out\n"
     ]
    }
   ],
   "source": [
    "save_f1_name = 'best_mean_F1'\n",
    "save_bipolar_onnx = config.ONNX_FOLDER + config.MODEL + '_classifier__' + save_f1_name + '__BIPOLAR_Out'\n",
    "utils.export_onnx(cnv_bipolar_out, (1, config.NUM_CHANNELS, config.IMG_H, config.IMG_W), save_bipolar_onnx, config.DEVICE)"
   ]
  },
  {
   "cell_type": "code",
   "execution_count": null,
   "id": "3942d5f2-f894-49ae-aac4-5f44911b7a30",
   "metadata": {},
   "outputs": [],
   "source": []
  },
  {
   "cell_type": "code",
   "execution_count": null,
   "id": "f2e16d52-c3eb-469a-85c8-18d66999e4b3",
   "metadata": {},
   "outputs": [],
   "source": []
  },
  {
   "cell_type": "code",
   "execution_count": null,
   "id": "dbd8f860-7004-45ad-a9fb-e83d6d1a1bf6",
   "metadata": {},
   "outputs": [],
   "source": []
  },
  {
   "cell_type": "code",
   "execution_count": null,
   "id": "36c39233-0961-435d-aeaa-1f6966a8e1e8",
   "metadata": {},
   "outputs": [],
   "source": []
  },
  {
   "cell_type": "code",
   "execution_count": null,
   "id": "d423a1fc-d344-4210-a205-d886dee33a28",
   "metadata": {},
   "outputs": [],
   "source": []
  },
  {
   "cell_type": "markdown",
   "id": "5727ab8f-31f6-4218-8c1a-454c18ca6b70",
   "metadata": {},
   "source": [
    "# Quant INT Out"
   ]
  },
  {
   "cell_type": "code",
   "execution_count": 43,
   "id": "c6a5d6e6-8462-47c3-9fcd-9326e617c287",
   "metadata": {},
   "outputs": [],
   "source": [
    "# from brevitas.core.quant import QuantType\n",
    "# from modules.common_imagenet import CommonIntActQuant\n",
    "# from brevitas.core.restrict_val import RestrictValueType"
   ]
  },
  {
   "cell_type": "code",
   "execution_count": 44,
   "id": "fe1e38a7-734b-4f8b-aa80-4d6573f3b3cd",
   "metadata": {},
   "outputs": [],
   "source": [
    "# class CNV_QINT_OUT(nn.Module):\n",
    "#     def __init__(self, base_model):\n",
    "#         super(CNV_QINT_OUT, self).__init__()\n",
    "#         self.base_model = base_model\n",
    "#         self.qnt_output = qnn.QuantIdentity( \n",
    "#             act_quant = CommonIntActQuant,\n",
    "#             bit_width = 8,\n",
    "#             min_val = -1.0,\n",
    "#             max_val = 1.0 - 2.0 ** (-7),\n",
    "#             narrow_range = False, \n",
    "#             restrict_scaling_type = RestrictValueType.POWER_OF_TWO)\n",
    "\n",
    "#     def forward(self, x):\n",
    "#         x = self.base_model(x)\n",
    "#         x = self.qnt_output(x)\n",
    "#         return x"
   ]
  },
  {
   "cell_type": "code",
   "execution_count": 45,
   "id": "6bb012bc-08d2-490e-a439-48216ce9c58b",
   "metadata": {},
   "outputs": [],
   "source": [
    "# cnv_qint_out = CNV_QINT_OUT(model).to(config.DEVICE)"
   ]
  },
  {
   "cell_type": "code",
   "execution_count": 46,
   "id": "4ffa118d-a4fb-4a60-9b2e-92b8f8e4dc14",
   "metadata": {},
   "outputs": [],
   "source": [
    "# save_f1_name = 'best_mean_F1'\n",
    "# save_qint_onnx = config.ONNX_FOLDER + config.MODEL + '_classifier__' + save_f1_name + '__QINT_Out'\n",
    "# utils.export_onnx(cnv_qint_out, (1, config.NUM_CHANNELS, config.IMG_H, config.IMG_W), save_qint_onnx, config.DEVICE)"
   ]
  },
  {
   "cell_type": "code",
   "execution_count": 47,
   "id": "ddda99af-c026-4a3c-8696-bf118e50ad4c",
   "metadata": {
    "editable": true,
    "slideshow": {
     "slide_type": ""
    },
    "tags": []
   },
   "outputs": [],
   "source": [
    "# for param in model.parameters():\n",
    "#     print(param)"
   ]
  },
  {
   "cell_type": "code",
   "execution_count": null,
   "id": "b2b541e3-1fc3-421b-aeda-34d4dc75a74f",
   "metadata": {},
   "outputs": [],
   "source": []
  }
 ],
 "metadata": {
  "kernelspec": {
   "display_name": "Python 3 (ipykernel)",
   "language": "python",
   "name": "python3"
  },
  "language_info": {
   "codemirror_mode": {
    "name": "ipython",
    "version": 3
   },
   "file_extension": ".py",
   "mimetype": "text/x-python",
   "name": "python",
   "nbconvert_exporter": "python",
   "pygments_lexer": "ipython3",
   "version": "3.10.9"
  }
 },
 "nbformat": 4,
 "nbformat_minor": 5
}
