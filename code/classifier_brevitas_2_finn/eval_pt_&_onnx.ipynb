{
 "cells": [
  {
   "cell_type": "code",
   "execution_count": 1,
   "id": "ced39284-e77a-4bb4-b4f4-1e32f8dc378b",
   "metadata": {},
   "outputs": [
    {
     "name": "stderr",
     "output_type": "stream",
     "text": [
      "/opt/conda/envs/pytorch_brevitas/lib/python3.10/site-packages/onnxscript/converter.py:820: FutureWarning: 'onnxscript.values.Op.param_schemas' is deprecated in version 0.1 and will be removed in the future. Please use '.op_signature' instead.\n",
      "  param_schemas = callee.param_schemas()\n",
      "/opt/conda/envs/pytorch_brevitas/lib/python3.10/site-packages/onnxscript/converter.py:820: FutureWarning: 'onnxscript.values.OnnxFunction.param_schemas' is deprecated in version 0.1 and will be removed in the future. Please use '.op_signature' instead.\n",
      "  param_schemas = callee.param_schemas()\n"
     ]
    }
   ],
   "source": [
    "import numpy as np\n",
    "import torch\n",
    "from torchinfo import summary\n",
    "\n",
    "import modules.dataloaders as dataloaders\n",
    "import modules.models.model_CNV_imagenet as cnv_model\n",
    "# import modules.model_CNV_AIMET_imagenet as cnv_aimet_model\n",
    "\n",
    "import modules.models.model_CNV_AIMET_NoPadding_FPGA_imagenet as cnv_aimet_model\n",
    "\n",
    "import modules.metrics as metrics\n",
    "import modules.val_final_model as val_final_model\n",
    "import modules.utils as utils"
   ]
  },
  {
   "cell_type": "code",
   "execution_count": 2,
   "id": "8c9f1ed9-bdb0-4417-ac3d-cec7acef5117",
   "metadata": {},
   "outputs": [],
   "source": [
    "# from brevitas.export import export_onnx_qcdq\n",
    "from brevitas.export import export_qonnx"
   ]
  },
  {
   "cell_type": "markdown",
   "id": "32673ea5-65c2-418d-b4bb-dc52d5fc0cb5",
   "metadata": {},
   "source": [
    "# Load Model"
   ]
  },
  {
   "cell_type": "code",
   "execution_count": 3,
   "id": "65f05240-0c38-4f73-b06d-bf9ceefcb369",
   "metadata": {},
   "outputs": [],
   "source": [
    "AIMET = \"YES\"\n",
    "if AIMET == \"NO\":\n",
    "    model = cnv_model.CNV().to('cuda')\n",
    "elif AIMET == \"YES\":\n",
    "    model = cnv_aimet_model.CNV_AIMET().to('cuda')\n",
    "else:\n",
    "    print(\"Wrong Model\")"
   ]
  },
  {
   "cell_type": "code",
   "execution_count": 4,
   "id": "8e673c3b-399c-456f-be30-49dcc86d12fe",
   "metadata": {},
   "outputs": [],
   "source": [
    "NO_PADDING = True"
   ]
  },
  {
   "cell_type": "markdown",
   "id": "6a769672-efb0-4727-8322-8c68795d0efb",
   "metadata": {},
   "source": [
    "### Torchinfo"
   ]
  },
  {
   "cell_type": "code",
   "execution_count": 5,
   "id": "607141f0-be35-4feb-8635-c63724d1503e",
   "metadata": {},
   "outputs": [
    {
     "name": "stdout",
     "output_type": "stream",
     "text": [
      "Using No Padding Model -> DIMS (230, 230)\n"
     ]
    },
    {
     "name": "stderr",
     "output_type": "stream",
     "text": [
      "/opt/conda/envs/pytorch_brevitas/lib/python3.10/site-packages/torch/_tensor.py:1362: UserWarning: Named tensors and all their associated APIs are an experimental feature and subject to change. Please do not use them for anything important until they are released as stable. (Triggered internally at /opt/conda/conda-bld/pytorch_1702400410390/work/c10/core/TensorImpl.h:1900.)\n",
      "  return super().rename(names)\n"
     ]
    },
    {
     "name": "stdout",
     "output_type": "stream",
     "text": [
      "=============================================================================================================================\n",
      "Layer (type:depth-idx)                                                      Output Shape              Param #\n",
      "=============================================================================================================================\n",
      "CNV_AIMET                                                                   [1, 2]                    --\n",
      "├─ModuleList: 1-107                                                         --                        (recursive)\n",
      "│    └─QuantIdentity: 2-1                                                   [1, 3, 230, 230]          --\n",
      "│    │    └─ActQuantProxyFromInjector: 3-1                                  [1, 3, 230, 230]          --\n",
      "│    │    └─ActQuantProxyFromInjector: 3-2                                  [1, 3, 230, 230]          1\n",
      "├─ModuleList: 1-108                                                         --                        (recursive)\n",
      "│    └─QuantLinear: 2-163                                                   --                        (recursive)\n",
      "│    │    └─WeightQuantProxyFromInjector: 3-202                             --                        (recursive)\n",
      "├─ModuleList: 1-107                                                         --                        (recursive)\n",
      "│    └─QuantIdentity: 2-5                                                   --                        (recursive)\n",
      "│    │    └─ActQuantProxyFromInjector: 3-6                                  --                        (recursive)\n",
      "├─ModuleList: 1-108                                                         --                        (recursive)\n",
      "│    └─QuantReLU: 2-164                                                     --                        (recursive)\n",
      "│    │    └─ActQuantProxyFromInjector: 3-203                                --                        (recursive)\n",
      "├─ModuleList: 1-107                                                         --                        (recursive)\n",
      "│    └─QuantIdentity: 2-5                                                   --                        (recursive)\n",
      "│    │    └─ActQuantProxyFromInjector: 3-6                                  --                        (recursive)\n",
      "│    └─QuantConv2d: 2-6                                                     [1, 12, 228, 228]         --\n",
      "│    │    └─ActQuantProxyFromInjector: 3-7                                  [1, 3, 230, 230]          --\n",
      "│    │    └─WeightQuantProxyFromInjector: 3-8                               [12, 3, 3, 3]             324\n",
      "├─ModuleList: 1-108                                                         --                        (recursive)\n",
      "│    └─QuantLinear: 2-163                                                   --                        (recursive)\n",
      "│    │    └─WeightQuantProxyFromInjector: 3-202                             --                        (recursive)\n",
      "├─ModuleList: 1-107                                                         --                        (recursive)\n",
      "│    └─QuantConv2d: 2-8                                                     --                        (recursive)\n",
      "│    │    └─WeightQuantProxyFromInjector: 3-10                              --                        (recursive)\n",
      "│    │    └─ActQuantProxyFromInjector: 3-11                                 [1, 12, 228, 228]         --\n",
      "│    └─BatchNorm2d: 2-9                                                     [1, 12, 228, 228]         24\n",
      "│    └─QuantReLU: 2-10                                                      [1, 12, 228, 228]         --\n",
      "│    │    └─ActQuantProxyFromInjector: 3-12                                 [1, 12, 228, 228]         --\n",
      "│    │    └─ActQuantProxyFromInjector: 3-13                                 [1, 12, 228, 228]         1\n",
      "├─ModuleList: 1-108                                                         --                        (recursive)\n",
      "│    └─QuantLinear: 2-163                                                   --                        (recursive)\n",
      "│    │    └─WeightQuantProxyFromInjector: 3-202                             --                        (recursive)\n",
      "├─ModuleList: 1-107                                                         --                        (recursive)\n",
      "│    └─QuantReLU: 2-14                                                      --                        (recursive)\n",
      "│    │    └─ActQuantProxyFromInjector: 3-17                                 --                        (recursive)\n",
      "├─ModuleList: 1-108                                                         --                        (recursive)\n",
      "│    └─QuantReLU: 2-164                                                     --                        (recursive)\n",
      "│    │    └─ActQuantProxyFromInjector: 3-203                                --                        (recursive)\n",
      "├─ModuleList: 1-107                                                         --                        (recursive)\n",
      "│    └─QuantReLU: 2-14                                                      --                        (recursive)\n",
      "│    │    └─ActQuantProxyFromInjector: 3-17                                 --                        (recursive)\n",
      "│    └─MaxPool2d: 2-15                                                      [1, 12, 114, 114]         --\n",
      "│    └─QuantConv2d: 2-16                                                    [1, 24, 112, 114]         --\n",
      "│    │    └─ActQuantProxyFromInjector: 3-18                                 [1, 12, 114, 114]         --\n",
      "│    │    └─WeightQuantProxyFromInjector: 3-19                              [24, 12, 3, 1]            864\n",
      "├─ModuleList: 1-108                                                         --                        (recursive)\n",
      "│    └─QuantLinear: 2-163                                                   --                        (recursive)\n",
      "│    │    └─WeightQuantProxyFromInjector: 3-202                             --                        (recursive)\n",
      "├─ModuleList: 1-107                                                         --                        (recursive)\n",
      "│    └─QuantConv2d: 2-18                                                    --                        (recursive)\n",
      "│    │    └─WeightQuantProxyFromInjector: 3-21                              --                        (recursive)\n",
      "│    │    └─ActQuantProxyFromInjector: 3-22                                 [1, 24, 112, 114]         --\n",
      "│    └─QuantIdentity: 2-19                                                  [1, 24, 112, 114]         --\n",
      "│    │    └─ActQuantProxyFromInjector: 3-23                                 [1, 24, 112, 114]         --\n",
      "│    │    └─ActQuantProxyFromInjector: 3-24                                 [1, 24, 112, 114]         1\n",
      "├─ModuleList: 1-108                                                         --                        (recursive)\n",
      "│    └─QuantLinear: 2-163                                                   --                        (recursive)\n",
      "│    │    └─WeightQuantProxyFromInjector: 3-202                             --                        (recursive)\n",
      "├─ModuleList: 1-107                                                         --                        (recursive)\n",
      "│    └─QuantIdentity: 2-23                                                  --                        (recursive)\n",
      "│    │    └─ActQuantProxyFromInjector: 3-28                                 --                        (recursive)\n",
      "├─ModuleList: 1-108                                                         --                        (recursive)\n",
      "│    └─QuantReLU: 2-164                                                     --                        (recursive)\n",
      "│    │    └─ActQuantProxyFromInjector: 3-203                                --                        (recursive)\n",
      "├─ModuleList: 1-107                                                         --                        (recursive)\n",
      "│    └─QuantIdentity: 2-23                                                  --                        (recursive)\n",
      "│    │    └─ActQuantProxyFromInjector: 3-28                                 --                        (recursive)\n",
      "│    └─QuantConv2d: 2-24                                                    [1, 16, 112, 112]         --\n",
      "│    │    └─ActQuantProxyFromInjector: 3-29                                 [1, 24, 112, 114]         --\n",
      "│    │    └─WeightQuantProxyFromInjector: 3-30                              [16, 24, 1, 3]            1,152\n",
      "├─ModuleList: 1-108                                                         --                        (recursive)\n",
      "│    └─QuantLinear: 2-163                                                   --                        (recursive)\n",
      "│    │    └─WeightQuantProxyFromInjector: 3-202                             --                        (recursive)\n",
      "├─ModuleList: 1-107                                                         --                        (recursive)\n",
      "│    └─QuantConv2d: 2-26                                                    --                        (recursive)\n",
      "│    │    └─WeightQuantProxyFromInjector: 3-32                              --                        (recursive)\n",
      "│    │    └─ActQuantProxyFromInjector: 3-33                                 [1, 16, 112, 112]         --\n",
      "│    └─BatchNorm2d: 2-27                                                    [1, 16, 112, 112]         32\n",
      "│    └─QuantReLU: 2-28                                                      [1, 16, 112, 112]         --\n",
      "│    │    └─ActQuantProxyFromInjector: 3-34                                 [1, 16, 112, 112]         --\n",
      "│    │    └─ActQuantProxyFromInjector: 3-35                                 [1, 16, 112, 112]         1\n",
      "├─ModuleList: 1-108                                                         --                        (recursive)\n",
      "│    └─QuantLinear: 2-163                                                   --                        (recursive)\n",
      "│    │    └─WeightQuantProxyFromInjector: 3-202                             --                        (recursive)\n",
      "├─ModuleList: 1-107                                                         --                        (recursive)\n",
      "│    └─QuantReLU: 2-32                                                      --                        (recursive)\n",
      "│    │    └─ActQuantProxyFromInjector: 3-39                                 --                        (recursive)\n",
      "├─ModuleList: 1-108                                                         --                        (recursive)\n",
      "│    └─QuantReLU: 2-164                                                     --                        (recursive)\n",
      "│    │    └─ActQuantProxyFromInjector: 3-203                                --                        (recursive)\n",
      "├─ModuleList: 1-107                                                         --                        (recursive)\n",
      "│    └─QuantReLU: 2-32                                                      --                        (recursive)\n",
      "│    │    └─ActQuantProxyFromInjector: 3-39                                 --                        (recursive)\n",
      "│    └─MaxPool2d: 2-33                                                      [1, 16, 56, 56]           --\n",
      "│    └─QuantConv2d: 2-34                                                    [1, 16, 56, 56]           --\n",
      "│    │    └─ActQuantProxyFromInjector: 3-40                                 [1, 16, 56, 56]           --\n",
      "│    │    └─WeightQuantProxyFromInjector: 3-41                              [16, 16, 1, 1]            256\n",
      "├─ModuleList: 1-108                                                         --                        (recursive)\n",
      "│    └─QuantLinear: 2-163                                                   --                        (recursive)\n",
      "│    │    └─WeightQuantProxyFromInjector: 3-202                             --                        (recursive)\n",
      "├─ModuleList: 1-107                                                         --                        (recursive)\n",
      "│    └─QuantConv2d: 2-36                                                    --                        (recursive)\n",
      "│    │    └─WeightQuantProxyFromInjector: 3-43                              --                        (recursive)\n",
      "│    │    └─ActQuantProxyFromInjector: 3-44                                 [1, 16, 56, 56]           --\n",
      "│    └─BatchNorm2d: 2-37                                                    [1, 16, 56, 56]           32\n",
      "│    └─QuantReLU: 2-38                                                      [1, 16, 56, 56]           --\n",
      "│    │    └─ActQuantProxyFromInjector: 3-45                                 [1, 16, 56, 56]           --\n",
      "│    │    └─ActQuantProxyFromInjector: 3-46                                 [1, 16, 56, 56]           1\n",
      "├─ModuleList: 1-108                                                         --                        (recursive)\n",
      "│    └─QuantLinear: 2-163                                                   --                        (recursive)\n",
      "│    │    └─WeightQuantProxyFromInjector: 3-202                             --                        (recursive)\n",
      "├─ModuleList: 1-107                                                         --                        (recursive)\n",
      "│    └─QuantReLU: 2-42                                                      --                        (recursive)\n",
      "│    │    └─ActQuantProxyFromInjector: 3-50                                 --                        (recursive)\n",
      "├─ModuleList: 1-108                                                         --                        (recursive)\n",
      "│    └─QuantReLU: 2-164                                                     --                        (recursive)\n",
      "│    │    └─ActQuantProxyFromInjector: 3-203                                --                        (recursive)\n",
      "├─ModuleList: 1-107                                                         --                        (recursive)\n",
      "│    └─QuantReLU: 2-42                                                      --                        (recursive)\n",
      "│    │    └─ActQuantProxyFromInjector: 3-50                                 --                        (recursive)\n",
      "│    └─QuantConv2d: 2-43                                                    [1, 16, 54, 56]           --\n",
      "│    │    └─ActQuantProxyFromInjector: 3-51                                 [1, 16, 56, 56]           --\n",
      "│    │    └─WeightQuantProxyFromInjector: 3-52                              [16, 16, 3, 1]            768\n",
      "├─ModuleList: 1-108                                                         --                        (recursive)\n",
      "│    └─QuantLinear: 2-163                                                   --                        (recursive)\n",
      "│    │    └─WeightQuantProxyFromInjector: 3-202                             --                        (recursive)\n",
      "├─ModuleList: 1-107                                                         --                        (recursive)\n",
      "│    └─QuantConv2d: 2-45                                                    --                        (recursive)\n",
      "│    │    └─WeightQuantProxyFromInjector: 3-54                              --                        (recursive)\n",
      "│    │    └─ActQuantProxyFromInjector: 3-55                                 [1, 16, 54, 56]           --\n",
      "│    └─QuantIdentity: 2-46                                                  [1, 16, 54, 56]           --\n",
      "│    │    └─ActQuantProxyFromInjector: 3-56                                 [1, 16, 54, 56]           --\n",
      "│    │    └─ActQuantProxyFromInjector: 3-57                                 [1, 16, 54, 56]           1\n",
      "├─ModuleList: 1-108                                                         --                        (recursive)\n",
      "│    └─QuantLinear: 2-163                                                   --                        (recursive)\n",
      "│    │    └─WeightQuantProxyFromInjector: 3-202                             --                        (recursive)\n",
      "├─ModuleList: 1-107                                                         --                        (recursive)\n",
      "│    └─QuantIdentity: 2-50                                                  --                        (recursive)\n",
      "│    │    └─ActQuantProxyFromInjector: 3-61                                 --                        (recursive)\n",
      "├─ModuleList: 1-108                                                         --                        (recursive)\n",
      "│    └─QuantReLU: 2-164                                                     --                        (recursive)\n",
      "│    │    └─ActQuantProxyFromInjector: 3-203                                --                        (recursive)\n",
      "├─ModuleList: 1-107                                                         --                        (recursive)\n",
      "│    └─QuantIdentity: 2-50                                                  --                        (recursive)\n",
      "│    │    └─ActQuantProxyFromInjector: 3-61                                 --                        (recursive)\n",
      "│    └─QuantConv2d: 2-51                                                    [1, 32, 54, 54]           --\n",
      "│    │    └─ActQuantProxyFromInjector: 3-62                                 [1, 16, 54, 56]           --\n",
      "│    │    └─WeightQuantProxyFromInjector: 3-63                              [32, 16, 1, 3]            1,536\n",
      "├─ModuleList: 1-108                                                         --                        (recursive)\n",
      "│    └─QuantLinear: 2-163                                                   --                        (recursive)\n",
      "│    │    └─WeightQuantProxyFromInjector: 3-202                             --                        (recursive)\n",
      "├─ModuleList: 1-107                                                         --                        (recursive)\n",
      "│    └─QuantConv2d: 2-53                                                    --                        (recursive)\n",
      "│    │    └─WeightQuantProxyFromInjector: 3-65                              --                        (recursive)\n",
      "│    │    └─ActQuantProxyFromInjector: 3-66                                 [1, 32, 54, 54]           --\n",
      "│    └─BatchNorm2d: 2-54                                                    [1, 32, 54, 54]           64\n",
      "│    └─QuantReLU: 2-55                                                      [1, 32, 54, 54]           --\n",
      "│    │    └─ActQuantProxyFromInjector: 3-67                                 [1, 32, 54, 54]           --\n",
      "│    │    └─ActQuantProxyFromInjector: 3-68                                 [1, 32, 54, 54]           1\n",
      "├─ModuleList: 1-108                                                         --                        (recursive)\n",
      "│    └─QuantLinear: 2-163                                                   --                        (recursive)\n",
      "│    │    └─WeightQuantProxyFromInjector: 3-202                             --                        (recursive)\n",
      "├─ModuleList: 1-107                                                         --                        (recursive)\n",
      "│    └─QuantReLU: 2-59                                                      --                        (recursive)\n",
      "│    │    └─ActQuantProxyFromInjector: 3-72                                 --                        (recursive)\n",
      "├─ModuleList: 1-108                                                         --                        (recursive)\n",
      "│    └─QuantReLU: 2-164                                                     --                        (recursive)\n",
      "│    │    └─ActQuantProxyFromInjector: 3-203                                --                        (recursive)\n",
      "├─ModuleList: 1-107                                                         --                        (recursive)\n",
      "│    └─QuantReLU: 2-59                                                      --                        (recursive)\n",
      "│    │    └─ActQuantProxyFromInjector: 3-72                                 --                        (recursive)\n",
      "│    └─QuantConv2d: 2-60                                                    [1, 32, 54, 54]           --\n",
      "│    │    └─ActQuantProxyFromInjector: 3-73                                 [1, 32, 54, 54]           --\n",
      "│    │    └─WeightQuantProxyFromInjector: 3-74                              [32, 32, 1, 1]            1,024\n",
      "├─ModuleList: 1-108                                                         --                        (recursive)\n",
      "│    └─QuantLinear: 2-163                                                   --                        (recursive)\n",
      "│    │    └─WeightQuantProxyFromInjector: 3-202                             --                        (recursive)\n",
      "├─ModuleList: 1-107                                                         --                        (recursive)\n",
      "│    └─QuantConv2d: 2-62                                                    --                        (recursive)\n",
      "│    │    └─WeightQuantProxyFromInjector: 3-76                              --                        (recursive)\n",
      "│    │    └─ActQuantProxyFromInjector: 3-77                                 [1, 32, 54, 54]           --\n",
      "│    └─BatchNorm2d: 2-63                                                    [1, 32, 54, 54]           64\n",
      "│    └─QuantReLU: 2-64                                                      [1, 32, 54, 54]           --\n",
      "│    │    └─ActQuantProxyFromInjector: 3-78                                 [1, 32, 54, 54]           --\n",
      "│    │    └─ActQuantProxyFromInjector: 3-79                                 [1, 32, 54, 54]           1\n",
      "├─ModuleList: 1-108                                                         --                        (recursive)\n",
      "│    └─QuantLinear: 2-163                                                   --                        (recursive)\n",
      "│    │    └─WeightQuantProxyFromInjector: 3-202                             --                        (recursive)\n",
      "├─ModuleList: 1-107                                                         --                        (recursive)\n",
      "│    └─QuantReLU: 2-68                                                      --                        (recursive)\n",
      "│    │    └─ActQuantProxyFromInjector: 3-83                                 --                        (recursive)\n",
      "├─ModuleList: 1-108                                                         --                        (recursive)\n",
      "│    └─QuantReLU: 2-164                                                     --                        (recursive)\n",
      "│    │    └─ActQuantProxyFromInjector: 3-203                                --                        (recursive)\n",
      "├─ModuleList: 1-107                                                         --                        (recursive)\n",
      "│    └─QuantReLU: 2-68                                                      --                        (recursive)\n",
      "│    │    └─ActQuantProxyFromInjector: 3-83                                 --                        (recursive)\n",
      "│    └─QuantConv2d: 2-69                                                    [1, 42, 52, 54]           --\n",
      "│    │    └─ActQuantProxyFromInjector: 3-84                                 [1, 32, 54, 54]           --\n",
      "│    │    └─WeightQuantProxyFromInjector: 3-85                              [42, 32, 3, 1]            4,032\n",
      "├─ModuleList: 1-108                                                         --                        (recursive)\n",
      "│    └─QuantLinear: 2-163                                                   --                        (recursive)\n",
      "│    │    └─WeightQuantProxyFromInjector: 3-202                             --                        (recursive)\n",
      "├─ModuleList: 1-107                                                         --                        (recursive)\n",
      "│    └─QuantConv2d: 2-71                                                    --                        (recursive)\n",
      "│    │    └─WeightQuantProxyFromInjector: 3-87                              --                        (recursive)\n",
      "│    │    └─ActQuantProxyFromInjector: 3-88                                 [1, 42, 52, 54]           --\n",
      "│    └─QuantIdentity: 2-72                                                  [1, 42, 52, 54]           --\n",
      "│    │    └─ActQuantProxyFromInjector: 3-89                                 [1, 42, 52, 54]           --\n",
      "│    │    └─ActQuantProxyFromInjector: 3-90                                 [1, 42, 52, 54]           1\n",
      "├─ModuleList: 1-108                                                         --                        (recursive)\n",
      "│    └─QuantLinear: 2-163                                                   --                        (recursive)\n",
      "│    │    └─WeightQuantProxyFromInjector: 3-202                             --                        (recursive)\n",
      "├─ModuleList: 1-107                                                         --                        (recursive)\n",
      "│    └─QuantIdentity: 2-76                                                  --                        (recursive)\n",
      "│    │    └─ActQuantProxyFromInjector: 3-94                                 --                        (recursive)\n",
      "├─ModuleList: 1-108                                                         --                        (recursive)\n",
      "│    └─QuantReLU: 2-164                                                     --                        (recursive)\n",
      "│    │    └─ActQuantProxyFromInjector: 3-203                                --                        (recursive)\n",
      "├─ModuleList: 1-107                                                         --                        (recursive)\n",
      "│    └─QuantIdentity: 2-76                                                  --                        (recursive)\n",
      "│    │    └─ActQuantProxyFromInjector: 3-94                                 --                        (recursive)\n",
      "│    └─QuantConv2d: 2-77                                                    [1, 64, 52, 52]           --\n",
      "│    │    └─ActQuantProxyFromInjector: 3-95                                 [1, 42, 52, 54]           --\n",
      "│    │    └─WeightQuantProxyFromInjector: 3-96                              [64, 42, 1, 3]            8,064\n",
      "├─ModuleList: 1-108                                                         --                        (recursive)\n",
      "│    └─QuantLinear: 2-163                                                   --                        (recursive)\n",
      "│    │    └─WeightQuantProxyFromInjector: 3-202                             --                        (recursive)\n",
      "├─ModuleList: 1-107                                                         --                        (recursive)\n",
      "│    └─QuantConv2d: 2-79                                                    --                        (recursive)\n",
      "│    │    └─WeightQuantProxyFromInjector: 3-98                              --                        (recursive)\n",
      "│    │    └─ActQuantProxyFromInjector: 3-99                                 [1, 64, 52, 52]           --\n",
      "│    └─BatchNorm2d: 2-80                                                    [1, 64, 52, 52]           128\n",
      "│    └─QuantReLU: 2-81                                                      [1, 64, 52, 52]           --\n",
      "│    │    └─ActQuantProxyFromInjector: 3-100                                [1, 64, 52, 52]           --\n",
      "│    │    └─ActQuantProxyFromInjector: 3-101                                [1, 64, 52, 52]           1\n",
      "├─ModuleList: 1-108                                                         --                        (recursive)\n",
      "│    └─QuantLinear: 2-163                                                   --                        (recursive)\n",
      "│    │    └─WeightQuantProxyFromInjector: 3-202                             --                        (recursive)\n",
      "├─ModuleList: 1-107                                                         --                        (recursive)\n",
      "│    └─QuantReLU: 2-85                                                      --                        (recursive)\n",
      "│    │    └─ActQuantProxyFromInjector: 3-105                                --                        (recursive)\n",
      "├─ModuleList: 1-108                                                         --                        (recursive)\n",
      "│    └─QuantReLU: 2-164                                                     --                        (recursive)\n",
      "│    │    └─ActQuantProxyFromInjector: 3-203                                --                        (recursive)\n",
      "├─ModuleList: 1-107                                                         --                        (recursive)\n",
      "│    └─QuantReLU: 2-85                                                      --                        (recursive)\n",
      "│    │    └─ActQuantProxyFromInjector: 3-105                                --                        (recursive)\n",
      "│    └─MaxPool2d: 2-86                                                      [1, 64, 26, 26]           --\n",
      "│    └─QuantConv2d: 2-87                                                    [1, 30, 26, 26]           --\n",
      "│    │    └─ActQuantProxyFromInjector: 3-106                                [1, 64, 26, 26]           --\n",
      "│    │    └─WeightQuantProxyFromInjector: 3-107                             [30, 64, 1, 1]            1,920\n",
      "├─ModuleList: 1-108                                                         --                        (recursive)\n",
      "│    └─QuantLinear: 2-163                                                   --                        (recursive)\n",
      "│    │    └─WeightQuantProxyFromInjector: 3-202                             --                        (recursive)\n",
      "├─ModuleList: 1-107                                                         --                        (recursive)\n",
      "│    └─QuantConv2d: 2-89                                                    --                        (recursive)\n",
      "│    │    └─WeightQuantProxyFromInjector: 3-109                             --                        (recursive)\n",
      "│    │    └─ActQuantProxyFromInjector: 3-110                                [1, 30, 26, 26]           --\n",
      "│    └─BatchNorm2d: 2-90                                                    [1, 30, 26, 26]           60\n",
      "│    └─QuantReLU: 2-91                                                      [1, 30, 26, 26]           --\n",
      "│    │    └─ActQuantProxyFromInjector: 3-111                                [1, 30, 26, 26]           --\n",
      "│    │    └─ActQuantProxyFromInjector: 3-112                                [1, 30, 26, 26]           1\n",
      "├─ModuleList: 1-108                                                         --                        (recursive)\n",
      "│    └─QuantLinear: 2-163                                                   --                        (recursive)\n",
      "│    │    └─WeightQuantProxyFromInjector: 3-202                             --                        (recursive)\n",
      "├─ModuleList: 1-107                                                         --                        (recursive)\n",
      "│    └─QuantReLU: 2-95                                                      --                        (recursive)\n",
      "│    │    └─ActQuantProxyFromInjector: 3-116                                --                        (recursive)\n",
      "├─ModuleList: 1-108                                                         --                        (recursive)\n",
      "│    └─QuantReLU: 2-164                                                     --                        (recursive)\n",
      "│    │    └─ActQuantProxyFromInjector: 3-203                                --                        (recursive)\n",
      "├─ModuleList: 1-107                                                         --                        (recursive)\n",
      "│    └─QuantReLU: 2-95                                                      --                        (recursive)\n",
      "│    │    └─ActQuantProxyFromInjector: 3-116                                --                        (recursive)\n",
      "│    └─QuantConv2d: 2-96                                                    [1, 60, 24, 24]           --\n",
      "│    │    └─ActQuantProxyFromInjector: 3-117                                [1, 30, 26, 26]           --\n",
      "│    │    └─WeightQuantProxyFromInjector: 3-118                             [60, 30, 3, 3]            16,200\n",
      "├─ModuleList: 1-108                                                         --                        (recursive)\n",
      "│    └─QuantLinear: 2-163                                                   --                        (recursive)\n",
      "│    │    └─WeightQuantProxyFromInjector: 3-202                             --                        (recursive)\n",
      "├─ModuleList: 1-107                                                         --                        (recursive)\n",
      "│    └─QuantConv2d: 2-98                                                    --                        (recursive)\n",
      "│    │    └─WeightQuantProxyFromInjector: 3-120                             --                        (recursive)\n",
      "│    │    └─ActQuantProxyFromInjector: 3-121                                [1, 60, 24, 24]           --\n",
      "│    └─BatchNorm2d: 2-99                                                    [1, 60, 24, 24]           120\n",
      "│    └─QuantReLU: 2-100                                                     [1, 60, 24, 24]           --\n",
      "│    │    └─ActQuantProxyFromInjector: 3-122                                [1, 60, 24, 24]           --\n",
      "│    │    └─ActQuantProxyFromInjector: 3-123                                [1, 60, 24, 24]           1\n",
      "├─ModuleList: 1-108                                                         --                        (recursive)\n",
      "│    └─QuantLinear: 2-163                                                   --                        (recursive)\n",
      "│    │    └─WeightQuantProxyFromInjector: 3-202                             --                        (recursive)\n",
      "├─ModuleList: 1-107                                                         --                        (recursive)\n",
      "│    └─QuantReLU: 2-104                                                     --                        (recursive)\n",
      "│    │    └─ActQuantProxyFromInjector: 3-127                                --                        (recursive)\n",
      "├─ModuleList: 1-108                                                         --                        (recursive)\n",
      "│    └─QuantReLU: 2-164                                                     --                        (recursive)\n",
      "│    │    └─ActQuantProxyFromInjector: 3-203                                --                        (recursive)\n",
      "├─ModuleList: 1-107                                                         --                        (recursive)\n",
      "│    └─QuantReLU: 2-104                                                     --                        (recursive)\n",
      "│    │    └─ActQuantProxyFromInjector: 3-127                                --                        (recursive)\n",
      "│    └─QuantConv2d: 2-105                                                   [1, 32, 24, 24]           --\n",
      "│    │    └─ActQuantProxyFromInjector: 3-128                                [1, 60, 24, 24]           --\n",
      "│    │    └─WeightQuantProxyFromInjector: 3-129                             [32, 60, 1, 1]            1,920\n",
      "├─ModuleList: 1-108                                                         --                        (recursive)\n",
      "│    └─QuantLinear: 2-163                                                   --                        (recursive)\n",
      "│    │    └─WeightQuantProxyFromInjector: 3-202                             --                        (recursive)\n",
      "├─ModuleList: 1-107                                                         --                        (recursive)\n",
      "│    └─QuantConv2d: 2-107                                                   --                        (recursive)\n",
      "│    │    └─WeightQuantProxyFromInjector: 3-131                             --                        (recursive)\n",
      "│    │    └─ActQuantProxyFromInjector: 3-132                                [1, 32, 24, 24]           --\n",
      "│    └─BatchNorm2d: 2-108                                                   [1, 32, 24, 24]           64\n",
      "│    └─QuantReLU: 2-109                                                     [1, 32, 24, 24]           --\n",
      "│    │    └─ActQuantProxyFromInjector: 3-133                                [1, 32, 24, 24]           --\n",
      "│    │    └─ActQuantProxyFromInjector: 3-134                                [1, 32, 24, 24]           1\n",
      "├─ModuleList: 1-108                                                         --                        (recursive)\n",
      "│    └─QuantLinear: 2-163                                                   --                        (recursive)\n",
      "│    │    └─WeightQuantProxyFromInjector: 3-202                             --                        (recursive)\n",
      "├─ModuleList: 1-107                                                         --                        (recursive)\n",
      "│    └─QuantReLU: 2-113                                                     --                        (recursive)\n",
      "│    │    └─ActQuantProxyFromInjector: 3-138                                --                        (recursive)\n",
      "├─ModuleList: 1-108                                                         --                        (recursive)\n",
      "│    └─QuantReLU: 2-164                                                     --                        (recursive)\n",
      "│    │    └─ActQuantProxyFromInjector: 3-203                                --                        (recursive)\n",
      "├─ModuleList: 1-107                                                         --                        (recursive)\n",
      "│    └─QuantReLU: 2-113                                                     --                        (recursive)\n",
      "│    │    └─ActQuantProxyFromInjector: 3-138                                --                        (recursive)\n",
      "│    └─QuantConv2d: 2-114                                                   [1, 42, 22, 24]           --\n",
      "│    │    └─ActQuantProxyFromInjector: 3-139                                [1, 32, 24, 24]           --\n",
      "│    │    └─WeightQuantProxyFromInjector: 3-140                             [42, 32, 3, 1]            4,032\n",
      "├─ModuleList: 1-108                                                         --                        (recursive)\n",
      "│    └─QuantLinear: 2-163                                                   --                        (recursive)\n",
      "│    │    └─WeightQuantProxyFromInjector: 3-202                             --                        (recursive)\n",
      "├─ModuleList: 1-107                                                         --                        (recursive)\n",
      "│    └─QuantConv2d: 2-116                                                   --                        (recursive)\n",
      "│    │    └─WeightQuantProxyFromInjector: 3-142                             --                        (recursive)\n",
      "│    │    └─ActQuantProxyFromInjector: 3-143                                [1, 42, 22, 24]           --\n",
      "│    └─QuantIdentity: 2-117                                                 [1, 42, 22, 24]           --\n",
      "│    │    └─ActQuantProxyFromInjector: 3-144                                [1, 42, 22, 24]           --\n",
      "│    │    └─ActQuantProxyFromInjector: 3-145                                [1, 42, 22, 24]           1\n",
      "├─ModuleList: 1-108                                                         --                        (recursive)\n",
      "│    └─QuantLinear: 2-163                                                   --                        (recursive)\n",
      "│    │    └─WeightQuantProxyFromInjector: 3-202                             --                        (recursive)\n",
      "├─ModuleList: 1-107                                                         --                        (recursive)\n",
      "│    └─QuantIdentity: 2-121                                                 --                        (recursive)\n",
      "│    │    └─ActQuantProxyFromInjector: 3-149                                --                        (recursive)\n",
      "├─ModuleList: 1-108                                                         --                        (recursive)\n",
      "│    └─QuantReLU: 2-164                                                     --                        (recursive)\n",
      "│    │    └─ActQuantProxyFromInjector: 3-203                                --                        (recursive)\n",
      "├─ModuleList: 1-107                                                         --                        (recursive)\n",
      "│    └─QuantIdentity: 2-121                                                 --                        (recursive)\n",
      "│    │    └─ActQuantProxyFromInjector: 3-149                                --                        (recursive)\n",
      "│    └─QuantConv2d: 2-122                                                   [1, 58, 22, 22]           --\n",
      "│    │    └─ActQuantProxyFromInjector: 3-150                                [1, 42, 22, 24]           --\n",
      "│    │    └─WeightQuantProxyFromInjector: 3-151                             [58, 42, 1, 3]            7,308\n",
      "├─ModuleList: 1-108                                                         --                        (recursive)\n",
      "│    └─QuantLinear: 2-163                                                   --                        (recursive)\n",
      "│    │    └─WeightQuantProxyFromInjector: 3-202                             --                        (recursive)\n",
      "├─ModuleList: 1-107                                                         --                        (recursive)\n",
      "│    └─QuantConv2d: 2-124                                                   --                        (recursive)\n",
      "│    │    └─WeightQuantProxyFromInjector: 3-153                             --                        (recursive)\n",
      "│    │    └─ActQuantProxyFromInjector: 3-154                                [1, 58, 22, 22]           --\n",
      "│    └─BatchNorm2d: 2-125                                                   [1, 58, 22, 22]           116\n",
      "│    └─QuantReLU: 2-126                                                     [1, 58, 22, 22]           --\n",
      "│    │    └─ActQuantProxyFromInjector: 3-155                                [1, 58, 22, 22]           --\n",
      "│    │    └─ActQuantProxyFromInjector: 3-156                                [1, 58, 22, 22]           1\n",
      "├─ModuleList: 1-108                                                         --                        (recursive)\n",
      "│    └─QuantLinear: 2-163                                                   --                        (recursive)\n",
      "│    │    └─WeightQuantProxyFromInjector: 3-202                             --                        (recursive)\n",
      "├─ModuleList: 1-107                                                         --                        (recursive)\n",
      "│    └─QuantReLU: 2-130                                                     --                        (recursive)\n",
      "│    │    └─ActQuantProxyFromInjector: 3-160                                --                        (recursive)\n",
      "├─ModuleList: 1-108                                                         --                        (recursive)\n",
      "│    └─QuantReLU: 2-164                                                     --                        (recursive)\n",
      "│    │    └─ActQuantProxyFromInjector: 3-203                                --                        (recursive)\n",
      "├─ModuleList: 1-107                                                         --                        (recursive)\n",
      "│    └─QuantReLU: 2-130                                                     --                        (recursive)\n",
      "│    │    └─ActQuantProxyFromInjector: 3-160                                --                        (recursive)\n",
      "│    └─QuantConv2d: 2-131                                                   [1, 32, 22, 22]           --\n",
      "│    │    └─ActQuantProxyFromInjector: 3-161                                [1, 58, 22, 22]           --\n",
      "│    │    └─WeightQuantProxyFromInjector: 3-162                             [32, 58, 1, 1]            1,856\n",
      "├─ModuleList: 1-108                                                         --                        (recursive)\n",
      "│    └─QuantLinear: 2-163                                                   --                        (recursive)\n",
      "│    │    └─WeightQuantProxyFromInjector: 3-202                             --                        (recursive)\n",
      "├─ModuleList: 1-107                                                         --                        (recursive)\n",
      "│    └─QuantConv2d: 2-133                                                   --                        (recursive)\n",
      "│    │    └─WeightQuantProxyFromInjector: 3-164                             --                        (recursive)\n",
      "│    │    └─ActQuantProxyFromInjector: 3-165                                [1, 32, 22, 22]           --\n",
      "│    └─BatchNorm2d: 2-134                                                   [1, 32, 22, 22]           64\n",
      "│    └─QuantReLU: 2-135                                                     [1, 32, 22, 22]           --\n",
      "│    │    └─ActQuantProxyFromInjector: 3-166                                [1, 32, 22, 22]           --\n",
      "│    │    └─ActQuantProxyFromInjector: 3-167                                [1, 32, 22, 22]           1\n",
      "├─ModuleList: 1-108                                                         --                        (recursive)\n",
      "│    └─QuantLinear: 2-163                                                   --                        (recursive)\n",
      "│    │    └─WeightQuantProxyFromInjector: 3-202                             --                        (recursive)\n",
      "├─ModuleList: 1-107                                                         --                        (recursive)\n",
      "│    └─QuantReLU: 2-139                                                     --                        (recursive)\n",
      "│    │    └─ActQuantProxyFromInjector: 3-171                                --                        (recursive)\n",
      "├─ModuleList: 1-108                                                         --                        (recursive)\n",
      "│    └─QuantReLU: 2-164                                                     --                        (recursive)\n",
      "│    │    └─ActQuantProxyFromInjector: 3-203                                --                        (recursive)\n",
      "├─ModuleList: 1-107                                                         --                        (recursive)\n",
      "│    └─QuantReLU: 2-139                                                     --                        (recursive)\n",
      "│    │    └─ActQuantProxyFromInjector: 3-171                                --                        (recursive)\n",
      "│    └─QuantConv2d: 2-140                                                   [1, 20, 20, 22]           --\n",
      "│    │    └─ActQuantProxyFromInjector: 3-172                                [1, 32, 22, 22]           --\n",
      "│    │    └─WeightQuantProxyFromInjector: 3-173                             [20, 32, 3, 1]            1,920\n",
      "├─ModuleList: 1-108                                                         --                        (recursive)\n",
      "│    └─QuantLinear: 2-163                                                   --                        (recursive)\n",
      "│    │    └─WeightQuantProxyFromInjector: 3-202                             --                        (recursive)\n",
      "├─ModuleList: 1-107                                                         --                        (recursive)\n",
      "│    └─QuantConv2d: 2-142                                                   --                        (recursive)\n",
      "│    │    └─WeightQuantProxyFromInjector: 3-175                             --                        (recursive)\n",
      "│    │    └─ActQuantProxyFromInjector: 3-176                                [1, 20, 20, 22]           --\n",
      "│    └─QuantIdentity: 2-143                                                 [1, 20, 20, 22]           --\n",
      "│    │    └─ActQuantProxyFromInjector: 3-177                                [1, 20, 20, 22]           --\n",
      "│    │    └─ActQuantProxyFromInjector: 3-178                                [1, 20, 20, 22]           1\n",
      "├─ModuleList: 1-108                                                         --                        (recursive)\n",
      "│    └─QuantLinear: 2-163                                                   --                        (recursive)\n",
      "│    │    └─WeightQuantProxyFromInjector: 3-202                             --                        (recursive)\n",
      "├─ModuleList: 1-107                                                         --                        (recursive)\n",
      "│    └─QuantIdentity: 2-147                                                 --                        (recursive)\n",
      "│    │    └─ActQuantProxyFromInjector: 3-182                                --                        (recursive)\n",
      "├─ModuleList: 1-108                                                         --                        (recursive)\n",
      "│    └─QuantReLU: 2-164                                                     --                        (recursive)\n",
      "│    │    └─ActQuantProxyFromInjector: 3-203                                --                        (recursive)\n",
      "├─ModuleList: 1-107                                                         --                        (recursive)\n",
      "│    └─QuantIdentity: 2-147                                                 --                        (recursive)\n",
      "│    │    └─ActQuantProxyFromInjector: 3-182                                --                        (recursive)\n",
      "│    └─QuantConv2d: 2-148                                                   [1, 64, 20, 20]           --\n",
      "│    │    └─ActQuantProxyFromInjector: 3-183                                [1, 20, 20, 22]           --\n",
      "│    │    └─WeightQuantProxyFromInjector: 3-184                             [64, 20, 1, 3]            3,840\n",
      "├─ModuleList: 1-108                                                         --                        (recursive)\n",
      "│    └─QuantLinear: 2-163                                                   --                        (recursive)\n",
      "│    │    └─WeightQuantProxyFromInjector: 3-202                             --                        (recursive)\n",
      "├─ModuleList: 1-107                                                         --                        (recursive)\n",
      "│    └─QuantConv2d: 2-150                                                   --                        (recursive)\n",
      "│    │    └─WeightQuantProxyFromInjector: 3-186                             --                        (recursive)\n",
      "│    │    └─ActQuantProxyFromInjector: 3-187                                [1, 64, 20, 20]           --\n",
      "│    └─BatchNorm2d: 2-151                                                   [1, 64, 20, 20]           128\n",
      "│    └─QuantReLU: 2-152                                                     [1, 64, 20, 20]           --\n",
      "│    │    └─ActQuantProxyFromInjector: 3-188                                [1, 64, 20, 20]           --\n",
      "│    │    └─ActQuantProxyFromInjector: 3-189                                [1, 64, 20, 20]           1\n",
      "├─ModuleList: 1-108                                                         --                        (recursive)\n",
      "│    └─QuantLinear: 2-163                                                   --                        (recursive)\n",
      "│    │    └─WeightQuantProxyFromInjector: 3-202                             --                        (recursive)\n",
      "├─ModuleList: 1-107                                                         --                        (recursive)\n",
      "│    └─QuantReLU: 2-156                                                     --                        (recursive)\n",
      "│    │    └─ActQuantProxyFromInjector: 3-193                                --                        (recursive)\n",
      "├─ModuleList: 1-108                                                         --                        (recursive)\n",
      "│    └─QuantReLU: 2-164                                                     --                        (recursive)\n",
      "│    │    └─ActQuantProxyFromInjector: 3-203                                --                        (recursive)\n",
      "├─ModuleList: 1-107                                                         --                        (recursive)\n",
      "│    └─QuantReLU: 2-156                                                     --                        (recursive)\n",
      "│    │    └─ActQuantProxyFromInjector: 3-193                                --                        (recursive)\n",
      "│    └─TruncAvgPool2d: 2-157                                                [1, 64, 1, 1]             --\n",
      "│    │    └─TruncQuantProxyFromInjector: 3-194                              [1, 64, 1, 1]             --\n",
      "├─ModuleList: 1-108                                                         --                        (recursive)\n",
      "│    └─QuantLinear: 2-158                                                   [1, 32]                   --\n",
      "│    │    └─ActQuantProxyFromInjector: 3-195                                [1, 64]                   --\n",
      "│    │    └─WeightQuantProxyFromInjector: 3-196                             [32, 64]                  2,048\n",
      "│    └─QuantLinear: 2-163                                                   --                        (recursive)\n",
      "│    │    └─WeightQuantProxyFromInjector: 3-202                             --                        (recursive)\n",
      "│    └─QuantLinear: 2-160                                                   --                        (recursive)\n",
      "│    │    └─WeightQuantProxyFromInjector: 3-198                             --                        (recursive)\n",
      "│    │    └─ActQuantProxyFromInjector: 3-199                                [1, 32]                   --\n",
      "│    └─BatchNorm1d: 2-161                                                   [1, 32]                   64\n",
      "│    └─QuantReLU: 2-162                                                     [1, 32]                   --\n",
      "│    │    └─ActQuantProxyFromInjector: 3-200                                [1, 32]                   --\n",
      "│    │    └─ActQuantProxyFromInjector: 3-201                                [1, 32]                   1\n",
      "│    └─QuantLinear: 2-163                                                   --                        (recursive)\n",
      "│    │    └─WeightQuantProxyFromInjector: 3-202                             --                        (recursive)\n",
      "│    └─QuantReLU: 2-164                                                     --                        (recursive)\n",
      "│    │    └─ActQuantProxyFromInjector: 3-203                                --                        (recursive)\n",
      "│    └─QuantLinear: 2-165                                                   [1, 2]                    --\n",
      "│    │    └─ActQuantProxyFromInjector: 3-204                                [1, 32]                   --\n",
      "│    │    └─WeightQuantProxyFromInjector: 3-205                             [2, 32]                   64\n",
      "│    │    └─ActQuantProxyFromInjector: 3-206                                [1, 2]                    --\n",
      "│    └─TensorNorm: 2-166                                                    [1, 2]                    2\n",
      "=============================================================================================================================\n",
      "Total params: 60,109\n",
      "Trainable params: 60,109\n",
      "Non-trainable params: 0\n",
      "Total mult-adds (M): 0.00\n",
      "=============================================================================================================================\n",
      "Input size (MB): 0.63\n",
      "Forward/backward pass size (MB): 11.01\n",
      "Params size (MB): 0.00\n",
      "Estimated Total Size (MB): 11.65\n",
      "=============================================================================================================================\n"
     ]
    }
   ],
   "source": [
    "if NO_PADDING:\n",
    "    print(\"Using No Padding Model -> DIMS (230, 230)\")\n",
    "    print(summary(model, input_size=(1, 3, 230, 230)))\n",
    "else:\n",
    "    print(\"Using Padding Model -> DIMS (224, 224)\")\n",
    "    print(summary(model, input_size=(1, 3, 224, 224)))"
   ]
  },
  {
   "cell_type": "markdown",
   "id": "61d74ed9-984a-4f66-8121-d1152fecad98",
   "metadata": {},
   "source": [
    "# Load Weights"
   ]
  },
  {
   "cell_type": "code",
   "execution_count": 6,
   "id": "bedb05f2-65fd-475d-bce5-c55098ff22c8",
   "metadata": {},
   "outputs": [],
   "source": [
    "# weights_folder = './experiments/test_v04__imagenetQuant__w2a4_PerChannel_FixedPoint/weights'\n",
    "# model_ckpnt = weights_folder + '/BED_classifier__best_mean_F1.pt'\n",
    "\n",
    "# weights_folder = './experiments/test_v10__AIMET/weights'\n",
    "# model_ckpnt = weights_folder + '/BED_classifier__best_mean_F1.pt'\n",
    "\n",
    "weights_folder = './experiments/test_v13__AIMET_BN_ReLU_added__NoPadding__QuantIdentity/weights'\n",
    "model_ckpnt = weights_folder + '/BED_classifier__best_mean_F1.pt'"
   ]
  },
  {
   "cell_type": "code",
   "execution_count": 7,
   "id": "6efb3c84-4076-4694-8505-2c3c0ee9aa1e",
   "metadata": {},
   "outputs": [
    {
     "name": "stdout",
     "output_type": "stream",
     "text": [
      "Loading Model. Trained during 78 epochs\n"
     ]
    },
    {
     "data": {
      "text/plain": [
       "78"
      ]
     },
     "execution_count": 7,
     "metadata": {},
     "output_type": "execute_result"
    }
   ],
   "source": [
    "utils.load_checkpoint(\n",
    "    model_path = model_ckpnt, \n",
    "    model = model,\n",
    "    device = 'cuda'\n",
    ")"
   ]
  },
  {
   "cell_type": "code",
   "execution_count": 8,
   "id": "ec3e5df0-823a-4de8-a843-785b3c52871e",
   "metadata": {},
   "outputs": [],
   "source": [
    "model.to('cpu')\n",
    "model.eval();"
   ]
  },
  {
   "cell_type": "markdown",
   "id": "6e5e0386-520e-4452-a4bd-217a39e3478f",
   "metadata": {},
   "source": [
    "# Test with DFire MINI Dataset: Train and Test"
   ]
  },
  {
   "cell_type": "code",
   "execution_count": 9,
   "id": "ab9c8bf2-dce8-4ac5-82a9-abbd30a20b08",
   "metadata": {},
   "outputs": [],
   "source": [
    "# import importlib\n",
    "# importlib.reload(config)\n",
    "# importlib.reload(dataloaders)"
   ]
  },
  {
   "cell_type": "code",
   "execution_count": 10,
   "id": "1c7cc77c-6bdf-4d83-9358-61038a8b23bb",
   "metadata": {},
   "outputs": [
    {
     "name": "stdout",
     "output_type": "stream",
     "text": [
      "\n",
      "====================\n",
      "TEST DFire MINI dataset\n",
      "DFire Removed wrong images: 0\n",
      "DFire empty images: 6\n",
      "DFire only smoke images: 13\n",
      "DFire only fire images: 2\n",
      "DFire smoke and fire images: 9\n",
      "\n",
      "Test dataset len: 30\n"
     ]
    }
   ],
   "source": [
    "# train_dfire_mini_loader = dataloaders.get_dfire_mini_train_loader()\n",
    "test_dfire_mini_loader = dataloaders.get_dfire_mini_test_loader()"
   ]
  },
  {
   "cell_type": "markdown",
   "id": "17c77cd9-05ef-4771-8707-82ba5f16ef0c",
   "metadata": {},
   "source": [
    "### Test DFire MINI"
   ]
  },
  {
   "cell_type": "code",
   "execution_count": 11,
   "id": "2c237df0-9726-42e9-8ebe-d738948fb047",
   "metadata": {},
   "outputs": [
    {
     "name": "stderr",
     "output_type": "stream",
     "text": [
      "Validating: 100%|████████████████████████████████████████████████████████████████████████████████████████████████████████████████████████████████████████████| 30/30 [00:00<00:00, 38.76it/s]"
     ]
    },
    {
     "name": "stdout",
     "output_type": "stream",
     "text": [
      "SMOKE -> Precision: 0.9500 - Recall: 0.8636 - Accuracy: 0.8667 - F1: 0.9048\n",
      "FIRE -> Precision: 1.0000 - Recall: 1.0000 - Accuracy: 1.0000 - F1: 1.0000\n"
     ]
    },
    {
     "name": "stderr",
     "output_type": "stream",
     "text": [
      "\n"
     ]
    }
   ],
   "source": [
    "with torch.no_grad():\n",
    "    val_metrics = val_final_model.eval_fn(\n",
    "        loader=test_dfire_mini_loader, \n",
    "        model=model,                         \n",
    "        device='cpu')"
   ]
  },
  {
   "cell_type": "code",
   "execution_count": 12,
   "id": "06fdf6f8-b716-4ee3-a29a-ea9972387cd8",
   "metadata": {},
   "outputs": [
    {
     "name": "stdout",
     "output_type": "stream",
     "text": [
      "\n",
      "Testing with DFire MINI TEST after LOADING F1 Best Mean CHECKPOINT\n",
      "{'Accuracy': [0.8666666746139526, 1.0], 'Precision': [0.949999988079071, 1.0], 'Recall': [0.8636363744735718, 1.0], 'F1': [0.9047619104385376, 1.0]}\n"
     ]
    }
   ],
   "source": [
    "print('\\nTesting with DFire MINI TEST after LOADING F1 Best Mean CHECKPOINT')  \n",
    "print(val_metrics)"
   ]
  },
  {
   "cell_type": "markdown",
   "id": "e24f7f25-a3ed-4779-bf71-134530705210",
   "metadata": {},
   "source": [
    "# Test with DFire Full Test"
   ]
  },
  {
   "cell_type": "code",
   "execution_count": 13,
   "id": "659f4e27-60a9-4b78-b0a9-aa1acc9aeab2",
   "metadata": {},
   "outputs": [
    {
     "name": "stdout",
     "output_type": "stream",
     "text": [
      "\n",
      "====================\n",
      "TEST DFire dataset\n",
      "DFire Removed wrong images: 0\n",
      "DFire empty images: 2005\n",
      "DFire only smoke images: 1186\n",
      "DFire only fire images: 220\n",
      "DFire smoke and fire images: 895\n",
      "\n",
      "Test dataset len: 4306\n"
     ]
    }
   ],
   "source": [
    "test_dfire_loader = dataloaders.get_dfire_val_loader()"
   ]
  },
  {
   "cell_type": "code",
   "execution_count": 27,
   "id": "efca4706-7fc0-485d-af94-98ae1f890c46",
   "metadata": {},
   "outputs": [
    {
     "name": "stderr",
     "output_type": "stream",
     "text": [
      "Validating: 100%|████████████████████████████████████████████████████████████████████████████████████████████████████████████████████████████████████████████| 67/67 [01:55<00:00,  1.72s/it]"
     ]
    },
    {
     "name": "stdout",
     "output_type": "stream",
     "text": [
      "SMOKE -> Precision: 0.9118 - Recall: 0.8619 - Accuracy: 0.8934 - F1: 0.8861\n",
      "FIRE -> Precision: 0.9518 - Recall: 0.9063 - Accuracy: 0.9639 - F1: 0.9285\n"
     ]
    },
    {
     "name": "stderr",
     "output_type": "stream",
     "text": [
      "\n"
     ]
    }
   ],
   "source": [
    "with torch.no_grad():\n",
    "    val_metrics = val_final_model.eval_fn(\n",
    "        loader=test_dfire_loader, \n",
    "        model=model,                         \n",
    "        device='cpu')"
   ]
  },
  {
   "cell_type": "code",
   "execution_count": null,
   "id": "f5bd6a86-d46f-41b3-939d-69cdd0084536",
   "metadata": {},
   "outputs": [],
   "source": []
  },
  {
   "cell_type": "code",
   "execution_count": null,
   "id": "a7985ba3-2b17-4562-90a0-c79017035241",
   "metadata": {},
   "outputs": [],
   "source": []
  },
  {
   "cell_type": "markdown",
   "id": "32e7e65c-f132-4cd2-bf11-8bc040f8c71d",
   "metadata": {},
   "source": [
    "# Convert the Model to BIPOLAR OUT"
   ]
  },
  {
   "cell_type": "code",
   "execution_count": 15,
   "id": "f15e359d-ec85-483b-96e3-d265ce7ec4db",
   "metadata": {},
   "outputs": [],
   "source": [
    "# import brevitas.nn as qnn\n",
    "# import torch.nn as nn"
   ]
  },
  {
   "cell_type": "code",
   "execution_count": 16,
   "id": "473783b9-254b-40ff-b67f-a4818f531e29",
   "metadata": {},
   "outputs": [],
   "source": [
    "# class CNV_BIPOLAR_OUT(nn.Module):\n",
    "#     def __init__(self, base_model):\n",
    "#         super(CNV_BIPOLAR_OUT, self).__init__()\n",
    "#         self.base_model = base_model\n",
    "#         self.qnt_output = qnn.QuantIdentity(\n",
    "#             quant_type='binary', \n",
    "#             scaling_impl_type='const',\n",
    "#             bit_width=1, min_val=-1.0, max_val=1.0)\n",
    "\n",
    "#     def forward(self, x):\n",
    "#         x = self.base_model(x)\n",
    "#         x = self.qnt_output(x)\n",
    "#         return x"
   ]
  },
  {
   "cell_type": "code",
   "execution_count": 17,
   "id": "c2314ef9-10ab-42ad-b61c-122ae49cf5ce",
   "metadata": {},
   "outputs": [],
   "source": [
    "# cnv_bipolar_out = CNV_BIPOLAR_OUT(model).to('cpu')"
   ]
  },
  {
   "cell_type": "markdown",
   "id": "493f850e-5904-45b9-b9cc-08e4a06edaa3",
   "metadata": {},
   "source": [
    "### New Evaluation for BIPOLAR Out Model"
   ]
  },
  {
   "cell_type": "code",
   "execution_count": 18,
   "id": "cffbe14b-9375-4ed0-8355-546e5ed7d3fa",
   "metadata": {},
   "outputs": [],
   "source": [
    "# from tqdm import tqdm\n",
    "\n",
    "# def eval_bipolar_fn(loader, model, device):\n",
    "    \n",
    "#     model.eval()\n",
    "#     loop = tqdm(loader, desc='Validating', leave=True)\n",
    "\n",
    "#     for batch_idx, (x, y) in enumerate(loop):\n",
    "#         x, y = x.to(device), y.to(device)\n",
    "#         yhat = model(x)\n",
    "\n",
    "#         # print(y.shape)\n",
    "#         # print(yhat.shape)\n",
    "        \n",
    "#         #yhat[yhat < 1] = 0\n",
    "#         #yhat = torch.sigmoid(yhat.detach())\n",
    "#         # print(f'Label {y} - Pred {yhat}')\n",
    "#         metrics.precision_metric_cpu.update(yhat, y)\n",
    "#         metrics.recall_metric_cpu.update(yhat, y)\n",
    "#         metrics.accuracy_metric_cpu.update(yhat, y)\n",
    "#         metrics.f1_metric_cpu.update(yhat, y)\n",
    "    \n",
    "#     precision = metrics.precision_metric_cpu.compute()\n",
    "#     recall = metrics.recall_metric_cpu.compute()\n",
    "#     accuracy = metrics.accuracy_metric_cpu.compute()\n",
    "#     f1 = metrics.f1_metric_cpu.compute()\n",
    "    \n",
    "#     metrics.precision_metric_cpu.reset()\n",
    "#     metrics.recall_metric_cpu.reset()\n",
    "#     metrics.accuracy_metric_cpu.reset()\n",
    "#     metrics.f1_metric_cpu.reset()\n",
    "\n",
    "#     print(f'SMOKE -> Precision: {precision[0]:.4f} - Recall: {recall[0]:.4f} - Accuracy: {accuracy[0]:.4f} - F1: {f1[0]:.4f}')\n",
    "#     print(f'FIRE -> Precision: {precision[1]:.4f} - Recall: {recall[1]:.4f} - Accuracy: {accuracy[1]:.4f} - F1: {f1[1]:.4f}')\n",
    "    \n",
    "#     return (\n",
    "#         {\n",
    "#         'Accuracy': [accuracy[0].item(), accuracy[1].item()],\n",
    "#         'Precision': [precision[0].item(), precision[1].item()],\n",
    "#         'Recall': [recall[0].item(), recall[1].item()],\n",
    "#         'F1': [f1[0].item(), f1[1].item()] \n",
    "#         }\n",
    "#     )"
   ]
  },
  {
   "cell_type": "markdown",
   "id": "23ebed5c-63bc-452f-9921-8cd95819464b",
   "metadata": {},
   "source": [
    "### Mini Test"
   ]
  },
  {
   "cell_type": "code",
   "execution_count": 19,
   "id": "c382be4b-69ad-4942-83bc-6c8bfb99564e",
   "metadata": {},
   "outputs": [],
   "source": [
    "# with torch.no_grad():\n",
    "#     val_metrics = eval_bipolar_fn(\n",
    "#         loader=test_dfire_mini_loader, \n",
    "#         model=cnv_bipolar_out,                         \n",
    "#         device='cpu')"
   ]
  },
  {
   "cell_type": "markdown",
   "id": "13f30466-81f7-49a0-a34a-01a156df9a55",
   "metadata": {},
   "source": [
    "# Export Bipolar to QONNX"
   ]
  },
  {
   "cell_type": "code",
   "execution_count": 20,
   "id": "b2339e69-a84e-4562-829d-3c5031213f92",
   "metadata": {},
   "outputs": [],
   "source": [
    "# onnx_no_bipolar_filename = 'Best_F1_AIMET__NO_Bipolar.onnx'\n",
    "# export_qonnx(cnv_bipolar_out, torch.randn(1, 3, 224, 224), onnx_no_bipolar_filename);"
   ]
  },
  {
   "cell_type": "code",
   "execution_count": 21,
   "id": "fbde75e8-45af-49e5-b8a5-2e1fff6be869",
   "metadata": {},
   "outputs": [],
   "source": [
    "# onnx_bipolar_filename = 'Best_F1_AIMET__Bipolar.onnx'\n",
    "# export_qonnx(cnv_bipolar_out, torch.randn(1, 3, 224, 224), onnx_bipolar_filename);"
   ]
  },
  {
   "cell_type": "markdown",
   "id": "799cdf83-c8c8-4011-b052-5ce9c3dd0d6c",
   "metadata": {},
   "source": [
    "# Evaluate QONNX Model\n",
    "\n",
    "QONNX exec does not work. FINN exec must be used inside FINN docker."
   ]
  },
  {
   "cell_type": "code",
   "execution_count": 22,
   "id": "70f79499-c593-43a8-b383-dcc81fc8fcdc",
   "metadata": {},
   "outputs": [],
   "source": [
    "# from qonnx.util.cleanup import cleanup as qonnx_cleanup\n",
    "# from qonnx.core.modelwrapper import ModelWrapper\n",
    "# import qonnx.core.onnx_exec as qonnx_exec\n",
    "\n",
    "# from qonnx.transformation.infer_shapes import InferShapes\n",
    "# from qonnx.transformation.fold_constants import FoldConstants\n",
    "# from qonnx.transformation.general import GiveReadableTensorNames, GiveUniqueNodeNames, RemoveStaticGraphInputs"
   ]
  },
  {
   "cell_type": "markdown",
   "id": "c7f11b34-452f-4eff-9e1f-671597c091a2",
   "metadata": {},
   "source": [
    "### Clean before evaluation"
   ]
  },
  {
   "cell_type": "code",
   "execution_count": 23,
   "id": "e554a9b6-c376-40db-95b3-5195e791eebd",
   "metadata": {},
   "outputs": [],
   "source": [
    "# clean_no_bipolar_onnx_filename = 'Best_F1_AIMET__NO_Bipolar__CLEAN.onnx'\n",
    "# qonnx_cleanup(onnx_no_bipolar_filename, out_file=clean_no_bipolar_onnx_filename)\n",
    "\n",
    "# clean_bipolar_onnx_filename = 'Best_F1_AIMET__Bipolar__CLEAN.onnx'\n",
    "# qonnx_cleanup(onnx_bipolar_filename, out_file=clean_bipolar_onnx_filename)"
   ]
  },
  {
   "cell_type": "code",
   "execution_count": 24,
   "id": "a4accbd9-9b2d-4026-a825-ea687e12d858",
   "metadata": {},
   "outputs": [],
   "source": [
    "# def eval_qonnx(loader, model_filename):\n",
    "    \n",
    "#     model_wrapped = ModelWrapper(model_filename)\n",
    "#     # model_wrapped = model_wrapped.transform(InferShapes())\n",
    "#     # model_wrapped = model_wrapped.transform(FoldConstants())\n",
    "#     # model_wrapped = model_wrapped.transform(GiveUniqueNodeNames())\n",
    "#     # model_wrapped = model_wrapped.transform(GiveReadableTensorNames())\n",
    "#     # model_wrapped = model_wrapped.transform(RemoveStaticGraphInputs())\n",
    "    \n",
    "#     loop = tqdm(loader, desc='Validating', leave=True)\n",
    "\n",
    "#     for batch_idx, (x, y) in enumerate(loop):\n",
    "#         x, y = x.to('cpu'), y.to('cpu')\n",
    "#         img = x.detach().numpy()\n",
    "#         inp_dict = {\"onnx::Mul_0\": img}\n",
    "#         yhat = qonnx_exec.execute_onnx(model_wrapped, inp_dict)\n",
    "#         # print(y.shape)\n",
    "#         # print(yhat.shape)\n",
    "\n",
    "#         yhat = torch.tensor(yhat[\"global_out\"], dtype=torch.float32)\n",
    "#         # print(f'Label {y} - Pred {yhat}')\n",
    "\n",
    "#         # yhat[yhat < 1] = 0\n",
    "#         yhat = torch.sigmoid(yhat.detach())\n",
    "\n",
    "#         print(f'Label {y} - Pred {yhat}')\n",
    "#         metrics.precision_metric_cpu.update(yhat, y)\n",
    "#         metrics.recall_metric_cpu.update(yhat, y)\n",
    "#         metrics.accuracy_metric_cpu.update(yhat, y)\n",
    "#         metrics.f1_metric_cpu.update(yhat, y)\n",
    "    \n",
    "#     precision = metrics.precision_metric_cpu.compute()\n",
    "#     recall = metrics.recall_metric_cpu.compute()\n",
    "#     accuracy = metrics.accuracy_metric_cpu.compute()\n",
    "#     f1 = metrics.f1_metric_cpu.compute()\n",
    "    \n",
    "#     metrics.precision_metric_cpu.reset()\n",
    "#     metrics.recall_metric_cpu.reset()\n",
    "#     metrics.accuracy_metric_cpu.reset()\n",
    "#     metrics.f1_metric_cpu.reset()\n",
    "\n",
    "#     print(f'SMOKE -> Precision: {precision[0]:.4f} - Recall: {recall[0]:.4f} - Accuracy: {accuracy[0]:.4f} - F1: {f1[0]:.4f}')\n",
    "#     print(f'FIRE -> Precision: {precision[1]:.4f} - Recall: {recall[1]:.4f} - Accuracy: {accuracy[1]:.4f} - F1: {f1[1]:.4f}')\n",
    "    \n",
    "#     return (\n",
    "#         {\n",
    "#         'Accuracy': [accuracy[0].item(), accuracy[1].item()],\n",
    "#         'Precision': [precision[0].item(), precision[1].item()],\n",
    "#         'Recall': [recall[0].item(), recall[1].item()],\n",
    "#         'F1': [f1[0].item(), f1[1].item()] \n",
    "#         }\n",
    "#     )"
   ]
  },
  {
   "cell_type": "code",
   "execution_count": 25,
   "id": "0c5f6282-4b69-4553-82a1-a6214bb5a243",
   "metadata": {},
   "outputs": [],
   "source": [
    "# val_metrics = eval_qonnx(\n",
    "#     loader=test_dfire_mini_loader, \n",
    "#     model_filename=clean_no_bipolar_onnx_filename)"
   ]
  },
  {
   "cell_type": "code",
   "execution_count": 26,
   "id": "8b085b71-e9db-4792-98d0-48b4056bd95d",
   "metadata": {},
   "outputs": [],
   "source": [
    "# val_metrics = eval_qonnx(\n",
    "#     loader=test_dfire_mini_loader, \n",
    "#     model_filename=clean_bipolar_onnx_filename)"
   ]
  }
 ],
 "metadata": {
  "kernelspec": {
   "display_name": "Python 3 (ipykernel)",
   "language": "python",
   "name": "python3"
  },
  "language_info": {
   "codemirror_mode": {
    "name": "ipython",
    "version": 3
   },
   "file_extension": ".py",
   "mimetype": "text/x-python",
   "name": "python",
   "nbconvert_exporter": "python",
   "pygments_lexer": "ipython3",
   "version": "3.10.9"
  }
 },
 "nbformat": 4,
 "nbformat_minor": 5
}
