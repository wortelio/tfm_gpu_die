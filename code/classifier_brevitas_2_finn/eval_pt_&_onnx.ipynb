{
 "cells": [
  {
   "cell_type": "code",
   "execution_count": 1,
   "id": "ced39284-e77a-4bb4-b4f4-1e32f8dc378b",
   "metadata": {},
   "outputs": [],
   "source": [
    "import numpy as np\n",
    "import torch\n",
    "from torchinfo import summary\n",
    "\n",
    "import modules.dataloaders as dataloaders\n",
    "import modules.model_CNV_imagenet as cnv_model\n",
    "import modules.model_CNV_AIMET_imagenet as cnv_aimet_model\n",
    "import modules.metrics as metrics\n",
    "import modules.val_final_model as val_final_model\n",
    "import modules.utils as utils"
   ]
  },
  {
   "cell_type": "code",
   "execution_count": 2,
   "id": "8c9f1ed9-bdb0-4417-ac3d-cec7acef5117",
   "metadata": {},
   "outputs": [],
   "source": [
    "# from brevitas.export import export_onnx_qcdq\n",
    "from brevitas.export import export_qonnx"
   ]
  },
  {
   "cell_type": "markdown",
   "id": "32673ea5-65c2-418d-b4bb-dc52d5fc0cb5",
   "metadata": {},
   "source": [
    "# Load Model"
   ]
  },
  {
   "cell_type": "code",
   "execution_count": 3,
   "id": "65f05240-0c38-4f73-b06d-bf9ceefcb369",
   "metadata": {},
   "outputs": [],
   "source": [
    "AIMET = \"YES\"\n",
    "if AIMET == \"NO\":\n",
    "    model = cnv_model.CNV().to('cuda')\n",
    "elif AIMET == \"YES\":\n",
    "    model = cnv_aimet_model.CNV_AIMET().to('cuda')\n",
    "else:\n",
    "    print(\"Wrong Model\")"
   ]
  },
  {
   "cell_type": "markdown",
   "id": "6a769672-efb0-4727-8322-8c68795d0efb",
   "metadata": {},
   "source": [
    "### Torchinfo"
   ]
  },
  {
   "cell_type": "code",
   "execution_count": 4,
   "id": "607141f0-be35-4feb-8635-c63724d1503e",
   "metadata": {},
   "outputs": [
    {
     "name": "stderr",
     "output_type": "stream",
     "text": [
      "/opt/conda/envs/pytorch_brevitas/lib/python3.10/site-packages/torch/_tensor.py:1362: UserWarning: Named tensors and all their associated APIs are an experimental feature and subject to change. Please do not use them for anything important until they are released as stable. (Triggered internally at /opt/conda/conda-bld/pytorch_1702400410390/work/c10/core/TensorImpl.h:1900.)\n",
      "  return super().rename(names)\n"
     ]
    },
    {
     "name": "stdout",
     "output_type": "stream",
     "text": [
      "=============================================================================================================================\n",
      "Layer (type:depth-idx)                                                      Output Shape              Param #\n",
      "=============================================================================================================================\n",
      "CNV_AIMET                                                                   [1, 2]                    --\n",
      "├─ModuleList: 1-87                                                          --                        (recursive)\n",
      "│    └─QuantIdentity: 2-1                                                   [1, 3, 224, 224]          --\n",
      "│    │    └─ActQuantProxyFromInjector: 3-1                                  [1, 3, 224, 224]          --\n",
      "│    │    └─ActQuantProxyFromInjector: 3-2                                  [1, 3, 224, 224]          1\n",
      "├─ModuleList: 1-88                                                          --                        (recursive)\n",
      "│    └─QuantLinear: 2-138                                                   --                        (recursive)\n",
      "│    │    └─WeightQuantProxyFromInjector: 3-172                             --                        (recursive)\n",
      "├─ModuleList: 1-87                                                          --                        (recursive)\n",
      "│    └─QuantIdentity: 2-5                                                   --                        (recursive)\n",
      "│    │    └─ActQuantProxyFromInjector: 3-6                                  --                        (recursive)\n",
      "├─ModuleList: 1-88                                                          --                        (recursive)\n",
      "│    └─QuantReLU: 2-139                                                     --                        (recursive)\n",
      "│    │    └─ActQuantProxyFromInjector: 3-173                                --                        (recursive)\n",
      "├─ModuleList: 1-87                                                          --                        (recursive)\n",
      "│    └─QuantIdentity: 2-5                                                   --                        (recursive)\n",
      "│    │    └─ActQuantProxyFromInjector: 3-6                                  --                        (recursive)\n",
      "│    └─QuantConv2d: 2-6                                                     [1, 24, 224, 224]         --\n",
      "│    │    └─ActQuantProxyFromInjector: 3-7                                  [1, 3, 224, 224]          --\n",
      "│    │    └─WeightQuantProxyFromInjector: 3-8                               [24, 3, 3, 3]             648\n",
      "├─ModuleList: 1-88                                                          --                        (recursive)\n",
      "│    └─QuantLinear: 2-138                                                   --                        (recursive)\n",
      "│    │    └─WeightQuantProxyFromInjector: 3-172                             --                        (recursive)\n",
      "├─ModuleList: 1-87                                                          --                        (recursive)\n",
      "│    └─QuantConv2d: 2-8                                                     --                        (recursive)\n",
      "│    │    └─WeightQuantProxyFromInjector: 3-10                              --                        (recursive)\n",
      "│    │    └─ActQuantProxyFromInjector: 3-11                                 [1, 24, 224, 224]         --\n",
      "│    └─BatchNorm2d: 2-9                                                     [1, 24, 224, 224]         48\n",
      "│    └─QuantReLU: 2-10                                                      [1, 24, 224, 224]         --\n",
      "│    │    └─ActQuantProxyFromInjector: 3-12                                 [1, 24, 224, 224]         --\n",
      "│    │    └─ActQuantProxyFromInjector: 3-13                                 [1, 24, 224, 224]         1\n",
      "├─ModuleList: 1-88                                                          --                        (recursive)\n",
      "│    └─QuantLinear: 2-138                                                   --                        (recursive)\n",
      "│    │    └─WeightQuantProxyFromInjector: 3-172                             --                        (recursive)\n",
      "├─ModuleList: 1-87                                                          --                        (recursive)\n",
      "│    └─QuantReLU: 2-14                                                      --                        (recursive)\n",
      "│    │    └─ActQuantProxyFromInjector: 3-17                                 --                        (recursive)\n",
      "├─ModuleList: 1-88                                                          --                        (recursive)\n",
      "│    └─QuantReLU: 2-139                                                     --                        (recursive)\n",
      "│    │    └─ActQuantProxyFromInjector: 3-173                                --                        (recursive)\n",
      "├─ModuleList: 1-87                                                          --                        (recursive)\n",
      "│    └─QuantReLU: 2-14                                                      --                        (recursive)\n",
      "│    │    └─ActQuantProxyFromInjector: 3-17                                 --                        (recursive)\n",
      "│    └─MaxPool2d: 2-15                                                      [1, 24, 112, 112]         --\n",
      "│    └─QuantConv2d: 2-16                                                    [1, 8, 112, 112]          --\n",
      "│    │    └─ActQuantProxyFromInjector: 3-18                                 [1, 24, 112, 112]         --\n",
      "│    │    └─WeightQuantProxyFromInjector: 3-19                              [8, 24, 3, 1]             576\n",
      "├─ModuleList: 1-88                                                          --                        (recursive)\n",
      "│    └─QuantLinear: 2-138                                                   --                        (recursive)\n",
      "│    │    └─WeightQuantProxyFromInjector: 3-172                             --                        (recursive)\n",
      "├─ModuleList: 1-87                                                          --                        (recursive)\n",
      "│    └─QuantConv2d: 2-18                                                    --                        (recursive)\n",
      "│    │    └─WeightQuantProxyFromInjector: 3-21                              --                        (recursive)\n",
      "│    │    └─ActQuantProxyFromInjector: 3-22                                 [1, 8, 112, 112]          --\n",
      "│    └─QuantConv2d: 2-19                                                    [1, 16, 112, 112]         --\n",
      "│    │    └─ActQuantProxyFromInjector: 3-23                                 [1, 8, 112, 112]          --\n",
      "│    │    └─WeightQuantProxyFromInjector: 3-24                              [16, 8, 1, 3]             384\n",
      "├─ModuleList: 1-88                                                          --                        (recursive)\n",
      "│    └─QuantLinear: 2-138                                                   --                        (recursive)\n",
      "│    │    └─WeightQuantProxyFromInjector: 3-172                             --                        (recursive)\n",
      "├─ModuleList: 1-87                                                          --                        (recursive)\n",
      "│    └─QuantConv2d: 2-21                                                    --                        (recursive)\n",
      "│    │    └─WeightQuantProxyFromInjector: 3-26                              --                        (recursive)\n",
      "│    │    └─ActQuantProxyFromInjector: 3-27                                 [1, 16, 112, 112]         --\n",
      "│    └─BatchNorm2d: 2-22                                                    [1, 16, 112, 112]         32\n",
      "│    └─QuantReLU: 2-23                                                      [1, 16, 112, 112]         --\n",
      "│    │    └─ActQuantProxyFromInjector: 3-28                                 [1, 16, 112, 112]         --\n",
      "│    │    └─ActQuantProxyFromInjector: 3-29                                 [1, 16, 112, 112]         1\n",
      "├─ModuleList: 1-88                                                          --                        (recursive)\n",
      "│    └─QuantLinear: 2-138                                                   --                        (recursive)\n",
      "│    │    └─WeightQuantProxyFromInjector: 3-172                             --                        (recursive)\n",
      "├─ModuleList: 1-87                                                          --                        (recursive)\n",
      "│    └─QuantReLU: 2-27                                                      --                        (recursive)\n",
      "│    │    └─ActQuantProxyFromInjector: 3-33                                 --                        (recursive)\n",
      "├─ModuleList: 1-88                                                          --                        (recursive)\n",
      "│    └─QuantReLU: 2-139                                                     --                        (recursive)\n",
      "│    │    └─ActQuantProxyFromInjector: 3-173                                --                        (recursive)\n",
      "├─ModuleList: 1-87                                                          --                        (recursive)\n",
      "│    └─QuantReLU: 2-27                                                      --                        (recursive)\n",
      "│    │    └─ActQuantProxyFromInjector: 3-33                                 --                        (recursive)\n",
      "│    └─MaxPool2d: 2-28                                                      [1, 16, 56, 56]           --\n",
      "│    └─QuantConv2d: 2-29                                                    [1, 16, 56, 56]           --\n",
      "│    │    └─ActQuantProxyFromInjector: 3-34                                 [1, 16, 56, 56]           --\n",
      "│    │    └─WeightQuantProxyFromInjector: 3-35                              [16, 16, 1, 1]            256\n",
      "├─ModuleList: 1-88                                                          --                        (recursive)\n",
      "│    └─QuantLinear: 2-138                                                   --                        (recursive)\n",
      "│    │    └─WeightQuantProxyFromInjector: 3-172                             --                        (recursive)\n",
      "├─ModuleList: 1-87                                                          --                        (recursive)\n",
      "│    └─QuantConv2d: 2-31                                                    --                        (recursive)\n",
      "│    │    └─WeightQuantProxyFromInjector: 3-37                              --                        (recursive)\n",
      "│    │    └─ActQuantProxyFromInjector: 3-38                                 [1, 16, 56, 56]           --\n",
      "│    └─BatchNorm2d: 2-32                                                    [1, 16, 56, 56]           32\n",
      "│    └─QuantReLU: 2-33                                                      [1, 16, 56, 56]           --\n",
      "│    │    └─ActQuantProxyFromInjector: 3-39                                 [1, 16, 56, 56]           --\n",
      "│    │    └─ActQuantProxyFromInjector: 3-40                                 [1, 16, 56, 56]           1\n",
      "├─ModuleList: 1-88                                                          --                        (recursive)\n",
      "│    └─QuantLinear: 2-138                                                   --                        (recursive)\n",
      "│    │    └─WeightQuantProxyFromInjector: 3-172                             --                        (recursive)\n",
      "├─ModuleList: 1-87                                                          --                        (recursive)\n",
      "│    └─QuantReLU: 2-37                                                      --                        (recursive)\n",
      "│    │    └─ActQuantProxyFromInjector: 3-44                                 --                        (recursive)\n",
      "├─ModuleList: 1-88                                                          --                        (recursive)\n",
      "│    └─QuantReLU: 2-139                                                     --                        (recursive)\n",
      "│    │    └─ActQuantProxyFromInjector: 3-173                                --                        (recursive)\n",
      "├─ModuleList: 1-87                                                          --                        (recursive)\n",
      "│    └─QuantReLU: 2-37                                                      --                        (recursive)\n",
      "│    │    └─ActQuantProxyFromInjector: 3-44                                 --                        (recursive)\n",
      "│    └─QuantConv2d: 2-38                                                    [1, 16, 56, 56]           --\n",
      "│    │    └─ActQuantProxyFromInjector: 3-45                                 [1, 16, 56, 56]           --\n",
      "│    │    └─WeightQuantProxyFromInjector: 3-46                              [16, 16, 3, 1]            768\n",
      "├─ModuleList: 1-88                                                          --                        (recursive)\n",
      "│    └─QuantLinear: 2-138                                                   --                        (recursive)\n",
      "│    │    └─WeightQuantProxyFromInjector: 3-172                             --                        (recursive)\n",
      "├─ModuleList: 1-87                                                          --                        (recursive)\n",
      "│    └─QuantConv2d: 2-40                                                    --                        (recursive)\n",
      "│    │    └─WeightQuantProxyFromInjector: 3-48                              --                        (recursive)\n",
      "│    │    └─ActQuantProxyFromInjector: 3-49                                 [1, 16, 56, 56]           --\n",
      "│    └─QuantConv2d: 2-41                                                    [1, 32, 56, 56]           --\n",
      "│    │    └─ActQuantProxyFromInjector: 3-50                                 [1, 16, 56, 56]           --\n",
      "│    │    └─WeightQuantProxyFromInjector: 3-51                              [32, 16, 1, 3]            1,536\n",
      "├─ModuleList: 1-88                                                          --                        (recursive)\n",
      "│    └─QuantLinear: 2-138                                                   --                        (recursive)\n",
      "│    │    └─WeightQuantProxyFromInjector: 3-172                             --                        (recursive)\n",
      "├─ModuleList: 1-87                                                          --                        (recursive)\n",
      "│    └─QuantConv2d: 2-43                                                    --                        (recursive)\n",
      "│    │    └─WeightQuantProxyFromInjector: 3-53                              --                        (recursive)\n",
      "│    │    └─ActQuantProxyFromInjector: 3-54                                 [1, 32, 56, 56]           --\n",
      "│    └─BatchNorm2d: 2-44                                                    [1, 32, 56, 56]           64\n",
      "│    └─QuantReLU: 2-45                                                      [1, 32, 56, 56]           --\n",
      "│    │    └─ActQuantProxyFromInjector: 3-55                                 [1, 32, 56, 56]           --\n",
      "│    │    └─ActQuantProxyFromInjector: 3-56                                 [1, 32, 56, 56]           1\n",
      "├─ModuleList: 1-88                                                          --                        (recursive)\n",
      "│    └─QuantLinear: 2-138                                                   --                        (recursive)\n",
      "│    │    └─WeightQuantProxyFromInjector: 3-172                             --                        (recursive)\n",
      "├─ModuleList: 1-87                                                          --                        (recursive)\n",
      "│    └─QuantReLU: 2-49                                                      --                        (recursive)\n",
      "│    │    └─ActQuantProxyFromInjector: 3-60                                 --                        (recursive)\n",
      "├─ModuleList: 1-88                                                          --                        (recursive)\n",
      "│    └─QuantReLU: 2-139                                                     --                        (recursive)\n",
      "│    │    └─ActQuantProxyFromInjector: 3-173                                --                        (recursive)\n",
      "├─ModuleList: 1-87                                                          --                        (recursive)\n",
      "│    └─QuantReLU: 2-49                                                      --                        (recursive)\n",
      "│    │    └─ActQuantProxyFromInjector: 3-60                                 --                        (recursive)\n",
      "│    └─QuantConv2d: 2-50                                                    [1, 32, 56, 56]           --\n",
      "│    │    └─ActQuantProxyFromInjector: 3-61                                 [1, 32, 56, 56]           --\n",
      "│    │    └─WeightQuantProxyFromInjector: 3-62                              [32, 32, 1, 1]            1,024\n",
      "├─ModuleList: 1-88                                                          --                        (recursive)\n",
      "│    └─QuantLinear: 2-138                                                   --                        (recursive)\n",
      "│    │    └─WeightQuantProxyFromInjector: 3-172                             --                        (recursive)\n",
      "├─ModuleList: 1-87                                                          --                        (recursive)\n",
      "│    └─QuantConv2d: 2-52                                                    --                        (recursive)\n",
      "│    │    └─WeightQuantProxyFromInjector: 3-64                              --                        (recursive)\n",
      "│    │    └─ActQuantProxyFromInjector: 3-65                                 [1, 32, 56, 56]           --\n",
      "│    └─BatchNorm2d: 2-53                                                    [1, 32, 56, 56]           64\n",
      "│    └─QuantReLU: 2-54                                                      [1, 32, 56, 56]           --\n",
      "│    │    └─ActQuantProxyFromInjector: 3-66                                 [1, 32, 56, 56]           --\n",
      "│    │    └─ActQuantProxyFromInjector: 3-67                                 [1, 32, 56, 56]           1\n",
      "├─ModuleList: 1-88                                                          --                        (recursive)\n",
      "│    └─QuantLinear: 2-138                                                   --                        (recursive)\n",
      "│    │    └─WeightQuantProxyFromInjector: 3-172                             --                        (recursive)\n",
      "├─ModuleList: 1-87                                                          --                        (recursive)\n",
      "│    └─QuantReLU: 2-58                                                      --                        (recursive)\n",
      "│    │    └─ActQuantProxyFromInjector: 3-71                                 --                        (recursive)\n",
      "├─ModuleList: 1-88                                                          --                        (recursive)\n",
      "│    └─QuantReLU: 2-139                                                     --                        (recursive)\n",
      "│    │    └─ActQuantProxyFromInjector: 3-173                                --                        (recursive)\n",
      "├─ModuleList: 1-87                                                          --                        (recursive)\n",
      "│    └─QuantReLU: 2-58                                                      --                        (recursive)\n",
      "│    │    └─ActQuantProxyFromInjector: 3-71                                 --                        (recursive)\n",
      "│    └─QuantConv2d: 2-59                                                    [1, 32, 56, 56]           --\n",
      "│    │    └─ActQuantProxyFromInjector: 3-72                                 [1, 32, 56, 56]           --\n",
      "│    │    └─WeightQuantProxyFromInjector: 3-73                              [32, 32, 3, 1]            3,072\n",
      "├─ModuleList: 1-88                                                          --                        (recursive)\n",
      "│    └─QuantLinear: 2-138                                                   --                        (recursive)\n",
      "│    │    └─WeightQuantProxyFromInjector: 3-172                             --                        (recursive)\n",
      "├─ModuleList: 1-87                                                          --                        (recursive)\n",
      "│    └─QuantConv2d: 2-61                                                    --                        (recursive)\n",
      "│    │    └─WeightQuantProxyFromInjector: 3-75                              --                        (recursive)\n",
      "│    │    └─ActQuantProxyFromInjector: 3-76                                 [1, 32, 56, 56]           --\n",
      "│    └─QuantConv2d: 2-62                                                    [1, 64, 56, 56]           --\n",
      "│    │    └─ActQuantProxyFromInjector: 3-77                                 [1, 32, 56, 56]           --\n",
      "│    │    └─WeightQuantProxyFromInjector: 3-78                              [64, 32, 1, 3]            6,144\n",
      "├─ModuleList: 1-88                                                          --                        (recursive)\n",
      "│    └─QuantLinear: 2-138                                                   --                        (recursive)\n",
      "│    │    └─WeightQuantProxyFromInjector: 3-172                             --                        (recursive)\n",
      "├─ModuleList: 1-87                                                          --                        (recursive)\n",
      "│    └─QuantConv2d: 2-64                                                    --                        (recursive)\n",
      "│    │    └─WeightQuantProxyFromInjector: 3-80                              --                        (recursive)\n",
      "│    │    └─ActQuantProxyFromInjector: 3-81                                 [1, 64, 56, 56]           --\n",
      "│    └─BatchNorm2d: 2-65                                                    [1, 64, 56, 56]           128\n",
      "│    └─QuantReLU: 2-66                                                      [1, 64, 56, 56]           --\n",
      "│    │    └─ActQuantProxyFromInjector: 3-82                                 [1, 64, 56, 56]           --\n",
      "│    │    └─ActQuantProxyFromInjector: 3-83                                 [1, 64, 56, 56]           1\n",
      "├─ModuleList: 1-88                                                          --                        (recursive)\n",
      "│    └─QuantLinear: 2-138                                                   --                        (recursive)\n",
      "│    │    └─WeightQuantProxyFromInjector: 3-172                             --                        (recursive)\n",
      "├─ModuleList: 1-87                                                          --                        (recursive)\n",
      "│    └─QuantReLU: 2-70                                                      --                        (recursive)\n",
      "│    │    └─ActQuantProxyFromInjector: 3-87                                 --                        (recursive)\n",
      "├─ModuleList: 1-88                                                          --                        (recursive)\n",
      "│    └─QuantReLU: 2-139                                                     --                        (recursive)\n",
      "│    │    └─ActQuantProxyFromInjector: 3-173                                --                        (recursive)\n",
      "├─ModuleList: 1-87                                                          --                        (recursive)\n",
      "│    └─QuantReLU: 2-70                                                      --                        (recursive)\n",
      "│    │    └─ActQuantProxyFromInjector: 3-87                                 --                        (recursive)\n",
      "│    └─MaxPool2d: 2-71                                                      [1, 64, 28, 28]           --\n",
      "│    └─QuantConv2d: 2-72                                                    [1, 32, 28, 28]           --\n",
      "│    │    └─ActQuantProxyFromInjector: 3-88                                 [1, 64, 28, 28]           --\n",
      "│    │    └─WeightQuantProxyFromInjector: 3-89                              [32, 64, 1, 1]            2,048\n",
      "├─ModuleList: 1-88                                                          --                        (recursive)\n",
      "│    └─QuantLinear: 2-138                                                   --                        (recursive)\n",
      "│    │    └─WeightQuantProxyFromInjector: 3-172                             --                        (recursive)\n",
      "├─ModuleList: 1-87                                                          --                        (recursive)\n",
      "│    └─QuantConv2d: 2-74                                                    --                        (recursive)\n",
      "│    │    └─WeightQuantProxyFromInjector: 3-91                              --                        (recursive)\n",
      "│    │    └─ActQuantProxyFromInjector: 3-92                                 [1, 32, 28, 28]           --\n",
      "│    └─BatchNorm2d: 2-75                                                    [1, 32, 28, 28]           64\n",
      "│    └─QuantReLU: 2-76                                                      [1, 32, 28, 28]           --\n",
      "│    │    └─ActQuantProxyFromInjector: 3-93                                 [1, 32, 28, 28]           --\n",
      "│    │    └─ActQuantProxyFromInjector: 3-94                                 [1, 32, 28, 28]           1\n",
      "├─ModuleList: 1-88                                                          --                        (recursive)\n",
      "│    └─QuantLinear: 2-138                                                   --                        (recursive)\n",
      "│    │    └─WeightQuantProxyFromInjector: 3-172                             --                        (recursive)\n",
      "├─ModuleList: 1-87                                                          --                        (recursive)\n",
      "│    └─QuantReLU: 2-80                                                      --                        (recursive)\n",
      "│    │    └─ActQuantProxyFromInjector: 3-98                                 --                        (recursive)\n",
      "├─ModuleList: 1-88                                                          --                        (recursive)\n",
      "│    └─QuantReLU: 2-139                                                     --                        (recursive)\n",
      "│    │    └─ActQuantProxyFromInjector: 3-173                                --                        (recursive)\n",
      "├─ModuleList: 1-87                                                          --                        (recursive)\n",
      "│    └─QuantReLU: 2-80                                                      --                        (recursive)\n",
      "│    │    └─ActQuantProxyFromInjector: 3-98                                 --                        (recursive)\n",
      "│    └─QuantConv2d: 2-81                                                    [1, 64, 28, 28]           --\n",
      "│    │    └─ActQuantProxyFromInjector: 3-99                                 [1, 32, 28, 28]           --\n",
      "│    │    └─WeightQuantProxyFromInjector: 3-100                             [64, 32, 3, 3]            18,432\n",
      "├─ModuleList: 1-88                                                          --                        (recursive)\n",
      "│    └─QuantLinear: 2-138                                                   --                        (recursive)\n",
      "│    │    └─WeightQuantProxyFromInjector: 3-172                             --                        (recursive)\n",
      "├─ModuleList: 1-87                                                          --                        (recursive)\n",
      "│    └─QuantConv2d: 2-83                                                    --                        (recursive)\n",
      "│    │    └─WeightQuantProxyFromInjector: 3-102                             --                        (recursive)\n",
      "│    │    └─ActQuantProxyFromInjector: 3-103                                [1, 64, 28, 28]           --\n",
      "│    └─BatchNorm2d: 2-84                                                    [1, 64, 28, 28]           128\n",
      "│    └─QuantReLU: 2-85                                                      [1, 64, 28, 28]           --\n",
      "│    │    └─ActQuantProxyFromInjector: 3-104                                [1, 64, 28, 28]           --\n",
      "│    │    └─ActQuantProxyFromInjector: 3-105                                [1, 64, 28, 28]           1\n",
      "├─ModuleList: 1-88                                                          --                        (recursive)\n",
      "│    └─QuantLinear: 2-138                                                   --                        (recursive)\n",
      "│    │    └─WeightQuantProxyFromInjector: 3-172                             --                        (recursive)\n",
      "├─ModuleList: 1-87                                                          --                        (recursive)\n",
      "│    └─QuantReLU: 2-89                                                      --                        (recursive)\n",
      "│    │    └─ActQuantProxyFromInjector: 3-109                                --                        (recursive)\n",
      "├─ModuleList: 1-88                                                          --                        (recursive)\n",
      "│    └─QuantReLU: 2-139                                                     --                        (recursive)\n",
      "│    │    └─ActQuantProxyFromInjector: 3-173                                --                        (recursive)\n",
      "├─ModuleList: 1-87                                                          --                        (recursive)\n",
      "│    └─QuantReLU: 2-89                                                      --                        (recursive)\n",
      "│    │    └─ActQuantProxyFromInjector: 3-109                                --                        (recursive)\n",
      "│    └─QuantConv2d: 2-90                                                    [1, 32, 28, 28]           --\n",
      "│    │    └─ActQuantProxyFromInjector: 3-110                                [1, 64, 28, 28]           --\n",
      "│    │    └─WeightQuantProxyFromInjector: 3-111                             [32, 64, 1, 1]            2,048\n",
      "├─ModuleList: 1-88                                                          --                        (recursive)\n",
      "│    └─QuantLinear: 2-138                                                   --                        (recursive)\n",
      "│    │    └─WeightQuantProxyFromInjector: 3-172                             --                        (recursive)\n",
      "├─ModuleList: 1-87                                                          --                        (recursive)\n",
      "│    └─QuantConv2d: 2-92                                                    --                        (recursive)\n",
      "│    │    └─WeightQuantProxyFromInjector: 3-113                             --                        (recursive)\n",
      "│    │    └─ActQuantProxyFromInjector: 3-114                                [1, 32, 28, 28]           --\n",
      "│    └─BatchNorm2d: 2-93                                                    [1, 32, 28, 28]           64\n",
      "│    └─QuantReLU: 2-94                                                      [1, 32, 28, 28]           --\n",
      "│    │    └─ActQuantProxyFromInjector: 3-115                                [1, 32, 28, 28]           --\n",
      "│    │    └─ActQuantProxyFromInjector: 3-116                                [1, 32, 28, 28]           1\n",
      "├─ModuleList: 1-88                                                          --                        (recursive)\n",
      "│    └─QuantLinear: 2-138                                                   --                        (recursive)\n",
      "│    │    └─WeightQuantProxyFromInjector: 3-172                             --                        (recursive)\n",
      "├─ModuleList: 1-87                                                          --                        (recursive)\n",
      "│    └─QuantReLU: 2-98                                                      --                        (recursive)\n",
      "│    │    └─ActQuantProxyFromInjector: 3-120                                --                        (recursive)\n",
      "├─ModuleList: 1-88                                                          --                        (recursive)\n",
      "│    └─QuantReLU: 2-139                                                     --                        (recursive)\n",
      "│    │    └─ActQuantProxyFromInjector: 3-173                                --                        (recursive)\n",
      "├─ModuleList: 1-87                                                          --                        (recursive)\n",
      "│    └─QuantReLU: 2-98                                                      --                        (recursive)\n",
      "│    │    └─ActQuantProxyFromInjector: 3-120                                --                        (recursive)\n",
      "│    └─QuantConv2d: 2-99                                                    [1, 48, 28, 28]           --\n",
      "│    │    └─ActQuantProxyFromInjector: 3-121                                [1, 32, 28, 28]           --\n",
      "│    │    └─WeightQuantProxyFromInjector: 3-122                             [48, 32, 3, 1]            4,608\n",
      "├─ModuleList: 1-88                                                          --                        (recursive)\n",
      "│    └─QuantLinear: 2-138                                                   --                        (recursive)\n",
      "│    │    └─WeightQuantProxyFromInjector: 3-172                             --                        (recursive)\n",
      "├─ModuleList: 1-87                                                          --                        (recursive)\n",
      "│    └─QuantConv2d: 2-101                                                   --                        (recursive)\n",
      "│    │    └─WeightQuantProxyFromInjector: 3-124                             --                        (recursive)\n",
      "│    │    └─ActQuantProxyFromInjector: 3-125                                [1, 48, 28, 28]           --\n",
      "│    └─QuantConv2d: 2-102                                                   [1, 64, 28, 28]           --\n",
      "│    │    └─ActQuantProxyFromInjector: 3-126                                [1, 48, 28, 28]           --\n",
      "│    │    └─WeightQuantProxyFromInjector: 3-127                             [64, 48, 1, 3]            9,216\n",
      "├─ModuleList: 1-88                                                          --                        (recursive)\n",
      "│    └─QuantLinear: 2-138                                                   --                        (recursive)\n",
      "│    │    └─WeightQuantProxyFromInjector: 3-172                             --                        (recursive)\n",
      "├─ModuleList: 1-87                                                          --                        (recursive)\n",
      "│    └─QuantConv2d: 2-104                                                   --                        (recursive)\n",
      "│    │    └─WeightQuantProxyFromInjector: 3-129                             --                        (recursive)\n",
      "│    │    └─ActQuantProxyFromInjector: 3-130                                [1, 64, 28, 28]           --\n",
      "│    └─BatchNorm2d: 2-105                                                   [1, 64, 28, 28]           128\n",
      "│    └─QuantReLU: 2-106                                                     [1, 64, 28, 28]           --\n",
      "│    │    └─ActQuantProxyFromInjector: 3-131                                [1, 64, 28, 28]           --\n",
      "│    │    └─ActQuantProxyFromInjector: 3-132                                [1, 64, 28, 28]           1\n",
      "├─ModuleList: 1-88                                                          --                        (recursive)\n",
      "│    └─QuantLinear: 2-138                                                   --                        (recursive)\n",
      "│    │    └─WeightQuantProxyFromInjector: 3-172                             --                        (recursive)\n",
      "├─ModuleList: 1-87                                                          --                        (recursive)\n",
      "│    └─QuantReLU: 2-110                                                     --                        (recursive)\n",
      "│    │    └─ActQuantProxyFromInjector: 3-136                                --                        (recursive)\n",
      "├─ModuleList: 1-88                                                          --                        (recursive)\n",
      "│    └─QuantReLU: 2-139                                                     --                        (recursive)\n",
      "│    │    └─ActQuantProxyFromInjector: 3-173                                --                        (recursive)\n",
      "├─ModuleList: 1-87                                                          --                        (recursive)\n",
      "│    └─QuantReLU: 2-110                                                     --                        (recursive)\n",
      "│    │    └─ActQuantProxyFromInjector: 3-136                                --                        (recursive)\n",
      "│    └─QuantConv2d: 2-111                                                   [1, 32, 28, 28]           --\n",
      "│    │    └─ActQuantProxyFromInjector: 3-137                                [1, 64, 28, 28]           --\n",
      "│    │    └─WeightQuantProxyFromInjector: 3-138                             [32, 64, 1, 1]            2,048\n",
      "├─ModuleList: 1-88                                                          --                        (recursive)\n",
      "│    └─QuantLinear: 2-138                                                   --                        (recursive)\n",
      "│    │    └─WeightQuantProxyFromInjector: 3-172                             --                        (recursive)\n",
      "├─ModuleList: 1-87                                                          --                        (recursive)\n",
      "│    └─QuantConv2d: 2-113                                                   --                        (recursive)\n",
      "│    │    └─WeightQuantProxyFromInjector: 3-140                             --                        (recursive)\n",
      "│    │    └─ActQuantProxyFromInjector: 3-141                                [1, 32, 28, 28]           --\n",
      "│    └─BatchNorm2d: 2-114                                                   [1, 32, 28, 28]           64\n",
      "│    └─QuantReLU: 2-115                                                     [1, 32, 28, 28]           --\n",
      "│    │    └─ActQuantProxyFromInjector: 3-142                                [1, 32, 28, 28]           --\n",
      "│    │    └─ActQuantProxyFromInjector: 3-143                                [1, 32, 28, 28]           1\n",
      "├─ModuleList: 1-88                                                          --                        (recursive)\n",
      "│    └─QuantLinear: 2-138                                                   --                        (recursive)\n",
      "│    │    └─WeightQuantProxyFromInjector: 3-172                             --                        (recursive)\n",
      "├─ModuleList: 1-87                                                          --                        (recursive)\n",
      "│    └─QuantReLU: 2-119                                                     --                        (recursive)\n",
      "│    │    └─ActQuantProxyFromInjector: 3-147                                --                        (recursive)\n",
      "├─ModuleList: 1-88                                                          --                        (recursive)\n",
      "│    └─QuantReLU: 2-139                                                     --                        (recursive)\n",
      "│    │    └─ActQuantProxyFromInjector: 3-173                                --                        (recursive)\n",
      "├─ModuleList: 1-87                                                          --                        (recursive)\n",
      "│    └─QuantReLU: 2-119                                                     --                        (recursive)\n",
      "│    │    └─ActQuantProxyFromInjector: 3-147                                --                        (recursive)\n",
      "│    └─QuantConv2d: 2-120                                                   [1, 16, 28, 28]           --\n",
      "│    │    └─ActQuantProxyFromInjector: 3-148                                [1, 32, 28, 28]           --\n",
      "│    │    └─WeightQuantProxyFromInjector: 3-149                             [16, 32, 3, 1]            1,536\n",
      "├─ModuleList: 1-88                                                          --                        (recursive)\n",
      "│    └─QuantLinear: 2-138                                                   --                        (recursive)\n",
      "│    │    └─WeightQuantProxyFromInjector: 3-172                             --                        (recursive)\n",
      "├─ModuleList: 1-87                                                          --                        (recursive)\n",
      "│    └─QuantConv2d: 2-122                                                   --                        (recursive)\n",
      "│    │    └─WeightQuantProxyFromInjector: 3-151                             --                        (recursive)\n",
      "│    │    └─ActQuantProxyFromInjector: 3-152                                [1, 16, 28, 28]           --\n",
      "│    └─QuantConv2d: 2-123                                                   [1, 64, 28, 28]           --\n",
      "│    │    └─ActQuantProxyFromInjector: 3-153                                [1, 16, 28, 28]           --\n",
      "│    │    └─WeightQuantProxyFromInjector: 3-154                             [64, 16, 1, 3]            3,072\n",
      "├─ModuleList: 1-88                                                          --                        (recursive)\n",
      "│    └─QuantLinear: 2-138                                                   --                        (recursive)\n",
      "│    │    └─WeightQuantProxyFromInjector: 3-172                             --                        (recursive)\n",
      "├─ModuleList: 1-87                                                          --                        (recursive)\n",
      "│    └─QuantConv2d: 2-125                                                   --                        (recursive)\n",
      "│    │    └─WeightQuantProxyFromInjector: 3-156                             --                        (recursive)\n",
      "│    │    └─ActQuantProxyFromInjector: 3-157                                [1, 64, 28, 28]           --\n",
      "│    └─BatchNorm2d: 2-126                                                   [1, 64, 28, 28]           128\n",
      "│    └─QuantReLU: 2-127                                                     [1, 64, 28, 28]           --\n",
      "│    │    └─ActQuantProxyFromInjector: 3-158                                [1, 64, 28, 28]           --\n",
      "│    │    └─ActQuantProxyFromInjector: 3-159                                [1, 64, 28, 28]           1\n",
      "├─ModuleList: 1-88                                                          --                        (recursive)\n",
      "│    └─QuantLinear: 2-138                                                   --                        (recursive)\n",
      "│    │    └─WeightQuantProxyFromInjector: 3-172                             --                        (recursive)\n",
      "├─ModuleList: 1-87                                                          --                        (recursive)\n",
      "│    └─QuantReLU: 2-131                                                     --                        (recursive)\n",
      "│    │    └─ActQuantProxyFromInjector: 3-163                                --                        (recursive)\n",
      "├─ModuleList: 1-88                                                          --                        (recursive)\n",
      "│    └─QuantReLU: 2-139                                                     --                        (recursive)\n",
      "│    │    └─ActQuantProxyFromInjector: 3-173                                --                        (recursive)\n",
      "├─ModuleList: 1-87                                                          --                        (recursive)\n",
      "│    └─QuantReLU: 2-131                                                     --                        (recursive)\n",
      "│    │    └─ActQuantProxyFromInjector: 3-163                                --                        (recursive)\n",
      "│    └─TruncAvgPool2d: 2-132                                                [1, 64, 1, 1]             --\n",
      "│    │    └─TruncQuantProxyFromInjector: 3-164                              [1, 64, 1, 1]             --\n",
      "├─ModuleList: 1-88                                                          --                        (recursive)\n",
      "│    └─QuantLinear: 2-133                                                   [1, 16]                   --\n",
      "│    │    └─ActQuantProxyFromInjector: 3-165                                [1, 64]                   --\n",
      "│    │    └─WeightQuantProxyFromInjector: 3-166                             [16, 64]                  1,024\n",
      "│    └─QuantLinear: 2-138                                                   --                        (recursive)\n",
      "│    │    └─WeightQuantProxyFromInjector: 3-172                             --                        (recursive)\n",
      "│    └─QuantLinear: 2-135                                                   --                        (recursive)\n",
      "│    │    └─WeightQuantProxyFromInjector: 3-168                             --                        (recursive)\n",
      "│    │    └─ActQuantProxyFromInjector: 3-169                                [1, 16]                   --\n",
      "│    └─BatchNorm1d: 2-136                                                   [1, 16]                   32\n",
      "│    └─QuantReLU: 2-137                                                     [1, 16]                   --\n",
      "│    │    └─ActQuantProxyFromInjector: 3-170                                [1, 16]                   --\n",
      "│    │    └─ActQuantProxyFromInjector: 3-171                                [1, 16]                   1\n",
      "│    └─QuantLinear: 2-138                                                   --                        (recursive)\n",
      "│    │    └─WeightQuantProxyFromInjector: 3-172                             --                        (recursive)\n",
      "│    └─QuantReLU: 2-139                                                     --                        (recursive)\n",
      "│    │    └─ActQuantProxyFromInjector: 3-173                                --                        (recursive)\n",
      "│    └─QuantLinear: 2-140                                                   [1, 2]                    --\n",
      "│    │    └─ActQuantProxyFromInjector: 3-174                                [1, 16]                   --\n",
      "│    │    └─WeightQuantProxyFromInjector: 3-175                             [2, 16]                   32\n",
      "│    │    └─ActQuantProxyFromInjector: 3-176                                [1, 2]                    --\n",
      "│    └─TensorNorm: 2-141                                                    [1, 2]                    2\n",
      "=============================================================================================================================\n",
      "Total params: 59,464\n",
      "Trainable params: 59,464\n",
      "Non-trainable params: 0\n",
      "Total mult-adds (M): 0.00\n",
      "=============================================================================================================================\n",
      "Input size (MB): 0.60\n",
      "Forward/backward pass size (MB): 16.66\n",
      "Params size (MB): 0.00\n",
      "Estimated Total Size (MB): 17.26\n",
      "=============================================================================================================================\n"
     ]
    }
   ],
   "source": [
    "print(summary(model, input_size=(1, 3, 224, 224)))"
   ]
  },
  {
   "cell_type": "markdown",
   "id": "61d74ed9-984a-4f66-8121-d1152fecad98",
   "metadata": {},
   "source": [
    "# Load Weights"
   ]
  },
  {
   "cell_type": "code",
   "execution_count": 5,
   "id": "bedb05f2-65fd-475d-bce5-c55098ff22c8",
   "metadata": {},
   "outputs": [],
   "source": [
    "# weights_folder = './experiments/test_v04__imagenetQuant__w2a4_PerChannel_FixedPoint/weights'\n",
    "# model_ckpnt = weights_folder + '/BED_classifier__best_mean_F1.pt'\n",
    "\n",
    "weights_folder = './experiments/test_v10__AIMET/weights'\n",
    "model_ckpnt = weights_folder + '/BED_classifier__best_mean_F1.pt'"
   ]
  },
  {
   "cell_type": "code",
   "execution_count": 6,
   "id": "6efb3c84-4076-4694-8505-2c3c0ee9aa1e",
   "metadata": {},
   "outputs": [
    {
     "name": "stdout",
     "output_type": "stream",
     "text": [
      "Loading Model. Trained during 58 epochs\n"
     ]
    },
    {
     "data": {
      "text/plain": [
       "58"
      ]
     },
     "execution_count": 6,
     "metadata": {},
     "output_type": "execute_result"
    }
   ],
   "source": [
    "utils.load_checkpoint(\n",
    "    model_path = model_ckpnt, \n",
    "    model = model,\n",
    "    device = 'cuda'\n",
    ")"
   ]
  },
  {
   "cell_type": "code",
   "execution_count": 7,
   "id": "ec3e5df0-823a-4de8-a843-785b3c52871e",
   "metadata": {},
   "outputs": [],
   "source": [
    "model.to('cpu')\n",
    "model.eval();"
   ]
  },
  {
   "cell_type": "markdown",
   "id": "6e5e0386-520e-4452-a4bd-217a39e3478f",
   "metadata": {},
   "source": [
    "# Test with DFire MINI Dataset: Train and Test"
   ]
  },
  {
   "cell_type": "code",
   "execution_count": 8,
   "id": "ab9c8bf2-dce8-4ac5-82a9-abbd30a20b08",
   "metadata": {},
   "outputs": [],
   "source": [
    "# import importlib\n",
    "# importlib.reload(config)\n",
    "# importlib.reload(dataloaders)"
   ]
  },
  {
   "cell_type": "code",
   "execution_count": 9,
   "id": "1c7cc77c-6bdf-4d83-9358-61038a8b23bb",
   "metadata": {},
   "outputs": [
    {
     "name": "stdout",
     "output_type": "stream",
     "text": [
      "\n",
      "====================\n",
      "TEST DFire MINI dataset\n",
      "DFire Removed wrong images: 0\n",
      "DFire empty images: 6\n",
      "DFire only smoke images: 13\n",
      "DFire only fire images: 2\n",
      "DFire smoke and fire images: 9\n",
      "\n",
      "Test dataset len: 30\n"
     ]
    }
   ],
   "source": [
    "# train_dfire_mini_loader = dataloaders.get_dfire_mini_train_loader()\n",
    "test_dfire_mini_loader = dataloaders.get_dfire_mini_test_loader()"
   ]
  },
  {
   "cell_type": "markdown",
   "id": "17c77cd9-05ef-4771-8707-82ba5f16ef0c",
   "metadata": {},
   "source": [
    "### Test DFire MINI"
   ]
  },
  {
   "cell_type": "code",
   "execution_count": 10,
   "id": "2c237df0-9726-42e9-8ebe-d738948fb047",
   "metadata": {},
   "outputs": [
    {
     "name": "stderr",
     "output_type": "stream",
     "text": [
      "Validating:   7%|█████████▍                                                                                                                                   | 2/30 [00:00<00:01, 17.68it/s]"
     ]
    },
    {
     "name": "stdout",
     "output_type": "stream",
     "text": [
      "Label tensor([[0., 0.]]) - Pred tensor([[-3.1803, -4.3637]])\n",
      "Label tensor([[0., 0.]]) - Pred tensor([[-0.7817, -5.7509]])\n",
      "Label tensor([[0., 1.]]) - Pred tensor([[-1.7971,  2.9322]])\n",
      "Label tensor([[0., 1.]]) - Pred tensor([[-1.5452,  3.2201]])\n"
     ]
    },
    {
     "name": "stderr",
     "output_type": "stream",
     "text": [
      "Validating:  20%|████████████████████████████▏                                                                                                                | 6/30 [00:00<00:00, 27.90it/s]"
     ]
    },
    {
     "name": "stdout",
     "output_type": "stream",
     "text": [
      "Label tensor([[1., 0.]]) - Pred tensor([[ 2.8723, -7.1181]])\n",
      "Label tensor([[1., 0.]]) - Pred tensor([[-0.8217, -6.6384]])\n",
      "Label tensor([[1., 0.]]) - Pred tensor([[ 1.8528, -5.5110]])\n"
     ]
    },
    {
     "name": "stderr",
     "output_type": "stream",
     "text": [
      "Validating:  33%|██████████████████████████████████████████████▋                                                                                             | 10/30 [00:00<00:00, 30.95it/s]"
     ]
    },
    {
     "name": "stdout",
     "output_type": "stream",
     "text": [
      "Label tensor([[1., 0.]]) - Pred tensor([[ 4.1396, -6.3785]])\n",
      "Label tensor([[1., 0.]]) - Pred tensor([[ 4.6673, -6.0347]])\n",
      "Label tensor([[1., 0.]]) - Pred tensor([[ 3.7278, -4.8594]])\n",
      "Label tensor([[1., 0.]]) - Pred tensor([[ 0.6015, -2.3768]])\n"
     ]
    },
    {
     "name": "stderr",
     "output_type": "stream",
     "text": [
      "Validating:  47%|█████████████████████████████████████████████████████████████████▎                                                                          | 14/30 [00:00<00:00, 32.46it/s]"
     ]
    },
    {
     "name": "stdout",
     "output_type": "stream",
     "text": [
      "Label tensor([[1., 0.]]) - Pred tensor([[ 0.6935, -6.3945]])\n",
      "Label tensor([[0., 0.]]) - Pred tensor([[-2.8605, -4.8714]])\n",
      "Label tensor([[0., 0.]]) - Pred tensor([[-0.8376, -0.0861]])\n"
     ]
    },
    {
     "name": "stderr",
     "output_type": "stream",
     "text": [
      "Validating:  60%|████████████████████████████████████████████████████████████████████████████████████                                                        | 18/30 [00:00<00:00, 33.40it/s]"
     ]
    },
    {
     "name": "stdout",
     "output_type": "stream",
     "text": [
      "Label tensor([[0., 0.]]) - Pred tensor([[-2.5047, -5.4950]])\n",
      "Label tensor([[0., 0.]]) - Pred tensor([[-4.1038, -3.2763]])\n",
      "Label tensor([[1., 1.]]) - Pred tensor([[6.0065, 4.7072]])\n",
      "Label tensor([[1., 1.]]) - Pred tensor([[3.0042, 3.2481]])\n",
      "Label tensor([[1., 1.]]) - Pred tensor([[2.8363, 4.5713]])\n",
      "Label tensor([[1., 1.]]) - Pred tensor([[2.3805, 3.5959]])\n",
      "Label tensor([[1., 1.]]) - Pred tensor([[7.0899, 4.8751]])\n"
     ]
    },
    {
     "name": "stderr",
     "output_type": "stream",
     "text": [
      "Validating:  87%|█████████████████████████████████████████████████████████████████████████████████████████████████████████████████████████▎                  | 26/30 [00:00<00:00, 34.27it/s]"
     ]
    },
    {
     "name": "stdout",
     "output_type": "stream",
     "text": [
      "Label tensor([[1., 1.]]) - Pred tensor([[4.1436, 4.8831]])\n",
      "Label tensor([[1., 1.]]) - Pred tensor([[6.8820, 6.7381]])\n",
      "Label tensor([[1., 1.]]) - Pred tensor([[3.1561, 4.3355]])\n",
      "Label tensor([[1., 0.]]) - Pred tensor([[ 2.2886, -6.5025]])\n",
      "Label tensor([[1., 0.]]) - Pred tensor([[ 3.5879, -0.7537]])\n",
      "Label tensor([[1., 0.]]) - Pred tensor([[ 3.4160, -3.1603]])\n",
      "Label tensor([[1., 0.]]) - Pred tensor([[ 4.5553, -5.4790]])\n"
     ]
    },
    {
     "name": "stderr",
     "output_type": "stream",
     "text": [
      "Validating: 100%|████████████████████████████████████████████████████████████████████████████████████████████████████████████████████████████████████████████| 30/30 [00:00<00:00, 32.01it/s]"
     ]
    },
    {
     "name": "stdout",
     "output_type": "stream",
     "text": [
      "Label tensor([[1., 1.]]) - Pred tensor([[3.6318, 2.3326]])\n",
      "Label tensor([[1., 0.]]) - Pred tensor([[-0.6298, -2.1249]])\n",
      "SMOKE -> Precision: 1.0000 - Recall: 0.9091 - Accuracy: 0.9333 - F1: 0.9524\n",
      "FIRE -> Precision: 1.0000 - Recall: 1.0000 - Accuracy: 1.0000 - F1: 1.0000\n"
     ]
    },
    {
     "name": "stderr",
     "output_type": "stream",
     "text": [
      "\n"
     ]
    }
   ],
   "source": [
    "with torch.no_grad():\n",
    "    val_metrics = val_final_model.eval_fn(\n",
    "        loader=test_dfire_mini_loader, \n",
    "        model=model,                         \n",
    "        device='cpu')"
   ]
  },
  {
   "cell_type": "code",
   "execution_count": 11,
   "id": "06fdf6f8-b716-4ee3-a29a-ea9972387cd8",
   "metadata": {},
   "outputs": [
    {
     "name": "stdout",
     "output_type": "stream",
     "text": [
      "\n",
      "Testing with DFire MINI TEST after LOADING F1 Best Mean CHECKPOINT\n",
      "{'Accuracy': [0.9333333373069763, 1.0], 'Precision': [1.0, 1.0], 'Recall': [0.9090909361839294, 1.0], 'F1': [0.9523809552192688, 1.0]}\n"
     ]
    }
   ],
   "source": [
    "print('\\nTesting with DFire MINI TEST after LOADING F1 Best Mean CHECKPOINT')  \n",
    "print(val_metrics)"
   ]
  },
  {
   "cell_type": "markdown",
   "id": "32e7e65c-f132-4cd2-bf11-8bc040f8c71d",
   "metadata": {},
   "source": [
    "# Convert the Model to BIPOLAR OUT"
   ]
  },
  {
   "cell_type": "code",
   "execution_count": 12,
   "id": "f15e359d-ec85-483b-96e3-d265ce7ec4db",
   "metadata": {},
   "outputs": [],
   "source": [
    "import brevitas.nn as qnn\n",
    "import torch.nn as nn"
   ]
  },
  {
   "cell_type": "code",
   "execution_count": 13,
   "id": "473783b9-254b-40ff-b67f-a4818f531e29",
   "metadata": {},
   "outputs": [],
   "source": [
    "class CNV_BIPOLAR_OUT(nn.Module):\n",
    "    def __init__(self, base_model):\n",
    "        super(CNV_BIPOLAR_OUT, self).__init__()\n",
    "        self.base_model = base_model\n",
    "        self.qnt_output = qnn.QuantIdentity(\n",
    "            quant_type='binary', \n",
    "            scaling_impl_type='const',\n",
    "            bit_width=1, min_val=-1.0, max_val=1.0)\n",
    "\n",
    "    def forward(self, x):\n",
    "        x = self.base_model(x)\n",
    "        x = self.qnt_output(x)\n",
    "        return x"
   ]
  },
  {
   "cell_type": "code",
   "execution_count": 14,
   "id": "c2314ef9-10ab-42ad-b61c-122ae49cf5ce",
   "metadata": {},
   "outputs": [],
   "source": [
    "cnv_bipolar_out = CNV_BIPOLAR_OUT(model).to('cpu')"
   ]
  },
  {
   "cell_type": "markdown",
   "id": "493f850e-5904-45b9-b9cc-08e4a06edaa3",
   "metadata": {},
   "source": [
    "### New Evaluation for BIPOLAR Out Model"
   ]
  },
  {
   "cell_type": "code",
   "execution_count": 15,
   "id": "cffbe14b-9375-4ed0-8355-546e5ed7d3fa",
   "metadata": {},
   "outputs": [],
   "source": [
    "from tqdm import tqdm\n",
    "\n",
    "def eval_bipolar_fn(loader, model, device):\n",
    "    \n",
    "    model.eval()\n",
    "    loop = tqdm(loader, desc='Validating', leave=True)\n",
    "\n",
    "    for batch_idx, (x, y) in enumerate(loop):\n",
    "        x, y = x.to(device), y.to(device)\n",
    "        yhat = model(x)\n",
    "\n",
    "        # print(y.shape)\n",
    "        # print(yhat.shape)\n",
    "        \n",
    "        #yhat[yhat < 1] = 0\n",
    "        #yhat = torch.sigmoid(yhat.detach())\n",
    "        # print(f'Label {y} - Pred {yhat}')\n",
    "        metrics.precision_metric_cpu.update(yhat, y)\n",
    "        metrics.recall_metric_cpu.update(yhat, y)\n",
    "        metrics.accuracy_metric_cpu.update(yhat, y)\n",
    "        metrics.f1_metric_cpu.update(yhat, y)\n",
    "    \n",
    "    precision = metrics.precision_metric_cpu.compute()\n",
    "    recall = metrics.recall_metric_cpu.compute()\n",
    "    accuracy = metrics.accuracy_metric_cpu.compute()\n",
    "    f1 = metrics.f1_metric_cpu.compute()\n",
    "    \n",
    "    metrics.precision_metric_cpu.reset()\n",
    "    metrics.recall_metric_cpu.reset()\n",
    "    metrics.accuracy_metric_cpu.reset()\n",
    "    metrics.f1_metric_cpu.reset()\n",
    "\n",
    "    print(f'SMOKE -> Precision: {precision[0]:.4f} - Recall: {recall[0]:.4f} - Accuracy: {accuracy[0]:.4f} - F1: {f1[0]:.4f}')\n",
    "    print(f'FIRE -> Precision: {precision[1]:.4f} - Recall: {recall[1]:.4f} - Accuracy: {accuracy[1]:.4f} - F1: {f1[1]:.4f}')\n",
    "    \n",
    "    return (\n",
    "        {\n",
    "        'Accuracy': [accuracy[0].item(), accuracy[1].item()],\n",
    "        'Precision': [precision[0].item(), precision[1].item()],\n",
    "        'Recall': [recall[0].item(), recall[1].item()],\n",
    "        'F1': [f1[0].item(), f1[1].item()] \n",
    "        }\n",
    "    )"
   ]
  },
  {
   "cell_type": "markdown",
   "id": "23ebed5c-63bc-452f-9921-8cd95819464b",
   "metadata": {},
   "source": [
    "### Mini Test"
   ]
  },
  {
   "cell_type": "code",
   "execution_count": 16,
   "id": "c382be4b-69ad-4942-83bc-6c8bfb99564e",
   "metadata": {},
   "outputs": [
    {
     "name": "stderr",
     "output_type": "stream",
     "text": [
      "Validating: 100%|████████████████████████████████████████████████████████████████████████████████████████████████████████████████████████████████████████████| 30/30 [00:00<00:00, 30.97it/s]"
     ]
    },
    {
     "name": "stdout",
     "output_type": "stream",
     "text": [
      "SMOKE -> Precision: 1.0000 - Recall: 0.9091 - Accuracy: 0.9333 - F1: 0.9524\n",
      "FIRE -> Precision: 1.0000 - Recall: 1.0000 - Accuracy: 1.0000 - F1: 1.0000\n"
     ]
    },
    {
     "name": "stderr",
     "output_type": "stream",
     "text": [
      "\n"
     ]
    }
   ],
   "source": [
    "with torch.no_grad():\n",
    "    val_metrics = eval_bipolar_fn(\n",
    "        loader=test_dfire_mini_loader, \n",
    "        model=cnv_bipolar_out,                         \n",
    "        device='cpu')"
   ]
  },
  {
   "cell_type": "markdown",
   "id": "13f30466-81f7-49a0-a34a-01a156df9a55",
   "metadata": {},
   "source": [
    "# Export Bipolar to QONNX"
   ]
  },
  {
   "cell_type": "code",
   "execution_count": 17,
   "id": "b2339e69-a84e-4562-829d-3c5031213f92",
   "metadata": {},
   "outputs": [],
   "source": [
    "onnx_no_bipolar_filename = 'Best_F1_AIMET__NO_Bipolar.onnx'\n",
    "export_qonnx(cnv_bipolar_out, torch.randn(1, 3, 224, 224), onnx_no_bipolar_filename);"
   ]
  },
  {
   "cell_type": "code",
   "execution_count": 18,
   "id": "fbde75e8-45af-49e5-b8a5-2e1fff6be869",
   "metadata": {},
   "outputs": [],
   "source": [
    "onnx_bipolar_filename = 'Best_F1_AIMET__Bipolar.onnx'\n",
    "export_qonnx(cnv_bipolar_out, torch.randn(1, 3, 224, 224), onnx_bipolar_filename);"
   ]
  },
  {
   "cell_type": "markdown",
   "id": "799cdf83-c8c8-4011-b052-5ce9c3dd0d6c",
   "metadata": {},
   "source": [
    "# Evaluate QONNX Model\n",
    "\n",
    "QONNX exec does not work. FINN exec must be used"
   ]
  },
  {
   "cell_type": "code",
   "execution_count": 19,
   "id": "70f79499-c593-43a8-b383-dcc81fc8fcdc",
   "metadata": {},
   "outputs": [],
   "source": [
    "from qonnx.util.cleanup import cleanup as qonnx_cleanup\n",
    "from qonnx.core.modelwrapper import ModelWrapper\n",
    "import qonnx.core.onnx_exec as qonnx_exec\n",
    "# from qonnx.transformation.infer_shapes import InferShapes\n",
    "# from qonnx.transformation.fold_constants import FoldConstants\n",
    "# from qonnx.transformation.general import GiveReadableTensorNames, GiveUniqueNodeNames, RemoveStaticGraphInputs"
   ]
  },
  {
   "cell_type": "markdown",
   "id": "c7f11b34-452f-4eff-9e1f-671597c091a2",
   "metadata": {},
   "source": [
    "### Clean before evaluation"
   ]
  },
  {
   "cell_type": "code",
   "execution_count": 20,
   "id": "e554a9b6-c376-40db-95b3-5195e791eebd",
   "metadata": {},
   "outputs": [],
   "source": [
    "clean_no_bipolar_onnx_filename = 'Best_F1_AIMET__NO_Bipolar__CLEAN.onnx'\n",
    "qonnx_cleanup(onnx_no_bipolar_filename, out_file=clean_no_bipolar_onnx_filename)\n",
    "\n",
    "clean_bipolar_onnx_filename = 'Best_F1_AIMET__Bipolar__CLEAN.onnx'\n",
    "qonnx_cleanup(onnx_bipolar_filename, out_file=clean_bipolar_onnx_filename)"
   ]
  },
  {
   "cell_type": "code",
   "execution_count": 21,
   "id": "a4accbd9-9b2d-4026-a825-ea687e12d858",
   "metadata": {},
   "outputs": [],
   "source": [
    "def eval_qonnx(loader, model_filename):\n",
    "    \n",
    "    model_wrapped = ModelWrapper(model_filename)\n",
    "    # model_wrapped = model_wrapped.transform(InferShapes())\n",
    "    # model_wrapped = model_wrapped.transform(FoldConstants())\n",
    "    # model_wrapped = model_wrapped.transform(GiveUniqueNodeNames())\n",
    "    # model_wrapped = model_wrapped.transform(GiveReadableTensorNames())\n",
    "    # model_wrapped = model_wrapped.transform(RemoveStaticGraphInputs())\n",
    "    \n",
    "    loop = tqdm(loader, desc='Validating', leave=True)\n",
    "\n",
    "    for batch_idx, (x, y) in enumerate(loop):\n",
    "        x, y = x.to('cpu'), y.to('cpu')\n",
    "        img = x.detach().numpy()\n",
    "        inp_dict = {\"onnx::Mul_0\": img}\n",
    "        yhat = qonnx_exec.execute_onnx(model_wrapped, inp_dict)\n",
    "        # print(y.shape)\n",
    "        # print(yhat.shape)\n",
    "\n",
    "        yhat = torch.tensor(yhat[\"global_out\"], dtype=torch.float32)\n",
    "        # print(f'Label {y} - Pred {yhat}')\n",
    "\n",
    "        # yhat[yhat < 1] = 0\n",
    "        yhat = torch.sigmoid(yhat.detach())\n",
    "\n",
    "        print(f'Label {y} - Pred {yhat}')\n",
    "        metrics.precision_metric_cpu.update(yhat, y)\n",
    "        metrics.recall_metric_cpu.update(yhat, y)\n",
    "        metrics.accuracy_metric_cpu.update(yhat, y)\n",
    "        metrics.f1_metric_cpu.update(yhat, y)\n",
    "    \n",
    "    precision = metrics.precision_metric_cpu.compute()\n",
    "    recall = metrics.recall_metric_cpu.compute()\n",
    "    accuracy = metrics.accuracy_metric_cpu.compute()\n",
    "    f1 = metrics.f1_metric_cpu.compute()\n",
    "    \n",
    "    metrics.precision_metric_cpu.reset()\n",
    "    metrics.recall_metric_cpu.reset()\n",
    "    metrics.accuracy_metric_cpu.reset()\n",
    "    metrics.f1_metric_cpu.reset()\n",
    "\n",
    "    print(f'SMOKE -> Precision: {precision[0]:.4f} - Recall: {recall[0]:.4f} - Accuracy: {accuracy[0]:.4f} - F1: {f1[0]:.4f}')\n",
    "    print(f'FIRE -> Precision: {precision[1]:.4f} - Recall: {recall[1]:.4f} - Accuracy: {accuracy[1]:.4f} - F1: {f1[1]:.4f}')\n",
    "    \n",
    "    return (\n",
    "        {\n",
    "        'Accuracy': [accuracy[0].item(), accuracy[1].item()],\n",
    "        'Precision': [precision[0].item(), precision[1].item()],\n",
    "        'Recall': [recall[0].item(), recall[1].item()],\n",
    "        'F1': [f1[0].item(), f1[1].item()] \n",
    "        }\n",
    "    )"
   ]
  },
  {
   "cell_type": "code",
   "execution_count": 22,
   "id": "0c5f6282-4b69-4553-82a1-a6214bb5a243",
   "metadata": {},
   "outputs": [
    {
     "name": "stderr",
     "output_type": "stream",
     "text": [
      "Validating:   7%|█████████▍                                                                                                                                   | 2/30 [00:00<00:03,  8.24it/s]"
     ]
    },
    {
     "name": "stdout",
     "output_type": "stream",
     "text": [
      "Label tensor([[0., 0.]]) - Pred tensor([[0.2689, 0.2689]])\n",
      "Label tensor([[0., 0.]]) - Pred tensor([[0.2689, 0.2689]])\n"
     ]
    },
    {
     "name": "stderr",
     "output_type": "stream",
     "text": [
      "Validating:  13%|██████████████████▊                                                                                                                          | 4/30 [00:00<00:02,  9.26it/s]"
     ]
    },
    {
     "name": "stdout",
     "output_type": "stream",
     "text": [
      "Label tensor([[0., 1.]]) - Pred tensor([[0.2689, 0.2689]])\n",
      "Label tensor([[0., 1.]]) - Pred tensor([[0.2689, 0.2689]])\n",
      "Label tensor([[1., 0.]]) - Pred tensor([[0.2689, 0.2689]])\n"
     ]
    },
    {
     "name": "stderr",
     "output_type": "stream",
     "text": [
      "Validating:  23%|████████████████████████████████▉                                                                                                            | 7/30 [00:00<00:02,  9.43it/s]"
     ]
    },
    {
     "name": "stdout",
     "output_type": "stream",
     "text": [
      "Label tensor([[1., 0.]]) - Pred tensor([[0.2689, 0.2689]])\n",
      "Label tensor([[1., 0.]]) - Pred tensor([[0.2689, 0.2689]])\n"
     ]
    },
    {
     "name": "stderr",
     "output_type": "stream",
     "text": [
      "Validating:  33%|██████████████████████████████████████████████▋                                                                                             | 10/30 [00:01<00:02,  9.79it/s]"
     ]
    },
    {
     "name": "stdout",
     "output_type": "stream",
     "text": [
      "Label tensor([[1., 0.]]) - Pred tensor([[0.2689, 0.2689]])\n",
      "Label tensor([[1., 0.]]) - Pred tensor([[0.2689, 0.2689]])\n",
      "Label tensor([[1., 0.]]) - Pred tensor([[0.2689, 0.2689]])\n"
     ]
    },
    {
     "name": "stderr",
     "output_type": "stream",
     "text": [
      "Validating:  40%|████████████████████████████████████████████████████████                                                                                    | 12/30 [00:01<00:01, 10.03it/s]"
     ]
    },
    {
     "name": "stdout",
     "output_type": "stream",
     "text": [
      "Label tensor([[1., 0.]]) - Pred tensor([[0.2689, 0.2689]])\n",
      "Label tensor([[1., 0.]]) - Pred tensor([[0.2689, 0.2689]])\n",
      "Label tensor([[0., 0.]]) - Pred tensor([[0.2689, 0.2689]])\n"
     ]
    },
    {
     "name": "stderr",
     "output_type": "stream",
     "text": [
      "Validating:  47%|█████████████████████████████████████████████████████████████████▎                                                                          | 14/30 [00:01<00:01, 10.04it/s]"
     ]
    },
    {
     "name": "stdout",
     "output_type": "stream",
     "text": [
      "Label tensor([[0., 0.]]) - Pred tensor([[0.2689, 0.2689]])\n",
      "Label tensor([[0., 0.]]) - Pred tensor([[0.2689, 0.2689]])\n"
     ]
    },
    {
     "name": "stderr",
     "output_type": "stream",
     "text": [
      "Validating:  57%|███████████████████████████████████████████████████████████████████████████████▎                                                            | 17/30 [00:01<00:01,  7.68it/s]"
     ]
    },
    {
     "name": "stdout",
     "output_type": "stream",
     "text": [
      "Label tensor([[0., 0.]]) - Pred tensor([[0.2689, 0.2689]])\n",
      "Label tensor([[1., 1.]]) - Pred tensor([[0.2689, 0.2689]])\n"
     ]
    },
    {
     "name": "stderr",
     "output_type": "stream",
     "text": [
      "Validating:  63%|████████████████████████████████████████████████████████████████████████████████████████▋                                                   | 19/30 [00:02<00:01,  8.37it/s]"
     ]
    },
    {
     "name": "stdout",
     "output_type": "stream",
     "text": [
      "Label tensor([[1., 1.]]) - Pred tensor([[0.2689, 0.2689]])\n",
      "Label tensor([[1., 1.]]) - Pred tensor([[0.2689, 0.2689]])\n",
      "Label tensor([[1., 1.]]) - Pred tensor([[0.2689, 0.2689]])\n"
     ]
    },
    {
     "name": "stderr",
     "output_type": "stream",
     "text": [
      "Validating:  70%|██████████████████████████████████████████████████████████████████████████████████████████████████                                          | 21/30 [00:02<00:01,  8.92it/s]"
     ]
    },
    {
     "name": "stdout",
     "output_type": "stream",
     "text": [
      "Label tensor([[1., 1.]]) - Pred tensor([[0.2689, 0.2689]])\n",
      "Label tensor([[1., 1.]]) - Pred tensor([[0.2689, 0.2689]])\n"
     ]
    },
    {
     "name": "stderr",
     "output_type": "stream",
     "text": [
      "Validating:  77%|███████████████████████████████████████████████████████████████████████████████████████████████████████████▎                                | 23/30 [00:02<00:00,  9.17it/s]"
     ]
    },
    {
     "name": "stdout",
     "output_type": "stream",
     "text": [
      "Label tensor([[1., 1.]]) - Pred tensor([[0.2689, 0.2689]])\n",
      "Label tensor([[1., 1.]]) - Pred tensor([[0.2689, 0.2689]])\n"
     ]
    },
    {
     "name": "stderr",
     "output_type": "stream",
     "text": [
      "Validating:  87%|█████████████████████████████████████████████████████████████████████████████████████████████████████████████████████████▎                  | 26/30 [00:02<00:00,  9.38it/s]"
     ]
    },
    {
     "name": "stdout",
     "output_type": "stream",
     "text": [
      "Label tensor([[1., 0.]]) - Pred tensor([[0.2689, 0.2689]])\n",
      "Label tensor([[1., 0.]]) - Pred tensor([[0.2689, 0.2689]])\n"
     ]
    },
    {
     "name": "stderr",
     "output_type": "stream",
     "text": [
      "Validating:  93%|██████████████████████████████████████████████████████████████████████████████████████████████████████████████████████████████████▋         | 28/30 [00:03<00:00,  9.47it/s]"
     ]
    },
    {
     "name": "stdout",
     "output_type": "stream",
     "text": [
      "Label tensor([[1., 0.]]) - Pred tensor([[0.2689, 0.2689]])\n",
      "Label tensor([[1., 0.]]) - Pred tensor([[0.2689, 0.2689]])\n"
     ]
    },
    {
     "name": "stderr",
     "output_type": "stream",
     "text": [
      "Validating: 100%|████████████████████████████████████████████████████████████████████████████████████████████████████████████████████████████████████████████| 30/30 [00:03<00:00,  9.08it/s]"
     ]
    },
    {
     "name": "stdout",
     "output_type": "stream",
     "text": [
      "Label tensor([[1., 1.]]) - Pred tensor([[0.2689, 0.2689]])\n",
      "Label tensor([[1., 0.]]) - Pred tensor([[0.2689, 0.2689]])\n",
      "SMOKE -> Precision: 0.0000 - Recall: 0.0000 - Accuracy: 0.2667 - F1: 0.0000\n",
      "FIRE -> Precision: 0.0000 - Recall: 0.0000 - Accuracy: 0.6333 - F1: 0.0000\n"
     ]
    },
    {
     "name": "stderr",
     "output_type": "stream",
     "text": [
      "\n"
     ]
    }
   ],
   "source": [
    "val_metrics = eval_qonnx(\n",
    "    loader=test_dfire_mini_loader, \n",
    "    model_filename=clean_no_bipolar_onnx_filename)"
   ]
  },
  {
   "cell_type": "code",
   "execution_count": 23,
   "id": "8b085b71-e9db-4792-98d0-48b4056bd95d",
   "metadata": {},
   "outputs": [
    {
     "name": "stderr",
     "output_type": "stream",
     "text": [
      "Validating:   7%|█████████▍                                                                                                                                   | 2/30 [00:00<00:03,  7.76it/s]"
     ]
    },
    {
     "name": "stdout",
     "output_type": "stream",
     "text": [
      "Label tensor([[0., 0.]]) - Pred tensor([[0.2689, 0.2689]])\n",
      "Label tensor([[0., 0.]]) - Pred tensor([[0.2689, 0.2689]])\n"
     ]
    },
    {
     "name": "stderr",
     "output_type": "stream",
     "text": [
      "Validating:  13%|██████████████████▊                                                                                                                          | 4/30 [00:00<00:02,  8.98it/s]"
     ]
    },
    {
     "name": "stdout",
     "output_type": "stream",
     "text": [
      "Label tensor([[0., 1.]]) - Pred tensor([[0.2689, 0.2689]])\n",
      "Label tensor([[0., 1.]]) - Pred tensor([[0.2689, 0.2689]])\n"
     ]
    },
    {
     "name": "stderr",
     "output_type": "stream",
     "text": [
      "Validating:  20%|████████████████████████████▏                                                                                                                | 6/30 [00:00<00:03,  7.48it/s]"
     ]
    },
    {
     "name": "stdout",
     "output_type": "stream",
     "text": [
      "Label tensor([[1., 0.]]) - Pred tensor([[0.2689, 0.2689]])\n",
      "Label tensor([[1., 0.]]) - Pred tensor([[0.2689, 0.2689]])\n"
     ]
    },
    {
     "name": "stderr",
     "output_type": "stream",
     "text": [
      "Validating:  27%|█████████████████████████████████████▌                                                                                                       | 8/30 [00:01<00:02,  7.71it/s]"
     ]
    },
    {
     "name": "stdout",
     "output_type": "stream",
     "text": [
      "Label tensor([[1., 0.]]) - Pred tensor([[0.2689, 0.2689]])\n",
      "Label tensor([[1., 0.]]) - Pred tensor([[0.2689, 0.2689]])\n"
     ]
    },
    {
     "name": "stderr",
     "output_type": "stream",
     "text": [
      "Validating:  33%|██████████████████████████████████████████████▋                                                                                             | 10/30 [00:01<00:02,  8.58it/s]"
     ]
    },
    {
     "name": "stdout",
     "output_type": "stream",
     "text": [
      "Label tensor([[1., 0.]]) - Pred tensor([[0.2689, 0.2689]])\n",
      "Label tensor([[1., 0.]]) - Pred tensor([[0.2689, 0.2689]])\n"
     ]
    },
    {
     "name": "stderr",
     "output_type": "stream",
     "text": [
      "Validating:  40%|████████████████████████████████████████████████████████                                                                                    | 12/30 [00:01<00:02,  8.74it/s]"
     ]
    },
    {
     "name": "stdout",
     "output_type": "stream",
     "text": [
      "Label tensor([[1., 0.]]) - Pred tensor([[0.2689, 0.2689]])\n",
      "Label tensor([[1., 0.]]) - Pred tensor([[0.2689, 0.2689]])\n"
     ]
    },
    {
     "name": "stderr",
     "output_type": "stream",
     "text": [
      "Validating:  47%|█████████████████████████████████████████████████████████████████▎                                                                          | 14/30 [00:01<00:01,  9.10it/s]"
     ]
    },
    {
     "name": "stdout",
     "output_type": "stream",
     "text": [
      "Label tensor([[0., 0.]]) - Pred tensor([[0.2689, 0.2689]])\n",
      "Label tensor([[0., 0.]]) - Pred tensor([[0.2689, 0.2689]])\n"
     ]
    },
    {
     "name": "stderr",
     "output_type": "stream",
     "text": [
      "Validating:  53%|██████████████████████████████████████████████████████████████████████████▋                                                                 | 16/30 [00:01<00:01,  9.35it/s]"
     ]
    },
    {
     "name": "stdout",
     "output_type": "stream",
     "text": [
      "Label tensor([[0., 0.]]) - Pred tensor([[0.2689, 0.2689]])\n",
      "Label tensor([[0., 0.]]) - Pred tensor([[0.2689, 0.2689]])\n"
     ]
    },
    {
     "name": "stderr",
     "output_type": "stream",
     "text": [
      "Validating:  60%|████████████████████████████████████████████████████████████████████████████████████                                                        | 18/30 [00:02<00:01,  9.41it/s]"
     ]
    },
    {
     "name": "stdout",
     "output_type": "stream",
     "text": [
      "Label tensor([[1., 1.]]) - Pred tensor([[0.2689, 0.2689]])\n",
      "Label tensor([[1., 1.]]) - Pred tensor([[0.2689, 0.2689]])\n"
     ]
    },
    {
     "name": "stderr",
     "output_type": "stream",
     "text": [
      "Validating:  67%|█████████████████████████████████████████████████████████████████████████████████████████████▎                                              | 20/30 [00:02<00:01,  9.44it/s]"
     ]
    },
    {
     "name": "stdout",
     "output_type": "stream",
     "text": [
      "Label tensor([[1., 1.]]) - Pred tensor([[0.2689, 0.2689]])\n",
      "Label tensor([[1., 1.]]) - Pred tensor([[0.2689, 0.2689]])\n"
     ]
    },
    {
     "name": "stderr",
     "output_type": "stream",
     "text": [
      "Validating:  73%|██████████████████████████████████████████████████████████████████████████████████████████████████████▋                                     | 22/30 [00:02<00:00,  9.62it/s]"
     ]
    },
    {
     "name": "stdout",
     "output_type": "stream",
     "text": [
      "Label tensor([[1., 1.]]) - Pred tensor([[0.2689, 0.2689]])\n",
      "Label tensor([[1., 1.]]) - Pred tensor([[0.2689, 0.2689]])\n"
     ]
    },
    {
     "name": "stderr",
     "output_type": "stream",
     "text": [
      "Validating:  80%|████████████████████████████████████████████████████████████████████████████████████████████████████████████████                            | 24/30 [00:02<00:00,  9.73it/s]"
     ]
    },
    {
     "name": "stdout",
     "output_type": "stream",
     "text": [
      "Label tensor([[1., 1.]]) - Pred tensor([[0.2689, 0.2689]])\n",
      "Label tensor([[1., 1.]]) - Pred tensor([[0.2689, 0.2689]])\n"
     ]
    },
    {
     "name": "stderr",
     "output_type": "stream",
     "text": [
      "Validating:  87%|█████████████████████████████████████████████████████████████████████████████████████████████████████████████████████████▎                  | 26/30 [00:02<00:00,  9.05it/s]"
     ]
    },
    {
     "name": "stdout",
     "output_type": "stream",
     "text": [
      "Label tensor([[1., 0.]]) - Pred tensor([[0.2689, 0.2689]])\n",
      "Label tensor([[1., 0.]]) - Pred tensor([[0.2689, 0.2689]])\n"
     ]
    },
    {
     "name": "stderr",
     "output_type": "stream",
     "text": [
      "Validating:  93%|██████████████████████████████████████████████████████████████████████████████████████████████████████████████████████████████████▋         | 28/30 [00:03<00:00,  7.63it/s]"
     ]
    },
    {
     "name": "stdout",
     "output_type": "stream",
     "text": [
      "Label tensor([[1., 0.]]) - Pred tensor([[0.2689, 0.2689]])\n",
      "Label tensor([[1., 0.]]) - Pred tensor([[0.2689, 0.2689]])\n"
     ]
    },
    {
     "name": "stderr",
     "output_type": "stream",
     "text": [
      "Validating: 100%|████████████████████████████████████████████████████████████████████████████████████████████████████████████████████████████████████████████| 30/30 [00:03<00:00,  8.67it/s]"
     ]
    },
    {
     "name": "stdout",
     "output_type": "stream",
     "text": [
      "Label tensor([[1., 1.]]) - Pred tensor([[0.2689, 0.2689]])\n",
      "Label tensor([[1., 0.]]) - Pred tensor([[0.2689, 0.2689]])\n",
      "SMOKE -> Precision: 0.0000 - Recall: 0.0000 - Accuracy: 0.2667 - F1: 0.0000\n",
      "FIRE -> Precision: 0.0000 - Recall: 0.0000 - Accuracy: 0.6333 - F1: 0.0000\n"
     ]
    },
    {
     "name": "stderr",
     "output_type": "stream",
     "text": [
      "\n"
     ]
    }
   ],
   "source": [
    "val_metrics = eval_qonnx(\n",
    "    loader=test_dfire_mini_loader, \n",
    "    model_filename=clean_bipolar_onnx_filename)"
   ]
  }
 ],
 "metadata": {
  "kernelspec": {
   "display_name": "Python 3 (ipykernel)",
   "language": "python",
   "name": "python3"
  },
  "language_info": {
   "codemirror_mode": {
    "name": "ipython",
    "version": 3
   },
   "file_extension": ".py",
   "mimetype": "text/x-python",
   "name": "python",
   "nbconvert_exporter": "python",
   "pygments_lexer": "ipython3",
   "version": "3.10.9"
  }
 },
 "nbformat": 4,
 "nbformat_minor": 5
}
