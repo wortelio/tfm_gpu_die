{
 "cells": [
  {
   "cell_type": "code",
   "execution_count": 1,
   "id": "ced39284-e77a-4bb4-b4f4-1e32f8dc378b",
   "metadata": {},
   "outputs": [
    {
     "name": "stderr",
     "output_type": "stream",
     "text": [
      "/opt/conda/envs/pytorch_brevitas/lib/python3.10/site-packages/onnxscript/converter.py:820: FutureWarning: 'onnxscript.values.Op.param_schemas' is deprecated in version 0.1 and will be removed in the future. Please use '.op_signature' instead.\n",
      "  param_schemas = callee.param_schemas()\n",
      "/opt/conda/envs/pytorch_brevitas/lib/python3.10/site-packages/onnxscript/converter.py:820: FutureWarning: 'onnxscript.values.OnnxFunction.param_schemas' is deprecated in version 0.1 and will be removed in the future. Please use '.op_signature' instead.\n",
      "  param_schemas = callee.param_schemas()\n"
     ]
    }
   ],
   "source": [
    "import logging\n",
    "import datetime\n",
    "\n",
    "import numpy as np\n",
    "import torch\n",
    "from torch.nn.utils import parameters_to_vector\n",
    "import torch.optim as optim\n",
    "from torchinfo import summary\n",
    "\n",
    "import matplotlib.pyplot as plt\n",
    "\n",
    "import config\n",
    "import modules.dataloaders as dataloaders\n",
    "\n",
    "#import modules.models_bed_evolution.bed_04_brevitas as cnv_model\n",
    "# import modules.models_bed_evolution.bed_04_brevitas_mul4 as cnv_model\n",
    "\n",
    "# import modules.models_bed_evolution.bed_05_brevitas_fpga as cnv_model\n",
    "# import modules.models_bed_evolution.bed_05_brevitas_fpga_old as cnv_model\n",
    "\n",
    "import modules.models_bed_evolution.bed_05_brevitas_fpga_old_small_big as cnv_model\n",
    "\n",
    "\n",
    "import modules.loss as loss\n",
    "import modules.metrics as metrics\n",
    "import modules.train_epoch as train_epoch\n",
    "import modules.val_epoch as val_epoch\n",
    "import modules.utils as utils"
   ]
  },
  {
   "cell_type": "markdown",
   "id": "4e2413f4-083b-4ddd-bf51-0332c1166d47",
   "metadata": {},
   "source": [
    "# Logger"
   ]
  },
  {
   "cell_type": "code",
   "execution_count": 2,
   "id": "9006bcad-639b-4775-b5a6-2fd13420cbb2",
   "metadata": {},
   "outputs": [],
   "source": [
    "log_path = config.LOGS_FOLDER\n",
    "\n",
    "logger = logging.getLogger(\"GonLogger\")\n",
    "logger.propagate = False\n",
    "logger.setLevel(logging.INFO)\n",
    "file_handler = logging.FileHandler(log_path + 'logfile.log')\n",
    "formatter = logging.Formatter('%(message)s')\n",
    "file_handler.setFormatter(formatter)\n",
    "\n",
    "# add file handler to logger\n",
    "logger.addHandler(file_handler)\n",
    "\n",
    "logger.info('BED Classifier.\\n' +  \n",
    "            '\\tOne Head.\\n' +\n",
    "            '\\tWeighted for Precision.\\n' +\n",
    "            '\\tBrevitas Default.\\n'+ \n",
    "            '\\tDataset images divided by 255.\\n')"
   ]
  },
  {
   "cell_type": "markdown",
   "id": "3884364d-ec36-4e80-a0d5-c5d259f4b313",
   "metadata": {},
   "source": [
    "# Hyperparameters Log"
   ]
  },
  {
   "cell_type": "code",
   "execution_count": 3,
   "id": "25fe6b1d-7f69-48d4-80a2-219e19c33016",
   "metadata": {},
   "outputs": [
    {
     "name": "stdout",
     "output_type": "stream",
     "text": [
      "Training Brevitas Model = True\n",
      "\n",
      "Datasets Length\n",
      "\tTrain and Val: 128\n",
      "\n",
      "Load Model: False\n",
      "Device: cuda\n",
      "Optimizer:\n",
      "\tLearning Rate: 0.001\n",
      "\tWeight Decay: 0.001\n",
      "Scheduler:\n",
      "\tScheduler factor: 0.8\n",
      "\tScheduler patience: 3\n",
      "\tScheduler threshold: 0.001\n",
      "\tScheduler min learning rate: 1e-06\n",
      "Batch Size: 64\n",
      "Num Workers: 8\n",
      "Pin Memory: True\n",
      "Epochs: 3\n",
      "\n",
      "IMG DIMS:\n",
      "\tWidth: 230\n",
      "\tHeight: 230\n",
      "\n",
      "Brevitas Config:\n",
      "\tFixed Point: True\n",
      "\tWeights Bit Width: 4\n",
      "\tBig Layers Weights Bit Width: 2\n",
      "\tBias Bit Width: 4\n",
      "\tActivations Bit Width: 4\n"
     ]
    }
   ],
   "source": [
    "''' ============================\n",
    "    Print Config Values\n",
    "============================ '''\n",
    "print(f'Training Brevitas Model = {config.BREVITAS_MODEL}')\n",
    "print('\\nDatasets Length')\n",
    "print(f'\\tTrain and Val: {\"Full\" if config.DS_LEN == None else config.DS_LEN}')\n",
    "print(f'\\nLoad Model: {config.LOAD_MODEL}')\n",
    "if (config.LOAD_MODEL == True):\n",
    "    print(f'\\tModel: {config.LOAD_MODEL_FILE}')\n",
    "print(f'Device: {config.DEVICE}')\n",
    "print('Optimizer:')\n",
    "print(f'\\tLearning Rate: {config.LEARNING_RATE}')\n",
    "print(f'\\tWeight Decay: {config.WEIGHT_DECAY}')\n",
    "print('Scheduler:')\n",
    "print(f'\\tScheduler factor: {config.FACTOR}')\n",
    "print(f'\\tScheduler patience: {config.PATIENCE}')\n",
    "print(f'\\tScheduler threshold: {config.THRES}')\n",
    "print(f'\\tScheduler min learning rate: {config.MIN_LR}')\n",
    "print(f'Batch Size: {config.BATCH_SIZE}')\n",
    "print(f'Num Workers: {config.NUM_WORKERS}')\n",
    "print(f'Pin Memory: {config.PIN_MEMORY}')\n",
    "print(f'Epochs: {config.EPOCHS}')\n",
    "print('\\nIMG DIMS:')\n",
    "print(f'\\tWidth: {config.IMG_W}\\n\\tHeight: {config.IMG_H}')\n",
    "print('\\nBrevitas Config:')\n",
    "print(f'\\tFixed Point: {config.FIXED_POINT}')\n",
    "print(f'\\tWeights Bit Width: {config.WEIGHTS_BIT_WIDTH}')\n",
    "print(f'\\tBig Layers Weights Bit Width: {config.BIG_LAYERS_WEIGHTS_BIT_WIDTH}')\n",
    "print(f'\\tBias Bit Width: {config.BIAS_BIT_WIDTH}')\n",
    "print(f'\\tActivations Bit Width: {config.ACTIVATIONS_BIT_WIDTH}')\n",
    "\n",
    "logger.info(f'Training Brevitas Model = {config.BREVITAS_MODEL}')\n",
    "logger.info('\\nDatasets Length')\n",
    "logger.info(f'\\tTrain and Val: {\"Full\" if config.DS_LEN == None else config.DS_LEN}')\n",
    "logger.info(f'\\nLoad Model: {config.LOAD_MODEL}')\n",
    "if (config.LOAD_MODEL == True):\n",
    "    logger.info(f'\\tModel: {config.LOAD_MODEL_FILE}')\n",
    "logger.info(f'\\nDevice: {config.DEVICE}')\n",
    "logger.info('Optimizer:')\n",
    "logger.info(f'\\tLearning Rate: {config.LEARNING_RATE}')\n",
    "logger.info(f'\\tWeight Decay: {config.WEIGHT_DECAY}')\n",
    "logger.info('Scheduler:')\n",
    "logger.info(f'\\tScheduler factor: {config.FACTOR}')\n",
    "logger.info(f'\\tScheduler patience: {config.PATIENCE}')\n",
    "logger.info(f'\\tScheduler threshold: {config.THRES}')\n",
    "logger.info(f'\\tScheduler min learning rate: {config.MIN_LR}')\n",
    "logger.info(f'\\nBatch Size: {config.BATCH_SIZE}')\n",
    "logger.info(f'Num Workers: {config.NUM_WORKERS}')\n",
    "logger.info(f'Pin Memory: {config.PIN_MEMORY}')\n",
    "logger.info(f'Epochs: {config.EPOCHS}')\n",
    "logger.info('\\nIMG DIMS:')\n",
    "logger.info(f'\\tWidth: {config.IMG_W}\\n\\tHeight: {config.IMG_H}')\n",
    "logger.info('\\nBrevitas Config:')\n",
    "logger.info(f'\\tFixed Point: {config.FIXED_POINT}')\n",
    "logger.info(f'\\tWeights Bit Width: {config.WEIGHTS_BIT_WIDTH}')\n",
    "logger.info(f'\\tBig Layers Weights Bit Width: {config.BIG_LAYERS_WEIGHTS_BIT_WIDTH}')\n",
    "logger.info(f'\\tBias Bit Width: {config.BIAS_BIT_WIDTH}')\n",
    "logger.info(f'\\tActivations Bit Width: {config.ACTIVATIONS_BIT_WIDTH}')"
   ]
  },
  {
   "cell_type": "markdown",
   "id": "c48611bc-7a36-41f5-a80c-5cc442bd40fd",
   "metadata": {},
   "source": [
    "# Dataloaders"
   ]
  },
  {
   "cell_type": "code",
   "execution_count": 4,
   "id": "125fadde-618b-4a0d-8d1e-86f4b46a35a2",
   "metadata": {},
   "outputs": [
    {
     "name": "stdout",
     "output_type": "stream",
     "text": [
      "\n",
      "====================\n",
      "TRAIN DFIRE dataset\n",
      "DFire Removed wrong images: 0\n",
      "DFire empty images: 56\n",
      "DFire only smoke images: 37\n",
      "DFire only fire images: 8\n",
      "DFire smoke and fire images: 27\n",
      "\n",
      "Train DFire dataset len: 128\n",
      "\n",
      "====================\n",
      "TRAIN FASDD UAV dataset\n",
      "FASDD Removed wrong images: 0\n",
      "FASDD empty images: 58\n",
      "FASDD only smoke images: 22\n",
      "FASDD only fire images: 2\n",
      "FASDD smoke and fire images: 46\n",
      "\n",
      "Train FASDD UAV dataset len: 128\n",
      "\n",
      "====================\n",
      "VAL FASDD UAV dataset\n",
      "FASDD Removed wrong images: 0\n",
      "FASDD empty images: 59\n",
      "FASDD only smoke images: 26\n",
      "FASDD only fire images: 2\n",
      "FASDD smoke and fire images: 41\n",
      "\n",
      "Val FASDD UAV dataset len: 128\n",
      "\n",
      "====================\n",
      "TRAIN FASDD CV dataset\n",
      "FASDD Removed wrong images: 0\n",
      "FASDD empty images: 53\n",
      "FASDD only smoke images: 36\n",
      "FASDD only fire images: 19\n",
      "FASDD smoke and fire images: 20\n",
      "\n",
      "Train FASDD CV dataset len: 128\n",
      "\n",
      "====================\n",
      "Val FASDD CV dataset\n",
      "FASDD Removed wrong images: 0\n",
      "FASDD empty images: 50\n",
      "FASDD only smoke images: 32\n",
      "FASDD only fire images: 20\n",
      "FASDD smoke and fire images: 26\n",
      "\n",
      "Val FASDD CV dataset len: 128\n",
      "\n",
      "Concatenate Train DFire and Train FASDD UAV datasets\n",
      "Train dataset len: 256\n",
      "Concatenate with Val FASDD UAV dataset\n",
      "Train dataset len: 384\n",
      "Concatenate with Train FASDD CV dataset\n",
      "Train dataset len: 512\n",
      "Concatenate with Val FASDD CV dataset\n",
      "Train dataset len: 640\n",
      "\n",
      "====================\n",
      "TEST DFire dataset\n",
      "DFire Removed wrong images: 0\n",
      "DFire empty images: 62\n",
      "DFire only smoke images: 31\n",
      "DFire only fire images: 5\n",
      "DFire smoke and fire images: 30\n",
      "\n",
      "Test dataset len: 128\n",
      "\n",
      "====================\n",
      "TEST FASDD UAV dataset\n",
      "FASDD Removed wrong images: 0\n",
      "FASDD empty images: 57\n",
      "FASDD only smoke images: 28\n",
      "FASDD only fire images: 1\n",
      "FASDD smoke and fire images: 42\n",
      "\n",
      "Test FASDD UAV dataset len: 128\n",
      "\n",
      "====================\n",
      "TEST FASDD CV dataset\n",
      "FASDD Removed wrong images: 0\n",
      "FASDD empty images: 59\n",
      "FASDD only smoke images: 31\n",
      "FASDD only fire images: 12\n",
      "FASDD smoke and fire images: 26\n",
      "\n",
      "Test FASDD CV dataset len: 128\n",
      "Concatenate Test DFire and FASDD UAV datasets\n",
      "Test dataset len: 256\n",
      "Concatenate with FASDD CV dataset\n",
      "Test dataset len: 384\n"
     ]
    }
   ],
   "source": [
    "train_loader = dataloaders.get_train_loader()\n",
    "val_loader = dataloaders.get_val_loader()"
   ]
  },
  {
   "cell_type": "markdown",
   "id": "841b4bfc-55f6-4692-a5de-8f457d17472c",
   "metadata": {},
   "source": [
    "### Plot Some Train Pictures"
   ]
  },
  {
   "cell_type": "code",
   "execution_count": 5,
   "id": "f18dab26-cb88-4c13-ad66-a5cc8176a0f0",
   "metadata": {},
   "outputs": [],
   "source": [
    "for i, (img, label) in enumerate(train_loader):\n",
    "\n",
    "    plt.subplots(8,4, figsize=(8, 16))\n",
    "    \n",
    "    for idx in range(config.BATCH_SIZE):\n",
    "        plt.subplot(8, 4, idx+1)\n",
    "        plt.imshow(img[idx].permute(1, 2, 0))\n",
    "        title = \"\"\n",
    "        if label[idx][0] == 1 and label[idx][1] == 1:\n",
    "            title += \"Smoke and Fire\"\n",
    "        elif label[idx][0] == 1 and label[idx][1] == 0:\n",
    "            title += \"Only Smoke\"\n",
    "        elif label[idx][0] == 0 and label[idx][1] == 1:\n",
    "            title += \"Only Fire\"\n",
    "        else:\n",
    "            title += \"Empty\"\n",
    "        plt.title(title)\n",
    "        \n",
    "        if (idx == 31):\n",
    "            break\n",
    "    plt.tight_layout()\n",
    "    plt.savefig(config.RUN_FOLDER + 'train_pictures.png')\n",
    "    #plt.show()\n",
    "    plt.close()\n",
    "    break"
   ]
  },
  {
   "cell_type": "markdown",
   "id": "3f38c400-7e28-46fd-8cab-fb537e5bb248",
   "metadata": {},
   "source": [
    "### Plot Some Val Pictures"
   ]
  },
  {
   "cell_type": "code",
   "execution_count": 6,
   "id": "60efe557-e316-4ec3-a850-3e671f04b1a8",
   "metadata": {},
   "outputs": [],
   "source": [
    "for i, (img, label) in enumerate(val_loader):\n",
    "\n",
    "    plt.subplots(8,4, figsize=(8, 16))\n",
    "    \n",
    "    for idx in range(config.BATCH_SIZE):\n",
    "        plt.subplot(8, 4, idx+1)\n",
    "        plt.imshow(img[idx].permute(1, 2, 0))\n",
    "        title = \"\"\n",
    "        if label[idx][0] == 1 and label[idx][1] == 1:\n",
    "            title += \"Smoke and Fire\"\n",
    "        elif label[idx][0] == 1 and label[idx][1] == 0:\n",
    "            title += \"Only Smoke\"\n",
    "        elif label[idx][0] == 0 and label[idx][1] == 1:\n",
    "            title += \"Only Fire\"\n",
    "        else:\n",
    "            title += \"Empty\"\n",
    "        plt.title(title)\n",
    "        \n",
    "        if (idx == 31):\n",
    "            break\n",
    "    plt.tight_layout()\n",
    "    plt.savefig(config.RUN_FOLDER + 'val_pictures.png')\n",
    "    plt.close()\n",
    "    break"
   ]
  },
  {
   "cell_type": "markdown",
   "id": "32673ea5-65c2-418d-b4bb-dc52d5fc0cb5",
   "metadata": {},
   "source": [
    "# Load Model"
   ]
  },
  {
   "cell_type": "code",
   "execution_count": 7,
   "id": "65f05240-0c38-4f73-b06d-bf9ceefcb369",
   "metadata": {
    "editable": true,
    "slideshow": {
     "slide_type": ""
    },
    "tags": []
   },
   "outputs": [],
   "source": [
    "#model = cnv_model.BED_AIMET_FPGA().to(config.DEVICE)\n",
    "\n",
    "# model = cnv_model.BED_AIMET_FPGA_MUL4().to(config.DEVICE)\n",
    "\n",
    "# model = cnv_model.BED_AIMET_FPGA_MANUAL().to(config.DEVICE)\n",
    "\n",
    "# model = cnv_model.BED_AIMET_FPGA_MANUAL_OLD().to(config.DEVICE)\n",
    "\n",
    "model = cnv_model.BED_AIMET_FPGA_MANUAL_OLD_SMALL_BIG().to(config.DEVICE)"
   ]
  },
  {
   "cell_type": "markdown",
   "id": "578c963b-1a73-4b8b-9646-8ad392dd4eee",
   "metadata": {},
   "source": [
    "### Optimizer and Scheduler"
   ]
  },
  {
   "cell_type": "code",
   "execution_count": 8,
   "id": "e2284272-f9fc-4adb-a7c4-81ac3956d95b",
   "metadata": {},
   "outputs": [],
   "source": [
    "optimizer = optim.Adam(model.parameters(), \n",
    "                       lr=config.LEARNING_RATE, \n",
    "                       weight_decay=config.WEIGHT_DECAY)\n",
    "\n",
    "scheduler = optim.lr_scheduler.ReduceLROnPlateau(optimizer, \n",
    "                                                 mode='min',\n",
    "                                                 factor=config.FACTOR, \n",
    "                                                 patience=config.PATIENCE, \n",
    "                                                 threshold=config.THRES, \n",
    "                                                 threshold_mode='abs',\n",
    "                                                 min_lr=config.MIN_LR)\n",
    "\n"
   ]
  },
  {
   "cell_type": "markdown",
   "id": "1d0bac02-ea2e-40b6-9f71-456b3f3cf943",
   "metadata": {},
   "source": [
    "### Parameters"
   ]
  },
  {
   "cell_type": "code",
   "execution_count": 9,
   "id": "ce30cdae-4cb8-4399-9766-49932d6a4bed",
   "metadata": {},
   "outputs": [
    {
     "name": "stdout",
     "output_type": "stream",
     "text": [
      "\n",
      "Trainable parameters = 64353\n",
      "Total parameters = 64353\n",
      "\n"
     ]
    }
   ],
   "source": [
    "n_trainable = sum(p.numel() for p in model.parameters() if p.requires_grad)\n",
    "print(f'\\nTrainable parameters = {n_trainable}')\n",
    "logger.info(f'\\nTrainable parameters = {n_trainable}')\n",
    "\n",
    "n_params = parameters_to_vector(model.parameters()).numel()\n",
    "print(f'Total parameters = {n_params}\\n')\n",
    "logger.info(f'Total parameters = {n_params}\\n')"
   ]
  },
  {
   "cell_type": "markdown",
   "id": "cfb33a7e-b560-4446-bd60-8621483adfdc",
   "metadata": {},
   "source": [
    "### Check Model Shape: Random Input"
   ]
  },
  {
   "cell_type": "code",
   "execution_count": 10,
   "id": "d80f00c5-183d-431b-bf8a-26551c390cae",
   "metadata": {},
   "outputs": [
    {
     "name": "stderr",
     "output_type": "stream",
     "text": [
      "/opt/conda/envs/pytorch_brevitas/lib/python3.10/site-packages/torch/_tensor.py:1362: UserWarning: Named tensors and all their associated APIs are an experimental feature and subject to change. Please do not use them for anything important until they are released as stable. (Triggered internally at /opt/conda/conda-bld/pytorch_1702400410390/work/c10/core/TensorImpl.h:1900.)\n",
      "  return super().rename(names)\n"
     ]
    },
    {
     "name": "stdout",
     "output_type": "stream",
     "text": [
      "Model shape is tensor([[ 1.2696,  0.6236],\n",
      "        [-0.3842,  0.3328],\n",
      "        [ 0.4416,  0.2719],\n",
      "        [-2.3246, -0.2307]], device='cuda:0', grad_fn=<AddBackward0>)\n"
     ]
    }
   ],
   "source": [
    "dummy_input = np.random.rand(4, config.NUM_CHANNELS, config.IMG_H, config.IMG_W)\n",
    "dummy_input = torch.tensor(dummy_input, dtype=torch.float32, device=config.DEVICE)\n",
    "out_test = model(dummy_input)\n",
    "print(f'Model shape is {out_test}')\n",
    "#print(f'BED Model Arquitecture\\n{cnv_model}')"
   ]
  },
  {
   "cell_type": "markdown",
   "id": "6a769672-efb0-4727-8322-8c68795d0efb",
   "metadata": {},
   "source": [
    "### Torchinfo"
   ]
  },
  {
   "cell_type": "code",
   "execution_count": 11,
   "id": "607141f0-be35-4feb-8635-c63724d1503e",
   "metadata": {},
   "outputs": [
    {
     "name": "stdout",
     "output_type": "stream",
     "text": [
      "=============================================================================================================================\n",
      "Layer (type:depth-idx)                                                      Output Shape              Param #\n",
      "=============================================================================================================================\n",
      "BED_AIMET_FPGA_MANUAL_OLD_SMALL_BIG                                         [1, 2]                    --\n",
      "├─Sequential: 1-1                                                           [1, 64, 20, 20]           62,173\n",
      "│    └─QuantIdentity: 2-1                                                   [1, 3, 230, 230]          --\n",
      "│    │    └─ActQuantProxyFromInjector: 3-1                                  [1, 3, 230, 230]          --\n",
      "│    │    └─ActQuantProxyFromInjector: 3-2                                  [1, 3, 230, 230]          1\n",
      "├─Sequential: 1-36                                                          --                        (recursive)\n",
      "│    └─QuantReLU: 2-51                                                      --                        (recursive)\n",
      "│    │    └─ActQuantProxyFromInjector: 3-88                                 --                        (recursive)\n",
      "├─Sequential: 1-37                                                          --                        (recursive)\n",
      "│    └─QuantIdentity: 2-3                                                   --                        (recursive)\n",
      "│    │    └─ActQuantProxyFromInjector: 3-4                                  --                        (recursive)\n",
      "│    └─Sequential: 2-4                                                      [1, 12, 228, 228]         --\n",
      "│    │    └─QuantConv2d: 3-5                                                [1, 12, 228, 228]         324\n",
      "│    │    └─BatchNorm2d: 3-6                                                [1, 12, 228, 228]         24\n",
      "│    │    └─QuantReLU: 3-7                                                  [1, 12, 228, 228]         1\n",
      "├─Sequential: 1-36                                                          --                        (recursive)\n",
      "│    └─QuantReLU: 2-51                                                      --                        (recursive)\n",
      "│    │    └─ActQuantProxyFromInjector: 3-88                                 --                        (recursive)\n",
      "├─Sequential: 1-37                                                          --                        (recursive)\n",
      "│    └─Sequential: 2-6                                                      --                        (recursive)\n",
      "│    │    └─QuantReLU: 3-9                                                  --                        (recursive)\n",
      "│    └─MaxPool2d: 2-7                                                       [1, 12, 114, 114]         --\n",
      "│    └─Sequential: 2-8                                                      [1, 16, 112, 112]         1,185\n",
      "│    │    └─QuantConv2d: 3-10                                               [1, 24, 112, 114]         864\n",
      "│    │    └─BatchNorm2d: 3-11                                               [1, 24, 112, 114]         48\n",
      "│    │    └─QuantIdentity: 3-12                                             [1, 24, 112, 114]         1\n",
      "├─Sequential: 1-36                                                          --                        (recursive)\n",
      "│    └─QuantReLU: 2-51                                                      --                        (recursive)\n",
      "│    │    └─ActQuantProxyFromInjector: 3-88                                 --                        (recursive)\n",
      "├─Sequential: 1-37                                                          --                        (recursive)\n",
      "│    └─Sequential: 2-12                                                     --                        (recursive)\n",
      "│    │    └─QuantIdentity: 3-14                                             --                        (recursive)\n",
      "│    │    └─QuantConv2d: 3-15                                               [1, 16, 112, 112]         1,152\n",
      "│    │    └─BatchNorm2d: 3-16                                               [1, 16, 112, 112]         32\n",
      "│    │    └─QuantReLU: 3-17                                                 [1, 16, 112, 112]         1\n",
      "├─Sequential: 1-36                                                          --                        (recursive)\n",
      "│    └─QuantReLU: 2-51                                                      --                        (recursive)\n",
      "│    │    └─ActQuantProxyFromInjector: 3-88                                 --                        (recursive)\n",
      "├─Sequential: 1-37                                                          --                        (recursive)\n",
      "│    └─Sequential: 2-12                                                     --                        (recursive)\n",
      "│    │    └─QuantReLU: 3-19                                                 --                        (recursive)\n",
      "│    └─MaxPool2d: 2-13                                                      [1, 16, 56, 56]           --\n",
      "│    └─Sequential: 2-14                                                     [1, 16, 56, 56]           --\n",
      "│    │    └─QuantConv2d: 3-20                                               [1, 16, 56, 56]           256\n",
      "│    │    └─BatchNorm2d: 3-21                                               [1, 16, 56, 56]           32\n",
      "│    │    └─QuantReLU: 3-22                                                 [1, 16, 56, 56]           1\n",
      "├─Sequential: 1-36                                                          --                        (recursive)\n",
      "│    └─QuantReLU: 2-51                                                      --                        (recursive)\n",
      "│    │    └─ActQuantProxyFromInjector: 3-88                                 --                        (recursive)\n",
      "├─Sequential: 1-37                                                          --                        (recursive)\n",
      "│    └─Sequential: 2-16                                                     --                        (recursive)\n",
      "│    │    └─QuantReLU: 3-24                                                 --                        (recursive)\n",
      "│    └─Sequential: 2-17                                                     [1, 32, 54, 54]           1,601\n",
      "│    │    └─QuantConv2d: 3-25                                               [1, 16, 54, 56]           768\n",
      "│    │    └─BatchNorm2d: 3-26                                               [1, 16, 54, 56]           32\n",
      "│    │    └─QuantIdentity: 3-27                                             [1, 16, 54, 56]           1\n",
      "├─Sequential: 1-36                                                          --                        (recursive)\n",
      "│    └─QuantReLU: 2-51                                                      --                        (recursive)\n",
      "│    │    └─ActQuantProxyFromInjector: 3-88                                 --                        (recursive)\n",
      "├─Sequential: 1-37                                                          --                        (recursive)\n",
      "│    └─Sequential: 2-21                                                     --                        (recursive)\n",
      "│    │    └─QuantIdentity: 3-29                                             --                        (recursive)\n",
      "│    │    └─QuantConv2d: 3-30                                               [1, 32, 54, 54]           1,536\n",
      "│    │    └─BatchNorm2d: 3-31                                               [1, 32, 54, 54]           64\n",
      "│    │    └─QuantReLU: 3-32                                                 [1, 32, 54, 54]           1\n",
      "├─Sequential: 1-36                                                          --                        (recursive)\n",
      "│    └─QuantReLU: 2-51                                                      --                        (recursive)\n",
      "│    │    └─ActQuantProxyFromInjector: 3-88                                 --                        (recursive)\n",
      "├─Sequential: 1-37                                                          --                        (recursive)\n",
      "│    └─Sequential: 2-21                                                     --                        (recursive)\n",
      "│    │    └─QuantReLU: 3-34                                                 --                        (recursive)\n",
      "│    └─Sequential: 2-22                                                     [1, 32, 54, 54]           --\n",
      "│    │    └─QuantConv2d: 3-35                                               [1, 32, 54, 54]           1,024\n",
      "│    │    └─BatchNorm2d: 3-36                                               [1, 32, 54, 54]           64\n",
      "│    │    └─QuantReLU: 3-37                                                 [1, 32, 54, 54]           1\n",
      "├─Sequential: 1-36                                                          --                        (recursive)\n",
      "│    └─QuantReLU: 2-51                                                      --                        (recursive)\n",
      "│    │    └─ActQuantProxyFromInjector: 3-88                                 --                        (recursive)\n",
      "├─Sequential: 1-37                                                          --                        (recursive)\n",
      "│    └─Sequential: 2-24                                                     --                        (recursive)\n",
      "│    │    └─QuantReLU: 3-39                                                 --                        (recursive)\n",
      "│    └─Sequential: 2-25                                                     [1, 64, 52, 52]           8,577\n",
      "│    │    └─QuantConv2d: 3-40                                               [1, 44, 52, 54]           4,224\n",
      "│    │    └─BatchNorm2d: 3-41                                               [1, 44, 52, 54]           88\n",
      "│    │    └─QuantIdentity: 3-42                                             [1, 44, 52, 54]           1\n",
      "├─Sequential: 1-36                                                          --                        (recursive)\n",
      "│    └─QuantReLU: 2-51                                                      --                        (recursive)\n",
      "│    │    └─ActQuantProxyFromInjector: 3-88                                 --                        (recursive)\n",
      "├─Sequential: 1-37                                                          --                        (recursive)\n",
      "│    └─Sequential: 2-29                                                     --                        (recursive)\n",
      "│    │    └─QuantIdentity: 3-44                                             --                        (recursive)\n",
      "│    │    └─QuantConv2d: 3-45                                               [1, 64, 52, 52]           8,448\n",
      "│    │    └─BatchNorm2d: 3-46                                               [1, 64, 52, 52]           128\n",
      "│    │    └─QuantReLU: 3-47                                                 [1, 64, 52, 52]           1\n",
      "├─Sequential: 1-36                                                          --                        (recursive)\n",
      "│    └─QuantReLU: 2-51                                                      --                        (recursive)\n",
      "│    │    └─ActQuantProxyFromInjector: 3-88                                 --                        (recursive)\n",
      "├─Sequential: 1-37                                                          --                        (recursive)\n",
      "│    └─Sequential: 2-29                                                     --                        (recursive)\n",
      "│    │    └─QuantReLU: 3-49                                                 --                        (recursive)\n",
      "│    └─MaxPool2d: 2-30                                                      [1, 64, 26, 26]           --\n",
      "│    └─Sequential: 2-31                                                     [1, 32, 26, 26]           --\n",
      "│    │    └─QuantConv2d: 3-50                                               [1, 32, 26, 26]           2,048\n",
      "│    │    └─BatchNorm2d: 3-51                                               [1, 32, 26, 26]           64\n",
      "│    │    └─QuantReLU: 3-52                                                 [1, 32, 26, 26]           1\n",
      "├─Sequential: 1-36                                                          --                        (recursive)\n",
      "│    └─QuantReLU: 2-51                                                      --                        (recursive)\n",
      "│    │    └─ActQuantProxyFromInjector: 3-88                                 --                        (recursive)\n",
      "├─Sequential: 1-37                                                          --                        (recursive)\n",
      "│    └─Sequential: 2-33                                                     --                        (recursive)\n",
      "│    │    └─QuantReLU: 3-54                                                 --                        (recursive)\n",
      "│    └─Sequential: 2-34                                                     [1, 64, 24, 24]           --\n",
      "│    │    └─QuantConv2d: 3-55                                               [1, 64, 24, 24]           18,432\n",
      "│    │    └─BatchNorm2d: 3-56                                               [1, 64, 24, 24]           128\n",
      "│    │    └─QuantReLU: 3-57                                                 [1, 64, 24, 24]           1\n",
      "├─Sequential: 1-36                                                          --                        (recursive)\n",
      "│    └─QuantReLU: 2-51                                                      --                        (recursive)\n",
      "│    │    └─ActQuantProxyFromInjector: 3-88                                 --                        (recursive)\n",
      "├─Sequential: 1-37                                                          --                        (recursive)\n",
      "│    └─Sequential: 2-36                                                     --                        (recursive)\n",
      "│    │    └─QuantReLU: 3-59                                                 --                        (recursive)\n",
      "│    └─Sequential: 2-37                                                     [1, 32, 24, 24]           --\n",
      "│    │    └─QuantConv2d: 3-60                                               [1, 32, 24, 24]           2,048\n",
      "│    │    └─BatchNorm2d: 3-61                                               [1, 32, 24, 24]           64\n",
      "│    │    └─QuantReLU: 3-62                                                 [1, 32, 24, 24]           1\n",
      "├─Sequential: 1-36                                                          --                        (recursive)\n",
      "│    └─QuantReLU: 2-51                                                      --                        (recursive)\n",
      "│    │    └─ActQuantProxyFromInjector: 3-88                                 --                        (recursive)\n",
      "├─Sequential: 1-37                                                          --                        (recursive)\n",
      "│    └─Sequential: 2-39                                                     --                        (recursive)\n",
      "│    │    └─QuantReLU: 3-64                                                 --                        (recursive)\n",
      "│    └─Sequential: 2-40                                                     [1, 60, 22, 22]           8,041\n",
      "│    │    └─QuantConv2d: 3-65                                               [1, 44, 22, 24]           4,224\n",
      "│    │    └─BatchNorm2d: 3-66                                               [1, 44, 22, 24]           88\n",
      "│    │    └─QuantIdentity: 3-67                                             [1, 44, 22, 24]           1\n",
      "├─Sequential: 1-36                                                          --                        (recursive)\n",
      "│    └─QuantReLU: 2-51                                                      --                        (recursive)\n",
      "│    │    └─ActQuantProxyFromInjector: 3-88                                 --                        (recursive)\n",
      "├─Sequential: 1-37                                                          --                        (recursive)\n",
      "│    └─Sequential: 2-44                                                     --                        (recursive)\n",
      "│    │    └─QuantIdentity: 3-69                                             --                        (recursive)\n",
      "│    │    └─QuantConv2d: 3-70                                               [1, 60, 22, 22]           7,920\n",
      "│    │    └─BatchNorm2d: 3-71                                               [1, 60, 22, 22]           120\n",
      "│    │    └─QuantReLU: 3-72                                                 [1, 60, 22, 22]           1\n",
      "├─Sequential: 1-36                                                          --                        (recursive)\n",
      "│    └─QuantReLU: 2-51                                                      --                        (recursive)\n",
      "│    │    └─ActQuantProxyFromInjector: 3-88                                 --                        (recursive)\n",
      "├─Sequential: 1-37                                                          --                        (recursive)\n",
      "│    └─Sequential: 2-44                                                     --                        (recursive)\n",
      "│    │    └─QuantReLU: 3-74                                                 --                        (recursive)\n",
      "│    └─Sequential: 2-45                                                     [1, 32, 22, 22]           --\n",
      "│    │    └─QuantConv2d: 3-75                                               [1, 32, 22, 22]           1,920\n",
      "│    │    └─BatchNorm2d: 3-76                                               [1, 32, 22, 22]           64\n",
      "│    │    └─QuantReLU: 3-77                                                 [1, 32, 22, 22]           1\n",
      "├─Sequential: 1-36                                                          --                        (recursive)\n",
      "│    └─QuantReLU: 2-51                                                      --                        (recursive)\n",
      "│    │    └─ActQuantProxyFromInjector: 3-88                                 --                        (recursive)\n",
      "├─Sequential: 1-37                                                          --                        (recursive)\n",
      "│    └─Sequential: 2-47                                                     --                        (recursive)\n",
      "│    │    └─QuantReLU: 3-79                                                 --                        (recursive)\n",
      "│    └─Sequential: 2-48                                                     [1, 64, 20, 20]           3,969\n",
      "│    │    └─QuantConv2d: 3-80                                               [1, 20, 20, 22]           1,920\n",
      "│    │    └─BatchNorm2d: 3-81                                               [1, 20, 20, 22]           40\n",
      "│    │    └─QuantIdentity: 3-82                                             [1, 20, 20, 22]           1\n",
      "├─Sequential: 1-36                                                          --                        (recursive)\n",
      "│    └─QuantReLU: 2-51                                                      --                        (recursive)\n",
      "│    │    └─ActQuantProxyFromInjector: 3-88                                 --                        (recursive)\n",
      "├─Sequential: 1-37                                                          --                        (recursive)\n",
      "│    └─Sequential: 2-52                                                     --                        (recursive)\n",
      "│    │    └─QuantIdentity: 3-84                                             --                        (recursive)\n",
      "│    │    └─QuantConv2d: 3-85                                               [1, 64, 20, 20]           3,840\n",
      "│    │    └─BatchNorm2d: 3-86                                               [1, 64, 20, 20]           128\n",
      "│    │    └─QuantReLU: 3-87                                                 [1, 64, 20, 20]           1\n",
      "├─Sequential: 1-36                                                          --                        (recursive)\n",
      "│    └─QuantReLU: 2-51                                                      --                        (recursive)\n",
      "│    │    └─ActQuantProxyFromInjector: 3-88                                 --                        (recursive)\n",
      "├─Sequential: 1-37                                                          --                        (recursive)\n",
      "│    └─Sequential: 2-52                                                     --                        (recursive)\n",
      "│    │    └─QuantReLU: 3-89                                                 --                        (recursive)\n",
      "├─TruncAvgPool2d: 1-38                                                      [1, 64, 1, 1]             --\n",
      "│    └─TruncQuantProxyFromInjector: 2-53                                    [1, 64, 1, 1]             --\n",
      "│    │    └─TruncIntQuant: 3-90                                             [1, 64, 1, 1]             --\n",
      "├─Sequential: 1-39                                                          [1, 2]                    --\n",
      "│    └─QuantLinear: 2-54                                                    [1, 32]                   --\n",
      "│    │    └─ActQuantProxyFromInjector: 3-91                                 [1, 64]                   --\n",
      "│    │    └─WeightQuantProxyFromInjector: 3-92                              [32, 64]                  2,048\n",
      "│    │    └─ActQuantProxyFromInjector: 3-93                                 [1, 32]                   --\n",
      "│    └─BatchNorm1d: 2-55                                                    [1, 32]                   64\n",
      "│    └─QuantReLU: 2-56                                                      [1, 32]                   --\n",
      "│    │    └─ActQuantProxyFromInjector: 3-94                                 [1, 32]                   --\n",
      "│    │    └─ActQuantProxyFromInjector: 3-95                                 [1, 32]                   1\n",
      "│    └─QuantLinear: 2-57                                                    [1, 2]                    --\n",
      "│    │    └─ActQuantProxyFromInjector: 3-96                                 [1, 32]                   --\n",
      "│    │    └─WeightQuantProxyFromInjector: 3-97                              [2, 32]                   64\n",
      "│    │    └─ActQuantProxyFromInjector: 3-98                                 [1, 2]                    --\n",
      "│    └─TensorNorm: 2-58                                                     [1, 2]                    2\n",
      "=============================================================================================================================\n",
      "Total params: 149,899\n",
      "Trainable params: 149,899\n",
      "Non-trainable params: 0\n",
      "Total mult-adds (M): 0.00\n",
      "=============================================================================================================================\n",
      "Input size (MB): 0.63\n",
      "Forward/backward pass size (MB): 15.13\n",
      "Params size (MB): 0.01\n",
      "Estimated Total Size (MB): 15.77\n",
      "=============================================================================================================================\n"
     ]
    }
   ],
   "source": [
    "print(summary(model, input_size=(1, config.NUM_CHANNELS, config.IMG_H, config.IMG_W)))\n",
    "logger.info(summary(model, input_size=(1, config.NUM_CHANNELS, config.IMG_H, config.IMG_W)))"
   ]
  },
  {
   "cell_type": "markdown",
   "id": "61d74ed9-984a-4f66-8121-d1152fecad98",
   "metadata": {},
   "source": [
    "# Loss Function"
   ]
  },
  {
   "cell_type": "code",
   "execution_count": 12,
   "id": "6efb3c84-4076-4694-8505-2c3c0ee9aa1e",
   "metadata": {},
   "outputs": [
    {
     "name": "stdout",
     "output_type": "stream",
     "text": [
      "Loss Function: BCE\n",
      "Smoke Precision Weight: 0.8\n"
     ]
    }
   ],
   "source": [
    "if config.LOSS_FN == \"BCE\":\n",
    "    print(f'Loss Function: BCE')\n",
    "    logger.info(f'\\nLoss Function: BCE')\n",
    "    print(f'Smoke Precision Weight: {config.SMOKE_PRECISION_WEIGHT}')\n",
    "    logger.info(f'Smoke Precision Weight: {config.SMOKE_PRECISION_WEIGHT}')\n",
    "    loss_fn = loss.BCE_LOSS(device=config.DEVICE, smoke_precision_weight=config.SMOKE_PRECISION_WEIGHT)\n",
    "else:\n",
    "    print(\"Wrong loss function\")\n",
    "    logger.info(\"Wrong loss function\")\n",
    "    raise SystemExit(\"Wrong loss function\")"
   ]
  },
  {
   "cell_type": "markdown",
   "id": "d7f25227-bbcd-43e9-a41b-70a324900a21",
   "metadata": {},
   "source": [
    "# Loggers and Plotters for Losses and Metrics"
   ]
  },
  {
   "cell_type": "code",
   "execution_count": 13,
   "id": "bb75d214-f372-4aee-a196-c43276145a66",
   "metadata": {},
   "outputs": [],
   "source": [
    "train_losses_logger = utils.LogLosses()\n",
    "train_metrics_logger = utils.LogMetrics()\n",
    "lr_logger = utils.LogLR(log_path=config.PLOTS_FOLDER)\n",
    "\n",
    "val_losses_logger = utils.LogLosses()\n",
    "val_metrics_logger = utils.LogMetrics()\n",
    "\n",
    "loss_plotter = utils.PlotMetrics(log_path=config.PLOTS_FOLDER, model_name=config.MODEL, loss_or_metric='Loss')\n",
    "metrics_plotter = utils.PlotMetrics(log_path=config.PLOTS_FOLDER, model_name=config.MODEL, loss_or_metric='Metric')"
   ]
  },
  {
   "cell_type": "markdown",
   "id": "80f38d11-6099-48cd-9f95-f5b0be87d804",
   "metadata": {},
   "source": [
    "# Main Function to Train"
   ]
  },
  {
   "cell_type": "code",
   "execution_count": 14,
   "id": "180683fc-5a55-4f1c-9d6e-c8ffa10be16a",
   "metadata": {},
   "outputs": [],
   "source": [
    "def train_loop(model, start_epoch=0, epochs_to_train=config.EPOCHS):\n",
    "\n",
    "    ''' ==============================================================\n",
    "                                TRAINING LOOP\n",
    "    ============================================================== '''\n",
    "    start = datetime.datetime.now()\n",
    "    start_time = start.strftime(\"%H:%M:%S\")\n",
    "    print(f'\\n***Start Training: {start_time}\\n')\n",
    "    logger.info(f'\\n***Start Training: {start_time}\\n')\n",
    "    \n",
    "    # Start with infinite validation loss\n",
    "    best_valid_loss = np.inf\n",
    "    best_smoke_precision = 0. #torch.tensor([0.])\n",
    "    smoke_f1_min_save = 0.9 #torch.tensor([0.9])\n",
    "    best_mean_f1 = 0.\n",
    "\n",
    "    if start_epoch == 0:\n",
    "        epochs_plot = []\n",
    "    else:\n",
    "        epochs_plot = [i for i in range(start_epoch)]    \n",
    "\n",
    "    end_epoch = start_epoch + epochs_to_train\n",
    "        \n",
    "    for epoch in range(start_epoch, end_epoch):\n",
    "\n",
    "        print(f'\\n=== EPOCH {epoch}/{end_epoch-1} ===')\n",
    "        logger.info(f'\\n=== EPOCH {epoch}/{end_epoch-1} ===')\n",
    "        \n",
    "        #====================== TRAINING ========================#\n",
    "        current_lr = train_epoch.get_lr(optimizer=optimizer)\n",
    "        logger.info(f'Learning Rate = {current_lr}\\n')\n",
    "        lr_logger.log_lr(current_lr)\n",
    "                \n",
    "        train_losses, train_metrics = train_epoch.train_fn(\n",
    "            loader=train_loader, \n",
    "            model=model, \n",
    "            optimizer=optimizer, \n",
    "            loss_fn=loss_fn,\n",
    "            device=config.DEVICE)\n",
    "        \n",
    "        train_losses_logger.update_metrics(train_losses)\n",
    "        train_metrics_logger.update_metrics(train_metrics)\n",
    "                \n",
    "        logger.info(utils.print_metrics_to_logger(\"TRAIN Stats\", train_losses, train_metrics))\n",
    "        \n",
    "        #===================== VALIDATING =======================#\n",
    "        with torch.no_grad():\n",
    "            val_losses, val_metrics = val_epoch.eval_fn(\n",
    "                loader=val_loader, \n",
    "                model=model,                         \n",
    "                loss_fn=loss_fn,\n",
    "                device=config.DEVICE)\n",
    "            \n",
    "            scheduler.step(val_losses['Total'])\n",
    "            \n",
    "            val_losses_logger.update_metrics(val_losses)\n",
    "            val_metrics_logger.update_metrics(val_metrics)\n",
    "\n",
    "            logger.info(utils.print_metrics_to_logger(\"VAL Stats\", val_losses, val_metrics))\n",
    "            \n",
    "        epochs_plot.append(epoch)\n",
    "\n",
    "        loss_plotter.plot_all_metrics(\n",
    "            train_losses_logger.get_metrics(),\n",
    "            val_losses_logger.get_metrics(),\n",
    "            epochs_plot)\n",
    "\n",
    "        metrics_plotter.plot_all_metrics(\n",
    "            train_metrics_logger.get_metrics(),\n",
    "            val_metrics_logger.get_metrics(),\n",
    "            epochs_plot)\n",
    "\n",
    "        lr_logger.plot_lr(epochs_plot)\n",
    "        #======================= SAVING =========================#\n",
    "        if ( (epoch+1) % 5 ) == 0:\n",
    "            save_name = config.WEIGHTS_FOLDER + config.MODEL + '_classifier__5epoch.pt'\n",
    "            utils.save_checkpoint(epoch, model, optimizer, scheduler, save_name) \n",
    "            \n",
    "        if best_valid_loss > val_losses['Total']:\n",
    "            best_valid_loss = val_losses['Total']\n",
    "            print(f\"\\nSaving model with new best validation loss: {best_valid_loss:.4f}\")\n",
    "            logger.info(f\"Saving model with new best validation loss: {best_valid_loss:.4f}\")\n",
    "            save_name = config.WEIGHTS_FOLDER + config.MODEL + '_classifier__' + 'best_loss'  + '.pt'\n",
    "            utils.save_checkpoint(epoch, model, optimizer, scheduler, save_name) \n",
    "            if config.BREVITAS_MODEL == True:\n",
    "                save_onnx = config.ONNX_FOLDER + config.MODEL + '_classifier__' + 'best_loss'  #+ '.onnx'\n",
    "                utils.export_onnx(model, (1, config.NUM_CHANNELS, config.IMG_H, config.IMG_W), save_onnx, config.DEVICE)\n",
    "\n",
    "        # # Save model if precision increases and F1 > 0.9\n",
    "        # if ( best_smoke_precision < val_metrics['Precision'][0] ) and ( val_metrics['F1'][0] > smoke_f1_min_save ) :\n",
    "        #     best_smoke_precision = val_metrics['Precision'][0]\n",
    "        #     print(f\"\\nSaving model with new best smoke precision: {best_smoke_precision:.4f}\")\n",
    "        #     logger.info(f\"Saving model with new best smoke precision: {best_smoke_precision:.4f}\")\n",
    "        #     save_precision_name = f'best_smoke__precision={np.round(best_smoke_precision, decimals=4)}__epoch={epoch}'\n",
    "        #     save_name = config.WEIGHTS_FOLDER + config.MODEL + '_classifier__' + save_precision_name + '.pt'\n",
    "        #     utils.save_checkpoint(epoch, model, optimizer, scheduler, save_name)  \n",
    "        #     if config.BREVITAS_MODEL == True:\n",
    "        #         save_onnx = config.ONNX_FOLDER + config.MODEL + '_classifier__' + save_precision_name #+ '.onnx'\n",
    "        #         utils.export_onnx(model, (1, config.NUM_CHANNELS, config.IMG_H, config.IMG_W), save_onnx, config.DEVICE)\n",
    "            \n",
    "        # Save model if precision > 0.9 and recall > 0.9\n",
    "        # if ( val_metrics['Precision'][0] > 0.9 ) and ( val_metrics['Recall'][0] > 0.9 ) :\n",
    "        #     print(\"\\nSaving model with precision > 0.9 and recall > 0.9\")\n",
    "        #     logger.info(\"Saving model with precision > 0.9 and recall > 0.9\")\n",
    "        #     save_pre_name = f'smoke__precision={np.round(val_metrics[\"Precision\"][0], decimals=4)}__' \n",
    "        #     save_rec_name = f'recall={np.round(val_metrics[\"Recall\"][0], decimals=4)}__'\n",
    "        #     save_pre_rec_name = save_pre_name + save_rec_name + f'epoch={epoch}'\n",
    "        #     save_name = config.WEIGHTS_FOLDER + config.MODEL + '_classifier__' + save_pre_rec_name + '.pt'\n",
    "        #     utils.save_checkpoint(epoch, model, optimizer, scheduler, save_name) \n",
    "        #     if config.BREVITAS_MODEL == True:\n",
    "        #         save_onnx = config.ONNX_FOLDER + config.MODEL + '_classifier__' + save_pre_rec_name #+ '.onnx'\n",
    "        #         utils.export_onnx(model, (1, config.NUM_CHANNELS, config.IMG_H, config.IMG_W), save_onnx, config.DEVICE)\n",
    "\n",
    "        # Save model if best mean F1 increases\n",
    "        val_f1_mean = (val_metrics['F1'][0] + val_metrics['F1'][1]) / 2\n",
    "        if (val_f1_mean > best_mean_f1) :\n",
    "            best_mean_f1 = val_f1_mean\n",
    "            print(f'Saving model with best Mean F1: {best_mean_f1:.4f}')\n",
    "            logger.info(f'Saving model with best Mean F1: {best_mean_f1:.4f}')\n",
    "            save_f1_name = 'best_mean_F1'\n",
    "            save_name = config.WEIGHTS_FOLDER + config.MODEL + '_classifier__' + save_f1_name + '.pt'\n",
    "            utils.save_checkpoint(epoch, model, optimizer, scheduler, save_name) \n",
    "            if config.BREVITAS_MODEL == True:\n",
    "                save_onnx = config.ONNX_FOLDER + config.MODEL + '_classifier__' + save_f1_name #+ '.onnx'\n",
    "                utils.export_onnx(model, (1, config.NUM_CHANNELS, config.IMG_H, config.IMG_W), save_onnx, config.DEVICE)\n",
    "        \n",
    "    logger.info('Saving last model')   \n",
    "    torch.save(model.state_dict(), config.WEIGHTS_FOLDER + 'last_' + config.MODEL + '_classifier.pt') \n",
    "    \n",
    "    #======================= FINISH =========================#\n",
    "    end = datetime.datetime.now()\n",
    "    end_time = end.strftime(\"%H:%M:%S\")\n",
    "    print(f'\\n***Script finished: {end_time}\\n')  \n",
    "    print(f'Time elapsed: {end-start}')\n",
    "    logger.info(f'\\n***Script finished: {end_time}\\n')  \n",
    "    logger.info(f'Time elapsed: {end-start}')\n",
    "    \n",
    "    return model"
   ]
  },
  {
   "cell_type": "code",
   "execution_count": 15,
   "id": "70cfebac-da9f-4c54-98da-0fccfdf9c7e4",
   "metadata": {},
   "outputs": [],
   "source": [
    "# print(len(val_losses_logger.total))"
   ]
  },
  {
   "cell_type": "markdown",
   "id": "7eb71ba5-1f21-4a7b-9ebe-6b50a5d38ed8",
   "metadata": {},
   "source": [
    "# Training Loop"
   ]
  },
  {
   "cell_type": "code",
   "execution_count": 16,
   "id": "dd3a8768-03a8-44f3-829f-58045dbfea7b",
   "metadata": {
    "editable": true,
    "slideshow": {
     "slide_type": ""
    },
    "tags": []
   },
   "outputs": [
    {
     "name": "stdout",
     "output_type": "stream",
     "text": [
      "Starting script\n",
      "\n",
      "\n",
      "***Start Training: 19:39:12\n",
      "\n",
      "\n",
      "=== EPOCH 0/2 ===\n",
      "Learning Rate = 0.001\n",
      "\n"
     ]
    },
    {
     "name": "stderr",
     "output_type": "stream",
     "text": [
      "Training: 100%|██████████████████████████████████████████████████████████████████████████████████████████████████████████████████████████████████████████████| 10/10 [00:08<00:00,  1.22it/s]\n"
     ]
    },
    {
     "name": "stdout",
     "output_type": "stream",
     "text": [
      "Total Loss  |Smoke Loss  |Fire Loss   \n",
      "------------ ------------ ------------\n",
      "84.638      |40.739      |43.899      \n",
      "\n"
     ]
    },
    {
     "name": "stderr",
     "output_type": "stream",
     "text": [
      "Validating: 100%|██████████████████████████████████████████████████████████████████████████████████████████████████████████████████████████████████████████████| 6/6 [00:01<00:00,  3.17it/s]\n"
     ]
    },
    {
     "name": "stdout",
     "output_type": "stream",
     "text": [
      "Total Loss  |Smoke Loss  |Fire Loss   \n",
      "------------ ------------ ------------\n",
      "81.673      |39.596      |42.077      \n",
      "SMOKE -> Precision: 0.0000 - Recall: 0.0000 - Accuracy: 0.5104 - F1: 0.0000\n",
      "FIRE -> Precision: 0.0000 - Recall: 0.0000 - Accuracy: 0.6979 - F1: 0.0000\n",
      "\n",
      "Saving model with new best validation loss: 81.6730\n",
      "Model exported to ONNX: experiments_bed_evolution/70_brevitas__230_manual_old_SmallBig__128_ds/onnx/BED_FPGA_230_classifier__best_loss\n",
      "\n",
      "=== EPOCH 1/2 ===\n",
      "Learning Rate = 0.001\n",
      "\n"
     ]
    },
    {
     "name": "stderr",
     "output_type": "stream",
     "text": [
      "Training: 100%|██████████████████████████████████████████████████████████████████████████████████████████████████████████████████████████████████████████████| 10/10 [00:07<00:00,  1.33it/s]\n"
     ]
    },
    {
     "name": "stdout",
     "output_type": "stream",
     "text": [
      "Total Loss  |Smoke Loss  |Fire Loss   \n",
      "------------ ------------ ------------\n",
      "74.411      |38.775      |35.636      \n",
      "\n"
     ]
    },
    {
     "name": "stderr",
     "output_type": "stream",
     "text": [
      "Validating: 100%|██████████████████████████████████████████████████████████████████████████████████████████████████████████████████████████████████████████████| 6/6 [00:01<00:00,  3.16it/s]\n"
     ]
    },
    {
     "name": "stdout",
     "output_type": "stream",
     "text": [
      "Total Loss  |Smoke Loss  |Fire Loss   \n",
      "------------ ------------ ------------\n",
      "80.654      |40.001      |40.654      \n",
      "SMOKE -> Precision: 0.0000 - Recall: 0.0000 - Accuracy: 0.5104 - F1: 0.0000\n",
      "FIRE -> Precision: 0.0000 - Recall: 0.0000 - Accuracy: 0.6979 - F1: 0.0000\n",
      "\n",
      "Saving model with new best validation loss: 80.6543\n",
      "Model exported to ONNX: experiments_bed_evolution/70_brevitas__230_manual_old_SmallBig__128_ds/onnx/BED_FPGA_230_classifier__best_loss\n",
      "\n",
      "=== EPOCH 2/2 ===\n",
      "Learning Rate = 0.001\n",
      "\n"
     ]
    },
    {
     "name": "stderr",
     "output_type": "stream",
     "text": [
      "Training: 100%|██████████████████████████████████████████████████████████████████████████████████████████████████████████████████████████████████████████████| 10/10 [00:08<00:00,  1.23it/s]\n"
     ]
    },
    {
     "name": "stdout",
     "output_type": "stream",
     "text": [
      "Total Loss  |Smoke Loss  |Fire Loss   \n",
      "------------ ------------ ------------\n",
      "68.867      |37.784      |31.083      \n",
      "\n"
     ]
    },
    {
     "name": "stderr",
     "output_type": "stream",
     "text": [
      "Validating: 100%|██████████████████████████████████████████████████████████████████████████████████████████████████████████████████████████████████████████████| 6/6 [00:01<00:00,  3.14it/s]\n"
     ]
    },
    {
     "name": "stdout",
     "output_type": "stream",
     "text": [
      "Total Loss  |Smoke Loss  |Fire Loss   \n",
      "------------ ------------ ------------\n",
      "80.244      |41.026      |39.218      \n",
      "SMOKE -> Precision: 0.4896 - Recall: 1.0000 - Accuracy: 0.4896 - F1: 0.6573\n",
      "FIRE -> Precision: 0.0000 - Recall: 0.0000 - Accuracy: 0.6979 - F1: 0.0000\n",
      "\n",
      "Saving model with new best validation loss: 80.2439\n",
      "Model exported to ONNX: experiments_bed_evolution/70_brevitas__230_manual_old_SmallBig__128_ds/onnx/BED_FPGA_230_classifier__best_loss\n",
      "Saving model with best Mean F1: 0.3287\n",
      "Model exported to ONNX: experiments_bed_evolution/70_brevitas__230_manual_old_SmallBig__128_ds/onnx/BED_FPGA_230_classifier__best_mean_F1\n",
      "\n",
      "***Script finished: 19:39:46\n",
      "\n",
      "Time elapsed: 0:00:33.570722\n"
     ]
    }
   ],
   "source": [
    "if __name__ == \"__main__\":\n",
    "    \n",
    "    print(\"Starting script\\n\")\n",
    "    logger.info(\"Starting script\\n\")\n",
    "    \n",
    "    model = train_loop(model)"
   ]
  },
  {
   "cell_type": "markdown",
   "id": "56d1f2a9-a762-45aa-bcf8-87b99a3c0a03",
   "metadata": {
    "jp-MarkdownHeadingCollapsed": true
   },
   "source": [
    "### Train MORE"
   ]
  },
  {
   "cell_type": "code",
   "execution_count": 17,
   "id": "bb0eaad5-d3f2-48e4-9922-505d025372b7",
   "metadata": {},
   "outputs": [],
   "source": [
    "# if __name__ == \"__main__\":\n",
    "    \n",
    "#     print(\"Train More script\\n\")\n",
    "#     logger.info(\"Train More\\n\")\n",
    "    \n",
    "#     model = train_loop(model, start_epoch=100, epochs_to_train=50)"
   ]
  },
  {
   "cell_type": "markdown",
   "id": "6e5e0386-520e-4452-a4bd-217a39e3478f",
   "metadata": {},
   "source": [
    "# Test with DFire MINI Dataset: Train and Test"
   ]
  },
  {
   "cell_type": "code",
   "execution_count": 18,
   "id": "1c7cc77c-6bdf-4d83-9358-61038a8b23bb",
   "metadata": {},
   "outputs": [
    {
     "name": "stdout",
     "output_type": "stream",
     "text": [
      "\n",
      "====================\n",
      "TRAIN DFire MINI dataset\n",
      "DFire Removed wrong images: 0\n",
      "DFire empty images: 20\n",
      "DFire only smoke images: 45\n",
      "DFire only fire images: 5\n",
      "DFire smoke and fire images: 30\n",
      "\n",
      "Test dataset len: 100\n",
      "\n",
      "====================\n",
      "TEST DFire MINI dataset\n",
      "DFire Removed wrong images: 0\n",
      "DFire empty images: 6\n",
      "DFire only smoke images: 13\n",
      "DFire only fire images: 2\n",
      "DFire smoke and fire images: 9\n",
      "\n",
      "Test dataset len: 30\n"
     ]
    }
   ],
   "source": [
    "train_dfire_mini_loader = dataloaders.get_dfire_mini_train_loader()\n",
    "test_dfire_mini_loader = dataloaders.get_dfire_mini_test_loader()"
   ]
  },
  {
   "cell_type": "markdown",
   "id": "46c18474-8bc6-4f26-9479-529412e9c71d",
   "metadata": {},
   "source": [
    "### Load Checkpoint with Best F1 Mean"
   ]
  },
  {
   "cell_type": "code",
   "execution_count": 19,
   "id": "b517a297-edea-4d37-9e5b-90ca2512c9e7",
   "metadata": {},
   "outputs": [],
   "source": [
    "model_path = config.WEIGHTS_FOLDER + config.MODEL + '_classifier__best_mean_F1.pt'"
   ]
  },
  {
   "cell_type": "code",
   "execution_count": 20,
   "id": "9b0959a9-9b84-4fd6-85a3-67fb519f6b10",
   "metadata": {},
   "outputs": [
    {
     "name": "stdout",
     "output_type": "stream",
     "text": [
      "Loading Model. Trained during 2 epochs\n"
     ]
    },
    {
     "data": {
      "text/plain": [
       "2"
      ]
     },
     "execution_count": 20,
     "metadata": {},
     "output_type": "execute_result"
    }
   ],
   "source": [
    "utils.load_checkpoint(\n",
    "    model_path, \n",
    "    model=model, \n",
    "    optimizer=optimizer, \n",
    "    scheduler=scheduler, \n",
    "    device=config.DEVICE)"
   ]
  },
  {
   "cell_type": "markdown",
   "id": "c8eb53e5-0b75-4bb0-8f45-d2e104d25a13",
   "metadata": {},
   "source": [
    "### Whole Test Loader, to check it is the same as training"
   ]
  },
  {
   "cell_type": "code",
   "execution_count": 21,
   "id": "9c1ae050-a816-407d-9569-5e5b6f84af6b",
   "metadata": {},
   "outputs": [
    {
     "name": "stderr",
     "output_type": "stream",
     "text": [
      "Validating: 100%|██████████████████████████████████████████████████████████████████████████████████████████████████████████████████████████████████████████████| 6/6 [00:01<00:00,  3.12it/s]"
     ]
    },
    {
     "name": "stdout",
     "output_type": "stream",
     "text": [
      "Total Loss  |Smoke Loss  |Fire Loss   \n",
      "------------ ------------ ------------\n",
      "80.244      |41.026      |39.218      \n",
      "SMOKE -> Precision: 0.4896 - Recall: 1.0000 - Accuracy: 0.4896 - F1: 0.6573\n",
      "FIRE -> Precision: 0.0000 - Recall: 0.0000 - Accuracy: 0.6979 - F1: 0.0000\n"
     ]
    },
    {
     "name": "stderr",
     "output_type": "stream",
     "text": [
      "\n"
     ]
    }
   ],
   "source": [
    "with torch.no_grad():\n",
    "    val_losses, val_metrics = val_epoch.eval_fn(\n",
    "        loader=val_loader, \n",
    "        model=model,                         \n",
    "        loss_fn=loss_fn,\n",
    "        device=config.DEVICE)"
   ]
  },
  {
   "cell_type": "code",
   "execution_count": 22,
   "id": "bf582d94-1848-4729-8816-86f1211e9904",
   "metadata": {},
   "outputs": [],
   "source": [
    "logger.info('\\nTesting with FULL TEST LOADER')  \n",
    "#logger.info(val_losses)\n",
    "logger.info(val_metrics)"
   ]
  },
  {
   "cell_type": "markdown",
   "id": "36662803-7b09-4c43-9e14-5045635f86ab",
   "metadata": {},
   "source": [
    "### Train DFire MINI"
   ]
  },
  {
   "cell_type": "code",
   "execution_count": 23,
   "id": "d40dff6c-50a6-4fa9-af36-496730a81fab",
   "metadata": {},
   "outputs": [
    {
     "name": "stderr",
     "output_type": "stream",
     "text": [
      "Validating: 100%|██████████████████████████████████████████████████████████████████████████████████████████████████████████████████████████████████████████| 100/100 [00:01<00:00, 81.55it/s]"
     ]
    },
    {
     "name": "stdout",
     "output_type": "stream",
     "text": [
      "Total Loss  |Smoke Loss  |Fire Loss   \n",
      "------------ ------------ ------------\n",
      "1.217       |0.562       |0.655       \n",
      "SMOKE -> Precision: 0.7500 - Recall: 1.0000 - Accuracy: 0.7500 - F1: 0.8571\n",
      "FIRE -> Precision: 0.0000 - Recall: 0.0000 - Accuracy: 0.6500 - F1: 0.0000\n"
     ]
    },
    {
     "name": "stderr",
     "output_type": "stream",
     "text": [
      "\n"
     ]
    }
   ],
   "source": [
    "with torch.no_grad():\n",
    "    val_losses, val_metrics = val_epoch.eval_fn(\n",
    "        loader=train_dfire_mini_loader, \n",
    "        model=model,                         \n",
    "        loss_fn=loss_fn,\n",
    "        device=config.DEVICE)"
   ]
  },
  {
   "cell_type": "code",
   "execution_count": 24,
   "id": "9f864d7c-7da2-4c7c-b99a-f1943d722b13",
   "metadata": {},
   "outputs": [],
   "source": [
    "logger.info('\\nTesting with DFire MINI TRAIN after LOADING F1 Best Mean CHECKPOINT')  \n",
    "#logger.info(val_losses)\n",
    "logger.info(val_metrics)"
   ]
  },
  {
   "cell_type": "markdown",
   "id": "17c77cd9-05ef-4771-8707-82ba5f16ef0c",
   "metadata": {},
   "source": [
    "### Test DFire MINI"
   ]
  },
  {
   "cell_type": "code",
   "execution_count": 25,
   "id": "2c237df0-9726-42e9-8ebe-d738948fb047",
   "metadata": {},
   "outputs": [
    {
     "name": "stderr",
     "output_type": "stream",
     "text": [
      "Validating: 100%|████████████████████████████████████████████████████████████████████████████████████████████████████████████████████████████████████████████| 30/30 [00:00<00:00, 70.85it/s]"
     ]
    },
    {
     "name": "stdout",
     "output_type": "stream",
     "text": [
      "Total Loss  |Smoke Loss  |Fire Loss   \n",
      "------------ ------------ ------------\n",
      "1.230       |0.563       |0.667       \n",
      "SMOKE -> Precision: 0.7333 - Recall: 1.0000 - Accuracy: 0.7333 - F1: 0.8462\n",
      "FIRE -> Precision: 0.0000 - Recall: 0.0000 - Accuracy: 0.6333 - F1: 0.0000\n"
     ]
    },
    {
     "name": "stderr",
     "output_type": "stream",
     "text": [
      "\n"
     ]
    }
   ],
   "source": [
    "with torch.no_grad():\n",
    "    val_losses, val_metrics = val_epoch.eval_fn(\n",
    "        loader=test_dfire_mini_loader, \n",
    "        model=model,                         \n",
    "        loss_fn=loss_fn,\n",
    "        device=config.DEVICE)"
   ]
  },
  {
   "cell_type": "code",
   "execution_count": 26,
   "id": "06fdf6f8-b716-4ee3-a29a-ea9972387cd8",
   "metadata": {},
   "outputs": [],
   "source": [
    "logger.info('\\nTesting with DFire MINI TEST after LOADING F1 Best Mean CHECKPOINT')  \n",
    "#logger.info(val_losses)\n",
    "logger.info(val_metrics)"
   ]
  },
  {
   "cell_type": "markdown",
   "id": "32e7e65c-f132-4cd2-bf11-8bc040f8c71d",
   "metadata": {},
   "source": [
    "# Convert the Model to BIPOLAR OUT"
   ]
  },
  {
   "cell_type": "code",
   "execution_count": 27,
   "id": "f15e359d-ec85-483b-96e3-d265ce7ec4db",
   "metadata": {},
   "outputs": [],
   "source": [
    "import brevitas.nn as qnn\n",
    "import torch.nn as nn"
   ]
  },
  {
   "cell_type": "code",
   "execution_count": 28,
   "id": "473783b9-254b-40ff-b67f-a4818f531e29",
   "metadata": {},
   "outputs": [],
   "source": [
    "class CNV_BIPOLAR_OUT(nn.Module):\n",
    "    def __init__(self, base_model):\n",
    "        super(CNV_BIPOLAR_OUT, self).__init__()\n",
    "        self.base_model = base_model\n",
    "        self.qnt_output = qnn.QuantIdentity(\n",
    "            quant_type='binary', \n",
    "            scaling_impl_type='const',\n",
    "            bit_width=1, min_val=-1.0, max_val=1.0)\n",
    "\n",
    "    def forward(self, x):\n",
    "        x = self.base_model(x)\n",
    "        x = self.qnt_output(x)\n",
    "        return x"
   ]
  },
  {
   "cell_type": "code",
   "execution_count": 29,
   "id": "c2314ef9-10ab-42ad-b61c-122ae49cf5ce",
   "metadata": {},
   "outputs": [],
   "source": [
    "cnv_bipolar_out = CNV_BIPOLAR_OUT(model).to(config.DEVICE)"
   ]
  },
  {
   "cell_type": "markdown",
   "id": "493f850e-5904-45b9-b9cc-08e4a06edaa3",
   "metadata": {},
   "source": [
    "### New Evaluation for BIPOLAR Out Model"
   ]
  },
  {
   "cell_type": "code",
   "execution_count": 30,
   "id": "cffbe14b-9375-4ed0-8355-546e5ed7d3fa",
   "metadata": {},
   "outputs": [],
   "source": [
    "from tqdm import tqdm\n",
    "\n",
    "def eval_bipolar_fn(loader, model, device):\n",
    "    \n",
    "    model.eval()\n",
    "    loop = tqdm(loader, desc='Validating', leave=True)\n",
    "\n",
    "    for batch_idx, (x, y) in enumerate(loop):\n",
    "        x, y = x.to(device), y.to(device)\n",
    "        yhat = model(x)\n",
    "\n",
    "        # print(y.shape)\n",
    "        # print(yhat.shape)\n",
    "        \n",
    "        yhat[yhat < 1] = 0\n",
    "    \n",
    "        metrics.precision_metric.update(yhat, y)\n",
    "        metrics.recall_metric.update(yhat, y)\n",
    "        metrics.accuracy_metric.update(yhat, y)\n",
    "        metrics.f1_metric.update(yhat, y)\n",
    "   \n",
    "    precision = metrics.precision_metric.compute()\n",
    "    recall = metrics.recall_metric.compute()\n",
    "    accuracy = metrics.accuracy_metric.compute()\n",
    "    f1 = metrics.f1_metric.compute()\n",
    "    \n",
    "    metrics.precision_metric.reset()\n",
    "    metrics.recall_metric.reset()\n",
    "    metrics.accuracy_metric.reset()\n",
    "    metrics.f1_metric.reset()\n",
    "\n",
    "    print(f'SMOKE -> Precision: {precision[0]:.4f} - Recall: {recall[0]:.4f} - Accuracy: {accuracy[0]:.4f} - F1: {f1[0]:.4f}')\n",
    "    print(f'FIRE -> Precision: {precision[1]:.4f} - Recall: {recall[1]:.4f} - Accuracy: {accuracy[1]:.4f} - F1: {f1[1]:.4f}')\n",
    "    \n",
    "    return (\n",
    "        {\n",
    "        'Accuracy': [accuracy[0].item(), accuracy[1].item()],\n",
    "        'Precision': [precision[0].item(), precision[1].item()],\n",
    "        'Recall': [recall[0].item(), recall[1].item()],\n",
    "        'F1': [f1[0].item(), f1[1].item()] \n",
    "        }\n",
    "    )"
   ]
  },
  {
   "cell_type": "markdown",
   "id": "f84a61d0-0d29-4776-84d3-3d521ed01a66",
   "metadata": {},
   "source": [
    "### Full DS"
   ]
  },
  {
   "cell_type": "code",
   "execution_count": 31,
   "id": "513edc21-1e27-4d6c-b130-a7d30cffb885",
   "metadata": {},
   "outputs": [
    {
     "name": "stderr",
     "output_type": "stream",
     "text": [
      "Validating: 100%|██████████████████████████████████████████████████████████████████████████████████████████████████████████████████████████████████████████████| 6/6 [00:01<00:00,  3.11it/s]"
     ]
    },
    {
     "name": "stdout",
     "output_type": "stream",
     "text": [
      "SMOKE -> Precision: 0.4896 - Recall: 1.0000 - Accuracy: 0.4896 - F1: 0.6573\n",
      "FIRE -> Precision: 0.0000 - Recall: 0.0000 - Accuracy: 0.6979 - F1: 0.0000\n"
     ]
    },
    {
     "name": "stderr",
     "output_type": "stream",
     "text": [
      "\n"
     ]
    }
   ],
   "source": [
    "cnv_bipolar_out.eval()\n",
    "with torch.no_grad():\n",
    "    val_metrics = eval_bipolar_fn(\n",
    "        loader=val_loader, \n",
    "        model=cnv_bipolar_out,                         \n",
    "        device=config.DEVICE)"
   ]
  },
  {
   "cell_type": "markdown",
   "id": "6b9069b1-1d40-462e-9c97-347d412b106a",
   "metadata": {},
   "source": [
    "### Mini Train"
   ]
  },
  {
   "cell_type": "code",
   "execution_count": 32,
   "id": "c2dfba24-25b5-47c2-a7b6-735472b3ed40",
   "metadata": {},
   "outputs": [
    {
     "name": "stderr",
     "output_type": "stream",
     "text": [
      "Validating: 100%|██████████████████████████████████████████████████████████████████████████████████████████████████████████████████████████████████████████| 100/100 [00:01<00:00, 82.83it/s]"
     ]
    },
    {
     "name": "stdout",
     "output_type": "stream",
     "text": [
      "SMOKE -> Precision: 0.7500 - Recall: 1.0000 - Accuracy: 0.7500 - F1: 0.8571\n",
      "FIRE -> Precision: 0.0000 - Recall: 0.0000 - Accuracy: 0.6500 - F1: 0.0000\n"
     ]
    },
    {
     "name": "stderr",
     "output_type": "stream",
     "text": [
      "\n"
     ]
    }
   ],
   "source": [
    "with torch.no_grad():\n",
    "    val_metrics = eval_bipolar_fn(\n",
    "        loader=train_dfire_mini_loader, \n",
    "        model=cnv_bipolar_out,                         \n",
    "        device=config.DEVICE)"
   ]
  },
  {
   "cell_type": "markdown",
   "id": "23ebed5c-63bc-452f-9921-8cd95819464b",
   "metadata": {},
   "source": [
    "### Mini Test"
   ]
  },
  {
   "cell_type": "code",
   "execution_count": 33,
   "id": "c382be4b-69ad-4942-83bc-6c8bfb99564e",
   "metadata": {},
   "outputs": [
    {
     "name": "stderr",
     "output_type": "stream",
     "text": [
      "Validating: 100%|████████████████████████████████████████████████████████████████████████████████████████████████████████████████████████████████████████████| 30/30 [00:00<00:00, 72.67it/s]"
     ]
    },
    {
     "name": "stdout",
     "output_type": "stream",
     "text": [
      "SMOKE -> Precision: 0.7333 - Recall: 1.0000 - Accuracy: 0.7333 - F1: 0.8462\n",
      "FIRE -> Precision: 0.0000 - Recall: 0.0000 - Accuracy: 0.6333 - F1: 0.0000\n"
     ]
    },
    {
     "name": "stderr",
     "output_type": "stream",
     "text": [
      "\n"
     ]
    }
   ],
   "source": [
    "with torch.no_grad():\n",
    "    val_metrics = eval_bipolar_fn(\n",
    "        loader=test_dfire_mini_loader, \n",
    "        model=cnv_bipolar_out,                         \n",
    "        device=config.DEVICE)"
   ]
  },
  {
   "cell_type": "markdown",
   "id": "13f30466-81f7-49a0-a34a-01a156df9a55",
   "metadata": {},
   "source": [
    "# Export Bipolar to QONNX"
   ]
  },
  {
   "cell_type": "code",
   "execution_count": 34,
   "id": "fbde75e8-45af-49e5-b8a5-2e1fff6be869",
   "metadata": {
    "editable": true,
    "slideshow": {
     "slide_type": ""
    },
    "tags": []
   },
   "outputs": [
    {
     "name": "stdout",
     "output_type": "stream",
     "text": [
      "Model exported to ONNX: experiments_bed_evolution/70_brevitas__230_manual_old_SmallBig__128_ds/onnx/BED_FPGA_230_classifier__best_mean_F1__BIPOLAR_Out\n"
     ]
    }
   ],
   "source": [
    "save_f1_name = 'best_mean_F1'\n",
    "save_bipolar_onnx = config.ONNX_FOLDER + config.MODEL + '_classifier__' + save_f1_name + '__BIPOLAR_Out'\n",
    "utils.export_onnx(cnv_bipolar_out, (1, config.NUM_CHANNELS, config.IMG_H, config.IMG_W), save_bipolar_onnx, config.DEVICE)"
   ]
  },
  {
   "cell_type": "code",
   "execution_count": null,
   "id": "3942d5f2-f894-49ae-aac4-5f44911b7a30",
   "metadata": {},
   "outputs": [],
   "source": []
  }
 ],
 "metadata": {
  "kernelspec": {
   "display_name": "Python 3 (ipykernel)",
   "language": "python",
   "name": "python3"
  },
  "language_info": {
   "codemirror_mode": {
    "name": "ipython",
    "version": 3
   },
   "file_extension": ".py",
   "mimetype": "text/x-python",
   "name": "python",
   "nbconvert_exporter": "python",
   "pygments_lexer": "ipython3",
   "version": "3.10.9"
  }
 },
 "nbformat": 4,
 "nbformat_minor": 5
}
