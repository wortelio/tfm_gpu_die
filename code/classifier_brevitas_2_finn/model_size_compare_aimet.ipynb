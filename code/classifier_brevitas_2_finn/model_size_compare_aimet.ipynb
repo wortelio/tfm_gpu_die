{
 "cells": [
  {
   "cell_type": "code",
   "execution_count": 2,
   "id": "4717c77b-ad18-4fe8-9f0f-1838227709ee",
   "metadata": {},
   "outputs": [],
   "source": [
    "import copy\n",
    "import matplotlib.pyplot as plt\n",
    "import matplotlib as mpl\n",
    "import numpy as np"
   ]
  },
  {
   "cell_type": "markdown",
   "id": "aa673846-86f2-4137-9437-5ee915fbf894",
   "metadata": {},
   "source": [
    "# Define Matplot Style"
   ]
  },
  {
   "cell_type": "code",
   "execution_count": 3,
   "id": "30d74a5b-c7dc-48c1-b2c3-787e567128e8",
   "metadata": {},
   "outputs": [],
   "source": [
    "# mpl.style.use('seaborn-v0_8')\n",
    "#mpl.style.use('seaborn-v0_8-bright')\n",
    "#mpl.style.use('ggplot')"
   ]
  },
  {
   "cell_type": "markdown",
   "id": "e96c239b-01a9-48da-a02d-4a07c6d7b219",
   "metadata": {},
   "source": [
    "# Model Definition"
   ]
  },
  {
   "cell_type": "markdown",
   "id": "777653bb-f73b-4c6f-b30b-c5d0413e4904",
   "metadata": {},
   "source": [
    "### Original FP32 Model"
   ]
  },
  {
   "cell_type": "code",
   "execution_count": 4,
   "id": "4f7f62d1-0a10-4898-aca0-1ee88fb506fa",
   "metadata": {},
   "outputs": [],
   "source": [
    "model = {\n",
    "    'conv1' : {\n",
    "        'in': 3,\n",
    "        'out': 32,\n",
    "        'kernel': 3,\n",
    "        'layer_size': 'small',\n",
    "        'is_bias': False\n",
    "    },\n",
    "    'conv2' : {\n",
    "        'in': 32,\n",
    "        'out': 16,\n",
    "        'kernel': 3,\n",
    "        'layer_size': 'small',\n",
    "        'is_bias': False\n",
    "    },\n",
    "    'conv31' : {\n",
    "        'in': 16,\n",
    "        'out': 16,\n",
    "        'kernel': 1,\n",
    "        'layer_size': 'small',\n",
    "        'is_bias': False\n",
    "    },\n",
    "    'conv32' : {\n",
    "        'in': 16,\n",
    "        'out': 32,\n",
    "        'kernel': 3,\n",
    "        'layer_size': 'small',\n",
    "        'is_bias': False\n",
    "    },\n",
    "    'conv33' : {\n",
    "        'in': 32,\n",
    "        'out': 32,\n",
    "        'kernel': 1,\n",
    "        'layer_size': 'small',\n",
    "        'is_bias': False\n",
    "    },\n",
    "    'conv34' : {\n",
    "        'in': 32,\n",
    "        'out': 64,\n",
    "        'kernel': 3,\n",
    "        'layer_size': 'big',\n",
    "        'is_bias': False\n",
    "    },\n",
    "    'conv41' : {\n",
    "        'in': 64,\n",
    "        'out': 32,\n",
    "        'kernel': 1,\n",
    "        'layer_size': 'small',\n",
    "        'is_bias': False\n",
    "    },\n",
    "    'conv42' : {\n",
    "        'in': 32,\n",
    "        'out': 64,\n",
    "        'kernel': 3,\n",
    "        'layer_size': 'big',\n",
    "        'is_bias': False\n",
    "    },\n",
    "    'conv43' : {\n",
    "        'in': 64,\n",
    "        'out': 32,\n",
    "        'kernel': 1,\n",
    "        'layer_size': 'small',\n",
    "        'is_bias': False\n",
    "    },\n",
    "    'conv44' : {\n",
    "        'in': 32,\n",
    "        'out': 64,\n",
    "        'kernel': 3,\n",
    "        'layer_size': 'big',\n",
    "        'is_bias': False\n",
    "    },\n",
    "    'conv45' : {\n",
    "        'in': 64,\n",
    "        'out': 32,\n",
    "        'kernel': 1,\n",
    "        'layer_size': 'small',\n",
    "        'is_bias': False\n",
    "    },\n",
    "    'conv46' : {\n",
    "        'in': 32,\n",
    "        'out': 64,\n",
    "        'kernel': 3,\n",
    "        'layer_size': 'big',\n",
    "        'is_bias': False\n",
    "    },\n",
    "    'linear51' : {\n",
    "        'in': 64,\n",
    "        'out': 16,\n",
    "        'layer_size': 'small'\n",
    "    },\n",
    "    'linear52' : {\n",
    "        'in': 16,\n",
    "        'out': 2,\n",
    "        'layer_size': 'small'\n",
    "    }\n",
    "}"
   ]
  },
  {
   "cell_type": "markdown",
   "id": "212709c9-4d40-4e65-8a92-2b845d549372",
   "metadata": {},
   "source": [
    "### Pruning after SVD HIGH"
   ]
  },
  {
   "cell_type": "code",
   "execution_count": 5,
   "id": "023e8966-7137-44e1-bd26-a7146fa4ed02",
   "metadata": {},
   "outputs": [],
   "source": [
    "model_HIGH_cp_after_svd = {\n",
    "    'conv1' : {\n",
    "        'in': 3,\n",
    "        'out': 24,\n",
    "        'kernel': 3,\n",
    "        'layer_size': 'small',\n",
    "        'is_bias': False\n",
    "    },\n",
    "    'conv20' : {\n",
    "        'in': 24,\n",
    "        'out': 8,\n",
    "        'kernel': (3, 1),\n",
    "        'layer_size': 'small',\n",
    "        'is_bias': False\n",
    "    },\n",
    "    'conv21' : {\n",
    "        'in': 8,\n",
    "        'out': 16,\n",
    "        'kernel': (1, 3),\n",
    "        'layer_size': 'small',\n",
    "        'is_bias': False\n",
    "    },\n",
    "    'conv31' : {\n",
    "        'in': 16,\n",
    "        'out': 16,\n",
    "        'kernel': 1,\n",
    "        'layer_size': 'small',\n",
    "        'is_bias': False\n",
    "    },\n",
    "    'conv320' : {\n",
    "        'in': 16,\n",
    "        'out': 16,\n",
    "        'kernel': (3, 1),\n",
    "        'layer_size': 'small',\n",
    "        'is_bias': False\n",
    "    },\n",
    "    'conv321' : {\n",
    "        'in': 16,\n",
    "        'out': 32,\n",
    "        'kernel': (1, 3),\n",
    "        'layer_size': 'small',\n",
    "        'is_bias': False\n",
    "    },\n",
    "    'conv33' : {\n",
    "        'in': 32,\n",
    "        'out': 32,\n",
    "        'kernel': 1,\n",
    "        'layer_size': 'small',\n",
    "        'is_bias': False,\n",
    "    },\n",
    "    'conv340' : {\n",
    "        'in': 32,\n",
    "        'out': 32,\n",
    "        'kernel': (3, 1),\n",
    "        'layer_size': 'small',\n",
    "        'is_bias': False\n",
    "    },\n",
    "    'conv341' : {\n",
    "        'in': 32,\n",
    "        'out': 64,\n",
    "        'kernel': (1, 3),\n",
    "        'layer_size': 'big',\n",
    "        'is_bias': False\n",
    "    },\n",
    "    'conv41' : {\n",
    "        'in': 64,\n",
    "        'out': 32,\n",
    "        'kernel': 1,\n",
    "        'layer_size': 'small',\n",
    "        'is_bias': True\n",
    "    },\n",
    "    'conv42' : {\n",
    "        'in': 32,\n",
    "        'out': 64,\n",
    "        'kernel': 3,\n",
    "        'layer_size': 'big',\n",
    "        'is_bias': True\n",
    "    },\n",
    "    'conv43' : {\n",
    "        'in': 64,\n",
    "        'out': 32,\n",
    "        'kernel': 1,\n",
    "        'layer_size': 'small',\n",
    "        'is_bias': True\n",
    "    },\n",
    "    'conv440' : {\n",
    "        'in': 32,\n",
    "        'out': 48,\n",
    "        'kernel': (3, 1),\n",
    "        'layer_size': 'small',\n",
    "        'is_bias': False\n",
    "    },\n",
    "    'conv441' : {\n",
    "        'in': 48,\n",
    "        'out': 64,\n",
    "        'kernel': (1, 3),\n",
    "        'layer_size': 'big',\n",
    "        'is_bias': False\n",
    "    },\n",
    "    'conv45' : {\n",
    "        'in': 64,\n",
    "        'out': 32,\n",
    "        'kernel': 1,\n",
    "        'layer_size': 'small',\n",
    "        'is_bias': False\n",
    "    },\n",
    "    'conv460' : {\n",
    "        'in': 32,\n",
    "        'out': 16,\n",
    "        'kernel': (3, 1),\n",
    "        'layer_size': 'small',\n",
    "        'is_bias': False\n",
    "    },\n",
    "    'conv461' : {\n",
    "        'in':16,\n",
    "        'out': 64,\n",
    "        'kernel': (1, 3),\n",
    "        'layer_size': 'small',\n",
    "        'is_bias': True\n",
    "    },\n",
    "    'linear51' : {\n",
    "        'in': 64,\n",
    "        'out': 16,\n",
    "        'layer_size': 'small'\n",
    "    },\n",
    "    'linear52' : {\n",
    "        'in': 16,\n",
    "        'out': 2,\n",
    "        'layer_size': 'small'\n",
    "    }\n",
    "}"
   ]
  },
  {
   "cell_type": "markdown",
   "id": "f7a306c9-5d27-42bf-8c77-748229899119",
   "metadata": {},
   "source": [
    "# Print Model"
   ]
  },
  {
   "cell_type": "code",
   "execution_count": 6,
   "id": "0614572c-6bed-456d-9747-b919e5ebd081",
   "metadata": {},
   "outputs": [],
   "source": [
    "def print_model(model_dic):\n",
    "    for k in model_dic.keys():\n",
    "        print(k)\n",
    "        for kin, v in model_dic[k].items():\n",
    "            print(f'\\t{kin:<15}: ' + str(v).rjust(8))"
   ]
  },
  {
   "cell_type": "markdown",
   "id": "3939a0d0-2812-4ac7-8f02-4cb0d098bc01",
   "metadata": {},
   "source": [
    "### Original FP32 model, no SVD, no Pruning"
   ]
  },
  {
   "cell_type": "code",
   "execution_count": 7,
   "id": "ad32bcdd-68be-4aa8-b212-26540bb28895",
   "metadata": {},
   "outputs": [
    {
     "name": "stdout",
     "output_type": "stream",
     "text": [
      "conv1\n",
      "\tin             :        3\n",
      "\tout            :       32\n",
      "\tkernel         :        3\n",
      "\tlayer_size     :    small\n",
      "\tis_bias        :    False\n",
      "conv2\n",
      "\tin             :       32\n",
      "\tout            :       16\n",
      "\tkernel         :        3\n",
      "\tlayer_size     :    small\n",
      "\tis_bias        :    False\n",
      "conv31\n",
      "\tin             :       16\n",
      "\tout            :       16\n",
      "\tkernel         :        1\n",
      "\tlayer_size     :    small\n",
      "\tis_bias        :    False\n",
      "conv32\n",
      "\tin             :       16\n",
      "\tout            :       32\n",
      "\tkernel         :        3\n",
      "\tlayer_size     :    small\n",
      "\tis_bias        :    False\n",
      "conv33\n",
      "\tin             :       32\n",
      "\tout            :       32\n",
      "\tkernel         :        1\n",
      "\tlayer_size     :    small\n",
      "\tis_bias        :    False\n",
      "conv34\n",
      "\tin             :       32\n",
      "\tout            :       64\n",
      "\tkernel         :        3\n",
      "\tlayer_size     :      big\n",
      "\tis_bias        :    False\n",
      "conv41\n",
      "\tin             :       64\n",
      "\tout            :       32\n",
      "\tkernel         :        1\n",
      "\tlayer_size     :    small\n",
      "\tis_bias        :    False\n",
      "conv42\n",
      "\tin             :       32\n",
      "\tout            :       64\n",
      "\tkernel         :        3\n",
      "\tlayer_size     :      big\n",
      "\tis_bias        :    False\n",
      "conv43\n",
      "\tin             :       64\n",
      "\tout            :       32\n",
      "\tkernel         :        1\n",
      "\tlayer_size     :    small\n",
      "\tis_bias        :    False\n",
      "conv44\n",
      "\tin             :       32\n",
      "\tout            :       64\n",
      "\tkernel         :        3\n",
      "\tlayer_size     :      big\n",
      "\tis_bias        :    False\n",
      "conv45\n",
      "\tin             :       64\n",
      "\tout            :       32\n",
      "\tkernel         :        1\n",
      "\tlayer_size     :    small\n",
      "\tis_bias        :    False\n",
      "conv46\n",
      "\tin             :       32\n",
      "\tout            :       64\n",
      "\tkernel         :        3\n",
      "\tlayer_size     :      big\n",
      "\tis_bias        :    False\n",
      "linear51\n",
      "\tin             :       64\n",
      "\tout            :       16\n",
      "\tlayer_size     :    small\n",
      "linear52\n",
      "\tin             :       16\n",
      "\tout            :        2\n",
      "\tlayer_size     :    small\n"
     ]
    }
   ],
   "source": [
    "print_model(model)"
   ]
  },
  {
   "cell_type": "markdown",
   "id": "94000890-647b-483b-8d7e-a6c061ea9068",
   "metadata": {},
   "source": [
    "### High SVD and Pruning"
   ]
  },
  {
   "cell_type": "code",
   "execution_count": 8,
   "id": "d05e8f4c-724f-4928-88d3-a733ccfef49b",
   "metadata": {},
   "outputs": [
    {
     "name": "stdout",
     "output_type": "stream",
     "text": [
      "conv1\n",
      "\tin             :        3\n",
      "\tout            :       24\n",
      "\tkernel         :        3\n",
      "\tlayer_size     :    small\n",
      "\tis_bias        :    False\n",
      "conv20\n",
      "\tin             :       24\n",
      "\tout            :        8\n",
      "\tkernel         :   (3, 1)\n",
      "\tlayer_size     :    small\n",
      "\tis_bias        :    False\n",
      "conv21\n",
      "\tin             :        8\n",
      "\tout            :       16\n",
      "\tkernel         :   (1, 3)\n",
      "\tlayer_size     :    small\n",
      "\tis_bias        :    False\n",
      "conv31\n",
      "\tin             :       16\n",
      "\tout            :       16\n",
      "\tkernel         :        1\n",
      "\tlayer_size     :    small\n",
      "\tis_bias        :    False\n",
      "conv320\n",
      "\tin             :       16\n",
      "\tout            :       16\n",
      "\tkernel         :   (3, 1)\n",
      "\tlayer_size     :    small\n",
      "\tis_bias        :    False\n",
      "conv321\n",
      "\tin             :       16\n",
      "\tout            :       32\n",
      "\tkernel         :   (1, 3)\n",
      "\tlayer_size     :    small\n",
      "\tis_bias        :    False\n",
      "conv33\n",
      "\tin             :       32\n",
      "\tout            :       32\n",
      "\tkernel         :        1\n",
      "\tlayer_size     :    small\n",
      "\tis_bias        :    False\n",
      "conv340\n",
      "\tin             :       32\n",
      "\tout            :       32\n",
      "\tkernel         :   (3, 1)\n",
      "\tlayer_size     :    small\n",
      "\tis_bias        :    False\n",
      "conv341\n",
      "\tin             :       32\n",
      "\tout            :       64\n",
      "\tkernel         :   (1, 3)\n",
      "\tlayer_size     :      big\n",
      "\tis_bias        :    False\n",
      "conv41\n",
      "\tin             :       64\n",
      "\tout            :       32\n",
      "\tkernel         :        1\n",
      "\tlayer_size     :    small\n",
      "\tis_bias        :     True\n",
      "conv42\n",
      "\tin             :       32\n",
      "\tout            :       64\n",
      "\tkernel         :        3\n",
      "\tlayer_size     :      big\n",
      "\tis_bias        :     True\n",
      "conv43\n",
      "\tin             :       64\n",
      "\tout            :       32\n",
      "\tkernel         :        1\n",
      "\tlayer_size     :    small\n",
      "\tis_bias        :     True\n",
      "conv440\n",
      "\tin             :       32\n",
      "\tout            :       48\n",
      "\tkernel         :   (3, 1)\n",
      "\tlayer_size     :    small\n",
      "\tis_bias        :    False\n",
      "conv441\n",
      "\tin             :       48\n",
      "\tout            :       64\n",
      "\tkernel         :   (1, 3)\n",
      "\tlayer_size     :      big\n",
      "\tis_bias        :    False\n",
      "conv45\n",
      "\tin             :       64\n",
      "\tout            :       32\n",
      "\tkernel         :        1\n",
      "\tlayer_size     :    small\n",
      "\tis_bias        :    False\n",
      "conv460\n",
      "\tin             :       32\n",
      "\tout            :       16\n",
      "\tkernel         :   (3, 1)\n",
      "\tlayer_size     :    small\n",
      "\tis_bias        :    False\n",
      "conv461\n",
      "\tin             :       16\n",
      "\tout            :       64\n",
      "\tkernel         :   (1, 3)\n",
      "\tlayer_size     :    small\n",
      "\tis_bias        :     True\n",
      "linear51\n",
      "\tin             :       64\n",
      "\tout            :       16\n",
      "\tlayer_size     :    small\n",
      "linear52\n",
      "\tin             :       16\n",
      "\tout            :        2\n",
      "\tlayer_size     :    small\n"
     ]
    }
   ],
   "source": [
    "print_model(model_HIGH_cp_after_svd)"
   ]
  },
  {
   "cell_type": "markdown",
   "id": "e7098957-4a7c-4720-90be-ec39b02aca03",
   "metadata": {},
   "source": [
    "# Functions to Calculate Conv and Linear Size"
   ]
  },
  {
   "cell_type": "code",
   "execution_count": 9,
   "id": "fc5096da-10f5-4c3e-bd44-c6f6e64cf49b",
   "metadata": {},
   "outputs": [],
   "source": [
    "def conv_size(conv_dic):\n",
    "    '''\n",
    "    Calculates number of weights and bias\n",
    "        - weights = kernel**2 * in * out\n",
    "        - bias = out\n",
    "    - return: number of weights, number of bias\n",
    "    '''\n",
    "    if isinstance(conv_dic['kernel'], int):\n",
    "        return (\n",
    "            (conv_dic['kernel']**2) * conv_dic['in']  * conv_dic['out'], \n",
    "            conv_dic['out'] if conv_dic['is_bias'] else 0\n",
    "        )\n",
    "    elif isinstance(conv_dic['kernel'], tuple):\n",
    "        return (\n",
    "            (conv_dic['kernel'][0]*conv_dic['kernel'][1]) * conv_dic['in']  * conv_dic['out'], \n",
    "            conv_dic['out'] if conv_dic['is_bias'] else 0 \n",
    "        )\n",
    "    else:\n",
    "        print(\"Kernel is not well defined\")\n",
    "        \n",
    "def linear_size(linear_dic):\n",
    "    '''\n",
    "    Calculates number of weights and bias\n",
    "        - weights = in * out\n",
    "        - bias = out\n",
    "    - return: number of weights, number of bias\n",
    "    '''\n",
    "    return linear_dic['in'] * linear_dic['out'],  linear_dic['out'] "
   ]
  },
  {
   "cell_type": "markdown",
   "id": "1d035862-e6e5-472c-b29f-2bfd0c441815",
   "metadata": {},
   "source": [
    "# Update Model Dic with Weights and Bias"
   ]
  },
  {
   "cell_type": "code",
   "execution_count": 10,
   "id": "8b34c5be-2cea-4822-a613-86969b84b71d",
   "metadata": {},
   "outputs": [],
   "source": [
    "def add_weights_bias(model):\n",
    "    for k in model.keys():\n",
    "        if 'conv' in k:\n",
    "            weights, bias = conv_size(model[k])\n",
    "            model[k].update({'weights': weights, 'bias': bias})\n",
    "        elif 'linear' in k:\n",
    "            weights, bias = linear_size(model[k])\n",
    "            model[k].update({'weights': weights, 'bias': bias})\n",
    "        else:\n",
    "            print('Wrong layer name')"
   ]
  },
  {
   "cell_type": "markdown",
   "id": "6f9fc6cd-9c91-44d7-b3e9-9864ef13a83f",
   "metadata": {},
   "source": [
    "### FP32 Model"
   ]
  },
  {
   "cell_type": "code",
   "execution_count": 11,
   "id": "895dc4dd-750d-4ba6-9f86-f956968cb105",
   "metadata": {},
   "outputs": [
    {
     "name": "stdout",
     "output_type": "stream",
     "text": [
      "conv1\n",
      "\tin             :        3\n",
      "\tout            :       32\n",
      "\tkernel         :        3\n",
      "\tlayer_size     :    small\n",
      "\tis_bias        :    False\n",
      "\tweights        :      864\n",
      "\tbias           :        0\n",
      "conv2\n",
      "\tin             :       32\n",
      "\tout            :       16\n",
      "\tkernel         :        3\n",
      "\tlayer_size     :    small\n",
      "\tis_bias        :    False\n",
      "\tweights        :     4608\n",
      "\tbias           :        0\n",
      "conv31\n",
      "\tin             :       16\n",
      "\tout            :       16\n",
      "\tkernel         :        1\n",
      "\tlayer_size     :    small\n",
      "\tis_bias        :    False\n",
      "\tweights        :      256\n",
      "\tbias           :        0\n",
      "conv32\n",
      "\tin             :       16\n",
      "\tout            :       32\n",
      "\tkernel         :        3\n",
      "\tlayer_size     :    small\n",
      "\tis_bias        :    False\n",
      "\tweights        :     4608\n",
      "\tbias           :        0\n",
      "conv33\n",
      "\tin             :       32\n",
      "\tout            :       32\n",
      "\tkernel         :        1\n",
      "\tlayer_size     :    small\n",
      "\tis_bias        :    False\n",
      "\tweights        :     1024\n",
      "\tbias           :        0\n",
      "conv34\n",
      "\tin             :       32\n",
      "\tout            :       64\n",
      "\tkernel         :        3\n",
      "\tlayer_size     :      big\n",
      "\tis_bias        :    False\n",
      "\tweights        :    18432\n",
      "\tbias           :        0\n",
      "conv41\n",
      "\tin             :       64\n",
      "\tout            :       32\n",
      "\tkernel         :        1\n",
      "\tlayer_size     :    small\n",
      "\tis_bias        :    False\n",
      "\tweights        :     2048\n",
      "\tbias           :        0\n",
      "conv42\n",
      "\tin             :       32\n",
      "\tout            :       64\n",
      "\tkernel         :        3\n",
      "\tlayer_size     :      big\n",
      "\tis_bias        :    False\n",
      "\tweights        :    18432\n",
      "\tbias           :        0\n",
      "conv43\n",
      "\tin             :       64\n",
      "\tout            :       32\n",
      "\tkernel         :        1\n",
      "\tlayer_size     :    small\n",
      "\tis_bias        :    False\n",
      "\tweights        :     2048\n",
      "\tbias           :        0\n",
      "conv44\n",
      "\tin             :       32\n",
      "\tout            :       64\n",
      "\tkernel         :        3\n",
      "\tlayer_size     :      big\n",
      "\tis_bias        :    False\n",
      "\tweights        :    18432\n",
      "\tbias           :        0\n",
      "conv45\n",
      "\tin             :       64\n",
      "\tout            :       32\n",
      "\tkernel         :        1\n",
      "\tlayer_size     :    small\n",
      "\tis_bias        :    False\n",
      "\tweights        :     2048\n",
      "\tbias           :        0\n",
      "conv46\n",
      "\tin             :       32\n",
      "\tout            :       64\n",
      "\tkernel         :        3\n",
      "\tlayer_size     :      big\n",
      "\tis_bias        :    False\n",
      "\tweights        :    18432\n",
      "\tbias           :        0\n",
      "linear51\n",
      "\tin             :       64\n",
      "\tout            :       16\n",
      "\tlayer_size     :    small\n",
      "\tweights        :     1024\n",
      "\tbias           :       16\n",
      "linear52\n",
      "\tin             :       16\n",
      "\tout            :        2\n",
      "\tlayer_size     :    small\n",
      "\tweights        :       32\n",
      "\tbias           :        2\n"
     ]
    }
   ],
   "source": [
    "add_weights_bias(model)\n",
    "print_model(model)"
   ]
  },
  {
   "cell_type": "markdown",
   "id": "2d43e5ad-6f3d-41b6-a26a-71c7dafb54ad",
   "metadata": {},
   "source": [
    "### MEDIUM SVD and Pruning"
   ]
  },
  {
   "cell_type": "code",
   "execution_count": 12,
   "id": "612ff0e9-f294-4c4b-ae01-5332c986ee9c",
   "metadata": {},
   "outputs": [
    {
     "name": "stdout",
     "output_type": "stream",
     "text": [
      "conv1\n",
      "\tin             :        3\n",
      "\tout            :       24\n",
      "\tkernel         :        3\n",
      "\tlayer_size     :    small\n",
      "\tis_bias        :    False\n",
      "\tweights        :      648\n",
      "\tbias           :        0\n",
      "conv20\n",
      "\tin             :       24\n",
      "\tout            :        8\n",
      "\tkernel         :   (3, 1)\n",
      "\tlayer_size     :    small\n",
      "\tis_bias        :    False\n",
      "\tweights        :      576\n",
      "\tbias           :        0\n",
      "conv21\n",
      "\tin             :        8\n",
      "\tout            :       16\n",
      "\tkernel         :   (1, 3)\n",
      "\tlayer_size     :    small\n",
      "\tis_bias        :    False\n",
      "\tweights        :      384\n",
      "\tbias           :        0\n",
      "conv31\n",
      "\tin             :       16\n",
      "\tout            :       16\n",
      "\tkernel         :        1\n",
      "\tlayer_size     :    small\n",
      "\tis_bias        :    False\n",
      "\tweights        :      256\n",
      "\tbias           :        0\n",
      "conv320\n",
      "\tin             :       16\n",
      "\tout            :       16\n",
      "\tkernel         :   (3, 1)\n",
      "\tlayer_size     :    small\n",
      "\tis_bias        :    False\n",
      "\tweights        :      768\n",
      "\tbias           :        0\n",
      "conv321\n",
      "\tin             :       16\n",
      "\tout            :       32\n",
      "\tkernel         :   (1, 3)\n",
      "\tlayer_size     :    small\n",
      "\tis_bias        :    False\n",
      "\tweights        :     1536\n",
      "\tbias           :        0\n",
      "conv33\n",
      "\tin             :       32\n",
      "\tout            :       32\n",
      "\tkernel         :        1\n",
      "\tlayer_size     :    small\n",
      "\tis_bias        :    False\n",
      "\tweights        :     1024\n",
      "\tbias           :        0\n",
      "conv340\n",
      "\tin             :       32\n",
      "\tout            :       32\n",
      "\tkernel         :   (3, 1)\n",
      "\tlayer_size     :    small\n",
      "\tis_bias        :    False\n",
      "\tweights        :     3072\n",
      "\tbias           :        0\n",
      "conv341\n",
      "\tin             :       32\n",
      "\tout            :       64\n",
      "\tkernel         :   (1, 3)\n",
      "\tlayer_size     :      big\n",
      "\tis_bias        :    False\n",
      "\tweights        :     6144\n",
      "\tbias           :        0\n",
      "conv41\n",
      "\tin             :       64\n",
      "\tout            :       32\n",
      "\tkernel         :        1\n",
      "\tlayer_size     :    small\n",
      "\tis_bias        :     True\n",
      "\tweights        :     2048\n",
      "\tbias           :       32\n",
      "conv42\n",
      "\tin             :       32\n",
      "\tout            :       64\n",
      "\tkernel         :        3\n",
      "\tlayer_size     :      big\n",
      "\tis_bias        :     True\n",
      "\tweights        :    18432\n",
      "\tbias           :       64\n",
      "conv43\n",
      "\tin             :       64\n",
      "\tout            :       32\n",
      "\tkernel         :        1\n",
      "\tlayer_size     :    small\n",
      "\tis_bias        :     True\n",
      "\tweights        :     2048\n",
      "\tbias           :       32\n",
      "conv440\n",
      "\tin             :       32\n",
      "\tout            :       48\n",
      "\tkernel         :   (3, 1)\n",
      "\tlayer_size     :    small\n",
      "\tis_bias        :    False\n",
      "\tweights        :     4608\n",
      "\tbias           :        0\n",
      "conv441\n",
      "\tin             :       48\n",
      "\tout            :       64\n",
      "\tkernel         :   (1, 3)\n",
      "\tlayer_size     :      big\n",
      "\tis_bias        :    False\n",
      "\tweights        :     9216\n",
      "\tbias           :        0\n",
      "conv45\n",
      "\tin             :       64\n",
      "\tout            :       32\n",
      "\tkernel         :        1\n",
      "\tlayer_size     :    small\n",
      "\tis_bias        :    False\n",
      "\tweights        :     2048\n",
      "\tbias           :        0\n",
      "conv460\n",
      "\tin             :       32\n",
      "\tout            :       16\n",
      "\tkernel         :   (3, 1)\n",
      "\tlayer_size     :    small\n",
      "\tis_bias        :    False\n",
      "\tweights        :     1536\n",
      "\tbias           :        0\n",
      "conv461\n",
      "\tin             :       16\n",
      "\tout            :       64\n",
      "\tkernel         :   (1, 3)\n",
      "\tlayer_size     :    small\n",
      "\tis_bias        :     True\n",
      "\tweights        :     3072\n",
      "\tbias           :       64\n",
      "linear51\n",
      "\tin             :       64\n",
      "\tout            :       16\n",
      "\tlayer_size     :    small\n",
      "\tweights        :     1024\n",
      "\tbias           :       16\n",
      "linear52\n",
      "\tin             :       16\n",
      "\tout            :        2\n",
      "\tlayer_size     :    small\n",
      "\tweights        :       32\n",
      "\tbias           :        2\n"
     ]
    }
   ],
   "source": [
    "add_weights_bias(model_HIGH_cp_after_svd)\n",
    "print_model(model_HIGH_cp_after_svd)"
   ]
  },
  {
   "cell_type": "markdown",
   "id": "2650b9cb-a55f-411b-880e-d598130f23ac",
   "metadata": {},
   "source": [
    "# Calculate Number of Weights for Small and Big Layers"
   ]
  },
  {
   "cell_type": "code",
   "execution_count": 13,
   "id": "7471a09b-0634-4906-937f-f773865ee422",
   "metadata": {},
   "outputs": [],
   "source": [
    "def small_big_weights_number(model_dic):\n",
    "    small_weights = 0\n",
    "    big_weights = 0\n",
    "    for k in model_dic.keys():\n",
    "        if model_dic[k]['layer_size'] == 'small':\n",
    "            small_weights += model_dic[k]['weights'] \n",
    "        elif model_dic[k]['layer_size'] == 'big':\n",
    "            big_weights += model_dic[k]['weights'] \n",
    "        else:\n",
    "            print(\"Error: layer size is not well defined\")\n",
    "\n",
    "    return small_weights, big_weights"
   ]
  },
  {
   "cell_type": "markdown",
   "id": "82d3d92e-816f-4fd0-a3e2-591289ebe28c",
   "metadata": {},
   "source": [
    "# Pie Comparing Weights Portion of Small and Big Layers"
   ]
  },
  {
   "cell_type": "markdown",
   "id": "5a950f50-3f2d-49a4-a0f3-f36f14ab9050",
   "metadata": {},
   "source": [
    "### Before AIMET"
   ]
  },
  {
   "cell_type": "code",
   "execution_count": 14,
   "id": "a04833e8-16a4-4128-8c84-96fbda587d4a",
   "metadata": {},
   "outputs": [
    {
     "data": {
      "image/png": "[encoded data removed]",
      "text/plain": [
       "<Figure size 400x300 with 1 Axes>"
      ]
     },
     "metadata": {},
     "output_type": "display_data"
    }
   ],
   "source": [
    "labels = ['Small Layers', 'Big Layers']\n",
    "\n",
    "small_weights, big_weights = small_big_weights_number(model)\n",
    "\n",
    "fig, ax = plt.subplots(figsize=(4,3))\n",
    "ax.pie([small_weights, big_weights], labels = labels, autopct='%.0f%%', startangle=45)\n",
    "ax.set_title(\"Weights Distribution of Big and Small Layers\")\n",
    "fig.savefig('models_comparison/weights_percentage.png')"
   ]
  },
  {
   "cell_type": "markdown",
   "id": "bff85a94-beda-4923-8c02-240e8ebd68df",
   "metadata": {},
   "source": [
    "### After High AIMET"
   ]
  },
  {
   "cell_type": "code",
   "execution_count": 15,
   "id": "f4759413-c35d-4a5d-94ca-b2b0f8a9bd30",
   "metadata": {},
   "outputs": [
    {
     "data": {
      "image/png": "[encoded data removed]",
      "text/plain": [
       "<Figure size 400x300 with 1 Axes>"
      ]
     },
     "metadata": {},
     "output_type": "display_data"
    }
   ],
   "source": [
    "labels = ['Small Layers', 'Big Layers']\n",
    "\n",
    "small_weights, big_weights = small_big_weights_number(model_HIGH_cp_after_svd)\n",
    "\n",
    "fig, ax = plt.subplots(figsize=(4,3))\n",
    "ax.pie([small_weights, big_weights], labels = labels, autopct='%.0f%%', startangle=45)\n",
    "ax.set_title(\"Weights Distribution of Big and Small Layers\")\n",
    "fig.savefig('models_comparison/aimet_weights_percentage.png')"
   ]
  },
  {
   "cell_type": "markdown",
   "id": "ef08c27e-0aff-4d23-b17f-7e716a392a9f",
   "metadata": {},
   "source": [
    "# Calculate Size of Each Layer"
   ]
  },
  {
   "cell_type": "code",
   "execution_count": 16,
   "id": "c4e10c82-6b72-4c01-80bb-fe88c49c60b8",
   "metadata": {},
   "outputs": [],
   "source": [
    "def add_layer_size(model_dic, small_size, big_size, bias_size):\n",
    "\n",
    "    model = copy.deepcopy(model_dic)\n",
    "    for k in model.keys():\n",
    "        bias_bits = model[k]['bias'] * bias_size\n",
    "        weights_bits = 0\n",
    "        if model[k]['layer_size'] == \"small\":\n",
    "            weights_bits = model[k]['weights'] * small_size\n",
    "        elif model[k]['layer_size'] == \"big\":\n",
    "            weights_bits = model[k]['weights'] * big_size\n",
    "        else:\n",
    "            print('Wrong layer type: small or big')\n",
    "        \n",
    "        model[k].update({'weights_bits': weights_bits, 'bias_bits': bias_bits})\n",
    "\n",
    "    return model"
   ]
  },
  {
   "cell_type": "code",
   "execution_count": 17,
   "id": "7cf94349-75e3-4e19-885d-411cc182b78c",
   "metadata": {},
   "outputs": [],
   "source": [
    "#model1 = add_layer_size(model, wb_small_1, wb_big_1, bias_bits)\n",
    "#print_model(model1)"
   ]
  },
  {
   "cell_type": "markdown",
   "id": "21e2e0e5-d21c-4b41-a3da-900a842096a7",
   "metadata": {},
   "source": [
    "# Bits Overview"
   ]
  },
  {
   "cell_type": "code",
   "execution_count": 18,
   "id": "7ed4af00-c321-444c-a37b-6e97e4ed669f",
   "metadata": {},
   "outputs": [],
   "source": [
    "def get_layers_total_bits(model):\n",
    "    '''\n",
    "    Compute total bits summing each layer. It returns separated layers bits too.\n",
    "\n",
    "    Return:\n",
    "        - total bits\n",
    "        - total bits of small layers\n",
    "        - total bits of big layers\n",
    "        - total bits of bias\n",
    "    '''\n",
    "    \n",
    "    small_layers_bits = 0\n",
    "    big_layers_bits = 0\n",
    "    bias_bits = 0\n",
    "    \n",
    "    for k in model.keys():\n",
    "        if model[k]['layer_size'] == 'small':\n",
    "            small_layers_bits += model[k]['weights_bits'] \n",
    "        elif model[k]['layer_size'] == 'big':\n",
    "            big_layers_bits += model[k]['weights_bits'] \n",
    "        bias_bits += model[k]['bias_bits']\n",
    "\n",
    "    return {\n",
    "        'total': small_layers_bits + big_layers_bits + bias_bits,\n",
    "        'small': small_layers_bits,\n",
    "        'big': big_layers_bits,\n",
    "        'bias': bias_bits\n",
    "    }"
   ]
  },
  {
   "cell_type": "markdown",
   "id": "ef35e9c1-5901-4746-85dc-5f6dd66f4be8",
   "metadata": {},
   "source": [
    "# Comparing Models"
   ]
  },
  {
   "cell_type": "markdown",
   "id": "788c558e-853e-4803-b530-1d9916d22949",
   "metadata": {},
   "source": [
    "### Defining some models"
   ]
  },
  {
   "cell_type": "code",
   "execution_count": 19,
   "id": "a26d38b5-78ad-4aea-ac1b-df7a217d15eb",
   "metadata": {},
   "outputs": [],
   "source": [
    "# Model 1: NO COMPRESSION\n",
    "wb_small_1 = 4\n",
    "wb_big_1 = 2\n",
    "bias_bits_1 = 4\n",
    "model_name_1 = f'ws{str(wb_small_1)}wb{str(wb_big_1)}'\n",
    "\n",
    "# Model 2: MED COMPRESSION\n",
    "wb_small_2 = 4\n",
    "wb_big_2 = 2\n",
    "bias_bits_2 = 4\n",
    "model_name_2 = f'high_ws{str(wb_small_2)}wb{str(wb_big_2)}'"
   ]
  },
  {
   "cell_type": "markdown",
   "id": "084d677b-c165-4f65-be06-6ca96aef3b51",
   "metadata": {},
   "source": [
    "### Calculating Bits"
   ]
  },
  {
   "cell_type": "code",
   "execution_count": 20,
   "id": "83e37313-6fb4-4766-9099-585fe5e901dd",
   "metadata": {},
   "outputs": [],
   "source": [
    "model1 = add_layer_size(model, wb_small_1, wb_big_1, bias_bits_1)\n",
    "model2 = add_layer_size(model_HIGH_cp_after_svd, wb_small_2, wb_big_2, bias_bits_2)"
   ]
  },
  {
   "cell_type": "markdown",
   "id": "27a729b1-a2c4-4fb4-abc8-194cc587aeee",
   "metadata": {},
   "source": [
    "### Bits for all Models"
   ]
  },
  {
   "cell_type": "code",
   "execution_count": 21,
   "id": "c620d481-cd3f-4996-bbe9-cad8b9fa9bf4",
   "metadata": {},
   "outputs": [],
   "source": [
    "model_bits_1 = get_layers_total_bits(model1)\n",
    "model_bits_2 = get_layers_total_bits(model2)"
   ]
  },
  {
   "cell_type": "markdown",
   "id": "3d1f3499-ce83-4656-8046-23dad9e5fe1c",
   "metadata": {},
   "source": [
    "## Some Plots"
   ]
  },
  {
   "cell_type": "code",
   "execution_count": 22,
   "id": "8d447110-ff39-40c6-a575-dc1be929d46e",
   "metadata": {},
   "outputs": [
    {
     "name": "stdout",
     "output_type": "stream",
     "text": [
      "[221768, 167144]\n"
     ]
    }
   ],
   "source": [
    "#xticks = ['Model1', 'Model2', 'Model3', 'Model4']\n",
    "xticks = [model_name_1, model_name_2] \n",
    "yticks = [model_bits_1['total'], model_bits_2['total']]\n",
    "print(yticks)"
   ]
  },
  {
   "cell_type": "code",
   "execution_count": 23,
   "id": "088ad8cc-d8ad-4b56-9ac2-11945d4c2fd1",
   "metadata": {},
   "outputs": [
    {
     "data": {
      "image/png": "[encoded data removed]",
      "text/plain": [
       "<Figure size 600x400 with 1 Axes>"
      ]
     },
     "metadata": {},
     "output_type": "display_data"
    }
   ],
   "source": [
    "fig, ax = plt.subplots(layout='constrained', figsize=(6,4))\n",
    "ax.bar(xticks, yticks)\n",
    "ax.set_ylabel(\"Number of bits\")\n",
    "ax.set_title(\"Number of bits for different Weights Configurations\")\n",
    "fig.savefig('models_comparison/bits_number.png')"
   ]
  },
  {
   "cell_type": "markdown",
   "id": "39875ec8-e6e8-424f-aeab-9535f53842a5",
   "metadata": {},
   "source": [
    "# Bars"
   ]
  },
  {
   "cell_type": "code",
   "execution_count": 24,
   "id": "a7cd26dc-99bb-4114-8d71-ceedd162389c",
   "metadata": {},
   "outputs": [
    {
     "data": {
      "image/png": "[encoded data removed]",
      "text/plain": [
       "<Figure size 600x400 with 1 Axes>"
      ]
     },
     "metadata": {},
     "output_type": "display_data"
    }
   ],
   "source": [
    "xticks = (model_name_1, model_name_2)\n",
    "yticks = {\n",
    "    'Small': np.round(np.array([model_bits_1['small'], \n",
    "                                model_bits_2['small']])/(8*1024), decimals=2),\n",
    "    'Big': np.round(np.array([model_bits_1['big'], \n",
    "                              model_bits_2['big']])/(8*1024), decimals=2),\n",
    "    'Total': np.round(np.array([model_bits_1['total'], \n",
    "                                model_bits_2['total']])/(8*1024), decimals=2),\n",
    "}\n",
    "\n",
    "x = np.arange(len(xticks))  # the label locations\n",
    "width = 0.25  # the width of the bars\n",
    "multiplier = 0\n",
    "\n",
    "fig, ax = plt.subplots(layout='constrained', figsize=(6,4))\n",
    "\n",
    "for k, v in yticks.items():\n",
    "    offset = width * multiplier\n",
    "    rects = ax.bar(x + offset, v, width, label=k)\n",
    "    ax.bar_label(rects, padding=3)\n",
    "    multiplier += 1\n",
    "\n",
    "# Add some text for labels, title and custom x-axis tick labels, etc.\n",
    "ax.set_ylabel('KB')\n",
    "ax.set_title(\"KB for different Weights Configurations\")\n",
    "ax.set_xticks(x + width, xticks)\n",
    "ax.legend(loc='upper right', ncols=3)\n",
    "ax.set_ylim(0, 40)\n",
    "#ax.set_axisbelow(True)\n",
    "#ax.yaxis.grid(color='gray', linestyle='dashed')\n",
    "\n",
    "fig.savefig('models_comparison/KB_total_small_big.png')\n",
    "plt.show()"
   ]
  },
  {
   "cell_type": "code",
   "execution_count": 25,
   "id": "29b3de70-4db0-464a-b8b2-0a241c4001e7",
   "metadata": {},
   "outputs": [
    {
     "data": {
      "image/png": "[encoded data removed]",
      "text/plain": [
       "<Figure size 600x400 with 1 Axes>"
      ]
     },
     "metadata": {},
     "output_type": "display_data"
    }
   ],
   "source": [
    "xticks = (model_name_1, model_name_2)\n",
    "yticks = {\n",
    "    'Small': np.round(np.array([model_bits_1['small'], model_bits_2['small']])/(8*1024), decimals=1),\n",
    "    'Big': np.round(np.array([model_bits_1['big'], model_bits_2['big']])/(8*1024), decimals=1),\n",
    "}\n",
    "\n",
    "width = 0.5  # the width of the bars: can also be len(x) sequence\n",
    "\n",
    "fig, ax = plt.subplots(figsize=(6,4))\n",
    "bottom = np.zeros(2)\n",
    "\n",
    "for k, v in yticks.items():\n",
    "    p = ax.bar(xticks, v, width, label=k, bottom=bottom)\n",
    "    bottom += v\n",
    "\n",
    "    ax.bar_label(p, label_type='center')\n",
    "\n",
    "ax.set_title('KB for different Weights Configurations')\n",
    "ax.set_ylabel('KB')\n",
    "ax.set_ylim(0, 40)\n",
    "ax.legend(ncols=2)\n",
    "\n",
    "fig.savefig('models_comparison/KB_small_big.png')\n",
    "plt.show()"
   ]
  },
  {
   "cell_type": "markdown",
   "id": "2dd25f23-e1fe-41ab-ba1d-5603f291552c",
   "metadata": {},
   "source": [
    "# Pies to view the impact of small, big and bias"
   ]
  },
  {
   "cell_type": "code",
   "execution_count": 26,
   "id": "7df215e5-c784-4c40-87a6-27fd18e7c2f0",
   "metadata": {},
   "outputs": [
    {
     "data": {
      "image/png": "[encoded data removed]",
      "text/plain": [
       "<Figure size 500x500 with 2 Axes>"
      ]
     },
     "metadata": {},
     "output_type": "display_data"
    }
   ],
   "source": [
    "labels = ['Small Layers', 'Big Layers', 'Bias']\n",
    "\n",
    "fig, ax = plt.subplots(1, 2, figsize=(5,5))\n",
    "\n",
    "plt.subplot(1, 2, 1)\n",
    "size = [model_bits_1['small'], model_bits_1['big'], model_bits_1['bias']] \n",
    "plt.pie(size, labels = labels, startangle=45)\n",
    "plt.title(model_name_1)\n",
    "\n",
    "plt.subplot(1, 2, 2)\n",
    "size = [model_bits_2['small'], model_bits_2['big'], model_bits_2['bias']] \n",
    "plt.pie(size, labels = labels, startangle=45)\n",
    "plt.title(model_name_2)\n",
    "\n",
    "plt.tight_layout(pad=2)\n",
    "fig.savefig('models_comparison/bits_pies.png')\n",
    "plt.show()"
   ]
  },
  {
   "cell_type": "markdown",
   "id": "7eaa0bd2-779a-4040-abb5-29f7317e3259",
   "metadata": {},
   "source": [
    "# Weights Per Layer"
   ]
  },
  {
   "cell_type": "code",
   "execution_count": 27,
   "id": "e1c2b645-7899-4656-b7df-4be833ab52c7",
   "metadata": {},
   "outputs": [],
   "source": [
    "weights_perlayer_fp32 = {key: model1[key][\"weights\"] for key in model1.keys()}\n",
    "bits_perlayer_fp32 = {key: model1[key][\"weights_bits\"] for key in model1.keys()}\n",
    "\n",
    "weights_perlayer_aimet = {key: model2[key][\"weights\"] for key in model2.keys()}\n",
    "bits_perlayer_aimet = {key: model2[key][\"weights_bits\"] for key in model2.keys()}"
   ]
  },
  {
   "cell_type": "code",
   "execution_count": 32,
   "id": "a1f9b036-bf39-4208-aa37-4cd29822c038",
   "metadata": {},
   "outputs": [
    {
     "data": {
      "image/png": "[encoded data removed]",
      "text/plain": [
       "<Figure size 800x600 with 4 Axes>"
      ]
     },
     "metadata": {},
     "output_type": "display_data"
    }
   ],
   "source": [
    "fp32_weights = list(weights_perlayer_fp32.values())\n",
    "fp32_bits = list(bits_perlayer_fp32.values())\n",
    "fp32_layers = list(weights_perlayer_fp32.keys())\n",
    "\n",
    "aimet_weights = list(weights_perlayer_aimet.values())\n",
    "aimet_bits = list(bits_perlayer_aimet.values())\n",
    "aimet_layers = list(weights_perlayer_aimet.keys())\n",
    "\n",
    "fig, ax = plt.subplots(2, 2, figsize=(8,6))\n",
    "\n",
    "plt.subplot(2, 2, 1)\n",
    "ax[0, 0].bar(fp32_layers, fp32_weights)\n",
    "ax[0, 0].set_xticks(fp32_layers)\n",
    "ax[0, 0].set_xticklabels(fp32_layers, rotation=90)\n",
    "ax[0, 0].set_title(\"FP32 Weights Per Layer\")\n",
    "\n",
    "plt.subplot(2, 2, 2)\n",
    "ax[0, 1].bar(fp32_layers, fp32_bits)\n",
    "ax[0, 1].set_xticks(fp32_layers)\n",
    "ax[0, 1].set_xticklabels(fp32_layers, rotation=90)\n",
    "plt.axhline(y=18432, color='r', linestyle='--')\n",
    "plt.axhline(y=36864, color='r', linestyle='--')\n",
    "ax[0, 1].set_title(\"FP32 Bits Per Layer\")\n",
    "\n",
    "plt.subplot(2, 2, 3)\n",
    "ax[1, 0].bar(aimet_layers, aimet_weights)\n",
    "ax[1, 0].set_xticks(aimet_layers)\n",
    "ax[1, 0].set_xticklabels(aimet_layers, rotation=90)\n",
    "ax[1, 0].set_title(\"AIMET Weights Per Layer\")\n",
    "\n",
    "plt.subplot(2, 2, 4)\n",
    "ax[1, 1].bar(aimet_layers, aimet_bits)\n",
    "ax[1, 1].set_xticks(aimet_layers)\n",
    "ax[1, 1].set_xticklabels(aimet_layers, rotation=90)\n",
    "plt.axhline(y=18432, color='r', linestyle='--')\n",
    "plt.axhline(y=36864, color='r', linestyle='--')\n",
    "ax[1, 1].set_title(\"AIMET Bits Per Layer\")\n",
    "\n",
    "plt.tight_layout()\n",
    "fig.savefig('models_comparison/bars.png')\n",
    "plt.show()"
   ]
  },
  {
   "cell_type": "code",
   "execution_count": 33,
   "id": "28db9977-03c1-40f1-b1a0-05d641d36c73",
   "metadata": {},
   "outputs": [
    {
     "data": {
      "text/plain": [
       "{'conv1': 3456,\n",
       " 'conv2': 18432,\n",
       " 'conv31': 1024,\n",
       " 'conv32': 18432,\n",
       " 'conv33': 4096,\n",
       " 'conv34': 36864,\n",
       " 'conv41': 8192,\n",
       " 'conv42': 36864,\n",
       " 'conv43': 8192,\n",
       " 'conv44': 36864,\n",
       " 'conv45': 8192,\n",
       " 'conv46': 36864,\n",
       " 'linear51': 4096,\n",
       " 'linear52': 128}"
      ]
     },
     "execution_count": 33,
     "metadata": {},
     "output_type": "execute_result"
    }
   ],
   "source": [
    "bits_perlayer_fp32"
   ]
  },
  {
   "cell_type": "code",
   "execution_count": 29,
   "id": "2155ca53-58db-4362-8e2d-cf4740da15a8",
   "metadata": {},
   "outputs": [
    {
     "data": {
      "text/plain": [
       "{'conv1': 2592,\n",
       " 'conv20': 2304,\n",
       " 'conv21': 1536,\n",
       " 'conv31': 1024,\n",
       " 'conv320': 3072,\n",
       " 'conv321': 6144,\n",
       " 'conv33': 4096,\n",
       " 'conv340': 12288,\n",
       " 'conv341': 12288,\n",
       " 'conv41': 8192,\n",
       " 'conv42': 36864,\n",
       " 'conv43': 8192,\n",
       " 'conv440': 18432,\n",
       " 'conv441': 18432,\n",
       " 'conv45': 8192,\n",
       " 'conv460': 6144,\n",
       " 'conv461': 12288,\n",
       " 'linear51': 4096,\n",
       " 'linear52': 128}"
      ]
     },
     "execution_count": 29,
     "metadata": {},
     "output_type": "execute_result"
    }
   ],
   "source": [
    "bits_perlayer_aimet"
   ]
  },
  {
   "cell_type": "code",
   "execution_count": null,
   "id": "679d4da1-36af-4f3f-a8b2-3cba1a2b4ae9",
   "metadata": {},
   "outputs": [],
   "source": []
  }
 ],
 "metadata": {
  "kernelspec": {
   "display_name": "Python 3 (ipykernel)",
   "language": "python",
   "name": "python3"
  },
  "language_info": {
   "codemirror_mode": {
    "name": "ipython",
    "version": 3
   },
   "file_extension": ".py",
   "mimetype": "text/x-python",
   "name": "python",
   "nbconvert_exporter": "python",
   "pygments_lexer": "ipython3",
   "version": "3.10.13"
  }
 },
 "nbformat": 4,
 "nbformat_minor": 5
}
