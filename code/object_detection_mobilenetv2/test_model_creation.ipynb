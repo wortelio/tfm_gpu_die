{
 "cells": [
  {
   "cell_type": "code",
   "execution_count": 1,
   "id": "44f87072-b436-4515-b7cf-9cdcf69f811b",
   "metadata": {},
   "outputs": [],
   "source": [
    "import modules.model_mobilenetv2_detection as model\n",
    "from torchinfo import summary"
   ]
  },
  {
   "cell_type": "code",
   "execution_count": 32,
   "id": "c35e5d6f-e5bf-4ef1-b5dc-ed5684f54601",
   "metadata": {},
   "outputs": [],
   "source": [
    "# cfgs = [\n",
    "#     # t, c, n, s\n",
    "#     [1,  16, 1, 1],\n",
    "#     [2,  24, 2, 2],\n",
    "#     [2,  32, 3, 2],\n",
    "#     [2,  64, 3, 2],\n",
    "#     [2,  96, 2, 1],\n",
    "#     [2, 128, 1, 2],\n",
    "\n",
    "#     # [6, 160, 3, 2],\n",
    "#     # [6, 320, 1, 1],\n",
    "# ]\n",
    "\n",
    "cfgs = [\n",
    "    # t, c, n, s\n",
    "    [1,  16, 1, 1],\n",
    "    [2,  24, 2, 2],\n",
    "    [2,  32, 3, 2],\n",
    "    [2,  64, 4, 2],\n",
    "    [2,  96, 3, 1],\n",
    "    [2, 128, 2, 2],\n",
    "    # [2, 320, 1, 1],\n",
    "]"
   ]
  },
  {
   "cell_type": "code",
   "execution_count": 33,
   "id": "1aea16e4-4878-4ec1-a3d1-64f38661c787",
   "metadata": {},
   "outputs": [],
   "source": [
    "model_det = model.MobileNetV2_DET(cfgs).to('cpu')"
   ]
  },
  {
   "cell_type": "code",
   "execution_count": 34,
   "id": "f10128ca-76e7-48b1-bd23-3a91d42ca8a0",
   "metadata": {},
   "outputs": [
    {
     "name": "stdout",
     "output_type": "stream",
     "text": [
      "==========================================================================================\n",
      "Layer (type:depth-idx)                   Output Shape              Param #\n",
      "==========================================================================================\n",
      "MobileNetV2_DET                          [1, 12, 7, 7]             --\n",
      "├─Sequential: 1-1                        [1, 128, 7, 7]            --\n",
      "│    └─Sequential: 2-1                   [1, 32, 112, 112]         --\n",
      "│    │    └─Conv2d: 3-1                  [1, 32, 112, 112]         864\n",
      "│    │    └─BatchNorm2d: 3-2             [1, 32, 112, 112]         64\n",
      "│    │    └─ReLU6: 3-3                   [1, 32, 112, 112]         --\n",
      "│    └─InvertedResidual: 2-2             [1, 16, 112, 112]         --\n",
      "│    │    └─Sequential: 3-4              [1, 16, 112, 112]         896\n",
      "│    └─InvertedResidual: 2-3             [1, 24, 56, 56]           --\n",
      "│    │    └─Sequential: 3-5              [1, 24, 56, 56]           1,744\n",
      "│    └─InvertedResidual: 2-4             [1, 24, 56, 56]           --\n",
      "│    │    └─Sequential: 3-6              [1, 24, 56, 56]           2,976\n",
      "│    └─InvertedResidual: 2-5             [1, 32, 28, 28]           --\n",
      "│    │    └─Sequential: 3-7              [1, 32, 28, 28]           3,376\n",
      "│    └─InvertedResidual: 2-6             [1, 32, 28, 28]           --\n",
      "│    │    └─Sequential: 3-8              [1, 32, 28, 28]           4,992\n",
      "│    └─InvertedResidual: 2-7             [1, 32, 28, 28]           --\n",
      "│    │    └─Sequential: 3-9              [1, 32, 28, 28]           4,992\n",
      "│    └─InvertedResidual: 2-8             [1, 64, 14, 14]           --\n",
      "│    │    └─Sequential: 3-10             [1, 64, 14, 14]           7,104\n",
      "│    └─InvertedResidual: 2-9             [1, 64, 14, 14]           --\n",
      "│    │    └─Sequential: 3-11             [1, 64, 14, 14]           18,176\n",
      "│    └─InvertedResidual: 2-10            [1, 64, 14, 14]           --\n",
      "│    │    └─Sequential: 3-12             [1, 64, 14, 14]           18,176\n",
      "│    └─InvertedResidual: 2-11            [1, 64, 14, 14]           --\n",
      "│    │    └─Sequential: 3-13             [1, 64, 14, 14]           18,176\n",
      "│    └─InvertedResidual: 2-12            [1, 96, 14, 14]           --\n",
      "│    │    └─Sequential: 3-14             [1, 96, 14, 14]           22,336\n",
      "│    └─InvertedResidual: 2-13            [1, 96, 14, 14]           --\n",
      "│    │    └─Sequential: 3-15             [1, 96, 14, 14]           39,552\n",
      "│    └─InvertedResidual: 2-14            [1, 96, 14, 14]           --\n",
      "│    │    └─Sequential: 3-16             [1, 96, 14, 14]           39,552\n",
      "│    └─InvertedResidual: 2-15            [1, 128, 7, 7]            --\n",
      "│    │    └─Sequential: 3-17             [1, 128, 7, 7]            45,760\n",
      "│    └─InvertedResidual: 2-16            [1, 128, 7, 7]            --\n",
      "│    │    └─Sequential: 3-18             [1, 128, 7, 7]            69,120\n",
      "├─Sequential: 1-2                        [1, 12, 7, 7]             --\n",
      "│    └─Sequential: 2-17                  [1, 64, 7, 7]             --\n",
      "│    │    └─Conv2d: 3-19                 [1, 64, 7, 7]             8,192\n",
      "│    │    └─BatchNorm2d: 3-20            [1, 64, 7, 7]             128\n",
      "│    │    └─ReLU6: 3-21                  [1, 64, 7, 7]             --\n",
      "│    └─Sequential: 2-18                  [1, 16, 7, 7]             --\n",
      "│    │    └─Conv2d: 3-22                 [1, 16, 7, 7]             1,024\n",
      "│    │    └─BatchNorm2d: 3-23            [1, 16, 7, 7]             32\n",
      "│    │    └─ReLU6: 3-24                  [1, 16, 7, 7]             --\n",
      "│    └─Sequential: 2-19                  [1, 16, 7, 7]             --\n",
      "│    │    └─Conv2d: 3-25                 [1, 16, 7, 7]             256\n",
      "│    │    └─BatchNorm2d: 3-26            [1, 16, 7, 7]             32\n",
      "│    │    └─ReLU6: 3-27                  [1, 16, 7, 7]             --\n",
      "│    └─Conv2d: 2-20                      [1, 12, 7, 7]             204\n",
      "==========================================================================================\n",
      "Total params: 307,724\n",
      "Trainable params: 307,724\n",
      "Non-trainable params: 0\n",
      "Total mult-adds (M): 92.58\n",
      "==========================================================================================\n",
      "Input size (MB): 0.60\n",
      "Forward/backward pass size (MB): 48.50\n",
      "Params size (MB): 1.23\n",
      "Estimated Total Size (MB): 50.33\n",
      "==========================================================================================\n"
     ]
    }
   ],
   "source": [
    "print(summary(model_det, input_size=(1, 3, 224, 224)))"
   ]
  },
  {
   "cell_type": "code",
   "execution_count": null,
   "id": "d85187ce-1d0e-4b83-aefc-9f1661df94c1",
   "metadata": {},
   "outputs": [],
   "source": []
  }
 ],
 "metadata": {
  "kernelspec": {
   "display_name": "Python 3 (ipykernel)",
   "language": "python",
   "name": "python3"
  },
  "language_info": {
   "codemirror_mode": {
    "name": "ipython",
    "version": 3
   },
   "file_extension": ".py",
   "mimetype": "text/x-python",
   "name": "python",
   "nbconvert_exporter": "python",
   "pygments_lexer": "ipython3",
   "version": "3.10.9"
  }
 },
 "nbformat": 4,
 "nbformat_minor": 5
}
