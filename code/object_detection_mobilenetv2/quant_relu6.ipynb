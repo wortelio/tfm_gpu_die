{
 "cells": [
  {
   "cell_type": "code",
   "execution_count": 1,
   "id": "1a2a7d31-f578-496e-9eef-f425669bb384",
   "metadata": {},
   "outputs": [],
   "source": [
    "from brevitas.nn import QuantReLU\n",
    "from brevitas.quant import Uint8ActPerTensorFloat\n",
    "from brevitas.core.restrict_val import RestrictValueType\n",
    "from brevitas.nn.quant_layer import QuantNonLinearActLayer as QuantNLAL\n",
    "from brevitas.nn.quant_layer import ActQuantType\n",
    "from brevitas.inject.defaults import Int8ActPerTensorFloatMinMaxInit\n",
    "\n",
    "\n",
    "from typing import Optional\n",
    "\n",
    "import torch\n",
    "import torch.nn as nn\n",
    "import torch.nn.functional as F"
   ]
  },
  {
   "cell_type": "code",
   "execution_count": 2,
   "id": "68741d40-4720-4f82-a49e-a754de6bc1e1",
   "metadata": {},
   "outputs": [],
   "source": [
    "class CommonUintActQuant(Uint8ActPerTensorFloat):\n",
    "    \"\"\"\n",
    "    Common unsigned act quantizer with bit-width set to None so that it's forced to be specified by\n",
    "    each layer.\n",
    "    \"\"\"\n",
    "    scaling_min_val = 2e-16\n",
    "    bit_width = None\n",
    "    restrict_scaling_type = RestrictValueType.POWER_OF_TWO"
   ]
  },
  {
   "cell_type": "markdown",
   "id": "6c479c2a-c13e-415b-959b-8138497f6cf6",
   "metadata": {},
   "source": [
    "Esto no vale, porque deberían estar los valores truncados a 6"
   ]
  },
  {
   "cell_type": "code",
   "execution_count": 3,
   "id": "9fbae3e7-76ec-4f84-974b-fc07ae107250",
   "metadata": {},
   "outputs": [],
   "source": [
    "quant_relu6 = QuantReLU(\n",
    "    act_quant=CommonUintActQuant,\n",
    "    bit_width=4,\n",
    "    max_val = 6.0\n",
    ")    "
   ]
  },
  {
   "cell_type": "code",
   "execution_count": 4,
   "id": "ac08b032-0807-4844-a39f-aa8b1f4d91d7",
   "metadata": {},
   "outputs": [
    {
     "name": "stdout",
     "output_type": "stream",
     "text": [
      "in: tensor([20.8909, 12.6119, 12.6123, 13.6961])\n",
      "out: tensor([19.5852, 13.0568, 13.0568, 13.0568], grad_fn=<MulBackward0>)\n"
     ]
    },
    {
     "name": "stderr",
     "output_type": "stream",
     "text": [
      "/opt/conda/envs/pytorch_brevitas/lib/python3.10/site-packages/torch/_tensor.py:1362: UserWarning: Named tensors and all their associated APIs are an experimental feature and subject to change. Please do not use them for anything important until they are released as stable. (Triggered internally at /opt/conda/conda-bld/pytorch_1702400410390/work/c10/core/TensorImpl.h:1900.)\n",
      "  return super().rename(names)\n"
     ]
    }
   ],
   "source": [
    "dummy_in = 24*torch.rand(4)-1\n",
    "print(f'in: {dummy_in}')\n",
    "out = quant_relu6(dummy_in)\n",
    "print(f'out: {out}')"
   ]
  },
  {
   "cell_type": "code",
   "execution_count": 5,
   "id": "0871d627-fa1c-448a-8893-3d6b930757c9",
   "metadata": {},
   "outputs": [],
   "source": [
    "class QuantReLU6(QuantNLAL):\n",
    "\n",
    "    def __init__(\n",
    "            self,\n",
    "            act_quant: Optional[ActQuantType] = Uint8ActPerTensorFloat,\n",
    "            input_quant: Optional[ActQuantType] = None,\n",
    "            return_quant_tensor: bool = False,\n",
    "            **kwargs):\n",
    "        QuantNLAL.__init__(\n",
    "            self,\n",
    "            act_impl=nn.ReLU6,\n",
    "            passthrough_act=True,\n",
    "            input_quant=input_quant,\n",
    "            act_quant=act_quant,\n",
    "            return_quant_tensor=return_quant_tensor,\n",
    "            **kwargs)"
   ]
  },
  {
   "cell_type": "code",
   "execution_count": 6,
   "id": "933cd391-1c0e-4f20-b4dc-caddf8e0eaf2",
   "metadata": {},
   "outputs": [],
   "source": [
    "quant_relu6 = QuantReLU6(\n",
    "    act_quant=CommonUintActQuant,\n",
    "    bit_width=4,\n",
    ")  "
   ]
  },
  {
   "cell_type": "code",
   "execution_count": 7,
   "id": "dd89f8c1-0b11-4098-bb04-1b28eff8b09c",
   "metadata": {},
   "outputs": [
    {
     "name": "stdout",
     "output_type": "stream",
     "text": [
      "in: tensor([2.0931, 8.1025, 9.3996, 9.0934])\n",
      "out: tensor([2.3499, 8.2246, 8.8121, 8.8121], grad_fn=<MulBackward0>)\n"
     ]
    }
   ],
   "source": [
    "dummy_in = 24*torch.rand(4)-1\n",
    "print(f'in: {dummy_in}')\n",
    "out = quant_relu6(dummy_in)\n",
    "print(f'out: {out}')"
   ]
  },
  {
   "cell_type": "code",
   "execution_count": 8,
   "id": "c99bb20f-5b2d-421a-a3bc-4177407bec60",
   "metadata": {},
   "outputs": [],
   "source": [
    "class act_relu6(nn.Module):\n",
    "    def __init__(self):\n",
    "        super(act_relu6, self).__init__()\n",
    "    \n",
    "    def forward(self, x):\n",
    "        return F.relu6(x)"
   ]
  },
  {
   "cell_type": "code",
   "execution_count": 9,
   "id": "050afd27-8b4b-4011-9b50-287166c3bdd8",
   "metadata": {},
   "outputs": [],
   "source": [
    "my_relu6 = act_relu6()"
   ]
  },
  {
   "cell_type": "code",
   "execution_count": 10,
   "id": "f98d5d90-a254-43de-992a-826a5e2c0c24",
   "metadata": {},
   "outputs": [
    {
     "name": "stdout",
     "output_type": "stream",
     "text": [
      "in: tensor([21.4349, 18.8414,  3.1319, 13.9103])\n",
      "out: tensor([6.0000, 6.0000, 3.1319, 6.0000])\n"
     ]
    }
   ],
   "source": [
    "dummy_in = 24*torch.rand(4)-1\n",
    "print(f'in: {dummy_in}')\n",
    "out = my_relu6(dummy_in)\n",
    "print(f'out: {out}')"
   ]
  },
  {
   "cell_type": "code",
   "execution_count": 11,
   "id": "3413df22-5ff4-48f0-a7b4-aca617ab2fa6",
   "metadata": {},
   "outputs": [],
   "source": [
    "class myact_relu6(nn.Hardtanh):\n",
    "    def __init__(self):\n",
    "        super().__init__(0.0, 6.0)\n",
    "\n",
    "    def forward(self,x):\n",
    "        return F.hardtanh(x, 0.0, 6.0)"
   ]
  },
  {
   "cell_type": "code",
   "execution_count": 12,
   "id": "ea3b98ab-3a0d-4f05-9271-27016dadcfa1",
   "metadata": {},
   "outputs": [],
   "source": [
    "pt_relu6 = myact_relu6()"
   ]
  },
  {
   "cell_type": "code",
   "execution_count": 13,
   "id": "0d798e38-24e7-424f-b864-9032df6064f9",
   "metadata": {},
   "outputs": [
    {
     "name": "stdout",
     "output_type": "stream",
     "text": [
      "in: tensor([ 7.0071,  0.5854, -2.7119, -3.6952])\n",
      "out: tensor([6.0000, 0.5854, 0.0000, 0.0000])\n"
     ]
    }
   ],
   "source": [
    "dummy_in = 24*torch.rand(4)-12\n",
    "print(f'in: {dummy_in}')\n",
    "out = pt_relu6(dummy_in)\n",
    "print(f'out: {out}')"
   ]
  },
  {
   "cell_type": "code",
   "execution_count": 14,
   "id": "0cc4b1d9-ff6b-4158-8120-a604d9c62ff5",
   "metadata": {},
   "outputs": [],
   "source": [
    "class QuantRelu6(QuantNLAL):\n",
    "\n",
    "    def __init__(\n",
    "            self,\n",
    "            act_quant: Optional[ActQuantType] = Int8ActPerTensorFloatMinMaxInit,\n",
    "            input_quant: Optional[ActQuantType] = None,\n",
    "            return_quant_tensor: bool = False,\n",
    "            **kwargs):\n",
    "        QuantNLAL.__init__(\n",
    "            self,\n",
    "            act_impl=myact_relu6,\n",
    "            passthrough_act=True,\n",
    "            input_quant=input_quant,\n",
    "            act_quant=act_quant,\n",
    "            return_quant_tensor=return_quant_tensor,\n",
    "            **kwargs)"
   ]
  },
  {
   "cell_type": "code",
   "execution_count": 15,
   "id": "ccecc5bf-508f-49e0-8d8e-36dc5a9b5362",
   "metadata": {},
   "outputs": [],
   "source": [
    "my_relu6 = QuantRelu6(\n",
    "    min_val=0,\n",
    "    max_val=6,\n",
    "    signed=False\n",
    ")"
   ]
  },
  {
   "cell_type": "code",
   "execution_count": 16,
   "id": "f36b628e-1776-41f1-9a2c-4e92cdc143a6",
   "metadata": {},
   "outputs": [
    {
     "name": "stdout",
     "output_type": "stream",
     "text": [
      "in: tensor([-1.6754, -3.0991,  1.1525, -5.5890])\n",
      "out: tensor([0.0000, 0.0000, 1.1529, 0.0000], grad_fn=<MulBackward0>)\n"
     ]
    }
   ],
   "source": [
    "dummy_in = 24*torch.rand(4)-12\n",
    "print(f'in: {dummy_in}')\n",
    "out = my_relu6(dummy_in)\n",
    "print(f'out: {out}')"
   ]
  },
  {
   "cell_type": "code",
   "execution_count": 23,
   "id": "307f3768-6b73-43df-9a64-864cb0c2e677",
   "metadata": {},
   "outputs": [],
   "source": [
    "class my_relu6_model(nn.Module):\n",
    "    def __init__(self):\n",
    "        super(my_relu6_model, self).__init__()\n",
    "\n",
    "        self.qrelu6 = QuantRelu6(min_val=0.0, max_val=6.0, signed=False)\n",
    "\n",
    "    def forward(self, x):\n",
    "        return self.qrelu6(x)"
   ]
  },
  {
   "cell_type": "code",
   "execution_count": 24,
   "id": "930201f6-1129-4dea-abd1-1345e5f0db26",
   "metadata": {},
   "outputs": [],
   "source": [
    "relu6_model = my_relu6_model()"
   ]
  },
  {
   "cell_type": "code",
   "execution_count": 25,
   "id": "8ec968bd-66c8-4765-81c2-0430b107c331",
   "metadata": {},
   "outputs": [],
   "source": [
    "from brevitas.export import export_qonnx"
   ]
  },
  {
   "cell_type": "code",
   "execution_count": 26,
   "id": "3130af78-6f93-4100-bdff-36504081e77e",
   "metadata": {},
   "outputs": [],
   "source": [
    "input_shape = (2, 4)"
   ]
  },
  {
   "cell_type": "code",
   "execution_count": 34,
   "id": "c6790f45-a117-4d2d-9783-8238cb558a1a",
   "metadata": {},
   "outputs": [],
   "source": [
    "# export_qonnx(relu6_model, torch.randn(input_shape), 'relu6_model__QONNX.onnx');"
   ]
  },
  {
   "cell_type": "code",
   "execution_count": 32,
   "id": "df93976e-986f-426e-acfe-27b920975768",
   "metadata": {},
   "outputs": [
    {
     "name": "stdout",
     "output_type": "stream",
     "text": [
      "in: tensor([[ -8.4986,  -9.6218,  -0.4147,  10.5439],\n",
      "        [ -3.7002,   6.3618,  -2.1464,   6.0561],\n",
      "        [-10.6148,   1.9633,   1.5422,  -8.8977],\n",
      "        [  7.7430,   7.5358,   1.9808,   2.2477]])\n",
      "out: tensor([[0.0000, 0.0000, 0.0000, 6.0000],\n",
      "        [0.0000, 6.0000, 0.0000, 6.0000],\n",
      "        [0.0000, 1.9529, 1.5529, 0.0000],\n",
      "        [6.0000, 6.0000, 1.9765, 2.2588]], grad_fn=<MulBackward0>)\n"
     ]
    }
   ],
   "source": [
    "dummy_in = 24*torch.rand(4,4)-12\n",
    "print(f'in: {dummy_in}')\n",
    "out = relu6_model(dummy_in)\n",
    "print(f'out: {out}')"
   ]
  },
  {
   "cell_type": "code",
   "execution_count": null,
   "id": "fa0b23bc-4760-44fc-89c5-31efa78fcbb4",
   "metadata": {},
   "outputs": [],
   "source": []
  }
 ],
 "metadata": {
  "kernelspec": {
   "display_name": "Python 3 (ipykernel)",
   "language": "python",
   "name": "python3"
  },
  "language_info": {
   "codemirror_mode": {
    "name": "ipython",
    "version": 3
   },
   "file_extension": ".py",
   "mimetype": "text/x-python",
   "name": "python",
   "nbconvert_exporter": "python",
   "pygments_lexer": "ipython3",
   "version": "3.10.9"
  }
 },
 "nbformat": 4,
 "nbformat_minor": 5
}
