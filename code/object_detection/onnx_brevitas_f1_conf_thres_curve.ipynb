{
 "cells": [
  {
   "cell_type": "code",
   "execution_count": 1,
   "id": "cba6f86b-976b-4011-9ce7-7624ef404d89",
   "metadata": {},
   "outputs": [
    {
     "name": "stderr",
     "output_type": "stream",
     "text": [
      "INFO:albumentations.check_version:A new version of Albumentations is available: 1.4.14 (you have 1.4.10). Upgrade using: pip install --upgrade albumentations\n"
     ]
    }
   ],
   "source": [
    "import os\n",
    "from tqdm import tqdm\n",
    "\n",
    "import config\n",
    "import modules.dataloaders as detection_data_loader\n",
    "import modules.metrics as metrics\n",
    "\n",
    "import numpy as np\n",
    "import torch\n",
    "import torchmetrics\n",
    "from torchmetrics.detection.mean_ap import MeanAveragePrecision\n",
    "\n",
    "import matplotlib.pyplot as plt"
   ]
  },
  {
   "cell_type": "code",
   "execution_count": 2,
   "id": "f19697c9-984a-471a-b8a0-6bde511a2bf9",
   "metadata": {},
   "outputs": [],
   "source": [
    "import onnx\n",
    "import onnxruntime"
   ]
  },
  {
   "cell_type": "markdown",
   "id": "329b168b-544e-46ee-841a-ac7fd4db5b37",
   "metadata": {},
   "source": [
    "# Check Model"
   ]
  },
  {
   "cell_type": "code",
   "execution_count": 3,
   "id": "694b064e-d0b4-49db-8303-fc7ff88fed4a",
   "metadata": {
    "tags": []
   },
   "outputs": [],
   "source": [
    "brevitas_aimet_cpu_name = './onnx_models/w8a8b8__bed_detector___aimet__fixed_point__qcdq__CPU.onnx'\n",
    "brevitas_aimet_cpu_model = onnx.load(brevitas_aimet_cpu_name)\n",
    "onnx.checker.check_model(brevitas_aimet_cpu_name)"
   ]
  },
  {
   "cell_type": "markdown",
   "id": "a026033e-c8b5-4da0-a087-ace6e428caa5",
   "metadata": {},
   "source": [
    "# Helper function to convert pytorch tensors to numpy. Useful to handle datatset output."
   ]
  },
  {
   "cell_type": "code",
   "execution_count": 4,
   "id": "71913b22-0a62-49f5-9027-3b07ec2648ea",
   "metadata": {},
   "outputs": [],
   "source": [
    "def to_numpy(tensor):\n",
    "    return tensor.detach().cpu().numpy() if tensor.requires_grad else tensor.cpu().numpy()"
   ]
  },
  {
   "cell_type": "markdown",
   "id": "c7588acf-53c8-4a42-81f0-91104f972d2a",
   "metadata": {},
   "source": [
    "# Detection Loaders"
   ]
  },
  {
   "cell_type": "code",
   "execution_count": 5,
   "id": "496a4ef3-6a8b-48ca-9a30-16ebaffafc10",
   "metadata": {},
   "outputs": [
    {
     "name": "stdout",
     "output_type": "stream",
     "text": [
      "\n",
      "TEST DFire dataset\n",
      "DFire Removed wrong images: 0\n",
      "DFire Removed due to overlapping: 17\n",
      "DFire Removed due to more than 10: 0\n",
      "\n",
      "Test DFire dataset len: 183\n",
      "\n",
      "TEST FASDD UAV dataset\n",
      "FASDD Removed wrong images: 0\n",
      "FASDD Removed due to overlapping: 20\n",
      "FASDD Removed due to more than 10: 9\n",
      "\n",
      "Test FASDD UAV dataset len: 171\n",
      "\n",
      "TEST FASDD CV dataset\n",
      "FASDD Removed wrong images: 0\n",
      "FASDD Removed due to overlapping: 4\n",
      "FASDD Removed due to more than 10: 0\n",
      "\n",
      "Test FASDD CV dataset len: 196\n",
      "\n",
      "Concatenate Test DFire and FASDD UAV datasets\n",
      "Test dataset len: 354\n",
      "Concatenate with FASDD CV dataset\n",
      "Test dataset len: 550\n"
     ]
    }
   ],
   "source": [
    "detection_loader = detection_data_loader.get_val_loader()"
   ]
  },
  {
   "cell_type": "markdown",
   "id": "38ec9f0e-6cba-483b-91a9-3f0480dace32",
   "metadata": {},
   "source": [
    "# Evaluate Detector"
   ]
  },
  {
   "cell_type": "code",
   "execution_count": 6,
   "id": "c520ebc0-3558-4b8a-b1c1-dd72ed63d06a",
   "metadata": {},
   "outputs": [],
   "source": [
    "map_metric = MeanAveragePrecision(\n",
    "    box_format='xyxy',\n",
    "    iou_thresholds=[config.IOU_THRESHOLD],\n",
    "    class_metrics=True, # Enables separated metrics for each class\n",
    "    #average='micro',\n",
    "    extended_summary=False).to('cpu')"
   ]
  },
  {
   "cell_type": "markdown",
   "id": "45f15194-af3f-4006-a267-1ecef05cab30",
   "metadata": {},
   "source": [
    "### Evaluation Function"
   ]
  },
  {
   "cell_type": "code",
   "execution_count": 7,
   "id": "69dbabd9-aee8-4701-b978-82d2fa3b2c71",
   "metadata": {
    "tags": []
   },
   "outputs": [],
   "source": [
    "def eval_detector_onnx(loader, model_name, score_thres):\n",
    "\n",
    "    ort_session = onnxruntime.InferenceSession(model_name, providers=[\"CPUExecutionProvider\"])\n",
    "\n",
    "    map_metric.reset()\n",
    "    \n",
    "    loop = tqdm(loader, desc='Validating', leave=True)\n",
    "\n",
    "    for batch_idx, (img, label) in enumerate(loop):\n",
    "\n",
    "        for idx in range(config.BATCH_SIZE):\n",
    "            \n",
    "            ort_inputs = {ort_session.get_inputs()[0].name: to_numpy(img[idx].unsqueeze(dim=0))}\n",
    "            out = ort_session.run(None, ort_inputs)\n",
    "            \n",
    "            # out of onnx session is a list: [out_tensor with batch dim] -> [ (1,12,7,7) ] \n",
    "            # -> out[0] = (1,12,7,7)\n",
    "            # -> out[0][0] = (12,7,7)\n",
    "            #print(f'Out type: {type(out[0])} - Output shape: {out[0].shape}')\n",
    "            out = torch.tensor(np.array(out[0]))\n",
    "            out = out.permute(0, 2, 3, 1)\n",
    "            #print(f'Out shape after permute: {out.shape}')\n",
    "            #print(f'Out shape after indexing: {out[0].shape}')\n",
    "            \n",
    "            # Label should be [xc, yc, w, h, score=1, smoke, fire] in 7x7 square\n",
    "            #print(f'Label indexed shape: {label[idx].shape}')\n",
    "            \n",
    "        # Mean Average Precision\n",
    "            target_boxes = metrics.get_true_boxes(label[idx].detach().to('cpu'))\n",
    "            pred_boxes = metrics.get_pred_boxes(\n",
    "                model_out = out[0].detach().to('cpu'),\n",
    "                score_threshold=score_thres)\n",
    "            map_metric.update(preds = pred_boxes, target = target_boxes)\n",
    "    \n",
    "    meanAP = map_metric.compute()\n",
    "    map_metric.reset()\n",
    "\n",
    "    print(f'Smoke -> AP: {meanAP[\"map_per_class\"][0].item():.4f} - AR: {meanAP[\"mar_100_per_class\"][0].item():.4f}')\n",
    "    print(f'Fire -> AP: {meanAP[\"map_per_class\"][1].item():.4f} - AR: {meanAP[\"mar_100_per_class\"][1].item():.4f}')\n",
    "    print(f'mAP: {meanAP[\"map_50\"].item():.4f}')\n",
    "    \n",
    "    return (\n",
    "        {'mAP': meanAP['map_50'].item(),\n",
    "         'AP': [meanAP['map_per_class'][0].item(), meanAP['map_per_class'][1].item()],\n",
    "         'AR': [meanAP['mar_100_per_class'][0].item(), meanAP['mar_100_per_class'][1].item()]\n",
    "        }\n",
    "    )"
   ]
  },
  {
   "cell_type": "code",
   "execution_count": 8,
   "id": "d4ecac66-d2a6-4449-96c6-7176d61d3519",
   "metadata": {
    "tags": []
   },
   "outputs": [
    {
     "name": "stdout",
     "output_type": "stream",
     "text": [
      "\n",
      "________________________________ Brevitas AIMET CPU: FULL _______________________________\n"
     ]
    },
    {
     "name": "stderr",
     "output_type": "stream",
     "text": [
      "Validating: 100%|████████████████████████████████████████████████████████████████████████████████████| 8/8 [00:15<00:00,  1.89s/it]"
     ]
    },
    {
     "name": "stdout",
     "output_type": "stream",
     "text": [
      "Smoke -> AP: 0.6555 - AR: 0.6920\n",
      "Fire -> AP: 0.5481 - AR: 0.5737\n",
      "mAP: 0.6018\n"
     ]
    },
    {
     "name": "stderr",
     "output_type": "stream",
     "text": [
      "\n"
     ]
    }
   ],
   "source": [
    "print(\"\\n________________________________ Brevitas AIMET CPU: FULL _______________________________\")\n",
    "_ = eval_detector_onnx(\n",
    "    detection_loader, \n",
    "    brevitas_aimet_cpu_name,\n",
    "    0.2\n",
    ")"
   ]
  },
  {
   "cell_type": "markdown",
   "id": "d7eb3f6d-f5f1-49aa-98ce-0e138eeb053f",
   "metadata": {},
   "source": [
    "# Aladdin Metrics to Get Precision and Precision-Recall Curves"
   ]
  },
  {
   "cell_type": "code",
   "execution_count": 9,
   "id": "db5e8805-abfb-4d81-aec3-12f6b6e58baf",
   "metadata": {
    "tags": []
   },
   "outputs": [],
   "source": [
    "import modules.metrics_mAP_aladdin as aladdin_metrics"
   ]
  },
  {
   "cell_type": "code",
   "execution_count": 10,
   "id": "c1f59270-db99-4155-871b-de41e4086a14",
   "metadata": {
    "tags": []
   },
   "outputs": [],
   "source": [
    "''' ============================\n",
    "    Cell to Box Mask\n",
    "============================ '''\n",
    "cell2box_mask = torch.zeros((config.S, config.S, 2))\n",
    "for i in range(config.S):\n",
    "    for j in range(config.S):\n",
    "        cell2box_mask[i,j,0] = j\n",
    "        cell2box_mask[i,j,1] = i  "
   ]
  },
  {
   "cell_type": "markdown",
   "id": "2590ba94-5e1e-4a5f-b145-87d0ec068548",
   "metadata": {},
   "source": [
    "### Aladdin mAP modified for ONNX detection with thresholds"
   ]
  },
  {
   "cell_type": "code",
   "execution_count": 11,
   "id": "b31282c8-1c12-49e8-bff9-6559b22ee7a5",
   "metadata": {
    "tags": []
   },
   "outputs": [],
   "source": [
    "def aladdin_get_bboxes(\n",
    "    loader,\n",
    "    detector_model_name,\n",
    "    S=config.S,\n",
    "    B=config.B,\n",
    "    C=config.C,\n",
    "    mask=cell2box_mask,\n",
    "    device='cpu',\n",
    "    iou_threshold=0.5,\n",
    "    score_thres=0.2,\n",
    "    box_format=\"midpoint\"):\n",
    "    \n",
    "    '''\n",
    "    \n",
    "    Return:\n",
    "        - all_pred_boxes\n",
    "        - all_true_boxes\n",
    "        Format: [train_idx, class_prediction, prob_score, x1, y1, x2, y2]\n",
    "    '''\n",
    "    \n",
    "    detect_session = onnxruntime.InferenceSession(detector_model_name, providers=[\"CPUExecutionProvider\"])\n",
    "    \n",
    "    \n",
    "    all_pred_boxes = []\n",
    "    all_true_boxes = []\n",
    "\n",
    "    # Original Code\n",
    "    # make sure model is in eval before get bboxes\n",
    "    #model.eval()\n",
    "    train_idx = 0\n",
    "\n",
    "    loop = tqdm(loader, desc='Get Boxes', leave=True)\n",
    "    for batch_idx, (imgs, labels) in enumerate(loop):\n",
    "        # Original Code\n",
    "        # Inference in GPU. Move tensor to CPU in outcell_2_outboxes\n",
    "        # imgs = imgs.to(device)\n",
    "        # labels = labels.to(device)\n",
    "\n",
    "\n",
    "        for idx in range(config.BATCH_SIZE):\n",
    "            \n",
    "            detect_inputs = {detect_session.get_inputs()[0].name: to_numpy(imgs[idx].unsqueeze(dim=0))}\n",
    "            out = detect_session.run(None, detect_inputs)\n",
    "            out = torch.tensor(np.array(out[0]))\n",
    "            out = out.permute(0, 2, 3, 1)         \n",
    "            \n",
    "            # Original Code\n",
    "            # with torch.no_grad():\n",
    "            #     predictions = model(imgs)\n",
    "\n",
    "            # Original Code\n",
    "            # Remove Permute from the model\n",
    "            #predictions = predictions.permute(0, 2, 3, 1) # Original Code\n",
    "\n",
    "            #batch_size = imgs.shape[0] # Original Code\n",
    "\n",
    "            true_bboxes = aladdin_metrics.outcell_2_outboxes(\n",
    "                out_cells=labels[idx].unsqueeze(dim=0), \n",
    "                S=S, B=B, C=C, \n",
    "                mask=mask, \n",
    "                device='cpu', # Changed to cpu\n",
    "                is_pred=False)\n",
    "            bboxes = aladdin_metrics.outcell_2_outboxes(\n",
    "                out_cells=out, \n",
    "                S=S, B=B, C=C, \n",
    "                mask=mask, \n",
    "                device='cpu', # Changed to cpu\n",
    "                is_pred=True)\n",
    "\n",
    "            for idx in range(1): # Only 1 image every time, due to ONNX prediction in CPU\n",
    "                nms_boxes = aladdin_metrics.nms_yv1_getBBoxes(\n",
    "                    bboxes[idx],\n",
    "                    iou_threshold=iou_threshold,\n",
    "                    threshold=score_thres,\n",
    "                    box_format=box_format, # Midpoint, to use iou_tensor inside\n",
    "                )\n",
    "\n",
    "\n",
    "                # Plot some examples\n",
    "                #if batch_idx == 0 and idx == 0:\n",
    "                #    plot_image(x[idx].permute(1,2,0).to(\"cpu\"), nms_boxes)\n",
    "                #    print(nms_boxes)\n",
    "\n",
    "                for nms_box in nms_boxes:\n",
    "                    all_pred_boxes.append([train_idx] + nms_box)\n",
    "\n",
    "                for box in true_bboxes[idx]:\n",
    "                    # many will get converted to 0 pred, as bboxes have Conf = 1 and the rest are 0\n",
    "                    if box[1] > score_thres:\n",
    "                        all_true_boxes.append([train_idx] + box)\n",
    "\n",
    "                train_idx += 1\n",
    "\n",
    "    #model.train()\n",
    "    return all_pred_boxes, all_true_boxes"
   ]
  },
  {
   "cell_type": "markdown",
   "id": "d69d3002-4bbf-48e6-8d0a-0fc04d2689c3",
   "metadata": {},
   "source": [
    "# Function to Print mAP metrics"
   ]
  },
  {
   "cell_type": "code",
   "execution_count": 12,
   "id": "3106e8f4-b50f-44b0-977d-9b0790f38846",
   "metadata": {
    "tags": []
   },
   "outputs": [],
   "source": [
    "def print_metrics(mAP_metrics):\n",
    "    mAP, avg_prec, cls_prec, cls_rec = mAP_metrics\n",
    "    \n",
    "    mAP_str = \"mAP @0.50\"\n",
    "    smoke = \"Smoke\"\n",
    "    fire = \"Fire\"\n",
    "    \n",
    "    print(f'{mAP_str:<12}' + f'{mAP:.4f}')\n",
    "    print('Average Precision')\n",
    "    print(f'- {smoke:<10}' + f'{avg_prec[0]:.4f}')\n",
    "    print(f'- {fire:<10}' + f'{avg_prec[1]:.4f}')\n",
    "    print('Class Precision')\n",
    "    print(f'- {smoke:<10}' + f'{cls_prec[0]:.4f}')\n",
    "    print(f'- {fire:<10}' + f'{cls_prec[1]:.4f}')  \n",
    "    print('Class Recall')\n",
    "    print(f'- {smoke:<10}' + f'{cls_rec[0]:.4f}')\n",
    "    print(f'- {fire:<10}' + f'{cls_rec[1]:.4f}')\n",
    "    print('Class F1-Score')\n",
    "    smoke_f1 = 2 * (cls_prec[0] * cls_rec[0]) / (cls_prec[0] + cls_rec[0])\n",
    "    fire_f1 = 2 * (cls_prec[1] * cls_rec[1]) / (cls_prec[1] + cls_rec[1])\n",
    "    print(f'- {smoke:<10}' + f'{smoke_f1:.4f}')\n",
    "    print(f'- {fire:<10}' + f'{fire_f1:.4f}')"
   ]
  },
  {
   "cell_type": "markdown",
   "id": "ef24ce81-8b18-4f4a-8fbf-07e328effa35",
   "metadata": {},
   "source": [
    "## Score Thres "
   ]
  },
  {
   "cell_type": "code",
   "execution_count": 13,
   "id": "d456356e-5006-4c4e-a8ed-3858a862812a",
   "metadata": {
    "tags": []
   },
   "outputs": [],
   "source": [
    "score_thres_list = [0.05, 0.1, 0.15, 0.2, 0.25, 0.3, 0.35, 0.4, 0.5, 0.6, 0.7, 0.8, 0.9]"
   ]
  },
  {
   "cell_type": "code",
   "execution_count": 14,
   "id": "2fa449f1-a3b5-4fe6-a21c-0276f2274a30",
   "metadata": {
    "tags": []
   },
   "outputs": [],
   "source": [
    "def get_f1_metrics(loader, detector_model_name, score_list):\n",
    "    \n",
    "    f1_smoke_list = []\n",
    "    f1_fire_list = []\n",
    "    f1_mean_list = []\n",
    "    \n",
    "    for score in score_list:\n",
    "        pred_boxes, true_boxes = aladdin_get_bboxes(\n",
    "            loader,\n",
    "            detector_model_name = detector_model_name,\n",
    "            score_thres = score)\n",
    "        _, _, precision, recall = aladdin_metrics.mAP(\n",
    "            log_path=None,\n",
    "            pred_boxes=pred_boxes,\n",
    "            true_boxes=true_boxes)\n",
    "        f1_smoke = (2*precision[0]*recall[0])/(precision[0] + recall[0])\n",
    "        f1_fire = (2*precision[1]*recall[1])/(precision[1] + recall[1])\n",
    "        f1_mean = (f1_smoke + f1_fire)/2\n",
    "        f1_smoke_list.append(f1_smoke)\n",
    "        f1_fire_list.append(f1_fire)\n",
    "        f1_mean_list.append(f1_mean)\n",
    "        \n",
    "    return f1_smoke_list, f1_fire_list, f1_mean_list"
   ]
  },
  {
   "cell_type": "code",
   "execution_count": 15,
   "id": "48e799ec-9e40-4d60-b0e9-fcb92a30efc0",
   "metadata": {
    "tags": []
   },
   "outputs": [
    {
     "name": "stderr",
     "output_type": "stream",
     "text": [
      "Get Boxes: 100%|█████████████████████████████████████████████████████████████████████████████████████| 8/8 [00:12<00:00,  1.56s/it]\n",
      "mAP:@.5: 100%|███████████████████████████████████████████████████████████████████████████████████████| 2/2 [00:00<00:00, 19.87it/s]\n",
      "Get Boxes: 100%|█████████████████████████████████████████████████████████████████████████████████████| 8/8 [00:12<00:00,  1.55s/it]\n",
      "mAP:@.5: 100%|███████████████████████████████████████████████████████████████████████████████████████| 2/2 [00:00<00:00, 25.53it/s]\n",
      "Get Boxes: 100%|█████████████████████████████████████████████████████████████████████████████████████| 8/8 [00:12<00:00,  1.60s/it]\n",
      "mAP:@.5: 100%|███████████████████████████████████████████████████████████████████████████████████████| 2/2 [00:00<00:00, 28.25it/s]\n",
      "Get Boxes: 100%|█████████████████████████████████████████████████████████████████████████████████████| 8/8 [00:12<00:00,  1.55s/it]\n",
      "mAP:@.5: 100%|███████████████████████████████████████████████████████████████████████████████████████| 2/2 [00:00<00:00, 29.76it/s]\n",
      "Get Boxes: 100%|█████████████████████████████████████████████████████████████████████████████████████| 8/8 [00:12<00:00,  1.57s/it]\n",
      "mAP:@.5: 100%|███████████████████████████████████████████████████████████████████████████████████████| 2/2 [00:00<00:00, 32.27it/s]\n",
      "Get Boxes: 100%|█████████████████████████████████████████████████████████████████████████████████████| 8/8 [00:12<00:00,  1.56s/it]\n",
      "mAP:@.5: 100%|███████████████████████████████████████████████████████████████████████████████████████| 2/2 [00:00<00:00, 34.02it/s]\n",
      "Get Boxes: 100%|█████████████████████████████████████████████████████████████████████████████████████| 8/8 [00:12<00:00,  1.53s/it]\n",
      "mAP:@.5: 100%|███████████████████████████████████████████████████████████████████████████████████████| 2/2 [00:00<00:00, 35.09it/s]\n",
      "Get Boxes: 100%|█████████████████████████████████████████████████████████████████████████████████████| 8/8 [00:12<00:00,  1.55s/it]\n",
      "mAP:@.5: 100%|███████████████████████████████████████████████████████████████████████████████████████| 2/2 [00:00<00:00, 36.14it/s]\n",
      "Get Boxes: 100%|█████████████████████████████████████████████████████████████████████████████████████| 8/8 [00:12<00:00,  1.54s/it]\n",
      "mAP:@.5: 100%|███████████████████████████████████████████████████████████████████████████████████████| 2/2 [00:00<00:00, 40.74it/s]\n",
      "Get Boxes: 100%|█████████████████████████████████████████████████████████████████████████████████████| 8/8 [00:12<00:00,  1.57s/it]\n",
      "mAP:@.5: 100%|███████████████████████████████████████████████████████████████████████████████████████| 2/2 [00:00<00:00, 43.26it/s]\n",
      "Get Boxes: 100%|█████████████████████████████████████████████████████████████████████████████████████| 8/8 [00:12<00:00,  1.53s/it]\n",
      "mAP:@.5: 100%|███████████████████████████████████████████████████████████████████████████████████████| 2/2 [00:00<00:00, 49.33it/s]\n",
      "Get Boxes: 100%|█████████████████████████████████████████████████████████████████████████████████████| 8/8 [00:12<00:00,  1.57s/it]\n",
      "mAP:@.5: 100%|███████████████████████████████████████████████████████████████████████████████████████| 2/2 [00:00<00:00, 56.60it/s]\n",
      "Get Boxes: 100%|█████████████████████████████████████████████████████████████████████████████████████| 8/8 [00:12<00:00,  1.57s/it]\n",
      "mAP:@.5: 100%|███████████████████████████████████████████████████████████████████████████████████████| 2/2 [00:00<00:00, 67.91it/s]\n"
     ]
    }
   ],
   "source": [
    "f1_metrics = get_f1_metrics(detection_loader, brevitas_aimet_cpu_name, score_thres_list)"
   ]
  },
  {
   "cell_type": "code",
   "execution_count": 16,
   "id": "66b88515-85f9-4621-bd6a-707ef2191735",
   "metadata": {
    "tags": []
   },
   "outputs": [
    {
     "name": "stdout",
     "output_type": "stream",
     "text": [
      "([0.5287671138997999, 0.6275167900918407, 0.6666666757932757, 0.6880907542289574, 0.6980392104178744, 0.7172131284163327, 0.71848740593366, 0.7198275792679342, 0.7072072015163203, 0.687350827307053, 0.634517769117615, 0.5698924900593269, 0.45481051407680767], [0.4883720920204811, 0.5680934062979472, 0.5979381342676142, 0.623376644075892, 0.6396396413128601, 0.6407322754851508, 0.6524822892928118, 0.6618705127389072, 0.6600496169216583, 0.6498740511232683, 0.6342711136253933, 0.578378391315068, 0.5371428699717229], [0.5085696029601405, 0.5978050981948939, 0.6323024050304449, 0.6557336991524247, 0.6688394258653673, 0.6789727019507417, 0.6854848476132359, 0.6908490460034207, 0.6836284092189893, 0.6686124392151607, 0.6343944413715041, 0.5741354406871975, 0.4959766920242653])\n"
     ]
    }
   ],
   "source": [
    "print(f1_metrics)"
   ]
  },
  {
   "cell_type": "code",
   "execution_count": 27,
   "id": "92fed9ff-3e37-4e5f-a163-eb65547ef703",
   "metadata": {
    "tags": []
   },
   "outputs": [],
   "source": [
    "smoke_f1 = [0] + f1_metrics[0] + [0]\n",
    "fire_f1 = [0] + f1_metrics[1] + [0]\n",
    "mean_f1 = [0] + f1_metrics[2] + [0]\n",
    "\n",
    "score_thres_list = [0] + score_thres_list + [1]"
   ]
  },
  {
   "cell_type": "code",
   "execution_count": 38,
   "id": "2f80f40d-4d73-4be9-acb6-eefb03e0d189",
   "metadata": {
    "tags": []
   },
   "outputs": [
    {
     "data": {
      "image/png": "[encoded data removed]",
      "text/plain": [
       "<Figure size 400x300 with 1 Axes>"
      ]
     },
     "metadata": {},
     "output_type": "display_data"
    }
   ],
   "source": [
    "plt.subplots(figsize=(4,3))\n",
    "plt.plot(score_thres_list, smoke_f1, label=\"Smoke\", linewidth=0.8)\n",
    "plt.plot(score_thres_list, fire_f1, label=\"Fire\", linewidth=0.8)\n",
    "plt.plot(score_thres_list, mean_f1, label=\"Mean\", linewidth=2)\n",
    "plt.grid()\n",
    "plt.xlabel(\"Score Threshold\")\n",
    "plt.ylabel(\"F1-score\")\n",
    "plt.legend()\n",
    "plt.title(\"F1(score threshold) curves\")\n",
    "plt.show()"
   ]
  },
  {
   "cell_type": "code",
   "execution_count": 40,
   "id": "9e9eb8ed-683c-45c9-92c5-914d6c8ce642",
   "metadata": {
    "tags": []
   },
   "outputs": [
    {
     "name": "stdout",
     "output_type": "stream",
     "text": [
      "\n",
      "________________________________ Brevitas AIMET CPU: FULL _______________________________\n"
     ]
    },
    {
     "name": "stderr",
     "output_type": "stream",
     "text": [
      "Validating: 100%|████████████████████████████████████████████████████████████████████████████████████| 8/8 [00:15<00:00,  1.91s/it]"
     ]
    },
    {
     "name": "stdout",
     "output_type": "stream",
     "text": [
      "Smoke -> AP: 0.4006 - AR: 0.4030\n",
      "Fire -> AP: 0.4208 - AR: 0.4263\n",
      "mAP: 0.4107\n"
     ]
    },
    {
     "name": "stderr",
     "output_type": "stream",
     "text": [
      "\n"
     ]
    }
   ],
   "source": [
    "print(\"\\n________________________________ Brevitas AIMET CPU: FULL _______________________________\")\n",
    "eval_metrics = eval_detector_onnx(\n",
    "    detection_loader, \n",
    "    brevitas_aimet_cpu_name,\n",
    "    0.8\n",
    ")"
   ]
  },
  {
   "cell_type": "code",
   "execution_count": 41,
   "id": "06c8f7bc-3c78-42a3-8920-8992a0cd39f5",
   "metadata": {
    "tags": []
   },
   "outputs": [
    {
     "name": "stdout",
     "output_type": "stream",
     "text": [
      "{'mAP': 0.41070422530174255, 'AP': [0.4006004333496094, 0.42080801725387573], 'AR': [0.4030418395996094, 0.42629483342170715]}\n"
     ]
    }
   ],
   "source": [
    "print(eval_metrics)"
   ]
  },
  {
   "cell_type": "code",
   "execution_count": 42,
   "id": "4677ad4b-b9ed-4132-8e3d-a5796352c328",
   "metadata": {
    "tags": []
   },
   "outputs": [],
   "source": [
    "from scipy.interpolate import interp1d"
   ]
  },
  {
   "cell_type": "code",
   "execution_count": 44,
   "id": "2187a44e-38cd-4b11-9a30-7b09d6d9a3af",
   "metadata": {
    "tags": []
   },
   "outputs": [],
   "source": [
    "cubic_interploation_model = interp1d(np.array(score_thres_list), np.array(smoke_f1), kind=\"cubic\")\n",
    "xs = np.linspace(0, 1, 500)\n",
    "ys = cubic_interploation_model(xs)"
   ]
  },
  {
   "cell_type": "code",
   "execution_count": 45,
   "id": "281e0183-b624-4b68-af37-645169d354db",
   "metadata": {
    "tags": []
   },
   "outputs": [
    {
     "data": {
      "image/png": "[encoded data removed]",
      "text/plain": [
       "<Figure size 640x480 with 1 Axes>"
      ]
     },
     "metadata": {},
     "output_type": "display_data"
    }
   ],
   "source": [
    "plt.plot(xs, ys)\n",
    "plt.show()"
   ]
  },
  {
   "cell_type": "code",
   "execution_count": null,
   "id": "1e75b682-19eb-430b-9fc2-2097456880f1",
   "metadata": {},
   "outputs": [],
   "source": []
  }
 ],
 "metadata": {
  "kernelspec": {
   "display_name": "Python 3 (ipykernel)",
   "language": "python",
   "name": "python3"
  },
  "language_info": {
   "codemirror_mode": {
    "name": "ipython",
    "version": 3
   },
   "file_extension": ".py",
   "mimetype": "text/x-python",
   "name": "python",
   "nbconvert_exporter": "python",
   "pygments_lexer": "ipython3",
   "version": "3.10.13"
  }
 },
 "nbformat": 4,
 "nbformat_minor": 5
}
