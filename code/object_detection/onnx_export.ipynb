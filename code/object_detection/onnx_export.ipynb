{
 "cells": [
  {
   "cell_type": "code",
   "execution_count": 1,
   "id": "ebd4d20f-88a8-4d4b-a204-65af187ad53f",
   "metadata": {
    "tags": []
   },
   "outputs": [
    {
     "name": "stderr",
     "output_type": "stream",
     "text": [
      "INFO:albumentations.check_version:A new version of Albumentations is available: 1.4.14 (you have 1.4.10). Upgrade using: pip install --upgrade albumentations\n"
     ]
    }
   ],
   "source": [
    "import config\n",
    "from tqdm import tqdm\n",
    "import numpy as np\n",
    "import torch\n",
    "import modules.models as models\n",
    "import modules.dataloaders as detection_data_loader\n",
    "import modules.metrics as metrics\n",
    "\n",
    "from torchinfo import summary"
   ]
  },
  {
   "cell_type": "markdown",
   "id": "b65e3868-b0df-445e-96a4-459a144948bd",
   "metadata": {},
   "source": [
    "# Model Setup"
   ]
  },
  {
   "cell_type": "markdown",
   "id": "39b0a53f-bed4-411a-a897-0d3745435497",
   "metadata": {},
   "source": [
    "## BED manual optim trained with FASDD"
   ]
  },
  {
   "cell_type": "code",
   "execution_count": 2,
   "id": "0e421b2a-68ec-4c9b-9662-2dfa3e667884",
   "metadata": {
    "tags": []
   },
   "outputs": [],
   "source": [
    "bed_model = models.SIMPLE_BED_DETECTOR().to(config.DEVICE)"
   ]
  },
  {
   "cell_type": "markdown",
   "id": "e097c5a3-509b-4154-88ea-1f0dd58a195e",
   "metadata": {},
   "source": [
    "## SVD"
   ]
  },
  {
   "cell_type": "code",
   "execution_count": 3,
   "id": "d5103e2c-0403-43bf-ae5a-0ded20bd3f40",
   "metadata": {
    "tags": []
   },
   "outputs": [],
   "source": [
    "svd_model = models.SVD_BED_DETECTOR().to(config.DEVICE)"
   ]
  },
  {
   "cell_type": "markdown",
   "id": "b41c8e5b-4bed-4617-85df-3c3fbc3f48bf",
   "metadata": {},
   "source": [
    "## Pruned after SVD"
   ]
  },
  {
   "cell_type": "code",
   "execution_count": 4,
   "id": "950b7aaa-5f70-4653-b204-bb548fc4701c",
   "metadata": {
    "tags": []
   },
   "outputs": [],
   "source": [
    "pruned_after_svd_model = models.PRUNED_AFTER_SVD_BED_DETECTOR().to(config.DEVICE)"
   ]
  },
  {
   "cell_type": "markdown",
   "id": "1ce0de52-a739-473b-b8c4-e0fb3eb38f18",
   "metadata": {},
   "source": [
    "### Load Checkpoint"
   ]
  },
  {
   "cell_type": "code",
   "execution_count": 5,
   "id": "659e52f8-9f49-4c2c-a4a9-35b125115a2f",
   "metadata": {},
   "outputs": [],
   "source": [
    "def load_checkpoint(model_path, model, optimizer, scheduler, device):\n",
    "    checkpoint = torch.load(model_path, map_location=device)\n",
    "    model.load_state_dict(checkpoint['model_state_dict'])\n",
    "    if optimizer is not None:\n",
    "        optimizer.load_state_dict(checkpoint['optimizer_state_dict'])\n",
    "    if scheduler is not None:\n",
    "        scheduler.load_state_dict(checkpoint['scheduler_state_dict'])\n",
    "    start_epoch = checkpoint['epoch']\n",
    "    print(f\"Loading Model. Trained during {start_epoch} epochs\")\n",
    "    return start_epoch"
   ]
  },
  {
   "cell_type": "markdown",
   "id": "0f46f91b-1981-4700-842c-119c8dc35a42",
   "metadata": {},
   "source": [
    "## BED FASDD"
   ]
  },
  {
   "cell_type": "code",
   "execution_count": 6,
   "id": "6809f40e-13d0-433d-9344-3447765acf0b",
   "metadata": {
    "tags": []
   },
   "outputs": [],
   "source": [
    "bed_folder = './experiments/test_20_no_sigmoid_softmax_permute_out/weights/'\n",
    "bed_weights = bed_folder + 'BED_detector__best_mAP=0.6405__epoch=144.pt'"
   ]
  },
  {
   "cell_type": "code",
   "execution_count": 7,
   "id": "42549ece-64f9-4d07-be10-542cf248de9c",
   "metadata": {
    "tags": []
   },
   "outputs": [
    {
     "name": "stdout",
     "output_type": "stream",
     "text": [
      "Loading Model. Trained during 144 epochs\n",
      "Model forced to eval\n"
     ]
    }
   ],
   "source": [
    "bed_model.eval()\n",
    "load_checkpoint(\n",
    "    bed_weights,\n",
    "    bed_model,\n",
    "    None,\n",
    "    None,\n",
    "    'cuda')\n",
    "bed_model.to('cpu')\n",
    "print(\"Model forced to eval\")"
   ]
  },
  {
   "cell_type": "markdown",
   "id": "7127c193-112b-4663-8e15-c45a876eb643",
   "metadata": {},
   "source": [
    "## BED SVD"
   ]
  },
  {
   "cell_type": "code",
   "execution_count": 8,
   "id": "3214e57d-f50e-4641-b81f-317128a02580",
   "metadata": {
    "tags": []
   },
   "outputs": [],
   "source": [
    "svd_folder = './experiments/test_31_svd_080_simple_model/weights/'\n",
    "svd_weights = svd_folder + 'BED_detector__best_mAP=0.6204__epoch=4.pt'"
   ]
  },
  {
   "cell_type": "code",
   "execution_count": 9,
   "id": "e5b75e58-70a5-46a6-9f68-70495e17bfb3",
   "metadata": {
    "tags": []
   },
   "outputs": [
    {
     "name": "stdout",
     "output_type": "stream",
     "text": [
      "Loading Model. Trained during 4 epochs\n",
      "Model forced to eval\n"
     ]
    }
   ],
   "source": [
    "svd_model.eval()\n",
    "load_checkpoint(\n",
    "    svd_weights,\n",
    "    svd_model,\n",
    "    None,\n",
    "    None,\n",
    "    'cuda')\n",
    "svd_model.to('cpu')\n",
    "print(\"Model forced to eval\")"
   ]
  },
  {
   "cell_type": "markdown",
   "id": "8a99b25b-2976-4546-80b1-6af776f6fc23",
   "metadata": {},
   "source": [
    "## Pruned after SVD"
   ]
  },
  {
   "cell_type": "code",
   "execution_count": 10,
   "id": "f8755bcf-cb29-43d8-bde9-bfd9ce2a06ee",
   "metadata": {
    "tags": []
   },
   "outputs": [],
   "source": [
    "pruned_after_svd_folder = './experiments/test_35_pruning_090_after_svd_080_simple_model_more_train/weights/'\n",
    "pruned_after_svd_weights = pruned_after_svd_folder + 'BED_detector__best_mAP=0.6289__epoch=14.pt'"
   ]
  },
  {
   "cell_type": "code",
   "execution_count": 11,
   "id": "25095c72-2300-4908-898d-b51e6cd3d50f",
   "metadata": {
    "tags": []
   },
   "outputs": [
    {
     "name": "stdout",
     "output_type": "stream",
     "text": [
      "Loading Model. Trained during 14 epochs\n",
      "Model forced to eval\n"
     ]
    }
   ],
   "source": [
    "pruned_after_svd_model.eval()\n",
    "load_checkpoint(\n",
    "    pruned_after_svd_weights,\n",
    "    pruned_after_svd_model,\n",
    "    None,\n",
    "    None,\n",
    "    'cuda')\n",
    "pruned_after_svd_model.to('cpu')\n",
    "print(\"Model forced to eval\")"
   ]
  },
  {
   "cell_type": "markdown",
   "id": "c8c916f2-5de0-4948-b2a3-fb90815d4e07",
   "metadata": {},
   "source": [
    "### Torch Summary"
   ]
  },
  {
   "cell_type": "code",
   "execution_count": 12,
   "id": "2dbc97c2-7154-424b-a172-67195854775f",
   "metadata": {
    "tags": []
   },
   "outputs": [
    {
     "name": "stdout",
     "output_type": "stream",
     "text": [
      "==========================================================================================\n",
      "Layer (type:depth-idx)                   Output Shape              Param #\n",
      "==========================================================================================\n",
      "SIMPLE_BED_DETECTOR                      [1, 12, 7, 7]             --\n",
      "├─Sequential: 1-1                        [1, 12, 7, 7]             --\n",
      "│    └─Conv2d: 2-1                       [1, 32, 224, 224]         864\n",
      "│    └─BatchNorm2d: 2-2                  [1, 32, 224, 224]         64\n",
      "│    └─ReLU: 2-3                         [1, 32, 224, 224]         --\n",
      "│    └─Dropout2d: 2-4                    [1, 32, 224, 224]         --\n",
      "│    └─MaxPool2d: 2-5                    [1, 32, 112, 112]         --\n",
      "│    └─Conv2d: 2-6                       [1, 16, 112, 112]         4,608\n",
      "│    └─BatchNorm2d: 2-7                  [1, 16, 112, 112]         32\n",
      "│    └─ReLU: 2-8                         [1, 16, 112, 112]         --\n",
      "│    └─Dropout2d: 2-9                    [1, 16, 112, 112]         --\n",
      "│    └─MaxPool2d: 2-10                   [1, 16, 56, 56]           --\n",
      "│    └─Conv2d: 2-11                      [1, 16, 56, 56]           256\n",
      "│    └─BatchNorm2d: 2-12                 [1, 16, 56, 56]           32\n",
      "│    └─ReLU: 2-13                        [1, 16, 56, 56]           --\n",
      "│    └─Conv2d: 2-14                      [1, 32, 56, 56]           4,608\n",
      "│    └─BatchNorm2d: 2-15                 [1, 32, 56, 56]           64\n",
      "│    └─ReLU: 2-16                        [1, 32, 56, 56]           --\n",
      "│    └─Conv2d: 2-17                      [1, 32, 56, 56]           1,024\n",
      "│    └─BatchNorm2d: 2-18                 [1, 32, 56, 56]           64\n",
      "│    └─ReLU: 2-19                        [1, 32, 56, 56]           --\n",
      "│    └─Conv2d: 2-20                      [1, 64, 56, 56]           18,432\n",
      "│    └─BatchNorm2d: 2-21                 [1, 64, 56, 56]           128\n",
      "│    └─ReLU: 2-22                        [1, 64, 56, 56]           --\n",
      "│    └─MaxPool2d: 2-23                   [1, 64, 28, 28]           --\n",
      "│    └─Conv2d: 2-24                      [1, 32, 28, 28]           2,048\n",
      "│    └─BatchNorm2d: 2-25                 [1, 32, 28, 28]           64\n",
      "│    └─ReLU: 2-26                        [1, 32, 28, 28]           --\n",
      "│    └─Conv2d: 2-27                      [1, 64, 28, 28]           18,432\n",
      "│    └─BatchNorm2d: 2-28                 [1, 64, 28, 28]           128\n",
      "│    └─ReLU: 2-29                        [1, 64, 28, 28]           --\n",
      "│    └─Conv2d: 2-30                      [1, 32, 28, 28]           2,048\n",
      "│    └─BatchNorm2d: 2-31                 [1, 32, 28, 28]           64\n",
      "│    └─ReLU: 2-32                        [1, 32, 28, 28]           --\n",
      "│    └─Conv2d: 2-33                      [1, 64, 28, 28]           18,432\n",
      "│    └─BatchNorm2d: 2-34                 [1, 64, 28, 28]           128\n",
      "│    └─ReLU: 2-35                        [1, 64, 28, 28]           --\n",
      "│    └─Conv2d: 2-36                      [1, 32, 28, 28]           2,048\n",
      "│    └─BatchNorm2d: 2-37                 [1, 32, 28, 28]           64\n",
      "│    └─ReLU: 2-38                        [1, 32, 28, 28]           --\n",
      "│    └─Conv2d: 2-39                      [1, 64, 28, 28]           18,432\n",
      "│    └─BatchNorm2d: 2-40                 [1, 64, 28, 28]           128\n",
      "│    └─ReLU: 2-41                        [1, 64, 28, 28]           --\n",
      "│    └─MaxPool2d: 2-42                   [1, 64, 14, 14]           --\n",
      "│    └─Conv2d: 2-43                      [1, 32, 14, 14]           2,048\n",
      "│    └─BatchNorm2d: 2-44                 [1, 32, 14, 14]           64\n",
      "│    └─ReLU: 2-45                        [1, 32, 14, 14]           --\n",
      "│    └─Conv2d: 2-46                      [1, 64, 14, 14]           18,432\n",
      "│    └─BatchNorm2d: 2-47                 [1, 64, 14, 14]           128\n",
      "│    └─ReLU: 2-48                        [1, 64, 14, 14]           --\n",
      "│    └─Conv2d: 2-49                      [1, 32, 14, 14]           2,048\n",
      "│    └─BatchNorm2d: 2-50                 [1, 32, 14, 14]           64\n",
      "│    └─ReLU: 2-51                        [1, 32, 14, 14]           --\n",
      "│    └─Conv2d: 2-52                      [1, 64, 14, 14]           18,432\n",
      "│    └─BatchNorm2d: 2-53                 [1, 64, 14, 14]           128\n",
      "│    └─ReLU: 2-54                        [1, 64, 14, 14]           --\n",
      "│    └─Conv2d: 2-55                      [1, 64, 14, 14]           36,864\n",
      "│    └─BatchNorm2d: 2-56                 [1, 64, 14, 14]           128\n",
      "│    └─ReLU: 2-57                        [1, 64, 14, 14]           --\n",
      "│    └─Conv2d: 2-58                      [1, 64, 14, 14]           36,864\n",
      "│    └─BatchNorm2d: 2-59                 [1, 64, 14, 14]           128\n",
      "│    └─ReLU: 2-60                        [1, 64, 14, 14]           --\n",
      "│    └─MaxPool2d: 2-61                   [1, 64, 7, 7]             --\n",
      "│    └─Conv2d: 2-62                      [1, 64, 7, 7]             36,864\n",
      "│    └─BatchNorm2d: 2-63                 [1, 64, 7, 7]             128\n",
      "│    └─ReLU: 2-64                        [1, 64, 7, 7]             --\n",
      "│    └─Conv2d: 2-65                      [1, 64, 7, 7]             36,864\n",
      "│    └─BatchNorm2d: 2-66                 [1, 64, 7, 7]             128\n",
      "│    └─ReLU: 2-67                        [1, 64, 7, 7]             --\n",
      "│    └─Conv2d: 2-68                      [1, 64, 7, 7]             4,096\n",
      "│    └─BatchNorm2d: 2-69                 [1, 64, 7, 7]             128\n",
      "│    └─ReLU: 2-70                        [1, 64, 7, 7]             --\n",
      "│    └─Conv2d: 2-71                      [1, 16, 7, 7]             1,024\n",
      "│    └─BatchNorm2d: 2-72                 [1, 16, 7, 7]             32\n",
      "│    └─ReLU: 2-73                        [1, 16, 7, 7]             --\n",
      "│    └─Conv2d: 2-74                      [1, 16, 7, 7]             256\n",
      "│    └─BatchNorm2d: 2-75                 [1, 16, 7, 7]             32\n",
      "│    └─ReLU: 2-76                        [1, 16, 7, 7]             --\n",
      "│    └─Conv2d: 2-77                      [1, 12, 7, 7]             204\n",
      "==========================================================================================\n",
      "Total params: 287,276\n",
      "Trainable params: 287,276\n",
      "Non-trainable params: 0\n",
      "Total mult-adds (M): 251.96\n",
      "==========================================================================================\n",
      "Input size (MB): 0.60\n",
      "Forward/backward pass size (MB): 40.92\n",
      "Params size (MB): 1.15\n",
      "Estimated Total Size (MB): 42.67\n",
      "==========================================================================================\n",
      "==========================================================================================\n",
      "Layer (type:depth-idx)                   Output Shape              Param #\n",
      "==========================================================================================\n",
      "SVD_BED_DETECTOR                         [1, 12, 7, 7]             --\n",
      "├─Sequential: 1-1                        [1, 12, 7, 7]             --\n",
      "│    └─Sequential: 2-1                   [1, 32, 224, 224]         --\n",
      "│    │    └─Conv2d: 3-1                  [1, 5, 224, 224]          45\n",
      "│    │    └─Conv2d: 3-2                  [1, 32, 224, 224]         480\n",
      "│    └─BatchNorm2d: 2-2                  [1, 32, 224, 224]         64\n",
      "│    └─ReLU: 2-3                         [1, 32, 224, 224]         --\n",
      "│    └─Dropout2d: 2-4                    [1, 32, 224, 224]         --\n",
      "│    └─MaxPool2d: 2-5                    [1, 32, 112, 112]         --\n",
      "│    └─Sequential: 2-6                   [1, 16, 112, 112]         --\n",
      "│    │    └─Conv2d: 3-3                  [1, 6, 112, 112]          576\n",
      "│    │    └─Conv2d: 3-4                  [1, 16, 112, 112]         288\n",
      "│    └─BatchNorm2d: 2-7                  [1, 16, 112, 112]         32\n",
      "│    └─ReLU: 2-8                         [1, 16, 112, 112]         --\n",
      "│    └─Dropout2d: 2-9                    [1, 16, 112, 112]         --\n",
      "│    └─MaxPool2d: 2-10                   [1, 16, 56, 56]           --\n",
      "│    └─Sequential: 2-11                  [1, 16, 56, 56]           --\n",
      "│    │    └─Conv2d: 3-5                  [1, 3, 56, 56]            48\n",
      "│    │    └─Conv2d: 3-6                  [1, 16, 56, 56]           48\n",
      "│    └─BatchNorm2d: 2-12                 [1, 16, 56, 56]           32\n",
      "│    └─ReLU: 2-13                        [1, 16, 56, 56]           --\n",
      "│    └─Sequential: 2-14                  [1, 32, 56, 56]           --\n",
      "│    │    └─Conv2d: 3-7                  [1, 16, 56, 56]           768\n",
      "│    │    └─Conv2d: 3-8                  [1, 32, 56, 56]           1,536\n",
      "│    └─BatchNorm2d: 2-15                 [1, 32, 56, 56]           64\n",
      "│    └─ReLU: 2-16                        [1, 32, 56, 56]           --\n",
      "│    └─Conv2d: 2-17                      [1, 32, 56, 56]           1,024\n",
      "│    └─BatchNorm2d: 2-18                 [1, 32, 56, 56]           64\n",
      "│    └─ReLU: 2-19                        [1, 32, 56, 56]           --\n",
      "│    └─Sequential: 2-20                  [1, 64, 56, 56]           --\n",
      "│    │    └─Conv2d: 3-9                  [1, 51, 56, 56]           4,896\n",
      "│    │    └─Conv2d: 3-10                 [1, 64, 56, 56]           9,792\n",
      "│    └─BatchNorm2d: 2-21                 [1, 64, 56, 56]           128\n",
      "│    └─ReLU: 2-22                        [1, 64, 56, 56]           --\n",
      "│    └─MaxPool2d: 2-23                   [1, 64, 28, 28]           --\n",
      "│    └─Conv2d: 2-24                      [1, 32, 28, 28]           2,048\n",
      "│    └─BatchNorm2d: 2-25                 [1, 32, 28, 28]           64\n",
      "│    └─ReLU: 2-26                        [1, 32, 28, 28]           --\n",
      "│    └─Sequential: 2-27                  [1, 64, 28, 28]           --\n",
      "│    │    └─Conv2d: 3-11                 [1, 38, 28, 28]           3,648\n",
      "│    │    └─Conv2d: 3-12                 [1, 64, 28, 28]           7,296\n",
      "│    └─BatchNorm2d: 2-28                 [1, 64, 28, 28]           128\n",
      "│    └─ReLU: 2-29                        [1, 64, 28, 28]           --\n",
      "│    └─Conv2d: 2-30                      [1, 32, 28, 28]           2,048\n",
      "│    └─BatchNorm2d: 2-31                 [1, 32, 28, 28]           64\n",
      "│    └─ReLU: 2-32                        [1, 32, 28, 28]           --\n",
      "│    └─Sequential: 2-33                  [1, 64, 28, 28]           --\n",
      "│    │    └─Conv2d: 3-13                 [1, 32, 28, 28]           3,072\n",
      "│    │    └─Conv2d: 3-14                 [1, 64, 28, 28]           6,144\n",
      "│    └─BatchNorm2d: 2-34                 [1, 64, 28, 28]           128\n",
      "│    └─ReLU: 2-35                        [1, 64, 28, 28]           --\n",
      "│    └─Sequential: 2-36                  [1, 32, 28, 28]           --\n",
      "│    │    └─Conv2d: 3-15                 [1, 17, 28, 28]           1,088\n",
      "│    │    └─Conv2d: 3-16                 [1, 32, 28, 28]           544\n",
      "│    └─BatchNorm2d: 2-37                 [1, 32, 28, 28]           64\n",
      "│    └─ReLU: 2-38                        [1, 32, 28, 28]           --\n",
      "│    └─Sequential: 2-39                  [1, 64, 28, 28]           --\n",
      "│    │    └─Conv2d: 3-17                 [1, 32, 28, 28]           3,072\n",
      "│    │    └─Conv2d: 3-18                 [1, 64, 28, 28]           6,144\n",
      "│    └─BatchNorm2d: 2-40                 [1, 64, 28, 28]           128\n",
      "│    └─ReLU: 2-41                        [1, 64, 28, 28]           --\n",
      "│    └─MaxPool2d: 2-42                   [1, 64, 14, 14]           --\n",
      "│    └─Sequential: 2-43                  [1, 32, 14, 14]           --\n",
      "│    │    └─Conv2d: 3-19                 [1, 14, 14, 14]           896\n",
      "│    │    └─Conv2d: 3-20                 [1, 32, 14, 14]           448\n",
      "│    └─BatchNorm2d: 2-44                 [1, 32, 14, 14]           64\n",
      "│    └─ReLU: 2-45                        [1, 32, 14, 14]           --\n",
      "│    └─Sequential: 2-46                  [1, 64, 14, 14]           --\n",
      "│    │    └─Conv2d: 3-21                 [1, 51, 14, 14]           4,896\n",
      "│    │    └─Conv2d: 3-22                 [1, 64, 14, 14]           9,792\n",
      "│    └─BatchNorm2d: 2-47                 [1, 64, 14, 14]           128\n",
      "│    └─ReLU: 2-48                        [1, 64, 14, 14]           --\n",
      "│    └─Conv2d: 2-49                      [1, 32, 14, 14]           2,048\n",
      "│    └─BatchNorm2d: 2-50                 [1, 32, 14, 14]           64\n",
      "│    └─ReLU: 2-51                        [1, 32, 14, 14]           --\n",
      "│    └─Sequential: 2-52                  [1, 64, 14, 14]           --\n",
      "│    │    └─Conv2d: 3-23                 [1, 57, 14, 14]           5,472\n",
      "│    │    └─Conv2d: 3-24                 [1, 64, 14, 14]           10,944\n",
      "│    └─BatchNorm2d: 2-53                 [1, 64, 14, 14]           128\n",
      "│    └─ReLU: 2-54                        [1, 64, 14, 14]           --\n",
      "│    └─Sequential: 2-55                  [1, 64, 14, 14]           --\n",
      "│    │    └─Conv2d: 3-25                 [1, 67, 14, 14]           12,864\n",
      "│    │    └─Conv2d: 3-26                 [1, 64, 14, 14]           12,864\n",
      "│    └─BatchNorm2d: 2-56                 [1, 64, 14, 14]           128\n",
      "│    └─ReLU: 2-57                        [1, 64, 14, 14]           --\n",
      "│    └─Sequential: 2-58                  [1, 64, 14, 14]           --\n",
      "│    │    └─Conv2d: 3-27                 [1, 86, 14, 14]           16,512\n",
      "│    │    └─Conv2d: 3-28                 [1, 64, 14, 14]           16,512\n",
      "│    └─BatchNorm2d: 2-59                 [1, 64, 14, 14]           128\n",
      "│    └─ReLU: 2-60                        [1, 64, 14, 14]           --\n",
      "│    └─MaxPool2d: 2-61                   [1, 64, 7, 7]             --\n",
      "│    └─Conv2d: 2-62                      [1, 64, 7, 7]             36,864\n",
      "│    └─BatchNorm2d: 2-63                 [1, 64, 7, 7]             128\n",
      "│    └─ReLU: 2-64                        [1, 64, 7, 7]             --\n",
      "│    └─Conv2d: 2-65                      [1, 64, 7, 7]             36,864\n",
      "│    └─BatchNorm2d: 2-66                 [1, 64, 7, 7]             128\n",
      "│    └─ReLU: 2-67                        [1, 64, 7, 7]             --\n",
      "│    └─Conv2d: 2-68                      [1, 64, 7, 7]             4,096\n",
      "│    └─BatchNorm2d: 2-69                 [1, 64, 7, 7]             128\n",
      "│    └─ReLU: 2-70                        [1, 64, 7, 7]             --\n",
      "│    └─Conv2d: 2-71                      [1, 16, 7, 7]             1,024\n",
      "│    └─BatchNorm2d: 2-72                 [1, 16, 7, 7]             32\n",
      "│    └─ReLU: 2-73                        [1, 16, 7, 7]             --\n",
      "│    └─Conv2d: 2-74                      [1, 16, 7, 7]             256\n",
      "│    └─BatchNorm2d: 2-75                 [1, 16, 7, 7]             32\n",
      "│    └─ReLU: 2-76                        [1, 16, 7, 7]             --\n",
      "│    └─Conv2d: 2-77                      [1, 12, 7, 7]             204\n",
      "==========================================================================================\n",
      "Total params: 229,209\n",
      "Trainable params: 229,209\n",
      "Non-trainable params: 0\n",
      "Total mult-adds (M): 143.67\n",
      "==========================================================================================\n",
      "Input size (MB): 0.60\n",
      "Forward/backward pass size (MB): 46.47\n",
      "Params size (MB): 0.92\n",
      "Estimated Total Size (MB): 47.99\n",
      "==========================================================================================\n",
      "==========================================================================================\n",
      "Layer (type:depth-idx)                   Output Shape              Param #\n",
      "==========================================================================================\n",
      "PRUNED_AFTER_SVD_BED_DETECTOR            [1, 12, 7, 7]             --\n",
      "├─Sequential: 1-1                        [1, 12, 7, 7]             --\n",
      "│    └─Sequential: 2-1                   [1, 32, 224, 224]         --\n",
      "│    │    └─Conv2d: 3-1                  [1, 5, 224, 224]          45\n",
      "│    │    └─Conv2d: 3-2                  [1, 32, 224, 224]         480\n",
      "│    └─BatchNorm2d: 2-2                  [1, 32, 224, 224]         64\n",
      "│    └─ReLU: 2-3                         [1, 32, 224, 224]         --\n",
      "│    └─Dropout2d: 2-4                    [1, 32, 224, 224]         --\n",
      "│    └─MaxPool2d: 2-5                    [1, 32, 112, 112]         --\n",
      "│    └─Sequential: 2-6                   [1, 11, 112, 112]         --\n",
      "│    │    └─Conv2d: 3-3                  [1, 4, 112, 112]          384\n",
      "│    │    └─Conv2d: 3-4                  [1, 11, 112, 112]         132\n",
      "│    └─BatchNorm2d: 2-7                  [1, 11, 112, 112]         22\n",
      "│    └─ReLU: 2-8                         [1, 11, 112, 112]         --\n",
      "│    └─Dropout2d: 2-9                    [1, 11, 112, 112]         --\n",
      "│    └─MaxPool2d: 2-10                   [1, 11, 56, 56]           --\n",
      "│    └─Sequential: 2-11                  [1, 14, 56, 56]           --\n",
      "│    │    └─Conv2d: 3-5                  [1, 3, 56, 56]            33\n",
      "│    │    └─Conv2d: 3-6                  [1, 14, 56, 56]           42\n",
      "│    └─BatchNorm2d: 2-12                 [1, 14, 56, 56]           28\n",
      "│    └─ReLU: 2-13                        [1, 14, 56, 56]           --\n",
      "│    └─Sequential: 2-14                  [1, 25, 56, 56]           --\n",
      "│    │    └─Conv2d: 3-7                  [1, 14, 56, 56]           588\n",
      "│    │    └─Conv2d: 3-8                  [1, 25, 56, 56]           1,050\n",
      "│    └─BatchNorm2d: 2-15                 [1, 25, 56, 56]           50\n",
      "│    └─ReLU: 2-16                        [1, 25, 56, 56]           --\n",
      "│    └─Conv2d: 2-17                      [1, 22, 56, 56]           550\n",
      "│    └─BatchNorm2d: 2-18                 [1, 22, 56, 56]           44\n",
      "│    └─ReLU: 2-19                        [1, 22, 56, 56]           --\n",
      "│    └─Sequential: 2-20                  [1, 64, 56, 56]           --\n",
      "│    │    └─Conv2d: 3-9                  [1, 30, 56, 56]           1,980\n",
      "│    │    └─Conv2d: 3-10                 [1, 64, 56, 56]           5,760\n",
      "│    └─BatchNorm2d: 2-21                 [1, 64, 56, 56]           128\n",
      "│    └─ReLU: 2-22                        [1, 64, 56, 56]           --\n",
      "│    └─MaxPool2d: 2-23                   [1, 64, 28, 28]           --\n",
      "│    └─Conv2d: 2-24                      [1, 28, 28, 28]           1,792\n",
      "│    └─BatchNorm2d: 2-25                 [1, 28, 28, 28]           56\n",
      "│    └─ReLU: 2-26                        [1, 28, 28, 28]           --\n",
      "│    └─Sequential: 2-27                  [1, 64, 28, 28]           --\n",
      "│    │    └─Conv2d: 3-11                 [1, 38, 28, 28]           3,192\n",
      "│    │    └─Conv2d: 3-12                 [1, 64, 28, 28]           7,296\n",
      "│    └─BatchNorm2d: 2-28                 [1, 64, 28, 28]           128\n",
      "│    └─ReLU: 2-29                        [1, 64, 28, 28]           --\n",
      "│    └─Conv2d: 2-30                      [1, 28, 28, 28]           1,792\n",
      "│    └─BatchNorm2d: 2-31                 [1, 28, 28, 28]           56\n",
      "│    └─ReLU: 2-32                        [1, 28, 28, 28]           --\n",
      "│    └─Sequential: 2-33                  [1, 57, 28, 28]           --\n",
      "│    │    └─Conv2d: 3-13                 [1, 25, 28, 28]           2,100\n",
      "│    │    └─Conv2d: 3-14                 [1, 57, 28, 28]           4,275\n",
      "│    └─BatchNorm2d: 2-34                 [1, 57, 28, 28]           114\n",
      "│    └─ReLU: 2-35                        [1, 57, 28, 28]           --\n",
      "│    └─Sequential: 2-36                  [1, 28, 28, 28]           --\n",
      "│    │    └─Conv2d: 3-15                 [1, 15, 28, 28]           855\n",
      "│    │    └─Conv2d: 3-16                 [1, 28, 28, 28]           420\n",
      "│    └─BatchNorm2d: 2-37                 [1, 28, 28, 28]           56\n",
      "│    └─ReLU: 2-38                        [1, 28, 28, 28]           --\n",
      "│    └─Sequential: 2-39                  [1, 57, 28, 28]           --\n",
      "│    │    └─Conv2d: 3-17                 [1, 28, 28, 28]           2,352\n",
      "│    │    └─Conv2d: 3-18                 [1, 57, 28, 28]           4,788\n",
      "│    └─BatchNorm2d: 2-40                 [1, 57, 28, 28]           114\n",
      "│    └─ReLU: 2-41                        [1, 57, 28, 28]           --\n",
      "│    └─MaxPool2d: 2-42                   [1, 57, 14, 14]           --\n",
      "│    └─Sequential: 2-43                  [1, 32, 14, 14]           --\n",
      "│    │    └─Conv2d: 3-19                 [1, 14, 14, 14]           798\n",
      "│    │    └─Conv2d: 3-20                 [1, 32, 14, 14]           448\n",
      "│    └─BatchNorm2d: 2-44                 [1, 32, 14, 14]           64\n",
      "│    └─ReLU: 2-45                        [1, 32, 14, 14]           --\n",
      "│    └─Sequential: 2-46                  [1, 64, 14, 14]           --\n",
      "│    │    └─Conv2d: 3-21                 [1, 40, 14, 14]           3,840\n",
      "│    │    └─Conv2d: 3-22                 [1, 64, 14, 14]           7,680\n",
      "│    └─BatchNorm2d: 2-47                 [1, 64, 14, 14]           128\n",
      "│    └─ReLU: 2-48                        [1, 64, 14, 14]           --\n",
      "│    └─Conv2d: 2-49                      [1, 32, 14, 14]           2,048\n",
      "│    └─BatchNorm2d: 2-50                 [1, 32, 14, 14]           64\n",
      "│    └─ReLU: 2-51                        [1, 32, 14, 14]           --\n",
      "│    └─Sequential: 2-52                  [1, 64, 14, 14]           --\n",
      "│    │    └─Conv2d: 3-23                 [1, 45, 14, 14]           4,320\n",
      "│    │    └─Conv2d: 3-24                 [1, 64, 14, 14]           8,640\n",
      "│    └─BatchNorm2d: 2-53                 [1, 64, 14, 14]           128\n",
      "│    └─ReLU: 2-54                        [1, 64, 14, 14]           --\n",
      "│    └─Sequential: 2-55                  [1, 64, 14, 14]           --\n",
      "│    │    └─Conv2d: 3-25                 [1, 67, 14, 14]           12,864\n",
      "│    │    └─Conv2d: 3-26                 [1, 64, 14, 14]           12,864\n",
      "│    └─BatchNorm2d: 2-56                 [1, 64, 14, 14]           128\n",
      "│    └─ReLU: 2-57                        [1, 64, 14, 14]           --\n",
      "│    └─Sequential: 2-58                  [1, 64, 14, 14]           --\n",
      "│    │    └─Conv2d: 3-27                 [1, 77, 14, 14]           14,784\n",
      "│    │    └─Conv2d: 3-28                 [1, 64, 14, 14]           14,784\n",
      "│    └─BatchNorm2d: 2-59                 [1, 64, 14, 14]           128\n",
      "│    └─ReLU: 2-60                        [1, 64, 14, 14]           --\n",
      "│    └─MaxPool2d: 2-61                   [1, 64, 7, 7]             --\n",
      "│    └─Conv2d: 2-62                      [1, 64, 7, 7]             36,864\n",
      "│    └─BatchNorm2d: 2-63                 [1, 64, 7, 7]             128\n",
      "│    └─ReLU: 2-64                        [1, 64, 7, 7]             --\n",
      "│    └─Conv2d: 2-65                      [1, 64, 7, 7]             36,864\n",
      "│    └─BatchNorm2d: 2-66                 [1, 64, 7, 7]             128\n",
      "│    └─ReLU: 2-67                        [1, 64, 7, 7]             --\n",
      "│    └─Conv2d: 2-68                      [1, 64, 7, 7]             4,096\n",
      "│    └─BatchNorm2d: 2-69                 [1, 64, 7, 7]             128\n",
      "│    └─ReLU: 2-70                        [1, 64, 7, 7]             --\n",
      "│    └─Conv2d: 2-71                      [1, 16, 7, 7]             1,024\n",
      "│    └─BatchNorm2d: 2-72                 [1, 16, 7, 7]             32\n",
      "│    └─ReLU: 2-73                        [1, 16, 7, 7]             --\n",
      "│    └─Conv2d: 2-74                      [1, 16, 7, 7]             256\n",
      "│    └─BatchNorm2d: 2-75                 [1, 16, 7, 7]             32\n",
      "│    └─ReLU: 2-76                        [1, 16, 7, 7]             --\n",
      "│    └─Conv2d: 2-77                      [1, 12, 7, 7]             204\n",
      "==========================================================================================\n",
      "Total params: 204,232\n",
      "Trainable params: 204,232\n",
      "Non-trainable params: 0\n",
      "Total mult-adds (M): 106.98\n",
      "==========================================================================================\n",
      "Input size (MB): 0.60\n",
      "Forward/backward pass size (MB): 43.27\n",
      "Params size (MB): 0.82\n",
      "Estimated Total Size (MB): 44.69\n",
      "==========================================================================================\n"
     ]
    }
   ],
   "source": [
    "print(summary(bed_model, input_size=(1, 3, 224, 224)))\n",
    "print(summary(svd_model, input_size=(1, 3, 224, 224)))\n",
    "print(summary(pruned_after_svd_model, input_size=(1, 3, 224, 224)))"
   ]
  },
  {
   "cell_type": "markdown",
   "id": "1febde54-a580-4a42-b2a5-57da4538898b",
   "metadata": {},
   "source": [
    "# Eval Epoch before Export"
   ]
  },
  {
   "cell_type": "code",
   "execution_count": 13,
   "id": "c5a23624-b323-4803-ac4b-b186f6a9f75d",
   "metadata": {},
   "outputs": [],
   "source": [
    "def eval_fn(loader, model, metric, device):\n",
    "    \n",
    "    model.to(device)\n",
    "    model.eval()\n",
    "    loop = tqdm(loader, desc='Validating', leave=True)\n",
    "\n",
    "    for batch_idx, (x, y) in enumerate(loop):\n",
    "        x, y = x.to(device), y.to(device)\n",
    "        out = model(x)\n",
    "        \n",
    "        # Remove Permute from the model\n",
    "        out = out.permute(0, 2, 3, 1)\n",
    "                \n",
    "        # Mean Average Precision\n",
    "        for idx in range(x.shape[0]):\n",
    "            target_boxes = metrics.get_true_boxes(y[idx].detach().to('cpu'))\n",
    "            pred_boxes = metrics.get_pred_boxes(out[idx].detach().to('cpu'))\n",
    "            metric.update(preds = pred_boxes, target = target_boxes) \n",
    "\n",
    "    meanAP = metric.compute()\n",
    "    metric.reset()\n",
    "    print(f'Val mAP = {meanAP[\"map_50\"]:.4f}') \n",
    "\n",
    "    return (\n",
    "        {'mAP': meanAP['map_50'],\n",
    "         'AP': [meanAP['map_per_class'][0].item(), meanAP['map_per_class'][1].item()],\n",
    "         'AR': [meanAP['mar_100_per_class'][0].item(), meanAP['mar_100_per_class'][1].item()]\n",
    "        }\n",
    "    )"
   ]
  },
  {
   "cell_type": "code",
   "execution_count": 14,
   "id": "15c081df-f3aa-4a25-afde-087b8d4deb12",
   "metadata": {},
   "outputs": [
    {
     "name": "stdout",
     "output_type": "stream",
     "text": [
      "\n",
      "TEST DFire dataset\n",
      "DFire Removed wrong images: 0\n",
      "DFire Removed due to overlapping: 310\n",
      "DFire Removed due to more than 10: 13\n",
      "\n",
      "Test DFire dataset len: 3983\n",
      "\n",
      "TEST FASDD UAV dataset\n",
      "FASDD Removed wrong images: 0\n",
      "FASDD Removed due to overlapping: 377\n",
      "FASDD Removed due to more than 10: 156\n",
      "\n",
      "Test FASDD UAV dataset len: 3648\n",
      "\n",
      "TEST FASDD CV dataset\n",
      "FASDD Removed wrong images: 0\n",
      "FASDD Removed due to overlapping: 317\n",
      "FASDD Removed due to more than 10: 44\n",
      "\n",
      "Test FASDD CV dataset len: 15523\n",
      "\n",
      "Concatenate Test DFire and FASDD UAV datasets\n",
      "Test dataset len: 7631\n",
      "Concatenate with FASDD CV dataset\n",
      "Test dataset len: 23154\n"
     ]
    }
   ],
   "source": [
    "detection_loader = detection_data_loader.get_val_loader()"
   ]
  },
  {
   "cell_type": "code",
   "execution_count": 15,
   "id": "eec9c85a-a409-4b2f-92d0-aecff8a1fea7",
   "metadata": {},
   "outputs": [
    {
     "name": "stderr",
     "output_type": "stream",
     "text": [
      "Validating: 100%|████████████████████████████████████████████████████████████████████████████████| 361/361 [00:29<00:00, 12.30it/s]\n"
     ]
    },
    {
     "name": "stdout",
     "output_type": "stream",
     "text": [
      "Val mAP = 0.6405\n",
      "BED FASDD\n",
      "{'mAP': tensor(0.6405), 'AP': [0.6541241407394409, 0.6267908811569214], 'AR': [0.7165079712867737, 0.6754377484321594]}\n"
     ]
    },
    {
     "name": "stderr",
     "output_type": "stream",
     "text": [
      "Validating: 100%|████████████████████████████████████████████████████████████████████████████████| 361/361 [00:28<00:00, 12.48it/s]\n"
     ]
    },
    {
     "name": "stdout",
     "output_type": "stream",
     "text": [
      "Val mAP = 0.6186\n",
      "SVD FASDD\n",
      "{'mAP': tensor(0.6186), 'AP': [0.6275915503501892, 0.6096052527427673], 'AR': [0.6997619867324829, 0.6654180884361267]}\n"
     ]
    },
    {
     "name": "stderr",
     "output_type": "stream",
     "text": [
      "Validating: 100%|████████████████████████████████████████████████████████████████████████████████| 361/361 [00:28<00:00, 12.68it/s]\n"
     ]
    },
    {
     "name": "stdout",
     "output_type": "stream",
     "text": [
      "Val mAP = 0.6289\n",
      "Pruned after SVD FASDD\n",
      "{'mAP': tensor(0.6289), 'AP': [0.6367916464805603, 0.6209565997123718], 'AR': [0.7040122151374817, 0.6724412441253662]}\n"
     ]
    }
   ],
   "source": [
    "with torch.no_grad():\n",
    "    val_metrics = eval_fn(\n",
    "        loader=detection_loader, \n",
    "        model=bed_model,                         \n",
    "        metric=metrics.map_metric,\n",
    "        device=config.DEVICE)\n",
    "    print(f'BED FASDD\\n{val_metrics}')\n",
    "    val_metrics = eval_fn(\n",
    "        loader=detection_loader, \n",
    "        model=svd_model,                         \n",
    "        metric=metrics.map_metric,\n",
    "        device=config.DEVICE)\n",
    "    print(f'SVD FASDD\\n{val_metrics}')\n",
    "    val_metrics = eval_fn(\n",
    "        loader=detection_loader, \n",
    "        model=pruned_after_svd_model,                         \n",
    "        metric=metrics.map_metric,\n",
    "        device=config.DEVICE)\n",
    "    print(f'Pruned after SVD FASDD\\n{val_metrics}')"
   ]
  },
  {
   "cell_type": "markdown",
   "id": "346ae243-e996-4682-88bb-c16e504f2e2a",
   "metadata": {},
   "source": [
    "# Export to ONNX"
   ]
  },
  {
   "cell_type": "code",
   "execution_count": 16,
   "id": "3d0fdded-8b44-42e5-a607-ce485c82dfb3",
   "metadata": {
    "tags": []
   },
   "outputs": [],
   "source": [
    "bed_model.to('cpu')\n",
    "torch_input = torch.rand(1, 3, 224, 224)\n",
    "torch.onnx.export(bed_model, torch_input, './onnx_models/bed_detection_fasdd__cpu.onnx') "
   ]
  },
  {
   "cell_type": "code",
   "execution_count": 17,
   "id": "bfbe3dc4-f5b6-471d-9dbe-e0f3dac72262",
   "metadata": {},
   "outputs": [],
   "source": [
    "svd_model.to('cpu')\n",
    "torch_input = torch.rand(1, 3, 224, 224)\n",
    "torch.onnx.export(svd_model, torch_input, './onnx_models/bed_detection_fasdd__svd__cpu.onnx') "
   ]
  },
  {
   "cell_type": "code",
   "execution_count": 18,
   "id": "64bf26e8-2a6a-44ee-94a2-308d20e42758",
   "metadata": {
    "tags": []
   },
   "outputs": [],
   "source": [
    "pruned_after_svd_model.to('cpu')\n",
    "torch_input = torch.rand(1, 3, 224, 224)\n",
    "torch.onnx.export(pruned_after_svd_model, torch_input, './onnx_models/bed_detection_fasdd__pruned_after_svd__cpu.onnx') "
   ]
  },
  {
   "cell_type": "code",
   "execution_count": null,
   "id": "fe9c981e-8894-413d-a8ac-fe62f760553a",
   "metadata": {},
   "outputs": [],
   "source": []
  }
 ],
 "metadata": {
  "kernelspec": {
   "display_name": "Python 3 (ipykernel)",
   "language": "python",
   "name": "python3"
  },
  "language_info": {
   "codemirror_mode": {
    "name": "ipython",
    "version": 3
   },
   "file_extension": ".py",
   "mimetype": "text/x-python",
   "name": "python",
   "nbconvert_exporter": "python",
   "pygments_lexer": "ipython3",
   "version": "3.10.13"
  }
 },
 "nbformat": 4,
 "nbformat_minor": 5
}
