{
 "cells": [
  {
   "cell_type": "code",
   "execution_count": 1,
   "id": "284a093f-4bbf-4132-9e9d-7283cb06f19c",
   "metadata": {
    "tags": []
   },
   "outputs": [
    {
     "name": "stderr",
     "output_type": "stream",
     "text": [
      "INFO:albumentations.check_version:A new version of Albumentations is available: 1.4.11 (you have 1.4.10). Upgrade using: pip install --upgrade albumentations\n"
     ]
    }
   ],
   "source": [
    "import config\n",
    "import modules.dataloaders as data_loaders\n",
    "import modules.models as models\n",
    "import modules.utils as utils\n",
    "\n",
    "import matplotlib.pyplot as plt\n",
    "import numpy as np\n",
    "import torch\n",
    "import cv2"
   ]
  },
  {
   "cell_type": "markdown",
   "id": "abf727a7-427b-4254-a8c8-0628d75b267b",
   "metadata": {},
   "source": [
    "# Save Folders"
   ]
  },
  {
   "cell_type": "code",
   "execution_count": 2,
   "id": "fdd33516-04da-4a81-8b0a-a81432680f85",
   "metadata": {
    "tags": []
   },
   "outputs": [],
   "source": [
    "save_folder = './predicted_images/trained_200_epochs_simple_model/'\n",
    "save_dfire = save_folder + 'dfire'\n",
    "save_fasdd_uav = save_folder + 'fasdd_uav'\n",
    "save_fasdd_cv = save_folder + 'fasdd_cv'\n",
    "save_fasdd_rs = save_folder + 'fasdd_rs'"
   ]
  },
  {
   "cell_type": "markdown",
   "id": "a040f29a-9db4-4419-a6f6-4b1bcb9e3bdf",
   "metadata": {},
   "source": [
    "# Datasets\n",
    "\n",
    "Change DS_LEN in config, so list is shuffled first and VAL Datasets are more diverse. To draw 128 pictures, choose DS_LEN = 168, so it drops some overlapped and mora than x objects, but you still have 128 pictures.\n",
    "\n",
    "RS Dataset length is about 342 pictures with MAX_OBJ = 5, so 128 is ok."
   ]
  },
  {
   "cell_type": "markdown",
   "id": "9909022d-29f2-415f-9e7a-42b56d962217",
   "metadata": {},
   "source": [
    "### DFire"
   ]
  },
  {
   "cell_type": "code",
   "execution_count": 3,
   "id": "5f7b3a3c-386c-4124-9b00-7a5414450b45",
   "metadata": {
    "tags": []
   },
   "outputs": [
    {
     "name": "stdout",
     "output_type": "stream",
     "text": [
      "\n",
      "TEST DFire dataset\n",
      "DFire Removed wrong images: 0\n",
      "DFire Removed due to overlapping: 14\n",
      "DFire Removed due to more than 10: 2\n",
      "\n",
      "Test dataset len: 152\n"
     ]
    }
   ],
   "source": [
    "dfire_loader = data_loaders.get_dfire_val_loader()"
   ]
  },
  {
   "cell_type": "markdown",
   "id": "f535e6e0-eebe-431b-863a-f6b34b7eca8f",
   "metadata": {},
   "source": [
    "### FASDD UAV"
   ]
  },
  {
   "cell_type": "code",
   "execution_count": 4,
   "id": "2cac47f6-fefd-4de5-bd42-96fe8c8b0f7e",
   "metadata": {},
   "outputs": [
    {
     "name": "stdout",
     "output_type": "stream",
     "text": [
      "\n",
      "TEST FASDD UAV dataset\n",
      "FASDD Removed wrong images: 0\n",
      "FASDD Removed due to overlapping: 17\n",
      "FASDD Removed due to more than 10: 7\n",
      "\n",
      "Test FASDD UAV dataset len: 144\n"
     ]
    }
   ],
   "source": [
    "fasdd_uav_loader = data_loaders.get_fasdd_uav_val_loader()"
   ]
  },
  {
   "cell_type": "markdown",
   "id": "59c17282-6a00-4240-acb5-1d35f8c472ed",
   "metadata": {},
   "source": [
    "### FASDD CV"
   ]
  },
  {
   "cell_type": "code",
   "execution_count": 5,
   "id": "40eb71cf-7c35-4f8a-9add-240c6841f114",
   "metadata": {},
   "outputs": [
    {
     "name": "stdout",
     "output_type": "stream",
     "text": [
      "\n",
      "TEST FASDD CV dataset\n",
      "FASDD Removed wrong images: 0\n",
      "FASDD Removed due to overlapping: 5\n",
      "FASDD Removed due to more than 10: 0\n",
      "\n",
      "Test FASDD CV dataset len: 163\n"
     ]
    }
   ],
   "source": [
    "fasdd_cv_loader = data_loaders.get_fasdd_cv_val_loader()"
   ]
  },
  {
   "cell_type": "markdown",
   "id": "6334c26f-32d9-429f-a0c7-4c61bd1fe37b",
   "metadata": {},
   "source": [
    "### FASDD RS RGB"
   ]
  },
  {
   "cell_type": "code",
   "execution_count": 6,
   "id": "007c4231-32bd-4517-b977-e173132ce533",
   "metadata": {
    "tags": []
   },
   "outputs": [
    {
     "name": "stdout",
     "output_type": "stream",
     "text": [
      "\n",
      "TEST FASDD RS dataset\n",
      "FASDD Removed wrong images: 0\n",
      "FASDD Removed due to overlapping: 6\n",
      "FASDD Removed due to more than 10: 0\n",
      "\n",
      "Test FASDD RS dataset len: 162\n"
     ]
    }
   ],
   "source": [
    "fasdd_rs_loader = data_loaders.get_fasdd_rs_val_loader()"
   ]
  },
  {
   "cell_type": "markdown",
   "id": "e87b68c8-740b-4f15-aa8e-22fac9b08bf0",
   "metadata": {},
   "source": [
    "# Load Model"
   ]
  },
  {
   "cell_type": "code",
   "execution_count": 7,
   "id": "04853bb2-16a6-4bb1-80ee-8a0a06c8bd37",
   "metadata": {
    "tags": []
   },
   "outputs": [],
   "source": [
    "#model = models.BED_DETECTOR().to(config.DEVICE)\n",
    "\n",
    "# No Sigmoid, no softmax and permute out of the model\n",
    "model = models.SIMPLE_BED_DETECTOR().to(config.DEVICE)"
   ]
  },
  {
   "cell_type": "markdown",
   "id": "64961328-c05c-4274-9422-24c7ddecc4be",
   "metadata": {},
   "source": [
    "### Load Weights"
   ]
  },
  {
   "cell_type": "code",
   "execution_count": 8,
   "id": "995f8c1a-47e5-4edf-ba2d-b2b7358acca2",
   "metadata": {
    "tags": []
   },
   "outputs": [
    {
     "name": "stdout",
     "output_type": "stream",
     "text": [
      "Loading Model. Trained during 144 epochs\n"
     ]
    },
    {
     "data": {
      "text/plain": [
       "144"
      ]
     },
     "execution_count": 8,
     "metadata": {},
     "output_type": "execute_result"
    }
   ],
   "source": [
    "# ___________________________________________ #\n",
    "# __________ 5 MAX_OBJ, 100 epochs __________ # \n",
    "# ___________________________________________ #\n",
    "# weights_path = './experiments/test_02_dfire_&_fasdd_uav_cv/weights/'\n",
    "# weights_file = weights_path + 'BED_detector__best_mAP=0.6352__epoch=99.pt'\n",
    "\n",
    "# ___________________________________________ #\n",
    "# __________ 10 MAX_OBJ, 200 epochs _________ # \n",
    "# ___________________________________________ #\n",
    "# weights_path = './experiments/test_03_dfire_&_fasdd_uav_cv_+epochs_maxobj10/weights/'\n",
    "# weights_file = weights_path + 'BED_detector__best_mAP=0.6224__epoch=119.pt'\n",
    "\n",
    "# ___________________________________________ #\n",
    "# __________  SIMPLE BED DETECTOR   _________ # \n",
    "# __________ NO SIGMOID, NO SOFTMAX _________ # \n",
    "# _________ PERMUTE OUT OF THE MODEL ________ # \n",
    "# __________ 10 MAX_OBJ, 150 epochs _________ # \n",
    "# ___________________________________________ #\n",
    "weights_path = './experiments/test_20_no_sigmoid_softmax_permute_out/weights/'\n",
    "weights_file = weights_path + 'BED_detector__best_mAP=0.6405__epoch=144.pt'\n",
    "\n",
    "\n",
    "utils.load_checkpoint(\n",
    "    model_path=weights_file, \n",
    "    model=model, \n",
    "    optimizer=None, \n",
    "    scheduler=None, \n",
    "    device=config.DEVICE)"
   ]
  },
  {
   "cell_type": "markdown",
   "id": "3a9f8d95-f72d-4ae9-b575-9ad4c1e90539",
   "metadata": {},
   "source": [
    "### Evaluation Mode"
   ]
  },
  {
   "cell_type": "code",
   "execution_count": 9,
   "id": "f18dbca2-c1cd-4264-8d2f-92967668fbc6",
   "metadata": {
    "tags": []
   },
   "outputs": [
    {
     "data": {
      "text/plain": [
       "SIMPLE_BED_DETECTOR(\n",
       "  (model): Sequential(\n",
       "    (conv1): Conv2d(3, 32, kernel_size=(3, 3), stride=(1, 1), padding=(1, 1), bias=False)\n",
       "    (bn1): BatchNorm2d(32, eps=1e-05, momentum=0.1, affine=True, track_running_stats=True)\n",
       "    (relu1): ReLU()\n",
       "    (dropout1): Dropout2d(p=0.3, inplace=False)\n",
       "    (maxpool2): MaxPool2d(kernel_size=2, stride=2, padding=0, dilation=1, ceil_mode=False)\n",
       "    (conv2): Conv2d(32, 16, kernel_size=(3, 3), stride=(1, 1), padding=(1, 1), bias=False)\n",
       "    (bn2): BatchNorm2d(16, eps=1e-05, momentum=0.1, affine=True, track_running_stats=True)\n",
       "    (relu2): ReLU()\n",
       "    (dropout2): Dropout2d(p=0.3, inplace=False)\n",
       "    (maxpool3): MaxPool2d(kernel_size=2, stride=2, padding=0, dilation=1, ceil_mode=False)\n",
       "    (conv31): Conv2d(16, 16, kernel_size=(1, 1), stride=(1, 1), bias=False)\n",
       "    (bn31): BatchNorm2d(16, eps=1e-05, momentum=0.1, affine=True, track_running_stats=True)\n",
       "    (relu31): ReLU()\n",
       "    (conv32): Conv2d(16, 32, kernel_size=(3, 3), stride=(1, 1), padding=(1, 1), bias=False)\n",
       "    (bn32): BatchNorm2d(32, eps=1e-05, momentum=0.1, affine=True, track_running_stats=True)\n",
       "    (relu32): ReLU()\n",
       "    (conv33): Conv2d(32, 32, kernel_size=(1, 1), stride=(1, 1), bias=False)\n",
       "    (bn33): BatchNorm2d(32, eps=1e-05, momentum=0.1, affine=True, track_running_stats=True)\n",
       "    (relu33): ReLU()\n",
       "    (conv34): Conv2d(32, 64, kernel_size=(3, 3), stride=(1, 1), padding=(1, 1), bias=False)\n",
       "    (bn34): BatchNorm2d(64, eps=1e-05, momentum=0.1, affine=True, track_running_stats=True)\n",
       "    (relu34): ReLU()\n",
       "    (maxpool4): MaxPool2d(kernel_size=2, stride=2, padding=0, dilation=1, ceil_mode=False)\n",
       "    (conv41): Conv2d(64, 32, kernel_size=(1, 1), stride=(1, 1), bias=False)\n",
       "    (bn41): BatchNorm2d(32, eps=1e-05, momentum=0.1, affine=True, track_running_stats=True)\n",
       "    (relu41): ReLU()\n",
       "    (conv42): Conv2d(32, 64, kernel_size=(3, 3), stride=(1, 1), padding=(1, 1), bias=False)\n",
       "    (bn42): BatchNorm2d(64, eps=1e-05, momentum=0.1, affine=True, track_running_stats=True)\n",
       "    (relu42): ReLU()\n",
       "    (conv43): Conv2d(64, 32, kernel_size=(1, 1), stride=(1, 1), bias=False)\n",
       "    (bn43): BatchNorm2d(32, eps=1e-05, momentum=0.1, affine=True, track_running_stats=True)\n",
       "    (relu43): ReLU()\n",
       "    (conv44): Conv2d(32, 64, kernel_size=(3, 3), stride=(1, 1), padding=(1, 1), bias=False)\n",
       "    (bn44): BatchNorm2d(64, eps=1e-05, momentum=0.1, affine=True, track_running_stats=True)\n",
       "    (relu44): ReLU()\n",
       "    (conv45): Conv2d(64, 32, kernel_size=(1, 1), stride=(1, 1), bias=False)\n",
       "    (bn45): BatchNorm2d(32, eps=1e-05, momentum=0.1, affine=True, track_running_stats=True)\n",
       "    (relu45): ReLU()\n",
       "    (conv46): Conv2d(32, 64, kernel_size=(3, 3), stride=(1, 1), padding=(1, 1), bias=False)\n",
       "    (bn46): BatchNorm2d(64, eps=1e-05, momentum=0.1, affine=True, track_running_stats=True)\n",
       "    (relu46): ReLU()\n",
       "    (maxpool5): MaxPool2d(kernel_size=2, stride=2, padding=0, dilation=1, ceil_mode=False)\n",
       "    (conv51): Conv2d(64, 32, kernel_size=(1, 1), stride=(1, 1), bias=False)\n",
       "    (bn51): BatchNorm2d(32, eps=1e-05, momentum=0.1, affine=True, track_running_stats=True)\n",
       "    (relu51): ReLU()\n",
       "    (conv52): Conv2d(32, 64, kernel_size=(3, 3), stride=(1, 1), padding=(1, 1), bias=False)\n",
       "    (bn52): BatchNorm2d(64, eps=1e-05, momentum=0.1, affine=True, track_running_stats=True)\n",
       "    (relu52): ReLU()\n",
       "    (conv53): Conv2d(64, 32, kernel_size=(1, 1), stride=(1, 1), bias=False)\n",
       "    (bn53): BatchNorm2d(32, eps=1e-05, momentum=0.1, affine=True, track_running_stats=True)\n",
       "    (relu53): ReLU()\n",
       "    (conv54): Conv2d(32, 64, kernel_size=(3, 3), stride=(1, 1), padding=(1, 1), bias=False)\n",
       "    (bn54): BatchNorm2d(64, eps=1e-05, momentum=0.1, affine=True, track_running_stats=True)\n",
       "    (relu54): ReLU()\n",
       "    (conv55): Conv2d(64, 64, kernel_size=(3, 3), stride=(1, 1), padding=(1, 1), bias=False)\n",
       "    (bn55): BatchNorm2d(64, eps=1e-05, momentum=0.1, affine=True, track_running_stats=True)\n",
       "    (relu55): ReLU()\n",
       "    (conv56): Conv2d(64, 64, kernel_size=(3, 3), stride=(1, 1), padding=(1, 1), bias=False)\n",
       "    (bn56): BatchNorm2d(64, eps=1e-05, momentum=0.1, affine=True, track_running_stats=True)\n",
       "    (relu56): ReLU()\n",
       "    (maxpool6): MaxPool2d(kernel_size=2, stride=2, padding=0, dilation=1, ceil_mode=False)\n",
       "    (conv61): Conv2d(64, 64, kernel_size=(3, 3), stride=(1, 1), padding=(1, 1), bias=False)\n",
       "    (bn61): BatchNorm2d(64, eps=1e-05, momentum=0.1, affine=True, track_running_stats=True)\n",
       "    (relu61): ReLU()\n",
       "    (conv62): Conv2d(64, 64, kernel_size=(3, 3), stride=(1, 1), padding=(1, 1), bias=False)\n",
       "    (bn62): BatchNorm2d(64, eps=1e-05, momentum=0.1, affine=True, track_running_stats=True)\n",
       "    (relu62): ReLU()\n",
       "    (conv71): Conv2d(64, 64, kernel_size=(1, 1), stride=(1, 1), bias=False)\n",
       "    (bn71): BatchNorm2d(64, eps=1e-05, momentum=0.1, affine=True, track_running_stats=True)\n",
       "    (relu71): ReLU()\n",
       "    (conv72): Conv2d(64, 16, kernel_size=(1, 1), stride=(1, 1), bias=False)\n",
       "    (bn72): BatchNorm2d(16, eps=1e-05, momentum=0.1, affine=True, track_running_stats=True)\n",
       "    (relu72): ReLU()\n",
       "    (conv73): Conv2d(16, 16, kernel_size=(1, 1), stride=(1, 1), bias=False)\n",
       "    (bn73): BatchNorm2d(16, eps=1e-05, momentum=0.1, affine=True, track_running_stats=True)\n",
       "    (relu73): ReLU()\n",
       "    (conv74): Conv2d(16, 12, kernel_size=(1, 1), stride=(1, 1))\n",
       "  )\n",
       ")"
      ]
     },
     "execution_count": 9,
     "metadata": {},
     "output_type": "execute_result"
    }
   ],
   "source": [
    "model.eval()"
   ]
  },
  {
   "cell_type": "markdown",
   "id": "dc5160f9-b242-4a12-8750-995efd29144b",
   "metadata": {},
   "source": [
    "# Plot Predictions"
   ]
  },
  {
   "cell_type": "markdown",
   "id": "255632de-5a0d-4e10-8441-6f63c60952e7",
   "metadata": {},
   "source": [
    "### DFire"
   ]
  },
  {
   "cell_type": "code",
   "execution_count": 10,
   "id": "fed276b7-ca9b-42ad-82a3-f326b9c56714",
   "metadata": {
    "tags": []
   },
   "outputs": [],
   "source": [
    "utils.plot_n_images(\n",
    "    loader=dfire_loader, \n",
    "    model=model,\n",
    "    n_imgs=128,\n",
    "    save_name=save_dfire)"
   ]
  },
  {
   "cell_type": "markdown",
   "id": "7fd22565-d9ae-4ecc-a332-d9ffdcd614fc",
   "metadata": {},
   "source": [
    "### FASDD UAV"
   ]
  },
  {
   "cell_type": "code",
   "execution_count": 11,
   "id": "38e12db7-8d11-481e-ba88-bb7389d7268d",
   "metadata": {
    "tags": []
   },
   "outputs": [],
   "source": [
    "utils.plot_n_images(\n",
    "    loader=fasdd_uav_loader, \n",
    "    model=model,\n",
    "    n_imgs=128,\n",
    "    save_name=save_fasdd_uav)"
   ]
  },
  {
   "cell_type": "markdown",
   "id": "0c2d64cb-5924-46fe-b90f-13e25b12382f",
   "metadata": {},
   "source": [
    "### FASDD CV"
   ]
  },
  {
   "cell_type": "code",
   "execution_count": 12,
   "id": "cd7ac91f-90f7-4743-93c8-6caf94e9fb6d",
   "metadata": {
    "tags": []
   },
   "outputs": [],
   "source": [
    "utils.plot_n_images(\n",
    "    loader=fasdd_cv_loader, \n",
    "    model=model,\n",
    "    n_imgs=128,\n",
    "    save_name=save_fasdd_cv)"
   ]
  },
  {
   "cell_type": "markdown",
   "id": "02fd7166-48fb-477b-86a9-df34790998f1",
   "metadata": {},
   "source": [
    "### FASDD RS RGB"
   ]
  },
  {
   "cell_type": "code",
   "execution_count": 13,
   "id": "72c2077c-acfb-4f3b-bc9e-a316fdf14ee0",
   "metadata": {
    "tags": []
   },
   "outputs": [],
   "source": [
    "utils.plot_n_images(\n",
    "    loader=fasdd_rs_loader, \n",
    "    model=model,\n",
    "    n_imgs=128,\n",
    "    save_name=save_fasdd_rs)"
   ]
  }
 ],
 "metadata": {
  "kernelspec": {
   "display_name": "Python 3 (ipykernel)",
   "language": "python",
   "name": "python3"
  },
  "language_info": {
   "codemirror_mode": {
    "name": "ipython",
    "version": 3
   },
   "file_extension": ".py",
   "mimetype": "text/x-python",
   "name": "python",
   "nbconvert_exporter": "python",
   "pygments_lexer": "ipython3",
   "version": "3.10.13"
  }
 },
 "nbformat": 4,
 "nbformat_minor": 5
}
