{
 "cells": [
  {
   "cell_type": "code",
   "execution_count": 1,
   "id": "bae28040-7577-4f96-9d1e-9bc21edd0650",
   "metadata": {
    "tags": []
   },
   "outputs": [
    {
     "name": "stderr",
     "output_type": "stream",
     "text": [
      "INFO:albumentations.check_version:A new version of Albumentations is available: 1.4.13 (you have 1.4.10). Upgrade using: pip install --upgrade albumentations\n"
     ]
    }
   ],
   "source": [
    "import logging\n",
    "from tqdm import tqdm\n",
    "\n",
    "import config\n",
    "import modules.metrics_mAP_aladdin as aladdin_mAP\n",
    "import modules.dataloaders as data_loaders\n",
    "import modules.models as models\n",
    "import modules.utils as utils\n",
    "import modules.metrics as metrics"
   ]
  },
  {
   "cell_type": "markdown",
   "id": "697afd38-102e-465d-a5b7-73e7e5431df3",
   "metadata": {},
   "source": [
    "# Logger and Folders to Save Plots"
   ]
  },
  {
   "cell_type": "code",
   "execution_count": 2,
   "id": "433b645e-3035-41bf-83c1-e042b8107051",
   "metadata": {
    "tags": []
   },
   "outputs": [],
   "source": [
    "log_path = './mAP_&_pr_curves/epochs=150__max_obj_10__simple_model__thres_001/'\n",
    "\n",
    "logger = logging.getLogger(\"GonLogger\")\n",
    "logger.propagate = False\n",
    "logger.setLevel(logging.INFO)\n",
    "file_handler = logging.FileHandler(log_path + 'logfile.log')\n",
    "formatter = logging.Formatter('%(message)s')\n",
    "file_handler.setFormatter(formatter)\n",
    "\n",
    "# add file handler to logger\n",
    "logger.addHandler(file_handler)\n",
    "\n",
    "logger.info('Simple BED Detector.\\n' +\n",
    "           '\\tNo Sigmoid. No Softmax. Permute out of the model.\\n' +\n",
    "            '\\tDFire and FASDD UAV and CV.\\n' +\n",
    "            f'\\tMax Obj = {config.MAX_OBJ}.\\n' +\n",
    "            f'\\tIOU Threshold = {config.IOU_THRESHOLD}.\\n' +\n",
    "            f'\\tNMS IOU Threshold = {config.NMS_IOU_THRESHOLD}.\\n' +\n",
    "            f'\\tScore Threshold = {config.SCORE_THRESHOLD}.\\n' +\n",
    "            '\\tNMS IOU Threshold does not change too much, so it is not tested.\\n')"
   ]
  },
  {
   "cell_type": "markdown",
   "id": "aea1fc7f-1080-4cad-b178-003754066ce1",
   "metadata": {},
   "source": [
    "# Datasets DFire"
   ]
  },
  {
   "cell_type": "markdown",
   "id": "cb270af3-f8a1-4730-9ca2-872d091a0b2b",
   "metadata": {},
   "source": [
    "## DFire"
   ]
  },
  {
   "cell_type": "code",
   "execution_count": 3,
   "id": "fc1e4a9b-2e8c-4492-9062-a589320701ca",
   "metadata": {
    "tags": []
   },
   "outputs": [
    {
     "name": "stdout",
     "output_type": "stream",
     "text": [
      "\n",
      "TEST DFire dataset\n",
      "DFire Removed wrong images: 0\n",
      "DFire Removed due to overlapping: 310\n",
      "DFire Removed due to more than 10: 13\n",
      "\n",
      "Test dataset len: 3983\n"
     ]
    }
   ],
   "source": [
    "dfire_loader = data_loaders.get_dfire_val_loader()"
   ]
  },
  {
   "cell_type": "markdown",
   "id": "a28a2ecf-5f11-42a5-baf7-83ae56554bdd",
   "metadata": {},
   "source": [
    "## FASDD UAV"
   ]
  },
  {
   "cell_type": "code",
   "execution_count": 4,
   "id": "db0d7169-7e38-4673-a072-1de88adfef55",
   "metadata": {},
   "outputs": [
    {
     "name": "stdout",
     "output_type": "stream",
     "text": [
      "\n",
      "TEST FASDD UAV dataset\n",
      "FASDD Removed wrong images: 0\n",
      "FASDD Removed due to overlapping: 377\n",
      "FASDD Removed due to more than 10: 156\n",
      "\n",
      "Test FASDD UAV dataset len: 3648\n"
     ]
    }
   ],
   "source": [
    "fasdd_uav_loader = data_loaders.get_fasdd_uav_val_loader()"
   ]
  },
  {
   "cell_type": "markdown",
   "id": "447f0a32-f904-4715-8ddc-90683a10524e",
   "metadata": {},
   "source": [
    "## FASDD CV"
   ]
  },
  {
   "cell_type": "code",
   "execution_count": 5,
   "id": "68ea0d8c-e132-47a6-a2d9-b972f64036ea",
   "metadata": {},
   "outputs": [
    {
     "name": "stdout",
     "output_type": "stream",
     "text": [
      "\n",
      "TEST FASDD CV dataset\n",
      "FASDD Removed wrong images: 0\n",
      "FASDD Removed due to overlapping: 317\n",
      "FASDD Removed due to more than 10: 44\n",
      "\n",
      "Test FASDD CV dataset len: 15523\n"
     ]
    }
   ],
   "source": [
    "fasdd_cv_loader = data_loaders.get_fasdd_cv_val_loader()"
   ]
  },
  {
   "cell_type": "markdown",
   "id": "ac909547-1328-4f61-8c4e-08dd68bef014",
   "metadata": {},
   "source": [
    "## DFire, FASDD UAV and CV"
   ]
  },
  {
   "cell_type": "code",
   "execution_count": 6,
   "id": "8b0c13b6-2002-464c-8fce-0bb9cae9b42c",
   "metadata": {
    "tags": []
   },
   "outputs": [
    {
     "name": "stdout",
     "output_type": "stream",
     "text": [
      "\n",
      "TEST DFire dataset\n",
      "DFire Removed wrong images: 0\n",
      "DFire Removed due to overlapping: 310\n",
      "DFire Removed due to more than 10: 13\n",
      "\n",
      "Test DFire dataset len: 3983\n",
      "\n",
      "TEST FASDD UAV dataset\n",
      "FASDD Removed wrong images: 0\n",
      "FASDD Removed due to overlapping: 377\n",
      "FASDD Removed due to more than 10: 156\n",
      "\n",
      "Test FASDD UAV dataset len: 3648\n",
      "\n",
      "TEST FASDD CV dataset\n",
      "FASDD Removed wrong images: 0\n",
      "FASDD Removed due to overlapping: 317\n",
      "FASDD Removed due to more than 10: 44\n",
      "\n",
      "Test FASDD CV dataset len: 15523\n",
      "\n",
      "Concatenate Test DFire and FASDD UAV datasets\n",
      "Test dataset len: 7631\n",
      "Concatenate with FASDD CV dataset\n",
      "Test dataset len: 23154\n"
     ]
    }
   ],
   "source": [
    "full_loader = data_loaders.get_val_loader()"
   ]
  },
  {
   "cell_type": "markdown",
   "id": "aa5ef6b1-5d85-4623-801f-9dfb30c7a911",
   "metadata": {},
   "source": [
    "# Load Model"
   ]
  },
  {
   "cell_type": "code",
   "execution_count": 7,
   "id": "ee89e499-3cf7-4fbb-aa18-39a68f8c24ae",
   "metadata": {
    "tags": []
   },
   "outputs": [],
   "source": [
    "#model = models.BED_DETECTOR().to(config.DEVICE)\n",
    "\n",
    "# No Sigmoid, no softmax and permute out of the model\n",
    "model = models.SIMPLE_BED_DETECTOR().to(config.DEVICE)"
   ]
  },
  {
   "cell_type": "markdown",
   "id": "f18c44fc-b4c0-473e-8794-1b6a55400f9e",
   "metadata": {},
   "source": [
    "### Load Weights"
   ]
  },
  {
   "cell_type": "code",
   "execution_count": 8,
   "id": "821b9da4-a34f-449c-960d-17c21a7bf212",
   "metadata": {
    "tags": []
   },
   "outputs": [
    {
     "name": "stdout",
     "output_type": "stream",
     "text": [
      "Loading Model. Trained during 144 epochs\n"
     ]
    },
    {
     "data": {
      "text/plain": [
       "144"
      ]
     },
     "execution_count": 8,
     "metadata": {},
     "output_type": "execute_result"
    }
   ],
   "source": [
    "# ___________________________________________ #\n",
    "# __________ 5 MAX_OBJ, 100 epochs __________ # \n",
    "# ___________________________________________ #\n",
    "# weights_path = './experiments/test_02_dfire_&_fasdd_uav_cv/weights/'\n",
    "# weights_file = weights_path + 'BED_detector__best_mAP=0.6352__epoch=99.pt'\n",
    "\n",
    "# ___________________________________________ #\n",
    "# __________ 10 MAX_OBJ, 200 epochs _________ # \n",
    "# ___________________________________________ #\n",
    "# weights_path = './experiments/test_03_dfire_&_fasdd_uav_cv_+epochs_maxobj10/weights/'\n",
    "# weights_file = weights_path + 'BED_detector__best_mAP=0.6224__epoch=119.pt'\n",
    "\n",
    "# ___________________________________________ #\n",
    "# __________  SIMPLE BED DETECTOR   _________ # \n",
    "# __________ NO SIGMOID, NO SOFTMAX _________ # \n",
    "# _________ PERMUTE OUT OF THE MODEL ________ # \n",
    "# __________ 10 MAX_OBJ, 150 epochs _________ # \n",
    "# ___________________________________________ #\n",
    "weights_path = './experiments/test_20_no_sigmoid_softmax_permute_out/weights/'\n",
    "weights_file = weights_path + 'BED_detector__best_mAP=0.6405__epoch=144.pt'\n",
    "\n",
    "logger.info(f'\\nWeights file: {weights_file}')\n",
    "\n",
    "utils.load_checkpoint(\n",
    "    model_path=weights_file, \n",
    "    model=model, \n",
    "    optimizer=None, \n",
    "    scheduler=None, \n",
    "    device=config.DEVICE)"
   ]
  },
  {
   "cell_type": "markdown",
   "id": "744140c8-2bc1-4a4b-8d21-63668feb5fd1",
   "metadata": {},
   "source": [
    "### Evaluation Mode"
   ]
  },
  {
   "cell_type": "code",
   "execution_count": 9,
   "id": "0c1559d7-0fb0-4107-bb30-caae146d4061",
   "metadata": {},
   "outputs": [
    {
     "data": {
      "text/plain": [
       "SIMPLE_BED_DETECTOR(\n",
       "  (model): Sequential(\n",
       "    (conv1): Conv2d(3, 32, kernel_size=(3, 3), stride=(1, 1), padding=(1, 1), bias=False)\n",
       "    (bn1): BatchNorm2d(32, eps=1e-05, momentum=0.1, affine=True, track_running_stats=True)\n",
       "    (relu1): ReLU()\n",
       "    (dropout1): Dropout2d(p=0.3, inplace=False)\n",
       "    (maxpool2): MaxPool2d(kernel_size=2, stride=2, padding=0, dilation=1, ceil_mode=False)\n",
       "    (conv2): Conv2d(32, 16, kernel_size=(3, 3), stride=(1, 1), padding=(1, 1), bias=False)\n",
       "    (bn2): BatchNorm2d(16, eps=1e-05, momentum=0.1, affine=True, track_running_stats=True)\n",
       "    (relu2): ReLU()\n",
       "    (dropout2): Dropout2d(p=0.3, inplace=False)\n",
       "    (maxpool3): MaxPool2d(kernel_size=2, stride=2, padding=0, dilation=1, ceil_mode=False)\n",
       "    (conv31): Conv2d(16, 16, kernel_size=(1, 1), stride=(1, 1), bias=False)\n",
       "    (bn31): BatchNorm2d(16, eps=1e-05, momentum=0.1, affine=True, track_running_stats=True)\n",
       "    (relu31): ReLU()\n",
       "    (conv32): Conv2d(16, 32, kernel_size=(3, 3), stride=(1, 1), padding=(1, 1), bias=False)\n",
       "    (bn32): BatchNorm2d(32, eps=1e-05, momentum=0.1, affine=True, track_running_stats=True)\n",
       "    (relu32): ReLU()\n",
       "    (conv33): Conv2d(32, 32, kernel_size=(1, 1), stride=(1, 1), bias=False)\n",
       "    (bn33): BatchNorm2d(32, eps=1e-05, momentum=0.1, affine=True, track_running_stats=True)\n",
       "    (relu33): ReLU()\n",
       "    (conv34): Conv2d(32, 64, kernel_size=(3, 3), stride=(1, 1), padding=(1, 1), bias=False)\n",
       "    (bn34): BatchNorm2d(64, eps=1e-05, momentum=0.1, affine=True, track_running_stats=True)\n",
       "    (relu34): ReLU()\n",
       "    (maxpool4): MaxPool2d(kernel_size=2, stride=2, padding=0, dilation=1, ceil_mode=False)\n",
       "    (conv41): Conv2d(64, 32, kernel_size=(1, 1), stride=(1, 1), bias=False)\n",
       "    (bn41): BatchNorm2d(32, eps=1e-05, momentum=0.1, affine=True, track_running_stats=True)\n",
       "    (relu41): ReLU()\n",
       "    (conv42): Conv2d(32, 64, kernel_size=(3, 3), stride=(1, 1), padding=(1, 1), bias=False)\n",
       "    (bn42): BatchNorm2d(64, eps=1e-05, momentum=0.1, affine=True, track_running_stats=True)\n",
       "    (relu42): ReLU()\n",
       "    (conv43): Conv2d(64, 32, kernel_size=(1, 1), stride=(1, 1), bias=False)\n",
       "    (bn43): BatchNorm2d(32, eps=1e-05, momentum=0.1, affine=True, track_running_stats=True)\n",
       "    (relu43): ReLU()\n",
       "    (conv44): Conv2d(32, 64, kernel_size=(3, 3), stride=(1, 1), padding=(1, 1), bias=False)\n",
       "    (bn44): BatchNorm2d(64, eps=1e-05, momentum=0.1, affine=True, track_running_stats=True)\n",
       "    (relu44): ReLU()\n",
       "    (conv45): Conv2d(64, 32, kernel_size=(1, 1), stride=(1, 1), bias=False)\n",
       "    (bn45): BatchNorm2d(32, eps=1e-05, momentum=0.1, affine=True, track_running_stats=True)\n",
       "    (relu45): ReLU()\n",
       "    (conv46): Conv2d(32, 64, kernel_size=(3, 3), stride=(1, 1), padding=(1, 1), bias=False)\n",
       "    (bn46): BatchNorm2d(64, eps=1e-05, momentum=0.1, affine=True, track_running_stats=True)\n",
       "    (relu46): ReLU()\n",
       "    (maxpool5): MaxPool2d(kernel_size=2, stride=2, padding=0, dilation=1, ceil_mode=False)\n",
       "    (conv51): Conv2d(64, 32, kernel_size=(1, 1), stride=(1, 1), bias=False)\n",
       "    (bn51): BatchNorm2d(32, eps=1e-05, momentum=0.1, affine=True, track_running_stats=True)\n",
       "    (relu51): ReLU()\n",
       "    (conv52): Conv2d(32, 64, kernel_size=(3, 3), stride=(1, 1), padding=(1, 1), bias=False)\n",
       "    (bn52): BatchNorm2d(64, eps=1e-05, momentum=0.1, affine=True, track_running_stats=True)\n",
       "    (relu52): ReLU()\n",
       "    (conv53): Conv2d(64, 32, kernel_size=(1, 1), stride=(1, 1), bias=False)\n",
       "    (bn53): BatchNorm2d(32, eps=1e-05, momentum=0.1, affine=True, track_running_stats=True)\n",
       "    (relu53): ReLU()\n",
       "    (conv54): Conv2d(32, 64, kernel_size=(3, 3), stride=(1, 1), padding=(1, 1), bias=False)\n",
       "    (bn54): BatchNorm2d(64, eps=1e-05, momentum=0.1, affine=True, track_running_stats=True)\n",
       "    (relu54): ReLU()\n",
       "    (conv55): Conv2d(64, 64, kernel_size=(3, 3), stride=(1, 1), padding=(1, 1), bias=False)\n",
       "    (bn55): BatchNorm2d(64, eps=1e-05, momentum=0.1, affine=True, track_running_stats=True)\n",
       "    (relu55): ReLU()\n",
       "    (conv56): Conv2d(64, 64, kernel_size=(3, 3), stride=(1, 1), padding=(1, 1), bias=False)\n",
       "    (bn56): BatchNorm2d(64, eps=1e-05, momentum=0.1, affine=True, track_running_stats=True)\n",
       "    (relu56): ReLU()\n",
       "    (maxpool6): MaxPool2d(kernel_size=2, stride=2, padding=0, dilation=1, ceil_mode=False)\n",
       "    (conv61): Conv2d(64, 64, kernel_size=(3, 3), stride=(1, 1), padding=(1, 1), bias=False)\n",
       "    (bn61): BatchNorm2d(64, eps=1e-05, momentum=0.1, affine=True, track_running_stats=True)\n",
       "    (relu61): ReLU()\n",
       "    (conv62): Conv2d(64, 64, kernel_size=(3, 3), stride=(1, 1), padding=(1, 1), bias=False)\n",
       "    (bn62): BatchNorm2d(64, eps=1e-05, momentum=0.1, affine=True, track_running_stats=True)\n",
       "    (relu62): ReLU()\n",
       "    (conv71): Conv2d(64, 64, kernel_size=(1, 1), stride=(1, 1), bias=False)\n",
       "    (bn71): BatchNorm2d(64, eps=1e-05, momentum=0.1, affine=True, track_running_stats=True)\n",
       "    (relu71): ReLU()\n",
       "    (conv72): Conv2d(64, 16, kernel_size=(1, 1), stride=(1, 1), bias=False)\n",
       "    (bn72): BatchNorm2d(16, eps=1e-05, momentum=0.1, affine=True, track_running_stats=True)\n",
       "    (relu72): ReLU()\n",
       "    (conv73): Conv2d(16, 16, kernel_size=(1, 1), stride=(1, 1), bias=False)\n",
       "    (bn73): BatchNorm2d(16, eps=1e-05, momentum=0.1, affine=True, track_running_stats=True)\n",
       "    (relu73): ReLU()\n",
       "    (conv74): Conv2d(16, 12, kernel_size=(1, 1), stride=(1, 1))\n",
       "  )\n",
       ")"
      ]
     },
     "execution_count": 9,
     "metadata": {},
     "output_type": "execute_result"
    }
   ],
   "source": [
    "model.eval()"
   ]
  },
  {
   "cell_type": "markdown",
   "id": "be8bbd7b-0a93-4d76-883e-038f1b40f67c",
   "metadata": {},
   "source": [
    "# Print values"
   ]
  },
  {
   "cell_type": "code",
   "execution_count": 10,
   "id": "f5f9a94c-4167-4fdd-9f18-331a3d837d1d",
   "metadata": {},
   "outputs": [],
   "source": [
    "def print_metrics(mAP_metrics):\n",
    "    mAP, avg_prec, cls_prec, cls_rec = mAP_metrics\n",
    "    \n",
    "    mAP_str = \"mAP @0.50\"\n",
    "    smoke = \"Smoke\"\n",
    "    fire = \"Fire\"\n",
    "    \n",
    "    print(f'{mAP_str:<12}' + f'{mAP:.4f}')\n",
    "    print('Average Precision')\n",
    "    print(f'- {smoke:<10}' + f'{avg_prec[0]:.4f}')\n",
    "    print(f'- {fire:<10}' + f'{avg_prec[1]:.4f}')\n",
    "    print('Class Precision')\n",
    "    print(f'- {smoke:<10}' + f'{cls_prec[0]:.4f}')\n",
    "    print(f'- {fire:<10}' + f'{cls_prec[1]:.4f}')  \n",
    "    print('Class Recall')\n",
    "    print(f'- {smoke:<10}' + f'{cls_rec[0]:.4f}')\n",
    "    print(f'- {fire:<10}' + f'{cls_rec[1]:.4f}')\n",
    "    \n",
    "    logger.info(f'{mAP_str:<12}' + f'{mAP:.4f}')\n",
    "    logger.info('Average Precision')\n",
    "    logger.info(f'- {smoke:<10}' + f'{avg_prec[0]:.4f}')\n",
    "    logger.info(f'- {fire:<10}' + f'{avg_prec[1]:.4f}')\n",
    "    logger.info('Class Precision')\n",
    "    logger.info(f'- {smoke:<10}' + f'{cls_prec[0]:.4f}')\n",
    "    logger.info(f'- {fire:<10}' + f'{cls_prec[1]:.4f}')  \n",
    "    logger.info('Class Recall')\n",
    "    logger.info(f'- {smoke:<10}' + f'{cls_rec[0]:.4f}')\n",
    "    logger.info(f'- {fire:<10}' + f'{cls_rec[1]:.4f}')"
   ]
  },
  {
   "cell_type": "markdown",
   "id": "00091161-4e8b-4347-b49d-78dd78a314ea",
   "metadata": {},
   "source": [
    "# Calculate mAP DFire"
   ]
  },
  {
   "cell_type": "code",
   "execution_count": 11,
   "id": "9bdd6f0b-1aeb-471f-91d0-633ad06f1540",
   "metadata": {
    "tags": []
   },
   "outputs": [
    {
     "name": "stderr",
     "output_type": "stream",
     "text": [
      "Get Boxes: 100%|█████████████████████████████████████████████████████████████████████████████████████████████████████████████████████████████████████████████| 62/62 [02:07<00:00,  2.06s/it]\n"
     ]
    }
   ],
   "source": [
    "pred_boxes_1, true_boxes_1 = aladdin_mAP.get_bboxes(\n",
    "    dfire_loader,\n",
    "    model)"
   ]
  },
  {
   "cell_type": "code",
   "execution_count": 12,
   "id": "8b997de7-da8e-4f3d-bce0-1a23aa825255",
   "metadata": {
    "tags": []
   },
   "outputs": [
    {
     "name": "stderr",
     "output_type": "stream",
     "text": [
      "mAP:@.5: 100%|█████████████████████████████████████████████████████████████████████████████████████████████████████████████████████████████████████████████████| 2/2 [00:12<00:00,  6.19s/it]\n"
     ]
    }
   ],
   "source": [
    "dfire_metrics = aladdin_mAP.mAP(\n",
    "    log_path=log_path + 'dfire/',\n",
    "    pred_boxes=pred_boxes_1,\n",
    "    true_boxes=true_boxes_1)"
   ]
  },
  {
   "cell_type": "code",
   "execution_count": 13,
   "id": "09e0cc62-e104-4581-8599-fa89a9b10797",
   "metadata": {
    "tags": []
   },
   "outputs": [
    {
     "name": "stdout",
     "output_type": "stream",
     "text": [
      "mAP @0.50   0.4329\n",
      "Average Precision\n",
      "- Smoke     0.4999\n",
      "- Fire      0.3659\n",
      "Class Precision\n",
      "- Smoke     0.0118\n",
      "- Fire      0.0717\n",
      "Class Recall\n",
      "- Smoke     0.7097\n",
      "- Fire      0.4862\n"
     ]
    }
   ],
   "source": [
    "logger.info('\\n\\nDFire Aladdin Metrics:\\n')\n",
    "print_metrics(dfire_metrics)"
   ]
  },
  {
   "cell_type": "markdown",
   "id": "0712a5ce-03a6-4ef8-ba5e-1f75ab2268da",
   "metadata": {},
   "source": [
    "## Compare to Torchmetrics"
   ]
  },
  {
   "cell_type": "code",
   "execution_count": 14,
   "id": "22c65380-fd08-44c8-b04a-510ce48f87fb",
   "metadata": {},
   "outputs": [
    {
     "name": "stderr",
     "output_type": "stream",
     "text": [
      "Validating: 100%|████████████████████████████████████████████████████████████████████████████████████████████████████████████████████████████████████████████| 62/62 [02:15<00:00,  2.19s/it]\n"
     ]
    }
   ],
   "source": [
    "dfire_torchmetrics = metrics.torchmetrics_mAP(\n",
    "    dfire_loader,\n",
    "    model)"
   ]
  },
  {
   "cell_type": "code",
   "execution_count": 15,
   "id": "9e9f1f0c-01ef-4537-bd42-a7039deacb25",
   "metadata": {},
   "outputs": [
    {
     "name": "stdout",
     "output_type": "stream",
     "text": [
      "{'mAP': tensor(0.4361), 'AP': [0.5025447010993958, 0.3697100579738617], 'AR': [0.7097107172012329, 0.48617085814476013]}\n"
     ]
    }
   ],
   "source": [
    "print(dfire_torchmetrics)\n",
    "logger.info(f'\\nDFire Torchmetrics: \\n{dfire_torchmetrics}')"
   ]
  },
  {
   "cell_type": "markdown",
   "id": "3ca412db-5e17-425f-ae94-bc905061ad45",
   "metadata": {},
   "source": [
    "# Calculate mAP FASDD UAV"
   ]
  },
  {
   "cell_type": "code",
   "execution_count": 16,
   "id": "dbf43593-fe54-40e1-992c-045a9465b715",
   "metadata": {},
   "outputs": [
    {
     "name": "stderr",
     "output_type": "stream",
     "text": [
      "Get Boxes: 100%|█████████████████████████████████████████████████████████████████████████████████████████████████████████████████████████████████████████████| 57/57 [01:47<00:00,  1.89s/it]\n"
     ]
    }
   ],
   "source": [
    "pred_boxes_2, true_boxes_2 = aladdin_mAP.get_bboxes(\n",
    "    fasdd_uav_loader,\n",
    "    model)"
   ]
  },
  {
   "cell_type": "code",
   "execution_count": 17,
   "id": "aaaa24c1-9193-43db-98d6-9771c489bc49",
   "metadata": {},
   "outputs": [
    {
     "name": "stderr",
     "output_type": "stream",
     "text": [
      "mAP:@.5: 100%|█████████████████████████████████████████████████████████████████████████████████████████████████████████████████████████████████████████████████| 2/2 [00:12<00:00,  6.08s/it]\n"
     ]
    }
   ],
   "source": [
    "fasdd_uav_metrics = aladdin_mAP.mAP(\n",
    "    log_path=log_path + 'fasdd_uav/',\n",
    "    pred_boxes=pred_boxes_2,\n",
    "    true_boxes=true_boxes_2)"
   ]
  },
  {
   "cell_type": "code",
   "execution_count": 18,
   "id": "54cf1409-01ba-45ed-a9fe-e99ccf3a374d",
   "metadata": {
    "tags": []
   },
   "outputs": [
    {
     "name": "stdout",
     "output_type": "stream",
     "text": [
      "mAP @0.50   0.6214\n",
      "Average Precision\n",
      "- Smoke     0.6937\n",
      "- Fire      0.5491\n",
      "Class Precision\n",
      "- Smoke     0.0159\n",
      "- Fire      0.0794\n",
      "Class Recall\n",
      "- Smoke     0.7502\n",
      "- Fire      0.5657\n"
     ]
    }
   ],
   "source": [
    "logger.info('\\n\\nFASDD UAV Aladdin Metrics:\\n')\n",
    "print_metrics(fasdd_uav_metrics)"
   ]
  },
  {
   "cell_type": "markdown",
   "id": "b31b7bf0-08aa-496c-a4c7-bbd03a6c536c",
   "metadata": {},
   "source": [
    "### Compare to Torchmetrics"
   ]
  },
  {
   "cell_type": "code",
   "execution_count": 19,
   "id": "5ae7e089-7d06-4f9c-a2a8-50da8aad7fd7",
   "metadata": {},
   "outputs": [
    {
     "name": "stderr",
     "output_type": "stream",
     "text": [
      "Validating: 100%|████████████████████████████████████████████████████████████████████████████████████████████████████████████████████████████████████████████| 57/57 [01:52<00:00,  1.98s/it]\n"
     ]
    }
   ],
   "source": [
    "fasdd_uav_torchmetrics = metrics.torchmetrics_mAP(\n",
    "    fasdd_uav_loader,\n",
    "    model)"
   ]
  },
  {
   "cell_type": "code",
   "execution_count": 20,
   "id": "bce59213-91d9-4904-8cdb-0aaff9bdd73d",
   "metadata": {},
   "outputs": [
    {
     "name": "stdout",
     "output_type": "stream",
     "text": [
      "{'mAP': tensor(0.6197), 'AP': [0.6906685829162598, 0.5487518906593323], 'AR': [0.7483221292495728, 0.5656954646110535]}\n"
     ]
    }
   ],
   "source": [
    "print(fasdd_uav_torchmetrics)\n",
    "logger.info(f'\\nFASDD UAV Torchmetrics: \\n{fasdd_uav_torchmetrics}')"
   ]
  },
  {
   "cell_type": "markdown",
   "id": "d6fd9a7c-4384-43b5-a54a-290c4938c8f3",
   "metadata": {},
   "source": [
    "# Calculate mAP FASDD CV"
   ]
  },
  {
   "cell_type": "code",
   "execution_count": 21,
   "id": "eaf2bb93-f35d-470d-b322-19b2f282c53c",
   "metadata": {},
   "outputs": [
    {
     "name": "stderr",
     "output_type": "stream",
     "text": [
      "Get Boxes: 100%|███████████████████████████████████████████████████████████████████████████████████████████████████████████████████████████████████████████| 242/242 [07:47<00:00,  1.93s/it]\n"
     ]
    }
   ],
   "source": [
    "pred_boxes_3, true_boxes_3 = aladdin_mAP.get_bboxes(\n",
    "    fasdd_cv_loader,\n",
    "    model)"
   ]
  },
  {
   "cell_type": "code",
   "execution_count": 22,
   "id": "77938632-dd1e-400e-8311-799fb31251ae",
   "metadata": {},
   "outputs": [
    {
     "name": "stderr",
     "output_type": "stream",
     "text": [
      "mAP:@.5: 100%|█████████████████████████████████████████████████████████████████████████████████████████████████████████████████████████████████████████████████| 2/2 [02:32<00:00, 76.40s/it]\n"
     ]
    }
   ],
   "source": [
    "fasdd_cv_metrics = aladdin_mAP.mAP(\n",
    "    log_path=log_path + 'fasdd_cv/',\n",
    "    pred_boxes=pred_boxes_3,\n",
    "    true_boxes=true_boxes_3)"
   ]
  },
  {
   "cell_type": "code",
   "execution_count": 23,
   "id": "12b17ae2-0db1-4a80-93ed-47fd7c6c54ef",
   "metadata": {
    "tags": []
   },
   "outputs": [
    {
     "name": "stdout",
     "output_type": "stream",
     "text": [
      "mAP @0.50   0.7270\n",
      "Average Precision\n",
      "- Smoke     0.7325\n",
      "- Fire      0.7215\n",
      "Class Precision\n",
      "- Smoke     0.0157\n",
      "- Fire      0.0769\n",
      "Class Recall\n",
      "- Smoke     0.8602\n",
      "- Fire      0.7851\n"
     ]
    }
   ],
   "source": [
    "logger.info('\\n\\nFASDD CV Aladdin Metrics:\\n')\n",
    "print_metrics(fasdd_cv_metrics)"
   ]
  },
  {
   "cell_type": "markdown",
   "id": "be32cfec-7e1e-40ef-aab0-81ee91130d15",
   "metadata": {},
   "source": [
    "### Compare to Torchmetrics"
   ]
  },
  {
   "cell_type": "code",
   "execution_count": 24,
   "id": "d8e5845a-e716-4e4e-bab7-5d1eaf2d57be",
   "metadata": {},
   "outputs": [
    {
     "name": "stderr",
     "output_type": "stream",
     "text": [
      "Validating: 100%|██████████████████████████████████████████████████████████████████████████████████████████████████████████████████████████████████████████| 242/242 [08:08<00:00,  2.02s/it]\n"
     ]
    }
   ],
   "source": [
    "fasdd_cv_torchmetrics = metrics.torchmetrics_mAP(\n",
    "    fasdd_cv_loader,\n",
    "    model)"
   ]
  },
  {
   "cell_type": "code",
   "execution_count": 25,
   "id": "a2db9968-c81a-4423-be1d-9fa3af39e7cd",
   "metadata": {
    "tags": []
   },
   "outputs": [
    {
     "name": "stdout",
     "output_type": "stream",
     "text": [
      "{'mAP': tensor(0.7260), 'AP': [0.7317706346511841, 0.7202243804931641], 'AR': [0.8600620627403259, 0.7850919365882874]}\n"
     ]
    }
   ],
   "source": [
    "print(fasdd_cv_torchmetrics)\n",
    "logger.info(f'\\nFASDD CV Torchmetrics: \\n{fasdd_cv_torchmetrics}')"
   ]
  },
  {
   "cell_type": "markdown",
   "id": "e26919a6-d5a7-4302-9cb3-118bb0211eb7",
   "metadata": {},
   "source": [
    "# Calculate mAP FULL DS"
   ]
  },
  {
   "cell_type": "code",
   "execution_count": 26,
   "id": "84f85c1f-4a1f-4082-a809-43e57a5e0a76",
   "metadata": {
    "tags": []
   },
   "outputs": [
    {
     "name": "stderr",
     "output_type": "stream",
     "text": [
      "Get Boxes: 100%|███████████████████████████████████████████████████████████████████████████████████████████████████████████████████████████████████████████| 361/361 [11:58<00:00,  1.99s/it]\n"
     ]
    }
   ],
   "source": [
    "pred_boxes, true_boxes = aladdin_mAP.get_bboxes(\n",
    "    full_loader,\n",
    "    model)"
   ]
  },
  {
   "cell_type": "code",
   "execution_count": 27,
   "id": "6fbcc989-ed68-4e77-99a7-12ec4369a020",
   "metadata": {
    "tags": []
   },
   "outputs": [
    {
     "name": "stderr",
     "output_type": "stream",
     "text": [
      "mAP:@.5: 100%|████████████████████████████████████████████████████████████████████████████████████████████████████████████████████████████████████████████████| 2/2 [05:18<00:00, 159.13s/it]\n"
     ]
    }
   ],
   "source": [
    "full_ds_metrics = aladdin_mAP.mAP(\n",
    "    log_path=log_path + 'full_ds/',\n",
    "    pred_boxes=pred_boxes,\n",
    "    true_boxes=true_boxes)"
   ]
  },
  {
   "cell_type": "code",
   "execution_count": 28,
   "id": "7c96d6e2-b829-4b44-a8a5-b42f99564e82",
   "metadata": {
    "tags": []
   },
   "outputs": [
    {
     "name": "stdout",
     "output_type": "stream",
     "text": [
      "mAP @0.50   0.6663\n",
      "Average Precision\n",
      "- Smoke     0.6924\n",
      "- Fire      0.6402\n",
      "Class Precision\n",
      "- Smoke     0.0151\n",
      "- Fire      0.0767\n",
      "Class Recall\n",
      "- Smoke     0.8160\n",
      "- Fire      0.7019\n"
     ]
    }
   ],
   "source": [
    "logger.info('\\n\\nFull Dataset Aladdin Metrics:\\n')\n",
    "print_metrics(full_ds_metrics)"
   ]
  },
  {
   "cell_type": "markdown",
   "id": "7541b448-d48c-45b1-8a0b-190433a47aab",
   "metadata": {},
   "source": [
    "### Compare to Torchmetrics"
   ]
  },
  {
   "cell_type": "code",
   "execution_count": 29,
   "id": "55eb39ff-4fe0-485d-9928-c6520145014d",
   "metadata": {
    "tags": []
   },
   "outputs": [
    {
     "name": "stderr",
     "output_type": "stream",
     "text": [
      "Validating: 100%|██████████████████████████████████████████████████████████████████████████████████████████████████████████████████████████████████████████| 361/361 [12:13<00:00,  2.03s/it]\n"
     ]
    }
   ],
   "source": [
    "full_ds_torchmetrics = metrics.torchmetrics_mAP(\n",
    "    full_loader,\n",
    "    model)"
   ]
  },
  {
   "cell_type": "code",
   "execution_count": 30,
   "id": "42afa242-cbb1-4bb2-91f8-2092fa77671d",
   "metadata": {
    "tags": []
   },
   "outputs": [
    {
     "name": "stdout",
     "output_type": "stream",
     "text": [
      "{'mAP': tensor(0.6662), 'AP': [0.6918432116508484, 0.6405062675476074], 'AR': [0.8155389428138733, 0.7019383907318115]}\n"
     ]
    }
   ],
   "source": [
    "print(full_ds_torchmetrics)\n",
    "logger.info(f'\\nFull Dataset Torchmetrics: \\n{full_ds_torchmetrics}')"
   ]
  },
  {
   "cell_type": "code",
   "execution_count": null,
   "id": "64fab7fe-b79f-4a89-a4d4-fd92f8b63fda",
   "metadata": {},
   "outputs": [],
   "source": []
  }
 ],
 "metadata": {
  "kernelspec": {
   "display_name": "Python 3 (ipykernel)",
   "language": "python",
   "name": "python3"
  },
  "language_info": {
   "codemirror_mode": {
    "name": "ipython",
    "version": 3
   },
   "file_extension": ".py",
   "mimetype": "text/x-python",
   "name": "python",
   "nbconvert_exporter": "python",
   "pygments_lexer": "ipython3",
   "version": "3.10.13"
  }
 },
 "nbformat": 4,
 "nbformat_minor": 5
}
