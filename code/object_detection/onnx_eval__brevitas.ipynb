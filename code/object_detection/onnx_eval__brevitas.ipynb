{
 "cells": [
  {
   "cell_type": "code",
   "execution_count": 1,
   "id": "cba6f86b-976b-4011-9ce7-7624ef404d89",
   "metadata": {},
   "outputs": [
    {
     "name": "stderr",
     "output_type": "stream",
     "text": [
      "INFO:albumentations.check_version:A new version of Albumentations is available: 1.4.14 (you have 1.4.10). Upgrade using: pip install --upgrade albumentations\n"
     ]
    }
   ],
   "source": [
    "import os\n",
    "from tqdm import tqdm\n",
    "\n",
    "import config\n",
    "import modules.dataloaders as detection_data_loader\n",
    "import modules.metrics as metrics\n",
    "\n",
    "import numpy as np\n",
    "import torch\n",
    "import torchmetrics\n",
    "from torchmetrics.detection.mean_ap import MeanAveragePrecision"
   ]
  },
  {
   "cell_type": "code",
   "execution_count": 2,
   "id": "f19697c9-984a-471a-b8a0-6bde511a2bf9",
   "metadata": {},
   "outputs": [],
   "source": [
    "import onnx\n",
    "import onnxruntime"
   ]
  },
  {
   "cell_type": "markdown",
   "id": "329b168b-544e-46ee-841a-ac7fd4db5b37",
   "metadata": {},
   "source": [
    "# Check Models"
   ]
  },
  {
   "cell_type": "code",
   "execution_count": 3,
   "id": "3c59929c-4825-4f6e-a2a6-a86e2ac30370",
   "metadata": {},
   "outputs": [],
   "source": [
    "brevitas_no_comp_name = './onnx_models/w4W2h8b4__bed_detector___no_comp__fixed_point__qcdq__CPU.onnx'\n",
    "brevitas_no_comp_model = onnx.load(brevitas_no_comp_name)\n",
    "onnx.checker.check_model(brevitas_no_comp_model)"
   ]
  },
  {
   "cell_type": "code",
   "execution_count": 4,
   "id": "8e4138cf-da82-4df1-a99b-22e03472258d",
   "metadata": {
    "tags": []
   },
   "outputs": [],
   "source": [
    "brevitas_aimet_name = './onnx_models/w5W4a8b5__bed_detector___aimet__fixed_point__qcdq__CPU.onnx'\n",
    "brevitas_aimet_model = onnx.load(brevitas_aimet_name)\n",
    "onnx.checker.check_model(brevitas_aimet_model)"
   ]
  },
  {
   "cell_type": "code",
   "execution_count": 5,
   "id": "694b064e-d0b4-49db-8303-fc7ff88fed4a",
   "metadata": {
    "tags": []
   },
   "outputs": [],
   "source": [
    "brevitas_aimet_cpu_name = './onnx_models/w8a8b8__bed_detector___aimet__fixed_point__qcdq__CPU.onnx'\n",
    "brevitas_aimet_cpu_model = onnx.load(brevitas_aimet_cpu_name)\n",
    "onnx.checker.check_model(brevitas_aimet_cpu_name)"
   ]
  },
  {
   "cell_type": "markdown",
   "id": "a026033e-c8b5-4da0-a087-ace6e428caa5",
   "metadata": {},
   "source": [
    "# Helper function to convert pytorch tensors to numpy. Useful to handle datatset output."
   ]
  },
  {
   "cell_type": "code",
   "execution_count": 6,
   "id": "71913b22-0a62-49f5-9027-3b07ec2648ea",
   "metadata": {},
   "outputs": [],
   "source": [
    "def to_numpy(tensor):\n",
    "    return tensor.detach().cpu().numpy() if tensor.requires_grad else tensor.cpu().numpy()"
   ]
  },
  {
   "cell_type": "markdown",
   "id": "c7588acf-53c8-4a42-81f0-91104f972d2a",
   "metadata": {},
   "source": [
    "# Detection Loaders"
   ]
  },
  {
   "cell_type": "code",
   "execution_count": 7,
   "id": "496a4ef3-6a8b-48ca-9a30-16ebaffafc10",
   "metadata": {},
   "outputs": [
    {
     "name": "stdout",
     "output_type": "stream",
     "text": [
      "\n",
      "TEST DFire dataset\n",
      "DFire Removed wrong images: 0\n",
      "DFire Removed due to overlapping: 310\n",
      "DFire Removed due to more than 10: 13\n",
      "\n",
      "Test DFire dataset len: 3983\n",
      "\n",
      "TEST FASDD UAV dataset\n",
      "FASDD Removed wrong images: 0\n",
      "FASDD Removed due to overlapping: 377\n",
      "FASDD Removed due to more than 10: 156\n",
      "\n",
      "Test FASDD UAV dataset len: 3648\n",
      "\n",
      "TEST FASDD CV dataset\n",
      "FASDD Removed wrong images: 0\n",
      "FASDD Removed due to overlapping: 317\n",
      "FASDD Removed due to more than 10: 44\n",
      "\n",
      "Test FASDD CV dataset len: 15523\n",
      "\n",
      "Concatenate Test DFire and FASDD UAV datasets\n",
      "Test dataset len: 7631\n",
      "Concatenate with FASDD CV dataset\n",
      "Test dataset len: 23154\n",
      "\n",
      "TEST DFire dataset\n",
      "DFire Removed wrong images: 0\n",
      "DFire Removed due to overlapping: 310\n",
      "DFire Removed due to more than 10: 13\n",
      "\n",
      "Test dataset len: 3983\n",
      "\n",
      "TEST FASDD UAV dataset\n",
      "FASDD Removed wrong images: 0\n",
      "FASDD Removed due to overlapping: 377\n",
      "FASDD Removed due to more than 10: 156\n",
      "\n",
      "Test FASDD UAV dataset len: 3648\n",
      "\n",
      "TEST FASDD CV dataset\n",
      "FASDD Removed wrong images: 0\n",
      "FASDD Removed due to overlapping: 317\n",
      "FASDD Removed due to more than 10: 44\n",
      "\n",
      "Test FASDD CV dataset len: 15523\n"
     ]
    }
   ],
   "source": [
    "detection_loader = detection_data_loader.get_val_loader()\n",
    "detection_dfire_loader = detection_data_loader.get_dfire_val_loader()\n",
    "detection_fasdd_uav_loader = detection_data_loader.get_fasdd_uav_val_loader()\n",
    "detection_fasdd_cv_loader = detection_data_loader.get_fasdd_cv_val_loader()"
   ]
  },
  {
   "cell_type": "markdown",
   "id": "38ec9f0e-6cba-483b-91a9-3f0480dace32",
   "metadata": {},
   "source": [
    "# Evaluate Detector"
   ]
  },
  {
   "cell_type": "code",
   "execution_count": 8,
   "id": "c520ebc0-3558-4b8a-b1c1-dd72ed63d06a",
   "metadata": {},
   "outputs": [],
   "source": [
    "map_metric = MeanAveragePrecision(\n",
    "    box_format='xyxy',\n",
    "    iou_thresholds=[config.IOU_THRESHOLD],\n",
    "    class_metrics=True, # Enables separated metrics for each class\n",
    "    #average='micro',\n",
    "    extended_summary=False).to('cpu')"
   ]
  },
  {
   "cell_type": "markdown",
   "id": "45f15194-af3f-4006-a267-1ecef05cab30",
   "metadata": {},
   "source": [
    "### Evaluation Function"
   ]
  },
  {
   "cell_type": "code",
   "execution_count": 9,
   "id": "69dbabd9-aee8-4701-b978-82d2fa3b2c71",
   "metadata": {
    "tags": []
   },
   "outputs": [],
   "source": [
    "def eval_detector_onnx(loader, model_name, score_thres):\n",
    "\n",
    "    ort_session = onnxruntime.InferenceSession(model_name, providers=[\"CPUExecutionProvider\"])\n",
    "\n",
    "    map_metric.reset()\n",
    "    \n",
    "    loop = tqdm(loader, desc='Validating', leave=True)\n",
    "\n",
    "    for batch_idx, (img, label) in enumerate(loop):\n",
    "\n",
    "        for idx in range(config.BATCH_SIZE):\n",
    "            \n",
    "            ort_inputs = {ort_session.get_inputs()[0].name: to_numpy(img[idx].unsqueeze(dim=0))}\n",
    "            out = ort_session.run(None, ort_inputs)\n",
    "            \n",
    "            # out of onnx session is a list: [out_tensor with batch dim] -> [ (1,12,7,7) ] \n",
    "            # -> out[0] = (1,12,7,7)\n",
    "            # -> out[0][0] = (12,7,7)\n",
    "            #print(f'Out type: {type(out[0])} - Output shape: {out[0].shape}')\n",
    "            out = torch.tensor(np.array(out[0]))\n",
    "            out = out.permute(0, 2, 3, 1)\n",
    "            #print(f'Out shape after permute: {out.shape}')\n",
    "            #print(f'Out shape after indexing: {out[0].shape}')\n",
    "            \n",
    "            # Label should be [xc, yc, w, h, score=1, smoke, fire] in 7x7 square\n",
    "            #print(f'Label indexed shape: {label[idx].shape}')\n",
    "            \n",
    "        # Mean Average Precision\n",
    "            target_boxes = metrics.get_true_boxes(label[idx].detach().to('cpu'))\n",
    "            pred_boxes = metrics.get_pred_boxes(\n",
    "                model_out = out[0].detach().to('cpu'),\n",
    "                score_threshold=score_thres)\n",
    "            map_metric.update(preds = pred_boxes, target = target_boxes)\n",
    "    \n",
    "    meanAP = map_metric.compute()\n",
    "    map_metric.reset()\n",
    "\n",
    "    print(f'Smoke -> AP: {meanAP[\"map_per_class\"][0].item():.4f} - AR: {meanAP[\"mar_100_per_class\"][0].item():.4f}')\n",
    "    print(f'Fire -> AP: {meanAP[\"map_per_class\"][1].item():.4f} - AR: {meanAP[\"mar_100_per_class\"][1].item():.4f}')\n",
    "    print(f'mAP: {meanAP[\"map_50\"].item():.4f}')\n",
    "    \n",
    "    return (\n",
    "        {'mAP': meanAP['map_50'].item(),\n",
    "         'AP': [meanAP['map_per_class'][0].item(), meanAP['map_per_class'][1].item()],\n",
    "         'AR': [meanAP['mar_100_per_class'][0].item(), meanAP['mar_100_per_class'][1].item()]\n",
    "        }\n",
    "    )"
   ]
  },
  {
   "cell_type": "code",
   "execution_count": 10,
   "id": "d4ecac66-d2a6-4449-96c6-7176d61d3519",
   "metadata": {
    "tags": []
   },
   "outputs": [
    {
     "name": "stdout",
     "output_type": "stream",
     "text": [
      "\n",
      "________________________________ Brevitas NO Comp: FULL _______________________________\n"
     ]
    },
    {
     "name": "stderr",
     "output_type": "stream",
     "text": [
      "Validating: 100%|████████████████████████████████████████████████████████████████████████████████| 361/361 [12:36<00:00,  2.10s/it]\n"
     ]
    },
    {
     "name": "stdout",
     "output_type": "stream",
     "text": [
      "Smoke -> AP: 0.6230 - AR: 0.6823\n",
      "Fire -> AP: 0.6087 - AR: 0.6503\n",
      "mAP: 0.6159\n",
      "\n",
      "________________________________ Brevitas NO Comp: DFire _______________________________\n"
     ]
    },
    {
     "name": "stderr",
     "output_type": "stream",
     "text": [
      "Validating: 100%|██████████████████████████████████████████████████████████████████████████████████| 62/62 [02:13<00:00,  2.16s/it]\n"
     ]
    },
    {
     "name": "stdout",
     "output_type": "stream",
     "text": [
      "Smoke -> AP: 0.4124 - AR: 0.5269\n",
      "Fire -> AP: 0.3196 - AR: 0.4007\n",
      "mAP: 0.3660\n",
      "\n",
      "________________________________ Brevitas NO Comp: FASDD UAV _______________________________\n"
     ]
    },
    {
     "name": "stderr",
     "output_type": "stream",
     "text": [
      "Validating: 100%|██████████████████████████████████████████████████████████████████████████████████| 57/57 [02:02<00:00,  2.15s/it]\n"
     ]
    },
    {
     "name": "stdout",
     "output_type": "stream",
     "text": [
      "Smoke -> AP: 0.6309 - AR: 0.6544\n",
      "Fire -> AP: 0.5012 - AR: 0.5151\n",
      "mAP: 0.5661\n",
      "\n",
      "________________________________ Brevitas NO Comp: FASDD CV _______________________________\n"
     ]
    },
    {
     "name": "stderr",
     "output_type": "stream",
     "text": [
      "Validating: 100%|████████████████████████████████████████████████████████████████████████████████| 242/242 [08:23<00:00,  2.08s/it]\n"
     ]
    },
    {
     "name": "stdout",
     "output_type": "stream",
     "text": [
      "Smoke -> AP: 0.6579 - AR: 0.7290\n",
      "Fire -> AP: 0.6947 - AR: 0.7407\n",
      "mAP: 0.6763\n",
      "\n",
      "________________________________ Brevitas AIMET FPGA: FULL _______________________________\n"
     ]
    },
    {
     "name": "stderr",
     "output_type": "stream",
     "text": [
      "Validating: 100%|████████████████████████████████████████████████████████████████████████████████| 361/361 [11:04<00:00,  1.84s/it]\n"
     ]
    },
    {
     "name": "stdout",
     "output_type": "stream",
     "text": [
      "Smoke -> AP: 0.6116 - AR: 0.6790\n",
      "Fire -> AP: 0.6138 - AR: 0.6648\n",
      "mAP: 0.6127\n",
      "\n",
      "________________________________ Brevitas AIMET FPGA: DFire _______________________________\n"
     ]
    },
    {
     "name": "stderr",
     "output_type": "stream",
     "text": [
      "Validating: 100%|██████████████████████████████████████████████████████████████████████████████████| 62/62 [01:55<00:00,  1.87s/it]\n"
     ]
    },
    {
     "name": "stdout",
     "output_type": "stream",
     "text": [
      "Smoke -> AP: 0.4158 - AR: 0.5351\n",
      "Fire -> AP: 0.3351 - AR: 0.4296\n",
      "mAP: 0.3754\n",
      "\n",
      "________________________________ Brevitas AIMET FPGA: FASDD UAV _______________________________\n"
     ]
    },
    {
     "name": "stderr",
     "output_type": "stream",
     "text": [
      "Validating: 100%|██████████████████████████████████████████████████████████████████████████████████| 57/57 [01:56<00:00,  2.04s/it]\n"
     ]
    },
    {
     "name": "stdout",
     "output_type": "stream",
     "text": [
      "Smoke -> AP: 0.6186 - AR: 0.6462\n",
      "Fire -> AP: 0.5197 - AR: 0.5305\n",
      "mAP: 0.5691\n",
      "\n",
      "________________________________ Brevitas AIMET FPGA: FASDD CV _______________________________\n"
     ]
    },
    {
     "name": "stderr",
     "output_type": "stream",
     "text": [
      "Validating: 100%|████████████████████████████████████████████████████████████████████████████████| 242/242 [07:19<00:00,  1.82s/it]\n"
     ]
    },
    {
     "name": "stdout",
     "output_type": "stream",
     "text": [
      "Smoke -> AP: 0.6538 - AR: 0.7239\n",
      "Fire -> AP: 0.6973 - AR: 0.7516\n",
      "mAP: 0.6756\n",
      "\n",
      "________________________________ Brevitas AIMET CPU: FULL _______________________________\n"
     ]
    },
    {
     "name": "stderr",
     "output_type": "stream",
     "text": [
      "Validating: 100%|████████████████████████████████████████████████████████████████████████████████| 361/361 [11:18<00:00,  1.88s/it]\n"
     ]
    },
    {
     "name": "stdout",
     "output_type": "stream",
     "text": [
      "Smoke -> AP: 0.6460 - AR: 0.7061\n",
      "Fire -> AP: 0.6113 - AR: 0.6694\n",
      "mAP: 0.6287\n",
      "\n",
      "________________________________ Brevitas AIMET CPU: DFire _______________________________\n"
     ]
    },
    {
     "name": "stderr",
     "output_type": "stream",
     "text": [
      "Validating: 100%|██████████████████████████████████████████████████████████████████████████████████| 62/62 [01:58<00:00,  1.91s/it]\n"
     ]
    },
    {
     "name": "stdout",
     "output_type": "stream",
     "text": [
      "Smoke -> AP: 0.4477 - AR: 0.5630\n",
      "Fire -> AP: 0.3346 - AR: 0.4315\n",
      "mAP: 0.3911\n",
      "\n",
      "________________________________ Brevitas AIMET CPU: FASDD UAV _______________________________\n"
     ]
    },
    {
     "name": "stderr",
     "output_type": "stream",
     "text": [
      "Validating: 100%|██████████████████████████████████████████████████████████████████████████████████| 57/57 [01:57<00:00,  2.05s/it]\n"
     ]
    },
    {
     "name": "stdout",
     "output_type": "stream",
     "text": [
      "Smoke -> AP: 0.6586 - AR: 0.6850\n",
      "Fire -> AP: 0.5425 - AR: 0.5525\n",
      "mAP: 0.6006\n",
      "\n",
      "________________________________ Brevitas AIMET CPU: FASDD CV _______________________________\n"
     ]
    },
    {
     "name": "stderr",
     "output_type": "stream",
     "text": [
      "Validating: 100%|████████████████████████████████████████████████████████████████████████████████| 242/242 [07:26<00:00,  1.84s/it]\n"
     ]
    },
    {
     "name": "stdout",
     "output_type": "stream",
     "text": [
      "Smoke -> AP: 0.6831 - AR: 0.7477\n",
      "Fire -> AP: 0.6937 - AR: 0.7526\n",
      "mAP: 0.6884\n"
     ]
    }
   ],
   "source": [
    "print(\"\\n________________________________ Brevitas NO Comp: FULL _______________________________\")\n",
    "_ = eval_detector_onnx(\n",
    "    detection_loader, \n",
    "    brevitas_no_comp_name,\n",
    "    0.2\n",
    ")\n",
    "print(\"\\n________________________________ Brevitas NO Comp: DFire _______________________________\")\n",
    "_ = eval_detector_onnx(\n",
    "    detection_dfire_loader, \n",
    "    brevitas_no_comp_name,\n",
    "    0.2\n",
    ")\n",
    "print(\"\\n________________________________ Brevitas NO Comp: FASDD UAV _______________________________\")\n",
    "_ = eval_detector_onnx(\n",
    "    detection_fasdd_uav_loader, \n",
    "    brevitas_no_comp_name,\n",
    "    0.2\n",
    ")\n",
    "print(\"\\n________________________________ Brevitas NO Comp: FASDD CV _______________________________\")\n",
    "_ = eval_detector_onnx(\n",
    "    detection_fasdd_cv_loader, \n",
    "    brevitas_no_comp_name,\n",
    "    0.2\n",
    ")\n",
    "print(\"\\n________________________________ Brevitas AIMET FPGA: FULL _______________________________\")\n",
    "_ = eval_detector_onnx(\n",
    "    detection_loader, \n",
    "    brevitas_aimet_name,\n",
    "    0.2\n",
    ")\n",
    "print(\"\\n________________________________ Brevitas AIMET FPGA: DFire _______________________________\")\n",
    "_ = eval_detector_onnx(\n",
    "    detection_dfire_loader, \n",
    "    brevitas_aimet_name,\n",
    "    0.2\n",
    ")\n",
    "print(\"\\n________________________________ Brevitas AIMET FPGA: FASDD UAV _______________________________\")\n",
    "_ = eval_detector_onnx(\n",
    "    detection_fasdd_uav_loader, \n",
    "    brevitas_aimet_name,\n",
    "    0.2\n",
    ")\n",
    "print(\"\\n________________________________ Brevitas AIMET FPGA: FASDD CV _______________________________\")\n",
    "_ = eval_detector_onnx(\n",
    "    detection_fasdd_cv_loader, \n",
    "    brevitas_aimet_name,\n",
    "    0.2\n",
    ")\n",
    "print(\"\\n________________________________ Brevitas AIMET CPU: FULL _______________________________\")\n",
    "_ = eval_detector_onnx(\n",
    "    detection_loader, \n",
    "    brevitas_aimet_cpu_name,\n",
    "    0.2\n",
    ")\n",
    "print(\"\\n________________________________ Brevitas AIMET CPU: DFire _______________________________\")\n",
    "_ = eval_detector_onnx(\n",
    "    detection_dfire_loader, \n",
    "    brevitas_aimet_cpu_name,\n",
    "    0.2\n",
    ")\n",
    "print(\"\\n________________________________ Brevitas AIMET CPU: FASDD UAV _______________________________\")\n",
    "_ = eval_detector_onnx(\n",
    "    detection_fasdd_uav_loader, \n",
    "    brevitas_aimet_cpu_name,\n",
    "    0.2\n",
    ")\n",
    "print(\"\\n________________________________ Brevitas AIMET CPU: FASDD CV _______________________________\")\n",
    "_ = eval_detector_onnx(\n",
    "    detection_fasdd_cv_loader, \n",
    "    brevitas_aimet_cpu_name,\n",
    "    0.2\n",
    ")"
   ]
  },
  {
   "cell_type": "markdown",
   "id": "d7eb3f6d-f5f1-49aa-98ce-0e138eeb053f",
   "metadata": {},
   "source": [
    "# Aladdin Metrics to Get Precision and Precision-Recall Curves"
   ]
  },
  {
   "cell_type": "code",
   "execution_count": 11,
   "id": "db5e8805-abfb-4d81-aec3-12f6b6e58baf",
   "metadata": {
    "tags": []
   },
   "outputs": [],
   "source": [
    "import modules.metrics_mAP_aladdin as aladdin_metrics"
   ]
  },
  {
   "cell_type": "code",
   "execution_count": 12,
   "id": "c1f59270-db99-4155-871b-de41e4086a14",
   "metadata": {
    "tags": []
   },
   "outputs": [],
   "source": [
    "''' ============================\n",
    "    Cell to Box Mask\n",
    "============================ '''\n",
    "cell2box_mask = torch.zeros((config.S, config.S, 2))\n",
    "for i in range(config.S):\n",
    "    for j in range(config.S):\n",
    "        cell2box_mask[i,j,0] = j\n",
    "        cell2box_mask[i,j,1] = i  "
   ]
  },
  {
   "cell_type": "markdown",
   "id": "2590ba94-5e1e-4a5f-b145-87d0ec068548",
   "metadata": {},
   "source": [
    "### Aladdin mAP modified for ONNX detection with thresholds"
   ]
  },
  {
   "cell_type": "code",
   "execution_count": 13,
   "id": "b31282c8-1c12-49e8-bff9-6559b22ee7a5",
   "metadata": {
    "tags": []
   },
   "outputs": [],
   "source": [
    "def aladdin_get_bboxes(\n",
    "    loader,\n",
    "    detector_model_name,\n",
    "    S=config.S,\n",
    "    B=config.B,\n",
    "    C=config.C,\n",
    "    mask=cell2box_mask,\n",
    "    device='cpu',\n",
    "    iou_threshold=0.5,\n",
    "    score_thres=0.2,\n",
    "    box_format=\"midpoint\"):\n",
    "    \n",
    "    '''\n",
    "    \n",
    "    Return:\n",
    "        - all_pred_boxes\n",
    "        - all_true_boxes\n",
    "        Format: [train_idx, class_prediction, prob_score, x1, y1, x2, y2]\n",
    "    '''\n",
    "    \n",
    "    detect_session = onnxruntime.InferenceSession(detector_model_name, providers=[\"CPUExecutionProvider\"])\n",
    "    \n",
    "    \n",
    "    all_pred_boxes = []\n",
    "    all_true_boxes = []\n",
    "\n",
    "    # Original Code\n",
    "    # make sure model is in eval before get bboxes\n",
    "    #model.eval()\n",
    "    train_idx = 0\n",
    "\n",
    "    loop = tqdm(loader, desc='Get Boxes', leave=True)\n",
    "    for batch_idx, (imgs, labels) in enumerate(loop):\n",
    "        # Original Code\n",
    "        # Inference in GPU. Move tensor to CPU in outcell_2_outboxes\n",
    "        # imgs = imgs.to(device)\n",
    "        # labels = labels.to(device)\n",
    "\n",
    "\n",
    "        for idx in range(config.BATCH_SIZE):\n",
    "            \n",
    "            detect_inputs = {detect_session.get_inputs()[0].name: to_numpy(imgs[idx].unsqueeze(dim=0))}\n",
    "            out = detect_session.run(None, detect_inputs)\n",
    "            out = torch.tensor(np.array(out[0]))\n",
    "            out = out.permute(0, 2, 3, 1)         \n",
    "            \n",
    "            # Original Code\n",
    "            # with torch.no_grad():\n",
    "            #     predictions = model(imgs)\n",
    "\n",
    "            # Original Code\n",
    "            # Remove Permute from the model\n",
    "            #predictions = predictions.permute(0, 2, 3, 1) # Original Code\n",
    "\n",
    "            #batch_size = imgs.shape[0] # Original Code\n",
    "\n",
    "            true_bboxes = aladdin_metrics.outcell_2_outboxes(\n",
    "                out_cells=labels[idx].unsqueeze(dim=0), \n",
    "                S=S, B=B, C=C, \n",
    "                mask=mask, \n",
    "                device='cpu', # Changed to cpu\n",
    "                is_pred=False)\n",
    "            bboxes = aladdin_metrics.outcell_2_outboxes(\n",
    "                out_cells=out, \n",
    "                S=S, B=B, C=C, \n",
    "                mask=mask, \n",
    "                device='cpu', # Changed to cpu\n",
    "                is_pred=True)\n",
    "\n",
    "            for idx in range(1): # Only 1 image every time, due to ONNX prediction in CPU\n",
    "                nms_boxes = aladdin_metrics.nms_yv1_getBBoxes(\n",
    "                    bboxes[idx],\n",
    "                    iou_threshold=iou_threshold,\n",
    "                    threshold=score_thres,\n",
    "                    box_format=box_format, # Midpoint, to use iou_tensor inside\n",
    "                )\n",
    "\n",
    "\n",
    "                # Plot some examples\n",
    "                #if batch_idx == 0 and idx == 0:\n",
    "                #    plot_image(x[idx].permute(1,2,0).to(\"cpu\"), nms_boxes)\n",
    "                #    print(nms_boxes)\n",
    "\n",
    "                for nms_box in nms_boxes:\n",
    "                    all_pred_boxes.append([train_idx] + nms_box)\n",
    "\n",
    "                for box in true_bboxes[idx]:\n",
    "                    # many will get converted to 0 pred, as bboxes have Conf = 1 and the rest are 0\n",
    "                    if box[1] > score_thres:\n",
    "                        all_true_boxes.append([train_idx] + box)\n",
    "\n",
    "                train_idx += 1\n",
    "\n",
    "    #model.train()\n",
    "    return all_pred_boxes, all_true_boxes"
   ]
  },
  {
   "cell_type": "markdown",
   "id": "d69d3002-4bbf-48e6-8d0a-0fc04d2689c3",
   "metadata": {},
   "source": [
    "# Function to Print mAP metrics"
   ]
  },
  {
   "cell_type": "code",
   "execution_count": 14,
   "id": "3106e8f4-b50f-44b0-977d-9b0790f38846",
   "metadata": {
    "tags": []
   },
   "outputs": [],
   "source": [
    "def print_metrics(mAP_metrics):\n",
    "    mAP, avg_prec, cls_prec, cls_rec = mAP_metrics\n",
    "    \n",
    "    mAP_str = \"mAP @0.50\"\n",
    "    smoke = \"Smoke\"\n",
    "    fire = \"Fire\"\n",
    "    \n",
    "    print(f'{mAP_str:<12}' + f'{mAP:.4f}')\n",
    "    print('Average Precision')\n",
    "    print(f'- {smoke:<10}' + f'{avg_prec[0]:.4f}')\n",
    "    print(f'- {fire:<10}' + f'{avg_prec[1]:.4f}')\n",
    "    print('Class Precision')\n",
    "    print(f'- {smoke:<10}' + f'{cls_prec[0]:.4f}')\n",
    "    print(f'- {fire:<10}' + f'{cls_prec[1]:.4f}')  \n",
    "    print('Class Recall')\n",
    "    print(f'- {smoke:<10}' + f'{cls_rec[0]:.4f}')\n",
    "    print(f'- {fire:<10}' + f'{cls_rec[1]:.4f}')\n",
    "    print('Class F1-Score')\n",
    "    smoke_f1 = 2 * (cls_prec[0] * cls_rec[0]) / (cls_prec[0] + cls_rec[0])\n",
    "    fire_f1 = 2 * (cls_prec[1] * cls_rec[1]) / (cls_prec[1] + cls_rec[1])\n",
    "    print(f'- {smoke:<10}' + f'{smoke_f1:.4f}')\n",
    "    print(f'- {fire:<10}' + f'{fire_f1:.4f}')"
   ]
  },
  {
   "cell_type": "markdown",
   "id": "723eab35-675b-4b31-bf5f-8b31baa29493",
   "metadata": {},
   "source": [
    "### Log Path"
   ]
  },
  {
   "cell_type": "code",
   "execution_count": 15,
   "id": "8c793261-c7c8-4c5f-858f-f68a93a0fc9d",
   "metadata": {
    "tags": []
   },
   "outputs": [],
   "source": [
    "log_path = './mAP_&_pr_curves/classify_&_detect/'"
   ]
  },
  {
   "cell_type": "markdown",
   "id": "7183fba5-0300-4451-9d41-3f13633e6691",
   "metadata": {},
   "source": [
    "# Brevitas No Comp"
   ]
  },
  {
   "cell_type": "markdown",
   "id": "ef24ce81-8b18-4f4a-8fbf-07e328effa35",
   "metadata": {},
   "source": [
    "## Score Thres = 0.2"
   ]
  },
  {
   "cell_type": "code",
   "execution_count": 16,
   "id": "bec29fcc-8b71-4b44-8abc-de74f9156e4f",
   "metadata": {
    "tags": []
   },
   "outputs": [
    {
     "name": "stderr",
     "output_type": "stream",
     "text": [
      "Get Boxes: 100%|█████████████████████████████████████████████████████████████████████████████████| 361/361 [09:09<00:00,  1.52s/it]\n"
     ]
    }
   ],
   "source": [
    "pred_boxes, true_boxes = aladdin_get_bboxes(\n",
    "    detection_loader,\n",
    "    detector_model_name = brevitas_no_comp_name,\n",
    "    score_thres = 0.2\n",
    ")"
   ]
  },
  {
   "cell_type": "code",
   "execution_count": 17,
   "id": "02c88d61-6893-4af1-9aaf-909354d02c0f",
   "metadata": {
    "tags": []
   },
   "outputs": [
    {
     "name": "stderr",
     "output_type": "stream",
     "text": [
      "mAP:@.5: 100%|███████████████████████████████████████████████████████████████████████████████████████| 2/2 [00:10<00:00,  5.22s/it]\n"
     ]
    }
   ],
   "source": [
    "score_02_metrics = aladdin_metrics.mAP(\n",
    "    log_path=log_path + 'score_thres_2e-1/',\n",
    "    pred_boxes=pred_boxes,\n",
    "    true_boxes=true_boxes)"
   ]
  },
  {
   "cell_type": "code",
   "execution_count": 18,
   "id": "d4c193cc-f7df-4798-8328-7dabf4a7ce55",
   "metadata": {
    "tags": []
   },
   "outputs": [
    {
     "name": "stdout",
     "output_type": "stream",
     "text": [
      "mAP @0.50   0.6135\n",
      "Average Precision\n",
      "- Smoke     0.6210\n",
      "- Fire      0.6059\n",
      "Class Precision\n",
      "- Smoke     0.6978\n",
      "- Fire      0.7003\n",
      "Class Recall\n",
      "- Smoke     0.6822\n",
      "- Fire      0.6503\n",
      "Class F1-Score\n",
      "- Smoke     0.6899\n",
      "- Fire      0.6744\n"
     ]
    }
   ],
   "source": [
    "print_metrics(score_02_metrics)"
   ]
  },
  {
   "cell_type": "markdown",
   "id": "e8916ead-e02a-4b78-8bfe-611c4511b569",
   "metadata": {},
   "source": [
    "## Score Thres = 0.001"
   ]
  },
  {
   "cell_type": "code",
   "execution_count": 19,
   "id": "3a65d3bf-54c3-49d1-b908-269d13e49dde",
   "metadata": {
    "tags": []
   },
   "outputs": [
    {
     "name": "stderr",
     "output_type": "stream",
     "text": [
      "Get Boxes: 100%|█████████████████████████████████████████████████████████████████████████████████| 361/361 [28:44<00:00,  4.78s/it]\n"
     ]
    }
   ],
   "source": [
    "pred_boxes, true_boxes = aladdin_get_bboxes(\n",
    "    detection_loader,\n",
    "    detector_model_name = brevitas_no_comp_name,\n",
    "    score_thres = 0.001\n",
    ")"
   ]
  },
  {
   "cell_type": "code",
   "execution_count": 20,
   "id": "306d55b4-126a-47df-ac27-19a698c124fc",
   "metadata": {
    "tags": []
   },
   "outputs": [
    {
     "name": "stderr",
     "output_type": "stream",
     "text": [
      "mAP:@.5: 100%|██████████████████████████████████████████████████████████████████████████████████████| 2/2 [06:56<00:00, 208.50s/it]\n"
     ]
    }
   ],
   "source": [
    "score_0001_metrics = aladdin_metrics.mAP(\n",
    "    log_path=log_path + 'score_thres_2e-1/',\n",
    "    pred_boxes=pred_boxes,\n",
    "    true_boxes=true_boxes)"
   ]
  },
  {
   "cell_type": "code",
   "execution_count": 21,
   "id": "fe6e370d-9902-4002-89c3-c25ceeac4976",
   "metadata": {
    "tags": []
   },
   "outputs": [
    {
     "name": "stdout",
     "output_type": "stream",
     "text": [
      "mAP @0.50   0.6446\n",
      "Average Precision\n",
      "- Smoke     0.6656\n",
      "- Fire      0.6236\n",
      "Class Precision\n",
      "- Smoke     0.0124\n",
      "- Fire      0.0796\n",
      "Class Recall\n",
      "- Smoke     0.8030\n",
      "- Fire      0.6845\n",
      "Class F1-Score\n",
      "- Smoke     0.0244\n",
      "- Fire      0.1426\n"
     ]
    }
   ],
   "source": [
    "print_metrics(score_0001_metrics)"
   ]
  },
  {
   "cell_type": "code",
   "execution_count": 22,
   "id": "335aefd2-f719-4b83-b364-237a8c8155f5",
   "metadata": {},
   "outputs": [
    {
     "name": "stderr",
     "output_type": "stream",
     "text": [
      "Get Boxes: 100%|███████████████████████████████████████████████████████████████████████████████████| 62/62 [05:14<00:00,  5.07s/it]\n"
     ]
    }
   ],
   "source": [
    "pred_boxes, true_boxes = aladdin_get_bboxes(\n",
    "    detection_dfire_loader,\n",
    "    detector_model_name = brevitas_no_comp_name,\n",
    "    score_thres = 0.001\n",
    ")"
   ]
  },
  {
   "cell_type": "code",
   "execution_count": 23,
   "id": "034cfe2f-90a6-4ed0-bdf2-69550941c503",
   "metadata": {},
   "outputs": [
    {
     "name": "stderr",
     "output_type": "stream",
     "text": [
      "mAP:@.5: 100%|███████████████████████████████████████████████████████████████████████████████████████| 2/2 [00:13<00:00,  6.96s/it]\n"
     ]
    }
   ],
   "source": [
    "score_0001_metrics = aladdin_metrics.mAP(\n",
    "    log_path=log_path + 'score_thres_2e-1/',\n",
    "    pred_boxes=pred_boxes,\n",
    "    true_boxes=true_boxes)"
   ]
  },
  {
   "cell_type": "code",
   "execution_count": 24,
   "id": "b8932b44-aaec-4173-ae74-4d4fa34f69bd",
   "metadata": {},
   "outputs": [
    {
     "name": "stdout",
     "output_type": "stream",
     "text": [
      "mAP @0.50   0.3959\n",
      "Average Precision\n",
      "- Smoke     0.4562\n",
      "- Fire      0.3357\n",
      "Class Precision\n",
      "- Smoke     0.0097\n",
      "- Fire      0.0744\n",
      "Class Recall\n",
      "- Smoke     0.6921\n",
      "- Fire      0.4585\n",
      "Class F1-Score\n",
      "- Smoke     0.0191\n",
      "- Fire      0.1280\n"
     ]
    }
   ],
   "source": [
    "print_metrics(score_0001_metrics)"
   ]
  },
  {
   "cell_type": "code",
   "execution_count": 25,
   "id": "18912652-bb1c-4ab2-8ded-4ca5332a54e6",
   "metadata": {},
   "outputs": [
    {
     "name": "stderr",
     "output_type": "stream",
     "text": [
      "Get Boxes: 100%|███████████████████████████████████████████████████████████████████████████████████| 57/57 [04:39<00:00,  4.91s/it]\n"
     ]
    }
   ],
   "source": [
    "pred_boxes, true_boxes = aladdin_get_bboxes(\n",
    "    detection_fasdd_uav_loader,\n",
    "    detector_model_name = brevitas_no_comp_name,\n",
    "    score_thres = 0.001\n",
    ")"
   ]
  },
  {
   "cell_type": "code",
   "execution_count": 26,
   "id": "7763f4e0-ede4-4db3-8ed8-06e992611c61",
   "metadata": {
    "tags": []
   },
   "outputs": [
    {
     "name": "stderr",
     "output_type": "stream",
     "text": [
      "mAP:@.5: 100%|███████████████████████████████████████████████████████████████████████████████████████| 2/2 [00:13<00:00,  6.82s/it]\n"
     ]
    }
   ],
   "source": [
    "score_0001_metrics = aladdin_metrics.mAP(\n",
    "    log_path=log_path + 'score_thres_2e-1/',\n",
    "    pred_boxes=pred_boxes,\n",
    "    true_boxes=true_boxes)"
   ]
  },
  {
   "cell_type": "code",
   "execution_count": 27,
   "id": "a6832d20-370e-4836-b45b-3b51168cbd6d",
   "metadata": {
    "tags": []
   },
   "outputs": [
    {
     "name": "stdout",
     "output_type": "stream",
     "text": [
      "mAP @0.50   0.5879\n",
      "Average Precision\n",
      "- Smoke     0.6621\n",
      "- Fire      0.5138\n",
      "Class Precision\n",
      "- Smoke     0.0122\n",
      "- Fire      0.1110\n",
      "Class Recall\n",
      "- Smoke     0.7258\n",
      "- Fire      0.5327\n",
      "Class F1-Score\n",
      "- Smoke     0.0240\n",
      "- Fire      0.1838\n"
     ]
    }
   ],
   "source": [
    "print_metrics(score_0001_metrics)"
   ]
  },
  {
   "cell_type": "code",
   "execution_count": 28,
   "id": "952b786a-a1ab-4961-94f3-8d9c03b61034",
   "metadata": {},
   "outputs": [
    {
     "name": "stderr",
     "output_type": "stream",
     "text": [
      "Get Boxes: 100%|█████████████████████████████████████████████████████████████████████████████████| 242/242 [18:55<00:00,  4.69s/it]\n"
     ]
    }
   ],
   "source": [
    "pred_boxes, true_boxes = aladdin_get_bboxes(\n",
    "    detection_fasdd_cv_loader,\n",
    "    detector_model_name = brevitas_no_comp_name,\n",
    "    score_thres = 0.001\n",
    ")"
   ]
  },
  {
   "cell_type": "code",
   "execution_count": 29,
   "id": "55f836ea-2acf-47db-814f-7d7cecdf9f4c",
   "metadata": {},
   "outputs": [
    {
     "name": "stderr",
     "output_type": "stream",
     "text": [
      "mAP:@.5: 100%|██████████████████████████████████████████████████████████████████████████████████████| 2/2 [03:23<00:00, 101.67s/it]\n"
     ]
    }
   ],
   "source": [
    "score_0001_metrics = aladdin_metrics.mAP(\n",
    "    log_path=log_path + 'score_thres_2e-1/',\n",
    "    pred_boxes=pred_boxes,\n",
    "    true_boxes=true_boxes)"
   ]
  },
  {
   "cell_type": "code",
   "execution_count": 30,
   "id": "55083907-7c73-4fea-a873-686159db4b02",
   "metadata": {},
   "outputs": [
    {
     "name": "stdout",
     "output_type": "stream",
     "text": [
      "mAP @0.50   0.7088\n",
      "Average Precision\n",
      "- Smoke     0.7073\n",
      "- Fire      0.7102\n",
      "Class Precision\n",
      "- Smoke     0.0132\n",
      "- Fire      0.0765\n",
      "Class Recall\n",
      "- Smoke     0.8514\n",
      "- Fire      0.7738\n",
      "Class F1-Score\n",
      "- Smoke     0.0260\n",
      "- Fire      0.1393\n"
     ]
    }
   ],
   "source": [
    "print_metrics(score_0001_metrics)"
   ]
  },
  {
   "cell_type": "markdown",
   "id": "1956292f-b832-4c95-b566-f3728b1e6c3b",
   "metadata": {},
   "source": [
    "# Brevitas AIMET FPGA "
   ]
  },
  {
   "cell_type": "markdown",
   "id": "7a1269c1-7883-4ee5-ab61-4fe27508b2e9",
   "metadata": {},
   "source": [
    "## Score Thres = 0.2"
   ]
  },
  {
   "cell_type": "code",
   "execution_count": 31,
   "id": "db4f3dd0-5b2f-44e5-8d45-5acdf0843595",
   "metadata": {},
   "outputs": [
    {
     "name": "stderr",
     "output_type": "stream",
     "text": [
      "Get Boxes: 100%|█████████████████████████████████████████████████████████████████████████████████| 361/361 [09:03<00:00,  1.51s/it]\n"
     ]
    }
   ],
   "source": [
    "pred_boxes, true_boxes = aladdin_get_bboxes(\n",
    "    detection_loader,\n",
    "    detector_model_name = brevitas_aimet_name,\n",
    "    score_thres = 0.2\n",
    ")"
   ]
  },
  {
   "cell_type": "code",
   "execution_count": 32,
   "id": "052add4b-b35f-4714-81cd-8552d02fb37f",
   "metadata": {},
   "outputs": [
    {
     "name": "stderr",
     "output_type": "stream",
     "text": [
      "mAP:@.5: 100%|███████████████████████████████████████████████████████████████████████████████████████| 2/2 [00:11<00:00,  5.68s/it]\n"
     ]
    }
   ],
   "source": [
    "score_02_metrics = aladdin_metrics.mAP(\n",
    "    log_path=log_path + 'score_thres_2e-1/',\n",
    "    pred_boxes=pred_boxes,\n",
    "    true_boxes=true_boxes)"
   ]
  },
  {
   "cell_type": "code",
   "execution_count": 33,
   "id": "7a44f903-cc45-4c43-9c39-107502232748",
   "metadata": {},
   "outputs": [
    {
     "name": "stdout",
     "output_type": "stream",
     "text": [
      "mAP @0.50   0.6140\n",
      "Average Precision\n",
      "- Smoke     0.6145\n",
      "- Fire      0.6136\n",
      "Class Precision\n",
      "- Smoke     0.6760\n",
      "- Fire      0.6233\n",
      "Class Recall\n",
      "- Smoke     0.6792\n",
      "- Fire      0.6647\n",
      "Class F1-Score\n",
      "- Smoke     0.6776\n",
      "- Fire      0.6433\n"
     ]
    }
   ],
   "source": [
    "print_metrics(score_02_metrics)"
   ]
  },
  {
   "cell_type": "markdown",
   "id": "a98fed7f-35f3-44ba-8d28-e8ed00aab754",
   "metadata": {},
   "source": [
    "## Score Thres = 0.001"
   ]
  },
  {
   "cell_type": "markdown",
   "id": "4d9b3195-8a59-49af-9bf7-72699f2e3916",
   "metadata": {},
   "source": [
    "## Full DS"
   ]
  },
  {
   "cell_type": "code",
   "execution_count": 34,
   "id": "c4d44fa6-a08b-46b9-8e97-5a8d1282fb4b",
   "metadata": {},
   "outputs": [
    {
     "name": "stderr",
     "output_type": "stream",
     "text": [
      "Get Boxes: 100%|█████████████████████████████████████████████████████████████████████████████████| 361/361 [21:02<00:00,  3.50s/it]\n"
     ]
    }
   ],
   "source": [
    "pred_boxes, true_boxes = aladdin_get_bboxes(\n",
    "    detection_loader,\n",
    "    detector_model_name = brevitas_aimet_name,\n",
    "    score_thres = 0.001\n",
    ")"
   ]
  },
  {
   "cell_type": "code",
   "execution_count": 35,
   "id": "e2644ba9-246f-4ea1-9bd8-3cf5d0edec0f",
   "metadata": {},
   "outputs": [
    {
     "name": "stderr",
     "output_type": "stream",
     "text": [
      "mAP:@.5: 100%|██████████████████████████████████████████████████████████████████████████████████████| 2/2 [05:41<00:00, 170.80s/it]\n"
     ]
    }
   ],
   "source": [
    "score_0001_metrics = aladdin_metrics.mAP(\n",
    "    log_path=log_path + 'score_thres_2e-1/',\n",
    "    pred_boxes=pred_boxes,\n",
    "    true_boxes=true_boxes)"
   ]
  },
  {
   "cell_type": "code",
   "execution_count": 36,
   "id": "12016ca2-1cb3-4384-850e-44a627e591ab",
   "metadata": {},
   "outputs": [
    {
     "name": "stdout",
     "output_type": "stream",
     "text": [
      "mAP @0.50   0.6409\n",
      "Average Precision\n",
      "- Smoke     0.6557\n",
      "- Fire      0.6260\n",
      "Class Precision\n",
      "- Smoke     0.0162\n",
      "- Fire      0.0746\n",
      "Class Recall\n",
      "- Smoke     0.7904\n",
      "- Fire      0.6913\n",
      "Class F1-Score\n",
      "- Smoke     0.0317\n",
      "- Fire      0.1347\n"
     ]
    }
   ],
   "source": [
    "print_metrics(score_0001_metrics)"
   ]
  },
  {
   "cell_type": "markdown",
   "id": "dee47230-85b5-44c1-946f-305e65d25f8a",
   "metadata": {},
   "source": [
    "## DFire "
   ]
  },
  {
   "cell_type": "code",
   "execution_count": 37,
   "id": "37c3f589-c3ac-4419-9484-91ad6d3bc4e5",
   "metadata": {},
   "outputs": [
    {
     "name": "stderr",
     "output_type": "stream",
     "text": [
      "Get Boxes: 100%|███████████████████████████████████████████████████████████████████████████████████| 62/62 [03:56<00:00,  3.82s/it]\n"
     ]
    }
   ],
   "source": [
    "pred_boxes, true_boxes = aladdin_get_bboxes(\n",
    "    detection_dfire_loader,\n",
    "    detector_model_name = brevitas_aimet_name,\n",
    "    score_thres = 0.001\n",
    ")"
   ]
  },
  {
   "cell_type": "code",
   "execution_count": 38,
   "id": "a99a58ef-e708-490f-bc6e-7053e50a125c",
   "metadata": {},
   "outputs": [
    {
     "name": "stderr",
     "output_type": "stream",
     "text": [
      "mAP:@.5: 100%|███████████████████████████████████████████████████████████████████████████████████████| 2/2 [00:11<00:00,  5.82s/it]\n"
     ]
    }
   ],
   "source": [
    "score_0001_metrics = aladdin_metrics.mAP(\n",
    "    log_path=log_path + 'score_thres_2e-1/',\n",
    "    pred_boxes=pred_boxes,\n",
    "    true_boxes=true_boxes)"
   ]
  },
  {
   "cell_type": "code",
   "execution_count": 39,
   "id": "c02ca0be-cd7f-41a6-918a-e4348bb156ac",
   "metadata": {},
   "outputs": [
    {
     "name": "stdout",
     "output_type": "stream",
     "text": [
      "mAP @0.50   0.4006\n",
      "Average Precision\n",
      "- Smoke     0.4511\n",
      "- Fire      0.3501\n",
      "Class Precision\n",
      "- Smoke     0.0121\n",
      "- Fire      0.0695\n",
      "Class Recall\n",
      "- Smoke     0.6839\n",
      "- Fire      0.4806\n",
      "Class F1-Score\n",
      "- Smoke     0.0237\n",
      "- Fire      0.1214\n"
     ]
    }
   ],
   "source": [
    "print_metrics(score_0001_metrics)"
   ]
  },
  {
   "cell_type": "markdown",
   "id": "82d0d8c3-3f5d-465a-b5b7-9e1685985bd6",
   "metadata": {},
   "source": [
    "## FASDD UAV"
   ]
  },
  {
   "cell_type": "code",
   "execution_count": 40,
   "id": "f244ee91-a5bf-470b-b8b2-c295ed60dd54",
   "metadata": {},
   "outputs": [
    {
     "name": "stderr",
     "output_type": "stream",
     "text": [
      "Get Boxes: 100%|███████████████████████████████████████████████████████████████████████████████████| 57/57 [02:56<00:00,  3.09s/it]\n"
     ]
    }
   ],
   "source": [
    "pred_boxes, true_boxes = aladdin_get_bboxes(\n",
    "    detection_fasdd_uav_loader,\n",
    "    detector_model_name = brevitas_aimet_name,\n",
    "    score_thres = 0.001\n",
    ")"
   ]
  },
  {
   "cell_type": "code",
   "execution_count": 41,
   "id": "b10b4ccf-0761-4f84-a041-2dfd948eb548",
   "metadata": {},
   "outputs": [
    {
     "name": "stderr",
     "output_type": "stream",
     "text": [
      "mAP:@.5: 100%|███████████████████████████████████████████████████████████████████████████████████████| 2/2 [00:10<00:00,  5.22s/it]\n"
     ]
    }
   ],
   "source": [
    "score_0001_metrics = aladdin_metrics.mAP(\n",
    "    log_path=log_path + 'score_thres_2e-1/',\n",
    "    pred_boxes=pred_boxes,\n",
    "    true_boxes=true_boxes)"
   ]
  },
  {
   "cell_type": "code",
   "execution_count": 42,
   "id": "9e03d3b3-edb3-4c3e-a96e-21e291b7ceaa",
   "metadata": {},
   "outputs": [
    {
     "name": "stdout",
     "output_type": "stream",
     "text": [
      "mAP @0.50   0.5851\n",
      "Average Precision\n",
      "- Smoke     0.6472\n",
      "- Fire      0.5230\n",
      "Class Precision\n",
      "- Smoke     0.0184\n",
      "- Fire      0.1157\n",
      "Class Recall\n",
      "- Smoke     0.7176\n",
      "- Fire      0.5415\n",
      "Class F1-Score\n",
      "- Smoke     0.0359\n",
      "- Fire      0.1907\n"
     ]
    }
   ],
   "source": [
    "print_metrics(score_0001_metrics)"
   ]
  },
  {
   "cell_type": "markdown",
   "id": "985cf7fa-fa5d-411a-b607-dad5cfda07c9",
   "metadata": {},
   "source": [
    "## FASDD CV"
   ]
  },
  {
   "cell_type": "code",
   "execution_count": 43,
   "id": "fd8d6e5b-e3fc-4468-9c48-465fbff7b743",
   "metadata": {},
   "outputs": [
    {
     "name": "stderr",
     "output_type": "stream",
     "text": [
      "Get Boxes: 100%|█████████████████████████████████████████████████████████████████████████████████| 242/242 [14:08<00:00,  3.51s/it]\n"
     ]
    }
   ],
   "source": [
    "pred_boxes, true_boxes = aladdin_get_bboxes(\n",
    "    detection_fasdd_cv_loader,\n",
    "    detector_model_name = brevitas_aimet_name,\n",
    "    score_thres = 0.001\n",
    ")"
   ]
  },
  {
   "cell_type": "code",
   "execution_count": 44,
   "id": "91a4d46b-3f76-4b99-b103-900acdbd8910",
   "metadata": {},
   "outputs": [
    {
     "name": "stderr",
     "output_type": "stream",
     "text": [
      "mAP:@.5: 100%|███████████████████████████████████████████████████████████████████████████████████████| 2/2 [02:46<00:00, 83.26s/it]\n"
     ]
    }
   ],
   "source": [
    "score_0001_metrics = aladdin_metrics.mAP(\n",
    "    log_path=log_path + 'score_thres_2e-1/',\n",
    "    pred_boxes=pred_boxes,\n",
    "    true_boxes=true_boxes)"
   ]
  },
  {
   "cell_type": "code",
   "execution_count": 45,
   "id": "fda5d0a4-387d-476d-8730-a4c76282a5b4",
   "metadata": {},
   "outputs": [
    {
     "name": "stdout",
     "output_type": "stream",
     "text": [
      "mAP @0.50   0.7032\n",
      "Average Precision\n",
      "- Smoke     0.6985\n",
      "- Fire      0.7079\n",
      "Class Precision\n",
      "- Smoke     0.0168\n",
      "- Fire      0.0709\n",
      "Class Recall\n",
      "- Smoke     0.8367\n",
      "- Fire      0.7765\n",
      "Class F1-Score\n",
      "- Smoke     0.0330\n",
      "- Fire      0.1300\n"
     ]
    }
   ],
   "source": [
    "print_metrics(score_0001_metrics)"
   ]
  },
  {
   "cell_type": "markdown",
   "id": "30ef3f4c-090e-43b3-890d-79f0f83f7852",
   "metadata": {},
   "source": [
    "# Brevitas AIMET CPU"
   ]
  },
  {
   "cell_type": "markdown",
   "id": "f8abc4e0-6719-4b23-babb-24a505dc56f2",
   "metadata": {},
   "source": [
    "## Score Thres = 0.2"
   ]
  },
  {
   "cell_type": "code",
   "execution_count": 46,
   "id": "fd6da082-3b53-4074-be53-d099ec845dd8",
   "metadata": {},
   "outputs": [
    {
     "name": "stderr",
     "output_type": "stream",
     "text": [
      "Get Boxes: 100%|█████████████████████████████████████████████████████████████████████████████████| 361/361 [09:04<00:00,  1.51s/it]\n"
     ]
    }
   ],
   "source": [
    "pred_boxes, true_boxes = aladdin_get_bboxes(\n",
    "    detection_loader,\n",
    "    detector_model_name = brevitas_aimet_cpu_name,\n",
    "    score_thres = 0.2\n",
    ")"
   ]
  },
  {
   "cell_type": "code",
   "execution_count": 47,
   "id": "942456f9-8d46-4fba-9fef-559f36ae0c78",
   "metadata": {},
   "outputs": [
    {
     "name": "stderr",
     "output_type": "stream",
     "text": [
      "mAP:@.5: 100%|███████████████████████████████████████████████████████████████████████████████████████| 2/2 [00:11<00:00,  5.82s/it]\n"
     ]
    }
   ],
   "source": [
    "score_02_metrics = aladdin_metrics.mAP(\n",
    "    log_path=log_path + 'score_thres_2e-1/',\n",
    "    pred_boxes=pred_boxes,\n",
    "    true_boxes=true_boxes)"
   ]
  },
  {
   "cell_type": "code",
   "execution_count": 48,
   "id": "1a098ff6-12c5-40ce-b039-154db5e242bd",
   "metadata": {},
   "outputs": [
    {
     "name": "stdout",
     "output_type": "stream",
     "text": [
      "mAP @0.50   0.6317\n",
      "Average Precision\n",
      "- Smoke     0.6485\n",
      "- Fire      0.6148\n",
      "Class Precision\n",
      "- Smoke     0.6821\n",
      "- Fire      0.6284\n",
      "Class Recall\n",
      "- Smoke     0.7063\n",
      "- Fire      0.6697\n",
      "Class F1-Score\n",
      "- Smoke     0.6940\n",
      "- Fire      0.6484\n"
     ]
    }
   ],
   "source": [
    "print_metrics(score_02_metrics)"
   ]
  },
  {
   "cell_type": "markdown",
   "id": "1de1ebdb-7ef5-4fa5-9829-ce7d6349641e",
   "metadata": {},
   "source": [
    "## Score Thres = 0.001"
   ]
  },
  {
   "cell_type": "markdown",
   "id": "79c85878-d375-405c-b164-68bf53375a11",
   "metadata": {},
   "source": [
    "## Full DS"
   ]
  },
  {
   "cell_type": "code",
   "execution_count": 49,
   "id": "1a40c6f8-c655-4adc-aebe-900cb59e4b5f",
   "metadata": {},
   "outputs": [
    {
     "name": "stderr",
     "output_type": "stream",
     "text": [
      "Get Boxes: 100%|█████████████████████████████████████████████████████████████████████████████████| 361/361 [22:54<00:00,  3.81s/it]\n"
     ]
    }
   ],
   "source": [
    "pred_boxes, true_boxes = aladdin_get_bboxes(\n",
    "    detection_loader,\n",
    "    detector_model_name = brevitas_aimet_cpu_name,\n",
    "    score_thres = 0.001\n",
    ")"
   ]
  },
  {
   "cell_type": "code",
   "execution_count": 50,
   "id": "8d04899d-adad-43c8-b539-a4adb595c6ef",
   "metadata": {},
   "outputs": [
    {
     "name": "stderr",
     "output_type": "stream",
     "text": [
      "mAP:@.5: 100%|██████████████████████████████████████████████████████████████████████████████████████| 2/2 [06:54<00:00, 207.13s/it]\n"
     ]
    }
   ],
   "source": [
    "score_0001_metrics = aladdin_metrics.mAP(\n",
    "    log_path=log_path + 'score_thres_2e-1/',\n",
    "    pred_boxes=pred_boxes,\n",
    "    true_boxes=true_boxes)"
   ]
  },
  {
   "cell_type": "code",
   "execution_count": 51,
   "id": "4fab2b11-db8e-42d8-8556-3fdb89636514",
   "metadata": {
    "tags": []
   },
   "outputs": [
    {
     "name": "stdout",
     "output_type": "stream",
     "text": [
      "mAP @0.50   0.6572\n",
      "Average Precision\n",
      "- Smoke     0.6874\n",
      "- Fire      0.6269\n",
      "Class Precision\n",
      "- Smoke     0.0154\n",
      "- Fire      0.0712\n",
      "Class Recall\n",
      "- Smoke     0.8105\n",
      "- Fire      0.6969\n",
      "Class F1-Score\n",
      "- Smoke     0.0303\n",
      "- Fire      0.1293\n"
     ]
    }
   ],
   "source": [
    "print_metrics(score_0001_metrics)"
   ]
  },
  {
   "cell_type": "markdown",
   "id": "1ce01289-7649-4187-9e9d-deba792f68ae",
   "metadata": {},
   "source": [
    "## Dfire"
   ]
  },
  {
   "cell_type": "code",
   "execution_count": 52,
   "id": "7240df01-8609-43aa-b96c-960bc9f45e84",
   "metadata": {},
   "outputs": [
    {
     "name": "stderr",
     "output_type": "stream",
     "text": [
      "Get Boxes: 100%|███████████████████████████████████████████████████████████████████████████████████| 62/62 [04:09<00:00,  4.02s/it]\n"
     ]
    }
   ],
   "source": [
    "pred_boxes, true_boxes = aladdin_get_bboxes(\n",
    "    detection_dfire_loader,\n",
    "    detector_model_name = brevitas_aimet_cpu_name,\n",
    "    score_thres = 0.001\n",
    ")"
   ]
  },
  {
   "cell_type": "code",
   "execution_count": 53,
   "id": "9b8570fe-2adf-467b-85da-c09be9a99a35",
   "metadata": {},
   "outputs": [
    {
     "name": "stderr",
     "output_type": "stream",
     "text": [
      "mAP:@.5: 100%|███████████████████████████████████████████████████████████████████████████████████████| 2/2 [00:12<00:00,  6.13s/it]\n"
     ]
    }
   ],
   "source": [
    "score_0001_metrics = aladdin_metrics.mAP(\n",
    "    log_path=log_path + 'score_thres_2e-1/',\n",
    "    pred_boxes=pred_boxes,\n",
    "    true_boxes=true_boxes)"
   ]
  },
  {
   "cell_type": "code",
   "execution_count": 54,
   "id": "8e5c1402-48de-4005-bcc3-4f1a3f7948d9",
   "metadata": {},
   "outputs": [
    {
     "name": "stdout",
     "output_type": "stream",
     "text": [
      "mAP @0.50   0.4154\n",
      "Average Precision\n",
      "- Smoke     0.4826\n",
      "- Fire      0.3483\n",
      "Class Precision\n",
      "- Smoke     0.0120\n",
      "- Fire      0.0659\n",
      "Class Recall\n",
      "- Smoke     0.7014\n",
      "- Fire      0.4813\n",
      "Class F1-Score\n",
      "- Smoke     0.0236\n",
      "- Fire      0.1159\n"
     ]
    }
   ],
   "source": [
    "print_metrics(score_0001_metrics)"
   ]
  },
  {
   "cell_type": "markdown",
   "id": "236b8251-8d44-40ff-9c17-fd3c223be96d",
   "metadata": {},
   "source": [
    "## FASDD UAV"
   ]
  },
  {
   "cell_type": "code",
   "execution_count": 55,
   "id": "b33698ac-f3ec-4220-8042-81d1eb6b6c51",
   "metadata": {},
   "outputs": [
    {
     "name": "stderr",
     "output_type": "stream",
     "text": [
      "Get Boxes: 100%|███████████████████████████████████████████████████████████████████████████████████| 57/57 [03:27<00:00,  3.64s/it]\n"
     ]
    }
   ],
   "source": [
    "pred_boxes, true_boxes = aladdin_get_bboxes(\n",
    "    detection_fasdd_uav_loader,\n",
    "    detector_model_name = brevitas_aimet_cpu_name,\n",
    "    score_thres = 0.001\n",
    ")"
   ]
  },
  {
   "cell_type": "code",
   "execution_count": 56,
   "id": "4e3e97b3-cec5-4081-af66-67bc976c4f78",
   "metadata": {},
   "outputs": [
    {
     "name": "stderr",
     "output_type": "stream",
     "text": [
      "mAP:@.5: 100%|███████████████████████████████████████████████████████████████████████████████████████| 2/2 [00:11<00:00,  5.74s/it]\n"
     ]
    }
   ],
   "source": [
    "score_0001_metrics = aladdin_metrics.mAP(\n",
    "    log_path=log_path + 'score_thres_2e-1/',\n",
    "    pred_boxes=pred_boxes,\n",
    "    true_boxes=true_boxes)"
   ]
  },
  {
   "cell_type": "code",
   "execution_count": 57,
   "id": "bd0242aa-0f35-4e69-85a7-80a211a7b84a",
   "metadata": {},
   "outputs": [
    {
     "name": "stdout",
     "output_type": "stream",
     "text": [
      "mAP @0.50   0.6161\n",
      "Average Precision\n",
      "- Smoke     0.6839\n",
      "- Fire      0.5483\n",
      "Class Precision\n",
      "- Smoke     0.0165\n",
      "- Fire      0.1187\n",
      "Class Recall\n",
      "- Smoke     0.7454\n",
      "- Fire      0.5651\n",
      "Class F1-Score\n",
      "- Smoke     0.0323\n",
      "- Fire      0.1962\n"
     ]
    }
   ],
   "source": [
    "print_metrics(score_0001_metrics)"
   ]
  },
  {
   "cell_type": "markdown",
   "id": "0c8493ba-fc4f-4336-97eb-d922454852f7",
   "metadata": {},
   "source": [
    "## FASDD CV"
   ]
  },
  {
   "cell_type": "code",
   "execution_count": 58,
   "id": "509203fb-cdbb-473b-a1b8-463571f18d65",
   "metadata": {},
   "outputs": [
    {
     "name": "stderr",
     "output_type": "stream",
     "text": [
      "Get Boxes: 100%|█████████████████████████████████████████████████████████████████████████████████| 242/242 [15:18<00:00,  3.80s/it]\n"
     ]
    }
   ],
   "source": [
    "pred_boxes, true_boxes = aladdin_get_bboxes(\n",
    "    detection_fasdd_cv_loader,\n",
    "    detector_model_name = brevitas_aimet_cpu_name,\n",
    "    score_thres = 0.001\n",
    ")"
   ]
  },
  {
   "cell_type": "code",
   "execution_count": 59,
   "id": "5dbb4087-c2e1-4ad7-a92d-33aea4f52517",
   "metadata": {},
   "outputs": [
    {
     "name": "stderr",
     "output_type": "stream",
     "text": [
      "mAP:@.5: 100%|███████████████████████████████████████████████████████████████████████████████████████| 2/2 [02:59<00:00, 89.77s/it]\n"
     ]
    }
   ],
   "source": [
    "score_0001_metrics = aladdin_metrics.mAP(\n",
    "    log_path=log_path + 'score_thres_2e-1/',\n",
    "    pred_boxes=pred_boxes,\n",
    "    true_boxes=true_boxes)"
   ]
  },
  {
   "cell_type": "code",
   "execution_count": 60,
   "id": "0ca90ef5-3805-4e01-9ea0-43c87545d776",
   "metadata": {
    "tags": []
   },
   "outputs": [
    {
     "name": "stdout",
     "output_type": "stream",
     "text": [
      "mAP @0.50   0.7169\n",
      "Average Precision\n",
      "- Smoke     0.7292\n",
      "- Fire      0.7047\n",
      "Class Precision\n",
      "- Smoke     0.0161\n",
      "- Fire      0.0671\n",
      "Class Recall\n",
      "- Smoke     0.8553\n",
      "- Fire      0.7789\n",
      "Class F1-Score\n",
      "- Smoke     0.0316\n",
      "- Fire      0.1236\n"
     ]
    }
   ],
   "source": [
    "print_metrics(score_0001_metrics)"
   ]
  }
 ],
 "metadata": {
  "kernelspec": {
   "display_name": "Python 3 (ipykernel)",
   "language": "python",
   "name": "python3"
  },
  "language_info": {
   "codemirror_mode": {
    "name": "ipython",
    "version": 3
   },
   "file_extension": ".py",
   "mimetype": "text/x-python",
   "name": "python",
   "nbconvert_exporter": "python",
   "pygments_lexer": "ipython3",
   "version": "3.10.13"
  }
 },
 "nbformat": 4,
 "nbformat_minor": 5
}
