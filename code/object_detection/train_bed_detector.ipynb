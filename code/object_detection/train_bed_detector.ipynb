{
 "cells": [
  {
   "cell_type": "code",
   "execution_count": 1,
   "id": "ebd4d20f-88a8-4d4b-a204-65af187ad53f",
   "metadata": {
    "tags": []
   },
   "outputs": [
    {
     "name": "stderr",
     "output_type": "stream",
     "text": [
      "INFO:albumentations.check_version:A new version of Albumentations is available: 1.4.11 (you have 1.4.10). Upgrade using: pip install --upgrade albumentations\n"
     ]
    }
   ],
   "source": [
    "import logging\n",
    "import datetime\n",
    "#import random\n",
    "\n",
    "import matplotlib.pyplot as plt\n",
    "\n",
    "import numpy as np\n",
    "import torch\n",
    "from torch.nn.utils import parameters_to_vector\n",
    "import torch.optim as optim\n",
    "from torchinfo import summary\n",
    "\n",
    "import config\n",
    "import modules.dataloaders as data_loaders\n",
    "import modules.utils as utils\n",
    "import modules.models as models\n",
    "import modules.loss as loss_module\n",
    "import modules.metrics as metrics\n",
    "import modules.train_epoch as train_epoch\n",
    "import modules.val_epoch as val_epoch"
   ]
  },
  {
   "cell_type": "markdown",
   "id": "2ac77383-66f7-45ee-8248-227274f2ca99",
   "metadata": {},
   "source": [
    "# Logger"
   ]
  },
  {
   "cell_type": "code",
   "execution_count": 2,
   "id": "788d0114-c9b6-4f4f-9066-285a26d92585",
   "metadata": {
    "tags": []
   },
   "outputs": [],
   "source": [
    "log_path = config.LOGS_FOLDER\n",
    "\n",
    "logger = logging.getLogger(\"GonLogger\")\n",
    "logger.propagate = False\n",
    "logger.setLevel(logging.INFO)\n",
    "file_handler = logging.FileHandler(log_path + 'logfile.log')\n",
    "formatter = logging.Formatter('%(message)s')\n",
    "file_handler.setFormatter(formatter)\n",
    "\n",
    "# add file handler to logger\n",
    "logger.addHandler(file_handler)\n",
    "\n",
    "logger.info('BED Detector.\\n' + \n",
    "            '\\tNo Sigmoid, No Softmax. Permute as a Layer.\\n' +\n",
    "            '\\tDFire and FASDD UAV and CV.\\n' +\n",
    "            '\\tFASDD: train and val datasets to train and test dataset to validate.\\n' +\n",
    "            '\\tFASDD RS not included, as it only has smoke and it is too different to current pictures')"
   ]
  },
  {
   "cell_type": "markdown",
   "id": "0ba55b5a-df6e-4588-9af1-6f9ed69f45a1",
   "metadata": {},
   "source": [
    "# Hyperparameters Log"
   ]
  },
  {
   "cell_type": "code",
   "execution_count": 3,
   "id": "d9fa41d8-7ba0-4fe7-8969-576b2a76d7a3",
   "metadata": {},
   "outputs": [
    {
     "name": "stdout",
     "output_type": "stream",
     "text": [
      "\n",
      "Datasets Length\n",
      "\tTrain: Full\n",
      "\tVal: Full\n",
      "\n",
      "Load Model: True\n",
      "\tModel: ./experiments/test_34_pruning_090_after_svd_080_simple_model/weights/BED_detector__best_mAP=0.6268__epoch=54.pt\n",
      "Device: cuda\n",
      "Optimizer:\n",
      "\tLearning Rate: 0.0005\n",
      "\tGradients Clip Norm: 500\n",
      "\tWeight Decay: 0.0005\n",
      "Scheduler:\n",
      "\tScheduler factor: 0.8\n",
      "\tScheduler patience: 1\n",
      "\tScheduler threshold: 0.01\n",
      "\tScheduler min learning rate: 1e-06\n",
      "Batch Size: 64\n",
      "Num Workers: 8\n",
      "Pin Memory: True\n",
      "Epochs: 20\n",
      "IMG DIMS:\n",
      "\tWidth: 224\n",
      "\tHeight: 224\n",
      "\n",
      "Grid, Bounding Boxes, Classes, Max Obj and Thresholds:\n",
      "\tGrid: 7\n",
      "\tNumber of Bounding Boxes per Cell: 2\n",
      "\tNumber of Classes: 2\n",
      "\tMaximum Number of Objects per Image: 10\n",
      "\tIOU Threshold: 0.5\n",
      "\tScore Threshold: 0.2\n"
     ]
    }
   ],
   "source": [
    "''' ============================\n",
    "    Print Config Values\n",
    "============================ '''\n",
    "print('\\nDatasets Length')\n",
    "print(f'\\tTrain: {\"Full\" if config.DS_LEN == None else config.DS_LEN}')\n",
    "print(f'\\tVal: {\"Full\" if config.VAL_DS_LEN == None else config.VAL_DS_LEN}')\n",
    "print(f'\\nLoad Model: {config.LOAD_MODEL}')\n",
    "if (config.LOAD_MODEL == True):\n",
    "    print(f'\\tModel: {config.LOAD_MODEL_FILE}')\n",
    "print(f'Device: {config.DEVICE}')\n",
    "print('Optimizer:')\n",
    "print(f'\\tLearning Rate: {config.LEARNING_RATE}')\n",
    "print(f'\\tGradients Clip Norm: {config.GRADIENTS_CLIP_NORM}')\n",
    "print(f'\\tWeight Decay: {config.WEIGHT_DECAY}')\n",
    "print('Scheduler:')\n",
    "print(f'\\tScheduler factor: {config.FACTOR}')\n",
    "print(f'\\tScheduler patience: {config.PATIENCE}')\n",
    "print(f'\\tScheduler threshold: {config.THRES}')\n",
    "print(f'\\tScheduler min learning rate: {config.MIN_LR}')\n",
    "print(f'Batch Size: {config.BATCH_SIZE}')\n",
    "print(f'Num Workers: {config.NUM_WORKERS}')\n",
    "print(f'Pin Memory: {config.PIN_MEMORY}')\n",
    "print(f'Epochs: {config.EPOCHS}')\n",
    "print('IMG DIMS:')\n",
    "print(f'\\tWidth: {config.IMG_W}\\n\\tHeight: {config.IMG_H}')\n",
    "print('\\nGrid, Bounding Boxes, Classes, Max Obj and Thresholds:')\n",
    "print(f'\\tGrid: {config.S}')\n",
    "print(f'\\tNumber of Bounding Boxes per Cell: {config.B}')\n",
    "print(f'\\tNumber of Classes: {config.C}')\n",
    "print(f'\\tMaximum Number of Objects per Image: {config.MAX_OBJ}')\n",
    "print(f'\\tIOU Threshold: {config.IOU_THRESHOLD}')\n",
    "print(f'\\tScore Threshold: {config.SCORE_THRESHOLD}')\n",
    "\n",
    "logger.info('\\nDatasets Length')\n",
    "logger.info(f'\\tTrain: {\"Full\" if config.DS_LEN == None else config.DS_LEN}')\n",
    "logger.info(f'\\tVal: {\"Full\" if config.VAL_DS_LEN == None else config.VAL_DS_LEN}')\n",
    "logger.info(f'\\nLoad Model: {config.LOAD_MODEL}')\n",
    "if (config.LOAD_MODEL == True):\n",
    "    logger.info(f'\\tModel: {config.LOAD_MODEL_FILE}')\n",
    "logger.info(f'\\nDevice: {config.DEVICE}')\n",
    "logger.info('Optimizer:')\n",
    "logger.info(f'\\tLearning Rate: {config.LEARNING_RATE}')\n",
    "logger.info(f'\\tGradients Clip Norm: {config.GRADIENTS_CLIP_NORM}')\n",
    "logger.info(f'\\tWeight Decay: {config.WEIGHT_DECAY}')\n",
    "logger.info('Scheduler:')\n",
    "logger.info(f'\\tScheduler factor: {config.FACTOR}')\n",
    "logger.info(f'\\tScheduler patience: {config.PATIENCE}')\n",
    "logger.info(f'\\tScheduler threshold: {config.THRES}')\n",
    "logger.info(f'\\tScheduler min learning rate: {config.MIN_LR}')\n",
    "logger.info(f'\\nBatch Size: {config.BATCH_SIZE}')\n",
    "logger.info(f'Num Workers: {config.NUM_WORKERS}')\n",
    "logger.info(f'Pin Memory: {config.PIN_MEMORY}')\n",
    "logger.info(f'Epochs: {config.EPOCHS}')\n",
    "logger.info('IMG DIMS:')\n",
    "logger.info(f'\\tWidth: {config.IMG_W}\\n\\tHeight: {config.IMG_H}')\n",
    "logger.info('\\nGrid, Bounding Boxes, Classes and Thresholds:')\n",
    "logger.info(f'\\tGrid: {config.S}')\n",
    "logger.info(f'\\tNumber of Bounding Boxes per Cell: {config.B}')\n",
    "logger.info(f'\\tNumber of Classes: {config.C}')\n",
    "logger.info(f'\\tMaximum Number of Objects per Image: {config.MAX_OBJ}')\n",
    "logger.info(f'\\tIOU Threshold: {config.IOU_THRESHOLD}')\n",
    "logger.info(f'\\tScore Threshold: {config.SCORE_THRESHOLD}\\n')"
   ]
  },
  {
   "cell_type": "markdown",
   "id": "00f44388-6244-478d-8f8c-4441dd6a9bb8",
   "metadata": {},
   "source": [
    "# Datasets and Dataloaders"
   ]
  },
  {
   "cell_type": "code",
   "execution_count": 4,
   "id": "19d06c5b-d7fd-4f04-95c2-96d1ff03fde6",
   "metadata": {},
   "outputs": [
    {
     "name": "stdout",
     "output_type": "stream",
     "text": [
      "\n",
      "TRAIN DFIRE dataset\n",
      "DFire Removed wrong images: 0\n",
      "DFire Removed due to overlapping: 1292\n",
      "DFire Removed due to more than 10: 59\n",
      "\n",
      "Train DFire dataset len: 15870\n",
      "\n",
      "TRAIN FASDD UAV dataset\n",
      "FASDD Removed wrong images: 0\n",
      "FASDD Removed due to overlapping: 1233\n",
      "FASDD Removed due to more than 10: 449\n",
      "\n",
      "Train FASDD UAV dataset len: 10869\n",
      "\n",
      "VAL FASDD UAV dataset\n",
      "FASDD Removed wrong images: 0\n",
      "FASDD Removed due to overlapping: 841\n",
      "FASDD Removed due to more than 10: 300\n",
      "\n",
      "Val FASDD UAV dataset len: 7224\n",
      "\n",
      "TRAIN FASDD CV dataset\n"
     ]
    },
    {
     "name": "stderr",
     "output_type": "stream",
     "text": [
      "Warning: unknown JFIF revision number 32.23\n"
     ]
    },
    {
     "name": "stdout",
     "output_type": "stream",
     "text": [
      "FASDD Removed wrong images: 0\n",
      "FASDD Removed due to overlapping: 2141\n",
      "FASDD Removed due to more than 10: 342\n",
      "\n",
      "Train FASDD CV dataset len: 45177\n",
      "\n",
      "VAL FASDD CV dataset\n",
      "FASDD Removed wrong images: 0\n",
      "FASDD Removed due to overlapping: 1238\n",
      "FASDD Removed due to more than 10: 221\n",
      "\n",
      "Val FASDD CV dataset len: 30311\n",
      "\n",
      "Concatenate Train DFire and Train FASDD UAV datasets\n",
      "Train dataset len: 26739\n",
      "Concatenate with Val FASDD UAV dataset\n",
      "Train dataset len: 33963\n",
      "Concatenate with Train FASDD CV dataset\n",
      "Train dataset len: 79140\n",
      "Concatenate with Val FASDD CV dataset\n",
      "Train dataset len: 109451\n",
      "\n",
      "TEST DFire dataset\n",
      "DFire Removed wrong images: 0\n",
      "DFire Removed due to overlapping: 310\n",
      "DFire Removed due to more than 10: 13\n",
      "\n",
      "Test dataset len: 3983\n",
      "\n",
      "TEST FASDD UAV dataset\n",
      "FASDD Removed wrong images: 0\n",
      "FASDD Removed due to overlapping: 377\n",
      "FASDD Removed due to more than 10: 156\n",
      "\n",
      "Val FASDD UAV dataset len: 3648\n",
      "\n",
      "TEST FASDD CV dataset\n",
      "FASDD Removed wrong images: 0\n",
      "FASDD Removed due to overlapping: 317\n",
      "FASDD Removed due to more than 10: 44\n",
      "\n",
      "Test FASDD CV dataset len: 15523\n",
      "\n",
      "Concatenate Test DFire and FASDD UAV datasets\n",
      "Test dataset len: 7631\n",
      "Concatenate with FASDD CV dataset\n",
      "Test dataset len: 23154\n"
     ]
    }
   ],
   "source": [
    "train_loader = data_loaders.get_train_loader()\n",
    "val_loader = data_loaders.get_val_loader()\n",
    "\n",
    "# train_loader = data_loaders.get_fasdd_uav_train_loader()\n",
    "# val_loader = data_loaders.get_fasdd_uav_val_loader()"
   ]
  },
  {
   "cell_type": "markdown",
   "id": "6dd79801-f4dc-4a92-9c1b-c36dc1cbd05d",
   "metadata": {},
   "source": [
    "### Plot Some Train Pictures"
   ]
  },
  {
   "cell_type": "code",
   "execution_count": 5,
   "id": "cc5d1519-5e94-4463-8895-92d64620e707",
   "metadata": {
    "tags": []
   },
   "outputs": [
    {
     "name": "stdout",
     "output_type": "stream",
     "text": [
      "Batch size equal to img.shape[0] = 64\n",
      "Batch images shape = torch.Size([64, 3, 224, 224])\n"
     ]
    }
   ],
   "source": [
    "# plt.subplots(4, 5, figsize=(10,8))\n",
    "# for i in range(20):\n",
    "# plt.subplot(4, 5, i+1)\n",
    "\n",
    "for batch_idx, (img, label) in enumerate(train_loader):\n",
    "       \n",
    "    if batch_idx == 0:\n",
    "        print(f'Batch size equal to img.shape[0] = {img.shape[0]}')\n",
    "        print(f'Batch images shape = {img.shape}')\n",
    "        plt.subplots(4, 5, figsize=(10,8))\n",
    "        for i in range(20):\n",
    "            pic = utils.plot_dataset_img(img[i], label[i], grid=True)\n",
    "            plt.subplot(4, 5, i+1)\n",
    "            plt.imshow(pic)\n",
    "        plt.tight_layout()\n",
    "        plt.savefig(config.RUN_FOLDER + 'train_pictures.png')\n",
    "        plt.close()\n",
    "        break"
   ]
  },
  {
   "cell_type": "markdown",
   "id": "ca55ad71-dd4a-4a46-9aea-bfd0cd387e32",
   "metadata": {},
   "source": [
    "### Plot Some Val Pictures"
   ]
  },
  {
   "cell_type": "code",
   "execution_count": 6,
   "id": "bb115b9c-763c-4c98-a724-e63109164d53",
   "metadata": {
    "tags": []
   },
   "outputs": [
    {
     "name": "stdout",
     "output_type": "stream",
     "text": [
      "Batch size equal to img.shape[0] = 64\n",
      "Batch images shape = torch.Size([64, 3, 224, 224])\n"
     ]
    }
   ],
   "source": [
    "# plt.subplots(4, 5, figsize=(10,8))\n",
    "# for i in range(20):\n",
    "# plt.subplot(4, 5, i+1)\n",
    "\n",
    "for batch_idx, (img, label) in enumerate(val_loader):\n",
    "       \n",
    "    if batch_idx == 33:\n",
    "        print(f'Batch size equal to img.shape[0] = {img.shape[0]}')\n",
    "        print(f'Batch images shape = {img.shape}')\n",
    "        plt.subplots(4, 5, figsize=(10,8))\n",
    "        for i in range(20):\n",
    "            pic = utils.plot_dataset_img(img[i], label[i], grid=True)\n",
    "            plt.subplot(4, 5, i+1)\n",
    "            plt.imshow(pic)\n",
    "        plt.tight_layout()\n",
    "        plt.savefig(config.RUN_FOLDER + 'val_pictures.png')\n",
    "        plt.close()\n",
    "        break"
   ]
  },
  {
   "cell_type": "markdown",
   "id": "8542d267-3f0c-40e5-8b48-7b8fa3686cf6",
   "metadata": {},
   "source": [
    "# Loss Setup"
   ]
  },
  {
   "cell_type": "code",
   "execution_count": 7,
   "id": "662f55bc-59db-4a23-bcd8-978d45eee402",
   "metadata": {},
   "outputs": [
    {
     "name": "stdout",
     "output_type": "stream",
     "text": [
      "Loss Function: YOLOV1_LOSS\n",
      "Lambda for L1 regularization: 0\n"
     ]
    }
   ],
   "source": [
    "if config.LOSS_FN == \"YOLOV1_LOSS\":\n",
    "    print(f'Loss Function: YOLOV1_LOSS')\n",
    "    logger.info(f'\\nLoss Function: YOLOV1_LOSS')\n",
    "    loss_fn = loss_module.YoloLoss_2BBox()\n",
    "    print(f'Lambda for L1 regularization: {config.LAMBDA_L1_LOSS}')\n",
    "    logger.info(f'Lambda for L1 regularization: {config.LAMBDA_L1_LOSS}')\n",
    "else:\n",
    "    print(\"Wrong loss function\")\n",
    "    logger.info(\"Wrong loss function\")\n",
    "    raise SystemExit(\"Wrong loss function\")"
   ]
  },
  {
   "cell_type": "markdown",
   "id": "b65e3868-b0df-445e-96a4-459a144948bd",
   "metadata": {},
   "source": [
    "# Model Setup"
   ]
  },
  {
   "cell_type": "code",
   "execution_count": 8,
   "id": "50632367-08ef-4774-9f56-ccea6284ffa7",
   "metadata": {},
   "outputs": [
    {
     "name": "stdout",
     "output_type": "stream",
     "text": [
      "Using BED Detector\n",
      "\n",
      "Trainable parameters = 204232\n",
      "Total parameters = 204232\n",
      "\n"
     ]
    }
   ],
   "source": [
    "if config.MODEL == \"BED\":\n",
    "    \n",
    "    print(\"Using BED Detector\")\n",
    "    logger.info(\"\\nUsing BED Detector\")\n",
    "    #model = models.BED_DETECTOR().to(config.DEVICE) \n",
    "    #model = models.SIMPLE_BED_DETECTOR().to(config.DEVICE) \n",
    "    model = models.PRUNED_AFTER_SVD_BED_DETECTOR().to(config.DEVICE) \n",
    "\n",
    "else:\n",
    "    print(\"Wrong Model\")\n",
    "    logger.info(\"Wrong Model\")\n",
    "    raise SystemExit(\"Wrong Model\")\n",
    "\n",
    "optimizer = optim.Adam(model.parameters(), \n",
    "                       lr=config.LEARNING_RATE, \n",
    "                       weight_decay=config.WEIGHT_DECAY)\n",
    "\n",
    "scheduler = optim.lr_scheduler.ReduceLROnPlateau(optimizer, \n",
    "                                                 mode='min',\n",
    "                                                 factor=config.FACTOR, \n",
    "                                                 patience=config.PATIENCE, \n",
    "                                                 threshold=config.THRES, \n",
    "                                                 threshold_mode='abs',\n",
    "                                                 min_lr=config.MIN_LR)\n",
    "\n",
    "# MODEL PARAMETERS\n",
    "n_trainable = sum(p.numel() for p in model.parameters() if p.requires_grad)\n",
    "print(f'\\nTrainable parameters = {n_trainable}')\n",
    "logger.info(f'\\nTrainable parameters = {n_trainable}')\n",
    "\n",
    "n_params = parameters_to_vector(model.parameters()).numel()\n",
    "print(f'Total parameters = {n_params}\\n')\n",
    "logger.info(f'Total parameters = {n_params}')"
   ]
  },
  {
   "cell_type": "markdown",
   "id": "1ce0de52-a739-473b-b8c4-e0fb3eb38f18",
   "metadata": {},
   "source": [
    "### Load Checkpoint"
   ]
  },
  {
   "cell_type": "code",
   "execution_count": 9,
   "id": "659e52f8-9f49-4c2c-a4a9-35b125115a2f",
   "metadata": {},
   "outputs": [
    {
     "name": "stdout",
     "output_type": "stream",
     "text": [
      "Loading Model. Trained during 54 epochs\n"
     ]
    }
   ],
   "source": [
    "epochs_trained = utils.load_checkpoint(config.LOAD_MODEL_FILE, \n",
    "                                       model, \n",
    "                                       optimizer=optimizer, \n",
    "                                       scheduler=scheduler, \n",
    "                                       device=config.DEVICE)\n",
    "\n",
    "logger.info(f\"Loading Model. Trained during {epochs_trained} epochs\")"
   ]
  },
  {
   "cell_type": "markdown",
   "id": "8580c19a-4db0-4b0d-9300-6527ec02ff62",
   "metadata": {},
   "source": [
    "### Check Model Shape"
   ]
  },
  {
   "cell_type": "code",
   "execution_count": 10,
   "id": "a0eb38a3-55f7-46a6-9abe-a7979ad03366",
   "metadata": {
    "tags": []
   },
   "outputs": [
    {
     "name": "stdout",
     "output_type": "stream",
     "text": [
      "Input shape is torch.Size([4, 3, 224, 224])\n",
      "Model shape is torch.Size([4, 12, 7, 7])\n",
      "BED Model Arquitecture\n",
      "PRUNED_AFTER_SVD_BED_DETECTOR(\n",
      "  (model): Sequential(\n",
      "    (conv1): Sequential(\n",
      "      (0): Conv2d(3, 5, kernel_size=(3, 1), stride=(1, 1), padding=(1, 0), bias=False)\n",
      "      (1): Conv2d(5, 32, kernel_size=(1, 3), stride=(1, 1), padding=(0, 1), bias=False)\n",
      "    )\n",
      "    (bn1): BatchNorm2d(32, eps=1e-05, momentum=0.1, affine=True, track_running_stats=True)\n",
      "    (relu1): ReLU()\n",
      "    (dropout1): Dropout2d(p=0.3, inplace=False)\n",
      "    (maxpool2): MaxPool2d(kernel_size=2, stride=2, padding=0, dilation=1, ceil_mode=False)\n",
      "    (conv2): Sequential(\n",
      "      (0): Conv2d(32, 4, kernel_size=(3, 1), stride=(1, 1), padding=(1, 0), bias=False)\n",
      "      (1): Conv2d(4, 11, kernel_size=(1, 3), stride=(1, 1), padding=(0, 1), bias=False)\n",
      "    )\n",
      "    (bn2): BatchNorm2d(11, eps=1e-05, momentum=0.1, affine=True, track_running_stats=True)\n",
      "    (relu2): ReLU()\n",
      "    (dropout2): Dropout2d(p=0.3, inplace=False)\n",
      "    (maxpool3): MaxPool2d(kernel_size=2, stride=2, padding=0, dilation=1, ceil_mode=False)\n",
      "    (conv31): Sequential(\n",
      "      (0): Conv2d(11, 3, kernel_size=(1, 1), stride=(1, 1), bias=False)\n",
      "      (1): Conv2d(3, 14, kernel_size=(1, 1), stride=(1, 1), bias=False)\n",
      "    )\n",
      "    (bn31): BatchNorm2d(14, eps=1e-05, momentum=0.1, affine=True, track_running_stats=True)\n",
      "    (relu31): ReLU()\n",
      "    (conv32): Sequential(\n",
      "      (0): Conv2d(14, 14, kernel_size=(3, 1), stride=(1, 1), padding=(1, 0), bias=False)\n",
      "      (1): Conv2d(14, 25, kernel_size=(1, 3), stride=(1, 1), padding=(0, 1), bias=False)\n",
      "    )\n",
      "    (bn32): BatchNorm2d(25, eps=1e-05, momentum=0.1, affine=True, track_running_stats=True)\n",
      "    (relu32): ReLU()\n",
      "    (conv33): Conv2d(25, 22, kernel_size=(1, 1), stride=(1, 1), bias=False)\n",
      "    (bn33): BatchNorm2d(22, eps=1e-05, momentum=0.1, affine=True, track_running_stats=True)\n",
      "    (relu33): ReLU()\n",
      "    (conv34): Sequential(\n",
      "      (0): Conv2d(22, 30, kernel_size=(3, 1), stride=(1, 1), padding=(1, 0), bias=False)\n",
      "      (1): Conv2d(30, 64, kernel_size=(1, 3), stride=(1, 1), padding=(0, 1), bias=False)\n",
      "    )\n",
      "    (bn34): BatchNorm2d(64, eps=1e-05, momentum=0.1, affine=True, track_running_stats=True)\n",
      "    (relu34): ReLU()\n",
      "    (maxpool4): MaxPool2d(kernel_size=2, stride=2, padding=0, dilation=1, ceil_mode=False)\n",
      "    (conv41): Conv2d(64, 28, kernel_size=(1, 1), stride=(1, 1), bias=False)\n",
      "    (bn41): BatchNorm2d(28, eps=1e-05, momentum=0.1, affine=True, track_running_stats=True)\n",
      "    (relu41): ReLU()\n",
      "    (conv42): Sequential(\n",
      "      (0): Conv2d(28, 38, kernel_size=(3, 1), stride=(1, 1), padding=(1, 0), bias=False)\n",
      "      (1): Conv2d(38, 64, kernel_size=(1, 3), stride=(1, 1), padding=(0, 1), bias=False)\n",
      "    )\n",
      "    (bn42): BatchNorm2d(64, eps=1e-05, momentum=0.1, affine=True, track_running_stats=True)\n",
      "    (relu42): ReLU()\n",
      "    (conv43): Conv2d(64, 28, kernel_size=(1, 1), stride=(1, 1), bias=False)\n",
      "    (bn43): BatchNorm2d(28, eps=1e-05, momentum=0.1, affine=True, track_running_stats=True)\n",
      "    (relu43): ReLU()\n",
      "    (conv44): Sequential(\n",
      "      (0): Conv2d(28, 25, kernel_size=(3, 1), stride=(1, 1), padding=(1, 0), bias=False)\n",
      "      (1): Conv2d(25, 57, kernel_size=(1, 3), stride=(1, 1), padding=(0, 1), bias=False)\n",
      "    )\n",
      "    (bn44): BatchNorm2d(57, eps=1e-05, momentum=0.1, affine=True, track_running_stats=True)\n",
      "    (relu44): ReLU()\n",
      "    (conv45): Sequential(\n",
      "      (0): Conv2d(57, 15, kernel_size=(1, 1), stride=(1, 1), bias=False)\n",
      "      (1): Conv2d(15, 28, kernel_size=(1, 1), stride=(1, 1), bias=False)\n",
      "    )\n",
      "    (bn45): BatchNorm2d(28, eps=1e-05, momentum=0.1, affine=True, track_running_stats=True)\n",
      "    (relu45): ReLU()\n",
      "    (conv46): Sequential(\n",
      "      (0): Conv2d(28, 28, kernel_size=(3, 1), stride=(1, 1), padding=(1, 0), bias=False)\n",
      "      (1): Conv2d(28, 57, kernel_size=(1, 3), stride=(1, 1), padding=(0, 1), bias=False)\n",
      "    )\n",
      "    (bn46): BatchNorm2d(57, eps=1e-05, momentum=0.1, affine=True, track_running_stats=True)\n",
      "    (relu46): ReLU()\n",
      "    (maxpool5): MaxPool2d(kernel_size=2, stride=2, padding=0, dilation=1, ceil_mode=False)\n",
      "    (conv51): Sequential(\n",
      "      (0): Conv2d(57, 14, kernel_size=(1, 1), stride=(1, 1), bias=False)\n",
      "      (1): Conv2d(14, 32, kernel_size=(1, 1), stride=(1, 1), bias=False)\n",
      "    )\n",
      "    (bn51): BatchNorm2d(32, eps=1e-05, momentum=0.1, affine=True, track_running_stats=True)\n",
      "    (relu51): ReLU()\n",
      "    (conv52): Sequential(\n",
      "      (0): Conv2d(32, 40, kernel_size=(3, 1), stride=(1, 1), padding=(1, 0), bias=False)\n",
      "      (1): Conv2d(40, 64, kernel_size=(1, 3), stride=(1, 1), padding=(0, 1), bias=False)\n",
      "    )\n",
      "    (bn52): BatchNorm2d(64, eps=1e-05, momentum=0.1, affine=True, track_running_stats=True)\n",
      "    (relu52): ReLU()\n",
      "    (conv53): Conv2d(64, 32, kernel_size=(1, 1), stride=(1, 1), bias=False)\n",
      "    (bn53): BatchNorm2d(32, eps=1e-05, momentum=0.1, affine=True, track_running_stats=True)\n",
      "    (relu53): ReLU()\n",
      "    (conv54): Sequential(\n",
      "      (0): Conv2d(32, 45, kernel_size=(3, 1), stride=(1, 1), padding=(1, 0), bias=False)\n",
      "      (1): Conv2d(45, 64, kernel_size=(1, 3), stride=(1, 1), padding=(0, 1), bias=False)\n",
      "    )\n",
      "    (bn54): BatchNorm2d(64, eps=1e-05, momentum=0.1, affine=True, track_running_stats=True)\n",
      "    (relu54): ReLU()\n",
      "    (conv55): Sequential(\n",
      "      (0): Conv2d(64, 67, kernel_size=(3, 1), stride=(1, 1), padding=(1, 0), bias=False)\n",
      "      (1): Conv2d(67, 64, kernel_size=(1, 3), stride=(1, 1), padding=(0, 1), bias=False)\n",
      "    )\n",
      "    (bn55): BatchNorm2d(64, eps=1e-05, momentum=0.1, affine=True, track_running_stats=True)\n",
      "    (relu55): ReLU()\n",
      "    (conv56): Sequential(\n",
      "      (0): Conv2d(64, 77, kernel_size=(3, 1), stride=(1, 1), padding=(1, 0), bias=False)\n",
      "      (1): Conv2d(77, 64, kernel_size=(1, 3), stride=(1, 1), padding=(0, 1), bias=False)\n",
      "    )\n",
      "    (bn56): BatchNorm2d(64, eps=1e-05, momentum=0.1, affine=True, track_running_stats=True)\n",
      "    (relu56): ReLU()\n",
      "    (maxpool6): MaxPool2d(kernel_size=2, stride=2, padding=0, dilation=1, ceil_mode=False)\n",
      "    (conv61): Conv2d(64, 64, kernel_size=(3, 3), stride=(1, 1), padding=(1, 1), bias=False)\n",
      "    (bn61): BatchNorm2d(64, eps=1e-05, momentum=0.1, affine=True, track_running_stats=True)\n",
      "    (relu61): ReLU()\n",
      "    (conv62): Conv2d(64, 64, kernel_size=(3, 3), stride=(1, 1), padding=(1, 1), bias=False)\n",
      "    (bn62): BatchNorm2d(64, eps=1e-05, momentum=0.1, affine=True, track_running_stats=True)\n",
      "    (relu62): ReLU()\n",
      "    (conv71): Conv2d(64, 64, kernel_size=(1, 1), stride=(1, 1), bias=False)\n",
      "    (bn71): BatchNorm2d(64, eps=1e-05, momentum=0.1, affine=True, track_running_stats=True)\n",
      "    (relu71): ReLU()\n",
      "    (conv72): Conv2d(64, 16, kernel_size=(1, 1), stride=(1, 1), bias=False)\n",
      "    (bn72): BatchNorm2d(16, eps=1e-05, momentum=0.1, affine=True, track_running_stats=True)\n",
      "    (relu72): ReLU()\n",
      "    (conv73): Conv2d(16, 16, kernel_size=(1, 1), stride=(1, 1), bias=False)\n",
      "    (bn73): BatchNorm2d(16, eps=1e-05, momentum=0.1, affine=True, track_running_stats=True)\n",
      "    (relu73): ReLU()\n",
      "    (conv74): Conv2d(16, 12, kernel_size=(1, 1), stride=(1, 1))\n",
      "  )\n",
      ")\n"
     ]
    }
   ],
   "source": [
    "in_rand_np = np.random.rand(4, 3, config.IMG_H, config.IMG_W)\n",
    "in_rand = torch.tensor(in_rand_np, dtype=torch.float32, device=config.DEVICE)\n",
    "out_test = model(in_rand)\n",
    "\n",
    "print(f'Input shape is {in_rand.shape}')\n",
    "print(f'Model shape is {out_test.shape}')\n",
    "print(f'BED Model Arquitecture\\n{model}')\n",
    "logger.info(f'\\nInput shape is {in_rand.shape}')\n",
    "logger.info(f'Model shape is {out_test.shape}\\n')\n",
    "logger.info(f'BED Model Arquitecture\\n{model}')"
   ]
  },
  {
   "cell_type": "markdown",
   "id": "c8c916f2-5de0-4948-b2a3-fb90815d4e07",
   "metadata": {},
   "source": [
    "### Torch Summary"
   ]
  },
  {
   "cell_type": "code",
   "execution_count": 11,
   "id": "2dbc97c2-7154-424b-a172-67195854775f",
   "metadata": {
    "tags": []
   },
   "outputs": [
    {
     "name": "stdout",
     "output_type": "stream",
     "text": [
      "==========================================================================================\n",
      "Layer (type:depth-idx)                   Output Shape              Param #\n",
      "==========================================================================================\n",
      "PRUNED_AFTER_SVD_BED_DETECTOR            [1, 12, 7, 7]             --\n",
      "├─Sequential: 1-1                        [1, 12, 7, 7]             --\n",
      "│    └─Sequential: 2-1                   [1, 32, 224, 224]         --\n",
      "│    │    └─Conv2d: 3-1                  [1, 5, 224, 224]          45\n",
      "│    │    └─Conv2d: 3-2                  [1, 32, 224, 224]         480\n",
      "│    └─BatchNorm2d: 2-2                  [1, 32, 224, 224]         64\n",
      "│    └─ReLU: 2-3                         [1, 32, 224, 224]         --\n",
      "│    └─Dropout2d: 2-4                    [1, 32, 224, 224]         --\n",
      "│    └─MaxPool2d: 2-5                    [1, 32, 112, 112]         --\n",
      "│    └─Sequential: 2-6                   [1, 11, 112, 112]         --\n",
      "│    │    └─Conv2d: 3-3                  [1, 4, 112, 112]          384\n",
      "│    │    └─Conv2d: 3-4                  [1, 11, 112, 112]         132\n",
      "│    └─BatchNorm2d: 2-7                  [1, 11, 112, 112]         22\n",
      "│    └─ReLU: 2-8                         [1, 11, 112, 112]         --\n",
      "│    └─Dropout2d: 2-9                    [1, 11, 112, 112]         --\n",
      "│    └─MaxPool2d: 2-10                   [1, 11, 56, 56]           --\n",
      "│    └─Sequential: 2-11                  [1, 14, 56, 56]           --\n",
      "│    │    └─Conv2d: 3-5                  [1, 3, 56, 56]            33\n",
      "│    │    └─Conv2d: 3-6                  [1, 14, 56, 56]           42\n",
      "│    └─BatchNorm2d: 2-12                 [1, 14, 56, 56]           28\n",
      "│    └─ReLU: 2-13                        [1, 14, 56, 56]           --\n",
      "│    └─Sequential: 2-14                  [1, 25, 56, 56]           --\n",
      "│    │    └─Conv2d: 3-7                  [1, 14, 56, 56]           588\n",
      "│    │    └─Conv2d: 3-8                  [1, 25, 56, 56]           1,050\n",
      "│    └─BatchNorm2d: 2-15                 [1, 25, 56, 56]           50\n",
      "│    └─ReLU: 2-16                        [1, 25, 56, 56]           --\n",
      "│    └─Conv2d: 2-17                      [1, 22, 56, 56]           550\n",
      "│    └─BatchNorm2d: 2-18                 [1, 22, 56, 56]           44\n",
      "│    └─ReLU: 2-19                        [1, 22, 56, 56]           --\n",
      "│    └─Sequential: 2-20                  [1, 64, 56, 56]           --\n",
      "│    │    └─Conv2d: 3-9                  [1, 30, 56, 56]           1,980\n",
      "│    │    └─Conv2d: 3-10                 [1, 64, 56, 56]           5,760\n",
      "│    └─BatchNorm2d: 2-21                 [1, 64, 56, 56]           128\n",
      "│    └─ReLU: 2-22                        [1, 64, 56, 56]           --\n",
      "│    └─MaxPool2d: 2-23                   [1, 64, 28, 28]           --\n",
      "│    └─Conv2d: 2-24                      [1, 28, 28, 28]           1,792\n",
      "│    └─BatchNorm2d: 2-25                 [1, 28, 28, 28]           56\n",
      "│    └─ReLU: 2-26                        [1, 28, 28, 28]           --\n",
      "│    └─Sequential: 2-27                  [1, 64, 28, 28]           --\n",
      "│    │    └─Conv2d: 3-11                 [1, 38, 28, 28]           3,192\n",
      "│    │    └─Conv2d: 3-12                 [1, 64, 28, 28]           7,296\n",
      "│    └─BatchNorm2d: 2-28                 [1, 64, 28, 28]           128\n",
      "│    └─ReLU: 2-29                        [1, 64, 28, 28]           --\n",
      "│    └─Conv2d: 2-30                      [1, 28, 28, 28]           1,792\n",
      "│    └─BatchNorm2d: 2-31                 [1, 28, 28, 28]           56\n",
      "│    └─ReLU: 2-32                        [1, 28, 28, 28]           --\n",
      "│    └─Sequential: 2-33                  [1, 57, 28, 28]           --\n",
      "│    │    └─Conv2d: 3-13                 [1, 25, 28, 28]           2,100\n",
      "│    │    └─Conv2d: 3-14                 [1, 57, 28, 28]           4,275\n",
      "│    └─BatchNorm2d: 2-34                 [1, 57, 28, 28]           114\n",
      "│    └─ReLU: 2-35                        [1, 57, 28, 28]           --\n",
      "│    └─Sequential: 2-36                  [1, 28, 28, 28]           --\n",
      "│    │    └─Conv2d: 3-15                 [1, 15, 28, 28]           855\n",
      "│    │    └─Conv2d: 3-16                 [1, 28, 28, 28]           420\n",
      "│    └─BatchNorm2d: 2-37                 [1, 28, 28, 28]           56\n",
      "│    └─ReLU: 2-38                        [1, 28, 28, 28]           --\n",
      "│    └─Sequential: 2-39                  [1, 57, 28, 28]           --\n",
      "│    │    └─Conv2d: 3-17                 [1, 28, 28, 28]           2,352\n",
      "│    │    └─Conv2d: 3-18                 [1, 57, 28, 28]           4,788\n",
      "│    └─BatchNorm2d: 2-40                 [1, 57, 28, 28]           114\n",
      "│    └─ReLU: 2-41                        [1, 57, 28, 28]           --\n",
      "│    └─MaxPool2d: 2-42                   [1, 57, 14, 14]           --\n",
      "│    └─Sequential: 2-43                  [1, 32, 14, 14]           --\n",
      "│    │    └─Conv2d: 3-19                 [1, 14, 14, 14]           798\n",
      "│    │    └─Conv2d: 3-20                 [1, 32, 14, 14]           448\n",
      "│    └─BatchNorm2d: 2-44                 [1, 32, 14, 14]           64\n",
      "│    └─ReLU: 2-45                        [1, 32, 14, 14]           --\n",
      "│    └─Sequential: 2-46                  [1, 64, 14, 14]           --\n",
      "│    │    └─Conv2d: 3-21                 [1, 40, 14, 14]           3,840\n",
      "│    │    └─Conv2d: 3-22                 [1, 64, 14, 14]           7,680\n",
      "│    └─BatchNorm2d: 2-47                 [1, 64, 14, 14]           128\n",
      "│    └─ReLU: 2-48                        [1, 64, 14, 14]           --\n",
      "│    └─Conv2d: 2-49                      [1, 32, 14, 14]           2,048\n",
      "│    └─BatchNorm2d: 2-50                 [1, 32, 14, 14]           64\n",
      "│    └─ReLU: 2-51                        [1, 32, 14, 14]           --\n",
      "│    └─Sequential: 2-52                  [1, 64, 14, 14]           --\n",
      "│    │    └─Conv2d: 3-23                 [1, 45, 14, 14]           4,320\n",
      "│    │    └─Conv2d: 3-24                 [1, 64, 14, 14]           8,640\n",
      "│    └─BatchNorm2d: 2-53                 [1, 64, 14, 14]           128\n",
      "│    └─ReLU: 2-54                        [1, 64, 14, 14]           --\n",
      "│    └─Sequential: 2-55                  [1, 64, 14, 14]           --\n",
      "│    │    └─Conv2d: 3-25                 [1, 67, 14, 14]           12,864\n",
      "│    │    └─Conv2d: 3-26                 [1, 64, 14, 14]           12,864\n",
      "│    └─BatchNorm2d: 2-56                 [1, 64, 14, 14]           128\n",
      "│    └─ReLU: 2-57                        [1, 64, 14, 14]           --\n",
      "│    └─Sequential: 2-58                  [1, 64, 14, 14]           --\n",
      "│    │    └─Conv2d: 3-27                 [1, 77, 14, 14]           14,784\n",
      "│    │    └─Conv2d: 3-28                 [1, 64, 14, 14]           14,784\n",
      "│    └─BatchNorm2d: 2-59                 [1, 64, 14, 14]           128\n",
      "│    └─ReLU: 2-60                        [1, 64, 14, 14]           --\n",
      "│    └─MaxPool2d: 2-61                   [1, 64, 7, 7]             --\n",
      "│    └─Conv2d: 2-62                      [1, 64, 7, 7]             36,864\n",
      "│    └─BatchNorm2d: 2-63                 [1, 64, 7, 7]             128\n",
      "│    └─ReLU: 2-64                        [1, 64, 7, 7]             --\n",
      "│    └─Conv2d: 2-65                      [1, 64, 7, 7]             36,864\n",
      "│    └─BatchNorm2d: 2-66                 [1, 64, 7, 7]             128\n",
      "│    └─ReLU: 2-67                        [1, 64, 7, 7]             --\n",
      "│    └─Conv2d: 2-68                      [1, 64, 7, 7]             4,096\n",
      "│    └─BatchNorm2d: 2-69                 [1, 64, 7, 7]             128\n",
      "│    └─ReLU: 2-70                        [1, 64, 7, 7]             --\n",
      "│    └─Conv2d: 2-71                      [1, 16, 7, 7]             1,024\n",
      "│    └─BatchNorm2d: 2-72                 [1, 16, 7, 7]             32\n",
      "│    └─ReLU: 2-73                        [1, 16, 7, 7]             --\n",
      "│    └─Conv2d: 2-74                      [1, 16, 7, 7]             256\n",
      "│    └─BatchNorm2d: 2-75                 [1, 16, 7, 7]             32\n",
      "│    └─ReLU: 2-76                        [1, 16, 7, 7]             --\n",
      "│    └─Conv2d: 2-77                      [1, 12, 7, 7]             204\n",
      "==========================================================================================\n",
      "Total params: 204,232\n",
      "Trainable params: 204,232\n",
      "Non-trainable params: 0\n",
      "Total mult-adds (M): 106.98\n",
      "==========================================================================================\n",
      "Input size (MB): 0.60\n",
      "Forward/backward pass size (MB): 43.27\n",
      "Params size (MB): 0.82\n",
      "Estimated Total Size (MB): 44.69\n",
      "==========================================================================================\n"
     ]
    }
   ],
   "source": [
    "print(summary(model, input_size=(1, 3, config.IMG_H, config.IMG_W)))\n",
    "logger.info(\"\\nModel Summary\")\n",
    "logger.info(summary(model, input_size=(1, 3, config.IMG_H, config.IMG_W)))"
   ]
  },
  {
   "cell_type": "markdown",
   "id": "cdd7224a-14a3-4b6e-ab2a-70fb92fdf5ab",
   "metadata": {},
   "source": [
    "# Loss and Metrics Loggers and Plotters"
   ]
  },
  {
   "cell_type": "code",
   "execution_count": 12,
   "id": "74b36d1f-c228-4534-b217-4175fc64e806",
   "metadata": {
    "tags": []
   },
   "outputs": [],
   "source": [
    "train_losses_logger = utils.LogLosses()\n",
    "train_metrics_logger = utils.LogMetrics()\n",
    "lr_logger = utils.LogLR(log_path=config.PLOTS_FOLDER)\n",
    "\n",
    "val_losses_logger = utils.LogLosses()\n",
    "val_metrics_logger = utils.LogMetrics()\n",
    "\n",
    "loss_plotter = utils.PlotMetrics(log_path=config.PLOTS_FOLDER, model_name=config.MODEL, loss_or_metric='Loss')\n",
    "metrics_plotter = utils.PlotMetrics(log_path=config.PLOTS_FOLDER, model_name=config.MODEL, loss_or_metric='Metric')"
   ]
  },
  {
   "cell_type": "markdown",
   "id": "63aa40be-6507-4eee-87fc-9599e02931ec",
   "metadata": {},
   "source": [
    "# Train Loop Function"
   ]
  },
  {
   "cell_type": "code",
   "execution_count": 13,
   "id": "6f70adb3-44bb-4b97-8046-2e63c1436950",
   "metadata": {},
   "outputs": [],
   "source": [
    "def train_loop(model, start_epoch=0, epochs_to_train=config.EPOCHS):\n",
    "\n",
    "    ''' ==============================================================\n",
    "                                TRAINING LOOP\n",
    "    ============================================================== '''\n",
    "    start = datetime.datetime.now()\n",
    "    start_time = start.strftime(\"%H:%M:%S\")\n",
    "    print(f'\\n***Start Training: {start_time}\\n')\n",
    "    logger.info(f'\\n***Start Training: {start_time}\\n')\n",
    "    \n",
    "    # Start with infinite validation loss\n",
    "    best_valid_loss = np.inf\n",
    "    best_mAP = torch.tensor(0., dtype=torch.float32)\n",
    "\n",
    "    epochs_loss_plot = []\n",
    "    epochs_metric_plot = []\n",
    "    \n",
    "    end_epoch = start_epoch + epochs_to_train\n",
    "        \n",
    "    for epoch in range(start_epoch, end_epoch):\n",
    "\n",
    "        print(f'\\n=== EPOCH {epoch}/{end_epoch-1} ===')\n",
    "        logger.info(f'\\n=== EPOCH {epoch}/{end_epoch-1} ===')\n",
    "        \n",
    "        #====================== TRAINING ========================#\n",
    "        current_lr = train_epoch.get_lr(optimizer=optimizer)\n",
    "        logger.info(f'Learning Rate = {current_lr}\\n')\n",
    "        lr_logger.log_lr(current_lr)\n",
    "            \n",
    "        calculate_mAP = False\n",
    "        if ( (epoch+1) % 5 ) == 0:\n",
    "            calculate_mAP = True\n",
    "            epochs_metric_plot.append(epoch)\n",
    "\n",
    "        train_losses, train_metrics = train_epoch.train_fn(\n",
    "            loader=train_loader, \n",
    "            model=model, \n",
    "            optimizer=optimizer, \n",
    "            loss_fn=loss_fn,\n",
    "            loss_l1_lambda=config.LAMBDA_L1_LOSS,\n",
    "            metric=metrics.map_metric,\n",
    "            device=config.DEVICE,\n",
    "            calculate_mAP=calculate_mAP)\n",
    "        \n",
    "        train_losses_logger.update_losses(train_losses)\n",
    "        if calculate_mAP == True:\n",
    "            train_metrics_logger.update_metrics(train_metrics)\n",
    "                \n",
    "        logger.info(utils.print_metrics_to_logger(\"TRAIN STATS\", train_losses, train_metrics, mAP_available=calculate_mAP))\n",
    "        \n",
    "        #===================== VALIDATING =======================#\n",
    "        with torch.no_grad():\n",
    "            val_losses, val_metrics = val_epoch.eval_fn(\n",
    "                loader=val_loader, \n",
    "                model=model,                         \n",
    "                loss_fn=loss_fn,\n",
    "                metric=metrics.map_metric,\n",
    "                device=config.DEVICE,\n",
    "                calculate_mAP=calculate_mAP)\n",
    "            \n",
    "            scheduler.step(val_losses['Total'])\n",
    "            \n",
    "            val_losses_logger.update_losses(val_losses)\n",
    "            if calculate_mAP == True:\n",
    "                val_metrics_logger.update_metrics(val_metrics)\n",
    "\n",
    "            logger.info(utils.print_metrics_to_logger(\"VAL STATS\", val_losses, val_metrics, mAP_available=calculate_mAP))\n",
    "            \n",
    "        epochs_loss_plot.append(epoch)\n",
    "\n",
    "        loss_plotter.plot_all_metrics(\n",
    "            train_losses_logger.get_losses(),\n",
    "            val_losses_logger.get_losses(),\n",
    "            epochs_loss_plot)\n",
    "\n",
    "        if calculate_mAP == True:\n",
    "            metrics_plotter.plot_all_metrics(\n",
    "                train_metrics_logger.get_metrics(),\n",
    "                val_metrics_logger.get_metrics(),\n",
    "                epochs_metric_plot)\n",
    "\n",
    "        lr_logger.plot_lr(epochs_loss_plot)\n",
    "        \n",
    "        #======================= SAVING =========================#\n",
    "        if ( (epoch+1) % 5 ) == 0:\n",
    "            save_name = config.WEIGHTS_FOLDER + config.MODEL + '_detector__5epoch.pt'\n",
    "            utils.save_checkpoint(epoch, model, optimizer, scheduler, save_name) \n",
    "            \n",
    "        if best_valid_loss > val_losses['Total']:\n",
    "            best_valid_loss = val_losses['Total']\n",
    "            print(f\"\\nSaving model with new best validation loss: {best_valid_loss:.3f}\")\n",
    "            logger.info(f\"Saving model with new best validation loss: {best_valid_loss:.3f}\")\n",
    "            save_name = config.WEIGHTS_FOLDER + config.MODEL + '_detector__' + 'best_loss'  + '.pt'\n",
    "            utils.save_checkpoint(epoch, model, optimizer, scheduler, save_name)  \n",
    "\n",
    "        # Save model if mAP increases\n",
    "        if calculate_mAP == True:\n",
    "            if ( best_mAP < val_metrics['mAP'] ) :\n",
    "                best_mAP = val_metrics['mAP']\n",
    "                print(f\"\\nSaving model with new best mAP: {best_mAP:.4f}\")\n",
    "                logger.info(f\"Saving model with new best mAP: {best_mAP:.4f}\")\n",
    "                save_precision_name = f'best_mAP={best_mAP:.4f}__epoch={epoch}'\n",
    "                save_name = config.WEIGHTS_FOLDER + config.MODEL + '_detector__' + save_precision_name + '.pt'\n",
    "                utils.save_checkpoint(epoch, model, optimizer, scheduler, save_name)  \n",
    "        \n",
    "    logger.info('Saving last model')   \n",
    "    torch.save(model.state_dict(), config.WEIGHTS_FOLDER + 'last_' + config.MODEL + '_detector.pt') \n",
    "    \n",
    "    #======================= FINISH =========================#\n",
    "    end = datetime.datetime.now()\n",
    "    end_time = end.strftime(\"%H:%M:%S\")\n",
    "    print(f'\\n***Script finished: {end_time}\\n')  \n",
    "    print(f'Time elapsed: {end-start}')\n",
    "    logger.info(f'\\n***Script finished: {end_time}\\n')  \n",
    "    logger.info(f'Time elapsed: {end-start}')\n",
    "    \n",
    "    return model"
   ]
  },
  {
   "cell_type": "markdown",
   "id": "a45ce04a-eea9-417a-ac0f-653bc0a88881",
   "metadata": {},
   "source": [
    "# Main Execute"
   ]
  },
  {
   "cell_type": "code",
   "execution_count": 14,
   "id": "cd9f2a05-28ea-4bbf-946c-5e73d48aab71",
   "metadata": {
    "tags": []
   },
   "outputs": [
    {
     "name": "stdout",
     "output_type": "stream",
     "text": [
      "Starting script\n",
      "\n",
      "\n",
      "***Start Training: 13:54:45\n",
      "\n",
      "\n",
      "=== EPOCH 0/19 ===\n",
      "Learning Rate = 1.7592186044416018e-05\n",
      "\n"
     ]
    },
    {
     "name": "stderr",
     "output_type": "stream",
     "text": [
      "Training:  85%|███████████████████████████████████████████████████████████████████████▌            | 1458/1710 [03:31<00:28,  8.89it/s]Warning: unknown JFIF revision number 32.23\n",
      "Training: 100%|████████████████████████████████████████████████████████████████████████████████████| 1710/1710 [04:06<00:00,  6.94it/s]\n"
     ]
    },
    {
     "name": "stdout",
     "output_type": "stream",
     "text": [
      "Total Loss  |Box Loss    |Conf Loss   |No Obj Loss |Class Loss  \n",
      "------------ ------------ ------------ ------------ ------------\n",
      "44.710      |14.440      |21.443      |6.912       |1.916       \n"
     ]
    },
    {
     "name": "stderr",
     "output_type": "stream",
     "text": [
      "Validating: 100%|████████████████████████████████████████████████████████████████████████████████████| 361/361 [00:22<00:00, 15.82it/s]\n"
     ]
    },
    {
     "name": "stdout",
     "output_type": "stream",
     "text": [
      "Total Loss  |Box Loss    |Conf Loss   |No Obj Loss |Class Loss  \n",
      "------------ ------------ ------------ ------------ ------------\n",
      "48.880      |17.487      |20.690      |6.568       |4.135       \n",
      "\n",
      "Saving model with new best validation loss: 48.880\n",
      "\n",
      "=== EPOCH 1/19 ===\n",
      "Learning Rate = 1.4073748835532815e-05\n",
      "\n"
     ]
    },
    {
     "name": "stderr",
     "output_type": "stream",
     "text": [
      "Training:  58%|█████████████████████████████████████████████████▎                                   | 993/1710 [02:24<01:17,  9.20it/s]Warning: unknown JFIF revision number 32.23\n",
      "Training: 100%|████████████████████████████████████████████████████████████████████████████████████| 1710/1710 [04:06<00:00,  6.94it/s]\n"
     ]
    },
    {
     "name": "stdout",
     "output_type": "stream",
     "text": [
      "Total Loss  |Box Loss    |Conf Loss   |No Obj Loss |Class Loss  \n",
      "------------ ------------ ------------ ------------ ------------\n",
      "44.531      |14.327      |21.432      |6.917       |1.855       \n"
     ]
    },
    {
     "name": "stderr",
     "output_type": "stream",
     "text": [
      "Validating: 100%|████████████████████████████████████████████████████████████████████████████████████| 361/361 [00:22<00:00, 15.78it/s]\n"
     ]
    },
    {
     "name": "stdout",
     "output_type": "stream",
     "text": [
      "Total Loss  |Box Loss    |Conf Loss   |No Obj Loss |Class Loss  \n",
      "------------ ------------ ------------ ------------ ------------\n",
      "48.795      |17.424      |20.493      |6.706       |4.172       \n",
      "\n",
      "Saving model with new best validation loss: 48.795\n",
      "\n",
      "=== EPOCH 2/19 ===\n",
      "Learning Rate = 1.4073748835532815e-05\n",
      "\n"
     ]
    },
    {
     "name": "stderr",
     "output_type": "stream",
     "text": [
      "Training:  55%|██████████████████████████████████████████████▊                                      | 943/1710 [02:15<01:28,  8.69it/s]Warning: unknown JFIF revision number 32.23\n",
      "Training: 100%|████████████████████████████████████████████████████████████████████████████████████| 1710/1710 [04:04<00:00,  6.98it/s]\n"
     ]
    },
    {
     "name": "stdout",
     "output_type": "stream",
     "text": [
      "Total Loss  |Box Loss    |Conf Loss   |No Obj Loss |Class Loss  \n",
      "------------ ------------ ------------ ------------ ------------\n",
      "44.651      |14.416      |21.462      |6.888       |1.885       \n"
     ]
    },
    {
     "name": "stderr",
     "output_type": "stream",
     "text": [
      "Validating: 100%|████████████████████████████████████████████████████████████████████████████████████| 361/361 [00:22<00:00, 15.81it/s]\n"
     ]
    },
    {
     "name": "stdout",
     "output_type": "stream",
     "text": [
      "Total Loss  |Box Loss    |Conf Loss   |No Obj Loss |Class Loss  \n",
      "------------ ------------ ------------ ------------ ------------\n",
      "48.788      |17.399      |20.451      |6.747       |4.191       \n",
      "\n",
      "Saving model with new best validation loss: 48.788\n",
      "\n",
      "=== EPOCH 3/19 ===\n",
      "Learning Rate = 1.1258999068426253e-05\n",
      "\n"
     ]
    },
    {
     "name": "stderr",
     "output_type": "stream",
     "text": [
      "Training:   4%|███                                                                                   | 61/1710 [00:10<04:02,  6.79it/s]Warning: unknown JFIF revision number 32.23\n",
      "Training: 100%|████████████████████████████████████████████████████████████████████████████████████| 1710/1710 [04:05<00:00,  6.96it/s]\n"
     ]
    },
    {
     "name": "stdout",
     "output_type": "stream",
     "text": [
      "Total Loss  |Box Loss    |Conf Loss   |No Obj Loss |Class Loss  \n",
      "------------ ------------ ------------ ------------ ------------\n",
      "44.808      |14.551      |21.455      |6.879       |1.923       \n"
     ]
    },
    {
     "name": "stderr",
     "output_type": "stream",
     "text": [
      "Validating: 100%|████████████████████████████████████████████████████████████████████████████████████| 361/361 [00:23<00:00, 15.70it/s]\n"
     ]
    },
    {
     "name": "stdout",
     "output_type": "stream",
     "text": [
      "Total Loss  |Box Loss    |Conf Loss   |No Obj Loss |Class Loss  \n",
      "------------ ------------ ------------ ------------ ------------\n",
      "48.673      |17.398      |20.410      |6.765       |4.100       \n",
      "\n",
      "Saving model with new best validation loss: 48.673\n",
      "\n",
      "=== EPOCH 4/19 ===\n",
      "Learning Rate = 1.1258999068426253e-05\n",
      "\n"
     ]
    },
    {
     "name": "stderr",
     "output_type": "stream",
     "text": [
      "Training:  61%|███████████████████████████████████████████████████▌                                | 1049/1710 [02:40<01:40,  6.57it/s]Warning: unknown JFIF revision number 32.23\n",
      "Training: 100%|████████████████████████████████████████████████████████████████████████████████████| 1710/1710 [04:19<00:00,  6.60it/s]\n"
     ]
    },
    {
     "name": "stdout",
     "output_type": "stream",
     "text": [
      "Total Loss  |Box Loss    |Conf Loss   |No Obj Loss |Class Loss  \n",
      "------------ ------------ ------------ ------------ ------------\n",
      "44.660      |14.387      |21.509      |6.902       |1.861       \n",
      "Train mAP = 0.5753\n"
     ]
    },
    {
     "name": "stderr",
     "output_type": "stream",
     "text": [
      "Validating: 100%|████████████████████████████████████████████████████████████████████████████████████| 361/361 [00:27<00:00, 13.03it/s]\n"
     ]
    },
    {
     "name": "stdout",
     "output_type": "stream",
     "text": [
      "Total Loss  |Box Loss    |Conf Loss   |No Obj Loss |Class Loss  \n",
      "------------ ------------ ------------ ------------ ------------\n",
      "48.772      |17.413      |20.677      |6.461       |4.221       \n",
      "Val mAP = 0.6281\n",
      "\n",
      "Saving model with new best mAP: 0.6281\n",
      "\n",
      "=== EPOCH 5/19 ===\n",
      "Learning Rate = 1.1258999068426253e-05\n",
      "\n"
     ]
    },
    {
     "name": "stderr",
     "output_type": "stream",
     "text": [
      "Training:  92%|█████████████████████████████████████████████████████████████████████████████▏      | 1571/1710 [03:19<00:13, 10.18it/s]Warning: unknown JFIF revision number 32.23\n",
      "Training: 100%|████████████████████████████████████████████████████████████████████████████████████| 1710/1710 [03:36<00:00,  7.91it/s]\n"
     ]
    },
    {
     "name": "stdout",
     "output_type": "stream",
     "text": [
      "Total Loss  |Box Loss    |Conf Loss   |No Obj Loss |Class Loss  \n",
      "------------ ------------ ------------ ------------ ------------\n",
      "44.525      |14.346      |21.410      |6.888       |1.881       \n"
     ]
    },
    {
     "name": "stderr",
     "output_type": "stream",
     "text": [
      "Validating: 100%|████████████████████████████████████████████████████████████████████████████████████| 361/361 [00:23<00:00, 15.42it/s]\n"
     ]
    },
    {
     "name": "stdout",
     "output_type": "stream",
     "text": [
      "Total Loss  |Box Loss    |Conf Loss   |No Obj Loss |Class Loss  \n",
      "------------ ------------ ------------ ------------ ------------\n",
      "48.740      |17.444      |20.793      |6.372       |4.132       \n",
      "\n",
      "=== EPOCH 6/19 ===\n",
      "Learning Rate = 9.007199254741003e-06\n",
      "\n"
     ]
    },
    {
     "name": "stderr",
     "output_type": "stream",
     "text": [
      "Training:  83%|█████████████████████████████████████████████████████████████████████▉              | 1424/1710 [03:02<00:40,  7.10it/s]Warning: unknown JFIF revision number 32.23\n",
      "Training: 100%|████████████████████████████████████████████████████████████████████████████████████| 1710/1710 [03:37<00:00,  7.87it/s]\n"
     ]
    },
    {
     "name": "stdout",
     "output_type": "stream",
     "text": [
      "Total Loss  |Box Loss    |Conf Loss   |No Obj Loss |Class Loss  \n",
      "------------ ------------ ------------ ------------ ------------\n",
      "44.616      |14.383      |21.458      |6.858       |1.917       \n"
     ]
    },
    {
     "name": "stderr",
     "output_type": "stream",
     "text": [
      "Validating: 100%|████████████████████████████████████████████████████████████████████████████████████| 361/361 [00:23<00:00, 15.46it/s]\n"
     ]
    },
    {
     "name": "stdout",
     "output_type": "stream",
     "text": [
      "Total Loss  |Box Loss    |Conf Loss   |No Obj Loss |Class Loss  \n",
      "------------ ------------ ------------ ------------ ------------\n",
      "48.735      |17.430      |20.587      |6.619       |4.099       \n",
      "\n",
      "=== EPOCH 7/19 ===\n",
      "Learning Rate = 9.007199254741003e-06\n",
      "\n"
     ]
    },
    {
     "name": "stderr",
     "output_type": "stream",
     "text": [
      "Training:   1%|▊                                                                                     | 15/1710 [00:02<03:03,  9.24it/s]Warning: unknown JFIF revision number 32.23\n",
      "Training: 100%|████████████████████████████████████████████████████████████████████████████████████| 1710/1710 [03:36<00:00,  7.88it/s]\n"
     ]
    },
    {
     "name": "stdout",
     "output_type": "stream",
     "text": [
      "Total Loss  |Box Loss    |Conf Loss   |No Obj Loss |Class Loss  \n",
      "------------ ------------ ------------ ------------ ------------\n",
      "44.393      |14.286      |21.373      |6.872       |1.863       \n"
     ]
    },
    {
     "name": "stderr",
     "output_type": "stream",
     "text": [
      "Validating: 100%|████████████████████████████████████████████████████████████████████████████████████| 361/361 [00:23<00:00, 15.48it/s]\n"
     ]
    },
    {
     "name": "stdout",
     "output_type": "stream",
     "text": [
      "Total Loss  |Box Loss    |Conf Loss   |No Obj Loss |Class Loss  \n",
      "------------ ------------ ------------ ------------ ------------\n",
      "48.927      |17.437      |20.694      |6.611       |4.186       \n",
      "\n",
      "=== EPOCH 8/19 ===\n",
      "Learning Rate = 7.205759403792802e-06\n",
      "\n"
     ]
    },
    {
     "name": "stderr",
     "output_type": "stream",
     "text": [
      "Training:  88%|█████████████████████████████████████████████████████████████████████████▋          | 1501/1710 [03:11<00:19, 10.54it/s]Warning: unknown JFIF revision number 32.23\n",
      "Training: 100%|████████████████████████████████████████████████████████████████████████████████████| 1710/1710 [03:37<00:00,  7.87it/s]\n"
     ]
    },
    {
     "name": "stdout",
     "output_type": "stream",
     "text": [
      "Total Loss  |Box Loss    |Conf Loss   |No Obj Loss |Class Loss  \n",
      "------------ ------------ ------------ ------------ ------------\n",
      "44.715      |14.412      |21.465      |6.872       |1.966       \n"
     ]
    },
    {
     "name": "stderr",
     "output_type": "stream",
     "text": [
      "Validating: 100%|████████████████████████████████████████████████████████████████████████████████████| 361/361 [00:23<00:00, 15.52it/s]\n"
     ]
    },
    {
     "name": "stdout",
     "output_type": "stream",
     "text": [
      "Total Loss  |Box Loss    |Conf Loss   |No Obj Loss |Class Loss  \n",
      "------------ ------------ ------------ ------------ ------------\n",
      "48.725      |17.371      |20.620      |6.617       |4.116       \n",
      "\n",
      "=== EPOCH 9/19 ===\n",
      "Learning Rate = 7.205759403792802e-06\n",
      "\n"
     ]
    },
    {
     "name": "stderr",
     "output_type": "stream",
     "text": [
      "Training:  87%|█████████████████████████████████████████████████████████████████████████▍          | 1496/1710 [03:23<00:29,  7.19it/s]Warning: unknown JFIF revision number 32.23\n",
      "Training: 100%|████████████████████████████████████████████████████████████████████████████████████| 1710/1710 [03:51<00:00,  7.37it/s]\n"
     ]
    },
    {
     "name": "stdout",
     "output_type": "stream",
     "text": [
      "Total Loss  |Box Loss    |Conf Loss   |No Obj Loss |Class Loss  \n",
      "------------ ------------ ------------ ------------ ------------\n",
      "44.573      |14.372      |21.443      |6.872       |1.886       \n",
      "Train mAP = 0.5769\n"
     ]
    },
    {
     "name": "stderr",
     "output_type": "stream",
     "text": [
      "Validating: 100%|████████████████████████████████████████████████████████████████████████████████████| 361/361 [00:27<00:00, 13.11it/s]\n"
     ]
    },
    {
     "name": "stdout",
     "output_type": "stream",
     "text": [
      "Total Loss  |Box Loss    |Conf Loss   |No Obj Loss |Class Loss  \n",
      "------------ ------------ ------------ ------------ ------------\n",
      "48.634      |17.353      |20.679      |6.467       |4.134       \n",
      "Val mAP = 0.6251\n",
      "\n",
      "Saving model with new best validation loss: 48.634\n",
      "\n",
      "=== EPOCH 10/19 ===\n",
      "Learning Rate = 7.205759403792802e-06\n",
      "\n"
     ]
    },
    {
     "name": "stderr",
     "output_type": "stream",
     "text": [
      "Training:  65%|███████████████████████████████████████████████████████                             | 1120/1710 [02:25<01:39,  5.94it/s]Warning: unknown JFIF revision number 32.23\n",
      "Training: 100%|████████████████████████████████████████████████████████████████████████████████████| 1710/1710 [03:39<00:00,  7.78it/s]\n"
     ]
    },
    {
     "name": "stdout",
     "output_type": "stream",
     "text": [
      "Total Loss  |Box Loss    |Conf Loss   |No Obj Loss |Class Loss  \n",
      "------------ ------------ ------------ ------------ ------------\n",
      "44.550      |14.322      |21.465      |6.870       |1.893       \n"
     ]
    },
    {
     "name": "stderr",
     "output_type": "stream",
     "text": [
      "Validating: 100%|████████████████████████████████████████████████████████████████████████████████████| 361/361 [00:23<00:00, 15.41it/s]\n"
     ]
    },
    {
     "name": "stdout",
     "output_type": "stream",
     "text": [
      "Total Loss  |Box Loss    |Conf Loss   |No Obj Loss |Class Loss  \n",
      "------------ ------------ ------------ ------------ ------------\n",
      "48.732      |17.391      |20.613      |6.588       |4.141       \n",
      "\n",
      "=== EPOCH 11/19 ===\n",
      "Learning Rate = 7.205759403792802e-06\n",
      "\n"
     ]
    },
    {
     "name": "stderr",
     "output_type": "stream",
     "text": [
      "Training:  38%|████████████████████████████████▌                                                    | 654/1710 [01:25<02:13,  7.94it/s]Warning: unknown JFIF revision number 32.23\n",
      "Training: 100%|████████████████████████████████████████████████████████████████████████████████████| 1710/1710 [03:38<00:00,  7.82it/s]\n"
     ]
    },
    {
     "name": "stdout",
     "output_type": "stream",
     "text": [
      "Total Loss  |Box Loss    |Conf Loss   |No Obj Loss |Class Loss  \n",
      "------------ ------------ ------------ ------------ ------------\n",
      "44.628      |14.414      |21.464      |6.869       |1.881       \n"
     ]
    },
    {
     "name": "stderr",
     "output_type": "stream",
     "text": [
      "Validating: 100%|████████████████████████████████████████████████████████████████████████████████████| 361/361 [00:23<00:00, 15.38it/s]\n"
     ]
    },
    {
     "name": "stdout",
     "output_type": "stream",
     "text": [
      "Total Loss  |Box Loss    |Conf Loss   |No Obj Loss |Class Loss  \n",
      "------------ ------------ ------------ ------------ ------------\n",
      "48.987      |17.434      |20.484      |6.891       |4.178       \n",
      "\n",
      "=== EPOCH 12/19 ===\n",
      "Learning Rate = 5.764607523034242e-06\n",
      "\n"
     ]
    },
    {
     "name": "stderr",
     "output_type": "stream",
     "text": [
      "Training:  30%|█████████████████████████▊                                                           | 520/1710 [01:08<02:25,  8.18it/s]Warning: unknown JFIF revision number 32.23\n",
      "Training: 100%|████████████████████████████████████████████████████████████████████████████████████| 1710/1710 [03:39<00:00,  7.80it/s]\n"
     ]
    },
    {
     "name": "stdout",
     "output_type": "stream",
     "text": [
      "Total Loss  |Box Loss    |Conf Loss   |No Obj Loss |Class Loss  \n",
      "------------ ------------ ------------ ------------ ------------\n",
      "44.569      |14.435      |21.444      |6.818       |1.873       \n"
     ]
    },
    {
     "name": "stderr",
     "output_type": "stream",
     "text": [
      "Validating: 100%|████████████████████████████████████████████████████████████████████████████████████| 361/361 [00:23<00:00, 15.44it/s]\n"
     ]
    },
    {
     "name": "stdout",
     "output_type": "stream",
     "text": [
      "Total Loss  |Box Loss    |Conf Loss   |No Obj Loss |Class Loss  \n",
      "------------ ------------ ------------ ------------ ------------\n",
      "48.746      |17.382      |20.652      |6.578       |4.135       \n",
      "\n",
      "=== EPOCH 13/19 ===\n",
      "Learning Rate = 5.764607523034242e-06\n",
      "\n"
     ]
    },
    {
     "name": "stderr",
     "output_type": "stream",
     "text": [
      "Training:  25%|█████████████████████▎                                                               | 428/1710 [00:55<02:37,  8.13it/s]Warning: unknown JFIF revision number 32.23\n",
      "Training: 100%|████████████████████████████████████████████████████████████████████████████████████| 1710/1710 [03:38<00:00,  7.82it/s]\n"
     ]
    },
    {
     "name": "stdout",
     "output_type": "stream",
     "text": [
      "Total Loss  |Box Loss    |Conf Loss   |No Obj Loss |Class Loss  \n",
      "------------ ------------ ------------ ------------ ------------\n",
      "44.550      |14.404      |21.348      |6.867       |1.931       \n"
     ]
    },
    {
     "name": "stderr",
     "output_type": "stream",
     "text": [
      "Validating: 100%|████████████████████████████████████████████████████████████████████████████████████| 361/361 [00:23<00:00, 15.48it/s]\n"
     ]
    },
    {
     "name": "stdout",
     "output_type": "stream",
     "text": [
      "Total Loss  |Box Loss    |Conf Loss   |No Obj Loss |Class Loss  \n",
      "------------ ------------ ------------ ------------ ------------\n",
      "48.733      |17.386      |20.720      |6.439       |4.187       \n",
      "\n",
      "=== EPOCH 14/19 ===\n",
      "Learning Rate = 4.611686018427394e-06\n",
      "\n"
     ]
    },
    {
     "name": "stderr",
     "output_type": "stream",
     "text": [
      "Training:  29%|████████████████████████▉                                                            | 502/1710 [01:09<02:44,  7.32it/s]Warning: unknown JFIF revision number 32.23\n",
      "Training: 100%|████████████████████████████████████████████████████████████████████████████████████| 1710/1710 [03:52<00:00,  7.36it/s]\n"
     ]
    },
    {
     "name": "stdout",
     "output_type": "stream",
     "text": [
      "Total Loss  |Box Loss    |Conf Loss   |No Obj Loss |Class Loss  \n",
      "------------ ------------ ------------ ------------ ------------\n",
      "44.436      |14.372      |21.348      |6.834       |1.882       \n",
      "Train mAP = 0.5809\n"
     ]
    },
    {
     "name": "stderr",
     "output_type": "stream",
     "text": [
      "Validating: 100%|████████████████████████████████████████████████████████████████████████████████████| 361/361 [00:27<00:00, 13.10it/s]\n"
     ]
    },
    {
     "name": "stdout",
     "output_type": "stream",
     "text": [
      "Total Loss  |Box Loss    |Conf Loss   |No Obj Loss |Class Loss  \n",
      "------------ ------------ ------------ ------------ ------------\n",
      "48.627      |17.353      |20.610      |6.516       |4.148       \n",
      "Val mAP = 0.6289\n",
      "\n",
      "Saving model with new best validation loss: 48.627\n",
      "\n",
      "Saving model with new best mAP: 0.6289\n",
      "\n",
      "=== EPOCH 15/19 ===\n",
      "Learning Rate = 4.611686018427394e-06\n",
      "\n"
     ]
    },
    {
     "name": "stderr",
     "output_type": "stream",
     "text": [
      "Training:  45%|██████████████████████████████████████                                               | 766/1710 [01:39<01:36,  9.78it/s]Warning: unknown JFIF revision number 32.23\n",
      "Training: 100%|████████████████████████████████████████████████████████████████████████████████████| 1710/1710 [03:40<00:00,  7.75it/s]\n"
     ]
    },
    {
     "name": "stdout",
     "output_type": "stream",
     "text": [
      "Total Loss  |Box Loss    |Conf Loss   |No Obj Loss |Class Loss  \n",
      "------------ ------------ ------------ ------------ ------------\n",
      "44.763      |14.417      |21.529      |6.872       |1.945       \n"
     ]
    },
    {
     "name": "stderr",
     "output_type": "stream",
     "text": [
      "Validating: 100%|████████████████████████████████████████████████████████████████████████████████████| 361/361 [00:23<00:00, 15.34it/s]\n"
     ]
    },
    {
     "name": "stdout",
     "output_type": "stream",
     "text": [
      "Total Loss  |Box Loss    |Conf Loss   |No Obj Loss |Class Loss  \n",
      "------------ ------------ ------------ ------------ ------------\n",
      "48.850      |17.473      |20.797      |6.394       |4.186       \n",
      "\n",
      "=== EPOCH 16/19 ===\n",
      "Learning Rate = 3.6893488147419155e-06\n",
      "\n"
     ]
    },
    {
     "name": "stderr",
     "output_type": "stream",
     "text": [
      "Training:  10%|████████▎                                                                            | 166/1710 [00:22<02:51,  9.00it/s]Warning: unknown JFIF revision number 32.23\n",
      "Training: 100%|████████████████████████████████████████████████████████████████████████████████████| 1710/1710 [03:40<00:00,  7.76it/s]\n"
     ]
    },
    {
     "name": "stdout",
     "output_type": "stream",
     "text": [
      "Total Loss  |Box Loss    |Conf Loss   |No Obj Loss |Class Loss  \n",
      "------------ ------------ ------------ ------------ ------------\n",
      "44.652      |14.447      |21.406      |6.856       |1.943       \n"
     ]
    },
    {
     "name": "stderr",
     "output_type": "stream",
     "text": [
      "Validating: 100%|████████████████████████████████████████████████████████████████████████████████████| 361/361 [00:23<00:00, 15.36it/s]\n"
     ]
    },
    {
     "name": "stdout",
     "output_type": "stream",
     "text": [
      "Total Loss  |Box Loss    |Conf Loss   |No Obj Loss |Class Loss  \n",
      "------------ ------------ ------------ ------------ ------------\n",
      "48.737      |17.393      |20.672      |6.509       |4.163       \n",
      "\n",
      "=== EPOCH 17/19 ===\n",
      "Learning Rate = 3.6893488147419155e-06\n",
      "\n"
     ]
    },
    {
     "name": "stderr",
     "output_type": "stream",
     "text": [
      "Training:  49%|█████████████████████████████████████████▎                                           | 832/1710 [01:48<02:07,  6.88it/s]Warning: unknown JFIF revision number 32.23\n",
      "Training: 100%|████████████████████████████████████████████████████████████████████████████████████| 1710/1710 [03:41<00:00,  7.72it/s]\n"
     ]
    },
    {
     "name": "stdout",
     "output_type": "stream",
     "text": [
      "Total Loss  |Box Loss    |Conf Loss   |No Obj Loss |Class Loss  \n",
      "------------ ------------ ------------ ------------ ------------\n",
      "44.460      |14.345      |21.394      |6.888       |1.834       \n"
     ]
    },
    {
     "name": "stderr",
     "output_type": "stream",
     "text": [
      "Validating: 100%|████████████████████████████████████████████████████████████████████████████████████| 361/361 [00:23<00:00, 15.35it/s]\n"
     ]
    },
    {
     "name": "stdout",
     "output_type": "stream",
     "text": [
      "Total Loss  |Box Loss    |Conf Loss   |No Obj Loss |Class Loss  \n",
      "------------ ------------ ------------ ------------ ------------\n",
      "48.908      |17.431      |20.609      |6.692       |4.175       \n",
      "\n",
      "=== EPOCH 18/19 ===\n",
      "Learning Rate = 2.9514790517935326e-06\n",
      "\n"
     ]
    },
    {
     "name": "stderr",
     "output_type": "stream",
     "text": [
      "Training:  20%|█████████████████                                                                    | 344/1710 [00:46<02:31,  9.03it/s]Warning: unknown JFIF revision number 32.23\n",
      "Training: 100%|████████████████████████████████████████████████████████████████████████████████████| 1710/1710 [03:39<00:00,  7.79it/s]\n"
     ]
    },
    {
     "name": "stdout",
     "output_type": "stream",
     "text": [
      "Total Loss  |Box Loss    |Conf Loss   |No Obj Loss |Class Loss  \n",
      "------------ ------------ ------------ ------------ ------------\n",
      "44.527      |14.380      |21.434      |6.816       |1.897       \n"
     ]
    },
    {
     "name": "stderr",
     "output_type": "stream",
     "text": [
      "Validating: 100%|████████████████████████████████████████████████████████████████████████████████████| 361/361 [00:23<00:00, 15.42it/s]\n"
     ]
    },
    {
     "name": "stdout",
     "output_type": "stream",
     "text": [
      "Total Loss  |Box Loss    |Conf Loss   |No Obj Loss |Class Loss  \n",
      "------------ ------------ ------------ ------------ ------------\n",
      "48.768      |17.393      |20.441      |6.829       |4.105       \n",
      "\n",
      "=== EPOCH 19/19 ===\n",
      "Learning Rate = 2.9514790517935326e-06\n",
      "\n"
     ]
    },
    {
     "name": "stderr",
     "output_type": "stream",
     "text": [
      "Training:  22%|██████████████████▊                                                                  | 378/1710 [00:53<02:52,  7.72it/s]Warning: unknown JFIF revision number 32.23\n",
      "Training: 100%|████████████████████████████████████████████████████████████████████████████████████| 1710/1710 [03:55<00:00,  7.27it/s]\n"
     ]
    },
    {
     "name": "stdout",
     "output_type": "stream",
     "text": [
      "Total Loss  |Box Loss    |Conf Loss   |No Obj Loss |Class Loss  \n",
      "------------ ------------ ------------ ------------ ------------\n",
      "44.674      |14.429      |21.467      |6.911       |1.868       \n",
      "Train mAP = 0.5786\n"
     ]
    },
    {
     "name": "stderr",
     "output_type": "stream",
     "text": [
      "Validating: 100%|████████████████████████████████████████████████████████████████████████████████████| 361/361 [00:28<00:00, 12.76it/s]\n"
     ]
    },
    {
     "name": "stdout",
     "output_type": "stream",
     "text": [
      "Total Loss  |Box Loss    |Conf Loss   |No Obj Loss |Class Loss  \n",
      "------------ ------------ ------------ ------------ ------------\n",
      "48.771      |17.404      |20.471      |6.718       |4.178       \n",
      "Val mAP = 0.6278\n",
      "\n",
      "***Script finished: 15:21:15\n",
      "\n",
      "Time elapsed: 1:26:29.569679\n"
     ]
    }
   ],
   "source": [
    "print(\"Starting script\\n\")\n",
    "logger.info(\"Starting script\\n\")\n",
    "    \n",
    "model = train_loop(model)"
   ]
  },
  {
   "cell_type": "code",
   "execution_count": null,
   "id": "777b1a9c-764c-403f-8062-9b63069f191e",
   "metadata": {},
   "outputs": [],
   "source": []
  }
 ],
 "metadata": {
  "kernelspec": {
   "display_name": "Python 3 (ipykernel)",
   "language": "python",
   "name": "python3"
  },
  "language_info": {
   "codemirror_mode": {
    "name": "ipython",
    "version": 3
   },
   "file_extension": ".py",
   "mimetype": "text/x-python",
   "name": "python",
   "nbconvert_exporter": "python",
   "pygments_lexer": "ipython3",
   "version": "3.10.13"
  }
 },
 "nbformat": 4,
 "nbformat_minor": 5
}
