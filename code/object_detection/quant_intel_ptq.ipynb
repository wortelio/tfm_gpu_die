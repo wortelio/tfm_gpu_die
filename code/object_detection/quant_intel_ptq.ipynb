{
 "cells": [
  {
   "cell_type": "code",
   "execution_count": 1,
   "id": "6e8a513a-1549-4be7-af63-4f9542994187",
   "metadata": {},
   "outputs": [
    {
     "name": "stderr",
     "output_type": "stream",
     "text": [
      "INFO:albumentations.check_version:A new version of Albumentations is available: 1.4.14 (you have 1.4.10). Upgrade using: pip install --upgrade albumentations\n"
     ]
    }
   ],
   "source": [
    "import logging\n",
    "import datetime\n",
    "\n",
    "import matplotlib.pyplot as plt\n",
    "\n",
    "import numpy as np\n",
    "import torch\n",
    "from torch.nn.utils import parameters_to_vector\n",
    "import torch.optim as optim\n",
    "from torchinfo import summary\n",
    "\n",
    "from torchmetrics.detection.mean_ap import MeanAveragePrecision\n",
    "\n",
    "import config\n",
    "import modules.dataloaders as data_loaders\n",
    "import modules.utils as utils\n",
    "import modules.models as models\n",
    "import modules.loss as loss_module\n",
    "import modules.metrics as metrics\n",
    "import modules.train_epoch as train_epoch\n",
    "import modules.val_epoch as val_epoch"
   ]
  },
  {
   "cell_type": "markdown",
   "id": "4af1e695-5a4b-44a5-9dbd-d7b850281c91",
   "metadata": {},
   "source": [
    "# Intel Neural Compressor"
   ]
  },
  {
   "cell_type": "code",
   "execution_count": 2,
   "id": "5d08d7bf-24c9-4285-84df-e9347f8e3bcc",
   "metadata": {},
   "outputs": [],
   "source": [
    "from neural_compressor.quantization import fit as fit\n",
    "from neural_compressor.config import PostTrainingQuantConfig, TuningCriterion, AccuracyCriterion"
   ]
  },
  {
   "cell_type": "code",
   "execution_count": 3,
   "id": "423ca7c6-5d21-460f-9d55-073aceab5616",
   "metadata": {},
   "outputs": [],
   "source": [
    "#torch.cuda.empty_cache()"
   ]
  },
  {
   "cell_type": "markdown",
   "id": "6dfc923c-eb11-4077-88d4-82c09c17e1a1",
   "metadata": {},
   "source": [
    "# Logger"
   ]
  },
  {
   "cell_type": "code",
   "execution_count": 4,
   "id": "0b4e5f0e-110e-4319-aeb1-ea3fcc692ef9",
   "metadata": {},
   "outputs": [],
   "source": [
    "log_path = config.LOGS_FOLDER\n",
    "\n",
    "logger = logging.getLogger(\"GonLogger\")\n",
    "logger.propagate = False\n",
    "logger.setLevel(logging.INFO)\n",
    "file_handler = logging.FileHandler(log_path + 'logfile.log')\n",
    "formatter = logging.Formatter('%(message)s')\n",
    "file_handler.setFormatter(formatter)\n",
    "\n",
    "# add file handler to logger\n",
    "logger.addHandler(file_handler)\n",
    "\n",
    "logger.info('BED Detector.\\n' +  \n",
    "            '\\tDFire and FASDD UAV and CV.\\n' +\n",
    "            '\\tFASDD: train and val datasets to train, and test dataset to validate.\\n' +\n",
    "            '\\tFASDD RS not included, as it only has smoke and it is too different to current pictures\\n')"
   ]
  },
  {
   "cell_type": "markdown",
   "id": "80118e57-7ba6-4ea3-bac9-d5c27f05863c",
   "metadata": {},
   "source": [
    "# Hyperparameters Log"
   ]
  },
  {
   "cell_type": "code",
   "execution_count": 5,
   "id": "243f4966-29cb-45c0-84a4-8e33c37656a0",
   "metadata": {},
   "outputs": [
    {
     "name": "stdout",
     "output_type": "stream",
     "text": [
      "\n",
      "Load Model: False\n",
      "\tModel: ./experiments/test_20_no_sigmoid_softmax_permute_out/weights/BED_detector__best_mAP=0.6405__epoch=144.pt\n",
      "Device: cuda\n",
      "Optimizer:\n",
      "\tLearning Rate: 0.001\n",
      "\tGradients Clip Norm: 500\n",
      "\tWeight Decay: 0.001\n",
      "Scheduler:\n",
      "\tScheduler factor: 0.8\n",
      "\tScheduler patience: 3\n",
      "\tScheduler threshold: 0.01\n",
      "\tScheduler min learning rate: 1e-06\n",
      "Batch Size: 64\n",
      "Num Workers: 8\n",
      "Pin Memory: True\n",
      "Epochs: 150\n",
      "IMG DIMS:\n",
      "\tWidth: 224\n",
      "\tHeight: 224\n",
      "\n",
      "Grid, Bounding Boxes, Classes, Max Obj and Thresholds:\n",
      "\tGrid: 7\n",
      "\tNumber of Bounding Boxes per Cell: 2\n",
      "\tNumber of Classes: 2\n",
      "\tMaximum Number of Objects per Image: 10\n",
      "\tIOU Threshold: 0.5\n",
      "\tScore Threshold: 0.2\n",
      "\n",
      "AIMET Configuration\n",
      "\tUse Previous Dic: False\n",
      "\tSpatial SVD Compression: 0.8\n",
      "\tPrunning Compression: 0.9\n"
     ]
    }
   ],
   "source": [
    "''' ============================\n",
    "    Print Config Values\n",
    "============================ '''\n",
    "print(f'\\nLoad Model: {config.LOAD_MODEL}')\n",
    "print(f'\\tModel: {config.LOAD_MODEL_FILE}')\n",
    "print(f'Device: {config.DEVICE}')\n",
    "print('Optimizer:')\n",
    "print(f'\\tLearning Rate: {config.LEARNING_RATE}')\n",
    "print(f'\\tGradients Clip Norm: {config.GRADIENTS_CLIP_NORM}')\n",
    "print(f'\\tWeight Decay: {config.WEIGHT_DECAY}')\n",
    "print('Scheduler:')\n",
    "print(f'\\tScheduler factor: {config.FACTOR}')\n",
    "print(f'\\tScheduler patience: {config.PATIENCE}')\n",
    "print(f'\\tScheduler threshold: {config.THRES}')\n",
    "print(f'\\tScheduler min learning rate: {config.MIN_LR}')\n",
    "print(f'Batch Size: {config.BATCH_SIZE}')\n",
    "print(f'Num Workers: {config.NUM_WORKERS}')\n",
    "print(f'Pin Memory: {config.PIN_MEMORY}')\n",
    "print(f'Epochs: {config.EPOCHS}')\n",
    "print('IMG DIMS:')\n",
    "print(f'\\tWidth: {config.IMG_W}\\n\\tHeight: {config.IMG_H}')\n",
    "print('\\nGrid, Bounding Boxes, Classes, Max Obj and Thresholds:')\n",
    "print(f'\\tGrid: {config.S}')\n",
    "print(f'\\tNumber of Bounding Boxes per Cell: {config.B}')\n",
    "print(f'\\tNumber of Classes: {config.C}')\n",
    "print(f'\\tMaximum Number of Objects per Image: {config.MAX_OBJ}')\n",
    "print(f'\\tIOU Threshold: {config.IOU_THRESHOLD}')\n",
    "print(f'\\tScore Threshold: {config.SCORE_THRESHOLD}')\n",
    "print('\\nAIMET Configuration')\n",
    "print(f'\\tUse Previous Dic: {config.USE_PREVIOUS_DIC}')\n",
    "print(f'\\tSpatial SVD Compression: {config.SVD_COMPRESSION_RATIO}')\n",
    "print(f'\\tPrunning Compression: {config.PRUNING_COMPRESSION_RATIO}')\n",
    "\n",
    "logger.info(f'\\nLoad Model: {config.LOAD_MODEL}')\n",
    "logger.info(f'\\tModel: {config.LOAD_MODEL_FILE}')\n",
    "logger.info(f'\\nDevice: {config.DEVICE}')\n",
    "logger.info('Optimizer:')\n",
    "logger.info(f'\\tLearning Rate: {config.LEARNING_RATE}')\n",
    "logger.info(f'\\tGradients Clip Norm: {config.GRADIENTS_CLIP_NORM}')\n",
    "logger.info(f'\\tWeight Decay: {config.WEIGHT_DECAY}')\n",
    "logger.info('Scheduler:')\n",
    "logger.info(f'\\tScheduler factor: {config.FACTOR}')\n",
    "logger.info(f'\\tScheduler patience: {config.PATIENCE}')\n",
    "logger.info(f'\\tScheduler threshold: {config.THRES}')\n",
    "logger.info(f'\\tScheduler min learning rate: {config.MIN_LR}')\n",
    "logger.info(f'\\nBatch Size: {config.BATCH_SIZE}')\n",
    "logger.info(f'Num Workers: {config.NUM_WORKERS}')\n",
    "logger.info(f'Pin Memory: {config.PIN_MEMORY}')\n",
    "logger.info(f'Epochs: {config.EPOCHS}')\n",
    "logger.info('IMG DIMS:')\n",
    "logger.info(f'\\tWidth: {config.IMG_W}\\n\\tHeight: {config.IMG_H}')\n",
    "logger.info('\\nGrid, Bounding Boxes, Classes and Thresholds:')\n",
    "logger.info(f'\\tGrid: {config.S}')\n",
    "logger.info(f'\\tNumber of Bounding Boxes per Cell: {config.B}')\n",
    "logger.info(f'\\tNumber of Classes: {config.C}')\n",
    "logger.info(f'\\tMaximum Number of Objects per Image: {config.MAX_OBJ}')\n",
    "logger.info(f'\\tIOU Threshold: {config.IOU_THRESHOLD}')\n",
    "logger.info(f'\\tScore Threshold: {config.SCORE_THRESHOLD}\\n')\n",
    "logger.info('\\nAIMET Configuration')\n",
    "logger.info(f'\\tUse Previous Dic: {config.USE_PREVIOUS_DIC}')\n",
    "logger.info(f'\\tSpatial SVD Compression: {config.SVD_COMPRESSION_RATIO}')\n",
    "logger.info(f'\\tPrunning Compression: {config.PRUNING_COMPRESSION_RATIO}')"
   ]
  },
  {
   "cell_type": "markdown",
   "id": "1e4b172f-2792-4ef1-b1c8-2d492ecbe197",
   "metadata": {},
   "source": [
    "# Dataset Setup"
   ]
  },
  {
   "cell_type": "code",
   "execution_count": 6,
   "id": "f2c01c04-ca3b-4ff1-99c6-5d2bc76f17dc",
   "metadata": {},
   "outputs": [
    {
     "name": "stdout",
     "output_type": "stream",
     "text": [
      "\n",
      "TEST DFire dataset\n",
      "DFire Removed wrong images: 0\n",
      "DFire Removed due to overlapping: 310\n",
      "DFire Removed due to more than 10: 13\n",
      "\n",
      "Test DFire dataset len: 3983\n",
      "\n",
      "TEST FASDD UAV dataset\n",
      "FASDD Removed wrong images: 0\n",
      "FASDD Removed due to overlapping: 377\n",
      "FASDD Removed due to more than 10: 156\n",
      "\n",
      "Test FASDD UAV dataset len: 3648\n",
      "\n",
      "TEST FASDD CV dataset\n",
      "FASDD Removed wrong images: 0\n",
      "FASDD Removed due to overlapping: 317\n",
      "FASDD Removed due to more than 10: 44\n",
      "\n",
      "Test FASDD CV dataset len: 15523\n",
      "\n",
      "Concatenate Test DFire and FASDD UAV datasets\n",
      "Test dataset len: 7631\n",
      "Concatenate with FASDD CV dataset\n",
      "Test dataset len: 23154\n"
     ]
    }
   ],
   "source": [
    "val_loader = data_loaders.get_val_loader()"
   ]
  },
  {
   "cell_type": "markdown",
   "id": "61638d65-5686-4c76-b2ad-b1c0d82e16a3",
   "metadata": {},
   "source": [
    "# Plot Some Val Pictures"
   ]
  },
  {
   "cell_type": "code",
   "execution_count": 7,
   "id": "eb44e93c-b177-4c16-a4b4-c79ea28e2343",
   "metadata": {},
   "outputs": [
    {
     "name": "stdout",
     "output_type": "stream",
     "text": [
      "Batch size equal to img.shape[0] = 64\n",
      "Batch images shape = torch.Size([64, 3, 224, 224])\n"
     ]
    }
   ],
   "source": [
    "for batch_idx, (img, label) in enumerate(val_loader):\n",
    "       \n",
    "    if batch_idx == 33:\n",
    "        print(f'Batch size equal to img.shape[0] = {img.shape[0]}')\n",
    "        print(f'Batch images shape = {img.shape}')\n",
    "        plt.subplots(4, 5, figsize=(10,8))\n",
    "        for i in range(20):\n",
    "            pic = utils.plot_dataset_img(img[i], label[i], grid=True)\n",
    "            plt.subplot(4, 5, i+1)\n",
    "            plt.imshow(pic)\n",
    "        plt.tight_layout()\n",
    "        plt.savefig(config.RUN_FOLDER + 'val_pictures.png')\n",
    "        plt.close()\n",
    "        break"
   ]
  },
  {
   "cell_type": "markdown",
   "id": "7eae5559-3305-45de-bd50-3f08b3cfbf12",
   "metadata": {},
   "source": [
    "# Model Setup"
   ]
  },
  {
   "cell_type": "code",
   "execution_count": 8,
   "id": "898bc23b-d5c6-498c-a481-5e020468b752",
   "metadata": {},
   "outputs": [
    {
     "name": "stdout",
     "output_type": "stream",
     "text": [
      "Using BED Detector\n",
      "Models to CPU\n",
      "\n",
      "Trainable parameters = 287276\n",
      "Total parameters = 287276\n",
      "\n"
     ]
    }
   ],
   "source": [
    "if config.MODEL == \"BED\":\n",
    "    \n",
    "    print(\"Using BED Detector\\nModels to CPU\")\n",
    "    logger.info(\"\\nUsing BED Detector\\nModels to CPU\")\n",
    "    # model = models.PRUNED_AFTER_SVD_BED_DETECTOR().to('cpu')  \n",
    "    model = models.SIMPLE_BED_DETECTOR().to('cpu') \n",
    "    model.eval()\n",
    "    #quant_model = models.PRUNED_AFTER_SVD_BED_DETECTOR().to('cpu')\n",
    "    quant_model = models.SIMPLE_BED_DETECTOR().to('cpu')\n",
    "    quant_model.eval()\n",
    "\n",
    "else:\n",
    "    print(\"Wrong Model\")\n",
    "    logger.info(\"Wrong Model\")\n",
    "    raise SystemExit(\"Wrong Model\")\n",
    "\n",
    "# MODEL PARAMETERS\n",
    "n_trainable = sum(p.numel() for p in model.parameters() if p.requires_grad)\n",
    "print(f'\\nTrainable parameters = {n_trainable}')\n",
    "logger.info(f'\\nTrainable parameters = {n_trainable}')\n",
    "\n",
    "n_params = parameters_to_vector(model.parameters()).numel()\n",
    "print(f'Total parameters = {n_params}\\n')\n",
    "logger.info(f'Total parameters = {n_params}')"
   ]
  },
  {
   "cell_type": "markdown",
   "id": "e675831f-0d9b-471c-b073-794ee10d6723",
   "metadata": {},
   "source": [
    "### Check Model Shape"
   ]
  },
  {
   "cell_type": "code",
   "execution_count": 9,
   "id": "af2a83d2-11a8-4d82-af9d-ad966f50bcf3",
   "metadata": {},
   "outputs": [
    {
     "name": "stdout",
     "output_type": "stream",
     "text": [
      "Input shape is torch.Size([4, 3, 224, 224])\n",
      "Model shape is torch.Size([4, 12, 7, 7])\n",
      "BED Model Arquitecture\n",
      "SIMPLE_BED_DETECTOR(\n",
      "  (model): Sequential(\n",
      "    (conv1): Conv2d(3, 32, kernel_size=(3, 3), stride=(1, 1), padding=(1, 1), bias=False)\n",
      "    (bn1): BatchNorm2d(32, eps=1e-05, momentum=0.1, affine=True, track_running_stats=True)\n",
      "    (relu1): ReLU()\n",
      "    (dropout1): Dropout2d(p=0.3, inplace=False)\n",
      "    (maxpool2): MaxPool2d(kernel_size=2, stride=2, padding=0, dilation=1, ceil_mode=False)\n",
      "    (conv2): Conv2d(32, 16, kernel_size=(3, 3), stride=(1, 1), padding=(1, 1), bias=False)\n",
      "    (bn2): BatchNorm2d(16, eps=1e-05, momentum=0.1, affine=True, track_running_stats=True)\n",
      "    (relu2): ReLU()\n",
      "    (dropout2): Dropout2d(p=0.3, inplace=False)\n",
      "    (maxpool3): MaxPool2d(kernel_size=2, stride=2, padding=0, dilation=1, ceil_mode=False)\n",
      "    (conv31): Conv2d(16, 16, kernel_size=(1, 1), stride=(1, 1), bias=False)\n",
      "    (bn31): BatchNorm2d(16, eps=1e-05, momentum=0.1, affine=True, track_running_stats=True)\n",
      "    (relu31): ReLU()\n",
      "    (conv32): Conv2d(16, 32, kernel_size=(3, 3), stride=(1, 1), padding=(1, 1), bias=False)\n",
      "    (bn32): BatchNorm2d(32, eps=1e-05, momentum=0.1, affine=True, track_running_stats=True)\n",
      "    (relu32): ReLU()\n",
      "    (conv33): Conv2d(32, 32, kernel_size=(1, 1), stride=(1, 1), bias=False)\n",
      "    (bn33): BatchNorm2d(32, eps=1e-05, momentum=0.1, affine=True, track_running_stats=True)\n",
      "    (relu33): ReLU()\n",
      "    (conv34): Conv2d(32, 64, kernel_size=(3, 3), stride=(1, 1), padding=(1, 1), bias=False)\n",
      "    (bn34): BatchNorm2d(64, eps=1e-05, momentum=0.1, affine=True, track_running_stats=True)\n",
      "    (relu34): ReLU()\n",
      "    (maxpool4): MaxPool2d(kernel_size=2, stride=2, padding=0, dilation=1, ceil_mode=False)\n",
      "    (conv41): Conv2d(64, 32, kernel_size=(1, 1), stride=(1, 1), bias=False)\n",
      "    (bn41): BatchNorm2d(32, eps=1e-05, momentum=0.1, affine=True, track_running_stats=True)\n",
      "    (relu41): ReLU()\n",
      "    (conv42): Conv2d(32, 64, kernel_size=(3, 3), stride=(1, 1), padding=(1, 1), bias=False)\n",
      "    (bn42): BatchNorm2d(64, eps=1e-05, momentum=0.1, affine=True, track_running_stats=True)\n",
      "    (relu42): ReLU()\n",
      "    (conv43): Conv2d(64, 32, kernel_size=(1, 1), stride=(1, 1), bias=False)\n",
      "    (bn43): BatchNorm2d(32, eps=1e-05, momentum=0.1, affine=True, track_running_stats=True)\n",
      "    (relu43): ReLU()\n",
      "    (conv44): Conv2d(32, 64, kernel_size=(3, 3), stride=(1, 1), padding=(1, 1), bias=False)\n",
      "    (bn44): BatchNorm2d(64, eps=1e-05, momentum=0.1, affine=True, track_running_stats=True)\n",
      "    (relu44): ReLU()\n",
      "    (conv45): Conv2d(64, 32, kernel_size=(1, 1), stride=(1, 1), bias=False)\n",
      "    (bn45): BatchNorm2d(32, eps=1e-05, momentum=0.1, affine=True, track_running_stats=True)\n",
      "    (relu45): ReLU()\n",
      "    (conv46): Conv2d(32, 64, kernel_size=(3, 3), stride=(1, 1), padding=(1, 1), bias=False)\n",
      "    (bn46): BatchNorm2d(64, eps=1e-05, momentum=0.1, affine=True, track_running_stats=True)\n",
      "    (relu46): ReLU()\n",
      "    (maxpool5): MaxPool2d(kernel_size=2, stride=2, padding=0, dilation=1, ceil_mode=False)\n",
      "    (conv51): Conv2d(64, 32, kernel_size=(1, 1), stride=(1, 1), bias=False)\n",
      "    (bn51): BatchNorm2d(32, eps=1e-05, momentum=0.1, affine=True, track_running_stats=True)\n",
      "    (relu51): ReLU()\n",
      "    (conv52): Conv2d(32, 64, kernel_size=(3, 3), stride=(1, 1), padding=(1, 1), bias=False)\n",
      "    (bn52): BatchNorm2d(64, eps=1e-05, momentum=0.1, affine=True, track_running_stats=True)\n",
      "    (relu52): ReLU()\n",
      "    (conv53): Conv2d(64, 32, kernel_size=(1, 1), stride=(1, 1), bias=False)\n",
      "    (bn53): BatchNorm2d(32, eps=1e-05, momentum=0.1, affine=True, track_running_stats=True)\n",
      "    (relu53): ReLU()\n",
      "    (conv54): Conv2d(32, 64, kernel_size=(3, 3), stride=(1, 1), padding=(1, 1), bias=False)\n",
      "    (bn54): BatchNorm2d(64, eps=1e-05, momentum=0.1, affine=True, track_running_stats=True)\n",
      "    (relu54): ReLU()\n",
      "    (conv55): Conv2d(64, 64, kernel_size=(3, 3), stride=(1, 1), padding=(1, 1), bias=False)\n",
      "    (bn55): BatchNorm2d(64, eps=1e-05, momentum=0.1, affine=True, track_running_stats=True)\n",
      "    (relu55): ReLU()\n",
      "    (conv56): Conv2d(64, 64, kernel_size=(3, 3), stride=(1, 1), padding=(1, 1), bias=False)\n",
      "    (bn56): BatchNorm2d(64, eps=1e-05, momentum=0.1, affine=True, track_running_stats=True)\n",
      "    (relu56): ReLU()\n",
      "    (maxpool6): MaxPool2d(kernel_size=2, stride=2, padding=0, dilation=1, ceil_mode=False)\n",
      "    (conv61): Conv2d(64, 64, kernel_size=(3, 3), stride=(1, 1), padding=(1, 1), bias=False)\n",
      "    (bn61): BatchNorm2d(64, eps=1e-05, momentum=0.1, affine=True, track_running_stats=True)\n",
      "    (relu61): ReLU()\n",
      "    (conv62): Conv2d(64, 64, kernel_size=(3, 3), stride=(1, 1), padding=(1, 1), bias=False)\n",
      "    (bn62): BatchNorm2d(64, eps=1e-05, momentum=0.1, affine=True, track_running_stats=True)\n",
      "    (relu62): ReLU()\n",
      "    (conv71): Conv2d(64, 64, kernel_size=(1, 1), stride=(1, 1), bias=False)\n",
      "    (bn71): BatchNorm2d(64, eps=1e-05, momentum=0.1, affine=True, track_running_stats=True)\n",
      "    (relu71): ReLU()\n",
      "    (conv72): Conv2d(64, 16, kernel_size=(1, 1), stride=(1, 1), bias=False)\n",
      "    (bn72): BatchNorm2d(16, eps=1e-05, momentum=0.1, affine=True, track_running_stats=True)\n",
      "    (relu72): ReLU()\n",
      "    (conv73): Conv2d(16, 16, kernel_size=(1, 1), stride=(1, 1), bias=False)\n",
      "    (bn73): BatchNorm2d(16, eps=1e-05, momentum=0.1, affine=True, track_running_stats=True)\n",
      "    (relu73): ReLU()\n",
      "    (conv74): Conv2d(16, 12, kernel_size=(1, 1), stride=(1, 1))\n",
      "  )\n",
      ")\n"
     ]
    }
   ],
   "source": [
    "in_rand_np = np.random.rand(4, 3, config.IMG_H, config.IMG_W)\n",
    "in_rand = torch.tensor(in_rand_np, dtype=torch.float32, device='cpu')\n",
    "out_test = model(in_rand)\n",
    "\n",
    "print(f'Input shape is {in_rand.shape}')\n",
    "print(f'Model shape is {out_test.shape}')\n",
    "print(f'BED Model Arquitecture\\n{model}')\n",
    "logger.info(f'\\nInput shape is {in_rand.shape}')\n",
    "logger.info(f'Model shape is {out_test.shape}\\n')\n",
    "logger.info(f'BED Model Arquitecture\\n{model}')"
   ]
  },
  {
   "cell_type": "markdown",
   "id": "6fb0e02d-a0a6-47b3-8c96-243d9cfffca6",
   "metadata": {},
   "source": [
    "### Torch Summary"
   ]
  },
  {
   "cell_type": "code",
   "execution_count": 10,
   "id": "420d85e4-e8ac-4220-b807-eaba1c371fb3",
   "metadata": {},
   "outputs": [
    {
     "name": "stdout",
     "output_type": "stream",
     "text": [
      "==========================================================================================\n",
      "Layer (type:depth-idx)                   Output Shape              Param #\n",
      "==========================================================================================\n",
      "SIMPLE_BED_DETECTOR                      [1, 12, 7, 7]             --\n",
      "├─Sequential: 1-1                        [1, 12, 7, 7]             --\n",
      "│    └─Conv2d: 2-1                       [1, 32, 224, 224]         864\n",
      "│    └─BatchNorm2d: 2-2                  [1, 32, 224, 224]         64\n",
      "│    └─ReLU: 2-3                         [1, 32, 224, 224]         --\n",
      "│    └─Dropout2d: 2-4                    [1, 32, 224, 224]         --\n",
      "│    └─MaxPool2d: 2-5                    [1, 32, 112, 112]         --\n",
      "│    └─Conv2d: 2-6                       [1, 16, 112, 112]         4,608\n",
      "│    └─BatchNorm2d: 2-7                  [1, 16, 112, 112]         32\n",
      "│    └─ReLU: 2-8                         [1, 16, 112, 112]         --\n",
      "│    └─Dropout2d: 2-9                    [1, 16, 112, 112]         --\n",
      "│    └─MaxPool2d: 2-10                   [1, 16, 56, 56]           --\n",
      "│    └─Conv2d: 2-11                      [1, 16, 56, 56]           256\n",
      "│    └─BatchNorm2d: 2-12                 [1, 16, 56, 56]           32\n",
      "│    └─ReLU: 2-13                        [1, 16, 56, 56]           --\n",
      "│    └─Conv2d: 2-14                      [1, 32, 56, 56]           4,608\n",
      "│    └─BatchNorm2d: 2-15                 [1, 32, 56, 56]           64\n",
      "│    └─ReLU: 2-16                        [1, 32, 56, 56]           --\n",
      "│    └─Conv2d: 2-17                      [1, 32, 56, 56]           1,024\n",
      "│    └─BatchNorm2d: 2-18                 [1, 32, 56, 56]           64\n",
      "│    └─ReLU: 2-19                        [1, 32, 56, 56]           --\n",
      "│    └─Conv2d: 2-20                      [1, 64, 56, 56]           18,432\n",
      "│    └─BatchNorm2d: 2-21                 [1, 64, 56, 56]           128\n",
      "│    └─ReLU: 2-22                        [1, 64, 56, 56]           --\n",
      "│    └─MaxPool2d: 2-23                   [1, 64, 28, 28]           --\n",
      "│    └─Conv2d: 2-24                      [1, 32, 28, 28]           2,048\n",
      "│    └─BatchNorm2d: 2-25                 [1, 32, 28, 28]           64\n",
      "│    └─ReLU: 2-26                        [1, 32, 28, 28]           --\n",
      "│    └─Conv2d: 2-27                      [1, 64, 28, 28]           18,432\n",
      "│    └─BatchNorm2d: 2-28                 [1, 64, 28, 28]           128\n",
      "│    └─ReLU: 2-29                        [1, 64, 28, 28]           --\n",
      "│    └─Conv2d: 2-30                      [1, 32, 28, 28]           2,048\n",
      "│    └─BatchNorm2d: 2-31                 [1, 32, 28, 28]           64\n",
      "│    └─ReLU: 2-32                        [1, 32, 28, 28]           --\n",
      "│    └─Conv2d: 2-33                      [1, 64, 28, 28]           18,432\n",
      "│    └─BatchNorm2d: 2-34                 [1, 64, 28, 28]           128\n",
      "│    └─ReLU: 2-35                        [1, 64, 28, 28]           --\n",
      "│    └─Conv2d: 2-36                      [1, 32, 28, 28]           2,048\n",
      "│    └─BatchNorm2d: 2-37                 [1, 32, 28, 28]           64\n",
      "│    └─ReLU: 2-38                        [1, 32, 28, 28]           --\n",
      "│    └─Conv2d: 2-39                      [1, 64, 28, 28]           18,432\n",
      "│    └─BatchNorm2d: 2-40                 [1, 64, 28, 28]           128\n",
      "│    └─ReLU: 2-41                        [1, 64, 28, 28]           --\n",
      "│    └─MaxPool2d: 2-42                   [1, 64, 14, 14]           --\n",
      "│    └─Conv2d: 2-43                      [1, 32, 14, 14]           2,048\n",
      "│    └─BatchNorm2d: 2-44                 [1, 32, 14, 14]           64\n",
      "│    └─ReLU: 2-45                        [1, 32, 14, 14]           --\n",
      "│    └─Conv2d: 2-46                      [1, 64, 14, 14]           18,432\n",
      "│    └─BatchNorm2d: 2-47                 [1, 64, 14, 14]           128\n",
      "│    └─ReLU: 2-48                        [1, 64, 14, 14]           --\n",
      "│    └─Conv2d: 2-49                      [1, 32, 14, 14]           2,048\n",
      "│    └─BatchNorm2d: 2-50                 [1, 32, 14, 14]           64\n",
      "│    └─ReLU: 2-51                        [1, 32, 14, 14]           --\n",
      "│    └─Conv2d: 2-52                      [1, 64, 14, 14]           18,432\n",
      "│    └─BatchNorm2d: 2-53                 [1, 64, 14, 14]           128\n",
      "│    └─ReLU: 2-54                        [1, 64, 14, 14]           --\n",
      "│    └─Conv2d: 2-55                      [1, 64, 14, 14]           36,864\n",
      "│    └─BatchNorm2d: 2-56                 [1, 64, 14, 14]           128\n",
      "│    └─ReLU: 2-57                        [1, 64, 14, 14]           --\n",
      "│    └─Conv2d: 2-58                      [1, 64, 14, 14]           36,864\n",
      "│    └─BatchNorm2d: 2-59                 [1, 64, 14, 14]           128\n",
      "│    └─ReLU: 2-60                        [1, 64, 14, 14]           --\n",
      "│    └─MaxPool2d: 2-61                   [1, 64, 7, 7]             --\n",
      "│    └─Conv2d: 2-62                      [1, 64, 7, 7]             36,864\n",
      "│    └─BatchNorm2d: 2-63                 [1, 64, 7, 7]             128\n",
      "│    └─ReLU: 2-64                        [1, 64, 7, 7]             --\n",
      "│    └─Conv2d: 2-65                      [1, 64, 7, 7]             36,864\n",
      "│    └─BatchNorm2d: 2-66                 [1, 64, 7, 7]             128\n",
      "│    └─ReLU: 2-67                        [1, 64, 7, 7]             --\n",
      "│    └─Conv2d: 2-68                      [1, 64, 7, 7]             4,096\n",
      "│    └─BatchNorm2d: 2-69                 [1, 64, 7, 7]             128\n",
      "│    └─ReLU: 2-70                        [1, 64, 7, 7]             --\n",
      "│    └─Conv2d: 2-71                      [1, 16, 7, 7]             1,024\n",
      "│    └─BatchNorm2d: 2-72                 [1, 16, 7, 7]             32\n",
      "│    └─ReLU: 2-73                        [1, 16, 7, 7]             --\n",
      "│    └─Conv2d: 2-74                      [1, 16, 7, 7]             256\n",
      "│    └─BatchNorm2d: 2-75                 [1, 16, 7, 7]             32\n",
      "│    └─ReLU: 2-76                        [1, 16, 7, 7]             --\n",
      "│    └─Conv2d: 2-77                      [1, 12, 7, 7]             204\n",
      "==========================================================================================\n",
      "Total params: 287,276\n",
      "Trainable params: 287,276\n",
      "Non-trainable params: 0\n",
      "Total mult-adds (M): 251.96\n",
      "==========================================================================================\n",
      "Input size (MB): 0.60\n",
      "Forward/backward pass size (MB): 40.92\n",
      "Params size (MB): 1.15\n",
      "Estimated Total Size (MB): 42.67\n",
      "==========================================================================================\n"
     ]
    }
   ],
   "source": [
    "print(summary(model, input_size=(1, 3, config.IMG_H, config.IMG_W)))\n",
    "logger.info(\"\\nModel Summary\")\n",
    "logger.info(summary(model, input_size=(1, 3, config.IMG_H, config.IMG_W)))"
   ]
  },
  {
   "cell_type": "markdown",
   "id": "f7da4a92-783f-418e-a069-7bf680104e21",
   "metadata": {},
   "source": [
    "# Load Weights"
   ]
  },
  {
   "cell_type": "code",
   "execution_count": 11,
   "id": "5630a792-026d-42e7-a971-28e51a3b8194",
   "metadata": {},
   "outputs": [
    {
     "name": "stdout",
     "output_type": "stream",
     "text": [
      "Loading Model. Trained during 144 epochs\n",
      "Loading Model. Trained during 144 epochs\n"
     ]
    }
   ],
   "source": [
    "#model_path = './experiments/test_12_aimet_svd_090/weights/BED_detector__best_mAP=0.5962__epoch=9.pt'\n",
    "\n",
    "epochs_trained = utils.load_checkpoint(config.LOAD_MODEL_FILE, \n",
    "                                       model, \n",
    "                                       optimizer=None, \n",
    "                                       scheduler=None, \n",
    "                                       device='cpu')\n",
    "\n",
    "epochs_trained = utils.load_checkpoint(config.LOAD_MODEL_FILE, \n",
    "                                       quant_model, \n",
    "                                       optimizer=None, \n",
    "                                       scheduler=None, \n",
    "                                       device='cpu')\n",
    "\n",
    "logger.info(f\"Loading Model. Trained during {epochs_trained} epochs\")"
   ]
  },
  {
   "cell_type": "markdown",
   "id": "453ff6ca-4e1a-40a3-a173-1de75ba0ef11",
   "metadata": {},
   "source": [
    "# Quantization PTQ"
   ]
  },
  {
   "cell_type": "markdown",
   "id": "959d9916-b283-4892-a3fb-f8fa13acb691",
   "metadata": {},
   "source": [
    "### Metrics"
   ]
  },
  {
   "cell_type": "code",
   "execution_count": 12,
   "id": "f361f524-1037-49b5-9f5b-83c0991e504d",
   "metadata": {},
   "outputs": [],
   "source": [
    "mAP_metrics = map_metric = MeanAveragePrecision(\n",
    "    box_format='xyxy',\n",
    "    iou_thresholds=[config.IOU_THRESHOLD],\n",
    "    class_metrics=True, # Enables separated metrics for each class\n",
    "    #average='micro',\n",
    "    extended_summary=False).to('cpu')"
   ]
  },
  {
   "cell_type": "markdown",
   "id": "54c22553-316b-43b7-a4ba-9d53db17974c",
   "metadata": {},
   "source": [
    "### Evaluation function"
   ]
  },
  {
   "cell_type": "code",
   "execution_count": 13,
   "id": "431d7a45-83f2-420c-a4d4-ddb5e4587d1f",
   "metadata": {},
   "outputs": [],
   "source": [
    "def eval_func(model): \n",
    "    model.eval()\n",
    "    for batch_idx, (x, y) in enumerate(val_loader):\n",
    "        out = model(x)\n",
    "\n",
    "        # Remove Permute from the model\n",
    "        out = out.permute(0, 2, 3, 1)\n",
    "        \n",
    "        # Mean Average Precision\n",
    "        for idx in range(x.shape[0]):\n",
    "            target_boxes = metrics.get_true_boxes(y[idx].detach())\n",
    "            pred_boxes = metrics.get_pred_boxes(out[idx].detach())\n",
    "            mAP_metrics.update(preds = pred_boxes, target = target_boxes) \n",
    "\n",
    "    meanAP = mAP_metrics.compute()\n",
    "    mAP_metrics.reset()\n",
    "    print(f'Val mAP = {meanAP[\"map_50\"]:.4f}')\n",
    "    \n",
    "    return meanAP['map_50'].item()"
   ]
  },
  {
   "cell_type": "code",
   "execution_count": 14,
   "id": "f97d5526-6945-4728-a60f-e8d0ed7bca3a",
   "metadata": {},
   "outputs": [
    {
     "name": "stdout",
     "output_type": "stream",
     "text": [
      "Val mAP = 0.6404\n",
      "0.6404008269309998\n"
     ]
    }
   ],
   "source": [
    "test_mAP = eval_func(quant_model)\n",
    "print(test_mAP)"
   ]
  },
  {
   "cell_type": "code",
   "execution_count": 15,
   "id": "e4962a27-5ab3-4670-9d2d-fd889d3db60f",
   "metadata": {
    "tags": []
   },
   "outputs": [],
   "source": [
    "logger.info(f'Baseline mAP before PTQ: {test_mAP}')"
   ]
  },
  {
   "cell_type": "markdown",
   "id": "64dcfbd4-a677-4141-a90b-62353d808f79",
   "metadata": {},
   "source": [
    "### Quantization Code"
   ]
  },
  {
   "cell_type": "code",
   "execution_count": 16,
   "id": "92ce8b4c-15be-4dc7-8dfa-ede6c3150a88",
   "metadata": {
    "tags": []
   },
   "outputs": [
    {
     "name": "stderr",
     "output_type": "stream",
     "text": [
      "2024-09-02 10:13:39 [INFO] Start auto tuning.\n",
      "2024-09-02 10:13:39 [INFO] Execute the tuning process due to detect the evaluation function.\n",
      "2024-09-02 10:13:39 [INFO] Adaptor has 5 recipes.\n",
      "2024-09-02 10:13:39 [INFO] 0 recipes specified by user.\n",
      "2024-09-02 10:13:39 [INFO] 3 recipes require future tuning.\n",
      "2024-09-02 10:13:39 [INFO] *** Initialize auto tuning\n",
      "2024-09-02 10:13:39 [INFO] {\n",
      "2024-09-02 10:13:39 [INFO]     'PostTrainingQuantConfig': {\n",
      "2024-09-02 10:13:39 [INFO]         'AccuracyCriterion': {\n",
      "2024-09-02 10:13:39 [INFO]             'criterion': 'relative',\n",
      "2024-09-02 10:13:39 [INFO]             'higher_is_better': True,\n",
      "2024-09-02 10:13:39 [INFO]             'tolerable_loss': 0.02,\n",
      "2024-09-02 10:13:39 [INFO]             'absolute': None,\n",
      "2024-09-02 10:13:39 [INFO]             'keys': <bound method AccuracyCriterion.keys of <neural_compressor.config.AccuracyCriterion object at 0x7f5481d74250>>,\n",
      "2024-09-02 10:13:39 [INFO]             'relative': 0.02\n",
      "2024-09-02 10:13:39 [INFO]         },\n",
      "2024-09-02 10:13:39 [INFO]         'approach': 'post_training_static_quant',\n",
      "2024-09-02 10:13:39 [INFO]         'backend': 'default',\n",
      "2024-09-02 10:13:39 [INFO]         'calibration_sampling_size': [\n",
      "2024-09-02 10:13:39 [INFO]             8192\n",
      "2024-09-02 10:13:39 [INFO]         ],\n",
      "2024-09-02 10:13:39 [INFO]         'device': 'cpu',\n",
      "2024-09-02 10:13:39 [INFO]         'diagnosis': False,\n",
      "2024-09-02 10:13:39 [INFO]         'domain': 'auto',\n",
      "2024-09-02 10:13:39 [INFO]         'example_inputs': 'Not printed here due to large size tensors...',\n",
      "2024-09-02 10:13:39 [INFO]         'excluded_precisions': [\n",
      "2024-09-02 10:13:39 [INFO]         ],\n",
      "2024-09-02 10:13:39 [INFO]         'framework': 'pytorch_fx',\n",
      "2024-09-02 10:13:39 [INFO]         'inputs': [\n",
      "2024-09-02 10:13:39 [INFO]         ],\n",
      "2024-09-02 10:13:39 [INFO]         'model_name': '',\n",
      "2024-09-02 10:13:39 [INFO]         'ni_workload_name': 'quantization',\n",
      "2024-09-02 10:13:39 [INFO]         'op_name_dict': None,\n",
      "2024-09-02 10:13:39 [INFO]         'op_type_dict': None,\n",
      "2024-09-02 10:13:39 [INFO]         'outputs': [\n",
      "2024-09-02 10:13:39 [INFO]         ],\n",
      "2024-09-02 10:13:39 [INFO]         'quant_format': 'default',\n",
      "2024-09-02 10:13:39 [INFO]         'quant_level': 'auto',\n",
      "2024-09-02 10:13:39 [INFO]         'recipes': {\n",
      "2024-09-02 10:13:39 [INFO]             'smooth_quant': False,\n",
      "2024-09-02 10:13:39 [INFO]             'smooth_quant_args': {\n",
      "2024-09-02 10:13:39 [INFO]             },\n",
      "2024-09-02 10:13:39 [INFO]             'layer_wise_quant': False,\n",
      "2024-09-02 10:13:39 [INFO]             'layer_wise_quant_args': {\n",
      "2024-09-02 10:13:39 [INFO]             },\n",
      "2024-09-02 10:13:39 [INFO]             'fast_bias_correction': False,\n",
      "2024-09-02 10:13:39 [INFO]             'weight_correction': False,\n",
      "2024-09-02 10:13:39 [INFO]             'gemm_to_matmul': True,\n",
      "2024-09-02 10:13:39 [INFO]             'graph_optimization_level': None,\n",
      "2024-09-02 10:13:39 [INFO]             'first_conv_or_matmul_quantization': True,\n",
      "2024-09-02 10:13:39 [INFO]             'last_conv_or_matmul_quantization': True,\n",
      "2024-09-02 10:13:39 [INFO]             'pre_post_process_quantization': True,\n",
      "2024-09-02 10:13:39 [INFO]             'add_qdq_pair_to_weight': False,\n",
      "2024-09-02 10:13:39 [INFO]             'optypes_to_exclude_output_quant': [\n",
      "2024-09-02 10:13:39 [INFO]             ],\n",
      "2024-09-02 10:13:39 [INFO]             'dedicated_qdq_pair': False,\n",
      "2024-09-02 10:13:39 [INFO]             'rtn_args': {\n",
      "2024-09-02 10:13:39 [INFO]             },\n",
      "2024-09-02 10:13:39 [INFO]             'awq_args': {\n",
      "2024-09-02 10:13:39 [INFO]             },\n",
      "2024-09-02 10:13:39 [INFO]             'gptq_args': {\n",
      "2024-09-02 10:13:39 [INFO]             },\n",
      "2024-09-02 10:13:39 [INFO]             'teq_args': {\n",
      "2024-09-02 10:13:39 [INFO]             },\n",
      "2024-09-02 10:13:39 [INFO]             'autoround_args': {\n",
      "2024-09-02 10:13:39 [INFO]             }\n",
      "2024-09-02 10:13:39 [INFO]         },\n",
      "2024-09-02 10:13:39 [INFO]         'reduce_range': None,\n",
      "2024-09-02 10:13:39 [INFO]         'TuningCriterion': {\n",
      "2024-09-02 10:13:39 [INFO]             'max_trials': 10,\n",
      "2024-09-02 10:13:39 [INFO]             'objective': [\n",
      "2024-09-02 10:13:39 [INFO]                 'performance'\n",
      "2024-09-02 10:13:39 [INFO]             ],\n",
      "2024-09-02 10:13:39 [INFO]             'strategy': 'basic',\n",
      "2024-09-02 10:13:39 [INFO]             'strategy_kwargs': None,\n",
      "2024-09-02 10:13:39 [INFO]             'timeout': 0\n",
      "2024-09-02 10:13:39 [INFO]         },\n",
      "2024-09-02 10:13:39 [INFO]         'use_bf16': True\n",
      "2024-09-02 10:13:39 [INFO]     }\n",
      "2024-09-02 10:13:39 [INFO] }\n",
      "2024-09-02 10:13:39 [WARNING] [Strategy] Please install `mpi4py` correctly if using distributed tuning; otherwise, ignore this warning.\n",
      "/opt/conda/envs/pytorch_23/lib/python3.10/site-packages/torch/ao/quantization/fx/fuse.py:56: UserWarning: Passing a fuse_custom_config_dict to fuse is deprecated and will not be supported in a future version. Please pass in a FuseCustomConfig instead.\n",
      "  warnings.warn(\n",
      "2024-09-02 10:13:39 [INFO] Attention Blocks: 0\n",
      "2024-09-02 10:13:39 [INFO] FFN Blocks: 0\n",
      "2024-09-02 10:13:39 [INFO] Pass query framework capability elapsed time: 36.79 ms\n",
      "2024-09-02 10:13:39 [INFO] Get FP32 model baseline.\n",
      "2024-09-02 10:16:56 [INFO] Save tuning history to /home/gmoreno/uav/code/object_detection/nc_workspace/2024-09-02_10-08-58/./history.snapshot.\n",
      "2024-09-02 10:16:56 [INFO] FP32 baseline is: [Accuracy: 0.6404, Duration (seconds): 196.3477]\n",
      "2024-09-02 10:16:56 [INFO] Quantize the model with default config.\n"
     ]
    },
    {
     "name": "stdout",
     "output_type": "stream",
     "text": [
      "Val mAP = 0.6404\n"
     ]
    },
    {
     "name": "stderr",
     "output_type": "stream",
     "text": [
      "/opt/conda/envs/pytorch_23/lib/python3.10/site-packages/torch/ao/quantization/observer.py:220: UserWarning: Please use quant_min and quant_max to specify the range for observers.                     reduce_range will be deprecated in a future release of PyTorch.\n",
      "  warnings.warn(\n",
      "2024-09-02 10:18:14 [INFO] |********Mixed Precision Statistics*******|\n",
      "2024-09-02 10:18:14 [INFO] +------------------------+--------+-------+\n",
      "2024-09-02 10:18:14 [INFO] |        Op Type         | Total  |  INT8 |\n",
      "2024-09-02 10:18:14 [INFO] +------------------------+--------+-------+\n",
      "2024-09-02 10:18:14 [INFO] |  quantize_per_tensor   |   3    |   3   |\n",
      "2024-09-02 10:18:14 [INFO] |       ConvReLU2d       |   23   |   23  |\n",
      "2024-09-02 10:18:14 [INFO] |       dequantize       |   3    |   3   |\n",
      "2024-09-02 10:18:14 [INFO] |       MaxPool2d        |   5    |   5   |\n",
      "2024-09-02 10:18:14 [INFO] |         Conv2d         |   1    |   1   |\n",
      "2024-09-02 10:18:14 [INFO] +------------------------+--------+-------+\n",
      "2024-09-02 10:18:14 [INFO] Pass quantize model elapsed time: 77880.25 ms\n",
      "2024-09-02 10:19:35 [INFO] Tune 1 result is: [Accuracy (int8|fp32): 0.6268|0.6404, Duration (seconds) (int8|fp32): 81.8925|196.3477], Best tune result is: n/a\n",
      "2024-09-02 10:19:35 [INFO] |***********************Tune Result Statistics**********************|\n",
      "2024-09-02 10:19:35 [INFO] +--------------------+-----------+---------------+------------------+\n",
      "2024-09-02 10:19:35 [INFO] |     Info Type      |  Baseline | Tune 1 result | Best tune result |\n",
      "2024-09-02 10:19:35 [INFO] +--------------------+-----------+---------------+------------------+\n",
      "2024-09-02 10:19:35 [INFO] |      Accuracy      |  0.6404   |    0.6268     |       n/a        |\n",
      "2024-09-02 10:19:35 [INFO] | Duration (seconds) | 196.3477  |    81.8925    |       n/a        |\n",
      "2024-09-02 10:19:35 [INFO] +--------------------+-----------+---------------+------------------+\n",
      "2024-09-02 10:19:35 [INFO] Save tuning history to /home/gmoreno/uav/code/object_detection/nc_workspace/2024-09-02_10-08-58/./history.snapshot.\n",
      "2024-09-02 10:19:36 [INFO] *** Start conservative tuning.\n",
      "2024-09-02 10:19:36 [INFO] Execute the tuning process due to detect the evaluation function.\n",
      "2024-09-02 10:19:36 [INFO] Adaptor has 5 recipes.\n",
      "2024-09-02 10:19:36 [INFO] 0 recipes specified by user.\n",
      "2024-09-02 10:19:36 [INFO] 3 recipes require future tuning.\n",
      "2024-09-02 10:19:36 [INFO] *** Initialize conservative tuning\n",
      "2024-09-02 10:19:36 [WARNING] [Strategy] Please install `mpi4py` correctly if using distributed tuning; otherwise, ignore this warning.\n",
      "2024-09-02 10:19:36 [INFO] FP32 baseline is: [Accuracy: 0.6404, Duration (seconds): 196.3477]\n",
      "2024-09-02 10:19:36 [INFO] *** Try to convert op into lower precision to improve performance.\n",
      "2024-09-02 10:19:36 [INFO] *** Start to convert op into int8.\n",
      "2024-09-02 10:19:36 [INFO] *** Try to convert all conv ops into int8.\n",
      "2024-09-02 10:19:36 [WARNING] Find evaluated tuning config, skip.\n",
      "2024-09-02 10:19:36 [INFO] *** Convert all conv ops to int8 but accuracy not meet the requirements\n",
      "2024-09-02 10:19:36 [INFO] ***Current result dict_items([('conv', 'fp32'), ('matmul', None), ('bmm', None), ('linear', None)])\n",
      "2024-09-02 10:19:36 [INFO] *** Ending tuning process due to no quantifiable op left.\n",
      "2024-09-02 10:19:36 [INFO] *** Start basic tuning.\n",
      "2024-09-02 10:19:36 [INFO] Execute the tuning process due to detect the evaluation function.\n",
      "2024-09-02 10:19:36 [INFO] Adaptor has 5 recipes.\n",
      "2024-09-02 10:19:36 [INFO] 0 recipes specified by user.\n",
      "2024-09-02 10:19:36 [INFO] 3 recipes require future tuning.\n",
      "2024-09-02 10:19:36 [WARNING] [Strategy] Please install `mpi4py` correctly if using distributed tuning; otherwise, ignore this warning.\n",
      "2024-09-02 10:19:36 [INFO] FP32 baseline is: [Accuracy: 0.6404, Duration (seconds): 196.3477]\n",
      "2024-09-02 10:19:36 [WARNING] Find evaluated tuning config, skip.\n",
      "2024-09-02 10:19:36 [INFO] Apply all recipes.\n"
     ]
    },
    {
     "name": "stdout",
     "output_type": "stream",
     "text": [
      "Val mAP = 0.6268\n"
     ]
    },
    {
     "name": "stderr",
     "output_type": "stream",
     "text": [
      "2024-09-02 10:20:51 [INFO] |********Mixed Precision Statistics*******|\n",
      "2024-09-02 10:20:51 [INFO] +------------------------+--------+-------+\n",
      "2024-09-02 10:20:51 [INFO] |        Op Type         | Total  |  INT8 |\n",
      "2024-09-02 10:20:51 [INFO] +------------------------+--------+-------+\n",
      "2024-09-02 10:20:51 [INFO] |  quantize_per_tensor   |   3    |   3   |\n",
      "2024-09-02 10:20:51 [INFO] |       ConvReLU2d       |   23   |   23  |\n",
      "2024-09-02 10:20:51 [INFO] |       dequantize       |   3    |   3   |\n",
      "2024-09-02 10:20:51 [INFO] |       MaxPool2d        |   5    |   5   |\n",
      "2024-09-02 10:20:51 [INFO] |         Conv2d         |   1    |   1   |\n",
      "2024-09-02 10:20:51 [INFO] +------------------------+--------+-------+\n",
      "2024-09-02 10:20:51 [INFO] Pass quantize model elapsed time: 75859.51 ms\n",
      "2024-09-02 10:22:13 [INFO] Tune 4 result is: [Accuracy (int8|fp32): 0.6268|0.6404, Duration (seconds) (int8|fp32): 81.9761|196.3477], Best tune result is: n/a\n",
      "2024-09-02 10:22:13 [INFO] |***********************Tune Result Statistics**********************|\n",
      "2024-09-02 10:22:13 [INFO] +--------------------+-----------+---------------+------------------+\n",
      "2024-09-02 10:22:13 [INFO] |     Info Type      |  Baseline | Tune 4 result | Best tune result |\n",
      "2024-09-02 10:22:13 [INFO] +--------------------+-----------+---------------+------------------+\n",
      "2024-09-02 10:22:13 [INFO] |      Accuracy      |  0.6404   |    0.6268     |       n/a        |\n",
      "2024-09-02 10:22:13 [INFO] | Duration (seconds) | 196.3477  |    81.9761    |       n/a        |\n",
      "2024-09-02 10:22:13 [INFO] +--------------------+-----------+---------------+------------------+\n",
      "2024-09-02 10:22:13 [INFO] Save tuning history to /home/gmoreno/uav/code/object_detection/nc_workspace/2024-09-02_10-08-58/./history.snapshot.\n"
     ]
    },
    {
     "name": "stdout",
     "output_type": "stream",
     "text": [
      "Val mAP = 0.6268\n"
     ]
    },
    {
     "name": "stderr",
     "output_type": "stream",
     "text": [
      "2024-09-02 10:23:19 [INFO] |********Mixed Precision Statistics*******|\n",
      "2024-09-02 10:23:19 [INFO] +------------------------+--------+-------+\n",
      "2024-09-02 10:23:19 [INFO] |        Op Type         | Total  |  INT8 |\n",
      "2024-09-02 10:23:19 [INFO] +------------------------+--------+-------+\n",
      "2024-09-02 10:23:19 [INFO] |  quantize_per_tensor   |   3    |   3   |\n",
      "2024-09-02 10:23:19 [INFO] |       ConvReLU2d       |   23   |   23  |\n",
      "2024-09-02 10:23:19 [INFO] |       dequantize       |   3    |   3   |\n",
      "2024-09-02 10:23:19 [INFO] |       MaxPool2d        |   5    |   5   |\n",
      "2024-09-02 10:23:19 [INFO] |         Conv2d         |   1    |   1   |\n",
      "2024-09-02 10:23:19 [INFO] +------------------------+--------+-------+\n",
      "2024-09-02 10:23:19 [INFO] Pass quantize model elapsed time: 65200.03 ms\n",
      "2024-09-02 10:24:41 [INFO] Tune 5 result is: [Accuracy (int8|fp32): 0.6094|0.6404, Duration (seconds) (int8|fp32): 81.9199|196.3477], Best tune result is: n/a\n",
      "2024-09-02 10:24:41 [INFO] |***********************Tune Result Statistics**********************|\n",
      "2024-09-02 10:24:41 [INFO] +--------------------+-----------+---------------+------------------+\n",
      "2024-09-02 10:24:41 [INFO] |     Info Type      |  Baseline | Tune 5 result | Best tune result |\n",
      "2024-09-02 10:24:41 [INFO] +--------------------+-----------+---------------+------------------+\n",
      "2024-09-02 10:24:41 [INFO] |      Accuracy      |  0.6404   |    0.6094     |       n/a        |\n",
      "2024-09-02 10:24:41 [INFO] | Duration (seconds) | 196.3477  |    81.9199    |       n/a        |\n",
      "2024-09-02 10:24:41 [INFO] +--------------------+-----------+---------------+------------------+\n",
      "2024-09-02 10:24:41 [INFO] Save tuning history to /home/gmoreno/uav/code/object_detection/nc_workspace/2024-09-02_10-08-58/./history.snapshot.\n"
     ]
    },
    {
     "name": "stdout",
     "output_type": "stream",
     "text": [
      "Val mAP = 0.6094\n"
     ]
    },
    {
     "name": "stderr",
     "output_type": "stream",
     "text": [
      "2024-09-02 10:25:58 [INFO] |********Mixed Precision Statistics*******|\n",
      "2024-09-02 10:25:58 [INFO] +------------------------+--------+-------+\n",
      "2024-09-02 10:25:58 [INFO] |        Op Type         | Total  |  INT8 |\n",
      "2024-09-02 10:25:58 [INFO] +------------------------+--------+-------+\n",
      "2024-09-02 10:25:58 [INFO] |  quantize_per_tensor   |   3    |   3   |\n",
      "2024-09-02 10:25:58 [INFO] |       ConvReLU2d       |   23   |   23  |\n",
      "2024-09-02 10:25:58 [INFO] |       dequantize       |   3    |   3   |\n",
      "2024-09-02 10:25:58 [INFO] |       MaxPool2d        |   5    |   5   |\n",
      "2024-09-02 10:25:58 [INFO] |         Conv2d         |   1    |   1   |\n",
      "2024-09-02 10:25:58 [INFO] +------------------------+--------+-------+\n",
      "2024-09-02 10:25:58 [INFO] Pass quantize model elapsed time: 77515.39 ms\n",
      "2024-09-02 10:28:07 [INFO] Tune 6 result is: [Accuracy (int8|fp32): 0.2912|0.6404, Duration (seconds) (int8|fp32): 129.2730|196.3477], Best tune result is: n/a\n",
      "2024-09-02 10:28:07 [INFO] |***********************Tune Result Statistics**********************|\n",
      "2024-09-02 10:28:07 [INFO] +--------------------+-----------+---------------+------------------+\n",
      "2024-09-02 10:28:07 [INFO] |     Info Type      |  Baseline | Tune 6 result | Best tune result |\n",
      "2024-09-02 10:28:07 [INFO] +--------------------+-----------+---------------+------------------+\n",
      "2024-09-02 10:28:07 [INFO] |      Accuracy      |  0.6404   |    0.2912     |       n/a        |\n",
      "2024-09-02 10:28:07 [INFO] | Duration (seconds) | 196.3477  |   129.2730    |       n/a        |\n",
      "2024-09-02 10:28:07 [INFO] +--------------------+-----------+---------------+------------------+\n",
      "2024-09-02 10:28:07 [INFO] Save tuning history to /home/gmoreno/uav/code/object_detection/nc_workspace/2024-09-02_10-08-58/./history.snapshot.\n"
     ]
    },
    {
     "name": "stdout",
     "output_type": "stream",
     "text": [
      "Val mAP = 0.2912\n"
     ]
    },
    {
     "name": "stderr",
     "output_type": "stream",
     "text": [
      "2024-09-02 10:29:05 [INFO] |********Mixed Precision Statistics*******|\n",
      "2024-09-02 10:29:05 [INFO] +------------------------+--------+-------+\n",
      "2024-09-02 10:29:05 [INFO] |        Op Type         | Total  |  INT8 |\n",
      "2024-09-02 10:29:05 [INFO] +------------------------+--------+-------+\n",
      "2024-09-02 10:29:05 [INFO] |  quantize_per_tensor   |   3    |   3   |\n",
      "2024-09-02 10:29:05 [INFO] |       ConvReLU2d       |   23   |   23  |\n",
      "2024-09-02 10:29:05 [INFO] |       dequantize       |   3    |   3   |\n",
      "2024-09-02 10:29:05 [INFO] |       MaxPool2d        |   5    |   5   |\n",
      "2024-09-02 10:29:05 [INFO] |         Conv2d         |   1    |   1   |\n",
      "2024-09-02 10:29:05 [INFO] +------------------------+--------+-------+\n",
      "2024-09-02 10:29:05 [INFO] Pass quantize model elapsed time: 57469.37 ms\n",
      "2024-09-02 10:31:10 [INFO] Tune 7 result is: [Accuracy (int8|fp32): 0.3829|0.6404, Duration (seconds) (int8|fp32): 125.0887|196.3477], Best tune result is: n/a\n",
      "2024-09-02 10:31:10 [INFO] |***********************Tune Result Statistics**********************|\n",
      "2024-09-02 10:31:10 [INFO] +--------------------+-----------+---------------+------------------+\n",
      "2024-09-02 10:31:10 [INFO] |     Info Type      |  Baseline | Tune 7 result | Best tune result |\n",
      "2024-09-02 10:31:10 [INFO] +--------------------+-----------+---------------+------------------+\n",
      "2024-09-02 10:31:10 [INFO] |      Accuracy      |  0.6404   |    0.3829     |       n/a        |\n",
      "2024-09-02 10:31:10 [INFO] | Duration (seconds) | 196.3477  |   125.0887    |       n/a        |\n",
      "2024-09-02 10:31:10 [INFO] +--------------------+-----------+---------------+------------------+\n",
      "2024-09-02 10:31:10 [INFO] Save tuning history to /home/gmoreno/uav/code/object_detection/nc_workspace/2024-09-02_10-08-58/./history.snapshot.\n",
      "2024-09-02 10:31:10 [INFO] Apply recipe one by one.\n",
      "2024-09-02 10:31:10 [INFO] Start to fallback op to fp32 one by one.\n",
      "2024-09-02 10:31:10 [INFO] fallback [('model.conv74', 'Conv2d')] to fp32\n"
     ]
    },
    {
     "name": "stdout",
     "output_type": "stream",
     "text": [
      "Val mAP = 0.3829\n"
     ]
    },
    {
     "name": "stderr",
     "output_type": "stream",
     "text": [
      "2024-09-02 10:32:19 [INFO] |*********Mixed Precision Statistics********|\n",
      "2024-09-02 10:32:19 [INFO] +---------------------+-------+------+------+\n",
      "2024-09-02 10:32:19 [INFO] |       Op Type       | Total | INT8 | FP32 |\n",
      "2024-09-02 10:32:19 [INFO] +---------------------+-------+------+------+\n",
      "2024-09-02 10:32:19 [INFO] | quantize_per_tensor |   3   |  3   |  0   |\n",
      "2024-09-02 10:32:19 [INFO] |      ConvReLU2d     |   23  |  23  |  0   |\n",
      "2024-09-02 10:32:19 [INFO] |      dequantize     |   3   |  3   |  0   |\n",
      "2024-09-02 10:32:19 [INFO] |      MaxPool2d      |   5   |  5   |  0   |\n",
      "2024-09-02 10:32:19 [INFO] |        Conv2d       |   1   |  0   |  1   |\n",
      "2024-09-02 10:32:19 [INFO] +---------------------+-------+------+------+\n",
      "2024-09-02 10:32:19 [INFO] Pass quantize model elapsed time: 68455.64 ms\n",
      "2024-09-02 10:33:39 [INFO] Tune 8 result is: [Accuracy (int8|fp32): 0.6253|0.6404, Duration (seconds) (int8|fp32): 79.8966|196.3477], Best tune result is: n/a\n",
      "2024-09-02 10:33:39 [INFO] |***********************Tune Result Statistics**********************|\n",
      "2024-09-02 10:33:39 [INFO] +--------------------+-----------+---------------+------------------+\n",
      "2024-09-02 10:33:39 [INFO] |     Info Type      |  Baseline | Tune 8 result | Best tune result |\n",
      "2024-09-02 10:33:39 [INFO] +--------------------+-----------+---------------+------------------+\n",
      "2024-09-02 10:33:39 [INFO] |      Accuracy      |  0.6404   |    0.6253     |       n/a        |\n",
      "2024-09-02 10:33:39 [INFO] | Duration (seconds) | 196.3477  |    79.8966    |       n/a        |\n",
      "2024-09-02 10:33:39 [INFO] +--------------------+-----------+---------------+------------------+\n",
      "2024-09-02 10:33:39 [INFO] Save tuning history to /home/gmoreno/uav/code/object_detection/nc_workspace/2024-09-02_10-08-58/./history.snapshot.\n",
      "2024-09-02 10:33:39 [INFO] fallback [('model.conv73', 'Conv2d')] to fp32\n"
     ]
    },
    {
     "name": "stdout",
     "output_type": "stream",
     "text": [
      "Val mAP = 0.6253\n"
     ]
    },
    {
     "name": "stderr",
     "output_type": "stream",
     "text": [
      "2024-09-02 10:34:48 [INFO] |*********Mixed Precision Statistics********|\n",
      "2024-09-02 10:34:48 [INFO] +---------------------+-------+------+------+\n",
      "2024-09-02 10:34:48 [INFO] |       Op Type       | Total | INT8 | FP32 |\n",
      "2024-09-02 10:34:48 [INFO] +---------------------+-------+------+------+\n",
      "2024-09-02 10:34:48 [INFO] | quantize_per_tensor |   4   |  4   |  0   |\n",
      "2024-09-02 10:34:48 [INFO] |      ConvReLU2d     |   23  |  22  |  1   |\n",
      "2024-09-02 10:34:48 [INFO] |      dequantize     |   4   |  4   |  0   |\n",
      "2024-09-02 10:34:48 [INFO] |      MaxPool2d      |   5   |  5   |  0   |\n",
      "2024-09-02 10:34:48 [INFO] |        Conv2d       |   1   |  1   |  0   |\n",
      "2024-09-02 10:34:48 [INFO] +---------------------+-------+------+------+\n",
      "2024-09-02 10:34:48 [INFO] Pass quantize model elapsed time: 69582.41 ms\n",
      "2024-09-02 10:36:08 [INFO] Tune 9 result is: [Accuracy (int8|fp32): 0.6273|0.6404, Duration (seconds) (int8|fp32): 80.2087|196.3477], Best tune result is: n/a\n",
      "2024-09-02 10:36:08 [INFO] |***********************Tune Result Statistics**********************|\n",
      "2024-09-02 10:36:08 [INFO] +--------------------+-----------+---------------+------------------+\n",
      "2024-09-02 10:36:08 [INFO] |     Info Type      |  Baseline | Tune 9 result | Best tune result |\n",
      "2024-09-02 10:36:08 [INFO] +--------------------+-----------+---------------+------------------+\n",
      "2024-09-02 10:36:08 [INFO] |      Accuracy      |  0.6404   |    0.6273     |       n/a        |\n",
      "2024-09-02 10:36:08 [INFO] | Duration (seconds) | 196.3477  |    80.2087    |       n/a        |\n",
      "2024-09-02 10:36:08 [INFO] +--------------------+-----------+---------------+------------------+\n",
      "2024-09-02 10:36:08 [INFO] Save tuning history to /home/gmoreno/uav/code/object_detection/nc_workspace/2024-09-02_10-08-58/./history.snapshot.\n",
      "2024-09-02 10:36:08 [INFO] fallback [('model.conv72', 'Conv2d')] to fp32\n"
     ]
    },
    {
     "name": "stdout",
     "output_type": "stream",
     "text": [
      "Val mAP = 0.6273\n"
     ]
    },
    {
     "name": "stderr",
     "output_type": "stream",
     "text": [
      "2024-09-02 10:37:17 [INFO] |*********Mixed Precision Statistics********|\n",
      "2024-09-02 10:37:17 [INFO] +---------------------+-------+------+------+\n",
      "2024-09-02 10:37:17 [INFO] |       Op Type       | Total | INT8 | FP32 |\n",
      "2024-09-02 10:37:17 [INFO] +---------------------+-------+------+------+\n",
      "2024-09-02 10:37:17 [INFO] | quantize_per_tensor |   4   |  4   |  0   |\n",
      "2024-09-02 10:37:17 [INFO] |      ConvReLU2d     |   23  |  22  |  1   |\n",
      "2024-09-02 10:37:17 [INFO] |      dequantize     |   4   |  4   |  0   |\n",
      "2024-09-02 10:37:17 [INFO] |      MaxPool2d      |   5   |  5   |  0   |\n",
      "2024-09-02 10:37:17 [INFO] |        Conv2d       |   1   |  1   |  0   |\n",
      "2024-09-02 10:37:17 [INFO] +---------------------+-------+------+------+\n",
      "2024-09-02 10:37:17 [INFO] Pass quantize model elapsed time: 68393.32 ms\n",
      "2024-09-02 10:38:37 [INFO] Tune 10 result is: [Accuracy (int8|fp32): 0.6266|0.6404, Duration (seconds) (int8|fp32): 80.0119|196.3477], Best tune result is: n/a\n",
      "2024-09-02 10:38:37 [INFO] |***********************Tune Result Statistics***********************|\n",
      "2024-09-02 10:38:37 [INFO] +--------------------+-----------+----------------+------------------+\n",
      "2024-09-02 10:38:37 [INFO] |     Info Type      |  Baseline | Tune 10 result | Best tune result |\n",
      "2024-09-02 10:38:37 [INFO] +--------------------+-----------+----------------+------------------+\n",
      "2024-09-02 10:38:37 [INFO] |      Accuracy      |  0.6404   |    0.6266      |       n/a        |\n",
      "2024-09-02 10:38:37 [INFO] | Duration (seconds) | 196.3477  |    80.0119     |       n/a        |\n",
      "2024-09-02 10:38:37 [INFO] +--------------------+-----------+----------------+------------------+\n",
      "2024-09-02 10:38:37 [INFO] [Strategy] The number of trials is equal to the maximum trials, ending the tuning process.\n",
      "2024-09-02 10:38:37 [INFO] Save tuning history to /home/gmoreno/uav/code/object_detection/nc_workspace/2024-09-02_10-08-58/./history.snapshot.\n",
      "2024-09-02 10:38:37 [ERROR] Specified timeout or max trials is reached! Not found any quantized model which meet accuracy goal. Exit.\n"
     ]
    },
    {
     "name": "stdout",
     "output_type": "stream",
     "text": [
      "Val mAP = 0.6266\n"
     ]
    }
   ],
   "source": [
    "#conf = PostTrainingQuantConfig()\n",
    "\n",
    "accuracy_criterion = AccuracyCriterion(tolerable_loss=0.02)\n",
    "tuning_criterion = TuningCriterion(max_trials=10)\n",
    "conf = PostTrainingQuantConfig(\n",
    "    device='cpu',\n",
    "    approach=\"static\", \n",
    "    backend=\"default\", \n",
    "    tuning_criterion=tuning_criterion, \n",
    "    accuracy_criterion=accuracy_criterion,\n",
    "    calibration_sampling_size=8192\n",
    ")\n",
    "\n",
    "q_model = fit(\n",
    "    quant_model,\n",
    "    conf,\n",
    "    calib_dataloader=val_loader,\n",
    "    eval_func=eval_func)"
   ]
  },
  {
   "cell_type": "code",
   "execution_count": 17,
   "id": "7eeca1b1-e279-49ef-a1d0-6968d7b47d0d",
   "metadata": {
    "tags": []
   },
   "outputs": [
    {
     "ename": "AttributeError",
     "evalue": "'NoneType' object has no attribute 'save'",
     "output_type": "error",
     "traceback": [
      "\u001b[0;31m---------------------------------------------------------------------------\u001b[0m",
      "\u001b[0;31mAttributeError\u001b[0m                            Traceback (most recent call last)",
      "Cell \u001b[0;32mIn[17], line 1\u001b[0m\n\u001b[0;32m----> 1\u001b[0m \u001b[43mq_model\u001b[49m\u001b[38;5;241;43m.\u001b[39;49m\u001b[43msave\u001b[49m(config\u001b[38;5;241m.\u001b[39mRUN_FOLDER \u001b[38;5;241m+\u001b[39m \u001b[38;5;124m\"\u001b[39m\u001b[38;5;124mptq_detector\u001b[39m\u001b[38;5;124m\"\u001b[39m)\n",
      "\u001b[0;31mAttributeError\u001b[0m: 'NoneType' object has no attribute 'save'"
     ]
    }
   ],
   "source": [
    "q_model.save(config.RUN_FOLDER + \"ptq_detector\")"
   ]
  },
  {
   "cell_type": "code",
   "execution_count": null,
   "id": "3a26a38f-e015-4e2e-8621-bd1c45731691",
   "metadata": {
    "tags": []
   },
   "outputs": [],
   "source": [
    "print(q_model)"
   ]
  },
  {
   "cell_type": "code",
   "execution_count": null,
   "id": "c51600c0-5638-468a-b08a-cc051280e19b",
   "metadata": {
    "tags": []
   },
   "outputs": [],
   "source": [
    "for mod in q_model.modules():\n",
    "    print(mod)"
   ]
  },
  {
   "cell_type": "markdown",
   "id": "bb2c02b0-b6a5-465c-bc46-f0d5379d7861",
   "metadata": {},
   "source": [
    "# mAP of Model Quantized"
   ]
  },
  {
   "cell_type": "code",
   "execution_count": null,
   "id": "aecde611-a873-4729-94b1-2630606eaa5a",
   "metadata": {
    "tags": []
   },
   "outputs": [],
   "source": [
    "test_quant_mAP = eval_func(q_model)\n",
    "print(test_quant_mAP)"
   ]
  },
  {
   "cell_type": "code",
   "execution_count": null,
   "id": "1953e86e-48e9-44eb-9958-d8aa16da72cb",
   "metadata": {
    "tags": []
   },
   "outputs": [],
   "source": [
    "logger.info(f'\\nPTQ Quant Model mAP: {test_quant_mAP}')"
   ]
  },
  {
   "cell_type": "code",
   "execution_count": null,
   "id": "12a3bced-5a7a-4e33-a120-6e264889984d",
   "metadata": {},
   "outputs": [],
   "source": [
    "graph_ex = q_model.graph_info"
   ]
  },
  {
   "cell_type": "code",
   "execution_count": null,
   "id": "4226fc02-7666-4378-9ed7-11e9b780f752",
   "metadata": {
    "tags": []
   },
   "outputs": [],
   "source": [
    "graph_ex"
   ]
  },
  {
   "cell_type": "code",
   "execution_count": null,
   "id": "2b47cd4c-0311-494c-9006-abdf892c08bb",
   "metadata": {
    "tags": []
   },
   "outputs": [],
   "source": [
    "q_model.q_config"
   ]
  },
  {
   "cell_type": "code",
   "execution_count": null,
   "id": "24ae2e3a-f17c-4620-985c-a1e1ede4efda",
   "metadata": {},
   "outputs": [],
   "source": [
    "logger.info(graph_ex)"
   ]
  },
  {
   "cell_type": "code",
   "execution_count": null,
   "id": "f4e3a444-45fa-49b1-84a7-a1bcb92a6c2a",
   "metadata": {
    "tags": []
   },
   "outputs": [],
   "source": [
    "q_model.is_quantized"
   ]
  },
  {
   "cell_type": "code",
   "execution_count": null,
   "id": "229f8bb3-120c-45f6-a2d7-8e76a0041ef6",
   "metadata": {
    "tags": []
   },
   "outputs": [],
   "source": [
    "q_model.get_all_weight_names"
   ]
  },
  {
   "cell_type": "code",
   "execution_count": null,
   "id": "e6b9221f-4ed8-428e-801f-e4f4f691cbe8",
   "metadata": {},
   "outputs": [],
   "source": [
    "logger.info(q_model.get_all_weight_names)"
   ]
  },
  {
   "cell_type": "code",
   "execution_count": null,
   "id": "80a35ffa-357b-43bc-85fb-1f38b8bb6109",
   "metadata": {
    "tags": []
   },
   "outputs": [],
   "source": [
    "sparse = q_model.report_sparsity()"
   ]
  },
  {
   "cell_type": "code",
   "execution_count": null,
   "id": "eba9a0d4-9aa1-46f1-a5ca-a752ebc83ca8",
   "metadata": {
    "tags": []
   },
   "outputs": [],
   "source": [
    "print(sparse)\n",
    "logger.info(sparse)"
   ]
  },
  {
   "cell_type": "markdown",
   "id": "c7466a68-4dd6-4aab-b788-27f0b98aea0b",
   "metadata": {},
   "source": [
    "# ONNX Export"
   ]
  },
  {
   "cell_type": "code",
   "execution_count": null,
   "id": "1d4b9a95-a4c5-44e3-b650-f81f778ac6bc",
   "metadata": {
    "tags": []
   },
   "outputs": [],
   "source": [
    "import onnxruntime"
   ]
  },
  {
   "cell_type": "code",
   "execution_count": null,
   "id": "4b42c63b-87e6-4320-98f0-577b48acee03",
   "metadata": {
    "tags": []
   },
   "outputs": [],
   "source": [
    "from neural_compressor.config import Torch2ONNXConfig\n",
    "\n",
    "int8_onnx_config = Torch2ONNXConfig(\n",
    "    dtype=\"int8\",\n",
    "    opset_version=14,\n",
    "    quant_format=\"QOperator\",  # or QDQ\n",
    "    example_inputs=torch.randn(1, 3, 224, 224),\n",
    "    input_names=[\"input\"],\n",
    "    output_names=[\"output\"],\n",
    "    dynamic_axes={\"input\": {0: \"batch_size\"}, \"output\": {0: \"batch_size\"}},\n",
    ")\n",
    "q_model.export(config.RUN_FOLDER + \"int8-model-bed_detector.onnx\", int8_onnx_config)"
   ]
  }
 ],
 "metadata": {
  "kernelspec": {
   "display_name": "Python 3 (ipykernel)",
   "language": "python",
   "name": "python3"
  },
  "language_info": {
   "codemirror_mode": {
    "name": "ipython",
    "version": 3
   },
   "file_extension": ".py",
   "mimetype": "text/x-python",
   "name": "python",
   "nbconvert_exporter": "python",
   "pygments_lexer": "ipython3",
   "version": "3.10.13"
  }
 },
 "nbformat": 4,
 "nbformat_minor": 5
}
