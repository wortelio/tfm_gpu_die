{
 "cells": [
  {
   "cell_type": "code",
   "execution_count": 1,
   "id": "f4735bf5-e98a-44a8-9401-0b26dc7a3522",
   "metadata": {
    "tags": []
   },
   "outputs": [],
   "source": [
    "import modules.utils as utils\n",
    "import torch\n",
    "import time"
   ]
  },
  {
   "cell_type": "markdown",
   "id": "16ddee1e-3112-46f2-8622-0b037652770c",
   "metadata": {},
   "source": [
    "Create ./test_imgs_utils_plot/ folder before testing this notebook"
   ]
  },
  {
   "cell_type": "markdown",
   "id": "576248ed-f89a-4f9c-8c09-75a2713c8383",
   "metadata": {},
   "source": [
    "# Losses "
   ]
  },
  {
   "cell_type": "code",
   "execution_count": 2,
   "id": "831eb832-916b-4b28-ac65-be77c498d75b",
   "metadata": {
    "tags": []
   },
   "outputs": [],
   "source": [
    "train_loss = {\n",
    "    'Total': [100, 90, 80],\n",
    "    'Box': [60, 50, 40],\n",
    "    'Conf': [20, 10, 5],\n",
    "    'No Obj': [10, 8, 4],\n",
    "    'Class': [15, 10, 9]\n",
    "}\n",
    "\n",
    "val_loss = {\n",
    "    'Total': [120, 110, 105],\n",
    "    'Box': [65, 55, 45],\n",
    "    'Conf': [21, 11, 6],\n",
    "    'No Obj': [10.78, 8.78, 4.78],\n",
    "    'Class': [15.45, 10.45, 9.45]\n",
    "}"
   ]
  },
  {
   "cell_type": "code",
   "execution_count": 3,
   "id": "1b8c24b6-79ee-49ad-a458-2fbfd334cde9",
   "metadata": {
    "tags": []
   },
   "outputs": [],
   "source": [
    "epochs_loss = 3\n",
    "epochs_loss_list = []"
   ]
  },
  {
   "cell_type": "code",
   "execution_count": 4,
   "id": "b6d9e32a-6ee1-45da-9a44-9acb67153f6b",
   "metadata": {
    "tags": []
   },
   "outputs": [],
   "source": [
    "# train_losses_logger = utils.LogLosses()\n",
    "# val_losses_logger = utils.LogLosses()\n",
    "\n",
    "# loss_plotter = utils.PlotMetrics(log_path='./test_imgs/', model_name='BED', loss_or_metric='Loss')"
   ]
  },
  {
   "cell_type": "code",
   "execution_count": 5,
   "id": "2e33bf22-f098-4318-8b47-10c8c1207293",
   "metadata": {},
   "outputs": [],
   "source": [
    "# for i in range(epochs_loss):\n",
    "#     epochs_loss_list.append(i*5)\n",
    "    \n",
    "#     train_losses_epoch = {\n",
    "#         'Total': train_loss['Total'][i],\n",
    "#         'Box': train_loss['Box'][i],\n",
    "#         'Conf': train_loss['Conf'][i],\n",
    "#         'No Obj': train_loss['No Obj'][i],\n",
    "#         'Class': train_loss['Class'][i]\n",
    "#     }\n",
    "#     train_losses_logger.update_losses(train_losses_epoch)\n",
    "#     print(f'Train losses of epoch {i}\\n{train_losses_logger.get_losses()}')\n",
    "#     print(utils.print_metrics_to_logger('Train', train_losses_epoch, metrics=None, mAP_available=False))\n",
    "    \n",
    "#     val_losses_epoch = {\n",
    "#         'Total': val_loss['Total'][i],\n",
    "#         'Box': val_loss['Box'][i],\n",
    "#         'Conf': val_loss['Conf'][i],\n",
    "#         'No Obj': val_loss['No Obj'][i],\n",
    "#         'Class': val_loss['Class'][i]\n",
    "#     }\n",
    "#     val_losses_logger.update_losses(val_losses_epoch)\n",
    "#     print(f'Val losses of epoch {i}\\n{val_losses_logger.get_losses()}')\n",
    "#     print(utils.print_metrics_to_logger('Val', val_losses_epoch, metrics=None, mAP_available=False))\n",
    "    \n",
    "#     loss_plotter.plot_all_metrics(\n",
    "#         train_losses_logger.get_losses(),\n",
    "#         val_losses_logger.get_losses(),\n",
    "#         epochs_loss_list)\n",
    "    \n",
    "#     #time.sleep(5)   "
   ]
  },
  {
   "cell_type": "markdown",
   "id": "bd811d7c-9f4f-4fdc-8bfb-09ee8b3a2468",
   "metadata": {},
   "source": [
    "# Metrics"
   ]
  },
  {
   "cell_type": "code",
   "execution_count": 6,
   "id": "b2623576-9884-46f2-9068-a64f59459cd3",
   "metadata": {},
   "outputs": [],
   "source": [
    "train_metrics = {\n",
    "    'mAP': [torch.tensor(0.6), torch.tensor(0.65)],\n",
    "    'AP': [torch.tensor([0.45, 0.55]), torch.tensor([0.46, 0.56])],\n",
    "    'AR': [torch.tensor([0.65, 0.75]), torch.tensor([0.69, 0.79])]\n",
    "}\n",
    "\n",
    "val_metrics = {\n",
    "    'mAP': [torch.tensor(0.55), torch.tensor(0.65)],\n",
    "    'AP': [torch.tensor([0.35, 0.45]), torch.tensor([0.36, 0.46])],\n",
    "    'AR': [torch.tensor([0.25, 0.35]), torch.tensor([0.49, 0.59])]\n",
    "}"
   ]
  },
  {
   "cell_type": "code",
   "execution_count": 7,
   "id": "3db9a7fc-140b-4508-afa9-707f42d64df0",
   "metadata": {},
   "outputs": [],
   "source": [
    "epochs_metrics = 2\n",
    "epochs_metrics_list = []"
   ]
  },
  {
   "cell_type": "code",
   "execution_count": 8,
   "id": "94ead48f-9137-42ff-939c-bfa64f00faa2",
   "metadata": {
    "tags": []
   },
   "outputs": [],
   "source": [
    "train_metrics_logger = utils.LogMetrics()"
   ]
  },
  {
   "cell_type": "code",
   "execution_count": 9,
   "id": "61cc4a68-6fd5-4653-9d74-b816238b69ac",
   "metadata": {
    "tags": []
   },
   "outputs": [
    {
     "name": "stdout",
     "output_type": "stream",
     "text": [
      "Train metrics of epoch 0\n",
      "{'Smoke': {'AP': [0.44999998807907104], 'AR': [0.6499999761581421]}, 'Fire': {'AP': [0.550000011920929], 'AR': [0.75]}, 'mAP': {'mAP': [0.6000000238418579]}}\n",
      "Train metrics of epoch 1\n",
      "{'Smoke': {'AP': [0.44999998807907104, 0.46000000834465027], 'AR': [0.6499999761581421, 0.6899999976158142]}, 'Fire': {'AP': [0.550000011920929, 0.5600000023841858], 'AR': [0.75, 0.7900000214576721]}, 'mAP': {'mAP': [0.6000000238418579, 0.6499999761581421]}}\n"
     ]
    }
   ],
   "source": [
    "for i in range(epochs_metrics):\n",
    "    epochs_metrics_list.append(i*5)\n",
    "    \n",
    "    train_metrics_epoch = {\n",
    "        'mAP': train_metrics['mAP'][i],\n",
    "        'AP': train_metrics['AP'][i],\n",
    "        'AR': train_metrics['AR'][i],\n",
    "    }\n",
    "    train_metrics_logger.update_metrics(train_metrics_epoch)\n",
    "    print(f'Train metrics of epoch {i}\\n{train_metrics_logger.get_metrics()}')"
   ]
  },
  {
   "cell_type": "markdown",
   "id": "65497343-3d22-4d3d-9f9e-92910f81ae55",
   "metadata": {},
   "source": [
    "# Metrics and Losses"
   ]
  },
  {
   "cell_type": "code",
   "execution_count": 10,
   "id": "1c18f6d3-d3ac-4996-aa1e-8623ca3ea92d",
   "metadata": {},
   "outputs": [],
   "source": [
    "train_losses_logger = utils.LogLosses()\n",
    "val_losses_logger = utils.LogLosses()\n",
    "\n",
    "loss_plotter = utils.PlotMetrics(log_path='./test_imgs_utils_plot/', model_name='BED', loss_or_metric='Loss')\n",
    "\n",
    "train_metrics_logger = utils.LogMetrics()\n",
    "val_metrics_logger = utils.LogMetrics()\n",
    "\n",
    "metrics_plotter = utils.PlotMetrics(log_path='./test_imgs_utils_plot/', model_name='BED', loss_or_metric='Metric')"
   ]
  },
  {
   "cell_type": "code",
   "execution_count": 11,
   "id": "ebdfd773-958a-4a17-9547-3c101576f5e0",
   "metadata": {},
   "outputs": [],
   "source": [
    "epochs_metrics = 2\n",
    "epochs_metrics_list = []"
   ]
  },
  {
   "cell_type": "code",
   "execution_count": 12,
   "id": "efe3539d-6a89-4ee1-bd9e-632bc83a8a78",
   "metadata": {
    "tags": []
   },
   "outputs": [
    {
     "name": "stdout",
     "output_type": "stream",
     "text": [
      "Train losses of epoch 0\n",
      "{'Total': [100], 'Box': [60], 'Conf': [20], 'No Obj': [10], 'Class': [15]}\n",
      "Train metrics of epoch 0\n",
      "{'Smoke': {'AP': [0.44999998807907104], 'AR': [0.6499999761581421]}, 'Fire': {'AP': [0.550000011920929], 'AR': [0.75]}, 'mAP': {'mAP': [0.6000000238418579]}}\n",
      "Train\n",
      "Total Loss |Box Loss  |Conf Loss |NoObj Loss|Class Loss|    |Smoke AP   |Smoke AR  |Fire AP   |Fire AR   |mAP:0.50  |\n",
      "-----------|----------|--------------------------------|    |-----------|----------|--------------------------------|\n",
      "100.00     |60.00     |20.00     |10.00     |15.00     |    |0.4500     |0.6500    |0.5500    |0.7500    |0.6000    |\n",
      "\n",
      "Val losses of epoch 0\n",
      "{'Total': [120], 'Box': [65], 'Conf': [21], 'No Obj': [10.78], 'Class': [15.45]}\n",
      "Val metrics of epoch 0\n",
      "{'Smoke': {'AP': [0.3499999940395355], 'AR': [0.25]}, 'Fire': {'AP': [0.44999998807907104], 'AR': [0.3499999940395355]}, 'mAP': {'mAP': [0.550000011920929]}}\n",
      "Val\n",
      "Total Loss |Box Loss  |Conf Loss |NoObj Loss|Class Loss|    |Smoke AP   |Smoke AR  |Fire AP   |Fire AR   |mAP:0.50  |\n",
      "-----------|----------|--------------------------------|    |-----------|----------|--------------------------------|\n",
      "120.00     |65.00     |21.00     |10.78     |15.45     |    |0.3500     |0.2500    |0.4500    |0.3500    |0.5500    |\n",
      "\n",
      "Train losses of epoch 1\n",
      "{'Total': [100, 90], 'Box': [60, 50], 'Conf': [20, 10], 'No Obj': [10, 8], 'Class': [15, 10]}\n",
      "Train metrics of epoch 1\n",
      "{'Smoke': {'AP': [0.44999998807907104, 0.46000000834465027], 'AR': [0.6499999761581421, 0.6899999976158142]}, 'Fire': {'AP': [0.550000011920929, 0.5600000023841858], 'AR': [0.75, 0.7900000214576721]}, 'mAP': {'mAP': [0.6000000238418579, 0.6499999761581421]}}\n",
      "Train\n",
      "Total Loss |Box Loss  |Conf Loss |NoObj Loss|Class Loss|    |Smoke AP   |Smoke AR  |Fire AP   |Fire AR   |mAP:0.50  |\n",
      "-----------|----------|--------------------------------|    |-----------|----------|--------------------------------|\n",
      "90.00      |50.00     |10.00     |8.00      |10.00     |    |0.4600     |0.6900    |0.5600    |0.7900    |0.6500    |\n",
      "\n",
      "Val losses of epoch 1\n",
      "{'Total': [120, 110], 'Box': [65, 55], 'Conf': [21, 11], 'No Obj': [10.78, 8.78], 'Class': [15.45, 10.45]}\n",
      "Val metrics of epoch 1\n",
      "{'Smoke': {'AP': [0.3499999940395355, 0.36000001430511475], 'AR': [0.25, 0.49000000953674316]}, 'Fire': {'AP': [0.44999998807907104, 0.46000000834465027], 'AR': [0.3499999940395355, 0.5899999737739563]}, 'mAP': {'mAP': [0.550000011920929, 0.6499999761581421]}}\n",
      "Val\n",
      "Total Loss |Box Loss  |Conf Loss |NoObj Loss|Class Loss|    |Smoke AP   |Smoke AR  |Fire AP   |Fire AR   |mAP:0.50  |\n",
      "-----------|----------|--------------------------------|    |-----------|----------|--------------------------------|\n",
      "110.00     |55.00     |11.00     |8.78      |10.45     |    |0.3600     |0.4900    |0.4600    |0.5900    |0.6500    |\n",
      "\n"
     ]
    }
   ],
   "source": [
    "# Only 2 epochs of mAP\n",
    "for i in range(epochs_metrics):\n",
    "    epochs_metrics_list.append(i*5)\n",
    "    \n",
    "    train_losses_epoch = {\n",
    "        'Total': train_loss['Total'][i],\n",
    "        'Box': train_loss['Box'][i],\n",
    "        'Conf': train_loss['Conf'][i],\n",
    "        'No Obj': train_loss['No Obj'][i],\n",
    "        'Class': train_loss['Class'][i]\n",
    "    }\n",
    "    train_metrics_epoch = {\n",
    "        'mAP': train_metrics['mAP'][i],\n",
    "        'AP': train_metrics['AP'][i],\n",
    "        'AR': train_metrics['AR'][i],\n",
    "    }\n",
    "    train_losses_logger.update_losses(train_losses_epoch)\n",
    "    print(f'Train losses of epoch {i}\\n{train_losses_logger.get_losses()}')\n",
    "    train_metrics_logger.update_metrics(train_metrics_epoch)\n",
    "    print(f'Train metrics of epoch {i}\\n{train_metrics_logger.get_metrics()}')\n",
    "    print(utils.print_metrics_to_logger('Train', train_losses_epoch, train_metrics_epoch, mAP_available=True))\n",
    "    \n",
    "    val_losses_epoch = {\n",
    "        'Total': val_loss['Total'][i],\n",
    "        'Box': val_loss['Box'][i],\n",
    "        'Conf': val_loss['Conf'][i],\n",
    "        'No Obj': val_loss['No Obj'][i],\n",
    "        'Class': val_loss['Class'][i]\n",
    "    }\n",
    "    val_metrics_epoch = {\n",
    "        'mAP': val_metrics['mAP'][i],\n",
    "        'AP': val_metrics['AP'][i],\n",
    "        'AR': val_metrics['AR'][i],\n",
    "    }\n",
    "    val_losses_logger.update_losses(val_losses_epoch)\n",
    "    print(f'Val losses of epoch {i}\\n{val_losses_logger.get_losses()}')\n",
    "    val_metrics_logger.update_metrics(val_metrics_epoch)\n",
    "    print(f'Val metrics of epoch {i}\\n{val_metrics_logger.get_metrics()}')\n",
    "    print(utils.print_metrics_to_logger('Val', val_losses_epoch, val_metrics_epoch, mAP_available=True))\n",
    "    \n",
    "    loss_plotter.plot_all_metrics(\n",
    "        train_losses_logger.get_losses(),\n",
    "        val_losses_logger.get_losses(),\n",
    "        epochs_metrics_list)\n",
    "    \n",
    "    metrics_plotter.plot_all_metrics(\n",
    "        train_metrics_logger.get_metrics(),\n",
    "        val_metrics_logger.get_metrics(),\n",
    "        epochs_metrics_list)\n",
    "    \n",
    "    time.sleep(1)   "
   ]
  },
  {
   "cell_type": "code",
   "execution_count": null,
   "id": "80c5aea6-cd47-42c2-b1c5-52c9986720a6",
   "metadata": {},
   "outputs": [],
   "source": []
  }
 ],
 "metadata": {
  "kernelspec": {
   "display_name": "Python 3 (ipykernel)",
   "language": "python",
   "name": "python3"
  },
  "language_info": {
   "codemirror_mode": {
    "name": "ipython",
    "version": 3
   },
   "file_extension": ".py",
   "mimetype": "text/x-python",
   "name": "python",
   "nbconvert_exporter": "python",
   "pygments_lexer": "ipython3",
   "version": "3.10.13"
  }
 },
 "nbformat": 4,
 "nbformat_minor": 5
}
