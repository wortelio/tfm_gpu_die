{
 "cells": [
  {
   "cell_type": "code",
   "execution_count": 1,
   "id": "88b9b809-5b89-46a4-a489-930e0939249b",
   "metadata": {
    "tags": []
   },
   "outputs": [],
   "source": [
    "import modules.loss as loss_module\n",
    "import modules.metrics as metrics\n",
    "import modules.utils as utils\n",
    "import config\n",
    "\n",
    "import matplotlib.pyplot as plt\n",
    "import torch\n",
    "import numpy as np\n",
    "import cv2"
   ]
  },
  {
   "cell_type": "markdown",
   "id": "1bb9b1be-1edb-431b-b5d0-0e2f335b398a",
   "metadata": {},
   "source": [
    "# Target and Label\n",
    "\n",
    "$$\n",
    "target = [x_{Cell}, y_{Cell}, w, h, 1, smoke, fire] \n",
    "$$\n",
    "\n",
    "$$\n",
    "label = [x_{Cell_1}, y_{Cell_1}, w_{1}, h_{1}, score_{1}, x_{Cell_2}, y_{Cell_2}, w_{2}, h_{2}, score_{2}, smoke, fire]\n",
    "$$"
   ]
  },
  {
   "cell_type": "code",
   "execution_count": 2,
   "id": "f17dde53-c570-47a6-99c0-82f307cbe1cc",
   "metadata": {
    "tags": []
   },
   "outputs": [],
   "source": [
    "target_shape = (config.S, config.S, 5 + config.C)\n",
    "target_1 = torch.tensor(np.zeros(target_shape), dtype=torch.float32).unsqueeze(dim=0)\n",
    "\n",
    "target_2 = torch.tensor(np.zeros(target_shape), dtype=torch.float32).unsqueeze(dim=0)\n",
    "\n",
    "target_batch = torch.concat([target_1, target_2])\n",
    "\n",
    "pred_shape = (config.S, config.S, 5*config.B + config.C)\n",
    "pred_1 = torch.tensor(np.zeros(pred_shape), dtype=torch.float32).unsqueeze(dim=0)\n",
    "\n",
    "pred_2 = torch.tensor(np.zeros(pred_shape), dtype=torch.float32).unsqueeze(dim=0)\n",
    "\n",
    "pred_batch = torch.concat([pred_1, pred_2])"
   ]
  },
  {
   "cell_type": "code",
   "execution_count": 3,
   "id": "d05aa812-f7b5-43fb-bb73-049354701aaf",
   "metadata": {
    "tags": []
   },
   "outputs": [
    {
     "name": "stdout",
     "output_type": "stream",
     "text": [
      "Target batch shape: torch.Size([2, 7, 7, 7])\n",
      "Label batch shape: torch.Size([2, 7, 7, 12])\n"
     ]
    }
   ],
   "source": [
    "print(f'Target batch shape: {target_batch.shape}')\n",
    "print(f'Label batch shape: {pred_batch.shape}')"
   ]
  },
  {
   "cell_type": "markdown",
   "id": "e60a3839-f5a8-48f2-b492-f2998aa95f8f",
   "metadata": {},
   "source": [
    "### Create Manual Targets and Labels"
   ]
  },
  {
   "cell_type": "markdown",
   "id": "eeff7d5e-a39f-4148-806c-f321b30885aa",
   "metadata": {},
   "source": [
    "### Targets"
   ]
  },
  {
   "cell_type": "code",
   "execution_count": 4,
   "id": "59bd9789-6ea6-4c9d-bbaa-efc6f6d39443",
   "metadata": {
    "tags": []
   },
   "outputs": [],
   "source": [
    "# 1st target\n",
    "target_batch[0, 2, 3] = torch.tensor(np.array([0.5, 0.4, 0.25, 0.15, 1, 1, 0])) # Smoke\n",
    "target_batch[0, 4, 5] = torch.tensor(np.array([0.25, 0.75, 0.6, 0.4, 1, 0, 1])) # Fire\n",
    "\n",
    "# 2nd target\n",
    "target_batch[1, 6, 6] = torch.tensor(np.array([0.5, 0.4, 0.1, 0.1, 1, 1, 0])) # Smoke\n",
    "target_batch[1, 0, 0] = torch.tensor(np.array([0.8, 0.9, 0.2, 0.2, 1, 0, 1])) # Fire"
   ]
  },
  {
   "cell_type": "markdown",
   "id": "b3f971fe-a142-4b93-982a-5de26ccfd567",
   "metadata": {},
   "source": [
    "### Plot Target Images Over White Background"
   ]
  },
  {
   "cell_type": "code",
   "execution_count": 5,
   "id": "97cf96a8-fe04-4127-bd68-af1693b43667",
   "metadata": {
    "tags": []
   },
   "outputs": [],
   "source": [
    "img = ( np.ones((config.IMG_H, config.IMG_W, 3), dtype=np.float32) *255 ) / 256\n",
    "img = torch.tensor(img).permute(2, 0, 1)"
   ]
  },
  {
   "cell_type": "code",
   "execution_count": 6,
   "id": "506ab9d4-db3f-4cb7-974e-f982a04a9c51",
   "metadata": {
    "tags": []
   },
   "outputs": [
    {
     "data": {
      "image/png": "[encoded data removed]",
      "text/plain": [
       "<Figure size 600x300 with 2 Axes>"
      ]
     },
     "metadata": {},
     "output_type": "display_data"
    }
   ],
   "source": [
    "fig, ax = plt.subplots(1, 2, figsize=(6, 3))\n",
    "\n",
    "# 1st Target\n",
    "pic_target_1 = utils.plot_dataset_img(img.detach().clone(), target_batch[0], grid=True)\n",
    "plt.subplot(1, 2, 1)\n",
    "ax[0].imshow(pic_target_1)\n",
    "\n",
    "# 1st Target\n",
    "pic_target_2 = utils.plot_dataset_img(img.detach().clone(), target_batch[1], grid=True)\n",
    "plt.subplot(1, 2, 2)\n",
    "ax[1].imshow(pic_target_2)\n",
    "\n",
    "plt.show()"
   ]
  },
  {
   "cell_type": "markdown",
   "id": "2902b895-fc16-4baf-b839-97061c8a2d6d",
   "metadata": {},
   "source": [
    "# Labels"
   ]
  },
  {
   "cell_type": "code",
   "execution_count": 7,
   "id": "493b76c8-a37e-45fd-b1a1-5f6bd993ac9b",
   "metadata": {
    "tags": []
   },
   "outputs": [],
   "source": [
    "# 1st label: 2BB\n",
    "pred_batch[0, 2, 3, :5] = torch.tensor(np.array([0.5, 0.4, 0.25, 0.15, 0.8])) # bbox 1: best\n",
    "pred_batch[0, 2, 3, 5:10] = torch.tensor(np.array([0.51, 0.4, 0.25, 0.15, 0.9])) # bbox 2\n",
    "pred_batch[0, 2, 3, 10:12] = torch.tensor(np.array([1, 0])) # Smoke\n",
    "\n",
    "# Threshold not reached: 0.5\n",
    "pred_batch[0, 4, 5, :5] = torch.tensor(np.array([0.26, 0.75, 0.1, 0.1, 0.7])) # Fire\n",
    "pred_batch[0, 4, 5, 5:10] = torch.tensor(np.array([0.25, 0.75, 0.6, 0.4, 0.3])) # Fire: best\n",
    "pred_batch[0, 4, 5, 10:12] = torch.tensor(np.array([0, 1])) # Fire\n",
    "\n",
    "# 2nd label: 2BB -> 1 detection is wrong\n",
    "pred_batch[1, 6, 6, :5] = torch.tensor(np.array([0.5, 0.4, 0.1, 0.1, 0.7])) # Smoke\n",
    "pred_batch[1, 6, 6, 5:10] = torch.tensor(np.array([0.53, 0.4, 0.1, 0.1, 0.2])) # Smoke\n",
    "pred_batch[1, 6, 6, 10:12] = torch.tensor(np.array([1, 0])) # Smoke\n",
    "\n",
    "pred_batch[1, 0, 0, :5] = torch.tensor(np.array([0.81, 0.9, 0.2, 0.2, 0.6])) # Fire\n",
    "pred_batch[1, 0, 0, 5:10] = torch.tensor(np.array([0.8, 0.9, 0.2, 0.2, 0.6])) # Fire\n",
    "pred_batch[1, 0, 0, 10:12] = torch.tensor(np.array([0, 1])) # Smoke -> wrong class, Fire -> right class. Testing\n",
    "\n",
    "# Adding a Prediction to 2nd batch, to test No Obj Loss\n",
    "pred_batch[1, 3, 3, :5] = torch.tensor(np.array([0.81, 0.9, 0.2, 0.2, 0.71])) # Fire\n",
    "pred_batch[1, 3, 3, 5:10] = torch.tensor(np.array([0.8, 0.9, 0.2, 0.2, 0.51])) # Fire\n",
    "pred_batch[1, 3, 3, 10:12] = torch.tensor(np.array([0, 1])) "
   ]
  },
  {
   "cell_type": "markdown",
   "id": "bec2cf71-e41e-4435-9b1d-4047753512e2",
   "metadata": {},
   "source": [
    "Results change depending on the order high -> down of the scores."
   ]
  },
  {
   "cell_type": "markdown",
   "id": "e3b9ae85-cf11-479a-ae03-6fe957fffb3f",
   "metadata": {},
   "source": [
    "### Get BBoxes from Model Out"
   ]
  },
  {
   "cell_type": "code",
   "execution_count": 8,
   "id": "c639d3a3-f368-4bf6-aa4a-35e5f6568f47",
   "metadata": {
    "tags": []
   },
   "outputs": [],
   "source": [
    "def get_2_bboxes_from_model_output(out_mtx):\n",
    "    '''\n",
    "    Receives a label_mtx, as yielded by dataset or dataloader and returns a list of bounding boxes.\n",
    "    \n",
    "    Arguments:\n",
    "        - label_mtx\n",
    "    \n",
    "    Returns:\n",
    "        - bboxes_list: list with all cells containing score = 1\n",
    "            [xcell, ycell, w, h, score, smoke, fire] -> [x, y, w, h, 1, smoke, fire]\n",
    "    '''\n",
    "\n",
    "    c2b_mtx = np.zeros((config.S, config.S, 2))\n",
    "    for j in range(config.S):\n",
    "        for i in range(config.S):\n",
    "            c2b_mtx[i, j, 0] = j\n",
    "            c2b_mtx[i, j, 1] = i\n",
    "\n",
    "    out_mtx = out_mtx.numpy()\n",
    "    out_xy_1 = out_mtx[..., :2]\n",
    "    out_xy_2 = out_mtx[..., 5:7]\n",
    "    out_rest_1 = out_mtx[..., 2:5]\n",
    "    out_rest_2 = out_mtx[..., 7:10]\n",
    "    out_classes = out_mtx[..., 10:12]\n",
    "\n",
    "    c2b_xy_1 = (c2b_mtx+out_xy_1)/config.S\n",
    "    c2b_xy_2 = (c2b_mtx+out_xy_2)/config.S\n",
    "\n",
    "    out_1 = np.concatenate((c2b_xy_1, out_rest_1, out_classes), axis=-1)\n",
    "    out_2 = np.concatenate((c2b_xy_2, out_rest_2, out_classes), axis=-1)\n",
    "    #print(f'Out1 shape\\n {out_1.shape}')\n",
    "\n",
    "    bboxes_list_1 = np.reshape(out_1, (config.S*config.S, 5+config.C))\n",
    "    bboxes_list_2 = np.reshape(out_2, (config.S*config.S, 5+config.C))\n",
    "    \n",
    "    bboxes_list = np.concatenate((bboxes_list_1, bboxes_list_2), axis=0)\n",
    "\n",
    "    bboxes_list = [bbox for bbox in bboxes_list.tolist() if bbox[4]>=config.SCORE_THRESHOLD]\n",
    "\n",
    "    return bboxes_list"
   ]
  },
  {
   "cell_type": "code",
   "execution_count": 9,
   "id": "7987dfd8-8329-4a7c-ae6c-92fa920e6402",
   "metadata": {
    "tags": []
   },
   "outputs": [
    {
     "name": "stdout",
     "output_type": "stream",
     "text": [
      "[0.5, 0.3428571437086378, 0.25, 0.15000000596046448, 0.800000011920929, 1.0, 0.0]\n",
      "[0.7514285700661796, 0.6785714285714286, 0.10000000149011612, 0.10000000149011612, 0.699999988079071, 0.0, 1.0]\n",
      "[0.5014285700661796, 0.3428571437086378, 0.25, 0.15000000596046448, 0.8999999761581421, 1.0, 0.0]\n"
     ]
    }
   ],
   "source": [
    "bboxes_pred_batch_1 = get_2_bboxes_from_model_output(pred_batch[0])\n",
    "for box in bboxes_pred_batch_1:\n",
    "    print(box)"
   ]
  },
  {
   "cell_type": "markdown",
   "id": "1e849511-65b0-42c4-85b5-2af1d1d50a56",
   "metadata": {},
   "source": [
    "### Plot Out BBoxes Before NMS"
   ]
  },
  {
   "cell_type": "code",
   "execution_count": 10,
   "id": "6ed7fd24-edff-4bfb-bdc2-815ba62146d6",
   "metadata": {
    "tags": []
   },
   "outputs": [],
   "source": [
    "def plot_grid(img):\n",
    "    '''\n",
    "    Plot grid on top of the picture\n",
    "    '''\n",
    "      \n",
    "    cell_size = int(config.IMG_W / config.S)\n",
    "    \n",
    "    # Draw horizontal lines\n",
    "    for i in range(1, config.S):\n",
    "        cv2.line(img, (0, cell_size*i), (config.IMG_W-1, cell_size*i), config.GRID_COLOR, 1)\n",
    "    # Draw vertical lines\n",
    "    for j in range(1, config.S):\n",
    "        cv2.line(img, (cell_size*j, 0), (cell_size*j, config.IMG_H-1), config.GRID_COLOR, 1)\n",
    "        \n",
    "    return img"
   ]
  },
  {
   "cell_type": "code",
   "execution_count": 11,
   "id": "9489edde-cede-49cb-878d-62e6cfc2f452",
   "metadata": {
    "tags": []
   },
   "outputs": [],
   "source": [
    "def plot_model_out_img(img, out_mtx, grid=False):\n",
    "    '''\n",
    "    It draws the bounding boxes over the image.\n",
    "\n",
    "    Arguments:\n",
    "        - ori_img: original image with no modification or letterbox\n",
    "        - label_mtx: [xcell, ycell, w, h, score=1, smoke, fire]\n",
    "        - grid: plot grid over the image\n",
    "\n",
    "    Returns:\n",
    "        - pic: picture with bounding boxes on top of original picture\n",
    "    '''\n",
    "\n",
    "    # NEVER remove copy() or use np.ascontiguousarray()\n",
    "    # Convert pytorch tensor to numpy\n",
    "    img = img.permute(1, 2, 0) * 256\n",
    "    img = img.numpy().astype(np.uint8).copy()   \n",
    "       \n",
    "    if grid == True:\n",
    "        img = plot_grid(img)\n",
    "    \n",
    "    bboxes = get_2_bboxes_from_model_output(out_mtx)\n",
    "\n",
    "    for i,(xc, yc, w, h, score, smoke, fire) in enumerate(bboxes):\n",
    "        xmin, ymin, xmax, ymax = xc - w/2, yc - h/2, xc + w/2, yc + h/2\n",
    "        box = np.array([xmin, ymin, xmax, ymax]).astype(np.float32)\n",
    "        box[0] = box[0]*config.IMG_W\n",
    "        np.clip(box[0], 0, None)\n",
    "        box[1] = box[1]*config.IMG_H\n",
    "        np.clip(box[1], 0, None)\n",
    "        box[2] = box[2]*config.IMG_W - 1 # avoid out of limits due to rounding\n",
    "        box[3] = box[3]*config.IMG_H - 1 # avoid out of limits due to rounding\n",
    "        box = box.round().astype(np.int32).tolist()\n",
    "        #print(f'Box after conversion\\n{box}')\n",
    "        if smoke == 1:\n",
    "            class_id = 0\n",
    "        elif fire == 1:\n",
    "            class_id = 1\n",
    "        else:\n",
    "            print(\"Wrong Class ID\")\n",
    "        name = config.CLASSES[class_id]\n",
    "        color = config.BBOX_COLORS[name]\n",
    "        name += f'{score:.4f}'\n",
    "        cv2.rectangle(img, box[:2], box[2:], color, 1) \n",
    "        if box[1] < 30:\n",
    "            if class_id == 0:\n",
    "                cv2.rectangle(img, [box[0], box[1]+15], [box[0]+55, box[1]], color, -1) \n",
    "            else:\n",
    "                cv2.rectangle(img, [box[0], box[1]+15], [box[0]+25, box[1]], color, -1) \n",
    "            cv2.putText(img,name,(box[0], box[1] + 12),\n",
    "                        cv2.FONT_HERSHEY_SIMPLEX, 0.5, [0, 0, 0],\n",
    "                        thickness=1)  # 0.5 -> font size\n",
    "        else:\n",
    "            if class_id == 0:\n",
    "                cv2.rectangle(img, [box[0], box[1]-20], [box[0]+55, box[1]], color, -1) \n",
    "            else:\n",
    "                cv2.rectangle(img, [box[0], box[1]-20], [box[0]+25, box[1]], color, -1) \n",
    "            cv2.putText(img,name,(box[0], box[1] - 5),\n",
    "                        cv2.FONT_HERSHEY_SIMPLEX, 0.5, [0, 0, 0],\n",
    "                        thickness=1)  # 0.5 -> font size\n",
    "\n",
    "    return img"
   ]
  },
  {
   "cell_type": "markdown",
   "id": "32fddec8-c94b-49e8-8631-b071ede7a3ab",
   "metadata": {},
   "source": [
    "Scores and Boxes Overlap when 2 BBoxes confidence is above score threshold"
   ]
  },
  {
   "cell_type": "code",
   "execution_count": 12,
   "id": "0854822e-2aa2-47ab-bf47-a89cec7f1f33",
   "metadata": {
    "tags": []
   },
   "outputs": [
    {
     "data": {
      "image/png": "[encoded data removed]",
      "text/plain": [
       "<Figure size 600x300 with 2 Axes>"
      ]
     },
     "metadata": {},
     "output_type": "display_data"
    }
   ],
   "source": [
    "fig, ax = plt.subplots(1, 2, figsize=(6, 3))\n",
    "\n",
    "# 1st Target\n",
    "pic_label_1 = plot_model_out_img(img.detach().clone(), pred_batch[0], grid=True)\n",
    "plt.subplot(1, 2, 1)\n",
    "ax[0].imshow(pic_label_1)\n",
    "\n",
    "# 1st Target\n",
    "pic_label_2 = plot_model_out_img(img.detach().clone(), pred_batch[1], grid=True)\n",
    "plt.subplot(1, 2, 2)\n",
    "ax[1].imshow(pic_label_2)\n",
    "\n",
    "plt.show()"
   ]
  },
  {
   "cell_type": "markdown",
   "id": "7e0b7cc4-d7d4-46fc-bd38-b66d88045731",
   "metadata": {},
   "source": [
    "# Loss Results"
   ]
  },
  {
   "cell_type": "code",
   "execution_count": 13,
   "id": "9c09a1ce-26a7-4f4c-a07b-1fd54262c792",
   "metadata": {
    "tags": []
   },
   "outputs": [],
   "source": [
    "loss_fn = loss_module.YoloLoss_2BBox()"
   ]
  },
  {
   "cell_type": "code",
   "execution_count": 14,
   "id": "fee69e17-6d8c-4856-af61-ba7f5ef56444",
   "metadata": {
    "tags": []
   },
   "outputs": [
    {
     "name": "stdout",
     "output_type": "stream",
     "text": [
      "tensor(1.1621)\n",
      "(0.0, 5.67501601267395e-11, 0.7799999713897705, 0.382099986076355, 0.0)\n"
     ]
    }
   ],
   "source": [
    "losses = loss_fn(\n",
    "    ground_truth=target_batch,\n",
    "    predictions=pred_batch)\n",
    "\n",
    "print(losses)\n",
    "print(loss_fn.get_last_losses())"
   ]
  },
  {
   "cell_type": "markdown",
   "id": "d68c8a09-2cd0-42ee-8917-5389a909c626",
   "metadata": {},
   "source": [
    "It is normal that XY losses is 0, as IOU is better for boxes with less score, so it is preferred.\n",
    "\n",
    "On the other hand, during real predictions, higher score is preferred."
   ]
  },
  {
   "cell_type": "markdown",
   "id": "b5629645-9de3-4ed6-a28b-68c737449e33",
   "metadata": {},
   "source": [
    "# mAP, AP and AR Metrics"
   ]
  },
  {
   "cell_type": "markdown",
   "id": "2ae0bdea-1856-406d-b481-68620536db73",
   "metadata": {},
   "source": [
    "### Target Boxes"
   ]
  },
  {
   "cell_type": "code",
   "execution_count": 15,
   "id": "460ecfed-49b3-4951-8f0e-87807f8ac7bb",
   "metadata": {
    "tags": []
   },
   "outputs": [
    {
     "name": "stdout",
     "output_type": "stream",
     "text": [
      "[{'boxes': tensor([[ 84.0000,  60.0000, 140.0000,  93.6000],\n",
      "        [100.8000, 107.2000, 235.2000, 196.8000]], device='cuda:0'), 'labels': tensor([0, 1], device='cuda:0', dtype=torch.int32)}]\n"
     ]
    }
   ],
   "source": [
    "target_boxes = metrics.get_true_boxes(target_batch[0])\n",
    "print(target_boxes)"
   ]
  },
  {
   "cell_type": "markdown",
   "id": "7d0e6609-556f-4e05-ba9a-b6286a4fedf7",
   "metadata": {},
   "source": [
    "Check true boxes are ok:\n",
    "- Original xyxy coordinates\n",
    "$$\n",
    "x_{min} = 84\\\\\n",
    "y_{min} = 60\\\\\n",
    "x_{max} = 140\\\\\n",
    "y_{max} = 93.6\\\\\n",
    "$$\n",
    "- XYWH coordinates\n",
    "$$\n",
    "x_{center} = 112\\\\\n",
    "y_{center} = 76.8\\\\\n",
    "w = 56\\\\\n",
    "h = 33.6\\\\\n",
    "$$\n",
    "- Yolo coordinates: normalization by IMG_H, IMG_W\n",
    "$$\n",
    "x_{center} = 0.5\\\\\n",
    "y_{center} = 0.3429\\\\\n",
    "w = 0.25\\\\\n",
    "h = 0.15\\\\\n",
    "$$\n",
    "- Encode to cell coordinates\n",
    "$$\n",
    "j = int(x_{center}*7) = 3\\\\\n",
    "x_{cell} = x_{center}*7 - j = 3.5 - 3 = 0.5\\\\\n",
    "i = int(y_{center}*7) = 2\\\\\n",
    "y_{cell} = y_{center}*7 - i = 2.4 - 2 = 0.4\\\\\n",
    "w = 0.25\\\\\n",
    "h = 0.15\\\\\n",
    "$$"
   ]
  },
  {
   "cell_type": "markdown",
   "id": "a71fc7db-960b-4827-b27f-021519ceef26",
   "metadata": {},
   "source": [
    "### Predicted Boxes"
   ]
  },
  {
   "cell_type": "code",
   "execution_count": 16,
   "id": "54f7bd0d-4e51-46e8-892a-c55615896bb2",
   "metadata": {
    "tags": []
   },
   "outputs": [
    {
     "name": "stdout",
     "output_type": "stream",
     "text": [
      "[{'boxes': tensor([[ 84.3200,  60.0000, 140.3200,  93.6000],\n",
      "        [157.1200, 140.8000, 179.5200, 163.2000]], device='cuda:0'), 'scores': tensor([0.9000, 0.7000], device='cuda:0'), 'labels': tensor([0, 1], device='cuda:0', dtype=torch.int32)}]\n"
     ]
    }
   ],
   "source": [
    "predicted_boxes = metrics.get_pred_boxes(pred_batch[0])\n",
    "print(predicted_boxes)"
   ]
  },
  {
   "cell_type": "markdown",
   "id": "ac3a9f57-0572-4c3c-9952-8850b902140a",
   "metadata": {},
   "source": [
    "## Compute 1st Batch\n",
    "\n",
    "Syntax: \n",
    "- metric.update(preds, target)"
   ]
  },
  {
   "cell_type": "code",
   "execution_count": 17,
   "id": "d321f1aa-e1d0-46df-ba4a-ec7c4c137bf7",
   "metadata": {
    "tags": []
   },
   "outputs": [],
   "source": [
    "metrics.map_metric.update(\n",
    "    preds=predicted_boxes,\n",
    "    target=target_boxes)"
   ]
  },
  {
   "cell_type": "code",
   "execution_count": 18,
   "id": "a7370e35-7304-4dfb-8ba0-1b78e2f3ca11",
   "metadata": {
    "tags": []
   },
   "outputs": [
    {
     "name": "stdout",
     "output_type": "stream",
     "text": [
      "{'map': tensor(0.5000), 'map_50': tensor(0.5000), 'map_75': tensor(-1.), 'map_small': tensor(-1.), 'map_medium': tensor(1.), 'map_large': tensor(0.), 'mar_1': tensor(0.5000), 'mar_10': tensor(0.5000), 'mar_100': tensor(0.5000), 'mar_small': tensor(-1.), 'mar_medium': tensor(1.), 'mar_large': tensor(0.), 'map_per_class': tensor([1., 0.]), 'mar_100_per_class': tensor([1., 0.]), 'classes': tensor([0, 1], dtype=torch.int32)}\n"
     ]
    }
   ],
   "source": [
    "mAP_results = metrics.map_metric.compute()\n",
    "print(mAP_results)"
   ]
  },
  {
   "cell_type": "markdown",
   "id": "7a3c27db-ded7-4ec6-bf5e-ef7c4f05e474",
   "metadata": {},
   "source": [
    "## Compute 1st and 2nd Batch"
   ]
  },
  {
   "cell_type": "code",
   "execution_count": 19,
   "id": "f8251148-7339-4bc5-88ac-fa6f0b2e9c01",
   "metadata": {},
   "outputs": [],
   "source": [
    "metrics.map_metric.reset()"
   ]
  },
  {
   "cell_type": "markdown",
   "id": "aa873d31-c70d-4db4-9ddd-12a25e68d1cf",
   "metadata": {},
   "source": [
    "### Target Boxes"
   ]
  },
  {
   "cell_type": "code",
   "execution_count": 20,
   "id": "cf4acbda-62ed-484d-815f-e1225d2ad2a5",
   "metadata": {},
   "outputs": [
    {
     "name": "stdout",
     "output_type": "stream",
     "text": [
      "[{'boxes': tensor([[ 84.0000,  60.0000, 140.0000,  93.6000],\n",
      "        [100.8000, 107.2000, 235.2000, 196.8000]], device='cuda:0'), 'labels': tensor([0, 1], device='cuda:0', dtype=torch.int32)}]\n",
      "[{'boxes': tensor([[  3.2000,   6.4000,  48.0000,  51.2000],\n",
      "        [196.8000, 193.6000, 219.2000, 216.0000]], device='cuda:0'), 'labels': tensor([1, 0], device='cuda:0', dtype=torch.int32)}]\n"
     ]
    }
   ],
   "source": [
    "target_boxes_1 = metrics.get_true_boxes(target_batch[0])\n",
    "print(target_boxes_1)\n",
    "\n",
    "target_boxes_2 = metrics.get_true_boxes(target_batch[1])\n",
    "print(target_boxes_2)"
   ]
  },
  {
   "cell_type": "markdown",
   "id": "e3697a32-c81c-403e-9cbb-da8d49094606",
   "metadata": {},
   "source": [
    "### Predicted Boxes"
   ]
  },
  {
   "cell_type": "code",
   "execution_count": 21,
   "id": "a8636812-fb30-4f5d-8f45-5571c78a1a5c",
   "metadata": {},
   "outputs": [
    {
     "name": "stdout",
     "output_type": "stream",
     "text": [
      "[{'boxes': tensor([[ 84.3200,  60.0000, 140.3200,  93.6000],\n",
      "        [157.1200, 140.8000, 179.5200, 163.2000]], device='cuda:0'), 'scores': tensor([0.9000, 0.7000], device='cuda:0'), 'labels': tensor([0, 1], device='cuda:0', dtype=torch.int32)}]\n",
      "[{'boxes': tensor([[ 99.5200, 102.4000, 144.3200, 147.2000],\n",
      "        [196.8000, 193.6000, 219.2000, 216.0000],\n",
      "        [  3.5200,   6.4000,  48.3200,  51.2000]], device='cuda:0'), 'scores': tensor([0.7100, 0.7000, 0.6000], device='cuda:0'), 'labels': tensor([1, 0, 1], device='cuda:0', dtype=torch.int32)}]\n"
     ]
    }
   ],
   "source": [
    "predicted_boxes_1 = metrics.get_pred_boxes(pred_batch[0])\n",
    "print(predicted_boxes_1)\n",
    "\n",
    "predicted_boxes_2 = metrics.get_pred_boxes(pred_batch[1])\n",
    "print(predicted_boxes_2)"
   ]
  },
  {
   "cell_type": "markdown",
   "id": "13008c40-e78d-46c8-a23c-5e709dc8426b",
   "metadata": {},
   "source": [
    "### Compute"
   ]
  },
  {
   "cell_type": "code",
   "execution_count": 22,
   "id": "0833acdc-c335-42a4-8bb9-6b31cf00434d",
   "metadata": {
    "tags": []
   },
   "outputs": [
    {
     "name": "stdout",
     "output_type": "stream",
     "text": [
      "{'map': tensor(0.5842), 'map_50': tensor(0.5842), 'map_75': tensor(-1.), 'map_small': tensor(1.), 'map_medium': tensor(0.7500), 'map_large': tensor(0.), 'mar_1': tensor(0.5000), 'mar_10': tensor(0.7500), 'mar_100': tensor(0.7500), 'mar_small': tensor(1.), 'mar_medium': tensor(1.), 'mar_large': tensor(0.), 'map_per_class': tensor([1.0000, 0.1683]), 'mar_100_per_class': tensor([1.0000, 0.5000]), 'classes': tensor([0, 1], dtype=torch.int32)}\n"
     ]
    }
   ],
   "source": [
    "metrics.map_metric.update(\n",
    "    preds=predicted_boxes_1,\n",
    "    target=target_boxes_1)\n",
    "\n",
    "metrics.map_metric.update(\n",
    "    preds=predicted_boxes_2,\n",
    "    target=target_boxes_2)\n",
    "\n",
    "mAP_results = metrics.map_metric.compute()\n",
    "print(mAP_results)"
   ]
  }
 ],
 "metadata": {
  "kernelspec": {
   "display_name": "Python 3 (ipykernel)",
   "language": "python",
   "name": "python3"
  },
  "language_info": {
   "codemirror_mode": {
    "name": "ipython",
    "version": 3
   },
   "file_extension": ".py",
   "mimetype": "text/x-python",
   "name": "python",
   "nbconvert_exporter": "python",
   "pygments_lexer": "ipython3",
   "version": "3.10.13"
  }
 },
 "nbformat": 4,
 "nbformat_minor": 5
}
