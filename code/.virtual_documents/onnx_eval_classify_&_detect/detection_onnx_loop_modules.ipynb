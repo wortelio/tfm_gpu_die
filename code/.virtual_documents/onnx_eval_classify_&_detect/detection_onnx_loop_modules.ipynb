import modules.yolov1_inference_utils as yv1
import onnx
import onnxruntime
import matplotlib.pyplot as plt





img_file = './WEB10437.jpg'
img_to_model = yv1.preprocess_image_for_prediction(img_file)





detector_models_folder = './onnx_detection_models/'
detector_onnx_filename = detector_models_folder + 'w8a8b8__bed_detector___aimet__fixed_point__qcdq__CPU.onnx'
detector_check = onnx.load(detector_onnx_filename)
onnx.checker.check_model(detector_check)
print("ONNX checked ok")
detect_session = onnxruntime.InferenceSession(detector_onnx_filename, providers=["CPUExecutionProvider"])





model_out = yv1.onnx_predict(img_to_model, detect_session)


print("Print Boxes")
yv1.get_bboxes_from_model_out(model_out)





img = yv1.preprocess_image_for_plotting(img_file)
img_to_plot = yv1.plot_predicted_img(img, model_out)


plt.imshow(img_to_plot)
plt.show()



