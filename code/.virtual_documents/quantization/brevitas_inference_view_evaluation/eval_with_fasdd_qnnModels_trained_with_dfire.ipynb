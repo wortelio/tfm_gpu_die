import os

import utils

import models
import models_aimet_high
import models_aimet_medium
import models_aimet_low

import config
import dataset
import dataset_fasdd
import albumentations as A
from albumentations.pytorch import ToTensorV2
from torch.utils.data import DataLoader
import validate

import torch
from torchinfo import summary

import cv2
import matplotlib.pyplot as plt








model_no_comp = models.QUANT_FixedPoint_NoBN_BED_CLASSIFIER(
    weight_bw = config.NO_COMP_WEIGHTS_BIT_WIDTH,
    big_layers_weight_bw = config.NO_COMP_BIG_LAYERS_WEIGHTS_BIT_WIDTH,
    act_bw = config.NO_COMP_ACTIVATIONS_BIT_WIDTH,
    bias_bw = config.NO_COMP_BIAS_BIT_WIDTH,
    num_classes=config.N_CLASSES).to(config.DEVICE)


model_no_comp_folder = './models/'
model_no_comp_name = 'BED_classifier__NOCOMP__smoke__precision=0.9025__recall=0.9021__epoch=35.pt'
model_no_comp_pt = model_no_comp_folder + model_no_comp_name


utils.load_checkpoint(model_path = model_no_comp_pt, 
                      model = model_no_comp, 
                      optimizer= None, 
                      scheduler= None, 
                      device = config.DEVICE)





model_low_comp = models_aimet_low.QUANT_SOFT_PRUNING_AFTER_SVD_CLASSIFIER(
    weight_bw = config.LOW_COMP_WEIGHTS_BIT_WIDTH,
    big_layers_weight_bw = config.LOW_COMP_BIG_LAYERS_WEIGHTS_BIT_WIDTH,
    act_bw = config.LOW_COMP_ACTIVATIONS_BIT_WIDTH,
    bias_bw = config.LOW_COMP_BIAS_BIT_WIDTH,
    num_classes=config.N_CLASSES).to(config.DEVICE)


model_low_comp_folder = './models/'
model_low_comp_name = 'BED_classifier__LOWCOMP__smoke__precision=0.9024__recall=0.9011__epoch=80.pt'
model_low_comp_pt = model_low_comp_folder + model_low_comp_name


utils.load_checkpoint(model_path = model_low_comp_pt, 
                      model = model_low_comp, 
                      optimizer= None, 
                      scheduler= None, 
                      device = config.DEVICE)





model_med_comp = models_aimet_medium.QUANT_MEDIUM_PRUNING_AFTER_SVD_CLASSIFIER(
    weight_bw = config.MED_COMP_WEIGHTS_BIT_WIDTH,
    big_layers_weight_bw = config.MED_COMP_BIG_LAYERS_WEIGHTS_BIT_WIDTH,
    act_bw = config.MED_COMP_ACTIVATIONS_BIT_WIDTH,
    bias_bw = config.MED_COMP_BIAS_BIT_WIDTH,
    num_classes=config.N_CLASSES).to(config.DEVICE)


model_med_comp_folder = './models/'
model_med_comp_name = 'BED_classifier__MEDCOMP__smoke__precision=0.9028__recall=0.9001__epoch=49.pt'
model_med_comp_pt = model_med_comp_folder + model_med_comp_name


utils.load_checkpoint(model_path = model_med_comp_pt, 
                      model = model_med_comp, 
                      optimizer= None, 
                      scheduler= None, 
                      device = config.DEVICE)





model_high_comp = models_aimet_high.QUANT_PRUNING_AFTER_SVD_CLASSIFIER(
    weight_bw = config.HIGH_COMP_WEIGHTS_BIT_WIDTH,
    big_layers_weight_bw = config.HIGH_COMP_BIG_LAYERS_WEIGHTS_BIT_WIDTH,
    act_bw = config.HIGH_COMP_ACTIVATIONS_BIT_WIDTH,
    bias_bw = config.HIGH_COMP_BIAS_BIT_WIDTH,
    num_classes=config.N_CLASSES).to(config.DEVICE)


model_high_comp_folder = './models/'
model_high_comp_name = 'BED_classifier__HIGHCOMP__smoke__precision=0.9081__recall=0.9006__epoch=90.pt'
model_high_comp_pt = model_high_comp_folder + model_high_comp_name


utils.load_checkpoint(model_path = model_high_comp_pt, 
                      model = model_high_comp, 
                      optimizer= None, 
                      scheduler= None, 
                      device = config.DEVICE)





# VALIDATION DATASET
val_transform = A.Compose([
    A.Resize(config.IMG_H, config.IMG_W, p=1),
    ToTensorV2(p=1),
    ]
)





print("\nTEST DFire dataset")
val_dataset = dataset.DFireDataset(
    img_h = config.IMG_H,
    img_w = config.IMG_W,
    img_dir = config.VAL_IMG_DIR,
    label_dir = config.VAL_LABEL_DIR,
    num_classes = config.N_CLASSES,
    ds_len = config.DS_LEN,
    transform=val_transform)

print(f'\nDataset len: {len(val_dataset)}')

# LOADERS
val_loader = DataLoader(dataset=val_dataset,
                        batch_size=config.BATCH_SIZE,
                        num_workers=config.NUM_WORKERS,
                        pin_memory=config.PIN_MEMORY,
                        shuffle=False,
                        drop_last=True)





print("\nTEST FASDD UAV dataset")
fasdd_uav_dataset = dataset_fasdd.FASDDDataset(
    img_h = config.IMG_H,
    img_w = config.IMG_W,
    imgs_dir = config.FASDD_UAV_IMGS_DIR,
    labels_file = config.FASDD_UAV_LABELS_FILE,
    num_classes = config.N_CLASSES,
    ds_len = config.DS_LEN,
    transform=val_transform)

print(f'\nDataset len: {len(fasdd_uav_dataset)}')

# LOADERS
fasdd_uav_loader = DataLoader(
    dataset=fasdd_uav_dataset,
    batch_size=config.BATCH_SIZE,
    num_workers=config.NUM_WORKERS,
    pin_memory=config.PIN_MEMORY,
    shuffle=False,
    drop_last=True)





print("\nTEST FASDD CV dataset")
fasdd_cv_dataset = dataset_fasdd.FASDDDataset(
    img_h = config.IMG_H,
    img_w = config.IMG_W,
    imgs_dir = config.FASDD_CV_IMGS_DIR,
    labels_file = config.FASDD_CV_LABELS_FILE,
    num_classes = config.N_CLASSES,
    ds_len = config.DS_LEN,
    transform=val_transform)

print(f'\nDataset len: {len(fasdd_cv_dataset)}')

# LOADERS
fasdd_cv_loader = DataLoader(
    dataset=fasdd_cv_dataset,
    batch_size=config.BATCH_SIZE,
    num_workers=config.NUM_WORKERS,
    pin_memory=config.PIN_MEMORY,
    shuffle=False,
    drop_last=True)








print('___________________________ NO COMPRESSION MODEL ___________________________')
metrics_model_no_comp = validate.eval_fn(val_loader, model_no_comp, config.DEVICE)
print('___________________________ LOW COMPRESSION MODEL ___________________________')
metrics_model_low_comp = validate.eval_fn(val_loader, model_low_comp, config.DEVICE)
print('___________________________ MEDIUM COMPRESSION MODEL ___________________________')
metrics_model_med_comp = validate.eval_fn(val_loader, model_med_comp, config.DEVICE)
print('___________________________ HIGH COMPRESSION MODEL ___________________________')
metrics_model_high_comp = validate.eval_fn(val_loader, model_high_comp, config.DEVICE)





print('___________________________ NO COMPRESSION MODEL ___________________________')
metrics_model_no_comp = validate.eval_fn(fasdd_uav_loader, model_no_comp, config.DEVICE)
print('___________________________ LOW COMPRESSION MODEL ___________________________')
metrics_model_low_comp = validate.eval_fn(fasdd_uav_loader, model_low_comp, config.DEVICE)
print('___________________________ MEDIUM COMPRESSION MODEL ___________________________')
metrics_model_med_comp = validate.eval_fn(fasdd_uav_loader, model_med_comp, config.DEVICE)
print('___________________________ HIGH COMPRESSION MODEL ___________________________')
metrics_model_high_comp = validate.eval_fn(fasdd_uav_loader, model_high_comp, config.DEVICE)





print('___________________________ NO COMPRESSION MODEL ___________________________')
metrics_model_no_comp = validate.eval_fn(fasdd_cv_loader, model_no_comp, config.DEVICE)
print('___________________________ LOW COMPRESSION MODEL ___________________________')
metrics_model_low_comp = validate.eval_fn(fasdd_cv_loader, model_low_comp, config.DEVICE)
print('___________________________ MEDIUM COMPRESSION MODEL ___________________________')
metrics_model_med_comp = validate.eval_fn(fasdd_cv_loader, model_med_comp, config.DEVICE)
print('___________________________ HIGH COMPRESSION MODEL ___________________________')
metrics_model_high_comp = validate.eval_fn(fasdd_cv_loader, model_high_comp, config.DEVICE)



