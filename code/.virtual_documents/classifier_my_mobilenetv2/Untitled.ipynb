import numpy as np
import torch
import modules.custom_metrics
from torchmetrics.classification import (
    MultilabelPrecision,
    MultilabelRecall,
    MultilabelAccuracy,
    MultilabelF1Score
)


DEVICE = "cuda" if torch.cuda.is_available() else "cpu"
print(f'Device is: {DEVICE}')











precision_metric = MultilabelPrecision(num_labels = 2, threshold = 0.5, average = None).to(DEVICE)
recall_metric = MultilabelRecall(num_labels = 2, threshold = 0.5, average = None).to(DEVICE)
accuracy_metric = MultilabelAccuracy(num_labels = 2, threshold = 0.5, average = None).to(DEVICE)
f1_metric = MultilabelF1Score(num_labels = 2, threshold = 0.5, average = None).to(DEVICE)
f1_metric_mean = MultilabelF1Score((num_labels = 2, threshold = 0.5, average = 'macro').to(DEVICE)



