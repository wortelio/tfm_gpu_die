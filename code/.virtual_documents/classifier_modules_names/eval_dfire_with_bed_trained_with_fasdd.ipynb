import os
from pathlib import Path
import logging

from tqdm import tqdm

import torch
from torch.utils.data import DataLoader

import albumentations as A
from albumentations.pytorch import ToTensorV2

import torch.nn as nn 
import torch.optim as optim
from torchinfo import summary

import config
import dataset
import dataset_fasdd
import models
import loss
import val_epoch
import utils





log_path = config.LOGS_FOLDER

logger = logging.getLogger("GonLogger")
logger.propagate = False
logger.setLevel(logging.INFO)
file_handler = logging.FileHandler(log_path + 'logfile.log')
formatter = logging.Formatter('%(message)s')
file_handler.setFormatter(formatter)

# add file handler to logger
logger.addHandler(file_handler)

logger.info('BED Classifier trained with FASDD evaluated with several loaders.\n')  





# VALIDATION DATASET
val_transform = A.Compose([
    A.Resize(config.IMG_H, config.IMG_W, p=1),
    ToTensorV2(p=1),
    ]
)





print("\nTEST DFire dataset")
val_dfire_dataset = dataset.DFireDataset(
    img_h = config.IMG_H,
    img_w = config.IMG_W,
    img_dir = config.VAL_IMG_DIR,
    label_dir = config.VAL_LABEL_DIR,
    num_classes = config.N_CLASSES,
    ds_len = config.DS_LEN,
    transform=val_transform)
print(f'\nTest dataset len: {len(val_dfire_dataset)}')
logger.info("\nTEST DFire dataset")
logger.info(f'Test dataset len: {len(val_dfire_dataset)}')


val_dfire_loader = DataLoader(
    dataset=val_dfire_dataset,
    batch_size=config.BATCH_SIZE,
    num_workers=config.NUM_WORKERS,
    pin_memory=config.PIN_MEMORY,
    shuffle=False,
    drop_last=True)





print("\nTEST FASDD UAV dataset")
val_fasdd_uav_ds = dataset_fasdd.FASDDDataset(
    img_h=config.IMG_H, 
    img_w=config.IMG_W, 
    imgs_dir=config.FASDD_UAV_IMGS_DIR, 
    labels_file=config.FASDD_UAV_TEST_LABELS_FILE, 
    num_classes=config.N_CLASSES,
    ds_len=config.DS_LEN,
    transform=val_transform)
print(f'\nTest FASDD UAV dataset len: {len(val_fasdd_uav_ds)}')
logger.info("\nTEST FASDD UAV dataset")
logger.info(f'Test FASDD UAV dataset len: {len(val_fasdd_uav_ds)}')


val_fasdd_uav_loader = DataLoader(
    dataset=val_fasdd_uav_ds,
    batch_size=config.BATCH_SIZE,
    num_workers=config.NUM_WORKERS,
    pin_memory=config.PIN_MEMORY,
    shuffle=False,
    drop_last=True)





print("\nTEST FASDD CV dataset")
val_fasdd_cv_ds = dataset_fasdd.FASDDDataset(
    img_h=config.IMG_H, 
    img_w=config.IMG_W, 
    imgs_dir=config.FASDD_CV_IMGS_DIR, 
    labels_file=config.FASDD_CV_TEST_LABELS_FILE, 
    num_classes=config.N_CLASSES,
    ds_len=config.DS_LEN,
    transform=val_transform)
print(f'\nTest FASDD CV dataset len: {len(val_fasdd_cv_ds)}')
logger.info("\nTEST FASDD CV dataset")
logger.info(f'Test FASDD CV dataset len: {len(val_fasdd_cv_ds)}')


val_fasdd_cv_loader = DataLoader(
    dataset=val_fasdd_cv_ds,
    batch_size=config.BATCH_SIZE,
    num_workers=config.NUM_WORKERS,
    pin_memory=config.PIN_MEMORY,
    shuffle=False,
    drop_last=True)





print("Concatenate Test DFire and FASDD UAV datasets")
logger.info("Concatenate Test DFire and FASDD UAV datasets")
val_ds_concat = torch.utils.data.ConcatDataset((val_dfire_dataset, val_fasdd_uav_ds))
print(f'Test dataset len: {len(val_ds_concat)}')
logger.info(f'Test dataset len: {len(val_ds_concat)}')

print("Concatenate with FASDD CV dataset")
logger.info("Concatenate with FASDD CV dataset")
val_ds = torch.utils.data.ConcatDataset((val_ds_concat, val_fasdd_cv_ds))
print(f'Test dataset len: {len(val_ds)}')
logger.info(f'Test dataset len: {len(val_ds)}')


val_loader = DataLoader(dataset=val_ds,
                        batch_size=config.BATCH_SIZE,
                        num_workers=config.NUM_WORKERS,
                        pin_memory=config.PIN_MEMORY,
                        shuffle=False,
                        drop_last=True)





# LOSS FUNCTION
if config.LOSS_FN == "BCE":
    print(f'Loss Function: BCE')
    print(f'Smoke Precision Weight: {config.SMOKE_PRECISION_WEIGHT}')
    loss_fn = loss.BCE_LOSS(device=config.DEVICE, smoke_precision_weight=config.SMOKE_PRECISION_WEIGHT)
else:
    print("Wrong loss function")
    raise SystemExit("Wrong loss function")





if config.MODEL == "BED":
    print("Using BED Classifier")
    model = models.BED_CLASSIFIER(num_classes=config.N_CLASSES).to(config.DEVICE)  
else:
    print("Wrong Model")
    raise SystemExit("Wrong Model")


optimizer = optim.Adam(
    model.parameters(), 
    lr=config.LEARNING_RATE, 
    weight_decay=config.WEIGHT_DECAY)

scheduler = optim.lr_scheduler.ReduceLROnPlateau(
    optimizer, 
    mode='min',
    factor=config.FACTOR, 
    patience=config.PATIENCE, 
    threshold=config.THRES, 
    threshold_mode='abs',
    min_lr=config.MIN_LR)





model_name = 'BED_classifier__best_smoke__precision=0.935__epoch=87.pt'
model_path = 'experiments_256_add_fasdd/test_00/weights/' + model_name
epoch_saved = utils.load_checkpoint(model_path, model, optimizer, scheduler, config.DEVICE)





model.eval()

with torch.no_grad():
    print("____________________________ Full DS ____________________________")
    logger.info("____________________________ Full DS ____________________________")
    val_losses, val_metrics = val_epoch.eval_fn(
        loader=val_loader, 
        model=model,                         
        loss_fn=loss_fn,
        device=config.DEVICE)
    logger.info(val_metrics)
    print("\n____________________________ DFire ____________________________")
    logger.info("\n____________________________ DFire ____________________________")
    val_losses, val_metrics = val_epoch.eval_fn(
        loader=val_dfire_loader, 
        model=model,                         
        loss_fn=loss_fn,
        device=config.DEVICE)
    logger.info(val_metrics)
    print("\n____________________________ FASDD UAV ____________________________")
    logger.info("\n____________________________ FASDD UAV ____________________________")
    val_losses, val_metrics = val_epoch.eval_fn(
        loader=val_fasdd_uav_loader, 
        model=model,                         
        loss_fn=loss_fn,
        device=config.DEVICE)
    logger.info(val_metrics)
    print("\n____________________________ FASDD CV ____________________________")
    logger.info("\n____________________________ FASDD UAV ____________________________")
    val_losses, val_metrics = val_epoch.eval_fn(
        loader=val_fasdd_cv_loader, 
        model=model,                         
        loss_fn=loss_fn,
        device=config.DEVICE)
    logger.info(val_metrics)



