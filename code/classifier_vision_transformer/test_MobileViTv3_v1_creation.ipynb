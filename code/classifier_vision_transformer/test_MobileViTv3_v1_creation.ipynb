{
 "cells": [
  {
   "cell_type": "code",
   "execution_count": 2,
   "id": "b3bb0e23-71ed-4fdd-b119-0137520406fd",
   "metadata": {
    "tags": []
   },
   "outputs": [],
   "source": [
    "from modules.model_MobileViTv3.mobilevit_v3_v1 import MobileViTv3_v1\n",
    "from torchinfo import summary"
   ]
  },
  {
   "cell_type": "markdown",
   "id": "138f3d1d-f67b-4d36-a7aa-9a513dc7011a",
   "metadata": {},
   "source": [
    "# Git original repo\n",
    "\n",
    "https://github.com/jaiwei98/mobile-vit-pytorch/tree/main"
   ]
  },
  {
   "cell_type": "code",
   "execution_count": 4,
   "id": "dca03091-ffe3-455c-94bc-54cef589faee",
   "metadata": {
    "tags": []
   },
   "outputs": [],
   "source": [
    "model = MobileViTv3_v1(\n",
    "    image_size = (224, 224),\n",
    "    mode = 'xx_small',\n",
    "    num_classes = 2,\n",
    "    patch_size = (2, 2)\n",
    ")"
   ]
  },
  {
   "cell_type": "code",
   "execution_count": 5,
   "id": "4305b752-8543-4a18-b7e1-f58b693c3ee2",
   "metadata": {
    "tags": []
   },
   "outputs": [
    {
     "name": "stdout",
     "output_type": "stream",
     "text": [
      "====================================================================================================\n",
      "Layer (type:depth-idx)                             Output Shape              Param #\n",
      "====================================================================================================\n",
      "MobileViTv3_v1                                     [1, 2]                    --\n",
      "├─Sequential: 1-1                                  [1, 16, 111, 111]         --\n",
      "│    └─Conv2d: 2-1                                 [1, 16, 111, 111]         432\n",
      "│    └─BatchNorm2d: 2-2                            [1, 16, 111, 111]         32\n",
      "│    └─SiLU: 2-3                                   [1, 16, 111, 111]         --\n",
      "├─Sequential: 1-2                                  [1, 16, 111, 111]         --\n",
      "│    └─InvertedResidual: 2-4                       [1, 16, 111, 111]         --\n",
      "│    │    └─Sequential: 3-1                        [1, 16, 111, 111]         1,472\n",
      "├─Sequential: 1-3                                  [1, 24, 56, 56]           --\n",
      "│    └─InvertedResidual: 2-5                       [1, 24, 56, 56]           --\n",
      "│    │    └─Sequential: 3-2                        [1, 24, 56, 56]           1,744\n",
      "│    └─InvertedResidual: 2-6                       [1, 24, 56, 56]           --\n",
      "│    │    └─Sequential: 3-3                        [1, 24, 56, 56]           2,976\n",
      "│    └─InvertedResidual: 2-7                       [1, 24, 56, 56]           --\n",
      "│    │    └─Sequential: 3-4                        [1, 24, 56, 56]           2,976\n",
      "├─Sequential: 1-4                                  [1, 64, 28, 28]           --\n",
      "│    └─InvertedResidual: 2-8                       [1, 64, 28, 28]           --\n",
      "│    │    └─Sequential: 3-5                        [1, 64, 28, 28]           4,976\n",
      "│    └─MobileViTBlockV3_v1: 2-9                    [1, 64, 28, 28]           --\n",
      "│    │    └─Sequential: 3-6                        [1, 64, 28, 28]           4,800\n",
      "│    │    └─Sequential: 3-7                        [4, 196, 64]              67,072\n",
      "│    │    └─Sequential: 3-8                        [1, 64, 28, 28]           4,224\n",
      "│    │    └─Sequential: 3-9                        [1, 64, 28, 28]           8,320\n",
      "├─Sequential: 1-5                                  [1, 80, 14, 14]           --\n",
      "│    └─InvertedResidual: 2-10                      [1, 80, 14, 14]           --\n",
      "│    │    └─Sequential: 3-10                       [1, 80, 14, 14]           20,256\n",
      "│    └─MobileViTBlockV3_v1: 2-11                   [1, 80, 14, 14]           --\n",
      "│    │    └─Sequential: 3-11                       [1, 80, 14, 14]           7,280\n",
      "│    │    └─Sequential: 3-12                       [4, 49, 80]               208,480\n",
      "│    │    └─Sequential: 3-13                       [1, 80, 14, 14]           6,560\n",
      "│    │    └─Sequential: 3-14                       [1, 80, 14, 14]           12,960\n",
      "├─Sequential: 1-6                                  [1, 128, 7, 7]            --\n",
      "│    └─InvertedResidual: 2-12                      [1, 128, 7, 7]            --\n",
      "│    │    └─Sequential: 3-15                       [1, 128, 7, 7]            35,616\n",
      "│    └─MobileViTBlockV3_v1: 2-13                   [1, 128, 7, 7]            --\n",
      "│    │    └─Sequential: 3-16                       [1, 96, 7, 7]             13,696\n",
      "│    │    └─Sequential: 3-17                       [4, 16, 96]               224,544\n",
      "│    │    └─Sequential: 3-18                       [1, 128, 7, 7]            12,544\n",
      "│    │    └─Sequential: 3-19                       [1, 128, 7, 7]            28,928\n",
      "├─Sequential: 1-7                                  [1, 512, 7, 7]            --\n",
      "│    └─Conv2d: 2-14                                [1, 512, 7, 7]            65,536\n",
      "│    └─BatchNorm2d: 2-15                           [1, 512, 7, 7]            1,024\n",
      "│    └─SiLU: 2-16                                  [1, 512, 7, 7]            --\n",
      "├─Linear: 1-8                                      [1, 2]                    1,026\n",
      "====================================================================================================\n",
      "Total params: 737,474\n",
      "Trainable params: 737,474\n",
      "Non-trainable params: 0\n",
      "Total mult-adds (M): 93.21\n",
      "====================================================================================================\n",
      "Input size (MB): 0.60\n",
      "Forward/backward pass size (MB): 64.96\n",
      "Params size (MB): 2.95\n",
      "Estimated Total Size (MB): 68.51\n",
      "====================================================================================================\n"
     ]
    }
   ],
   "source": [
    "print(summary(model, input_size=(1, 3, 224, 224)))"
   ]
  },
  {
   "cell_type": "code",
   "execution_count": 6,
   "id": "3093133d-c20c-43cb-a1da-1e8083823ece",
   "metadata": {
    "tags": []
   },
   "outputs": [],
   "source": [
    "import torch"
   ]
  },
  {
   "cell_type": "code",
   "execution_count": 7,
   "id": "5741e246-de8a-4fde-a75e-68272b7c2ba3",
   "metadata": {
    "tags": []
   },
   "outputs": [],
   "source": [
    "DEVICE = \"cuda\" if torch.cuda.is_available() else \"cpu\""
   ]
  },
  {
   "cell_type": "code",
   "execution_count": 8,
   "id": "21cde1b4-0753-4f7a-9099-0764481ef22a",
   "metadata": {
    "tags": []
   },
   "outputs": [
    {
     "data": {
      "text/plain": [
       "'cuda'"
      ]
     },
     "execution_count": 8,
     "metadata": {},
     "output_type": "execute_result"
    }
   ],
   "source": [
    "DEVICE"
   ]
  },
  {
   "cell_type": "code",
   "execution_count": null,
   "id": "4351f0e3-d6aa-444b-98c7-5d0a8a352e52",
   "metadata": {},
   "outputs": [],
   "source": []
  }
 ],
 "metadata": {
  "kernelspec": {
   "display_name": "Python 3 (ipykernel)",
   "language": "python",
   "name": "python3"
  },
  "language_info": {
   "codemirror_mode": {
    "name": "ipython",
    "version": 3
   },
   "file_extension": ".py",
   "mimetype": "text/x-python",
   "name": "python",
   "nbconvert_exporter": "python",
   "pygments_lexer": "ipython3",
   "version": "3.10.13"
  }
 },
 "nbformat": 4,
 "nbformat_minor": 5
}
