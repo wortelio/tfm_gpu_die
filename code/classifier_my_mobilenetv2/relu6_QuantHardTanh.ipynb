{
 "cells": [
  {
   "cell_type": "code",
   "execution_count": 4,
   "id": "e2f28d1c-48d4-4a96-9715-f6be02bb74ae",
   "metadata": {},
   "outputs": [],
   "source": [
    "import numpy as np\n",
    "import torch\n",
    "\n",
    "from brevitas.nn import QuantHardTanh\n",
    "from brevitas.nn import QuantReLU\n",
    "\n",
    "from brevitas.quant import Uint8ActPerTensorFloat"
   ]
  },
  {
   "cell_type": "code",
   "execution_count": 2,
   "id": "a170f8d6-7728-42b3-8437-ac1efea9db10",
   "metadata": {},
   "outputs": [],
   "source": [
    "hardtanh = QuantHardTanh(\n",
    "    act_quant = Uint8ActPerTensorFloat,\n",
    "    min_val = 0.0,\n",
    "    max_val = 6.0,\n",
    "    scaling_impl_type='const',\n",
    "    bit_width = 4,\n",
    "    return_quant_tensor=True)"
   ]
  },
  {
   "cell_type": "code",
   "execution_count": 3,
   "id": "484ed769-a40f-4c01-a4ee-a233f1443b83",
   "metadata": {},
   "outputs": [],
   "source": [
    "relu6 = QuantReLU(\n",
    "    min_val = 0.0,\n",
    "    max_val = 6.0,\n",
    "    scaling_impl_type='const',\n",
    "    bit_width = 4,\n",
    "    return_quant_tensor=True)"
   ]
  },
  {
   "cell_type": "code",
   "execution_count": 4,
   "id": "371b933c-afd4-4db6-95f6-1aa3f237e348",
   "metadata": {},
   "outputs": [],
   "source": [
    "inp = (2*np.random.rand(10)-1)*20\n",
    "inp = torch.tensor(inp)"
   ]
  },
  {
   "cell_type": "code",
   "execution_count": 5,
   "id": "ed61fb0d-7ef2-4fd8-9f4d-8bb58eee73ab",
   "metadata": {},
   "outputs": [
    {
     "data": {
      "text/plain": [
       "tensor([-3.4455,  7.0651, -7.7860, -3.2591, 11.9485, -6.1193, 11.3504, 16.5560,\n",
       "         6.4178, -4.5383], dtype=torch.float64)"
      ]
     },
     "execution_count": 5,
     "metadata": {},
     "output_type": "execute_result"
    }
   ],
   "source": [
    "inp"
   ]
  },
  {
   "cell_type": "code",
   "execution_count": 6,
   "id": "6e68b084-cbd4-4317-bf0b-94ec553fff01",
   "metadata": {},
   "outputs": [
    {
     "name": "stderr",
     "output_type": "stream",
     "text": [
      "/opt/conda/envs/pytorch_brevitas/lib/python3.10/site-packages/torch/_tensor.py:1362: UserWarning: Named tensors and all their associated APIs are an experimental feature and subject to change. Please do not use them for anything important until they are released as stable. (Triggered internally at /opt/conda/conda-bld/pytorch_1702400410390/work/c10/core/TensorImpl.h:1900.)\n",
      "  return super().rename(names)\n"
     ]
    },
    {
     "data": {
      "text/plain": [
       "QuantTensor(value=tensor([0.0000, 6.0000, 0.0000, 0.0000, 6.0000, 0.0000, 6.0000, 6.0000, 6.0000,\n",
       "        0.0000], dtype=torch.float64), scale=tensor(0.4000), zero_point=tensor(0.), bit_width=tensor(4.), signed_t=tensor(False), training_t=tensor(True))"
      ]
     },
     "execution_count": 6,
     "metadata": {},
     "output_type": "execute_result"
    }
   ],
   "source": [
    "oup = hardtanh(inp)\n",
    "oup"
   ]
  },
  {
   "cell_type": "code",
   "execution_count": 7,
   "id": "77a09084-884b-4102-bb0e-ea6e7ab127d7",
   "metadata": {},
   "outputs": [
    {
     "data": {
      "text/plain": [
       "QuantTensor(value=tensor([0.0000, 6.0000, 0.0000, 0.0000, 6.0000, 0.0000, 6.0000, 6.0000, 6.0000,\n",
       "        0.0000], dtype=torch.float64), scale=tensor(0.4000), zero_point=tensor(0.), bit_width=tensor(4.), signed_t=tensor(False), training_t=tensor(True))"
      ]
     },
     "execution_count": 7,
     "metadata": {},
     "output_type": "execute_result"
    }
   ],
   "source": [
    "oup6 = relu6(inp)\n",
    "oup6"
   ]
  },
  {
   "cell_type": "code",
   "execution_count": 1,
   "id": "65994f44-5f53-4924-9bfd-009dc5e50837",
   "metadata": {},
   "outputs": [],
   "source": [
    "from brevitas.nn import QuantConv2d"
   ]
  },
  {
   "cell_type": "code",
   "execution_count": 3,
   "id": "a010de4b-abae-42ef-9f34-eb0c3ccafe98",
   "metadata": {},
   "outputs": [],
   "source": [
    "def_quant_conv = QuantConv2d(\n",
    "    in_channels=2, \n",
    "    out_channels=4,\n",
    "    kernel_size=3)"
   ]
  },
  {
   "cell_type": "code",
   "execution_count": 8,
   "id": "d0127d09-c4b3-4b87-a197-e3fa524659d0",
   "metadata": {},
   "outputs": [],
   "source": [
    "inp = torch.tensor(np.random.rand(2,6,6).astype(np.float32))"
   ]
  },
  {
   "cell_type": "code",
   "execution_count": 9,
   "id": "93e3b45f-4747-4b97-b1f9-dff296003f5e",
   "metadata": {},
   "outputs": [
    {
     "name": "stdout",
     "output_type": "stream",
     "text": [
      "tensor([[[0.5230, 0.3968, 0.1809, 0.9967, 0.8929, 0.1067],\n",
      "         [0.0642, 0.1943, 0.2627, 0.3826, 0.5509, 0.1085],\n",
      "         [0.7241, 0.0819, 0.3778, 0.2621, 0.2110, 0.9044],\n",
      "         [0.6931, 0.6280, 0.6630, 0.2137, 0.1219, 0.5346],\n",
      "         [0.6710, 0.0778, 0.8210, 0.0182, 0.6778, 0.5803],\n",
      "         [0.9942, 0.4173, 0.3164, 0.8334, 0.6200, 0.7397]],\n",
      "\n",
      "        [[0.7434, 0.9951, 0.2208, 0.8579, 0.5775, 0.0724],\n",
      "         [0.0227, 0.5302, 0.9922, 0.7764, 0.2800, 0.2403],\n",
      "         [0.7006, 0.9120, 0.7960, 0.6701, 0.0508, 0.8320],\n",
      "         [0.0297, 0.5784, 0.7455, 0.3411, 0.1099, 0.4586],\n",
      "         [0.4989, 0.1252, 0.6683, 0.7081, 0.7264, 0.0553],\n",
      "         [0.1136, 0.6803, 0.9187, 0.6888, 0.6260, 0.3467]]])\n",
      "tensor([[[-0.3010, -0.1033,  0.0329, -0.4914],\n",
      "         [ 0.0195, -0.0782, -0.0814,  0.0674],\n",
      "         [-0.1921, -0.4828, -0.2027,  0.0302],\n",
      "         [ 0.1372, -0.5851, -0.1430,  0.0528]],\n",
      "\n",
      "        [[-0.0233, -0.1354,  0.0010, -0.2687],\n",
      "         [-0.1878, -0.0505, -0.2830, -0.1211],\n",
      "         [-0.0611, -0.2476, -0.2576,  0.0892],\n",
      "         [ 0.1048, -0.0110, -0.2674, -0.0970]],\n",
      "\n",
      "        [[-0.3099, -0.2263, -0.2937, -0.6889],\n",
      "         [-0.4446, -0.1966, -0.2578, -0.4004],\n",
      "         [-0.4999, -0.3110, -0.4377,  0.0680],\n",
      "         [-0.3263, -0.4916, -0.4807, -0.3795]],\n",
      "\n",
      "        [[-0.4613,  0.1132,  0.1842, -0.4652],\n",
      "         [ 0.1221,  0.1194,  0.0356, -0.4784],\n",
      "         [-0.3789, -0.0408, -0.2441,  0.0361],\n",
      "         [-0.1095, -0.3965, -0.1831,  0.0475]]], grad_fn=<SqueezeBackward1>)\n"
     ]
    }
   ],
   "source": [
    "oup = def_quant_conv(inp)\n",
    "print(inp)\n",
    "print(oup)"
   ]
  },
  {
   "cell_type": "code",
   "execution_count": 30,
   "id": "214293fd-b415-4ba1-94a3-f7a67c26337e",
   "metadata": {},
   "outputs": [
    {
     "data": {
      "text/plain": [
       "Parameter containing:\n",
       "tensor([[[[-0.1399, -0.2017,  0.2297],\n",
       "          [-0.0118, -0.1215,  0.1943],\n",
       "          [ 0.1871, -0.0801, -0.1076]],\n",
       "\n",
       "         [[-0.2156, -0.1347, -0.0592],\n",
       "          [ 0.2023, -0.1149,  0.1801],\n",
       "          [ 0.0598, -0.1651, -0.1067]]],\n",
       "\n",
       "\n",
       "        [[[ 0.1220, -0.0012,  0.0171],\n",
       "          [-0.1233,  0.0757,  0.1265],\n",
       "          [-0.0238, -0.0492, -0.0110]],\n",
       "\n",
       "         [[-0.1426,  0.0814,  0.1870],\n",
       "          [-0.0554, -0.2126,  0.0249],\n",
       "          [ 0.0400,  0.2055, -0.0919]]],\n",
       "\n",
       "\n",
       "        [[[-0.0126, -0.1591,  0.1477],\n",
       "          [-0.1599, -0.1904, -0.0049],\n",
       "          [-0.0672,  0.0719, -0.0909]],\n",
       "\n",
       "         [[ 0.0801,  0.1035,  0.1093],\n",
       "          [-0.0531, -0.2036, -0.0541],\n",
       "          [-0.0865,  0.1808, -0.2024]]],\n",
       "\n",
       "\n",
       "        [[[ 0.0441, -0.1019,  0.1742],\n",
       "          [ 0.0461, -0.1119, -0.1186],\n",
       "          [ 0.0148,  0.0772, -0.1449]],\n",
       "\n",
       "         [[-0.1314, -0.0784,  0.2130],\n",
       "          [ 0.2116,  0.2057, -0.1342],\n",
       "          [-0.0204,  0.0820, -0.1681]]]], requires_grad=True)"
      ]
     },
     "execution_count": 30,
     "metadata": {},
     "output_type": "execute_result"
    }
   ],
   "source": [
    "# def_quant_conv.quant_weight().scale\n",
    "\n",
    "# def_quant_conv.weight_quant.tensor_quant.__dict__\n",
    "\n",
    "# def_quant_conv.quant_weight_scale()\n",
    "\n",
    "def_quant_conv.weight"
   ]
  },
  {
   "cell_type": "code",
   "execution_count": 19,
   "id": "9b923c14-470e-4a10-a46c-19ef24856815",
   "metadata": {},
   "outputs": [
    {
     "ename": "AttributeError",
     "evalue": "can't set attribute",
     "output_type": "error",
     "traceback": [
      "\u001b[0;31m---------------------------------------------------------------------------\u001b[0m",
      "\u001b[0;31mAttributeError\u001b[0m                            Traceback (most recent call last)",
      "Cell \u001b[0;32mIn[19], line 1\u001b[0m\n\u001b[0;32m----> 1\u001b[0m \u001b[43mdef_quant_conv\u001b[49m\u001b[38;5;241;43m.\u001b[39;49m\u001b[43mquant_weight\u001b[49m\u001b[43m(\u001b[49m\u001b[43m)\u001b[49m\u001b[38;5;241;43m.\u001b[39;49m\u001b[43mscale\u001b[49m \u001b[38;5;241m=\u001b[39m torch\u001b[38;5;241m.\u001b[39mtensor(np\u001b[38;5;241m.\u001b[39marray(\u001b[38;5;241m0.19\u001b[39m)\u001b[38;5;241m.\u001b[39mastype(np\u001b[38;5;241m.\u001b[39mfloat32))\n",
      "\u001b[0;31mAttributeError\u001b[0m: can't set attribute"
     ]
    }
   ],
   "source": [
    "def_quant_conv.quant_weight().scale = torch.tensor(np.array(0.19).astype(np.float32))"
   ]
  },
  {
   "cell_type": "code",
   "execution_count": 32,
   "id": "94c4073e-32a5-416e-a372-09ed332dad1c",
   "metadata": {},
   "outputs": [
    {
     "data": {
      "text/plain": [
       "tensor([[[[-0.1393, -0.2008,  0.2297],\n",
       "          [-0.0127, -0.1212,  0.1935],\n",
       "          [ 0.1863, -0.0796, -0.1067]],\n",
       "\n",
       "         [[-0.2152, -0.1338, -0.0597],\n",
       "          [ 0.2026, -0.1158,  0.1809],\n",
       "          [ 0.0597, -0.1646, -0.1067]]],\n",
       "\n",
       "\n",
       "        [[[ 0.1212, -0.0018,  0.0163],\n",
       "          [-0.1230,  0.0760,  0.1266],\n",
       "          [-0.0235, -0.0488, -0.0109]],\n",
       "\n",
       "         [[-0.1429,  0.0814,  0.1863],\n",
       "          [-0.0561, -0.2134,  0.0253],\n",
       "          [ 0.0398,  0.2062, -0.0922]]],\n",
       "\n",
       "\n",
       "        [[[-0.0127, -0.1592,  0.1483],\n",
       "          [-0.1592, -0.1899, -0.0054],\n",
       "          [-0.0669,  0.0724, -0.0904]],\n",
       "\n",
       "         [[ 0.0796,  0.1031,  0.1085],\n",
       "          [-0.0525, -0.2044, -0.0543],\n",
       "          [-0.0868,  0.1809, -0.2026]]],\n",
       "\n",
       "\n",
       "        [[[ 0.0434, -0.1013,  0.1736],\n",
       "          [ 0.0452, -0.1121, -0.1194],\n",
       "          [ 0.0145,  0.0778, -0.1447]],\n",
       "\n",
       "         [[-0.1320, -0.0778,  0.2134],\n",
       "          [ 0.2116,  0.2062, -0.1338],\n",
       "          [-0.0199,  0.0814, -0.1682]]]], grad_fn=<MulBackward0>)"
      ]
     },
     "execution_count": 32,
     "metadata": {},
     "output_type": "execute_result"
    }
   ],
   "source": [
    "def_quant_conv.quant_weight().value"
   ]
  },
  {
   "cell_type": "code",
   "execution_count": 34,
   "id": "6b5d5497-8b4a-4959-81a7-b7f5443f96d4",
   "metadata": {},
   "outputs": [],
   "source": [
    "import onnx\n",
    "from onnx import numpy_helper"
   ]
  },
  {
   "cell_type": "code",
   "execution_count": 35,
   "id": "8d2acbb5-9bfd-4d3d-8a8b-7c761b94630b",
   "metadata": {},
   "outputs": [],
   "source": [
    "model = onnx.load('./experiments_brevitas/test_v05_mini_resnet_70k_full_ds/onnx/MY_MBLNET_V2_RESNET_classifier__best_mean_F1__BIPOLAR_Out__QONNX.onnx')"
   ]
  },
  {
   "cell_type": "code",
   "execution_count": 41,
   "id": "4c0a87df-459b-46b7-a603-8643877b09c7",
   "metadata": {},
   "outputs": [
    {
     "name": "stdout",
     "output_type": "stream",
     "text": [
      "<class 'google.protobuf.pyext._message.RepeatedCompositeContainer'>\n"
     ]
    }
   ],
   "source": [
    "all_in = model.graph.initializer\n",
    "\n",
    "print(type(all_in))"
   ]
  },
  {
   "cell_type": "code",
   "execution_count": 54,
   "id": "79ce9ec5-dff1-400a-af77-bd44c028eac6",
   "metadata": {},
   "outputs": [
    {
     "name": "stdout",
     "output_type": "stream",
     "text": [
      "0\n",
      "[5.0170988e-01 1.9045015e-01 2.9435015e-01 2.7288267e-01 2.6639992e-01\n",
      " 3.4760967e-01 3.4233660e-01 3.1068161e-01 1.3981032e-01 2.7074677e-01\n",
      " 2.1637638e-01 2.5958401e-01 2.0310082e-01 7.5970888e-01 2.1978000e-01\n",
      " 2.8921765e-01 2.2940587e-01 4.9129524e-42 3.6184746e-01 3.3086792e-01\n",
      " 2.1861368e-01 2.7706385e-01 2.7920821e-01 6.9236946e-01 2.5919411e-01\n",
      " 2.4717720e-01 4.8016509e-01 2.4163520e-01 3.1611204e-01 1.4455533e-01\n",
      " 1.8094786e-01 1.7973542e-01]\n",
      "<class 'numpy.ndarray'>\n",
      "[False False False False False False False False False False False False\n",
      " False False False False False  True False False False False False False\n",
      " False False False False False False False False]\n",
      "  C_CONTIGUOUS : True\n",
      "  F_CONTIGUOUS : True\n",
      "  OWNDATA : False\n",
      "  WRITEABLE : False\n",
      "  ALIGNED : True\n",
      "  WRITEBACKIFCOPY : False\n",
      "\n",
      "  C_CONTIGUOUS : True\n",
      "  F_CONTIGUOUS : True\n",
      "  OWNDATA : True\n",
      "  WRITEABLE : True\n",
      "  ALIGNED : True\n",
      "  WRITEBACKIFCOPY : False\n",
      "\n",
      "[0.5017099  0.19045015 0.29435015 0.27288267 0.26639992 0.34760967\n",
      " 0.3423366  0.3106816  0.13981032 0.27074677 0.21637638 0.259584\n",
      " 0.20310082 0.7597089  0.21978    0.28921765 0.22940587 0.\n",
      " 0.36184746 0.33086792 0.21861368 0.27706385 0.2792082  0.69236946\n",
      " 0.2591941  0.2471772  0.4801651  0.2416352  0.31611204 0.14455533\n",
      " 0.18094786 0.17973542]\n"
     ]
    }
   ],
   "source": [
    "all_in = model.graph.initializer\n",
    "\n",
    "for idx, inp in enumerate(all_in):\n",
    "    np_inp = numpy_helper.to_array(inp)\n",
    "    print(f'{idx}\\n{np_inp}')\n",
    "\n",
    "    print(type(np_inp))\n",
    "    \n",
    "    np_idx = np_inp < 1e-5\n",
    "    print(np_idx)\n",
    "\n",
    "    print(np_inp.flags)\n",
    "\n",
    "    new_np_inp = np.copy(np_inp)\n",
    "    print(new_np_inp.flags)\n",
    "    # np_inp.setflags(write=1) ### ValueError: cannot set WRITEABLE flag to True of this array\n",
    "    new_np_inp[np_idx] = 0.\n",
    "\n",
    "    print(new_np_inp)\n",
    "\n",
    "    tensor = numpy_helper.from_array(new_np_inp)\n",
    "    inp.CopyFrom(tensor)\n",
    "    \n",
    "    break"
   ]
  },
  {
   "cell_type": "code",
   "execution_count": 56,
   "id": "f8ff489b-e18b-4753-9b2f-8435ccb6da55",
   "metadata": {},
   "outputs": [
    {
     "name": "stdout",
     "output_type": "stream",
     "text": [
      "0\n",
      "[0.5017099  0.19045015 0.29435015 0.27288267 0.26639992 0.34760967\n",
      " 0.3423366  0.3106816  0.13981032 0.27074677 0.21637638 0.259584\n",
      " 0.20310082 0.7597089  0.21978    0.28921765 0.22940587 0.\n",
      " 0.36184746 0.33086792 0.21861368 0.27706385 0.2792082  0.69236946\n",
      " 0.2591941  0.2471772  0.4801651  0.2416352  0.31611204 0.14455533\n",
      " 0.18094786 0.17973542]\n",
      "<class 'numpy.ndarray'>\n"
     ]
    }
   ],
   "source": [
    "all_in = model.graph.initializer\n",
    "\n",
    "for idx, inp in enumerate(all_in):\n",
    "    np_inp = numpy_helper.to_array(inp)\n",
    "    print(f'{idx}\\n{np_inp}')\n",
    "\n",
    "    print(type(np_inp))\n",
    "    break"
   ]
  },
  {
   "cell_type": "code",
   "execution_count": 57,
   "id": "672c679f-9ffd-44a2-aa2c-989dbf6326ff",
   "metadata": {},
   "outputs": [],
   "source": [
    "onnx.save_model(model, 'test_onnx_change_weights.onnx')"
   ]
  },
  {
   "cell_type": "code",
   "execution_count": null,
   "id": "06081285-a6e6-4254-be93-abddc33dbc14",
   "metadata": {},
   "outputs": [],
   "source": []
  },
  {
   "cell_type": "code",
   "execution_count": null,
   "id": "713c1e60-cdb7-4c25-817b-dd7a4688eba7",
   "metadata": {},
   "outputs": [],
   "source": [
    "# # numpy value which you want to update \n",
    "# numpy_array = numpy.array([[1.0, 2.0, 3.0], [4.0, 5.0, 6.0]], dtype=float)\n",
    "# # convert numpy to TensorProto\n",
    "# tensor = numpy_helper.from_array(numpy_array)\n",
    "# # copy this TensorProto to target tensor\n",
    "# model.graph.initializer[0].CopyFrom(tensor)\n",
    "# print(model.graph.initializer[0])\n",
    "# // then save the modified model"
   ]
  },
  {
   "cell_type": "code",
   "execution_count": null,
   "id": "250de93e-41c0-4d58-9566-e3ed7be69dfe",
   "metadata": {},
   "outputs": [],
   "source": []
  },
  {
   "cell_type": "code",
   "execution_count": 1,
   "id": "687d294d-0e09-49fe-b200-a58e45e60115",
   "metadata": {},
   "outputs": [],
   "source": [
    "import numpy as np\n",
    "import torch\n",
    "\n",
    "from brevitas.nn import QuantIdentity\n",
    "from brevitas.core.restrict_val import RestrictValueType\n",
    "\n",
    "from brevitas.quant import Int8ActPerTensorFloat"
   ]
  },
  {
   "cell_type": "code",
   "execution_count": 2,
   "id": "a21b1c80-76aa-45ab-a6cd-7d35fe2e4f7a",
   "metadata": {},
   "outputs": [],
   "source": [
    "a_np = 2*(np.arange(0, 256) / 255) - 1\n",
    "a_torch = torch.tensor(a_np, dtype=torch.float32)"
   ]
  },
  {
   "cell_type": "code",
   "execution_count": 3,
   "id": "7f70bd31-9b83-490c-95ab-99480a901f14",
   "metadata": {},
   "outputs": [
    {
     "name": "stdout",
     "output_type": "stream",
     "text": [
      "<class 'torch.Tensor'>\n",
      "torch.Size([256])\n",
      "tensor([-1.0000, -0.9922, -0.9843, -0.9765, -0.9686, -0.9608, -0.9529, -0.9451,\n",
      "        -0.9373, -0.9294, -0.9216, -0.9137, -0.9059, -0.8980, -0.8902, -0.8824,\n",
      "        -0.8745, -0.8667, -0.8588, -0.8510, -0.8431, -0.8353, -0.8275, -0.8196,\n",
      "        -0.8118, -0.8039, -0.7961, -0.7882, -0.7804, -0.7725, -0.7647, -0.7569,\n",
      "        -0.7490, -0.7412, -0.7333, -0.7255, -0.7176, -0.7098, -0.7020, -0.6941,\n",
      "        -0.6863, -0.6784, -0.6706, -0.6627, -0.6549, -0.6471, -0.6392, -0.6314,\n",
      "        -0.6235, -0.6157, -0.6078, -0.6000, -0.5922, -0.5843, -0.5765, -0.5686,\n",
      "        -0.5608, -0.5529, -0.5451, -0.5373, -0.5294, -0.5216, -0.5137, -0.5059,\n",
      "        -0.4980, -0.4902, -0.4824, -0.4745, -0.4667, -0.4588, -0.4510, -0.4431,\n",
      "        -0.4353, -0.4275, -0.4196, -0.4118, -0.4039, -0.3961, -0.3882, -0.3804,\n",
      "        -0.3725, -0.3647, -0.3569, -0.3490, -0.3412, -0.3333, -0.3255, -0.3176,\n",
      "        -0.3098, -0.3020, -0.2941, -0.2863, -0.2784, -0.2706, -0.2627, -0.2549,\n",
      "        -0.2471, -0.2392, -0.2314, -0.2235, -0.2157, -0.2078, -0.2000, -0.1922,\n",
      "        -0.1843, -0.1765, -0.1686, -0.1608, -0.1529, -0.1451, -0.1373, -0.1294,\n",
      "        -0.1216, -0.1137, -0.1059, -0.0980, -0.0902, -0.0824, -0.0745, -0.0667,\n",
      "        -0.0588, -0.0510, -0.0431, -0.0353, -0.0275, -0.0196, -0.0118, -0.0039,\n",
      "         0.0039,  0.0118,  0.0196,  0.0275,  0.0353,  0.0431,  0.0510,  0.0588,\n",
      "         0.0667,  0.0745,  0.0824,  0.0902,  0.0980,  0.1059,  0.1137,  0.1216,\n",
      "         0.1294,  0.1373,  0.1451,  0.1529,  0.1608,  0.1686,  0.1765,  0.1843,\n",
      "         0.1922,  0.2000,  0.2078,  0.2157,  0.2235,  0.2314,  0.2392,  0.2471,\n",
      "         0.2549,  0.2627,  0.2706,  0.2784,  0.2863,  0.2941,  0.3020,  0.3098,\n",
      "         0.3176,  0.3255,  0.3333,  0.3412,  0.3490,  0.3569,  0.3647,  0.3725,\n",
      "         0.3804,  0.3882,  0.3961,  0.4039,  0.4118,  0.4196,  0.4275,  0.4353,\n",
      "         0.4431,  0.4510,  0.4588,  0.4667,  0.4745,  0.4824,  0.4902,  0.4980,\n",
      "         0.5059,  0.5137,  0.5216,  0.5294,  0.5373,  0.5451,  0.5529,  0.5608,\n",
      "         0.5686,  0.5765,  0.5843,  0.5922,  0.6000,  0.6078,  0.6157,  0.6235,\n",
      "         0.6314,  0.6392,  0.6471,  0.6549,  0.6627,  0.6706,  0.6784,  0.6863,\n",
      "         0.6941,  0.7020,  0.7098,  0.7176,  0.7255,  0.7333,  0.7412,  0.7490,\n",
      "         0.7569,  0.7647,  0.7725,  0.7804,  0.7882,  0.7961,  0.8039,  0.8118,\n",
      "         0.8196,  0.8275,  0.8353,  0.8431,  0.8510,  0.8588,  0.8667,  0.8745,\n",
      "         0.8824,  0.8902,  0.8980,  0.9059,  0.9137,  0.9216,  0.9294,  0.9373,\n",
      "         0.9451,  0.9529,  0.9608,  0.9686,  0.9765,  0.9843,  0.9922,  1.0000])\n"
     ]
    }
   ],
   "source": [
    "print(type(a_torch))\n",
    "print(a_torch.shape)\n",
    "print(a_torch)"
   ]
  },
  {
   "cell_type": "code",
   "execution_count": 4,
   "id": "3044dfeb-7462-405a-9c68-c627547c9364",
   "metadata": {},
   "outputs": [],
   "source": [
    "quant_id_layer = QuantIdentity(\n",
    "    bit_width = 4,\n",
    "    min_val = -1,\n",
    "    max_val = 1 - 2 ** (-3),\n",
    "    narrow_range = False, \n",
    "    restrict_scaling_type = RestrictValueType.POWER_OF_TWO,\n",
    "    return_quant_tensor = True)"
   ]
  },
  {
   "cell_type": "code",
   "execution_count": 7,
   "id": "efc1d428-e683-4d81-9e40-2a0cbaa0ef53",
   "metadata": {},
   "outputs": [
    {
     "name": "stderr",
     "output_type": "stream",
     "text": [
      "/opt/conda/envs/pytorch_brevitas/lib/python3.10/site-packages/torch/_tensor.py:1362: UserWarning: Named tensors and all their associated APIs are an experimental feature and subject to change. Please do not use them for anything important until they are released as stable. (Triggered internally at /opt/conda/conda-bld/pytorch_1702400410390/work/c10/core/TensorImpl.h:1900.)\n",
      "  return super().rename(names)\n"
     ]
    }
   ],
   "source": [
    "quant_oup = quant_id_layer(a_torch)"
   ]
  },
  {
   "cell_type": "code",
   "execution_count": 8,
   "id": "fd946fe9-b5f3-413c-880b-41a498cd9ebc",
   "metadata": {},
   "outputs": [
    {
     "data": {
      "text/plain": [
       "QuantTensor(value=tensor([-1.0000, -1.0000, -1.0000, -1.0000, -1.0000, -1.0000, -1.0000, -1.0000,\n",
       "        -0.8750, -0.8750, -0.8750, -0.8750, -0.8750, -0.8750, -0.8750, -0.8750,\n",
       "        -0.8750, -0.8750, -0.8750, -0.8750, -0.8750, -0.8750, -0.8750, -0.8750,\n",
       "        -0.7500, -0.7500, -0.7500, -0.7500, -0.7500, -0.7500, -0.7500, -0.7500,\n",
       "        -0.7500, -0.7500, -0.7500, -0.7500, -0.7500, -0.7500, -0.7500, -0.7500,\n",
       "        -0.6250, -0.6250, -0.6250, -0.6250, -0.6250, -0.6250, -0.6250, -0.6250,\n",
       "        -0.6250, -0.6250, -0.6250, -0.6250, -0.6250, -0.6250, -0.6250, -0.6250,\n",
       "        -0.5000, -0.5000, -0.5000, -0.5000, -0.5000, -0.5000, -0.5000, -0.5000,\n",
       "        -0.5000, -0.5000, -0.5000, -0.5000, -0.5000, -0.5000, -0.5000, -0.5000,\n",
       "        -0.3750, -0.3750, -0.3750, -0.3750, -0.3750, -0.3750, -0.3750, -0.3750,\n",
       "        -0.3750, -0.3750, -0.3750, -0.3750, -0.3750, -0.3750, -0.3750, -0.3750,\n",
       "        -0.2500, -0.2500, -0.2500, -0.2500, -0.2500, -0.2500, -0.2500, -0.2500,\n",
       "        -0.2500, -0.2500, -0.2500, -0.2500, -0.2500, -0.2500, -0.2500, -0.2500,\n",
       "        -0.1250, -0.1250, -0.1250, -0.1250, -0.1250, -0.1250, -0.1250, -0.1250,\n",
       "        -0.1250, -0.1250, -0.1250, -0.1250, -0.1250, -0.1250, -0.1250, -0.1250,\n",
       "        -0.0000, -0.0000, -0.0000, -0.0000, -0.0000, -0.0000, -0.0000, -0.0000,\n",
       "         0.0000,  0.0000,  0.0000,  0.0000,  0.0000,  0.0000,  0.0000,  0.0000,\n",
       "         0.1250,  0.1250,  0.1250,  0.1250,  0.1250,  0.1250,  0.1250,  0.1250,\n",
       "         0.1250,  0.1250,  0.1250,  0.1250,  0.1250,  0.1250,  0.1250,  0.1250,\n",
       "         0.2500,  0.2500,  0.2500,  0.2500,  0.2500,  0.2500,  0.2500,  0.2500,\n",
       "         0.2500,  0.2500,  0.2500,  0.2500,  0.2500,  0.2500,  0.2500,  0.2500,\n",
       "         0.3750,  0.3750,  0.3750,  0.3750,  0.3750,  0.3750,  0.3750,  0.3750,\n",
       "         0.3750,  0.3750,  0.3750,  0.3750,  0.3750,  0.3750,  0.3750,  0.3750,\n",
       "         0.5000,  0.5000,  0.5000,  0.5000,  0.5000,  0.5000,  0.5000,  0.5000,\n",
       "         0.5000,  0.5000,  0.5000,  0.5000,  0.5000,  0.5000,  0.5000,  0.5000,\n",
       "         0.6250,  0.6250,  0.6250,  0.6250,  0.6250,  0.6250,  0.6250,  0.6250,\n",
       "         0.6250,  0.6250,  0.6250,  0.6250,  0.6250,  0.6250,  0.6250,  0.6250,\n",
       "         0.7500,  0.7500,  0.7500,  0.7500,  0.7500,  0.7500,  0.7500,  0.7500,\n",
       "         0.7500,  0.7500,  0.7500,  0.7500,  0.7500,  0.7500,  0.7500,  0.7500,\n",
       "         0.8750,  0.8750,  0.8750,  0.8750,  0.8750,  0.8750,  0.8750,  0.8750,\n",
       "         0.8750,  0.8750,  0.8750,  0.8750,  0.8750,  0.8750,  0.8750,  0.8750,\n",
       "         0.8750,  0.8750,  0.8750,  0.8750,  0.8750,  0.8750,  0.8750,  0.8750],\n",
       "       grad_fn=<MulBackward0>), scale=tensor(0.1250, grad_fn=<DivBackward0>), zero_point=tensor(0.), bit_width=tensor(4.), signed_t=tensor(True), training_t=tensor(True))"
      ]
     },
     "execution_count": 8,
     "metadata": {},
     "output_type": "execute_result"
    }
   ],
   "source": [
    "quant_oup"
   ]
  },
  {
   "cell_type": "code",
   "execution_count": null,
   "id": "daa5d793-f581-4998-8262-5769a0a5fc6e",
   "metadata": {},
   "outputs": [],
   "source": []
  }
 ],
 "metadata": {
  "kernelspec": {
   "display_name": "Python 3 (ipykernel)",
   "language": "python",
   "name": "python3"
  },
  "language_info": {
   "codemirror_mode": {
    "name": "ipython",
    "version": 3
   },
   "file_extension": ".py",
   "mimetype": "text/x-python",
   "name": "python",
   "nbconvert_exporter": "python",
   "pygments_lexer": "ipython3",
   "version": "3.10.9"
  }
 },
 "nbformat": 4,
 "nbformat_minor": 5
}
