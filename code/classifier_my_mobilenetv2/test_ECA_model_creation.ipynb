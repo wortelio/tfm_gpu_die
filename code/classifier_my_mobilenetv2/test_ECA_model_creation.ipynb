{
 "cells": [
  {
   "cell_type": "code",
   "execution_count": 1,
   "id": "9fced473-bb44-4df6-a924-b07aa3698ee2",
   "metadata": {
    "tags": []
   },
   "outputs": [],
   "source": [
    "import modules.models.eca_mobilenetv2 as model\n",
    "\n",
    "import numpy as np\n",
    "import torch\n",
    "from torchinfo import summary\n",
    "\n",
    "import matplotlib.pyplot as plt"
   ]
  },
  {
   "cell_type": "markdown",
   "id": "26f8feb4-6807-4d94-9cd1-b35e4b895cf3",
   "metadata": {},
   "source": [
    "# Profiler: torchprofile"
   ]
  },
  {
   "cell_type": "code",
   "execution_count": 2,
   "id": "32a8cbf8-f8b8-4d41-8850-9a4e298f7cd5",
   "metadata": {},
   "outputs": [],
   "source": [
    "from torchprofile import profile_macs"
   ]
  },
  {
   "cell_type": "markdown",
   "id": "152f5887-dd04-4cad-9ffc-c4ffa846009f",
   "metadata": {},
   "source": [
    "# Profiler: torchlop"
   ]
  },
  {
   "cell_type": "code",
   "execution_count": 3,
   "id": "d3878a74-fc76-4fd3-bae2-3956c66f9800",
   "metadata": {
    "editable": true,
    "slideshow": {
     "slide_type": ""
    },
    "tags": []
   },
   "outputs": [],
   "source": [
    "from torchlop import profile"
   ]
  },
  {
   "cell_type": "code",
   "execution_count": 4,
   "id": "65274a03-5917-4e4c-830a-7c59a451beae",
   "metadata": {
    "editable": true,
    "slideshow": {
     "slide_type": ""
    },
    "tags": []
   },
   "outputs": [],
   "source": [
    "def get_macs_and_params_per_layer(model):\n",
    "\n",
    "    dummy_inp = torch.randn(1, 3, 224, 224)\n",
    "    macs, params, layer_infos = profile(model, inputs=(dummy_inp, ))\n",
    "\n",
    "    print('Total MACs of {}: {:.4g} M'.format(model.__class__.__name__, macs / 1e6))\n",
    "    print('Total params of {}: {}'.format(model.__class__.__name__, params))\n",
    "\n",
    "    macs_layer = {}\n",
    "    params_layer = {}\n",
    "\n",
    "    conv_idx = 0\n",
    "    linear_idx = 0\n",
    "    \n",
    "    for i, k in enumerate(layer_infos.keys()):\n",
    "        layer_type = layer_infos[k][\"type\"]\n",
    "        layer_ops = layer_infos[k][\"ops\"]\n",
    "        layer_params = layer_infos[k][\"params\"]\n",
    "        if layer_ops != 0 and layer_type != \"BatchNorm2d\":\n",
    "            if layer_type == \"Conv2d\": \n",
    "                macs_layer.update({layer_type + '_' + str(conv_idx): layer_ops})   \n",
    "                params_layer.update({layer_type + '_' + str(conv_idx): layer_params}) \n",
    "                conv_idx += 1\n",
    "            elif layer_type == \"Linear\":\n",
    "                macs_layer.update({layer_type + '_' + str(linear_idx): layer_ops}) \n",
    "                params_layer.update({layer_type + '_' + str(linear_idx): layer_params})  \n",
    "                linear_idx += 1 \n",
    "            else:\n",
    "                macs_layer.update({layer_type: layer_ops})\n",
    "                params_layer.update({layer_type: layer_params})\n",
    "\n",
    "    return macs_layer, params_layer"
   ]
  },
  {
   "cell_type": "markdown",
   "id": "7143d2be-37a8-482e-8c0f-02889285fe37",
   "metadata": {},
   "source": [
    "## Plot results"
   ]
  },
  {
   "cell_type": "code",
   "execution_count": 5,
   "id": "5c92e1e3-ed3b-4e1f-a07f-e69fd7c49f5a",
   "metadata": {},
   "outputs": [],
   "source": [
    "def plot_results(res_layer, res_type: str):\n",
    "    fig, ax = plt.subplots(figsize=(10,3))\n",
    "\n",
    "    layers_name = list(res_layer.keys())\n",
    "    layer_res = list(res_layer.values())\n",
    "    \n",
    "    rects = ax.bar(layers_name, layer_res)\n",
    "    ax.bar_label(rects, padding=3, fontsize=7)\n",
    "    if res_type == \"macs\":\n",
    "        ylabel = \"MACs (M)\"\n",
    "        title = \"MACs per layer (M)\"\n",
    "    elif res_type == \"params\":\n",
    "        ylabel = \"#Params\"  \n",
    "        title = \"#Params per layer\"\n",
    "    ax.set_ylabel(ylabel)\n",
    "    ax.set_title(title)\n",
    "    ax.set_xticks(np.arange(len(layers_name)), layers_name, rotation=90, fontsize=8)\n",
    "    \n",
    "    plt.show()"
   ]
  },
  {
   "cell_type": "markdown",
   "id": "4ed5d95c-3a19-42a9-a20f-4582e7f7b8e8",
   "metadata": {},
   "source": [
    "# Models"
   ]
  },
  {
   "cell_type": "code",
   "execution_count": 6,
   "id": "df181642-12b8-423e-9121-e317ca4f7234",
   "metadata": {
    "editable": true,
    "slideshow": {
     "slide_type": ""
    },
    "tags": []
   },
   "outputs": [],
   "source": [
    "eca_model = model.ECA_MobileNetV2().to('cpu')"
   ]
  },
  {
   "cell_type": "code",
   "execution_count": 7,
   "id": "c0b85e69-b552-4e9b-8998-1454942825f6",
   "metadata": {},
   "outputs": [],
   "source": [
    "eca_model.eval();"
   ]
  },
  {
   "cell_type": "markdown",
   "id": "6cc339a3-23c1-44b1-bea8-198f59e4e0bc",
   "metadata": {},
   "source": [
    "## MobileNetV2"
   ]
  },
  {
   "cell_type": "markdown",
   "id": "bdf10189-05cf-443a-acb7-fa90b649c3b2",
   "metadata": {},
   "source": [
    "### Profile"
   ]
  },
  {
   "cell_type": "code",
   "execution_count": 8,
   "id": "ebac7c39-a07b-4c79-ab8e-0c5dd2094532",
   "metadata": {},
   "outputs": [
    {
     "name": "stdout",
     "output_type": "stream",
     "text": [
      "ECA_MobileNetV2: 44.13 M\n"
     ]
    },
    {
     "name": "stderr",
     "output_type": "stream",
     "text": [
      "/opt/conda/envs/pytorch_23/lib/python3.10/site-packages/torchprofile/profile.py:22: UserWarning: No handlers found: \"aten::unsqueeze\". Skipped.\n",
      "  warnings.warn('No handlers found: \"{}\". Skipped.'.format(\n",
      "/opt/conda/envs/pytorch_23/lib/python3.10/site-packages/torchprofile/profile.py:22: UserWarning: No handlers found: \"aten::expand_as\". Skipped.\n",
      "  warnings.warn('No handlers found: \"{}\". Skipped.'.format(\n"
     ]
    }
   ],
   "source": [
    "inputs = torch.randn(1, 3, 224, 224)\n",
    "\n",
    "macs = profile_macs(eca_model, inputs)\n",
    "print('{}: {:.4g} M'.format(eca_model.__class__.__name__, macs / 1e6))"
   ]
  },
  {
   "cell_type": "code",
   "execution_count": 9,
   "id": "47b8463c-b941-4b95-a19a-c142fdd246bd",
   "metadata": {},
   "outputs": [
    {
     "name": "stdout",
     "output_type": "stream",
     "text": [
      "Total MACs of ECA_MobileNetV2: 46.19 M\n",
      "Total params of ECA_MobileNetV2: 68926.0\n"
     ]
    }
   ],
   "source": [
    "macs_mbnet, params_mbnet = get_macs_and_params_per_layer(eca_model)"
   ]
  },
  {
   "cell_type": "code",
   "execution_count": 10,
   "id": "1697b1d2-a13f-494e-8902-952db7a2b1c8",
   "metadata": {
    "scrolled": true
   },
   "outputs": [],
   "source": [
    "# plot_results(macs_mbnet, res_type=\"macs\")"
   ]
  },
  {
   "cell_type": "code",
   "execution_count": 11,
   "id": "029b995a-0bbc-4605-a3da-aa7edce7df80",
   "metadata": {},
   "outputs": [],
   "source": [
    "# plot_results(params_mbnet, res_type=\"params\")"
   ]
  },
  {
   "cell_type": "markdown",
   "id": "b54e4902-e3ce-45e8-a4a9-84509fa9c3cc",
   "metadata": {},
   "source": [
    "### Summary"
   ]
  },
  {
   "cell_type": "code",
   "execution_count": 12,
   "id": "4e5d8ae6-fe0e-4011-93fc-a0c1a84291d7",
   "metadata": {
    "editable": true,
    "slideshow": {
     "slide_type": ""
    },
    "tags": []
   },
   "outputs": [
    {
     "name": "stdout",
     "output_type": "stream",
     "text": [
      "====================================================================================================\n",
      "Layer (type:depth-idx)                             Output Shape              Param #\n",
      "====================================================================================================\n",
      "ECA_MobileNetV2                                    [1, 2]                    --\n",
      "├─Sequential: 1-1                                  [1, 128, 14, 14]          --\n",
      "│    └─ConvBNReLU: 2-1                             [1, 32, 112, 112]         --\n",
      "│    │    └─Conv2d: 3-1                            [1, 32, 112, 112]         864\n",
      "│    │    └─BatchNorm2d: 3-2                       [1, 32, 112, 112]         64\n",
      "│    │    └─ReLU6: 3-3                             [1, 32, 112, 112]         --\n",
      "│    └─InvertedResidual: 2-2                       [1, 8, 112, 112]          --\n",
      "│    │    └─Sequential: 3-4                        [1, 8, 112, 112]          627\n",
      "│    └─InvertedResidual: 2-3                       [1, 16, 56, 56]           --\n",
      "│    │    └─Sequential: 3-5                        [1, 16, 56, 56]           627\n",
      "│    └─InvertedResidual: 2-4                       [1, 16, 56, 56]           --\n",
      "│    │    └─Sequential: 3-6                        [1, 16, 56, 56]           1,475\n",
      "│    └─InvertedResidual: 2-5                       [1, 24, 28, 28]           --\n",
      "│    │    └─Sequential: 3-7                        [1, 24, 28, 28]           1,749\n",
      "│    └─InvertedResidual: 2-6                       [1, 24, 28, 28]           --\n",
      "│    │    └─Sequential: 3-8                        [1, 24, 28, 28]           2,981\n",
      "│    └─InvertedResidual: 2-7                       [1, 32, 14, 14]           --\n",
      "│    │    └─Sequential: 3-9                        [1, 32, 14, 14]           6,693\n",
      "│    └─InvertedResidual: 2-8                       [1, 32, 14, 14]           --\n",
      "│    │    └─Sequential: 3-10                       [1, 32, 14, 14]           9,925\n",
      "│    └─InvertedResidual: 2-9                       [1, 32, 14, 14]           --\n",
      "│    │    └─Sequential: 3-11                       [1, 32, 14, 14]           9,925\n",
      "│    └─InvertedResidual: 2-10                      [1, 64, 14, 14]           --\n",
      "│    │    └─Sequential: 3-12                       [1, 64, 14, 14]           7,109\n",
      "│    └─InvertedResidual: 2-11                      [1, 64, 14, 14]           --\n",
      "│    │    └─Sequential: 3-13                       [1, 64, 14, 14]           18,181\n",
      "│    └─ConvBNReLU: 2-12                            [1, 128, 14, 14]          --\n",
      "│    │    └─Conv2d: 3-14                           [1, 128, 14, 14]          8,192\n",
      "│    │    └─BatchNorm2d: 3-15                      [1, 128, 14, 14]          256\n",
      "│    │    └─ReLU6: 3-16                            [1, 128, 14, 14]          --\n",
      "├─AdaptiveAvgPool2d: 1-2                           [1, 128, 1, 1]            --\n",
      "├─Sequential: 1-3                                  [1, 2]                    --\n",
      "│    └─Dropout: 2-13                               [1, 128]                  --\n",
      "│    └─Linear: 2-14                                [1, 2]                    258\n",
      "====================================================================================================\n",
      "Total params: 68,926\n",
      "Trainable params: 68,926\n",
      "Non-trainable params: 0\n",
      "Total mult-adds (M): 41.82\n",
      "====================================================================================================\n",
      "Input size (MB): 0.60\n",
      "Forward/backward pass size (MB): 32.52\n",
      "Params size (MB): 0.28\n",
      "Estimated Total Size (MB): 33.39\n",
      "====================================================================================================\n"
     ]
    }
   ],
   "source": [
    "print(summary(eca_model, input_size=(1, 3, 224, 224)))"
   ]
  },
  {
   "cell_type": "code",
   "execution_count": null,
   "id": "2d6e082e-844d-42ed-83a4-2e7f7414c17d",
   "metadata": {},
   "outputs": [],
   "source": []
  }
 ],
 "metadata": {
  "kernelspec": {
   "display_name": "Python 3 (ipykernel)",
   "language": "python",
   "name": "python3"
  },
  "language_info": {
   "codemirror_mode": {
    "name": "ipython",
    "version": 3
   },
   "file_extension": ".py",
   "mimetype": "text/x-python",
   "name": "python",
   "nbconvert_exporter": "python",
   "pygments_lexer": "ipython3",
   "version": "3.10.13"
  }
 },
 "nbformat": 4,
 "nbformat_minor": 5
}
