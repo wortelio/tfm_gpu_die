{
 "cells": [
  {
   "cell_type": "code",
   "execution_count": 1,
   "id": "9fced473-bb44-4df6-a924-b07aa3698ee2",
   "metadata": {
    "tags": []
   },
   "outputs": [],
   "source": [
    "import modules.eca_mobilenetv2 as model\n",
    "\n",
    "import numpy as np\n",
    "import torch\n",
    "from torchinfo import summary\n",
    "\n",
    "import matplotlib.pyplot as plt"
   ]
  },
  {
   "cell_type": "markdown",
   "id": "26f8feb4-6807-4d94-9cd1-b35e4b895cf3",
   "metadata": {},
   "source": [
    "# Profiler: torchprofile"
   ]
  },
  {
   "cell_type": "code",
   "execution_count": 2,
   "id": "32a8cbf8-f8b8-4d41-8850-9a4e298f7cd5",
   "metadata": {},
   "outputs": [],
   "source": [
    "from torchprofile import profile_macs"
   ]
  },
  {
   "cell_type": "markdown",
   "id": "152f5887-dd04-4cad-9ffc-c4ffa846009f",
   "metadata": {},
   "source": [
    "# Profiler: torchlop"
   ]
  },
  {
   "cell_type": "code",
   "execution_count": 3,
   "id": "d3878a74-fc76-4fd3-bae2-3956c66f9800",
   "metadata": {
    "editable": true,
    "slideshow": {
     "slide_type": ""
    },
    "tags": []
   },
   "outputs": [],
   "source": [
    "from torchlop import profile"
   ]
  },
  {
   "cell_type": "code",
   "execution_count": 4,
   "id": "65274a03-5917-4e4c-830a-7c59a451beae",
   "metadata": {
    "editable": true,
    "slideshow": {
     "slide_type": ""
    },
    "tags": []
   },
   "outputs": [],
   "source": [
    "def get_macs_and_params_per_layer(model):\n",
    "\n",
    "    dummy_inp = torch.randn(1, 3, 224, 224)\n",
    "    macs, params, layer_infos = profile(model, inputs=(dummy_inp, ))\n",
    "\n",
    "    print('Total MACs of {}: {:.4g} M'.format(model.__class__.__name__, macs / 1e6))\n",
    "    print('Total params of {}: {}'.format(model.__class__.__name__, params))\n",
    "\n",
    "    macs_layer = {}\n",
    "    params_layer = {}\n",
    "\n",
    "    conv_idx = 0\n",
    "    linear_idx = 0\n",
    "    \n",
    "    for i, k in enumerate(layer_infos.keys()):\n",
    "        layer_type = layer_infos[k][\"type\"]\n",
    "        layer_ops = layer_infos[k][\"ops\"]\n",
    "        layer_params = layer_infos[k][\"params\"]\n",
    "        if layer_ops != 0 and layer_type != \"BatchNorm2d\":\n",
    "            if layer_type == \"Conv2d\": \n",
    "                macs_layer.update({layer_type + '_' + str(conv_idx): layer_ops})   \n",
    "                params_layer.update({layer_type + '_' + str(conv_idx): layer_params}) \n",
    "                conv_idx += 1\n",
    "            elif layer_type == \"Linear\":\n",
    "                macs_layer.update({layer_type + '_' + str(linear_idx): layer_ops}) \n",
    "                params_layer.update({layer_type + '_' + str(linear_idx): layer_params})  \n",
    "                linear_idx += 1 \n",
    "            else:\n",
    "                macs_layer.update({layer_type: layer_ops})\n",
    "                params_layer.update({layer_type: layer_params})\n",
    "\n",
    "    return macs_layer, params_layer"
   ]
  },
  {
   "cell_type": "markdown",
   "id": "7143d2be-37a8-482e-8c0f-02889285fe37",
   "metadata": {},
   "source": [
    "## Plot results"
   ]
  },
  {
   "cell_type": "code",
   "execution_count": 5,
   "id": "5c92e1e3-ed3b-4e1f-a07f-e69fd7c49f5a",
   "metadata": {},
   "outputs": [],
   "source": [
    "def plot_results(res_layer, res_type: str):\n",
    "    fig, ax = plt.subplots(figsize=(10,3))\n",
    "\n",
    "    layers_name = list(res_layer.keys())\n",
    "    layer_res = list(res_layer.values())\n",
    "    \n",
    "    rects = ax.bar(layers_name, layer_res)\n",
    "    ax.bar_label(rects, padding=3, fontsize=7)\n",
    "    if res_type == \"macs\":\n",
    "        ylabel = \"MACs (M)\"\n",
    "        title = \"MACs per layer (M)\"\n",
    "    elif res_type == \"params\":\n",
    "        ylabel = \"#Params\"  \n",
    "        title = \"#Params per layer\"\n",
    "    ax.set_ylabel(ylabel)\n",
    "    ax.set_title(title)\n",
    "    ax.set_xticks(np.arange(len(layers_name)), layers_name, rotation=90, fontsize=8)\n",
    "    \n",
    "    plt.show()"
   ]
  },
  {
   "cell_type": "markdown",
   "id": "4ed5d95c-3a19-42a9-a20f-4582e7f7b8e8",
   "metadata": {},
   "source": [
    "# Models"
   ]
  },
  {
   "cell_type": "code",
   "execution_count": 6,
   "id": "df181642-12b8-423e-9121-e317ca4f7234",
   "metadata": {
    "editable": true,
    "slideshow": {
     "slide_type": ""
    },
    "tags": []
   },
   "outputs": [],
   "source": [
    "eca_model = model.ECA_MobileNetV2().to('cpu')"
   ]
  },
  {
   "cell_type": "code",
   "execution_count": 7,
   "id": "c0b85e69-b552-4e9b-8998-1454942825f6",
   "metadata": {},
   "outputs": [],
   "source": [
    "eca_model.eval();"
   ]
  },
  {
   "cell_type": "markdown",
   "id": "6cc339a3-23c1-44b1-bea8-198f59e4e0bc",
   "metadata": {},
   "source": [
    "## MobileNetV2"
   ]
  },
  {
   "cell_type": "markdown",
   "id": "bdf10189-05cf-443a-acb7-fa90b649c3b2",
   "metadata": {},
   "source": [
    "### Profile"
   ]
  },
  {
   "cell_type": "code",
   "execution_count": 8,
   "id": "ebac7c39-a07b-4c79-ab8e-0c5dd2094532",
   "metadata": {},
   "outputs": [
    {
     "name": "stdout",
     "output_type": "stream",
     "text": [
      "ECA_MobileNetV2: 44.13 M\n"
     ]
    },
    {
     "name": "stderr",
     "output_type": "stream",
     "text": [
      "/opt/conda/envs/pytorch_23/lib/python3.10/site-packages/torchprofile/profile.py:22: UserWarning: No handlers found: \"aten::unsqueeze\". Skipped.\n",
      "  warnings.warn('No handlers found: \"{}\". Skipped.'.format(\n"
     ]
    }
   ],
   "source": [
    "inputs = torch.randn(1, 3, 224, 224)\n",
    "\n",
    "macs = profile_macs(eca_model, inputs)\n",
    "print('{}: {:.4g} M'.format(eca_model.__class__.__name__, macs / 1e6))"
   ]
  },
  {
   "cell_type": "code",
   "execution_count": 9,
   "id": "47b8463c-b941-4b95-a19a-c142fdd246bd",
   "metadata": {},
   "outputs": [
    {
     "name": "stdout",
     "output_type": "stream",
     "text": [
      "Total MACs of ECA_MobileNetV2: 46.19 M\n",
      "Total params of ECA_MobileNetV2: 68892.0\n"
     ]
    }
   ],
   "source": [
    "macs_mbnet, params_mbnet = get_macs_and_params_per_layer(eca_model)"
   ]
  },
  {
   "cell_type": "code",
   "execution_count": 10,
   "id": "1697b1d2-a13f-494e-8902-952db7a2b1c8",
   "metadata": {
    "scrolled": true
   },
   "outputs": [
    {
     "ename": "TypeError",
     "evalue": "unsupported operand type(s) for +: 'int' and 'NoneType'",
     "output_type": "error",
     "traceback": [
      "\u001b[0;31m---------------------------------------------------------------------------\u001b[0m",
      "\u001b[0;31mTypeError\u001b[0m                                 Traceback (most recent call last)",
      "Cell \u001b[0;32mIn[10], line 1\u001b[0m\n\u001b[0;32m----> 1\u001b[0m \u001b[43mplot_results\u001b[49m\u001b[43m(\u001b[49m\u001b[43mmacs_mbnet\u001b[49m\u001b[43m,\u001b[49m\u001b[43m \u001b[49m\u001b[43mres_type\u001b[49m\u001b[38;5;241;43m=\u001b[39;49m\u001b[38;5;124;43m\"\u001b[39;49m\u001b[38;5;124;43mmacs\u001b[39;49m\u001b[38;5;124;43m\"\u001b[39;49m\u001b[43m)\u001b[49m\n",
      "Cell \u001b[0;32mIn[5], line 7\u001b[0m, in \u001b[0;36mplot_results\u001b[0;34m(res_layer, res_type)\u001b[0m\n\u001b[1;32m      4\u001b[0m layers_name \u001b[38;5;241m=\u001b[39m \u001b[38;5;28mlist\u001b[39m(res_layer\u001b[38;5;241m.\u001b[39mkeys())\n\u001b[1;32m      5\u001b[0m layer_res \u001b[38;5;241m=\u001b[39m \u001b[38;5;28mlist\u001b[39m(res_layer\u001b[38;5;241m.\u001b[39mvalues())\n\u001b[0;32m----> 7\u001b[0m rects \u001b[38;5;241m=\u001b[39m \u001b[43max\u001b[49m\u001b[38;5;241;43m.\u001b[39;49m\u001b[43mbar\u001b[49m\u001b[43m(\u001b[49m\u001b[43mlayers_name\u001b[49m\u001b[43m,\u001b[49m\u001b[43m \u001b[49m\u001b[43mlayer_res\u001b[49m\u001b[43m)\u001b[49m\n\u001b[1;32m      8\u001b[0m ax\u001b[38;5;241m.\u001b[39mbar_label(rects, padding\u001b[38;5;241m=\u001b[39m\u001b[38;5;241m3\u001b[39m, fontsize\u001b[38;5;241m=\u001b[39m\u001b[38;5;241m7\u001b[39m)\n\u001b[1;32m      9\u001b[0m \u001b[38;5;28;01mif\u001b[39;00m res_type \u001b[38;5;241m==\u001b[39m \u001b[38;5;124m\"\u001b[39m\u001b[38;5;124mmacs\u001b[39m\u001b[38;5;124m\"\u001b[39m:\n",
      "File \u001b[0;32m/opt/conda/envs/pytorch_23/lib/python3.10/site-packages/matplotlib/__init__.py:1473\u001b[0m, in \u001b[0;36m_preprocess_data.<locals>.inner\u001b[0;34m(ax, data, *args, **kwargs)\u001b[0m\n\u001b[1;32m   1470\u001b[0m \u001b[38;5;129m@functools\u001b[39m\u001b[38;5;241m.\u001b[39mwraps(func)\n\u001b[1;32m   1471\u001b[0m \u001b[38;5;28;01mdef\u001b[39;00m \u001b[38;5;21minner\u001b[39m(ax, \u001b[38;5;241m*\u001b[39margs, data\u001b[38;5;241m=\u001b[39m\u001b[38;5;28;01mNone\u001b[39;00m, \u001b[38;5;241m*\u001b[39m\u001b[38;5;241m*\u001b[39mkwargs):\n\u001b[1;32m   1472\u001b[0m     \u001b[38;5;28;01mif\u001b[39;00m data \u001b[38;5;129;01mis\u001b[39;00m \u001b[38;5;28;01mNone\u001b[39;00m:\n\u001b[0;32m-> 1473\u001b[0m         \u001b[38;5;28;01mreturn\u001b[39;00m \u001b[43mfunc\u001b[49m\u001b[43m(\u001b[49m\n\u001b[1;32m   1474\u001b[0m \u001b[43m            \u001b[49m\u001b[43max\u001b[49m\u001b[43m,\u001b[49m\n\u001b[1;32m   1475\u001b[0m \u001b[43m            \u001b[49m\u001b[38;5;241;43m*\u001b[39;49m\u001b[38;5;28;43mmap\u001b[39;49m\u001b[43m(\u001b[49m\u001b[43msanitize_sequence\u001b[49m\u001b[43m,\u001b[49m\u001b[43m \u001b[49m\u001b[43margs\u001b[49m\u001b[43m)\u001b[49m\u001b[43m,\u001b[49m\n\u001b[1;32m   1476\u001b[0m \u001b[43m            \u001b[49m\u001b[38;5;241;43m*\u001b[39;49m\u001b[38;5;241;43m*\u001b[39;49m\u001b[43m{\u001b[49m\u001b[43mk\u001b[49m\u001b[43m:\u001b[49m\u001b[43m \u001b[49m\u001b[43msanitize_sequence\u001b[49m\u001b[43m(\u001b[49m\u001b[43mv\u001b[49m\u001b[43m)\u001b[49m\u001b[43m \u001b[49m\u001b[38;5;28;43;01mfor\u001b[39;49;00m\u001b[43m \u001b[49m\u001b[43mk\u001b[49m\u001b[43m,\u001b[49m\u001b[43m \u001b[49m\u001b[43mv\u001b[49m\u001b[43m \u001b[49m\u001b[38;5;129;43;01min\u001b[39;49;00m\u001b[43m \u001b[49m\u001b[43mkwargs\u001b[49m\u001b[38;5;241;43m.\u001b[39;49m\u001b[43mitems\u001b[49m\u001b[43m(\u001b[49m\u001b[43m)\u001b[49m\u001b[43m}\u001b[49m\u001b[43m)\u001b[49m\n\u001b[1;32m   1478\u001b[0m     bound \u001b[38;5;241m=\u001b[39m new_sig\u001b[38;5;241m.\u001b[39mbind(ax, \u001b[38;5;241m*\u001b[39margs, \u001b[38;5;241m*\u001b[39m\u001b[38;5;241m*\u001b[39mkwargs)\n\u001b[1;32m   1479\u001b[0m     auto_label \u001b[38;5;241m=\u001b[39m (bound\u001b[38;5;241m.\u001b[39marguments\u001b[38;5;241m.\u001b[39mget(label_namer)\n\u001b[1;32m   1480\u001b[0m                   \u001b[38;5;129;01mor\u001b[39;00m bound\u001b[38;5;241m.\u001b[39mkwargs\u001b[38;5;241m.\u001b[39mget(label_namer))\n",
      "File \u001b[0;32m/opt/conda/envs/pytorch_23/lib/python3.10/site-packages/matplotlib/axes/_axes.py:2583\u001b[0m, in \u001b[0;36mAxes.bar\u001b[0;34m(self, x, height, width, bottom, align, **kwargs)\u001b[0m\n\u001b[1;32m   2580\u001b[0m args \u001b[38;5;241m=\u001b[39m \u001b[38;5;28mzip\u001b[39m(left, bottom, width, height, color, edgecolor, linewidth,\n\u001b[1;32m   2581\u001b[0m            hatch, patch_labels)\n\u001b[1;32m   2582\u001b[0m \u001b[38;5;28;01mfor\u001b[39;00m l, b, w, h, c, e, lw, htch, lbl \u001b[38;5;129;01min\u001b[39;00m args:\n\u001b[0;32m-> 2583\u001b[0m     r \u001b[38;5;241m=\u001b[39m \u001b[43mmpatches\u001b[49m\u001b[38;5;241;43m.\u001b[39;49m\u001b[43mRectangle\u001b[49m\u001b[43m(\u001b[49m\n\u001b[1;32m   2584\u001b[0m \u001b[43m        \u001b[49m\u001b[43mxy\u001b[49m\u001b[38;5;241;43m=\u001b[39;49m\u001b[43m(\u001b[49m\u001b[43ml\u001b[49m\u001b[43m,\u001b[49m\u001b[43m \u001b[49m\u001b[43mb\u001b[49m\u001b[43m)\u001b[49m\u001b[43m,\u001b[49m\u001b[43m \u001b[49m\u001b[43mwidth\u001b[49m\u001b[38;5;241;43m=\u001b[39;49m\u001b[43mw\u001b[49m\u001b[43m,\u001b[49m\u001b[43m \u001b[49m\u001b[43mheight\u001b[49m\u001b[38;5;241;43m=\u001b[39;49m\u001b[43mh\u001b[49m\u001b[43m,\u001b[49m\n\u001b[1;32m   2585\u001b[0m \u001b[43m        \u001b[49m\u001b[43mfacecolor\u001b[49m\u001b[38;5;241;43m=\u001b[39;49m\u001b[43mc\u001b[49m\u001b[43m,\u001b[49m\n\u001b[1;32m   2586\u001b[0m \u001b[43m        \u001b[49m\u001b[43medgecolor\u001b[49m\u001b[38;5;241;43m=\u001b[39;49m\u001b[43me\u001b[49m\u001b[43m,\u001b[49m\n\u001b[1;32m   2587\u001b[0m \u001b[43m        \u001b[49m\u001b[43mlinewidth\u001b[49m\u001b[38;5;241;43m=\u001b[39;49m\u001b[43mlw\u001b[49m\u001b[43m,\u001b[49m\n\u001b[1;32m   2588\u001b[0m \u001b[43m        \u001b[49m\u001b[43mlabel\u001b[49m\u001b[38;5;241;43m=\u001b[39;49m\u001b[43mlbl\u001b[49m\u001b[43m,\u001b[49m\n\u001b[1;32m   2589\u001b[0m \u001b[43m        \u001b[49m\u001b[43mhatch\u001b[49m\u001b[38;5;241;43m=\u001b[39;49m\u001b[43mhtch\u001b[49m\u001b[43m,\u001b[49m\n\u001b[1;32m   2590\u001b[0m \u001b[43m        \u001b[49m\u001b[43m)\u001b[49m\n\u001b[1;32m   2591\u001b[0m     r\u001b[38;5;241m.\u001b[39m_internal_update(kwargs)\n\u001b[1;32m   2592\u001b[0m     r\u001b[38;5;241m.\u001b[39mget_path()\u001b[38;5;241m.\u001b[39m_interpolation_steps \u001b[38;5;241m=\u001b[39m \u001b[38;5;241m100\u001b[39m\n",
      "File \u001b[0;32m/opt/conda/envs/pytorch_23/lib/python3.10/site-packages/matplotlib/patches.py:776\u001b[0m, in \u001b[0;36mRectangle.__init__\u001b[0;34m(self, xy, width, height, angle, rotation_point, **kwargs)\u001b[0m\n\u001b[1;32m    769\u001b[0m \u001b[38;5;66;03m# Required for RectangleSelector with axes aspect ratio != 1\u001b[39;00m\n\u001b[1;32m    770\u001b[0m \u001b[38;5;66;03m# The patch is defined in data coordinates and when changing the\u001b[39;00m\n\u001b[1;32m    771\u001b[0m \u001b[38;5;66;03m# selector with square modifier and not in data coordinates, we need\u001b[39;00m\n\u001b[1;32m    772\u001b[0m \u001b[38;5;66;03m# to correct for the aspect ratio difference between the data and\u001b[39;00m\n\u001b[1;32m    773\u001b[0m \u001b[38;5;66;03m# display coordinate systems. Its value is typically provide by\u001b[39;00m\n\u001b[1;32m    774\u001b[0m \u001b[38;5;66;03m# Axes._get_aspect_ratio()\u001b[39;00m\n\u001b[1;32m    775\u001b[0m \u001b[38;5;28mself\u001b[39m\u001b[38;5;241m.\u001b[39m_aspect_ratio_correction \u001b[38;5;241m=\u001b[39m \u001b[38;5;241m1.0\u001b[39m\n\u001b[0;32m--> 776\u001b[0m \u001b[38;5;28;43mself\u001b[39;49m\u001b[38;5;241;43m.\u001b[39;49m\u001b[43m_convert_units\u001b[49m\u001b[43m(\u001b[49m\u001b[43m)\u001b[49m\n",
      "File \u001b[0;32m/opt/conda/envs/pytorch_23/lib/python3.10/site-packages/matplotlib/patches.py:787\u001b[0m, in \u001b[0;36mRectangle._convert_units\u001b[0;34m(self)\u001b[0m\n\u001b[1;32m    785\u001b[0m y0 \u001b[38;5;241m=\u001b[39m \u001b[38;5;28mself\u001b[39m\u001b[38;5;241m.\u001b[39mconvert_yunits(\u001b[38;5;28mself\u001b[39m\u001b[38;5;241m.\u001b[39m_y0)\n\u001b[1;32m    786\u001b[0m x1 \u001b[38;5;241m=\u001b[39m \u001b[38;5;28mself\u001b[39m\u001b[38;5;241m.\u001b[39mconvert_xunits(\u001b[38;5;28mself\u001b[39m\u001b[38;5;241m.\u001b[39m_x0 \u001b[38;5;241m+\u001b[39m \u001b[38;5;28mself\u001b[39m\u001b[38;5;241m.\u001b[39m_width)\n\u001b[0;32m--> 787\u001b[0m y1 \u001b[38;5;241m=\u001b[39m \u001b[38;5;28mself\u001b[39m\u001b[38;5;241m.\u001b[39mconvert_yunits(\u001b[38;5;28;43mself\u001b[39;49m\u001b[38;5;241;43m.\u001b[39;49m\u001b[43m_y0\u001b[49m\u001b[43m \u001b[49m\u001b[38;5;241;43m+\u001b[39;49m\u001b[43m \u001b[49m\u001b[38;5;28;43mself\u001b[39;49m\u001b[38;5;241;43m.\u001b[39;49m\u001b[43m_height\u001b[49m)\n\u001b[1;32m    788\u001b[0m \u001b[38;5;28;01mreturn\u001b[39;00m x0, y0, x1, y1\n",
      "\u001b[0;31mTypeError\u001b[0m: unsupported operand type(s) for +: 'int' and 'NoneType'"
     ]
    },
    {
     "data": {
      "image/png": "[encoded data removed]",
      "text/plain": [
       "<Figure size 1000x300 with 1 Axes>"
      ]
     },
     "metadata": {},
     "output_type": "display_data"
    }
   ],
   "source": [
    "plot_results(macs_mbnet, res_type=\"macs\")"
   ]
  },
  {
   "cell_type": "code",
   "execution_count": null,
   "id": "029b995a-0bbc-4605-a3da-aa7edce7df80",
   "metadata": {},
   "outputs": [],
   "source": [
    "plot_results(params_mbnet, res_type=\"params\")"
   ]
  },
  {
   "cell_type": "markdown",
   "id": "b54e4902-e3ce-45e8-a4a9-84509fa9c3cc",
   "metadata": {},
   "source": [
    "### Summary"
   ]
  },
  {
   "cell_type": "code",
   "execution_count": 11,
   "id": "4e5d8ae6-fe0e-4011-93fc-a0c1a84291d7",
   "metadata": {
    "editable": true,
    "slideshow": {
     "slide_type": ""
    },
    "tags": []
   },
   "outputs": [
    {
     "name": "stdout",
     "output_type": "stream",
     "text": [
      "====================================================================================================\n",
      "Layer (type:depth-idx)                             Output Shape              Param #\n",
      "====================================================================================================\n",
      "ECA_MobileNetV2                                    [1, 2]                    --\n",
      "├─Sequential: 1-1                                  [1, 128, 14, 14]          --\n",
      "│    └─ConvBNReLU: 2-1                             [1, 32, 112, 112]         --\n",
      "│    │    └─Conv2d: 3-1                            [1, 32, 112, 112]         864\n",
      "│    │    └─BatchNorm2d: 3-2                       [1, 32, 112, 112]         64\n",
      "│    │    └─ReLU6: 3-3                             [1, 32, 112, 112]         --\n",
      "│    └─InvertedResidual: 2-2                       [1, 8, 112, 112]          --\n",
      "│    │    └─Sequential: 3-4                        [1, 8, 112, 112]          625\n",
      "│    └─InvertedResidual: 2-3                       [1, 16, 56, 56]           --\n",
      "│    │    └─Sequential: 3-5                        [1, 16, 56, 56]           625\n",
      "│    └─InvertedResidual: 2-4                       [1, 16, 56, 56]           --\n",
      "│    │    └─Sequential: 3-6                        [1, 16, 56, 56]           1,473\n",
      "│    └─InvertedResidual: 2-5                       [1, 24, 28, 28]           --\n",
      "│    │    └─Sequential: 3-7                        [1, 24, 28, 28]           1,745\n",
      "│    └─InvertedResidual: 2-6                       [1, 24, 28, 28]           --\n",
      "│    │    └─Sequential: 3-8                        [1, 24, 28, 28]           2,977\n",
      "│    └─InvertedResidual: 2-7                       [1, 32, 14, 14]           --\n",
      "│    │    └─Sequential: 3-9                        [1, 32, 14, 14]           6,689\n",
      "│    └─InvertedResidual: 2-8                       [1, 32, 14, 14]           --\n",
      "│    │    └─Sequential: 3-10                       [1, 32, 14, 14]           9,921\n",
      "│    └─InvertedResidual: 2-9                       [1, 32, 14, 14]           --\n",
      "│    │    └─Sequential: 3-11                       [1, 32, 14, 14]           9,921\n",
      "│    └─InvertedResidual: 2-10                      [1, 64, 14, 14]           --\n",
      "│    │    └─Sequential: 3-12                       [1, 64, 14, 14]           7,105\n",
      "│    └─InvertedResidual: 2-11                      [1, 64, 14, 14]           --\n",
      "│    │    └─Sequential: 3-13                       [1, 64, 14, 14]           18,177\n",
      "│    └─ConvBNReLU: 2-12                            [1, 128, 14, 14]          --\n",
      "│    │    └─Conv2d: 3-14                           [1, 128, 14, 14]          8,192\n",
      "│    │    └─BatchNorm2d: 3-15                      [1, 128, 14, 14]          256\n",
      "│    │    └─ReLU6: 3-16                            [1, 128, 14, 14]          --\n",
      "├─AdaptiveAvgPool2d: 1-2                           [1, 128, 1, 1]            --\n",
      "├─Sequential: 1-3                                  [1, 2]                    --\n",
      "│    └─Dropout: 2-13                               [1, 128]                  --\n",
      "│    └─Linear: 2-14                                [1, 2]                    258\n",
      "====================================================================================================\n",
      "Total params: 68,892\n",
      "Trainable params: 68,892\n",
      "Non-trainable params: 0\n",
      "Total mult-adds (M): 41.82\n",
      "====================================================================================================\n",
      "Input size (MB): 0.60\n",
      "Forward/backward pass size (MB): 32.52\n",
      "Params size (MB): 0.28\n",
      "Estimated Total Size (MB): 33.39\n",
      "====================================================================================================\n"
     ]
    }
   ],
   "source": [
    "print(summary(eca_model, input_size=(1, 3, 224, 224)))"
   ]
  },
  {
   "cell_type": "code",
   "execution_count": null,
   "id": "2d6e082e-844d-42ed-83a4-2e7f7414c17d",
   "metadata": {},
   "outputs": [],
   "source": []
  }
 ],
 "metadata": {
  "kernelspec": {
   "display_name": "Python 3 (ipykernel)",
   "language": "python",
   "name": "python3"
  },
  "language_info": {
   "codemirror_mode": {
    "name": "ipython",
    "version": 3
   },
   "file_extension": ".py",
   "mimetype": "text/x-python",
   "name": "python",
   "nbconvert_exporter": "python",
   "pygments_lexer": "ipython3",
   "version": "3.10.13"
  }
 },
 "nbformat": 4,
 "nbformat_minor": 5
}
