{
 "cells": [
  {
   "cell_type": "code",
   "execution_count": 1,
   "id": "ced39284-e77a-4bb4-b4f4-1e32f8dc378b",
   "metadata": {
    "editable": true,
    "slideshow": {
     "slide_type": ""
    },
    "tags": []
   },
   "outputs": [],
   "source": [
    "import numpy as np\n",
    "import torch\n",
    "import torch.nn as nn\n",
    "from torch.nn.utils import parameters_to_vector\n",
    "from torchinfo import summary\n",
    "from brevitas.nn import QuantConv2d\n",
    "\n",
    "import matplotlib.pyplot as plt\n",
    "\n",
    "from torchlop import profile"
   ]
  },
  {
   "cell_type": "markdown",
   "id": "32673ea5-65c2-418d-b4bb-dc52d5fc0cb5",
   "metadata": {},
   "source": [
    "# Load Model"
   ]
  },
  {
   "cell_type": "code",
   "execution_count": 2,
   "id": "22f90589-cae1-40db-b8d5-908ffba39664",
   "metadata": {},
   "outputs": [],
   "source": [
    "device = 'cpu'"
   ]
  },
  {
   "cell_type": "code",
   "execution_count": 3,
   "id": "a67c5235-908b-4e8a-a9d7-4de662b47c97",
   "metadata": {},
   "outputs": [],
   "source": [
    "# Always load Torch Model, to calculate Sparsity/MACs\n",
    "\n",
    "import modules.model_mobilenetv2_mini_Resnet as cnv_model\n",
    "torch_model = cnv_model.MobileNetV2_MINI_RESNET().to(device)\n",
    "torch_model_path = './experiments/test_v04_mini_resnet_70k_full_ds/weights/MY_MBLNET_V2_classifier__best_mean_F1.pt'"
   ]
  },
  {
   "cell_type": "code",
   "execution_count": 4,
   "id": "d776a21e-1f8c-4ab4-915c-ded0ba02c167",
   "metadata": {},
   "outputs": [],
   "source": [
    "model_name = \"brevitas 70k\"\n",
    "# model_name = \"brevitas relu6 70k\"\n",
    "# model_name = \"brevitas scalemin 70k\""
   ]
  },
  {
   "cell_type": "code",
   "execution_count": 5,
   "id": "65f05240-0c38-4f73-b06d-bf9ceefcb369",
   "metadata": {},
   "outputs": [
    {
     "name": "stderr",
     "output_type": "stream",
     "text": [
      "/opt/conda/envs/pytorch_brevitas/lib/python3.10/site-packages/brevitas/nn/mixin/base.py:77: UserWarning: Keyword arguments are being passed but they not being used.\n",
      "  warn('Keyword arguments are being passed but they not being used.')\n"
     ]
    }
   ],
   "source": [
    "if model_name == \"brevitas 70k\":\n",
    "    import modules.brevitas.model_mobilenetv2_mini_Resnet_Brevitas as cnv_model\n",
    "    model = cnv_model.MobileNetV2_MINI_RESNET().to(device)\n",
    "    model_path = './experiments_brevitas/test_v05_mini_resnet_70k_full_ds/weights/MY_MBLNET_V2_RESNET_classifier__best_mean_F1.pt'\n",
    "\n",
    "elif model_name == \"brevitas relu6 70k\":\n",
    "    import modules.brevitas.model_mobilenetv2_mini_Resnet_ReLU6_Brevitas as cnv_model\n",
    "    model = cnv_model.MobileNetV2_MINI_RESNET_RELU6().to(device)\n",
    "    model_path = './experiments_brevitas/test_v41_mini_resnet_70k_relu6_full_ds/weights/Mobilenetv2_ReLU6_classifier__best_mean_F1.pt'\n",
    "\n",
    "elif model_name == \"brevitas scalemin 70k\":\n",
    "    import modules.brevitas.model_mobilenetv2_mini_Resnet_Brevitas as cnv_model\n",
    "    model = cnv_model.MobileNetV2_MINI_RESNET().to(device)\n",
    "    model_path = './experiments_brevitas/test_v0501_mini_resnet_70k_ScaleMIN_full_ds/weights/Mobilenetv2_MINI_Resnet_classifier__best_mean_F1.pt'\n",
    "else:\n",
    "    raise Exception(\"Wrong Model\")"
   ]
  },
  {
   "cell_type": "markdown",
   "id": "1d0bac02-ea2e-40b6-9f71-456b3f3cf943",
   "metadata": {},
   "source": [
    "### Parameters"
   ]
  },
  {
   "cell_type": "code",
   "execution_count": 6,
   "id": "ce30cdae-4cb8-4399-9766-49932d6a4bed",
   "metadata": {
    "editable": true,
    "slideshow": {
     "slide_type": ""
    },
    "tags": []
   },
   "outputs": [
    {
     "name": "stdout",
     "output_type": "stream",
     "text": [
      "\n",
      "Trainable parameters = 68914\n",
      "Total parameters = 68914\n",
      "\n"
     ]
    }
   ],
   "source": [
    "n_trainable = sum(p.numel() for p in model.parameters() if p.requires_grad)\n",
    "print(f'\\nTrainable parameters = {n_trainable}')\n",
    "\n",
    "n_params = parameters_to_vector(model.parameters()).numel()\n",
    "print(f'Total parameters = {n_params}\\n')"
   ]
  },
  {
   "cell_type": "markdown",
   "id": "cfb33a7e-b560-4446-bd60-8621483adfdc",
   "metadata": {},
   "source": [
    "### Check Model Shape: Random Input"
   ]
  },
  {
   "cell_type": "code",
   "execution_count": 7,
   "id": "d80f00c5-183d-431b-bf8a-26551c390cae",
   "metadata": {},
   "outputs": [
    {
     "name": "stderr",
     "output_type": "stream",
     "text": [
      "/opt/conda/envs/pytorch_brevitas/lib/python3.10/site-packages/torch/_tensor.py:1362: UserWarning: Named tensors and all their associated APIs are an experimental feature and subject to change. Please do not use them for anything important until they are released as stable. (Triggered internally at /opt/conda/conda-bld/pytorch_1702400410390/work/c10/core/TensorImpl.h:1900.)\n",
      "  return super().rename(names)\n"
     ]
    },
    {
     "name": "stdout",
     "output_type": "stream",
     "text": [
      "Model shape is tensor([[-0.1453, -2.0159],\n",
      "        [-0.1369, -1.8874],\n",
      "        [-0.4905, -1.6104],\n",
      "        [ 0.0826, -1.7473]], grad_fn=<AddmmBackward0>)\n"
     ]
    }
   ],
   "source": [
    "dummy_input = np.random.rand(4, 3, 224, 224)\n",
    "dummy_input = torch.tensor(dummy_input, dtype=torch.float32, device=device)\n",
    "out_test = model(dummy_input)\n",
    "print(f'Model shape is {out_test}')"
   ]
  },
  {
   "cell_type": "markdown",
   "id": "6a769672-efb0-4727-8322-8c68795d0efb",
   "metadata": {},
   "source": [
    "### Torchinfo"
   ]
  },
  {
   "cell_type": "code",
   "execution_count": 8,
   "id": "607141f0-be35-4feb-8635-c63724d1503e",
   "metadata": {},
   "outputs": [
    {
     "name": "stdout",
     "output_type": "stream",
     "text": [
      "==================================================================================================================================\n",
      "Layer (type:depth-idx)                                                           Output Shape              Param #\n",
      "==================================================================================================================================\n",
      "MobileNetV2_MINI_RESNET                                                          [1, 2]                    --\n",
      "├─Sequential: 1-1                                                                [1, 64, 14, 14]           60,206\n",
      "│    └─QuantIdentity: 2-1                                                        [1, 3, 224, 224]          --\n",
      "│    │    └─ActQuantProxyFromInjector: 3-1                                       [1, 3, 224, 224]          --\n",
      "│    │    └─ActQuantProxyFromInjector: 3-2                                       [1, 3, 224, 224]          1\n",
      "├─Sequential: 1-72                                                               --                        (recursive)\n",
      "│    └─QuantReLU: 2-88                                                           --                        (recursive)\n",
      "│    │    └─ActQuantProxyFromInjector: 3-96                                      --                        (recursive)\n",
      "├─Sequential: 1-73                                                               --                        (recursive)\n",
      "│    └─QuantIdentity: 2-3                                                        --                        (recursive)\n",
      "│    │    └─ActQuantProxyFromInjector: 3-4                                       --                        (recursive)\n",
      "│    └─Sequential: 2-4                                                           [1, 32, 112, 112]         --\n",
      "│    │    └─QuantConv2d: 3-5                                                     [1, 32, 112, 112]         864\n",
      "│    │    └─BatchNorm2d: 3-6                                                     [1, 32, 112, 112]         64\n",
      "│    │    └─QuantReLU: 3-7                                                       [1, 32, 112, 112]         1\n",
      "├─Sequential: 1-72                                                               --                        (recursive)\n",
      "│    └─QuantReLU: 2-88                                                           --                        (recursive)\n",
      "│    │    └─ActQuantProxyFromInjector: 3-96                                      --                        (recursive)\n",
      "├─Sequential: 1-73                                                               --                        (recursive)\n",
      "│    └─Sequential: 2-6                                                           --                        (recursive)\n",
      "│    │    └─QuantReLU: 3-9                                                       --                        (recursive)\n",
      "│    └─InvertedBlock: 2-7                                                        [1, 8, 112, 112]          --\n",
      "│    │    └─Sequential: 3-10                                                     [1, 8, 112, 112]          626\n",
      "├─Sequential: 1-72                                                               --                        (recursive)\n",
      "│    └─QuantReLU: 2-88                                                           --                        (recursive)\n",
      "│    │    └─ActQuantProxyFromInjector: 3-96                                      --                        (recursive)\n",
      "├─Sequential: 1-73                                                               --                        (recursive)\n",
      "│    └─InvertedBlock: 2-11                                                       --                        (recursive)\n",
      "│    │    └─Sequential: 3-14                                                     --                        (recursive)\n",
      "├─Sequential: 1-72                                                               --                        (recursive)\n",
      "│    └─QuantReLU: 2-88                                                           --                        (recursive)\n",
      "│    │    └─ActQuantProxyFromInjector: 3-96                                      --                        (recursive)\n",
      "├─Sequential: 1-73                                                               --                        (recursive)\n",
      "│    └─InvertedBlock: 2-11                                                       --                        (recursive)\n",
      "│    │    └─Sequential: 3-14                                                     --                        (recursive)\n",
      "│    └─InvertedBlock: 2-12                                                       [1, 16, 56, 56]           --\n",
      "│    │    └─Sequential: 3-15                                                     [1, 16, 56, 56]           627\n",
      "├─Sequential: 1-72                                                               --                        (recursive)\n",
      "│    └─QuantReLU: 2-88                                                           --                        (recursive)\n",
      "│    │    └─ActQuantProxyFromInjector: 3-96                                      --                        (recursive)\n",
      "├─Sequential: 1-73                                                               --                        (recursive)\n",
      "│    └─InvertedBlock: 2-16                                                       --                        (recursive)\n",
      "│    │    └─Sequential: 3-19                                                     --                        (recursive)\n",
      "├─Sequential: 1-72                                                               --                        (recursive)\n",
      "│    └─QuantReLU: 2-88                                                           --                        (recursive)\n",
      "│    │    └─ActQuantProxyFromInjector: 3-96                                      --                        (recursive)\n",
      "├─Sequential: 1-73                                                               --                        (recursive)\n",
      "│    └─InvertedBlock: 2-16                                                       --                        (recursive)\n",
      "│    │    └─Sequential: 3-19                                                     --                        (recursive)\n",
      "│    └─InvertedBlock: 2-28                                                       --                        (recursive)\n",
      "│    │    └─Sequential: 3-29                                                     --                        (recursive)\n",
      "├─Sequential: 1-72                                                               --                        (recursive)\n",
      "│    └─QuantReLU: 2-88                                                           --                        (recursive)\n",
      "│    │    └─ActQuantProxyFromInjector: 3-96                                      --                        (recursive)\n",
      "├─Sequential: 1-73                                                               --                        (recursive)\n",
      "│    └─InvertedBlock: 2-28                                                       --                        (recursive)\n",
      "│    │    └─Sequential: 3-29                                                     --                        (recursive)\n",
      "│    └─InvertedBlock: 2-20                                                       [1, 16, 56, 56]           1\n",
      "│    │    └─Sequential: 3-23                                                     [1, 16, 56, 56]           1,475\n",
      "├─Sequential: 1-72                                                               --                        (recursive)\n",
      "│    └─QuantReLU: 2-88                                                           --                        (recursive)\n",
      "│    │    └─ActQuantProxyFromInjector: 3-96                                      --                        (recursive)\n",
      "├─Sequential: 1-73                                                               --                        (recursive)\n",
      "│    └─InvertedBlock: 2-28                                                       --                        (recursive)\n",
      "│    │    └─Sequential: 3-29                                                     --                        (recursive)\n",
      "├─Sequential: 1-72                                                               --                        (recursive)\n",
      "│    └─QuantReLU: 2-88                                                           --                        (recursive)\n",
      "│    │    └─ActQuantProxyFromInjector: 3-96                                      --                        (recursive)\n",
      "├─Sequential: 1-73                                                               --                        (recursive)\n",
      "│    └─InvertedBlock: 2-28                                                       --                        (recursive)\n",
      "│    │    └─Sequential: 3-29                                                     --                        (recursive)\n",
      "├─Sequential: 1-72                                                               --                        (recursive)\n",
      "│    └─QuantReLU: 2-88                                                           --                        (recursive)\n",
      "│    │    └─ActQuantProxyFromInjector: 3-96                                      --                        (recursive)\n",
      "├─Sequential: 1-73                                                               --                        (recursive)\n",
      "│    └─InvertedBlock: 2-28                                                       --                        (recursive)\n",
      "│    │    └─Sequential: 3-29                                                     --                        (recursive)\n",
      "│    │    └─QuantIdentity: 3-30                                                  [1, 16, 56, 56]           1\n",
      "├─Sequential: 1-72                                                               --                        (recursive)\n",
      "│    └─QuantReLU: 2-88                                                           --                        (recursive)\n",
      "│    │    └─ActQuantProxyFromInjector: 3-96                                      --                        (recursive)\n",
      "├─Sequential: 1-73                                                               --                        (recursive)\n",
      "│    └─InvertedBlock: 2-28                                                       --                        (recursive)\n",
      "│    │    └─QuantIdentity: 3-32                                                  --                        (recursive)\n",
      "│    └─InvertedBlock: 2-29                                                       [1, 24, 28, 28]           --\n",
      "│    │    └─Sequential: 3-33                                                     [1, 24, 28, 28]           1,747\n",
      "├─Sequential: 1-72                                                               --                        (recursive)\n",
      "│    └─QuantReLU: 2-88                                                           --                        (recursive)\n",
      "│    │    └─ActQuantProxyFromInjector: 3-96                                      --                        (recursive)\n",
      "├─Sequential: 1-73                                                               --                        (recursive)\n",
      "│    └─InvertedBlock: 2-33                                                       --                        (recursive)\n",
      "│    │    └─Sequential: 3-37                                                     --                        (recursive)\n",
      "├─Sequential: 1-72                                                               --                        (recursive)\n",
      "│    └─QuantReLU: 2-88                                                           --                        (recursive)\n",
      "│    │    └─ActQuantProxyFromInjector: 3-96                                      --                        (recursive)\n",
      "├─Sequential: 1-73                                                               --                        (recursive)\n",
      "│    └─InvertedBlock: 2-33                                                       --                        (recursive)\n",
      "│    │    └─Sequential: 3-37                                                     --                        (recursive)\n",
      "│    └─InvertedBlock: 2-45                                                       --                        (recursive)\n",
      "│    │    └─Sequential: 3-47                                                     --                        (recursive)\n",
      "├─Sequential: 1-72                                                               --                        (recursive)\n",
      "│    └─QuantReLU: 2-88                                                           --                        (recursive)\n",
      "│    │    └─ActQuantProxyFromInjector: 3-96                                      --                        (recursive)\n",
      "├─Sequential: 1-73                                                               --                        (recursive)\n",
      "│    └─InvertedBlock: 2-45                                                       --                        (recursive)\n",
      "│    │    └─Sequential: 3-47                                                     --                        (recursive)\n",
      "│    └─InvertedBlock: 2-37                                                       [1, 24, 28, 28]           1\n",
      "│    │    └─Sequential: 3-41                                                     [1, 24, 28, 28]           2,979\n",
      "├─Sequential: 1-72                                                               --                        (recursive)\n",
      "│    └─QuantReLU: 2-88                                                           --                        (recursive)\n",
      "│    │    └─ActQuantProxyFromInjector: 3-96                                      --                        (recursive)\n",
      "├─Sequential: 1-73                                                               --                        (recursive)\n",
      "│    └─InvertedBlock: 2-45                                                       --                        (recursive)\n",
      "│    │    └─Sequential: 3-47                                                     --                        (recursive)\n",
      "├─Sequential: 1-72                                                               --                        (recursive)\n",
      "│    └─QuantReLU: 2-88                                                           --                        (recursive)\n",
      "│    │    └─ActQuantProxyFromInjector: 3-96                                      --                        (recursive)\n",
      "├─Sequential: 1-73                                                               --                        (recursive)\n",
      "│    └─InvertedBlock: 2-45                                                       --                        (recursive)\n",
      "│    │    └─Sequential: 3-47                                                     --                        (recursive)\n",
      "├─Sequential: 1-72                                                               --                        (recursive)\n",
      "│    └─QuantReLU: 2-88                                                           --                        (recursive)\n",
      "│    │    └─ActQuantProxyFromInjector: 3-96                                      --                        (recursive)\n",
      "├─Sequential: 1-73                                                               --                        (recursive)\n",
      "│    └─InvertedBlock: 2-45                                                       --                        (recursive)\n",
      "│    │    └─Sequential: 3-47                                                     --                        (recursive)\n",
      "│    │    └─QuantIdentity: 3-48                                                  [1, 24, 28, 28]           1\n",
      "├─Sequential: 1-72                                                               --                        (recursive)\n",
      "│    └─QuantReLU: 2-88                                                           --                        (recursive)\n",
      "│    │    └─ActQuantProxyFromInjector: 3-96                                      --                        (recursive)\n",
      "├─Sequential: 1-73                                                               --                        (recursive)\n",
      "│    └─InvertedBlock: 2-45                                                       --                        (recursive)\n",
      "│    │    └─QuantIdentity: 3-50                                                  --                        (recursive)\n",
      "│    └─InvertedBlock: 2-46                                                       [1, 32, 14, 14]           --\n",
      "│    │    └─Sequential: 3-51                                                     [1, 32, 14, 14]           6,691\n",
      "├─Sequential: 1-72                                                               --                        (recursive)\n",
      "│    └─QuantReLU: 2-88                                                           --                        (recursive)\n",
      "│    │    └─ActQuantProxyFromInjector: 3-96                                      --                        (recursive)\n",
      "├─Sequential: 1-73                                                               --                        (recursive)\n",
      "│    └─InvertedBlock: 2-50                                                       --                        (recursive)\n",
      "│    │    └─Sequential: 3-55                                                     --                        (recursive)\n",
      "├─Sequential: 1-72                                                               --                        (recursive)\n",
      "│    └─QuantReLU: 2-88                                                           --                        (recursive)\n",
      "│    │    └─ActQuantProxyFromInjector: 3-96                                      --                        (recursive)\n",
      "├─Sequential: 1-73                                                               --                        (recursive)\n",
      "│    └─InvertedBlock: 2-50                                                       --                        (recursive)\n",
      "│    │    └─Sequential: 3-55                                                     --                        (recursive)\n",
      "│    └─InvertedBlock: 2-60                                                       --                        (recursive)\n",
      "│    │    └─Sequential: 3-65                                                     --                        (recursive)\n",
      "├─Sequential: 1-72                                                               --                        (recursive)\n",
      "│    └─QuantReLU: 2-88                                                           --                        (recursive)\n",
      "│    │    └─ActQuantProxyFromInjector: 3-96                                      --                        (recursive)\n",
      "├─Sequential: 1-73                                                               --                        (recursive)\n",
      "│    └─InvertedBlock: 2-60                                                       --                        (recursive)\n",
      "│    │    └─Sequential: 3-65                                                     --                        (recursive)\n",
      "│    └─InvertedBlock: 2-54                                                       [1, 32, 14, 14]           1\n",
      "│    │    └─Sequential: 3-59                                                     [1, 32, 14, 14]           9,923\n",
      "├─Sequential: 1-72                                                               --                        (recursive)\n",
      "│    └─QuantReLU: 2-88                                                           --                        (recursive)\n",
      "│    │    └─ActQuantProxyFromInjector: 3-96                                      --                        (recursive)\n",
      "├─Sequential: 1-73                                                               --                        (recursive)\n",
      "│    └─InvertedBlock: 2-60                                                       --                        (recursive)\n",
      "│    │    └─Sequential: 3-65                                                     --                        (recursive)\n",
      "├─Sequential: 1-72                                                               --                        (recursive)\n",
      "│    └─QuantReLU: 2-88                                                           --                        (recursive)\n",
      "│    │    └─ActQuantProxyFromInjector: 3-96                                      --                        (recursive)\n",
      "├─Sequential: 1-73                                                               --                        (recursive)\n",
      "│    └─InvertedBlock: 2-60                                                       --                        (recursive)\n",
      "│    │    └─Sequential: 3-65                                                     --                        (recursive)\n",
      "├─Sequential: 1-72                                                               --                        (recursive)\n",
      "│    └─QuantReLU: 2-88                                                           --                        (recursive)\n",
      "│    │    └─ActQuantProxyFromInjector: 3-96                                      --                        (recursive)\n",
      "├─Sequential: 1-73                                                               --                        (recursive)\n",
      "│    └─InvertedBlock: 2-60                                                       --                        (recursive)\n",
      "│    │    └─Sequential: 3-65                                                     --                        (recursive)\n",
      "│    │    └─QuantIdentity: 3-66                                                  [1, 32, 14, 14]           1\n",
      "│    └─InvertedBlock: 2-72                                                       --                        (recursive)\n",
      "│    │    └─Sequential: 3-76                                                     --                        (recursive)\n",
      "├─Sequential: 1-72                                                               --                        (recursive)\n",
      "│    └─QuantReLU: 2-88                                                           --                        (recursive)\n",
      "│    │    └─ActQuantProxyFromInjector: 3-96                                      --                        (recursive)\n",
      "├─Sequential: 1-73                                                               --                        (recursive)\n",
      "│    └─InvertedBlock: 2-72                                                       --                        (recursive)\n",
      "│    │    └─Sequential: 3-76                                                     --                        (recursive)\n",
      "│    └─InvertedBlock: 2-64                                                       [1, 32, 14, 14]           1\n",
      "│    │    └─Sequential: 3-70                                                     [1, 32, 14, 14]           9,923\n",
      "├─Sequential: 1-72                                                               --                        (recursive)\n",
      "│    └─QuantReLU: 2-88                                                           --                        (recursive)\n",
      "│    │    └─ActQuantProxyFromInjector: 3-96                                      --                        (recursive)\n",
      "├─Sequential: 1-73                                                               --                        (recursive)\n",
      "│    └─InvertedBlock: 2-72                                                       --                        (recursive)\n",
      "│    │    └─Sequential: 3-76                                                     --                        (recursive)\n",
      "├─Sequential: 1-72                                                               --                        (recursive)\n",
      "│    └─QuantReLU: 2-88                                                           --                        (recursive)\n",
      "│    │    └─ActQuantProxyFromInjector: 3-96                                      --                        (recursive)\n",
      "├─Sequential: 1-73                                                               --                        (recursive)\n",
      "│    └─InvertedBlock: 2-72                                                       --                        (recursive)\n",
      "│    │    └─Sequential: 3-76                                                     --                        (recursive)\n",
      "├─Sequential: 1-72                                                               --                        (recursive)\n",
      "│    └─QuantReLU: 2-88                                                           --                        (recursive)\n",
      "│    │    └─ActQuantProxyFromInjector: 3-96                                      --                        (recursive)\n",
      "├─Sequential: 1-73                                                               --                        (recursive)\n",
      "│    └─InvertedBlock: 2-72                                                       --                        (recursive)\n",
      "│    │    └─Sequential: 3-76                                                     --                        (recursive)\n",
      "│    │    └─QuantIdentity: 3-77                                                  [1, 32, 14, 14]           1\n",
      "├─Sequential: 1-72                                                               --                        (recursive)\n",
      "│    └─QuantReLU: 2-88                                                           --                        (recursive)\n",
      "│    │    └─ActQuantProxyFromInjector: 3-96                                      --                        (recursive)\n",
      "├─Sequential: 1-73                                                               --                        (recursive)\n",
      "│    └─InvertedBlock: 2-72                                                       --                        (recursive)\n",
      "│    │    └─QuantIdentity: 3-79                                                  --                        (recursive)\n",
      "│    └─InvertedBlock: 2-73                                                       [1, 64, 14, 14]           --\n",
      "│    │    └─Sequential: 3-80                                                     [1, 64, 14, 14]           7,107\n",
      "├─Sequential: 1-72                                                               --                        (recursive)\n",
      "│    └─QuantReLU: 2-88                                                           --                        (recursive)\n",
      "│    │    └─ActQuantProxyFromInjector: 3-96                                      --                        (recursive)\n",
      "├─Sequential: 1-73                                                               --                        (recursive)\n",
      "│    └─InvertedBlock: 2-77                                                       --                        (recursive)\n",
      "│    │    └─Sequential: 3-84                                                     --                        (recursive)\n",
      "├─Sequential: 1-72                                                               --                        (recursive)\n",
      "│    └─QuantReLU: 2-88                                                           --                        (recursive)\n",
      "│    │    └─ActQuantProxyFromInjector: 3-96                                      --                        (recursive)\n",
      "├─Sequential: 1-73                                                               --                        (recursive)\n",
      "│    └─InvertedBlock: 2-77                                                       --                        (recursive)\n",
      "│    │    └─Sequential: 3-84                                                     --                        (recursive)\n",
      "│    └─InvertedBlock: 2-89                                                       --                        (recursive)\n",
      "│    │    └─Sequential: 3-94                                                     --                        (recursive)\n",
      "├─Sequential: 1-72                                                               --                        (recursive)\n",
      "│    └─QuantReLU: 2-88                                                           --                        (recursive)\n",
      "│    │    └─ActQuantProxyFromInjector: 3-96                                      --                        (recursive)\n",
      "├─Sequential: 1-73                                                               --                        (recursive)\n",
      "│    └─InvertedBlock: 2-89                                                       --                        (recursive)\n",
      "│    │    └─Sequential: 3-94                                                     --                        (recursive)\n",
      "│    └─InvertedBlock: 2-81                                                       [1, 64, 14, 14]           1\n",
      "│    │    └─Sequential: 3-88                                                     [1, 64, 14, 14]           18,179\n",
      "├─Sequential: 1-72                                                               --                        (recursive)\n",
      "│    └─QuantReLU: 2-88                                                           --                        (recursive)\n",
      "│    │    └─ActQuantProxyFromInjector: 3-96                                      --                        (recursive)\n",
      "├─Sequential: 1-73                                                               --                        (recursive)\n",
      "│    └─InvertedBlock: 2-89                                                       --                        (recursive)\n",
      "│    │    └─Sequential: 3-94                                                     --                        (recursive)\n",
      "├─Sequential: 1-72                                                               --                        (recursive)\n",
      "│    └─QuantReLU: 2-88                                                           --                        (recursive)\n",
      "│    │    └─ActQuantProxyFromInjector: 3-96                                      --                        (recursive)\n",
      "├─Sequential: 1-73                                                               --                        (recursive)\n",
      "│    └─InvertedBlock: 2-89                                                       --                        (recursive)\n",
      "│    │    └─Sequential: 3-94                                                     --                        (recursive)\n",
      "├─Sequential: 1-72                                                               --                        (recursive)\n",
      "│    └─QuantReLU: 2-88                                                           --                        (recursive)\n",
      "│    │    └─ActQuantProxyFromInjector: 3-96                                      --                        (recursive)\n",
      "├─Sequential: 1-73                                                               --                        (recursive)\n",
      "│    └─InvertedBlock: 2-89                                                       --                        (recursive)\n",
      "│    │    └─Sequential: 3-94                                                     --                        (recursive)\n",
      "│    │    └─QuantIdentity: 3-95                                                  [1, 64, 14, 14]           1\n",
      "├─Sequential: 1-72                                                               --                        (recursive)\n",
      "│    └─QuantReLU: 2-88                                                           --                        (recursive)\n",
      "│    │    └─ActQuantProxyFromInjector: 3-96                                      --                        (recursive)\n",
      "├─Sequential: 1-73                                                               --                        (recursive)\n",
      "│    └─InvertedBlock: 2-89                                                       --                        (recursive)\n",
      "│    │    └─QuantIdentity: 3-97                                                  --                        (recursive)\n",
      "├─Sequential: 1-74                                                               [1, 128, 14, 14]          --\n",
      "│    └─QuantConv2d: 2-90                                                         [1, 128, 14, 14]          --\n",
      "│    │    └─ActQuantProxyFromInjector: 3-98                                      [1, 64, 14, 14]           --\n",
      "│    │    └─WeightQuantProxyFromInjector: 3-99                                   [128, 64, 1, 1]           8,192\n",
      "│    │    └─ActQuantProxyFromInjector: 3-100                                     [1, 128, 14, 14]          --\n",
      "│    └─BatchNorm2d: 2-91                                                         [1, 128, 14, 14]          256\n",
      "│    └─QuantReLU: 2-92                                                           [1, 128, 14, 14]          --\n",
      "│    │    └─ActQuantProxyFromInjector: 3-101                                     [1, 128, 14, 14]          --\n",
      "│    │    └─ActQuantProxyFromInjector: 3-102                                     [1, 128, 14, 14]          1\n",
      "├─TruncAvgPool2d: 1-75                                                           [1, 128, 1, 1]            --\n",
      "│    └─TruncQuantProxyFromInjector: 2-93                                         [1, 128, 1, 1]            --\n",
      "│    │    └─TruncIntQuant: 3-103                                                 [1, 128, 1, 1]            --\n",
      "├─QuantLinear: 1-76                                                              [1, 2]                    2\n",
      "│    └─ActQuantProxyFromInjector: 2-94                                           [1, 128]                  --\n",
      "│    └─WeightQuantProxyFromInjector: 2-95                                        [2, 128]                  --\n",
      "│    │    └─RescalingIntQuant: 3-104                                             [2, 128]                  256\n",
      "│    └─BiasQuantProxyFromInjector: 2-96                                          [2]                       --\n",
      "│    │    └─PrescaledRestrictIntQuant: 3-105                                     [2]                       --\n",
      "│    └─ActQuantProxyFromInjector: 2-97                                           [1, 2]                    --\n",
      "==================================================================================================================================\n",
      "Total params: 163,666\n",
      "Trainable params: 163,666\n",
      "Non-trainable params: 0\n",
      "Total mult-adds (M): 0.00\n",
      "==================================================================================================================================\n",
      "Input size (MB): 0.60\n",
      "Forward/backward pass size (MB): 16.26\n",
      "Params size (MB): 0.01\n",
      "Estimated Total Size (MB): 16.87\n",
      "==================================================================================================================================\n"
     ]
    }
   ],
   "source": [
    "print(summary(model, input_size=(1, 3, 224, 224)))"
   ]
  },
  {
   "cell_type": "markdown",
   "id": "547891ee-9c53-46c9-9d17-2dfc59a5c516",
   "metadata": {},
   "source": [
    "## Load Checkpoint"
   ]
  },
  {
   "cell_type": "code",
   "execution_count": 9,
   "id": "8ee29ba8-2341-4f78-afbf-ca14d98c93e0",
   "metadata": {},
   "outputs": [],
   "source": [
    "def load_checkpoint(model_path, model, optimizer=None, scheduler=None, device='cpu'):\n",
    "    checkpoint = torch.load(model_path, map_location=device)\n",
    "    model.load_state_dict(checkpoint['model_state_dict'])\n",
    "    if optimizer is not None:\n",
    "        optimizer.load_state_dict(checkpoint['optimizer_state_dict'])\n",
    "    if scheduler is not None:\n",
    "        scheduler.load_state_dict(checkpoint['scheduler_state_dict'])\n",
    "    start_epoch = checkpoint['epoch']\n",
    "    print(f\"Loading Model. Trained during {start_epoch} epochs\")\n",
    "    return start_epoch"
   ]
  },
  {
   "cell_type": "code",
   "execution_count": 10,
   "id": "3ce8c359-92c9-41e2-a5a2-2fbe8374e382",
   "metadata": {},
   "outputs": [
    {
     "name": "stdout",
     "output_type": "stream",
     "text": [
      "Loading Model. Trained during 86 epochs\n"
     ]
    },
    {
     "data": {
      "text/plain": [
       "86"
      ]
     },
     "execution_count": 10,
     "metadata": {},
     "output_type": "execute_result"
    }
   ],
   "source": [
    "load_checkpoint(torch_model_path, torch_model)"
   ]
  },
  {
   "cell_type": "code",
   "execution_count": 11,
   "id": "6d6b1751-40cb-4778-9378-c430047775b7",
   "metadata": {
    "tags": []
   },
   "outputs": [
    {
     "name": "stdout",
     "output_type": "stream",
     "text": [
      "Loading Model. Trained during 91 epochs\n"
     ]
    },
    {
     "data": {
      "text/plain": [
       "91"
      ]
     },
     "execution_count": 11,
     "metadata": {},
     "output_type": "execute_result"
    }
   ],
   "source": [
    "load_checkpoint(model_path, model)"
   ]
  },
  {
   "cell_type": "code",
   "execution_count": 12,
   "id": "76ea21d6-7270-4d56-abe1-42d56baf3563",
   "metadata": {},
   "outputs": [],
   "source": [
    "torch_model.cpu();\n",
    "torch_model.eval();\n",
    "model.cpu();\n",
    "model.eval();"
   ]
  },
  {
   "cell_type": "markdown",
   "id": "68d11482-5ab3-4616-b00c-bf09f1f6a66f",
   "metadata": {},
   "source": [
    "# Check Sparsity"
   ]
  },
  {
   "cell_type": "code",
   "execution_count": 13,
   "id": "6b339b8a-9daa-474a-89ea-1af044db2934",
   "metadata": {
    "tags": []
   },
   "outputs": [
    {
     "name": "stdout",
     "output_type": "stream",
     "text": [
      "torch.Size([1, 2, 3])\n",
      "tensor(1)\n"
     ]
    }
   ],
   "source": [
    "a = torch.tensor(np.array([[[0,1,2],[3,4,5]]]))\n",
    "print(a.shape)\n",
    "zzz = a == 0\n",
    "print(torch.sum(zzz))"
   ]
  },
  {
   "cell_type": "code",
   "execution_count": 14,
   "id": "1af664a0-7b17-4c13-b7ed-72def9e3e68a",
   "metadata": {
    "tags": []
   },
   "outputs": [
    {
     "name": "stdout",
     "output_type": "stream",
     "text": [
      "QuantConv2d features.1.0\n",
      "Layer name: features.1.0 - Layer type: conv - Number of weights: 864 - Sparsity: 0.51\n",
      "Layer name: features.1.1 - Layer type: batchnorm - Number of weights: 32 - Sparsity: 0.03\n",
      "QuantConv2d features.2.conv.0\n",
      "Layer name: features.2.conv.0 - Layer type: conv - Number of weights: 288 - Sparsity: 0.54\n",
      "Layer name: features.2.conv.1 - Layer type: batchnorm - Number of weights: 32 - Sparsity: 0.03\n",
      "QuantConv2d features.2.conv.3\n",
      "Layer name: features.2.conv.3 - Layer type: conv - Number of weights: 256 - Sparsity: 0.55\n",
      "Layer name: features.2.conv.4 - Layer type: batchnorm - Number of weights: 8 - Sparsity: 0.00\n",
      "QuantConv2d features.3.conv.0\n",
      "Layer name: features.3.conv.0 - Layer type: conv - Number of weights: 128 - Sparsity: 0.56\n",
      "Layer name: features.3.conv.1 - Layer type: batchnorm - Number of weights: 16 - Sparsity: 0.00\n",
      "QuantConv2d features.3.conv.3\n",
      "Layer name: features.3.conv.3 - Layer type: conv - Number of weights: 144 - Sparsity: 0.40\n",
      "Layer name: features.3.conv.4 - Layer type: batchnorm - Number of weights: 16 - Sparsity: 0.00\n",
      "QuantConv2d features.3.conv.6\n",
      "Layer name: features.3.conv.6 - Layer type: conv - Number of weights: 256 - Sparsity: 0.52\n",
      "Layer name: features.3.conv.7 - Layer type: batchnorm - Number of weights: 16 - Sparsity: 0.00\n",
      "QuantConv2d features.4.conv.0\n",
      "Layer name: features.4.conv.0 - Layer type: conv - Number of weights: 512 - Sparsity: 0.50\n",
      "Layer name: features.4.conv.1 - Layer type: batchnorm - Number of weights: 32 - Sparsity: 0.03\n",
      "QuantConv2d features.4.conv.3\n",
      "Layer name: features.4.conv.3 - Layer type: conv - Number of weights: 288 - Sparsity: 0.57\n",
      "Layer name: features.4.conv.4 - Layer type: batchnorm - Number of weights: 32 - Sparsity: 0.03\n",
      "QuantConv2d features.4.conv.6\n",
      "Layer name: features.4.conv.6 - Layer type: conv - Number of weights: 512 - Sparsity: 0.53\n",
      "Layer name: features.4.conv.7 - Layer type: batchnorm - Number of weights: 16 - Sparsity: 0.00\n",
      "QuantConv2d features.5.conv.0\n",
      "Layer name: features.5.conv.0 - Layer type: conv - Number of weights: 512 - Sparsity: 0.53\n",
      "Layer name: features.5.conv.1 - Layer type: batchnorm - Number of weights: 32 - Sparsity: 0.00\n",
      "QuantConv2d features.5.conv.3\n",
      "Layer name: features.5.conv.3 - Layer type: conv - Number of weights: 288 - Sparsity: 0.33\n",
      "Layer name: features.5.conv.4 - Layer type: batchnorm - Number of weights: 32 - Sparsity: 0.00\n",
      "QuantConv2d features.5.conv.6\n",
      "Layer name: features.5.conv.6 - Layer type: conv - Number of weights: 768 - Sparsity: 0.51\n",
      "Layer name: features.5.conv.7 - Layer type: batchnorm - Number of weights: 24 - Sparsity: 0.00\n",
      "QuantConv2d features.6.conv.0\n",
      "Layer name: features.6.conv.0 - Layer type: conv - Number of weights: 1152 - Sparsity: 0.61\n",
      "Layer name: features.6.conv.1 - Layer type: batchnorm - Number of weights: 48 - Sparsity: 0.21\n",
      "QuantConv2d features.6.conv.3\n",
      "Layer name: features.6.conv.3 - Layer type: conv - Number of weights: 432 - Sparsity: 0.64\n",
      "Layer name: features.6.conv.4 - Layer type: batchnorm - Number of weights: 48 - Sparsity: 0.21\n",
      "QuantConv2d features.6.conv.6\n",
      "Layer name: features.6.conv.6 - Layer type: conv - Number of weights: 1152 - Sparsity: 0.59\n",
      "Layer name: features.6.conv.7 - Layer type: batchnorm - Number of weights: 24 - Sparsity: 0.00\n",
      "QuantConv2d features.7.conv.0\n",
      "Layer name: features.7.conv.0 - Layer type: conv - Number of weights: 2304 - Sparsity: 0.60\n",
      "Layer name: features.7.conv.1 - Layer type: batchnorm - Number of weights: 96 - Sparsity: 0.18\n",
      "QuantConv2d features.7.conv.3\n",
      "Layer name: features.7.conv.3 - Layer type: conv - Number of weights: 864 - Sparsity: 0.45\n",
      "Layer name: features.7.conv.4 - Layer type: batchnorm - Number of weights: 96 - Sparsity: 0.18\n",
      "QuantConv2d features.7.conv.6\n",
      "Layer name: features.7.conv.6 - Layer type: conv - Number of weights: 3072 - Sparsity: 0.58\n",
      "Layer name: features.7.conv.7 - Layer type: batchnorm - Number of weights: 32 - Sparsity: 0.00\n",
      "QuantConv2d features.8.conv.0\n",
      "Layer name: features.8.conv.0 - Layer type: conv - Number of weights: 4096 - Sparsity: 0.64\n",
      "Layer name: features.8.conv.1 - Layer type: batchnorm - Number of weights: 128 - Sparsity: 0.31\n",
      "QuantConv2d features.8.conv.3\n",
      "Layer name: features.8.conv.3 - Layer type: conv - Number of weights: 1152 - Sparsity: 0.68\n",
      "Layer name: features.8.conv.4 - Layer type: batchnorm - Number of weights: 128 - Sparsity: 0.30\n",
      "QuantConv2d features.8.conv.6\n",
      "Layer name: features.8.conv.6 - Layer type: conv - Number of weights: 4096 - Sparsity: 0.66\n",
      "Layer name: features.8.conv.7 - Layer type: batchnorm - Number of weights: 32 - Sparsity: 0.00\n",
      "QuantConv2d features.9.conv.0\n",
      "Layer name: features.9.conv.0 - Layer type: conv - Number of weights: 4096 - Sparsity: 0.71\n",
      "Layer name: features.9.conv.1 - Layer type: batchnorm - Number of weights: 128 - Sparsity: 0.41\n",
      "QuantConv2d features.9.conv.3\n",
      "Layer name: features.9.conv.3 - Layer type: conv - Number of weights: 1152 - Sparsity: 0.67\n",
      "Layer name: features.9.conv.4 - Layer type: batchnorm - Number of weights: 128 - Sparsity: 0.41\n",
      "QuantConv2d features.9.conv.6\n",
      "Layer name: features.9.conv.6 - Layer type: conv - Number of weights: 4096 - Sparsity: 0.70\n",
      "Layer name: features.9.conv.7 - Layer type: batchnorm - Number of weights: 32 - Sparsity: 0.00\n",
      "QuantConv2d features.10.conv.0\n",
      "Layer name: features.10.conv.0 - Layer type: conv - Number of weights: 2048 - Sparsity: 0.55\n",
      "Layer name: features.10.conv.1 - Layer type: batchnorm - Number of weights: 64 - Sparsity: 0.09\n",
      "QuantConv2d features.10.conv.3\n",
      "Layer name: features.10.conv.3 - Layer type: conv - Number of weights: 576 - Sparsity: 0.48\n",
      "Layer name: features.10.conv.4 - Layer type: batchnorm - Number of weights: 64 - Sparsity: 0.09\n",
      "QuantConv2d features.10.conv.6\n",
      "Layer name: features.10.conv.6 - Layer type: conv - Number of weights: 4096 - Sparsity: 0.74\n",
      "Layer name: features.10.conv.7 - Layer type: batchnorm - Number of weights: 64 - Sparsity: 0.41\n",
      "QuantConv2d features.11.conv.0\n",
      "Layer name: features.11.conv.0 - Layer type: conv - Number of weights: 8192 - Sparsity: 0.91\n",
      "Layer name: features.11.conv.1 - Layer type: batchnorm - Number of weights: 128 - Sparsity: 0.68\n",
      "QuantConv2d features.11.conv.3\n",
      "Layer name: features.11.conv.3 - Layer type: conv - Number of weights: 1152 - Sparsity: 0.77\n",
      "Layer name: features.11.conv.4 - Layer type: batchnorm - Number of weights: 128 - Sparsity: 0.68\n",
      "QuantConv2d features.11.conv.6\n",
      "Layer name: features.11.conv.6 - Layer type: conv - Number of weights: 8192 - Sparsity: 0.90\n",
      "Layer name: features.11.conv.7 - Layer type: batchnorm - Number of weights: 64 - Sparsity: 0.44\n",
      "QuantConv2d conv.0\n",
      "Layer name: conv.0 - Layer type: conv - Number of weights: 8192 - Sparsity: 0.83\n",
      "Layer name: conv.1 - Layer type: batchnorm - Number of weights: 128 - Sparsity: 0.45\n"
     ]
    }
   ],
   "source": [
    "zero_channels = {}\n",
    "sparsity = {}\n",
    "\n",
    "for name, mod in model.named_modules():\n",
    "    if isinstance(mod, QuantConv2d):\n",
    "        print(\"QuantConv2d\", name)\n",
    "    if isinstance(mod, nn.Conv2d) or isinstance(mod, nn.BatchNorm2d):\n",
    "        w_layer = mod.weight.detach().clone()\n",
    "        w_layer[w_layer < 1e-20] = 0\n",
    "        oup_channels = mod.weight.shape[0]\n",
    "        \n",
    "        if isinstance(mod, nn.Conv2d):\n",
    "            layer_type = \"conv\"\n",
    "        elif isinstance(mod, nn.BatchNorm2d):\n",
    "            layer_type = \"batchnorm\"\n",
    "        # Number of zeros to calculate sparsity\n",
    "        zero_idx = w_layer < 1e-20\n",
    "        zero_weights_other = torch.sum(zero_idx)\n",
    "        total_weights = torch.numel(mod.weight)\n",
    "        zero_weights = total_weights - torch.count_nonzero(w_layer)\n",
    "        assert zero_weights == zero_weights_other, \"Zeros are different\"\n",
    "        layer_sparsity = zero_weights / total_weights\n",
    "        sparsity[name] = {\"layer type\": layer_type, \"sparsity\": layer_sparsity}\n",
    "        zero_channel_list = []\n",
    "        print(f'Layer name: {name} - Layer type: {layer_type} - Number of weights: {torch.numel(mod.weight)} - Sparsity: {layer_sparsity:.2f}')\n",
    "        #print(f'\\tWeights shape: {w_layer.shape}')\n",
    "        \n",
    "        for i in range(oup_channels):\n",
    "            w = mod.weight[i].detach().clone()\n",
    "            w[w < 1e-10] = 0\n",
    "            if len(w.nonzero()) == 0:\n",
    "                zero_channel_list.append(i)\n",
    "        zero_channels[name] = {\"layer type\": layer_type, \"output channels\": oup_channels, \"zero channels\": zero_channel_list}"
   ]
  },
  {
   "cell_type": "markdown",
   "id": "b5890e2f-f156-4b10-9fee-f224ac29a004",
   "metadata": {},
   "source": [
    "## Sparse Zero Channels"
   ]
  },
  {
   "cell_type": "code",
   "execution_count": 15,
   "id": "a3f859b2-251b-49a7-b0a7-a667299203de",
   "metadata": {
    "tags": []
   },
   "outputs": [
    {
     "name": "stdout",
     "output_type": "stream",
     "text": [
      "Layer name: features.1.0         Layer type: conv       - Output channels: 32   - Zero channels: 1\n",
      "Layer name: features.1.1         Layer type: batchnorm  - Output channels: 32   - Zero channels: 1\n",
      "Layer name: features.2.conv.0    Layer type: conv       - Output channels: 32   - Zero channels: 1\n",
      "Layer name: features.2.conv.1    Layer type: batchnorm  - Output channels: 32   - Zero channels: 1\n",
      "Layer name: features.2.conv.3    Layer type: conv       - Output channels: 8    - Zero channels: 0\n",
      "Layer name: features.2.conv.4    Layer type: batchnorm  - Output channels: 8    - Zero channels: 0\n",
      "Layer name: features.3.conv.0    Layer type: conv       - Output channels: 16   - Zero channels: 0\n",
      "Layer name: features.3.conv.1    Layer type: batchnorm  - Output channels: 16   - Zero channels: 0\n",
      "Layer name: features.3.conv.3    Layer type: conv       - Output channels: 16   - Zero channels: 2\n",
      "Layer name: features.3.conv.4    Layer type: batchnorm  - Output channels: 16   - Zero channels: 0\n",
      "Layer name: features.3.conv.6    Layer type: conv       - Output channels: 16   - Zero channels: 0\n",
      "Layer name: features.3.conv.7    Layer type: batchnorm  - Output channels: 16   - Zero channels: 0\n",
      "Layer name: features.4.conv.0    Layer type: conv       - Output channels: 32   - Zero channels: 1\n",
      "Layer name: features.4.conv.1    Layer type: batchnorm  - Output channels: 32   - Zero channels: 1\n",
      "Layer name: features.4.conv.3    Layer type: conv       - Output channels: 32   - Zero channels: 1\n",
      "Layer name: features.4.conv.4    Layer type: batchnorm  - Output channels: 32   - Zero channels: 1\n",
      "Layer name: features.4.conv.6    Layer type: conv       - Output channels: 16   - Zero channels: 0\n",
      "Layer name: features.4.conv.7    Layer type: batchnorm  - Output channels: 16   - Zero channels: 0\n",
      "Layer name: features.5.conv.0    Layer type: conv       - Output channels: 32   - Zero channels: 0\n",
      "Layer name: features.5.conv.1    Layer type: batchnorm  - Output channels: 32   - Zero channels: 0\n",
      "Layer name: features.5.conv.3    Layer type: conv       - Output channels: 32   - Zero channels: 2\n",
      "Layer name: features.5.conv.4    Layer type: batchnorm  - Output channels: 32   - Zero channels: 0\n",
      "Layer name: features.5.conv.6    Layer type: conv       - Output channels: 24   - Zero channels: 0\n",
      "Layer name: features.5.conv.7    Layer type: batchnorm  - Output channels: 24   - Zero channels: 0\n",
      "Layer name: features.6.conv.0    Layer type: conv       - Output channels: 48   - Zero channels: 10\n",
      "Layer name: features.6.conv.1    Layer type: batchnorm  - Output channels: 48   - Zero channels: 10\n",
      "Layer name: features.6.conv.3    Layer type: conv       - Output channels: 48   - Zero channels: 10\n",
      "Layer name: features.6.conv.4    Layer type: batchnorm  - Output channels: 48   - Zero channels: 10\n",
      "Layer name: features.6.conv.6    Layer type: conv       - Output channels: 24   - Zero channels: 0\n",
      "Layer name: features.6.conv.7    Layer type: batchnorm  - Output channels: 24   - Zero channels: 0\n",
      "Layer name: features.7.conv.0    Layer type: conv       - Output channels: 96   - Zero channels: 17\n",
      "Layer name: features.7.conv.1    Layer type: batchnorm  - Output channels: 96   - Zero channels: 17\n",
      "Layer name: features.7.conv.3    Layer type: conv       - Output channels: 96   - Zero channels: 22\n",
      "Layer name: features.7.conv.4    Layer type: batchnorm  - Output channels: 96   - Zero channels: 17\n",
      "Layer name: features.7.conv.6    Layer type: conv       - Output channels: 32   - Zero channels: 0\n",
      "Layer name: features.7.conv.7    Layer type: batchnorm  - Output channels: 32   - Zero channels: 0\n",
      "Layer name: features.8.conv.0    Layer type: conv       - Output channels: 128  - Zero channels: 39\n",
      "Layer name: features.8.conv.1    Layer type: batchnorm  - Output channels: 128  - Zero channels: 40\n",
      "Layer name: features.8.conv.3    Layer type: conv       - Output channels: 128  - Zero channels: 40\n",
      "Layer name: features.8.conv.4    Layer type: batchnorm  - Output channels: 128  - Zero channels: 39\n",
      "Layer name: features.8.conv.6    Layer type: conv       - Output channels: 32   - Zero channels: 0\n",
      "Layer name: features.8.conv.7    Layer type: batchnorm  - Output channels: 32   - Zero channels: 0\n",
      "Layer name: features.9.conv.0    Layer type: conv       - Output channels: 128  - Zero channels: 52\n",
      "Layer name: features.9.conv.1    Layer type: batchnorm  - Output channels: 128  - Zero channels: 53\n",
      "Layer name: features.9.conv.3    Layer type: conv       - Output channels: 128  - Zero channels: 53\n",
      "Layer name: features.9.conv.4    Layer type: batchnorm  - Output channels: 128  - Zero channels: 52\n",
      "Layer name: features.9.conv.6    Layer type: conv       - Output channels: 32   - Zero channels: 0\n",
      "Layer name: features.9.conv.7    Layer type: batchnorm  - Output channels: 32   - Zero channels: 0\n",
      "Layer name: features.10.conv.0   Layer type: conv       - Output channels: 64   - Zero channels: 6\n",
      "Layer name: features.10.conv.1   Layer type: batchnorm  - Output channels: 64   - Zero channels: 6\n",
      "Layer name: features.10.conv.3   Layer type: conv       - Output channels: 64   - Zero channels: 6\n",
      "Layer name: features.10.conv.4   Layer type: batchnorm  - Output channels: 64   - Zero channels: 6\n",
      "Layer name: features.10.conv.6   Layer type: conv       - Output channels: 64   - Zero channels: 26\n",
      "Layer name: features.10.conv.7   Layer type: batchnorm  - Output channels: 64   - Zero channels: 26\n",
      "Layer name: features.11.conv.0   Layer type: conv       - Output channels: 128  - Zero channels: 87\n",
      "Layer name: features.11.conv.1   Layer type: batchnorm  - Output channels: 128  - Zero channels: 87\n",
      "Layer name: features.11.conv.3   Layer type: conv       - Output channels: 128  - Zero channels: 87\n",
      "Layer name: features.11.conv.4   Layer type: batchnorm  - Output channels: 128  - Zero channels: 87\n",
      "Layer name: features.11.conv.6   Layer type: conv       - Output channels: 64   - Zero channels: 26\n",
      "Layer name: features.11.conv.7   Layer type: batchnorm  - Output channels: 64   - Zero channels: 28\n",
      "Layer name: conv.0               Layer type: conv       - Output channels: 128  - Zero channels: 57\n",
      "Layer name: conv.1               Layer type: batchnorm  - Output channels: 128  - Zero channels: 57\n"
     ]
    }
   ],
   "source": [
    "for k, v in zero_channels.items():\n",
    "    #print(k, v, len(v))\n",
    "    print(f'Layer name: {k:<20} Layer type: {v[\"layer type\"]:<10} - Output channels: {v[\"output channels\"]:<4} - Zero channels: {len(v[\"zero channels\"])}')"
   ]
  },
  {
   "cell_type": "markdown",
   "id": "918e6112-198f-43b1-baea-2c6917d5d66d",
   "metadata": {},
   "source": [
    "### Plot Zero Channels per Layer\n",
    "\n",
    "$$\n",
    "Global \\, Sparsity = \\frac{Zero \\quad Channels}{All \\quad Channels}\n",
    "$$"
   ]
  },
  {
   "cell_type": "code",
   "execution_count": 16,
   "id": "d00fcbdb-9175-4601-b79d-fda2f7f034ac",
   "metadata": {
    "tags": []
   },
   "outputs": [
    {
     "name": "stdout",
     "output_type": "stream",
     "text": [
      "Global Sparsity = 29.55 %\n"
     ]
    },
    {
     "data": {
      "image/png": "[encoded data removed]",
      "text/plain": [
       "<Figure size 1000x300 with 1 Axes>"
      ]
     },
     "metadata": {},
     "output_type": "display_data"
    }
   ],
   "source": [
    "zero_channel_layer = {\n",
    "    \"output channels\": list(v[\"output channels\"] for v in zero_channels.values() if v[\"layer type\"] == \"conv\"),\n",
    "    \"zero channels\": list(len(v[\"zero channels\"]) for v in zero_channels.values() if v[\"layer type\"] == \"conv\"),\n",
    "}\n",
    "\n",
    "# Number of zero channels / Number of channels\n",
    "global_sparsity = sum(zero_channel_layer[\"zero channels\"]) / sum(zero_channel_layer[\"output channels\"])\n",
    "print(f'Global Sparsity = {global_sparsity*100:.2f} %')\n",
    "\n",
    "zero_channels_layer_names = [k for k in zero_channels.keys() if zero_channels[k][\"layer type\"] == \"conv\"] \n",
    "\n",
    "x = np.arange(len(zero_channels_layer_names))  # the label locations\n",
    "width = 0.4  # the width of the bars\n",
    "multiplier = 0\n",
    "\n",
    "fig, ax = plt.subplots(layout='constrained', figsize=(10, 3))\n",
    "\n",
    "for attribute, measurement in zero_channel_layer.items():\n",
    "    offset = width * multiplier\n",
    "    rects = ax.bar(x + offset, measurement, width, label=attribute)\n",
    "    ax.bar_label(rects, padding=3, fontsize = 6)\n",
    "    multiplier += 1\n",
    "\n",
    "\n",
    "# Add some text for labels, title and custom x-axis tick labels, etc.\n",
    "ax.set_xlabel('Layers')\n",
    "ax.set_ylabel('Channels')\n",
    "ax.set_title('Zero Channels Per Layer')\n",
    "ax.set_xticks(x + width/2, zero_channels_layer_names, rotation=90, fontsize = 8)\n",
    "ax.legend(loc='upper left', ncols=3)\n",
    "ax.set_ylim(0, 148)\n",
    "\n",
    "plt.show()"
   ]
  },
  {
   "cell_type": "markdown",
   "id": "18f57c8f-a727-49eb-989a-713b4a332ec9",
   "metadata": {},
   "source": [
    "## Sparsity per layer"
   ]
  },
  {
   "cell_type": "markdown",
   "id": "cf31620b-c25d-4e6c-b089-e58cb21e97de",
   "metadata": {},
   "source": [
    "### All Layers"
   ]
  },
  {
   "cell_type": "code",
   "execution_count": 17,
   "id": "6352de13-1257-4915-a1b2-ec73168d591f",
   "metadata": {
    "tags": []
   },
   "outputs": [
    {
     "data": {
      "image/png": "[encoded data removed]",
      "text/plain": [
       "<Figure size 1000x300 with 1 Axes>"
      ]
     },
     "metadata": {},
     "output_type": "display_data"
    }
   ],
   "source": [
    "fig, ax = plt.subplots(figsize=(10,3))\n",
    "\n",
    "layers_name = [k + \"_\" + sparsity[k][\"layer type\"] for k in sparsity.keys()]\n",
    "counts = [v[\"sparsity\"] for v in sparsity.values()]\n",
    "\n",
    "ax.bar(layers_name, counts)\n",
    "\n",
    "ax.set_ylabel('Sparsity')\n",
    "ax.set_title('Sparsity per layer')\n",
    "ax.set_xticks(np.arange(len(layers_name)), layers_name, rotation=90, fontsize=8)\n",
    "\n",
    "plt.show()"
   ]
  },
  {
   "cell_type": "markdown",
   "id": "14aaa1ea-964b-464f-9918-be6f60e1035c",
   "metadata": {},
   "source": [
    "### Only Batch Norm"
   ]
  },
  {
   "cell_type": "code",
   "execution_count": 18,
   "id": "295270c5-cfcd-424d-a8b1-1ed44387dce7",
   "metadata": {
    "tags": []
   },
   "outputs": [
    {
     "data": {
      "image/png": "[encoded data removed]",
      "text/plain": [
       "<Figure size 800x300 with 1 Axes>"
      ]
     },
     "metadata": {},
     "output_type": "display_data"
    }
   ],
   "source": [
    "fig, ax = plt.subplots(figsize=(8,3))\n",
    "\n",
    "layers_name = [k + \"_\" + sparsity[k][\"layer type\"] for k in sparsity.keys() if sparsity[k][\"layer type\"] == \"batchnorm\"]\n",
    "counts = [v[\"sparsity\"] for v in sparsity.values() if v[\"layer type\"] == \"batchnorm\"]\n",
    "\n",
    "ax.bar(layers_name, counts)\n",
    "\n",
    "ax.set_ylabel('Sparsity')\n",
    "ax.set_title('Sparsity per layer: Batch Norm')\n",
    "ax.set_xticks(np.arange(len(layers_name)), layers_name, rotation=90, fontsize=8)\n",
    "\n",
    "plt.show()"
   ]
  },
  {
   "cell_type": "markdown",
   "id": "c72256e9-0975-472b-86c6-f7a168f70de3",
   "metadata": {},
   "source": [
    "### Only Convs"
   ]
  },
  {
   "cell_type": "code",
   "execution_count": 19,
   "id": "6809d83a-bff9-4230-bfc7-3c03d54bfc25",
   "metadata": {
    "tags": []
   },
   "outputs": [
    {
     "data": {
      "image/png": "[encoded data removed]",
      "text/plain": [
       "<Figure size 800x300 with 1 Axes>"
      ]
     },
     "metadata": {},
     "output_type": "display_data"
    }
   ],
   "source": [
    "fig, ax = plt.subplots(figsize=(8,3))\n",
    "\n",
    "layers_name = [k + \"_\" + sparsity[k][\"layer type\"] for k in sparsity.keys() if sparsity[k][\"layer type\"] == \"conv\"]\n",
    "counts = [v[\"sparsity\"] for v in sparsity.values() if v[\"layer type\"] == \"conv\"]\n",
    "\n",
    "ax.bar(layers_name, counts)\n",
    "\n",
    "ax.set_ylabel('Sparsity')\n",
    "ax.set_title('Sparsity per layer: CONVs')\n",
    "ax.set_xticks(np.arange(len(layers_name)), layers_name, rotation=90, fontsize=8)\n",
    "\n",
    "plt.show()"
   ]
  },
  {
   "cell_type": "markdown",
   "id": "37e5afa9-c774-4eb5-9cd5-9ad73a5899ae",
   "metadata": {},
   "source": [
    "# Calculate MACs reduction\n",
    "\n",
    "Torchinfo does not include BatchNorm or AveragePool in MAC calculation"
   ]
  },
  {
   "cell_type": "markdown",
   "id": "743b7808-2838-4884-a6cb-eecad42b5cbf",
   "metadata": {},
   "source": [
    "### Summary"
   ]
  },
  {
   "cell_type": "code",
   "execution_count": 20,
   "id": "877dfa28-b8c9-450d-8ca0-f58dd29b8621",
   "metadata": {},
   "outputs": [
    {
     "name": "stdout",
     "output_type": "stream",
     "text": [
      "==========================================================================================\n",
      "Layer (type:depth-idx)                   Output Shape              Param #\n",
      "==========================================================================================\n",
      "MobileNetV2_MINI_RESNET                  [1, 2]                    --\n",
      "├─Sequential: 1-1                        [1, 64, 14, 14]           --\n",
      "│    └─Sequential: 2-1                   [1, 32, 112, 112]         --\n",
      "│    │    └─Conv2d: 3-1                  [1, 32, 112, 112]         864\n",
      "│    │    └─BatchNorm2d: 3-2             [1, 32, 112, 112]         64\n",
      "│    │    └─ReLU: 3-3                    [1, 32, 112, 112]         --\n",
      "│    └─InvertedBlock: 2-2                [1, 8, 112, 112]          --\n",
      "│    │    └─Sequential: 3-4              [1, 8, 112, 112]          624\n",
      "│    └─InvertedBlock: 2-3                [1, 16, 56, 56]           --\n",
      "│    │    └─Sequential: 3-5              [1, 16, 56, 56]           624\n",
      "│    └─InvertedBlock: 2-4                [1, 16, 56, 56]           --\n",
      "│    │    └─Sequential: 3-6              [1, 16, 56, 56]           1,472\n",
      "│    └─InvertedBlock: 2-5                [1, 24, 28, 28]           --\n",
      "│    │    └─Sequential: 3-7              [1, 24, 28, 28]           1,744\n",
      "│    └─InvertedBlock: 2-6                [1, 24, 28, 28]           --\n",
      "│    │    └─Sequential: 3-8              [1, 24, 28, 28]           2,976\n",
      "│    └─InvertedBlock: 2-7                [1, 32, 14, 14]           --\n",
      "│    │    └─Sequential: 3-9              [1, 32, 14, 14]           6,688\n",
      "│    └─InvertedBlock: 2-8                [1, 32, 14, 14]           --\n",
      "│    │    └─Sequential: 3-10             [1, 32, 14, 14]           9,920\n",
      "│    └─InvertedBlock: 2-9                [1, 32, 14, 14]           --\n",
      "│    │    └─Sequential: 3-11             [1, 32, 14, 14]           9,920\n",
      "│    └─InvertedBlock: 2-10               [1, 64, 14, 14]           --\n",
      "│    │    └─Sequential: 3-12             [1, 64, 14, 14]           7,104\n",
      "│    └─InvertedBlock: 2-11               [1, 64, 14, 14]           --\n",
      "│    │    └─Sequential: 3-13             [1, 64, 14, 14]           18,176\n",
      "├─Sequential: 1-2                        [1, 128, 14, 14]          --\n",
      "│    └─Conv2d: 2-12                      [1, 128, 14, 14]          8,192\n",
      "│    └─BatchNorm2d: 2-13                 [1, 128, 14, 14]          256\n",
      "│    └─ReLU: 2-14                        [1, 128, 14, 14]          --\n",
      "├─AdaptiveAvgPool2d: 1-3                 [1, 128, 1, 1]            --\n",
      "├─Linear: 1-4                            [1, 2]                    258\n",
      "==========================================================================================\n",
      "Total params: 68,882\n",
      "Trainable params: 68,882\n",
      "Non-trainable params: 0\n",
      "Total mult-adds (M): 41.82\n",
      "==========================================================================================\n",
      "Input size (MB): 0.60\n",
      "Forward/backward pass size (MB): 32.51\n",
      "Params size (MB): 0.28\n",
      "Estimated Total Size (MB): 33.39\n",
      "==========================================================================================\n"
     ]
    }
   ],
   "source": [
    "print(summary(torch_model, input_size=(1, 3, 224, 224), device='cpu', verbose=0))"
   ]
  },
  {
   "cell_type": "markdown",
   "id": "bab744fe-0f6a-4967-ba10-cb2dc4e23218",
   "metadata": {},
   "source": [
    "### MACs per layer"
   ]
  },
  {
   "cell_type": "code",
   "execution_count": 21,
   "id": "8feed809-e92c-42d3-bc46-0e9e7bea7a2c",
   "metadata": {},
   "outputs": [],
   "source": [
    "torch_model.to('cpu');"
   ]
  },
  {
   "cell_type": "code",
   "execution_count": 22,
   "id": "2bf99e7a-c2cf-4ff1-8637-38381db39a5c",
   "metadata": {},
   "outputs": [],
   "source": [
    "def get_macs_and_params_per_layer(model, inp_shape = (1, 3, 224, 224), device = 'cpu'):\n",
    "\n",
    "    dummy_inp = torch.randn(inp_shape).to(device)\n",
    "    macs, params, layer_infos = profile(model, inputs=(dummy_inp, ))\n",
    "\n",
    "    print('Total MACs of {}: {:.4g} M'.format(model.__class__.__name__, macs / 1e6))\n",
    "    print('Total params of {}: {}'.format(model.__class__.__name__, params))\n",
    "\n",
    "    macs_layer = {}\n",
    "    params_layer = {}\n",
    "\n",
    "    conv_idx = 0\n",
    "    linear_idx = 0\n",
    "    \n",
    "    for i, k in enumerate(layer_infos.keys()):\n",
    "        layer_type = layer_infos[k][\"type\"]\n",
    "        layer_ops = layer_infos[k][\"ops\"]\n",
    "        layer_params = layer_infos[k][\"params\"]\n",
    "        if layer_ops != 0 and layer_type != \"BatchNorm2d\":\n",
    "            if layer_type == \"Conv2d\": \n",
    "                macs_layer.update({layer_type + '_' + str(conv_idx): layer_ops})   \n",
    "                params_layer.update({layer_type + '_' + str(conv_idx): layer_params}) \n",
    "                conv_idx += 1\n",
    "            elif layer_type == \"Linear\":\n",
    "                macs_layer.update({layer_type + '_' + str(linear_idx): layer_ops}) \n",
    "                params_layer.update({layer_type + '_' + str(linear_idx): layer_params})  \n",
    "                linear_idx += 1 \n",
    "            else:\n",
    "                macs_layer.update({layer_type: layer_ops})\n",
    "                params_layer.update({layer_type: layer_params})\n",
    "\n",
    "    return macs_layer, params_layer"
   ]
  },
  {
   "cell_type": "code",
   "execution_count": 23,
   "id": "6d634aad-f703-46a9-badb-d4db9c4d4cdd",
   "metadata": {},
   "outputs": [
    {
     "name": "stdout",
     "output_type": "stream",
     "text": [
      "Total MACs of MobileNetV2_MINI_RESNET: 45.91 M\n",
      "Total params of MobileNetV2_MINI_RESNET: 68882.0\n"
     ]
    }
   ],
   "source": [
    "macs_layer, params_layer = get_macs_and_params_per_layer(torch_model)"
   ]
  },
  {
   "cell_type": "code",
   "execution_count": 24,
   "id": "2adaa9bd-f74e-4a0e-b8cb-0dc1d5f28fab",
   "metadata": {},
   "outputs": [
    {
     "name": "stdout",
     "output_type": "stream",
     "text": [
      "41815936\n"
     ]
    }
   ],
   "source": [
    "# Exclude BatchNorm and AveragePool\n",
    "print(sum([v for k, v in macs_layer.items() if \"Conv\" in k or \"Linear\" in k]))"
   ]
  },
  {
   "cell_type": "markdown",
   "id": "24f6caa8-6c4a-496c-a6d2-30214dd1d9ee",
   "metadata": {},
   "source": [
    "Calculate the sparsity of every Conv. Afterwards, the MACs will change like:\n",
    "\n",
    "$$\n",
    "New \\: MACs = (1-Sparsity)\\times MAC\n",
    "$$"
   ]
  },
  {
   "cell_type": "code",
   "execution_count": 25,
   "id": "08c95139-c7a0-4fc1-bee6-05d9d0e05c45",
   "metadata": {},
   "outputs": [],
   "source": [
    "zero_channels_convs = {k: (len(v[\"zero channels\"]) / v[\"output channels\"])\n",
    "                           for k, v in zero_channels.items() if v[\"layer type\"] == \"conv\"}"
   ]
  },
  {
   "cell_type": "code",
   "execution_count": 26,
   "id": "1fbf081a-e7af-4ad1-9914-c93cf34e8c5f",
   "metadata": {},
   "outputs": [],
   "source": [
    "new_macs_layer = {}\n",
    "\n",
    "for (k1,v1), (k2,v2) in zip(macs_layer.items(), zero_channels_convs.items()):\n",
    "    new_macs_layer[k2] = {\"new\": v1 * (1-v2), \"old\": v1}"
   ]
  },
  {
   "cell_type": "code",
   "execution_count": 27,
   "id": "606690f3-99a2-4487-beb1-10acf85d31ea",
   "metadata": {},
   "outputs": [
    {
     "name": "stdout",
     "output_type": "stream",
     "text": [
      "Total Old MACs = 41815424\n",
      "Total New MACs = 36876224\n",
      "MACs difference = 4939200\n"
     ]
    }
   ],
   "source": [
    "total_old_macs = sum([v[\"old\"] for v in new_macs_layer.values()])\n",
    "print(f'Total Old MACs = {total_old_macs}')\n",
    "\n",
    "total_new_macs = sum([v[\"new\"] for v in new_macs_layer.values()])\n",
    "print(f'Total New MACs = {int(total_new_macs)}')\n",
    "\n",
    "print(f'MACs difference = {int(total_old_macs - total_new_macs)}')"
   ]
  },
  {
   "cell_type": "code",
   "execution_count": null,
   "id": "d74f431c-8ee9-44f2-90b2-28bac13165ef",
   "metadata": {},
   "outputs": [],
   "source": []
  }
 ],
 "metadata": {
  "kernelspec": {
   "display_name": "Python 3 (ipykernel)",
   "language": "python",
   "name": "python3"
  },
  "language_info": {
   "codemirror_mode": {
    "name": "ipython",
    "version": 3
   },
   "file_extension": ".py",
   "mimetype": "text/x-python",
   "name": "python",
   "nbconvert_exporter": "python",
   "pygments_lexer": "ipython3",
   "version": "3.10.9"
  }
 },
 "nbformat": 4,
 "nbformat_minor": 5
}
