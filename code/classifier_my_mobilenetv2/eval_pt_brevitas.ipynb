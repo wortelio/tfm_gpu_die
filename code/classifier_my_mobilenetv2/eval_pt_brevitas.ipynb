{
 "cells": [
  {
   "cell_type": "code",
   "execution_count": 1,
   "id": "ced39284-e77a-4bb4-b4f4-1e32f8dc378b",
   "metadata": {},
   "outputs": [
    {
     "name": "stderr",
     "output_type": "stream",
     "text": [
      "/opt/conda/envs/pytorch_brevitas/lib/python3.10/site-packages/onnxscript/converter.py:820: FutureWarning: 'onnxscript.values.Op.param_schemas' is deprecated in version 0.1 and will be removed in the future. Please use '.op_signature' instead.\n",
      "  param_schemas = callee.param_schemas()\n",
      "/opt/conda/envs/pytorch_brevitas/lib/python3.10/site-packages/onnxscript/converter.py:820: FutureWarning: 'onnxscript.values.OnnxFunction.param_schemas' is deprecated in version 0.1 and will be removed in the future. Please use '.op_signature' instead.\n",
      "  param_schemas = callee.param_schemas()\n"
     ]
    }
   ],
   "source": [
    "import numpy as np\n",
    "import torch\n",
    "from torchinfo import summary\n",
    "\n",
    "import modules.dataloaders as dataloaders\n",
    "import modules.brevitas.model_mobilenetv2_mini_Resnet_Sparse24_Brevitas as cnv_model\n",
    "\n",
    "import modules.metrics as metrics\n",
    "import modules.val_final_model as val_final_model\n",
    "import modules.utils as utils"
   ]
  },
  {
   "cell_type": "markdown",
   "id": "32673ea5-65c2-418d-b4bb-dc52d5fc0cb5",
   "metadata": {},
   "source": [
    "# Load Model"
   ]
  },
  {
   "cell_type": "code",
   "execution_count": 2,
   "id": "65f05240-0c38-4f73-b06d-bf9ceefcb369",
   "metadata": {},
   "outputs": [
    {
     "name": "stderr",
     "output_type": "stream",
     "text": [
      "/opt/conda/envs/pytorch_brevitas/lib/python3.10/site-packages/brevitas/nn/mixin/base.py:77: UserWarning: Keyword arguments are being passed but they not being used.\n",
      "  warn('Keyword arguments are being passed but they not being used.')\n"
     ]
    }
   ],
   "source": [
    "model = cnv_model.MobileNetV2_MINI_RESNET_SPARSE24().to('cuda')"
   ]
  },
  {
   "cell_type": "markdown",
   "id": "6a769672-efb0-4727-8322-8c68795d0efb",
   "metadata": {},
   "source": [
    "### Torchinfo"
   ]
  },
  {
   "cell_type": "code",
   "execution_count": 3,
   "id": "607141f0-be35-4feb-8635-c63724d1503e",
   "metadata": {},
   "outputs": [
    {
     "name": "stderr",
     "output_type": "stream",
     "text": [
      "/opt/conda/envs/pytorch_brevitas/lib/python3.10/site-packages/torch/_tensor.py:1362: UserWarning: Named tensors and all their associated APIs are an experimental feature and subject to change. Please do not use them for anything important until they are released as stable. (Triggered internally at /opt/conda/conda-bld/pytorch_1702400410390/work/c10/core/TensorImpl.h:1900.)\n",
      "  return super().rename(names)\n"
     ]
    },
    {
     "name": "stdout",
     "output_type": "stream",
     "text": [
      "==================================================================================================================================\n",
      "Layer (type:depth-idx)                                                           Output Shape              Param #\n",
      "==================================================================================================================================\n",
      "MobileNetV2_MINI_RESNET_SPARSE24                                                 [1, 2]                    --\n",
      "├─Sequential: 1-1                                                                [1, 64, 14, 14]           59,822\n",
      "│    └─QuantIdentity: 2-1                                                        [1, 3, 224, 224]          --\n",
      "│    │    └─ActQuantProxyFromInjector: 3-1                                       [1, 3, 224, 224]          --\n",
      "│    │    └─ActQuantProxyFromInjector: 3-2                                       [1, 3, 224, 224]          1\n",
      "├─Sequential: 1-72                                                               --                        (recursive)\n",
      "│    └─QuantReLU: 2-88                                                           --                        (recursive)\n",
      "│    │    └─ActQuantProxyFromInjector: 3-96                                      --                        (recursive)\n",
      "├─Sequential: 1-73                                                               --                        (recursive)\n",
      "│    └─QuantIdentity: 2-3                                                        --                        (recursive)\n",
      "│    │    └─ActQuantProxyFromInjector: 3-4                                       --                        (recursive)\n",
      "│    └─Sequential: 2-4                                                           [1, 24, 112, 112]         --\n",
      "│    │    └─QuantConv2d: 3-5                                                     [1, 24, 112, 112]         648\n",
      "│    │    └─BatchNorm2d: 3-6                                                     [1, 24, 112, 112]         48\n",
      "│    │    └─QuantReLU: 3-7                                                       [1, 24, 112, 112]         1\n",
      "├─Sequential: 1-72                                                               --                        (recursive)\n",
      "│    └─QuantReLU: 2-88                                                           --                        (recursive)\n",
      "│    │    └─ActQuantProxyFromInjector: 3-96                                      --                        (recursive)\n",
      "├─Sequential: 1-73                                                               --                        (recursive)\n",
      "│    └─Sequential: 2-6                                                           --                        (recursive)\n",
      "│    │    └─QuantReLU: 3-9                                                       --                        (recursive)\n",
      "│    └─InvertedBlock: 2-7                                                        [1, 8, 112, 112]          --\n",
      "│    │    └─Sequential: 3-10                                                     [1, 8, 112, 112]          474\n",
      "├─Sequential: 1-72                                                               --                        (recursive)\n",
      "│    └─QuantReLU: 2-88                                                           --                        (recursive)\n",
      "│    │    └─ActQuantProxyFromInjector: 3-96                                      --                        (recursive)\n",
      "├─Sequential: 1-73                                                               --                        (recursive)\n",
      "│    └─InvertedBlock: 2-11                                                       --                        (recursive)\n",
      "│    │    └─Sequential: 3-14                                                     --                        (recursive)\n",
      "├─Sequential: 1-72                                                               --                        (recursive)\n",
      "│    └─QuantReLU: 2-88                                                           --                        (recursive)\n",
      "│    │    └─ActQuantProxyFromInjector: 3-96                                      --                        (recursive)\n",
      "├─Sequential: 1-73                                                               --                        (recursive)\n",
      "│    └─InvertedBlock: 2-11                                                       --                        (recursive)\n",
      "│    │    └─Sequential: 3-14                                                     --                        (recursive)\n",
      "│    └─InvertedBlock: 2-12                                                       [1, 16, 56, 56]           --\n",
      "│    │    └─Sequential: 3-15                                                     [1, 16, 56, 56]           627\n",
      "├─Sequential: 1-72                                                               --                        (recursive)\n",
      "│    └─QuantReLU: 2-88                                                           --                        (recursive)\n",
      "│    │    └─ActQuantProxyFromInjector: 3-96                                      --                        (recursive)\n",
      "├─Sequential: 1-73                                                               --                        (recursive)\n",
      "│    └─InvertedBlock: 2-16                                                       --                        (recursive)\n",
      "│    │    └─Sequential: 3-19                                                     --                        (recursive)\n",
      "├─Sequential: 1-72                                                               --                        (recursive)\n",
      "│    └─QuantReLU: 2-88                                                           --                        (recursive)\n",
      "│    │    └─ActQuantProxyFromInjector: 3-96                                      --                        (recursive)\n",
      "├─Sequential: 1-73                                                               --                        (recursive)\n",
      "│    └─InvertedBlock: 2-16                                                       --                        (recursive)\n",
      "│    │    └─Sequential: 3-19                                                     --                        (recursive)\n",
      "│    └─InvertedBlock: 2-28                                                       --                        (recursive)\n",
      "│    │    └─Sequential: 3-29                                                     --                        (recursive)\n",
      "├─Sequential: 1-72                                                               --                        (recursive)\n",
      "│    └─QuantReLU: 2-88                                                           --                        (recursive)\n",
      "│    │    └─ActQuantProxyFromInjector: 3-96                                      --                        (recursive)\n",
      "├─Sequential: 1-73                                                               --                        (recursive)\n",
      "│    └─InvertedBlock: 2-28                                                       --                        (recursive)\n",
      "│    │    └─Sequential: 3-29                                                     --                        (recursive)\n",
      "│    └─InvertedBlock: 2-20                                                       [1, 16, 56, 56]           1\n",
      "│    │    └─Sequential: 3-23                                                     [1, 16, 56, 56]           1,475\n",
      "├─Sequential: 1-72                                                               --                        (recursive)\n",
      "│    └─QuantReLU: 2-88                                                           --                        (recursive)\n",
      "│    │    └─ActQuantProxyFromInjector: 3-96                                      --                        (recursive)\n",
      "├─Sequential: 1-73                                                               --                        (recursive)\n",
      "│    └─InvertedBlock: 2-28                                                       --                        (recursive)\n",
      "│    │    └─Sequential: 3-29                                                     --                        (recursive)\n",
      "├─Sequential: 1-72                                                               --                        (recursive)\n",
      "│    └─QuantReLU: 2-88                                                           --                        (recursive)\n",
      "│    │    └─ActQuantProxyFromInjector: 3-96                                      --                        (recursive)\n",
      "├─Sequential: 1-73                                                               --                        (recursive)\n",
      "│    └─InvertedBlock: 2-28                                                       --                        (recursive)\n",
      "│    │    └─Sequential: 3-29                                                     --                        (recursive)\n",
      "├─Sequential: 1-72                                                               --                        (recursive)\n",
      "│    └─QuantReLU: 2-88                                                           --                        (recursive)\n",
      "│    │    └─ActQuantProxyFromInjector: 3-96                                      --                        (recursive)\n",
      "├─Sequential: 1-73                                                               --                        (recursive)\n",
      "│    └─InvertedBlock: 2-28                                                       --                        (recursive)\n",
      "│    │    └─Sequential: 3-29                                                     --                        (recursive)\n",
      "│    │    └─QuantIdentity: 3-30                                                  [1, 16, 56, 56]           1\n",
      "├─Sequential: 1-72                                                               --                        (recursive)\n",
      "│    └─QuantReLU: 2-88                                                           --                        (recursive)\n",
      "│    │    └─ActQuantProxyFromInjector: 3-96                                      --                        (recursive)\n",
      "├─Sequential: 1-73                                                               --                        (recursive)\n",
      "│    └─InvertedBlock: 2-28                                                       --                        (recursive)\n",
      "│    │    └─QuantIdentity: 3-32                                                  --                        (recursive)\n",
      "│    └─InvertedBlock: 2-29                                                       [1, 24, 28, 28]           --\n",
      "│    │    └─Sequential: 3-33                                                     [1, 24, 28, 28]           1,747\n",
      "├─Sequential: 1-72                                                               --                        (recursive)\n",
      "│    └─QuantReLU: 2-88                                                           --                        (recursive)\n",
      "│    │    └─ActQuantProxyFromInjector: 3-96                                      --                        (recursive)\n",
      "├─Sequential: 1-73                                                               --                        (recursive)\n",
      "│    └─InvertedBlock: 2-33                                                       --                        (recursive)\n",
      "│    │    └─Sequential: 3-37                                                     --                        (recursive)\n",
      "├─Sequential: 1-72                                                               --                        (recursive)\n",
      "│    └─QuantReLU: 2-88                                                           --                        (recursive)\n",
      "│    │    └─ActQuantProxyFromInjector: 3-96                                      --                        (recursive)\n",
      "├─Sequential: 1-73                                                               --                        (recursive)\n",
      "│    └─InvertedBlock: 2-33                                                       --                        (recursive)\n",
      "│    │    └─Sequential: 3-37                                                     --                        (recursive)\n",
      "│    └─InvertedBlock: 2-45                                                       --                        (recursive)\n",
      "│    │    └─Sequential: 3-47                                                     --                        (recursive)\n",
      "├─Sequential: 1-72                                                               --                        (recursive)\n",
      "│    └─QuantReLU: 2-88                                                           --                        (recursive)\n",
      "│    │    └─ActQuantProxyFromInjector: 3-96                                      --                        (recursive)\n",
      "├─Sequential: 1-73                                                               --                        (recursive)\n",
      "│    └─InvertedBlock: 2-45                                                       --                        (recursive)\n",
      "│    │    └─Sequential: 3-47                                                     --                        (recursive)\n",
      "│    └─InvertedBlock: 2-37                                                       [1, 24, 28, 28]           1\n",
      "│    │    └─Sequential: 3-41                                                     [1, 24, 28, 28]           2,979\n",
      "├─Sequential: 1-72                                                               --                        (recursive)\n",
      "│    └─QuantReLU: 2-88                                                           --                        (recursive)\n",
      "│    │    └─ActQuantProxyFromInjector: 3-96                                      --                        (recursive)\n",
      "├─Sequential: 1-73                                                               --                        (recursive)\n",
      "│    └─InvertedBlock: 2-45                                                       --                        (recursive)\n",
      "│    │    └─Sequential: 3-47                                                     --                        (recursive)\n",
      "├─Sequential: 1-72                                                               --                        (recursive)\n",
      "│    └─QuantReLU: 2-88                                                           --                        (recursive)\n",
      "│    │    └─ActQuantProxyFromInjector: 3-96                                      --                        (recursive)\n",
      "├─Sequential: 1-73                                                               --                        (recursive)\n",
      "│    └─InvertedBlock: 2-45                                                       --                        (recursive)\n",
      "│    │    └─Sequential: 3-47                                                     --                        (recursive)\n",
      "├─Sequential: 1-72                                                               --                        (recursive)\n",
      "│    └─QuantReLU: 2-88                                                           --                        (recursive)\n",
      "│    │    └─ActQuantProxyFromInjector: 3-96                                      --                        (recursive)\n",
      "├─Sequential: 1-73                                                               --                        (recursive)\n",
      "│    └─InvertedBlock: 2-45                                                       --                        (recursive)\n",
      "│    │    └─Sequential: 3-47                                                     --                        (recursive)\n",
      "│    │    └─QuantIdentity: 3-48                                                  [1, 24, 28, 28]           1\n",
      "├─Sequential: 1-72                                                               --                        (recursive)\n",
      "│    └─QuantReLU: 2-88                                                           --                        (recursive)\n",
      "│    │    └─ActQuantProxyFromInjector: 3-96                                      --                        (recursive)\n",
      "├─Sequential: 1-73                                                               --                        (recursive)\n",
      "│    └─InvertedBlock: 2-45                                                       --                        (recursive)\n",
      "│    │    └─QuantIdentity: 3-50                                                  --                        (recursive)\n",
      "│    └─InvertedBlock: 2-46                                                       [1, 32, 14, 14]           --\n",
      "│    │    └─Sequential: 3-51                                                     [1, 32, 14, 14]           6,691\n",
      "├─Sequential: 1-72                                                               --                        (recursive)\n",
      "│    └─QuantReLU: 2-88                                                           --                        (recursive)\n",
      "│    │    └─ActQuantProxyFromInjector: 3-96                                      --                        (recursive)\n",
      "├─Sequential: 1-73                                                               --                        (recursive)\n",
      "│    └─InvertedBlock: 2-50                                                       --                        (recursive)\n",
      "│    │    └─Sequential: 3-55                                                     --                        (recursive)\n",
      "├─Sequential: 1-72                                                               --                        (recursive)\n",
      "│    └─QuantReLU: 2-88                                                           --                        (recursive)\n",
      "│    │    └─ActQuantProxyFromInjector: 3-96                                      --                        (recursive)\n",
      "├─Sequential: 1-73                                                               --                        (recursive)\n",
      "│    └─InvertedBlock: 2-50                                                       --                        (recursive)\n",
      "│    │    └─Sequential: 3-55                                                     --                        (recursive)\n",
      "│    └─InvertedBlock: 2-60                                                       --                        (recursive)\n",
      "│    │    └─Sequential: 3-65                                                     --                        (recursive)\n",
      "├─Sequential: 1-72                                                               --                        (recursive)\n",
      "│    └─QuantReLU: 2-88                                                           --                        (recursive)\n",
      "│    │    └─ActQuantProxyFromInjector: 3-96                                      --                        (recursive)\n",
      "├─Sequential: 1-73                                                               --                        (recursive)\n",
      "│    └─InvertedBlock: 2-60                                                       --                        (recursive)\n",
      "│    │    └─Sequential: 3-65                                                     --                        (recursive)\n",
      "│    └─InvertedBlock: 2-54                                                       [1, 32, 14, 14]           1\n",
      "│    │    └─Sequential: 3-59                                                     [1, 32, 14, 14]           9,923\n",
      "├─Sequential: 1-72                                                               --                        (recursive)\n",
      "│    └─QuantReLU: 2-88                                                           --                        (recursive)\n",
      "│    │    └─ActQuantProxyFromInjector: 3-96                                      --                        (recursive)\n",
      "├─Sequential: 1-73                                                               --                        (recursive)\n",
      "│    └─InvertedBlock: 2-60                                                       --                        (recursive)\n",
      "│    │    └─Sequential: 3-65                                                     --                        (recursive)\n",
      "├─Sequential: 1-72                                                               --                        (recursive)\n",
      "│    └─QuantReLU: 2-88                                                           --                        (recursive)\n",
      "│    │    └─ActQuantProxyFromInjector: 3-96                                      --                        (recursive)\n",
      "├─Sequential: 1-73                                                               --                        (recursive)\n",
      "│    └─InvertedBlock: 2-60                                                       --                        (recursive)\n",
      "│    │    └─Sequential: 3-65                                                     --                        (recursive)\n",
      "├─Sequential: 1-72                                                               --                        (recursive)\n",
      "│    └─QuantReLU: 2-88                                                           --                        (recursive)\n",
      "│    │    └─ActQuantProxyFromInjector: 3-96                                      --                        (recursive)\n",
      "├─Sequential: 1-73                                                               --                        (recursive)\n",
      "│    └─InvertedBlock: 2-60                                                       --                        (recursive)\n",
      "│    │    └─Sequential: 3-65                                                     --                        (recursive)\n",
      "│    │    └─QuantIdentity: 3-66                                                  [1, 32, 14, 14]           1\n",
      "│    └─InvertedBlock: 2-72                                                       --                        (recursive)\n",
      "│    │    └─Sequential: 3-76                                                     --                        (recursive)\n",
      "├─Sequential: 1-72                                                               --                        (recursive)\n",
      "│    └─QuantReLU: 2-88                                                           --                        (recursive)\n",
      "│    │    └─ActQuantProxyFromInjector: 3-96                                      --                        (recursive)\n",
      "├─Sequential: 1-73                                                               --                        (recursive)\n",
      "│    └─InvertedBlock: 2-72                                                       --                        (recursive)\n",
      "│    │    └─Sequential: 3-76                                                     --                        (recursive)\n",
      "│    └─InvertedBlock: 2-64                                                       [1, 32, 14, 14]           1\n",
      "│    │    └─Sequential: 3-70                                                     [1, 32, 14, 14]           9,923\n",
      "├─Sequential: 1-72                                                               --                        (recursive)\n",
      "│    └─QuantReLU: 2-88                                                           --                        (recursive)\n",
      "│    │    └─ActQuantProxyFromInjector: 3-96                                      --                        (recursive)\n",
      "├─Sequential: 1-73                                                               --                        (recursive)\n",
      "│    └─InvertedBlock: 2-72                                                       --                        (recursive)\n",
      "│    │    └─Sequential: 3-76                                                     --                        (recursive)\n",
      "├─Sequential: 1-72                                                               --                        (recursive)\n",
      "│    └─QuantReLU: 2-88                                                           --                        (recursive)\n",
      "│    │    └─ActQuantProxyFromInjector: 3-96                                      --                        (recursive)\n",
      "├─Sequential: 1-73                                                               --                        (recursive)\n",
      "│    └─InvertedBlock: 2-72                                                       --                        (recursive)\n",
      "│    │    └─Sequential: 3-76                                                     --                        (recursive)\n",
      "├─Sequential: 1-72                                                               --                        (recursive)\n",
      "│    └─QuantReLU: 2-88                                                           --                        (recursive)\n",
      "│    │    └─ActQuantProxyFromInjector: 3-96                                      --                        (recursive)\n",
      "├─Sequential: 1-73                                                               --                        (recursive)\n",
      "│    └─InvertedBlock: 2-72                                                       --                        (recursive)\n",
      "│    │    └─Sequential: 3-76                                                     --                        (recursive)\n",
      "│    │    └─QuantIdentity: 3-77                                                  [1, 32, 14, 14]           1\n",
      "├─Sequential: 1-72                                                               --                        (recursive)\n",
      "│    └─QuantReLU: 2-88                                                           --                        (recursive)\n",
      "│    │    └─ActQuantProxyFromInjector: 3-96                                      --                        (recursive)\n",
      "├─Sequential: 1-73                                                               --                        (recursive)\n",
      "│    └─InvertedBlock: 2-72                                                       --                        (recursive)\n",
      "│    │    └─QuantIdentity: 3-79                                                  --                        (recursive)\n",
      "│    └─InvertedBlock: 2-73                                                       [1, 64, 14, 14]           --\n",
      "│    │    └─Sequential: 3-80                                                     [1, 64, 14, 14]           7,107\n",
      "├─Sequential: 1-72                                                               --                        (recursive)\n",
      "│    └─QuantReLU: 2-88                                                           --                        (recursive)\n",
      "│    │    └─ActQuantProxyFromInjector: 3-96                                      --                        (recursive)\n",
      "├─Sequential: 1-73                                                               --                        (recursive)\n",
      "│    └─InvertedBlock: 2-77                                                       --                        (recursive)\n",
      "│    │    └─Sequential: 3-84                                                     --                        (recursive)\n",
      "├─Sequential: 1-72                                                               --                        (recursive)\n",
      "│    └─QuantReLU: 2-88                                                           --                        (recursive)\n",
      "│    │    └─ActQuantProxyFromInjector: 3-96                                      --                        (recursive)\n",
      "├─Sequential: 1-73                                                               --                        (recursive)\n",
      "│    └─InvertedBlock: 2-77                                                       --                        (recursive)\n",
      "│    │    └─Sequential: 3-84                                                     --                        (recursive)\n",
      "│    └─InvertedBlock: 2-89                                                       --                        (recursive)\n",
      "│    │    └─Sequential: 3-94                                                     --                        (recursive)\n",
      "├─Sequential: 1-72                                                               --                        (recursive)\n",
      "│    └─QuantReLU: 2-88                                                           --                        (recursive)\n",
      "│    │    └─ActQuantProxyFromInjector: 3-96                                      --                        (recursive)\n",
      "├─Sequential: 1-73                                                               --                        (recursive)\n",
      "│    └─InvertedBlock: 2-89                                                       --                        (recursive)\n",
      "│    │    └─Sequential: 3-94                                                     --                        (recursive)\n",
      "│    └─InvertedBlock: 2-81                                                       [1, 64, 14, 14]           1\n",
      "│    │    └─Sequential: 3-88                                                     [1, 64, 14, 14]           18,179\n",
      "├─Sequential: 1-72                                                               --                        (recursive)\n",
      "│    └─QuantReLU: 2-88                                                           --                        (recursive)\n",
      "│    │    └─ActQuantProxyFromInjector: 3-96                                      --                        (recursive)\n",
      "├─Sequential: 1-73                                                               --                        (recursive)\n",
      "│    └─InvertedBlock: 2-89                                                       --                        (recursive)\n",
      "│    │    └─Sequential: 3-94                                                     --                        (recursive)\n",
      "├─Sequential: 1-72                                                               --                        (recursive)\n",
      "│    └─QuantReLU: 2-88                                                           --                        (recursive)\n",
      "│    │    └─ActQuantProxyFromInjector: 3-96                                      --                        (recursive)\n",
      "├─Sequential: 1-73                                                               --                        (recursive)\n",
      "│    └─InvertedBlock: 2-89                                                       --                        (recursive)\n",
      "│    │    └─Sequential: 3-94                                                     --                        (recursive)\n",
      "├─Sequential: 1-72                                                               --                        (recursive)\n",
      "│    └─QuantReLU: 2-88                                                           --                        (recursive)\n",
      "│    │    └─ActQuantProxyFromInjector: 3-96                                      --                        (recursive)\n",
      "├─Sequential: 1-73                                                               --                        (recursive)\n",
      "│    └─InvertedBlock: 2-89                                                       --                        (recursive)\n",
      "│    │    └─Sequential: 3-94                                                     --                        (recursive)\n",
      "│    │    └─QuantIdentity: 3-95                                                  [1, 64, 14, 14]           1\n",
      "├─Sequential: 1-72                                                               --                        (recursive)\n",
      "│    └─QuantReLU: 2-88                                                           --                        (recursive)\n",
      "│    │    └─ActQuantProxyFromInjector: 3-96                                      --                        (recursive)\n",
      "├─Sequential: 1-73                                                               --                        (recursive)\n",
      "│    └─InvertedBlock: 2-89                                                       --                        (recursive)\n",
      "│    │    └─QuantIdentity: 3-97                                                  --                        (recursive)\n",
      "├─Sequential: 1-74                                                               [1, 128, 14, 14]          --\n",
      "│    └─QuantConv2d: 2-90                                                         [1, 128, 14, 14]          --\n",
      "│    │    └─ActQuantProxyFromInjector: 3-98                                      [1, 64, 14, 14]           --\n",
      "│    │    └─WeightQuantProxyFromInjector: 3-99                                   [128, 64, 1, 1]           8,192\n",
      "│    │    └─ActQuantProxyFromInjector: 3-100                                     [1, 128, 14, 14]          --\n",
      "│    └─BatchNorm2d: 2-91                                                         [1, 128, 14, 14]          256\n",
      "│    └─QuantReLU: 2-92                                                           [1, 128, 14, 14]          --\n",
      "│    │    └─ActQuantProxyFromInjector: 3-101                                     [1, 128, 14, 14]          --\n",
      "│    │    └─ActQuantProxyFromInjector: 3-102                                     [1, 128, 14, 14]          1\n",
      "├─TruncAvgPool2d: 1-75                                                           [1, 128, 1, 1]            --\n",
      "│    └─TruncQuantProxyFromInjector: 2-93                                         [1, 128, 1, 1]            --\n",
      "│    │    └─TruncIntQuant: 3-103                                                 [1, 128, 1, 1]            --\n",
      "├─QuantLinear: 1-76                                                              [1, 2]                    2\n",
      "│    └─ActQuantProxyFromInjector: 2-94                                           [1, 128]                  --\n",
      "│    └─WeightQuantProxyFromInjector: 2-95                                        [2, 128]                  --\n",
      "│    │    └─RescalingIntQuant: 3-104                                             [2, 128]                  256\n",
      "│    └─BiasQuantProxyFromInjector: 2-96                                          [2]                       --\n",
      "│    │    └─PrescaledRestrictIntQuant: 3-105                                     [2]                       --\n",
      "│    └─ActQuantProxyFromInjector: 2-97                                           [1, 2]                    --\n",
      "==================================================================================================================================\n",
      "Total params: 162,834\n",
      "Trainable params: 162,834\n",
      "Non-trainable params: 0\n",
      "Total mult-adds (M): 0.00\n",
      "==================================================================================================================================\n",
      "Input size (MB): 0.60\n",
      "Forward/backward pass size (MB): 14.65\n",
      "Params size (MB): 0.01\n",
      "Estimated Total Size (MB): 15.27\n",
      "==================================================================================================================================\n"
     ]
    }
   ],
   "source": [
    "print(summary(model, input_size=(1, 3, 224, 224)))"
   ]
  },
  {
   "cell_type": "markdown",
   "id": "61d74ed9-984a-4f66-8121-d1152fecad98",
   "metadata": {},
   "source": [
    "# Load Weights"
   ]
  },
  {
   "cell_type": "code",
   "execution_count": 4,
   "id": "bedb05f2-65fd-475d-bce5-c55098ff22c8",
   "metadata": {},
   "outputs": [],
   "source": [
    "weights_folder = './experiments_brevitas/test_v61_mini_resnet_sparsefirst24_full_ds/weights'\n",
    "model_ckpnt = weights_folder + '/Mobilenetv2_Mini_Resnet_Sparse24_classifier__best_mean_F1.pt'"
   ]
  },
  {
   "cell_type": "code",
   "execution_count": 5,
   "id": "6efb3c84-4076-4694-8505-2c3c0ee9aa1e",
   "metadata": {},
   "outputs": [
    {
     "name": "stdout",
     "output_type": "stream",
     "text": [
      "Loading Model. Trained during 112 epochs\n"
     ]
    },
    {
     "data": {
      "text/plain": [
       "112"
      ]
     },
     "execution_count": 5,
     "metadata": {},
     "output_type": "execute_result"
    }
   ],
   "source": [
    "utils.load_checkpoint(\n",
    "    model_path = model_ckpnt, \n",
    "    model = model,\n",
    "    device = 'cuda'\n",
    ")"
   ]
  },
  {
   "cell_type": "code",
   "execution_count": 6,
   "id": "ec3e5df0-823a-4de8-a843-785b3c52871e",
   "metadata": {},
   "outputs": [],
   "source": [
    "model.to('cpu')\n",
    "model.eval();"
   ]
  },
  {
   "cell_type": "markdown",
   "id": "6e5e0386-520e-4452-a4bd-217a39e3478f",
   "metadata": {},
   "source": [
    "# Test with DFire MINI Dataset: Train and Test"
   ]
  },
  {
   "cell_type": "code",
   "execution_count": 7,
   "id": "1c7cc77c-6bdf-4d83-9358-61038a8b23bb",
   "metadata": {},
   "outputs": [
    {
     "name": "stdout",
     "output_type": "stream",
     "text": [
      "\n",
      "====================\n",
      "TEST DFire MINI dataset\n",
      "DFire Removed wrong images: 0\n",
      "DFire empty images: 6\n",
      "DFire only smoke images: 13\n",
      "DFire only fire images: 2\n",
      "DFire smoke and fire images: 9\n",
      "\n",
      "Test dataset len: 30\n"
     ]
    }
   ],
   "source": [
    "test_dfire_mini_loader = dataloaders.get_dfire_mini_test_loader()"
   ]
  },
  {
   "cell_type": "markdown",
   "id": "17c77cd9-05ef-4771-8707-82ba5f16ef0c",
   "metadata": {},
   "source": [
    "### Test DFire MINI"
   ]
  },
  {
   "cell_type": "code",
   "execution_count": 8,
   "id": "2c237df0-9726-42e9-8ebe-d738948fb047",
   "metadata": {},
   "outputs": [
    {
     "name": "stderr",
     "output_type": "stream",
     "text": [
      "Validating: 100%|████████████████████████████████████████████████████████████████████████████████████████████████████████████████████████████████████████████| 30/30 [00:00<00:00, 44.42it/s]"
     ]
    },
    {
     "name": "stdout",
     "output_type": "stream",
     "text": [
      "SMOKE -> Precision: 1.0000 - Recall: 0.9091 - Accuracy: 0.9333 - F1: 0.9524\n",
      "FIRE -> Precision: 1.0000 - Recall: 1.0000 - Accuracy: 1.0000 - F1: 1.0000\n"
     ]
    },
    {
     "name": "stderr",
     "output_type": "stream",
     "text": [
      "\n"
     ]
    }
   ],
   "source": [
    "with torch.no_grad():\n",
    "    val_metrics = val_final_model.eval_fn(\n",
    "        loader=test_dfire_mini_loader, \n",
    "        model=model,                         \n",
    "        device='cpu')"
   ]
  },
  {
   "cell_type": "code",
   "execution_count": 9,
   "id": "06fdf6f8-b716-4ee3-a29a-ea9972387cd8",
   "metadata": {},
   "outputs": [
    {
     "name": "stdout",
     "output_type": "stream",
     "text": [
      "\n",
      "Testing with DFire MINI TEST after LOADING F1 Best Mean CHECKPOINT\n",
      "{'Accuracy': [0.9333333373069763, 1.0], 'Precision': [1.0, 1.0], 'Recall': [0.9090909361839294, 1.0], 'F1': [0.9523809552192688, 1.0]}\n"
     ]
    }
   ],
   "source": [
    "print('\\nTesting with DFire MINI TEST after LOADING F1 Best Mean CHECKPOINT')  \n",
    "print(val_metrics)"
   ]
  },
  {
   "cell_type": "markdown",
   "id": "e24f7f25-a3ed-4779-bf71-134530705210",
   "metadata": {},
   "source": [
    "# Test with DFire Full Test"
   ]
  },
  {
   "cell_type": "code",
   "execution_count": 10,
   "id": "659f4e27-60a9-4b78-b0a9-aa1acc9aeab2",
   "metadata": {},
   "outputs": [
    {
     "name": "stdout",
     "output_type": "stream",
     "text": [
      "\n",
      "====================\n",
      "TEST DFire dataset\n",
      "DFire Removed wrong images: 0\n",
      "DFire empty images: 2005\n",
      "DFire only smoke images: 1186\n",
      "DFire only fire images: 220\n",
      "DFire smoke and fire images: 895\n",
      "\n",
      "Test dataset len: 4306\n"
     ]
    }
   ],
   "source": [
    "test_dfire_loader = dataloaders.get_dfire_val_loader()"
   ]
  },
  {
   "cell_type": "code",
   "execution_count": null,
   "id": "efca4706-7fc0-485d-af94-98ae1f890c46",
   "metadata": {},
   "outputs": [
    {
     "name": "stderr",
     "output_type": "stream",
     "text": [
      "Validating:  82%|███████████████████████████████████████████████████████████████████████████████████████████████████████████████████▎                        | 56/68 [01:10<00:14,  1.21s/it]"
     ]
    }
   ],
   "source": [
    "with torch.no_grad():\n",
    "    val_metrics = val_final_model.eval_fn(\n",
    "        loader=test_dfire_loader, \n",
    "        model=model,                         \n",
    "        device='cpu')"
   ]
  },
  {
   "cell_type": "code",
   "execution_count": null,
   "id": "f5bd6a86-d46f-41b3-939d-69cdd0084536",
   "metadata": {},
   "outputs": [],
   "source": []
  },
  {
   "cell_type": "code",
   "execution_count": null,
   "id": "a7985ba3-2b17-4562-90a0-c79017035241",
   "metadata": {},
   "outputs": [],
   "source": []
  }
 ],
 "metadata": {
  "kernelspec": {
   "display_name": "Python 3 (ipykernel)",
   "language": "python",
   "name": "python3"
  },
  "language_info": {
   "codemirror_mode": {
    "name": "ipython",
    "version": 3
   },
   "file_extension": ".py",
   "mimetype": "text/x-python",
   "name": "python",
   "nbconvert_exporter": "python",
   "pygments_lexer": "ipython3",
   "version": "3.10.9"
  }
 },
 "nbformat": 4,
 "nbformat_minor": 5
}
