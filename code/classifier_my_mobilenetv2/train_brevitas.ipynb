{
 "cells": [
  {
   "cell_type": "code",
   "execution_count": 1,
   "id": "ced39284-e77a-4bb4-b4f4-1e32f8dc378b",
   "metadata": {
    "editable": true,
    "slideshow": {
     "slide_type": ""
    },
    "tags": []
   },
   "outputs": [
    {
     "name": "stderr",
     "output_type": "stream",
     "text": [
      "/opt/conda/envs/pytorch_brevitas/lib/python3.10/site-packages/onnxscript/converter.py:820: FutureWarning: 'onnxscript.values.Op.param_schemas' is deprecated in version 0.1 and will be removed in the future. Please use '.op_signature' instead.\n",
      "  param_schemas = callee.param_schemas()\n",
      "/opt/conda/envs/pytorch_brevitas/lib/python3.10/site-packages/onnxscript/converter.py:820: FutureWarning: 'onnxscript.values.OnnxFunction.param_schemas' is deprecated in version 0.1 and will be removed in the future. Please use '.op_signature' instead.\n",
      "  param_schemas = callee.param_schemas()\n"
     ]
    }
   ],
   "source": [
    "import logging\n",
    "import datetime\n",
    "\n",
    "import numpy as np\n",
    "import torch\n",
    "from torch.nn.utils import parameters_to_vector\n",
    "import torch.optim as optim\n",
    "from torchinfo import summary\n",
    "\n",
    "import matplotlib.pyplot as plt\n",
    "\n",
    "import config\n",
    "import modules.dataloaders as dataloaders\n",
    "\n",
    "# import modules.brevitas.model_mobilenetv2_original_Brevitas as cnv_model\n",
    "# import modules.brevitas.model_mobilenetv2_1M_Brevitas as cnv_model\n",
    "\n",
    "# import modules.brevitas.model_mobilenetv2_mini_Brevitas as cnv_model\n",
    "# import modules.brevitas.model_mobilenetv2_mini_160_Brevitas as cnv_model\n",
    "# import modules.brevitas.model_mobilenetv2_mini_112_Brevitas as cnv_model\n",
    "\n",
    "# import modules.brevitas.model_mobilenetv2_mini_Resnet_Brevitas as cnv_model\n",
    "# import modules.brevitas.model_mobilenetv2_mini_Resnet_160_Brevitas as cnv_model\n",
    "import modules.brevitas.model_mobilenetv2_mini_Resnet_112_Brevitas as cnv_model\n",
    "# import modules.brevitas.model_mobilenetv2_mini_Resnet_ReLU6_Brevitas as cnv_model \n",
    "# import modules.brevitas.model_mobilenetv2_mini_Resnet_Sparse24_Brevitas as cnv_model\n",
    "# import modules.brevitas.model_mobilenetv2_mini_Resnet_4bitINP_Brevitas as cnv_model\n",
    "\n",
    "# import modules.brevitas.model_mobilenetv2_mini_Resnet_reluPerChannel_Brevitas as cnv_model\n",
    "\n",
    "\n",
    "import modules.loss as loss\n",
    "import modules.metrics as metrics\n",
    "import modules.train_epoch as train_epoch\n",
    "import modules.val_epoch as val_epoch\n",
    "import modules.utils as utils"
   ]
  },
  {
   "cell_type": "code",
   "execution_count": 2,
   "id": "8c9f1ed9-bdb0-4417-ac3d-cec7acef5117",
   "metadata": {},
   "outputs": [],
   "source": [
    "# from brevitas.export import export_onnx_qcdq\n",
    "# from brevitas.export import export_qonnx"
   ]
  },
  {
   "cell_type": "markdown",
   "id": "4e2413f4-083b-4ddd-bf51-0332c1166d47",
   "metadata": {},
   "source": [
    "# Logger"
   ]
  },
  {
   "cell_type": "code",
   "execution_count": 3,
   "id": "9006bcad-639b-4775-b5a6-2fd13420cbb2",
   "metadata": {},
   "outputs": [],
   "source": [
    "log_path = config.LOGS_FOLDER\n",
    "\n",
    "logger = logging.getLogger(\"GonLogger\")\n",
    "logger.propagate = False\n",
    "logger.setLevel(logging.INFO)\n",
    "file_handler = logging.FileHandler(log_path + 'logfile.log')\n",
    "formatter = logging.Formatter('%(message)s')\n",
    "file_handler.setFormatter(formatter)\n",
    "\n",
    "# add file handler to logger\n",
    "logger.addHandler(file_handler)\n",
    "\n",
    "logger.info(f'{config.MODEL} Classifier.\\n' +  \n",
    "            '\\tOne Head.\\n' +\n",
    "            '\\tWeighted for Precision.\\n' +\n",
    "            '\\tBrevitas Default.\\n'+ \n",
    "            '\\tDataset images divided by 255.\\n')"
   ]
  },
  {
   "cell_type": "markdown",
   "id": "3884364d-ec36-4e80-a0d5-c5d259f4b313",
   "metadata": {},
   "source": [
    "# Hyperparameters Log"
   ]
  },
  {
   "cell_type": "code",
   "execution_count": 4,
   "id": "25fe6b1d-7f69-48d4-80a2-219e19c33016",
   "metadata": {},
   "outputs": [
    {
     "name": "stdout",
     "output_type": "stream",
     "text": [
      "\n",
      "Datasets Length\n",
      "\tTrain and Val: 128\n",
      "\n",
      "Load Model: False\n",
      "Device: cuda\n",
      "Optimizer:\n",
      "\tLearning Rate: 0.001\n",
      "\tWeight Decay: 0.0\n",
      "Scheduler:\n",
      "\tScheduler factor: 0.8\n",
      "\tScheduler patience: 2\n",
      "\tScheduler threshold: 0.001\n",
      "\tScheduler min learning rate: 1e-06\n",
      "Batch Size: 64\n",
      "Num Workers: 8\n",
      "Pin Memory: True\n",
      "Epochs: 3\n",
      "\n",
      "IMG DIMS:\n",
      "\tWidth: 112\n",
      "\tHeight: 112\n",
      "\n",
      "Brevitas Config:\n",
      "\tFixed Point: True\n",
      "\tWeights Bit Width: 4\n",
      "\tBig Layers Weights Bit Width: 4\n",
      "\tBias Bit Width: 4\n",
      "\tActivations Bit Width: 4\n"
     ]
    }
   ],
   "source": [
    "''' ============================\n",
    "    Print Config Values\n",
    "============================ '''\n",
    "print('\\nDatasets Length')\n",
    "print(f'\\tTrain and Val: {\"Full\" if config.DS_LEN == None else config.DS_LEN}')\n",
    "print(f'\\nLoad Model: {config.LOAD_MODEL}')\n",
    "if (config.LOAD_MODEL == True):\n",
    "    print(f'\\tModel: {config.LOAD_MODEL_FILE}')\n",
    "print(f'Device: {config.DEVICE}')\n",
    "print('Optimizer:')\n",
    "print(f'\\tLearning Rate: {config.LEARNING_RATE}')\n",
    "print(f'\\tWeight Decay: {config.WEIGHT_DECAY}')\n",
    "print('Scheduler:')\n",
    "print(f'\\tScheduler factor: {config.FACTOR}')\n",
    "print(f'\\tScheduler patience: {config.PATIENCE}')\n",
    "print(f'\\tScheduler threshold: {config.THRES}')\n",
    "print(f'\\tScheduler min learning rate: {config.MIN_LR}')\n",
    "print(f'Batch Size: {config.BATCH_SIZE}')\n",
    "print(f'Num Workers: {config.NUM_WORKERS}')\n",
    "print(f'Pin Memory: {config.PIN_MEMORY}')\n",
    "print(f'Epochs: {config.EPOCHS}')\n",
    "print('\\nIMG DIMS:')\n",
    "print(f'\\tWidth: {config.IMG_W}\\n\\tHeight: {config.IMG_H}')\n",
    "print('\\nBrevitas Config:')\n",
    "print(f'\\tFixed Point: {config.FIXED_POINT}')\n",
    "print(f'\\tWeights Bit Width: {config.WEIGHTS_BIT_WIDTH}')\n",
    "print(f'\\tBig Layers Weights Bit Width: {config.BIG_LAYERS_WEIGHTS_BIT_WIDTH}')\n",
    "print(f'\\tBias Bit Width: {config.BIAS_BIT_WIDTH}')\n",
    "print(f'\\tActivations Bit Width: {config.ACTIVATIONS_BIT_WIDTH}')\n",
    "\n",
    "logger.info('\\nDatasets Length')\n",
    "logger.info(f'\\tTrain and Val: {\"Full\" if config.DS_LEN == None else config.DS_LEN}')\n",
    "logger.info(f'\\nLoad Model: {config.LOAD_MODEL}')\n",
    "if (config.LOAD_MODEL == True):\n",
    "    logger.info(f'\\tModel: {config.LOAD_MODEL_FILE}')\n",
    "logger.info(f'\\nDevice: {config.DEVICE}')\n",
    "logger.info('Optimizer:')\n",
    "logger.info(f'\\tLearning Rate: {config.LEARNING_RATE}')\n",
    "logger.info(f'\\tWeight Decay: {config.WEIGHT_DECAY}')\n",
    "logger.info('Scheduler:')\n",
    "logger.info(f'\\tScheduler factor: {config.FACTOR}')\n",
    "logger.info(f'\\tScheduler patience: {config.PATIENCE}')\n",
    "logger.info(f'\\tScheduler threshold: {config.THRES}')\n",
    "logger.info(f'\\tScheduler min learning rate: {config.MIN_LR}')\n",
    "logger.info(f'\\nBatch Size: {config.BATCH_SIZE}')\n",
    "logger.info(f'Num Workers: {config.NUM_WORKERS}')\n",
    "logger.info(f'Pin Memory: {config.PIN_MEMORY}')\n",
    "logger.info(f'Epochs: {config.EPOCHS}')\n",
    "logger.info('\\nIMG DIMS:')\n",
    "logger.info(f'\\tWidth: {config.IMG_W}\\n\\tHeight: {config.IMG_H}')\n",
    "logger.info('\\nBrevitas Config:')\n",
    "logger.info(f'\\tFixed Point: {config.FIXED_POINT}')\n",
    "logger.info(f'\\tWeights Bit Width: {config.WEIGHTS_BIT_WIDTH}')\n",
    "logger.info(f'\\tBig Layers Weights Bit Width: {config.BIG_LAYERS_WEIGHTS_BIT_WIDTH}')\n",
    "logger.info(f'\\tBias Bit Width: {config.BIAS_BIT_WIDTH}')\n",
    "logger.info(f'\\tActivations Bit Width: {config.ACTIVATIONS_BIT_WIDTH}')"
   ]
  },
  {
   "cell_type": "markdown",
   "id": "c48611bc-7a36-41f5-a80c-5cc442bd40fd",
   "metadata": {},
   "source": [
    "# Dataloaders"
   ]
  },
  {
   "cell_type": "code",
   "execution_count": 5,
   "id": "125fadde-618b-4a0d-8d1e-86f4b46a35a2",
   "metadata": {},
   "outputs": [
    {
     "name": "stdout",
     "output_type": "stream",
     "text": [
      "\n",
      "====================\n",
      "TRAIN DFIRE dataset\n",
      "DFire Removed wrong images: 0\n",
      "DFire empty images: 56\n",
      "DFire only smoke images: 37\n",
      "DFire only fire images: 8\n",
      "DFire smoke and fire images: 27\n",
      "\n",
      "Train DFire dataset len: 128\n",
      "\n",
      "====================\n",
      "TRAIN FASDD UAV dataset\n",
      "FASDD Removed wrong images: 0\n",
      "FASDD empty images: 58\n",
      "FASDD only smoke images: 22\n",
      "FASDD only fire images: 2\n",
      "FASDD smoke and fire images: 46\n",
      "\n",
      "Train FASDD UAV dataset len: 128\n",
      "\n",
      "====================\n",
      "VAL FASDD UAV dataset\n",
      "FASDD Removed wrong images: 0\n",
      "FASDD empty images: 59\n",
      "FASDD only smoke images: 26\n",
      "FASDD only fire images: 2\n",
      "FASDD smoke and fire images: 41\n",
      "\n",
      "Val FASDD UAV dataset len: 128\n",
      "\n",
      "====================\n",
      "TRAIN FASDD CV dataset\n",
      "FASDD Removed wrong images: 0\n",
      "FASDD empty images: 53\n",
      "FASDD only smoke images: 36\n",
      "FASDD only fire images: 19\n",
      "FASDD smoke and fire images: 20\n",
      "\n",
      "Train FASDD CV dataset len: 128\n",
      "\n",
      "====================\n",
      "Val FASDD CV dataset\n",
      "FASDD Removed wrong images: 0\n",
      "FASDD empty images: 50\n",
      "FASDD only smoke images: 32\n",
      "FASDD only fire images: 20\n",
      "FASDD smoke and fire images: 26\n",
      "\n",
      "Val FASDD CV dataset len: 128\n",
      "\n",
      "==================== CONCATENATE\n",
      "\n",
      "Concatenate Train DFire and Train FASDD UAV datasets\n",
      "Train dataset len: 256\n",
      "Concatenate with Val FASDD UAV dataset\n",
      "Train dataset len: 384\n",
      "Concatenate with Train FASDD CV dataset\n",
      "Train dataset len: 512\n",
      "Concatenate with Val FASDD CV dataset\n",
      "Train dataset len: 640\n",
      "\n",
      "====================\n",
      "TEST DFire dataset\n",
      "DFire Removed wrong images: 0\n",
      "DFire empty images: 62\n",
      "DFire only smoke images: 31\n",
      "DFire only fire images: 5\n",
      "DFire smoke and fire images: 30\n",
      "\n",
      "Test dataset len: 128\n",
      "\n",
      "====================\n",
      "TEST FASDD UAV dataset\n",
      "FASDD Removed wrong images: 0\n",
      "FASDD empty images: 57\n",
      "FASDD only smoke images: 28\n",
      "FASDD only fire images: 1\n",
      "FASDD smoke and fire images: 42\n",
      "\n",
      "Test FASDD UAV dataset len: 128\n",
      "\n",
      "====================\n",
      "TEST FASDD CV dataset\n",
      "FASDD Removed wrong images: 0\n",
      "FASDD empty images: 59\n",
      "FASDD only smoke images: 31\n",
      "FASDD only fire images: 12\n",
      "FASDD smoke and fire images: 26\n",
      "\n",
      "Test FASDD CV dataset len: 128\n",
      "\n",
      "==================== CONCATENATE\n",
      "Concatenate Test DFire and FASDD UAV datasets\n",
      "Test dataset len: 256\n",
      "Concatenate with FASDD CV dataset\n",
      "Test dataset len: 384\n"
     ]
    }
   ],
   "source": [
    "train_loader = dataloaders.get_train_loader()\n",
    "val_loader = dataloaders.get_val_loader()"
   ]
  },
  {
   "cell_type": "markdown",
   "id": "c0cad4b2-3706-47af-87f5-c8221d0f0a28",
   "metadata": {},
   "source": [
    "### Datasets Length"
   ]
  },
  {
   "cell_type": "code",
   "execution_count": 6,
   "id": "98067762-5c7e-4e71-9f8e-f32f10a59e32",
   "metadata": {},
   "outputs": [
    {
     "name": "stdout",
     "output_type": "stream",
     "text": [
      "Train Dataset Length: 640\n",
      "Test Dataset Length: 384\n"
     ]
    }
   ],
   "source": [
    "logger.info(\"\\n********* Datasets Length *********\")\n",
    "\n",
    "print(f'Train Dataset Length: {len(train_loader.dataset)}')\n",
    "logger.info(f'Train Dataset Length: {len(train_loader.dataset)}')\n",
    "\n",
    "print(f'Test Dataset Length: {len(val_loader.dataset)}')\n",
    "logger.info(f'Test Dataset Length: {len(val_loader.dataset)}')"
   ]
  },
  {
   "cell_type": "markdown",
   "id": "841b4bfc-55f6-4692-a5de-8f457d17472c",
   "metadata": {},
   "source": [
    "### Plot Some Train Pictures"
   ]
  },
  {
   "cell_type": "code",
   "execution_count": 7,
   "id": "f18dab26-cb88-4c13-ad66-a5cc8176a0f0",
   "metadata": {},
   "outputs": [],
   "source": [
    "for i, (img, label) in enumerate(train_loader):\n",
    "\n",
    "    plt.subplots(8,4, figsize=(8, 16))\n",
    "    \n",
    "    for idx in range(config.BATCH_SIZE):\n",
    "        plt.subplot(8, 4, idx+1)\n",
    "        plt.imshow(img[idx].permute(1, 2, 0))\n",
    "        title = \"\"\n",
    "        if label[idx][0] == 1 and label[idx][1] == 1:\n",
    "            title += \"Smoke and Fire\"\n",
    "        elif label[idx][0] == 1 and label[idx][1] == 0:\n",
    "            title += \"Only Smoke\"\n",
    "        elif label[idx][0] == 0 and label[idx][1] == 1:\n",
    "            title += \"Only Fire\"\n",
    "        else:\n",
    "            title += \"Empty\"\n",
    "        plt.title(title)\n",
    "        \n",
    "        if (idx == 31):\n",
    "            break\n",
    "    plt.tight_layout()\n",
    "    plt.savefig(config.RUN_FOLDER + 'train_pictures.png')\n",
    "    #plt.show()\n",
    "    plt.close()\n",
    "    break"
   ]
  },
  {
   "cell_type": "markdown",
   "id": "3f38c400-7e28-46fd-8cab-fb537e5bb248",
   "metadata": {},
   "source": [
    "### Plot Some Val Pictures"
   ]
  },
  {
   "cell_type": "code",
   "execution_count": 8,
   "id": "60efe557-e316-4ec3-a850-3e671f04b1a8",
   "metadata": {},
   "outputs": [],
   "source": [
    "for i, (img, label) in enumerate(val_loader):\n",
    "\n",
    "    plt.subplots(8,4, figsize=(8, 16))\n",
    "    \n",
    "    for idx in range(config.BATCH_SIZE):\n",
    "        plt.subplot(8, 4, idx+1)\n",
    "        plt.imshow(img[idx].permute(1, 2, 0))\n",
    "        title = \"\"\n",
    "        if label[idx][0] == 1 and label[idx][1] == 1:\n",
    "            title += \"Smoke and Fire\"\n",
    "        elif label[idx][0] == 1 and label[idx][1] == 0:\n",
    "            title += \"Only Smoke\"\n",
    "        elif label[idx][0] == 0 and label[idx][1] == 1:\n",
    "            title += \"Only Fire\"\n",
    "        else:\n",
    "            title += \"Empty\"\n",
    "        plt.title(title)\n",
    "        \n",
    "        if (idx == 31):\n",
    "            break\n",
    "    plt.tight_layout()\n",
    "    plt.savefig(config.RUN_FOLDER + 'val_pictures.png')\n",
    "    plt.close()\n",
    "    break"
   ]
  },
  {
   "cell_type": "markdown",
   "id": "32673ea5-65c2-418d-b4bb-dc52d5fc0cb5",
   "metadata": {},
   "source": [
    "# Load Model"
   ]
  },
  {
   "cell_type": "code",
   "execution_count": 9,
   "id": "3fbdd1b2-b561-4ea6-af5e-ee65c801c313",
   "metadata": {},
   "outputs": [],
   "source": [
    "# import importlib\n",
    "# importlib.reload(cnv_model)"
   ]
  },
  {
   "cell_type": "code",
   "execution_count": 10,
   "id": "65f05240-0c38-4f73-b06d-bf9ceefcb369",
   "metadata": {},
   "outputs": [
    {
     "name": "stderr",
     "output_type": "stream",
     "text": [
      "/opt/conda/envs/pytorch_brevitas/lib/python3.10/site-packages/brevitas/nn/mixin/base.py:77: UserWarning: Keyword arguments are being passed but they not being used.\n",
      "  warn('Keyword arguments are being passed but they not being used.')\n"
     ]
    }
   ],
   "source": [
    "# model = cnv_model.MobileNetV2_MINI().to(config.DEVICE)\n",
    "# model = cnv_model.MobileNetV2_MINI_160().to(config.DEVICE)\n",
    "# model = cnv_model.MobileNetV2_MINI_112().to(config.DEVICE)\n",
    "\n",
    "# model = cnv_model.MobileNetV2_1M().to(config.DEVICE)\n",
    "\n",
    "# model = cnv_model.MobileNetV2_MINI_RESNET().to(config.DEVICE)\n",
    "# model = cnv_model.MobileNetV2_MINI_RESNET_160().to(config.DEVICE)\n",
    "model = cnv_model.MobileNetV2_MINI_RESNET_112().to(config.DEVICE)\n",
    "\n",
    "# model = cnv_model.MobileNetV2_MINI_RESNET_RELU6().to(config.DEVICE)\n",
    "# model = cnv_model.MobileNetV2_MINI_RESNET_SPARSE24().to(config.DEVICE)\n",
    "# model = cnv_model.MobileNetV2_MINI_RESNET_4bitINP().to(config.DEVICE)\n",
    "\n",
    "#### This model with WMUL 0.1 was changed to module model_mobilenetv2_original_wmul_01_Brevitas\n",
    "# model = cnv_model.MobileNetV2_ORI_RESNET(\n",
    "#     width_mult = 0.1\n",
    "# ).to(config.DEVICE)\n",
    "# model = cnv_model.MobileNetV2_ORI_RESNET(width_mult = config.WIDTH_MULT).to(config.DEVICE)\n",
    "\n",
    "# model = cnv_model.MobileNetV2_MINI_RESNET_ACT_PerChannel().to(config.DEVICE)"
   ]
  },
  {
   "cell_type": "markdown",
   "id": "578c963b-1a73-4b8b-9646-8ad392dd4eee",
   "metadata": {},
   "source": [
    "### Optimizer and Scheduler"
   ]
  },
  {
   "cell_type": "code",
   "execution_count": 11,
   "id": "e2284272-f9fc-4adb-a7c4-81ac3956d95b",
   "metadata": {},
   "outputs": [],
   "source": [
    "optimizer = optim.Adam(model.parameters(), \n",
    "                       lr=config.LEARNING_RATE, \n",
    "                       weight_decay=config.WEIGHT_DECAY)\n",
    "\n",
    "scheduler = optim.lr_scheduler.ReduceLROnPlateau(optimizer, \n",
    "                                                 mode='min',\n",
    "                                                 factor=config.FACTOR, \n",
    "                                                 patience=config.PATIENCE, \n",
    "                                                 threshold=config.THRES, \n",
    "                                                 threshold_mode='abs',\n",
    "                                                 min_lr=config.MIN_LR)\n",
    "\n"
   ]
  },
  {
   "cell_type": "markdown",
   "id": "1d0bac02-ea2e-40b6-9f71-456b3f3cf943",
   "metadata": {},
   "source": [
    "### Parameters"
   ]
  },
  {
   "cell_type": "code",
   "execution_count": 12,
   "id": "ce30cdae-4cb8-4399-9766-49932d6a4bed",
   "metadata": {
    "editable": true,
    "slideshow": {
     "slide_type": ""
    },
    "tags": []
   },
   "outputs": [
    {
     "name": "stdout",
     "output_type": "stream",
     "text": [
      "\n",
      "Trainable parameters = 68914\n",
      "Total parameters = 68914\n",
      "\n"
     ]
    }
   ],
   "source": [
    "n_trainable = sum(p.numel() for p in model.parameters() if p.requires_grad)\n",
    "print(f'\\nTrainable parameters = {n_trainable}')\n",
    "logger.info(f'\\nTrainable parameters = {n_trainable}')\n",
    "\n",
    "n_params = parameters_to_vector(model.parameters()).numel()\n",
    "print(f'Total parameters = {n_params}\\n')\n",
    "logger.info(f'Total parameters = {n_params}\\n')"
   ]
  },
  {
   "cell_type": "markdown",
   "id": "cfb33a7e-b560-4446-bd60-8621483adfdc",
   "metadata": {},
   "source": [
    "### Check Model Shape: Random Input"
   ]
  },
  {
   "cell_type": "code",
   "execution_count": 13,
   "id": "d80f00c5-183d-431b-bf8a-26551c390cae",
   "metadata": {},
   "outputs": [
    {
     "name": "stderr",
     "output_type": "stream",
     "text": [
      "/opt/conda/envs/pytorch_brevitas/lib/python3.10/site-packages/torch/_tensor.py:1362: UserWarning: Named tensors and all their associated APIs are an experimental feature and subject to change. Please do not use them for anything important until they are released as stable. (Triggered internally at /opt/conda/conda-bld/pytorch_1702400410390/work/c10/core/TensorImpl.h:1900.)\n",
      "  return super().rename(names)\n"
     ]
    },
    {
     "name": "stdout",
     "output_type": "stream",
     "text": [
      "Model shape is tensor([[ 5.6331, -1.8161],\n",
      "        [ 6.0725, -3.0223],\n",
      "        [ 6.2509, -1.5729],\n",
      "        [ 5.3889, -0.9621]], device='cuda:0', grad_fn=<AddmmBackward0>)\n"
     ]
    }
   ],
   "source": [
    "dummy_input = np.random.rand(4, config.NUM_CHANNELS, config.IMG_H, config.IMG_W)\n",
    "dummy_input = torch.tensor(dummy_input, dtype=torch.float32, device=config.DEVICE)\n",
    "out_test = model(dummy_input)\n",
    "print(f'Model shape is {out_test}')\n",
    "#print(f'BED Model Arquitecture\\n{cnv_model}')"
   ]
  },
  {
   "cell_type": "markdown",
   "id": "6a769672-efb0-4727-8322-8c68795d0efb",
   "metadata": {},
   "source": [
    "### Torchinfo"
   ]
  },
  {
   "cell_type": "code",
   "execution_count": 14,
   "id": "607141f0-be35-4feb-8635-c63724d1503e",
   "metadata": {},
   "outputs": [
    {
     "name": "stdout",
     "output_type": "stream",
     "text": [
      "==================================================================================================================================\n",
      "Layer (type:depth-idx)                                                           Output Shape              Param #\n",
      "==================================================================================================================================\n",
      "MobileNetV2_MINI_RESNET_112                                                      [1, 2]                    --\n",
      "├─Sequential: 1-1                                                                [1, 64, 7, 7]             60,206\n",
      "│    └─QuantIdentity: 2-1                                                        [1, 3, 112, 112]          --\n",
      "│    │    └─ActQuantProxyFromInjector: 3-1                                       [1, 3, 112, 112]          --\n",
      "│    │    └─ActQuantProxyFromInjector: 3-2                                       [1, 3, 112, 112]          1\n",
      "├─Sequential: 1-72                                                               --                        (recursive)\n",
      "│    └─QuantReLU: 2-88                                                           --                        (recursive)\n",
      "│    │    └─ActQuantProxyFromInjector: 3-96                                      --                        (recursive)\n",
      "├─Sequential: 1-73                                                               --                        (recursive)\n",
      "│    └─QuantIdentity: 2-3                                                        --                        (recursive)\n",
      "│    │    └─ActQuantProxyFromInjector: 3-4                                       --                        (recursive)\n",
      "│    └─Sequential: 2-4                                                           [1, 32, 56, 56]           --\n",
      "│    │    └─QuantConv2d: 3-5                                                     [1, 32, 56, 56]           864\n",
      "│    │    └─BatchNorm2d: 3-6                                                     [1, 32, 56, 56]           64\n",
      "│    │    └─QuantReLU: 3-7                                                       [1, 32, 56, 56]           1\n",
      "├─Sequential: 1-72                                                               --                        (recursive)\n",
      "│    └─QuantReLU: 2-88                                                           --                        (recursive)\n",
      "│    │    └─ActQuantProxyFromInjector: 3-96                                      --                        (recursive)\n",
      "├─Sequential: 1-73                                                               --                        (recursive)\n",
      "│    └─Sequential: 2-6                                                           --                        (recursive)\n",
      "│    │    └─QuantReLU: 3-9                                                       --                        (recursive)\n",
      "│    └─InvertedBlock: 2-7                                                        [1, 8, 56, 56]            --\n",
      "│    │    └─Sequential: 3-10                                                     [1, 8, 56, 56]            626\n",
      "├─Sequential: 1-72                                                               --                        (recursive)\n",
      "│    └─QuantReLU: 2-88                                                           --                        (recursive)\n",
      "│    │    └─ActQuantProxyFromInjector: 3-96                                      --                        (recursive)\n",
      "├─Sequential: 1-73                                                               --                        (recursive)\n",
      "│    └─InvertedBlock: 2-11                                                       --                        (recursive)\n",
      "│    │    └─Sequential: 3-14                                                     --                        (recursive)\n",
      "├─Sequential: 1-72                                                               --                        (recursive)\n",
      "│    └─QuantReLU: 2-88                                                           --                        (recursive)\n",
      "│    │    └─ActQuantProxyFromInjector: 3-96                                      --                        (recursive)\n",
      "├─Sequential: 1-73                                                               --                        (recursive)\n",
      "│    └─InvertedBlock: 2-11                                                       --                        (recursive)\n",
      "│    │    └─Sequential: 3-14                                                     --                        (recursive)\n",
      "│    └─InvertedBlock: 2-12                                                       [1, 16, 28, 28]           --\n",
      "│    │    └─Sequential: 3-15                                                     [1, 16, 28, 28]           627\n",
      "├─Sequential: 1-72                                                               --                        (recursive)\n",
      "│    └─QuantReLU: 2-88                                                           --                        (recursive)\n",
      "│    │    └─ActQuantProxyFromInjector: 3-96                                      --                        (recursive)\n",
      "├─Sequential: 1-73                                                               --                        (recursive)\n",
      "│    └─InvertedBlock: 2-16                                                       --                        (recursive)\n",
      "│    │    └─Sequential: 3-19                                                     --                        (recursive)\n",
      "├─Sequential: 1-72                                                               --                        (recursive)\n",
      "│    └─QuantReLU: 2-88                                                           --                        (recursive)\n",
      "│    │    └─ActQuantProxyFromInjector: 3-96                                      --                        (recursive)\n",
      "├─Sequential: 1-73                                                               --                        (recursive)\n",
      "│    └─InvertedBlock: 2-16                                                       --                        (recursive)\n",
      "│    │    └─Sequential: 3-19                                                     --                        (recursive)\n",
      "│    └─InvertedBlock: 2-28                                                       --                        (recursive)\n",
      "│    │    └─Sequential: 3-29                                                     --                        (recursive)\n",
      "├─Sequential: 1-72                                                               --                        (recursive)\n",
      "│    └─QuantReLU: 2-88                                                           --                        (recursive)\n",
      "│    │    └─ActQuantProxyFromInjector: 3-96                                      --                        (recursive)\n",
      "├─Sequential: 1-73                                                               --                        (recursive)\n",
      "│    └─InvertedBlock: 2-28                                                       --                        (recursive)\n",
      "│    │    └─Sequential: 3-29                                                     --                        (recursive)\n",
      "│    └─InvertedBlock: 2-20                                                       [1, 16, 28, 28]           1\n",
      "│    │    └─Sequential: 3-23                                                     [1, 16, 28, 28]           1,475\n",
      "├─Sequential: 1-72                                                               --                        (recursive)\n",
      "│    └─QuantReLU: 2-88                                                           --                        (recursive)\n",
      "│    │    └─ActQuantProxyFromInjector: 3-96                                      --                        (recursive)\n",
      "├─Sequential: 1-73                                                               --                        (recursive)\n",
      "│    └─InvertedBlock: 2-28                                                       --                        (recursive)\n",
      "│    │    └─Sequential: 3-29                                                     --                        (recursive)\n",
      "├─Sequential: 1-72                                                               --                        (recursive)\n",
      "│    └─QuantReLU: 2-88                                                           --                        (recursive)\n",
      "│    │    └─ActQuantProxyFromInjector: 3-96                                      --                        (recursive)\n",
      "├─Sequential: 1-73                                                               --                        (recursive)\n",
      "│    └─InvertedBlock: 2-28                                                       --                        (recursive)\n",
      "│    │    └─Sequential: 3-29                                                     --                        (recursive)\n",
      "├─Sequential: 1-72                                                               --                        (recursive)\n",
      "│    └─QuantReLU: 2-88                                                           --                        (recursive)\n",
      "│    │    └─ActQuantProxyFromInjector: 3-96                                      --                        (recursive)\n",
      "├─Sequential: 1-73                                                               --                        (recursive)\n",
      "│    └─InvertedBlock: 2-28                                                       --                        (recursive)\n",
      "│    │    └─Sequential: 3-29                                                     --                        (recursive)\n",
      "│    │    └─QuantIdentity: 3-30                                                  [1, 16, 28, 28]           1\n",
      "├─Sequential: 1-72                                                               --                        (recursive)\n",
      "│    └─QuantReLU: 2-88                                                           --                        (recursive)\n",
      "│    │    └─ActQuantProxyFromInjector: 3-96                                      --                        (recursive)\n",
      "├─Sequential: 1-73                                                               --                        (recursive)\n",
      "│    └─InvertedBlock: 2-28                                                       --                        (recursive)\n",
      "│    │    └─QuantIdentity: 3-32                                                  --                        (recursive)\n",
      "│    └─InvertedBlock: 2-29                                                       [1, 24, 14, 14]           --\n",
      "│    │    └─Sequential: 3-33                                                     [1, 24, 14, 14]           1,747\n",
      "├─Sequential: 1-72                                                               --                        (recursive)\n",
      "│    └─QuantReLU: 2-88                                                           --                        (recursive)\n",
      "│    │    └─ActQuantProxyFromInjector: 3-96                                      --                        (recursive)\n",
      "├─Sequential: 1-73                                                               --                        (recursive)\n",
      "│    └─InvertedBlock: 2-33                                                       --                        (recursive)\n",
      "│    │    └─Sequential: 3-37                                                     --                        (recursive)\n",
      "├─Sequential: 1-72                                                               --                        (recursive)\n",
      "│    └─QuantReLU: 2-88                                                           --                        (recursive)\n",
      "│    │    └─ActQuantProxyFromInjector: 3-96                                      --                        (recursive)\n",
      "├─Sequential: 1-73                                                               --                        (recursive)\n",
      "│    └─InvertedBlock: 2-33                                                       --                        (recursive)\n",
      "│    │    └─Sequential: 3-37                                                     --                        (recursive)\n",
      "│    └─InvertedBlock: 2-45                                                       --                        (recursive)\n",
      "│    │    └─Sequential: 3-47                                                     --                        (recursive)\n",
      "├─Sequential: 1-72                                                               --                        (recursive)\n",
      "│    └─QuantReLU: 2-88                                                           --                        (recursive)\n",
      "│    │    └─ActQuantProxyFromInjector: 3-96                                      --                        (recursive)\n",
      "├─Sequential: 1-73                                                               --                        (recursive)\n",
      "│    └─InvertedBlock: 2-45                                                       --                        (recursive)\n",
      "│    │    └─Sequential: 3-47                                                     --                        (recursive)\n",
      "│    └─InvertedBlock: 2-37                                                       [1, 24, 14, 14]           1\n",
      "│    │    └─Sequential: 3-41                                                     [1, 24, 14, 14]           2,979\n",
      "├─Sequential: 1-72                                                               --                        (recursive)\n",
      "│    └─QuantReLU: 2-88                                                           --                        (recursive)\n",
      "│    │    └─ActQuantProxyFromInjector: 3-96                                      --                        (recursive)\n",
      "├─Sequential: 1-73                                                               --                        (recursive)\n",
      "│    └─InvertedBlock: 2-45                                                       --                        (recursive)\n",
      "│    │    └─Sequential: 3-47                                                     --                        (recursive)\n",
      "├─Sequential: 1-72                                                               --                        (recursive)\n",
      "│    └─QuantReLU: 2-88                                                           --                        (recursive)\n",
      "│    │    └─ActQuantProxyFromInjector: 3-96                                      --                        (recursive)\n",
      "├─Sequential: 1-73                                                               --                        (recursive)\n",
      "│    └─InvertedBlock: 2-45                                                       --                        (recursive)\n",
      "│    │    └─Sequential: 3-47                                                     --                        (recursive)\n",
      "├─Sequential: 1-72                                                               --                        (recursive)\n",
      "│    └─QuantReLU: 2-88                                                           --                        (recursive)\n",
      "│    │    └─ActQuantProxyFromInjector: 3-96                                      --                        (recursive)\n",
      "├─Sequential: 1-73                                                               --                        (recursive)\n",
      "│    └─InvertedBlock: 2-45                                                       --                        (recursive)\n",
      "│    │    └─Sequential: 3-47                                                     --                        (recursive)\n",
      "│    │    └─QuantIdentity: 3-48                                                  [1, 24, 14, 14]           1\n",
      "├─Sequential: 1-72                                                               --                        (recursive)\n",
      "│    └─QuantReLU: 2-88                                                           --                        (recursive)\n",
      "│    │    └─ActQuantProxyFromInjector: 3-96                                      --                        (recursive)\n",
      "├─Sequential: 1-73                                                               --                        (recursive)\n",
      "│    └─InvertedBlock: 2-45                                                       --                        (recursive)\n",
      "│    │    └─QuantIdentity: 3-50                                                  --                        (recursive)\n",
      "│    └─InvertedBlock: 2-46                                                       [1, 32, 7, 7]             --\n",
      "│    │    └─Sequential: 3-51                                                     [1, 32, 7, 7]             6,691\n",
      "├─Sequential: 1-72                                                               --                        (recursive)\n",
      "│    └─QuantReLU: 2-88                                                           --                        (recursive)\n",
      "│    │    └─ActQuantProxyFromInjector: 3-96                                      --                        (recursive)\n",
      "├─Sequential: 1-73                                                               --                        (recursive)\n",
      "│    └─InvertedBlock: 2-50                                                       --                        (recursive)\n",
      "│    │    └─Sequential: 3-55                                                     --                        (recursive)\n",
      "├─Sequential: 1-72                                                               --                        (recursive)\n",
      "│    └─QuantReLU: 2-88                                                           --                        (recursive)\n",
      "│    │    └─ActQuantProxyFromInjector: 3-96                                      --                        (recursive)\n",
      "├─Sequential: 1-73                                                               --                        (recursive)\n",
      "│    └─InvertedBlock: 2-50                                                       --                        (recursive)\n",
      "│    │    └─Sequential: 3-55                                                     --                        (recursive)\n",
      "│    └─InvertedBlock: 2-60                                                       --                        (recursive)\n",
      "│    │    └─Sequential: 3-65                                                     --                        (recursive)\n",
      "├─Sequential: 1-72                                                               --                        (recursive)\n",
      "│    └─QuantReLU: 2-88                                                           --                        (recursive)\n",
      "│    │    └─ActQuantProxyFromInjector: 3-96                                      --                        (recursive)\n",
      "├─Sequential: 1-73                                                               --                        (recursive)\n",
      "│    └─InvertedBlock: 2-60                                                       --                        (recursive)\n",
      "│    │    └─Sequential: 3-65                                                     --                        (recursive)\n",
      "│    └─InvertedBlock: 2-54                                                       [1, 32, 7, 7]             1\n",
      "│    │    └─Sequential: 3-59                                                     [1, 32, 7, 7]             9,923\n",
      "├─Sequential: 1-72                                                               --                        (recursive)\n",
      "│    └─QuantReLU: 2-88                                                           --                        (recursive)\n",
      "│    │    └─ActQuantProxyFromInjector: 3-96                                      --                        (recursive)\n",
      "├─Sequential: 1-73                                                               --                        (recursive)\n",
      "│    └─InvertedBlock: 2-60                                                       --                        (recursive)\n",
      "│    │    └─Sequential: 3-65                                                     --                        (recursive)\n",
      "├─Sequential: 1-72                                                               --                        (recursive)\n",
      "│    └─QuantReLU: 2-88                                                           --                        (recursive)\n",
      "│    │    └─ActQuantProxyFromInjector: 3-96                                      --                        (recursive)\n",
      "├─Sequential: 1-73                                                               --                        (recursive)\n",
      "│    └─InvertedBlock: 2-60                                                       --                        (recursive)\n",
      "│    │    └─Sequential: 3-65                                                     --                        (recursive)\n",
      "├─Sequential: 1-72                                                               --                        (recursive)\n",
      "│    └─QuantReLU: 2-88                                                           --                        (recursive)\n",
      "│    │    └─ActQuantProxyFromInjector: 3-96                                      --                        (recursive)\n",
      "├─Sequential: 1-73                                                               --                        (recursive)\n",
      "│    └─InvertedBlock: 2-60                                                       --                        (recursive)\n",
      "│    │    └─Sequential: 3-65                                                     --                        (recursive)\n",
      "│    │    └─QuantIdentity: 3-66                                                  [1, 32, 7, 7]             1\n",
      "│    └─InvertedBlock: 2-72                                                       --                        (recursive)\n",
      "│    │    └─Sequential: 3-76                                                     --                        (recursive)\n",
      "├─Sequential: 1-72                                                               --                        (recursive)\n",
      "│    └─QuantReLU: 2-88                                                           --                        (recursive)\n",
      "│    │    └─ActQuantProxyFromInjector: 3-96                                      --                        (recursive)\n",
      "├─Sequential: 1-73                                                               --                        (recursive)\n",
      "│    └─InvertedBlock: 2-72                                                       --                        (recursive)\n",
      "│    │    └─Sequential: 3-76                                                     --                        (recursive)\n",
      "│    └─InvertedBlock: 2-64                                                       [1, 32, 7, 7]             1\n",
      "│    │    └─Sequential: 3-70                                                     [1, 32, 7, 7]             9,923\n",
      "├─Sequential: 1-72                                                               --                        (recursive)\n",
      "│    └─QuantReLU: 2-88                                                           --                        (recursive)\n",
      "│    │    └─ActQuantProxyFromInjector: 3-96                                      --                        (recursive)\n",
      "├─Sequential: 1-73                                                               --                        (recursive)\n",
      "│    └─InvertedBlock: 2-72                                                       --                        (recursive)\n",
      "│    │    └─Sequential: 3-76                                                     --                        (recursive)\n",
      "├─Sequential: 1-72                                                               --                        (recursive)\n",
      "│    └─QuantReLU: 2-88                                                           --                        (recursive)\n",
      "│    │    └─ActQuantProxyFromInjector: 3-96                                      --                        (recursive)\n",
      "├─Sequential: 1-73                                                               --                        (recursive)\n",
      "│    └─InvertedBlock: 2-72                                                       --                        (recursive)\n",
      "│    │    └─Sequential: 3-76                                                     --                        (recursive)\n",
      "├─Sequential: 1-72                                                               --                        (recursive)\n",
      "│    └─QuantReLU: 2-88                                                           --                        (recursive)\n",
      "│    │    └─ActQuantProxyFromInjector: 3-96                                      --                        (recursive)\n",
      "├─Sequential: 1-73                                                               --                        (recursive)\n",
      "│    └─InvertedBlock: 2-72                                                       --                        (recursive)\n",
      "│    │    └─Sequential: 3-76                                                     --                        (recursive)\n",
      "│    │    └─QuantIdentity: 3-77                                                  [1, 32, 7, 7]             1\n",
      "├─Sequential: 1-72                                                               --                        (recursive)\n",
      "│    └─QuantReLU: 2-88                                                           --                        (recursive)\n",
      "│    │    └─ActQuantProxyFromInjector: 3-96                                      --                        (recursive)\n",
      "├─Sequential: 1-73                                                               --                        (recursive)\n",
      "│    └─InvertedBlock: 2-72                                                       --                        (recursive)\n",
      "│    │    └─QuantIdentity: 3-79                                                  --                        (recursive)\n",
      "│    └─InvertedBlock: 2-73                                                       [1, 64, 7, 7]             --\n",
      "│    │    └─Sequential: 3-80                                                     [1, 64, 7, 7]             7,107\n",
      "├─Sequential: 1-72                                                               --                        (recursive)\n",
      "│    └─QuantReLU: 2-88                                                           --                        (recursive)\n",
      "│    │    └─ActQuantProxyFromInjector: 3-96                                      --                        (recursive)\n",
      "├─Sequential: 1-73                                                               --                        (recursive)\n",
      "│    └─InvertedBlock: 2-77                                                       --                        (recursive)\n",
      "│    │    └─Sequential: 3-84                                                     --                        (recursive)\n",
      "├─Sequential: 1-72                                                               --                        (recursive)\n",
      "│    └─QuantReLU: 2-88                                                           --                        (recursive)\n",
      "│    │    └─ActQuantProxyFromInjector: 3-96                                      --                        (recursive)\n",
      "├─Sequential: 1-73                                                               --                        (recursive)\n",
      "│    └─InvertedBlock: 2-77                                                       --                        (recursive)\n",
      "│    │    └─Sequential: 3-84                                                     --                        (recursive)\n",
      "│    └─InvertedBlock: 2-89                                                       --                        (recursive)\n",
      "│    │    └─Sequential: 3-94                                                     --                        (recursive)\n",
      "├─Sequential: 1-72                                                               --                        (recursive)\n",
      "│    └─QuantReLU: 2-88                                                           --                        (recursive)\n",
      "│    │    └─ActQuantProxyFromInjector: 3-96                                      --                        (recursive)\n",
      "├─Sequential: 1-73                                                               --                        (recursive)\n",
      "│    └─InvertedBlock: 2-89                                                       --                        (recursive)\n",
      "│    │    └─Sequential: 3-94                                                     --                        (recursive)\n",
      "│    └─InvertedBlock: 2-81                                                       [1, 64, 7, 7]             1\n",
      "│    │    └─Sequential: 3-88                                                     [1, 64, 7, 7]             18,179\n",
      "├─Sequential: 1-72                                                               --                        (recursive)\n",
      "│    └─QuantReLU: 2-88                                                           --                        (recursive)\n",
      "│    │    └─ActQuantProxyFromInjector: 3-96                                      --                        (recursive)\n",
      "├─Sequential: 1-73                                                               --                        (recursive)\n",
      "│    └─InvertedBlock: 2-89                                                       --                        (recursive)\n",
      "│    │    └─Sequential: 3-94                                                     --                        (recursive)\n",
      "├─Sequential: 1-72                                                               --                        (recursive)\n",
      "│    └─QuantReLU: 2-88                                                           --                        (recursive)\n",
      "│    │    └─ActQuantProxyFromInjector: 3-96                                      --                        (recursive)\n",
      "├─Sequential: 1-73                                                               --                        (recursive)\n",
      "│    └─InvertedBlock: 2-89                                                       --                        (recursive)\n",
      "│    │    └─Sequential: 3-94                                                     --                        (recursive)\n",
      "├─Sequential: 1-72                                                               --                        (recursive)\n",
      "│    └─QuantReLU: 2-88                                                           --                        (recursive)\n",
      "│    │    └─ActQuantProxyFromInjector: 3-96                                      --                        (recursive)\n",
      "├─Sequential: 1-73                                                               --                        (recursive)\n",
      "│    └─InvertedBlock: 2-89                                                       --                        (recursive)\n",
      "│    │    └─Sequential: 3-94                                                     --                        (recursive)\n",
      "│    │    └─QuantIdentity: 3-95                                                  [1, 64, 7, 7]             1\n",
      "├─Sequential: 1-72                                                               --                        (recursive)\n",
      "│    └─QuantReLU: 2-88                                                           --                        (recursive)\n",
      "│    │    └─ActQuantProxyFromInjector: 3-96                                      --                        (recursive)\n",
      "├─Sequential: 1-73                                                               --                        (recursive)\n",
      "│    └─InvertedBlock: 2-89                                                       --                        (recursive)\n",
      "│    │    └─QuantIdentity: 3-97                                                  --                        (recursive)\n",
      "├─Sequential: 1-74                                                               [1, 128, 7, 7]            --\n",
      "│    └─QuantConv2d: 2-90                                                         [1, 128, 7, 7]            --\n",
      "│    │    └─ActQuantProxyFromInjector: 3-98                                      [1, 64, 7, 7]             --\n",
      "│    │    └─WeightQuantProxyFromInjector: 3-99                                   [128, 64, 1, 1]           8,192\n",
      "│    │    └─ActQuantProxyFromInjector: 3-100                                     [1, 128, 7, 7]            --\n",
      "│    └─BatchNorm2d: 2-91                                                         [1, 128, 7, 7]            256\n",
      "│    └─QuantReLU: 2-92                                                           [1, 128, 7, 7]            --\n",
      "│    │    └─ActQuantProxyFromInjector: 3-101                                     [1, 128, 7, 7]            --\n",
      "│    │    └─ActQuantProxyFromInjector: 3-102                                     [1, 128, 7, 7]            1\n",
      "├─TruncAvgPool2d: 1-75                                                           [1, 128, 1, 1]            --\n",
      "│    └─TruncQuantProxyFromInjector: 2-93                                         [1, 128, 1, 1]            --\n",
      "│    │    └─TruncIntQuant: 3-103                                                 [1, 128, 1, 1]            --\n",
      "├─QuantLinear: 1-76                                                              [1, 2]                    2\n",
      "│    └─ActQuantProxyFromInjector: 2-94                                           [1, 128]                  --\n",
      "│    └─WeightQuantProxyFromInjector: 2-95                                        [2, 128]                  --\n",
      "│    │    └─RescalingIntQuant: 3-104                                             [2, 128]                  256\n",
      "│    └─BiasQuantProxyFromInjector: 2-96                                          [2]                       --\n",
      "│    │    └─PrescaledRestrictIntQuant: 3-105                                     [2]                       --\n",
      "│    └─ActQuantProxyFromInjector: 2-97                                           [1, 2]                    --\n",
      "==================================================================================================================================\n",
      "Total params: 163,666\n",
      "Trainable params: 163,666\n",
      "Non-trainable params: 0\n",
      "Total mult-adds (M): 0.00\n",
      "==================================================================================================================================\n",
      "Input size (MB): 0.15\n",
      "Forward/backward pass size (MB): 4.06\n",
      "Params size (MB): 0.01\n",
      "Estimated Total Size (MB): 4.23\n",
      "==================================================================================================================================\n"
     ]
    }
   ],
   "source": [
    "print(summary(model, input_size=(1, config.NUM_CHANNELS, config.IMG_H, config.IMG_W)))\n",
    "logger.info(summary(model, input_size=(1, config.NUM_CHANNELS, config.IMG_H, config.IMG_W)))"
   ]
  },
  {
   "cell_type": "markdown",
   "id": "547891ee-9c53-46c9-9d17-2dfc59a5c516",
   "metadata": {},
   "source": [
    "## Load Checkpoint"
   ]
  },
  {
   "cell_type": "code",
   "execution_count": 15,
   "id": "8ee29ba8-2341-4f78-afbf-ca14d98c93e0",
   "metadata": {},
   "outputs": [],
   "source": [
    "if config.LOAD_MODEL:\n",
    "    print(f'Loading Checkpoint: \\n{config.LOAD_MODEL_FILE}')\n",
    "    logger.info(f'Loading Checkpoint: \\n{config.LOAD_MODEL_FILE}')\n",
    "    model.eval();\n",
    "    epochs_trained = utils.load_checkpoint(\n",
    "        config.LOAD_MODEL_FILE, \n",
    "        model=model, \n",
    "        optimizer=optimizer, \n",
    "        scheduler=scheduler, \n",
    "        device=config.DEVICE)\n",
    "    print(f'Loading model trained {epochs_trained} epochs')\n",
    "    logger.info(f'Loading model trained {epochs_trained} epochs')"
   ]
  },
  {
   "cell_type": "code",
   "execution_count": 16,
   "id": "76ea21d6-7270-4d56-abe1-42d56baf3563",
   "metadata": {},
   "outputs": [],
   "source": [
    "model.to(config.DEVICE);"
   ]
  },
  {
   "cell_type": "markdown",
   "id": "61d74ed9-984a-4f66-8121-d1152fecad98",
   "metadata": {},
   "source": [
    "# Loss Function"
   ]
  },
  {
   "cell_type": "code",
   "execution_count": 17,
   "id": "6efb3c84-4076-4694-8505-2c3c0ee9aa1e",
   "metadata": {},
   "outputs": [
    {
     "name": "stdout",
     "output_type": "stream",
     "text": [
      "Loss Function: BCE\n",
      "Smoke Precision Weight: 0.8\n"
     ]
    }
   ],
   "source": [
    "if config.LOSS_FN == \"BCE\":\n",
    "    print(f'Loss Function: BCE')\n",
    "    logger.info(f'\\nLoss Function: BCE')\n",
    "    print(f'Smoke Precision Weight: {config.SMOKE_PRECISION_WEIGHT}')\n",
    "    logger.info(f'Smoke Precision Weight: {config.SMOKE_PRECISION_WEIGHT}')\n",
    "    loss_fn = loss.BCE_LOSS(device=config.DEVICE, smoke_precision_weight=config.SMOKE_PRECISION_WEIGHT)\n",
    "else:\n",
    "    print(\"Wrong loss function\")\n",
    "    logger.info(\"Wrong loss function\")\n",
    "    raise SystemExit(\"Wrong loss function\")"
   ]
  },
  {
   "cell_type": "markdown",
   "id": "d7f25227-bbcd-43e9-a41b-70a324900a21",
   "metadata": {},
   "source": [
    "# Loggers and Plotters for Losses and Metrics"
   ]
  },
  {
   "cell_type": "code",
   "execution_count": 18,
   "id": "bb75d214-f372-4aee-a196-c43276145a66",
   "metadata": {},
   "outputs": [],
   "source": [
    "train_losses_logger = utils.LogLosses()\n",
    "train_metrics_logger = utils.LogMetrics()\n",
    "lr_logger = utils.LogLR(log_path=config.PLOTS_FOLDER)\n",
    "\n",
    "val_losses_logger = utils.LogLosses()\n",
    "val_metrics_logger = utils.LogMetrics()\n",
    "\n",
    "loss_plotter = utils.PlotMetrics(log_path=config.PLOTS_FOLDER, model_name=config.MODEL, loss_or_metric='Loss')\n",
    "metrics_plotter = utils.PlotMetrics(log_path=config.PLOTS_FOLDER, model_name=config.MODEL, loss_or_metric='Metric')"
   ]
  },
  {
   "cell_type": "markdown",
   "id": "80f38d11-6099-48cd-9f95-f5b0be87d804",
   "metadata": {},
   "source": [
    "# Main Function to Train"
   ]
  },
  {
   "cell_type": "code",
   "execution_count": 19,
   "id": "180683fc-5a55-4f1c-9d6e-c8ffa10be16a",
   "metadata": {},
   "outputs": [],
   "source": [
    "def train_loop(model, start_epoch=0, epochs_to_train=config.EPOCHS):\n",
    "\n",
    "    ''' ==============================================================\n",
    "                                TRAINING LOOP\n",
    "    ============================================================== '''\n",
    "    start = datetime.datetime.now()\n",
    "    start_time = start.strftime(\"%H:%M:%S\")\n",
    "    print(f'\\n***Start Training: {start_time}\\n')\n",
    "    logger.info(f'\\n***Start Training: {start_time}\\n')\n",
    "    \n",
    "    # Start with infinite validation loss\n",
    "    best_valid_loss = np.inf\n",
    "    best_smoke_precision = 0. #torch.tensor([0.])\n",
    "    smoke_f1_min_save = 0.9 #torch.tensor([0.9])\n",
    "    best_mean_f1 = 0.\n",
    "    best_mean_f1_epoch = 0\n",
    "\n",
    "    if start_epoch == 0:\n",
    "        epochs_plot = []\n",
    "    else:\n",
    "        epochs_plot = [i for i in range(start_epoch)]    \n",
    "\n",
    "    end_epoch = start_epoch + epochs_to_train\n",
    "        \n",
    "    for epoch in range(start_epoch, end_epoch):\n",
    "\n",
    "        print(f'\\n=== EPOCH {epoch}/{end_epoch-1} ===')\n",
    "        logger.info(f'\\n=== EPOCH {epoch}/{end_epoch-1} ===')\n",
    "        \n",
    "        #====================== TRAINING ========================#\n",
    "        current_lr = train_epoch.get_lr(optimizer=optimizer)\n",
    "        logger.info(f'Learning Rate = {current_lr}\\n')\n",
    "        lr_logger.log_lr(current_lr)\n",
    "                \n",
    "        train_losses, train_metrics = train_epoch.train_fn(\n",
    "            loader=train_loader, \n",
    "            model=model, \n",
    "            optimizer=optimizer, \n",
    "            loss_fn=loss_fn,\n",
    "            device=config.DEVICE)\n",
    "        \n",
    "        train_losses_logger.update_metrics(train_losses)\n",
    "        train_metrics_logger.update_metrics(train_metrics)\n",
    "                \n",
    "        logger.info(utils.print_metrics_to_logger(\"TRAIN Stats\", train_losses, train_metrics))\n",
    "        \n",
    "        #===================== VALIDATING =======================#\n",
    "        with torch.no_grad():\n",
    "            val_losses, val_metrics = val_epoch.eval_fn(\n",
    "                loader=val_loader, \n",
    "                model=model,                         \n",
    "                loss_fn=loss_fn,\n",
    "                device=config.DEVICE)\n",
    "            \n",
    "            scheduler.step(val_losses['Total'])\n",
    "            \n",
    "            val_losses_logger.update_metrics(val_losses)\n",
    "            val_metrics_logger.update_metrics(val_metrics)\n",
    "\n",
    "            logger.info(utils.print_metrics_to_logger(\"VAL Stats\", val_losses, val_metrics))\n",
    "            \n",
    "        epochs_plot.append(epoch)\n",
    "\n",
    "        loss_plotter.plot_all_metrics(\n",
    "            train_losses_logger.get_metrics(),\n",
    "            val_losses_logger.get_metrics(),\n",
    "            epochs_plot)\n",
    "\n",
    "        metrics_plotter.plot_all_metrics(\n",
    "            train_metrics_logger.get_metrics(),\n",
    "            val_metrics_logger.get_metrics(),\n",
    "            epochs_plot)\n",
    "\n",
    "        lr_logger.plot_lr(epochs_plot)\n",
    "        #======================= SAVING =========================#\n",
    "        if ( (epoch+1) % 5 ) == 0:\n",
    "            save_name = config.WEIGHTS_FOLDER + config.MODEL + '_classifier__5epoch.pt'\n",
    "            utils.save_checkpoint(epoch, model, optimizer, scheduler, save_name) \n",
    "            \n",
    "        if best_valid_loss > val_losses['Total']:\n",
    "            best_valid_loss = val_losses['Total']\n",
    "            print(f\"\\nSaving model with new best validation loss: {best_valid_loss:.4f}\")\n",
    "            logger.info(f\"Saving model with new best validation loss: {best_valid_loss:.4f}\")\n",
    "            save_name = config.WEIGHTS_FOLDER + config.MODEL + '_classifier__' + 'best_loss'  + '.pt'\n",
    "            utils.save_checkpoint(epoch, model, optimizer, scheduler, save_name) \n",
    "            save_onnx = config.ONNX_FOLDER + config.MODEL + '_classifier__' + 'best_loss'  #+ '.onnx'\n",
    "            utils.export_onnx(model, (1, config.NUM_CHANNELS, config.IMG_H, config.IMG_W), save_onnx, config.DEVICE)\n",
    "\n",
    "        # # Save model if precision increases and F1 > 0.9\n",
    "        # if ( best_smoke_precision < val_metrics['Precision'][0] ) and ( val_metrics['F1'][0] > smoke_f1_min_save ) :\n",
    "        #     best_smoke_precision = val_metrics['Precision'][0]\n",
    "        #     print(f\"\\nSaving model with new best smoke precision: {best_smoke_precision:.4f}\")\n",
    "        #     logger.info(f\"Saving model with new best smoke precision: {best_smoke_precision:.4f}\")\n",
    "        #     save_precision_name = f'best_smoke__precision={np.round(best_smoke_precision, decimals=4)}__epoch={epoch}'\n",
    "        #     save_name = config.WEIGHTS_FOLDER + config.MODEL + '_classifier__' + save_precision_name + '.pt'\n",
    "        #     utils.save_checkpoint(epoch, model, optimizer, scheduler, save_name)  \n",
    "        #     save_onnx = config.ONNX_FOLDER + config.MODEL + '_classifier__' + save_precision_name #+ '.onnx'\n",
    "        #     utils.export_onnx(model, (1, config.NUM_CHANNELS, config.IMG_H, config.IMG_W), save_onnx, config.DEVICE)\n",
    "            \n",
    "        # Save model if precision > 0.9 and recall > 0.9\n",
    "        # if ( val_metrics['Precision'][0] > 0.9 ) and ( val_metrics['Recall'][0] > 0.9 ) :\n",
    "        #     print(\"\\nSaving model with precision > 0.9 and recall > 0.9\")\n",
    "        #     logger.info(\"Saving model with precision > 0.9 and recall > 0.9\")\n",
    "        #     save_pre_name = f'smoke__precision={np.round(val_metrics[\"Precision\"][0], decimals=4)}__' \n",
    "        #     save_rec_name = f'recall={np.round(val_metrics[\"Recall\"][0], decimals=4)}__'\n",
    "        #     save_pre_rec_name = save_pre_name + save_rec_name + f'epoch={epoch}'\n",
    "        #     save_name = config.WEIGHTS_FOLDER + config.MODEL + '_classifier__' + save_pre_rec_name + '.pt'\n",
    "        #     utils.save_checkpoint(epoch, model, optimizer, scheduler, save_name) \n",
    "        #     save_onnx = config.ONNX_FOLDER + config.MODEL + '_classifier__' + save_pre_rec_name #+ '.onnx'\n",
    "        #     utils.export_onnx(model, (1, config.NUM_CHANNELS, config.IMG_H, config.IMG_W), save_onnx, config.DEVICE)\n",
    "\n",
    "        # Save model if best mean F1 increases\n",
    "        val_f1_mean = (val_metrics['F1'][0] + val_metrics['F1'][1]) / 2\n",
    "        if (val_f1_mean > best_mean_f1) :\n",
    "            best_mean_f1 = val_f1_mean\n",
    "            best_mean_f1_epoch = epoch\n",
    "            print(f'Saving model with best Mean F1: {best_mean_f1:.4f}')\n",
    "            logger.info(f'Saving model with best Mean F1: {best_mean_f1:.4f}')\n",
    "            save_f1_name = 'best_mean_F1'\n",
    "            save_name = config.WEIGHTS_FOLDER + config.MODEL + '_classifier__' + save_f1_name + '.pt'\n",
    "            utils.save_checkpoint(epoch, model, optimizer, scheduler, save_name) \n",
    "            save_onnx = config.ONNX_FOLDER + config.MODEL + '_classifier__' + save_f1_name #+ '.onnx'\n",
    "            utils.export_onnx(model, (1, config.NUM_CHANNELS, config.IMG_H, config.IMG_W), save_onnx, config.DEVICE)\n",
    "        \n",
    "    logger.info('Saving last model')   \n",
    "    torch.save(model.state_dict(), config.WEIGHTS_FOLDER + 'last_' + config.MODEL + '_classifier.pt') \n",
    "\n",
    "    # Best F1 Mean epoch\n",
    "    print(f'\\nBest F1 Mean at epoch {best_mean_f1_epoch}: {best_mean_f1}')\n",
    "    logger.info(f'\\n_______________________ Best F1 Mean at epoch {best_mean_f1_epoch}: {best_mean_f1} _______________________')\n",
    "\n",
    "    #======================= FINISH =========================#\n",
    "    end = datetime.datetime.now()\n",
    "    end_time = end.strftime(\"%H:%M:%S\")\n",
    "    print(f'\\n***Script finished: {end_time}\\n')  \n",
    "    print(f'Time elapsed: {end-start}')\n",
    "    logger.info(f'\\n***Script finished: {end_time}\\n')  \n",
    "    logger.info(f'Time elapsed: {end-start}')\n",
    "    \n",
    "    return model"
   ]
  },
  {
   "cell_type": "code",
   "execution_count": 20,
   "id": "70cfebac-da9f-4c54-98da-0fccfdf9c7e4",
   "metadata": {},
   "outputs": [],
   "source": [
    "# print(len(val_losses_logger.total))"
   ]
  },
  {
   "cell_type": "markdown",
   "id": "7eb71ba5-1f21-4a7b-9ebe-6b50a5d38ed8",
   "metadata": {},
   "source": [
    "# Training Loop"
   ]
  },
  {
   "cell_type": "code",
   "execution_count": 21,
   "id": "dd3a8768-03a8-44f3-829f-58045dbfea7b",
   "metadata": {
    "editable": true,
    "slideshow": {
     "slide_type": ""
    },
    "tags": []
   },
   "outputs": [
    {
     "name": "stdout",
     "output_type": "stream",
     "text": [
      "Starting script\n",
      "\n",
      "\n",
      "***Start Training: 22:37:54\n",
      "\n",
      "\n",
      "=== EPOCH 0/2 ===\n",
      "Learning Rate = 0.001\n",
      "\n"
     ]
    },
    {
     "name": "stderr",
     "output_type": "stream",
     "text": [
      "Training: 100%|██████████████████████████████████████████████████████████████████████████████████████████████████████████████████████████████████████████████| 10/10 [00:03<00:00,  2.76it/s]\n"
     ]
    },
    {
     "name": "stdout",
     "output_type": "stream",
     "text": [
      "Total Loss  |Smoke Loss  |Fire Loss   \n",
      "------------ ------------ ------------\n",
      "142.983     |100.212     |42.771      \n",
      "\n"
     ]
    },
    {
     "name": "stderr",
     "output_type": "stream",
     "text": [
      "Validating: 100%|██████████████████████████████████████████████████████████████████████████████████████████████████████████████████████████████████████████████| 6/6 [00:01<00:00,  3.29it/s]\n"
     ]
    },
    {
     "name": "stdout",
     "output_type": "stream",
     "text": [
      "Total Loss  |Smoke Loss  |Fire Loss   \n",
      "------------ ------------ ------------\n",
      "93.966      |40.432      |53.534      \n",
      "SMOKE -> Precision: 0.0000 - Recall: 0.0000 - Accuracy: 0.5104 - F1: 0.0000\n",
      "FIRE -> Precision: 0.3021 - Recall: 1.0000 - Accuracy: 0.3021 - F1: 0.4640\n",
      "\n",
      "Saving model with new best validation loss: 93.9661\n",
      "Model exported to ONNX: experiments_brevitas/test_v22_mini_resnet_70k_112_128_ds/onnx/Mobilenetv2_Mini_Resnet_4bitINP_classifier__best_loss\n",
      "Saving model with best Mean F1: 0.2320\n",
      "Model exported to ONNX: experiments_brevitas/test_v22_mini_resnet_70k_112_128_ds/onnx/Mobilenetv2_Mini_Resnet_4bitINP_classifier__best_mean_F1\n",
      "\n",
      "=== EPOCH 1/2 ===\n",
      "Learning Rate = 0.001\n",
      "\n"
     ]
    },
    {
     "name": "stderr",
     "output_type": "stream",
     "text": [
      "Training: 100%|██████████████████████████████████████████████████████████████████████████████████████████████████████████████████████████████████████████████| 10/10 [00:03<00:00,  2.79it/s]\n"
     ]
    },
    {
     "name": "stdout",
     "output_type": "stream",
     "text": [
      "Total Loss  |Smoke Loss  |Fire Loss   \n",
      "------------ ------------ ------------\n",
      "84.013      |45.962      |38.051      \n",
      "\n"
     ]
    },
    {
     "name": "stderr",
     "output_type": "stream",
     "text": [
      "Validating: 100%|██████████████████████████████████████████████████████████████████████████████████████████████████████████████████████████████████████████████| 6/6 [00:01<00:00,  3.26it/s]\n"
     ]
    },
    {
     "name": "stdout",
     "output_type": "stream",
     "text": [
      "Total Loss  |Smoke Loss  |Fire Loss   \n",
      "------------ ------------ ------------\n",
      "104.484     |42.076      |62.408      \n",
      "SMOKE -> Precision: 0.4948 - Recall: 0.7606 - Accuracy: 0.5026 - F1: 0.5996\n",
      "FIRE -> Precision: 0.3021 - Recall: 1.0000 - Accuracy: 0.3021 - F1: 0.4640\n",
      "Saving model with best Mean F1: 0.5318\n",
      "Model exported to ONNX: experiments_brevitas/test_v22_mini_resnet_70k_112_128_ds/onnx/Mobilenetv2_Mini_Resnet_4bitINP_classifier__best_mean_F1\n",
      "\n",
      "=== EPOCH 2/2 ===\n",
      "Learning Rate = 0.001\n",
      "\n"
     ]
    },
    {
     "name": "stderr",
     "output_type": "stream",
     "text": [
      "Training: 100%|██████████████████████████████████████████████████████████████████████████████████████████████████████████████████████████████████████████████| 10/10 [00:03<00:00,  2.81it/s]\n"
     ]
    },
    {
     "name": "stdout",
     "output_type": "stream",
     "text": [
      "Total Loss  |Smoke Loss  |Fire Loss   \n",
      "------------ ------------ ------------\n",
      "76.804      |42.815      |33.989      \n",
      "\n"
     ]
    },
    {
     "name": "stderr",
     "output_type": "stream",
     "text": [
      "Validating: 100%|██████████████████████████████████████████████████████████████████████████████████████████████████████████████████████████████████████████████| 6/6 [00:01<00:00,  3.25it/s]\n"
     ]
    },
    {
     "name": "stdout",
     "output_type": "stream",
     "text": [
      "Total Loss  |Smoke Loss  |Fire Loss   \n",
      "------------ ------------ ------------\n",
      "87.141      |39.399      |47.743      \n",
      "SMOKE -> Precision: 0.4789 - Recall: 0.1809 - Accuracy: 0.5026 - F1: 0.2625\n",
      "FIRE -> Precision: 0.3861 - Recall: 0.8621 - Accuracy: 0.5443 - F1: 0.5333\n",
      "\n",
      "Saving model with new best validation loss: 87.1413\n",
      "Model exported to ONNX: experiments_brevitas/test_v22_mini_resnet_70k_112_128_ds/onnx/Mobilenetv2_Mini_Resnet_4bitINP_classifier__best_loss\n",
      "\n",
      "Best F1 Mean at epoch 1: 0.5317903459072113\n",
      "\n",
      "***Script finished: 22:38:16\n",
      "\n",
      "Time elapsed: 0:00:21.725467\n"
     ]
    }
   ],
   "source": [
    "if __name__ == \"__main__\":\n",
    "    \n",
    "    print(\"Starting script\\n\")\n",
    "    logger.info(\"Starting script\\n\")\n",
    "    \n",
    "    model = train_loop(model)"
   ]
  },
  {
   "cell_type": "code",
   "execution_count": 22,
   "id": "bb0eaad5-d3f2-48e4-9922-505d025372b7",
   "metadata": {},
   "outputs": [],
   "source": [
    "# if __name__ == \"__main__\":\n",
    "    \n",
    "#     print(\"Train More script\\n\")\n",
    "#     logger.info(\"Train More\\n\")\n",
    "    \n",
    "#     model = train_loop(model, start_epoch=75, epochs_to_train=15)"
   ]
  },
  {
   "cell_type": "markdown",
   "id": "6e5e0386-520e-4452-a4bd-217a39e3478f",
   "metadata": {},
   "source": [
    "# Test with DFire MINI Dataset: Train and Test"
   ]
  },
  {
   "cell_type": "code",
   "execution_count": 23,
   "id": "ab9c8bf2-dce8-4ac5-82a9-abbd30a20b08",
   "metadata": {},
   "outputs": [],
   "source": [
    "# import importlib\n",
    "# importlib.reload(config)\n",
    "# importlib.reload(dataloaders)"
   ]
  },
  {
   "cell_type": "code",
   "execution_count": 24,
   "id": "1c7cc77c-6bdf-4d83-9358-61038a8b23bb",
   "metadata": {},
   "outputs": [
    {
     "name": "stdout",
     "output_type": "stream",
     "text": [
      "\n",
      "====================\n",
      "TRAIN DFire MINI dataset\n",
      "DFire Removed wrong images: 0\n",
      "DFire empty images: 20\n",
      "DFire only smoke images: 45\n",
      "DFire only fire images: 5\n",
      "DFire smoke and fire images: 30\n",
      "\n",
      "Test dataset len: 100\n",
      "\n",
      "====================\n",
      "TEST DFire MINI dataset\n",
      "DFire Removed wrong images: 0\n",
      "DFire empty images: 6\n",
      "DFire only smoke images: 13\n",
      "DFire only fire images: 2\n",
      "DFire smoke and fire images: 9\n",
      "\n",
      "Test dataset len: 30\n"
     ]
    }
   ],
   "source": [
    "train_dfire_mini_loader = dataloaders.get_dfire_mini_train_loader()\n",
    "test_dfire_mini_loader = dataloaders.get_dfire_mini_test_loader()"
   ]
  },
  {
   "cell_type": "markdown",
   "id": "46c18474-8bc6-4f26-9479-529412e9c71d",
   "metadata": {},
   "source": [
    "### Load Checkpoint with Best F1 Mean"
   ]
  },
  {
   "cell_type": "code",
   "execution_count": 25,
   "id": "b517a297-edea-4d37-9e5b-90ca2512c9e7",
   "metadata": {},
   "outputs": [],
   "source": [
    "model_path = config.WEIGHTS_FOLDER + config.MODEL + '_classifier__best_mean_F1.pt'"
   ]
  },
  {
   "cell_type": "code",
   "execution_count": 26,
   "id": "9b0959a9-9b84-4fd6-85a3-67fb519f6b10",
   "metadata": {},
   "outputs": [
    {
     "name": "stdout",
     "output_type": "stream",
     "text": [
      "Loading Model. Trained during 1 epochs\n"
     ]
    }
   ],
   "source": [
    "epochs_trained = utils.load_checkpoint(\n",
    "    model_path, \n",
    "    model=model, \n",
    "    optimizer=optimizer, \n",
    "    scheduler=scheduler, \n",
    "    device=config.DEVICE)"
   ]
  },
  {
   "cell_type": "code",
   "execution_count": 27,
   "id": "76f3f1db-8968-45ea-811d-7f0d2fbd8dd3",
   "metadata": {},
   "outputs": [],
   "source": [
    "logger.info(f'\\nLoading best F1 Mean model, trained for {epochs_trained} epochs')  "
   ]
  },
  {
   "cell_type": "code",
   "execution_count": 28,
   "id": "5a80e3bb-2570-4e76-960f-ac0284681c8a",
   "metadata": {},
   "outputs": [],
   "source": [
    "model.to('cuda');"
   ]
  },
  {
   "cell_type": "markdown",
   "id": "c8eb53e5-0b75-4bb0-8f45-d2e104d25a13",
   "metadata": {},
   "source": [
    "### Whole Test Loader, to check it is the same as training"
   ]
  },
  {
   "cell_type": "code",
   "execution_count": 29,
   "id": "9c1ae050-a816-407d-9569-5e5b6f84af6b",
   "metadata": {},
   "outputs": [
    {
     "name": "stderr",
     "output_type": "stream",
     "text": [
      "Validating: 100%|██████████████████████████████████████████████████████████████████████████████████████████████████████████████████████████████████████████████| 6/6 [00:01<00:00,  3.18it/s]"
     ]
    },
    {
     "name": "stdout",
     "output_type": "stream",
     "text": [
      "Total Loss  |Smoke Loss  |Fire Loss   \n",
      "------------ ------------ ------------\n",
      "104.484     |42.076      |62.408      \n",
      "SMOKE -> Precision: 0.4948 - Recall: 0.7606 - Accuracy: 0.5026 - F1: 0.5996\n",
      "FIRE -> Precision: 0.3021 - Recall: 1.0000 - Accuracy: 0.3021 - F1: 0.4640\n"
     ]
    },
    {
     "name": "stderr",
     "output_type": "stream",
     "text": [
      "\n"
     ]
    }
   ],
   "source": [
    "with torch.no_grad():\n",
    "    val_losses, val_metrics = val_epoch.eval_fn(\n",
    "        loader=val_loader, \n",
    "        model=model,                         \n",
    "        loss_fn=loss_fn,\n",
    "        device=config.DEVICE)"
   ]
  },
  {
   "cell_type": "code",
   "execution_count": 30,
   "id": "bf582d94-1848-4729-8816-86f1211e9904",
   "metadata": {},
   "outputs": [],
   "source": [
    "logger.info('\\nTesting with FULL TEST LOADER')  \n",
    "#logger.info(val_losses)\n",
    "logger.info(val_metrics)"
   ]
  },
  {
   "cell_type": "markdown",
   "id": "36662803-7b09-4c43-9e14-5045635f86ab",
   "metadata": {},
   "source": [
    "### Train DFire MINI"
   ]
  },
  {
   "cell_type": "code",
   "execution_count": 31,
   "id": "d40dff6c-50a6-4fa9-af36-496730a81fab",
   "metadata": {},
   "outputs": [
    {
     "name": "stderr",
     "output_type": "stream",
     "text": [
      "Validating: 100%|██████████████████████████████████████████████████████████████████████████████████████████████████████████████████████████████████████████| 100/100 [00:02<00:00, 48.59it/s]"
     ]
    },
    {
     "name": "stdout",
     "output_type": "stream",
     "text": [
      "Total Loss  |Smoke Loss  |Fire Loss   \n",
      "------------ ------------ ------------\n",
      "1.490       |0.569       |0.920       \n",
      "SMOKE -> Precision: 0.7500 - Recall: 0.7600 - Accuracy: 0.6300 - F1: 0.7550\n",
      "FIRE -> Precision: 0.3500 - Recall: 1.0000 - Accuracy: 0.3500 - F1: 0.5185\n"
     ]
    },
    {
     "name": "stderr",
     "output_type": "stream",
     "text": [
      "\n"
     ]
    }
   ],
   "source": [
    "with torch.no_grad():\n",
    "    val_losses, val_metrics = val_epoch.eval_fn(\n",
    "        loader=train_dfire_mini_loader, \n",
    "        model=model,                         \n",
    "        loss_fn=loss_fn,\n",
    "        device=config.DEVICE)"
   ]
  },
  {
   "cell_type": "code",
   "execution_count": 32,
   "id": "9f864d7c-7da2-4c7c-b99a-f1943d722b13",
   "metadata": {},
   "outputs": [],
   "source": [
    "logger.info('\\nTesting with DFire MINI TRAIN after LOADING F1 Best Mean CHECKPOINT')  \n",
    "#logger.info(val_losses)\n",
    "logger.info(val_metrics)"
   ]
  },
  {
   "cell_type": "markdown",
   "id": "17c77cd9-05ef-4771-8707-82ba5f16ef0c",
   "metadata": {},
   "source": [
    "### Test DFire MINI"
   ]
  },
  {
   "cell_type": "code",
   "execution_count": 33,
   "id": "2c237df0-9726-42e9-8ebe-d738948fb047",
   "metadata": {},
   "outputs": [
    {
     "name": "stderr",
     "output_type": "stream",
     "text": [
      "Validating: 100%|████████████████████████████████████████████████████████████████████████████████████████████████████████████████████████████████████████████| 30/30 [00:00<00:00, 44.65it/s]"
     ]
    },
    {
     "name": "stdout",
     "output_type": "stream",
     "text": [
      "Total Loss  |Smoke Loss  |Fire Loss   \n",
      "------------ ------------ ------------\n",
      "1.491       |0.621       |0.870       \n",
      "SMOKE -> Precision: 0.6364 - Recall: 0.6364 - Accuracy: 0.4667 - F1: 0.6364\n",
      "FIRE -> Precision: 0.3667 - Recall: 1.0000 - Accuracy: 0.3667 - F1: 0.5366\n"
     ]
    },
    {
     "name": "stderr",
     "output_type": "stream",
     "text": [
      "\n"
     ]
    }
   ],
   "source": [
    "with torch.no_grad():\n",
    "    val_losses, val_metrics = val_epoch.eval_fn(\n",
    "        loader=test_dfire_mini_loader, \n",
    "        model=model,                         \n",
    "        loss_fn=loss_fn,\n",
    "        device=config.DEVICE)"
   ]
  },
  {
   "cell_type": "code",
   "execution_count": 34,
   "id": "06fdf6f8-b716-4ee3-a29a-ea9972387cd8",
   "metadata": {},
   "outputs": [],
   "source": [
    "logger.info('\\nTesting with DFire MINI TEST after LOADING F1 Best Mean CHECKPOINT')  \n",
    "#logger.info(val_losses)\n",
    "logger.info(val_metrics)"
   ]
  },
  {
   "cell_type": "markdown",
   "id": "2c900ac0-d24b-45c6-bab6-8e14cd6cd04d",
   "metadata": {},
   "source": [
    "# Convert the Model to BIPOLAR OUT"
   ]
  },
  {
   "cell_type": "code",
   "execution_count": 35,
   "id": "d200ae1b-ba48-42f5-9c6f-85896602f444",
   "metadata": {},
   "outputs": [],
   "source": [
    "import brevitas.nn as qnn\n",
    "import torch.nn as nn"
   ]
  },
  {
   "cell_type": "code",
   "execution_count": 36,
   "id": "c168b256-32e0-436f-9400-0479892b124f",
   "metadata": {},
   "outputs": [],
   "source": [
    "class CNV_BIPOLAR_OUT(nn.Module):\n",
    "    def __init__(self, base_model):\n",
    "        super(CNV_BIPOLAR_OUT, self).__init__()\n",
    "        self.base_model = base_model\n",
    "        self.qnt_output = qnn.QuantIdentity(\n",
    "            quant_type='binary', \n",
    "            scaling_impl_type='const',\n",
    "            bit_width=1, min_val=-1.0, max_val=1.0)\n",
    "\n",
    "    def forward(self, x):\n",
    "        x = self.base_model(x)\n",
    "        x = self.qnt_output(x)\n",
    "        return x"
   ]
  },
  {
   "cell_type": "code",
   "execution_count": 37,
   "id": "e72ae5e1-b97e-4250-bf88-3ed4d9d4db12",
   "metadata": {},
   "outputs": [],
   "source": [
    "cnv_bipolar_out = CNV_BIPOLAR_OUT(model).to(config.DEVICE)"
   ]
  },
  {
   "cell_type": "markdown",
   "id": "d24225a2-634a-4d8f-840a-ff382a29e3bd",
   "metadata": {},
   "source": [
    "### New Evaluation for BIPOLAR Out Model"
   ]
  },
  {
   "cell_type": "code",
   "execution_count": 38,
   "id": "be051f33-348c-43ec-89aa-d7e1e411d227",
   "metadata": {},
   "outputs": [],
   "source": [
    "from tqdm import tqdm\n",
    "\n",
    "def eval_bipolar_fn(loader, model, device):\n",
    "    \n",
    "    model.eval()\n",
    "    loop = tqdm(loader, desc='Validating', leave=True)\n",
    "\n",
    "    for batch_idx, (x, y) in enumerate(loop):\n",
    "        x, y = x.to(device), y.to(device)\n",
    "        yhat = model(x)\n",
    "\n",
    "        # print(y.shape)\n",
    "        # print(yhat.shape)\n",
    "        \n",
    "        yhat[yhat < 1] = 0\n",
    "    \n",
    "        metrics.precision_metric.update(yhat, y)\n",
    "        metrics.recall_metric.update(yhat, y)\n",
    "        metrics.accuracy_metric.update(yhat, y)\n",
    "        metrics.f1_metric.update(yhat, y)\n",
    "   \n",
    "    precision = metrics.precision_metric.compute()\n",
    "    recall = metrics.recall_metric.compute()\n",
    "    accuracy = metrics.accuracy_metric.compute()\n",
    "    f1 = metrics.f1_metric.compute()\n",
    "    \n",
    "    metrics.precision_metric.reset()\n",
    "    metrics.recall_metric.reset()\n",
    "    metrics.accuracy_metric.reset()\n",
    "    metrics.f1_metric.reset()\n",
    "\n",
    "    print(f'SMOKE -> Precision: {precision[0]:.4f} - Recall: {recall[0]:.4f} - Accuracy: {accuracy[0]:.4f} - F1: {f1[0]:.4f}')\n",
    "    print(f'FIRE -> Precision: {precision[1]:.4f} - Recall: {recall[1]:.4f} - Accuracy: {accuracy[1]:.4f} - F1: {f1[1]:.4f}')\n",
    "    \n",
    "    return (\n",
    "        {\n",
    "        'Accuracy': [accuracy[0].item(), accuracy[1].item()],\n",
    "        'Precision': [precision[0].item(), precision[1].item()],\n",
    "        'Recall': [recall[0].item(), recall[1].item()],\n",
    "        'F1': [f1[0].item(), f1[1].item()] \n",
    "        }\n",
    "    )"
   ]
  },
  {
   "cell_type": "code",
   "execution_count": 39,
   "id": "fb942900-3977-4437-ba6a-d733e7791ce6",
   "metadata": {},
   "outputs": [],
   "source": [
    "logger.info(\"\\n###############################################################\")\n",
    "logger.info(\"                 Results of BIPOLAR OUT Model\")\n",
    "logger.info(\"###############################################################\")"
   ]
  },
  {
   "cell_type": "markdown",
   "id": "3070ff2c-7e3d-4ca2-b0bc-1928209b07d1",
   "metadata": {},
   "source": [
    "### Full DS"
   ]
  },
  {
   "cell_type": "code",
   "execution_count": 40,
   "id": "6c6d2eb2-6bca-4693-a27f-cd63c642cf86",
   "metadata": {},
   "outputs": [
    {
     "name": "stderr",
     "output_type": "stream",
     "text": [
      "Validating: 100%|██████████████████████████████████████████████████████████████████████████████████████████████████████████████████████████████████████████████| 6/6 [00:01<00:00,  3.20it/s]"
     ]
    },
    {
     "name": "stdout",
     "output_type": "stream",
     "text": [
      "SMOKE -> Precision: 0.4948 - Recall: 0.7606 - Accuracy: 0.5026 - F1: 0.5996\n",
      "FIRE -> Precision: 0.3021 - Recall: 1.0000 - Accuracy: 0.3021 - F1: 0.4640\n"
     ]
    },
    {
     "name": "stderr",
     "output_type": "stream",
     "text": [
      "\n"
     ]
    }
   ],
   "source": [
    "cnv_bipolar_out.eval()\n",
    "with torch.no_grad():\n",
    "    val_metrics = eval_bipolar_fn(\n",
    "        loader=val_loader, \n",
    "        model=cnv_bipolar_out,                         \n",
    "        device=config.DEVICE)"
   ]
  },
  {
   "cell_type": "code",
   "execution_count": 41,
   "id": "f51291a6-6314-4f67-8100-8f8e9c467ded",
   "metadata": {},
   "outputs": [],
   "source": [
    "logger.info('\\nTesting with FULL TEST LOADER')  \n",
    "logger.info(val_metrics)"
   ]
  },
  {
   "cell_type": "markdown",
   "id": "0c3406d0-46a6-4836-8912-8241f1d494ec",
   "metadata": {},
   "source": [
    "### Mini Train"
   ]
  },
  {
   "cell_type": "code",
   "execution_count": 42,
   "id": "de7fedf3-e1ca-451b-9dd5-41d8c65f3e82",
   "metadata": {},
   "outputs": [
    {
     "name": "stderr",
     "output_type": "stream",
     "text": [
      "Validating: 100%|██████████████████████████████████████████████████████████████████████████████████████████████████████████████████████████████████████████| 100/100 [00:02<00:00, 49.11it/s]"
     ]
    },
    {
     "name": "stdout",
     "output_type": "stream",
     "text": [
      "SMOKE -> Precision: 0.7500 - Recall: 0.7600 - Accuracy: 0.6300 - F1: 0.7550\n",
      "FIRE -> Precision: 0.3500 - Recall: 1.0000 - Accuracy: 0.3500 - F1: 0.5185\n"
     ]
    },
    {
     "name": "stderr",
     "output_type": "stream",
     "text": [
      "\n"
     ]
    }
   ],
   "source": [
    "with torch.no_grad():\n",
    "    val_metrics = eval_bipolar_fn(\n",
    "        loader=train_dfire_mini_loader, \n",
    "        model=cnv_bipolar_out,                         \n",
    "        device=config.DEVICE)"
   ]
  },
  {
   "cell_type": "code",
   "execution_count": 43,
   "id": "2886d642-bba2-4e51-9471-3b5d05967f71",
   "metadata": {},
   "outputs": [],
   "source": [
    "logger.info('\\nTesting with DFire MINI TRAIN after LOADING F1 Best Mean CHECKPOINT')  \n",
    "logger.info(val_metrics)"
   ]
  },
  {
   "cell_type": "markdown",
   "id": "8dd7b8c3-c8aa-408a-b887-8149c3dec985",
   "metadata": {},
   "source": [
    "### Mini Test"
   ]
  },
  {
   "cell_type": "code",
   "execution_count": 44,
   "id": "e135c88d-8733-4aab-b3ff-046ea263f196",
   "metadata": {},
   "outputs": [
    {
     "name": "stderr",
     "output_type": "stream",
     "text": [
      "Validating: 100%|████████████████████████████████████████████████████████████████████████████████████████████████████████████████████████████████████████████| 30/30 [00:00<00:00, 44.58it/s]"
     ]
    },
    {
     "name": "stdout",
     "output_type": "stream",
     "text": [
      "SMOKE -> Precision: 0.6364 - Recall: 0.6364 - Accuracy: 0.4667 - F1: 0.6364\n",
      "FIRE -> Precision: 0.3667 - Recall: 1.0000 - Accuracy: 0.3667 - F1: 0.5366\n"
     ]
    },
    {
     "name": "stderr",
     "output_type": "stream",
     "text": [
      "\n"
     ]
    }
   ],
   "source": [
    "with torch.no_grad():\n",
    "    val_metrics = eval_bipolar_fn(\n",
    "        loader=test_dfire_mini_loader, \n",
    "        model=cnv_bipolar_out,                         \n",
    "        device=config.DEVICE)"
   ]
  },
  {
   "cell_type": "code",
   "execution_count": 45,
   "id": "203657a6-3244-491f-b46b-af9dfaac09fc",
   "metadata": {},
   "outputs": [],
   "source": [
    "logger.info('\\nTesting with DFire MINI TEST after LOADING F1 Best Mean CHECKPOINT')  \n",
    "logger.info(val_metrics)"
   ]
  },
  {
   "cell_type": "markdown",
   "id": "aefafb34-9307-4292-91b3-f1cd01d6ea7f",
   "metadata": {},
   "source": [
    "# Export Bipolar to QONNX"
   ]
  },
  {
   "cell_type": "code",
   "execution_count": 46,
   "id": "019a10e2-20ae-41dd-abc2-5aeb86d3692b",
   "metadata": {},
   "outputs": [
    {
     "name": "stdout",
     "output_type": "stream",
     "text": [
      "Model exported to ONNX: experiments_brevitas/test_v22_mini_resnet_70k_112_128_ds/onnx/Mobilenetv2_Mini_Resnet_4bitINP_classifier__best_mean_F1__BIPOLAR_Out\n"
     ]
    }
   ],
   "source": [
    "save_f1_name = 'best_mean_F1'\n",
    "save_bipolar_onnx = config.ONNX_FOLDER + config.MODEL + '_classifier__' + save_f1_name + '__BIPOLAR_Out'\n",
    "utils.export_onnx(cnv_bipolar_out, (1, config.NUM_CHANNELS, config.IMG_H, config.IMG_W), save_bipolar_onnx, config.DEVICE)"
   ]
  }
 ],
 "metadata": {
  "kernelspec": {
   "display_name": "Python 3 (ipykernel)",
   "language": "python",
   "name": "python3"
  },
  "language_info": {
   "codemirror_mode": {
    "name": "ipython",
    "version": 3
   },
   "file_extension": ".py",
   "mimetype": "text/x-python",
   "name": "python",
   "nbconvert_exporter": "python",
   "pygments_lexer": "ipython3",
   "version": "3.10.9"
  }
 },
 "nbformat": 4,
 "nbformat_minor": 5
}
