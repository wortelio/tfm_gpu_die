{
 "cells": [
  {
   "cell_type": "code",
   "execution_count": 1,
   "id": "ced39284-e77a-4bb4-b4f4-1e32f8dc378b",
   "metadata": {
    "editable": true,
    "slideshow": {
     "slide_type": ""
    },
    "tags": []
   },
   "outputs": [],
   "source": [
    "import logging\n",
    "import datetime\n",
    "\n",
    "import numpy as np\n",
    "import torch\n",
    "from torch.nn.utils import parameters_to_vector\n",
    "import torch.optim as optim\n",
    "from torchinfo import summary\n",
    "\n",
    "import matplotlib.pyplot as plt\n",
    "\n",
    "import config\n",
    "import modules.dataloaders as dataloaders\n",
    "\n",
    "# import modules.brevitas.model_mobilenetv2_mini_Brevitas as cnv_model\n",
    "import modules.brevitas.model_mobilenetv2_1M_Brevitas as cnv_model\n",
    "\n",
    "\n",
    "import modules.loss as loss\n",
    "import modules.metrics as metrics\n",
    "import modules.train_epoch as train_epoch\n",
    "import modules.val_epoch as val_epoch\n",
    "import modules.utils as utils"
   ]
  },
  {
   "cell_type": "code",
   "execution_count": 2,
   "id": "8c9f1ed9-bdb0-4417-ac3d-cec7acef5117",
   "metadata": {},
   "outputs": [],
   "source": [
    "# from brevitas.export import export_onnx_qcdq\n",
    "# from brevitas.export import export_qonnx"
   ]
  },
  {
   "cell_type": "markdown",
   "id": "4e2413f4-083b-4ddd-bf51-0332c1166d47",
   "metadata": {},
   "source": [
    "# Logger"
   ]
  },
  {
   "cell_type": "code",
   "execution_count": 3,
   "id": "9006bcad-639b-4775-b5a6-2fd13420cbb2",
   "metadata": {},
   "outputs": [],
   "source": [
    "log_path = config.LOGS_FOLDER\n",
    "\n",
    "logger = logging.getLogger(\"GonLogger\")\n",
    "logger.propagate = False\n",
    "logger.setLevel(logging.INFO)\n",
    "file_handler = logging.FileHandler(log_path + 'logfile.log')\n",
    "formatter = logging.Formatter('%(message)s')\n",
    "file_handler.setFormatter(formatter)\n",
    "\n",
    "# add file handler to logger\n",
    "logger.addHandler(file_handler)\n",
    "\n",
    "logger.info('BED Classifier.\\n' +  \n",
    "            '\\tOne Head.\\n' +\n",
    "            '\\tWeighted for Precision.\\n' +\n",
    "            '\\tBrevitas Default.\\n'+ \n",
    "            '\\tDataset images divided by 255.\\n')"
   ]
  },
  {
   "cell_type": "markdown",
   "id": "3884364d-ec36-4e80-a0d5-c5d259f4b313",
   "metadata": {},
   "source": [
    "# Hyperparameters Log"
   ]
  },
  {
   "cell_type": "code",
   "execution_count": 4,
   "id": "25fe6b1d-7f69-48d4-80a2-219e19c33016",
   "metadata": {},
   "outputs": [
    {
     "name": "stdout",
     "output_type": "stream",
     "text": [
      "\n",
      "Datasets Length\n",
      "\tTrain and Val: Full\n",
      "\n",
      "Load Model: False\n",
      "Device: cuda\n",
      "Optimizer:\n",
      "\tLearning Rate: 0.001\n",
      "\tWeight Decay: 0.001\n",
      "Scheduler:\n",
      "\tScheduler factor: 0.8\n",
      "\tScheduler patience: 2\n",
      "\tScheduler threshold: 0.001\n",
      "\tScheduler min learning rate: 1e-06\n",
      "Batch Size: 64\n",
      "Num Workers: 8\n",
      "Pin Memory: True\n",
      "Epochs: 100\n",
      "\n",
      "IMG DIMS:\n",
      "\tWidth: 224\n",
      "\tHeight: 224\n",
      "\n",
      "Brevitas Config:\n",
      "\tFixed Point: True\n",
      "\tWeights Bit Width: 4\n",
      "\tBig Layers Weights Bit Width: 4\n",
      "\tBias Bit Width: 4\n",
      "\tActivations Bit Width: 4\n"
     ]
    }
   ],
   "source": [
    "''' ============================\n",
    "    Print Config Values\n",
    "============================ '''\n",
    "print('\\nDatasets Length')\n",
    "print(f'\\tTrain and Val: {\"Full\" if config.DS_LEN == None else config.DS_LEN}')\n",
    "print(f'\\nLoad Model: {config.LOAD_MODEL}')\n",
    "if (config.LOAD_MODEL == True):\n",
    "    print(f'\\tModel: {config.LOAD_MODEL_FILE}')\n",
    "print(f'Device: {config.DEVICE}')\n",
    "print('Optimizer:')\n",
    "print(f'\\tLearning Rate: {config.LEARNING_RATE}')\n",
    "print(f'\\tWeight Decay: {config.WEIGHT_DECAY}')\n",
    "print('Scheduler:')\n",
    "print(f'\\tScheduler factor: {config.FACTOR}')\n",
    "print(f'\\tScheduler patience: {config.PATIENCE}')\n",
    "print(f'\\tScheduler threshold: {config.THRES}')\n",
    "print(f'\\tScheduler min learning rate: {config.MIN_LR}')\n",
    "print(f'Batch Size: {config.BATCH_SIZE}')\n",
    "print(f'Num Workers: {config.NUM_WORKERS}')\n",
    "print(f'Pin Memory: {config.PIN_MEMORY}')\n",
    "print(f'Epochs: {config.EPOCHS}')\n",
    "print('\\nIMG DIMS:')\n",
    "print(f'\\tWidth: {config.IMG_W}\\n\\tHeight: {config.IMG_H}')\n",
    "print('\\nBrevitas Config:')\n",
    "print(f'\\tFixed Point: {config.FIXED_POINT}')\n",
    "print(f'\\tWeights Bit Width: {config.WEIGHTS_BIT_WIDTH}')\n",
    "print(f'\\tBig Layers Weights Bit Width: {config.BIG_LAYERS_WEIGHTS_BIT_WIDTH}')\n",
    "print(f'\\tBias Bit Width: {config.BIAS_BIT_WIDTH}')\n",
    "print(f'\\tActivations Bit Width: {config.ACTIVATIONS_BIT_WIDTH}')\n",
    "\n",
    "logger.info('\\nDatasets Length')\n",
    "logger.info(f'\\tTrain and Val: {\"Full\" if config.DS_LEN == None else config.DS_LEN}')\n",
    "logger.info(f'\\nLoad Model: {config.LOAD_MODEL}')\n",
    "if (config.LOAD_MODEL == True):\n",
    "    logger.info(f'\\tModel: {config.LOAD_MODEL_FILE}')\n",
    "logger.info(f'\\nDevice: {config.DEVICE}')\n",
    "logger.info('Optimizer:')\n",
    "logger.info(f'\\tLearning Rate: {config.LEARNING_RATE}')\n",
    "logger.info(f'\\tWeight Decay: {config.WEIGHT_DECAY}')\n",
    "logger.info('Scheduler:')\n",
    "logger.info(f'\\tScheduler factor: {config.FACTOR}')\n",
    "logger.info(f'\\tScheduler patience: {config.PATIENCE}')\n",
    "logger.info(f'\\tScheduler threshold: {config.THRES}')\n",
    "logger.info(f'\\tScheduler min learning rate: {config.MIN_LR}')\n",
    "logger.info(f'\\nBatch Size: {config.BATCH_SIZE}')\n",
    "logger.info(f'Num Workers: {config.NUM_WORKERS}')\n",
    "logger.info(f'Pin Memory: {config.PIN_MEMORY}')\n",
    "logger.info(f'Epochs: {config.EPOCHS}')\n",
    "logger.info('\\nIMG DIMS:')\n",
    "logger.info(f'\\tWidth: {config.IMG_W}\\n\\tHeight: {config.IMG_H}')\n",
    "logger.info('\\nBrevitas Config:')\n",
    "logger.info(f'\\tFixed Point: {config.FIXED_POINT}')\n",
    "logger.info(f'\\tWeights Bit Width: {config.WEIGHTS_BIT_WIDTH}')\n",
    "logger.info(f'\\tBig Layers Weights Bit Width: {config.BIG_LAYERS_WEIGHTS_BIT_WIDTH}')\n",
    "logger.info(f'\\tBias Bit Width: {config.BIAS_BIT_WIDTH}')\n",
    "logger.info(f'\\tActivations Bit Width: {config.ACTIVATIONS_BIT_WIDTH}')"
   ]
  },
  {
   "cell_type": "markdown",
   "id": "c48611bc-7a36-41f5-a80c-5cc442bd40fd",
   "metadata": {},
   "source": [
    "# Dataloaders"
   ]
  },
  {
   "cell_type": "code",
   "execution_count": 5,
   "id": "125fadde-618b-4a0d-8d1e-86f4b46a35a2",
   "metadata": {},
   "outputs": [
    {
     "name": "stdout",
     "output_type": "stream",
     "text": [
      "\n",
      "====================\n",
      "TRAIN DFIRE dataset\n"
     ]
    },
    {
     "name": "stderr",
     "output_type": "stream",
     "text": [
      "Corrupt JPEG data: 1 extraneous bytes before marker 0xd9\n"
     ]
    },
    {
     "name": "stdout",
     "output_type": "stream",
     "text": [
      "DFire Removed wrong images: 0\n",
      "DFire empty images: 7833\n",
      "DFire only smoke images: 4681\n",
      "DFire only fire images: 944\n",
      "DFire smoke and fire images: 3763\n",
      "\n",
      "Train DFire dataset len: 17221\n",
      "\n",
      "====================\n",
      "TRAIN FASDD UAV dataset\n",
      "FASDD Removed wrong images: 0\n",
      "FASDD empty images: 5994\n",
      "FASDD only smoke images: 2541\n",
      "FASDD only fire images: 105\n",
      "FASDD smoke and fire images: 3911\n",
      "\n",
      "Train FASDD UAV dataset len: 12551\n",
      "\n",
      "====================\n",
      "VAL FASDD UAV dataset\n",
      "FASDD Removed wrong images: 0\n",
      "FASDD empty images: 3995\n",
      "FASDD only smoke images: 1693\n",
      "FASDD only fire images: 70\n",
      "FASDD smoke and fire images: 2607\n",
      "\n",
      "Val FASDD UAV dataset len: 8365\n",
      "\n",
      "====================\n",
      "TRAIN FASDD CV dataset\n"
     ]
    },
    {
     "name": "stderr",
     "output_type": "stream",
     "text": [
      "Corrupt JPEG data: 1 extraneous bytes before marker 0xd9\n",
      "Warning: unknown JFIF revision number 32.23\n"
     ]
    },
    {
     "name": "stdout",
     "output_type": "stream",
     "text": [
      "FASDD Removed wrong images: 0\n",
      "FASDD empty images: 19600\n",
      "FASDD only smoke images: 11708\n",
      "FASDD only fire images: 6276\n",
      "FASDD smoke and fire images: 10076\n",
      "\n",
      "Train FASDD CV dataset len: 47660\n",
      "\n",
      "====================\n",
      "Val FASDD CV dataset\n"
     ]
    },
    {
     "name": "stderr",
     "output_type": "stream",
     "text": [
      "Corrupt JPEG data: 1 extraneous bytes before marker 0xd9\n",
      "Corrupt JPEG data: 1 extraneous bytes before marker 0xd9\n"
     ]
    },
    {
     "name": "stdout",
     "output_type": "stream",
     "text": [
      "FASDD Removed wrong images: 0\n",
      "FASDD empty images: 13066\n",
      "FASDD only smoke images: 7804\n",
      "FASDD only fire images: 4183\n",
      "FASDD smoke and fire images: 6717\n",
      "\n",
      "Val FASDD CV dataset len: 31770\n",
      "\n",
      "Concatenate Train DFire and Train FASDD UAV datasets\n",
      "Train dataset len: 29772\n",
      "Concatenate with Val FASDD UAV dataset\n",
      "Train dataset len: 38137\n",
      "Concatenate with Train FASDD CV dataset\n",
      "Train dataset len: 85797\n",
      "Concatenate with Val FASDD CV dataset\n",
      "Train dataset len: 117567\n",
      "\n",
      "====================\n",
      "TEST DFire dataset\n",
      "DFire Removed wrong images: 0\n",
      "DFire empty images: 2005\n",
      "DFire only smoke images: 1186\n",
      "DFire only fire images: 220\n",
      "DFire smoke and fire images: 895\n",
      "\n",
      "Test dataset len: 4306\n",
      "\n",
      "====================\n",
      "TEST FASDD UAV dataset\n",
      "FASDD Removed wrong images: 0\n",
      "FASDD empty images: 1997\n",
      "FASDD only smoke images: 846\n",
      "FASDD only fire images: 35\n",
      "FASDD smoke and fire images: 1303\n",
      "\n",
      "Test FASDD UAV dataset len: 4181\n",
      "\n",
      "====================\n",
      "TEST FASDD CV dataset\n",
      "FASDD Removed wrong images: 0\n",
      "FASDD empty images: 6533\n",
      "FASDD only smoke images: 3902\n",
      "FASDD only fire images: 2091\n",
      "FASDD smoke and fire images: 3358\n",
      "\n",
      "Test FASDD CV dataset len: 15884\n",
      "Concatenate Test DFire and FASDD UAV datasets\n",
      "Test dataset len: 8487\n",
      "Concatenate with FASDD CV dataset\n",
      "Test dataset len: 24371\n"
     ]
    }
   ],
   "source": [
    "train_loader = dataloaders.get_train_loader()\n",
    "val_loader = dataloaders.get_val_loader()"
   ]
  },
  {
   "cell_type": "markdown",
   "id": "841b4bfc-55f6-4692-a5de-8f457d17472c",
   "metadata": {},
   "source": [
    "### Plot Some Train Pictures"
   ]
  },
  {
   "cell_type": "code",
   "execution_count": 6,
   "id": "f18dab26-cb88-4c13-ad66-a5cc8176a0f0",
   "metadata": {},
   "outputs": [],
   "source": [
    "for i, (img, label) in enumerate(train_loader):\n",
    "\n",
    "    plt.subplots(8,4, figsize=(8, 16))\n",
    "    \n",
    "    for idx in range(config.BATCH_SIZE):\n",
    "        plt.subplot(8, 4, idx+1)\n",
    "        plt.imshow(img[idx].permute(1, 2, 0))\n",
    "        title = \"\"\n",
    "        if label[idx][0] == 1 and label[idx][1] == 1:\n",
    "            title += \"Smoke and Fire\"\n",
    "        elif label[idx][0] == 1 and label[idx][1] == 0:\n",
    "            title += \"Only Smoke\"\n",
    "        elif label[idx][0] == 0 and label[idx][1] == 1:\n",
    "            title += \"Only Fire\"\n",
    "        else:\n",
    "            title += \"Empty\"\n",
    "        plt.title(title)\n",
    "        \n",
    "        if (idx == 31):\n",
    "            break\n",
    "    plt.tight_layout()\n",
    "    plt.savefig(config.RUN_FOLDER + 'train_pictures.png')\n",
    "    #plt.show()\n",
    "    plt.close()\n",
    "    break"
   ]
  },
  {
   "cell_type": "markdown",
   "id": "3f38c400-7e28-46fd-8cab-fb537e5bb248",
   "metadata": {},
   "source": [
    "### Plot Some Val Pictures"
   ]
  },
  {
   "cell_type": "code",
   "execution_count": 7,
   "id": "60efe557-e316-4ec3-a850-3e671f04b1a8",
   "metadata": {},
   "outputs": [],
   "source": [
    "for i, (img, label) in enumerate(val_loader):\n",
    "\n",
    "    plt.subplots(8,4, figsize=(8, 16))\n",
    "    \n",
    "    for idx in range(config.BATCH_SIZE):\n",
    "        plt.subplot(8, 4, idx+1)\n",
    "        plt.imshow(img[idx].permute(1, 2, 0))\n",
    "        title = \"\"\n",
    "        if label[idx][0] == 1 and label[idx][1] == 1:\n",
    "            title += \"Smoke and Fire\"\n",
    "        elif label[idx][0] == 1 and label[idx][1] == 0:\n",
    "            title += \"Only Smoke\"\n",
    "        elif label[idx][0] == 0 and label[idx][1] == 1:\n",
    "            title += \"Only Fire\"\n",
    "        else:\n",
    "            title += \"Empty\"\n",
    "        plt.title(title)\n",
    "        \n",
    "        if (idx == 31):\n",
    "            break\n",
    "    plt.tight_layout()\n",
    "    plt.savefig(config.RUN_FOLDER + 'val_pictures.png')\n",
    "    plt.close()\n",
    "    break"
   ]
  },
  {
   "cell_type": "markdown",
   "id": "32673ea5-65c2-418d-b4bb-dc52d5fc0cb5",
   "metadata": {},
   "source": [
    "# Load Model"
   ]
  },
  {
   "cell_type": "code",
   "execution_count": 8,
   "id": "3fbdd1b2-b561-4ea6-af5e-ee65c801c313",
   "metadata": {},
   "outputs": [
    {
     "data": {
      "text/plain": [
       "<module 'modules.brevitas.model_mobilenetv2_1M_Brevitas' from '/home/gmoreno/uav/code/classifier_my_mobilenetv2/modules/brevitas/model_mobilenetv2_1M_Brevitas.py'>"
      ]
     },
     "execution_count": 8,
     "metadata": {},
     "output_type": "execute_result"
    }
   ],
   "source": [
    "import importlib\n",
    "importlib.reload(cnv_model)"
   ]
  },
  {
   "cell_type": "code",
   "execution_count": 9,
   "id": "65f05240-0c38-4f73-b06d-bf9ceefcb369",
   "metadata": {},
   "outputs": [],
   "source": [
    "# model = cnv_model.MobileNetV2_MINI().to(config.DEVICE)\n",
    "\n",
    "model = cnv_model.MobileNetV2_1M().to(config.DEVICE)"
   ]
  },
  {
   "cell_type": "markdown",
   "id": "578c963b-1a73-4b8b-9646-8ad392dd4eee",
   "metadata": {},
   "source": [
    "### Optimizer and Scheduler"
   ]
  },
  {
   "cell_type": "code",
   "execution_count": 10,
   "id": "e2284272-f9fc-4adb-a7c4-81ac3956d95b",
   "metadata": {},
   "outputs": [],
   "source": [
    "optimizer = optim.Adam(model.parameters(), \n",
    "                       lr=config.LEARNING_RATE, \n",
    "                       weight_decay=config.WEIGHT_DECAY)\n",
    "\n",
    "scheduler = optim.lr_scheduler.ReduceLROnPlateau(optimizer, \n",
    "                                                 mode='min',\n",
    "                                                 factor=config.FACTOR, \n",
    "                                                 patience=config.PATIENCE, \n",
    "                                                 threshold=config.THRES, \n",
    "                                                 threshold_mode='abs',\n",
    "                                                 min_lr=config.MIN_LR)\n",
    "\n"
   ]
  },
  {
   "cell_type": "markdown",
   "id": "1d0bac02-ea2e-40b6-9f71-456b3f3cf943",
   "metadata": {},
   "source": [
    "### Parameters"
   ]
  },
  {
   "cell_type": "code",
   "execution_count": 11,
   "id": "ce30cdae-4cb8-4399-9766-49932d6a4bed",
   "metadata": {
    "editable": true,
    "slideshow": {
     "slide_type": ""
    },
    "tags": []
   },
   "outputs": [
    {
     "name": "stdout",
     "output_type": "stream",
     "text": [
      "\n",
      "Trainable parameters = 1078274\n",
      "Total parameters = 1078274\n",
      "\n"
     ]
    }
   ],
   "source": [
    "n_trainable = sum(p.numel() for p in model.parameters() if p.requires_grad)\n",
    "print(f'\\nTrainable parameters = {n_trainable}')\n",
    "logger.info(f'\\nTrainable parameters = {n_trainable}')\n",
    "\n",
    "n_params = parameters_to_vector(model.parameters()).numel()\n",
    "print(f'Total parameters = {n_params}\\n')\n",
    "logger.info(f'Total parameters = {n_params}\\n')"
   ]
  },
  {
   "cell_type": "markdown",
   "id": "cfb33a7e-b560-4446-bd60-8621483adfdc",
   "metadata": {},
   "source": [
    "### Check Model Shape: Random Input"
   ]
  },
  {
   "cell_type": "code",
   "execution_count": 12,
   "id": "d80f00c5-183d-431b-bf8a-26551c390cae",
   "metadata": {},
   "outputs": [
    {
     "name": "stderr",
     "output_type": "stream",
     "text": [
      "/opt/conda/envs/pytorch_brevitas/lib/python3.10/site-packages/torch/_tensor.py:1362: UserWarning: Named tensors and all their associated APIs are an experimental feature and subject to change. Please do not use them for anything important until they are released as stable. (Triggered internally at /opt/conda/conda-bld/pytorch_1702400410390/work/c10/core/TensorImpl.h:1900.)\n",
      "  return super().rename(names)\n"
     ]
    },
    {
     "name": "stdout",
     "output_type": "stream",
     "text": [
      "Model shape is tensor([[ -0.1089, -23.5607],\n",
      "        [ -0.1488,   6.7013],\n",
      "        [ -6.4327, -15.8676],\n",
      "        [ -1.7720,   1.8813]], device='cuda:0', grad_fn=<AddmmBackward0>)\n"
     ]
    }
   ],
   "source": [
    "dummy_input = np.random.rand(4, config.NUM_CHANNELS, config.IMG_H, config.IMG_W)\n",
    "dummy_input = torch.tensor(dummy_input, dtype=torch.float32, device=config.DEVICE)\n",
    "out_test = model(dummy_input)\n",
    "print(f'Model shape is {out_test}')\n",
    "#print(f'BED Model Arquitecture\\n{cnv_model}')"
   ]
  },
  {
   "cell_type": "markdown",
   "id": "6a769672-efb0-4727-8322-8c68795d0efb",
   "metadata": {},
   "source": [
    "### Torchinfo"
   ]
  },
  {
   "cell_type": "code",
   "execution_count": 13,
   "id": "607141f0-be35-4feb-8635-c63724d1503e",
   "metadata": {},
   "outputs": [
    {
     "name": "stdout",
     "output_type": "stream",
     "text": [
      "==================================================================================================================================\n",
      "Layer (type:depth-idx)                                                           Output Shape              Param #\n",
      "==================================================================================================================================\n",
      "MobileNetV2_1M                                                                   [1, 2]                    --\n",
      "├─Sequential: 1-1                                                                [1, 320, 7, 7]            869,984\n",
      "│    └─QuantIdentity: 2-1                                                        [1, 3, 224, 224]          --\n",
      "│    │    └─ActQuantProxyFromInjector: 3-1                                       [1, 3, 224, 224]          --\n",
      "│    │    └─ActQuantProxyFromInjector: 3-2                                       [1, 3, 224, 224]          --\n",
      "│    └─Sequential: 2-2                                                           [1, 32, 112, 112]         --\n",
      "│    │    └─QuantConv2d: 3-3                                                     [1, 32, 112, 112]         864\n",
      "│    │    └─BatchNorm2d: 3-4                                                     [1, 32, 112, 112]         64\n",
      "│    │    └─QuantIdentity: 3-5                                                   [1, 32, 112, 112]         --\n",
      "├─Sequential: 1-78                                                               --                        (recursive)\n",
      "│    └─QuantIdentity: 2-92                                                       --                        --\n",
      "│    │    └─ActQuantProxyFromInjector: 3-95                                      --                        --\n",
      "├─Sequential: 1-79                                                               --                        (recursive)\n",
      "│    └─Sequential: 2-4                                                           --                        (recursive)\n",
      "│    │    └─QuantIdentity: 3-7                                                   --                        --\n",
      "│    └─InvertedBlock: 2-5                                                        [1, 16, 112, 112]         --\n",
      "│    │    └─Sequential: 3-8                                                      [1, 16, 112, 112]         896\n",
      "├─Sequential: 1-78                                                               --                        (recursive)\n",
      "│    └─QuantIdentity: 2-92                                                       --                        --\n",
      "│    │    └─ActQuantProxyFromInjector: 3-95                                      --                        --\n",
      "├─Sequential: 1-79                                                               --                        (recursive)\n",
      "│    └─InvertedBlock: 2-9                                                        --                        (recursive)\n",
      "│    │    └─Sequential: 3-12                                                     --                        (recursive)\n",
      "├─Sequential: 1-78                                                               --                        (recursive)\n",
      "│    └─QuantIdentity: 2-92                                                       --                        --\n",
      "│    │    └─ActQuantProxyFromInjector: 3-95                                      --                        --\n",
      "├─Sequential: 1-79                                                               --                        (recursive)\n",
      "│    └─InvertedBlock: 2-9                                                        --                        (recursive)\n",
      "│    │    └─Sequential: 3-12                                                     --                        (recursive)\n",
      "│    └─InvertedBlock: 2-10                                                       [1, 24, 56, 56]           --\n",
      "│    │    └─Sequential: 3-13                                                     [1, 24, 56, 56]           3,440\n",
      "├─Sequential: 1-78                                                               --                        (recursive)\n",
      "│    └─QuantIdentity: 2-92                                                       --                        --\n",
      "│    │    └─ActQuantProxyFromInjector: 3-95                                      --                        --\n",
      "├─Sequential: 1-79                                                               --                        (recursive)\n",
      "│    └─InvertedBlock: 2-16                                                       --                        (recursive)\n",
      "│    │    └─Sequential: 3-19                                                     --                        (recursive)\n",
      "├─Sequential: 1-78                                                               --                        (recursive)\n",
      "│    └─QuantIdentity: 2-92                                                       --                        --\n",
      "│    │    └─ActQuantProxyFromInjector: 3-95                                      --                        --\n",
      "├─Sequential: 1-79                                                               --                        (recursive)\n",
      "│    └─InvertedBlock: 2-16                                                       --                        (recursive)\n",
      "│    │    └─Sequential: 3-19                                                     --                        (recursive)\n",
      "├─Sequential: 1-78                                                               --                        (recursive)\n",
      "│    └─QuantIdentity: 2-92                                                       --                        --\n",
      "│    │    └─ActQuantProxyFromInjector: 3-95                                      --                        --\n",
      "├─Sequential: 1-79                                                               --                        (recursive)\n",
      "│    └─InvertedBlock: 2-16                                                       --                        (recursive)\n",
      "│    │    └─Sequential: 3-19                                                     --                        (recursive)\n",
      "│    └─InvertedBlock: 2-17                                                       [1, 24, 56, 56]           --\n",
      "│    │    └─Sequential: 3-20                                                     [1, 24, 56, 56]           5,904\n",
      "├─Sequential: 1-78                                                               --                        (recursive)\n",
      "│    └─QuantIdentity: 2-92                                                       --                        --\n",
      "│    │    └─ActQuantProxyFromInjector: 3-95                                      --                        --\n",
      "├─Sequential: 1-79                                                               --                        (recursive)\n",
      "│    └─InvertedBlock: 2-23                                                       --                        (recursive)\n",
      "│    │    └─Sequential: 3-26                                                     --                        (recursive)\n",
      "├─Sequential: 1-78                                                               --                        (recursive)\n",
      "│    └─QuantIdentity: 2-92                                                       --                        --\n",
      "│    │    └─ActQuantProxyFromInjector: 3-95                                      --                        --\n",
      "├─Sequential: 1-79                                                               --                        (recursive)\n",
      "│    └─InvertedBlock: 2-23                                                       --                        (recursive)\n",
      "│    │    └─Sequential: 3-26                                                     --                        (recursive)\n",
      "├─Sequential: 1-78                                                               --                        (recursive)\n",
      "│    └─QuantIdentity: 2-92                                                       --                        --\n",
      "│    │    └─ActQuantProxyFromInjector: 3-95                                      --                        --\n",
      "├─Sequential: 1-79                                                               --                        (recursive)\n",
      "│    └─InvertedBlock: 2-23                                                       --                        (recursive)\n",
      "│    │    └─Sequential: 3-26                                                     --                        (recursive)\n",
      "│    └─InvertedBlock: 2-24                                                       [1, 32, 28, 28]           --\n",
      "│    │    └─Sequential: 3-27                                                     [1, 32, 28, 28]           6,688\n",
      "├─Sequential: 1-78                                                               --                        (recursive)\n",
      "│    └─QuantIdentity: 2-92                                                       --                        --\n",
      "│    │    └─ActQuantProxyFromInjector: 3-95                                      --                        --\n",
      "├─Sequential: 1-79                                                               --                        (recursive)\n",
      "│    └─InvertedBlock: 2-30                                                       --                        (recursive)\n",
      "│    │    └─Sequential: 3-33                                                     --                        (recursive)\n",
      "├─Sequential: 1-78                                                               --                        (recursive)\n",
      "│    └─QuantIdentity: 2-92                                                       --                        --\n",
      "│    │    └─ActQuantProxyFromInjector: 3-95                                      --                        --\n",
      "├─Sequential: 1-79                                                               --                        (recursive)\n",
      "│    └─InvertedBlock: 2-30                                                       --                        (recursive)\n",
      "│    │    └─Sequential: 3-33                                                     --                        (recursive)\n",
      "├─Sequential: 1-78                                                               --                        (recursive)\n",
      "│    └─QuantIdentity: 2-92                                                       --                        --\n",
      "│    │    └─ActQuantProxyFromInjector: 3-95                                      --                        --\n",
      "├─Sequential: 1-79                                                               --                        (recursive)\n",
      "│    └─InvertedBlock: 2-30                                                       --                        (recursive)\n",
      "│    │    └─Sequential: 3-33                                                     --                        (recursive)\n",
      "│    └─InvertedBlock: 2-31                                                       [1, 32, 28, 28]           --\n",
      "│    │    └─Sequential: 3-34                                                     [1, 32, 28, 28]           9,920\n",
      "├─Sequential: 1-78                                                               --                        (recursive)\n",
      "│    └─QuantIdentity: 2-92                                                       --                        --\n",
      "│    │    └─ActQuantProxyFromInjector: 3-95                                      --                        --\n",
      "├─Sequential: 1-79                                                               --                        (recursive)\n",
      "│    └─InvertedBlock: 2-37                                                       --                        (recursive)\n",
      "│    │    └─Sequential: 3-40                                                     --                        (recursive)\n",
      "├─Sequential: 1-78                                                               --                        (recursive)\n",
      "│    └─QuantIdentity: 2-92                                                       --                        --\n",
      "│    │    └─ActQuantProxyFromInjector: 3-95                                      --                        --\n",
      "├─Sequential: 1-79                                                               --                        (recursive)\n",
      "│    └─InvertedBlock: 2-37                                                       --                        (recursive)\n",
      "│    │    └─Sequential: 3-40                                                     --                        (recursive)\n",
      "├─Sequential: 1-78                                                               --                        (recursive)\n",
      "│    └─QuantIdentity: 2-92                                                       --                        --\n",
      "│    │    └─ActQuantProxyFromInjector: 3-95                                      --                        --\n",
      "├─Sequential: 1-79                                                               --                        (recursive)\n",
      "│    └─InvertedBlock: 2-37                                                       --                        (recursive)\n",
      "│    │    └─Sequential: 3-40                                                     --                        (recursive)\n",
      "│    └─InvertedBlock: 2-38                                                       [1, 64, 14, 14]           --\n",
      "│    │    └─Sequential: 3-41                                                     [1, 64, 14, 14]           14,080\n",
      "├─Sequential: 1-78                                                               --                        (recursive)\n",
      "│    └─QuantIdentity: 2-92                                                       --                        --\n",
      "│    │    └─ActQuantProxyFromInjector: 3-95                                      --                        --\n",
      "├─Sequential: 1-79                                                               --                        (recursive)\n",
      "│    └─InvertedBlock: 2-44                                                       --                        (recursive)\n",
      "│    │    └─Sequential: 3-47                                                     --                        (recursive)\n",
      "├─Sequential: 1-78                                                               --                        (recursive)\n",
      "│    └─QuantIdentity: 2-92                                                       --                        --\n",
      "│    │    └─ActQuantProxyFromInjector: 3-95                                      --                        --\n",
      "├─Sequential: 1-79                                                               --                        (recursive)\n",
      "│    └─InvertedBlock: 2-44                                                       --                        (recursive)\n",
      "│    │    └─Sequential: 3-47                                                     --                        (recursive)\n",
      "├─Sequential: 1-78                                                               --                        (recursive)\n",
      "│    └─QuantIdentity: 2-92                                                       --                        --\n",
      "│    │    └─ActQuantProxyFromInjector: 3-95                                      --                        --\n",
      "├─Sequential: 1-79                                                               --                        (recursive)\n",
      "│    └─InvertedBlock: 2-44                                                       --                        (recursive)\n",
      "│    │    └─Sequential: 3-47                                                     --                        (recursive)\n",
      "│    └─InvertedBlock: 2-45                                                       [1, 64, 14, 14]           --\n",
      "│    │    └─Sequential: 3-48                                                     [1, 64, 14, 14]           36,224\n",
      "├─Sequential: 1-78                                                               --                        (recursive)\n",
      "│    └─QuantIdentity: 2-92                                                       --                        --\n",
      "│    │    └─ActQuantProxyFromInjector: 3-95                                      --                        --\n",
      "├─Sequential: 1-79                                                               --                        (recursive)\n",
      "│    └─InvertedBlock: 2-51                                                       --                        (recursive)\n",
      "│    │    └─Sequential: 3-54                                                     --                        (recursive)\n",
      "├─Sequential: 1-78                                                               --                        (recursive)\n",
      "│    └─QuantIdentity: 2-92                                                       --                        --\n",
      "│    │    └─ActQuantProxyFromInjector: 3-95                                      --                        --\n",
      "├─Sequential: 1-79                                                               --                        (recursive)\n",
      "│    └─InvertedBlock: 2-51                                                       --                        (recursive)\n",
      "│    │    └─Sequential: 3-54                                                     --                        (recursive)\n",
      "├─Sequential: 1-78                                                               --                        (recursive)\n",
      "│    └─QuantIdentity: 2-92                                                       --                        --\n",
      "│    │    └─ActQuantProxyFromInjector: 3-95                                      --                        --\n",
      "├─Sequential: 1-79                                                               --                        (recursive)\n",
      "│    └─InvertedBlock: 2-51                                                       --                        (recursive)\n",
      "│    │    └─Sequential: 3-54                                                     --                        (recursive)\n",
      "│    └─InvertedBlock: 2-52                                                       [1, 64, 14, 14]           --\n",
      "│    │    └─Sequential: 3-55                                                     [1, 64, 14, 14]           36,224\n",
      "├─Sequential: 1-78                                                               --                        (recursive)\n",
      "│    └─QuantIdentity: 2-92                                                       --                        --\n",
      "│    │    └─ActQuantProxyFromInjector: 3-95                                      --                        --\n",
      "├─Sequential: 1-79                                                               --                        (recursive)\n",
      "│    └─InvertedBlock: 2-58                                                       --                        (recursive)\n",
      "│    │    └─Sequential: 3-61                                                     --                        (recursive)\n",
      "├─Sequential: 1-78                                                               --                        (recursive)\n",
      "│    └─QuantIdentity: 2-92                                                       --                        --\n",
      "│    │    └─ActQuantProxyFromInjector: 3-95                                      --                        --\n",
      "├─Sequential: 1-79                                                               --                        (recursive)\n",
      "│    └─InvertedBlock: 2-58                                                       --                        (recursive)\n",
      "│    │    └─Sequential: 3-61                                                     --                        (recursive)\n",
      "├─Sequential: 1-78                                                               --                        (recursive)\n",
      "│    └─QuantIdentity: 2-92                                                       --                        --\n",
      "│    │    └─ActQuantProxyFromInjector: 3-95                                      --                        --\n",
      "├─Sequential: 1-79                                                               --                        (recursive)\n",
      "│    └─InvertedBlock: 2-58                                                       --                        (recursive)\n",
      "│    │    └─Sequential: 3-61                                                     --                        (recursive)\n",
      "│    └─InvertedBlock: 2-59                                                       [1, 96, 14, 14]           --\n",
      "│    │    └─Sequential: 3-62                                                     [1, 96, 14, 14]           44,480\n",
      "├─Sequential: 1-78                                                               --                        (recursive)\n",
      "│    └─QuantIdentity: 2-92                                                       --                        --\n",
      "│    │    └─ActQuantProxyFromInjector: 3-95                                      --                        --\n",
      "├─Sequential: 1-79                                                               --                        (recursive)\n",
      "│    └─InvertedBlock: 2-65                                                       --                        (recursive)\n",
      "│    │    └─Sequential: 3-68                                                     --                        (recursive)\n",
      "├─Sequential: 1-78                                                               --                        (recursive)\n",
      "│    └─QuantIdentity: 2-92                                                       --                        --\n",
      "│    │    └─ActQuantProxyFromInjector: 3-95                                      --                        --\n",
      "├─Sequential: 1-79                                                               --                        (recursive)\n",
      "│    └─InvertedBlock: 2-65                                                       --                        (recursive)\n",
      "│    │    └─Sequential: 3-68                                                     --                        (recursive)\n",
      "├─Sequential: 1-78                                                               --                        (recursive)\n",
      "│    └─QuantIdentity: 2-92                                                       --                        --\n",
      "│    │    └─ActQuantProxyFromInjector: 3-95                                      --                        --\n",
      "├─Sequential: 1-79                                                               --                        (recursive)\n",
      "│    └─InvertedBlock: 2-65                                                       --                        (recursive)\n",
      "│    │    └─Sequential: 3-68                                                     --                        (recursive)\n",
      "│    └─InvertedBlock: 2-66                                                       [1, 96, 14, 14]           --\n",
      "│    │    └─Sequential: 3-69                                                     [1, 96, 14, 14]           78,912\n",
      "├─Sequential: 1-78                                                               --                        (recursive)\n",
      "│    └─QuantIdentity: 2-92                                                       --                        --\n",
      "│    │    └─ActQuantProxyFromInjector: 3-95                                      --                        --\n",
      "├─Sequential: 1-79                                                               --                        (recursive)\n",
      "│    └─InvertedBlock: 2-72                                                       --                        (recursive)\n",
      "│    │    └─Sequential: 3-75                                                     --                        (recursive)\n",
      "├─Sequential: 1-78                                                               --                        (recursive)\n",
      "│    └─QuantIdentity: 2-92                                                       --                        --\n",
      "│    │    └─ActQuantProxyFromInjector: 3-95                                      --                        --\n",
      "├─Sequential: 1-79                                                               --                        (recursive)\n",
      "│    └─InvertedBlock: 2-72                                                       --                        (recursive)\n",
      "│    │    └─Sequential: 3-75                                                     --                        (recursive)\n",
      "├─Sequential: 1-78                                                               --                        (recursive)\n",
      "│    └─QuantIdentity: 2-92                                                       --                        --\n",
      "│    │    └─ActQuantProxyFromInjector: 3-95                                      --                        --\n",
      "├─Sequential: 1-79                                                               --                        (recursive)\n",
      "│    └─InvertedBlock: 2-72                                                       --                        (recursive)\n",
      "│    │    └─Sequential: 3-75                                                     --                        (recursive)\n",
      "│    └─InvertedBlock: 2-73                                                       [1, 160, 7, 7]            --\n",
      "│    │    └─Sequential: 3-76                                                     [1, 160, 7, 7]            103,616\n",
      "├─Sequential: 1-78                                                               --                        (recursive)\n",
      "│    └─QuantIdentity: 2-92                                                       --                        --\n",
      "│    │    └─ActQuantProxyFromInjector: 3-95                                      --                        --\n",
      "├─Sequential: 1-79                                                               --                        (recursive)\n",
      "│    └─InvertedBlock: 2-79                                                       --                        (recursive)\n",
      "│    │    └─Sequential: 3-82                                                     --                        (recursive)\n",
      "├─Sequential: 1-78                                                               --                        (recursive)\n",
      "│    └─QuantIdentity: 2-92                                                       --                        --\n",
      "│    │    └─ActQuantProxyFromInjector: 3-95                                      --                        --\n",
      "├─Sequential: 1-79                                                               --                        (recursive)\n",
      "│    └─InvertedBlock: 2-79                                                       --                        (recursive)\n",
      "│    │    └─Sequential: 3-82                                                     --                        (recursive)\n",
      "├─Sequential: 1-78                                                               --                        (recursive)\n",
      "│    └─QuantIdentity: 2-92                                                       --                        --\n",
      "│    │    └─ActQuantProxyFromInjector: 3-95                                      --                        --\n",
      "├─Sequential: 1-79                                                               --                        (recursive)\n",
      "│    └─InvertedBlock: 2-79                                                       --                        (recursive)\n",
      "│    │    └─Sequential: 3-82                                                     --                        (recursive)\n",
      "│    └─InvertedBlock: 2-80                                                       [1, 160, 7, 7]            --\n",
      "│    │    └─Sequential: 3-83                                                     [1, 160, 7, 7]            213,440\n",
      "├─Sequential: 1-78                                                               --                        (recursive)\n",
      "│    └─QuantIdentity: 2-92                                                       --                        --\n",
      "│    │    └─ActQuantProxyFromInjector: 3-95                                      --                        --\n",
      "├─Sequential: 1-79                                                               --                        (recursive)\n",
      "│    └─InvertedBlock: 2-86                                                       --                        (recursive)\n",
      "│    │    └─Sequential: 3-89                                                     --                        (recursive)\n",
      "├─Sequential: 1-78                                                               --                        (recursive)\n",
      "│    └─QuantIdentity: 2-92                                                       --                        --\n",
      "│    │    └─ActQuantProxyFromInjector: 3-95                                      --                        --\n",
      "├─Sequential: 1-79                                                               --                        (recursive)\n",
      "│    └─InvertedBlock: 2-86                                                       --                        (recursive)\n",
      "│    │    └─Sequential: 3-89                                                     --                        (recursive)\n",
      "├─Sequential: 1-78                                                               --                        (recursive)\n",
      "│    └─QuantIdentity: 2-92                                                       --                        --\n",
      "│    │    └─ActQuantProxyFromInjector: 3-95                                      --                        --\n",
      "├─Sequential: 1-79                                                               --                        (recursive)\n",
      "│    └─InvertedBlock: 2-86                                                       --                        (recursive)\n",
      "│    │    └─Sequential: 3-89                                                     --                        (recursive)\n",
      "│    └─InvertedBlock: 2-87                                                       [1, 320, 7, 7]            --\n",
      "│    │    └─Sequential: 3-90                                                     [1, 320, 7, 7]            316,160\n",
      "├─Sequential: 1-78                                                               --                        (recursive)\n",
      "│    └─QuantIdentity: 2-92                                                       --                        --\n",
      "│    │    └─ActQuantProxyFromInjector: 3-95                                      --                        --\n",
      "├─Sequential: 1-79                                                               --                        (recursive)\n",
      "│    └─InvertedBlock: 2-93                                                       --                        (recursive)\n",
      "│    │    └─Sequential: 3-96                                                     --                        (recursive)\n",
      "├─Sequential: 1-78                                                               --                        (recursive)\n",
      "│    └─QuantIdentity: 2-92                                                       --                        --\n",
      "│    │    └─ActQuantProxyFromInjector: 3-95                                      --                        --\n",
      "├─Sequential: 1-79                                                               --                        (recursive)\n",
      "│    └─InvertedBlock: 2-93                                                       --                        (recursive)\n",
      "│    │    └─Sequential: 3-96                                                     --                        (recursive)\n",
      "├─Sequential: 1-78                                                               --                        (recursive)\n",
      "│    └─QuantIdentity: 2-92                                                       --                        --\n",
      "│    │    └─ActQuantProxyFromInjector: 3-95                                      --                        --\n",
      "├─Sequential: 1-79                                                               --                        (recursive)\n",
      "│    └─InvertedBlock: 2-93                                                       --                        (recursive)\n",
      "│    │    └─Sequential: 3-96                                                     --                        (recursive)\n",
      "├─Sequential: 1-80                                                               [1, 640, 7, 7]            --\n",
      "│    └─QuantConv2d: 2-94                                                         [1, 640, 7, 7]            204,800\n",
      "│    │    └─ActQuantProxyFromInjector: 3-97                                      [1, 320, 7, 7]            --\n",
      "│    │    └─WeightQuantProxyFromInjector: 3-98                                   [640, 320, 1, 1]          --\n",
      "│    │    └─ActQuantProxyFromInjector: 3-99                                      [1, 640, 7, 7]            --\n",
      "│    └─BatchNorm2d: 2-95                                                         [1, 640, 7, 7]            1,280\n",
      "│    └─QuantIdentity: 2-96                                                       [1, 640, 7, 7]            --\n",
      "│    │    └─ActQuantProxyFromInjector: 3-100                                     [1, 640, 7, 7]            --\n",
      "│    │    └─ActQuantProxyFromInjector: 3-101                                     [1, 640, 7, 7]            --\n",
      "├─TruncAvgPool2d: 1-81                                                           [1, 640, 1, 1]            --\n",
      "│    └─TruncQuantProxyFromInjector: 2-97                                         [1, 640, 1, 1]            --\n",
      "│    │    └─TruncIntQuant: 3-102                                                 [1, 640, 1, 1]            --\n",
      "├─QuantLinear: 1-82                                                              [1, 2]                    2\n",
      "│    └─ActQuantProxyFromInjector: 2-98                                           [1, 640]                  --\n",
      "│    └─WeightQuantProxyFromInjector: 2-99                                        [2, 640]                  --\n",
      "│    │    └─RescalingIntQuant: 3-103                                             [2, 640]                  1,280\n",
      "│    └─BiasQuantProxyFromInjector: 2-100                                         [2]                       --\n",
      "│    │    └─PrescaledRestrictIntQuant: 3-104                                     [2]                       --\n",
      "│    └─ActQuantProxyFromInjector: 2-101                                          [1, 2]                    --\n",
      "==================================================================================================================================\n",
      "Total params: 2,469,730\n",
      "Trainable params: 2,469,730\n",
      "Non-trainable params: 0\n",
      "Total mult-adds (M): 0.02\n",
      "==================================================================================================================================\n",
      "Input size (MB): 0.60\n",
      "Forward/backward pass size (MB): 34.57\n",
      "Params size (MB): 0.07\n",
      "Estimated Total Size (MB): 35.24\n",
      "==================================================================================================================================\n"
     ]
    }
   ],
   "source": [
    "print(summary(model, input_size=(1, config.NUM_CHANNELS, config.IMG_H, config.IMG_W)))"
   ]
  },
  {
   "cell_type": "markdown",
   "id": "61d74ed9-984a-4f66-8121-d1152fecad98",
   "metadata": {},
   "source": [
    "# Loss Function"
   ]
  },
  {
   "cell_type": "code",
   "execution_count": 14,
   "id": "6efb3c84-4076-4694-8505-2c3c0ee9aa1e",
   "metadata": {},
   "outputs": [
    {
     "name": "stdout",
     "output_type": "stream",
     "text": [
      "Loss Function: BCE\n",
      "Smoke Precision Weight: 0.8\n"
     ]
    }
   ],
   "source": [
    "if config.LOSS_FN == \"BCE\":\n",
    "    print(f'Loss Function: BCE')\n",
    "    logger.info(f'\\nLoss Function: BCE')\n",
    "    print(f'Smoke Precision Weight: {config.SMOKE_PRECISION_WEIGHT}')\n",
    "    logger.info(f'Smoke Precision Weight: {config.SMOKE_PRECISION_WEIGHT}')\n",
    "    loss_fn = loss.BCE_LOSS(device=config.DEVICE, smoke_precision_weight=config.SMOKE_PRECISION_WEIGHT)\n",
    "else:\n",
    "    print(\"Wrong loss function\")\n",
    "    logger.info(\"Wrong loss function\")\n",
    "    raise SystemExit(\"Wrong loss function\")"
   ]
  },
  {
   "cell_type": "markdown",
   "id": "d7f25227-bbcd-43e9-a41b-70a324900a21",
   "metadata": {},
   "source": [
    "# Loggers and Plotters for Losses and Metrics"
   ]
  },
  {
   "cell_type": "code",
   "execution_count": 15,
   "id": "bb75d214-f372-4aee-a196-c43276145a66",
   "metadata": {},
   "outputs": [],
   "source": [
    "train_losses_logger = utils.LogLosses()\n",
    "train_metrics_logger = utils.LogMetrics()\n",
    "lr_logger = utils.LogLR(log_path=config.PLOTS_FOLDER)\n",
    "\n",
    "val_losses_logger = utils.LogLosses()\n",
    "val_metrics_logger = utils.LogMetrics()\n",
    "\n",
    "loss_plotter = utils.PlotMetrics(log_path=config.PLOTS_FOLDER, model_name=config.MODEL, loss_or_metric='Loss')\n",
    "metrics_plotter = utils.PlotMetrics(log_path=config.PLOTS_FOLDER, model_name=config.MODEL, loss_or_metric='Metric')"
   ]
  },
  {
   "cell_type": "markdown",
   "id": "80f38d11-6099-48cd-9f95-f5b0be87d804",
   "metadata": {},
   "source": [
    "# Main Function to Train"
   ]
  },
  {
   "cell_type": "code",
   "execution_count": 16,
   "id": "180683fc-5a55-4f1c-9d6e-c8ffa10be16a",
   "metadata": {},
   "outputs": [],
   "source": [
    "def train_loop(model, start_epoch=0, epochs_to_train=config.EPOCHS):\n",
    "\n",
    "    ''' ==============================================================\n",
    "                                TRAINING LOOP\n",
    "    ============================================================== '''\n",
    "    start = datetime.datetime.now()\n",
    "    start_time = start.strftime(\"%H:%M:%S\")\n",
    "    print(f'\\n***Start Training: {start_time}\\n')\n",
    "    logger.info(f'\\n***Start Training: {start_time}\\n')\n",
    "    \n",
    "    # Start with infinite validation loss\n",
    "    best_valid_loss = np.inf\n",
    "    best_smoke_precision = 0. #torch.tensor([0.])\n",
    "    smoke_f1_min_save = 0.9 #torch.tensor([0.9])\n",
    "    best_mean_f1 = 0.\n",
    "\n",
    "    if start_epoch == 0:\n",
    "        epochs_plot = []\n",
    "    else:\n",
    "        epochs_plot = [i for i in range(start_epoch)]    \n",
    "\n",
    "    end_epoch = start_epoch + epochs_to_train\n",
    "        \n",
    "    for epoch in range(start_epoch, end_epoch):\n",
    "\n",
    "        print(f'\\n=== EPOCH {epoch}/{end_epoch-1} ===')\n",
    "        logger.info(f'\\n=== EPOCH {epoch}/{end_epoch-1} ===')\n",
    "        \n",
    "        #====================== TRAINING ========================#\n",
    "        current_lr = train_epoch.get_lr(optimizer=optimizer)\n",
    "        logger.info(f'Learning Rate = {current_lr}\\n')\n",
    "        lr_logger.log_lr(current_lr)\n",
    "                \n",
    "        train_losses, train_metrics = train_epoch.train_fn(\n",
    "            loader=train_loader, \n",
    "            model=model, \n",
    "            optimizer=optimizer, \n",
    "            loss_fn=loss_fn,\n",
    "            device=config.DEVICE)\n",
    "        \n",
    "        train_losses_logger.update_metrics(train_losses)\n",
    "        train_metrics_logger.update_metrics(train_metrics)\n",
    "                \n",
    "        logger.info(utils.print_metrics_to_logger(\"TRAIN Stats\", train_losses, train_metrics))\n",
    "        \n",
    "        #===================== VALIDATING =======================#\n",
    "        with torch.no_grad():\n",
    "            val_losses, val_metrics = val_epoch.eval_fn(\n",
    "                loader=val_loader, \n",
    "                model=model,                         \n",
    "                loss_fn=loss_fn,\n",
    "                device=config.DEVICE)\n",
    "            \n",
    "            scheduler.step(val_losses['Total'])\n",
    "            \n",
    "            val_losses_logger.update_metrics(val_losses)\n",
    "            val_metrics_logger.update_metrics(val_metrics)\n",
    "\n",
    "            logger.info(utils.print_metrics_to_logger(\"VAL Stats\", val_losses, val_metrics))\n",
    "            \n",
    "        epochs_plot.append(epoch)\n",
    "\n",
    "        loss_plotter.plot_all_metrics(\n",
    "            train_losses_logger.get_metrics(),\n",
    "            val_losses_logger.get_metrics(),\n",
    "            epochs_plot)\n",
    "\n",
    "        metrics_plotter.plot_all_metrics(\n",
    "            train_metrics_logger.get_metrics(),\n",
    "            val_metrics_logger.get_metrics(),\n",
    "            epochs_plot)\n",
    "\n",
    "        lr_logger.plot_lr(epochs_plot)\n",
    "        #======================= SAVING =========================#\n",
    "        if ( (epoch+1) % 5 ) == 0:\n",
    "            save_name = config.WEIGHTS_FOLDER + config.MODEL + '_classifier__5epoch.pt'\n",
    "            utils.save_checkpoint(epoch, model, optimizer, scheduler, save_name) \n",
    "            \n",
    "        if best_valid_loss > val_losses['Total']:\n",
    "            best_valid_loss = val_losses['Total']\n",
    "            print(f\"\\nSaving model with new best validation loss: {best_valid_loss:.4f}\")\n",
    "            logger.info(f\"Saving model with new best validation loss: {best_valid_loss:.4f}\")\n",
    "            save_name = config.WEIGHTS_FOLDER + config.MODEL + '_classifier__' + 'best_loss'  + '.pt'\n",
    "            utils.save_checkpoint(epoch, model, optimizer, scheduler, save_name) \n",
    "            save_onnx = config.ONNX_FOLDER + config.MODEL + '_classifier__' + 'best_loss'  #+ '.onnx'\n",
    "            utils.export_onnx(model, (1, config.NUM_CHANNELS, config.IMG_H, config.IMG_W), save_onnx, config.DEVICE)\n",
    "\n",
    "        # # Save model if precision increases and F1 > 0.9\n",
    "        # if ( best_smoke_precision < val_metrics['Precision'][0] ) and ( val_metrics['F1'][0] > smoke_f1_min_save ) :\n",
    "        #     best_smoke_precision = val_metrics['Precision'][0]\n",
    "        #     print(f\"\\nSaving model with new best smoke precision: {best_smoke_precision:.4f}\")\n",
    "        #     logger.info(f\"Saving model with new best smoke precision: {best_smoke_precision:.4f}\")\n",
    "        #     save_precision_name = f'best_smoke__precision={np.round(best_smoke_precision, decimals=4)}__epoch={epoch}'\n",
    "        #     save_name = config.WEIGHTS_FOLDER + config.MODEL + '_classifier__' + save_precision_name + '.pt'\n",
    "        #     utils.save_checkpoint(epoch, model, optimizer, scheduler, save_name)  \n",
    "        #     save_onnx = config.ONNX_FOLDER + config.MODEL + '_classifier__' + save_precision_name #+ '.onnx'\n",
    "        #     utils.export_onnx(model, (1, config.NUM_CHANNELS, config.IMG_H, config.IMG_W), save_onnx, config.DEVICE)\n",
    "            \n",
    "        # Save model if precision > 0.9 and recall > 0.9\n",
    "        if ( val_metrics['Precision'][0] > 0.9 ) and ( val_metrics['Recall'][0] > 0.9 ) :\n",
    "            print(\"\\nSaving model with precision > 0.9 and recall > 0.9\")\n",
    "            logger.info(\"Saving model with precision > 0.9 and recall > 0.9\")\n",
    "            save_pre_name = f'smoke__precision={np.round(val_metrics[\"Precision\"][0], decimals=4)}__' \n",
    "            save_rec_name = f'recall={np.round(val_metrics[\"Recall\"][0], decimals=4)}__'\n",
    "            save_pre_rec_name = save_pre_name + save_rec_name + f'epoch={epoch}'\n",
    "            save_name = config.WEIGHTS_FOLDER + config.MODEL + '_classifier__' + save_pre_rec_name + '.pt'\n",
    "            utils.save_checkpoint(epoch, model, optimizer, scheduler, save_name) \n",
    "            save_onnx = config.ONNX_FOLDER + config.MODEL + '_classifier__' + save_pre_rec_name #+ '.onnx'\n",
    "            utils.export_onnx(model, (1, config.NUM_CHANNELS, config.IMG_H, config.IMG_W), save_onnx, config.DEVICE)\n",
    "\n",
    "        # Save model if best mean F1 increases\n",
    "        val_f1_mean = (val_metrics['F1'][0] + val_metrics['F1'][1]) / 2\n",
    "        if (val_f1_mean > best_mean_f1) :\n",
    "            best_mean_f1 = val_f1_mean\n",
    "            print(f'Saving model with best Mean F1: {best_mean_f1:.4f}')\n",
    "            logger.info(f'Saving model with best Mean F1: {best_mean_f1:.4f}')\n",
    "            save_f1_name = 'best_mean_F1'\n",
    "            save_name = config.WEIGHTS_FOLDER + config.MODEL + '_classifier__' + save_f1_name + '.pt'\n",
    "            utils.save_checkpoint(epoch, model, optimizer, scheduler, save_name) \n",
    "            save_onnx = config.ONNX_FOLDER + config.MODEL + '_classifier__' + save_f1_name #+ '.onnx'\n",
    "            utils.export_onnx(model, (1, config.NUM_CHANNELS, config.IMG_H, config.IMG_W), save_onnx, config.DEVICE)\n",
    "        \n",
    "    logger.info('Saving last model')   \n",
    "    torch.save(model.state_dict(), config.WEIGHTS_FOLDER + 'last_' + config.MODEL + '_classifier.pt') \n",
    "    \n",
    "    #======================= FINISH =========================#\n",
    "    end = datetime.datetime.now()\n",
    "    end_time = end.strftime(\"%H:%M:%S\")\n",
    "    print(f'\\n***Script finished: {end_time}\\n')  \n",
    "    print(f'Time elapsed: {end-start}')\n",
    "    logger.info(f'\\n***Script finished: {end_time}\\n')  \n",
    "    logger.info(f'Time elapsed: {end-start}')\n",
    "    \n",
    "    return model"
   ]
  },
  {
   "cell_type": "code",
   "execution_count": 17,
   "id": "70cfebac-da9f-4c54-98da-0fccfdf9c7e4",
   "metadata": {},
   "outputs": [],
   "source": [
    "# print(len(val_losses_logger.total))"
   ]
  },
  {
   "cell_type": "markdown",
   "id": "7eb71ba5-1f21-4a7b-9ebe-6b50a5d38ed8",
   "metadata": {},
   "source": [
    "# Training Loop"
   ]
  },
  {
   "cell_type": "code",
   "execution_count": 18,
   "id": "dd3a8768-03a8-44f3-829f-58045dbfea7b",
   "metadata": {
    "editable": true,
    "slideshow": {
     "slide_type": ""
    },
    "tags": []
   },
   "outputs": [
    {
     "name": "stdout",
     "output_type": "stream",
     "text": [
      "Starting script\n",
      "\n",
      "\n",
      "***Start Training: 16:30:16\n",
      "\n",
      "\n",
      "=== EPOCH 0/99 ===\n",
      "Learning Rate = 0.001\n",
      "\n"
     ]
    },
    {
     "name": "stderr",
     "output_type": "stream",
     "text": [
      "Training:  34%|███████████████████████████████████████████████▍                                                                                           | 626/1836 [02:03<02:39,  7.57it/s]Corrupt JPEG data: 1 extraneous bytes before marker 0xd9\n",
      "Training:  42%|██████████████████████████████████████████████████████████▋                                                                                | 775/1836 [02:32<02:27,  7.17it/s]Corrupt JPEG data: 1 extraneous bytes before marker 0xd9\n",
      "Training:  44%|████████████████████████████████████████████████████████████▍                                                                              | 799/1836 [02:37<03:18,  5.24it/s]Warning: unknown JFIF revision number 32.23\n",
      "Training:  45%|██████████████████████████████████████████████████████████████▋                                                                            | 828/1836 [02:43<03:44,  4.49it/s]Corrupt JPEG data: 1 extraneous bytes before marker 0xd9\n",
      "Training:  75%|████████████████████████████████████████████████████████████████████████████████████████████████████████                                  | 1384/1836 [04:30<00:56,  8.01it/s]Corrupt JPEG data: 1 extraneous bytes before marker 0xd9\n",
      "Training: 100%|██████████████████████████████████████████████████████████████████████████████████████████████████████████████████████████████████████████| 1836/1836 [05:58<00:00,  5.12it/s]\n"
     ]
    },
    {
     "name": "stdout",
     "output_type": "stream",
     "text": [
      "Total Loss  |Smoke Loss  |Fire Loss   \n",
      "------------ ------------ ------------\n",
      "143.579     |68.002      |75.577      \n",
      "\n"
     ]
    },
    {
     "name": "stderr",
     "output_type": "stream",
     "text": [
      "Validating: 100%|██████████████████████████████████████████████████████████████████████████████████████████████████████████████████████████████████████████| 380/380 [00:42<00:00,  8.87it/s]\n"
     ]
    },
    {
     "name": "stdout",
     "output_type": "stream",
     "text": [
      "Total Loss  |Smoke Loss  |Fire Loss   \n",
      "------------ ------------ ------------\n",
      "89.920      |40.761      |49.159      \n",
      "SMOKE -> Precision: 0.4973 - Recall: 0.1039 - Accuracy: 0.5280 - F1: 0.1719\n",
      "FIRE -> Precision: 0.3121 - Recall: 0.0658 - Accuracy: 0.6501 - F1: 0.1087\n",
      "\n",
      "Saving model with new best validation loss: 89.9198\n",
      "Model exported to ONNX: experiments_brevitas/test_v03_1M_w1a1_full_ds/onnx/MY_MBLNET_V2_classifier__best_loss\n",
      "Saving model with best Mean F1: 0.1403\n",
      "Model exported to ONNX: experiments_brevitas/test_v03_1M_w1a1_full_ds/onnx/MY_MBLNET_V2_classifier__best_mean_F1\n",
      "\n",
      "=== EPOCH 1/99 ===\n",
      "Learning Rate = 0.001\n",
      "\n"
     ]
    },
    {
     "name": "stderr",
     "output_type": "stream",
     "text": [
      "Training:   6%|████████▍                                                                                                                                  | 112/1836 [00:23<03:51,  7.43it/s]Corrupt JPEG data: 1 extraneous bytes before marker 0xd9\n",
      "Training:   8%|██████████▉                                                                                                                                | 145/1836 [00:29<04:13,  6.67it/s]Corrupt JPEG data: 1 extraneous bytes before marker 0xd9\n",
      "Training:  17%|███████████████████████▋                                                                                                                   | 313/1836 [01:03<03:16,  7.77it/s]Warning: unknown JFIF revision number 32.23\n",
      "Training:  38%|█████████████████████████████████████████████████████▏                                                                                     | 703/1836 [02:20<02:56,  6.41it/s]Corrupt JPEG data: 1 extraneous bytes before marker 0xd9\n",
      "Training:  91%|█████████████████████████████████████████████████████████████████████████████████████████████████████████████████████████████▋            | 1673/1836 [05:29<00:54,  2.98it/s]Corrupt JPEG data: 1 extraneous bytes before marker 0xd9\n",
      "Training: 100%|██████████████████████████████████████████████████████████████████████████████████████████████████████████████████████████████████████████| 1836/1836 [06:01<00:00,  5.07it/s]\n"
     ]
    },
    {
     "name": "stdout",
     "output_type": "stream",
     "text": [
      "Total Loss  |Smoke Loss  |Fire Loss   \n",
      "------------ ------------ ------------\n",
      "314.347     |160.513     |153.834     \n",
      "\n"
     ]
    },
    {
     "name": "stderr",
     "output_type": "stream",
     "text": [
      "Validating: 100%|██████████████████████████████████████████████████████████████████████████████████████████████████████████████████████████████████████████| 380/380 [00:44<00:00,  8.61it/s]\n"
     ]
    },
    {
     "name": "stdout",
     "output_type": "stream",
     "text": [
      "Total Loss  |Smoke Loss  |Fire Loss   \n",
      "------------ ------------ ------------\n",
      "1919.706    |722.861     |1196.845    \n",
      "SMOKE -> Precision: 0.0000 - Recall: 0.0000 - Accuracy: 0.5286 - F1: 0.0000\n",
      "FIRE -> Precision: 0.3242 - Recall: 1.0000 - Accuracy: 0.3242 - F1: 0.4896\n",
      "Saving model with best Mean F1: 0.2448\n",
      "Model exported to ONNX: experiments_brevitas/test_v03_1M_w1a1_full_ds/onnx/MY_MBLNET_V2_classifier__best_mean_F1\n",
      "\n",
      "=== EPOCH 2/99 ===\n",
      "Learning Rate = 0.001\n",
      "\n"
     ]
    },
    {
     "name": "stderr",
     "output_type": "stream",
     "text": [
      "Training:  38%|████████████████████████████████████████████████████▊                                                                                      | 697/1836 [02:19<03:17,  5.77it/s]Corrupt JPEG data: 1 extraneous bytes before marker 0xd9\n",
      "Training:  47%|█████████████████████████████████████████████████████████████████▋                                                                         | 868/1836 [02:51<03:45,  4.29it/s]Corrupt JPEG data: 1 extraneous bytes before marker 0xd9\n",
      "Training:  59%|█████████████████████████████████████████████████████████████████████████████████▏                                                        | 1080/1836 [03:28<01:37,  7.76it/s]Warning: unknown JFIF revision number 32.23\n",
      "Training:  74%|█████████████████████████████████████████████████████████████████████████████████████████████████████▋                                    | 1353/1836 [04:15<01:13,  6.53it/s]Corrupt JPEG data: 1 extraneous bytes before marker 0xd9\n",
      "Training:  75%|███████████████████████████████████████████████████████████████████████████████████████████████████████▉                                  | 1383/1836 [04:21<01:02,  7.26it/s]Corrupt JPEG data: 1 extraneous bytes before marker 0xd9\n",
      "Training: 100%|██████████████████████████████████████████████████████████████████████████████████████████████████████████████████████████████████████████| 1836/1836 [05:39<00:00,  5.40it/s]\n"
     ]
    },
    {
     "name": "stdout",
     "output_type": "stream",
     "text": [
      "Total Loss  |Smoke Loss  |Fire Loss   \n",
      "------------ ------------ ------------\n",
      "716.785     |370.249     |346.537     \n",
      "\n"
     ]
    },
    {
     "name": "stderr",
     "output_type": "stream",
     "text": [
      "Validating: 100%|██████████████████████████████████████████████████████████████████████████████████████████████████████████████████████████████████████████| 380/380 [00:35<00:00, 10.60it/s]\n"
     ]
    },
    {
     "name": "stdout",
     "output_type": "stream",
     "text": [
      "Total Loss  |Smoke Loss  |Fire Loss   \n",
      "------------ ------------ ------------\n",
      "389.402     |191.279     |198.122     \n",
      "SMOKE -> Precision: 0.4665 - Recall: 0.7368 - Accuracy: 0.4787 - F1: 0.5713\n",
      "FIRE -> Precision: 0.3665 - Recall: 0.0164 - Accuracy: 0.6720 - F1: 0.0313\n",
      "Saving model with best Mean F1: 0.3013\n",
      "Model exported to ONNX: experiments_brevitas/test_v03_1M_w1a1_full_ds/onnx/MY_MBLNET_V2_classifier__best_mean_F1\n",
      "\n",
      "=== EPOCH 3/99 ===\n",
      "Learning Rate = 0.001\n",
      "\n"
     ]
    },
    {
     "name": "stderr",
     "output_type": "stream",
     "text": [
      "Training:  44%|█████████████████████████████████████████████████████████████                                                                              | 807/1836 [02:31<02:26,  7.03it/s]Warning: unknown JFIF revision number 32.23\n",
      "Training:  63%|██████████████████████████████████████████████████████████████████████████████████████▉                                                   | 1157/1836 [03:34<02:01,  5.61it/s]Corrupt JPEG data: 1 extraneous bytes before marker 0xd9\n",
      "Training:  74%|█████████████████████████████████████████████████████████████████████████████████████████████████████▉                                    | 1357/1836 [04:09<01:13,  6.50it/s]Corrupt JPEG data: 1 extraneous bytes before marker 0xd9\n",
      "Training:  90%|████████████████████████████████████████████████████████████████████████████████████████████████████████████████████████████▍             | 1656/1836 [04:58<00:38,  4.69it/s]Corrupt JPEG data: 1 extraneous bytes before marker 0xd9\n",
      "Training:  99%|████████████████████████████████████████████████████████████████████████████████████████████████████████████████████████████████████████▍ | 1815/1836 [05:24<00:03,  6.20it/s]Corrupt JPEG data: 1 extraneous bytes before marker 0xd9\n",
      "Training: 100%|██████████████████████████████████████████████████████████████████████████████████████████████████████████████████████████████████████████| 1836/1836 [05:27<00:00,  5.61it/s]\n"
     ]
    },
    {
     "name": "stdout",
     "output_type": "stream",
     "text": [
      "Total Loss  |Smoke Loss  |Fire Loss   \n",
      "------------ ------------ ------------\n",
      "717.988     |350.773     |367.215     \n",
      "\n"
     ]
    },
    {
     "name": "stderr",
     "output_type": "stream",
     "text": [
      "Validating: 100%|██████████████████████████████████████████████████████████████████████████████████████████████████████████████████████████████████████████| 380/380 [00:36<00:00, 10.42it/s]\n"
     ]
    },
    {
     "name": "stdout",
     "output_type": "stream",
     "text": [
      "Total Loss  |Smoke Loss  |Fire Loss   \n",
      "------------ ------------ ------------\n",
      "1796.202    |579.394     |1216.809    \n",
      "SMOKE -> Precision: 0.4702 - Recall: 0.8234 - Accuracy: 0.4793 - F1: 0.5985\n",
      "FIRE -> Precision: 0.3242 - Recall: 1.0000 - Accuracy: 0.3242 - F1: 0.4896\n",
      "Saving model with best Mean F1: 0.5441\n",
      "Model exported to ONNX: experiments_brevitas/test_v03_1M_w1a1_full_ds/onnx/MY_MBLNET_V2_classifier__best_mean_F1\n",
      "\n",
      "=== EPOCH 4/99 ===\n",
      "Learning Rate = 0.0008\n",
      "\n"
     ]
    },
    {
     "name": "stderr",
     "output_type": "stream",
     "text": [
      "Training:   9%|███████████▉                                                                                                                               | 157/1836 [00:29<04:50,  5.79it/s]Corrupt JPEG data: 1 extraneous bytes before marker 0xd9\n",
      "Training:  45%|██████████████████████████████████████████████████████████████▊                                                                            | 829/1836 [02:26<02:06,  7.98it/s]Corrupt JPEG data: 1 extraneous bytes before marker 0xd9\n",
      "Training:  48%|███████████████████████████████████████████████████████████████████                                                                        | 885/1836 [02:37<03:15,  4.86it/s]Warning: unknown JFIF revision number 32.23\n",
      "Training:  61%|████████████████████████████████████████████████████████████████████████████████████▍                                                     | 1124/1836 [03:20<01:31,  7.82it/s]Corrupt JPEG data: 1 extraneous bytes before marker 0xd9\n",
      "Training:  87%|████████████████████████████████████████████████████████████████████████████████████████████████████████████████████████                  | 1597/1836 [04:40<00:33,  7.10it/s]Corrupt JPEG data: 1 extraneous bytes before marker 0xd9\n",
      "Training: 100%|██████████████████████████████████████████████████████████████████████████████████████████████████████████████████████████████████████████| 1836/1836 [05:22<00:00,  5.70it/s]\n"
     ]
    },
    {
     "name": "stdout",
     "output_type": "stream",
     "text": [
      "Total Loss  |Smoke Loss  |Fire Loss   \n",
      "------------ ------------ ------------\n",
      "516.633     |258.026     |258.606     \n",
      "\n"
     ]
    },
    {
     "name": "stderr",
     "output_type": "stream",
     "text": [
      "Validating: 100%|██████████████████████████████████████████████████████████████████████████████████████████████████████████████████████████████████████████| 380/380 [00:35<00:00, 10.69it/s]\n"
     ]
    },
    {
     "name": "stdout",
     "output_type": "stream",
     "text": [
      "Total Loss  |Smoke Loss  |Fire Loss   \n",
      "------------ ------------ ------------\n",
      "594.979     |342.930     |252.049     \n",
      "SMOKE -> Precision: 0.4715 - Recall: 0.9996 - Accuracy: 0.4717 - F1: 0.6408\n",
      "FIRE -> Precision: 0.0000 - Recall: 0.0000 - Accuracy: 0.6758 - F1: 0.0000\n",
      "\n",
      "=== EPOCH 5/99 ===\n",
      "Learning Rate = 0.0008\n",
      "\n"
     ]
    },
    {
     "name": "stderr",
     "output_type": "stream",
     "text": [
      "Training:  20%|███████████████████████████▋                                                                                                               | 365/1836 [01:05<03:48,  6.43it/s]Corrupt JPEG data: 1 extraneous bytes before marker 0xd9\n",
      "Training:  24%|█████████████████████████████████▌                                                                                                         | 443/1836 [01:20<05:17,  4.39it/s]Warning: unknown JFIF revision number 32.23\n",
      "Training:  52%|████████████████████████████████████████████████████████████████████████▌                                                                  | 959/1836 [02:51<02:12,  6.60it/s]Corrupt JPEG data: 1 extraneous bytes before marker 0xd9\n",
      "Training:  77%|██████████████████████████████████████████████████████████████████████████████████████████████████████████▏                               | 1413/1836 [07:00<02:53,  2.44it/s]Corrupt JPEG data: 1 extraneous bytes before marker 0xd9\n",
      "Training:  83%|█████████████████████████████████████████████████████████████████████████████████████████████████████████████████▉                        | 1516/1836 [08:09<03:58,  1.34it/s]Corrupt JPEG data: 1 extraneous bytes before marker 0xd9\n",
      "Training: 100%|██████████████████████████████████████████████████████████████████████████████████████████████████████████████████████████████████████████| 1836/1836 [11:47<00:00,  2.59it/s]\n"
     ]
    },
    {
     "name": "stdout",
     "output_type": "stream",
     "text": [
      "Total Loss  |Smoke Loss  |Fire Loss   \n",
      "------------ ------------ ------------\n",
      "449.757     |241.442     |208.315     \n",
      "\n"
     ]
    },
    {
     "name": "stderr",
     "output_type": "stream",
     "text": [
      "Validating: 100%|██████████████████████████████████████████████████████████████████████████████████████████████████████████████████████████████████████████| 380/380 [00:54<00:00,  7.00it/s]\n"
     ]
    },
    {
     "name": "stdout",
     "output_type": "stream",
     "text": [
      "Total Loss  |Smoke Loss  |Fire Loss   \n",
      "------------ ------------ ------------\n",
      "444.539     |145.849     |298.690     \n",
      "SMOKE -> Precision: 0.4702 - Recall: 0.8458 - Accuracy: 0.4780 - F1: 0.6044\n",
      "FIRE -> Precision: 0.3206 - Recall: 0.6643 - Accuracy: 0.4349 - F1: 0.4325\n",
      "\n",
      "=== EPOCH 6/99 ===\n",
      "Learning Rate = 0.0008\n",
      "\n"
     ]
    },
    {
     "name": "stderr",
     "output_type": "stream",
     "text": [
      "Training:   0%|                                                                                                                                                     | 0/1836 [00:00<?, ?it/s]Corrupt JPEG data: 1 extraneous bytes before marker 0xd9\n",
      "Training:  18%|████████████████████████▍                                                                                                                  | 322/1836 [02:28<06:37,  3.81it/s]Warning: unknown JFIF revision number 32.23\n",
      "Training:  61%|███████████████████████████████████████████████████████████████████████████████████▌                                                      | 1112/1836 [08:42<02:56,  4.09it/s]Corrupt JPEG data: 1 extraneous bytes before marker 0xd9\n",
      "Training:  72%|███████████████████████████████████████████████████████████████████████████████████████████████████▏                                      | 1319/1836 [10:23<05:48,  1.49it/s]Corrupt JPEG data: 1 extraneous bytes before marker 0xd9\n",
      "Training:  90%|███████████████████████████████████████████████████████████████████████████████████████████████████████████████████████████▋              | 1645/1836 [12:47<00:53,  3.59it/s]Corrupt JPEG data: 1 extraneous bytes before marker 0xd9\n",
      "Training: 100%|██████████████████████████████████████████████████████████████████████████████████████████████████████████████████████████████████████████| 1836/1836 [14:06<00:00,  2.17it/s]\n"
     ]
    },
    {
     "name": "stdout",
     "output_type": "stream",
     "text": [
      "Total Loss  |Smoke Loss  |Fire Loss   \n",
      "------------ ------------ ------------\n",
      "437.208     |224.757     |212.451     \n",
      "\n"
     ]
    },
    {
     "name": "stderr",
     "output_type": "stream",
     "text": [
      "Validating: 100%|██████████████████████████████████████████████████████████████████████████████████████████████████████████████████████████████████████████| 380/380 [00:42<00:00,  8.88it/s]\n"
     ]
    },
    {
     "name": "stdout",
     "output_type": "stream",
     "text": [
      "Total Loss  |Smoke Loss  |Fire Loss   \n",
      "------------ ------------ ------------\n",
      "1362.372    |1194.229    |168.143     \n",
      "SMOKE -> Precision: 0.4714 - Recall: 1.0000 - Accuracy: 0.4714 - F1: 0.6408\n",
      "FIRE -> Precision: 0.3272 - Recall: 0.2560 - Accuracy: 0.5882 - F1: 0.2872\n",
      "\n",
      "=== EPOCH 7/99 ===\n",
      "Learning Rate = 0.00064\n",
      "\n"
     ]
    },
    {
     "name": "stderr",
     "output_type": "stream",
     "text": [
      "Training:  15%|████████████████████▋                                                                                                                      | 273/1836 [00:55<05:59,  4.35it/s]Corrupt JPEG data: 1 extraneous bytes before marker 0xd9\n",
      "Training:  17%|███████████████████████▎                                                                                                                   | 308/1836 [01:03<07:11,  3.54it/s]Corrupt JPEG data: 1 extraneous bytes before marker 0xd9\n",
      "Training:  37%|███████████████████████████████████████████████████▏                                                                                       | 676/1836 [02:16<04:07,  4.68it/s]Corrupt JPEG data: 1 extraneous bytes before marker 0xd9\n",
      "Training:  43%|███████████████████████████████████████████████████████████▍                                                                               | 785/1836 [02:37<03:06,  5.63it/s]Corrupt JPEG data: 1 extraneous bytes before marker 0xd9\n",
      "Training:  68%|█████████████████████████████████████████████████████████████████████████████████████████████▉                                            | 1250/1836 [04:07<01:19,  7.35it/s]Warning: unknown JFIF revision number 32.23\n",
      "Training: 100%|██████████████████████████████████████████████████████████████████████████████████████████████████████████████████████████████████████████| 1836/1836 [06:01<00:00,  5.08it/s]\n"
     ]
    },
    {
     "name": "stdout",
     "output_type": "stream",
     "text": [
      "Total Loss  |Smoke Loss  |Fire Loss   \n",
      "------------ ------------ ------------\n",
      "356.712     |180.677     |176.035     \n",
      "\n"
     ]
    },
    {
     "name": "stderr",
     "output_type": "stream",
     "text": [
      "Validating: 100%|██████████████████████████████████████████████████████████████████████████████████████████████████████████████████████████████████████████| 380/380 [00:43<00:00,  8.84it/s]\n"
     ]
    },
    {
     "name": "stdout",
     "output_type": "stream",
     "text": [
      "Total Loss  |Smoke Loss  |Fire Loss   \n",
      "------------ ------------ ------------\n",
      "427.639     |55.318      |372.321     \n",
      "SMOKE -> Precision: 0.4729 - Recall: 0.7254 - Accuracy: 0.4894 - F1: 0.5726\n",
      "FIRE -> Precision: 0.3240 - Recall: 0.9807 - Accuracy: 0.3306 - F1: 0.4871\n",
      "\n",
      "=== EPOCH 8/99 ===\n",
      "Learning Rate = 0.00064\n",
      "\n"
     ]
    },
    {
     "name": "stderr",
     "output_type": "stream",
     "text": [
      "Training:  37%|███████████████████████████████████████████████████▌                                                                                       | 681/1836 [02:14<02:56,  6.56it/s]Corrupt JPEG data: 1 extraneous bytes before marker 0xd9\n",
      "Training:  39%|██████████████████████████████████████████████████████▊                                                                                    | 724/1836 [02:23<03:27,  5.36it/s]Corrupt JPEG data: 1 extraneous bytes before marker 0xd9\n",
      "Training:  48%|██████████████████████████████████████████████████████████████████▌                                                                        | 880/1836 [02:53<02:15,  7.06it/s]Corrupt JPEG data: 1 extraneous bytes before marker 0xd9\n",
      "Training:  52%|████████████████████████████████████████████████████████████████████████▊                                                                  | 962/1836 [03:10<02:38,  5.51it/s]Warning: unknown JFIF revision number 32.23\n",
      "Training:  92%|███████████████████████████████████████████████████████████████████████████████████████████████████████████████████████████████▎          | 1693/1836 [05:33<00:29,  4.85it/s]Corrupt JPEG data: 1 extraneous bytes before marker 0xd9\n",
      "Training: 100%|██████████████████████████████████████████████████████████████████████████████████████████████████████████████████████████████████████████| 1836/1836 [06:00<00:00,  5.09it/s]\n"
     ]
    },
    {
     "name": "stdout",
     "output_type": "stream",
     "text": [
      "Total Loss  |Smoke Loss  |Fire Loss   \n",
      "------------ ------------ ------------\n",
      "358.091     |177.997     |180.094     \n",
      "\n"
     ]
    },
    {
     "name": "stderr",
     "output_type": "stream",
     "text": [
      "Validating: 100%|██████████████████████████████████████████████████████████████████████████████████████████████████████████████████████████████████████████| 380/380 [00:43<00:00,  8.83it/s]\n"
     ]
    },
    {
     "name": "stdout",
     "output_type": "stream",
     "text": [
      "Total Loss  |Smoke Loss  |Fire Loss   \n",
      "------------ ------------ ------------\n",
      "278.741     |57.196      |221.544     \n",
      "SMOKE -> Precision: 0.4681 - Recall: 0.5460 - Accuracy: 0.4935 - F1: 0.5040\n",
      "FIRE -> Precision: 0.3242 - Recall: 1.0000 - Accuracy: 0.3242 - F1: 0.4896\n",
      "\n",
      "=== EPOCH 9/99 ===\n",
      "Learning Rate = 0.00064\n",
      "\n"
     ]
    },
    {
     "name": "stderr",
     "output_type": "stream",
     "text": [
      "Training:   1%|█                                                                                                                                           | 14/1836 [00:04<06:42,  4.52it/s]Corrupt JPEG data: 1 extraneous bytes before marker 0xd9\n",
      "Training:   4%|██████                                                                                                                                      | 80/1836 [00:18<05:34,  5.25it/s]Corrupt JPEG data: 1 extraneous bytes before marker 0xd9\n",
      "Training:   9%|████████████                                                                                                                               | 159/1836 [00:33<05:18,  5.27it/s]Corrupt JPEG data: 1 extraneous bytes before marker 0xd9\n",
      "Training:  11%|███████████████▋                                                                                                                           | 207/1836 [00:43<04:19,  6.27it/s]Corrupt JPEG data: 1 extraneous bytes before marker 0xd9\n",
      "Training:  26%|███████████████████████████████████▋                                                                                                       | 472/1836 [01:36<05:14,  4.33it/s]Warning: unknown JFIF revision number 32.23\n",
      "Training: 100%|██████████████████████████████████████████████████████████████████████████████████████████████████████████████████████████████████████████| 1836/1836 [06:01<00:00,  5.08it/s]\n"
     ]
    },
    {
     "name": "stdout",
     "output_type": "stream",
     "text": [
      "Total Loss  |Smoke Loss  |Fire Loss   \n",
      "------------ ------------ ------------\n",
      "374.796     |183.178     |191.618     \n",
      "\n"
     ]
    },
    {
     "name": "stderr",
     "output_type": "stream",
     "text": [
      "Validating: 100%|██████████████████████████████████████████████████████████████████████████████████████████████████████████████████████████████████████████| 380/380 [00:42<00:00,  8.88it/s]\n"
     ]
    },
    {
     "name": "stdout",
     "output_type": "stream",
     "text": [
      "Total Loss  |Smoke Loss  |Fire Loss   \n",
      "------------ ------------ ------------\n",
      "142.699     |68.911      |73.789      \n",
      "SMOKE -> Precision: 0.4611 - Recall: 0.0067 - Accuracy: 0.5280 - F1: 0.0132\n",
      "FIRE -> Precision: 0.3185 - Recall: 0.2438 - Accuracy: 0.5857 - F1: 0.2762\n",
      "\n",
      "=== EPOCH 10/99 ===\n",
      "Learning Rate = 0.0005120000000000001\n",
      "\n"
     ]
    },
    {
     "name": "stderr",
     "output_type": "stream",
     "text": [
      "Training:   1%|█▉                                                                                                                                          | 26/1836 [00:05<04:49,  6.26it/s]Corrupt JPEG data: 1 extraneous bytes before marker 0xd9\n",
      "Training:   5%|██████▎                                                                                                                                     | 83/1836 [00:17<03:27,  8.46it/s]Corrupt JPEG data: 1 extraneous bytes before marker 0xd9\n",
      "Training:  62%|█████████████████████████████████████████████████████████████████████████████████████▋                                                    | 1140/1836 [03:50<02:42,  4.28it/s]Corrupt JPEG data: 1 extraneous bytes before marker 0xd9\n",
      "Training:  69%|██████████████████████████████████████████████████████████████████████████████████████████████▉                                           | 1263/1836 [04:13<01:47,  5.33it/s]Corrupt JPEG data: 1 extraneous bytes before marker 0xd9\n",
      "Training:  88%|█████████████████████████████████████████████████████████████████████████████████████████████████████████████████████████▌                | 1618/1836 [05:24<00:32,  6.71it/s]Warning: unknown JFIF revision number 32.23\n",
      "Training: 100%|██████████████████████████████████████████████████████████████████████████████████████████████████████████████████████████████████████████| 1836/1836 [06:07<00:00,  5.00it/s]\n"
     ]
    },
    {
     "name": "stdout",
     "output_type": "stream",
     "text": [
      "Total Loss  |Smoke Loss  |Fire Loss   \n",
      "------------ ------------ ------------\n",
      "275.614     |140.017     |135.597     \n",
      "\n"
     ]
    },
    {
     "name": "stderr",
     "output_type": "stream",
     "text": [
      "Validating: 100%|██████████████████████████████████████████████████████████████████████████████████████████████████████████████████████████████████████████| 380/380 [00:43<00:00,  8.71it/s]\n"
     ]
    },
    {
     "name": "stdout",
     "output_type": "stream",
     "text": [
      "Total Loss  |Smoke Loss  |Fire Loss   \n",
      "------------ ------------ ------------\n",
      "868.003     |729.304     |138.699     \n",
      "SMOKE -> Precision: 0.4714 - Recall: 1.0000 - Accuracy: 0.4714 - F1: 0.6408\n",
      "FIRE -> Precision: 0.5000 - Recall: 0.0003 - Accuracy: 0.6758 - F1: 0.0005\n",
      "\n",
      "=== EPOCH 11/99 ===\n",
      "Learning Rate = 0.0005120000000000001\n",
      "\n"
     ]
    },
    {
     "name": "stderr",
     "output_type": "stream",
     "text": [
      "Training:   8%|██████████▌                                                                                                                                | 140/1836 [00:29<03:43,  7.59it/s]Corrupt JPEG data: 1 extraneous bytes before marker 0xd9\n",
      "Training:  50%|████████████████████████████████████████████████████████████████████▊                                                                      | 909/1836 [03:16<02:23,  6.44it/s]Corrupt JPEG data: 1 extraneous bytes before marker 0xd9\n",
      "Training:  63%|███████████████████████████████████████████████████████████████████████████████████████                                                   | 1159/1836 [04:15<02:29,  4.53it/s]Corrupt JPEG data: 1 extraneous bytes before marker 0xd9\n",
      "Training:  91%|█████████████████████████████████████████████████████████████████████████████████████████████████████████████████████████████▋            | 1672/1836 [06:18<00:27,  5.98it/s]Corrupt JPEG data: 1 extraneous bytes before marker 0xd9\n",
      "Training:  93%|███████████████████████████████████████████████████████████████████████████████████████████████████████████████████████████████▋          | 1699/1836 [06:25<00:23,  5.94it/s]Warning: unknown JFIF revision number 32.23\n",
      "Training: 100%|██████████████████████████████████████████████████████████████████████████████████████████████████████████████████████████████████████████| 1836/1836 [06:59<00:00,  4.37it/s]\n"
     ]
    },
    {
     "name": "stdout",
     "output_type": "stream",
     "text": [
      "Total Loss  |Smoke Loss  |Fire Loss   \n",
      "------------ ------------ ------------\n",
      "297.986     |152.190     |145.796     \n",
      "\n"
     ]
    },
    {
     "name": "stderr",
     "output_type": "stream",
     "text": [
      "Validating: 100%|██████████████████████████████████████████████████████████████████████████████████████████████████████████████████████████████████████████| 380/380 [00:54<00:00,  7.03it/s]\n"
     ]
    },
    {
     "name": "stdout",
     "output_type": "stream",
     "text": [
      "Total Loss  |Smoke Loss  |Fire Loss   \n",
      "------------ ------------ ------------\n",
      "681.125     |361.534     |319.592     \n",
      "SMOKE -> Precision: 0.0000 - Recall: 0.0000 - Accuracy: 0.5286 - F1: 0.0000\n",
      "FIRE -> Precision: 0.3242 - Recall: 1.0000 - Accuracy: 0.3242 - F1: 0.4896\n",
      "\n",
      "=== EPOCH 12/99 ===\n",
      "Learning Rate = 0.0005120000000000001\n",
      "\n"
     ]
    },
    {
     "name": "stderr",
     "output_type": "stream",
     "text": [
      "Training:  19%|██████████████████████████▉                                                                                                                | 356/1836 [01:31<11:49,  2.09it/s]Corrupt JPEG data: 1 extraneous bytes before marker 0xd9\n",
      "Training:  21%|█████████████████████████████▏                                                                                                             | 386/1836 [01:37<03:31,  6.84it/s]Corrupt JPEG data: 1 extraneous bytes before marker 0xd9\n",
      "Training:  22%|██████████████████████████████▍                                                                                                            | 402/1836 [01:41<03:38,  6.56it/s]Corrupt JPEG data: 1 extraneous bytes before marker 0xd9\n",
      "Training:  27%|█████████████████████████████████████▋                                                                                                     | 498/1836 [02:05<03:09,  7.06it/s]Warning: unknown JFIF revision number 32.23\n",
      "Training:  91%|█████████████████████████████████████████████████████████████████████████████████████████████████████████████████████████████             | 1664/1836 [06:45<00:25,  6.64it/s]Corrupt JPEG data: 1 extraneous bytes before marker 0xd9\n",
      "Training: 100%|██████████████████████████████████████████████████████████████████████████████████████████████████████████████████████████████████████████| 1836/1836 [07:27<00:00,  4.11it/s]\n"
     ]
    },
    {
     "name": "stdout",
     "output_type": "stream",
     "text": [
      "Total Loss  |Smoke Loss  |Fire Loss   \n",
      "------------ ------------ ------------\n",
      "313.282     |157.812     |155.470     \n",
      "\n"
     ]
    },
    {
     "name": "stderr",
     "output_type": "stream",
     "text": [
      "Validating: 100%|██████████████████████████████████████████████████████████████████████████████████████████████████████████████████████████████████████████| 380/380 [00:52<00:00,  7.26it/s]\n"
     ]
    },
    {
     "name": "stdout",
     "output_type": "stream",
     "text": [
      "Total Loss  |Smoke Loss  |Fire Loss   \n",
      "------------ ------------ ------------\n",
      "593.855     |528.691     |65.164      \n",
      "SMOKE -> Precision: 0.4714 - Recall: 1.0000 - Accuracy: 0.4714 - F1: 0.6408\n",
      "FIRE -> Precision: 0.0625 - Recall: 0.0001 - Accuracy: 0.6752 - F1: 0.0003\n",
      "\n",
      "=== EPOCH 13/99 ===\n",
      "Learning Rate = 0.0004096000000000001\n",
      "\n"
     ]
    },
    {
     "name": "stderr",
     "output_type": "stream",
     "text": [
      "Training:  15%|█████████████████████▏                                                                                                                     | 280/1836 [01:11<08:36,  3.01it/s]Warning: unknown JFIF revision number 32.23\n",
      "Training:  16%|██████████████████████▎                                                                                                                    | 294/1836 [01:13<03:35,  7.17it/s]Corrupt JPEG data: 1 extraneous bytes before marker 0xd9\n",
      "Training:  41%|█████████████████████████████████████████████████████████▍                                                                                 | 759/1836 [03:05<02:48,  6.41it/s]Corrupt JPEG data: 1 extraneous bytes before marker 0xd9\n",
      "Training:  56%|████████████████████████████████████████████████████████████████████████████▉                                                             | 1024/1836 [04:08<03:27,  3.91it/s]Corrupt JPEG data: 1 extraneous bytes before marker 0xd9\n",
      "Training:  74%|██████████████████████████████████████████████████████████████████████████████████████████████████████▋                                   | 1366/1836 [05:30<01:04,  7.24it/s]Corrupt JPEG data: 1 extraneous bytes before marker 0xd9\n",
      "Training: 100%|██████████████████████████████████████████████████████████████████████████████████████████████████████████████████████████████████████████| 1836/1836 [07:24<00:00,  4.13it/s]\n"
     ]
    },
    {
     "name": "stdout",
     "output_type": "stream",
     "text": [
      "Total Loss  |Smoke Loss  |Fire Loss   \n",
      "------------ ------------ ------------\n",
      "206.812     |99.045      |107.767     \n",
      "\n"
     ]
    },
    {
     "name": "stderr",
     "output_type": "stream",
     "text": [
      "Validating: 100%|██████████████████████████████████████████████████████████████████████████████████████████████████████████████████████████████████████████| 380/380 [00:50<00:00,  7.55it/s]\n"
     ]
    },
    {
     "name": "stdout",
     "output_type": "stream",
     "text": [
      "Total Loss  |Smoke Loss  |Fire Loss   \n",
      "------------ ------------ ------------\n",
      "184.770     |72.442      |112.328     \n",
      "SMOKE -> Precision: 0.3200 - Recall: 0.0007 - Accuracy: 0.5282 - F1: 0.0014\n",
      "FIRE -> Precision: 0.0000 - Recall: 0.0000 - Accuracy: 0.6758 - F1: 0.0000\n",
      "\n",
      "=== EPOCH 14/99 ===\n",
      "Learning Rate = 0.0004096000000000001\n",
      "\n"
     ]
    },
    {
     "name": "stderr",
     "output_type": "stream",
     "text": [
      "Training:   9%|████████████▉                                                                                                                              | 171/1836 [00:41<05:03,  5.48it/s]Warning: unknown JFIF revision number 32.23\n",
      "Training:  16%|██████████████████████▎                                                                                                                    | 294/1836 [01:12<06:23,  4.02it/s]Corrupt JPEG data: 1 extraneous bytes before marker 0xd9\n",
      "Training:  16%|██████████████████████▎                                                                                                                    | 295/1836 [01:12<05:16,  4.87it/s]Corrupt JPEG data: 1 extraneous bytes before marker 0xd9\n",
      "Training:  77%|██████████████████████████████████████████████████████████████████████████████████████████████████████████▋                               | 1420/1836 [05:12<01:17,  5.40it/s]Corrupt JPEG data: 1 extraneous bytes before marker 0xd9\n",
      "Training:  90%|███████████████████████████████████████████████████████████████████████████████████████████████████████████████████████████▊              | 1647/1836 [05:57<00:26,  7.09it/s]Corrupt JPEG data: 1 extraneous bytes before marker 0xd9\n",
      "Training: 100%|██████████████████████████████████████████████████████████████████████████████████████████████████████████████████████████████████████████| 1836/1836 [06:36<00:00,  4.63it/s]\n"
     ]
    },
    {
     "name": "stdout",
     "output_type": "stream",
     "text": [
      "Total Loss  |Smoke Loss  |Fire Loss   \n",
      "------------ ------------ ------------\n",
      "290.441     |146.506     |143.936     \n",
      "\n"
     ]
    },
    {
     "name": "stderr",
     "output_type": "stream",
     "text": [
      "Validating: 100%|██████████████████████████████████████████████████████████████████████████████████████████████████████████████████████████████████████████| 380/380 [00:42<00:00,  8.85it/s]\n"
     ]
    },
    {
     "name": "stdout",
     "output_type": "stream",
     "text": [
      "Total Loss  |Smoke Loss  |Fire Loss   \n",
      "------------ ------------ ------------\n",
      "807.903     |390.541     |417.362     \n",
      "SMOKE -> Precision: 0.4714 - Recall: 1.0000 - Accuracy: 0.4714 - F1: 0.6408\n",
      "FIRE -> Precision: 0.3242 - Recall: 1.0000 - Accuracy: 0.3242 - F1: 0.4896\n",
      "Saving model with best Mean F1: 0.5652\n",
      "Model exported to ONNX: experiments_brevitas/test_v03_1M_w1a1_full_ds/onnx/MY_MBLNET_V2_classifier__best_mean_F1\n",
      "\n",
      "=== EPOCH 15/99 ===\n",
      "Learning Rate = 0.0004096000000000001\n",
      "\n"
     ]
    },
    {
     "name": "stderr",
     "output_type": "stream",
     "text": [
      "Training:   7%|█████████▍                                                                                                                                 | 125/1836 [00:29<09:03,  3.15it/s]Warning: unknown JFIF revision number 32.23\n",
      "Training:  25%|██████████████████████████████████▉                                                                                                        | 462/1836 [01:38<06:54,  3.31it/s]Corrupt JPEG data: 1 extraneous bytes before marker 0xd9\n",
      "Training:  40%|██████████████████████████████████████████████████████▉                                                                                    | 726/1836 [02:32<06:02,  3.06it/s]Corrupt JPEG data: 1 extraneous bytes before marker 0xd9\n",
      "Training:  62%|██████████████████████████████████████████████████████████████████████████████████████▏                                                   | 1147/1836 [03:59<02:06,  5.45it/s]Corrupt JPEG data: 1 extraneous bytes before marker 0xd9\n",
      "Training:  99%|████████████████████████████████████████████████████████████████████████████████████████████████████████████████████████████████████████▎ | 1813/1836 [06:20<00:04,  4.63it/s]Corrupt JPEG data: 1 extraneous bytes before marker 0xd9\n",
      "Training: 100%|██████████████████████████████████████████████████████████████████████████████████████████████████████████████████████████████████████████| 1836/1836 [06:25<00:00,  4.76it/s]\n"
     ]
    },
    {
     "name": "stdout",
     "output_type": "stream",
     "text": [
      "Total Loss  |Smoke Loss  |Fire Loss   \n",
      "------------ ------------ ------------\n",
      "349.341     |178.320     |171.022     \n",
      "\n"
     ]
    },
    {
     "name": "stderr",
     "output_type": "stream",
     "text": [
      "Validating: 100%|██████████████████████████████████████████████████████████████████████████████████████████████████████████████████████████████████████████| 380/380 [00:44<00:00,  8.63it/s]\n"
     ]
    },
    {
     "name": "stdout",
     "output_type": "stream",
     "text": [
      "Total Loss  |Smoke Loss  |Fire Loss   \n",
      "------------ ------------ ------------\n",
      "144.253     |67.963      |76.289      \n",
      "SMOKE -> Precision: 0.0000 - Recall: 0.0000 - Accuracy: 0.5286 - F1: 0.0000\n",
      "FIRE -> Precision: 0.3235 - Recall: 0.9779 - Accuracy: 0.3299 - F1: 0.4862\n",
      "\n",
      "=== EPOCH 16/99 ===\n",
      "Learning Rate = 0.0003276800000000001\n",
      "\n"
     ]
    },
    {
     "name": "stderr",
     "output_type": "stream",
     "text": [
      "Training:  33%|█████████████████████████████████████████████▊                                                                                             | 605/1836 [02:11<04:17,  4.78it/s]Corrupt JPEG data: 1 extraneous bytes before marker 0xd9\n",
      "Training:  47%|█████████████████████████████████████████████████████████████████▎                                                                         | 862/1836 [03:12<04:04,  3.98it/s]Corrupt JPEG data: 1 extraneous bytes before marker 0xd9\n",
      "Training:  64%|████████████████████████████████████████████████████████████████████████████████████████▊                                                 | 1181/1836 [04:17<01:45,  6.19it/s]Warning: unknown JFIF revision number 32.23\n",
      "Training:  68%|██████████████████████████████████████████████████████████████████████████████████████████████                                            | 1252/1836 [04:31<01:24,  6.89it/s]Corrupt JPEG data: 1 extraneous bytes before marker 0xd9\n",
      "Training:  71%|█████████████████████████████████████████████████████████████████████████████████████████████████▋                                        | 1300/1836 [04:41<01:19,  6.78it/s]Corrupt JPEG data: 1 extraneous bytes before marker 0xd9\n",
      "Training: 100%|██████████████████████████████████████████████████████████████████████████████████████████████████████████████████████████████████████████| 1836/1836 [06:35<00:00,  4.64it/s]\n"
     ]
    },
    {
     "name": "stdout",
     "output_type": "stream",
     "text": [
      "Total Loss  |Smoke Loss  |Fire Loss   \n",
      "------------ ------------ ------------\n",
      "199.177     |98.188      |100.988     \n",
      "\n"
     ]
    },
    {
     "name": "stderr",
     "output_type": "stream",
     "text": [
      "Validating: 100%|██████████████████████████████████████████████████████████████████████████████████████████████████████████████████████████████████████████| 380/380 [00:42<00:00,  8.90it/s]\n"
     ]
    },
    {
     "name": "stdout",
     "output_type": "stream",
     "text": [
      "Total Loss  |Smoke Loss  |Fire Loss   \n",
      "------------ ------------ ------------\n",
      "279.104     |223.790     |55.313      \n",
      "SMOKE -> Precision: 0.0000 - Recall: 0.0000 - Accuracy: 0.5286 - F1: 0.0000\n",
      "FIRE -> Precision: 0.3074 - Recall: 0.0110 - Accuracy: 0.6713 - F1: 0.0213\n",
      "\n",
      "=== EPOCH 17/99 ===\n",
      "Learning Rate = 0.0003276800000000001\n",
      "\n"
     ]
    },
    {
     "name": "stderr",
     "output_type": "stream",
     "text": [
      "Training:  10%|█████████████▏                                                                                                                             | 175/1836 [00:37<05:29,  5.03it/s]Corrupt JPEG data: 1 extraneous bytes before marker 0xd9\n",
      "Training:  24%|████████████████████████████████▉                                                                                                          | 435/1836 [01:30<03:06,  7.53it/s]Corrupt JPEG data: 1 extraneous bytes before marker 0xd9\n",
      "Training:  54%|███████████████████████████████████████████████████████████████████████████▏                                                               | 993/1836 [03:26<02:05,  6.74it/s]Warning: unknown JFIF revision number 32.23\n",
      "Training:  58%|████████████████████████████████████████████████████████████████████████████████▋                                                         | 1074/1836 [03:42<01:56,  6.56it/s]Corrupt JPEG data: 1 extraneous bytes before marker 0xd9\n",
      "Training:  81%|████████████████████████████████████████████████████████████████████████████████████████████████████████████████▎                         | 1494/1836 [05:08<00:43,  7.88it/s]Corrupt JPEG data: 1 extraneous bytes before marker 0xd9\n",
      "Training: 100%|██████████████████████████████████████████████████████████████████████████████████████████████████████████████████████████████████████████| 1836/1836 [06:19<00:00,  4.84it/s]\n"
     ]
    },
    {
     "name": "stdout",
     "output_type": "stream",
     "text": [
      "Total Loss  |Smoke Loss  |Fire Loss   \n",
      "------------ ------------ ------------\n",
      "175.058     |88.214      |86.844      \n",
      "\n"
     ]
    },
    {
     "name": "stderr",
     "output_type": "stream",
     "text": [
      "Validating: 100%|██████████████████████████████████████████████████████████████████████████████████████████████████████████████████████████████████████████| 380/380 [00:43<00:00,  8.77it/s]\n"
     ]
    },
    {
     "name": "stdout",
     "output_type": "stream",
     "text": [
      "Total Loss  |Smoke Loss  |Fire Loss   \n",
      "------------ ------------ ------------\n",
      "341.479     |162.823     |178.656     \n",
      "SMOKE -> Precision: 0.4714 - Recall: 1.0000 - Accuracy: 0.4714 - F1: 0.6408\n",
      "FIRE -> Precision: 0.3240 - Recall: 0.9803 - Accuracy: 0.3304 - F1: 0.4870\n",
      "\n",
      "=== EPOCH 18/99 ===\n",
      "Learning Rate = 0.0003276800000000001\n",
      "\n"
     ]
    },
    {
     "name": "stderr",
     "output_type": "stream",
     "text": [
      "Training:   1%|█▊                                                                                                                                          | 24/1836 [00:07<06:38,  4.54it/s]Corrupt JPEG data: 1 extraneous bytes before marker 0xd9\n",
      "Training:   2%|██▊                                                                                                                                         | 37/1836 [00:10<08:46,  3.41it/s]\n"
     ]
    },
    {
     "ename": "KeyboardInterrupt",
     "evalue": "",
     "output_type": "error",
     "traceback": [
      "\u001b[0;31m---------------------------------------------------------------------------\u001b[0m",
      "\u001b[0;31mKeyboardInterrupt\u001b[0m                         Traceback (most recent call last)",
      "Cell \u001b[0;32mIn[18], line 6\u001b[0m\n\u001b[1;32m      3\u001b[0m \u001b[38;5;28mprint\u001b[39m(\u001b[38;5;124m\"\u001b[39m\u001b[38;5;124mStarting script\u001b[39m\u001b[38;5;130;01m\\n\u001b[39;00m\u001b[38;5;124m\"\u001b[39m)\n\u001b[1;32m      4\u001b[0m logger\u001b[38;5;241m.\u001b[39minfo(\u001b[38;5;124m\"\u001b[39m\u001b[38;5;124mStarting script\u001b[39m\u001b[38;5;130;01m\\n\u001b[39;00m\u001b[38;5;124m\"\u001b[39m)\n\u001b[0;32m----> 6\u001b[0m model \u001b[38;5;241m=\u001b[39m \u001b[43mtrain_loop\u001b[49m\u001b[43m(\u001b[49m\u001b[43mmodel\u001b[49m\u001b[43m)\u001b[49m\n",
      "Cell \u001b[0;32mIn[16], line 34\u001b[0m, in \u001b[0;36mtrain_loop\u001b[0;34m(model, start_epoch, epochs_to_train)\u001b[0m\n\u001b[1;32m     31\u001b[0m logger\u001b[38;5;241m.\u001b[39minfo(\u001b[38;5;124mf\u001b[39m\u001b[38;5;124m'\u001b[39m\u001b[38;5;124mLearning Rate = \u001b[39m\u001b[38;5;132;01m{\u001b[39;00mcurrent_lr\u001b[38;5;132;01m}\u001b[39;00m\u001b[38;5;130;01m\\n\u001b[39;00m\u001b[38;5;124m'\u001b[39m)\n\u001b[1;32m     32\u001b[0m lr_logger\u001b[38;5;241m.\u001b[39mlog_lr(current_lr)\n\u001b[0;32m---> 34\u001b[0m train_losses, train_metrics \u001b[38;5;241m=\u001b[39m \u001b[43mtrain_epoch\u001b[49m\u001b[38;5;241;43m.\u001b[39;49m\u001b[43mtrain_fn\u001b[49m\u001b[43m(\u001b[49m\n\u001b[1;32m     35\u001b[0m \u001b[43m    \u001b[49m\u001b[43mloader\u001b[49m\u001b[38;5;241;43m=\u001b[39;49m\u001b[43mtrain_loader\u001b[49m\u001b[43m,\u001b[49m\u001b[43m \u001b[49m\n\u001b[1;32m     36\u001b[0m \u001b[43m    \u001b[49m\u001b[43mmodel\u001b[49m\u001b[38;5;241;43m=\u001b[39;49m\u001b[43mmodel\u001b[49m\u001b[43m,\u001b[49m\u001b[43m \u001b[49m\n\u001b[1;32m     37\u001b[0m \u001b[43m    \u001b[49m\u001b[43moptimizer\u001b[49m\u001b[38;5;241;43m=\u001b[39;49m\u001b[43moptimizer\u001b[49m\u001b[43m,\u001b[49m\u001b[43m \u001b[49m\n\u001b[1;32m     38\u001b[0m \u001b[43m    \u001b[49m\u001b[43mloss_fn\u001b[49m\u001b[38;5;241;43m=\u001b[39;49m\u001b[43mloss_fn\u001b[49m\u001b[43m,\u001b[49m\n\u001b[1;32m     39\u001b[0m \u001b[43m    \u001b[49m\u001b[43mdevice\u001b[49m\u001b[38;5;241;43m=\u001b[39;49m\u001b[43mconfig\u001b[49m\u001b[38;5;241;43m.\u001b[39;49m\u001b[43mDEVICE\u001b[49m\u001b[43m)\u001b[49m\n\u001b[1;32m     41\u001b[0m train_losses_logger\u001b[38;5;241m.\u001b[39mupdate_metrics(train_losses)\n\u001b[1;32m     42\u001b[0m train_metrics_logger\u001b[38;5;241m.\u001b[39mupdate_metrics(train_metrics)\n",
      "File \u001b[0;32m~/uav/code/classifier_my_mobilenetv2/modules/train_epoch.py:21\u001b[0m, in \u001b[0;36mtrain_fn\u001b[0;34m(loader, model, optimizer, loss_fn, device)\u001b[0m\n\u001b[1;32m     19\u001b[0m \u001b[38;5;28;01mfor\u001b[39;00m batch_idx, (x, y) \u001b[38;5;129;01min\u001b[39;00m \u001b[38;5;28menumerate\u001b[39m(loop):\n\u001b[1;32m     20\u001b[0m     x, y \u001b[38;5;241m=\u001b[39m x\u001b[38;5;241m.\u001b[39mto(device), y\u001b[38;5;241m.\u001b[39mto(device)\n\u001b[0;32m---> 21\u001b[0m     out \u001b[38;5;241m=\u001b[39m \u001b[43mmodel\u001b[49m\u001b[43m(\u001b[49m\u001b[43mx\u001b[49m\u001b[43m)\u001b[49m\n\u001b[1;32m     22\u001b[0m     train_loss \u001b[38;5;241m=\u001b[39m loss_fn(ground_truth\u001b[38;5;241m=\u001b[39my, \n\u001b[1;32m     23\u001b[0m                          predictions\u001b[38;5;241m=\u001b[39mout)\n\u001b[1;32m     25\u001b[0m     \u001b[38;5;66;03m# Gradient Descent\u001b[39;00m\n",
      "File \u001b[0;32m/opt/conda/envs/pytorch_brevitas/lib/python3.10/site-packages/torch/nn/modules/module.py:1518\u001b[0m, in \u001b[0;36mModule._wrapped_call_impl\u001b[0;34m(self, *args, **kwargs)\u001b[0m\n\u001b[1;32m   1516\u001b[0m     \u001b[38;5;28;01mreturn\u001b[39;00m \u001b[38;5;28mself\u001b[39m\u001b[38;5;241m.\u001b[39m_compiled_call_impl(\u001b[38;5;241m*\u001b[39margs, \u001b[38;5;241m*\u001b[39m\u001b[38;5;241m*\u001b[39mkwargs)  \u001b[38;5;66;03m# type: ignore[misc]\u001b[39;00m\n\u001b[1;32m   1517\u001b[0m \u001b[38;5;28;01melse\u001b[39;00m:\n\u001b[0;32m-> 1518\u001b[0m     \u001b[38;5;28;01mreturn\u001b[39;00m \u001b[38;5;28;43mself\u001b[39;49m\u001b[38;5;241;43m.\u001b[39;49m\u001b[43m_call_impl\u001b[49m\u001b[43m(\u001b[49m\u001b[38;5;241;43m*\u001b[39;49m\u001b[43margs\u001b[49m\u001b[43m,\u001b[49m\u001b[43m \u001b[49m\u001b[38;5;241;43m*\u001b[39;49m\u001b[38;5;241;43m*\u001b[39;49m\u001b[43mkwargs\u001b[49m\u001b[43m)\u001b[49m\n",
      "File \u001b[0;32m/opt/conda/envs/pytorch_brevitas/lib/python3.10/site-packages/torch/nn/modules/module.py:1527\u001b[0m, in \u001b[0;36mModule._call_impl\u001b[0;34m(self, *args, **kwargs)\u001b[0m\n\u001b[1;32m   1522\u001b[0m \u001b[38;5;66;03m# If we don't have any hooks, we want to skip the rest of the logic in\u001b[39;00m\n\u001b[1;32m   1523\u001b[0m \u001b[38;5;66;03m# this function, and just call forward.\u001b[39;00m\n\u001b[1;32m   1524\u001b[0m \u001b[38;5;28;01mif\u001b[39;00m \u001b[38;5;129;01mnot\u001b[39;00m (\u001b[38;5;28mself\u001b[39m\u001b[38;5;241m.\u001b[39m_backward_hooks \u001b[38;5;129;01mor\u001b[39;00m \u001b[38;5;28mself\u001b[39m\u001b[38;5;241m.\u001b[39m_backward_pre_hooks \u001b[38;5;129;01mor\u001b[39;00m \u001b[38;5;28mself\u001b[39m\u001b[38;5;241m.\u001b[39m_forward_hooks \u001b[38;5;129;01mor\u001b[39;00m \u001b[38;5;28mself\u001b[39m\u001b[38;5;241m.\u001b[39m_forward_pre_hooks\n\u001b[1;32m   1525\u001b[0m         \u001b[38;5;129;01mor\u001b[39;00m _global_backward_pre_hooks \u001b[38;5;129;01mor\u001b[39;00m _global_backward_hooks\n\u001b[1;32m   1526\u001b[0m         \u001b[38;5;129;01mor\u001b[39;00m _global_forward_hooks \u001b[38;5;129;01mor\u001b[39;00m _global_forward_pre_hooks):\n\u001b[0;32m-> 1527\u001b[0m     \u001b[38;5;28;01mreturn\u001b[39;00m \u001b[43mforward_call\u001b[49m\u001b[43m(\u001b[49m\u001b[38;5;241;43m*\u001b[39;49m\u001b[43margs\u001b[49m\u001b[43m,\u001b[49m\u001b[43m \u001b[49m\u001b[38;5;241;43m*\u001b[39;49m\u001b[38;5;241;43m*\u001b[39;49m\u001b[43mkwargs\u001b[49m\u001b[43m)\u001b[49m\n\u001b[1;32m   1529\u001b[0m \u001b[38;5;28;01mtry\u001b[39;00m:\n\u001b[1;32m   1530\u001b[0m     result \u001b[38;5;241m=\u001b[39m \u001b[38;5;28;01mNone\u001b[39;00m\n",
      "File \u001b[0;32m~/uav/code/classifier_my_mobilenetv2/modules/brevitas/model_mobilenetv2_1M_Brevitas.py:265\u001b[0m, in \u001b[0;36mMobileNetV2_1M.forward\u001b[0;34m(self, x)\u001b[0m\n\u001b[1;32m    263\u001b[0m \u001b[38;5;28;01mdef\u001b[39;00m \u001b[38;5;21mforward\u001b[39m(\u001b[38;5;28mself\u001b[39m, x):\n\u001b[1;32m    264\u001b[0m     x \u001b[38;5;241m=\u001b[39m \u001b[38;5;241m2.0\u001b[39m \u001b[38;5;241m*\u001b[39m x \u001b[38;5;241m-\u001b[39m torch\u001b[38;5;241m.\u001b[39mtensor([\u001b[38;5;241m1.0\u001b[39m], device\u001b[38;5;241m=\u001b[39mx\u001b[38;5;241m.\u001b[39mdevice)\n\u001b[0;32m--> 265\u001b[0m     x \u001b[38;5;241m=\u001b[39m \u001b[38;5;28;43mself\u001b[39;49m\u001b[38;5;241;43m.\u001b[39;49m\u001b[43mfeatures\u001b[49m\u001b[43m(\u001b[49m\u001b[43mx\u001b[49m\u001b[43m)\u001b[49m\n\u001b[1;32m    266\u001b[0m     x \u001b[38;5;241m=\u001b[39m \u001b[38;5;28mself\u001b[39m\u001b[38;5;241m.\u001b[39mconv(x)\n\u001b[1;32m    267\u001b[0m     x \u001b[38;5;241m=\u001b[39m \u001b[38;5;28mself\u001b[39m\u001b[38;5;241m.\u001b[39mavgpool(x)\n",
      "File \u001b[0;32m/opt/conda/envs/pytorch_brevitas/lib/python3.10/site-packages/torch/nn/modules/module.py:1518\u001b[0m, in \u001b[0;36mModule._wrapped_call_impl\u001b[0;34m(self, *args, **kwargs)\u001b[0m\n\u001b[1;32m   1516\u001b[0m     \u001b[38;5;28;01mreturn\u001b[39;00m \u001b[38;5;28mself\u001b[39m\u001b[38;5;241m.\u001b[39m_compiled_call_impl(\u001b[38;5;241m*\u001b[39margs, \u001b[38;5;241m*\u001b[39m\u001b[38;5;241m*\u001b[39mkwargs)  \u001b[38;5;66;03m# type: ignore[misc]\u001b[39;00m\n\u001b[1;32m   1517\u001b[0m \u001b[38;5;28;01melse\u001b[39;00m:\n\u001b[0;32m-> 1518\u001b[0m     \u001b[38;5;28;01mreturn\u001b[39;00m \u001b[38;5;28;43mself\u001b[39;49m\u001b[38;5;241;43m.\u001b[39;49m\u001b[43m_call_impl\u001b[49m\u001b[43m(\u001b[49m\u001b[38;5;241;43m*\u001b[39;49m\u001b[43margs\u001b[49m\u001b[43m,\u001b[49m\u001b[43m \u001b[49m\u001b[38;5;241;43m*\u001b[39;49m\u001b[38;5;241;43m*\u001b[39;49m\u001b[43mkwargs\u001b[49m\u001b[43m)\u001b[49m\n",
      "File \u001b[0;32m/opt/conda/envs/pytorch_brevitas/lib/python3.10/site-packages/torch/nn/modules/module.py:1527\u001b[0m, in \u001b[0;36mModule._call_impl\u001b[0;34m(self, *args, **kwargs)\u001b[0m\n\u001b[1;32m   1522\u001b[0m \u001b[38;5;66;03m# If we don't have any hooks, we want to skip the rest of the logic in\u001b[39;00m\n\u001b[1;32m   1523\u001b[0m \u001b[38;5;66;03m# this function, and just call forward.\u001b[39;00m\n\u001b[1;32m   1524\u001b[0m \u001b[38;5;28;01mif\u001b[39;00m \u001b[38;5;129;01mnot\u001b[39;00m (\u001b[38;5;28mself\u001b[39m\u001b[38;5;241m.\u001b[39m_backward_hooks \u001b[38;5;129;01mor\u001b[39;00m \u001b[38;5;28mself\u001b[39m\u001b[38;5;241m.\u001b[39m_backward_pre_hooks \u001b[38;5;129;01mor\u001b[39;00m \u001b[38;5;28mself\u001b[39m\u001b[38;5;241m.\u001b[39m_forward_hooks \u001b[38;5;129;01mor\u001b[39;00m \u001b[38;5;28mself\u001b[39m\u001b[38;5;241m.\u001b[39m_forward_pre_hooks\n\u001b[1;32m   1525\u001b[0m         \u001b[38;5;129;01mor\u001b[39;00m _global_backward_pre_hooks \u001b[38;5;129;01mor\u001b[39;00m _global_backward_hooks\n\u001b[1;32m   1526\u001b[0m         \u001b[38;5;129;01mor\u001b[39;00m _global_forward_hooks \u001b[38;5;129;01mor\u001b[39;00m _global_forward_pre_hooks):\n\u001b[0;32m-> 1527\u001b[0m     \u001b[38;5;28;01mreturn\u001b[39;00m \u001b[43mforward_call\u001b[49m\u001b[43m(\u001b[49m\u001b[38;5;241;43m*\u001b[39;49m\u001b[43margs\u001b[49m\u001b[43m,\u001b[49m\u001b[43m \u001b[49m\u001b[38;5;241;43m*\u001b[39;49m\u001b[38;5;241;43m*\u001b[39;49m\u001b[43mkwargs\u001b[49m\u001b[43m)\u001b[49m\n\u001b[1;32m   1529\u001b[0m \u001b[38;5;28;01mtry\u001b[39;00m:\n\u001b[1;32m   1530\u001b[0m     result \u001b[38;5;241m=\u001b[39m \u001b[38;5;28;01mNone\u001b[39;00m\n",
      "File \u001b[0;32m/opt/conda/envs/pytorch_brevitas/lib/python3.10/site-packages/torch/nn/modules/container.py:215\u001b[0m, in \u001b[0;36mSequential.forward\u001b[0;34m(self, input)\u001b[0m\n\u001b[1;32m    213\u001b[0m \u001b[38;5;28;01mdef\u001b[39;00m \u001b[38;5;21mforward\u001b[39m(\u001b[38;5;28mself\u001b[39m, \u001b[38;5;28minput\u001b[39m):\n\u001b[1;32m    214\u001b[0m     \u001b[38;5;28;01mfor\u001b[39;00m module \u001b[38;5;129;01min\u001b[39;00m \u001b[38;5;28mself\u001b[39m:\n\u001b[0;32m--> 215\u001b[0m         \u001b[38;5;28minput\u001b[39m \u001b[38;5;241m=\u001b[39m \u001b[43mmodule\u001b[49m\u001b[43m(\u001b[49m\u001b[38;5;28;43minput\u001b[39;49m\u001b[43m)\u001b[49m\n\u001b[1;32m    216\u001b[0m     \u001b[38;5;28;01mreturn\u001b[39;00m \u001b[38;5;28minput\u001b[39m\n",
      "File \u001b[0;32m/opt/conda/envs/pytorch_brevitas/lib/python3.10/site-packages/torch/nn/modules/module.py:1518\u001b[0m, in \u001b[0;36mModule._wrapped_call_impl\u001b[0;34m(self, *args, **kwargs)\u001b[0m\n\u001b[1;32m   1516\u001b[0m     \u001b[38;5;28;01mreturn\u001b[39;00m \u001b[38;5;28mself\u001b[39m\u001b[38;5;241m.\u001b[39m_compiled_call_impl(\u001b[38;5;241m*\u001b[39margs, \u001b[38;5;241m*\u001b[39m\u001b[38;5;241m*\u001b[39mkwargs)  \u001b[38;5;66;03m# type: ignore[misc]\u001b[39;00m\n\u001b[1;32m   1517\u001b[0m \u001b[38;5;28;01melse\u001b[39;00m:\n\u001b[0;32m-> 1518\u001b[0m     \u001b[38;5;28;01mreturn\u001b[39;00m \u001b[38;5;28;43mself\u001b[39;49m\u001b[38;5;241;43m.\u001b[39;49m\u001b[43m_call_impl\u001b[49m\u001b[43m(\u001b[49m\u001b[38;5;241;43m*\u001b[39;49m\u001b[43margs\u001b[49m\u001b[43m,\u001b[49m\u001b[43m \u001b[49m\u001b[38;5;241;43m*\u001b[39;49m\u001b[38;5;241;43m*\u001b[39;49m\u001b[43mkwargs\u001b[49m\u001b[43m)\u001b[49m\n",
      "File \u001b[0;32m/opt/conda/envs/pytorch_brevitas/lib/python3.10/site-packages/torch/nn/modules/module.py:1527\u001b[0m, in \u001b[0;36mModule._call_impl\u001b[0;34m(self, *args, **kwargs)\u001b[0m\n\u001b[1;32m   1522\u001b[0m \u001b[38;5;66;03m# If we don't have any hooks, we want to skip the rest of the logic in\u001b[39;00m\n\u001b[1;32m   1523\u001b[0m \u001b[38;5;66;03m# this function, and just call forward.\u001b[39;00m\n\u001b[1;32m   1524\u001b[0m \u001b[38;5;28;01mif\u001b[39;00m \u001b[38;5;129;01mnot\u001b[39;00m (\u001b[38;5;28mself\u001b[39m\u001b[38;5;241m.\u001b[39m_backward_hooks \u001b[38;5;129;01mor\u001b[39;00m \u001b[38;5;28mself\u001b[39m\u001b[38;5;241m.\u001b[39m_backward_pre_hooks \u001b[38;5;129;01mor\u001b[39;00m \u001b[38;5;28mself\u001b[39m\u001b[38;5;241m.\u001b[39m_forward_hooks \u001b[38;5;129;01mor\u001b[39;00m \u001b[38;5;28mself\u001b[39m\u001b[38;5;241m.\u001b[39m_forward_pre_hooks\n\u001b[1;32m   1525\u001b[0m         \u001b[38;5;129;01mor\u001b[39;00m _global_backward_pre_hooks \u001b[38;5;129;01mor\u001b[39;00m _global_backward_hooks\n\u001b[1;32m   1526\u001b[0m         \u001b[38;5;129;01mor\u001b[39;00m _global_forward_hooks \u001b[38;5;129;01mor\u001b[39;00m _global_forward_pre_hooks):\n\u001b[0;32m-> 1527\u001b[0m     \u001b[38;5;28;01mreturn\u001b[39;00m \u001b[43mforward_call\u001b[49m\u001b[43m(\u001b[49m\u001b[38;5;241;43m*\u001b[39;49m\u001b[43margs\u001b[49m\u001b[43m,\u001b[49m\u001b[43m \u001b[49m\u001b[38;5;241;43m*\u001b[39;49m\u001b[38;5;241;43m*\u001b[39;49m\u001b[43mkwargs\u001b[49m\u001b[43m)\u001b[49m\n\u001b[1;32m   1529\u001b[0m \u001b[38;5;28;01mtry\u001b[39;00m:\n\u001b[1;32m   1530\u001b[0m     result \u001b[38;5;241m=\u001b[39m \u001b[38;5;28;01mNone\u001b[39;00m\n",
      "File \u001b[0;32m~/uav/code/classifier_my_mobilenetv2/modules/brevitas/model_mobilenetv2_1M_Brevitas.py:198\u001b[0m, in \u001b[0;36mInvertedBlock.forward\u001b[0;34m(self, x)\u001b[0m\n\u001b[1;32m    197\u001b[0m \u001b[38;5;28;01mdef\u001b[39;00m \u001b[38;5;21mforward\u001b[39m(\u001b[38;5;28mself\u001b[39m, x):\n\u001b[0;32m--> 198\u001b[0m     \u001b[38;5;28;01mreturn\u001b[39;00m \u001b[38;5;28;43mself\u001b[39;49m\u001b[38;5;241;43m.\u001b[39;49m\u001b[43mconv\u001b[49m\u001b[43m(\u001b[49m\u001b[43mx\u001b[49m\u001b[43m)\u001b[49m\n",
      "File \u001b[0;32m/opt/conda/envs/pytorch_brevitas/lib/python3.10/site-packages/torch/nn/modules/module.py:1518\u001b[0m, in \u001b[0;36mModule._wrapped_call_impl\u001b[0;34m(self, *args, **kwargs)\u001b[0m\n\u001b[1;32m   1516\u001b[0m     \u001b[38;5;28;01mreturn\u001b[39;00m \u001b[38;5;28mself\u001b[39m\u001b[38;5;241m.\u001b[39m_compiled_call_impl(\u001b[38;5;241m*\u001b[39margs, \u001b[38;5;241m*\u001b[39m\u001b[38;5;241m*\u001b[39mkwargs)  \u001b[38;5;66;03m# type: ignore[misc]\u001b[39;00m\n\u001b[1;32m   1517\u001b[0m \u001b[38;5;28;01melse\u001b[39;00m:\n\u001b[0;32m-> 1518\u001b[0m     \u001b[38;5;28;01mreturn\u001b[39;00m \u001b[38;5;28;43mself\u001b[39;49m\u001b[38;5;241;43m.\u001b[39;49m\u001b[43m_call_impl\u001b[49m\u001b[43m(\u001b[49m\u001b[38;5;241;43m*\u001b[39;49m\u001b[43margs\u001b[49m\u001b[43m,\u001b[49m\u001b[43m \u001b[49m\u001b[38;5;241;43m*\u001b[39;49m\u001b[38;5;241;43m*\u001b[39;49m\u001b[43mkwargs\u001b[49m\u001b[43m)\u001b[49m\n",
      "File \u001b[0;32m/opt/conda/envs/pytorch_brevitas/lib/python3.10/site-packages/torch/nn/modules/module.py:1527\u001b[0m, in \u001b[0;36mModule._call_impl\u001b[0;34m(self, *args, **kwargs)\u001b[0m\n\u001b[1;32m   1522\u001b[0m \u001b[38;5;66;03m# If we don't have any hooks, we want to skip the rest of the logic in\u001b[39;00m\n\u001b[1;32m   1523\u001b[0m \u001b[38;5;66;03m# this function, and just call forward.\u001b[39;00m\n\u001b[1;32m   1524\u001b[0m \u001b[38;5;28;01mif\u001b[39;00m \u001b[38;5;129;01mnot\u001b[39;00m (\u001b[38;5;28mself\u001b[39m\u001b[38;5;241m.\u001b[39m_backward_hooks \u001b[38;5;129;01mor\u001b[39;00m \u001b[38;5;28mself\u001b[39m\u001b[38;5;241m.\u001b[39m_backward_pre_hooks \u001b[38;5;129;01mor\u001b[39;00m \u001b[38;5;28mself\u001b[39m\u001b[38;5;241m.\u001b[39m_forward_hooks \u001b[38;5;129;01mor\u001b[39;00m \u001b[38;5;28mself\u001b[39m\u001b[38;5;241m.\u001b[39m_forward_pre_hooks\n\u001b[1;32m   1525\u001b[0m         \u001b[38;5;129;01mor\u001b[39;00m _global_backward_pre_hooks \u001b[38;5;129;01mor\u001b[39;00m _global_backward_hooks\n\u001b[1;32m   1526\u001b[0m         \u001b[38;5;129;01mor\u001b[39;00m _global_forward_hooks \u001b[38;5;129;01mor\u001b[39;00m _global_forward_pre_hooks):\n\u001b[0;32m-> 1527\u001b[0m     \u001b[38;5;28;01mreturn\u001b[39;00m \u001b[43mforward_call\u001b[49m\u001b[43m(\u001b[49m\u001b[38;5;241;43m*\u001b[39;49m\u001b[43margs\u001b[49m\u001b[43m,\u001b[49m\u001b[43m \u001b[49m\u001b[38;5;241;43m*\u001b[39;49m\u001b[38;5;241;43m*\u001b[39;49m\u001b[43mkwargs\u001b[49m\u001b[43m)\u001b[49m\n\u001b[1;32m   1529\u001b[0m \u001b[38;5;28;01mtry\u001b[39;00m:\n\u001b[1;32m   1530\u001b[0m     result \u001b[38;5;241m=\u001b[39m \u001b[38;5;28;01mNone\u001b[39;00m\n",
      "File \u001b[0;32m/opt/conda/envs/pytorch_brevitas/lib/python3.10/site-packages/torch/nn/modules/container.py:215\u001b[0m, in \u001b[0;36mSequential.forward\u001b[0;34m(self, input)\u001b[0m\n\u001b[1;32m    213\u001b[0m \u001b[38;5;28;01mdef\u001b[39;00m \u001b[38;5;21mforward\u001b[39m(\u001b[38;5;28mself\u001b[39m, \u001b[38;5;28minput\u001b[39m):\n\u001b[1;32m    214\u001b[0m     \u001b[38;5;28;01mfor\u001b[39;00m module \u001b[38;5;129;01min\u001b[39;00m \u001b[38;5;28mself\u001b[39m:\n\u001b[0;32m--> 215\u001b[0m         \u001b[38;5;28minput\u001b[39m \u001b[38;5;241m=\u001b[39m \u001b[43mmodule\u001b[49m\u001b[43m(\u001b[49m\u001b[38;5;28;43minput\u001b[39;49m\u001b[43m)\u001b[49m\n\u001b[1;32m    216\u001b[0m     \u001b[38;5;28;01mreturn\u001b[39;00m \u001b[38;5;28minput\u001b[39m\n",
      "File \u001b[0;32m/opt/conda/envs/pytorch_brevitas/lib/python3.10/site-packages/torch/nn/modules/module.py:1518\u001b[0m, in \u001b[0;36mModule._wrapped_call_impl\u001b[0;34m(self, *args, **kwargs)\u001b[0m\n\u001b[1;32m   1516\u001b[0m     \u001b[38;5;28;01mreturn\u001b[39;00m \u001b[38;5;28mself\u001b[39m\u001b[38;5;241m.\u001b[39m_compiled_call_impl(\u001b[38;5;241m*\u001b[39margs, \u001b[38;5;241m*\u001b[39m\u001b[38;5;241m*\u001b[39mkwargs)  \u001b[38;5;66;03m# type: ignore[misc]\u001b[39;00m\n\u001b[1;32m   1517\u001b[0m \u001b[38;5;28;01melse\u001b[39;00m:\n\u001b[0;32m-> 1518\u001b[0m     \u001b[38;5;28;01mreturn\u001b[39;00m \u001b[38;5;28;43mself\u001b[39;49m\u001b[38;5;241;43m.\u001b[39;49m\u001b[43m_call_impl\u001b[49m\u001b[43m(\u001b[49m\u001b[38;5;241;43m*\u001b[39;49m\u001b[43margs\u001b[49m\u001b[43m,\u001b[49m\u001b[43m \u001b[49m\u001b[38;5;241;43m*\u001b[39;49m\u001b[38;5;241;43m*\u001b[39;49m\u001b[43mkwargs\u001b[49m\u001b[43m)\u001b[49m\n",
      "File \u001b[0;32m/opt/conda/envs/pytorch_brevitas/lib/python3.10/site-packages/torch/nn/modules/module.py:1527\u001b[0m, in \u001b[0;36mModule._call_impl\u001b[0;34m(self, *args, **kwargs)\u001b[0m\n\u001b[1;32m   1522\u001b[0m \u001b[38;5;66;03m# If we don't have any hooks, we want to skip the rest of the logic in\u001b[39;00m\n\u001b[1;32m   1523\u001b[0m \u001b[38;5;66;03m# this function, and just call forward.\u001b[39;00m\n\u001b[1;32m   1524\u001b[0m \u001b[38;5;28;01mif\u001b[39;00m \u001b[38;5;129;01mnot\u001b[39;00m (\u001b[38;5;28mself\u001b[39m\u001b[38;5;241m.\u001b[39m_backward_hooks \u001b[38;5;129;01mor\u001b[39;00m \u001b[38;5;28mself\u001b[39m\u001b[38;5;241m.\u001b[39m_backward_pre_hooks \u001b[38;5;129;01mor\u001b[39;00m \u001b[38;5;28mself\u001b[39m\u001b[38;5;241m.\u001b[39m_forward_hooks \u001b[38;5;129;01mor\u001b[39;00m \u001b[38;5;28mself\u001b[39m\u001b[38;5;241m.\u001b[39m_forward_pre_hooks\n\u001b[1;32m   1525\u001b[0m         \u001b[38;5;129;01mor\u001b[39;00m _global_backward_pre_hooks \u001b[38;5;129;01mor\u001b[39;00m _global_backward_hooks\n\u001b[1;32m   1526\u001b[0m         \u001b[38;5;129;01mor\u001b[39;00m _global_forward_hooks \u001b[38;5;129;01mor\u001b[39;00m _global_forward_pre_hooks):\n\u001b[0;32m-> 1527\u001b[0m     \u001b[38;5;28;01mreturn\u001b[39;00m \u001b[43mforward_call\u001b[49m\u001b[43m(\u001b[49m\u001b[38;5;241;43m*\u001b[39;49m\u001b[43margs\u001b[49m\u001b[43m,\u001b[49m\u001b[43m \u001b[49m\u001b[38;5;241;43m*\u001b[39;49m\u001b[38;5;241;43m*\u001b[39;49m\u001b[43mkwargs\u001b[49m\u001b[43m)\u001b[49m\n\u001b[1;32m   1529\u001b[0m \u001b[38;5;28;01mtry\u001b[39;00m:\n\u001b[1;32m   1530\u001b[0m     result \u001b[38;5;241m=\u001b[39m \u001b[38;5;28;01mNone\u001b[39;00m\n",
      "File \u001b[0;32m/opt/conda/envs/pytorch_brevitas/lib/python3.10/site-packages/brevitas/nn/quant_layer.py:141\u001b[0m, in \u001b[0;36mQuantNonLinearActLayer.forward\u001b[0;34m(self, input)\u001b[0m\n\u001b[1;32m    139\u001b[0m     \u001b[38;5;28mself\u001b[39m\u001b[38;5;241m.\u001b[39m_set_global_is_quant_layer(\u001b[38;5;28;01mFalse\u001b[39;00m)\n\u001b[1;32m    140\u001b[0m     \u001b[38;5;28;01mreturn\u001b[39;00m out\n\u001b[0;32m--> 141\u001b[0m out \u001b[38;5;241m=\u001b[39m \u001b[38;5;28;43mself\u001b[39;49m\u001b[38;5;241;43m.\u001b[39;49m\u001b[43mact_quant\u001b[49m\u001b[43m(\u001b[49m\u001b[43mquant_input\u001b[49m\u001b[43m)\u001b[49m\n\u001b[1;32m    142\u001b[0m out \u001b[38;5;241m=\u001b[39m \u001b[38;5;28mself\u001b[39m\u001b[38;5;241m.\u001b[39mpack_output(out)\n\u001b[1;32m    143\u001b[0m \u001b[38;5;28;01mreturn\u001b[39;00m out\n",
      "File \u001b[0;32m/opt/conda/envs/pytorch_brevitas/lib/python3.10/site-packages/torch/nn/modules/module.py:1518\u001b[0m, in \u001b[0;36mModule._wrapped_call_impl\u001b[0;34m(self, *args, **kwargs)\u001b[0m\n\u001b[1;32m   1516\u001b[0m     \u001b[38;5;28;01mreturn\u001b[39;00m \u001b[38;5;28mself\u001b[39m\u001b[38;5;241m.\u001b[39m_compiled_call_impl(\u001b[38;5;241m*\u001b[39margs, \u001b[38;5;241m*\u001b[39m\u001b[38;5;241m*\u001b[39mkwargs)  \u001b[38;5;66;03m# type: ignore[misc]\u001b[39;00m\n\u001b[1;32m   1517\u001b[0m \u001b[38;5;28;01melse\u001b[39;00m:\n\u001b[0;32m-> 1518\u001b[0m     \u001b[38;5;28;01mreturn\u001b[39;00m \u001b[38;5;28;43mself\u001b[39;49m\u001b[38;5;241;43m.\u001b[39;49m\u001b[43m_call_impl\u001b[49m\u001b[43m(\u001b[49m\u001b[38;5;241;43m*\u001b[39;49m\u001b[43margs\u001b[49m\u001b[43m,\u001b[49m\u001b[43m \u001b[49m\u001b[38;5;241;43m*\u001b[39;49m\u001b[38;5;241;43m*\u001b[39;49m\u001b[43mkwargs\u001b[49m\u001b[43m)\u001b[49m\n",
      "File \u001b[0;32m/opt/conda/envs/pytorch_brevitas/lib/python3.10/site-packages/torch/nn/modules/module.py:1527\u001b[0m, in \u001b[0;36mModule._call_impl\u001b[0;34m(self, *args, **kwargs)\u001b[0m\n\u001b[1;32m   1522\u001b[0m \u001b[38;5;66;03m# If we don't have any hooks, we want to skip the rest of the logic in\u001b[39;00m\n\u001b[1;32m   1523\u001b[0m \u001b[38;5;66;03m# this function, and just call forward.\u001b[39;00m\n\u001b[1;32m   1524\u001b[0m \u001b[38;5;28;01mif\u001b[39;00m \u001b[38;5;129;01mnot\u001b[39;00m (\u001b[38;5;28mself\u001b[39m\u001b[38;5;241m.\u001b[39m_backward_hooks \u001b[38;5;129;01mor\u001b[39;00m \u001b[38;5;28mself\u001b[39m\u001b[38;5;241m.\u001b[39m_backward_pre_hooks \u001b[38;5;129;01mor\u001b[39;00m \u001b[38;5;28mself\u001b[39m\u001b[38;5;241m.\u001b[39m_forward_hooks \u001b[38;5;129;01mor\u001b[39;00m \u001b[38;5;28mself\u001b[39m\u001b[38;5;241m.\u001b[39m_forward_pre_hooks\n\u001b[1;32m   1525\u001b[0m         \u001b[38;5;129;01mor\u001b[39;00m _global_backward_pre_hooks \u001b[38;5;129;01mor\u001b[39;00m _global_backward_hooks\n\u001b[1;32m   1526\u001b[0m         \u001b[38;5;129;01mor\u001b[39;00m _global_forward_hooks \u001b[38;5;129;01mor\u001b[39;00m _global_forward_pre_hooks):\n\u001b[0;32m-> 1527\u001b[0m     \u001b[38;5;28;01mreturn\u001b[39;00m \u001b[43mforward_call\u001b[49m\u001b[43m(\u001b[49m\u001b[38;5;241;43m*\u001b[39;49m\u001b[43margs\u001b[49m\u001b[43m,\u001b[49m\u001b[43m \u001b[49m\u001b[38;5;241;43m*\u001b[39;49m\u001b[38;5;241;43m*\u001b[39;49m\u001b[43mkwargs\u001b[49m\u001b[43m)\u001b[49m\n\u001b[1;32m   1529\u001b[0m \u001b[38;5;28;01mtry\u001b[39;00m:\n\u001b[1;32m   1530\u001b[0m     result \u001b[38;5;241m=\u001b[39m \u001b[38;5;28;01mNone\u001b[39;00m\n",
      "File \u001b[0;32m/opt/conda/envs/pytorch_brevitas/lib/python3.10/site-packages/brevitas/proxy/runtime_quant.py:152\u001b[0m, in \u001b[0;36mActQuantProxyFromInjector.forward\u001b[0;34m(self, x)\u001b[0m\n\u001b[1;32m    150\u001b[0m     y \u001b[38;5;241m=\u001b[39m \u001b[38;5;28mself\u001b[39m\u001b[38;5;241m.\u001b[39mfused_activation_quant_proxy\u001b[38;5;241m.\u001b[39mactivation_impl(y)\n\u001b[1;32m    151\u001b[0m \u001b[38;5;28;01melse\u001b[39;00m:\n\u001b[0;32m--> 152\u001b[0m     y \u001b[38;5;241m=\u001b[39m \u001b[38;5;28;43mself\u001b[39;49m\u001b[38;5;241;43m.\u001b[39;49m\u001b[43mfused_activation_quant_proxy\u001b[49m\u001b[43m(\u001b[49m\u001b[43my\u001b[49m\u001b[43m)\u001b[49m\n\u001b[1;32m    153\u001b[0m \u001b[38;5;66;03m# If y is an empty QuantTensor, we need to check if this is a passthrough proxy,\u001b[39;00m\n\u001b[1;32m    154\u001b[0m \u001b[38;5;66;03m# otherwise return an empty QuantTensor\u001b[39;00m\n\u001b[1;32m    155\u001b[0m \u001b[38;5;28;01mif\u001b[39;00m \u001b[38;5;28misinstance\u001b[39m(y, \u001b[38;5;28mtuple\u001b[39m) \u001b[38;5;129;01mand\u001b[39;00m \u001b[38;5;129;01mnot\u001b[39;00m \u001b[38;5;28many\u001b[39m(\u001b[38;5;28mmap\u001b[39m(\u001b[38;5;28;01mlambda\u001b[39;00m f: f \u001b[38;5;129;01mis\u001b[39;00m \u001b[38;5;28;01mNone\u001b[39;00m, y)):\n",
      "File \u001b[0;32m/opt/conda/envs/pytorch_brevitas/lib/python3.10/site-packages/torch/nn/modules/module.py:1518\u001b[0m, in \u001b[0;36mModule._wrapped_call_impl\u001b[0;34m(self, *args, **kwargs)\u001b[0m\n\u001b[1;32m   1516\u001b[0m     \u001b[38;5;28;01mreturn\u001b[39;00m \u001b[38;5;28mself\u001b[39m\u001b[38;5;241m.\u001b[39m_compiled_call_impl(\u001b[38;5;241m*\u001b[39margs, \u001b[38;5;241m*\u001b[39m\u001b[38;5;241m*\u001b[39mkwargs)  \u001b[38;5;66;03m# type: ignore[misc]\u001b[39;00m\n\u001b[1;32m   1517\u001b[0m \u001b[38;5;28;01melse\u001b[39;00m:\n\u001b[0;32m-> 1518\u001b[0m     \u001b[38;5;28;01mreturn\u001b[39;00m \u001b[38;5;28;43mself\u001b[39;49m\u001b[38;5;241;43m.\u001b[39;49m\u001b[43m_call_impl\u001b[49m\u001b[43m(\u001b[49m\u001b[38;5;241;43m*\u001b[39;49m\u001b[43margs\u001b[49m\u001b[43m,\u001b[49m\u001b[43m \u001b[49m\u001b[38;5;241;43m*\u001b[39;49m\u001b[38;5;241;43m*\u001b[39;49m\u001b[43mkwargs\u001b[49m\u001b[43m)\u001b[49m\n",
      "File \u001b[0;32m/opt/conda/envs/pytorch_brevitas/lib/python3.10/site-packages/torch/nn/modules/module.py:1527\u001b[0m, in \u001b[0;36mModule._call_impl\u001b[0;34m(self, *args, **kwargs)\u001b[0m\n\u001b[1;32m   1522\u001b[0m \u001b[38;5;66;03m# If we don't have any hooks, we want to skip the rest of the logic in\u001b[39;00m\n\u001b[1;32m   1523\u001b[0m \u001b[38;5;66;03m# this function, and just call forward.\u001b[39;00m\n\u001b[1;32m   1524\u001b[0m \u001b[38;5;28;01mif\u001b[39;00m \u001b[38;5;129;01mnot\u001b[39;00m (\u001b[38;5;28mself\u001b[39m\u001b[38;5;241m.\u001b[39m_backward_hooks \u001b[38;5;129;01mor\u001b[39;00m \u001b[38;5;28mself\u001b[39m\u001b[38;5;241m.\u001b[39m_backward_pre_hooks \u001b[38;5;129;01mor\u001b[39;00m \u001b[38;5;28mself\u001b[39m\u001b[38;5;241m.\u001b[39m_forward_hooks \u001b[38;5;129;01mor\u001b[39;00m \u001b[38;5;28mself\u001b[39m\u001b[38;5;241m.\u001b[39m_forward_pre_hooks\n\u001b[1;32m   1525\u001b[0m         \u001b[38;5;129;01mor\u001b[39;00m _global_backward_pre_hooks \u001b[38;5;129;01mor\u001b[39;00m _global_backward_hooks\n\u001b[1;32m   1526\u001b[0m         \u001b[38;5;129;01mor\u001b[39;00m _global_forward_hooks \u001b[38;5;129;01mor\u001b[39;00m _global_forward_pre_hooks):\n\u001b[0;32m-> 1527\u001b[0m     \u001b[38;5;28;01mreturn\u001b[39;00m \u001b[43mforward_call\u001b[49m\u001b[43m(\u001b[49m\u001b[38;5;241;43m*\u001b[39;49m\u001b[43margs\u001b[49m\u001b[43m,\u001b[49m\u001b[43m \u001b[49m\u001b[38;5;241;43m*\u001b[39;49m\u001b[38;5;241;43m*\u001b[39;49m\u001b[43mkwargs\u001b[49m\u001b[43m)\u001b[49m\n\u001b[1;32m   1529\u001b[0m \u001b[38;5;28;01mtry\u001b[39;00m:\n\u001b[1;32m   1530\u001b[0m     result \u001b[38;5;241m=\u001b[39m \u001b[38;5;28;01mNone\u001b[39;00m\n",
      "File \u001b[0;32m/opt/conda/envs/pytorch_brevitas/lib/python3.10/site-packages/brevitas/proxy/runtime_quant.py:81\u001b[0m, in \u001b[0;36mFusedActivationQuantProxy.forward\u001b[0;34m(self, x)\u001b[0m\n\u001b[1;32m     79\u001b[0m \u001b[38;5;129m@brevitas\u001b[39m\u001b[38;5;241m.\u001b[39mjit\u001b[38;5;241m.\u001b[39mscript_method\n\u001b[1;32m     80\u001b[0m \u001b[38;5;28;01mdef\u001b[39;00m \u001b[38;5;21mforward\u001b[39m(\u001b[38;5;28mself\u001b[39m, x):\n\u001b[0;32m---> 81\u001b[0m     x \u001b[38;5;241m=\u001b[39m \u001b[38;5;28;43mself\u001b[39;49m\u001b[38;5;241;43m.\u001b[39;49m\u001b[43mactivation_impl\u001b[49m\u001b[43m(\u001b[49m\u001b[43mx\u001b[49m\u001b[43m)\u001b[49m\n\u001b[1;32m     82\u001b[0m     x, output_scale, output_zp, output_bit_width \u001b[38;5;241m=\u001b[39m \u001b[38;5;28mself\u001b[39m\u001b[38;5;241m.\u001b[39mtensor_quant(x)\n\u001b[1;32m     83\u001b[0m     \u001b[38;5;28;01mreturn\u001b[39;00m x, output_scale, output_zp, output_bit_width\n",
      "File \u001b[0;32m/opt/conda/envs/pytorch_brevitas/lib/python3.10/site-packages/torch/nn/modules/module.py:1514\u001b[0m, in \u001b[0;36mModule._wrapped_call_impl\u001b[0;34m(self, *args, **kwargs)\u001b[0m\n\u001b[1;32m   1511\u001b[0m             tracing_state\u001b[38;5;241m.\u001b[39mpop_scope()\n\u001b[1;32m   1512\u001b[0m     \u001b[38;5;28;01mreturn\u001b[39;00m result\n\u001b[0;32m-> 1514\u001b[0m \u001b[38;5;28;01mdef\u001b[39;00m \u001b[38;5;21m_wrapped_call_impl\u001b[39m(\u001b[38;5;28mself\u001b[39m, \u001b[38;5;241m*\u001b[39margs, \u001b[38;5;241m*\u001b[39m\u001b[38;5;241m*\u001b[39mkwargs):\n\u001b[1;32m   1515\u001b[0m     \u001b[38;5;28;01mif\u001b[39;00m \u001b[38;5;28mself\u001b[39m\u001b[38;5;241m.\u001b[39m_compiled_call_impl \u001b[38;5;129;01mis\u001b[39;00m \u001b[38;5;129;01mnot\u001b[39;00m \u001b[38;5;28;01mNone\u001b[39;00m:\n\u001b[1;32m   1516\u001b[0m         \u001b[38;5;28;01mreturn\u001b[39;00m \u001b[38;5;28mself\u001b[39m\u001b[38;5;241m.\u001b[39m_compiled_call_impl(\u001b[38;5;241m*\u001b[39margs, \u001b[38;5;241m*\u001b[39m\u001b[38;5;241m*\u001b[39mkwargs)  \u001b[38;5;66;03m# type: ignore[misc]\u001b[39;00m\n",
      "\u001b[0;31mKeyboardInterrupt\u001b[0m: "
     ]
    }
   ],
   "source": [
    "if __name__ == \"__main__\":\n",
    "    \n",
    "    print(\"Starting script\\n\")\n",
    "    logger.info(\"Starting script\\n\")\n",
    "    \n",
    "    model = train_loop(model)"
   ]
  },
  {
   "cell_type": "code",
   "execution_count": null,
   "id": "bb0eaad5-d3f2-48e4-9922-505d025372b7",
   "metadata": {},
   "outputs": [],
   "source": [
    "# if __name__ == \"__main__\":\n",
    "    \n",
    "#     print(\"Train More script\\n\")\n",
    "#     logger.info(\"Train More\\n\")\n",
    "    \n",
    "#     model = train_loop(model, start_epoch=75, epochs_to_train=15)"
   ]
  },
  {
   "cell_type": "markdown",
   "id": "6e5e0386-520e-4452-a4bd-217a39e3478f",
   "metadata": {},
   "source": [
    "# Test with DFire MINI Dataset: Train and Test"
   ]
  },
  {
   "cell_type": "code",
   "execution_count": null,
   "id": "ab9c8bf2-dce8-4ac5-82a9-abbd30a20b08",
   "metadata": {},
   "outputs": [],
   "source": [
    "# import importlib\n",
    "# importlib.reload(config)\n",
    "# importlib.reload(dataloaders)"
   ]
  },
  {
   "cell_type": "code",
   "execution_count": null,
   "id": "1c7cc77c-6bdf-4d83-9358-61038a8b23bb",
   "metadata": {},
   "outputs": [],
   "source": [
    "train_dfire_mini_loader = dataloaders.get_dfire_mini_train_loader()\n",
    "test_dfire_mini_loader = dataloaders.get_dfire_mini_test_loader()"
   ]
  },
  {
   "cell_type": "markdown",
   "id": "46c18474-8bc6-4f26-9479-529412e9c71d",
   "metadata": {},
   "source": [
    "### Load Checkpoint with Best F1 Mean"
   ]
  },
  {
   "cell_type": "code",
   "execution_count": null,
   "id": "b517a297-edea-4d37-9e5b-90ca2512c9e7",
   "metadata": {},
   "outputs": [],
   "source": [
    "model_path = config.WEIGHTS_FOLDER + config.MODEL + '_classifier__best_mean_F1.pt'"
   ]
  },
  {
   "cell_type": "code",
   "execution_count": null,
   "id": "9b0959a9-9b84-4fd6-85a3-67fb519f6b10",
   "metadata": {},
   "outputs": [],
   "source": [
    "utils.load_checkpoint(\n",
    "    model_path, \n",
    "    model=model, \n",
    "    optimizer=optimizer, \n",
    "    scheduler=scheduler, \n",
    "    device=config.DEVICE)"
   ]
  },
  {
   "cell_type": "code",
   "execution_count": null,
   "id": "5a80e3bb-2570-4e76-960f-ac0284681c8a",
   "metadata": {},
   "outputs": [],
   "source": [
    "model.to('cuda');"
   ]
  },
  {
   "cell_type": "markdown",
   "id": "c8eb53e5-0b75-4bb0-8f45-d2e104d25a13",
   "metadata": {},
   "source": [
    "### Whole Test Loader, to check it is the same as training"
   ]
  },
  {
   "cell_type": "code",
   "execution_count": null,
   "id": "9c1ae050-a816-407d-9569-5e5b6f84af6b",
   "metadata": {},
   "outputs": [],
   "source": [
    "with torch.no_grad():\n",
    "    val_losses, val_metrics = val_epoch.eval_fn(\n",
    "        loader=val_loader, \n",
    "        model=model,                         \n",
    "        loss_fn=loss_fn,\n",
    "        device=config.DEVICE)"
   ]
  },
  {
   "cell_type": "code",
   "execution_count": null,
   "id": "bf582d94-1848-4729-8816-86f1211e9904",
   "metadata": {},
   "outputs": [],
   "source": [
    "logger.info('\\nTesting with FULL TEST LOADER')  \n",
    "#logger.info(val_losses)\n",
    "logger.info(val_metrics)"
   ]
  },
  {
   "cell_type": "markdown",
   "id": "36662803-7b09-4c43-9e14-5045635f86ab",
   "metadata": {},
   "source": [
    "### Train DFire MINI"
   ]
  },
  {
   "cell_type": "code",
   "execution_count": null,
   "id": "d40dff6c-50a6-4fa9-af36-496730a81fab",
   "metadata": {},
   "outputs": [],
   "source": [
    "with torch.no_grad():\n",
    "    val_losses, val_metrics = val_epoch.eval_fn(\n",
    "        loader=train_dfire_mini_loader, \n",
    "        model=model,                         \n",
    "        loss_fn=loss_fn,\n",
    "        device=config.DEVICE)"
   ]
  },
  {
   "cell_type": "code",
   "execution_count": null,
   "id": "9f864d7c-7da2-4c7c-b99a-f1943d722b13",
   "metadata": {},
   "outputs": [],
   "source": [
    "logger.info('\\nTesting with DFire MINI TRAIN after LOADING F1 Best Mean CHECKPOINT')  \n",
    "#logger.info(val_losses)\n",
    "logger.info(val_metrics)"
   ]
  },
  {
   "cell_type": "markdown",
   "id": "17c77cd9-05ef-4771-8707-82ba5f16ef0c",
   "metadata": {},
   "source": [
    "### Test DFire MINI"
   ]
  },
  {
   "cell_type": "code",
   "execution_count": null,
   "id": "2c237df0-9726-42e9-8ebe-d738948fb047",
   "metadata": {},
   "outputs": [],
   "source": [
    "with torch.no_grad():\n",
    "    val_losses, val_metrics = val_epoch.eval_fn(\n",
    "        loader=test_dfire_mini_loader, \n",
    "        model=model,                         \n",
    "        loss_fn=loss_fn,\n",
    "        device=config.DEVICE)"
   ]
  },
  {
   "cell_type": "code",
   "execution_count": null,
   "id": "06fdf6f8-b716-4ee3-a29a-ea9972387cd8",
   "metadata": {},
   "outputs": [],
   "source": [
    "logger.info('\\nTesting with DFire MINI TEST after LOADING F1 Best Mean CHECKPOINT')  \n",
    "#logger.info(val_losses)\n",
    "logger.info(val_metrics)"
   ]
  },
  {
   "cell_type": "markdown",
   "id": "2c900ac0-d24b-45c6-bab6-8e14cd6cd04d",
   "metadata": {},
   "source": [
    "# Convert the Model to BIPOLAR OUT"
   ]
  },
  {
   "cell_type": "code",
   "execution_count": null,
   "id": "d200ae1b-ba48-42f5-9c6f-85896602f444",
   "metadata": {},
   "outputs": [],
   "source": [
    "import brevitas.nn as qnn\n",
    "import torch.nn as nn"
   ]
  },
  {
   "cell_type": "code",
   "execution_count": null,
   "id": "c168b256-32e0-436f-9400-0479892b124f",
   "metadata": {},
   "outputs": [],
   "source": [
    "class CNV_BIPOLAR_OUT(nn.Module):\n",
    "    def __init__(self, base_model):\n",
    "        super(CNV_BIPOLAR_OUT, self).__init__()\n",
    "        self.base_model = base_model\n",
    "        self.qnt_output = qnn.QuantIdentity(\n",
    "            quant_type='binary', \n",
    "            scaling_impl_type='const',\n",
    "            bit_width=1, min_val=-1.0, max_val=1.0)\n",
    "\n",
    "    def forward(self, x):\n",
    "        x = self.base_model(x)\n",
    "        x = self.qnt_output(x)\n",
    "        return x"
   ]
  },
  {
   "cell_type": "code",
   "execution_count": null,
   "id": "e72ae5e1-b97e-4250-bf88-3ed4d9d4db12",
   "metadata": {},
   "outputs": [],
   "source": [
    "cnv_bipolar_out = CNV_BIPOLAR_OUT(model).to(config.DEVICE)"
   ]
  },
  {
   "cell_type": "markdown",
   "id": "d24225a2-634a-4d8f-840a-ff382a29e3bd",
   "metadata": {},
   "source": [
    "### New Evaluation for BIPOLAR Out Model"
   ]
  },
  {
   "cell_type": "code",
   "execution_count": null,
   "id": "be051f33-348c-43ec-89aa-d7e1e411d227",
   "metadata": {},
   "outputs": [],
   "source": [
    "from tqdm import tqdm\n",
    "\n",
    "def eval_bipolar_fn(loader, model, device):\n",
    "    \n",
    "    model.eval()\n",
    "    loop = tqdm(loader, desc='Validating', leave=True)\n",
    "\n",
    "    for batch_idx, (x, y) in enumerate(loop):\n",
    "        x, y = x.to(device), y.to(device)\n",
    "        yhat = model(x)\n",
    "\n",
    "        # print(y.shape)\n",
    "        # print(yhat.shape)\n",
    "        \n",
    "        yhat[yhat < 1] = 0\n",
    "    \n",
    "        metrics.precision_metric.update(yhat, y)\n",
    "        metrics.recall_metric.update(yhat, y)\n",
    "        metrics.accuracy_metric.update(yhat, y)\n",
    "        metrics.f1_metric.update(yhat, y)\n",
    "   \n",
    "    precision = metrics.precision_metric.compute()\n",
    "    recall = metrics.recall_metric.compute()\n",
    "    accuracy = metrics.accuracy_metric.compute()\n",
    "    f1 = metrics.f1_metric.compute()\n",
    "    \n",
    "    metrics.precision_metric.reset()\n",
    "    metrics.recall_metric.reset()\n",
    "    metrics.accuracy_metric.reset()\n",
    "    metrics.f1_metric.reset()\n",
    "\n",
    "    print(f'SMOKE -> Precision: {precision[0]:.4f} - Recall: {recall[0]:.4f} - Accuracy: {accuracy[0]:.4f} - F1: {f1[0]:.4f}')\n",
    "    print(f'FIRE -> Precision: {precision[1]:.4f} - Recall: {recall[1]:.4f} - Accuracy: {accuracy[1]:.4f} - F1: {f1[1]:.4f}')\n",
    "    \n",
    "    return (\n",
    "        {\n",
    "        'Accuracy': [accuracy[0].item(), accuracy[1].item()],\n",
    "        'Precision': [precision[0].item(), precision[1].item()],\n",
    "        'Recall': [recall[0].item(), recall[1].item()],\n",
    "        'F1': [f1[0].item(), f1[1].item()] \n",
    "        }\n",
    "    )"
   ]
  },
  {
   "cell_type": "markdown",
   "id": "3070ff2c-7e3d-4ca2-b0bc-1928209b07d1",
   "metadata": {},
   "source": [
    "### Full DS"
   ]
  },
  {
   "cell_type": "code",
   "execution_count": null,
   "id": "6c6d2eb2-6bca-4693-a27f-cd63c642cf86",
   "metadata": {},
   "outputs": [],
   "source": [
    "cnv_bipolar_out.eval()\n",
    "with torch.no_grad():\n",
    "    val_metrics = eval_bipolar_fn(\n",
    "        loader=val_loader, \n",
    "        model=cnv_bipolar_out,                         \n",
    "        device=config.DEVICE)"
   ]
  },
  {
   "cell_type": "markdown",
   "id": "0c3406d0-46a6-4836-8912-8241f1d494ec",
   "metadata": {},
   "source": [
    "### Mini Train"
   ]
  },
  {
   "cell_type": "code",
   "execution_count": null,
   "id": "de7fedf3-e1ca-451b-9dd5-41d8c65f3e82",
   "metadata": {},
   "outputs": [],
   "source": [
    "with torch.no_grad():\n",
    "    val_metrics = eval_bipolar_fn(\n",
    "        loader=train_dfire_mini_loader, \n",
    "        model=cnv_bipolar_out,                         \n",
    "        device=config.DEVICE)"
   ]
  },
  {
   "cell_type": "markdown",
   "id": "8dd7b8c3-c8aa-408a-b887-8149c3dec985",
   "metadata": {},
   "source": [
    "### Mini Test"
   ]
  },
  {
   "cell_type": "code",
   "execution_count": null,
   "id": "e135c88d-8733-4aab-b3ff-046ea263f196",
   "metadata": {},
   "outputs": [],
   "source": [
    "with torch.no_grad():\n",
    "    val_metrics = eval_bipolar_fn(\n",
    "        loader=test_dfire_mini_loader, \n",
    "        model=cnv_bipolar_out,                         \n",
    "        device=config.DEVICE)"
   ]
  },
  {
   "cell_type": "markdown",
   "id": "aefafb34-9307-4292-91b3-f1cd01d6ea7f",
   "metadata": {},
   "source": [
    "# Export Bipolar to QONNX"
   ]
  },
  {
   "cell_type": "code",
   "execution_count": null,
   "id": "019a10e2-20ae-41dd-abc2-5aeb86d3692b",
   "metadata": {},
   "outputs": [],
   "source": [
    "save_f1_name = 'best_mean_F1'\n",
    "save_bipolar_onnx = config.ONNX_FOLDER + config.MODEL + '_classifier__' + save_f1_name + '__BIPOLAR_Out'\n",
    "utils.export_onnx(cnv_bipolar_out, (1, config.NUM_CHANNELS, config.IMG_H, config.IMG_W), save_bipolar_onnx, config.DEVICE)"
   ]
  },
  {
   "cell_type": "code",
   "execution_count": null,
   "id": "db9f52f1-e66b-4379-ba41-5c19a5080da2",
   "metadata": {
    "editable": true,
    "slideshow": {
     "slide_type": ""
    },
    "tags": []
   },
   "outputs": [],
   "source": []
  }
 ],
 "metadata": {
  "kernelspec": {
   "display_name": "Python 3 (ipykernel)",
   "language": "python",
   "name": "python3"
  },
  "language_info": {
   "codemirror_mode": {
    "name": "ipython",
    "version": 3
   },
   "file_extension": ".py",
   "mimetype": "text/x-python",
   "name": "python",
   "nbconvert_exporter": "python",
   "pygments_lexer": "ipython3",
   "version": "3.10.9"
  }
 },
 "nbformat": 4,
 "nbformat_minor": 5
}
