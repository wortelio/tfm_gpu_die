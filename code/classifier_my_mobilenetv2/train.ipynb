{
 "cells": [
  {
   "cell_type": "code",
   "execution_count": 1,
   "id": "ced39284-e77a-4bb4-b4f4-1e32f8dc378b",
   "metadata": {},
   "outputs": [
    {
     "name": "stderr",
     "output_type": "stream",
     "text": [
      "INFO:albumentations.check_version:A new version of Albumentations is available: 1.4.21 (you have 1.4.10). Upgrade using: pip install --upgrade albumentations\n"
     ]
    }
   ],
   "source": [
    "import logging\n",
    "import datetime\n",
    "\n",
    "import numpy as np\n",
    "import torch\n",
    "from torch.nn.utils import parameters_to_vector\n",
    "import torch.optim as optim\n",
    "from torchinfo import summary\n",
    "\n",
    "import matplotlib.pyplot as plt\n",
    "\n",
    "import config\n",
    "import modules.dataloaders as dataloaders\n",
    "\n",
    "# import modules.model_mobilenetv2 as cnv_model\n",
    "# import modules.model_mobilenetv2_small as cnv_model\n",
    "# import modules.model_mobilenetv2_mini_Resnet as cnv_model\n",
    "import modules.model_mobilenetv2_mini as cnv_model\n",
    "\n",
    "import modules.loss as loss\n",
    "import modules.metrics as metrics\n",
    "import modules.train_epoch as train_epoch\n",
    "import modules.val_epoch as val_epoch\n",
    "import modules.utils as utils"
   ]
  },
  {
   "cell_type": "code",
   "execution_count": 2,
   "id": "8c9f1ed9-bdb0-4417-ac3d-cec7acef5117",
   "metadata": {},
   "outputs": [],
   "source": [
    "# from brevitas.export import export_onnx_qcdq\n",
    "# from brevitas.export import export_qonnx"
   ]
  },
  {
   "cell_type": "markdown",
   "id": "41561148-0730-471e-85f3-f6baff142607",
   "metadata": {},
   "source": [
    "# Reimport"
   ]
  },
  {
   "cell_type": "code",
   "execution_count": 3,
   "id": "7bc1fffe-379c-4e1d-bf8c-82e51fbc7ea8",
   "metadata": {
    "tags": []
   },
   "outputs": [],
   "source": [
    "# import importlib\n",
    "# importlib.reload(config)"
   ]
  },
  {
   "cell_type": "markdown",
   "id": "4e2413f4-083b-4ddd-bf51-0332c1166d47",
   "metadata": {},
   "source": [
    "# Logger"
   ]
  },
  {
   "cell_type": "code",
   "execution_count": 4,
   "id": "9006bcad-639b-4775-b5a6-2fd13420cbb2",
   "metadata": {},
   "outputs": [],
   "source": [
    "log_path = config.LOGS_FOLDER\n",
    "\n",
    "logger = logging.getLogger(\"GonLogger\")\n",
    "logger.propagate = False\n",
    "logger.setLevel(logging.INFO)\n",
    "file_handler = logging.FileHandler(log_path + 'logfile.log')\n",
    "formatter = logging.Formatter('%(message)s')\n",
    "file_handler.setFormatter(formatter)\n",
    "\n",
    "# add file handler to logger\n",
    "logger.addHandler(file_handler)\n",
    "\n",
    "logger.info('BED Classifier.\\n' +  \n",
    "            '\\tOne Head.\\n' +\n",
    "            '\\tWeighted for Precision.\\n' +\n",
    "            '\\tBrevitas Default.\\n'+ \n",
    "            '\\tDataset images divided by 255.\\n')"
   ]
  },
  {
   "cell_type": "markdown",
   "id": "3884364d-ec36-4e80-a0d5-c5d259f4b313",
   "metadata": {},
   "source": [
    "# Hyperparameters Log"
   ]
  },
  {
   "cell_type": "code",
   "execution_count": 5,
   "id": "25fe6b1d-7f69-48d4-80a2-219e19c33016",
   "metadata": {},
   "outputs": [
    {
     "name": "stdout",
     "output_type": "stream",
     "text": [
      "\n",
      "Datasets Length\n",
      "\tTrain and Val: Full\n",
      "\n",
      "Load Model: False\n",
      "Device: cuda\n",
      "Optimizer:\n",
      "\tLearning Rate: 0.001\n",
      "\tWeight Decay: 0.001\n",
      "Scheduler:\n",
      "\tScheduler factor: 0.8\n",
      "\tScheduler patience: 2\n",
      "\tScheduler threshold: 0.001\n",
      "\tScheduler min learning rate: 1e-06\n",
      "Batch Size: 64\n",
      "Num Workers: 8\n",
      "Pin Memory: True\n",
      "Epochs: 100\n",
      "\n",
      "IMG DIMS:\n",
      "\tWidth: 224\n",
      "\tHeight: 224\n",
      "\n",
      "Brevitas Config:\n",
      "\tFixed Point: True\n",
      "\tWeights Bit Width: 4\n",
      "\tBig Layers Weights Bit Width: 4\n",
      "\tBias Bit Width: 4\n",
      "\tActivations Bit Width: 4\n"
     ]
    }
   ],
   "source": [
    "''' ============================\n",
    "    Print Config Values\n",
    "============================ '''\n",
    "print('\\nDatasets Length')\n",
    "print(f'\\tTrain and Val: {\"Full\" if config.DS_LEN == None else config.DS_LEN}')\n",
    "print(f'\\nLoad Model: {config.LOAD_MODEL}')\n",
    "if (config.LOAD_MODEL == True):\n",
    "    print(f'\\tModel: {config.LOAD_MODEL_FILE}')\n",
    "print(f'Device: {config.DEVICE}')\n",
    "print('Optimizer:')\n",
    "print(f'\\tLearning Rate: {config.LEARNING_RATE}')\n",
    "print(f'\\tWeight Decay: {config.WEIGHT_DECAY}')\n",
    "print('Scheduler:')\n",
    "print(f'\\tScheduler factor: {config.FACTOR}')\n",
    "print(f'\\tScheduler patience: {config.PATIENCE}')\n",
    "print(f'\\tScheduler threshold: {config.THRES}')\n",
    "print(f'\\tScheduler min learning rate: {config.MIN_LR}')\n",
    "print(f'Batch Size: {config.BATCH_SIZE}')\n",
    "print(f'Num Workers: {config.NUM_WORKERS}')\n",
    "print(f'Pin Memory: {config.PIN_MEMORY}')\n",
    "print(f'Epochs: {config.EPOCHS}')\n",
    "print('\\nIMG DIMS:')\n",
    "print(f'\\tWidth: {config.IMG_W}\\n\\tHeight: {config.IMG_H}')\n",
    "print('\\nBrevitas Config:')\n",
    "print(f'\\tFixed Point: {config.FIXED_POINT}')\n",
    "print(f'\\tWeights Bit Width: {config.WEIGHTS_BIT_WIDTH}')\n",
    "print(f'\\tBig Layers Weights Bit Width: {config.BIG_LAYERS_WEIGHTS_BIT_WIDTH}')\n",
    "print(f'\\tBias Bit Width: {config.BIAS_BIT_WIDTH}')\n",
    "print(f'\\tActivations Bit Width: {config.ACTIVATIONS_BIT_WIDTH}')\n",
    "\n",
    "logger.info('\\nDatasets Length')\n",
    "logger.info(f'\\tTrain and Val: {\"Full\" if config.DS_LEN == None else config.DS_LEN}')\n",
    "logger.info(f'\\nLoad Model: {config.LOAD_MODEL}')\n",
    "if (config.LOAD_MODEL == True):\n",
    "    logger.info(f'\\tModel: {config.LOAD_MODEL_FILE}')\n",
    "logger.info(f'\\nDevice: {config.DEVICE}')\n",
    "logger.info('Optimizer:')\n",
    "logger.info(f'\\tLearning Rate: {config.LEARNING_RATE}')\n",
    "logger.info(f'\\tWeight Decay: {config.WEIGHT_DECAY}')\n",
    "logger.info('Scheduler:')\n",
    "logger.info(f'\\tScheduler factor: {config.FACTOR}')\n",
    "logger.info(f'\\tScheduler patience: {config.PATIENCE}')\n",
    "logger.info(f'\\tScheduler threshold: {config.THRES}')\n",
    "logger.info(f'\\tScheduler min learning rate: {config.MIN_LR}')\n",
    "logger.info(f'\\nBatch Size: {config.BATCH_SIZE}')\n",
    "logger.info(f'Num Workers: {config.NUM_WORKERS}')\n",
    "logger.info(f'Pin Memory: {config.PIN_MEMORY}')\n",
    "logger.info(f'Epochs: {config.EPOCHS}')\n",
    "logger.info('\\nIMG DIMS:')\n",
    "logger.info(f'\\tWidth: {config.IMG_W}\\n\\tHeight: {config.IMG_H}')\n",
    "logger.info('\\nBrevitas Config:')\n",
    "logger.info(f'\\tFixed Point: {config.FIXED_POINT}')\n",
    "logger.info(f'\\tWeights Bit Width: {config.WEIGHTS_BIT_WIDTH}')\n",
    "logger.info(f'\\tBig Layers Weights Bit Width: {config.BIG_LAYERS_WEIGHTS_BIT_WIDTH}')\n",
    "logger.info(f'\\tBias Bit Width: {config.BIAS_BIT_WIDTH}')\n",
    "logger.info(f'\\tActivations Bit Width: {config.ACTIVATIONS_BIT_WIDTH}')"
   ]
  },
  {
   "cell_type": "markdown",
   "id": "c48611bc-7a36-41f5-a80c-5cc442bd40fd",
   "metadata": {},
   "source": [
    "# Dataloaders"
   ]
  },
  {
   "cell_type": "code",
   "execution_count": 6,
   "id": "125fadde-618b-4a0d-8d1e-86f4b46a35a2",
   "metadata": {},
   "outputs": [
    {
     "name": "stdout",
     "output_type": "stream",
     "text": [
      "\n",
      "====================\n",
      "TRAIN DFIRE dataset\n",
      "DFire Removed wrong images: 0\n",
      "DFire empty images: 7833\n",
      "DFire only smoke images: 4681\n",
      "DFire only fire images: 944\n",
      "DFire smoke and fire images: 3763\n",
      "\n",
      "Train DFire dataset len: 17221\n",
      "\n",
      "====================\n",
      "TRAIN FASDD UAV dataset\n",
      "FASDD Removed wrong images: 0\n",
      "FASDD empty images: 5994\n",
      "FASDD only smoke images: 2541\n",
      "FASDD only fire images: 105\n",
      "FASDD smoke and fire images: 3911\n",
      "\n",
      "Train FASDD UAV dataset len: 12551\n",
      "\n",
      "====================\n",
      "VAL FASDD UAV dataset\n",
      "FASDD Removed wrong images: 0\n",
      "FASDD empty images: 3995\n",
      "FASDD only smoke images: 1693\n",
      "FASDD only fire images: 70\n",
      "FASDD smoke and fire images: 2607\n",
      "\n",
      "Val FASDD UAV dataset len: 8365\n",
      "\n",
      "====================\n",
      "TRAIN FASDD CV dataset\n"
     ]
    },
    {
     "name": "stderr",
     "output_type": "stream",
     "text": [
      "Warning: unknown JFIF revision number 32.23\n"
     ]
    },
    {
     "name": "stdout",
     "output_type": "stream",
     "text": [
      "FASDD Removed wrong images: 0\n",
      "FASDD empty images: 19600\n",
      "FASDD only smoke images: 11708\n",
      "FASDD only fire images: 6276\n",
      "FASDD smoke and fire images: 10076\n",
      "\n",
      "Train FASDD CV dataset len: 47660\n",
      "\n",
      "====================\n",
      "Val FASDD CV dataset\n",
      "FASDD Removed wrong images: 0\n",
      "FASDD empty images: 13066\n",
      "FASDD only smoke images: 7804\n",
      "FASDD only fire images: 4183\n",
      "FASDD smoke and fire images: 6717\n",
      "\n",
      "Val FASDD CV dataset len: 31770\n",
      "\n",
      "Concatenate Train DFire and Train FASDD UAV datasets\n",
      "Train dataset len: 29772\n",
      "Concatenate with Val FASDD UAV dataset\n",
      "Train dataset len: 38137\n",
      "Concatenate with Train FASDD CV dataset\n",
      "Train dataset len: 85797\n",
      "Concatenate with Val FASDD CV dataset\n",
      "Train dataset len: 117567\n",
      "\n",
      "====================\n",
      "TEST DFire dataset\n",
      "DFire Removed wrong images: 0\n",
      "DFire empty images: 2005\n",
      "DFire only smoke images: 1186\n",
      "DFire only fire images: 220\n",
      "DFire smoke and fire images: 895\n",
      "\n",
      "Test dataset len: 4306\n",
      "\n",
      "====================\n",
      "TEST FASDD UAV dataset\n",
      "FASDD Removed wrong images: 0\n",
      "FASDD empty images: 1997\n",
      "FASDD only smoke images: 846\n",
      "FASDD only fire images: 35\n",
      "FASDD smoke and fire images: 1303\n",
      "\n",
      "Test FASDD UAV dataset len: 4181\n",
      "\n",
      "====================\n",
      "TEST FASDD CV dataset\n",
      "FASDD Removed wrong images: 0\n",
      "FASDD empty images: 6533\n",
      "FASDD only smoke images: 3902\n",
      "FASDD only fire images: 2091\n",
      "FASDD smoke and fire images: 3358\n",
      "\n",
      "Test FASDD CV dataset len: 15884\n",
      "Concatenate Test DFire and FASDD UAV datasets\n",
      "Test dataset len: 8487\n",
      "Concatenate with FASDD CV dataset\n",
      "Test dataset len: 24371\n"
     ]
    }
   ],
   "source": [
    "train_loader = dataloaders.get_train_loader()\n",
    "val_loader = dataloaders.get_val_loader()"
   ]
  },
  {
   "cell_type": "markdown",
   "id": "841b4bfc-55f6-4692-a5de-8f457d17472c",
   "metadata": {},
   "source": [
    "### Plot Some Train Pictures"
   ]
  },
  {
   "cell_type": "code",
   "execution_count": 7,
   "id": "f18dab26-cb88-4c13-ad66-a5cc8176a0f0",
   "metadata": {},
   "outputs": [],
   "source": [
    "for i, (img, label) in enumerate(train_loader):\n",
    "\n",
    "    plt.subplots(8,4, figsize=(8, 16))\n",
    "    \n",
    "    for idx in range(config.BATCH_SIZE):\n",
    "        plt.subplot(8, 4, idx+1)\n",
    "        plt.imshow(img[idx].permute(1, 2, 0))\n",
    "        title = \"\"\n",
    "        if label[idx][0] == 1 and label[idx][1] == 1:\n",
    "            title += \"Smoke and Fire\"\n",
    "        elif label[idx][0] == 1 and label[idx][1] == 0:\n",
    "            title += \"Only Smoke\"\n",
    "        elif label[idx][0] == 0 and label[idx][1] == 1:\n",
    "            title += \"Only Fire\"\n",
    "        else:\n",
    "            title += \"Empty\"\n",
    "        plt.title(title)\n",
    "        \n",
    "        if (idx == 31):\n",
    "            break\n",
    "    plt.tight_layout()\n",
    "    plt.savefig(config.RUN_FOLDER + 'train_pictures.png')\n",
    "    #plt.show()\n",
    "    plt.close()\n",
    "    break"
   ]
  },
  {
   "cell_type": "markdown",
   "id": "3f38c400-7e28-46fd-8cab-fb537e5bb248",
   "metadata": {},
   "source": [
    "### Plot Some Val Pictures"
   ]
  },
  {
   "cell_type": "code",
   "execution_count": 8,
   "id": "60efe557-e316-4ec3-a850-3e671f04b1a8",
   "metadata": {},
   "outputs": [],
   "source": [
    "for i, (img, label) in enumerate(val_loader):\n",
    "\n",
    "    plt.subplots(8,4, figsize=(8, 16))\n",
    "    \n",
    "    for idx in range(config.BATCH_SIZE):\n",
    "        plt.subplot(8, 4, idx+1)\n",
    "        plt.imshow(img[idx].permute(1, 2, 0))\n",
    "        title = \"\"\n",
    "        if label[idx][0] == 1 and label[idx][1] == 1:\n",
    "            title += \"Smoke and Fire\"\n",
    "        elif label[idx][0] == 1 and label[idx][1] == 0:\n",
    "            title += \"Only Smoke\"\n",
    "        elif label[idx][0] == 0 and label[idx][1] == 1:\n",
    "            title += \"Only Fire\"\n",
    "        else:\n",
    "            title += \"Empty\"\n",
    "        plt.title(title)\n",
    "        \n",
    "        if (idx == 31):\n",
    "            break\n",
    "    plt.tight_layout()\n",
    "    plt.savefig(config.RUN_FOLDER + 'val_pictures.png')\n",
    "    plt.close()\n",
    "    break"
   ]
  },
  {
   "cell_type": "markdown",
   "id": "32673ea5-65c2-418d-b4bb-dc52d5fc0cb5",
   "metadata": {},
   "source": [
    "# Load Model"
   ]
  },
  {
   "cell_type": "code",
   "execution_count": 9,
   "id": "65f05240-0c38-4f73-b06d-bf9ceefcb369",
   "metadata": {},
   "outputs": [],
   "source": [
    "# model = cnv_model.MobileNetV2().to(config.DEVICE)\n",
    "# model = cnv_model.MobileNetV2_SMALL().to(config.DEVICE)\n",
    "\n",
    "# model = cnv_model.MobileNetV2_MINI_RESNET().to(config.DEVICE)\n",
    "model = cnv_model.MobileNetV2_MINI().to(config.DEVICE)"
   ]
  },
  {
   "cell_type": "markdown",
   "id": "578c963b-1a73-4b8b-9646-8ad392dd4eee",
   "metadata": {},
   "source": [
    "### Optimizer and Scheduler"
   ]
  },
  {
   "cell_type": "code",
   "execution_count": 10,
   "id": "e2284272-f9fc-4adb-a7c4-81ac3956d95b",
   "metadata": {},
   "outputs": [],
   "source": [
    "optimizer = optim.Adam(model.parameters(), \n",
    "                       lr=config.LEARNING_RATE, \n",
    "                       weight_decay=config.WEIGHT_DECAY)\n",
    "\n",
    "scheduler = optim.lr_scheduler.ReduceLROnPlateau(optimizer, \n",
    "                                                 mode='min',\n",
    "                                                 factor=config.FACTOR, \n",
    "                                                 patience=config.PATIENCE, \n",
    "                                                 threshold=config.THRES, \n",
    "                                                 threshold_mode='abs',\n",
    "                                                 min_lr=config.MIN_LR)\n",
    "\n"
   ]
  },
  {
   "cell_type": "markdown",
   "id": "1d0bac02-ea2e-40b6-9f71-456b3f3cf943",
   "metadata": {},
   "source": [
    "### Parameters"
   ]
  },
  {
   "cell_type": "code",
   "execution_count": 11,
   "id": "ce30cdae-4cb8-4399-9766-49932d6a4bed",
   "metadata": {},
   "outputs": [
    {
     "name": "stdout",
     "output_type": "stream",
     "text": [
      "\n",
      "Trainable parameters = 68882\n",
      "Total parameters = 68882\n",
      "\n"
     ]
    }
   ],
   "source": [
    "n_trainable = sum(p.numel() for p in model.parameters() if p.requires_grad)\n",
    "print(f'\\nTrainable parameters = {n_trainable}')\n",
    "logger.info(f'\\nTrainable parameters = {n_trainable}')\n",
    "\n",
    "n_params = parameters_to_vector(model.parameters()).numel()\n",
    "print(f'Total parameters = {n_params}\\n')\n",
    "logger.info(f'Total parameters = {n_params}\\n')"
   ]
  },
  {
   "cell_type": "markdown",
   "id": "cfb33a7e-b560-4446-bd60-8621483adfdc",
   "metadata": {},
   "source": [
    "### Check Model Shape: Random Input"
   ]
  },
  {
   "cell_type": "code",
   "execution_count": 12,
   "id": "d80f00c5-183d-431b-bf8a-26551c390cae",
   "metadata": {},
   "outputs": [
    {
     "name": "stdout",
     "output_type": "stream",
     "text": [
      "Model shape is tensor([[-0.0624,  0.0869],\n",
      "        [-0.0576,  0.0918],\n",
      "        [-0.0577,  0.0786],\n",
      "        [-0.0467,  0.0724]], device='cuda:0', grad_fn=<AddmmBackward0>)\n"
     ]
    }
   ],
   "source": [
    "dummy_input = np.random.rand(4, config.NUM_CHANNELS, config.IMG_H, config.IMG_W)\n",
    "dummy_input = torch.tensor(dummy_input, dtype=torch.float32, device=config.DEVICE)\n",
    "out_test = model(dummy_input)\n",
    "print(f'Model shape is {out_test}')\n",
    "#print(f'BED Model Arquitecture\\n{cnv_model}')"
   ]
  },
  {
   "cell_type": "markdown",
   "id": "6a769672-efb0-4727-8322-8c68795d0efb",
   "metadata": {},
   "source": [
    "### Torchinfo and Print Model"
   ]
  },
  {
   "cell_type": "code",
   "execution_count": 13,
   "id": "607141f0-be35-4feb-8635-c63724d1503e",
   "metadata": {},
   "outputs": [
    {
     "name": "stdout",
     "output_type": "stream",
     "text": [
      "==========================================================================================\n",
      "Layer (type:depth-idx)                   Output Shape              Param #\n",
      "==========================================================================================\n",
      "MobileNetV2_MINI                         [1, 2]                    --\n",
      "├─Sequential: 1-1                        [1, 64, 14, 14]           --\n",
      "│    └─Sequential: 2-1                   [1, 32, 112, 112]         --\n",
      "│    │    └─Conv2d: 3-1                  [1, 32, 112, 112]         864\n",
      "│    │    └─BatchNorm2d: 3-2             [1, 32, 112, 112]         64\n",
      "│    │    └─ReLU: 3-3                    [1, 32, 112, 112]         --\n",
      "│    └─InvertedBlock: 2-2                [1, 8, 112, 112]          --\n",
      "│    │    └─Sequential: 3-4              [1, 8, 112, 112]          624\n",
      "│    └─InvertedBlock: 2-3                [1, 16, 56, 56]           --\n",
      "│    │    └─Sequential: 3-5              [1, 16, 56, 56]           624\n",
      "│    └─InvertedBlock: 2-4                [1, 16, 56, 56]           --\n",
      "│    │    └─Sequential: 3-6              [1, 16, 56, 56]           1,472\n",
      "│    └─InvertedBlock: 2-5                [1, 24, 28, 28]           --\n",
      "│    │    └─Sequential: 3-7              [1, 24, 28, 28]           1,744\n",
      "│    └─InvertedBlock: 2-6                [1, 24, 28, 28]           --\n",
      "│    │    └─Sequential: 3-8              [1, 24, 28, 28]           2,976\n",
      "│    └─InvertedBlock: 2-7                [1, 32, 14, 14]           --\n",
      "│    │    └─Sequential: 3-9              [1, 32, 14, 14]           6,688\n",
      "│    └─InvertedBlock: 2-8                [1, 32, 14, 14]           --\n",
      "│    │    └─Sequential: 3-10             [1, 32, 14, 14]           9,920\n",
      "│    └─InvertedBlock: 2-9                [1, 32, 14, 14]           --\n",
      "│    │    └─Sequential: 3-11             [1, 32, 14, 14]           9,920\n",
      "│    └─InvertedBlock: 2-10               [1, 64, 14, 14]           --\n",
      "│    │    └─Sequential: 3-12             [1, 64, 14, 14]           7,104\n",
      "│    └─InvertedBlock: 2-11               [1, 64, 14, 14]           --\n",
      "│    │    └─Sequential: 3-13             [1, 64, 14, 14]           18,176\n",
      "├─Sequential: 1-2                        [1, 128, 14, 14]          --\n",
      "│    └─Conv2d: 2-12                      [1, 128, 14, 14]          8,192\n",
      "│    └─BatchNorm2d: 2-13                 [1, 128, 14, 14]          256\n",
      "│    └─ReLU: 2-14                        [1, 128, 14, 14]          --\n",
      "├─AdaptiveAvgPool2d: 1-3                 [1, 128, 1, 1]            --\n",
      "├─Linear: 1-4                            [1, 2]                    258\n",
      "==========================================================================================\n",
      "Total params: 68,882\n",
      "Trainable params: 68,882\n",
      "Non-trainable params: 0\n",
      "Total mult-adds (M): 41.82\n",
      "==========================================================================================\n",
      "Input size (MB): 0.60\n",
      "Forward/backward pass size (MB): 32.51\n",
      "Params size (MB): 0.28\n",
      "Estimated Total Size (MB): 33.39\n",
      "==========================================================================================\n"
     ]
    }
   ],
   "source": [
    "print(summary(model, input_size=(1, config.NUM_CHANNELS, config.IMG_H, config.IMG_W)))"
   ]
  },
  {
   "cell_type": "code",
   "execution_count": 14,
   "id": "6d7096a2-e624-44b2-88fe-1e13e1ef6f71",
   "metadata": {
    "tags": []
   },
   "outputs": [],
   "source": [
    "logger.info(\"\\nTorch Summary\")\n",
    "logger.info(summary(model, input_size=(1, config.NUM_CHANNELS, config.IMG_H, config.IMG_W)))"
   ]
  },
  {
   "cell_type": "code",
   "execution_count": 15,
   "id": "48f5d604-3a80-497a-a710-f0dcf9c6f465",
   "metadata": {
    "tags": []
   },
   "outputs": [],
   "source": [
    "logger.info(\"\\nTorch Model\")\n",
    "logger.info(model)"
   ]
  },
  {
   "cell_type": "markdown",
   "id": "61d74ed9-984a-4f66-8121-d1152fecad98",
   "metadata": {},
   "source": [
    "# Loss Function"
   ]
  },
  {
   "cell_type": "code",
   "execution_count": 16,
   "id": "6efb3c84-4076-4694-8505-2c3c0ee9aa1e",
   "metadata": {},
   "outputs": [
    {
     "name": "stdout",
     "output_type": "stream",
     "text": [
      "Loss Function: BCE\n",
      "Smoke Precision Weight: 0.8\n"
     ]
    }
   ],
   "source": [
    "if config.LOSS_FN == \"BCE\":\n",
    "    print(f'Loss Function: BCE')\n",
    "    logger.info(f'\\nLoss Function: BCE')\n",
    "    print(f'Smoke Precision Weight: {config.SMOKE_PRECISION_WEIGHT}')\n",
    "    logger.info(f'Smoke Precision Weight: {config.SMOKE_PRECISION_WEIGHT}')\n",
    "    loss_fn = loss.BCE_LOSS(device=config.DEVICE, smoke_precision_weight=config.SMOKE_PRECISION_WEIGHT)\n",
    "else:\n",
    "    print(\"Wrong loss function\")\n",
    "    logger.info(\"Wrong loss function\")\n",
    "    raise SystemExit(\"Wrong loss function\")"
   ]
  },
  {
   "cell_type": "markdown",
   "id": "d7f25227-bbcd-43e9-a41b-70a324900a21",
   "metadata": {},
   "source": [
    "# Loggers and Plotters for Losses and Metrics"
   ]
  },
  {
   "cell_type": "code",
   "execution_count": 17,
   "id": "bb75d214-f372-4aee-a196-c43276145a66",
   "metadata": {},
   "outputs": [],
   "source": [
    "train_losses_logger = utils.LogLosses()\n",
    "train_metrics_logger = utils.LogMetrics()\n",
    "lr_logger = utils.LogLR(log_path=config.PLOTS_FOLDER)\n",
    "\n",
    "val_losses_logger = utils.LogLosses()\n",
    "val_metrics_logger = utils.LogMetrics()\n",
    "\n",
    "loss_plotter = utils.PlotMetrics(log_path=config.PLOTS_FOLDER, model_name=config.MODEL, loss_or_metric='Loss')\n",
    "metrics_plotter = utils.PlotMetrics(log_path=config.PLOTS_FOLDER, model_name=config.MODEL, loss_or_metric='Metric')"
   ]
  },
  {
   "cell_type": "markdown",
   "id": "80f38d11-6099-48cd-9f95-f5b0be87d804",
   "metadata": {},
   "source": [
    "# Main Function to Train"
   ]
  },
  {
   "cell_type": "code",
   "execution_count": 18,
   "id": "180683fc-5a55-4f1c-9d6e-c8ffa10be16a",
   "metadata": {},
   "outputs": [],
   "source": [
    "def train_loop(model, start_epoch=0, epochs_to_train=config.EPOCHS):\n",
    "\n",
    "    ''' ==============================================================\n",
    "                                TRAINING LOOP\n",
    "    ============================================================== '''\n",
    "    start = datetime.datetime.now()\n",
    "    start_time = start.strftime(\"%H:%M:%S\")\n",
    "    print(f'\\n***Start Training: {start_time}\\n')\n",
    "    logger.info(f'\\n***Start Training: {start_time}\\n')\n",
    "    \n",
    "    # Start with infinite validation loss\n",
    "    best_valid_loss = np.inf\n",
    "    best_smoke_precision = 0. #torch.tensor([0.])\n",
    "    smoke_f1_min_save = 0.9 #torch.tensor([0.9])\n",
    "    best_mean_f1 = 0.\n",
    "\n",
    "    if start_epoch == 0:\n",
    "        epochs_plot = []\n",
    "    else:\n",
    "        epochs_plot = [i for i in range(start_epoch)]    \n",
    "\n",
    "    end_epoch = start_epoch + epochs_to_train\n",
    "        \n",
    "    for epoch in range(start_epoch, end_epoch):\n",
    "\n",
    "        print(f'\\n=== EPOCH {epoch}/{end_epoch-1} ===')\n",
    "        logger.info(f'\\n=== EPOCH {epoch}/{end_epoch-1} ===')\n",
    "        \n",
    "        #====================== TRAINING ========================#\n",
    "        current_lr = train_epoch.get_lr(optimizer=optimizer)\n",
    "        logger.info(f'Learning Rate = {current_lr}\\n')\n",
    "        lr_logger.log_lr(current_lr)\n",
    "                \n",
    "        train_losses, train_metrics = train_epoch.train_fn(\n",
    "            loader=train_loader, \n",
    "            model=model, \n",
    "            optimizer=optimizer, \n",
    "            loss_fn=loss_fn,\n",
    "            device=config.DEVICE)\n",
    "        \n",
    "        train_losses_logger.update_metrics(train_losses)\n",
    "        train_metrics_logger.update_metrics(train_metrics)\n",
    "                \n",
    "        logger.info(utils.print_metrics_to_logger(\"TRAIN Stats\", train_losses, train_metrics))\n",
    "        \n",
    "        #===================== VALIDATING =======================#\n",
    "        with torch.no_grad():\n",
    "            val_losses, val_metrics = val_epoch.eval_fn(\n",
    "                loader=val_loader, \n",
    "                model=model,                         \n",
    "                loss_fn=loss_fn,\n",
    "                device=config.DEVICE)\n",
    "            \n",
    "            scheduler.step(val_losses['Total'])\n",
    "            \n",
    "            val_losses_logger.update_metrics(val_losses)\n",
    "            val_metrics_logger.update_metrics(val_metrics)\n",
    "\n",
    "            logger.info(utils.print_metrics_to_logger(\"VAL Stats\", val_losses, val_metrics))\n",
    "            \n",
    "        epochs_plot.append(epoch)\n",
    "\n",
    "        loss_plotter.plot_all_metrics(\n",
    "            train_losses_logger.get_metrics(),\n",
    "            val_losses_logger.get_metrics(),\n",
    "            epochs_plot)\n",
    "\n",
    "        metrics_plotter.plot_all_metrics(\n",
    "            train_metrics_logger.get_metrics(),\n",
    "            val_metrics_logger.get_metrics(),\n",
    "            epochs_plot)\n",
    "\n",
    "        lr_logger.plot_lr(epochs_plot)\n",
    "        #======================= SAVING =========================#\n",
    "        if ( (epoch+1) % 5 ) == 0:\n",
    "            save_name = config.WEIGHTS_FOLDER + config.MODEL + '_classifier__5epoch.pt'\n",
    "            utils.save_checkpoint(epoch, model, optimizer, scheduler, save_name) \n",
    "            \n",
    "        if best_valid_loss > val_losses['Total']:\n",
    "            best_valid_loss = val_losses['Total']\n",
    "            print(f\"\\nSaving model with new best validation loss: {best_valid_loss:.4f}\")\n",
    "            logger.info(f\"Saving model with new best validation loss: {best_valid_loss:.4f}\")\n",
    "            save_name = config.WEIGHTS_FOLDER + config.MODEL + '_classifier__' + 'best_loss'  + '.pt'\n",
    "            utils.save_checkpoint(epoch, model, optimizer, scheduler, save_name) \n",
    "            save_onnx = config.ONNX_FOLDER + config.MODEL + '_classifier__' + 'best_loss'  #+ '.onnx'\n",
    "            # utils.export_onnx(model, (1, config.NUM_CHANNELS, config.IMG_H, config.IMG_W), save_onnx, config.DEVICE)\n",
    "\n",
    "        # # Save model if precision increases and F1 > 0.9\n",
    "        # if ( best_smoke_precision < val_metrics['Precision'][0] ) and ( val_metrics['F1'][0] > smoke_f1_min_save ) :\n",
    "        #     best_smoke_precision = val_metrics['Precision'][0]\n",
    "        #     print(f\"\\nSaving model with new best smoke precision: {best_smoke_precision:.4f}\")\n",
    "        #     logger.info(f\"Saving model with new best smoke precision: {best_smoke_precision:.4f}\")\n",
    "        #     save_precision_name = f'best_smoke__precision={np.round(best_smoke_precision, decimals=4)}__epoch={epoch}'\n",
    "        #     save_name = config.WEIGHTS_FOLDER + config.MODEL + '_classifier__' + save_precision_name + '.pt'\n",
    "        #     utils.save_checkpoint(epoch, model, optimizer, scheduler, save_name)  \n",
    "        #     save_onnx = config.ONNX_FOLDER + config.MODEL + '_classifier__' + save_precision_name #+ '.onnx'\n",
    "        #     utils.export_onnx(model, (1, config.NUM_CHANNELS, config.IMG_H, config.IMG_W), save_onnx, config.DEVICE)\n",
    "            \n",
    "        # Save model if precision > 0.9 and recall > 0.9\n",
    "        if ( val_metrics['Precision'][0] > 0.9 ) and ( val_metrics['Recall'][0] > 0.9 ) :\n",
    "            print(\"\\nSaving model with precision > 0.9 and recall > 0.9\")\n",
    "            logger.info(\"Saving model with precision > 0.9 and recall > 0.9\")\n",
    "            save_pre_name = f'smoke__precision={np.round(val_metrics[\"Precision\"][0], decimals=4)}__' \n",
    "            save_rec_name = f'recall={np.round(val_metrics[\"Recall\"][0], decimals=4)}__'\n",
    "            save_pre_rec_name = save_pre_name + save_rec_name + f'epoch={epoch}'\n",
    "            save_name = config.WEIGHTS_FOLDER + config.MODEL + '_classifier__' + save_pre_rec_name + '.pt'\n",
    "            utils.save_checkpoint(epoch, model, optimizer, scheduler, save_name) \n",
    "            save_onnx = config.ONNX_FOLDER + config.MODEL + '_classifier__' + save_pre_rec_name #+ '.onnx'\n",
    "            # utils.export_onnx(model, (1, config.NUM_CHANNELS, config.IMG_H, config.IMG_W), save_onnx, config.DEVICE)\n",
    "\n",
    "        # Save model if best mean F1 increases\n",
    "        val_f1_mean = (val_metrics['F1'][0] + val_metrics['F1'][1]) / 2\n",
    "        if (val_f1_mean > best_mean_f1) :\n",
    "            best_mean_f1 = val_f1_mean\n",
    "            print(f'Saving model with best Mean F1: {best_mean_f1:.4f}')\n",
    "            logger.info(f'Saving model with best Mean F1: {best_mean_f1:.4f}')\n",
    "            save_f1_name = 'best_mean_F1'\n",
    "            save_name = config.WEIGHTS_FOLDER + config.MODEL + '_classifier__' + save_f1_name + '.pt'\n",
    "            utils.save_checkpoint(epoch, model, optimizer, scheduler, save_name) \n",
    "            save_onnx = config.ONNX_FOLDER + config.MODEL + '_classifier__' + save_f1_name #+ '.onnx'\n",
    "            # utils.export_onnx(model, (1, config.NUM_CHANNELS, config.IMG_H, config.IMG_W), save_onnx, config.DEVICE)\n",
    "        \n",
    "    logger.info('Saving last model')   \n",
    "    torch.save(model.state_dict(), config.WEIGHTS_FOLDER + 'last_' + config.MODEL + '_classifier.pt') \n",
    "    \n",
    "    #======================= FINISH =========================#\n",
    "    end = datetime.datetime.now()\n",
    "    end_time = end.strftime(\"%H:%M:%S\")\n",
    "    print(f'\\n***Script finished: {end_time}\\n')  \n",
    "    print(f'Time elapsed: {end-start}')\n",
    "    logger.info(f'\\n***Script finished: {end_time}\\n')  \n",
    "    logger.info(f'Time elapsed: {end-start}')\n",
    "    \n",
    "    return model"
   ]
  },
  {
   "cell_type": "code",
   "execution_count": 19,
   "id": "70cfebac-da9f-4c54-98da-0fccfdf9c7e4",
   "metadata": {},
   "outputs": [],
   "source": [
    "# print(len(val_losses_logger.total))"
   ]
  },
  {
   "cell_type": "markdown",
   "id": "7eb71ba5-1f21-4a7b-9ebe-6b50a5d38ed8",
   "metadata": {},
   "source": [
    "# Training Loop"
   ]
  },
  {
   "cell_type": "code",
   "execution_count": 20,
   "id": "dd3a8768-03a8-44f3-829f-58045dbfea7b",
   "metadata": {},
   "outputs": [
    {
     "name": "stdout",
     "output_type": "stream",
     "text": [
      "Starting script\n",
      "\n",
      "\n",
      "***Start Training: 07:21:22\n",
      "\n",
      "\n",
      "=== EPOCH 0/99 ===\n",
      "Learning Rate = 0.001\n",
      "\n"
     ]
    },
    {
     "name": "stderr",
     "output_type": "stream",
     "text": [
      "Training:  97%|█████████████████████████████████████████████████████████████████████████████████████████████████████████████████████████████████████▊    | 1781/1836 [05:19<00:07,  7.28it/s]Warning: unknown JFIF revision number 32.23\n",
      "Training: 100%|██████████████████████████████████████████████████████████████████████████████████████████████████████████████████████████████████████████| 1836/1836 [05:27<00:00,  5.60it/s]\n"
     ]
    },
    {
     "name": "stdout",
     "output_type": "stream",
     "text": [
      "Total Loss  |Smoke Loss  |Fire Loss   \n",
      "------------ ------------ ------------\n",
      "43.661      |24.351      |19.310      \n",
      "\n"
     ]
    },
    {
     "name": "stderr",
     "output_type": "stream",
     "text": [
      "Validating: 100%|██████████████████████████████████████████████████████████████████████████████████████████████████████████████████████████████████████████| 380/380 [00:22<00:00, 16.66it/s]\n"
     ]
    },
    {
     "name": "stdout",
     "output_type": "stream",
     "text": [
      "Total Loss  |Smoke Loss  |Fire Loss   \n",
      "------------ ------------ ------------\n",
      "35.152      |21.202      |13.950      \n",
      "SMOKE -> Precision: 0.8896 - Recall: 0.7014 - Accuracy: 0.8182 - F1: 0.7843\n",
      "FIRE -> Precision: 0.8361 - Recall: 0.9092 - Accuracy: 0.9128 - F1: 0.8711\n",
      "\n",
      "Saving model with new best validation loss: 35.1522\n",
      "Saving model with best Mean F1: 0.8277\n",
      "\n",
      "=== EPOCH 1/99 ===\n",
      "Learning Rate = 0.001\n",
      "\n"
     ]
    },
    {
     "name": "stderr",
     "output_type": "stream",
     "text": [
      "Training:  19%|███████████████████████████                                                                                                                | 358/1836 [01:04<03:04,  8.00it/s]Warning: unknown JFIF revision number 32.23\n",
      "Training: 100%|██████████████████████████████████████████████████████████████████████████████████████████████████████████████████████████████████████████| 1836/1836 [05:22<00:00,  5.69it/s]\n"
     ]
    },
    {
     "name": "stdout",
     "output_type": "stream",
     "text": [
      "Total Loss  |Smoke Loss  |Fire Loss   \n",
      "------------ ------------ ------------\n",
      "32.899      |19.713      |13.186      \n",
      "\n"
     ]
    },
    {
     "name": "stderr",
     "output_type": "stream",
     "text": [
      "Validating: 100%|██████████████████████████████████████████████████████████████████████████████████████████████████████████████████████████████████████████| 380/380 [00:22<00:00, 16.68it/s]\n"
     ]
    },
    {
     "name": "stdout",
     "output_type": "stream",
     "text": [
      "Total Loss  |Smoke Loss  |Fire Loss   \n",
      "------------ ------------ ------------\n",
      "30.698      |19.382      |11.316      \n",
      "SMOKE -> Precision: 0.8663 - Recall: 0.8041 - Accuracy: 0.8491 - F1: 0.8340\n",
      "FIRE -> Precision: 0.8723 - Recall: 0.9371 - Accuracy: 0.9351 - F1: 0.9035\n",
      "\n",
      "Saving model with new best validation loss: 30.6984\n",
      "Saving model with best Mean F1: 0.8688\n",
      "\n",
      "=== EPOCH 2/99 ===\n",
      "Learning Rate = 0.001\n",
      "\n"
     ]
    },
    {
     "name": "stderr",
     "output_type": "stream",
     "text": [
      "Training:  81%|████████████████████████████████████████████████████████████████████████████████████████████████████████████████                          | 1491/1836 [04:26<00:41,  8.31it/s]Warning: unknown JFIF revision number 32.23\n",
      "Training: 100%|██████████████████████████████████████████████████████████████████████████████████████████████████████████████████████████████████████████| 1836/1836 [05:28<00:00,  5.59it/s]\n"
     ]
    },
    {
     "name": "stdout",
     "output_type": "stream",
     "text": [
      "Total Loss  |Smoke Loss  |Fire Loss   \n",
      "------------ ------------ ------------\n",
      "29.933      |18.174      |11.759      \n",
      "\n"
     ]
    },
    {
     "name": "stderr",
     "output_type": "stream",
     "text": [
      "Validating: 100%|██████████████████████████████████████████████████████████████████████████████████████████████████████████████████████████████████████████| 380/380 [00:23<00:00, 16.52it/s]\n"
     ]
    },
    {
     "name": "stdout",
     "output_type": "stream",
     "text": [
      "Total Loss  |Smoke Loss  |Fire Loss   \n",
      "------------ ------------ ------------\n",
      "28.854      |18.017      |10.837      \n",
      "SMOKE -> Precision: 0.8753 - Recall: 0.8097 - Accuracy: 0.8559 - F1: 0.8412\n",
      "FIRE -> Precision: 0.8914 - Recall: 0.9066 - Accuracy: 0.9339 - F1: 0.8989\n",
      "\n",
      "Saving model with new best validation loss: 28.8536\n",
      "Saving model with best Mean F1: 0.8701\n",
      "\n",
      "=== EPOCH 3/99 ===\n",
      "Learning Rate = 0.001\n",
      "\n"
     ]
    },
    {
     "name": "stderr",
     "output_type": "stream",
     "text": [
      "Training:  86%|███████████████████████████████████████████████████████████████████████████████████████████████████████████████████████▎                  | 1587/1836 [04:46<00:32,  7.58it/s]Warning: unknown JFIF revision number 32.23\n",
      "Training: 100%|██████████████████████████████████████████████████████████████████████████████████████████████████████████████████████████████████████████| 1836/1836 [05:28<00:00,  5.59it/s]\n"
     ]
    },
    {
     "name": "stdout",
     "output_type": "stream",
     "text": [
      "Total Loss  |Smoke Loss  |Fire Loss   \n",
      "------------ ------------ ------------\n",
      "28.160      |17.183      |10.977      \n",
      "\n"
     ]
    },
    {
     "name": "stderr",
     "output_type": "stream",
     "text": [
      "Validating: 100%|██████████████████████████████████████████████████████████████████████████████████████████████████████████████████████████████████████████| 380/380 [00:22<00:00, 16.62it/s]\n"
     ]
    },
    {
     "name": "stdout",
     "output_type": "stream",
     "text": [
      "Total Loss  |Smoke Loss  |Fire Loss   \n",
      "------------ ------------ ------------\n",
      "28.989      |19.448      |9.541       \n",
      "SMOKE -> Precision: 0.8263 - Recall: 0.8744 - Accuracy: 0.8542 - F1: 0.8497\n",
      "FIRE -> Precision: 0.9109 - Recall: 0.9066 - Accuracy: 0.9410 - F1: 0.9088\n",
      "Saving model with best Mean F1: 0.8792\n",
      "\n",
      "=== EPOCH 4/99 ===\n",
      "Learning Rate = 0.001\n",
      "\n"
     ]
    },
    {
     "name": "stderr",
     "output_type": "stream",
     "text": [
      "Training:  26%|███████████████████████████████████▉                                                                                                       | 475/1836 [01:26<03:06,  7.32it/s]Warning: unknown JFIF revision number 32.23\n",
      "Training: 100%|██████████████████████████████████████████████████████████████████████████████████████████████████████████████████████████████████████████| 1836/1836 [05:25<00:00,  5.65it/s]\n"
     ]
    },
    {
     "name": "stdout",
     "output_type": "stream",
     "text": [
      "Total Loss  |Smoke Loss  |Fire Loss   \n",
      "------------ ------------ ------------\n",
      "26.747      |16.337      |10.410      \n",
      "\n"
     ]
    },
    {
     "name": "stderr",
     "output_type": "stream",
     "text": [
      "Validating: 100%|██████████████████████████████████████████████████████████████████████████████████████████████████████████████████████████████████████████| 380/380 [00:22<00:00, 16.71it/s]\n"
     ]
    },
    {
     "name": "stdout",
     "output_type": "stream",
     "text": [
      "Total Loss  |Smoke Loss  |Fire Loss   \n",
      "------------ ------------ ------------\n",
      "28.691      |17.872      |10.818      \n",
      "SMOKE -> Precision: 0.8616 - Recall: 0.8436 - Accuracy: 0.8624 - F1: 0.8525\n",
      "FIRE -> Precision: 0.8586 - Recall: 0.9494 - Accuracy: 0.9329 - F1: 0.9017\n",
      "\n",
      "Saving model with new best validation loss: 28.6906\n",
      "\n",
      "=== EPOCH 5/99 ===\n",
      "Learning Rate = 0.001\n",
      "\n"
     ]
    },
    {
     "name": "stderr",
     "output_type": "stream",
     "text": [
      "Training:  88%|████████████████████████████████████████████████████████████████████████████████████████████████████████████████████████▉                 | 1609/1836 [04:45<00:29,  7.79it/s]Warning: unknown JFIF revision number 32.23\n",
      "Training: 100%|██████████████████████████████████████████████████████████████████████████████████████████████████████████████████████████████████████████| 1836/1836 [05:26<00:00,  5.63it/s]\n"
     ]
    },
    {
     "name": "stdout",
     "output_type": "stream",
     "text": [
      "Total Loss  |Smoke Loss  |Fire Loss   \n",
      "------------ ------------ ------------\n",
      "25.557      |15.623      |9.934       \n",
      "\n"
     ]
    },
    {
     "name": "stderr",
     "output_type": "stream",
     "text": [
      "Validating: 100%|██████████████████████████████████████████████████████████████████████████████████████████████████████████████████████████████████████████| 380/380 [00:22<00:00, 16.64it/s]\n"
     ]
    },
    {
     "name": "stdout",
     "output_type": "stream",
     "text": [
      "Total Loss  |Smoke Loss  |Fire Loss   \n",
      "------------ ------------ ------------\n",
      "25.910      |17.119      |8.790       \n",
      "SMOKE -> Precision: 0.8621 - Recall: 0.8857 - Accuracy: 0.8794 - F1: 0.8738\n",
      "FIRE -> Precision: 0.9013 - Recall: 0.9323 - Accuracy: 0.9449 - F1: 0.9165\n",
      "\n",
      "Saving model with new best validation loss: 25.9096\n",
      "Saving model with best Mean F1: 0.8951\n",
      "\n",
      "=== EPOCH 6/99 ===\n",
      "Learning Rate = 0.001\n",
      "\n"
     ]
    },
    {
     "name": "stderr",
     "output_type": "stream",
     "text": [
      "Training:  52%|███████████████████████████████████████████████████████████████████████▉                                                                   | 951/1836 [02:50<01:42,  8.65it/s]Warning: unknown JFIF revision number 32.23\n",
      "Training: 100%|██████████████████████████████████████████████████████████████████████████████████████████████████████████████████████████████████████████| 1836/1836 [05:25<00:00,  5.64it/s]\n"
     ]
    },
    {
     "name": "stdout",
     "output_type": "stream",
     "text": [
      "Total Loss  |Smoke Loss  |Fire Loss   \n",
      "------------ ------------ ------------\n",
      "24.601      |14.986      |9.615       \n",
      "\n"
     ]
    },
    {
     "name": "stderr",
     "output_type": "stream",
     "text": [
      "Validating: 100%|██████████████████████████████████████████████████████████████████████████████████████████████████████████████████████████████████████████| 380/380 [00:23<00:00, 16.03it/s]\n"
     ]
    },
    {
     "name": "stdout",
     "output_type": "stream",
     "text": [
      "Total Loss  |Smoke Loss  |Fire Loss   \n",
      "------------ ------------ ------------\n",
      "28.249      |16.498      |11.750      \n",
      "SMOKE -> Precision: 0.8753 - Recall: 0.8599 - Accuracy: 0.8762 - F1: 0.8676\n",
      "FIRE -> Precision: 0.8535 - Recall: 0.9561 - Accuracy: 0.9326 - F1: 0.9019\n",
      "\n",
      "=== EPOCH 7/99 ===\n",
      "Learning Rate = 0.001\n",
      "\n"
     ]
    },
    {
     "name": "stderr",
     "output_type": "stream",
     "text": [
      "Training:  32%|████████████████████████████████████████████▌                                                                                              | 588/1836 [01:45<02:20,  8.89it/s]Warning: unknown JFIF revision number 32.23\n",
      "Training: 100%|██████████████████████████████████████████████████████████████████████████████████████████████████████████████████████████████████████████| 1836/1836 [05:27<00:00,  5.61it/s]\n"
     ]
    },
    {
     "name": "stdout",
     "output_type": "stream",
     "text": [
      "Total Loss  |Smoke Loss  |Fire Loss   \n",
      "------------ ------------ ------------\n",
      "23.946      |14.632      |9.315       \n",
      "\n"
     ]
    },
    {
     "name": "stderr",
     "output_type": "stream",
     "text": [
      "Validating: 100%|██████████████████████████████████████████████████████████████████████████████████████████████████████████████████████████████████████████| 380/380 [00:22<00:00, 16.68it/s]\n"
     ]
    },
    {
     "name": "stdout",
     "output_type": "stream",
     "text": [
      "Total Loss  |Smoke Loss  |Fire Loss   \n",
      "------------ ------------ ------------\n",
      "22.263      |14.387      |7.876       \n",
      "SMOKE -> Precision: 0.9322 - Recall: 0.8226 - Accuracy: 0.8882 - F1: 0.8740\n",
      "FIRE -> Precision: 0.9104 - Recall: 0.9509 - Accuracy: 0.9537 - F1: 0.9302\n",
      "\n",
      "Saving model with new best validation loss: 22.2633\n",
      "Saving model with best Mean F1: 0.9021\n",
      "\n",
      "=== EPOCH 8/99 ===\n",
      "Learning Rate = 0.001\n",
      "\n"
     ]
    },
    {
     "name": "stderr",
     "output_type": "stream",
     "text": [
      "Training:  80%|██████████████████████████████████████████████████████████████████████████████████████████████████████████████▍                           | 1469/1836 [04:20<00:42,  8.69it/s]Warning: unknown JFIF revision number 32.23\n",
      "Training: 100%|██████████████████████████████████████████████████████████████████████████████████████████████████████████████████████████████████████████| 1836/1836 [05:26<00:00,  5.62it/s]\n"
     ]
    },
    {
     "name": "stdout",
     "output_type": "stream",
     "text": [
      "Total Loss  |Smoke Loss  |Fire Loss   \n",
      "------------ ------------ ------------\n",
      "23.246      |14.180      |9.067       \n",
      "\n"
     ]
    },
    {
     "name": "stderr",
     "output_type": "stream",
     "text": [
      "Validating: 100%|██████████████████████████████████████████████████████████████████████████████████████████████████████████████████████████████████████████| 380/380 [00:22<00:00, 16.71it/s]\n"
     ]
    },
    {
     "name": "stdout",
     "output_type": "stream",
     "text": [
      "Total Loss  |Smoke Loss  |Fire Loss   \n",
      "------------ ------------ ------------\n",
      "19.998      |13.295      |6.703       \n",
      "SMOKE -> Precision: 0.9299 - Recall: 0.8665 - Accuracy: 0.9062 - F1: 0.8971\n",
      "FIRE -> Precision: 0.9473 - Recall: 0.9285 - Accuracy: 0.9601 - F1: 0.9378\n",
      "\n",
      "Saving model with new best validation loss: 19.9977\n",
      "Saving model with best Mean F1: 0.9174\n",
      "\n",
      "=== EPOCH 9/99 ===\n",
      "Learning Rate = 0.001\n",
      "\n"
     ]
    },
    {
     "name": "stderr",
     "output_type": "stream",
     "text": [
      "Training:  83%|███████████████████████████████████████████████████████████████████████████████████████████████████████████████████▏                      | 1532/1836 [04:30<01:01,  4.94it/s]Warning: unknown JFIF revision number 32.23\n",
      "Training: 100%|██████████████████████████████████████████████████████████████████████████████████████████████████████████████████████████████████████████| 1836/1836 [05:24<00:00,  5.66it/s]\n"
     ]
    },
    {
     "name": "stdout",
     "output_type": "stream",
     "text": [
      "Total Loss  |Smoke Loss  |Fire Loss   \n",
      "------------ ------------ ------------\n",
      "22.660      |13.811      |8.849       \n",
      "\n"
     ]
    },
    {
     "name": "stderr",
     "output_type": "stream",
     "text": [
      "Validating: 100%|██████████████████████████████████████████████████████████████████████████████████████████████████████████████████████████████████████████| 380/380 [00:22<00:00, 16.64it/s]\n"
     ]
    },
    {
     "name": "stdout",
     "output_type": "stream",
     "text": [
      "Total Loss  |Smoke Loss  |Fire Loss   \n",
      "------------ ------------ ------------\n",
      "21.068      |13.467      |7.600       \n",
      "SMOKE -> Precision: 0.9113 - Recall: 0.8865 - Accuracy: 0.9058 - F1: 0.8988\n",
      "FIRE -> Precision: 0.9122 - Recall: 0.9552 - Accuracy: 0.9557 - F1: 0.9332\n",
      "\n",
      "=== EPOCH 10/99 ===\n",
      "Learning Rate = 0.001\n",
      "\n"
     ]
    },
    {
     "name": "stderr",
     "output_type": "stream",
     "text": [
      "Training:  10%|█████████████▌                                                                                                                             | 179/1836 [00:32<03:44,  7.38it/s]Warning: unknown JFIF revision number 32.23\n",
      "Training: 100%|██████████████████████████████████████████████████████████████████████████████████████████████████████████████████████████████████████████| 1836/1836 [05:24<00:00,  5.66it/s]\n"
     ]
    },
    {
     "name": "stdout",
     "output_type": "stream",
     "text": [
      "Total Loss  |Smoke Loss  |Fire Loss   \n",
      "------------ ------------ ------------\n",
      "22.336      |13.571      |8.765       \n",
      "\n"
     ]
    },
    {
     "name": "stderr",
     "output_type": "stream",
     "text": [
      "Validating: 100%|██████████████████████████████████████████████████████████████████████████████████████████████████████████████████████████████████████████| 380/380 [00:22<00:00, 16.71it/s]\n"
     ]
    },
    {
     "name": "stdout",
     "output_type": "stream",
     "text": [
      "Total Loss  |Smoke Loss  |Fire Loss   \n",
      "------------ ------------ ------------\n",
      "25.778      |14.413      |11.365      \n",
      "SMOKE -> Precision: 0.9469 - Recall: 0.8271 - Accuracy: 0.8966 - F1: 0.8830\n",
      "FIRE -> Precision: 0.8601 - Recall: 0.9529 - Accuracy: 0.9345 - F1: 0.9041\n",
      "\n",
      "=== EPOCH 11/99 ===\n",
      "Learning Rate = 0.001\n",
      "\n"
     ]
    },
    {
     "name": "stderr",
     "output_type": "stream",
     "text": [
      "Training:  67%|████████████████████████████████████████████████████████████████████████████████████████████▋                                             | 1233/1836 [03:38<01:22,  7.30it/s]Warning: unknown JFIF revision number 32.23\n",
      "Training: 100%|██████████████████████████████████████████████████████████████████████████████████████████████████████████████████████████████████████████| 1836/1836 [05:24<00:00,  5.66it/s]\n"
     ]
    },
    {
     "name": "stdout",
     "output_type": "stream",
     "text": [
      "Total Loss  |Smoke Loss  |Fire Loss   \n",
      "------------ ------------ ------------\n",
      "21.790      |13.190      |8.600       \n",
      "\n"
     ]
    },
    {
     "name": "stderr",
     "output_type": "stream",
     "text": [
      "Validating: 100%|██████████████████████████████████████████████████████████████████████████████████████████████████████████████████████████████████████████| 380/380 [00:22<00:00, 16.54it/s]\n"
     ]
    },
    {
     "name": "stdout",
     "output_type": "stream",
     "text": [
      "Total Loss  |Smoke Loss  |Fire Loss   \n",
      "------------ ------------ ------------\n",
      "21.998      |14.565      |7.433       \n",
      "SMOKE -> Precision: 0.9673 - Recall: 0.7838 - Accuracy: 0.8856 - F1: 0.8659\n",
      "FIRE -> Precision: 0.9450 - Recall: 0.9210 - Accuracy: 0.9570 - F1: 0.9328\n",
      "\n",
      "=== EPOCH 12/99 ===\n",
      "Learning Rate = 0.0008\n",
      "\n"
     ]
    },
    {
     "name": "stderr",
     "output_type": "stream",
     "text": [
      "Training:  54%|██████████████████████████████████████████████████████████████████████████▋                                                                | 987/1836 [02:54<01:43,  8.20it/s]Warning: unknown JFIF revision number 32.23\n",
      "Training: 100%|██████████████████████████████████████████████████████████████████████████████████████████████████████████████████████████████████████████| 1836/1836 [05:25<00:00,  5.64it/s]\n"
     ]
    },
    {
     "name": "stdout",
     "output_type": "stream",
     "text": [
      "Total Loss  |Smoke Loss  |Fire Loss   \n",
      "------------ ------------ ------------\n",
      "20.467      |12.496      |7.970       \n",
      "\n"
     ]
    },
    {
     "name": "stderr",
     "output_type": "stream",
     "text": [
      "Validating: 100%|██████████████████████████████████████████████████████████████████████████████████████████████████████████████████████████████████████████| 380/380 [00:22<00:00, 16.69it/s]\n"
     ]
    },
    {
     "name": "stdout",
     "output_type": "stream",
     "text": [
      "Total Loss  |Smoke Loss  |Fire Loss   \n",
      "------------ ------------ ------------\n",
      "20.456      |12.254      |8.202       \n",
      "SMOKE -> Precision: 0.9420 - Recall: 0.8681 - Accuracy: 0.9126 - F1: 0.9035\n",
      "FIRE -> Precision: 0.8991 - Recall: 0.9614 - Accuracy: 0.9525 - F1: 0.9292\n",
      "\n",
      "=== EPOCH 13/99 ===\n",
      "Learning Rate = 0.0008\n",
      "\n"
     ]
    },
    {
     "name": "stderr",
     "output_type": "stream",
     "text": [
      "Training:  95%|███████████████████████████████████████████████████████████████████████████████████████████████████████████████████████████████████▌      | 1750/1836 [05:09<00:10,  8.51it/s]Warning: unknown JFIF revision number 32.23\n",
      "Training: 100%|██████████████████████████████████████████████████████████████████████████████████████████████████████████████████████████████████████████| 1836/1836 [05:23<00:00,  5.68it/s]\n"
     ]
    },
    {
     "name": "stdout",
     "output_type": "stream",
     "text": [
      "Total Loss  |Smoke Loss  |Fire Loss   \n",
      "------------ ------------ ------------\n",
      "20.265      |12.348      |7.917       \n",
      "\n"
     ]
    },
    {
     "name": "stderr",
     "output_type": "stream",
     "text": [
      "Validating: 100%|██████████████████████████████████████████████████████████████████████████████████████████████████████████████████████████████████████████| 380/380 [00:22<00:00, 16.60it/s]\n"
     ]
    },
    {
     "name": "stdout",
     "output_type": "stream",
     "text": [
      "Total Loss  |Smoke Loss  |Fire Loss   \n",
      "------------ ------------ ------------\n",
      "19.551      |12.609      |6.942       \n",
      "SMOKE -> Precision: 0.9475 - Recall: 0.8492 - Accuracy: 0.9067 - F1: 0.8957\n",
      "FIRE -> Precision: 0.9162 - Recall: 0.9583 - Accuracy: 0.9581 - F1: 0.9368\n",
      "\n",
      "Saving model with new best validation loss: 19.5512\n",
      "\n",
      "=== EPOCH 14/99 ===\n",
      "Learning Rate = 0.0008\n",
      "\n"
     ]
    },
    {
     "name": "stderr",
     "output_type": "stream",
     "text": [
      "Training:  27%|██████████████████████████████████████                                                                                                     | 502/1836 [01:30<03:44,  5.94it/s]Warning: unknown JFIF revision number 32.23\n",
      "Training: 100%|██████████████████████████████████████████████████████████████████████████████████████████████████████████████████████████████████████████| 1836/1836 [05:25<00:00,  5.64it/s]\n"
     ]
    },
    {
     "name": "stdout",
     "output_type": "stream",
     "text": [
      "Total Loss  |Smoke Loss  |Fire Loss   \n",
      "------------ ------------ ------------\n",
      "19.794      |12.034      |7.760       \n",
      "\n"
     ]
    },
    {
     "name": "stderr",
     "output_type": "stream",
     "text": [
      "Validating: 100%|██████████████████████████████████████████████████████████████████████████████████████████████████████████████████████████████████████████| 380/380 [00:22<00:00, 16.71it/s]\n"
     ]
    },
    {
     "name": "stdout",
     "output_type": "stream",
     "text": [
      "Total Loss  |Smoke Loss  |Fire Loss   \n",
      "------------ ------------ ------------\n",
      "18.721      |12.348      |6.373       \n",
      "SMOKE -> Precision: 0.9488 - Recall: 0.8517 - Accuracy: 0.9084 - F1: 0.8976\n",
      "FIRE -> Precision: 0.9417 - Recall: 0.9428 - Accuracy: 0.9625 - F1: 0.9423\n",
      "\n",
      "Saving model with new best validation loss: 18.7211\n",
      "Saving model with best Mean F1: 0.9199\n",
      "\n",
      "=== EPOCH 15/99 ===\n",
      "Learning Rate = 0.0008\n",
      "\n"
     ]
    },
    {
     "name": "stderr",
     "output_type": "stream",
     "text": [
      "Training:  72%|███████████████████████████████████████████████████████████████████████████████████████████████████▏                                      | 1319/1836 [03:53<01:00,  8.53it/s]Warning: unknown JFIF revision number 32.23\n",
      "Training: 100%|██████████████████████████████████████████████████████████████████████████████████████████████████████████████████████████████████████████| 1836/1836 [05:25<00:00,  5.63it/s]\n"
     ]
    },
    {
     "name": "stdout",
     "output_type": "stream",
     "text": [
      "Total Loss  |Smoke Loss  |Fire Loss   \n",
      "------------ ------------ ------------\n",
      "19.531      |11.907      |7.624       \n",
      "\n"
     ]
    },
    {
     "name": "stderr",
     "output_type": "stream",
     "text": [
      "Validating: 100%|██████████████████████████████████████████████████████████████████████████████████████████████████████████████████████████████████████████| 380/380 [00:22<00:00, 16.65it/s]\n"
     ]
    },
    {
     "name": "stdout",
     "output_type": "stream",
     "text": [
      "Total Loss  |Smoke Loss  |Fire Loss   \n",
      "------------ ------------ ------------\n",
      "20.682      |11.555      |9.127       \n",
      "SMOKE -> Precision: 0.9339 - Recall: 0.8890 - Accuracy: 0.9180 - F1: 0.9109\n",
      "FIRE -> Precision: 0.8786 - Recall: 0.9762 - Accuracy: 0.9486 - F1: 0.9248\n",
      "\n",
      "=== EPOCH 16/99 ===\n",
      "Learning Rate = 0.0008\n",
      "\n"
     ]
    },
    {
     "name": "stderr",
     "output_type": "stream",
     "text": [
      "Training:  80%|██████████████████████████████████████████████████████████████████████████████████████████████████████████████                            | 1465/1836 [04:20<01:06,  5.56it/s]Warning: unknown JFIF revision number 32.23\n",
      "Training: 100%|██████████████████████████████████████████████████████████████████████████████████████████████████████████████████████████████████████████| 1836/1836 [05:24<00:00,  5.65it/s]\n"
     ]
    },
    {
     "name": "stdout",
     "output_type": "stream",
     "text": [
      "Total Loss  |Smoke Loss  |Fire Loss   \n",
      "------------ ------------ ------------\n",
      "19.262      |11.721      |7.541       \n",
      "\n"
     ]
    },
    {
     "name": "stderr",
     "output_type": "stream",
     "text": [
      "Validating: 100%|██████████████████████████████████████████████████████████████████████████████████████████████████████████████████████████████████████████| 380/380 [00:22<00:00, 16.68it/s]\n"
     ]
    },
    {
     "name": "stdout",
     "output_type": "stream",
     "text": [
      "Total Loss  |Smoke Loss  |Fire Loss   \n",
      "------------ ------------ ------------\n",
      "25.762      |13.252      |12.510      \n",
      "SMOKE -> Precision: 0.9248 - Recall: 0.8693 - Accuracy: 0.9051 - F1: 0.8962\n",
      "FIRE -> Precision: 0.8393 - Recall: 0.9688 - Accuracy: 0.9298 - F1: 0.8994\n",
      "\n",
      "=== EPOCH 17/99 ===\n",
      "Learning Rate = 0.0008\n",
      "\n"
     ]
    },
    {
     "name": "stderr",
     "output_type": "stream",
     "text": [
      "Training:   5%|██████▊                                                                                                                                     | 89/1836 [00:16<03:47,  7.69it/s]Warning: unknown JFIF revision number 32.23\n",
      "Training: 100%|██████████████████████████████████████████████████████████████████████████████████████████████████████████████████████████████████████████| 1836/1836 [05:20<00:00,  5.72it/s]\n"
     ]
    },
    {
     "name": "stdout",
     "output_type": "stream",
     "text": [
      "Total Loss  |Smoke Loss  |Fire Loss   \n",
      "------------ ------------ ------------\n",
      "19.094      |11.606      |7.488       \n",
      "\n"
     ]
    },
    {
     "name": "stderr",
     "output_type": "stream",
     "text": [
      "Validating: 100%|██████████████████████████████████████████████████████████████████████████████████████████████████████████████████████████████████████████| 380/380 [00:22<00:00, 16.54it/s]\n"
     ]
    },
    {
     "name": "stdout",
     "output_type": "stream",
     "text": [
      "Total Loss  |Smoke Loss  |Fire Loss   \n",
      "------------ ------------ ------------\n",
      "20.312      |11.879      |8.433       \n",
      "SMOKE -> Precision: 0.9485 - Recall: 0.8681 - Accuracy: 0.9156 - F1: 0.9065\n",
      "FIRE -> Precision: 0.8928 - Recall: 0.9637 - Accuracy: 0.9507 - F1: 0.9269\n",
      "\n",
      "=== EPOCH 18/99 ===\n",
      "Learning Rate = 0.00064\n",
      "\n"
     ]
    },
    {
     "name": "stderr",
     "output_type": "stream",
     "text": [
      "Training:  35%|█████████████████████████████████████████████████                                                                                          | 648/1836 [01:56<02:54,  6.80it/s]Warning: unknown JFIF revision number 32.23\n",
      "Training: 100%|██████████████████████████████████████████████████████████████████████████████████████████████████████████████████████████████████████████| 1836/1836 [05:24<00:00,  5.65it/s]\n"
     ]
    },
    {
     "name": "stdout",
     "output_type": "stream",
     "text": [
      "Total Loss  |Smoke Loss  |Fire Loss   \n",
      "------------ ------------ ------------\n",
      "18.346      |11.242      |7.104       \n",
      "\n"
     ]
    },
    {
     "name": "stderr",
     "output_type": "stream",
     "text": [
      "Validating: 100%|██████████████████████████████████████████████████████████████████████████████████████████████████████████████████████████████████████████| 380/380 [00:22<00:00, 16.60it/s]\n"
     ]
    },
    {
     "name": "stdout",
     "output_type": "stream",
     "text": [
      "Total Loss  |Smoke Loss  |Fire Loss   \n",
      "------------ ------------ ------------\n",
      "16.735      |10.211      |6.524       \n",
      "SMOKE -> Precision: 0.9438 - Recall: 0.9000 - Accuracy: 0.9276 - F1: 0.9214\n",
      "FIRE -> Precision: 0.9295 - Recall: 0.9562 - Accuracy: 0.9623 - F1: 0.9427\n",
      "\n",
      "Saving model with new best validation loss: 16.7347\n",
      "\n",
      "Saving model with precision > 0.9 and recall > 0.9\n",
      "Saving model with best Mean F1: 0.9320\n",
      "\n",
      "=== EPOCH 19/99 ===\n",
      "Learning Rate = 0.00064\n",
      "\n"
     ]
    },
    {
     "name": "stderr",
     "output_type": "stream",
     "text": [
      "Training:  39%|█████████████████████████████████████████████████████▊                                                                                     | 710/1836 [02:08<03:29,  5.38it/s]Warning: unknown JFIF revision number 32.23\n",
      "Training: 100%|██████████████████████████████████████████████████████████████████████████████████████████████████████████████████████████████████████████| 1836/1836 [05:25<00:00,  5.63it/s]\n"
     ]
    },
    {
     "name": "stdout",
     "output_type": "stream",
     "text": [
      "Total Loss  |Smoke Loss  |Fire Loss   \n",
      "------------ ------------ ------------\n",
      "17.976      |10.954      |7.022       \n",
      "\n"
     ]
    },
    {
     "name": "stderr",
     "output_type": "stream",
     "text": [
      "Validating: 100%|██████████████████████████████████████████████████████████████████████████████████████████████████████████████████████████████████████████| 380/380 [00:22<00:00, 16.67it/s]\n"
     ]
    },
    {
     "name": "stdout",
     "output_type": "stream",
     "text": [
      "Total Loss  |Smoke Loss  |Fire Loss   \n",
      "------------ ------------ ------------\n",
      "17.943      |11.859      |6.083       \n",
      "SMOKE -> Precision: 0.9427 - Recall: 0.8771 - Accuracy: 0.9169 - F1: 0.9087\n",
      "FIRE -> Precision: 0.9263 - Recall: 0.9708 - Accuracy: 0.9655 - F1: 0.9480\n",
      "\n",
      "=== EPOCH 20/99 ===\n",
      "Learning Rate = 0.00064\n",
      "\n"
     ]
    },
    {
     "name": "stderr",
     "output_type": "stream",
     "text": [
      "Training:  89%|███████████████████████████████████████████████████████████████████████████████████████████████████████████████████████████               | 1637/1836 [04:52<00:33,  5.97it/s]Warning: unknown JFIF revision number 32.23\n",
      "Training: 100%|██████████████████████████████████████████████████████████████████████████████████████████████████████████████████████████████████████████| 1836/1836 [05:26<00:00,  5.63it/s]\n"
     ]
    },
    {
     "name": "stdout",
     "output_type": "stream",
     "text": [
      "Total Loss  |Smoke Loss  |Fire Loss   \n",
      "------------ ------------ ------------\n",
      "17.815      |10.885      |6.930       \n",
      "\n"
     ]
    },
    {
     "name": "stderr",
     "output_type": "stream",
     "text": [
      "Validating: 100%|██████████████████████████████████████████████████████████████████████████████████████████████████████████████████████████████████████████| 380/380 [00:22<00:00, 16.63it/s]\n"
     ]
    },
    {
     "name": "stdout",
     "output_type": "stream",
     "text": [
      "Total Loss  |Smoke Loss  |Fire Loss   \n",
      "------------ ------------ ------------\n",
      "17.277      |10.998      |6.280       \n",
      "SMOKE -> Precision: 0.9197 - Recall: 0.9165 - Accuracy: 0.9229 - F1: 0.9181\n",
      "FIRE -> Precision: 0.9228 - Recall: 0.9689 - Accuracy: 0.9637 - F1: 0.9453\n",
      "\n",
      "Saving model with precision > 0.9 and recall > 0.9\n",
      "\n",
      "=== EPOCH 21/99 ===\n",
      "Learning Rate = 0.00064\n",
      "\n"
     ]
    },
    {
     "name": "stderr",
     "output_type": "stream",
     "text": [
      "Training:  81%|███████████████████████████████████████████████████████████████████████████████████████████████████████████████▌                          | 1484/1836 [04:22<00:53,  6.60it/s]Warning: unknown JFIF revision number 32.23\n",
      "Training: 100%|██████████████████████████████████████████████████████████████████████████████████████████████████████████████████████████████████████████| 1836/1836 [05:25<00:00,  5.64it/s]\n"
     ]
    },
    {
     "name": "stdout",
     "output_type": "stream",
     "text": [
      "Total Loss  |Smoke Loss  |Fire Loss   \n",
      "------------ ------------ ------------\n",
      "17.587      |10.782      |6.804       \n",
      "\n"
     ]
    },
    {
     "name": "stderr",
     "output_type": "stream",
     "text": [
      "Validating: 100%|██████████████████████████████████████████████████████████████████████████████████████████████████████████████████████████████████████████| 380/380 [00:22<00:00, 16.69it/s]\n"
     ]
    },
    {
     "name": "stdout",
     "output_type": "stream",
     "text": [
      "Total Loss  |Smoke Loss  |Fire Loss   \n",
      "------------ ------------ ------------\n",
      "17.743      |11.368      |6.375       \n",
      "SMOKE -> Precision: 0.9215 - Recall: 0.9062 - Accuracy: 0.9194 - F1: 0.9138\n",
      "FIRE -> Precision: 0.9214 - Recall: 0.9723 - Accuracy: 0.9641 - F1: 0.9462\n",
      "\n",
      "Saving model with precision > 0.9 and recall > 0.9\n",
      "\n",
      "=== EPOCH 22/99 ===\n",
      "Learning Rate = 0.0005120000000000001\n",
      "\n"
     ]
    },
    {
     "name": "stderr",
     "output_type": "stream",
     "text": [
      "Training:  84%|███████████████████████████████████████████████████████████████████████████████████████████████████████████████████▉                      | 1543/1836 [04:33<01:16,  3.81it/s]Warning: unknown JFIF revision number 32.23\n",
      "Training: 100%|██████████████████████████████████████████████████████████████████████████████████████████████████████████████████████████████████████████| 1836/1836 [05:21<00:00,  5.71it/s]\n"
     ]
    },
    {
     "name": "stdout",
     "output_type": "stream",
     "text": [
      "Total Loss  |Smoke Loss  |Fire Loss   \n",
      "------------ ------------ ------------\n",
      "16.860      |10.327      |6.533       \n",
      "\n"
     ]
    },
    {
     "name": "stderr",
     "output_type": "stream",
     "text": [
      "Validating: 100%|██████████████████████████████████████████████████████████████████████████████████████████████████████████████████████████████████████████| 380/380 [00:22<00:00, 16.63it/s]\n"
     ]
    },
    {
     "name": "stdout",
     "output_type": "stream",
     "text": [
      "Total Loss  |Smoke Loss  |Fire Loss   \n",
      "------------ ------------ ------------\n",
      "19.137      |11.658      |7.480       \n",
      "SMOKE -> Precision: 0.9214 - Recall: 0.9033 - Accuracy: 0.9181 - F1: 0.9123\n",
      "FIRE -> Precision: 0.9050 - Recall: 0.9716 - Accuracy: 0.9577 - F1: 0.9371\n",
      "\n",
      "Saving model with precision > 0.9 and recall > 0.9\n",
      "\n",
      "=== EPOCH 23/99 ===\n",
      "Learning Rate = 0.0005120000000000001\n",
      "\n"
     ]
    },
    {
     "name": "stderr",
     "output_type": "stream",
     "text": [
      "Training:  64%|████████████████████████████████████████████████████████████████████████████████████████▍                                                 | 1177/1836 [03:29<01:29,  7.33it/s]Warning: unknown JFIF revision number 32.23\n",
      "Training: 100%|██████████████████████████████████████████████████████████████████████████████████████████████████████████████████████████████████████████| 1836/1836 [05:25<00:00,  5.64it/s]\n"
     ]
    },
    {
     "name": "stdout",
     "output_type": "stream",
     "text": [
      "Total Loss  |Smoke Loss  |Fire Loss   \n",
      "------------ ------------ ------------\n",
      "16.602      |10.151      |6.452       \n",
      "\n"
     ]
    },
    {
     "name": "stderr",
     "output_type": "stream",
     "text": [
      "Validating: 100%|██████████████████████████████████████████████████████████████████████████████████████████████████████████████████████████████████████████| 380/380 [00:22<00:00, 16.72it/s]\n"
     ]
    },
    {
     "name": "stdout",
     "output_type": "stream",
     "text": [
      "Total Loss  |Smoke Loss  |Fire Loss   \n",
      "------------ ------------ ------------\n",
      "20.334      |12.427      |7.907       \n",
      "SMOKE -> Precision: 0.9135 - Recall: 0.9128 - Accuracy: 0.9181 - F1: 0.9131\n",
      "FIRE -> Precision: 0.8896 - Recall: 0.9760 - Accuracy: 0.9530 - F1: 0.9308\n",
      "\n",
      "Saving model with precision > 0.9 and recall > 0.9\n",
      "\n",
      "=== EPOCH 24/99 ===\n",
      "Learning Rate = 0.0005120000000000001\n",
      "\n"
     ]
    },
    {
     "name": "stderr",
     "output_type": "stream",
     "text": [
      "Training:  55%|████████████████████████████████████████████████████████████████████████████▏                                                             | 1014/1836 [02:59<02:43,  5.03it/s]Warning: unknown JFIF revision number 32.23\n",
      "Training: 100%|██████████████████████████████████████████████████████████████████████████████████████████████████████████████████████████████████████████| 1836/1836 [05:23<00:00,  5.68it/s]\n"
     ]
    },
    {
     "name": "stdout",
     "output_type": "stream",
     "text": [
      "Total Loss  |Smoke Loss  |Fire Loss   \n",
      "------------ ------------ ------------\n",
      "16.566      |10.155      |6.410       \n",
      "\n"
     ]
    },
    {
     "name": "stderr",
     "output_type": "stream",
     "text": [
      "Validating: 100%|██████████████████████████████████████████████████████████████████████████████████████████████████████████████████████████████████████████| 380/380 [00:22<00:00, 16.61it/s]\n"
     ]
    },
    {
     "name": "stdout",
     "output_type": "stream",
     "text": [
      "Total Loss  |Smoke Loss  |Fire Loss   \n",
      "------------ ------------ ------------\n",
      "17.610      |11.629      |5.981       \n",
      "SMOKE -> Precision: 0.9362 - Recall: 0.8884 - Accuracy: 0.9188 - F1: 0.9117\n",
      "FIRE -> Precision: 0.9262 - Recall: 0.9726 - Accuracy: 0.9660 - F1: 0.9488\n",
      "\n",
      "=== EPOCH 25/99 ===\n",
      "Learning Rate = 0.0004096000000000001\n",
      "\n"
     ]
    },
    {
     "name": "stderr",
     "output_type": "stream",
     "text": [
      "Training:  15%|████████████████████▌                                                                                                                      | 272/1836 [00:50<04:08,  6.30it/s]Warning: unknown JFIF revision number 32.23\n",
      "Training: 100%|██████████████████████████████████████████████████████████████████████████████████████████████████████████████████████████████████████████| 1836/1836 [05:26<00:00,  5.62it/s]\n"
     ]
    },
    {
     "name": "stdout",
     "output_type": "stream",
     "text": [
      "Total Loss  |Smoke Loss  |Fire Loss   \n",
      "------------ ------------ ------------\n",
      "15.945      |9.827       |6.118       \n",
      "\n"
     ]
    },
    {
     "name": "stderr",
     "output_type": "stream",
     "text": [
      "Validating: 100%|██████████████████████████████████████████████████████████████████████████████████████████████████████████████████████████████████████████| 380/380 [00:22<00:00, 16.69it/s]\n"
     ]
    },
    {
     "name": "stdout",
     "output_type": "stream",
     "text": [
      "Total Loss  |Smoke Loss  |Fire Loss   \n",
      "------------ ------------ ------------\n",
      "16.352      |9.698       |6.653       \n",
      "SMOKE -> Precision: 0.9484 - Recall: 0.9054 - Accuracy: 0.9322 - F1: 0.9264\n",
      "FIRE -> Precision: 0.9151 - Recall: 0.9786 - Accuracy: 0.9636 - F1: 0.9458\n",
      "\n",
      "Saving model with new best validation loss: 16.3516\n",
      "\n",
      "Saving model with precision > 0.9 and recall > 0.9\n",
      "Saving model with best Mean F1: 0.9361\n",
      "\n",
      "=== EPOCH 26/99 ===\n",
      "Learning Rate = 0.0004096000000000001\n",
      "\n"
     ]
    },
    {
     "name": "stderr",
     "output_type": "stream",
     "text": [
      "Training:   7%|██████████▏                                                                                                                                | 134/1836 [00:25<04:52,  5.81it/s]Warning: unknown JFIF revision number 32.23\n",
      "Training: 100%|██████████████████████████████████████████████████████████████████████████████████████████████████████████████████████████████████████████| 1836/1836 [05:25<00:00,  5.64it/s]\n"
     ]
    },
    {
     "name": "stdout",
     "output_type": "stream",
     "text": [
      "Total Loss  |Smoke Loss  |Fire Loss   \n",
      "------------ ------------ ------------\n",
      "15.771      |9.666       |6.105       \n",
      "\n"
     ]
    },
    {
     "name": "stderr",
     "output_type": "stream",
     "text": [
      "Validating: 100%|██████████████████████████████████████████████████████████████████████████████████████████████████████████████████████████████████████████| 380/380 [00:22<00:00, 16.72it/s]\n"
     ]
    },
    {
     "name": "stdout",
     "output_type": "stream",
     "text": [
      "Total Loss  |Smoke Loss  |Fire Loss   \n",
      "------------ ------------ ------------\n",
      "16.481      |9.473       |7.008       \n",
      "SMOKE -> Precision: 0.9527 - Recall: 0.9082 - Accuracy: 0.9354 - F1: 0.9299\n",
      "FIRE -> Precision: 0.9084 - Recall: 0.9795 - Accuracy: 0.9613 - F1: 0.9426\n",
      "\n",
      "Saving model with precision > 0.9 and recall > 0.9\n",
      "Saving model with best Mean F1: 0.9362\n",
      "\n",
      "=== EPOCH 27/99 ===\n",
      "Learning Rate = 0.0004096000000000001\n",
      "\n"
     ]
    },
    {
     "name": "stderr",
     "output_type": "stream",
     "text": [
      "Training:  66%|███████████████████████████████████████████████████████████████████████████████████████████▋                                              | 1220/1836 [03:38<01:38,  6.27it/s]Warning: unknown JFIF revision number 32.23\n",
      "Training: 100%|██████████████████████████████████████████████████████████████████████████████████████████████████████████████████████████████████████████| 1836/1836 [05:26<00:00,  5.62it/s]\n"
     ]
    },
    {
     "name": "stdout",
     "output_type": "stream",
     "text": [
      "Total Loss  |Smoke Loss  |Fire Loss   \n",
      "------------ ------------ ------------\n",
      "15.623      |9.539       |6.083       \n",
      "\n"
     ]
    },
    {
     "name": "stderr",
     "output_type": "stream",
     "text": [
      "Validating: 100%|██████████████████████████████████████████████████████████████████████████████████████████████████████████████████████████████████████████| 380/380 [00:22<00:00, 16.72it/s]\n"
     ]
    },
    {
     "name": "stdout",
     "output_type": "stream",
     "text": [
      "Total Loss  |Smoke Loss  |Fire Loss   \n",
      "------------ ------------ ------------\n",
      "15.752      |9.186       |6.565       \n",
      "SMOKE -> Precision: 0.9423 - Recall: 0.9167 - Accuracy: 0.9343 - F1: 0.9293\n",
      "FIRE -> Precision: 0.9155 - Recall: 0.9760 - Accuracy: 0.9630 - F1: 0.9448\n",
      "\n",
      "Saving model with new best validation loss: 15.7516\n",
      "\n",
      "Saving model with precision > 0.9 and recall > 0.9\n",
      "Saving model with best Mean F1: 0.9371\n",
      "\n",
      "=== EPOCH 28/99 ===\n",
      "Learning Rate = 0.0004096000000000001\n",
      "\n"
     ]
    },
    {
     "name": "stderr",
     "output_type": "stream",
     "text": [
      "Training:   2%|███▏                                                                                                                                        | 41/1836 [00:09<04:48,  6.23it/s]Warning: unknown JFIF revision number 32.23\n",
      "Training: 100%|██████████████████████████████████████████████████████████████████████████████████████████████████████████████████████████████████████████| 1836/1836 [05:24<00:00,  5.65it/s]\n"
     ]
    },
    {
     "name": "stdout",
     "output_type": "stream",
     "text": [
      "Total Loss  |Smoke Loss  |Fire Loss   \n",
      "------------ ------------ ------------\n",
      "15.456      |9.468       |5.988       \n",
      "\n"
     ]
    },
    {
     "name": "stderr",
     "output_type": "stream",
     "text": [
      "Validating: 100%|██████████████████████████████████████████████████████████████████████████████████████████████████████████████████████████████████████████| 380/380 [00:23<00:00, 16.49it/s]\n"
     ]
    },
    {
     "name": "stdout",
     "output_type": "stream",
     "text": [
      "Total Loss  |Smoke Loss  |Fire Loss   \n",
      "------------ ------------ ------------\n",
      "16.845      |10.547      |6.298       \n",
      "SMOKE -> Precision: 0.9293 - Recall: 0.9177 - Accuracy: 0.9283 - F1: 0.9235\n",
      "FIRE -> Precision: 0.9207 - Recall: 0.9772 - Accuracy: 0.9653 - F1: 0.9481\n",
      "\n",
      "Saving model with precision > 0.9 and recall > 0.9\n",
      "\n",
      "=== EPOCH 29/99 ===\n",
      "Learning Rate = 0.0004096000000000001\n",
      "\n"
     ]
    },
    {
     "name": "stderr",
     "output_type": "stream",
     "text": [
      "Training:  84%|███████████████████████████████████████████████████████████████████████████████████████████████████████████████████▊                      | 1540/1836 [04:31<00:41,  7.09it/s]Warning: unknown JFIF revision number 32.23\n",
      "Training: 100%|██████████████████████████████████████████████████████████████████████████████████████████████████████████████████████████████████████████| 1836/1836 [05:24<00:00,  5.65it/s]\n"
     ]
    },
    {
     "name": "stdout",
     "output_type": "stream",
     "text": [
      "Total Loss  |Smoke Loss  |Fire Loss   \n",
      "------------ ------------ ------------\n",
      "15.513      |9.479       |6.034       \n",
      "\n"
     ]
    },
    {
     "name": "stderr",
     "output_type": "stream",
     "text": [
      "Validating: 100%|██████████████████████████████████████████████████████████████████████████████████████████████████████████████████████████████████████████| 380/380 [00:22<00:00, 16.62it/s]\n"
     ]
    },
    {
     "name": "stdout",
     "output_type": "stream",
     "text": [
      "Total Loss  |Smoke Loss  |Fire Loss   \n",
      "------------ ------------ ------------\n",
      "17.840      |10.896      |6.944       \n",
      "SMOKE -> Precision: 0.9245 - Recall: 0.9137 - Accuracy: 0.9241 - F1: 0.9191\n",
      "FIRE -> Precision: 0.9107 - Recall: 0.9745 - Accuracy: 0.9608 - F1: 0.9415\n",
      "\n",
      "Saving model with precision > 0.9 and recall > 0.9\n",
      "\n",
      "=== EPOCH 30/99 ===\n",
      "Learning Rate = 0.0004096000000000001\n",
      "\n"
     ]
    },
    {
     "name": "stderr",
     "output_type": "stream",
     "text": [
      "Training:  34%|███████████████████████████████████████████████▊                                                                                           | 631/1836 [01:52<02:50,  7.08it/s]Warning: unknown JFIF revision number 32.23\n",
      "Training: 100%|██████████████████████████████████████████████████████████████████████████████████████████████████████████████████████████████████████████| 1836/1836 [05:25<00:00,  5.65it/s]\n"
     ]
    },
    {
     "name": "stdout",
     "output_type": "stream",
     "text": [
      "Total Loss  |Smoke Loss  |Fire Loss   \n",
      "------------ ------------ ------------\n",
      "15.446      |9.461       |5.985       \n",
      "\n"
     ]
    },
    {
     "name": "stderr",
     "output_type": "stream",
     "text": [
      "Validating: 100%|██████████████████████████████████████████████████████████████████████████████████████████████████████████████████████████████████████████| 380/380 [00:22<00:00, 16.65it/s]\n"
     ]
    },
    {
     "name": "stdout",
     "output_type": "stream",
     "text": [
      "Total Loss  |Smoke Loss  |Fire Loss   \n",
      "------------ ------------ ------------\n",
      "14.381      |8.928       |5.452       \n",
      "SMOKE -> Precision: 0.9610 - Recall: 0.9027 - Accuracy: 0.9368 - F1: 0.9309\n",
      "FIRE -> Precision: 0.9352 - Recall: 0.9754 - Accuracy: 0.9701 - F1: 0.9549\n",
      "\n",
      "Saving model with new best validation loss: 14.3806\n",
      "\n",
      "Saving model with precision > 0.9 and recall > 0.9\n",
      "Saving model with best Mean F1: 0.9429\n",
      "\n",
      "=== EPOCH 31/99 ===\n",
      "Learning Rate = 0.0004096000000000001\n",
      "\n"
     ]
    },
    {
     "name": "stderr",
     "output_type": "stream",
     "text": [
      "Training:  68%|██████████████████████████████████████████████████████████████████████████████████████████████▍                                           | 1257/1836 [03:41<01:11,  8.06it/s]Warning: unknown JFIF revision number 32.23\n",
      "Training: 100%|██████████████████████████████████████████████████████████████████████████████████████████████████████████████████████████████████████████| 1836/1836 [05:26<00:00,  5.62it/s]\n"
     ]
    },
    {
     "name": "stdout",
     "output_type": "stream",
     "text": [
      "Total Loss  |Smoke Loss  |Fire Loss   \n",
      "------------ ------------ ------------\n",
      "15.259      |9.334       |5.925       \n",
      "\n"
     ]
    },
    {
     "name": "stderr",
     "output_type": "stream",
     "text": [
      "Validating: 100%|██████████████████████████████████████████████████████████████████████████████████████████████████████████████████████████████████████████| 380/380 [00:22<00:00, 16.68it/s]\n"
     ]
    },
    {
     "name": "stdout",
     "output_type": "stream",
     "text": [
      "Total Loss  |Smoke Loss  |Fire Loss   \n",
      "------------ ------------ ------------\n",
      "14.957      |9.459       |5.498       \n",
      "SMOKE -> Precision: 0.9536 - Recall: 0.9060 - Accuracy: 0.9349 - F1: 0.9292\n",
      "FIRE -> Precision: 0.9323 - Recall: 0.9777 - Accuracy: 0.9697 - F1: 0.9544\n",
      "\n",
      "Saving model with precision > 0.9 and recall > 0.9\n",
      "\n",
      "=== EPOCH 32/99 ===\n",
      "Learning Rate = 0.0004096000000000001\n",
      "\n"
     ]
    },
    {
     "name": "stderr",
     "output_type": "stream",
     "text": [
      "Training:  81%|███████████████████████████████████████████████████████████████████████████████████████████████████████████████▊                          | 1488/1836 [04:22<00:48,  7.23it/s]Warning: unknown JFIF revision number 32.23\n",
      "Training: 100%|██████████████████████████████████████████████████████████████████████████████████████████████████████████████████████████████████████████| 1836/1836 [05:23<00:00,  5.67it/s]\n"
     ]
    },
    {
     "name": "stdout",
     "output_type": "stream",
     "text": [
      "Total Loss  |Smoke Loss  |Fire Loss   \n",
      "------------ ------------ ------------\n",
      "15.146      |9.276       |5.870       \n",
      "\n"
     ]
    },
    {
     "name": "stderr",
     "output_type": "stream",
     "text": [
      "Validating: 100%|██████████████████████████████████████████████████████████████████████████████████████████████████████████████████████████████████████████| 380/380 [00:22<00:00, 16.65it/s]\n"
     ]
    },
    {
     "name": "stdout",
     "output_type": "stream",
     "text": [
      "Total Loss  |Smoke Loss  |Fire Loss   \n",
      "------------ ------------ ------------\n",
      "16.797      |10.150      |6.647       \n",
      "SMOKE -> Precision: 0.9376 - Recall: 0.9075 - Accuracy: 0.9279 - F1: 0.9223\n",
      "FIRE -> Precision: 0.9138 - Recall: 0.9817 - Accuracy: 0.9641 - F1: 0.9466\n",
      "\n",
      "Saving model with precision > 0.9 and recall > 0.9\n",
      "\n",
      "=== EPOCH 33/99 ===\n",
      "Learning Rate = 0.0004096000000000001\n",
      "\n"
     ]
    },
    {
     "name": "stderr",
     "output_type": "stream",
     "text": [
      "Training:  40%|███████████████████████████████████████████████████████▋                                                                                   | 736/1836 [02:11<02:22,  7.71it/s]Warning: unknown JFIF revision number 32.23\n",
      "Training: 100%|██████████████████████████████████████████████████████████████████████████████████████████████████████████████████████████████████████████| 1836/1836 [05:24<00:00,  5.65it/s]\n"
     ]
    },
    {
     "name": "stdout",
     "output_type": "stream",
     "text": [
      "Total Loss  |Smoke Loss  |Fire Loss   \n",
      "------------ ------------ ------------\n",
      "15.252      |9.368       |5.884       \n",
      "\n"
     ]
    },
    {
     "name": "stderr",
     "output_type": "stream",
     "text": [
      "Validating: 100%|██████████████████████████████████████████████████████████████████████████████████████████████████████████████████████████████████████████| 380/380 [00:22<00:00, 16.71it/s]\n"
     ]
    },
    {
     "name": "stdout",
     "output_type": "stream",
     "text": [
      "Total Loss  |Smoke Loss  |Fire Loss   \n",
      "------------ ------------ ------------\n",
      "18.400      |10.074      |8.325       \n",
      "SMOKE -> Precision: 0.9424 - Recall: 0.9082 - Accuracy: 0.9306 - F1: 0.9250\n",
      "FIRE -> Precision: 0.8897 - Recall: 0.9822 - Accuracy: 0.9548 - F1: 0.9337\n",
      "\n",
      "Saving model with precision > 0.9 and recall > 0.9\n",
      "\n",
      "=== EPOCH 34/99 ===\n",
      "Learning Rate = 0.0003276800000000001\n",
      "\n"
     ]
    },
    {
     "name": "stderr",
     "output_type": "stream",
     "text": [
      "Training:  15%|████████████████████▎                                                                                                                      | 268/1836 [00:49<05:26,  4.80it/s]Warning: unknown JFIF revision number 32.23\n",
      "Training: 100%|██████████████████████████████████████████████████████████████████████████████████████████████████████████████████████████████████████████| 1836/1836 [05:24<00:00,  5.65it/s]\n"
     ]
    },
    {
     "name": "stdout",
     "output_type": "stream",
     "text": [
      "Total Loss  |Smoke Loss  |Fire Loss   \n",
      "------------ ------------ ------------\n",
      "14.485      |8.854       |5.630       \n",
      "\n"
     ]
    },
    {
     "name": "stderr",
     "output_type": "stream",
     "text": [
      "Validating: 100%|██████████████████████████████████████████████████████████████████████████████████████████████████████████████████████████████████████████| 380/380 [00:22<00:00, 16.61it/s]\n"
     ]
    },
    {
     "name": "stdout",
     "output_type": "stream",
     "text": [
      "Total Loss  |Smoke Loss  |Fire Loss   \n",
      "------------ ------------ ------------\n",
      "15.064      |9.044       |6.020       \n",
      "SMOKE -> Precision: 0.9490 - Recall: 0.9176 - Accuracy: 0.9379 - F1: 0.9330\n",
      "FIRE -> Precision: 0.9274 - Recall: 0.9749 - Accuracy: 0.9671 - F1: 0.9505\n",
      "\n",
      "Saving model with precision > 0.9 and recall > 0.9\n",
      "\n",
      "=== EPOCH 35/99 ===\n",
      "Learning Rate = 0.0003276800000000001\n",
      "\n"
     ]
    },
    {
     "name": "stderr",
     "output_type": "stream",
     "text": [
      "Training:  70%|████████████████████████████████████████████████████████████████████████████████████████████████▌                                         | 1284/1836 [03:48<01:05,  8.38it/s]Warning: unknown JFIF revision number 32.23\n",
      "Training: 100%|██████████████████████████████████████████████████████████████████████████████████████████████████████████████████████████████████████████| 1836/1836 [05:24<00:00,  5.66it/s]\n"
     ]
    },
    {
     "name": "stdout",
     "output_type": "stream",
     "text": [
      "Total Loss  |Smoke Loss  |Fire Loss   \n",
      "------------ ------------ ------------\n",
      "14.450      |8.894       |5.556       \n",
      "\n"
     ]
    },
    {
     "name": "stderr",
     "output_type": "stream",
     "text": [
      "Validating: 100%|██████████████████████████████████████████████████████████████████████████████████████████████████████████████████████████████████████████| 380/380 [00:22<00:00, 16.62it/s]\n"
     ]
    },
    {
     "name": "stdout",
     "output_type": "stream",
     "text": [
      "Total Loss  |Smoke Loss  |Fire Loss   \n",
      "------------ ------------ ------------\n",
      "15.757      |10.036      |5.721       \n",
      "SMOKE -> Precision: 0.9294 - Recall: 0.9239 - Accuracy: 0.9310 - F1: 0.9266\n",
      "FIRE -> Precision: 0.9267 - Recall: 0.9807 - Accuracy: 0.9686 - F1: 0.9529\n",
      "\n",
      "Saving model with precision > 0.9 and recall > 0.9\n",
      "\n",
      "=== EPOCH 36/99 ===\n",
      "Learning Rate = 0.0003276800000000001\n",
      "\n"
     ]
    },
    {
     "name": "stderr",
     "output_type": "stream",
     "text": [
      "Training:  92%|███████████████████████████████████████████████████████████████████████████████████████████████████████████████████████████████▎          | 1693/1836 [04:59<00:16,  8.43it/s]Warning: unknown JFIF revision number 32.23\n",
      "Training: 100%|██████████████████████████████████████████████████████████████████████████████████████████████████████████████████████████████████████████| 1836/1836 [05:25<00:00,  5.64it/s]\n"
     ]
    },
    {
     "name": "stdout",
     "output_type": "stream",
     "text": [
      "Total Loss  |Smoke Loss  |Fire Loss   \n",
      "------------ ------------ ------------\n",
      "14.433      |8.836       |5.596       \n",
      "\n"
     ]
    },
    {
     "name": "stderr",
     "output_type": "stream",
     "text": [
      "Validating: 100%|██████████████████████████████████████████████████████████████████████████████████████████████████████████████████████████████████████████| 380/380 [00:22<00:00, 16.60it/s]\n"
     ]
    },
    {
     "name": "stdout",
     "output_type": "stream",
     "text": [
      "Total Loss  |Smoke Loss  |Fire Loss   \n",
      "------------ ------------ ------------\n",
      "15.329      |9.365       |5.965       \n",
      "SMOKE -> Precision: 0.9364 - Recall: 0.9302 - Accuracy: 0.9373 - F1: 0.9333\n",
      "FIRE -> Precision: 0.9237 - Recall: 0.9801 - Accuracy: 0.9673 - F1: 0.9511\n",
      "\n",
      "Saving model with precision > 0.9 and recall > 0.9\n",
      "\n",
      "=== EPOCH 37/99 ===\n",
      "Learning Rate = 0.0002621440000000001\n",
      "\n"
     ]
    },
    {
     "name": "stderr",
     "output_type": "stream",
     "text": [
      "Training:  61%|████████████████████████████████████████████████████████████████████████████████████▊                                                     | 1128/1836 [03:21<01:38,  7.16it/s]Warning: unknown JFIF revision number 32.23\n",
      "Training: 100%|██████████████████████████████████████████████████████████████████████████████████████████████████████████████████████████████████████████| 1836/1836 [05:25<00:00,  5.63it/s]\n"
     ]
    },
    {
     "name": "stdout",
     "output_type": "stream",
     "text": [
      "Total Loss  |Smoke Loss  |Fire Loss   \n",
      "------------ ------------ ------------\n",
      "13.914      |8.532       |5.382       \n",
      "\n"
     ]
    },
    {
     "name": "stderr",
     "output_type": "stream",
     "text": [
      "Validating: 100%|██████████████████████████████████████████████████████████████████████████████████████████████████████████████████████████████████████████| 380/380 [00:22<00:00, 16.55it/s]\n"
     ]
    },
    {
     "name": "stdout",
     "output_type": "stream",
     "text": [
      "Total Loss  |Smoke Loss  |Fire Loss   \n",
      "------------ ------------ ------------\n",
      "16.214      |9.751       |6.463       \n",
      "SMOKE -> Precision: 0.9382 - Recall: 0.9218 - Accuracy: 0.9345 - F1: 0.9299\n",
      "FIRE -> Precision: 0.9141 - Recall: 0.9814 - Accuracy: 0.9641 - F1: 0.9465\n",
      "\n",
      "Saving model with precision > 0.9 and recall > 0.9\n",
      "\n",
      "=== EPOCH 38/99 ===\n",
      "Learning Rate = 0.0002621440000000001\n",
      "\n"
     ]
    },
    {
     "name": "stderr",
     "output_type": "stream",
     "text": [
      "Training:  94%|█████████████████████████████████████████████████████████████████████████████████████████████████████████████████████████████████▏        | 1719/1836 [05:05<00:15,  7.72it/s]Warning: unknown JFIF revision number 32.23\n",
      "Training: 100%|██████████████████████████████████████████████████████████████████████████████████████████████████████████████████████████████████████████| 1836/1836 [05:26<00:00,  5.63it/s]\n"
     ]
    },
    {
     "name": "stdout",
     "output_type": "stream",
     "text": [
      "Total Loss  |Smoke Loss  |Fire Loss   \n",
      "------------ ------------ ------------\n",
      "13.823      |8.482       |5.340       \n",
      "\n"
     ]
    },
    {
     "name": "stderr",
     "output_type": "stream",
     "text": [
      "Validating: 100%|██████████████████████████████████████████████████████████████████████████████████████████████████████████████████████████████████████████| 380/380 [00:23<00:00, 16.51it/s]\n"
     ]
    },
    {
     "name": "stdout",
     "output_type": "stream",
     "text": [
      "Total Loss  |Smoke Loss  |Fire Loss   \n",
      "------------ ------------ ------------\n",
      "14.865      |9.026       |5.839       \n",
      "SMOKE -> Precision: 0.9547 - Recall: 0.9111 - Accuracy: 0.9377 - F1: 0.9324\n",
      "FIRE -> Precision: 0.9277 - Recall: 0.9778 - Accuracy: 0.9681 - F1: 0.9521\n",
      "\n",
      "Saving model with precision > 0.9 and recall > 0.9\n",
      "\n",
      "=== EPOCH 39/99 ===\n",
      "Learning Rate = 0.0002621440000000001\n",
      "\n"
     ]
    },
    {
     "name": "stderr",
     "output_type": "stream",
     "text": [
      "Training:  23%|███████████████████████████████▋                                                                                                           | 418/1836 [01:14<03:54,  6.05it/s]Warning: unknown JFIF revision number 32.23\n",
      "Training: 100%|██████████████████████████████████████████████████████████████████████████████████████████████████████████████████████████████████████████| 1836/1836 [05:22<00:00,  5.70it/s]\n"
     ]
    },
    {
     "name": "stdout",
     "output_type": "stream",
     "text": [
      "Total Loss  |Smoke Loss  |Fire Loss   \n",
      "------------ ------------ ------------\n",
      "13.737      |8.402       |5.336       \n",
      "\n"
     ]
    },
    {
     "name": "stderr",
     "output_type": "stream",
     "text": [
      "Validating: 100%|██████████████████████████████████████████████████████████████████████████████████████████████████████████████████████████████████████████| 380/380 [00:23<00:00, 16.51it/s]\n"
     ]
    },
    {
     "name": "stdout",
     "output_type": "stream",
     "text": [
      "Total Loss  |Smoke Loss  |Fire Loss   \n",
      "------------ ------------ ------------\n",
      "14.403      |8.768       |5.635       \n",
      "SMOKE -> Precision: 0.9291 - Recall: 0.9513 - Accuracy: 0.9428 - F1: 0.9401\n",
      "FIRE -> Precision: 0.9318 - Recall: 0.9764 - Accuracy: 0.9692 - F1: 0.9536\n",
      "\n",
      "Saving model with precision > 0.9 and recall > 0.9\n",
      "Saving model with best Mean F1: 0.9469\n",
      "\n",
      "=== EPOCH 40/99 ===\n",
      "Learning Rate = 0.00020971520000000012\n",
      "\n"
     ]
    },
    {
     "name": "stderr",
     "output_type": "stream",
     "text": [
      "Training:  82%|████████████████████████████████████████████████████████████████████████████████████████████████████████████████▉                         | 1503/1836 [04:25<01:05,  5.07it/s]Warning: unknown JFIF revision number 32.23\n",
      "Training: 100%|██████████████████████████████████████████████████████████████████████████████████████████████████████████████████████████████████████████| 1836/1836 [05:22<00:00,  5.70it/s]\n"
     ]
    },
    {
     "name": "stdout",
     "output_type": "stream",
     "text": [
      "Total Loss  |Smoke Loss  |Fire Loss   \n",
      "------------ ------------ ------------\n",
      "13.287      |8.166       |5.121       \n",
      "\n"
     ]
    },
    {
     "name": "stderr",
     "output_type": "stream",
     "text": [
      "Validating: 100%|██████████████████████████████████████████████████████████████████████████████████████████████████████████████████████████████████████████| 380/380 [00:22<00:00, 16.65it/s]\n"
     ]
    },
    {
     "name": "stdout",
     "output_type": "stream",
     "text": [
      "Total Loss  |Smoke Loss  |Fire Loss   \n",
      "------------ ------------ ------------\n",
      "14.611      |8.870       |5.741       \n",
      "SMOKE -> Precision: 0.9524 - Recall: 0.9165 - Accuracy: 0.9391 - F1: 0.9341\n",
      "FIRE -> Precision: 0.9262 - Recall: 0.9811 - Accuracy: 0.9685 - F1: 0.9529\n",
      "\n",
      "Saving model with precision > 0.9 and recall > 0.9\n",
      "\n",
      "=== EPOCH 41/99 ===\n",
      "Learning Rate = 0.00020971520000000012\n",
      "\n"
     ]
    },
    {
     "name": "stderr",
     "output_type": "stream",
     "text": [
      "Training:  12%|████████████████▌                                                                                                                          | 218/1836 [00:40<03:47,  7.11it/s]Warning: unknown JFIF revision number 32.23\n",
      "Training: 100%|██████████████████████████████████████████████████████████████████████████████████████████████████████████████████████████████████████████| 1836/1836 [05:25<00:00,  5.64it/s]\n"
     ]
    },
    {
     "name": "stdout",
     "output_type": "stream",
     "text": [
      "Total Loss  |Smoke Loss  |Fire Loss   \n",
      "------------ ------------ ------------\n",
      "13.151      |8.065       |5.085       \n",
      "\n"
     ]
    },
    {
     "name": "stderr",
     "output_type": "stream",
     "text": [
      "Validating: 100%|██████████████████████████████████████████████████████████████████████████████████████████████████████████████████████████████████████████| 380/380 [00:22<00:00, 16.60it/s]\n"
     ]
    },
    {
     "name": "stdout",
     "output_type": "stream",
     "text": [
      "Total Loss  |Smoke Loss  |Fire Loss   \n",
      "------------ ------------ ------------\n",
      "15.513      |9.301       |6.212       \n",
      "SMOKE -> Precision: 0.9441 - Recall: 0.9210 - Accuracy: 0.9370 - F1: 0.9324\n",
      "FIRE -> Precision: 0.9211 - Recall: 0.9819 - Accuracy: 0.9669 - F1: 0.9505\n",
      "\n",
      "Saving model with precision > 0.9 and recall > 0.9\n",
      "\n",
      "=== EPOCH 42/99 ===\n",
      "Learning Rate = 0.00020971520000000012\n",
      "\n"
     ]
    },
    {
     "name": "stderr",
     "output_type": "stream",
     "text": [
      "Training:  37%|███████████████████████████████████████████████████                                                                                        | 674/1836 [01:59<02:55,  6.63it/s]Warning: unknown JFIF revision number 32.23\n",
      "Training: 100%|██████████████████████████████████████████████████████████████████████████████████████████████████████████████████████████████████████████| 1836/1836 [05:23<00:00,  5.67it/s]\n"
     ]
    },
    {
     "name": "stdout",
     "output_type": "stream",
     "text": [
      "Total Loss  |Smoke Loss  |Fire Loss   \n",
      "------------ ------------ ------------\n",
      "13.096      |8.056       |5.040       \n",
      "\n"
     ]
    },
    {
     "name": "stderr",
     "output_type": "stream",
     "text": [
      "Validating: 100%|██████████████████████████████████████████████████████████████████████████████████████████████████████████████████████████████████████████| 380/380 [00:22<00:00, 16.61it/s]\n"
     ]
    },
    {
     "name": "stdout",
     "output_type": "stream",
     "text": [
      "Total Loss  |Smoke Loss  |Fire Loss   \n",
      "------------ ------------ ------------\n",
      "15.660      |9.386       |6.275       \n",
      "SMOKE -> Precision: 0.9396 - Recall: 0.9260 - Accuracy: 0.9371 - F1: 0.9328\n",
      "FIRE -> Precision: 0.9169 - Recall: 0.9825 - Accuracy: 0.9655 - F1: 0.9486\n",
      "\n",
      "Saving model with precision > 0.9 and recall > 0.9\n",
      "\n",
      "=== EPOCH 43/99 ===\n",
      "Learning Rate = 0.0001677721600000001\n",
      "\n"
     ]
    },
    {
     "name": "stderr",
     "output_type": "stream",
     "text": [
      "Training:  26%|████████████████████████████████████▍                                                                                                      | 482/1836 [01:26<03:08,  7.18it/s]Warning: unknown JFIF revision number 32.23\n",
      "Training: 100%|██████████████████████████████████████████████████████████████████████████████████████████████████████████████████████████████████████████| 1836/1836 [05:25<00:00,  5.64it/s]\n"
     ]
    },
    {
     "name": "stdout",
     "output_type": "stream",
     "text": [
      "Total Loss  |Smoke Loss  |Fire Loss   \n",
      "------------ ------------ ------------\n",
      "12.720      |7.824       |4.896       \n",
      "\n"
     ]
    },
    {
     "name": "stderr",
     "output_type": "stream",
     "text": [
      "Validating: 100%|██████████████████████████████████████████████████████████████████████████████████████████████████████████████████████████████████████████| 380/380 [00:22<00:00, 16.60it/s]\n"
     ]
    },
    {
     "name": "stdout",
     "output_type": "stream",
     "text": [
      "Total Loss  |Smoke Loss  |Fire Loss   \n",
      "------------ ------------ ------------\n",
      "14.049      |8.519       |5.531       \n",
      "SMOKE -> Precision: 0.9531 - Recall: 0.9211 - Accuracy: 0.9414 - F1: 0.9368\n",
      "FIRE -> Precision: 0.9291 - Recall: 0.9838 - Accuracy: 0.9704 - F1: 0.9556\n",
      "\n",
      "Saving model with new best validation loss: 14.0495\n",
      "\n",
      "Saving model with precision > 0.9 and recall > 0.9\n",
      "\n",
      "=== EPOCH 44/99 ===\n",
      "Learning Rate = 0.0001677721600000001\n",
      "\n"
     ]
    },
    {
     "name": "stderr",
     "output_type": "stream",
     "text": [
      "Training:   2%|███▎                                                                                                                                        | 43/1836 [00:08<04:23,  6.82it/s]Warning: unknown JFIF revision number 32.23\n",
      "Training: 100%|██████████████████████████████████████████████████████████████████████████████████████████████████████████████████████████████████████████| 1836/1836 [05:23<00:00,  5.68it/s]\n"
     ]
    },
    {
     "name": "stdout",
     "output_type": "stream",
     "text": [
      "Total Loss  |Smoke Loss  |Fire Loss   \n",
      "------------ ------------ ------------\n",
      "12.733      |7.844       |4.888       \n",
      "\n"
     ]
    },
    {
     "name": "stderr",
     "output_type": "stream",
     "text": [
      "Validating: 100%|██████████████████████████████████████████████████████████████████████████████████████████████████████████████████████████████████████████| 380/380 [00:23<00:00, 16.51it/s]\n"
     ]
    },
    {
     "name": "stdout",
     "output_type": "stream",
     "text": [
      "Total Loss  |Smoke Loss  |Fire Loss   \n",
      "------------ ------------ ------------\n",
      "13.514      |8.052       |5.462       \n",
      "SMOKE -> Precision: 0.9524 - Recall: 0.9322 - Accuracy: 0.9461 - F1: 0.9422\n",
      "FIRE -> Precision: 0.9304 - Recall: 0.9821 - Accuracy: 0.9704 - F1: 0.9556\n",
      "\n",
      "Saving model with new best validation loss: 13.5139\n",
      "\n",
      "Saving model with precision > 0.9 and recall > 0.9\n",
      "Saving model with best Mean F1: 0.9489\n",
      "\n",
      "=== EPOCH 45/99 ===\n",
      "Learning Rate = 0.0001677721600000001\n",
      "\n"
     ]
    },
    {
     "name": "stderr",
     "output_type": "stream",
     "text": [
      "Training: 100%|██████████████████████████████████████████████████████████████████████████████████████████████████████████████████████████████████████████| 1836/1836 [05:24<00:00,  5.67it/s]\n"
     ]
    },
    {
     "name": "stdout",
     "output_type": "stream",
     "text": [
      "Total Loss  |Smoke Loss  |Fire Loss   \n",
      "------------ ------------ ------------\n",
      "12.585      |7.758       |4.828       \n",
      "\n"
     ]
    },
    {
     "name": "stderr",
     "output_type": "stream",
     "text": [
      "Validating: 100%|██████████████████████████████████████████████████████████████████████████████████████████████████████████████████████████████████████████| 380/380 [00:22<00:00, 16.67it/s]\n"
     ]
    },
    {
     "name": "stdout",
     "output_type": "stream",
     "text": [
      "Total Loss  |Smoke Loss  |Fire Loss   \n",
      "------------ ------------ ------------\n",
      "13.993      |8.254       |5.739       \n",
      "SMOKE -> Precision: 0.9457 - Recall: 0.9334 - Accuracy: 0.9434 - F1: 0.9396\n",
      "FIRE -> Precision: 0.9313 - Recall: 0.9764 - Accuracy: 0.9690 - F1: 0.9533\n",
      "\n",
      "Saving model with precision > 0.9 and recall > 0.9\n",
      "\n",
      "=== EPOCH 46/99 ===\n",
      "Learning Rate = 0.0001677721600000001\n",
      "\n"
     ]
    },
    {
     "name": "stderr",
     "output_type": "stream",
     "text": [
      "Training:  26%|████████████████████████████████████▌                                                                                                      | 483/1836 [01:26<03:44,  6.02it/s]Warning: unknown JFIF revision number 32.23\n",
      "Training: 100%|██████████████████████████████████████████████████████████████████████████████████████████████████████████████████████████████████████████| 1836/1836 [05:25<00:00,  5.64it/s]\n"
     ]
    },
    {
     "name": "stdout",
     "output_type": "stream",
     "text": [
      "Total Loss  |Smoke Loss  |Fire Loss   \n",
      "------------ ------------ ------------\n",
      "12.433      |7.617       |4.815       \n",
      "\n"
     ]
    },
    {
     "name": "stderr",
     "output_type": "stream",
     "text": [
      "Validating: 100%|██████████████████████████████████████████████████████████████████████████████████████████████████████████████████████████████████████████| 380/380 [00:22<00:00, 16.59it/s]\n"
     ]
    },
    {
     "name": "stdout",
     "output_type": "stream",
     "text": [
      "Total Loss  |Smoke Loss  |Fire Loss   \n",
      "------------ ------------ ------------\n",
      "14.234      |8.809       |5.425       \n",
      "SMOKE -> Precision: 0.9396 - Recall: 0.9382 - Accuracy: 0.9425 - F1: 0.9389\n",
      "FIRE -> Precision: 0.9355 - Recall: 0.9772 - Accuracy: 0.9708 - F1: 0.9559\n",
      "\n",
      "Saving model with precision > 0.9 and recall > 0.9\n",
      "\n",
      "=== EPOCH 47/99 ===\n",
      "Learning Rate = 0.0001677721600000001\n",
      "\n"
     ]
    },
    {
     "name": "stderr",
     "output_type": "stream",
     "text": [
      "Training:  75%|████████████████████████████████████████████████████████████████████████████████████████████████████████                                  | 1385/1836 [04:07<00:47,  9.44it/s]Warning: unknown JFIF revision number 32.23\n",
      "Training: 100%|██████████████████████████████████████████████████████████████████████████████████████████████████████████████████████████████████████████| 1836/1836 [05:25<00:00,  5.64it/s]\n"
     ]
    },
    {
     "name": "stdout",
     "output_type": "stream",
     "text": [
      "Total Loss  |Smoke Loss  |Fire Loss   \n",
      "------------ ------------ ------------\n",
      "12.505      |7.727       |4.777       \n",
      "\n"
     ]
    },
    {
     "name": "stderr",
     "output_type": "stream",
     "text": [
      "Validating: 100%|██████████████████████████████████████████████████████████████████████████████████████████████████████████████████████████████████████████| 380/380 [00:22<00:00, 16.57it/s]\n"
     ]
    },
    {
     "name": "stdout",
     "output_type": "stream",
     "text": [
      "Total Loss  |Smoke Loss  |Fire Loss   \n",
      "------------ ------------ ------------\n",
      "13.335      |8.068       |5.267       \n",
      "SMOKE -> Precision: 0.9431 - Recall: 0.9413 - Accuracy: 0.9456 - F1: 0.9422\n",
      "FIRE -> Precision: 0.9399 - Recall: 0.9745 - Accuracy: 0.9715 - F1: 0.9569\n",
      "\n",
      "Saving model with new best validation loss: 13.3350\n",
      "\n",
      "Saving model with precision > 0.9 and recall > 0.9\n",
      "Saving model with best Mean F1: 0.9496\n",
      "\n",
      "=== EPOCH 48/99 ===\n",
      "Learning Rate = 0.0001677721600000001\n",
      "\n"
     ]
    },
    {
     "name": "stderr",
     "output_type": "stream",
     "text": [
      "Training:  31%|██████████████████████████████████████████▌                                                                                                | 562/1836 [01:41<02:37,  8.07it/s]Warning: unknown JFIF revision number 32.23\n",
      "Training: 100%|██████████████████████████████████████████████████████████████████████████████████████████████████████████████████████████████████████████| 1836/1836 [05:23<00:00,  5.67it/s]\n"
     ]
    },
    {
     "name": "stdout",
     "output_type": "stream",
     "text": [
      "Total Loss  |Smoke Loss  |Fire Loss   \n",
      "------------ ------------ ------------\n",
      "12.377      |7.615       |4.762       \n",
      "\n"
     ]
    },
    {
     "name": "stderr",
     "output_type": "stream",
     "text": [
      "Validating: 100%|██████████████████████████████████████████████████████████████████████████████████████████████████████████████████████████████████████████| 380/380 [00:23<00:00, 16.47it/s]\n"
     ]
    },
    {
     "name": "stdout",
     "output_type": "stream",
     "text": [
      "Total Loss  |Smoke Loss  |Fire Loss   \n",
      "------------ ------------ ------------\n",
      "14.349      |8.459       |5.890       \n",
      "SMOKE -> Precision: 0.9430 - Recall: 0.9342 - Accuracy: 0.9424 - F1: 0.9386\n",
      "FIRE -> Precision: 0.9227 - Recall: 0.9844 - Accuracy: 0.9682 - F1: 0.9526\n",
      "\n",
      "Saving model with precision > 0.9 and recall > 0.9\n",
      "\n",
      "=== EPOCH 49/99 ===\n",
      "Learning Rate = 0.0001677721600000001\n",
      "\n"
     ]
    },
    {
     "name": "stderr",
     "output_type": "stream",
     "text": [
      "Training:  61%|████████████████████████████████████████████████████████████████████████████████████▎                                                     | 1122/1836 [08:54<06:09,  1.93it/s]Warning: unknown JFIF revision number 32.23\n",
      "Training: 100%|██████████████████████████████████████████████████████████████████████████████████████████████████████████████████████████████████████████| 1836/1836 [15:29<00:00,  1.98it/s]\n"
     ]
    },
    {
     "name": "stdout",
     "output_type": "stream",
     "text": [
      "Total Loss  |Smoke Loss  |Fire Loss   \n",
      "------------ ------------ ------------\n",
      "12.254      |7.494       |4.759       \n",
      "\n"
     ]
    },
    {
     "name": "stderr",
     "output_type": "stream",
     "text": [
      "Validating: 100%|██████████████████████████████████████████████████████████████████████████████████████████████████████████████████████████████████████████| 380/380 [05:25<00:00,  1.17it/s]\n"
     ]
    },
    {
     "name": "stdout",
     "output_type": "stream",
     "text": [
      "Total Loss  |Smoke Loss  |Fire Loss   \n",
      "------------ ------------ ------------\n",
      "13.193      |8.117       |5.076       \n",
      "SMOKE -> Precision: 0.9544 - Recall: 0.9271 - Accuracy: 0.9447 - F1: 0.9405\n",
      "FIRE -> Precision: 0.9391 - Recall: 0.9801 - Accuracy: 0.9729 - F1: 0.9592\n",
      "\n",
      "Saving model with new best validation loss: 13.1926\n",
      "\n",
      "Saving model with precision > 0.9 and recall > 0.9\n",
      "Saving model with best Mean F1: 0.9498\n",
      "\n",
      "=== EPOCH 50/99 ===\n",
      "Learning Rate = 0.0001677721600000001\n",
      "\n"
     ]
    },
    {
     "name": "stderr",
     "output_type": "stream",
     "text": [
      "Training:  91%|█████████████████████████████████████████████████████████████████████████████████████████████████████████████████████████████▉            | 1676/1836 [05:03<00:19,  8.08it/s]Warning: unknown JFIF revision number 32.23\n",
      "Training: 100%|██████████████████████████████████████████████████████████████████████████████████████████████████████████████████████████████████████████| 1836/1836 [05:32<00:00,  5.53it/s]\n"
     ]
    },
    {
     "name": "stdout",
     "output_type": "stream",
     "text": [
      "Total Loss  |Smoke Loss  |Fire Loss   \n",
      "------------ ------------ ------------\n",
      "12.363      |7.589       |4.774       \n",
      "\n"
     ]
    },
    {
     "name": "stderr",
     "output_type": "stream",
     "text": [
      "Validating: 100%|██████████████████████████████████████████████████████████████████████████████████████████████████████████████████████████████████████████| 380/380 [00:22<00:00, 16.60it/s]\n"
     ]
    },
    {
     "name": "stdout",
     "output_type": "stream",
     "text": [
      "Total Loss  |Smoke Loss  |Fire Loss   \n",
      "------------ ------------ ------------\n",
      "13.515      |8.697       |4.819       \n",
      "SMOKE -> Precision: 0.9548 - Recall: 0.9152 - Accuracy: 0.9396 - F1: 0.9346\n",
      "FIRE -> Precision: 0.9452 - Recall: 0.9751 - Accuracy: 0.9736 - F1: 0.9599\n",
      "\n",
      "Saving model with precision > 0.9 and recall > 0.9\n",
      "\n",
      "=== EPOCH 51/99 ===\n",
      "Learning Rate = 0.0001677721600000001\n",
      "\n"
     ]
    },
    {
     "name": "stderr",
     "output_type": "stream",
     "text": [
      "Training:  72%|██████████████████████████████████████████████████████████████████████████████████████████████████▊                                       | 1314/1836 [03:53<01:02,  8.33it/s]Warning: unknown JFIF revision number 32.23\n",
      "Training: 100%|██████████████████████████████████████████████████████████████████████████████████████████████████████████████████████████████████████████| 1836/1836 [05:24<00:00,  5.66it/s]\n"
     ]
    },
    {
     "name": "stdout",
     "output_type": "stream",
     "text": [
      "Total Loss  |Smoke Loss  |Fire Loss   \n",
      "------------ ------------ ------------\n",
      "12.406      |7.617       |4.789       \n",
      "\n"
     ]
    },
    {
     "name": "stderr",
     "output_type": "stream",
     "text": [
      "Validating: 100%|██████████████████████████████████████████████████████████████████████████████████████████████████████████████████████████████████████████| 380/380 [00:22<00:00, 16.58it/s]\n"
     ]
    },
    {
     "name": "stdout",
     "output_type": "stream",
     "text": [
      "Total Loss  |Smoke Loss  |Fire Loss   \n",
      "------------ ------------ ------------\n",
      "13.964      |8.498       |5.466       \n",
      "SMOKE -> Precision: 0.9457 - Recall: 0.9321 - Accuracy: 0.9428 - F1: 0.9389\n",
      "FIRE -> Precision: 0.9324 - Recall: 0.9814 - Accuracy: 0.9709 - F1: 0.9562\n",
      "\n",
      "Saving model with precision > 0.9 and recall > 0.9\n",
      "\n",
      "=== EPOCH 52/99 ===\n",
      "Learning Rate = 0.0001677721600000001\n",
      "\n"
     ]
    },
    {
     "name": "stderr",
     "output_type": "stream",
     "text": [
      "Training:  94%|█████████████████████████████████████████████████████████████████████████████████████████████████████████████████████████████████▋        | 1726/1836 [05:05<00:18,  6.03it/s]Warning: unknown JFIF revision number 32.23\n",
      "Training: 100%|██████████████████████████████████████████████████████████████████████████████████████████████████████████████████████████████████████████| 1836/1836 [05:24<00:00,  5.66it/s]\n"
     ]
    },
    {
     "name": "stdout",
     "output_type": "stream",
     "text": [
      "Total Loss  |Smoke Loss  |Fire Loss   \n",
      "------------ ------------ ------------\n",
      "12.311      |7.561       |4.750       \n",
      "\n"
     ]
    },
    {
     "name": "stderr",
     "output_type": "stream",
     "text": [
      "Validating: 100%|██████████████████████████████████████████████████████████████████████████████████████████████████████████████████████████████████████████| 380/380 [00:22<00:00, 16.54it/s]\n"
     ]
    },
    {
     "name": "stdout",
     "output_type": "stream",
     "text": [
      "Total Loss  |Smoke Loss  |Fire Loss   \n",
      "------------ ------------ ------------\n",
      "13.503      |8.406       |5.097       \n",
      "SMOKE -> Precision: 0.9475 - Recall: 0.9312 - Accuracy: 0.9432 - F1: 0.9393\n",
      "FIRE -> Precision: 0.9369 - Recall: 0.9793 - Accuracy: 0.9719 - F1: 0.9576\n",
      "\n",
      "Saving model with precision > 0.9 and recall > 0.9\n",
      "\n",
      "=== EPOCH 53/99 ===\n",
      "Learning Rate = 0.00013421772800000008\n",
      "\n"
     ]
    },
    {
     "name": "stderr",
     "output_type": "stream",
     "text": [
      "Training:  61%|███████████████████████████████████████████████████████████████████████████████████▌                                                      | 1111/1836 [03:18<01:36,  7.55it/s]Warning: unknown JFIF revision number 32.23\n",
      "Training: 100%|██████████████████████████████████████████████████████████████████████████████████████████████████████████████████████████████████████████| 1836/1836 [05:26<00:00,  5.62it/s]\n"
     ]
    },
    {
     "name": "stdout",
     "output_type": "stream",
     "text": [
      "Total Loss  |Smoke Loss  |Fire Loss   \n",
      "------------ ------------ ------------\n",
      "11.979      |7.366       |4.613       \n",
      "\n"
     ]
    },
    {
     "name": "stderr",
     "output_type": "stream",
     "text": [
      "Validating: 100%|██████████████████████████████████████████████████████████████████████████████████████████████████████████████████████████████████████████| 380/380 [00:23<00:00, 16.51it/s]\n"
     ]
    },
    {
     "name": "stdout",
     "output_type": "stream",
     "text": [
      "Total Loss  |Smoke Loss  |Fire Loss   \n",
      "------------ ------------ ------------\n",
      "13.488      |8.332       |5.156       \n",
      "SMOKE -> Precision: 0.9457 - Recall: 0.9341 - Accuracy: 0.9436 - F1: 0.9398\n",
      "FIRE -> Precision: 0.9353 - Recall: 0.9814 - Accuracy: 0.9720 - F1: 0.9578\n",
      "\n",
      "Saving model with precision > 0.9 and recall > 0.9\n",
      "\n",
      "=== EPOCH 54/99 ===\n",
      "Learning Rate = 0.00013421772800000008\n",
      "\n"
     ]
    },
    {
     "name": "stderr",
     "output_type": "stream",
     "text": [
      "Training:  37%|███████████████████████████████████████████████████                                                                                        | 674/1836 [01:59<02:49,  6.85it/s]Warning: unknown JFIF revision number 32.23\n",
      "Training: 100%|██████████████████████████████████████████████████████████████████████████████████████████████████████████████████████████████████████████| 1836/1836 [05:22<00:00,  5.69it/s]\n"
     ]
    },
    {
     "name": "stdout",
     "output_type": "stream",
     "text": [
      "Total Loss  |Smoke Loss  |Fire Loss   \n",
      "------------ ------------ ------------\n",
      "11.894      |7.281       |4.613       \n",
      "\n"
     ]
    },
    {
     "name": "stderr",
     "output_type": "stream",
     "text": [
      "Validating: 100%|██████████████████████████████████████████████████████████████████████████████████████████████████████████████████████████████████████████| 380/380 [00:22<00:00, 16.63it/s]\n"
     ]
    },
    {
     "name": "stdout",
     "output_type": "stream",
     "text": [
      "Total Loss  |Smoke Loss  |Fire Loss   \n",
      "------------ ------------ ------------\n",
      "14.671      |8.295       |6.375       \n",
      "SMOKE -> Precision: 0.9460 - Recall: 0.9348 - Accuracy: 0.9441 - F1: 0.9403\n",
      "FIRE -> Precision: 0.9147 - Recall: 0.9874 - Accuracy: 0.9661 - F1: 0.9497\n",
      "\n",
      "Saving model with precision > 0.9 and recall > 0.9\n",
      "\n",
      "=== EPOCH 55/99 ===\n",
      "Learning Rate = 0.00013421772800000008\n",
      "\n"
     ]
    },
    {
     "name": "stderr",
     "output_type": "stream",
     "text": [
      "Training:  14%|███████████████████                                                                                                                        | 251/1836 [00:46<03:42,  7.13it/s]Warning: unknown JFIF revision number 32.23\n",
      "Training: 100%|██████████████████████████████████████████████████████████████████████████████████████████████████████████████████████████████████████████| 1836/1836 [05:25<00:00,  5.64it/s]\n"
     ]
    },
    {
     "name": "stdout",
     "output_type": "stream",
     "text": [
      "Total Loss  |Smoke Loss  |Fire Loss   \n",
      "------------ ------------ ------------\n",
      "11.887      |7.304       |4.583       \n",
      "\n"
     ]
    },
    {
     "name": "stderr",
     "output_type": "stream",
     "text": [
      "Validating: 100%|██████████████████████████████████████████████████████████████████████████████████████████████████████████████████████████████████████████| 380/380 [00:22<00:00, 16.56it/s]\n"
     ]
    },
    {
     "name": "stdout",
     "output_type": "stream",
     "text": [
      "Total Loss  |Smoke Loss  |Fire Loss   \n",
      "------------ ------------ ------------\n",
      "14.178      |8.093       |6.085       \n",
      "SMOKE -> Precision: 0.9526 - Recall: 0.9308 - Accuracy: 0.9456 - F1: 0.9416\n",
      "FIRE -> Precision: 0.9191 - Recall: 0.9822 - Accuracy: 0.9662 - F1: 0.9496\n",
      "\n",
      "Saving model with precision > 0.9 and recall > 0.9\n",
      "\n",
      "=== EPOCH 56/99 ===\n",
      "Learning Rate = 0.00010737418240000007\n",
      "\n"
     ]
    },
    {
     "name": "stderr",
     "output_type": "stream",
     "text": [
      "Training:   0%|                                                                                                                                                     | 0/1836 [00:00<?, ?it/s]Warning: unknown JFIF revision number 32.23\n",
      "Training: 100%|██████████████████████████████████████████████████████████████████████████████████████████████████████████████████████████████████████████| 1836/1836 [05:26<00:00,  5.62it/s]\n"
     ]
    },
    {
     "name": "stdout",
     "output_type": "stream",
     "text": [
      "Total Loss  |Smoke Loss  |Fire Loss   \n",
      "------------ ------------ ------------\n",
      "11.672      |7.206       |4.467       \n",
      "\n"
     ]
    },
    {
     "name": "stderr",
     "output_type": "stream",
     "text": [
      "Validating: 100%|██████████████████████████████████████████████████████████████████████████████████████████████████████████████████████████████████████████| 380/380 [00:23<00:00, 16.45it/s]\n"
     ]
    },
    {
     "name": "stdout",
     "output_type": "stream",
     "text": [
      "Total Loss  |Smoke Loss  |Fire Loss   \n",
      "------------ ------------ ------------\n",
      "12.873      |7.385       |5.488       \n",
      "SMOKE -> Precision: 0.9575 - Recall: 0.9326 - Accuracy: 0.9487 - F1: 0.9449\n",
      "FIRE -> Precision: 0.9348 - Recall: 0.9796 - Accuracy: 0.9712 - F1: 0.9566\n",
      "\n",
      "Saving model with new best validation loss: 12.8727\n",
      "\n",
      "Saving model with precision > 0.9 and recall > 0.9\n",
      "Saving model with best Mean F1: 0.9508\n",
      "\n",
      "=== EPOCH 57/99 ===\n",
      "Learning Rate = 0.00010737418240000007\n",
      "\n"
     ]
    },
    {
     "name": "stderr",
     "output_type": "stream",
     "text": [
      "Training:  47%|█████████████████████████████████████████████████████████████████                                                                          | 859/1836 [02:33<02:24,  6.78it/s]Warning: unknown JFIF revision number 32.23\n",
      "Training: 100%|██████████████████████████████████████████████████████████████████████████████████████████████████████████████████████████████████████████| 1836/1836 [05:24<00:00,  5.65it/s]\n"
     ]
    },
    {
     "name": "stdout",
     "output_type": "stream",
     "text": [
      "Total Loss  |Smoke Loss  |Fire Loss   \n",
      "------------ ------------ ------------\n",
      "11.455      |7.024       |4.431       \n",
      "\n"
     ]
    },
    {
     "name": "stderr",
     "output_type": "stream",
     "text": [
      "Validating: 100%|██████████████████████████████████████████████████████████████████████████████████████████████████████████████████████████████████████████| 380/380 [00:23<00:00, 16.45it/s]\n"
     ]
    },
    {
     "name": "stdout",
     "output_type": "stream",
     "text": [
      "Total Loss  |Smoke Loss  |Fire Loss   \n",
      "------------ ------------ ------------\n",
      "13.316      |8.095       |5.221       \n",
      "SMOKE -> Precision: 0.9510 - Recall: 0.9332 - Accuracy: 0.9458 - F1: 0.9420\n",
      "FIRE -> Precision: 0.9379 - Recall: 0.9802 - Accuracy: 0.9725 - F1: 0.9586\n",
      "\n",
      "Saving model with precision > 0.9 and recall > 0.9\n",
      "\n",
      "=== EPOCH 58/99 ===\n",
      "Learning Rate = 0.00010737418240000007\n",
      "\n"
     ]
    },
    {
     "name": "stderr",
     "output_type": "stream",
     "text": [
      "Training:  33%|██████████████████████████████████████████████▌                                                                                            | 615/1836 [01:48<02:45,  7.36it/s]Warning: unknown JFIF revision number 32.23\n",
      "Training: 100%|██████████████████████████████████████████████████████████████████████████████████████████████████████████████████████████████████████████| 1836/1836 [05:25<00:00,  5.63it/s]\n"
     ]
    },
    {
     "name": "stdout",
     "output_type": "stream",
     "text": [
      "Total Loss  |Smoke Loss  |Fire Loss   \n",
      "------------ ------------ ------------\n",
      "11.528      |7.082       |4.446       \n",
      "\n"
     ]
    },
    {
     "name": "stderr",
     "output_type": "stream",
     "text": [
      "Validating: 100%|██████████████████████████████████████████████████████████████████████████████████████████████████████████████████████████████████████████| 380/380 [00:23<00:00, 16.41it/s]\n"
     ]
    },
    {
     "name": "stdout",
     "output_type": "stream",
     "text": [
      "Total Loss  |Smoke Loss  |Fire Loss   \n",
      "------------ ------------ ------------\n",
      "14.268      |7.933       |6.336       \n",
      "SMOKE -> Precision: 0.9493 - Recall: 0.9348 - Accuracy: 0.9457 - F1: 0.9420\n",
      "FIRE -> Precision: 0.9162 - Recall: 0.9852 - Accuracy: 0.9660 - F1: 0.9495\n",
      "\n",
      "Saving model with precision > 0.9 and recall > 0.9\n",
      "\n",
      "=== EPOCH 59/99 ===\n",
      "Learning Rate = 0.00010737418240000007\n",
      "\n"
     ]
    },
    {
     "name": "stderr",
     "output_type": "stream",
     "text": [
      "Training:  55%|████████████████████████████████████████████████████████████████████████████▎                                                             | 1016/1836 [03:01<02:03,  6.66it/s]Warning: unknown JFIF revision number 32.23\n",
      "Training: 100%|██████████████████████████████████████████████████████████████████████████████████████████████████████████████████████████████████████████| 1836/1836 [05:26<00:00,  5.63it/s]\n"
     ]
    },
    {
     "name": "stdout",
     "output_type": "stream",
     "text": [
      "Total Loss  |Smoke Loss  |Fire Loss   \n",
      "------------ ------------ ------------\n",
      "11.426      |7.017       |4.409       \n",
      "\n"
     ]
    },
    {
     "name": "stderr",
     "output_type": "stream",
     "text": [
      "Validating: 100%|██████████████████████████████████████████████████████████████████████████████████████████████████████████████████████████████████████████| 380/380 [00:23<00:00, 16.49it/s]\n"
     ]
    },
    {
     "name": "stdout",
     "output_type": "stream",
     "text": [
      "Total Loss  |Smoke Loss  |Fire Loss   \n",
      "------------ ------------ ------------\n",
      "12.986      |7.629       |5.357       \n",
      "SMOKE -> Precision: 0.9567 - Recall: 0.9330 - Accuracy: 0.9485 - F1: 0.9447\n",
      "FIRE -> Precision: 0.9321 - Recall: 0.9838 - Accuracy: 0.9715 - F1: 0.9572\n",
      "\n",
      "Saving model with precision > 0.9 and recall > 0.9\n",
      "Saving model with best Mean F1: 0.9510\n",
      "\n",
      "=== EPOCH 60/99 ===\n",
      "Learning Rate = 8.589934592000007e-05\n",
      "\n"
     ]
    },
    {
     "name": "stderr",
     "output_type": "stream",
     "text": [
      "Training:  17%|████████████████████████                                                                                                                   | 318/1836 [00:56<03:29,  7.24it/s]Warning: unknown JFIF revision number 32.23\n",
      "Training: 100%|██████████████████████████████████████████████████████████████████████████████████████████████████████████████████████████████████████████| 1836/1836 [05:23<00:00,  5.67it/s]\n"
     ]
    },
    {
     "name": "stdout",
     "output_type": "stream",
     "text": [
      "Total Loss  |Smoke Loss  |Fire Loss   \n",
      "------------ ------------ ------------\n",
      "11.298      |6.951       |4.347       \n",
      "\n"
     ]
    },
    {
     "name": "stderr",
     "output_type": "stream",
     "text": [
      "Validating: 100%|██████████████████████████████████████████████████████████████████████████████████████████████████████████████████████████████████████████| 380/380 [00:23<00:00, 16.41it/s]\n"
     ]
    },
    {
     "name": "stdout",
     "output_type": "stream",
     "text": [
      "Total Loss  |Smoke Loss  |Fire Loss   \n",
      "------------ ------------ ------------\n",
      "14.052      |8.551       |5.501       \n",
      "SMOKE -> Precision: 0.9424 - Recall: 0.9375 - Accuracy: 0.9435 - F1: 0.9400\n",
      "FIRE -> Precision: 0.9279 - Recall: 0.9855 - Accuracy: 0.9705 - F1: 0.9558\n",
      "\n",
      "Saving model with precision > 0.9 and recall > 0.9\n",
      "\n",
      "=== EPOCH 61/99 ===\n",
      "Learning Rate = 8.589934592000007e-05\n",
      "\n"
     ]
    },
    {
     "name": "stderr",
     "output_type": "stream",
     "text": [
      "Training:  35%|████████████████████████████████████████████████▊                                                                                          | 645/1836 [01:54<03:25,  5.79it/s]Warning: unknown JFIF revision number 32.23\n",
      "Training: 100%|██████████████████████████████████████████████████████████████████████████████████████████████████████████████████████████████████████████| 1836/1836 [05:24<00:00,  5.65it/s]\n"
     ]
    },
    {
     "name": "stdout",
     "output_type": "stream",
     "text": [
      "Total Loss  |Smoke Loss  |Fire Loss   \n",
      "------------ ------------ ------------\n",
      "11.247      |6.960       |4.288       \n",
      "\n"
     ]
    },
    {
     "name": "stderr",
     "output_type": "stream",
     "text": [
      "Validating: 100%|██████████████████████████████████████████████████████████████████████████████████████████████████████████████████████████████████████████| 380/380 [00:22<00:00, 16.53it/s]\n"
     ]
    },
    {
     "name": "stdout",
     "output_type": "stream",
     "text": [
      "Total Loss  |Smoke Loss  |Fire Loss   \n",
      "------------ ------------ ------------\n",
      "13.489      |7.640       |5.848       \n",
      "SMOKE -> Precision: 0.9546 - Recall: 0.9335 - Accuracy: 0.9477 - F1: 0.9440\n",
      "FIRE -> Precision: 0.9263 - Recall: 0.9807 - Accuracy: 0.9685 - F1: 0.9527\n",
      "\n",
      "Saving model with precision > 0.9 and recall > 0.9\n",
      "\n",
      "=== EPOCH 62/99 ===\n",
      "Learning Rate = 8.589934592000007e-05\n",
      "\n"
     ]
    },
    {
     "name": "stderr",
     "output_type": "stream",
     "text": [
      "Training:  88%|█████████████████████████████████████████████████████████████████████████████████████████████████████████████████████████▏                | 1612/1836 [04:47<00:33,  6.74it/s]Warning: unknown JFIF revision number 32.23\n",
      "Training: 100%|██████████████████████████████████████████████████████████████████████████████████████████████████████████████████████████████████████████| 1836/1836 [05:26<00:00,  5.62it/s]\n"
     ]
    },
    {
     "name": "stdout",
     "output_type": "stream",
     "text": [
      "Total Loss  |Smoke Loss  |Fire Loss   \n",
      "------------ ------------ ------------\n",
      "11.077      |6.798       |4.279       \n",
      "\n"
     ]
    },
    {
     "name": "stderr",
     "output_type": "stream",
     "text": [
      "Validating: 100%|██████████████████████████████████████████████████████████████████████████████████████████████████████████████████████████████████████████| 380/380 [00:23<00:00, 16.47it/s]\n"
     ]
    },
    {
     "name": "stdout",
     "output_type": "stream",
     "text": [
      "Total Loss  |Smoke Loss  |Fire Loss   \n",
      "------------ ------------ ------------\n",
      "13.049      |7.871       |5.177       \n",
      "SMOKE -> Precision: 0.9551 - Recall: 0.9324 - Accuracy: 0.9475 - F1: 0.9436\n",
      "FIRE -> Precision: 0.9343 - Recall: 0.9812 - Accuracy: 0.9715 - F1: 0.9572\n",
      "\n",
      "Saving model with precision > 0.9 and recall > 0.9\n",
      "\n",
      "=== EPOCH 63/99 ===\n",
      "Learning Rate = 6.871947673600006e-05\n",
      "\n"
     ]
    },
    {
     "name": "stderr",
     "output_type": "stream",
     "text": [
      "Training:  78%|███████████████████████████████████████████████████████████████████████████████████████████████████████████▉                              | 1436/1836 [04:16<01:13,  5.47it/s]Warning: unknown JFIF revision number 32.23\n",
      "Training: 100%|██████████████████████████████████████████████████████████████████████████████████████████████████████████████████████████████████████████| 1836/1836 [05:24<00:00,  5.65it/s]\n"
     ]
    },
    {
     "name": "stdout",
     "output_type": "stream",
     "text": [
      "Total Loss  |Smoke Loss  |Fire Loss   \n",
      "------------ ------------ ------------\n",
      "11.022      |6.784       |4.238       \n",
      "\n"
     ]
    },
    {
     "name": "stderr",
     "output_type": "stream",
     "text": [
      "Validating: 100%|██████████████████████████████████████████████████████████████████████████████████████████████████████████████████████████████████████████| 380/380 [00:23<00:00, 16.47it/s]\n"
     ]
    },
    {
     "name": "stdout",
     "output_type": "stream",
     "text": [
      "Total Loss  |Smoke Loss  |Fire Loss   \n",
      "------------ ------------ ------------\n",
      "13.417      |8.131       |5.287       \n",
      "SMOKE -> Precision: 0.9426 - Recall: 0.9410 - Accuracy: 0.9451 - F1: 0.9418\n",
      "FIRE -> Precision: 0.9337 - Recall: 0.9836 - Accuracy: 0.9720 - F1: 0.9580\n",
      "\n",
      "Saving model with precision > 0.9 and recall > 0.9\n",
      "\n",
      "=== EPOCH 64/99 ===\n",
      "Learning Rate = 6.871947673600006e-05\n",
      "\n"
     ]
    },
    {
     "name": "stderr",
     "output_type": "stream",
     "text": [
      "Training:  51%|██████████████████████████████████████████████████████████████████████▋                                                                    | 933/1836 [02:46<02:22,  6.35it/s]Warning: unknown JFIF revision number 32.23\n",
      "Training: 100%|██████████████████████████████████████████████████████████████████████████████████████████████████████████████████████████████████████████| 1836/1836 [05:25<00:00,  5.64it/s]\n"
     ]
    },
    {
     "name": "stdout",
     "output_type": "stream",
     "text": [
      "Total Loss  |Smoke Loss  |Fire Loss   \n",
      "------------ ------------ ------------\n",
      "10.924      |6.753       |4.171       \n",
      "\n"
     ]
    },
    {
     "name": "stderr",
     "output_type": "stream",
     "text": [
      "Validating: 100%|██████████████████████████████████████████████████████████████████████████████████████████████████████████████████████████████████████████| 380/380 [00:23<00:00, 16.48it/s]\n"
     ]
    },
    {
     "name": "stdout",
     "output_type": "stream",
     "text": [
      "Total Loss  |Smoke Loss  |Fire Loss   \n",
      "------------ ------------ ------------\n",
      "13.123      |7.901       |5.222       \n",
      "SMOKE -> Precision: 0.9481 - Recall: 0.9382 - Accuracy: 0.9467 - F1: 0.9431\n",
      "FIRE -> Precision: 0.9335 - Recall: 0.9825 - Accuracy: 0.9716 - F1: 0.9574\n",
      "\n",
      "Saving model with precision > 0.9 and recall > 0.9\n",
      "\n",
      "=== EPOCH 65/99 ===\n",
      "Learning Rate = 6.871947673600006e-05\n",
      "\n"
     ]
    },
    {
     "name": "stderr",
     "output_type": "stream",
     "text": [
      "Training:   6%|███████▊                                                                                                                                   | 103/1836 [00:19<04:27,  6.48it/s]Warning: unknown JFIF revision number 32.23\n",
      "Training: 100%|██████████████████████████████████████████████████████████████████████████████████████████████████████████████████████████████████████████| 1836/1836 [05:23<00:00,  5.68it/s]\n"
     ]
    },
    {
     "name": "stdout",
     "output_type": "stream",
     "text": [
      "Total Loss  |Smoke Loss  |Fire Loss   \n",
      "------------ ------------ ------------\n",
      "10.999      |6.721       |4.278       \n",
      "\n"
     ]
    },
    {
     "name": "stderr",
     "output_type": "stream",
     "text": [
      "Validating: 100%|██████████████████████████████████████████████████████████████████████████████████████████████████████████████████████████████████████████| 380/380 [00:23<00:00, 16.44it/s]\n"
     ]
    },
    {
     "name": "stdout",
     "output_type": "stream",
     "text": [
      "Total Loss  |Smoke Loss  |Fire Loss   \n",
      "------------ ------------ ------------\n",
      "13.542      |8.049       |5.493       \n",
      "SMOKE -> Precision: 0.9449 - Recall: 0.9433 - Accuracy: 0.9473 - F1: 0.9441\n",
      "FIRE -> Precision: 0.9276 - Recall: 0.9850 - Accuracy: 0.9702 - F1: 0.9555\n",
      "\n",
      "Saving model with precision > 0.9 and recall > 0.9\n",
      "\n",
      "=== EPOCH 66/99 ===\n",
      "Learning Rate = 5.497558138880005e-05\n",
      "\n"
     ]
    },
    {
     "name": "stderr",
     "output_type": "stream",
     "text": [
      "Training:  67%|███████████████████████████████████████████████████████████████████████████████████████████▊                                              | 1222/1836 [03:37<01:10,  8.75it/s]Warning: unknown JFIF revision number 32.23\n",
      "Training: 100%|██████████████████████████████████████████████████████████████████████████████████████████████████████████████████████████████████████████| 1836/1836 [05:23<00:00,  5.67it/s]\n"
     ]
    },
    {
     "name": "stdout",
     "output_type": "stream",
     "text": [
      "Total Loss  |Smoke Loss  |Fire Loss   \n",
      "------------ ------------ ------------\n",
      "10.774      |6.604       |4.170       \n",
      "\n"
     ]
    },
    {
     "name": "stderr",
     "output_type": "stream",
     "text": [
      "Validating: 100%|██████████████████████████████████████████████████████████████████████████████████████████████████████████████████████████████████████████| 380/380 [00:23<00:00, 16.43it/s]\n"
     ]
    },
    {
     "name": "stdout",
     "output_type": "stream",
     "text": [
      "Total Loss  |Smoke Loss  |Fire Loss   \n",
      "------------ ------------ ------------\n",
      "12.962      |7.878       |5.084       \n",
      "SMOKE -> Precision: 0.9539 - Recall: 0.9323 - Accuracy: 0.9469 - F1: 0.9430\n",
      "FIRE -> Precision: 0.9372 - Recall: 0.9822 - Accuracy: 0.9729 - F1: 0.9592\n",
      "\n",
      "Saving model with precision > 0.9 and recall > 0.9\n",
      "Saving model with best Mean F1: 0.9511\n",
      "\n",
      "=== EPOCH 67/99 ===\n",
      "Learning Rate = 5.497558138880005e-05\n",
      "\n"
     ]
    },
    {
     "name": "stderr",
     "output_type": "stream",
     "text": [
      "Training:   5%|███████▏                                                                                                                                    | 94/1836 [00:17<04:10,  6.96it/s]Warning: unknown JFIF revision number 32.23\n",
      "Training: 100%|██████████████████████████████████████████████████████████████████████████████████████████████████████████████████████████████████████████| 1836/1836 [05:28<00:00,  5.60it/s]\n"
     ]
    },
    {
     "name": "stdout",
     "output_type": "stream",
     "text": [
      "Total Loss  |Smoke Loss  |Fire Loss   \n",
      "------------ ------------ ------------\n",
      "10.580      |6.492       |4.088       \n",
      "\n"
     ]
    },
    {
     "name": "stderr",
     "output_type": "stream",
     "text": [
      "Validating: 100%|██████████████████████████████████████████████████████████████████████████████████████████████████████████████████████████████████████████| 380/380 [00:23<00:00, 16.44it/s]\n"
     ]
    },
    {
     "name": "stdout",
     "output_type": "stream",
     "text": [
      "Total Loss  |Smoke Loss  |Fire Loss   \n",
      "------------ ------------ ------------\n",
      "12.184      |7.448       |4.735       \n",
      "SMOKE -> Precision: 0.9592 - Recall: 0.9326 - Accuracy: 0.9495 - F1: 0.9457\n",
      "FIRE -> Precision: 0.9438 - Recall: 0.9825 - Accuracy: 0.9754 - F1: 0.9628\n",
      "\n",
      "Saving model with new best validation loss: 12.1840\n",
      "\n",
      "Saving model with precision > 0.9 and recall > 0.9\n",
      "Saving model with best Mean F1: 0.9542\n",
      "\n",
      "=== EPOCH 68/99 ===\n",
      "Learning Rate = 5.497558138880005e-05\n",
      "\n"
     ]
    },
    {
     "name": "stderr",
     "output_type": "stream",
     "text": [
      "Training:  96%|████████████████████████████████████████████████████████████████████████████████████████████████████████████████████████████████████▎     | 1761/1836 [05:13<00:11,  6.70it/s]Warning: unknown JFIF revision number 32.23\n",
      "Training: 100%|██████████████████████████████████████████████████████████████████████████████████████████████████████████████████████████████████████████| 1836/1836 [05:26<00:00,  5.62it/s]\n"
     ]
    },
    {
     "name": "stdout",
     "output_type": "stream",
     "text": [
      "Total Loss  |Smoke Loss  |Fire Loss   \n",
      "------------ ------------ ------------\n",
      "10.710      |6.593       |4.117       \n",
      "\n"
     ]
    },
    {
     "name": "stderr",
     "output_type": "stream",
     "text": [
      "Validating: 100%|██████████████████████████████████████████████████████████████████████████████████████████████████████████████████████████████████████████| 380/380 [00:23<00:00, 16.45it/s]\n"
     ]
    },
    {
     "name": "stdout",
     "output_type": "stream",
     "text": [
      "Total Loss  |Smoke Loss  |Fire Loss   \n",
      "------------ ------------ ------------\n",
      "12.397      |7.622       |4.775       \n",
      "SMOKE -> Precision: 0.9530 - Recall: 0.9381 - Accuracy: 0.9490 - F1: 0.9455\n",
      "FIRE -> Precision: 0.9444 - Recall: 0.9805 - Accuracy: 0.9750 - F1: 0.9621\n",
      "\n",
      "Saving model with precision > 0.9 and recall > 0.9\n",
      "\n",
      "=== EPOCH 69/99 ===\n",
      "Learning Rate = 5.497558138880005e-05\n",
      "\n"
     ]
    },
    {
     "name": "stderr",
     "output_type": "stream",
     "text": [
      "Training:  63%|███████████████████████████████████████████████████████████████████████████████████████▍                                                  | 1164/1836 [03:27<01:44,  6.43it/s]Warning: unknown JFIF revision number 32.23\n",
      "Training: 100%|██████████████████████████████████████████████████████████████████████████████████████████████████████████████████████████████████████████| 1836/1836 [05:26<00:00,  5.63it/s]\n"
     ]
    },
    {
     "name": "stdout",
     "output_type": "stream",
     "text": [
      "Total Loss  |Smoke Loss  |Fire Loss   \n",
      "------------ ------------ ------------\n",
      "10.654      |6.535       |4.119       \n",
      "\n"
     ]
    },
    {
     "name": "stderr",
     "output_type": "stream",
     "text": [
      "Validating: 100%|██████████████████████████████████████████████████████████████████████████████████████████████████████████████████████████████████████████| 380/380 [00:23<00:00, 16.39it/s]\n"
     ]
    },
    {
     "name": "stdout",
     "output_type": "stream",
     "text": [
      "Total Loss  |Smoke Loss  |Fire Loss   \n",
      "------------ ------------ ------------\n",
      "12.556      |7.526       |5.030       \n",
      "SMOKE -> Precision: 0.9577 - Recall: 0.9342 - Accuracy: 0.9495 - F1: 0.9458\n",
      "FIRE -> Precision: 0.9394 - Recall: 0.9829 - Accuracy: 0.9739 - F1: 0.9606\n",
      "\n",
      "Saving model with precision > 0.9 and recall > 0.9\n",
      "\n",
      "=== EPOCH 70/99 ===\n",
      "Learning Rate = 5.497558138880005e-05\n",
      "\n"
     ]
    },
    {
     "name": "stderr",
     "output_type": "stream",
     "text": [
      "Training:  66%|██████████████████████████████████████████████████████████████████████████████████████████▍                                               | 1203/1836 [03:34<01:45,  6.00it/s]Warning: unknown JFIF revision number 32.23\n",
      "Training: 100%|██████████████████████████████████████████████████████████████████████████████████████████████████████████████████████████████████████████| 1836/1836 [05:26<00:00,  5.63it/s]\n"
     ]
    },
    {
     "name": "stdout",
     "output_type": "stream",
     "text": [
      "Total Loss  |Smoke Loss  |Fire Loss   \n",
      "------------ ------------ ------------\n",
      "10.592      |6.538       |4.054       \n",
      "\n"
     ]
    },
    {
     "name": "stderr",
     "output_type": "stream",
     "text": [
      "Validating: 100%|██████████████████████████████████████████████████████████████████████████████████████████████████████████████████████████████████████████| 380/380 [00:23<00:00, 16.37it/s]\n"
     ]
    },
    {
     "name": "stdout",
     "output_type": "stream",
     "text": [
      "Total Loss  |Smoke Loss  |Fire Loss   \n",
      "------------ ------------ ------------\n",
      "13.098      |7.527       |5.572       \n",
      "SMOKE -> Precision: 0.9587 - Recall: 0.9313 - Accuracy: 0.9487 - F1: 0.9448\n",
      "FIRE -> Precision: 0.9301 - Recall: 0.9843 - Accuracy: 0.9709 - F1: 0.9564\n",
      "\n",
      "Saving model with precision > 0.9 and recall > 0.9\n",
      "\n",
      "=== EPOCH 71/99 ===\n",
      "Learning Rate = 4.3980465111040044e-05\n",
      "\n"
     ]
    },
    {
     "name": "stderr",
     "output_type": "stream",
     "text": [
      "Training:  97%|█████████████████████████████████████████████████████████████████████████████████████████████████████████████████████████████████████▏    | 1772/1836 [05:12<00:09,  6.46it/s]Warning: unknown JFIF revision number 32.23\n",
      "Training: 100%|██████████████████████████████████████████████████████████████████████████████████████████████████████████████████████████████████████████| 1836/1836 [05:22<00:00,  5.69it/s]\n"
     ]
    },
    {
     "name": "stdout",
     "output_type": "stream",
     "text": [
      "Total Loss  |Smoke Loss  |Fire Loss   \n",
      "------------ ------------ ------------\n",
      "10.368      |6.352       |4.015       \n",
      "\n"
     ]
    },
    {
     "name": "stderr",
     "output_type": "stream",
     "text": [
      "Validating: 100%|██████████████████████████████████████████████████████████████████████████████████████████████████████████████████████████████████████████| 380/380 [00:23<00:00, 16.46it/s]\n"
     ]
    },
    {
     "name": "stdout",
     "output_type": "stream",
     "text": [
      "Total Loss  |Smoke Loss  |Fire Loss   \n",
      "------------ ------------ ------------\n",
      "12.990      |7.670       |5.320       \n",
      "SMOKE -> Precision: 0.9475 - Recall: 0.9445 - Accuracy: 0.9492 - F1: 0.9460\n",
      "FIRE -> Precision: 0.9347 - Recall: 0.9833 - Accuracy: 0.9723 - F1: 0.9583\n",
      "\n",
      "Saving model with precision > 0.9 and recall > 0.9\n",
      "\n",
      "=== EPOCH 72/99 ===\n",
      "Learning Rate = 4.3980465111040044e-05\n",
      "\n"
     ]
    },
    {
     "name": "stderr",
     "output_type": "stream",
     "text": [
      "Training:  31%|██████████████████████████████████████████▉                                                                                                | 567/1836 [01:43<02:52,  7.34it/s]Warning: unknown JFIF revision number 32.23\n",
      "Training: 100%|██████████████████████████████████████████████████████████████████████████████████████████████████████████████████████████████████████████| 1836/1836 [05:25<00:00,  5.64it/s]\n"
     ]
    },
    {
     "name": "stdout",
     "output_type": "stream",
     "text": [
      "Total Loss  |Smoke Loss  |Fire Loss   \n",
      "------------ ------------ ------------\n",
      "10.512      |6.433       |4.080       \n",
      "\n"
     ]
    },
    {
     "name": "stderr",
     "output_type": "stream",
     "text": [
      "Validating: 100%|██████████████████████████████████████████████████████████████████████████████████████████████████████████████████████████████████████████| 380/380 [00:23<00:00, 16.49it/s]\n"
     ]
    },
    {
     "name": "stdout",
     "output_type": "stream",
     "text": [
      "Total Loss  |Smoke Loss  |Fire Loss   \n",
      "------------ ------------ ------------\n",
      "12.940      |7.325       |5.615       \n",
      "SMOKE -> Precision: 0.9592 - Recall: 0.9362 - Accuracy: 0.9512 - F1: 0.9476\n",
      "FIRE -> Precision: 0.9290 - Recall: 0.9829 - Accuracy: 0.9701 - F1: 0.9552\n",
      "\n",
      "Saving model with precision > 0.9 and recall > 0.9\n",
      "\n",
      "=== EPOCH 73/99 ===\n",
      "Learning Rate = 4.3980465111040044e-05\n",
      "\n"
     ]
    },
    {
     "name": "stderr",
     "output_type": "stream",
     "text": [
      "Training:  82%|█████████████████████████████████████████████████████████████████████████████████████████████████████████████████                         | 1505/1836 [04:28<00:45,  7.35it/s]Warning: unknown JFIF revision number 32.23\n",
      "Training: 100%|██████████████████████████████████████████████████████████████████████████████████████████████████████████████████████████████████████████| 1836/1836 [05:27<00:00,  5.61it/s]\n"
     ]
    },
    {
     "name": "stdout",
     "output_type": "stream",
     "text": [
      "Total Loss  |Smoke Loss  |Fire Loss   \n",
      "------------ ------------ ------------\n",
      "10.421      |6.422       |3.999       \n",
      "\n"
     ]
    },
    {
     "name": "stderr",
     "output_type": "stream",
     "text": [
      "Validating: 100%|██████████████████████████████████████████████████████████████████████████████████████████████████████████████████████████████████████████| 380/380 [00:23<00:00, 16.32it/s]\n"
     ]
    },
    {
     "name": "stdout",
     "output_type": "stream",
     "text": [
      "Total Loss  |Smoke Loss  |Fire Loss   \n",
      "------------ ------------ ------------\n",
      "13.064      |7.433       |5.631       \n",
      "SMOKE -> Precision: 0.9550 - Recall: 0.9403 - Accuracy: 0.9509 - F1: 0.9476\n",
      "FIRE -> Precision: 0.9266 - Recall: 0.9862 - Accuracy: 0.9702 - F1: 0.9555\n",
      "\n",
      "Saving model with precision > 0.9 and recall > 0.9\n",
      "\n",
      "=== EPOCH 74/99 ===\n",
      "Learning Rate = 3.5184372088832036e-05\n",
      "\n"
     ]
    },
    {
     "name": "stderr",
     "output_type": "stream",
     "text": [
      "Training:  69%|███████████████████████████████████████████████████████████████████████████████████████████████▍                                          | 1269/1836 [03:48<02:02,  4.64it/s]Warning: unknown JFIF revision number 32.23\n",
      "Training: 100%|██████████████████████████████████████████████████████████████████████████████████████████████████████████████████████████████████████████| 1836/1836 [05:28<00:00,  5.59it/s]\n"
     ]
    },
    {
     "name": "stdout",
     "output_type": "stream",
     "text": [
      "Total Loss  |Smoke Loss  |Fire Loss   \n",
      "------------ ------------ ------------\n",
      "10.315      |6.358       |3.957       \n",
      "\n"
     ]
    },
    {
     "name": "stderr",
     "output_type": "stream",
     "text": [
      "Validating: 100%|██████████████████████████████████████████████████████████████████████████████████████████████████████████████████████████████████████████| 380/380 [00:23<00:00, 16.40it/s]\n"
     ]
    },
    {
     "name": "stdout",
     "output_type": "stream",
     "text": [
      "Total Loss  |Smoke Loss  |Fire Loss   \n",
      "------------ ------------ ------------\n",
      "12.347      |7.461       |4.886       \n",
      "SMOKE -> Precision: 0.9498 - Recall: 0.9472 - Accuracy: 0.9515 - F1: 0.9485\n",
      "FIRE -> Precision: 0.9420 - Recall: 0.9814 - Accuracy: 0.9744 - F1: 0.9613\n",
      "\n",
      "Saving model with precision > 0.9 and recall > 0.9\n",
      "Saving model with best Mean F1: 0.9549\n",
      "\n",
      "=== EPOCH 75/99 ===\n",
      "Learning Rate = 3.5184372088832036e-05\n",
      "\n"
     ]
    },
    {
     "name": "stderr",
     "output_type": "stream",
     "text": [
      "Training:  60%|███████████████████████████████████████████████████████████████████████████████████                                                       | 1105/1836 [03:21<01:21,  8.92it/s]Warning: unknown JFIF revision number 32.23\n",
      "Training: 100%|██████████████████████████████████████████████████████████████████████████████████████████████████████████████████████████████████████████| 1836/1836 [05:29<00:00,  5.57it/s]\n"
     ]
    },
    {
     "name": "stdout",
     "output_type": "stream",
     "text": [
      "Total Loss  |Smoke Loss  |Fire Loss   \n",
      "------------ ------------ ------------\n",
      "10.375      |6.402       |3.973       \n",
      "\n"
     ]
    },
    {
     "name": "stderr",
     "output_type": "stream",
     "text": [
      "Validating: 100%|██████████████████████████████████████████████████████████████████████████████████████████████████████████████████████████████████████████| 380/380 [00:23<00:00, 16.39it/s]\n"
     ]
    },
    {
     "name": "stdout",
     "output_type": "stream",
     "text": [
      "Total Loss  |Smoke Loss  |Fire Loss   \n",
      "------------ ------------ ------------\n",
      "12.830      |7.553       |5.277       \n",
      "SMOKE -> Precision: 0.9537 - Recall: 0.9388 - Accuracy: 0.9496 - F1: 0.9462\n",
      "FIRE -> Precision: 0.9342 - Recall: 0.9848 - Accuracy: 0.9726 - F1: 0.9588\n",
      "\n",
      "Saving model with precision > 0.9 and recall > 0.9\n",
      "\n",
      "=== EPOCH 76/99 ===\n",
      "Learning Rate = 3.5184372088832036e-05\n",
      "\n"
     ]
    },
    {
     "name": "stderr",
     "output_type": "stream",
     "text": [
      "Training:  16%|█████████████████████▊                                                                                                                     | 288/1836 [00:53<03:16,  7.87it/s]Warning: unknown JFIF revision number 32.23\n",
      "Training: 100%|██████████████████████████████████████████████████████████████████████████████████████████████████████████████████████████████████████████| 1836/1836 [05:26<00:00,  5.62it/s]\n"
     ]
    },
    {
     "name": "stdout",
     "output_type": "stream",
     "text": [
      "Total Loss  |Smoke Loss  |Fire Loss   \n",
      "------------ ------------ ------------\n",
      "10.241      |6.329       |3.912       \n",
      "\n"
     ]
    },
    {
     "name": "stderr",
     "output_type": "stream",
     "text": [
      "Validating: 100%|██████████████████████████████████████████████████████████████████████████████████████████████████████████████████████████████████████████| 380/380 [00:23<00:00, 16.45it/s]\n"
     ]
    },
    {
     "name": "stdout",
     "output_type": "stream",
     "text": [
      "Total Loss  |Smoke Loss  |Fire Loss   \n",
      "------------ ------------ ------------\n",
      "13.215      |7.664       |5.550       \n",
      "SMOKE -> Precision: 0.9501 - Recall: 0.9423 - Accuracy: 0.9495 - F1: 0.9462\n",
      "FIRE -> Precision: 0.9310 - Recall: 0.9834 - Accuracy: 0.9710 - F1: 0.9565\n",
      "\n",
      "Saving model with precision > 0.9 and recall > 0.9\n",
      "\n",
      "=== EPOCH 77/99 ===\n",
      "Learning Rate = 2.814749767106563e-05\n",
      "\n"
     ]
    },
    {
     "name": "stderr",
     "output_type": "stream",
     "text": [
      "Training:  58%|███████████████████████████████████████████████████████████████████████████████▋                                                          | 1061/1836 [03:08<02:14,  5.76it/s]Warning: unknown JFIF revision number 32.23\n",
      "Training: 100%|██████████████████████████████████████████████████████████████████████████████████████████████████████████████████████████████████████████| 1836/1836 [05:24<00:00,  5.66it/s]\n"
     ]
    },
    {
     "name": "stdout",
     "output_type": "stream",
     "text": [
      "Total Loss  |Smoke Loss  |Fire Loss   \n",
      "------------ ------------ ------------\n",
      "10.300      |6.351       |3.949       \n",
      "\n"
     ]
    },
    {
     "name": "stderr",
     "output_type": "stream",
     "text": [
      "Validating: 100%|██████████████████████████████████████████████████████████████████████████████████████████████████████████████████████████████████████████| 380/380 [00:22<00:00, 16.56it/s]\n"
     ]
    },
    {
     "name": "stdout",
     "output_type": "stream",
     "text": [
      "Total Loss  |Smoke Loss  |Fire Loss   \n",
      "------------ ------------ ------------\n",
      "12.656      |7.373       |5.283       \n",
      "SMOKE -> Precision: 0.9564 - Recall: 0.9385 - Accuracy: 0.9508 - F1: 0.9473\n",
      "FIRE -> Precision: 0.9352 - Recall: 0.9838 - Accuracy: 0.9727 - F1: 0.9589\n",
      "\n",
      "Saving model with precision > 0.9 and recall > 0.9\n",
      "\n",
      "=== EPOCH 78/99 ===\n",
      "Learning Rate = 2.814749767106563e-05\n",
      "\n"
     ]
    },
    {
     "name": "stderr",
     "output_type": "stream",
     "text": [
      "Training:   0%|▌                                                                                                                                            | 7/1836 [00:02<06:52,  4.43it/s]Warning: unknown JFIF revision number 32.23\n",
      "Training: 100%|██████████████████████████████████████████████████████████████████████████████████████████████████████████████████████████████████████████| 1836/1836 [05:26<00:00,  5.62it/s]\n"
     ]
    },
    {
     "name": "stdout",
     "output_type": "stream",
     "text": [
      "Total Loss  |Smoke Loss  |Fire Loss   \n",
      "------------ ------------ ------------\n",
      "10.084      |6.257       |3.827       \n",
      "\n"
     ]
    },
    {
     "name": "stderr",
     "output_type": "stream",
     "text": [
      "Validating: 100%|██████████████████████████████████████████████████████████████████████████████████████████████████████████████████████████████████████████| 380/380 [00:23<00:00, 16.17it/s]\n"
     ]
    },
    {
     "name": "stdout",
     "output_type": "stream",
     "text": [
      "Total Loss  |Smoke Loss  |Fire Loss   \n",
      "------------ ------------ ------------\n",
      "13.458      |7.763       |5.696       \n",
      "SMOKE -> Precision: 0.9477 - Recall: 0.9451 - Accuracy: 0.9495 - F1: 0.9464\n",
      "FIRE -> Precision: 0.9265 - Recall: 0.9867 - Accuracy: 0.9703 - F1: 0.9557\n",
      "\n",
      "Saving model with precision > 0.9 and recall > 0.9\n",
      "\n",
      "=== EPOCH 79/99 ===\n",
      "Learning Rate = 2.814749767106563e-05\n",
      "\n"
     ]
    },
    {
     "name": "stderr",
     "output_type": "stream",
     "text": [
      "Training:  85%|█████████████████████████████████████████████████████████████████████████████████████████████████████████████████████▏                    | 1559/1836 [04:37<00:55,  4.98it/s]Warning: unknown JFIF revision number 32.23\n",
      "Training: 100%|██████████████████████████████████████████████████████████████████████████████████████████████████████████████████████████████████████████| 1836/1836 [05:26<00:00,  5.62it/s]\n"
     ]
    },
    {
     "name": "stdout",
     "output_type": "stream",
     "text": [
      "Total Loss  |Smoke Loss  |Fire Loss   \n",
      "------------ ------------ ------------\n",
      "10.199      |6.289       |3.910       \n",
      "\n"
     ]
    },
    {
     "name": "stderr",
     "output_type": "stream",
     "text": [
      "Validating: 100%|██████████████████████████████████████████████████████████████████████████████████████████████████████████████████████████████████████████| 380/380 [00:23<00:00, 16.20it/s]\n"
     ]
    },
    {
     "name": "stdout",
     "output_type": "stream",
     "text": [
      "Total Loss  |Smoke Loss  |Fire Loss   \n",
      "------------ ------------ ------------\n",
      "12.134      |7.314       |4.820       \n",
      "SMOKE -> Precision: 0.9592 - Recall: 0.9361 - Accuracy: 0.9511 - F1: 0.9475\n",
      "FIRE -> Precision: 0.9449 - Recall: 0.9815 - Accuracy: 0.9755 - F1: 0.9629\n",
      "\n",
      "Saving model with new best validation loss: 12.1339\n",
      "\n",
      "Saving model with precision > 0.9 and recall > 0.9\n",
      "Saving model with best Mean F1: 0.9552\n",
      "\n",
      "=== EPOCH 80/99 ===\n",
      "Learning Rate = 2.814749767106563e-05\n",
      "\n"
     ]
    },
    {
     "name": "stderr",
     "output_type": "stream",
     "text": [
      "Training:  55%|███████████████████████████████████████████████████████████████████████████▋                                                              | 1007/1836 [02:58<02:04,  6.66it/s]Warning: unknown JFIF revision number 32.23\n",
      "Training: 100%|██████████████████████████████████████████████████████████████████████████████████████████████████████████████████████████████████████████| 1836/1836 [05:25<00:00,  5.64it/s]\n"
     ]
    },
    {
     "name": "stdout",
     "output_type": "stream",
     "text": [
      "Total Loss  |Smoke Loss  |Fire Loss   \n",
      "------------ ------------ ------------\n",
      "10.187      |6.267       |3.920       \n",
      "\n"
     ]
    },
    {
     "name": "stderr",
     "output_type": "stream",
     "text": [
      "Validating: 100%|██████████████████████████████████████████████████████████████████████████████████████████████████████████████████████████████████████████| 380/380 [00:23<00:00, 16.28it/s]\n"
     ]
    },
    {
     "name": "stdout",
     "output_type": "stream",
     "text": [
      "Total Loss  |Smoke Loss  |Fire Loss   \n",
      "------------ ------------ ------------\n",
      "13.000      |7.635       |5.365       \n",
      "SMOKE -> Precision: 0.9496 - Recall: 0.9451 - Accuracy: 0.9505 - F1: 0.9474\n",
      "FIRE -> Precision: 0.9308 - Recall: 0.9844 - Accuracy: 0.9712 - F1: 0.9568\n",
      "\n",
      "Saving model with precision > 0.9 and recall > 0.9\n",
      "\n",
      "=== EPOCH 81/99 ===\n",
      "Learning Rate = 2.814749767106563e-05\n",
      "\n"
     ]
    },
    {
     "name": "stderr",
     "output_type": "stream",
     "text": [
      "Training:  39%|█████████████████████████████████████████████████████▉                                                                                     | 713/1836 [02:07<02:21,  7.94it/s]Warning: unknown JFIF revision number 32.23\n",
      "Training: 100%|██████████████████████████████████████████████████████████████████████████████████████████████████████████████████████████████████████████| 1836/1836 [05:22<00:00,  5.69it/s]\n"
     ]
    },
    {
     "name": "stdout",
     "output_type": "stream",
     "text": [
      "Total Loss  |Smoke Loss  |Fire Loss   \n",
      "------------ ------------ ------------\n",
      "10.242      |6.330       |3.912       \n",
      "\n"
     ]
    },
    {
     "name": "stderr",
     "output_type": "stream",
     "text": [
      "Validating: 100%|██████████████████████████████████████████████████████████████████████████████████████████████████████████████████████████████████████████| 380/380 [00:23<00:00, 16.37it/s]\n"
     ]
    },
    {
     "name": "stdout",
     "output_type": "stream",
     "text": [
      "Total Loss  |Smoke Loss  |Fire Loss   \n",
      "------------ ------------ ------------\n",
      "12.507      |7.224       |5.283       \n",
      "SMOKE -> Precision: 0.9553 - Recall: 0.9428 - Accuracy: 0.9522 - F1: 0.9490\n",
      "FIRE -> Precision: 0.9356 - Recall: 0.9834 - Accuracy: 0.9727 - F1: 0.9589\n",
      "\n",
      "Saving model with precision > 0.9 and recall > 0.9\n",
      "\n",
      "=== EPOCH 82/99 ===\n",
      "Learning Rate = 2.814749767106563e-05\n",
      "\n"
     ]
    },
    {
     "name": "stderr",
     "output_type": "stream",
     "text": [
      "Training:  14%|███████████████████▋                                                                                                                       | 260/1836 [00:47<04:20,  6.06it/s]Warning: unknown JFIF revision number 32.23\n",
      "Training: 100%|██████████████████████████████████████████████████████████████████████████████████████████████████████████████████████████████████████████| 1836/1836 [05:24<00:00,  5.65it/s]\n"
     ]
    },
    {
     "name": "stdout",
     "output_type": "stream",
     "text": [
      "Total Loss  |Smoke Loss  |Fire Loss   \n",
      "------------ ------------ ------------\n",
      "10.190      |6.326       |3.864       \n",
      "\n"
     ]
    },
    {
     "name": "stderr",
     "output_type": "stream",
     "text": [
      "Validating: 100%|██████████████████████████████████████████████████████████████████████████████████████████████████████████████████████████████████████████| 380/380 [00:23<00:00, 16.28it/s]\n"
     ]
    },
    {
     "name": "stdout",
     "output_type": "stream",
     "text": [
      "Total Loss  |Smoke Loss  |Fire Loss   \n",
      "------------ ------------ ------------\n",
      "12.617      |7.437       |5.181       \n",
      "SMOKE -> Precision: 0.9502 - Recall: 0.9461 - Accuracy: 0.9512 - F1: 0.9481\n",
      "FIRE -> Precision: 0.9364 - Recall: 0.9826 - Accuracy: 0.9727 - F1: 0.9590\n",
      "\n",
      "Saving model with precision > 0.9 and recall > 0.9\n",
      "\n",
      "=== EPOCH 83/99 ===\n",
      "Learning Rate = 2.2517998136852506e-05\n",
      "\n"
     ]
    },
    {
     "name": "stderr",
     "output_type": "stream",
     "text": [
      "Training:  14%|███████████████████▉                                                                                                                       | 263/1836 [00:47<03:12,  8.17it/s]Warning: unknown JFIF revision number 32.23\n",
      "Training: 100%|██████████████████████████████████████████████████████████████████████████████████████████████████████████████████████████████████████████| 1836/1836 [05:25<00:00,  5.64it/s]\n"
     ]
    },
    {
     "name": "stdout",
     "output_type": "stream",
     "text": [
      "Total Loss  |Smoke Loss  |Fire Loss   \n",
      "------------ ------------ ------------\n",
      "10.119      |6.222       |3.897       \n",
      "\n"
     ]
    },
    {
     "name": "stderr",
     "output_type": "stream",
     "text": [
      "Validating: 100%|██████████████████████████████████████████████████████████████████████████████████████████████████████████████████████████████████████████| 380/380 [00:23<00:00, 16.04it/s]\n"
     ]
    },
    {
     "name": "stdout",
     "output_type": "stream",
     "text": [
      "Total Loss  |Smoke Loss  |Fire Loss   \n",
      "------------ ------------ ------------\n",
      "12.622      |7.503       |5.119       \n",
      "SMOKE -> Precision: 0.9487 - Recall: 0.9495 - Accuracy: 0.9520 - F1: 0.9491\n",
      "FIRE -> Precision: 0.9386 - Recall: 0.9814 - Accuracy: 0.9731 - F1: 0.9595\n",
      "\n",
      "Saving model with precision > 0.9 and recall > 0.9\n",
      "\n",
      "=== EPOCH 84/99 ===\n",
      "Learning Rate = 2.2517998136852506e-05\n",
      "\n"
     ]
    },
    {
     "name": "stderr",
     "output_type": "stream",
     "text": [
      "Training:  55%|████████████████████████████████████████████████████████████████████████████▎                                                             | 1016/1836 [03:04<03:06,  4.41it/s]Warning: unknown JFIF revision number 32.23\n",
      "Training: 100%|██████████████████████████████████████████████████████████████████████████████████████████████████████████████████████████████████████████| 1836/1836 [05:27<00:00,  5.60it/s]\n"
     ]
    },
    {
     "name": "stdout",
     "output_type": "stream",
     "text": [
      "Total Loss  |Smoke Loss  |Fire Loss   \n",
      "------------ ------------ ------------\n",
      "10.089      |6.207       |3.882       \n",
      "\n"
     ]
    },
    {
     "name": "stderr",
     "output_type": "stream",
     "text": [
      "Validating: 100%|██████████████████████████████████████████████████████████████████████████████████████████████████████████████████████████████████████████| 380/380 [00:23<00:00, 16.37it/s]\n"
     ]
    },
    {
     "name": "stdout",
     "output_type": "stream",
     "text": [
      "Total Loss  |Smoke Loss  |Fire Loss   \n",
      "------------ ------------ ------------\n",
      "13.196      |7.490       |5.706       \n",
      "SMOKE -> Precision: 0.9501 - Recall: 0.9433 - Accuracy: 0.9499 - F1: 0.9467\n",
      "FIRE -> Precision: 0.9265 - Recall: 0.9848 - Accuracy: 0.9697 - F1: 0.9547\n",
      "\n",
      "Saving model with precision > 0.9 and recall > 0.9\n",
      "\n",
      "=== EPOCH 85/99 ===\n",
      "Learning Rate = 2.2517998136852506e-05\n",
      "\n"
     ]
    },
    {
     "name": "stderr",
     "output_type": "stream",
     "text": [
      "Training:  33%|██████████████████████████████████████████████▍                                                                                            | 614/1836 [01:51<03:50,  5.31it/s]Warning: unknown JFIF revision number 32.23\n",
      "Training: 100%|██████████████████████████████████████████████████████████████████████████████████████████████████████████████████████████████████████████| 1836/1836 [05:26<00:00,  5.62it/s]\n"
     ]
    },
    {
     "name": "stdout",
     "output_type": "stream",
     "text": [
      "Total Loss  |Smoke Loss  |Fire Loss   \n",
      "------------ ------------ ------------\n",
      "10.016      |6.108       |3.907       \n",
      "\n"
     ]
    },
    {
     "name": "stderr",
     "output_type": "stream",
     "text": [
      "Validating: 100%|██████████████████████████████████████████████████████████████████████████████████████████████████████████████████████████████████████████| 380/380 [00:23<00:00, 16.32it/s]\n"
     ]
    },
    {
     "name": "stdout",
     "output_type": "stream",
     "text": [
      "Total Loss  |Smoke Loss  |Fire Loss   \n",
      "------------ ------------ ------------\n",
      "12.666      |7.490       |5.175       \n",
      "SMOKE -> Precision: 0.9553 - Recall: 0.9393 - Accuracy: 0.9507 - F1: 0.9472\n",
      "FIRE -> Precision: 0.9350 - Recall: 0.9827 - Accuracy: 0.9722 - F1: 0.9583\n",
      "\n",
      "Saving model with precision > 0.9 and recall > 0.9\n",
      "\n",
      "=== EPOCH 86/99 ===\n",
      "Learning Rate = 1.8014398509482006e-05\n",
      "\n"
     ]
    },
    {
     "name": "stderr",
     "output_type": "stream",
     "text": [
      "Training:  18%|█████████████████████████                                                                                                                  | 331/1836 [00:58<03:01,  8.29it/s]Warning: unknown JFIF revision number 32.23\n",
      "Training: 100%|██████████████████████████████████████████████████████████████████████████████████████████████████████████████████████████████████████████| 1836/1836 [05:23<00:00,  5.68it/s]\n"
     ]
    },
    {
     "name": "stdout",
     "output_type": "stream",
     "text": [
      "Total Loss  |Smoke Loss  |Fire Loss   \n",
      "------------ ------------ ------------\n",
      "10.034      |6.153       |3.881       \n",
      "\n"
     ]
    },
    {
     "name": "stderr",
     "output_type": "stream",
     "text": [
      "Validating: 100%|██████████████████████████████████████████████████████████████████████████████████████████████████████████████████████████████████████████| 380/380 [00:23<00:00, 16.46it/s]\n"
     ]
    },
    {
     "name": "stdout",
     "output_type": "stream",
     "text": [
      "Total Loss  |Smoke Loss  |Fire Loss   \n",
      "------------ ------------ ------------\n",
      "12.392      |7.394       |4.998       \n",
      "SMOKE -> Precision: 0.9559 - Recall: 0.9393 - Accuracy: 0.9509 - F1: 0.9475\n",
      "FIRE -> Precision: 0.9386 - Recall: 0.9836 - Accuracy: 0.9738 - F1: 0.9606\n",
      "\n",
      "Saving model with precision > 0.9 and recall > 0.9\n",
      "\n",
      "=== EPOCH 87/99 ===\n",
      "Learning Rate = 1.8014398509482006e-05\n",
      "\n"
     ]
    },
    {
     "name": "stderr",
     "output_type": "stream",
     "text": [
      "Training:  75%|███████████████████████████████████████████████████████████████████████████████████████████████████████▏                                  | 1373/1836 [04:02<01:05,  7.10it/s]Warning: unknown JFIF revision number 32.23\n",
      "Training: 100%|██████████████████████████████████████████████████████████████████████████████████████████████████████████████████████████████████████████| 1836/1836 [05:25<00:00,  5.63it/s]\n"
     ]
    },
    {
     "name": "stdout",
     "output_type": "stream",
     "text": [
      "Total Loss  |Smoke Loss  |Fire Loss   \n",
      "------------ ------------ ------------\n",
      "10.023      |6.153       |3.870       \n",
      "\n"
     ]
    },
    {
     "name": "stderr",
     "output_type": "stream",
     "text": [
      "Validating: 100%|██████████████████████████████████████████████████████████████████████████████████████████████████████████████████████████████████████████| 380/380 [00:23<00:00, 16.46it/s]\n"
     ]
    },
    {
     "name": "stdout",
     "output_type": "stream",
     "text": [
      "Total Loss  |Smoke Loss  |Fire Loss   \n",
      "------------ ------------ ------------\n",
      "12.744      |7.755       |4.989       \n",
      "SMOKE -> Precision: 0.9505 - Recall: 0.9414 - Accuracy: 0.9493 - F1: 0.9459\n",
      "FIRE -> Precision: 0.9406 - Recall: 0.9829 - Accuracy: 0.9743 - F1: 0.9613\n",
      "\n",
      "Saving model with precision > 0.9 and recall > 0.9\n",
      "\n",
      "=== EPOCH 88/99 ===\n",
      "Learning Rate = 1.8014398509482006e-05\n",
      "\n"
     ]
    },
    {
     "name": "stderr",
     "output_type": "stream",
     "text": [
      "Training:  49%|████████████████████████████████████████████████████████████████████▎                                                                      | 903/1836 [02:42<01:56,  8.03it/s]Warning: unknown JFIF revision number 32.23\n",
      "Training: 100%|██████████████████████████████████████████████████████████████████████████████████████████████████████████████████████████████████████████| 1836/1836 [05:25<00:00,  5.64it/s]\n"
     ]
    },
    {
     "name": "stdout",
     "output_type": "stream",
     "text": [
      "Total Loss  |Smoke Loss  |Fire Loss   \n",
      "------------ ------------ ------------\n",
      "9.908       |6.110       |3.798       \n",
      "\n"
     ]
    },
    {
     "name": "stderr",
     "output_type": "stream",
     "text": [
      "Validating: 100%|██████████████████████████████████████████████████████████████████████████████████████████████████████████████████████████████████████████| 380/380 [00:23<00:00, 16.45it/s]\n"
     ]
    },
    {
     "name": "stdout",
     "output_type": "stream",
     "text": [
      "Total Loss  |Smoke Loss  |Fire Loss   \n",
      "------------ ------------ ------------\n",
      "12.291      |7.510       |4.781       \n",
      "SMOKE -> Precision: 0.9575 - Recall: 0.9346 - Accuracy: 0.9496 - F1: 0.9459\n",
      "FIRE -> Precision: 0.9435 - Recall: 0.9820 - Accuracy: 0.9751 - F1: 0.9623\n",
      "\n",
      "Saving model with precision > 0.9 and recall > 0.9\n",
      "\n",
      "=== EPOCH 89/99 ===\n",
      "Learning Rate = 1.4411518807585605e-05\n",
      "\n"
     ]
    },
    {
     "name": "stderr",
     "output_type": "stream",
     "text": [
      "Training:  85%|█████████████████████████████████████████████████████████████████████████████████████████████████████████████████████▋                    | 1565/1836 [04:41<00:44,  6.03it/s]Warning: unknown JFIF revision number 32.23\n",
      "Training: 100%|██████████████████████████████████████████████████████████████████████████████████████████████████████████████████████████████████████████| 1836/1836 [05:27<00:00,  5.60it/s]\n"
     ]
    },
    {
     "name": "stdout",
     "output_type": "stream",
     "text": [
      "Total Loss  |Smoke Loss  |Fire Loss   \n",
      "------------ ------------ ------------\n",
      "9.977       |6.148       |3.828       \n",
      "\n"
     ]
    },
    {
     "name": "stderr",
     "output_type": "stream",
     "text": [
      "Validating: 100%|██████████████████████████████████████████████████████████████████████████████████████████████████████████████████████████████████████████| 380/380 [00:23<00:00, 16.44it/s]\n"
     ]
    },
    {
     "name": "stdout",
     "output_type": "stream",
     "text": [
      "Total Loss  |Smoke Loss  |Fire Loss   \n",
      "------------ ------------ ------------\n",
      "12.313      |7.401       |4.912       \n",
      "SMOKE -> Precision: 0.9566 - Recall: 0.9397 - Accuracy: 0.9515 - F1: 0.9481\n",
      "FIRE -> Precision: 0.9399 - Recall: 0.9817 - Accuracy: 0.9737 - F1: 0.9604\n",
      "\n",
      "Saving model with precision > 0.9 and recall > 0.9\n",
      "\n",
      "=== EPOCH 90/99 ===\n",
      "Learning Rate = 1.4411518807585605e-05\n",
      "\n"
     ]
    },
    {
     "name": "stderr",
     "output_type": "stream",
     "text": [
      "Training:   2%|██▎                                                                                                                                         | 31/1836 [00:07<04:49,  6.23it/s]Warning: unknown JFIF revision number 32.23\n",
      "Training: 100%|██████████████████████████████████████████████████████████████████████████████████████████████████████████████████████████████████████████| 1836/1836 [05:26<00:00,  5.63it/s]\n"
     ]
    },
    {
     "name": "stdout",
     "output_type": "stream",
     "text": [
      "Total Loss  |Smoke Loss  |Fire Loss   \n",
      "------------ ------------ ------------\n",
      "9.983       |6.150       |3.833       \n",
      "\n"
     ]
    },
    {
     "name": "stderr",
     "output_type": "stream",
     "text": [
      "Validating: 100%|██████████████████████████████████████████████████████████████████████████████████████████████████████████████████████████████████████████| 380/380 [00:23<00:00, 16.38it/s]\n"
     ]
    },
    {
     "name": "stdout",
     "output_type": "stream",
     "text": [
      "Total Loss  |Smoke Loss  |Fire Loss   \n",
      "------------ ------------ ------------\n",
      "13.188      |7.800       |5.389       \n",
      "SMOKE -> Precision: 0.9485 - Recall: 0.9437 - Accuracy: 0.9493 - F1: 0.9461\n",
      "FIRE -> Precision: 0.9301 - Recall: 0.9843 - Accuracy: 0.9709 - F1: 0.9564\n",
      "\n",
      "Saving model with precision > 0.9 and recall > 0.9\n",
      "\n",
      "=== EPOCH 91/99 ===\n",
      "Learning Rate = 1.4411518807585605e-05\n",
      "\n"
     ]
    },
    {
     "name": "stderr",
     "output_type": "stream",
     "text": [
      "Training:  48%|██████████████████████████████████████████████████████████████████                                                                         | 873/1836 [02:38<04:00,  4.01it/s]Warning: unknown JFIF revision number 32.23\n",
      "Training: 100%|██████████████████████████████████████████████████████████████████████████████████████████████████████████████████████████████████████████| 1836/1836 [05:26<00:00,  5.62it/s]\n"
     ]
    },
    {
     "name": "stdout",
     "output_type": "stream",
     "text": [
      "Total Loss  |Smoke Loss  |Fire Loss   \n",
      "------------ ------------ ------------\n",
      "9.874       |6.095       |3.779       \n",
      "\n"
     ]
    },
    {
     "name": "stderr",
     "output_type": "stream",
     "text": [
      "Validating: 100%|██████████████████████████████████████████████████████████████████████████████████████████████████████████████████████████████████████████| 380/380 [00:23<00:00, 16.40it/s]\n"
     ]
    },
    {
     "name": "stdout",
     "output_type": "stream",
     "text": [
      "Total Loss  |Smoke Loss  |Fire Loss   \n",
      "------------ ------------ ------------\n",
      "12.529      |7.486       |5.043       \n",
      "SMOKE -> Precision: 0.9550 - Recall: 0.9392 - Accuracy: 0.9505 - F1: 0.9471\n",
      "FIRE -> Precision: 0.9387 - Recall: 0.9825 - Accuracy: 0.9735 - F1: 0.9601\n",
      "\n",
      "Saving model with precision > 0.9 and recall > 0.9\n",
      "\n",
      "=== EPOCH 92/99 ===\n",
      "Learning Rate = 1.1529215046068485e-05\n",
      "\n"
     ]
    },
    {
     "name": "stderr",
     "output_type": "stream",
     "text": [
      "Training:  97%|██████████████████████████████████████████████████████████████████████████████████████████████████████████████████████████████████████▌   | 1790/1836 [05:16<00:07,  5.99it/s]Warning: unknown JFIF revision number 32.23\n",
      "Training: 100%|██████████████████████████████████████████████████████████████████████████████████████████████████████████████████████████████████████████| 1836/1836 [05:24<00:00,  5.66it/s]\n"
     ]
    },
    {
     "name": "stdout",
     "output_type": "stream",
     "text": [
      "Total Loss  |Smoke Loss  |Fire Loss   \n",
      "------------ ------------ ------------\n",
      "9.904       |6.110       |3.795       \n",
      "\n"
     ]
    },
    {
     "name": "stderr",
     "output_type": "stream",
     "text": [
      "Validating: 100%|██████████████████████████████████████████████████████████████████████████████████████████████████████████████████████████████████████████| 380/380 [00:23<00:00, 16.50it/s]\n"
     ]
    },
    {
     "name": "stdout",
     "output_type": "stream",
     "text": [
      "Total Loss  |Smoke Loss  |Fire Loss   \n",
      "------------ ------------ ------------\n",
      "13.489      |7.751       |5.738       \n",
      "SMOKE -> Precision: 0.9432 - Recall: 0.9504 - Accuracy: 0.9496 - F1: 0.9468\n",
      "FIRE -> Precision: 0.9252 - Recall: 0.9852 - Accuracy: 0.9694 - F1: 0.9542\n",
      "\n",
      "Saving model with precision > 0.9 and recall > 0.9\n",
      "\n",
      "=== EPOCH 93/99 ===\n",
      "Learning Rate = 1.1529215046068485e-05\n",
      "\n"
     ]
    },
    {
     "name": "stderr",
     "output_type": "stream",
     "text": [
      "Training:  23%|████████████████████████████████                                                                                                           | 424/1836 [01:17<03:13,  7.29it/s]Warning: unknown JFIF revision number 32.23\n",
      "Training: 100%|██████████████████████████████████████████████████████████████████████████████████████████████████████████████████████████████████████████| 1836/1836 [05:28<00:00,  5.60it/s]\n"
     ]
    },
    {
     "name": "stdout",
     "output_type": "stream",
     "text": [
      "Total Loss  |Smoke Loss  |Fire Loss   \n",
      "------------ ------------ ------------\n",
      "9.839       |6.057       |3.782       \n",
      "\n"
     ]
    },
    {
     "name": "stderr",
     "output_type": "stream",
     "text": [
      "Validating: 100%|██████████████████████████████████████████████████████████████████████████████████████████████████████████████████████████████████████████| 380/380 [00:23<00:00, 16.27it/s]\n"
     ]
    },
    {
     "name": "stdout",
     "output_type": "stream",
     "text": [
      "Total Loss  |Smoke Loss  |Fire Loss   \n",
      "------------ ------------ ------------\n",
      "12.383      |7.235       |5.148       \n",
      "SMOKE -> Precision: 0.9608 - Recall: 0.9339 - Accuracy: 0.9509 - F1: 0.9471\n",
      "FIRE -> Precision: 0.9346 - Recall: 0.9841 - Accuracy: 0.9725 - F1: 0.9587\n",
      "\n",
      "Saving model with precision > 0.9 and recall > 0.9\n",
      "\n",
      "=== EPOCH 94/99 ===\n",
      "Learning Rate = 1.1529215046068485e-05\n",
      "\n"
     ]
    },
    {
     "name": "stderr",
     "output_type": "stream",
     "text": [
      "Training:  45%|██████████████████████████████████████████████████████████████▏                                                                            | 822/1836 [02:29<03:27,  4.88it/s]Warning: unknown JFIF revision number 32.23\n",
      "Training: 100%|██████████████████████████████████████████████████████████████████████████████████████████████████████████████████████████████████████████| 1836/1836 [05:26<00:00,  5.62it/s]\n"
     ]
    },
    {
     "name": "stdout",
     "output_type": "stream",
     "text": [
      "Total Loss  |Smoke Loss  |Fire Loss   \n",
      "------------ ------------ ------------\n",
      "9.975       |6.187       |3.788       \n",
      "\n"
     ]
    },
    {
     "name": "stderr",
     "output_type": "stream",
     "text": [
      "Validating: 100%|██████████████████████████████████████████████████████████████████████████████████████████████████████████████████████████████████████████| 380/380 [00:23<00:00, 16.47it/s]\n"
     ]
    },
    {
     "name": "stdout",
     "output_type": "stream",
     "text": [
      "Total Loss  |Smoke Loss  |Fire Loss   \n",
      "------------ ------------ ------------\n",
      "12.339      |7.316       |5.024       \n",
      "SMOKE -> Precision: 0.9573 - Recall: 0.9395 - Accuracy: 0.9517 - F1: 0.9483\n",
      "FIRE -> Precision: 0.9391 - Recall: 0.9803 - Accuracy: 0.9730 - F1: 0.9593\n",
      "\n",
      "Saving model with precision > 0.9 and recall > 0.9\n",
      "\n",
      "=== EPOCH 95/99 ===\n",
      "Learning Rate = 9.223372036854789e-06\n",
      "\n"
     ]
    },
    {
     "name": "stderr",
     "output_type": "stream",
     "text": [
      "Training:  53%|██████████████████████████████████████████████████████████████████████████▏                                                                | 980/1836 [02:54<02:10,  6.58it/s]Warning: unknown JFIF revision number 32.23\n",
      "Training: 100%|██████████████████████████████████████████████████████████████████████████████████████████████████████████████████████████████████████████| 1836/1836 [05:23<00:00,  5.68it/s]\n"
     ]
    },
    {
     "name": "stdout",
     "output_type": "stream",
     "text": [
      "Total Loss  |Smoke Loss  |Fire Loss   \n",
      "------------ ------------ ------------\n",
      "9.880       |6.106       |3.774       \n",
      "\n"
     ]
    },
    {
     "name": "stderr",
     "output_type": "stream",
     "text": [
      "Validating: 100%|██████████████████████████████████████████████████████████████████████████████████████████████████████████████████████████████████████████| 380/380 [00:23<00:00, 16.40it/s]\n"
     ]
    },
    {
     "name": "stdout",
     "output_type": "stream",
     "text": [
      "Total Loss  |Smoke Loss  |Fire Loss   \n",
      "------------ ------------ ------------\n",
      "12.350      |7.415       |4.935       \n",
      "SMOKE -> Precision: 0.9550 - Recall: 0.9396 - Accuracy: 0.9506 - F1: 0.9472\n",
      "FIRE -> Precision: 0.9397 - Recall: 0.9821 - Accuracy: 0.9738 - F1: 0.9604\n",
      "\n",
      "Saving model with precision > 0.9 and recall > 0.9\n",
      "\n",
      "=== EPOCH 96/99 ===\n",
      "Learning Rate = 9.223372036854789e-06\n",
      "\n"
     ]
    },
    {
     "name": "stderr",
     "output_type": "stream",
     "text": [
      "Training:  89%|███████████████████████████████████████████████████████████████████████████████████████████████████████████████████████████▏              | 1639/1836 [04:51<00:34,  5.79it/s]Warning: unknown JFIF revision number 32.23\n",
      "Training: 100%|██████████████████████████████████████████████████████████████████████████████████████████████████████████████████████████████████████████| 1836/1836 [05:25<00:00,  5.64it/s]\n"
     ]
    },
    {
     "name": "stdout",
     "output_type": "stream",
     "text": [
      "Total Loss  |Smoke Loss  |Fire Loss   \n",
      "------------ ------------ ------------\n",
      "9.858       |6.086       |3.772       \n",
      "\n"
     ]
    },
    {
     "name": "stderr",
     "output_type": "stream",
     "text": [
      "Validating: 100%|██████████████████████████████████████████████████████████████████████████████████████████████████████████████████████████████████████████| 380/380 [00:23<00:00, 16.49it/s]\n"
     ]
    },
    {
     "name": "stdout",
     "output_type": "stream",
     "text": [
      "Total Loss  |Smoke Loss  |Fire Loss   \n",
      "------------ ------------ ------------\n",
      "12.467      |7.457       |5.010       \n",
      "SMOKE -> Precision: 0.9554 - Recall: 0.9410 - Accuracy: 0.9514 - F1: 0.9481\n",
      "FIRE -> Precision: 0.9379 - Recall: 0.9835 - Accuracy: 0.9736 - F1: 0.9602\n",
      "\n",
      "Saving model with precision > 0.9 and recall > 0.9\n",
      "\n",
      "=== EPOCH 97/99 ===\n",
      "Learning Rate = 9.223372036854789e-06\n",
      "\n"
     ]
    },
    {
     "name": "stderr",
     "output_type": "stream",
     "text": [
      "Training:   5%|███████▎                                                                                                                                    | 96/1836 [00:18<04:36,  6.30it/s]Warning: unknown JFIF revision number 32.23\n",
      "Training: 100%|██████████████████████████████████████████████████████████████████████████████████████████████████████████████████████████████████████████| 1836/1836 [05:23<00:00,  5.67it/s]\n"
     ]
    },
    {
     "name": "stdout",
     "output_type": "stream",
     "text": [
      "Total Loss  |Smoke Loss  |Fire Loss   \n",
      "------------ ------------ ------------\n",
      "9.677       |5.999       |3.677       \n",
      "\n"
     ]
    },
    {
     "name": "stderr",
     "output_type": "stream",
     "text": [
      "Validating: 100%|██████████████████████████████████████████████████████████████████████████████████████████████████████████████████████████████████████████| 380/380 [00:23<00:00, 16.38it/s]\n"
     ]
    },
    {
     "name": "stdout",
     "output_type": "stream",
     "text": [
      "Total Loss  |Smoke Loss  |Fire Loss   \n",
      "------------ ------------ ------------\n",
      "12.019      |7.264       |4.754       \n",
      "SMOKE -> Precision: 0.9613 - Recall: 0.9345 - Accuracy: 0.9514 - F1: 0.9477\n",
      "FIRE -> Precision: 0.9434 - Recall: 0.9811 - Accuracy: 0.9748 - F1: 0.9619\n",
      "\n",
      "Saving model with new best validation loss: 12.0188\n",
      "\n",
      "Saving model with precision > 0.9 and recall > 0.9\n",
      "\n",
      "=== EPOCH 98/99 ===\n",
      "Learning Rate = 9.223372036854789e-06\n",
      "\n"
     ]
    },
    {
     "name": "stderr",
     "output_type": "stream",
     "text": [
      "Training:  28%|███████████████████████████████████████▌                                                                                                   | 523/1836 [01:33<03:21,  6.50it/s]Warning: unknown JFIF revision number 32.23\n",
      "Training: 100%|██████████████████████████████████████████████████████████████████████████████████████████████████████████████████████████████████████████| 1836/1836 [05:22<00:00,  5.69it/s]\n"
     ]
    },
    {
     "name": "stdout",
     "output_type": "stream",
     "text": [
      "Total Loss  |Smoke Loss  |Fire Loss   \n",
      "------------ ------------ ------------\n",
      "9.881       |6.068       |3.813       \n",
      "\n"
     ]
    },
    {
     "name": "stderr",
     "output_type": "stream",
     "text": [
      "Validating: 100%|██████████████████████████████████████████████████████████████████████████████████████████████████████████████████████████████████████████| 380/380 [00:23<00:00, 16.42it/s]\n"
     ]
    },
    {
     "name": "stdout",
     "output_type": "stream",
     "text": [
      "Total Loss  |Smoke Loss  |Fire Loss   \n",
      "------------ ------------ ------------\n",
      "12.792      |7.473       |5.320       \n",
      "SMOKE -> Precision: 0.9535 - Recall: 0.9403 - Accuracy: 0.9502 - F1: 0.9469\n",
      "FIRE -> Precision: 0.9329 - Recall: 0.9839 - Accuracy: 0.9718 - F1: 0.9577\n",
      "\n",
      "Saving model with precision > 0.9 and recall > 0.9\n",
      "\n",
      "=== EPOCH 99/99 ===\n",
      "Learning Rate = 9.223372036854789e-06\n",
      "\n"
     ]
    },
    {
     "name": "stderr",
     "output_type": "stream",
     "text": [
      "Training:  94%|██████████████████████████████████████████████████████████████████████████████████████████████████████████████████████████████████▏       | 1732/1836 [05:07<00:24,  4.28it/s]Warning: unknown JFIF revision number 32.23\n",
      "Training: 100%|██████████████████████████████████████████████████████████████████████████████████████████████████████████████████████████████████████████| 1836/1836 [05:24<00:00,  5.66it/s]\n"
     ]
    },
    {
     "name": "stdout",
     "output_type": "stream",
     "text": [
      "Total Loss  |Smoke Loss  |Fire Loss   \n",
      "------------ ------------ ------------\n",
      "9.611       |5.960       |3.651       \n",
      "\n"
     ]
    },
    {
     "name": "stderr",
     "output_type": "stream",
     "text": [
      "Validating: 100%|██████████████████████████████████████████████████████████████████████████████████████████████████████████████████████████████████████████| 380/380 [00:22<00:00, 16.54it/s]\n"
     ]
    },
    {
     "name": "stdout",
     "output_type": "stream",
     "text": [
      "Total Loss  |Smoke Loss  |Fire Loss   \n",
      "------------ ------------ ------------\n",
      "12.701      |7.440       |5.261       \n",
      "SMOKE -> Precision: 0.9550 - Recall: 0.9410 - Accuracy: 0.9513 - F1: 0.9479\n",
      "FIRE -> Precision: 0.9358 - Recall: 0.9834 - Accuracy: 0.9727 - F1: 0.9590\n",
      "\n",
      "Saving model with precision > 0.9 and recall > 0.9\n",
      "\n",
      "***Script finished: 17:18:28\n",
      "\n",
      "Time elapsed: 9:57:05.941435\n"
     ]
    }
   ],
   "source": [
    "if __name__ == \"__main__\":\n",
    "    \n",
    "    print(\"Starting script\\n\")\n",
    "    logger.info(\"Starting script\\n\")\n",
    "    \n",
    "    model = train_loop(model)"
   ]
  },
  {
   "cell_type": "code",
   "execution_count": 21,
   "id": "bb0eaad5-d3f2-48e4-9922-505d025372b7",
   "metadata": {},
   "outputs": [],
   "source": [
    "# if __name__ == \"__main__\":\n",
    "    \n",
    "#     print(\"Train More script\\n\")\n",
    "#     logger.info(\"Train More\\n\")\n",
    "    \n",
    "#     model = train_loop(model, start_epoch=75, epochs_to_train=15)"
   ]
  },
  {
   "cell_type": "markdown",
   "id": "6e5e0386-520e-4452-a4bd-217a39e3478f",
   "metadata": {},
   "source": [
    "# Test with DFire MINI Dataset: Train and Test"
   ]
  },
  {
   "cell_type": "code",
   "execution_count": 22,
   "id": "ab9c8bf2-dce8-4ac5-82a9-abbd30a20b08",
   "metadata": {},
   "outputs": [],
   "source": [
    "# import importlib\n",
    "# importlib.reload(config)\n",
    "# importlib.reload(dataloaders)"
   ]
  },
  {
   "cell_type": "code",
   "execution_count": 23,
   "id": "1c7cc77c-6bdf-4d83-9358-61038a8b23bb",
   "metadata": {},
   "outputs": [
    {
     "name": "stdout",
     "output_type": "stream",
     "text": [
      "\n",
      "====================\n",
      "TRAIN DFire MINI dataset\n",
      "DFire Removed wrong images: 0\n",
      "DFire empty images: 20\n",
      "DFire only smoke images: 45\n",
      "DFire only fire images: 5\n",
      "DFire smoke and fire images: 30\n",
      "\n",
      "Test dataset len: 100\n",
      "\n",
      "====================\n",
      "TEST DFire MINI dataset\n",
      "DFire Removed wrong images: 0\n",
      "DFire empty images: 6\n",
      "DFire only smoke images: 13\n",
      "DFire only fire images: 2\n",
      "DFire smoke and fire images: 9\n",
      "\n",
      "Test dataset len: 30\n"
     ]
    }
   ],
   "source": [
    "train_dfire_mini_loader = dataloaders.get_dfire_mini_train_loader()\n",
    "test_dfire_mini_loader = dataloaders.get_dfire_mini_test_loader()"
   ]
  },
  {
   "cell_type": "markdown",
   "id": "46c18474-8bc6-4f26-9479-529412e9c71d",
   "metadata": {},
   "source": [
    "### Load Checkpoint with Best F1 Mean"
   ]
  },
  {
   "cell_type": "code",
   "execution_count": 24,
   "id": "b517a297-edea-4d37-9e5b-90ca2512c9e7",
   "metadata": {},
   "outputs": [],
   "source": [
    "model_path = config.WEIGHTS_FOLDER + config.MODEL + '_classifier__best_mean_F1.pt'"
   ]
  },
  {
   "cell_type": "code",
   "execution_count": 25,
   "id": "9b0959a9-9b84-4fd6-85a3-67fb519f6b10",
   "metadata": {},
   "outputs": [
    {
     "name": "stdout",
     "output_type": "stream",
     "text": [
      "Loading Model. Trained during 79 epochs\n"
     ]
    },
    {
     "data": {
      "text/plain": [
       "79"
      ]
     },
     "execution_count": 25,
     "metadata": {},
     "output_type": "execute_result"
    }
   ],
   "source": [
    "utils.load_checkpoint(\n",
    "    model_path, \n",
    "    model=model, \n",
    "    optimizer=optimizer, \n",
    "    scheduler=scheduler, \n",
    "    device=config.DEVICE)"
   ]
  },
  {
   "cell_type": "markdown",
   "id": "c8eb53e5-0b75-4bb0-8f45-d2e104d25a13",
   "metadata": {},
   "source": [
    "### Whole Test Loader, to check it is the same as training"
   ]
  },
  {
   "cell_type": "code",
   "execution_count": 26,
   "id": "9c1ae050-a816-407d-9569-5e5b6f84af6b",
   "metadata": {},
   "outputs": [
    {
     "name": "stderr",
     "output_type": "stream",
     "text": [
      "Validating: 100%|██████████████████████████████████████████████████████████████████████████████████████████████████████████████████████████████████████████| 380/380 [00:22<00:00, 16.53it/s]"
     ]
    },
    {
     "name": "stdout",
     "output_type": "stream",
     "text": [
      "Total Loss  |Smoke Loss  |Fire Loss   \n",
      "------------ ------------ ------------\n",
      "12.134      |7.314       |4.820       \n",
      "SMOKE -> Precision: 0.9592 - Recall: 0.9361 - Accuracy: 0.9511 - F1: 0.9475\n",
      "FIRE -> Precision: 0.9449 - Recall: 0.9815 - Accuracy: 0.9755 - F1: 0.9629\n"
     ]
    },
    {
     "name": "stderr",
     "output_type": "stream",
     "text": [
      "\n"
     ]
    }
   ],
   "source": [
    "with torch.no_grad():\n",
    "    val_losses, val_metrics = val_epoch.eval_fn(\n",
    "        loader=val_loader, \n",
    "        model=model,                         \n",
    "        loss_fn=loss_fn,\n",
    "        device=config.DEVICE)"
   ]
  },
  {
   "cell_type": "code",
   "execution_count": 27,
   "id": "bf582d94-1848-4729-8816-86f1211e9904",
   "metadata": {},
   "outputs": [],
   "source": [
    "logger.info('\\nTesting with FULL TEST LOADER')  \n",
    "#logger.info(val_losses)\n",
    "logger.info(val_metrics)"
   ]
  },
  {
   "cell_type": "markdown",
   "id": "36662803-7b09-4c43-9e14-5045635f86ab",
   "metadata": {},
   "source": [
    "### Train DFire MINI"
   ]
  },
  {
   "cell_type": "code",
   "execution_count": 28,
   "id": "d40dff6c-50a6-4fa9-af36-496730a81fab",
   "metadata": {},
   "outputs": [
    {
     "name": "stderr",
     "output_type": "stream",
     "text": [
      "Validating: 100%|█████████████████████████████████████████████████████████████████████████████████████████████████████████████████████████████████████████| 100/100 [00:00<00:00, 258.38it/s]"
     ]
    },
    {
     "name": "stdout",
     "output_type": "stream",
     "text": [
      "Total Loss  |Smoke Loss  |Fire Loss   \n",
      "------------ ------------ ------------\n",
      "0.262       |0.145       |0.117       \n",
      "SMOKE -> Precision: 0.9726 - Recall: 0.9467 - Accuracy: 0.9400 - F1: 0.9595\n",
      "FIRE -> Precision: 1.0000 - Recall: 0.9429 - Accuracy: 0.9800 - F1: 0.9706\n"
     ]
    },
    {
     "name": "stderr",
     "output_type": "stream",
     "text": [
      "\n"
     ]
    }
   ],
   "source": [
    "with torch.no_grad():\n",
    "    val_losses, val_metrics = val_epoch.eval_fn(\n",
    "        loader=train_dfire_mini_loader, \n",
    "        model=model,                         \n",
    "        loss_fn=loss_fn,\n",
    "        device=config.DEVICE)"
   ]
  },
  {
   "cell_type": "code",
   "execution_count": 29,
   "id": "9f864d7c-7da2-4c7c-b99a-f1943d722b13",
   "metadata": {},
   "outputs": [],
   "source": [
    "logger.info('\\nTesting with DFire MINI TRAIN after LOADING F1 Best Mean CHECKPOINT')  \n",
    "#logger.info(val_losses)\n",
    "logger.info(val_metrics)"
   ]
  },
  {
   "cell_type": "markdown",
   "id": "17c77cd9-05ef-4771-8707-82ba5f16ef0c",
   "metadata": {},
   "source": [
    "### Test DFire MINI"
   ]
  },
  {
   "cell_type": "code",
   "execution_count": 30,
   "id": "2c237df0-9726-42e9-8ebe-d738948fb047",
   "metadata": {},
   "outputs": [
    {
     "name": "stderr",
     "output_type": "stream",
     "text": [
      "Validating: 100%|███████████████████████████████████████████████████████████████████████████████████████████████████████████████████████████████████████████| 30/30 [00:00<00:00, 138.52it/s]"
     ]
    },
    {
     "name": "stdout",
     "output_type": "stream",
     "text": [
      "Total Loss  |Smoke Loss  |Fire Loss   \n",
      "------------ ------------ ------------\n",
      "0.162       |0.111       |0.050       \n",
      "SMOKE -> Precision: 1.0000 - Recall: 0.9091 - Accuracy: 0.9333 - F1: 0.9524\n",
      "FIRE -> Precision: 1.0000 - Recall: 1.0000 - Accuracy: 1.0000 - F1: 1.0000\n"
     ]
    },
    {
     "name": "stderr",
     "output_type": "stream",
     "text": [
      "\n"
     ]
    }
   ],
   "source": [
    "with torch.no_grad():\n",
    "    val_losses, val_metrics = val_epoch.eval_fn(\n",
    "        loader=test_dfire_mini_loader, \n",
    "        model=model,                         \n",
    "        loss_fn=loss_fn,\n",
    "        device=config.DEVICE)"
   ]
  },
  {
   "cell_type": "code",
   "execution_count": 31,
   "id": "06fdf6f8-b716-4ee3-a29a-ea9972387cd8",
   "metadata": {},
   "outputs": [],
   "source": [
    "logger.info('\\nTesting with DFire MINI TEST after LOADING F1 Best Mean CHECKPOINT')  \n",
    "#logger.info(val_losses)\n",
    "logger.info(val_metrics)"
   ]
  },
  {
   "cell_type": "markdown",
   "id": "91b39d52-262f-47ba-9793-80bac83f92bb",
   "metadata": {},
   "source": [
    "# Export to ONNX"
   ]
  },
  {
   "cell_type": "code",
   "execution_count": 32,
   "id": "3c1117cc-5daf-4352-a4a0-015ddba077c3",
   "metadata": {},
   "outputs": [],
   "source": [
    "model.cpu();"
   ]
  },
  {
   "cell_type": "code",
   "execution_count": 33,
   "id": "d38182ac-9d8c-4325-99da-645cf5240ab7",
   "metadata": {
    "tags": []
   },
   "outputs": [],
   "source": [
    "torch_input = torch.randn(1, 3, 224, 224)\n",
    "torch.onnx.export(model, torch_input, config.ONNX_FOLDER + \"mbnet_mini.onnx\")"
   ]
  }
 ],
 "metadata": {
  "kernelspec": {
   "display_name": "Python 3 (ipykernel)",
   "language": "python",
   "name": "python3"
  },
  "language_info": {
   "codemirror_mode": {
    "name": "ipython",
    "version": 3
   },
   "file_extension": ".py",
   "mimetype": "text/x-python",
   "name": "python",
   "nbconvert_exporter": "python",
   "pygments_lexer": "ipython3",
   "version": "3.10.13"
  }
 },
 "nbformat": 4,
 "nbformat_minor": 5
}
