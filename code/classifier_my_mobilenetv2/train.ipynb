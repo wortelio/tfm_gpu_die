{
 "cells": [
  {
   "cell_type": "code",
   "execution_count": 1,
   "id": "ced39284-e77a-4bb4-b4f4-1e32f8dc378b",
   "metadata": {},
   "outputs": [
    {
     "name": "stderr",
     "output_type": "stream",
     "text": [
      "INFO:albumentations.check_version:A new version of Albumentations is available: 2.0.4 (you have 1.4.10). Upgrade using: pip install --upgrade albumentations\n"
     ]
    }
   ],
   "source": [
    "import logging\n",
    "import datetime\n",
    "\n",
    "import numpy as np\n",
    "import torch\n",
    "from torch.nn.utils import parameters_to_vector\n",
    "import torch.optim as optim\n",
    "from torchinfo import summary\n",
    "\n",
    "import matplotlib.pyplot as plt\n",
    "\n",
    "import config\n",
    "import modules.dataloaders as dataloaders\n",
    "\n",
    "# import modules.model_mobilenetv2 as cnv_model\n",
    "# import modules.model_mobilenetv2_small as cnv_model\n",
    "# import modules.model_mobilenetv2_mini_Resnet as cnv_model\n",
    "# import modules.model_mobilenetv2_mini as cnv_model\n",
    "\n",
    "import modules.model_mobilenetv2_mini_Resnet_Sparse as cnv_model\n",
    "\n",
    "# import modules.models.model_mobilenetv2_original as cnv_model\n",
    "\n",
    "import modules.loss as loss\n",
    "import modules.metrics as metrics\n",
    "import modules.train_epoch as train_epoch\n",
    "import modules.val_epoch as val_epoch\n",
    "import modules.utils as utils"
   ]
  },
  {
   "cell_type": "code",
   "execution_count": 2,
   "id": "8c9f1ed9-bdb0-4417-ac3d-cec7acef5117",
   "metadata": {},
   "outputs": [],
   "source": [
    "# from brevitas.export import export_onnx_qcdq\n",
    "# from brevitas.export import export_qonnx"
   ]
  },
  {
   "cell_type": "markdown",
   "id": "41561148-0730-471e-85f3-f6baff142607",
   "metadata": {},
   "source": [
    "# Reimport"
   ]
  },
  {
   "cell_type": "code",
   "execution_count": 3,
   "id": "7bc1fffe-379c-4e1d-bf8c-82e51fbc7ea8",
   "metadata": {
    "tags": []
   },
   "outputs": [],
   "source": [
    "# import importlib\n",
    "# importlib.reload(config)"
   ]
  },
  {
   "cell_type": "markdown",
   "id": "4e2413f4-083b-4ddd-bf51-0332c1166d47",
   "metadata": {},
   "source": [
    "# Logger"
   ]
  },
  {
   "cell_type": "code",
   "execution_count": 4,
   "id": "9006bcad-639b-4775-b5a6-2fd13420cbb2",
   "metadata": {},
   "outputs": [],
   "source": [
    "log_path = config.LOGS_FOLDER\n",
    "\n",
    "logger = logging.getLogger(\"GonLogger\")\n",
    "logger.propagate = False\n",
    "logger.setLevel(logging.INFO)\n",
    "file_handler = logging.FileHandler(log_path + 'logfile.log')\n",
    "formatter = logging.Formatter('%(message)s')\n",
    "file_handler.setFormatter(formatter)\n",
    "\n",
    "# add file handler to logger\n",
    "logger.addHandler(file_handler)\n",
    "\n",
    "logger.info(f'{config.MODEL} Classifier.\\n' +  \n",
    "            '\\tOne Head.\\n' +\n",
    "            '\\tWeighted for Precision.\\n' +\n",
    "            '\\tBrevitas Default.\\n'+ \n",
    "            '\\tDataset images divided by 255.\\n')"
   ]
  },
  {
   "cell_type": "markdown",
   "id": "3884364d-ec36-4e80-a0d5-c5d259f4b313",
   "metadata": {},
   "source": [
    "# Hyperparameters Log"
   ]
  },
  {
   "cell_type": "code",
   "execution_count": 5,
   "id": "25fe6b1d-7f69-48d4-80a2-219e19c33016",
   "metadata": {},
   "outputs": [
    {
     "name": "stdout",
     "output_type": "stream",
     "text": [
      "\n",
      "Datasets Length\n",
      "\tTrain and Val: 128\n",
      "\n",
      "Load Model: False\n",
      "Width Mult: 1.0\n",
      "Device: cuda\n",
      "Optimizer:\n",
      "\tLearning Rate: 0.001\n",
      "\tWeight Decay: 0.001\n",
      "Scheduler:\n",
      "\tScheduler factor: 0.8\n",
      "\tScheduler patience: 2\n",
      "\tScheduler threshold: 0.001\n",
      "\tScheduler min learning rate: 1e-06\n",
      "Batch Size: 128\n",
      "Num Workers: 8\n",
      "Pin Memory: True\n",
      "Epochs: 8\n",
      "\n",
      "IMG DIMS:\n",
      "\tWidth: 224\n",
      "\tHeight: 224\n",
      "\n",
      "Brevitas Config:\n",
      "\tFixed Point: True\n",
      "\tWeights Bit Width: 4\n",
      "\tBig Layers Weights Bit Width: 4\n",
      "\tBias Bit Width: 4\n",
      "\tActivations Bit Width: 4\n"
     ]
    }
   ],
   "source": [
    "''' ============================\n",
    "    Print Config Values\n",
    "============================ '''\n",
    "print('\\nDatasets Length')\n",
    "print(f'\\tTrain and Val: {\"Full\" if config.DS_LEN == None else config.DS_LEN}')\n",
    "print(f'\\nLoad Model: {config.LOAD_MODEL}')\n",
    "if (config.LOAD_MODEL == True):\n",
    "    print(f'\\tModel: {config.LOAD_MODEL_FILE}')\n",
    "print(f'Width Mult: {config.WIDTH_MULT}')\n",
    "print(f'Device: {config.DEVICE}')\n",
    "print('Optimizer:')\n",
    "print(f'\\tLearning Rate: {config.LEARNING_RATE}')\n",
    "print(f'\\tWeight Decay: {config.WEIGHT_DECAY}')\n",
    "print('Scheduler:')\n",
    "print(f'\\tScheduler factor: {config.FACTOR}')\n",
    "print(f'\\tScheduler patience: {config.PATIENCE}')\n",
    "print(f'\\tScheduler threshold: {config.THRES}')\n",
    "print(f'\\tScheduler min learning rate: {config.MIN_LR}')\n",
    "print(f'Batch Size: {config.BATCH_SIZE}')\n",
    "print(f'Num Workers: {config.NUM_WORKERS}')\n",
    "print(f'Pin Memory: {config.PIN_MEMORY}')\n",
    "print(f'Epochs: {config.EPOCHS}')\n",
    "print('\\nIMG DIMS:')\n",
    "print(f'\\tWidth: {config.IMG_W}\\n\\tHeight: {config.IMG_H}')\n",
    "print('\\nBrevitas Config:')\n",
    "print(f'\\tFixed Point: {config.FIXED_POINT}')\n",
    "print(f'\\tWeights Bit Width: {config.WEIGHTS_BIT_WIDTH}')\n",
    "print(f'\\tBig Layers Weights Bit Width: {config.BIG_LAYERS_WEIGHTS_BIT_WIDTH}')\n",
    "print(f'\\tBias Bit Width: {config.BIAS_BIT_WIDTH}')\n",
    "print(f'\\tActivations Bit Width: {config.ACTIVATIONS_BIT_WIDTH}')\n",
    "\n",
    "logger.info('\\nDatasets Length')\n",
    "logger.info(f'\\tTrain and Val: {\"Full\" if config.DS_LEN == None else config.DS_LEN}')\n",
    "logger.info(f'\\nLoad Model: {config.LOAD_MODEL}')\n",
    "if (config.LOAD_MODEL == True):\n",
    "    logger.info(f'\\tModel: {config.LOAD_MODEL_FILE}')\n",
    "logger.info(f'Width Mult: {config.WIDTH_MULT}')\n",
    "logger.info(f'\\nDevice: {config.DEVICE}')\n",
    "logger.info('Optimizer:')\n",
    "logger.info(f'\\tLearning Rate: {config.LEARNING_RATE}')\n",
    "logger.info(f'\\tWeight Decay: {config.WEIGHT_DECAY}')\n",
    "logger.info('Scheduler:')\n",
    "logger.info(f'\\tScheduler factor: {config.FACTOR}')\n",
    "logger.info(f'\\tScheduler patience: {config.PATIENCE}')\n",
    "logger.info(f'\\tScheduler threshold: {config.THRES}')\n",
    "logger.info(f'\\tScheduler min learning rate: {config.MIN_LR}')\n",
    "logger.info(f'\\nBatch Size: {config.BATCH_SIZE}')\n",
    "logger.info(f'Num Workers: {config.NUM_WORKERS}')\n",
    "logger.info(f'Pin Memory: {config.PIN_MEMORY}')\n",
    "logger.info(f'Epochs: {config.EPOCHS}')\n",
    "logger.info('\\nIMG DIMS:')\n",
    "logger.info(f'\\tWidth: {config.IMG_W}\\n\\tHeight: {config.IMG_H}')\n",
    "logger.info('\\nBrevitas Config:')\n",
    "logger.info(f'\\tFixed Point: {config.FIXED_POINT}')\n",
    "logger.info(f'\\tWeights Bit Width: {config.WEIGHTS_BIT_WIDTH}')\n",
    "logger.info(f'\\tBig Layers Weights Bit Width: {config.BIG_LAYERS_WEIGHTS_BIT_WIDTH}')\n",
    "logger.info(f'\\tBias Bit Width: {config.BIAS_BIT_WIDTH}')\n",
    "logger.info(f'\\tActivations Bit Width: {config.ACTIVATIONS_BIT_WIDTH}')"
   ]
  },
  {
   "cell_type": "markdown",
   "id": "c48611bc-7a36-41f5-a80c-5cc442bd40fd",
   "metadata": {},
   "source": [
    "# Dataloaders"
   ]
  },
  {
   "cell_type": "code",
   "execution_count": 6,
   "id": "125fadde-618b-4a0d-8d1e-86f4b46a35a2",
   "metadata": {},
   "outputs": [
    {
     "name": "stdout",
     "output_type": "stream",
     "text": [
      "\n",
      "====================\n",
      "TRAIN DFIRE dataset\n",
      "DFire Removed wrong images: 0\n",
      "DFire empty images: 56\n",
      "DFire only smoke images: 37\n",
      "DFire only fire images: 8\n",
      "DFire smoke and fire images: 27\n",
      "\n",
      "Train DFire dataset len: 128\n",
      "\n",
      "====================\n",
      "TRAIN FASDD UAV dataset\n",
      "FASDD Removed wrong images: 0\n",
      "FASDD empty images: 58\n",
      "FASDD only smoke images: 22\n",
      "FASDD only fire images: 2\n",
      "FASDD smoke and fire images: 46\n",
      "\n",
      "Train FASDD UAV dataset len: 128\n",
      "\n",
      "====================\n",
      "VAL FASDD UAV dataset\n",
      "FASDD Removed wrong images: 0\n",
      "FASDD empty images: 59\n",
      "FASDD only smoke images: 26\n",
      "FASDD only fire images: 2\n",
      "FASDD smoke and fire images: 41\n",
      "\n",
      "Val FASDD UAV dataset len: 128\n",
      "\n",
      "====================\n",
      "TRAIN FASDD CV dataset\n",
      "FASDD Removed wrong images: 0\n",
      "FASDD empty images: 53\n",
      "FASDD only smoke images: 36\n",
      "FASDD only fire images: 19\n",
      "FASDD smoke and fire images: 20\n",
      "\n",
      "Train FASDD CV dataset len: 128\n",
      "\n",
      "====================\n",
      "Val FASDD CV dataset\n",
      "FASDD Removed wrong images: 0\n",
      "FASDD empty images: 50\n",
      "FASDD only smoke images: 32\n",
      "FASDD only fire images: 20\n",
      "FASDD smoke and fire images: 26\n",
      "\n",
      "Val FASDD CV dataset len: 128\n",
      "\n",
      "==================== CONCATENATE\n",
      "\n",
      "Concatenate Train DFire and Train FASDD UAV datasets\n",
      "Train dataset len: 256\n",
      "Concatenate with Val FASDD UAV dataset\n",
      "Train dataset len: 384\n",
      "Concatenate with Train FASDD CV dataset\n",
      "Train dataset len: 512\n",
      "Concatenate with Val FASDD CV dataset\n",
      "Train dataset len: 640\n",
      "\n",
      "====================\n",
      "TEST DFire dataset\n",
      "DFire Removed wrong images: 0\n",
      "DFire empty images: 62\n",
      "DFire only smoke images: 31\n",
      "DFire only fire images: 5\n",
      "DFire smoke and fire images: 30\n",
      "\n",
      "Test dataset len: 128\n",
      "\n",
      "====================\n",
      "TEST FASDD UAV dataset\n",
      "FASDD Removed wrong images: 0\n",
      "FASDD empty images: 57\n",
      "FASDD only smoke images: 28\n",
      "FASDD only fire images: 1\n",
      "FASDD smoke and fire images: 42\n",
      "\n",
      "Test FASDD UAV dataset len: 128\n",
      "\n",
      "====================\n",
      "TEST FASDD CV dataset\n",
      "FASDD Removed wrong images: 0\n",
      "FASDD empty images: 59\n",
      "FASDD only smoke images: 31\n",
      "FASDD only fire images: 12\n",
      "FASDD smoke and fire images: 26\n",
      "\n",
      "Test FASDD CV dataset len: 128\n",
      "\n",
      "==================== CONCATENATE\n",
      "Concatenate Test DFire and FASDD UAV datasets\n",
      "Test dataset len: 256\n",
      "Concatenate with FASDD CV dataset\n",
      "Test dataset len: 384\n"
     ]
    }
   ],
   "source": [
    "train_loader = dataloaders.get_train_loader()\n",
    "val_loader = dataloaders.get_val_loader()"
   ]
  },
  {
   "cell_type": "markdown",
   "id": "dc4f85af-69db-4dcc-83b5-2e3d9663c26c",
   "metadata": {},
   "source": [
    "### Datasets Length"
   ]
  },
  {
   "cell_type": "code",
   "execution_count": 7,
   "id": "9309da85-b55e-4926-930b-ab77e5fd470c",
   "metadata": {},
   "outputs": [
    {
     "name": "stdout",
     "output_type": "stream",
     "text": [
      "Train Dataset Length: 640\n",
      "Test Dataset Length: 384\n"
     ]
    }
   ],
   "source": [
    "logger.info(\"\\n********* Datasets Length *********\")\n",
    "\n",
    "print(f'Train Dataset Length: {len(train_loader.dataset)}')\n",
    "logger.info(f'Train Dataset Length: {len(train_loader.dataset)}')\n",
    "\n",
    "print(f'Test Dataset Length: {len(val_loader.dataset)}')\n",
    "logger.info(f'Test Dataset Length: {len(val_loader.dataset)}')"
   ]
  },
  {
   "cell_type": "markdown",
   "id": "841b4bfc-55f6-4692-a5de-8f457d17472c",
   "metadata": {},
   "source": [
    "### Plot Some Train Pictures"
   ]
  },
  {
   "cell_type": "code",
   "execution_count": 8,
   "id": "f18dab26-cb88-4c13-ad66-a5cc8176a0f0",
   "metadata": {},
   "outputs": [],
   "source": [
    "for i, (img, label) in enumerate(train_loader):\n",
    "\n",
    "    plt.subplots(8,4, figsize=(8, 16))\n",
    "    \n",
    "    for idx in range(config.BATCH_SIZE):\n",
    "        plt.subplot(8, 4, idx+1)\n",
    "        plt.imshow(img[idx].permute(1, 2, 0))\n",
    "        title = \"\"\n",
    "        if label[idx][0] == 1 and label[idx][1] == 1:\n",
    "            title += \"Smoke and Fire\"\n",
    "        elif label[idx][0] == 1 and label[idx][1] == 0:\n",
    "            title += \"Only Smoke\"\n",
    "        elif label[idx][0] == 0 and label[idx][1] == 1:\n",
    "            title += \"Only Fire\"\n",
    "        else:\n",
    "            title += \"Empty\"\n",
    "        plt.title(title)\n",
    "        \n",
    "        if (idx == 31):\n",
    "            break\n",
    "    plt.tight_layout()\n",
    "    plt.savefig(config.RUN_FOLDER + 'train_pictures.png')\n",
    "    #plt.show()\n",
    "    plt.close()\n",
    "    break"
   ]
  },
  {
   "cell_type": "markdown",
   "id": "3f38c400-7e28-46fd-8cab-fb537e5bb248",
   "metadata": {},
   "source": [
    "### Plot Some Val Pictures"
   ]
  },
  {
   "cell_type": "code",
   "execution_count": 9,
   "id": "60efe557-e316-4ec3-a850-3e671f04b1a8",
   "metadata": {},
   "outputs": [],
   "source": [
    "for i, (img, label) in enumerate(val_loader):\n",
    "\n",
    "    plt.subplots(8,4, figsize=(8, 16))\n",
    "    \n",
    "    for idx in range(config.BATCH_SIZE):\n",
    "        plt.subplot(8, 4, idx+1)\n",
    "        plt.imshow(img[idx].permute(1, 2, 0))\n",
    "        title = \"\"\n",
    "        if label[idx][0] == 1 and label[idx][1] == 1:\n",
    "            title += \"Smoke and Fire\"\n",
    "        elif label[idx][0] == 1 and label[idx][1] == 0:\n",
    "            title += \"Only Smoke\"\n",
    "        elif label[idx][0] == 0 and label[idx][1] == 1:\n",
    "            title += \"Only Fire\"\n",
    "        else:\n",
    "            title += \"Empty\"\n",
    "        plt.title(title)\n",
    "        \n",
    "        if (idx == 31):\n",
    "            break\n",
    "    plt.tight_layout()\n",
    "    plt.savefig(config.RUN_FOLDER + 'val_pictures.png')\n",
    "    plt.close()\n",
    "    break"
   ]
  },
  {
   "cell_type": "markdown",
   "id": "32673ea5-65c2-418d-b4bb-dc52d5fc0cb5",
   "metadata": {},
   "source": [
    "# Load Model"
   ]
  },
  {
   "cell_type": "code",
   "execution_count": 10,
   "id": "65f05240-0c38-4f73-b06d-bf9ceefcb369",
   "metadata": {},
   "outputs": [],
   "source": [
    "# model = cnv_model.MobileNetV2().to(config.DEVICE)\n",
    "# model = cnv_model.MobileNetV2_SMALL().to(config.DEVICE)\n",
    "\n",
    "# model = cnv_model.MobileNetV2_MINI_RESNET().to(config.DEVICE)\n",
    "# model = cnv_model.MobileNetV2_MINI().to(config.DEVICE)\n",
    "\n",
    "model = cnv_model.MobileNetV2_MINI_RESNET_SPARSE().to(config.DEVICE)\n",
    "\n",
    "# model = cnv_model.MobileNetV2(width_mult=config.WIDTH_MULT).to(config.DEVICE)"
   ]
  },
  {
   "cell_type": "markdown",
   "id": "578c963b-1a73-4b8b-9646-8ad392dd4eee",
   "metadata": {},
   "source": [
    "### Optimizer and Scheduler"
   ]
  },
  {
   "cell_type": "code",
   "execution_count": 11,
   "id": "e2284272-f9fc-4adb-a7c4-81ac3956d95b",
   "metadata": {},
   "outputs": [],
   "source": [
    "optimizer = optim.Adam(model.parameters(), \n",
    "                       lr=config.LEARNING_RATE, \n",
    "                       weight_decay=config.WEIGHT_DECAY)\n",
    "\n",
    "scheduler = optim.lr_scheduler.ReduceLROnPlateau(optimizer, \n",
    "                                                 mode='min',\n",
    "                                                 factor=config.FACTOR, \n",
    "                                                 patience=config.PATIENCE, \n",
    "                                                 threshold=config.THRES, \n",
    "                                                 threshold_mode='abs',\n",
    "                                                 min_lr=config.MIN_LR)\n",
    "\n"
   ]
  },
  {
   "cell_type": "markdown",
   "id": "1d0bac02-ea2e-40b6-9f71-456b3f3cf943",
   "metadata": {},
   "source": [
    "### Parameters"
   ]
  },
  {
   "cell_type": "code",
   "execution_count": 12,
   "id": "ce30cdae-4cb8-4399-9766-49932d6a4bed",
   "metadata": {},
   "outputs": [
    {
     "name": "stdout",
     "output_type": "stream",
     "text": [
      "\n",
      "Trainable parameters = 68498\n",
      "Total parameters = 68498\n",
      "\n"
     ]
    }
   ],
   "source": [
    "n_trainable = sum(p.numel() for p in model.parameters() if p.requires_grad)\n",
    "print(f'\\nTrainable parameters = {n_trainable}')\n",
    "logger.info(f'\\nTrainable parameters = {n_trainable}')\n",
    "\n",
    "n_params = parameters_to_vector(model.parameters()).numel()\n",
    "print(f'Total parameters = {n_params}\\n')\n",
    "logger.info(f'Total parameters = {n_params}\\n')"
   ]
  },
  {
   "cell_type": "markdown",
   "id": "cfb33a7e-b560-4446-bd60-8621483adfdc",
   "metadata": {},
   "source": [
    "### Check Model Shape: Random Input"
   ]
  },
  {
   "cell_type": "code",
   "execution_count": 13,
   "id": "d80f00c5-183d-431b-bf8a-26551c390cae",
   "metadata": {},
   "outputs": [
    {
     "name": "stdout",
     "output_type": "stream",
     "text": [
      "Model shape is tensor([[0.0166, 0.0508],\n",
      "        [0.0172, 0.0503],\n",
      "        [0.0220, 0.0597],\n",
      "        [0.0205, 0.0540]], device='cuda:0', grad_fn=<AddmmBackward0>)\n"
     ]
    }
   ],
   "source": [
    "dummy_input = np.random.rand(4, config.NUM_CHANNELS, config.IMG_H, config.IMG_W)\n",
    "dummy_input = torch.tensor(dummy_input, dtype=torch.float32, device=config.DEVICE)\n",
    "out_test = model(dummy_input)\n",
    "print(f'Model shape is {out_test}')\n",
    "#print(f'BED Model Arquitecture\\n{cnv_model}')"
   ]
  },
  {
   "cell_type": "markdown",
   "id": "6a769672-efb0-4727-8322-8c68795d0efb",
   "metadata": {},
   "source": [
    "### Torchinfo and Print Model"
   ]
  },
  {
   "cell_type": "code",
   "execution_count": 14,
   "id": "607141f0-be35-4feb-8635-c63724d1503e",
   "metadata": {},
   "outputs": [
    {
     "name": "stdout",
     "output_type": "stream",
     "text": [
      "==========================================================================================\n",
      "Layer (type:depth-idx)                   Output Shape              Param #\n",
      "==========================================================================================\n",
      "MobileNetV2_MINI_RESNET_SPARSE           [1, 2]                    --\n",
      "├─Sequential: 1-1                        [1, 64, 14, 14]           --\n",
      "│    └─Sequential: 2-1                   [1, 24, 112, 112]         --\n",
      "│    │    └─Conv2d: 3-1                  [1, 24, 112, 112]         648\n",
      "│    │    └─BatchNorm2d: 3-2             [1, 24, 112, 112]         48\n",
      "│    │    └─ReLU: 3-3                    [1, 24, 112, 112]         --\n",
      "│    └─InvertedBlock: 2-2                [1, 8, 112, 112]          --\n",
      "│    │    └─Sequential: 3-4              [1, 8, 112, 112]          472\n",
      "│    └─InvertedBlock: 2-3                [1, 16, 56, 56]           --\n",
      "│    │    └─Sequential: 3-5              [1, 16, 56, 56]           624\n",
      "│    └─InvertedBlock: 2-4                [1, 16, 56, 56]           --\n",
      "│    │    └─Sequential: 3-6              [1, 16, 56, 56]           1,472\n",
      "│    └─InvertedBlock: 2-5                [1, 24, 28, 28]           --\n",
      "│    │    └─Sequential: 3-7              [1, 24, 28, 28]           1,744\n",
      "│    └─InvertedBlock: 2-6                [1, 24, 28, 28]           --\n",
      "│    │    └─Sequential: 3-8              [1, 24, 28, 28]           2,976\n",
      "│    └─InvertedBlock: 2-7                [1, 32, 14, 14]           --\n",
      "│    │    └─Sequential: 3-9              [1, 32, 14, 14]           6,688\n",
      "│    └─InvertedBlock: 2-8                [1, 32, 14, 14]           --\n",
      "│    │    └─Sequential: 3-10             [1, 32, 14, 14]           9,920\n",
      "│    └─InvertedBlock: 2-9                [1, 32, 14, 14]           --\n",
      "│    │    └─Sequential: 3-11             [1, 32, 14, 14]           9,920\n",
      "│    └─InvertedBlock: 2-10               [1, 64, 14, 14]           --\n",
      "│    │    └─Sequential: 3-12             [1, 64, 14, 14]           7,104\n",
      "│    └─InvertedBlock: 2-11               [1, 64, 14, 14]           --\n",
      "│    │    └─Sequential: 3-13             [1, 64, 14, 14]           18,176\n",
      "├─Sequential: 1-2                        [1, 128, 14, 14]          --\n",
      "│    └─Conv2d: 2-12                      [1, 128, 14, 14]          8,192\n",
      "│    └─BatchNorm2d: 2-13                 [1, 128, 14, 14]          256\n",
      "│    └─ReLU: 2-14                        [1, 128, 14, 14]          --\n",
      "├─AdaptiveAvgPool2d: 1-3                 [1, 128, 1, 1]            --\n",
      "├─Linear: 1-4                            [1, 2]                    258\n",
      "==========================================================================================\n",
      "Total params: 68,498\n",
      "Trainable params: 68,498\n",
      "Non-trainable params: 0\n",
      "Total mult-adds (M): 37.40\n",
      "==========================================================================================\n",
      "Input size (MB): 0.60\n",
      "Forward/backward pass size (MB): 29.30\n",
      "Params size (MB): 0.27\n",
      "Estimated Total Size (MB): 30.18\n",
      "==========================================================================================\n"
     ]
    }
   ],
   "source": [
    "print(summary(model, input_size=(1, config.NUM_CHANNELS, config.IMG_H, config.IMG_W)))"
   ]
  },
  {
   "cell_type": "code",
   "execution_count": 15,
   "id": "6d7096a2-e624-44b2-88fe-1e13e1ef6f71",
   "metadata": {
    "tags": []
   },
   "outputs": [],
   "source": [
    "logger.info(\"\\nTorch Summary\")\n",
    "logger.info(summary(model, input_size=(1, config.NUM_CHANNELS, config.IMG_H, config.IMG_W)))"
   ]
  },
  {
   "cell_type": "code",
   "execution_count": 16,
   "id": "48f5d604-3a80-497a-a710-f0dcf9c6f465",
   "metadata": {
    "tags": []
   },
   "outputs": [],
   "source": [
    "logger.info(\"\\nTorch Model\")\n",
    "logger.info(model)"
   ]
  },
  {
   "cell_type": "markdown",
   "id": "61d74ed9-984a-4f66-8121-d1152fecad98",
   "metadata": {},
   "source": [
    "# Loss Function"
   ]
  },
  {
   "cell_type": "code",
   "execution_count": 17,
   "id": "6efb3c84-4076-4694-8505-2c3c0ee9aa1e",
   "metadata": {},
   "outputs": [
    {
     "name": "stdout",
     "output_type": "stream",
     "text": [
      "Loss Function: BCE\n",
      "Smoke Precision Weight: 0.8\n"
     ]
    }
   ],
   "source": [
    "if config.LOSS_FN == \"BCE\":\n",
    "    print(f'Loss Function: BCE')\n",
    "    logger.info(f'\\nLoss Function: BCE')\n",
    "    print(f'Smoke Precision Weight: {config.SMOKE_PRECISION_WEIGHT}')\n",
    "    logger.info(f'Smoke Precision Weight: {config.SMOKE_PRECISION_WEIGHT}')\n",
    "    loss_fn = loss.BCE_LOSS(device=config.DEVICE, smoke_precision_weight=config.SMOKE_PRECISION_WEIGHT)\n",
    "else:\n",
    "    print(\"Wrong loss function\")\n",
    "    logger.info(\"Wrong loss function\")\n",
    "    raise SystemExit(\"Wrong loss function\")"
   ]
  },
  {
   "cell_type": "markdown",
   "id": "d7f25227-bbcd-43e9-a41b-70a324900a21",
   "metadata": {},
   "source": [
    "# Loggers and Plotters for Losses and Metrics"
   ]
  },
  {
   "cell_type": "code",
   "execution_count": 18,
   "id": "bb75d214-f372-4aee-a196-c43276145a66",
   "metadata": {},
   "outputs": [],
   "source": [
    "train_losses_logger = utils.LogLosses()\n",
    "train_metrics_logger = utils.LogMetrics()\n",
    "lr_logger = utils.LogLR(log_path=config.PLOTS_FOLDER)\n",
    "\n",
    "val_losses_logger = utils.LogLosses()\n",
    "val_metrics_logger = utils.LogMetrics()\n",
    "\n",
    "loss_plotter = utils.PlotMetrics(log_path=config.PLOTS_FOLDER, model_name=config.MODEL, loss_or_metric='Loss')\n",
    "metrics_plotter = utils.PlotMetrics(log_path=config.PLOTS_FOLDER, model_name=config.MODEL, loss_or_metric='Metric')"
   ]
  },
  {
   "cell_type": "markdown",
   "id": "80f38d11-6099-48cd-9f95-f5b0be87d804",
   "metadata": {},
   "source": [
    "# Main Function to Train"
   ]
  },
  {
   "cell_type": "code",
   "execution_count": 19,
   "id": "180683fc-5a55-4f1c-9d6e-c8ffa10be16a",
   "metadata": {},
   "outputs": [],
   "source": [
    "def train_loop(model, start_epoch=0, epochs_to_train=config.EPOCHS):\n",
    "\n",
    "    ''' ==============================================================\n",
    "                                TRAINING LOOP\n",
    "    ============================================================== '''\n",
    "    start = datetime.datetime.now()\n",
    "    start_time = start.strftime(\"%H:%M:%S\")\n",
    "    print(f'\\n***Start Training: {start_time}\\n')\n",
    "    logger.info(f'\\n***Start Training: {start_time}\\n')\n",
    "    \n",
    "    # Start with infinite validation loss\n",
    "    best_valid_loss = np.inf\n",
    "    best_smoke_precision = 0. #torch.tensor([0.])\n",
    "    smoke_f1_min_save = 0.9 #torch.tensor([0.9])\n",
    "    best_mean_f1 = 0.\n",
    "\n",
    "    if start_epoch == 0:\n",
    "        epochs_plot = []\n",
    "    else:\n",
    "        epochs_plot = [i for i in range(start_epoch)]    \n",
    "\n",
    "    end_epoch = start_epoch + epochs_to_train\n",
    "        \n",
    "    for epoch in range(start_epoch, end_epoch):\n",
    "\n",
    "        print(f'\\n=== EPOCH {epoch}/{end_epoch-1} ===')\n",
    "        logger.info(f'\\n=== EPOCH {epoch}/{end_epoch-1} ===')\n",
    "        \n",
    "        #====================== TRAINING ========================#\n",
    "        current_lr = train_epoch.get_lr(optimizer=optimizer)\n",
    "        logger.info(f'Learning Rate = {current_lr}\\n')\n",
    "        lr_logger.log_lr(current_lr)\n",
    "                \n",
    "        train_losses, train_metrics = train_epoch.train_fn(\n",
    "            loader=train_loader, \n",
    "            model=model, \n",
    "            optimizer=optimizer, \n",
    "            loss_fn=loss_fn,\n",
    "            device=config.DEVICE)\n",
    "        \n",
    "        train_losses_logger.update_metrics(train_losses)\n",
    "        train_metrics_logger.update_metrics(train_metrics)\n",
    "                \n",
    "        logger.info(utils.print_metrics_to_logger(\"TRAIN Stats\", train_losses, train_metrics))\n",
    "        \n",
    "        #===================== VALIDATING =======================#\n",
    "        with torch.no_grad():\n",
    "            val_losses, val_metrics = val_epoch.eval_fn(\n",
    "                loader=val_loader, \n",
    "                model=model,                         \n",
    "                loss_fn=loss_fn,\n",
    "                device=config.DEVICE)\n",
    "            \n",
    "            scheduler.step(val_losses['Total'])\n",
    "            \n",
    "            val_losses_logger.update_metrics(val_losses)\n",
    "            val_metrics_logger.update_metrics(val_metrics)\n",
    "\n",
    "            logger.info(utils.print_metrics_to_logger(\"VAL Stats\", val_losses, val_metrics))\n",
    "            \n",
    "        epochs_plot.append(epoch)\n",
    "\n",
    "        loss_plotter.plot_all_metrics(\n",
    "            train_losses_logger.get_metrics(),\n",
    "            val_losses_logger.get_metrics(),\n",
    "            epochs_plot)\n",
    "\n",
    "        metrics_plotter.plot_all_metrics(\n",
    "            train_metrics_logger.get_metrics(),\n",
    "            val_metrics_logger.get_metrics(),\n",
    "            epochs_plot)\n",
    "\n",
    "        lr_logger.plot_lr(epochs_plot)\n",
    "        #======================= SAVING =========================#\n",
    "        if ( (epoch+1) % 5 ) == 0:\n",
    "            save_name = config.WEIGHTS_FOLDER + config.MODEL + '_classifier__5epoch.pt'\n",
    "            utils.save_checkpoint(epoch, model, optimizer, scheduler, save_name) \n",
    "            \n",
    "        if best_valid_loss > val_losses['Total']:\n",
    "            best_valid_loss = val_losses['Total']\n",
    "            print(f\"\\nSaving model with new best validation loss: {best_valid_loss:.4f}\")\n",
    "            logger.info(f\"Saving model with new best validation loss: {best_valid_loss:.4f}\")\n",
    "            save_name = config.WEIGHTS_FOLDER + config.MODEL + '_classifier__' + 'best_loss'  + '.pt'\n",
    "            utils.save_checkpoint(epoch, model, optimizer, scheduler, save_name) \n",
    "            save_onnx = config.ONNX_FOLDER + config.MODEL + '_classifier__' + 'best_loss'  #+ '.onnx'\n",
    "            # utils.export_onnx(model, (1, config.NUM_CHANNELS, config.IMG_H, config.IMG_W), save_onnx, config.DEVICE)\n",
    "\n",
    "        # # Save model if precision increases and F1 > 0.9\n",
    "        # if ( best_smoke_precision < val_metrics['Precision'][0] ) and ( val_metrics['F1'][0] > smoke_f1_min_save ) :\n",
    "        #     best_smoke_precision = val_metrics['Precision'][0]\n",
    "        #     print(f\"\\nSaving model with new best smoke precision: {best_smoke_precision:.4f}\")\n",
    "        #     logger.info(f\"Saving model with new best smoke precision: {best_smoke_precision:.4f}\")\n",
    "        #     save_precision_name = f'best_smoke__precision={np.round(best_smoke_precision, decimals=4)}__epoch={epoch}'\n",
    "        #     save_name = config.WEIGHTS_FOLDER + config.MODEL + '_classifier__' + save_precision_name + '.pt'\n",
    "        #     utils.save_checkpoint(epoch, model, optimizer, scheduler, save_name)  \n",
    "        #     save_onnx = config.ONNX_FOLDER + config.MODEL + '_classifier__' + save_precision_name #+ '.onnx'\n",
    "        #     utils.export_onnx(model, (1, config.NUM_CHANNELS, config.IMG_H, config.IMG_W), save_onnx, config.DEVICE)\n",
    "            \n",
    "        # Save model if precision > 0.9 and recall > 0.9\n",
    "        # if ( val_metrics['Precision'][0] > 0.9 ) and ( val_metrics['Recall'][0] > 0.9 ) :\n",
    "        #     print(\"\\nSaving model with precision > 0.9 and recall > 0.9\")\n",
    "        #     logger.info(\"Saving model with precision > 0.9 and recall > 0.9\")\n",
    "        #     save_pre_name = f'smoke__precision={np.round(val_metrics[\"Precision\"][0], decimals=4)}__' \n",
    "        #     save_rec_name = f'recall={np.round(val_metrics[\"Recall\"][0], decimals=4)}__'\n",
    "        #     save_pre_rec_name = save_pre_name + save_rec_name + f'epoch={epoch}'\n",
    "        #     save_name = config.WEIGHTS_FOLDER + config.MODEL + '_classifier__' + save_pre_rec_name + '.pt'\n",
    "        #     utils.save_checkpoint(epoch, model, optimizer, scheduler, save_name) \n",
    "        #     save_onnx = config.ONNX_FOLDER + config.MODEL + '_classifier__' + save_pre_rec_name #+ '.onnx'\n",
    "        #     # utils.export_onnx(model, (1, config.NUM_CHANNELS, config.IMG_H, config.IMG_W), save_onnx, config.DEVICE)\n",
    "\n",
    "        # Save model if best mean F1 increases\n",
    "        val_f1_mean = (val_metrics['F1'][0] + val_metrics['F1'][1]) / 2\n",
    "        if (val_f1_mean > best_mean_f1) :\n",
    "            best_mean_f1 = val_f1_mean\n",
    "            print(f'Saving model with best Mean F1: {best_mean_f1:.4f}')\n",
    "            logger.info(f'Saving model with best Mean F1: {best_mean_f1:.4f}')\n",
    "            save_f1_name = 'best_mean_F1'\n",
    "            save_name = config.WEIGHTS_FOLDER + config.MODEL + '_classifier__' + save_f1_name + '.pt'\n",
    "            utils.save_checkpoint(epoch, model, optimizer, scheduler, save_name) \n",
    "            save_onnx = config.ONNX_FOLDER + config.MODEL + '_classifier__' + save_f1_name #+ '.onnx'\n",
    "            # utils.export_onnx(model, (1, config.NUM_CHANNELS, config.IMG_H, config.IMG_W), save_onnx, config.DEVICE)\n",
    "        \n",
    "    logger.info('Saving last model')   \n",
    "    torch.save(model.state_dict(), config.WEIGHTS_FOLDER + 'last_' + config.MODEL + '_classifier.pt') \n",
    "    \n",
    "    #======================= FINISH =========================#\n",
    "    end = datetime.datetime.now()\n",
    "    end_time = end.strftime(\"%H:%M:%S\")\n",
    "    print(f'\\n***Script finished: {end_time}\\n')  \n",
    "    print(f'Time elapsed: {end-start}')\n",
    "    logger.info(f'\\n***Script finished: {end_time}\\n')  \n",
    "    logger.info(f'Time elapsed: {end-start}')\n",
    "    \n",
    "    return model"
   ]
  },
  {
   "cell_type": "code",
   "execution_count": 20,
   "id": "70cfebac-da9f-4c54-98da-0fccfdf9c7e4",
   "metadata": {},
   "outputs": [],
   "source": [
    "# print(len(val_losses_logger.total))"
   ]
  },
  {
   "cell_type": "markdown",
   "id": "7eb71ba5-1f21-4a7b-9ebe-6b50a5d38ed8",
   "metadata": {},
   "source": [
    "# Training Loop"
   ]
  },
  {
   "cell_type": "code",
   "execution_count": 21,
   "id": "dd3a8768-03a8-44f3-829f-58045dbfea7b",
   "metadata": {},
   "outputs": [
    {
     "name": "stdout",
     "output_type": "stream",
     "text": [
      "Starting script\n",
      "\n",
      "\n",
      "***Start Training: 01:18:36\n",
      "\n",
      "\n",
      "=== EPOCH 0/7 ===\n",
      "Learning Rate = 0.001\n",
      "\n"
     ]
    },
    {
     "name": "stderr",
     "output_type": "stream",
     "text": [
      "Training: 100%|████████████████████████████████████████████████████████████████████████████████████████████████████████████████████████████████████████████████| 5/5 [00:03<00:00,  1.48it/s]\n"
     ]
    },
    {
     "name": "stdout",
     "output_type": "stream",
     "text": [
      "Total Loss  |Smoke Loss  |Fire Loss   \n",
      "------------ ------------ ------------\n",
      "167.108     |79.570      |87.538      \n",
      "\n"
     ]
    },
    {
     "name": "stderr",
     "output_type": "stream",
     "text": [
      "Validating: 100%|██████████████████████████████████████████████████████████████████████████████████████████████████████████████████████████████████████████████| 3/3 [00:01<00:00,  1.94it/s]\n"
     ]
    },
    {
     "name": "stdout",
     "output_type": "stream",
     "text": [
      "Total Loss  |Smoke Loss  |Fire Loss   \n",
      "------------ ------------ ------------\n",
      "166.627     |79.571      |87.056      \n",
      "SMOKE -> Precision: 0.0000 - Recall: 0.0000 - Accuracy: 0.5104 - F1: 0.0000\n",
      "FIRE -> Precision: 0.0000 - Recall: 0.0000 - Accuracy: 0.6979 - F1: 0.0000\n",
      "\n",
      "Saving model with new best validation loss: 166.6266\n",
      "\n",
      "=== EPOCH 1/7 ===\n",
      "Learning Rate = 0.001\n",
      "\n"
     ]
    },
    {
     "name": "stderr",
     "output_type": "stream",
     "text": [
      "Training: 100%|████████████████████████████████████████████████████████████████████████████████████████████████████████████████████████████████████████████████| 5/5 [00:03<00:00,  1.47it/s]\n"
     ]
    },
    {
     "name": "stdout",
     "output_type": "stream",
     "text": [
      "Total Loss  |Smoke Loss  |Fire Loss   \n",
      "------------ ------------ ------------\n",
      "159.595     |77.915      |81.680      \n",
      "\n"
     ]
    },
    {
     "name": "stderr",
     "output_type": "stream",
     "text": [
      "Validating: 100%|██████████████████████████████████████████████████████████████████████████████████████████████████████████████████████████████████████████████| 3/3 [00:01<00:00,  1.95it/s]\n"
     ]
    },
    {
     "name": "stdout",
     "output_type": "stream",
     "text": [
      "Total Loss  |Smoke Loss  |Fire Loss   \n",
      "------------ ------------ ------------\n",
      "164.458     |79.375      |85.083      \n",
      "SMOKE -> Precision: 0.0000 - Recall: 0.0000 - Accuracy: 0.5104 - F1: 0.0000\n",
      "FIRE -> Precision: 0.0000 - Recall: 0.0000 - Accuracy: 0.6979 - F1: 0.0000\n",
      "\n",
      "Saving model with new best validation loss: 164.4582\n",
      "\n",
      "=== EPOCH 2/7 ===\n",
      "Learning Rate = 0.001\n",
      "\n"
     ]
    },
    {
     "name": "stderr",
     "output_type": "stream",
     "text": [
      "Training: 100%|████████████████████████████████████████████████████████████████████████████████████████████████████████████████████████████████████████████████| 5/5 [00:03<00:00,  1.51it/s]\n"
     ]
    },
    {
     "name": "stdout",
     "output_type": "stream",
     "text": [
      "Total Loss  |Smoke Loss  |Fire Loss   \n",
      "------------ ------------ ------------\n",
      "151.738     |76.468      |75.270      \n",
      "\n"
     ]
    },
    {
     "name": "stderr",
     "output_type": "stream",
     "text": [
      "Validating: 100%|██████████████████████████████████████████████████████████████████████████████████████████████████████████████████████████████████████████████| 3/3 [00:01<00:00,  1.92it/s]\n"
     ]
    },
    {
     "name": "stdout",
     "output_type": "stream",
     "text": [
      "Total Loss  |Smoke Loss  |Fire Loss   \n",
      "------------ ------------ ------------\n",
      "163.783     |79.502      |84.281      \n",
      "SMOKE -> Precision: 0.0000 - Recall: 0.0000 - Accuracy: 0.5104 - F1: 0.0000\n",
      "FIRE -> Precision: 0.0000 - Recall: 0.0000 - Accuracy: 0.6979 - F1: 0.0000\n",
      "\n",
      "Saving model with new best validation loss: 163.7830\n",
      "\n",
      "=== EPOCH 3/7 ===\n",
      "Learning Rate = 0.001\n",
      "\n"
     ]
    },
    {
     "name": "stderr",
     "output_type": "stream",
     "text": [
      "Training: 100%|████████████████████████████████████████████████████████████████████████████████████████████████████████████████████████████████████████████████| 5/5 [00:03<00:00,  1.44it/s]\n"
     ]
    },
    {
     "name": "stdout",
     "output_type": "stream",
     "text": [
      "Total Loss  |Smoke Loss  |Fire Loss   \n",
      "------------ ------------ ------------\n",
      "146.918     |76.279      |70.639      \n",
      "\n"
     ]
    },
    {
     "name": "stderr",
     "output_type": "stream",
     "text": [
      "Validating: 100%|██████████████████████████████████████████████████████████████████████████████████████████████████████████████████████████████████████████████| 3/3 [00:01<00:00,  1.93it/s]\n"
     ]
    },
    {
     "name": "stdout",
     "output_type": "stream",
     "text": [
      "Total Loss  |Smoke Loss  |Fire Loss   \n",
      "------------ ------------ ------------\n",
      "165.126     |80.039      |85.088      \n",
      "SMOKE -> Precision: 0.4896 - Recall: 1.0000 - Accuracy: 0.4896 - F1: 0.6573\n",
      "FIRE -> Precision: 0.0000 - Recall: 0.0000 - Accuracy: 0.6979 - F1: 0.0000\n",
      "Saving model with best Mean F1: 0.3287\n",
      "\n",
      "=== EPOCH 4/7 ===\n",
      "Learning Rate = 0.001\n",
      "\n"
     ]
    },
    {
     "name": "stderr",
     "output_type": "stream",
     "text": [
      "Training: 100%|████████████████████████████████████████████████████████████████████████████████████████████████████████████████████████████████████████████████| 5/5 [00:03<00:00,  1.38it/s]\n"
     ]
    },
    {
     "name": "stdout",
     "output_type": "stream",
     "text": [
      "Total Loss  |Smoke Loss  |Fire Loss   \n",
      "------------ ------------ ------------\n",
      "140.902     |74.805      |66.097      \n",
      "\n"
     ]
    },
    {
     "name": "stderr",
     "output_type": "stream",
     "text": [
      "Validating: 100%|██████████████████████████████████████████████████████████████████████████████████████████████████████████████████████████████████████████████| 3/3 [00:01<00:00,  1.93it/s]\n"
     ]
    },
    {
     "name": "stdout",
     "output_type": "stream",
     "text": [
      "Total Loss  |Smoke Loss  |Fire Loss   \n",
      "------------ ------------ ------------\n",
      "167.699     |80.838      |86.860      \n",
      "SMOKE -> Precision: 0.4896 - Recall: 1.0000 - Accuracy: 0.4896 - F1: 0.6573\n",
      "FIRE -> Precision: 0.0000 - Recall: 0.0000 - Accuracy: 0.6979 - F1: 0.0000\n",
      "\n",
      "=== EPOCH 5/7 ===\n",
      "Learning Rate = 0.001\n",
      "\n"
     ]
    },
    {
     "name": "stderr",
     "output_type": "stream",
     "text": [
      "Training: 100%|████████████████████████████████████████████████████████████████████████████████████████████████████████████████████████████████████████████████| 5/5 [00:03<00:00,  1.42it/s]\n"
     ]
    },
    {
     "name": "stdout",
     "output_type": "stream",
     "text": [
      "Total Loss  |Smoke Loss  |Fire Loss   \n",
      "------------ ------------ ------------\n",
      "136.842     |73.795      |63.047      \n",
      "\n"
     ]
    },
    {
     "name": "stderr",
     "output_type": "stream",
     "text": [
      "Validating: 100%|██████████████████████████████████████████████████████████████████████████████████████████████████████████████████████████████████████████████| 3/3 [00:01<00:00,  1.92it/s]\n"
     ]
    },
    {
     "name": "stdout",
     "output_type": "stream",
     "text": [
      "Total Loss  |Smoke Loss  |Fire Loss   \n",
      "------------ ------------ ------------\n",
      "169.911     |81.463      |88.447      \n",
      "SMOKE -> Precision: 0.4896 - Recall: 1.0000 - Accuracy: 0.4896 - F1: 0.6573\n",
      "FIRE -> Precision: 0.0000 - Recall: 0.0000 - Accuracy: 0.6979 - F1: 0.0000\n",
      "\n",
      "=== EPOCH 6/7 ===\n",
      "Learning Rate = 0.0008\n",
      "\n"
     ]
    },
    {
     "name": "stderr",
     "output_type": "stream",
     "text": [
      "Training: 100%|████████████████████████████████████████████████████████████████████████████████████████████████████████████████████████████████████████████████| 5/5 [00:03<00:00,  1.46it/s]\n"
     ]
    },
    {
     "name": "stdout",
     "output_type": "stream",
     "text": [
      "Total Loss  |Smoke Loss  |Fire Loss   \n",
      "------------ ------------ ------------\n",
      "134.805     |73.433      |61.372      \n",
      "\n"
     ]
    },
    {
     "name": "stderr",
     "output_type": "stream",
     "text": [
      "Validating: 100%|██████████████████████████████████████████████████████████████████████████████████████████████████████████████████████████████████████████████| 3/3 [00:01<00:00,  1.91it/s]\n"
     ]
    },
    {
     "name": "stdout",
     "output_type": "stream",
     "text": [
      "Total Loss  |Smoke Loss  |Fire Loss   \n",
      "------------ ------------ ------------\n",
      "171.728     |81.938      |89.790      \n",
      "SMOKE -> Precision: 0.4896 - Recall: 1.0000 - Accuracy: 0.4896 - F1: 0.6573\n",
      "FIRE -> Precision: 0.3021 - Recall: 1.0000 - Accuracy: 0.3021 - F1: 0.4640\n",
      "Saving model with best Mean F1: 0.5607\n",
      "\n",
      "=== EPOCH 7/7 ===\n",
      "Learning Rate = 0.0008\n",
      "\n"
     ]
    },
    {
     "name": "stderr",
     "output_type": "stream",
     "text": [
      "Training: 100%|████████████████████████████████████████████████████████████████████████████████████████████████████████████████████████████████████████████████| 5/5 [00:03<00:00,  1.47it/s]\n"
     ]
    },
    {
     "name": "stdout",
     "output_type": "stream",
     "text": [
      "Total Loss  |Smoke Loss  |Fire Loss   \n",
      "------------ ------------ ------------\n",
      "133.194     |72.964      |60.230      \n",
      "\n"
     ]
    },
    {
     "name": "stderr",
     "output_type": "stream",
     "text": [
      "Validating: 100%|██████████████████████████████████████████████████████████████████████████████████████████████████████████████████████████████████████████████| 3/3 [00:01<00:00,  1.90it/s]\n"
     ]
    },
    {
     "name": "stdout",
     "output_type": "stream",
     "text": [
      "Total Loss  |Smoke Loss  |Fire Loss   \n",
      "------------ ------------ ------------\n",
      "173.483     |82.546      |90.937      \n",
      "SMOKE -> Precision: 0.4896 - Recall: 1.0000 - Accuracy: 0.4896 - F1: 0.6573\n",
      "FIRE -> Precision: 0.3037 - Recall: 1.0000 - Accuracy: 0.3073 - F1: 0.4659\n",
      "Saving model with best Mean F1: 0.5616\n",
      "\n",
      "***Script finished: 01:19:23\n",
      "\n",
      "Time elapsed: 0:00:46.375343\n"
     ]
    }
   ],
   "source": [
    "if __name__ == \"__main__\":\n",
    "    \n",
    "    print(\"Starting script\\n\")\n",
    "    logger.info(\"Starting script\\n\")\n",
    "    \n",
    "    model = train_loop(model)"
   ]
  },
  {
   "cell_type": "code",
   "execution_count": 22,
   "id": "bb0eaad5-d3f2-48e4-9922-505d025372b7",
   "metadata": {},
   "outputs": [],
   "source": [
    "# if __name__ == \"__main__\":\n",
    "    \n",
    "#     print(\"Train More script\\n\")\n",
    "#     logger.info(\"Train More\\n\")\n",
    "    \n",
    "#     model = train_loop(model, start_epoch=75, epochs_to_train=15)"
   ]
  },
  {
   "cell_type": "markdown",
   "id": "6e5e0386-520e-4452-a4bd-217a39e3478f",
   "metadata": {},
   "source": [
    "# Test with DFire MINI Dataset: Train and Test"
   ]
  },
  {
   "cell_type": "code",
   "execution_count": 23,
   "id": "ab9c8bf2-dce8-4ac5-82a9-abbd30a20b08",
   "metadata": {},
   "outputs": [],
   "source": [
    "# import importlib\n",
    "# importlib.reload(config)\n",
    "# importlib.reload(dataloaders)"
   ]
  },
  {
   "cell_type": "code",
   "execution_count": 24,
   "id": "1c7cc77c-6bdf-4d83-9358-61038a8b23bb",
   "metadata": {},
   "outputs": [
    {
     "name": "stdout",
     "output_type": "stream",
     "text": [
      "\n",
      "====================\n",
      "TRAIN DFire MINI dataset\n",
      "DFire Removed wrong images: 0\n",
      "DFire empty images: 20\n",
      "DFire only smoke images: 45\n",
      "DFire only fire images: 5\n",
      "DFire smoke and fire images: 30\n",
      "\n",
      "Test dataset len: 100\n",
      "\n",
      "====================\n",
      "TEST DFire MINI dataset\n",
      "DFire Removed wrong images: 0\n",
      "DFire empty images: 6\n",
      "DFire only smoke images: 13\n",
      "DFire only fire images: 2\n",
      "DFire smoke and fire images: 9\n",
      "\n",
      "Test dataset len: 30\n"
     ]
    }
   ],
   "source": [
    "train_dfire_mini_loader = dataloaders.get_dfire_mini_train_loader()\n",
    "test_dfire_mini_loader = dataloaders.get_dfire_mini_test_loader()"
   ]
  },
  {
   "cell_type": "markdown",
   "id": "46c18474-8bc6-4f26-9479-529412e9c71d",
   "metadata": {},
   "source": [
    "### Load Checkpoint with Best F1 Mean"
   ]
  },
  {
   "cell_type": "code",
   "execution_count": 25,
   "id": "b517a297-edea-4d37-9e5b-90ca2512c9e7",
   "metadata": {},
   "outputs": [],
   "source": [
    "model_path = config.WEIGHTS_FOLDER + config.MODEL + '_classifier__best_mean_F1.pt'"
   ]
  },
  {
   "cell_type": "code",
   "execution_count": 26,
   "id": "9b0959a9-9b84-4fd6-85a3-67fb519f6b10",
   "metadata": {},
   "outputs": [
    {
     "name": "stdout",
     "output_type": "stream",
     "text": [
      "Loading Model. Trained during 7 epochs\n"
     ]
    },
    {
     "data": {
      "text/plain": [
       "7"
      ]
     },
     "execution_count": 26,
     "metadata": {},
     "output_type": "execute_result"
    }
   ],
   "source": [
    "utils.load_checkpoint(\n",
    "    model_path, \n",
    "    model=model, \n",
    "    optimizer=optimizer, \n",
    "    scheduler=scheduler, \n",
    "    device=config.DEVICE)"
   ]
  },
  {
   "cell_type": "markdown",
   "id": "c8eb53e5-0b75-4bb0-8f45-d2e104d25a13",
   "metadata": {},
   "source": [
    "### Whole Test Loader, to check it is the same as training"
   ]
  },
  {
   "cell_type": "code",
   "execution_count": 27,
   "id": "9c1ae050-a816-407d-9569-5e5b6f84af6b",
   "metadata": {},
   "outputs": [
    {
     "name": "stderr",
     "output_type": "stream",
     "text": [
      "Validating: 100%|██████████████████████████████████████████████████████████████████████████████████████████████████████████████████████████████████████████████| 3/3 [00:01<00:00,  1.89it/s]"
     ]
    },
    {
     "name": "stdout",
     "output_type": "stream",
     "text": [
      "Total Loss  |Smoke Loss  |Fire Loss   \n",
      "------------ ------------ ------------\n",
      "173.483     |82.546      |90.937      \n",
      "SMOKE -> Precision: 0.4896 - Recall: 1.0000 - Accuracy: 0.4896 - F1: 0.6573\n",
      "FIRE -> Precision: 0.3037 - Recall: 1.0000 - Accuracy: 0.3073 - F1: 0.4659\n"
     ]
    },
    {
     "name": "stderr",
     "output_type": "stream",
     "text": [
      "\n"
     ]
    }
   ],
   "source": [
    "with torch.no_grad():\n",
    "    val_losses, val_metrics = val_epoch.eval_fn(\n",
    "        loader=val_loader, \n",
    "        model=model,                         \n",
    "        loss_fn=loss_fn,\n",
    "        device=config.DEVICE)"
   ]
  },
  {
   "cell_type": "code",
   "execution_count": 28,
   "id": "bf582d94-1848-4729-8816-86f1211e9904",
   "metadata": {},
   "outputs": [],
   "source": [
    "logger.info('\\nTesting with FULL TEST LOADER')  \n",
    "#logger.info(val_losses)\n",
    "logger.info(val_metrics)"
   ]
  },
  {
   "cell_type": "markdown",
   "id": "36662803-7b09-4c43-9e14-5045635f86ab",
   "metadata": {},
   "source": [
    "### Train DFire MINI"
   ]
  },
  {
   "cell_type": "code",
   "execution_count": 29,
   "id": "d40dff6c-50a6-4fa9-af36-496730a81fab",
   "metadata": {},
   "outputs": [
    {
     "name": "stderr",
     "output_type": "stream",
     "text": [
      "Validating: 100%|█████████████████████████████████████████████████████████████████████████████████████████████████████████████████████████████████████████| 100/100 [00:00<00:00, 311.72it/s]"
     ]
    },
    {
     "name": "stdout",
     "output_type": "stream",
     "text": [
      "Total Loss  |Smoke Loss  |Fire Loss   \n",
      "------------ ------------ ------------\n",
      "1.258       |0.554       |0.704       \n",
      "SMOKE -> Precision: 0.7500 - Recall: 1.0000 - Accuracy: 0.7500 - F1: 0.8571\n",
      "FIRE -> Precision: 0.3571 - Recall: 1.0000 - Accuracy: 0.3700 - F1: 0.5263\n"
     ]
    },
    {
     "name": "stderr",
     "output_type": "stream",
     "text": [
      "\n"
     ]
    }
   ],
   "source": [
    "with torch.no_grad():\n",
    "    val_losses, val_metrics = val_epoch.eval_fn(\n",
    "        loader=train_dfire_mini_loader, \n",
    "        model=model,                         \n",
    "        loss_fn=loss_fn,\n",
    "        device=config.DEVICE)"
   ]
  },
  {
   "cell_type": "code",
   "execution_count": 30,
   "id": "9f864d7c-7da2-4c7c-b99a-f1943d722b13",
   "metadata": {},
   "outputs": [],
   "source": [
    "logger.info('\\nTesting with DFire MINI TRAIN after LOADING F1 Best Mean CHECKPOINT')  \n",
    "#logger.info(val_losses)\n",
    "logger.info(val_metrics)"
   ]
  },
  {
   "cell_type": "markdown",
   "id": "17c77cd9-05ef-4771-8707-82ba5f16ef0c",
   "metadata": {},
   "source": [
    "### Test DFire MINI"
   ]
  },
  {
   "cell_type": "code",
   "execution_count": 31,
   "id": "2c237df0-9726-42e9-8ebe-d738948fb047",
   "metadata": {},
   "outputs": [
    {
     "name": "stderr",
     "output_type": "stream",
     "text": [
      "Validating: 100%|███████████████████████████████████████████████████████████████████████████████████████████████████████████████████████████████████████████| 30/30 [00:00<00:00, 205.29it/s]"
     ]
    },
    {
     "name": "stdout",
     "output_type": "stream",
     "text": [
      "Total Loss  |Smoke Loss  |Fire Loss   \n",
      "------------ ------------ ------------\n",
      "1.264       |0.561       |0.703       \n",
      "SMOKE -> Precision: 0.7333 - Recall: 1.0000 - Accuracy: 0.7333 - F1: 0.8462\n",
      "FIRE -> Precision: 0.3667 - Recall: 1.0000 - Accuracy: 0.3667 - F1: 0.5366\n"
     ]
    },
    {
     "name": "stderr",
     "output_type": "stream",
     "text": [
      "\n"
     ]
    }
   ],
   "source": [
    "with torch.no_grad():\n",
    "    val_losses, val_metrics = val_epoch.eval_fn(\n",
    "        loader=test_dfire_mini_loader, \n",
    "        model=model,                         \n",
    "        loss_fn=loss_fn,\n",
    "        device=config.DEVICE)"
   ]
  },
  {
   "cell_type": "code",
   "execution_count": 32,
   "id": "06fdf6f8-b716-4ee3-a29a-ea9972387cd8",
   "metadata": {},
   "outputs": [],
   "source": [
    "logger.info('\\nTesting with DFire MINI TEST after LOADING F1 Best Mean CHECKPOINT')  \n",
    "#logger.info(val_losses)\n",
    "logger.info(val_metrics)"
   ]
  },
  {
   "cell_type": "markdown",
   "id": "91b39d52-262f-47ba-9793-80bac83f92bb",
   "metadata": {},
   "source": [
    "# Export to ONNX"
   ]
  },
  {
   "cell_type": "code",
   "execution_count": 33,
   "id": "3c1117cc-5daf-4352-a4a0-015ddba077c3",
   "metadata": {},
   "outputs": [],
   "source": [
    "model.cpu();"
   ]
  },
  {
   "cell_type": "code",
   "execution_count": 34,
   "id": "d38182ac-9d8c-4325-99da-645cf5240ab7",
   "metadata": {
    "tags": []
   },
   "outputs": [],
   "source": [
    "torch_input = torch.randn(1, 3, 224, 224)\n",
    "torch.onnx.export(model, torch_input, config.ONNX_FOLDER + config.MODEL + \".onnx\")"
   ]
  },
  {
   "cell_type": "code",
   "execution_count": null,
   "id": "f49632bc-b83d-4a05-9402-6fb06aab7784",
   "metadata": {},
   "outputs": [],
   "source": []
  }
 ],
 "metadata": {
  "kernelspec": {
   "display_name": "Python 3 (ipykernel)",
   "language": "python",
   "name": "python3"
  },
  "language_info": {
   "codemirror_mode": {
    "name": "ipython",
    "version": 3
   },
   "file_extension": ".py",
   "mimetype": "text/x-python",
   "name": "python",
   "nbconvert_exporter": "python",
   "pygments_lexer": "ipython3",
   "version": "3.10.13"
  }
 },
 "nbformat": 4,
 "nbformat_minor": 5
}
