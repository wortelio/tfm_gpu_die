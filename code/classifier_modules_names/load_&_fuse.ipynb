{
 "cells": [
  {
   "cell_type": "code",
   "execution_count": 1,
   "id": "43481054-d465-4aee-a76a-403d188fe075",
   "metadata": {},
   "outputs": [],
   "source": [
    "import os\n",
    "from pathlib import Path\n",
    "\n",
    "from tqdm import tqdm\n",
    "\n",
    "import torch\n",
    "from torch.utils.data import DataLoader\n",
    "\n",
    "import albumentations as A\n",
    "from albumentations.pytorch import ToTensorV2\n",
    "\n",
    "import torch.nn as nn \n",
    "import torch.optim as optim\n",
    "from torchinfo import summary\n",
    "\n",
    "import config\n",
    "import dataset\n",
    "import models\n",
    "import loss\n",
    "import val_epoch\n",
    "import utils"
   ]
  },
  {
   "cell_type": "markdown",
   "id": "6c4b0ead-676d-42f1-badd-fc6363138df9",
   "metadata": {},
   "source": [
    "# Validation Dataset"
   ]
  },
  {
   "cell_type": "code",
   "execution_count": 2,
   "id": "0a17e4c6-c63d-4e22-8236-070a444de43d",
   "metadata": {},
   "outputs": [
    {
     "name": "stdout",
     "output_type": "stream",
     "text": [
      "\n",
      "TEST DFire dataset\n",
      "DFire Removed wrong images: 0\n",
      "DFire empty images: 2005\n",
      "DFire only smoke images: 1186\n",
      "DFire only fire images: 220\n",
      "DFire smoke and fire images: 895\n",
      "Test dataset len: 4306\n"
     ]
    }
   ],
   "source": [
    "# VALIDATION DATASET\n",
    "val_transform = A.Compose([\n",
    "    A.Resize(config.IMG_H, config.IMG_W, p=1),\n",
    "    ToTensorV2(p=1),\n",
    "    ]\n",
    ")\n",
    "\n",
    "print(\"\\nTEST DFire dataset\")\n",
    "val_dataset = dataset.DFireDataset(\n",
    "    img_h = config.IMG_H,\n",
    "    img_w = config.IMG_W,\n",
    "    img_dir = config.VAL_IMG_DIR,\n",
    "    label_dir = config.VAL_LABEL_DIR,\n",
    "    num_classes = config.N_CLASSES,\n",
    "    ds_len = config.DS_LEN,\n",
    "    transform=val_transform)\n",
    "\n",
    "print(f'Test dataset len: {len(val_dataset)}')\n",
    "\n",
    "# LOADERS\n",
    "val_loader = DataLoader(dataset=val_dataset,\n",
    "                        batch_size=config.BATCH_SIZE,\n",
    "                        num_workers=config.NUM_WORKERS,\n",
    "                        pin_memory=config.PIN_MEMORY,\n",
    "                        shuffle=False,\n",
    "                        drop_last=True)"
   ]
  },
  {
   "cell_type": "markdown",
   "id": "6d7851b9-2419-4c00-bfd1-af47a75b704c",
   "metadata": {},
   "source": [
    "# Loss Function"
   ]
  },
  {
   "cell_type": "code",
   "execution_count": 3,
   "id": "34427e2d-aa24-47d1-8d77-4c87a26e5cd5",
   "metadata": {},
   "outputs": [
    {
     "name": "stdout",
     "output_type": "stream",
     "text": [
      "Loss Function: BCE\n",
      "Smoke Precision Weight: 0.8\n"
     ]
    }
   ],
   "source": [
    "# LOSS FUNCTION\n",
    "if config.LOSS_FN == \"BCE\":\n",
    "    print(f'Loss Function: BCE')\n",
    "    print(f'Smoke Precision Weight: {config.SMOKE_PRECISION_WEIGHT}')\n",
    "    loss_fn = loss.BCE_LOSS(device=config.DEVICE, smoke_precision_weight=config.SMOKE_PRECISION_WEIGHT)\n",
    "else:\n",
    "    print(\"Wrong loss function\")\n",
    "    raise SystemExit(\"Wrong loss function\")"
   ]
  },
  {
   "cell_type": "markdown",
   "id": "8b4af6c4-4e29-4d3f-8ad4-d3b34559b7ef",
   "metadata": {},
   "source": [
    "# Setup Model and Load Weights"
   ]
  },
  {
   "cell_type": "code",
   "execution_count": 4,
   "id": "c1a4c035-be5f-41e2-98a7-1c2ae7cd8feb",
   "metadata": {},
   "outputs": [
    {
     "name": "stdout",
     "output_type": "stream",
     "text": [
      "Using BED Classifier\n"
     ]
    }
   ],
   "source": [
    "if config.MODEL == \"BED\":\n",
    "    print(\"Using BED Classifier\")\n",
    "    model = models.BED_CLASSIFIER(num_classes=config.N_CLASSES).to(config.DEVICE)  \n",
    "else:\n",
    "    print(\"Wrong Model\")\n",
    "    raise SystemExit(\"Wrong Model\")"
   ]
  },
  {
   "cell_type": "code",
   "execution_count": 5,
   "id": "f1525808-8975-4e04-b566-1e8b36010bf7",
   "metadata": {},
   "outputs": [],
   "source": [
    "optimizer = optim.Adam(\n",
    "    model.parameters(), \n",
    "    lr=config.LEARNING_RATE, \n",
    "    weight_decay=config.WEIGHT_DECAY)\n",
    "\n",
    "scheduler = optim.lr_scheduler.ReduceLROnPlateau(\n",
    "    optimizer, \n",
    "    mode='min',\n",
    "    factor=config.FACTOR, \n",
    "    patience=config.PATIENCE, \n",
    "    threshold=config.THRES, \n",
    "    threshold_mode='abs',\n",
    "    min_lr=config.MIN_LR)"
   ]
  },
  {
   "cell_type": "markdown",
   "id": "9c7f23e3-ec23-468d-9bb3-397c45eab9b0",
   "metadata": {},
   "source": [
    "# Load Model"
   ]
  },
  {
   "cell_type": "code",
   "execution_count": 6,
   "id": "5e0fe4dd-cda8-417a-ba8a-b90a994a7665",
   "metadata": {
    "tags": []
   },
   "outputs": [
    {
     "name": "stdout",
     "output_type": "stream",
     "text": [
      "Loading Model. Trained during 133 epochs\n"
     ]
    }
   ],
   "source": [
    "#model_name = 'BED_classifier__smoke__precision=0.9219__recall=0.9152__epoch=124.pt'\n",
    "model_name = 'BED_classifier__smoke__precision=0.9123__recall=0.9127__epoch=133.pt'\n",
    "model_path = 'experiments/v3_checkpoints_&_moreSaves_&_affineFixed/weights/' + model_name\n",
    "epoch_saved = utils.load_checkpoint(model_path, model, optimizer, scheduler, config.DEVICE)"
   ]
  },
  {
   "cell_type": "markdown",
   "id": "3e047e37-ace0-4d37-baba-b660022ce802",
   "metadata": {},
   "source": [
    "# Fuse Conv2d and BatchNorm"
   ]
  },
  {
   "cell_type": "code",
   "execution_count": 7,
   "id": "79a7d739-c83e-499d-b3a1-c547dc66cf86",
   "metadata": {
    "tags": []
   },
   "outputs": [],
   "source": [
    "modules_to_fuse = [ \n",
    "    [\"model.conv1\", \"model.bn1\"],\n",
    "    [\"model.conv2\", \"model.bn2\"],\n",
    "    [\"model.conv31\", \"model.bn31\"],\n",
    "    [\"model.conv32\", \"model.bn32\"],\n",
    "    [\"model.conv33\", \"model.bn33\"],\n",
    "    [\"model.conv34\", \"model.bn34\"],\n",
    "    [\"model.conv41\", \"model.bn41\"],\n",
    "    [\"model.conv42\", \"model.bn42\"],\n",
    "    [\"model.conv43\", \"model.bn43\"],\n",
    "    [\"model.conv44\", \"model.bn44\"],\n",
    "    [\"model.conv45\", \"model.bn45\"],\n",
    "    [\"model.conv46\", \"model.bn46\"]\n",
    "]"
   ]
  },
  {
   "cell_type": "code",
   "execution_count": 8,
   "id": "e937f426-85a5-42c0-80aa-e2a44eda35cc",
   "metadata": {
    "tags": []
   },
   "outputs": [],
   "source": [
    "model.eval()\n",
    "fused_model = torch.ao.quantization.fuse_modules(model, modules_to_fuse)"
   ]
  },
  {
   "cell_type": "markdown",
   "id": "766439cd-7bf1-41b1-9264-7fee861fe108",
   "metadata": {},
   "source": [
    "# Print Fused Model"
   ]
  },
  {
   "cell_type": "code",
   "execution_count": 9,
   "id": "71a4883f-faf5-44c5-9a5f-913a12ed2000",
   "metadata": {
    "tags": []
   },
   "outputs": [
    {
     "name": "stdout",
     "output_type": "stream",
     "text": [
      "==========================================================================================\n",
      "Layer (type:depth-idx)                   Output Shape              Param #\n",
      "==========================================================================================\n",
      "BED_CLASSIFIER                           [64, 2]                   --\n",
      "├─Sequential: 1-1                        [64, 2]                   --\n",
      "│    └─Conv2d: 2-1                       [64, 32, 224, 224]        896\n",
      "│    └─Identity: 2-2                     [64, 32, 224, 224]        --\n",
      "│    └─ReLU: 2-3                         [64, 32, 224, 224]        --\n",
      "│    └─Dropout2d: 2-4                    [64, 32, 224, 224]        --\n",
      "│    └─MaxPool2d: 2-5                    [64, 32, 112, 112]        --\n",
      "│    └─Conv2d: 2-6                       [64, 16, 112, 112]        4,624\n",
      "│    └─Identity: 2-7                     [64, 16, 112, 112]        --\n",
      "│    └─ReLU: 2-8                         [64, 16, 112, 112]        --\n",
      "│    └─Dropout2d: 2-9                    [64, 16, 112, 112]        --\n",
      "│    └─MaxPool2d: 2-10                   [64, 16, 56, 56]          --\n",
      "│    └─Conv2d: 2-11                      [64, 16, 56, 56]          272\n",
      "│    └─Identity: 2-12                    [64, 16, 56, 56]          --\n",
      "│    └─ReLU: 2-13                        [64, 16, 56, 56]          --\n",
      "│    └─Conv2d: 2-14                      [64, 32, 56, 56]          4,640\n",
      "│    └─Identity: 2-15                    [64, 32, 56, 56]          --\n",
      "│    └─ReLU: 2-16                        [64, 32, 56, 56]          --\n",
      "│    └─Conv2d: 2-17                      [64, 32, 56, 56]          1,056\n",
      "│    └─Identity: 2-18                    [64, 32, 56, 56]          --\n",
      "│    └─ReLU: 2-19                        [64, 32, 56, 56]          --\n",
      "│    └─Conv2d: 2-20                      [64, 64, 56, 56]          18,496\n",
      "│    └─Identity: 2-21                    [64, 64, 56, 56]          --\n",
      "│    └─ReLU: 2-22                        [64, 64, 56, 56]          --\n",
      "│    └─MaxPool2d: 2-23                   [64, 64, 28, 28]          --\n",
      "│    └─Conv2d: 2-24                      [64, 32, 28, 28]          2,080\n",
      "│    └─Identity: 2-25                    [64, 32, 28, 28]          --\n",
      "│    └─ReLU: 2-26                        [64, 32, 28, 28]          --\n",
      "│    └─Conv2d: 2-27                      [64, 64, 28, 28]          18,496\n",
      "│    └─Identity: 2-28                    [64, 64, 28, 28]          --\n",
      "│    └─ReLU: 2-29                        [64, 64, 28, 28]          --\n",
      "│    └─Conv2d: 2-30                      [64, 32, 28, 28]          2,080\n",
      "│    └─Identity: 2-31                    [64, 32, 28, 28]          --\n",
      "│    └─ReLU: 2-32                        [64, 32, 28, 28]          --\n",
      "│    └─Conv2d: 2-33                      [64, 64, 28, 28]          18,496\n",
      "│    └─Identity: 2-34                    [64, 64, 28, 28]          --\n",
      "│    └─ReLU: 2-35                        [64, 64, 28, 28]          --\n",
      "│    └─Conv2d: 2-36                      [64, 32, 28, 28]          2,080\n",
      "│    └─Identity: 2-37                    [64, 32, 28, 28]          --\n",
      "│    └─ReLU: 2-38                        [64, 32, 28, 28]          --\n",
      "│    └─Conv2d: 2-39                      [64, 64, 28, 28]          18,496\n",
      "│    └─Identity: 2-40                    [64, 64, 28, 28]          --\n",
      "│    └─ReLU: 2-41                        [64, 64, 28, 28]          --\n",
      "│    └─AdaptiveAvgPool2d: 2-42           [64, 64, 1, 1]            --\n",
      "│    └─Flatten: 2-43                     [64, 64]                  --\n",
      "│    └─Dropout: 2-44                     [64, 64]                  --\n",
      "│    └─Linear: 2-45                      [64, 16]                  1,040\n",
      "│    └─ReLU: 2-46                        [64, 16]                  --\n",
      "│    └─Linear: 2-47                      [64, 2]                   34\n",
      "==========================================================================================\n",
      "Total params: 92,786\n",
      "Trainable params: 92,306\n",
      "Non-trainable params: 480\n",
      "Total mult-adds (G): 14.60\n",
      "==========================================================================================\n",
      "Input size (MB): 38.54\n",
      "Forward/backward pass size (MB): 1271.67\n",
      "Params size (MB): 0.37\n",
      "Estimated Total Size (MB): 1310.58\n",
      "==========================================================================================\n"
     ]
    }
   ],
   "source": [
    "print(summary(fused_model, input_size=(config.BATCH_SIZE, 3, config.IMG_H, config.IMG_W)))"
   ]
  },
  {
   "cell_type": "markdown",
   "id": "1d184986-ace3-44a3-82a2-1f9e29680576",
   "metadata": {},
   "source": [
    "# Evaluate Fused Model vs Un-Fused Model"
   ]
  },
  {
   "cell_type": "code",
   "execution_count": 10,
   "id": "5fb1b816-de8e-43e8-85e9-73efbcc4eefe",
   "metadata": {
    "tags": []
   },
   "outputs": [
    {
     "name": "stdout",
     "output_type": "stream",
     "text": [
      "____________________________ MODEL BEFORE FUSION ____________________________\n"
     ]
    },
    {
     "name": "stderr",
     "output_type": "stream",
     "text": [
      "Validating: 100%|███████████████████████████████| 67/67 [00:02<00:00, 24.85it/s]\n"
     ]
    },
    {
     "name": "stdout",
     "output_type": "stream",
     "text": [
      "Total Loss  |Smoke Loss  |Fire Loss   \n",
      "------------ ------------ ------------\n",
      "19.358      |12.744      |6.613       \n",
      "SMOKE -> Precision: 0.912 - Recall: 0.913 - Accuracy: 0.916 - F1: 0.913\n",
      "FIRE -> Precision: 0.931 - Recall: 0.923 - Accuracy: 0.962 - F1: 0.927\n",
      "\n",
      "____________________________ MODEL AFTER FUSION ____________________________\n"
     ]
    },
    {
     "name": "stderr",
     "output_type": "stream",
     "text": [
      "Validating: 100%|███████████████████████████████| 67/67 [00:02<00:00, 26.69it/s]"
     ]
    },
    {
     "name": "stdout",
     "output_type": "stream",
     "text": [
      "Total Loss  |Smoke Loss  |Fire Loss   \n",
      "------------ ------------ ------------\n",
      "19.357      |12.745      |6.613       \n",
      "SMOKE -> Precision: 0.912 - Recall: 0.913 - Accuracy: 0.916 - F1: 0.913\n",
      "FIRE -> Precision: 0.931 - Recall: 0.923 - Accuracy: 0.962 - F1: 0.927\n"
     ]
    },
    {
     "name": "stderr",
     "output_type": "stream",
     "text": [
      "\n"
     ]
    }
   ],
   "source": [
    "model.eval()\n",
    "fused_model.eval()\n",
    "\n",
    "with torch.no_grad():\n",
    "    print(\"____________________________ MODEL BEFORE FUSION ____________________________\")\n",
    "    val_losses, val_metrics = val_epoch.eval_fn(\n",
    "        loader=val_loader, \n",
    "        model=model,                         \n",
    "        loss_fn=loss_fn,\n",
    "        device=config.DEVICE)\n",
    "    print(\"\\n____________________________ MODEL AFTER FUSION ____________________________\")\n",
    "    val_losses, val_metrics = val_epoch.eval_fn(\n",
    "        loader=val_loader, \n",
    "        model=fused_model,                         \n",
    "        loss_fn=loss_fn,\n",
    "        device=config.DEVICE)"
   ]
  },
  {
   "cell_type": "markdown",
   "id": "dc8168df-41a9-4fe2-b21b-35428a106108",
   "metadata": {},
   "source": [
    "# Save Fused Model"
   ]
  },
  {
   "cell_type": "code",
   "execution_count": 11,
   "id": "37ed2e75-ee0e-4777-8435-8731bb5b939e",
   "metadata": {
    "tags": []
   },
   "outputs": [],
   "source": [
    "checkpoint_name = 'BED_classifier__fused_ConvBN.pt'\n",
    "utils.save_checkpoint(epoch_saved, fused_model, optimizer, scheduler, checkpoint_name)"
   ]
  },
  {
   "cell_type": "markdown",
   "id": "e2dd2c78-c060-4b2b-97cf-589ef4339c8e",
   "metadata": {},
   "source": [
    "# Some print syntax"
   ]
  },
  {
   "cell_type": "code",
   "execution_count": 12,
   "id": "3d2e9287-6db9-4f05-8774-192a7012be03",
   "metadata": {
    "tags": []
   },
   "outputs": [
    {
     "data": {
      "text/plain": [
       "Parameter containing:\n",
       "tensor([0.7632, 0.7238, 0.6478, 0.6555, 0.7178, 0.7809, 0.7142, 0.6737, 0.7869,\n",
       "        0.6782, 0.7620, 0.6976, 0.7583, 0.6998, 0.7008, 0.7907, 0.7894, 0.6743,\n",
       "        0.7759, 0.7935, 0.7893, 0.7648, 0.8405, 0.7778, 0.7546, 0.6543, 0.5508,\n",
       "        0.7858, 0.7749, 0.6656, 0.7774, 0.7743], device='cuda:0',\n",
       "       requires_grad=True)"
      ]
     },
     "execution_count": 12,
     "metadata": {},
     "output_type": "execute_result"
    }
   ],
   "source": [
    "model.model.bn1.weight"
   ]
  },
  {
   "cell_type": "code",
   "execution_count": 13,
   "id": "80ec8d4e-bed9-4bcc-a9b8-514d05af77e2",
   "metadata": {
    "tags": []
   },
   "outputs": [
    {
     "name": "stdout",
     "output_type": "stream",
     "text": [
      " BED_CLASSIFIER(\n",
      "  (model): Sequential(\n",
      "    (conv1): Conv2d(3, 32, kernel_size=(3, 3), stride=(1, 1), padding=(1, 1))\n",
      "    (bn1): Identity()\n",
      "    (relu1): ReLU()\n",
      "    (dropout1): Dropout2d(p=0.3, inplace=False)\n",
      "    (maxpool2): MaxPool2d(kernel_size=2, stride=2, padding=0, dilation=1, ceil_mode=False)\n",
      "    (conv2): Conv2d(32, 16, kernel_size=(3, 3), stride=(1, 1), padding=(1, 1))\n",
      "    (bn2): Identity()\n",
      "    (relu2): ReLU()\n",
      "    (dropout2): Dropout2d(p=0.3, inplace=False)\n",
      "    (maxpool3): MaxPool2d(kernel_size=2, stride=2, padding=0, dilation=1, ceil_mode=False)\n",
      "    (conv31): Conv2d(16, 16, kernel_size=(1, 1), stride=(1, 1))\n",
      "    (bn31): Identity()\n",
      "    (relu31): ReLU()\n",
      "    (conv32): Conv2d(16, 32, kernel_size=(3, 3), stride=(1, 1), padding=(1, 1))\n",
      "    (bn32): Identity()\n",
      "    (relu32): ReLU()\n",
      "    (conv33): Conv2d(32, 32, kernel_size=(1, 1), stride=(1, 1))\n",
      "    (bn33): Identity()\n",
      "    (relu33): ReLU()\n",
      "    (conv34): Conv2d(32, 64, kernel_size=(3, 3), stride=(1, 1), padding=(1, 1))\n",
      "    (bn34): Identity()\n",
      "    (relu34): ReLU()\n",
      "    (maxpool4): MaxPool2d(kernel_size=2, stride=2, padding=0, dilation=1, ceil_mode=False)\n",
      "    (conv41): Conv2d(64, 32, kernel_size=(1, 1), stride=(1, 1))\n",
      "    (bn41): Identity()\n",
      "    (relu41): ReLU()\n",
      "    (conv42): Conv2d(32, 64, kernel_size=(3, 3), stride=(1, 1), padding=(1, 1))\n",
      "    (bn42): Identity()\n",
      "    (relu42): ReLU()\n",
      "    (conv43): Conv2d(64, 32, kernel_size=(1, 1), stride=(1, 1))\n",
      "    (bn43): Identity()\n",
      "    (relu43): ReLU()\n",
      "    (conv44): Conv2d(32, 64, kernel_size=(3, 3), stride=(1, 1), padding=(1, 1))\n",
      "    (bn44): Identity()\n",
      "    (relu44): ReLU()\n",
      "    (conv45): Conv2d(64, 32, kernel_size=(1, 1), stride=(1, 1))\n",
      "    (bn45): Identity()\n",
      "    (relu45): ReLU()\n",
      "    (conv46): Conv2d(32, 64, kernel_size=(3, 3), stride=(1, 1), padding=(1, 1))\n",
      "    (bn46): Identity()\n",
      "    (relu46): ReLU()\n",
      "    (avgpool5): AdaptiveAvgPool2d(output_size=(1, 1))\n",
      "    (flatten5): Flatten(start_dim=1, end_dim=-1)\n",
      "    (dropout5): Dropout(p=0.2, inplace=False)\n",
      "    (linear51): Linear(in_features=64, out_features=16, bias=True)\n",
      "    (relu5): ReLU()\n",
      "    (linear52): Linear(in_features=16, out_features=2, bias=True)\n",
      "  )\n",
      ")\n",
      "model Sequential(\n",
      "  (conv1): Conv2d(3, 32, kernel_size=(3, 3), stride=(1, 1), padding=(1, 1))\n",
      "  (bn1): Identity()\n",
      "  (relu1): ReLU()\n",
      "  (dropout1): Dropout2d(p=0.3, inplace=False)\n",
      "  (maxpool2): MaxPool2d(kernel_size=2, stride=2, padding=0, dilation=1, ceil_mode=False)\n",
      "  (conv2): Conv2d(32, 16, kernel_size=(3, 3), stride=(1, 1), padding=(1, 1))\n",
      "  (bn2): Identity()\n",
      "  (relu2): ReLU()\n",
      "  (dropout2): Dropout2d(p=0.3, inplace=False)\n",
      "  (maxpool3): MaxPool2d(kernel_size=2, stride=2, padding=0, dilation=1, ceil_mode=False)\n",
      "  (conv31): Conv2d(16, 16, kernel_size=(1, 1), stride=(1, 1))\n",
      "  (bn31): Identity()\n",
      "  (relu31): ReLU()\n",
      "  (conv32): Conv2d(16, 32, kernel_size=(3, 3), stride=(1, 1), padding=(1, 1))\n",
      "  (bn32): Identity()\n",
      "  (relu32): ReLU()\n",
      "  (conv33): Conv2d(32, 32, kernel_size=(1, 1), stride=(1, 1))\n",
      "  (bn33): Identity()\n",
      "  (relu33): ReLU()\n",
      "  (conv34): Conv2d(32, 64, kernel_size=(3, 3), stride=(1, 1), padding=(1, 1))\n",
      "  (bn34): Identity()\n",
      "  (relu34): ReLU()\n",
      "  (maxpool4): MaxPool2d(kernel_size=2, stride=2, padding=0, dilation=1, ceil_mode=False)\n",
      "  (conv41): Conv2d(64, 32, kernel_size=(1, 1), stride=(1, 1))\n",
      "  (bn41): Identity()\n",
      "  (relu41): ReLU()\n",
      "  (conv42): Conv2d(32, 64, kernel_size=(3, 3), stride=(1, 1), padding=(1, 1))\n",
      "  (bn42): Identity()\n",
      "  (relu42): ReLU()\n",
      "  (conv43): Conv2d(64, 32, kernel_size=(1, 1), stride=(1, 1))\n",
      "  (bn43): Identity()\n",
      "  (relu43): ReLU()\n",
      "  (conv44): Conv2d(32, 64, kernel_size=(3, 3), stride=(1, 1), padding=(1, 1))\n",
      "  (bn44): Identity()\n",
      "  (relu44): ReLU()\n",
      "  (conv45): Conv2d(64, 32, kernel_size=(1, 1), stride=(1, 1))\n",
      "  (bn45): Identity()\n",
      "  (relu45): ReLU()\n",
      "  (conv46): Conv2d(32, 64, kernel_size=(3, 3), stride=(1, 1), padding=(1, 1))\n",
      "  (bn46): Identity()\n",
      "  (relu46): ReLU()\n",
      "  (avgpool5): AdaptiveAvgPool2d(output_size=(1, 1))\n",
      "  (flatten5): Flatten(start_dim=1, end_dim=-1)\n",
      "  (dropout5): Dropout(p=0.2, inplace=False)\n",
      "  (linear51): Linear(in_features=64, out_features=16, bias=True)\n",
      "  (relu5): ReLU()\n",
      "  (linear52): Linear(in_features=16, out_features=2, bias=True)\n",
      ")\n",
      "model.conv1 Conv2d(3, 32, kernel_size=(3, 3), stride=(1, 1), padding=(1, 1))\n",
      "model.bn1 Identity()\n",
      "model.relu1 ReLU()\n",
      "model.dropout1 Dropout2d(p=0.3, inplace=False)\n",
      "model.maxpool2 MaxPool2d(kernel_size=2, stride=2, padding=0, dilation=1, ceil_mode=False)\n",
      "model.conv2 Conv2d(32, 16, kernel_size=(3, 3), stride=(1, 1), padding=(1, 1))\n",
      "model.bn2 Identity()\n",
      "model.relu2 ReLU()\n",
      "model.dropout2 Dropout2d(p=0.3, inplace=False)\n",
      "model.maxpool3 MaxPool2d(kernel_size=2, stride=2, padding=0, dilation=1, ceil_mode=False)\n",
      "model.conv31 Conv2d(16, 16, kernel_size=(1, 1), stride=(1, 1))\n",
      "model.bn31 Identity()\n",
      "model.relu31 ReLU()\n",
      "model.conv32 Conv2d(16, 32, kernel_size=(3, 3), stride=(1, 1), padding=(1, 1))\n",
      "model.bn32 Identity()\n",
      "model.relu32 ReLU()\n",
      "model.conv33 Conv2d(32, 32, kernel_size=(1, 1), stride=(1, 1))\n",
      "model.bn33 Identity()\n",
      "model.relu33 ReLU()\n",
      "model.conv34 Conv2d(32, 64, kernel_size=(3, 3), stride=(1, 1), padding=(1, 1))\n",
      "model.bn34 Identity()\n",
      "model.relu34 ReLU()\n",
      "model.maxpool4 MaxPool2d(kernel_size=2, stride=2, padding=0, dilation=1, ceil_mode=False)\n",
      "model.conv41 Conv2d(64, 32, kernel_size=(1, 1), stride=(1, 1))\n",
      "model.bn41 Identity()\n",
      "model.relu41 ReLU()\n",
      "model.conv42 Conv2d(32, 64, kernel_size=(3, 3), stride=(1, 1), padding=(1, 1))\n",
      "model.bn42 Identity()\n",
      "model.relu42 ReLU()\n",
      "model.conv43 Conv2d(64, 32, kernel_size=(1, 1), stride=(1, 1))\n",
      "model.bn43 Identity()\n",
      "model.relu43 ReLU()\n",
      "model.conv44 Conv2d(32, 64, kernel_size=(3, 3), stride=(1, 1), padding=(1, 1))\n",
      "model.bn44 Identity()\n",
      "model.relu44 ReLU()\n",
      "model.conv45 Conv2d(64, 32, kernel_size=(1, 1), stride=(1, 1))\n",
      "model.bn45 Identity()\n",
      "model.relu45 ReLU()\n",
      "model.conv46 Conv2d(32, 64, kernel_size=(3, 3), stride=(1, 1), padding=(1, 1))\n",
      "model.bn46 Identity()\n",
      "model.relu46 ReLU()\n",
      "model.avgpool5 AdaptiveAvgPool2d(output_size=(1, 1))\n",
      "model.flatten5 Flatten(start_dim=1, end_dim=-1)\n",
      "model.dropout5 Dropout(p=0.2, inplace=False)\n",
      "model.linear51 Linear(in_features=64, out_features=16, bias=True)\n",
      "model.relu5 ReLU()\n",
      "model.linear52 Linear(in_features=16, out_features=2, bias=True)\n"
     ]
    }
   ],
   "source": [
    "# Name is of type string\n",
    "for name, mod in fused_model.named_modules():\n",
    "    print(name, mod)"
   ]
  },
  {
   "cell_type": "code",
   "execution_count": null,
   "id": "af1d7790-ff7c-465f-a969-238c0e9c77ce",
   "metadata": {},
   "outputs": [],
   "source": []
  }
 ],
 "metadata": {
  "kernelspec": {
   "display_name": "Python 3 (ipykernel)",
   "language": "python",
   "name": "python3"
  },
  "language_info": {
   "codemirror_mode": {
    "name": "ipython",
    "version": 3
   },
   "file_extension": ".py",
   "mimetype": "text/x-python",
   "name": "python",
   "nbconvert_exporter": "python",
   "pygments_lexer": "ipython3",
   "version": "3.10.9"
  }
 },
 "nbformat": 4,
 "nbformat_minor": 5
}
