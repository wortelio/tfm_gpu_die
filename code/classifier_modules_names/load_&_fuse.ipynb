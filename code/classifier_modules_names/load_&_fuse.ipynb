{
 "cells": [
  {
   "cell_type": "code",
   "execution_count": 1,
   "id": "43481054-d465-4aee-a76a-403d188fe075",
   "metadata": {},
   "outputs": [],
   "source": [
    "import os\n",
    "from pathlib import Path\n",
    "\n",
    "from tqdm import tqdm\n",
    "\n",
    "import torch\n",
    "from torch.utils.data import DataLoader\n",
    "\n",
    "import albumentations as A\n",
    "from albumentations.pytorch import ToTensorV2\n",
    "\n",
    "import torch.nn as nn \n",
    "import torch.optim as optim\n",
    "from torchinfo import summary\n",
    "\n",
    "import config\n",
    "import dataset\n",
    "import dataset_fasdd\n",
    "import models\n",
    "import loss\n",
    "import val_epoch\n",
    "import utils"
   ]
  },
  {
   "cell_type": "markdown",
   "id": "6c4b0ead-676d-42f1-badd-fc6363138df9",
   "metadata": {},
   "source": [
    "# Validation Dataset"
   ]
  },
  {
   "cell_type": "code",
   "execution_count": 2,
   "id": "0a17e4c6-c63d-4e22-8236-070a444de43d",
   "metadata": {},
   "outputs": [],
   "source": [
    "# VALIDATION DATASET\n",
    "val_transform = A.Compose([\n",
    "    A.Resize(config.IMG_H, config.IMG_W, p=1),\n",
    "    ToTensorV2(p=1),\n",
    "    ]\n",
    ")"
   ]
  },
  {
   "cell_type": "markdown",
   "id": "ad14de3d-8a4d-4998-8285-5500eceb458b",
   "metadata": {},
   "source": [
    "### DFire"
   ]
  },
  {
   "cell_type": "code",
   "execution_count": 7,
   "id": "362c8182-b41f-4adf-bae2-90cc517b9970",
   "metadata": {},
   "outputs": [
    {
     "name": "stdout",
     "output_type": "stream",
     "text": [
      "\n",
      "TEST DFire dataset\n",
      "DFire Removed wrong images: 0\n",
      "DFire empty images: 2005\n",
      "DFire only smoke images: 1186\n",
      "DFire only fire images: 220\n",
      "DFire smoke and fire images: 895\n",
      "Test dataset len: 4306\n"
     ]
    }
   ],
   "source": [
    "print(\"\\nTEST DFire dataset\")\n",
    "val_dfire_dataset = dataset.DFireDataset(\n",
    "    img_h = config.IMG_H,\n",
    "    img_w = config.IMG_W,\n",
    "    img_dir = config.VAL_IMG_DIR,\n",
    "    label_dir = config.VAL_LABEL_DIR,\n",
    "    num_classes = config.N_CLASSES,\n",
    "    ds_len = config.DS_LEN,\n",
    "    transform=val_transform)\n",
    "print(f'Test dataset len: {len(val_dfire_dataset)}')\n"
   ]
  },
  {
   "cell_type": "markdown",
   "id": "e64a8860-6cca-4747-9b56-34f6823ae966",
   "metadata": {},
   "source": [
    "### FASDD UAV"
   ]
  },
  {
   "cell_type": "code",
   "execution_count": 4,
   "id": "e13bc8b9-0b52-40a0-988d-9f0a6e7b0cdb",
   "metadata": {},
   "outputs": [
    {
     "name": "stdout",
     "output_type": "stream",
     "text": [
      "\n",
      "TEST FASDD UAV dataset\n",
      "DFire Removed wrong images: 0\n",
      "DFire empty images: 1997\n",
      "DFire only smoke images: 846\n",
      "DFire only fire images: 35\n",
      "DFire smoke and fire images: 1303\n",
      "\n",
      "Test FASDD UAV dataset len: 4181\n"
     ]
    }
   ],
   "source": [
    "print(\"\\nTEST FASDD UAV dataset\")\n",
    "val_fasdd_uav_ds = dataset_fasdd.FASDDDataset(\n",
    "    img_h=config.IMG_H, \n",
    "    img_w=config.IMG_W, \n",
    "    imgs_dir=config.FASDD_UAV_IMGS_DIR, \n",
    "    labels_file=config.FASDD_UAV_TEST_LABELS_FILE, \n",
    "    num_classes=config.N_CLASSES,\n",
    "    ds_len=config.DS_LEN,\n",
    "    transform=val_transform)\n",
    "print(f'\\nTest FASDD UAV dataset len: {len(val_fasdd_uav_ds)}')"
   ]
  },
  {
   "cell_type": "markdown",
   "id": "d7e48041-3297-4285-a93e-40c208c09348",
   "metadata": {},
   "source": [
    "### FASDD CV"
   ]
  },
  {
   "cell_type": "code",
   "execution_count": 5,
   "id": "b8f25c20-2163-4ec3-9277-d3fca610977b",
   "metadata": {},
   "outputs": [
    {
     "name": "stdout",
     "output_type": "stream",
     "text": [
      "\n",
      "TEST FASDD CV dataset\n",
      "DFire Removed wrong images: 0\n",
      "DFire empty images: 6533\n",
      "DFire only smoke images: 3902\n",
      "DFire only fire images: 2091\n",
      "DFire smoke and fire images: 3358\n",
      "\n",
      "Test FASDD CV dataset len: 15884\n"
     ]
    }
   ],
   "source": [
    "print(\"\\nTEST FASDD CV dataset\")\n",
    "val_fasdd_cv_ds = dataset_fasdd.FASDDDataset(\n",
    "    img_h=config.IMG_H, \n",
    "    img_w=config.IMG_W, \n",
    "    imgs_dir=config.FASDD_CV_IMGS_DIR, \n",
    "    labels_file=config.FASDD_CV_TEST_LABELS_FILE, \n",
    "    num_classes=config.N_CLASSES,\n",
    "    ds_len=config.DS_LEN,\n",
    "    transform=val_transform)\n",
    "print(f'\\nTest FASDD CV dataset len: {len(val_fasdd_cv_ds)}')"
   ]
  },
  {
   "cell_type": "markdown",
   "id": "f71032ec-753c-4ab2-bf58-fea2755f371a",
   "metadata": {},
   "source": [
    "## Concatenate"
   ]
  },
  {
   "cell_type": "code",
   "execution_count": 8,
   "id": "609d2b44-cd76-4538-9c8d-f2bc2adfd407",
   "metadata": {},
   "outputs": [
    {
     "name": "stdout",
     "output_type": "stream",
     "text": [
      "Concatenate Test DFire and FASDD UAV datasets\n",
      "Test dataset len: 8487\n",
      "Concatenate with FASDD CV dataset\n",
      "Test dataset len: 24371\n"
     ]
    }
   ],
   "source": [
    "print(\"Concatenate Test DFire and FASDD UAV datasets\")\n",
    "val_ds_concat = torch.utils.data.ConcatDataset((val_dfire_dataset, val_fasdd_uav_ds))\n",
    "print(f'Test dataset len: {len(val_ds_concat)}')\n",
    "\n",
    "print(\"Concatenate with FASDD CV dataset\")\n",
    "val_ds = torch.utils.data.ConcatDataset((val_ds_concat, val_fasdd_cv_ds))\n",
    "print(f'Test dataset len: {len(val_ds)}')"
   ]
  },
  {
   "cell_type": "markdown",
   "id": "2869ed15-f18a-4063-83fa-53499d32b211",
   "metadata": {},
   "source": [
    "### LOADER"
   ]
  },
  {
   "cell_type": "code",
   "execution_count": 9,
   "id": "5e75f6cd-6692-449c-b9ac-ca2523ace242",
   "metadata": {},
   "outputs": [],
   "source": [
    "# LOADERS\n",
    "val_loader = DataLoader(dataset=val_ds,\n",
    "                        batch_size=config.BATCH_SIZE,\n",
    "                        num_workers=config.NUM_WORKERS,\n",
    "                        pin_memory=config.PIN_MEMORY,\n",
    "                        shuffle=False,\n",
    "                        drop_last=True)"
   ]
  },
  {
   "cell_type": "markdown",
   "id": "6d7851b9-2419-4c00-bfd1-af47a75b704c",
   "metadata": {},
   "source": [
    "# Loss Function"
   ]
  },
  {
   "cell_type": "code",
   "execution_count": 10,
   "id": "34427e2d-aa24-47d1-8d77-4c87a26e5cd5",
   "metadata": {},
   "outputs": [
    {
     "name": "stdout",
     "output_type": "stream",
     "text": [
      "Loss Function: BCE\n",
      "Smoke Precision Weight: 0.8\n"
     ]
    }
   ],
   "source": [
    "# LOSS FUNCTION\n",
    "if config.LOSS_FN == \"BCE\":\n",
    "    print(f'Loss Function: BCE')\n",
    "    print(f'Smoke Precision Weight: {config.SMOKE_PRECISION_WEIGHT}')\n",
    "    loss_fn = loss.BCE_LOSS(device=config.DEVICE, smoke_precision_weight=config.SMOKE_PRECISION_WEIGHT)\n",
    "else:\n",
    "    print(\"Wrong loss function\")\n",
    "    raise SystemExit(\"Wrong loss function\")"
   ]
  },
  {
   "cell_type": "markdown",
   "id": "8b4af6c4-4e29-4d3f-8ad4-d3b34559b7ef",
   "metadata": {},
   "source": [
    "# Setup Model and Load Weights"
   ]
  },
  {
   "cell_type": "code",
   "execution_count": 11,
   "id": "c1a4c035-be5f-41e2-98a7-1c2ae7cd8feb",
   "metadata": {},
   "outputs": [
    {
     "name": "stdout",
     "output_type": "stream",
     "text": [
      "Using BED Classifier\n"
     ]
    }
   ],
   "source": [
    "if config.MODEL == \"BED\":\n",
    "    print(\"Using BED Classifier\")\n",
    "    model = models.BED_CLASSIFIER(num_classes=config.N_CLASSES).to(config.DEVICE)  \n",
    "else:\n",
    "    print(\"Wrong Model\")\n",
    "    raise SystemExit(\"Wrong Model\")"
   ]
  },
  {
   "cell_type": "code",
   "execution_count": 12,
   "id": "f1525808-8975-4e04-b566-1e8b36010bf7",
   "metadata": {},
   "outputs": [],
   "source": [
    "optimizer = optim.Adam(\n",
    "    model.parameters(), \n",
    "    lr=config.LEARNING_RATE, \n",
    "    weight_decay=config.WEIGHT_DECAY)\n",
    "\n",
    "scheduler = optim.lr_scheduler.ReduceLROnPlateau(\n",
    "    optimizer, \n",
    "    mode='min',\n",
    "    factor=config.FACTOR, \n",
    "    patience=config.PATIENCE, \n",
    "    threshold=config.THRES, \n",
    "    threshold_mode='abs',\n",
    "    min_lr=config.MIN_LR)"
   ]
  },
  {
   "cell_type": "markdown",
   "id": "9c7f23e3-ec23-468d-9bb3-397c45eab9b0",
   "metadata": {},
   "source": [
    "# Load Model WITH Batch Norm"
   ]
  },
  {
   "cell_type": "code",
   "execution_count": 13,
   "id": "5e0fe4dd-cda8-417a-ba8a-b90a994a7665",
   "metadata": {
    "tags": []
   },
   "outputs": [],
   "source": [
    "#model_name = 'BED_classifier__smoke__precision=0.9219__recall=0.9152__epoch=124.pt'\n",
    "#model_name = 'BED_classifier__smoke__precision=0.9123__recall=0.9127__epoch=133.pt'\n",
    "# model_name = 'BED_classifier__smoke__precision=0.9111__recall=0.904__epoch=127.pt'\n",
    "# model_path = 'experiments_256/v0_img_divided_by_256/weights/' + model_name\n",
    "# epoch_saved = utils.load_checkpoint(model_path, model, optimizer, scheduler, config.DEVICE)"
   ]
  },
  {
   "cell_type": "markdown",
   "id": "88585a02-998f-4e2d-b01a-394e8302a762",
   "metadata": {},
   "source": [
    "### Model trained with DFire and FASDD"
   ]
  },
  {
   "cell_type": "code",
   "execution_count": 14,
   "id": "4cfffde7-6f20-4557-a1a9-f87740d80532",
   "metadata": {},
   "outputs": [
    {
     "name": "stdout",
     "output_type": "stream",
     "text": [
      "Loading Model. Trained during 87 epochs\n"
     ]
    }
   ],
   "source": [
    "model_name = 'BED_classifier__best_smoke__precision=0.935__epoch=87.pt'\n",
    "model_path = 'experiments_256_add_fasdd/test_00/weights/' + model_name\n",
    "epoch_saved = utils.load_checkpoint(model_path, model, optimizer, scheduler, config.DEVICE)"
   ]
  },
  {
   "cell_type": "markdown",
   "id": "3e047e37-ace0-4d37-baba-b660022ce802",
   "metadata": {},
   "source": [
    "# Fuse Conv2d and BatchNorm"
   ]
  },
  {
   "cell_type": "code",
   "execution_count": 15,
   "id": "79a7d739-c83e-499d-b3a1-c547dc66cf86",
   "metadata": {
    "tags": []
   },
   "outputs": [],
   "source": [
    "modules_to_fuse = [ \n",
    "    [\"model.conv1\", \"model.bn1\"],\n",
    "    [\"model.conv2\", \"model.bn2\"],\n",
    "    [\"model.conv31\", \"model.bn31\"],\n",
    "    [\"model.conv32\", \"model.bn32\"],\n",
    "    [\"model.conv33\", \"model.bn33\"],\n",
    "    [\"model.conv34\", \"model.bn34\"],\n",
    "    [\"model.conv41\", \"model.bn41\"],\n",
    "    [\"model.conv42\", \"model.bn42\"],\n",
    "    [\"model.conv43\", \"model.bn43\"],\n",
    "    [\"model.conv44\", \"model.bn44\"],\n",
    "    [\"model.conv45\", \"model.bn45\"],\n",
    "    [\"model.conv46\", \"model.bn46\"]\n",
    "]"
   ]
  },
  {
   "cell_type": "code",
   "execution_count": 16,
   "id": "e937f426-85a5-42c0-80aa-e2a44eda35cc",
   "metadata": {
    "tags": []
   },
   "outputs": [],
   "source": [
    "model.eval()\n",
    "fused_model = torch.ao.quantization.fuse_modules(model, modules_to_fuse)"
   ]
  },
  {
   "cell_type": "markdown",
   "id": "766439cd-7bf1-41b1-9264-7fee861fe108",
   "metadata": {},
   "source": [
    "# Print Fused Model"
   ]
  },
  {
   "cell_type": "code",
   "execution_count": 17,
   "id": "71a4883f-faf5-44c5-9a5f-913a12ed2000",
   "metadata": {
    "tags": []
   },
   "outputs": [
    {
     "name": "stdout",
     "output_type": "stream",
     "text": [
      "==========================================================================================\n",
      "Layer (type:depth-idx)                   Output Shape              Param #\n",
      "==========================================================================================\n",
      "BED_CLASSIFIER                           [1, 2]                    --\n",
      "├─Sequential: 1-1                        [1, 2]                    --\n",
      "│    └─Conv2d: 2-1                       [1, 32, 224, 224]         896\n",
      "│    └─Identity: 2-2                     [1, 32, 224, 224]         --\n",
      "│    └─ReLU: 2-3                         [1, 32, 224, 224]         --\n",
      "│    └─Dropout2d: 2-4                    [1, 32, 224, 224]         --\n",
      "│    └─MaxPool2d: 2-5                    [1, 32, 112, 112]         --\n",
      "│    └─Conv2d: 2-6                       [1, 16, 112, 112]         4,624\n",
      "│    └─Identity: 2-7                     [1, 16, 112, 112]         --\n",
      "│    └─ReLU: 2-8                         [1, 16, 112, 112]         --\n",
      "│    └─Dropout2d: 2-9                    [1, 16, 112, 112]         --\n",
      "│    └─MaxPool2d: 2-10                   [1, 16, 56, 56]           --\n",
      "│    └─Conv2d: 2-11                      [1, 16, 56, 56]           272\n",
      "│    └─Identity: 2-12                    [1, 16, 56, 56]           --\n",
      "│    └─ReLU: 2-13                        [1, 16, 56, 56]           --\n",
      "│    └─Conv2d: 2-14                      [1, 32, 56, 56]           4,640\n",
      "│    └─Identity: 2-15                    [1, 32, 56, 56]           --\n",
      "│    └─ReLU: 2-16                        [1, 32, 56, 56]           --\n",
      "│    └─Conv2d: 2-17                      [1, 32, 56, 56]           1,056\n",
      "│    └─Identity: 2-18                    [1, 32, 56, 56]           --\n",
      "│    └─ReLU: 2-19                        [1, 32, 56, 56]           --\n",
      "│    └─Conv2d: 2-20                      [1, 64, 56, 56]           18,496\n",
      "│    └─Identity: 2-21                    [1, 64, 56, 56]           --\n",
      "│    └─ReLU: 2-22                        [1, 64, 56, 56]           --\n",
      "│    └─MaxPool2d: 2-23                   [1, 64, 28, 28]           --\n",
      "│    └─Conv2d: 2-24                      [1, 32, 28, 28]           2,080\n",
      "│    └─Identity: 2-25                    [1, 32, 28, 28]           --\n",
      "│    └─ReLU: 2-26                        [1, 32, 28, 28]           --\n",
      "│    └─Conv2d: 2-27                      [1, 64, 28, 28]           18,496\n",
      "│    └─Identity: 2-28                    [1, 64, 28, 28]           --\n",
      "│    └─ReLU: 2-29                        [1, 64, 28, 28]           --\n",
      "│    └─Conv2d: 2-30                      [1, 32, 28, 28]           2,080\n",
      "│    └─Identity: 2-31                    [1, 32, 28, 28]           --\n",
      "│    └─ReLU: 2-32                        [1, 32, 28, 28]           --\n",
      "│    └─Conv2d: 2-33                      [1, 64, 28, 28]           18,496\n",
      "│    └─Identity: 2-34                    [1, 64, 28, 28]           --\n",
      "│    └─ReLU: 2-35                        [1, 64, 28, 28]           --\n",
      "│    └─Conv2d: 2-36                      [1, 32, 28, 28]           2,080\n",
      "│    └─Identity: 2-37                    [1, 32, 28, 28]           --\n",
      "│    └─ReLU: 2-38                        [1, 32, 28, 28]           --\n",
      "│    └─Conv2d: 2-39                      [1, 64, 28, 28]           18,496\n",
      "│    └─Identity: 2-40                    [1, 64, 28, 28]           --\n",
      "│    └─ReLU: 2-41                        [1, 64, 28, 28]           --\n",
      "│    └─AdaptiveAvgPool2d: 2-42           [1, 64, 1, 1]             --\n",
      "│    └─Flatten: 2-43                     [1, 64]                   --\n",
      "│    └─Dropout: 2-44                     [1, 64]                   --\n",
      "│    └─Linear: 2-45                      [1, 16]                   1,040\n",
      "│    └─ReLU: 2-46                        [1, 16]                   --\n",
      "│    └─Linear: 2-47                      [1, 2]                    34\n",
      "==========================================================================================\n",
      "Total params: 92,786\n",
      "Trainable params: 92,306\n",
      "Non-trainable params: 480\n",
      "Total mult-adds (M): 228.08\n",
      "==========================================================================================\n",
      "Input size (MB): 0.60\n",
      "Forward/backward pass size (MB): 19.87\n",
      "Params size (MB): 0.37\n",
      "Estimated Total Size (MB): 20.84\n",
      "==========================================================================================\n"
     ]
    }
   ],
   "source": [
    "print(summary(fused_model, input_size=(1, 3, config.IMG_H, config.IMG_W)))"
   ]
  },
  {
   "cell_type": "markdown",
   "id": "1d184986-ace3-44a3-82a2-1f9e29680576",
   "metadata": {},
   "source": [
    "# Evaluate Fused Model vs Un-Fused Model"
   ]
  },
  {
   "cell_type": "code",
   "execution_count": 18,
   "id": "5fb1b816-de8e-43e8-85e9-73efbcc4eefe",
   "metadata": {
    "tags": []
   },
   "outputs": [
    {
     "name": "stdout",
     "output_type": "stream",
     "text": [
      "____________________________ MODEL BEFORE FUSION ____________________________\n"
     ]
    },
    {
     "name": "stderr",
     "output_type": "stream",
     "text": [
      "Validating: 100%|████████████████████████████████████████████████████████████████████████████████| 380/380 [00:22<00:00, 16.85it/s]\n"
     ]
    },
    {
     "name": "stdout",
     "output_type": "stream",
     "text": [
      "Total Loss  |Smoke Loss  |Fire Loss   \n",
      "------------ ------------ ------------\n",
      "19.195      |12.298      |6.897       \n",
      "SMOKE -> Precision: 0.935 - Recall: 0.878 - Accuracy: 0.914 - F1: 0.906\n",
      "FIRE -> Precision: 0.913 - Recall: 0.974 - Accuracy: 0.961 - F1: 0.942\n",
      "\n",
      "____________________________ MODEL AFTER FUSION ____________________________\n"
     ]
    },
    {
     "name": "stderr",
     "output_type": "stream",
     "text": [
      "Validating: 100%|████████████████████████████████████████████████████████████████████████████████| 380/380 [00:22<00:00, 16.94it/s]"
     ]
    },
    {
     "name": "stdout",
     "output_type": "stream",
     "text": [
      "Total Loss  |Smoke Loss  |Fire Loss   \n",
      "------------ ------------ ------------\n",
      "19.193      |12.296      |6.897       \n",
      "SMOKE -> Precision: 0.935 - Recall: 0.878 - Accuracy: 0.914 - F1: 0.906\n",
      "FIRE -> Precision: 0.913 - Recall: 0.974 - Accuracy: 0.961 - F1: 0.942\n"
     ]
    },
    {
     "name": "stderr",
     "output_type": "stream",
     "text": [
      "\n"
     ]
    }
   ],
   "source": [
    "model.eval()\n",
    "fused_model.eval()\n",
    "\n",
    "with torch.no_grad():\n",
    "    print(\"____________________________ MODEL BEFORE FUSION ____________________________\")\n",
    "    val_losses, val_metrics = val_epoch.eval_fn(\n",
    "        loader=val_loader, \n",
    "        model=model,                         \n",
    "        loss_fn=loss_fn,\n",
    "        device=config.DEVICE)\n",
    "    print(\"\\n____________________________ MODEL AFTER FUSION ____________________________\")\n",
    "    val_losses, val_metrics = val_epoch.eval_fn(\n",
    "        loader=val_loader, \n",
    "        model=fused_model,                         \n",
    "        loss_fn=loss_fn,\n",
    "        device=config.DEVICE)"
   ]
  },
  {
   "cell_type": "markdown",
   "id": "576497b3-c297-4919-ba40-2e3ef7a6b9d2",
   "metadata": {},
   "source": [
    "# Load Model WITHOUT Batch Norm"
   ]
  },
  {
   "cell_type": "code",
   "execution_count": 19,
   "id": "60eb967a-88ce-4bcc-98de-45aba87012ba",
   "metadata": {},
   "outputs": [
    {
     "data": {
      "text/plain": [
       "NoBN_BED_CLASSIFIER(\n",
       "  (model): Sequential(\n",
       "    (conv1): Conv2d(3, 32, kernel_size=(3, 3), stride=(1, 1), padding=(1, 1))\n",
       "    (relu1): ReLU()\n",
       "    (dropout1): Dropout2d(p=0.3, inplace=False)\n",
       "    (maxpool2): MaxPool2d(kernel_size=2, stride=2, padding=0, dilation=1, ceil_mode=False)\n",
       "    (conv2): Conv2d(32, 16, kernel_size=(3, 3), stride=(1, 1), padding=(1, 1))\n",
       "    (relu2): ReLU()\n",
       "    (dropout2): Dropout2d(p=0.3, inplace=False)\n",
       "    (maxpool3): MaxPool2d(kernel_size=2, stride=2, padding=0, dilation=1, ceil_mode=False)\n",
       "    (conv31): Conv2d(16, 16, kernel_size=(1, 1), stride=(1, 1))\n",
       "    (relu31): ReLU()\n",
       "    (conv32): Conv2d(16, 32, kernel_size=(3, 3), stride=(1, 1), padding=(1, 1))\n",
       "    (relu32): ReLU()\n",
       "    (conv33): Conv2d(32, 32, kernel_size=(1, 1), stride=(1, 1))\n",
       "    (relu33): ReLU()\n",
       "    (conv34): Conv2d(32, 64, kernel_size=(3, 3), stride=(1, 1), padding=(1, 1))\n",
       "    (relu34): ReLU()\n",
       "    (maxpool4): MaxPool2d(kernel_size=2, stride=2, padding=0, dilation=1, ceil_mode=False)\n",
       "    (conv41): Conv2d(64, 32, kernel_size=(1, 1), stride=(1, 1))\n",
       "    (relu41): ReLU()\n",
       "    (conv42): Conv2d(32, 64, kernel_size=(3, 3), stride=(1, 1), padding=(1, 1))\n",
       "    (relu42): ReLU()\n",
       "    (conv43): Conv2d(64, 32, kernel_size=(1, 1), stride=(1, 1))\n",
       "    (relu43): ReLU()\n",
       "    (conv44): Conv2d(32, 64, kernel_size=(3, 3), stride=(1, 1), padding=(1, 1))\n",
       "    (relu44): ReLU()\n",
       "    (conv45): Conv2d(64, 32, kernel_size=(1, 1), stride=(1, 1))\n",
       "    (relu45): ReLU()\n",
       "    (conv46): Conv2d(32, 64, kernel_size=(3, 3), stride=(1, 1), padding=(1, 1))\n",
       "    (relu46): ReLU()\n",
       "    (avgpool5): AdaptiveAvgPool2d(output_size=(1, 1))\n",
       "    (flatten5): Flatten(start_dim=1, end_dim=-1)\n",
       "    (dropout5): Dropout(p=0.2, inplace=False)\n",
       "    (linear51): Linear(in_features=64, out_features=16, bias=True)\n",
       "    (relu5): ReLU()\n",
       "    (linear52): Linear(in_features=16, out_features=2, bias=True)\n",
       "  )\n",
       ")"
      ]
     },
     "execution_count": 19,
     "metadata": {},
     "output_type": "execute_result"
    }
   ],
   "source": [
    "model_woBN = models.NoBN_BED_CLASSIFIER(num_classes=config.N_CLASSES).to(config.DEVICE) \n",
    "\n",
    "optimizer_noBN = optim.Adam(\n",
    "    model_woBN.parameters(), \n",
    "    lr=config.LEARNING_RATE, \n",
    "    weight_decay=config.WEIGHT_DECAY)\n",
    "\n",
    "scheduler_noBN = optim.lr_scheduler.ReduceLROnPlateau(\n",
    "    optimizer_noBN, \n",
    "    mode='min',\n",
    "    factor=config.FACTOR, \n",
    "    patience=config.PATIENCE, \n",
    "    threshold=config.THRES, \n",
    "    threshold_mode='abs',\n",
    "    min_lr=config.MIN_LR)\n",
    "\n",
    "model_woBN.eval()"
   ]
  },
  {
   "cell_type": "code",
   "execution_count": 20,
   "id": "960f5acf-c82a-48b6-b879-5a634b4150ca",
   "metadata": {},
   "outputs": [
    {
     "name": "stdout",
     "output_type": "stream",
     "text": [
      "==========================================================================================\n",
      "Layer (type:depth-idx)                   Output Shape              Param #\n",
      "==========================================================================================\n",
      "NoBN_BED_CLASSIFIER                      [1, 2]                    --\n",
      "├─Sequential: 1-1                        [1, 2]                    --\n",
      "│    └─Conv2d: 2-1                       [1, 32, 224, 224]         896\n",
      "│    └─ReLU: 2-2                         [1, 32, 224, 224]         --\n",
      "│    └─Dropout2d: 2-3                    [1, 32, 224, 224]         --\n",
      "│    └─MaxPool2d: 2-4                    [1, 32, 112, 112]         --\n",
      "│    └─Conv2d: 2-5                       [1, 16, 112, 112]         4,624\n",
      "│    └─ReLU: 2-6                         [1, 16, 112, 112]         --\n",
      "│    └─Dropout2d: 2-7                    [1, 16, 112, 112]         --\n",
      "│    └─MaxPool2d: 2-8                    [1, 16, 56, 56]           --\n",
      "│    └─Conv2d: 2-9                       [1, 16, 56, 56]           272\n",
      "│    └─ReLU: 2-10                        [1, 16, 56, 56]           --\n",
      "│    └─Conv2d: 2-11                      [1, 32, 56, 56]           4,640\n",
      "│    └─ReLU: 2-12                        [1, 32, 56, 56]           --\n",
      "│    └─Conv2d: 2-13                      [1, 32, 56, 56]           1,056\n",
      "│    └─ReLU: 2-14                        [1, 32, 56, 56]           --\n",
      "│    └─Conv2d: 2-15                      [1, 64, 56, 56]           18,496\n",
      "│    └─ReLU: 2-16                        [1, 64, 56, 56]           --\n",
      "│    └─MaxPool2d: 2-17                   [1, 64, 28, 28]           --\n",
      "│    └─Conv2d: 2-18                      [1, 32, 28, 28]           2,080\n",
      "│    └─ReLU: 2-19                        [1, 32, 28, 28]           --\n",
      "│    └─Conv2d: 2-20                      [1, 64, 28, 28]           18,496\n",
      "│    └─ReLU: 2-21                        [1, 64, 28, 28]           --\n",
      "│    └─Conv2d: 2-22                      [1, 32, 28, 28]           2,080\n",
      "│    └─ReLU: 2-23                        [1, 32, 28, 28]           --\n",
      "│    └─Conv2d: 2-24                      [1, 64, 28, 28]           18,496\n",
      "│    └─ReLU: 2-25                        [1, 64, 28, 28]           --\n",
      "│    └─Conv2d: 2-26                      [1, 32, 28, 28]           2,080\n",
      "│    └─ReLU: 2-27                        [1, 32, 28, 28]           --\n",
      "│    └─Conv2d: 2-28                      [1, 64, 28, 28]           18,496\n",
      "│    └─ReLU: 2-29                        [1, 64, 28, 28]           --\n",
      "│    └─AdaptiveAvgPool2d: 2-30           [1, 64, 1, 1]             --\n",
      "│    └─Flatten: 2-31                     [1, 64]                   --\n",
      "│    └─Dropout: 2-32                     [1, 64]                   --\n",
      "│    └─Linear: 2-33                      [1, 16]                   1,040\n",
      "│    └─ReLU: 2-34                        [1, 16]                   --\n",
      "│    └─Linear: 2-35                      [1, 2]                    34\n",
      "==========================================================================================\n",
      "Total params: 92,786\n",
      "Trainable params: 92,786\n",
      "Non-trainable params: 0\n",
      "Total mult-adds (M): 228.08\n",
      "==========================================================================================\n",
      "Input size (MB): 0.60\n",
      "Forward/backward pass size (MB): 19.87\n",
      "Params size (MB): 0.37\n",
      "Estimated Total Size (MB): 20.84\n",
      "==========================================================================================\n"
     ]
    }
   ],
   "source": [
    "print(summary(model_woBN, input_size=(1, 3, config.IMG_H, config.IMG_W)))"
   ]
  },
  {
   "cell_type": "markdown",
   "id": "0df6a1f5-9559-4c36-8ef2-31b3ed799493",
   "metadata": {},
   "source": [
    "# Load Pretrained Weights Into No Batch Norm Model\n",
    "\n",
    "- Iterate over fused model modules\n",
    "- Iterate over model wo BN modules\n",
    "- If names match, load weights"
   ]
  },
  {
   "cell_type": "code",
   "execution_count": 21,
   "id": "4393d629-4ef4-4a69-8581-cbd065e53053",
   "metadata": {},
   "outputs": [
    {
     "name": "stdout",
     "output_type": "stream",
     "text": [
      "original model name:  - no BN model name: \n",
      "\t______ Ignore weights or params of layer ori  and no BN \n",
      "original model name: model - no BN model name: model\n",
      "\t______ Ignore weights or params of layer ori model and no BN model\n",
      "original model name: model.conv1 - no BN model name: model.conv1\n",
      "\t****** Loading weights of Conv2d layer ori model.conv1 into no BN model.conv1\n",
      "original model name: model.relu1 - no BN model name: model.relu1\n",
      "\t______ Ignore weights or params of layer ori model.relu1 and no BN model.relu1\n",
      "original model name: model.dropout1 - no BN model name: model.dropout1\n",
      "\t______ Ignore weights or params of layer ori model.dropout1 and no BN model.dropout1\n",
      "original model name: model.maxpool2 - no BN model name: model.maxpool2\n",
      "\t______ Ignore weights or params of layer ori model.maxpool2 and no BN model.maxpool2\n",
      "original model name: model.conv2 - no BN model name: model.conv2\n",
      "\t****** Loading weights of Conv2d layer ori model.conv2 into no BN model.conv2\n",
      "original model name: model.relu2 - no BN model name: model.relu2\n",
      "\t______ Ignore weights or params of layer ori model.relu2 and no BN model.relu2\n",
      "original model name: model.dropout2 - no BN model name: model.dropout2\n",
      "\t______ Ignore weights or params of layer ori model.dropout2 and no BN model.dropout2\n",
      "original model name: model.maxpool3 - no BN model name: model.maxpool3\n",
      "\t______ Ignore weights or params of layer ori model.maxpool3 and no BN model.maxpool3\n",
      "original model name: model.conv31 - no BN model name: model.conv31\n",
      "\t****** Loading weights of Conv2d layer ori model.conv31 into no BN model.conv31\n",
      "original model name: model.relu31 - no BN model name: model.relu31\n",
      "\t______ Ignore weights or params of layer ori model.relu31 and no BN model.relu31\n",
      "original model name: model.conv32 - no BN model name: model.conv32\n",
      "\t****** Loading weights of Conv2d layer ori model.conv32 into no BN model.conv32\n",
      "original model name: model.relu32 - no BN model name: model.relu32\n",
      "\t______ Ignore weights or params of layer ori model.relu32 and no BN model.relu32\n",
      "original model name: model.conv33 - no BN model name: model.conv33\n",
      "\t****** Loading weights of Conv2d layer ori model.conv33 into no BN model.conv33\n",
      "original model name: model.relu33 - no BN model name: model.relu33\n",
      "\t______ Ignore weights or params of layer ori model.relu33 and no BN model.relu33\n",
      "original model name: model.conv34 - no BN model name: model.conv34\n",
      "\t****** Loading weights of Conv2d layer ori model.conv34 into no BN model.conv34\n",
      "original model name: model.relu34 - no BN model name: model.relu34\n",
      "\t______ Ignore weights or params of layer ori model.relu34 and no BN model.relu34\n",
      "original model name: model.maxpool4 - no BN model name: model.maxpool4\n",
      "\t______ Ignore weights or params of layer ori model.maxpool4 and no BN model.maxpool4\n",
      "original model name: model.conv41 - no BN model name: model.conv41\n",
      "\t****** Loading weights of Conv2d layer ori model.conv41 into no BN model.conv41\n",
      "original model name: model.relu41 - no BN model name: model.relu41\n",
      "\t______ Ignore weights or params of layer ori model.relu41 and no BN model.relu41\n",
      "original model name: model.conv42 - no BN model name: model.conv42\n",
      "\t****** Loading weights of Conv2d layer ori model.conv42 into no BN model.conv42\n",
      "original model name: model.relu42 - no BN model name: model.relu42\n",
      "\t______ Ignore weights or params of layer ori model.relu42 and no BN model.relu42\n",
      "original model name: model.conv43 - no BN model name: model.conv43\n",
      "\t****** Loading weights of Conv2d layer ori model.conv43 into no BN model.conv43\n",
      "original model name: model.relu43 - no BN model name: model.relu43\n",
      "\t______ Ignore weights or params of layer ori model.relu43 and no BN model.relu43\n",
      "original model name: model.conv44 - no BN model name: model.conv44\n",
      "\t****** Loading weights of Conv2d layer ori model.conv44 into no BN model.conv44\n",
      "original model name: model.relu44 - no BN model name: model.relu44\n",
      "\t______ Ignore weights or params of layer ori model.relu44 and no BN model.relu44\n",
      "original model name: model.conv45 - no BN model name: model.conv45\n",
      "\t****** Loading weights of Conv2d layer ori model.conv45 into no BN model.conv45\n",
      "original model name: model.relu45 - no BN model name: model.relu45\n",
      "\t______ Ignore weights or params of layer ori model.relu45 and no BN model.relu45\n",
      "original model name: model.conv46 - no BN model name: model.conv46\n",
      "\t****** Loading weights of Conv2d layer ori model.conv46 into no BN model.conv46\n",
      "original model name: model.relu46 - no BN model name: model.relu46\n",
      "\t______ Ignore weights or params of layer ori model.relu46 and no BN model.relu46\n",
      "original model name: model.avgpool5 - no BN model name: model.avgpool5\n",
      "\t______ Ignore weights or params of layer ori model.avgpool5 and no BN model.avgpool5\n",
      "original model name: model.flatten5 - no BN model name: model.flatten5\n",
      "\t______ Ignore weights or params of layer ori model.flatten5 and no BN model.flatten5\n",
      "original model name: model.dropout5 - no BN model name: model.dropout5\n",
      "\t______ Ignore weights or params of layer ori model.dropout5 and no BN model.dropout5\n",
      "original model name: model.linear51 - no BN model name: model.linear51\n",
      "\t****** Loading weights of Linear layer ori model.linear51 into no BN model.linear51\n",
      "original model name: model.relu5 - no BN model name: model.relu5\n",
      "\t______ Ignore weights or params of layer ori model.relu5 and no BN model.relu5\n",
      "original model name: model.linear52 - no BN model name: model.linear52\n",
      "\t****** Loading weights of Linear layer ori model.linear52 into no BN model.linear52\n"
     ]
    }
   ],
   "source": [
    "fused_model.eval()\n",
    "\n",
    "for ori_model_name, ori_model_mod in fused_model.named_modules():\n",
    "    # Use below line if model wo BN has no names defined, but self.convxx = ...\n",
    "    #ori_model_name = ori_model_name.split('.')[-1]\n",
    "    for model_woBN_name, model_woBN_mod in  model_woBN.named_modules():\n",
    "        if ori_model_name == model_woBN_name:\n",
    "            print(f'original model name: {ori_model_name} - no BN model name: {model_woBN_name}')\n",
    "            if isinstance(ori_model_mod, nn.Conv2d):\n",
    "                if ori_model_name == model_woBN_name:\n",
    "                    model_woBN_mod.load_state_dict(ori_model_mod.state_dict())\n",
    "                    print(f'\\t****** Loading weights of Conv2d layer ori {ori_model_name} into no BN {model_woBN_name}')\n",
    "            elif isinstance(ori_model_mod, nn.BatchNorm2d):\n",
    "                print(f'\\toooooo BN should never print here, as Fused Model should not have such layers')    \n",
    "            elif isinstance(ori_model_mod, nn.Linear):\n",
    "                if ori_model_name == model_woBN_name:\n",
    "                    model_woBN_mod.load_state_dict(ori_model_mod.state_dict())\n",
    "                    print(f'\\t****** Loading weights of Linear layer ori {ori_model_name} into no BN {model_woBN_name}')\n",
    "            else:\n",
    "                print(f'\\t______ Ignore weights or params of layer ori {ori_model_name} and no BN {model_woBN_name}')"
   ]
  },
  {
   "cell_type": "markdown",
   "id": "fb96b4a7-368f-48b6-83cc-91334c25eddc",
   "metadata": {},
   "source": [
    "# Evaluate Fused Model WO BN vs Un-Fused Original Model"
   ]
  },
  {
   "cell_type": "code",
   "execution_count": 22,
   "id": "e40f51dd-db5f-4413-b76c-2afd1ba109bc",
   "metadata": {},
   "outputs": [
    {
     "name": "stdout",
     "output_type": "stream",
     "text": [
      "____________________________ MODEL BEFORE FUSION ____________________________\n"
     ]
    },
    {
     "name": "stderr",
     "output_type": "stream",
     "text": [
      "Validating: 100%|████████████████████████████████████████████████████████████████████████████████| 380/380 [00:22<00:00, 16.78it/s]\n"
     ]
    },
    {
     "name": "stdout",
     "output_type": "stream",
     "text": [
      "Total Loss  |Smoke Loss  |Fire Loss   \n",
      "------------ ------------ ------------\n",
      "19.195      |12.298      |6.897       \n",
      "SMOKE -> Precision: 0.935 - Recall: 0.878 - Accuracy: 0.914 - F1: 0.906\n",
      "FIRE -> Precision: 0.913 - Recall: 0.974 - Accuracy: 0.961 - F1: 0.942\n",
      "\n",
      "____________________________ MODEL AFTER FUSION ____________________________\n"
     ]
    },
    {
     "name": "stderr",
     "output_type": "stream",
     "text": [
      "Validating: 100%|████████████████████████████████████████████████████████████████████████████████| 380/380 [00:22<00:00, 16.89it/s]"
     ]
    },
    {
     "name": "stdout",
     "output_type": "stream",
     "text": [
      "Total Loss  |Smoke Loss  |Fire Loss   \n",
      "------------ ------------ ------------\n",
      "19.193      |12.296      |6.897       \n",
      "SMOKE -> Precision: 0.935 - Recall: 0.878 - Accuracy: 0.914 - F1: 0.906\n",
      "FIRE -> Precision: 0.913 - Recall: 0.974 - Accuracy: 0.961 - F1: 0.942\n"
     ]
    },
    {
     "name": "stderr",
     "output_type": "stream",
     "text": [
      "\n"
     ]
    }
   ],
   "source": [
    "model.eval()\n",
    "model_woBN.eval()\n",
    "\n",
    "with torch.no_grad():\n",
    "    print(\"____________________________ MODEL BEFORE FUSION ____________________________\")\n",
    "    val_losses, val_metrics = val_epoch.eval_fn(\n",
    "        loader=val_loader, \n",
    "        model=model,                         \n",
    "        loss_fn=loss_fn,\n",
    "        device=config.DEVICE)\n",
    "    print(\"\\n____________________________ MODEL AFTER FUSION ____________________________\")\n",
    "    val_losses, val_metrics = val_epoch.eval_fn(\n",
    "        loader=val_loader, \n",
    "        model=model_woBN,                         \n",
    "        loss_fn=loss_fn,\n",
    "        device=config.DEVICE)"
   ]
  },
  {
   "cell_type": "markdown",
   "id": "dc8168df-41a9-4fe2-b21b-35428a106108",
   "metadata": {},
   "source": [
    "# Save Fused Model and Model WO BN with Pretrained Weights"
   ]
  },
  {
   "cell_type": "code",
   "execution_count": null,
   "id": "37ed2e75-ee0e-4777-8435-8731bb5b939e",
   "metadata": {
    "tags": []
   },
   "outputs": [],
   "source": [
    "# checkpoint_name = 'BED_classifier__fused_ConvBN.pt'\n",
    "# utils.save_checkpoint(epoch_saved, fused_model, optimizer, scheduler, checkpoint_name)\n",
    "# checkpoint_name_noBN = 'BED_classifier__NoBN_fused_ConvBN_v2.pt'\n",
    "# utils.save_checkpoint(epoch_saved, model_woBN, optimizer_noBN, scheduler_noBN, checkpoint_name_noBN)"
   ]
  },
  {
   "cell_type": "markdown",
   "id": "fcbde87f-9382-418b-b28d-d583c244f7e6",
   "metadata": {},
   "source": [
    "### Model Trained with DFire and FASDD"
   ]
  },
  {
   "cell_type": "code",
   "execution_count": null,
   "id": "ed6fcf73-00f4-43f6-8016-89d5ffc50b04",
   "metadata": {},
   "outputs": [],
   "source": [
    "# checkpoint_name_noBN = 'BED_classifier__fused__dfire_fasdd.pt'\n",
    "# utils.save_checkpoint(epoch_saved, model_woBN, optimizer_noBN, scheduler_noBN, checkpoint_name_noBN)"
   ]
  },
  {
   "cell_type": "markdown",
   "id": "bc3d21d6-15a0-4789-85f2-4b897234852e",
   "metadata": {},
   "source": [
    "# Export to ONNX"
   ]
  },
  {
   "cell_type": "code",
   "execution_count": null,
   "id": "b6885924-2f7a-45d3-aa4e-726a926d57a9",
   "metadata": {
    "tags": []
   },
   "outputs": [],
   "source": [
    "# torch_input = torch.randn(1, 3, config.IMG_H, config.IMG_W).to(config.DEVICE)\n",
    "# #onnx_program_fused = torch.onnx.dynamo_export(fused_model, torch_input)\n",
    "# onnx_program_noBN = torch.onnx.dynamo_export(model_woBN, torch_input)"
   ]
  },
  {
   "cell_type": "code",
   "execution_count": null,
   "id": "c95d9f09-2bca-4eb0-a676-4ec99c00bfcf",
   "metadata": {
    "tags": []
   },
   "outputs": [],
   "source": [
    "#onnx_program_fused.save(\"BED_classifier__fused_ConvBN.onnx\")\n",
    "#onnx_program_noBN.save(\"BED_classifier__NoBN_fused_ConvBN_v2.onnx\")\n",
    "\n",
    "# FASDD\n",
    "#onnx_program_noBN.save(\"BED_classifier__fused__dfire_fasdd.onnx\")"
   ]
  },
  {
   "cell_type": "markdown",
   "id": "dcba4796-560d-493c-a4d5-e0503100036a",
   "metadata": {},
   "source": [
    "# Optimize with JIT"
   ]
  },
  {
   "cell_type": "code",
   "execution_count": null,
   "id": "2e987ec3-97f7-41fb-95b3-c095c39481e6",
   "metadata": {
    "tags": []
   },
   "outputs": [],
   "source": [
    "# frozen_mod = torch.jit.optimize_for_inference(torch.jit.script(model.eval()))"
   ]
  },
  {
   "cell_type": "code",
   "execution_count": null,
   "id": "9c63d16f-de29-4035-a61b-4b7a32691922",
   "metadata": {
    "tags": []
   },
   "outputs": [],
   "source": [
    "# frozen_mod.save('BED_classifier__jit_optimized.pt')"
   ]
  },
  {
   "cell_type": "markdown",
   "id": "e2dd2c78-c060-4b2b-97cf-589ef4339c8e",
   "metadata": {},
   "source": [
    "# Some print syntax"
   ]
  },
  {
   "cell_type": "code",
   "execution_count": null,
   "id": "3d2e9287-6db9-4f05-8774-192a7012be03",
   "metadata": {
    "tags": []
   },
   "outputs": [],
   "source": [
    "model.model.bn1.weight"
   ]
  },
  {
   "cell_type": "code",
   "execution_count": null,
   "id": "80ec8d4e-bed9-4bcc-a9b8-514d05af77e2",
   "metadata": {
    "tags": []
   },
   "outputs": [],
   "source": [
    "# Name is of type string\n",
    "for name, mod in fused_model.named_modules():\n",
    "    print(name, mod)"
   ]
  },
  {
   "cell_type": "code",
   "execution_count": null,
   "id": "af1d7790-ff7c-465f-a969-238c0e9c77ce",
   "metadata": {},
   "outputs": [],
   "source": []
  }
 ],
 "metadata": {
  "kernelspec": {
   "display_name": "Python 3 (ipykernel)",
   "language": "python",
   "name": "python3"
  },
  "language_info": {
   "codemirror_mode": {
    "name": "ipython",
    "version": 3
   },
   "file_extension": ".py",
   "mimetype": "text/x-python",
   "name": "python",
   "nbconvert_exporter": "python",
   "pygments_lexer": "ipython3",
   "version": "3.10.9"
  }
 },
 "nbformat": 4,
 "nbformat_minor": 5
}
