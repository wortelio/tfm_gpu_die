{
 "cells": [
  {
   "cell_type": "code",
   "execution_count": 1,
   "id": "67aa5dfa-e414-44cb-9d42-d943322873e4",
   "metadata": {
    "tags": []
   },
   "outputs": [],
   "source": [
    "import numpy as np\n",
    "\n",
    "import torch\n",
    "\n",
    "import torch.nn as nn \n",
    "from torch.nn.utils import parameters_to_vector\n",
    "import torch.optim as optim\n",
    "from torchinfo import summary\n",
    "\n",
    "import models"
   ]
  },
  {
   "cell_type": "code",
   "execution_count": 3,
   "id": "06f7c8a5-b81e-47d7-9dca-f71b8d864c02",
   "metadata": {
    "tags": []
   },
   "outputs": [],
   "source": [
    "def load_checkpoint(model_path, model, optimizer=None, scheduler=None, device='cpu'):\n",
    "    checkpoint = torch.load(model_path, map_location=device)\n",
    "    model.load_state_dict(checkpoint['model_state_dict'])\n",
    "    if optimizer is not None:\n",
    "        optimizer.load_state_dict(checkpoint['optimizer_state_dict'])\n",
    "    if scheduler is not None:\n",
    "        scheduler.load_state_dict(checkpoint['scheduler_state_dict'])\n",
    "    start_epoch = checkpoint['epoch']\n",
    "    print(f\"Loading Model. Trained during {start_epoch} epochs\")\n",
    "    return start_epoch"
   ]
  },
  {
   "cell_type": "code",
   "execution_count": 4,
   "id": "e0a381f3-bb87-44f9-b71f-56e91b476dc7",
   "metadata": {
    "tags": []
   },
   "outputs": [],
   "source": [
    "fp32_model = models.ORIGINAL_BED_CLASSIFIER(num_classes=2).to('cpu')   "
   ]
  },
  {
   "cell_type": "code",
   "execution_count": 5,
   "id": "63512296-5a40-4c46-8939-8cfbbdea6e9a",
   "metadata": {
    "tags": []
   },
   "outputs": [],
   "source": [
    "model_folder = './experiments_original/00_bed_original/weights/'\n",
    "model_path = model_folder + 'BED_classifier__best_loss.pt'"
   ]
  },
  {
   "cell_type": "code",
   "execution_count": 6,
   "id": "6e06c6e7-ff2f-4925-bf12-df725244612a",
   "metadata": {
    "tags": []
   },
   "outputs": [
    {
     "name": "stdout",
     "output_type": "stream",
     "text": [
      "Loading Model. Trained during 87 epochs\n"
     ]
    },
    {
     "data": {
      "text/plain": [
       "87"
      ]
     },
     "execution_count": 6,
     "metadata": {},
     "output_type": "execute_result"
    }
   ],
   "source": [
    "load_checkpoint(model_path, fp32_model)"
   ]
  },
  {
   "cell_type": "code",
   "execution_count": 8,
   "id": "38c2da72-0fcc-41fd-9bb0-4176c1f623ba",
   "metadata": {
    "tags": []
   },
   "outputs": [
    {
     "name": "stdout",
     "output_type": "stream",
     "text": [
      "\n",
      "Trainable parameters = 282578\n",
      "Total parameters = 282578\n",
      "\n"
     ]
    }
   ],
   "source": [
    "# MODEL PARAMETERS\n",
    "n_trainable = sum(p.numel() for p in fp32_model.parameters() if p.requires_grad)\n",
    "print(f'\\nTrainable parameters = {n_trainable}')\n",
    "\n",
    "n_params = parameters_to_vector(fp32_model.parameters()).numel()\n",
    "print(f'Total parameters = {n_params}\\n')"
   ]
  },
  {
   "cell_type": "code",
   "execution_count": 9,
   "id": "0d7e9964-face-4494-b6c0-de0998ae7200",
   "metadata": {
    "tags": []
   },
   "outputs": [
    {
     "name": "stderr",
     "output_type": "stream",
     "text": [
      "/opt/conda/envs/pytorch_23/lib/python3.10/site-packages/torch/onnx/_internal/exporter.py:136: UserWarning: torch.onnx.dynamo_export only implements opset version 18 for now. If you need to use a different opset version, please register them with register_custom_op.\n",
      "  warnings.warn(\n",
      "/opt/conda/envs/pytorch_23/lib/python3.10/site-packages/torch/onnx/_internal/fx/passes/readability.py:53: UserWarning: Attempted to insert a get_attr Node with no underlying reference in the owning GraphModule! Call GraphModule.add_submodule to add the necessary submodule, GraphModule.add_parameter to add the necessary Parameter, or nn.Module.register_buffer to add the necessary buffer\n",
      "  new_node = self.module.graph.get_attr(normalized_name)\n",
      "/opt/conda/envs/pytorch_23/lib/python3.10/site-packages/torch/fx/graph.py:1460: UserWarning: Node model_bn1_running_mean target model/bn1/running_mean model/bn1/running_mean of  does not reference an nn.Module, nn.Parameter, or buffer, which is what 'get_attr' Nodes typically target\n",
      "  warnings.warn(f'Node {node} target {node.target} {atom} of {seen_qualname} does '\n",
      "/opt/conda/envs/pytorch_23/lib/python3.10/site-packages/torch/fx/graph.py:1460: UserWarning: Node model_bn1_running_var target model/bn1/running_var model/bn1/running_var of  does not reference an nn.Module, nn.Parameter, or buffer, which is what 'get_attr' Nodes typically target\n",
      "  warnings.warn(f'Node {node} target {node.target} {atom} of {seen_qualname} does '\n",
      "/opt/conda/envs/pytorch_23/lib/python3.10/site-packages/torch/fx/graph.py:1460: UserWarning: Node model_bn2_running_mean target model/bn2/running_mean model/bn2/running_mean of  does not reference an nn.Module, nn.Parameter, or buffer, which is what 'get_attr' Nodes typically target\n",
      "  warnings.warn(f'Node {node} target {node.target} {atom} of {seen_qualname} does '\n",
      "/opt/conda/envs/pytorch_23/lib/python3.10/site-packages/torch/fx/graph.py:1460: UserWarning: Node model_bn2_running_var target model/bn2/running_var model/bn2/running_var of  does not reference an nn.Module, nn.Parameter, or buffer, which is what 'get_attr' Nodes typically target\n",
      "  warnings.warn(f'Node {node} target {node.target} {atom} of {seen_qualname} does '\n",
      "/opt/conda/envs/pytorch_23/lib/python3.10/site-packages/torch/fx/graph.py:1460: UserWarning: Node model_bn31_running_mean target model/bn31/running_mean model/bn31/running_mean of  does not reference an nn.Module, nn.Parameter, or buffer, which is what 'get_attr' Nodes typically target\n",
      "  warnings.warn(f'Node {node} target {node.target} {atom} of {seen_qualname} does '\n",
      "/opt/conda/envs/pytorch_23/lib/python3.10/site-packages/torch/fx/graph.py:1460: UserWarning: Node model_bn31_running_var target model/bn31/running_var model/bn31/running_var of  does not reference an nn.Module, nn.Parameter, or buffer, which is what 'get_attr' Nodes typically target\n",
      "  warnings.warn(f'Node {node} target {node.target} {atom} of {seen_qualname} does '\n",
      "/opt/conda/envs/pytorch_23/lib/python3.10/site-packages/torch/fx/graph.py:1460: UserWarning: Node model_bn32_running_mean target model/bn32/running_mean model/bn32/running_mean of  does not reference an nn.Module, nn.Parameter, or buffer, which is what 'get_attr' Nodes typically target\n",
      "  warnings.warn(f'Node {node} target {node.target} {atom} of {seen_qualname} does '\n",
      "/opt/conda/envs/pytorch_23/lib/python3.10/site-packages/torch/fx/graph.py:1460: UserWarning: Node model_bn32_running_var target model/bn32/running_var model/bn32/running_var of  does not reference an nn.Module, nn.Parameter, or buffer, which is what 'get_attr' Nodes typically target\n",
      "  warnings.warn(f'Node {node} target {node.target} {atom} of {seen_qualname} does '\n",
      "/opt/conda/envs/pytorch_23/lib/python3.10/site-packages/torch/fx/graph.py:1460: UserWarning: Node model_bn33_running_mean target model/bn33/running_mean model/bn33/running_mean of  does not reference an nn.Module, nn.Parameter, or buffer, which is what 'get_attr' Nodes typically target\n",
      "  warnings.warn(f'Node {node} target {node.target} {atom} of {seen_qualname} does '\n",
      "/opt/conda/envs/pytorch_23/lib/python3.10/site-packages/torch/fx/graph.py:1460: UserWarning: Node model_bn33_running_var target model/bn33/running_var model/bn33/running_var of  does not reference an nn.Module, nn.Parameter, or buffer, which is what 'get_attr' Nodes typically target\n",
      "  warnings.warn(f'Node {node} target {node.target} {atom} of {seen_qualname} does '\n",
      "/opt/conda/envs/pytorch_23/lib/python3.10/site-packages/torch/fx/graph.py:1460: UserWarning: Node model_bn34_running_mean target model/bn34/running_mean model/bn34/running_mean of  does not reference an nn.Module, nn.Parameter, or buffer, which is what 'get_attr' Nodes typically target\n",
      "  warnings.warn(f'Node {node} target {node.target} {atom} of {seen_qualname} does '\n",
      "/opt/conda/envs/pytorch_23/lib/python3.10/site-packages/torch/fx/graph.py:1460: UserWarning: Node model_bn34_running_var target model/bn34/running_var model/bn34/running_var of  does not reference an nn.Module, nn.Parameter, or buffer, which is what 'get_attr' Nodes typically target\n",
      "  warnings.warn(f'Node {node} target {node.target} {atom} of {seen_qualname} does '\n",
      "/opt/conda/envs/pytorch_23/lib/python3.10/site-packages/torch/fx/graph.py:1460: UserWarning: Node model_bn41_running_mean target model/bn41/running_mean model/bn41/running_mean of  does not reference an nn.Module, nn.Parameter, or buffer, which is what 'get_attr' Nodes typically target\n",
      "  warnings.warn(f'Node {node} target {node.target} {atom} of {seen_qualname} does '\n",
      "/opt/conda/envs/pytorch_23/lib/python3.10/site-packages/torch/fx/graph.py:1460: UserWarning: Node model_bn41_running_var target model/bn41/running_var model/bn41/running_var of  does not reference an nn.Module, nn.Parameter, or buffer, which is what 'get_attr' Nodes typically target\n",
      "  warnings.warn(f'Node {node} target {node.target} {atom} of {seen_qualname} does '\n",
      "/opt/conda/envs/pytorch_23/lib/python3.10/site-packages/torch/fx/graph.py:1460: UserWarning: Node model_bn42_running_mean target model/bn42/running_mean model/bn42/running_mean of  does not reference an nn.Module, nn.Parameter, or buffer, which is what 'get_attr' Nodes typically target\n",
      "  warnings.warn(f'Node {node} target {node.target} {atom} of {seen_qualname} does '\n",
      "/opt/conda/envs/pytorch_23/lib/python3.10/site-packages/torch/fx/graph.py:1460: UserWarning: Node model_bn42_running_var target model/bn42/running_var model/bn42/running_var of  does not reference an nn.Module, nn.Parameter, or buffer, which is what 'get_attr' Nodes typically target\n",
      "  warnings.warn(f'Node {node} target {node.target} {atom} of {seen_qualname} does '\n",
      "/opt/conda/envs/pytorch_23/lib/python3.10/site-packages/torch/fx/graph.py:1460: UserWarning: Node model_bn43_running_mean target model/bn43/running_mean model/bn43/running_mean of  does not reference an nn.Module, nn.Parameter, or buffer, which is what 'get_attr' Nodes typically target\n",
      "  warnings.warn(f'Node {node} target {node.target} {atom} of {seen_qualname} does '\n",
      "/opt/conda/envs/pytorch_23/lib/python3.10/site-packages/torch/fx/graph.py:1460: UserWarning: Node model_bn43_running_var target model/bn43/running_var model/bn43/running_var of  does not reference an nn.Module, nn.Parameter, or buffer, which is what 'get_attr' Nodes typically target\n",
      "  warnings.warn(f'Node {node} target {node.target} {atom} of {seen_qualname} does '\n",
      "/opt/conda/envs/pytorch_23/lib/python3.10/site-packages/torch/fx/graph.py:1460: UserWarning: Node model_bn44_running_mean target model/bn44/running_mean model/bn44/running_mean of  does not reference an nn.Module, nn.Parameter, or buffer, which is what 'get_attr' Nodes typically target\n",
      "  warnings.warn(f'Node {node} target {node.target} {atom} of {seen_qualname} does '\n",
      "/opt/conda/envs/pytorch_23/lib/python3.10/site-packages/torch/fx/graph.py:1460: UserWarning: Node model_bn44_running_var target model/bn44/running_var model/bn44/running_var of  does not reference an nn.Module, nn.Parameter, or buffer, which is what 'get_attr' Nodes typically target\n",
      "  warnings.warn(f'Node {node} target {node.target} {atom} of {seen_qualname} does '\n",
      "/opt/conda/envs/pytorch_23/lib/python3.10/site-packages/torch/fx/graph.py:1460: UserWarning: Node model_bn45_running_mean target model/bn45/running_mean model/bn45/running_mean of  does not reference an nn.Module, nn.Parameter, or buffer, which is what 'get_attr' Nodes typically target\n",
      "  warnings.warn(f'Node {node} target {node.target} {atom} of {seen_qualname} does '\n",
      "/opt/conda/envs/pytorch_23/lib/python3.10/site-packages/torch/fx/graph.py:1460: UserWarning: Node model_bn45_running_var target model/bn45/running_var model/bn45/running_var of  does not reference an nn.Module, nn.Parameter, or buffer, which is what 'get_attr' Nodes typically target\n",
      "  warnings.warn(f'Node {node} target {node.target} {atom} of {seen_qualname} does '\n",
      "/opt/conda/envs/pytorch_23/lib/python3.10/site-packages/torch/fx/graph.py:1460: UserWarning: Node model_bn46_running_mean target model/bn46/running_mean model/bn46/running_mean of  does not reference an nn.Module, nn.Parameter, or buffer, which is what 'get_attr' Nodes typically target\n",
      "  warnings.warn(f'Node {node} target {node.target} {atom} of {seen_qualname} does '\n",
      "/opt/conda/envs/pytorch_23/lib/python3.10/site-packages/torch/fx/graph.py:1460: UserWarning: Node model_bn46_running_var target model/bn46/running_var model/bn46/running_var of  does not reference an nn.Module, nn.Parameter, or buffer, which is what 'get_attr' Nodes typically target\n",
      "  warnings.warn(f'Node {node} target {node.target} {atom} of {seen_qualname} does '\n",
      "/opt/conda/envs/pytorch_23/lib/python3.10/site-packages/torch/fx/graph.py:1460: UserWarning: Node model_bn51_running_mean target model/bn51/running_mean model/bn51/running_mean of  does not reference an nn.Module, nn.Parameter, or buffer, which is what 'get_attr' Nodes typically target\n",
      "  warnings.warn(f'Node {node} target {node.target} {atom} of {seen_qualname} does '\n",
      "/opt/conda/envs/pytorch_23/lib/python3.10/site-packages/torch/fx/graph.py:1460: UserWarning: Node model_bn51_running_var target model/bn51/running_var model/bn51/running_var of  does not reference an nn.Module, nn.Parameter, or buffer, which is what 'get_attr' Nodes typically target\n",
      "  warnings.warn(f'Node {node} target {node.target} {atom} of {seen_qualname} does '\n",
      "/opt/conda/envs/pytorch_23/lib/python3.10/site-packages/torch/fx/graph.py:1460: UserWarning: Node model_bn52_running_mean target model/bn52/running_mean model/bn52/running_mean of  does not reference an nn.Module, nn.Parameter, or buffer, which is what 'get_attr' Nodes typically target\n",
      "  warnings.warn(f'Node {node} target {node.target} {atom} of {seen_qualname} does '\n",
      "/opt/conda/envs/pytorch_23/lib/python3.10/site-packages/torch/fx/graph.py:1460: UserWarning: Node model_bn52_running_var target model/bn52/running_var model/bn52/running_var of  does not reference an nn.Module, nn.Parameter, or buffer, which is what 'get_attr' Nodes typically target\n",
      "  warnings.warn(f'Node {node} target {node.target} {atom} of {seen_qualname} does '\n",
      "/opt/conda/envs/pytorch_23/lib/python3.10/site-packages/torch/fx/graph.py:1460: UserWarning: Node model_bn53_running_mean target model/bn53/running_mean model/bn53/running_mean of  does not reference an nn.Module, nn.Parameter, or buffer, which is what 'get_attr' Nodes typically target\n",
      "  warnings.warn(f'Node {node} target {node.target} {atom} of {seen_qualname} does '\n",
      "/opt/conda/envs/pytorch_23/lib/python3.10/site-packages/torch/fx/graph.py:1460: UserWarning: Node model_bn53_running_var target model/bn53/running_var model/bn53/running_var of  does not reference an nn.Module, nn.Parameter, or buffer, which is what 'get_attr' Nodes typically target\n",
      "  warnings.warn(f'Node {node} target {node.target} {atom} of {seen_qualname} does '\n",
      "/opt/conda/envs/pytorch_23/lib/python3.10/site-packages/torch/fx/graph.py:1460: UserWarning: Node model_bn54_running_mean target model/bn54/running_mean model/bn54/running_mean of  does not reference an nn.Module, nn.Parameter, or buffer, which is what 'get_attr' Nodes typically target\n",
      "  warnings.warn(f'Node {node} target {node.target} {atom} of {seen_qualname} does '\n",
      "/opt/conda/envs/pytorch_23/lib/python3.10/site-packages/torch/fx/graph.py:1460: UserWarning: Node model_bn54_running_var target model/bn54/running_var model/bn54/running_var of  does not reference an nn.Module, nn.Parameter, or buffer, which is what 'get_attr' Nodes typically target\n",
      "  warnings.warn(f'Node {node} target {node.target} {atom} of {seen_qualname} does '\n",
      "/opt/conda/envs/pytorch_23/lib/python3.10/site-packages/torch/fx/graph.py:1460: UserWarning: Node model_bn55_running_mean target model/bn55/running_mean model/bn55/running_mean of  does not reference an nn.Module, nn.Parameter, or buffer, which is what 'get_attr' Nodes typically target\n",
      "  warnings.warn(f'Node {node} target {node.target} {atom} of {seen_qualname} does '\n",
      "/opt/conda/envs/pytorch_23/lib/python3.10/site-packages/torch/fx/graph.py:1460: UserWarning: Node model_bn55_running_var target model/bn55/running_var model/bn55/running_var of  does not reference an nn.Module, nn.Parameter, or buffer, which is what 'get_attr' Nodes typically target\n",
      "  warnings.warn(f'Node {node} target {node.target} {atom} of {seen_qualname} does '\n",
      "/opt/conda/envs/pytorch_23/lib/python3.10/site-packages/torch/fx/graph.py:1460: UserWarning: Node model_bn56_running_mean target model/bn56/running_mean model/bn56/running_mean of  does not reference an nn.Module, nn.Parameter, or buffer, which is what 'get_attr' Nodes typically target\n",
      "  warnings.warn(f'Node {node} target {node.target} {atom} of {seen_qualname} does '\n",
      "/opt/conda/envs/pytorch_23/lib/python3.10/site-packages/torch/fx/graph.py:1460: UserWarning: Node model_bn56_running_var target model/bn56/running_var model/bn56/running_var of  does not reference an nn.Module, nn.Parameter, or buffer, which is what 'get_attr' Nodes typically target\n",
      "  warnings.warn(f'Node {node} target {node.target} {atom} of {seen_qualname} does '\n",
      "/opt/conda/envs/pytorch_23/lib/python3.10/site-packages/torch/fx/graph.py:1460: UserWarning: Node model_bn61_running_mean target model/bn61/running_mean model/bn61/running_mean of  does not reference an nn.Module, nn.Parameter, or buffer, which is what 'get_attr' Nodes typically target\n",
      "  warnings.warn(f'Node {node} target {node.target} {atom} of {seen_qualname} does '\n",
      "/opt/conda/envs/pytorch_23/lib/python3.10/site-packages/torch/fx/graph.py:1460: UserWarning: Node model_bn61_running_var target model/bn61/running_var model/bn61/running_var of  does not reference an nn.Module, nn.Parameter, or buffer, which is what 'get_attr' Nodes typically target\n",
      "  warnings.warn(f'Node {node} target {node.target} {atom} of {seen_qualname} does '\n",
      "/opt/conda/envs/pytorch_23/lib/python3.10/site-packages/torch/fx/graph.py:1460: UserWarning: Node model_bn62_running_mean target model/bn62/running_mean model/bn62/running_mean of  does not reference an nn.Module, nn.Parameter, or buffer, which is what 'get_attr' Nodes typically target\n",
      "  warnings.warn(f'Node {node} target {node.target} {atom} of {seen_qualname} does '\n",
      "/opt/conda/envs/pytorch_23/lib/python3.10/site-packages/torch/fx/graph.py:1460: UserWarning: Node model_bn62_running_var target model/bn62/running_var model/bn62/running_var of  does not reference an nn.Module, nn.Parameter, or buffer, which is what 'get_attr' Nodes typically target\n",
      "  warnings.warn(f'Node {node} target {node.target} {atom} of {seen_qualname} does '\n"
     ]
    }
   ],
   "source": [
    "fp32_model.eval()\n",
    "torch_input = torch.rand(1, 3, 224, 224)\n",
    "onnx_program = torch.onnx.dynamo_export(fp32_model, torch_input)"
   ]
  },
  {
   "cell_type": "code",
   "execution_count": 10,
   "id": "b8b82a04-51cc-4cef-9c40-356d84960b02",
   "metadata": {
    "tags": []
   },
   "outputs": [],
   "source": [
    "onnx_program.save(\"bed_original_cpu_epoch=87.onnx\")"
   ]
  },
  {
   "cell_type": "code",
   "execution_count": null,
   "id": "b2b2201d-f4c7-4c3c-8575-b54bfa7ea81c",
   "metadata": {},
   "outputs": [],
   "source": []
  }
 ],
 "metadata": {
  "kernelspec": {
   "display_name": "Python 3 (ipykernel)",
   "language": "python",
   "name": "python3"
  },
  "language_info": {
   "codemirror_mode": {
    "name": "ipython",
    "version": 3
   },
   "file_extension": ".py",
   "mimetype": "text/x-python",
   "name": "python",
   "nbconvert_exporter": "python",
   "pygments_lexer": "ipython3",
   "version": "3.10.13"
  }
 },
 "nbformat": 4,
 "nbformat_minor": 5
}
