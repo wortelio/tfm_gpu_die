{
 "cells": [
  {
   "cell_type": "code",
   "execution_count": 1,
   "id": "43481054-d465-4aee-a76a-403d188fe075",
   "metadata": {},
   "outputs": [
    {
     "name": "stderr",
     "output_type": "stream",
     "text": [
      "INFO:albumentations.check_version:A new version of Albumentations is available: 1.4.14 (you have 1.4.10). Upgrade using: pip install --upgrade albumentations\n"
     ]
    }
   ],
   "source": [
    "import os\n",
    "from pathlib import Path\n",
    "import logging\n",
    "\n",
    "from tqdm import tqdm\n",
    "\n",
    "import torch\n",
    "from torch.utils.data import DataLoader\n",
    "\n",
    "import albumentations as A\n",
    "from albumentations.pytorch import ToTensorV2\n",
    "\n",
    "import torch.nn as nn \n",
    "import torch.optim as optim\n",
    "from torchinfo import summary\n",
    "\n",
    "import config\n",
    "import dataset\n",
    "import dataset_fasdd\n",
    "import models\n",
    "import loss\n",
    "import val_epoch\n",
    "import utils"
   ]
  },
  {
   "cell_type": "markdown",
   "id": "59fe53fc-8acd-463e-95e1-3449595a69a9",
   "metadata": {},
   "source": [
    "# Logger"
   ]
  },
  {
   "cell_type": "code",
   "execution_count": 2,
   "id": "b1b07a0e-79e4-4bb1-ae65-3bf6563e434e",
   "metadata": {},
   "outputs": [],
   "source": [
    "log_path = config.LOGS_FOLDER\n",
    "\n",
    "logger = logging.getLogger(\"GonLogger\")\n",
    "logger.propagate = False\n",
    "logger.setLevel(logging.INFO)\n",
    "file_handler = logging.FileHandler(log_path + 'logfile.log')\n",
    "formatter = logging.Formatter('%(message)s')\n",
    "file_handler.setFormatter(formatter)\n",
    "\n",
    "# add file handler to logger\n",
    "logger.addHandler(file_handler)\n",
    "\n",
    "logger.info('BED Classifier trained with FASDD evaluated with several loaders.\\n')  "
   ]
  },
  {
   "cell_type": "markdown",
   "id": "6c4b0ead-676d-42f1-badd-fc6363138df9",
   "metadata": {},
   "source": [
    "# Validation Dataset"
   ]
  },
  {
   "cell_type": "code",
   "execution_count": 3,
   "id": "0a17e4c6-c63d-4e22-8236-070a444de43d",
   "metadata": {},
   "outputs": [],
   "source": [
    "# VALIDATION DATASET\n",
    "val_transform = A.Compose([\n",
    "    A.Resize(config.IMG_H, config.IMG_W, p=1),\n",
    "    ToTensorV2(p=1),\n",
    "    ]\n",
    ")"
   ]
  },
  {
   "cell_type": "markdown",
   "id": "ad14de3d-8a4d-4998-8285-5500eceb458b",
   "metadata": {},
   "source": [
    "### DFire"
   ]
  },
  {
   "cell_type": "code",
   "execution_count": 4,
   "id": "362c8182-b41f-4adf-bae2-90cc517b9970",
   "metadata": {},
   "outputs": [
    {
     "name": "stdout",
     "output_type": "stream",
     "text": [
      "\n",
      "TEST DFire dataset\n",
      "DFire Removed wrong images: 0\n",
      "DFire empty images: 2005\n",
      "DFire only smoke images: 1186\n",
      "DFire only fire images: 220\n",
      "DFire smoke and fire images: 895\n",
      "\n",
      "Test dataset len: 4306\n"
     ]
    }
   ],
   "source": [
    "print(\"\\nTEST DFire dataset\")\n",
    "val_dfire_dataset = dataset.DFireDataset(\n",
    "    img_h = config.IMG_H,\n",
    "    img_w = config.IMG_W,\n",
    "    img_dir = config.VAL_IMG_DIR,\n",
    "    label_dir = config.VAL_LABEL_DIR,\n",
    "    num_classes = config.N_CLASSES,\n",
    "    ds_len = config.DS_LEN,\n",
    "    transform=val_transform)\n",
    "print(f'\\nTest dataset len: {len(val_dfire_dataset)}')\n",
    "logger.info(\"\\nTEST DFire dataset\")\n",
    "logger.info(f'Test dataset len: {len(val_dfire_dataset)}')"
   ]
  },
  {
   "cell_type": "code",
   "execution_count": 5,
   "id": "6a67b7bf-4dc1-45a9-b291-d7991a07e9e6",
   "metadata": {},
   "outputs": [],
   "source": [
    "val_dfire_loader = DataLoader(\n",
    "    dataset=val_dfire_dataset,\n",
    "    batch_size=config.BATCH_SIZE,\n",
    "    num_workers=config.NUM_WORKERS,\n",
    "    pin_memory=config.PIN_MEMORY,\n",
    "    shuffle=False,\n",
    "    drop_last=True)"
   ]
  },
  {
   "cell_type": "markdown",
   "id": "e64a8860-6cca-4747-9b56-34f6823ae966",
   "metadata": {},
   "source": [
    "### FASDD UAV"
   ]
  },
  {
   "cell_type": "code",
   "execution_count": 6,
   "id": "e13bc8b9-0b52-40a0-988d-9f0a6e7b0cdb",
   "metadata": {},
   "outputs": [
    {
     "name": "stdout",
     "output_type": "stream",
     "text": [
      "\n",
      "TEST FASDD UAV dataset\n",
      "DFire Removed wrong images: 0\n",
      "DFire empty images: 1997\n",
      "DFire only smoke images: 846\n",
      "DFire only fire images: 35\n",
      "DFire smoke and fire images: 1303\n",
      "\n",
      "Test FASDD UAV dataset len: 4181\n"
     ]
    }
   ],
   "source": [
    "print(\"\\nTEST FASDD UAV dataset\")\n",
    "val_fasdd_uav_ds = dataset_fasdd.FASDDDataset(\n",
    "    img_h=config.IMG_H, \n",
    "    img_w=config.IMG_W, \n",
    "    imgs_dir=config.FASDD_UAV_IMGS_DIR, \n",
    "    labels_file=config.FASDD_UAV_TEST_LABELS_FILE, \n",
    "    num_classes=config.N_CLASSES,\n",
    "    ds_len=config.DS_LEN,\n",
    "    transform=val_transform)\n",
    "print(f'\\nTest FASDD UAV dataset len: {len(val_fasdd_uav_ds)}')\n",
    "logger.info(\"\\nTEST FASDD UAV dataset\")\n",
    "logger.info(f'Test FASDD UAV dataset len: {len(val_fasdd_uav_ds)}')"
   ]
  },
  {
   "cell_type": "code",
   "execution_count": 7,
   "id": "e6f09c87-e1b5-4986-bb94-da6a7cbb7222",
   "metadata": {},
   "outputs": [],
   "source": [
    "val_fasdd_uav_loader = DataLoader(\n",
    "    dataset=val_fasdd_uav_ds,\n",
    "    batch_size=config.BATCH_SIZE,\n",
    "    num_workers=config.NUM_WORKERS,\n",
    "    pin_memory=config.PIN_MEMORY,\n",
    "    shuffle=False,\n",
    "    drop_last=True)"
   ]
  },
  {
   "cell_type": "markdown",
   "id": "d7e48041-3297-4285-a93e-40c208c09348",
   "metadata": {},
   "source": [
    "### FASDD CV"
   ]
  },
  {
   "cell_type": "code",
   "execution_count": 8,
   "id": "b8f25c20-2163-4ec3-9277-d3fca610977b",
   "metadata": {},
   "outputs": [
    {
     "name": "stdout",
     "output_type": "stream",
     "text": [
      "\n",
      "TEST FASDD CV dataset\n",
      "DFire Removed wrong images: 0\n",
      "DFire empty images: 6533\n",
      "DFire only smoke images: 3902\n",
      "DFire only fire images: 2091\n",
      "DFire smoke and fire images: 3358\n",
      "\n",
      "Test FASDD CV dataset len: 15884\n"
     ]
    }
   ],
   "source": [
    "print(\"\\nTEST FASDD CV dataset\")\n",
    "val_fasdd_cv_ds = dataset_fasdd.FASDDDataset(\n",
    "    img_h=config.IMG_H, \n",
    "    img_w=config.IMG_W, \n",
    "    imgs_dir=config.FASDD_CV_IMGS_DIR, \n",
    "    labels_file=config.FASDD_CV_TEST_LABELS_FILE, \n",
    "    num_classes=config.N_CLASSES,\n",
    "    ds_len=config.DS_LEN,\n",
    "    transform=val_transform)\n",
    "print(f'\\nTest FASDD CV dataset len: {len(val_fasdd_cv_ds)}')\n",
    "logger.info(\"\\nTEST FASDD CV dataset\")\n",
    "logger.info(f'Test FASDD CV dataset len: {len(val_fasdd_cv_ds)}')"
   ]
  },
  {
   "cell_type": "code",
   "execution_count": 9,
   "id": "d2b67cc5-7645-4e73-82e7-921844dddb1d",
   "metadata": {},
   "outputs": [],
   "source": [
    "val_fasdd_cv_loader = DataLoader(\n",
    "    dataset=val_fasdd_cv_ds,\n",
    "    batch_size=config.BATCH_SIZE,\n",
    "    num_workers=config.NUM_WORKERS,\n",
    "    pin_memory=config.PIN_MEMORY,\n",
    "    shuffle=False,\n",
    "    drop_last=True)"
   ]
  },
  {
   "cell_type": "markdown",
   "id": "aa556278-c024-479a-adae-29a310b70c6d",
   "metadata": {},
   "source": [
    "# Full DS Contatenation"
   ]
  },
  {
   "cell_type": "code",
   "execution_count": 10,
   "id": "840a57e8-126a-4875-b1e0-cee54b443774",
   "metadata": {},
   "outputs": [
    {
     "name": "stdout",
     "output_type": "stream",
     "text": [
      "Concatenate Test DFire and FASDD UAV datasets\n",
      "Test dataset len: 8487\n",
      "Concatenate with FASDD CV dataset\n",
      "Test dataset len: 24371\n"
     ]
    }
   ],
   "source": [
    "print(\"Concatenate Test DFire and FASDD UAV datasets\")\n",
    "logger.info(\"Concatenate Test DFire and FASDD UAV datasets\")\n",
    "val_ds_concat = torch.utils.data.ConcatDataset((val_dfire_dataset, val_fasdd_uav_ds))\n",
    "print(f'Test dataset len: {len(val_ds_concat)}')\n",
    "logger.info(f'Test dataset len: {len(val_ds_concat)}')\n",
    "\n",
    "print(\"Concatenate with FASDD CV dataset\")\n",
    "logger.info(\"Concatenate with FASDD CV dataset\")\n",
    "val_ds = torch.utils.data.ConcatDataset((val_ds_concat, val_fasdd_cv_ds))\n",
    "print(f'Test dataset len: {len(val_ds)}')\n",
    "logger.info(f'Test dataset len: {len(val_ds)}')"
   ]
  },
  {
   "cell_type": "code",
   "execution_count": 11,
   "id": "d309c81f-390f-4ba7-b92a-a4685e5039f2",
   "metadata": {},
   "outputs": [],
   "source": [
    "val_loader = DataLoader(dataset=val_ds,\n",
    "                        batch_size=config.BATCH_SIZE,\n",
    "                        num_workers=config.NUM_WORKERS,\n",
    "                        pin_memory=config.PIN_MEMORY,\n",
    "                        shuffle=False,\n",
    "                        drop_last=True)"
   ]
  },
  {
   "cell_type": "markdown",
   "id": "6d7851b9-2419-4c00-bfd1-af47a75b704c",
   "metadata": {},
   "source": [
    "# Loss Function"
   ]
  },
  {
   "cell_type": "code",
   "execution_count": 12,
   "id": "34427e2d-aa24-47d1-8d77-4c87a26e5cd5",
   "metadata": {},
   "outputs": [
    {
     "name": "stdout",
     "output_type": "stream",
     "text": [
      "Loss Function: BCE\n",
      "Smoke Precision Weight: 0.8\n"
     ]
    }
   ],
   "source": [
    "# LOSS FUNCTION\n",
    "if config.LOSS_FN == \"BCE\":\n",
    "    print(f'Loss Function: BCE')\n",
    "    print(f'Smoke Precision Weight: {config.SMOKE_PRECISION_WEIGHT}')\n",
    "    loss_fn = loss.BCE_LOSS(device=config.DEVICE, smoke_precision_weight=config.SMOKE_PRECISION_WEIGHT)\n",
    "else:\n",
    "    print(\"Wrong loss function\")\n",
    "    raise SystemExit(\"Wrong loss function\")"
   ]
  },
  {
   "cell_type": "markdown",
   "id": "8b4af6c4-4e29-4d3f-8ad4-d3b34559b7ef",
   "metadata": {},
   "source": [
    "# Setup Model and Load Weights"
   ]
  },
  {
   "cell_type": "code",
   "execution_count": 13,
   "id": "c1a4c035-be5f-41e2-98a7-1c2ae7cd8feb",
   "metadata": {},
   "outputs": [
    {
     "name": "stdout",
     "output_type": "stream",
     "text": [
      "Using BED Classifier\n"
     ]
    }
   ],
   "source": [
    "if config.MODEL == \"BED\":\n",
    "    print(\"Using BED Classifier\")\n",
    "    model = models.BED_CLASSIFIER(num_classes=config.N_CLASSES).to(config.DEVICE)  \n",
    "else:\n",
    "    print(\"Wrong Model\")\n",
    "    raise SystemExit(\"Wrong Model\")"
   ]
  },
  {
   "cell_type": "code",
   "execution_count": 14,
   "id": "f1525808-8975-4e04-b566-1e8b36010bf7",
   "metadata": {},
   "outputs": [],
   "source": [
    "optimizer = optim.Adam(\n",
    "    model.parameters(), \n",
    "    lr=config.LEARNING_RATE, \n",
    "    weight_decay=config.WEIGHT_DECAY)\n",
    "\n",
    "scheduler = optim.lr_scheduler.ReduceLROnPlateau(\n",
    "    optimizer, \n",
    "    mode='min',\n",
    "    factor=config.FACTOR, \n",
    "    patience=config.PATIENCE, \n",
    "    threshold=config.THRES, \n",
    "    threshold_mode='abs',\n",
    "    min_lr=config.MIN_LR)"
   ]
  },
  {
   "cell_type": "markdown",
   "id": "88585a02-998f-4e2d-b01a-394e8302a762",
   "metadata": {},
   "source": [
    "### Model trained with DFire and FASDD"
   ]
  },
  {
   "cell_type": "code",
   "execution_count": 15,
   "id": "4cfffde7-6f20-4557-a1a9-f87740d80532",
   "metadata": {},
   "outputs": [
    {
     "name": "stdout",
     "output_type": "stream",
     "text": [
      "Loading Model. Trained during 87 epochs\n"
     ]
    }
   ],
   "source": [
    "model_name = 'BED_classifier__best_smoke__precision=0.935__epoch=87.pt'\n",
    "model_path = 'experiments_256_add_fasdd/test_00/weights/' + model_name\n",
    "epoch_saved = utils.load_checkpoint(model_path, model, optimizer, scheduler, config.DEVICE)"
   ]
  },
  {
   "cell_type": "markdown",
   "id": "1d184986-ace3-44a3-82a2-1f9e29680576",
   "metadata": {},
   "source": [
    "# Evaluate Model Trained with FASDD with Different Loaders"
   ]
  },
  {
   "cell_type": "code",
   "execution_count": 16,
   "id": "5fb1b816-de8e-43e8-85e9-73efbcc4eefe",
   "metadata": {
    "tags": []
   },
   "outputs": [
    {
     "name": "stdout",
     "output_type": "stream",
     "text": [
      "____________________________ Full DS ____________________________\n"
     ]
    },
    {
     "name": "stderr",
     "output_type": "stream",
     "text": [
      "Validating: 100%|██████████████████████████████████████████████████████████████████████████████████████████████| 380/380 [00:22<00:00, 16.55it/s]\n"
     ]
    },
    {
     "name": "stdout",
     "output_type": "stream",
     "text": [
      "Total Loss  |Smoke Loss  |Fire Loss   \n",
      "------------ ------------ ------------\n",
      "19.195      |12.298      |6.897       \n",
      "SMOKE -> Precision: 0.935 - Recall: 0.878 - Accuracy: 0.914 - F1: 0.906\n",
      "FIRE -> Precision: 0.913 - Recall: 0.974 - Accuracy: 0.961 - F1: 0.942\n",
      "\n",
      "____________________________ DFire ____________________________\n"
     ]
    },
    {
     "name": "stderr",
     "output_type": "stream",
     "text": [
      "Validating: 100%|████████████████████████████████████████████████████████████████████████████████████████████████| 67/67 [00:02<00:00, 27.22it/s]\n"
     ]
    },
    {
     "name": "stdout",
     "output_type": "stream",
     "text": [
      "Total Loss  |Smoke Loss  |Fire Loss   \n",
      "------------ ------------ ------------\n",
      "17.534      |11.831      |5.703       \n",
      "SMOKE -> Precision: 0.934 - Recall: 0.908 - Accuracy: 0.925 - F1: 0.921\n",
      "FIRE -> Precision: 0.940 - Recall: 0.945 - Accuracy: 0.970 - F1: 0.942\n",
      "\n",
      "____________________________ FASDD UAV ____________________________\n"
     ]
    },
    {
     "name": "stderr",
     "output_type": "stream",
     "text": [
      "Validating: 100%|████████████████████████████████████████████████████████████████████████████████████████████████| 65/65 [00:10<00:00,  6.42it/s]\n"
     ]
    },
    {
     "name": "stdout",
     "output_type": "stream",
     "text": [
      "Total Loss  |Smoke Loss  |Fire Loss   \n",
      "------------ ------------ ------------\n",
      "9.396       |7.061       |2.335       \n",
      "SMOKE -> Precision: 0.997 - Recall: 0.920 - Accuracy: 0.957 - F1: 0.957\n",
      "FIRE -> Precision: 0.980 - Recall: 0.972 - Accuracy: 0.985 - F1: 0.976\n",
      "\n",
      "____________________________ FASDD CV ____________________________\n"
     ]
    },
    {
     "name": "stderr",
     "output_type": "stream",
     "text": [
      "Validating: 100%|██████████████████████████████████████████████████████████████████████████████████████████████| 248/248 [00:10<00:00, 23.12it/s]"
     ]
    },
    {
     "name": "stdout",
     "output_type": "stream",
     "text": [
      "Total Loss  |Smoke Loss  |Fire Loss   \n",
      "------------ ------------ ------------\n",
      "22.216      |13.792      |8.424       \n",
      "SMOKE -> Precision: 0.917 - Recall: 0.857 - Accuracy: 0.899 - F1: 0.886\n",
      "FIRE -> Precision: 0.892 - Recall: 0.981 - Accuracy: 0.953 - F1: 0.935\n"
     ]
    },
    {
     "name": "stderr",
     "output_type": "stream",
     "text": [
      "\n"
     ]
    }
   ],
   "source": [
    "model.eval()\n",
    "\n",
    "with torch.no_grad():\n",
    "    print(\"____________________________ Full DS ____________________________\")\n",
    "    logger.info(\"____________________________ Full DS ____________________________\")\n",
    "    val_losses, val_metrics = val_epoch.eval_fn(\n",
    "        loader=val_loader, \n",
    "        model=model,                         \n",
    "        loss_fn=loss_fn,\n",
    "        device=config.DEVICE)\n",
    "    logger.info(val_metrics)\n",
    "    print(\"\\n____________________________ DFire ____________________________\")\n",
    "    logger.info(\"\\n____________________________ DFire ____________________________\")\n",
    "    val_losses, val_metrics = val_epoch.eval_fn(\n",
    "        loader=val_dfire_loader, \n",
    "        model=model,                         \n",
    "        loss_fn=loss_fn,\n",
    "        device=config.DEVICE)\n",
    "    logger.info(val_metrics)\n",
    "    print(\"\\n____________________________ FASDD UAV ____________________________\")\n",
    "    logger.info(\"\\n____________________________ FASDD UAV ____________________________\")\n",
    "    val_losses, val_metrics = val_epoch.eval_fn(\n",
    "        loader=val_fasdd_uav_loader, \n",
    "        model=model,                         \n",
    "        loss_fn=loss_fn,\n",
    "        device=config.DEVICE)\n",
    "    logger.info(val_metrics)\n",
    "    print(\"\\n____________________________ FASDD CV ____________________________\")\n",
    "    logger.info(\"\\n____________________________ FASDD UAV ____________________________\")\n",
    "    val_losses, val_metrics = val_epoch.eval_fn(\n",
    "        loader=val_fasdd_cv_loader, \n",
    "        model=model,                         \n",
    "        loss_fn=loss_fn,\n",
    "        device=config.DEVICE)\n",
    "    logger.info(val_metrics)"
   ]
  },
  {
   "cell_type": "code",
   "execution_count": null,
   "id": "af1d7790-ff7c-465f-a969-238c0e9c77ce",
   "metadata": {},
   "outputs": [],
   "source": []
  }
 ],
 "metadata": {
  "kernelspec": {
   "display_name": "Python 3 (ipykernel)",
   "language": "python",
   "name": "python3"
  },
  "language_info": {
   "codemirror_mode": {
    "name": "ipython",
    "version": 3
   },
   "file_extension": ".py",
   "mimetype": "text/x-python",
   "name": "python",
   "nbconvert_exporter": "python",
   "pygments_lexer": "ipython3",
   "version": "3.10.13"
  }
 },
 "nbformat": 4,
 "nbformat_minor": 5
}
