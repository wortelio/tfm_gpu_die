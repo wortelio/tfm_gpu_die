{
 "cells": [
  {
   "cell_type": "code",
   "execution_count": 1,
   "id": "9fced473-bb44-4df6-a924-b07aa3698ee2",
   "metadata": {
    "tags": []
   },
   "outputs": [],
   "source": [
    "import modules.model_mobilenetv3 as mobilenetv3_original\n",
    "import modules.model_mobilenetv3_mini as mobilenetv3_mini\n",
    "\n",
    "import numpy as np\n",
    "import torch\n",
    "from torchinfo import summary\n",
    "\n",
    "import matplotlib.pyplot as plt"
   ]
  },
  {
   "cell_type": "markdown",
   "id": "26f8feb4-6807-4d94-9cd1-b35e4b895cf3",
   "metadata": {
    "jp-MarkdownHeadingCollapsed": true,
    "tags": []
   },
   "source": [
    "# Profiler: torchprofile"
   ]
  },
  {
   "cell_type": "code",
   "execution_count": 2,
   "id": "32a8cbf8-f8b8-4d41-8850-9a4e298f7cd5",
   "metadata": {},
   "outputs": [],
   "source": [
    "from torchprofile import profile_macs"
   ]
  },
  {
   "cell_type": "markdown",
   "id": "152f5887-dd04-4cad-9ffc-c4ffa846009f",
   "metadata": {
    "jp-MarkdownHeadingCollapsed": true,
    "tags": []
   },
   "source": [
    "# Profiler: torchlop"
   ]
  },
  {
   "cell_type": "code",
   "execution_count": 3,
   "id": "d3878a74-fc76-4fd3-bae2-3956c66f9800",
   "metadata": {
    "editable": true,
    "slideshow": {
     "slide_type": ""
    },
    "tags": []
   },
   "outputs": [],
   "source": [
    "from torchlop import profile"
   ]
  },
  {
   "cell_type": "code",
   "execution_count": 4,
   "id": "65274a03-5917-4e4c-830a-7c59a451beae",
   "metadata": {
    "editable": true,
    "slideshow": {
     "slide_type": ""
    },
    "tags": []
   },
   "outputs": [],
   "source": [
    "def get_macs_and_params_per_layer(model):\n",
    "\n",
    "    dummy_inp = torch.randn(1, 3, 224, 224)\n",
    "    macs, params, layer_infos = profile(model, inputs=(dummy_inp, ))\n",
    "\n",
    "    print('Total MACs of {}: {:.4g} M'.format(model.__class__.__name__, macs / 1e6))\n",
    "    print('Total params of {}: {}'.format(model.__class__.__name__, params))\n",
    "\n",
    "    macs_layer = {}\n",
    "    params_layer = {}\n",
    "\n",
    "    conv_idx = 0\n",
    "    linear_idx = 0\n",
    "    \n",
    "    for i, k in enumerate(layer_infos.keys()):\n",
    "        layer_type = layer_infos[k][\"type\"]\n",
    "        layer_ops = layer_infos[k][\"ops\"]\n",
    "        layer_params = layer_infos[k][\"params\"]\n",
    "        if layer_ops != 0 and layer_type != \"BatchNorm2d\":\n",
    "            if layer_type == \"Conv2d\": \n",
    "                macs_layer.update({layer_type + '_' + str(conv_idx): layer_ops})   \n",
    "                params_layer.update({layer_type + '_' + str(conv_idx): layer_params}) \n",
    "                conv_idx += 1\n",
    "            elif layer_type == \"Linear\":\n",
    "                macs_layer.update({layer_type + '_' + str(linear_idx): layer_ops}) \n",
    "                params_layer.update({layer_type + '_' + str(linear_idx): layer_params})  \n",
    "                linear_idx += 1 \n",
    "            else:\n",
    "                macs_layer.update({layer_type: layer_ops})\n",
    "                params_layer.update({layer_type: layer_params})\n",
    "\n",
    "    return macs_layer, params_layer"
   ]
  },
  {
   "cell_type": "markdown",
   "id": "7143d2be-37a8-482e-8c0f-02889285fe37",
   "metadata": {},
   "source": [
    "## Plot results"
   ]
  },
  {
   "cell_type": "code",
   "execution_count": 5,
   "id": "5c92e1e3-ed3b-4e1f-a07f-e69fd7c49f5a",
   "metadata": {},
   "outputs": [],
   "source": [
    "def plot_results(res_layer, res_type: str):\n",
    "    fig, ax = plt.subplots(figsize=(10,3))\n",
    "\n",
    "    layers_name = list(res_layer.keys())\n",
    "    layer_res = list(res_layer.values())\n",
    "    \n",
    "    rects = ax.bar(layers_name, layer_res)\n",
    "    ax.bar_label(rects, padding=3, fontsize=7)\n",
    "    if res_type == \"macs\":\n",
    "        ylabel = \"MACs (M)\"\n",
    "        title = \"MACs per layer (M)\"\n",
    "    elif res_type == \"params\":\n",
    "        ylabel = \"#Params\"  \n",
    "        title = \"#Params per layer\"\n",
    "    ax.set_ylabel(ylabel)\n",
    "    ax.set_title(title)\n",
    "    ax.set_xticks(np.arange(len(layers_name)), layers_name, rotation=90, fontsize=8)\n",
    "    \n",
    "    plt.show()"
   ]
  },
  {
   "cell_type": "markdown",
   "id": "4ed5d95c-3a19-42a9-a20f-4582e7f7b8e8",
   "metadata": {},
   "source": [
    "# Models"
   ]
  },
  {
   "cell_type": "code",
   "execution_count": 6,
   "id": "df181642-12b8-423e-9121-e317ca4f7234",
   "metadata": {
    "editable": true,
    "slideshow": {
     "slide_type": ""
    },
    "tags": []
   },
   "outputs": [],
   "source": [
    "model_original = mobilenetv3_original.MobileNetV3_Small(num_classes=2).to('cpu')\n",
    "model_mini = mobilenetv3_mini.MobileNetV3_Small(num_classes=2).to('cpu')"
   ]
  },
  {
   "cell_type": "code",
   "execution_count": 7,
   "id": "c0b85e69-b552-4e9b-8998-1454942825f6",
   "metadata": {},
   "outputs": [],
   "source": [
    "model_original.eval();\n",
    "model_mini.eval();"
   ]
  },
  {
   "cell_type": "markdown",
   "id": "6cc339a3-23c1-44b1-bea8-198f59e4e0bc",
   "metadata": {},
   "source": [
    "## MobileNetV3 Original"
   ]
  },
  {
   "cell_type": "markdown",
   "id": "bdf10189-05cf-443a-acb7-fa90b649c3b2",
   "metadata": {},
   "source": [
    "### Profile"
   ]
  },
  {
   "cell_type": "code",
   "execution_count": 8,
   "id": "ebac7c39-a07b-4c79-ab8e-0c5dd2094532",
   "metadata": {},
   "outputs": [],
   "source": [
    "# inputs = torch.randn(1, 3, 224, 224)\n",
    "\n",
    "# macs = profile_macs(model_original, inputs)\n",
    "# print('{}: {:.4g} M'.format(model_original.__class__.__name__, macs / 1e6))"
   ]
  },
  {
   "cell_type": "code",
   "execution_count": 9,
   "id": "47b8463c-b941-4b95-a19a-c142fdd246bd",
   "metadata": {},
   "outputs": [],
   "source": [
    "# macs_mbnet, params_mbnet = get_macs_and_params_per_layer(model_original)"
   ]
  },
  {
   "cell_type": "code",
   "execution_count": 10,
   "id": "1697b1d2-a13f-494e-8902-952db7a2b1c8",
   "metadata": {
    "scrolled": true
   },
   "outputs": [],
   "source": [
    "# plot_results(macs_mbnet, res_type=\"macs\")"
   ]
  },
  {
   "cell_type": "code",
   "execution_count": 11,
   "id": "029b995a-0bbc-4605-a3da-aa7edce7df80",
   "metadata": {},
   "outputs": [],
   "source": [
    "# plot_results(params_mbnet, res_type=\"params\")"
   ]
  },
  {
   "cell_type": "markdown",
   "id": "b54e4902-e3ce-45e8-a4a9-84509fa9c3cc",
   "metadata": {},
   "source": [
    "### Summary"
   ]
  },
  {
   "cell_type": "code",
   "execution_count": 12,
   "id": "4e5d8ae6-fe0e-4011-93fc-a0c1a84291d7",
   "metadata": {
    "editable": true,
    "slideshow": {
     "slide_type": ""
    },
    "tags": []
   },
   "outputs": [
    {
     "name": "stdout",
     "output_type": "stream",
     "text": [
      "====================================================================================================\n",
      "Layer (type:depth-idx)                             Output Shape              Param #\n",
      "====================================================================================================\n",
      "MobileNetV3_Small                                  [1, 2]                    --\n",
      "├─Conv2d: 1-1                                      [1, 16, 112, 112]         432\n",
      "├─BatchNorm2d: 1-2                                 [1, 16, 112, 112]         32\n",
      "├─Hardswish: 1-3                                   [1, 16, 112, 112]         --\n",
      "├─Sequential: 1-4                                  [1, 96, 7, 7]             --\n",
      "│    └─Block: 2-1                                  [1, 16, 56, 56]           --\n",
      "│    │    └─Conv2d: 3-1                            [1, 16, 112, 112]         256\n",
      "│    │    └─BatchNorm2d: 3-2                       [1, 16, 112, 112]         32\n",
      "│    │    └─ReLU: 3-3                              [1, 16, 112, 112]         --\n",
      "│    │    └─Conv2d: 3-4                            [1, 16, 56, 56]           144\n",
      "│    │    └─BatchNorm2d: 3-5                       [1, 16, 56, 56]           32\n",
      "│    │    └─ReLU: 3-6                              [1, 16, 56, 56]           --\n",
      "│    │    └─SeModule: 3-7                          [1, 16, 56, 56]           272\n",
      "│    │    └─Conv2d: 3-8                            [1, 16, 56, 56]           256\n",
      "│    │    └─BatchNorm2d: 3-9                       [1, 16, 56, 56]           32\n",
      "│    │    └─Sequential: 3-10                       [1, 16, 56, 56]           176\n",
      "│    │    └─ReLU: 3-11                             [1, 16, 56, 56]           --\n",
      "│    └─Block: 2-2                                  [1, 24, 28, 28]           --\n",
      "│    │    └─Conv2d: 3-12                           [1, 72, 56, 56]           1,152\n",
      "│    │    └─BatchNorm2d: 3-13                      [1, 72, 56, 56]           144\n",
      "│    │    └─ReLU: 3-14                             [1, 72, 56, 56]           --\n",
      "│    │    └─Conv2d: 3-15                           [1, 72, 28, 28]           648\n",
      "│    │    └─BatchNorm2d: 3-16                      [1, 72, 28, 28]           144\n",
      "│    │    └─ReLU: 3-17                             [1, 72, 28, 28]           --\n",
      "│    │    └─Identity: 3-18                         [1, 72, 28, 28]           --\n",
      "│    │    └─Conv2d: 3-19                           [1, 24, 28, 28]           1,728\n",
      "│    │    └─BatchNorm2d: 3-20                      [1, 24, 28, 28]           48\n",
      "│    │    └─Sequential: 3-21                       [1, 24, 28, 28]           632\n",
      "│    │    └─ReLU: 3-22                             [1, 24, 28, 28]           --\n",
      "│    └─Block: 2-3                                  [1, 24, 28, 28]           --\n",
      "│    │    └─Conv2d: 3-23                           [1, 88, 28, 28]           2,112\n",
      "│    │    └─BatchNorm2d: 3-24                      [1, 88, 28, 28]           176\n",
      "│    │    └─ReLU: 3-25                             [1, 88, 28, 28]           --\n",
      "│    │    └─Conv2d: 3-26                           [1, 88, 28, 28]           792\n",
      "│    │    └─BatchNorm2d: 3-27                      [1, 88, 28, 28]           176\n",
      "│    │    └─ReLU: 3-28                             [1, 88, 28, 28]           --\n",
      "│    │    └─Identity: 3-29                         [1, 88, 28, 28]           --\n",
      "│    │    └─Conv2d: 3-30                           [1, 24, 28, 28]           2,112\n",
      "│    │    └─BatchNorm2d: 3-31                      [1, 24, 28, 28]           48\n",
      "│    │    └─ReLU: 3-32                             [1, 24, 28, 28]           --\n",
      "│    └─Block: 2-4                                  [1, 40, 14, 14]           --\n",
      "│    │    └─Conv2d: 3-33                           [1, 96, 28, 28]           2,304\n",
      "│    │    └─BatchNorm2d: 3-34                      [1, 96, 28, 28]           192\n",
      "│    │    └─Hardswish: 3-35                        [1, 96, 28, 28]           --\n",
      "│    │    └─Conv2d: 3-36                           [1, 96, 14, 14]           2,400\n",
      "│    │    └─BatchNorm2d: 3-37                      [1, 96, 14, 14]           192\n",
      "│    │    └─Hardswish: 3-38                        [1, 96, 14, 14]           --\n",
      "│    │    └─SeModule: 3-39                         [1, 96, 14, 14]           4,656\n",
      "│    │    └─Conv2d: 3-40                           [1, 40, 14, 14]           3,840\n",
      "│    │    └─BatchNorm2d: 3-41                      [1, 40, 14, 14]           80\n",
      "│    │    └─Sequential: 3-42                       [1, 40, 14, 14]           1,344\n",
      "│    │    └─Hardswish: 3-43                        [1, 40, 14, 14]           --\n",
      "│    └─Block: 2-5                                  [1, 40, 14, 14]           --\n",
      "│    │    └─Conv2d: 3-44                           [1, 240, 14, 14]          9,600\n",
      "│    │    └─BatchNorm2d: 3-45                      [1, 240, 14, 14]          480\n",
      "│    │    └─Hardswish: 3-46                        [1, 240, 14, 14]          --\n",
      "│    │    └─Conv2d: 3-47                           [1, 240, 14, 14]          6,000\n",
      "│    │    └─BatchNorm2d: 3-48                      [1, 240, 14, 14]          480\n",
      "│    │    └─Hardswish: 3-49                        [1, 240, 14, 14]          --\n",
      "│    │    └─SeModule: 3-50                         [1, 240, 14, 14]          28,920\n",
      "│    │    └─Conv2d: 3-51                           [1, 40, 14, 14]           9,600\n",
      "│    │    └─BatchNorm2d: 3-52                      [1, 40, 14, 14]           80\n",
      "│    │    └─Hardswish: 3-53                        [1, 40, 14, 14]           --\n",
      "│    └─Block: 2-6                                  [1, 40, 14, 14]           --\n",
      "│    │    └─Conv2d: 3-54                           [1, 240, 14, 14]          9,600\n",
      "│    │    └─BatchNorm2d: 3-55                      [1, 240, 14, 14]          480\n",
      "│    │    └─Hardswish: 3-56                        [1, 240, 14, 14]          --\n",
      "│    │    └─Conv2d: 3-57                           [1, 240, 14, 14]          6,000\n",
      "│    │    └─BatchNorm2d: 3-58                      [1, 240, 14, 14]          480\n",
      "│    │    └─Hardswish: 3-59                        [1, 240, 14, 14]          --\n",
      "│    │    └─SeModule: 3-60                         [1, 240, 14, 14]          28,920\n",
      "│    │    └─Conv2d: 3-61                           [1, 40, 14, 14]           9,600\n",
      "│    │    └─BatchNorm2d: 3-62                      [1, 40, 14, 14]           80\n",
      "│    │    └─Hardswish: 3-63                        [1, 40, 14, 14]           --\n",
      "│    └─Block: 2-7                                  [1, 48, 14, 14]           --\n",
      "│    │    └─Conv2d: 3-64                           [1, 120, 14, 14]          4,800\n",
      "│    │    └─BatchNorm2d: 3-65                      [1, 120, 14, 14]          240\n",
      "│    │    └─Hardswish: 3-66                        [1, 120, 14, 14]          --\n",
      "│    │    └─Conv2d: 3-67                           [1, 120, 14, 14]          3,000\n",
      "│    │    └─BatchNorm2d: 3-68                      [1, 120, 14, 14]          240\n",
      "│    │    └─Hardswish: 3-69                        [1, 120, 14, 14]          --\n",
      "│    │    └─SeModule: 3-70                         [1, 120, 14, 14]          7,260\n",
      "│    │    └─Conv2d: 3-71                           [1, 48, 14, 14]           5,760\n",
      "│    │    └─BatchNorm2d: 3-72                      [1, 48, 14, 14]           96\n",
      "│    │    └─Sequential: 3-73                       [1, 48, 14, 14]           2,016\n",
      "│    │    └─Hardswish: 3-74                        [1, 48, 14, 14]           --\n",
      "│    └─Block: 2-8                                  [1, 48, 14, 14]           --\n",
      "│    │    └─Conv2d: 3-75                           [1, 144, 14, 14]          6,912\n",
      "│    │    └─BatchNorm2d: 3-76                      [1, 144, 14, 14]          288\n",
      "│    │    └─Hardswish: 3-77                        [1, 144, 14, 14]          --\n",
      "│    │    └─Conv2d: 3-78                           [1, 144, 14, 14]          3,600\n",
      "│    │    └─BatchNorm2d: 3-79                      [1, 144, 14, 14]          288\n",
      "│    │    └─Hardswish: 3-80                        [1, 144, 14, 14]          --\n",
      "│    │    └─SeModule: 3-81                         [1, 144, 14, 14]          10,440\n",
      "│    │    └─Conv2d: 3-82                           [1, 48, 14, 14]           6,912\n",
      "│    │    └─BatchNorm2d: 3-83                      [1, 48, 14, 14]           96\n",
      "│    │    └─Hardswish: 3-84                        [1, 48, 14, 14]           --\n",
      "│    └─Block: 2-9                                  [1, 96, 7, 7]             --\n",
      "│    │    └─Conv2d: 3-85                           [1, 288, 14, 14]          13,824\n",
      "│    │    └─BatchNorm2d: 3-86                      [1, 288, 14, 14]          576\n",
      "│    │    └─Hardswish: 3-87                        [1, 288, 14, 14]          --\n",
      "│    │    └─Conv2d: 3-88                           [1, 288, 7, 7]            7,200\n",
      "│    │    └─BatchNorm2d: 3-89                      [1, 288, 7, 7]            576\n",
      "│    │    └─Hardswish: 3-90                        [1, 288, 7, 7]            --\n",
      "│    │    └─SeModule: 3-91                         [1, 288, 7, 7]            41,616\n",
      "│    │    └─Conv2d: 3-92                           [1, 96, 7, 7]             27,648\n",
      "│    │    └─BatchNorm2d: 3-93                      [1, 96, 7, 7]             192\n",
      "│    │    └─Sequential: 3-94                       [1, 96, 7, 7]             5,424\n",
      "│    │    └─Hardswish: 3-95                        [1, 96, 7, 7]             --\n",
      "│    └─Block: 2-10                                 [1, 96, 7, 7]             --\n",
      "│    │    └─Conv2d: 3-96                           [1, 576, 7, 7]            55,296\n",
      "│    │    └─BatchNorm2d: 3-97                      [1, 576, 7, 7]            1,152\n",
      "│    │    └─Hardswish: 3-98                        [1, 576, 7, 7]            --\n",
      "│    │    └─Conv2d: 3-99                           [1, 576, 7, 7]            14,400\n",
      "│    │    └─BatchNorm2d: 3-100                     [1, 576, 7, 7]            1,152\n",
      "│    │    └─Hardswish: 3-101                       [1, 576, 7, 7]            --\n",
      "│    │    └─SeModule: 3-102                        [1, 576, 7, 7]            166,176\n",
      "│    │    └─Conv2d: 3-103                          [1, 96, 7, 7]             55,296\n",
      "│    │    └─BatchNorm2d: 3-104                     [1, 96, 7, 7]             192\n",
      "│    │    └─Hardswish: 3-105                       [1, 96, 7, 7]             --\n",
      "│    └─Block: 2-11                                 [1, 96, 7, 7]             --\n",
      "│    │    └─Conv2d: 3-106                          [1, 576, 7, 7]            55,296\n",
      "│    │    └─BatchNorm2d: 3-107                     [1, 576, 7, 7]            1,152\n",
      "│    │    └─Hardswish: 3-108                       [1, 576, 7, 7]            --\n",
      "│    │    └─Conv2d: 3-109                          [1, 576, 7, 7]            14,400\n",
      "│    │    └─BatchNorm2d: 3-110                     [1, 576, 7, 7]            1,152\n",
      "│    │    └─Hardswish: 3-111                       [1, 576, 7, 7]            --\n",
      "│    │    └─SeModule: 3-112                        [1, 576, 7, 7]            166,176\n",
      "│    │    └─Conv2d: 3-113                          [1, 96, 7, 7]             55,296\n",
      "│    │    └─BatchNorm2d: 3-114                     [1, 96, 7, 7]             192\n",
      "│    │    └─Hardswish: 3-115                       [1, 96, 7, 7]             --\n",
      "├─Conv2d: 1-5                                      [1, 576, 7, 7]            55,296\n",
      "├─BatchNorm2d: 1-6                                 [1, 576, 7, 7]            1,152\n",
      "├─Hardswish: 1-7                                   [1, 576, 7, 7]            --\n",
      "├─AdaptiveAvgPool2d: 1-8                           [1, 576, 1, 1]            --\n",
      "├─Linear: 1-9                                      [1, 1280]                 737,280\n",
      "├─BatchNorm1d: 1-10                                [1, 1280]                 2,560\n",
      "├─Hardswish: 1-11                                  [1, 1280]                 --\n",
      "├─Dropout: 1-12                                    [1, 1280]                 --\n",
      "├─Linear: 1-13                                     [1, 2]                    2,562\n",
      "====================================================================================================\n",
      "Total params: 1,672,086\n",
      "Trainable params: 1,672,086\n",
      "Non-trainable params: 0\n",
      "Total mult-adds (M): 60.61\n",
      "====================================================================================================\n",
      "Input size (MB): 0.60\n",
      "Forward/backward pass size (MB): 27.63\n",
      "Params size (MB): 6.69\n",
      "Estimated Total Size (MB): 34.92\n",
      "====================================================================================================\n"
     ]
    }
   ],
   "source": [
    "print(summary(model_original, input_size=(1, 3, 224, 224)))"
   ]
  },
  {
   "cell_type": "code",
   "execution_count": 13,
   "id": "9ebc0464-e35d-4fac-8e2d-5e5fad941fa7",
   "metadata": {
    "tags": []
   },
   "outputs": [],
   "source": [
    "model_original.to('cpu')\n",
    "dummy_in = torch.randn(4, 3, 224, 224)\n",
    "out = model_original(dummy_in)"
   ]
  },
  {
   "cell_type": "code",
   "execution_count": 14,
   "id": "b0ed35f7-4663-4725-be97-54e700e191e5",
   "metadata": {
    "tags": []
   },
   "outputs": [
    {
     "data": {
      "text/plain": [
       "tensor([[ 3.4131e-10, -5.1045e-10],\n",
       "        [ 4.8862e-10, -4.9142e-10],\n",
       "        [ 4.7172e-10, -4.5702e-10],\n",
       "        [ 4.3834e-10, -4.4543e-10]], grad_fn=<AddmmBackward0>)"
      ]
     },
     "execution_count": 14,
     "metadata": {},
     "output_type": "execute_result"
    }
   ],
   "source": [
    "out"
   ]
  },
  {
   "cell_type": "markdown",
   "id": "f7d23c38-a0b0-4312-aaf0-232b507de42f",
   "metadata": {},
   "source": [
    "## MobilenetV3 Mini"
   ]
  },
  {
   "cell_type": "markdown",
   "id": "78b60ea2-6844-45f0-ab41-2cdcf4a54b5d",
   "metadata": {},
   "source": [
    "### Summary"
   ]
  },
  {
   "cell_type": "code",
   "execution_count": 15,
   "id": "f776e18f-7f03-4b03-916a-50f0931a09cc",
   "metadata": {
    "tags": []
   },
   "outputs": [
    {
     "name": "stdout",
     "output_type": "stream",
     "text": [
      "====================================================================================================\n",
      "Layer (type:depth-idx)                             Output Shape              Param #\n",
      "====================================================================================================\n",
      "MobileNetV3_Small                                  [1, 2]                    --\n",
      "├─Conv2d: 1-1                                      [1, 16, 112, 112]         432\n",
      "├─BatchNorm2d: 1-2                                 [1, 16, 112, 112]         32\n",
      "├─Hardswish: 1-3                                   [1, 16, 112, 112]         --\n",
      "├─Sequential: 1-4                                  [1, 48, 14, 14]           --\n",
      "│    └─Block: 2-1                                  [1, 16, 56, 56]           --\n",
      "│    │    └─Conv2d: 3-1                            [1, 16, 112, 112]         256\n",
      "│    │    └─BatchNorm2d: 3-2                       [1, 16, 112, 112]         32\n",
      "│    │    └─ReLU: 3-3                              [1, 16, 112, 112]         --\n",
      "│    │    └─Conv2d: 3-4                            [1, 16, 56, 56]           144\n",
      "│    │    └─BatchNorm2d: 3-5                       [1, 16, 56, 56]           32\n",
      "│    │    └─ReLU: 3-6                              [1, 16, 56, 56]           --\n",
      "│    │    └─SeModule: 3-7                          [1, 16, 56, 56]           272\n",
      "│    │    └─Conv2d: 3-8                            [1, 16, 56, 56]           256\n",
      "│    │    └─BatchNorm2d: 3-9                       [1, 16, 56, 56]           32\n",
      "│    │    └─Sequential: 3-10                       [1, 16, 56, 56]           176\n",
      "│    │    └─ReLU: 3-11                             [1, 16, 56, 56]           --\n",
      "│    └─Block: 2-2                                  [1, 24, 28, 28]           --\n",
      "│    │    └─Conv2d: 3-12                           [1, 32, 56, 56]           512\n",
      "│    │    └─BatchNorm2d: 3-13                      [1, 32, 56, 56]           64\n",
      "│    │    └─ReLU: 3-14                             [1, 32, 56, 56]           --\n",
      "│    │    └─Conv2d: 3-15                           [1, 32, 28, 28]           288\n",
      "│    │    └─BatchNorm2d: 3-16                      [1, 32, 28, 28]           64\n",
      "│    │    └─ReLU: 3-17                             [1, 32, 28, 28]           --\n",
      "│    │    └─Identity: 3-18                         [1, 32, 28, 28]           --\n",
      "│    │    └─Conv2d: 3-19                           [1, 24, 28, 28]           768\n",
      "│    │    └─BatchNorm2d: 3-20                      [1, 24, 28, 28]           48\n",
      "│    │    └─Sequential: 3-21                       [1, 24, 28, 28]           632\n",
      "│    │    └─ReLU: 3-22                             [1, 24, 28, 28]           --\n",
      "│    └─Block: 2-3                                  [1, 24, 28, 28]           --\n",
      "│    │    └─Conv2d: 3-23                           [1, 48, 28, 28]           1,152\n",
      "│    │    └─BatchNorm2d: 3-24                      [1, 48, 28, 28]           96\n",
      "│    │    └─ReLU: 3-25                             [1, 48, 28, 28]           --\n",
      "│    │    └─Conv2d: 3-26                           [1, 48, 28, 28]           432\n",
      "│    │    └─BatchNorm2d: 3-27                      [1, 48, 28, 28]           96\n",
      "│    │    └─ReLU: 3-28                             [1, 48, 28, 28]           --\n",
      "│    │    └─Identity: 3-29                         [1, 48, 28, 28]           --\n",
      "│    │    └─Conv2d: 3-30                           [1, 24, 28, 28]           1,152\n",
      "│    │    └─BatchNorm2d: 3-31                      [1, 24, 28, 28]           48\n",
      "│    │    └─ReLU: 3-32                             [1, 24, 28, 28]           --\n",
      "│    └─Block: 2-4                                  [1, 32, 14, 14]           --\n",
      "│    │    └─Conv2d: 3-33                           [1, 64, 28, 28]           1,536\n",
      "│    │    └─BatchNorm2d: 3-34                      [1, 64, 28, 28]           128\n",
      "│    │    └─Hardswish: 3-35                        [1, 64, 28, 28]           --\n",
      "│    │    └─Conv2d: 3-36                           [1, 64, 14, 14]           1,600\n",
      "│    │    └─BatchNorm2d: 3-37                      [1, 64, 14, 14]           128\n",
      "│    │    └─Hardswish: 3-38                        [1, 64, 14, 14]           --\n",
      "│    │    └─SeModule: 3-39                         [1, 64, 14, 14]           1,040\n",
      "│    │    └─Conv2d: 3-40                           [1, 32, 14, 14]           2,048\n",
      "│    │    └─BatchNorm2d: 3-41                      [1, 32, 14, 14]           64\n",
      "│    │    └─Sequential: 3-42                       [1, 32, 14, 14]           1,128\n",
      "│    │    └─Hardswish: 3-43                        [1, 32, 14, 14]           --\n",
      "│    └─Block: 2-5                                  [1, 32, 14, 14]           --\n",
      "│    │    └─Conv2d: 3-44                           [1, 128, 14, 14]          4,096\n",
      "│    │    └─BatchNorm2d: 3-45                      [1, 128, 14, 14]          256\n",
      "│    │    └─Hardswish: 3-46                        [1, 128, 14, 14]          --\n",
      "│    │    └─Conv2d: 3-47                           [1, 128, 14, 14]          3,200\n",
      "│    │    └─BatchNorm2d: 3-48                      [1, 128, 14, 14]          256\n",
      "│    │    └─Hardswish: 3-49                        [1, 128, 14, 14]          --\n",
      "│    │    └─SeModule: 3-50                         [1, 128, 14, 14]          4,128\n",
      "│    │    └─Conv2d: 3-51                           [1, 32, 14, 14]           4,096\n",
      "│    │    └─BatchNorm2d: 3-52                      [1, 32, 14, 14]           64\n",
      "│    │    └─Hardswish: 3-53                        [1, 32, 14, 14]           --\n",
      "│    └─Block: 2-6                                  [1, 40, 14, 14]           --\n",
      "│    │    └─Conv2d: 3-54                           [1, 128, 14, 14]          4,096\n",
      "│    │    └─BatchNorm2d: 3-55                      [1, 128, 14, 14]          256\n",
      "│    │    └─Hardswish: 3-56                        [1, 128, 14, 14]          --\n",
      "│    │    └─Conv2d: 3-57                           [1, 128, 14, 14]          3,200\n",
      "│    │    └─BatchNorm2d: 3-58                      [1, 128, 14, 14]          256\n",
      "│    │    └─Hardswish: 3-59                        [1, 128, 14, 14]          --\n",
      "│    │    └─SeModule: 3-60                         [1, 128, 14, 14]          4,128\n",
      "│    │    └─Conv2d: 3-61                           [1, 40, 14, 14]           5,120\n",
      "│    │    └─BatchNorm2d: 3-62                      [1, 40, 14, 14]           80\n",
      "│    │    └─Sequential: 3-63                       [1, 40, 14, 14]           1,360\n",
      "│    │    └─Hardswish: 3-64                        [1, 40, 14, 14]           --\n",
      "│    └─Block: 2-7                                  [1, 48, 14, 14]           --\n",
      "│    │    └─Conv2d: 3-65                           [1, 96, 14, 14]           3,840\n",
      "│    │    └─BatchNorm2d: 3-66                      [1, 96, 14, 14]           192\n",
      "│    │    └─Hardswish: 3-67                        [1, 96, 14, 14]           --\n",
      "│    │    └─Conv2d: 3-68                           [1, 96, 14, 14]           2,400\n",
      "│    │    └─BatchNorm2d: 3-69                      [1, 96, 14, 14]           192\n",
      "│    │    └─Hardswish: 3-70                        [1, 96, 14, 14]           --\n",
      "│    │    └─SeModule: 3-71                         [1, 96, 14, 14]           2,328\n",
      "│    │    └─Conv2d: 3-72                           [1, 48, 14, 14]           4,608\n",
      "│    │    └─BatchNorm2d: 3-73                      [1, 48, 14, 14]           96\n",
      "│    │    └─Sequential: 3-74                       [1, 48, 14, 14]           2,016\n",
      "│    │    └─Hardswish: 3-75                        [1, 48, 14, 14]           --\n",
      "├─Conv2d: 1-5                                      [1, 64, 14, 14]           3,072\n",
      "├─BatchNorm2d: 1-6                                 [1, 64, 14, 14]           128\n",
      "├─Hardswish: 1-7                                   [1, 64, 14, 14]           --\n",
      "├─AdaptiveAvgPool2d: 1-8                           [1, 64, 1, 1]             --\n",
      "├─Linear: 1-9                                      [1, 128]                  8,192\n",
      "├─BatchNorm1d: 1-10                                [1, 128]                  256\n",
      "├─Hardswish: 1-11                                  [1, 128]                  --\n",
      "├─Dropout: 1-12                                    [1, 128]                  --\n",
      "├─Linear: 1-13                                     [1, 2]                    258\n",
      "====================================================================================================\n",
      "Total params: 76,858\n",
      "Trainable params: 76,858\n",
      "Non-trainable params: 0\n",
      "Total mult-adds (M): 25.51\n",
      "====================================================================================================\n",
      "Input size (MB): 0.60\n",
      "Forward/backward pass size (MB): 17.49\n",
      "Params size (MB): 0.31\n",
      "Estimated Total Size (MB): 18.40\n",
      "====================================================================================================\n"
     ]
    }
   ],
   "source": [
    "print(summary(model_mini, input_size=(1, 3, 224, 224)))"
   ]
  },
  {
   "cell_type": "markdown",
   "id": "c9aaa993-d957-41b6-8323-255795723cc3",
   "metadata": {},
   "source": [
    "### ONNX export"
   ]
  },
  {
   "cell_type": "code",
   "execution_count": 19,
   "id": "ba4d6cea-692b-4226-9d31-6e8bbd837a91",
   "metadata": {
    "tags": []
   },
   "outputs": [],
   "source": [
    "model_mini.cpu();"
   ]
  },
  {
   "cell_type": "code",
   "execution_count": 20,
   "id": "3343ec84-eda5-49e8-abaf-6dc091f41275",
   "metadata": {
    "tags": []
   },
   "outputs": [],
   "source": [
    "torch_input = torch.randn(1, 3, 224, 224)"
   ]
  },
  {
   "cell_type": "code",
   "execution_count": 21,
   "id": "15c06a40-dfbf-4905-bb3f-f3e751d038fd",
   "metadata": {
    "tags": []
   },
   "outputs": [],
   "source": [
    "torch.onnx.export(\n",
    "    model_mini,                   # The model to be exported\n",
    "    torch_input,            # The sample input tensor\n",
    "    \"MobilenetV3_MINI.onnx\",            # The output file name\n",
    "    export_params=True,      # Store the trained parameter weights inside the model file\n",
    "    do_constant_folding=False,  # Whether to execute constant folding for optimization\n",
    "    input_names=['input'],     # The model's input names\n",
    "    output_names=['output'],   # The model's output names\n",
    ")"
   ]
  },
  {
   "cell_type": "code",
   "execution_count": null,
   "id": "ffb233a0-cf37-4021-a4af-d53e80104a96",
   "metadata": {},
   "outputs": [],
   "source": []
  }
 ],
 "metadata": {
  "kernelspec": {
   "display_name": "Python 3 (ipykernel)",
   "language": "python",
   "name": "python3"
  },
  "language_info": {
   "codemirror_mode": {
    "name": "ipython",
    "version": 3
   },
   "file_extension": ".py",
   "mimetype": "text/x-python",
   "name": "python",
   "nbconvert_exporter": "python",
   "pygments_lexer": "ipython3",
   "version": "3.10.13"
  }
 },
 "nbformat": 4,
 "nbformat_minor": 5
}
