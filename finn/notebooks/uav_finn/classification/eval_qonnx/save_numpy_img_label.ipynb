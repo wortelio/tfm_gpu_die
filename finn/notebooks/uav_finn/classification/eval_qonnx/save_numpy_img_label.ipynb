{
 "cells": [
  {
   "cell_type": "code",
   "execution_count": 1,
   "id": "bc27ad45-aef5-4fb2-bf12-b4505e74f773",
   "metadata": {},
   "outputs": [],
   "source": [
    "import numpy\n",
    "import os\n",
    "import cv2"
   ]
  },
  {
   "cell_type": "code",
   "execution_count": null,
   "id": "df6c4473-efaa-45ff-b672-23c40c45363d",
   "metadata": {},
   "outputs": [],
   "source": [
    "def get_label(label_file):\n",
    "\n",
    "    '''\n",
    "    Receives a txt file and returns the label associated, as [smoke?, fire?]\n",
    "    '''\n",
    "\n",
    "    label_array = np.zeros((2))\n",
    "    \n",
    "    with open(label_file) as f:\n",
    "        lines = f.readlines()\n",
    "        \n",
    "        for line in lines:\n",
    "            class_id, _, _, _, _ = line.strip().split()\n",
    "            class_id = int(class_id)\n",
    "            if np.array_equal(label_array, np.array([1, 1])):\n",
    "                break\n",
    "            else:\n",
    "                label_array[class_id] = 1.\n",
    "    \n",
    "    return label_array    \n",
    "\n",
    "def load_image_and_label(img_file, labels_dir, divide_255=True):\n",
    "\n",
    "    '''\n",
    "    Receives image and label files and returns the image ready for inference and corresponding label\n",
    "    \n",
    "    '''\n",
    "    img = cv2.imread(img_file)\n",
    "    img = cv2.cvtColor(img, cv2.COLOR_BGR2RGB)  \n",
    "    img = cv2.resize(img, (230, 230), interpolation = cv2.INTER_LINEAR)\n",
    "    if divide_255 == True:\n",
    "        img = (img / 255).astype(np.float32)\n",
    "    else:\n",
    "        img = img.astype(np.float32)    \n",
    "    img = np.expand_dims(img, axis=0)\n",
    "    img = img.transpose(0, 3, 1, 2)\n",
    "\n",
    "    img_name = Path(img_file).stem\n",
    "    label_file = labels_dir + img_name + '.txt'\n",
    "    label = get_label(label_file)\n",
    "\n",
    "    return img, label"
   ]
  }
 ],
 "metadata": {
  "kernelspec": {
   "display_name": "Python 3 (ipykernel)",
   "language": "python",
   "name": "python3"
  },
  "language_info": {
   "codemirror_mode": {
    "name": "ipython",
    "version": 3
   },
   "file_extension": ".py",
   "mimetype": "text/x-python",
   "name": "python",
   "nbconvert_exporter": "python",
   "pygments_lexer": "ipython3",
   "version": "3.10.12"
  }
 },
 "nbformat": 4,
 "nbformat_minor": 5
}
