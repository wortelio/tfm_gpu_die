{
 "cells": [
  {
   "cell_type": "code",
   "execution_count": 1,
   "id": "1c8eae8f-fd0a-4fd7-a4ff-b6bcc9be0aa1",
   "metadata": {},
   "outputs": [],
   "source": [
    "import numpy as np\n",
    "\n",
    "from finn.util.visualization import showInNetron\n",
    "\n",
    "from qonnx.util.cleanup import cleanup as qonnx_cleanup\n",
    "from qonnx.core.modelwrapper import ModelWrapper\n",
    "import finn.core.onnx_exec as oxe\n",
    "from finn.transformation.qonnx.convert_qonnx_to_finn import ConvertQONNXtoFINN\n",
    "from qonnx.transformation.infer_shapes import InferShapes\n",
    "\n",
    "from qonnx.custom_op.registry import getCustomOp\n",
    "from qonnx.core.datatype import DataType\n",
    "\n",
    "import os\n",
    "import pandas as pd\n",
    "import my_metrics as metrics"
   ]
  },
  {
   "cell_type": "markdown",
   "id": "0e43053c-4740-41b4-a321-dc3c0bd8f5bd",
   "metadata": {},
   "source": [
    "# Load Original and OOC Model"
   ]
  },
  {
   "cell_type": "code",
   "execution_count": 2,
   "id": "0b34fa48-2101-4c22-997d-6ca37bebfd25",
   "metadata": {},
   "outputs": [],
   "source": [
    "ori_filename = 'BED_classifier__best_mean_F1__QONNX.onnx'\n",
    "ori_bipolar_filename = 'BED_classifier__best_mean_F1__AIMET_Balanced__BIPOLAR_Out__QONNX.onnx'\n",
    "\n",
    "# PYNQ-Z1 full build folder\n",
    "model_folder = '.'\n",
    "tidy_up_filename = model_folder + '/step_tidy_up.onnx'\n",
    "# finn_filename = model_folder + '/custom_step_streamline.onnx'"
   ]
  },
  {
   "cell_type": "markdown",
   "id": "5cce6941-b0db-4c0a-84dc-024808e5f1df",
   "metadata": {},
   "source": [
    "### Original Model: cleaned"
   ]
  },
  {
   "cell_type": "code",
   "execution_count": 3,
   "id": "2c265445-b6b1-4630-b50c-760ad4f46481",
   "metadata": {},
   "outputs": [],
   "source": [
    "ori_cleaned_filename = \"Best_ori_cleaned.onnx\"\n",
    "ori_bipolar_cleaned_filename = \"Best_ori_bipolar_cleaned.onnx\"\n",
    "\n",
    "qonnx_cleanup(ori_filename, out_file= ori_cleaned_filename)\n",
    "qonnx_cleanup(ori_bipolar_filename, out_file= ori_bipolar_cleaned_filename)"
   ]
  },
  {
   "cell_type": "code",
   "execution_count": 4,
   "id": "95d2bcc6-0d43-42bb-86da-bf7e61270638",
   "metadata": {},
   "outputs": [
    {
     "name": "stdout",
     "output_type": "stream",
     "text": [
      "Serving 'Best_ori_cleaned.onnx' at http://0.0.0.0:8083\n"
     ]
    },
    {
     "data": {
      "text/html": [
       "\n",
       "        <iframe\n",
       "            width=\"100%\"\n",
       "            height=\"400\"\n",
       "            src=\"http://localhost:8083/\"\n",
       "            frameborder=\"0\"\n",
       "            allowfullscreen\n",
       "            \n",
       "        ></iframe>\n",
       "        "
      ],
      "text/plain": [
       "<IPython.lib.display.IFrame at 0x7f3a5c20b310>"
      ]
     },
     "execution_count": 4,
     "metadata": {},
     "output_type": "execute_result"
    }
   ],
   "source": [
    "showInNetron(ori_cleaned_filename)"
   ]
  },
  {
   "cell_type": "code",
   "execution_count": 5,
   "id": "33f4733c-abfd-44e2-8e12-048c2443b905",
   "metadata": {},
   "outputs": [
    {
     "name": "stdout",
     "output_type": "stream",
     "text": [
      "Stopping http://0.0.0.0:8083\n",
      "Serving 'Best_ori_bipolar_cleaned.onnx' at http://0.0.0.0:8083\n"
     ]
    },
    {
     "data": {
      "text/html": [
       "\n",
       "        <iframe\n",
       "            width=\"100%\"\n",
       "            height=\"400\"\n",
       "            src=\"http://localhost:8083/\"\n",
       "            frameborder=\"0\"\n",
       "            allowfullscreen\n",
       "            \n",
       "        ></iframe>\n",
       "        "
      ],
      "text/plain": [
       "<IPython.lib.display.IFrame at 0x7f39f46d5f00>"
      ]
     },
     "execution_count": 5,
     "metadata": {},
     "output_type": "execute_result"
    }
   ],
   "source": [
    "showInNetron(ori_bipolar_cleaned_filename)"
   ]
  },
  {
   "cell_type": "markdown",
   "id": "6e68fe5d-fd0f-42f7-9ba3-51f1cd914130",
   "metadata": {},
   "source": [
    "### Show Tidy Up Model"
   ]
  },
  {
   "cell_type": "code",
   "execution_count": 6,
   "id": "701150bd-7652-45d8-af60-0a6bae885839",
   "metadata": {},
   "outputs": [
    {
     "name": "stdout",
     "output_type": "stream",
     "text": [
      "Stopping http://0.0.0.0:8083\n",
      "Serving './step_tidy_up.onnx' at http://0.0.0.0:8083\n"
     ]
    },
    {
     "data": {
      "text/html": [
       "\n",
       "        <iframe\n",
       "            width=\"100%\"\n",
       "            height=\"400\"\n",
       "            src=\"http://localhost:8083/\"\n",
       "            frameborder=\"0\"\n",
       "            allowfullscreen\n",
       "            \n",
       "        ></iframe>\n",
       "        "
      ],
      "text/plain": [
       "<IPython.lib.display.IFrame at 0x7f3a5c1c76d0>"
      ]
     },
     "execution_count": 6,
     "metadata": {},
     "output_type": "execute_result"
    }
   ],
   "source": [
    "showInNetron(tidy_up_filename)"
   ]
  },
  {
   "cell_type": "markdown",
   "id": "3866c8be-8610-4743-9626-b1a216a540db",
   "metadata": {},
   "source": [
    "### Model Wrappers"
   ]
  },
  {
   "cell_type": "code",
   "execution_count": 7,
   "id": "1d6cfaef-1d56-4ef4-90ad-ffb85ab41efc",
   "metadata": {},
   "outputs": [],
   "source": [
    "ori_model = ModelWrapper(ori_cleaned_filename)\n",
    "ori_bipolar_model = ModelWrapper(ori_bipolar_cleaned_filename)\n",
    "\n",
    "tidy_up_model = ModelWrapper(tidy_up_filename)\n",
    "# finn_model = ModelWrapper(finn_filename)"
   ]
  },
  {
   "cell_type": "markdown",
   "id": "632970f9-24cf-4922-8a40-4d259d2e1a62",
   "metadata": {},
   "source": [
    "## Execute with Dummy IN"
   ]
  },
  {
   "cell_type": "code",
   "execution_count": 8,
   "id": "668b0fbd-0902-4bd5-9d0a-fab892d2ac99",
   "metadata": {},
   "outputs": [
    {
     "name": "stdout",
     "output_type": "stream",
     "text": [
      "dummy_in shape: (1, 3, 230, 230)\n",
      "dummy_in transposed shape: (1, 230, 230, 3)\n"
     ]
    }
   ],
   "source": [
    "dummy_in = np.random.randint(low = 0, high = 255+1, size = (1, 3, 230, 230)) \n",
    "dummy_in = dummy_in.astype(np.float32)\n",
    "\n",
    "# OOC needs (1, 224, 224, 3)\n",
    "ooc_dummy_in = np.transpose(dummy_in, (0, 2, 3, 1))\n",
    "\n",
    "# Print shapes\n",
    "print(f'dummy_in shape: {dummy_in.shape}')\n",
    "print(f'dummy_in transposed shape: {ooc_dummy_in.shape}')"
   ]
  },
  {
   "cell_type": "markdown",
   "id": "c71c1e91-5ada-4776-9a7b-07b37c4922d2",
   "metadata": {},
   "source": [
    "### Original Model"
   ]
  },
  {
   "cell_type": "code",
   "execution_count": 9,
   "id": "b3223543-34a5-46a4-8203-b0bdbcffdb09",
   "metadata": {},
   "outputs": [
    {
     "data": {
      "text/plain": [
       "array([[-12.896202,  -7.530959]], dtype=float32)"
      ]
     },
     "execution_count": 9,
     "metadata": {},
     "output_type": "execute_result"
    }
   ],
   "source": [
    "input_dict = {\"global_in\": (dummy_in / 255.) }\n",
    "output_dict = oxe.execute_onnx(ori_model, input_dict)\n",
    "produced_ori_qonnx = output_dict[list(output_dict.keys())[0]]\n",
    "produced_ori_qonnx"
   ]
  },
  {
   "cell_type": "markdown",
   "id": "4fa27451-afee-4983-bc9a-57be8ca69a6f",
   "metadata": {},
   "source": [
    "### Bipolar Original Model"
   ]
  },
  {
   "cell_type": "code",
   "execution_count": 10,
   "id": "572c7320-10d9-4b72-b551-21817c342544",
   "metadata": {},
   "outputs": [
    {
     "data": {
      "text/plain": [
       "array([[-1., -1.]], dtype=float32)"
      ]
     },
     "execution_count": 10,
     "metadata": {},
     "output_type": "execute_result"
    }
   ],
   "source": [
    "output_dict = oxe.execute_onnx(ori_bipolar_model, input_dict)\n",
    "produced_bipolar_ori_qonnx = output_dict[list(output_dict.keys())[0]]\n",
    "produced_bipolar_ori_qonnx"
   ]
  },
  {
   "cell_type": "markdown",
   "id": "ce1a1902-2506-45e4-84e1-76ae6e1d5897",
   "metadata": {},
   "source": [
    "### Tidy Up"
   ]
  },
  {
   "cell_type": "code",
   "execution_count": 11,
   "id": "91114a33-3f4d-4ddf-ae18-5c09aaf5f737",
   "metadata": {},
   "outputs": [
    {
     "name": "stderr",
     "output_type": "stream",
     "text": [
      "/home/gmoreno/uav/finn/deps/qonnx/src/qonnx/util/basic.py:296: UserWarning: The values of tensor MultiThreshold_0_out0 can't be represented with the set datatype annotation (INT8), they will be rounded to match the datatype annotation.\n",
      "  warnings.warn(\n",
      "/home/gmoreno/uav/finn/deps/qonnx/src/qonnx/util/basic.py:296: UserWarning: The values of tensor MultiThreshold_2_out0 can't be represented with the set datatype annotation (INT4), they will be rounded to match the datatype annotation.\n",
      "  warnings.warn(\n",
      "/home/gmoreno/uav/finn/deps/qonnx/src/qonnx/util/basic.py:296: UserWarning: The values of tensor MultiThreshold_5_out0 can't be represented with the set datatype annotation (INT4), they will be rounded to match the datatype annotation.\n",
      "  warnings.warn(\n",
      "/home/gmoreno/uav/finn/deps/qonnx/src/qonnx/util/basic.py:296: UserWarning: The values of tensor MultiThreshold_8_out0 can't be represented with the set datatype annotation (INT4), they will be rounded to match the datatype annotation.\n",
      "  warnings.warn(\n",
      "/home/gmoreno/uav/finn/deps/qonnx/src/qonnx/util/basic.py:296: UserWarning: The values of tensor MultiThreshold_13_out0 can't be represented with the set datatype annotation (INT4), they will be rounded to match the datatype annotation.\n",
      "  warnings.warn(\n",
      "/home/gmoreno/uav/finn/deps/qonnx/src/qonnx/util/basic.py:296: UserWarning: The values of tensor MultiThreshold_16_out0 can't be represented with the set datatype annotation (INT4), they will be rounded to match the datatype annotation.\n",
      "  warnings.warn(\n"
     ]
    },
    {
     "data": {
      "text/plain": [
       "array([[-1., -1.]], dtype=float32)"
      ]
     },
     "execution_count": 11,
     "metadata": {},
     "output_type": "execute_result"
    }
   ],
   "source": [
    "input_dict = {\"global_in\": dummy_in}\n",
    "output_dict = oxe.execute_onnx(tidy_up_model, input_dict)\n",
    "produced_tidy_up_qonnx = output_dict[list(output_dict.keys())[0]]\n",
    "produced_tidy_up_qonnx"
   ]
  },
  {
   "cell_type": "code",
   "execution_count": 12,
   "id": "b7a73fca-d401-41d8-841a-22fca9c9874f",
   "metadata": {},
   "outputs": [],
   "source": [
    "# print(output_dict['global_out'][0])\n",
    "# print(output_dict[list(output_dict.keys())[0]][0])"
   ]
  },
  {
   "cell_type": "markdown",
   "id": "830050b1-9e81-48ab-bf48-90388a8e1957",
   "metadata": {},
   "source": [
    "### FINN Model: streamline"
   ]
  },
  {
   "cell_type": "code",
   "execution_count": 13,
   "id": "e0f818a9-cc57-418c-bfcc-c3163d64db30",
   "metadata": {},
   "outputs": [],
   "source": [
    "# input_dict = {\"global_in\": dummy_in} #ooc_dummy_in}\n",
    "# output_dict = oxe.execute_onnx(finn_model, input_dict)\n",
    "# produced_tidy_up_qonnx = output_dict[list(output_dict.keys())[0]]\n",
    "# produced_tidy_up_qonnx"
   ]
  },
  {
   "cell_type": "markdown",
   "id": "78a124c5-15a8-421b-a3de-b2a23d26a8a0",
   "metadata": {},
   "source": [
    "# Eval with DFire MINI"
   ]
  },
  {
   "cell_type": "code",
   "execution_count": 14,
   "id": "83ba0c89-d612-4ea7-8235-438fcd3d0acf",
   "metadata": {},
   "outputs": [],
   "source": [
    "DS_FOLDER = '../../datasets/dfire_mini/'\n",
    "# DS_FOLDER += 'test/'\n",
    "# DS_FOLDER += 'train/'\n",
    "DS_FOLDER += '7ex/'\n",
    "\n",
    "DS_IMGS = DS_FOLDER + 'images/'\n",
    "DS_LABELS = DS_FOLDER + 'labels/'"
   ]
  },
  {
   "cell_type": "code",
   "execution_count": 15,
   "id": "43621eb6-05f7-4853-bde6-d0de525b3b9d",
   "metadata": {},
   "outputs": [],
   "source": [
    "IMGS_LIST = sorted([DS_IMGS + img_file for img_file in os.listdir(DS_IMGS)])"
   ]
  },
  {
   "cell_type": "code",
   "execution_count": 16,
   "id": "e55ba642-5e1e-49a7-8c8b-595ed8476b8a",
   "metadata": {},
   "outputs": [
    {
     "data": {
      "text/plain": [
       "7"
      ]
     },
     "execution_count": 16,
     "metadata": {},
     "output_type": "execute_result"
    }
   ],
   "source": [
    "len(IMGS_LIST)"
   ]
  },
  {
   "cell_type": "markdown",
   "id": "ffb4b9e2-4aef-4f91-b5a2-b11fb11493d1",
   "metadata": {},
   "source": [
    "### QONNX model exported in Brevitas after training"
   ]
  },
  {
   "cell_type": "code",
   "execution_count": 17,
   "id": "6c477cbf-3322-482d-87e9-9aa1eb69b89f",
   "metadata": {},
   "outputs": [],
   "source": [
    "# import importlib\n",
    "# importlib.reload(metrics)"
   ]
  },
  {
   "cell_type": "code",
   "execution_count": 19,
   "id": "2a55daaf-3188-4ab5-8458-1e15f931e786",
   "metadata": {},
   "outputs": [
    {
     "name": "stdout",
     "output_type": "stream",
     "text": [
      "Number of test samples: 7\n",
      "\n"
     ]
    },
    {
     "name": "stderr",
     "output_type": "stream",
     "text": [
      "Testing:  14%|████████████████████▋                                                                                                                            | 1/7 [00:00<00:01,  4.87it/s]"
     ]
    },
    {
     "name": "stdout",
     "output_type": "stream",
     "text": [
      "yhat before binarization: [ 5.69761   -3.0439763]\n",
      "yhat after binarization: [1. 0.]\n",
      "Image file: ../../datasets/dfire_mini/7ex/images/PublicDataset00856.jpg: \n",
      "\tlabel [1. 0.]\n",
      "\tpred [1. 0.]\n"
     ]
    },
    {
     "name": "stderr",
     "output_type": "stream",
     "text": [
      "Testing:  29%|█████████████████████████████████████████▍                                                                                                       | 2/7 [00:00<00:01,  4.09it/s]"
     ]
    },
    {
     "name": "stdout",
     "output_type": "stream",
     "text": [
      "yhat before binarization: [-4.831251 -7.766757]\n",
      "yhat after binarization: [0. 0.]\n",
      "Image file: ../../datasets/dfire_mini/7ex/images/WEB02490.jpg: \n",
      "\tlabel [0. 0.]\n",
      "\tpred [0. 0.]\n"
     ]
    },
    {
     "name": "stderr",
     "output_type": "stream",
     "text": [
      "Testing:  43%|██████████████████████████████████████████████████████████████▏                                                                                  | 3/7 [00:00<00:01,  3.98it/s]"
     ]
    },
    {
     "name": "stdout",
     "output_type": "stream",
     "text": [
      "yhat before binarization: [0.841553  7.4609632]\n",
      "yhat after binarization: [1. 1.]\n",
      "Image file: ../../datasets/dfire_mini/7ex/images/WEB04682.jpg: \n",
      "\tlabel [1. 1.]\n",
      "\tpred [1. 1.]\n"
     ]
    },
    {
     "name": "stderr",
     "output_type": "stream",
     "text": [
      "Testing:  57%|██████████████████████████████████████████████████████████████████████████████████▊                                                              | 4/7 [00:00<00:00,  3.93it/s]"
     ]
    },
    {
     "name": "stdout",
     "output_type": "stream",
     "text": [
      "yhat before binarization: [ 4.2657394 -0.7782719]\n",
      "yhat after binarization: [1. 0.]\n",
      "Image file: ../../datasets/dfire_mini/7ex/images/WEB09251.jpg: \n",
      "\tlabel [1. 1.]\n",
      "\tpred [1. 0.]\n"
     ]
    },
    {
     "name": "stderr",
     "output_type": "stream",
     "text": [
      "Testing:  86%|████████████████████████████████████████████████████████████████████████████████████████████████████████████████████████████▎                    | 6/7 [00:01<00:00,  4.08it/s]"
     ]
    },
    {
     "name": "stdout",
     "output_type": "stream",
     "text": [
      "yhat before binarization: [ 2.5809853 -4.3767433]\n",
      "yhat after binarization: [1. 0.]\n",
      "Image file: ../../datasets/dfire_mini/7ex/images/WEB09620.jpg: \n",
      "\tlabel [0. 0.]\n",
      "\tpred [1. 0.]\n",
      "yhat before binarization: [-2.0153532 -0.7235942]\n",
      "yhat after binarization: [0. 0.]\n",
      "Image file: ../../datasets/dfire_mini/7ex/images/WEB10100.jpg: \n",
      "\tlabel [0. 0.]\n",
      "\tpred [0. 0.]\n"
     ]
    },
    {
     "name": "stderr",
     "output_type": "stream",
     "text": [
      "Testing: 100%|█████████████████████████████████████████████████████████████████████████████████████████████████████████████████████████████████████████████████| 7/7 [00:01<00:00,  4.09it/s]"
     ]
    },
    {
     "name": "stdout",
     "output_type": "stream",
     "text": [
      "yhat before binarization: [-0.2485823 -4.653549 ]\n",
      "yhat after binarization: [0. 0.]\n",
      "Image file: ../../datasets/dfire_mini/7ex/images/WEB11229.jpg: \n",
      "\tlabel [1. 0.]\n",
      "\tpred [0. 0.]\n",
      "Smoke -> TP: 3.0, FP: 1.0, TN: 2.0, FN: 1.0\n",
      "Fire  -> TP: 1.0, FP: 0.0, TN: 5.0, FN: 1.0\n"
     ]
    },
    {
     "name": "stderr",
     "output_type": "stream",
     "text": [
      "\n"
     ]
    }
   ],
   "source": [
    "ori_metrics = metrics.eval_quant_onnx(\n",
    "    imgs_list = IMGS_LIST,\n",
    "    labels_dir = DS_LABELS,\n",
    "    model_wrapped = ori_model,\n",
    "    bipolar=False,\n",
    "    divide_255=True) # Ori model does not have the preprocess included"
   ]
  },
  {
   "cell_type": "code",
   "execution_count": 20,
   "id": "5332323a-34ed-43e2-b10d-182ec33d9607",
   "metadata": {},
   "outputs": [
    {
     "data": {
      "text/html": [
       "<div>\n",
       "<style scoped>\n",
       "    .dataframe tbody tr th:only-of-type {\n",
       "        vertical-align: middle;\n",
       "    }\n",
       "\n",
       "    .dataframe tbody tr th {\n",
       "        vertical-align: top;\n",
       "    }\n",
       "\n",
       "    .dataframe thead th {\n",
       "        text-align: right;\n",
       "    }\n",
       "</style>\n",
       "<table border=\"1\" class=\"dataframe\">\n",
       "  <thead>\n",
       "    <tr style=\"text-align: right;\">\n",
       "      <th></th>\n",
       "      <th>Smoke</th>\n",
       "      <th>Fire</th>\n",
       "      <th>Mean</th>\n",
       "    </tr>\n",
       "  </thead>\n",
       "  <tbody>\n",
       "    <tr>\n",
       "      <th>Accuracy</th>\n",
       "      <td>0.7143</td>\n",
       "      <td>0.8571</td>\n",
       "      <td>0.7857</td>\n",
       "    </tr>\n",
       "    <tr>\n",
       "      <th>Precision</th>\n",
       "      <td>0.7500</td>\n",
       "      <td>1.0000</td>\n",
       "      <td>0.8750</td>\n",
       "    </tr>\n",
       "    <tr>\n",
       "      <th>Recall</th>\n",
       "      <td>0.7500</td>\n",
       "      <td>0.5000</td>\n",
       "      <td>0.6250</td>\n",
       "    </tr>\n",
       "    <tr>\n",
       "      <th>F1</th>\n",
       "      <td>0.7500</td>\n",
       "      <td>0.6667</td>\n",
       "      <td>0.7084</td>\n",
       "    </tr>\n",
       "  </tbody>\n",
       "</table>\n",
       "</div>"
      ],
      "text/plain": [
       "            Smoke    Fire    Mean\n",
       "Accuracy   0.7143  0.8571  0.7857\n",
       "Precision  0.7500  1.0000  0.8750\n",
       "Recall     0.7500  0.5000  0.6250\n",
       "F1         0.7500  0.6667  0.7084"
      ]
     },
     "execution_count": 20,
     "metadata": {},
     "output_type": "execute_result"
    }
   ],
   "source": [
    "ori_df = pd.DataFrame(ori_metrics)\n",
    "ori_df"
   ]
  },
  {
   "cell_type": "markdown",
   "id": "9261c8d4-de99-4239-9ea3-da13d24d103b",
   "metadata": {},
   "source": [
    "### Bipolar Original Model"
   ]
  },
  {
   "cell_type": "code",
   "execution_count": 21,
   "id": "08c1278d-d3df-4712-836c-cccad8ca3fb9",
   "metadata": {},
   "outputs": [
    {
     "name": "stdout",
     "output_type": "stream",
     "text": [
      "Number of test samples: 7\n",
      "\n"
     ]
    },
    {
     "name": "stderr",
     "output_type": "stream",
     "text": [
      "Testing:  14%|████████████████████▋                                                                                                                            | 1/7 [00:00<00:00,  6.49it/s]"
     ]
    },
    {
     "name": "stdout",
     "output_type": "stream",
     "text": [
      "yhat before binarization: [ 1. -1.]\n",
      "yhat after binarization: [1. 0.]\n",
      "Image file: ../../datasets/dfire_mini/7ex/images/PublicDataset00856.jpg: \n",
      "\tlabel [1. 0.]\n",
      "\tpred [1. 0.]\n"
     ]
    },
    {
     "name": "stderr",
     "output_type": "stream",
     "text": [
      "Testing:  29%|█████████████████████████████████████████▍                                                                                                       | 2/7 [00:00<00:00,  7.02it/s]"
     ]
    },
    {
     "name": "stdout",
     "output_type": "stream",
     "text": [
      "yhat before binarization: [-1. -1.]\n",
      "yhat after binarization: [0. 0.]\n",
      "Image file: ../../datasets/dfire_mini/7ex/images/WEB02490.jpg: \n",
      "\tlabel [0. 0.]\n",
      "\tpred [0. 0.]\n"
     ]
    },
    {
     "name": "stderr",
     "output_type": "stream",
     "text": [
      "Testing:  57%|██████████████████████████████████████████████████████████████████████████████████▊                                                              | 4/7 [00:00<00:00,  4.87it/s]"
     ]
    },
    {
     "name": "stdout",
     "output_type": "stream",
     "text": [
      "yhat before binarization: [1. 1.]\n",
      "yhat after binarization: [1. 1.]\n",
      "Image file: ../../datasets/dfire_mini/7ex/images/WEB04682.jpg: \n",
      "\tlabel [1. 1.]\n",
      "\tpred [1. 1.]\n",
      "yhat before binarization: [ 1. -1.]\n",
      "yhat after binarization: [1. 0.]\n",
      "Image file: ../../datasets/dfire_mini/7ex/images/WEB09251.jpg: \n",
      "\tlabel [1. 1.]\n",
      "\tpred [1. 0.]\n"
     ]
    },
    {
     "name": "stderr",
     "output_type": "stream",
     "text": [
      "Testing:  71%|███████████████████████████████████████████████████████████████████████████████████████████████████████▌                                         | 5/7 [00:01<00:00,  4.56it/s]"
     ]
    },
    {
     "name": "stdout",
     "output_type": "stream",
     "text": [
      "yhat before binarization: [ 1. -1.]\n",
      "yhat after binarization: [1. 0.]\n",
      "Image file: ../../datasets/dfire_mini/7ex/images/WEB09620.jpg: \n",
      "\tlabel [0. 0.]\n",
      "\tpred [1. 0.]\n"
     ]
    },
    {
     "name": "stderr",
     "output_type": "stream",
     "text": [
      "Testing: 100%|█████████████████████████████████████████████████████████████████████████████████████████████████████████████████████████████████████████████████| 7/7 [00:01<00:00,  4.69it/s]"
     ]
    },
    {
     "name": "stdout",
     "output_type": "stream",
     "text": [
      "yhat before binarization: [-1. -1.]\n",
      "yhat after binarization: [0. 0.]\n",
      "Image file: ../../datasets/dfire_mini/7ex/images/WEB10100.jpg: \n",
      "\tlabel [0. 0.]\n",
      "\tpred [0. 0.]\n",
      "yhat before binarization: [-1. -1.]\n",
      "yhat after binarization: [0. 0.]\n",
      "Image file: ../../datasets/dfire_mini/7ex/images/WEB11229.jpg: \n",
      "\tlabel [1. 0.]\n",
      "\tpred [0. 0.]\n",
      "Smoke -> TP: 3.0, FP: 1.0, TN: 2.0, FN: 1.0\n",
      "Fire  -> TP: 1.0, FP: 0.0, TN: 5.0, FN: 1.0\n"
     ]
    },
    {
     "name": "stderr",
     "output_type": "stream",
     "text": [
      "\n"
     ]
    }
   ],
   "source": [
    "bipolar_ori_metrics = metrics.eval_quant_onnx(\n",
    "    imgs_list = IMGS_LIST,\n",
    "    labels_dir = DS_LABELS,\n",
    "    model_wrapped = ori_bipolar_model,\n",
    "    bipolar=True,\n",
    "    divide_255=True) # Ori model does not have the preprocess included"
   ]
  },
  {
   "cell_type": "code",
   "execution_count": 22,
   "id": "07028c86-0cba-4144-b337-db0a8b410b29",
   "metadata": {},
   "outputs": [
    {
     "data": {
      "text/html": [
       "<div>\n",
       "<style scoped>\n",
       "    .dataframe tbody tr th:only-of-type {\n",
       "        vertical-align: middle;\n",
       "    }\n",
       "\n",
       "    .dataframe tbody tr th {\n",
       "        vertical-align: top;\n",
       "    }\n",
       "\n",
       "    .dataframe thead th {\n",
       "        text-align: right;\n",
       "    }\n",
       "</style>\n",
       "<table border=\"1\" class=\"dataframe\">\n",
       "  <thead>\n",
       "    <tr style=\"text-align: right;\">\n",
       "      <th></th>\n",
       "      <th>Smoke</th>\n",
       "      <th>Fire</th>\n",
       "      <th>Mean</th>\n",
       "    </tr>\n",
       "  </thead>\n",
       "  <tbody>\n",
       "    <tr>\n",
       "      <th>Accuracy</th>\n",
       "      <td>0.7143</td>\n",
       "      <td>0.8571</td>\n",
       "      <td>0.7857</td>\n",
       "    </tr>\n",
       "    <tr>\n",
       "      <th>Precision</th>\n",
       "      <td>0.7500</td>\n",
       "      <td>1.0000</td>\n",
       "      <td>0.8750</td>\n",
       "    </tr>\n",
       "    <tr>\n",
       "      <th>Recall</th>\n",
       "      <td>0.7500</td>\n",
       "      <td>0.5000</td>\n",
       "      <td>0.6250</td>\n",
       "    </tr>\n",
       "    <tr>\n",
       "      <th>F1</th>\n",
       "      <td>0.7500</td>\n",
       "      <td>0.6667</td>\n",
       "      <td>0.7084</td>\n",
       "    </tr>\n",
       "  </tbody>\n",
       "</table>\n",
       "</div>"
      ],
      "text/plain": [
       "            Smoke    Fire    Mean\n",
       "Accuracy   0.7143  0.8571  0.7857\n",
       "Precision  0.7500  1.0000  0.8750\n",
       "Recall     0.7500  0.5000  0.6250\n",
       "F1         0.7500  0.6667  0.7084"
      ]
     },
     "execution_count": 22,
     "metadata": {},
     "output_type": "execute_result"
    }
   ],
   "source": [
    "bipolar_df = pd.DataFrame(bipolar_ori_metrics)\n",
    "bipolar_df"
   ]
  },
  {
   "cell_type": "markdown",
   "id": "a22d2282-c29c-4cbc-9070-fb1c7117afaf",
   "metadata": {},
   "source": [
    "### Tidy Up Model"
   ]
  },
  {
   "cell_type": "code",
   "execution_count": 23,
   "id": "a1a75543-4558-49fd-8a4d-a5080e1c7ba4",
   "metadata": {},
   "outputs": [
    {
     "name": "stdout",
     "output_type": "stream",
     "text": [
      "Number of test samples: 7\n",
      "\n"
     ]
    },
    {
     "name": "stderr",
     "output_type": "stream",
     "text": [
      "Testing:   0%|                                                                                                                                                         | 0/7 [00:00<?, ?it/s]/home/gmoreno/uav/finn/deps/qonnx/src/qonnx/util/basic.py:296: UserWarning: The values of tensor MultiThreshold_0_out0 can't be represented with the set datatype annotation (INT8), they will be rounded to match the datatype annotation.\n",
      "  warnings.warn(\n",
      "/home/gmoreno/uav/finn/deps/qonnx/src/qonnx/util/basic.py:296: UserWarning: The values of tensor MultiThreshold_2_out0 can't be represented with the set datatype annotation (INT4), they will be rounded to match the datatype annotation.\n",
      "  warnings.warn(\n",
      "/home/gmoreno/uav/finn/deps/qonnx/src/qonnx/util/basic.py:296: UserWarning: The values of tensor MultiThreshold_5_out0 can't be represented with the set datatype annotation (INT4), they will be rounded to match the datatype annotation.\n",
      "  warnings.warn(\n",
      "/home/gmoreno/uav/finn/deps/qonnx/src/qonnx/util/basic.py:296: UserWarning: The values of tensor MultiThreshold_8_out0 can't be represented with the set datatype annotation (INT4), they will be rounded to match the datatype annotation.\n",
      "  warnings.warn(\n",
      "/home/gmoreno/uav/finn/deps/qonnx/src/qonnx/util/basic.py:296: UserWarning: The values of tensor MultiThreshold_13_out0 can't be represented with the set datatype annotation (INT4), they will be rounded to match the datatype annotation.\n",
      "  warnings.warn(\n",
      "/home/gmoreno/uav/finn/deps/qonnx/src/qonnx/util/basic.py:296: UserWarning: The values of tensor MultiThreshold_16_out0 can't be represented with the set datatype annotation (INT4), they will be rounded to match the datatype annotation.\n",
      "  warnings.warn(\n",
      "Testing:  14%|████████████████████▋                                                                                                                            | 1/7 [00:07<00:45,  7.64s/it]"
     ]
    },
    {
     "name": "stdout",
     "output_type": "stream",
     "text": [
      "yhat before binarization: [ 1. -1.]\n",
      "yhat after binarization: [1. 0.]\n",
      "Image file: ../../datasets/dfire_mini/7ex/images/PublicDataset00856.jpg: \n",
      "\tlabel [1. 0.]\n",
      "\tpred [1. 0.]\n"
     ]
    },
    {
     "name": "stderr",
     "output_type": "stream",
     "text": [
      "Testing:  29%|█████████████████████████████████████████▍                                                                                                       | 2/7 [00:14<00:37,  7.47s/it]"
     ]
    },
    {
     "name": "stdout",
     "output_type": "stream",
     "text": [
      "yhat before binarization: [-1. -1.]\n",
      "yhat after binarization: [0. 0.]\n",
      "Image file: ../../datasets/dfire_mini/7ex/images/WEB02490.jpg: \n",
      "\tlabel [0. 0.]\n",
      "\tpred [0. 0.]\n"
     ]
    },
    {
     "name": "stderr",
     "output_type": "stream",
     "text": [
      "Testing:  43%|██████████████████████████████████████████████████████████████▏                                                                                  | 3/7 [00:22<00:30,  7.55s/it]"
     ]
    },
    {
     "name": "stdout",
     "output_type": "stream",
     "text": [
      "yhat before binarization: [1. 1.]\n",
      "yhat after binarization: [1. 1.]\n",
      "Image file: ../../datasets/dfire_mini/7ex/images/WEB04682.jpg: \n",
      "\tlabel [1. 1.]\n",
      "\tpred [1. 1.]\n"
     ]
    },
    {
     "name": "stderr",
     "output_type": "stream",
     "text": [
      "Testing:  57%|██████████████████████████████████████████████████████████████████████████████████▊                                                              | 4/7 [00:30<00:22,  7.66s/it]"
     ]
    },
    {
     "name": "stdout",
     "output_type": "stream",
     "text": [
      "yhat before binarization: [ 1. -1.]\n",
      "yhat after binarization: [1. 0.]\n",
      "Image file: ../../datasets/dfire_mini/7ex/images/WEB09251.jpg: \n",
      "\tlabel [1. 1.]\n",
      "\tpred [1. 0.]\n"
     ]
    },
    {
     "name": "stderr",
     "output_type": "stream",
     "text": [
      "Testing:  71%|███████████████████████████████████████████████████████████████████████████████████████████████████████▌                                         | 5/7 [00:38<00:15,  7.64s/it]"
     ]
    },
    {
     "name": "stdout",
     "output_type": "stream",
     "text": [
      "yhat before binarization: [ 1. -1.]\n",
      "yhat after binarization: [1. 0.]\n",
      "Image file: ../../datasets/dfire_mini/7ex/images/WEB09620.jpg: \n",
      "\tlabel [0. 0.]\n",
      "\tpred [1. 0.]\n"
     ]
    },
    {
     "name": "stderr",
     "output_type": "stream",
     "text": [
      "Testing:  86%|████████████████████████████████████████████████████████████████████████████████████████████████████████████████████████████▎                    | 6/7 [00:45<00:07,  7.60s/it]"
     ]
    },
    {
     "name": "stdout",
     "output_type": "stream",
     "text": [
      "yhat before binarization: [-1.  1.]\n",
      "yhat after binarization: [0. 1.]\n",
      "Image file: ../../datasets/dfire_mini/7ex/images/WEB10100.jpg: \n",
      "\tlabel [0. 0.]\n",
      "\tpred [0. 1.]\n"
     ]
    },
    {
     "name": "stderr",
     "output_type": "stream",
     "text": [
      "Testing: 100%|█████████████████████████████████████████████████████████████████████████████████████████████████████████████████████████████████████████████████| 7/7 [00:53<00:00,  7.59s/it]"
     ]
    },
    {
     "name": "stdout",
     "output_type": "stream",
     "text": [
      "yhat before binarization: [-1. -1.]\n",
      "yhat after binarization: [0. 0.]\n",
      "Image file: ../../datasets/dfire_mini/7ex/images/WEB11229.jpg: \n",
      "\tlabel [1. 0.]\n",
      "\tpred [0. 0.]\n",
      "Smoke -> TP: 3.0, FP: 1.0, TN: 2.0, FN: 1.0\n",
      "Fire  -> TP: 1.0, FP: 1.0, TN: 4.0, FN: 1.0\n"
     ]
    },
    {
     "name": "stderr",
     "output_type": "stream",
     "text": [
      "\n"
     ]
    }
   ],
   "source": [
    "clean_metrics = metrics.eval_quant_onnx(\n",
    "    imgs_list = IMGS_LIST,\n",
    "    labels_dir = DS_LABELS,\n",
    "    model_wrapped = tidy_up_model,\n",
    "    bipolar=True,\n",
    "    divide_255=False) # Tidy Up model has the preprocess included"
   ]
  },
  {
   "cell_type": "code",
   "execution_count": 24,
   "id": "6110b693-88a9-45c3-bf95-26a4009100eb",
   "metadata": {},
   "outputs": [],
   "source": [
    "# print(clean_metrics)"
   ]
  },
  {
   "cell_type": "code",
   "execution_count": 25,
   "id": "37c19cce-9aa2-4c66-b289-6b71c606a94c",
   "metadata": {},
   "outputs": [
    {
     "data": {
      "text/html": [
       "<div>\n",
       "<style scoped>\n",
       "    .dataframe tbody tr th:only-of-type {\n",
       "        vertical-align: middle;\n",
       "    }\n",
       "\n",
       "    .dataframe tbody tr th {\n",
       "        vertical-align: top;\n",
       "    }\n",
       "\n",
       "    .dataframe thead th {\n",
       "        text-align: right;\n",
       "    }\n",
       "</style>\n",
       "<table border=\"1\" class=\"dataframe\">\n",
       "  <thead>\n",
       "    <tr style=\"text-align: right;\">\n",
       "      <th></th>\n",
       "      <th>Smoke</th>\n",
       "      <th>Fire</th>\n",
       "      <th>Mean</th>\n",
       "    </tr>\n",
       "  </thead>\n",
       "  <tbody>\n",
       "    <tr>\n",
       "      <th>Accuracy</th>\n",
       "      <td>0.7143</td>\n",
       "      <td>0.7143</td>\n",
       "      <td>0.7143</td>\n",
       "    </tr>\n",
       "    <tr>\n",
       "      <th>Precision</th>\n",
       "      <td>0.7500</td>\n",
       "      <td>0.5000</td>\n",
       "      <td>0.6250</td>\n",
       "    </tr>\n",
       "    <tr>\n",
       "      <th>Recall</th>\n",
       "      <td>0.7500</td>\n",
       "      <td>0.5000</td>\n",
       "      <td>0.6250</td>\n",
       "    </tr>\n",
       "    <tr>\n",
       "      <th>F1</th>\n",
       "      <td>0.7500</td>\n",
       "      <td>0.5000</td>\n",
       "      <td>0.6250</td>\n",
       "    </tr>\n",
       "  </tbody>\n",
       "</table>\n",
       "</div>"
      ],
      "text/plain": [
       "            Smoke    Fire    Mean\n",
       "Accuracy   0.7143  0.7143  0.7143\n",
       "Precision  0.7500  0.5000  0.6250\n",
       "Recall     0.7500  0.5000  0.6250\n",
       "F1         0.7500  0.5000  0.6250"
      ]
     },
     "execution_count": 25,
     "metadata": {},
     "output_type": "execute_result"
    }
   ],
   "source": [
    "clean_df = pd.DataFrame(clean_metrics)\n",
    "clean_df"
   ]
  },
  {
   "cell_type": "code",
   "execution_count": 26,
   "id": "f706eba8-3978-4900-914c-4c1408c56b83",
   "metadata": {},
   "outputs": [
    {
     "data": {
      "text/html": [
       "<div>\n",
       "<style scoped>\n",
       "    .dataframe tbody tr th:only-of-type {\n",
       "        vertical-align: middle;\n",
       "    }\n",
       "\n",
       "    .dataframe tbody tr th {\n",
       "        vertical-align: top;\n",
       "    }\n",
       "\n",
       "    .dataframe thead th {\n",
       "        text-align: right;\n",
       "    }\n",
       "</style>\n",
       "<table border=\"1\" class=\"dataframe\">\n",
       "  <thead>\n",
       "    <tr style=\"text-align: right;\">\n",
       "      <th></th>\n",
       "      <th>Smoke</th>\n",
       "      <th>Fire</th>\n",
       "      <th>Mean</th>\n",
       "    </tr>\n",
       "  </thead>\n",
       "  <tbody>\n",
       "    <tr>\n",
       "      <th>Accuracy</th>\n",
       "      <td>0.7143</td>\n",
       "      <td>0.8571</td>\n",
       "      <td>0.7857</td>\n",
       "    </tr>\n",
       "    <tr>\n",
       "      <th>Precision</th>\n",
       "      <td>0.7500</td>\n",
       "      <td>1.0000</td>\n",
       "      <td>0.8750</td>\n",
       "    </tr>\n",
       "    <tr>\n",
       "      <th>Recall</th>\n",
       "      <td>0.7500</td>\n",
       "      <td>0.5000</td>\n",
       "      <td>0.6250</td>\n",
       "    </tr>\n",
       "    <tr>\n",
       "      <th>F1</th>\n",
       "      <td>0.7500</td>\n",
       "      <td>0.6667</td>\n",
       "      <td>0.7084</td>\n",
       "    </tr>\n",
       "  </tbody>\n",
       "</table>\n",
       "</div>"
      ],
      "text/plain": [
       "            Smoke    Fire    Mean\n",
       "Accuracy   0.7143  0.8571  0.7857\n",
       "Precision  0.7500  1.0000  0.8750\n",
       "Recall     0.7500  0.5000  0.6250\n",
       "F1         0.7500  0.6667  0.7084"
      ]
     },
     "execution_count": 26,
     "metadata": {},
     "output_type": "execute_result"
    }
   ],
   "source": [
    "ori_df"
   ]
  },
  {
   "cell_type": "markdown",
   "id": "db815b45-9f2c-4a8d-bddf-bfc243116ce8",
   "metadata": {},
   "source": [
    "### Modify Tidy Up from Bipolar to Binary"
   ]
  },
  {
   "cell_type": "code",
   "execution_count": 27,
   "id": "d857fb15-0367-4b08-b2e2-70ddf3dadd0d",
   "metadata": {},
   "outputs": [
    {
     "name": "stdout",
     "output_type": "stream",
     "text": [
      "Node changed from BIPOLAR to BINARY, to fulfill standalone MultiThreshold requirement\n",
      "input: \"Add_6_out0\"\n",
      "input: \"MultiThreshold_19_param0\"\n",
      "output: \"global_out\"\n",
      "name: \"MultiThreshold_19\"\n",
      "op_type: \"MultiThreshold\"\n",
      "attribute {\n",
      "  name: \"out_dtype\"\n",
      "  s: \"BINARY\"\n",
      "  type: STRING\n",
      "}\n",
      "attribute {\n",
      "  name: \"out_scale\"\n",
      "  f: 1.0\n",
      "  type: FLOAT\n",
      "}\n",
      "attribute {\n",
      "  name: \"out_bias\"\n",
      "  f: 0.0\n",
      "  type: FLOAT\n",
      "}\n",
      "domain: \"qonnx.custom_op.general\"\n",
      "\n",
      "Set Output to BINARY Datatype\n"
     ]
    }
   ],
   "source": [
    "Multithreshold_node = tidy_up_model.get_nodes_by_op_type(\"MultiThreshold\")    \n",
    "# Find MultiThreshold that FINN could not annotate datatype properly and set them to INT32\n",
    "# It happens with all convolutions splitted by Spatial SVD\n",
    "    # First conv is the one impacted: k=(3,1)\n",
    "    # Second conv, k=(1,3), followed by BN and ReLU, is annotated properly\n",
    "# for node in Multithreshold_node:\n",
    "#     if tidy_up_model.get_tensor_datatype(node.input[1]) == \"FLOAT32\":\n",
    "#         print(f'{node.name}: node with Float32 annotation')\n",
    "#         tidy_up_model.set_tensor_datatype(node.input[1], DataType[\"INT32\"])\n",
    "#         print(f'{node.name}: changed to datatype {tidy_up_model.get_tensor_datatype(node.input[1])}')\n",
    "# Change BIPOLAR end node to BINARY\n",
    "for node in Multithreshold_node:\n",
    "    node_inst = getCustomOp(node)\n",
    "    if node_inst.get_nodeattr(\"out_dtype\") == \"BIPOLAR\":\n",
    "        node_inst.set_nodeattr(\"out_dtype\", \"BINARY\")\n",
    "        node_inst.set_nodeattr(\"out_scale\", 1.0)\n",
    "        node_inst.set_nodeattr(\"out_bias\", 0.0)\n",
    "        print(f'Node changed from BIPOLAR to BINARY, to fulfill standalone MultiThreshold requirement\\n{node}')\n",
    "        print(\"Set Output to BINARY Datatype\")\n",
    "        global_out_name = tidy_up_model.graph.output[0].name\n",
    "        tidy_up_model.set_tensor_datatype(global_out_name, DataType[\"BINARY\"])"
   ]
  },
  {
   "cell_type": "code",
   "execution_count": 28,
   "id": "0eabcbf1-7738-4ad5-a4f1-f589f3580b4d",
   "metadata": {},
   "outputs": [
    {
     "name": "stdout",
     "output_type": "stream",
     "text": [
      "Number of test samples: 7\n",
      "\n"
     ]
    },
    {
     "name": "stderr",
     "output_type": "stream",
     "text": [
      "Testing:   0%|                                                                                                                                                         | 0/7 [00:00<?, ?it/s]/home/gmoreno/uav/finn/deps/qonnx/src/qonnx/util/basic.py:296: UserWarning: The values of tensor MultiThreshold_0_out0 can't be represented with the set datatype annotation (INT8), they will be rounded to match the datatype annotation.\n",
      "  warnings.warn(\n",
      "/home/gmoreno/uav/finn/deps/qonnx/src/qonnx/util/basic.py:296: UserWarning: The values of tensor MultiThreshold_2_out0 can't be represented with the set datatype annotation (INT4), they will be rounded to match the datatype annotation.\n",
      "  warnings.warn(\n",
      "/home/gmoreno/uav/finn/deps/qonnx/src/qonnx/util/basic.py:296: UserWarning: The values of tensor MultiThreshold_5_out0 can't be represented with the set datatype annotation (INT4), they will be rounded to match the datatype annotation.\n",
      "  warnings.warn(\n",
      "/home/gmoreno/uav/finn/deps/qonnx/src/qonnx/util/basic.py:296: UserWarning: The values of tensor MultiThreshold_8_out0 can't be represented with the set datatype annotation (INT4), they will be rounded to match the datatype annotation.\n",
      "  warnings.warn(\n",
      "/home/gmoreno/uav/finn/deps/qonnx/src/qonnx/util/basic.py:296: UserWarning: The values of tensor MultiThreshold_13_out0 can't be represented with the set datatype annotation (INT4), they will be rounded to match the datatype annotation.\n",
      "  warnings.warn(\n",
      "/home/gmoreno/uav/finn/deps/qonnx/src/qonnx/util/basic.py:296: UserWarning: The values of tensor MultiThreshold_16_out0 can't be represented with the set datatype annotation (INT4), they will be rounded to match the datatype annotation.\n",
      "  warnings.warn(\n",
      "Testing:  14%|████████████████████▋                                                                                                                            | 1/7 [00:07<00:45,  7.57s/it]"
     ]
    },
    {
     "name": "stdout",
     "output_type": "stream",
     "text": [
      "yhat before binarization: [1. 0.]\n",
      "yhat after binarization: [1. 0.]\n",
      "Image file: ../../datasets/dfire_mini/7ex/images/PublicDataset00856.jpg: \n",
      "\tlabel [1. 0.]\n",
      "\tpred [1. 0.]\n"
     ]
    },
    {
     "name": "stderr",
     "output_type": "stream",
     "text": [
      "Testing:  29%|█████████████████████████████████████████▍                                                                                                       | 2/7 [00:15<00:37,  7.53s/it]"
     ]
    },
    {
     "name": "stdout",
     "output_type": "stream",
     "text": [
      "yhat before binarization: [0. 0.]\n",
      "yhat after binarization: [0. 0.]\n",
      "Image file: ../../datasets/dfire_mini/7ex/images/WEB02490.jpg: \n",
      "\tlabel [0. 0.]\n",
      "\tpred [0. 0.]\n"
     ]
    },
    {
     "name": "stderr",
     "output_type": "stream",
     "text": [
      "Testing:  43%|██████████████████████████████████████████████████████████████▏                                                                                  | 3/7 [00:22<00:30,  7.58s/it]"
     ]
    },
    {
     "name": "stdout",
     "output_type": "stream",
     "text": [
      "yhat before binarization: [1. 1.]\n",
      "yhat after binarization: [1. 1.]\n",
      "Image file: ../../datasets/dfire_mini/7ex/images/WEB04682.jpg: \n",
      "\tlabel [1. 1.]\n",
      "\tpred [1. 1.]\n"
     ]
    },
    {
     "name": "stderr",
     "output_type": "stream",
     "text": [
      "Testing:  57%|██████████████████████████████████████████████████████████████████████████████████▊                                                              | 4/7 [00:30<00:22,  7.65s/it]"
     ]
    },
    {
     "name": "stdout",
     "output_type": "stream",
     "text": [
      "yhat before binarization: [1. 0.]\n",
      "yhat after binarization: [1. 0.]\n",
      "Image file: ../../datasets/dfire_mini/7ex/images/WEB09251.jpg: \n",
      "\tlabel [1. 1.]\n",
      "\tpred [1. 0.]\n"
     ]
    },
    {
     "name": "stderr",
     "output_type": "stream",
     "text": [
      "Testing:  71%|███████████████████████████████████████████████████████████████████████████████████████████████████████▌                                         | 5/7 [00:38<00:15,  7.71s/it]"
     ]
    },
    {
     "name": "stdout",
     "output_type": "stream",
     "text": [
      "yhat before binarization: [1. 0.]\n",
      "yhat after binarization: [1. 0.]\n",
      "Image file: ../../datasets/dfire_mini/7ex/images/WEB09620.jpg: \n",
      "\tlabel [0. 0.]\n",
      "\tpred [1. 0.]\n"
     ]
    },
    {
     "name": "stderr",
     "output_type": "stream",
     "text": [
      "Testing:  86%|████████████████████████████████████████████████████████████████████████████████████████████████████████████████████████████▎                    | 6/7 [00:45<00:07,  7.66s/it]"
     ]
    },
    {
     "name": "stdout",
     "output_type": "stream",
     "text": [
      "yhat before binarization: [0. 1.]\n",
      "yhat after binarization: [0. 1.]\n",
      "Image file: ../../datasets/dfire_mini/7ex/images/WEB10100.jpg: \n",
      "\tlabel [0. 0.]\n",
      "\tpred [0. 1.]\n"
     ]
    },
    {
     "name": "stderr",
     "output_type": "stream",
     "text": [
      "Testing: 100%|█████████████████████████████████████████████████████████████████████████████████████████████████████████████████████████████████████████████████| 7/7 [00:53<00:00,  7.60s/it]"
     ]
    },
    {
     "name": "stdout",
     "output_type": "stream",
     "text": [
      "yhat before binarization: [0. 0.]\n",
      "yhat after binarization: [0. 0.]\n",
      "Image file: ../../datasets/dfire_mini/7ex/images/WEB11229.jpg: \n",
      "\tlabel [1. 0.]\n",
      "\tpred [0. 0.]\n",
      "Smoke -> TP: 3.0, FP: 1.0, TN: 2.0, FN: 1.0\n",
      "Fire  -> TP: 1.0, FP: 1.0, TN: 4.0, FN: 1.0\n"
     ]
    },
    {
     "name": "stderr",
     "output_type": "stream",
     "text": [
      "\n"
     ]
    }
   ],
   "source": [
    "surgery_metrics = metrics.eval_quant_onnx(\n",
    "    imgs_list = IMGS_LIST,\n",
    "    labels_dir = DS_LABELS,\n",
    "    model_wrapped = tidy_up_model,\n",
    "    bipolar=True,\n",
    "    divide_255=False) # Tidy Up model has the preprocess included"
   ]
  },
  {
   "cell_type": "code",
   "execution_count": 29,
   "id": "e31df0d6-276a-4e6d-a67e-d0a5b1f75eb0",
   "metadata": {},
   "outputs": [],
   "source": [
    "surgery_df = pd.DataFrame(surgery_metrics)"
   ]
  },
  {
   "cell_type": "code",
   "execution_count": 30,
   "id": "8e4f85c0-ea0b-4ffd-b1a0-0b82043f2a56",
   "metadata": {},
   "outputs": [
    {
     "name": "stdout",
     "output_type": "stream",
     "text": [
      "Ori Metrics \n",
      "            Smoke    Fire    Mean\n",
      "Accuracy   0.7143  0.8571  0.7857\n",
      "Precision  0.7500  1.0000  0.8750\n",
      "Recall     0.7500  0.5000  0.6250\n",
      "F1         0.7500  0.6667  0.7084\n",
      "\n",
      "Ori Bipolar Metrics \n",
      "            Smoke    Fire    Mean\n",
      "Accuracy   0.7143  0.8571  0.7857\n",
      "Precision  0.7500  1.0000  0.8750\n",
      "Recall     0.7500  0.5000  0.6250\n",
      "F1         0.7500  0.6667  0.7084\n",
      "\n",
      "Tidy up Metrics \n",
      "            Smoke    Fire    Mean\n",
      "Accuracy   0.7143  0.7143  0.7143\n",
      "Precision  0.7500  0.5000  0.6250\n",
      "Recall     0.7500  0.5000  0.6250\n",
      "F1         0.7500  0.5000  0.6250\n",
      "\n",
      "Surgery Metrics \n",
      "            Smoke    Fire    Mean\n",
      "Accuracy   0.7143  0.7143  0.7143\n",
      "Precision  0.7500  0.5000  0.6250\n",
      "Recall     0.7500  0.5000  0.6250\n",
      "F1         0.7500  0.5000  0.6250\n",
      "\n"
     ]
    }
   ],
   "source": [
    "print(f'Ori Metrics \\n{ori_df}\\n')\n",
    "print(f'Ori Bipolar Metrics \\n{bipolar_df}\\n')\n",
    "print(f'Tidy up Metrics \\n{clean_df}\\n')\n",
    "print(f'Surgery Metrics \\n{surgery_df}\\n')"
   ]
  },
  {
   "cell_type": "code",
   "execution_count": 31,
   "id": "8118fd1d-49c6-4bf5-9aec-ec773b2706a9",
   "metadata": {},
   "outputs": [
    {
     "name": "stderr",
     "output_type": "stream",
     "text": [
      "/home/gmoreno/uav/finn/deps/qonnx/src/qonnx/util/basic.py:296: UserWarning: The values of tensor MultiThreshold_0_out0 can't be represented with the set datatype annotation (INT8), they will be rounded to match the datatype annotation.\n",
      "  warnings.warn(\n",
      "/home/gmoreno/uav/finn/deps/qonnx/src/qonnx/util/basic.py:296: UserWarning: The values of tensor MultiThreshold_2_out0 can't be represented with the set datatype annotation (INT4), they will be rounded to match the datatype annotation.\n",
      "  warnings.warn(\n",
      "/home/gmoreno/uav/finn/deps/qonnx/src/qonnx/util/basic.py:296: UserWarning: The values of tensor MultiThreshold_5_out0 can't be represented with the set datatype annotation (INT4), they will be rounded to match the datatype annotation.\n",
      "  warnings.warn(\n",
      "/home/gmoreno/uav/finn/deps/qonnx/src/qonnx/util/basic.py:296: UserWarning: The values of tensor MultiThreshold_8_out0 can't be represented with the set datatype annotation (INT4), they will be rounded to match the datatype annotation.\n",
      "  warnings.warn(\n",
      "/home/gmoreno/uav/finn/deps/qonnx/src/qonnx/util/basic.py:296: UserWarning: The values of tensor MultiThreshold_13_out0 can't be represented with the set datatype annotation (INT4), they will be rounded to match the datatype annotation.\n",
      "  warnings.warn(\n",
      "/home/gmoreno/uav/finn/deps/qonnx/src/qonnx/util/basic.py:296: UserWarning: The values of tensor MultiThreshold_16_out0 can't be represented with the set datatype annotation (INT4), they will be rounded to match the datatype annotation.\n",
      "  warnings.warn(\n"
     ]
    },
    {
     "data": {
      "text/plain": [
       "array([[0., 0.]], dtype=float32)"
      ]
     },
     "execution_count": 31,
     "metadata": {},
     "output_type": "execute_result"
    }
   ],
   "source": [
    "input_dict = {\"global_in\": dummy_in}\n",
    "output_dict = oxe.execute_onnx(tidy_up_model, input_dict)\n",
    "produced_tidy_up_qonnx = output_dict[list(output_dict.keys())[0]]\n",
    "produced_tidy_up_qonnx"
   ]
  },
  {
   "cell_type": "code",
   "execution_count": null,
   "id": "02c14bea-d7d1-480a-ac92-3c3b587111eb",
   "metadata": {},
   "outputs": [],
   "source": []
  }
 ],
 "metadata": {
  "kernelspec": {
   "display_name": "Python 3 (ipykernel)",
   "language": "python",
   "name": "python3"
  },
  "language_info": {
   "codemirror_mode": {
    "name": "ipython",
    "version": 3
   },
   "file_extension": ".py",
   "mimetype": "text/x-python",
   "name": "python",
   "nbconvert_exporter": "python",
   "pygments_lexer": "ipython3",
   "version": "3.10.12"
  }
 },
 "nbformat": 4,
 "nbformat_minor": 5
}
