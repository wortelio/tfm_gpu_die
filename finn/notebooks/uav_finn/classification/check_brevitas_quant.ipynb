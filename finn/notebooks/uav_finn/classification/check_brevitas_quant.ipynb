{
 "cells": [
  {
   "cell_type": "code",
   "execution_count": 1,
   "id": "7be185d2-a8a0-4daf-b3fb-080c315e79db",
   "metadata": {},
   "outputs": [],
   "source": [
    "import numpy as np\n",
    "import torch\n",
    "import brevitas.nn as qnn\n",
    "\n",
    "#from brevitas.core.quant import QuantType\n",
    "from brevitas.quant import Int8ActPerTensorFloat"
   ]
  },
  {
   "cell_type": "code",
   "execution_count": 38,
   "id": "b9000d8b-6330-4775-8657-831f063958a2",
   "metadata": {},
   "outputs": [],
   "source": [
    "bipolar_quant = qnn.QuantIdentity(\n",
    "    quant_type='binary', \n",
    "    scaling_impl_type='const',\n",
    "    bit_width=1, min_val=-1.0, max_val=1.0,\n",
    "    return_quant_tensor=True)"
   ]
  },
  {
   "cell_type": "code",
   "execution_count": 39,
   "id": "0c59ff09-9c08-4b9a-ae89-910dce865086",
   "metadata": {},
   "outputs": [
    {
     "name": "stdout",
     "output_type": "stream",
     "text": [
      "Input: [[-1.63242326 -3.48034047]]\n",
      "Output: QuantTensor(value=tensor([[-1., -1.]], dtype=torch.float64), scale=tensor(1.), zero_point=tensor(0.), bit_width=tensor(1.), signed_t=tensor(True), training_t=tensor(True))\n",
      "Input: [[-1.67987799 -9.9904635 ]]\n",
      "Output: QuantTensor(value=tensor([[-1., -1.]], dtype=torch.float64), scale=tensor(1.), zero_point=tensor(0.), bit_width=tensor(1.), signed_t=tensor(True), training_t=tensor(True))\n",
      "Input: [[1.3126631  3.04950797]]\n",
      "Output: QuantTensor(value=tensor([[1., 1.]], dtype=torch.float64), scale=tensor(1.), zero_point=tensor(0.), bit_width=tensor(1.), signed_t=tensor(True), training_t=tensor(True))\n",
      "Input: [[5.73997299 3.16710307]]\n",
      "Output: QuantTensor(value=tensor([[1., 1.]], dtype=torch.float64), scale=tensor(1.), zero_point=tensor(0.), bit_width=tensor(1.), signed_t=tensor(True), training_t=tensor(True))\n",
      "Input: [[0.62868001 4.27332068]]\n",
      "Output: QuantTensor(value=tensor([[1., 1.]], dtype=torch.float64), scale=tensor(1.), zero_point=tensor(0.), bit_width=tensor(1.), signed_t=tensor(True), training_t=tensor(True))\n",
      "Input: [[-2.40500429  3.65814187]]\n",
      "Output: QuantTensor(value=tensor([[-1.,  1.]], dtype=torch.float64), scale=tensor(1.), zero_point=tensor(0.), bit_width=tensor(1.), signed_t=tensor(True), training_t=tensor(True))\n",
      "Input: [[-12.85111127  -1.66279298]]\n",
      "Output: QuantTensor(value=tensor([[-1., -1.]], dtype=torch.float64), scale=tensor(1.), zero_point=tensor(0.), bit_width=tensor(1.), signed_t=tensor(True), training_t=tensor(True))\n",
      "Input: [[-1.83296799 -2.96978325]]\n",
      "Output: QuantTensor(value=tensor([[-1., -1.]], dtype=torch.float64), scale=tensor(1.), zero_point=tensor(0.), bit_width=tensor(1.), signed_t=tensor(True), training_t=tensor(True))\n",
      "Input: [[-0.41244449 -2.56534269]]\n",
      "Output: QuantTensor(value=tensor([[-1., -1.]], dtype=torch.float64), scale=tensor(1.), zero_point=tensor(0.), bit_width=tensor(1.), signed_t=tensor(True), training_t=tensor(True))\n",
      "Input: [[4.82486364 2.24556566]]\n",
      "Output: QuantTensor(value=tensor([[1., 1.]], dtype=torch.float64), scale=tensor(1.), zero_point=tensor(0.), bit_width=tensor(1.), signed_t=tensor(True), training_t=tensor(True))\n"
     ]
    }
   ],
   "source": [
    "for i in range(10):\n",
    "    inp = 5*np.random.randn(1,2)\n",
    "    torch_inp = torch.tensor(inp)\n",
    "    print(f'Input: {torch_inp.detach().numpy()}')\n",
    "    out = bipolar_quant(torch_inp)\n",
    "    print(f'Output: {out}')"
   ]
  },
  {
   "cell_type": "code",
   "execution_count": 4,
   "id": "bcc0ec4d-d26d-4fe4-8bed-ca8aa0ec7289",
   "metadata": {},
   "outputs": [
    {
     "data": {
      "text/plain": [
       "tensor([[ 1., -1.]])"
      ]
     },
     "execution_count": 4,
     "metadata": {},
     "output_type": "execute_result"
    }
   ],
   "source": [
    "out = bipolar_quant(torch.tensor([[0.000002, -0.000002]], dtype=torch.float32))\n",
    "out"
   ]
  },
  {
   "cell_type": "code",
   "execution_count": 26,
   "id": "dccae47e-c5d3-4c8c-8295-e66f83ce4b10",
   "metadata": {},
   "outputs": [],
   "source": [
    "qint_quant = qnn.QuantIdentity(\n",
    "    act_quant=Int8ActPerTensorFloat, \n",
    "    scaling_impl_type='const',\n",
    "    min_val=-1.0, max_val=1.0,\n",
    "    bit_width=4,\n",
    "    return_quant_tensor=True)"
   ]
  },
  {
   "cell_type": "code",
   "execution_count": 28,
   "id": "0e647700-3d2e-42e6-a4b5-895904d353d5",
   "metadata": {},
   "outputs": [
    {
     "name": "stdout",
     "output_type": "stream",
     "text": [
      "Input: [[-0.09497232  1.04230832]]\n",
      "Output: QuantTensor(value=tensor([[-0.1250,  0.8750]], dtype=torch.float64), scale=tensor(0.1250), zero_point=tensor(0.), bit_width=tensor(4.), signed_t=tensor(True), training_t=tensor(True))\n",
      "Input: [[1.24710737 0.39821415]]\n",
      "Output: QuantTensor(value=tensor([[0.8750, 0.3750]], dtype=torch.float64), scale=tensor(0.1250), zero_point=tensor(0.), bit_width=tensor(4.), signed_t=tensor(True), training_t=tensor(True))\n",
      "Input: [[0.41856146 2.41850356]]\n",
      "Output: QuantTensor(value=tensor([[0.3750, 0.8750]], dtype=torch.float64), scale=tensor(0.1250), zero_point=tensor(0.), bit_width=tensor(4.), signed_t=tensor(True), training_t=tensor(True))\n",
      "Input: [[-0.52772696  0.71397491]]\n",
      "Output: QuantTensor(value=tensor([[-0.5000,  0.7500]], dtype=torch.float64), scale=tensor(0.1250), zero_point=tensor(0.), bit_width=tensor(4.), signed_t=tensor(True), training_t=tensor(True))\n",
      "Input: [[-1.47861383  2.06035364]]\n",
      "Output: QuantTensor(value=tensor([[-1.0000,  0.8750]], dtype=torch.float64), scale=tensor(0.1250), zero_point=tensor(0.), bit_width=tensor(4.), signed_t=tensor(True), training_t=tensor(True))\n",
      "Input: [[-0.91929042 -1.17836103]]\n",
      "Output: QuantTensor(value=tensor([[-0.8750, -1.0000]], dtype=torch.float64), scale=tensor(0.1250), zero_point=tensor(0.), bit_width=tensor(4.), signed_t=tensor(True), training_t=tensor(True))\n",
      "Input: [[0.680265  1.9293356]]\n",
      "Output: QuantTensor(value=tensor([[0.6250, 0.8750]], dtype=torch.float64), scale=tensor(0.1250), zero_point=tensor(0.), bit_width=tensor(4.), signed_t=tensor(True), training_t=tensor(True))\n",
      "Input: [[-0.24991601  0.89320259]]\n",
      "Output: QuantTensor(value=tensor([[-0.2500,  0.8750]], dtype=torch.float64), scale=tensor(0.1250), zero_point=tensor(0.), bit_width=tensor(4.), signed_t=tensor(True), training_t=tensor(True))\n",
      "Input: [[-0.48085535  1.45493555]]\n",
      "Output: QuantTensor(value=tensor([[-0.5000,  0.8750]], dtype=torch.float64), scale=tensor(0.1250), zero_point=tensor(0.), bit_width=tensor(4.), signed_t=tensor(True), training_t=tensor(True))\n",
      "Input: [[-0.35591821 -0.45394798]]\n",
      "Output: QuantTensor(value=tensor([[-0.3750, -0.5000]], dtype=torch.float64), scale=tensor(0.1250), zero_point=tensor(0.), bit_width=tensor(4.), signed_t=tensor(True), training_t=tensor(True))\n"
     ]
    }
   ],
   "source": [
    "for i in range(10):\n",
    "    inp = np.random.randn(1,2)\n",
    "    torch_inp = torch.tensor(inp)\n",
    "    print(f'Input: {torch_inp.detach().numpy()}')\n",
    "    out = qint_quant(torch_inp)\n",
    "    print(f'Output: {out}')"
   ]
  },
  {
   "cell_type": "code",
   "execution_count": 30,
   "id": "a1842c7a-1bf9-4a27-922d-32a59bd1c1e9",
   "metadata": {},
   "outputs": [
    {
     "data": {
      "text/plain": [
       "QuantTensor(value=tensor([[0., -0.]]), scale=tensor(0.1250), zero_point=tensor(0.), bit_width=tensor(4.), signed_t=tensor(True), training_t=tensor(True))"
      ]
     },
     "execution_count": 30,
     "metadata": {},
     "output_type": "execute_result"
    }
   ],
   "source": [
    "out = qint_quant(torch.tensor([[0.000002, -0.01]], dtype=torch.float32))\n",
    "out"
   ]
  },
  {
   "cell_type": "code",
   "execution_count": 44,
   "id": "be7d0861-8183-45c0-b7e1-2c9de66a69b9",
   "metadata": {},
   "outputs": [],
   "source": [
    "binary_quant = qnn.QuantIdentity(\n",
    "    quant_type='binary', \n",
    "    scaling_impl_type='const',\n",
    "    bit_width=1, min_val=-1.0, max_val=1.0,\n",
    "    return_quant_tensor=True)"
   ]
  },
  {
   "cell_type": "code",
   "execution_count": 45,
   "id": "1e1879ad-f8fd-4e26-a948-caa3a906cfbe",
   "metadata": {},
   "outputs": [
    {
     "name": "stdout",
     "output_type": "stream",
     "text": [
      "Input: [[0.35743741 0.26482348]]\n",
      "Output: QuantTensor(value=tensor([[1., 1.]], dtype=torch.float64), scale=tensor(1.), zero_point=tensor(0.), bit_width=tensor(1.), signed_t=tensor(True), training_t=tensor(True))\n",
      "Input: [[ 0.23623663 -0.31596443]]\n",
      "Output: QuantTensor(value=tensor([[ 1., -1.]], dtype=torch.float64), scale=tensor(1.), zero_point=tensor(0.), bit_width=tensor(1.), signed_t=tensor(True), training_t=tensor(True))\n",
      "Input: [[-0.27142612 -0.57670055]]\n",
      "Output: QuantTensor(value=tensor([[-1., -1.]], dtype=torch.float64), scale=tensor(1.), zero_point=tensor(0.), bit_width=tensor(1.), signed_t=tensor(True), training_t=tensor(True))\n",
      "Input: [[-1.74702974 -0.73750107]]\n",
      "Output: QuantTensor(value=tensor([[-1., -1.]], dtype=torch.float64), scale=tensor(1.), zero_point=tensor(0.), bit_width=tensor(1.), signed_t=tensor(True), training_t=tensor(True))\n",
      "Input: [[-0.32641313  0.1394018 ]]\n",
      "Output: QuantTensor(value=tensor([[-1.,  1.]], dtype=torch.float64), scale=tensor(1.), zero_point=tensor(0.), bit_width=tensor(1.), signed_t=tensor(True), training_t=tensor(True))\n",
      "Input: [[-0.73819658  1.04487196]]\n",
      "Output: QuantTensor(value=tensor([[-1.,  1.]], dtype=torch.float64), scale=tensor(1.), zero_point=tensor(0.), bit_width=tensor(1.), signed_t=tensor(True), training_t=tensor(True))\n",
      "Input: [[0.61107065 1.61285451]]\n",
      "Output: QuantTensor(value=tensor([[1., 1.]], dtype=torch.float64), scale=tensor(1.), zero_point=tensor(0.), bit_width=tensor(1.), signed_t=tensor(True), training_t=tensor(True))\n",
      "Input: [[-0.17608385  0.14571531]]\n",
      "Output: QuantTensor(value=tensor([[-1.,  1.]], dtype=torch.float64), scale=tensor(1.), zero_point=tensor(0.), bit_width=tensor(1.), signed_t=tensor(True), training_t=tensor(True))\n",
      "Input: [[0.01357425 0.62160834]]\n",
      "Output: QuantTensor(value=tensor([[1., 1.]], dtype=torch.float64), scale=tensor(1.), zero_point=tensor(0.), bit_width=tensor(1.), signed_t=tensor(True), training_t=tensor(True))\n",
      "Input: [[-0.63717957 -0.77877093]]\n",
      "Output: QuantTensor(value=tensor([[-1., -1.]], dtype=torch.float64), scale=tensor(1.), zero_point=tensor(0.), bit_width=tensor(1.), signed_t=tensor(True), training_t=tensor(True))\n"
     ]
    }
   ],
   "source": [
    "for i in range(10):\n",
    "    inp = np.random.randn(1,2)\n",
    "    torch_inp = torch.tensor(inp)\n",
    "    print(f'Input: {torch_inp.detach().numpy()}')\n",
    "    out = binary_quant(torch_inp)\n",
    "    print(f'Output: {out}')"
   ]
  },
  {
   "cell_type": "code",
   "execution_count": null,
   "id": "a6f803df-0cd3-4d32-bc6d-adb5958bca82",
   "metadata": {},
   "outputs": [],
   "source": []
  }
 ],
 "metadata": {
  "kernelspec": {
   "display_name": "Python 3 (ipykernel)",
   "language": "python",
   "name": "python3"
  },
  "language_info": {
   "codemirror_mode": {
    "name": "ipython",
    "version": 3
   },
   "file_extension": ".py",
   "mimetype": "text/x-python",
   "name": "python",
   "nbconvert_exporter": "python",
   "pygments_lexer": "ipython3",
   "version": "3.10.12"
  }
 },
 "nbformat": 4,
 "nbformat_minor": 5
}
