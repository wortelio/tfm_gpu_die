{
 "cells": [
  {
   "cell_type": "code",
   "execution_count": 1,
   "id": "1c8eae8f-fd0a-4fd7-a4ff-b6bcc9be0aa1",
   "metadata": {},
   "outputs": [],
   "source": [
    "import numpy as np\n",
    "\n",
    "from finn.util.visualization import showInNetron\n",
    "\n",
    "from qonnx.util.cleanup import cleanup as qonnx_cleanup\n",
    "from qonnx.core.modelwrapper import ModelWrapper\n",
    "import finn.core.onnx_exec as oxe\n",
    "from finn.transformation.qonnx.convert_qonnx_to_finn import ConvertQONNXtoFINN\n",
    "from qonnx.transformation.infer_shapes import InferShapes\n",
    "\n",
    "import os\n",
    "import pandas as pd\n",
    "import modules.my_metrics as metrics"
   ]
  },
  {
   "cell_type": "markdown",
   "id": "0e43053c-4740-41b4-a321-dc3c0bd8f5bd",
   "metadata": {},
   "source": [
    "# Load Original and OOC Model"
   ]
  },
  {
   "cell_type": "code",
   "execution_count": 2,
   "id": "0b34fa48-2101-4c22-997d-6ca37bebfd25",
   "metadata": {},
   "outputs": [],
   "source": [
    "ori_filename = './models/Best_F1_checked_pytorch.onnx'\n",
    "\n",
    "# PYNQ-Z1 full build folder\n",
    "model_folder = './experiments/035_pynq-z1__workspace__w4W2a4__full_build/output_full_build/intermediate_models'\n",
    "tidy_up_filename = model_folder + '/step_tidy_up.onnx'\n",
    "finn_filename = model_folder + '/custom_step_streamline.onnx'"
   ]
  },
  {
   "cell_type": "markdown",
   "id": "5cce6941-b0db-4c0a-84dc-024808e5f1df",
   "metadata": {},
   "source": [
    "### Original Model: cleaned"
   ]
  },
  {
   "cell_type": "code",
   "execution_count": 3,
   "id": "2c265445-b6b1-4630-b50c-760ad4f46481",
   "metadata": {},
   "outputs": [],
   "source": [
    "ori_cleaned_filename = \"./models/Best_F1_checked_pytorch_cleaned.onnx\"\n",
    "qonnx_cleanup(ori_filename, out_file= ori_cleaned_filename)"
   ]
  },
  {
   "cell_type": "code",
   "execution_count": 4,
   "id": "95d2bcc6-0d43-42bb-86da-bf7e61270638",
   "metadata": {},
   "outputs": [
    {
     "name": "stdout",
     "output_type": "stream",
     "text": [
      "Serving './models/Best_F1_checked_pytorch_cleaned.onnx' at http://0.0.0.0:8083\n"
     ]
    },
    {
     "data": {
      "text/html": [
       "\n",
       "        <iframe\n",
       "            width=\"100%\"\n",
       "            height=\"400\"\n",
       "            src=\"http://localhost:8083/\"\n",
       "            frameborder=\"0\"\n",
       "            allowfullscreen\n",
       "            \n",
       "        ></iframe>\n",
       "        "
      ],
      "text/plain": [
       "<IPython.lib.display.IFrame at 0x7f410958af80>"
      ]
     },
     "execution_count": 4,
     "metadata": {},
     "output_type": "execute_result"
    }
   ],
   "source": [
    "showInNetron(ori_cleaned_filename)"
   ]
  },
  {
   "cell_type": "markdown",
   "id": "3866c8be-8610-4743-9626-b1a216a540db",
   "metadata": {},
   "source": [
    "### Model Wrappers"
   ]
  },
  {
   "cell_type": "code",
   "execution_count": 5,
   "id": "1d6cfaef-1d56-4ef4-90ad-ffb85ab41efc",
   "metadata": {},
   "outputs": [],
   "source": [
    "ori_model = ModelWrapper(ori_cleaned_filename)\n",
    "tidy_up_model = ModelWrapper(tidy_up_filename)\n",
    "finn_model = ModelWrapper(finn_filename)"
   ]
  },
  {
   "cell_type": "markdown",
   "id": "632970f9-24cf-4922-8a40-4d259d2e1a62",
   "metadata": {},
   "source": [
    "## Execute with Dummy IN"
   ]
  },
  {
   "cell_type": "code",
   "execution_count": 6,
   "id": "668b0fbd-0902-4bd5-9d0a-fab892d2ac99",
   "metadata": {},
   "outputs": [
    {
     "name": "stdout",
     "output_type": "stream",
     "text": [
      "dummy_in shape: (1, 3, 224, 224)\n",
      "dummy_in transposed shape: (1, 224, 224, 3)\n"
     ]
    }
   ],
   "source": [
    "dummy_in = np.random.randint(low = 0, high = 255+1, size = (1, 3, 224, 224)) \n",
    "dummy_in = dummy_in.astype(np.float32)\n",
    "\n",
    "# OOC needs (1, 224, 224, 3)\n",
    "ooc_dummy_in = np.transpose(dummy_in, (0, 2, 3, 1))\n",
    "\n",
    "# Print shapes\n",
    "print(f'dummy_in shape: {dummy_in.shape}')\n",
    "print(f'dummy_in transposed shape: {ooc_dummy_in.shape}')"
   ]
  },
  {
   "cell_type": "markdown",
   "id": "c71c1e91-5ada-4776-9a7b-07b37c4922d2",
   "metadata": {},
   "source": [
    "### Original Model"
   ]
  },
  {
   "cell_type": "code",
   "execution_count": 7,
   "id": "b3223543-34a5-46a4-8203-b0bdbcffdb09",
   "metadata": {},
   "outputs": [
    {
     "data": {
      "text/plain": [
       "array([[-1., -1.]], dtype=float32)"
      ]
     },
     "execution_count": 7,
     "metadata": {},
     "output_type": "execute_result"
    }
   ],
   "source": [
    "input_dict = {\"global_in\": (dummy_in / 255.) }\n",
    "output_dict = oxe.execute_onnx(ori_model, input_dict)\n",
    "produced_ori_qonnx = output_dict[list(output_dict.keys())[0]]\n",
    "produced_ori_qonnx"
   ]
  },
  {
   "cell_type": "markdown",
   "id": "ce1a1902-2506-45e4-84e1-76ae6e1d5897",
   "metadata": {},
   "source": [
    "### Tidy Up"
   ]
  },
  {
   "cell_type": "code",
   "execution_count": 8,
   "id": "91114a33-3f4d-4ddf-ae18-5c09aaf5f737",
   "metadata": {},
   "outputs": [
    {
     "name": "stderr",
     "output_type": "stream",
     "text": [
      "/home/gmoreno/uav/finn/deps/qonnx/src/qonnx/util/basic.py:296: UserWarning: The values of tensor MultiThreshold_0_out0 can't be represented with the set datatype annotation (INT8), they will be rounded to match the datatype annotation.\n",
      "  warnings.warn(\n"
     ]
    },
    {
     "data": {
      "text/plain": [
       "array([[-1., -1.]], dtype=float32)"
      ]
     },
     "execution_count": 8,
     "metadata": {},
     "output_type": "execute_result"
    }
   ],
   "source": [
    "input_dict = {\"global_in\": dummy_in}\n",
    "output_dict = oxe.execute_onnx(tidy_up_model, input_dict)\n",
    "produced_tidy_up_qonnx = output_dict[list(output_dict.keys())[0]]\n",
    "produced_tidy_up_qonnx"
   ]
  },
  {
   "cell_type": "code",
   "execution_count": 9,
   "id": "b7a73fca-d401-41d8-841a-22fca9c9874f",
   "metadata": {},
   "outputs": [],
   "source": [
    "# print(output_dict['global_out'][0])\n",
    "# print(output_dict[list(output_dict.keys())[0]][0])"
   ]
  },
  {
   "cell_type": "markdown",
   "id": "830050b1-9e81-48ab-bf48-90388a8e1957",
   "metadata": {},
   "source": [
    "### FINN Model: streamline"
   ]
  },
  {
   "cell_type": "code",
   "execution_count": 10,
   "id": "e0f818a9-cc57-418c-bfcc-c3163d64db30",
   "metadata": {},
   "outputs": [],
   "source": [
    "# input_dict = {\"global_in\": dummy_in} #ooc_dummy_in}\n",
    "# output_dict = oxe.execute_onnx(finn_model, input_dict)\n",
    "# produced_tidy_up_qonnx = output_dict[list(output_dict.keys())[0]]\n",
    "# produced_tidy_up_qonnx"
   ]
  },
  {
   "cell_type": "markdown",
   "id": "78a124c5-15a8-421b-a3de-b2a23d26a8a0",
   "metadata": {},
   "source": [
    "# Eval with DFire MINI"
   ]
  },
  {
   "cell_type": "code",
   "execution_count": 11,
   "id": "83ba0c89-d612-4ea7-8235-438fcd3d0acf",
   "metadata": {},
   "outputs": [],
   "source": [
    "DS_FOLDER = '../../datasets/dfire_mini/'\n",
    "DS_FOLDER += 'test/'\n",
    "# DS_FOLDER += 'train/'\n",
    "DS_IMGS = DS_FOLDER + 'images/'\n",
    "DS_LABELS = DS_FOLDER + 'labels/'"
   ]
  },
  {
   "cell_type": "code",
   "execution_count": 12,
   "id": "43621eb6-05f7-4853-bde6-d0de525b3b9d",
   "metadata": {},
   "outputs": [],
   "source": [
    "IMGS_LIST = sorted([DS_IMGS + img_file for img_file in os.listdir(DS_IMGS)])"
   ]
  },
  {
   "cell_type": "code",
   "execution_count": 13,
   "id": "e55ba642-5e1e-49a7-8c8b-595ed8476b8a",
   "metadata": {},
   "outputs": [
    {
     "data": {
      "text/plain": [
       "30"
      ]
     },
     "execution_count": 13,
     "metadata": {},
     "output_type": "execute_result"
    }
   ],
   "source": [
    "len(IMGS_LIST)"
   ]
  },
  {
   "cell_type": "markdown",
   "id": "ffb4b9e2-4aef-4f91-b5a2-b11fb11493d1",
   "metadata": {},
   "source": [
    "### QONNX model exported in Brevitas after training"
   ]
  },
  {
   "cell_type": "code",
   "execution_count": 14,
   "id": "6c477cbf-3322-482d-87e9-9aa1eb69b89f",
   "metadata": {},
   "outputs": [],
   "source": [
    "# import importlib\n",
    "# importlib.reload(metrics)"
   ]
  },
  {
   "cell_type": "code",
   "execution_count": 15,
   "id": "2a55daaf-3188-4ab5-8458-1e15f931e786",
   "metadata": {},
   "outputs": [
    {
     "name": "stdout",
     "output_type": "stream",
     "text": [
      "Number of test samples: 30\n",
      "\n",
      "Image file: ../../datasets/dfire_mini/test/images/AoF06872.jpg: \n",
      "\tlabel [0. 0.]\n",
      "\tpred [0. 0.]\n",
      "Image file: ../../datasets/dfire_mini/test/images/AoF07484.jpg: \n",
      "\tlabel [0. 0.]\n",
      "\tpred [1. 0.]\n",
      "Image file: ../../datasets/dfire_mini/test/images/AoF07856.jpg: \n",
      "\tlabel [0. 1.]\n",
      "\tpred [0. 1.]\n",
      "Image file: ../../datasets/dfire_mini/test/images/AoF07878.jpg: \n",
      "\tlabel [0. 1.]\n",
      "\tpred [0. 1.]\n",
      "Image file: ../../datasets/dfire_mini/test/images/AoF08019.jpg: \n",
      "\tlabel [1. 0.]\n",
      "\tpred [1. 0.]\n",
      "Image file: ../../datasets/dfire_mini/test/images/AoF08122.jpg: \n",
      "\tlabel [1. 0.]\n",
      "\tpred [0. 0.]\n",
      "Image file: ../../datasets/dfire_mini/test/images/AoF08143.jpg: \n",
      "\tlabel [1. 0.]\n",
      "\tpred [1. 0.]\n",
      "Image file: ../../datasets/dfire_mini/test/images/AoF08281.jpg: \n",
      "\tlabel [1. 0.]\n",
      "\tpred [1. 0.]\n",
      "Image file: ../../datasets/dfire_mini/test/images/AoF08304.jpg: \n",
      "\tlabel [1. 0.]\n",
      "\tpred [1. 0.]\n",
      "Image file: ../../datasets/dfire_mini/test/images/PublicDataset01109.jpg: \n",
      "\tlabel [1. 0.]\n",
      "\tpred [1. 0.]\n",
      "Image file: ../../datasets/dfire_mini/test/images/PublicDataset01212.jpg: \n",
      "\tlabel [1. 0.]\n",
      "\tpred [1. 0.]\n",
      "Image file: ../../datasets/dfire_mini/test/images/PublicDataset01234.jpg: \n",
      "\tlabel [1. 0.]\n",
      "\tpred [0. 0.]\n",
      "Image file: ../../datasets/dfire_mini/test/images/WEB09620.jpg: \n",
      "\tlabel [0. 0.]\n",
      "\tpred [0. 0.]\n",
      "Image file: ../../datasets/dfire_mini/test/images/WEB10100.jpg: \n",
      "\tlabel [0. 0.]\n",
      "\tpred [0. 0.]\n",
      "Image file: ../../datasets/dfire_mini/test/images/WEB10257.jpg: \n",
      "\tlabel [0. 0.]\n",
      "\tpred [0. 0.]\n",
      "Image file: ../../datasets/dfire_mini/test/images/WEB10275.jpg: \n",
      "\tlabel [0. 0.]\n",
      "\tpred [0. 0.]\n",
      "Image file: ../../datasets/dfire_mini/test/images/WEB10428.jpg: \n",
      "\tlabel [1. 1.]\n",
      "\tpred [1. 1.]\n",
      "Image file: ../../datasets/dfire_mini/test/images/WEB10511.jpg: \n",
      "\tlabel [1. 1.]\n",
      "\tpred [1. 1.]\n",
      "Image file: ../../datasets/dfire_mini/test/images/WEB10563.jpg: \n",
      "\tlabel [1. 1.]\n",
      "\tpred [1. 1.]\n",
      "Image file: ../../datasets/dfire_mini/test/images/WEB10655.jpg: \n",
      "\tlabel [1. 1.]\n",
      "\tpred [1. 1.]\n",
      "Image file: ../../datasets/dfire_mini/test/images/WEB10686.jpg: \n",
      "\tlabel [1. 1.]\n",
      "\tpred [1. 1.]\n",
      "Image file: ../../datasets/dfire_mini/test/images/WEB10747.jpg: \n",
      "\tlabel [1. 1.]\n",
      "\tpred [1. 1.]\n",
      "Image file: ../../datasets/dfire_mini/test/images/WEB10758.jpg: \n",
      "\tlabel [1. 1.]\n",
      "\tpred [1. 1.]\n",
      "Image file: ../../datasets/dfire_mini/test/images/WEB10922.jpg: \n",
      "\tlabel [1. 1.]\n",
      "\tpred [1. 1.]\n",
      "Image file: ../../datasets/dfire_mini/test/images/WEB11022.jpg: \n",
      "\tlabel [1. 0.]\n",
      "\tpred [1. 0.]\n",
      "Image file: ../../datasets/dfire_mini/test/images/WEB11229.jpg: \n",
      "\tlabel [1. 0.]\n",
      "\tpred [1. 0.]\n",
      "Image file: ../../datasets/dfire_mini/test/images/WEB11272.jpg: \n",
      "\tlabel [1. 0.]\n",
      "\tpred [1. 0.]\n",
      "Image file: ../../datasets/dfire_mini/test/images/WEB11494.jpg: \n",
      "\tlabel [1. 0.]\n",
      "\tpred [1. 0.]\n",
      "Image file: ../../datasets/dfire_mini/test/images/WEB11514.jpg: \n",
      "\tlabel [1. 1.]\n",
      "\tpred [1. 1.]\n",
      "Image file: ../../datasets/dfire_mini/test/images/WEB11588.jpg: \n",
      "\tlabel [1. 0.]\n",
      "\tpred [1. 0.]\n",
      "Smoke -> TP: 20.0, FP: 1.0, TN: 7.0, FN: 2.0\n",
      "Fire  -> TP: 11.0, FP: 0.0, TN: 19.0, FN: 0.0\n"
     ]
    }
   ],
   "source": [
    "ori_metrics = metrics.eval_quant_onnx(\n",
    "    imgs_list = IMGS_LIST,\n",
    "    labels_dir = DS_LABELS,\n",
    "    model_wrapped = ori_model,\n",
    "    bipolar=True,\n",
    "    divide_255=True) # Ori model does not have the preprocess included"
   ]
  },
  {
   "cell_type": "code",
   "execution_count": 16,
   "id": "5332323a-34ed-43e2-b10d-182ec33d9607",
   "metadata": {},
   "outputs": [
    {
     "data": {
      "text/html": [
       "<div>\n",
       "<style scoped>\n",
       "    .dataframe tbody tr th:only-of-type {\n",
       "        vertical-align: middle;\n",
       "    }\n",
       "\n",
       "    .dataframe tbody tr th {\n",
       "        vertical-align: top;\n",
       "    }\n",
       "\n",
       "    .dataframe thead th {\n",
       "        text-align: right;\n",
       "    }\n",
       "</style>\n",
       "<table border=\"1\" class=\"dataframe\">\n",
       "  <thead>\n",
       "    <tr style=\"text-align: right;\">\n",
       "      <th></th>\n",
       "      <th>Smoke</th>\n",
       "      <th>Fire</th>\n",
       "      <th>Mean</th>\n",
       "    </tr>\n",
       "  </thead>\n",
       "  <tbody>\n",
       "    <tr>\n",
       "      <th>Accuracy</th>\n",
       "      <td>0.9000</td>\n",
       "      <td>1.0</td>\n",
       "      <td>0.9500</td>\n",
       "    </tr>\n",
       "    <tr>\n",
       "      <th>Precision</th>\n",
       "      <td>0.9524</td>\n",
       "      <td>1.0</td>\n",
       "      <td>0.9762</td>\n",
       "    </tr>\n",
       "    <tr>\n",
       "      <th>Recall</th>\n",
       "      <td>0.9091</td>\n",
       "      <td>1.0</td>\n",
       "      <td>0.9546</td>\n",
       "    </tr>\n",
       "    <tr>\n",
       "      <th>F1</th>\n",
       "      <td>0.9302</td>\n",
       "      <td>1.0</td>\n",
       "      <td>0.9651</td>\n",
       "    </tr>\n",
       "  </tbody>\n",
       "</table>\n",
       "</div>"
      ],
      "text/plain": [
       "            Smoke  Fire    Mean\n",
       "Accuracy   0.9000   1.0  0.9500\n",
       "Precision  0.9524   1.0  0.9762\n",
       "Recall     0.9091   1.0  0.9546\n",
       "F1         0.9302   1.0  0.9651"
      ]
     },
     "execution_count": 16,
     "metadata": {},
     "output_type": "execute_result"
    }
   ],
   "source": [
    "ori_df = pd.DataFrame(ori_metrics)\n",
    "ori_df"
   ]
  },
  {
   "cell_type": "markdown",
   "id": "a22d2282-c29c-4cbc-9070-fb1c7117afaf",
   "metadata": {},
   "source": [
    "### Tidy Up Model"
   ]
  },
  {
   "cell_type": "code",
   "execution_count": 17,
   "id": "a1a75543-4558-49fd-8a4d-a5080e1c7ba4",
   "metadata": {},
   "outputs": [
    {
     "name": "stdout",
     "output_type": "stream",
     "text": [
      "Number of test samples: 30\n",
      "\n"
     ]
    },
    {
     "name": "stderr",
     "output_type": "stream",
     "text": [
      "/home/gmoreno/uav/finn/deps/qonnx/src/qonnx/util/basic.py:296: UserWarning: The values of tensor MultiThreshold_0_out0 can't be represented with the set datatype annotation (INT8), they will be rounded to match the datatype annotation.\n",
      "  warnings.warn(\n"
     ]
    },
    {
     "name": "stdout",
     "output_type": "stream",
     "text": [
      "Image file: ../../datasets/dfire_mini/test/images/AoF06872.jpg: \n",
      "\tlabel [0. 0.]\n",
      "\tpred [0. 0.]\n",
      "Image file: ../../datasets/dfire_mini/test/images/AoF07484.jpg: \n",
      "\tlabel [0. 0.]\n",
      "\tpred [1. 0.]\n",
      "Image file: ../../datasets/dfire_mini/test/images/AoF07856.jpg: \n",
      "\tlabel [0. 1.]\n",
      "\tpred [0. 1.]\n",
      "Image file: ../../datasets/dfire_mini/test/images/AoF07878.jpg: \n",
      "\tlabel [0. 1.]\n",
      "\tpred [0. 1.]\n",
      "Image file: ../../datasets/dfire_mini/test/images/AoF08019.jpg: \n",
      "\tlabel [1. 0.]\n",
      "\tpred [1. 0.]\n",
      "Image file: ../../datasets/dfire_mini/test/images/AoF08122.jpg: \n",
      "\tlabel [1. 0.]\n",
      "\tpred [0. 0.]\n",
      "Image file: ../../datasets/dfire_mini/test/images/AoF08143.jpg: \n",
      "\tlabel [1. 0.]\n",
      "\tpred [1. 0.]\n",
      "Image file: ../../datasets/dfire_mini/test/images/AoF08281.jpg: \n",
      "\tlabel [1. 0.]\n",
      "\tpred [1. 0.]\n",
      "Image file: ../../datasets/dfire_mini/test/images/AoF08304.jpg: \n",
      "\tlabel [1. 0.]\n",
      "\tpred [1. 0.]\n",
      "Image file: ../../datasets/dfire_mini/test/images/PublicDataset01109.jpg: \n",
      "\tlabel [1. 0.]\n",
      "\tpred [1. 0.]\n",
      "Image file: ../../datasets/dfire_mini/test/images/PublicDataset01212.jpg: \n",
      "\tlabel [1. 0.]\n",
      "\tpred [1. 0.]\n",
      "Image file: ../../datasets/dfire_mini/test/images/PublicDataset01234.jpg: \n",
      "\tlabel [1. 0.]\n",
      "\tpred [0. 0.]\n",
      "Image file: ../../datasets/dfire_mini/test/images/WEB09620.jpg: \n",
      "\tlabel [0. 0.]\n",
      "\tpred [0. 0.]\n",
      "Image file: ../../datasets/dfire_mini/test/images/WEB10100.jpg: \n",
      "\tlabel [0. 0.]\n",
      "\tpred [0. 0.]\n",
      "Image file: ../../datasets/dfire_mini/test/images/WEB10257.jpg: \n",
      "\tlabel [0. 0.]\n",
      "\tpred [0. 0.]\n",
      "Image file: ../../datasets/dfire_mini/test/images/WEB10275.jpg: \n",
      "\tlabel [0. 0.]\n",
      "\tpred [0. 0.]\n",
      "Image file: ../../datasets/dfire_mini/test/images/WEB10428.jpg: \n",
      "\tlabel [1. 1.]\n",
      "\tpred [1. 1.]\n",
      "Image file: ../../datasets/dfire_mini/test/images/WEB10511.jpg: \n",
      "\tlabel [1. 1.]\n",
      "\tpred [1. 1.]\n",
      "Image file: ../../datasets/dfire_mini/test/images/WEB10563.jpg: \n",
      "\tlabel [1. 1.]\n",
      "\tpred [1. 1.]\n",
      "Image file: ../../datasets/dfire_mini/test/images/WEB10655.jpg: \n",
      "\tlabel [1. 1.]\n",
      "\tpred [1. 1.]\n",
      "Image file: ../../datasets/dfire_mini/test/images/WEB10686.jpg: \n",
      "\tlabel [1. 1.]\n",
      "\tpred [1. 1.]\n",
      "Image file: ../../datasets/dfire_mini/test/images/WEB10747.jpg: \n",
      "\tlabel [1. 1.]\n",
      "\tpred [1. 1.]\n",
      "Image file: ../../datasets/dfire_mini/test/images/WEB10758.jpg: \n",
      "\tlabel [1. 1.]\n",
      "\tpred [1. 1.]\n",
      "Image file: ../../datasets/dfire_mini/test/images/WEB10922.jpg: \n",
      "\tlabel [1. 1.]\n",
      "\tpred [1. 1.]\n",
      "Image file: ../../datasets/dfire_mini/test/images/WEB11022.jpg: \n",
      "\tlabel [1. 0.]\n",
      "\tpred [1. 0.]\n",
      "Image file: ../../datasets/dfire_mini/test/images/WEB11229.jpg: \n",
      "\tlabel [1. 0.]\n",
      "\tpred [1. 0.]\n",
      "Image file: ../../datasets/dfire_mini/test/images/WEB11272.jpg: \n",
      "\tlabel [1. 0.]\n",
      "\tpred [1. 0.]\n",
      "Image file: ../../datasets/dfire_mini/test/images/WEB11494.jpg: \n",
      "\tlabel [1. 0.]\n",
      "\tpred [1. 0.]\n",
      "Image file: ../../datasets/dfire_mini/test/images/WEB11514.jpg: \n",
      "\tlabel [1. 1.]\n",
      "\tpred [1. 1.]\n",
      "Image file: ../../datasets/dfire_mini/test/images/WEB11588.jpg: \n",
      "\tlabel [1. 0.]\n",
      "\tpred [1. 0.]\n",
      "Smoke -> TP: 20.0, FP: 1.0, TN: 7.0, FN: 2.0\n",
      "Fire  -> TP: 11.0, FP: 0.0, TN: 19.0, FN: 0.0\n"
     ]
    }
   ],
   "source": [
    "clean_metrics = metrics.eval_quant_onnx(\n",
    "    imgs_list = IMGS_LIST,\n",
    "    labels_dir = DS_LABELS,\n",
    "    model_wrapped = tidy_up_model,\n",
    "    bipolar=True,\n",
    "    divide_255=False) # Tidy Up model has the preprocess included"
   ]
  },
  {
   "cell_type": "code",
   "execution_count": 18,
   "id": "6110b693-88a9-45c3-bf95-26a4009100eb",
   "metadata": {},
   "outputs": [
    {
     "name": "stdout",
     "output_type": "stream",
     "text": [
      "{'Smoke': {'Accuracy': 0.9, 'Precision': 0.9524, 'Recall': 0.9091, 'F1': 0.9302}, 'Fire': {'Accuracy': 1.0, 'Precision': 1.0, 'Recall': 1.0, 'F1': 1.0}, 'Mean': {'Accuracy': 0.95, 'Precision': 0.9762, 'Recall': 0.9546, 'F1': 0.9651}}\n"
     ]
    }
   ],
   "source": [
    "print(clean_metrics)"
   ]
  },
  {
   "cell_type": "code",
   "execution_count": 19,
   "id": "37c19cce-9aa2-4c66-b289-6b71c606a94c",
   "metadata": {},
   "outputs": [
    {
     "data": {
      "text/html": [
       "<div>\n",
       "<style scoped>\n",
       "    .dataframe tbody tr th:only-of-type {\n",
       "        vertical-align: middle;\n",
       "    }\n",
       "\n",
       "    .dataframe tbody tr th {\n",
       "        vertical-align: top;\n",
       "    }\n",
       "\n",
       "    .dataframe thead th {\n",
       "        text-align: right;\n",
       "    }\n",
       "</style>\n",
       "<table border=\"1\" class=\"dataframe\">\n",
       "  <thead>\n",
       "    <tr style=\"text-align: right;\">\n",
       "      <th></th>\n",
       "      <th>Smoke</th>\n",
       "      <th>Fire</th>\n",
       "      <th>Mean</th>\n",
       "    </tr>\n",
       "  </thead>\n",
       "  <tbody>\n",
       "    <tr>\n",
       "      <th>Accuracy</th>\n",
       "      <td>0.9000</td>\n",
       "      <td>1.0</td>\n",
       "      <td>0.9500</td>\n",
       "    </tr>\n",
       "    <tr>\n",
       "      <th>Precision</th>\n",
       "      <td>0.9524</td>\n",
       "      <td>1.0</td>\n",
       "      <td>0.9762</td>\n",
       "    </tr>\n",
       "    <tr>\n",
       "      <th>Recall</th>\n",
       "      <td>0.9091</td>\n",
       "      <td>1.0</td>\n",
       "      <td>0.9546</td>\n",
       "    </tr>\n",
       "    <tr>\n",
       "      <th>F1</th>\n",
       "      <td>0.9302</td>\n",
       "      <td>1.0</td>\n",
       "      <td>0.9651</td>\n",
       "    </tr>\n",
       "  </tbody>\n",
       "</table>\n",
       "</div>"
      ],
      "text/plain": [
       "            Smoke  Fire    Mean\n",
       "Accuracy   0.9000   1.0  0.9500\n",
       "Precision  0.9524   1.0  0.9762\n",
       "Recall     0.9091   1.0  0.9546\n",
       "F1         0.9302   1.0  0.9651"
      ]
     },
     "execution_count": 19,
     "metadata": {},
     "output_type": "execute_result"
    }
   ],
   "source": [
    "clean_df = pd.DataFrame(clean_metrics)\n",
    "clean_df"
   ]
  },
  {
   "cell_type": "code",
   "execution_count": 22,
   "id": "f706eba8-3978-4900-914c-4c1408c56b83",
   "metadata": {},
   "outputs": [
    {
     "data": {
      "text/html": [
       "<div>\n",
       "<style scoped>\n",
       "    .dataframe tbody tr th:only-of-type {\n",
       "        vertical-align: middle;\n",
       "    }\n",
       "\n",
       "    .dataframe tbody tr th {\n",
       "        vertical-align: top;\n",
       "    }\n",
       "\n",
       "    .dataframe thead th {\n",
       "        text-align: right;\n",
       "    }\n",
       "</style>\n",
       "<table border=\"1\" class=\"dataframe\">\n",
       "  <thead>\n",
       "    <tr style=\"text-align: right;\">\n",
       "      <th></th>\n",
       "      <th>Smoke</th>\n",
       "      <th>Fire</th>\n",
       "      <th>Mean</th>\n",
       "    </tr>\n",
       "  </thead>\n",
       "  <tbody>\n",
       "    <tr>\n",
       "      <th>Accuracy</th>\n",
       "      <td>0.9000</td>\n",
       "      <td>1.0</td>\n",
       "      <td>0.9500</td>\n",
       "    </tr>\n",
       "    <tr>\n",
       "      <th>Precision</th>\n",
       "      <td>0.9524</td>\n",
       "      <td>1.0</td>\n",
       "      <td>0.9762</td>\n",
       "    </tr>\n",
       "    <tr>\n",
       "      <th>Recall</th>\n",
       "      <td>0.9091</td>\n",
       "      <td>1.0</td>\n",
       "      <td>0.9546</td>\n",
       "    </tr>\n",
       "    <tr>\n",
       "      <th>F1</th>\n",
       "      <td>0.9302</td>\n",
       "      <td>1.0</td>\n",
       "      <td>0.9651</td>\n",
       "    </tr>\n",
       "  </tbody>\n",
       "</table>\n",
       "</div>"
      ],
      "text/plain": [
       "            Smoke  Fire    Mean\n",
       "Accuracy   0.9000   1.0  0.9500\n",
       "Precision  0.9524   1.0  0.9762\n",
       "Recall     0.9091   1.0  0.9546\n",
       "F1         0.9302   1.0  0.9651"
      ]
     },
     "execution_count": 22,
     "metadata": {},
     "output_type": "execute_result"
    }
   ],
   "source": [
    "ori_df"
   ]
  },
  {
   "cell_type": "markdown",
   "id": "db815b45-9f2c-4a8d-bddf-bfc243116ce8",
   "metadata": {},
   "source": [
    "### FINN Model"
   ]
  },
  {
   "cell_type": "code",
   "execution_count": 20,
   "id": "d857fb15-0367-4b08-b2e2-70ddf3dadd0d",
   "metadata": {},
   "outputs": [],
   "source": [
    "# finn_metrics = metrics.eval_quant_onnx(\n",
    "#     imgs_list = IMGS_LIST,\n",
    "#     labels_dir = DS_LABELS,\n",
    "#     model_wrapped = ooc_model,\n",
    "#     bipolar=True,\n",
    "#     divide_255=False)"
   ]
  },
  {
   "cell_type": "code",
   "execution_count": 21,
   "id": "9f19b691-bb7d-4ab0-9ed7-b04041345747",
   "metadata": {},
   "outputs": [],
   "source": [
    "# finn_df = pd.DataFrame(finn_metrics)\n",
    "# finn_df"
   ]
  },
  {
   "cell_type": "code",
   "execution_count": null,
   "id": "0eabcbf1-7738-4ad5-a4f1-f589f3580b4d",
   "metadata": {},
   "outputs": [],
   "source": []
  }
 ],
 "metadata": {
  "kernelspec": {
   "display_name": "Python 3 (ipykernel)",
   "language": "python",
   "name": "python3"
  },
  "language_info": {
   "codemirror_mode": {
    "name": "ipython",
    "version": 3
   },
   "file_extension": ".py",
   "mimetype": "text/x-python",
   "name": "python",
   "nbconvert_exporter": "python",
   "pygments_lexer": "ipython3",
   "version": "3.10.12"
  }
 },
 "nbformat": 4,
 "nbformat_minor": 5
}
