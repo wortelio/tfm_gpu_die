{
 "cells": [
  {
   "cell_type": "code",
   "execution_count": 1,
   "id": "663fc823-cba4-4c64-b961-f01e20984a8b",
   "metadata": {},
   "outputs": [],
   "source": [
    "import os\n",
    "import config\n",
    "#from model_CNV import CNV\n",
    "from model_CNV_imagenet import CNV\n",
    "\n",
    "import numpy as np\n",
    "import torch\n",
    "from torchinfo import summary\n",
    "\n",
    "from brevitas.nn import QuantIdentity\n",
    "from brevitas.export import export_qonnx"
   ]
  },
  {
   "cell_type": "markdown",
   "id": "9a01e4ef-8c3c-4ac1-b5a9-7207f732df90",
   "metadata": {},
   "source": [
    "# FINN Folders setup"
   ]
  },
  {
   "cell_type": "code",
   "execution_count": 2,
   "id": "9c48cecf-6faf-4092-b12b-50f26c5ee209",
   "metadata": {},
   "outputs": [],
   "source": [
    "finn_root_dir = os.environ[\"FINN_ROOT\"]\n",
    "nb_dir = finn_root_dir + \"/notebooks/uav_finn/classification/qonnx_to_finn_driver/\"\n",
    "# Leave all build files inside experiments folder\n",
    "os.environ[\"FINN_BUILD_DIR\"] = nb_dir + config.BUILD_FOLDER\n",
    "os.environ[\"FINN_HOST_BUILD_DIR\"] = nb_dir + config.TMP_FOLDER\n",
    "\n",
    "models_folder = config.MODELS_FOLDER"
   ]
  },
  {
   "cell_type": "markdown",
   "id": "e0b0ec1d-aec7-4d51-bee6-e3c399cc3e61",
   "metadata": {},
   "source": [
    "# Model setup"
   ]
  },
  {
   "cell_type": "code",
   "execution_count": 3,
   "id": "034a5aed-5afe-4947-94f0-0c7842ed3738",
   "metadata": {},
   "outputs": [],
   "source": [
    "base_model = CNV().to('cpu')\n",
    "base_model.eval();"
   ]
  },
  {
   "cell_type": "code",
   "execution_count": 4,
   "id": "f7b60e81-1a15-4e46-8f48-558715d75e1d",
   "metadata": {},
   "outputs": [
    {
     "name": "stderr",
     "output_type": "stream",
     "text": [
      "/usr/local/lib/python3.10/dist-packages/torch/_tensor.py:1255: UserWarning: Named tensors and all their associated APIs are an experimental feature and subject to change. Please do not use them for anything important until they are released as stable. (Triggered internally at ../c10/core/TensorImpl.h:1758.)\n",
      "  return super(Tensor, self).rename(names)\n"
     ]
    },
    {
     "data": {
      "text/plain": [
       "=============================================================================================================================\n",
       "Layer (type:depth-idx)                                                      Output Shape              Param #\n",
       "=============================================================================================================================\n",
       "CNV                                                                         [1, 2]                    --\n",
       "├─ModuleList: 1-77                                                          --                        (recursive)\n",
       "│    └─QuantIdentity: 2-1                                                   [1, 3, 224, 224]          --\n",
       "│    │    └─ActQuantProxyFromInjector: 3-1                                  [1, 3, 224, 224]          --\n",
       "│    │    └─ActQuantProxyFromInjector: 3-2                                  [1, 3, 224, 224]          1\n",
       "├─ModuleList: 1-78                                                          --                        (recursive)\n",
       "│    └─QuantLinear: 2-123                                                   --                        (recursive)\n",
       "│    │    └─WeightQuantProxyFromInjector: 3-147                             --                        (recursive)\n",
       "├─ModuleList: 1-77                                                          --                        (recursive)\n",
       "│    └─QuantIdentity: 2-5                                                   --                        (recursive)\n",
       "│    │    └─ActQuantProxyFromInjector: 3-6                                  --                        (recursive)\n",
       "├─ModuleList: 1-78                                                          --                        (recursive)\n",
       "│    └─QuantReLU: 2-124                                                     --                        (recursive)\n",
       "│    │    └─ActQuantProxyFromInjector: 3-148                                --                        (recursive)\n",
       "├─ModuleList: 1-77                                                          --                        (recursive)\n",
       "│    └─QuantIdentity: 2-5                                                   --                        (recursive)\n",
       "│    │    └─ActQuantProxyFromInjector: 3-6                                  --                        (recursive)\n",
       "│    └─QuantConv2d: 2-6                                                     [1, 32, 224, 224]         --\n",
       "│    │    └─ActQuantProxyFromInjector: 3-7                                  [1, 3, 224, 224]          --\n",
       "│    │    └─WeightQuantProxyFromInjector: 3-8                               [32, 3, 3, 3]             864\n",
       "├─ModuleList: 1-78                                                          --                        (recursive)\n",
       "│    └─QuantLinear: 2-123                                                   --                        (recursive)\n",
       "│    │    └─WeightQuantProxyFromInjector: 3-147                             --                        (recursive)\n",
       "├─ModuleList: 1-77                                                          --                        (recursive)\n",
       "│    └─QuantConv2d: 2-8                                                     --                        (recursive)\n",
       "│    │    └─WeightQuantProxyFromInjector: 3-10                              --                        (recursive)\n",
       "│    │    └─ActQuantProxyFromInjector: 3-11                                 [1, 32, 224, 224]         --\n",
       "│    └─BatchNorm2d: 2-9                                                     [1, 32, 224, 224]         64\n",
       "│    └─QuantReLU: 2-10                                                      [1, 32, 224, 224]         --\n",
       "│    │    └─ActQuantProxyFromInjector: 3-12                                 [1, 32, 224, 224]         --\n",
       "│    │    └─ActQuantProxyFromInjector: 3-13                                 [1, 32, 224, 224]         1\n",
       "├─ModuleList: 1-78                                                          --                        (recursive)\n",
       "│    └─QuantLinear: 2-123                                                   --                        (recursive)\n",
       "│    │    └─WeightQuantProxyFromInjector: 3-147                             --                        (recursive)\n",
       "├─ModuleList: 1-77                                                          --                        (recursive)\n",
       "│    └─QuantReLU: 2-14                                                      --                        (recursive)\n",
       "│    │    └─ActQuantProxyFromInjector: 3-17                                 --                        (recursive)\n",
       "├─ModuleList: 1-78                                                          --                        (recursive)\n",
       "│    └─QuantReLU: 2-124                                                     --                        (recursive)\n",
       "│    │    └─ActQuantProxyFromInjector: 3-148                                --                        (recursive)\n",
       "├─ModuleList: 1-77                                                          --                        (recursive)\n",
       "│    └─QuantReLU: 2-14                                                      --                        (recursive)\n",
       "│    │    └─ActQuantProxyFromInjector: 3-17                                 --                        (recursive)\n",
       "│    └─MaxPool2d: 2-15                                                      [1, 32, 112, 112]         --\n",
       "│    └─QuantConv2d: 2-16                                                    [1, 16, 112, 112]         --\n",
       "│    │    └─ActQuantProxyFromInjector: 3-18                                 [1, 32, 112, 112]         --\n",
       "│    │    └─WeightQuantProxyFromInjector: 3-19                              [16, 32, 3, 3]            4,608\n",
       "├─ModuleList: 1-78                                                          --                        (recursive)\n",
       "│    └─QuantLinear: 2-123                                                   --                        (recursive)\n",
       "│    │    └─WeightQuantProxyFromInjector: 3-147                             --                        (recursive)\n",
       "├─ModuleList: 1-77                                                          --                        (recursive)\n",
       "│    └─QuantConv2d: 2-18                                                    --                        (recursive)\n",
       "│    │    └─WeightQuantProxyFromInjector: 3-21                              --                        (recursive)\n",
       "│    │    └─ActQuantProxyFromInjector: 3-22                                 [1, 16, 112, 112]         --\n",
       "│    └─BatchNorm2d: 2-19                                                    [1, 16, 112, 112]         32\n",
       "│    └─QuantReLU: 2-20                                                      [1, 16, 112, 112]         --\n",
       "│    │    └─ActQuantProxyFromInjector: 3-23                                 [1, 16, 112, 112]         --\n",
       "│    │    └─ActQuantProxyFromInjector: 3-24                                 [1, 16, 112, 112]         1\n",
       "├─ModuleList: 1-78                                                          --                        (recursive)\n",
       "│    └─QuantLinear: 2-123                                                   --                        (recursive)\n",
       "│    │    └─WeightQuantProxyFromInjector: 3-147                             --                        (recursive)\n",
       "├─ModuleList: 1-77                                                          --                        (recursive)\n",
       "│    └─QuantReLU: 2-24                                                      --                        (recursive)\n",
       "│    │    └─ActQuantProxyFromInjector: 3-28                                 --                        (recursive)\n",
       "├─ModuleList: 1-78                                                          --                        (recursive)\n",
       "│    └─QuantReLU: 2-124                                                     --                        (recursive)\n",
       "│    │    └─ActQuantProxyFromInjector: 3-148                                --                        (recursive)\n",
       "├─ModuleList: 1-77                                                          --                        (recursive)\n",
       "│    └─QuantReLU: 2-24                                                      --                        (recursive)\n",
       "│    │    └─ActQuantProxyFromInjector: 3-28                                 --                        (recursive)\n",
       "│    └─MaxPool2d: 2-25                                                      [1, 16, 56, 56]           --\n",
       "│    └─QuantConv2d: 2-26                                                    [1, 16, 56, 56]           --\n",
       "│    │    └─ActQuantProxyFromInjector: 3-29                                 [1, 16, 56, 56]           --\n",
       "│    │    └─WeightQuantProxyFromInjector: 3-30                              [16, 16, 1, 1]            256\n",
       "├─ModuleList: 1-78                                                          --                        (recursive)\n",
       "│    └─QuantLinear: 2-123                                                   --                        (recursive)\n",
       "│    │    └─WeightQuantProxyFromInjector: 3-147                             --                        (recursive)\n",
       "├─ModuleList: 1-77                                                          --                        (recursive)\n",
       "│    └─QuantConv2d: 2-28                                                    --                        (recursive)\n",
       "│    │    └─WeightQuantProxyFromInjector: 3-32                              --                        (recursive)\n",
       "│    │    └─ActQuantProxyFromInjector: 3-33                                 [1, 16, 56, 56]           --\n",
       "│    └─BatchNorm2d: 2-29                                                    [1, 16, 56, 56]           32\n",
       "│    └─QuantReLU: 2-30                                                      [1, 16, 56, 56]           --\n",
       "│    │    └─ActQuantProxyFromInjector: 3-34                                 [1, 16, 56, 56]           --\n",
       "│    │    └─ActQuantProxyFromInjector: 3-35                                 [1, 16, 56, 56]           1\n",
       "├─ModuleList: 1-78                                                          --                        (recursive)\n",
       "│    └─QuantLinear: 2-123                                                   --                        (recursive)\n",
       "│    │    └─WeightQuantProxyFromInjector: 3-147                             --                        (recursive)\n",
       "├─ModuleList: 1-77                                                          --                        (recursive)\n",
       "│    └─QuantReLU: 2-34                                                      --                        (recursive)\n",
       "│    │    └─ActQuantProxyFromInjector: 3-39                                 --                        (recursive)\n",
       "├─ModuleList: 1-78                                                          --                        (recursive)\n",
       "│    └─QuantReLU: 2-124                                                     --                        (recursive)\n",
       "│    │    └─ActQuantProxyFromInjector: 3-148                                --                        (recursive)\n",
       "├─ModuleList: 1-77                                                          --                        (recursive)\n",
       "│    └─QuantReLU: 2-34                                                      --                        (recursive)\n",
       "│    │    └─ActQuantProxyFromInjector: 3-39                                 --                        (recursive)\n",
       "│    └─QuantConv2d: 2-35                                                    [1, 32, 56, 56]           --\n",
       "│    │    └─ActQuantProxyFromInjector: 3-40                                 [1, 16, 56, 56]           --\n",
       "│    │    └─WeightQuantProxyFromInjector: 3-41                              [32, 16, 3, 3]            4,608\n",
       "├─ModuleList: 1-78                                                          --                        (recursive)\n",
       "│    └─QuantLinear: 2-123                                                   --                        (recursive)\n",
       "│    │    └─WeightQuantProxyFromInjector: 3-147                             --                        (recursive)\n",
       "├─ModuleList: 1-77                                                          --                        (recursive)\n",
       "│    └─QuantConv2d: 2-37                                                    --                        (recursive)\n",
       "│    │    └─WeightQuantProxyFromInjector: 3-43                              --                        (recursive)\n",
       "│    │    └─ActQuantProxyFromInjector: 3-44                                 [1, 32, 56, 56]           --\n",
       "│    └─BatchNorm2d: 2-38                                                    [1, 32, 56, 56]           64\n",
       "│    └─QuantReLU: 2-39                                                      [1, 32, 56, 56]           --\n",
       "│    │    └─ActQuantProxyFromInjector: 3-45                                 [1, 32, 56, 56]           --\n",
       "│    │    └─ActQuantProxyFromInjector: 3-46                                 [1, 32, 56, 56]           1\n",
       "├─ModuleList: 1-78                                                          --                        (recursive)\n",
       "│    └─QuantLinear: 2-123                                                   --                        (recursive)\n",
       "│    │    └─WeightQuantProxyFromInjector: 3-147                             --                        (recursive)\n",
       "├─ModuleList: 1-77                                                          --                        (recursive)\n",
       "│    └─QuantReLU: 2-43                                                      --                        (recursive)\n",
       "│    │    └─ActQuantProxyFromInjector: 3-50                                 --                        (recursive)\n",
       "├─ModuleList: 1-78                                                          --                        (recursive)\n",
       "│    └─QuantReLU: 2-124                                                     --                        (recursive)\n",
       "│    │    └─ActQuantProxyFromInjector: 3-148                                --                        (recursive)\n",
       "├─ModuleList: 1-77                                                          --                        (recursive)\n",
       "│    └─QuantReLU: 2-43                                                      --                        (recursive)\n",
       "│    │    └─ActQuantProxyFromInjector: 3-50                                 --                        (recursive)\n",
       "│    └─QuantConv2d: 2-44                                                    [1, 32, 56, 56]           --\n",
       "│    │    └─ActQuantProxyFromInjector: 3-51                                 [1, 32, 56, 56]           --\n",
       "│    │    └─WeightQuantProxyFromInjector: 3-52                              [32, 32, 1, 1]            1,024\n",
       "├─ModuleList: 1-78                                                          --                        (recursive)\n",
       "│    └─QuantLinear: 2-123                                                   --                        (recursive)\n",
       "│    │    └─WeightQuantProxyFromInjector: 3-147                             --                        (recursive)\n",
       "├─ModuleList: 1-77                                                          --                        (recursive)\n",
       "│    └─QuantConv2d: 2-46                                                    --                        (recursive)\n",
       "│    │    └─WeightQuantProxyFromInjector: 3-54                              --                        (recursive)\n",
       "│    │    └─ActQuantProxyFromInjector: 3-55                                 [1, 32, 56, 56]           --\n",
       "│    └─BatchNorm2d: 2-47                                                    [1, 32, 56, 56]           64\n",
       "│    └─QuantReLU: 2-48                                                      [1, 32, 56, 56]           --\n",
       "│    │    └─ActQuantProxyFromInjector: 3-56                                 [1, 32, 56, 56]           --\n",
       "│    │    └─ActQuantProxyFromInjector: 3-57                                 [1, 32, 56, 56]           1\n",
       "├─ModuleList: 1-78                                                          --                        (recursive)\n",
       "│    └─QuantLinear: 2-123                                                   --                        (recursive)\n",
       "│    │    └─WeightQuantProxyFromInjector: 3-147                             --                        (recursive)\n",
       "├─ModuleList: 1-77                                                          --                        (recursive)\n",
       "│    └─QuantReLU: 2-52                                                      --                        (recursive)\n",
       "│    │    └─ActQuantProxyFromInjector: 3-61                                 --                        (recursive)\n",
       "├─ModuleList: 1-78                                                          --                        (recursive)\n",
       "│    └─QuantReLU: 2-124                                                     --                        (recursive)\n",
       "│    │    └─ActQuantProxyFromInjector: 3-148                                --                        (recursive)\n",
       "├─ModuleList: 1-77                                                          --                        (recursive)\n",
       "│    └─QuantReLU: 2-52                                                      --                        (recursive)\n",
       "│    │    └─ActQuantProxyFromInjector: 3-61                                 --                        (recursive)\n",
       "│    └─QuantConv2d: 2-53                                                    [1, 64, 56, 56]           --\n",
       "│    │    └─ActQuantProxyFromInjector: 3-62                                 [1, 32, 56, 56]           --\n",
       "│    │    └─WeightQuantProxyFromInjector: 3-63                              [64, 32, 3, 3]            18,432\n",
       "├─ModuleList: 1-78                                                          --                        (recursive)\n",
       "│    └─QuantLinear: 2-123                                                   --                        (recursive)\n",
       "│    │    └─WeightQuantProxyFromInjector: 3-147                             --                        (recursive)\n",
       "├─ModuleList: 1-77                                                          --                        (recursive)\n",
       "│    └─QuantConv2d: 2-55                                                    --                        (recursive)\n",
       "│    │    └─WeightQuantProxyFromInjector: 3-65                              --                        (recursive)\n",
       "│    │    └─ActQuantProxyFromInjector: 3-66                                 [1, 64, 56, 56]           --\n",
       "│    └─BatchNorm2d: 2-56                                                    [1, 64, 56, 56]           128\n",
       "│    └─QuantReLU: 2-57                                                      [1, 64, 56, 56]           --\n",
       "│    │    └─ActQuantProxyFromInjector: 3-67                                 [1, 64, 56, 56]           --\n",
       "│    │    └─ActQuantProxyFromInjector: 3-68                                 [1, 64, 56, 56]           1\n",
       "├─ModuleList: 1-78                                                          --                        (recursive)\n",
       "│    └─QuantLinear: 2-123                                                   --                        (recursive)\n",
       "│    │    └─WeightQuantProxyFromInjector: 3-147                             --                        (recursive)\n",
       "├─ModuleList: 1-77                                                          --                        (recursive)\n",
       "│    └─QuantReLU: 2-61                                                      --                        (recursive)\n",
       "│    │    └─ActQuantProxyFromInjector: 3-72                                 --                        (recursive)\n",
       "├─ModuleList: 1-78                                                          --                        (recursive)\n",
       "│    └─QuantReLU: 2-124                                                     --                        (recursive)\n",
       "│    │    └─ActQuantProxyFromInjector: 3-148                                --                        (recursive)\n",
       "├─ModuleList: 1-77                                                          --                        (recursive)\n",
       "│    └─QuantReLU: 2-61                                                      --                        (recursive)\n",
       "│    │    └─ActQuantProxyFromInjector: 3-72                                 --                        (recursive)\n",
       "│    └─MaxPool2d: 2-62                                                      [1, 64, 28, 28]           --\n",
       "│    └─QuantConv2d: 2-63                                                    [1, 32, 28, 28]           --\n",
       "│    │    └─ActQuantProxyFromInjector: 3-73                                 [1, 64, 28, 28]           --\n",
       "│    │    └─WeightQuantProxyFromInjector: 3-74                              [32, 64, 1, 1]            2,048\n",
       "├─ModuleList: 1-78                                                          --                        (recursive)\n",
       "│    └─QuantLinear: 2-123                                                   --                        (recursive)\n",
       "│    │    └─WeightQuantProxyFromInjector: 3-147                             --                        (recursive)\n",
       "├─ModuleList: 1-77                                                          --                        (recursive)\n",
       "│    └─QuantConv2d: 2-65                                                    --                        (recursive)\n",
       "│    │    └─WeightQuantProxyFromInjector: 3-76                              --                        (recursive)\n",
       "│    │    └─ActQuantProxyFromInjector: 3-77                                 [1, 32, 28, 28]           --\n",
       "│    └─BatchNorm2d: 2-66                                                    [1, 32, 28, 28]           64\n",
       "│    └─QuantReLU: 2-67                                                      [1, 32, 28, 28]           --\n",
       "│    │    └─ActQuantProxyFromInjector: 3-78                                 [1, 32, 28, 28]           --\n",
       "│    │    └─ActQuantProxyFromInjector: 3-79                                 [1, 32, 28, 28]           1\n",
       "├─ModuleList: 1-78                                                          --                        (recursive)\n",
       "│    └─QuantLinear: 2-123                                                   --                        (recursive)\n",
       "│    │    └─WeightQuantProxyFromInjector: 3-147                             --                        (recursive)\n",
       "├─ModuleList: 1-77                                                          --                        (recursive)\n",
       "│    └─QuantReLU: 2-71                                                      --                        (recursive)\n",
       "│    │    └─ActQuantProxyFromInjector: 3-83                                 --                        (recursive)\n",
       "├─ModuleList: 1-78                                                          --                        (recursive)\n",
       "│    └─QuantReLU: 2-124                                                     --                        (recursive)\n",
       "│    │    └─ActQuantProxyFromInjector: 3-148                                --                        (recursive)\n",
       "├─ModuleList: 1-77                                                          --                        (recursive)\n",
       "│    └─QuantReLU: 2-71                                                      --                        (recursive)\n",
       "│    │    └─ActQuantProxyFromInjector: 3-83                                 --                        (recursive)\n",
       "│    └─QuantConv2d: 2-72                                                    [1, 64, 28, 28]           --\n",
       "│    │    └─ActQuantProxyFromInjector: 3-84                                 [1, 32, 28, 28]           --\n",
       "│    │    └─WeightQuantProxyFromInjector: 3-85                              [64, 32, 3, 3]            18,432\n",
       "├─ModuleList: 1-78                                                          --                        (recursive)\n",
       "│    └─QuantLinear: 2-123                                                   --                        (recursive)\n",
       "│    │    └─WeightQuantProxyFromInjector: 3-147                             --                        (recursive)\n",
       "├─ModuleList: 1-77                                                          --                        (recursive)\n",
       "│    └─QuantConv2d: 2-74                                                    --                        (recursive)\n",
       "│    │    └─WeightQuantProxyFromInjector: 3-87                              --                        (recursive)\n",
       "│    │    └─ActQuantProxyFromInjector: 3-88                                 [1, 64, 28, 28]           --\n",
       "│    └─BatchNorm2d: 2-75                                                    [1, 64, 28, 28]           128\n",
       "│    └─QuantReLU: 2-76                                                      [1, 64, 28, 28]           --\n",
       "│    │    └─ActQuantProxyFromInjector: 3-89                                 [1, 64, 28, 28]           --\n",
       "│    │    └─ActQuantProxyFromInjector: 3-90                                 [1, 64, 28, 28]           1\n",
       "├─ModuleList: 1-78                                                          --                        (recursive)\n",
       "│    └─QuantLinear: 2-123                                                   --                        (recursive)\n",
       "│    │    └─WeightQuantProxyFromInjector: 3-147                             --                        (recursive)\n",
       "├─ModuleList: 1-77                                                          --                        (recursive)\n",
       "│    └─QuantReLU: 2-80                                                      --                        (recursive)\n",
       "│    │    └─ActQuantProxyFromInjector: 3-94                                 --                        (recursive)\n",
       "├─ModuleList: 1-78                                                          --                        (recursive)\n",
       "│    └─QuantReLU: 2-124                                                     --                        (recursive)\n",
       "│    │    └─ActQuantProxyFromInjector: 3-148                                --                        (recursive)\n",
       "├─ModuleList: 1-77                                                          --                        (recursive)\n",
       "│    └─QuantReLU: 2-80                                                      --                        (recursive)\n",
       "│    │    └─ActQuantProxyFromInjector: 3-94                                 --                        (recursive)\n",
       "│    └─QuantConv2d: 2-81                                                    [1, 32, 28, 28]           --\n",
       "│    │    └─ActQuantProxyFromInjector: 3-95                                 [1, 64, 28, 28]           --\n",
       "│    │    └─WeightQuantProxyFromInjector: 3-96                              [32, 64, 1, 1]            2,048\n",
       "├─ModuleList: 1-78                                                          --                        (recursive)\n",
       "│    └─QuantLinear: 2-123                                                   --                        (recursive)\n",
       "│    │    └─WeightQuantProxyFromInjector: 3-147                             --                        (recursive)\n",
       "├─ModuleList: 1-77                                                          --                        (recursive)\n",
       "│    └─QuantConv2d: 2-83                                                    --                        (recursive)\n",
       "│    │    └─WeightQuantProxyFromInjector: 3-98                              --                        (recursive)\n",
       "│    │    └─ActQuantProxyFromInjector: 3-99                                 [1, 32, 28, 28]           --\n",
       "│    └─BatchNorm2d: 2-84                                                    [1, 32, 28, 28]           64\n",
       "│    └─QuantReLU: 2-85                                                      [1, 32, 28, 28]           --\n",
       "│    │    └─ActQuantProxyFromInjector: 3-100                                [1, 32, 28, 28]           --\n",
       "│    │    └─ActQuantProxyFromInjector: 3-101                                [1, 32, 28, 28]           1\n",
       "├─ModuleList: 1-78                                                          --                        (recursive)\n",
       "│    └─QuantLinear: 2-123                                                   --                        (recursive)\n",
       "│    │    └─WeightQuantProxyFromInjector: 3-147                             --                        (recursive)\n",
       "├─ModuleList: 1-77                                                          --                        (recursive)\n",
       "│    └─QuantReLU: 2-89                                                      --                        (recursive)\n",
       "│    │    └─ActQuantProxyFromInjector: 3-105                                --                        (recursive)\n",
       "├─ModuleList: 1-78                                                          --                        (recursive)\n",
       "│    └─QuantReLU: 2-124                                                     --                        (recursive)\n",
       "│    │    └─ActQuantProxyFromInjector: 3-148                                --                        (recursive)\n",
       "├─ModuleList: 1-77                                                          --                        (recursive)\n",
       "│    └─QuantReLU: 2-89                                                      --                        (recursive)\n",
       "│    │    └─ActQuantProxyFromInjector: 3-105                                --                        (recursive)\n",
       "│    └─QuantConv2d: 2-90                                                    [1, 64, 28, 28]           --\n",
       "│    │    └─ActQuantProxyFromInjector: 3-106                                [1, 32, 28, 28]           --\n",
       "│    │    └─WeightQuantProxyFromInjector: 3-107                             [64, 32, 3, 3]            18,432\n",
       "├─ModuleList: 1-78                                                          --                        (recursive)\n",
       "│    └─QuantLinear: 2-123                                                   --                        (recursive)\n",
       "│    │    └─WeightQuantProxyFromInjector: 3-147                             --                        (recursive)\n",
       "├─ModuleList: 1-77                                                          --                        (recursive)\n",
       "│    └─QuantConv2d: 2-92                                                    --                        (recursive)\n",
       "│    │    └─WeightQuantProxyFromInjector: 3-109                             --                        (recursive)\n",
       "│    │    └─ActQuantProxyFromInjector: 3-110                                [1, 64, 28, 28]           --\n",
       "│    └─BatchNorm2d: 2-93                                                    [1, 64, 28, 28]           128\n",
       "│    └─QuantReLU: 2-94                                                      [1, 64, 28, 28]           --\n",
       "│    │    └─ActQuantProxyFromInjector: 3-111                                [1, 64, 28, 28]           --\n",
       "│    │    └─ActQuantProxyFromInjector: 3-112                                [1, 64, 28, 28]           1\n",
       "├─ModuleList: 1-78                                                          --                        (recursive)\n",
       "│    └─QuantLinear: 2-123                                                   --                        (recursive)\n",
       "│    │    └─WeightQuantProxyFromInjector: 3-147                             --                        (recursive)\n",
       "├─ModuleList: 1-77                                                          --                        (recursive)\n",
       "│    └─QuantReLU: 2-98                                                      --                        (recursive)\n",
       "│    │    └─ActQuantProxyFromInjector: 3-116                                --                        (recursive)\n",
       "├─ModuleList: 1-78                                                          --                        (recursive)\n",
       "│    └─QuantReLU: 2-124                                                     --                        (recursive)\n",
       "│    │    └─ActQuantProxyFromInjector: 3-148                                --                        (recursive)\n",
       "├─ModuleList: 1-77                                                          --                        (recursive)\n",
       "│    └─QuantReLU: 2-98                                                      --                        (recursive)\n",
       "│    │    └─ActQuantProxyFromInjector: 3-116                                --                        (recursive)\n",
       "│    └─QuantConv2d: 2-99                                                    [1, 32, 28, 28]           --\n",
       "│    │    └─ActQuantProxyFromInjector: 3-117                                [1, 64, 28, 28]           --\n",
       "│    │    └─WeightQuantProxyFromInjector: 3-118                             [32, 64, 1, 1]            2,048\n",
       "├─ModuleList: 1-78                                                          --                        (recursive)\n",
       "│    └─QuantLinear: 2-123                                                   --                        (recursive)\n",
       "│    │    └─WeightQuantProxyFromInjector: 3-147                             --                        (recursive)\n",
       "├─ModuleList: 1-77                                                          --                        (recursive)\n",
       "│    └─QuantConv2d: 2-101                                                   --                        (recursive)\n",
       "│    │    └─WeightQuantProxyFromInjector: 3-120                             --                        (recursive)\n",
       "│    │    └─ActQuantProxyFromInjector: 3-121                                [1, 32, 28, 28]           --\n",
       "│    └─BatchNorm2d: 2-102                                                   [1, 32, 28, 28]           64\n",
       "│    └─QuantReLU: 2-103                                                     [1, 32, 28, 28]           --\n",
       "│    │    └─ActQuantProxyFromInjector: 3-122                                [1, 32, 28, 28]           --\n",
       "│    │    └─ActQuantProxyFromInjector: 3-123                                [1, 32, 28, 28]           1\n",
       "├─ModuleList: 1-78                                                          --                        (recursive)\n",
       "│    └─QuantLinear: 2-123                                                   --                        (recursive)\n",
       "│    │    └─WeightQuantProxyFromInjector: 3-147                             --                        (recursive)\n",
       "├─ModuleList: 1-77                                                          --                        (recursive)\n",
       "│    └─QuantReLU: 2-107                                                     --                        (recursive)\n",
       "│    │    └─ActQuantProxyFromInjector: 3-127                                --                        (recursive)\n",
       "├─ModuleList: 1-78                                                          --                        (recursive)\n",
       "│    └─QuantReLU: 2-124                                                     --                        (recursive)\n",
       "│    │    └─ActQuantProxyFromInjector: 3-148                                --                        (recursive)\n",
       "├─ModuleList: 1-77                                                          --                        (recursive)\n",
       "│    └─QuantReLU: 2-107                                                     --                        (recursive)\n",
       "│    │    └─ActQuantProxyFromInjector: 3-127                                --                        (recursive)\n",
       "│    └─QuantConv2d: 2-108                                                   [1, 64, 28, 28]           --\n",
       "│    │    └─ActQuantProxyFromInjector: 3-128                                [1, 32, 28, 28]           --\n",
       "│    │    └─WeightQuantProxyFromInjector: 3-129                             [64, 32, 3, 3]            18,432\n",
       "├─ModuleList: 1-78                                                          --                        (recursive)\n",
       "│    └─QuantLinear: 2-123                                                   --                        (recursive)\n",
       "│    │    └─WeightQuantProxyFromInjector: 3-147                             --                        (recursive)\n",
       "├─ModuleList: 1-77                                                          --                        (recursive)\n",
       "│    └─QuantConv2d: 2-110                                                   --                        (recursive)\n",
       "│    │    └─WeightQuantProxyFromInjector: 3-131                             --                        (recursive)\n",
       "│    │    └─ActQuantProxyFromInjector: 3-132                                [1, 64, 28, 28]           --\n",
       "│    └─BatchNorm2d: 2-111                                                   [1, 64, 28, 28]           128\n",
       "│    └─QuantReLU: 2-112                                                     [1, 64, 28, 28]           --\n",
       "│    │    └─ActQuantProxyFromInjector: 3-133                                [1, 64, 28, 28]           --\n",
       "│    │    └─ActQuantProxyFromInjector: 3-134                                [1, 64, 28, 28]           1\n",
       "├─ModuleList: 1-78                                                          --                        (recursive)\n",
       "│    └─QuantLinear: 2-123                                                   --                        (recursive)\n",
       "│    │    └─WeightQuantProxyFromInjector: 3-147                             --                        (recursive)\n",
       "├─ModuleList: 1-77                                                          --                        (recursive)\n",
       "│    └─QuantReLU: 2-116                                                     --                        (recursive)\n",
       "│    │    └─ActQuantProxyFromInjector: 3-138                                --                        (recursive)\n",
       "├─ModuleList: 1-78                                                          --                        (recursive)\n",
       "│    └─QuantReLU: 2-124                                                     --                        (recursive)\n",
       "│    │    └─ActQuantProxyFromInjector: 3-148                                --                        (recursive)\n",
       "├─ModuleList: 1-77                                                          --                        (recursive)\n",
       "│    └─QuantReLU: 2-116                                                     --                        (recursive)\n",
       "│    │    └─ActQuantProxyFromInjector: 3-138                                --                        (recursive)\n",
       "│    └─TruncAvgPool2d: 2-117                                                [1, 64, 1, 1]             --\n",
       "│    │    └─TruncQuantProxyFromInjector: 3-139                              [1, 64, 1, 1]             --\n",
       "├─ModuleList: 1-78                                                          --                        (recursive)\n",
       "│    └─QuantLinear: 2-118                                                   [1, 16]                   --\n",
       "│    │    └─ActQuantProxyFromInjector: 3-140                                [1, 64]                   --\n",
       "│    │    └─WeightQuantProxyFromInjector: 3-141                             [16, 64]                  1,024\n",
       "│    └─QuantLinear: 2-123                                                   --                        (recursive)\n",
       "│    │    └─WeightQuantProxyFromInjector: 3-147                             --                        (recursive)\n",
       "│    └─QuantLinear: 2-120                                                   --                        (recursive)\n",
       "│    │    └─WeightQuantProxyFromInjector: 3-143                             --                        (recursive)\n",
       "│    │    └─ActQuantProxyFromInjector: 3-144                                [1, 16]                   --\n",
       "│    └─BatchNorm1d: 2-121                                                   [1, 16]                   32\n",
       "│    └─QuantReLU: 2-122                                                     [1, 16]                   --\n",
       "│    │    └─ActQuantProxyFromInjector: 3-145                                [1, 16]                   --\n",
       "│    │    └─ActQuantProxyFromInjector: 3-146                                [1, 16]                   1\n",
       "│    └─QuantLinear: 2-123                                                   --                        (recursive)\n",
       "│    │    └─WeightQuantProxyFromInjector: 3-147                             --                        (recursive)\n",
       "│    └─QuantReLU: 2-124                                                     --                        (recursive)\n",
       "│    │    └─ActQuantProxyFromInjector: 3-148                                --                        (recursive)\n",
       "│    └─QuantLinear: 2-125                                                   [1, 2]                    --\n",
       "│    │    └─ActQuantProxyFromInjector: 3-149                                [1, 16]                   --\n",
       "│    │    └─WeightQuantProxyFromInjector: 3-150                             [2, 16]                   32\n",
       "│    │    └─ActQuantProxyFromInjector: 3-151                                [1, 2]                    --\n",
       "│    └─TensorNorm: 2-126                                                    [1, 2]                    2\n",
       "=============================================================================================================================\n",
       "Total params: 93,296\n",
       "Trainable params: 93,296\n",
       "Non-trainable params: 0\n",
       "Total mult-adds (M): 0.00\n",
       "=============================================================================================================================\n",
       "Input size (MB): 0.60\n",
       "Forward/backward pass size (MB): 19.87\n",
       "Params size (MB): 0.00\n",
       "Estimated Total Size (MB): 20.48\n",
       "============================================================================================================================="
      ]
     },
     "execution_count": 4,
     "metadata": {},
     "output_type": "execute_result"
    }
   ],
   "source": [
    "summary(base_model, input_size=(1, config.NUM_CHANNELS, config.IMG_H, config.IMG_W))"
   ]
  },
  {
   "cell_type": "markdown",
   "id": "fb829f5f-5b4a-47c6-9ca3-73caa754b35a",
   "metadata": {},
   "source": [
    "### Convert to Bipolar"
   ]
  },
  {
   "cell_type": "code",
   "execution_count": 5,
   "id": "9adecaec-735a-437b-8182-b3ab32fc5ed2",
   "metadata": {},
   "outputs": [],
   "source": [
    "class CNV_BIPOLAR_OUT(torch.nn.Module):\n",
    "    def __init__(self, base_model):\n",
    "        super(CNV_BIPOLAR_OUT, self).__init__()\n",
    "        self.base_model = base_model\n",
    "        self.qnt_output = QuantIdentity(\n",
    "            quant_type='binary', \n",
    "            scaling_impl_type='const',\n",
    "            bit_width=1, min_val=-1.0, max_val=1.0)\n",
    "\n",
    "    def forward(self, x):\n",
    "        x = self.base_model(x)\n",
    "        x = self.qnt_output(x)\n",
    "        return x"
   ]
  },
  {
   "cell_type": "code",
   "execution_count": 6,
   "id": "bc2d0435-d7ef-4ec4-8c68-d8c16f472332",
   "metadata": {},
   "outputs": [],
   "source": [
    "brevitas_model = CNV_BIPOLAR_OUT(base_model).to('cpu')"
   ]
  },
  {
   "cell_type": "code",
   "execution_count": 7,
   "id": "0b21df2a-cd68-4a40-9b6d-843f7e304932",
   "metadata": {},
   "outputs": [
    {
     "data": {
      "text/plain": [
       "torch.Size([1, 3, 224, 224])"
      ]
     },
     "execution_count": 7,
     "metadata": {},
     "output_type": "execute_result"
    }
   ],
   "source": [
    "test_ip_numpy = np.random.randint(low=0, high=256, size=(1, config.NUM_CHANNELS, config.IMG_H, config.IMG_W))\n",
    "test_ip = torch.tensor((test_ip_numpy / 255.), dtype=torch.float32).to('cuda')\n",
    "test_ip.shape"
   ]
  },
  {
   "cell_type": "code",
   "execution_count": 8,
   "id": "cf2a4448-7041-4fb2-bfca-3c384bb229d5",
   "metadata": {},
   "outputs": [],
   "source": [
    "brevitas_model.to('cuda')\n",
    "test_out = brevitas_model(test_ip)\n",
    "brevitas_model.to('cpu');"
   ]
  },
  {
   "cell_type": "code",
   "execution_count": 9,
   "id": "82e9b42c-952c-40a6-a731-8675a54cbc95",
   "metadata": {},
   "outputs": [
    {
     "name": "stdout",
     "output_type": "stream",
     "text": [
      "torch.Size([1, 2])\n",
      "tensor([[1., 1.]], device='cuda:0', grad_fn=<MulBackward0>)\n"
     ]
    }
   ],
   "source": [
    "print(test_out.shape)\n",
    "print(test_out)"
   ]
  },
  {
   "cell_type": "markdown",
   "id": "05bd679e-11a8-4008-8642-0fb6599793ee",
   "metadata": {},
   "source": [
    "### Model to QONNX"
   ]
  },
  {
   "cell_type": "code",
   "execution_count": 10,
   "id": "56884858-a0bf-4bd7-b9c9-d9ca54f747c3",
   "metadata": {},
   "outputs": [],
   "source": [
    "brevitas_cpu = models_folder + '00_brevitas_cpu.onnx'\n",
    "export_qonnx(brevitas_model, torch.randn((1, config.NUM_CHANNELS, config.IMG_H, config.IMG_W)), brevitas_cpu);"
   ]
  },
  {
   "cell_type": "markdown",
   "id": "44addd53-bf50-4e04-b1d0-109d48297fa0",
   "metadata": {},
   "source": [
    "# FINN IMPORTS"
   ]
  },
  {
   "cell_type": "code",
   "execution_count": 11,
   "id": "d379ebf2-eb47-4035-be7a-308ebe6dd546",
   "metadata": {},
   "outputs": [],
   "source": [
    "from finn.util.visualization import showSrc, showInNetron"
   ]
  },
  {
   "cell_type": "code",
   "execution_count": 12,
   "id": "f20cb421-8368-4d3d-b15a-09ca512a6160",
   "metadata": {},
   "outputs": [
    {
     "name": "stdout",
     "output_type": "stream",
     "text": [
      "Serving 'experiments/031_w4W2a4_build_config__full_build/models/00_brevitas_cpu.onnx' at http://0.0.0.0:8083\n"
     ]
    },
    {
     "data": {
      "text/html": [
       "\n",
       "        <iframe\n",
       "            width=\"100%\"\n",
       "            height=\"400\"\n",
       "            src=\"http://localhost:8083/\"\n",
       "            frameborder=\"0\"\n",
       "            allowfullscreen\n",
       "            \n",
       "        ></iframe>\n",
       "        "
      ],
      "text/plain": [
       "<IPython.lib.display.IFrame at 0x7f129c189030>"
      ]
     },
     "execution_count": 12,
     "metadata": {},
     "output_type": "execute_result"
    }
   ],
   "source": [
    "showInNetron(brevitas_cpu)"
   ]
  },
  {
   "cell_type": "markdown",
   "id": "8cbecf7c-f2bb-4e01-a3ce-21f021028ce9",
   "metadata": {},
   "source": [
    "# FINN Build IMPORTS"
   ]
  },
  {
   "cell_type": "code",
   "execution_count": 13,
   "id": "72e3ef7e-98b6-443a-bd3f-c36e2370e1c2",
   "metadata": {},
   "outputs": [],
   "source": [
    "import finn.builder.build_dataflow as build\n",
    "import finn.builder.build_dataflow_config as build_cfg"
   ]
  },
  {
   "cell_type": "markdown",
   "id": "62467796-f923-4641-aea9-f27720817207",
   "metadata": {},
   "source": [
    "# Custom step: Preprocess"
   ]
  },
  {
   "cell_type": "code",
   "execution_count": 14,
   "id": "7730ede7-ad4f-4c0e-9914-81eec22e5697",
   "metadata": {},
   "outputs": [],
   "source": [
    "from finn.util.pytorch import ToTensor\n",
    "from qonnx.transformation.merge_onnx_models import MergeONNXModels\n",
    "from qonnx.core.modelwrapper import ModelWrapper\n",
    "from qonnx.core.datatype import DataType\n",
    "\n",
    "def custom_step_add_pre_proc(model: ModelWrapper, cfg: build.DataflowBuildConfig):\n",
    "    global_inp_name = model.graph.input[0].name\n",
    "    ishape = model.get_tensor_shape(global_inp_name)\n",
    "    preproc = ToTensor()\n",
    "    export_qonnx(preproc, torch.randn(ishape), \"preproc.onnx\", opset_version=11)\n",
    "    preproc_model = ModelWrapper(\"preproc.onnx\")\n",
    "    # set input finn datatype to UINT8\n",
    "    preproc_model.set_tensor_datatype(preproc_model.graph.input[0].name, DataType[\"UINT8\"])\n",
    "    # merge pre-processing onnx model with cnv model (passed as input argument)\n",
    "    model = model.transform(MergeONNXModels(preproc_model))\n",
    "    \n",
    "    return model"
   ]
  },
  {
   "cell_type": "markdown",
   "id": "d1ac7b37-c94b-46a5-aea1-f976b124ad02",
   "metadata": {},
   "source": [
    "# Custom step: Streamline"
   ]
  },
  {
   "cell_type": "code",
   "execution_count": 15,
   "id": "fa25352c-0be7-483e-ae72-a9789535bad8",
   "metadata": {},
   "outputs": [],
   "source": [
    "from qonnx.transformation.lower_convs_to_matmul import LowerConvsToMatMul\n",
    "from qonnx.transformation.change_datalayout import ChangeDataLayoutQuantAvgPool2d\n",
    "from qonnx.transformation.infer_data_layouts import InferDataLayouts\n",
    "from qonnx.transformation.general import RemoveUnusedTensors\n",
    "\n",
    "from finn.transformation.streamline import Streamline\n",
    "import finn.transformation.streamline.absorb as absorb\n",
    "from finn.transformation.streamline.reorder import MakeMaxPoolNHWC, MoveScalarLinearPastInvariants\n",
    "\n",
    "def custom_step_streamline(model: ModelWrapper, cfg: build.DataflowBuildConfig):\n",
    "    model = model.transform(MoveScalarLinearPastInvariants())\n",
    "    model = model.transform(Streamline())\n",
    "    model = model.transform(LowerConvsToMatMul())\n",
    "    model = model.transform(MakeMaxPoolNHWC())\n",
    "    model = model.transform(ChangeDataLayoutQuantAvgPool2d())\n",
    "    model = model.transform(absorb.AbsorbTransposeIntoMultiThreshold())\n",
    "    model = model.transform(Streamline())\n",
    "    model = model.transform(InferDataLayouts())\n",
    "    model = model.transform(RemoveUnusedTensors())\n",
    "    \n",
    "    return model"
   ]
  },
  {
   "cell_type": "markdown",
   "id": "07ca5813-c5ea-4f6a-8726-60a028c049e2",
   "metadata": {},
   "source": [
    "# Custom step: Convert to HW"
   ]
  },
  {
   "cell_type": "code",
   "execution_count": 16,
   "id": "76ab20f6-3e9a-46f8-b01a-ade675f5f273",
   "metadata": {},
   "outputs": [],
   "source": [
    "import finn.transformation.fpgadataflow.convert_to_hw_layers as to_hw\n",
    "from finn.transformation.fpgadataflow.create_dataflow_partition import (\n",
    "    CreateDataflowPartition,\n",
    ")\n",
    "from finn.transformation.move_reshape import RemoveCNVtoFCFlatten\n",
    "from qonnx.transformation.general import GiveUniqueNodeNames\n",
    "\n",
    "def custom_step_convert_to_hw(model: ModelWrapper, cfg: build.DataflowBuildConfig):\n",
    "    model = model.transform(to_hw.InferQuantizedMatrixVectorActivation())   \n",
    "    # input quantization (if any) to standalone thresholding. \n",
    "        # Wortel: this is the right order, to avoid splitting threholds and matrix in MVAUs\n",
    "    model = model.transform(to_hw.InferThresholdingLayer())\n",
    "    model = model.transform(to_hw.InferPool())\n",
    "    model = model.transform(to_hw.InferStreamingMaxPool())\n",
    "    model = model.transform(to_hw.InferConvInpGen())\n",
    "    # get rid of Reshape(-1, 1) operation between hw nodes \n",
    "    model = model.transform(RemoveCNVtoFCFlatten())\n",
    "    # get rid of Tranpose -> Tranpose identity seq\n",
    "    model = model.transform(absorb.AbsorbConsecutiveTransposes())\n",
    "    # infer tensor data layouts\n",
    "    model = model.transform(InferDataLayouts())\n",
    "    model = model.transform(GiveUniqueNodeNames())\n",
    "    #model = model.transform(Streamline()) -> MAYBE NOT NEEDED ????\n",
    "   \n",
    "    return model"
   ]
  },
  {
   "cell_type": "markdown",
   "id": "270295cd-a9f9-4f32-9a0b-fed3ab4812d9",
   "metadata": {},
   "source": [
    "# Custom step: Specialize Layers -> redefine FMPadding as HLS"
   ]
  },
  {
   "cell_type": "code",
   "execution_count": 17,
   "id": "13763a14-479e-4672-9e87-85d0eb4d62ba",
   "metadata": {},
   "outputs": [],
   "source": [
    "from finn.transformation.fpgadataflow.specialize_layers import SpecializeLayers\n",
    "from qonnx.transformation.infer_shapes import InferShapes\n",
    "from qonnx.transformation.infer_datatypes import InferDataTypes\n",
    "from qonnx.transformation.general import GiveReadableTensorNames\n",
    "from qonnx.custom_op.registry import getCustomOp\n",
    "\n",
    "def custom_step_specialize_layers(model: ModelWrapper, cfg: build.DataflowBuildConfig):\n",
    "    # Change all FMPadding to HLS, as Folding does not support this layer as RTL\n",
    "    FMPadding_node = model.get_nodes_by_op_type(\"FMPadding\")\n",
    "    i = 0\n",
    "    for node in FMPadding_node:\n",
    "        node_inst = getCustomOp(node)\n",
    "        node_inst.set_nodeattr(\"preferred_impl_style\", \"hls\")\n",
    "        print(f'Node {i}: {node}')\n",
    "        i += 1\n",
    "    # Specialize\n",
    "    model = model.transform(SpecializeLayers(cfg._resolve_fpga_part()))\n",
    "    model = model.transform(InferShapes())\n",
    "    model = model.transform(InferDataTypes())   \n",
    "    model = model.transform(GiveUniqueNodeNames())\n",
    "    model = model.transform(GiveReadableTensorNames())\n",
    "\n",
    "    return model"
   ]
  },
  {
   "cell_type": "markdown",
   "id": "148e0f8e-0679-4c51-ae94-52d6922d8461",
   "metadata": {},
   "source": [
    "# FPGA Part"
   ]
  },
  {
   "cell_type": "code",
   "execution_count": null,
   "id": "2e0f8bb0-51c8-48c9-aedf-037a2a0f3688",
   "metadata": {},
   "outputs": [],
   "source": [
    "from finn.util.basic import pynq_part_map\n",
    "import pandas as pd"
   ]
  },
  {
   "cell_type": "code",
   "execution_count": null,
   "id": "0c207e43-1605-4e93-9005-e6183f107552",
   "metadata": {},
   "outputs": [],
   "source": [
    "fpga_df = pd.DataFrame(pynq_part_map.items(), columns=['Board', 'FPGA Part'])\n",
    "fpga_df"
   ]
  },
  {
   "cell_type": "code",
   "execution_count": null,
   "id": "b64e5853-8786-4504-b41a-458f5da34c90",
   "metadata": {},
   "outputs": [],
   "source": [
    "# change this if you have a different PYNQ board, see list above\n",
    "pynq_board = \"Pynq-Z1\"\n",
    "fpga_part = pynq_part_map[pynq_board]"
   ]
  },
  {
   "cell_type": "markdown",
   "id": "d4a391c5-af4f-4426-ac7f-345bf0a1310b",
   "metadata": {},
   "source": [
    "# Build estimate reports"
   ]
  },
  {
   "cell_type": "code",
   "execution_count": 18,
   "id": "3392e878-1927-4360-8d58-75402552e991",
   "metadata": {},
   "outputs": [],
   "source": [
    "import os\n",
    "import shutil"
   ]
  },
  {
   "cell_type": "code",
   "execution_count": 19,
   "id": "66c7d74d-229d-44e8-a0c4-35bb38951a23",
   "metadata": {},
   "outputs": [],
   "source": [
    "# model_file = brevitas_cpu\n",
    "\n",
    "# estimates_output_dir = config.RUN_FOLDER + \"output_estimates_only\"\n",
    "\n",
    "# #Delete previous run results if exist\n",
    "# if os.path.exists(estimates_output_dir):\n",
    "#     shutil.rmtree(estimates_output_dir)\n",
    "#     print(\"Previous run results deleted!\")\n",
    "# else:\n",
    "#     print(\"Folder does not exist and it will be created\")\n",
    "\n",
    "# my_steps = [\n",
    "#     custom_step_add_pre_proc,\n",
    "#     \"step_qonnx_to_finn\",\n",
    "#     \"step_tidy_up\",\n",
    "#     custom_step_streamline,\n",
    "#     custom_step_convert_to_hw,\n",
    "#     \"step_create_dataflow_partition\",\n",
    "#     custom_step_specialize_layers,\n",
    "#     \"step_target_fps_parallelization\",\n",
    "#     \"step_apply_folding_config\",\n",
    "#     \"step_minimize_bit_width\",\n",
    "#     \"step_generate_estimate_reports\",\n",
    "# ]\n",
    "\n",
    "# cfg_estimates = build.DataflowBuildConfig(\n",
    "#     output_dir                    = estimates_output_dir,\n",
    "#     mvau_wwidth_max               = 36,\n",
    "#     target_fps                    = 25,\n",
    "#     synth_clk_period_ns           = 10.0,\n",
    "#     board                         = \"Pynq-Z1\",\n",
    "#     fpga_part                     = \"xc7z020clg400-1\",\n",
    "#     shell_flow_type               = build_cfg.ShellFlowType.VIVADO_ZYNQ,\n",
    "#     default_swg_exception         = True,\n",
    "#     auto_fifo_depths              = True,\n",
    "#     auto_fifo_strategy            = \"largefifo_rtlsim\", #\"characterize\", -> the other option, takes toooo long\n",
    "#     split_large_fifos             = True,\n",
    "\n",
    "#     steps                         = my_steps,\n",
    "#     generate_outputs=[\n",
    "#         build_cfg.DataflowOutputType.ESTIMATE_REPORTS,\n",
    "#     ],\n",
    "# )"
   ]
  },
  {
   "cell_type": "code",
   "execution_count": 20,
   "id": "3cafaf58-66e3-40ca-af79-b62bcaca10cf",
   "metadata": {},
   "outputs": [],
   "source": [
    "# %%time\n",
    "# build.build_dataflow_cfg(model_file, cfg_estimates)"
   ]
  },
  {
   "cell_type": "markdown",
   "id": "e1b22af7-20ef-4ec0-b1d0-69bc2459cbf7",
   "metadata": {},
   "source": [
    "# Build FULL Flow"
   ]
  },
  {
   "cell_type": "code",
   "execution_count": 21,
   "id": "22a981b1-30b2-4d29-962e-3f218d4d2385",
   "metadata": {},
   "outputs": [
    {
     "name": "stdout",
     "output_type": "stream",
     "text": [
      "Folder does not exist and it will be created\n"
     ]
    }
   ],
   "source": [
    "model_file = brevitas_cpu\n",
    "\n",
    "full_build_output_dir = config.RUN_FOLDER + \"output_full_build\"\n",
    "\n",
    "#Delete previous run results if exist\n",
    "if os.path.exists(full_build_output_dir):\n",
    "    shutil.rmtree(full_build_output_dir)\n",
    "    print(\"Previous run results deleted!\")\n",
    "else:\n",
    "    print(\"Folder does not exist and it will be created\")\n",
    "\n",
    "my_steps = [\n",
    "    custom_step_add_pre_proc,\n",
    "    \"step_qonnx_to_finn\",\n",
    "    \"step_tidy_up\",\n",
    "    custom_step_streamline,\n",
    "    custom_step_convert_to_hw,\n",
    "    \"step_create_dataflow_partition\",\n",
    "    custom_step_specialize_layers,\n",
    "    \"step_target_fps_parallelization\",\n",
    "    \"step_apply_folding_config\",\n",
    "    \"step_minimize_bit_width\",\n",
    "    \"step_generate_estimate_reports\",\n",
    "    \"step_hw_codegen\",\n",
    "    \"step_hw_ipgen\",\n",
    "    \"step_set_fifo_depths\",\n",
    "    \"step_create_stitched_ip\",\n",
    "    \"step_measure_rtlsim_performance\",\n",
    "    \"step_out_of_context_synthesis\",\n",
    "    \"step_synthesize_bitfile\",\n",
    "    \"step_make_pynq_driver\",\n",
    "    \"step_deployment_package\",\n",
    "]\n",
    "\n",
    "cfg_full_build = build.DataflowBuildConfig(\n",
    "    output_dir                    = full_build_output_dir,\n",
    "    mvau_wwidth_max               = 36,\n",
    "    target_fps                    = 25,\n",
    "    synth_clk_period_ns           = 10.0,\n",
    "    board                         = \"Pynq-Z1\",\n",
    "    fpga_part                     = \"xc7z020clg400-1\",\n",
    "    shell_flow_type               = build_cfg.ShellFlowType.VIVADO_ZYNQ,\n",
    "    default_swg_exception         = True,\n",
    "    auto_fifo_depths              = True,\n",
    "    auto_fifo_strategy            = \"largefifo_rtlsim\", #\"characterize\", -> the other option, takes toooo long\n",
    "    split_large_fifos             = True,\n",
    "\n",
    "    steps                         = my_steps,\n",
    "    generate_outputs=[\n",
    "        build_cfg.DataflowOutputType.ESTIMATE_REPORTS,\n",
    "        build_cfg.DataflowOutputType.STITCHED_IP,\n",
    "        build_cfg.DataflowOutputType.RTLSIM_PERFORMANCE,\n",
    "        build_cfg.DataflowOutputType.OOC_SYNTH,\n",
    "        build_cfg.DataflowOutputType.BITFILE,\n",
    "        build_cfg.DataflowOutputType.PYNQ_DRIVER,\n",
    "        build_cfg.DataflowOutputType.DEPLOYMENT_PACKAGE,\n",
    "    ],\n",
    ")"
   ]
  },
  {
   "cell_type": "code",
   "execution_count": 22,
   "id": "400add5d-a3a9-4dd6-9c1f-ccd173d2e71d",
   "metadata": {},
   "outputs": [
    {
     "name": "stdout",
     "output_type": "stream",
     "text": [
      "Building dataflow accelerator from experiments/031_w4W2a4_build_config__full_build/models/00_brevitas_cpu.onnx\n",
      "Intermediate outputs will be generated in /home/gmoreno/workspace\n",
      "Final outputs will be generated in experiments/031_w4W2a4_build_config__full_build/output_full_build\n",
      "Build log is at experiments/031_w4W2a4_build_config__full_build/output_full_build/build_dataflow.log\n",
      "Running step: custom_step_add_pre_proc [1/20]\n",
      "Running step: step_qonnx_to_finn [2/20]\n",
      "Running step: step_tidy_up [3/20]\n",
      "Running step: custom_step_streamline [4/20]\n",
      "Running step: custom_step_convert_to_hw [5/20]\n",
      "Running step: step_create_dataflow_partition [6/20]\n",
      "Running step: custom_step_specialize_layers [7/20]\n",
      "Running step: step_target_fps_parallelization [8/20]\n",
      "Running step: step_apply_folding_config [9/20]\n",
      "Running step: step_minimize_bit_width [10/20]\n",
      "Running step: step_generate_estimate_reports [11/20]\n",
      "Running step: step_hw_codegen [12/20]\n",
      "Running step: step_hw_ipgen [13/20]\n",
      "Running step: step_set_fifo_depths [14/20]\n",
      "Running step: step_create_stitched_ip [15/20]\n",
      "Running step: step_measure_rtlsim_performance [16/20]\n",
      "Running step: step_out_of_context_synthesis [17/20]\n"
     ]
    },
    {
     "name": "stderr",
     "output_type": "stream",
     "text": [
      "Traceback (most recent call last):\n",
      "  File \"/home/gmoreno/uav/finn/src/finn/builder/build_dataflow.py\", line 158, in build_dataflow_cfg\n",
      "    model = transform_step(model, cfg)\n",
      "  File \"/home/gmoreno/uav/finn/src/finn/builder/build_dataflow_steps.py\", line 767, in step_out_of_context_synthesis\n",
      "    model = model.transform(\n",
      "  File \"/home/gmoreno/uav/finn/deps/qonnx/src/qonnx/core/modelwrapper.py\", line 140, in transform\n",
      "    (transformed_model, model_was_changed) = transformation.apply(transformed_model)\n",
      "  File \"/home/gmoreno/uav/finn/src/finn/transformation/fpgadataflow/synth_ooc.py\", line 61, in apply\n",
      "    ret = out_of_context_synth(\n",
      "  File \"/home/gmoreno/uav/finn/src/finn/util/vivado.py\", line 66, in out_of_context_synth\n",
      "    with open(res_counts_path, \"r\") as myfile:\n",
      "FileNotFoundError: [Errno 2] No such file or directory: '/home/gmoreno/workspace/synth_out_of_context_wrh8m0uh/results_finn_design_wrapper/res.txt'\n"
     ]
    },
    {
     "name": "stdout",
     "output_type": "stream",
     "text": [
      "> \u001b[0;32m/home/gmoreno/uav/finn/src/finn/util/vivado.py\u001b[0m(66)\u001b[0;36mout_of_context_synth\u001b[0;34m()\u001b[0m\n",
      "\u001b[0;32m     64 \u001b[0;31m    \u001b[0mres_counts_path\u001b[0m \u001b[0;34m=\u001b[0m \u001b[0mvivado_proj_folder\u001b[0m \u001b[0;34m+\u001b[0m \u001b[0;34m\"/res.txt\"\u001b[0m\u001b[0;34m\u001b[0m\u001b[0;34m\u001b[0m\u001b[0m\n",
      "\u001b[0m\u001b[0;32m     65 \u001b[0;31m\u001b[0;34m\u001b[0m\u001b[0m\n",
      "\u001b[0m\u001b[0;32m---> 66 \u001b[0;31m    \u001b[0;32mwith\u001b[0m \u001b[0mopen\u001b[0m\u001b[0;34m(\u001b[0m\u001b[0mres_counts_path\u001b[0m\u001b[0;34m,\u001b[0m \u001b[0;34m\"r\"\u001b[0m\u001b[0;34m)\u001b[0m \u001b[0;32mas\u001b[0m \u001b[0mmyfile\u001b[0m\u001b[0;34m:\u001b[0m\u001b[0;34m\u001b[0m\u001b[0;34m\u001b[0m\u001b[0m\n",
      "\u001b[0m\u001b[0;32m     67 \u001b[0;31m        \u001b[0mres_data\u001b[0m \u001b[0;34m=\u001b[0m \u001b[0mmyfile\u001b[0m\u001b[0;34m.\u001b[0m\u001b[0mread\u001b[0m\u001b[0;34m(\u001b[0m\u001b[0;34m)\u001b[0m\u001b[0;34m.\u001b[0m\u001b[0msplit\u001b[0m\u001b[0;34m(\u001b[0m\u001b[0;34m\"\\n\"\u001b[0m\u001b[0;34m)\u001b[0m\u001b[0;34m\u001b[0m\u001b[0;34m\u001b[0m\u001b[0m\n",
      "\u001b[0m\u001b[0;32m     68 \u001b[0;31m    \u001b[0mret\u001b[0m \u001b[0;34m=\u001b[0m \u001b[0;34m{\u001b[0m\u001b[0;34m}\u001b[0m\u001b[0;34m\u001b[0m\u001b[0;34m\u001b[0m\u001b[0m\n",
      "\u001b[0m\n"
     ]
    },
    {
     "name": "stdin",
     "output_type": "stream",
     "text": [
      "ipdb>  q\n"
     ]
    },
    {
     "name": "stdout",
     "output_type": "stream",
     "text": [
      "Build failed\n",
      "CPU times: user 1min 39s, sys: 28.6 s, total: 2min 8s\n",
      "Wall time: 19h 7min 23s\n"
     ]
    },
    {
     "data": {
      "text/plain": [
       "-1"
      ]
     },
     "execution_count": 22,
     "metadata": {},
     "output_type": "execute_result"
    }
   ],
   "source": [
    "%%time\n",
    "build.build_dataflow_cfg(model_file, cfg_full_build)"
   ]
  },
  {
   "cell_type": "code",
   "execution_count": null,
   "id": "87be292d-b169-4016-bf86-0e33a9859f89",
   "metadata": {},
   "outputs": [],
   "source": []
  }
 ],
 "metadata": {
  "kernelspec": {
   "display_name": "Python 3 (ipykernel)",
   "language": "python",
   "name": "python3"
  },
  "language_info": {
   "codemirror_mode": {
    "name": "ipython",
    "version": 3
   },
   "file_extension": ".py",
   "mimetype": "text/x-python",
   "name": "python",
   "nbconvert_exporter": "python",
   "pygments_lexer": "ipython3",
   "version": "3.10.12"
  }
 },
 "nbformat": 4,
 "nbformat_minor": 5
}
