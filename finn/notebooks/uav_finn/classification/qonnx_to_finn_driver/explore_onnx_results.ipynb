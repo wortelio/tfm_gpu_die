{
 "cells": [
  {
   "cell_type": "code",
   "execution_count": 1,
   "id": "a0fa48d7-1278-4489-ba0e-b9b40ff3270d",
   "metadata": {},
   "outputs": [],
   "source": [
    "from finn.util.visualization import showSrc, showInNetron"
   ]
  },
  {
   "cell_type": "code",
   "execution_count": 2,
   "id": "2e455e97-ed0a-4c68-af32-5948e59f7bcb",
   "metadata": {},
   "outputs": [],
   "source": [
    "folder = './experiments/00_w4a4/'\n",
    "model = folder + '40_finn_synthIP.onnx'"
   ]
  },
  {
   "cell_type": "code",
   "execution_count": null,
   "id": "ae3db3f9-4e84-48f9-9270-1da7b1b9b9f6",
   "metadata": {},
   "outputs": [],
   "source": [
    "showInNetron(model)"
   ]
  },
  {
   "cell_type": "code",
   "execution_count": 4,
   "id": "f1450dee-644e-4356-98e7-5021aa03989a",
   "metadata": {},
   "outputs": [
    {
     "name": "stdout",
     "output_type": "stream",
     "text": [
      "    def transform(self, transformation, make_deepcopy=True, cleanup=True):\n",
      "        \"\"\"Applies given Transformation repeatedly until no more changes can be made\n",
      "        and returns a transformed ModelWrapper instance.\n",
      "\n",
      "        - make_deepcopy : operates on a new (deep)copy of model.\n",
      "        - cleanup : execute cleanup transformations before returning\n",
      "        \"\"\"\n",
      "        transformed_model = self\n",
      "        if make_deepcopy:\n",
      "            transformed_model = copy.deepcopy(self)\n",
      "        if self.fix_float64:\n",
      "            (transformed_model, model_was_changed) = DoubleToSingleFloat().apply(transformed_model)\n",
      "        model_was_changed = True\n",
      "        while model_was_changed:\n",
      "            (transformed_model, model_was_changed) = transformation.apply(transformed_model)\n",
      "        if cleanup:\n",
      "            transformed_model.cleanup()\n",
      "        return transformed_model\n",
      "\n"
     ]
    }
   ],
   "source": [
    "from qonnx.core.modelwrapper import ModelWrapper\n",
    "showSrc(ModelWrapper.transform)"
   ]
  },
  {
   "cell_type": "code",
   "execution_count": 5,
   "id": "dac374b2-c10e-4c23-bd8c-a15992995298",
   "metadata": {},
   "outputs": [
    {
     "name": "stdout",
     "output_type": "stream",
     "text": [
      "class Transformation(ABC):\n",
      "    \"\"\"Transformation class all transformations are based on. Contains only\n",
      "    abstract method apply() every transformation has to fill.\"\"\"\n",
      "\n",
      "    def __init__(self):\n",
      "        super().__init__()\n",
      "\n",
      "    @abstractmethod\n",
      "    def apply(self, model):\n",
      "        pass\n",
      "\n"
     ]
    }
   ],
   "source": [
    "from qonnx.transformation.base import Transformation\n",
    "\n",
    "showSrc(Transformation)"
   ]
  },
  {
   "cell_type": "code",
   "execution_count": 6,
   "id": "54ade15c-271a-40a5-a7a6-51800e319b89",
   "metadata": {},
   "outputs": [
    {
     "data": {
      "text/plain": [
       "['__abstractmethods__',\n",
       " '__class__',\n",
       " '__delattr__',\n",
       " '__dict__',\n",
       " '__dir__',\n",
       " '__doc__',\n",
       " '__eq__',\n",
       " '__format__',\n",
       " '__ge__',\n",
       " '__getattribute__',\n",
       " '__gt__',\n",
       " '__hash__',\n",
       " '__init__',\n",
       " '__init_subclass__',\n",
       " '__le__',\n",
       " '__lt__',\n",
       " '__module__',\n",
       " '__ne__',\n",
       " '__new__',\n",
       " '__reduce__',\n",
       " '__reduce_ex__',\n",
       " '__repr__',\n",
       " '__setattr__',\n",
       " '__sizeof__',\n",
       " '__slots__',\n",
       " '__str__',\n",
       " '__subclasshook__',\n",
       " '__weakref__',\n",
       " '_abc_impl',\n",
       " 'execute_node',\n",
       " 'get_nodeattr',\n",
       " 'get_nodeattr_allowed_values',\n",
       " 'get_nodeattr_def',\n",
       " 'get_nodeattr_types',\n",
       " 'infer_node_datatype',\n",
       " 'make_const_shape_op',\n",
       " 'make_shape_compatible_op',\n",
       " 'set_nodeattr',\n",
       " 'verify_node']"
      ]
     },
     "execution_count": 6,
     "metadata": {},
     "output_type": "execute_result"
    }
   ],
   "source": [
    "from qonnx.custom_op.base import CustomOp\n",
    "dir(CustomOp)"
   ]
  },
  {
   "cell_type": "code",
   "execution_count": null,
   "id": "ce49d2cb-8744-4856-80dc-78974b1e02d9",
   "metadata": {},
   "outputs": [],
   "source": []
  }
 ],
 "metadata": {
  "kernelspec": {
   "display_name": "Python 3 (ipykernel)",
   "language": "python",
   "name": "python3"
  },
  "language_info": {
   "codemirror_mode": {
    "name": "ipython",
    "version": 3
   },
   "file_extension": ".py",
   "mimetype": "text/x-python",
   "name": "python",
   "nbconvert_exporter": "python",
   "pygments_lexer": "ipython3",
   "version": "3.10.12"
  }
 },
 "nbformat": 4,
 "nbformat_minor": 5
}
