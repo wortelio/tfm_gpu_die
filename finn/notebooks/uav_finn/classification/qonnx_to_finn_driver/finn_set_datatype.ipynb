{
 "cells": [
  {
   "cell_type": "code",
   "execution_count": 29,
   "id": "6d499077-33bc-4b08-9fe0-eb4343976026",
   "metadata": {},
   "outputs": [],
   "source": [
    "from qonnx.core.modelwrapper import ModelWrapper\n",
    "from qonnx.core.datatype import DataType\n",
    "from qonnx.custom_op.registry import getCustomOp\n",
    "\n",
    "from finn.util.visualization import showSrc, showInNetron"
   ]
  },
  {
   "cell_type": "code",
   "execution_count": 23,
   "id": "430c12d8-dba4-4283-bd65-bcf69339d757",
   "metadata": {},
   "outputs": [],
   "source": [
    "model = ModelWrapper(\"./custom_step_streamline.onnx\")"
   ]
  },
  {
   "cell_type": "code",
   "execution_count": 30,
   "id": "e807268c-8464-4dc2-8737-8f79aa7000b0",
   "metadata": {},
   "outputs": [
    {
     "name": "stdout",
     "output_type": "stream",
     "text": [
      "Serving './custom_step_streamline.onnx' at http://0.0.0.0:8083\n"
     ]
    },
    {
     "data": {
      "text/html": [
       "\n",
       "        <iframe\n",
       "            width=\"100%\"\n",
       "            height=\"400\"\n",
       "            src=\"http://localhost:8083/\"\n",
       "            frameborder=\"0\"\n",
       "            allowfullscreen\n",
       "            \n",
       "        ></iframe>\n",
       "        "
      ],
      "text/plain": [
       "<IPython.lib.display.IFrame at 0x7f19afae1fc0>"
      ]
     },
     "execution_count": 30,
     "metadata": {},
     "output_type": "execute_result"
    }
   ],
   "source": [
    "showInNetron(\"./custom_step_streamline.onnx\")"
   ]
  },
  {
   "cell_type": "code",
   "execution_count": 24,
   "id": "f3fa4d83-6d89-4e5e-8982-d00c49b1a040",
   "metadata": {},
   "outputs": [],
   "source": [
    "Multithreshold_node = model.get_nodes_by_op_type(\"MultiThreshold\") "
   ]
  },
  {
   "cell_type": "code",
   "execution_count": 31,
   "id": "cc140419-fa3f-48fd-8a35-b07c5a18108d",
   "metadata": {},
   "outputs": [
    {
     "name": "stdout",
     "output_type": "stream",
     "text": [
      "Node with Float32 annotation MultiThreshold_2\n",
      "INT32\n",
      "Node with Float32 annotation MultiThreshold_5\n",
      "INT32\n",
      "Node with Float32 annotation MultiThreshold_8\n",
      "INT32\n",
      "Node with Float32 annotation MultiThreshold_16\n",
      "INT32\n"
     ]
    }
   ],
   "source": [
    "for node in Multithreshold_node:\n",
    "    #print(f'{i} node \\n{node}')\n",
    "    # print(node.input[0])\n",
    "    # print(node.input[1])\n",
    "    if model.get_tensor_datatype(node.input[1]) == \"FLOAT32\":\n",
    "        print(f'Node with Float32 annotation {node.name}')\n",
    "        model.set_tensor_datatype(node.input[1], DataType[\"INT32\"])\n",
    "        print(model.get_tensor_datatype(node.input[1]))"
   ]
  },
  {
   "cell_type": "code",
   "execution_count": 32,
   "id": "892b7cb8-6447-4afe-8878-28f71717e66e",
   "metadata": {},
   "outputs": [],
   "source": [
    "model.save(\"test_datatype.onnx\")"
   ]
  },
  {
   "cell_type": "code",
   "execution_count": 33,
   "id": "52d970e8-d810-4589-ba9e-dbe6e36ef444",
   "metadata": {},
   "outputs": [
    {
     "name": "stdout",
     "output_type": "stream",
     "text": [
      "Stopping http://0.0.0.0:8083\n",
      "Serving './test_datatype.onnx' at http://0.0.0.0:8083\n"
     ]
    },
    {
     "data": {
      "text/html": [
       "\n",
       "        <iframe\n",
       "            width=\"100%\"\n",
       "            height=\"400\"\n",
       "            src=\"http://localhost:8083/\"\n",
       "            frameborder=\"0\"\n",
       "            allowfullscreen\n",
       "            \n",
       "        ></iframe>\n",
       "        "
      ],
      "text/plain": [
       "<IPython.lib.display.IFrame at 0x7f19afb35960>"
      ]
     },
     "execution_count": 33,
     "metadata": {},
     "output_type": "execute_result"
    }
   ],
   "source": [
    "showInNetron(\"./test_datatype.onnx\")"
   ]
  },
  {
   "cell_type": "code",
   "execution_count": null,
   "id": "25e2357b-8b78-433d-8b6f-8796a672c767",
   "metadata": {},
   "outputs": [],
   "source": []
  }
 ],
 "metadata": {
  "kernelspec": {
   "display_name": "Python 3 (ipykernel)",
   "language": "python",
   "name": "python3"
  },
  "language_info": {
   "codemirror_mode": {
    "name": "ipython",
    "version": 3
   },
   "file_extension": ".py",
   "mimetype": "text/x-python",
   "name": "python",
   "nbconvert_exporter": "python",
   "pygments_lexer": "ipython3",
   "version": "3.10.12"
  }
 },
 "nbformat": 4,
 "nbformat_minor": 5
}
