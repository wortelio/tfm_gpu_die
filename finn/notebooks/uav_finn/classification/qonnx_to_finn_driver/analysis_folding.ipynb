{
 "cells": [
  {
   "cell_type": "code",
   "execution_count": 1,
   "id": "663fc823-cba4-4c64-b961-f01e20984a8b",
   "metadata": {},
   "outputs": [],
   "source": [
    "import config\n",
    "from model_CNV import CNV\n",
    "\n",
    "import numpy as np\n",
    "import torch\n",
    "from torchinfo import summary\n",
    "\n",
    "from brevitas.export import export_qonnx"
   ]
  },
  {
   "cell_type": "markdown",
   "id": "9a01e4ef-8c3c-4ac1-b5a9-7207f732df90",
   "metadata": {},
   "source": [
    "# Folders setup"
   ]
  },
  {
   "cell_type": "code",
   "execution_count": 2,
   "id": "9c48cecf-6faf-4092-b12b-50f26c5ee209",
   "metadata": {},
   "outputs": [],
   "source": [
    "models_folder = config.MODELS_FOLDER"
   ]
  },
  {
   "cell_type": "markdown",
   "id": "e0b0ec1d-aec7-4d51-bee6-e3c399cc3e61",
   "metadata": {},
   "source": [
    "# Model setup"
   ]
  },
  {
   "cell_type": "code",
   "execution_count": 3,
   "id": "034a5aed-5afe-4947-94f0-0c7842ed3738",
   "metadata": {},
   "outputs": [],
   "source": [
    "brevitas_model = CNV().to('cpu')\n",
    "brevitas_model.eval();"
   ]
  },
  {
   "cell_type": "code",
   "execution_count": 4,
   "id": "f7b60e81-1a15-4e46-8f48-558715d75e1d",
   "metadata": {},
   "outputs": [
    {
     "name": "stderr",
     "output_type": "stream",
     "text": [
      "/usr/local/lib/python3.10/dist-packages/torch/_tensor.py:1255: UserWarning: Named tensors and all their associated APIs are an experimental feature and subject to change. Please do not use them for anything important until they are released as stable. (Triggered internally at ../c10/core/TensorImpl.h:1758.)\n",
      "  return super(Tensor, self).rename(names)\n"
     ]
    },
    {
     "data": {
      "text/plain": [
       "=============================================================================================================================\n",
       "Layer (type:depth-idx)                                                      Output Shape              Param #\n",
       "=============================================================================================================================\n",
       "CNV                                                                         [1, 2]                    --\n",
       "├─ModuleList: 1-53                                                          --                        (recursive)\n",
       "│    └─QuantIdentity: 2-1                                                   [1, 3, 224, 224]          --\n",
       "│    │    └─ActQuantProxyFromInjector: 3-1                                  [1, 3, 224, 224]          --\n",
       "│    │    └─ActQuantProxyFromInjector: 3-2                                  [1, 3, 224, 224]          --\n",
       "├─ModuleList: 1-54                                                          --                        (recursive)\n",
       "│    └─QuantLinear: 2-95                                                    --                        (recursive)\n",
       "│    │    └─WeightQuantProxyFromInjector: 3-118                             --                        (recursive)\n",
       "├─ModuleList: 1-53                                                          --                        (recursive)\n",
       "│    └─QuantIdentity: 2-5                                                   --                        --\n",
       "│    │    └─ActQuantProxyFromInjector: 3-6                                  --                        --\n",
       "├─ModuleList: 1-54                                                          --                        (recursive)\n",
       "│    └─QuantReLU: 2-91                                                      --                        (recursive)\n",
       "│    │    └─ActQuantProxyFromInjector: 3-113                                --                        (recursive)\n",
       "├─ModuleList: 1-53                                                          --                        (recursive)\n",
       "│    └─QuantIdentity: 2-5                                                   --                        --\n",
       "│    │    └─ActQuantProxyFromInjector: 3-6                                  --                        --\n",
       "│    └─QuantConv2d: 2-6                                                     [1, 32, 224, 224]         --\n",
       "│    │    └─ActQuantProxyFromInjector: 3-7                                  [1, 3, 224, 224]          --\n",
       "│    │    └─WeightQuantProxyFromInjector: 3-8                               [32, 3, 3, 3]             864\n",
       "├─ModuleList: 1-54                                                          --                        (recursive)\n",
       "│    └─QuantLinear: 2-95                                                    --                        (recursive)\n",
       "│    │    └─WeightQuantProxyFromInjector: 3-118                             --                        (recursive)\n",
       "├─ModuleList: 1-53                                                          --                        (recursive)\n",
       "│    └─QuantConv2d: 2-8                                                     --                        (recursive)\n",
       "│    │    └─WeightQuantProxyFromInjector: 3-10                              --                        (recursive)\n",
       "│    │    └─ActQuantProxyFromInjector: 3-11                                 [1, 32, 224, 224]         --\n",
       "│    └─BatchNorm2d: 2-9                                                     [1, 32, 224, 224]         64\n",
       "│    └─QuantReLU: 2-10                                                      [1, 32, 224, 224]         --\n",
       "│    │    └─ActQuantProxyFromInjector: 3-12                                 [1, 32, 224, 224]         --\n",
       "│    │    └─ActQuantProxyFromInjector: 3-13                                 [1, 32, 224, 224]         1\n",
       "├─ModuleList: 1-54                                                          --                        (recursive)\n",
       "│    └─QuantReLU: 2-91                                                      --                        (recursive)\n",
       "│    │    └─ActQuantProxyFromInjector: 3-113                                --                        (recursive)\n",
       "├─ModuleList: 1-53                                                          --                        (recursive)\n",
       "│    └─QuantReLU: 2-12                                                      --                        (recursive)\n",
       "│    │    └─ActQuantProxyFromInjector: 3-15                                 --                        (recursive)\n",
       "│    └─MaxPool2d: 2-13                                                      [1, 32, 112, 112]         --\n",
       "│    └─QuantConv2d: 2-14                                                    [1, 16, 112, 112]         --\n",
       "│    │    └─ActQuantProxyFromInjector: 3-16                                 [1, 32, 112, 112]         --\n",
       "│    │    └─WeightQuantProxyFromInjector: 3-17                              [16, 32, 3, 3]            4,608\n",
       "├─ModuleList: 1-54                                                          --                        (recursive)\n",
       "│    └─QuantLinear: 2-95                                                    --                        (recursive)\n",
       "│    │    └─WeightQuantProxyFromInjector: 3-118                             --                        (recursive)\n",
       "├─ModuleList: 1-53                                                          --                        (recursive)\n",
       "│    └─QuantConv2d: 2-16                                                    --                        (recursive)\n",
       "│    │    └─WeightQuantProxyFromInjector: 3-19                              --                        (recursive)\n",
       "│    │    └─ActQuantProxyFromInjector: 3-20                                 [1, 16, 112, 112]         --\n",
       "│    └─BatchNorm2d: 2-17                                                    [1, 16, 112, 112]         32\n",
       "│    └─QuantReLU: 2-18                                                      [1, 16, 112, 112]         --\n",
       "│    │    └─ActQuantProxyFromInjector: 3-21                                 [1, 16, 112, 112]         --\n",
       "│    │    └─ActQuantProxyFromInjector: 3-22                                 [1, 16, 112, 112]         1\n",
       "├─ModuleList: 1-54                                                          --                        (recursive)\n",
       "│    └─QuantReLU: 2-91                                                      --                        (recursive)\n",
       "│    │    └─ActQuantProxyFromInjector: 3-113                                --                        (recursive)\n",
       "├─ModuleList: 1-53                                                          --                        (recursive)\n",
       "│    └─QuantReLU: 2-20                                                      --                        (recursive)\n",
       "│    │    └─ActQuantProxyFromInjector: 3-24                                 --                        (recursive)\n",
       "│    └─MaxPool2d: 2-21                                                      [1, 16, 56, 56]           --\n",
       "│    └─QuantConv2d: 2-22                                                    [1, 16, 56, 56]           --\n",
       "│    │    └─ActQuantProxyFromInjector: 3-25                                 [1, 16, 56, 56]           --\n",
       "│    │    └─WeightQuantProxyFromInjector: 3-26                              [16, 16, 1, 1]            256\n",
       "├─ModuleList: 1-54                                                          --                        (recursive)\n",
       "│    └─QuantLinear: 2-95                                                    --                        (recursive)\n",
       "│    │    └─WeightQuantProxyFromInjector: 3-118                             --                        (recursive)\n",
       "├─ModuleList: 1-53                                                          --                        (recursive)\n",
       "│    └─QuantConv2d: 2-24                                                    --                        (recursive)\n",
       "│    │    └─WeightQuantProxyFromInjector: 3-28                              --                        (recursive)\n",
       "│    │    └─ActQuantProxyFromInjector: 3-29                                 [1, 16, 56, 56]           --\n",
       "│    └─BatchNorm2d: 2-25                                                    [1, 16, 56, 56]           32\n",
       "│    └─QuantReLU: 2-26                                                      [1, 16, 56, 56]           --\n",
       "│    │    └─ActQuantProxyFromInjector: 3-30                                 [1, 16, 56, 56]           --\n",
       "│    │    └─ActQuantProxyFromInjector: 3-31                                 [1, 16, 56, 56]           1\n",
       "├─ModuleList: 1-54                                                          --                        (recursive)\n",
       "│    └─QuantReLU: 2-91                                                      --                        (recursive)\n",
       "│    │    └─ActQuantProxyFromInjector: 3-113                                --                        (recursive)\n",
       "├─ModuleList: 1-53                                                          --                        (recursive)\n",
       "│    └─QuantReLU: 2-28                                                      --                        (recursive)\n",
       "│    │    └─ActQuantProxyFromInjector: 3-33                                 --                        (recursive)\n",
       "│    └─QuantConv2d: 2-29                                                    [1, 32, 56, 56]           --\n",
       "│    │    └─ActQuantProxyFromInjector: 3-34                                 [1, 16, 56, 56]           --\n",
       "│    │    └─WeightQuantProxyFromInjector: 3-35                              [32, 16, 3, 3]            4,608\n",
       "├─ModuleList: 1-54                                                          --                        (recursive)\n",
       "│    └─QuantLinear: 2-95                                                    --                        (recursive)\n",
       "│    │    └─WeightQuantProxyFromInjector: 3-118                             --                        (recursive)\n",
       "├─ModuleList: 1-53                                                          --                        (recursive)\n",
       "│    └─QuantConv2d: 2-31                                                    --                        (recursive)\n",
       "│    │    └─WeightQuantProxyFromInjector: 3-37                              --                        (recursive)\n",
       "│    │    └─ActQuantProxyFromInjector: 3-38                                 [1, 32, 56, 56]           --\n",
       "│    └─BatchNorm2d: 2-32                                                    [1, 32, 56, 56]           64\n",
       "│    └─QuantReLU: 2-33                                                      [1, 32, 56, 56]           --\n",
       "│    │    └─ActQuantProxyFromInjector: 3-39                                 [1, 32, 56, 56]           --\n",
       "│    │    └─ActQuantProxyFromInjector: 3-40                                 [1, 32, 56, 56]           1\n",
       "├─ModuleList: 1-54                                                          --                        (recursive)\n",
       "│    └─QuantReLU: 2-91                                                      --                        (recursive)\n",
       "│    │    └─ActQuantProxyFromInjector: 3-113                                --                        (recursive)\n",
       "├─ModuleList: 1-53                                                          --                        (recursive)\n",
       "│    └─QuantReLU: 2-35                                                      --                        (recursive)\n",
       "│    │    └─ActQuantProxyFromInjector: 3-42                                 --                        (recursive)\n",
       "│    └─QuantConv2d: 2-36                                                    [1, 32, 56, 56]           --\n",
       "│    │    └─ActQuantProxyFromInjector: 3-43                                 [1, 32, 56, 56]           --\n",
       "│    │    └─WeightQuantProxyFromInjector: 3-44                              [32, 32, 1, 1]            1,024\n",
       "├─ModuleList: 1-54                                                          --                        (recursive)\n",
       "│    └─QuantLinear: 2-95                                                    --                        (recursive)\n",
       "│    │    └─WeightQuantProxyFromInjector: 3-118                             --                        (recursive)\n",
       "├─ModuleList: 1-53                                                          --                        (recursive)\n",
       "│    └─QuantConv2d: 2-38                                                    --                        (recursive)\n",
       "│    │    └─WeightQuantProxyFromInjector: 3-46                              --                        (recursive)\n",
       "│    │    └─ActQuantProxyFromInjector: 3-47                                 [1, 32, 56, 56]           --\n",
       "│    └─BatchNorm2d: 2-39                                                    [1, 32, 56, 56]           64\n",
       "│    └─QuantReLU: 2-40                                                      [1, 32, 56, 56]           --\n",
       "│    │    └─ActQuantProxyFromInjector: 3-48                                 [1, 32, 56, 56]           --\n",
       "│    │    └─ActQuantProxyFromInjector: 3-49                                 [1, 32, 56, 56]           1\n",
       "├─ModuleList: 1-54                                                          --                        (recursive)\n",
       "│    └─QuantReLU: 2-91                                                      --                        (recursive)\n",
       "│    │    └─ActQuantProxyFromInjector: 3-113                                --                        (recursive)\n",
       "├─ModuleList: 1-53                                                          --                        (recursive)\n",
       "│    └─QuantReLU: 2-42                                                      --                        (recursive)\n",
       "│    │    └─ActQuantProxyFromInjector: 3-51                                 --                        (recursive)\n",
       "│    └─QuantConv2d: 2-43                                                    [1, 64, 56, 56]           --\n",
       "│    │    └─ActQuantProxyFromInjector: 3-52                                 [1, 32, 56, 56]           --\n",
       "│    │    └─WeightQuantProxyFromInjector: 3-53                              [64, 32, 3, 3]            18,432\n",
       "├─ModuleList: 1-54                                                          --                        (recursive)\n",
       "│    └─QuantLinear: 2-95                                                    --                        (recursive)\n",
       "│    │    └─WeightQuantProxyFromInjector: 3-118                             --                        (recursive)\n",
       "├─ModuleList: 1-53                                                          --                        (recursive)\n",
       "│    └─QuantConv2d: 2-45                                                    --                        (recursive)\n",
       "│    │    └─WeightQuantProxyFromInjector: 3-55                              --                        (recursive)\n",
       "│    │    └─ActQuantProxyFromInjector: 3-56                                 [1, 64, 56, 56]           --\n",
       "│    └─BatchNorm2d: 2-46                                                    [1, 64, 56, 56]           128\n",
       "│    └─QuantReLU: 2-47                                                      [1, 64, 56, 56]           --\n",
       "│    │    └─ActQuantProxyFromInjector: 3-57                                 [1, 64, 56, 56]           --\n",
       "│    │    └─ActQuantProxyFromInjector: 3-58                                 [1, 64, 56, 56]           1\n",
       "├─ModuleList: 1-54                                                          --                        (recursive)\n",
       "│    └─QuantReLU: 2-91                                                      --                        (recursive)\n",
       "│    │    └─ActQuantProxyFromInjector: 3-113                                --                        (recursive)\n",
       "├─ModuleList: 1-53                                                          --                        (recursive)\n",
       "│    └─QuantReLU: 2-49                                                      --                        (recursive)\n",
       "│    │    └─ActQuantProxyFromInjector: 3-60                                 --                        (recursive)\n",
       "│    └─MaxPool2d: 2-50                                                      [1, 64, 28, 28]           --\n",
       "│    └─QuantConv2d: 2-51                                                    [1, 32, 28, 28]           --\n",
       "│    │    └─ActQuantProxyFromInjector: 3-61                                 [1, 64, 28, 28]           --\n",
       "│    │    └─WeightQuantProxyFromInjector: 3-62                              [32, 64, 1, 1]            2,048\n",
       "├─ModuleList: 1-54                                                          --                        (recursive)\n",
       "│    └─QuantLinear: 2-95                                                    --                        (recursive)\n",
       "│    │    └─WeightQuantProxyFromInjector: 3-118                             --                        (recursive)\n",
       "├─ModuleList: 1-53                                                          --                        (recursive)\n",
       "│    └─QuantConv2d: 2-53                                                    --                        (recursive)\n",
       "│    │    └─WeightQuantProxyFromInjector: 3-64                              --                        (recursive)\n",
       "│    │    └─ActQuantProxyFromInjector: 3-65                                 [1, 32, 28, 28]           --\n",
       "│    └─BatchNorm2d: 2-54                                                    [1, 32, 28, 28]           64\n",
       "│    └─QuantReLU: 2-55                                                      [1, 32, 28, 28]           --\n",
       "│    │    └─ActQuantProxyFromInjector: 3-66                                 [1, 32, 28, 28]           --\n",
       "│    │    └─ActQuantProxyFromInjector: 3-67                                 [1, 32, 28, 28]           1\n",
       "├─ModuleList: 1-54                                                          --                        (recursive)\n",
       "│    └─QuantReLU: 2-91                                                      --                        (recursive)\n",
       "│    │    └─ActQuantProxyFromInjector: 3-113                                --                        (recursive)\n",
       "├─ModuleList: 1-53                                                          --                        (recursive)\n",
       "│    └─QuantReLU: 2-57                                                      --                        (recursive)\n",
       "│    │    └─ActQuantProxyFromInjector: 3-69                                 --                        (recursive)\n",
       "│    └─QuantConv2d: 2-58                                                    [1, 64, 28, 28]           --\n",
       "│    │    └─ActQuantProxyFromInjector: 3-70                                 [1, 32, 28, 28]           --\n",
       "│    │    └─WeightQuantProxyFromInjector: 3-71                              [64, 32, 3, 3]            18,432\n",
       "├─ModuleList: 1-54                                                          --                        (recursive)\n",
       "│    └─QuantLinear: 2-95                                                    --                        (recursive)\n",
       "│    │    └─WeightQuantProxyFromInjector: 3-118                             --                        (recursive)\n",
       "├─ModuleList: 1-53                                                          --                        (recursive)\n",
       "│    └─QuantConv2d: 2-60                                                    --                        (recursive)\n",
       "│    │    └─WeightQuantProxyFromInjector: 3-73                              --                        (recursive)\n",
       "│    │    └─ActQuantProxyFromInjector: 3-74                                 [1, 64, 28, 28]           --\n",
       "│    └─BatchNorm2d: 2-61                                                    [1, 64, 28, 28]           128\n",
       "│    └─QuantReLU: 2-62                                                      [1, 64, 28, 28]           --\n",
       "│    │    └─ActQuantProxyFromInjector: 3-75                                 [1, 64, 28, 28]           --\n",
       "│    │    └─ActQuantProxyFromInjector: 3-76                                 [1, 64, 28, 28]           1\n",
       "├─ModuleList: 1-54                                                          --                        (recursive)\n",
       "│    └─QuantReLU: 2-91                                                      --                        (recursive)\n",
       "│    │    └─ActQuantProxyFromInjector: 3-113                                --                        (recursive)\n",
       "├─ModuleList: 1-53                                                          --                        (recursive)\n",
       "│    └─QuantReLU: 2-64                                                      --                        (recursive)\n",
       "│    │    └─ActQuantProxyFromInjector: 3-78                                 --                        (recursive)\n",
       "│    └─QuantConv2d: 2-65                                                    [1, 32, 28, 28]           --\n",
       "│    │    └─ActQuantProxyFromInjector: 3-79                                 [1, 64, 28, 28]           --\n",
       "│    │    └─WeightQuantProxyFromInjector: 3-80                              [32, 64, 1, 1]            2,048\n",
       "├─ModuleList: 1-54                                                          --                        (recursive)\n",
       "│    └─QuantLinear: 2-95                                                    --                        (recursive)\n",
       "│    │    └─WeightQuantProxyFromInjector: 3-118                             --                        (recursive)\n",
       "├─ModuleList: 1-53                                                          --                        (recursive)\n",
       "│    └─QuantConv2d: 2-67                                                    --                        (recursive)\n",
       "│    │    └─WeightQuantProxyFromInjector: 3-82                              --                        (recursive)\n",
       "│    │    └─ActQuantProxyFromInjector: 3-83                                 [1, 32, 28, 28]           --\n",
       "│    └─BatchNorm2d: 2-68                                                    [1, 32, 28, 28]           64\n",
       "│    └─QuantReLU: 2-69                                                      [1, 32, 28, 28]           --\n",
       "│    │    └─ActQuantProxyFromInjector: 3-84                                 [1, 32, 28, 28]           --\n",
       "│    │    └─ActQuantProxyFromInjector: 3-85                                 [1, 32, 28, 28]           1\n",
       "├─ModuleList: 1-54                                                          --                        (recursive)\n",
       "│    └─QuantReLU: 2-91                                                      --                        (recursive)\n",
       "│    │    └─ActQuantProxyFromInjector: 3-113                                --                        (recursive)\n",
       "├─ModuleList: 1-53                                                          --                        (recursive)\n",
       "│    └─QuantReLU: 2-71                                                      --                        (recursive)\n",
       "│    │    └─ActQuantProxyFromInjector: 3-87                                 --                        (recursive)\n",
       "│    └─QuantConv2d: 2-72                                                    [1, 64, 28, 28]           --\n",
       "│    │    └─ActQuantProxyFromInjector: 3-88                                 [1, 32, 28, 28]           --\n",
       "│    │    └─WeightQuantProxyFromInjector: 3-89                              [64, 32, 3, 3]            18,432\n",
       "├─ModuleList: 1-54                                                          --                        (recursive)\n",
       "│    └─QuantLinear: 2-95                                                    --                        (recursive)\n",
       "│    │    └─WeightQuantProxyFromInjector: 3-118                             --                        (recursive)\n",
       "├─ModuleList: 1-53                                                          --                        (recursive)\n",
       "│    └─QuantConv2d: 2-74                                                    --                        (recursive)\n",
       "│    │    └─WeightQuantProxyFromInjector: 3-91                              --                        (recursive)\n",
       "│    │    └─ActQuantProxyFromInjector: 3-92                                 [1, 64, 28, 28]           --\n",
       "│    └─BatchNorm2d: 2-75                                                    [1, 64, 28, 28]           128\n",
       "│    └─QuantReLU: 2-76                                                      [1, 64, 28, 28]           --\n",
       "│    │    └─ActQuantProxyFromInjector: 3-93                                 [1, 64, 28, 28]           --\n",
       "│    │    └─ActQuantProxyFromInjector: 3-94                                 [1, 64, 28, 28]           1\n",
       "├─ModuleList: 1-54                                                          --                        (recursive)\n",
       "│    └─QuantReLU: 2-91                                                      --                        (recursive)\n",
       "│    │    └─ActQuantProxyFromInjector: 3-113                                --                        (recursive)\n",
       "├─ModuleList: 1-53                                                          --                        (recursive)\n",
       "│    └─QuantReLU: 2-78                                                      --                        (recursive)\n",
       "│    │    └─ActQuantProxyFromInjector: 3-96                                 --                        (recursive)\n",
       "│    └─QuantConv2d: 2-79                                                    [1, 32, 28, 28]           --\n",
       "│    │    └─ActQuantProxyFromInjector: 3-97                                 [1, 64, 28, 28]           --\n",
       "│    │    └─WeightQuantProxyFromInjector: 3-98                              [32, 64, 1, 1]            2,048\n",
       "├─ModuleList: 1-54                                                          --                        (recursive)\n",
       "│    └─QuantLinear: 2-95                                                    --                        (recursive)\n",
       "│    │    └─WeightQuantProxyFromInjector: 3-118                             --                        (recursive)\n",
       "├─ModuleList: 1-53                                                          --                        (recursive)\n",
       "│    └─QuantConv2d: 2-81                                                    --                        (recursive)\n",
       "│    │    └─WeightQuantProxyFromInjector: 3-100                             --                        (recursive)\n",
       "│    │    └─ActQuantProxyFromInjector: 3-101                                [1, 32, 28, 28]           --\n",
       "│    └─BatchNorm2d: 2-82                                                    [1, 32, 28, 28]           64\n",
       "│    └─QuantReLU: 2-83                                                      [1, 32, 28, 28]           --\n",
       "│    │    └─ActQuantProxyFromInjector: 3-102                                [1, 32, 28, 28]           --\n",
       "│    │    └─ActQuantProxyFromInjector: 3-103                                [1, 32, 28, 28]           1\n",
       "├─ModuleList: 1-54                                                          --                        (recursive)\n",
       "│    └─QuantReLU: 2-91                                                      --                        (recursive)\n",
       "│    │    └─ActQuantProxyFromInjector: 3-113                                --                        (recursive)\n",
       "├─ModuleList: 1-53                                                          --                        (recursive)\n",
       "│    └─QuantReLU: 2-85                                                      --                        (recursive)\n",
       "│    │    └─ActQuantProxyFromInjector: 3-105                                --                        (recursive)\n",
       "│    └─QuantConv2d: 2-86                                                    [1, 64, 28, 28]           --\n",
       "│    │    └─ActQuantProxyFromInjector: 3-106                                [1, 32, 28, 28]           --\n",
       "│    │    └─WeightQuantProxyFromInjector: 3-107                             [64, 32, 3, 3]            18,432\n",
       "├─ModuleList: 1-54                                                          --                        (recursive)\n",
       "│    └─QuantLinear: 2-95                                                    --                        (recursive)\n",
       "│    │    └─WeightQuantProxyFromInjector: 3-118                             --                        (recursive)\n",
       "├─ModuleList: 1-53                                                          --                        (recursive)\n",
       "│    └─QuantConv2d: 2-88                                                    --                        (recursive)\n",
       "│    │    └─WeightQuantProxyFromInjector: 3-109                             --                        (recursive)\n",
       "│    │    └─ActQuantProxyFromInjector: 3-110                                [1, 64, 28, 28]           --\n",
       "│    └─BatchNorm2d: 2-89                                                    [1, 64, 28, 28]           128\n",
       "│    └─QuantReLU: 2-90                                                      [1, 64, 28, 28]           --\n",
       "│    │    └─ActQuantProxyFromInjector: 3-111                                [1, 64, 28, 28]           --\n",
       "│    │    └─ActQuantProxyFromInjector: 3-112                                [1, 64, 28, 28]           1\n",
       "├─ModuleList: 1-54                                                          --                        (recursive)\n",
       "│    └─QuantReLU: 2-91                                                      --                        (recursive)\n",
       "│    │    └─ActQuantProxyFromInjector: 3-113                                --                        (recursive)\n",
       "├─ModuleList: 1-53                                                          --                        (recursive)\n",
       "│    └─QuantReLU: 2-92                                                      --                        (recursive)\n",
       "│    │    └─ActQuantProxyFromInjector: 3-114                                --                        (recursive)\n",
       "│    └─TruncAvgPool2d: 2-93                                                 [1, 64, 1, 1]             --\n",
       "│    │    └─TruncQuantProxyFromInjector: 3-115                              [1, 64, 1, 1]             --\n",
       "├─ModuleList: 1-54                                                          --                        (recursive)\n",
       "│    └─QuantLinear: 2-94                                                    [1, 16]                   --\n",
       "│    │    └─ActQuantProxyFromInjector: 3-116                                [1, 64]                   --\n",
       "│    │    └─WeightQuantProxyFromInjector: 3-117                             [16, 64]                  1,024\n",
       "│    └─QuantLinear: 2-95                                                    --                        (recursive)\n",
       "│    │    └─WeightQuantProxyFromInjector: 3-118                             --                        (recursive)\n",
       "│    └─QuantLinear: 2-96                                                    --                        (recursive)\n",
       "│    │    └─WeightQuantProxyFromInjector: 3-119                             --                        (recursive)\n",
       "│    │    └─ActQuantProxyFromInjector: 3-120                                [1, 16]                   --\n",
       "│    └─BatchNorm1d: 2-97                                                    [1, 16]                   32\n",
       "│    └─QuantReLU: 2-98                                                      [1, 16]                   --\n",
       "│    │    └─ActQuantProxyFromInjector: 3-121                                [1, 16]                   --\n",
       "│    │    └─ActQuantProxyFromInjector: 3-122                                [1, 16]                   1\n",
       "│    └─QuantLinear: 2-99                                                    [1, 2]                    --\n",
       "│    │    └─ActQuantProxyFromInjector: 3-123                                [1, 16]                   --\n",
       "│    │    └─WeightQuantProxyFromInjector: 3-124                             [2, 16]                   32\n",
       "│    │    └─ActQuantProxyFromInjector: 3-125                                [1, 2]                    --\n",
       "│    └─TensorNorm: 2-100                                                    [1, 2]                    2\n",
       "├─QuantIdentity: 1-55                                                       [1, 2]                    --\n",
       "│    └─ActQuantProxyFromInjector: 2-101                                     [1, 2]                    --\n",
       "│    └─ActQuantProxyFromInjector: 2-102                                     [1, 2]                    --\n",
       "│    │    └─FusedActivationQuantProxy: 3-126                                [1, 2]                    --\n",
       "=============================================================================================================================\n",
       "Total params: 93,295\n",
       "Trainable params: 93,295\n",
       "Non-trainable params: 0\n",
       "Total mult-adds (M): 0.00\n",
       "=============================================================================================================================\n",
       "Input size (MB): 0.60\n",
       "Forward/backward pass size (MB): 19.87\n",
       "Params size (MB): 0.00\n",
       "Estimated Total Size (MB): 20.48\n",
       "============================================================================================================================="
      ]
     },
     "execution_count": 4,
     "metadata": {},
     "output_type": "execute_result"
    }
   ],
   "source": [
    "summary(brevitas_model, input_size=(1, config.NUM_CHANNELS, config.IMG_H, config.IMG_W))"
   ]
  },
  {
   "cell_type": "code",
   "execution_count": 5,
   "id": "0b21df2a-cd68-4a40-9b6d-843f7e304932",
   "metadata": {},
   "outputs": [
    {
     "data": {
      "text/plain": [
       "torch.Size([1, 3, 224, 224])"
      ]
     },
     "execution_count": 5,
     "metadata": {},
     "output_type": "execute_result"
    }
   ],
   "source": [
    "test_ip_numpy = np.random.randint(low=0, high=256, size=(1, config.NUM_CHANNELS, config.IMG_H, config.IMG_W))\n",
    "test_ip = torch.tensor((test_ip_numpy / 255.), dtype=torch.float32).to('cuda')\n",
    "test_ip.shape"
   ]
  },
  {
   "cell_type": "code",
   "execution_count": 6,
   "id": "cf2a4448-7041-4fb2-bfca-3c384bb229d5",
   "metadata": {},
   "outputs": [],
   "source": [
    "brevitas_model.to('cuda')\n",
    "test_out = brevitas_model(test_ip)\n",
    "brevitas_model.to('cpu');"
   ]
  },
  {
   "cell_type": "code",
   "execution_count": 7,
   "id": "82e9b42c-952c-40a6-a731-8675a54cbc95",
   "metadata": {},
   "outputs": [
    {
     "name": "stdout",
     "output_type": "stream",
     "text": [
      "torch.Size([1, 2])\n"
     ]
    }
   ],
   "source": [
    "print(test_out.shape)"
   ]
  },
  {
   "cell_type": "markdown",
   "id": "05bd679e-11a8-4008-8642-0fb6599793ee",
   "metadata": {},
   "source": [
    "### Model to QONNX"
   ]
  },
  {
   "cell_type": "code",
   "execution_count": 8,
   "id": "1360da0c-7a64-4c91-86c4-75425779e1a7",
   "metadata": {},
   "outputs": [],
   "source": [
    "#brevitas_model.to('cpu');"
   ]
  },
  {
   "cell_type": "code",
   "execution_count": 9,
   "id": "56884858-a0bf-4bd7-b9c9-d9ca54f747c3",
   "metadata": {},
   "outputs": [],
   "source": [
    "brevitas_cpu = models_folder + '00_brevitas_cpu.onnx'\n",
    "export_qonnx(brevitas_model, torch.randn((1, config.NUM_CHANNELS, config.IMG_H, config.IMG_W)), brevitas_cpu);"
   ]
  },
  {
   "cell_type": "code",
   "execution_count": 10,
   "id": "2147a4e7-33a4-4098-98bc-c369775e9525",
   "metadata": {},
   "outputs": [],
   "source": [
    "# brevitas_model.to('cuda')\n",
    "# brevitas_cuda = models_folder + '00_brevitas_cuda.onnx'\n",
    "\n",
    "# export_qonnx(brevitas_model, torch.randn((1, config.NUM_CHANNELS, config.IMG_H, config.IMG_W)).to('cuda'), brevitas_cuda);"
   ]
  },
  {
   "cell_type": "markdown",
   "id": "62467796-f923-4641-aea9-f27720817207",
   "metadata": {},
   "source": [
    "# Model Clean"
   ]
  },
  {
   "cell_type": "code",
   "execution_count": 11,
   "id": "d8ce3e63-8792-41a6-8b31-486dca7d843a",
   "metadata": {},
   "outputs": [],
   "source": [
    "from finn.util.visualization import showSrc, showInNetron\n",
    "from qonnx.util.cleanup import cleanup as qonnx_cleanup"
   ]
  },
  {
   "cell_type": "code",
   "execution_count": 12,
   "id": "7286b856-b37b-42ab-a07b-b01ae0f11a90",
   "metadata": {},
   "outputs": [],
   "source": [
    "qonnx_clean_filename = models_folder + '01_clean.onnx'\n",
    "qonnx_cleanup(brevitas_cpu, out_file=qonnx_clean_filename)"
   ]
  },
  {
   "cell_type": "code",
   "execution_count": 13,
   "id": "9d097b8c-37d6-4745-afab-b924eb46f04a",
   "metadata": {},
   "outputs": [],
   "source": [
    "#showInNetron(brevitas_cpu)"
   ]
  },
  {
   "cell_type": "code",
   "execution_count": 14,
   "id": "32a2061d-8a23-478c-bfe8-57dd0bff238c",
   "metadata": {},
   "outputs": [],
   "source": [
    "#showInNetron(qonnx_clean_filename)"
   ]
  },
  {
   "cell_type": "markdown",
   "id": "268926d7-65d1-4c9d-9788-7ec8eb978435",
   "metadata": {},
   "source": [
    "# Compare All Outputs"
   ]
  },
  {
   "cell_type": "code",
   "execution_count": 15,
   "id": "ea79dcc1-8ec3-408f-bb60-f8c3f66c5e57",
   "metadata": {},
   "outputs": [],
   "source": [
    "from qonnx.core.modelwrapper import ModelWrapper\n",
    "import qonnx.core.onnx_exec as oxe"
   ]
  },
  {
   "cell_type": "code",
   "execution_count": 16,
   "id": "30887ba6-8764-469c-9baf-6dbd14026f7f",
   "metadata": {},
   "outputs": [],
   "source": [
    "test_ip = np.random.randint(low=0, high=256, size=(1, config.NUM_CHANNELS, config.IMG_H, config.IMG_W)) / 255.\n",
    "test_ip = test_ip.astype(np.float32)\n",
    "test_ip_torch = torch.tensor(test_ip, dtype=torch.float32).to('cpu')"
   ]
  },
  {
   "cell_type": "code",
   "execution_count": 17,
   "id": "e14d7505-e04b-4945-ab7d-ff7c0c63eae5",
   "metadata": {},
   "outputs": [
    {
     "data": {
      "text/plain": [
       "tensor([[1., 1.]], grad_fn=<MulBackward0>)"
      ]
     },
     "execution_count": 17,
     "metadata": {},
     "output_type": "execute_result"
    }
   ],
   "source": [
    "torch_out = brevitas_model(test_ip_torch)\n",
    "torch_out"
   ]
  },
  {
   "cell_type": "code",
   "execution_count": 18,
   "id": "5d5a04f2-ea17-47bb-a66e-4cffe12da9b6",
   "metadata": {},
   "outputs": [],
   "source": [
    "from qonnx.transformation.infer_shapes import InferShapes"
   ]
  },
  {
   "cell_type": "code",
   "execution_count": 19,
   "id": "d268852a-115c-4bdc-af3b-843a68d632fc",
   "metadata": {},
   "outputs": [],
   "source": [
    "ori_model = ModelWrapper(brevitas_cpu)\n",
    "ori_model = ori_model.transform(InferShapes())\n",
    "\n",
    "brevitas_shapes = models_folder + '00_brevitas_cpu_shapes.onnx'\n",
    "ori_model.save(brevitas_shapes)"
   ]
  },
  {
   "cell_type": "code",
   "execution_count": 20,
   "id": "7f9336f4-ff2a-44af-8dbf-0a241c420d2e",
   "metadata": {},
   "outputs": [],
   "source": [
    "ori_model = ModelWrapper(brevitas_shapes)\n",
    "clean_model = ModelWrapper(qonnx_clean_filename)"
   ]
  },
  {
   "cell_type": "code",
   "execution_count": 21,
   "id": "702e4cd7-6570-4abd-8f68-93b3404f934d",
   "metadata": {},
   "outputs": [],
   "source": [
    "input_dict = {\"global_in\": test_ip}\n",
    "# output_dict = oxe.execute_onnx(ori_model, input_dict)\n",
    "# produced_ori_qonnx = output_dict[list(output_dict.keys())[0]]\n",
    "# produced_ori_qonnx"
   ]
  },
  {
   "cell_type": "code",
   "execution_count": 22,
   "id": "b56d5680-a591-47d3-8995-ad60d7f27eff",
   "metadata": {},
   "outputs": [
    {
     "data": {
      "text/plain": [
       "array([[1., 1.]], dtype=float32)"
      ]
     },
     "execution_count": 22,
     "metadata": {},
     "output_type": "execute_result"
    }
   ],
   "source": [
    "output_dict = oxe.execute_onnx(clean_model, input_dict)\n",
    "produced_clean_qonnx = output_dict[list(output_dict.keys())[0]]\n",
    "produced_clean_qonnx"
   ]
  },
  {
   "cell_type": "markdown",
   "id": "d4a391c5-af4f-4426-ac7f-345bf0a1310b",
   "metadata": {},
   "source": [
    "# Convert to FINN"
   ]
  },
  {
   "cell_type": "code",
   "execution_count": 23,
   "id": "3392e878-1927-4360-8d58-75402552e991",
   "metadata": {},
   "outputs": [],
   "source": [
    "from finn.transformation.qonnx.convert_qonnx_to_finn import ConvertQONNXtoFINN\n",
    "from qonnx.transformation.infer_shapes import InferShapes\n",
    "from qonnx.transformation.fold_constants import FoldConstants\n",
    "from qonnx.transformation.general import GiveReadableTensorNames, GiveUniqueNodeNames, RemoveStaticGraphInputs"
   ]
  },
  {
   "cell_type": "code",
   "execution_count": 24,
   "id": "66c7d74d-229d-44e8-a0c4-35bb38951a23",
   "metadata": {},
   "outputs": [],
   "source": [
    "model = ModelWrapper(qonnx_clean_filename)\n",
    "model = model.transform(ConvertQONNXtoFINN())\n",
    "model = model.transform(InferShapes())\n",
    "model = model.transform(FoldConstants())\n",
    "model = model.transform(GiveUniqueNodeNames())\n",
    "model = model.transform(GiveReadableTensorNames())\n",
    "model = model.transform(RemoveStaticGraphInputs())"
   ]
  },
  {
   "cell_type": "code",
   "execution_count": 25,
   "id": "2fea521a-b39a-405d-8181-cf306a167b20",
   "metadata": {},
   "outputs": [],
   "source": [
    "finn_tidy = models_folder + '02_finn_tidy.onnx'\n",
    "model.save(finn_tidy)"
   ]
  },
  {
   "cell_type": "code",
   "execution_count": 26,
   "id": "f93b85f6-2a27-46ed-92fa-d2fa605fadae",
   "metadata": {},
   "outputs": [
    {
     "name": "stdout",
     "output_type": "stream",
     "text": [
      "Serving 'experiments/02_w4a8_folding/models/02_finn_tidy.onnx' at http://0.0.0.0:8083\n"
     ]
    },
    {
     "data": {
      "text/html": [
       "\n",
       "        <iframe\n",
       "            width=\"100%\"\n",
       "            height=\"400\"\n",
       "            src=\"http://localhost:8083/\"\n",
       "            frameborder=\"0\"\n",
       "            allowfullscreen\n",
       "            \n",
       "        ></iframe>\n",
       "        "
      ],
      "text/plain": [
       "<IPython.lib.display.IFrame at 0x7fb944177fd0>"
      ]
     },
     "execution_count": 26,
     "metadata": {},
     "output_type": "execute_result"
    }
   ],
   "source": [
    "showInNetron(finn_tidy)"
   ]
  },
  {
   "cell_type": "markdown",
   "id": "c1aeebbf-f59b-42d8-8ee4-904a63dffc06",
   "metadata": {},
   "source": [
    "### Count Number of Convs and Number of FC (MatMul)"
   ]
  },
  {
   "cell_type": "code",
   "execution_count": 75,
   "id": "4d52fa40-4a38-4229-a739-8e334e2027e9",
   "metadata": {},
   "outputs": [
    {
     "name": "stdout",
     "output_type": "stream",
     "text": [
      "Number of convolutions: 12\n",
      "Number of fully connected: 2\n"
     ]
    }
   ],
   "source": [
    "model = ModelWrapper(finn_tidy)\n",
    "\n",
    "n_CONV = 0\n",
    "n_FC = 0\n",
    "graph = model.graph\n",
    "for node in graph.node:\n",
    "    if node.op_type == \"Conv\":\n",
    "        n_CONV += 1\n",
    "    elif node.op_type == \"MatMul\":\n",
    "        n_FC += 1\n",
    "\n",
    "print(f'Number of convolutions: {n_CONV}')\n",
    "print(f'Number of fully connected: {n_FC}')"
   ]
  },
  {
   "cell_type": "markdown",
   "id": "1a074441-ef76-4836-bcaa-769972124fe3",
   "metadata": {},
   "source": [
    "# PreProcess"
   ]
  },
  {
   "cell_type": "code",
   "execution_count": 27,
   "id": "173b59a6-8897-4d57-b25e-d818d4ca65dc",
   "metadata": {},
   "outputs": [
    {
     "name": "stderr",
     "output_type": "stream",
     "text": [
      "/home/gmoreno/uav/finn/deps/qonnx/src/qonnx/transformation/infer_data_layouts.py:127: UserWarning: Assuming 4D input is NCHW\n",
      "  warnings.warn(\"Assuming 4D input is NCHW\")\n"
     ]
    }
   ],
   "source": [
    "from finn.util.pytorch import ToTensor\n",
    "from qonnx.transformation.merge_onnx_models import MergeONNXModels\n",
    "from qonnx.core.datatype import DataType\n",
    "\n",
    "model = ModelWrapper(finn_tidy)\n",
    "global_inp_name = model.graph.input[0].name\n",
    "ishape = model.get_tensor_shape(global_inp_name)\n",
    "# preprocessing: torchvision's ToTensor divides uint8 inputs by 255\n",
    "totensor_pyt = ToTensor()\n",
    "chkpt_preproc_name = models_folder + \"./prepro_node.onnx\"\n",
    "export_qonnx(totensor_pyt, torch.randn(ishape), chkpt_preproc_name)\n",
    "qonnx_cleanup(chkpt_preproc_name, out_file=chkpt_preproc_name)\n",
    "pre_model = ModelWrapper(chkpt_preproc_name)\n",
    "pre_model = pre_model.transform(ConvertQONNXtoFINN())\n",
    "\n",
    "# join preprocessing and core model\n",
    "model = model.transform(MergeONNXModels(pre_model))\n",
    "# add input quantization annotation: UINT8 for all BNN-PYNQ models\n",
    "global_inp_name = model.graph.input[0].name\n",
    "model.set_tensor_datatype(global_inp_name, DataType[\"UINT8\"])"
   ]
  },
  {
   "cell_type": "code",
   "execution_count": 28,
   "id": "9c9bb0bd-a9b6-42ee-b792-9bbb3b4801b4",
   "metadata": {},
   "outputs": [],
   "source": [
    "from qonnx.transformation.infer_datatypes import InferDataTypes"
   ]
  },
  {
   "cell_type": "markdown",
   "id": "800e6b66-af2f-4ae8-a1b6-90336c6909f4",
   "metadata": {},
   "source": [
    "### Save prepro again after tidy"
   ]
  },
  {
   "cell_type": "code",
   "execution_count": 29,
   "id": "6eb18cc8-eef6-45ee-a2be-597ef399a011",
   "metadata": {},
   "outputs": [],
   "source": [
    "model = model.transform(InferShapes())\n",
    "model = model.transform(FoldConstants())\n",
    "model = model.transform(GiveUniqueNodeNames())\n",
    "model = model.transform(GiveReadableTensorNames())\n",
    "model = model.transform(InferDataTypes())\n",
    "model = model.transform(RemoveStaticGraphInputs())"
   ]
  },
  {
   "cell_type": "code",
   "execution_count": 30,
   "id": "7fa559ff-31f3-42ad-8273-ddf6d9a0759e",
   "metadata": {},
   "outputs": [],
   "source": [
    "finn_prepro = models_folder + '03_finn_prepro.onnx'\n",
    "model.save(finn_prepro)"
   ]
  },
  {
   "cell_type": "code",
   "execution_count": 31,
   "id": "3d380614-f8d7-4b2b-86df-106ba43ab349",
   "metadata": {},
   "outputs": [
    {
     "name": "stdout",
     "output_type": "stream",
     "text": [
      "Stopping http://0.0.0.0:8083\n",
      "Serving 'experiments/02_w4a8_folding/models/03_finn_prepro.onnx' at http://0.0.0.0:8083\n"
     ]
    },
    {
     "data": {
      "text/html": [
       "\n",
       "        <iframe\n",
       "            width=\"100%\"\n",
       "            height=\"400\"\n",
       "            src=\"http://localhost:8083/\"\n",
       "            frameborder=\"0\"\n",
       "            allowfullscreen\n",
       "            \n",
       "        ></iframe>\n",
       "        "
      ],
      "text/plain": [
       "<IPython.lib.display.IFrame at 0x7fb944175630>"
      ]
     },
     "execution_count": 31,
     "metadata": {},
     "output_type": "execute_result"
    }
   ],
   "source": [
    "showInNetron(finn_prepro)"
   ]
  },
  {
   "cell_type": "markdown",
   "id": "57348031-895c-4f9f-a0d1-22ed7969f60f",
   "metadata": {},
   "source": [
    "# Streamline"
   ]
  },
  {
   "cell_type": "code",
   "execution_count": 32,
   "id": "8100a86a-9402-4991-85ab-3b06b9d70da4",
   "metadata": {},
   "outputs": [],
   "source": [
    "from qonnx.transformation.lower_convs_to_matmul import LowerConvsToMatMul\n",
    "from qonnx.transformation.change_datalayout import ChangeDataLayoutQuantAvgPool2d\n",
    "from qonnx.transformation.infer_data_layouts import InferDataLayouts\n",
    "from qonnx.transformation.general import RemoveUnusedTensors\n",
    "\n",
    "from finn.transformation.streamline import Streamline\n",
    "import finn.transformation.streamline.absorb as absorb\n",
    "from finn.transformation.streamline.reorder import MakeMaxPoolNHWC, MoveScalarLinearPastInvariants"
   ]
  },
  {
   "cell_type": "code",
   "execution_count": 76,
   "id": "2aeeda85-a2cb-4210-86a8-4bddcc03acee",
   "metadata": {},
   "outputs": [],
   "source": [
    "model = ModelWrapper(finn_prepro)\n",
    "model = model.transform(MoveScalarLinearPastInvariants())\n",
    "model = model.transform(Streamline())\n",
    "model = model.transform(LowerConvsToMatMul())\n",
    "model = model.transform(MakeMaxPoolNHWC())\n",
    "model = model.transform(ChangeDataLayoutQuantAvgPool2d())\n",
    "model = model.transform(absorb.AbsorbTransposeIntoMultiThreshold())\n",
    "model = model.transform(Streamline())\n",
    "model = model.transform(InferDataLayouts())\n",
    "model = model.transform(RemoveUnusedTensors())"
   ]
  },
  {
   "cell_type": "code",
   "execution_count": 77,
   "id": "2e193eb3-6b2e-4752-bb21-c9404c65eecf",
   "metadata": {},
   "outputs": [],
   "source": [
    "finn_streamline = models_folder + '04_finn_streamline.onnx'\n",
    "model.save(finn_streamline)"
   ]
  },
  {
   "cell_type": "code",
   "execution_count": 78,
   "id": "5ab482f9-a66a-4ba6-8f2f-894f53192f3a",
   "metadata": {},
   "outputs": [
    {
     "name": "stdout",
     "output_type": "stream",
     "text": [
      "Stopping http://0.0.0.0:8083\n",
      "Serving 'experiments/02_w4a8_folding/models/04_finn_streamline.onnx' at http://0.0.0.0:8083\n"
     ]
    },
    {
     "data": {
      "text/html": [
       "\n",
       "        <iframe\n",
       "            width=\"100%\"\n",
       "            height=\"400\"\n",
       "            src=\"http://localhost:8083/\"\n",
       "            frameborder=\"0\"\n",
       "            allowfullscreen\n",
       "            \n",
       "        ></iframe>\n",
       "        "
      ],
      "text/plain": [
       "<IPython.lib.display.IFrame at 0x7fb869ae52a0>"
      ]
     },
     "execution_count": 78,
     "metadata": {},
     "output_type": "execute_result"
    }
   ],
   "source": [
    "showInNetron(finn_streamline)"
   ]
  },
  {
   "cell_type": "markdown",
   "id": "3eb38327-33bd-4506-ac2c-323c8c632f0f",
   "metadata": {},
   "source": [
    "# HW Layers"
   ]
  },
  {
   "cell_type": "code",
   "execution_count": 36,
   "id": "024e8167-ceaa-4a34-b120-460e903a89e8",
   "metadata": {},
   "outputs": [],
   "source": [
    "import finn.transformation.fpgadataflow.convert_to_hw_layers as to_hw\n",
    "from finn.transformation.fpgadataflow.create_dataflow_partition import (\n",
    "    CreateDataflowPartition,\n",
    ")\n",
    "from finn.transformation.move_reshape import RemoveCNVtoFCFlatten\n",
    "\n",
    "from qonnx.custom_op.registry import getCustomOp"
   ]
  },
  {
   "cell_type": "code",
   "execution_count": 37,
   "id": "e0a4d861-4f25-4fd1-bc1d-5257f5e5d8db",
   "metadata": {},
   "outputs": [],
   "source": [
    "model = ModelWrapper(finn_streamline)\n",
    "model = model.transform(to_hw.InferQuantizedMatrixVectorActivation())\n",
    "\n",
    "# input quantization (if any) to standalone thresholding\n",
    "model = model.transform(to_hw.InferThresholdingLayer())\n",
    "model = model.transform(to_hw.InferPool())\n",
    "model = model.transform(to_hw.InferStreamingMaxPool())\n",
    "model = model.transform(to_hw.InferConvInpGen())\n",
    "\n",
    "# get rid of Reshape(-1, 1) operation between hw nodes \n",
    "model = model.transform(RemoveCNVtoFCFlatten())\n",
    "\n",
    "# get rid of Tranpose -> Tranpose identity seq\n",
    "model = model.transform(absorb.AbsorbConsecutiveTransposes())\n",
    "\n",
    "# infer tensor data layouts\n",
    "model = model.transform(InferDataLayouts())\n",
    "\n",
    "model = model.transform(Streamline())"
   ]
  },
  {
   "cell_type": "code",
   "execution_count": 38,
   "id": "3f6581c2-b961-4544-97bf-d67acc6c0040",
   "metadata": {},
   "outputs": [],
   "source": [
    "finn_hw_layers = models_folder + '10_fin_hw_layers.onnx'\n",
    "model.save(finn_hw_layers)"
   ]
  },
  {
   "cell_type": "code",
   "execution_count": 79,
   "id": "b23bd3ad-9e1c-44b9-8107-f867688694f3",
   "metadata": {},
   "outputs": [
    {
     "name": "stdout",
     "output_type": "stream",
     "text": [
      "Stopping http://0.0.0.0:8083\n",
      "Serving 'experiments/02_w4a8_folding/models/10_fin_hw_layers.onnx' at http://0.0.0.0:8083\n"
     ]
    },
    {
     "data": {
      "text/html": [
       "\n",
       "        <iframe\n",
       "            width=\"100%\"\n",
       "            height=\"400\"\n",
       "            src=\"http://localhost:8083/\"\n",
       "            frameborder=\"0\"\n",
       "            allowfullscreen\n",
       "            \n",
       "        ></iframe>\n",
       "        "
      ],
      "text/plain": [
       "<IPython.lib.display.IFrame at 0x7fb870f98400>"
      ]
     },
     "execution_count": 79,
     "metadata": {},
     "output_type": "execute_result"
    }
   ],
   "source": [
    "showInNetron(finn_hw_layers)"
   ]
  },
  {
   "cell_type": "markdown",
   "id": "4c05f983-59b8-4e86-bb05-6abfac036a86",
   "metadata": {},
   "source": [
    "# Dataflow Partition"
   ]
  },
  {
   "cell_type": "code",
   "execution_count": 40,
   "id": "bef29c49-b692-4833-bdce-86b7c661e1e5",
   "metadata": {},
   "outputs": [],
   "source": [
    "model = ModelWrapper(finn_hw_layers)\n",
    "parent_model = model.transform(CreateDataflowPartition())"
   ]
  },
  {
   "cell_type": "code",
   "execution_count": 41,
   "id": "b12ea7e0-99c8-47dd-ae6d-2d78617c0c89",
   "metadata": {},
   "outputs": [],
   "source": [
    "finn_parent_filename = models_folder + '11_finn_dataflow_parent.onnx'\n",
    "parent_model.save(finn_parent_filename)"
   ]
  },
  {
   "cell_type": "code",
   "execution_count": 42,
   "id": "b8dcd845-4380-4573-b822-d081ddd1c6f5",
   "metadata": {},
   "outputs": [
    {
     "name": "stdout",
     "output_type": "stream",
     "text": [
      "Stopping http://0.0.0.0:8083\n",
      "Serving 'experiments/02_w4a8_folding/models/11_finn_dataflow_parent.onnx' at http://0.0.0.0:8083\n"
     ]
    },
    {
     "data": {
      "text/html": [
       "\n",
       "        <iframe\n",
       "            width=\"100%\"\n",
       "            height=\"400\"\n",
       "            src=\"http://localhost:8083/\"\n",
       "            frameborder=\"0\"\n",
       "            allowfullscreen\n",
       "            \n",
       "        ></iframe>\n",
       "        "
      ],
      "text/plain": [
       "<IPython.lib.display.IFrame at 0x7fb94416a3b0>"
      ]
     },
     "execution_count": 42,
     "metadata": {},
     "output_type": "execute_result"
    }
   ],
   "source": [
    "showInNetron(finn_parent_filename)"
   ]
  },
  {
   "cell_type": "code",
   "execution_count": 43,
   "id": "72d9ac0b-66e7-4369-9845-4e40e395d0e6",
   "metadata": {},
   "outputs": [],
   "source": [
    "sdp_node = parent_model.get_nodes_by_op_type(\"StreamingDataflowPartition\")[0]\n",
    "sdp_node = getCustomOp(sdp_node)\n",
    "dataflow_filename = sdp_node.get_nodeattr(\"model\")\n",
    "dataflow_model = ModelWrapper(dataflow_filename)"
   ]
  },
  {
   "cell_type": "code",
   "execution_count": 44,
   "id": "3f0b721f-e958-451c-9b17-58f251549b51",
   "metadata": {},
   "outputs": [
    {
     "name": "stdout",
     "output_type": "stream",
     "text": [
      "/home/gmoreno/workspace/dataflow_partition_u5xfufwe/partition_0.onnx\n"
     ]
    }
   ],
   "source": [
    "print(dataflow_filename)"
   ]
  },
  {
   "cell_type": "markdown",
   "id": "ee289766-8b79-4047-a97b-cfb3945f9b6e",
   "metadata": {},
   "source": [
    "# FPGA Board"
   ]
  },
  {
   "cell_type": "code",
   "execution_count": 45,
   "id": "ca2691fb-64db-456f-8397-5862940d9d27",
   "metadata": {},
   "outputs": [],
   "source": [
    "from finn.util.basic import pynq_part_map\n",
    "# change this if you have a different PYNQ board, see list above\n",
    "pynq_board = \"Pynq-Z1\"\n",
    "fpga_part = pynq_part_map[pynq_board]\n",
    "target_clk_ns = 10"
   ]
  },
  {
   "cell_type": "code",
   "execution_count": 46,
   "id": "0ce91550-f9ca-4323-abb0-ec117816a453",
   "metadata": {},
   "outputs": [],
   "source": [
    "import pandas as pd"
   ]
  },
  {
   "cell_type": "code",
   "execution_count": 47,
   "id": "5fa7030e-e5d7-48b1-9573-8744043dcccf",
   "metadata": {},
   "outputs": [
    {
     "data": {
      "text/html": [
       "<div>\n",
       "<style scoped>\n",
       "    .dataframe tbody tr th:only-of-type {\n",
       "        vertical-align: middle;\n",
       "    }\n",
       "\n",
       "    .dataframe tbody tr th {\n",
       "        vertical-align: top;\n",
       "    }\n",
       "\n",
       "    .dataframe thead th {\n",
       "        text-align: right;\n",
       "    }\n",
       "</style>\n",
       "<table border=\"1\" class=\"dataframe\">\n",
       "  <thead>\n",
       "    <tr style=\"text-align: right;\">\n",
       "      <th></th>\n",
       "      <th>Board</th>\n",
       "      <th>FPGA Part</th>\n",
       "    </tr>\n",
       "  </thead>\n",
       "  <tbody>\n",
       "    <tr>\n",
       "      <th>0</th>\n",
       "      <td>Ultra96</td>\n",
       "      <td>xczu3eg-sbva484-1-e</td>\n",
       "    </tr>\n",
       "    <tr>\n",
       "      <th>1</th>\n",
       "      <td>Ultra96-V2</td>\n",
       "      <td>xczu3eg-sbva484-1-i</td>\n",
       "    </tr>\n",
       "    <tr>\n",
       "      <th>2</th>\n",
       "      <td>Pynq-Z1</td>\n",
       "      <td>xc7z020clg400-1</td>\n",
       "    </tr>\n",
       "    <tr>\n",
       "      <th>3</th>\n",
       "      <td>Pynq-Z2</td>\n",
       "      <td>xc7z020clg400-1</td>\n",
       "    </tr>\n",
       "    <tr>\n",
       "      <th>4</th>\n",
       "      <td>ZCU102</td>\n",
       "      <td>xczu9eg-ffvb1156-2-e</td>\n",
       "    </tr>\n",
       "    <tr>\n",
       "      <th>5</th>\n",
       "      <td>ZCU104</td>\n",
       "      <td>xczu7ev-ffvc1156-2-e</td>\n",
       "    </tr>\n",
       "    <tr>\n",
       "      <th>6</th>\n",
       "      <td>ZCU111</td>\n",
       "      <td>xczu28dr-ffvg1517-2-e</td>\n",
       "    </tr>\n",
       "    <tr>\n",
       "      <th>7</th>\n",
       "      <td>RFSoC2x2</td>\n",
       "      <td>xczu28dr-ffvg1517-2-e</td>\n",
       "    </tr>\n",
       "    <tr>\n",
       "      <th>8</th>\n",
       "      <td>RFSoC4x2</td>\n",
       "      <td>xczu48dr-ffvg1517-2-e</td>\n",
       "    </tr>\n",
       "    <tr>\n",
       "      <th>9</th>\n",
       "      <td>KV260_SOM</td>\n",
       "      <td>xck26-sfvc784-2LV-c</td>\n",
       "    </tr>\n",
       "  </tbody>\n",
       "</table>\n",
       "</div>"
      ],
      "text/plain": [
       "        Board              FPGA Part\n",
       "0     Ultra96    xczu3eg-sbva484-1-e\n",
       "1  Ultra96-V2    xczu3eg-sbva484-1-i\n",
       "2     Pynq-Z1        xc7z020clg400-1\n",
       "3     Pynq-Z2        xc7z020clg400-1\n",
       "4      ZCU102   xczu9eg-ffvb1156-2-e\n",
       "5      ZCU104   xczu7ev-ffvc1156-2-e\n",
       "6      ZCU111  xczu28dr-ffvg1517-2-e\n",
       "7    RFSoC2x2  xczu28dr-ffvg1517-2-e\n",
       "8    RFSoC4x2  xczu48dr-ffvg1517-2-e\n",
       "9   KV260_SOM    xck26-sfvc784-2LV-c"
      ]
     },
     "execution_count": 47,
     "metadata": {},
     "output_type": "execute_result"
    }
   ],
   "source": [
    "fpga_df = pd.DataFrame(pynq_part_map.items(), columns=['Board', 'FPGA Part'])\n",
    "fpga_df"
   ]
  },
  {
   "cell_type": "code",
   "execution_count": 48,
   "id": "8341833d-28a1-4eac-bc22-5e4023b801f1",
   "metadata": {},
   "outputs": [
    {
     "name": "stdout",
     "output_type": "stream",
     "text": [
      "FPGA chosen: \n",
      "\tBoard: Pynq-Z1\n",
      "\tPart: xc7z020clg400-1\n"
     ]
    }
   ],
   "source": [
    "print(f'FPGA chosen: \\n\\tBoard: {pynq_board}\\n\\tPart: {fpga_part}')"
   ]
  },
  {
   "cell_type": "markdown",
   "id": "625b9153-30ca-4c0a-a352-ea557fb9452a",
   "metadata": {},
   "source": [
    "# Specialize Layers"
   ]
  },
  {
   "cell_type": "code",
   "execution_count": 49,
   "id": "51f62b04-9c4e-42f2-aebc-8c10a81f4eaf",
   "metadata": {},
   "outputs": [],
   "source": [
    "from finn.transformation.fpgadataflow.specialize_layers import SpecializeLayers"
   ]
  },
  {
   "cell_type": "code",
   "execution_count": 50,
   "id": "b85788a4-31bc-4bdd-be94-898af5566992",
   "metadata": {},
   "outputs": [],
   "source": [
    "test_graph = dataflow_model.graph"
   ]
  },
  {
   "cell_type": "code",
   "execution_count": 51,
   "id": "891c7f23-eae1-4f3e-b402-5025e2375fe8",
   "metadata": {},
   "outputs": [
    {
     "name": "stdout",
     "output_type": "stream",
     "text": [
      "Node FMPadding_0 forced to HLS implementation\n",
      "Node FMPadding_1 forced to HLS implementation\n",
      "Node FMPadding_2 forced to HLS implementation\n",
      "Node FMPadding_3 forced to HLS implementation\n",
      "Node FMPadding_4 forced to HLS implementation\n",
      "Node FMPadding_5 forced to HLS implementation\n",
      "Node FMPadding_6 forced to HLS implementation\n"
     ]
    }
   ],
   "source": [
    "for node in test_graph.node:\n",
    "    if node.op_type == \"FMPadding\":   \n",
    "        node_inst = getCustomOp(node)\n",
    "        node_inst.set_nodeattr(\"preferred_impl_style\", \"hls\")\n",
    "        print(f'Node {node.name} forced to HLS implementation')"
   ]
  },
  {
   "cell_type": "code",
   "execution_count": 52,
   "id": "fc8c05ff-aec6-4dff-846a-671bfaf68286",
   "metadata": {},
   "outputs": [],
   "source": [
    "# FMPadding_node = dataflow_model.get_nodes_by_op_type(\"FMPadding\")\n",
    "# i = 0\n",
    "# for node in FMPadding_node:\n",
    "#     node_inst = getCustomOp(node)\n",
    "#     node_inst.set_nodeattr(\"preferred_impl_style\", \"hls\")\n",
    "#     print(f'Node {i}: {node}')\n",
    "#     i += 1"
   ]
  },
  {
   "cell_type": "code",
   "execution_count": 53,
   "id": "dcaf1258-b22c-4b9f-bfd4-47a21bbc6675",
   "metadata": {},
   "outputs": [],
   "source": [
    "# save the dataflow partition with a different name for easier access\n",
    "# and specialize the layers to HLS variants\n",
    "dataflow_model = dataflow_model.transform(SpecializeLayers(fpga_part))\n",
    "\n",
    "dataflow_model = dataflow_model.transform(GiveUniqueNodeNames())\n",
    "dataflow_model = dataflow_model.transform(GiveReadableTensorNames())\n",
    "\n",
    "finn_dataflow_filename = models_folder + '20_finn_dataflow_model.onnx'\n",
    "dataflow_model.save(finn_dataflow_filename)"
   ]
  },
  {
   "cell_type": "code",
   "execution_count": 54,
   "id": "733f7c1f-a632-4531-a1a9-651ab6386dbf",
   "metadata": {},
   "outputs": [
    {
     "name": "stdout",
     "output_type": "stream",
     "text": [
      "Stopping http://0.0.0.0:8083\n",
      "Serving 'experiments/02_w4a8_folding/models/20_finn_dataflow_model.onnx' at http://0.0.0.0:8083\n"
     ]
    },
    {
     "data": {
      "text/html": [
       "\n",
       "        <iframe\n",
       "            width=\"100%\"\n",
       "            height=\"400\"\n",
       "            src=\"http://localhost:8083/\"\n",
       "            frameborder=\"0\"\n",
       "            allowfullscreen\n",
       "            \n",
       "        ></iframe>\n",
       "        "
      ],
      "text/plain": [
       "<IPython.lib.display.IFrame at 0x7fb94416ad70>"
      ]
     },
     "execution_count": 54,
     "metadata": {},
     "output_type": "execute_result"
    }
   ],
   "source": [
    "showInNetron(finn_dataflow_filename)"
   ]
  },
  {
   "cell_type": "markdown",
   "id": "8c124c8b-e399-4e42-b3aa-bfc526c568f0",
   "metadata": {},
   "source": [
    "### Check execution???"
   ]
  },
  {
   "cell_type": "code",
   "execution_count": 55,
   "id": "ed28cd42-2fdf-4482-8732-b103519945ce",
   "metadata": {},
   "outputs": [],
   "source": [
    "# parent_dataflow_model = ModelWrapper(finn_parent_filename)"
   ]
  },
  {
   "cell_type": "code",
   "execution_count": 56,
   "id": "f5db2df8-b5ce-4136-bd07-6db6586839f8",
   "metadata": {},
   "outputs": [],
   "source": [
    "# input_dict = {\"global_in\": test_ip*255}\n",
    "# output_dict = oxe.execute_onnx(parent_dataflow_model, input_dict)\n",
    "# produced_clean_qonnx = output_dict[list(output_dict.keys())[0]]\n",
    "# produced_clean_qonnx"
   ]
  },
  {
   "cell_type": "markdown",
   "id": "b9b49de8-de28-4442-9de1-6203a083ec08",
   "metadata": {},
   "source": [
    "# Folding Factors Analysis\n",
    "\n",
    "At this point, PE and SIMD = 1, default values, for all MVAU.\n",
    "\n",
    "However, it PE = in_channels for other layers."
   ]
  },
  {
   "cell_type": "code",
   "execution_count": 57,
   "id": "c1cabc1b-1553-4751-97c7-ae8b2568a24a",
   "metadata": {},
   "outputs": [],
   "source": [
    "from functools import partial\n",
    "from finn.analysis.fpgadataflow.exp_cycles_per_layer import exp_cycles_per_layer\n",
    "from finn.analysis.fpgadataflow.res_estimation import res_estimation"
   ]
  },
  {
   "cell_type": "code",
   "execution_count": 80,
   "id": "56d235a2-6dd0-48b0-ba5b-cf057889fee3",
   "metadata": {},
   "outputs": [],
   "source": [
    "model = ModelWrapper(finn_dataflow_filename)\n",
    "model = model.transform(GiveUniqueNodeNames())\n",
    "\n",
    "before_analysis_filename = models_folder + '21_dataflow_before_analysis.onnx'\n",
    "model.save(before_analysis_filename)"
   ]
  },
  {
   "cell_type": "code",
   "execution_count": 81,
   "id": "edf89f8c-3f5a-4a33-9a5a-391a5006a2f0",
   "metadata": {},
   "outputs": [
    {
     "name": "stdout",
     "output_type": "stream",
     "text": [
      "Stopping http://0.0.0.0:8083\n",
      "Serving 'experiments/02_w4a8_folding/models/21_dataflow_before_analysis.onnx' at http://0.0.0.0:8083\n"
     ]
    },
    {
     "data": {
      "text/html": [
       "\n",
       "        <iframe\n",
       "            width=\"100%\"\n",
       "            height=\"400\"\n",
       "            src=\"http://localhost:8083/\"\n",
       "            frameborder=\"0\"\n",
       "            allowfullscreen\n",
       "            \n",
       "        ></iframe>\n",
       "        "
      ],
      "text/plain": [
       "<IPython.lib.display.IFrame at 0x7fb870a0fcd0>"
      ]
     },
     "execution_count": 81,
     "metadata": {},
     "output_type": "execute_result"
    }
   ],
   "source": [
    "showInNetron(before_analysis_filename)"
   ]
  },
  {
   "cell_type": "markdown",
   "id": "eeca6f62-5823-426c-84fe-accf21ce7ef4",
   "metadata": {},
   "source": [
    "## Estimated Cycles"
   ]
  },
  {
   "cell_type": "code",
   "execution_count": 82,
   "id": "5c2dd51d-523e-467c-b538-bb877fb8019e",
   "metadata": {},
   "outputs": [
    {
     "data": {
      "text/plain": [
       "{'Thresholding_rtl_0': 150528,\n",
       " 'FMPadding_hls_0': 51076,\n",
       " 'ConvolutionInputGenerator_rtl_0': 452039,\n",
       " 'MVAU_hls_0': 43352064,\n",
       " 'ConvolutionInputGenerator_rtl_1': 50626,\n",
       " 'Pool_hls_0': 50176,\n",
       " 'FMPadding_hls_1': 12996,\n",
       " 'ConvolutionInputGenerator_rtl_2': 113127,\n",
       " 'MVAU_hls_1': 57802752,\n",
       " 'ConvolutionInputGenerator_rtl_3': 12770,\n",
       " 'Pool_hls_1': 12544,\n",
       " 'MVAU_hls_2': 802816,\n",
       " 'FMPadding_hls_2': 3364,\n",
       " 'ConvolutionInputGenerator_rtl_4': 28343,\n",
       " 'MVAU_hls_3': 14450688,\n",
       " 'MVAU_hls_4': 3211264,\n",
       " 'FMPadding_hls_3': 3364,\n",
       " 'ConvolutionInputGenerator_rtl_5': 28343,\n",
       " 'MVAU_hls_5': 57802752,\n",
       " 'ConvolutionInputGenerator_rtl_6': 3250,\n",
       " 'Pool_hls_2': 3136,\n",
       " 'MVAU_hls_6': 1605632,\n",
       " 'FMPadding_hls_4': 900,\n",
       " 'ConvolutionInputGenerator_rtl_7': 7119,\n",
       " 'MVAU_hls_7': 14450688,\n",
       " 'MVAU_hls_8': 1605632,\n",
       " 'FMPadding_hls_5': 900,\n",
       " 'ConvolutionInputGenerator_rtl_8': 7119,\n",
       " 'MVAU_hls_9': 14450688,\n",
       " 'MVAU_hls_10': 1605632,\n",
       " 'FMPadding_hls_6': 900,\n",
       " 'ConvolutionInputGenerator_rtl_9': 7119,\n",
       " 'MVAU_hls_11': 14450688,\n",
       " 'ConvolutionInputGenerator_rtl_10': 2324,\n",
       " 'Pool_hls_3': 784,\n",
       " 'MVAU_hls_12': 1024,\n",
       " 'MVAU_hls_13': 32}"
      ]
     },
     "execution_count": 82,
     "metadata": {},
     "output_type": "execute_result"
    }
   ],
   "source": [
    "cycles_dict = model.analysis(exp_cycles_per_layer)\n",
    "cycles_dict"
   ]
  },
  {
   "cell_type": "markdown",
   "id": "8178af5e-b524-4523-865a-f4dfced43f66",
   "metadata": {},
   "source": [
    "### Total Latency"
   ]
  },
  {
   "cell_type": "code",
   "execution_count": 83,
   "id": "8f9440df-b97c-4bdc-bf19-2ae519bbcbf6",
   "metadata": {},
   "outputs": [
    {
     "name": "stdout",
     "output_type": "stream",
     "text": [
      "Total latency = 226595199\n"
     ]
    }
   ],
   "source": [
    "latency = 0\n",
    "for val in cycles_dict.values():\n",
    "    latency += val\n",
    "print(f'Total latency = {latency}')"
   ]
  },
  {
   "cell_type": "markdown",
   "id": "397ad971-c720-41f0-9135-a8463dcba6a2",
   "metadata": {},
   "source": [
    "### Plot Cycles"
   ]
  },
  {
   "cell_type": "code",
   "execution_count": 84,
   "id": "76503199-5691-4726-92d4-adb477e410da",
   "metadata": {},
   "outputs": [
    {
     "data": {
      "image/png": "[encoded data removed]",
      "text/plain": [
       "<Figure size 1000x500 with 1 Axes>"
      ]
     },
     "metadata": {},
     "output_type": "display_data"
    }
   ],
   "source": [
    "import matplotlib.pyplot as plt\n",
    "\n",
    "fig = plt.figure(figsize = (10, 5))\n",
    "plt.bar(cycles_dict.keys(), cycles_dict.values(), color ='blue', width = 0.3)\n",
    "plt.xlabel(\"Network layers\")\n",
    "plt.xticks(rotation=90)\n",
    "plt.ylabel(\"Number of clock cycles\")\n",
    "plt.title(\"Clock cycles per layer PE=SIMD=1\")\n",
    "plt.show()"
   ]
  },
  {
   "cell_type": "markdown",
   "id": "660ce7e4-9f21-4921-bfd7-435a54cc0e1f",
   "metadata": {},
   "source": [
    "## Estimated Resources"
   ]
  },
  {
   "cell_type": "code",
   "execution_count": 85,
   "id": "52fb0c0c-79ec-42fd-92c4-cf7210d8491d",
   "metadata": {},
   "outputs": [
    {
     "data": {
      "text/plain": [
       "{'Thresholding_rtl_0': {'BRAM_18K': 0,\n",
       "  'BRAM_efficiency': 1,\n",
       "  'LUT': 128.0,\n",
       "  'URAM': 0,\n",
       "  'URAM_efficiency': 1,\n",
       "  'DSP': 0},\n",
       " 'FMPadding_hls_0': {'BRAM_18K': 0,\n",
       "  'BRAM_efficiency': 1,\n",
       "  'LUT': 0,\n",
       "  'URAM': 0,\n",
       "  'URAM_efficiency': 1,\n",
       "  'DSP': 0},\n",
       " 'ConvolutionInputGenerator_rtl_0': {'BRAM_18K': 0,\n",
       "  'BRAM_efficiency': 1,\n",
       "  'LUT': 588,\n",
       "  'URAM': 0,\n",
       "  'URAM_efficiency': 1,\n",
       "  'DSP': 0},\n",
       " 'MVAU_hls_0': {'BRAM_18K': 1,\n",
       "  'BRAM_efficiency': 0.1875,\n",
       "  'LUT': 370,\n",
       "  'URAM': 0,\n",
       "  'URAM_efficiency': 1,\n",
       "  'DSP': 0},\n",
       " 'ConvolutionInputGenerator_rtl_1': {'BRAM_18K': 0,\n",
       "  'BRAM_efficiency': 1,\n",
       "  'LUT': 3372,\n",
       "  'URAM': 0,\n",
       "  'URAM_efficiency': 1,\n",
       "  'DSP': 0},\n",
       " 'Pool_hls_0': {'BRAM_18K': 0,\n",
       "  'BRAM_efficiency': 1,\n",
       "  'LUT': 0,\n",
       "  'URAM': 0,\n",
       "  'URAM_efficiency': 1,\n",
       "  'DSP': 0},\n",
       " 'FMPadding_hls_1': {'BRAM_18K': 0,\n",
       "  'BRAM_efficiency': 1,\n",
       "  'LUT': 0,\n",
       "  'URAM': 0,\n",
       "  'URAM_efficiency': 1,\n",
       "  'DSP': 0},\n",
       " 'ConvolutionInputGenerator_rtl_2': {'BRAM_18K': 0,\n",
       "  'BRAM_efficiency': 1,\n",
       "  'LUT': 2092,\n",
       "  'URAM': 0,\n",
       "  'URAM_efficiency': 1,\n",
       "  'DSP': 0},\n",
       " 'MVAU_hls_1': {'BRAM_18K': 2,\n",
       "  'BRAM_efficiency': 0.5,\n",
       "  'LUT': 375,\n",
       "  'URAM': 0,\n",
       "  'URAM_efficiency': 1,\n",
       "  'DSP': 0},\n",
       " 'ConvolutionInputGenerator_rtl_3': {'BRAM_18K': 0,\n",
       "  'BRAM_efficiency': 1,\n",
       "  'LUT': 1068,\n",
       "  'URAM': 0,\n",
       "  'URAM_efficiency': 1,\n",
       "  'DSP': 0},\n",
       " 'Pool_hls_1': {'BRAM_18K': 0,\n",
       "  'BRAM_efficiency': 1,\n",
       "  'LUT': 0,\n",
       "  'URAM': 0,\n",
       "  'URAM_efficiency': 1,\n",
       "  'DSP': 0},\n",
       " 'MVAU_hls_2': {'BRAM_18K': 1,\n",
       "  'BRAM_efficiency': 0.05555555555555555,\n",
       "  'LUT': 371,\n",
       "  'URAM': 0,\n",
       "  'URAM_efficiency': 1,\n",
       "  'DSP': 0},\n",
       " 'FMPadding_hls_2': {'BRAM_18K': 0,\n",
       "  'BRAM_efficiency': 1,\n",
       "  'LUT': 0,\n",
       "  'URAM': 0,\n",
       "  'URAM_efficiency': 1,\n",
       "  'DSP': 0},\n",
       " 'ConvolutionInputGenerator_rtl_4': {'BRAM_18K': 0,\n",
       "  'BRAM_efficiency': 1,\n",
       "  'LUT': 812,\n",
       "  'URAM': 0,\n",
       "  'URAM_efficiency': 1,\n",
       "  'DSP': 0},\n",
       " 'MVAU_hls_3': {'BRAM_18K': 2,\n",
       "  'BRAM_efficiency': 0.5,\n",
       "  'LUT': 374,\n",
       "  'URAM': 0,\n",
       "  'URAM_efficiency': 1,\n",
       "  'DSP': 0},\n",
       " 'MVAU_hls_4': {'BRAM_18K': 1,\n",
       "  'BRAM_efficiency': 0.2222222222222222,\n",
       "  'LUT': 372,\n",
       "  'URAM': 0,\n",
       "  'URAM_efficiency': 1,\n",
       "  'DSP': 0},\n",
       " 'FMPadding_hls_3': {'BRAM_18K': 0,\n",
       "  'BRAM_efficiency': 1,\n",
       "  'LUT': 0,\n",
       "  'URAM': 0,\n",
       "  'URAM_efficiency': 1,\n",
       "  'DSP': 0},\n",
       " 'ConvolutionInputGenerator_rtl_5': {'BRAM_18K': 0,\n",
       "  'BRAM_efficiency': 1,\n",
       "  'LUT': 1324,\n",
       "  'URAM': 0,\n",
       "  'URAM_efficiency': 1,\n",
       "  'DSP': 0},\n",
       " 'MVAU_hls_5': {'BRAM_18K': 5,\n",
       "  'BRAM_efficiency': 0.8,\n",
       "  'LUT': 375,\n",
       "  'URAM': 0,\n",
       "  'URAM_efficiency': 1,\n",
       "  'DSP': 0},\n",
       " 'ConvolutionInputGenerator_rtl_6': {'BRAM_18K': 0,\n",
       "  'BRAM_efficiency': 1,\n",
       "  'LUT': 1836,\n",
       "  'URAM': 0,\n",
       "  'URAM_efficiency': 1,\n",
       "  'DSP': 0},\n",
       " 'Pool_hls_2': {'BRAM_18K': 0,\n",
       "  'BRAM_efficiency': 1,\n",
       "  'LUT': 0,\n",
       "  'URAM': 0,\n",
       "  'URAM_efficiency': 1,\n",
       "  'DSP': 0},\n",
       " 'MVAU_hls_6': {'BRAM_18K': 1,\n",
       "  'BRAM_efficiency': 0.4444444444444444,\n",
       "  'LUT': 373,\n",
       "  'URAM': 0,\n",
       "  'URAM_efficiency': 1,\n",
       "  'DSP': 0},\n",
       " 'FMPadding_hls_4': {'BRAM_18K': 0,\n",
       "  'BRAM_efficiency': 1,\n",
       "  'LUT': 0,\n",
       "  'URAM': 0,\n",
       "  'URAM_efficiency': 1,\n",
       "  'DSP': 0},\n",
       " 'ConvolutionInputGenerator_rtl_7': {'BRAM_18K': 0,\n",
       "  'BRAM_efficiency': 1,\n",
       "  'LUT': 812,\n",
       "  'URAM': 0,\n",
       "  'URAM_efficiency': 1,\n",
       "  'DSP': 0},\n",
       " 'MVAU_hls_7': {'BRAM_18K': 5,\n",
       "  'BRAM_efficiency': 0.8,\n",
       "  'LUT': 375,\n",
       "  'URAM': 0,\n",
       "  'URAM_efficiency': 1,\n",
       "  'DSP': 0},\n",
       " 'MVAU_hls_8': {'BRAM_18K': 1,\n",
       "  'BRAM_efficiency': 0.4444444444444444,\n",
       "  'LUT': 373,\n",
       "  'URAM': 0,\n",
       "  'URAM_efficiency': 1,\n",
       "  'DSP': 0},\n",
       " 'FMPadding_hls_5': {'BRAM_18K': 0,\n",
       "  'BRAM_efficiency': 1,\n",
       "  'LUT': 0,\n",
       "  'URAM': 0,\n",
       "  'URAM_efficiency': 1,\n",
       "  'DSP': 0},\n",
       " 'ConvolutionInputGenerator_rtl_8': {'BRAM_18K': 0,\n",
       "  'BRAM_efficiency': 1,\n",
       "  'LUT': 812,\n",
       "  'URAM': 0,\n",
       "  'URAM_efficiency': 1,\n",
       "  'DSP': 0},\n",
       " 'MVAU_hls_9': {'BRAM_18K': 5,\n",
       "  'BRAM_efficiency': 0.8,\n",
       "  'LUT': 375,\n",
       "  'URAM': 0,\n",
       "  'URAM_efficiency': 1,\n",
       "  'DSP': 0},\n",
       " 'MVAU_hls_10': {'BRAM_18K': 1,\n",
       "  'BRAM_efficiency': 0.4444444444444444,\n",
       "  'LUT': 373,\n",
       "  'URAM': 0,\n",
       "  'URAM_efficiency': 1,\n",
       "  'DSP': 0},\n",
       " 'FMPadding_hls_6': {'BRAM_18K': 0,\n",
       "  'BRAM_efficiency': 1,\n",
       "  'LUT': 0,\n",
       "  'URAM': 0,\n",
       "  'URAM_efficiency': 1,\n",
       "  'DSP': 0},\n",
       " 'ConvolutionInputGenerator_rtl_9': {'BRAM_18K': 0,\n",
       "  'BRAM_efficiency': 1,\n",
       "  'LUT': 812,\n",
       "  'URAM': 0,\n",
       "  'URAM_efficiency': 1,\n",
       "  'DSP': 0},\n",
       " 'MVAU_hls_11': {'BRAM_18K': 5,\n",
       "  'BRAM_efficiency': 0.8,\n",
       "  'LUT': 375,\n",
       "  'URAM': 0,\n",
       "  'URAM_efficiency': 1,\n",
       "  'DSP': 0},\n",
       " 'ConvolutionInputGenerator_rtl_10': {'BRAM_18K': 0,\n",
       "  'BRAM_efficiency': 1,\n",
       "  'LUT': 11052,\n",
       "  'URAM': 0,\n",
       "  'URAM_efficiency': 1,\n",
       "  'DSP': 0},\n",
       " 'Pool_hls_3': {'BRAM_18K': 0,\n",
       "  'BRAM_efficiency': 1,\n",
       "  'LUT': 0,\n",
       "  'URAM': 0,\n",
       "  'URAM_efficiency': 1,\n",
       "  'DSP': 0},\n",
       " 'MVAU_hls_12': {'BRAM_18K': 1,\n",
       "  'BRAM_efficiency': 0.2222222222222222,\n",
       "  'LUT': 373,\n",
       "  'URAM': 0,\n",
       "  'URAM_efficiency': 1,\n",
       "  'DSP': 0},\n",
       " 'MVAU_hls_13': {'BRAM_18K': 1,\n",
       "  'BRAM_efficiency': 0.013888888888888888,\n",
       "  'LUT': 428,\n",
       "  'URAM': 0,\n",
       "  'URAM_efficiency': 1,\n",
       "  'DSP': 0}}"
      ]
     },
     "execution_count": 85,
     "metadata": {},
     "output_type": "execute_result"
    }
   ],
   "source": [
    "res_dict = model.analysis(partial(res_estimation, fpgapart=fpga_part))\n",
    "res_dict"
   ]
  },
  {
   "cell_type": "markdown",
   "id": "d3f04fc3-0250-43da-af27-99650b96ff2e",
   "metadata": {},
   "source": [
    "### BRAM usage"
   ]
  },
  {
   "cell_type": "code",
   "execution_count": 96,
   "id": "0ed5a273-d518-4ee3-bf1e-9cf1954d35d1",
   "metadata": {},
   "outputs": [
    {
     "name": "stdout",
     "output_type": "stream",
     "text": [
      "MVAU_hls_0     1 BRAM\n",
      "MVAU_hls_1     2 BRAM\n",
      "MVAU_hls_2     1 BRAM\n",
      "MVAU_hls_3     2 BRAM\n",
      "MVAU_hls_4     1 BRAM\n",
      "MVAU_hls_5     5 BRAM\n",
      "MVAU_hls_6     1 BRAM\n",
      "MVAU_hls_7     5 BRAM\n",
      "MVAU_hls_8     1 BRAM\n",
      "MVAU_hls_9     5 BRAM\n",
      "MVAU_hls_10    1 BRAM\n",
      "MVAU_hls_11    5 BRAM\n",
      "MVAU_hls_12    1 BRAM\n",
      "MVAU_hls_13    1 BRAM\n",
      "\n",
      "Total BRAM = 32\n"
     ]
    }
   ],
   "source": [
    "BRAM = {key: res_dict[key][\"BRAM_18K\"] for key in res_dict.keys() if res_dict[key][\"BRAM_18K\"] != 0}\n",
    "\n",
    "n_BRAM = 0\n",
    "for k, v in BRAM.items():\n",
    "    print(f'{k:<14} {v} BRAM')\n",
    "    n_BRAM += v\n",
    "print(f'\\nTotal BRAM = {n_BRAM}')"
   ]
  },
  {
   "cell_type": "markdown",
   "id": "c06fbb83-0543-4b7e-8f1e-33aa88a879f8",
   "metadata": {},
   "source": [
    "### LUT usage"
   ]
  },
  {
   "cell_type": "code",
   "execution_count": 98,
   "id": "7d41907c-181a-4843-aba8-dba6518fb235",
   "metadata": {},
   "outputs": [
    {
     "data": {
      "image/png": "[encoded data removed]",
      "text/plain": [
       "<Figure size 1000x500 with 1 Axes>"
      ]
     },
     "metadata": {},
     "output_type": "display_data"
    }
   ],
   "source": [
    "# Extracting LUTs from res_dict\n",
    "LUTs = [res_dict[key][\"LUT\"] for key in res_dict.keys()]   \n",
    "\n",
    "#Plotting the bar graph of each network layer with their corresponding LUT resource utilization\n",
    "fig = plt.figure(figsize = (10, 5))\n",
    "plt.bar(res_dict.keys(), LUTs, color ='green', width = 0.3)\n",
    "plt.xlabel(\"Network layers\")\n",
    "plt.xticks(rotation=90)\n",
    "plt.ylabel(\"Number of LUTs\")\n",
    "plt.title(\"No. of LUTs per layer PE=SIMD=1\")\n",
    "plt.show()"
   ]
  },
  {
   "cell_type": "markdown",
   "id": "519407a4-c9cb-4a41-9ad2-9e539e5af923",
   "metadata": {},
   "source": [
    "# Folding Factors Streamline: mvau_wwidth_max=36"
   ]
  },
  {
   "cell_type": "code",
   "execution_count": 99,
   "id": "c17f2a8d-2186-47f0-beae-258b50133bfa",
   "metadata": {},
   "outputs": [],
   "source": [
    "from finn.transformation.fpgadataflow.set_folding import SetFolding"
   ]
  },
  {
   "cell_type": "markdown",
   "id": "8ff9d2ae-2345-46c8-b90e-258c12eb23de",
   "metadata": {},
   "source": [
    "**Taregt Cycles Per Frame**\n",
    "\n",
    "If target is 25 FPS, inference time is $\\frac{1}{25}=40ms$\n",
    "\n",
    "If $clk = 10 ns$:\n",
    "$$\n",
    "Target~Cycles~Per~Frame = \\frac{40\\times 10^{-3}}{10\\times 10^{-9}}= 4\\times 10^{6}\n",
    "$$\n",
    "\n",
    "No se tiene en cuenta el tiempo de preprocesado, que en realidad debería ser inexistente, ya que está embebido en el preprocess del modelo. "
   ]
  },
  {
   "cell_type": "code",
   "execution_count": 134,
   "id": "96b60113-5133-488d-93ea-fb09df218e7b",
   "metadata": {},
   "outputs": [],
   "source": [
    "# model = ModelWrapper(finn_dataflow_filename)\n",
    "model = ModelWrapper(before_analysis_filename)"
   ]
  },
  {
   "cell_type": "markdown",
   "id": "a1358a51-11ac-46ea-896f-96893d395b69",
   "metadata": {},
   "source": [
    "apply method of SetFolding returns (model, False), so model is [0]\n",
    "\n",
    "maybe it is easier to do: model, _ = folder.apply(...)\n",
    "\n",
    "If model.transform is used, there is no need for above manipulation"
   ]
  },
  {
   "cell_type": "code",
   "execution_count": 135,
   "id": "fdd92cef-a6b5-4174-aaad-8e3bdd12ad57",
   "metadata": {},
   "outputs": [],
   "source": [
    "model = model.transform(SetFolding(\n",
    "    target_cycles_per_frame=4000000,#1000,\n",
    "    mvau_wwidth_max=36,\n",
    "    two_pass_relaxation=True)\n",
    ")"
   ]
  },
  {
   "cell_type": "code",
   "execution_count": 136,
   "id": "96500d41-ef99-47f1-b306-cb129ecc5611",
   "metadata": {},
   "outputs": [],
   "source": [
    "folding_filename = models_folder + '30_finn_folding.onnx'\n",
    "model.save(folding_filename)"
   ]
  },
  {
   "cell_type": "code",
   "execution_count": 137,
   "id": "a7d32ab3-c906-4918-9690-18c0267fe4a2",
   "metadata": {},
   "outputs": [
    {
     "name": "stdout",
     "output_type": "stream",
     "text": [
      "Stopping http://0.0.0.0:8083\n",
      "Serving 'experiments/02_w4a8_folding/models/30_finn_folding.onnx' at http://0.0.0.0:8083\n"
     ]
    },
    {
     "data": {
      "text/html": [
       "\n",
       "        <iframe\n",
       "            width=\"100%\"\n",
       "            height=\"400\"\n",
       "            src=\"http://localhost:8083/\"\n",
       "            frameborder=\"0\"\n",
       "            allowfullscreen\n",
       "            \n",
       "        ></iframe>\n",
       "        "
      ],
      "text/plain": [
       "<IPython.lib.display.IFrame at 0x7fb868998580>"
      ]
     },
     "execution_count": 137,
     "metadata": {},
     "output_type": "execute_result"
    }
   ],
   "source": [
    "showInNetron(folding_filename)"
   ]
  },
  {
   "cell_type": "markdown",
   "id": "b700f36a-9aca-4666-83eb-0b95bd2de107",
   "metadata": {},
   "source": [
    "## Estimated Cycles"
   ]
  },
  {
   "cell_type": "code",
   "execution_count": 138,
   "id": "98f0c20d-ccdc-47f1-8eb4-a5a2aa475c61",
   "metadata": {},
   "outputs": [
    {
     "data": {
      "text/plain": [
       "{'Thresholding_rtl_0': 150528,\n",
       " 'FMPadding_hls_0': 153228,\n",
       " 'ConvolutionInputGenerator_rtl_0': 1356117,\n",
       " 'MVAU_hls_0': 1605632,\n",
       " 'ConvolutionInputGenerator_rtl_1': 2008896,\n",
       " 'Pool_hls_0': 1605632,\n",
       " 'FMPadding_hls_1': 415872,\n",
       " 'ConvolutionInputGenerator_rtl_2': 3620064,\n",
       " 'MVAU_hls_1': 3211264,\n",
       " 'ConvolutionInputGenerator_rtl_3': 251360,\n",
       " 'Pool_hls_1': 200704,\n",
       " 'MVAU_hls_2': 802816,\n",
       " 'FMPadding_hls_2': 53824,\n",
       " 'ConvolutionInputGenerator_rtl_4': 453488,\n",
       " 'MVAU_hls_3': 3612672,\n",
       " 'MVAU_hls_4': 3211264,\n",
       " 'FMPadding_hls_3': 107648,\n",
       " 'ConvolutionInputGenerator_rtl_5': 906976,\n",
       " 'MVAU_hls_5': 3211264,\n",
       " 'ConvolutionInputGenerator_rtl_6': 257392,\n",
       " 'Pool_hls_2': 200704,\n",
       " 'MVAU_hls_6': 1605632,\n",
       " 'FMPadding_hls_4': 28800,\n",
       " 'ConvolutionInputGenerator_rtl_7': 227808,\n",
       " 'MVAU_hls_7': 3612672,\n",
       " 'MVAU_hls_8': 1605632,\n",
       " 'FMPadding_hls_5': 28800,\n",
       " 'ConvolutionInputGenerator_rtl_8': 227808,\n",
       " 'MVAU_hls_9': 3612672,\n",
       " 'MVAU_hls_10': 1605632,\n",
       " 'FMPadding_hls_6': 28800,\n",
       " 'ConvolutionInputGenerator_rtl_9': 227808,\n",
       " 'MVAU_hls_11': 3612672,\n",
       " 'ConvolutionInputGenerator_rtl_10': 150437,\n",
       " 'Pool_hls_3': 50176,\n",
       " 'MVAU_hls_12': 1024,\n",
       " 'MVAU_hls_13': 32}"
      ]
     },
     "execution_count": 138,
     "metadata": {},
     "output_type": "execute_result"
    }
   ],
   "source": [
    "cycles_dict = model.analysis(exp_cycles_per_layer)\n",
    "cycles_dict"
   ]
  },
  {
   "cell_type": "markdown",
   "id": "bc91dea7-01cc-407b-b977-0b8f9e34678f",
   "metadata": {},
   "source": [
    "### Total Latency"
   ]
  },
  {
   "cell_type": "code",
   "execution_count": 139,
   "id": "f9c88c1b-906a-4c1f-8255-4124c0c60255",
   "metadata": {},
   "outputs": [
    {
     "name": "stdout",
     "output_type": "stream",
     "text": [
      "Total latency = 44023750\n"
     ]
    }
   ],
   "source": [
    "latency = 0\n",
    "for val in cycles_dict.values():\n",
    "    latency += val\n",
    "print(f'Total latency = {latency}')"
   ]
  },
  {
   "cell_type": "markdown",
   "id": "639bf74a-ea27-4189-bb69-d7c43447028f",
   "metadata": {},
   "source": [
    "### Plot Cycles"
   ]
  },
  {
   "cell_type": "code",
   "execution_count": 140,
   "id": "a48afcd2-3800-4723-99a3-4dbb295b8581",
   "metadata": {},
   "outputs": [
    {
     "data": {
      "image/png": "[encoded data removed]",
      "text/plain": [
       "<Figure size 1000x500 with 1 Axes>"
      ]
     },
     "metadata": {},
     "output_type": "display_data"
    }
   ],
   "source": [
    "import matplotlib.pyplot as plt\n",
    "\n",
    "fig = plt.figure(figsize = (10, 5))\n",
    "plt.bar(cycles_dict.keys(), cycles_dict.values(), color ='blue', width = 0.3)\n",
    "plt.xlabel(\"Network layers\")\n",
    "plt.xticks(rotation=90)\n",
    "plt.ylabel(\"Number of clock cycles\")\n",
    "plt.title(\"Clock cycles per layer PE SIMD modified\")\n",
    "plt.show()"
   ]
  },
  {
   "cell_type": "markdown",
   "id": "3d7266da-f050-4844-8c65-c2a798cf0bc0",
   "metadata": {},
   "source": [
    "## Estimated Resources"
   ]
  },
  {
   "cell_type": "code",
   "execution_count": 141,
   "id": "df2a1d55-bd05-41bb-be70-ad3099c22ff1",
   "metadata": {},
   "outputs": [
    {
     "data": {
      "text/plain": [
       "{'Thresholding_rtl_0': {'BRAM_18K': 0,\n",
       "  'BRAM_efficiency': 1,\n",
       "  'LUT': 128.0,\n",
       "  'URAM': 0,\n",
       "  'URAM_efficiency': 1,\n",
       "  'DSP': 0},\n",
       " 'FMPadding_hls_0': {'BRAM_18K': 0,\n",
       "  'BRAM_efficiency': 1,\n",
       "  'LUT': 0,\n",
       "  'URAM': 0,\n",
       "  'URAM_efficiency': 1,\n",
       "  'DSP': 0},\n",
       " 'ConvolutionInputGenerator_rtl_0': {'BRAM_18K': 0,\n",
       "  'BRAM_efficiency': 1,\n",
       "  'LUT': 588,\n",
       "  'URAM': 0,\n",
       "  'URAM_efficiency': 1,\n",
       "  'DSP': 0},\n",
       " 'MVAU_hls_0': {'BRAM_18K': 3,\n",
       "  'BRAM_efficiency': 0.0625,\n",
       "  'LUT': 2086,\n",
       "  'URAM': 0,\n",
       "  'URAM_efficiency': 1,\n",
       "  'DSP': 0},\n",
       " 'ConvolutionInputGenerator_rtl_1': {'BRAM_18K': 0,\n",
       "  'BRAM_efficiency': 1,\n",
       "  'LUT': 3308,\n",
       "  'URAM': 0,\n",
       "  'URAM_efficiency': 1,\n",
       "  'DSP': 0},\n",
       " 'Pool_hls_0': {'BRAM_18K': 0,\n",
       "  'BRAM_efficiency': 1,\n",
       "  'LUT': 0,\n",
       "  'URAM': 0,\n",
       "  'URAM_efficiency': 1,\n",
       "  'DSP': 0},\n",
       " 'FMPadding_hls_1': {'BRAM_18K': 0,\n",
       "  'BRAM_efficiency': 1,\n",
       "  'LUT': 0,\n",
       "  'URAM': 0,\n",
       "  'URAM_efficiency': 1,\n",
       "  'DSP': 0},\n",
       " 'ConvolutionInputGenerator_rtl_2': {'BRAM_18K': 0,\n",
       "  'BRAM_efficiency': 1,\n",
       "  'LUT': 1860,\n",
       "  'URAM': 0,\n",
       "  'URAM_efficiency': 1,\n",
       "  'DSP': 0},\n",
       " 'MVAU_hls_1': {'BRAM_18K': 2,\n",
       "  'BRAM_efficiency': 0.5,\n",
       "  'LUT': 1507,\n",
       "  'URAM': 0,\n",
       "  'URAM_efficiency': 1,\n",
       "  'DSP': 0},\n",
       " 'ConvolutionInputGenerator_rtl_3': {'BRAM_18K': 0,\n",
       "  'BRAM_efficiency': 1,\n",
       "  'LUT': 1052,\n",
       "  'URAM': 0,\n",
       "  'URAM_efficiency': 1,\n",
       "  'DSP': 0},\n",
       " 'Pool_hls_1': {'BRAM_18K': 0,\n",
       "  'BRAM_efficiency': 1,\n",
       "  'LUT': 0,\n",
       "  'URAM': 0,\n",
       "  'URAM_efficiency': 1,\n",
       "  'DSP': 0},\n",
       " 'MVAU_hls_2': {'BRAM_18K': 1,\n",
       "  'BRAM_efficiency': 0.05555555555555555,\n",
       "  'LUT': 371,\n",
       "  'URAM': 0,\n",
       "  'URAM_efficiency': 1,\n",
       "  'DSP': 0},\n",
       " 'FMPadding_hls_2': {'BRAM_18K': 0,\n",
       "  'BRAM_efficiency': 1,\n",
       "  'LUT': 0,\n",
       "  'URAM': 0,\n",
       "  'URAM_efficiency': 1,\n",
       "  'DSP': 0},\n",
       " 'ConvolutionInputGenerator_rtl_4': {'BRAM_18K': 0,\n",
       "  'BRAM_efficiency': 1,\n",
       "  'LUT': 708,\n",
       "  'URAM': 0,\n",
       "  'URAM_efficiency': 1,\n",
       "  'DSP': 0},\n",
       " 'MVAU_hls_3': {'BRAM_18K': 2,\n",
       "  'BRAM_efficiency': 0.5,\n",
       "  'LUT': 572,\n",
       "  'URAM': 0,\n",
       "  'URAM_efficiency': 1,\n",
       "  'DSP': 0},\n",
       " 'MVAU_hls_4': {'BRAM_18K': 1,\n",
       "  'BRAM_efficiency': 0.2222222222222222,\n",
       "  'LUT': 372,\n",
       "  'URAM': 0,\n",
       "  'URAM_efficiency': 1,\n",
       "  'DSP': 0},\n",
       " 'FMPadding_hls_3': {'BRAM_18K': 0,\n",
       "  'BRAM_efficiency': 1,\n",
       "  'LUT': 0,\n",
       "  'URAM': 0,\n",
       "  'URAM_efficiency': 1,\n",
       "  'DSP': 0},\n",
       " 'ConvolutionInputGenerator_rtl_5': {'BRAM_18K': 0,\n",
       "  'BRAM_efficiency': 1,\n",
       "  'LUT': 1108,\n",
       "  'URAM': 0,\n",
       "  'URAM_efficiency': 1,\n",
       "  'DSP': 0},\n",
       " 'MVAU_hls_5': {'BRAM_18K': 4,\n",
       "  'BRAM_efficiency': 1.0,\n",
       "  'LUT': 1507,\n",
       "  'URAM': 0,\n",
       "  'URAM_efficiency': 1,\n",
       "  'DSP': 0},\n",
       " 'ConvolutionInputGenerator_rtl_6': {'BRAM_18K': 0,\n",
       "  'BRAM_efficiency': 1,\n",
       "  'LUT': 1788,\n",
       "  'URAM': 0,\n",
       "  'URAM_efficiency': 1,\n",
       "  'DSP': 0},\n",
       " 'Pool_hls_2': {'BRAM_18K': 0,\n",
       "  'BRAM_efficiency': 1,\n",
       "  'LUT': 0,\n",
       "  'URAM': 0,\n",
       "  'URAM_efficiency': 1,\n",
       "  'DSP': 0},\n",
       " 'MVAU_hls_6': {'BRAM_18K': 1,\n",
       "  'BRAM_efficiency': 0.4444444444444444,\n",
       "  'LUT': 373,\n",
       "  'URAM': 0,\n",
       "  'URAM_efficiency': 1,\n",
       "  'DSP': 0},\n",
       " 'FMPadding_hls_4': {'BRAM_18K': 0,\n",
       "  'BRAM_efficiency': 1,\n",
       "  'LUT': 0,\n",
       "  'URAM': 0,\n",
       "  'URAM_efficiency': 1,\n",
       "  'DSP': 0},\n",
       " 'ConvolutionInputGenerator_rtl_7': {'BRAM_18K': 0,\n",
       "  'BRAM_efficiency': 1,\n",
       "  'LUT': 732,\n",
       "  'URAM': 0,\n",
       "  'URAM_efficiency': 1,\n",
       "  'DSP': 0},\n",
       " 'MVAU_hls_7': {'BRAM_18K': 5,\n",
       "  'BRAM_efficiency': 0.8,\n",
       "  'LUT': 573,\n",
       "  'URAM': 0,\n",
       "  'URAM_efficiency': 1,\n",
       "  'DSP': 0},\n",
       " 'MVAU_hls_8': {'BRAM_18K': 1,\n",
       "  'BRAM_efficiency': 0.4444444444444444,\n",
       "  'LUT': 373,\n",
       "  'URAM': 0,\n",
       "  'URAM_efficiency': 1,\n",
       "  'DSP': 0},\n",
       " 'FMPadding_hls_5': {'BRAM_18K': 0,\n",
       "  'BRAM_efficiency': 1,\n",
       "  'LUT': 0,\n",
       "  'URAM': 0,\n",
       "  'URAM_efficiency': 1,\n",
       "  'DSP': 0},\n",
       " 'ConvolutionInputGenerator_rtl_8': {'BRAM_18K': 0,\n",
       "  'BRAM_efficiency': 1,\n",
       "  'LUT': 732,\n",
       "  'URAM': 0,\n",
       "  'URAM_efficiency': 1,\n",
       "  'DSP': 0},\n",
       " 'MVAU_hls_9': {'BRAM_18K': 5,\n",
       "  'BRAM_efficiency': 0.8,\n",
       "  'LUT': 573,\n",
       "  'URAM': 0,\n",
       "  'URAM_efficiency': 1,\n",
       "  'DSP': 0},\n",
       " 'MVAU_hls_10': {'BRAM_18K': 1,\n",
       "  'BRAM_efficiency': 0.4444444444444444,\n",
       "  'LUT': 373,\n",
       "  'URAM': 0,\n",
       "  'URAM_efficiency': 1,\n",
       "  'DSP': 0},\n",
       " 'FMPadding_hls_6': {'BRAM_18K': 0,\n",
       "  'BRAM_efficiency': 1,\n",
       "  'LUT': 0,\n",
       "  'URAM': 0,\n",
       "  'URAM_efficiency': 1,\n",
       "  'DSP': 0},\n",
       " 'ConvolutionInputGenerator_rtl_9': {'BRAM_18K': 0,\n",
       "  'BRAM_efficiency': 1,\n",
       "  'LUT': 732,\n",
       "  'URAM': 0,\n",
       "  'URAM_efficiency': 1,\n",
       "  'DSP': 0},\n",
       " 'MVAU_hls_11': {'BRAM_18K': 5,\n",
       "  'BRAM_efficiency': 0.8,\n",
       "  'LUT': 573,\n",
       "  'URAM': 0,\n",
       "  'URAM_efficiency': 1,\n",
       "  'DSP': 0},\n",
       " 'ConvolutionInputGenerator_rtl_10': {'BRAM_18K': 0,\n",
       "  'BRAM_efficiency': 1,\n",
       "  'LUT': 10868,\n",
       "  'URAM': 0,\n",
       "  'URAM_efficiency': 1,\n",
       "  'DSP': 0},\n",
       " 'Pool_hls_3': {'BRAM_18K': 0,\n",
       "  'BRAM_efficiency': 1,\n",
       "  'LUT': 0,\n",
       "  'URAM': 0,\n",
       "  'URAM_efficiency': 1,\n",
       "  'DSP': 0},\n",
       " 'MVAU_hls_12': {'BRAM_18K': 1,\n",
       "  'BRAM_efficiency': 0.2222222222222222,\n",
       "  'LUT': 373,\n",
       "  'URAM': 0,\n",
       "  'URAM_efficiency': 1,\n",
       "  'DSP': 0},\n",
       " 'MVAU_hls_13': {'BRAM_18K': 1,\n",
       "  'BRAM_efficiency': 0.013888888888888888,\n",
       "  'LUT': 428,\n",
       "  'URAM': 0,\n",
       "  'URAM_efficiency': 1,\n",
       "  'DSP': 0}}"
      ]
     },
     "execution_count": 141,
     "metadata": {},
     "output_type": "execute_result"
    }
   ],
   "source": [
    "res_dict = model.analysis(partial(res_estimation, fpgapart=fpga_part))\n",
    "res_dict"
   ]
  },
  {
   "cell_type": "markdown",
   "id": "56af58db-1e53-499d-85a8-46d850fe1c65",
   "metadata": {},
   "source": [
    "### BRAM usage"
   ]
  },
  {
   "cell_type": "code",
   "execution_count": 142,
   "id": "c44a53ef-ef5e-489d-9d3b-693037b3bf89",
   "metadata": {},
   "outputs": [
    {
     "name": "stdout",
     "output_type": "stream",
     "text": [
      "MVAU_hls_0     3 BRAM\n",
      "MVAU_hls_1     2 BRAM\n",
      "MVAU_hls_2     1 BRAM\n",
      "MVAU_hls_3     2 BRAM\n",
      "MVAU_hls_4     1 BRAM\n",
      "MVAU_hls_5     4 BRAM\n",
      "MVAU_hls_6     1 BRAM\n",
      "MVAU_hls_7     5 BRAM\n",
      "MVAU_hls_8     1 BRAM\n",
      "MVAU_hls_9     5 BRAM\n",
      "MVAU_hls_10    1 BRAM\n",
      "MVAU_hls_11    5 BRAM\n",
      "MVAU_hls_12    1 BRAM\n",
      "MVAU_hls_13    1 BRAM\n",
      "\n",
      "Total BRAM = 33\n"
     ]
    }
   ],
   "source": [
    "BRAM = {key: res_dict[key][\"BRAM_18K\"] for key in res_dict.keys() if res_dict[key][\"BRAM_18K\"] != 0}\n",
    "\n",
    "n_BRAM = 0\n",
    "for k, v in BRAM.items():\n",
    "    print(f'{k:<14} {v} BRAM')\n",
    "    n_BRAM += v\n",
    "print(f'\\nTotal BRAM = {n_BRAM}')"
   ]
  },
  {
   "cell_type": "markdown",
   "id": "bb8a8dc5-9e74-4d50-a94f-210c42d72a6f",
   "metadata": {},
   "source": [
    "### LUT usage"
   ]
  },
  {
   "cell_type": "code",
   "execution_count": 143,
   "id": "5591a9f4-4124-4654-95cb-b530277ed8c6",
   "metadata": {},
   "outputs": [
    {
     "data": {
      "image/png": "[encoded data removed]",
      "text/plain": [
       "<Figure size 1000x500 with 1 Axes>"
      ]
     },
     "metadata": {},
     "output_type": "display_data"
    }
   ],
   "source": [
    "# Extracting LUTs from res_dict\n",
    "LUTs = [res_dict[key][\"LUT\"] for key in res_dict.keys()]   \n",
    "\n",
    "#Plotting the bar graph of each network layer with their corresponding LUT resource utilization\n",
    "fig = plt.figure(figsize = (10, 5))\n",
    "plt.bar(res_dict.keys(), LUTs, color ='green', width = 0.3)\n",
    "plt.xlabel(\"Network layers\")\n",
    "plt.xticks(rotation=90)\n",
    "plt.ylabel(\"Number of LUTs\")\n",
    "plt.title(\"No. of LUTs per layer PE=SIMD=1\")\n",
    "plt.show()"
   ]
  },
  {
   "cell_type": "markdown",
   "id": "36a4c943-2821-4e00-a7f5-0fc01e994bb4",
   "metadata": {},
   "source": [
    "### Total LUT usage"
   ]
  },
  {
   "cell_type": "code",
   "execution_count": 146,
   "id": "1c77975c-4263-459d-a5ab-db7ef0e1c6fa",
   "metadata": {},
   "outputs": [
    {
     "name": "stdout",
     "output_type": "stream",
     "text": [
      "Total number of LUTs = 33658.0\n"
     ]
    }
   ],
   "source": [
    "lut_total = 0\n",
    "for lut_val in LUTs:\n",
    "    lut_total += lut_val\n",
    "print(f'Total number of LUTs = {lut_total}')"
   ]
  },
  {
   "cell_type": "markdown",
   "id": "f3597a82-86be-44b0-8524-bc6bcc600c31",
   "metadata": {},
   "source": [
    "# Folding Factor Streamline: mvau_wwidth_max=10000 "
   ]
  },
  {
   "cell_type": "code",
   "execution_count": 114,
   "id": "56fd5ac7-d477-4977-936a-0dadb41669c3",
   "metadata": {},
   "outputs": [],
   "source": [
    "model = ModelWrapper(before_analysis_filename)"
   ]
  },
  {
   "cell_type": "code",
   "execution_count": 115,
   "id": "60bbdff5-c927-43b6-b3e2-5621d4191c3f",
   "metadata": {},
   "outputs": [],
   "source": [
    "model = model.transform(SetFolding(\n",
    "    target_cycles_per_frame=4000000,\n",
    "    mvau_wwidth_max=10000,\n",
    "    two_pass_relaxation=True)\n",
    ")"
   ]
  },
  {
   "cell_type": "code",
   "execution_count": 116,
   "id": "e56d4921-4011-442e-b0d7-35f22f40dd0c",
   "metadata": {},
   "outputs": [],
   "source": [
    "folding_2_filename = models_folder + '30_finn_folding_mvau10000.onnx'\n",
    "model.save(folding_2_filename)"
   ]
  },
  {
   "cell_type": "code",
   "execution_count": 117,
   "id": "803a8829-7d68-4aba-b9bc-9a2f0feb4e5e",
   "metadata": {},
   "outputs": [
    {
     "name": "stdout",
     "output_type": "stream",
     "text": [
      "Stopping http://0.0.0.0:8083\n",
      "Serving 'experiments/02_w4a8_folding/models/30_finn_folding_mvau10000.onnx' at http://0.0.0.0:8083\n"
     ]
    },
    {
     "data": {
      "text/html": [
       "\n",
       "        <iframe\n",
       "            width=\"100%\"\n",
       "            height=\"400\"\n",
       "            src=\"http://localhost:8083/\"\n",
       "            frameborder=\"0\"\n",
       "            allowfullscreen\n",
       "            \n",
       "        ></iframe>\n",
       "        "
      ],
      "text/plain": [
       "<IPython.lib.display.IFrame at 0x7fb9458fc3a0>"
      ]
     },
     "execution_count": 117,
     "metadata": {},
     "output_type": "execute_result"
    }
   ],
   "source": [
    "showInNetron(folding_2_filename)"
   ]
  },
  {
   "cell_type": "markdown",
   "id": "551e27fa-40c8-4584-a9d7-86a82956112b",
   "metadata": {},
   "source": [
    "## Estimated Cycles"
   ]
  },
  {
   "cell_type": "code",
   "execution_count": 118,
   "id": "a7d3b960-b87a-450e-9201-806f1a4cceb3",
   "metadata": {},
   "outputs": [
    {
     "data": {
      "text/plain": [
       "{'Thresholding_rtl_0': 150528,\n",
       " 'FMPadding_hls_0': 153228,\n",
       " 'ConvolutionInputGenerator_rtl_0': 1356117,\n",
       " 'MVAU_hls_0': 1605632,\n",
       " 'ConvolutionInputGenerator_rtl_1': 2008896,\n",
       " 'Pool_hls_0': 1605632,\n",
       " 'FMPadding_hls_1': 415872,\n",
       " 'ConvolutionInputGenerator_rtl_2': 3620064,\n",
       " 'MVAU_hls_1': 3612672,\n",
       " 'ConvolutionInputGenerator_rtl_3': 251360,\n",
       " 'Pool_hls_1': 200704,\n",
       " 'MVAU_hls_2': 802816,\n",
       " 'FMPadding_hls_2': 53824,\n",
       " 'ConvolutionInputGenerator_rtl_4': 453488,\n",
       " 'MVAU_hls_3': 3612672,\n",
       " 'MVAU_hls_4': 3211264,\n",
       " 'FMPadding_hls_3': 107648,\n",
       " 'ConvolutionInputGenerator_rtl_5': 906976,\n",
       " 'MVAU_hls_5': 3612672,\n",
       " 'ConvolutionInputGenerator_rtl_6': 257392,\n",
       " 'Pool_hls_2': 200704,\n",
       " 'MVAU_hls_6': 1605632,\n",
       " 'FMPadding_hls_4': 28800,\n",
       " 'ConvolutionInputGenerator_rtl_7': 227808,\n",
       " 'MVAU_hls_7': 3612672,\n",
       " 'MVAU_hls_8': 1605632,\n",
       " 'FMPadding_hls_5': 28800,\n",
       " 'ConvolutionInputGenerator_rtl_8': 227808,\n",
       " 'MVAU_hls_9': 3612672,\n",
       " 'MVAU_hls_10': 1605632,\n",
       " 'FMPadding_hls_6': 28800,\n",
       " 'ConvolutionInputGenerator_rtl_9': 227808,\n",
       " 'MVAU_hls_11': 3612672,\n",
       " 'ConvolutionInputGenerator_rtl_10': 150437,\n",
       " 'Pool_hls_3': 50176,\n",
       " 'MVAU_hls_12': 1024,\n",
       " 'MVAU_hls_13': 32}"
      ]
     },
     "execution_count": 118,
     "metadata": {},
     "output_type": "execute_result"
    }
   ],
   "source": [
    "cycles_dict = model.analysis(exp_cycles_per_layer)\n",
    "cycles_dict"
   ]
  },
  {
   "cell_type": "markdown",
   "id": "eb51a013-c637-4fc0-893f-233cf81950e0",
   "metadata": {},
   "source": [
    "### Total Latency"
   ]
  },
  {
   "cell_type": "code",
   "execution_count": 119,
   "id": "f4d91cf2-1d08-45a6-9ef3-7416218ba19f",
   "metadata": {},
   "outputs": [
    {
     "name": "stdout",
     "output_type": "stream",
     "text": [
      "Total latency = 44826566\n"
     ]
    }
   ],
   "source": [
    "latency = 0\n",
    "for val in cycles_dict.values():\n",
    "    latency += val\n",
    "print(f'Total latency = {latency}')"
   ]
  },
  {
   "cell_type": "markdown",
   "id": "59ce0a6a-43ac-47ca-9d05-d93724c2300c",
   "metadata": {},
   "source": [
    "### Plot Cycles"
   ]
  },
  {
   "cell_type": "code",
   "execution_count": 120,
   "id": "9afda4e3-4453-41cd-bdd8-d01f8b6fae91",
   "metadata": {},
   "outputs": [
    {
     "data": {
      "image/png": "[encoded data removed]",
      "text/plain": [
       "<Figure size 1000x500 with 1 Axes>"
      ]
     },
     "metadata": {},
     "output_type": "display_data"
    }
   ],
   "source": [
    "import matplotlib.pyplot as plt\n",
    "\n",
    "fig = plt.figure(figsize = (10, 5))\n",
    "plt.bar(cycles_dict.keys(), cycles_dict.values(), color ='blue', width = 0.3)\n",
    "plt.xlabel(\"Network layers\")\n",
    "plt.xticks(rotation=90)\n",
    "plt.ylabel(\"Number of clock cycles\")\n",
    "plt.title(\"Clock cycles per layer PE SIMD modified\")\n",
    "plt.show()"
   ]
  },
  {
   "cell_type": "markdown",
   "id": "207c45bb-2451-4ff5-abbc-9a7ce6445492",
   "metadata": {},
   "source": [
    "## Estimated Resources"
   ]
  },
  {
   "cell_type": "code",
   "execution_count": 121,
   "id": "f08c6b52-2d92-47fb-bece-be5b0a38c302",
   "metadata": {},
   "outputs": [
    {
     "data": {
      "text/plain": [
       "{'Thresholding_rtl_0': {'BRAM_18K': 0,\n",
       "  'BRAM_efficiency': 1,\n",
       "  'LUT': 128.0,\n",
       "  'URAM': 0,\n",
       "  'URAM_efficiency': 1,\n",
       "  'DSP': 0},\n",
       " 'FMPadding_hls_0': {'BRAM_18K': 0,\n",
       "  'BRAM_efficiency': 1,\n",
       "  'LUT': 0,\n",
       "  'URAM': 0,\n",
       "  'URAM_efficiency': 1,\n",
       "  'DSP': 0},\n",
       " 'ConvolutionInputGenerator_rtl_0': {'BRAM_18K': 0,\n",
       "  'BRAM_efficiency': 1,\n",
       "  'LUT': 588,\n",
       "  'URAM': 0,\n",
       "  'URAM_efficiency': 1,\n",
       "  'DSP': 0},\n",
       " 'MVAU_hls_0': {'BRAM_18K': 3,\n",
       "  'BRAM_efficiency': 0.0625,\n",
       "  'LUT': 2086,\n",
       "  'URAM': 0,\n",
       "  'URAM_efficiency': 1,\n",
       "  'DSP': 0},\n",
       " 'ConvolutionInputGenerator_rtl_1': {'BRAM_18K': 0,\n",
       "  'BRAM_efficiency': 1,\n",
       "  'LUT': 3308,\n",
       "  'URAM': 0,\n",
       "  'URAM_efficiency': 1,\n",
       "  'DSP': 0},\n",
       " 'Pool_hls_0': {'BRAM_18K': 0,\n",
       "  'BRAM_efficiency': 1,\n",
       "  'LUT': 0,\n",
       "  'URAM': 0,\n",
       "  'URAM_efficiency': 1,\n",
       "  'DSP': 0},\n",
       " 'FMPadding_hls_1': {'BRAM_18K': 0,\n",
       "  'BRAM_efficiency': 1,\n",
       "  'LUT': 0,\n",
       "  'URAM': 0,\n",
       "  'URAM_efficiency': 1,\n",
       "  'DSP': 0},\n",
       " 'ConvolutionInputGenerator_rtl_2': {'BRAM_18K': 0,\n",
       "  'BRAM_efficiency': 1,\n",
       "  'LUT': 1860,\n",
       "  'URAM': 0,\n",
       "  'URAM_efficiency': 1,\n",
       "  'DSP': 0},\n",
       " 'MVAU_hls_1': {'BRAM_18K': 2,\n",
       "  'BRAM_efficiency': 0.5,\n",
       "  'LUT': 1365,\n",
       "  'URAM': 0,\n",
       "  'URAM_efficiency': 1,\n",
       "  'DSP': 0},\n",
       " 'ConvolutionInputGenerator_rtl_3': {'BRAM_18K': 0,\n",
       "  'BRAM_efficiency': 1,\n",
       "  'LUT': 1052,\n",
       "  'URAM': 0,\n",
       "  'URAM_efficiency': 1,\n",
       "  'DSP': 0},\n",
       " 'Pool_hls_1': {'BRAM_18K': 0,\n",
       "  'BRAM_efficiency': 1,\n",
       "  'LUT': 0,\n",
       "  'URAM': 0,\n",
       "  'URAM_efficiency': 1,\n",
       "  'DSP': 0},\n",
       " 'MVAU_hls_2': {'BRAM_18K': 1,\n",
       "  'BRAM_efficiency': 0.05555555555555555,\n",
       "  'LUT': 371,\n",
       "  'URAM': 0,\n",
       "  'URAM_efficiency': 1,\n",
       "  'DSP': 0},\n",
       " 'FMPadding_hls_2': {'BRAM_18K': 0,\n",
       "  'BRAM_efficiency': 1,\n",
       "  'LUT': 0,\n",
       "  'URAM': 0,\n",
       "  'URAM_efficiency': 1,\n",
       "  'DSP': 0},\n",
       " 'ConvolutionInputGenerator_rtl_4': {'BRAM_18K': 0,\n",
       "  'BRAM_efficiency': 1,\n",
       "  'LUT': 708,\n",
       "  'URAM': 0,\n",
       "  'URAM_efficiency': 1,\n",
       "  'DSP': 0},\n",
       " 'MVAU_hls_3': {'BRAM_18K': 2,\n",
       "  'BRAM_efficiency': 0.5,\n",
       "  'LUT': 572,\n",
       "  'URAM': 0,\n",
       "  'URAM_efficiency': 1,\n",
       "  'DSP': 0},\n",
       " 'MVAU_hls_4': {'BRAM_18K': 1,\n",
       "  'BRAM_efficiency': 0.2222222222222222,\n",
       "  'LUT': 372,\n",
       "  'URAM': 0,\n",
       "  'URAM_efficiency': 1,\n",
       "  'DSP': 0},\n",
       " 'FMPadding_hls_3': {'BRAM_18K': 0,\n",
       "  'BRAM_efficiency': 1,\n",
       "  'LUT': 0,\n",
       "  'URAM': 0,\n",
       "  'URAM_efficiency': 1,\n",
       "  'DSP': 0},\n",
       " 'ConvolutionInputGenerator_rtl_5': {'BRAM_18K': 0,\n",
       "  'BRAM_efficiency': 1,\n",
       "  'LUT': 1108,\n",
       "  'URAM': 0,\n",
       "  'URAM_efficiency': 1,\n",
       "  'DSP': 0},\n",
       " 'MVAU_hls_5': {'BRAM_18K': 8,\n",
       "  'BRAM_efficiency': 0.5,\n",
       "  'LUT': 1365,\n",
       "  'URAM': 0,\n",
       "  'URAM_efficiency': 1,\n",
       "  'DSP': 0},\n",
       " 'ConvolutionInputGenerator_rtl_6': {'BRAM_18K': 0,\n",
       "  'BRAM_efficiency': 1,\n",
       "  'LUT': 1788,\n",
       "  'URAM': 0,\n",
       "  'URAM_efficiency': 1,\n",
       "  'DSP': 0},\n",
       " 'Pool_hls_2': {'BRAM_18K': 0,\n",
       "  'BRAM_efficiency': 1,\n",
       "  'LUT': 0,\n",
       "  'URAM': 0,\n",
       "  'URAM_efficiency': 1,\n",
       "  'DSP': 0},\n",
       " 'MVAU_hls_6': {'BRAM_18K': 1,\n",
       "  'BRAM_efficiency': 0.4444444444444444,\n",
       "  'LUT': 373,\n",
       "  'URAM': 0,\n",
       "  'URAM_efficiency': 1,\n",
       "  'DSP': 0},\n",
       " 'FMPadding_hls_4': {'BRAM_18K': 0,\n",
       "  'BRAM_efficiency': 1,\n",
       "  'LUT': 0,\n",
       "  'URAM': 0,\n",
       "  'URAM_efficiency': 1,\n",
       "  'DSP': 0},\n",
       " 'ConvolutionInputGenerator_rtl_7': {'BRAM_18K': 0,\n",
       "  'BRAM_efficiency': 1,\n",
       "  'LUT': 732,\n",
       "  'URAM': 0,\n",
       "  'URAM_efficiency': 1,\n",
       "  'DSP': 0},\n",
       " 'MVAU_hls_7': {'BRAM_18K': 5,\n",
       "  'BRAM_efficiency': 0.8,\n",
       "  'LUT': 573,\n",
       "  'URAM': 0,\n",
       "  'URAM_efficiency': 1,\n",
       "  'DSP': 0},\n",
       " 'MVAU_hls_8': {'BRAM_18K': 1,\n",
       "  'BRAM_efficiency': 0.4444444444444444,\n",
       "  'LUT': 373,\n",
       "  'URAM': 0,\n",
       "  'URAM_efficiency': 1,\n",
       "  'DSP': 0},\n",
       " 'FMPadding_hls_5': {'BRAM_18K': 0,\n",
       "  'BRAM_efficiency': 1,\n",
       "  'LUT': 0,\n",
       "  'URAM': 0,\n",
       "  'URAM_efficiency': 1,\n",
       "  'DSP': 0},\n",
       " 'ConvolutionInputGenerator_rtl_8': {'BRAM_18K': 0,\n",
       "  'BRAM_efficiency': 1,\n",
       "  'LUT': 732,\n",
       "  'URAM': 0,\n",
       "  'URAM_efficiency': 1,\n",
       "  'DSP': 0},\n",
       " 'MVAU_hls_9': {'BRAM_18K': 5,\n",
       "  'BRAM_efficiency': 0.8,\n",
       "  'LUT': 573,\n",
       "  'URAM': 0,\n",
       "  'URAM_efficiency': 1,\n",
       "  'DSP': 0},\n",
       " 'MVAU_hls_10': {'BRAM_18K': 1,\n",
       "  'BRAM_efficiency': 0.4444444444444444,\n",
       "  'LUT': 373,\n",
       "  'URAM': 0,\n",
       "  'URAM_efficiency': 1,\n",
       "  'DSP': 0},\n",
       " 'FMPadding_hls_6': {'BRAM_18K': 0,\n",
       "  'BRAM_efficiency': 1,\n",
       "  'LUT': 0,\n",
       "  'URAM': 0,\n",
       "  'URAM_efficiency': 1,\n",
       "  'DSP': 0},\n",
       " 'ConvolutionInputGenerator_rtl_9': {'BRAM_18K': 0,\n",
       "  'BRAM_efficiency': 1,\n",
       "  'LUT': 732,\n",
       "  'URAM': 0,\n",
       "  'URAM_efficiency': 1,\n",
       "  'DSP': 0},\n",
       " 'MVAU_hls_11': {'BRAM_18K': 5,\n",
       "  'BRAM_efficiency': 0.8,\n",
       "  'LUT': 573,\n",
       "  'URAM': 0,\n",
       "  'URAM_efficiency': 1,\n",
       "  'DSP': 0},\n",
       " 'ConvolutionInputGenerator_rtl_10': {'BRAM_18K': 0,\n",
       "  'BRAM_efficiency': 1,\n",
       "  'LUT': 10868,\n",
       "  'URAM': 0,\n",
       "  'URAM_efficiency': 1,\n",
       "  'DSP': 0},\n",
       " 'Pool_hls_3': {'BRAM_18K': 0,\n",
       "  'BRAM_efficiency': 1,\n",
       "  'LUT': 0,\n",
       "  'URAM': 0,\n",
       "  'URAM_efficiency': 1,\n",
       "  'DSP': 0},\n",
       " 'MVAU_hls_12': {'BRAM_18K': 1,\n",
       "  'BRAM_efficiency': 0.2222222222222222,\n",
       "  'LUT': 373,\n",
       "  'URAM': 0,\n",
       "  'URAM_efficiency': 1,\n",
       "  'DSP': 0},\n",
       " 'MVAU_hls_13': {'BRAM_18K': 1,\n",
       "  'BRAM_efficiency': 0.013888888888888888,\n",
       "  'LUT': 428,\n",
       "  'URAM': 0,\n",
       "  'URAM_efficiency': 1,\n",
       "  'DSP': 0}}"
      ]
     },
     "execution_count": 121,
     "metadata": {},
     "output_type": "execute_result"
    }
   ],
   "source": [
    "res_dict = model.analysis(partial(res_estimation, fpgapart=fpga_part))\n",
    "res_dict"
   ]
  },
  {
   "cell_type": "markdown",
   "id": "acac74a9-dacf-4023-a73e-449861770d42",
   "metadata": {},
   "source": [
    "### BRAM usage"
   ]
  },
  {
   "cell_type": "code",
   "execution_count": 122,
   "id": "6bbba835-ce20-4b6f-b799-61fdbf886aed",
   "metadata": {},
   "outputs": [
    {
     "name": "stdout",
     "output_type": "stream",
     "text": [
      "MVAU_hls_0     3 BRAM\n",
      "MVAU_hls_1     2 BRAM\n",
      "MVAU_hls_2     1 BRAM\n",
      "MVAU_hls_3     2 BRAM\n",
      "MVAU_hls_4     1 BRAM\n",
      "MVAU_hls_5     8 BRAM\n",
      "MVAU_hls_6     1 BRAM\n",
      "MVAU_hls_7     5 BRAM\n",
      "MVAU_hls_8     1 BRAM\n",
      "MVAU_hls_9     5 BRAM\n",
      "MVAU_hls_10    1 BRAM\n",
      "MVAU_hls_11    5 BRAM\n",
      "MVAU_hls_12    1 BRAM\n",
      "MVAU_hls_13    1 BRAM\n",
      "\n",
      "Total BRAM = 37\n"
     ]
    }
   ],
   "source": [
    "BRAM = {key: res_dict[key][\"BRAM_18K\"] for key in res_dict.keys() if res_dict[key][\"BRAM_18K\"] != 0}\n",
    "\n",
    "n_BRAM = 0\n",
    "for k, v in BRAM.items():\n",
    "    print(f'{k:<14} {v} BRAM')\n",
    "    n_BRAM += v\n",
    "print(f'\\nTotal BRAM = {n_BRAM}')"
   ]
  },
  {
   "cell_type": "markdown",
   "id": "edbbddcb-e686-437e-8f2a-eb35a29f683b",
   "metadata": {},
   "source": [
    "### LUT usage"
   ]
  },
  {
   "cell_type": "code",
   "execution_count": 123,
   "id": "0200c737-45a4-414b-8390-7bf77beb655a",
   "metadata": {
    "scrolled": true
   },
   "outputs": [
    {
     "data": {
      "image/png": "[encoded data removed]",
      "text/plain": [
       "<Figure size 1000x500 with 1 Axes>"
      ]
     },
     "metadata": {},
     "output_type": "display_data"
    }
   ],
   "source": [
    "# Extracting LUTs from res_dict\n",
    "LUTs = [res_dict[key][\"LUT\"] for key in res_dict.keys()]   \n",
    "\n",
    "#Plotting the bar graph of each network layer with their corresponding LUT resource utilization\n",
    "fig = plt.figure(figsize = (10, 5))\n",
    "plt.bar(res_dict.keys(), LUTs, color ='green', width = 0.3)\n",
    "plt.xlabel(\"Network layers\")\n",
    "plt.xticks(rotation=90)\n",
    "plt.ylabel(\"Number of LUTs\")\n",
    "plt.title(\"No. of LUTs per layer PE=SIMD=1\")\n",
    "plt.show()"
   ]
  },
  {
   "cell_type": "markdown",
   "id": "89922800-cffd-4bb5-9ef8-414fd57cd664",
   "metadata": {},
   "source": [
    "# Folding Factor Streamline: mvau_wwidth_max=80"
   ]
  },
  {
   "cell_type": "code",
   "execution_count": 124,
   "id": "4260dbc7-5e0f-45b1-ac3d-68384f3a363d",
   "metadata": {},
   "outputs": [],
   "source": [
    "model = ModelWrapper(before_analysis_filename)"
   ]
  },
  {
   "cell_type": "code",
   "execution_count": 125,
   "id": "5b547a27-b575-471a-ad39-7b55ea168790",
   "metadata": {},
   "outputs": [],
   "source": [
    "model = model.transform(SetFolding(\n",
    "    target_cycles_per_frame=4000000,\n",
    "    mvau_wwidth_max=80,\n",
    "    two_pass_relaxation=True)\n",
    ")"
   ]
  },
  {
   "cell_type": "code",
   "execution_count": 126,
   "id": "3ad7f534-a2f7-4307-bab3-3026ceee083f",
   "metadata": {},
   "outputs": [],
   "source": [
    "folding_3_filename = models_folder + '30_finn_folding_mvau80.onnx'\n",
    "model.save(folding_3_filename)"
   ]
  },
  {
   "cell_type": "code",
   "execution_count": 127,
   "id": "80201f5c-c38b-4b94-ad5b-563630e41e24",
   "metadata": {},
   "outputs": [
    {
     "name": "stdout",
     "output_type": "stream",
     "text": [
      "Stopping http://0.0.0.0:8083\n",
      "Serving 'experiments/02_w4a8_folding/models/30_finn_folding_mvau80.onnx' at http://0.0.0.0:8083\n"
     ]
    },
    {
     "data": {
      "text/html": [
       "\n",
       "        <iframe\n",
       "            width=\"100%\"\n",
       "            height=\"400\"\n",
       "            src=\"http://localhost:8083/\"\n",
       "            frameborder=\"0\"\n",
       "            allowfullscreen\n",
       "            \n",
       "        ></iframe>\n",
       "        "
      ],
      "text/plain": [
       "<IPython.lib.display.IFrame at 0x7fb868c43a60>"
      ]
     },
     "execution_count": 127,
     "metadata": {},
     "output_type": "execute_result"
    }
   ],
   "source": [
    "showInNetron(folding_3_filename)"
   ]
  },
  {
   "cell_type": "markdown",
   "id": "50cb3ff7-dd40-40ac-be98-d8fc89e36985",
   "metadata": {},
   "source": [
    "## Estimated Cycles"
   ]
  },
  {
   "cell_type": "code",
   "execution_count": 128,
   "id": "12270ba1-5f8f-4c8a-8fb1-03b03d0e86cb",
   "metadata": {},
   "outputs": [
    {
     "data": {
      "text/plain": [
       "{'Thresholding_rtl_0': 150528,\n",
       " 'FMPadding_hls_0': 153228,\n",
       " 'ConvolutionInputGenerator_rtl_0': 1356117,\n",
       " 'MVAU_hls_0': 1605632,\n",
       " 'ConvolutionInputGenerator_rtl_1': 2008896,\n",
       " 'Pool_hls_0': 1605632,\n",
       " 'FMPadding_hls_1': 415872,\n",
       " 'ConvolutionInputGenerator_rtl_2': 3620064,\n",
       " 'MVAU_hls_1': 3612672,\n",
       " 'ConvolutionInputGenerator_rtl_3': 251360,\n",
       " 'Pool_hls_1': 200704,\n",
       " 'MVAU_hls_2': 802816,\n",
       " 'FMPadding_hls_2': 53824,\n",
       " 'ConvolutionInputGenerator_rtl_4': 453488,\n",
       " 'MVAU_hls_3': 3612672,\n",
       " 'MVAU_hls_4': 3211264,\n",
       " 'FMPadding_hls_3': 107648,\n",
       " 'ConvolutionInputGenerator_rtl_5': 906976,\n",
       " 'MVAU_hls_5': 3612672,\n",
       " 'ConvolutionInputGenerator_rtl_6': 257392,\n",
       " 'Pool_hls_2': 200704,\n",
       " 'MVAU_hls_6': 1605632,\n",
       " 'FMPadding_hls_4': 28800,\n",
       " 'ConvolutionInputGenerator_rtl_7': 227808,\n",
       " 'MVAU_hls_7': 3612672,\n",
       " 'MVAU_hls_8': 1605632,\n",
       " 'FMPadding_hls_5': 28800,\n",
       " 'ConvolutionInputGenerator_rtl_8': 227808,\n",
       " 'MVAU_hls_9': 3612672,\n",
       " 'MVAU_hls_10': 1605632,\n",
       " 'FMPadding_hls_6': 28800,\n",
       " 'ConvolutionInputGenerator_rtl_9': 227808,\n",
       " 'MVAU_hls_11': 3612672,\n",
       " 'ConvolutionInputGenerator_rtl_10': 150437,\n",
       " 'Pool_hls_3': 50176,\n",
       " 'MVAU_hls_12': 1024,\n",
       " 'MVAU_hls_13': 32}"
      ]
     },
     "execution_count": 128,
     "metadata": {},
     "output_type": "execute_result"
    }
   ],
   "source": [
    "cycles_dict = model.analysis(exp_cycles_per_layer)\n",
    "cycles_dict"
   ]
  },
  {
   "cell_type": "markdown",
   "id": "2bee5b46-65a0-4c05-a141-bbcc150ad497",
   "metadata": {},
   "source": [
    "### Total Latency"
   ]
  },
  {
   "cell_type": "code",
   "execution_count": 129,
   "id": "d836556a-aa44-4974-9cfc-9f42a072dfce",
   "metadata": {},
   "outputs": [
    {
     "name": "stdout",
     "output_type": "stream",
     "text": [
      "Total latency = 44826566\n"
     ]
    }
   ],
   "source": [
    "latency = 0\n",
    "for val in cycles_dict.values():\n",
    "    latency += val\n",
    "print(f'Total latency = {latency}')"
   ]
  },
  {
   "cell_type": "markdown",
   "id": "ccd74f32-9e81-4a82-b50c-95e1efdae349",
   "metadata": {},
   "source": [
    "### Plot Cycles"
   ]
  },
  {
   "cell_type": "code",
   "execution_count": 130,
   "id": "754585e7-e703-4336-8261-726a4a1958b3",
   "metadata": {},
   "outputs": [
    {
     "data": {
      "image/png": "[encoded data removed]",
      "text/plain": [
       "<Figure size 1000x500 with 1 Axes>"
      ]
     },
     "metadata": {},
     "output_type": "display_data"
    }
   ],
   "source": [
    "import matplotlib.pyplot as plt\n",
    "\n",
    "fig = plt.figure(figsize = (10, 5))\n",
    "plt.bar(cycles_dict.keys(), cycles_dict.values(), color ='blue', width = 0.3)\n",
    "plt.xlabel(\"Network layers\")\n",
    "plt.xticks(rotation=90)\n",
    "plt.ylabel(\"Number of clock cycles\")\n",
    "plt.title(\"Clock cycles per layer PE SIMD modified\")\n",
    "plt.show()"
   ]
  },
  {
   "cell_type": "markdown",
   "id": "397f7c64-b3be-4990-b67d-9eb5903dc032",
   "metadata": {},
   "source": [
    "## Estimated Resources"
   ]
  },
  {
   "cell_type": "code",
   "execution_count": 131,
   "id": "e41b495e-1d61-45f5-be7c-c1ed118f6c43",
   "metadata": {},
   "outputs": [
    {
     "data": {
      "text/plain": [
       "{'Thresholding_rtl_0': {'BRAM_18K': 0,\n",
       "  'BRAM_efficiency': 1,\n",
       "  'LUT': 128.0,\n",
       "  'URAM': 0,\n",
       "  'URAM_efficiency': 1,\n",
       "  'DSP': 0},\n",
       " 'FMPadding_hls_0': {'BRAM_18K': 0,\n",
       "  'BRAM_efficiency': 1,\n",
       "  'LUT': 0,\n",
       "  'URAM': 0,\n",
       "  'URAM_efficiency': 1,\n",
       "  'DSP': 0},\n",
       " 'ConvolutionInputGenerator_rtl_0': {'BRAM_18K': 0,\n",
       "  'BRAM_efficiency': 1,\n",
       "  'LUT': 588,\n",
       "  'URAM': 0,\n",
       "  'URAM_efficiency': 1,\n",
       "  'DSP': 0},\n",
       " 'MVAU_hls_0': {'BRAM_18K': 3,\n",
       "  'BRAM_efficiency': 0.0625,\n",
       "  'LUT': 2086,\n",
       "  'URAM': 0,\n",
       "  'URAM_efficiency': 1,\n",
       "  'DSP': 0},\n",
       " 'ConvolutionInputGenerator_rtl_1': {'BRAM_18K': 0,\n",
       "  'BRAM_efficiency': 1,\n",
       "  'LUT': 3308,\n",
       "  'URAM': 0,\n",
       "  'URAM_efficiency': 1,\n",
       "  'DSP': 0},\n",
       " 'Pool_hls_0': {'BRAM_18K': 0,\n",
       "  'BRAM_efficiency': 1,\n",
       "  'LUT': 0,\n",
       "  'URAM': 0,\n",
       "  'URAM_efficiency': 1,\n",
       "  'DSP': 0},\n",
       " 'FMPadding_hls_1': {'BRAM_18K': 0,\n",
       "  'BRAM_efficiency': 1,\n",
       "  'LUT': 0,\n",
       "  'URAM': 0,\n",
       "  'URAM_efficiency': 1,\n",
       "  'DSP': 0},\n",
       " 'ConvolutionInputGenerator_rtl_2': {'BRAM_18K': 0,\n",
       "  'BRAM_efficiency': 1,\n",
       "  'LUT': 1860,\n",
       "  'URAM': 0,\n",
       "  'URAM_efficiency': 1,\n",
       "  'DSP': 0},\n",
       " 'MVAU_hls_1': {'BRAM_18K': 2,\n",
       "  'BRAM_efficiency': 0.5,\n",
       "  'LUT': 1365,\n",
       "  'URAM': 0,\n",
       "  'URAM_efficiency': 1,\n",
       "  'DSP': 0},\n",
       " 'ConvolutionInputGenerator_rtl_3': {'BRAM_18K': 0,\n",
       "  'BRAM_efficiency': 1,\n",
       "  'LUT': 1052,\n",
       "  'URAM': 0,\n",
       "  'URAM_efficiency': 1,\n",
       "  'DSP': 0},\n",
       " 'Pool_hls_1': {'BRAM_18K': 0,\n",
       "  'BRAM_efficiency': 1,\n",
       "  'LUT': 0,\n",
       "  'URAM': 0,\n",
       "  'URAM_efficiency': 1,\n",
       "  'DSP': 0},\n",
       " 'MVAU_hls_2': {'BRAM_18K': 1,\n",
       "  'BRAM_efficiency': 0.05555555555555555,\n",
       "  'LUT': 371,\n",
       "  'URAM': 0,\n",
       "  'URAM_efficiency': 1,\n",
       "  'DSP': 0},\n",
       " 'FMPadding_hls_2': {'BRAM_18K': 0,\n",
       "  'BRAM_efficiency': 1,\n",
       "  'LUT': 0,\n",
       "  'URAM': 0,\n",
       "  'URAM_efficiency': 1,\n",
       "  'DSP': 0},\n",
       " 'ConvolutionInputGenerator_rtl_4': {'BRAM_18K': 0,\n",
       "  'BRAM_efficiency': 1,\n",
       "  'LUT': 708,\n",
       "  'URAM': 0,\n",
       "  'URAM_efficiency': 1,\n",
       "  'DSP': 0},\n",
       " 'MVAU_hls_3': {'BRAM_18K': 2,\n",
       "  'BRAM_efficiency': 0.5,\n",
       "  'LUT': 572,\n",
       "  'URAM': 0,\n",
       "  'URAM_efficiency': 1,\n",
       "  'DSP': 0},\n",
       " 'MVAU_hls_4': {'BRAM_18K': 1,\n",
       "  'BRAM_efficiency': 0.2222222222222222,\n",
       "  'LUT': 372,\n",
       "  'URAM': 0,\n",
       "  'URAM_efficiency': 1,\n",
       "  'DSP': 0},\n",
       " 'FMPadding_hls_3': {'BRAM_18K': 0,\n",
       "  'BRAM_efficiency': 1,\n",
       "  'LUT': 0,\n",
       "  'URAM': 0,\n",
       "  'URAM_efficiency': 1,\n",
       "  'DSP': 0},\n",
       " 'ConvolutionInputGenerator_rtl_5': {'BRAM_18K': 0,\n",
       "  'BRAM_efficiency': 1,\n",
       "  'LUT': 1108,\n",
       "  'URAM': 0,\n",
       "  'URAM_efficiency': 1,\n",
       "  'DSP': 0},\n",
       " 'MVAU_hls_5': {'BRAM_18K': 8,\n",
       "  'BRAM_efficiency': 0.5,\n",
       "  'LUT': 1365,\n",
       "  'URAM': 0,\n",
       "  'URAM_efficiency': 1,\n",
       "  'DSP': 0},\n",
       " 'ConvolutionInputGenerator_rtl_6': {'BRAM_18K': 0,\n",
       "  'BRAM_efficiency': 1,\n",
       "  'LUT': 1788,\n",
       "  'URAM': 0,\n",
       "  'URAM_efficiency': 1,\n",
       "  'DSP': 0},\n",
       " 'Pool_hls_2': {'BRAM_18K': 0,\n",
       "  'BRAM_efficiency': 1,\n",
       "  'LUT': 0,\n",
       "  'URAM': 0,\n",
       "  'URAM_efficiency': 1,\n",
       "  'DSP': 0},\n",
       " 'MVAU_hls_6': {'BRAM_18K': 1,\n",
       "  'BRAM_efficiency': 0.4444444444444444,\n",
       "  'LUT': 373,\n",
       "  'URAM': 0,\n",
       "  'URAM_efficiency': 1,\n",
       "  'DSP': 0},\n",
       " 'FMPadding_hls_4': {'BRAM_18K': 0,\n",
       "  'BRAM_efficiency': 1,\n",
       "  'LUT': 0,\n",
       "  'URAM': 0,\n",
       "  'URAM_efficiency': 1,\n",
       "  'DSP': 0},\n",
       " 'ConvolutionInputGenerator_rtl_7': {'BRAM_18K': 0,\n",
       "  'BRAM_efficiency': 1,\n",
       "  'LUT': 732,\n",
       "  'URAM': 0,\n",
       "  'URAM_efficiency': 1,\n",
       "  'DSP': 0},\n",
       " 'MVAU_hls_7': {'BRAM_18K': 5,\n",
       "  'BRAM_efficiency': 0.8,\n",
       "  'LUT': 573,\n",
       "  'URAM': 0,\n",
       "  'URAM_efficiency': 1,\n",
       "  'DSP': 0},\n",
       " 'MVAU_hls_8': {'BRAM_18K': 1,\n",
       "  'BRAM_efficiency': 0.4444444444444444,\n",
       "  'LUT': 373,\n",
       "  'URAM': 0,\n",
       "  'URAM_efficiency': 1,\n",
       "  'DSP': 0},\n",
       " 'FMPadding_hls_5': {'BRAM_18K': 0,\n",
       "  'BRAM_efficiency': 1,\n",
       "  'LUT': 0,\n",
       "  'URAM': 0,\n",
       "  'URAM_efficiency': 1,\n",
       "  'DSP': 0},\n",
       " 'ConvolutionInputGenerator_rtl_8': {'BRAM_18K': 0,\n",
       "  'BRAM_efficiency': 1,\n",
       "  'LUT': 732,\n",
       "  'URAM': 0,\n",
       "  'URAM_efficiency': 1,\n",
       "  'DSP': 0},\n",
       " 'MVAU_hls_9': {'BRAM_18K': 5,\n",
       "  'BRAM_efficiency': 0.8,\n",
       "  'LUT': 573,\n",
       "  'URAM': 0,\n",
       "  'URAM_efficiency': 1,\n",
       "  'DSP': 0},\n",
       " 'MVAU_hls_10': {'BRAM_18K': 1,\n",
       "  'BRAM_efficiency': 0.4444444444444444,\n",
       "  'LUT': 373,\n",
       "  'URAM': 0,\n",
       "  'URAM_efficiency': 1,\n",
       "  'DSP': 0},\n",
       " 'FMPadding_hls_6': {'BRAM_18K': 0,\n",
       "  'BRAM_efficiency': 1,\n",
       "  'LUT': 0,\n",
       "  'URAM': 0,\n",
       "  'URAM_efficiency': 1,\n",
       "  'DSP': 0},\n",
       " 'ConvolutionInputGenerator_rtl_9': {'BRAM_18K': 0,\n",
       "  'BRAM_efficiency': 1,\n",
       "  'LUT': 732,\n",
       "  'URAM': 0,\n",
       "  'URAM_efficiency': 1,\n",
       "  'DSP': 0},\n",
       " 'MVAU_hls_11': {'BRAM_18K': 5,\n",
       "  'BRAM_efficiency': 0.8,\n",
       "  'LUT': 573,\n",
       "  'URAM': 0,\n",
       "  'URAM_efficiency': 1,\n",
       "  'DSP': 0},\n",
       " 'ConvolutionInputGenerator_rtl_10': {'BRAM_18K': 0,\n",
       "  'BRAM_efficiency': 1,\n",
       "  'LUT': 10868,\n",
       "  'URAM': 0,\n",
       "  'URAM_efficiency': 1,\n",
       "  'DSP': 0},\n",
       " 'Pool_hls_3': {'BRAM_18K': 0,\n",
       "  'BRAM_efficiency': 1,\n",
       "  'LUT': 0,\n",
       "  'URAM': 0,\n",
       "  'URAM_efficiency': 1,\n",
       "  'DSP': 0},\n",
       " 'MVAU_hls_12': {'BRAM_18K': 1,\n",
       "  'BRAM_efficiency': 0.2222222222222222,\n",
       "  'LUT': 373,\n",
       "  'URAM': 0,\n",
       "  'URAM_efficiency': 1,\n",
       "  'DSP': 0},\n",
       " 'MVAU_hls_13': {'BRAM_18K': 1,\n",
       "  'BRAM_efficiency': 0.013888888888888888,\n",
       "  'LUT': 428,\n",
       "  'URAM': 0,\n",
       "  'URAM_efficiency': 1,\n",
       "  'DSP': 0}}"
      ]
     },
     "execution_count": 131,
     "metadata": {},
     "output_type": "execute_result"
    }
   ],
   "source": [
    "res_dict = model.analysis(partial(res_estimation, fpgapart=fpga_part))\n",
    "res_dict"
   ]
  },
  {
   "cell_type": "markdown",
   "id": "82c97303-6acf-450b-8589-a065fbd846e4",
   "metadata": {},
   "source": [
    "### BRAM usage"
   ]
  },
  {
   "cell_type": "code",
   "execution_count": 132,
   "id": "1087aac8-a8cf-41b9-a7e2-0fade3e5ad5c",
   "metadata": {},
   "outputs": [
    {
     "name": "stdout",
     "output_type": "stream",
     "text": [
      "MVAU_hls_0     3 BRAM\n",
      "MVAU_hls_1     2 BRAM\n",
      "MVAU_hls_2     1 BRAM\n",
      "MVAU_hls_3     2 BRAM\n",
      "MVAU_hls_4     1 BRAM\n",
      "MVAU_hls_5     8 BRAM\n",
      "MVAU_hls_6     1 BRAM\n",
      "MVAU_hls_7     5 BRAM\n",
      "MVAU_hls_8     1 BRAM\n",
      "MVAU_hls_9     5 BRAM\n",
      "MVAU_hls_10    1 BRAM\n",
      "MVAU_hls_11    5 BRAM\n",
      "MVAU_hls_12    1 BRAM\n",
      "MVAU_hls_13    1 BRAM\n",
      "\n",
      "Total BRAM = 37\n"
     ]
    }
   ],
   "source": [
    "BRAM = {key: res_dict[key][\"BRAM_18K\"] for key in res_dict.keys() if res_dict[key][\"BRAM_18K\"] != 0}\n",
    "\n",
    "n_BRAM = 0\n",
    "for k, v in BRAM.items():\n",
    "    print(f'{k:<14} {v} BRAM')\n",
    "    n_BRAM += v\n",
    "print(f'\\nTotal BRAM = {n_BRAM}')"
   ]
  },
  {
   "cell_type": "markdown",
   "id": "66645857-2bce-45aa-8f80-9913edb92813",
   "metadata": {},
   "source": [
    "### LUT usage"
   ]
  },
  {
   "cell_type": "code",
   "execution_count": 133,
   "id": "5bc4063b-946f-4761-862c-38deeb0f38d3",
   "metadata": {
    "scrolled": true
   },
   "outputs": [
    {
     "data": {
      "image/png": "[encoded data removed]",
      "text/plain": [
       "<Figure size 1000x500 with 1 Axes>"
      ]
     },
     "metadata": {},
     "output_type": "display_data"
    }
   ],
   "source": [
    "# Extracting LUTs from res_dict\n",
    "LUTs = [res_dict[key][\"LUT\"] for key in res_dict.keys()]   \n",
    "\n",
    "#Plotting the bar graph of each network layer with their corresponding LUT resource utilization\n",
    "fig = plt.figure(figsize = (10, 5))\n",
    "plt.bar(res_dict.keys(), LUTs, color ='green', width = 0.3)\n",
    "plt.xlabel(\"Network layers\")\n",
    "plt.xticks(rotation=90)\n",
    "plt.ylabel(\"Number of LUTs\")\n",
    "plt.title(\"No. of LUTs per layer PE=SIMD=1\")\n",
    "plt.show()"
   ]
  }
 ],
 "metadata": {
  "kernelspec": {
   "display_name": "Python 3 (ipykernel)",
   "language": "python",
   "name": "python3"
  },
  "language_info": {
   "codemirror_mode": {
    "name": "ipython",
    "version": 3
   },
   "file_extension": ".py",
   "mimetype": "text/x-python",
   "name": "python",
   "nbconvert_exporter": "python",
   "pygments_lexer": "ipython3",
   "version": "3.10.12"
  }
 },
 "nbformat": 4,
 "nbformat_minor": 5
}
