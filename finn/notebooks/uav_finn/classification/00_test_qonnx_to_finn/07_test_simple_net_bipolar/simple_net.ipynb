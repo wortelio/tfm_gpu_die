{
 "cells": [
  {
   "cell_type": "code",
   "execution_count": 1,
   "id": "f88cce8c-efa4-4434-8606-bbdd3eb1b43c",
   "metadata": {},
   "outputs": [],
   "source": [
    "#!pip install torchinfo"
   ]
  },
  {
   "cell_type": "code",
   "execution_count": 1,
   "id": "663fc823-cba4-4c64-b961-f01e20984a8b",
   "metadata": {},
   "outputs": [],
   "source": [
    "import config\n",
    "from model_CNV import CNV\n",
    "\n",
    "import numpy as np\n",
    "import torch\n",
    "from torchinfo import summary\n",
    "\n",
    "from brevitas.export import export_qonnx"
   ]
  },
  {
   "cell_type": "code",
   "execution_count": 2,
   "id": "034a5aed-5afe-4947-94f0-0c7842ed3738",
   "metadata": {},
   "outputs": [],
   "source": [
    "simple_cnv = CNV().to('cuda')\n",
    "simple_cnv.eval();"
   ]
  },
  {
   "cell_type": "code",
   "execution_count": 3,
   "id": "f7b60e81-1a15-4e46-8f48-558715d75e1d",
   "metadata": {},
   "outputs": [
    {
     "name": "stderr",
     "output_type": "stream",
     "text": [
      "/usr/local/lib/python3.10/dist-packages/torch/_tensor.py:1255: UserWarning: Named tensors and all their associated APIs are an experimental feature and subject to change. Please do not use them for anything important until they are released as stable. (Triggered internally at ../c10/core/TensorImpl.h:1758.)\n",
      "  return super(Tensor, self).rename(names)\n"
     ]
    },
    {
     "data": {
      "text/plain": [
       "========================================================================================================================\n",
       "Layer (type:depth-idx)                                                 Output Shape              Param #\n",
       "========================================================================================================================\n",
       "CNV                                                                    [1, 2]                    --\n",
       "├─ModuleList: 1-13                                                     --                        (recursive)\n",
       "│    └─QuantIdentity: 2-1                                              [1, 3, 56, 56]            --\n",
       "│    │    └─ActQuantProxyFromInjector: 3-1                             [1, 3, 56, 56]            --\n",
       "│    │    └─ActQuantProxyFromInjector: 3-2                             [1, 3, 56, 56]            --\n",
       "├─ModuleList: 1-14                                                     --                        (recursive)\n",
       "│    └─QuantLinear: 2-23                                               --                        (recursive)\n",
       "│    │    └─WeightQuantProxyFromInjector: 3-28                         --                        (recursive)\n",
       "├─ModuleList: 1-13                                                     --                        (recursive)\n",
       "│    └─QuantIdentity: 2-5                                              --                        --\n",
       "│    │    └─ActQuantProxyFromInjector: 3-6                             --                        --\n",
       "├─ModuleList: 1-14                                                     --                        (recursive)\n",
       "│    └─QuantReLU: 2-19                                                 --                        (recursive)\n",
       "│    │    └─ActQuantProxyFromInjector: 3-23                            --                        (recursive)\n",
       "├─ModuleList: 1-13                                                     --                        (recursive)\n",
       "│    └─QuantIdentity: 2-5                                              --                        --\n",
       "│    │    └─ActQuantProxyFromInjector: 3-6                             --                        --\n",
       "│    └─QuantConv2d: 2-6                                                [1, 32, 56, 56]           --\n",
       "│    │    └─ActQuantProxyFromInjector: 3-7                             [1, 3, 56, 56]            --\n",
       "│    │    └─WeightQuantProxyFromInjector: 3-8                          [32, 3, 3, 3]             864\n",
       "├─ModuleList: 1-14                                                     --                        (recursive)\n",
       "│    └─QuantLinear: 2-23                                               --                        (recursive)\n",
       "│    │    └─WeightQuantProxyFromInjector: 3-28                         --                        (recursive)\n",
       "├─ModuleList: 1-13                                                     --                        (recursive)\n",
       "│    └─QuantConv2d: 2-8                                                --                        (recursive)\n",
       "│    │    └─WeightQuantProxyFromInjector: 3-10                         --                        (recursive)\n",
       "│    │    └─ActQuantProxyFromInjector: 3-11                            [1, 32, 56, 56]           --\n",
       "│    └─BatchNorm2d: 2-9                                                [1, 32, 56, 56]           64\n",
       "│    └─QuantReLU: 2-10                                                 [1, 32, 56, 56]           --\n",
       "│    │    └─ActQuantProxyFromInjector: 3-12                            [1, 32, 56, 56]           --\n",
       "│    │    └─ActQuantProxyFromInjector: 3-13                            [1, 32, 56, 56]           1\n",
       "├─ModuleList: 1-14                                                     --                        (recursive)\n",
       "│    └─QuantReLU: 2-19                                                 --                        (recursive)\n",
       "│    │    └─ActQuantProxyFromInjector: 3-23                            --                        (recursive)\n",
       "├─ModuleList: 1-13                                                     --                        (recursive)\n",
       "│    └─QuantReLU: 2-12                                                 --                        (recursive)\n",
       "│    │    └─ActQuantProxyFromInjector: 3-15                            --                        (recursive)\n",
       "│    └─MaxPool2d: 2-13                                                 [1, 32, 28, 28]           --\n",
       "│    └─QuantConv2d: 2-14                                               [1, 16, 28, 28]           --\n",
       "│    │    └─ActQuantProxyFromInjector: 3-16                            [1, 32, 28, 28]           --\n",
       "│    │    └─WeightQuantProxyFromInjector: 3-17                         [16, 32, 3, 3]            4,608\n",
       "├─ModuleList: 1-14                                                     --                        (recursive)\n",
       "│    └─QuantLinear: 2-23                                               --                        (recursive)\n",
       "│    │    └─WeightQuantProxyFromInjector: 3-28                         --                        (recursive)\n",
       "├─ModuleList: 1-13                                                     --                        (recursive)\n",
       "│    └─QuantConv2d: 2-16                                               --                        (recursive)\n",
       "│    │    └─WeightQuantProxyFromInjector: 3-19                         --                        (recursive)\n",
       "│    │    └─ActQuantProxyFromInjector: 3-20                            [1, 16, 28, 28]           --\n",
       "│    └─BatchNorm2d: 2-17                                               [1, 16, 28, 28]           32\n",
       "│    └─QuantReLU: 2-18                                                 [1, 16, 28, 28]           --\n",
       "│    │    └─ActQuantProxyFromInjector: 3-21                            [1, 16, 28, 28]           --\n",
       "│    │    └─ActQuantProxyFromInjector: 3-22                            [1, 16, 28, 28]           1\n",
       "├─ModuleList: 1-14                                                     --                        (recursive)\n",
       "│    └─QuantReLU: 2-19                                                 --                        (recursive)\n",
       "│    │    └─ActQuantProxyFromInjector: 3-23                            --                        (recursive)\n",
       "├─ModuleList: 1-13                                                     --                        (recursive)\n",
       "│    └─QuantReLU: 2-20                                                 --                        (recursive)\n",
       "│    │    └─ActQuantProxyFromInjector: 3-24                            --                        (recursive)\n",
       "│    └─TruncAvgPool2d: 2-21                                            [1, 16, 1, 1]             --\n",
       "│    │    └─TruncQuantProxyFromInjector: 3-25                          [1, 16, 1, 1]             --\n",
       "├─ModuleList: 1-14                                                     --                        (recursive)\n",
       "│    └─QuantLinear: 2-22                                               [1, 16]                   --\n",
       "│    │    └─ActQuantProxyFromInjector: 3-26                            [1, 16]                   --\n",
       "│    │    └─WeightQuantProxyFromInjector: 3-27                         [16, 16]                  256\n",
       "│    └─QuantLinear: 2-23                                               --                        (recursive)\n",
       "│    │    └─WeightQuantProxyFromInjector: 3-28                         --                        (recursive)\n",
       "│    └─QuantLinear: 2-24                                               --                        (recursive)\n",
       "│    │    └─WeightQuantProxyFromInjector: 3-29                         --                        (recursive)\n",
       "│    │    └─ActQuantProxyFromInjector: 3-30                            [1, 16]                   --\n",
       "│    └─BatchNorm1d: 2-25                                               [1, 16]                   32\n",
       "│    └─QuantReLU: 2-26                                                 [1, 16]                   --\n",
       "│    │    └─ActQuantProxyFromInjector: 3-31                            [1, 16]                   --\n",
       "│    │    └─ActQuantProxyFromInjector: 3-32                            [1, 16]                   1\n",
       "│    └─QuantLinear: 2-27                                               [1, 2]                    --\n",
       "│    │    └─ActQuantProxyFromInjector: 3-33                            [1, 16]                   --\n",
       "│    │    └─WeightQuantProxyFromInjector: 3-34                         [2, 16]                   32\n",
       "│    │    └─ActQuantProxyFromInjector: 3-35                            [1, 2]                    --\n",
       "│    └─TensorNorm: 2-28                                                [1, 2]                    2\n",
       "├─QuantIdentity: 1-15                                                  [1, 2]                    --\n",
       "│    └─ActQuantProxyFromInjector: 2-29                                 [1, 2]                    --\n",
       "│    └─ActQuantProxyFromInjector: 2-30                                 [1, 2]                    --\n",
       "│    │    └─FusedActivationQuantProxy: 3-36                            [1, 2]                    --\n",
       "========================================================================================================================\n",
       "Total params: 5,893\n",
       "Trainable params: 5,893\n",
       "Non-trainable params: 0\n",
       "Total mult-adds (M): 0.00\n",
       "========================================================================================================================\n",
       "Input size (MB): 0.04\n",
       "Forward/backward pass size (MB): 0.90\n",
       "Params size (MB): 0.00\n",
       "Estimated Total Size (MB): 0.94\n",
       "========================================================================================================================"
      ]
     },
     "execution_count": 3,
     "metadata": {},
     "output_type": "execute_result"
    }
   ],
   "source": [
    "summary(simple_cnv, input_size=(1, 3, 56, 56))"
   ]
  },
  {
   "cell_type": "code",
   "execution_count": 84,
   "id": "0b21df2a-cd68-4a40-9b6d-843f7e304932",
   "metadata": {},
   "outputs": [
    {
     "data": {
      "text/plain": [
       "torch.Size([1, 3, 56, 56])"
      ]
     },
     "execution_count": 84,
     "metadata": {},
     "output_type": "execute_result"
    }
   ],
   "source": [
    "test_ip_numpy = np.random.randint(low=0, high=256, size=(1, 3, 56, 56))\n",
    "test_ip = torch.tensor((test_ip_numpy / 255.), dtype=torch.float32).to('cuda')\n",
    "test_ip.shape"
   ]
  },
  {
   "cell_type": "code",
   "execution_count": 85,
   "id": "cf2a4448-7041-4fb2-bfca-3c384bb229d5",
   "metadata": {},
   "outputs": [],
   "source": [
    "simple_cnv.eval()\n",
    "test_out = simple_cnv(test_ip)"
   ]
  },
  {
   "cell_type": "code",
   "execution_count": 86,
   "id": "82e9b42c-952c-40a6-a731-8675a54cbc95",
   "metadata": {},
   "outputs": [
    {
     "name": "stdout",
     "output_type": "stream",
     "text": [
      "torch.Size([1, 2])\n"
     ]
    }
   ],
   "source": [
    "print(test_out.shape)"
   ]
  },
  {
   "cell_type": "code",
   "execution_count": 87,
   "id": "1360da0c-7a64-4c91-86c4-75425779e1a7",
   "metadata": {},
   "outputs": [],
   "source": [
    "simple_cnv.to('cpu');"
   ]
  },
  {
   "cell_type": "code",
   "execution_count": 88,
   "id": "56884858-a0bf-4bd7-b9c9-d9ca54f747c3",
   "metadata": {},
   "outputs": [],
   "source": [
    "export_qonnx(simple_cnv, torch.randn((1, 3, 56, 56)), 'simple_cpu.onnx');"
   ]
  },
  {
   "cell_type": "code",
   "execution_count": 89,
   "id": "2147a4e7-33a4-4098-98bc-c369775e9525",
   "metadata": {},
   "outputs": [],
   "source": [
    "simple_cnv.to('cuda')\n",
    "export_qonnx(simple_cnv, torch.randn((1, 3, 56, 56)).to('cuda'), 'simple_cuda.onnx');"
   ]
  },
  {
   "cell_type": "code",
   "execution_count": 90,
   "id": "d8ce3e63-8792-41a6-8b31-486dca7d843a",
   "metadata": {},
   "outputs": [],
   "source": [
    "from finn.util.visualization import showSrc, showInNetron\n",
    "from qonnx.util.cleanup import cleanup as qonnx_cleanup"
   ]
  },
  {
   "cell_type": "code",
   "execution_count": 91,
   "id": "7286b856-b37b-42ab-a07b-b01ae0f11a90",
   "metadata": {},
   "outputs": [],
   "source": [
    "qonnx_cleanup('simple_cuda.onnx', out_file='01_clean.onnx')"
   ]
  },
  {
   "cell_type": "code",
   "execution_count": 13,
   "id": "9d097b8c-37d6-4745-afab-b924eb46f04a",
   "metadata": {},
   "outputs": [
    {
     "name": "stdout",
     "output_type": "stream",
     "text": [
      "Stopping http://0.0.0.0:8083\n",
      "Serving 'simple_cuda.onnx' at http://0.0.0.0:8083\n"
     ]
    },
    {
     "data": {
      "text/html": [
       "\n",
       "        <iframe\n",
       "            width=\"100%\"\n",
       "            height=\"400\"\n",
       "            src=\"http://localhost:8083/\"\n",
       "            frameborder=\"0\"\n",
       "            allowfullscreen\n",
       "            \n",
       "        ></iframe>\n",
       "        "
      ],
      "text/plain": [
       "<IPython.lib.display.IFrame at 0x7fb212d8ba30>"
      ]
     },
     "execution_count": 13,
     "metadata": {},
     "output_type": "execute_result"
    }
   ],
   "source": [
    "showInNetron('simple_cuda.onnx')"
   ]
  },
  {
   "cell_type": "code",
   "execution_count": 14,
   "id": "32a2061d-8a23-478c-bfe8-57dd0bff238c",
   "metadata": {},
   "outputs": [
    {
     "name": "stdout",
     "output_type": "stream",
     "text": [
      "Stopping http://0.0.0.0:8083\n",
      "Serving '01_clean.onnx' at http://0.0.0.0:8083\n"
     ]
    },
    {
     "data": {
      "text/html": [
       "\n",
       "        <iframe\n",
       "            width=\"100%\"\n",
       "            height=\"400\"\n",
       "            src=\"http://localhost:8083/\"\n",
       "            frameborder=\"0\"\n",
       "            allowfullscreen\n",
       "            \n",
       "        ></iframe>\n",
       "        "
      ],
      "text/plain": [
       "<IPython.lib.display.IFrame at 0x7fb212d70be0>"
      ]
     },
     "execution_count": 14,
     "metadata": {},
     "output_type": "execute_result"
    }
   ],
   "source": [
    "showInNetron('01_clean.onnx')"
   ]
  },
  {
   "cell_type": "markdown",
   "id": "268926d7-65d1-4c9d-9788-7ec8eb978435",
   "metadata": {},
   "source": [
    "# Compare All Outputs"
   ]
  },
  {
   "cell_type": "code",
   "execution_count": 15,
   "id": "ea79dcc1-8ec3-408f-bb60-f8c3f66c5e57",
   "metadata": {},
   "outputs": [],
   "source": [
    "from qonnx.core.modelwrapper import ModelWrapper\n",
    "import qonnx.core.onnx_exec as oxe"
   ]
  },
  {
   "cell_type": "code",
   "execution_count": 92,
   "id": "30887ba6-8764-469c-9baf-6dbd14026f7f",
   "metadata": {},
   "outputs": [],
   "source": [
    "test_ip = np.random.randint(low=0, high=256, size=(1, 3, 56, 56)) / 255.\n",
    "test_ip = test_ip.astype(np.float32)\n",
    "test_ip_torch = torch.tensor(test_ip, dtype=torch.float32).to('cuda')"
   ]
  },
  {
   "cell_type": "code",
   "execution_count": 93,
   "id": "e14d7505-e04b-4945-ab7d-ff7c0c63eae5",
   "metadata": {},
   "outputs": [
    {
     "data": {
      "text/plain": [
       "tensor([[ 1., -1.]], device='cuda:0', grad_fn=<MulBackward0>)"
      ]
     },
     "execution_count": 93,
     "metadata": {},
     "output_type": "execute_result"
    }
   ],
   "source": [
    "torch_out = simple_cnv(test_ip_torch)\n",
    "torch_out"
   ]
  },
  {
   "cell_type": "code",
   "execution_count": 94,
   "id": "d268852a-115c-4bdc-af3b-843a68d632fc",
   "metadata": {},
   "outputs": [],
   "source": [
    "ori_model = ModelWrapper('simple_cuda.onnx')\n",
    "clean_model = ModelWrapper('01_clean.onnx')"
   ]
  },
  {
   "cell_type": "code",
   "execution_count": 95,
   "id": "702e4cd7-6570-4abd-8f68-93b3404f934d",
   "metadata": {},
   "outputs": [],
   "source": [
    "input_dict = {\"global_in\": test_ip}\n",
    "# output_dict = oxe.execute_onnx(ori_model, input_dict)\n",
    "# produced_ori_qonnx = output_dict[list(output_dict.keys())[0]]\n",
    "# produced_ori_qonnx"
   ]
  },
  {
   "cell_type": "code",
   "execution_count": 96,
   "id": "b56d5680-a591-47d3-8995-ad60d7f27eff",
   "metadata": {},
   "outputs": [
    {
     "data": {
      "text/plain": [
       "array([[ 1., -1.]], dtype=float32)"
      ]
     },
     "execution_count": 96,
     "metadata": {},
     "output_type": "execute_result"
    }
   ],
   "source": [
    "output_dict = oxe.execute_onnx(clean_model, input_dict)\n",
    "produced_clean_qonnx = output_dict[list(output_dict.keys())[0]]\n",
    "produced_clean_qonnx"
   ]
  },
  {
   "cell_type": "markdown",
   "id": "d4a391c5-af4f-4426-ac7f-345bf0a1310b",
   "metadata": {},
   "source": [
    "# Convert to FINN"
   ]
  },
  {
   "cell_type": "code",
   "execution_count": 24,
   "id": "3392e878-1927-4360-8d58-75402552e991",
   "metadata": {},
   "outputs": [],
   "source": [
    "from finn.transformation.qonnx.convert_qonnx_to_finn import ConvertQONNXtoFINN\n",
    "from qonnx.transformation.infer_shapes import InferShapes\n",
    "from qonnx.transformation.fold_constants import FoldConstants\n",
    "from qonnx.transformation.general import GiveReadableTensorNames, GiveUniqueNodeNames, RemoveStaticGraphInputs"
   ]
  },
  {
   "cell_type": "code",
   "execution_count": 25,
   "id": "66c7d74d-229d-44e8-a0c4-35bb38951a23",
   "metadata": {},
   "outputs": [],
   "source": [
    "model = ModelWrapper('01_clean.onnx')\n",
    "model = model.transform(ConvertQONNXtoFINN())\n",
    "model = model.transform(InferShapes())\n",
    "model = model.transform(FoldConstants())\n",
    "model = model.transform(GiveUniqueNodeNames())\n",
    "model = model.transform(GiveReadableTensorNames())\n",
    "model = model.transform(RemoveStaticGraphInputs())"
   ]
  },
  {
   "cell_type": "code",
   "execution_count": 26,
   "id": "2fea521a-b39a-405d-8181-cf306a167b20",
   "metadata": {},
   "outputs": [],
   "source": [
    "model.save('02_finn_tidy.onnx')"
   ]
  },
  {
   "cell_type": "code",
   "execution_count": 27,
   "id": "f93b85f6-2a27-46ed-92fa-d2fa605fadae",
   "metadata": {},
   "outputs": [
    {
     "name": "stdout",
     "output_type": "stream",
     "text": [
      "Stopping http://0.0.0.0:8083\n",
      "Serving '02_finn_tidy.onnx' at http://0.0.0.0:8083\n"
     ]
    },
    {
     "data": {
      "text/html": [
       "\n",
       "        <iframe\n",
       "            width=\"100%\"\n",
       "            height=\"400\"\n",
       "            src=\"http://localhost:8083/\"\n",
       "            frameborder=\"0\"\n",
       "            allowfullscreen\n",
       "            \n",
       "        ></iframe>\n",
       "        "
      ],
      "text/plain": [
       "<IPython.lib.display.IFrame at 0x7fb201e6a560>"
      ]
     },
     "execution_count": 27,
     "metadata": {},
     "output_type": "execute_result"
    }
   ],
   "source": [
    "showInNetron('02_finn_tidy.onnx')"
   ]
  },
  {
   "cell_type": "markdown",
   "id": "1a074441-ef76-4836-bcaa-769972124fe3",
   "metadata": {},
   "source": [
    "# PreProcess"
   ]
  },
  {
   "cell_type": "code",
   "execution_count": 28,
   "id": "173b59a6-8897-4d57-b25e-d818d4ca65dc",
   "metadata": {},
   "outputs": [
    {
     "name": "stderr",
     "output_type": "stream",
     "text": [
      "/home/gmoreno/uav/finn/deps/qonnx/src/qonnx/transformation/infer_data_layouts.py:127: UserWarning: Assuming 4D input is NCHW\n",
      "  warnings.warn(\"Assuming 4D input is NCHW\")\n"
     ]
    }
   ],
   "source": [
    "from finn.util.pytorch import ToTensor\n",
    "from qonnx.transformation.merge_onnx_models import MergeONNXModels\n",
    "from qonnx.core.datatype import DataType\n",
    "\n",
    "model = ModelWrapper('02_finn_tidy.onnx')\n",
    "global_inp_name = model.graph.input[0].name\n",
    "ishape = model.get_tensor_shape(global_inp_name)\n",
    "# preprocessing: torchvision's ToTensor divides uint8 inputs by 255\n",
    "totensor_pyt = ToTensor()\n",
    "chkpt_preproc_name = \"./prepro_node.onnx\"\n",
    "export_qonnx(totensor_pyt, torch.randn(ishape), chkpt_preproc_name)\n",
    "qonnx_cleanup(chkpt_preproc_name, out_file=chkpt_preproc_name)\n",
    "pre_model = ModelWrapper(chkpt_preproc_name)\n",
    "pre_model = pre_model.transform(ConvertQONNXtoFINN())\n",
    "\n",
    "# join preprocessing and core model\n",
    "model = model.transform(MergeONNXModels(pre_model))\n",
    "# add input quantization annotation: UINT8 for all BNN-PYNQ models\n",
    "global_inp_name = model.graph.input[0].name\n",
    "model.set_tensor_datatype(global_inp_name, DataType[\"UINT8\"])"
   ]
  },
  {
   "cell_type": "code",
   "execution_count": 29,
   "id": "b7e5dc96-c4eb-41a5-97c2-ce71beba0e22",
   "metadata": {},
   "outputs": [],
   "source": [
    "model.save('03_finn_prepro.onnx')"
   ]
  },
  {
   "cell_type": "code",
   "execution_count": 30,
   "id": "0e8591e7-8702-420d-80d6-f194390de5b2",
   "metadata": {},
   "outputs": [
    {
     "name": "stdout",
     "output_type": "stream",
     "text": [
      "Stopping http://0.0.0.0:8083\n",
      "Serving '03_finn_prepro.onnx' at http://0.0.0.0:8083\n"
     ]
    },
    {
     "data": {
      "text/html": [
       "\n",
       "        <iframe\n",
       "            width=\"100%\"\n",
       "            height=\"400\"\n",
       "            src=\"http://localhost:8083/\"\n",
       "            frameborder=\"0\"\n",
       "            allowfullscreen\n",
       "            \n",
       "        ></iframe>\n",
       "        "
      ],
      "text/plain": [
       "<IPython.lib.display.IFrame at 0x7fb212d71510>"
      ]
     },
     "execution_count": 30,
     "metadata": {},
     "output_type": "execute_result"
    }
   ],
   "source": [
    "showInNetron('03_finn_prepro.onnx')"
   ]
  },
  {
   "cell_type": "code",
   "execution_count": 32,
   "id": "9c9bb0bd-a9b6-42ee-b792-9bbb3b4801b4",
   "metadata": {},
   "outputs": [],
   "source": [
    "from qonnx.transformation.infer_datatypes import InferDataTypes"
   ]
  },
  {
   "cell_type": "code",
   "execution_count": 33,
   "id": "6eb18cc8-eef6-45ee-a2be-597ef399a011",
   "metadata": {},
   "outputs": [],
   "source": [
    "model = model.transform(InferShapes())\n",
    "model = model.transform(FoldConstants())\n",
    "model = model.transform(GiveUniqueNodeNames())\n",
    "model = model.transform(GiveReadableTensorNames())\n",
    "model = model.transform(InferDataTypes())\n",
    "model = model.transform(RemoveStaticGraphInputs())\n",
    "model.save('03_finn_prepro.onnx')"
   ]
  },
  {
   "cell_type": "code",
   "execution_count": 34,
   "id": "3d380614-f8d7-4b2b-86df-106ba43ab349",
   "metadata": {},
   "outputs": [
    {
     "name": "stdout",
     "output_type": "stream",
     "text": [
      "Stopping http://0.0.0.0:8083\n",
      "Serving '03_finn_prepro.onnx' at http://0.0.0.0:8083\n"
     ]
    },
    {
     "data": {
      "text/html": [
       "\n",
       "        <iframe\n",
       "            width=\"100%\"\n",
       "            height=\"400\"\n",
       "            src=\"http://localhost:8083/\"\n",
       "            frameborder=\"0\"\n",
       "            allowfullscreen\n",
       "            \n",
       "        ></iframe>\n",
       "        "
      ],
      "text/plain": [
       "<IPython.lib.display.IFrame at 0x7fb20185e0b0>"
      ]
     },
     "execution_count": 34,
     "metadata": {},
     "output_type": "execute_result"
    }
   ],
   "source": [
    "showInNetron('03_finn_prepro.onnx')"
   ]
  },
  {
   "cell_type": "markdown",
   "id": "57348031-895c-4f9f-a0d1-22ed7969f60f",
   "metadata": {},
   "source": [
    "# Streamline"
   ]
  },
  {
   "cell_type": "code",
   "execution_count": 35,
   "id": "8100a86a-9402-4991-85ab-3b06b9d70da4",
   "metadata": {},
   "outputs": [],
   "source": [
    "from finn.transformation.streamline import Streamline\n",
    "from qonnx.transformation.lower_convs_to_matmul import LowerConvsToMatMul\n",
    "from qonnx.transformation.bipolar_to_xnor import ConvertBipolarMatMulToXnorPopcount\n",
    "import finn.transformation.streamline.absorb as absorb\n",
    "from finn.transformation.streamline.reorder import MakeMaxPoolNHWC, MoveScalarLinearPastInvariants\n",
    "from qonnx.transformation.infer_data_layouts import InferDataLayouts\n",
    "from qonnx.transformation.general import RemoveUnusedTensors"
   ]
  },
  {
   "cell_type": "code",
   "execution_count": 36,
   "id": "2aeeda85-a2cb-4210-86a8-4bddcc03acee",
   "metadata": {},
   "outputs": [],
   "source": [
    "model = ModelWrapper('03_finn_prepro.onnx')\n",
    "model = model.transform(MoveScalarLinearPastInvariants())\n",
    "model = model.transform(Streamline())"
   ]
  },
  {
   "cell_type": "code",
   "execution_count": 37,
   "id": "2e193eb3-6b2e-4752-bb21-c9404c65eecf",
   "metadata": {},
   "outputs": [],
   "source": [
    "model.save('04_finn_MoveScalarLinearPastInvariants.onnx')"
   ]
  },
  {
   "cell_type": "code",
   "execution_count": 38,
   "id": "5ab482f9-a66a-4ba6-8f2f-894f53192f3a",
   "metadata": {},
   "outputs": [
    {
     "name": "stdout",
     "output_type": "stream",
     "text": [
      "Stopping http://0.0.0.0:8083\n",
      "Serving '04_finn_MoveScalarLinearPastInvariants.onnx' at http://0.0.0.0:8083\n"
     ]
    },
    {
     "data": {
      "text/html": [
       "\n",
       "        <iframe\n",
       "            width=\"100%\"\n",
       "            height=\"400\"\n",
       "            src=\"http://localhost:8083/\"\n",
       "            frameborder=\"0\"\n",
       "            allowfullscreen\n",
       "            \n",
       "        ></iframe>\n",
       "        "
      ],
      "text/plain": [
       "<IPython.lib.display.IFrame at 0x7fb212d71270>"
      ]
     },
     "execution_count": 38,
     "metadata": {},
     "output_type": "execute_result"
    }
   ],
   "source": [
    "showInNetron('04_finn_MoveScalarLinearPastInvariants.onnx')"
   ]
  },
  {
   "cell_type": "code",
   "execution_count": 39,
   "id": "1139916f-5a18-4898-8c54-cfd61dcc2467",
   "metadata": {},
   "outputs": [],
   "source": [
    "model = ModelWrapper('04_finn_MoveScalarLinearPastInvariants.onnx')\n",
    "model = model.transform(LowerConvsToMatMul())\n",
    "model = model.transform(Streamline())"
   ]
  },
  {
   "cell_type": "code",
   "execution_count": 40,
   "id": "88d08402-80c4-410c-be42-8b03be34035e",
   "metadata": {},
   "outputs": [],
   "source": [
    "model.save('05_finn_lowering.onnx')"
   ]
  },
  {
   "cell_type": "code",
   "execution_count": 41,
   "id": "9ae85ef6-9285-4259-9ad8-9166dc924f36",
   "metadata": {},
   "outputs": [
    {
     "name": "stdout",
     "output_type": "stream",
     "text": [
      "Stopping http://0.0.0.0:8083\n",
      "Serving '05_finn_lowering.onnx' at http://0.0.0.0:8083\n"
     ]
    },
    {
     "data": {
      "text/html": [
       "\n",
       "        <iframe\n",
       "            width=\"100%\"\n",
       "            height=\"400\"\n",
       "            src=\"http://localhost:8083/\"\n",
       "            frameborder=\"0\"\n",
       "            allowfullscreen\n",
       "            \n",
       "        ></iframe>\n",
       "        "
      ],
      "text/plain": [
       "<IPython.lib.display.IFrame at 0x7fb2019fe8c0>"
      ]
     },
     "execution_count": 41,
     "metadata": {},
     "output_type": "execute_result"
    }
   ],
   "source": [
    "showInNetron('05_finn_lowering.onnx')"
   ]
  },
  {
   "cell_type": "markdown",
   "id": "c27694d8-2731-49f4-90d4-de3488a518f1",
   "metadata": {},
   "source": [
    "# MaxPool"
   ]
  },
  {
   "cell_type": "code",
   "execution_count": 42,
   "id": "c4852974-ee17-4584-9911-593a9cc20625",
   "metadata": {},
   "outputs": [],
   "source": [
    "model = ModelWrapper('05_finn_lowering.onnx')\n",
    "model = model.transform(MakeMaxPoolNHWC())\n",
    "model = model.transform(absorb.AbsorbTransposeIntoMultiThreshold())\n",
    "model = model.transform(Streamline())"
   ]
  },
  {
   "cell_type": "code",
   "execution_count": 43,
   "id": "c7d46345-6bdd-4bf5-8c66-1671be917419",
   "metadata": {},
   "outputs": [],
   "source": [
    "model.save('06_finn_maxpool.onnx')"
   ]
  },
  {
   "cell_type": "code",
   "execution_count": 44,
   "id": "71101b43-c50b-443b-9f51-b507530822c5",
   "metadata": {},
   "outputs": [
    {
     "name": "stdout",
     "output_type": "stream",
     "text": [
      "Stopping http://0.0.0.0:8083\n",
      "Serving '06_finn_maxpool.onnx' at http://0.0.0.0:8083\n"
     ]
    },
    {
     "data": {
      "text/html": [
       "\n",
       "        <iframe\n",
       "            width=\"100%\"\n",
       "            height=\"400\"\n",
       "            src=\"http://localhost:8083/\"\n",
       "            frameborder=\"0\"\n",
       "            allowfullscreen\n",
       "            \n",
       "        ></iframe>\n",
       "        "
      ],
      "text/plain": [
       "<IPython.lib.display.IFrame at 0x7fb212d72a70>"
      ]
     },
     "execution_count": 44,
     "metadata": {},
     "output_type": "execute_result"
    }
   ],
   "source": [
    "showInNetron('06_finn_maxpool.onnx')"
   ]
  },
  {
   "cell_type": "markdown",
   "id": "18628c6f-1d92-4a8f-823a-5aa9702086b6",
   "metadata": {},
   "source": [
    "# QuantAvgPool"
   ]
  },
  {
   "cell_type": "code",
   "execution_count": 45,
   "id": "853978c3-2d02-472b-b4eb-ffe31b218674",
   "metadata": {},
   "outputs": [],
   "source": [
    "from qonnx.transformation.change_datalayout import ChangeDataLayoutQuantAvgPool2d"
   ]
  },
  {
   "cell_type": "code",
   "execution_count": 46,
   "id": "c4cbfd28-892e-457f-8335-9d304658c54e",
   "metadata": {},
   "outputs": [],
   "source": [
    "model = ModelWrapper('06_finn_maxpool.onnx')\n",
    "model = model.transform(ChangeDataLayoutQuantAvgPool2d())\n",
    "model = model.transform(Streamline())"
   ]
  },
  {
   "cell_type": "code",
   "execution_count": 47,
   "id": "00de9ee7-755c-415a-b7d5-92455ca9dbcf",
   "metadata": {},
   "outputs": [],
   "source": [
    "model.save('07_finn_globalavgpool.onnx')"
   ]
  },
  {
   "cell_type": "code",
   "execution_count": 48,
   "id": "fd934ce2-c7fc-4743-820d-621d7890d189",
   "metadata": {},
   "outputs": [
    {
     "name": "stdout",
     "output_type": "stream",
     "text": [
      "Stopping http://0.0.0.0:8083\n",
      "Serving '07_finn_globalavgpool.onnx' at http://0.0.0.0:8083\n"
     ]
    },
    {
     "data": {
      "text/html": [
       "\n",
       "        <iframe\n",
       "            width=\"100%\"\n",
       "            height=\"400\"\n",
       "            src=\"http://localhost:8083/\"\n",
       "            frameborder=\"0\"\n",
       "            allowfullscreen\n",
       "            \n",
       "        ></iframe>\n",
       "        "
      ],
      "text/plain": [
       "<IPython.lib.display.IFrame at 0x7fb2019fe4d0>"
      ]
     },
     "execution_count": 48,
     "metadata": {},
     "output_type": "execute_result"
    }
   ],
   "source": [
    "showInNetron('07_finn_globalavgpool.onnx')"
   ]
  },
  {
   "cell_type": "markdown",
   "id": "628a0b25-d4df-4cc1-ad56-1eee86d1d528",
   "metadata": {},
   "source": [
    "# Absorb Consecutive Transposes"
   ]
  },
  {
   "cell_type": "code",
   "execution_count": 49,
   "id": "0d339e7c-d277-4bfd-8c2e-300ad021339a",
   "metadata": {},
   "outputs": [],
   "source": [
    "model = ModelWrapper('07_finn_globalavgpool.onnx')\n",
    "model = model.transform(absorb.AbsorbConsecutiveTransposes())\n",
    "model = model.transform(Streamline())"
   ]
  },
  {
   "cell_type": "code",
   "execution_count": 50,
   "id": "2ee9b818-2d37-4cae-be5e-db707c2e020c",
   "metadata": {},
   "outputs": [],
   "source": [
    "model.save('08_finn_absorbtransposes.onnx')"
   ]
  },
  {
   "cell_type": "code",
   "execution_count": 51,
   "id": "3d6ffae4-c9b1-44ab-b3f5-72a78e502fdf",
   "metadata": {},
   "outputs": [
    {
     "name": "stdout",
     "output_type": "stream",
     "text": [
      "Stopping http://0.0.0.0:8083\n",
      "Serving '08_finn_absorbtransposes.onnx' at http://0.0.0.0:8083\n"
     ]
    },
    {
     "data": {
      "text/html": [
       "\n",
       "        <iframe\n",
       "            width=\"100%\"\n",
       "            height=\"400\"\n",
       "            src=\"http://localhost:8083/\"\n",
       "            frameborder=\"0\"\n",
       "            allowfullscreen\n",
       "            \n",
       "        ></iframe>\n",
       "        "
      ],
      "text/plain": [
       "<IPython.lib.display.IFrame at 0x7fb201a06d40>"
      ]
     },
     "execution_count": 51,
     "metadata": {},
     "output_type": "execute_result"
    }
   ],
   "source": [
    "showInNetron('08_finn_absorbtransposes.onnx')"
   ]
  },
  {
   "cell_type": "markdown",
   "id": "56df0da3-3af3-4173-979d-d20457c77635",
   "metadata": {},
   "source": [
    "# Transpose into Multithreshold\n",
    "\n",
    "Creo que no es necesario, porque no hay ninguna operación así"
   ]
  },
  {
   "cell_type": "code",
   "execution_count": 53,
   "id": "ab835731-94d5-46d0-89ee-edc7c36d62c6",
   "metadata": {},
   "outputs": [],
   "source": [
    "# model = ModelWrapper('08_finn_absorbtransposes.onnx')\n",
    "# model = model.transform(absorb.AbsorbTransposeIntoMultiThreshold())\n",
    "# model = model.transform(Streamline())"
   ]
  },
  {
   "cell_type": "code",
   "execution_count": 54,
   "id": "35d4cd2b-8c77-46af-b9e0-cf83ec0e5951",
   "metadata": {},
   "outputs": [],
   "source": [
    "# model.save('09_finn_transposeMultiThres.onnx')"
   ]
  },
  {
   "cell_type": "code",
   "execution_count": 52,
   "id": "21bb0d5e-2491-4262-bd52-0a3f4ff686e7",
   "metadata": {},
   "outputs": [],
   "source": [
    "# showInNetron('09_finn_transposeMultiThres.onnx')"
   ]
  },
  {
   "cell_type": "markdown",
   "id": "3eb38327-33bd-4506-ac2c-323c8c632f0f",
   "metadata": {},
   "source": [
    "# HW Layers"
   ]
  },
  {
   "cell_type": "code",
   "execution_count": 53,
   "id": "024e8167-ceaa-4a34-b120-460e903a89e8",
   "metadata": {},
   "outputs": [],
   "source": [
    "from finn.util.basic import pynq_part_map\n",
    "# change this if you have a different PYNQ board, see list above\n",
    "pynq_board = \"Pynq-Z1\"\n",
    "fpga_part = pynq_part_map[pynq_board]\n",
    "target_clk_ns = 10\n",
    "\n",
    "import finn.transformation.fpgadataflow.convert_to_hw_layers as to_hw\n",
    "from finn.transformation.fpgadataflow.create_dataflow_partition import (\n",
    "    CreateDataflowPartition,\n",
    ")\n",
    "from finn.transformation.move_reshape import RemoveCNVtoFCFlatten\n",
    "from finn.transformation.fpgadataflow.specialize_layers import SpecializeLayers\n",
    "from qonnx.custom_op.registry import getCustomOp\n",
    "from qonnx.transformation.infer_data_layouts import InferDataLayouts"
   ]
  },
  {
   "cell_type": "code",
   "execution_count": 54,
   "id": "e0a4d861-4f25-4fd1-bc1d-5257f5e5d8db",
   "metadata": {},
   "outputs": [],
   "source": [
    "model = ModelWrapper('08_finn_absorbtransposes.onnx')\n",
    "#model = ModelWrapper('09_finn_transposeMultiThres.onnx')\n",
    "model = model.transform(to_hw.InferQuantizedMatrixVectorActivation())\n",
    "\n",
    "# input quantization (if any) to standalone thresholding\n",
    "model = model.transform(to_hw.InferThresholdingLayer())\n",
    "model = model.transform(to_hw.InferConvInpGen())\n",
    "model = model.transform(to_hw.InferStreamingMaxPool())\n",
    "\n",
    "# get rid of Tranpose -> Tranpose identity seq\n",
    "model = model.transform(absorb.AbsorbConsecutiveTransposes())\n",
    "# infer tensor data layouts\n",
    "model = model.transform(InferDataLayouts())\n",
    "\n",
    "model = model.transform(Streamline())"
   ]
  },
  {
   "cell_type": "code",
   "execution_count": 55,
   "id": "3f6581c2-b961-4544-97bf-d67acc6c0040",
   "metadata": {},
   "outputs": [],
   "source": [
    "model.save('10_fin_hw_01.onnx')"
   ]
  },
  {
   "cell_type": "code",
   "execution_count": 56,
   "id": "b23bd3ad-9e1c-44b9-8107-f867688694f3",
   "metadata": {},
   "outputs": [
    {
     "name": "stdout",
     "output_type": "stream",
     "text": [
      "Stopping http://0.0.0.0:8083\n",
      "Serving '10_fin_hw_01.onnx' at http://0.0.0.0:8083\n"
     ]
    },
    {
     "data": {
      "text/html": [
       "\n",
       "        <iframe\n",
       "            width=\"100%\"\n",
       "            height=\"400\"\n",
       "            src=\"http://localhost:8083/\"\n",
       "            frameborder=\"0\"\n",
       "            allowfullscreen\n",
       "            \n",
       "        ></iframe>\n",
       "        "
      ],
      "text/plain": [
       "<IPython.lib.display.IFrame at 0x7fb2012a53c0>"
      ]
     },
     "execution_count": 56,
     "metadata": {},
     "output_type": "execute_result"
    }
   ],
   "source": [
    "showInNetron('10_fin_hw_01.onnx')"
   ]
  },
  {
   "cell_type": "markdown",
   "id": "404786f2-fa22-4aaf-b00b-c6d89288a64d",
   "metadata": {},
   "source": [
    "# Global Average to HW"
   ]
  },
  {
   "cell_type": "code",
   "execution_count": 57,
   "id": "7876a55f-e67f-40e4-a153-fc7993368ed4",
   "metadata": {},
   "outputs": [],
   "source": [
    "model = ModelWrapper('10_fin_hw_01.onnx')\n",
    "model = model.transform(to_hw.InferPool())\n",
    "model = model.transform(to_hw.InferConvInpGen())\n",
    "model = model.transform(InferShapes())\n",
    "model = model.transform(GiveUniqueNodeNames())\n",
    "model = model.transform(GiveReadableTensorNames())\n",
    "model = model.transform(Streamline())"
   ]
  },
  {
   "cell_type": "code",
   "execution_count": 58,
   "id": "beb3424e-7c2c-449e-beb9-1fd844490d97",
   "metadata": {},
   "outputs": [],
   "source": [
    "model.save('11_finn_hw_quantavgpool.onnx')"
   ]
  },
  {
   "cell_type": "code",
   "execution_count": 59,
   "id": "f90a7007-b855-46a1-a0da-15d5a2587043",
   "metadata": {},
   "outputs": [
    {
     "name": "stdout",
     "output_type": "stream",
     "text": [
      "Stopping http://0.0.0.0:8083\n",
      "Serving '11_finn_hw_quantavgpool.onnx' at http://0.0.0.0:8083\n"
     ]
    },
    {
     "data": {
      "text/html": [
       "\n",
       "        <iframe\n",
       "            width=\"100%\"\n",
       "            height=\"400\"\n",
       "            src=\"http://localhost:8083/\"\n",
       "            frameborder=\"0\"\n",
       "            allowfullscreen\n",
       "            \n",
       "        ></iframe>\n",
       "        "
      ],
      "text/plain": [
       "<IPython.lib.display.IFrame at 0x7fb201a070d0>"
      ]
     },
     "execution_count": 59,
     "metadata": {},
     "output_type": "execute_result"
    }
   ],
   "source": [
    "showInNetron('11_finn_hw_quantavgpool.onnx')"
   ]
  },
  {
   "cell_type": "markdown",
   "id": "bcdcc1dd-d576-40c9-bd26-91b508bb05c1",
   "metadata": {},
   "source": [
    "# Flatten"
   ]
  },
  {
   "cell_type": "code",
   "execution_count": 60,
   "id": "73f3f2f0-5a39-4378-b8b6-df9219abd2e4",
   "metadata": {},
   "outputs": [],
   "source": [
    "from finn.transformation.move_reshape import RemoveCNVtoFCFlatten"
   ]
  },
  {
   "cell_type": "code",
   "execution_count": 61,
   "id": "bc6c2264-77df-4eb6-891f-87df15a6a018",
   "metadata": {},
   "outputs": [],
   "source": [
    "model = ModelWrapper('11_finn_hw_quantavgpool.onnx')\n",
    "model = model.transform(RemoveCNVtoFCFlatten())\n",
    "model = model.transform(InferDataLayouts())\n",
    "model = model.transform(RemoveUnusedTensors())\n",
    "model = model.transform(Streamline())"
   ]
  },
  {
   "cell_type": "code",
   "execution_count": 62,
   "id": "f4972ccf-4c2e-4c0e-8eb6-994915ff0f39",
   "metadata": {},
   "outputs": [],
   "source": [
    "model.save('12_finn_hw_flatten.onnx')"
   ]
  },
  {
   "cell_type": "code",
   "execution_count": 63,
   "id": "31191b93-2d4d-4fed-8f85-18173fd857dc",
   "metadata": {},
   "outputs": [
    {
     "name": "stdout",
     "output_type": "stream",
     "text": [
      "Stopping http://0.0.0.0:8083\n",
      "Serving '12_finn_hw_flatten.onnx' at http://0.0.0.0:8083\n"
     ]
    },
    {
     "data": {
      "text/html": [
       "\n",
       "        <iframe\n",
       "            width=\"100%\"\n",
       "            height=\"400\"\n",
       "            src=\"http://localhost:8083/\"\n",
       "            frameborder=\"0\"\n",
       "            allowfullscreen\n",
       "            \n",
       "        ></iframe>\n",
       "        "
      ],
      "text/plain": [
       "<IPython.lib.display.IFrame at 0x7fb201e6aaa0>"
      ]
     },
     "execution_count": 63,
     "metadata": {},
     "output_type": "execute_result"
    }
   ],
   "source": [
    "showInNetron('12_finn_hw_flatten.onnx')"
   ]
  },
  {
   "cell_type": "markdown",
   "id": "4c05f983-59b8-4e86-bb05-6abfac036a86",
   "metadata": {},
   "source": [
    "# Dataflow Partition"
   ]
  },
  {
   "cell_type": "code",
   "execution_count": 64,
   "id": "bef29c49-b692-4833-bdce-86b7c661e1e5",
   "metadata": {},
   "outputs": [],
   "source": [
    "model = ModelWrapper('12_finn_hw_flatten.onnx')\n",
    "parent_model = model.transform(CreateDataflowPartition())"
   ]
  },
  {
   "cell_type": "code",
   "execution_count": 65,
   "id": "b12ea7e0-99c8-47dd-ae6d-2d78617c0c89",
   "metadata": {},
   "outputs": [],
   "source": [
    "parent_model.save('20_dataflow_parent.onnx')"
   ]
  },
  {
   "cell_type": "code",
   "execution_count": 66,
   "id": "b8dcd845-4380-4573-b822-d081ddd1c6f5",
   "metadata": {},
   "outputs": [
    {
     "name": "stdout",
     "output_type": "stream",
     "text": [
      "Stopping http://0.0.0.0:8083\n",
      "Serving '20_dataflow_parent.onnx' at http://0.0.0.0:8083\n"
     ]
    },
    {
     "data": {
      "text/html": [
       "\n",
       "        <iframe\n",
       "            width=\"100%\"\n",
       "            height=\"400\"\n",
       "            src=\"http://localhost:8083/\"\n",
       "            frameborder=\"0\"\n",
       "            allowfullscreen\n",
       "            \n",
       "        ></iframe>\n",
       "        "
      ],
      "text/plain": [
       "<IPython.lib.display.IFrame at 0x7fb2019107f0>"
      ]
     },
     "execution_count": 66,
     "metadata": {},
     "output_type": "execute_result"
    }
   ],
   "source": [
    "showInNetron('20_dataflow_parent.onnx')"
   ]
  },
  {
   "cell_type": "code",
   "execution_count": 67,
   "id": "72d9ac0b-66e7-4369-9845-4e40e395d0e6",
   "metadata": {},
   "outputs": [],
   "source": [
    "sdp_node = parent_model.get_nodes_by_op_type(\"StreamingDataflowPartition\")[0]\n",
    "sdp_node = getCustomOp(sdp_node)\n",
    "dataflow_model_filename = sdp_node.get_nodeattr(\"model\")\n",
    "# save the dataflow partition with a different name for easier access\n",
    "# and specialize the layers to HLS variants\n",
    "dataflow_model = ModelWrapper(dataflow_model_filename)\n",
    "dataflow_model = dataflow_model.transform(SpecializeLayers(fpga_part))\n",
    "dataflow_model.save('21_dataflow_model.onnx')"
   ]
  },
  {
   "cell_type": "code",
   "execution_count": 68,
   "id": "733f7c1f-a632-4531-a1a9-651ab6386dbf",
   "metadata": {},
   "outputs": [
    {
     "name": "stdout",
     "output_type": "stream",
     "text": [
      "Stopping http://0.0.0.0:8083\n",
      "Serving '21_dataflow_model.onnx' at http://0.0.0.0:8083\n"
     ]
    },
    {
     "data": {
      "text/html": [
       "\n",
       "        <iframe\n",
       "            width=\"100%\"\n",
       "            height=\"400\"\n",
       "            src=\"http://localhost:8083/\"\n",
       "            frameborder=\"0\"\n",
       "            allowfullscreen\n",
       "            \n",
       "        ></iframe>\n",
       "        "
      ],
      "text/plain": [
       "<IPython.lib.display.IFrame at 0x7fb201e6a890>"
      ]
     },
     "execution_count": 68,
     "metadata": {},
     "output_type": "execute_result"
    }
   ],
   "source": [
    "showInNetron('21_dataflow_model.onnx')"
   ]
  },
  {
   "cell_type": "markdown",
   "id": "8c124c8b-e399-4e42-b3aa-bfc526c568f0",
   "metadata": {},
   "source": [
    "### Check execution???"
   ]
  },
  {
   "cell_type": "code",
   "execution_count": 82,
   "id": "ed28cd42-2fdf-4482-8732-b103519945ce",
   "metadata": {},
   "outputs": [],
   "source": [
    "parent_dataflow_model = ModelWrapper('20_dataflow_parent.onnx')"
   ]
  },
  {
   "cell_type": "code",
   "execution_count": 97,
   "id": "f5db2df8-b5ce-4136-bd07-6db6586839f8",
   "metadata": {},
   "outputs": [
    {
     "data": {
      "text/plain": [
       "array([[ 1., -1.]], dtype=float32)"
      ]
     },
     "execution_count": 97,
     "metadata": {},
     "output_type": "execute_result"
    }
   ],
   "source": [
    "input_dict = {\"global_in\": test_ip*255}\n",
    "output_dict = oxe.execute_onnx(parent_dataflow_model, input_dict)\n",
    "produced_clean_qonnx = output_dict[list(output_dict.keys())[0]]\n",
    "produced_clean_qonnx"
   ]
  },
  {
   "cell_type": "markdown",
   "id": "519407a4-c9cb-4a41-9ad2-9e539e5af923",
   "metadata": {},
   "source": [
    "# Folding Factors"
   ]
  },
  {
   "cell_type": "code",
   "execution_count": null,
   "id": "96b60113-5133-488d-93ea-fb09df218e7b",
   "metadata": {},
   "outputs": [],
   "source": []
  }
 ],
 "metadata": {
  "kernelspec": {
   "display_name": "Python 3 (ipykernel)",
   "language": "python",
   "name": "python3"
  },
  "language_info": {
   "codemirror_mode": {
    "name": "ipython",
    "version": 3
   },
   "file_extension": ".py",
   "mimetype": "text/x-python",
   "name": "python",
   "nbconvert_exporter": "python",
   "pygments_lexer": "ipython3",
   "version": "3.10.12"
  }
 },
 "nbformat": 4,
 "nbformat_minor": 5
}
