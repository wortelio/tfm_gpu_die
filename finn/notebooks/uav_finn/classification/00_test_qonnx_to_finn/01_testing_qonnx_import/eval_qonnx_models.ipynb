{
 "cells": [
  {
   "cell_type": "code",
   "execution_count": 1,
   "id": "1c8eae8f-fd0a-4fd7-a4ff-b6bcc9be0aa1",
   "metadata": {},
   "outputs": [],
   "source": [
    "from finn.util.visualization import showInNetron\n",
    "\n",
    "from finn.util.test import get_test_model_trained\n",
    "from qonnx.util.cleanup import cleanup as qonnx_cleanup\n",
    "from qonnx.core.modelwrapper import ModelWrapper\n",
    "from finn.transformation.qonnx.convert_qonnx_to_finn import ConvertQONNXtoFINN\n",
    "from qonnx.transformation.infer_shapes import InferShapes\n",
    "from qonnx.transformation.fold_constants import FoldConstants\n",
    "from qonnx.transformation.general import GiveReadableTensorNames, GiveUniqueNodeNames, RemoveStaticGraphInputs\n",
    "\n",
    "import numpy as np\n",
    "import qonnx.core.onnx_exec as oxe\n",
    "\n",
    "import os\n",
    "import pandas as pd\n",
    "import cv2\n",
    "\n",
    "import my_metrics as metrics"
   ]
  },
  {
   "cell_type": "markdown",
   "id": "0e43053c-4740-41b4-a321-dc3c0bd8f5bd",
   "metadata": {},
   "source": [
    "# Load Cleaned and FINN Model"
   ]
  },
  {
   "cell_type": "code",
   "execution_count": 2,
   "id": "0b34fa48-2101-4c22-997d-6ca37bebfd25",
   "metadata": {},
   "outputs": [],
   "source": [
    "#ori_onnx = './BED_classifier__best_mean_F1.onnx'\n",
    "# clean_onnx = './BED_classifier__best_mean_F1_clean.onnx'\n",
    "# finn_onnx = './BED_classifier__best_mean_F1_finn.onnx'\n",
    "clean_onnx = './BED_classifier__best_mean_F1_clean__QONNX.onnx'\n",
    "finn_onnx = './BED_classifier__best_mean_F1_finn__QONNX.onnx'"
   ]
  },
  {
   "cell_type": "code",
   "execution_count": 3,
   "id": "1d6cfaef-1d56-4ef4-90ad-ffb85ab41efc",
   "metadata": {},
   "outputs": [],
   "source": [
    "#ori_model = ModelWrapper(ori_onnx)\n",
    "clean_model = ModelWrapper(clean_onnx)\n",
    "finn_model = ModelWrapper(finn_onnx)"
   ]
  },
  {
   "cell_type": "markdown",
   "id": "632970f9-24cf-4922-8a40-4d259d2e1a62",
   "metadata": {},
   "source": [
    "## Execute with Dummy IN"
   ]
  },
  {
   "cell_type": "code",
   "execution_count": 4,
   "id": "668b0fbd-0902-4bd5-9d0a-fab892d2ac99",
   "metadata": {},
   "outputs": [],
   "source": [
    "dummy_in = np.random.randint(low = 0, high = 255+1, size = (1, 3, 224, 224)) \n",
    "dummy_in = (dummy_in / 256.).astype(np.float32)"
   ]
  },
  {
   "cell_type": "code",
   "execution_count": 5,
   "id": "91114a33-3f4d-4ddf-ae18-5c09aaf5f737",
   "metadata": {},
   "outputs": [
    {
     "data": {
      "text/plain": [
       "array([[-1.8795719 , -0.48660603]], dtype=float32)"
      ]
     },
     "execution_count": 5,
     "metadata": {},
     "output_type": "execute_result"
    }
   ],
   "source": [
    "input_dict = {\"global_in\": dummy_in}\n",
    "output_dict = oxe.execute_onnx(clean_model, input_dict)\n",
    "produced_clean_qonnx = output_dict[list(output_dict.keys())[0]]\n",
    "produced_clean_qonnx"
   ]
  },
  {
   "cell_type": "code",
   "execution_count": 6,
   "id": "b7a73fca-d401-41d8-841a-22fca9c9874f",
   "metadata": {},
   "outputs": [
    {
     "name": "stdout",
     "output_type": "stream",
     "text": [
      "[-1.8795719  -0.48660603]\n",
      "[-1.8795719  -0.48660603]\n"
     ]
    }
   ],
   "source": [
    "print(output_dict['global_out'][0])\n",
    "print(output_dict[list(output_dict.keys())[0]][0])"
   ]
  },
  {
   "cell_type": "markdown",
   "id": "78a124c5-15a8-421b-a3de-b2a23d26a8a0",
   "metadata": {},
   "source": [
    "# Eval with DFire MINI"
   ]
  },
  {
   "cell_type": "code",
   "execution_count": 17,
   "id": "83ba0c89-d612-4ea7-8235-438fcd3d0acf",
   "metadata": {},
   "outputs": [],
   "source": [
    "DS_FOLDER = '../../datasets/dfire_mini/'\n",
    "DS_FOLDER += 'test/'\n",
    "DS_IMGS = DS_FOLDER + 'images/'\n",
    "DS_LABELS = DS_FOLDER + 'labels/'"
   ]
  },
  {
   "cell_type": "code",
   "execution_count": 18,
   "id": "43621eb6-05f7-4853-bde6-d0de525b3b9d",
   "metadata": {},
   "outputs": [],
   "source": [
    "IMGS_LIST = [DS_IMGS + img_file for img_file in os.listdir(DS_IMGS)]"
   ]
  },
  {
   "cell_type": "code",
   "execution_count": 19,
   "id": "e55ba642-5e1e-49a7-8c8b-595ed8476b8a",
   "metadata": {},
   "outputs": [
    {
     "data": {
      "text/plain": [
       "30"
      ]
     },
     "execution_count": 19,
     "metadata": {},
     "output_type": "execute_result"
    }
   ],
   "source": [
    "len(IMGS_LIST)"
   ]
  },
  {
   "cell_type": "markdown",
   "id": "a22d2282-c29c-4cbc-9070-fb1c7117afaf",
   "metadata": {},
   "source": [
    "### Cleaned Model"
   ]
  },
  {
   "cell_type": "code",
   "execution_count": 20,
   "id": "a1a75543-4558-49fd-8a4d-a5080e1c7ba4",
   "metadata": {},
   "outputs": [
    {
     "name": "stdout",
     "output_type": "stream",
     "text": [
      "Number of test samples: 30\n",
      "\n"
     ]
    },
    {
     "name": "stderr",
     "output_type": "stream",
     "text": [
      "Testing: 100%|██████████████████████████████████████████████████████████████████████████████████████████████████████████████████████████████| 30/30 [00:03<00:00,  8.47it/s]\n"
     ]
    }
   ],
   "source": [
    "clean_metrics = metrics.eval_quant_onnx(\n",
    "    imgs_list = IMGS_LIST,\n",
    "    labels_dir = DS_LABELS,\n",
    "    model_wrapped = clean_model)"
   ]
  },
  {
   "cell_type": "code",
   "execution_count": 21,
   "id": "37c19cce-9aa2-4c66-b289-6b71c606a94c",
   "metadata": {},
   "outputs": [
    {
     "data": {
      "text/html": [
       "<div>\n",
       "<style scoped>\n",
       "    .dataframe tbody tr th:only-of-type {\n",
       "        vertical-align: middle;\n",
       "    }\n",
       "\n",
       "    .dataframe tbody tr th {\n",
       "        vertical-align: top;\n",
       "    }\n",
       "\n",
       "    .dataframe thead th {\n",
       "        text-align: right;\n",
       "    }\n",
       "</style>\n",
       "<table border=\"1\" class=\"dataframe\">\n",
       "  <thead>\n",
       "    <tr style=\"text-align: right;\">\n",
       "      <th></th>\n",
       "      <th>Smoke</th>\n",
       "      <th>Fire</th>\n",
       "      <th>Mean</th>\n",
       "    </tr>\n",
       "  </thead>\n",
       "  <tbody>\n",
       "    <tr>\n",
       "      <th>Accuracy</th>\n",
       "      <td>0.7667</td>\n",
       "      <td>0.9667</td>\n",
       "      <td>0.8667</td>\n",
       "    </tr>\n",
       "    <tr>\n",
       "      <th>Precision</th>\n",
       "      <td>0.9412</td>\n",
       "      <td>0.9167</td>\n",
       "      <td>0.9290</td>\n",
       "    </tr>\n",
       "    <tr>\n",
       "      <th>Recall</th>\n",
       "      <td>0.7273</td>\n",
       "      <td>1.0000</td>\n",
       "      <td>0.8636</td>\n",
       "    </tr>\n",
       "    <tr>\n",
       "      <th>F1</th>\n",
       "      <td>0.8205</td>\n",
       "      <td>0.9565</td>\n",
       "      <td>0.8885</td>\n",
       "    </tr>\n",
       "  </tbody>\n",
       "</table>\n",
       "</div>"
      ],
      "text/plain": [
       "            Smoke    Fire    Mean\n",
       "Accuracy   0.7667  0.9667  0.8667\n",
       "Precision  0.9412  0.9167  0.9290\n",
       "Recall     0.7273  1.0000  0.8636\n",
       "F1         0.8205  0.9565  0.8885"
      ]
     },
     "execution_count": 21,
     "metadata": {},
     "output_type": "execute_result"
    }
   ],
   "source": [
    "clean_df = pd.DataFrame(clean_metrics)\n",
    "clean_df"
   ]
  },
  {
   "cell_type": "markdown",
   "id": "db815b45-9f2c-4a8d-bddf-bfc243116ce8",
   "metadata": {},
   "source": [
    "### FINN Model"
   ]
  },
  {
   "cell_type": "code",
   "execution_count": 22,
   "id": "d857fb15-0367-4b08-b2e2-70ddf3dadd0d",
   "metadata": {},
   "outputs": [
    {
     "name": "stdout",
     "output_type": "stream",
     "text": [
      "Number of test samples: 30\n",
      "\n"
     ]
    },
    {
     "name": "stderr",
     "output_type": "stream",
     "text": [
      "Testing:   0%|                                                                                                                                       | 0/30 [00:00<?, ?it/s]/home/gmoreno/uav/finn/deps/qonnx/src/qonnx/util/basic.py:296: UserWarning: The values of tensor MultiThreshold_0_out0 can't be represented with the set datatype annotation (INT8), they will be rounded to match the datatype annotation.\n",
      "  warnings.warn(\n",
      "Testing: 100%|██████████████████████████████████████████████████████████████████████████████████████████████████████████████████████████████| 30/30 [05:39<00:00, 11.31s/it]\n"
     ]
    }
   ],
   "source": [
    "finn_metrics = metrics.eval_quant_onnx(\n",
    "    imgs_list = IMGS_LIST,\n",
    "    labels_dir = DS_LABELS,\n",
    "    model_wrapped = finn_model)"
   ]
  },
  {
   "cell_type": "code",
   "execution_count": 23,
   "id": "9f19b691-bb7d-4ab0-9ed7-b04041345747",
   "metadata": {},
   "outputs": [
    {
     "data": {
      "text/html": [
       "<div>\n",
       "<style scoped>\n",
       "    .dataframe tbody tr th:only-of-type {\n",
       "        vertical-align: middle;\n",
       "    }\n",
       "\n",
       "    .dataframe tbody tr th {\n",
       "        vertical-align: top;\n",
       "    }\n",
       "\n",
       "    .dataframe thead th {\n",
       "        text-align: right;\n",
       "    }\n",
       "</style>\n",
       "<table border=\"1\" class=\"dataframe\">\n",
       "  <thead>\n",
       "    <tr style=\"text-align: right;\">\n",
       "      <th></th>\n",
       "      <th>Smoke</th>\n",
       "      <th>Fire</th>\n",
       "      <th>Mean</th>\n",
       "    </tr>\n",
       "  </thead>\n",
       "  <tbody>\n",
       "    <tr>\n",
       "      <th>Accuracy</th>\n",
       "      <td>0.7667</td>\n",
       "      <td>0.9667</td>\n",
       "      <td>0.8667</td>\n",
       "    </tr>\n",
       "    <tr>\n",
       "      <th>Precision</th>\n",
       "      <td>0.9412</td>\n",
       "      <td>0.9167</td>\n",
       "      <td>0.9290</td>\n",
       "    </tr>\n",
       "    <tr>\n",
       "      <th>Recall</th>\n",
       "      <td>0.7273</td>\n",
       "      <td>1.0000</td>\n",
       "      <td>0.8636</td>\n",
       "    </tr>\n",
       "    <tr>\n",
       "      <th>F1</th>\n",
       "      <td>0.8205</td>\n",
       "      <td>0.9565</td>\n",
       "      <td>0.8885</td>\n",
       "    </tr>\n",
       "  </tbody>\n",
       "</table>\n",
       "</div>"
      ],
      "text/plain": [
       "            Smoke    Fire    Mean\n",
       "Accuracy   0.7667  0.9667  0.8667\n",
       "Precision  0.9412  0.9167  0.9290\n",
       "Recall     0.7273  1.0000  0.8636\n",
       "F1         0.8205  0.9565  0.8885"
      ]
     },
     "execution_count": 23,
     "metadata": {},
     "output_type": "execute_result"
    }
   ],
   "source": [
    "finn_df = pd.DataFrame(finn_metrics)\n",
    "finn_df"
   ]
  },
  {
   "cell_type": "code",
   "execution_count": null,
   "id": "0eabcbf1-7738-4ad5-a4f1-f589f3580b4d",
   "metadata": {},
   "outputs": [],
   "source": []
  }
 ],
 "metadata": {
  "kernelspec": {
   "display_name": "Python 3 (ipykernel)",
   "language": "python",
   "name": "python3"
  },
  "language_info": {
   "codemirror_mode": {
    "name": "ipython",
    "version": 3
   },
   "file_extension": ".py",
   "mimetype": "text/x-python",
   "name": "python",
   "nbconvert_exporter": "python",
   "pygments_lexer": "ipython3",
   "version": "3.10.12"
  }
 },
 "nbformat": 4,
 "nbformat_minor": 5
}
