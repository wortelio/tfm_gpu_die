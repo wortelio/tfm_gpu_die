{
 "cells": [
  {
   "cell_type": "code",
   "execution_count": 1,
   "id": "719af929-1f81-4c5a-bfa4-1d45ba1d942e",
   "metadata": {},
   "outputs": [],
   "source": [
    "from finn.util.visualization import showInNetron\n",
    "\n",
    "from finn.util.test import get_test_model_trained\n",
    "from qonnx.util.cleanup import cleanup as qonnx_cleanup\n",
    "from qonnx.core.modelwrapper import ModelWrapper\n",
    "from finn.transformation.qonnx.convert_qonnx_to_finn import ConvertQONNXtoFINN\n",
    "from qonnx.transformation.infer_shapes import InferShapes\n",
    "from qonnx.transformation.fold_constants import FoldConstants\n",
    "from qonnx.transformation.general import GiveReadableTensorNames, GiveUniqueNodeNames, RemoveStaticGraphInputs\n",
    "\n",
    "import numpy as np\n",
    "import qonnx.core.onnx_exec as oxe\n",
    "\n",
    "import cv2"
   ]
  },
  {
   "cell_type": "code",
   "execution_count": 2,
   "id": "c402a163-9b34-4bf9-86cc-f89b50c5c4cc",
   "metadata": {},
   "outputs": [],
   "source": [
    "# ori_onnx = 'BED_classifier__best_mean_F1.onnx'\n",
    "# clean_onnx = 'BED_classifier__best_mean_F1_clean.onnx'"
   ]
  },
  {
   "cell_type": "markdown",
   "id": "1f37ec5e-5577-49c5-bbae-00afe5f236bc",
   "metadata": {},
   "source": [
    "### 2nd experiments: export to QONNX during training and test with DFire MINI"
   ]
  },
  {
   "cell_type": "code",
   "execution_count": 3,
   "id": "7be0a8a1-6e61-4704-ba78-a4ecb080410d",
   "metadata": {},
   "outputs": [],
   "source": [
    "ori_onnx = 'BED_classifier__best_mean_F1__QONNX.onnx'\n",
    "clean_onnx = 'BED_classifier__best_mean_F1_clean__QONNX.onnx'"
   ]
  },
  {
   "cell_type": "code",
   "execution_count": 4,
   "id": "95089f8d-4875-4863-8d1b-9606f6191690",
   "metadata": {},
   "outputs": [],
   "source": [
    "qonnx_cleanup(ori_onnx, out_file=clean_onnx)"
   ]
  },
  {
   "cell_type": "code",
   "execution_count": 5,
   "id": "0e34bbd8-9300-4ca3-9fca-5a5656946785",
   "metadata": {},
   "outputs": [
    {
     "name": "stdout",
     "output_type": "stream",
     "text": [
      "Serving 'BED_classifier__best_mean_F1__QONNX.onnx' at http://0.0.0.0:8083\n"
     ]
    },
    {
     "data": {
      "text/html": [
       "\n",
       "        <iframe\n",
       "            width=\"100%\"\n",
       "            height=\"400\"\n",
       "            src=\"http://localhost:8083/\"\n",
       "            frameborder=\"0\"\n",
       "            allowfullscreen\n",
       "            \n",
       "        ></iframe>\n",
       "        "
      ],
      "text/plain": [
       "<IPython.lib.display.IFrame at 0x7fcbfe5575e0>"
      ]
     },
     "execution_count": 5,
     "metadata": {},
     "output_type": "execute_result"
    }
   ],
   "source": [
    "showInNetron(ori_onnx)"
   ]
  },
  {
   "cell_type": "code",
   "execution_count": 6,
   "id": "a1035b16-9a56-413c-b3f0-3ff9646c5303",
   "metadata": {},
   "outputs": [
    {
     "name": "stdout",
     "output_type": "stream",
     "text": [
      "Stopping http://0.0.0.0:8083\n",
      "Serving 'BED_classifier__best_mean_F1_clean__QONNX.onnx' at http://0.0.0.0:8083\n"
     ]
    },
    {
     "data": {
      "text/html": [
       "\n",
       "        <iframe\n",
       "            width=\"100%\"\n",
       "            height=\"400\"\n",
       "            src=\"http://localhost:8083/\"\n",
       "            frameborder=\"0\"\n",
       "            allowfullscreen\n",
       "            \n",
       "        ></iframe>\n",
       "        "
      ],
      "text/plain": [
       "<IPython.lib.display.IFrame at 0x7fcaf76d55d0>"
      ]
     },
     "execution_count": 6,
     "metadata": {},
     "output_type": "execute_result"
    }
   ],
   "source": [
    "showInNetron(clean_onnx)"
   ]
  },
  {
   "cell_type": "code",
   "execution_count": 7,
   "id": "db8cfc3e-f0b1-4609-b410-9336bb4d73eb",
   "metadata": {},
   "outputs": [],
   "source": [
    "finn_onnx =  'BED_classifier__best_mean_F1_finn__QONNX.onnx'"
   ]
  },
  {
   "cell_type": "code",
   "execution_count": 8,
   "id": "e5997dd4-0a00-4cde-9311-47ae0441c08c",
   "metadata": {},
   "outputs": [],
   "source": [
    "model = ModelWrapper(clean_onnx)\n",
    "model = model.transform(ConvertQONNXtoFINN())\n",
    "model = model.transform(InferShapes())\n",
    "model = model.transform(FoldConstants())\n",
    "model = model.transform(GiveUniqueNodeNames())\n",
    "model = model.transform(GiveReadableTensorNames())\n",
    "model = model.transform(RemoveStaticGraphInputs())\n",
    "model.save(finn_onnx)"
   ]
  },
  {
   "cell_type": "code",
   "execution_count": 9,
   "id": "c7f698f2-2ba8-4ad1-9c50-07c71ed6bd41",
   "metadata": {},
   "outputs": [
    {
     "name": "stdout",
     "output_type": "stream",
     "text": [
      "Stopping http://0.0.0.0:8083\n",
      "Serving 'BED_classifier__best_mean_F1_finn__QONNX.onnx' at http://0.0.0.0:8083\n"
     ]
    },
    {
     "data": {
      "text/html": [
       "\n",
       "        <iframe\n",
       "            width=\"100%\"\n",
       "            height=\"400\"\n",
       "            src=\"http://localhost:8083/\"\n",
       "            frameborder=\"0\"\n",
       "            allowfullscreen\n",
       "            \n",
       "        ></iframe>\n",
       "        "
      ],
      "text/plain": [
       "<IPython.lib.display.IFrame at 0x7fcaf76d5c90>"
      ]
     },
     "execution_count": 9,
     "metadata": {},
     "output_type": "execute_result"
    }
   ],
   "source": [
    "showInNetron(finn_onnx)"
   ]
  },
  {
   "cell_type": "markdown",
   "id": "9486879b-97df-430d-bd7c-e8082339675a",
   "metadata": {},
   "source": [
    "# Compare Outputs"
   ]
  },
  {
   "cell_type": "code",
   "execution_count": 10,
   "id": "c06a1cc8-12f6-482e-a83e-ab133305b8b7",
   "metadata": {},
   "outputs": [],
   "source": [
    "dummy_in = np.random.randint(low = 0, high = 255+1, size = (1, 3, 224, 224)) \n",
    "dummy_in = (dummy_in / 256.).astype(np.float32)"
   ]
  },
  {
   "cell_type": "code",
   "execution_count": 11,
   "id": "eae2359d-3b1a-482d-abc0-b928543d1ad2",
   "metadata": {},
   "outputs": [],
   "source": [
    "#ori_model = ModelWrapper(ori_onnx)\n",
    "clean_model = ModelWrapper(clean_onnx)\n",
    "finn_model = ModelWrapper(finn_onnx)"
   ]
  },
  {
   "cell_type": "markdown",
   "id": "7596967b-69c4-4466-b7c5-ad938fb9cd20",
   "metadata": {},
   "source": [
    "### Cleaned QONNX"
   ]
  },
  {
   "cell_type": "code",
   "execution_count": 12,
   "id": "f22786da-5144-4596-85ea-014d61ad8f0b",
   "metadata": {},
   "outputs": [
    {
     "data": {
      "text/plain": [
       "array([[-1.7175992, -0.6809734]], dtype=float32)"
      ]
     },
     "execution_count": 12,
     "metadata": {},
     "output_type": "execute_result"
    }
   ],
   "source": [
    "input_dict = {\"global_in\": dummy_in}\n",
    "output_dict = oxe.execute_onnx(clean_model, input_dict)\n",
    "produced_clean_qonnx = output_dict[list(output_dict.keys())[0]]\n",
    "produced_clean_qonnx"
   ]
  },
  {
   "cell_type": "markdown",
   "id": "45f795ad-972f-4e27-8ca4-1965b3a4d998",
   "metadata": {},
   "source": [
    "### FINN QONNX"
   ]
  },
  {
   "cell_type": "code",
   "execution_count": 13,
   "id": "78b7c553-1f25-4c64-b5fd-a5a1d30c5c22",
   "metadata": {},
   "outputs": [
    {
     "name": "stderr",
     "output_type": "stream",
     "text": [
      "/home/gmoreno/uav/finn/deps/qonnx/src/qonnx/util/basic.py:296: UserWarning: The values of tensor MultiThreshold_0_out0 can't be represented with the set datatype annotation (INT8), they will be rounded to match the datatype annotation.\n",
      "  warnings.warn(\n"
     ]
    },
    {
     "data": {
      "text/plain": [
       "array([[-1.7175992, -0.6809733]], dtype=float32)"
      ]
     },
     "execution_count": 13,
     "metadata": {},
     "output_type": "execute_result"
    }
   ],
   "source": [
    "input_dict = {\"global_in\": dummy_in}\n",
    "output_dict = oxe.execute_onnx(finn_model, input_dict)\n",
    "produced_finn_qonnx = output_dict[list(output_dict.keys())[0]]\n",
    "produced_finn_qonnx"
   ]
  },
  {
   "cell_type": "markdown",
   "id": "31643563-b279-4aff-841f-1a8a8922dcb3",
   "metadata": {},
   "source": [
    "# Compare with Images"
   ]
  },
  {
   "cell_type": "code",
   "execution_count": 18,
   "id": "678df304-6e6f-48aa-b5f1-a6eb4f47aca2",
   "metadata": {},
   "outputs": [],
   "source": [
    "img_file = './WEB10495.jpg' # Smoke and Fire\n",
    "#img_file = './WEB10980.jpg' # Only Smoke\n",
    "#img_file = './WEB10031.jpg' # Empty\n",
    "img = cv2.imread(img_file)\n",
    "img = cv2.imread(img_file)\n",
    "img = cv2.cvtColor(img, cv2.COLOR_BGR2RGB) \n",
    "img = cv2.resize(img, (224,224), interpolation = cv2.INTER_LINEAR) \n",
    "img = img / 256.\n",
    "img = np.expand_dims(img, axis=0)\n",
    "img = np.transpose(img, (0, 3, 1, 2))\n",
    "img = img.astype(np.float32)"
   ]
  },
  {
   "cell_type": "code",
   "execution_count": 19,
   "id": "b266fad5-762a-4a13-a5a9-4267a61b1eb5",
   "metadata": {},
   "outputs": [
    {
     "name": "stdout",
     "output_type": "stream",
     "text": [
      "Image shape: (1, 3, 224, 224)\n",
      "Data type: float32\n"
     ]
    }
   ],
   "source": [
    "print(f'Image shape: {img.shape}')\n",
    "print(f'Data type: {img.dtype}')"
   ]
  },
  {
   "cell_type": "markdown",
   "id": "2e918859-309c-44b6-84de-80c7c30776ab",
   "metadata": {},
   "source": [
    "### Cleaned QONNX"
   ]
  },
  {
   "cell_type": "code",
   "execution_count": 20,
   "id": "fb367365-3176-40bb-ad8a-08caa3c39dfb",
   "metadata": {},
   "outputs": [
    {
     "data": {
      "text/plain": [
       "array([[4.4373665, 5.117652 ]], dtype=float32)"
      ]
     },
     "execution_count": 20,
     "metadata": {},
     "output_type": "execute_result"
    }
   ],
   "source": [
    "input_dict = {\"global_in\": img}\n",
    "output_dict = oxe.execute_onnx(clean_model, input_dict)\n",
    "produced_clean_qonnx = output_dict[list(output_dict.keys())[0]]\n",
    "produced_clean_qonnx"
   ]
  },
  {
   "cell_type": "markdown",
   "id": "71db5dc1-5c7e-4855-8b7b-dcebdc524ee0",
   "metadata": {},
   "source": [
    "### FINN QONNX"
   ]
  },
  {
   "cell_type": "code",
   "execution_count": 21,
   "id": "0e47a245-b34d-453a-8c32-6ab4c0ca1ada",
   "metadata": {},
   "outputs": [
    {
     "data": {
      "text/plain": [
       "array([[4.437366, 5.117652]], dtype=float32)"
      ]
     },
     "execution_count": 21,
     "metadata": {},
     "output_type": "execute_result"
    }
   ],
   "source": [
    "input_dict = {\"global_in\": img}\n",
    "output_dict = oxe.execute_onnx(finn_model, input_dict)\n",
    "produced_finn_qonnx = output_dict[list(output_dict.keys())[0]]\n",
    "produced_finn_qonnx"
   ]
  },
  {
   "cell_type": "code",
   "execution_count": null,
   "id": "526220ba-42dd-40e5-8578-894c2e56682b",
   "metadata": {},
   "outputs": [],
   "source": []
  }
 ],
 "metadata": {
  "kernelspec": {
   "display_name": "Python 3 (ipykernel)",
   "language": "python",
   "name": "python3"
  },
  "language_info": {
   "codemirror_mode": {
    "name": "ipython",
    "version": 3
   },
   "file_extension": ".py",
   "mimetype": "text/x-python",
   "name": "python",
   "nbconvert_exporter": "python",
   "pygments_lexer": "ipython3",
   "version": "3.10.12"
  }
 },
 "nbformat": 4,
 "nbformat_minor": 5
}
