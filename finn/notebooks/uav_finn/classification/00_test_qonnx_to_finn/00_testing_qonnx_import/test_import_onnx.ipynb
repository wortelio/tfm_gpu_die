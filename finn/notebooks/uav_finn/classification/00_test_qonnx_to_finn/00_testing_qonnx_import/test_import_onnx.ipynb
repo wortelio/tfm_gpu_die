{
 "cells": [
  {
   "cell_type": "code",
   "execution_count": 1,
   "id": "70deceb2-1219-4adf-93b2-3f860d19a46f",
   "metadata": {},
   "outputs": [],
   "source": [
    "from qonnx.util.cleanup import cleanup\n",
    "from finn.util.visualization import showSrc, showInNetron"
   ]
  },
  {
   "cell_type": "markdown",
   "id": "d65d0cb7-e48b-4e2b-86eb-abfe0abf5232",
   "metadata": {},
   "source": [
    "# View Original Model in Netron"
   ]
  },
  {
   "cell_type": "code",
   "execution_count": 2,
   "id": "f6668225-9399-404a-b170-75f3350d0a19",
   "metadata": {},
   "outputs": [],
   "source": [
    "model_ori = './BED__no_comp__best_mean_f1__cpu.onnx'"
   ]
  },
  {
   "cell_type": "code",
   "execution_count": 3,
   "id": "579eef89-06b4-421e-ac43-b7bbf3d36913",
   "metadata": {},
   "outputs": [
    {
     "name": "stdout",
     "output_type": "stream",
     "text": [
      "Serving './BED__no_comp__best_mean_f1__cpu.onnx' at http://0.0.0.0:8083\n"
     ]
    },
    {
     "data": {
      "text/html": [
       "\n",
       "        <iframe\n",
       "            width=\"100%\"\n",
       "            height=\"400\"\n",
       "            src=\"http://localhost:8083/\"\n",
       "            frameborder=\"0\"\n",
       "            allowfullscreen\n",
       "            \n",
       "        ></iframe>\n",
       "        "
      ],
      "text/plain": [
       "<IPython.lib.display.IFrame at 0x7f6a190a8940>"
      ]
     },
     "execution_count": 3,
     "metadata": {},
     "output_type": "execute_result"
    }
   ],
   "source": [
    "showInNetron(model_ori)"
   ]
  },
  {
   "cell_type": "markdown",
   "id": "c7f82bef-afcc-474e-ae0a-3263b2c83a94",
   "metadata": {},
   "source": [
    "# Clean Model with QONNX"
   ]
  },
  {
   "cell_type": "code",
   "execution_count": 4,
   "id": "6da65752-d31f-4db7-a1aa-cc145f147af4",
   "metadata": {},
   "outputs": [],
   "source": [
    "model_cleaned = './BED__no_comp__best_mean_f1__cpu__cleaned.onnx'"
   ]
  },
  {
   "cell_type": "code",
   "execution_count": 5,
   "id": "9c243a30-dcbb-443a-8ce2-bf2aa1ae3b91",
   "metadata": {},
   "outputs": [],
   "source": [
    "cleanup(model_ori, out_file=model_cleaned)"
   ]
  },
  {
   "cell_type": "code",
   "execution_count": 6,
   "id": "8c5d26b4-3a50-4a1f-96be-833dd26a7311",
   "metadata": {},
   "outputs": [
    {
     "name": "stdout",
     "output_type": "stream",
     "text": [
      "Stopping http://0.0.0.0:8083\n",
      "Serving './BED__no_comp__best_mean_f1__cpu__cleaned.onnx' at http://0.0.0.0:8083\n"
     ]
    },
    {
     "data": {
      "text/html": [
       "\n",
       "        <iframe\n",
       "            width=\"100%\"\n",
       "            height=\"400\"\n",
       "            src=\"http://localhost:8083/\"\n",
       "            frameborder=\"0\"\n",
       "            allowfullscreen\n",
       "            \n",
       "        ></iframe>\n",
       "        "
      ],
      "text/plain": [
       "<IPython.lib.display.IFrame at 0x7f6a190a8820>"
      ]
     },
     "execution_count": 6,
     "metadata": {},
     "output_type": "execute_result"
    }
   ],
   "source": [
    "showInNetron(model_cleaned)"
   ]
  },
  {
   "cell_type": "markdown",
   "id": "e6dba06b-0a37-4ba9-b062-5902a5fc8ca0",
   "metadata": {},
   "source": [
    "# Import Cleaned Model to FINN"
   ]
  },
  {
   "cell_type": "code",
   "execution_count": 7,
   "id": "a011c697-477b-40a2-8a8c-f85f9bd433d4",
   "metadata": {},
   "outputs": [],
   "source": [
    "from qonnx.core.modelwrapper import ModelWrapper\n",
    "import qonnx.core.onnx_exec as oxe"
   ]
  },
  {
   "cell_type": "code",
   "execution_count": 8,
   "id": "2c38d9a6-9d0c-444c-8bf8-8d3233d3e948",
   "metadata": {},
   "outputs": [],
   "source": [
    "model_cleaned_onnx = ModelWrapper(model_cleaned)"
   ]
  },
  {
   "cell_type": "markdown",
   "id": "f7277ace-db63-452b-b57c-0303cac18919",
   "metadata": {},
   "source": [
    "# Forward Pass and compare Original and Cleaned Output is the same"
   ]
  },
  {
   "cell_type": "code",
   "execution_count": 9,
   "id": "190665da-f124-420d-b55d-d03142feb04a",
   "metadata": {},
   "outputs": [],
   "source": [
    "import onnxruntime\n",
    "import numpy as np"
   ]
  },
  {
   "cell_type": "code",
   "execution_count": 10,
   "id": "51ed43f8-90e8-40aa-bae9-52f356e17417",
   "metadata": {},
   "outputs": [],
   "source": [
    "dummy_in = np.random.randint(low = 0, high = 255+1, size = (1, 3, 224, 224)) \n",
    "dummy_in = (dummy_in / 256.).astype(np.float32)\n",
    "#dummy_in"
   ]
  },
  {
   "cell_type": "code",
   "execution_count": 11,
   "id": "0957db09-525d-4e2c-8697-b01922fb5375",
   "metadata": {},
   "outputs": [],
   "source": [
    "#import matplotlib.pyplot as plt"
   ]
  },
  {
   "cell_type": "code",
   "execution_count": 12,
   "id": "2a7f9826-7fa1-4c42-9832-c31e802ac81c",
   "metadata": {},
   "outputs": [],
   "source": [
    "#plt.imshow(dummy_in[0].transpose(1, 2, 0))"
   ]
  },
  {
   "cell_type": "markdown",
   "id": "cd43d0c9-6a02-465c-9279-aea0abfb04db",
   "metadata": {},
   "source": [
    "## Original Model"
   ]
  },
  {
   "cell_type": "code",
   "execution_count": 13,
   "id": "71fc3d30-bb9b-427c-90cd-d55a606ca09b",
   "metadata": {},
   "outputs": [],
   "source": [
    "ori_session = onnxruntime.InferenceSession(model_ori, providers=[\"CPUExecutionProvider\"])"
   ]
  },
  {
   "cell_type": "code",
   "execution_count": 14,
   "id": "758f7eea-7ff2-46b4-af8c-2bb6919318c8",
   "metadata": {},
   "outputs": [],
   "source": [
    "ori_inputs = {ori_session.get_inputs()[0].name: dummy_in}"
   ]
  },
  {
   "cell_type": "code",
   "execution_count": 15,
   "id": "e81fb211-bd73-442d-98df-ac42f6c21c72",
   "metadata": {},
   "outputs": [],
   "source": [
    "ori_yhat = ori_session.run(None, ori_inputs)"
   ]
  },
  {
   "cell_type": "code",
   "execution_count": 16,
   "id": "de2d6df9-575d-4180-b7b4-35d2ad575bd0",
   "metadata": {},
   "outputs": [
    {
     "data": {
      "text/plain": [
       "[array([[-4.953125, -4.46875 ]], dtype=float32)]"
      ]
     },
     "execution_count": 16,
     "metadata": {},
     "output_type": "execute_result"
    }
   ],
   "source": [
    "ori_yhat"
   ]
  },
  {
   "cell_type": "markdown",
   "id": "366bc786-c99d-4afa-8443-cb3a0162daee",
   "metadata": {},
   "source": [
    "## Cleaned Model"
   ]
  },
  {
   "cell_type": "code",
   "execution_count": 17,
   "id": "c34c660d-d372-4f99-914b-bb4165823813",
   "metadata": {},
   "outputs": [],
   "source": [
    "input_dict = {\"global_in\": dummy_in}"
   ]
  },
  {
   "cell_type": "code",
   "execution_count": 18,
   "id": "16651742-54e1-483c-bf9b-ae5fafe1fb08",
   "metadata": {},
   "outputs": [],
   "source": [
    "output_dict = oxe.execute_onnx(model_cleaned_onnx, input_dict)"
   ]
  },
  {
   "cell_type": "code",
   "execution_count": 19,
   "id": "ee15b83d-4ae4-461d-8f47-bc8f55fcb1be",
   "metadata": {},
   "outputs": [],
   "source": [
    "produced_qonnx = output_dict[list(output_dict.keys())[0]]"
   ]
  },
  {
   "cell_type": "code",
   "execution_count": 20,
   "id": "dca81c1d-6dda-49bd-b2e6-cbe77602b5df",
   "metadata": {},
   "outputs": [
    {
     "data": {
      "text/plain": [
       "array([[-4.953125, -4.46875 ]], dtype=float32)"
      ]
     },
     "execution_count": 20,
     "metadata": {},
     "output_type": "execute_result"
    }
   ],
   "source": [
    "produced_qonnx"
   ]
  },
  {
   "cell_type": "markdown",
   "id": "aba6687f-a42e-4b79-b336-53a87a6ce6a8",
   "metadata": {},
   "source": [
    "## Comparison"
   ]
  },
  {
   "cell_type": "code",
   "execution_count": 21,
   "id": "be893aa8-baf5-4888-be31-26a6a1b02848",
   "metadata": {},
   "outputs": [
    {
     "data": {
      "text/plain": [
       "True"
      ]
     },
     "execution_count": 21,
     "metadata": {},
     "output_type": "execute_result"
    }
   ],
   "source": [
    "np.isclose(ori_yhat, produced_qonnx).all()"
   ]
  },
  {
   "cell_type": "markdown",
   "id": "7fbf67ba-6179-4db9-840a-2891a8f0f2fa",
   "metadata": {},
   "source": [
    "# Convert QONNX to FINN-ONNX"
   ]
  },
  {
   "cell_type": "code",
   "execution_count": 22,
   "id": "7f8cffc5-81de-4c47-b4b1-c1f69183c5de",
   "metadata": {},
   "outputs": [],
   "source": [
    "from finn.transformation.qonnx.convert_qonnx_to_finn import ConvertQONNXtoFINN"
   ]
  },
  {
   "cell_type": "code",
   "execution_count": 23,
   "id": "cae1dafb-6ff0-40a0-b1a9-7b40dca128b4",
   "metadata": {},
   "outputs": [
    {
     "name": "stderr",
     "output_type": "stream",
     "text": [
      "/home/gmoreno/uav/finn/deps/qonnx/src/qonnx/transformation/extract_conv_bias.py:52: UserWarning: Could not extract bias from node input: \"DequantizeLinear_28_out0\"\n",
      "input: \"DequantizeLinear_14_out0\"\n",
      "input: \"DequantizeLinear_0_out0\"\n",
      "output: \"Conv_0_out0\"\n",
      "name: \"Conv_0\"\n",
      "op_type: \"Conv\"\n",
      "attribute {\n",
      "  name: \"dilations\"\n",
      "  ints: 1\n",
      "  ints: 1\n",
      "  type: INTS\n",
      "}\n",
      "attribute {\n",
      "  name: \"group\"\n",
      "  i: 1\n",
      "  type: INT\n",
      "}\n",
      "attribute {\n",
      "  name: \"kernel_shape\"\n",
      "  ints: 3\n",
      "  ints: 3\n",
      "  type: INTS\n",
      "}\n",
      "attribute {\n",
      "  name: \"pads\"\n",
      "  ints: 1\n",
      "  ints: 1\n",
      "  ints: 1\n",
      "  ints: 1\n",
      "  type: INTS\n",
      "}\n",
      "attribute {\n",
      "  name: \"strides\"\n",
      "  ints: 1\n",
      "  ints: 1\n",
      "  type: INTS\n",
      "}\n",
      "\n",
      "  warnings.warn(f\"Could not extract bias from node {n}\")\n",
      "/home/gmoreno/uav/finn/deps/qonnx/src/qonnx/transformation/extract_conv_bias.py:52: UserWarning: Could not extract bias from node input: \"MaxPool_0_out0\"\n",
      "input: \"DequantizeLinear_15_out0\"\n",
      "input: \"DequantizeLinear_1_out0\"\n",
      "output: \"Conv_1_out0\"\n",
      "name: \"Conv_1\"\n",
      "op_type: \"Conv\"\n",
      "attribute {\n",
      "  name: \"dilations\"\n",
      "  ints: 1\n",
      "  ints: 1\n",
      "  type: INTS\n",
      "}\n",
      "attribute {\n",
      "  name: \"group\"\n",
      "  i: 1\n",
      "  type: INT\n",
      "}\n",
      "attribute {\n",
      "  name: \"kernel_shape\"\n",
      "  ints: 3\n",
      "  ints: 3\n",
      "  type: INTS\n",
      "}\n",
      "attribute {\n",
      "  name: \"pads\"\n",
      "  ints: 1\n",
      "  ints: 1\n",
      "  ints: 1\n",
      "  ints: 1\n",
      "  type: INTS\n",
      "}\n",
      "attribute {\n",
      "  name: \"strides\"\n",
      "  ints: 1\n",
      "  ints: 1\n",
      "  type: INTS\n",
      "}\n",
      "\n",
      "  warnings.warn(f\"Could not extract bias from node {n}\")\n",
      "/home/gmoreno/uav/finn/deps/qonnx/src/qonnx/transformation/extract_conv_bias.py:52: UserWarning: Could not extract bias from node input: \"MaxPool_1_out0\"\n",
      "input: \"DequantizeLinear_16_out0\"\n",
      "input: \"DequantizeLinear_2_out0\"\n",
      "output: \"Conv_2_out0\"\n",
      "name: \"Conv_2\"\n",
      "op_type: \"Conv\"\n",
      "attribute {\n",
      "  name: \"dilations\"\n",
      "  ints: 1\n",
      "  ints: 1\n",
      "  type: INTS\n",
      "}\n",
      "attribute {\n",
      "  name: \"group\"\n",
      "  i: 1\n",
      "  type: INT\n",
      "}\n",
      "attribute {\n",
      "  name: \"kernel_shape\"\n",
      "  ints: 1\n",
      "  ints: 1\n",
      "  type: INTS\n",
      "}\n",
      "attribute {\n",
      "  name: \"pads\"\n",
      "  ints: 0\n",
      "  ints: 0\n",
      "  ints: 0\n",
      "  ints: 0\n",
      "  type: INTS\n",
      "}\n",
      "attribute {\n",
      "  name: \"strides\"\n",
      "  ints: 1\n",
      "  ints: 1\n",
      "  type: INTS\n",
      "}\n",
      "\n",
      "  warnings.warn(f\"Could not extract bias from node {n}\")\n",
      "/home/gmoreno/uav/finn/deps/qonnx/src/qonnx/transformation/extract_conv_bias.py:52: UserWarning: Could not extract bias from node input: \"DequantizeLinear_31_out0\"\n",
      "input: \"DequantizeLinear_17_out0\"\n",
      "input: \"DequantizeLinear_3_out0\"\n",
      "output: \"Conv_3_out0\"\n",
      "name: \"Conv_3\"\n",
      "op_type: \"Conv\"\n",
      "attribute {\n",
      "  name: \"dilations\"\n",
      "  ints: 1\n",
      "  ints: 1\n",
      "  type: INTS\n",
      "}\n",
      "attribute {\n",
      "  name: \"group\"\n",
      "  i: 1\n",
      "  type: INT\n",
      "}\n",
      "attribute {\n",
      "  name: \"kernel_shape\"\n",
      "  ints: 3\n",
      "  ints: 3\n",
      "  type: INTS\n",
      "}\n",
      "attribute {\n",
      "  name: \"pads\"\n",
      "  ints: 1\n",
      "  ints: 1\n",
      "  ints: 1\n",
      "  ints: 1\n",
      "  type: INTS\n",
      "}\n",
      "attribute {\n",
      "  name: \"strides\"\n",
      "  ints: 1\n",
      "  ints: 1\n",
      "  type: INTS\n",
      "}\n",
      "\n",
      "  warnings.warn(f\"Could not extract bias from node {n}\")\n",
      "/home/gmoreno/uav/finn/deps/qonnx/src/qonnx/transformation/extract_conv_bias.py:52: UserWarning: Could not extract bias from node input: \"DequantizeLinear_32_out0\"\n",
      "input: \"DequantizeLinear_18_out0\"\n",
      "input: \"DequantizeLinear_4_out0\"\n",
      "output: \"Conv_4_out0\"\n",
      "name: \"Conv_4\"\n",
      "op_type: \"Conv\"\n",
      "attribute {\n",
      "  name: \"dilations\"\n",
      "  ints: 1\n",
      "  ints: 1\n",
      "  type: INTS\n",
      "}\n",
      "attribute {\n",
      "  name: \"group\"\n",
      "  i: 1\n",
      "  type: INT\n",
      "}\n",
      "attribute {\n",
      "  name: \"kernel_shape\"\n",
      "  ints: 1\n",
      "  ints: 1\n",
      "  type: INTS\n",
      "}\n",
      "attribute {\n",
      "  name: \"pads\"\n",
      "  ints: 0\n",
      "  ints: 0\n",
      "  ints: 0\n",
      "  ints: 0\n",
      "  type: INTS\n",
      "}\n",
      "attribute {\n",
      "  name: \"strides\"\n",
      "  ints: 1\n",
      "  ints: 1\n",
      "  type: INTS\n",
      "}\n",
      "\n",
      "  warnings.warn(f\"Could not extract bias from node {n}\")\n",
      "/home/gmoreno/uav/finn/deps/qonnx/src/qonnx/transformation/extract_conv_bias.py:52: UserWarning: Could not extract bias from node input: \"DequantizeLinear_33_out0\"\n",
      "input: \"DequantizeLinear_19_out0\"\n",
      "input: \"DequantizeLinear_5_out0\"\n",
      "output: \"Conv_5_out0\"\n",
      "name: \"Conv_5\"\n",
      "op_type: \"Conv\"\n",
      "attribute {\n",
      "  name: \"dilations\"\n",
      "  ints: 1\n",
      "  ints: 1\n",
      "  type: INTS\n",
      "}\n",
      "attribute {\n",
      "  name: \"group\"\n",
      "  i: 1\n",
      "  type: INT\n",
      "}\n",
      "attribute {\n",
      "  name: \"kernel_shape\"\n",
      "  ints: 3\n",
      "  ints: 3\n",
      "  type: INTS\n",
      "}\n",
      "attribute {\n",
      "  name: \"pads\"\n",
      "  ints: 1\n",
      "  ints: 1\n",
      "  ints: 1\n",
      "  ints: 1\n",
      "  type: INTS\n",
      "}\n",
      "attribute {\n",
      "  name: \"strides\"\n",
      "  ints: 1\n",
      "  ints: 1\n",
      "  type: INTS\n",
      "}\n",
      "\n",
      "  warnings.warn(f\"Could not extract bias from node {n}\")\n",
      "/home/gmoreno/uav/finn/deps/qonnx/src/qonnx/transformation/extract_conv_bias.py:52: UserWarning: Could not extract bias from node input: \"MaxPool_2_out0\"\n",
      "input: \"DequantizeLinear_20_out0\"\n",
      "input: \"DequantizeLinear_6_out0\"\n",
      "output: \"Conv_6_out0\"\n",
      "name: \"Conv_6\"\n",
      "op_type: \"Conv\"\n",
      "attribute {\n",
      "  name: \"dilations\"\n",
      "  ints: 1\n",
      "  ints: 1\n",
      "  type: INTS\n",
      "}\n",
      "attribute {\n",
      "  name: \"group\"\n",
      "  i: 1\n",
      "  type: INT\n",
      "}\n",
      "attribute {\n",
      "  name: \"kernel_shape\"\n",
      "  ints: 1\n",
      "  ints: 1\n",
      "  type: INTS\n",
      "}\n",
      "attribute {\n",
      "  name: \"pads\"\n",
      "  ints: 0\n",
      "  ints: 0\n",
      "  ints: 0\n",
      "  ints: 0\n",
      "  type: INTS\n",
      "}\n",
      "attribute {\n",
      "  name: \"strides\"\n",
      "  ints: 1\n",
      "  ints: 1\n",
      "  type: INTS\n",
      "}\n",
      "\n",
      "  warnings.warn(f\"Could not extract bias from node {n}\")\n",
      "/home/gmoreno/uav/finn/deps/qonnx/src/qonnx/transformation/extract_conv_bias.py:52: UserWarning: Could not extract bias from node input: \"DequantizeLinear_35_out0\"\n",
      "input: \"DequantizeLinear_21_out0\"\n",
      "input: \"DequantizeLinear_7_out0\"\n",
      "output: \"Conv_7_out0\"\n",
      "name: \"Conv_7\"\n",
      "op_type: \"Conv\"\n",
      "attribute {\n",
      "  name: \"dilations\"\n",
      "  ints: 1\n",
      "  ints: 1\n",
      "  type: INTS\n",
      "}\n",
      "attribute {\n",
      "  name: \"group\"\n",
      "  i: 1\n",
      "  type: INT\n",
      "}\n",
      "attribute {\n",
      "  name: \"kernel_shape\"\n",
      "  ints: 3\n",
      "  ints: 3\n",
      "  type: INTS\n",
      "}\n",
      "attribute {\n",
      "  name: \"pads\"\n",
      "  ints: 1\n",
      "  ints: 1\n",
      "  ints: 1\n",
      "  ints: 1\n",
      "  type: INTS\n",
      "}\n",
      "attribute {\n",
      "  name: \"strides\"\n",
      "  ints: 1\n",
      "  ints: 1\n",
      "  type: INTS\n",
      "}\n",
      "\n",
      "  warnings.warn(f\"Could not extract bias from node {n}\")\n",
      "/home/gmoreno/uav/finn/deps/qonnx/src/qonnx/transformation/extract_conv_bias.py:52: UserWarning: Could not extract bias from node input: \"DequantizeLinear_36_out0\"\n",
      "input: \"DequantizeLinear_22_out0\"\n",
      "input: \"DequantizeLinear_8_out0\"\n",
      "output: \"Conv_8_out0\"\n",
      "name: \"Conv_8\"\n",
      "op_type: \"Conv\"\n",
      "attribute {\n",
      "  name: \"dilations\"\n",
      "  ints: 1\n",
      "  ints: 1\n",
      "  type: INTS\n",
      "}\n",
      "attribute {\n",
      "  name: \"group\"\n",
      "  i: 1\n",
      "  type: INT\n",
      "}\n",
      "attribute {\n",
      "  name: \"kernel_shape\"\n",
      "  ints: 1\n",
      "  ints: 1\n",
      "  type: INTS\n",
      "}\n",
      "attribute {\n",
      "  name: \"pads\"\n",
      "  ints: 0\n",
      "  ints: 0\n",
      "  ints: 0\n",
      "  ints: 0\n",
      "  type: INTS\n",
      "}\n",
      "attribute {\n",
      "  name: \"strides\"\n",
      "  ints: 1\n",
      "  ints: 1\n",
      "  type: INTS\n",
      "}\n",
      "\n",
      "  warnings.warn(f\"Could not extract bias from node {n}\")\n",
      "/home/gmoreno/uav/finn/deps/qonnx/src/qonnx/transformation/extract_conv_bias.py:52: UserWarning: Could not extract bias from node input: \"DequantizeLinear_37_out0\"\n",
      "input: \"DequantizeLinear_23_out0\"\n",
      "input: \"DequantizeLinear_9_out0\"\n",
      "output: \"Conv_9_out0\"\n",
      "name: \"Conv_9\"\n",
      "op_type: \"Conv\"\n",
      "attribute {\n",
      "  name: \"dilations\"\n",
      "  ints: 1\n",
      "  ints: 1\n",
      "  type: INTS\n",
      "}\n",
      "attribute {\n",
      "  name: \"group\"\n",
      "  i: 1\n",
      "  type: INT\n",
      "}\n",
      "attribute {\n",
      "  name: \"kernel_shape\"\n",
      "  ints: 3\n",
      "  ints: 3\n",
      "  type: INTS\n",
      "}\n",
      "attribute {\n",
      "  name: \"pads\"\n",
      "  ints: 1\n",
      "  ints: 1\n",
      "  ints: 1\n",
      "  ints: 1\n",
      "  type: INTS\n",
      "}\n",
      "attribute {\n",
      "  name: \"strides\"\n",
      "  ints: 1\n",
      "  ints: 1\n",
      "  type: INTS\n",
      "}\n",
      "\n",
      "  warnings.warn(f\"Could not extract bias from node {n}\")\n",
      "/home/gmoreno/uav/finn/deps/qonnx/src/qonnx/transformation/extract_conv_bias.py:52: UserWarning: Could not extract bias from node input: \"DequantizeLinear_38_out0\"\n",
      "input: \"DequantizeLinear_24_out0\"\n",
      "input: \"DequantizeLinear_10_out0\"\n",
      "output: \"Conv_10_out0\"\n",
      "name: \"Conv_10\"\n",
      "op_type: \"Conv\"\n",
      "attribute {\n",
      "  name: \"dilations\"\n",
      "  ints: 1\n",
      "  ints: 1\n",
      "  type: INTS\n",
      "}\n",
      "attribute {\n",
      "  name: \"group\"\n",
      "  i: 1\n",
      "  type: INT\n",
      "}\n",
      "attribute {\n",
      "  name: \"kernel_shape\"\n",
      "  ints: 1\n",
      "  ints: 1\n",
      "  type: INTS\n",
      "}\n",
      "attribute {\n",
      "  name: \"pads\"\n",
      "  ints: 0\n",
      "  ints: 0\n",
      "  ints: 0\n",
      "  ints: 0\n",
      "  type: INTS\n",
      "}\n",
      "attribute {\n",
      "  name: \"strides\"\n",
      "  ints: 1\n",
      "  ints: 1\n",
      "  type: INTS\n",
      "}\n",
      "\n",
      "  warnings.warn(f\"Could not extract bias from node {n}\")\n",
      "/home/gmoreno/uav/finn/deps/qonnx/src/qonnx/transformation/extract_conv_bias.py:52: UserWarning: Could not extract bias from node input: \"DequantizeLinear_39_out0\"\n",
      "input: \"DequantizeLinear_25_out0\"\n",
      "input: \"DequantizeLinear_11_out0\"\n",
      "output: \"Conv_11_out0\"\n",
      "name: \"Conv_11\"\n",
      "op_type: \"Conv\"\n",
      "attribute {\n",
      "  name: \"dilations\"\n",
      "  ints: 1\n",
      "  ints: 1\n",
      "  type: INTS\n",
      "}\n",
      "attribute {\n",
      "  name: \"group\"\n",
      "  i: 1\n",
      "  type: INT\n",
      "}\n",
      "attribute {\n",
      "  name: \"kernel_shape\"\n",
      "  ints: 3\n",
      "  ints: 3\n",
      "  type: INTS\n",
      "}\n",
      "attribute {\n",
      "  name: \"pads\"\n",
      "  ints: 1\n",
      "  ints: 1\n",
      "  ints: 1\n",
      "  ints: 1\n",
      "  type: INTS\n",
      "}\n",
      "attribute {\n",
      "  name: \"strides\"\n",
      "  ints: 1\n",
      "  ints: 1\n",
      "  type: INTS\n",
      "}\n",
      "\n",
      "  warnings.warn(f\"Could not extract bias from node {n}\")\n",
      "/home/gmoreno/uav/finn/deps/qonnx/src/qonnx/transformation/gemm_to_matmul.py:57: UserWarning: The GemmToMatMul transformation only offers explicit support for version 9 of the Gemm node, but the ONNX version of the supplied model is 13. Thus the transformation may fail or return incomplete results.\n",
      "  warnings.warn(\n"
     ]
    }
   ],
   "source": [
    "model_finn_onnx = ModelWrapper(model_cleaned)\n",
    "\n",
    "model_finn_onnx = model_finn_onnx.transform(ConvertQONNXtoFINN())"
   ]
  },
  {
   "cell_type": "code",
   "execution_count": 24,
   "id": "7a451808-aa93-451a-863c-e4fcc739570a",
   "metadata": {},
   "outputs": [],
   "source": [
    "model_finn = './BED__no_comp__best_mean_f1__cpu__FINN.onnx'"
   ]
  },
  {
   "cell_type": "code",
   "execution_count": 25,
   "id": "b0573c65-fd1b-417b-a0d1-d0b51532bf40",
   "metadata": {},
   "outputs": [],
   "source": [
    "model_finn_onnx.save(model_finn)"
   ]
  },
  {
   "cell_type": "code",
   "execution_count": 27,
   "id": "66947b49-6611-4896-a69c-e40237e753ea",
   "metadata": {},
   "outputs": [
    {
     "name": "stdout",
     "output_type": "stream",
     "text": [
      "Stopping http://0.0.0.0:8083\n",
      "Serving './BED__no_comp__best_mean_f1__cpu__FINN.onnx' at http://0.0.0.0:8083\n"
     ]
    },
    {
     "data": {
      "text/html": [
       "\n",
       "        <iframe\n",
       "            width=\"100%\"\n",
       "            height=\"400\"\n",
       "            src=\"http://localhost:8083/\"\n",
       "            frameborder=\"0\"\n",
       "            allowfullscreen\n",
       "            \n",
       "        ></iframe>\n",
       "        "
      ],
      "text/plain": [
       "<IPython.lib.display.IFrame at 0x7f6a190a8760>"
      ]
     },
     "execution_count": 27,
     "metadata": {},
     "output_type": "execute_result"
    }
   ],
   "source": [
    "showInNetron(model_finn)"
   ]
  },
  {
   "cell_type": "code",
   "execution_count": 28,
   "id": "d4f7a7db-7904-4476-81b4-04f97f32b94e",
   "metadata": {},
   "outputs": [
    {
     "data": {
      "text/plain": [
       "array([[-4.953125, -4.46875 ]], dtype=float32)"
      ]
     },
     "execution_count": 28,
     "metadata": {},
     "output_type": "execute_result"
    }
   ],
   "source": [
    "model_finn_wrapper = ModelWrapper(model_finn)\n",
    "input_dict = {\"global_in\": dummy_in}\n",
    "output_dict = oxe.execute_onnx(model_finn_wrapper, input_dict)\n",
    "produced_finn = output_dict[list(output_dict.keys())[0]]\n",
    "\n",
    "produced_finn"
   ]
  },
  {
   "cell_type": "code",
   "execution_count": 29,
   "id": "be15cd89-1bcf-4cc4-906e-332993c9a247",
   "metadata": {},
   "outputs": [
    {
     "data": {
      "text/plain": [
       "True"
      ]
     },
     "execution_count": 29,
     "metadata": {},
     "output_type": "execute_result"
    }
   ],
   "source": [
    "np.isclose(produced_qonnx, produced_finn).all()"
   ]
  },
  {
   "cell_type": "code",
   "execution_count": null,
   "id": "06ddcb0a-3862-4b7f-99de-17b9fa449e91",
   "metadata": {},
   "outputs": [],
   "source": []
  }
 ],
 "metadata": {
  "kernelspec": {
   "display_name": "Python 3 (ipykernel)",
   "language": "python",
   "name": "python3"
  },
  "language_info": {
   "codemirror_mode": {
    "name": "ipython",
    "version": 3
   },
   "file_extension": ".py",
   "mimetype": "text/x-python",
   "name": "python",
   "nbconvert_exporter": "python",
   "pygments_lexer": "ipython3",
   "version": "3.10.9"
  }
 },
 "nbformat": 4,
 "nbformat_minor": 5
}
