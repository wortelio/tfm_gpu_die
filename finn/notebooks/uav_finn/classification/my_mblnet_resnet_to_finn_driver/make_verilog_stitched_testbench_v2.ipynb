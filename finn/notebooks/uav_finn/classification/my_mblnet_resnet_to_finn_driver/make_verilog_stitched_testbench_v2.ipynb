{
 "cells": [
  {
   "cell_type": "code",
   "execution_count": 1,
   "id": "2f0d7eb6-3146-4afc-a97a-b5f05eac7be4",
   "metadata": {},
   "outputs": [],
   "source": [
    "import numpy as np\n",
    "import os\n",
    "\n",
    "from qonnx.core.modelwrapper import ModelWrapper\n",
    "\n",
    "from qonnx.custom_op.registry import getCustomOp\n",
    "\n",
    "import finn.builder.build_dataflow as build\n",
    "import finn.builder.build_dataflow_config as build_cfg\n",
    "import finn.util.data_packing as dpk\n",
    "from qonnx.core.datatype import DataType"
   ]
  },
  {
   "cell_type": "code",
   "execution_count": 2,
   "id": "01433877-e5f7-4e36-9f4c-ade81aef92df",
   "metadata": {},
   "outputs": [],
   "source": [
    "from pathlib import Path\n",
    "import cv2\n",
    "import my_metrics as metrics\n",
    "import matplotlib.pyplot as plt"
   ]
  },
  {
   "cell_type": "markdown",
   "id": "ebbde44e-342a-44de-882a-14c7a255eb3f",
   "metadata": {},
   "source": [
    "# Load Image and Label"
   ]
  },
  {
   "cell_type": "code",
   "execution_count": 3,
   "id": "0c3299e2-8917-44b6-b3f9-c84cf0e3f9ff",
   "metadata": {},
   "outputs": [],
   "source": [
    "def get_label(label_file):\n",
    "    '''\n",
    "    Receives a txt file and returns the label associated, as [smoke?, fire?]\n",
    "    '''\n",
    "    label_array = np.zeros((2))\n",
    "    \n",
    "    with open(label_file) as f:\n",
    "        lines = f.readlines()\n",
    "        for line in lines:\n",
    "            class_id, _, _, _, _ = line.strip().split()\n",
    "            class_id = int(class_id)\n",
    "            if np.array_equal(label_array, np.array([1, 1])):\n",
    "                break\n",
    "            else:\n",
    "                label_array[class_id] = 1.\n",
    "\n",
    "    label_array = np.expand_dims(label_array, axis=0)\n",
    "\n",
    "    return label_array    "
   ]
  },
  {
   "cell_type": "code",
   "execution_count": 4,
   "id": "1ff87015-84f8-4274-9def-5f2f28732dde",
   "metadata": {},
   "outputs": [],
   "source": [
    "def load_image_and_label(img_file, labels_dir):\n",
    "    '''\n",
    "    Receives image and label files and returns the image ready for FINN and corresponding label   \n",
    "    '''\n",
    "    img = cv2.imread(img_file)\n",
    "    img = cv2.cvtColor(img, cv2.COLOR_BGR2RGB)  \n",
    "    img = cv2.resize(img, (224, 224), interpolation = cv2.INTER_LINEAR)\n",
    "    img = img.copy().astype(np.float32)    \n",
    "    img = np.expand_dims(img, axis=0)\n",
    "\n",
    "    img_name = Path(img_file).stem\n",
    "    label_file = labels_dir + img_name + '.txt'\n",
    "    label = get_label(label_file)\n",
    "\n",
    "    return img, label"
   ]
  },
  {
   "cell_type": "markdown",
   "id": "f7fcacd1-51c2-4f17-9eb0-6ba3eb76e918",
   "metadata": {},
   "source": [
    "### Images and Labels Folders"
   ]
  },
  {
   "cell_type": "code",
   "execution_count": 5,
   "id": "97487a5f-33fe-4014-b2ec-b992b9e18214",
   "metadata": {},
   "outputs": [],
   "source": [
    "DS_FOLDER = '../../datasets/dfire_mini/'\n",
    "# DS_FOLDER += 'train/'\n",
    "DS_FOLDER += 'test/'\n",
    "\n",
    "DS_IMGS = DS_FOLDER + 'images/'\n",
    "DS_LABELS = DS_FOLDER + 'labels/'"
   ]
  },
  {
   "cell_type": "code",
   "execution_count": 6,
   "id": "cd3b0a9a-a603-48a4-8e1e-b37331fad326",
   "metadata": {},
   "outputs": [],
   "source": [
    "IMGS_LIST = sorted([DS_IMGS + img_file for img_file in os.listdir(DS_IMGS)])"
   ]
  },
  {
   "cell_type": "code",
   "execution_count": 7,
   "id": "40c7f9e1-fe4a-4781-a04c-b5651d54dfd4",
   "metadata": {},
   "outputs": [
    {
     "name": "stdout",
     "output_type": "stream",
     "text": [
      "../../datasets/dfire_mini/test/images/PublicDataset01212.jpg\n"
     ]
    }
   ],
   "source": [
    "print(IMGS_LIST[10])"
   ]
  },
  {
   "cell_type": "markdown",
   "id": "08d9b5a1-3f68-4344-904b-164d1fdc87be",
   "metadata": {
    "jp-MarkdownHeadingCollapsed": true
   },
   "source": [
    "### Little reshape test"
   ]
  },
  {
   "cell_type": "code",
   "execution_count": 8,
   "id": "082f68fd-9352-4695-971c-3bd55d55109b",
   "metadata": {},
   "outputs": [],
   "source": [
    "# a = np.array([[[1, 2], [3, 4]]])\n",
    "# print(a.shape)\n",
    "# b = np.array([[[5, 6], [7, 8]]])\n",
    "# print(a.shape)\n",
    "# c = np.concatenate((a, b))\n",
    "# print(c.shape)\n",
    "# print(a)\n",
    "# print(b)\n",
    "# print(c)\n",
    "# print(c.reshape(1, -1, 2))"
   ]
  },
  {
   "cell_type": "markdown",
   "id": "fb0dfb5a-97e3-46e4-a420-c1c62a99bac9",
   "metadata": {},
   "source": [
    "### Load Test Image and Label"
   ]
  },
  {
   "cell_type": "code",
   "execution_count": 9,
   "id": "84591ae3-fd8d-434e-95a1-f569aa1fc21a",
   "metadata": {},
   "outputs": [],
   "source": [
    "IMG_BATCH = True\n",
    "\n",
    "### TRAIN\n",
    "# test_img = IMGS_LIST[32] # Only Smoke\n",
    "# test_img = IMGS_LIST[90] # Smoke & Fire\n",
    "# test_img_list = [IMGS_LIST[2], IMGS_LIST[32], IMGS_LIST[90]]\n",
    "\n",
    "### TEST\n",
    "test_img_list = [IMGS_LIST[2], IMGS_LIST[9], IMGS_LIST[12], IMGS_LIST[14],\n",
    "                 IMGS_LIST[18], IMGS_LIST[19], IMGS_LIST[24], IMGS_LIST[27]]\n",
    "\n",
    "if not IMG_BATCH:\n",
    "    npy_img, npy_label = load_image_and_label(\n",
    "        img_file=test_img, \n",
    "        labels_dir=DS_LABELS)\n",
    "else:\n",
    "    npy_img, npy_label = load_image_and_label(\n",
    "        img_file=test_img_list[0], \n",
    "        labels_dir=DS_LABELS)\n",
    "    for i in range(len(test_img_list)):\n",
    "        if i != 0:\n",
    "            i_npy_img, i_npy_label = load_image_and_label(\n",
    "                img_file=test_img_list[i], \n",
    "                labels_dir=DS_LABELS)\n",
    "            npy_img = np.concatenate((npy_img, i_npy_img))\n",
    "            npy_label = np.concatenate((npy_label, i_npy_label))    "
   ]
  },
  {
   "cell_type": "code",
   "execution_count": 10,
   "id": "9f3b8fd2-23c9-41e8-84ad-b5e7582ef247",
   "metadata": {},
   "outputs": [
    {
     "name": "stdout",
     "output_type": "stream",
     "text": [
      "Image shape = (8, 224, 224, 3)\n",
      "Image data type = float32\n",
      "Label shape = (8, 2)\n",
      "Label data type = float32\n"
     ]
    }
   ],
   "source": [
    "print(f'Image shape = {npy_img.shape}')\n",
    "print(f'Image data type = {npy_img.dtype}')\n",
    "\n",
    "print(f'Label shape = {npy_label.shape}')\n",
    "print(f'Label data type = {npy_img.dtype}')"
   ]
  },
  {
   "cell_type": "markdown",
   "id": "0792526d-d478-4d73-80a8-9ec01668f1be",
   "metadata": {},
   "source": [
    "### Plot Image"
   ]
  },
  {
   "cell_type": "code",
   "execution_count": 11,
   "id": "7ba49c6d-5d3c-4d3a-b7b3-225da023786b",
   "metadata": {},
   "outputs": [
    {
     "data": {
      "image/png": "[encoded data removed]",
      "text/plain": [
       "<Figure size 300x300 with 1 Axes>"
      ]
     },
     "metadata": {},
     "output_type": "display_data"
    }
   ],
   "source": [
    "fig, ax = plt.subplots(figsize=(3,3))\n",
    "\n",
    "ax.imshow(npy_img[3]/255.)\n",
    "plt.show()"
   ]
  },
  {
   "cell_type": "markdown",
   "id": "ccb621ae-5f0f-4ce5-8747-3be828f374b4",
   "metadata": {
    "jp-MarkdownHeadingCollapsed": true
   },
   "source": [
    "### Print Some Pixels"
   ]
  },
  {
   "cell_type": "code",
   "execution_count": 12,
   "id": "7ddacf2d-5120-4ad3-b51b-7e198fcb8522",
   "metadata": {},
   "outputs": [],
   "source": [
    "# # print(npy_img[0, :3, :3, :])\n",
    "\n",
    "# i = 4\n",
    "# j = 4\n",
    "# c = 3\n",
    "# npy_img_list = npy_img[0, :4, :4, :].tolist()\n",
    "\n",
    "# print(npy_img_list)\n",
    "# for row in range(i):\n",
    "#     for col in range(j):\n",
    "#         rgb2print = []\n",
    "#         for channel in range(c):\n",
    "#             rgb2print = rgb2print + [hex(int(npy_img_list[row][col][channel]))]\n",
    "#         print(rgb2print)\n",
    "# # # plt.imshow(npy_img[0, :5, :5, :]/255.)\n",
    "# # # plt.show()"
   ]
  },
  {
   "cell_type": "markdown",
   "id": "f8fa5abd-9f37-437e-9e54-7017251264f2",
   "metadata": {},
   "source": [
    "### Template and Build folders"
   ]
  },
  {
   "cell_type": "markdown",
   "id": "dbc40fb6-bbbc-48de-a436-ac79cfb54be3",
   "metadata": {},
   "source": [
    "#### 750 FPS"
   ]
  },
  {
   "cell_type": "code",
   "execution_count": 13,
   "id": "66bff96d-f6e6-415e-b723-36ad2bde24b0",
   "metadata": {},
   "outputs": [],
   "source": [
    "# verilog_stitched_folder = './verilog_stitched_sim/750_FPS'\n",
    "# template_folder = './verilog_stitched_sim/templates'\n",
    "# build_folder = ('./experiments' \n",
    "#                + '/750_FPS'\n",
    "#                + '/02_full_build_vvau_lut_hls_mvau_hls'\n",
    "#                + '/output_full_build')\n",
    "# sim_output_dir = build_folder + \"/sim\"\n",
    "\n",
    "# if not os.path.isdir(sim_output_dir):\n",
    "#     print(f'Creating {sim_output_dir}')\n",
    "#     os.makedirs(sim_output_dir)"
   ]
  },
  {
   "cell_type": "markdown",
   "id": "597da63f-7540-43ad-92ea-70143fc53f43",
   "metadata": {},
   "source": [
    "#### 30 FPS"
   ]
  },
  {
   "cell_type": "code",
   "execution_count": 14,
   "id": "2681513a-700f-4e0c-9a48-b94c05803a48",
   "metadata": {},
   "outputs": [],
   "source": [
    "# verilog_stitched_folder = './verilog_stitched_sim/30_FPS'\n",
    "# template_folder = './verilog_stitched_sim/templates'\n",
    "# build_folder = ('./experiments_CLK' \n",
    "#                + '/30_FPS_CLK_200ns'\n",
    "#                + '/03_full_build_final_mvau_hls'\n",
    "#                + '/output_full_build')"
   ]
  },
  {
   "cell_type": "markdown",
   "id": "0934db99-c2e7-4d3f-a194-d624f7c308a1",
   "metadata": {},
   "source": [
    "#### 5 FPS"
   ]
  },
  {
   "cell_type": "code",
   "execution_count": 15,
   "id": "f071cd32-b683-46b9-9853-ea0ab0bc9c2d",
   "metadata": {},
   "outputs": [],
   "source": [
    "verilog_stitched_folder = './verilog_stitched_sim/05_FPS'\n",
    "template_folder = './verilog_stitched_sim/templates'\n",
    "build_folder = ('./experiments_CLK' \n",
    "               + '/1_FPS_CLK_1us'\n",
    "               + '/04_full_build_final_mvau_hls'\n",
    "               + '/output_full_build')"
   ]
  },
  {
   "cell_type": "markdown",
   "id": "528e25cb-4847-4451-80d6-298ea7700206",
   "metadata": {},
   "source": [
    "### Filenames"
   ]
  },
  {
   "cell_type": "code",
   "execution_count": 16,
   "id": "24704234-accd-470d-9d38-b666943ba09b",
   "metadata": {},
   "outputs": [],
   "source": [
    "inp_fname = '/input_batch_8'\n",
    "expected_oup_fname = '/expected_output_batch_8'\n",
    "\n",
    "inp_npy_fname = inp_fname + '.npy'\n",
    "expected_oup_npy_fname = expected_oup_fname + '.npy'\n",
    "\n",
    "inp_dat_fname = inp_fname + '.dat'\n",
    "expected_oup_dat_fname = expected_oup_fname + '.dat'"
   ]
  },
  {
   "cell_type": "code",
   "execution_count": 17,
   "id": "47b3749c-ef45-4be2-8da3-5fede64fc9b5",
   "metadata": {},
   "outputs": [
    {
     "name": "stdout",
     "output_type": "stream",
     "text": [
      "/input_batch_8.npy \n",
      " /expected_output_batch_8.npy\n",
      "/input_batch_8.dat \n",
      " /expected_output_batch_8.dat\n"
     ]
    }
   ],
   "source": [
    "print(inp_npy_fname, \"\\n\", expected_oup_npy_fname)\n",
    "print(inp_dat_fname, \"\\n\", expected_oup_dat_fname)"
   ]
  },
  {
   "cell_type": "markdown",
   "id": "7d482443-00f5-4ddc-b9aa-fef79be51947",
   "metadata": {},
   "source": [
    "### Save Numpy files"
   ]
  },
  {
   "cell_type": "code",
   "execution_count": 18,
   "id": "f40ccd09-ecdb-44f6-b80b-2715d8517de0",
   "metadata": {},
   "outputs": [],
   "source": [
    "np.save(verilog_stitched_folder + inp_npy_fname, npy_img)\n",
    "np.save(verilog_stitched_folder + expected_oup_npy_fname, npy_label)"
   ]
  },
  {
   "cell_type": "markdown",
   "id": "d717c07f-7a5a-4dc2-9142-14b36c6575bf",
   "metadata": {},
   "source": [
    "### Load Numpy files to check"
   ]
  },
  {
   "cell_type": "code",
   "execution_count": 19,
   "id": "a292d16d-8262-4c26-a980-3d570ef0ea02",
   "metadata": {},
   "outputs": [],
   "source": [
    "inp_check = np.load(verilog_stitched_folder + inp_npy_fname)\n",
    "oup_check = np.load(verilog_stitched_folder + expected_oup_npy_fname)"
   ]
  },
  {
   "cell_type": "code",
   "execution_count": 20,
   "id": "7bc39f12-3274-4d8c-a503-19340a838208",
   "metadata": {},
   "outputs": [
    {
     "name": "stdout",
     "output_type": "stream",
     "text": [
      "Input shape: (8, 224, 224, 3)\n",
      "Input type: float32\n",
      "(8, 2)\n"
     ]
    }
   ],
   "source": [
    "print(f'Input shape: {inp_check.shape}')\n",
    "print(f'Input type: {inp_check.dtype}')\n",
    "\n",
    "print(oup_check.shape)"
   ]
  },
  {
   "cell_type": "code",
   "execution_count": 21,
   "id": "50aa79f6-db5f-423d-b6c4-ea22c213f7c7",
   "metadata": {},
   "outputs": [
    {
     "data": {
      "image/png": "[encoded data removed]",
      "text/plain": [
       "<Figure size 300x300 with 1 Axes>"
      ]
     },
     "metadata": {},
     "output_type": "display_data"
    }
   ],
   "source": [
    "fig, ax = plt.subplots(figsize=(3,3))\n",
    "\n",
    "ax.imshow(inp_check[0]/255.)\n",
    "plt.show()"
   ]
  },
  {
   "cell_type": "markdown",
   "id": "6285efaf-7347-46ec-be3d-a62159f1f17c",
   "metadata": {},
   "source": [
    "# Manual Checkings"
   ]
  },
  {
   "cell_type": "markdown",
   "id": "c9073f05-c611-4b7c-af62-2ed75efb78b9",
   "metadata": {},
   "source": [
    "### Image data to input.dat"
   ]
  },
  {
   "cell_type": "code",
   "execution_count": 22,
   "id": "c251936e-6c9a-4080-921c-26a8ea32d610",
   "metadata": {},
   "outputs": [
    {
     "name": "stdout",
     "output_type": "stream",
     "text": [
      "Batch size: 8\n"
     ]
    }
   ],
   "source": [
    "# Model and Stitched folder\n",
    "model_filename = build_folder + \"/intermediate_models/step_create_stitched_ip.onnx\"\n",
    "model = ModelWrapper(model_filename)\n",
    "\n",
    "# load the provided input data\n",
    "inp_data = np.load(verilog_stitched_folder + inp_npy_fname)\n",
    "batchsize = inp_data.shape[0]\n",
    "print(f'Batch size: {batchsize}')"
   ]
  },
  {
   "cell_type": "code",
   "execution_count": 23,
   "id": "e6d5d71d-5042-4d00-8aa9-900b93154819",
   "metadata": {},
   "outputs": [],
   "source": [
    "# permute input image from NCHW -> NHWC format (needed by FINN)\n",
    "# No need to do this, as images will be loaded from cv2 as (N, H, W, C) -> (1, 224, 224, 3)\n",
    "# inp_data = np.transpose(inp_data, (0, 2, 3, 1))\n",
    "\n",
    "# ??? Intended for flattened FC networks... just to try. Not needed here.\n",
    "#inp_data = inp_data.reshape(batchsize, -1)\n",
    "#print(f'Input data flattened: {inp_data}')"
   ]
  },
  {
   "cell_type": "code",
   "execution_count": 24,
   "id": "fd02858d-2f28-4163-b21f-f70e81202b46",
   "metadata": {},
   "outputs": [
    {
     "name": "stdout",
     "output_type": "stream",
     "text": [
      "Input shape folded: [1, 224, 224, 3, 1]\n",
      "Input stream width: 8\n"
     ]
    }
   ],
   "source": [
    "# query the parallelism-dependent folded input shape from the\n",
    "# node consuming the graph input\n",
    "inp_name = model.graph.input[0].name\n",
    "inp_node = getCustomOp(model.find_consumer(inp_name))\n",
    "inp_shape_folded = list(inp_node.get_folded_input_shape())\n",
    "\n",
    "print(f'Input shape folded: {inp_shape_folded}')\n",
    "\n",
    "inp_stream_width = inp_node.get_instream_width_padded()\n",
    "\n",
    "print(f'Input stream width: {inp_stream_width}')"
   ]
  },
  {
   "cell_type": "code",
   "execution_count": 25,
   "id": "70e13c67-91f2-4f6d-80b9-9dee2520bca3",
   "metadata": {},
   "outputs": [
    {
     "name": "stdout",
     "output_type": "stream",
     "text": [
      "Input data type: UINT8\n",
      "Input data after folded reshape: (8, 224, 224, 3, 1)\n"
     ]
    }
   ],
   "source": [
    "# # fix first dimension (N: batch size) to correspond to input data\n",
    "# # since FINN model itself always uses N=1\n",
    "inp_shape_folded[0] = batchsize\n",
    "inp_shape_folded = tuple(inp_shape_folded)\n",
    "inp_dtype = model.get_tensor_datatype(inp_name)\n",
    "print(f'Input data type: {inp_dtype}')\n",
    "# now re-shape input data into the folded shape and do hex packing\n",
    "inp_data = inp_data.reshape(inp_shape_folded)\n",
    "\n",
    "print(f'Input data after folded reshape: {inp_data.shape}')"
   ]
  },
  {
   "cell_type": "code",
   "execution_count": 26,
   "id": "c05efc2e-7238-473d-a314-de4fe2a6345b",
   "metadata": {},
   "outputs": [
    {
     "name": "stdout",
     "output_type": "stream",
     "text": [
      "Input data packed: (8, 224, 224, 3)\n"
     ]
    }
   ],
   "source": [
    "inp_data_packed = dpk.pack_innermost_dim_as_hex_string(\n",
    "    inp_data, inp_dtype, inp_stream_width, prefix=\"\", reverse_inner=True\n",
    ")\n",
    "\n",
    "print(f'Input data packed: {inp_data_packed.shape}')\n",
    "# print(inp_data_packed)"
   ]
  },
  {
   "cell_type": "code",
   "execution_count": 27,
   "id": "cea3cb65-dd66-4e81-b5a8-1cca9a805a3e",
   "metadata": {},
   "outputs": [
    {
     "name": "stdout",
     "output_type": "stream",
     "text": [
      "Input data packed after reshape: (5376, 224)\n"
     ]
    }
   ],
   "source": [
    "# # np.savetxt cannot save arrays of more than 2D\n",
    "# # data packed is 4D (1, 224, 224, 3)\n",
    "# # First Fifo has PE=1 -> 1 element at a time, of size 8\n",
    "if not IMG_BATCH:\n",
    "    inp_data_packed = np.squeeze(inp_data_packed)\n",
    "    print(f'Input data packed after squeeze: {inp_data_packed.shape}')\n",
    "else:\n",
    "    inp_data_packed = np.reshape(inp_data_packed, (1, -1, inp_data_packed.shape[2]))  \n",
    "    inp_data_packed = np.squeeze(inp_data_packed)\n",
    "    print(f'Input data packed after reshape: {inp_data_packed.shape}')\n",
    "\n",
    "np.savetxt(verilog_stitched_folder + inp_dat_fname, inp_data_packed, fmt=\"%s\", delimiter=\"\\n\")"
   ]
  },
  {
   "cell_type": "markdown",
   "id": "c6015984-a84e-4c45-a64b-8d17133ce941",
   "metadata": {},
   "source": [
    "### Label to out.dat"
   ]
  },
  {
   "cell_type": "code",
   "execution_count": 28,
   "id": "e452f0e1-d030-46e8-a4ac-e2e73f1cf922",
   "metadata": {},
   "outputs": [
    {
     "name": "stdout",
     "output_type": "stream",
     "text": [
      "Out stream width: 8\n",
      "Out shape folded: (8, 2, 1)\n",
      "Out data type: BINARY\n"
     ]
    }
   ],
   "source": [
    "# load expected output and calculate folded shape\n",
    "exp_out = np.load(verilog_stitched_folder + expected_oup_npy_fname)    \n",
    "out_name = model.graph.output[0].name\n",
    "out_node = getCustomOp(model.find_producer(out_name))\n",
    "out_shape_folded = list(out_node.get_folded_output_shape())\n",
    "out_stream_width = out_node.get_outstream_width_padded()\n",
    "print(f'Out stream width: {out_stream_width}')\n",
    "out_shape_folded[0] = batchsize\n",
    "out_shape_folded = tuple(out_shape_folded)\n",
    "print(f'Out shape folded: {out_shape_folded}')\n",
    "out_dtype = model.get_tensor_datatype(out_name)\n",
    "print(f'Out data type: {out_dtype}')\n",
    "exp_out = exp_out.reshape(out_shape_folded)\n",
    "out_data_packed = dpk.pack_innermost_dim_as_hex_string(\n",
    "    exp_out, out_dtype, out_stream_width, prefix=\"\", reverse_inner=True\n",
    ")\n",
    "np.savetxt(\n",
    "    verilog_stitched_folder + expected_oup_dat_fname,\n",
    "    out_data_packed,\n",
    "    fmt=\"%s\",\n",
    "    delimiter=\"\\n\",\n",
    ")"
   ]
  },
  {
   "cell_type": "markdown",
   "id": "c3f35b69-6c4e-4c2b-b6ff-f2bc471f463d",
   "metadata": {},
   "source": [
    "### Testbench file"
   ]
  },
  {
   "cell_type": "code",
   "execution_count": 29,
   "id": "e8888acd-abc2-42c2-bc34-7b3ed83d879d",
   "metadata": {},
   "outputs": [],
   "source": [
    "# fill in testbench template\n",
    "with open(template_folder + \"/finn_testbench.template.sv\", \"r\") as f:\n",
    "    testbench_sv = f.read()\n",
    "testbench_sv = testbench_sv.replace(\"@N_SAMPLES@\", str(batchsize))\n",
    "testbench_sv = testbench_sv.replace(\"@IN_STREAM_BITWIDTH@\", str(inp_stream_width))\n",
    "testbench_sv = testbench_sv.replace(\"@OUT_STREAM_BITWIDTH@\", str(out_stream_width))\n",
    "testbench_sv = testbench_sv.replace(\n",
    "    \"@IN_BEATS_PER_SAMPLE@\", str(int(np.prod(inp_shape_folded[:-1]) / batchsize))\n",
    ")\n",
    "testbench_sv = testbench_sv.replace(\n",
    "    \"@OUT_BEATS_PER_SAMPLE@\", str(int(np.prod(out_shape_folded[:-1]) / batchsize))\n",
    ")\n",
    "#testbench_sv = testbench_sv.replace(\"@TIMEOUT_CYCLES@\", \"1000\")\n",
    "# testbench_sv = testbench_sv.replace(\"@TIMEOUT_CYCLES@\", \"11710954\") # Taken from eval_stitched_ip\n",
    "\n",
    "time_out = 1600000 # 200000*8, 200k is the latency of first picture; 8 images in the batch\n",
    "if not IMG_BATCH:\n",
    "    time_out_str = str(time_out) \n",
    "    testbench_sv = testbench_sv.replace(\"@TIMEOUT_CYCLES@\", time_out_str) # A little bit more than latency\n",
    "else:\n",
    "    time_out_str = str(batchsize * time_out) \n",
    "    testbench_sv = testbench_sv.replace(\"@TIMEOUT_CYCLES@\", time_out_str) # A little bit more than latency\n",
    "    \n",
    "if not IMG_BATCH:\n",
    "    with open(verilog_stitched_folder + \"/finn_testbench.sv\", \"w\") as f:\n",
    "        f.write(testbench_sv)\n",
    "else:\n",
    "    with open(verilog_stitched_folder + \"/finn_testbench_batch.sv\", \"w\") as f:\n",
    "        f.write(testbench_sv)"
   ]
  },
  {
   "cell_type": "code",
   "execution_count": null,
   "id": "5b40a615-2d7b-4fb5-ba68-f146c3bb162a",
   "metadata": {},
   "outputs": [],
   "source": []
  }
 ],
 "metadata": {
  "kernelspec": {
   "display_name": "Python 3 (ipykernel)",
   "language": "python",
   "name": "python3"
  },
  "language_info": {
   "codemirror_mode": {
    "name": "ipython",
    "version": 3
   },
   "file_extension": ".py",
   "mimetype": "text/x-python",
   "name": "python",
   "nbconvert_exporter": "python",
   "pygments_lexer": "ipython3",
   "version": "3.10.12"
  }
 },
 "nbformat": 4,
 "nbformat_minor": 5
}
