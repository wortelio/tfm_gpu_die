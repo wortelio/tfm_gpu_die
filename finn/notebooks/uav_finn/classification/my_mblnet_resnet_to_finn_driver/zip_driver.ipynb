{
 "cells": [
  {
   "cell_type": "code",
   "execution_count": 4,
   "id": "f2e5c82e-f1f9-41d3-99fa-2a6fe725ee33",
   "metadata": {},
   "outputs": [],
   "source": [
    "import shutil\n",
    "import os"
   ]
  },
  {
   "cell_type": "code",
   "execution_count": 3,
   "id": "768ed2a5-4f9d-401f-8c85-7aaf4a14cb60",
   "metadata": {},
   "outputs": [],
   "source": [
    "deploy_file = ('./experiments'\n",
    "               + '/400_FPS'\n",
    "               + '/02_full_build_json_repeated_01'\n",
    "               + '/output_full_build'\n",
    "               + '/deploy')"
   ]
  },
  {
   "cell_type": "code",
   "execution_count": 5,
   "id": "610aca67-740c-44e8-b626-80a697f53a67",
   "metadata": {},
   "outputs": [
    {
     "name": "stdout",
     "output_type": "stream",
     "text": [
      "['driver', 'bitfile']\n"
     ]
    }
   ],
   "source": [
    "print(os.listdir(deploy_file))"
   ]
  },
  {
   "cell_type": "code",
   "execution_count": 6,
   "id": "4a8789fd-5ecf-4f60-8afe-2661aa20c280",
   "metadata": {},
   "outputs": [
    {
     "data": {
      "text/plain": [
       "'/home/gmoreno/uav/finn/notebooks/uav_finn/classification/my_mblnet_resnet_to_finn_driver/400_FPS_deploy.zip'"
      ]
     },
     "execution_count": 6,
     "metadata": {},
     "output_type": "execute_result"
    }
   ],
   "source": [
    "shutil.make_archive('./400_FPS_deploy', 'zip', deploy_file)"
   ]
  },
  {
   "cell_type": "code",
   "execution_count": null,
   "id": "464d4104-1207-479e-a0bb-206f83347398",
   "metadata": {},
   "outputs": [],
   "source": []
  }
 ],
 "metadata": {
  "kernelspec": {
   "display_name": "Python 3 (ipykernel)",
   "language": "python",
   "name": "python3"
  },
  "language_info": {
   "codemirror_mode": {
    "name": "ipython",
    "version": 3
   },
   "file_extension": ".py",
   "mimetype": "text/x-python",
   "name": "python",
   "nbconvert_exporter": "python",
   "pygments_lexer": "ipython3",
   "version": "3.10.12"
  }
 },
 "nbformat": 4,
 "nbformat_minor": 5
}
