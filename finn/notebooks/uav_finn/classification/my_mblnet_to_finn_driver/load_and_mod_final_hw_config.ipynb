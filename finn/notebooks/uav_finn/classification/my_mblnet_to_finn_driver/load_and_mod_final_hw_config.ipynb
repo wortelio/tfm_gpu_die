{
 "cells": [
  {
   "cell_type": "code",
   "execution_count": 2,
   "id": "ea1333d9-35d3-4f74-b4d8-d56f896e1305",
   "metadata": {},
   "outputs": [],
   "source": [
    "import json"
   ]
  },
  {
   "cell_type": "markdown",
   "id": "99fc10f6-a8a7-4de5-aecd-7c73fefa280f",
   "metadata": {},
   "source": [
    "# Load and Print Original final_hw_config.json"
   ]
  },
  {
   "cell_type": "code",
   "execution_count": 8,
   "id": "0df123b0-a56e-45b7-af16-d20774b90a52",
   "metadata": {},
   "outputs": [],
   "source": [
    "with open(\"final_hw_config.json\", 'r') as json_file:\n",
    "    hw_config = json.load(json_file)"
   ]
  },
  {
   "cell_type": "code",
   "execution_count": null,
   "id": "687a17df-405a-43fc-863f-ad22613d6bc3",
   "metadata": {},
   "outputs": [],
   "source": [
    "#print(json.dumps(hw_config, indent=1))"
   ]
  },
  {
   "cell_type": "markdown",
   "id": "abe61493-13be-4c85-9601-5168df90477f",
   "metadata": {},
   "source": [
    "# Modify and Print"
   ]
  },
  {
   "cell_type": "code",
   "execution_count": 9,
   "id": "f69794c7-1899-4366-b06a-0e6049c3e4f5",
   "metadata": {},
   "outputs": [],
   "source": [
    "for key in hw_config:\n",
    "    if \"Defaults\" in key:\n",
    "        continue\n",
    "        \n",
    "    if \"StreamingFIFO\" in key:\n",
    "        if hw_config[key][\"depth\"] > 32:\n",
    "            hw_config[key][\"ram_style\"] = \"block\"   \n",
    "        if hw_config[key][\"depth\"] > 16384:\n",
    "            hw_config[key][\"depth\"] = 16384    \n",
    "    \n",
    "    if hw_config[key][\"inFIFODepths\"][0] > 16384:\n",
    "        hw_config[key][\"inFIFODepths\"][0] = 16384\n",
    "    if hw_config[key][\"outFIFODepths\"][0] > 16384:\n",
    "        hw_config[key][\"outFIFODepths\"][0] = 16384        \n",
    "    \n",
    "    if \"ConvolutionInputGenerator\" in key:\n",
    "        hw_config[key][\"ram_style\"] = \"block\" "
   ]
  },
  {
   "cell_type": "code",
   "execution_count": 10,
   "id": "633740a1-c6c7-462b-b4d6-8c346366bf9f",
   "metadata": {},
   "outputs": [],
   "source": [
    "# print(json.dumps(hw_config, indent=1))"
   ]
  },
  {
   "cell_type": "markdown",
   "id": "6545bf80-435c-4ca0-b660-024d2458bdbf",
   "metadata": {},
   "source": [
    "# Save"
   ]
  },
  {
   "cell_type": "code",
   "execution_count": 11,
   "id": "b5c27eab-00f4-4668-8310-8b66ed022394",
   "metadata": {},
   "outputs": [],
   "source": [
    "# Save as .json    \n",
    "with open(\"final_hw_config_025FPS.json\", \"w\") as jsonFile:\n",
    "    json.dump(hw_config, jsonFile)"
   ]
  },
  {
   "cell_type": "code",
   "execution_count": null,
   "id": "f3c98987-2f5f-412d-8d92-3eef1ddf0201",
   "metadata": {},
   "outputs": [],
   "source": []
  }
 ],
 "metadata": {
  "kernelspec": {
   "display_name": "Python 3 (ipykernel)",
   "language": "python",
   "name": "python3"
  },
  "language_info": {
   "codemirror_mode": {
    "name": "ipython",
    "version": 3
   },
   "file_extension": ".py",
   "mimetype": "text/x-python",
   "name": "python",
   "nbconvert_exporter": "python",
   "pygments_lexer": "ipython3",
   "version": "3.10.12"
  }
 },
 "nbformat": 4,
 "nbformat_minor": 5
}
