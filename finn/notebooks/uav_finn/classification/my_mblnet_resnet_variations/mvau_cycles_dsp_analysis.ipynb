{
 "cells": [
  {
   "cell_type": "markdown",
   "id": "7834cf6a-caf0-4fde-b788-16a96b38c7eb",
   "metadata": {},
   "source": [
    "##### Expected Cycles\n",
    "\n",
    "$$\n",
    "Exp_{cycles} = \\frac{MH}{PE} \\frac{MW}{SIMD} \\times N_{IN_{Vectors}}\n",
    "$$\n",
    "\n",
    "Num input vectors es el producto de las dimensiones de los vectores. Ejemplo:\n",
    "$$\n",
    "N_{INP_{Vectors}} = 1, 224, 224 = 1\\times224\\times224  = 50176\n",
    "$$\n",
    "\n",
    "##### Estimated DSP\n",
    "\n",
    "$$\n",
    "DSP = ceil(\\frac{PE}{4}) \\times SIMD\n",
    "$$"
   ]
  },
  {
   "cell_type": "code",
   "execution_count": null,
   "id": "348584a9-0c19-4c17-9599-36567cfd9833",
   "metadata": {},
   "outputs": [],
   "source": []
  }
 ],
 "metadata": {
  "kernelspec": {
   "display_name": "Python 3 (ipykernel)",
   "language": "python",
   "name": "python3"
  },
  "language_info": {
   "codemirror_mode": {
    "name": "ipython",
    "version": 3
   },
   "file_extension": ".py",
   "mimetype": "text/x-python",
   "name": "python",
   "nbconvert_exporter": "python",
   "pygments_lexer": "ipython3",
   "version": "3.10.12"
  }
 },
 "nbformat": 4,
 "nbformat_minor": 5
}
