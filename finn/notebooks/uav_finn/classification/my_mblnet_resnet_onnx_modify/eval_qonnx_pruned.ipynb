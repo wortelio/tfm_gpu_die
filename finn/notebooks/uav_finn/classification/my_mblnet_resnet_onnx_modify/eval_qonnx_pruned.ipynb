{
 "cells": [
  {
   "cell_type": "code",
   "execution_count": 1,
   "id": "1c8eae8f-fd0a-4fd7-a4ff-b6bcc9be0aa1",
   "metadata": {},
   "outputs": [],
   "source": [
    "import numpy as np\n",
    "\n",
    "# from finn.util.visualization import showInNetron\n",
    "\n",
    "from qonnx.util.cleanup import cleanup as qonnx_cleanup\n",
    "from qonnx.core.modelwrapper import ModelWrapper\n",
    "# from finn.transformation.qonnx.convert_qonnx_to_finn import ConvertQONNXtoFINN\n",
    "\n",
    "import os\n",
    "import pandas as pd\n",
    "import my_metrics as metrics"
   ]
  },
  {
   "cell_type": "markdown",
   "id": "0e43053c-4740-41b4-a321-dc3c0bd8f5bd",
   "metadata": {},
   "source": [
    "# Load Original and OOC Model"
   ]
  },
  {
   "cell_type": "code",
   "execution_count": 2,
   "id": "0b34fa48-2101-4c22-997d-6ca37bebfd25",
   "metadata": {},
   "outputs": [],
   "source": [
    "# ori_bipolar_filename = './manual_prune/20_prune_easy_convs.onnx'\n",
    "\n",
    "# ori_bipolar_filename = './manual_prune/20_prune_all_convs.onnx'\n",
    "\n",
    "# ori_bipolar_filename = './manual_pruning/mul4/30_prune_all_convs_no_mul4.onnx'\n",
    "\n",
    "# ori_bipolar_filename = './manual_pruning/mul4_and_scales/30_prune_all_convs_no_mul4_scalemin.onnx'\n",
    "\n",
    "# ori_bipolar_filename = './manual_pruning/mul4_and_scales/20_prune_all_convs_mul4_scalemin.onnx'\n",
    "\n",
    "# ori_bipolar_filename = './onnx_models/20_prune_all_convs_mul8_scale_zeroidx.onnx'\n",
    "\n",
    "# ori_bipolar_filename = './onnx_models/prune_all_convs_only_thres.onnx'\n",
    "\n",
    "# ori_bipolar_filename = './manual_pruning/pruning/sparse24_mul8/20_prune_all_convs_mul8.onnx'\n",
    "\n",
    "ori_bipolar_filename = './onnx_models/Mobilenetv2_Mini_Resnet_Sparse24__best_F1__Bipolar.onnx'"
   ]
  },
  {
   "cell_type": "code",
   "execution_count": 3,
   "id": "33f4733c-abfd-44e2-8e12-048c2443b905",
   "metadata": {},
   "outputs": [],
   "source": [
    "# showInNetron(ori_bipolar_filename)"
   ]
  },
  {
   "cell_type": "markdown",
   "id": "b4ea156f-6a8a-42b8-beda-6cf68fd1ec68",
   "metadata": {},
   "source": [
    "# Clean Model First"
   ]
  },
  {
   "cell_type": "code",
   "execution_count": 4,
   "id": "a5ad1e69-ffbc-4d48-89bd-d6f1d34d67a6",
   "metadata": {},
   "outputs": [],
   "source": [
    "# qonnx_clean_filename = './onnx_models/' + 'sparse24_clean_model.onnx'\n",
    "# qonnx_cleanup(ori_bipolar_filename, out_file=qonnx_clean_filename)"
   ]
  },
  {
   "cell_type": "markdown",
   "id": "3866c8be-8610-4743-9626-b1a216a540db",
   "metadata": {},
   "source": [
    "### Model Wrappers"
   ]
  },
  {
   "cell_type": "code",
   "execution_count": 5,
   "id": "1d6cfaef-1d56-4ef4-90ad-ffb85ab41efc",
   "metadata": {},
   "outputs": [],
   "source": [
    "ori_bipolar_model = ModelWrapper(ori_bipolar_filename)\n",
    "\n",
    "# ori_bipolar_model = ModelWrapper(qonnx_clean_filename)"
   ]
  },
  {
   "cell_type": "markdown",
   "id": "78a124c5-15a8-421b-a3de-b2a23d26a8a0",
   "metadata": {},
   "source": [
    "# Eval with DFire MINI"
   ]
  },
  {
   "cell_type": "code",
   "execution_count": 6,
   "id": "83ba0c89-d612-4ea7-8235-438fcd3d0acf",
   "metadata": {},
   "outputs": [],
   "source": [
    "DS_FOLDER = '../../datasets/dfire_mini/'\n",
    "DS_FOLDER += 'test/'\n",
    "# DS_FOLDER += 'train/'\n",
    "# DS_FOLDER += '7ex/'\n",
    "\n",
    "DS_IMGS = DS_FOLDER + 'images/'\n",
    "DS_LABELS = DS_FOLDER + 'labels/'"
   ]
  },
  {
   "cell_type": "code",
   "execution_count": 7,
   "id": "43621eb6-05f7-4853-bde6-d0de525b3b9d",
   "metadata": {},
   "outputs": [],
   "source": [
    "IMGS_LIST = sorted([DS_IMGS + img_file for img_file in os.listdir(DS_IMGS)])"
   ]
  },
  {
   "cell_type": "code",
   "execution_count": 8,
   "id": "e55ba642-5e1e-49a7-8c8b-595ed8476b8a",
   "metadata": {},
   "outputs": [
    {
     "data": {
      "text/plain": [
       "30"
      ]
     },
     "execution_count": 8,
     "metadata": {},
     "output_type": "execute_result"
    }
   ],
   "source": [
    "len(IMGS_LIST)"
   ]
  },
  {
   "cell_type": "markdown",
   "id": "9261c8d4-de99-4239-9ea3-da13d24d103b",
   "metadata": {},
   "source": [
    "### Bipolar Original Model"
   ]
  },
  {
   "cell_type": "code",
   "execution_count": 9,
   "id": "08c1278d-d3df-4712-836c-cccad8ca3fb9",
   "metadata": {},
   "outputs": [
    {
     "name": "stdout",
     "output_type": "stream",
     "text": [
      "Number of test samples: 30\n",
      "\n"
     ]
    },
    {
     "name": "stderr",
     "output_type": "stream",
     "text": [
      "Testing: 100%|███████████████████████████████████████████████████████████████████████████████████████████████████████████████████████████████████████████████| 30/30 [00:08<00:00,  3.42it/s]"
     ]
    },
    {
     "name": "stdout",
     "output_type": "stream",
     "text": [
      "Smoke -> TP: 20.0, FP: 0.0, TN: 8.0, FN: 2.0\n",
      "Fire  -> TP: 11.0, FP: 0.0, TN: 19.0, FN: 0.0\n"
     ]
    },
    {
     "name": "stderr",
     "output_type": "stream",
     "text": [
      "\n"
     ]
    }
   ],
   "source": [
    "bipolar_ori_metrics = metrics.eval_quant_onnx(\n",
    "    imgs_list = IMGS_LIST,\n",
    "    labels_dir = DS_LABELS,\n",
    "    model_wrapped = ori_bipolar_model,\n",
    "    bipolar=True,\n",
    "    divide_255=True) # Ori model does not have the preprocess included"
   ]
  },
  {
   "cell_type": "code",
   "execution_count": 10,
   "id": "07028c86-0cba-4144-b337-db0a8b410b29",
   "metadata": {},
   "outputs": [
    {
     "data": {
      "text/html": [
       "<div>\n",
       "<style scoped>\n",
       "    .dataframe tbody tr th:only-of-type {\n",
       "        vertical-align: middle;\n",
       "    }\n",
       "\n",
       "    .dataframe tbody tr th {\n",
       "        vertical-align: top;\n",
       "    }\n",
       "\n",
       "    .dataframe thead th {\n",
       "        text-align: right;\n",
       "    }\n",
       "</style>\n",
       "<table border=\"1\" class=\"dataframe\">\n",
       "  <thead>\n",
       "    <tr style=\"text-align: right;\">\n",
       "      <th></th>\n",
       "      <th>Smoke</th>\n",
       "      <th>Fire</th>\n",
       "      <th>Mean</th>\n",
       "    </tr>\n",
       "  </thead>\n",
       "  <tbody>\n",
       "    <tr>\n",
       "      <th>Accuracy</th>\n",
       "      <td>0.9333</td>\n",
       "      <td>1.0</td>\n",
       "      <td>0.9666</td>\n",
       "    </tr>\n",
       "    <tr>\n",
       "      <th>Precision</th>\n",
       "      <td>1.0000</td>\n",
       "      <td>1.0</td>\n",
       "      <td>1.0000</td>\n",
       "    </tr>\n",
       "    <tr>\n",
       "      <th>Recall</th>\n",
       "      <td>0.9091</td>\n",
       "      <td>1.0</td>\n",
       "      <td>0.9546</td>\n",
       "    </tr>\n",
       "    <tr>\n",
       "      <th>F1</th>\n",
       "      <td>0.9524</td>\n",
       "      <td>1.0</td>\n",
       "      <td>0.9762</td>\n",
       "    </tr>\n",
       "  </tbody>\n",
       "</table>\n",
       "</div>"
      ],
      "text/plain": [
       "            Smoke  Fire    Mean\n",
       "Accuracy   0.9333   1.0  0.9666\n",
       "Precision  1.0000   1.0  1.0000\n",
       "Recall     0.9091   1.0  0.9546\n",
       "F1         0.9524   1.0  0.9762"
      ]
     },
     "execution_count": 10,
     "metadata": {},
     "output_type": "execute_result"
    }
   ],
   "source": [
    "bipolar_df = pd.DataFrame(bipolar_ori_metrics)\n",
    "bipolar_df"
   ]
  },
  {
   "cell_type": "markdown",
   "id": "edb0eaa3-11d0-4ebc-885c-abc11de671d9",
   "metadata": {},
   "source": [
    "# Eval with Full DFire Test"
   ]
  },
  {
   "cell_type": "code",
   "execution_count": 11,
   "id": "7d20018d-eaa4-45d2-90f9-b8726413e170",
   "metadata": {},
   "outputs": [],
   "source": [
    "DS_FOLDER = '../../datasets/ds2fire/dfire_yolo/'\n",
    "DS_FOLDER += 'test/'\n",
    "# DS_FOLDER += 'train/'\n",
    "# DS_FOLDER += '7ex/'\n",
    "\n",
    "DS_IMGS = DS_FOLDER + 'images/'\n",
    "DS_LABELS = DS_FOLDER + 'labels/'"
   ]
  },
  {
   "cell_type": "code",
   "execution_count": 12,
   "id": "4994f8f4-4669-4855-a5ef-07ff54085665",
   "metadata": {},
   "outputs": [],
   "source": [
    "IMGS_LIST = sorted([DS_IMGS + img_file for img_file in os.listdir(DS_IMGS)])"
   ]
  },
  {
   "cell_type": "code",
   "execution_count": 13,
   "id": "954e78b4-9a7d-4ff9-88d5-d4663d3d6fdf",
   "metadata": {},
   "outputs": [
    {
     "data": {
      "text/plain": [
       "4306"
      ]
     },
     "execution_count": 13,
     "metadata": {},
     "output_type": "execute_result"
    }
   ],
   "source": [
    "len(IMGS_LIST)"
   ]
  },
  {
   "cell_type": "markdown",
   "id": "a9164f0f-13bd-47bb-961e-56feb9c779af",
   "metadata": {},
   "source": [
    "### Bipolar Original Model"
   ]
  },
  {
   "cell_type": "code",
   "execution_count": 14,
   "id": "5154101a-f1fe-45d5-97bb-f2f75d61e51f",
   "metadata": {},
   "outputs": [
    {
     "name": "stdout",
     "output_type": "stream",
     "text": [
      "Number of test samples: 4306\n",
      "\n"
     ]
    },
    {
     "name": "stderr",
     "output_type": "stream",
     "text": [
      "Testing: 100%|███████████████████████████████████████████████████████████████████████████████████████████████████████████████████████████████████████████| 4306/4306 [21:06<00:00,  3.40it/s]"
     ]
    },
    {
     "name": "stdout",
     "output_type": "stream",
     "text": [
      "Smoke -> TP: 1811.0, FP: 116.0, TN: 2109.0, FN: 270.0\n",
      "Fire  -> TP: 1047.0, FP: 53.0, TN: 3138.0, FN: 68.0\n"
     ]
    },
    {
     "name": "stderr",
     "output_type": "stream",
     "text": [
      "\n"
     ]
    }
   ],
   "source": [
    "full_dfire_bipolar_ori_metrics = metrics.eval_quant_onnx(\n",
    "    imgs_list = IMGS_LIST,\n",
    "    labels_dir = DS_LABELS,\n",
    "    model_wrapped = ori_bipolar_model,\n",
    "    bipolar=True,\n",
    "    divide_255=True) # Ori model does not have the preprocess included"
   ]
  },
  {
   "cell_type": "code",
   "execution_count": 15,
   "id": "17e79835-84df-4b92-b8c1-159baa3e97c8",
   "metadata": {},
   "outputs": [
    {
     "data": {
      "text/html": [
       "<div>\n",
       "<style scoped>\n",
       "    .dataframe tbody tr th:only-of-type {\n",
       "        vertical-align: middle;\n",
       "    }\n",
       "\n",
       "    .dataframe tbody tr th {\n",
       "        vertical-align: top;\n",
       "    }\n",
       "\n",
       "    .dataframe thead th {\n",
       "        text-align: right;\n",
       "    }\n",
       "</style>\n",
       "<table border=\"1\" class=\"dataframe\">\n",
       "  <thead>\n",
       "    <tr style=\"text-align: right;\">\n",
       "      <th></th>\n",
       "      <th>Smoke</th>\n",
       "      <th>Fire</th>\n",
       "      <th>Mean</th>\n",
       "    </tr>\n",
       "  </thead>\n",
       "  <tbody>\n",
       "    <tr>\n",
       "      <th>Accuracy</th>\n",
       "      <td>0.9104</td>\n",
       "      <td>0.9719</td>\n",
       "      <td>0.9412</td>\n",
       "    </tr>\n",
       "    <tr>\n",
       "      <th>Precision</th>\n",
       "      <td>0.9398</td>\n",
       "      <td>0.9518</td>\n",
       "      <td>0.9458</td>\n",
       "    </tr>\n",
       "    <tr>\n",
       "      <th>Recall</th>\n",
       "      <td>0.8703</td>\n",
       "      <td>0.9390</td>\n",
       "      <td>0.9046</td>\n",
       "    </tr>\n",
       "    <tr>\n",
       "      <th>F1</th>\n",
       "      <td>0.9037</td>\n",
       "      <td>0.9454</td>\n",
       "      <td>0.9246</td>\n",
       "    </tr>\n",
       "  </tbody>\n",
       "</table>\n",
       "</div>"
      ],
      "text/plain": [
       "            Smoke    Fire    Mean\n",
       "Accuracy   0.9104  0.9719  0.9412\n",
       "Precision  0.9398  0.9518  0.9458\n",
       "Recall     0.8703  0.9390  0.9046\n",
       "F1         0.9037  0.9454  0.9246"
      ]
     },
     "execution_count": 15,
     "metadata": {},
     "output_type": "execute_result"
    }
   ],
   "source": [
    "full_dfire_bipolar_df = pd.DataFrame(full_dfire_bipolar_ori_metrics)\n",
    "full_dfire_bipolar_df"
   ]
  },
  {
   "cell_type": "code",
   "execution_count": null,
   "id": "11f3f290-330d-483c-8109-7f76c14d1092",
   "metadata": {},
   "outputs": [],
   "source": []
  }
 ],
 "metadata": {
  "kernelspec": {
   "display_name": "Python 3 (ipykernel)",
   "language": "python",
   "name": "python3"
  },
  "language_info": {
   "codemirror_mode": {
    "name": "ipython",
    "version": 3
   },
   "file_extension": ".py",
   "mimetype": "text/x-python",
   "name": "python",
   "nbconvert_exporter": "python",
   "pygments_lexer": "ipython3",
   "version": "3.10.12"
  }
 },
 "nbformat": 4,
 "nbformat_minor": 5
}
