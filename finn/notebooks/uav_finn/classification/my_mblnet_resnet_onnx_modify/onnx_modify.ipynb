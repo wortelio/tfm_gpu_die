{
 "cells": [
  {
   "cell_type": "code",
   "execution_count": 1,
   "id": "8e74a109-462a-4970-abc2-7f288416f956",
   "metadata": {},
   "outputs": [],
   "source": [
    "from finn.util.visualization import showSrc, showInNetron\n",
    "from qonnx.util.cleanup import cleanup as qonnx_cleanup\n",
    "from qonnx.core.modelwrapper import ModelWrapper"
   ]
  },
  {
   "cell_type": "markdown",
   "id": "23fdfc4b-fca7-4531-a017-80d13f450b5e",
   "metadata": {},
   "source": [
    "# Load Model, Clean and Save"
   ]
  },
  {
   "cell_type": "code",
   "execution_count": 2,
   "id": "70cb7a69-490d-451e-a1f9-11e21c3d53fd",
   "metadata": {},
   "outputs": [],
   "source": [
    "model_file = './MY_MBLNET_V2_RESNET_classifier__best_mean_F1__BIPOLAR_Out__QONNX.onnx'"
   ]
  },
  {
   "cell_type": "code",
   "execution_count": 3,
   "id": "213eecd0-acd7-442b-9d76-71ec4a2b475e",
   "metadata": {},
   "outputs": [],
   "source": [
    "qonnx_clean_filename = '00_clean_model.onnx'\n",
    "qonnx_cleanup(model_file, out_file=qonnx_clean_filename)"
   ]
  },
  {
   "cell_type": "code",
   "execution_count": 4,
   "id": "3d689de9-35e6-4319-b371-ab1365c44a61",
   "metadata": {},
   "outputs": [],
   "source": [
    "model = ModelWrapper(qonnx_clean_filename)"
   ]
  },
  {
   "cell_type": "code",
   "execution_count": 5,
   "id": "49f478c9-4d6a-44d2-ac88-e75d49cdabb3",
   "metadata": {},
   "outputs": [
    {
     "name": "stdout",
     "output_type": "stream",
     "text": [
      "Serving '00_clean_model.onnx' at http://0.0.0.0:8083\n"
     ]
    },
    {
     "data": {
      "text/html": [
       "\n",
       "        <iframe\n",
       "            width=\"100%\"\n",
       "            height=\"400\"\n",
       "            src=\"http://localhost:8083/\"\n",
       "            frameborder=\"0\"\n",
       "            allowfullscreen\n",
       "            \n",
       "        ></iframe>\n",
       "        "
      ],
      "text/plain": [
       "<IPython.lib.display.IFrame at 0x7f9d741c8580>"
      ]
     },
     "execution_count": 5,
     "metadata": {},
     "output_type": "execute_result"
    }
   ],
   "source": [
    "showInNetron(qonnx_clean_filename)"
   ]
  },
  {
   "cell_type": "code",
   "execution_count": 6,
   "id": "8025e45c-408a-4b89-bd33-dd46f291230c",
   "metadata": {},
   "outputs": [],
   "source": [
    "from qonnx.transformation.infer_shapes import InferShapes\n",
    "from qonnx.transformation.general import GiveReadableTensorNames, GiveUniqueNodeNames, RemoveStaticGraphInputs"
   ]
  },
  {
   "cell_type": "code",
   "execution_count": 7,
   "id": "f49f8017-e2f8-4a45-9461-389232ed72bd",
   "metadata": {},
   "outputs": [],
   "source": [
    "model = ModelWrapper(qonnx_clean_filename)"
   ]
  },
  {
   "cell_type": "code",
   "execution_count": 8,
   "id": "0e7ebf10-8451-4880-b94c-703faf0f37ed",
   "metadata": {},
   "outputs": [],
   "source": [
    "model = model.transform(InferShapes())\n",
    "model = model.transform(GiveUniqueNodeNames())\n",
    "model = model.transform(GiveReadableTensorNames())\n",
    "model = model.transform(RemoveStaticGraphInputs())"
   ]
  },
  {
   "cell_type": "code",
   "execution_count": 9,
   "id": "23124338-c1fe-4b53-85ab-054d50c02f68",
   "metadata": {},
   "outputs": [],
   "source": [
    "qonnx_tidy = '01_tidy.onnx'\n",
    "model.save(qonnx_tidy)"
   ]
  },
  {
   "cell_type": "code",
   "execution_count": 10,
   "id": "8ad8a17b-9c88-498f-b472-de1c99e5efc6",
   "metadata": {},
   "outputs": [
    {
     "name": "stdout",
     "output_type": "stream",
     "text": [
      "Stopping http://0.0.0.0:8083\n",
      "Serving '01_tidy.onnx' at http://0.0.0.0:8083\n"
     ]
    },
    {
     "data": {
      "text/html": [
       "\n",
       "        <iframe\n",
       "            width=\"100%\"\n",
       "            height=\"400\"\n",
       "            src=\"http://localhost:8083/\"\n",
       "            frameborder=\"0\"\n",
       "            allowfullscreen\n",
       "            \n",
       "        ></iframe>\n",
       "        "
      ],
      "text/plain": [
       "<IPython.lib.display.IFrame at 0x7f9d741cbdf0>"
      ]
     },
     "execution_count": 10,
     "metadata": {},
     "output_type": "execute_result"
    }
   ],
   "source": [
    "showInNetron(qonnx_tidy)"
   ]
  },
  {
   "cell_type": "markdown",
   "id": "506c57e9-0ec4-4305-b507-1f6b44afa1c3",
   "metadata": {},
   "source": [
    "# Modify Weights\n",
    "\n",
    "https://github.com/fastmachinelearning/qonnx/blob/main/src/qonnx/core/modelwrapper.py#L150\n",
    "\n",
    "Names must be retrieved and used, as initializers changes position when graph is modified.\n",
    "\n",
    "For example, if BatchNorm_0_param0 is modified, it is appended to the end, due to following instruction:\n",
    "```python\n",
    "# create and insert new initializer\n",
    "graph.initializer.append(tensor_init_proto)\n",
    "```\n",
    "\n",
    "Therefore, as the model was modified, in the first list of [init_0, init_1, init_2, ...], init_0 is moved, init_1 is jumped and init_2 is the next processed."
   ]
  },
  {
   "cell_type": "code",
   "execution_count": 11,
   "id": "66f2fb15-ba49-4346-880b-d6eff9caa94c",
   "metadata": {},
   "outputs": [],
   "source": [
    "import numpy as np"
   ]
  },
  {
   "cell_type": "code",
   "execution_count": 12,
   "id": "007e5501-9b3e-4350-bb8e-c8e94f76d3b0",
   "metadata": {},
   "outputs": [],
   "source": [
    "# a = np.array([0.1, -0.1, 0, 2, -2])\n",
    "# a"
   ]
  },
  {
   "cell_type": "code",
   "execution_count": 13,
   "id": "1b24d179-27fd-4e2a-a219-57313506d86e",
   "metadata": {},
   "outputs": [],
   "source": [
    "# a_abs = np.abs(a)\n",
    "# idx = (a_abs > 0) * (a_abs < 0.2)\n",
    "# idx"
   ]
  },
  {
   "cell_type": "markdown",
   "id": "e7b52b23-0342-41d5-95e0-8bd8c0f2c14b",
   "metadata": {},
   "source": [
    "### Inspect One Quant Initializer with Scale < 1e-10\n",
    "\n",
    "Find the index of scales < 1e-10 and check if all weights corresponding to that position are zero.\n",
    "\n",
    "Therefore, as dequantizing implies\n",
    "$$\n",
    "x_{dequant} = \\frac{x_{quant}}{scale}\n",
    "$$\n",
    "scales cannot be zeroed, as division by zero would happen. Those scales can be converted to any value, as weights will remain zero and will not hurt the model."
   ]
  },
  {
   "cell_type": "code",
   "execution_count": 14,
   "id": "8e52010e-1733-4b38-a911-78fdf08fe2bb",
   "metadata": {},
   "outputs": [
    {
     "name": "stdout",
     "output_type": "stream",
     "text": [
      "(32, 3, 3, 3)\n",
      "(32, 1, 1, 1)\n"
     ]
    }
   ],
   "source": [
    "quant0_0_init = model.get_initializer(\"Quant_0_param0\")\n",
    "quant0_1_init = model.get_initializer(\"Quant_0_param1\")\n",
    "\n",
    "print(quant0_0_init.shape)\n",
    "print(quant0_1_init.shape)"
   ]
  },
  {
   "cell_type": "code",
   "execution_count": 15,
   "id": "c66c7b12-8a5a-4dfb-bf58-7bf9a7a244d8",
   "metadata": {},
   "outputs": [
    {
     "name": "stdout",
     "output_type": "stream",
     "text": [
      "Indices whith scale < 1e-10:\n",
      "(array([17]), array([0]), array([0]), array([0]))\n",
      "Weights corresponding to those indices:\n",
      "[[[[-0. -0. -0.]\n",
      "   [-0. -0. -0.]\n",
      "   [-0. -0. -0.]]\n",
      "\n",
      "  [[-0. -0. -0.]\n",
      "   [-0. -0. -0.]\n",
      "   [-0. -0. -0.]]\n",
      "\n",
      "  [[-0. -0.  0.]\n",
      "   [ 0. -0.  0.]\n",
      "   [-0. -0. -0.]]]]\n"
     ]
    }
   ],
   "source": [
    "q0_1_idx = quant0_1_init < 1e-10\n",
    "# print(q0_1_idx.nonzero())\n",
    "zero_idx = np.where(quant0_1_init < 1e-10)\n",
    "print(f'Indices whith scale < 1e-10:\\n{zero_idx}')\n",
    "\n",
    "print(f'Weights corresponding to those indices:\\n{quant0_0_init[zero_idx[0]]}')"
   ]
  },
  {
   "cell_type": "markdown",
   "id": "dbf32d62-fbec-41c4-a823-bacc47f74bb6",
   "metadata": {},
   "source": [
    "### Manually Dequantizing"
   ]
  },
  {
   "cell_type": "code",
   "execution_count": 16,
   "id": "af009c30-e97e-43a7-ac1e-d106476f385d",
   "metadata": {},
   "outputs": [
    {
     "name": "stdout",
     "output_type": "stream",
     "text": [
      "First elements dequantized: [[[-1. -3.  2.]\n",
      "  [-6. -1.  7.]\n",
      "  [-6.  3.  5.]]\n",
      "\n",
      " [[ 3.  1.  4.]\n",
      "  [-3. -1.  7.]\n",
      "  [-7. -3. -1.]]\n",
      "\n",
      " [[ 4.  2.  4.]\n",
      "  [-1. -1.  6.]\n",
      "  [-7. -6. -1.]]]\n",
      "Zero elements dequantized: [[[[-0. -0. -0.]\n",
      "   [-0. -0. -0.]\n",
      "   [-0. -0. -0.]]\n",
      "\n",
      "  [[-0. -0. -0.]\n",
      "   [-0. -0. -0.]\n",
      "   [-0. -0. -0.]]\n",
      "\n",
      "  [[-0. -0.  0.]\n",
      "   [ 0. -0.  0.]\n",
      "   [-0. -0. -0.]]]]\n"
     ]
    }
   ],
   "source": [
    "deq = quant0_0_init / quant0_1_init\n",
    "print(f'First elements dequantized: {deq[0]}')\n",
    "print(f'Zero elements dequantized: {deq[zero_idx[0]]}')"
   ]
  },
  {
   "cell_type": "markdown",
   "id": "59ead46a-6bff-4316-aca8-6a8e765a2a11",
   "metadata": {},
   "source": [
    "## Modify Initializers\n",
    "\n",
    "If the value is a Scale in a Convolution Layer, it cannot be converted to zero -> convert to any value, as 0.1, for instance.\n",
    "Weights of Conv Layer:\n",
    "- Param 0: weights\n",
    "- Param 1: scale\n",
    "- Param 2: zero point\n",
    "- Param 4: number of bits\n",
    "\n",
    "Maybe, it is the same with running variance in BatchNorm Layers. It depends on the way it is folded by FINN. Investigate it afterwards.\n",
    "Values in BN Layer:\n",
    "- Param 0: gamma\n",
    "- Param 1: beta\n",
    "- Param 2: mean\n",
    "- Param 3: variance"
   ]
  },
  {
   "cell_type": "code",
   "execution_count": 17,
   "id": "273f163f-4901-418b-b95f-bedffe792d2e",
   "metadata": {},
   "outputs": [
    {
     "name": "stdout",
     "output_type": "stream",
     "text": [
      "Number of initializers = 376\n"
     ]
    }
   ],
   "source": [
    "all_inits_names = [init.name for init in model.graph.initializer]\n",
    "\n",
    "print(f'Number of initializers = {len(all_inits_names)}')"
   ]
  },
  {
   "cell_type": "code",
   "execution_count": 18,
   "id": "f12e7bdf-0a42-40fe-85f1-dc0f5e14511c",
   "metadata": {},
   "outputs": [
    {
     "name": "stdout",
     "output_type": "stream",
     "text": [
      "Index = 0. BatchNormalization_0_param0 changed, as there were values under epsilon\n",
      "Index = 1. BatchNormalization_0_param1 changed, as there were values under epsilon\n",
      "Index = 2. BatchNormalization_0_param2 changed, as there were values under epsilon\n",
      "Index = 3. BatchNormalization_0_param3 changed, as there were values under epsilon\n",
      "Index = 4. BatchNormalization_1_param0 changed, as there were values under epsilon\n",
      "Index = 5. BatchNormalization_1_param1 changed, as there were values under epsilon\n",
      "Index = 6. BatchNormalization_1_param2 changed, as there were values under epsilon\n",
      "Index = 7. BatchNormalization_1_param3 changed, as there were values under epsilon\n",
      "Index = 8. BatchNormalization_2_param0 was not changed, as there were no values under epsilon\n",
      "Index = 9. BatchNormalization_2_param1 was not changed, as there were no values under epsilon\n",
      "Index = 10. BatchNormalization_2_param2 was not changed, as there were no values under epsilon\n",
      "Index = 11. BatchNormalization_2_param3 was not changed, as there were no values under epsilon\n",
      "Index = 12. BatchNormalization_3_param0 was not changed, as there were no values under epsilon\n",
      "Index = 13. BatchNormalization_3_param1 was not changed, as there were no values under epsilon\n",
      "Index = 14. BatchNormalization_3_param2 was not changed, as there were no values under epsilon\n",
      "Index = 15. BatchNormalization_3_param3 was not changed, as there were no values under epsilon\n",
      "Index = 16. BatchNormalization_4_param0 was not changed, as there were no values under epsilon\n",
      "Index = 17. BatchNormalization_4_param1 was not changed, as there were no values under epsilon\n",
      "Index = 18. BatchNormalization_4_param2 was not changed, as there were no values under epsilon\n",
      "Index = 19. BatchNormalization_4_param3 was not changed, as there were no values under epsilon\n",
      "Index = 20. BatchNormalization_5_param0 was not changed, as there were no values under epsilon\n",
      "Index = 21. BatchNormalization_5_param1 was not changed, as there were no values under epsilon\n",
      "Index = 22. BatchNormalization_5_param2 was not changed, as there were no values under epsilon\n",
      "Index = 23. BatchNormalization_5_param3 was not changed, as there were no values under epsilon\n",
      "Index = 24. BatchNormalization_6_param0 changed, as there were values under epsilon\n",
      "Index = 25. BatchNormalization_6_param1 changed, as there were values under epsilon\n",
      "Index = 26. BatchNormalization_6_param2 changed, as there were values under epsilon\n",
      "Index = 27. BatchNormalization_6_param3 changed, as there were values under epsilon\n",
      "Index = 28. BatchNormalization_7_param0 changed, as there were values under epsilon\n",
      "Index = 29. BatchNormalization_7_param1 changed, as there were values under epsilon\n",
      "Index = 30. BatchNormalization_7_param2 changed, as there were values under epsilon\n",
      "Index = 31. BatchNormalization_7_param3 changed, as there were values under epsilon\n",
      "Index = 32. BatchNormalization_8_param0 was not changed, as there were no values under epsilon\n",
      "Index = 33. BatchNormalization_8_param1 was not changed, as there were no values under epsilon\n",
      "Index = 34. BatchNormalization_8_param2 was not changed, as there were no values under epsilon\n",
      "Index = 35. BatchNormalization_8_param3 was not changed, as there were no values under epsilon\n",
      "Index = 36. BatchNormalization_9_param0 was not changed, as there were no values under epsilon\n",
      "Index = 37. BatchNormalization_9_param1 was not changed, as there were no values under epsilon\n",
      "Index = 38. BatchNormalization_9_param2 was not changed, as there were no values under epsilon\n",
      "Index = 39. BatchNormalization_9_param3 was not changed, as there were no values under epsilon\n",
      "Index = 40. BatchNormalization_10_param0 was not changed, as there were no values under epsilon\n",
      "Index = 41. BatchNormalization_10_param1 was not changed, as there were no values under epsilon\n",
      "Index = 42. BatchNormalization_10_param2 was not changed, as there were no values under epsilon\n",
      "Index = 43. BatchNormalization_10_param3 was not changed, as there were no values under epsilon\n",
      "Index = 44. BatchNormalization_11_param0 was not changed, as there were no values under epsilon\n",
      "Index = 45. BatchNormalization_11_param1 was not changed, as there were no values under epsilon\n",
      "Index = 46. BatchNormalization_11_param2 was not changed, as there were no values under epsilon\n",
      "Index = 47. BatchNormalization_11_param3 was not changed, as there were no values under epsilon\n",
      "Index = 48. BatchNormalization_12_param0 changed, as there were values under epsilon\n",
      "Index = 49. BatchNormalization_12_param1 changed, as there were values under epsilon\n",
      "Index = 50. BatchNormalization_12_param2 changed, as there were values under epsilon\n",
      "Index = 51. BatchNormalization_12_param3 changed, as there were values under epsilon\n",
      "Index = 52. BatchNormalization_13_param0 changed, as there were values under epsilon\n",
      "Index = 53. BatchNormalization_13_param1 changed, as there were values under epsilon\n",
      "Index = 54. BatchNormalization_13_param2 changed, as there were values under epsilon\n",
      "Index = 55. BatchNormalization_13_param3 changed, as there were values under epsilon\n",
      "Index = 56. BatchNormalization_14_param0 was not changed, as there were no values under epsilon\n",
      "Index = 57. BatchNormalization_14_param1 was not changed, as there were no values under epsilon\n",
      "Index = 58. BatchNormalization_14_param2 was not changed, as there were no values under epsilon\n",
      "Index = 59. BatchNormalization_14_param3 was not changed, as there were no values under epsilon\n",
      "Index = 60. BatchNormalization_15_param0 changed, as there were values under epsilon\n",
      "Index = 61. BatchNormalization_15_param1 changed, as there were values under epsilon\n",
      "Index = 62. BatchNormalization_15_param2 changed, as there were values under epsilon\n",
      "Index = 63. BatchNormalization_15_param3 changed, as there were values under epsilon\n",
      "Index = 64. BatchNormalization_16_param0 changed, as there were values under epsilon\n",
      "Index = 65. BatchNormalization_16_param1 changed, as there were values under epsilon\n",
      "Index = 66. BatchNormalization_16_param2 changed, as there were values under epsilon\n",
      "Index = 67. BatchNormalization_16_param3 changed, as there were values under epsilon\n",
      "Index = 68. BatchNormalization_17_param0 was not changed, as there were no values under epsilon\n",
      "Index = 69. BatchNormalization_17_param1 was not changed, as there were no values under epsilon\n",
      "Index = 70. BatchNormalization_17_param2 was not changed, as there were no values under epsilon\n",
      "Index = 71. BatchNormalization_17_param3 was not changed, as there were no values under epsilon\n",
      "Index = 72. BatchNormalization_18_param0 changed, as there were values under epsilon\n",
      "Index = 73. BatchNormalization_18_param1 changed, as there were values under epsilon\n",
      "Index = 74. BatchNormalization_18_param2 changed, as there were values under epsilon\n",
      "Index = 75. BatchNormalization_18_param3 changed, as there were values under epsilon\n",
      "Index = 76. BatchNormalization_19_param0 changed, as there were values under epsilon\n",
      "Index = 77. BatchNormalization_19_param1 changed, as there were values under epsilon\n",
      "Index = 78. BatchNormalization_19_param2 changed, as there were values under epsilon\n",
      "Index = 79. BatchNormalization_19_param3 changed, as there were values under epsilon\n",
      "Index = 80. BatchNormalization_20_param0 was not changed, as there were no values under epsilon\n",
      "Index = 81. BatchNormalization_20_param1 was not changed, as there were no values under epsilon\n",
      "Index = 82. BatchNormalization_20_param2 was not changed, as there were no values under epsilon\n",
      "Index = 83. BatchNormalization_20_param3 was not changed, as there were no values under epsilon\n",
      "Index = 84. BatchNormalization_21_param0 changed, as there were values under epsilon\n",
      "Index = 85. BatchNormalization_21_param1 changed, as there were values under epsilon\n",
      "Index = 86. BatchNormalization_21_param2 changed, as there were values under epsilon\n",
      "Index = 87. BatchNormalization_21_param3 changed, as there were values under epsilon\n",
      "Index = 88. BatchNormalization_22_param0 changed, as there were values under epsilon\n",
      "Index = 89. BatchNormalization_22_param1 changed, as there were values under epsilon\n",
      "Index = 90. BatchNormalization_22_param2 changed, as there were values under epsilon\n",
      "Index = 91. BatchNormalization_22_param3 changed, as there were values under epsilon\n",
      "Index = 92. BatchNormalization_23_param0 was not changed, as there were no values under epsilon\n",
      "Index = 93. BatchNormalization_23_param1 was not changed, as there were no values under epsilon\n",
      "Index = 94. BatchNormalization_23_param2 was not changed, as there were no values under epsilon\n",
      "Index = 95. BatchNormalization_23_param3 was not changed, as there were no values under epsilon\n",
      "Index = 96. BatchNormalization_24_param0 changed, as there were values under epsilon\n",
      "Index = 97. BatchNormalization_24_param1 changed, as there were values under epsilon\n",
      "Index = 98. BatchNormalization_24_param2 changed, as there were values under epsilon\n",
      "Index = 99. BatchNormalization_24_param3 changed, as there were values under epsilon\n",
      "Index = 100. BatchNormalization_25_param0 changed, as there were values under epsilon\n",
      "Index = 101. BatchNormalization_25_param1 changed, as there were values under epsilon\n",
      "Index = 102. BatchNormalization_25_param2 changed, as there were values under epsilon\n",
      "Index = 103. BatchNormalization_25_param3 changed, as there were values under epsilon\n",
      "Index = 104. BatchNormalization_26_param0 changed, as there were values under epsilon\n",
      "Index = 105. BatchNormalization_26_param1 changed, as there were values under epsilon\n",
      "Index = 106. BatchNormalization_26_param2 changed, as there were values under epsilon\n",
      "Index = 107. BatchNormalization_26_param3 changed, as there were values under epsilon\n",
      "Index = 108. BatchNormalization_27_param0 changed, as there were values under epsilon\n",
      "Index = 109. BatchNormalization_27_param1 changed, as there were values under epsilon\n",
      "Index = 110. BatchNormalization_27_param2 changed, as there were values under epsilon\n",
      "Index = 111. BatchNormalization_27_param3 changed, as there were values under epsilon\n",
      "Index = 112. BatchNormalization_28_param0 changed, as there were values under epsilon\n",
      "Index = 113. BatchNormalization_28_param1 changed, as there were values under epsilon\n",
      "Index = 114. BatchNormalization_28_param2 changed, as there were values under epsilon\n",
      "Index = 115. BatchNormalization_28_param3 changed, as there were values under epsilon\n",
      "Index = 116. BatchNormalization_29_param0 changed, as there were values under epsilon\n",
      "Index = 117. BatchNormalization_29_param1 changed, as there were values under epsilon\n",
      "Index = 118. BatchNormalization_29_param2 changed, as there were values under epsilon\n",
      "Index = 119. BatchNormalization_29_param3 changed, as there were values under epsilon\n",
      "Index = 120. BatchNormalization_30_param0 changed, as there were values under epsilon\n",
      "Index = 121. BatchNormalization_30_param1 changed, as there were values under epsilon\n",
      "Index = 122. BatchNormalization_30_param2 changed, as there were values under epsilon\n",
      "Index = 123. BatchNormalization_30_param3 changed, as there were values under epsilon\n",
      "Index = 124. Quant_32_param0 was not changed, as there were no values under epsilon\n",
      "Index = 125. Mul_0_param0 was not changed, as there were no values under epsilon\n",
      "Index = 126. Sub_0_param0 was not changed, as there were no values under epsilon\n",
      "Index = 127. Quant_31_param3 was not changed, as there were no values under epsilon\n",
      "Index = 128. Quant_33_param0 was not changed, as there were no values under epsilon\n",
      "Index = 129. Quant_0_param2 was not changed, as there were no values under epsilon\n",
      "Index = 130. Quant_0_param3 was not changed, as there were no values under epsilon\n",
      "Index = 131. Quant_0_param0 was not changed, as there were no values under epsilon\n",
      "Index = 132. Quant_0_param1 changed, as there were values under epsilon\n",
      "Index = 133. Quant_34_param0 was not changed, as there were no values under epsilon\n",
      "Index = 134. Quant_1_param0 was not changed, as there were no values under epsilon\n",
      "Index = 135. Quant_1_param1 changed, as there were values under epsilon\n",
      "Index = 136. Quant_35_param0 was not changed, as there were no values under epsilon\n",
      "Index = 137. Quant_2_param0 was not changed, as there were no values under epsilon\n",
      "Index = 138. Quant_2_param1 was not changed, as there were no values under epsilon\n",
      "Index = 139. Quant_36_param0 was not changed, as there were no values under epsilon\n",
      "Index = 140. Quant_3_param0 was not changed, as there were no values under epsilon\n",
      "Index = 141. Quant_3_param1 was not changed, as there were no values under epsilon\n",
      "Index = 142. Quant_37_param0 was not changed, as there were no values under epsilon\n",
      "Index = 143. Quant_4_param0 was not changed, as there were no values under epsilon\n",
      "Index = 144. Quant_4_param1 was not changed, as there were no values under epsilon\n",
      "Index = 145. Quant_38_param0 was not changed, as there were no values under epsilon\n",
      "Index = 146. Quant_5_param0 was not changed, as there were no values under epsilon\n",
      "Index = 147. Quant_5_param1 was not changed, as there were no values under epsilon\n",
      "Index = 148. Quant_39_param0 was not changed, as there were no values under epsilon\n",
      "Index = 149. Quant_6_param0 was not changed, as there were no values under epsilon\n",
      "Index = 150. Quant_6_param1 changed, as there were values under epsilon\n",
      "Index = 151. Quant_40_param0 was not changed, as there were no values under epsilon\n",
      "Index = 152. Quant_7_param0 was not changed, as there were no values under epsilon\n",
      "Index = 153. Quant_7_param1 changed, as there were values under epsilon\n",
      "Index = 154. Quant_41_param0 was not changed, as there were no values under epsilon\n",
      "Index = 155. Quant_8_param0 was not changed, as there were no values under epsilon\n",
      "Index = 156. Quant_8_param1 was not changed, as there were no values under epsilon\n",
      "Index = 157. Quant_43_param0 was not changed, as there were no values under epsilon\n",
      "Index = 158. Quant_9_param0 was not changed, as there were no values under epsilon\n",
      "Index = 159. Quant_9_param1 was not changed, as there were no values under epsilon\n",
      "Index = 160. Quant_44_param0 was not changed, as there were no values under epsilon\n",
      "Index = 161. Quant_10_param0 was not changed, as there were no values under epsilon\n",
      "Index = 162. Quant_10_param1 was not changed, as there were no values under epsilon\n",
      "Index = 163. Quant_45_param0 was not changed, as there were no values under epsilon\n",
      "Index = 164. Quant_11_param0 was not changed, as there were no values under epsilon\n",
      "Index = 165. Quant_11_param1 was not changed, as there were no values under epsilon\n",
      "Index = 166. Quant_46_param0 was not changed, as there were no values under epsilon\n",
      "Index = 167. Quant_12_param0 was not changed, as there were no values under epsilon\n",
      "Index = 168. Quant_12_param1 changed, as there were values under epsilon\n",
      "Index = 169. Quant_47_param0 was not changed, as there were no values under epsilon\n",
      "Index = 170. Quant_13_param0 was not changed, as there were no values under epsilon\n",
      "Index = 171. Quant_13_param1 changed, as there were values under epsilon\n",
      "Index = 172. Quant_48_param0 was not changed, as there were no values under epsilon\n",
      "Index = 173. Quant_14_param0 was not changed, as there were no values under epsilon\n",
      "Index = 174. Quant_14_param1 was not changed, as there were no values under epsilon\n",
      "Index = 175. Quant_50_param0 was not changed, as there were no values under epsilon\n",
      "Index = 176. Quant_15_param0 was not changed, as there were no values under epsilon\n",
      "Index = 177. Quant_15_param1 changed, as there were values under epsilon\n",
      "Index = 178. Quant_51_param0 was not changed, as there were no values under epsilon\n",
      "Index = 179. Quant_16_param0 was not changed, as there were no values under epsilon\n",
      "Index = 180. Quant_16_param1 changed, as there were values under epsilon\n",
      "Index = 181. Quant_52_param0 was not changed, as there were no values under epsilon\n",
      "Index = 182. Quant_17_param0 was not changed, as there were no values under epsilon\n",
      "Index = 183. Quant_17_param1 was not changed, as there were no values under epsilon\n",
      "Index = 184. Quant_53_param0 was not changed, as there were no values under epsilon\n",
      "Index = 185. Quant_18_param0 was not changed, as there were no values under epsilon\n",
      "Index = 186. Quant_18_param1 changed, as there were values under epsilon\n",
      "Index = 187. Quant_54_param0 was not changed, as there were no values under epsilon\n",
      "Index = 188. Quant_19_param0 was not changed, as there were no values under epsilon\n",
      "Index = 189. Quant_19_param1 changed, as there were values under epsilon\n",
      "Index = 190. Quant_55_param0 was not changed, as there were no values under epsilon\n",
      "Index = 191. Quant_20_param0 was not changed, as there were no values under epsilon\n",
      "Index = 192. Quant_20_param1 was not changed, as there were no values under epsilon\n",
      "Index = 193. Quant_57_param0 was not changed, as there were no values under epsilon\n",
      "Index = 194. Quant_21_param0 was not changed, as there were no values under epsilon\n",
      "Index = 195. Quant_21_param1 changed, as there were values under epsilon\n",
      "Index = 196. Quant_58_param0 was not changed, as there were no values under epsilon\n",
      "Index = 197. Quant_22_param0 was not changed, as there were no values under epsilon\n",
      "Index = 198. Quant_22_param1 changed, as there were values under epsilon\n",
      "Index = 199. Quant_59_param0 was not changed, as there were no values under epsilon\n",
      "Index = 200. Quant_23_param0 was not changed, as there were no values under epsilon\n",
      "Index = 201. Quant_23_param1 was not changed, as there were no values under epsilon\n",
      "Index = 202. Quant_61_param0 was not changed, as there were no values under epsilon\n",
      "Index = 203. Quant_24_param0 was not changed, as there were no values under epsilon\n",
      "Index = 204. Quant_24_param1 changed, as there were values under epsilon\n",
      "Index = 205. Quant_62_param0 was not changed, as there were no values under epsilon\n",
      "Index = 206. Quant_25_param0 was not changed, as there were no values under epsilon\n",
      "Index = 207. Quant_25_param1 changed, as there were values under epsilon\n",
      "Index = 208. Quant_63_param0 was not changed, as there were no values under epsilon\n",
      "Index = 209. Quant_26_param0 was not changed, as there were no values under epsilon\n",
      "Index = 210. Quant_26_param1 changed, as there were values under epsilon\n",
      "Index = 211. Quant_64_param0 was not changed, as there were no values under epsilon\n",
      "Index = 212. Quant_27_param0 was not changed, as there were no values under epsilon\n",
      "Index = 213. Quant_27_param1 changed, as there were values under epsilon\n",
      "Index = 214. Quant_65_param0 was not changed, as there were no values under epsilon\n",
      "Index = 215. Quant_28_param0 was not changed, as there were no values under epsilon\n",
      "Index = 216. Quant_28_param1 changed, as there were values under epsilon\n",
      "Index = 217. Quant_66_param0 was not changed, as there were no values under epsilon\n",
      "Index = 218. Quant_29_param0 was not changed, as there were no values under epsilon\n",
      "Index = 219. Quant_29_param1 changed, as there were values under epsilon\n",
      "Index = 220. Quant_68_param0 was not changed, as there were no values under epsilon\n",
      "Index = 221. Quant_30_param0 was not changed, as there were no values under epsilon\n",
      "Index = 222. Quant_30_param1 changed, as there were values under epsilon\n",
      "Index = 223. Quant_69_param0 was not changed, as there were no values under epsilon\n",
      "Index = 224. Mul_1_param0 was not changed, as there were no values under epsilon\n",
      "Index = 225. Trunc_0_param2 was not changed, as there were no values under epsilon\n",
      "Index = 226. Reshape_0_param0 was not changed, as there were no values under epsilon\n",
      "Index = 227. Quant_31_param0 was not changed, as there were no values under epsilon\n",
      "Index = 228. Quant_31_param1 was not changed, as there were no values under epsilon\n",
      "Index = 229. Quant_32_param1 was not changed, as there were no values under epsilon\n",
      "Index = 230. Quant_32_param3 was not changed, as there were no values under epsilon\n",
      "Index = 231. BipolarQuant_0_param0 was not changed, as there were no values under epsilon\n",
      "Index = 232. Quant_1_param2 was not changed, as there were no values under epsilon\n",
      "Index = 233. Quant_1_param3 was not changed, as there were no values under epsilon\n",
      "Index = 234. Quant_2_param2 was not changed, as there were no values under epsilon\n",
      "Index = 235. Quant_2_param3 was not changed, as there were no values under epsilon\n",
      "Index = 236. Quant_3_param2 was not changed, as there were no values under epsilon\n",
      "Index = 237. Quant_3_param3 was not changed, as there were no values under epsilon\n",
      "Index = 238. Quant_4_param2 was not changed, as there were no values under epsilon\n",
      "Index = 239. Quant_4_param3 was not changed, as there were no values under epsilon\n",
      "Index = 240. Quant_5_param2 was not changed, as there were no values under epsilon\n",
      "Index = 241. Quant_5_param3 was not changed, as there were no values under epsilon\n",
      "Index = 242. Quant_6_param2 was not changed, as there were no values under epsilon\n",
      "Index = 243. Quant_6_param3 was not changed, as there were no values under epsilon\n",
      "Index = 244. Quant_7_param2 was not changed, as there were no values under epsilon\n",
      "Index = 245. Quant_7_param3 was not changed, as there were no values under epsilon\n",
      "Index = 246. Quant_8_param2 was not changed, as there were no values under epsilon\n",
      "Index = 247. Quant_8_param3 was not changed, as there were no values under epsilon\n",
      "Index = 248. Quant_9_param2 was not changed, as there were no values under epsilon\n",
      "Index = 249. Quant_9_param3 was not changed, as there were no values under epsilon\n",
      "Index = 250. Quant_10_param2 was not changed, as there were no values under epsilon\n",
      "Index = 251. Quant_10_param3 was not changed, as there were no values under epsilon\n",
      "Index = 252. Quant_11_param2 was not changed, as there were no values under epsilon\n",
      "Index = 253. Quant_11_param3 was not changed, as there were no values under epsilon\n",
      "Index = 254. Quant_12_param2 was not changed, as there were no values under epsilon\n",
      "Index = 255. Quant_12_param3 was not changed, as there were no values under epsilon\n",
      "Index = 256. Quant_13_param2 was not changed, as there were no values under epsilon\n",
      "Index = 257. Quant_13_param3 was not changed, as there were no values under epsilon\n",
      "Index = 258. Quant_14_param2 was not changed, as there were no values under epsilon\n",
      "Index = 259. Quant_14_param3 was not changed, as there were no values under epsilon\n",
      "Index = 260. Quant_15_param2 was not changed, as there were no values under epsilon\n",
      "Index = 261. Quant_15_param3 was not changed, as there were no values under epsilon\n",
      "Index = 262. Quant_16_param2 was not changed, as there were no values under epsilon\n",
      "Index = 263. Quant_16_param3 was not changed, as there were no values under epsilon\n",
      "Index = 264. Quant_17_param2 was not changed, as there were no values under epsilon\n",
      "Index = 265. Quant_17_param3 was not changed, as there were no values under epsilon\n",
      "Index = 266. Quant_18_param2 was not changed, as there were no values under epsilon\n",
      "Index = 267. Quant_18_param3 was not changed, as there were no values under epsilon\n",
      "Index = 268. Quant_19_param2 was not changed, as there were no values under epsilon\n",
      "Index = 269. Quant_19_param3 was not changed, as there were no values under epsilon\n",
      "Index = 270. Quant_20_param2 was not changed, as there were no values under epsilon\n",
      "Index = 271. Quant_20_param3 was not changed, as there were no values under epsilon\n",
      "Index = 272. Quant_21_param2 was not changed, as there were no values under epsilon\n",
      "Index = 273. Quant_21_param3 was not changed, as there were no values under epsilon\n",
      "Index = 274. Quant_22_param2 was not changed, as there were no values under epsilon\n",
      "Index = 275. Quant_22_param3 was not changed, as there were no values under epsilon\n",
      "Index = 276. Quant_23_param2 was not changed, as there were no values under epsilon\n",
      "Index = 277. Quant_23_param3 was not changed, as there were no values under epsilon\n",
      "Index = 278. Quant_24_param2 was not changed, as there were no values under epsilon\n",
      "Index = 279. Quant_24_param3 was not changed, as there were no values under epsilon\n",
      "Index = 280. Quant_25_param2 was not changed, as there were no values under epsilon\n",
      "Index = 281. Quant_25_param3 was not changed, as there were no values under epsilon\n",
      "Index = 282. Quant_26_param2 was not changed, as there were no values under epsilon\n",
      "Index = 283. Quant_26_param3 was not changed, as there were no values under epsilon\n",
      "Index = 284. Quant_27_param2 was not changed, as there were no values under epsilon\n",
      "Index = 285. Quant_27_param3 was not changed, as there were no values under epsilon\n",
      "Index = 286. Quant_28_param2 was not changed, as there were no values under epsilon\n",
      "Index = 287. Quant_28_param3 was not changed, as there were no values under epsilon\n",
      "Index = 288. Quant_29_param2 was not changed, as there were no values under epsilon\n",
      "Index = 289. Quant_29_param3 was not changed, as there were no values under epsilon\n",
      "Index = 290. Quant_30_param2 was not changed, as there were no values under epsilon\n",
      "Index = 291. Quant_30_param3 was not changed, as there were no values under epsilon\n",
      "Index = 292. Quant_31_param2 was not changed, as there were no values under epsilon\n",
      "Index = 293. Quant_32_param2 was not changed, as there were no values under epsilon\n",
      "Index = 294. Quant_33_param1 was not changed, as there were no values under epsilon\n",
      "Index = 295. Quant_33_param2 was not changed, as there were no values under epsilon\n",
      "Index = 296. Quant_34_param1 was not changed, as there were no values under epsilon\n",
      "Index = 297. Quant_34_param2 was not changed, as there were no values under epsilon\n",
      "Index = 298. Quant_35_param1 was not changed, as there were no values under epsilon\n",
      "Index = 299. Quant_35_param2 was not changed, as there were no values under epsilon\n",
      "Index = 300. Quant_36_param1 was not changed, as there were no values under epsilon\n",
      "Index = 301. Quant_36_param2 was not changed, as there were no values under epsilon\n",
      "Index = 302. Quant_37_param1 was not changed, as there were no values under epsilon\n",
      "Index = 303. Quant_37_param2 was not changed, as there were no values under epsilon\n",
      "Index = 304. Quant_38_param1 was not changed, as there were no values under epsilon\n",
      "Index = 305. Quant_38_param2 was not changed, as there were no values under epsilon\n",
      "Index = 306. Quant_39_param1 was not changed, as there were no values under epsilon\n",
      "Index = 307. Quant_39_param2 was not changed, as there were no values under epsilon\n",
      "Index = 308. Quant_40_param1 was not changed, as there were no values under epsilon\n",
      "Index = 309. Quant_40_param2 was not changed, as there were no values under epsilon\n",
      "Index = 310. Quant_41_param1 was not changed, as there were no values under epsilon\n",
      "Index = 311. Quant_41_param2 was not changed, as there were no values under epsilon\n",
      "Index = 312. Quant_42_param0 was not changed, as there were no values under epsilon\n",
      "Index = 313. Quant_42_param1 was not changed, as there were no values under epsilon\n",
      "Index = 314. Quant_42_param2 was not changed, as there were no values under epsilon\n",
      "Index = 315. Quant_43_param1 was not changed, as there were no values under epsilon\n",
      "Index = 316. Quant_43_param2 was not changed, as there were no values under epsilon\n",
      "Index = 317. Quant_44_param1 was not changed, as there were no values under epsilon\n",
      "Index = 318. Quant_44_param2 was not changed, as there were no values under epsilon\n",
      "Index = 319. Quant_45_param1 was not changed, as there were no values under epsilon\n",
      "Index = 320. Quant_45_param2 was not changed, as there were no values under epsilon\n",
      "Index = 321. Quant_46_param1 was not changed, as there were no values under epsilon\n",
      "Index = 322. Quant_46_param2 was not changed, as there were no values under epsilon\n",
      "Index = 323. Quant_47_param1 was not changed, as there were no values under epsilon\n",
      "Index = 324. Quant_47_param2 was not changed, as there were no values under epsilon\n",
      "Index = 325. Quant_48_param1 was not changed, as there were no values under epsilon\n",
      "Index = 326. Quant_48_param2 was not changed, as there were no values under epsilon\n",
      "Index = 327. Quant_49_param0 was not changed, as there were no values under epsilon\n",
      "Index = 328. Quant_49_param1 was not changed, as there were no values under epsilon\n",
      "Index = 329. Quant_49_param2 was not changed, as there were no values under epsilon\n",
      "Index = 330. Quant_50_param1 was not changed, as there were no values under epsilon\n",
      "Index = 331. Quant_50_param2 was not changed, as there were no values under epsilon\n",
      "Index = 332. Quant_51_param1 was not changed, as there were no values under epsilon\n",
      "Index = 333. Quant_51_param2 was not changed, as there were no values under epsilon\n",
      "Index = 334. Quant_52_param1 was not changed, as there were no values under epsilon\n",
      "Index = 335. Quant_52_param2 was not changed, as there were no values under epsilon\n",
      "Index = 336. Quant_53_param1 was not changed, as there were no values under epsilon\n",
      "Index = 337. Quant_53_param2 was not changed, as there were no values under epsilon\n",
      "Index = 338. Quant_54_param1 was not changed, as there were no values under epsilon\n",
      "Index = 339. Quant_54_param2 was not changed, as there were no values under epsilon\n",
      "Index = 340. Quant_55_param1 was not changed, as there were no values under epsilon\n",
      "Index = 341. Quant_55_param2 was not changed, as there were no values under epsilon\n",
      "Index = 342. Quant_56_param0 was not changed, as there were no values under epsilon\n",
      "Index = 343. Quant_56_param1 was not changed, as there were no values under epsilon\n",
      "Index = 344. Quant_56_param2 was not changed, as there were no values under epsilon\n",
      "Index = 345. Quant_57_param1 was not changed, as there were no values under epsilon\n",
      "Index = 346. Quant_57_param2 was not changed, as there were no values under epsilon\n",
      "Index = 347. Quant_58_param1 was not changed, as there were no values under epsilon\n",
      "Index = 348. Quant_58_param2 was not changed, as there were no values under epsilon\n",
      "Index = 349. Quant_59_param1 was not changed, as there were no values under epsilon\n",
      "Index = 350. Quant_59_param2 was not changed, as there were no values under epsilon\n",
      "Index = 351. Quant_60_param0 was not changed, as there were no values under epsilon\n",
      "Index = 352. Quant_60_param1 was not changed, as there were no values under epsilon\n",
      "Index = 353. Quant_60_param2 was not changed, as there were no values under epsilon\n",
      "Index = 354. Quant_61_param1 was not changed, as there were no values under epsilon\n",
      "Index = 355. Quant_61_param2 was not changed, as there were no values under epsilon\n",
      "Index = 356. Quant_62_param1 was not changed, as there were no values under epsilon\n",
      "Index = 357. Quant_62_param2 was not changed, as there were no values under epsilon\n",
      "Index = 358. Quant_63_param1 was not changed, as there were no values under epsilon\n",
      "Index = 359. Quant_63_param2 was not changed, as there were no values under epsilon\n",
      "Index = 360. Quant_64_param1 was not changed, as there were no values under epsilon\n",
      "Index = 361. Quant_64_param2 was not changed, as there were no values under epsilon\n",
      "Index = 362. Quant_65_param1 was not changed, as there were no values under epsilon\n",
      "Index = 363. Quant_65_param2 was not changed, as there were no values under epsilon\n",
      "Index = 364. Quant_66_param1 was not changed, as there were no values under epsilon\n",
      "Index = 365. Quant_66_param2 was not changed, as there were no values under epsilon\n",
      "Index = 366. Quant_67_param0 was not changed, as there were no values under epsilon\n",
      "Index = 367. Quant_67_param1 was not changed, as there were no values under epsilon\n",
      "Index = 368. Quant_67_param2 was not changed, as there were no values under epsilon\n",
      "Index = 369. Quant_68_param1 was not changed, as there were no values under epsilon\n",
      "Index = 370. Quant_68_param2 was not changed, as there were no values under epsilon\n",
      "Index = 371. Quant_69_param1 was not changed, as there were no values under epsilon\n",
      "Index = 372. Quant_69_param2 was not changed, as there were no values under epsilon\n",
      "Index = 373. Trunc_0_param0 was not changed, as there were no values under epsilon\n",
      "Index = 374. Trunc_0_param1 was not changed, as there were no values under epsilon\n",
      "Index = 375. Trunc_0_param3 was not changed, as there were no values under epsilon\n"
     ]
    }
   ],
   "source": [
    "eps = 1e-10\n",
    "zero_weight_scale = 1e-1\n",
    "zero_val = 0\n",
    "\n",
    "layers_changed = []\n",
    "\n",
    "for idx, init_name in enumerate(all_inits_names):\n",
    "    # print(f'Index {idx}:\\n\\t{init}\\n')  \n",
    "    np_init = model.get_initializer(init_name)\n",
    "    # print(np_init)\n",
    "    # print(np_init.flags)\n",
    "\n",
    "    new_np_init = np.copy(np_init)\n",
    "    # print(new_np_init.flags)\n",
    "\n",
    "    np_abs_val = np.abs(new_np_init)\n",
    "    zero_idx = (np_abs_val < eps) * (np_abs_val > 0)\n",
    "    if np.all(zero_idx == False):\n",
    "        print(f'Index = {idx}. {init_name} was not changed, as there were no values under epsilon')\n",
    "    else:\n",
    "        layers_changed.append(init_name)\n",
    "        print(f'Index = {idx}. {init_name} changed, as there were values under epsilon')\n",
    "        if \"Quant\" in init_name and \"param1\" in init_name:\n",
    "        # It is a scale value, change it accordingly\n",
    "            zero_now = zero_weight_scale                   \n",
    "        else:\n",
    "            zero_now = zero_val     \n",
    "        new_np_init[zero_idx] = zero_now\n",
    "        # print(new_np_init)\n",
    "        model.set_initializer(\n",
    "            tensor_name = init_name, \n",
    "            tensor_value = new_np_init)"
   ]
  },
  {
   "cell_type": "code",
   "execution_count": 19,
   "id": "a22c90fb-6de5-4ec5-94b6-afe134f7276e",
   "metadata": {},
   "outputs": [],
   "source": [
    "qonnx_min_zeros = 'MobileNetV2_Mini_Resnet__manual_zero_1e-5__best_F1__Bipolar.onnx'\n",
    "model.save(qonnx_min_zeros)"
   ]
  },
  {
   "cell_type": "code",
   "execution_count": 20,
   "id": "dbf6bfbe-ddac-4630-bdc7-6c3099ebd801",
   "metadata": {},
   "outputs": [
    {
     "name": "stdout",
     "output_type": "stream",
     "text": [
      "Stopping http://0.0.0.0:8083\n",
      "Serving 'MobileNetV2_Mini_Resnet__manual_zero_1e-5__best_F1__Bipolar.onnx' at http://0.0.0.0:8083\n"
     ]
    },
    {
     "data": {
      "text/html": [
       "\n",
       "        <iframe\n",
       "            width=\"100%\"\n",
       "            height=\"400\"\n",
       "            src=\"http://localhost:8083/\"\n",
       "            frameborder=\"0\"\n",
       "            allowfullscreen\n",
       "            \n",
       "        ></iframe>\n",
       "        "
      ],
      "text/plain": [
       "<IPython.lib.display.IFrame at 0x7f9d74201180>"
      ]
     },
     "execution_count": 20,
     "metadata": {},
     "output_type": "execute_result"
    }
   ],
   "source": [
    "showInNetron(qonnx_min_zeros)"
   ]
  }
 ],
 "metadata": {
  "kernelspec": {
   "display_name": "Python 3 (ipykernel)",
   "language": "python",
   "name": "python3"
  },
  "language_info": {
   "codemirror_mode": {
    "name": "ipython",
    "version": 3
   },
   "file_extension": ".py",
   "mimetype": "text/x-python",
   "name": "python",
   "nbconvert_exporter": "python",
   "pygments_lexer": "ipython3",
   "version": "3.10.12"
  }
 },
 "nbformat": 4,
 "nbformat_minor": 5
}
