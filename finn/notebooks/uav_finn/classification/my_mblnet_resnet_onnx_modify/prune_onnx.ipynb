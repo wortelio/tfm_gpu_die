{
 "cells": [
  {
   "cell_type": "code",
   "execution_count": 1,
   "id": "ae233f6f-7219-4cbc-96da-03ec5287f36a",
   "metadata": {},
   "outputs": [],
   "source": [
    "import numpy as np\n",
    "\n",
    "from qonnx.core.datatype import DataType\n",
    "from qonnx.transformation.infer_datatypes import InferDataTypes\n",
    "\n",
    "from qonnx.util.cleanup import cleanup_model\n",
    "from qonnx.util.inference_cost import inference_cost\n",
    "\n",
    "from qonnx.transformation.pruning import PruneChannels\n",
    "\n",
    "from finn.util.visualization import showInNetron\n",
    "from qonnx.core.modelwrapper import ModelWrapper"
   ]
  },
  {
   "cell_type": "code",
   "execution_count": 2,
   "id": "067aa6e5-64e7-45cd-b1bb-639407f4310f",
   "metadata": {},
   "outputs": [],
   "source": [
    "model_file = './MY_MBLNET_V2_RESNET_classifier__best_mean_F1__BIPOLAR_Out__QONNX.onnx'"
   ]
  },
  {
   "cell_type": "markdown",
   "id": "7ea40e51-a453-4e7c-8a0f-83336935268c",
   "metadata": {},
   "source": [
    "# Analyze layers to prune"
   ]
  },
  {
   "cell_type": "code",
   "execution_count": 3,
   "id": "ba987bd5-2b9b-45e7-a8be-6dc72bf7e3c4",
   "metadata": {},
   "outputs": [],
   "source": [
    "model = ModelWrapper(model_file)\n",
    "model = cleanup_model(model, True)"
   ]
  },
  {
   "cell_type": "code",
   "execution_count": 4,
   "id": "c3eb0cee-bfe7-48e0-a8cf-c0185fcbc8a9",
   "metadata": {},
   "outputs": [
    {
     "name": "stdout",
     "output_type": "stream",
     "text": [
      "Number of initializers = 376\n"
     ]
    }
   ],
   "source": [
    "all_inits_names = [init.name for init in model.graph.initializer]\n",
    "\n",
    "print(f'Number of initializers = {len(all_inits_names)}')"
   ]
  },
  {
   "cell_type": "code",
   "execution_count": 5,
   "id": "e953613e-1aa3-4e6a-810a-a69fc10543e5",
   "metadata": {},
   "outputs": [
    {
     "name": "stdout",
     "output_type": "stream",
     "text": [
      "Index = 132. Quant_0_param1 appended, as there were values under epsilon\n",
      "Index = 135. Quant_1_param1 appended, as there were values under epsilon\n",
      "Index = 138. Quant_2_param1 was not appended, as there were no values under epsilon\n",
      "Index = 141. Quant_3_param1 was not appended, as there were no values under epsilon\n",
      "Index = 144. Quant_4_param1 was not appended, as there were no values under epsilon\n",
      "Index = 147. Quant_5_param1 was not appended, as there were no values under epsilon\n",
      "Index = 150. Quant_6_param1 appended, as there were values under epsilon\n",
      "Index = 153. Quant_7_param1 appended, as there were values under epsilon\n",
      "Index = 156. Quant_8_param1 was not appended, as there were no values under epsilon\n",
      "Index = 159. Quant_9_param1 was not appended, as there were no values under epsilon\n",
      "Index = 162. Quant_10_param1 was not appended, as there were no values under epsilon\n",
      "Index = 165. Quant_11_param1 was not appended, as there were no values under epsilon\n",
      "Index = 168. Quant_12_param1 appended, as there were values under epsilon\n",
      "Index = 171. Quant_13_param1 appended, as there were values under epsilon\n",
      "Index = 174. Quant_14_param1 was not appended, as there were no values under epsilon\n",
      "Index = 177. Quant_15_param1 appended, as there were values under epsilon\n",
      "Index = 180. Quant_16_param1 appended, as there were values under epsilon\n",
      "Index = 183. Quant_17_param1 was not appended, as there were no values under epsilon\n",
      "Index = 186. Quant_18_param1 appended, as there were values under epsilon\n",
      "Index = 189. Quant_19_param1 appended, as there were values under epsilon\n",
      "Index = 192. Quant_20_param1 was not appended, as there were no values under epsilon\n",
      "Index = 195. Quant_21_param1 appended, as there were values under epsilon\n",
      "Index = 198. Quant_22_param1 appended, as there were values under epsilon\n",
      "Index = 201. Quant_23_param1 was not appended, as there were no values under epsilon\n",
      "Index = 204. Quant_24_param1 appended, as there were values under epsilon\n",
      "Index = 207. Quant_25_param1 appended, as there were values under epsilon\n",
      "Index = 210. Quant_26_param1 appended, as there were values under epsilon\n",
      "Index = 213. Quant_27_param1 appended, as there were values under epsilon\n",
      "Index = 216. Quant_28_param1 appended, as there were values under epsilon\n",
      "Index = 219. Quant_29_param1 appended, as there were values under epsilon\n",
      "Index = 222. Quant_30_param1 appended, as there were values under epsilon\n",
      "Index = 228. Quant_31_param1 was not appended, as there were no values under epsilon\n",
      "Index = 229. Quant_32_param1 was not appended, as there were no values under epsilon\n",
      "Index = 294. Quant_33_param1 was not appended, as there were no values under epsilon\n",
      "Index = 296. Quant_34_param1 was not appended, as there were no values under epsilon\n",
      "Index = 298. Quant_35_param1 was not appended, as there were no values under epsilon\n",
      "Index = 300. Quant_36_param1 was not appended, as there were no values under epsilon\n",
      "Index = 302. Quant_37_param1 was not appended, as there were no values under epsilon\n",
      "Index = 304. Quant_38_param1 was not appended, as there were no values under epsilon\n",
      "Index = 306. Quant_39_param1 was not appended, as there were no values under epsilon\n",
      "Index = 308. Quant_40_param1 was not appended, as there were no values under epsilon\n",
      "Index = 310. Quant_41_param1 was not appended, as there were no values under epsilon\n",
      "Index = 313. Quant_42_param1 was not appended, as there were no values under epsilon\n",
      "Index = 315. Quant_43_param1 was not appended, as there were no values under epsilon\n",
      "Index = 317. Quant_44_param1 was not appended, as there were no values under epsilon\n",
      "Index = 319. Quant_45_param1 was not appended, as there were no values under epsilon\n",
      "Index = 321. Quant_46_param1 was not appended, as there were no values under epsilon\n",
      "Index = 323. Quant_47_param1 was not appended, as there were no values under epsilon\n",
      "Index = 325. Quant_48_param1 was not appended, as there were no values under epsilon\n",
      "Index = 328. Quant_49_param1 was not appended, as there were no values under epsilon\n",
      "Index = 330. Quant_50_param1 was not appended, as there were no values under epsilon\n",
      "Index = 332. Quant_51_param1 was not appended, as there were no values under epsilon\n",
      "Index = 334. Quant_52_param1 was not appended, as there were no values under epsilon\n",
      "Index = 336. Quant_53_param1 was not appended, as there were no values under epsilon\n",
      "Index = 338. Quant_54_param1 was not appended, as there were no values under epsilon\n",
      "Index = 340. Quant_55_param1 was not appended, as there were no values under epsilon\n",
      "Index = 343. Quant_56_param1 was not appended, as there were no values under epsilon\n",
      "Index = 345. Quant_57_param1 was not appended, as there were no values under epsilon\n",
      "Index = 347. Quant_58_param1 was not appended, as there were no values under epsilon\n",
      "Index = 349. Quant_59_param1 was not appended, as there were no values under epsilon\n",
      "Index = 352. Quant_60_param1 was not appended, as there were no values under epsilon\n",
      "Index = 354. Quant_61_param1 was not appended, as there were no values under epsilon\n",
      "Index = 356. Quant_62_param1 was not appended, as there were no values under epsilon\n",
      "Index = 358. Quant_63_param1 was not appended, as there were no values under epsilon\n",
      "Index = 360. Quant_64_param1 was not appended, as there were no values under epsilon\n",
      "Index = 362. Quant_65_param1 was not appended, as there were no values under epsilon\n",
      "Index = 364. Quant_66_param1 was not appended, as there were no values under epsilon\n",
      "Index = 367. Quant_67_param1 was not appended, as there were no values under epsilon\n",
      "Index = 369. Quant_68_param1 was not appended, as there were no values under epsilon\n",
      "Index = 371. Quant_69_param1 was not appended, as there were no values under epsilon\n"
     ]
    }
   ],
   "source": [
    "eps = 1e-10\n",
    "\n",
    "layers_to_prune = {}\n",
    "\n",
    "for idx, init_name in enumerate(all_inits_names):\n",
    "    if \"Quant\" in init_name and \"param1\" in init_name:\n",
    "    # It is a scale value, check it\n",
    "        np_init = model.get_initializer(init_name)\n",
    "        np_abs_val = np.abs(np_init)\n",
    "        zero_idx = (np_abs_val < eps) * (np_abs_val > 0)\n",
    "        if np.all(zero_idx == False):\n",
    "            print(f'Index = {idx}. {init_name} was not appended, as there were no values under epsilon')\n",
    "        else:\n",
    "            zero_layer = np.where(zero_idx == True)[0]\n",
    "            quant_layer_out_name = init_name.split(\"param\")[0] + \"out0\"\n",
    "            layers_to_prune[quant_layer_out_name] = {1: {*zero_layer}}\n",
    "            print(f'Index = {idx}. {init_name} appended, as there were values under epsilon')"
   ]
  },
  {
   "cell_type": "code",
   "execution_count": 6,
   "id": "0e1546a7-c519-44a1-bc09-b1a3bcdc1abb",
   "metadata": {},
   "outputs": [
    {
     "name": "stdout",
     "output_type": "stream",
     "text": [
      "Number of layers to prune: 19\n",
      "Quant_0_out0 {1: {17}}\n",
      "Quant_1_out0 {1: {17}}\n",
      "Quant_6_out0 {1: {31}}\n",
      "Quant_7_out0 {1: {31}}\n",
      "Quant_12_out0 {1: {36, 6, 40, 9, 43, 12, 46, 17, 26, 28}}\n",
      "Quant_13_out0 {1: {36, 6, 40, 9, 43, 12, 46, 17, 26, 28}}\n",
      "Quant_15_out0 {1: {0, 65, 2, 3, 67, 75, 14, 81, 18, 50, 52, 93, 22, 23, 88, 92, 61}}\n",
      "Quant_16_out0 {1: {0, 65, 2, 3, 67, 75, 14, 81, 18, 50, 52, 93, 22, 23, 88, 92, 61}}\n",
      "Quant_18_out0 {1: {3, 6, 8, 9, 11, 16, 17, 18, 25, 26, 33, 37, 39, 42, 52, 54, 62, 63, 71, 72, 74, 82, 84, 86, 90, 92, 93, 94, 99, 100, 102, 107, 111, 113, 116, 123, 124, 125, 126}}\n",
      "Quant_19_out0 {1: {3, 6, 8, 9, 11, 16, 17, 18, 25, 26, 33, 37, 39, 42, 52, 54, 62, 63, 71, 72, 74, 82, 84, 86, 90, 92, 93, 94, 99, 100, 102, 107, 111, 113, 116, 123, 124, 125, 126}}\n",
      "Quant_21_out0 {1: {0, 4, 5, 7, 13, 16, 17, 20, 21, 27, 30, 31, 33, 34, 35, 37, 40, 41, 49, 53, 60, 61, 62, 63, 64, 68, 71, 72, 76, 78, 79, 80, 82, 85, 88, 90, 91, 93, 95, 100, 102, 103, 105, 106, 107, 108, 116, 117, 120, 121, 123, 126}}\n",
      "Quant_22_out0 {1: {0, 4, 5, 7, 13, 16, 17, 20, 21, 27, 30, 31, 33, 34, 35, 37, 40, 41, 49, 53, 60, 61, 62, 63, 64, 68, 71, 72, 76, 78, 79, 80, 82, 85, 88, 90, 91, 93, 95, 100, 102, 103, 105, 106, 107, 108, 116, 117, 120, 121, 123, 126}}\n",
      "Quant_24_out0 {1: {11, 14, 23, 24, 57, 30}}\n",
      "Quant_25_out0 {1: {11, 14, 23, 24, 57, 30}}\n",
      "Quant_26_out0 {1: {2, 3, 5, 6, 7, 8, 9, 11, 12, 13, 17, 18, 20, 23, 26, 27, 30, 32, 36, 41, 43, 46, 50, 51, 55, 57}}\n",
      "Quant_27_out0 {1: {0, 1, 2, 3, 5, 6, 7, 8, 10, 11, 13, 14, 15, 16, 18, 20, 22, 23, 24, 26, 27, 28, 29, 30, 31, 32, 34, 35, 36, 37, 41, 43, 44, 46, 47, 48, 51, 52, 55, 56, 57, 59, 60, 61, 64, 65, 67, 68, 69, 70, 71, 73, 75, 77, 78, 81, 82, 83, 85, 86, 88, 89, 92, 94, 95, 96, 97, 98, 99, 100, 102, 106, 107, 108, 110, 112, 114, 115, 116, 117, 118, 119, 121, 123, 125, 126, 127}}\n",
      "Quant_28_out0 {1: {0, 1, 2, 3, 5, 6, 7, 8, 10, 11, 13, 14, 15, 16, 18, 20, 22, 23, 24, 26, 27, 28, 29, 30, 31, 32, 34, 35, 36, 37, 41, 43, 44, 46, 47, 48, 51, 52, 55, 56, 57, 59, 60, 61, 64, 65, 67, 68, 69, 70, 71, 73, 75, 77, 78, 81, 82, 83, 85, 86, 88, 89, 92, 94, 95, 96, 97, 98, 99, 100, 102, 106, 107, 108, 110, 112, 114, 115, 116, 117, 118, 119, 121, 123, 125, 126, 127}}\n",
      "Quant_29_out0 {1: {2, 3, 5, 6, 7, 8, 9, 11, 12, 13, 17, 18, 20, 23, 26, 27, 30, 32, 36, 41, 43, 46, 50, 51, 55, 57}}\n",
      "Quant_30_out0 {1: {0, 2, 6, 7, 8, 10, 11, 13, 14, 17, 20, 21, 26, 30, 32, 33, 35, 42, 43, 47, 49, 50, 52, 55, 58, 61, 63, 65, 66, 67, 68, 69, 70, 73, 78, 79, 85, 87, 88, 90, 91, 95, 98, 100, 101, 102, 103, 104, 106, 107, 109, 110, 112, 113, 114, 117, 119}}\n"
     ]
    }
   ],
   "source": [
    "print(f'Number of layers to prune: {len(layers_to_prune)}')\n",
    "for k, v in layers_to_prune.items():\n",
    "    print(k, v)"
   ]
  },
  {
   "cell_type": "code",
   "execution_count": 7,
   "id": "8221a600-72f4-4415-ad8b-43614397651a",
   "metadata": {},
   "outputs": [
    {
     "data": {
      "text/plain": [
       "('Quant_30_out0',\n",
       " {1: {0,\n",
       "   2,\n",
       "   6,\n",
       "   7,\n",
       "   8,\n",
       "   10,\n",
       "   11,\n",
       "   13,\n",
       "   14,\n",
       "   17,\n",
       "   20,\n",
       "   21,\n",
       "   26,\n",
       "   30,\n",
       "   32,\n",
       "   33,\n",
       "   35,\n",
       "   42,\n",
       "   43,\n",
       "   47,\n",
       "   49,\n",
       "   50,\n",
       "   52,\n",
       "   55,\n",
       "   58,\n",
       "   61,\n",
       "   63,\n",
       "   65,\n",
       "   66,\n",
       "   67,\n",
       "   68,\n",
       "   69,\n",
       "   70,\n",
       "   73,\n",
       "   78,\n",
       "   79,\n",
       "   85,\n",
       "   87,\n",
       "   88,\n",
       "   90,\n",
       "   91,\n",
       "   95,\n",
       "   98,\n",
       "   100,\n",
       "   101,\n",
       "   102,\n",
       "   103,\n",
       "   104,\n",
       "   106,\n",
       "   107,\n",
       "   109,\n",
       "   110,\n",
       "   112,\n",
       "   113,\n",
       "   114,\n",
       "   117,\n",
       "   119}})"
      ]
     },
     "execution_count": 7,
     "metadata": {},
     "output_type": "execute_result"
    }
   ],
   "source": [
    "layers_to_prune.popitem()"
   ]
  },
  {
   "cell_type": "markdown",
   "id": "9e1f60b7-f62e-4398-981b-cf4e04687b87",
   "metadata": {},
   "source": [
    "# Prune the Layers"
   ]
  },
  {
   "cell_type": "code",
   "execution_count": 8,
   "id": "624fd05a-a1b0-4e5c-ae61-29afe85cd138",
   "metadata": {},
   "outputs": [],
   "source": [
    "model = ModelWrapper(model_file)"
   ]
  },
  {
   "cell_type": "code",
   "execution_count": 9,
   "id": "ef379b5a-d19f-4601-aaf2-f96ed01d7813",
   "metadata": {},
   "outputs": [],
   "source": [
    "model = cleanup_model(model, False)"
   ]
  },
  {
   "cell_type": "code",
   "execution_count": 10,
   "id": "465350c3-1615-406a-9890-a86b19baa4fc",
   "metadata": {},
   "outputs": [],
   "source": [
    "model_prune_clean = \"10_prune_clean.onnx\"\n",
    "model.save(model_prune_clean)"
   ]
  },
  {
   "cell_type": "code",
   "execution_count": 11,
   "id": "87a963db-ef3f-4c1e-bd93-c8e20bd61091",
   "metadata": {},
   "outputs": [
    {
     "name": "stdout",
     "output_type": "stream",
     "text": [
      "Serving '10_prune_clean.onnx' at http://0.0.0.0:8083\n"
     ]
    },
    {
     "data": {
      "text/html": [
       "\n",
       "        <iframe\n",
       "            width=\"100%\"\n",
       "            height=\"400\"\n",
       "            src=\"http://localhost:8083/\"\n",
       "            frameborder=\"0\"\n",
       "            allowfullscreen\n",
       "            \n",
       "        ></iframe>\n",
       "        "
      ],
      "text/plain": [
       "<IPython.lib.display.IFrame at 0x7f45d011d6c0>"
      ]
     },
     "execution_count": 11,
     "metadata": {},
     "output_type": "execute_result"
    }
   ],
   "source": [
    "showInNetron(model_prune_clean)"
   ]
  },
  {
   "cell_type": "code",
   "execution_count": 12,
   "id": "e084b279-fa7d-4683-8b8b-0ad2298766ff",
   "metadata": {},
   "outputs": [
    {
     "name": "stderr",
     "output_type": "stream",
     "text": [
      "/home/gmoreno/uav/finn/deps/qonnx/src/qonnx/transformation/pruning.py:174: UserWarning: Can't propagate sparsity mask through op_type AveragePool\n",
      "  warnings.warn(\"Can't propagate sparsity mask through op_type %s\" % node.op_type)\n",
      "/home/gmoreno/uav/finn/deps/qonnx/src/qonnx/transformation/pruning.py:174: UserWarning: Can't propagate sparsity mask through op_type Trunc\n",
      "  warnings.warn(\"Can't propagate sparsity mask through op_type %s\" % node.op_type)\n",
      "/home/gmoreno/uav/finn/deps/qonnx/src/qonnx/transformation/pruning.py:174: UserWarning: Can't propagate sparsity mask through op_type Reshape\n",
      "  warnings.warn(\"Can't propagate sparsity mask through op_type %s\" % node.op_type)\n",
      "/home/gmoreno/uav/finn/deps/qonnx/src/qonnx/transformation/pruning.py:174: UserWarning: Can't propagate sparsity mask through op_type Gemm\n",
      "  warnings.warn(\"Can't propagate sparsity mask through op_type %s\" % node.op_type)\n",
      "/home/gmoreno/uav/finn/deps/qonnx/src/qonnx/transformation/pruning.py:174: UserWarning: Can't propagate sparsity mask through op_type BipolarQuant\n",
      "  warnings.warn(\"Can't propagate sparsity mask through op_type %s\" % node.op_type)\n"
     ]
    },
    {
     "ename": "IndexError",
     "evalue": "index 17 is out of bounds for axis 1 with size 3",
     "output_type": "error",
     "traceback": [
      "\u001b[0;31m---------------------------------------------------------------------------\u001b[0m",
      "\u001b[0;31mIndexError\u001b[0m                                Traceback (most recent call last)",
      "Cell \u001b[0;32mIn[12], line 1\u001b[0m\n\u001b[0;32m----> 1\u001b[0m model \u001b[38;5;241m=\u001b[39m \u001b[43mmodel\u001b[49m\u001b[38;5;241;43m.\u001b[39;49m\u001b[43mtransform\u001b[49m\u001b[43m(\u001b[49m\u001b[43mPruneChannels\u001b[49m\u001b[43m(\u001b[49m\u001b[43mprune_spec\u001b[49m\u001b[38;5;241;43m=\u001b[39;49m\u001b[43mlayers_to_prune\u001b[49m\u001b[43m)\u001b[49m\u001b[43m)\u001b[49m\n",
      "File \u001b[0;32m/home/gmoreno/uav/finn/deps/qonnx/src/qonnx/core/modelwrapper.py:140\u001b[0m, in \u001b[0;36mModelWrapper.transform\u001b[0;34m(self, transformation, make_deepcopy, cleanup)\u001b[0m\n\u001b[1;32m    138\u001b[0m model_was_changed \u001b[38;5;241m=\u001b[39m \u001b[38;5;28;01mTrue\u001b[39;00m\n\u001b[1;32m    139\u001b[0m \u001b[38;5;28;01mwhile\u001b[39;00m model_was_changed:\n\u001b[0;32m--> 140\u001b[0m     (transformed_model, model_was_changed) \u001b[38;5;241m=\u001b[39m \u001b[43mtransformation\u001b[49m\u001b[38;5;241;43m.\u001b[39;49m\u001b[43mapply\u001b[49m\u001b[43m(\u001b[49m\u001b[43mtransformed_model\u001b[49m\u001b[43m)\u001b[49m\n\u001b[1;32m    141\u001b[0m \u001b[38;5;28;01mif\u001b[39;00m cleanup:\n\u001b[1;32m    142\u001b[0m     transformed_model\u001b[38;5;241m.\u001b[39mcleanup()\n",
      "File \u001b[0;32m/home/gmoreno/uav/finn/deps/qonnx/src/qonnx/transformation/pruning.py:361\u001b[0m, in \u001b[0;36mPruneChannels.apply\u001b[0;34m(self, model)\u001b[0m\n\u001b[1;32m    359\u001b[0m model \u001b[38;5;241m=\u001b[39m model\u001b[38;5;241m.\u001b[39mtransform(ApplyMasks(\u001b[38;5;28mself\u001b[39m\u001b[38;5;241m.\u001b[39mprune_spec))\n\u001b[1;32m    360\u001b[0m model \u001b[38;5;241m=\u001b[39m model\u001b[38;5;241m.\u001b[39mtransform(PropagateMasks(\u001b[38;5;28mself\u001b[39m\u001b[38;5;241m.\u001b[39mlossy))\n\u001b[0;32m--> 361\u001b[0m model \u001b[38;5;241m=\u001b[39m \u001b[43mmodel\u001b[49m\u001b[38;5;241;43m.\u001b[39;49m\u001b[43mtransform\u001b[49m\u001b[43m(\u001b[49m\u001b[43mRemoveMaskedChannels\u001b[49m\u001b[43m(\u001b[49m\u001b[38;5;28;43mself\u001b[39;49m\u001b[38;5;241;43m.\u001b[39;49m\u001b[43mlossy\u001b[49m\u001b[43m)\u001b[49m\u001b[43m)\u001b[49m\n\u001b[1;32m    362\u001b[0m \u001b[38;5;28;01mreturn\u001b[39;00m (model, \u001b[38;5;28;01mFalse\u001b[39;00m)\n",
      "File \u001b[0;32m/home/gmoreno/uav/finn/deps/qonnx/src/qonnx/core/modelwrapper.py:140\u001b[0m, in \u001b[0;36mModelWrapper.transform\u001b[0;34m(self, transformation, make_deepcopy, cleanup)\u001b[0m\n\u001b[1;32m    138\u001b[0m model_was_changed \u001b[38;5;241m=\u001b[39m \u001b[38;5;28;01mTrue\u001b[39;00m\n\u001b[1;32m    139\u001b[0m \u001b[38;5;28;01mwhile\u001b[39;00m model_was_changed:\n\u001b[0;32m--> 140\u001b[0m     (transformed_model, model_was_changed) \u001b[38;5;241m=\u001b[39m \u001b[43mtransformation\u001b[49m\u001b[38;5;241;43m.\u001b[39;49m\u001b[43mapply\u001b[49m\u001b[43m(\u001b[49m\u001b[43mtransformed_model\u001b[49m\u001b[43m)\u001b[49m\n\u001b[1;32m    141\u001b[0m \u001b[38;5;28;01mif\u001b[39;00m cleanup:\n\u001b[1;32m    142\u001b[0m     transformed_model\u001b[38;5;241m.\u001b[39mcleanup()\n",
      "File \u001b[0;32m/home/gmoreno/uav/finn/deps/qonnx/src/qonnx/transformation/pruning.py:258\u001b[0m, in \u001b[0;36mRemoveMaskedChannels.apply\u001b[0;34m(self, model)\u001b[0m\n\u001b[1;32m    254\u001b[0m \u001b[38;5;28;01mif\u001b[39;00m io_t \u001b[38;5;129;01mis\u001b[39;00m \u001b[38;5;28;01mNone\u001b[39;00m:\n\u001b[1;32m    255\u001b[0m     \u001b[38;5;66;03m# dynamic input/output, no initializer\u001b[39;00m\n\u001b[1;32m    256\u001b[0m     \u001b[38;5;66;03m# compute new shape only\u001b[39;00m\n\u001b[1;32m    257\u001b[0m     \u001b[38;5;28;01mfor\u001b[39;00m target_axis, axis_mask \u001b[38;5;129;01min\u001b[39;00m mask\u001b[38;5;241m.\u001b[39mitems():\n\u001b[0;32m--> 258\u001b[0m         new_shp \u001b[38;5;241m=\u001b[39m \u001b[43mremove_masked_tensor_channels\u001b[49m\u001b[43m(\u001b[49m\u001b[43mio_shp\u001b[49m\u001b[43m,\u001b[49m\u001b[43m \u001b[49m\u001b[43maxis_mask\u001b[49m\u001b[43m,\u001b[49m\u001b[43m \u001b[49m\u001b[43maxis\u001b[49m\u001b[38;5;241;43m=\u001b[39;49m\u001b[43mtarget_axis\u001b[49m\u001b[43m)\u001b[49m\n\u001b[1;32m    259\u001b[0m         model\u001b[38;5;241m.\u001b[39mset_tensor_shape(ioname, new_shp)\n\u001b[1;32m    260\u001b[0m \u001b[38;5;28;01melse\u001b[39;00m:\n",
      "File \u001b[0;32m/home/gmoreno/uav/finn/deps/qonnx/src/qonnx/transformation/pruning.py:106\u001b[0m, in \u001b[0;36mremove_masked_tensor_channels\u001b[0;34m(tensor_or_shape, mask, axis)\u001b[0m\n\u001b[1;32m    104\u001b[0m     ret \u001b[38;5;241m=\u001b[39m tensor_or_shape\n\u001b[1;32m    105\u001b[0m \u001b[38;5;28;01melse\u001b[39;00m:\n\u001b[0;32m--> 106\u001b[0m     ret \u001b[38;5;241m=\u001b[39m \u001b[43mnp\u001b[49m\u001b[38;5;241;43m.\u001b[39;49m\u001b[43mdelete\u001b[49m\u001b[43m(\u001b[49m\u001b[43mtensor_or_shape\u001b[49m\u001b[43m,\u001b[49m\u001b[43m \u001b[49m\u001b[43mmask_list\u001b[49m\u001b[43m,\u001b[49m\u001b[43m \u001b[49m\u001b[43maxis\u001b[49m\u001b[38;5;241;43m=\u001b[39;49m\u001b[43maxis\u001b[49m\u001b[43m)\u001b[49m\n\u001b[1;32m    107\u001b[0m \u001b[38;5;28;01mif\u001b[39;00m shape_only:\n\u001b[1;32m    108\u001b[0m     \u001b[38;5;28;01mreturn\u001b[39;00m ret\u001b[38;5;241m.\u001b[39mshape\n",
      "File \u001b[0;32m/usr/local/lib/python3.10/dist-packages/numpy/lib/function_base.py:5330\u001b[0m, in \u001b[0;36mdelete\u001b[0;34m(arr, obj, axis)\u001b[0m\n\u001b[1;32m   5327\u001b[0m \u001b[38;5;28;01mif\u001b[39;00m single_value:\n\u001b[1;32m   5328\u001b[0m     \u001b[38;5;66;03m# optimization for a single value\u001b[39;00m\n\u001b[1;32m   5329\u001b[0m     \u001b[38;5;28;01mif\u001b[39;00m (obj \u001b[38;5;241m<\u001b[39m \u001b[38;5;241m-\u001b[39mN \u001b[38;5;129;01mor\u001b[39;00m obj \u001b[38;5;241m>\u001b[39m\u001b[38;5;241m=\u001b[39m N):\n\u001b[0;32m-> 5330\u001b[0m         \u001b[38;5;28;01mraise\u001b[39;00m \u001b[38;5;167;01mIndexError\u001b[39;00m(\n\u001b[1;32m   5331\u001b[0m             \u001b[38;5;124m\"\u001b[39m\u001b[38;5;124mindex \u001b[39m\u001b[38;5;132;01m%i\u001b[39;00m\u001b[38;5;124m is out of bounds for axis \u001b[39m\u001b[38;5;132;01m%i\u001b[39;00m\u001b[38;5;124m with \u001b[39m\u001b[38;5;124m\"\u001b[39m\n\u001b[1;32m   5332\u001b[0m             \u001b[38;5;124m\"\u001b[39m\u001b[38;5;124msize \u001b[39m\u001b[38;5;132;01m%i\u001b[39;00m\u001b[38;5;124m\"\u001b[39m \u001b[38;5;241m%\u001b[39m (obj, axis, N))\n\u001b[1;32m   5333\u001b[0m     \u001b[38;5;28;01mif\u001b[39;00m (obj \u001b[38;5;241m<\u001b[39m \u001b[38;5;241m0\u001b[39m):\n\u001b[1;32m   5334\u001b[0m         obj \u001b[38;5;241m+\u001b[39m\u001b[38;5;241m=\u001b[39m N\n",
      "\u001b[0;31mIndexError\u001b[0m: index 17 is out of bounds for axis 1 with size 3"
     ]
    }
   ],
   "source": [
    "model = model.transform(PruneChannels(prune_spec=layers_to_prune))"
   ]
  },
  {
   "cell_type": "code",
   "execution_count": null,
   "id": "d721bddd-6774-49ce-9b56-78b488c79442",
   "metadata": {},
   "outputs": [],
   "source": []
  }
 ],
 "metadata": {
  "kernelspec": {
   "display_name": "Python 3 (ipykernel)",
   "language": "python",
   "name": "python3"
  },
  "language_info": {
   "codemirror_mode": {
    "name": "ipython",
    "version": 3
   },
   "file_extension": ".py",
   "mimetype": "text/x-python",
   "name": "python",
   "nbconvert_exporter": "python",
   "pygments_lexer": "ipython3",
   "version": "3.10.12"
  }
 },
 "nbformat": 4,
 "nbformat_minor": 5
}
