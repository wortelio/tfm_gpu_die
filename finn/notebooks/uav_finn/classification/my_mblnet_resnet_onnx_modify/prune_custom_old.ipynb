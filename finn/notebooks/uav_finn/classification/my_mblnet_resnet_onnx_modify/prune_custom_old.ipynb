{
 "cells": [
  {
   "cell_type": "code",
   "execution_count": 1,
   "id": "ae233f6f-7219-4cbc-96da-03ec5287f36a",
   "metadata": {},
   "outputs": [],
   "source": [
    "import numpy as np\n",
    "\n",
    "from qonnx.core.datatype import DataType\n",
    "from qonnx.transformation.infer_datatypes import InferDataTypes\n",
    "from qonnx.transformation.infer_shapes import InferShapes\n",
    "\n",
    "from qonnx.util.cleanup import cleanup as qonnx_cleanup\n",
    "\n",
    "from finn.util.visualization import showInNetron\n",
    "from qonnx.core.modelwrapper import ModelWrapper\n",
    "\n",
    "from qonnx.custom_op.registry import getCustomOp\n",
    "\n",
    "import onnx.helper as oh\n",
    "import qonnx.util.basic as util"
   ]
  },
  {
   "cell_type": "code",
   "execution_count": 2,
   "id": "d54340a2-fdb7-4183-912e-09bf2e61ef35",
   "metadata": {},
   "outputs": [],
   "source": [
    "prune_folder = './manual_prune/'"
   ]
  },
  {
   "cell_type": "markdown",
   "id": "4800263f-4f20-48bd-a650-6d6e4ae957aa",
   "metadata": {},
   "source": [
    "# Load Model and Clean"
   ]
  },
  {
   "cell_type": "code",
   "execution_count": 3,
   "id": "067aa6e5-64e7-45cd-b1bb-639407f4310f",
   "metadata": {},
   "outputs": [],
   "source": [
    "model_file = './MY_MBLNET_V2_RESNET_classifier__best_mean_F1__BIPOLAR_Out__QONNX.onnx'"
   ]
  },
  {
   "cell_type": "code",
   "execution_count": 4,
   "id": "4a08fbe2-1a78-4964-b0cc-1d48e4b907ba",
   "metadata": {},
   "outputs": [],
   "source": [
    "qonnx_clean_filename = prune_folder + '00_prune_clean.onnx'\n",
    "qonnx_cleanup(model_file, out_file=qonnx_clean_filename)"
   ]
  },
  {
   "cell_type": "code",
   "execution_count": 5,
   "id": "828b8cf7-1403-43d1-8ed1-2e6442925dd0",
   "metadata": {},
   "outputs": [
    {
     "name": "stdout",
     "output_type": "stream",
     "text": [
      "Serving './manual_prune/00_prune_clean.onnx' at http://0.0.0.0:8083\n"
     ]
    },
    {
     "data": {
      "text/html": [
       "\n",
       "        <iframe\n",
       "            width=\"100%\"\n",
       "            height=\"400\"\n",
       "            src=\"http://localhost:8083/\"\n",
       "            frameborder=\"0\"\n",
       "            allowfullscreen\n",
       "            \n",
       "        ></iframe>\n",
       "        "
      ],
      "text/plain": [
       "<IPython.lib.display.IFrame at 0x7ff1b23bf610>"
      ]
     },
     "execution_count": 5,
     "metadata": {},
     "output_type": "execute_result"
    }
   ],
   "source": [
    "showInNetron(qonnx_clean_filename)"
   ]
  },
  {
   "cell_type": "markdown",
   "id": "7ea40e51-a453-4e7c-8a0f-83336935268c",
   "metadata": {},
   "source": [
    "# Analyze layers to prune"
   ]
  },
  {
   "cell_type": "code",
   "execution_count": 6,
   "id": "00603339-56a9-4c8e-9643-2446e1732a05",
   "metadata": {},
   "outputs": [],
   "source": [
    "model = ModelWrapper(qonnx_clean_filename)"
   ]
  },
  {
   "cell_type": "code",
   "execution_count": 7,
   "id": "c3eb0cee-bfe7-48e0-a8cf-c0185fcbc8a9",
   "metadata": {},
   "outputs": [
    {
     "name": "stdout",
     "output_type": "stream",
     "text": [
      "Number of initializers = 376\n"
     ]
    }
   ],
   "source": [
    "all_inits_names = [init.name for init in model.graph.initializer]\n",
    "\n",
    "print(f'Number of initializers = {len(all_inits_names)}')"
   ]
  },
  {
   "cell_type": "code",
   "execution_count": 8,
   "id": "e953613e-1aa3-4e6a-810a-a69fc10543e5",
   "metadata": {},
   "outputs": [],
   "source": [
    "eps = 1e-10\n",
    "\n",
    "layers_to_prune = {}\n",
    "\n",
    "for idx, init_name in enumerate(all_inits_names):\n",
    "    if \"Quant\" in init_name and \"param1\" in init_name:\n",
    "    # It is a scale value, check it\n",
    "        np_init = model.get_initializer(init_name)\n",
    "        np_abs_val = np.abs(np_init)\n",
    "        zero_idx = (np_abs_val < eps) * (np_abs_val > 0)\n",
    "        if np.all(zero_idx == False):\n",
    "            #print(f'Index = {idx}. {init_name} was not appended, as there were no values under epsilon')\n",
    "            continue\n",
    "        else:\n",
    "            zero_layer = np.where(zero_idx == True)[0]\n",
    "            quant_layer_out_name = init_name.split(\"param\")[0] + \"out0\"\n",
    "            layers_to_prune[quant_layer_out_name] = {1: {*zero_layer}}\n",
    "            #print(f'Index = {idx}. {init_name} appended, as there were values under epsilon')"
   ]
  },
  {
   "cell_type": "code",
   "execution_count": 9,
   "id": "0e1546a7-c519-44a1-bc09-b1a3bcdc1abb",
   "metadata": {},
   "outputs": [
    {
     "name": "stdout",
     "output_type": "stream",
     "text": [
      "Number of layers to prune: 19\n",
      "Quant_0_out0 {1: {17}}\n",
      "Quant_1_out0 {1: {17}}\n",
      "Quant_6_out0 {1: {31}}\n",
      "Quant_7_out0 {1: {31}}\n",
      "Quant_12_out0 {1: {36, 6, 40, 9, 43, 12, 46, 17, 26, 28}}\n",
      "Quant_13_out0 {1: {36, 6, 40, 9, 43, 12, 46, 17, 26, 28}}\n",
      "Quant_15_out0 {1: {0, 65, 2, 3, 67, 75, 14, 81, 18, 50, 52, 93, 22, 23, 88, 92, 61}}\n",
      "Quant_16_out0 {1: {0, 65, 2, 3, 67, 75, 14, 81, 18, 50, 52, 93, 22, 23, 88, 92, 61}}\n",
      "Quant_18_out0 {1: {3, 6, 8, 9, 11, 16, 17, 18, 25, 26, 33, 37, 39, 42, 52, 54, 62, 63, 71, 72, 74, 82, 84, 86, 90, 92, 93, 94, 99, 100, 102, 107, 111, 113, 116, 123, 124, 125, 126}}\n",
      "Quant_19_out0 {1: {3, 6, 8, 9, 11, 16, 17, 18, 25, 26, 33, 37, 39, 42, 52, 54, 62, 63, 71, 72, 74, 82, 84, 86, 90, 92, 93, 94, 99, 100, 102, 107, 111, 113, 116, 123, 124, 125, 126}}\n",
      "Quant_21_out0 {1: {0, 4, 5, 7, 13, 16, 17, 20, 21, 27, 30, 31, 33, 34, 35, 37, 40, 41, 49, 53, 60, 61, 62, 63, 64, 68, 71, 72, 76, 78, 79, 80, 82, 85, 88, 90, 91, 93, 95, 100, 102, 103, 105, 106, 107, 108, 116, 117, 120, 121, 123, 126}}\n",
      "Quant_22_out0 {1: {0, 4, 5, 7, 13, 16, 17, 20, 21, 27, 30, 31, 33, 34, 35, 37, 40, 41, 49, 53, 60, 61, 62, 63, 64, 68, 71, 72, 76, 78, 79, 80, 82, 85, 88, 90, 91, 93, 95, 100, 102, 103, 105, 106, 107, 108, 116, 117, 120, 121, 123, 126}}\n",
      "Quant_24_out0 {1: {11, 14, 23, 24, 57, 30}}\n",
      "Quant_25_out0 {1: {11, 14, 23, 24, 57, 30}}\n",
      "Quant_26_out0 {1: {2, 3, 5, 6, 7, 8, 9, 11, 12, 13, 17, 18, 20, 23, 26, 27, 30, 32, 36, 41, 43, 46, 50, 51, 55, 57}}\n",
      "Quant_27_out0 {1: {0, 1, 2, 3, 5, 6, 7, 8, 10, 11, 13, 14, 15, 16, 18, 20, 22, 23, 24, 26, 27, 28, 29, 30, 31, 32, 34, 35, 36, 37, 41, 43, 44, 46, 47, 48, 51, 52, 55, 56, 57, 59, 60, 61, 64, 65, 67, 68, 69, 70, 71, 73, 75, 77, 78, 81, 82, 83, 85, 86, 88, 89, 92, 94, 95, 96, 97, 98, 99, 100, 102, 106, 107, 108, 110, 112, 114, 115, 116, 117, 118, 119, 121, 123, 125, 126, 127}}\n",
      "Quant_28_out0 {1: {0, 1, 2, 3, 5, 6, 7, 8, 10, 11, 13, 14, 15, 16, 18, 20, 22, 23, 24, 26, 27, 28, 29, 30, 31, 32, 34, 35, 36, 37, 41, 43, 44, 46, 47, 48, 51, 52, 55, 56, 57, 59, 60, 61, 64, 65, 67, 68, 69, 70, 71, 73, 75, 77, 78, 81, 82, 83, 85, 86, 88, 89, 92, 94, 95, 96, 97, 98, 99, 100, 102, 106, 107, 108, 110, 112, 114, 115, 116, 117, 118, 119, 121, 123, 125, 126, 127}}\n",
      "Quant_29_out0 {1: {2, 3, 5, 6, 7, 8, 9, 11, 12, 13, 17, 18, 20, 23, 26, 27, 30, 32, 36, 41, 43, 46, 50, 51, 55, 57}}\n",
      "Quant_30_out0 {1: {0, 2, 6, 7, 8, 10, 11, 13, 14, 17, 20, 21, 26, 30, 32, 33, 35, 42, 43, 47, 49, 50, 52, 55, 58, 61, 63, 65, 66, 67, 68, 69, 70, 73, 78, 79, 85, 87, 88, 90, 91, 95, 98, 100, 101, 102, 103, 104, 106, 107, 109, 110, 112, 113, 114, 117, 119}}\n"
     ]
    }
   ],
   "source": [
    "print(f'Number of layers to prune: {len(layers_to_prune)}')\n",
    "for k, v in layers_to_prune.items():\n",
    "    print(k, v)"
   ]
  },
  {
   "cell_type": "markdown",
   "id": "9e1f60b7-f62e-4398-981b-cf4e04687b87",
   "metadata": {},
   "source": [
    "# Prune the Layers Manually"
   ]
  },
  {
   "cell_type": "markdown",
   "id": "e3f8a61a-ad25-476f-b0f5-091907383f16",
   "metadata": {},
   "source": [
    "#### Conv1"
   ]
  },
  {
   "cell_type": "code",
   "execution_count": 10,
   "id": "e17c7515-7313-4cc1-b4e2-fac127813c0a",
   "metadata": {},
   "outputs": [],
   "source": [
    "def prune_conv_non_dw_0(model, conv_id):\n",
    "\n",
    "    str_conv_id = str(conv_id)\n",
    "\n",
    "    print(\"Convert Quant Weights of Convolution\")\n",
    "    quant_node = \"Quant_\" + str_conv_id\n",
    "    quant_0 = quant_node + \"_param0\"\n",
    "    quant_1 = quant_node + \"_param1\"\n",
    "    np_q0 = model.get_initializer(quant_0)\n",
    "    np_q1 = model.get_initializer(quant_1)\n",
    "    print(f'Quant 0 shape: {np_q0.shape}')\n",
    "    print(f'Quant 1 shape: {np_q1.shape}') \n",
    "\n",
    "    np_q1_abs = np.abs(np_q1)\n",
    "    non_zero_idx = np.where(np_q1_abs > 1e-10)[0]\n",
    "    print(f'Non Zero IDX: {non_zero_idx}')\n",
    "\n",
    "    new_np_q0 = np_q0[non_zero_idx]\n",
    "    print(f'New Quant 0 shape: {new_np_q0.shape}')\n",
    "    new_np_q1 = np_q1[non_zero_idx]\n",
    "    print(f'New Quant 1 shape: {new_np_q1.shape}')\n",
    "\n",
    "    model.set_initializer(\n",
    "        tensor_name = quant_0, \n",
    "        tensor_value = new_np_q0)\n",
    "    model.set_initializer(\n",
    "        tensor_name = quant_1, \n",
    "        tensor_value = new_np_q1)\n",
    "\n",
    "    node_q0 = model.get_node_from_name(quant_node)\n",
    "    ch, k, w, h = model.get_tensor_shape(node_q0.output[0])\n",
    "    print(f'Quant 0 original shape: {ch, k, w, h}')\n",
    "    new_ch = new_np_q0.shape[0]\n",
    "    new_shape = (new_ch, k, w, h)\n",
    "    print(f'Quant 0 new shape: {new_shape}')\n",
    "\n",
    "    model.set_tensor_shape(node_q0.output[0], new_shape)\n",
    "\n",
    "    print(\"Convert Convolution Shape\")\n",
    "\n",
    "    conv_node = \"Conv_\" + str_conv_id\n",
    "    node_conv0 = model.get_node_from_name(conv_node)\n",
    "    batch, ch, w, h = model.get_tensor_shape(node_conv0.output[0])\n",
    "    print(batch, ch, w, h)\n",
    "    new_ch = new_np_q0.shape[0]\n",
    "    new_shape = (batch, new_ch, w, h)\n",
    "    print(new_shape)\n",
    "\n",
    "    model.set_tensor_shape(node_conv0.output[0], new_shape)\n",
    "\n",
    "    print(\"Convert Batch Norm\")\n",
    "    bn_node = \"BatchNormalization_\" + str_conv_id\n",
    "    bn_0 = \"BatchNormalization_\" + str_conv_id + \"_param0\"\n",
    "    bn_1 = \"BatchNormalization_\" + str_conv_id + \"_param1\"\n",
    "    bn_2 = \"BatchNormalization_\" + str_conv_id + \"_param2\"\n",
    "    bn_3 = \"BatchNormalization_\" + str_conv_id + \"_param3\"\n",
    "    np_bn0 = model.get_initializer(bn_0)\n",
    "    np_bn1 = model.get_initializer(bn_1)\n",
    "    np_bn2 = model.get_initializer(bn_2)\n",
    "    np_bn3 = model.get_initializer(bn_3)\n",
    "    \n",
    "    print(f'BN0 shape: {np_bn0.shape}')\n",
    "    print(f'BN1 shape: {np_bn1.shape}')\n",
    "    print(f'BN2 shape: {np_bn2.shape}')\n",
    "    print(f'BN3 shape: {np_bn3.shape}')\n",
    "\n",
    "    np_bn0_abs = np.abs(np_bn0)\n",
    "    non_zero_idx = np.where(np_bn0_abs > 1e-10)[0]\n",
    "    print(f'BN non zero IDX: {non_zero_idx}')\n",
    "    new_np_bn0 = np_bn0[non_zero_idx]\n",
    "    print(new_np_bn0.shape)\n",
    "    new_np_bn1 = np_bn1[non_zero_idx]\n",
    "    print(new_np_bn1.shape)\n",
    "    new_np_bn2 = np_bn2[non_zero_idx]\n",
    "    print(new_np_bn2.shape)\n",
    "    new_np_bn3 = np_bn3[non_zero_idx]\n",
    "    print(new_np_bn3.shape)\n",
    "\n",
    "    model.set_initializer(\n",
    "        tensor_name = bn_0, \n",
    "        tensor_value = new_np_bn0)\n",
    "    model.set_initializer(\n",
    "        tensor_name = bn_1, \n",
    "        tensor_value = new_np_bn1)\n",
    "    model.set_initializer(\n",
    "        tensor_name = bn_2, \n",
    "        tensor_value = new_np_bn2)\n",
    "    model.set_initializer(\n",
    "        tensor_name = bn_3, \n",
    "        tensor_value = new_np_bn3) \n",
    "\n",
    "    node_bn0 = model.get_node_from_name(bn_node)\n",
    "    model.set_tensor_shape(node_bn0.output[0], new_shape) \n",
    "\n",
    "    print(\"Convert ReLU\")\n",
    "    relu_node = \"Relu_\" + str_conv_id\n",
    "    node_relu0 = model.get_node_from_name(relu_node)  \n",
    "    model.set_tensor_shape(node_relu0.output[0], new_shape)\n",
    "\n",
    "    print(\"Convert Quant ReLU\")\n",
    "    quant_relu_node = \"Quant_34\"\n",
    "    quant_node_relu0 = model.get_node_from_name(quant_relu_node)  \n",
    "    model.set_tensor_shape(quant_node_relu0.output[0], new_shape)    "
   ]
  },
  {
   "cell_type": "code",
   "execution_count": 11,
   "id": "755d0f31-78f0-48b8-ab95-5b949c9332fc",
   "metadata": {},
   "outputs": [
    {
     "name": "stdout",
     "output_type": "stream",
     "text": [
      "Convert Quant Weights of Convolution\n",
      "Quant 0 shape: (32, 3, 3, 3)\n",
      "Quant 1 shape: (32, 1, 1, 1)\n",
      "Non Zero IDX: [ 0  1  2  3  4  5  6  7  8  9 10 11 12 13 14 15 16 18 19 20 21 22 23 24\n",
      " 25 26 27 28 29 30 31]\n",
      "New Quant 0 shape: (31, 3, 3, 3)\n",
      "New Quant 1 shape: (31, 1, 1, 1)\n",
      "Quant 0 original shape: (32, 3, 3, 3)\n",
      "Quant 0 new shape: (31, 3, 3, 3)\n",
      "Convert Convolution Shape\n",
      "1 32 112 112\n",
      "(1, 31, 112, 112)\n",
      "Convert Batch Norm\n",
      "BN0 shape: (32,)\n",
      "BN1 shape: (32,)\n",
      "BN2 shape: (32,)\n",
      "BN3 shape: (32,)\n",
      "BN non zero IDX: [ 0  1  2  3  4  5  6  7  8  9 10 11 12 13 14 15 16 18 19 20 21 22 23 24\n",
      " 25 26 27 28 29 30 31]\n",
      "(31,)\n",
      "(31,)\n",
      "(31,)\n",
      "(31,)\n",
      "Convert ReLU\n",
      "Convert Quant ReLU\n"
     ]
    }
   ],
   "source": [
    "prune_conv_non_dw_0(model, 0)"
   ]
  },
  {
   "cell_type": "code",
   "execution_count": 12,
   "id": "50bbd986-b002-4c16-83d2-7c61f42113c3",
   "metadata": {},
   "outputs": [],
   "source": [
    "model = model.transform(InferShapes())"
   ]
  },
  {
   "cell_type": "code",
   "execution_count": 13,
   "id": "0ebb9c89-3213-4b08-bbde-94dbe36f7c46",
   "metadata": {},
   "outputs": [],
   "source": [
    "prune_first_conv = prune_folder + \"01_prune_first_conv.onnx\"\n",
    "model.save(prune_first_conv)"
   ]
  },
  {
   "cell_type": "code",
   "execution_count": 14,
   "id": "6cfbf4d9-0fc0-4f54-978b-c7008eecbb3b",
   "metadata": {},
   "outputs": [
    {
     "name": "stdout",
     "output_type": "stream",
     "text": [
      "Stopping http://0.0.0.0:8083\n",
      "Serving './manual_prune/01_prune_first_conv.onnx' at http://0.0.0.0:8083\n"
     ]
    },
    {
     "data": {
      "text/html": [
       "\n",
       "        <iframe\n",
       "            width=\"100%\"\n",
       "            height=\"400\"\n",
       "            src=\"http://localhost:8083/\"\n",
       "            frameborder=\"0\"\n",
       "            allowfullscreen\n",
       "            \n",
       "        ></iframe>\n",
       "        "
      ],
      "text/plain": [
       "<IPython.lib.display.IFrame at 0x7ff1648b5ed0>"
      ]
     },
     "execution_count": 14,
     "metadata": {},
     "output_type": "execute_result"
    }
   ],
   "source": [
    "showInNetron(prune_first_conv)"
   ]
  },
  {
   "cell_type": "code",
   "execution_count": 15,
   "id": "fa6c42a2-59f6-4355-b3da-e85c742ae06c",
   "metadata": {},
   "outputs": [],
   "source": [
    "def prune_conv_dw_1(model, conv_id):\n",
    "\n",
    "    str_conv_id = str(conv_id)\n",
    "\n",
    "    print(\"Convert Quant Weights of Convolution\")\n",
    "    quant_node = \"Quant_\" + str_conv_id\n",
    "    quant_0 = quant_node + \"_param0\"\n",
    "    quant_1 = quant_node + \"_param1\"\n",
    "    np_q0 = model.get_initializer(quant_0)\n",
    "    np_q1 = model.get_initializer(quant_1)\n",
    "    print(f'Quant 0 shape: {np_q0.shape}')\n",
    "    print(f'Quant 1 shape: {np_q1.shape}') \n",
    "\n",
    "    np_q1_abs = np.abs(np_q1)\n",
    "    non_zero_idx = np.where(np_q1_abs > 1e-10)[0]\n",
    "    print(f'Non Zero IDX: {non_zero_idx}')\n",
    "\n",
    "    new_np_q0 = np_q0[non_zero_idx]\n",
    "    print(f'New Quant 0 shape: {new_np_q0.shape}')\n",
    "    new_np_q1 = np_q1[non_zero_idx]\n",
    "    print(f'New Quant 1 shape: {new_np_q1.shape}')\n",
    "\n",
    "    model.set_initializer(\n",
    "        tensor_name = quant_0, \n",
    "        tensor_value = new_np_q0)\n",
    "    model.set_initializer(\n",
    "        tensor_name = quant_1, \n",
    "        tensor_value = new_np_q1)\n",
    "\n",
    "    node_q0 = model.get_node_from_name(quant_node)\n",
    "    ch, k, w, h = model.get_tensor_shape(node_q0.output[0])\n",
    "    print(f'Quant 0 original shape: {ch, k, w, h}')\n",
    "    new_ch = new_np_q0.shape[0]\n",
    "    new_shape = (new_ch, k, w, h)\n",
    "    print(f'Quant 0 new shape: {new_shape}')\n",
    "\n",
    "    model.set_tensor_shape(node_q0.output[0], new_shape)\n",
    "\n",
    "    print(\"Convert Convolution Shape\")\n",
    "\n",
    "    conv_node = \"Conv_\" + str_conv_id\n",
    "    node_conv0 = model.get_node_from_name(conv_node)\n",
    "    batch, ch, w, h = model.get_tensor_shape(node_conv0.output[0])\n",
    "    print(batch, ch, w, h)\n",
    "    new_ch = new_np_q0.shape[0]\n",
    "    new_shape = (batch, new_ch, w, h)\n",
    "    print(new_shape)\n",
    "\n",
    "    model.set_tensor_shape(node_conv0.output[0], new_shape)\n",
    "\n",
    "    # Change groups\n",
    "    conv_group = node_conv0.attribute[1].i\n",
    "    if conv_group != 1:\n",
    "        print(f'DW Conv found. Group {conv_group}, changed to {new_ch}')\n",
    "        node_conv0.attribute[1].i = new_ch\n",
    "    \n",
    "    print(\"Convert Batch Norm\")\n",
    "    bn_node = \"BatchNormalization_\" + str_conv_id\n",
    "    bn_0 = \"BatchNormalization_\" + str_conv_id + \"_param0\"\n",
    "    bn_1 = \"BatchNormalization_\" + str_conv_id + \"_param1\"\n",
    "    bn_2 = \"BatchNormalization_\" + str_conv_id + \"_param2\"\n",
    "    bn_3 = \"BatchNormalization_\" + str_conv_id + \"_param3\"\n",
    "    np_bn0 = model.get_initializer(bn_0)\n",
    "    np_bn1 = model.get_initializer(bn_1)\n",
    "    np_bn2 = model.get_initializer(bn_2)\n",
    "    np_bn3 = model.get_initializer(bn_3)\n",
    "    \n",
    "    print(f'BN0 shape: {np_bn0.shape}')\n",
    "    print(f'BN1 shape: {np_bn1.shape}')\n",
    "    print(f'BN2 shape: {np_bn2.shape}')\n",
    "    print(f'BN3 shape: {np_bn3.shape}')\n",
    "\n",
    "    np_bn0_abs = np.abs(np_bn0)\n",
    "    non_zero_idx = np.where(np_bn0_abs > 1e-10)[0]\n",
    "    print(f'BN non zero IDX: {non_zero_idx}')\n",
    "    new_np_bn0 = np_bn0[non_zero_idx]\n",
    "    print(new_np_bn0.shape)\n",
    "    new_np_bn1 = np_bn1[non_zero_idx]\n",
    "    print(new_np_bn1.shape)\n",
    "    new_np_bn2 = np_bn2[non_zero_idx]\n",
    "    print(new_np_bn2.shape)\n",
    "    new_np_bn3 = np_bn3[non_zero_idx]\n",
    "    print(new_np_bn3.shape)\n",
    "\n",
    "    model.set_initializer(\n",
    "        tensor_name = bn_0, \n",
    "        tensor_value = new_np_bn0)\n",
    "    model.set_initializer(\n",
    "        tensor_name = bn_1, \n",
    "        tensor_value = new_np_bn1)\n",
    "    model.set_initializer(\n",
    "        tensor_name = bn_2, \n",
    "        tensor_value = new_np_bn2)\n",
    "    model.set_initializer(\n",
    "        tensor_name = bn_3, \n",
    "        tensor_value = new_np_bn3) \n",
    "\n",
    "    node_bn0 = model.get_node_from_name(bn_node)\n",
    "    model.set_tensor_shape(node_bn0.output[0], new_shape) \n",
    "\n",
    "    print(\"Convert ReLU\")\n",
    "    relu_node = \"Relu_\" + str_conv_id\n",
    "    node_relu0 = model.get_node_from_name(relu_node)  \n",
    "    model.set_tensor_shape(node_relu0.output[0], new_shape)\n",
    "\n",
    "    print(\"Convert Quant ReLU\")\n",
    "    quant_relu_node = \"Quant_35\"\n",
    "    quant_node_relu0 = model.get_node_from_name(quant_relu_node)  \n",
    "    model.set_tensor_shape(quant_node_relu0.output[0], new_shape)  "
   ]
  },
  {
   "cell_type": "code",
   "execution_count": null,
   "id": "b94185d3-25d0-48a8-ae11-c548b9fa9d05",
   "metadata": {},
   "outputs": [],
   "source": []
  },
  {
   "cell_type": "code",
   "execution_count": 16,
   "id": "195c7a9f-4176-44eb-ae42-66be60865144",
   "metadata": {},
   "outputs": [],
   "source": [
    "# conv1_node = model.get_node_from_name(\"Conv_1\")  "
   ]
  },
  {
   "cell_type": "code",
   "execution_count": 17,
   "id": "f84c324b-641b-4184-a95f-b1f91793f9a2",
   "metadata": {},
   "outputs": [],
   "source": [
    "# print(conv1_node)"
   ]
  },
  {
   "cell_type": "code",
   "execution_count": 18,
   "id": "6fe04157-c2fd-4b39-829a-eb72e8f919a5",
   "metadata": {},
   "outputs": [],
   "source": [
    "# for attr in conv1_node.attribute:\n",
    "#     print(type(attr))\n",
    "#     new_attr = oh.get_attribute_value(attr)\n",
    "#     print(new_attr)"
   ]
  },
  {
   "cell_type": "code",
   "execution_count": 19,
   "id": "1d1e4c1a-3029-4f0c-a9aa-f5066dd925e6",
   "metadata": {},
   "outputs": [],
   "source": [
    "# conv_1_group = util.get_by_name(conv1_node.attribute, \"group\")"
   ]
  },
  {
   "cell_type": "code",
   "execution_count": 20,
   "id": "3f253ed3-ca9e-4856-a084-76ff326bff3c",
   "metadata": {},
   "outputs": [],
   "source": [
    "# conv_1_group"
   ]
  },
  {
   "cell_type": "code",
   "execution_count": 21,
   "id": "0a100ac1-e020-4247-838e-906b59a445e9",
   "metadata": {},
   "outputs": [],
   "source": [
    "# conv1_node.attribute[1].i = 31"
   ]
  },
  {
   "cell_type": "code",
   "execution_count": null,
   "id": "b8987792-0754-4650-a24f-e2a6f44e67a0",
   "metadata": {},
   "outputs": [],
   "source": []
  },
  {
   "cell_type": "code",
   "execution_count": 22,
   "id": "424e9041-ca2f-49e0-a641-7aa34b523653",
   "metadata": {},
   "outputs": [
    {
     "name": "stdout",
     "output_type": "stream",
     "text": [
      "Convert Quant Weights of Convolution\n",
      "Quant 0 shape: (32, 1, 3, 3)\n",
      "Quant 1 shape: (32, 1, 1, 1)\n",
      "Non Zero IDX: [ 0  1  2  3  4  5  6  7  8  9 10 11 12 13 14 15 16 18 19 20 21 22 23 24\n",
      " 25 26 27 28 29 30 31]\n",
      "New Quant 0 shape: (31, 1, 3, 3)\n",
      "New Quant 1 shape: (31, 1, 1, 1)\n",
      "Quant 0 original shape: (32, 1, 3, 3)\n",
      "Quant 0 new shape: (31, 1, 3, 3)\n",
      "Convert Convolution Shape\n",
      "1 32 112 112\n",
      "(1, 31, 112, 112)\n",
      "DW Conv found. Group 32, changed to 31\n",
      "Convert Batch Norm\n",
      "BN0 shape: (32,)\n",
      "BN1 shape: (32,)\n",
      "BN2 shape: (32,)\n",
      "BN3 shape: (32,)\n",
      "BN non zero IDX: [ 0  1  2  3  4  5  6  7  8  9 10 11 12 13 14 15 16 18 19 20 21 22 23 24\n",
      " 25 26 27 28 29 30 31]\n",
      "(31,)\n",
      "(31,)\n",
      "(31,)\n",
      "(31,)\n",
      "Convert ReLU\n",
      "Convert Quant ReLU\n"
     ]
    }
   ],
   "source": [
    "prune_conv_dw_1(model, 1)"
   ]
  },
  {
   "cell_type": "code",
   "execution_count": null,
   "id": "11441885-856d-4fde-ac0f-aa2a7dd16dc3",
   "metadata": {},
   "outputs": [],
   "source": []
  },
  {
   "cell_type": "code",
   "execution_count": null,
   "id": "fe23ad42-5fdb-4a00-a7dd-89b11852ede5",
   "metadata": {},
   "outputs": [],
   "source": []
  },
  {
   "cell_type": "code",
   "execution_count": 23,
   "id": "301b3bc0-82eb-44b1-928e-f9f3b9360cb2",
   "metadata": {},
   "outputs": [],
   "source": [
    "model = model.transform(InferShapes())"
   ]
  },
  {
   "cell_type": "code",
   "execution_count": 24,
   "id": "7dd661fe-f271-4c28-a50d-a98a08a3d357",
   "metadata": {},
   "outputs": [],
   "source": [
    "prune_first_conv = prune_folder + \"02_prune_first_conv.onnx\"\n",
    "model.save(prune_first_conv)"
   ]
  },
  {
   "cell_type": "code",
   "execution_count": 25,
   "id": "f97aa9ea-9909-4671-b2e3-ad3f608293b9",
   "metadata": {},
   "outputs": [
    {
     "name": "stdout",
     "output_type": "stream",
     "text": [
      "Stopping http://0.0.0.0:8083\n",
      "Serving './manual_prune/02_prune_first_conv.onnx' at http://0.0.0.0:8083\n"
     ]
    },
    {
     "data": {
      "text/html": [
       "\n",
       "        <iframe\n",
       "            width=\"100%\"\n",
       "            height=\"400\"\n",
       "            src=\"http://localhost:8083/\"\n",
       "            frameborder=\"0\"\n",
       "            allowfullscreen\n",
       "            \n",
       "        ></iframe>\n",
       "        "
      ],
      "text/plain": [
       "<IPython.lib.display.IFrame at 0x7ff1c3ef7c40>"
      ]
     },
     "execution_count": 25,
     "metadata": {},
     "output_type": "execute_result"
    }
   ],
   "source": [
    "showInNetron(prune_first_conv)"
   ]
  },
  {
   "cell_type": "code",
   "execution_count": null,
   "id": "e592cb06-b7e1-4888-8aee-6c70f56e8c5a",
   "metadata": {},
   "outputs": [],
   "source": []
  },
  {
   "cell_type": "code",
   "execution_count": null,
   "id": "32d2d108-e203-460e-ad46-76916962ac5a",
   "metadata": {},
   "outputs": [],
   "source": []
  },
  {
   "cell_type": "code",
   "execution_count": 10,
   "id": "891a9b3e-fcb8-4d3d-a633-68c3abaf1503",
   "metadata": {},
   "outputs": [
    {
     "name": "stdout",
     "output_type": "stream",
     "text": [
      "(32, 3, 3, 3)\n",
      "(32, 1, 1, 1)\n"
     ]
    }
   ],
   "source": [
    "np_init_0 = model.get_initializer(\"Quant_0_param0\")\n",
    "np_init_1 = model.get_initializer(\"Quant_0_param1\")\n",
    "\n",
    "print(np_init_0.shape)\n",
    "print(np_init_1.shape)"
   ]
  },
  {
   "cell_type": "code",
   "execution_count": 11,
   "id": "4b2f55e0-1ae9-4519-abc7-9ca4f4f75228",
   "metadata": {},
   "outputs": [
    {
     "name": "stdout",
     "output_type": "stream",
     "text": [
      "[17]\n"
     ]
    }
   ],
   "source": [
    "np_init_1_abs = np.abs(np_init_1)\n",
    "zero_idx = np.where((np_init_1_abs < 1e-10) * (np_init_1_abs > 0))[0]\n",
    "print(zero_idx)\n",
    "# print(1-zero_idx)"
   ]
  },
  {
   "cell_type": "code",
   "execution_count": 12,
   "id": "a3b148fa-003d-43de-8c3b-c4352ca86d43",
   "metadata": {},
   "outputs": [
    {
     "name": "stdout",
     "output_type": "stream",
     "text": [
      "(1,)\n"
     ]
    }
   ],
   "source": [
    "print(zero_idx.shape)"
   ]
  },
  {
   "cell_type": "code",
   "execution_count": 13,
   "id": "cfed5b53-995e-4394-853d-4d78d475ddd7",
   "metadata": {},
   "outputs": [
    {
     "name": "stdout",
     "output_type": "stream",
     "text": [
      "(1,)\n",
      "(1, 3, 3, 3)\n"
     ]
    }
   ],
   "source": [
    "print(zero_idx.shape)\n",
    "new_np_init_0 = np_init_0[zero_idx]\n",
    "print(new_np_init_0.shape)"
   ]
  },
  {
   "cell_type": "code",
   "execution_count": 14,
   "id": "0bf85274-8903-4281-b4f9-ab7b0c76753f",
   "metadata": {},
   "outputs": [
    {
     "name": "stdout",
     "output_type": "stream",
     "text": [
      "[ 0  1  2  3  4  5  6  7  8  9 10 11 12 13 14 15 16 18 19 20 21 22 23 24\n",
      " 25 26 27 28 29 30 31]\n"
     ]
    }
   ],
   "source": [
    "non_zero_idx = np.where(np_init_1_abs > 1e-10)[0]\n",
    "print(non_zero_idx)\n",
    "# print(1-zero_idx)"
   ]
  },
  {
   "cell_type": "code",
   "execution_count": 15,
   "id": "982071c2-b540-4d74-adfb-ce0fc6e61111",
   "metadata": {},
   "outputs": [
    {
     "name": "stdout",
     "output_type": "stream",
     "text": [
      "(31, 3, 3, 3)\n",
      "(31, 1, 1, 1)\n"
     ]
    }
   ],
   "source": [
    "new_np_init_0 = np_init_0[non_zero_idx]\n",
    "print(new_np_init_0.shape)\n",
    "new_np_init_1 = np_init_1[non_zero_idx]\n",
    "print(new_np_init_1.shape)"
   ]
  },
  {
   "cell_type": "code",
   "execution_count": 16,
   "id": "b5d025e4-22ce-4ddb-9295-e8fd9a01a479",
   "metadata": {},
   "outputs": [],
   "source": [
    "model.set_initializer(\n",
    "    tensor_name = \"Quant_0_param0\", \n",
    "    tensor_value = new_np_init_0)"
   ]
  },
  {
   "cell_type": "code",
   "execution_count": 17,
   "id": "c741ef22-5cb1-415f-bd14-4ff496f2f40b",
   "metadata": {},
   "outputs": [],
   "source": [
    "model.set_initializer(\n",
    "    tensor_name = \"Quant_0_param1\", \n",
    "    tensor_value = new_np_init_1)"
   ]
  },
  {
   "cell_type": "code",
   "execution_count": 18,
   "id": "97616a33-be12-492e-a3ec-7dd5b426fd20",
   "metadata": {},
   "outputs": [
    {
     "name": "stdout",
     "output_type": "stream",
     "text": [
      "32 3 3 3\n",
      "(31, 3, 3, 3)\n"
     ]
    }
   ],
   "source": [
    "node_q0 = model.get_node_from_name(\"Quant_0\")\n",
    "ch, k, w, h = model.get_tensor_shape(node_q0.output[0])\n",
    "print(ch, k, w, h)\n",
    "new_ch = new_np_init_0.shape[0]\n",
    "new_shape = (new_ch, k, w, h)\n",
    "print(new_shape)"
   ]
  },
  {
   "cell_type": "code",
   "execution_count": 19,
   "id": "9d6ba7b6-56ab-4f0d-9b42-cd2617aeb5ed",
   "metadata": {},
   "outputs": [],
   "source": [
    "model.set_tensor_shape(node_q0.output[0], new_shape)"
   ]
  },
  {
   "cell_type": "code",
   "execution_count": 20,
   "id": "16b79aca-c4e8-47e9-afc6-0d5187a16524",
   "metadata": {},
   "outputs": [
    {
     "name": "stdout",
     "output_type": "stream",
     "text": [
      "1 32 112 112\n",
      "(1, 31, 112, 112)\n"
     ]
    }
   ],
   "source": [
    "node_conv0 = model.get_node_from_name(\"Conv_0\")\n",
    "batch, ch, w, h = model.get_tensor_shape(node_conv0.output[0])\n",
    "print(batch, ch, w, h)\n",
    "new_ch = new_np_init_0.shape[0]\n",
    "new_shape = (batch, new_ch, w, h)\n",
    "print(new_shape)"
   ]
  },
  {
   "cell_type": "code",
   "execution_count": 21,
   "id": "b7077cf1-43ed-49cf-8b12-2a64ec8e4eb5",
   "metadata": {},
   "outputs": [],
   "source": [
    "model.set_tensor_shape(node_conv0.output[0], new_shape)"
   ]
  },
  {
   "cell_type": "code",
   "execution_count": null,
   "id": "5010849e-702d-4d57-a879-25431ffabbca",
   "metadata": {},
   "outputs": [],
   "source": []
  },
  {
   "cell_type": "code",
   "execution_count": 22,
   "id": "ff14778a-2f5f-4964-98b2-f21312d76ce6",
   "metadata": {},
   "outputs": [],
   "source": [
    "prune_first_conv = prune_folder + \"manual_prune_first_conv.onnx\"\n",
    "model.save(prune_first_conv)"
   ]
  },
  {
   "cell_type": "code",
   "execution_count": 23,
   "id": "f2ecfea9-3d6a-4c74-a941-ce36a505f2ce",
   "metadata": {},
   "outputs": [
    {
     "name": "stdout",
     "output_type": "stream",
     "text": [
      "Stopping http://0.0.0.0:8083\n",
      "Serving './manual_prune/manual_prune_first_conv.onnx' at http://0.0.0.0:8083\n"
     ]
    },
    {
     "data": {
      "text/html": [
       "\n",
       "        <iframe\n",
       "            width=\"100%\"\n",
       "            height=\"400\"\n",
       "            src=\"http://localhost:8083/\"\n",
       "            frameborder=\"0\"\n",
       "            allowfullscreen\n",
       "            \n",
       "        ></iframe>\n",
       "        "
      ],
      "text/plain": [
       "<IPython.lib.display.IFrame at 0x7fba94068910>"
      ]
     },
     "execution_count": 23,
     "metadata": {},
     "output_type": "execute_result"
    }
   ],
   "source": [
    "showInNetron(prune_first_conv)"
   ]
  },
  {
   "cell_type": "code",
   "execution_count": null,
   "id": "049ce0f6-fd12-4c50-a7f4-6005bf72ce9d",
   "metadata": {},
   "outputs": [],
   "source": []
  },
  {
   "cell_type": "code",
   "execution_count": 26,
   "id": "ce3ae694-ee4b-4e07-845b-95cf3de7d3a7",
   "metadata": {},
   "outputs": [
    {
     "name": "stdout",
     "output_type": "stream",
     "text": [
      "(32,)\n",
      "(32,)\n",
      "(32,)\n",
      "(32,)\n"
     ]
    }
   ],
   "source": [
    "np_init_bn0 = model.get_initializer(\"BatchNormalization_0_param0\")\n",
    "np_init_bn1 = model.get_initializer(\"BatchNormalization_0_param1\")\n",
    "np_init_bn2 = model.get_initializer(\"BatchNormalization_0_param2\")\n",
    "np_init_bn3 = model.get_initializer(\"BatchNormalization_0_param3\")\n",
    "\n",
    "print(np_init_bn0.shape)\n",
    "print(np_init_bn1.shape)\n",
    "print(np_init_bn2.shape)\n",
    "print(np_init_bn3.shape)"
   ]
  },
  {
   "cell_type": "code",
   "execution_count": 27,
   "id": "7fa9e0d2-4726-48bf-b711-f361df787328",
   "metadata": {},
   "outputs": [
    {
     "name": "stdout",
     "output_type": "stream",
     "text": [
      "[17]\n"
     ]
    }
   ],
   "source": [
    "np_init_bn0_abs = np.abs(np_init_bn0)\n",
    "zero_idx = np.where((np_init_bn0_abs < 1e-10) * (np_init_bn0_abs > 0))[0]\n",
    "print(zero_idx)\n",
    "# print(1-zero_idx)"
   ]
  },
  {
   "cell_type": "code",
   "execution_count": 28,
   "id": "3eb25b35-bd56-4e0c-8e0e-dd4e6218696d",
   "metadata": {},
   "outputs": [
    {
     "name": "stdout",
     "output_type": "stream",
     "text": [
      "[ 0  1  2  3  4  5  6  7  8  9 10 11 12 13 14 15 16 18 19 20 21 22 23 24\n",
      " 25 26 27 28 29 30 31]\n"
     ]
    }
   ],
   "source": [
    "non_zero_idx = np.where(np_init_bn0_abs > 1e-10)[0]\n",
    "print(non_zero_idx)\n",
    "# print(1-zero_idx)"
   ]
  },
  {
   "cell_type": "code",
   "execution_count": 29,
   "id": "0318fa25-43e0-4866-bf0a-9cb33cdc7853",
   "metadata": {},
   "outputs": [
    {
     "name": "stdout",
     "output_type": "stream",
     "text": [
      "(31,)\n",
      "(31,)\n",
      "(31,)\n",
      "(31,)\n"
     ]
    }
   ],
   "source": [
    "new_np_init_bn0 = np_init_bn0[non_zero_idx]\n",
    "print(new_np_init_bn0.shape)\n",
    "new_np_init_bn1 = np_init_bn1[non_zero_idx]\n",
    "print(new_np_init_bn1.shape)\n",
    "new_np_init_bn2 = np_init_bn2[non_zero_idx]\n",
    "print(new_np_init_bn2.shape)\n",
    "new_np_init_bn3 = np_init_bn3[non_zero_idx]\n",
    "print(new_np_init_bn3.shape)"
   ]
  },
  {
   "cell_type": "code",
   "execution_count": 30,
   "id": "79ea0acf-cf24-498f-9da0-870d1daf7602",
   "metadata": {},
   "outputs": [],
   "source": [
    "model.set_initializer(\n",
    "    tensor_name = \"BatchNormalization_0_param0\", \n",
    "    tensor_value = new_np_init_bn0)\n",
    "model.set_initializer(\n",
    "    tensor_name = \"BatchNormalization_0_param1\", \n",
    "    tensor_value = new_np_init_bn1)\n",
    "model.set_initializer(\n",
    "    tensor_name = \"BatchNormalization_0_param2\", \n",
    "    tensor_value = new_np_init_bn2)\n",
    "model.set_initializer(\n",
    "    tensor_name = \"BatchNormalization_0_param3\", \n",
    "    tensor_value = new_np_init_bn3)"
   ]
  },
  {
   "cell_type": "code",
   "execution_count": 32,
   "id": "8dc655d0-09e1-4cd8-8272-006f1c74e023",
   "metadata": {},
   "outputs": [
    {
     "name": "stdout",
     "output_type": "stream",
     "text": [
      "1 32 112 112\n",
      "(1, 31, 112, 112)\n"
     ]
    }
   ],
   "source": [
    "node_bn0 = model.get_node_from_name(\"BatchNormalization_0\")\n",
    "batch, ch, w, h = model.get_tensor_shape(node_bn0.output[0])\n",
    "print(batch, ch, w, h)\n",
    "new_ch = new_np_init_bn0.shape[0]\n",
    "new_shape = (batch, new_ch, w, h)\n",
    "print(new_shape)"
   ]
  },
  {
   "cell_type": "code",
   "execution_count": 33,
   "id": "3a72644e-e746-41de-b6b7-29fa8bf739d4",
   "metadata": {},
   "outputs": [],
   "source": [
    "model.set_tensor_shape(node_bn0.output[0], new_shape)"
   ]
  },
  {
   "cell_type": "code",
   "execution_count": 34,
   "id": "cc087fdb-84f9-440a-98ed-b8ca059c2cad",
   "metadata": {},
   "outputs": [],
   "source": [
    "prune_first_conv = prune_folder + \"01_manual_prune_first_conv.onnx\"\n",
    "model.save(prune_first_conv)"
   ]
  },
  {
   "cell_type": "code",
   "execution_count": 35,
   "id": "1d97bea6-c89c-4bc8-9dd1-55a2fc00e9cf",
   "metadata": {},
   "outputs": [
    {
     "name": "stdout",
     "output_type": "stream",
     "text": [
      "Stopping http://0.0.0.0:8083\n",
      "Serving './manual_prune/01_manual_prune_first_conv.onnx' at http://0.0.0.0:8083\n"
     ]
    },
    {
     "data": {
      "text/html": [
       "\n",
       "        <iframe\n",
       "            width=\"100%\"\n",
       "            height=\"400\"\n",
       "            src=\"http://localhost:8083/\"\n",
       "            frameborder=\"0\"\n",
       "            allowfullscreen\n",
       "            \n",
       "        ></iframe>\n",
       "        "
      ],
      "text/plain": [
       "<IPython.lib.display.IFrame at 0x7fba43de6080>"
      ]
     },
     "execution_count": 35,
     "metadata": {},
     "output_type": "execute_result"
    }
   ],
   "source": [
    "showInNetron(prune_first_conv)"
   ]
  },
  {
   "cell_type": "code",
   "execution_count": 36,
   "id": "3a0df16f-f309-4c84-9187-d69cb72e90e5",
   "metadata": {},
   "outputs": [
    {
     "name": "stdout",
     "output_type": "stream",
     "text": [
      "1 32 112 112\n",
      "(1, 31, 112, 112)\n"
     ]
    }
   ],
   "source": [
    "node_relu0 = model.get_node_from_name(\"Relu_0\")\n",
    "batch, ch, w, h = model.get_tensor_shape(node_relu0.output[0])\n",
    "print(batch, ch, w, h)\n",
    "new_ch = new_np_init_bn0.shape[0]\n",
    "new_shape = (batch, new_ch, w, h)\n",
    "print(new_shape)"
   ]
  },
  {
   "cell_type": "code",
   "execution_count": 37,
   "id": "f01e7f68-323f-46a0-92fb-7bc035e12209",
   "metadata": {},
   "outputs": [],
   "source": [
    "model.set_tensor_shape(node_relu0.output[0], new_shape)"
   ]
  },
  {
   "cell_type": "code",
   "execution_count": 41,
   "id": "263869e0-9901-49bb-acf3-5feff854ab95",
   "metadata": {},
   "outputs": [
    {
     "name": "stdout",
     "output_type": "stream",
     "text": [
      "1 32 112 112\n",
      "(1, 31, 112, 112)\n"
     ]
    }
   ],
   "source": [
    "node_q34 = model.get_node_from_name(\"Quant_34\")\n",
    "batch, ch, w, h = model.get_tensor_shape(node_q34.output[0])\n",
    "print(batch, ch, w, h)\n",
    "new_ch = new_np_init_bn0.shape[0]\n",
    "new_shape = (batch, new_ch, w, h)\n",
    "print(new_shape)"
   ]
  },
  {
   "cell_type": "code",
   "execution_count": 42,
   "id": "5d379ed8-f376-4312-a13e-7975c7d0911d",
   "metadata": {},
   "outputs": [],
   "source": [
    "model.set_tensor_shape(node_q34.output[0], new_shape)"
   ]
  },
  {
   "cell_type": "code",
   "execution_count": 43,
   "id": "45858772-8f59-4cb5-90dd-35dbd59fbe10",
   "metadata": {},
   "outputs": [],
   "source": [
    "prune_first_conv = prune_folder + \"02_manual_prune_first_conv.onnx\"\n",
    "model.save(prune_first_conv)"
   ]
  },
  {
   "cell_type": "code",
   "execution_count": 44,
   "id": "6dd58c6d-ffa8-4fbf-91a9-f70674230561",
   "metadata": {},
   "outputs": [
    {
     "name": "stdout",
     "output_type": "stream",
     "text": [
      "Stopping http://0.0.0.0:8083\n",
      "Serving './manual_prune/02_manual_prune_first_conv.onnx' at http://0.0.0.0:8083\n"
     ]
    },
    {
     "data": {
      "text/html": [
       "\n",
       "        <iframe\n",
       "            width=\"100%\"\n",
       "            height=\"400\"\n",
       "            src=\"http://localhost:8083/\"\n",
       "            frameborder=\"0\"\n",
       "            allowfullscreen\n",
       "            \n",
       "        ></iframe>\n",
       "        "
      ],
      "text/plain": [
       "<IPython.lib.display.IFrame at 0x7fba940688b0>"
      ]
     },
     "execution_count": 44,
     "metadata": {},
     "output_type": "execute_result"
    }
   ],
   "source": [
    "showInNetron(prune_first_conv)"
   ]
  },
  {
   "cell_type": "code",
   "execution_count": null,
   "id": "311eeb81-1910-4980-a39d-6e3dc52cb45c",
   "metadata": {},
   "outputs": [],
   "source": []
  },
  {
   "cell_type": "code",
   "execution_count": 45,
   "id": "6d7cffd3-cc7e-4278-9943-c7eb5d11270f",
   "metadata": {},
   "outputs": [],
   "source": [
    "model = model.transform(InferShapes())"
   ]
  },
  {
   "cell_type": "code",
   "execution_count": 46,
   "id": "c7affc3d-5c60-4a15-af38-baa3f5537820",
   "metadata": {},
   "outputs": [],
   "source": [
    "prune_first_conv = prune_folder + \"03_manual_prune_first_conv.onnx\"\n",
    "model.save(prune_first_conv)"
   ]
  },
  {
   "cell_type": "code",
   "execution_count": 17,
   "id": "2a634188-c8aa-4ae0-804a-f216e3a165a9",
   "metadata": {},
   "outputs": [
    {
     "name": "stdout",
     "output_type": "stream",
     "text": [
      "Stopping http://0.0.0.0:8083\n",
      "Serving './manual_prune/01_prune_first_conv.onnx' at http://0.0.0.0:8083\n"
     ]
    },
    {
     "data": {
      "text/html": [
       "\n",
       "        <iframe\n",
       "            width=\"100%\"\n",
       "            height=\"400\"\n",
       "            src=\"http://localhost:8083/\"\n",
       "            frameborder=\"0\"\n",
       "            allowfullscreen\n",
       "            \n",
       "        ></iframe>\n",
       "        "
      ],
      "text/plain": [
       "<IPython.lib.display.IFrame at 0x7f9067f8ebf0>"
      ]
     },
     "execution_count": 17,
     "metadata": {},
     "output_type": "execute_result"
    }
   ],
   "source": [
    "showInNetron(prune_first_conv)"
   ]
  },
  {
   "cell_type": "code",
   "execution_count": null,
   "id": "58e479a4-beb9-4f89-a7fe-0fa9b0d09ebe",
   "metadata": {},
   "outputs": [],
   "source": []
  },
  {
   "cell_type": "code",
   "execution_count": null,
   "id": "5a446217-32f2-48ca-9769-70e557d5aded",
   "metadata": {},
   "outputs": [],
   "source": []
  },
  {
   "cell_type": "code",
   "execution_count": null,
   "id": "01a31a58-ea4a-4d30-88de-8598ee729102",
   "metadata": {},
   "outputs": [],
   "source": []
  },
  {
   "cell_type": "code",
   "execution_count": 27,
   "id": "c060580d-50d3-4d00-a412-206904b198fc",
   "metadata": {},
   "outputs": [
    {
     "ename": "InferenceError",
     "evalue": "[ShapeInferenceError] (op_type:Conv, node name: Conv_0): [ShapeInferenceError] Inferred shape and existing shape differ in dimension 1: (31) vs (32)",
     "output_type": "error",
     "traceback": [
      "\u001b[0;31m---------------------------------------------------------------------------\u001b[0m",
      "\u001b[0;31mInferenceError\u001b[0m                            Traceback (most recent call last)",
      "Cell \u001b[0;32mIn[27], line 1\u001b[0m\n\u001b[0;32m----> 1\u001b[0m model \u001b[38;5;241m=\u001b[39m \u001b[43mmodel\u001b[49m\u001b[38;5;241;43m.\u001b[39;49m\u001b[43mtransform\u001b[49m\u001b[43m(\u001b[49m\u001b[43mInferShapes\u001b[49m\u001b[43m(\u001b[49m\u001b[43m)\u001b[49m\u001b[43m)\u001b[49m\n",
      "File \u001b[0;32m/home/gmoreno/uav/finn/deps/qonnx/src/qonnx/core/modelwrapper.py:140\u001b[0m, in \u001b[0;36mModelWrapper.transform\u001b[0;34m(self, transformation, make_deepcopy, cleanup)\u001b[0m\n\u001b[1;32m    138\u001b[0m model_was_changed \u001b[38;5;241m=\u001b[39m \u001b[38;5;28;01mTrue\u001b[39;00m\n\u001b[1;32m    139\u001b[0m \u001b[38;5;28;01mwhile\u001b[39;00m model_was_changed:\n\u001b[0;32m--> 140\u001b[0m     (transformed_model, model_was_changed) \u001b[38;5;241m=\u001b[39m \u001b[43mtransformation\u001b[49m\u001b[38;5;241;43m.\u001b[39;49m\u001b[43mapply\u001b[49m\u001b[43m(\u001b[49m\u001b[43mtransformed_model\u001b[49m\u001b[43m)\u001b[49m\n\u001b[1;32m    141\u001b[0m \u001b[38;5;28;01mif\u001b[39;00m cleanup:\n\u001b[1;32m    142\u001b[0m     transformed_model\u001b[38;5;241m.\u001b[39mcleanup()\n",
      "File \u001b[0;32m/home/gmoreno/uav/finn/deps/qonnx/src/qonnx/transformation/infer_shapes.py:90\u001b[0m, in \u001b[0;36mInferShapes.apply\u001b[0;34m(self, model)\u001b[0m\n\u001b[1;32m     88\u001b[0m hidden_ops \u001b[38;5;241m=\u001b[39m _hide_finn_ops(model)\n\u001b[1;32m     89\u001b[0m \u001b[38;5;66;03m# call regular ONNX shape inference\u001b[39;00m\n\u001b[0;32m---> 90\u001b[0m model \u001b[38;5;241m=\u001b[39m ModelWrapper(\u001b[43msi\u001b[49m\u001b[38;5;241;43m.\u001b[39;49m\u001b[43minfer_shapes\u001b[49m\u001b[43m(\u001b[49m\u001b[43mmodel\u001b[49m\u001b[38;5;241;43m.\u001b[39;49m\u001b[43mmodel\u001b[49m\u001b[43m)\u001b[49m)\n\u001b[1;32m     91\u001b[0m \u001b[38;5;66;03m# bring back hidden ops\u001b[39;00m\n\u001b[1;32m     92\u001b[0m _restore_finn_ops(model, hidden_ops)\n",
      "File \u001b[0;32m/usr/local/lib/python3.10/dist-packages/onnx/shape_inference.py:40\u001b[0m, in \u001b[0;36minfer_shapes\u001b[0;34m(model, check_type, strict_mode, data_prop)\u001b[0m\n\u001b[1;32m     38\u001b[0m \u001b[38;5;28;01mif\u001b[39;00m \u001b[38;5;28misinstance\u001b[39m(model, (ModelProto, \u001b[38;5;28mbytes\u001b[39m)):\n\u001b[1;32m     39\u001b[0m     model_str \u001b[38;5;241m=\u001b[39m model \u001b[38;5;28;01mif\u001b[39;00m \u001b[38;5;28misinstance\u001b[39m(model, \u001b[38;5;28mbytes\u001b[39m) \u001b[38;5;28;01melse\u001b[39;00m model\u001b[38;5;241m.\u001b[39mSerializeToString()\n\u001b[0;32m---> 40\u001b[0m     inferred_model_str \u001b[38;5;241m=\u001b[39m \u001b[43mC\u001b[49m\u001b[38;5;241;43m.\u001b[39;49m\u001b[43minfer_shapes\u001b[49m\u001b[43m(\u001b[49m\n\u001b[1;32m     41\u001b[0m \u001b[43m        \u001b[49m\u001b[43mmodel_str\u001b[49m\u001b[43m,\u001b[49m\u001b[43m \u001b[49m\u001b[43mcheck_type\u001b[49m\u001b[43m,\u001b[49m\u001b[43m \u001b[49m\u001b[43mstrict_mode\u001b[49m\u001b[43m,\u001b[49m\u001b[43m \u001b[49m\u001b[43mdata_prop\u001b[49m\n\u001b[1;32m     42\u001b[0m \u001b[43m    \u001b[49m\u001b[43m)\u001b[49m\n\u001b[1;32m     43\u001b[0m     \u001b[38;5;28;01mreturn\u001b[39;00m onnx\u001b[38;5;241m.\u001b[39mload_from_string(inferred_model_str)\n\u001b[1;32m     44\u001b[0m \u001b[38;5;28;01melif\u001b[39;00m \u001b[38;5;28misinstance\u001b[39m(model, \u001b[38;5;28mstr\u001b[39m):\n",
      "\u001b[0;31mInferenceError\u001b[0m: [ShapeInferenceError] (op_type:Conv, node name: Conv_0): [ShapeInferenceError] Inferred shape and existing shape differ in dimension 1: (31) vs (32)"
     ]
    }
   ],
   "source": [
    "model = model.transform(InferShapes())"
   ]
  },
  {
   "cell_type": "code",
   "execution_count": null,
   "id": "c0d2b304-c242-4013-9670-d3b4b8f5b1c8",
   "metadata": {},
   "outputs": [],
   "source": []
  },
  {
   "cell_type": "code",
   "execution_count": 76,
   "id": "c8ec2c93-227d-43d2-866e-b2753f4cb777",
   "metadata": {},
   "outputs": [],
   "source": [
    "model.save(\"manual_prune_test.onnx\")"
   ]
  },
  {
   "cell_type": "code",
   "execution_count": 77,
   "id": "277ffca6-465f-469c-af58-d4f8bbda8c5e",
   "metadata": {},
   "outputs": [
    {
     "name": "stdout",
     "output_type": "stream",
     "text": [
      "Stopping http://0.0.0.0:8083\n",
      "Serving 'manual_prune_test.onnx' at http://0.0.0.0:8083\n"
     ]
    },
    {
     "data": {
      "text/html": [
       "\n",
       "        <iframe\n",
       "            width=\"100%\"\n",
       "            height=\"400\"\n",
       "            src=\"http://localhost:8083/\"\n",
       "            frameborder=\"0\"\n",
       "            allowfullscreen\n",
       "            \n",
       "        ></iframe>\n",
       "        "
      ],
      "text/plain": [
       "<IPython.lib.display.IFrame at 0x7fc1a408e650>"
      ]
     },
     "execution_count": 77,
     "metadata": {},
     "output_type": "execute_result"
    }
   ],
   "source": [
    "showInNetron(\"manual_prune_test.onnx\")"
   ]
  },
  {
   "cell_type": "code",
   "execution_count": null,
   "id": "d721bddd-6774-49ce-9b56-78b488c79442",
   "metadata": {},
   "outputs": [],
   "source": []
  }
 ],
 "metadata": {
  "kernelspec": {
   "display_name": "Python 3 (ipykernel)",
   "language": "python",
   "name": "python3"
  },
  "language_info": {
   "codemirror_mode": {
    "name": "ipython",
    "version": 3
   },
   "file_extension": ".py",
   "mimetype": "text/x-python",
   "name": "python",
   "nbconvert_exporter": "python",
   "pygments_lexer": "ipython3",
   "version": "3.10.12"
  }
 },
 "nbformat": 4,
 "nbformat_minor": 5
}
